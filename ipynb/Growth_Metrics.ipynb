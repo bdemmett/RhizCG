{
 "cells": [
  {
   "cell_type": "markdown",
   "metadata": {},
   "source": [
    "# N uptake analysis for RhizCG 2013"
   ]
  },
  {
   "cell_type": "markdown",
   "metadata": {},
   "source": [
    "## Set Variables"
   ]
  },
  {
   "cell_type": "code",
   "execution_count": 1,
   "metadata": {
    "collapsed": true
   },
   "outputs": [],
   "source": [
    "workDir = '/home/bryan/RhizCG/figures/'\n",
    "fullData = '/home/bryan/RhizCG/data/MiSeq_amplicon/PlotData.txt'"
   ]
  },
  {
   "cell_type": "markdown",
   "metadata": {},
   "source": [
    "#Init"
   ]
  },
  {
   "cell_type": "code",
   "execution_count": 2,
   "metadata": {
    "collapsed": false
   },
   "outputs": [],
   "source": [
    "%load_ext rpy2.ipython"
   ]
  },
  {
   "cell_type": "code",
   "execution_count": 13,
   "metadata": {
    "collapsed": false
   },
   "outputs": [
    {
     "name": "stderr",
     "output_type": "stream",
     "text": [
      "/opt/anaconda2/lib/python2.7/site-packages/rpy2/rinterface/__init__.py:185: RRuntimeWarning: \n",
      "Attaching package: ‘dplyr’\n",
      "\n",
      "\n",
      "  warnings.warn(x, RRuntimeWarning)\n",
      "/opt/anaconda2/lib/python2.7/site-packages/rpy2/rinterface/__init__.py:185: RRuntimeWarning: The following objects are masked from ‘package:stats’:\n",
      "\n",
      "    filter, lag\n",
      "\n",
      "\n",
      "  warnings.warn(x, RRuntimeWarning)\n",
      "/opt/anaconda2/lib/python2.7/site-packages/rpy2/rinterface/__init__.py:185: RRuntimeWarning: The following objects are masked from ‘package:base’:\n",
      "\n",
      "    intersect, setdiff, setequal, union\n",
      "\n",
      "\n",
      "  warnings.warn(x, RRuntimeWarning)\n",
      "/opt/anaconda2/lib/python2.7/site-packages/rpy2/rinterface/__init__.py:185: RRuntimeWarning: \n",
      "Attaching package: ‘gridExtra’\n",
      "\n",
      "\n",
      "  warnings.warn(x, RRuntimeWarning)\n",
      "/opt/anaconda2/lib/python2.7/site-packages/rpy2/rinterface/__init__.py:185: RRuntimeWarning: The following object is masked from ‘package:dplyr’:\n",
      "\n",
      "    combine\n",
      "\n",
      "\n",
      "  warnings.warn(x, RRuntimeWarning)\n"
     ]
    }
   ],
   "source": [
    "%%R\n",
    "library(lme4)\n",
    "#library(lmerTest)\n",
    "library(ggplot2)\n",
    "library(dplyr)\n",
    "library(pbkrtest)\n",
    "library(gridExtra)\n",
    "#library(multcomp)"
   ]
  },
  {
   "cell_type": "markdown",
   "metadata": {},
   "source": [
    "### Read plant master table "
   ]
  },
  {
   "cell_type": "code",
   "execution_count": 14,
   "metadata": {
    "collapsed": false
   },
   "outputs": [
    {
     "data": {
      "text/plain": [
       " [1] \"Unique\"             \"PlotID\"             \"Plant\"             \n",
       " [4] \"Plot\"               \"Treatment\"          \"Rep\"               \n",
       " [7] \"DAP\"                \"Sampling\"           \"PlantSample\"       \n",
       "[10] \"Type\"               \"Grass_Broad\"        \"Status\"            \n",
       "[13] \"Subfamily\"          \"Symbol_class\"       \"Plant_num\"         \n",
       "[16] \"Leaf_AreaBiomass_g\" \"Biomass_T\"          \"Biomass_P\"         \n",
       "[19] \"Leaf_Area_cm2\"      \"SLA\"                \"Leaf_N\"            \n",
       "[22] \"Leaf_C\"             \"LeafC_N\"            \"LNa\"               \n",
       "[25] \"Plant_N\"            \"Plant_C\"            \"Plant_CN\"          \n",
       "[28] \"d15N\"               \"tN_p\"               \"BX_act\"            \n",
       "[31] \"CB_act\"             \"LAP_act\"            \"NAG_act\"           \n",
       "[34] \"soil_dw\"            \"BX_activity_g\"      \"CB_activity_g\"     \n",
       "[37] \"LAP_activity_g\"     \"NAG_activity_g\"     \"BX_barefactor\"     \n",
       "[40] \"CB_barefactor\"      \"LAP_barefactor\"     \"NAG_barefactor\"    \n",
       "[43] \"BX_dif\"             \"CB_dif\"             \"LAP_dif\"           \n",
       "[46] \"NAG_dif\"            \"BX_rel\"             \"CB_rel\"            \n",
       "[49] \"LAP_rel\"            \"NAG_rel\"            \"NO3_ug_g\"          \n",
       "[52] \"NH4_ug_g\"           \"InorganicN\"         \"Resid_logB\"        \n",
       "[55] \"Resid_logN\"         \"Resid_logCN\"        \"Resid_logSLA\"      \n",
       "[58] \"Resid_LeafN\"        \"A_Resid_logB\"       \"A_Resid_logN\"      \n",
       "[61] \"A_Resid_logCN\"      \"M_Resid_logB\"       \"M_Resid_logN\"      \n",
       "[64] \"M_Resid_logCN\"     \n"
      ]
     },
     "metadata": {},
     "output_type": "display_data"
    }
   ],
   "source": [
    "%%R -i fullData -i workDir\n",
    "setwd(workDir)\n",
    "Master = read.table(fullData, header = TRUE)\n",
    "Master$Rep = as.factor(Master$Rep)\n",
    "colnames(Master)"
   ]
  },
  {
   "cell_type": "markdown",
   "metadata": {},
   "source": [
    "# Loop through dates to test for N uptake differences on a sampling date"
   ]
  },
  {
   "cell_type": "code",
   "execution_count": null,
   "metadata": {
    "collapsed": true
   },
   "outputs": [],
   "source": []
  },
  {
   "cell_type": "code",
   "execution_count": 15,
   "metadata": {
    "collapsed": false
   },
   "outputs": [
    {
     "data": {
      "text/plain": [
       "Source: local data frame [46 x 6]\n",
       "Groups: Plant [?]\n",
       "\n",
       "    Plant Treatment         N     st_dev           B      B.se\n",
       "   <fctr>    <fctr>     <dbl>      <dbl>       <dbl>     <dbl>\n",
       "1  75-062      Nneg 1.2180833 0.31876256 -0.21905200 0.1408799\n",
       "2  75-062      Npos 1.1363772 0.31101464 -0.31522690 0.3058215\n",
       "3   ABUTH      Nneg 1.2447473 0.15213099  0.08260322 0.1029025\n",
       "4   ABUTH      Npos 1.3027344 0.69225888  0.06161444 0.4344922\n",
       "5   AMAPO      Nneg 1.2339784 0.35356767  0.39436089 0.3689110\n",
       "6   AMAPO      Npos 2.1634450 0.45455468  0.74980416 0.2048923\n",
       "7     B73      Nneg 1.4658371 0.43831277 -0.09544085 0.1331802\n",
       "8     B73      Npos 2.1854472 0.36386498 -0.09514569 0.1961680\n",
       "9     B97      Nneg 1.2427987 0.37921594 -0.44661295 0.1181844\n",
       "10    B97      Npos 1.7268705 0.57992872 -0.35909658 0.2242555\n",
       "11   BARE      Nneg        NA         NA          NA        NA\n",
       "12   BARE      Npos        NA         NA          NA        NA\n",
       "13  ECHCG      Nneg 0.7626846 0.30846186  0.05961872 0.3524087\n",
       "14  ECHCG      Npos 1.3551215 0.38207815  0.66203657 0.2229364\n",
       "15  ELCOR      Nneg 3.0591305 1.33562535 -0.36837031 0.3670038\n",
       "16  ELCOR      Npos 3.4551155 1.24730669 -0.27618934 0.1985697\n",
       "17  ERATE      Nneg 1.0038014 0.28892936 -0.77321258 0.1773493\n",
       "18  ERATE      Npos 1.3586427 0.31562654 -0.57185749 0.2106974\n",
       "19  FAGES      Nneg 0.3163340 0.03535124  0.29787164 0.1111973\n",
       "20  FAGES      Npos 0.3991294 0.19024477  0.36576100 0.4969639\n",
       "21  GLYMA      Nneg 0.7137376 0.16816490 -0.56987268 0.2951668\n",
       "22  GLYMA      Npos 0.9111709 0.33358999 -0.55328712 0.4832355\n",
       "23    H99      Nneg 0.8675985 0.25093785 -0.72485932 0.1573646\n",
       "24    H99      Npos 1.2019782 0.30159827 -0.57075296 0.2457789\n",
       "25  HELAN      Nneg 2.5746194 0.56806171  0.27796523 0.1408487\n",
       "26  HELAN      Npos 5.5981065 1.91989330  0.68356548 0.2022441\n",
       "27  Hp301      Nneg 1.2193065 0.60668427 -0.66145787 0.4300971\n",
       "28  Hp301      Npos 1.4542677 0.23245645 -0.54139902 0.2041381\n",
       "29  Il14H      Nneg 1.0361753 0.15345871 -0.36032560 0.0712225\n",
       "30  Il14H      Npos 1.3612971 0.22115259 -0.21848403 0.1300074\n",
       "31    Ki3      Nneg 1.6799925 0.28487369 -0.62509536 0.1329363\n",
       "32    Ki3      Npos 2.4011081 0.58137914 -0.46451992 0.2141955\n",
       "33   Mo18      Nneg 1.7341239 0.48433181 -0.44649488 0.1171529\n",
       "34   Mo18      Npos 2.3557563 0.56640938 -0.34058251 0.1776189\n",
       "35   MS71      Nneg 1.3117430 0.63388136 -0.12452975 0.3143360\n",
       "36   MS71      Npos 1.3147391 0.40031360 -0.23078253 0.2091035\n",
       "37   Oh7B      Nneg 1.1717630 0.34524459 -0.41737561 0.2305518\n",
       "38   Oh7B      Npos 1.6369627 0.35535481 -0.31185585 0.2188385\n",
       "39  SETFA      Nneg 1.3012208 0.71755817  0.06432592 0.3586051\n",
       "40  SETFA      Npos 1.3766193 0.31563012  0.03958859 0.1741900\n",
       "41  SORBI      Nneg 2.7714198 0.74046039 -0.07730824 0.1496350\n",
       "42  SORBI      Npos 3.4561870 1.00524619 -0.06287592 0.2940697\n",
       "43 SORSUD      Nneg 3.2773691 1.69683035  0.32919799 0.4226876\n",
       "44 SORSUD      Npos 4.3765763 2.18257621  0.44061841 0.3216186\n",
       "45  Tx303      Nneg 1.1890932 0.28799833 -0.83759375 0.2626954\n",
       "46  Tx303      Npos 1.6073309 0.35398643 -0.53647051 0.2223612\n"
      ]
     },
     "metadata": {},
     "output_type": "display_data"
    }
   ],
   "source": [
    "%%R\n",
    "Master %>% group_by(Plant, Treatment) %>%\n",
    "        summarise(N = mean(tN_p),\n",
    "                 st_dev = sd(tN_p),\n",
    "                 B= mean(A_Resid_logB),\n",
    "                 B.se = sd(A_Resid_logB)) %>% print(n=60)"
   ]
  },
  {
   "cell_type": "markdown",
   "metadata": {},
   "source": [
    "# Biomass comparisons in a sampling day"
   ]
  },
  {
   "cell_type": "code",
   "execution_count": 16,
   "metadata": {
    "collapsed": false
   },
   "outputs": [
    {
     "data": {
      "text/plain": [
       "[1] \"53\"\n",
       "Analysis of Variance Table\n",
       "      Df Sum Sq Mean Sq F value\n",
       "Plant  1 317.71  317.71  1.6543\n",
       "[1] \"57\"\n",
       "Analysis of Variance Table\n",
       "      Df Sum Sq Mean Sq F value\n",
       "Plant  1 782.58  782.58  24.947\n",
       "[1] \"84\"\n",
       "Analysis of Variance Table\n",
       "      Df Sum Sq Mean Sq F value\n",
       "Plant  2  21649   10825  3.3005\n"
      ]
     },
     "metadata": {},
     "output_type": "display_data"
    }
   ],
   "source": [
    "%%R\n",
    "DATE = c(\"53\", \"57\", \"84\")\n",
    "data = filter(Master, Type != \"Maize\" & Treatment == \"Nneg\"| Plant == \"B73\" & Treatment == \"Nneg\")\n",
    "\n",
    "for(d in DATE){ \n",
    "    d %>% print\n",
    "    Sub = filter(data, DAP == d)\n",
    "\n",
    "   m = lmer(Biomass_P ~ Plant + (1|Rep) , \n",
    "           data = Sub, na.rm = TRUE)\n",
    "          #summary(m1) %>% print\n",
    "          anova(m, ddf=\"Kenward-Roger\", type=3) %>% print\n",
    "   \n",
    "}"
   ]
  },
  {
   "cell_type": "code",
   "execution_count": 17,
   "metadata": {
    "collapsed": false
   },
   "outputs": [
    {
     "data": {
      "text/plain": [
       "[1] \"53\"\n",
       "Analysis of Variance Table\n",
       "      Df Sum Sq Mean Sq F value\n",
       "Plant  1   47.8    47.8  0.3562\n",
       "[1] \"57\"\n",
       "Analysis of Variance Table\n",
       "      Df Sum Sq Mean Sq F value\n",
       "Plant  1 842.18  842.18   4.597\n",
       "[1] \"84\"\n",
       "Analysis of Variance Table\n",
       "      Df Sum Sq Mean Sq F value\n",
       "Plant  2  73199   36600  9.3478\n"
      ]
     },
     "metadata": {},
     "output_type": "display_data"
    }
   ],
   "source": [
    "%%R\n",
    "DATE = c(\"53\", \"57\", \"84\")\n",
    "data = filter(Master, Type != \"Maize\" & Treatment == \"Npos\"| Plant == \"B73\" & Treatment == \"Npos\")\n",
    "\n",
    "for(d in DATE){ \n",
    "    d %>% print\n",
    "    Sub = filter(data, DAP == d)\n",
    "\n",
    "   m = lmer(Biomass_P ~ Plant + (1|Rep) , \n",
    "           data = Sub, na.rm = TRUE)\n",
    "          #summary(m1) %>% print\n",
    "          anova(m, ddf=\"Kenward-Roger\", type=3) %>% print\n",
    "   \n",
    "}"
   ]
  },
  {
   "cell_type": "markdown",
   "metadata": {},
   "source": [
    "## N uptake comparisons"
   ]
  },
  {
   "cell_type": "code",
   "execution_count": 18,
   "metadata": {
    "collapsed": false
   },
   "outputs": [
    {
     "data": {
      "text/plain": [
       "[1] \"53\"\n",
       "Analysis of Variance Table\n",
       "      Df  Sum Sq Mean Sq F value\n",
       "Plant  1 0.44424 0.44424  4.0356\n",
       "[1] \"57\"\n",
       "Analysis of Variance Table\n",
       "      Df  Sum Sq Mean Sq F value\n",
       "Plant  1 0.56394 0.56394  22.724\n",
       "[1] \"84\"\n",
       "Analysis of Variance Table\n",
       "      Df Sum Sq Mean Sq F value\n",
       "Plant  2 1.0514 0.52571  0.8293\n"
      ]
     },
     "metadata": {},
     "output_type": "display_data"
    }
   ],
   "source": [
    "%%R\n",
    "DATE = c(\"53\", \"57\", \"84\")\n",
    "data = filter(Master, Type != \"Maize\" & Treatment == \"Nneg\"| Plant == \"B73\" & Treatment == \"Nneg\")\n",
    "\n",
    "for(d in DATE){ \n",
    "    d %>% print\n",
    "    Sub = filter(data, DAP == d)\n",
    "\n",
    "   m = lmer(tN_p ~ Plant + (1|Rep) , \n",
    "           data = Sub, na.rm = TRUE)\n",
    "          #summary(m1) %>% print\n",
    "          anova(m, ddf=\"Kenward-Roger\", type=3) %>% print\n",
    "   \n",
    "}\n",
    "     "
   ]
  },
  {
   "cell_type": "code",
   "execution_count": 19,
   "metadata": {
    "collapsed": false,
    "scrolled": false
   },
   "outputs": [
    {
     "data": {
      "text/plain": [
       "[1] \"53\"\n",
       "Analysis of Variance Table\n",
       "      Df Sum Sq Mean Sq F value\n",
       "Plant  1 1.3068  1.3068  7.4121\n",
       "[1] \"57\"\n",
       "Analysis of Variance Table\n",
       "      Df  Sum Sq Mean Sq F value\n",
       "Plant  1 0.30664 0.30664  1.8992\n",
       "[1] \"84\"\n",
       "Analysis of Variance Table\n",
       "      Df Sum Sq Mean Sq F value\n",
       "Plant  2 9.2361   4.618  2.1392\n"
      ]
     },
     "metadata": {},
     "output_type": "display_data"
    }
   ],
   "source": [
    "%%R\n",
    "DATE = c(\"53\", \"57\", \"84\")\n",
    "data = filter(Master, Type != \"Maize\" & Treatment == \"Npos\"| Plant == \"B73\" & Treatment == \"Npos\")\n",
    "\n",
    "for(d in DATE){ \n",
    "    d %>% print\n",
    "    Sub = filter(data, DAP == d)\n",
    "\n",
    "   m = lmer(tN_p ~ Plant + (1|Rep) , \n",
    "           data = Sub, na.rm = TRUE)\n",
    "          #summary(m1) %>% print\n",
    "          anova(m, ddf=\"Kenward-Roger\", type=3) %>% print\n",
    "   \n",
    "}"
   ]
  },
  {
   "cell_type": "markdown",
   "metadata": {},
   "source": [
    "# Analysis of maize within a sampling date"
   ]
  },
  {
   "cell_type": "code",
   "execution_count": 20,
   "metadata": {
    "collapsed": false
   },
   "outputs": [
    {
     "data": {
      "text/plain": [
       "[1] \"Nneg\"\n",
       "[1] \"72\"\n",
       "Analysis of Variance Table\n",
       "      Df Sum Sq Mean Sq F value\n",
       "Plant  3 4496.5  1498.8  5.7042\n",
       "[1] \"79\"\n",
       "Analysis of Variance Table\n",
       "      Df Sum Sq Mean Sq F value\n",
       "Plant  3 6416.1  2138.7  4.0191\n",
       "[1] \"88\"\n",
       "Analysis of Variance Table\n",
       "      Df Sum Sq Mean Sq F value\n",
       "Plant  2 3417.7  1708.8  5.5156\n",
       "[1] \"Npos\"\n",
       "[1] \"72\"\n",
       "Analysis of Variance Table\n",
       "      Df Sum Sq Mean Sq F value\n",
       "Plant  3 1615.6  538.55  2.0207\n",
       "[1] \"79\"\n",
       "Analysis of Variance Table\n",
       "      Df Sum Sq Mean Sq F value\n",
       "Plant  3 5011.2  1670.4   3.209\n",
       "[1] \"88\"\n",
       "Analysis of Variance Table\n",
       "      Df Sum Sq Mean Sq F value\n",
       "Plant  2 1370.9  685.44  1.8662\n"
      ]
     },
     "metadata": {},
     "output_type": "display_data"
    }
   ],
   "source": [
    "%%R\n",
    "#Biomass\n",
    "print(\"Nneg\")\n",
    "DATE = c(\"72\", \"79\", \"88\")\n",
    "data = filter(Master, Type == \"Maize\" & Treatment == \"Nneg\")\n",
    "\n",
    "for(d in DATE){ \n",
    "    d %>% print\n",
    "    Sub = filter(data, DAP == d)\n",
    "\n",
    "   m = lmer(Biomass_P ~ Plant + (1|Rep) , \n",
    "           data = Sub, na.rm = TRUE)\n",
    "          #summary(m1) %>% print\n",
    "          anova(m, ddf=\"Kenward-Roger\", type=3) %>% print\n",
    "   \n",
    "}\n",
    "\n",
    "print(\"Npos\")\n",
    "DATE = c(\"72\", \"79\", \"88\")\n",
    "data = filter(Master, Type == \"Maize\" & Treatment == \"Npos\")\n",
    "\n",
    "for(d in DATE){ \n",
    "    d %>% print\n",
    "    Sub = filter(data, DAP == d)\n",
    "\n",
    "   m = lmer(Biomass_P ~ Plant + (1|Rep) , \n",
    "           data = Sub, na.rm = TRUE)\n",
    "          #summary(m1) %>% print\n",
    "          anova(m, ddf=\"Kenward-Roger\", type=3) %>% print\n",
    "   \n",
    "}"
   ]
  },
  {
   "cell_type": "code",
   "execution_count": 21,
   "metadata": {
    "collapsed": false
   },
   "outputs": [
    {
     "data": {
      "text/plain": [
       "[1] \"Nneg\"\n",
       "[1] \"72\"\n",
       "Analysis of Variance Table\n",
       "      Df  Sum Sq Mean Sq F value\n",
       "Plant  3 0.46632 0.15544  1.0569\n",
       "[1] \"79\"\n",
       "Analysis of Variance Table\n",
       "      Df  Sum Sq  Mean Sq F value\n",
       "Plant  3 0.20486 0.068287  0.3532\n",
       "[1] \"88\"\n",
       "Analysis of Variance Table\n",
       "      Df  Sum Sq Mean Sq F value\n",
       "Plant  2 0.72129 0.36065  2.8418\n",
       "[1] \"Npos\"\n",
       "[1] \"72\"\n",
       "Analysis of Variance Table\n",
       "      Df  Sum Sq  Mean Sq F value\n",
       "Plant  3 0.12697 0.042324  0.4266\n",
       "[1] \"79\"\n",
       "Analysis of Variance Table\n",
       "      Df Sum Sq Mean Sq F value\n",
       "Plant  3 1.1615 0.38717  2.3862\n",
       "[1] \"88\"\n",
       "Analysis of Variance Table\n",
       "      Df Sum Sq Mean Sq F value\n",
       "Plant  2 1.5897 0.79485  3.9918\n"
      ]
     },
     "metadata": {},
     "output_type": "display_data"
    }
   ],
   "source": [
    "%%R\n",
    "#N uptake\n",
    "print(\"Nneg\")\n",
    "DATE = c(\"72\", \"79\", \"88\")\n",
    "data = filter(Master, Type == \"Maize\" & Treatment == \"Nneg\")\n",
    "\n",
    "for(d in DATE){ \n",
    "    d %>% print\n",
    "    Sub = filter(data, DAP == d)\n",
    "\n",
    "   m = lmer(tN_p ~ Plant + (1|Rep) , \n",
    "           data = Sub, na.rm = TRUE)\n",
    "          #summary(m1) %>% print\n",
    "          anova(m, ddf=\"Kenward-Roger\", type=3) %>% print\n",
    "   \n",
    "}\n",
    "\n",
    "print(\"Npos\")\n",
    "DATE = c(\"72\", \"79\", \"88\")\n",
    "data = filter(Master, Type == \"Maize\" & Treatment == \"Npos\")\n",
    "\n",
    "for(d in DATE){ \n",
    "    d %>% print\n",
    "    Sub = filter(data, DAP == d)\n",
    "\n",
    "   m = lmer(tN_p ~ Plant + (1|Rep) , \n",
    "           data = Sub, na.rm = TRUE)\n",
    "          #summary(m1) %>% print\n",
    "          anova(m, ddf=\"Kenward-Roger\", type=3) %>% print\n",
    "   \n",
    "}"
   ]
  },
  {
   "cell_type": "markdown",
   "metadata": {},
   "source": [
    "# Analysis of growth residuals"
   ]
  },
  {
   "cell_type": "markdown",
   "metadata": {},
   "source": [
    "## Annuals - biomass"
   ]
  },
  {
   "cell_type": "code",
   "execution_count": 25,
   "metadata": {
    "collapsed": false
   },
   "outputs": [
    {
     "data": {
      "text/plain": [
       "     Plant Treatment A_Resid_logB\n",
       "1     BARE      Nneg           NA\n",
       "2     BARE      Npos           NA\n",
       "3    FAGES      Nneg  0.345822635\n",
       "4    FAGES      Npos -0.149317702\n",
       "5     BARE      Nneg           NA\n",
       "6     BARE      Npos           NA\n",
       "7    FAGES      Nneg  0.132136408\n",
       "8    FAGES      Npos  0.061297364\n",
       "9     BARE      Nneg           NA\n",
       "10    BARE      Npos           NA\n",
       "11   FAGES      Nneg  0.370736728\n",
       "12   FAGES      Npos  0.928976742\n",
       "13   FAGES      Nneg  0.342790798\n",
       "14   FAGES      Npos  0.622087610\n",
       "15    BARE      Nneg           NA\n",
       "16    BARE      Npos           NA\n",
       "17    BARE      Nneg           NA\n",
       "18    BARE      Npos           NA\n",
       "19   AMAPO      Nneg  0.580496943\n",
       "20   AMAPO      Npos  0.877816096\n",
       "21   ECHCG      Nneg -0.341870715\n",
       "22   ECHCG      Npos  0.600360913\n",
       "23    BARE      Nneg           NA\n",
       "24    BARE      Npos           NA\n",
       "25   AMAPO      Nneg  0.808584305\n",
       "26   AMAPO      Npos  0.857444746\n",
       "27   ECHCG      Nneg  0.075184886\n",
       "28   ECHCG      Npos  0.381298405\n",
       "29   AMAPO      Nneg  0.198685897\n",
       "30   AMAPO      Npos  0.444624070\n",
       "31    BARE      Nneg           NA\n",
       "32    BARE      Npos           NA\n",
       "33   ECHCG      Nneg -0.008830363\n",
       "34   ECHCG      Npos  0.895934940\n",
       "35   ECHCG      Nneg  0.513991062\n",
       "36   ECHCG      Npos  0.770552006\n",
       "37   AMAPO      Nneg -0.010323569\n",
       "38   AMAPO      Npos  0.819331741\n",
       "39    BARE      Nneg           NA\n",
       "40    BARE      Npos           NA\n",
       "41    BARE      Nneg           NA\n",
       "42    BARE      Npos           NA\n",
       "43   GLYMA      Nneg -0.907520237\n",
       "44   GLYMA      Npos -1.230421950\n",
       "45   ABUTH      Nneg  0.156091301\n",
       "46   ABUTH      Npos -0.048538975\n",
       "47   GLYMA      Nneg -0.695758378\n",
       "48   GLYMA      Npos -0.564645366\n",
       "49    BARE      Nneg           NA\n",
       "50    BARE      Npos           NA\n",
       "51   ABUTH      Nneg  0.162037692\n",
       "52   ABUTH      Npos -0.380937340\n",
       "53   GLYMA      Nneg -0.447846098\n",
       "54   GLYMA      Npos -0.159555310\n",
       "55    BARE      Nneg           NA\n",
       "56    BARE      Npos           NA\n",
       "57   ABUTH      Nneg -0.058525563\n",
       "58   ABUTH      Npos  0.017324705\n",
       "59   GLYMA      Nneg -0.228365996\n",
       "60   GLYMA      Npos -0.258525868\n",
       "61   ABUTH      Nneg  0.070809461\n",
       "62   ABUTH      Npos  0.658609368\n",
       "63    BARE      Nneg           NA\n",
       "64    BARE      Npos           NA\n",
       "65   SETFA      Nneg  0.569581567\n",
       "66   SETFA      Npos  0.105341642\n",
       "67    BARE      Nneg           NA\n",
       "68    BARE      Npos           NA\n",
       "69   SETFA      Nneg -0.070276169\n",
       "70   SETFA      Npos  0.227470110\n",
       "71    BARE      Nneg           NA\n",
       "72    BARE      Npos           NA\n",
       "73    BARE      Nneg           NA\n",
       "74    BARE      Npos           NA\n",
       "75   SETFA      Nneg -0.268817874\n",
       "76   SETFA      Npos -0.185305894\n",
       "77   SETFA      Nneg  0.026816159\n",
       "78   SETFA      Npos  0.010848498\n",
       "79    BARE      Nneg           NA\n",
       "80    BARE      Npos           NA\n",
       "81    BARE      Nneg           NA\n",
       "82    BARE      Npos           NA\n",
       "83   ERATE      Nneg -0.835381038\n",
       "84   ERATE      Npos -0.559251263\n",
       "85    BARE      Nneg           NA\n",
       "86    BARE      Npos           NA\n",
       "87   ERATE      Nneg -0.570230141\n",
       "88   ERATE      Npos -0.537729278\n",
       "89    BARE      Nneg           NA\n",
       "90    BARE      Npos           NA\n",
       "91   ERATE      Nneg -0.703303401\n",
       "92   ERATE      Npos -0.850924258\n",
       "93   ERATE      Nneg -0.983935732\n",
       "94   ERATE      Npos -0.339525164\n",
       "95    BARE      Nneg           NA\n",
       "96    BARE      Npos           NA\n",
       "97    BARE      Nneg           NA\n",
       "98    BARE      Npos           NA\n",
       "99     B73      Nneg -0.005706201\n",
       "100    B73      Npos -0.360349030\n",
       "101   BARE      Nneg           NA\n",
       "102   BARE      Npos           NA\n",
       "103    B73      Nneg -0.291036517\n",
       "104    B73      Npos -0.084768338\n",
       "105   BARE      Nneg           NA\n",
       "106   BARE      Npos           NA\n",
       "107    B73      Nneg -0.017038246\n",
       "108    B73      Npos -0.046906672\n",
       "109   BARE      Nneg           NA\n",
       "110   BARE      Npos           NA\n",
       "111    B73      Nneg -0.067982455\n",
       "112    B73      Npos  0.111441285\n",
       "113 SORSUD      Nneg  0.488255419\n",
       "114 SORSUD      Npos  0.670880478\n",
       "115   BARE      Nneg           NA\n",
       "116   BARE      Npos           NA\n",
       "117  SORBI      Nneg -0.024160412\n",
       "118  SORBI      Npos  0.164618121\n",
       "119  HELAN      Nneg  0.312746061\n",
       "120  HELAN      Npos  0.864511588\n",
       "121   BARE      Nneg           NA\n",
       "122   BARE      Npos           NA\n",
       "123  HELAN      Nneg  0.382854929\n",
       "124  HELAN      Npos  0.842120285\n",
       "125 SORSUD      Nneg  0.854247350\n",
       "126 SORSUD      Npos  0.747289818\n",
       "127  SORBI      Nneg  0.103375641\n",
       "128  SORBI      Npos -0.387042446\n",
       "129   BARE      Nneg           NA\n",
       "130   BARE      Npos           NA\n",
       "131  HELAN      Nneg  0.071108821\n",
       "132  HELAN      Npos  0.453829596\n",
       "133  SORBI      Nneg -0.240924684\n",
       "134  SORBI      Npos -0.235809584\n",
       "135 SORSUD      Nneg  0.009697974\n",
       "136 SORSUD      Npos  0.269872967\n",
       "137 SORSUD      Nneg -0.035408784\n",
       "138 SORSUD      Npos  0.074430375\n",
       "139  HELAN      Nneg  0.345151116\n",
       "140  HELAN      Npos  0.573800446\n",
       "141  SORBI      Nneg -0.147523509\n",
       "142  SORBI      Npos  0.206730247\n",
       "143   BARE      Nneg           NA\n",
       "144   BARE      Npos           NA\n",
       "145   BARE      Nneg           NA\n",
       "146   BARE      Npos           NA\n",
       "147  ELCOR      Nneg -0.680200888\n",
       "148  ELCOR      Npos -0.302880298\n",
       "149   BARE      Nneg           NA\n",
       "150   BARE      Npos           NA\n",
       "151  ELCOR      Nneg -0.010828519\n",
       "152  ELCOR      Npos -0.028677331\n",
       "153  ELCOR      Nneg -0.092933982\n",
       "154  ELCOR      Npos -0.260238882\n",
       "155   BARE      Nneg           NA\n",
       "156   BARE      Npos           NA\n",
       "157  ELCOR      Nneg -0.689517850\n",
       "158  ELCOR      Npos -0.512960833\n",
       "159   BARE      Nneg           NA\n",
       "160   BARE      Npos           NA\n"
      ]
     },
     "metadata": {},
     "output_type": "display_data"
    }
   ],
   "source": [
    "%%R\n",
    "data = filter(Master, Type != \"Maize\"  | Plant == \"B73\" )\n",
    " data %>% select(Plant, Treatment, A_Resid_logB)"
   ]
  },
  {
   "cell_type": "code",
   "execution_count": 28,
   "metadata": {
    "collapsed": false
   },
   "outputs": [
    {
     "data": {
      "text/plain": [
       "[1] 96 64\n",
       "Linear mixed model fit by REML ['lmerMod']\n",
       "Formula: A_Resid_logB ~ Plant + Treatment + Plant:Treatment + (1 | Rep) +  \n",
       "    (1 | Rep:Plant)\n",
       "   Data: data\n",
       "\n",
       "REML criterion at convergence: 54.9\n",
       "\n",
       "Scaled residuals: \n",
       "    Min      1Q  Median      3Q     Max \n",
       "-1.7309 -0.4500 -0.0938  0.5401  1.8944 \n",
       "\n",
       "Random effects:\n",
       " Groups    Name        Variance Std.Dev.\n",
       " Rep:Plant (Intercept) 0.03225  0.1796  \n",
       " Rep       (Intercept) 0.00000  0.0000  \n",
       " Residual              0.05309  0.2304  \n",
       "Number of obs: 96, groups:  Rep:Plant, 48; Rep, 4\n",
       "\n",
       "Fixed effects:\n",
       "                           Estimate Std. Error t value\n",
       "(Intercept)                0.082603   0.146065   0.566\n",
       "PlantAMAPO                 0.311758   0.206567   1.509\n",
       "PlantB73                  -0.178044   0.206567  -0.862\n",
       "PlantECHCG                -0.022985   0.206567  -0.111\n",
       "PlantELCOR                -0.450974   0.206567  -2.183\n",
       "PlantERATE                -0.855816   0.206567  -4.143\n",
       "PlantFAGES                 0.215268   0.206567   1.042\n",
       "PlantGLYMA                -0.652476   0.206567  -3.159\n",
       "PlantHELAN                 0.195362   0.206567   0.946\n",
       "PlantSETFA                -0.018277   0.206567  -0.088\n",
       "PlantSORBI                -0.159911   0.206567  -0.774\n",
       "PlantSORSUD                0.246595   0.206567   1.194\n",
       "TreatmentNpos             -0.020989   0.162931  -0.129\n",
       "PlantAMAPO:TreatmentNpos   0.376432   0.230420   1.634\n",
       "PlantB73:TreatmentNpos     0.021284   0.230420   0.092\n",
       "PlantECHCG:TreatmentNpos   0.623407   0.230420   2.706\n",
       "PlantELCOR:TreatmentNpos   0.113170   0.230420   0.491\n",
       "PlantERATE:TreatmentNpos   0.222344   0.230420   0.965\n",
       "PlantFAGES:TreatmentNpos   0.088878   0.230420   0.386\n",
       "PlantGLYMA:TreatmentNpos   0.037574   0.230420   0.163\n",
       "PlantHELAN:TreatmentNpos   0.426589   0.230420   1.851\n",
       "PlantSETFA:TreatmentNpos  -0.003749   0.230420  -0.016\n",
       "PlantSORBI:TreatmentNpos   0.035421   0.230420   0.154\n",
       "PlantSORSUD:TreatmentNpos  0.132409   0.230420   0.575\n",
       "Analysis of Variance Table\n",
       "                Df Sum Sq Mean Sq F value\n",
       "Plant           11 6.5621 0.59655 11.2360\n",
       "Treatment        1 0.5532 0.55322 10.4197\n",
       "Plant:Treatment 11 0.8895 0.08086  1.5231\n"
      ]
     },
     "metadata": {},
     "output_type": "display_data"
    }
   ],
   "source": [
    "%%R\n",
    "#Full model\n",
    "data = filter(Master, Type != \"Maize\"  | Plant == \"B73\" ) %>%\n",
    "        filter(!is.na(A_Resid_logB))\n",
    "dim(data) %>% print\n",
    "m = lmer(A_Resid_logB ~ Plant + Treatment + Plant:Treatment + (1|Rep) + (1|Rep:Plant), \n",
    "          data = data, na.rm = TRUE)\n",
    "         summary(m) %>% print\n",
    "        anova(m) \n",
    "        #anova(m, ddf=\"Kenward-Roger\", type=3) %>% print"
   ]
  },
  {
   "cell_type": "code",
   "execution_count": 30,
   "metadata": {
    "collapsed": false,
    "scrolled": true
   },
   "outputs": [
    {
     "data": {
      "text/plain": [
       "Analysis of Variance Table of type III  with  Kenward-Roger \n",
       "approximation for degrees of freedom\n",
       "      Sum Sq Mean Sq NumDF DenDF F.value    Pr(>F)    \n",
       "Plant 6.0235 0.54759    11    33   7.271 4.072e-06 ***\n",
       "---\n",
       "Signif. codes:  0 ‘***’ 0.001 ‘**’ 0.01 ‘*’ 0.05 ‘.’ 0.1 ‘ ’ 1\n"
      ]
     },
     "metadata": {},
     "output_type": "display_data"
    },
    {
     "data": {
      "image/png": "[encoded data removed]"
     },
     "metadata": {},
     "output_type": "display_data"
    }
   ],
   "source": [
    "%%R\n",
    "#just Nneg\n",
    "data = filter(Master, Type != \"Maize\" & Treatment == \"Nneg\" | Plant == \"B73\" & Treatment == \"Nneg\")\n",
    "m = lmer(A_Resid_logB ~ Plant + (1|Rep), \n",
    "          data = data, na.rm = TRUE)\n",
    "         #summary(m) %>% print\n",
    "         anova(m, ddf=\"Kenward-Roger\", type=3) %>% print\n",
    "\n",
    "m1.lsm = lsmeans(m)\n",
    "m1.glht = glht(m, linfct = mcp(Plant = \"Tukey\"))\n",
    "#summary(m1.glht)\n",
    "m1.cld = cld(m1.glht, level = 0.05)\n",
    "old.par <- par(mai=c(1,1,1.5,1), no.readonly = TRUE)\n",
    "plot(m1.cld)"
   ]
  },
  {
   "cell_type": "code",
   "execution_count": 31,
   "metadata": {
    "collapsed": false
   },
   "outputs": [
    {
     "data": {
      "text/plain": [
       "Analysis of Variance Table of type III  with  Kenward-Roger \n",
       "approximation for degrees of freedom\n",
       "      Sum Sq Mean Sq NumDF DenDF F.value    Pr(>F)    \n",
       "Plant 9.3992 0.85448    11    33  8.9598 4.175e-07 ***\n",
       "---\n",
       "Signif. codes:  0 ‘***’ 0.001 ‘**’ 0.01 ‘*’ 0.05 ‘.’ 0.1 ‘ ’ 1\n"
      ]
     },
     "metadata": {},
     "output_type": "display_data"
    },
    {
     "data": {
      "image/png": "[encoded data removed]"
     },
     "metadata": {},
     "output_type": "display_data"
    }
   ],
   "source": [
    "%%R\n",
    "#just Npos\n",
    "data = filter(Master, Type != \"Maize\" & Treatment == \"Npos\" | Plant == \"B73\" & Treatment == \"Npos\")\n",
    "m = lmer(A_Resid_logB ~ Plant + (1|Rep), \n",
    "          data = data, na.rm = TRUE)\n",
    "         #summary(m) %>% print\n",
    "         anova(m, ddf=\"Kenward-Roger\", type=3) %>% print\n",
    "\n",
    "m1.lsm = lsmeans(m)\n",
    "m1.glht = glht(m, linfct = mcp(Plant = \"Tukey\"))\n",
    "#summary(m1.glht)\n",
    "m1.cld = cld(m1.glht, level = 0.05)\n",
    "old.par <- par(mai=c(1,1,1.5,1), no.readonly = TRUE)\n",
    "plot(m1.cld)"
   ]
  },
  {
   "cell_type": "markdown",
   "metadata": {},
   "source": [
    "## Annuals - N uptake"
   ]
  },
  {
   "cell_type": "code",
   "execution_count": 32,
   "metadata": {
    "collapsed": false
   },
   "outputs": [
    {
     "data": {
      "text/plain": [
       "Analysis of Variance Table of type III  with  Kenward-Roger \n",
       "approximation for degrees of freedom\n",
       "                Sum Sq Mean Sq NumDF DenDF F.value    Pr(>F)    \n",
       "Plant           3.9998 0.36362    11    33   5.286 9.202e-05 ***\n",
       "Treatment       2.3380 2.33804     1    36  33.986 1.173e-06 ***\n",
       "Plant:Treatment 1.1933 0.10848    11    36   1.577    0.1479    \n",
       "---\n",
       "Signif. codes:  0 ‘***’ 0.001 ‘**’ 0.01 ‘*’ 0.05 ‘.’ 0.1 ‘ ’ 1\n"
      ]
     },
     "metadata": {},
     "output_type": "display_data"
    }
   ],
   "source": [
    "%%R\n",
    "#Full model\n",
    "data = filter(Master, Type != \"Maize\"  | Plant == \"B73\" )\n",
    "m = lmer(A_Resid_logN ~ Plant + Treatment + Plant:Treatment + (1|Rep) + (1|Rep:Plant), \n",
    "          data = data, na.rm = TRUE)\n",
    "         #summary(m) %>% print\n",
    "         anova(m, ddf=\"Kenward-Roger\", type=3) %>% print"
   ]
  },
  {
   "cell_type": "code",
   "execution_count": 34,
   "metadata": {
    "collapsed": false,
    "scrolled": false
   },
   "outputs": [
    {
     "data": {
      "text/plain": [
       "Analysis of Variance Table of type III  with  Kenward-Roger \n",
       "approximation for degrees of freedom\n",
       "      Sum Sq Mean Sq NumDF DenDF F.value    Pr(>F)    \n",
       "Plant  5.037 0.45791    11    33  4.2826 0.0005565 ***\n",
       "---\n",
       "Signif. codes:  0 ‘***’ 0.001 ‘**’ 0.01 ‘*’ 0.05 ‘.’ 0.1 ‘ ’ 1\n"
      ]
     },
     "metadata": {},
     "output_type": "display_data"
    },
    {
     "data": {
      "image/png": "[encoded data removed]"
     },
     "metadata": {},
     "output_type": "display_data"
    }
   ],
   "source": [
    "%%R\n",
    "#just Nneg\n",
    "data = filter(Master, Type != \"Maize\" & Treatment == \"Nneg\" | Plant == \"B73\" & Treatment == \"Nneg\")\n",
    "m = lmer(A_Resid_logN ~ Plant + (1|Rep), \n",
    "          data = data, na.rm = TRUE)\n",
    "         #summary(m) %>% print\n",
    "         anova(m, ddf=\"Kenward-Roger\", type=3) %>% print\n",
    "\n",
    "m1.lsm = lsmeans(m)\n",
    "m1.glht = glht(m, linfct = mcp(Plant = \"Tukey\"))\n",
    "#summary(m1.glht)\n",
    "m1.cld = cld(m1.glht, level = 0.05)\n",
    "old.par <- par(mai=c(1,1,1.5,1), no.readonly = TRUE)\n",
    "plot(m1.cld)\n",
    "        "
   ]
  },
  {
   "cell_type": "code",
   "execution_count": 36,
   "metadata": {
    "collapsed": false,
    "scrolled": false
   },
   "outputs": [
    {
     "data": {
      "text/plain": [
       "Analysis of Variance Table of type III  with  Kenward-Roger \n",
       "approximation for degrees of freedom\n",
       "      Sum Sq Mean Sq NumDF DenDF F.value    Pr(>F)    \n",
       "Plant 6.6824 0.60749    11    33  4.4511 0.0004065 ***\n",
       "---\n",
       "Signif. codes:  0 ‘***’ 0.001 ‘**’ 0.01 ‘*’ 0.05 ‘.’ 0.1 ‘ ’ 1\n"
      ]
     },
     "metadata": {},
     "output_type": "display_data"
    },
    {
     "data": {
      "image/png": "[encoded data removed]"
     },
     "metadata": {},
     "output_type": "display_data"
    }
   ],
   "source": [
    "%%R\n",
    "#just Npos\n",
    "data = filter(Master, Type != \"Maize\" & Treatment == \"Npos\" | Plant == \"B73\" & Treatment == \"Npos\")\n",
    "m = lmer(A_Resid_logN ~ Plant + (1|Rep), \n",
    "          data = data, na.rm = TRUE)\n",
    "         #summary(m) %>% print\n",
    "         anova(m, ddf=\"Kenward-Roger\", type=3) %>% print\n",
    "\n",
    "m1.lsm = lsmeans(m)\n",
    "m1.glht = glht(m, linfct = mcp(Plant = \"Tukey\"))\n",
    "#summary(m1.glht)\n",
    "m1.cld = cld(m1.glht, level = 0.05)\n",
    "old.par <- par(mai=c(1,1,1.5,1), no.readonly = TRUE)\n",
    "plot(m1.cld)\n",
    "\n"
   ]
  },
  {
   "cell_type": "markdown",
   "metadata": {},
   "source": [
    "## Annuals C:N residuals"
   ]
  },
  {
   "cell_type": "code",
   "execution_count": 66,
   "metadata": {
    "collapsed": false
   },
   "outputs": [
    {
     "data": {
      "text/plain": [
       "Analysis of Variance Table of type III  with  Kenward-Roger \n",
       "approximation for degrees of freedom\n",
       "                 Sum Sq Mean Sq NumDF DenDF F.value    Pr(>F)    \n",
       "Plant           2.62933 0.23903    11    33  16.724 1.818e-10 ***\n",
       "Treatment       0.64245 0.64245     1    36  44.950 8.041e-08 ***\n",
       "Plant:Treatment 0.36052 0.03277    11    36   2.293   0.03004 *  \n",
       "---\n",
       "Signif. codes:  0 ‘***’ 0.001 ‘**’ 0.01 ‘*’ 0.05 ‘.’ 0.1 ‘ ’ 1\n"
      ]
     },
     "metadata": {},
     "output_type": "display_data"
    }
   ],
   "source": [
    "%%R\n",
    "#Full model\n",
    "data = filter(Master, Type != \"Maize\"  | Plant == \"B73\" )\n",
    "m = lmer(A_Resid_logCN ~ Plant + Treatment + Plant:Treatment + (1|Rep) + (1|Rep:Plant), \n",
    "          data = data, na.rm = TRUE)\n",
    "         #summary(m) %>% print\n",
    "         anova(m, ddf=\"Kenward-Roger\", type=3) %>% print"
   ]
  },
  {
   "cell_type": "code",
   "execution_count": 68,
   "metadata": {
    "collapsed": false
   },
   "outputs": [
    {
     "data": {
      "text/plain": [
       "Analysis of Variance Table of type III  with  Kenward-Roger \n",
       "approximation for degrees of freedom\n",
       "      Sum Sq Mean Sq NumDF DenDF F.value    Pr(>F)    \n",
       "Plant 2.8058 0.25507    11    33  15.926 3.483e-10 ***\n",
       "---\n",
       "Signif. codes:  0 ‘***’ 0.001 ‘**’ 0.01 ‘*’ 0.05 ‘.’ 0.1 ‘ ’ 1\n"
      ]
     },
     "metadata": {},
     "output_type": "display_data"
    },
    {
     "data": {
      "image/png": "[encoded data removed]"
     },
     "metadata": {},
     "output_type": "display_data"
    }
   ],
   "source": [
    "%%R\n",
    "#just Nneg\n",
    "data = filter(Master, Type != \"Maize\" & Treatment == \"Nneg\" | Plant == \"B73\" & Treatment == \"Nneg\")\n",
    "m = lmer(A_Resid_logCN ~ Plant + (1|Rep), \n",
    "          data = data, na.rm = TRUE)\n",
    "         #summary(m) %>% print\n",
    "         anova(m, ddf=\"Kenward-Roger\", type=3) %>% print\n",
    "\n",
    "m1.lsm = lsmeans(m)\n",
    "m1.glht = glht(m, linfct = mcp(Plant = \"Tukey\"))\n",
    "#summary(m1.glht)\n",
    "m1.cld = cld(m1.glht, level = 0.05)\n",
    "old.par <- par(mai=c(1,1,1.5,1), no.readonly = TRUE)\n",
    "plot(m1.cld)"
   ]
  },
  {
   "cell_type": "code",
   "execution_count": 70,
   "metadata": {
    "collapsed": false
   },
   "outputs": [
    {
     "data": {
      "text/plain": [
       "Analysis of Variance Table of type III  with  Kenward-Roger \n",
       "approximation for degrees of freedom\n",
       "      Sum Sq Mean Sq NumDF DenDF F.value    Pr(>F)    \n",
       "Plant 1.7553 0.15957    11    33  7.6714 2.309e-06 ***\n",
       "---\n",
       "Signif. codes:  0 ‘***’ 0.001 ‘**’ 0.01 ‘*’ 0.05 ‘.’ 0.1 ‘ ’ 1\n"
      ]
     },
     "metadata": {},
     "output_type": "display_data"
    },
    {
     "data": {
      "image/png": "[encoded data removed]"
     },
     "metadata": {},
     "output_type": "display_data"
    }
   ],
   "source": [
    "%%R\n",
    "#just Npos\n",
    "data = filter(Master, Type != \"Maize\" & Treatment == \"Npos\" | Plant == \"B73\" & Treatment == \"Npos\")\n",
    "m = lmer(A_Resid_logCN ~ Plant + (1|Rep), \n",
    "          data = data, na.rm = TRUE)\n",
    "         #summary(m) %>% print\n",
    "         anova(m, ddf=\"Kenward-Roger\", type=3) %>% print\n",
    "\n",
    "m1.lsm = lsmeans(m)\n",
    "m1.glht = glht(m, linfct = mcp(Plant = \"Tukey\"))\n",
    "#summary(m1.glht)\n",
    "m1.cld = cld(m1.glht, level = 0.05)\n",
    "old.par <- par(mai=c(1,1,1.5,1), no.readonly = TRUE)\n",
    "plot(m1.cld)"
   ]
  },
  {
   "cell_type": "markdown",
   "metadata": {},
   "source": [
    "## Maize - Biomass residuals"
   ]
  },
  {
   "cell_type": "code",
   "execution_count": 43,
   "metadata": {
    "collapsed": false,
    "scrolled": true
   },
   "outputs": [
    {
     "data": {
      "text/plain": [
       "Analysis of Variance Table of type III  with  Kenward-Roger \n",
       "approximation for degrees of freedom\n",
       "                 Sum Sq  Mean Sq NumDF DenDF F.value   Pr(>F)   \n",
       "Plant           1.29948 0.129948    10    30  3.9905 0.001543 **\n",
       "Treatment       0.17267 0.172671     1    33  5.3025 0.027739 * \n",
       "Plant:Treatment 0.27791 0.027791    10    33  0.8534 0.583234   \n",
       "---\n",
       "Signif. codes:  0 ‘***’ 0.001 ‘**’ 0.01 ‘*’ 0.05 ‘.’ 0.1 ‘ ’ 1\n"
      ]
     },
     "metadata": {},
     "output_type": "display_data"
    }
   ],
   "source": [
    "%%R\n",
    "#Full anova\n",
    "data = filter(Master, Type == \"Maize\")\n",
    "m = lmer(M_Resid_logB ~ Plant + Treatment + Plant:Treatment +\n",
    "          (1|Rep) + (1|Rep:Plant), \n",
    "          data = data, na.rm = TRUE)\n",
    "         #summary(m1) %>% print\n",
    "         anova(m, ddf=\"Kenward-Roger\", type=3) %>% print"
   ]
  },
  {
   "cell_type": "code",
   "execution_count": 44,
   "metadata": {
    "collapsed": false,
    "scrolled": false
   },
   "outputs": [
    {
     "data": {
      "text/plain": [
       "Analysis of Variance Table of type III  with  Kenward-Roger \n",
       "approximation for degrees of freedom\n",
       "      Sum Sq Mean Sq NumDF DenDF F.value   Pr(>F)   \n",
       "Plant 1.8694 0.18694    10    30  3.9642 0.001616 **\n",
       "---\n",
       "Signif. codes:  0 ‘***’ 0.001 ‘**’ 0.01 ‘*’ 0.05 ‘.’ 0.1 ‘ ’ 1\n"
      ]
     },
     "metadata": {},
     "output_type": "display_data"
    },
    {
     "data": {
      "image/png": "[encoded data removed]"
     },
     "metadata": {},
     "output_type": "display_data"
    }
   ],
   "source": [
    "%%R\n",
    "#Just Nneg\n",
    "data = filter(Master, Type == \"Maize\" & Treatment == \"Nneg\")\n",
    "m = lmer(M_Resid_logB ~ Plant  +\n",
    "          (1|Rep), \n",
    "          data = data, na.rm = TRUE)\n",
    "         #summary(m1) %>% print\n",
    "         anova(m, ddf=\"Kenward-Roger\", type=3) %>% print\n",
    "\n",
    "m1.lsm = lsmeans(m)\n",
    "m1.glht = glht(m, linfct = mcp(Plant = \"Tukey\"))\n",
    "#summary(m1.glht)\n",
    "m1.cld = cld(m1.glht, level = 0.05)\n",
    "old.par <- par(mai=c(1,1,1.5,1), no.readonly = TRUE)\n",
    "plot(m1.cld)"
   ]
  },
  {
   "cell_type": "code",
   "execution_count": 45,
   "metadata": {
    "collapsed": false
   },
   "outputs": [
    {
     "data": {
      "text/plain": [
       "Analysis of Variance Table of type III  with  Kenward-Roger \n",
       "approximation for degrees of freedom\n",
       "       Sum Sq  Mean Sq NumDF DenDF F.value Pr(>F)  \n",
       "Plant 0.87644 0.087644    10    30  1.9149 0.0826 .\n",
       "---\n",
       "Signif. codes:  0 ‘***’ 0.001 ‘**’ 0.01 ‘*’ 0.05 ‘.’ 0.1 ‘ ’ 1\n"
      ]
     },
     "metadata": {},
     "output_type": "display_data"
    },
    {
     "data": {
      "image/png": "[encoded data removed]"
     },
     "metadata": {},
     "output_type": "display_data"
    }
   ],
   "source": [
    "%%R\n",
    "#Just Npos\n",
    "data = filter(Master, Type == \"Maize\" & Treatment == \"Npos\")\n",
    "m = lmer(M_Resid_logB ~ Plant  +\n",
    "          (1|Rep), \n",
    "          data = data, na.rm = TRUE)\n",
    "         #summary(m1) %>% print\n",
    "         anova(m, ddf=\"Kenward-Roger\", type=3) %>% print\n",
    "\n",
    "m1.lsm = lsmeans(m)\n",
    "m1.glht = glht(m, linfct = mcp(Plant = \"Tukey\"))\n",
    "#summary(m1.glht)\n",
    "m1.cld = cld(m1.glht, level = 0.05)\n",
    "old.par <- par(mai=c(1,1,1.5,1), no.readonly = TRUE)\n",
    "plot(m1.cld)"
   ]
  },
  {
   "cell_type": "markdown",
   "metadata": {},
   "source": [
    "## Maize- N uptake residuals"
   ]
  },
  {
   "cell_type": "code",
   "execution_count": 33,
   "metadata": {
    "collapsed": false
   },
   "outputs": [
    {
     "data": {
      "text/plain": [
       "Analysis of Variance Table of type III  with  Kenward-Roger \n",
       "approximation for degrees of freedom\n",
       "                 Sum Sq Mean Sq NumDF DenDF F.value    Pr(>F)    \n",
       "Plant           0.87717 0.08772    10    30  1.3771    0.2379    \n",
       "Treatment       1.54284 1.54284     1    33 24.2215 2.324e-05 ***\n",
       "Plant:Treatment 0.41601 0.04160    10    33  0.6531    0.7579    \n",
       "---\n",
       "Signif. codes:  0 ‘***’ 0.001 ‘**’ 0.01 ‘*’ 0.05 ‘.’ 0.1 ‘ ’ 1\n"
      ]
     },
     "metadata": {},
     "output_type": "display_data"
    }
   ],
   "source": [
    "%%R\n",
    "#Full anova\n",
    "data = filter(Master, Type == \"Maize\")\n",
    "m = lmer(M_Resid_logN ~ Plant + Treatment + Plant:Treatment +\n",
    "          (1|Rep) + (1|Rep:Plant), \n",
    "          data = data, na.rm = TRUE)\n",
    "         #summary(m1) %>% print\n",
    "         anova(m, ddf=\"Kenward-Roger\", type=3) %>% print"
   ]
  },
  {
   "cell_type": "code",
   "execution_count": 41,
   "metadata": {
    "collapsed": false
   },
   "outputs": [
    {
     "data": {
      "text/plain": [
       "Analysis of Variance Table of type III  with  Kenward-Roger \n",
       "approximation for degrees of freedom\n",
       "       Sum Sq  Mean Sq NumDF DenDF F.value Pr(>F)\n",
       "Plant 0.93352 0.093352    10    30 0.90773 0.5385\n"
      ]
     },
     "metadata": {},
     "output_type": "display_data"
    },
    {
     "data": {
      "image/png": "[encoded data removed]"
     },
     "metadata": {},
     "output_type": "display_data"
    }
   ],
   "source": [
    "%%R\n",
    "#Just Nneg\n",
    "data = filter(Master, Type == \"Maize\" & Treatment == \"Nneg\")\n",
    "m = lmer(M_Resid_logN ~ Plant  +\n",
    "          (1|Rep), \n",
    "          data = data, na.rm = TRUE)\n",
    "         #summary(m1) %>% print\n",
    "         anova(m, ddf=\"Kenward-Roger\", type=3) %>% print\n",
    "\n",
    "m1.lsm = lsmeans(m)\n",
    "m1.glht = glht(m, linfct = mcp(Plant = \"Tukey\"))\n",
    "#summary(m1.glht)\n",
    "m1.cld = cld(m1.glht, level = 0.05)\n",
    "old.par <- par(mai=c(1,1,1.5,1), no.readonly = TRUE)\n",
    "plot(m1.cld)"
   ]
  },
  {
   "cell_type": "code",
   "execution_count": 42,
   "metadata": {
    "collapsed": false,
    "scrolled": true
   },
   "outputs": [
    {
     "data": {
      "text/plain": [
       "Analysis of Variance Table of type III  with  Kenward-Roger \n",
       "approximation for degrees of freedom\n",
       "       Sum Sq  Mean Sq NumDF DenDF F.value Pr(>F)\n",
       "Plant 0.94489 0.094489    10    30  1.5282 0.1779\n"
      ]
     },
     "metadata": {},
     "output_type": "display_data"
    },
    {
     "data": {
      "image/png": "[encoded data removed]"
     },
     "metadata": {},
     "output_type": "display_data"
    }
   ],
   "source": [
    "%%R\n",
    "#Just Npos\n",
    "data = filter(Master, Type == \"Maize\" & Treatment == \"Npos\")\n",
    "m = lmer(M_Resid_logN ~ Plant  +\n",
    "          (1|Rep), \n",
    "          data = data, na.rm = TRUE)\n",
    "         #summary(m1) %>% print\n",
    "         anova(m, ddf=\"Kenward-Roger\", type=3) %>% print\n",
    "\n",
    "m1.lsm = lsmeans(m)\n",
    "m1.glht = glht(m, linfct = mcp(Plant = \"Tukey\"))\n",
    "#summary(m1.glht)\n",
    "m1.cld = cld(m1.glht, level = 0.05)\n",
    "old.par <- par(mai=c(1,1,1.5,1), no.readonly = TRUE)\n",
    "plot(m1.cld)"
   ]
  },
  {
   "cell_type": "markdown",
   "metadata": {},
   "source": [
    "## Maize - C:N residual"
   ]
  },
  {
   "cell_type": "code",
   "execution_count": 65,
   "metadata": {
    "collapsed": false
   },
   "outputs": [
    {
     "data": {
      "text/plain": [
       "Analysis of Variance Table of type III  with  Kenward-Roger \n",
       "approximation for degrees of freedom\n",
       "                 Sum Sq Mean Sq NumDF DenDF F.value    Pr(>F)    \n",
       "Plant           1.39593 0.13959    10    30  10.669 2.040e-07 ***\n",
       "Treatment       0.65839 0.65839     1    33  50.321 4.019e-08 ***\n",
       "Plant:Treatment 0.23962 0.02396    10    33   1.831   0.09346 .  \n",
       "---\n",
       "Signif. codes:  0 ‘***’ 0.001 ‘**’ 0.01 ‘*’ 0.05 ‘.’ 0.1 ‘ ’ 1\n"
      ]
     },
     "metadata": {},
     "output_type": "display_data"
    },
    {
     "data": {
      "image/png": "[encoded data removed]"
     },
     "metadata": {},
     "output_type": "display_data"
    }
   ],
   "source": [
    "%%R\n",
    "#All plots\n",
    "data = filter(Master, Type == \"Maize\" )\n",
    "m = lmer(M_Resid_logCN ~ Plant + Treatment + Plant:Treatment +\n",
    "          (1|Rep) + (1|Rep:Plant),\n",
    "          data = data, na.rm = TRUE)\n",
    "         #summary(m1) %>% print\n",
    "         anova(m, ddf=\"Kenward-Roger\", type=3) %>% print\n",
    "\n",
    "m1.lsm = lsmeans(m)\n",
    "m1.glht = glht(m, linfct = mcp(Plant = \"Tukey\"))\n",
    "#summary(m1.glht)\n",
    "m1.cld = cld(m1.glht, level = 0.05)\n",
    "old.par <- par(mai=c(1,1,1.5,1), no.readonly = TRUE)\n",
    "plot(m1.cld)"
   ]
  },
  {
   "cell_type": "markdown",
   "metadata": {},
   "source": [
    "# Check Maize modeled residuals vs annualls calculated residuals\n",
    "* determine if A_resids can be used for all plants"
   ]
  },
  {
   "cell_type": "code",
   "execution_count": 72,
   "metadata": {
    "collapsed": false,
    "scrolled": false
   },
   "outputs": [
    {
     "data": {
      "image/png": "[encoded data removed]"
     },
     "metadata": {},
     "output_type": "display_data"
    }
   ],
   "source": [
    "%%R\n",
    "data = filter(Master, Type == \"Maize\")\n",
    "\n",
    "p = ggplot(data)\n",
    "p = p + geom_point(aes(M_Resid_logB, A_Resid_logB, fill = Plant, colour = Plant), pch = 21 )\n",
    "p = p + stat_smooth(method = \"lm\", aes(y= A_Resid_logB, x=M_Resid_logB), se = FALSE)\n",
    "p = p + scale_fill_brewer(palette=\"Paired\")\n",
    "p = p + scale_colour_brewer(palette=\"Paired\")\n",
    "p = p + ggtitle(\"Comparison of biomass residuals\")\n",
    "p"
   ]
  },
  {
   "cell_type": "markdown",
   "metadata": {},
   "source": [
    "* Using annual model introduces systemic bias based on sampling date, best to use maize calculated residuals"
   ]
  }
 ],
 "metadata": {
  "hide_input": true,
  "kernelspec": {
   "display_name": "Python [default]",
   "language": "python",
   "name": "python2"
  },
  "language_info": {
   "codemirror_mode": {
    "name": "ipython",
    "version": 2
   },
   "file_extension": ".py",
   "mimetype": "text/x-python",
   "name": "python",
   "nbconvert_exporter": "python",
   "pygments_lexer": "ipython2",
   "version": "2.7.12"
  }
 },
 "nbformat": 4,
 "nbformat_minor": 0
}
