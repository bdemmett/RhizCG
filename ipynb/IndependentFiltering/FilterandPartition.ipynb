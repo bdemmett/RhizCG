{
 "cells": [
  {
   "cell_type": "markdown",
   "metadata": {},
   "source": [
    "# Description:\n",
    "        Implement sparsity filter\n",
    "        Prune non-samples and 2 ECHCG samples that were not samples\n",
    "        Final threshold: physeq.thresh = filter_taxa(physeq, \n",
    "                 function(x) sum(x > 3) > 3, TRUE)\n",
    "        Join plant growth and enzyme metadata\n",
    "        Save output for consistent use in other notebooks"
   ]
  },
  {
   "cell_type": "markdown",
   "metadata": {},
   "source": [
    "# Setting variables"
   ]
  },
  {
   "cell_type": "code",
   "execution_count": 2,
   "metadata": {
    "collapsed": true
   },
   "outputs": [],
   "source": [
    "workDir = '/home/bryan/RhizCG/data/MiSeq_amplicon/MergedRuns/physeq/'\n",
    "biomFileDir = '/home/bryan/RhizCG/data/MiSeq_amplicon/MergedRuns/OTU_binning/'\n",
    "\n",
    "biomFile = '/home/bryan/RhizCG/data/MiSeq_amplicon/MergedRuns/OTU_binning/otu_table_wtax.biom'\n",
    "metadataFile = '/home/bryan/RhizCG/data/MiSeq_amplicon/metadata_RhizCG_merged.txt'\n",
    "treeFile = '/home/bryan/RhizCG/data/MiSeq_amplicon/MergedRuns/fasttree/otusn.tree'"
   ]
  },
  {
   "cell_type": "markdown",
   "metadata": {},
   "source": [
    "# Init"
   ]
  },
  {
   "cell_type": "code",
   "execution_count": 3,
   "metadata": {
    "collapsed": true
   },
   "outputs": [],
   "source": [
    "import os\n",
    "from pandas import DataFrame\n",
    "from IPython.display import FileLink"
   ]
  },
  {
   "cell_type": "code",
   "execution_count": 4,
   "metadata": {
    "collapsed": false
   },
   "outputs": [],
   "source": [
    "\n",
    "%load_ext rpy2.ipython"
   ]
  },
  {
   "cell_type": "code",
   "execution_count": 5,
   "metadata": {
    "collapsed": false,
    "scrolled": true
   },
   "outputs": [
    {
     "name": "stderr",
     "output_type": "stream",
     "text": [
      "/opt/anaconda/lib/python2.7/site-packages/rpy2/robjects/functions.py:106: UserWarning: Loading required package: permute\n",
      "\n",
      "  res = super(Function, self).__call__(*new_args, **new_kwargs)\n",
      "/opt/anaconda/lib/python2.7/site-packages/rpy2/robjects/functions.py:106: UserWarning: Loading required package: lattice\n",
      "\n",
      "  res = super(Function, self).__call__(*new_args, **new_kwargs)\n",
      "/opt/anaconda/lib/python2.7/site-packages/rpy2/robjects/functions.py:106: UserWarning: This is vegan 2.3-3\n",
      "\n",
      "  res = super(Function, self).__call__(*new_args, **new_kwargs)\n",
      "/opt/anaconda/lib/python2.7/site-packages/rpy2/robjects/functions.py:106: UserWarning: foreach: simple, scalable parallel programming from Revolution Analytics\n",
      "Use Revolution R for scalability, fault tolerance and more.\n",
      "http://www.revolutionanalytics.com\n",
      "\n",
      "  res = super(Function, self).__call__(*new_args, **new_kwargs)\n",
      "/opt/anaconda/lib/python2.7/site-packages/rpy2/robjects/functions.py:106: UserWarning: Loading required package: iterators\n",
      "\n",
      "  res = super(Function, self).__call__(*new_args, **new_kwargs)\n",
      "/opt/anaconda/lib/python2.7/site-packages/rpy2/robjects/functions.py:106: UserWarning: Loading required package: parallel\n",
      "\n",
      "  res = super(Function, self).__call__(*new_args, **new_kwargs)\n",
      "/opt/anaconda/lib/python2.7/site-packages/rpy2/robjects/functions.py:106: UserWarning: \n",
      "Attaching package: ‘dplyr’\n",
      "\n",
      "\n",
      "  res = super(Function, self).__call__(*new_args, **new_kwargs)\n",
      "/opt/anaconda/lib/python2.7/site-packages/rpy2/robjects/functions.py:106: UserWarning: The following objects are masked from ‘package:stats’:\n",
      "\n",
      "    filter, lag\n",
      "\n",
      "\n",
      "  res = super(Function, self).__call__(*new_args, **new_kwargs)\n",
      "/opt/anaconda/lib/python2.7/site-packages/rpy2/robjects/functions.py:106: UserWarning: The following objects are masked from ‘package:base’:\n",
      "\n",
      "    intersect, setdiff, setequal, union\n",
      "\n",
      "\n",
      "  res = super(Function, self).__call__(*new_args, **new_kwargs)\n"
     ]
    }
   ],
   "source": [
    "%%R\n",
    "library(vegan)\n",
    "library(phyloseq)\n",
    "library(ggplot2)\n",
    "library(foreach)\n",
    "library(doParallel)\n",
    "library(gridExtra)\n",
    "library(dplyr)\n",
    "library(tidyr)"
   ]
  },
  {
   "cell_type": "markdown",
   "metadata": {},
   "source": [
    "# Loading/editting OTU table"
   ]
  },
  {
   "cell_type": "code",
   "execution_count": 6,
   "metadata": {
    "collapsed": false
   },
   "outputs": [],
   "source": [
    "%%R -i biomFile -i metadataFile -i workDir -i treeFile\n",
    "# loading\n",
    "setwd(workDir)\n",
    "\n",
    "## biom file\n",
    "physeq = import_biom(biomFile, treeFile)\n",
    "\n",
    "## loading sample metadata\n",
    "sample.data = import_qiime_sample_data(metadataFile)\n",
    "physeq = merge_phyloseq(physeq,sample.data)\n",
    "\n"
   ]
  },
  {
   "cell_type": "code",
   "execution_count": 7,
   "metadata": {
    "collapsed": false
   },
   "outputs": [
    {
     "data": {
      "text/plain": [
       "phyloseq-class experiment-level object\n",
       "otu_table()   OTU Table:         [ 11246 taxa and 238 samples ]\n",
       "sample_data() Sample Data:       [ 238 samples by 21 sample variables ]\n",
       "tax_table()   Taxonomy Table:    [ 11246 taxa by 8 taxonomic ranks ]\n",
       "phy_tree()    Phylogenetic Tree: [ 11246 tips and 11245 internal nodes ]\n"
      ]
     },
     "metadata": {},
     "output_type": "display_data"
    }
   ],
   "source": [
    "%%R\n",
    "#remove controls\n",
    "physeq = subset_samples(physeq, !is.na(Plant))\n",
    "\n",
    "#remove two ECHCG plots where only soil and no roots were collected and sequenced\n",
    "physeq = subset_samples(physeq, !(PlotID %in% c(\"4.16_Nneg\", \"4.16_Npos\"))) \n",
    "print(physeq)\n"
   ]
  },
  {
   "cell_type": "code",
   "execution_count": 8,
   "metadata": {
    "collapsed": false,
    "scrolled": true
   },
   "outputs": [
    {
     "data": {
      "text/plain": [
       "  [1] \"BARE\"        \"BARE\"        \"BARE\"        \"BARE\"        \"BARE\"       \n",
       "  [6] \"BARE\"        \"BARE\"        \"BARE\"        \"BARE\"        \"Rhizosphere\"\n",
       " [11] \"Rhizosphere\" \"BARE\"        \"Rhizosphere\" \"Rhizosphere\" \"Rhizosphere\"\n",
       " [16] \"BARE\"        \"Rhizosphere\" \"BARE\"        \"BARE\"        \"BARE\"       \n",
       " [21] \"BARE\"        \"Rhizosphere\" \"BARE\"        \"BARE\"        \"BARE\"       \n",
       " [26] \"Rhizosphere\" \"Rhizosphere\" \"BARE\"        \"Rhizosphere\" \"Rhizosphere\"\n",
       " [31] \"Rhizosphere\" \"Rhizosphere\" \"Rhizosphere\" \"Rhizosphere\" \"Rhizosphere\"\n",
       " [36] \"Rhizosphere\" \"BARE\"        \"BARE\"        \"Rhizosphere\" \"Rhizosphere\"\n",
       " [41] \"Rhizosphere\" \"Rhizosphere\" \"Rhizosphere\" \"BARE\"        \"BARE\"       \n",
       " [46] \"Rhizosphere\" \"Rhizosphere\" \"Rhizosphere\" \"Rhizosphere\" \"Rhizosphere\"\n",
       " [51] \"Rhizosphere\" \"BARE\"        \"Rhizosphere\" \"Rhizosphere\" \"Rhizosphere\"\n",
       " [56] \"BARE\"        \"BARE\"        \"Rhizosphere\" \"Rhizosphere\" \"Rhizosphere\"\n",
       " [61] \"Rhizosphere\" \"Rhizosphere\" \"BARE\"        \"Rhizosphere\" \"Rhizosphere\"\n",
       " [66] \"Rhizosphere\" \"Rhizosphere\" \"Rhizosphere\" \"BARE\"        \"Rhizosphere\"\n",
       " [71] \"BARE\"        \"Rhizosphere\" \"Rhizosphere\" \"BARE\"        \"Rhizosphere\"\n",
       " [76] \"BARE\"        \"Rhizosphere\" \"Rhizosphere\" \"BARE\"        \"BARE\"       \n",
       " [81] \"Rhizosphere\" \"Rhizosphere\" \"Rhizosphere\" \"Rhizosphere\" \"Rhizosphere\"\n",
       " [86] \"Rhizosphere\" \"Rhizosphere\" \"Rhizosphere\" \"Rhizosphere\" \"Rhizosphere\"\n",
       " [91] \"BARE\"        \"BARE\"        \"Rhizosphere\" \"Rhizosphere\" \"Rhizosphere\"\n",
       " [96] \"Rhizosphere\" \"Rhizosphere\" \"Rhizosphere\" \"BARE\"        \"BARE\"       \n",
       "[101] \"Rhizosphere\" \"Rhizosphere\" \"Rhizosphere\" \"Rhizosphere\" \"BARE\"       \n",
       "[106] \"Rhizosphere\" \"BARE\"        \"Rhizosphere\" \"Rhizosphere\" \"BARE\"       \n",
       "[111] \"Rhizosphere\" \"Rhizosphere\" \"Rhizosphere\" \"Rhizosphere\" \"Rhizosphere\"\n",
       "[116] \"Rhizosphere\" \"Rhizosphere\" \"Rhizosphere\" \"Rhizosphere\" \"Rhizosphere\"\n",
       "[121] \"Rhizosphere\" \"Rhizosphere\" \"Rhizosphere\" \"Rhizosphere\" \"Rhizosphere\"\n",
       "[126] \"Rhizosphere\" \"Rhizosphere\" \"Rhizosphere\" \"Rhizosphere\" \"Rhizosphere\"\n",
       "[131] \"Rhizosphere\" \"Rhizosphere\" \"Rhizosphere\" \"Rhizosphere\" \"Rhizosphere\"\n",
       "[136] \"Rhizosphere\" \"Rhizosphere\" \"Rhizosphere\" \"Rhizosphere\" \"Rhizosphere\"\n",
       "[141] \"Rhizosphere\" \"BARE\"        \"BARE\"        \"Rhizosphere\" \"Rhizosphere\"\n",
       "[146] \"BARE\"        \"Rhizosphere\" \"BARE\"        \"Rhizosphere\" \"Rhizosphere\"\n",
       "[151] \"Rhizosphere\" \"BARE\"        \"Rhizosphere\" \"Rhizosphere\" \"Rhizosphere\"\n",
       "[156] \"Rhizosphere\" \"Rhizosphere\" \"Rhizosphere\" \"Rhizosphere\" \"Rhizosphere\"\n",
       "[161] \"Rhizosphere\" \"Rhizosphere\" \"BARE\"        \"BARE\"        \"Rhizosphere\"\n",
       "[166] \"BARE\"        \"Rhizosphere\" \"BARE\"        \"Rhizosphere\" \"BARE\"       \n",
       "[171] \"Rhizosphere\" \"Rhizosphere\" \"Rhizosphere\" \"Rhizosphere\" \"Rhizosphere\"\n",
       "[176] \"Rhizosphere\" \"Rhizosphere\" \"Rhizosphere\" \"Rhizosphere\" \"Rhizosphere\"\n",
       "[181] \"Rhizosphere\" \"Rhizosphere\" \"BARE\"        \"Rhizosphere\" \"Rhizosphere\"\n",
       "[186] \"Rhizosphere\" \"Rhizosphere\" \"Rhizosphere\" \"Rhizosphere\" \"BARE\"       \n",
       "[191] \"Rhizosphere\" \"Rhizosphere\" \"Rhizosphere\" \"Rhizosphere\" \"Rhizosphere\"\n",
       "[196] \"BARE\"        \"Rhizosphere\" \"Rhizosphere\" \"Rhizosphere\" \"BARE\"       \n",
       "[201] \"Rhizosphere\" \"Rhizosphere\" \"Rhizosphere\" \"BARE\"        \"Rhizosphere\"\n",
       "[206] \"Rhizosphere\" \"Rhizosphere\" \"Rhizosphere\" \"Rhizosphere\" \"Rhizosphere\"\n",
       "[211] \"BARE\"        \"Rhizosphere\" \"BARE\"        \"Rhizosphere\" \"BARE\"       \n",
       "[216] \"Rhizosphere\" \"Rhizosphere\" \"Rhizosphere\" \"Rhizosphere\" \"Rhizosphere\"\n",
       "[221] \"Rhizosphere\" \"BARE\"        \"Rhizosphere\" \"Rhizosphere\" \"Rhizosphere\"\n",
       "[226] \"Rhizosphere\" \"BARE\"        \"Rhizosphere\" \"Rhizosphere\" \"BARE\"       \n",
       "[231] \"Rhizosphere\" \"Rhizosphere\" \"BARE\"        \"Rhizosphere\" \"Rhizosphere\"\n",
       "[236] \"Rhizosphere\" \"BARE\"        \"BARE\"       \n"
      ]
     },
     "metadata": {},
     "output_type": "display_data"
    }
   ],
   "source": [
    "%%R\n",
    "\n",
    "sample_data(physeq)$Planted = ifelse(sample_data(physeq)$Plant == \"BARE\", \"BARE\", \"Rhizosphere\")\n",
    "sample_data(physeq)$Planted"
   ]
  },
  {
   "cell_type": "markdown",
   "metadata": {
    "collapsed": false
   },
   "source": [
    "### apply gsub across columns replacing __ w/ \"\" reload tax_table to phyloseq object"
   ]
  },
  {
   "cell_type": "code",
   "execution_count": 9,
   "metadata": {
    "collapsed": true
   },
   "outputs": [],
   "source": [
    "%%R\n",
    "t = tax_table(physeq)\n",
    "t = apply(t, 2, function(y) gsub(\"__\", \"\", y))\n",
    "tax_table(physeq) = t"
   ]
  },
  {
   "cell_type": "markdown",
   "metadata": {},
   "source": [
    "# Explore Filtering Functions"
   ]
  },
  {
   "cell_type": "code",
   "execution_count": 10,
   "metadata": {
    "collapsed": false
   },
   "outputs": [
    {
     "data": {
      "text/plain": [
       "phyloseq-class experiment-level object\n",
       "otu_table()   OTU Table:         [ 4982 taxa and 238 samples ]\n",
       "sample_data() Sample Data:       [ 238 samples by 22 sample variables ]\n",
       "tax_table()   Taxonomy Table:    [ 4982 taxa by 8 taxonomic ranks ]\n",
       "phy_tree()    Phylogenetic Tree: [ 4982 tips and 4981 internal nodes ]\n"
      ]
     },
     "metadata": {},
     "output_type": "display_data"
    }
   ],
   "source": [
    "%%R \n",
    "physeq.thresh = filter_taxa(physeq, \n",
    "                 function(x) sum(x > 3) > 3, TRUE)\n",
    "physeq.thresh"
   ]
  },
  {
   "cell_type": "markdown",
   "metadata": {},
   "source": [
    "### rarefy to even depth"
   ]
  },
  {
   "cell_type": "code",
   "execution_count": 11,
   "metadata": {
    "collapsed": false
   },
   "outputs": [
    {
     "name": "stderr",
     "output_type": "stream",
     "text": [
      "/opt/anaconda/lib/python2.7/site-packages/rpy2/robjects/functions.py:106: UserWarning: You set `rngseed` to FALSE. Make sure you've set & recorded\n",
      " the random seed of your session for reproducibility.\n",
      "See `?set.seed`\n",
      "\n",
      "\n",
      "  res = super(Function, self).__call__(*new_args, **new_kwargs)\n",
      "/opt/anaconda/lib/python2.7/site-packages/rpy2/robjects/functions.py:106: UserWarning: ...\n",
      "\n",
      "  res = super(Function, self).__call__(*new_args, **new_kwargs)\n"
     ]
    },
    {
     "data": {
      "text/plain": [
       "sample2-1.06_Npos sample6-4.27_Npos sample4-4.27_Nneg sample4-1.06_Nneg \n",
       "             4989              4989              4989              4989 \n",
       "sample2-1.06_Nneg sample6-3.07_Nneg sample5-3.07_Nneg sample6-3.07_Npos \n",
       "             4989              4989              4989              4989 \n",
       "sample3-3.07_Npos sample5-1.22_Nneg sample6-4.12_Npos sample1-4.27_Npos \n",
       "             4989              4989              4989              4989 \n",
       "sample4-1.03_Npos sample5-2.06_Npos sample5-4.08_Npos sample4-3.07_Nneg \n",
       "             4989              4989              4989              4989 \n",
       "sample5-4.28_Npos sample6-1.06_Npos sample4-2.05_Nneg sample2-4.27_Nneg \n",
       "             4989              4989              4989              4989 \n",
       "sample1-2.05_Nneg sample5-1.29_Npos sample5-4.27_Npos sample5-4.27_Nneg \n",
       "             4989              4989              4989              4989 \n",
       "sample1-3.07_Nneg sample4-2.02_Nneg sample4-4.21_Nneg sample2-2.05_Nneg \n",
       "             4989              4989              4989              4989 \n",
       "sample6-2.13_Npos sample5-2.29_Nneg sample5-2.06_Nneg sample1-2.23_Nneg \n",
       "             4989              4989              4989              4989 \n",
       "sample6-2.26_Nneg sample6-3.18_Nneg sample5-3.13_Nneg sample2-2.08_Nneg \n",
       "             4989              4989              4989              4989 \n",
       "sample1-2.05_Npos sample3-2.05_Nneg sample5-1.17_Nneg sample6-3.01_Npos \n",
       "             4989              4989              4989              4989 \n",
       "sample3-2.03_Nneg sample5-4.08_Nneg sample5-4.05_Npos sample5-1.06_Npos \n",
       "             4989              4989              4989              4989 \n",
       "sample1-4.27_Nneg sample6-2.16_Npos sample1-4.24_Nneg sample5-4.28_Nneg \n",
       "             4989              4989              4989              4989 \n",
       "sample6-2.13_Nneg sample1-3.08_Npos sample6-3.04_Npos sample6-1.06_Nneg \n",
       "             4989              4989              4989              4989 \n",
       "sample4-1.03_Nneg sample5-1.22_Npos sample6-1.15_Nneg sample2-2.05_Npos \n",
       "             4989              4989              4989              4989 \n",
       "sample2-4.27_Npos sample5-2.11_Nneg sample4-4.21_Npos sample6-4.12_Nneg \n",
       "             4989              4989              4989              4989 \n",
       "sample5-1.25_Nneg sample6-4.17_Npos sample3-1.06_Npos sample6-3.04_Nneg \n",
       "             4989              4989              4989              4989 \n",
       "sample5-3.27_Nneg sample6-1.15_Npos sample5-3.11_Nneg sample5-2.11_Npos \n",
       "             4989              4989              4989              4989 \n",
       "sample4-3.07_Npos sample5-3.17_Npos sample5-3.07_Npos sample5-1.17_Npos \n",
       "             4989              4989              4989              4989 \n",
       "sample3-3.06_Nneg sample3-2.05_Npos sample2-3.05_Nneg sample6-4.27_Nneg \n",
       "             4989              4989              4989              4989 \n",
       "sample6-1.07_Npos sample5-3.13_Npos sample5-1.06_Nneg sample3-4.27_Nneg \n",
       "             4989              4989              4989              4989 \n",
       "sample5-4.09_Npos sample6-4.30_Npos sample6-1.12_Npos sample6-3.18_Npos \n",
       "             4989              4989              4989              4989 \n",
       "sample1-4.24_Npos sample3-3.06_Npos sample5-4.06_Nneg sample6-4.17_Nneg \n",
       "             4989              4989              4989              4989 \n",
       "sample5-3.11_Npos sample5-3.16_Npos sample5-2.05_Nneg sample3-3.07_Nneg \n",
       "             4989              4989              4989              4989 \n",
       "sample1-1.27_Npos sample5-4.05_Nneg sample5-1.25_Npos sample6-1.07_Nneg \n",
       "             4989              4989              4989              4989 \n",
       "sample5-2.18_Nneg sample6-2.26_Npos sample6-2.05_Nneg sample2-3.07_Nneg \n",
       "             4989              4989              4989              4989 \n",
       "sample5-3.16_Nneg sample5-4.06_Npos sample3-1.09_Npos sample3-4.15_Nneg \n",
       "             4989              4989              4989              4989 \n",
       "sample1-3.07_Npos sample5-2.15_Npos sample4-2.05_Npos sample6-4.30_Nneg \n",
       "             4989              4989              4989              4989 \n",
       "sample5-3.27_Npos sample2-3.07_Npos sample6-1.12_Nneg sample4-3.10_Npos \n",
       "             4989              4989              4989              4989 \n",
       "sample6-2.16_Nneg sample5-3.17_Nneg sample5-1.16_Npos sample3-2.03_Npos \n",
       "             4989              4989              4989              4989 \n",
       "sample1-2.23_Npos sample5-4.09_Nneg sample2-2.08_Npos sample2-3.05_Npos \n",
       "             4989              4989              4989              4989 \n",
       "sample2-1.08_Nneg sample3-4.15_Npos sample6-3.01_Nneg sample5-1.16_Nneg \n",
       "             4989              4989              4989              4989 \n",
       "sample2-1.08_Npos sample1-1.27_Nneg sample4-3.10_Nneg sample5-1.29_Nneg \n",
       "             4989              4989              4989              4989 \n",
       "sample4-2.02_Npos sample5-2.15_Nneg sample1-3.08_Nneg sample3-1.09_Nneg \n",
       "             4989              4989              4989              4989 \n",
       "sample2-4.25_Nneg sample5-2.18_Npos sample5-2.29_Npos sample2-4.25_Npos \n",
       "             4989              4989              4989              4989 \n",
       "sample7-1.13_Npos sample7-4.02_Npos sample8-2.07_Nneg sample7-4.02_Nneg \n",
       "             4989              4989              4989              4989 \n",
       "sample3-1.20_Npos sample8-4.27_Npos sample5-2.05_Npos sample7-1.04_Npos \n",
       "             4989              4989              4989              4989 \n",
       "sample8-4.23_Nneg sample4-4.27_Npos sample7-3.19_Nneg sample7-1.06_Nneg \n",
       "             4989              4989              4989              4989 \n",
       "sample7-4.03_Npos sample8-1.14_Npos sample7-2.12_Npos sample3-1.06_Nneg \n",
       "             4989              4989              4989              4989 \n",
       "sample3-4.18_Nneg sample8-3.28_Npos sample6-1.18_Nneg sample7-2.12_Nneg \n",
       "             4989              4989              4989              4989 \n",
       "sample7-2.28_Nneg sample2-2.10_Nneg sample8-2.17_Npos sample3-2.19_Npos \n",
       "             4989              4989              4989              4989 \n",
       "sample8-2.25_Nneg sample6-3.09_Nneg sample8-2.05_Nneg sample4-1.06_Npos \n",
       "             4989              4989              4989              4989 \n",
       "sample2-3.20_Npos sample6-2.05_Npos sample2-3.20_Nneg sample8-3.07_Nneg \n",
       "             4989              4989              4989              4989 \n",
       "sample3-3.30_Npos sample8-1.06_Npos sample8-4.23_Npos sample8-3.03_Npos \n",
       "             4989              4989              4989              4989 \n",
       "sample6-4.13_Npos sample8-4.07_Nneg sample6-1.18_Npos sample7-3.25_Npos \n",
       "             4989              4989              4989              4989 \n",
       "sample8-3.23_Nneg sample7-2.30_Npos sample7-1.13_Nneg sample8-2.22_Npos \n",
       "             4989              4989              4989              4989 \n",
       "sample7-2.30_Nneg sample2-1.24_Npos sample7-3.07_Nneg sample6-2.14_Npos \n",
       "             4989              4989              4989              4989 \n",
       "sample8-1.14_Nneg sample3-1.20_Nneg sample8-1.19_Npos sample7-2.28_Npos \n",
       "             4989              4989              4989              4989 \n",
       "sample7-3.19_Npos sample8-1.06_Nneg sample7-1.04_Nneg sample8-1.19_Nneg \n",
       "             4989              4989              4989              4989 \n",
       "sample7-3.12_Nneg sample7-4.03_Nneg sample7-1.28_Npos sample7-2.05_Nneg \n",
       "             4989              4989              4989              4989 \n",
       "sample8-1.10_Npos sample7-1.28_Nneg sample7-3.25_Nneg sample7-2.05_Npos \n",
       "             4989              4989              4989              4989 \n",
       "sample2-1.24_Nneg sample8-1.10_Nneg sample8-4.01_Npos sample3-4.27_Npos \n",
       "             4989              4989              4989              4989 \n",
       "sample7-4.14_Npos sample8-4.01_Nneg sample8-2.17_Nneg sample6-3.09_Npos \n",
       "             4989              4989              4989              4989 \n",
       "sample8-2.22_Nneg sample8-3.29_Nneg sample1-1.06_Npos sample8-4.07_Npos \n",
       "             4989              4989              4989              4989 \n",
       "sample8-4.27_Nneg sample8-1.23_Npos sample7-3.07_Npos sample8-3.28_Nneg \n",
       "             4989              4989              4989              4989 \n",
       "sample2-2.10_Npos sample6-4.13_Nneg sample3-2.19_Nneg sample7-3.12_Npos \n",
       "             4989              4989              4989              4989 \n",
       "sample8-3.23_Npos sample8-2.05_Npos sample8-3.29_Npos sample8-1.23_Nneg \n",
       "             4989              4989              4989              4989 \n",
       "sample6-2.14_Nneg sample8-4.04_Nneg sample8-3.07_Npos sample3-3.30_Nneg \n",
       "             4989              4989              4989              4989 \n",
       "sample7-4.14_Nneg sample1-1.06_Nneg sample8-2.07_Npos sample3-4.18_Npos \n",
       "             4989              4989              4989              4989 \n",
       "sample7-4.27_Nneg sample8-4.04_Npos sample8-2.25_Npos sample8-3.03_Nneg \n",
       "             4989              4989              4989              4989 \n",
       "sample7-1.06_Npos sample7-4.27_Npos \n",
       "             4989              4989 \n"
      ]
     },
     "metadata": {},
     "output_type": "display_data"
    }
   ],
   "source": [
    "%%R\n",
    "set.seed(605)\n",
    "physeq.r = rarefy_even_depth(physeq.thresh)\n",
    "sample_sums(physeq.r)"
   ]
  },
  {
   "cell_type": "code",
   "execution_count": 12,
   "metadata": {
    "collapsed": false
   },
   "outputs": [
    {
     "data": {
      "text/plain": [
       "phyloseq-class experiment-level object\n",
       "otu_table()   OTU Table:         [ 4982 taxa and 238 samples ]\n",
       "sample_data() Sample Data:       [ 238 samples by 22 sample variables ]\n",
       "tax_table()   Taxonomy Table:    [ 4982 taxa by 8 taxonomic ranks ]\n",
       "phy_tree()    Phylogenetic Tree: [ 4982 tips and 4981 internal nodes ]\n"
      ]
     },
     "metadata": {},
     "output_type": "display_data"
    }
   ],
   "source": [
    "%%R\n",
    "PassFilter = \n",
    "physeq.thresh %>%\n",
    "                 taxa_names()\n",
    "\n",
    "physeq.snorm = transform_sample_counts(physeq, function(x) x/sum(x))\n",
    "\n",
    "physeq.snorm = prune_taxa(PassFilter, physeq.snorm)  \n",
    "    \n",
    "physeq.snorm    "
   ]
  },
  {
   "cell_type": "markdown",
   "metadata": {},
   "source": [
    "Filtering function\n",
    "function(x): sum(x > 3) > 3, TRUE): 4982 taxa \n"
   ]
  },
  {
   "cell_type": "code",
   "execution_count": 13,
   "metadata": {
    "collapsed": false
   },
   "outputs": [
    {
     "data": {
      "text/plain": [
       "Sample Data:        [6 samples by 22 sample variables]:\n",
       "                           X.sample Library Primer_Plate Primer_Well_ID\n",
       "sample2-1.06_Npos sample2-1.06_Npos       1            1             H9\n",
       "sample6-4.27_Npos sample6-4.27_Npos       1            2            F11\n",
       "sample4-4.27_Nneg sample4-4.27_Nneg       1            1            B12\n",
       "sample4-1.06_Nneg sample4-1.06_Nneg       1            1            E11\n",
       "sample2-1.06_Nneg sample2-1.06_Nneg       1            1             G9\n",
       "sample6-3.07_Nneg sample6-3.07_Nneg       1            2            C11\n",
       "                  primerFR_ID_byPlate primerFR_ID_total barcode_ID    PlotID\n",
       "sample2-1.06_Npos                  72                72         72 1.06_Npos\n",
       "sample6-4.27_Npos                  86               182        182 4.27_Npos\n",
       "sample4-4.27_Nneg                  90                90         90 4.27_Nneg\n",
       "sample4-1.06_Nneg                  85                85         85 1.06_Nneg\n",
       "sample2-1.06_Nneg                  71                71         71 1.06_Nneg\n",
       "sample6-3.07_Nneg                  83               179        179 3.07_Nneg\n",
       "                  Plant Plot Treatment Rep DAP Sampling  PlantSample Type\n",
       "sample2-1.06_Npos  BARE 1.06      Npos   1  53  sample2 BARE_sample2 BARE\n",
       "sample6-4.27_Npos  BARE 4.27      Npos   4  79  sample6 BARE_sample6 BARE\n",
       "sample4-4.27_Nneg  BARE 4.27      Nneg   4  61  sample4 BARE_sample4 BARE\n",
       "sample4-1.06_Nneg  BARE 1.06      Nneg   1  61  sample4 BARE_sample4 BARE\n",
       "sample2-1.06_Nneg  BARE 1.06      Nneg   1  53  sample2 BARE_sample2 BARE\n",
       "sample6-3.07_Nneg  BARE 3.07      Nneg   3  79  sample6 BARE_sample6 BARE\n",
       "                  Grass_Broad    Status Subfamily fwd_barcode rev_barcode\n",
       "sample2-1.06_Npos   Bare_Soil Bare_Soil      <NA>    GACACCGT    GTCGTAGT\n",
       "sample6-4.27_Npos   Bare_Soil Bare_Soil      <NA>    TCGACGAG    TCATAGAC\n",
       "sample4-4.27_Nneg   Bare_Soil Bare_Soil      <NA>    ACTATCTG    TCGCTATA\n",
       "sample4-1.06_Nneg   Bare_Soil Bare_Soil      <NA>    TCATCGAG    TCATAGAC\n",
       "sample2-1.06_Nneg   Bare_Soil Bare_Soil      <NA>    GGATATCT    GTCGTAGT\n",
       "sample6-3.07_Nneg   Bare_Soil Bare_Soil      <NA>    AGAGTCAC    TCATAGAC\n",
       "                  Planted\n",
       "sample2-1.06_Npos    BARE\n",
       "sample6-4.27_Npos    BARE\n",
       "sample4-4.27_Nneg    BARE\n",
       "sample4-1.06_Nneg    BARE\n",
       "sample2-1.06_Nneg    BARE\n",
       "sample6-3.07_Nneg    BARE\n"
      ]
     },
     "metadata": {},
     "output_type": "display_data"
    }
   ],
   "source": [
    "%%R\n",
    "head(sample_data(physeq.thresh))"
   ]
  },
  {
   "cell_type": "markdown",
   "metadata": {},
   "source": [
    "## Join plant data for consistent meta-data set across notebooks"
   ]
  },
  {
   "cell_type": "code",
   "execution_count": 14,
   "metadata": {
    "collapsed": false
   },
   "outputs": [
    {
     "data": {
      "text/plain": [
       " [1] \"Unique\"             \"PlotID\"             \"Plant\"             \n",
       " [4] \"Plot\"               \"Treatment\"          \"Rep\"               \n",
       " [7] \"DAP\"                \"Sampling\"           \"PlantSample\"       \n",
       "[10] \"Type\"               \"Grass_Broad\"        \"Status\"            \n",
       "[13] \"Subfamily\"          \"Symbol_class\"       \"Plant_num\"         \n",
       "[16] \"Leaf_AreaBiomass_g\" \"Biomass_T\"          \"Biomass_P\"         \n",
       "[19] \"Leaf_Area_cm2\"      \"SLA\"                \"Leaf_N\"            \n",
       "[22] \"Leaf_C\"             \"LeafC_N\"            \"LNa\"               \n",
       "[25] \"Plant_N\"            \"Plant_C\"            \"Plant_CN\"          \n",
       "[28] \"d15N\"               \"tN_p\"               \"BX_act\"            \n",
       "[31] \"CB_act\"             \"LAP_act\"            \"NAG_act\"           \n",
       "[34] \"soil_dw\"            \"BX_activity_g\"      \"CB_activity_g\"     \n",
       "[37] \"LAP_activity_g\"     \"NAG_activity_g\"     \"BX_barefactor\"     \n",
       "[40] \"CB_barefactor\"      \"LAP_barefactor\"     \"NAG_barefactor\"    \n",
       "[43] \"BX_dif\"             \"CB_dif\"             \"LAP_dif\"           \n",
       "[46] \"NAG_dif\"            \"BX_rel\"             \"CB_rel\"            \n",
       "[49] \"LAP_rel\"            \"NAG_rel\"            \"NO3_ug_g\"          \n",
       "[52] \"NH4_ug_g\"           \"InorganicN\"         \"Resid_logB\"        \n",
       "[55] \"Resid_logN\"         \"Resid_logCN\"        \"Resid_logSLA\"      \n",
       "[58] \"Resid_LeafN\"       \n"
      ]
     },
     "metadata": {},
     "output_type": "display_data"
    }
   ],
   "source": [
    "%%R\n",
    "plantData = read.table('/home/bryan/RhizCG/data/MiSeq_amplicon/PlotData.txt', header = TRUE)\n",
    "colnames(plantData)"
   ]
  },
  {
   "cell_type": "code",
   "execution_count": 15,
   "metadata": {
    "collapsed": false,
    "scrolled": true
   },
   "outputs": [
    {
     "data": {
      "text/plain": [
       "Sample Data:        [6 samples by 49 sample variables]:\n",
       "                           X.sample Library Primer_Plate Primer_Well_ID\n",
       "sample2-1.06_Npos sample2-1.06_Npos       1            1             H9\n",
       "sample6-4.27_Npos sample6-4.27_Npos       1            2            F11\n",
       "sample4-4.27_Nneg sample4-4.27_Nneg       1            1            B12\n",
       "sample4-1.06_Nneg sample4-1.06_Nneg       1            1            E11\n",
       "sample2-1.06_Nneg sample2-1.06_Nneg       1            1             G9\n",
       "sample6-3.07_Nneg sample6-3.07_Nneg       1            2            C11\n",
       "                  primerFR_ID_byPlate primerFR_ID_total barcode_ID    PlotID\n",
       "sample2-1.06_Npos                  72                72         72 1.06_Npos\n",
       "sample6-4.27_Npos                  86               182        182 4.27_Npos\n",
       "sample4-4.27_Nneg                  90                90         90 4.27_Nneg\n",
       "sample4-1.06_Nneg                  85                85         85 1.06_Nneg\n",
       "sample2-1.06_Nneg                  71                71         71 1.06_Nneg\n",
       "sample6-3.07_Nneg                  83               179        179 3.07_Nneg\n",
       "                  Plant Plot Treatment Rep DAP Sampling  PlantSample Type\n",
       "sample2-1.06_Npos  BARE 1.06      Npos   1  53  sample2 BARE_sample2 BARE\n",
       "sample6-4.27_Npos  BARE 4.27      Npos   4  79  sample6 BARE_sample6 BARE\n",
       "sample4-4.27_Nneg  BARE 4.27      Nneg   4  61  sample4 BARE_sample4 BARE\n",
       "sample4-1.06_Nneg  BARE 1.06      Nneg   1  61  sample4 BARE_sample4 BARE\n",
       "sample2-1.06_Nneg  BARE 1.06      Nneg   1  53  sample2 BARE_sample2 BARE\n",
       "sample6-3.07_Nneg  BARE 3.07      Nneg   3  79  sample6 BARE_sample6 BARE\n",
       "                  Grass_Broad    Status Subfamily fwd_barcode rev_barcode\n",
       "sample2-1.06_Npos   Bare_Soil Bare_Soil      <NA>    GACACCGT    GTCGTAGT\n",
       "sample6-4.27_Npos   Bare_Soil Bare_Soil      <NA>    TCGACGAG    TCATAGAC\n",
       "sample4-4.27_Nneg   Bare_Soil Bare_Soil      <NA>    ACTATCTG    TCGCTATA\n",
       "sample4-1.06_Nneg   Bare_Soil Bare_Soil      <NA>    TCATCGAG    TCATAGAC\n",
       "sample2-1.06_Nneg   Bare_Soil Bare_Soil      <NA>    GGATATCT    GTCGTAGT\n",
       "sample6-3.07_Nneg   Bare_Soil Bare_Soil      <NA>    AGAGTCAC    TCATAGAC\n",
       "                  Planted Biomass_P SLA Leaf_N Leaf_C LeafC_N LNa Plant_N\n",
       "sample2-1.06_Npos    BARE        NA  NA     NA     NA      NA  NA      NA\n",
       "sample6-4.27_Npos    BARE        NA  NA     NA     NA      NA  NA      NA\n",
       "sample4-4.27_Nneg    BARE        NA  NA     NA     NA      NA  NA      NA\n",
       "sample4-1.06_Nneg    BARE        NA  NA     NA     NA      NA  NA      NA\n",
       "sample2-1.06_Nneg    BARE        NA  NA     NA     NA      NA  NA      NA\n",
       "sample6-3.07_Nneg    BARE        NA  NA     NA     NA      NA  NA      NA\n",
       "                  Plant_C Plant_CN d15N tN_p BX_activity_g CB_activity_g\n",
       "sample2-1.06_Npos      NA       NA   NA   NA      14.37839      15.33743\n",
       "sample6-4.27_Npos      NA       NA   NA   NA      18.04300      15.58645\n",
       "sample4-4.27_Nneg      NA       NA   NA   NA      14.21998      13.41572\n",
       "sample4-1.06_Nneg      NA       NA   NA   NA      12.47174      13.43524\n",
       "sample2-1.06_Nneg      NA       NA   NA   NA      13.38694      13.77502\n",
       "sample6-3.07_Nneg      NA       NA   NA   NA      16.99917      14.24016\n",
       "                  LAP_activity_g NAG_activity_g    BX_rel    CB_rel   LAP_rel\n",
       "sample2-1.06_Npos       126.3710       8.072898 0.9619222 1.0052433 1.0369561\n",
       "sample6-4.27_Npos       162.8417      11.510046 1.0309013 1.1157114 0.9495615\n",
       "sample4-4.27_Nneg       136.3123      14.630640 1.1099157 1.0489005 0.9709171\n",
       "sample4-1.06_Nneg       143.7310      11.876664 0.9734603 1.0504268 1.0237586\n",
       "sample2-1.06_Nneg       117.3431       8.576193 0.9103885 0.9385065 0.9792538\n",
       "sample6-3.07_Nneg       138.1199      11.177559 0.9434827 0.9449057 0.8154543\n",
       "                    NAG_rel  NO3_ug_g NH4_ug_g InorganicN Resid_logB Resid_logN\n",
       "sample2-1.06_Npos 0.9529984 25.984235 5.047010  31.031245         NA         NA\n",
       "sample6-4.27_Npos 1.0731442 14.538577 3.240556  17.779133         NA         NA\n",
       "sample4-4.27_Nneg 1.2257096  8.496635 4.921609  13.418243         NA         NA\n",
       "sample4-1.06_Nneg 0.9949900  8.141044 4.140496  12.281540         NA         NA\n",
       "sample2-1.06_Nneg 0.9713514  7.457856 3.334849  10.792706         NA         NA\n",
       "sample6-3.07_Nneg 0.9017986  7.086914 2.663943   9.750856         NA         NA\n",
       "                  Resid_logCN Resid_logSLA Resid_LeafN\n",
       "sample2-1.06_Npos          NA           NA          NA\n",
       "sample6-4.27_Npos          NA           NA          NA\n",
       "sample4-4.27_Nneg          NA           NA          NA\n",
       "sample4-1.06_Nneg          NA           NA          NA\n",
       "sample2-1.06_Nneg          NA           NA          NA\n",
       "sample6-3.07_Nneg          NA           NA          NA\n"
      ]
     },
     "metadata": {},
     "output_type": "display_data"
    }
   ],
   "source": [
    "%%R\n",
    "s = sample_data(physeq.thresh)\n",
    "PD = plantData[,c(1,18, 20:29, 35:38, 47:58)]\n",
    "s2 = left_join(s, PD, by = c(\"X.sample\" = \"Unique\"))\n",
    "rownames(s2) = s2$X.sample\n",
    "sample_data(physeq.thresh) = s2\n",
    "sample_data(physeq.thresh) %>% head"
   ]
  },
  {
   "cell_type": "code",
   "execution_count": 16,
   "metadata": {
    "collapsed": false,
    "scrolled": true
   },
   "outputs": [
    {
     "data": {
      "text/plain": [
       "Sample Data:        [6 samples by 49 sample variables]:\n",
       "                           X.sample Library Primer_Plate Primer_Well_ID\n",
       "sample2-1.06_Npos sample2-1.06_Npos       1            1             H9\n",
       "sample6-4.27_Npos sample6-4.27_Npos       1            2            F11\n",
       "sample4-4.27_Nneg sample4-4.27_Nneg       1            1            B12\n",
       "sample4-1.06_Nneg sample4-1.06_Nneg       1            1            E11\n",
       "sample2-1.06_Nneg sample2-1.06_Nneg       1            1             G9\n",
       "sample6-3.07_Nneg sample6-3.07_Nneg       1            2            C11\n",
       "                  primerFR_ID_byPlate primerFR_ID_total barcode_ID    PlotID\n",
       "sample2-1.06_Npos                  72                72         72 1.06_Npos\n",
       "sample6-4.27_Npos                  86               182        182 4.27_Npos\n",
       "sample4-4.27_Nneg                  90                90         90 4.27_Nneg\n",
       "sample4-1.06_Nneg                  85                85         85 1.06_Nneg\n",
       "sample2-1.06_Nneg                  71                71         71 1.06_Nneg\n",
       "sample6-3.07_Nneg                  83               179        179 3.07_Nneg\n",
       "                  Plant Plot Treatment Rep DAP Sampling  PlantSample Type\n",
       "sample2-1.06_Npos  BARE 1.06      Npos   1  53  sample2 BARE_sample2 BARE\n",
       "sample6-4.27_Npos  BARE 4.27      Npos   4  79  sample6 BARE_sample6 BARE\n",
       "sample4-4.27_Nneg  BARE 4.27      Nneg   4  61  sample4 BARE_sample4 BARE\n",
       "sample4-1.06_Nneg  BARE 1.06      Nneg   1  61  sample4 BARE_sample4 BARE\n",
       "sample2-1.06_Nneg  BARE 1.06      Nneg   1  53  sample2 BARE_sample2 BARE\n",
       "sample6-3.07_Nneg  BARE 3.07      Nneg   3  79  sample6 BARE_sample6 BARE\n",
       "                  Grass_Broad    Status Subfamily fwd_barcode rev_barcode\n",
       "sample2-1.06_Npos   Bare_Soil Bare_Soil      <NA>    GACACCGT    GTCGTAGT\n",
       "sample6-4.27_Npos   Bare_Soil Bare_Soil      <NA>    TCGACGAG    TCATAGAC\n",
       "sample4-4.27_Nneg   Bare_Soil Bare_Soil      <NA>    ACTATCTG    TCGCTATA\n",
       "sample4-1.06_Nneg   Bare_Soil Bare_Soil      <NA>    TCATCGAG    TCATAGAC\n",
       "sample2-1.06_Nneg   Bare_Soil Bare_Soil      <NA>    GGATATCT    GTCGTAGT\n",
       "sample6-3.07_Nneg   Bare_Soil Bare_Soil      <NA>    AGAGTCAC    TCATAGAC\n",
       "                  Planted Biomass_P SLA Leaf_N Leaf_C LeafC_N LNa Plant_N\n",
       "sample2-1.06_Npos    BARE        NA  NA     NA     NA      NA  NA      NA\n",
       "sample6-4.27_Npos    BARE        NA  NA     NA     NA      NA  NA      NA\n",
       "sample4-4.27_Nneg    BARE        NA  NA     NA     NA      NA  NA      NA\n",
       "sample4-1.06_Nneg    BARE        NA  NA     NA     NA      NA  NA      NA\n",
       "sample2-1.06_Nneg    BARE        NA  NA     NA     NA      NA  NA      NA\n",
       "sample6-3.07_Nneg    BARE        NA  NA     NA     NA      NA  NA      NA\n",
       "                  Plant_C Plant_CN d15N tN_p BX_activity_g CB_activity_g\n",
       "sample2-1.06_Npos      NA       NA   NA   NA      14.37839      15.33743\n",
       "sample6-4.27_Npos      NA       NA   NA   NA      18.04300      15.58645\n",
       "sample4-4.27_Nneg      NA       NA   NA   NA      14.21998      13.41572\n",
       "sample4-1.06_Nneg      NA       NA   NA   NA      12.47174      13.43524\n",
       "sample2-1.06_Nneg      NA       NA   NA   NA      13.38694      13.77502\n",
       "sample6-3.07_Nneg      NA       NA   NA   NA      16.99917      14.24016\n",
       "                  LAP_activity_g NAG_activity_g    BX_rel    CB_rel   LAP_rel\n",
       "sample2-1.06_Npos       126.3710       8.072898 0.9619222 1.0052433 1.0369561\n",
       "sample6-4.27_Npos       162.8417      11.510046 1.0309013 1.1157114 0.9495615\n",
       "sample4-4.27_Nneg       136.3123      14.630640 1.1099157 1.0489005 0.9709171\n",
       "sample4-1.06_Nneg       143.7310      11.876664 0.9734603 1.0504268 1.0237586\n",
       "sample2-1.06_Nneg       117.3431       8.576193 0.9103885 0.9385065 0.9792538\n",
       "sample6-3.07_Nneg       138.1199      11.177559 0.9434827 0.9449057 0.8154543\n",
       "                    NAG_rel  NO3_ug_g NH4_ug_g InorganicN Resid_logB Resid_logN\n",
       "sample2-1.06_Npos 0.9529984 25.984235 5.047010  31.031245         NA         NA\n",
       "sample6-4.27_Npos 1.0731442 14.538577 3.240556  17.779133         NA         NA\n",
       "sample4-4.27_Nneg 1.2257096  8.496635 4.921609  13.418243         NA         NA\n",
       "sample4-1.06_Nneg 0.9949900  8.141044 4.140496  12.281540         NA         NA\n",
       "sample2-1.06_Nneg 0.9713514  7.457856 3.334849  10.792706         NA         NA\n",
       "sample6-3.07_Nneg 0.9017986  7.086914 2.663943   9.750856         NA         NA\n",
       "                  Resid_logCN Resid_logSLA Resid_LeafN\n",
       "sample2-1.06_Npos          NA           NA          NA\n",
       "sample6-4.27_Npos          NA           NA          NA\n",
       "sample4-4.27_Nneg          NA           NA          NA\n",
       "sample4-1.06_Nneg          NA           NA          NA\n",
       "sample2-1.06_Nneg          NA           NA          NA\n",
       "sample6-3.07_Nneg          NA           NA          NA\n"
      ]
     },
     "metadata": {},
     "output_type": "display_data"
    }
   ],
   "source": [
    "%%R\n",
    "s = sample_data(physeq.snorm)\n",
    "PD = plantData[,c(1,18, 20:29, 35:38, 47:58)]\n",
    "s2 = left_join(s, PD, by = c(\"X.sample\" = \"Unique\"))\n",
    "rownames(s2) = s2$X.sample\n",
    "sample_data(physeq.snorm) = s2\n",
    "sample_data(physeq.snorm) %>% head"
   ]
  },
  {
   "cell_type": "code",
   "execution_count": 17,
   "metadata": {
    "collapsed": false
   },
   "outputs": [
    {
     "data": {
      "text/plain": [
       "Sample Data:        [6 samples by 49 sample variables]:\n",
       "                           X.sample Library Primer_Plate Primer_Well_ID\n",
       "sample2-1.06_Npos sample2-1.06_Npos       1            1             H9\n",
       "sample6-4.27_Npos sample6-4.27_Npos       1            2            F11\n",
       "sample4-4.27_Nneg sample4-4.27_Nneg       1            1            B12\n",
       "sample4-1.06_Nneg sample4-1.06_Nneg       1            1            E11\n",
       "sample2-1.06_Nneg sample2-1.06_Nneg       1            1             G9\n",
       "sample6-3.07_Nneg sample6-3.07_Nneg       1            2            C11\n",
       "                  primerFR_ID_byPlate primerFR_ID_total barcode_ID    PlotID\n",
       "sample2-1.06_Npos                  72                72         72 1.06_Npos\n",
       "sample6-4.27_Npos                  86               182        182 4.27_Npos\n",
       "sample4-4.27_Nneg                  90                90         90 4.27_Nneg\n",
       "sample4-1.06_Nneg                  85                85         85 1.06_Nneg\n",
       "sample2-1.06_Nneg                  71                71         71 1.06_Nneg\n",
       "sample6-3.07_Nneg                  83               179        179 3.07_Nneg\n",
       "                  Plant Plot Treatment Rep DAP Sampling  PlantSample Type\n",
       "sample2-1.06_Npos  BARE 1.06      Npos   1  53  sample2 BARE_sample2 BARE\n",
       "sample6-4.27_Npos  BARE 4.27      Npos   4  79  sample6 BARE_sample6 BARE\n",
       "sample4-4.27_Nneg  BARE 4.27      Nneg   4  61  sample4 BARE_sample4 BARE\n",
       "sample4-1.06_Nneg  BARE 1.06      Nneg   1  61  sample4 BARE_sample4 BARE\n",
       "sample2-1.06_Nneg  BARE 1.06      Nneg   1  53  sample2 BARE_sample2 BARE\n",
       "sample6-3.07_Nneg  BARE 3.07      Nneg   3  79  sample6 BARE_sample6 BARE\n",
       "                  Grass_Broad    Status Subfamily fwd_barcode rev_barcode\n",
       "sample2-1.06_Npos   Bare_Soil Bare_Soil      <NA>    GACACCGT    GTCGTAGT\n",
       "sample6-4.27_Npos   Bare_Soil Bare_Soil      <NA>    TCGACGAG    TCATAGAC\n",
       "sample4-4.27_Nneg   Bare_Soil Bare_Soil      <NA>    ACTATCTG    TCGCTATA\n",
       "sample4-1.06_Nneg   Bare_Soil Bare_Soil      <NA>    TCATCGAG    TCATAGAC\n",
       "sample2-1.06_Nneg   Bare_Soil Bare_Soil      <NA>    GGATATCT    GTCGTAGT\n",
       "sample6-3.07_Nneg   Bare_Soil Bare_Soil      <NA>    AGAGTCAC    TCATAGAC\n",
       "                  Planted Biomass_P SLA Leaf_N Leaf_C LeafC_N LNa Plant_N\n",
       "sample2-1.06_Npos    BARE        NA  NA     NA     NA      NA  NA      NA\n",
       "sample6-4.27_Npos    BARE        NA  NA     NA     NA      NA  NA      NA\n",
       "sample4-4.27_Nneg    BARE        NA  NA     NA     NA      NA  NA      NA\n",
       "sample4-1.06_Nneg    BARE        NA  NA     NA     NA      NA  NA      NA\n",
       "sample2-1.06_Nneg    BARE        NA  NA     NA     NA      NA  NA      NA\n",
       "sample6-3.07_Nneg    BARE        NA  NA     NA     NA      NA  NA      NA\n",
       "                  Plant_C Plant_CN d15N tN_p BX_activity_g CB_activity_g\n",
       "sample2-1.06_Npos      NA       NA   NA   NA      14.37839      15.33743\n",
       "sample6-4.27_Npos      NA       NA   NA   NA      18.04300      15.58645\n",
       "sample4-4.27_Nneg      NA       NA   NA   NA      14.21998      13.41572\n",
       "sample4-1.06_Nneg      NA       NA   NA   NA      12.47174      13.43524\n",
       "sample2-1.06_Nneg      NA       NA   NA   NA      13.38694      13.77502\n",
       "sample6-3.07_Nneg      NA       NA   NA   NA      16.99917      14.24016\n",
       "                  LAP_activity_g NAG_activity_g    BX_rel    CB_rel   LAP_rel\n",
       "sample2-1.06_Npos       126.3710       8.072898 0.9619222 1.0052433 1.0369561\n",
       "sample6-4.27_Npos       162.8417      11.510046 1.0309013 1.1157114 0.9495615\n",
       "sample4-4.27_Nneg       136.3123      14.630640 1.1099157 1.0489005 0.9709171\n",
       "sample4-1.06_Nneg       143.7310      11.876664 0.9734603 1.0504268 1.0237586\n",
       "sample2-1.06_Nneg       117.3431       8.576193 0.9103885 0.9385065 0.9792538\n",
       "sample6-3.07_Nneg       138.1199      11.177559 0.9434827 0.9449057 0.8154543\n",
       "                    NAG_rel  NO3_ug_g NH4_ug_g InorganicN Resid_logB Resid_logN\n",
       "sample2-1.06_Npos 0.9529984 25.984235 5.047010  31.031245         NA         NA\n",
       "sample6-4.27_Npos 1.0731442 14.538577 3.240556  17.779133         NA         NA\n",
       "sample4-4.27_Nneg 1.2257096  8.496635 4.921609  13.418243         NA         NA\n",
       "sample4-1.06_Nneg 0.9949900  8.141044 4.140496  12.281540         NA         NA\n",
       "sample2-1.06_Nneg 0.9713514  7.457856 3.334849  10.792706         NA         NA\n",
       "sample6-3.07_Nneg 0.9017986  7.086914 2.663943   9.750856         NA         NA\n",
       "                  Resid_logCN Resid_logSLA Resid_LeafN\n",
       "sample2-1.06_Npos          NA           NA          NA\n",
       "sample6-4.27_Npos          NA           NA          NA\n",
       "sample4-4.27_Nneg          NA           NA          NA\n",
       "sample4-1.06_Nneg          NA           NA          NA\n",
       "sample2-1.06_Nneg          NA           NA          NA\n",
       "sample6-3.07_Nneg          NA           NA          NA\n"
      ]
     },
     "metadata": {},
     "output_type": "display_data"
    }
   ],
   "source": [
    "%%R\n",
    "s = sample_data(physeq.r)\n",
    "PD = plantData[,c(1,18, 20:29, 35:38, 47:58)]\n",
    "s2 = left_join(s, PD, by = c(\"X.sample\" = \"Unique\"))\n",
    "rownames(s2) = s2$X.sample\n",
    "sample_data(physeq.r) = s2\n",
    "sample_data(physeq.r) %>% head"
   ]
  },
  {
   "cell_type": "code",
   "execution_count": 19,
   "metadata": {
    "collapsed": false,
    "scrolled": true
   },
   "outputs": [
    {
     "data": {
      "text/plain": [
       "sample2-1.06_Npos sample6-4.27_Npos sample4-4.27_Nneg sample4-1.06_Nneg \n",
       "        0.9772621         0.9742362         0.9730047         0.9782814 \n",
       "sample2-1.06_Nneg sample6-3.07_Nneg sample5-3.07_Nneg sample6-3.07_Npos \n",
       "        0.9773245         0.9755345         0.9746259         0.9753871 \n",
       "sample3-3.07_Npos sample5-1.22_Nneg sample6-4.12_Npos sample1-4.27_Npos \n",
       "        0.9790742         0.9792347         0.9738639         0.9751155 \n",
       "sample4-1.03_Npos sample5-2.06_Npos sample5-4.08_Npos sample4-3.07_Nneg \n",
       "        0.9740260         0.9733520         0.9751371         0.9729829 \n",
       "sample5-4.28_Npos sample6-1.06_Npos sample4-2.05_Nneg sample2-4.27_Nneg \n",
       "        0.9745989         0.9784634         0.9746913         0.9741586 \n",
       "sample1-2.05_Nneg sample5-1.29_Npos sample5-4.27_Npos sample5-4.27_Nneg \n",
       "        0.9741184         0.9855837         0.9752546         0.9739945 \n",
       "sample1-3.07_Nneg sample4-2.02_Nneg sample4-4.21_Nneg sample2-2.05_Nneg \n",
       "        0.9757936         0.9853445         0.9763321         0.9726869 \n",
       "sample6-2.13_Npos sample5-2.29_Nneg sample5-2.06_Nneg sample1-2.23_Nneg \n",
       "        0.9814458         0.9789996         0.9791641         0.9731379 \n",
       "sample6-2.26_Nneg sample6-3.18_Nneg sample5-3.13_Nneg sample2-2.08_Nneg \n",
       "        0.9815855         0.9771016         0.9792623         0.9828099 \n",
       "sample1-2.05_Npos sample3-2.05_Nneg sample5-1.17_Nneg sample6-3.01_Npos \n",
       "        0.9741304         0.9769838         0.9789644         0.9730542 \n",
       "sample3-2.03_Nneg sample5-4.08_Nneg sample5-4.05_Npos sample5-1.06_Npos \n",
       "        0.9844135         0.9787673         0.9821216         0.9791695 \n",
       "sample1-4.27_Nneg sample6-2.16_Npos sample1-4.24_Nneg sample5-4.28_Nneg \n",
       "        0.9745597         0.9795839         0.9672600         0.9723668 \n",
       "sample6-2.13_Nneg sample1-3.08_Npos sample6-3.04_Npos sample6-1.06_Nneg \n",
       "        0.9768269         0.9761806         0.9795672         0.9747760 \n",
       "sample4-1.03_Nneg sample5-1.22_Npos sample6-1.15_Nneg sample2-2.05_Npos \n",
       "        0.9798574         0.9867393         0.9816427         0.9758415 \n",
       "sample2-4.27_Npos sample5-2.11_Nneg sample4-4.21_Npos sample6-4.12_Nneg \n",
       "        0.9751730         0.9708620         0.9822533         0.9727549 \n",
       "sample5-1.25_Nneg sample6-4.17_Npos sample3-1.06_Npos sample6-3.04_Nneg \n",
       "        0.9835555         0.9760883         0.9780117         0.9748591 \n",
       "sample5-3.27_Nneg sample6-1.15_Npos sample5-3.11_Nneg sample5-2.11_Npos \n",
       "        0.9824245         0.9828990         0.9787883         0.9797984 \n",
       "sample4-3.07_Npos sample5-3.17_Npos sample5-3.07_Npos sample5-1.17_Npos \n",
       "        0.9762816         0.9603089         0.9783666         0.9819473 \n",
       "sample3-3.06_Nneg sample3-2.05_Npos sample2-3.05_Nneg sample6-4.27_Nneg \n",
       "        0.9840897         0.9773966         0.9799742         0.9729290 \n",
       "sample6-1.07_Npos sample5-3.13_Npos sample5-1.06_Nneg sample3-4.27_Nneg \n",
       "        0.9789273         0.9812857         0.9746742         0.9751630 \n",
       "sample5-4.09_Npos sample6-4.30_Npos sample6-1.12_Npos sample6-3.18_Npos \n",
       "        0.9762111         0.9796756         0.9885158         0.9669467 \n",
       "sample1-4.24_Npos sample3-3.06_Npos sample5-4.06_Nneg sample6-4.17_Nneg \n",
       "        0.9717544         0.9879224         0.9754702         0.9581877 \n",
       "sample5-3.11_Npos sample5-3.16_Npos sample5-2.05_Nneg sample3-3.07_Nneg \n",
       "        0.9773572         0.9821578         0.9779777         0.9731802 \n",
       "sample1-1.27_Npos sample5-4.05_Nneg sample5-1.25_Npos sample6-1.07_Nneg \n",
       "        0.9710086         0.9743454         0.9823256         0.9804899 \n",
       "sample5-2.18_Nneg sample6-2.26_Npos sample6-2.05_Nneg sample2-3.07_Nneg \n",
       "        0.9840418         0.9843473         0.9729637         0.9748289 \n",
       "sample5-3.16_Nneg sample5-4.06_Npos sample3-1.09_Npos sample3-4.15_Nneg \n",
       "        0.9761885         0.9768935         0.9793636         0.9832331 \n",
       "sample1-3.07_Npos sample5-2.15_Npos sample4-2.05_Npos sample6-4.30_Nneg \n",
       "        0.9775329         0.9816785         0.9734157         0.9813049 \n",
       "sample5-3.27_Npos sample2-3.07_Npos sample6-1.12_Nneg sample4-3.10_Npos \n",
       "        0.9777750         0.9801377         0.9834212         0.9724898 \n",
       "sample6-2.16_Nneg sample5-3.17_Nneg sample5-1.16_Npos sample3-2.03_Npos \n",
       "        0.9794641         0.9808235         0.9844375         0.9841060 \n",
       "sample1-2.23_Npos sample5-4.09_Nneg sample2-2.08_Npos sample2-3.05_Npos \n",
       "        0.9755478         0.9786676         0.9813669         0.9797043 \n",
       "sample2-1.08_Nneg sample3-4.15_Npos sample6-3.01_Nneg sample5-1.16_Nneg \n",
       "        0.9871219         0.9845558         0.9760823         0.9804970 \n",
       "sample2-1.08_Npos sample1-1.27_Nneg sample4-3.10_Nneg sample5-1.29_Nneg \n",
       "        0.9891160         0.9690095         0.9779615         0.9821812 \n",
       "sample4-2.02_Npos sample5-2.15_Nneg sample1-3.08_Nneg sample3-1.09_Nneg \n",
       "        0.9817242         0.9743313         0.9750856         0.9826569 \n",
       "sample2-4.25_Nneg sample5-2.18_Npos sample5-2.29_Npos sample2-4.25_Npos \n",
       "        0.9830452         0.9746279         0.9777319         0.9770531 \n",
       "sample7-1.13_Npos sample7-4.02_Npos sample8-2.07_Nneg sample7-4.02_Nneg \n",
       "        0.9825731         0.9853315         0.9626016         0.9846702 \n",
       "sample3-1.20_Npos sample8-4.27_Npos sample5-2.05_Npos sample7-1.04_Npos \n",
       "        0.9807891         0.9758492         0.9803155         0.9805460 \n",
       "sample8-4.23_Nneg sample4-4.27_Npos sample7-3.19_Nneg sample7-1.06_Nneg \n",
       "        0.9807406         0.9780213         0.9812467         0.9783410 \n",
       "sample7-4.03_Npos sample8-1.14_Npos sample7-2.12_Npos sample3-1.06_Nneg \n",
       "        0.9867502         0.9784178         0.9868750         0.9757365 \n",
       "sample3-4.18_Nneg sample8-3.28_Npos sample6-1.18_Nneg sample7-2.12_Nneg \n",
       "        0.9815005         0.9800791         0.9816096         0.9824093 \n",
       "sample7-2.28_Nneg sample2-2.10_Nneg sample8-2.17_Npos sample3-2.19_Npos \n",
       "        0.9856713         0.9903130         0.9807642         0.9792529 \n",
       "sample8-2.25_Nneg sample6-3.09_Nneg sample8-2.05_Nneg sample4-1.06_Npos \n",
       "        0.9743309         0.9748391         0.9771027         0.9780906 \n",
       "sample2-3.20_Npos sample6-2.05_Npos sample2-3.20_Nneg sample8-3.07_Nneg \n",
       "        0.9801575         0.9827287         0.9739130         0.9763770 \n",
       "sample3-3.30_Npos sample8-1.06_Npos sample8-4.23_Npos sample8-3.03_Npos \n",
       "        0.9870949         0.9807552         0.9791643         0.9741824 \n",
       "sample6-4.13_Npos sample8-4.07_Nneg sample6-1.18_Npos sample7-3.25_Npos \n",
       "        0.9822051         0.9773568         0.9857293         0.9807309 \n",
       "sample8-3.23_Nneg sample7-2.30_Npos sample7-1.13_Nneg sample8-2.22_Npos \n",
       "        0.9812367         0.9784244         0.9822009         0.9782140 \n",
       "sample7-2.30_Nneg sample2-1.24_Npos sample7-3.07_Nneg sample6-2.14_Npos \n",
       "        0.9788427         0.9870923         0.9776557         0.9832024 \n",
       "sample8-1.14_Nneg sample3-1.20_Nneg sample8-1.19_Npos sample7-2.28_Npos \n",
       "        0.9759826         0.9750865         0.9793979         0.9841481 \n",
       "sample7-3.19_Npos sample8-1.06_Nneg sample7-1.04_Nneg sample8-1.19_Nneg \n",
       "        0.9775977         0.9794424         0.9805458         0.9766439 \n",
       "sample7-3.12_Nneg sample7-4.03_Nneg sample7-1.28_Npos sample7-2.05_Nneg \n",
       "        0.9840601         0.9826640         0.9813837         0.9766277 \n",
       "sample8-1.10_Npos sample7-1.28_Nneg sample7-3.25_Nneg sample7-2.05_Npos \n",
       "        0.9793462         0.9857820         0.9813801         0.9793231 \n",
       "sample2-1.24_Nneg sample8-1.10_Nneg sample8-4.01_Npos sample3-4.27_Npos \n",
       "        0.9821124         0.9776592         0.9730375         0.9776827 \n",
       "sample7-4.14_Npos sample8-4.01_Nneg sample8-2.17_Nneg sample6-3.09_Npos \n",
       "        0.9815506         0.9784999         0.9856919         0.9829248 \n",
       "sample8-2.22_Nneg sample8-3.29_Nneg sample1-1.06_Npos sample8-4.07_Npos \n",
       "        0.9713904         0.9705613         0.9779645         0.9741323 \n",
       "sample8-4.27_Nneg sample8-1.23_Npos sample7-3.07_Npos sample8-3.28_Nneg \n",
       "        0.9757022         0.9800460         0.9759941         0.9801770 \n",
       "sample2-2.10_Npos sample6-4.13_Nneg sample3-2.19_Nneg sample7-3.12_Npos \n",
       "        0.9784272         0.9765805         0.9859929         0.9862182 \n",
       "sample8-3.23_Npos sample8-2.05_Npos sample8-3.29_Npos sample8-1.23_Nneg \n",
       "        0.9819285         0.9760598         0.9803241         0.9793654 \n",
       "sample6-2.14_Nneg sample8-4.04_Nneg sample8-3.07_Npos sample3-3.30_Nneg \n",
       "        0.9782609         0.9823986         0.9777092         0.9742741 \n",
       "sample7-4.14_Nneg sample1-1.06_Nneg sample8-2.07_Npos sample3-4.18_Npos \n",
       "        0.9853842         0.9782565         0.9728204         0.9819806 \n",
       "sample7-4.27_Nneg sample8-4.04_Npos sample8-2.25_Npos sample8-3.03_Nneg \n",
       "        0.9745437         0.9801437         0.9807762         0.9765943 \n",
       "sample7-1.06_Npos sample7-4.27_Npos \n",
       "        0.9797933         0.9775726 \n"
      ]
     },
     "metadata": {},
     "output_type": "display_data"
    }
   ],
   "source": [
    "%%R\n",
    "sample_sums(physeq.snorm)"
   ]
  },
  {
   "cell_type": "markdown",
   "metadata": {},
   "source": [
    "# Output for other analyses"
   ]
  },
  {
   "cell_type": "code",
   "execution_count": 20,
   "metadata": {
    "collapsed": true
   },
   "outputs": [],
   "source": [
    "%%R -i workDir\n",
    "outFile = file.path(workDir, 'Full-Sparsity3in3')\n",
    "saveRDS(physeq.thresh, outFile)"
   ]
  },
  {
   "cell_type": "code",
   "execution_count": 21,
   "metadata": {
    "collapsed": true
   },
   "outputs": [],
   "source": [
    "%%R -i workDir\n",
    "outFile = file.path(workDir, 'Full-Sparsity3in3_relabund')\n",
    "saveRDS(physeq.snorm, outFile)"
   ]
  },
  {
   "cell_type": "code",
   "execution_count": 22,
   "metadata": {
    "collapsed": true
   },
   "outputs": [],
   "source": [
    "%%R -i workDir\n",
    "outFile = file.path(workDir, 'Full-Sparsity3in3_r')\n",
    "saveRDS(physeq.r, outFile)"
   ]
  }
 ],
 "metadata": {
  "hide_input": true,
  "kernelspec": {
   "display_name": "Python 2",
   "language": "python",
   "name": "python2"
  },
  "language_info": {
   "codemirror_mode": {
    "name": "ipython",
    "version": 2
   },
   "file_extension": ".py",
   "mimetype": "text/x-python",
   "name": "python",
   "nbconvert_exporter": "python",
   "pygments_lexer": "ipython2",
   "version": "2.7.11"
  }
 },
 "nbformat": 4,
 "nbformat_minor": 0
}
