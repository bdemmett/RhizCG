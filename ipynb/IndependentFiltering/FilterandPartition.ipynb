{
 "cells": [
  {
   "cell_type": "markdown",
   "metadata": {},
   "source": [
    "# Description:\n",
    "        Implement sparsity filter\n",
    "        Prune non-samples and 2 ECHCG samples that were not samples\n",
    "        Final threshold: physeq.thresh = filter_taxa(physeq, \n",
    "                 function(x) sum(x > 3) > 3, TRUE)\n",
    "        Join plant growth and enzyme metadata\n",
    "        Save output for consistent use in other notebooks"
   ]
  },
  {
   "cell_type": "markdown",
   "metadata": {},
   "source": [
    "# Setting variables"
   ]
  },
  {
   "cell_type": "code",
   "execution_count": 25,
   "metadata": {
    "collapsed": true
   },
   "outputs": [],
   "source": [
    "workDir = '/home/bryan/RhizCG/data/MiSeq_amplicon/MergedRuns/physeq/'\n",
    "biomFileDir = '/home/bryan/RhizCG/data/MiSeq_amplicon/MergedRuns/OTU_binning/'\n",
    "\n",
    "biomFile = '/home/bryan/RhizCG/data/MiSeq_amplicon/MergedRuns/OTU_binning/otu_table_wtax.biom'\n",
    "metadataFile = '/home/bryan/RhizCG/data/MiSeq_amplicon/metadata_RhizCG_merged.txt'\n",
    "treeFile = '/home/bryan/RhizCG/data/MiSeq_amplicon/MergedRuns/fasttree/otusn.tree'"
   ]
  },
  {
   "cell_type": "markdown",
   "metadata": {},
   "source": [
    "# Init"
   ]
  },
  {
   "cell_type": "code",
   "execution_count": 26,
   "metadata": {
    "collapsed": true
   },
   "outputs": [],
   "source": [
    "import os\n",
    "from pandas import DataFrame\n",
    "from IPython.display import FileLink"
   ]
  },
  {
   "cell_type": "code",
   "execution_count": 27,
   "metadata": {
    "collapsed": false
   },
   "outputs": [
    {
     "name": "stdout",
     "output_type": "stream",
     "text": [
      "The rpy2.ipython extension is already loaded. To reload it, use:\n",
      "  %reload_ext rpy2.ipython\n"
     ]
    }
   ],
   "source": [
    "\n",
    "%load_ext rpy2.ipython"
   ]
  },
  {
   "cell_type": "code",
   "execution_count": 28,
   "metadata": {
    "collapsed": false,
    "scrolled": true
   },
   "outputs": [],
   "source": [
    "%%R\n",
    "library(vegan)\n",
    "library(phyloseq)\n",
    "library(ggplot2)\n",
    "library(foreach)\n",
    "library(doParallel)\n",
    "library(gridExtra)\n",
    "library(dplyr)\n",
    "library(tidyr)"
   ]
  },
  {
   "cell_type": "markdown",
   "metadata": {},
   "source": [
    "# Loading/editting OTU table"
   ]
  },
  {
   "cell_type": "code",
   "execution_count": 29,
   "metadata": {
    "collapsed": false
   },
   "outputs": [],
   "source": [
    "%%R -i biomFile -i metadataFile -i workDir -i treeFile\n",
    "# loading\n",
    "setwd(workDir)\n",
    "\n",
    "## biom file\n",
    "physeq = import_biom(biomFile, treeFile)\n",
    "\n",
    "## loading sample metadata\n",
    "sample.data = import_qiime_sample_data(metadataFile)\n",
    "physeq = merge_phyloseq(physeq,sample.data)\n",
    "\n"
   ]
  },
  {
   "cell_type": "code",
   "execution_count": 30,
   "metadata": {
    "collapsed": false
   },
   "outputs": [
    {
     "data": {
      "text/plain": [
       "phyloseq-class experiment-level object\n",
       "otu_table()   OTU Table:         [ 11246 taxa and 238 samples ]\n",
       "sample_data() Sample Data:       [ 238 samples by 21 sample variables ]\n",
       "tax_table()   Taxonomy Table:    [ 11246 taxa by 8 taxonomic ranks ]\n",
       "phy_tree()    Phylogenetic Tree: [ 11246 tips and 11245 internal nodes ]\n"
      ]
     },
     "metadata": {},
     "output_type": "display_data"
    }
   ],
   "source": [
    "%%R\n",
    "#remove controls\n",
    "physeq = subset_samples(physeq, !is.na(Plant))\n",
    "\n",
    "#remove two ECHCG plots where only soil and no roots were collected and sequenced\n",
    "physeq = subset_samples(physeq, !(PlotID %in% c(\"4.16_Nneg\", \"4.16_Npos\"))) \n",
    "print(physeq)\n"
   ]
  },
  {
   "cell_type": "code",
   "execution_count": 31,
   "metadata": {
    "collapsed": false,
    "scrolled": true
   },
   "outputs": [
    {
     "data": {
      "text/plain": [
       "  [1] \"BARE\"        \"BARE\"        \"BARE\"        \"BARE\"        \"BARE\"       \n",
       "  [6] \"BARE\"        \"BARE\"        \"BARE\"        \"BARE\"        \"Rhizosphere\"\n",
       " [11] \"Rhizosphere\" \"BARE\"        \"Rhizosphere\" \"Rhizosphere\" \"Rhizosphere\"\n",
       " [16] \"BARE\"        \"Rhizosphere\" \"BARE\"        \"BARE\"        \"BARE\"       \n",
       " [21] \"BARE\"        \"Rhizosphere\" \"BARE\"        \"BARE\"        \"BARE\"       \n",
       " [26] \"Rhizosphere\" \"Rhizosphere\" \"BARE\"        \"Rhizosphere\" \"Rhizosphere\"\n",
       " [31] \"Rhizosphere\" \"Rhizosphere\" \"Rhizosphere\" \"Rhizosphere\" \"Rhizosphere\"\n",
       " [36] \"Rhizosphere\" \"BARE\"        \"BARE\"        \"Rhizosphere\" \"Rhizosphere\"\n",
       " [41] \"Rhizosphere\" \"Rhizosphere\" \"Rhizosphere\" \"BARE\"        \"BARE\"       \n",
       " [46] \"Rhizosphere\" \"Rhizosphere\" \"Rhizosphere\" \"Rhizosphere\" \"Rhizosphere\"\n",
       " [51] \"Rhizosphere\" \"BARE\"        \"Rhizosphere\" \"Rhizosphere\" \"Rhizosphere\"\n",
       " [56] \"BARE\"        \"BARE\"        \"Rhizosphere\" \"Rhizosphere\" \"Rhizosphere\"\n",
       " [61] \"Rhizosphere\" \"Rhizosphere\" \"BARE\"        \"Rhizosphere\" \"Rhizosphere\"\n",
       " [66] \"Rhizosphere\" \"Rhizosphere\" \"Rhizosphere\" \"BARE\"        \"Rhizosphere\"\n",
       " [71] \"BARE\"        \"Rhizosphere\" \"Rhizosphere\" \"BARE\"        \"Rhizosphere\"\n",
       " [76] \"BARE\"        \"Rhizosphere\" \"Rhizosphere\" \"BARE\"        \"BARE\"       \n",
       " [81] \"Rhizosphere\" \"Rhizosphere\" \"Rhizosphere\" \"Rhizosphere\" \"Rhizosphere\"\n",
       " [86] \"Rhizosphere\" \"Rhizosphere\" \"Rhizosphere\" \"Rhizosphere\" \"Rhizosphere\"\n",
       " [91] \"BARE\"        \"BARE\"        \"Rhizosphere\" \"Rhizosphere\" \"Rhizosphere\"\n",
       " [96] \"Rhizosphere\" \"Rhizosphere\" \"Rhizosphere\" \"BARE\"        \"BARE\"       \n",
       "[101] \"Rhizosphere\" \"Rhizosphere\" \"Rhizosphere\" \"Rhizosphere\" \"BARE\"       \n",
       "[106] \"Rhizosphere\" \"BARE\"        \"Rhizosphere\" \"Rhizosphere\" \"BARE\"       \n",
       "[111] \"Rhizosphere\" \"Rhizosphere\" \"Rhizosphere\" \"Rhizosphere\" \"Rhizosphere\"\n",
       "[116] \"Rhizosphere\" \"Rhizosphere\" \"Rhizosphere\" \"Rhizosphere\" \"Rhizosphere\"\n",
       "[121] \"Rhizosphere\" \"Rhizosphere\" \"Rhizosphere\" \"Rhizosphere\" \"Rhizosphere\"\n",
       "[126] \"Rhizosphere\" \"Rhizosphere\" \"Rhizosphere\" \"Rhizosphere\" \"Rhizosphere\"\n",
       "[131] \"Rhizosphere\" \"Rhizosphere\" \"Rhizosphere\" \"Rhizosphere\" \"Rhizosphere\"\n",
       "[136] \"Rhizosphere\" \"Rhizosphere\" \"Rhizosphere\" \"Rhizosphere\" \"Rhizosphere\"\n",
       "[141] \"Rhizosphere\" \"BARE\"        \"BARE\"        \"Rhizosphere\" \"Rhizosphere\"\n",
       "[146] \"BARE\"        \"Rhizosphere\" \"BARE\"        \"Rhizosphere\" \"Rhizosphere\"\n",
       "[151] \"Rhizosphere\" \"BARE\"        \"Rhizosphere\" \"Rhizosphere\" \"Rhizosphere\"\n",
       "[156] \"Rhizosphere\" \"Rhizosphere\" \"Rhizosphere\" \"Rhizosphere\" \"Rhizosphere\"\n",
       "[161] \"Rhizosphere\" \"Rhizosphere\" \"BARE\"        \"BARE\"        \"Rhizosphere\"\n",
       "[166] \"BARE\"        \"Rhizosphere\" \"BARE\"        \"Rhizosphere\" \"BARE\"       \n",
       "[171] \"Rhizosphere\" \"Rhizosphere\" \"Rhizosphere\" \"Rhizosphere\" \"Rhizosphere\"\n",
       "[176] \"Rhizosphere\" \"Rhizosphere\" \"Rhizosphere\" \"Rhizosphere\" \"Rhizosphere\"\n",
       "[181] \"Rhizosphere\" \"Rhizosphere\" \"BARE\"        \"Rhizosphere\" \"Rhizosphere\"\n",
       "[186] \"Rhizosphere\" \"Rhizosphere\" \"Rhizosphere\" \"Rhizosphere\" \"BARE\"       \n",
       "[191] \"Rhizosphere\" \"Rhizosphere\" \"Rhizosphere\" \"Rhizosphere\" \"Rhizosphere\"\n",
       "[196] \"BARE\"        \"Rhizosphere\" \"Rhizosphere\" \"Rhizosphere\" \"BARE\"       \n",
       "[201] \"Rhizosphere\" \"Rhizosphere\" \"Rhizosphere\" \"BARE\"        \"Rhizosphere\"\n",
       "[206] \"Rhizosphere\" \"Rhizosphere\" \"Rhizosphere\" \"Rhizosphere\" \"Rhizosphere\"\n",
       "[211] \"BARE\"        \"Rhizosphere\" \"BARE\"        \"Rhizosphere\" \"BARE\"       \n",
       "[216] \"Rhizosphere\" \"Rhizosphere\" \"Rhizosphere\" \"Rhizosphere\" \"Rhizosphere\"\n",
       "[221] \"Rhizosphere\" \"BARE\"        \"Rhizosphere\" \"Rhizosphere\" \"Rhizosphere\"\n",
       "[226] \"Rhizosphere\" \"BARE\"        \"Rhizosphere\" \"Rhizosphere\" \"BARE\"       \n",
       "[231] \"Rhizosphere\" \"Rhizosphere\" \"BARE\"        \"Rhizosphere\" \"Rhizosphere\"\n",
       "[236] \"Rhizosphere\" \"BARE\"        \"BARE\"       \n"
      ]
     },
     "metadata": {},
     "output_type": "display_data"
    }
   ],
   "source": [
    "%%R\n",
    "\n",
    "sample_data(physeq)$Planted = ifelse(sample_data(physeq)$Plant == \"BARE\", \"BARE\", \"Rhizosphere\")\n",
    "sample_data(physeq)$Planted"
   ]
  },
  {
   "cell_type": "markdown",
   "metadata": {
    "collapsed": false
   },
   "source": [
    "### apply gsub across columns replacing __ w/ \"\" reload tax_table to phyloseq object"
   ]
  },
  {
   "cell_type": "code",
   "execution_count": 32,
   "metadata": {
    "collapsed": true
   },
   "outputs": [],
   "source": [
    "%%R\n",
    "t = tax_table(physeq)\n",
    "t = apply(t, 2, function(y) gsub(\"__\", \"\", y))\n",
    "tax_table(physeq) = t"
   ]
  },
  {
   "cell_type": "markdown",
   "metadata": {},
   "source": [
    "# Explore Filtering Functions"
   ]
  },
  {
   "cell_type": "code",
   "execution_count": 33,
   "metadata": {
    "collapsed": false
   },
   "outputs": [
    {
     "data": {
      "text/plain": [
       "phyloseq-class experiment-level object\n",
       "otu_table()   OTU Table:         [ 4982 taxa and 238 samples ]\n",
       "sample_data() Sample Data:       [ 238 samples by 22 sample variables ]\n",
       "tax_table()   Taxonomy Table:    [ 4982 taxa by 8 taxonomic ranks ]\n",
       "phy_tree()    Phylogenetic Tree: [ 4982 tips and 4981 internal nodes ]\n"
      ]
     },
     "metadata": {},
     "output_type": "display_data"
    }
   ],
   "source": [
    "%%R \n",
    "physeq.thresh = filter_taxa(physeq, \n",
    "                 function(x) sum(x > 3) > 3, TRUE)\n",
    "physeq.thresh"
   ]
  },
  {
   "cell_type": "markdown",
   "metadata": {},
   "source": [
    "Filtering function\n",
    "function(x): sum(x > 3) > 3, TRUE): 4982 taxa \n"
   ]
  },
  {
   "cell_type": "code",
   "execution_count": 34,
   "metadata": {
    "collapsed": false
   },
   "outputs": [
    {
     "data": {
      "text/plain": [
       "Sample Data:        [6 samples by 22 sample variables]:\n",
       "                           X.sample Library Primer_Plate Primer_Well_ID\n",
       "sample2-1.06_Npos sample2-1.06_Npos       1            1             H9\n",
       "sample6-4.27_Npos sample6-4.27_Npos       1            2            F11\n",
       "sample4-4.27_Nneg sample4-4.27_Nneg       1            1            B12\n",
       "sample4-1.06_Nneg sample4-1.06_Nneg       1            1            E11\n",
       "sample2-1.06_Nneg sample2-1.06_Nneg       1            1             G9\n",
       "sample6-3.07_Nneg sample6-3.07_Nneg       1            2            C11\n",
       "                  primerFR_ID_byPlate primerFR_ID_total barcode_ID    PlotID\n",
       "sample2-1.06_Npos                  72                72         72 1.06_Npos\n",
       "sample6-4.27_Npos                  86               182        182 4.27_Npos\n",
       "sample4-4.27_Nneg                  90                90         90 4.27_Nneg\n",
       "sample4-1.06_Nneg                  85                85         85 1.06_Nneg\n",
       "sample2-1.06_Nneg                  71                71         71 1.06_Nneg\n",
       "sample6-3.07_Nneg                  83               179        179 3.07_Nneg\n",
       "                  Plant Plot Treatment Rep DAP Sampling  PlantSample Type\n",
       "sample2-1.06_Npos  BARE 1.06      Npos   1  53  sample2 BARE_sample2 BARE\n",
       "sample6-4.27_Npos  BARE 4.27      Npos   4  79  sample6 BARE_sample6 BARE\n",
       "sample4-4.27_Nneg  BARE 4.27      Nneg   4  61  sample4 BARE_sample4 BARE\n",
       "sample4-1.06_Nneg  BARE 1.06      Nneg   1  61  sample4 BARE_sample4 BARE\n",
       "sample2-1.06_Nneg  BARE 1.06      Nneg   1  53  sample2 BARE_sample2 BARE\n",
       "sample6-3.07_Nneg  BARE 3.07      Nneg   3  79  sample6 BARE_sample6 BARE\n",
       "                  Grass_Broad    Status Subfamily fwd_barcode rev_barcode\n",
       "sample2-1.06_Npos   Bare_Soil Bare_Soil      <NA>    GACACCGT    GTCGTAGT\n",
       "sample6-4.27_Npos   Bare_Soil Bare_Soil      <NA>    TCGACGAG    TCATAGAC\n",
       "sample4-4.27_Nneg   Bare_Soil Bare_Soil      <NA>    ACTATCTG    TCGCTATA\n",
       "sample4-1.06_Nneg   Bare_Soil Bare_Soil      <NA>    TCATCGAG    TCATAGAC\n",
       "sample2-1.06_Nneg   Bare_Soil Bare_Soil      <NA>    GGATATCT    GTCGTAGT\n",
       "sample6-3.07_Nneg   Bare_Soil Bare_Soil      <NA>    AGAGTCAC    TCATAGAC\n",
       "                  Planted\n",
       "sample2-1.06_Npos    BARE\n",
       "sample6-4.27_Npos    BARE\n",
       "sample4-4.27_Nneg    BARE\n",
       "sample4-1.06_Nneg    BARE\n",
       "sample2-1.06_Nneg    BARE\n",
       "sample6-3.07_Nneg    BARE\n"
      ]
     },
     "metadata": {},
     "output_type": "display_data"
    }
   ],
   "source": [
    "%%R\n",
    "head(sample_data(physeq.thresh))"
   ]
  },
  {
   "cell_type": "markdown",
   "metadata": {},
   "source": [
    "## Join plant data for consistent meta-data set across notebooks"
   ]
  },
  {
   "cell_type": "code",
   "execution_count": 35,
   "metadata": {
    "collapsed": false
   },
   "outputs": [
    {
     "data": {
      "text/plain": [
       " [1] \"Unique\"             \"PlotID\"             \"Plant\"             \n",
       " [4] \"Plot\"               \"Treatment\"          \"Rep\"               \n",
       " [7] \"DAP\"                \"Sampling\"           \"PlantSample\"       \n",
       "[10] \"Type\"               \"Grass_Broad\"        \"Status\"            \n",
       "[13] \"Subfamily\"          \"Symbol_class\"       \"Plant_num\"         \n",
       "[16] \"Leaf_AreaBiomass_g\" \"Biomass_T\"          \"Biomass_P\"         \n",
       "[19] \"Leaf_Area_cm2\"      \"SLA\"                \"Leaf_N\"            \n",
       "[22] \"Leaf_C\"             \"LeafC_N\"            \"LNa\"               \n",
       "[25] \"Plant_N\"            \"Plant_C\"            \"Plant_CN\"          \n",
       "[28] \"d15N\"               \"tN_p\"               \"SoilID\"            \n",
       "[31] \"Moisture\"           \"PO_Activity\"        \"PER_Activity\"      \n",
       "[34] \"PO_barefactor\"      \"PER_barefactor\"     \"PO_dif\"            \n",
       "[37] \"PER_dif\"            \"PO_rel\"             \"PER_rel\"           \n",
       "[40] \"BX_act\"             \"CB_act\"             \"LAP_act\"           \n",
       "[43] \"NAG_act\"            \"BX_activity_g\"      \"CB_activity_g\"     \n",
       "[46] \"LAP_activity_g\"     \"NAG_activity_g\"     \"BX_barefactor\"     \n",
       "[49] \"CB_barefactor\"      \"LAP_barefactor\"     \"NAG_barefactor\"    \n",
       "[52] \"BX_dif\"             \"CB_dif\"             \"LAP_dif\"           \n",
       "[55] \"NAG_dif\"            \"BX_rel\"             \"CB_rel\"            \n",
       "[58] \"LAP_rel\"            \"NAG_rel\"           \n"
      ]
     },
     "metadata": {},
     "output_type": "display_data"
    }
   ],
   "source": [
    "%%R\n",
    "plantData = read.table('/home/bryan/RhizCG/data/MiSeq_amplicon/PlotData.txt', header = TRUE)\n",
    "colnames(plantData)"
   ]
  },
  {
   "cell_type": "code",
   "execution_count": 36,
   "metadata": {
    "collapsed": false
   },
   "outputs": [
    {
     "data": {
      "text/plain": [
       "Sample Data:        [6 samples by 44 sample variables]:\n",
       "                           X.sample Library Primer_Plate Primer_Well_ID\n",
       "sample2-1.06_Npos sample2-1.06_Npos       1            1             H9\n",
       "sample6-4.27_Npos sample6-4.27_Npos       1            2            F11\n",
       "sample4-4.27_Nneg sample4-4.27_Nneg       1            1            B12\n",
       "sample4-1.06_Nneg sample4-1.06_Nneg       1            1            E11\n",
       "sample2-1.06_Nneg sample2-1.06_Nneg       1            1             G9\n",
       "sample6-3.07_Nneg sample6-3.07_Nneg       1            2            C11\n",
       "                  primerFR_ID_byPlate primerFR_ID_total barcode_ID    PlotID\n",
       "sample2-1.06_Npos                  72                72         72 1.06_Npos\n",
       "sample6-4.27_Npos                  86               182        182 4.27_Npos\n",
       "sample4-4.27_Nneg                  90                90         90 4.27_Nneg\n",
       "sample4-1.06_Nneg                  85                85         85 1.06_Nneg\n",
       "sample2-1.06_Nneg                  71                71         71 1.06_Nneg\n",
       "sample6-3.07_Nneg                  83               179        179 3.07_Nneg\n",
       "                  Plant Plot Treatment Rep DAP Sampling  PlantSample Type\n",
       "sample2-1.06_Npos  BARE 1.06      Npos   1  53  sample2 BARE_sample2 BARE\n",
       "sample6-4.27_Npos  BARE 4.27      Npos   4  79  sample6 BARE_sample6 BARE\n",
       "sample4-4.27_Nneg  BARE 4.27      Nneg   4  61  sample4 BARE_sample4 BARE\n",
       "sample4-1.06_Nneg  BARE 1.06      Nneg   1  61  sample4 BARE_sample4 BARE\n",
       "sample2-1.06_Nneg  BARE 1.06      Nneg   1  53  sample2 BARE_sample2 BARE\n",
       "sample6-3.07_Nneg  BARE 3.07      Nneg   3  79  sample6 BARE_sample6 BARE\n",
       "                  Grass_Broad    Status Subfamily fwd_barcode rev_barcode\n",
       "sample2-1.06_Npos   Bare_Soil Bare_Soil      <NA>    GACACCGT    GTCGTAGT\n",
       "sample6-4.27_Npos   Bare_Soil Bare_Soil      <NA>    TCGACGAG    TCATAGAC\n",
       "sample4-4.27_Nneg   Bare_Soil Bare_Soil      <NA>    ACTATCTG    TCGCTATA\n",
       "sample4-1.06_Nneg   Bare_Soil Bare_Soil      <NA>    TCATCGAG    TCATAGAC\n",
       "sample2-1.06_Nneg   Bare_Soil Bare_Soil      <NA>    GGATATCT    GTCGTAGT\n",
       "sample6-3.07_Nneg   Bare_Soil Bare_Soil      <NA>    AGAGTCAC    TCATAGAC\n",
       "                  Planted Biomass_P SLA Leaf_N LeafC_N LNa Plant_N Plant_C\n",
       "sample2-1.06_Npos    BARE        NA  NA     NA      NA  NA      NA      NA\n",
       "sample6-4.27_Npos    BARE        NA  NA     NA      NA  NA      NA      NA\n",
       "sample4-4.27_Nneg    BARE        NA  NA     NA      NA  NA      NA      NA\n",
       "sample4-1.06_Nneg    BARE        NA  NA     NA      NA  NA      NA      NA\n",
       "sample2-1.06_Nneg    BARE        NA  NA     NA      NA  NA      NA      NA\n",
       "sample6-3.07_Nneg    BARE        NA  NA     NA      NA  NA      NA      NA\n",
       "                  Plant_CN d15N tN_p BX_activity_g CB_activity_g LAP_activity_g\n",
       "sample2-1.06_Npos       NA   NA   NA      14.37839      15.33743       126.3710\n",
       "sample6-4.27_Npos       NA   NA   NA      19.19060      16.57780       162.8417\n",
       "sample4-4.27_Nneg       NA   NA   NA      14.21998      13.41572       136.3123\n",
       "sample4-1.06_Nneg       NA   NA   NA      12.47174      13.43524       143.7310\n",
       "sample2-1.06_Nneg       NA   NA   NA      13.38694      13.77502       117.3431\n",
       "sample6-3.07_Nneg       NA   NA   NA      16.99917      14.24016       138.1199\n",
       "                  NAG_activity_g     BX_dif      CB_dif    LAP_dif     NAG_dif\n",
       "sample2-1.06_Npos       8.072898 -0.5691705  0.07999941   4.503741 -0.39815334\n",
       "sample6-4.27_Npos      12.242121  0.9135068  1.99246647  -8.649774  1.01143588\n",
       "sample4-4.27_Nneg      14.630640  1.4082132  0.62545102  -4.083107  2.69417457\n",
       "sample4-1.06_Nneg      11.876664 -0.3400207  0.64497262   3.335602 -0.05980131\n",
       "sample2-1.06_Nneg       8.576193 -1.3177050 -0.90257754  -2.486003 -0.25294273\n",
       "sample6-3.07_Nneg      11.177559 -1.0182984 -0.83029710 -31.257949 -1.21718111\n",
       "                     BX_rel    CB_rel   LAP_rel   NAG_rel\n",
       "sample2-1.06_Npos 0.9619222 1.0052433 1.0369561 0.9529984\n",
       "sample6-4.27_Npos 1.0499810 1.1366076 0.9495615 1.0900600\n",
       "sample4-4.27_Nneg 1.1099157 1.0489005 0.9709171 1.2257096\n",
       "sample4-1.06_Nneg 0.9734603 1.0504268 1.0237586 0.9949900\n",
       "sample2-1.06_Nneg 0.9103885 0.9385065 0.9792538 0.9713514\n",
       "sample6-3.07_Nneg 0.9434827 0.9449057 0.8154543 0.9017986\n"
      ]
     },
     "metadata": {},
     "output_type": "display_data"
    }
   ],
   "source": [
    "%%R\n",
    "s = sample_data(physeq.thresh)\n",
    "PD = plantData[,c(1,18, 20,21, 23:29, 44:47, 52:59)]\n",
    "s2 = left_join(s, PD, by = c(\"X.sample\" = \"Unique\"))\n",
    "rownames(s2) = s2$X.sample\n",
    "sample_data(physeq.thresh) = s2\n",
    "sample_data(physeq.thresh) %>% head"
   ]
  },
  {
   "cell_type": "markdown",
   "metadata": {},
   "source": [
    "# Output for other analyses"
   ]
  },
  {
   "cell_type": "code",
   "execution_count": 37,
   "metadata": {
    "collapsed": true
   },
   "outputs": [],
   "source": [
    "%%R -i workDir\n",
    "outFile = file.path(workDir, 'Full-Sparsity3in3')\n",
    "saveRDS(physeq.thresh, outFile)"
   ]
  }
 ],
 "metadata": {
  "hide_input": true,
  "kernelspec": {
   "display_name": "Python 2",
   "language": "python",
   "name": "python2"
  },
  "language_info": {
   "codemirror_mode": {
    "name": "ipython",
    "version": 2
   },
   "file_extension": ".py",
   "mimetype": "text/x-python",
   "name": "python",
   "nbconvert_exporter": "python",
   "pygments_lexer": "ipython2",
   "version": "2.7.10"
  }
 },
 "nbformat": 4,
 "nbformat_minor": 0
}
