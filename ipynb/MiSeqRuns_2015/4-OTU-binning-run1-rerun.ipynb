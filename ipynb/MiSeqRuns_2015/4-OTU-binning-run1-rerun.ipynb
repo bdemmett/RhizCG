{
 "cells": [
  {
   "cell_type": "markdown",
   "metadata": {},
   "source": [
    "# Description\n",
    "\n",
    "* Creating OTUs with usearch"
   ]
  },
  {
   "cell_type": "markdown",
   "metadata": {},
   "source": [
    "# Init"
   ]
  },
  {
   "cell_type": "code",
   "execution_count": 1,
   "metadata": {
    "collapsed": true
   },
   "outputs": [],
   "source": [
    "workDir = '/home/bryan/RhizCG/data/MiSeq_amplicon/150522_run1_rerun/OTU_binning/'\n",
    "databaseDir = '/home/bryan/RhizCG/data/databases/'\n",
    "nprocs = 24"
   ]
  },
  {
   "cell_type": "code",
   "execution_count": 2,
   "metadata": {
    "collapsed": true
   },
   "outputs": [],
   "source": [
    "import os\n",
    "import re\n",
    "import pandas as pd\n",
    "from qiime.assign_taxonomy import UclustConsensusTaxonAssigner\n",
    "from IPython.display import Image"
   ]
  },
  {
   "cell_type": "code",
   "execution_count": 3,
   "metadata": {
    "collapsed": false
   },
   "outputs": [
    {
     "name": "stdout",
     "output_type": "stream",
     "text": [
      "Populating the interactive namespace from numpy and matplotlib\n"
     ]
    }
   ],
   "source": [
    "%pylab inline\n",
    "%load_ext rpy2.ipython"
   ]
  },
  {
   "cell_type": "code",
   "execution_count": 4,
   "metadata": {
    "collapsed": false
   },
   "outputs": [
    {
     "name": "stderr",
     "output_type": "stream",
     "text": [
      "/opt/anaconda/lib/python2.7/site-packages/rpy2/robjects/functions.py:106: UserWarning: \n",
      "Attaching package: ‘dplyr’\n",
      "\n",
      "\n",
      "  res = super(Function, self).__call__(*new_args, **new_kwargs)\n",
      "/opt/anaconda/lib/python2.7/site-packages/rpy2/robjects/functions.py:106: UserWarning: The following objects are masked from ‘package:stats’:\n",
      "\n",
      "    filter, lag\n",
      "\n",
      "\n",
      "  res = super(Function, self).__call__(*new_args, **new_kwargs)\n",
      "/opt/anaconda/lib/python2.7/site-packages/rpy2/robjects/functions.py:106: UserWarning: The following objects are masked from ‘package:base’:\n",
      "\n",
      "    intersect, setdiff, setequal, union\n",
      "\n",
      "\n",
      "  res = super(Function, self).__call__(*new_args, **new_kwargs)\n"
     ]
    }
   ],
   "source": [
    "%%R\n",
    "library(ggplot2)\n",
    "library(dplyr)\n",
    "library(tidyr)\n",
    "library(gridExtra)\n",
    "library(stringr)"
   ]
  },
  {
   "cell_type": "code",
   "execution_count": 5,
   "metadata": {
    "collapsed": true
   },
   "outputs": [],
   "source": [
    "if not os.path.isdir(workDir):\n",
    "    os.mkdir(workDir)"
   ]
  },
  {
   "cell_type": "markdown",
   "metadata": {},
   "source": [
    "# Binning"
   ]
  },
  {
   "cell_type": "code",
   "execution_count": 6,
   "metadata": {
    "collapsed": false
   },
   "outputs": [
    {
     "name": "stdout",
     "output_type": "stream",
     "text": [
      "Number of sequences in final QC fasta: 5134019\n",
      ">sample6-3.07_Npos_0\n",
      "TACAGAGGGTGCAAACGTTGCTCGGAATTACTGGGCGTAAAGCGCGTGTAGGCGGCTCCGTAAGTCGGGTGTGAAATCCCTCGGCTCAACTGAGGAAGTGCACTCGATACTGCAGAGCTAGAGTACCGGAGAGGGTGGTGGAATTCCTGGTGTAGAGGTGAAATTCGTAGATATCAGGAGGAACACCGGCGGCGAAGGCGGCCACCTGGACGGATACTGACGCTCAGACGCGAAAGCGTGGGTAGCAAACAGG\n",
      ">sample1-3.07_Nneg_2492020\n",
      "TACAGAGGGTGCAAACGTTGCTCGGAATTACTGGGCGTAAAGCGCGTGTAGGCGGCTCCGTAAGTCGGGTGTGAAATCCCTCGGCTCAACTGAGGAAGTGCACTCGATACTGCAGAGCTAGAGTACCGGAGAGGGTGGTGGAATTCCTGGTGTAGAGGTGAAATTCGTAGATATCAGGAGGAACACCGGCGGCGAAGGCGGCCACCTGGACGGATACTGACGCTCAGACGCGAAAGCGTGGGTAGCAAACAGG\n",
      ">sample5-4.09_Nneg_5228493\n",
      "TACGTAGGTGGCAAGCGTTGTCCGGATTTATTGGGCGTAAAGAGCTCGGAGGCGGTTCGGTAAGTCGGCTGTGAAATCTCCACGCTCAACGTGGGGGGGTCAGTCGAAACTGCCGTGACTCGAGTCCGGTAGAGGAGTGTGGAATTCCCGGTGTAGCGGTGAAATGCGCAGAGATCGGGAGGAACACCCGTAGCGAAGGCGGCACTCTGGGCCGGTACTGACGCTGAGGAGCGAAAGCGTGGGGAGCAAACAGG\n",
      ">sample2-2.08_Nneg_5228496\n",
      "GACGGGGGGGGCAAGTGTTCTGCGGAATGACTGGGCGTAAAGGGCACGTAGGCGGTGAATCGGGTTGAAAGTGAAAGTCGCCAAAAACGGGCGGAATGCTCTCGAAACCAATTCACTTGGGTGAGACAGAGGAGAGTGGAATTTCGTGTGTAGGGGTGAAATCCGCAAATCTACGAAGGAACGCCAAAAGCGAAGGCAGCTCTCTGGGTCCCTACCGACGCTGGGGTGCGAAAGCATGGGGAGCGAACAGG\n"
     ]
    }
   ],
   "source": [
    "%%bash -s \"$workDir\"\n",
    "\n",
    "cd $1\n",
    "\n",
    "ln -f -s ../QC/finalQC.fasta .\n",
    "\n",
    "printf \"Number of sequences in final QC fasta: \"\n",
    "grep -c \">\" finalQC.fasta\n",
    "\n",
    "head -n 4 finalQC.fasta\n",
    "tail -n 4 finalQC.fasta"
   ]
  },
  {
   "cell_type": "markdown",
   "metadata": {},
   "source": [
    "# Usearch pipeline"
   ]
  },
  {
   "cell_type": "code",
   "execution_count": 7,
   "metadata": {
    "collapsed": false
   },
   "outputs": [
    {
     "name": "stdout",
     "output_type": "stream",
     "text": [
      "usearch v7.0.1090_i86linux32, 4.0Gb RAM (132Gb total), 40 cores\n",
      "(C) Copyright 2013 Robert C. Edgar, all rights reserved.\n",
      "http://drive5.com/usearch\n",
      "\n",
      "Licensed to: chuck.peperanney@gmail.com\n",
      "\n",
      "00:06 1.6Gb  100.0% Reading finalQC.fasta\n",
      "00:11 2.0Gb 3276531 (3.3M) uniques, avg cluster 1.6, median 1, max 226215\n",
      "00:35 2.0Gb  100.0% Writing finalQC_uniques.fasta\n"
     ]
    }
   ],
   "source": [
    "!cd $workDir; \\\n",
    "    usearch -derep_fulllength finalQC.fasta -output finalQC_uniques.fasta -sizeout -threads $nprocs"
   ]
  },
  {
   "cell_type": "code",
   "execution_count": 8,
   "metadata": {
    "collapsed": false
   },
   "outputs": [
    {
     "name": "stdout",
     "output_type": "stream",
     "text": [
      "usearch v7.0.1090_i86linux32, 4.0Gb RAM (132Gb total), 40 cores\n",
      "(C) Copyright 2013 Robert C. Edgar, all rights reserved.\n",
      "http://drive5.com/usearch\n",
      "\n",
      "Licensed to: chuck.peperanney@gmail.com\n",
      "\n",
      "00:00 2.1Mb Reading finalQC_uniques.fasta, 956Mb\n",
      "00:02 958Mb 3276531 (3.3M) seqs, min 233, avg 253, max 354nt\n",
      "00:04 998Mb Getting sizes\n",
      "00:08 1.0Gb Sorting 203658 sequences\n",
      "00:09 1.0Gb  100.0% Writing finalQC_uniques_sorted.fasta\n"
     ]
    }
   ],
   "source": [
    "!cd $workDir; \\\n",
    "    usearch -sortbysize finalQC_uniques.fasta \\\n",
    "    -output finalQC_uniques_sorted.fasta -minsize 2  #-minsize 2"
   ]
  },
  {
   "cell_type": "code",
   "execution_count": 9,
   "metadata": {
    "collapsed": false
   },
   "outputs": [
    {
     "name": "stdout",
     "output_type": "stream",
     "text": [
      ">sample6-4.27_Nneg_3497443;size=2;\r\n",
      "AACGTAGGGTGCAAGCGTTGCCCGGATTTATTGGGCGTAAAGGGCGCGTAGGCGGCTACGCACGTCCGTTGTGAAATCGC\r\n",
      "CCGGCTCAACTGGGCGGGGTCGGCGGATACGGCGTAGCTGGAGCAAGCTAGGGGGCAATGGAATTCCCGGTGTAGTGGTG\r\n",
      "GAATGCGTAGATATCGGGAGGAACACCAGTGGCGAAGGCGGTTGCCTGGGGCTTTGCTGACGCTGATGCGCGAAAGCGTG\r\n",
      "GGGAGCGATCCGG\r\n",
      ">sample1-2.23_Nneg_2415313;size=2;\r\n",
      "TACGGGGGGAGCAAGCGTTGTTCGGATTTACTGGGCGTAAAGGGCGCGTAGGCGGCCACCGCAAGTCGACTGTGAAACCT\r\n",
      "CCGGGCTTAACCCGGAAAGGGCAGCCGATACTGCGGGGCTAGAGTGCAGAAGGGGCAACTGGAATTCTCGGTGTAGCGGT\r\n",
      "GAAATGCGTAGATATCGAGAGGAACACCTGCGGCGAAGGCGGGTTGCTGGGCTGACACTGACGCTGAGGCGCGAAAGCTA\r\n",
      "GGGGAGCGAACGGG\r\n"
     ]
    }
   ],
   "source": [
    "!cd $workDir; \\\n",
    "    tail finalQC_uniques_sorted.fasta"
   ]
  },
  {
   "cell_type": "code",
   "execution_count": 10,
   "metadata": {
    "collapsed": false
   },
   "outputs": [
    {
     "name": "stdout",
     "output_type": "stream",
     "text": [
      "usearch v7.0.1090_i86linux32, 4.0Gb RAM (132Gb total), 40 cores\n",
      "(C) Copyright 2013 Robert C. Edgar, all rights reserved.\n",
      "http://drive5.com/usearch\n",
      "\n",
      "Licensed to: chuck.peperanney@gmail.com\n",
      "\n",
      "01:43 210Mb  100.0% 7731 OTUs\n",
      "                             \n",
      "Input seqs  203658 (203.7k)\n",
      "      OTUs  7731\n",
      "   Members  159848 (159.8k)\n",
      "  Chimeras  36079 (36.1k)\n",
      "   Max mem  210Mb\n",
      "      Time  01:43\n",
      "Throughput  1977.3 seqs/sec.\n",
      "\n"
     ]
    }
   ],
   "source": [
    "!cd $workDir; \\\n",
    "    usearch -cluster_otus finalQC_uniques_sorted.fasta -otus otus.fasta"
   ]
  },
  {
   "cell_type": "code",
   "execution_count": null,
   "metadata": {
    "collapsed": false,
    "scrolled": true
   },
   "outputs": [],
   "source": []
  },
  {
   "cell_type": "code",
   "execution_count": 11,
   "metadata": {
    "collapsed": false
   },
   "outputs": [],
   "source": [
    "!cd $workDir; \\\n",
    "    /opt/bioinfo/edgar_python_scripts/fasta_number.py otus.fasta OTU. > otusn.fasta"
   ]
  },
  {
   "cell_type": "markdown",
   "metadata": {},
   "source": [
    "# Removing sequences classified as chloroplast, eukaryotes, or archaea"
   ]
  },
  {
   "cell_type": "code",
   "execution_count": 12,
   "metadata": {
    "collapsed": false
   },
   "outputs": [],
   "source": [
    "%%bash -s \"$workDir\" \"$databaseDir\" \"$nprocs\"\n",
    "\n",
    "cd $1\n",
    "\n",
    "parallel_assign_taxonomy_uclust.py \\\n",
    "    -r $2'97_Silva_111_rep_set_no_ambig.fasta' \\\n",
    "    -t $2'Silva_111_taxa_map_full.txt' \\\n",
    "    -O 8 \\\n",
    "    -i otusn.fasta \\\n",
    "    -o otusn_tax"
   ]
  },
  {
   "cell_type": "code",
   "execution_count": 13,
   "metadata": {
    "collapsed": false
   },
   "outputs": [],
   "source": [
    "%%bash -s \"$workDir\" \"$databaseDir\"\n",
    "\n",
    "cd $1\n",
    "\n",
    "egrep \"Chloroplast|Eukaryota|Archaea|Unassigned|mitochondria\" \\\n",
    "    otusn_tax/otusn_tax_assignments.txt |\\\n",
    "    awk '{print $1}' > to_remove_tax.accnos"
   ]
  },
  {
   "cell_type": "code",
   "execution_count": 14,
   "metadata": {
    "collapsed": false
   },
   "outputs": [
    {
     "name": "stdout",
     "output_type": "stream",
     "text": [
      "636 to_remove_tax.accnos\r\n"
     ]
    }
   ],
   "source": [
    "!cd $workDir; wc -l to_remove_tax.accnos"
   ]
  },
  {
   "cell_type": "code",
   "execution_count": 15,
   "metadata": {
    "collapsed": false
   },
   "outputs": [
    {
     "name": "stdout",
     "output_type": "stream",
     "text": [
      "OTU.699\r\n",
      "OTU.902\r\n",
      "OTU.765\r\n",
      "OTU.377\r\n",
      "OTU.77\r\n",
      "OTU.73\r\n",
      "OTU.883\r\n",
      "OTU.298\r\n",
      "OTU.1\r\n",
      "OTU.2\r\n"
     ]
    }
   ],
   "source": [
    "!cd $workDir; head to_remove_tax.accnos"
   ]
  },
  {
   "cell_type": "code",
   "execution_count": 16,
   "metadata": {
    "collapsed": false
   },
   "outputs": [
    {
     "name": "stdout",
     "output_type": "stream",
     "text": [
      "\u001b[H\u001b[2J\n",
      "\n",
      "\n",
      "\n",
      "\n",
      "\n",
      "mothur v.1.35.1\n",
      "Last updated: 03/31/2015\n",
      "\n",
      "by\n",
      "Patrick D. Schloss\n",
      "\n",
      "Department of Microbiology & Immunology\n",
      "University of Michigan\n",
      "pschloss@umich.edu\n",
      "http://www.mothur.org\n",
      "\n",
      "When using, please cite:\n",
      "Schloss, P.D., et al., Introducing mothur: Open-source, platform-independent, community-supported software for describing and comparing microbial communities. Appl Environ Microbiol, 2009. 75(23):7537-41.\n",
      "\n",
      "Distributed under the GNU General Public License\n",
      "\n",
      "Type 'help()' for information on the commands that are available\n",
      "\n",
      "Type 'quit()' to exit program\n",
      "\n",
      "\n",
      "\n",
      "mothur > remove.seqs(fasta=otusn.fasta, accnos=to_remove_tax.accnos)\n",
      "Removed 636 sequences from your fasta file.\n",
      "\n",
      "Output File Names: \n",
      "otusn.pick.fasta\n",
      "\n",
      "\n",
      "mothur > quit()\n"
     ]
    }
   ],
   "source": [
    "!cd $workDir; \\\n",
    "    mothur \"#remove.seqs(fasta=otusn.fasta, accnos=to_remove_tax.accnos)\" | head -n 50"
   ]
  },
  {
   "cell_type": "code",
   "execution_count": 17,
   "metadata": {
    "collapsed": false
   },
   "outputs": [
    {
     "name": "stdout",
     "output_type": "stream",
     "text": [
      "7731\n",
      "7095\n"
     ]
    }
   ],
   "source": [
    "!cd $workDir; grep -c \">\" otusn.fasta\n",
    "!cd $workDir; grep -c \">\" otusn.pick.fasta"
   ]
  },
  {
   "cell_type": "code",
   "execution_count": null,
   "metadata": {
    "collapsed": true
   },
   "outputs": [],
   "source": []
  },
  {
   "cell_type": "markdown",
   "metadata": {},
   "source": [
    "# Mapping reads"
   ]
  },
  {
   "cell_type": "code",
   "execution_count": 18,
   "metadata": {
    "collapsed": true
   },
   "outputs": [],
   "source": [
    "%%bash -s \"$workDir\"\n",
    "\n",
    "cd $1\n",
    "\n",
    "perl -pe 's/^>(.+)(_[^_]+)\\n$/>$1$2;barcodelabel=$1\\n/' finalQC.fasta > finalQC_usearchfmt.fasta"
   ]
  },
  {
   "cell_type": "code",
   "execution_count": 19,
   "metadata": {
    "collapsed": false
   },
   "outputs": [
    {
     "name": "stdout",
     "output_type": "stream",
     "text": [
      ">sample6-3.07_Npos_0;barcodelabel=sample6-3.07_Npos\r\n",
      "TACAGAGGGTGCAAACGTTGCTCGGAATTACTGGGCGTAAAGCGCGTGTAGGCGGCTCCGTAAGTCGGGTGTGAAATCCCTCGGCTCAACTGAGGAAGTGCACTCGATACTGCAGAGCTAGAGTACCGGAGAGGGTGGTGGAATTCCTGGTGTAGAGGTGAAATTCGTAGATATCAGGAGGAACACCGGCGGCGAAGGCGGCCACCTGGACGGATACTGACGCTCAGACGCGAAAGCGTGGGTAGCAAACAGG\r\n",
      ">sample1-3.07_Nneg_2492020;barcodelabel=sample1-3.07_Nneg\r\n",
      "TACAGAGGGTGCAAACGTTGCTCGGAATTACTGGGCGTAAAGCGCGTGTAGGCGGCTCCGTAAGTCGGGTGTGAAATCCCTCGGCTCAACTGAGGAAGTGCACTCGATACTGCAGAGCTAGAGTACCGGAGAGGGTGGTGGAATTCCTGGTGTAGAGGTGAAATTCGTAGATATCAGGAGGAACACCGGCGGCGAAGGCGGCCACCTGGACGGATACTGACGCTCAGACGCGAAAGCGTGGGTAGCAAACAGG\r\n",
      ">sample1-3.07_Nneg_2492211;barcodelabel=sample1-3.07_Nneg\r\n",
      "TACAGAGGGTGCAAACGTTGCTCGGAATTACTGGGCGTAAAGCGCGTGTAGGCGGCTCCGTAAGTCGGGTGTGAAATCCCTCGGCTCAACTGAGGAAGTGCACTCGATACTGCAGAGCTAGAGTACCGGAGAGGGTGGTGGAATTCCTGGTGTAGAGGTGAAATTCGTAGATATCAGGAGGAACACCGGCGGCGAAGGCGGCCACCTGGACGGATACTGACGCTCAGACGCGAAAGCGTGGGTAGCAAACAGG\r\n",
      ">sample3-3.07_Npos_2711613;barcodelabel=sample3-3.07_Npos\r\n",
      "TACAGAGGGTGCAAACGTTGCTCGGAATTACTGGGCGTAAAGCGCGTGTAGGCGGCTCCGTAAGTCGGGTGTGAAATCCCTCGGCTCAACTGAGGAAGTGCACTCGATACTGCAGAGCTAGAGTACCGGAGAGGGTGGTGGAATTCCTGGTGTAGAGGTGAAATTCGTAGATATCAGGAGGAACACCGGCGGCGAAGGCGGCCACCTGGACGGATACTGACGCTCAGACGCGAAAGCGTGGGTAGCAAACAGG\r\n",
      ">sample5-3.13_Npos_4065048;barcodelabel=sample5-3.13_Npos\r\n",
      "TACAGAGGGTGCAAACGTTGCTCGGAATTACTGGGCGTAAAGCGCGTGTAGGCGGCTCCGTAAGTCGGGTGTGAAATCCCTCGGCTCAACTGAGGAAGTGCACTCGATACTGCAGAGCTAGAGTACCGGAGAGGGTGGTGGAATTCCTGGTGTAGAGGTGAAATTCGTAGATATCAGGAGGAACACCGGCGGCGAAGGCGGCCACCTGGACGGATACTGACGCTCAGACGCGAAAGCGTGGGTAGCAAACAGG\r\n"
     ]
    }
   ],
   "source": [
    "!cd $workDir; head finalQC_usearchfmt.fasta"
   ]
  },
  {
   "cell_type": "code",
   "execution_count": 20,
   "metadata": {
    "collapsed": false
   },
   "outputs": [
    {
     "name": "stdout",
     "output_type": "stream",
     "text": [
      "5134019\r\n"
     ]
    }
   ],
   "source": [
    "!cd $workDir; grep -c \">\" finalQC_usearchfmt.fasta"
   ]
  },
  {
   "cell_type": "code",
   "execution_count": 21,
   "metadata": {
    "collapsed": false
   },
   "outputs": [
    {
     "name": "stdout",
     "output_type": "stream",
     "text": [
      "usearch v7.0.1090_i86linux32, 4.0Gb RAM (132Gb total), 40 cores\n",
      "(C) Copyright 2013 Robert C. Edgar, all rights reserved.\n",
      "http://drive5.com/usearch\n",
      "\n",
      "Licensed to: chuck.peperanney@gmail.com\n",
      "\n",
      "00:00  19Mb Reading otusn.pick.fasta, 1.9Mb\n",
      "00:00  21Mb 7095 seqs, min 243, avg 253, max 278nt\n",
      "00:00  21Mb  100.0% Masking\n",
      "00:00  21Mb  100.0% Word stats\n",
      "00:00  29Mb  100.0% Building slots\n",
      "00:00  29Mb  100.0% Build index\n",
      "01:01 278Mb  100.0% Searching, 44.1% matched\n"
     ]
    }
   ],
   "source": [
    "!cd $workDir; \\\n",
    "usearch -usearch_global finalQC_usearchfmt.fasta \\\n",
    "    -db otusn.pick.fasta \\\n",
    "    -strand plus -id 0.97 \\\n",
    "    -uc readmap.uc \\\n",
    "    -threads $nprocs"
   ]
  },
  {
   "cell_type": "code",
   "execution_count": 22,
   "metadata": {
    "collapsed": false
   },
   "outputs": [
    {
     "name": "stdout",
     "output_type": "stream",
     "text": [
      "readmap.uc 100.0%   \n"
     ]
    }
   ],
   "source": [
    "!cd $workDir; \\\n",
    "    python /opt/bioinfo/edgar_python_scripts/uc2otutab.py readmap.uc > otu_table.txt"
   ]
  },
  {
   "cell_type": "code",
   "execution_count": 23,
   "metadata": {
    "collapsed": true
   },
   "outputs": [],
   "source": [
    "%%bash -s \"$workDir\"\n",
    "\n",
    "cd $1\n",
    "\n",
    "if [ -f otu_table.biom ]; then\n",
    "    rm otu_table.biom\n",
    "fi #This is to mitigate a biom bug\n",
    "\n",
    "biom convert -i otu_table.txt -o otu_table.biom --table-type \"otu table\""
   ]
  },
  {
   "cell_type": "code",
   "execution_count": 24,
   "metadata": {
    "collapsed": true
   },
   "outputs": [],
   "source": [
    "%%bash -s \"$workDir\"\n",
    "\n",
    "cd $1\n",
    "\n",
    "if [ -f otu_table_summary.txt ]; then\n",
    "    rm otu_table_summary.txt\n",
    "fi #This is to mitigate a biom bug\n",
    "\n",
    "biom summarize-table -i otu_table.biom -o otu_table_summary.txt"
   ]
  },
  {
   "cell_type": "code",
   "execution_count": 25,
   "metadata": {
    "collapsed": false,
    "scrolled": true
   },
   "outputs": [
    {
     "name": "stdout",
     "output_type": "stream",
     "text": [
      "Num samples: 139\r\n",
      "Num observations: 7095\r\n",
      "Total count: 2246311\r\n",
      "Table density (fraction of non-zero values): 0.315\r\n",
      "Table md5 (unzipped): 59079cfbed5edba770d564cb700d8654\r\n",
      "\r\n",
      "Counts/sample summary:\r\n",
      " Min: 1.0\r\n",
      " Max: 53857.0\r\n",
      " Median: 14479.000\r\n",
      " Mean: 16160.511\r\n",
      " Std. dev.: 9719.549\r\n",
      " Sample Metadata Categories: None provided\r\n",
      " Observation Metadata Categories: None provided\r\n",
      "\r\n",
      "Counts/sample detail:\r\n",
      " H20_Control: 1.0\r\n",
      " Negative_Control: 13.0\r\n",
      " Positive_Control: 26.0\r\n",
      " sample3-1.09_Npos: 4206.0\r\n",
      " sample2-1.08_Npos: 4627.0\r\n",
      " sample5-1.29_Npos: 5069.0\r\n",
      " sample3-1.09_Nneg: 5216.0\r\n",
      " sample3-3.06_Npos: 5711.0\r\n",
      " sample2-1.08_Nneg: 5862.0\r\n",
      " sample5-1.22_Npos: 5872.0\r\n",
      " sample3-2.03_Npos: 5978.0\r\n",
      " sample1-1.27_Npos: 6315.0\r\n",
      " sample2-3.05_Npos: 6622.0\r\n",
      " sample4-1.03_Npos: 6647.0\r\n",
      " sample5-3.11_Npos: 6733.0\r\n",
      " sample5-1.25_Npos: 6801.0\r\n",
      " sample4-1.03_Nneg: 7137.0\r\n",
      " sample5-3.27_Npos: 7155.0\r\n",
      " sample5-1.16_Npos: 7171.0\r\n",
      " sample1-3.08_Npos: 7296.0\r\n",
      " sample1-1.27_Nneg: 7312.0\r\n",
      " sample5-3.16_Npos: 7331.0\r\n",
      " sample5-2.18_Npos: 7757.0\r\n",
      " sample5-1.29_Nneg: 7956.0\r\n",
      " sample3-3.06_Nneg: 7963.0\r\n",
      " sample4-3.10_Npos: 8116.0\r\n",
      " sample2-3.05_Nneg: 8159.0\r\n",
      " sample3-4.15_Nneg: 8323.0\r\n",
      " sample5-2.11_Npos: 8336.0\r\n",
      " sample3-4.15_Npos: 8619.0\r\n",
      " sample3-2.03_Nneg: 8701.0\r\n",
      " sample5-1.22_Nneg: 8709.0\r\n",
      " sample5-3.16_Nneg: 8845.0\r\n",
      " sample4-2.02_Npos: 9135.0\r\n",
      " sample6-1.15_Nneg: 9271.0\r\n",
      " sample2-4.25_Nneg: 9471.0\r\n",
      " sample6-1.07_Npos: 9517.0\r\n",
      " sample6-1.15_Npos: 9633.0\r\n",
      " sample5-1.16_Nneg: 9787.0\r\n",
      " sample6-1.07_Nneg: 9859.0\r\n",
      " sample2-2.08_Nneg: 9993.0\r\n",
      " sample2-4.25_Npos: 10026.0\r\n",
      " sample2-2.08_Npos: 10041.0\r\n",
      " sample5-4.05_Npos: 10129.0\r\n",
      " sample5-4.06_Npos: 10227.0\r\n",
      " sample1-3.08_Nneg: 10501.0\r\n",
      " sample5-3.11_Nneg: 10629.0\r\n",
      " sample6-1.12_Npos: 10794.0\r\n",
      " sample6-1.12_Nneg: 11233.0\r\n",
      " sample4-4.21_Nneg: 11311.0\r\n",
      " sample1-2.23_Npos: 11441.0\r\n",
      " sample5-4.28_Nneg: 11796.0\r\n",
      " sample2-4.27_Nneg: 11828.0\r\n",
      " sample6-2.16_Nneg: 11945.0\r\n",
      " sample5-2.11_Nneg: 12161.0\r\n",
      " sample6-2.16_Npos: 12267.0\r\n",
      " sample5-2.15_Npos: 12612.0\r\n",
      " sample5-4.06_Nneg: 12638.0\r\n",
      " sample5-1.06_Nneg: 12660.0\r\n",
      " sample5-4.05_Nneg: 12755.0\r\n",
      " sample6-3.01_Nneg: 12759.0\r\n",
      " sample4-2.02_Nneg: 12971.0\r\n",
      " sample5-1.17_Npos: 13235.0\r\n",
      " sample5-3.27_Nneg: 13378.0\r\n",
      " sample5-3.17_Npos: 13434.0\r\n",
      " sample6-2.26_Nneg: 13700.0\r\n",
      " sample4-3.10_Nneg: 13704.0\r\n",
      " sample2-3.07_Nneg: 13930.0\r\n",
      " sample5-1.25_Nneg: 14020.0\r\n",
      " sample1-4.24_Nneg: 14479.0\r\n",
      " sample5-2.29_Nneg: 14649.0\r\n",
      " sample1-4.24_Npos: 14656.0\r\n",
      " sample5-2.29_Npos: 14830.0\r\n",
      " sample6-3.18_Nneg: 14845.0\r\n",
      " sample5-3.07_Npos: 15033.0\r\n",
      " sample5-2.06_Nneg: 15096.0\r\n",
      " sample3-1.06_Npos: 15530.0\r\n",
      " sample5-4.28_Npos: 15564.0\r\n",
      " sample5-3.13_Nneg: 15987.0\r\n",
      " sample6-2.13_Nneg: 16088.0\r\n",
      " sample1-3.07_Npos: 16231.0\r\n",
      " sample5-2.18_Nneg: 16259.0\r\n",
      " sample1-4.27_Npos: 16314.0\r\n",
      " sample5-2.05_Nneg: 16488.0\r\n",
      " sample6-2.05_Nneg: 16647.0\r\n",
      " sample5-1.17_Nneg: 16659.0\r\n",
      " sample3-2.05_Npos: 16710.0\r\n",
      " sample6-3.18_Npos: 16895.0\r\n",
      " sample4-2.05_Nneg: 17151.0\r\n",
      " sample2-2.05_Npos: 17241.0\r\n",
      " sample1-2.05_Npos: 17316.0\r\n",
      " sample3-3.07_Nneg: 17441.0\r\n",
      " sample1-2.05_Nneg: 17447.0\r\n",
      " sample6-4.12_Nneg: 18420.0\r\n",
      " sample5-2.15_Nneg: 18528.0\r\n",
      " sample6-4.30_Npos: 18933.0\r\n",
      " sample2-2.05_Nneg: 19827.0\r\n",
      " sample1-2.23_Nneg: 19836.0\r\n",
      " sample5-3.17_Nneg: 19887.0\r\n",
      " sample5-3.13_Npos: 20011.0\r\n",
      " sample4-3.07_Npos: 20090.0\r\n",
      " sample6-3.04_Nneg: 20220.0\r\n",
      " sample4-4.27_Nneg: 20573.0\r\n",
      " sample6-4.30_Nneg: 20603.0\r\n",
      " sample5-4.27_Nneg: 20757.0\r\n",
      " sample6-2.13_Npos: 20841.0\r\n",
      " sample6-3.01_Npos: 21111.0\r\n",
      " sample4-4.21_Npos: 21344.0\r\n",
      " sample1-4.27_Nneg: 21604.0\r\n",
      " sample6-4.17_Nneg: 21643.0\r\n",
      " sample3-4.27_Nneg: 22210.0\r\n",
      " sample5-4.08_Nneg: 22575.0\r\n",
      " sample5-4.09_Nneg: 22635.0\r\n",
      " sample4-1.06_Nneg: 23000.0\r\n",
      " sample6-1.06_Npos: 23017.0\r\n",
      " sample6-3.04_Npos: 23102.0\r\n",
      " sample6-2.26_Npos: 23356.0\r\n",
      " sample2-4.27_Npos: 23422.0\r\n",
      " sample3-2.05_Nneg: 23675.0\r\n",
      " sample6-3.07_Nneg: 23705.0\r\n",
      " sample5-1.06_Npos: 23819.0\r\n",
      " sample1-3.07_Nneg: 24195.0\r\n",
      " sample5-2.06_Npos: 25232.0\r\n",
      " sample6-4.27_Nneg: 25311.0\r\n",
      " sample2-3.07_Npos: 26676.0\r\n",
      " sample6-4.17_Npos: 26861.0\r\n",
      " sample6-1.06_Nneg: 27922.0\r\n",
      " sample5-4.08_Npos: 29625.0\r\n",
      " sample4-2.05_Npos: 29901.0\r\n",
      " sample3-3.07_Npos: 34718.0\r\n",
      " sample2-1.06_Nneg: 35881.0\r\n",
      " sample5-4.27_Npos: 36524.0\r\n",
      " sample6-4.12_Npos: 37847.0\r\n",
      " sample5-3.07_Nneg: 40107.0\r\n",
      " sample6-3.07_Npos: 40567.0\r\n",
      " sample6-4.27_Npos: 43687.0\r\n",
      " sample5-4.09_Npos: 46850.0\r\n",
      " sample2-1.06_Npos: 50874.0\r\n",
      " sample4-3.07_Nneg: 53857.0\r\n"
     ]
    }
   ],
   "source": [
    "!cd $workDir; cat otu_table_summary.txt"
   ]
  },
  {
   "cell_type": "markdown",
   "metadata": {},
   "source": [
    "# Assessing the taxonomic composition in the water controls"
   ]
  },
  {
   "cell_type": "code",
   "execution_count": 26,
   "metadata": {
    "collapsed": false
   },
   "outputs": [],
   "source": [
    "%%R -i workDir\n",
    "\n",
    "setwd(workDir)\n",
    "\n",
    "tbl.otu = read.delim('otu_table.txt', sep='\\t')\n",
    "tbl.tax = read.delim('otusn_tax/otusn_tax_assignments.txt', header=F)\n",
    "\n",
    "tbl.otu.H2O = tbl.otu %>% \n",
    "    select(OTUId, Negative_Control) %>%\n",
    "    filter(Negative_Control > 0)"
   ]
  },
  {
   "cell_type": "code",
   "execution_count": 27,
   "metadata": {
    "collapsed": false
   },
   "outputs": [
    {
     "data": {
      "text/plain": [
       "      OTUId Negative_Control\n",
       "1  OTU.5531                1\n",
       "2   OTU.240                1\n",
       "3  OTU.6739                1\n",
       "4    OTU.35                1\n",
       "5     OTU.7                1\n",
       "6   OTU.130                2\n",
       "7   OTU.533                1\n",
       "8   OTU.150                1\n",
       "9   OTU.105                1\n",
       "10  OTU.180                1\n",
       "11  OTU.482                1\n",
       "12  OTU.837                1\n",
       "                                                                                                                            V2\n",
       "1  Bacteria; __Proteobacteria; __Betaproteobacteria; __Burkholderiales; __Comamonadaceae; __uncultured; __uncultured_bacterium\n",
       "2                   Bacteria; __Proteobacteria; __Alphaproteobacteria; __Sphingomonadales; __Sphingomonadaceae; __Sphingomonas\n",
       "3                                             Bacteria; __Actinobacteria; __Pseudonocardiales; __Pseudonocardiaceae; __Lentzea\n",
       "4                                                                    Bacteria; __Chloroflexi; __KD4-96; __uncultured_bacterium\n",
       "5                          Bacteria; __Proteobacteria; __Betaproteobacteria; __Burkholderiales; __Comamonadaceae; __uncultured\n",
       "6                                                                   Bacteria; __Acidobacteria; __DA023; __uncultured_bacterium\n",
       "7                    Bacteria; __Proteobacteria; __Alphaproteobacteria; __Rhodospirillales; __Rhodospirillaceae; __Skermanella\n",
       "8                      Bacteria; __Actinobacteria; __Thermoleophilia; __Gaiellales; __uncultured; __uncultured_actinobacterium\n",
       "9                                                 Bacteria; __Acidobacteria; __Holophagae; __43F-1404R; __uncultured_bacterium\n",
       "10                                   Bacteria; __Actinobacteria; __Streptosporangiales; __Streptosporangiaceae; __Microbispora\n",
       "11          Bacteria; __Chloroflexi; __Anaerolineae; __Anaerolineales; __Anaerolineaceae; __uncultured; __uncultured_bacterium\n",
       "12               Bacteria; __Gemmatimonadetes; __Gemmatimonadales; __Gemmatimonadaceae; __Gemmatimonas; __uncultured_bacterium\n",
       "     V3 V4\n",
       "1  0.67  3\n",
       "2  1.00  3\n",
       "3  1.00  3\n",
       "4  0.67  3\n",
       "5  0.67  3\n",
       "6  0.67  3\n",
       "7  0.67  3\n",
       "8  0.67  3\n",
       "9  0.67  3\n",
       "10 1.00  3\n",
       "11 0.67  3\n",
       "12 1.00  3\n"
      ]
     },
     "metadata": {},
     "output_type": "display_data"
    }
   ],
   "source": [
    "%%R\n",
    "# taxonomic levels\n",
    "tbl.j = left_join(tbl.otu.H2O, tbl.tax, by=c('OTUId' = 'V1'))\n",
    "tbl.j\n"
   ]
  },
  {
   "cell_type": "code",
   "execution_count": 28,
   "metadata": {
    "collapsed": true
   },
   "outputs": [],
   "source": [
    "%%R\n",
    "# taxonomic levels\n",
    "tbl.j = left_join(tbl.otu.H2O, tbl.tax, by=c('OTUId' = 'V1'))\n",
    "\n",
    "add_levels = function(x){\n",
    "    x = as.character(x)\n",
    "    x = gsub('__', '', x)\n",
    "    y = str_split(x, '; ')\n",
    "    y.len = length(y[[1]])\n",
    "    for(i in y.len:7){\n",
    "        if(i != 7){\n",
    "            x = paste(c(x, 'unclassified'), collapse='; ')\n",
    "            }\n",
    "        }\n",
    "    return(x)\n",
    "    }\n",
    "\n",
    "tbl.j = tbl.j %>%\n",
    "    mutate(V2 = sapply(V2, add_levels)) %>%\n",
    "    separate(V2, c('domain', 'phylum', 'class', 'order', 'family', 'genus', 'species'), sep='; ')"
   ]
  },
  {
   "cell_type": "code",
   "execution_count": 29,
   "metadata": {
    "collapsed": false
   },
   "outputs": [
    {
     "data": {
      "image/png": "[encoded data removed]"
     },
     "metadata": {},
     "output_type": "display_data"
    }
   ],
   "source": [
    "%%R -h 600 -w 600\n",
    "\n",
    "tbl.j = tbl.j %>%\n",
    "    arrange(Negative_Control)\n",
    "\n",
    "tbl.j.phylum = tbl.j %>%\n",
    "    group_by(domain, phylum) %>%\n",
    "    summarize(\n",
    "        OTU_count = n(),\n",
    "        abundance = sum(Negative_Control)\n",
    "    )\n",
    "\n",
    "p1 = ggplot(tbl.j.phylum, aes(phylum, OTU_count, color=domain)) +\n",
    "    geom_point() +\n",
    "    theme(\n",
    "        axis.text.x = element_text(angle=90, hjust=1)\n",
    "        )\n",
    "\n",
    "\n",
    "tbl.j.class = tbl.j %>%\n",
    "    group_by(class) %>%\n",
    "    summarize(\n",
    "        OTU_count = n(),\n",
    "        abundance = sum(Negative_Control)\n",
    "    )\n",
    "\n",
    "p2 = ggplot(tbl.j.class, aes(class, OTU_count, color=class)) +\n",
    "    geom_point() +\n",
    "    theme(\n",
    "        axis.text.x = element_text(angle=90, hjust=1)\n",
    "        )\n",
    "\n",
    "\n",
    "tbl.j.genus = tbl.j %>%\n",
    "    group_by(class, genus) %>%\n",
    "    summarize(\n",
    "        OTU_count = n(),\n",
    "        abundance = sum(Negative_Control)\n",
    "    )\n",
    "\n",
    "p3 = ggplot(tbl.j.genus, aes(genus, OTU_count, color=class)) +\n",
    "    geom_point() +\n",
    "    theme(\n",
    "        axis.text.x = element_text(angle=90, hjust=1)\n",
    "        )\n",
    "\n",
    "grid.arrange(p1, p2, p3, ncol=1)"
   ]
  }
 ],
 "metadata": {
  "hide_input": true,
  "kernelspec": {
   "display_name": "Python 2",
   "language": "python",
   "name": "python2"
  },
  "language_info": {
   "codemirror_mode": {
    "name": "ipython",
    "version": 2
   },
   "file_extension": ".py",
   "mimetype": "text/x-python",
   "name": "python",
   "nbconvert_exporter": "python",
   "pygments_lexer": "ipython2",
   "version": "2.7.10"
  }
 },
 "nbformat": 4,
 "nbformat_minor": 0
}
