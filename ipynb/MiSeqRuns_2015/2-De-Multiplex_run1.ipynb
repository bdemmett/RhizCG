{
 "cells": [
  {
   "cell_type": "markdown",
   "metadata": {},
   "source": [
    "#Description\n",
    "    Demultiplex RhizCG 150520_run1\n"
   ]
  },
  {
   "cell_type": "markdown",
   "metadata": {},
   "source": [
    "#Setting variables"
   ]
  },
  {
   "cell_type": "code",
   "execution_count": 2,
   "metadata": {
    "collapsed": true
   },
   "outputs": [],
   "source": [
    "workDir = '/home/bryan/RhizCG/data/MiSeq_amplicon/150520_run1/'\n",
    "seqDir = '/var/seq_data/RhizCG/150520_run1/raw/'\n",
    "\n",
    "metadataFile = '/home/bryan/RhizCG/data/MiSeq_amplicon/metadata_RhizCG_run1_e.txt'\n",
    "read1_file = 'read1.fq'\n",
    "read2_file = 'read2.fq'\n",
    "index_read1_file = 'index1.fq'\n",
    "index_read2_file = 'index2.fq'\n",
    "read12_screed_file = 'pear_merged-2015-06-01.assembled.fastq_screed'"
   ]
  },
  {
   "cell_type": "markdown",
   "metadata": {},
   "source": [
    "#Init"
   ]
  },
  {
   "cell_type": "code",
   "execution_count": 4,
   "metadata": {
    "collapsed": true
   },
   "outputs": [],
   "source": [
    "import os\n",
    "import screed\n",
    "import pandas as pd\n",
    "from collections import Counter\n",
    "import matplotlib.pyplot as plt\n",
    "import numpy as np\n",
    "from ggplot import *\n",
    "import re\n",
    "import scipy.stats as stats"
   ]
  },
  {
   "cell_type": "code",
   "execution_count": 3,
   "metadata": {
    "collapsed": true
   },
   "outputs": [],
   "source": [
    "if not os.path.isdir(workDir):\n",
    "    os.mkdir(workDir)"
   ]
  },
  {
   "cell_type": "code",
   "execution_count": 5,
   "metadata": {
    "collapsed": true
   },
   "outputs": [],
   "source": [
    "%load_ext rpy2.ipython"
   ]
  },
  {
   "cell_type": "code",
   "execution_count": 5,
   "metadata": {
    "collapsed": false,
    "scrolled": true
   },
   "outputs": [
    {
     "data": {
      "text/plain": [
       "\n",
       "Attaching package: ‘dplyr’\n",
       "\n",
       "The following object is masked from ‘package:stats’:\n",
       "\n",
       "    filter\n",
       "\n",
       "The following objects are masked from ‘package:base’:\n",
       "\n",
       "    intersect, setdiff, setequal, union\n",
       "\n",
       "gdata: read.xls support for 'XLS' (Excel 97-2004) files ENABLED.\n",
       "\n",
       "gdata: read.xls support for 'XLSX' (Excel 2007+) files ENABLED.\n",
       "\n",
       "Attaching package: ‘gdata’\n",
       "\n",
       "The following object is masked from ‘package:dplyr’:\n",
       "\n",
       "    combine\n",
       "\n",
       "The following object is masked from ‘package:stats’:\n",
       "\n",
       "    nobs\n",
       "\n",
       "The following object is masked from ‘package:utils’:\n",
       "\n",
       "    object.size\n",
       "\n"
      ]
     },
     "metadata": {},
     "output_type": "display_data"
    }
   ],
   "source": [
    "%%R\n",
    "library(ggplot2)\n",
    "library(dplyr)\n",
    "library(tidyr)\n",
    "library(gdata)"
   ]
  },
  {
   "cell_type": "code",
   "execution_count": 6,
   "metadata": {
    "collapsed": false
   },
   "outputs": [],
   "source": [
    "#long processessing time\n",
    "os.chdir(seqDir)\n",
    "screed.read_fastq_sequences(index_read1_file)\n",
    "screed.read_fastq_sequences(index_read2_file)"
   ]
  },
  {
   "cell_type": "markdown",
   "metadata": {},
   "source": [
    "##Checkpoint: define index screed files to skip above step"
   ]
  },
  {
   "cell_type": "code",
   "execution_count": 7,
   "metadata": {
    "collapsed": true
   },
   "outputs": [],
   "source": [
    "index_read1_screed = index_read1_file + '_screed'\n",
    "index_read2_screed = index_read2_file + '_screed'"
   ]
  },
  {
   "cell_type": "markdown",
   "metadata": {},
   "source": [
    "#Demultiplex"
   ]
  },
  {
   "cell_type": "code",
   "execution_count": 8,
   "metadata": {
    "collapsed": true
   },
   "outputs": [],
   "source": [
    "# rev-comp functions\n",
    "def complement(seq): \n",
    "    idx = {'A': 'T', 'C': 'G', 'G': 'C', 'T': 'A', 'N':'N'} \n",
    "    idx.update( {x.lower():y.lower() for x,y in idx.items()} )\n",
    "    return ''.join(idx[x] for x in list(seq))\n",
    "\n",
    "def revComp(seq):\n",
    "    seq = seq[::-1]\n",
    "    return complement(seq)"
   ]
  },
  {
   "cell_type": "code",
   "execution_count": 7,
   "metadata": {
    "collapsed": false
   },
   "outputs": [
    {
     "name": "stdout",
     "output_type": "stream",
     "text": [
      "Index([u'Sample', u'Library', u'Primer_plate', u'well_ID', u'primerFR_ID_byPlate', u'primerFR_ID_total', u'barcode_ID', u'PlotID', u'Plant', u'Plot', u'Treatment', u'Rep', u'DAP', u'Sampling', u'PlantSample', u'Type', u'Grass_Broad', u'Status', u'Subfamily', u'fwd_barcode', u'rev_barcode'], dtype='object')\n"
     ]
    },
    {
     "data": {
      "text/plain": [
       "[('GGATATCT', 'TCGCTATA'),\n",
       " ('GATCGTGT', 'TCATAGAC'),\n",
       " ('GTCAGATA', 'TCATAGAC'),\n",
       " ('GACACCGT', 'TCGCTATA'),\n",
       " ('ATCGTACG', 'AACTCTCG'),\n",
       " ('ACTATCTG', 'AACTCTCG'),\n",
       " ('ATCGTACG', 'GTCGTAGT'),\n",
       " ('ACTATCTG', 'GTCGTAGT'),\n",
       " ('TAGCGAGT', 'AACTCTCG'),\n",
       " ('CTGCGTGT', 'AACTCTCG'),\n",
       " ('TAGCGAGT', 'GTCGTAGT'),\n",
       " ('CTGCGTGT', 'GTCGTAGT'),\n",
       " ('TCATCGAG', 'AACTCTCG'),\n",
       " ('CGTGAGTG', 'AACTCTCG'),\n",
       " ('GGATATCT', 'AACTCTCG'),\n",
       " ('GACACCGT', 'AACTCTCG'),\n",
       " ('TCATCGAG', 'GTCGTAGT'),\n",
       " ('CGTGAGTG', 'GTCGTAGT'),\n",
       " ('GGATATCT', 'GTCGTAGT'),\n",
       " ('GACACCGT', 'GTCGTAGT'),\n",
       " ('ATCGTACG', 'GGAGACTA'),\n",
       " ('ACTATCTG', 'GGAGACTA'),\n",
       " ('ATCGTACG', 'TAGCAGAC'),\n",
       " ('ACTATCTG', 'TAGCAGAC'),\n",
       " ('TAGCGAGT', 'GGAGACTA'),\n",
       " ('CTGCGTGT', 'GGAGACTA'),\n",
       " ('TCATCGAG', 'GGAGACTA'),\n",
       " ('CGTGAGTG', 'GGAGACTA'),\n",
       " ('TAGCGAGT', 'TAGCAGAC'),\n",
       " ('CTGCGTGT', 'TAGCAGAC'),\n",
       " ('GGATATCT', 'GGAGACTA'),\n",
       " ('GACACCGT', 'GGAGACTA'),\n",
       " ('TCATCGAG', 'TAGCAGAC'),\n",
       " ('CGTGAGTG', 'TAGCAGAC'),\n",
       " ('GGATATCT', 'TAGCAGAC'),\n",
       " ('ATCGTACG', 'GTCGCTCG'),\n",
       " ('ACTATCTG', 'GTCGCTCG'),\n",
       " ('TAGCGAGT', 'GTCGCTCG'),\n",
       " ('CTGCGTGT', 'GTCGCTCG'),\n",
       " ('GACACCGT', 'TAGCAGAC'),\n",
       " ('ATCGTACG', 'TCATAGAC'),\n",
       " ('TCATCGAG', 'GTCGCTCG'),\n",
       " ('CGTGAGTG', 'GTCGCTCG'),\n",
       " ('ACTATCTG', 'TCATAGAC'),\n",
       " ('TAGCGAGT', 'TCATAGAC'),\n",
       " ('GGATATCT', 'GTCGCTCG'),\n",
       " ('GACACCGT', 'GTCGCTCG'),\n",
       " ('CTGCGTGT', 'TCATAGAC'),\n",
       " ('ATCGTACG', 'AGTAGCGT'),\n",
       " ('ACTATCTG', 'AGTAGCGT'),\n",
       " ('TCATCGAG', 'TCATAGAC'),\n",
       " ('TAGCGAGT', 'AGTAGCGT'),\n",
       " ('CTGCGTGT', 'AGTAGCGT'),\n",
       " ('CGTGAGTG', 'TCATAGAC'),\n",
       " ('GGATATCT', 'TCATAGAC'),\n",
       " ('GACACCGT', 'TCATAGAC'),\n",
       " ('ATCGTACG', 'TCGCTATA'),\n",
       " ('TCATCGAG', 'AGTAGCGT'),\n",
       " ('CGTGAGTG', 'AGTAGCGT'),\n",
       " ('GGATATCT', 'AGTAGCGT'),\n",
       " ('GACACCGT', 'AGTAGCGT'),\n",
       " ('ACTATCTG', 'TCGCTATA'),\n",
       " ('CTACTATA', 'GTCGTAGT'),\n",
       " ('CGTTACTA', 'GTCGTAGT'),\n",
       " ('ATCGTACG', 'CTACGCAG'),\n",
       " ('ACTATCTG', 'CTACGCAG'),\n",
       " ('CTACTATA', 'AACTCTCG'),\n",
       " ('CGTTACTA', 'AACTCTCG'),\n",
       " ('ATCGTACG', 'CAGTGAGT'),\n",
       " ('ACTATCTG', 'CAGTGAGT'),\n",
       " ('ATCGTACG', 'ACTATGTC'),\n",
       " ('ACTATCTG', 'ACTATGTC'),\n",
       " ('ATCGTACG', 'CGTACTCA'),\n",
       " ('ACTATCTG', 'CGTACTCA'),\n",
       " ('AGAGTCAC', 'GTCGTAGT'),\n",
       " ('AGAGTCAC', 'AACTCTCG'),\n",
       " ('TACGAGAC', 'AACTCTCG'),\n",
       " ('TAGCGAGT', 'CTACGCAG'),\n",
       " ('CTGCGTGT', 'CTACGCAG'),\n",
       " ('TAGCGAGT', 'ACTATGTC'),\n",
       " ('CTGCGTGT', 'ACTATGTC'),\n",
       " ('TAGCGAGT', 'CGTACTCA'),\n",
       " ('CTGCGTGT', 'CGTACTCA'),\n",
       " ('TAGCGAGT', 'CAGTGAGT'),\n",
       " ('CTGCGTGT', 'CAGTGAGT'),\n",
       " ('TACGAGAC', 'GTCGTAGT'),\n",
       " ('ACGTCTCG', 'GTCGTAGT'),\n",
       " ('TCATCGAG', 'CGTACTCA'),\n",
       " ('CGTGAGTG', 'CGTACTCA'),\n",
       " ('ACGTCTCG', 'AACTCTCG'),\n",
       " ('TCGACGAG', 'AACTCTCG'),\n",
       " ('TCATCGAG', 'CTACGCAG'),\n",
       " ('CGTGAGTG', 'CTACGCAG'),\n",
       " ('TCATCGAG', 'ACTATGTC'),\n",
       " ('CGTGAGTG', 'ACTATGTC'),\n",
       " ('TCATCGAG', 'CAGTGAGT'),\n",
       " ('CGTGAGTG', 'CAGTGAGT'),\n",
       " ('GGATATCT', 'CTACGCAG'),\n",
       " ('GACACCGT', 'CTACGCAG'),\n",
       " ('GGATATCT', 'CGTACTCA'),\n",
       " ('GACACCGT', 'CGTACTCA'),\n",
       " ('GATCGTGT', 'AACTCTCG'),\n",
       " ('GTCAGATA', 'AACTCTCG'),\n",
       " ('GGATATCT', 'ACTATGTC'),\n",
       " ('GACACCGT', 'ACTATGTC'),\n",
       " ('TCGACGAG', 'GTCGTAGT'),\n",
       " ('GATCGTGT', 'GTCGTAGT'),\n",
       " ('GGATATCT', 'CAGTGAGT'),\n",
       " ('GACACCGT', 'CAGTGAGT'),\n",
       " ('GTCAGATA', 'GTCGTAGT'),\n",
       " ('CTACTATA', 'TCATAGAC'),\n",
       " ('CTACTATA', 'AGTAGCGT'),\n",
       " ('CGTTACTA', 'AGTAGCGT'),\n",
       " ('CTACTATA', 'GGAGACTA'),\n",
       " ('CGTTACTA', 'GGAGACTA'),\n",
       " ('CTACTATA', 'CGTACTCA'),\n",
       " ('CGTTACTA', 'CGTACTCA'),\n",
       " ('CGTTACTA', 'TCATAGAC'),\n",
       " ('AGAGTCAC', 'AGTAGCGT'),\n",
       " ('TACGAGAC', 'AGTAGCGT'),\n",
       " ('AGAGTCAC', 'CGTACTCA'),\n",
       " ('TACGAGAC', 'CGTACTCA'),\n",
       " ('AGAGTCAC', 'GGAGACTA'),\n",
       " ('TACGAGAC', 'GGAGACTA'),\n",
       " ('ACGTCTCG', 'CGTACTCA'),\n",
       " ('TCGACGAG', 'CGTACTCA'),\n",
       " ('ACGTCTCG', 'AGTAGCGT'),\n",
       " ('TCGACGAG', 'AGTAGCGT'),\n",
       " ('AGAGTCAC', 'TCATAGAC'),\n",
       " ('TACGAGAC', 'TCATAGAC'),\n",
       " ('ACGTCTCG', 'GGAGACTA'),\n",
       " ('TCGACGAG', 'GGAGACTA'),\n",
       " ('GATCGTGT', 'AGTAGCGT'),\n",
       " ('GTCAGATA', 'AGTAGCGT'),\n",
       " ('GATCGTGT', 'CGTACTCA'),\n",
       " ('GTCAGATA', 'CGTACTCA'),\n",
       " ('ACGTCTCG', 'TCATAGAC'),\n",
       " ('TCGACGAG', 'TCATAGAC'),\n",
       " ('GATCGTGT', 'GGAGACTA'),\n",
       " ('GTCAGATA', 'GGAGACTA')]"
      ]
     },
     "execution_count": 7,
     "metadata": {},
     "output_type": "execute_result"
    }
   ],
   "source": [
    "# loading/editing metadata\n",
    "\n",
    "df_meta = pd.read_table(os.path.join(workDir,metadataFile), delimiter=\"\\t\")\n",
    "df_meta.columns = ['Sample'] + list((df_meta.columns)[1:])\n",
    "print df_meta.columns\n",
    "zip(df_meta.fwd_barcode,df_meta.rev_barcode)"
   ]
  },
  {
   "cell_type": "code",
   "execution_count": 9,
   "metadata": {
    "collapsed": false
   },
   "outputs": [],
   "source": [
    "# loading/editing metadata\n",
    "\n",
    "df_meta = pd.read_table(os.path.join(workDir,metadataFile), delimiter=\"\\t\")\n",
    "df_meta.columns = ['Sample'] + list((df_meta.columns)[1:])\n",
    "\n",
    "df_meta['Barcode_FR'] = [(revComp(y) + x).lower() for x,y \\\n",
    "                         in zip(df_meta.fwd_barcode,df_meta.rev_barcode)]\n",
    "\n",
    "## format of barcode=>sample dict: [revcomp(revBarcode=read1) + fwdBarcode=read2] : sampleID\n",
    "map_d = {x:y for x,y in zip(df_meta.Barcode_FR, df_meta.Sample)}"
   ]
  },
  {
   "cell_type": "code",
   "execution_count": 10,
   "metadata": {
    "collapsed": false
   },
   "outputs": [],
   "source": [
    "# loading screed databases \n",
    "os.chdir(seqDir)\n",
    "\n",
    "ir1db = screed.ScreedDB(index_read1_screed)\n",
    "ir2db = screed.ScreedDB(index_read2_screed)\n",
    "amp_db = screed.ScreedDB(read12_screed_file)"
   ]
  },
  {
   "cell_type": "code",
   "execution_count": 12,
   "metadata": {
    "collapsed": false
   },
   "outputs": [
    {
     "name": "stdout",
     "output_type": "stream",
     "text": [
      "Unable to assign 1975316 reads to samples\n"
     ]
    }
   ],
   "source": [
    "# demultiplexing: naming reads by sample\n",
    "\n",
    "outFile = re.sub('fastq_screed', 'dmult.fastq', read12_screed_file)\n",
    "\n",
    "counter = 0\n",
    "unassigned = 0\n",
    "cnt = Counter()\n",
    "outFile = os.path.join(workDir, outFile)\n",
    "c = 0\n",
    "with open(outFile, \"w\") as out:\n",
    "    for rec in amp_db.itervalues():\n",
    "        # debug\n",
    "        #c += 1\n",
    "        #if c > 10000:\n",
    "        #    break\n",
    "            \n",
    "        index_concat = ir1db[rec[\"name\"]][\"sequence\"] + ir2db[rec[\"name\"]][\"sequence\"]\n",
    "        \n",
    "        try:\n",
    "            new_name = map_d[index_concat.lower()] + \"_\" + str(counter) #case sensitive\n",
    "        except KeyError:\n",
    "            unassigned += 1\n",
    "            continue\n",
    "        counter += 1\n",
    "        cnt[map_d[index_concat.lower()]] += 1 #case sensitive\n",
    "        s, q = rec[\"sequence\"], rec[\"accuracy\"]\n",
    "        out.write(\"@%s orig_name=%s\\n%s\\n+\\n%s\\n\"%(new_name,rec[\"name\"],s,q))\n",
    "        \n",
    "        \n",
    "print \"Unable to assign %s reads to samples\"%unassigned"
   ]
  },
  {
   "cell_type": "code",
   "execution_count": null,
   "metadata": {
    "collapsed": true
   },
   "outputs": [],
   "source": [
    "##Checkpoint: define outfile for next command without running above."
   ]
  },
  {
   "cell_type": "code",
   "execution_count": 10,
   "metadata": {
    "collapsed": false
   },
   "outputs": [],
   "source": [
    "outFile = '/home/bryan/RhizCG/data/MiSeq_amplicon/150520_run1/pear_merged-2015-06-01.assembled.dmult.fastq'"
   ]
  },
  {
   "cell_type": "code",
   "execution_count": 11,
   "metadata": {
    "collapsed": false
   },
   "outputs": [
    {
     "name": "stdout",
     "output_type": "stream",
     "text": [
      "Number of sequences: 8037686\n"
     ]
    }
   ],
   "source": [
    "# number of sequences\n",
    "n_lines = !wc -l $outFile\n",
    "n_lines = int(re.sub(' .+', '', n_lines[0]))\n",
    "print 'Number of sequences: {}'.format(n_lines/4)"
   ]
  },
  {
   "cell_type": "markdown",
   "metadata": {},
   "source": [
    "# Stats on sequences"
   ]
  },
  {
   "cell_type": "markdown",
   "metadata": {},
   "source": [
    "## Number of sequences per sample"
   ]
  },
  {
   "cell_type": "code",
   "execution_count": 12,
   "metadata": {
    "collapsed": true
   },
   "outputs": [],
   "source": [
    "# counting sequences for each sample\n",
    "re_seqName = re.compile(r'_\\d+ orig_name.+')\n",
    "\n",
    "seq_cnt = dict()\n",
    "with open(outFile, 'r') as fn:\n",
    "    for line in fn.readlines():\n",
    "        if re.search(re_seqName, line):\n",
    "            sampleName = re.sub(re_seqName, '', line).rstrip().lstrip('@')\n",
    "            try:\n",
    "                seq_cnt[sampleName] += 1\n",
    "            except KeyError:\n",
    "                seq_cnt[sampleName] = 1 "
   ]
  },
  {
   "cell_type": "code",
   "execution_count": 13,
   "metadata": {
    "collapsed": false
   },
   "outputs": [
    {
     "data": {
      "text/html": [
       "<div style=\"max-height:1000px;max-width:1500px;overflow:auto;\">\n",
       "<table border=\"1\" class=\"dataframe\">\n",
       "  <thead>\n",
       "    <tr style=\"text-align: right;\">\n",
       "      <th></th>\n",
       "      <th>Sample</th>\n",
       "      <th>seq_count</th>\n",
       "    </tr>\n",
       "  </thead>\n",
       "  <tbody>\n",
       "    <tr>\n",
       "      <th>0</th>\n",
       "      <td>sample1-1.27_Nneg</td>\n",
       "      <td>25904</td>\n",
       "    </tr>\n",
       "    <tr>\n",
       "      <th>1</th>\n",
       "      <td>sample3-2.05_Nneg</td>\n",
       "      <td>61671</td>\n",
       "    </tr>\n",
       "    <tr>\n",
       "      <th>2</th>\n",
       "      <td>sample1-3.07_Npos</td>\n",
       "      <td>49496</td>\n",
       "    </tr>\n",
       "    <tr>\n",
       "      <th>3</th>\n",
       "      <td>sample5-4.27_Npos</td>\n",
       "      <td>98926</td>\n",
       "    </tr>\n",
       "    <tr>\n",
       "      <th>4</th>\n",
       "      <td>sample4-1.06_Nneg</td>\n",
       "      <td>68935</td>\n",
       "    </tr>\n",
       "    <tr>\n",
       "      <th>5</th>\n",
       "      <td>sample6-1.15_Npos</td>\n",
       "      <td>50902</td>\n",
       "    </tr>\n",
       "    <tr>\n",
       "      <th>6</th>\n",
       "      <td>sample5-4.08_Nneg</td>\n",
       "      <td>78741</td>\n",
       "    </tr>\n",
       "    <tr>\n",
       "      <th>7</th>\n",
       "      <td>sample2-3.05_Nneg</td>\n",
       "      <td>39853</td>\n",
       "    </tr>\n",
       "    <tr>\n",
       "      <th>8</th>\n",
       "      <td>sample3-3.07_Nneg</td>\n",
       "      <td>58372</td>\n",
       "    </tr>\n",
       "    <tr>\n",
       "      <th>9</th>\n",
       "      <td>sample5-1.06_Nneg</td>\n",
       "      <td>34486</td>\n",
       "    </tr>\n",
       "    <tr>\n",
       "      <th>10</th>\n",
       "      <td>sample5-2.29_Npos</td>\n",
       "      <td>75122</td>\n",
       "    </tr>\n",
       "    <tr>\n",
       "      <th>11</th>\n",
       "      <td>sample1-4.24_Npos</td>\n",
       "      <td>51726</td>\n",
       "    </tr>\n",
       "    <tr>\n",
       "      <th>12</th>\n",
       "      <td>sample6-1.07_Nneg</td>\n",
       "      <td>36799</td>\n",
       "    </tr>\n",
       "    <tr>\n",
       "      <th>13</th>\n",
       "      <td>sample5-4.27_Nneg</td>\n",
       "      <td>54845</td>\n",
       "    </tr>\n",
       "    <tr>\n",
       "      <th>14</th>\n",
       "      <td>sample6-4.17_Nneg</td>\n",
       "      <td>110454</td>\n",
       "    </tr>\n",
       "    <tr>\n",
       "      <th>15</th>\n",
       "      <td>sample2-3.07_Npos</td>\n",
       "      <td>82593</td>\n",
       "    </tr>\n",
       "    <tr>\n",
       "      <th>16</th>\n",
       "      <td>sample6-3.01_Nneg</td>\n",
       "      <td>60636</td>\n",
       "    </tr>\n",
       "    <tr>\n",
       "      <th>17</th>\n",
       "      <td>sample2-4.27_Nneg</td>\n",
       "      <td>33041</td>\n",
       "    </tr>\n",
       "    <tr>\n",
       "      <th>18</th>\n",
       "      <td>sample6-2.26_Npos</td>\n",
       "      <td>75634</td>\n",
       "    </tr>\n",
       "    <tr>\n",
       "      <th>19</th>\n",
       "      <td>sample5-1.22_Npos</td>\n",
       "      <td>24977</td>\n",
       "    </tr>\n",
       "    <tr>\n",
       "      <th>20</th>\n",
       "      <td>sample2-3.07_Nneg</td>\n",
       "      <td>37619</td>\n",
       "    </tr>\n",
       "    <tr>\n",
       "      <th>21</th>\n",
       "      <td>Positive_Control_2</td>\n",
       "      <td>51</td>\n",
       "    </tr>\n",
       "    <tr>\n",
       "      <th>22</th>\n",
       "      <td>sample5-1.25_Nneg</td>\n",
       "      <td>39446</td>\n",
       "    </tr>\n",
       "    <tr>\n",
       "      <th>23</th>\n",
       "      <td>sample4-3.07_Nneg</td>\n",
       "      <td>135277</td>\n",
       "    </tr>\n",
       "    <tr>\n",
       "      <th>24</th>\n",
       "      <td>sample4-1.03_Npos</td>\n",
       "      <td>29472</td>\n",
       "    </tr>\n",
       "    <tr>\n",
       "      <th>25</th>\n",
       "      <td>sample5-1.29_Nneg</td>\n",
       "      <td>25965</td>\n",
       "    </tr>\n",
       "    <tr>\n",
       "      <th>26</th>\n",
       "      <td>sample6-2.16_Npos</td>\n",
       "      <td>67461</td>\n",
       "    </tr>\n",
       "    <tr>\n",
       "      <th>27</th>\n",
       "      <td>sample1-2.23_Npos</td>\n",
       "      <td>47856</td>\n",
       "    </tr>\n",
       "    <tr>\n",
       "      <th>28</th>\n",
       "      <td>sample5-4.06_Npos</td>\n",
       "      <td>34941</td>\n",
       "    </tr>\n",
       "    <tr>\n",
       "      <th>29</th>\n",
       "      <td>sample5-3.13_Npos</td>\n",
       "      <td>53566</td>\n",
       "    </tr>\n",
       "    <tr>\n",
       "      <th>...</th>\n",
       "      <td>...</td>\n",
       "      <td>...</td>\n",
       "    </tr>\n",
       "    <tr>\n",
       "      <th>110</th>\n",
       "      <td>sample4-3.10_Nneg</td>\n",
       "      <td>42739</td>\n",
       "    </tr>\n",
       "    <tr>\n",
       "      <th>111</th>\n",
       "      <td>sample6-4.17_Npos</td>\n",
       "      <td>159834</td>\n",
       "    </tr>\n",
       "    <tr>\n",
       "      <th>112</th>\n",
       "      <td>sample6-1.12_Nneg</td>\n",
       "      <td>49777</td>\n",
       "    </tr>\n",
       "    <tr>\n",
       "      <th>113</th>\n",
       "      <td>sample5-3.16_Nneg</td>\n",
       "      <td>34909</td>\n",
       "    </tr>\n",
       "    <tr>\n",
       "      <th>114</th>\n",
       "      <td>sample1-4.27_Nneg</td>\n",
       "      <td>57612</td>\n",
       "    </tr>\n",
       "    <tr>\n",
       "      <th>115</th>\n",
       "      <td>sample3-3.07_Npos</td>\n",
       "      <td>102014</td>\n",
       "    </tr>\n",
       "    <tr>\n",
       "      <th>116</th>\n",
       "      <td>sample6-2.13_Npos</td>\n",
       "      <td>51972</td>\n",
       "    </tr>\n",
       "    <tr>\n",
       "      <th>117</th>\n",
       "      <td>sample6-3.07_Nneg</td>\n",
       "      <td>63096</td>\n",
       "    </tr>\n",
       "    <tr>\n",
       "      <th>118</th>\n",
       "      <td>sample5-4.09_Nneg</td>\n",
       "      <td>82340</td>\n",
       "    </tr>\n",
       "    <tr>\n",
       "      <th>119</th>\n",
       "      <td>sample3-2.03_Nneg</td>\n",
       "      <td>49298</td>\n",
       "    </tr>\n",
       "    <tr>\n",
       "      <th>120</th>\n",
       "      <td>sample5-4.08_Npos</td>\n",
       "      <td>125876</td>\n",
       "    </tr>\n",
       "    <tr>\n",
       "      <th>121</th>\n",
       "      <td>sample6-1.06_Npos</td>\n",
       "      <td>65323</td>\n",
       "    </tr>\n",
       "    <tr>\n",
       "      <th>122</th>\n",
       "      <td>sample5-4.28_Nneg</td>\n",
       "      <td>66087</td>\n",
       "    </tr>\n",
       "    <tr>\n",
       "      <th>123</th>\n",
       "      <td>sample1-3.08_Nneg</td>\n",
       "      <td>39658</td>\n",
       "    </tr>\n",
       "    <tr>\n",
       "      <th>124</th>\n",
       "      <td>sample5-2.15_Npos</td>\n",
       "      <td>48010</td>\n",
       "    </tr>\n",
       "    <tr>\n",
       "      <th>125</th>\n",
       "      <td>sample1-4.24_Nneg</td>\n",
       "      <td>50330</td>\n",
       "    </tr>\n",
       "    <tr>\n",
       "      <th>126</th>\n",
       "      <td>sample2-2.08_Npos</td>\n",
       "      <td>52116</td>\n",
       "    </tr>\n",
       "    <tr>\n",
       "      <th>127</th>\n",
       "      <td>sample6-1.06_Nneg</td>\n",
       "      <td>82931</td>\n",
       "    </tr>\n",
       "    <tr>\n",
       "      <th>128</th>\n",
       "      <td>sample6-2.26_Nneg</td>\n",
       "      <td>67123</td>\n",
       "    </tr>\n",
       "    <tr>\n",
       "      <th>129</th>\n",
       "      <td>sample3-4.15_Nneg</td>\n",
       "      <td>50405</td>\n",
       "    </tr>\n",
       "    <tr>\n",
       "      <th>130</th>\n",
       "      <td>sample6-4.30_Nneg</td>\n",
       "      <td>95859</td>\n",
       "    </tr>\n",
       "    <tr>\n",
       "      <th>131</th>\n",
       "      <td>sample5-1.16_Npos</td>\n",
       "      <td>28610</td>\n",
       "    </tr>\n",
       "    <tr>\n",
       "      <th>132</th>\n",
       "      <td>sample2-1.06_Npos</td>\n",
       "      <td>128335</td>\n",
       "    </tr>\n",
       "    <tr>\n",
       "      <th>133</th>\n",
       "      <td>sample5-1.22_Nneg</td>\n",
       "      <td>30058</td>\n",
       "    </tr>\n",
       "    <tr>\n",
       "      <th>134</th>\n",
       "      <td>sample1-3.07_Nneg</td>\n",
       "      <td>64989</td>\n",
       "    </tr>\n",
       "    <tr>\n",
       "      <th>135</th>\n",
       "      <td>sample5-2.11_Nneg</td>\n",
       "      <td>43882</td>\n",
       "    </tr>\n",
       "    <tr>\n",
       "      <th>136</th>\n",
       "      <td>sample6-4.30_Npos</td>\n",
       "      <td>103279</td>\n",
       "    </tr>\n",
       "    <tr>\n",
       "      <th>137</th>\n",
       "      <td>sample3-3.06_Nneg</td>\n",
       "      <td>43200</td>\n",
       "    </tr>\n",
       "    <tr>\n",
       "      <th>138</th>\n",
       "      <td>sample1-2.23_Nneg</td>\n",
       "      <td>68175</td>\n",
       "    </tr>\n",
       "    <tr>\n",
       "      <th>139</th>\n",
       "      <td>sample4-3.10_Npos</td>\n",
       "      <td>38413</td>\n",
       "    </tr>\n",
       "  </tbody>\n",
       "</table>\n",
       "<p>140 rows × 2 columns</p>\n",
       "</div>"
      ],
      "text/plain": [
       "                 Sample  seq_count\n",
       "0     sample1-1.27_Nneg      25904\n",
       "1     sample3-2.05_Nneg      61671\n",
       "2     sample1-3.07_Npos      49496\n",
       "3     sample5-4.27_Npos      98926\n",
       "4     sample4-1.06_Nneg      68935\n",
       "5     sample6-1.15_Npos      50902\n",
       "6     sample5-4.08_Nneg      78741\n",
       "7     sample2-3.05_Nneg      39853\n",
       "8     sample3-3.07_Nneg      58372\n",
       "9     sample5-1.06_Nneg      34486\n",
       "10    sample5-2.29_Npos      75122\n",
       "11    sample1-4.24_Npos      51726\n",
       "12    sample6-1.07_Nneg      36799\n",
       "13    sample5-4.27_Nneg      54845\n",
       "14    sample6-4.17_Nneg     110454\n",
       "15    sample2-3.07_Npos      82593\n",
       "16    sample6-3.01_Nneg      60636\n",
       "17    sample2-4.27_Nneg      33041\n",
       "18    sample6-2.26_Npos      75634\n",
       "19    sample5-1.22_Npos      24977\n",
       "20    sample2-3.07_Nneg      37619\n",
       "21   Positive_Control_2         51\n",
       "22    sample5-1.25_Nneg      39446\n",
       "23    sample4-3.07_Nneg     135277\n",
       "24    sample4-1.03_Npos      29472\n",
       "25    sample5-1.29_Nneg      25965\n",
       "26    sample6-2.16_Npos      67461\n",
       "27    sample1-2.23_Npos      47856\n",
       "28    sample5-4.06_Npos      34941\n",
       "29    sample5-3.13_Npos      53566\n",
       "..                  ...        ...\n",
       "110   sample4-3.10_Nneg      42739\n",
       "111   sample6-4.17_Npos     159834\n",
       "112   sample6-1.12_Nneg      49777\n",
       "113   sample5-3.16_Nneg      34909\n",
       "114   sample1-4.27_Nneg      57612\n",
       "115   sample3-3.07_Npos     102014\n",
       "116   sample6-2.13_Npos      51972\n",
       "117   sample6-3.07_Nneg      63096\n",
       "118   sample5-4.09_Nneg      82340\n",
       "119   sample3-2.03_Nneg      49298\n",
       "120   sample5-4.08_Npos     125876\n",
       "121   sample6-1.06_Npos      65323\n",
       "122   sample5-4.28_Nneg      66087\n",
       "123   sample1-3.08_Nneg      39658\n",
       "124   sample5-2.15_Npos      48010\n",
       "125   sample1-4.24_Nneg      50330\n",
       "126   sample2-2.08_Npos      52116\n",
       "127   sample6-1.06_Nneg      82931\n",
       "128   sample6-2.26_Nneg      67123\n",
       "129   sample3-4.15_Nneg      50405\n",
       "130   sample6-4.30_Nneg      95859\n",
       "131   sample5-1.16_Npos      28610\n",
       "132   sample2-1.06_Npos     128335\n",
       "133   sample5-1.22_Nneg      30058\n",
       "134   sample1-3.07_Nneg      64989\n",
       "135   sample5-2.11_Nneg      43882\n",
       "136   sample6-4.30_Npos     103279\n",
       "137   sample3-3.06_Nneg      43200\n",
       "138   sample1-2.23_Nneg      68175\n",
       "139   sample4-3.10_Npos      38413\n",
       "\n",
       "[140 rows x 2 columns]"
      ]
     },
     "execution_count": 13,
     "metadata": {},
     "output_type": "execute_result"
    }
   ],
   "source": [
    "# converting to dataframe\n",
    "df_seq_cnt = pd.DataFrame(seq_cnt.items(), columns=['Sample', 'seq_count'])\n",
    "df_seq_cnt"
   ]
  },
  {
   "cell_type": "code",
   "execution_count": 15,
   "metadata": {
    "collapsed": false
   },
   "outputs": [
    {
     "data": {
      "text/plain": [
       "           X..sample Library Primer_plate well_ID primerFR_ID_byPlate\n",
       "1        H20_Control       1            1     G12                  95\n",
       "2   Negative_Control       1            2     G11                  87\n",
       "3   Positive_Control       1            2     H11                  88\n",
       "4 Positive_Control_2       1            1     H12                  96\n",
       "5  sample1-1.27_Nneg       1            1      A1                   1\n",
       "6  sample1-1.27_Npos       1            1      B1                   2\n",
       "  primerFR_ID_total barcode_ID    PlotID Plant Plot Treatment Rep DAP Sampling\n",
       "1                95         95      <NA>  <NA>   NA      <NA>  NA  NA     <NA>\n",
       "2               183        183      <NA>  <NA>   NA      <NA>  NA  NA     <NA>\n",
       "3               184        184      <NA>  <NA>   NA      <NA>  NA  NA     <NA>\n",
       "4                96         96      <NA>  <NA>   NA      <NA>  NA  NA     <NA>\n",
       "5                 1          1 1.27_Nneg FAGES 1.27      Nneg   1  36  sample1\n",
       "6                 2          2 1.27_Npos FAGES 1.27      Npos   1  36  sample1\n",
       "    PlantSample     Type Grass_Broad Status Subfamily fwd_barcode rev_barcode\n",
       "1          <NA>     <NA>        <NA>   <NA>      <NA>    GGATATCT    TCGCTATA\n",
       "2          <NA>     <NA>        <NA>   <NA>      <NA>    GATCGTGT    TCATAGAC\n",
       "3          <NA>     <NA>        <NA>   <NA>      <NA>    GTCAGATA    TCATAGAC\n",
       "4          <NA>     <NA>        <NA>   <NA>      <NA>    GACACCGT    TCGCTATA\n",
       "5 FAGES_sample1 Dicot-NM       Dicot   Crop      <NA>    ATCGTACG    AACTCTCG\n",
       "6 FAGES_sample1 Dicot-NM       Dicot   Crop      <NA>    ACTATCTG    AACTCTCG\n"
      ]
     },
     "metadata": {},
     "output_type": "display_data"
    }
   ],
   "source": [
    "%%R -i workDir -i metadataFile -i df_seq_cnt\n",
    "\n",
    "myDir = paste(c(workDir, '../'), collapse='')\n",
    "setwd(myDir)\n",
    "\n",
    "\n",
    "df_meta = read.delim(metadataFile)\n",
    "df_meta %>% head %>% print"
   ]
  },
  {
   "cell_type": "code",
   "execution_count": 16,
   "metadata": {
    "collapsed": false
   },
   "outputs": [
    {
     "data": {
      "text/plain": [
       "             Sample seq_count Library Primer_plate well_ID primerFR_ID_byPlate\n",
       "1 sample1-1.27_Nneg     25904       1            1      A1                   1\n",
       "2 sample3-2.05_Nneg     61671       1            1     H10                  80\n",
       "3 sample1-3.07_Npos     49496       1            1      D9                  68\n",
       "4 sample5-4.27_Npos     98926       1            2      G9                  71\n",
       "5 sample4-1.06_Nneg     68935       1            1     E11                  85\n",
       "6 sample6-1.15_Npos     50902       1            2      B5                  34\n",
       "  primerFR_ID_total barcode_ID    PlotID Plant Plot Treatment Rep DAP Sampling\n",
       "1                 1          1 1.27_Nneg FAGES 1.27      Nneg   1  36  sample1\n",
       "2                80         80 2.05_Nneg  BARE 2.05      Nneg   2  57  sample3\n",
       "3                68         68 3.07_Npos  BARE 3.07      Npos   3  36  sample1\n",
       "4               167        167 4.27_Npos  BARE 4.27      Npos   4  72  sample5\n",
       "5                85         85 1.06_Nneg  BARE 1.06      Nneg   1  61  sample4\n",
       "6               130        130 1.15_Npos   B97 1.15      Npos   1  79  sample6\n",
       "    PlantSample     Type Grass_Broad    Status Subfamily fwd_barcode\n",
       "1 FAGES_sample1 Dicot-NM       Dicot      Crop      <NA>    ATCGTACG\n",
       "2  BARE_sample3     BARE   Bare_Soil Bare_Soil      <NA>    GACACCGT\n",
       "3  BARE_sample1     BARE   Bare_Soil Bare_Soil      <NA>    CTGCGTGT\n",
       "4  BARE_sample5     BARE   Bare_Soil Bare_Soil      <NA>    GATCGTGT\n",
       "5  BARE_sample4     BARE   Bare_Soil Bare_Soil      <NA>    TCATCGAG\n",
       "6   B97_sample6    Maize     Monocot      Crop  Paniceae    CGTTACTA\n",
       "  rev_barcode\n",
       "1    AACTCTCG\n",
       "2    TAGCAGAC\n",
       "3    GTCGTAGT\n",
       "4    GTCGTAGT\n",
       "5    TCATAGAC\n",
       "6    CGTACTCA\n"
      ]
     },
     "metadata": {},
     "output_type": "display_data"
    }
   ],
   "source": [
    "%%R\n",
    "\n",
    "tbl.cnt = inner_join(df_seq_cnt, df_meta, c('Sample' = 'X..sample'))\n",
    "tbl.cnt %>% head"
   ]
  },
  {
   "cell_type": "code",
   "execution_count": 17,
   "metadata": {
    "collapsed": false
   },
   "outputs": [
    {
     "data": {
      "image/png": "[encoded data removed]"
     },
     "metadata": {},
     "output_type": "display_data"
    }
   ],
   "source": [
    "%%R -w 800 -h 300\n",
    "\n",
    "\n",
    "ggplot(tbl.cnt, aes(Status, seq_count)) +\n",
    "    geom_boxplot()"
   ]
  }
 ],
 "metadata": {
  "anaconda-cloud": {},
  "hide_input": false,
  "kernelspec": {
   "display_name": "Python [default]",
   "language": "python",
   "name": "python2"
  },
  "language_info": {
   "codemirror_mode": {
    "name": "ipython",
    "version": 2
   },
   "file_extension": ".py",
   "mimetype": "text/x-python",
   "name": "python",
   "nbconvert_exporter": "python",
   "pygments_lexer": "ipython2",
   "version": "2.7.12"
  }
 },
 "nbformat": 4,
 "nbformat_minor": 0
}
