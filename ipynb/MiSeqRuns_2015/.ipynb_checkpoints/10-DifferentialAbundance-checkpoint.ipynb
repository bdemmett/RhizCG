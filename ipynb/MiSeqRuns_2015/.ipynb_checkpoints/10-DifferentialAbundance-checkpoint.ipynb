{
 "cells": [
  {
   "cell_type": "markdown",
   "metadata": {},
   "source": [
    "##Description:\n",
    "\n",
    "    Use DeSeq2 to identify differential abundance among treatments\n",
    "    Following  Ashley's succ-C notebook\n"
   ]
  },
  {
   "cell_type": "markdown",
   "metadata": {},
   "source": [
    "# Setting variables"
   ]
  },
  {
   "cell_type": "code",
   "execution_count": 1,
   "metadata": {
    "collapsed": true
   },
   "outputs": [],
   "source": [
    "workDir = '/home/bryan/RhizCG/data/MiSeq_amplicon/MergedRuns/DeSeq2/'\n",
    "biomFileDir = '/home/bryan/RhizCG/data/MiSeq_amplicon/MergedRuns/OTU_binning/'\n",
    "\n",
    "biomFile = '/home/bryan/RhizCG/data/MiSeq_amplicon/MergedRuns/OTU_binning/otu_table_wtax.biom'\n",
    "metadataFile = '/home/bryan/RhizCG/data/MiSeq_amplicon/metadata_RhizCG_merged.txt'\n",
    "treeFile = '/home/bryan/RhizCG/data/MiSeq_amplicon/MergedRuns/fasttree/otusn.tree'"
   ]
  },
  {
   "cell_type": "markdown",
   "metadata": {},
   "source": [
    "# Init"
   ]
  },
  {
   "cell_type": "code",
   "execution_count": 2,
   "metadata": {
    "collapsed": false
   },
   "outputs": [
    {
     "name": "stderr",
     "output_type": "stream",
     "text": [
      "/opt/anaconda/lib/python2.7/site-packages/pandas/rpy/__init__.py:8: FutureWarning: The pandas.rpy module is deprecated and will be removed in a future version. We refer to external packages like rpy2, found here: http://rpy.sourceforge.net\n",
      "  \"like rpy2, found here: http://rpy.sourceforge.net\", FutureWarning)\n"
     ]
    }
   ],
   "source": [
    "import pandas as pd\n",
    "import pandas.rpy.common as com\n",
    "import numpy as np\n",
    "import matplotlib\n",
    "import matplotlib.pyplot as plt\n",
    "import matplotlib.gridspec as gridspec\n",
    "import brewer2mpl\n",
    "from mpltools import style\n",
    "from IPython.display import FileLink\n",
    "style.use(\"ggplot\")\n",
    "%matplotlib inline"
   ]
  },
  {
   "cell_type": "code",
   "execution_count": 3,
   "metadata": {
    "collapsed": false
   },
   "outputs": [],
   "source": [
    "%matplotlib inline\n",
    "%load_ext rpy2.ipython"
   ]
  },
  {
   "cell_type": "code",
   "execution_count": 4,
   "metadata": {
    "collapsed": false,
    "scrolled": false
   },
   "outputs": [
    {
     "data": {
      "text/plain": [
       "[1] \"plyr\"\n",
       "[1] ‘1.8.3’\n",
       "[1] \"BiocParallel\"\n",
       "[1] ‘1.0.3’\n",
       "[1] \"doParallel\"\n",
       "[1] ‘1.0.8’\n",
       "[1] \"DESeq2\"\n",
       "[1] ‘1.6.3’\n",
       "[1] \"foreach\"\n",
       "[1] ‘1.4.2’\n",
       "[1] \"ggplot2\"\n",
       "[1] ‘1.0.1’\n",
       "[1] \"gridExtra\"\n",
       "[1] ‘0.9.1’\n",
       "[1] \"scales\"\n",
       "[1] ‘0.2.5’\n",
       "[1] \"metagenomeSeq\"\n",
       "[1] ‘1.11.10’\n",
       "[1] \"phyloseq\"\n",
       "[1] ‘1.10.0’\n",
       "[1] \"dplyr\"\n",
       "[1] ‘0.4.2’\n",
       "[1] \"tidyr\"\n",
       "[1] ‘0.2.0’\n",
       "[1] \"reshape\"\n",
       "[1] ‘0.8.5’\n",
       "[1] \"vegan\"\n",
       "[1] ‘2.3.0’\n"
      ]
     },
     "metadata": {},
     "output_type": "display_data"
    }
   ],
   "source": [
    "%%R\n",
    "# The required package list:\n",
    "reqpkg = c(\"plyr\",\"BiocParallel\",\"doParallel\", \"DESeq2\", \"foreach\", \"ggplot2\", \n",
    "   \"gridExtra\",\"scales\", \"metagenomeSeq\", \"phyloseq\", \"dplyr\", \"tidyr\", \n",
    "           \"reshape\", \"vegan\")\n",
    "# Load all required packages and show version\n",
    "for (i in reqpkg) {\n",
    "    print(i)\n",
    "    print(packageVersion(i))\n",
    "    suppressMessages(library(i, quietly = TRUE, verbose = FALSE, \n",
    "                             warn.conflicts = FALSE, character.only = TRUE))\n",
    "}"
   ]
  },
  {
   "cell_type": "code",
   "execution_count": 5,
   "metadata": {
    "collapsed": false
   },
   "outputs": [
    {
     "ename": "NameError",
     "evalue": "name 'os' is not defined",
     "output_type": "error",
     "traceback": [
      "\u001b[1;31m---------------------------------------------------------------------------\u001b[0m",
      "\u001b[1;31mNameError\u001b[0m                                 Traceback (most recent call last)",
      "\u001b[1;32m<ipython-input-5-e67778bf86a4>\u001b[0m in \u001b[0;36m<module>\u001b[1;34m()\u001b[0m\n\u001b[1;32m----> 1\u001b[1;33m \u001b[1;32mif\u001b[0m \u001b[1;32mnot\u001b[0m \u001b[0mos\u001b[0m\u001b[1;33m.\u001b[0m\u001b[0mpath\u001b[0m\u001b[1;33m.\u001b[0m\u001b[0misdir\u001b[0m\u001b[1;33m(\u001b[0m\u001b[0mworkDir\u001b[0m\u001b[1;33m)\u001b[0m\u001b[1;33m:\u001b[0m\u001b[1;33m\u001b[0m\u001b[0m\n\u001b[0m\u001b[0;32m      2\u001b[0m     \u001b[0mos\u001b[0m\u001b[1;33m.\u001b[0m\u001b[0mmkdir\u001b[0m\u001b[1;33m(\u001b[0m\u001b[0mworkDir\u001b[0m\u001b[1;33m)\u001b[0m\u001b[1;33m\u001b[0m\u001b[0m\n",
      "\u001b[1;31mNameError\u001b[0m: name 'os' is not defined"
     ]
    }
   ],
   "source": [
    "if not os.path.isdir(workDir):\n",
    "    os.mkdir(workDir)"
   ]
  },
  {
   "cell_type": "markdown",
   "metadata": {},
   "source": [
    "# Setting files"
   ]
  },
  {
   "cell_type": "code",
   "execution_count": 6,
   "metadata": {
    "collapsed": false
   },
   "outputs": [
    {
     "name": "stdout",
     "output_type": "stream",
     "text": [
      "total 16M\r\n",
      "lrwxrwxrwx 1 bryan bryan 130 Jul 29 08:03 metadata_RhizCG_merged.txt -> /home/bryan/RhizCG/data/MiSeq_amplicon/MergedRuns/OTU_binning/..//home/bryan/RhizCG/data/MiSeq_amplicon/metadata_RhizCG_merged.txt\r\n",
      "lrwxrwxrwx 1 bryan bryan 143 Jul 29 08:03 otu_table_wtax.biom -> /home/bryan/RhizCG/data/MiSeq_amplicon/MergedRuns/OTU_binning//home/bryan/RhizCG/data/MiSeq_amplicon/MergedRuns/OTU_binning/otu_table_wtax.biom\r\n",
      "-rw-rw-r-- 1 bryan bryan 16M Jul 28 12:47 bare-plant.csv\r\n"
     ]
    }
   ],
   "source": [
    "!cd $workDir; ln -f -s $biomFileDir$biomFile\n",
    "!cd $workDir; ln -f -s $biomFileDir'../'$metadataFile\n",
    "!cd $workDir; ls -thlc"
   ]
  },
  {
   "cell_type": "markdown",
   "metadata": {},
   "source": [
    "# Loading/editting OTU table"
   ]
  },
  {
   "cell_type": "code",
   "execution_count": 7,
   "metadata": {
    "collapsed": false
   },
   "outputs": [],
   "source": [
    "%%R -i biomFile -i metadataFile -i workDir -i treeFile\n",
    "# loading\n",
    "setwd(workDir)\n",
    "\n",
    "## biom file\n",
    "physeq = import_biom(biomFile, treeFile)\n",
    "\n",
    "## loading sample metadata\n",
    "sample.data = import_qiime_sample_data(metadataFile)\n",
    "physeq = merge_phyloseq(physeq,sample.data)\n",
    "\n"
   ]
  },
  {
   "cell_type": "markdown",
   "metadata": {
    "collapsed": false
   },
   "source": [
    "##apply gsub across columns replacing __ w/ \"\" reload tax_table to phyloseq object"
   ]
  },
  {
   "cell_type": "code",
   "execution_count": 8,
   "metadata": {
    "collapsed": false
   },
   "outputs": [],
   "source": [
    "%%R\n",
    "t = tax_table(physeq)\n",
    "t = apply(t, 2, function(y) gsub(\"__\", \"\", y))\n",
    "tax_table(physeq) = t"
   ]
  },
  {
   "cell_type": "markdown",
   "metadata": {},
   "source": [
    "Remove controls and relevel factors so that bare is the reference level"
   ]
  },
  {
   "cell_type": "code",
   "execution_count": 9,
   "metadata": {
    "collapsed": false
   },
   "outputs": [],
   "source": [
    "%%R\n",
    "#remove controls\n",
    "physeq = subset_samples(physeq, !is.na(Plant))\n",
    "#re-order levels \n",
    "sample_data(physeq)$Plant = relevel(sample_data(physeq)$Plant, \"BARE\")"
   ]
  },
  {
   "cell_type": "markdown",
   "metadata": {
    "collapsed": true
   },
   "source": [
    "##Filter samples\n",
    "Initial run without filtering, consider filtering to test effects\n",
    " "
   ]
  },
  {
   "cell_type": "markdown",
   "metadata": {},
   "source": [
    "##Create DeSeq2 object"
   ]
  },
  {
   "cell_type": "code",
   "execution_count": 37,
   "metadata": {
    "collapsed": false
   },
   "outputs": [],
   "source": [
    "%%R\n",
    "library(\"BiocParallel\")\n",
    "register(MulticoreParam(6))"
   ]
  },
  {
   "cell_type": "markdown",
   "metadata": {},
   "source": [
    "###Initial run is all plants, which will group bare soils into a single group"
   ]
  },
  {
   "cell_type": "code",
   "execution_count": null,
   "metadata": {
    "collapsed": false
   },
   "outputs": [],
   "source": [
    "%%R\n",
    "#s = sample_data(physeq)\n",
    "#s$Planted = factor(ifelse(s$Plant == \"BARE\", \"BARE\", \"Rhizosphere\"))\n",
    "#sample_data(physeq) = s\n",
    "#sample_data(physeq) %>% str()"
   ]
  },
  {
   "cell_type": "code",
   "execution_count": null,
   "metadata": {
    "collapsed": false,
    "scrolled": false
   },
   "outputs": [],
   "source": [
    "%%R\n",
    "#p.dds = phyloseq_to_deseq2(physeq, ~Planted)\n",
    "#p.dds = DESeq(p.dds, test = \"Wald\", fitType=\"parametric\", parallel = TRUE)"
   ]
  },
  {
   "cell_type": "code",
   "execution_count": null,
   "metadata": {
    "collapsed": false,
    "scrolled": true
   },
   "outputs": [],
   "source": [
    "%%R\n",
    "plotDispEsts(p.dds)"
   ]
  },
  {
   "cell_type": "code",
   "execution_count": null,
   "metadata": {
    "collapsed": false
   },
   "outputs": [],
   "source": [
    "%%R\n",
    "sample_data(physeq)$DAP = factor(sample_data(physeq)$DAP) \n",
    "sample_data(physeq)$DAP %>% levels"
   ]
  },
  {
   "cell_type": "code",
   "execution_count": null,
   "metadata": {
    "collapsed": false
   },
   "outputs": [],
   "source": [
    "%%R\n",
    "res=results(p.dds, contrast=\n",
    "                    c(\"Plant\",\"HELAN\", \"BARE\"), parallel = TRUE)\n",
    "res"
   ]
  },
  {
   "cell_type": "code",
   "execution_count": null,
   "metadata": {
    "collapsed": false
   },
   "outputs": [],
   "source": [
    "%%R\n",
    "#summary(res) %>% print\n",
    "plotMA(res, main=\"DESeq2\", ylim=c(-2,2))"
   ]
  },
  {
   "cell_type": "markdown",
   "metadata": {
    "collapsed": true
   },
   "source": [
    "#Function generating plant log2fold change figure"
   ]
  },
  {
   "cell_type": "code",
   "execution_count": 37,
   "metadata": {
    "collapsed": false
   },
   "outputs": [],
   "source": [
    "%%R\n",
    "\n",
    "\n",
    "asNumeric = function(x) { as.numeric(as.character(x)) }\n",
    "\n",
    "get_Ps = function(physeq.obj) {\n",
    "    diagdds = phyloseq_to_deseq2(physeq.obj, ~Plant)\n",
    "    diagdds = DESeq(diagdds, quiet = TRUE, parallel = TRUE)\n",
    "    theta = 0.5\n",
    "    r = results(diagdds)\n",
    "    beta = r$log2FoldChange\n",
    "    betaSE = r$lfcSE\n",
    "    p = pnorm(beta, theta, betaSE, lower.tail = FALSE)\n",
    "    r$p = p\n",
    "    return(r[, c(\"log2FoldChange\", \"p\")])\n",
    "}\n",
    "\n",
    "deseq_prune = function(physeq.obj, plant, day) {\n",
    "    physeq.md = sample_data(physeq.obj)\n",
    "    p = prune_samples((physeq.md$Plant %in% c(\"BARE\", plant))&\n",
    "                     (physeq.md$DAP == day), physeq.obj)\n",
    "    p.thresh = filter_taxa(p, function(x) sum(x > 0) > (0.25 * length(x)), TRUE)\n",
    "    return(p.thresh)\n",
    "}"
   ]
  },
  {
   "cell_type": "code",
   "execution_count": 43,
   "metadata": {
    "collapsed": false
   },
   "outputs": [
    {
     "data": {
      "text/plain": [
       "[1] \"36\"\n",
       "[1] \"FAGES\"\n",
       "converting counts to integer mode\n",
       "[1] \"53\"\n",
       "[1] \"AMAPO\" \"ECHCG\"\n",
       "converting counts to integer mode\n",
       "converting counts to integer mode\n",
       "[1] \"57\"\n",
       "[1] \"ABUTH\" \"GLYMA\"\n",
       "converting counts to integer mode\n",
       "converting counts to integer mode\n",
       "[1] \"61\"\n",
       "[1] \"SETFA\"\n",
       "converting counts to integer mode\n",
       "[1] \"72\"\n",
       "[1] \"75-062\" \"ERATE\"  \"H99\"    \"Il14H\"  \"MS71\"  \n",
       "converting counts to integer mode\n",
       "converting counts to integer mode\n",
       "converting counts to integer mode\n",
       "converting counts to integer mode\n",
       "converting counts to integer mode\n",
       "[1] \"79\"\n",
       "[1] \"B73\"   \"B97\"   \"Hp301\" \"Oh7B\" \n",
       "converting counts to integer mode\n",
       "converting counts to integer mode\n",
       "converting counts to integer mode\n",
       "converting counts to integer mode\n",
       "[1] \"84\"\n",
       "[1] \"HELAN\"  \"SORBI\"  \"SORSUD\"\n",
       "converting counts to integer mode\n",
       "converting counts to integer mode\n",
       "converting counts to integer mode\n",
       "[1] \"88\"\n",
       "[1] \"ELCOR\" \"Ki3\"   \"Mo18\"  \"Tx303\"\n",
       "converting counts to integer mode\n",
       "converting counts to integer mode\n",
       "converting counts to integer mode\n",
       "converting counts to integer mode\n"
      ]
     },
     "metadata": {},
     "output_type": "display_data"
    }
   ],
   "source": [
    "%%R -w 1200 -h 600\n",
    "Sd = sample_data(physeq)\n",
    "\n",
    "days = levels(Sd$DAP)\n",
    "res.list = vector(\"list\", length(days))\n",
    "names(res.list) = as.character(days)\n",
    "res.list\n",
    "\n",
    "df_all = data.frame()\n",
    "\n",
    "for (day in days) {\n",
    "    print(day) ##need to remove\n",
    "    Sd.d = Sd[Sd$DAP == day,]\n",
    "    Sd.d = Sd.d[Sd.d$Plant != \"BARE\"]\n",
    "    Plants = levels(Sd.d$Plant) \n",
    "    Plants %>% print\n",
    "    \n",
    "    res.list.list = NULL        \n",
    "    res.list.list = vector(\"list\", length(Plants))\n",
    "    names(res.list) = Plants\n",
    "    df_plant = data.frame()\n",
    "    \n",
    "    for (plant in Plants) {\n",
    "        DF = NULL\n",
    "        physeq.plant = deseq_prune(physeq, plant, day)\n",
    "        #re-order levels \n",
    "        sample_data(physeq.plant)$Plant = relevel(sample_data(physeq.plant)$Plant, \"BARE\")\n",
    "        DF = get_Ps(physeq.plant)\n",
    "        supp = tax_table(physeq.plant)\n",
    "        if (!setequal(row.names(DF), row.names(supp))) {\n",
    "            stop(\"Ordination and supplementary data indices differ on the following:\\n.\",\n",
    "            setdiff(row.names(DF), row.names(supp)))\n",
    "        }    \n",
    "        DF = data.frame(DF, supp)\n",
    "        DF$OTU = rownames(DF)\n",
    "        DF$Day = day\n",
    "        df_plant = rbind(df_plant, DF)\n",
    "    }\n",
    "    df_plant$Plant = plant\n",
    "    df_all = rbind(df_all, df_plant)\n",
    "}\n",
    "    "
   ]
  },
  {
   "cell_type": "code",
   "execution_count": 54,
   "metadata": {
    "collapsed": false
   },
   "outputs": [],
   "source": [
    "%%R -i workDir\n",
    "df_all$p.adj = p.adjust(df_all$p, \"BH\")\n",
    "setwd(workDir)\n",
    "write.table(df_all, \"bare-plant.csv\", row.names = FALSE, sep = \",\")"
   ]
  },
  {
   "cell_type": "markdown",
   "metadata": {},
   "source": [
    "#Checkpoint, read file of bare-plant.csv to continue"
   ]
  },
  {
   "cell_type": "code",
   "execution_count": 8,
   "metadata": {
    "collapsed": false
   },
   "outputs": [
    {
     "data": {
      "text/plain": [
       "  log2FoldChange         p    Rank1         Rank2      Rank3\n",
       "1     -1.2367952 0.9546068 Bacteria Acidobacteria      32-21\n",
       "2     -0.9585578 0.9991682 Bacteria Acidobacteria Holophagae\n",
       "3      1.2749069 0.1830659 Bacteria Acidobacteria Holophagae\n",
       "4     -0.9888109 0.9999998 Bacteria Acidobacteria Holophagae\n",
       "5     -0.6785618 0.9673205 Bacteria Acidobacteria Holophagae\n",
       "6     -3.2346654 0.9988116 Bacteria Acidobacteria     BPC102\n",
       "                 Rank4                Rank5 Rank6 Rank7 Rank8      OTU Day\n",
       "1 uncultured_bacterium                 <NA>  <NA>  <NA>  <NA> OTU.5899  36\n",
       "2              Sva0725                 <NA>  <NA>  <NA>  <NA> OTU.8680  36\n",
       "3              Sva0725 uncultured_bacterium  <NA>  <NA>  <NA> OTU.2666  36\n",
       "4              Sva0725                 <NA>  <NA>  <NA>  <NA>  OTU.323  36\n",
       "5              Sva0725                 <NA>  <NA>  <NA>  <NA> OTU.7636  36\n",
       "6 uncultured_bacterium                 <NA>  <NA>  <NA>  <NA> OTU.3772  36\n",
       "  Plant     p.adj\n",
       "1 FAGES 1.0000000\n",
       "2 FAGES 1.0000000\n",
       "3 FAGES 0.8627427\n",
       "4 FAGES 1.0000000\n",
       "5 FAGES 1.0000000\n",
       "6 FAGES 1.0000000\n"
      ]
     },
     "metadata": {},
     "output_type": "display_data"
    }
   ],
   "source": [
    "%%R -i workDir\n",
    "setwd(workDir)\n",
    "df_all = read.csv(\"bare-plant.csv\", header = TRUE)\n",
    "head(df_all)"
   ]
  },
  {
   "cell_type": "code",
   "execution_count": 12,
   "metadata": {
    "collapsed": false
   },
   "outputs": [
    {
     "data": {
      "text/plain": [
       "[1] 2\n"
      ]
     },
     "metadata": {},
     "output_type": "display_data"
    }
   ],
   "source": [
    "%%R\n",
    "2"
   ]
  },
  {
   "cell_type": "code",
   "execution_count": 23,
   "metadata": {
    "collapsed": false,
    "scrolled": true
   },
   "outputs": [
    {
     "data": {
      "image/png": "[encoded data removed]"
     },
     "metadata": {},
     "output_type": "display_data"
    }
   ],
   "source": [
    "%%R -w 900 -h 600\n",
    "\n",
    "colourCount = length(unique(df_all$Rank2)) + 1\n",
    "getPalette = colorRampPalette(brewer.pal(10, \"Dark2\"))\n",
    "\n",
    "df.sig = df_all[df_all$p.adj < .05,]\n",
    "df.ns = df_all[df_all$p.adj >= .05,]\n",
    "\n",
    "p = ggplot(df_all)+\n",
    "    geom_point(data = df.ns, aes(Rank2, log2FoldChange, color = \"Gray\", position = \"jitter\")) +\n",
    "    scale_shape_identity() +\n",
    "    geom_point(data = df.sig, aes(Rank2, log2FoldChange, color = Rank2, position = \"jitter\")) +\n",
    "    \n",
    "               #geom_hline(y_intercept = .4) +\n",
    "    \n",
    "    facet_wrap(~Plant)+\n",
    "    theme(axis.text.x = element_text(angle = 90)) +\n",
    "    labs(y = \"log[2] Fold Change\") \n",
    "\n",
    "p = p + scale_color_manual(values = getPalette(colourCount))\n",
    "#p = p + geom_point(alpha = 1.00, shape = 21, size = 1.5)\n",
    "#p = p + theme_bw()\n",
    "\n",
    "\n",
    "\n",
    "\n",
    "#p = p + geom_hline(y = l2fc.threshold)\n",
    "\n",
    "\n",
    "\n",
    "#p = p + theme(axis.text.x = element_blank())\n",
    "\n",
    "#p = p + labs(x = \"Phylum\", color = \"Phylum\")\n",
    "\n",
    "#p = p + guides(col = guide_legend(ncol = 2))\n",
    "\n",
    "#p = p + labs(y = expression(paste(\"\", log[2],\" Fold Change\",sep=\"\")))\n",
    "\n",
    "#p = p + guides(colour = guide_legend(override.aes = list(size=4)))\n",
    "\n",
    "p    \n",
    "    "
   ]
  },
  {
   "cell_type": "markdown",
   "metadata": {},
   "source": [
    "##Test for log2Fold change between plants with significant or non-significant increase in LAP"
   ]
  },
  {
   "cell_type": "markdown",
   "metadata": {},
   "source": [
    "### Define enzyme significance variable, subset phyloseq object to 0N and join"
   ]
  },
  {
   "cell_type": "code",
   "execution_count": 48,
   "metadata": {
    "collapsed": false
   },
   "outputs": [
    {
     "data": {
      "text/plain": [
       "        P E.s\n",
       "1   FAGES   1\n",
       "2   AMAPO   1\n",
       "3   ECHCG   0\n",
       "4   ABUTH   0\n",
       "5   GLYMA   0\n",
       "6   SETFA   1\n",
       "7  75-062   0\n",
       "8   ERATE   0\n",
       "9     H99   0\n",
       "10  Il14H   0\n",
       "11   MS71   0\n",
       "12    B73   0\n",
       "13    B97   0\n",
       "14  Hp301   0\n",
       "15   Oh7B   1\n",
       "16  HELAN   1\n",
       "17  SORBI   1\n",
       "18 SORSUD   1\n",
       "19  ELCOR   1\n",
       "20    Ki3   1\n",
       "21   Mo18   0\n",
       "22  Tx303   1\n"
      ]
     },
     "metadata": {},
     "output_type": "display_data"
    }
   ],
   "source": [
    "%%R\n",
    "#Create table with enzyme rhizosphere effect encoding\n",
    "P = c(\"FAGES\", \"AMAPO\", \"ECHCG\", \"ABUTH\",\"GLYMA\", \"SETFA\", \"75-062\", \"ERATE\", \"H99\", \"Il14H\", \"MS71\",\n",
    "      \"B73\", \"B97\", \"Hp301\", \"Oh7B\", \"HELAN\", \"SORBI\", \"SORSUD\", \"ELCOR\", \"Ki3\", \"Mo18\", \"Tx303\")\n",
    "E.s = c(1,1,0,0,0,1,0,0,0,0,0,0,0,0,1,1,1,1,1,1,0,1)\n",
    "\n",
    "E.re = data.frame(P,E.s)\n",
    "E.re"
   ]
  },
  {
   "cell_type": "code",
   "execution_count": 52,
   "metadata": {
    "collapsed": false
   },
   "outputs": [
    {
     "data": {
      "text/plain": [
       "phyloseq-class experiment-level object\n",
       "otu_table()   OTU Table:         [ 11246 taxa and 88 samples ]\n",
       "sample_data() Sample Data:       [ 88 samples by 21 sample variables ]\n",
       "tax_table()   Taxonomy Table:    [ 11246 taxa by 8 taxonomic ranks ]\n",
       "phy_tree()    Phylogenetic Tree: [ 11246 tips and 11245 internal nodes ]\n"
      ]
     },
     "metadata": {},
     "output_type": "display_data"
    }
   ],
   "source": [
    "%%R\n",
    "#subset phyloseq object to just unfertilized plots\n",
    "physeq.plant = subset_samples(physeq, Plant != \"BARE\")\n",
    "physeq.p.0N = subset_samples(physeq.plant, Treatment == \"Nneg\")\n",
    "physeq.p.0N"
   ]
  },
  {
   "cell_type": "code",
   "execution_count": 53,
   "metadata": {
    "collapsed": false
   },
   "outputs": [
    {
     "data": {
      "text/plain": [
       "'data.frame':\t88 obs. of  22 variables:\n",
       "Formal class 'sample_data' [package \"phyloseq\"] with 4 slots\n",
       "  ..@ .Data    :List of 22\n",
       "  .. ..$ : Factor w/ 88 levels \"sample1-1.27_Nneg\",..: 27 22 24 34 30 2 52 56 36 7 ...\n",
       "  .. ..$ : int  1 1 1 1 1 1 1 1 1 1 ...\n",
       "  .. ..$ : int  1 1 1 1 2 1 2 2 2 1 ...\n",
       "  .. ..$ : Factor w/ 53 levels \"A1\",\"A10\",\"A11\",..: 7 19 45 20 15 15 23 36 28 23 ...\n",
       "  .. ..$ : int  25 19 23 27 3 3 51 53 5 51 ...\n",
       "  .. ..$ : int  25 19 23 27 99 3 147 149 101 51 ...\n",
       "  .. ..$ : int  25 19 23 27 99 3 147 149 101 51 ...\n",
       "  .. ..$ : Factor w/ 88 levels \"1.03_Nneg\",\"1.04_Nneg\",..: 16 23 83 43 25 39 41 58 55 27 ...\n",
       "  .. ..$ : Factor w/ 22 levels \"75-062\",\"ABUTH\",..: 1 19 19 1 17 9 4 4 17 3 ...\n",
       "  .. ..$ : num  1.22 2.02 4.21 2.29 2.06 2.23 2.26 3.18 3.13 2.08 ...\n",
       "  .. ..$ : Factor w/ 1 level \"Nneg\": 1 1 1 1 1 1 1 1 1 1 ...\n",
       "  .. ..$ : int  1 2 4 2 2 2 2 3 3 2 ...\n",
       "  .. ..$ : int  72 61 61 72 72 36 79 79 72 53 ...\n",
       "  .. ..$ : Factor w/ 8 levels \"sample1\",\"sample2\",..: 5 4 4 5 5 1 6 6 5 2 ...\n",
       "  .. ..$ : Factor w/ 22 levels \"75-062_sample5\",..: 1 19 19 1 17 9 4 4 17 3 ...\n",
       "  .. ..$ : Factor w/ 5 levels \"C4_Grass\",\"Dicot-Myc\",..: 5 1 1 5 5 3 5 5 5 3 ...\n",
       "  .. ..$ : Factor w/ 2 levels \"Dicot\",\"Monocot\": 2 2 2 2 2 1 2 2 2 1 ...\n",
       "  .. ..$ : Factor w/ 2 levels \"Crop\",\"Weed\": 1 2 2 1 1 1 1 1 1 2 ...\n",
       "  .. ..$ : Factor w/ 2 levels \"Andropogoneae\",..: 2 2 2 2 2 NA 2 2 2 NA ...\n",
       "  .. ..$ : Factor w/ 12 levels \"ACGTCTCG\",\"ACTATCTG\",..: 4 11 10 11 3 11 3 1 1 11 ...\n",
       "  .. ..$ : Factor w/ 12 levels \"AACTCTCG\",\"ACTATGTC\",..: 4 3 3 4 1 1 7 7 1 7 ...\n",
       "  .. ..$ : chr  \"ns\" \"sig\" \"sig\" \"ns\" ...\n",
       "  ..@ names    : chr  \"X.sample\" \"Library\" \"Primer_Plate\" \"Primer_Well_ID\" ...\n",
       "  ..@ row.names: chr  \"sample5-1.22_Nneg\" \"sample4-2.02_Nneg\" \"sample4-4.21_Nneg\" \"sample5-2.29_Nneg\" ...\n",
       "  ..@ .S3Class : chr \"data.frame\"\n"
      ]
     },
     "metadata": {},
     "output_type": "display_data"
    }
   ],
   "source": [
    "%%R\n",
    "#join enzyme factor to \n",
    "s.df = sample_data(physeq.p.0N)\n",
    "s.df.e = left_join(s.df, E.re, by = c(\"Plant\" = \"P\"))\n",
    "\n",
    "s.df.e$E.s = factor(s.df.e$E.s)\n",
    "s.df.e$E.s = gsub(\"1\", \"sig\", s.df.e$E.s)\n",
    "s.df.e$E.s = gsub(\"0\", \"ns\", s.df.e$E.s)\n",
    "s.df.e[,c(\"Plant\",\"E.s\")]\n",
    "rownames(s.df.e) = s.df.e$X.sample\n",
    "\n",
    "sample_data(physeq.p.0N) = s.df.e\n",
    "sample_data(physeq.p.0N)$E.s = factor(sample_data(physeq.p.0N)$E.s)"
   ]
  },
  {
   "cell_type": "markdown",
   "metadata": {},
   "source": [
    "### Generate DESeq object testing Enzyme significance "
   ]
  },
  {
   "cell_type": "code",
   "execution_count": 54,
   "metadata": {
    "collapsed": false,
    "scrolled": true
   },
   "outputs": [
    {
     "data": {
      "text/plain": [
       "converting counts to integer mode\n",
       "estimating size factors\n",
       "estimating dispersions\n",
       "gene-wise dispersion estimates: 6 workers\n",
       "mean-dispersion relationship\n",
       "final dispersion estimates, MLE betas: 6 workers\n",
       "fitting model and testing: 6 workers\n",
       "-- replacing outliers and refitting for 274 genes\n",
       "-- DESeq argument 'minReplicatesForReplace' = 7 \n",
       "-- original counts are preserved in counts(dds)\n",
       "estimating dispersions\n",
       "fitting model and testing\n"
      ]
     },
     "metadata": {},
     "output_type": "display_data"
    }
   ],
   "source": [
    "%%R\n",
    "p.dds = phyloseq_to_deseq2(physeq.p.0N, ~E.s)\n",
    "p.dds = DESeq(p.dds, test = \"Wald\", fitType=\"parametric\", parallel = TRUE)"
   ]
  },
  {
   "cell_type": "code",
   "execution_count": 71,
   "metadata": {
    "collapsed": false,
    "scrolled": true
   },
   "outputs": [
    {
     "data": {
      "text/plain": [
       "             baseMean log2FoldChange     lfcSE      stat       pvalue\n",
       "OTU.1687    6.0066021     -0.8250315 0.2556059 -3.227749 1.247686e-03\n",
       "OTU.9126    2.2079591      1.0675347 0.3140099  3.399685 6.746363e-04\n",
       "OTU.10951   2.2752919     -0.9997625 0.3108944 -3.215762 1.300985e-03\n",
       "OTU.983     2.8866524     -0.9881422 0.2755429 -3.586164 3.355777e-04\n",
       "OTU.61     23.1745333     -0.6661475 0.1873201 -3.556198 3.762603e-04\n",
       "OTU.577     2.7574852     -0.9471731 0.2912622 -3.251960 1.146123e-03\n",
       "OTU.5442    1.2556075     -1.8237748 0.4436288 -4.111038 3.938846e-05\n",
       "OTU.5401    0.8872441      1.1454336 0.3556746  3.220454 1.279879e-03\n",
       "OTU.3114    8.1467157     -1.1343799 0.3288772 -3.449250 5.621457e-04\n",
       "OTU.113     7.5558939     -0.9248333 0.2351530 -3.932901 8.392676e-05\n",
       "OTU.593     3.2745283     -0.9174990 0.2583178 -3.551823 3.825727e-04\n",
       "OTU.11563   0.7861542     -1.7496341 0.4179173 -4.186556 2.832196e-05\n",
       "OTU.432     7.3793413     -1.0075200 0.2586513 -3.895284 9.808391e-05\n",
       "OTU.990     1.1125443     -1.5042305 0.4196353 -3.584614 3.375772e-04\n",
       "OTU.1100    1.0595055     -1.3428509 0.3793815 -3.539579 4.007655e-04\n",
       "OTU.483     5.9245823      1.0558795 0.2179991  4.843503 1.275697e-06\n",
       "OTU.998     2.5028328      0.9570502 0.2939215  3.256142 1.129374e-03\n",
       "OTU.219    15.6369415     -0.7040498 0.2054085 -3.427559 6.090336e-04\n",
       "OTU.10915   1.5306955     -1.4639773 0.3666104 -3.993278 6.516612e-05\n",
       "OTU.10009   1.1860993      1.7366574 0.4764773  3.644785 2.676150e-04\n",
       "OTU.4815    5.1715272      0.5482260 0.1721441  3.184692 1.449079e-03\n",
       "OTU.331     7.3434590     -0.7930423 0.2274862 -3.486112 4.900953e-04\n",
       "OTU.8445    6.9983923     -0.5908815 0.1701679 -3.472344 5.159350e-04\n",
       "OTU.7587    0.9674665     -1.2115679 0.3564388 -3.399091 6.761024e-04\n",
       "OTU.2052    0.6619151     -1.3735280 0.4017635 -3.418748 6.291005e-04\n",
       "OTU.1780    1.2410489      1.0665853 0.3263024  3.268702 1.080421e-03\n",
       "OTU.429     4.4489217     -0.9517484 0.2764943 -3.442199 5.770051e-04\n",
       "OTU.38     14.3248613     -0.7592955 0.2354336 -3.225094 1.259315e-03\n",
       "OTU.10384   1.7842321     -1.3058096 0.3422036 -3.815885 1.356957e-04\n",
       "OTU.1804    1.3676158     -1.4368609 0.4116853 -3.490192 4.826731e-04\n",
       "OTU.2668    2.4776605      1.6162714 0.3681392  4.390382 1.131519e-05\n",
       "OTU.769     5.0688158      1.0388206 0.2979444  3.486625 4.891559e-04\n",
       "OTU.204    11.2138654      0.8569846 0.2682148  3.195143 1.397618e-03\n",
       "OTU.2144    0.7963927      1.5301571 0.4668027  3.277953 1.045630e-03\n",
       "OTU.123    19.6479884      0.7898218 0.2302866  3.429734 6.041737e-04\n",
       "OTU.1634    1.2381179     -1.4196760 0.4037421 -3.516294 4.376158e-04\n",
       "OTU.2217    1.6682028     -1.4969626 0.3359997 -4.455250 8.379551e-06\n",
       "OTU.1920    3.2693810      1.0544682 0.2901354  3.634400 2.786285e-04\n",
       "OTU.3782    4.9238814      0.8093575 0.2143268  3.776277 1.591899e-04\n",
       "OTU.7030   10.8767188      0.5244154 0.1426061  3.677369 2.356519e-04\n",
       "OTU.3872    4.0956955      0.9131465 0.2689142  3.395680 6.845846e-04\n",
       "OTU.18     73.8312319      0.5035802 0.1538099  3.274042 1.060208e-03\n",
       "OTU.32     79.7970725      0.5066433 0.1428302  3.547171 3.893913e-04\n",
       "OTU.35     86.3172264      0.5250094 0.1431058  3.668680 2.438063e-04\n",
       "OTU.132    80.2215982      0.4911420 0.1404863  3.496013 4.722664e-04\n",
       "OTU.3353    3.7571971      0.8381750 0.2464956  3.400365 6.729592e-04\n",
       "OTU.67     29.1758337      0.4320881 0.1322385  3.267492 1.085049e-03\n",
       "OTU.268    11.7103743      0.4977220 0.1476811  3.370247 7.510080e-04\n",
       "OTU.225    10.8133359     -1.5440669 0.3386855 -4.558999 5.139800e-06\n",
       "OTU.9177   46.8153659     -1.2595284 0.2710654 -4.646584 3.374761e-06\n",
       "OTU.3     284.2649608     -1.6950163 0.3357549 -5.048374 4.455871e-07\n",
       "OTU.5827   10.9577851      1.6198265 0.2895012  5.595232 2.203267e-08\n",
       "OTU.11404   0.8209683     -1.0995142 0.3385932 -3.247301 1.165049e-03\n",
       "OTU.12471   4.3934278      1.3219794 0.3312752  3.990578 6.591248e-05\n",
       "OTU.42    120.4520275      1.0145114 0.2450211  4.140506 3.465411e-05\n",
       "OTU.112    75.0355825      1.7326621 0.3276889  5.287521 1.239848e-07\n",
       "OTU.3524    3.1630910      1.0367229 0.3195277  3.244548 1.176371e-03\n",
       "OTU.3492    6.1133337      1.5161297 0.4070653  3.724537 1.956739e-04\n",
       "OTU.131    30.8973656      0.4559638 0.1401730  3.252865 1.142479e-03\n",
       "OTU.2665    1.3493979     -1.3562160 0.3674952 -3.690431 2.238740e-04\n",
       "OTU.1510    2.1090360      1.2338620 0.3795807  3.250592 1.151651e-03\n",
       "OTU.1370    1.8507145      1.3961195 0.3708576  3.764571 1.668355e-04\n",
       "OTU.5062    1.8983849     -0.9876543 0.2987771 -3.305656 9.475448e-04\n",
       "OTU.1938    1.1494167      1.2266986 0.3851632  3.184880 1.448139e-03\n",
       "OTU.2357    1.7493467      1.5995972 0.4916874  3.253281 1.140807e-03\n",
       "OTU.470     3.8165916     -2.7842249 0.4720120 -5.898631 3.665293e-09\n",
       "OTU.868     1.8743334     -2.0469543 0.4536804 -4.511886 6.425361e-06\n",
       "OTU.5      23.2612234     -1.4948268 0.4509322 -3.314971 9.165279e-04\n",
       "OTU.511     5.8025343      0.9614000 0.2961417  3.246419 1.168667e-03\n",
       "OTU.12109   1.1658162     -1.2176549 0.3797038 -3.206855 1.341947e-03\n",
       "OTU.11017   1.1173364     -1.0700422 0.3385810 -3.160373 1.575673e-03\n",
       "OTU.658     3.0232227     -0.9769744 0.2838547 -3.441811 5.778341e-04\n",
       "OTU.1220    7.2820724     -1.0506927 0.2449189 -4.289962 1.787038e-05\n",
       "OTU.10294  14.0278913     -1.5862348 0.3433816 -4.619452 3.847556e-06\n",
       "OTU.101    34.9660549     -1.7204367 0.3883701 -4.429889 9.428143e-06\n",
       "OTU.1899   15.1960610     -1.4532941 0.3479404 -4.176848 2.955764e-05\n",
       "OTU.208    27.2875670      2.6411458 0.4800692  5.501594 3.763737e-08\n",
       "OTU.1127    2.1723925      0.9355237 0.2870662  3.258912 1.118403e-03\n",
       "OTU.242    10.9101352     -0.6873134 0.2050984 -3.351140 8.047963e-04\n",
       "OTU.1245    3.4922079     -1.5990967 0.4360294 -3.667406 2.450238e-04\n",
       "OTU.4     300.7399090     -1.0623949 0.2596389 -4.091818 4.280048e-05\n",
       "OTU.728     3.8360798      0.8009357 0.2207399  3.628413 2.851688e-04\n",
       "OTU.231    12.7074725     -0.6665914 0.2128548 -3.131671 1.738144e-03\n",
       "OTU.10442  37.1542576     -0.8129281 0.2313345 -3.514081 4.412787e-04\n",
       "OTU.5436   26.4527175     -1.0161649 0.2204328 -4.609862 4.029370e-06\n",
       "OTU.4049   30.6430484     -1.1523886 0.2280235 -5.053815 4.330704e-07\n",
       "OTU.10288  37.8909811     -1.1152913 0.2572141 -4.336042 1.450713e-05\n",
       "OTU.641    45.8489067     -0.8033490 0.2435862 -3.298007 9.737384e-04\n",
       "OTU.8981    1.8576178     -1.4637654 0.4228358 -3.461782 5.366122e-04\n",
       "OTU.7     270.9541764     -1.7748574 0.3826112 -4.638801 3.504362e-06\n",
       "OTU.5214    6.2950171     -1.6216820 0.4402846 -3.683259 2.302713e-04\n",
       "OTU.9512    5.7670006     -1.0098497 0.2918866 -3.459733 5.407109e-04\n",
       "OTU.1548    6.1065899      1.2955982 0.3994942  3.243096 1.182383e-03\n",
       "OTU.1123    2.2368648     -1.0699969 0.3242063 -3.300358 9.656162e-04\n",
       "OTU.12056   0.6118899      2.3629738 0.4983982  4.741136 2.125228e-06\n",
       "OTU.6558    1.0308323      1.2753915 0.3988497  3.197674 1.385406e-03\n",
       "OTU.21     77.3073488     -0.6642064 0.1448245 -4.586284 4.512040e-06\n",
       "OTU.12012  17.9916829      1.0291547 0.2832740  3.633071 2.800675e-04\n",
       "OTU.201    14.4862119     -0.4996446 0.1507041 -3.315401 9.151179e-04\n",
       "OTU.387    11.7279681      0.8523881 0.2713382  3.141423 1.681288e-03\n",
       "OTU.444     7.0984528     -0.8988383 0.2715800 -3.309663 9.340822e-04\n",
       "OTU.845     8.1215580     -0.7762995 0.2361892 -3.286770 1.013435e-03\n",
       "OTU.778     2.1296518     -1.0992588 0.3256098 -3.376000 7.354793e-04\n",
       "OTU.1663    2.8174554     -1.1400225 0.3242213 -3.516186 4.377935e-04\n",
       "OTU.621     2.3114293      1.3335421 0.4187190  3.184814 1.448471e-03\n",
       "OTU.133    19.0586741      1.3902111 0.3991213  3.483179 4.954969e-04\n",
       "OTU.244     3.7644074      1.6519241 0.3713143  4.448857 8.632846e-06\n",
       "OTU.1318    1.1039093      1.3716921 0.3619185  3.790058 1.506123e-04\n",
       "OTU.1379    1.8045047      1.5831583 0.4365037  3.626907 2.868370e-04\n",
       "                  padj    Rank1            Rank2               Rank3\n",
       "OTU.1687  3.991257e-02 Bacteria    Acidobacteria               DA023\n",
       "OTU.9126  2.953222e-02 Bacteria    Acidobacteria          Holophagae\n",
       "OTU.10951 4.040860e-02 Bacteria  Verrucomicrobia    OPB35_soil_group\n",
       "OTU.983   2.230882e-02 Bacteria  Verrucomicrobia    OPB35_soil_group\n",
       "OTU.61    2.418899e-02 Bacteria  Verrucomicrobia    OPB35_soil_group\n",
       "OTU.577   3.825501e-02 Bacteria  Verrucomicrobia    OPB35_soil_group\n",
       "OTU.5442  4.893623e-03 Bacteria  Verrucomicrobia    Verrucomicrobiae\n",
       "OTU.5401  4.015457e-02 Bacteria  Verrucomicrobia    Verrucomicrobiae\n",
       "OTU.3114  2.761158e-02 Bacteria  Verrucomicrobia            Opitutae\n",
       "OTU.113   8.988846e-03 Bacteria   Planctomycetes               OM190\n",
       "OTU.593   2.418899e-02 Bacteria   Planctomycetes    Planctomycetacia\n",
       "OTU.11563 3.991567e-03 Bacteria   Planctomycetes    Planctomycetacia\n",
       "OTU.432   1.015495e-02 Bacteria   Planctomycetes        Pla4_lineage\n",
       "OTU.990   2.230882e-02 Bacteria   Planctomycetes               OM190\n",
       "OTU.1100  2.440741e-02 Bacteria         Chlorobi      Ignavibacteria\n",
       "OTU.483   5.660449e-04 Bacteria    Bacteroidetes    Sphingobacteriia\n",
       "OTU.998   3.825501e-02 Bacteria    Bacteroidetes    Sphingobacteriia\n",
       "OTU.219   2.823371e-02 Bacteria    Bacteroidetes          Cytophagia\n",
       "OTU.10915 7.311578e-03 Bacteria    Bacteroidetes          Cytophagia\n",
       "OTU.10009 1.979813e-02 Bacteria    Bacteroidetes          Cytophagia\n",
       "OTU.4815  4.246076e-02 Bacteria    Acidobacteria               DA023\n",
       "OTU.331   2.608497e-02 Bacteria Gemmatimonadetes    Gemmatimonadales\n",
       "OTU.8445  2.670824e-02 Bacteria Gemmatimonadetes    Gemmatimonadales\n",
       "OTU.7587  2.953222e-02 Bacteria Gemmatimonadetes    Gemmatimonadales\n",
       "OTU.2052  2.873509e-02 Bacteria Gemmatimonadetes    Gemmatimonadales\n",
       "OTU.1780  3.825501e-02 Bacteria Gemmatimonadetes    Gemmatimonadales\n",
       "OTU.429   2.761158e-02 Bacteria Gemmatimonadetes    Gemmatimonadales\n",
       "OTU.38    3.991257e-02 Bacteria Gemmatimonadetes    Gemmatimonadales\n",
       "OTU.10384 1.359583e-02 Bacteria       Firmicutes             Bacilli\n",
       "OTU.1804  2.608497e-02 Bacteria       Firmicutes             Bacilli\n",
       "OTU.2668  1.849736e-03 Bacteria      Chloroflexi   Herpetosiphonales\n",
       "OTU.769   2.608497e-02 Bacteria      Chloroflexi        Anaerolineae\n",
       "OTU.204   4.214563e-02 Bacteria      Chloroflexi        Anaerolineae\n",
       "OTU.2144  3.825501e-02 Bacteria      Chloroflexi        Anaerolineae\n",
       "OTU.123   2.823371e-02 Bacteria      Chloroflexi        Anaerolineae\n",
       "OTU.1634  2.538170e-02 Bacteria      Chloroflexi        Anaerolineae\n",
       "OTU.2217  1.577272e-03 Bacteria      Chloroflexi        Anaerolineae\n",
       "OTU.1920  1.979813e-02 Bacteria      Chloroflexi        Anaerolineae\n",
       "OTU.3782  1.498314e-02 Bacteria   Actinobacteria      Acidimicrobiia\n",
       "OTU.7030  1.902610e-02 Bacteria   Actinobacteria      Acidimicrobiia\n",
       "OTU.3872  2.953222e-02 Bacteria   Actinobacteria      Acidimicrobiia\n",
       "OTU.18    3.825501e-02 Bacteria   Actinobacteria      Acidimicrobiia\n",
       "OTU.32    2.418899e-02 Bacteria   Actinobacteria      Acidimicrobiia\n",
       "OTU.35    1.902610e-02 Bacteria   Actinobacteria      Acidimicrobiia\n",
       "OTU.132   2.608497e-02 Bacteria   Actinobacteria      Acidimicrobiia\n",
       "OTU.3353  2.953222e-02 Bacteria   Actinobacteria      Acidimicrobiia\n",
       "OTU.67    3.825501e-02 Bacteria   Actinobacteria      Acidimicrobiia\n",
       "OTU.268   3.152204e-02 Bacteria   Actinobacteria      Acidimicrobiia\n",
       "OTU.225   1.140301e-03 Bacteria   Actinobacteria Streptosporangiales\n",
       "OTU.9177  1.042935e-03 Bacteria   Actinobacteria    Streptomycetales\n",
       "OTU.3     2.306656e-04 Bacteria   Actinobacteria    Streptomycetales\n",
       "OTU.5827  3.421673e-05 Bacteria   Actinobacteria   Micromonosporales\n",
       "OTU.11404 3.825501e-02 Bacteria   Actinobacteria   Micromonosporales\n",
       "OTU.12471 7.311578e-03 Bacteria   Actinobacteria   Micromonosporales\n",
       "OTU.42    4.484819e-03 Bacteria   Actinobacteria   Micromonosporales\n",
       "OTU.112   9.627423e-05 Bacteria   Actinobacteria   Micromonosporales\n",
       "OTU.3524  3.825501e-02 Bacteria   Actinobacteria   Micromonosporales\n",
       "OTU.3492  1.736466e-02 Bacteria   Actinobacteria   Pseudonocardiales\n",
       "OTU.131   3.825501e-02 Bacteria   Actinobacteria Propionibacteriales\n",
       "OTU.2665  1.902610e-02 Bacteria   Actinobacteria     Thermoleophilia\n",
       "OTU.1510  3.825501e-02 Bacteria   Proteobacteria Deltaproteobacteria\n",
       "OTU.1370  1.524092e-02 Bacteria   Proteobacteria Deltaproteobacteria\n",
       "OTU.5062  3.725410e-02 Bacteria   Proteobacteria Deltaproteobacteria\n",
       "OTU.1938  4.246076e-02 Bacteria   Proteobacteria Deltaproteobacteria\n",
       "OTU.2357  3.825501e-02 Bacteria   Proteobacteria Deltaproteobacteria\n",
       "OTU.470   1.138440e-05 Bacteria   Proteobacteria Gammaproteobacteria\n",
       "OTU.868   1.330478e-03 Bacteria   Proteobacteria Gammaproteobacteria\n",
       "OTU.5     3.697059e-02 Bacteria   Proteobacteria Gammaproteobacteria\n",
       "OTU.511   3.825501e-02 Bacteria   Proteobacteria Gammaproteobacteria\n",
       "OTU.12109 4.126819e-02 Bacteria   Proteobacteria Gammaproteobacteria\n",
       "OTU.11017 4.573869e-02 Bacteria   Proteobacteria Gammaproteobacteria\n",
       "OTU.658   2.761158e-02 Bacteria   Proteobacteria Gammaproteobacteria\n",
       "OTU.1220  2.643114e-03 Bacteria   Proteobacteria Gammaproteobacteria\n",
       "OTU.10294 1.042935e-03 Bacteria   Proteobacteria Gammaproteobacteria\n",
       "OTU.101   1.626878e-03 Bacteria   Proteobacteria Gammaproteobacteria\n",
       "OTU.1899  3.991567e-03 Bacteria   Proteobacteria Gammaproteobacteria\n",
       "OTU.208   3.896722e-05 Bacteria   Proteobacteria  Betaproteobacteria\n",
       "OTU.1127  3.825501e-02 Bacteria   Proteobacteria  Betaproteobacteria\n",
       "OTU.242   3.332930e-02 Bacteria   Proteobacteria  Betaproteobacteria\n",
       "OTU.1245  1.902610e-02 Bacteria   Proteobacteria  Betaproteobacteria\n",
       "OTU.4     5.113011e-03 Bacteria   Proteobacteria  Betaproteobacteria\n",
       "OTU.728   1.979813e-02 Bacteria   Proteobacteria  Betaproteobacteria\n",
       "OTU.231   4.952914e-02 Bacteria   Proteobacteria  Betaproteobacteria\n",
       "OTU.10442 2.538170e-02 Bacteria   Proteobacteria  Betaproteobacteria\n",
       "OTU.5436  1.042935e-03 Bacteria   Proteobacteria  Betaproteobacteria\n",
       "OTU.4049  2.306656e-04 Bacteria   Proteobacteria  Betaproteobacteria\n",
       "OTU.10288 2.252957e-03 Bacteria   Proteobacteria  Betaproteobacteria\n",
       "OTU.641   3.733866e-02 Bacteria   Proteobacteria  Betaproteobacteria\n",
       "OTU.8981  2.708787e-02 Bacteria   Proteobacteria  Betaproteobacteria\n",
       "OTU.7     1.042935e-03 Bacteria   Proteobacteria  Betaproteobacteria\n",
       "OTU.5214  1.902610e-02 Bacteria   Proteobacteria  Betaproteobacteria\n",
       "OTU.9512  2.708787e-02 Bacteria   Proteobacteria  Betaproteobacteria\n",
       "OTU.1548  3.825501e-02 Bacteria   Proteobacteria  Betaproteobacteria\n",
       "OTU.1123  3.733866e-02 Bacteria   Proteobacteria Alphaproteobacteria\n",
       "OTU.12056 8.251198e-04 Bacteria   Proteobacteria Alphaproteobacteria\n",
       "OTU.6558  4.214563e-02 Bacteria   Proteobacteria Alphaproteobacteria\n",
       "OTU.21    1.078030e-03 Bacteria   Proteobacteria Alphaproteobacteria\n",
       "OTU.12012 1.979813e-02 Bacteria   Proteobacteria Alphaproteobacteria\n",
       "OTU.201   3.697059e-02 Bacteria   Proteobacteria Alphaproteobacteria\n",
       "OTU.387   4.835260e-02 Bacteria   Proteobacteria Alphaproteobacteria\n",
       "OTU.444   3.719563e-02 Bacteria   Proteobacteria Alphaproteobacteria\n",
       "OTU.845   3.825501e-02 Bacteria   Proteobacteria Deltaproteobacteria\n",
       "OTU.778   3.129313e-02 Bacteria   Proteobacteria Deltaproteobacteria\n",
       "OTU.1663  2.538170e-02 Bacteria   Proteobacteria Deltaproteobacteria\n",
       "OTU.621   4.246076e-02 Bacteria    Cyanobacteria         SubsectionI\n",
       "OTU.133   2.608497e-02 Bacteria    Cyanobacteria       SubsectionIII\n",
       "OTU.244   1.577272e-03 Bacteria    Cyanobacteria       SubsectionIII\n",
       "OTU.1318  1.461880e-02 Bacteria    Cyanobacteria        SubsectionIV\n",
       "OTU.1379  1.979813e-02 Bacteria    Cyanobacteria       SubsectionIII\n",
       "                         Rank4                Rank5\n",
       "OTU.1687  uncultured_bacterium                 <NA>\n",
       "OTU.9126             43F-1404R uncultured_bacterium\n",
       "OTU.10951 uncultured_bacterium                 <NA>\n",
       "OTU.983   uncultured_bacterium                 <NA>\n",
       "OTU.61    uncultured_bacterium                 <NA>\n",
       "OTU.577   uncultured_bacterium                 <NA>\n",
       "OTU.5442    Verrucomicrobiales  Verrucomicrobiaceae\n",
       "OTU.5401    Verrucomicrobiales  Verrucomicrobiaceae\n",
       "OTU.3114            Opitutales          Opitutaceae\n",
       "OTU.113   uncultured_bacterium                 <NA>\n",
       "OTU.593       Planctomycetales    Planctomycetaceae\n",
       "OTU.11563     Planctomycetales    Planctomycetaceae\n",
       "OTU.432                   <NA>                 <NA>\n",
       "OTU.990   uncultured_bacterium                 <NA>\n",
       "OTU.1100     Ignavibacteriales                BSV26\n",
       "OTU.483     Sphingobacteriales       Saprospiraceae\n",
       "OTU.998     Sphingobacteriales     Chitinophagaceae\n",
       "OTU.219           Cytophagales        Cytophagaceae\n",
       "OTU.10915         Cytophagales        Cytophagaceae\n",
       "OTU.10009         Cytophagales        Cytophagaceae\n",
       "OTU.4815  uncultured_bacterium                 <NA>\n",
       "OTU.331      Gemmatimonadaceae           uncultured\n",
       "OTU.8445     Gemmatimonadaceae           uncultured\n",
       "OTU.7587     Gemmatimonadaceae         Gemmatimonas\n",
       "OTU.2052     Gemmatimonadaceae           uncultured\n",
       "OTU.1780     Gemmatimonadaceae         Gemmatimonas\n",
       "OTU.429      Gemmatimonadaceae           uncultured\n",
       "OTU.38       Gemmatimonadaceae           uncultured\n",
       "OTU.10384           Bacillales          Bacillaceae\n",
       "OTU.1804            Bacillales  Alicyclobacillaceae\n",
       "OTU.2668    Herpetosiphonaceae        Herpetosiphon\n",
       "OTU.769         Anaerolineales                 <NA>\n",
       "OTU.204         Anaerolineales      Anaerolineaceae\n",
       "OTU.2144        Anaerolineales      Anaerolineaceae\n",
       "OTU.123         Anaerolineales      Anaerolineaceae\n",
       "OTU.1634                  <NA>                 <NA>\n",
       "OTU.2217        Anaerolineales      Anaerolineaceae\n",
       "OTU.1920        Anaerolineales      Anaerolineaceae\n",
       "OTU.3782      Acidimicrobiales    Acidimicrobiaceae\n",
       "OTU.7030      Acidimicrobiales    Acidimicrobiaceae\n",
       "OTU.3872      Acidimicrobiales    Acidimicrobiaceae\n",
       "OTU.18        Acidimicrobiales    Acidimicrobiaceae\n",
       "OTU.32        Acidimicrobiales    Acidimicrobiaceae\n",
       "OTU.35        Acidimicrobiales    Acidimicrobiaceae\n",
       "OTU.132       Acidimicrobiales    Acidimicrobiaceae\n",
       "OTU.3353      Acidimicrobiales            Iamiaceae\n",
       "OTU.67        Acidimicrobiales                TM214\n",
       "OTU.268       Acidimicrobiales            Iamiaceae\n",
       "OTU.225   Streptosporangiaceae         Microbispora\n",
       "OTU.9177     Streptomycetaceae         Streptomyces\n",
       "OTU.3        Streptomycetaceae         Streptomyces\n",
       "OTU.5827    Micromonosporaceae         Actinoplanes\n",
       "OTU.11404   Micromonosporaceae                 <NA>\n",
       "OTU.12471   Micromonosporaceae         Actinoplanes\n",
       "OTU.42      Micromonosporaceae         Actinoplanes\n",
       "OTU.112     Micromonosporaceae         Actinoplanes\n",
       "OTU.3524    Micromonosporaceae         Actinoplanes\n",
       "OTU.3492    Pseudonocardiaceae        Amycolatopsis\n",
       "OTU.131        Nocardioidaceae         Nocardioides\n",
       "OTU.2665            Gaiellales           uncultured\n",
       "OTU.1510          Myxococcales         Sorangiineae\n",
       "OTU.1370          Myxococcales         Sorangiineae\n",
       "OTU.5062          Myxococcales         Sorangiineae\n",
       "OTU.1938          Myxococcales              mle1-27\n",
       "OTU.2357          Myxococcales     Cystobacterineae\n",
       "OTU.470        Pseudomonadales        Moraxellaceae\n",
       "OTU.868          Aeromonadales       Aeromonadaceae\n",
       "OTU.5        Enterobacteriales   Enterobacteriaceae\n",
       "OTU.511        Xanthomonadales     Xanthomonadaceae\n",
       "OTU.12109      Xanthomonadales     Xanthomonadaceae\n",
       "OTU.11017      Xanthomonadales      Sinobacteraceae\n",
       "OTU.658        Xanthomonadales      Sinobacteraceae\n",
       "OTU.1220       Xanthomonadales      Sinobacteraceae\n",
       "OTU.10294      Pseudomonadales     Pseudomonadaceae\n",
       "OTU.101        Pseudomonadales     Pseudomonadaceae\n",
       "OTU.1899       Pseudomonadales     Pseudomonadaceae\n",
       "OTU.208       Nitrosomonadales                 <NA>\n",
       "OTU.1127               TRA3-20 uncultured_bacterium\n",
       "OTU.242       Nitrosomonadales    Nitrosomonadaceae\n",
       "OTU.1245       Methylophilales     Methylophilaceae\n",
       "OTU.4          Burkholderiales     Oxalobacteraceae\n",
       "OTU.728                TRA3-20 uncultured_bacterium\n",
       "OTU.231                TRA3-20 uncultured_bacterium\n",
       "OTU.10442      Burkholderiales       Comamonadaceae\n",
       "OTU.5436       Burkholderiales       Comamonadaceae\n",
       "OTU.4049       Burkholderiales       Comamonadaceae\n",
       "OTU.10288      Burkholderiales       Comamonadaceae\n",
       "OTU.641        Burkholderiales       Comamonadaceae\n",
       "OTU.8981       Burkholderiales       Comamonadaceae\n",
       "OTU.7          Burkholderiales       Comamonadaceae\n",
       "OTU.5214       Burkholderiales       Comamonadaceae\n",
       "OTU.9512       Burkholderiales       Comamonadaceae\n",
       "OTU.1548       Burkholderiales       Comamonadaceae\n",
       "OTU.1123                DB1-14 uncultured_bacterium\n",
       "OTU.12056     Sphingomonadales    Sphingomonadaceae\n",
       "OTU.6558      Sphingomonadales    Sphingomonadaceae\n",
       "OTU.21             Rhizobiales    Bradyrhizobiaceae\n",
       "OTU.12012          Rhizobiales         Rhizobiaceae\n",
       "OTU.201            Rhizobiales   Phyllobacteriaceae\n",
       "OTU.387        Rhodobacterales     Rhodobacteraceae\n",
       "OTU.444       Rhodospirillales    Rhodospirillaceae\n",
       "OTU.845      Bdellovibrionales   Bacteriovoracaceae\n",
       "OTU.778      Bdellovibrionales   Bdellovibrionaceae\n",
       "OTU.1663          Myxococcales            0319-6G20\n",
       "OTU.621                FamilyI           Cyanothece\n",
       "OTU.133                FamilyI          Microcoleus\n",
       "OTU.244                FamilyI           Phormidium\n",
       "OTU.1318               FamilyI               Nostoc\n",
       "OTU.1379               FamilyI uncultured_bacterium\n",
       "                                          Rank6\n",
       "OTU.1687                                   <NA>\n",
       "OTU.9126                                   <NA>\n",
       "OTU.10951                                  <NA>\n",
       "OTU.983                                    <NA>\n",
       "OTU.61                                     <NA>\n",
       "OTU.577                                    <NA>\n",
       "OTU.5442                             uncultured\n",
       "OTU.5401                        Prosthecobacter\n",
       "OTU.3114                               Opitutus\n",
       "OTU.113                                    <NA>\n",
       "OTU.593                            Planctomyces\n",
       "OTU.11563                            uncultured\n",
       "OTU.432                                    <NA>\n",
       "OTU.990                                    <NA>\n",
       "OTU.1100                   uncultured_bacterium\n",
       "OTU.483                              uncultured\n",
       "OTU.998                         Ferruginibacter\n",
       "OTU.219                             Flexibacter\n",
       "OTU.10915                           Flexibacter\n",
       "OTU.10009                           Flexibacter\n",
       "OTU.4815                                   <NA>\n",
       "OTU.331   uncultured_Gemmatimonadetes_bacterium\n",
       "OTU.8445                   uncultured_bacterium\n",
       "OTU.7587  uncultured_Gemmatimonadetes_bacterium\n",
       "OTU.2052                   uncultured_bacterium\n",
       "OTU.1780                   uncultured_bacterium\n",
       "OTU.429                    uncultured_bacterium\n",
       "OTU.38                                     <NA>\n",
       "OTU.10384                              Bacillus\n",
       "OTU.1804                           Tumebacillus\n",
       "OTU.2668                                   <NA>\n",
       "OTU.769                                    <NA>\n",
       "OTU.204                              uncultured\n",
       "OTU.2144                             uncultured\n",
       "OTU.123                              uncultured\n",
       "OTU.1634                                   <NA>\n",
       "OTU.2217                             uncultured\n",
       "OTU.1920                             uncultured\n",
       "OTU.3782                  CL500-29_marine_group\n",
       "OTU.7030                  CL500-29_marine_group\n",
       "OTU.3872                          Ilumatobacter\n",
       "OTU.18                            Ilumatobacter\n",
       "OTU.32                               uncultured\n",
       "OTU.35                               uncultured\n",
       "OTU.132                              uncultured\n",
       "OTU.3353                                  Iamia\n",
       "OTU.67                                     <NA>\n",
       "OTU.268                                   Iamia\n",
       "OTU.225                                    <NA>\n",
       "OTU.9177                                   <NA>\n",
       "OTU.3                                      <NA>\n",
       "OTU.5827                                   <NA>\n",
       "OTU.11404                                  <NA>\n",
       "OTU.12471                                  <NA>\n",
       "OTU.42                                     <NA>\n",
       "OTU.112                                    <NA>\n",
       "OTU.3524                                   <NA>\n",
       "OTU.3492                                   <NA>\n",
       "OTU.131                    uncultured_bacterium\n",
       "OTU.2665                   uncultured_bacterium\n",
       "OTU.1510                        Sandaracinaceae\n",
       "OTU.1370                        Sandaracinaceae\n",
       "OTU.5062                          Polyangiaceae\n",
       "OTU.1938                                   <NA>\n",
       "OTU.2357                             uncultured\n",
       "OTU.470                           Acinetobacter\n",
       "OTU.868                               Aeromonas\n",
       "OTU.5                                      <NA>\n",
       "OTU.511                                    <NA>\n",
       "OTU.12109                            Lysobacter\n",
       "OTU.11017                            uncultured\n",
       "OTU.658                              uncultured\n",
       "OTU.1220                             uncultured\n",
       "OTU.10294                           Pseudomonas\n",
       "OTU.101                             Pseudomonas\n",
       "OTU.1899                            Pseudomonas\n",
       "OTU.208                                    <NA>\n",
       "OTU.1127                                   <NA>\n",
       "OTU.242                            Nitrosospira\n",
       "OTU.1245                             uncultured\n",
       "OTU.4                                      <NA>\n",
       "OTU.728                                    <NA>\n",
       "OTU.231                                    <NA>\n",
       "OTU.10442                           Polaromonas\n",
       "OTU.5436                                   <NA>\n",
       "OTU.4049                             uncultured\n",
       "OTU.10288                                  <NA>\n",
       "OTU.641                                    <NA>\n",
       "OTU.8981                             uncultured\n",
       "OTU.7                                uncultured\n",
       "OTU.5214                                   <NA>\n",
       "OTU.9512                       Chlorochromatium\n",
       "OTU.1548                                   <NA>\n",
       "OTU.1123                                   <NA>\n",
       "OTU.12056                          Sphingomonas\n",
       "OTU.6558                        Novosphingobium\n",
       "OTU.21                           Bradyrhizobium\n",
       "OTU.12012                             Rhizobium\n",
       "OTU.201                              uncultured\n",
       "OTU.387                             Rhodobacter\n",
       "OTU.444                                  Dongia\n",
       "OTU.845                            Peredibacter\n",
       "OTU.778                            Bdellovibrio\n",
       "OTU.1663                   uncultured_bacterium\n",
       "OTU.621                    uncultured_bacterium\n",
       "OTU.133                                    <NA>\n",
       "OTU.244                                    <NA>\n",
       "OTU.1318                                   <NA>\n",
       "OTU.1379                                   <NA>\n",
       "                                     Rank7                Rank8\n",
       "OTU.1687                              <NA>                 <NA>\n",
       "OTU.9126                              <NA>                 <NA>\n",
       "OTU.10951                             <NA>                 <NA>\n",
       "OTU.983                               <NA>                 <NA>\n",
       "OTU.61                                <NA>                 <NA>\n",
       "OTU.577                               <NA>                 <NA>\n",
       "OTU.5442                              <NA>                 <NA>\n",
       "OTU.5401                              <NA>                 <NA>\n",
       "OTU.3114              uncultured_bacterium                 <NA>\n",
       "OTU.113                               <NA>                 <NA>\n",
       "OTU.593               uncultured_bacterium                 <NA>\n",
       "OTU.11563             uncultured_bacterium                 <NA>\n",
       "OTU.432                               <NA>                 <NA>\n",
       "OTU.990                               <NA>                 <NA>\n",
       "OTU.1100                              <NA>                 <NA>\n",
       "OTU.483               uncultured_bacterium                 <NA>\n",
       "OTU.998               uncultured_bacterium                 <NA>\n",
       "OTU.219               uncultured_bacterium                 <NA>\n",
       "OTU.10915                             <NA>                 <NA>\n",
       "OTU.10009             uncultured_bacterium                 <NA>\n",
       "OTU.4815                              <NA>                 <NA>\n",
       "OTU.331                               <NA>                 <NA>\n",
       "OTU.8445                              <NA>                 <NA>\n",
       "OTU.7587                              <NA>                 <NA>\n",
       "OTU.2052                              <NA>                 <NA>\n",
       "OTU.1780                              <NA>                 <NA>\n",
       "OTU.429                               <NA>                 <NA>\n",
       "OTU.38                                <NA>                 <NA>\n",
       "OTU.10384                             <NA>                 <NA>\n",
       "OTU.1804              uncultured_bacterium                 <NA>\n",
       "OTU.2668                              <NA>                 <NA>\n",
       "OTU.769                               <NA>                 <NA>\n",
       "OTU.204               uncultured_bacterium                 <NA>\n",
       "OTU.2144  uncultured_Chloroflexi_bacterium                 <NA>\n",
       "OTU.123               uncultured_bacterium                 <NA>\n",
       "OTU.1634                              <NA>                 <NA>\n",
       "OTU.2217         uncultured_soil_bacterium                 <NA>\n",
       "OTU.1920              uncultured_bacterium                 <NA>\n",
       "OTU.3782                              <NA>                 <NA>\n",
       "OTU.7030                              <NA>                 <NA>\n",
       "OTU.3872              uncultured_bacterium                 <NA>\n",
       "OTU.18                uncultured_bacterium                 <NA>\n",
       "OTU.32                uncultured_bacterium                 <NA>\n",
       "OTU.35                uncultured_bacterium                 <NA>\n",
       "OTU.132               uncultured_bacterium                 <NA>\n",
       "OTU.3353                              <NA>                 <NA>\n",
       "OTU.67                                <NA>                 <NA>\n",
       "OTU.268                               <NA>                 <NA>\n",
       "OTU.225                               <NA>                 <NA>\n",
       "OTU.9177                              <NA>                 <NA>\n",
       "OTU.3                                 <NA>                 <NA>\n",
       "OTU.5827                              <NA>                 <NA>\n",
       "OTU.11404                             <NA>                 <NA>\n",
       "OTU.12471                             <NA>                 <NA>\n",
       "OTU.42                                <NA>                 <NA>\n",
       "OTU.112                               <NA>                 <NA>\n",
       "OTU.3524                              <NA>                 <NA>\n",
       "OTU.3492                              <NA>                 <NA>\n",
       "OTU.131                               <NA>                 <NA>\n",
       "OTU.2665                              <NA>                 <NA>\n",
       "OTU.1510                      Sandaracinus                 <NA>\n",
       "OTU.1370              uncultured_bacterium                 <NA>\n",
       "OTU.5062                        Byssovorax uncultured_bacterium\n",
       "OTU.1938                              <NA>                 <NA>\n",
       "OTU.2357              uncultured_bacterium                 <NA>\n",
       "OTU.470                               <NA>                 <NA>\n",
       "OTU.868                               <NA>                 <NA>\n",
       "OTU.5                                 <NA>                 <NA>\n",
       "OTU.511                               <NA>                 <NA>\n",
       "OTU.12109                             <NA>                 <NA>\n",
       "OTU.11017             uncultured_bacterium                 <NA>\n",
       "OTU.658               uncultured_bacterium                 <NA>\n",
       "OTU.1220              uncultured_bacterium                 <NA>\n",
       "OTU.10294             uncultured_bacterium                 <NA>\n",
       "OTU.101                               <NA>                 <NA>\n",
       "OTU.1899            Pseudomonas_libanensis                 <NA>\n",
       "OTU.208                               <NA>                 <NA>\n",
       "OTU.1127                              <NA>                 <NA>\n",
       "OTU.242                               <NA>                 <NA>\n",
       "OTU.1245              uncultured_bacterium                 <NA>\n",
       "OTU.4                                 <NA>                 <NA>\n",
       "OTU.728                               <NA>                 <NA>\n",
       "OTU.231                               <NA>                 <NA>\n",
       "OTU.10442                             <NA>                 <NA>\n",
       "OTU.5436                              <NA>                 <NA>\n",
       "OTU.4049              uncultured_bacterium                 <NA>\n",
       "OTU.10288                             <NA>                 <NA>\n",
       "OTU.641                               <NA>                 <NA>\n",
       "OTU.8981              uncultured_bacterium                 <NA>\n",
       "OTU.7                                 <NA>                 <NA>\n",
       "OTU.5214                              <NA>                 <NA>\n",
       "OTU.9512              uncultured_bacterium                 <NA>\n",
       "OTU.1548                              <NA>                 <NA>\n",
       "OTU.1123                              <NA>                 <NA>\n",
       "OTU.12056                             <NA>                 <NA>\n",
       "OTU.6558                              <NA>                 <NA>\n",
       "OTU.21                                <NA>                 <NA>\n",
       "OTU.12012             uncultured_bacterium                 <NA>\n",
       "OTU.201                               <NA>                 <NA>\n",
       "OTU.387               uncultured_bacterium                 <NA>\n",
       "OTU.444                               <NA>                 <NA>\n",
       "OTU.845                               <NA>                 <NA>\n",
       "OTU.778   uncultured_delta_proteobacterium                 <NA>\n",
       "OTU.1663                              <NA>                 <NA>\n",
       "OTU.621                               <NA>                 <NA>\n",
       "OTU.133                               <NA>                 <NA>\n",
       "OTU.244                               <NA>                 <NA>\n",
       "OTU.1318                              <NA>                 <NA>\n",
       "OTU.1379                              <NA>                 <NA>\n"
      ]
     },
     "metadata": {},
     "output_type": "display_data"
    }
   ],
   "source": [
    "%%R\n",
    "res = results(p.dds, cooksCutoff = FALSE)\n",
    "alpha = 0.05\n",
    "sigtab = res[which(res$padj < alpha), ]\n",
    "sigtab = cbind(as(sigtab, \"data.frame\"), as(tax_table(physeq.p.0N)[rownames(sigtab), ], \"matrix\"))\n",
    "sigtab"
   ]
  },
  {
   "cell_type": "code",
   "execution_count": 72,
   "metadata": {
    "collapsed": false
   },
   "outputs": [
    {
     "data": {
      "text/plain": [
       "log2 fold change (MAP): E.s sig vs ns \n",
       "Wald test p-value: E.s sig vs ns \n",
       "DataFrame with 6 rows and 6 columns\n",
       "             baseMean log2FoldChange     lfcSE        stat     pvalue      padj\n",
       "            <numeric>      <numeric> <numeric>   <numeric>  <numeric> <numeric>\n",
       "OTU.5899  0.196153622   -0.153326314 0.4949970 -0.30975198 0.75674957        NA\n",
       "OTU.11339 0.000000000             NA        NA          NA         NA        NA\n",
       "OTU.11867 0.008960009   -0.006699161 0.2994993 -0.02236787 0.98215451        NA\n",
       "OTU.12445 0.000000000             NA        NA          NA         NA        NA\n",
       "OTU.8680  2.601542218   -0.700812027 0.2811857 -2.49234570 0.01269025 0.1363871\n",
       "OTU.2666  0.620605884   -0.178822977 0.3837618 -0.46597389 0.64123419 0.8425452\n"
      ]
     },
     "metadata": {},
     "output_type": "display_data"
    }
   ],
   "source": [
    "%%R\n",
    "head(res)"
   ]
  },
  {
   "cell_type": "code",
   "execution_count": null,
   "metadata": {
    "collapsed": true
   },
   "outputs": [],
   "source": [
    "###Graph of taxa with significant log2fold change"
   ]
  },
  {
   "cell_type": "code",
   "execution_count": 75,
   "metadata": {
    "collapsed": false,
    "scrolled": true
   },
   "outputs": [
    {
     "data": {
      "image/png": "[encoded data removed]"
     },
     "metadata": {},
     "output_type": "display_data"
    }
   ],
   "source": [
    "%%R -w 800 -h 500\n",
    "theme_set(theme_bw())\n",
    "scale_fill_discrete <- function(palname = \"Set1\", ...) {\n",
    "    scale_fill_brewer(palette = palname, ...)\n",
    "}\n",
    "# Phylum order\n",
    "x = tapply(sigtab$log2FoldChange, sigtab$Rank2, function(x) max(x))\n",
    "x = sort(x, TRUE)\n",
    "sigtab$Rank2 = factor(as.character(sigtab$Rank2), levels=names(x))\n",
    "# Genus order\n",
    "x = tapply(sigtab$log2FoldChange, sigtab$Rank5, function(x) max(x))\n",
    "x = sort(x, TRUE)\n",
    "sigtab$Rank5 = factor(as.character(sigtab$Rank5), levels=names(x))\n",
    "ggplot(sigtab, aes(x=Rank5, y=log2FoldChange, color=Rank2)) + geom_point(size=6) + \n",
    "  theme(axis.text.x = element_text(angle = -90, hjust = 0, vjust=0.5))"
   ]
  },
  {
   "cell_type": "code",
   "execution_count": 70,
   "metadata": {
    "collapsed": false
   },
   "outputs": [
    {
     "data": {
      "image/png": "[encoded data removed]"
     },
     "metadata": {},
     "output_type": "display_data"
    }
   ],
   "source": [
    "%%R\n",
    "DESeq2::plotMA(res)"
   ]
  }
 ],
 "metadata": {
  "kernelspec": {
   "display_name": "Python 2",
   "language": "python",
   "name": "python2"
  },
  "language_info": {
   "codemirror_mode": {
    "name": "ipython",
    "version": 2
   },
   "file_extension": ".py",
   "mimetype": "text/x-python",
   "name": "python",
   "nbconvert_exporter": "python",
   "pygments_lexer": "ipython2",
   "version": "2.7.10"
  }
 },
 "nbformat": 4,
 "nbformat_minor": 0
}
