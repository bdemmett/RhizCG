{
 "cells": [
  {
   "cell_type": "markdown",
   "metadata": {},
   "source": [
    "# Description\n",
    "\n",
    "* Creating OTUs with usearch"
   ]
  },
  {
   "cell_type": "markdown",
   "metadata": {},
   "source": [
    "# Init"
   ]
  },
  {
   "cell_type": "code",
   "execution_count": 1,
   "metadata": {
    "collapsed": true
   },
   "outputs": [],
   "source": [
    "workDir = '/home/bryan/RhizCG/data/MiSeq_amplicon/150522_run1_rerun/OTU_binning/'\n",
    "databaseDir = '/home/bryan/RhizCG/data/databases/'\n",
    "nprocs = 24"
   ]
  },
  {
   "cell_type": "code",
   "execution_count": 2,
   "metadata": {
    "collapsed": true
   },
   "outputs": [],
   "source": [
    "import os\n",
    "import re\n",
    "import pandas as pd\n",
    "from qiime.assign_taxonomy import UclustConsensusTaxonAssigner\n",
    "from IPython.display import Image"
   ]
  },
  {
   "cell_type": "code",
   "execution_count": 3,
   "metadata": {
    "collapsed": false
   },
   "outputs": [
    {
     "name": "stdout",
     "output_type": "stream",
     "text": [
      "Populating the interactive namespace from numpy and matplotlib\n"
     ]
    }
   ],
   "source": [
    "%pylab inline\n",
    "%load_ext rpy2.ipython"
   ]
  },
  {
   "cell_type": "code",
   "execution_count": 4,
   "metadata": {
    "collapsed": false
   },
   "outputs": [
    {
     "name": "stderr",
     "output_type": "stream",
     "text": [
      "/opt/anaconda/lib/python2.7/site-packages/rpy2/robjects/functions.py:106: UserWarning: \n",
      "Attaching package: ‘dplyr’\n",
      "\n",
      "\n",
      "  res = super(Function, self).__call__(*new_args, **new_kwargs)\n",
      "/opt/anaconda/lib/python2.7/site-packages/rpy2/robjects/functions.py:106: UserWarning: The following objects are masked from ‘package:stats’:\n",
      "\n",
      "    filter, lag\n",
      "\n",
      "\n",
      "  res = super(Function, self).__call__(*new_args, **new_kwargs)\n",
      "/opt/anaconda/lib/python2.7/site-packages/rpy2/robjects/functions.py:106: UserWarning: The following objects are masked from ‘package:base’:\n",
      "\n",
      "    intersect, setdiff, setequal, union\n",
      "\n",
      "\n",
      "  res = super(Function, self).__call__(*new_args, **new_kwargs)\n"
     ]
    }
   ],
   "source": [
    "%%R\n",
    "library(ggplot2)\n",
    "library(dplyr)\n",
    "library(tidyr)\n",
    "library(gridExtra)\n",
    "library(stringr)"
   ]
  },
  {
   "cell_type": "code",
   "execution_count": 5,
   "metadata": {
    "collapsed": true
   },
   "outputs": [],
   "source": [
    "if not os.path.isdir(workDir):\n",
    "    os.mkdir(workDir)"
   ]
  },
  {
   "cell_type": "markdown",
   "metadata": {},
   "source": [
    "# Binning"
   ]
  },
  {
   "cell_type": "code",
   "execution_count": 6,
   "metadata": {
    "collapsed": false
   },
   "outputs": [
    {
     "name": "stdout",
     "output_type": "stream",
     "text": [
      "Number of sequences in final QC fasta: 5134019\n",
      ">sample6-3.07_Npos_0\n",
      "TACAGAGGGTGCAAACGTTGCTCGGAATTACTGGGCGTAAAGCGCGTGTAGGCGGCTCCGTAAGTCGGGTGTGAAATCCCTCGGCTCAACTGAGGAAGTGCACTCGATACTGCAGAGCTAGAGTACCGGAGAGGGTGGTGGAATTCCTGGTGTAGAGGTGAAATTCGTAGATATCAGGAGGAACACCGGCGGCGAAGGCGGCCACCTGGACGGATACTGACGCTCAGACGCGAAAGCGTGGGTAGCAAACAGG\n",
      ">sample1-3.07_Nneg_2492020\n",
      "TACAGAGGGTGCAAACGTTGCTCGGAATTACTGGGCGTAAAGCGCGTGTAGGCGGCTCCGTAAGTCGGGTGTGAAATCCCTCGGCTCAACTGAGGAAGTGCACTCGATACTGCAGAGCTAGAGTACCGGAGAGGGTGGTGGAATTCCTGGTGTAGAGGTGAAATTCGTAGATATCAGGAGGAACACCGGCGGCGAAGGCGGCCACCTGGACGGATACTGACGCTCAGACGCGAAAGCGTGGGTAGCAAACAGG\n",
      ">sample5-4.09_Nneg_5228493\n",
      "TACGTAGGTGGCAAGCGTTGTCCGGATTTATTGGGCGTAAAGAGCTCGGAGGCGGTTCGGTAAGTCGGCTGTGAAATCTCCACGCTCAACGTGGGGGGGTCAGTCGAAACTGCCGTGACTCGAGTCCGGTAGAGGAGTGTGGAATTCCCGGTGTAGCGGTGAAATGCGCAGAGATCGGGAGGAACACCCGTAGCGAAGGCGGCACTCTGGGCCGGTACTGACGCTGAGGAGCGAAAGCGTGGGGAGCAAACAGG\n",
      ">sample2-2.08_Nneg_5228496\n",
      "GACGGGGGGGGCAAGTGTTCTGCGGAATGACTGGGCGTAAAGGGCACGTAGGCGGTGAATCGGGTTGAAAGTGAAAGTCGCCAAAAACGGGCGGAATGCTCTCGAAACCAATTCACTTGGGTGAGACAGAGGAGAGTGGAATTTCGTGTGTAGGGGTGAAATCCGCAAATCTACGAAGGAACGCCAAAAGCGAAGGCAGCTCTCTGGGTCCCTACCGACGCTGGGGTGCGAAAGCATGGGGAGCGAACAGG\n"
     ]
    }
   ],
   "source": [
    "%%bash -s \"$workDir\"\n",
    "\n",
    "cd $1\n",
    "\n",
    "ln -f -s ../QC/finalQC.fasta .\n",
    "\n",
    "printf \"Number of sequences in final QC fasta: \"\n",
    "grep -c \">\" finalQC.fasta\n",
    "\n",
    "head -n 4 finalQC.fasta\n",
    "tail -n 4 finalQC.fasta"
   ]
  },
  {
   "cell_type": "markdown",
   "metadata": {},
   "source": [
    "# Usearch pipeline"
   ]
  },
  {
   "cell_type": "code",
   "execution_count": 7,
   "metadata": {
    "collapsed": false
   },
   "outputs": [
    {
     "name": "stdout",
     "output_type": "stream",
     "text": [
      "usearch v7.0.1090_i86linux32, 4.0Gb RAM (132Gb total), 40 cores\n",
      "(C) Copyright 2013 Robert C. Edgar, all rights reserved.\n",
      "http://drive5.com/usearch\n",
      "\n",
      "Licensed to: chuck.peperanney@gmail.com\n",
      "\n",
      "00:06 1.6Gb  100.0% Reading finalQC.fasta\n",
      "00:11 2.0Gb 3276531 (3.3M) uniques, avg cluster 1.6, median 1, max 226215\n",
      "00:35 2.0Gb  100.0% Writing finalQC_uniques.fasta\n"
     ]
    }
   ],
   "source": [
    "!cd $workDir; \\\n",
    "    usearch -derep_fulllength finalQC.fasta -output finalQC_uniques.fasta -sizeout -threads $nprocs"
   ]
  },
  {
   "cell_type": "code",
   "execution_count": 8,
   "metadata": {
    "collapsed": false
   },
   "outputs": [
    {
     "name": "stdout",
     "output_type": "stream",
     "text": [
      "usearch v7.0.1090_i86linux32, 4.0Gb RAM (132Gb total), 40 cores\n",
      "(C) Copyright 2013 Robert C. Edgar, all rights reserved.\n",
      "http://drive5.com/usearch\n",
      "\n",
      "Licensed to: chuck.peperanney@gmail.com\n",
      "\n",
      "00:00 2.1Mb Reading finalQC_uniques.fasta, 956Mb\n",
      "00:02 958Mb 3276531 (3.3M) seqs, min 233, avg 253, max 354nt\n",
      "00:04 998Mb Getting sizes\n",
      "00:08 1.0Gb Sorting 203658 sequences\n",
      "00:09 1.0Gb  100.0% Writing finalQC_uniques_sorted.fasta\n"
     ]
    }
   ],
   "source": [
    "!cd $workDir; \\\n",
    "    usearch -sortbysize finalQC_uniques.fasta \\\n",
    "    -output finalQC_uniques_sorted.fasta -minsize 2  #-minsize 2"
   ]
  },
  {
   "cell_type": "code",
   "execution_count": null,
   "metadata": {
    "collapsed": false
   },
   "outputs": [
    {
     "name": "stdout",
     "output_type": "stream",
     "text": [
      ">sample6-4.27_Nneg_3497443;size=2;\r\n",
      "AACGTAGGGTGCAAGCGTTGCCCGGATTTATTGGGCGTAAAGGGCGCGTAGGCGGCTACGCACGTCCGTTGTGAAATCGC\r\n",
      "CCGGCTCAACTGGGCGGGGTCGGCGGATACGGCGTAGCTGGAGCAAGCTAGGGGGCAATGGAATTCCCGGTGTAGTGGTG\r\n",
      "GAATGCGTAGATATCGGGAGGAACACCAGTGGCGAAGGCGGTTGCCTGGGGCTTTGCTGACGCTGATGCGCGAAAGCGTG\r\n",
      "GGGAGCGATCCGG\r\n",
      ">sample1-2.23_Nneg_2415313;size=2;\r\n",
      "TACGGGGGGAGCAAGCGTTGTTCGGATTTACTGGGCGTAAAGGGCGCGTAGGCGGCCACCGCAAGTCGACTGTGAAACCT\r\n",
      "CCGGGCTTAACCCGGAAAGGGCAGCCGATACTGCGGGGCTAGAGTGCAGAAGGGGCAACTGGAATTCTCGGTGTAGCGGT\r\n",
      "GAAATGCGTAGATATCGAGAGGAACACCTGCGGCGAAGGCGGGTTGCTGGGCTGACACTGACGCTGAGGCGCGAAAGCTA\r\n",
      "GGGGAGCGAACGGG\r\n"
     ]
    }
   ],
   "source": [
    "!cd $workDir; \\\n",
    "    tail finalQC_uniques_sorted.fasta"
   ]
  },
  {
   "cell_type": "code",
   "execution_count": null,
   "metadata": {
    "collapsed": false
   },
   "outputs": [
    {
     "name": "stdout",
     "output_type": "stream",
     "text": [
      "usearch v7.0.1090_i86linux32, 4.0Gb RAM (132Gb total), 40 cores\n",
      "(C) Copyright 2013 Robert C. Edgar, all rights reserved.\n",
      "http://drive5.com/usearch\n",
      "\n",
      "Licensed to: chuck.peperanney@gmail.com\n",
      "\n"
     ]
    }
   ],
   "source": [
    "!cd $workDir; \\\n",
    "    usearch -cluster_otus finalQC_uniques_sorted.fasta -otus otus.fasta"
   ]
  },
  {
   "cell_type": "code",
   "execution_count": null,
   "metadata": {
    "collapsed": false,
    "scrolled": true
   },
   "outputs": [],
   "source": []
  },
  {
   "cell_type": "code",
   "execution_count": null,
   "metadata": {
    "collapsed": false
   },
   "outputs": [],
   "source": [
    "!cd $workDir; \\\n",
    "    /opt/bioinfo/edgar_python_scripts/fasta_number.py otus.fasta OTU. > otusn.fasta"
   ]
  },
  {
   "cell_type": "markdown",
   "metadata": {},
   "source": [
    "# Removing sequences classified as chloroplast, eukaryotes, or archaea"
   ]
  },
  {
   "cell_type": "code",
   "execution_count": null,
   "metadata": {
    "collapsed": false
   },
   "outputs": [],
   "source": [
    "%%bash -s \"$workDir\" \"$databaseDir\" \"$nprocs\"\n",
    "\n",
    "cd $1\n",
    "\n",
    "parallel_assign_taxonomy_uclust.py \\\n",
    "    -r $2'97_Silva_111_rep_set_no_ambig.fasta' \\\n",
    "    -t $2'Silva_111_taxa_map_full.txt' \\\n",
    "    -O 8 \\\n",
    "    -i otusn.fasta \\\n",
    "    -o otusn_tax"
   ]
  },
  {
   "cell_type": "code",
   "execution_count": null,
   "metadata": {
    "collapsed": false
   },
   "outputs": [],
   "source": [
    "%%bash -s \"$workDir\" \"$databaseDir\"\n",
    "\n",
    "cd $1\n",
    "\n",
    "egrep \"Chloroplast|Eukaryota|Archaea|Unassigned|mitochondria\" \\\n",
    "    otusn_tax/otusn_tax_assignments.txt |\\\n",
    "    awk '{print $1}' > to_remove_tax.accnos"
   ]
  },
  {
   "cell_type": "code",
   "execution_count": null,
   "metadata": {
    "collapsed": false
   },
   "outputs": [],
   "source": [
    "!cd $workDir; wc -l to_remove_tax.accnos"
   ]
  },
  {
   "cell_type": "code",
   "execution_count": null,
   "metadata": {
    "collapsed": false
   },
   "outputs": [],
   "source": [
    "!cd $workDir; head to_remove_tax.accnos"
   ]
  },
  {
   "cell_type": "code",
   "execution_count": null,
   "metadata": {
    "collapsed": false
   },
   "outputs": [],
   "source": [
    "!cd $workDir; \\\n",
    "    mothur \"#remove.seqs(fasta=otusn.fasta, accnos=to_remove_tax.accnos)\" | head -n 50"
   ]
  },
  {
   "cell_type": "code",
   "execution_count": null,
   "metadata": {
    "collapsed": false
   },
   "outputs": [],
   "source": [
    "!cd $workDir; grep -c \">\" otusn.fasta\n",
    "!cd $workDir; grep -c \">\" otusn.pick.fasta"
   ]
  },
  {
   "cell_type": "code",
   "execution_count": null,
   "metadata": {
    "collapsed": true
   },
   "outputs": [],
   "source": []
  },
  {
   "cell_type": "markdown",
   "metadata": {},
   "source": [
    "# Mapping reads"
   ]
  },
  {
   "cell_type": "code",
   "execution_count": null,
   "metadata": {
    "collapsed": true
   },
   "outputs": [],
   "source": [
    "%%bash -s \"$workDir\"\n",
    "\n",
    "cd $1\n",
    "\n",
    "perl -pe 's/^>(.+)(_[^_]+)\\n$/>$1$2;barcodelabel=$1\\n/' finalQC.fasta > finalQC_usearchfmt.fasta"
   ]
  },
  {
   "cell_type": "code",
   "execution_count": null,
   "metadata": {
    "collapsed": false
   },
   "outputs": [],
   "source": [
    "!cd $workDir; head finalQC_usearchfmt.fasta"
   ]
  },
  {
   "cell_type": "code",
   "execution_count": null,
   "metadata": {
    "collapsed": false
   },
   "outputs": [],
   "source": [
    "!cd $workDir; grep -c \">\" finalQC_usearchfmt.fasta"
   ]
  },
  {
   "cell_type": "code",
   "execution_count": null,
   "metadata": {
    "collapsed": false
   },
   "outputs": [],
   "source": [
    "!cd $workDir; \\\n",
    "usearch -usearch_global finalQC_usearchfmt.fasta \\\n",
    "    -db otusn.pick.fasta \\\n",
    "    -strand plus -id 0.97 \\\n",
    "    -uc readmap.uc \\\n",
    "    -threads $nprocs"
   ]
  },
  {
   "cell_type": "code",
   "execution_count": null,
   "metadata": {
    "collapsed": false
   },
   "outputs": [],
   "source": [
    "!cd $workDir; \\\n",
    "    python /opt/bioinfo/edgar_python_scripts/uc2otutab.py readmap.uc > otu_table.txt"
   ]
  },
  {
   "cell_type": "code",
   "execution_count": null,
   "metadata": {
    "collapsed": true
   },
   "outputs": [],
   "source": [
    "%%bash -s \"$workDir\"\n",
    "\n",
    "cd $1\n",
    "\n",
    "if [ -f otu_table.biom ]; then\n",
    "    rm otu_table.biom\n",
    "fi #This is to mitigate a biom bug\n",
    "\n",
    "biom convert -i otu_table.txt -o otu_table.biom --table-type \"otu table\""
   ]
  },
  {
   "cell_type": "code",
   "execution_count": null,
   "metadata": {
    "collapsed": true
   },
   "outputs": [],
   "source": [
    "%%bash -s \"$workDir\"\n",
    "\n",
    "cd $1\n",
    "\n",
    "if [ -f otu_table_summary.txt ]; then\n",
    "    rm otu_table_summary.txt\n",
    "fi #This is to mitigate a biom bug\n",
    "\n",
    "biom summarize-table -i otu_table.biom -o otu_table_summary.txt"
   ]
  },
  {
   "cell_type": "code",
   "execution_count": null,
   "metadata": {
    "collapsed": false,
    "scrolled": true
   },
   "outputs": [],
   "source": [
    "!cd $workDir; cat otu_table_summary.txt"
   ]
  },
  {
   "cell_type": "markdown",
   "metadata": {},
   "source": [
    "# Assessing the taxonomic composition in the water controls"
   ]
  },
  {
   "cell_type": "code",
   "execution_count": null,
   "metadata": {
    "collapsed": false
   },
   "outputs": [],
   "source": [
    "%%R -i workDir\n",
    "\n",
    "setwd(workDir)\n",
    "\n",
    "tbl.otu = read.delim('otu_table.txt', sep='\\t')\n",
    "tbl.tax = read.delim('otusn_tax/otusn_tax_assignments.txt', header=F)\n",
    "\n",
    "tbl.otu.H2O = tbl.otu %>% \n",
    "    select(OTUId, Negative_Control) %>%\n",
    "    filter(Negative_Control > 0)"
   ]
  },
  {
   "cell_type": "code",
   "execution_count": null,
   "metadata": {
    "collapsed": false
   },
   "outputs": [],
   "source": [
    "%%R\n",
    "# taxonomic levels\n",
    "tbl.j = left_join(tbl.otu.H2O, tbl.tax, by=c('OTUId' = 'V1'))\n",
    "tbl.j\n"
   ]
  },
  {
   "cell_type": "code",
   "execution_count": null,
   "metadata": {
    "collapsed": true
   },
   "outputs": [],
   "source": [
    "%%R\n",
    "# taxonomic levels\n",
    "tbl.j = left_join(tbl.otu.H2O, tbl.tax, by=c('OTUId' = 'V1'))\n",
    "\n",
    "add_levels = function(x){\n",
    "    x = as.character(x)\n",
    "    x = gsub('__', '', x)\n",
    "    y = str_split(x, '; ')\n",
    "    y.len = length(y[[1]])\n",
    "    for(i in y.len:7){\n",
    "        if(i != 7){\n",
    "            x = paste(c(x, 'unclassified'), collapse='; ')\n",
    "            }\n",
    "        }\n",
    "    return(x)\n",
    "    }\n",
    "\n",
    "tbl.j = tbl.j %>%\n",
    "    mutate(V2 = sapply(V2, add_levels)) %>%\n",
    "    separate(V2, c('domain', 'phylum', 'class', 'order', 'family', 'genus', 'species'), sep='; ')"
   ]
  },
  {
   "cell_type": "code",
   "execution_count": null,
   "metadata": {
    "collapsed": false
   },
   "outputs": [],
   "source": [
    "%%R -h 600 -w 600\n",
    "\n",
    "tbl.j = tbl.j %>%\n",
    "    arrange(Negative_Control)\n",
    "\n",
    "tbl.j.phylum = tbl.j %>%\n",
    "    group_by(domain, phylum) %>%\n",
    "    summarize(\n",
    "        OTU_count = n(),\n",
    "        abundance = sum(Negative_Control)\n",
    "    )\n",
    "\n",
    "p1 = ggplot(tbl.j.phylum, aes(phylum, OTU_count, color=domain)) +\n",
    "    geom_point() +\n",
    "    theme(\n",
    "        axis.text.x = element_text(angle=90, hjust=1)\n",
    "        )\n",
    "\n",
    "\n",
    "tbl.j.class = tbl.j %>%\n",
    "    group_by(class) %>%\n",
    "    summarize(\n",
    "        OTU_count = n(),\n",
    "        abundance = sum(Negative_Control)\n",
    "    )\n",
    "\n",
    "p2 = ggplot(tbl.j.class, aes(class, OTU_count, color=class)) +\n",
    "    geom_point() +\n",
    "    theme(\n",
    "        axis.text.x = element_text(angle=90, hjust=1)\n",
    "        )\n",
    "\n",
    "\n",
    "tbl.j.genus = tbl.j %>%\n",
    "    group_by(class, genus) %>%\n",
    "    summarize(\n",
    "        OTU_count = n(),\n",
    "        abundance = sum(Negative_Control)\n",
    "    )\n",
    "\n",
    "p3 = ggplot(tbl.j.genus, aes(genus, OTU_count, color=class)) +\n",
    "    geom_point() +\n",
    "    theme(\n",
    "        axis.text.x = element_text(angle=90, hjust=1)\n",
    "        )\n",
    "\n",
    "grid.arrange(p1, p2, p3, ncol=1)"
   ]
  }
 ],
 "metadata": {
  "hide_input": true,
  "kernelspec": {
   "display_name": "Python 2",
   "language": "python",
   "name": "python2"
  },
  "language_info": {
   "codemirror_mode": {
    "name": "ipython",
    "version": 2
   },
   "file_extension": ".py",
   "mimetype": "text/x-python",
   "name": "python",
   "nbconvert_exporter": "python",
   "pygments_lexer": "ipython2",
   "version": "2.7.10"
  }
 },
 "nbformat": 4,
 "nbformat_minor": 0
}
