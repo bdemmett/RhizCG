{
 "cells": [
  {
   "cell_type": "markdown",
   "metadata": {},
   "source": [
    "#Description\n",
    "    Demultiplex RhizCG 150615_run2_rerun\n"
   ]
  },
  {
   "cell_type": "markdown",
   "metadata": {},
   "source": [
    "#Setting variables"
   ]
  },
  {
   "cell_type": "code",
   "execution_count": 7,
   "metadata": {
    "collapsed": true
   },
   "outputs": [],
   "source": [
    "workDir = '/home/bryan/RhizCG/data/MiSeq_amplicon/150622_run2_rerun/'\n",
    "seqDir = '/var/seq_data/RhizCG/150622_run2_rerun/raw/'\n",
    "\n",
    "metadataFile = '/home/bryan/RhizCG/data/MiSeq_amplicon/metadata_RhizCG_run2.txt'\n",
    "read1_file = 'read1.fq'\n",
    "read2_file = 'read2.fq'\n",
    "index_read1_file = 'Undetermined_S0_L001_I1_001.fastq'\n",
    "index_read2_file = 'Undetermined_S0_L001_I2_001.fastq'\n",
    "read12_screed_file = 'pear_merged-2015-06-27.assembled.fastq_screed'"
   ]
  },
  {
   "cell_type": "markdown",
   "metadata": {},
   "source": [
    "#Init"
   ]
  },
  {
   "cell_type": "code",
   "execution_count": 8,
   "metadata": {
    "collapsed": true
   },
   "outputs": [],
   "source": [
    "import os\n",
    "import screed\n",
    "import pandas as pd\n",
    "from collections import Counter\n",
    "import matplotlib.pyplot as plt\n",
    "import numpy as np\n",
    "from ggplot import *\n",
    "import re\n",
    "import scipy.stats as stats"
   ]
  },
  {
   "cell_type": "code",
   "execution_count": 9,
   "metadata": {
    "collapsed": true
   },
   "outputs": [],
   "source": [
    "if not os.path.isdir(workDir):\n",
    "    os.mkdir(workDir)"
   ]
  },
  {
   "cell_type": "code",
   "execution_count": 10,
   "metadata": {
    "collapsed": false
   },
   "outputs": [
    {
     "name": "stdout",
     "output_type": "stream",
     "text": [
      "The rpy2.ipython extension is already loaded. To reload it, use:\n",
      "  %reload_ext rpy2.ipython\n"
     ]
    }
   ],
   "source": [
    "%load_ext rpy2.ipython"
   ]
  },
  {
   "cell_type": "code",
   "execution_count": 11,
   "metadata": {
    "collapsed": false,
    "scrolled": true
   },
   "outputs": [],
   "source": [
    "%%R\n",
    "library(ggplot2)\n",
    "library(dplyr)\n",
    "library(tidyr)\n",
    "library(gdata)"
   ]
  },
  {
   "cell_type": "code",
   "execution_count": 12,
   "metadata": {
    "collapsed": false
   },
   "outputs": [
    {
     "data": {
      "text/plain": [
       "<ScreedDB, 'Undetermined_S0_L001_I2_001.fastq_screed'>"
      ]
     },
     "execution_count": 12,
     "metadata": {},
     "output_type": "execute_result"
    }
   ],
   "source": [
    "#long processessing time\n",
    "os.chdir(seqDir)\n",
    "screed.read_fastq_sequences(index_read1_file)\n",
    "screed.read_fastq_sequences(index_read2_file)"
   ]
  },
  {
   "cell_type": "markdown",
   "metadata": {},
   "source": [
    "##Checkpoint: define index screed files to skip above step"
   ]
  },
  {
   "cell_type": "code",
   "execution_count": 26,
   "metadata": {
    "collapsed": true
   },
   "outputs": [],
   "source": [
    "os.chdir(seqDir)\n",
    "index_read1_screed = index_read1_file + '_screed'\n",
    "index_read2_screed = index_read2_file + '_screed'"
   ]
  },
  {
   "cell_type": "markdown",
   "metadata": {},
   "source": [
    "#Demultiplex"
   ]
  },
  {
   "cell_type": "code",
   "execution_count": 27,
   "metadata": {
    "collapsed": true
   },
   "outputs": [],
   "source": [
    "# rev-comp functions\n",
    "def complement(seq): \n",
    "    idx = {'A': 'T', 'C': 'G', 'G': 'C', 'T': 'A', 'N':'N'} \n",
    "    idx.update( {x.lower():y.lower() for x,y in idx.items()} )\n",
    "    return ''.join(idx[x] for x in list(seq))\n",
    "\n",
    "def revComp(seq):\n",
    "    seq = seq[::-1]\n",
    "    return complement(seq)"
   ]
  },
  {
   "cell_type": "code",
   "execution_count": 28,
   "metadata": {
    "collapsed": false
   },
   "outputs": [],
   "source": [
    "# loading/editing metadata\n",
    "\n",
    "df_meta = pd.read_table(os.path.join(workDir,metadataFile), delimiter=\"\\t\")\n",
    "df_meta.columns = ['Sample'] + list((df_meta.columns)[1:])\n",
    "\n",
    "df_meta['Barcode_FR'] = [(revComp(y) + x).lower() for x,y \\\n",
    "                         in zip(df_meta.fwd_barcode,df_meta.rev_barcode)]\n",
    "\n",
    "## format of barcode=>sample dict: [revcomp(revBarcode=read1) + fwdBarcode=read2] : sampleID\n",
    "map_d = {x:y for x,y in zip(df_meta.Barcode_FR, df_meta.Sample)}"
   ]
  },
  {
   "cell_type": "code",
   "execution_count": 29,
   "metadata": {
    "collapsed": false
   },
   "outputs": [],
   "source": [
    "# loading screed databases \n",
    "os.chdir(seqDir)\n",
    "\n",
    "ir1db = screed.ScreedDB(index_read1_screed)\n",
    "ir2db = screed.ScreedDB(index_read2_screed)\n",
    "amp_db = screed.ScreedDB(read12_screed_file)"
   ]
  },
  {
   "cell_type": "code",
   "execution_count": 30,
   "metadata": {
    "collapsed": false
   },
   "outputs": [
    {
     "name": "stdout",
     "output_type": "stream",
     "text": [
      "Unable to assign 1489354 reads to samples\n"
     ]
    }
   ],
   "source": [
    "# demultiplexing: naming reads by sample\n",
    "\n",
    "outFile = re.sub('fastq_screed', 'dmult.fastq', read12_screed_file)\n",
    "\n",
    "counter = 0\n",
    "unassigned = 0\n",
    "cnt = Counter()\n",
    "outFile = os.path.join(workDir, outFile)\n",
    "c = 0\n",
    "with open(outFile, \"w\") as out:\n",
    "    for rec in amp_db.itervalues():\n",
    "        # debug\n",
    "        #c += 1\n",
    "        #if c > 10000:\n",
    "        #    break\n",
    "            \n",
    "        index_concat = ir1db[rec[\"name\"]][\"sequence\"] + ir2db[rec[\"name\"]][\"sequence\"]\n",
    "        \n",
    "        try:\n",
    "            new_name = map_d[index_concat.lower()] + \"_\" + str(counter) #case sensitive\n",
    "        except KeyError:\n",
    "            unassigned += 1\n",
    "            continue\n",
    "        counter += 1\n",
    "        cnt[map_d[index_concat.lower()]] += 1 #case sensitive\n",
    "        s, q = rec[\"sequence\"], rec[\"accuracy\"]\n",
    "        out.write(\"@%s orig_name=%s\\n%s\\n+\\n%s\\n\"%(new_name,rec[\"name\"],s,q))\n",
    "        \n",
    "        \n",
    "print \"Unable to assign %s reads to samples\"%unassigned"
   ]
  },
  {
   "cell_type": "code",
   "execution_count": 31,
   "metadata": {
    "collapsed": false
   },
   "outputs": [
    {
     "name": "stdout",
     "output_type": "stream",
     "text": [
      "/home/bryan/RhizCG/data/MiSeq_amplicon/150622_run2_rerun/pear_merged-2015-06-27.assembled.dmult.fastq\n"
     ]
    }
   ],
   "source": [
    "print outFile"
   ]
  },
  {
   "cell_type": "markdown",
   "metadata": {
    "collapsed": true
   },
   "source": [
    "##Checkpoint: define outfile for next command without running above."
   ]
  },
  {
   "cell_type": "code",
   "execution_count": 35,
   "metadata": {
    "collapsed": false
   },
   "outputs": [],
   "source": [
    "outFile = '/home/bryan/RhizCG/data/MiSeq_amplicon/150622_run2_rerun/pear_merged-2015-06-27.assembled.dmult.fastq'"
   ]
  },
  {
   "cell_type": "code",
   "execution_count": 36,
   "metadata": {
    "collapsed": false
   },
   "outputs": [
    {
     "name": "stdout",
     "output_type": "stream",
     "text": [
      "Number of sequences: 1606044\n"
     ]
    }
   ],
   "source": [
    "# number of sequences\n",
    "n_lines = !wc -l $outFile\n",
    "n_lines = int(re.sub(' .+', '', n_lines[0]))\n",
    "print 'Number of sequences: {}'.format(n_lines/4)"
   ]
  },
  {
   "cell_type": "markdown",
   "metadata": {},
   "source": [
    "# Stats on sequences"
   ]
  },
  {
   "cell_type": "markdown",
   "metadata": {},
   "source": [
    "## Number of sequences per sample"
   ]
  },
  {
   "cell_type": "code",
   "execution_count": 37,
   "metadata": {
    "collapsed": true
   },
   "outputs": [],
   "source": [
    "# counting sequences for each sample\n",
    "re_seqName = re.compile(r'_\\d+ orig_name.+')\n",
    "\n",
    "seq_cnt = dict()\n",
    "with open(outFile, 'r') as fn:\n",
    "    for line in fn.readlines():\n",
    "        if re.search(re_seqName, line):\n",
    "            sampleName = re.sub(re_seqName, '', line).rstrip().lstrip('@')\n",
    "            try:\n",
    "                seq_cnt[sampleName] += 1\n",
    "            except KeyError:\n",
    "                seq_cnt[sampleName] = 1 "
   ]
  },
  {
   "cell_type": "code",
   "execution_count": 38,
   "metadata": {
    "collapsed": false
   },
   "outputs": [
    {
     "data": {
      "text/html": [
       "<div style=\"max-height:1000px;max-width:1500px;overflow:auto;\">\n",
       "<table border=\"1\" class=\"dataframe\">\n",
       "  <thead>\n",
       "    <tr style=\"text-align: right;\">\n",
       "      <th></th>\n",
       "      <th>Sample</th>\n",
       "      <th>seq_count</th>\n",
       "    </tr>\n",
       "  </thead>\n",
       "  <tbody>\n",
       "    <tr>\n",
       "      <th>0</th>\n",
       "      <td>sample8-3.28_Nneg</td>\n",
       "      <td>10178</td>\n",
       "    </tr>\n",
       "    <tr>\n",
       "      <th>1</th>\n",
       "      <td>sample8-1.06_Nneg</td>\n",
       "      <td>9153</td>\n",
       "    </tr>\n",
       "    <tr>\n",
       "      <th>2</th>\n",
       "      <td>sample6-4.13_Npos</td>\n",
       "      <td>8561</td>\n",
       "    </tr>\n",
       "    <tr>\n",
       "      <th>3</th>\n",
       "      <td>sample7-1.28_Npos</td>\n",
       "      <td>18741</td>\n",
       "    </tr>\n",
       "    <tr>\n",
       "      <th>4</th>\n",
       "      <td>sample6-2.05_Npos</td>\n",
       "      <td>21015</td>\n",
       "    </tr>\n",
       "    <tr>\n",
       "      <th>5</th>\n",
       "      <td>sample6-2.14_Npos</td>\n",
       "      <td>9083</td>\n",
       "    </tr>\n",
       "    <tr>\n",
       "      <th>6</th>\n",
       "      <td>sample7-3.19_Nneg</td>\n",
       "      <td>24778</td>\n",
       "    </tr>\n",
       "    <tr>\n",
       "      <th>7</th>\n",
       "      <td>sample8-1.14_Nneg</td>\n",
       "      <td>31614</td>\n",
       "    </tr>\n",
       "    <tr>\n",
       "      <th>8</th>\n",
       "      <td>sample7-3.12_Nneg</td>\n",
       "      <td>8149</td>\n",
       "    </tr>\n",
       "    <tr>\n",
       "      <th>9</th>\n",
       "      <td>sample8-2.17_Npos</td>\n",
       "      <td>13396</td>\n",
       "    </tr>\n",
       "    <tr>\n",
       "      <th>10</th>\n",
       "      <td>Pos_Control_2</td>\n",
       "      <td>1</td>\n",
       "    </tr>\n",
       "    <tr>\n",
       "      <th>11</th>\n",
       "      <td>sample6-4.13_Nneg</td>\n",
       "      <td>8341</td>\n",
       "    </tr>\n",
       "    <tr>\n",
       "      <th>12</th>\n",
       "      <td>sample7-2.12_Npos</td>\n",
       "      <td>17419</td>\n",
       "    </tr>\n",
       "    <tr>\n",
       "      <th>13</th>\n",
       "      <td>sample8-1.19_Nneg</td>\n",
       "      <td>10026</td>\n",
       "    </tr>\n",
       "    <tr>\n",
       "      <th>14</th>\n",
       "      <td>sample6-2.14_Nneg</td>\n",
       "      <td>20913</td>\n",
       "    </tr>\n",
       "    <tr>\n",
       "      <th>15</th>\n",
       "      <td>sample8-2.07_Npos</td>\n",
       "      <td>6902</td>\n",
       "    </tr>\n",
       "    <tr>\n",
       "      <th>16</th>\n",
       "      <td>sample8-3.29_Nneg</td>\n",
       "      <td>12135</td>\n",
       "    </tr>\n",
       "    <tr>\n",
       "      <th>17</th>\n",
       "      <td>sample8-3.23_Nneg</td>\n",
       "      <td>19474</td>\n",
       "    </tr>\n",
       "    <tr>\n",
       "      <th>18</th>\n",
       "      <td>sample8-3.29_Npos</td>\n",
       "      <td>8445</td>\n",
       "    </tr>\n",
       "    <tr>\n",
       "      <th>19</th>\n",
       "      <td>sample3-3.30_Npos</td>\n",
       "      <td>14424</td>\n",
       "    </tr>\n",
       "    <tr>\n",
       "      <th>20</th>\n",
       "      <td>sample8-3.03_Npos</td>\n",
       "      <td>5642</td>\n",
       "    </tr>\n",
       "    <tr>\n",
       "      <th>21</th>\n",
       "      <td>sample8-1.10_Nneg</td>\n",
       "      <td>20267</td>\n",
       "    </tr>\n",
       "    <tr>\n",
       "      <th>22</th>\n",
       "      <td>sample7-1.28_Nneg</td>\n",
       "      <td>15395</td>\n",
       "    </tr>\n",
       "    <tr>\n",
       "      <th>23</th>\n",
       "      <td>sample8-1.06_Npos</td>\n",
       "      <td>13025</td>\n",
       "    </tr>\n",
       "    <tr>\n",
       "      <th>24</th>\n",
       "      <td>sample8-4.04_Npos</td>\n",
       "      <td>15691</td>\n",
       "    </tr>\n",
       "    <tr>\n",
       "      <th>25</th>\n",
       "      <td>sample7-2.28_Npos</td>\n",
       "      <td>17179</td>\n",
       "    </tr>\n",
       "    <tr>\n",
       "      <th>26</th>\n",
       "      <td>sample3-4.18_Nneg</td>\n",
       "      <td>15158</td>\n",
       "    </tr>\n",
       "    <tr>\n",
       "      <th>27</th>\n",
       "      <td>sample2-2.10_Npos</td>\n",
       "      <td>15468</td>\n",
       "    </tr>\n",
       "    <tr>\n",
       "      <th>28</th>\n",
       "      <td>sample8-1.23_Npos</td>\n",
       "      <td>17422</td>\n",
       "    </tr>\n",
       "    <tr>\n",
       "      <th>29</th>\n",
       "      <td>sample7-4.02_Nneg</td>\n",
       "      <td>24371</td>\n",
       "    </tr>\n",
       "    <tr>\n",
       "      <th>...</th>\n",
       "      <td>...</td>\n",
       "      <td>...</td>\n",
       "    </tr>\n",
       "    <tr>\n",
       "      <th>80</th>\n",
       "      <td>sample7-1.04_Nneg</td>\n",
       "      <td>19410</td>\n",
       "    </tr>\n",
       "    <tr>\n",
       "      <th>81</th>\n",
       "      <td>sample8-4.01_Npos</td>\n",
       "      <td>8545</td>\n",
       "    </tr>\n",
       "    <tr>\n",
       "      <th>82</th>\n",
       "      <td>sample5-2.05_Npos</td>\n",
       "      <td>33192</td>\n",
       "    </tr>\n",
       "    <tr>\n",
       "      <th>83</th>\n",
       "      <td>sample3-1.20_Nneg</td>\n",
       "      <td>15445</td>\n",
       "    </tr>\n",
       "    <tr>\n",
       "      <th>84</th>\n",
       "      <td>sample3-3.30_Nneg</td>\n",
       "      <td>10819</td>\n",
       "    </tr>\n",
       "    <tr>\n",
       "      <th>85</th>\n",
       "      <td>sample8-3.07_Npos</td>\n",
       "      <td>6656</td>\n",
       "    </tr>\n",
       "    <tr>\n",
       "      <th>86</th>\n",
       "      <td>sample8-3.23_Npos</td>\n",
       "      <td>11727</td>\n",
       "    </tr>\n",
       "    <tr>\n",
       "      <th>87</th>\n",
       "      <td>sample3-2.19_Nneg</td>\n",
       "      <td>30365</td>\n",
       "    </tr>\n",
       "    <tr>\n",
       "      <th>88</th>\n",
       "      <td>sample7-3.19_Npos</td>\n",
       "      <td>8559</td>\n",
       "    </tr>\n",
       "    <tr>\n",
       "      <th>89</th>\n",
       "      <td>sample6-3.09_Nneg</td>\n",
       "      <td>10804</td>\n",
       "    </tr>\n",
       "    <tr>\n",
       "      <th>90</th>\n",
       "      <td>sample4-4.27_Npos</td>\n",
       "      <td>27978</td>\n",
       "    </tr>\n",
       "    <tr>\n",
       "      <th>91</th>\n",
       "      <td>sample6-1.12_Nneg</td>\n",
       "      <td>25367</td>\n",
       "    </tr>\n",
       "    <tr>\n",
       "      <th>92</th>\n",
       "      <td>sample8-2.05_Npos</td>\n",
       "      <td>7924</td>\n",
       "    </tr>\n",
       "    <tr>\n",
       "      <th>93</th>\n",
       "      <td>sample8-4.23_Nneg</td>\n",
       "      <td>8714</td>\n",
       "    </tr>\n",
       "    <tr>\n",
       "      <th>94</th>\n",
       "      <td>sample8-1.10_Npos</td>\n",
       "      <td>19493</td>\n",
       "    </tr>\n",
       "    <tr>\n",
       "      <th>95</th>\n",
       "      <td>sample8-4.07_Nneg</td>\n",
       "      <td>18308</td>\n",
       "    </tr>\n",
       "    <tr>\n",
       "      <th>96</th>\n",
       "      <td>sample7-2.05_Nneg</td>\n",
       "      <td>18300</td>\n",
       "    </tr>\n",
       "    <tr>\n",
       "      <th>97</th>\n",
       "      <td>sample8-2.25_Nneg</td>\n",
       "      <td>17443</td>\n",
       "    </tr>\n",
       "    <tr>\n",
       "      <th>98</th>\n",
       "      <td>sample2-1.24_Nneg</td>\n",
       "      <td>15981</td>\n",
       "    </tr>\n",
       "    <tr>\n",
       "      <th>99</th>\n",
       "      <td>sample3-1.06_Nneg</td>\n",
       "      <td>23946</td>\n",
       "    </tr>\n",
       "    <tr>\n",
       "      <th>100</th>\n",
       "      <td>sample6-1.18_Npos</td>\n",
       "      <td>11290</td>\n",
       "    </tr>\n",
       "    <tr>\n",
       "      <th>101</th>\n",
       "      <td>sample1-1.06_Nneg</td>\n",
       "      <td>19453</td>\n",
       "    </tr>\n",
       "    <tr>\n",
       "      <th>102</th>\n",
       "      <td>sample8-2.07_Nneg</td>\n",
       "      <td>14168</td>\n",
       "    </tr>\n",
       "    <tr>\n",
       "      <th>103</th>\n",
       "      <td>sample8-3.28_Npos</td>\n",
       "      <td>15450</td>\n",
       "    </tr>\n",
       "    <tr>\n",
       "      <th>104</th>\n",
       "      <td>sample7-2.30_Nneg</td>\n",
       "      <td>16430</td>\n",
       "    </tr>\n",
       "    <tr>\n",
       "      <th>105</th>\n",
       "      <td>Mock_comm</td>\n",
       "      <td>8980</td>\n",
       "    </tr>\n",
       "    <tr>\n",
       "      <th>106</th>\n",
       "      <td>sample3-4.18_Npos</td>\n",
       "      <td>10382</td>\n",
       "    </tr>\n",
       "    <tr>\n",
       "      <th>107</th>\n",
       "      <td>sample2-2.10_Nneg</td>\n",
       "      <td>18645</td>\n",
       "    </tr>\n",
       "    <tr>\n",
       "      <th>108</th>\n",
       "      <td>sample7-2.12_Nneg</td>\n",
       "      <td>16842</td>\n",
       "    </tr>\n",
       "    <tr>\n",
       "      <th>109</th>\n",
       "      <td>sample6-3.09_Npos</td>\n",
       "      <td>7056</td>\n",
       "    </tr>\n",
       "  </tbody>\n",
       "</table>\n",
       "<p>110 rows × 2 columns</p>\n",
       "</div>"
      ],
      "text/plain": [
       "                Sample  seq_count\n",
       "0    sample8-3.28_Nneg      10178\n",
       "1    sample8-1.06_Nneg       9153\n",
       "2    sample6-4.13_Npos       8561\n",
       "3    sample7-1.28_Npos      18741\n",
       "4    sample6-2.05_Npos      21015\n",
       "5    sample6-2.14_Npos       9083\n",
       "6    sample7-3.19_Nneg      24778\n",
       "7    sample8-1.14_Nneg      31614\n",
       "8    sample7-3.12_Nneg       8149\n",
       "9    sample8-2.17_Npos      13396\n",
       "10       Pos_Control_2          1\n",
       "11   sample6-4.13_Nneg       8341\n",
       "12   sample7-2.12_Npos      17419\n",
       "13   sample8-1.19_Nneg      10026\n",
       "14   sample6-2.14_Nneg      20913\n",
       "15   sample8-2.07_Npos       6902\n",
       "16   sample8-3.29_Nneg      12135\n",
       "17   sample8-3.23_Nneg      19474\n",
       "18   sample8-3.29_Npos       8445\n",
       "19   sample3-3.30_Npos      14424\n",
       "20   sample8-3.03_Npos       5642\n",
       "21   sample8-1.10_Nneg      20267\n",
       "22   sample7-1.28_Nneg      15395\n",
       "23   sample8-1.06_Npos      13025\n",
       "24   sample8-4.04_Npos      15691\n",
       "25   sample7-2.28_Npos      17179\n",
       "26   sample3-4.18_Nneg      15158\n",
       "27   sample2-2.10_Npos      15468\n",
       "28   sample8-1.23_Npos      17422\n",
       "29   sample7-4.02_Nneg      24371\n",
       "..                 ...        ...\n",
       "80   sample7-1.04_Nneg      19410\n",
       "81   sample8-4.01_Npos       8545\n",
       "82   sample5-2.05_Npos      33192\n",
       "83   sample3-1.20_Nneg      15445\n",
       "84   sample3-3.30_Nneg      10819\n",
       "85   sample8-3.07_Npos       6656\n",
       "86   sample8-3.23_Npos      11727\n",
       "87   sample3-2.19_Nneg      30365\n",
       "88   sample7-3.19_Npos       8559\n",
       "89   sample6-3.09_Nneg      10804\n",
       "90   sample4-4.27_Npos      27978\n",
       "91   sample6-1.12_Nneg      25367\n",
       "92   sample8-2.05_Npos       7924\n",
       "93   sample8-4.23_Nneg       8714\n",
       "94   sample8-1.10_Npos      19493\n",
       "95   sample8-4.07_Nneg      18308\n",
       "96   sample7-2.05_Nneg      18300\n",
       "97   sample8-2.25_Nneg      17443\n",
       "98   sample2-1.24_Nneg      15981\n",
       "99   sample3-1.06_Nneg      23946\n",
       "100  sample6-1.18_Npos      11290\n",
       "101  sample1-1.06_Nneg      19453\n",
       "102  sample8-2.07_Nneg      14168\n",
       "103  sample8-3.28_Npos      15450\n",
       "104  sample7-2.30_Nneg      16430\n",
       "105          Mock_comm       8980\n",
       "106  sample3-4.18_Npos      10382\n",
       "107  sample2-2.10_Nneg      18645\n",
       "108  sample7-2.12_Nneg      16842\n",
       "109  sample6-3.09_Npos       7056\n",
       "\n",
       "[110 rows x 2 columns]"
      ]
     },
     "execution_count": 38,
     "metadata": {},
     "output_type": "execute_result"
    }
   ],
   "source": [
    "# converting to dataframe\n",
    "df_seq_cnt = pd.DataFrame(seq_cnt.items(), columns=['Sample', 'seq_count'])\n",
    "df_seq_cnt"
   ]
  },
  {
   "cell_type": "code",
   "execution_count": 39,
   "metadata": {
    "collapsed": false
   },
   "outputs": [
    {
     "data": {
      "text/plain": [
       "           X..sample Library Sample_Number Sample_Well_ID Primer_Number\n",
       "1          Mock_comm       2            93            F12            93\n",
       "2      Neg_Control_1       2            91            G12            91\n",
       "3 Negative_Control_2       2            16            D11            16\n",
       "4        Pos_Control       2            92            H12            92\n",
       "5      Pos_Control_2       2            17            D12            17\n",
       "6  sample1-1.06_Nneg       2             4             D1             4\n",
       "  Primer_Well_ID primerFR_ID_byPlate primerFR_ID_total barcode_ID    PlotID\n",
       "1            F12                  94                94         94      <NA>\n",
       "2            G12                  95                95         95      <NA>\n",
       "3            D11                  84               180        180      <NA>\n",
       "4            H12                  96                96         96      <NA>\n",
       "5            D12                  92               188        188      <NA>\n",
       "6             D1                   4                 4          4 1.06_Nneg\n",
       "  Plant Plot Treatment Rep DAP Sampling  PlantSample Type Grass_Broad    Status\n",
       "1  <NA>   NA      <NA>  NA  NA     <NA>         <NA> <NA>        <NA>      <NA>\n",
       "2  <NA>   NA      <NA>  NA  NA     <NA>         <NA> <NA>        <NA>      <NA>\n",
       "3  <NA>   NA      <NA>  NA  NA     <NA>         <NA> <NA>        <NA>      <NA>\n",
       "4  <NA>   NA      <NA>  NA  NA     <NA>         <NA> <NA>        <NA>      <NA>\n",
       "5  <NA>   NA      <NA>  NA  NA     <NA>         <NA> <NA>        <NA>      <NA>\n",
       "6  BARE 1.06      Nneg   1  36  sample1 BARE sample1 BARE   Bare_Soil Bare_Soil\n",
       "  Subfamily fwd_barcode rev_barcode\n",
       "1      <NA>    CGTGAGTG    TCGCTATA\n",
       "2      <NA>    GGATATCT    TCGCTATA\n",
       "3      <NA>    TACGAGAC    TCATAGAC\n",
       "4      <NA>    GACACCGT    TCGCTATA\n",
       "5      <NA>    TACGAGAC    TCGCTATA\n",
       "6      <NA>    CTGCGTGT    AACTCTCG\n"
      ]
     },
     "metadata": {},
     "output_type": "display_data"
    }
   ],
   "source": [
    "%%R -i workDir -i metadataFile -i df_seq_cnt\n",
    "\n",
    "myDir = paste(c(workDir, '../'), collapse='')\n",
    "setwd(myDir)\n",
    "\n",
    "\n",
    "df_meta = read.delim(metadataFile)\n",
    "df_meta %>% head %>% print"
   ]
  },
  {
   "cell_type": "code",
   "execution_count": 40,
   "metadata": {
    "collapsed": false
   },
   "outputs": [
    {
     "data": {
      "text/plain": [
       "             Sample seq_count Library Sample_Number Sample_Well_ID\n",
       "1 sample8-3.28_Nneg     10178       2            12            E10\n",
       "2 sample8-1.06_Nneg      9153       2            46             A7\n",
       "3 sample6-4.13_Npos      8561       2            69             H9\n",
       "4 sample7-1.28_Npos     18741       2            15             G2\n",
       "5 sample6-2.05_Npos     21015       2             6             F1\n",
       "6 sample6-2.14_Npos      9083       2            65             D9\n",
       "  Primer_Number Primer_Well_ID primerFR_ID_byPlate primerFR_ID_total barcode_ID\n",
       "1            12             E2                  13               109        109\n",
       "2            46             A7                  49                49         49\n",
       "3            69             H9                  72                72         72\n",
       "4            15             G2                  15                15         15\n",
       "5             6             F1                   6                 6          6\n",
       "6            65             D9                  68                68         68\n",
       "     PlotID Plant Plot Treatment Rep DAP Sampling   PlantSample      Type\n",
       "1 3.28_Nneg Tx303 3.28      Nneg   3  88  sample8 Tx303 sample8     Maize\n",
       "2 1.06_Nneg  BARE 1.06      Nneg   1  88  sample8  BARE sample8      BARE\n",
       "3 4.13_Npos Hp301 4.13      Npos   4  79  sample6 Hp301 sample6     Maize\n",
       "4 1.28_Npos HELAN 1.28      Npos   1  84  sample7 HELAN sample7 Dicot-Myc\n",
       "5 2.05_Npos  BARE 2.05      Npos   2  79  sample6  BARE sample6      BARE\n",
       "6 2.14_Npos Hp301 2.14      Npos   2  79  sample6 Hp301 sample6     Maize\n",
       "  Grass_Broad    Status Subfamily fwd_barcode rev_barcode\n",
       "1     Monocot      Crop  Paniceae    ACGTCTCG    ACTATGTC\n",
       "2   Bare_Soil Bare_Soil      <NA>    ATCGTACG    GGAGACTA\n",
       "3     Monocot      Crop  Paniceae    GACACCGT    GTCGTAGT\n",
       "4       Dicot      Crop      <NA>    GGATATCT    ACTATGTC\n",
       "5   Bare_Soil Bare_Soil      <NA>    CGTGAGTG    AACTCTCG\n",
       "6     Monocot      Crop  Paniceae    CTGCGTGT    GTCGTAGT\n"
      ]
     },
     "metadata": {},
     "output_type": "display_data"
    }
   ],
   "source": [
    "%%R\n",
    "\n",
    "tbl.cnt = inner_join(df_seq_cnt, df_meta, c('Sample' = 'X..sample'))\n",
    "tbl.cnt %>% head"
   ]
  },
  {
   "cell_type": "code",
   "execution_count": 41,
   "metadata": {
    "collapsed": false
   },
   "outputs": [
    {
     "data": {
      "text/plain": [
       "              Sample seq_count Library Sample_Number Sample_Well_ID\n",
       "10 sample8-2.17_Npos     13396       2            81            D11\n",
       "   Primer_Number Primer_Well_ID primerFR_ID_byPlate primerFR_ID_total\n",
       "10            81            D11                  84                84\n",
       "   barcode_ID    PlotID Plant Plot Treatment Rep DAP Sampling  PlantSample\n",
       "10         84 2.17_Npos  Mo18 2.17      Npos   2  88  sample8 Mo18 sample8\n",
       "    Type Grass_Broad Status Subfamily fwd_barcode rev_barcode\n",
       "10 Maize     Monocot   Crop  Paniceae    CTGCGTGT    TCATAGAC\n"
      ]
     },
     "metadata": {},
     "output_type": "display_data"
    }
   ],
   "source": [
    "%%R\n",
    "\n",
    "tbl.cnt[10,] %>% print\n"
   ]
  },
  {
   "cell_type": "code",
   "execution_count": 42,
   "metadata": {
    "collapsed": false
   },
   "outputs": [
    {
     "data": {
      "image/png": "[encoded data removed]"
     },
     "metadata": {},
     "output_type": "display_data"
    }
   ],
   "source": [
    "%%R -w 800 -h 300\n",
    "\n",
    "\n",
    "ggplot(tbl.cnt, aes(Status, seq_count)) +\n",
    "    geom_boxplot()"
   ]
  }
 ],
 "metadata": {
  "hide_input": false,
  "kernelspec": {
   "display_name": "Python [default]",
   "language": "python",
   "name": "python2"
  },
  "language_info": {
   "codemirror_mode": {
    "name": "ipython",
    "version": 2
   },
   "file_extension": ".py",
   "mimetype": "text/x-python",
   "name": "python",
   "nbconvert_exporter": "python",
   "pygments_lexer": "ipython2",
   "version": "2.7.12"
  }
 },
 "nbformat": 4,
 "nbformat_minor": 0
}
