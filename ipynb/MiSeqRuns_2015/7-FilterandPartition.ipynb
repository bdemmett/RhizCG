{
 "cells": [
  {
   "cell_type": "markdown",
   "metadata": {},
   "source": [
    "# Description:\n",
    "        Implement sparsity filter\n",
    "        Prune non-samples and 2 ECHCG samples that were mislabeled\n",
    "        Final threshold: physeq.thresh = filter_taxa(physeq, \n",
    "                 function(x) sum(x > 3) > 3, TRUE)\n",
    "        Join plant growth and enzyme metadata\n",
    "        Save output for consistent use in other notebooks"
   ]
  },
  {
   "cell_type": "markdown",
   "metadata": {},
   "source": [
    "# Setting variables"
   ]
  },
  {
   "cell_type": "code",
   "execution_count": 1,
   "metadata": {
    "collapsed": true
   },
   "outputs": [],
   "source": [
    "workDir = '/home/bryan/RhizCG/data/MiSeq_amplicon/MergedRuns/physeq/'\n",
    "biomFileDir = '/home/bryan/RhizCG/data/MiSeq_amplicon/MergedRuns/OTU_binning/'\n",
    "\n",
    "biomFile = '/home/bryan/RhizCG/data/MiSeq_amplicon/MergedRuns/OTU_binning/otu_table_wtax.biom'\n",
    "metadataFile = '/home/bryan/RhizCG/data/MiSeq_amplicon/metadata_RhizCG_merged.txt' \n",
    "treeFile = '/home/bryan/RhizCG/data/MiSeq_amplicon/MergedRuns/fasttree/otusn_pick.tree'"
   ]
  },
  {
   "cell_type": "markdown",
   "metadata": {},
   "source": [
    "# Init"
   ]
  },
  {
   "cell_type": "code",
   "execution_count": 2,
   "metadata": {
    "collapsed": false
   },
   "outputs": [],
   "source": [
    "\n",
    "%load_ext rpy2.ipython"
   ]
  },
  {
   "cell_type": "code",
   "execution_count": 3,
   "metadata": {
    "collapsed": false,
    "scrolled": true
   },
   "outputs": [
    {
     "name": "stderr",
     "output_type": "stream",
     "text": [
      "/opt/anaconda2/lib/python2.7/site-packages/rpy2/rinterface/__init__.py:185: RRuntimeWarning: Loading required package: permute\n",
      "\n",
      "  warnings.warn(x, RRuntimeWarning)\n",
      "/opt/anaconda2/lib/python2.7/site-packages/rpy2/rinterface/__init__.py:185: RRuntimeWarning: Loading required package: lattice\n",
      "\n",
      "  warnings.warn(x, RRuntimeWarning)\n",
      "/opt/anaconda2/lib/python2.7/site-packages/rpy2/rinterface/__init__.py:185: RRuntimeWarning: This is vegan 2.4-1\n",
      "\n",
      "  warnings.warn(x, RRuntimeWarning)\n",
      "/opt/anaconda2/lib/python2.7/site-packages/rpy2/rinterface/__init__.py:185: RRuntimeWarning: foreach: simple, scalable parallel programming from Revolution Analytics\n",
      "Use Revolution R for scalability, fault tolerance and more.\n",
      "http://www.revolutionanalytics.com\n",
      "\n",
      "  warnings.warn(x, RRuntimeWarning)\n",
      "/opt/anaconda2/lib/python2.7/site-packages/rpy2/rinterface/__init__.py:185: RRuntimeWarning: Loading required package: iterators\n",
      "\n",
      "  warnings.warn(x, RRuntimeWarning)\n",
      "/opt/anaconda2/lib/python2.7/site-packages/rpy2/rinterface/__init__.py:185: RRuntimeWarning: Loading required package: parallel\n",
      "\n",
      "  warnings.warn(x, RRuntimeWarning)\n",
      "/opt/anaconda2/lib/python2.7/site-packages/rpy2/rinterface/__init__.py:185: RRuntimeWarning: \n",
      "Attaching package: ‘dplyr’\n",
      "\n",
      "\n",
      "  warnings.warn(x, RRuntimeWarning)\n",
      "/opt/anaconda2/lib/python2.7/site-packages/rpy2/rinterface/__init__.py:185: RRuntimeWarning: The following object is masked from ‘package:gridExtra’:\n",
      "\n",
      "    combine\n",
      "\n",
      "\n",
      "  warnings.warn(x, RRuntimeWarning)\n",
      "/opt/anaconda2/lib/python2.7/site-packages/rpy2/rinterface/__init__.py:185: RRuntimeWarning: The following objects are masked from ‘package:stats’:\n",
      "\n",
      "    filter, lag\n",
      "\n",
      "\n",
      "  warnings.warn(x, RRuntimeWarning)\n",
      "/opt/anaconda2/lib/python2.7/site-packages/rpy2/rinterface/__init__.py:185: RRuntimeWarning: The following objects are masked from ‘package:base’:\n",
      "\n",
      "    intersect, setdiff, setequal, union\n",
      "\n",
      "\n",
      "  warnings.warn(x, RRuntimeWarning)\n"
     ]
    }
   ],
   "source": [
    "%%R\n",
    "library(vegan)\n",
    "library(phyloseq)\n",
    "library(ggplot2)\n",
    "library(foreach)\n",
    "library(doParallel)\n",
    "library(gridExtra)\n",
    "library(dplyr)\n",
    "library(tidyr)"
   ]
  },
  {
   "cell_type": "markdown",
   "metadata": {},
   "source": [
    "# Loading/editting OTU table"
   ]
  },
  {
   "cell_type": "code",
   "execution_count": 4,
   "metadata": {
    "collapsed": false
   },
   "outputs": [],
   "source": [
    "%%R -i biomFile -i metadataFile -i workDir -i treeFile\n",
    "# loading\n",
    "setwd(workDir)\n",
    "\n",
    "## biom file\n",
    "physeq = import_biom(biomFile, treeFile)\n",
    "\n",
    "## loading sample metadata\n",
    "sample.data = import_qiime_sample_data(metadataFile)\n",
    "physeq = merge_phyloseq(physeq,sample.data)\n",
    "\n"
   ]
  },
  {
   "cell_type": "code",
   "execution_count": 7,
   "metadata": {
    "collapsed": false,
    "scrolled": true
   },
   "outputs": [
    {
     "data": {
      "text/plain": [
       "phyloseq-class experiment-level object\n",
       "otu_table()   OTU Table:         [ 11246 taxa and 249 samples ]\n",
       "sample_data() Sample Data:       [ 249 samples by 21 sample variables ]\n",
       "tax_table()   Taxonomy Table:    [ 11246 taxa by 8 taxonomic ranks ]\n",
       "phy_tree()    Phylogenetic Tree: [ 11246 tips and 11245 internal nodes ]\n"
      ]
     },
     "metadata": {},
     "output_type": "display_data"
    }
   ],
   "source": [
    "%%R\n",
    "physeq"
   ]
  },
  {
   "cell_type": "code",
   "execution_count": 5,
   "metadata": {
    "collapsed": false
   },
   "outputs": [
    {
     "data": {
      "text/plain": [
       "[1] 7517735\n"
      ]
     },
     "metadata": {},
     "output_type": "display_data"
    }
   ],
   "source": [
    "%%R\n",
    "physeq %>% \n",
    "    sample_sums %>%\n",
    "    sum()"
   ]
  },
  {
   "cell_type": "code",
   "execution_count": 8,
   "metadata": {
    "collapsed": false
   },
   "outputs": [
    {
     "data": {
      "text/plain": [
       "phyloseq-class experiment-level object\n",
       "otu_table()   OTU Table:         [ 11246 taxa and 238 samples ]\n",
       "sample_data() Sample Data:       [ 238 samples by 21 sample variables ]\n",
       "tax_table()   Taxonomy Table:    [ 11246 taxa by 8 taxonomic ranks ]\n",
       "phy_tree()    Phylogenetic Tree: [ 11246 tips and 11245 internal nodes ]\n"
      ]
     },
     "metadata": {},
     "output_type": "display_data"
    }
   ],
   "source": [
    "%%R\n",
    "#remove controls\n",
    "physeq = subset_samples(physeq, !is.na(Plant))\n",
    "\n",
    "#remove two ECHCG plots where only soil and no roots were collected and sequenced\n",
    "physeq = subset_samples(physeq, !(PlotID %in% c(\"4.16_Nneg\", \"4.16_Npos\"))) \n",
    "print(physeq)\n"
   ]
  },
  {
   "cell_type": "code",
   "execution_count": 9,
   "metadata": {
    "collapsed": false,
    "scrolled": true
   },
   "outputs": [
    {
     "data": {
      "text/plain": [
       "  [1] \"BARE\"        \"BARE\"        \"BARE\"        \"BARE\"        \"BARE\"       \n",
       "  [6] \"BARE\"        \"BARE\"        \"BARE\"        \"BARE\"        \"Rhizosphere\"\n",
       " [11] \"Rhizosphere\" \"BARE\"        \"Rhizosphere\" \"Rhizosphere\" \"Rhizosphere\"\n",
       " [16] \"BARE\"        \"Rhizosphere\" \"BARE\"        \"BARE\"        \"BARE\"       \n",
       " [21] \"BARE\"        \"Rhizosphere\" \"BARE\"        \"BARE\"        \"BARE\"       \n",
       " [26] \"Rhizosphere\" \"Rhizosphere\" \"BARE\"        \"Rhizosphere\" \"Rhizosphere\"\n",
       " [31] \"Rhizosphere\" \"Rhizosphere\" \"Rhizosphere\" \"Rhizosphere\" \"Rhizosphere\"\n",
       " [36] \"Rhizosphere\" \"BARE\"        \"BARE\"        \"Rhizosphere\" \"Rhizosphere\"\n",
       " [41] \"Rhizosphere\" \"Rhizosphere\" \"Rhizosphere\" \"BARE\"        \"BARE\"       \n",
       " [46] \"Rhizosphere\" \"Rhizosphere\" \"Rhizosphere\" \"Rhizosphere\" \"Rhizosphere\"\n",
       " [51] \"Rhizosphere\" \"BARE\"        \"Rhizosphere\" \"Rhizosphere\" \"Rhizosphere\"\n",
       " [56] \"BARE\"        \"BARE\"        \"Rhizosphere\" \"Rhizosphere\" \"Rhizosphere\"\n",
       " [61] \"Rhizosphere\" \"Rhizosphere\" \"BARE\"        \"Rhizosphere\" \"Rhizosphere\"\n",
       " [66] \"Rhizosphere\" \"Rhizosphere\" \"Rhizosphere\" \"BARE\"        \"Rhizosphere\"\n",
       " [71] \"BARE\"        \"Rhizosphere\" \"Rhizosphere\" \"BARE\"        \"Rhizosphere\"\n",
       " [76] \"BARE\"        \"Rhizosphere\" \"Rhizosphere\" \"BARE\"        \"BARE\"       \n",
       " [81] \"Rhizosphere\" \"Rhizosphere\" \"Rhizosphere\" \"Rhizosphere\" \"Rhizosphere\"\n",
       " [86] \"Rhizosphere\" \"Rhizosphere\" \"Rhizosphere\" \"Rhizosphere\" \"Rhizosphere\"\n",
       " [91] \"BARE\"        \"BARE\"        \"Rhizosphere\" \"Rhizosphere\" \"Rhizosphere\"\n",
       " [96] \"Rhizosphere\" \"Rhizosphere\" \"Rhizosphere\" \"BARE\"        \"BARE\"       \n",
       "[101] \"Rhizosphere\" \"Rhizosphere\" \"Rhizosphere\" \"Rhizosphere\" \"BARE\"       \n",
       "[106] \"Rhizosphere\" \"BARE\"        \"Rhizosphere\" \"Rhizosphere\" \"BARE\"       \n",
       "[111] \"Rhizosphere\" \"Rhizosphere\" \"Rhizosphere\" \"Rhizosphere\" \"Rhizosphere\"\n",
       "[116] \"Rhizosphere\" \"Rhizosphere\" \"Rhizosphere\" \"Rhizosphere\" \"Rhizosphere\"\n",
       "[121] \"Rhizosphere\" \"Rhizosphere\" \"Rhizosphere\" \"Rhizosphere\" \"Rhizosphere\"\n",
       "[126] \"Rhizosphere\" \"Rhizosphere\" \"Rhizosphere\" \"Rhizosphere\" \"Rhizosphere\"\n",
       "[131] \"Rhizosphere\" \"Rhizosphere\" \"Rhizosphere\" \"Rhizosphere\" \"Rhizosphere\"\n",
       "[136] \"Rhizosphere\" \"Rhizosphere\" \"Rhizosphere\" \"Rhizosphere\" \"Rhizosphere\"\n",
       "[141] \"Rhizosphere\" \"BARE\"        \"BARE\"        \"Rhizosphere\" \"Rhizosphere\"\n",
       "[146] \"BARE\"        \"Rhizosphere\" \"BARE\"        \"Rhizosphere\" \"Rhizosphere\"\n",
       "[151] \"Rhizosphere\" \"BARE\"        \"Rhizosphere\" \"Rhizosphere\" \"Rhizosphere\"\n",
       "[156] \"Rhizosphere\" \"Rhizosphere\" \"Rhizosphere\" \"Rhizosphere\" \"Rhizosphere\"\n",
       "[161] \"Rhizosphere\" \"Rhizosphere\" \"BARE\"        \"BARE\"        \"Rhizosphere\"\n",
       "[166] \"BARE\"        \"Rhizosphere\" \"BARE\"        \"Rhizosphere\" \"BARE\"       \n",
       "[171] \"Rhizosphere\" \"Rhizosphere\" \"Rhizosphere\" \"Rhizosphere\" \"Rhizosphere\"\n",
       "[176] \"Rhizosphere\" \"Rhizosphere\" \"Rhizosphere\" \"Rhizosphere\" \"Rhizosphere\"\n",
       "[181] \"Rhizosphere\" \"Rhizosphere\" \"BARE\"        \"Rhizosphere\" \"Rhizosphere\"\n",
       "[186] \"Rhizosphere\" \"Rhizosphere\" \"Rhizosphere\" \"Rhizosphere\" \"BARE\"       \n",
       "[191] \"Rhizosphere\" \"Rhizosphere\" \"Rhizosphere\" \"Rhizosphere\" \"Rhizosphere\"\n",
       "[196] \"BARE\"        \"Rhizosphere\" \"Rhizosphere\" \"Rhizosphere\" \"BARE\"       \n",
       "[201] \"Rhizosphere\" \"Rhizosphere\" \"Rhizosphere\" \"BARE\"        \"Rhizosphere\"\n",
       "[206] \"Rhizosphere\" \"Rhizosphere\" \"Rhizosphere\" \"Rhizosphere\" \"Rhizosphere\"\n",
       "[211] \"BARE\"        \"Rhizosphere\" \"BARE\"        \"Rhizosphere\" \"BARE\"       \n",
       "[216] \"Rhizosphere\" \"Rhizosphere\" \"Rhizosphere\" \"Rhizosphere\" \"Rhizosphere\"\n",
       "[221] \"Rhizosphere\" \"BARE\"        \"Rhizosphere\" \"Rhizosphere\" \"Rhizosphere\"\n",
       "[226] \"Rhizosphere\" \"BARE\"        \"Rhizosphere\" \"Rhizosphere\" \"BARE\"       \n",
       "[231] \"Rhizosphere\" \"Rhizosphere\" \"BARE\"        \"Rhizosphere\" \"Rhizosphere\"\n",
       "[236] \"Rhizosphere\" \"BARE\"        \"BARE\"       \n"
      ]
     },
     "metadata": {},
     "output_type": "display_data"
    }
   ],
   "source": [
    "%%R\n",
    "\n",
    "sample_data(physeq)$Planted = ifelse(sample_data(physeq)$Plant == \"BARE\", \"BARE\", \"Rhizosphere\")\n",
    "sample_data(physeq)$Planted"
   ]
  },
  {
   "cell_type": "markdown",
   "metadata": {
    "collapsed": false
   },
   "source": [
    "### apply gsub across columns replacing __ w/ \"\" reload tax_table to phyloseq object"
   ]
  },
  {
   "cell_type": "code",
   "execution_count": 10,
   "metadata": {
    "collapsed": true
   },
   "outputs": [],
   "source": [
    "%%R\n",
    "t = tax_table(physeq)\n",
    "t = apply(t, 2, function(y) gsub(\"__\", \"\", y))\n",
    "tax_table(physeq) = t"
   ]
  },
  {
   "cell_type": "markdown",
   "metadata": {},
   "source": [
    "## Join plant data"
   ]
  },
  {
   "cell_type": "code",
   "execution_count": 11,
   "metadata": {
    "collapsed": false
   },
   "outputs": [
    {
     "data": {
      "text/plain": [
       " [1] \"Unique\"             \"PlotID\"             \"Plant\"             \n",
       " [4] \"Plot\"               \"Treatment\"          \"Rep\"               \n",
       " [7] \"DAP\"                \"Sampling\"           \"PlantSample\"       \n",
       "[10] \"Type\"               \"Grass_Broad\"        \"Status\"            \n",
       "[13] \"Subfamily\"          \"Symbol_class\"       \"Plant_num\"         \n",
       "[16] \"Leaf_AreaBiomass_g\" \"Biomass_T\"          \"Biomass_P\"         \n",
       "[19] \"Leaf_Area_cm2\"      \"SLA\"                \"Leaf_N\"            \n",
       "[22] \"Leaf_C\"             \"LeafC_N\"            \"LNa\"               \n",
       "[25] \"Plant_N\"            \"Plant_C\"            \"Plant_CN\"          \n",
       "[28] \"d15N\"               \"tN_p\"               \"BX_act\"            \n",
       "[31] \"CB_act\"             \"LAP_act\"            \"NAG_act\"           \n",
       "[34] \"soil_dw\"            \"BX_activity_g\"      \"CB_activity_g\"     \n",
       "[37] \"LAP_activity_g\"     \"NAG_activity_g\"     \"BX_barefactor\"     \n",
       "[40] \"CB_barefactor\"      \"LAP_barefactor\"     \"NAG_barefactor\"    \n",
       "[43] \"BX_dif\"             \"CB_dif\"             \"LAP_dif\"           \n",
       "[46] \"NAG_dif\"            \"BX_rel\"             \"CB_rel\"            \n",
       "[49] \"LAP_rel\"            \"NAG_rel\"            \"NO3_ug_g\"          \n",
       "[52] \"NH4_ug_g\"           \"InorganicN\"         \"Resid_logB\"        \n",
       "[55] \"Resid_logN\"         \"Resid_logCN\"        \"Resid_logSLA\"      \n",
       "[58] \"Resid_LeafN\"        \"A_Resid_logB\"       \"A_Resid_logN\"      \n",
       "[61] \"A_Resid_logCN\"      \"M_Resid_logB\"       \"M_Resid_logN\"      \n",
       "[64] \"M_Resid_logCN\"     \n"
      ]
     },
     "metadata": {},
     "output_type": "display_data"
    }
   ],
   "source": [
    "%%R\n",
    "plantData = read.table('/home/bryan/RhizCG/data/MiSeq_amplicon/PlotData.txt', header = TRUE)\n",
    "colnames(plantData)"
   ]
  },
  {
   "cell_type": "code",
   "execution_count": 12,
   "metadata": {
    "collapsed": false,
    "scrolled": true
   },
   "outputs": [
    {
     "data": {
      "text/plain": [
       "Sample Data:        [6 samples by 55 sample variables]:\n",
       "                           X.sample Library Primer_Plate Primer_Well_ID\n",
       "sample2-1.06_Npos sample2-1.06_Npos       1            1             H9\n",
       "sample6-4.27_Npos sample6-4.27_Npos       1            2            F11\n",
       "sample4-4.27_Nneg sample4-4.27_Nneg       1            1            B12\n",
       "sample4-1.06_Nneg sample4-1.06_Nneg       1            1            E11\n",
       "sample2-1.06_Nneg sample2-1.06_Nneg       1            1             G9\n",
       "sample6-3.07_Nneg sample6-3.07_Nneg       1            2            C11\n",
       "                  primerFR_ID_byPlate primerFR_ID_total barcode_ID    PlotID\n",
       "sample2-1.06_Npos                  72                72         72 1.06_Npos\n",
       "sample6-4.27_Npos                  86               182        182 4.27_Npos\n",
       "sample4-4.27_Nneg                  90                90         90 4.27_Nneg\n",
       "sample4-1.06_Nneg                  85                85         85 1.06_Nneg\n",
       "sample2-1.06_Nneg                  71                71         71 1.06_Nneg\n",
       "sample6-3.07_Nneg                  83               179        179 3.07_Nneg\n",
       "                  Plant Plot Treatment Rep DAP Sampling  PlantSample Type\n",
       "sample2-1.06_Npos  BARE 1.06      Npos   1  53  sample2 BARE_sample2 BARE\n",
       "sample6-4.27_Npos  BARE 4.27      Npos   4  79  sample6 BARE_sample6 BARE\n",
       "sample4-4.27_Nneg  BARE 4.27      Nneg   4  61  sample4 BARE_sample4 BARE\n",
       "sample4-1.06_Nneg  BARE 1.06      Nneg   1  61  sample4 BARE_sample4 BARE\n",
       "sample2-1.06_Nneg  BARE 1.06      Nneg   1  53  sample2 BARE_sample2 BARE\n",
       "sample6-3.07_Nneg  BARE 3.07      Nneg   3  79  sample6 BARE_sample6 BARE\n",
       "                  Grass_Broad    Status Subfamily fwd_barcode rev_barcode\n",
       "sample2-1.06_Npos   Bare_Soil Bare_Soil      <NA>    GACACCGT    GTCGTAGT\n",
       "sample6-4.27_Npos   Bare_Soil Bare_Soil      <NA>    TCGACGAG    TCATAGAC\n",
       "sample4-4.27_Nneg   Bare_Soil Bare_Soil      <NA>    ACTATCTG    TCGCTATA\n",
       "sample4-1.06_Nneg   Bare_Soil Bare_Soil      <NA>    TCATCGAG    TCATAGAC\n",
       "sample2-1.06_Nneg   Bare_Soil Bare_Soil      <NA>    GGATATCT    GTCGTAGT\n",
       "sample6-3.07_Nneg   Bare_Soil Bare_Soil      <NA>    AGAGTCAC    TCATAGAC\n",
       "                  Planted Biomass_P SLA Leaf_N Leaf_C LeafC_N LNa Plant_N\n",
       "sample2-1.06_Npos    BARE        NA  NA     NA     NA      NA  NA      NA\n",
       "sample6-4.27_Npos    BARE        NA  NA     NA     NA      NA  NA      NA\n",
       "sample4-4.27_Nneg    BARE        NA  NA     NA     NA      NA  NA      NA\n",
       "sample4-1.06_Nneg    BARE        NA  NA     NA     NA      NA  NA      NA\n",
       "sample2-1.06_Nneg    BARE        NA  NA     NA     NA      NA  NA      NA\n",
       "sample6-3.07_Nneg    BARE        NA  NA     NA     NA      NA  NA      NA\n",
       "                  Plant_C Plant_CN d15N tN_p BX_activity_g CB_activity_g\n",
       "sample2-1.06_Npos      NA       NA   NA   NA      14.37839      15.33743\n",
       "sample6-4.27_Npos      NA       NA   NA   NA      18.04300      15.58645\n",
       "sample4-4.27_Nneg      NA       NA   NA   NA      14.21998      13.41572\n",
       "sample4-1.06_Nneg      NA       NA   NA   NA      12.47174      13.43524\n",
       "sample2-1.06_Nneg      NA       NA   NA   NA      13.38694      13.77502\n",
       "sample6-3.07_Nneg      NA       NA   NA   NA      16.99917      14.24016\n",
       "                  LAP_activity_g NAG_activity_g    BX_rel    CB_rel   LAP_rel\n",
       "sample2-1.06_Npos       126.3710       8.072898 0.9619222 1.0052433 1.0369561\n",
       "sample6-4.27_Npos       162.8417      11.510046 1.0309013 1.1157114 0.9495615\n",
       "sample4-4.27_Nneg       136.3123      14.630640 1.1099157 1.0489005 0.9709171\n",
       "sample4-1.06_Nneg       143.7310      11.876664 0.9734603 1.0504268 1.0237586\n",
       "sample2-1.06_Nneg       117.3431       8.576193 0.9103885 0.9385065 0.9792538\n",
       "sample6-3.07_Nneg       138.1199      11.177559 0.9434827 0.9449057 0.8154543\n",
       "                    NAG_rel  NO3_ug_g NH4_ug_g InorganicN Resid_logB Resid_logN\n",
       "sample2-1.06_Npos 0.9529984 25.984235 5.047010  31.031245         NA         NA\n",
       "sample6-4.27_Npos 1.0731442 14.538577 3.240556  17.779133         NA         NA\n",
       "sample4-4.27_Nneg 1.2257096  8.496635 4.921609  13.418243         NA         NA\n",
       "sample4-1.06_Nneg 0.9949900  8.141044 4.140496  12.281540         NA         NA\n",
       "sample2-1.06_Nneg 0.9713514  7.457856 3.334849  10.792706         NA         NA\n",
       "sample6-3.07_Nneg 0.9017986  7.086914 2.663943   9.750856         NA         NA\n",
       "                  Resid_logCN Resid_logSLA Resid_LeafN A_Resid_logB\n",
       "sample2-1.06_Npos          NA           NA          NA           NA\n",
       "sample6-4.27_Npos          NA           NA          NA           NA\n",
       "sample4-4.27_Nneg          NA           NA          NA           NA\n",
       "sample4-1.06_Nneg          NA           NA          NA           NA\n",
       "sample2-1.06_Nneg          NA           NA          NA           NA\n",
       "sample6-3.07_Nneg          NA           NA          NA           NA\n",
       "                  A_Resid_logN A_Resid_logCN M_Resid_logB M_Resid_logN\n",
       "sample2-1.06_Npos           NA            NA           NA           NA\n",
       "sample6-4.27_Npos           NA            NA           NA           NA\n",
       "sample4-4.27_Nneg           NA            NA           NA           NA\n",
       "sample4-1.06_Nneg           NA            NA           NA           NA\n",
       "sample2-1.06_Nneg           NA            NA           NA           NA\n",
       "sample6-3.07_Nneg           NA            NA           NA           NA\n",
       "                  M_Resid_logCN\n",
       "sample2-1.06_Npos            NA\n",
       "sample6-4.27_Npos            NA\n",
       "sample4-4.27_Nneg            NA\n",
       "sample4-1.06_Nneg            NA\n",
       "sample2-1.06_Nneg            NA\n",
       "sample6-3.07_Nneg            NA\n"
      ]
     },
     "metadata": {},
     "output_type": "display_data"
    }
   ],
   "source": [
    "%%R\n",
    "s = sample_data(physeq)\n",
    "PD = plantData[,c(1,18, 20:29, 35:38, 47:64)]\n",
    "s2 = left_join(s, PD, by = c(\"X.sample\" = \"Unique\"))\n",
    "rownames(s2) = s2$X.sample\n",
    "sample_data(physeq) = s2\n",
    "sample_data(physeq) %>% head"
   ]
  },
  {
   "cell_type": "code",
   "execution_count": null,
   "metadata": {
    "collapsed": true
   },
   "outputs": [],
   "source": []
  },
  {
   "cell_type": "markdown",
   "metadata": {},
   "source": [
    "# Explore Filtering Functions"
   ]
  },
  {
   "cell_type": "code",
   "execution_count": 13,
   "metadata": {
    "collapsed": false
   },
   "outputs": [
    {
     "data": {
      "text/plain": [
       "phyloseq-class experiment-level object\n",
       "otu_table()   OTU Table:         [ 4982 taxa and 238 samples ]\n",
       "sample_data() Sample Data:       [ 238 samples by 55 sample variables ]\n",
       "tax_table()   Taxonomy Table:    [ 4982 taxa by 8 taxonomic ranks ]\n",
       "phy_tree()    Phylogenetic Tree: [ 4982 tips and 4981 internal nodes ]\n"
      ]
     },
     "metadata": {},
     "output_type": "display_data"
    }
   ],
   "source": [
    "%%R \n",
    "physeq.thresh = filter_taxa(physeq, \n",
    "                 function(x) sum(x > 3) > 3, TRUE)\n",
    "physeq.thresh"
   ]
  },
  {
   "cell_type": "markdown",
   "metadata": {},
   "source": [
    "### rarefy to even depth"
   ]
  },
  {
   "cell_type": "code",
   "execution_count": 14,
   "metadata": {
    "collapsed": false
   },
   "outputs": [
    {
     "name": "stderr",
     "output_type": "stream",
     "text": [
      "/opt/anaconda2/lib/python2.7/site-packages/rpy2/rinterface/__init__.py:185: RRuntimeWarning: You set `rngseed` to FALSE. Make sure you've set & recorded\n",
      " the random seed of your session for reproducibility.\n",
      "See `?set.seed`\n",
      "\n",
      "\n",
      "  warnings.warn(x, RRuntimeWarning)\n",
      "/opt/anaconda2/lib/python2.7/site-packages/rpy2/rinterface/__init__.py:185: RRuntimeWarning: ...\n",
      "\n",
      "  warnings.warn(x, RRuntimeWarning)\n"
     ]
    },
    {
     "data": {
      "text/plain": [
       "sample2-1.06_Npos sample6-4.27_Npos sample4-4.27_Nneg sample4-1.06_Nneg \n",
       "             4989              4989              4989              4989 \n",
       "sample2-1.06_Nneg sample6-3.07_Nneg sample5-3.07_Nneg sample6-3.07_Npos \n",
       "             4989              4989              4989              4989 \n",
       "sample3-3.07_Npos sample5-1.22_Nneg sample6-4.12_Npos sample1-4.27_Npos \n",
       "             4989              4989              4989              4989 \n",
       "sample4-1.03_Npos sample5-2.06_Npos sample5-4.08_Npos sample4-3.07_Nneg \n",
       "             4989              4989              4989              4989 \n",
       "sample5-4.28_Npos sample6-1.06_Npos sample4-2.05_Nneg sample2-4.27_Nneg \n",
       "             4989              4989              4989              4989 \n",
       "sample1-2.05_Nneg sample5-1.29_Npos sample5-4.27_Npos sample5-4.27_Nneg \n",
       "             4989              4989              4989              4989 \n",
       "sample1-3.07_Nneg sample4-2.02_Nneg sample4-4.21_Nneg sample2-2.05_Nneg \n",
       "             4989              4989              4989              4989 \n",
       "sample6-2.13_Npos sample5-2.29_Nneg sample5-2.06_Nneg sample1-2.23_Nneg \n",
       "             4989              4989              4989              4989 \n",
       "sample6-2.26_Nneg sample6-3.18_Nneg sample5-3.13_Nneg sample2-2.08_Nneg \n",
       "             4989              4989              4989              4989 \n",
       "sample1-2.05_Npos sample3-2.05_Nneg sample5-1.17_Nneg sample6-3.01_Npos \n",
       "             4989              4989              4989              4989 \n",
       "sample3-2.03_Nneg sample5-4.08_Nneg sample5-4.05_Npos sample5-1.06_Npos \n",
       "             4989              4989              4989              4989 \n",
       "sample1-4.27_Nneg sample6-2.16_Npos sample1-4.24_Nneg sample5-4.28_Nneg \n",
       "             4989              4989              4989              4989 \n",
       "sample6-2.13_Nneg sample1-3.08_Npos sample6-3.04_Npos sample6-1.06_Nneg \n",
       "             4989              4989              4989              4989 \n",
       "sample4-1.03_Nneg sample5-1.22_Npos sample6-1.15_Nneg sample2-2.05_Npos \n",
       "             4989              4989              4989              4989 \n",
       "sample2-4.27_Npos sample5-2.11_Nneg sample4-4.21_Npos sample6-4.12_Nneg \n",
       "             4989              4989              4989              4989 \n",
       "sample5-1.25_Nneg sample6-4.17_Npos sample3-1.06_Npos sample6-3.04_Nneg \n",
       "             4989              4989              4989              4989 \n",
       "sample5-3.27_Nneg sample6-1.15_Npos sample5-3.11_Nneg sample5-2.11_Npos \n",
       "             4989              4989              4989              4989 \n",
       "sample4-3.07_Npos sample5-3.17_Npos sample5-3.07_Npos sample5-1.17_Npos \n",
       "             4989              4989              4989              4989 \n",
       "sample3-3.06_Nneg sample3-2.05_Npos sample2-3.05_Nneg sample6-4.27_Nneg \n",
       "             4989              4989              4989              4989 \n",
       "sample6-1.07_Npos sample5-3.13_Npos sample5-1.06_Nneg sample3-4.27_Nneg \n",
       "             4989              4989              4989              4989 \n",
       "sample5-4.09_Npos sample6-4.30_Npos sample6-1.12_Npos sample6-3.18_Npos \n",
       "             4989              4989              4989              4989 \n",
       "sample1-4.24_Npos sample3-3.06_Npos sample5-4.06_Nneg sample6-4.17_Nneg \n",
       "             4989              4989              4989              4989 \n",
       "sample5-3.11_Npos sample5-3.16_Npos sample5-2.05_Nneg sample3-3.07_Nneg \n",
       "             4989              4989              4989              4989 \n",
       "sample1-1.27_Npos sample5-4.05_Nneg sample5-1.25_Npos sample6-1.07_Nneg \n",
       "             4989              4989              4989              4989 \n",
       "sample5-2.18_Nneg sample6-2.26_Npos sample6-2.05_Nneg sample2-3.07_Nneg \n",
       "             4989              4989              4989              4989 \n",
       "sample5-3.16_Nneg sample5-4.06_Npos sample3-1.09_Npos sample3-4.15_Nneg \n",
       "             4989              4989              4989              4989 \n",
       "sample1-3.07_Npos sample5-2.15_Npos sample4-2.05_Npos sample6-4.30_Nneg \n",
       "             4989              4989              4989              4989 \n",
       "sample5-3.27_Npos sample2-3.07_Npos sample6-1.12_Nneg sample4-3.10_Npos \n",
       "             4989              4989              4989              4989 \n",
       "sample6-2.16_Nneg sample5-3.17_Nneg sample5-1.16_Npos sample3-2.03_Npos \n",
       "             4989              4989              4989              4989 \n",
       "sample1-2.23_Npos sample5-4.09_Nneg sample2-2.08_Npos sample2-3.05_Npos \n",
       "             4989              4989              4989              4989 \n",
       "sample2-1.08_Nneg sample3-4.15_Npos sample6-3.01_Nneg sample5-1.16_Nneg \n",
       "             4989              4989              4989              4989 \n",
       "sample2-1.08_Npos sample1-1.27_Nneg sample4-3.10_Nneg sample5-1.29_Nneg \n",
       "             4989              4989              4989              4989 \n",
       "sample4-2.02_Npos sample5-2.15_Nneg sample1-3.08_Nneg sample3-1.09_Nneg \n",
       "             4989              4989              4989              4989 \n",
       "sample2-4.25_Nneg sample5-2.18_Npos sample5-2.29_Npos sample2-4.25_Npos \n",
       "             4989              4989              4989              4989 \n",
       "sample7-1.13_Npos sample7-4.02_Npos sample8-2.07_Nneg sample7-4.02_Nneg \n",
       "             4989              4989              4989              4989 \n",
       "sample3-1.20_Npos sample8-4.27_Npos sample5-2.05_Npos sample7-1.04_Npos \n",
       "             4989              4989              4989              4989 \n",
       "sample8-4.23_Nneg sample4-4.27_Npos sample7-3.19_Nneg sample7-1.06_Nneg \n",
       "             4989              4989              4989              4989 \n",
       "sample7-4.03_Npos sample8-1.14_Npos sample7-2.12_Npos sample3-1.06_Nneg \n",
       "             4989              4989              4989              4989 \n",
       "sample3-4.18_Nneg sample8-3.28_Npos sample6-1.18_Nneg sample7-2.12_Nneg \n",
       "             4989              4989              4989              4989 \n",
       "sample7-2.28_Nneg sample2-2.10_Nneg sample8-2.17_Npos sample3-2.19_Npos \n",
       "             4989              4989              4989              4989 \n",
       "sample8-2.25_Nneg sample6-3.09_Nneg sample8-2.05_Nneg sample4-1.06_Npos \n",
       "             4989              4989              4989              4989 \n",
       "sample2-3.20_Npos sample6-2.05_Npos sample2-3.20_Nneg sample8-3.07_Nneg \n",
       "             4989              4989              4989              4989 \n",
       "sample3-3.30_Npos sample8-1.06_Npos sample8-4.23_Npos sample8-3.03_Npos \n",
       "             4989              4989              4989              4989 \n",
       "sample6-4.13_Npos sample8-4.07_Nneg sample6-1.18_Npos sample7-3.25_Npos \n",
       "             4989              4989              4989              4989 \n",
       "sample8-3.23_Nneg sample7-2.30_Npos sample7-1.13_Nneg sample8-2.22_Npos \n",
       "             4989              4989              4989              4989 \n",
       "sample7-2.30_Nneg sample2-1.24_Npos sample7-3.07_Nneg sample6-2.14_Npos \n",
       "             4989              4989              4989              4989 \n",
       "sample8-1.14_Nneg sample3-1.20_Nneg sample8-1.19_Npos sample7-2.28_Npos \n",
       "             4989              4989              4989              4989 \n",
       "sample7-3.19_Npos sample8-1.06_Nneg sample7-1.04_Nneg sample8-1.19_Nneg \n",
       "             4989              4989              4989              4989 \n",
       "sample7-3.12_Nneg sample7-4.03_Nneg sample7-1.28_Npos sample7-2.05_Nneg \n",
       "             4989              4989              4989              4989 \n",
       "sample8-1.10_Npos sample7-1.28_Nneg sample7-3.25_Nneg sample7-2.05_Npos \n",
       "             4989              4989              4989              4989 \n",
       "sample2-1.24_Nneg sample8-1.10_Nneg sample8-4.01_Npos sample3-4.27_Npos \n",
       "             4989              4989              4989              4989 \n",
       "sample7-4.14_Npos sample8-4.01_Nneg sample8-2.17_Nneg sample6-3.09_Npos \n",
       "             4989              4989              4989              4989 \n",
       "sample8-2.22_Nneg sample8-3.29_Nneg sample1-1.06_Npos sample8-4.07_Npos \n",
       "             4989              4989              4989              4989 \n",
       "sample8-4.27_Nneg sample8-1.23_Npos sample7-3.07_Npos sample8-3.28_Nneg \n",
       "             4989              4989              4989              4989 \n",
       "sample2-2.10_Npos sample6-4.13_Nneg sample3-2.19_Nneg sample7-3.12_Npos \n",
       "             4989              4989              4989              4989 \n",
       "sample8-3.23_Npos sample8-2.05_Npos sample8-3.29_Npos sample8-1.23_Nneg \n",
       "             4989              4989              4989              4989 \n",
       "sample6-2.14_Nneg sample8-4.04_Nneg sample8-3.07_Npos sample3-3.30_Nneg \n",
       "             4989              4989              4989              4989 \n",
       "sample7-4.14_Nneg sample1-1.06_Nneg sample8-2.07_Npos sample3-4.18_Npos \n",
       "             4989              4989              4989              4989 \n",
       "sample7-4.27_Nneg sample8-4.04_Npos sample8-2.25_Npos sample8-3.03_Nneg \n",
       "             4989              4989              4989              4989 \n",
       "sample7-1.06_Npos sample7-4.27_Npos \n",
       "             4989              4989 \n"
      ]
     },
     "metadata": {},
     "output_type": "display_data"
    }
   ],
   "source": [
    "%%R\n",
    "set.seed(605)\n",
    "physeq.r = rarefy_even_depth(physeq.thresh)\n",
    "sample_sums(physeq.r)"
   ]
  },
  {
   "cell_type": "code",
   "execution_count": 34,
   "metadata": {
    "collapsed": false
   },
   "outputs": [
    {
     "data": {
      "text/plain": [
       "phyloseq-class experiment-level object\n",
       "otu_table()   OTU Table:         [ 4982 taxa and 238 samples ]\n",
       "sample_data() Sample Data:       [ 238 samples by 55 sample variables ]\n",
       "tax_table()   Taxonomy Table:    [ 4982 taxa by 8 taxonomic ranks ]\n",
       "phy_tree()    Phylogenetic Tree: [ 4982 tips and 4981 internal nodes ]\n"
      ]
     },
     "metadata": {},
     "output_type": "display_data"
    }
   ],
   "source": [
    "%%R\n",
    "PassFilter = \n",
    "physeq.thresh %>%\n",
    "                 taxa_names()\n",
    "\n",
    "physeq.snorm = transform_sample_counts(physeq, function(x) x/sum(x))\n",
    "\n",
    "physeq.snorm = prune_taxa(PassFilter, physeq.snorm)  \n",
    "    \n",
    "physeq.snorm    "
   ]
  },
  {
   "cell_type": "markdown",
   "metadata": {},
   "source": [
    "Filtering function\n",
    "function(x): sum(x > 3) > 3, TRUE): 4982 taxa \n"
   ]
  },
  {
   "cell_type": "code",
   "execution_count": 35,
   "metadata": {
    "collapsed": false
   },
   "outputs": [
    {
     "data": {
      "text/plain": [
       "[1] 7413237\n"
      ]
     },
     "metadata": {},
     "output_type": "display_data"
    }
   ],
   "source": [
    "%%R\n",
    "sample_sums(physeq) %>% sum"
   ]
  },
  {
   "cell_type": "code",
   "execution_count": 36,
   "metadata": {
    "collapsed": false
   },
   "outputs": [
    {
     "data": {
      "text/plain": [
       "[1] 7244839\n"
      ]
     },
     "metadata": {},
     "output_type": "display_data"
    }
   ],
   "source": [
    "%%R\n",
    "sample_sums(physeq.thresh) %>% sum"
   ]
  },
  {
   "cell_type": "code",
   "execution_count": 37,
   "metadata": {
    "collapsed": false
   },
   "outputs": [
    {
     "data": {
      "text/plain": [
       "[1] 232.8966\n"
      ]
     },
     "metadata": {},
     "output_type": "display_data"
    }
   ],
   "source": [
    "%%R\n",
    "sample_sums(physeq.snorm) %>% sum"
   ]
  },
  {
   "cell_type": "code",
   "execution_count": 38,
   "metadata": {
    "collapsed": false
   },
   "outputs": [
    {
     "data": {
      "text/plain": [
       " [1] \"X.sample\"            \"Library\"             \"Primer_Plate\"       \n",
       " [4] \"Primer_Well_ID\"      \"primerFR_ID_byPlate\" \"primerFR_ID_total\"  \n",
       " [7] \"barcode_ID\"          \"PlotID\"              \"Plant\"              \n",
       "[10] \"Plot\"                \"Treatment\"           \"Rep\"                \n",
       "[13] \"DAP\"                 \"Sampling\"            \"PlantSample\"        \n",
       "[16] \"Type\"                \"Grass_Broad\"         \"Status\"             \n",
       "[19] \"Subfamily\"           \"fwd_barcode\"         \"rev_barcode\"        \n",
       "[22] \"Planted\"             \"Biomass_P\"           \"SLA\"                \n",
       "[25] \"Leaf_N\"              \"Leaf_C\"              \"LeafC_N\"            \n",
       "[28] \"LNa\"                 \"Plant_N\"             \"Plant_C\"            \n",
       "[31] \"Plant_CN\"            \"d15N\"                \"tN_p\"               \n",
       "[34] \"BX_activity_g\"       \"CB_activity_g\"       \"LAP_activity_g\"     \n",
       "[37] \"NAG_activity_g\"      \"BX_rel\"              \"CB_rel\"             \n",
       "[40] \"LAP_rel\"             \"NAG_rel\"             \"NO3_ug_g\"           \n",
       "[43] \"NH4_ug_g\"            \"InorganicN\"          \"Resid_logB\"         \n",
       "[46] \"Resid_logN\"          \"Resid_logCN\"         \"Resid_logSLA\"       \n",
       "[49] \"Resid_LeafN\"         \"A_Resid_logB\"        \"A_Resid_logN\"       \n",
       "[52] \"A_Resid_logCN\"       \"M_Resid_logB\"        \"M_Resid_logN\"       \n",
       "[55] \"M_Resid_logCN\"      \n"
      ]
     },
     "metadata": {},
     "output_type": "display_data"
    }
   ],
   "source": [
    "%%R\n",
    "colnames(sample_data(physeq.thresh))"
   ]
  },
  {
   "cell_type": "markdown",
   "metadata": {},
   "source": [
    "# Output for other analyses"
   ]
  },
  {
   "cell_type": "code",
   "execution_count": 39,
   "metadata": {
    "collapsed": true
   },
   "outputs": [],
   "source": [
    "%%R -i workDir\n",
    "outFile = file.path(workDir, 'Full-Sparsity3in3')\n",
    "saveRDS(physeq.thresh, outFile)"
   ]
  },
  {
   "cell_type": "code",
   "execution_count": 40,
   "metadata": {
    "collapsed": true
   },
   "outputs": [],
   "source": [
    "%%R -i workDir\n",
    "outFile = file.path(workDir, 'Full-Sparsity3in3_relabund')\n",
    "saveRDS(physeq.snorm, outFile)"
   ]
  },
  {
   "cell_type": "code",
   "execution_count": 41,
   "metadata": {
    "collapsed": true
   },
   "outputs": [],
   "source": [
    "%%R -i workDir\n",
    "outFile = file.path(workDir, 'Full-Sparsity3in3_r')\n",
    "saveRDS(physeq.r, outFile)"
   ]
  },
  {
   "cell_type": "markdown",
   "metadata": {},
   "source": [
    "# Save sparsity filtred tree for iTOL"
   ]
  },
  {
   "cell_type": "code",
   "execution_count": 32,
   "metadata": {
    "collapsed": true
   },
   "outputs": [],
   "source": [
    "%%R\n",
    "outTree = '/home/bryan/RhizCG/data/MiSeq_amplicon/MergedRuns/fasttree/SparsityTree.tree'"
   ]
  },
  {
   "cell_type": "code",
   "execution_count": 42,
   "metadata": {
    "collapsed": false
   },
   "outputs": [],
   "source": [
    "%%R\n",
    "MyTree =  physeq.thresh %>% phy_tree\n",
    " ape::write.tree(MyTree, file = outTree)"
   ]
  }
 ],
 "metadata": {
  "anaconda-cloud": {},
  "hide_input": true,
  "kernelspec": {
   "display_name": "Python [default]",
   "language": "python",
   "name": "python2"
  },
  "language_info": {
   "codemirror_mode": {
    "name": "ipython",
    "version": 2
   },
   "file_extension": ".py",
   "mimetype": "text/x-python",
   "name": "python",
   "nbconvert_exporter": "python",
   "pygments_lexer": "ipython2",
   "version": "2.7.12"
  }
 },
 "nbformat": 4,
 "nbformat_minor": 0
}
