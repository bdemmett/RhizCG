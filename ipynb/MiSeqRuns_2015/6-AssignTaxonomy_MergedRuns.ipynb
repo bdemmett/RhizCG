{
 "cells": [
  {
   "cell_type": "markdown",
   "metadata": {},
   "source": [
    "# Description\n",
    "\n",
    "* Assigning taxonomy for centroids"
   ]
  },
  {
   "cell_type": "code",
   "execution_count": 6,
   "metadata": {
    "collapsed": true
   },
   "outputs": [],
   "source": [
    "workDir = '/home/bryan/RhizCG/data/MiSeq_amplicon/MergedRuns/OTU_binning/'\n",
    "silva_no_ambig = '/home/bryan/RhizCG/data/databases/97_Silva_111_rep_set_no_ambig.fasta'\n",
    "silva_map_full = '/home/bryan/RhizCG/data/databases//Silva_111_taxa_map_full.txt'"
   ]
  },
  {
   "cell_type": "code",
   "execution_count": 15,
   "metadata": {
    "collapsed": false
   },
   "outputs": [
    {
     "name": "stdout",
     "output_type": "stream",
     "text": [
      "total 1.4G\r\n",
      "drwxrwxr-x 3 bryan bryan 4.0K Apr 27 11:44 otusn_pick_tax\r\n",
      "drwxrwxr-x 6 bryan bryan 4.0K Apr 27 11:37 otusn_tax\r\n",
      "drwxrwxr-x 3 bryan bryan 4.0K Apr 27 11:36 otusn_tax_tmp\r\n",
      "-rw-rw-r-- 1 bryan bryan  13M Jul  7  2015 otu_table_wtax.biom\r\n",
      "-rw-rw-r-- 1 bryan bryan 7.2K Jun 30  2015 otu_table_summary.txt\r\n",
      "-rw-rw-r-- 1 bryan bryan  12M Jun 30  2015 otu_table.biom\r\n",
      "-rw-rw-r-- 1 bryan bryan 5.6M Jun 30  2015 otu_table.txt\r\n",
      "-rw-rw-r-- 1 bryan bryan 1.4G Jun 30  2015 readmap.uc\r\n",
      "drwxrwxr-x 2 bryan bryan 4.0K Jun 30  2015 uc_files\r\n",
      "drwxrwxr-x 2 bryan bryan 4.0K Jun 30  2015 split_files\r\n",
      "-rw-rw-r-- 1 bryan bryan  785 Jun 30  2015 mothur.1435681406.logfile\r\n",
      "-rw-rw-r-- 1 bryan bryan 2.9M Jun 30  2015 otusn.pick.fasta\r\n",
      "-rw-rw-r-- 1 bryan bryan  14K Jun 30  2015 to_remove_tax.accnos\r\n",
      "-rw-rw-r-- 1 bryan bryan 3.3M Jun 30  2015 otusn.fasta\r\n",
      "-rw-rw-r-- 1 bryan bryan 3.6M Jun 30  2015 otus.fasta\r\n",
      "lrwxrwxrwx 1 bryan bryan   19 Jun 30  2015 finalQC.fasta -> ../QC/finalQC.fasta\r\n",
      "-rw-rw-r-- 1 bryan bryan 268K Jun 29  2015 mothur.1435600475.logfile\r\n",
      "-rw-rw-r-- 1 bryan bryan  876 Jun 29  2015 mothur.1435600411.logfile\r\n"
     ]
    }
   ],
   "source": [
    "!ls -thlc $workDir "
   ]
  },
  {
   "cell_type": "code",
   "execution_count": 20,
   "metadata": {
    "collapsed": false
   },
   "outputs": [
    {
     "name": "stdout",
     "output_type": "stream",
     "text": [
      "Traceback (most recent call last):\r\n",
      "  File \"/opt/anaconda/bin/parallel_assign_taxonomy_uclust.py\", line 91, in <module>\r\n",
      "    main()\r\n",
      "  File \"/opt/anaconda/bin/parallel_assign_taxonomy_uclust.py\", line 87, in main\r\n",
      "    suppress_submit_jobs=opts.suppress_submit_jobs)\r\n",
      "  File \"/opt/anaconda/lib/python2.7/site-packages/qiime/parallel/util.py\", line 180, in __call__\r\n",
      "    jobs_fp=jobs_fp, job_prefix=job_prefix)\r\n",
      "  File \"/opt/anaconda/lib/python2.7/site-packages/qiime/parallel/util.py\", line 254, in _submit_jobs\r\n",
      "    raise RuntimeError, msg\r\n",
      "RuntimeError: \r\n",
      "\r\n",
      "*** Could not start parallel jobs. \r\n",
      "Command run was:\r\n",
      " /opt/anaconda/bin/start_parallel_jobs.py -ms otusn_pick_tax_test/UCTA_KnBd_/UCTA_KnBd_jobs.txt UCTA_KnBd_\r\n",
      "Command returned exit status: 1\r\n",
      "Stdout:\r\n",
      "\r\n",
      "Stderr\r\n",
      "Traceback (most recent call last):\r\n",
      "  File \"/opt/anaconda/bin/start_parallel_jobs.py\", line 126, in <module>\r\n",
      "    main()\r\n",
      "  File \"/opt/anaconda/bin/start_parallel_jobs.py\", line 122, in main\r\n",
      "    keep_temp=True)\r\n",
      "  File \"/opt/anaconda/bin/start_parallel_jobs.py\", line 86, in run_commands\r\n",
      "    job_fps, paths_to_remove = write_job_files(output_dir,commands,run_id)\r\n",
      "  File \"/opt/anaconda/bin/start_parallel_jobs.py\", line 70, in write_job_files\r\n",
      "    f = open(job_fp,'w')\r\n",
      "IOError: [Errno 13] Permission denied: '/tmp//jobs//UCTA_KnBd_0'\r\n",
      "\r\n",
      "\r\n"
     ]
    }
   ],
   "source": [
    "!cd $workDir; \\\n",
    "    parallel_assign_taxonomy_uclust.py \\\n",
    "        -r $silva_no_ambig \\\n",
    "        -t $silva_map_full \\\n",
    "        -O 20 \\\n",
    "        -i otusn.pick.fasta \\\n",
    "        -o otusn_pick_tax_test"
   ]
  },
  {
   "cell_type": "code",
   "execution_count": 11,
   "metadata": {
    "collapsed": false
   },
   "outputs": [
    {
     "name": "stdout",
     "output_type": "stream",
     "text": [
      "OTU.268\tBacteria; __Actinobacteria; __Acidimicrobiia; __Acidimicrobiales; __Iamiaceae; __Iamia\t0.67\t3\r\n",
      "OTU.545\tBacteria; __Proteobacteria; __Alphaproteobacteria; __Rhizobiales; __JG35-K1-AG5; __uncultured_bacterium\t0.67\t3\r\n",
      "OTU.532\tBacteria; __Proteobacteria; __Deltaproteobacteria; __Myxococcales; __Nannocystineae; __Haliangiaceae; __Haliangium; __uncultured_bacterium\t0.67\t3\r\n"
     ]
    }
   ],
   "source": [
    "!cd $workDir; \\\n",
    "    head -n 3 ./otusn_tax/otusn_tax_assignments.txt"
   ]
  },
  {
   "cell_type": "code",
   "execution_count": 4,
   "metadata": {
    "collapsed": false
   },
   "outputs": [
    {
     "name": "stdout",
     "output_type": "stream",
     "text": [
      "Traceback (most recent call last):\r\n",
      "  File \"/opt/anaconda/bin/pyqi\", line 177, in <module>\r\n",
      "    optparse_main(cmd_obj, argv[1:])\r\n",
      "  File \"/opt/anaconda/lib/python2.7/site-packages/pyqi/core/interfaces/optparse/__init__.py\", line 276, in optparse_main\r\n",
      "    result = optparse_cmd(local_argv[1:])\r\n",
      "  File \"/opt/anaconda/lib/python2.7/site-packages/pyqi/core/interface.py\", line 42, in __call__\r\n",
      "    return self._output_handler(cmd_result)\r\n",
      "  File \"/opt/anaconda/lib/python2.7/site-packages/pyqi/core/interfaces/optparse/__init__.py\", line 251, in _output_handler\r\n",
      "    opt_value)\r\n",
      "  File \"/opt/anaconda/lib/python2.7/site-packages/biom/interfaces/optparse/output_handler.py\", line 29, in write_biom_table\r\n",
      "    raise IOError(\"Output path '%s' already exists.\" % option_value)\r\n",
      "IOError: Output path 'otu_table_wtax.biom' already exists.\r\n"
     ]
    }
   ],
   "source": [
    "!cd $workDir;\\\n",
    "    biom add-metadata -i otu_table.biom \\\n",
    "        -o otu_table_wtax.biom \\\n",
    "        --observation-metadata-fp otusn_tax/otusn_tax_assignments.txt \\\n",
    "        --sc-separated taxonomy \\\n",
    "        --float-fields consensus \\\n",
    "        --int-fields numhits \\\n",
    "        --observation-header OTUID,taxonomy,consensus,numhits"
   ]
  },
  {
   "cell_type": "code",
   "execution_count": 5,
   "metadata": {
    "collapsed": false,
    "scrolled": true
   },
   "outputs": [
    {
     "name": "stdout",
     "output_type": "stream",
     "text": [
      "finalQC.fasta\t\t   otusn.pick.fasta\t  readmap.uc\r\n",
      "mothur.1435600411.logfile  otusn_tax\t\t  split_files\r\n",
      "mothur.1435600475.logfile  otu_table.biom\t  to_remove_tax.accnos\r\n",
      "mothur.1435681406.logfile  otu_table_summary.txt  uc_files\r\n",
      "otus.fasta\t\t   otu_table.txt\r\n",
      "otusn.fasta\t\t   otu_table_wtax.biom\r\n"
     ]
    }
   ],
   "source": [
    "!cd $workDir; ls"
   ]
  }
 ],
 "metadata": {
  "hide_input": true,
  "kernelspec": {
   "display_name": "Python 2",
   "language": "python",
   "name": "python2"
  },
  "language_info": {
   "codemirror_mode": {
    "name": "ipython",
    "version": 2
   },
   "file_extension": ".py",
   "mimetype": "text/x-python",
   "name": "python",
   "nbconvert_exporter": "python",
   "pygments_lexer": "ipython2",
   "version": "2.7.11"
  }
 },
 "nbformat": 4,
 "nbformat_minor": 0
}
