{
 "cells": [
  {
   "cell_type": "markdown",
   "metadata": {},
   "source": [
    "# Description\n",
    "\n",
    "* Creating OTUs with usearch"
   ]
  },
  {
   "cell_type": "markdown",
   "metadata": {},
   "source": [
    "# Init"
   ]
  },
  {
   "cell_type": "code",
   "execution_count": 1,
   "metadata": {
    "collapsed": true
   },
   "outputs": [],
   "source": [
    "workDir = '/home/bryan/RhizCG/data/MiSeq_amplicon/150520_run1/OTU_binning/'\n",
    "databaseDir = '/home/bryan/RhizCG/data/databases/'\n",
    "nprocs = 24"
   ]
  },
  {
   "cell_type": "code",
   "execution_count": 2,
   "metadata": {
    "collapsed": true
   },
   "outputs": [],
   "source": [
    "import os\n",
    "import re\n",
    "import pandas as pd\n",
    "from qiime.assign_taxonomy import UclustConsensusTaxonAssigner\n",
    "from IPython.display import Image"
   ]
  },
  {
   "cell_type": "code",
   "execution_count": 3,
   "metadata": {
    "collapsed": false
   },
   "outputs": [
    {
     "name": "stdout",
     "output_type": "stream",
     "text": [
      "Populating the interactive namespace from numpy and matplotlib\n"
     ]
    }
   ],
   "source": [
    "%pylab inline\n",
    "%load_ext rpy2.ipython"
   ]
  },
  {
   "cell_type": "code",
   "execution_count": 4,
   "metadata": {
    "collapsed": false
   },
   "outputs": [
    {
     "name": "stderr",
     "output_type": "stream",
     "text": [
      "/opt/anaconda/lib/python2.7/site-packages/rpy2/robjects/functions.py:106: UserWarning: \n",
      "Attaching package: ‘dplyr’\n",
      "\n",
      "\n",
      "  res = super(Function, self).__call__(*new_args, **new_kwargs)\n",
      "/opt/anaconda/lib/python2.7/site-packages/rpy2/robjects/functions.py:106: UserWarning: The following objects are masked from ‘package:stats’:\n",
      "\n",
      "    filter, lag\n",
      "\n",
      "\n",
      "  res = super(Function, self).__call__(*new_args, **new_kwargs)\n",
      "/opt/anaconda/lib/python2.7/site-packages/rpy2/robjects/functions.py:106: UserWarning: The following objects are masked from ‘package:base’:\n",
      "\n",
      "    intersect, setdiff, setequal, union\n",
      "\n",
      "\n",
      "  res = super(Function, self).__call__(*new_args, **new_kwargs)\n"
     ]
    }
   ],
   "source": [
    "%%R\n",
    "library(ggplot2)\n",
    "library(dplyr)\n",
    "library(tidyr)\n",
    "library(gridExtra)\n",
    "library(stringr)"
   ]
  },
  {
   "cell_type": "code",
   "execution_count": 5,
   "metadata": {
    "collapsed": true
   },
   "outputs": [],
   "source": [
    "if not os.path.isdir(workDir):\n",
    "    os.mkdir(workDir)"
   ]
  },
  {
   "cell_type": "markdown",
   "metadata": {},
   "source": [
    "# Binning"
   ]
  },
  {
   "cell_type": "code",
   "execution_count": 6,
   "metadata": {
    "collapsed": false
   },
   "outputs": [
    {
     "name": "stdout",
     "output_type": "stream",
     "text": [
      "Number of sequences in final QC fasta: 7912449\n",
      ">sample3-4.15_Nneg_0\n",
      "TCCGTAGGGGGCAAGCGTTGTCCGGAATCATTGGGCGTAAAGCGCGCGTAGGCGGCCCGGTAAGTCCGCTCTTAAAGCCCAAGGCTCAACCTTGGGATGGGGTGGATACCGCCGGGCGCGAGTCCGGAAGAGGCGAGTGGAATTCCTGGTGTAGCGGTGGAATGCGCAGATATCAGGAGGAACACCAATAGCGAAGGCAGCTCGCTGGGACGGTACTGACGCTAAGGCGCGAAAGCGTGGGGAGCGAACAGG\n",
      ">sample5-1.06_Nneg_1\n",
      "TACGTAGGGGGCAAGCGTTGTCCGGATTTATTGGGCGTAAAGCGCGCGCAGGCGGCCAGGTAGGTCCGCTGTGAAAGCTCCAGGCTCAACCTCGAGACGTCAGCGGAAACCCTCTGGCTAGAGTCCGGAAGAGGAGAGTGGAATTCCTGGTGTAGCGGTGAAATGCGCAGATATCAGGAAGAACACCCGTGGCGAAGGCGGCTCTCTGGGACGGTACTGACGCTGAGGCGCGAAAGCGTGGGGAGCGAACAGG\n",
      ">sample5-3.13_Nneg_8037684\n",
      "GACAGAGGATGCAATCGTTATCCGGAATGATTGGGCGTAAAGCGACTGTAGGCGGCTGTTCAAGTCCGCCGTCAAATCCCAGGGCTCAACCCTGGACAGGCGGGGGATACTTCCAAGCTGGAGTACGGTAGGGGCAGAGGGAATTTCCGGTGGAGCGGGGAAATGCGGTGAGATCGGAAAGAACACCAGCGGCGAAGGCAGTCTGCTGGGCCGACACGGACGCTGAGGGGCGAAAGCTAGGGGAGCAAAAGGG\n",
      ">sample1-2.05_Npos_8037685\n",
      "TACGTAGGGCGCAAGCGTTATCCGGAATTAGTGGGCGTAAAGAGCTCGTAGGCGGTGTGTCGCGTCTGCTGTGAAATCCCGAGGCGCAACCTCGGGCCTGCAGTGGGTACGGGCAGGCTGGAGTGCGGTAGGGGAGAGTGGAATTCCTGGTGTAGCGGTGAAATGCGCAGAGATCAGGAGGAACACCGGTGGCGAAGGCAGTTCTCTGGGCCGTAACGGACGCTGAGGAGCGAAAGCGTGGGGAGCGAACAGG\n"
     ]
    }
   ],
   "source": [
    "%%bash -s \"$workDir\"\n",
    "\n",
    "cd $1\n",
    "\n",
    "ln -f -s ../QC/finalQC.fasta .\n",
    "\n",
    "printf \"Number of sequences in final QC fasta: \"\n",
    "grep -c \">\" finalQC.fasta\n",
    "\n",
    "head -n 4 finalQC.fasta\n",
    "tail -n 4 finalQC.fasta"
   ]
  },
  {
   "cell_type": "markdown",
   "metadata": {},
   "source": [
    "# Usearch pipeline"
   ]
  },
  {
   "cell_type": "code",
   "execution_count": 7,
   "metadata": {
    "collapsed": false
   },
   "outputs": [
    {
     "name": "stdout",
     "output_type": "stream",
     "text": [
      "usearch v7.0.1090_i86linux32, 4.0Gb RAM (132Gb total), 40 cores\n",
      "(C) Copyright 2013 Robert C. Edgar, all rights reserved.\n",
      "http://drive5.com/usearch\n",
      "\n",
      "Licensed to: chuck.peperanney@gmail.com\n",
      "\n",
      "00:12 2.5Gb  100.0% Reading finalQC.fasta\n",
      "\n",
      "Out of memory mymalloc(31649796), curr 4.27e+09 bytes\n",
      "\n",
      "myutils.cpp(2212): \n",
      "Out of memory mymalloc(9531596), curr 4.27e+09 bytes\n",
      "\n",
      "myutils.cpp(2212): \n",
      "Out of memory mymalloc(9577996), curr 4.27e+09 bytes\n",
      "\n",
      "myutils.cpp(2212): \n",
      "Out of memory mymalloc(9338636), curr 4.27e+09 bytes\n",
      "\n",
      "myutils.cpp(2212): \n",
      "Out of memory mymalloc(12584524), curr 4.27e+09 bytes\n",
      "\n",
      "myutils.cpp(2212): \n",
      "\n",
      "\n",
      "Out of memory mymalloc(9681004), curr 4.27e+09 bytes\n",
      "\n",
      "myutils.cpp(2212): \n",
      "Out of memory mymalloc(23393476), curr 4.27e+09 bytes\n",
      "\n",
      "myutils.cpp(2212): usearch -derep_fulllength finalQC.fasta -output finalQC_uniques.fasta -sizeout -threads 24\n",
      "Out of memory mymalloc(10076012), curr 4.27e+09 bytes\n",
      "Out of memory mymalloc(9838964), curr 4.27e+09 bytes\n",
      "\n",
      "myutils.cpp(2212): \n",
      "Out of memory mymalloc(9364804), curr 4.27e+09 bytes\n",
      "\n",
      "myutils.cpp(2212): \n",
      "\n",
      "Out of memory mymalloc(10085188), curr 4.27e+09 bytes\n",
      "\n",
      "myutils.cpp(2212): \n",
      "\n",
      "myutils.cpp(2212): \n",
      "Out of memory mymalloc(13596508), curr 4.27e+09 bytes\n",
      "\n",
      "myutils.cpp(2212): \n",
      "Out of memory mymalloc(9565076), curr 4.27e+09 bytes\n",
      "\n",
      "myutils.cpp(2212): \n",
      "---Fatal error---\n",
      "Out of memory, mymalloc(31649796), curr 4.27e+09 bytes\n",
      "\n",
      "\n",
      "Out of memory mymalloc(9920564), curr 4.27e+09 bytes\n",
      "\n",
      "myutils.cpp(2212): "
     ]
    }
   ],
   "source": [
    "!cd $workDir; \\\n",
    "    usearch -derep_fulllength finalQC.fasta -output finalQC_uniques.fasta -sizeout -threads $nprocs"
   ]
  },
  {
   "cell_type": "code",
   "execution_count": 8,
   "metadata": {
    "collapsed": false
   },
   "outputs": [
    {
     "name": "stdout",
     "output_type": "stream",
     "text": [
      "usearch v7.0.1090_i86linux32, 4.0Gb RAM (132Gb total), 40 cores\r\n",
      "(C) Copyright 2013 Robert C. Edgar, all rights reserved.\r\n",
      "http://drive5.com/usearch\r\n",
      "\r\n",
      "Licensed to: chuck.peperanney@gmail.com\r\n",
      "\r\n",
      "\r\n",
      "\r\n",
      "myutils.cpp(195): \r\n",
      "\r\n",
      "usearch -sortbysize finalQC_uniques.fasta -output finalQC_uniques_sorted.fasta -minsize 2\r\n",
      "\r\n",
      "---Fatal error---\r\n",
      "Cannot open finalQC_uniques.fasta, errno=2 No such file or directory\r\n"
     ]
    }
   ],
   "source": [
    "!cd $workDir; \\\n",
    "    usearch -sortbysize finalQC_uniques.fasta \\\n",
    "    -output finalQC_uniques_sorted.fasta -minsize 2  #-minsize 2"
   ]
  },
  {
   "cell_type": "code",
   "execution_count": 9,
   "metadata": {
    "collapsed": false
   },
   "outputs": [
    {
     "name": "stdout",
     "output_type": "stream",
     "text": [
      "tail: cannot open `finalQC_uniques_sorted.fasta' for reading: No such file or directory\r\n"
     ]
    }
   ],
   "source": [
    "!cd $workDir; \\\n",
    "    tail finalQC_uniques_sorted.fasta"
   ]
  },
  {
   "cell_type": "code",
   "execution_count": 10,
   "metadata": {
    "collapsed": false
   },
   "outputs": [
    {
     "name": "stdout",
     "output_type": "stream",
     "text": [
      "usearch v7.0.1090_i86linux32, 4.0Gb RAM (132Gb total), 40 cores\r\n",
      "(C) Copyright 2013 Robert C. Edgar, all rights reserved.\r\n",
      "http://drive5.com/usearch\r\n",
      "\r\n",
      "Licensed to: chuck.peperanney@gmail.com\r\n",
      "\r\n",
      "\r\n",
      "\r\n",
      "myutils.cpp(195): \r\n",
      "\r\n",
      "usearch -cluster_otus finalQC_uniques_sorted.fasta -otus otus.fasta\r\n",
      "\r\n",
      "---Fatal error---\r\n",
      "Cannot open finalQC_uniques_sorted.fasta, errno=2 No such file or directory\r\n"
     ]
    }
   ],
   "source": [
    "!cd $workDir; \\\n",
    "    usearch -cluster_otus finalQC_uniques_sorted.fasta -otus otus.fasta"
   ]
  },
  {
   "cell_type": "code",
   "execution_count": null,
   "metadata": {
    "collapsed": false,
    "scrolled": true
   },
   "outputs": [],
   "source": []
  },
  {
   "cell_type": "code",
   "execution_count": 11,
   "metadata": {
    "collapsed": false
   },
   "outputs": [
    {
     "name": "stdout",
     "output_type": "stream",
     "text": [
      "Traceback (most recent call last):\r\n",
      "  File \"/opt/bioinfo/edgar_python_scripts/fasta_number.py\", line 28, in <module>\r\n",
      "    File = open(sys.argv[1])\r\n",
      "IOError: [Errno 2] No such file or directory: 'otus.fasta'\r\n"
     ]
    }
   ],
   "source": [
    "!cd $workDir; \\\n",
    "    /opt/bioinfo/edgar_python_scripts/fasta_number.py otus.fasta OTU. > otusn.fasta"
   ]
  },
  {
   "cell_type": "markdown",
   "metadata": {},
   "source": [
    "# Removing sequences classified as chloroplast, eukaryotes, or archaea"
   ]
  },
  {
   "cell_type": "code",
   "execution_count": 12,
   "metadata": {
    "collapsed": false
   },
   "outputs": [
    {
     "name": "stderr",
     "output_type": "stream",
     "text": [
      "Traceback (most recent call last):\n",
      "  File \"/opt/anaconda/bin/parallel_assign_taxonomy_uclust.py\", line 91, in <module>\n",
      "    main()\n",
      "  File \"/opt/anaconda/bin/parallel_assign_taxonomy_uclust.py\", line 87, in main\n",
      "    suppress_submit_jobs=opts.suppress_submit_jobs)\n",
      "  File \"/opt/anaconda/lib/python2.7/site-packages/qiime/parallel/util.py\", line 131, in __call__\n",
      "    working_dir)\n",
      "  File \"/opt/anaconda/lib/python2.7/site-packages/qiime/parallel/util.py\", line 482, in _split_fasta\n",
      "    job_prefix,working_dir=output_dir)\n",
      "  File \"/opt/anaconda/lib/python2.7/site-packages/qiime/split.py\", line 100, in split_fasta\n",
      "    raise ValueError(\"seqs_per_file must be > 0!\")\n",
      "ValueError: seqs_per_file must be > 0!\n"
     ]
    }
   ],
   "source": [
    "%%bash -s \"$workDir\" \"$databaseDir\" \"$nprocs\"\n",
    "\n",
    "cd $1\n",
    "\n",
    "parallel_assign_taxonomy_uclust.py \\\n",
    "    -r $2'97_Silva_111_rep_set_no_ambig.fasta' \\\n",
    "    -t $2'Silva_111_taxa_map_full.txt' \\\n",
    "    -O 8 \\\n",
    "    -i otusn.fasta \\\n",
    "    -o otusn_tax"
   ]
  },
  {
   "cell_type": "code",
   "execution_count": 13,
   "metadata": {
    "collapsed": false
   },
   "outputs": [
    {
     "name": "stderr",
     "output_type": "stream",
     "text": [
      "egrep: otusn_tax/otusn_tax_assignments.txt: No such file or directory\n"
     ]
    }
   ],
   "source": [
    "%%bash -s \"$workDir\" \"$databaseDir\"\n",
    "\n",
    "cd $1\n",
    "\n",
    "egrep \"Chloroplast|Eukaryota|Archaea|Unassigned|mitochondria\" \\\n",
    "    otusn_tax/otusn_tax_assignments.txt |\\\n",
    "    awk '{print $1}' > to_remove_tax.accnos"
   ]
  },
  {
   "cell_type": "code",
   "execution_count": 14,
   "metadata": {
    "collapsed": false
   },
   "outputs": [
    {
     "name": "stdout",
     "output_type": "stream",
     "text": [
      "0 to_remove_tax.accnos\r\n"
     ]
    }
   ],
   "source": [
    "!cd $workDir; wc -l to_remove_tax.accnos"
   ]
  },
  {
   "cell_type": "code",
   "execution_count": 15,
   "metadata": {
    "collapsed": false
   },
   "outputs": [],
   "source": [
    "!cd $workDir; head to_remove_tax.accnos"
   ]
  },
  {
   "cell_type": "code",
   "execution_count": 16,
   "metadata": {
    "collapsed": false
   },
   "outputs": [
    {
     "name": "stdout",
     "output_type": "stream",
     "text": [
      "\u001b[H\u001b[2J\r\n",
      "\r\n",
      "\r\n",
      "\r\n",
      "\r\n",
      "\r\n",
      "mothur v.1.35.1\r\n",
      "Last updated: 03/31/2015\r\n",
      "\r\n",
      "by\r\n",
      "Patrick D. Schloss\r\n",
      "\r\n",
      "Department of Microbiology & Immunology\r\n",
      "University of Michigan\r\n",
      "pschloss@umich.edu\r\n",
      "http://www.mothur.org\r\n",
      "\r\n",
      "When using, please cite:\r\n",
      "Schloss, P.D., et al., Introducing mothur: Open-source, platform-independent, community-supported software for describing and comparing microbial communities. Appl Environ Microbiol, 2009. 75(23):7537-41.\r\n",
      "\r\n",
      "Distributed under the GNU General Public License\r\n",
      "\r\n",
      "Type 'help()' for information on the commands that are available\r\n",
      "\r\n",
      "Type 'quit()' to exit program\r\n",
      "\r\n",
      "\r\n",
      "\r\n",
      "mothur > remove.seqs(fasta=otusn.fasta, accnos=to_remove_tax.accnos)\r\n",
      "[ERROR]: to_remove_tax.accnos is blank, aborting.\r\n",
      "You have no valid accnos file and accnos is required.\r\n",
      "[ERROR]: otusn.fasta is blank, aborting.\r\n",
      "You must provide at least one of the following: fasta, name, group, taxonomy, quality, alignreport, fastq or list.\r\n",
      "[ERROR]: did not complete remove.seqs.\r\n",
      "\r\n",
      "mothur > quit()\r\n"
     ]
    }
   ],
   "source": [
    "!cd $workDir; \\\n",
    "    mothur \"#remove.seqs(fasta=otusn.fasta, accnos=to_remove_tax.accnos)\" | head -n 50"
   ]
  },
  {
   "cell_type": "code",
   "execution_count": 17,
   "metadata": {
    "collapsed": false
   },
   "outputs": [
    {
     "name": "stdout",
     "output_type": "stream",
     "text": [
      "0\n",
      "grep: otusn.pick.fasta: No such file or directory\n"
     ]
    }
   ],
   "source": [
    "!cd $workDir; grep -c \">\" otusn.fasta\n",
    "!cd $workDir; grep -c \">\" otusn.pick.fasta"
   ]
  },
  {
   "cell_type": "code",
   "execution_count": null,
   "metadata": {
    "collapsed": true
   },
   "outputs": [],
   "source": []
  },
  {
   "cell_type": "markdown",
   "metadata": {},
   "source": [
    "# Mapping reads"
   ]
  },
  {
   "cell_type": "code",
   "execution_count": 18,
   "metadata": {
    "collapsed": true
   },
   "outputs": [],
   "source": [
    "%%bash -s \"$workDir\"\n",
    "\n",
    "cd $1\n",
    "\n",
    "perl -pe 's/^>(.+)(_[^_]+)\\n$/>$1$2;barcodelabel=$1\\n/' finalQC.fasta > finalQC_usearchfmt.fasta"
   ]
  },
  {
   "cell_type": "code",
   "execution_count": 19,
   "metadata": {
    "collapsed": false
   },
   "outputs": [
    {
     "name": "stdout",
     "output_type": "stream",
     "text": [
      ">sample3-4.15_Nneg_0;barcodelabel=sample3-4.15_Nneg\r\n",
      "TCCGTAGGGGGCAAGCGTTGTCCGGAATCATTGGGCGTAAAGCGCGCGTAGGCGGCCCGGTAAGTCCGCTCTTAAAGCCCAAGGCTCAACCTTGGGATGGGGTGGATACCGCCGGGCGCGAGTCCGGAAGAGGCGAGTGGAATTCCTGGTGTAGCGGTGGAATGCGCAGATATCAGGAGGAACACCAATAGCGAAGGCAGCTCGCTGGGACGGTACTGACGCTAAGGCGCGAAAGCGTGGGGAGCGAACAGG\r\n",
      ">sample5-1.06_Nneg_1;barcodelabel=sample5-1.06_Nneg\r\n",
      "TACGTAGGGGGCAAGCGTTGTCCGGATTTATTGGGCGTAAAGCGCGCGCAGGCGGCCAGGTAGGTCCGCTGTGAAAGCTCCAGGCTCAACCTCGAGACGTCAGCGGAAACCCTCTGGCTAGAGTCCGGAAGAGGAGAGTGGAATTCCTGGTGTAGCGGTGAAATGCGCAGATATCAGGAAGAACACCCGTGGCGAAGGCGGCTCTCTGGGACGGTACTGACGCTGAGGCGCGAAAGCGTGGGGAGCGAACAGG\r\n",
      ">sample6-4.27_Nneg_2;barcodelabel=sample6-4.27_Nneg\r\n",
      "TACGTAGGGTGCAAGCGTTAATCGGAATTACTGGGCGTAAAGCGTACGCAGGCGGCTTTGCAAGACAGGTGTGAAATCCCCGGGCCTAACCTGGGAACTGCATTTGTGACTGCATGGCTAGAGTTTGTCAGAGGGGGGTGGAATTCCACGTGTAGCAGTGAAATGCGTAGATATGCGGAGGAACACCGATGGCGAAGGCAATCCCCTGGACCTGTACTGACGCTCATGCACGAAAGCGTGGGGAGCAAACAGG\r\n",
      ">sample6-3.07_Nneg_78383;barcodelabel=sample6-3.07_Nneg\r\n",
      "TACGTAGGGTGCAAGCGTTAATCGGAATTACTGGGCGTAAAGCGTACGCAGGCGGCTTTGCAAGACAGGTGTGAAATCCCCGGGCCTAACCTGGGAACTGCATTTGTGACTGCATGGCTAGAGTTTGTCAGAGGGGGGTGGAATTCCACGTGTAGCAGTGAAATGCGTAGATATGCGGAGGAACACCGATGGCGAAGGCAATCCCCTGGACCTGTACTGACGCTCATGCACGAAAGCGTGGGGAGCAAACAGG\r\n",
      ">sample6-3.04_Npos_155109;barcodelabel=sample6-3.04_Npos\r\n",
      "TACGTAGGGTGCAAGCGTTAATCGGAATTACTGGGCGTAAAGCGTACGCAGGCGGCTTTGCAAGACAGGTGTGAAATCCCCGGGCCTAACCTGGGAACTGCATTTGTGACTGCATGGCTAGAGTTTGTCAGAGGGGGGTGGAATTCCACGTGTAGCAGTGAAATGCGTAGATATGCGGAGGAACACCGATGGCGAAGGCAATCCCCTGGACCTGTACTGACGCTCATGCACGAAAGCGTGGGGAGCAAACAGG\r\n"
     ]
    }
   ],
   "source": [
    "!cd $workDir; head finalQC_usearchfmt.fasta"
   ]
  },
  {
   "cell_type": "code",
   "execution_count": 20,
   "metadata": {
    "collapsed": false
   },
   "outputs": [
    {
     "name": "stdout",
     "output_type": "stream",
     "text": [
      "7912449\r\n"
     ]
    }
   ],
   "source": [
    "!cd $workDir; grep -c \">\" finalQC_usearchfmt.fasta"
   ]
  },
  {
   "cell_type": "code",
   "execution_count": 21,
   "metadata": {
    "collapsed": false
   },
   "outputs": [
    {
     "name": "stdout",
     "output_type": "stream",
     "text": [
      "usearch v7.0.1090_i86linux32, 4.0Gb RAM (132Gb total), 40 cores\r\n",
      "(C) Copyright 2013 Robert C. Edgar, all rights reserved.\r\n",
      "http://drive5.com/usearch\r\n",
      "\r\n",
      "Licensed to: chuck.peperanney@gmail.com\r\n",
      "\r\n",
      "\r\n",
      "\r\n",
      "myutils.cpp(195): \r\n",
      "\r\n",
      "usearch -usearch_global finalQC_usearchfmt.fasta -db otusn.pick.fasta -strand plus -id 0.97 -uc readmap.uc -threads 24\r\n",
      "\r\n",
      "---Fatal error---\r\n",
      "Cannot open otusn.pick.fasta, errno=2 No such file or directory\r\n"
     ]
    }
   ],
   "source": [
    "!cd $workDir; \\\n",
    "usearch -usearch_global finalQC_usearchfmt.fasta \\\n",
    "    -db otusn.pick.fasta \\\n",
    "    -strand plus -id 0.97 \\\n",
    "    -uc readmap.uc \\\n",
    "    -threads $nprocs"
   ]
  },
  {
   "cell_type": "code",
   "execution_count": 22,
   "metadata": {
    "collapsed": false
   },
   "outputs": [
    {
     "name": "stdout",
     "output_type": "stream",
     "text": [
      "readmap.uc 100.0%   \r\n"
     ]
    }
   ],
   "source": [
    "!cd $workDir; \\\n",
    "    python /opt/bioinfo/edgar_python_scripts/uc2otutab.py readmap.uc > otu_table.txt"
   ]
  },
  {
   "cell_type": "code",
   "execution_count": 23,
   "metadata": {
    "collapsed": false
   },
   "outputs": [
    {
     "name": "stderr",
     "output_type": "stream",
     "text": [
      "Traceback (most recent call last):\n",
      "  File \"/opt/anaconda/bin/pyqi\", line 177, in <module>\n",
      "    optparse_main(cmd_obj, argv[1:])\n",
      "  File \"/opt/anaconda/lib/python2.7/site-packages/pyqi/core/interfaces/optparse/__init__.py\", line 276, in optparse_main\n",
      "    result = optparse_cmd(local_argv[1:])\n",
      "  File \"/opt/anaconda/lib/python2.7/site-packages/pyqi/core/interface.py\", line 40, in __call__\n",
      "    cmd_result = self.CmdInstance(**cmd_input)\n",
      "  File \"/opt/anaconda/lib/python2.7/site-packages/pyqi/core/command.py\", line 137, in __call__\n",
      "    result = self.run(**kwargs)\n",
      "  File \"/opt/anaconda/lib/python2.7/site-packages/biom/commands/table_converter.py\", line 219, in run\n",
      "    raise CommandError(convert_error_msg)\n",
      "pyqi.core.exception.CommandError: Input does not look like a classic table. Did you forget to specify that a classic table file should be created from a BIOM table file?\n"
     ]
    }
   ],
   "source": [
    "%%bash -s \"$workDir\"\n",
    "\n",
    "cd $1\n",
    "\n",
    "if [ -f otu_table.biom ]; then\n",
    "    rm otu_table.biom\n",
    "fi #This is to mitigate a biom bug\n",
    "\n",
    "biom convert -i otu_table.txt -o otu_table.biom --table-type \"otu table\""
   ]
  },
  {
   "cell_type": "code",
   "execution_count": 24,
   "metadata": {
    "collapsed": false
   },
   "outputs": [
    {
     "name": "stderr",
     "output_type": "stream",
     "text": [
      "Usage: biom summarize-table [options] {-i/--input-fp INPUT-FP -o/--output-fp OUTPUT-FP}\n",
      "\n",
      "[] indicates optional input (order unimportant)\n",
      "{} indicates required input (order unimportant)\n",
      "\n",
      "Provides details on the observation counts per sample, including summary statistics, as well as metadata categories associated with samples and observations.\n",
      "\n",
      "Example usage: \n",
      "Print help message and exit\n",
      " biom summarize-table -h\n",
      "\n",
      "Basic script usage: Write a summary of table.biom to table_summary.txt\n",
      " biom summarize-table -i table.biom -o table_summary.txt\n",
      "\n",
      "biom summarize-table: error: option -i: file does not exist: 'otu_table.biom'\n"
     ]
    }
   ],
   "source": [
    "%%bash -s \"$workDir\"\n",
    "\n",
    "cd $1\n",
    "\n",
    "if [ -f otu_table_summary.txt ]; then\n",
    "    rm otu_table_summary.txt\n",
    "fi #This is to mitigate a biom bug\n",
    "\n",
    "biom summarize-table -i otu_table.biom -o otu_table_summary.txt"
   ]
  },
  {
   "cell_type": "code",
   "execution_count": 25,
   "metadata": {
    "collapsed": false,
    "scrolled": true
   },
   "outputs": [
    {
     "name": "stdout",
     "output_type": "stream",
     "text": [
      "cat: otu_table_summary.txt: No such file or directory\r\n"
     ]
    }
   ],
   "source": [
    "!cd $workDir; cat otu_table_summary.txt"
   ]
  },
  {
   "cell_type": "markdown",
   "metadata": {},
   "source": [
    "# Assessing the taxonomic composition in the water controls"
   ]
  },
  {
   "cell_type": "code",
   "execution_count": 26,
   "metadata": {
    "collapsed": false
   },
   "outputs": [
    {
     "name": "stdout",
     "output_type": "stream",
     "text": [
      "\n",
      "Error in file(file, \"rt\") : cannot open the connection\n"
     ]
    },
    {
     "name": "stderr",
     "output_type": "stream",
     "text": [
      "/opt/anaconda/lib/python2.7/site-packages/rpy2/robjects/functions.py:106: UserWarning: Error in file(file, \"rt\") : cannot open the connection\n",
      "\n",
      "  res = super(Function, self).__call__(*new_args, **new_kwargs)\n",
      "/opt/anaconda/lib/python2.7/site-packages/rpy2/robjects/functions.py:106: UserWarning: In addition: \n",
      "  res = super(Function, self).__call__(*new_args, **new_kwargs)\n",
      "/opt/anaconda/lib/python2.7/site-packages/rpy2/robjects/functions.py:106: UserWarning: Warning message:\n",
      "\n",
      "  res = super(Function, self).__call__(*new_args, **new_kwargs)\n",
      "/opt/anaconda/lib/python2.7/site-packages/rpy2/robjects/functions.py:106: UserWarning: In file(file, \"rt\") :\n",
      "  res = super(Function, self).__call__(*new_args, **new_kwargs)\n",
      "/opt/anaconda/lib/python2.7/site-packages/rpy2/robjects/functions.py:106: UserWarning: \n",
      " \n",
      "  res = super(Function, self).__call__(*new_args, **new_kwargs)\n",
      "/opt/anaconda/lib/python2.7/site-packages/rpy2/robjects/functions.py:106: UserWarning:  cannot open file 'otusn_tax/otusn_tax_assignments.txt': No such file or directory\n",
      "\n",
      "  res = super(Function, self).__call__(*new_args, **new_kwargs)\n"
     ]
    }
   ],
   "source": [
    "%%R -i workDir\n",
    "\n",
    "setwd(workDir)\n",
    "\n",
    "tbl.otu = read.delim('otu_table.txt', sep='\\t')\n",
    "tbl.tax = read.delim('otusn_tax/otusn_tax_assignments.txt', header=F)\n",
    "\n",
    "tbl.otu.H2O = tbl.otu %>% \n",
    "    select(OTUId, Negative_Control) %>%\n",
    "    filter(Negative_Control > 0)"
   ]
  },
  {
   "cell_type": "code",
   "execution_count": 27,
   "metadata": {
    "collapsed": false
   },
   "outputs": [
    {
     "name": "stdout",
     "output_type": "stream",
     "text": [
      "\n",
      "Error in left_join(tbl.otu.H2O, tbl.tax, by = c(OTUId = \"V1\")) : \n",
      "  object 'tbl.otu.H2O' not found\n"
     ]
    },
    {
     "name": "stderr",
     "output_type": "stream",
     "text": [
      "/opt/anaconda/lib/python2.7/site-packages/rpy2/robjects/functions.py:106: UserWarning: Error in left_join(tbl.otu.H2O, tbl.tax, by = c(OTUId = \"V1\")) : \n",
      "  object 'tbl.otu.H2O' not found\n",
      "\n",
      "  res = super(Function, self).__call__(*new_args, **new_kwargs)\n"
     ]
    }
   ],
   "source": [
    "%%R\n",
    "# taxonomic levels\n",
    "tbl.j = left_join(tbl.otu.H2O, tbl.tax, by=c('OTUId' = 'V1'))\n",
    "\n",
    "add_levels = function(x){\n",
    "    x = as.character(x)\n",
    "    x = gsub('__', '', x)\n",
    "    y = str_split(x, '; ')\n",
    "    y.len = length(y[[1]])\n",
    "    for(i in y.len:7){\n",
    "        if(i != 7){\n",
    "            x = paste(c(x, 'unclassified'), collapse='; ')\n",
    "            }\n",
    "        }\n",
    "    return(x)\n",
    "    }\n",
    "\n",
    "tbl.j = tbl.j %>%\n",
    "    mutate(V2 = sapply(V2, add_levels)) %>%\n",
    "    separate(V2, c('domain', 'phylum', 'class', 'order', 'family', 'genus', 'species'), sep='; ')"
   ]
  },
  {
   "cell_type": "code",
   "execution_count": 28,
   "metadata": {
    "collapsed": false
   },
   "outputs": [
    {
     "name": "stdout",
     "output_type": "stream",
     "text": [
      "\n",
      "Error in eval(expr, envir, enclos) : object 'tbl.j' not found\n"
     ]
    },
    {
     "name": "stderr",
     "output_type": "stream",
     "text": [
      "/opt/anaconda/lib/python2.7/site-packages/rpy2/robjects/functions.py:106: UserWarning: Error in eval(expr, envir, enclos) : object 'tbl.j' not found\n",
      "\n",
      "  res = super(Function, self).__call__(*new_args, **new_kwargs)\n"
     ]
    }
   ],
   "source": [
    "%%R -h 600 -w 600\n",
    "\n",
    "tbl.j = tbl.j %>%\n",
    "    arrange(Negative_Control)\n",
    "\n",
    "tbl.j.phylum = tbl.j %>%\n",
    "    group_by(domain, phylum) %>%\n",
    "    summarize(\n",
    "        OTU_count = n(),\n",
    "        abundance = sum(Negative_Control)\n",
    "    )\n",
    "\n",
    "p1 = ggplot(tbl.j.phylum, aes(phylum, OTU_count, color=domain)) +\n",
    "    geom_point() +\n",
    "    theme(\n",
    "        axis.text.x = element_text(angle=90, hjust=1)\n",
    "        )\n",
    "\n",
    "\n",
    "tbl.j.class = tbl.j %>%\n",
    "    group_by(class) %>%\n",
    "    summarize(\n",
    "        OTU_count = n(),\n",
    "        abundance = sum(Negative_Control)\n",
    "    )\n",
    "\n",
    "p2 = ggplot(tbl.j.class, aes(class, OTU_count, color=class)) +\n",
    "    geom_point() +\n",
    "    theme(\n",
    "        axis.text.x = element_text(angle=90, hjust=1)\n",
    "        )\n",
    "\n",
    "\n",
    "tbl.j.genus = tbl.j %>%\n",
    "    group_by(class, genus) %>%\n",
    "    summarize(\n",
    "        OTU_count = n(),\n",
    "        abundance = sum(Negative_Control)\n",
    "    )\n",
    "\n",
    "p3 = ggplot(tbl.j.genus, aes(genus, OTU_count, color=class)) +\n",
    "    geom_point() +\n",
    "    theme(\n",
    "        axis.text.x = element_text(angle=90, hjust=1)\n",
    "        )\n",
    "\n",
    "grid.arrange(p1, p2, p3, ncol=1)"
   ]
  }
 ],
 "metadata": {
  "hide_input": true,
  "kernelspec": {
   "display_name": "Python 2",
   "language": "python",
   "name": "python2"
  },
  "language_info": {
   "codemirror_mode": {
    "name": "ipython",
    "version": 2
   },
   "file_extension": ".py",
   "mimetype": "text/x-python",
   "name": "python",
   "nbconvert_exporter": "python",
   "pygments_lexer": "ipython2",
   "version": "2.7.10"
  }
 },
 "nbformat": 4,
 "nbformat_minor": 0
}
