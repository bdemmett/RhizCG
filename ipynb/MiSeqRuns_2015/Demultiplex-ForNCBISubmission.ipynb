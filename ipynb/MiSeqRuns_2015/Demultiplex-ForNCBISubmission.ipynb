{
 "cells": [
  {
   "cell_type": "markdown",
   "metadata": {
    "collapsed": true
   },
   "source": [
    "*Note that this notebook needs to run in phython 2.7, something in the demultiplexing stage fails in python 3.6"
   ]
  },
  {
   "cell_type": "markdown",
   "metadata": {},
   "source": [
    "# Demultiplexing Raw Sequence Files for Uploading to NCBI"
   ]
  },
  {
   "cell_type": "markdown",
   "metadata": {},
   "source": [
    "### Set up workspace and read in mapping file."
   ]
  },
  {
   "cell_type": "markdown",
   "metadata": {},
   "source": [
    "* Mapping file could contain 3 columns:\n",
    "    * Sample Name\n",
    "    * Index 1 barcode \n",
    "    * Index 2 barcode"
   ]
  },
  {
   "cell_type": "code",
   "execution_count": 1,
   "metadata": {
    "collapsed": true
   },
   "outputs": [],
   "source": [
    "workDir = '/home/bryan/RhizCG/data/v4demultiplexed/'\n",
    "varSeqDir = '/var/seq_data/RhizCG/150520_run1/raw/'\n",
    "databaseDir = '/home/bryan/RhizCG/data/databases/'\n",
    "\n",
    "seqFile = 'pear_merged-2015-06-01.assembled.dmult.fastq'\n",
    "nprocs = 20"
   ]
  },
  {
   "cell_type": "code",
   "execution_count": 2,
   "metadata": {
    "collapsed": true
   },
   "outputs": [],
   "source": [
    "import pandas as pd\n",
    "import screed\n",
    "#from itertools import izip\n",
    "# yoavram: Bug fix for Python 3 as suggested in https://github.com/nschloe/matplotlib2tikz/issues/20\n",
    "try:\n",
    "    from itertools import izip\n",
    "except ImportError:\n",
    "    izip = zip\n",
    "from collections import Counter\n",
    "import gzip\n",
    "import matplotlib.pyplot as plt\n",
    "#import seaborn as sns\n",
    "import pickle\n",
    "\n",
    "# from bokeh.io import output_notebook, show\n",
    "# from bokeh.plotting import figure\n",
    "# from bokeh.models.glyphs import Circle\n",
    "# from bokeh.models import ColumnDataSource\n",
    "# from bokeh.models import HoverTool, BoxZoomTool, ResetTool, CustomJS, CrosshairTool\n",
    "# output_notebook()\n",
    "\n",
    "%matplotlib inline"
   ]
  },
  {
   "cell_type": "code",
   "execution_count": 3,
   "metadata": {
    "collapsed": true
   },
   "outputs": [],
   "source": [
    "ir_df = pd.read_table(\"/home/bryan/RhizCG/data/MiSeq_amplicon/DeMultiplexMappingFile-Lib1.txt\")"
   ]
  },
  {
   "cell_type": "code",
   "execution_count": 4,
   "metadata": {
    "scrolled": true
   },
   "outputs": [
    {
     "data": {
      "text/html": [
       "<div>\n",
       "<table border=\"1\" class=\"dataframe\">\n",
       "  <thead>\n",
       "    <tr style=\"text-align: right;\">\n",
       "      <th></th>\n",
       "      <th>#sampleID</th>\n",
       "      <th>Library</th>\n",
       "      <th>fwd_barcode</th>\n",
       "      <th>rev_barcode</th>\n",
       "    </tr>\n",
       "  </thead>\n",
       "  <tbody>\n",
       "    <tr>\n",
       "      <th>0</th>\n",
       "      <td>RhizCG-Neg_Control</td>\n",
       "      <td>1</td>\n",
       "      <td>GGATATCT</td>\n",
       "      <td>TCGCTATA</td>\n",
       "    </tr>\n",
       "    <tr>\n",
       "      <th>1</th>\n",
       "      <td>RhizCG-Neg_Control_b</td>\n",
       "      <td>1</td>\n",
       "      <td>GATCGTGT</td>\n",
       "      <td>TCATAGAC</td>\n",
       "    </tr>\n",
       "    <tr>\n",
       "      <th>2</th>\n",
       "      <td>RhizCG-S1-1.27_Nneg</td>\n",
       "      <td>1</td>\n",
       "      <td>ATCGTACG</td>\n",
       "      <td>AACTCTCG</td>\n",
       "    </tr>\n",
       "    <tr>\n",
       "      <th>3</th>\n",
       "      <td>RhizCG-S1-1.27_Npos</td>\n",
       "      <td>1</td>\n",
       "      <td>ACTATCTG</td>\n",
       "      <td>AACTCTCG</td>\n",
       "    </tr>\n",
       "    <tr>\n",
       "      <th>4</th>\n",
       "      <td>RhizCG-S1-2.05_Nneg</td>\n",
       "      <td>1</td>\n",
       "      <td>ATCGTACG</td>\n",
       "      <td>GTCGTAGT</td>\n",
       "    </tr>\n",
       "  </tbody>\n",
       "</table>\n",
       "</div>"
      ],
      "text/plain": [
       "              #sampleID  Library fwd_barcode rev_barcode\n",
       "0    RhizCG-Neg_Control        1    GGATATCT    TCGCTATA\n",
       "1  RhizCG-Neg_Control_b        1    GATCGTGT    TCATAGAC\n",
       "2   RhizCG-S1-1.27_Nneg        1    ATCGTACG    AACTCTCG\n",
       "3   RhizCG-S1-1.27_Npos        1    ACTATCTG    AACTCTCG\n",
       "4   RhizCG-S1-2.05_Nneg        1    ATCGTACG    GTCGTAGT"
      ]
     },
     "execution_count": 4,
     "metadata": {},
     "output_type": "execute_result"
    }
   ],
   "source": [
    "ir_df.head()"
   ]
  },
  {
   "cell_type": "code",
   "execution_count": 5,
   "metadata": {
    "collapsed": true
   },
   "outputs": [],
   "source": [
    "# rev-comp functions\n",
    "def complement(seq): \n",
    "    idx = {'A': 'T', 'C': 'G', 'G': 'C', 'T': 'A', 'N':'N'} \n",
    "    idx.update( {x.lower():y.lower() for x,y in idx.items()} )\n",
    "    return ''.join(idx[x] for x in list(seq))\n",
    "\n",
    "def revComp(seq):\n",
    "    seq = seq[::-1]\n",
    "    return complement(seq)  "
   ]
  },
  {
   "cell_type": "code",
   "execution_count": 7,
   "metadata": {
    "scrolled": true
   },
   "outputs": [
    {
     "data": {
      "text/html": [
       "<div>\n",
       "<table border=\"1\" class=\"dataframe\">\n",
       "  <thead>\n",
       "    <tr style=\"text-align: right;\">\n",
       "      <th></th>\n",
       "      <th>#sampleID</th>\n",
       "      <th>Library</th>\n",
       "      <th>fwd_barcode</th>\n",
       "      <th>rev_barcode</th>\n",
       "    </tr>\n",
       "  </thead>\n",
       "  <tbody>\n",
       "    <tr>\n",
       "      <th>0</th>\n",
       "      <td>RhizCG-Neg_Control</td>\n",
       "      <td>1</td>\n",
       "      <td>GGATATCT</td>\n",
       "      <td>TATAGCGA</td>\n",
       "    </tr>\n",
       "    <tr>\n",
       "      <th>1</th>\n",
       "      <td>RhizCG-Neg_Control_b</td>\n",
       "      <td>1</td>\n",
       "      <td>GATCGTGT</td>\n",
       "      <td>GTCTATGA</td>\n",
       "    </tr>\n",
       "    <tr>\n",
       "      <th>2</th>\n",
       "      <td>RhizCG-S1-1.27_Nneg</td>\n",
       "      <td>1</td>\n",
       "      <td>ATCGTACG</td>\n",
       "      <td>CGAGAGTT</td>\n",
       "    </tr>\n",
       "    <tr>\n",
       "      <th>3</th>\n",
       "      <td>RhizCG-S1-1.27_Npos</td>\n",
       "      <td>1</td>\n",
       "      <td>ACTATCTG</td>\n",
       "      <td>CGAGAGTT</td>\n",
       "    </tr>\n",
       "    <tr>\n",
       "      <th>4</th>\n",
       "      <td>RhizCG-S1-2.05_Nneg</td>\n",
       "      <td>1</td>\n",
       "      <td>ATCGTACG</td>\n",
       "      <td>ACTACGAC</td>\n",
       "    </tr>\n",
       "  </tbody>\n",
       "</table>\n",
       "</div>"
      ],
      "text/plain": [
       "              #sampleID  Library fwd_barcode rev_barcode\n",
       "0    RhizCG-Neg_Control        1    GGATATCT    TATAGCGA\n",
       "1  RhizCG-Neg_Control_b        1    GATCGTGT    GTCTATGA\n",
       "2   RhizCG-S1-1.27_Nneg        1    ATCGTACG    CGAGAGTT\n",
       "3   RhizCG-S1-1.27_Npos        1    ACTATCTG    CGAGAGTT\n",
       "4   RhizCG-S1-2.05_Nneg        1    ATCGTACG    ACTACGAC"
      ]
     },
     "execution_count": 7,
     "metadata": {},
     "output_type": "execute_result"
    }
   ],
   "source": [
    "Barcode_R = [(revComp(y)).upper() for y \\\n",
    "                         in ir_df.rev_barcode]\n",
    "ir_df.rev_barcode = Barcode_R\n",
    "ir_df.head()"
   ]
  },
  {
   "cell_type": "markdown",
   "metadata": {},
   "source": [
    "# Library1-run1"
   ]
  },
  {
   "cell_type": "markdown",
   "metadata": {},
   "source": [
    "## Check that sequences are in the same order between read and index files"
   ]
  },
  {
   "cell_type": "markdown",
   "metadata": {},
   "source": [
    "Sequence names begin with the '@' symbol in each file. Check that the characters following the '@' symbol are identical between each file"
   ]
  },
  {
   "cell_type": "code",
   "execution_count": 8,
   "metadata": {
    "scrolled": false
   },
   "outputs": [
    {
     "name": "stdout",
     "output_type": "stream",
     "text": [
      "@M02465:150:000000000-AE9NC:1:1101:13459:1675 1:N:0:0\r\n",
      "TTCTTTTT\r\n",
      "+\r\n",
      "1>1>1@1@\r\n",
      "@M02465:150:000000000-AE9NC:1:1101:15650:1731 1:N:0:0\r\n",
      "TCTACGAC\r\n",
      "+\r\n",
      "3>AABBBC\r\n",
      "@M02465:150:000000000-AE9NC:1:1101:13843:1740 1:N:0:0\r\n",
      "TTTCCTAC\r\n",
      "\r\n",
      "gzip: stdout: Broken pipe\r\n"
     ]
    }
   ],
   "source": [
    "!zcat /home/seq_data/RhizCG/150520_run1/raw/RhizCG-Library1_run1_index1.fq.gz | head"
   ]
  },
  {
   "cell_type": "code",
   "execution_count": 9,
   "metadata": {
    "scrolled": true
   },
   "outputs": [
    {
     "name": "stdout",
     "output_type": "stream",
     "text": [
      "@M02465:150:000000000-AE9NC:1:1101:13459:1675 1:N:0:0\r\n",
      "TTCTGTCTTTTCGTATGCAGGGCGTTGTGTTCGATAATGGTGATATGTATGTTGACGGCCATAAGGCTGCTTCTGACGTTCGTGATGAGTTTGTATCTGTTACTGAGAAGTTAATGGATGAATTGGCACAGATCGGAAGAGCGGTTCAGCAGGAATGCCGAGACCGATCTCGTATGCCGTCTTCTGCTTGTATATAAACATTTTTCTCTTTTTTTTCTTTTTTTTTCTTTCTCTCTTCTTTTTACTTTTTT\r\n",
      "+\r\n",
      "A11>1B@FFFFFEFA11331110A0A000BB2A0DA/D21AA1D2DFB2A22BA21///A/BB111AGACHHFGF21B?FCGFG0FD2B@FGHGD@GHGHFHGHH2B1>BFGGDBGGBGGB1FHHHE1E0F<FFF///C0FFCCECGFBD1FG/0?GF1<>>-.<@-<<C=C.<:;00-;-G:0C00;CF.00;0;000000000/9000009---/9////---9/////;/;/9//;////-9/9//;-\r\n",
      "@M02465:150:000000000-AE9NC:1:1101:15650:1731 1:N:0:0\r\n",
      "TCCTTCGGTGGCAAGCGTTGTTCGGAATTACTGGGCGTAAAGGGCGTGTAGGCGGCCTTCTAAGTCAGACGTGAAATCCCCCGGCTTAACCTGGGAACTGCGTCTGATACTGGGAGGCTAGAGTATGGGAGAGGGAGGTAGACTTCCAGGTGTAGCGGTGAAATGCGTAGATATCTGGAGGACCACCGGTGGCGAAGGCGGCATCCTGGACCGGTATTGACGCTGAGGCGCGAAAGCCAGGGGAGCAAACG\r\n",
      "+\r\n",
      ">1A1>@>AAA?B1B1A1EEAFCD00B0BABADDFGFEFA/FGDF///AABD1AAE@/E1@BB@FGE2B11>F//FGBGCFFEEC>>>11BDGHGGCGFHHECGGGGFFGGHHGHFFCC?1?1?FH<FGHBC.<CGC?C<0D<0==FDFFGHHH0<CCCACE0;CF9;;AAEG0;CBFFFFBA.;.A..;@@BA@---:A?@@-9B;;BB-A9@@9-9/9/9;B-A-AE-;9;---9/--9-;>B---99-9\r\n",
      "@M02465:150:000000000-AE9NC:1:1101:13843:1740 1:N:0:0\r\n",
      "AAAGAGCTTACCAAAATGTAACTGGACAATCAGAAAGAGATTGCCGAGATGCAAAATGAGACTCAAAAAGAGATTGCTGGCATTCAGTCGGCGACTTCACGCCAGAATACGAAAGACCAGGTATATGCACAAAATGAGATGCTTGCTTATCAACAGAAGGAGTCTACTGCTCGCGTTGCGTCTATTATGGAAAACACCAATCTTTCCAAGCAACAGCAGGTTTCCGAGATCATGCGCCAAATGCTAACTCA\r\n",
      "\r\n",
      "gzip: stdout: Broken pipe\r\n"
     ]
    }
   ],
   "source": [
    "!zcat /home/seq_data/RhizCG/150520_run1/raw/RhizCG-Library1_run1_read1.fq.gz | head"
   ]
  },
  {
   "cell_type": "markdown",
   "metadata": {},
   "source": [
    "### Create new R1 and R2 files for each sample based on index barcodes"
   ]
  },
  {
   "cell_type": "markdown",
   "metadata": {},
   "source": [
    "This block will read in your read1, read2, index1, and index2 files, compare barcode sequences to the provided mapping file, and create new files based on the sample names provided in the mapping file."
   ]
  },
  {
   "cell_type": "code",
   "execution_count": 10,
   "metadata": {
    "collapsed": true
   },
   "outputs": [],
   "source": [
    "idx_d = dict([(row[\"rev_barcode\"].upper() + row[\"fwd_barcode\"].upper(), row[\"#sampleID\"]) for i, row in ir_df.iterrows()])"
   ]
  },
  {
   "cell_type": "code",
   "execution_count": 11,
   "metadata": {
    "collapsed": true,
    "scrolled": true
   },
   "outputs": [],
   "source": [
    "read1_fhs = dict([(s, gzip.open(\"/home/bryan/RhizCG/data/v4demultiplexed/run1/%s.R1.fq.gz\"%s, \"w\")) for s in ir_df[\"#sampleID\"]])\n",
    "read2_fhs = dict([(s, gzip.open(\"/home/bryan/RhizCG/data/v4demultiplexed/run1/%s.R2.fq.gz\"%s, \"w\")) for s in ir_df[\"#sampleID\"]])\n",
    "\n",
    "idx_d = dict([(row[\"rev_barcode\"].upper() + row[\"fwd_barcode\"].upper(), row[\"#sampleID\"]) for i, row in ir_df.iterrows()])\n",
    "\n",
    "path = \"/home/seq_data/RhizCG/150520_run1/raw/\"\n",
    "ir1 = screed.open(path + \"RhizCG-Library1_run1_index1.fq.gz\")\n",
    "ir2 = screed.open(path + \"RhizCG-Library1_run1_index2.fq.gz\")\n",
    "r1 = screed.open(path + \"RhizCG-Library1_run1_read1.fq.gz\")\n",
    "r2 = screed.open(path + \"RhizCG-Library1_run1_read2.fq.gz\")\n",
    "\n",
    "seq_cnt = Counter()\n",
    "bc_cnt = Counter()\n",
    "bad_bc_count = 0\n",
    "\n",
    "for i, recs in enumerate(izip(ir1, ir2, r1, r2)):\n",
    "    ir1 = recs[0]\n",
    "    ir2 = recs[1]\n",
    "    r1 = recs[2]\n",
    "    r2 = recs[3]\n",
    "        \n",
    "    idx_key = ir1.sequence + ir2.sequence\n",
    "    bc_cnt[idx_key] += 1\n",
    "    \n",
    "    try:\n",
    "        sample_name = idx_d[idx_key]\n",
    "    except KeyError:\n",
    "        bad_bc_count += 1\n",
    "        continue\n",
    "    \n",
    "    seq_cnt[sample_name] += 1\n",
    "    \n",
    "    fastq1 = \"@%s\\n%s\\n+\\n%s\\n\"%(r1.name, r1.sequence, r1.quality)\n",
    "    read1_fhs[sample_name.encode()].write(fastq1)\n",
    "\n",
    "    fastq2 = \"@%s\\n%s\\n+\\n%s\\n\"%(r2.name, r2.sequence, r2.quality)\n",
    "    read2_fhs[sample_name].write(fastq2)\n",
    "    \n",
    "for i, j in zip(read1_fhs.itervalues(), read2_fhs.itervalues()):\n",
    "    i.close(), j.close()"
   ]
  },
  {
   "cell_type": "code",
   "execution_count": 16,
   "metadata": {},
   "outputs": [
    {
     "name": "stdout",
     "output_type": "stream",
     "text": [
      "@M02465:150:000000000-AE9NC:1:1101:15879:1880 1:N:0:0\r\n",
      "TACGTAGGGTGCGAGCGTTAATCGGAATTACTGGGCGTAAAGCGTGCGCAGGCGGTTTTGTAAGACAGGTGTGAAATCCCCGGGCTTAACCTGGGAACTGCGCTTGTGACTGCAAGACTCGAGTACGGCAGAGGGGGGTAGAATTCCACGTGTAGCAGTGAAATGCGTAGAGATGGGGAGGAATAGCGATGGCGAAGGCAGCCCCCTGGGGCGATACTGGCGCTCGTGCACGAAAGCGGGGGGAGCAAACG\r\n",
      "+\r\n",
      "AAA?ABC?A>>AA2AEAAE225DAEA2AFBDGBBEGEAA1ABGE1B?A00A>B>?>>BF1244@4BB2?B@3?4?4FGF3FC?E/</B2BBBFAA02/2FG///?F?F11?F0?DB0??1?<ADHHGC--<..E?CFA9.9//9FFBFFDEF/:99/99B//;BBBD.;@.9/;//;9.9-..////--99..9---..9.99..-9.?.-.9--:9;B/;B.;9-9;..;9..;./.-9;->AF..:/9.\r\n",
      "@M02465:150:000000000-AE9NC:1:1101:11677:2022 1:N:0:0\r\n",
      "TACGTAGGGTGCGAGCGTTAATCGGAATTACTGGGCGTAAAGCGTGCGCAGGCGGTTCGTTGTGTCCGCGGTGAAATCCCCCGGCTCCACCCCGGACTGGCGCGTGAAACTGTCCGACTGGAGTGCGGGCCAGGGGGGGGGAATTCCCCGTGGAGCGGGGGAATGCGTAGAGAGTGGGAGGAAGACCCGCGGGGAAGGCGGCCCCCCGGGCCGGCTCTGGCGGCCAGGGTCGGAGGCCGGGGGCTCACGAC\r\n",
      "+\r\n",
      ">1AA1BB?AFA>1AAA0AE00FD00A0ABEFFFFEAEAEEFHFF/A/EA//>EE@>>/EEG0/?FB1>//>EE/112BEGC/<//>/<?FG//>@//>.><-.-<-..<0<<000..-::;/:/:0-----.;9C;-@--9--;///9-------;;=-9----:9-;-;-9/-9/:9-9@----/9---------------;-9;----------99/9/-------;-99------99------9/--9\r\n",
      "\r\n",
      "gzip: stdout: Broken pipe\r\n"
     ]
    }
   ],
   "source": [
    "!zcat /home/bryan/RhizCG/data/v4demultiplexed/run1/RhizCG-S1-1.27_Nneg.R1.fq.gz | head -8"
   ]
  },
  {
   "cell_type": "markdown",
   "metadata": {
    "collapsed": true
   },
   "source": [
    "# library 1 run1-rerun"
   ]
  },
  {
   "cell_type": "code",
   "execution_count": 17,
   "metadata": {
    "collapsed": true
   },
   "outputs": [],
   "source": [
    "read1_fhs = dict([(s, gzip.open(\"/home/bryan/RhizCG/data/v4demultiplexed/run1-rerun//%s.R1.fq.gz\"%s, \"w\")) for s in ir_df[\"#sampleID\"]])\n",
    "read2_fhs = dict([(s, gzip.open(\"/home/bryan/RhizCG/data/v4demultiplexed/run1-rerun//%s.R2.fq.gz\"%s, \"w\")) for s in ir_df[\"#sampleID\"]])\n",
    "\n",
    "idx_d = dict([(row[\"rev_barcode\"].upper() + row[\"fwd_barcode\"].upper(), row[\"#sampleID\"]) for i, row in ir_df.iterrows()])\n",
    "\n",
    "path = \"/home/seq_data/RhizCG/150522_run1_rerun/raw/\"\n",
    "ir1 = screed.open(path + \"RhizCG-Library1_rerun_index1.fq.gz\")\n",
    "ir2 = screed.open(path + \"RhizCG-Library1_rerun_index2.fq.gz\")\n",
    "r1 = screed.open(path + \"RhizCG-Library1_rerun_read1.fq.gz\")\n",
    "r2 = screed.open(path + \"RhizCG-Library1_rerun_read2.fq.gz\")\n",
    "\n",
    "seq_cnt = Counter()\n",
    "bc_cnt = Counter()\n",
    "bad_bc_count = 0\n",
    "\n",
    "for i, recs in enumerate(izip(ir1, ir2, r1, r2)):\n",
    "    ir1 = recs[0]\n",
    "    ir2 = recs[1]\n",
    "    r1 = recs[2]\n",
    "    r2 = recs[3]\n",
    "        \n",
    "    idx_key = ir1.sequence + ir2.sequence\n",
    "    bc_cnt[idx_key] += 1\n",
    "    \n",
    "    try:\n",
    "        sample_name = idx_d[idx_key]\n",
    "    except KeyError:\n",
    "        bad_bc_count += 1\n",
    "        continue\n",
    "    \n",
    "    seq_cnt[sample_name] += 1\n",
    "    \n",
    "    fastq1 = \"@%s\\n%s\\n+\\n%s\\n\"%(r1.name, r1.sequence, r1.quality)\n",
    "    read1_fhs[sample_name.encode()].write(fastq1)\n",
    "\n",
    "    fastq2 = \"@%s\\n%s\\n+\\n%s\\n\"%(r2.name, r2.sequence, r2.quality)\n",
    "    read2_fhs[sample_name].write(fastq2)\n",
    "    \n",
    "for i, j in zip(read1_fhs.itervalues(), read2_fhs.itervalues()):\n",
    "    i.close(), j.close()"
   ]
  },
  {
   "cell_type": "code",
   "execution_count": 18,
   "metadata": {
    "scrolled": true
   },
   "outputs": [
    {
     "name": "stdout",
     "output_type": "stream",
     "text": [
      "We found 3249535 barcodes that did not match the mapping file.\n"
     ]
    }
   ],
   "source": [
    "print \"We found %s barcodes that did not match the mapping file.\"%str(bad_bc_count)"
   ]
  },
  {
   "cell_type": "markdown",
   "metadata": {},
   "source": [
    "# Library 2"
   ]
  },
  {
   "cell_type": "code",
   "execution_count": 6,
   "metadata": {
    "collapsed": true
   },
   "outputs": [],
   "source": [
    "ir_df = pd.read_table(\"/home/bryan/RhizCG/data/MiSeq_amplicon/DeMultiplexMappingFile-Lib2.txt\")"
   ]
  },
  {
   "cell_type": "code",
   "execution_count": 7,
   "metadata": {},
   "outputs": [
    {
     "data": {
      "text/html": [
       "<div>\n",
       "<table border=\"1\" class=\"dataframe\">\n",
       "  <thead>\n",
       "    <tr style=\"text-align: right;\">\n",
       "      <th></th>\n",
       "      <th>#sampleID</th>\n",
       "      <th>Library</th>\n",
       "      <th>fwd_barcode</th>\n",
       "      <th>rev_barcode</th>\n",
       "    </tr>\n",
       "  </thead>\n",
       "  <tbody>\n",
       "    <tr>\n",
       "      <th>0</th>\n",
       "      <td>RhizCG-S4-4.27_Npos</td>\n",
       "      <td>2</td>\n",
       "      <td>ATCGTACG</td>\n",
       "      <td>AACTCTCG</td>\n",
       "    </tr>\n",
       "    <tr>\n",
       "      <th>1</th>\n",
       "      <td>RhizCG-S3-4.27_Npos</td>\n",
       "      <td>2</td>\n",
       "      <td>ACTATCTG</td>\n",
       "      <td>AACTCTCG</td>\n",
       "    </tr>\n",
       "    <tr>\n",
       "      <th>2</th>\n",
       "      <td>RhizCG-S5-2.05_Npos</td>\n",
       "      <td>2</td>\n",
       "      <td>TAGCGAGT</td>\n",
       "      <td>AACTCTCG</td>\n",
       "    </tr>\n",
       "    <tr>\n",
       "      <th>3</th>\n",
       "      <td>RhizCG-S1-1.06_Nneg</td>\n",
       "      <td>2</td>\n",
       "      <td>CTGCGTGT</td>\n",
       "      <td>AACTCTCG</td>\n",
       "    </tr>\n",
       "    <tr>\n",
       "      <th>4</th>\n",
       "      <td>RhizCG-S4-1.06_Npos</td>\n",
       "      <td>2</td>\n",
       "      <td>TCATCGAG</td>\n",
       "      <td>AACTCTCG</td>\n",
       "    </tr>\n",
       "  </tbody>\n",
       "</table>\n",
       "</div>"
      ],
      "text/plain": [
       "             #sampleID  Library fwd_barcode rev_barcode\n",
       "0  RhizCG-S4-4.27_Npos        2    ATCGTACG    AACTCTCG\n",
       "1  RhizCG-S3-4.27_Npos        2    ACTATCTG    AACTCTCG\n",
       "2  RhizCG-S5-2.05_Npos        2    TAGCGAGT    AACTCTCG\n",
       "3  RhizCG-S1-1.06_Nneg        2    CTGCGTGT    AACTCTCG\n",
       "4  RhizCG-S4-1.06_Npos        2    TCATCGAG    AACTCTCG"
      ]
     },
     "execution_count": 7,
     "metadata": {},
     "output_type": "execute_result"
    }
   ],
   "source": [
    "ir_df.head()"
   ]
  },
  {
   "cell_type": "code",
   "execution_count": 8,
   "metadata": {},
   "outputs": [
    {
     "data": {
      "text/html": [
       "<div>\n",
       "<table border=\"1\" class=\"dataframe\">\n",
       "  <thead>\n",
       "    <tr style=\"text-align: right;\">\n",
       "      <th></th>\n",
       "      <th>#sampleID</th>\n",
       "      <th>Library</th>\n",
       "      <th>fwd_barcode</th>\n",
       "      <th>rev_barcode</th>\n",
       "    </tr>\n",
       "  </thead>\n",
       "  <tbody>\n",
       "    <tr>\n",
       "      <th>0</th>\n",
       "      <td>RhizCG-S4-4.27_Npos</td>\n",
       "      <td>2</td>\n",
       "      <td>ATCGTACG</td>\n",
       "      <td>CGAGAGTT</td>\n",
       "    </tr>\n",
       "    <tr>\n",
       "      <th>1</th>\n",
       "      <td>RhizCG-S3-4.27_Npos</td>\n",
       "      <td>2</td>\n",
       "      <td>ACTATCTG</td>\n",
       "      <td>CGAGAGTT</td>\n",
       "    </tr>\n",
       "    <tr>\n",
       "      <th>2</th>\n",
       "      <td>RhizCG-S5-2.05_Npos</td>\n",
       "      <td>2</td>\n",
       "      <td>TAGCGAGT</td>\n",
       "      <td>CGAGAGTT</td>\n",
       "    </tr>\n",
       "    <tr>\n",
       "      <th>3</th>\n",
       "      <td>RhizCG-S1-1.06_Nneg</td>\n",
       "      <td>2</td>\n",
       "      <td>CTGCGTGT</td>\n",
       "      <td>CGAGAGTT</td>\n",
       "    </tr>\n",
       "    <tr>\n",
       "      <th>4</th>\n",
       "      <td>RhizCG-S4-1.06_Npos</td>\n",
       "      <td>2</td>\n",
       "      <td>TCATCGAG</td>\n",
       "      <td>CGAGAGTT</td>\n",
       "    </tr>\n",
       "  </tbody>\n",
       "</table>\n",
       "</div>"
      ],
      "text/plain": [
       "             #sampleID  Library fwd_barcode rev_barcode\n",
       "0  RhizCG-S4-4.27_Npos        2    ATCGTACG    CGAGAGTT\n",
       "1  RhizCG-S3-4.27_Npos        2    ACTATCTG    CGAGAGTT\n",
       "2  RhizCG-S5-2.05_Npos        2    TAGCGAGT    CGAGAGTT\n",
       "3  RhizCG-S1-1.06_Nneg        2    CTGCGTGT    CGAGAGTT\n",
       "4  RhizCG-S4-1.06_Npos        2    TCATCGAG    CGAGAGTT"
      ]
     },
     "execution_count": 8,
     "metadata": {},
     "output_type": "execute_result"
    }
   ],
   "source": [
    "Barcode_R = [(revComp(y)).upper() for y \\\n",
    "                         in ir_df.rev_barcode]\n",
    "ir_df.rev_barcode = Barcode_R\n",
    "ir_df.head()"
   ]
  },
  {
   "cell_type": "code",
   "execution_count": 9,
   "metadata": {},
   "outputs": [
    {
     "name": "stdout",
     "output_type": "stream",
     "text": [
      "@M01032:290:000000000-AFRDE:1:1101:15801:1331 1:N:0:0\r\n",
      "TATAGCGA\r\n",
      "+\r\n",
      "CCCDDFED\r\n",
      "@M01032:290:000000000-AFRDE:1:1101:15566:1331 1:N:0:0\r\n",
      "CGAGAGTT\r\n",
      "+\r\n",
      "CCCBCCFF\r\n",
      "@M01032:290:000000000-AFRDE:1:1101:15506:1337 1:N:0:0\r\n",
      "CGAGAATT\r\n",
      "\r\n",
      "gzip: stdout: Broken pipe\r\n"
     ]
    }
   ],
   "source": [
    "!zcat /home/seq_data/RhizCG/150615_run2/raw/RhizCG-Library2_run1_Index1.fq.gz | head"
   ]
  },
  {
   "cell_type": "code",
   "execution_count": 10,
   "metadata": {
    "scrolled": true
   },
   "outputs": [
    {
     "name": "stdout",
     "output_type": "stream",
     "text": [
      "@M01032:290:000000000-AFRDE:1:1101:15801:1331 1:N:0:0\r\n",
      "TACGGCGGGTGCAAGCGTTAATCGGAATTACTGGGCGTAAAGCGCACGCACGCGGTCTGTCAAGTCGGATGTGAAATCCCCGGGCTCAACCTGGGAACTGCATTCGACCCTGGCAGGCTAGAGTCTTGTAGAGGGGGGTAGACTTCCAGGTGTAGCGGTGACATGCGTAGAGACATGGAGGACTACCGGTGGCGCAGCGGGCCCCCTGGTCAACGCCTGACGCGCAGGAGTGAAAGCGAGGGGAGTGACCA\r\n",
      "+\r\n",
      "11A111>>D/>>BA1///A/A2D/B/ABB1BDF1A/>/>//@@////>////>//?<EGEEB>DGFEGCC?GF221B>1FC></>>/<?<??00>FFEHF1>11>11.--<G.</.-..0;0:;C00G00<0;/C---9-99/;/;;;/B://:BB--;;EF//:9;--;-9/-;/;B/9---99/-@;@@A->-@=--------9@-E9//9/----;-:-;9--------/9//9--;-9--;--//9/\r\n",
      "@M01032:290:000000000-AFRDE:1:1101:15566:1331 1:N:0:0\r\n",
      "TCCGTAGGGGGCAAGCGTTGTCCGGAATTATTGGGCGTAAAGCCCGTGTAGGCGGCCAGATAAGTCCGCTGTGAATTCTCGAGGATCACCTTCCAGCTGTCGGCGGCAACTGTCTGGCTAGAGTCCGGAAGAGGCGAATGGAGTTCCCGGTGTAGCGGTGCGATGCGCAGATATCCGGACGTACACCAGTGGCGCCGGAGGTTCTCTGGGACGGACATGTCGATGCTCACAGAAAGACTGGTGATGGGACG\r\n",
      "+\r\n",
      "111>ACAAAA@00A00AEEEEDA00//AB1DA11/BAA///210AAEAFBDGE>/>E/>01@1B@B1?///?0222BBB>F1///B<000BBC0110BG11?C/</---.>C=DFBC0<DG0<=<0CC.-:.;..:;9@C/F/;/900.:9;C0;;-@B@----9-;9-;99//;/9@?-----9//9-9;;A;9-----9-9///://-;-;----9B/9A-:/-//////;;/B/-/;9/-///;--9-\r\n",
      "@M01032:290:000000000-AFRDE:1:1101:15506:1337 1:N:0:0\r\n",
      "GGGATGAAAATGCTCACAATGACACATCTGTCCACGGAGTGCTTAATCCAACTTACCAAGCTGGGTTACGACGCGACGCCGTTCAACCAGATATTGAAGCAGAACGCAAAAAGAGAGATGAGATTGAGGCTGGGAAAAGTTACTGTAGCCGACGTTTTGGCGGCGCAACCTGTGACGACAAATCTGCTCAAATTTATGCGCGCTTCGATAAAAATGATTGGCGTATCCACCCTGCAGAGTTTTATCGCTTC\r\n",
      "\r\n",
      "gzip: stdout: Broken pipe\r\n"
     ]
    }
   ],
   "source": [
    "!zcat /home/seq_data/RhizCG/150615_run2/raw/RhizCG-Library2_run1_read1.fq.gz | head"
   ]
  },
  {
   "cell_type": "code",
   "execution_count": null,
   "metadata": {
    "collapsed": true
   },
   "outputs": [],
   "source": [
    "read1_fhs = dict([(s, gzip.open(\"/home/bryan/RhizCG/data/v4demultiplexed/lib2run1/%s.R1.fq.gz\"%s, \"w\")) for s in ir_df[\"#sampleID\"]])\n",
    "read2_fhs = dict([(s, gzip.open(\"/home/bryan/RhizCG/data/v4demultiplexed/lib2run1/%s.R2.fq.gz\"%s, \"w\")) for s in ir_df[\"#sampleID\"]])\n",
    "\n",
    "idx_d = dict([(row[\"rev_barcode\"].upper() + row[\"fwd_barcode\"].upper(), row[\"#sampleID\"]) for i, row in ir_df.iterrows()])\n",
    "\n",
    "path = \"/home/seq_data/RhizCG/150615_run2/raw/\"\n",
    "ir1 = screed.open(path + \"RhizCG-Library2_run1_Index1.fq.gz\")\n",
    "ir2 = screed.open(path + \"RhizCG-Library2_run1_Index2.fq.gz\")\n",
    "r1 = screed.open(path + \"RhizCG-Library2_run1_read1.fq.gz\")\n",
    "r2 = screed.open(path + \"RhizCG-Library2_run1_read1.fq.gz\")\n",
    "\n",
    "seq_cnt = Counter()\n",
    "bc_cnt = Counter()\n",
    "bad_bc_count = 0\n",
    "\n",
    "for i, recs in enumerate(izip(ir1, ir2, r1, r2)):\n",
    "    ir1 = recs[0]\n",
    "    ir2 = recs[1]\n",
    "    r1 = recs[2]\n",
    "    r2 = recs[3]\n",
    "        \n",
    "    idx_key = ir1.sequence + ir2.sequence\n",
    "    bc_cnt[idx_key] += 1\n",
    "    \n",
    "    try:\n",
    "        sample_name = idx_d[idx_key]\n",
    "    except KeyError:\n",
    "        bad_bc_count += 1\n",
    "        continue\n",
    "    \n",
    "    seq_cnt[sample_name] += 1\n",
    "    \n",
    "    fastq1 = \"@%s\\n%s\\n+\\n%s\\n\"%(r1.name, r1.sequence, r1.quality)\n",
    "    read1_fhs[sample_name.encode()].write(fastq1)\n",
    "\n",
    "    fastq2 = \"@%s\\n%s\\n+\\n%s\\n\"%(r2.name, r2.sequence, r2.quality)\n",
    "    read2_fhs[sample_name].write(fastq2)\n",
    "    \n",
    "for i, j in zip(read1_fhs.itervalues(), read2_fhs.itervalues()):\n",
    "    i.close(), j.close()"
   ]
  },
  {
   "cell_type": "code",
   "execution_count": 29,
   "metadata": {},
   "outputs": [
    {
     "name": "stdout",
     "output_type": "stream",
     "text": [
      "We found 1906597 barcodes that did not match the mapping file.\n"
     ]
    }
   ],
   "source": [
    "print \"We found %s barcodes that did not match the mapping file.\"%str(bad_bc_count)"
   ]
  },
  {
   "cell_type": "markdown",
   "metadata": {},
   "source": [
    "# lib2 rerun"
   ]
  },
  {
   "cell_type": "code",
   "execution_count": 11,
   "metadata": {
    "scrolled": false
   },
   "outputs": [
    {
     "name": "stdout",
     "output_type": "stream",
     "text": [
      "@M01032:293:000000000-AG0VY:1:1101:16244:1345 1:N:0:0\r\n",
      "TAGTCTCC\r\n",
      "+\r\n",
      "CCCCCFFF\r\n",
      "@M01032:293:000000000-AG0VY:1:1101:16047:1346 1:N:0:0\r\n",
      "TATAGCGA\r\n",
      "+\r\n",
      "BBAABBDB\r\n",
      "@M01032:293:000000000-AG0VY:1:1101:15548:1347 1:N:0:0\r\n",
      "CGAGAGTT\r\n",
      "\r\n",
      "gzip: stdout: Broken pipe\r\n"
     ]
    }
   ],
   "source": [
    "!zcat /home/seq_data/RhizCG/150622_run2_rerun/raw/RhizCG-Library2_rerun_Index1.fq.gz | head"
   ]
  },
  {
   "cell_type": "code",
   "execution_count": 12,
   "metadata": {},
   "outputs": [
    {
     "name": "stdout",
     "output_type": "stream",
     "text": [
      "@M01032:293:000000000-AG0VY:1:1101:16244:1345 1:N:0:0\r\n",
      "TACGGAGGGTGCGAGCGTTGTCCGGAATCACTGGGCGTAAAGGGCGCGTAGGCGGCGCGGGGAGTCGGGGGTGAAAGGCCGGGGCTCAACCCCGGATCGGCGGTCGAGACTGCCGGGCTGGAGGACGGGAGGGGAGGGGGGGATGCTGGGTGGGGGGGGGGAATGCGAAGAGAGAGGGAGGTACAACGGGGGCGAGGGCGGGTCGTGGGGGGGGGGATGAAGGCGGGGGGCGAAAGAGGGGGGGGGGGAGG\r\n",
      "+\r\n",
      "AAAAAAADD>>>EEEAEFGGGF1BAEEF1GFGHHH/EFGGGHHGGGGGEEGGGGE/>/>///>>C<AC@-<;A.:CG.;;C@AG@9EFGF:..;@@-9;A@--;;;@-;-/99B;-99-AAAA9-9@@-9@-@@-99--;@---;-/9:;/9----;;9>9---9/;--;AA----:B-;9-/9///9@-;@-9--;;9;99--;--;-;--9-----://;/-;-;;-9-9--;A/9-9=@@-;---99-\r\n",
      "@M01032:293:000000000-AG0VY:1:1101:16047:1346 1:N:0:0\r\n",
      "GACGGAGGGTGCAAGCGTTAATCGGAATTACTGGGCGTAAAGCGCACGCAGGCGGTCTGTCAAGTCGGATGTGAAATCCCGGGGCTCAACCTGGGAACTGCATTCGAAACTGGCAGGCTAGAGTCCGGTAGAGGGGGGTAGAAATCCAGGTGGCGCGGGGAAATGCGTAGAGCTCTGGAGGAACACCGGGGGCGAAGGCGGCAGGCTGGAGAAGAAATGACGCAGCGGGGAGATAGCGGGGGGAGCGAAAC\r\n",
      "+\r\n",
      "1AAAAAADD>>AEGGGGGCGAFGGFBCFBFGHHHHHGGGGHH1BE/EE/AEEGGG///BB2FFGGGAEE>>BF>FF2FCG/>EE/CHHHBH0<FFF1/?GG11?@@F0?<FGB/?ACFFGFHF><<.><<<DGH.<-=--;9B/;:/B9B/;--9A@@-9@?;/9/A-;@E:////;BFFF-B-:-;@@-;@@@@;>A-;@9----;;B--/-////;BF/:A-9-;@9;-@9/99B--;>@?-@B-----\r\n",
      "@M01032:293:000000000-AG0VY:1:1101:15548:1347 1:N:0:0\r\n",
      "TACGGAGGGGGCTAGCGTTGTTCGGAATTACTGGGCGTAAAGCGCACGTAGGCGGCTTTGCAAGTTAGAGGTGAAAGCCCGGAGCTCAACTCCGGAATTGCATTTAAAACTGCATGGCTAGAATTGTGGAGAGGAGAGTGGAATTCCGAGTGTAGAGGGGAAATTCGTAGATATCGGGAAGAACACCAGTGGCGAAGGCGGCTCACTGGACACATATTGACGCTGAGGTGCGAAAGCGTGGGGAGCGAACA\r\n",
      "\r\n",
      "gzip: stdout: Broken pipe\r\n"
     ]
    }
   ],
   "source": [
    "!zcat /home/seq_data/RhizCG/150622_run2_rerun/raw/RhizCG-Library2_rerun_read1.fq.gz | head"
   ]
  },
  {
   "cell_type": "code",
   "execution_count": 13,
   "metadata": {},
   "outputs": [],
   "source": [
    "read1_fhs = dict([(s, gzip.open(\"/home/bryan/RhizCG/data/v4demultiplexed/lib2rerun/%s.R1.fq.gz\"%s, \"w\")) for s in ir_df[\"#sampleID\"]])\n",
    "read2_fhs = dict([(s, gzip.open(\"/home/bryan/RhizCG/data/v4demultiplexed/lib2rerun/%s.R2.fq.gz\"%s, \"w\")) for s in ir_df[\"#sampleID\"]])\n",
    "\n",
    "idx_d = dict([(row[\"rev_barcode\"].upper() + row[\"fwd_barcode\"].upper(), row[\"#sampleID\"]) for i, row in ir_df.iterrows()])\n",
    "\n",
    "path = \"/home/seq_data/RhizCG/150622_run2_rerun/raw/\"\n",
    "ir1 = screed.open(path + \"RhizCG-Library2_rerun_Index1.fq.gz\")\n",
    "ir2 = screed.open(path + \"RhizCG-Library2_rerun_Index2.fq.gz\")\n",
    "r1 = screed.open(path + \"RhizCG-Library2_rerun_read1.fq.gz\")\n",
    "r2 = screed.open(path + \"RhizCG-Library2_rerun_read2.fq.gz\")\n",
    "\n",
    "seq_cnt = Counter()\n",
    "bc_cnt = Counter()\n",
    "bad_bc_count = 0\n",
    "\n",
    "for i, recs in enumerate(izip(ir1, ir2, r1, r2)):\n",
    "    ir1 = recs[0]\n",
    "    ir2 = recs[1]\n",
    "    r1 = recs[2]\n",
    "    r2 = recs[3]\n",
    "        \n",
    "    idx_key = ir1.sequence + ir2.sequence\n",
    "    bc_cnt[idx_key] += 1\n",
    "    \n",
    "    try:\n",
    "        sample_name = idx_d[idx_key]\n",
    "    except KeyError:\n",
    "        bad_bc_count += 1\n",
    "        continue\n",
    "    \n",
    "    seq_cnt[sample_name] += 1\n",
    "    \n",
    "    fastq1 = \"@%s\\n%s\\n+\\n%s\\n\"%(r1.name, r1.sequence, r1.quality)\n",
    "    read1_fhs[sample_name.encode()].write(fastq1)\n",
    "\n",
    "    fastq2 = \"@%s\\n%s\\n+\\n%s\\n\"%(r2.name, r2.sequence, r2.quality)\n",
    "    read2_fhs[sample_name].write(fastq2)\n",
    "    \n",
    "for i, j in zip(read1_fhs.itervalues(), read2_fhs.itervalues()):\n",
    "    i.close(), j.close()"
   ]
  },
  {
   "cell_type": "code",
   "execution_count": 34,
   "metadata": {},
   "outputs": [
    {
     "name": "stdout",
     "output_type": "stream",
     "text": [
      "We found 3146059 barcodes that did not match the mapping file.\n"
     ]
    }
   ],
   "source": [
    "print \"We found %s barcodes that did not match the mapping file.\"%str(bad_bc_count)"
   ]
  },
  {
   "cell_type": "code",
   "execution_count": 56,
   "metadata": {
    "collapsed": true
   },
   "outputs": [],
   "source": [
    "pickle.dump(seq_cnt, open(\"/home/bryan/PennRhiz/data/run1/v4bac_lib1_demult/seq_cnt.pickle\", \"w\"))\n",
    "pickle.dump(bc_cnt, open(\"/home/bryan/PennRhiz/data/run1/v4bac_lib1_demult/bc_cnt.pickle\", \"w\"))"
   ]
  },
  {
   "cell_type": "code",
   "execution_count": 57,
   "metadata": {
    "collapsed": true
   },
   "outputs": [],
   "source": [
    "seq_cnt = pickle.load(open(\"/home/bryan/PennRhiz/data/run1/v4bac_lib1_demult/seq_cnt.pickle\"))"
   ]
  },
  {
   "cell_type": "markdown",
   "metadata": {},
   "source": [
    "### Check Sequence counts per samples"
   ]
  },
  {
   "cell_type": "markdown",
   "metadata": {},
   "source": [
    "At this point, the demultiplexing is complete, but you might want to check the total number of sequences obtained for each sample."
   ]
  },
  {
   "cell_type": "code",
   "execution_count": 58,
   "metadata": {
    "scrolled": true
   },
   "outputs": [
    {
     "name": "stderr",
     "output_type": "stream",
     "text": [
      "/opt/anaconda2/lib/python2.7/site-packages/ipykernel/__main__.py:3: FutureWarning: sort(columns=....) is deprecated, use sort_values(by=.....)\n",
      "  app.launch_new_instance()\n"
     ]
    },
    {
     "data": {
      "text/html": [
       "\n",
       "\n",
       "    <div class=\"bk-root\">\n",
       "        <div class=\"plotdiv\" id=\"c5e8cf4f-5369-401d-9e09-de55598c85a7\"></div>\n",
       "    </div>\n",
       "<script type=\"text/javascript\">\n",
       "  \n",
       "  (function(global) {\n",
       "    function now() {\n",
       "      return new Date();\n",
       "    }\n",
       "  \n",
       "    var force = \"\";\n",
       "  \n",
       "    if (typeof (window._bokeh_onload_callbacks) === \"undefined\" || force !== \"\") {\n",
       "      window._bokeh_onload_callbacks = [];\n",
       "      window._bokeh_is_loading = undefined;\n",
       "    }\n",
       "  \n",
       "  \n",
       "    \n",
       "    if (typeof (window._bokeh_timeout) === \"undefined\" || force !== \"\") {\n",
       "      window._bokeh_timeout = Date.now() + 0;\n",
       "      window._bokeh_failed_load = false;\n",
       "    }\n",
       "  \n",
       "    var NB_LOAD_WARNING = {'data': {'text/html':\n",
       "       \"<div style='background-color: #fdd'>\\n\"+\n",
       "       \"<p>\\n\"+\n",
       "       \"BokehJS does not appear to have successfully loaded. If loading BokehJS from CDN, this \\n\"+\n",
       "       \"may be due to a slow or bad network connection. Possible fixes:\\n\"+\n",
       "       \"</p>\\n\"+\n",
       "       \"<ul>\\n\"+\n",
       "       \"<li>re-rerun `output_notebook()` to attempt to load from CDN again, or</li>\\n\"+\n",
       "       \"<li>use INLINE resources instead, as so:</li>\\n\"+\n",
       "       \"</ul>\\n\"+\n",
       "       \"<code>\\n\"+\n",
       "       \"from bokeh.resources import INLINE\\n\"+\n",
       "       \"output_notebook(resources=INLINE)\\n\"+\n",
       "       \"</code>\\n\"+\n",
       "       \"</div>\"}};\n",
       "  \n",
       "    function display_loaded() {\n",
       "      if (window.Bokeh !== undefined) {\n",
       "        Bokeh.$(\"#c5e8cf4f-5369-401d-9e09-de55598c85a7\").text(\"BokehJS successfully loaded.\");\n",
       "      } else if (Date.now() < window._bokeh_timeout) {\n",
       "        setTimeout(display_loaded, 100)\n",
       "      }\n",
       "    }\n",
       "  \n",
       "    function run_callbacks() {\n",
       "      window._bokeh_onload_callbacks.forEach(function(callback) { callback() });\n",
       "      delete window._bokeh_onload_callbacks\n",
       "      console.info(\"Bokeh: all callbacks have finished\");\n",
       "    }\n",
       "  \n",
       "    function load_libs(js_urls, callback) {\n",
       "      window._bokeh_onload_callbacks.push(callback);\n",
       "      if (window._bokeh_is_loading > 0) {\n",
       "        console.log(\"Bokeh: BokehJS is being loaded, scheduling callback at\", now());\n",
       "        return null;\n",
       "      }\n",
       "      if (js_urls == null || js_urls.length === 0) {\n",
       "        run_callbacks();\n",
       "        return null;\n",
       "      }\n",
       "      console.log(\"Bokeh: BokehJS not loaded, scheduling load and callback at\", now());\n",
       "      window._bokeh_is_loading = js_urls.length;\n",
       "      for (var i = 0; i < js_urls.length; i++) {\n",
       "        var url = js_urls[i];\n",
       "        var s = document.createElement('script');\n",
       "        s.src = url;\n",
       "        s.async = false;\n",
       "        s.onreadystatechange = s.onload = function() {\n",
       "          window._bokeh_is_loading--;\n",
       "          if (window._bokeh_is_loading === 0) {\n",
       "            console.log(\"Bokeh: all BokehJS libraries loaded\");\n",
       "            run_callbacks()\n",
       "          }\n",
       "        };\n",
       "        s.onerror = function() {\n",
       "          console.warn(\"failed to load library \" + url);\n",
       "        };\n",
       "        console.log(\"Bokeh: injecting script tag for BokehJS library: \", url);\n",
       "        document.getElementsByTagName(\"head\")[0].appendChild(s);\n",
       "      }\n",
       "    };var element = document.getElementById(\"c5e8cf4f-5369-401d-9e09-de55598c85a7\");\n",
       "    if (element == null) {\n",
       "      console.log(\"Bokeh: ERROR: autoload.js configured with elementid 'c5e8cf4f-5369-401d-9e09-de55598c85a7' but no matching script tag was found. \")\n",
       "      return false;\n",
       "    }\n",
       "  \n",
       "    var js_urls = [];\n",
       "  \n",
       "    var inline_js = [\n",
       "      function(Bokeh) {\n",
       "        Bokeh.$(function() {\n",
       "            var docs_json = {\"849ed739-70f0-441d-948c-885dabc33183\":{\"roots\":{\"references\":[{\"attributes\":{\"dimension\":1,\"grid_line_color\":{\"value\":null},\"plot\":{\"id\":\"71da4a7b-471a-4b92-a6d7-92c8bb68cc12\",\"subtype\":\"Figure\",\"type\":\"Plot\"},\"ticker\":{\"id\":\"a7f988b7-5990-4b45-9f76-399862020061\",\"type\":\"LogTicker\"}},\"id\":\"adadfbf0-dfbf-4ef6-9f57-65a2524ff916\",\"type\":\"Grid\"},{\"attributes\":{\"callback\":null},\"id\":\"4ace9acd-4aea-4894-877e-90aedc4675a8\",\"type\":\"DataRange1d\"},{\"attributes\":{\"plot\":null,\"text\":null},\"id\":\"73823018-019d-4b1f-889b-2c589674e867\",\"type\":\"Title\"},{\"attributes\":{\"data_source\":{\"id\":\"73b7be6a-eaae-4517-a673-880d0e264fee\",\"type\":\"ColumnDataSource\"},\"glyph\":{\"id\":\"8b89084e-b52f-48bd-a149-cb1b3d9832cb\",\"type\":\"Circle\"},\"hover_glyph\":null,\"nonselection_glyph\":{\"id\":\"8b89084e-b52f-48bd-a149-cb1b3d9832cb\",\"type\":\"Circle\"},\"selection_glyph\":{\"id\":\"f692c5e3-2890-4358-a976-a81909bba393\",\"type\":\"Circle\"}},\"id\":\"07981887-dfed-4bf0-bc41-5ad8ffeb3acd\",\"type\":\"GlyphRenderer\"},{\"attributes\":{\"bottom_units\":\"screen\",\"fill_alpha\":{\"value\":0.5},\"fill_color\":{\"value\":\"lightgrey\"},\"left_units\":\"screen\",\"level\":\"overlay\",\"line_alpha\":{\"value\":1.0},\"line_color\":{\"value\":\"black\"},\"line_dash\":[4,4],\"line_width\":{\"value\":2},\"plot\":null,\"render_mode\":\"css\",\"right_units\":\"screen\",\"top_units\":\"screen\"},\"id\":\"94300ce0-8506-41fe-af6c-fa3c9da40e10\",\"type\":\"BoxAnnotation\"},{\"attributes\":{},\"id\":\"8149bfde-8bd7-4597-a3b5-4b1778e23e1d\",\"type\":\"BasicTicker\"},{\"attributes\":{\"dimensions\":[\"height\"],\"plot\":{\"id\":\"71da4a7b-471a-4b92-a6d7-92c8bb68cc12\",\"subtype\":\"Figure\",\"type\":\"Plot\"}},\"id\":\"f371da91-7a68-4c72-89c2-df29ba57c1aa\",\"type\":\"CrosshairTool\"},{\"attributes\":{\"fill_alpha\":{\"value\":0.5},\"fill_color\":{\"field\":\"color\"},\"line_alpha\":{\"value\":0.5},\"line_color\":{\"field\":\"color\"},\"size\":{\"units\":\"screen\",\"value\":8},\"x\":{\"field\":\"x\"},\"y\":{\"field\":\"count\"}},\"id\":\"8b89084e-b52f-48bd-a149-cb1b3d9832cb\",\"type\":\"Circle\"},{\"attributes\":{\"dimensions\":[\"width\"],\"overlay\":{\"id\":\"94300ce0-8506-41fe-af6c-fa3c9da40e10\",\"type\":\"BoxAnnotation\"},\"plot\":{\"id\":\"71da4a7b-471a-4b92-a6d7-92c8bb68cc12\",\"subtype\":\"Figure\",\"type\":\"Plot\"}},\"id\":\"71f0a7a0-83a2-49e3-8c62-807a3fd0bdbb\",\"type\":\"BoxZoomTool\"},{\"attributes\":{},\"id\":\"e4238630-aafa-4a77-aa92-965159bbad77\",\"type\":\"BasicTickFormatter\"},{\"attributes\":{\"line_color\":{\"value\":\"#F8766D\"},\"line_width\":{\"value\":3},\"x\":{\"field\":\"x\"},\"y\":{\"field\":\"y\"}},\"id\":\"7e72c972-9b60-4fe4-8123-f6d854790623\",\"type\":\"Line\"},{\"attributes\":{\"args\":{\"source\":{\"id\":\"73b7be6a-eaae-4517-a673-880d0e264fee\",\"type\":\"ColumnDataSource\"}},\"code\":\"source.set('selected', cb_data['index']);\"},\"id\":\"ec5dedfe-7585-48c9-ad6f-949387c73fbe\",\"type\":\"CustomJS\"},{\"attributes\":{\"callback\":null},\"id\":\"deb6f127-74fa-42fe-9c1e-df63d857a9ec\",\"type\":\"DataRange1d\"},{\"attributes\":{\"fill_color\":{\"field\":\"color\"},\"line_color\":{\"field\":\"color\"},\"x\":{\"field\":\"x\"},\"y\":{\"field\":\"count\"}},\"id\":\"f692c5e3-2890-4358-a976-a81909bba393\",\"type\":\"Circle\"},{\"attributes\":{\"callback\":null,\"column_names\":[\"count\",\"color\",\"index\",\"SampleID\",\"x\"],\"data\":{\"SampleID\":[\"Penn-T4_1-2b_Npos\",\"Penn-T1_1-4c_Nneg\",\"Penn-T4_1-1b_Npos\",\"Penn-T3_3-1c_Nneg\",\"Penn-T3_1-4a_Nneg\",\"Penn-T3_1-3c_Npos\",\"Penn-T2_4-3c_Nneg\",\"Penn-T3_1-4a_Npos\",\"Penn-T4_3-4a_Npos\",\"Penn-T4_1-4a_Npos\",\"Penn-T1_3-1c_Nneg\",\"Penn-T3_3-5a_Nneg\",\"Penn-T3_1-4c_Nneg\",\"Penn-T4_3-1b_Nneg\",\"Penn-T1_1-1b_Nneg\",\"Penn-T3_3-5a_Npos\",\"Penn-T2_3-2c_Nneg\",\"Penn-T2_1-5a_Nneg\",\"Penn-T2_1-2a_Nneg\",\"Penn-T1_1-3c_Nneg\",\"Penn-T3_1-1b_Nneg\",\"Penn-T3_3-1b_Npos\",\"Penn-T4_3-2b_Nneg\",\"Penn-T1_1-3a_Nneg\",\"MockCommunity-1\",\"Penn-T3_1-3a_Npos\",\"Penn-T3_1-3b_Npos\",\"Penn-T1_1-4b_Nneg\",\"Penn-T3_4-4b_Npos\",\"Penn-T3_1-3c_Nneg\",\"Penn-T4_3-5a_Nneg\",\"Penn-T4_1-3b_Nneg\",\"Penn-T4_1-1b_Nneg\",\"Penn-T3_1-1b_Npos\",\"Penn-T3_1-2b_Npos\",\"Penn-T2_2-4b_Nneg\",\"Penn-T4_4-5c_Nneg\",\"Penn-T3_3-1b_Nneg\",\"Penn-T3_4-4b_Nneg\",\"Penn-T2_4-1a_Nneg\",\"Penn-T4_1-4c_Nneg\",\"Penn-T1_1-4a_Nneg\",\"Penn-T3_2-3b_Nneg\",\"Penn-T4_1-3c_Npos\",\"Penn-T2_1-5c_Nneg\",\"Penn-T2_2-2b_Nneg\",\"Penn-T2_4-5a_Nneg\",\"Penn-T3_1-4c_Npos\",\"Penn-T2_4-4c_Nneg\",\"Penn-T4_4-2a_Npos\",\"Penn-T1_2-1c_Nneg\",\"Penn-T3_2-1c_Nneg\",\"Penn-T3_1-4b_Nneg\",\"Penn-T1_1-3a_Npos\",\"Penn-T0_1-3b_Nneg\",\"Penn-T3_2-5c_Npos\",\"Penn-T2_2-2a_Npos\",\"Penn-T4_3-4a_Nneg\",\"Penn-T0_4-2b_Nneg\",\"Penn-T1_2-5b_Npos\",\"Penn-T1_4-3a_Npos\",\"Penn-T4_4-1b_Npos\",\"Penn-T1_3-1b_Nneg\",\"Penn-T4_1-3c_Nneg\",\"Penn-T4_2-5a_Npos\",\"Penn-T1_4-2b_Nneg\",\"Penn-T3_4-3a_Nneg\",\"Penn-T3_4-2c_Nneg\",\"Penn-T1_3-2b_Nneg\",\"Penn-T3_2-3b_Npos\",\"Penn-T2_2-2a_Nneg\",\"Penn-T3_2-2a_Nneg\",\"Penn-T3_4-2a_Nneg\",\"Penn-T3_4-2a_Npos\",\"Penn-T3_3-5b_Nneg\",\"Penn-T3_3-2b_Npos\",\"Penn-T4_3-5a_Npos\",\"Penn-T3_3-3b_Nneg\",\"Penn-T3_3-3b_Npos\",\"Penn-T3_4-2b_Nneg\",\"Penn-T3_1-1c_Nneg\",\"Penn-T3_4-1b_Npos\",\"Penn-T4_2-2a_Npos\",\"Penn-T4_3-5b_Npos\",\"Penn-T4_3-3b_Npos\",\"Penn-T2_1-2c_Nneg\",\"Penn-T1_3-5a_Nneg\",\"Penn-T4_3-1b_Npos\",\"Penn-T4_1-4a_Nneg\",\"Penn-T3_2-3c_Nneg\",\"Penn-T2_2-3a_Nneg\",\"Penn-T4_4-4b_Npos\",\"Penn-T0_1-2b_Nneg\",\"Penn-T1_4-4a_Nneg\",\"Penn-T4_2-5a_Nneg\",\"Penn-T4_4-2b_Nneg\",\"Penn-T3_3-4b_Npos\",\"Penn-T2_4-2b_Nneg\",\"Penn-T3_3-5b_Npos\",\"Penn-T1_2-5b_Nneg\",\"Penn-T3_3-4a_Npos\",\"Penn-T4_4-4a_Nneg\",\"Penn-T3_4-3a_Npos\",\"Penn-T1_2-2a_Npos\",\"Penn-T1_3-5b_Npos\",\"Penn-T3_4-2b_Npos\",\"Penn-T3_4-1b_Nneg\",\"Penn-T2_3-5b_Npos\",\"Penn-T3_4-5c_Npos\",\"Penn-T3_2-1c_Npos\",\"Penn-T2_3-5b_Nneg\",\"Penn-T1_1-2b_Nneg\",\"Penn-T4_2-1c_Nneg\",\"Penn-T2_1-1a_Nneg\",\"Penn-T1_3-5b_Nneg\",\"Penn-T4_3-2b_Npos\",\"Penn-T4_4-1b_Nneg\",\"Penn-T1_4-5c_Nneg\",\"Penn-T4_2-3b_Nneg\",\"Penn-T2_3-5c_Nneg\",\"Penn-T2_4-2b_Npos\",\"Penn-T4_1-4c_Npos\",\"Penn-T4_4-5c_Npos\",\"Penn-T1_4-4b_Nneg\",\"Penn-T4_4-2b_Npos\",\"Penn-T4_2-2a_Nneg\",\"Penn-T1_4-1b_Nneg\",\"Penn-T4_4-2a_Nneg\",\"Penn-T3_1-3b_Nneg\",\"Penn-T1_3-3b_Nneg\",\"Penn-T3_4-4a_Nneg\",\"Penn-T3_1-2b_Nneg\",\"Penn-T1_3-4b_Npos\",\"Penn-T2_3-1a_Nneg\",\"Penn-T0_2-2a_Nneg\",\"Penn-T4_2-1c_Npos\",\"Penn-T2_2-1a_Nneg\",\"Penn-T1_4-2a_Nneg\",\"Penn-T2_3-4c_Nneg\",\"Penn-T3_2-2a_Npos\",\"Penn-T4_2-3c_Npos\",\"Penn-T3_3-4a_Nneg\",\"Penn-T3_3-2b_Nneg\",\"Penn-T4_2-5c_Npos\",\"Penn-T1_2-3c_Nneg\",\"Penn-T3_2-5c_Nneg\",\"Penn-T4_1-2b_Nneg\",\"Penn-T1_3-4a_Nneg\",\"Penn-T2_4-3b_Nneg\",\"Penn-T0_2-5a_Nneg\",\"Penn-T0_4-4a_Nneg\",\"Penn-T1_3-4b_Nneg\",\"Penn-T1_1-3b_Npos\",\"Penn-T4_2-5c_Nneg\",\"Penn-T1_1-3b_Nneg\",\"Penn-T4_2-3b_Npos\",\"Penn-T2_1-3b_Nneg\",\"Penn-T3_3-2a_Nneg\",\"Penn-T3_2-5a_Nneg\",\"Penn-T3_2-2c_Nneg\",\"Penn-T2_1-3b_Npos\",\"Penn-T4_1-3b_Npos\",\"Penn-T4_3-3b_Nneg\",\"Penn-T4_4-4a_Npos\",\"Penn-T4_3-5b_Nneg\",\"Penn-T3_2-5b_Npos\",\"Penn-T1_2-3b_Nneg\",\"Penn-T3_2-3c_Npos\",\"Penn-T1_2-2c_Nneg\",\"Penn-T3_1-3a_Nneg\",\"Penn-T3_2-5a_Npos\",\"Penn-T0_3-1b_Nneg\",\"Penn-T1_4-3a_Nneg\",\"Penn-T1_4-2b_Npos\",\"Penn-T1_2-5a_Nneg\",\"Penn-T2_2-1b_Nneg\",\"Penn-T3_4-5c_Nneg\",\"Penn-T0_3-5b_Nneg\",\"Penn-T4_4-4b_Nneg\",\"Penn-T2_3-3c_Nneg\",\"Penn-T1_2-2a_Nneg\",\"Penn-T3_3-4b_Nneg\",\"Penn-T3_2-5b_Nneg\",\"Penn-T3_4-5b_Nneg\",\"Penn-T3_4-4a_Npos\",\"Penn-T3_2-4c_Nneg\",\"Penn-T1_4-5b_Nneg\",\"Penn-T4_2-3c_Nneg\",\"Penn-T1_2-5c_Nneg\",\"NegControl-1\",\"NegControl-2\",\"PosControl-1\"],\"color\":[\"#F8766D\",\"#F8766D\",\"#F8766D\",\"#F8766D\",\"#F8766D\",\"#F8766D\",\"#F8766D\",\"#F8766D\",\"#F8766D\",\"#F8766D\",\"#F8766D\",\"#F8766D\",\"#F8766D\",\"#F8766D\",\"#F8766D\",\"#F8766D\",\"#F8766D\",\"#F8766D\",\"#F8766D\",\"#F8766D\",\"#F8766D\",\"#F8766D\",\"#F8766D\",\"#F8766D\",\"#F8766D\",\"#F8766D\",\"#F8766D\",\"#F8766D\",\"#F8766D\",\"#F8766D\",\"#F8766D\",\"#F8766D\",\"#F8766D\",\"#F8766D\",\"#F8766D\",\"#F8766D\",\"#F8766D\",\"#F8766D\",\"#F8766D\",\"#F8766D\",\"#F8766D\",\"#F8766D\",\"#F8766D\",\"#F8766D\",\"#F8766D\",\"#F8766D\",\"#F8766D\",\"#F8766D\",\"#F8766D\",\"#F8766D\",\"#F8766D\",\"#F8766D\",\"#F8766D\",\"#F8766D\",\"#F8766D\",\"#F8766D\",\"#F8766D\",\"#F8766D\",\"#F8766D\",\"#F8766D\",\"#F8766D\",\"#F8766D\",\"#F8766D\",\"#F8766D\",\"#F8766D\",\"#F8766D\",\"#F8766D\",\"#F8766D\",\"#F8766D\",\"#F8766D\",\"#F8766D\",\"#F8766D\",\"#F8766D\",\"#F8766D\",\"#F8766D\",\"#F8766D\",\"#F8766D\",\"#F8766D\",\"#F8766D\",\"#F8766D\",\"#F8766D\",\"#F8766D\",\"#F8766D\",\"#F8766D\",\"#F8766D\",\"#F8766D\",\"#F8766D\",\"#F8766D\",\"#F8766D\",\"#F8766D\",\"#F8766D\",\"#F8766D\",\"#F8766D\",\"#F8766D\",\"#F8766D\",\"#F8766D\",\"#F8766D\",\"#F8766D\",\"#F8766D\",\"#F8766D\",\"#F8766D\",\"#F8766D\",\"#F8766D\",\"#F8766D\",\"#F8766D\",\"#F8766D\",\"#F8766D\",\"#F8766D\",\"#F8766D\",\"#F8766D\",\"#F8766D\",\"#F8766D\",\"#F8766D\",\"#F8766D\",\"#F8766D\",\"#F8766D\",\"#F8766D\",\"#F8766D\",\"#F8766D\",\"#F8766D\",\"#F8766D\",\"#F8766D\",\"#F8766D\",\"#F8766D\",\"#F8766D\",\"#F8766D\",\"#F8766D\",\"#F8766D\",\"#F8766D\",\"#F8766D\",\"#F8766D\",\"#F8766D\",\"#F8766D\",\"#F8766D\",\"#F8766D\",\"#F8766D\",\"#F8766D\",\"#F8766D\",\"#F8766D\",\"#F8766D\",\"#F8766D\",\"#F8766D\",\"#F8766D\",\"#F8766D\",\"#F8766D\",\"#F8766D\",\"#F8766D\",\"#F8766D\",\"#F8766D\",\"#F8766D\",\"#F8766D\",\"#F8766D\",\"#F8766D\",\"#F8766D\",\"#F8766D\",\"#F8766D\",\"#F8766D\",\"#F8766D\",\"#F8766D\",\"#F8766D\",\"#F8766D\",\"#F8766D\",\"#F8766D\",\"#F8766D\",\"#F8766D\",\"#F8766D\",\"#F8766D\",\"#F8766D\",\"#F8766D\",\"#F8766D\",\"#F8766D\",\"#F8766D\",\"#F8766D\",\"#F8766D\",\"#F8766D\",\"#F8766D\",\"#F8766D\",\"#F8766D\",\"#F8766D\",\"#F8766D\",\"#F8766D\",\"#F8766D\",\"#F8766D\",\"#F8766D\",\"#F8766D\",\"#F8766D\",\"#F8766D\",\"#F8766D\",\"#F8766D\",\"#F8766D\",\"#F8766D\",\"#F8766D\"],\"count\":[68417,63274,60554,58384,56278,55617,53250,53046,52122,51600,50959,49058,48928,48143,45768,43265,41856,41766,40830,40249,39773,39664,39629,39362,38978,38793,38436,38129,37591,37308,37229,37044,36639,36362,36066,35991,35914,35759,35172,34091,33893,33892,33330,32823,32810,32809,32741,32121,31478,31357,30849,30774,30609,30604,30354,30318,29895,29857,29196,28973,28905,28828,28569,28102,26792,26662,26340,25779,25486,25321,24724,24681,24534,24464,24397,24390,23978,23895,23768,23520,23458,23434,23205,23063,22903,22899,22784,22658,22582,22142,21965,21912,21746,21693,21233,21164,21020,20885,20576,20560,20471,20176,20149,19982,19536,19510,19158,19073,19069,18909,18833,18741,18560,18474,18367,18321,18268,17875,17489,17420,17343,17266,17013,16926,16897,16880,16800,16273,16157,16119,16116,15805,15720,15719,15690,15615,15528,15466,15438,15136,15126,15017,14906,14749,14623,14394,14235,14189,14159,14096,13884,13804,13576,13257,13255,13179,13010,12936,12789,12739,12458,12354,12332,12151,12059,12012,11732,11649,11455,11267,11229,10897,10786,10677,10554,10547,10467,10318,10294,10235,9682,9622,9476,8900,8469,8380,8309,7591,6740,1134,49,24],\"index\":[0,1,2,3,4,5,6,7,8,9,10,11,12,13,14,15,16,17,18,19,20,21,22,23,24,25,26,27,28,29,30,31,32,33,34,35,36,37,38,39,40,41,42,43,44,45,46,47,48,49,50,51,52,53,54,55,56,57,58,59,60,61,62,63,64,65,66,67,68,69,70,71,72,73,74,75,76,77,78,79,80,81,82,83,84,85,86,87,88,89,90,91,92,93,94,95,96,97,98,99,100,101,102,103,104,105,106,107,108,109,110,111,112,113,114,115,116,117,118,119,120,121,122,123,124,125,126,127,128,129,130,131,132,133,134,135,136,137,138,139,140,141,142,143,144,145,146,147,148,149,150,151,152,153,154,155,156,157,158,159,160,161,162,163,164,165,166,167,168,169,170,171,172,173,174,175,176,177,178,179,180,181,182,183,184,185,186,187,188,189,190,191],\"x\":[1,2,3,4,5,6,7,8,9,10,11,12,13,14,15,16,17,18,19,20,21,22,23,24,25,26,27,28,29,30,31,32,33,34,35,36,37,38,39,40,41,42,43,44,45,46,47,48,49,50,51,52,53,54,55,56,57,58,59,60,61,62,63,64,65,66,67,68,69,70,71,72,73,74,75,76,77,78,79,80,81,82,83,84,85,86,87,88,89,90,91,92,93,94,95,96,97,98,99,100,101,102,103,104,105,106,107,108,109,110,111,112,113,114,115,116,117,118,119,120,121,122,123,124,125,126,127,128,129,130,131,132,133,134,135,136,137,138,139,140,141,142,143,144,145,146,147,148,149,150,151,152,153,154,155,156,157,158,159,160,161,162,163,164,165,166,167,168,169,170,171,172,173,174,175,176,177,178,179,180,181,182,183,184,185,186,187,188,189,190,191,192]}},\"id\":\"73b7be6a-eaae-4517-a673-880d0e264fee\",\"type\":\"ColumnDataSource\"},{\"attributes\":{\"callback\":null,\"column_names\":[\"y\",\"x\"],\"data\":{\"x\":[1,2,3,4,5,6,7,8,9,10,11,12,13,14,15,16,17,18,19,20,21,22,23,24,25,26,27,28,29,30,31,32,33,34,35,36,37,38,39,40,41,42,43,44,45,46,47,48,49,50,51,52,53,54,55,56,57,58,59,60,61,62,63,64,65,66,67,68,69,70,71,72,73,74,75,76,77,78,79,80,81,82,83,84,85,86,87,88,89,90,91,92,93,94,95,96,97,98,99,100,101,102,103,104,105,106,107,108,109,110,111,112,113,114,115,116,117,118,119,120,121,122,123,124,125,126,127,128,129,130,131,132,133,134,135,136,137,138,139,140,141,142,143,144,145,146,147,148,149,150,151,152,153,154,155,156,157,158,159,160,161,162,163,164,165,166,167,168,169,170,171,172,173,174,175,176,177,178,179,180,181,182,183,184,185,186,187,188,189,190,191,192],\"y\":[68417,63274,60554,58384,56278,55617,53250,53046,52122,51600,50959,49058,48928,48143,45768,43265,41856,41766,40830,40249,39773,39664,39629,39362,38978,38793,38436,38129,37591,37308,37229,37044,36639,36362,36066,35991,35914,35759,35172,34091,33893,33892,33330,32823,32810,32809,32741,32121,31478,31357,30849,30774,30609,30604,30354,30318,29895,29857,29196,28973,28905,28828,28569,28102,26792,26662,26340,25779,25486,25321,24724,24681,24534,24464,24397,24390,23978,23895,23768,23520,23458,23434,23205,23063,22903,22899,22784,22658,22582,22142,21965,21912,21746,21693,21233,21164,21020,20885,20576,20560,20471,20176,20149,19982,19536,19510,19158,19073,19069,18909,18833,18741,18560,18474,18367,18321,18268,17875,17489,17420,17343,17266,17013,16926,16897,16880,16800,16273,16157,16119,16116,15805,15720,15719,15690,15615,15528,15466,15438,15136,15126,15017,14906,14749,14623,14394,14235,14189,14159,14096,13884,13804,13576,13257,13255,13179,13010,12936,12789,12739,12458,12354,12332,12151,12059,12012,11732,11649,11455,11267,11229,10897,10786,10677,10554,10547,10467,10318,10294,10235,9682,9622,9476,8900,8469,8380,8309,7591,6740,1134,49,24]}},\"id\":\"dc34819c-927e-49ad-9d37-1cb515f8b1ca\",\"type\":\"ColumnDataSource\"},{\"attributes\":{},\"id\":\"6ec35989-ff0f-413a-bf35-2e35ab844bc8\",\"type\":\"ToolEvents\"},{\"attributes\":{\"callback\":{\"id\":\"ec5dedfe-7585-48c9-ad6f-949387c73fbe\",\"type\":\"CustomJS\"},\"plot\":{\"id\":\"71da4a7b-471a-4b92-a6d7-92c8bb68cc12\",\"subtype\":\"Figure\",\"type\":\"Plot\"},\"renderers\":[{\"id\":\"07981887-dfed-4bf0-bc41-5ad8ffeb3acd\",\"type\":\"GlyphRenderer\"}],\"tooltips\":\"\\n    <div>\\n        <span style=\\\"font-size: 17px; font-weight: bold;\\\">@SampleID </span>\\n    </div>\\n    <div>\\n        <span style=\\\"font-size: 17px; font-weight: bold;\\\">@count </span>\\n    </div>\\n\"},\"id\":\"7581de6f-5f7c-47c8-b5c5-ef96493a0932\",\"type\":\"HoverTool\"},{\"attributes\":{\"plot\":{\"id\":\"71da4a7b-471a-4b92-a6d7-92c8bb68cc12\",\"subtype\":\"Figure\",\"type\":\"Plot\"}},\"id\":\"a1dd2d0a-0ff6-4ee6-aeec-34836f341c6d\",\"type\":\"ResetTool\"},{\"attributes\":{\"ticker\":null},\"id\":\"e27375f9-58df-4bef-9f1c-4df30491e6f5\",\"type\":\"LogTickFormatter\"},{\"attributes\":{\"data_source\":{\"id\":\"dc34819c-927e-49ad-9d37-1cb515f8b1ca\",\"type\":\"ColumnDataSource\"},\"glyph\":{\"id\":\"7e72c972-9b60-4fe4-8123-f6d854790623\",\"type\":\"Line\"},\"hover_glyph\":null,\"nonselection_glyph\":{\"id\":\"086cd1ec-a820-47a2-9af9-779237094c9d\",\"type\":\"Line\"},\"selection_glyph\":null},\"id\":\"3091d088-3c3c-47a5-b426-ba1c989b504c\",\"type\":\"GlyphRenderer\"},{\"attributes\":{\"axis_label\":\"Sample\",\"axis_line_width\":{\"value\":3},\"formatter\":{\"id\":\"e4238630-aafa-4a77-aa92-965159bbad77\",\"type\":\"BasicTickFormatter\"},\"major_label_text_color\":{\"value\":\"white\"},\"plot\":{\"id\":\"71da4a7b-471a-4b92-a6d7-92c8bb68cc12\",\"subtype\":\"Figure\",\"type\":\"Plot\"},\"ticker\":{\"id\":\"8149bfde-8bd7-4597-a3b5-4b1778e23e1d\",\"type\":\"BasicTicker\"}},\"id\":\"86119196-0548-4f55-b7c7-25cda48a854b\",\"type\":\"LinearAxis\"},{\"attributes\":{\"below\":[{\"id\":\"86119196-0548-4f55-b7c7-25cda48a854b\",\"type\":\"LinearAxis\"}],\"left\":[{\"id\":\"6918d2fc-ceaf-4153-b26e-d5a84482c052\",\"type\":\"LogAxis\"}],\"outline_line_color\":{\"value\":null},\"plot_height\":400,\"plot_width\":800,\"renderers\":[{\"id\":\"86119196-0548-4f55-b7c7-25cda48a854b\",\"type\":\"LinearAxis\"},{\"id\":\"d35f97da-ee7b-49e5-ac95-7c9a8fe7f36d\",\"type\":\"Grid\"},{\"id\":\"6918d2fc-ceaf-4153-b26e-d5a84482c052\",\"type\":\"LogAxis\"},{\"id\":\"adadfbf0-dfbf-4ef6-9f57-65a2524ff916\",\"type\":\"Grid\"},{\"id\":\"07981887-dfed-4bf0-bc41-5ad8ffeb3acd\",\"type\":\"GlyphRenderer\"},{\"id\":\"3091d088-3c3c-47a5-b426-ba1c989b504c\",\"type\":\"GlyphRenderer\"},{\"id\":\"94300ce0-8506-41fe-af6c-fa3c9da40e10\",\"type\":\"BoxAnnotation\"}],\"title\":{\"id\":\"73823018-019d-4b1f-889b-2c589674e867\",\"type\":\"Title\"},\"tool_events\":{\"id\":\"6ec35989-ff0f-413a-bf35-2e35ab844bc8\",\"type\":\"ToolEvents\"},\"toolbar\":{\"id\":\"969d6b23-83ae-45c9-ae4d-15fef7eb6ab5\",\"type\":\"Toolbar\"},\"toolbar_location\":\"left\",\"x_range\":{\"id\":\"deb6f127-74fa-42fe-9c1e-df63d857a9ec\",\"type\":\"DataRange1d\"},\"y_mapper_type\":\"log\",\"y_range\":{\"id\":\"4ace9acd-4aea-4894-877e-90aedc4675a8\",\"type\":\"DataRange1d\"}},\"id\":\"71da4a7b-471a-4b92-a6d7-92c8bb68cc12\",\"subtype\":\"Figure\",\"type\":\"Plot\"},{\"attributes\":{\"num_minor_ticks\":10},\"id\":\"a7f988b7-5990-4b45-9f76-399862020061\",\"type\":\"LogTicker\"},{\"attributes\":{\"axis_label\":\"Seq count\",\"axis_line_width\":{\"value\":3},\"formatter\":{\"id\":\"e27375f9-58df-4bef-9f1c-4df30491e6f5\",\"type\":\"LogTickFormatter\"},\"plot\":{\"id\":\"71da4a7b-471a-4b92-a6d7-92c8bb68cc12\",\"subtype\":\"Figure\",\"type\":\"Plot\"},\"ticker\":{\"id\":\"a7f988b7-5990-4b45-9f76-399862020061\",\"type\":\"LogTicker\"}},\"id\":\"6918d2fc-ceaf-4153-b26e-d5a84482c052\",\"type\":\"LogAxis\"},{\"attributes\":{\"line_alpha\":{\"value\":0.1},\"line_color\":{\"value\":\"#1f77b4\"},\"line_width\":{\"value\":3},\"x\":{\"field\":\"x\"},\"y\":{\"field\":\"y\"}},\"id\":\"086cd1ec-a820-47a2-9af9-779237094c9d\",\"type\":\"Line\"},{\"attributes\":{\"grid_line_color\":{\"value\":null},\"plot\":{\"id\":\"71da4a7b-471a-4b92-a6d7-92c8bb68cc12\",\"subtype\":\"Figure\",\"type\":\"Plot\"},\"ticker\":{\"id\":\"8149bfde-8bd7-4597-a3b5-4b1778e23e1d\",\"type\":\"BasicTicker\"}},\"id\":\"d35f97da-ee7b-49e5-ac95-7c9a8fe7f36d\",\"type\":\"Grid\"},{\"attributes\":{\"active_drag\":\"auto\",\"active_scroll\":\"auto\",\"active_tap\":\"auto\",\"tools\":[{\"id\":\"7581de6f-5f7c-47c8-b5c5-ef96493a0932\",\"type\":\"HoverTool\"},{\"id\":\"71f0a7a0-83a2-49e3-8c62-807a3fd0bdbb\",\"type\":\"BoxZoomTool\"},{\"id\":\"a1dd2d0a-0ff6-4ee6-aeec-34836f341c6d\",\"type\":\"ResetTool\"},{\"id\":\"f371da91-7a68-4c72-89c2-df29ba57c1aa\",\"type\":\"CrosshairTool\"}]},\"id\":\"969d6b23-83ae-45c9-ae4d-15fef7eb6ab5\",\"type\":\"Toolbar\"}],\"root_ids\":[\"71da4a7b-471a-4b92-a6d7-92c8bb68cc12\"]},\"title\":\"Bokeh Application\",\"version\":\"0.12.2\"}};\n",
       "            var render_items = [{\"docid\":\"849ed739-70f0-441d-948c-885dabc33183\",\"elementid\":\"c5e8cf4f-5369-401d-9e09-de55598c85a7\",\"modelid\":\"71da4a7b-471a-4b92-a6d7-92c8bb68cc12\"}];\n",
       "            \n",
       "            Bokeh.embed.embed_items(docs_json, render_items);\n",
       "        });\n",
       "      },\n",
       "      function(Bokeh) {\n",
       "      }\n",
       "    ];\n",
       "  \n",
       "    function run_inline_js() {\n",
       "      \n",
       "      if ((window.Bokeh !== undefined) || (force === \"1\")) {\n",
       "        for (var i = 0; i < inline_js.length; i++) {\n",
       "          inline_js[i](window.Bokeh);\n",
       "        }if (force === \"1\") {\n",
       "          display_loaded();\n",
       "        }} else if (Date.now() < window._bokeh_timeout) {\n",
       "        setTimeout(run_inline_js, 100);\n",
       "      } else if (!window._bokeh_failed_load) {\n",
       "        console.log(\"Bokeh: BokehJS failed to load within specified timeout.\");\n",
       "        window._bokeh_failed_load = true;\n",
       "      } else if (!force) {\n",
       "        var cell = $(\"#c5e8cf4f-5369-401d-9e09-de55598c85a7\").parents('.cell').data().cell;\n",
       "        cell.output_area.append_execute_result(NB_LOAD_WARNING)\n",
       "      }\n",
       "  \n",
       "    }\n",
       "  \n",
       "    if (window._bokeh_is_loading === 0) {\n",
       "      console.log(\"Bokeh: BokehJS loaded, going straight to plotting\");\n",
       "      run_inline_js();\n",
       "    } else {\n",
       "      load_libs(js_urls, function() {\n",
       "        console.log(\"Bokeh: BokehJS plotting callback run at\", now());\n",
       "        run_inline_js();\n",
       "      });\n",
       "    }\n",
       "  }(this));\n",
       "</script>"
      ]
     },
     "metadata": {},
     "output_type": "display_data"
    }
   ],
   "source": [
    "df = pd.DataFrame.from_dict(dict(seq_cnt.most_common()), orient=\"index\")\n",
    "df.rename(columns={0 : \"count\"}, inplace=True)\n",
    "df.sort(columns=\"count\", inplace=True, ascending=False)\n",
    "df[\"color\"] = \"#F8766D\"\n",
    "df.reset_index(inplace=True)\n",
    "df.rename(columns={\"index\" : \"SampleID\"}, inplace=True)\n",
    "df[\"x\"] = [i + 1 for i, s in enumerate(df[\"SampleID\"])]\n",
    "    \n",
    "p = figure(width=800, height=400, y_axis_type = \"log\", \n",
    "           tools=\"\", toolbar_location=\"left\", \n",
    "           y_axis_label = \"Seq count\", x_axis_label = \"Sample\")\n",
    "\n",
    "p.xaxis.axis_line_width = 3\n",
    "p.yaxis.axis_line_width = 3\n",
    "p.outline_line_color = None\n",
    "p.grid.grid_line_color = None\n",
    "\n",
    "source = ColumnDataSource(df)\n",
    "\n",
    "invisible_circle = Circle(x='x', y='count', \n",
    "                          fill_color='color', \n",
    "                          fill_alpha=0.5, \n",
    "                          line_color=\"color\", \n",
    "                          line_alpha = 0.5, size=8)\n",
    "\n",
    "visible_circle = Circle(x='x', y='count', \n",
    "                        fill_color='color', \n",
    "                        fill_alpha=1.0, \n",
    "                        line_color=\"color\")\n",
    "\n",
    "cr = p.add_glyph(source, \n",
    "                 invisible_circle, \n",
    "                 selection_glyph=visible_circle, \n",
    "                 nonselection_glyph=invisible_circle)\n",
    "\n",
    "l = p.line(x = df[\"x\"], \n",
    "           y = df[\"count\"], \n",
    "           line_width=3, \n",
    "           color='#F8766D')\n",
    "\n",
    "code = \"source.set('selected', cb_data['index']);\"\n",
    "callback = CustomJS(args={'source': source}, code=code)\n",
    "\n",
    "tooltip = \"\"\"\n",
    "    <div>\n",
    "        <span style=\"font-size: 17px; font-weight: bold;\">@SampleID </span>\n",
    "    </div>\n",
    "    <div>\n",
    "        <span style=\"font-size: 17px; font-weight: bold;\">@count </span>\n",
    "    </div>\n",
    "\"\"\"\n",
    "\n",
    "p.add_tools(HoverTool(tooltips=tooltip, callback=callback, renderers=[cr]),\n",
    "            BoxZoomTool(dimensions=[\"width\"]),\n",
    "            ResetTool(),\n",
    "            CrosshairTool(dimensions = [\"height\"]))\n",
    "\n",
    "p.xaxis.major_label_text_color = \"white\"\n",
    "\n",
    "sh = show(p), "
   ]
  },
  {
   "cell_type": "code",
   "execution_count": 59,
   "metadata": {
    "scrolled": true
   },
   "outputs": [
    {
     "data": {
      "text/plain": [
       "[('Penn-T4_1-2b_Npos', 68417),\n",
       " ('Penn-T1_1-4c_Nneg', 63274),\n",
       " ('Penn-T4_1-1b_Npos', 60554),\n",
       " ('Penn-T3_3-1c_Nneg', 58384),\n",
       " ('Penn-T3_1-4a_Nneg', 56278),\n",
       " ('Penn-T3_1-3c_Npos', 55617),\n",
       " ('Penn-T2_4-3c_Nneg', 53250),\n",
       " ('Penn-T3_1-4a_Npos', 53046),\n",
       " ('Penn-T4_3-4a_Npos', 52122),\n",
       " ('Penn-T4_1-4a_Npos', 51600),\n",
       " ('Penn-T1_3-1c_Nneg', 50959),\n",
       " ('Penn-T3_3-5a_Nneg', 49058),\n",
       " ('Penn-T3_1-4c_Nneg', 48928),\n",
       " ('Penn-T4_3-1b_Nneg', 48143),\n",
       " ('Penn-T1_1-1b_Nneg', 45768),\n",
       " ('Penn-T3_3-5a_Npos', 43265),\n",
       " ('Penn-T2_3-2c_Nneg', 41856),\n",
       " ('Penn-T2_1-5a_Nneg', 41766),\n",
       " ('Penn-T2_1-2a_Nneg', 40830),\n",
       " ('Penn-T1_1-3c_Nneg', 40249),\n",
       " ('Penn-T3_1-1b_Nneg', 39773),\n",
       " ('Penn-T3_3-1b_Npos', 39664),\n",
       " ('Penn-T4_3-2b_Nneg', 39629),\n",
       " ('Penn-T1_1-3a_Nneg', 39362),\n",
       " ('MockCommunity-1', 38978),\n",
       " ('Penn-T3_1-3a_Npos', 38793),\n",
       " ('Penn-T3_1-3b_Npos', 38436),\n",
       " ('Penn-T1_1-4b_Nneg', 38129),\n",
       " ('Penn-T3_4-4b_Npos', 37591),\n",
       " ('Penn-T3_1-3c_Nneg', 37308),\n",
       " ('Penn-T4_3-5a_Nneg', 37229),\n",
       " ('Penn-T4_1-3b_Nneg', 37044),\n",
       " ('Penn-T4_1-1b_Nneg', 36639),\n",
       " ('Penn-T3_1-1b_Npos', 36362),\n",
       " ('Penn-T3_1-2b_Npos', 36066),\n",
       " ('Penn-T2_2-4b_Nneg', 35991),\n",
       " ('Penn-T4_4-5c_Nneg', 35914),\n",
       " ('Penn-T3_3-1b_Nneg', 35759),\n",
       " ('Penn-T3_4-4b_Nneg', 35172),\n",
       " ('Penn-T2_4-1a_Nneg', 34091),\n",
       " ('Penn-T4_1-4c_Nneg', 33893),\n",
       " ('Penn-T1_1-4a_Nneg', 33892),\n",
       " ('Penn-T3_2-3b_Nneg', 33330),\n",
       " ('Penn-T4_1-3c_Npos', 32823),\n",
       " ('Penn-T2_1-5c_Nneg', 32810),\n",
       " ('Penn-T2_2-2b_Nneg', 32809),\n",
       " ('Penn-T2_4-5a_Nneg', 32741),\n",
       " ('Penn-T3_1-4c_Npos', 32121),\n",
       " ('Penn-T2_4-4c_Nneg', 31478),\n",
       " ('Penn-T4_4-2a_Npos', 31357),\n",
       " ('Penn-T1_2-1c_Nneg', 30849),\n",
       " ('Penn-T3_2-1c_Nneg', 30774),\n",
       " ('Penn-T3_1-4b_Nneg', 30609),\n",
       " ('Penn-T1_1-3a_Npos', 30604),\n",
       " ('Penn-T0_1-3b_Nneg', 30354),\n",
       " ('Penn-T3_2-5c_Npos', 30318),\n",
       " ('Penn-T2_2-2a_Npos', 29895),\n",
       " ('Penn-T4_3-4a_Nneg', 29857),\n",
       " ('Penn-T0_4-2b_Nneg', 29196),\n",
       " ('Penn-T1_2-5b_Npos', 28973),\n",
       " ('Penn-T1_4-3a_Npos', 28905),\n",
       " ('Penn-T4_4-1b_Npos', 28828),\n",
       " ('Penn-T1_3-1b_Nneg', 28569),\n",
       " ('Penn-T4_1-3c_Nneg', 28102),\n",
       " ('Penn-T4_2-5a_Npos', 26792),\n",
       " ('Penn-T1_4-2b_Nneg', 26662),\n",
       " ('Penn-T3_4-3a_Nneg', 26340),\n",
       " ('Penn-T3_4-2c_Nneg', 25779),\n",
       " ('Penn-T1_3-2b_Nneg', 25486),\n",
       " ('Penn-T3_2-3b_Npos', 25321),\n",
       " ('Penn-T2_2-2a_Nneg', 24724),\n",
       " ('Penn-T3_2-2a_Nneg', 24681),\n",
       " ('Penn-T3_4-2a_Nneg', 24534),\n",
       " ('Penn-T3_4-2a_Npos', 24464),\n",
       " ('Penn-T3_3-5b_Nneg', 24397),\n",
       " ('Penn-T3_3-2b_Npos', 24390),\n",
       " ('Penn-T4_3-5a_Npos', 23978),\n",
       " ('Penn-T3_3-3b_Nneg', 23895),\n",
       " ('Penn-T3_3-3b_Npos', 23768),\n",
       " ('Penn-T3_4-2b_Nneg', 23520),\n",
       " ('Penn-T3_1-1c_Nneg', 23458),\n",
       " ('Penn-T3_4-1b_Npos', 23434),\n",
       " ('Penn-T4_2-2a_Npos', 23205),\n",
       " ('Penn-T4_3-5b_Npos', 23063),\n",
       " ('Penn-T4_3-3b_Npos', 22903),\n",
       " ('Penn-T2_1-2c_Nneg', 22899),\n",
       " ('Penn-T1_3-5a_Nneg', 22784),\n",
       " ('Penn-T4_3-1b_Npos', 22658),\n",
       " ('Penn-T4_1-4a_Nneg', 22582),\n",
       " ('Penn-T3_2-3c_Nneg', 22142),\n",
       " ('Penn-T2_2-3a_Nneg', 21965),\n",
       " ('Penn-T4_4-4b_Npos', 21912),\n",
       " ('Penn-T0_1-2b_Nneg', 21746),\n",
       " ('Penn-T1_4-4a_Nneg', 21693),\n",
       " ('Penn-T4_2-5a_Nneg', 21233),\n",
       " ('Penn-T4_4-2b_Nneg', 21164),\n",
       " ('Penn-T3_3-4b_Npos', 21020),\n",
       " ('Penn-T2_4-2b_Nneg', 20885),\n",
       " ('Penn-T3_3-5b_Npos', 20576),\n",
       " ('Penn-T1_2-5b_Nneg', 20560),\n",
       " ('Penn-T3_3-4a_Npos', 20471),\n",
       " ('Penn-T4_4-4a_Nneg', 20176),\n",
       " ('Penn-T3_4-3a_Npos', 20149),\n",
       " ('Penn-T1_2-2a_Npos', 19982),\n",
       " ('Penn-T1_3-5b_Npos', 19536),\n",
       " ('Penn-T3_4-2b_Npos', 19510),\n",
       " ('Penn-T3_4-1b_Nneg', 19158),\n",
       " ('Penn-T2_3-5b_Npos', 19073),\n",
       " ('Penn-T3_4-5c_Npos', 19069),\n",
       " ('Penn-T3_2-1c_Npos', 18909),\n",
       " ('Penn-T2_3-5b_Nneg', 18833),\n",
       " ('Penn-T1_1-2b_Nneg', 18741),\n",
       " ('Penn-T4_2-1c_Nneg', 18560),\n",
       " ('Penn-T2_1-1a_Nneg', 18474),\n",
       " ('Penn-T1_3-5b_Nneg', 18367),\n",
       " ('Penn-T4_3-2b_Npos', 18321),\n",
       " ('Penn-T4_4-1b_Nneg', 18268),\n",
       " ('Penn-T1_4-5c_Nneg', 17875),\n",
       " ('Penn-T4_2-3b_Nneg', 17489),\n",
       " ('Penn-T2_3-5c_Nneg', 17420),\n",
       " ('Penn-T2_4-2b_Npos', 17343),\n",
       " ('Penn-T4_1-4c_Npos', 17266),\n",
       " ('Penn-T4_4-5c_Npos', 17013),\n",
       " ('Penn-T1_4-4b_Nneg', 16926),\n",
       " ('Penn-T4_4-2b_Npos', 16897),\n",
       " ('Penn-T4_2-2a_Nneg', 16880),\n",
       " ('Penn-T1_4-1b_Nneg', 16800),\n",
       " ('Penn-T4_4-2a_Nneg', 16273),\n",
       " ('Penn-T3_1-3b_Nneg', 16157),\n",
       " ('Penn-T1_3-3b_Nneg', 16119),\n",
       " ('Penn-T3_4-4a_Nneg', 16116),\n",
       " ('Penn-T3_1-2b_Nneg', 15805),\n",
       " ('Penn-T1_3-4b_Npos', 15720),\n",
       " ('Penn-T2_3-1a_Nneg', 15719),\n",
       " ('Penn-T0_2-2a_Nneg', 15690),\n",
       " ('Penn-T4_2-1c_Npos', 15615),\n",
       " ('Penn-T2_2-1a_Nneg', 15528),\n",
       " ('Penn-T1_4-2a_Nneg', 15466),\n",
       " ('Penn-T2_3-4c_Nneg', 15438),\n",
       " ('Penn-T3_2-2a_Npos', 15136),\n",
       " ('Penn-T4_2-3c_Npos', 15126),\n",
       " ('Penn-T3_3-4a_Nneg', 15017),\n",
       " ('Penn-T3_3-2b_Nneg', 14906),\n",
       " ('Penn-T4_2-5c_Npos', 14749),\n",
       " ('Penn-T1_2-3c_Nneg', 14623),\n",
       " ('Penn-T3_2-5c_Nneg', 14394),\n",
       " ('Penn-T4_1-2b_Nneg', 14235),\n",
       " ('Penn-T1_3-4a_Nneg', 14189),\n",
       " ('Penn-T2_4-3b_Nneg', 14159),\n",
       " ('Penn-T0_2-5a_Nneg', 14096),\n",
       " ('Penn-T0_4-4a_Nneg', 13884),\n",
       " ('Penn-T1_3-4b_Nneg', 13804),\n",
       " ('Penn-T1_1-3b_Npos', 13576),\n",
       " ('Penn-T4_2-5c_Nneg', 13257),\n",
       " ('Penn-T1_1-3b_Nneg', 13255),\n",
       " ('Penn-T4_2-3b_Npos', 13179),\n",
       " ('Penn-T2_1-3b_Nneg', 13010),\n",
       " ('Penn-T3_3-2a_Nneg', 12936),\n",
       " ('Penn-T3_2-5a_Nneg', 12789),\n",
       " ('Penn-T3_2-2c_Nneg', 12739),\n",
       " ('Penn-T2_1-3b_Npos', 12458),\n",
       " ('Penn-T4_1-3b_Npos', 12354),\n",
       " ('Penn-T4_3-3b_Nneg', 12332),\n",
       " ('Penn-T4_4-4a_Npos', 12151),\n",
       " ('Penn-T4_3-5b_Nneg', 12059),\n",
       " ('Penn-T3_2-5b_Npos', 12012),\n",
       " ('Penn-T1_2-3b_Nneg', 11732),\n",
       " ('Penn-T3_2-3c_Npos', 11649),\n",
       " ('Penn-T1_2-2c_Nneg', 11455),\n",
       " ('Penn-T3_1-3a_Nneg', 11267),\n",
       " ('Penn-T3_2-5a_Npos', 11229),\n",
       " ('Penn-T0_3-1b_Nneg', 10897),\n",
       " ('Penn-T1_4-3a_Nneg', 10786),\n",
       " ('Penn-T1_4-2b_Npos', 10677),\n",
       " ('Penn-T1_2-5a_Nneg', 10554),\n",
       " ('Penn-T2_2-1b_Nneg', 10547),\n",
       " ('Penn-T3_4-5c_Nneg', 10467),\n",
       " ('Penn-T0_3-5b_Nneg', 10318),\n",
       " ('Penn-T4_4-4b_Nneg', 10294),\n",
       " ('Penn-T2_3-3c_Nneg', 10235),\n",
       " ('Penn-T1_2-2a_Nneg', 9682),\n",
       " ('Penn-T3_3-4b_Nneg', 9622),\n",
       " ('Penn-T3_2-5b_Nneg', 9476),\n",
       " ('Penn-T3_4-5b_Nneg', 8900),\n",
       " ('Penn-T3_4-4a_Npos', 8469),\n",
       " ('Penn-T3_2-4c_Nneg', 8380),\n",
       " ('Penn-T1_4-5b_Nneg', 8309),\n",
       " ('Penn-T4_2-3c_Nneg', 7591),\n",
       " ('Penn-T1_2-5c_Nneg', 6740),\n",
       " ('NegControl-1', 1134),\n",
       " ('NegControl-2', 49),\n",
       " ('PosControl-1', 24)]"
      ]
     },
     "execution_count": 59,
     "metadata": {},
     "output_type": "execute_result"
    }
   ],
   "source": [
    "seq_cnt.most_common(192)"
   ]
  },
  {
   "cell_type": "code",
   "execution_count": null,
   "metadata": {
    "collapsed": true
   },
   "outputs": [],
   "source": []
  },
  {
   "cell_type": "code",
   "execution_count": 60,
   "metadata": {},
   "outputs": [
    {
     "data": {
      "text/plain": [
       "(192, 4)"
      ]
     },
     "execution_count": 60,
     "metadata": {},
     "output_type": "execute_result"
    }
   ],
   "source": [
    "df[df[\"count\"] < 200000].shape"
   ]
  }
 ],
 "metadata": {
  "anaconda-cloud": {},
  "hide_input": true,
  "kernelspec": {
   "display_name": "Python 2",
   "language": "python",
   "name": "python2"
  },
  "language_info": {
   "codemirror_mode": {
    "name": "ipython",
    "version": 2
   },
   "file_extension": ".py",
   "mimetype": "text/x-python",
   "name": "python",
   "nbconvert_exporter": "python",
   "pygments_lexer": "ipython2",
   "version": "2.7.13"
  }
 },
 "nbformat": 4,
 "nbformat_minor": 1
}
