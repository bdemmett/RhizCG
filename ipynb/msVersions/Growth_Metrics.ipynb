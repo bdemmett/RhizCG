{
 "cells": [
  {
   "cell_type": "markdown",
   "metadata": {},
   "source": [
    "# Analysis of growth metrics for RhizCG manuscript"
   ]
  },
  {
   "cell_type": "markdown",
   "metadata": {},
   "source": [
    "## Set Variables"
   ]
  },
  {
   "cell_type": "code",
   "execution_count": 2,
   "metadata": {
    "collapsed": true
   },
   "outputs": [],
   "source": [
    "workDir = '/home/bryan/RhizCG/figures/'\n",
    "fullData = '/home/bryan/RhizCG/data/MiSeq_amplicon/PlotData.txt'"
   ]
  },
  {
   "cell_type": "markdown",
   "metadata": {},
   "source": [
    "#Init"
   ]
  },
  {
   "cell_type": "code",
   "execution_count": 3,
   "metadata": {
    "collapsed": true
   },
   "outputs": [],
   "source": [
    "%load_ext rpy2.ipython"
   ]
  },
  {
   "cell_type": "code",
   "execution_count": 4,
   "metadata": {},
   "outputs": [
    {
     "name": "stderr",
     "output_type": "stream",
     "text": [
      "/home/bryan/anaconda3/lib/python3.6/site-packages/rpy2/rinterface/__init__.py:186: RRuntimeWarning: Loading required package: Matrix\n",
      "\n",
      "  warnings.warn(x, RRuntimeWarning)\n",
      "/home/bryan/anaconda3/lib/python3.6/site-packages/rpy2/rinterface/__init__.py:186: RRuntimeWarning: \n",
      "Attaching package: ‘lmerTest’\n",
      "\n",
      "\n",
      "  warnings.warn(x, RRuntimeWarning)\n",
      "/home/bryan/anaconda3/lib/python3.6/site-packages/rpy2/rinterface/__init__.py:186: RRuntimeWarning: The following object is masked from ‘package:lme4’:\n",
      "\n",
      "    lmer\n",
      "\n",
      "\n",
      "  warnings.warn(x, RRuntimeWarning)\n",
      "/home/bryan/anaconda3/lib/python3.6/site-packages/rpy2/rinterface/__init__.py:186: RRuntimeWarning: The following object is masked from ‘package:stats’:\n",
      "\n",
      "    step\n",
      "\n",
      "\n",
      "  warnings.warn(x, RRuntimeWarning)\n",
      "/home/bryan/anaconda3/lib/python3.6/site-packages/rpy2/rinterface/__init__.py:186: RRuntimeWarning: \n",
      "Attaching package: ‘dplyr’\n",
      "\n",
      "\n",
      "  warnings.warn(x, RRuntimeWarning)\n",
      "/home/bryan/anaconda3/lib/python3.6/site-packages/rpy2/rinterface/__init__.py:186: RRuntimeWarning: The following objects are masked from ‘package:stats’:\n",
      "\n",
      "    filter, lag\n",
      "\n",
      "\n",
      "  warnings.warn(x, RRuntimeWarning)\n",
      "/home/bryan/anaconda3/lib/python3.6/site-packages/rpy2/rinterface/__init__.py:186: RRuntimeWarning: The following objects are masked from ‘package:base’:\n",
      "\n",
      "    intersect, setdiff, setequal, union\n",
      "\n",
      "\n",
      "  warnings.warn(x, RRuntimeWarning)\n",
      "/home/bryan/anaconda3/lib/python3.6/site-packages/rpy2/rinterface/__init__.py:186: RRuntimeWarning: \n",
      "Attaching package: ‘gridExtra’\n",
      "\n",
      "\n",
      "  warnings.warn(x, RRuntimeWarning)\n",
      "/home/bryan/anaconda3/lib/python3.6/site-packages/rpy2/rinterface/__init__.py:186: RRuntimeWarning: The following object is masked from ‘package:dplyr’:\n",
      "\n",
      "    combine\n",
      "\n",
      "\n",
      "  warnings.warn(x, RRuntimeWarning)\n"
     ]
    }
   ],
   "source": [
    "%%R\n",
    "library(lme4)\n",
    "library(lmerTest)\n",
    "library(ggplot2)\n",
    "library(dplyr)\n",
    "library(pbkrtest)\n",
    "library(gridExtra)\n",
    "#library(multcomp)"
   ]
  },
  {
   "cell_type": "markdown",
   "metadata": {},
   "source": [
    "### Read plant master table "
   ]
  },
  {
   "cell_type": "code",
   "execution_count": 5,
   "metadata": {},
   "outputs": [
    {
     "data": {
      "text/plain": [
       " [1] \"Unique\"             \"PlotID\"             \"Plant\"             \n",
       " [4] \"Plot\"               \"Treatment\"          \"Rep\"               \n",
       " [7] \"DAP\"                \"Sampling\"           \"PlantSample\"       \n",
       "[10] \"Type\"               \"Grass_Broad\"        \"Status\"            \n",
       "[13] \"Subfamily\"          \"Symbol_class\"       \"Plant_num\"         \n",
       "[16] \"Leaf_AreaBiomass_g\" \"Biomass_T\"          \"Biomass_P\"         \n",
       "[19] \"Leaf_Area_cm2\"      \"SLA\"                \"Leaf_N\"            \n",
       "[22] \"Leaf_C\"             \"LeafC_N\"            \"LNa\"               \n",
       "[25] \"Plant_N\"            \"Plant_C\"            \"Plant_CN\"          \n",
       "[28] \"d15N\"               \"tN_p\"               \"BX_act\"            \n",
       "[31] \"CB_act\"             \"LAP_act\"            \"NAG_act\"           \n",
       "[34] \"soil_dw\"            \"BX_activity_g\"      \"CB_activity_g\"     \n",
       "[37] \"LAP_activity_g\"     \"NAG_activity_g\"     \"BX_barefactor\"     \n",
       "[40] \"CB_barefactor\"      \"LAP_barefactor\"     \"NAG_barefactor\"    \n",
       "[43] \"BX_dif\"             \"CB_dif\"             \"LAP_dif\"           \n",
       "[46] \"NAG_dif\"            \"BX_rel\"             \"CB_rel\"            \n",
       "[49] \"LAP_rel\"            \"NAG_rel\"            \"NO3_ug_g\"          \n",
       "[52] \"NH4_ug_g\"           \"InorganicN\"         \"Resid_logB\"        \n",
       "[55] \"Resid_logN\"         \"Resid_logCN\"        \"Resid_logSLA\"      \n",
       "[58] \"Resid_LeafN\"        \"A_Resid_logB\"       \"A_Resid_logN\"      \n",
       "[61] \"A_Resid_logCN\"      \"M_Resid_logB\"       \"M_Resid_logN\"      \n",
       "[64] \"M_Resid_logCN\"     \n"
      ]
     },
     "metadata": {},
     "output_type": "display_data"
    }
   ],
   "source": [
    "%%R -i fullData -i workDir\n",
    "setwd(workDir)\n",
    "Master = read.table(fullData, header = TRUE)\n",
    "Master$Rep = as.factor(Master$Rep)\n",
    "colnames(Master)"
   ]
  },
  {
   "cell_type": "code",
   "execution_count": 60,
   "metadata": {},
   "outputs": [
    {
     "data": {
      "text/plain": [
       "[1] 36 53 57 61 72 79 84 88\n"
      ]
     },
     "metadata": {},
     "output_type": "display_data"
    }
   ],
   "source": [
    "%%R\n",
    "Master$DAP %>% unique"
   ]
  },
  {
   "cell_type": "markdown",
   "metadata": {},
   "source": [
    "# Loop through dates to test for N uptake differences on a sampling date"
   ]
  },
  {
   "cell_type": "code",
   "execution_count": null,
   "metadata": {
    "collapsed": true
   },
   "outputs": [],
   "source": []
  },
  {
   "cell_type": "code",
   "execution_count": 6,
   "metadata": {},
   "outputs": [
    {
     "data": {
      "text/plain": [
       "Source: local data frame [46 x 6]\n",
       "Groups: Plant [?]\n",
       "\n",
       "    Plant Treatment         N     st_dev           B      B.se\n",
       "   <fctr>    <fctr>     <dbl>      <dbl>       <dbl>     <dbl>\n",
       "1  75-062      Nneg 1.2180833 0.31876256 -0.21905200 0.1408799\n",
       "2  75-062      Npos 1.1363772 0.31101464 -0.31522690 0.3058215\n",
       "3   ABUTH      Nneg 1.2447473 0.15213099  0.08260322 0.1029025\n",
       "4   ABUTH      Npos 1.3027344 0.69225888  0.06161444 0.4344922\n",
       "5   AMAPO      Nneg 1.2339784 0.35356767  0.39436089 0.3689110\n",
       "6   AMAPO      Npos 2.1634450 0.45455468  0.74980416 0.2048923\n",
       "7     B73      Nneg 1.4658371 0.43831277 -0.09544085 0.1331802\n",
       "8     B73      Npos 2.1854472 0.36386498 -0.09514569 0.1961680\n",
       "9     B97      Nneg 1.2427987 0.37921594 -0.44661295 0.1181844\n",
       "10    B97      Npos 1.7268705 0.57992872 -0.35909658 0.2242555\n",
       "11   BARE      Nneg        NA         NA          NA        NA\n",
       "12   BARE      Npos        NA         NA          NA        NA\n",
       "13  ECHCG      Nneg 0.7626846 0.30846186  0.05961872 0.3524087\n",
       "14  ECHCG      Npos 1.3551215 0.38207815  0.66203657 0.2229364\n",
       "15  ELCOR      Nneg 3.0591305 1.33562535 -0.36837031 0.3670038\n",
       "16  ELCOR      Npos 3.4551155 1.24730669 -0.27618934 0.1985697\n",
       "17  ERATE      Nneg 1.0038014 0.28892936 -0.77321258 0.1773493\n",
       "18  ERATE      Npos 1.3586427 0.31562654 -0.57185749 0.2106974\n",
       "19  FAGES      Nneg 0.3163340 0.03535124  0.29787164 0.1111973\n",
       "20  FAGES      Npos 0.3991294 0.19024477  0.36576100 0.4969639\n",
       "21  GLYMA      Nneg 0.7137376 0.16816490 -0.56987268 0.2951668\n",
       "22  GLYMA      Npos 0.9111709 0.33358999 -0.55328712 0.4832355\n",
       "23    H99      Nneg 0.8675985 0.25093785 -0.72485932 0.1573646\n",
       "24    H99      Npos 1.2019782 0.30159827 -0.57075296 0.2457789\n",
       "25  HELAN      Nneg 2.5746194 0.56806171  0.27796523 0.1408487\n",
       "26  HELAN      Npos 5.5981065 1.91989330  0.68356548 0.2022441\n",
       "27  Hp301      Nneg 1.2193065 0.60668427 -0.66145787 0.4300971\n",
       "28  Hp301      Npos 1.4542677 0.23245645 -0.54139902 0.2041381\n",
       "29  Il14H      Nneg 1.0361753 0.15345871 -0.36032560 0.0712225\n",
       "30  Il14H      Npos 1.3612971 0.22115259 -0.21848403 0.1300074\n",
       "31    Ki3      Nneg 1.6799925 0.28487369 -0.62509536 0.1329363\n",
       "32    Ki3      Npos 2.4011081 0.58137914 -0.46451992 0.2141955\n",
       "33   Mo18      Nneg 1.7341239 0.48433181 -0.44649488 0.1171529\n",
       "34   Mo18      Npos 2.3557563 0.56640938 -0.34058251 0.1776189\n",
       "35   MS71      Nneg 1.3117430 0.63388136 -0.12452975 0.3143360\n",
       "36   MS71      Npos 1.3147391 0.40031360 -0.23078253 0.2091035\n",
       "37   Oh7B      Nneg 1.1717630 0.34524459 -0.41737561 0.2305518\n",
       "38   Oh7B      Npos 1.6369627 0.35535481 -0.31185585 0.2188385\n",
       "39  SETFA      Nneg 1.3012208 0.71755817  0.06432592 0.3586051\n",
       "40  SETFA      Npos 1.3766193 0.31563012  0.03958859 0.1741900\n",
       "41  SORBI      Nneg 2.7714198 0.74046039 -0.07730824 0.1496350\n",
       "42  SORBI      Npos 3.4561870 1.00524619 -0.06287592 0.2940697\n",
       "43 SORSUD      Nneg 3.2773691 1.69683035  0.32919799 0.4226876\n",
       "44 SORSUD      Npos 4.3765763 2.18257621  0.44061841 0.3216186\n",
       "45  Tx303      Nneg 1.1890932 0.28799833 -0.83759375 0.2626954\n",
       "46  Tx303      Npos 1.6073309 0.35398643 -0.53647051 0.2223612\n"
      ]
     },
     "metadata": {},
     "output_type": "display_data"
    }
   ],
   "source": [
    "%%R\n",
    "Master %>% group_by(Plant, Treatment) %>%\n",
    "        summarise(N = mean(tN_p),\n",
    "                 st_dev = sd(tN_p),\n",
    "                 B= mean(A_Resid_logB),\n",
    "                 B.se = sd(A_Resid_logB)) %>% print(n=60)"
   ]
  },
  {
   "cell_type": "markdown",
   "metadata": {},
   "source": [
    "# Biomass comparisons in a sampling day"
   ]
  },
  {
   "cell_type": "code",
   "execution_count": 7,
   "metadata": {},
   "outputs": [
    {
     "data": {
      "text/plain": [
       "[1] \"53\"\n",
       "Analysis of Variance Table of type III  with  Kenward-Roger \n",
       "approximation for degrees of freedom\n",
       "      Sum Sq Mean Sq NumDF DenDF F.value Pr(>F)\n",
       "Plant 317.71  317.71     1     3  1.6543 0.2887\n",
       "[1] \"57\"\n",
       "Analysis of Variance Table of type III  with  Kenward-Roger \n",
       "approximation for degrees of freedom\n",
       "      Sum Sq Mean Sq NumDF DenDF F.value  Pr(>F)  \n",
       "Plant 782.58  782.58     1     3  24.947 0.01544 *\n",
       "---\n",
       "Signif. codes:  0 ‘***’ 0.001 ‘**’ 0.01 ‘*’ 0.05 ‘.’ 0.1 ‘ ’ 1\n",
       "[1] \"84\"\n",
       "Analysis of Variance Table of type III  with  Kenward-Roger \n",
       "approximation for degrees of freedom\n",
       "      Sum Sq Mean Sq NumDF DenDF F.value Pr(>F)\n",
       "Plant  21649   10825     2     6  3.3005  0.108\n"
      ]
     },
     "metadata": {},
     "output_type": "display_data"
    }
   ],
   "source": [
    "%%R\n",
    "DATE = c(\"53\", \"57\", \"84\")\n",
    "data = filter(Master, Type != \"Maize\" & Treatment == \"Nneg\"| Plant == \"B73\" & Treatment == \"Nneg\")\n",
    "\n",
    "for(d in DATE){ \n",
    "    d %>% print\n",
    "    Sub = filter(data, DAP == d)\n",
    "\n",
    "   m = lmer(Biomass_P ~ Plant + (1|Rep) , \n",
    "           data = Sub, na.rm = TRUE)\n",
    "          #summary(m1) %>% print\n",
    "          anova(m, ddf=\"Kenward-Roger\", type=3) %>% print\n",
    "   \n",
    "}"
   ]
  },
  {
   "cell_type": "code",
   "execution_count": 8,
   "metadata": {},
   "outputs": [
    {
     "data": {
      "text/plain": [
       "[1] \"53\"\n",
       "Analysis of Variance Table of type III  with  Kenward-Roger \n",
       "approximation for degrees of freedom\n",
       "      Sum Sq Mean Sq NumDF DenDF F.value Pr(>F)\n",
       "Plant   47.8    47.8     1     3 0.35616 0.5927\n",
       "[1] \"57\"\n",
       "Analysis of Variance Table of type III  with  Kenward-Roger \n",
       "approximation for degrees of freedom\n",
       "      Sum Sq Mean Sq NumDF DenDF F.value Pr(>F)\n",
       "Plant 842.18  842.18     1     3   4.597 0.1214\n",
       "[1] \"84\"\n",
       "Analysis of Variance Table of type III  with  Kenward-Roger \n",
       "approximation for degrees of freedom\n",
       "      Sum Sq Mean Sq NumDF DenDF F.value  Pr(>F)  \n",
       "Plant  73199   36600     2     6  9.3478 0.01434 *\n",
       "---\n",
       "Signif. codes:  0 ‘***’ 0.001 ‘**’ 0.01 ‘*’ 0.05 ‘.’ 0.1 ‘ ’ 1\n"
      ]
     },
     "metadata": {},
     "output_type": "display_data"
    }
   ],
   "source": [
    "%%R\n",
    "DATE = c(\"53\", \"57\", \"84\")\n",
    "data = filter(Master, Type != \"Maize\" & Treatment == \"Npos\"| Plant == \"B73\" & Treatment == \"Npos\")\n",
    "\n",
    "for(d in DATE){ \n",
    "    d %>% print\n",
    "    Sub = filter(data, DAP == d)\n",
    "\n",
    "   m = lmer(Biomass_P ~ Plant + (1|Rep) , \n",
    "           data = Sub, na.rm = TRUE)\n",
    "          #summary(m1) %>% print\n",
    "          anova(m, ddf=\"Kenward-Roger\", type=3) %>% print\n",
    "   \n",
    "}"
   ]
  },
  {
   "cell_type": "markdown",
   "metadata": {},
   "source": [
    "## N uptake comparisons"
   ]
  },
  {
   "cell_type": "code",
   "execution_count": 9,
   "metadata": {},
   "outputs": [
    {
     "data": {
      "text/plain": [
       "[1] \"53\"\n",
       "Analysis of Variance Table of type III  with  Kenward-Roger \n",
       "approximation for degrees of freedom\n",
       "       Sum Sq Mean Sq NumDF DenDF F.value Pr(>F)\n",
       "Plant 0.44424 0.44424     1     3  4.0356 0.1381\n",
       "[1] \"57\"\n",
       "Analysis of Variance Table of type III  with  Kenward-Roger \n",
       "approximation for degrees of freedom\n",
       "       Sum Sq Mean Sq NumDF DenDF F.value  Pr(>F)  \n",
       "Plant 0.56394 0.56394     1     3  22.724 0.01753 *\n",
       "---\n",
       "Signif. codes:  0 ‘***’ 0.001 ‘**’ 0.01 ‘*’ 0.05 ‘.’ 0.1 ‘ ’ 1\n",
       "[1] \"84\"\n",
       "Analysis of Variance Table of type III  with  Kenward-Roger \n",
       "approximation for degrees of freedom\n",
       "      Sum Sq Mean Sq NumDF DenDF F.value Pr(>F)\n",
       "Plant 1.0514 0.52571     2     6 0.82931 0.4808\n"
      ]
     },
     "metadata": {},
     "output_type": "display_data"
    }
   ],
   "source": [
    "%%R\n",
    "DATE = c(\"53\", \"57\", \"84\")\n",
    "data = filter(Master, Type != \"Maize\" & Treatment == \"Nneg\"| Plant == \"B73\" & Treatment == \"Nneg\")\n",
    "\n",
    "for(d in DATE){ \n",
    "    d %>% print\n",
    "    Sub = filter(data, DAP == d)\n",
    "\n",
    "   m = lmer(tN_p ~ Plant + (1|Rep) , \n",
    "           data = Sub, na.rm = TRUE)\n",
    "          #summary(m1) %>% print\n",
    "          anova(m, ddf=\"Kenward-Roger\", type=3) %>% print\n",
    "   \n",
    "}\n",
    "     "
   ]
  },
  {
   "cell_type": "code",
   "execution_count": 10,
   "metadata": {
    "scrolled": false
   },
   "outputs": [
    {
     "data": {
      "text/plain": [
       "[1] \"53\"\n",
       "Analysis of Variance Table of type III  with  Kenward-Roger \n",
       "approximation for degrees of freedom\n",
       "      Sum Sq Mean Sq NumDF DenDF F.value Pr(>F)  \n",
       "Plant 1.3068  1.3068     1     3  7.4121 0.0724 .\n",
       "---\n",
       "Signif. codes:  0 ‘***’ 0.001 ‘**’ 0.01 ‘*’ 0.05 ‘.’ 0.1 ‘ ’ 1\n",
       "[1] \"57\"\n",
       "Analysis of Variance Table of type III  with  Kenward-Roger \n",
       "approximation for degrees of freedom\n",
       "       Sum Sq Mean Sq NumDF DenDF F.value Pr(>F)\n",
       "Plant 0.30664 0.30664     1     3  1.8992  0.262\n",
       "[1] \"84\"\n",
       "Analysis of Variance Table of type III  with  Kenward-Roger \n",
       "approximation for degrees of freedom\n",
       "      Sum Sq Mean Sq NumDF DenDF F.value Pr(>F)\n",
       "Plant 9.2361   4.618     2     6  2.1392 0.1989\n"
      ]
     },
     "metadata": {},
     "output_type": "display_data"
    }
   ],
   "source": [
    "%%R\n",
    "DATE = c(\"53\", \"57\", \"84\")\n",
    "data = filter(Master, Type != \"Maize\" & Treatment == \"Npos\"| Plant == \"B73\" & Treatment == \"Npos\")\n",
    "\n",
    "for(d in DATE){ \n",
    "    d %>% print\n",
    "    Sub = filter(data, DAP == d)\n",
    "\n",
    "   m = lmer(tN_p ~ Plant + (1|Rep) , \n",
    "           data = Sub, na.rm = TRUE)\n",
    "          #summary(m1) %>% print\n",
    "          anova(m, ddf=\"Kenward-Roger\", type=3) %>% print\n",
    "   \n",
    "}"
   ]
  },
  {
   "cell_type": "markdown",
   "metadata": {},
   "source": [
    "# Analysis of maize within a sampling date"
   ]
  },
  {
   "cell_type": "code",
   "execution_count": 11,
   "metadata": {},
   "outputs": [
    {
     "data": {
      "text/plain": [
       "[1] \"Nneg\"\n",
       "[1] \"72\"\n",
       "Analysis of Variance Table of type III  with  Kenward-Roger \n",
       "approximation for degrees of freedom\n",
       "      Sum Sq Mean Sq NumDF DenDF F.value  Pr(>F)  \n",
       "Plant 4496.5  1498.8     3     9  5.7042 0.01815 *\n",
       "---\n",
       "Signif. codes:  0 ‘***’ 0.001 ‘**’ 0.01 ‘*’ 0.05 ‘.’ 0.1 ‘ ’ 1\n",
       "[1] \"79\"\n",
       "Analysis of Variance Table of type III  with  Kenward-Roger \n",
       "approximation for degrees of freedom\n",
       "      Sum Sq Mean Sq NumDF DenDF F.value  Pr(>F)  \n",
       "Plant 6416.1  2138.7     3     9  4.0191 0.04546 *\n",
       "---\n",
       "Signif. codes:  0 ‘***’ 0.001 ‘**’ 0.01 ‘*’ 0.05 ‘.’ 0.1 ‘ ’ 1\n",
       "[1] \"88\"\n",
       "Analysis of Variance Table of type III  with  Kenward-Roger \n",
       "approximation for degrees of freedom\n",
       "      Sum Sq Mean Sq NumDF DenDF F.value  Pr(>F)  \n",
       "Plant 3417.7  1708.8     2     6  5.5156 0.04372 *\n",
       "---\n",
       "Signif. codes:  0 ‘***’ 0.001 ‘**’ 0.01 ‘*’ 0.05 ‘.’ 0.1 ‘ ’ 1\n",
       "[1] \"Npos\"\n",
       "[1] \"72\"\n",
       "Analysis of Variance Table of type III  with  Kenward-Roger \n",
       "approximation for degrees of freedom\n",
       "      Sum Sq Mean Sq NumDF DenDF F.value Pr(>F)\n",
       "Plant 1615.6  538.55     3     9  2.0207 0.1816\n",
       "[1] \"79\"\n",
       "Analysis of Variance Table of type III  with  Kenward-Roger \n",
       "approximation for degrees of freedom\n",
       "      Sum Sq Mean Sq NumDF DenDF F.value  Pr(>F)  \n",
       "Plant 5011.2  1670.4     3     9   3.209 0.07607 .\n",
       "---\n",
       "Signif. codes:  0 ‘***’ 0.001 ‘**’ 0.01 ‘*’ 0.05 ‘.’ 0.1 ‘ ’ 1\n",
       "[1] \"88\"\n",
       "Analysis of Variance Table of type III  with  Kenward-Roger \n",
       "approximation for degrees of freedom\n",
       "      Sum Sq Mean Sq NumDF DenDF F.value Pr(>F)\n",
       "Plant 1370.9  685.44     2     6  1.8662 0.2343\n"
      ]
     },
     "metadata": {},
     "output_type": "display_data"
    }
   ],
   "source": [
    "%%R\n",
    "#Biomass\n",
    "print(\"Nneg\")\n",
    "DATE = c(\"72\", \"79\", \"88\")\n",
    "data = filter(Master, Type == \"Maize\" & Treatment == \"Nneg\")\n",
    "\n",
    "for(d in DATE){ \n",
    "    d %>% print\n",
    "    Sub = filter(data, DAP == d)\n",
    "\n",
    "   m = lmer(Biomass_P ~ Plant + (1|Rep) , \n",
    "           data = Sub, na.rm = TRUE)\n",
    "          #summary(m1) %>% print\n",
    "          anova(m, ddf=\"Kenward-Roger\", type=3) %>% print\n",
    "   \n",
    "}\n",
    "\n",
    "print(\"Npos\")\n",
    "DATE = c(\"72\", \"79\", \"88\")\n",
    "data = filter(Master, Type == \"Maize\" & Treatment == \"Npos\")\n",
    "\n",
    "for(d in DATE){ \n",
    "    d %>% print\n",
    "    Sub = filter(data, DAP == d)\n",
    "\n",
    "   m = lmer(Biomass_P ~ Plant + (1|Rep) , \n",
    "           data = Sub, na.rm = TRUE)\n",
    "          #summary(m1) %>% print\n",
    "          anova(m, ddf=\"Kenward-Roger\", type=3) %>% print\n",
    "   \n",
    "}"
   ]
  },
  {
   "cell_type": "code",
   "execution_count": 12,
   "metadata": {},
   "outputs": [
    {
     "data": {
      "text/plain": [
       "[1] \"Nneg\"\n",
       "[1] \"72\"\n",
       "Analysis of Variance Table of type III  with  Kenward-Roger \n",
       "approximation for degrees of freedom\n",
       "       Sum Sq Mean Sq NumDF DenDF F.value Pr(>F)\n",
       "Plant 0.46632 0.15544     3     9  1.0569 0.4142\n",
       "[1] \"79\"\n",
       "Analysis of Variance Table of type III  with  Kenward-Roger \n",
       "approximation for degrees of freedom\n",
       "       Sum Sq  Mean Sq NumDF DenDF F.value Pr(>F)\n",
       "Plant 0.20486 0.068287     3     9 0.35317 0.7881\n",
       "[1] \"88\"\n",
       "Analysis of Variance Table of type III  with  Kenward-Roger \n",
       "approximation for degrees of freedom\n",
       "       Sum Sq Mean Sq NumDF DenDF F.value Pr(>F)\n",
       "Plant 0.72129 0.36065     2     6  2.8418 0.1354\n",
       "[1] \"Npos\"\n",
       "[1] \"72\"\n",
       "Analysis of Variance Table of type III  with  Kenward-Roger \n",
       "approximation for degrees of freedom\n",
       "       Sum Sq  Mean Sq NumDF DenDF F.value Pr(>F)\n",
       "Plant 0.12697 0.042324     3     9 0.42659 0.7388\n",
       "[1] \"79\"\n",
       "Analysis of Variance Table of type III  with  Kenward-Roger \n",
       "approximation for degrees of freedom\n",
       "      Sum Sq Mean Sq NumDF DenDF F.value Pr(>F)\n",
       "Plant 1.1615 0.38717     3     9  2.3862 0.1367\n",
       "[1] \"88\"\n",
       "Analysis of Variance Table of type III  with  Kenward-Roger \n",
       "approximation for degrees of freedom\n",
       "      Sum Sq Mean Sq NumDF DenDF F.value  Pr(>F)  \n",
       "Plant 1.5897 0.79485     2     6  3.9918 0.07899 .\n",
       "---\n",
       "Signif. codes:  0 ‘***’ 0.001 ‘**’ 0.01 ‘*’ 0.05 ‘.’ 0.1 ‘ ’ 1\n"
      ]
     },
     "metadata": {},
     "output_type": "display_data"
    }
   ],
   "source": [
    "%%R\n",
    "#N uptake\n",
    "print(\"Nneg\")\n",
    "DATE = c(\"72\", \"79\", \"88\")\n",
    "data = filter(Master, Type == \"Maize\" & Treatment == \"Nneg\")\n",
    "\n",
    "for(d in DATE){ \n",
    "    d %>% print\n",
    "    Sub = filter(data, DAP == d)\n",
    "\n",
    "   m = lmer(tN_p ~ Plant + (1|Rep) , \n",
    "           data = Sub, na.rm = TRUE)\n",
    "          #summary(m1) %>% print\n",
    "          anova(m, ddf=\"Kenward-Roger\", type=3) %>% print\n",
    "   \n",
    "}\n",
    "\n",
    "print(\"Npos\")\n",
    "DATE = c(\"72\", \"79\", \"88\")\n",
    "data = filter(Master, Type == \"Maize\" & Treatment == \"Npos\")\n",
    "\n",
    "for(d in DATE){ \n",
    "    d %>% print\n",
    "    Sub = filter(data, DAP == d)\n",
    "\n",
    "   m = lmer(tN_p ~ Plant + (1|Rep) , \n",
    "           data = Sub, na.rm = TRUE)\n",
    "          #summary(m1) %>% print\n",
    "          anova(m, ddf=\"Kenward-Roger\", type=3) %>% print\n",
    "   \n",
    "}"
   ]
  },
  {
   "cell_type": "markdown",
   "metadata": {},
   "source": [
    "# Analysis of growth residuals"
   ]
  },
  {
   "cell_type": "markdown",
   "metadata": {},
   "source": [
    "## Annuals - biomass"
   ]
  },
  {
   "cell_type": "code",
   "execution_count": 13,
   "metadata": {},
   "outputs": [
    {
     "data": {
      "text/plain": [
       "     Plant Treatment A_Resid_logB\n",
       "1     BARE      Nneg           NA\n",
       "2     BARE      Npos           NA\n",
       "3    FAGES      Nneg  0.345822635\n",
       "4    FAGES      Npos -0.149317702\n",
       "5     BARE      Nneg           NA\n",
       "6     BARE      Npos           NA\n",
       "7    FAGES      Nneg  0.132136408\n",
       "8    FAGES      Npos  0.061297364\n",
       "9     BARE      Nneg           NA\n",
       "10    BARE      Npos           NA\n",
       "11   FAGES      Nneg  0.370736728\n",
       "12   FAGES      Npos  0.928976742\n",
       "13   FAGES      Nneg  0.342790798\n",
       "14   FAGES      Npos  0.622087610\n",
       "15    BARE      Nneg           NA\n",
       "16    BARE      Npos           NA\n",
       "17    BARE      Nneg           NA\n",
       "18    BARE      Npos           NA\n",
       "19   AMAPO      Nneg  0.580496943\n",
       "20   AMAPO      Npos  0.877816096\n",
       "21   ECHCG      Nneg -0.341870715\n",
       "22   ECHCG      Npos  0.600360913\n",
       "23    BARE      Nneg           NA\n",
       "24    BARE      Npos           NA\n",
       "25   AMAPO      Nneg  0.808584305\n",
       "26   AMAPO      Npos  0.857444746\n",
       "27   ECHCG      Nneg  0.075184886\n",
       "28   ECHCG      Npos  0.381298405\n",
       "29   AMAPO      Nneg  0.198685897\n",
       "30   AMAPO      Npos  0.444624070\n",
       "31    BARE      Nneg           NA\n",
       "32    BARE      Npos           NA\n",
       "33   ECHCG      Nneg -0.008830363\n",
       "34   ECHCG      Npos  0.895934940\n",
       "35   ECHCG      Nneg  0.513991062\n",
       "36   ECHCG      Npos  0.770552006\n",
       "37   AMAPO      Nneg -0.010323569\n",
       "38   AMAPO      Npos  0.819331741\n",
       "39    BARE      Nneg           NA\n",
       "40    BARE      Npos           NA\n",
       "41    BARE      Nneg           NA\n",
       "42    BARE      Npos           NA\n",
       "43   GLYMA      Nneg -0.907520237\n",
       "44   GLYMA      Npos -1.230421950\n",
       "45   ABUTH      Nneg  0.156091301\n",
       "46   ABUTH      Npos -0.048538975\n",
       "47   GLYMA      Nneg -0.695758378\n",
       "48   GLYMA      Npos -0.564645366\n",
       "49    BARE      Nneg           NA\n",
       "50    BARE      Npos           NA\n",
       "51   ABUTH      Nneg  0.162037692\n",
       "52   ABUTH      Npos -0.380937340\n",
       "53   GLYMA      Nneg -0.447846098\n",
       "54   GLYMA      Npos -0.159555310\n",
       "55    BARE      Nneg           NA\n",
       "56    BARE      Npos           NA\n",
       "57   ABUTH      Nneg -0.058525563\n",
       "58   ABUTH      Npos  0.017324705\n",
       "59   GLYMA      Nneg -0.228365996\n",
       "60   GLYMA      Npos -0.258525868\n",
       "61   ABUTH      Nneg  0.070809461\n",
       "62   ABUTH      Npos  0.658609368\n",
       "63    BARE      Nneg           NA\n",
       "64    BARE      Npos           NA\n",
       "65   SETFA      Nneg  0.569581567\n",
       "66   SETFA      Npos  0.105341642\n",
       "67    BARE      Nneg           NA\n",
       "68    BARE      Npos           NA\n",
       "69   SETFA      Nneg -0.070276169\n",
       "70   SETFA      Npos  0.227470110\n",
       "71    BARE      Nneg           NA\n",
       "72    BARE      Npos           NA\n",
       "73    BARE      Nneg           NA\n",
       "74    BARE      Npos           NA\n",
       "75   SETFA      Nneg -0.268817874\n",
       "76   SETFA      Npos -0.185305894\n",
       "77   SETFA      Nneg  0.026816159\n",
       "78   SETFA      Npos  0.010848498\n",
       "79    BARE      Nneg           NA\n",
       "80    BARE      Npos           NA\n",
       "81    BARE      Nneg           NA\n",
       "82    BARE      Npos           NA\n",
       "83   ERATE      Nneg -0.835381038\n",
       "84   ERATE      Npos -0.559251263\n",
       "85    BARE      Nneg           NA\n",
       "86    BARE      Npos           NA\n",
       "87   ERATE      Nneg -0.570230141\n",
       "88   ERATE      Npos -0.537729278\n",
       "89    BARE      Nneg           NA\n",
       "90    BARE      Npos           NA\n",
       "91   ERATE      Nneg -0.703303401\n",
       "92   ERATE      Npos -0.850924258\n",
       "93   ERATE      Nneg -0.983935732\n",
       "94   ERATE      Npos -0.339525164\n",
       "95    BARE      Nneg           NA\n",
       "96    BARE      Npos           NA\n",
       "97    BARE      Nneg           NA\n",
       "98    BARE      Npos           NA\n",
       "99     B73      Nneg -0.005706201\n",
       "100    B73      Npos -0.360349030\n",
       "101   BARE      Nneg           NA\n",
       "102   BARE      Npos           NA\n",
       "103    B73      Nneg -0.291036517\n",
       "104    B73      Npos -0.084768338\n",
       "105   BARE      Nneg           NA\n",
       "106   BARE      Npos           NA\n",
       "107    B73      Nneg -0.017038246\n",
       "108    B73      Npos -0.046906672\n",
       "109   BARE      Nneg           NA\n",
       "110   BARE      Npos           NA\n",
       "111    B73      Nneg -0.067982455\n",
       "112    B73      Npos  0.111441285\n",
       "113 SORSUD      Nneg  0.488255419\n",
       "114 SORSUD      Npos  0.670880478\n",
       "115   BARE      Nneg           NA\n",
       "116   BARE      Npos           NA\n",
       "117  SORBI      Nneg -0.024160412\n",
       "118  SORBI      Npos  0.164618121\n",
       "119  HELAN      Nneg  0.312746061\n",
       "120  HELAN      Npos  0.864511588\n",
       "121   BARE      Nneg           NA\n",
       "122   BARE      Npos           NA\n",
       "123  HELAN      Nneg  0.382854929\n",
       "124  HELAN      Npos  0.842120285\n",
       "125 SORSUD      Nneg  0.854247350\n",
       "126 SORSUD      Npos  0.747289818\n",
       "127  SORBI      Nneg  0.103375641\n",
       "128  SORBI      Npos -0.387042446\n",
       "129   BARE      Nneg           NA\n",
       "130   BARE      Npos           NA\n",
       "131  HELAN      Nneg  0.071108821\n",
       "132  HELAN      Npos  0.453829596\n",
       "133  SORBI      Nneg -0.240924684\n",
       "134  SORBI      Npos -0.235809584\n",
       "135 SORSUD      Nneg  0.009697974\n",
       "136 SORSUD      Npos  0.269872967\n",
       "137 SORSUD      Nneg -0.035408784\n",
       "138 SORSUD      Npos  0.074430375\n",
       "139  HELAN      Nneg  0.345151116\n",
       "140  HELAN      Npos  0.573800446\n",
       "141  SORBI      Nneg -0.147523509\n",
       "142  SORBI      Npos  0.206730247\n",
       "143   BARE      Nneg           NA\n",
       "144   BARE      Npos           NA\n",
       "145   BARE      Nneg           NA\n",
       "146   BARE      Npos           NA\n",
       "147  ELCOR      Nneg -0.680200888\n",
       "148  ELCOR      Npos -0.302880298\n",
       "149   BARE      Nneg           NA\n",
       "150   BARE      Npos           NA\n",
       "151  ELCOR      Nneg -0.010828519\n",
       "152  ELCOR      Npos -0.028677331\n",
       "153  ELCOR      Nneg -0.092933982\n",
       "154  ELCOR      Npos -0.260238882\n",
       "155   BARE      Nneg           NA\n",
       "156   BARE      Npos           NA\n",
       "157  ELCOR      Nneg -0.689517850\n",
       "158  ELCOR      Npos -0.512960833\n",
       "159   BARE      Nneg           NA\n",
       "160   BARE      Npos           NA\n"
      ]
     },
     "metadata": {},
     "output_type": "display_data"
    }
   ],
   "source": [
    "%%R\n",
    "data = filter(Master, Type != \"Maize\"  | Plant == \"B73\" )\n",
    " data %>% select(Plant, Treatment, A_Resid_logB)"
   ]
  },
  {
   "cell_type": "code",
   "execution_count": 14,
   "metadata": {},
   "outputs": [
    {
     "data": {
      "text/plain": [
       "[1] 96 64\n",
       "Analysis of Variance Table of type III  with  Kenward-Roger \n",
       "approximation for degrees of freedom\n",
       "                Sum Sq Mean Sq NumDF DenDF F.value    Pr(>F)    \n",
       "Plant           6.5621 0.59655    11    33 11.2360 2.926e-08 ***\n",
       "Treatment       0.5532 0.55322     1    36 10.4197  0.002659 ** \n",
       "Plant:Treatment 0.8895 0.08086    11    36  1.5231  0.165974    \n",
       "---\n",
       "Signif. codes:  0 ‘***’ 0.001 ‘**’ 0.01 ‘*’ 0.05 ‘.’ 0.1 ‘ ’ 1\n"
      ]
     },
     "metadata": {},
     "output_type": "display_data"
    }
   ],
   "source": [
    "%%R\n",
    "#Full model\n",
    "data = filter(Master, Type != \"Maize\"  | Plant == \"B73\" ) %>%\n",
    "        filter(!is.na(A_Resid_logB))\n",
    "dim(data) %>% print\n",
    "m = lmer(A_Resid_logB ~ Plant + Treatment + Plant:Treatment + (1|Rep) + (1|Rep:Plant), \n",
    "          data = data, na.rm = TRUE)\n",
    "         #summary(m) %>% print\n",
    "       # anova(m) \n",
    "        anova(m, ddf=\"Kenward-Roger\", type=3) %>% print"
   ]
  },
  {
   "cell_type": "code",
   "execution_count": 15,
   "metadata": {
    "scrolled": true
   },
   "outputs": [
    {
     "name": "stdout",
     "output_type": "stream",
     "text": [
      "Analysis of Variance Table of type III  with  Kenward-Roger \n",
      "approximation for degrees of freedom\n",
      "      Sum Sq Mean Sq NumDF DenDF F.value    Pr(>F)    \n",
      "Plant 6.0235 0.54759    11    33   7.271 4.072e-06 ***\n",
      "---\n",
      "Signif. codes:  0 ‘***’ 0.001 ‘**’ 0.01 ‘*’ 0.05 ‘.’ 0.1 ‘ ’ 1\n",
      "Error in withVisible({ : could not find function \"glht\"\n"
     ]
    },
    {
     "name": "stderr",
     "output_type": "stream",
     "text": [
      "/home/bryan/anaconda3/lib/python3.6/site-packages/rpy2/rinterface/__init__.py:186: RRuntimeWarning: Error in withVisible({ : could not find function \"glht\"\n",
      "\n",
      "  warnings.warn(x, RRuntimeWarning)\n",
      "/home/bryan/anaconda3/lib/python3.6/site-packages/rpy2/rinterface/__init__.py:186: RRuntimeWarning: In addition: \n",
      "  warnings.warn(x, RRuntimeWarning)\n",
      "/home/bryan/anaconda3/lib/python3.6/site-packages/rpy2/rinterface/__init__.py:186: RRuntimeWarning: There were 50 or more warnings (use warnings() to see the first 50)\n",
      "  warnings.warn(x, RRuntimeWarning)\n",
      "/home/bryan/anaconda3/lib/python3.6/site-packages/rpy2/rinterface/__init__.py:186: RRuntimeWarning: \n",
      "\n",
      "  warnings.warn(x, RRuntimeWarning)\n"
     ]
    }
   ],
   "source": [
    "%%R\n",
    "#just Nneg\n",
    "data = filter(Master, Type != \"Maize\" & Treatment == \"Nneg\" | Plant == \"B73\" & Treatment == \"Nneg\")\n",
    "m = lmer(A_Resid_logB ~ Plant + (1|Rep), \n",
    "          data = data, na.rm = TRUE)\n",
    "         #summary(m) %>% print\n",
    "         anova(m, ddf=\"Kenward-Roger\", type=3) %>% print\n",
    "\n",
    "m1.lsm = lsmeans(m)\n",
    "m1.glht = glht(m, linfct = mcp(Plant = \"Tukey\"))\n",
    "#summary(m1.glht)\n",
    "m1.cld = cld(m1.glht, level = 0.05)\n",
    "old.par <- par(mai=c(1,1,1.5,1), no.readonly = TRUE)\n",
    "plot(m1.cld)"
   ]
  },
  {
   "cell_type": "code",
   "execution_count": 16,
   "metadata": {},
   "outputs": [
    {
     "name": "stdout",
     "output_type": "stream",
     "text": [
      "Analysis of Variance Table of type III  with  Kenward-Roger \n",
      "approximation for degrees of freedom\n",
      "      Sum Sq Mean Sq NumDF DenDF F.value    Pr(>F)    \n",
      "Plant 9.3992 0.85448    11    33  8.9598 4.175e-07 ***\n",
      "---\n",
      "Signif. codes:  0 ‘***’ 0.001 ‘**’ 0.01 ‘*’ 0.05 ‘.’ 0.1 ‘ ’ 1\n",
      "Error in withVisible({ : could not find function \"glht\"\n"
     ]
    },
    {
     "name": "stderr",
     "output_type": "stream",
     "text": [
      "/home/bryan/anaconda3/lib/python3.6/site-packages/rpy2/rinterface/__init__.py:186: RRuntimeWarning: There were 17 warnings (use warnings() to see them)\n",
      "  warnings.warn(x, RRuntimeWarning)\n"
     ]
    }
   ],
   "source": [
    "%%R\n",
    "#just Npos\n",
    "data = filter(Master, Type != \"Maize\" & Treatment == \"Npos\" | Plant == \"B73\" & Treatment == \"Npos\")\n",
    "m = lmer(A_Resid_logB ~ Plant + (1|Rep), \n",
    "          data = data, na.rm = TRUE)\n",
    "         #summary(m) %>% print\n",
    "         anova(m, ddf=\"Kenward-Roger\", type=3) %>% print\n",
    "\n",
    "m1.lsm = lsmeans(m)\n",
    "m1.glht = glht(m, linfct = mcp(Plant = \"Tukey\"))\n",
    "#summary(m1.glht)\n",
    "m1.cld = cld(m1.glht, level = 0.05)\n",
    "old.par <- par(mai=c(1,1,1.5,1), no.readonly = TRUE)\n",
    "plot(m1.cld)"
   ]
  },
  {
   "cell_type": "markdown",
   "metadata": {},
   "source": [
    "## Annuals - N uptake"
   ]
  },
  {
   "cell_type": "code",
   "execution_count": 17,
   "metadata": {},
   "outputs": [
    {
     "data": {
      "text/plain": [
       "Analysis of Variance Table of type III  with  Kenward-Roger \n",
       "approximation for degrees of freedom\n",
       "                Sum Sq Mean Sq NumDF DenDF F.value    Pr(>F)    \n",
       "Plant           3.9998 0.36362    11    33   5.286 9.202e-05 ***\n",
       "Treatment       2.3380 2.33804     1    36  33.986 1.173e-06 ***\n",
       "Plant:Treatment 1.1933 0.10848    11    36   1.577    0.1479    \n",
       "---\n",
       "Signif. codes:  0 ‘***’ 0.001 ‘**’ 0.01 ‘*’ 0.05 ‘.’ 0.1 ‘ ’ 1\n"
      ]
     },
     "metadata": {},
     "output_type": "display_data"
    }
   ],
   "source": [
    "%%R\n",
    "#Full model\n",
    "data = filter(Master, Type != \"Maize\"  | Plant == \"B73\" )\n",
    "m = lmer(A_Resid_logN ~ Plant + Treatment + Plant:Treatment + (1|Rep) + (1|Rep:Plant), \n",
    "          data = data, na.rm = TRUE)\n",
    "         #summary(m) %>% print\n",
    "         anova(m, ddf=\"Kenward-Roger\", type=3) %>% print"
   ]
  },
  {
   "cell_type": "code",
   "execution_count": 18,
   "metadata": {
    "scrolled": false
   },
   "outputs": [
    {
     "name": "stdout",
     "output_type": "stream",
     "text": [
      "Analysis of Variance Table of type III  with  Kenward-Roger \n",
      "approximation for degrees of freedom\n",
      "      Sum Sq Mean Sq NumDF DenDF F.value    Pr(>F)    \n",
      "Plant  5.037 0.45791    11    33  4.2826 0.0005565 ***\n",
      "---\n",
      "Signif. codes:  0 ‘***’ 0.001 ‘**’ 0.01 ‘*’ 0.05 ‘.’ 0.1 ‘ ’ 1\n",
      "Error in withVisible({ : could not find function \"glht\"\n"
     ]
    },
    {
     "name": "stderr",
     "output_type": "stream",
     "text": [
      "/home/bryan/anaconda3/lib/python3.6/site-packages/rpy2/rinterface/__init__.py:186: RRuntimeWarning: There were 19 warnings (use warnings() to see them)\n",
      "  warnings.warn(x, RRuntimeWarning)\n"
     ]
    }
   ],
   "source": [
    "%%R\n",
    "#just Nneg\n",
    "data = filter(Master, Type != \"Maize\" & Treatment == \"Nneg\" | Plant == \"B73\" & Treatment == \"Nneg\")\n",
    "m = lmer(A_Resid_logN ~ Plant + (1|Rep), \n",
    "          data = data, na.rm = TRUE)\n",
    "         #summary(m) %>% print\n",
    "         anova(m, ddf=\"Kenward-Roger\", type=3) %>% print\n",
    "\n",
    "m1.lsm = lsmeans(m)\n",
    "m1.glht = glht(m, linfct = mcp(Plant = \"Tukey\"))\n",
    "#summary(m1.glht)\n",
    "m1.cld = cld(m1.glht, level = 0.05)\n",
    "old.par <- par(mai=c(1,1,1.5,1), no.readonly = TRUE)\n",
    "plot(m1.cld)\n",
    "        "
   ]
  },
  {
   "cell_type": "code",
   "execution_count": 19,
   "metadata": {
    "scrolled": false
   },
   "outputs": [
    {
     "name": "stdout",
     "output_type": "stream",
     "text": [
      "Analysis of Variance Table of type III  with  Kenward-Roger \n",
      "approximation for degrees of freedom\n",
      "      Sum Sq Mean Sq NumDF DenDF F.value    Pr(>F)    \n",
      "Plant 6.6824 0.60749    11    33  4.4511 0.0004065 ***\n",
      "---\n",
      "Signif. codes:  0 ‘***’ 0.001 ‘**’ 0.01 ‘*’ 0.05 ‘.’ 0.1 ‘ ’ 1\n",
      "Error in withVisible({ : could not find function \"glht\"\n"
     ]
    }
   ],
   "source": [
    "%%R\n",
    "#just Npos\n",
    "data = filter(Master, Type != \"Maize\" & Treatment == \"Npos\" | Plant == \"B73\" & Treatment == \"Npos\")\n",
    "m = lmer(A_Resid_logN ~ Plant + (1|Rep), \n",
    "          data = data, na.rm = TRUE)\n",
    "         #summary(m) %>% print\n",
    "         anova(m, ddf=\"Kenward-Roger\", type=3) %>% print\n",
    "\n",
    "m1.lsm = lsmeans(m)\n",
    "m1.glht = glht(m, linfct = mcp(Plant = \"Tukey\"))\n",
    "#summary(m1.glht)\n",
    "m1.cld = cld(m1.glht, level = 0.05)\n",
    "old.par <- par(mai=c(1,1,1.5,1), no.readonly = TRUE)\n",
    "plot(m1.cld)\n",
    "\n"
   ]
  },
  {
   "cell_type": "markdown",
   "metadata": {},
   "source": [
    "## Annuals C:N residuals"
   ]
  },
  {
   "cell_type": "code",
   "execution_count": 20,
   "metadata": {},
   "outputs": [
    {
     "data": {
      "text/plain": [
       "Analysis of Variance Table of type III  with  Kenward-Roger \n",
       "approximation for degrees of freedom\n",
       "                 Sum Sq Mean Sq NumDF DenDF F.value    Pr(>F)    \n",
       "Plant           2.62933 0.23903    11    33  16.724 1.818e-10 ***\n",
       "Treatment       0.64245 0.64245     1    36  44.950 8.041e-08 ***\n",
       "Plant:Treatment 0.36052 0.03277    11    36   2.293   0.03004 *  \n",
       "---\n",
       "Signif. codes:  0 ‘***’ 0.001 ‘**’ 0.01 ‘*’ 0.05 ‘.’ 0.1 ‘ ’ 1\n"
      ]
     },
     "metadata": {},
     "output_type": "display_data"
    }
   ],
   "source": [
    "%%R\n",
    "#Full model\n",
    "data = filter(Master, Type != \"Maize\"  | Plant == \"B73\" )\n",
    "m = lmer(A_Resid_logCN ~ Plant + Treatment + Plant:Treatment + (1|Rep) + (1|Rep:Plant), \n",
    "          data = data, na.rm = TRUE)\n",
    "         #summary(m) %>% print\n",
    "         anova(m, ddf=\"Kenward-Roger\", type=3) %>% print"
   ]
  },
  {
   "cell_type": "code",
   "execution_count": 21,
   "metadata": {},
   "outputs": [
    {
     "name": "stdout",
     "output_type": "stream",
     "text": [
      "Analysis of Variance Table of type III  with  Kenward-Roger \n",
      "approximation for degrees of freedom\n",
      "      Sum Sq Mean Sq NumDF DenDF F.value    Pr(>F)    \n",
      "Plant 2.8058 0.25507    11    33  15.926 3.483e-10 ***\n",
      "---\n",
      "Signif. codes:  0 ‘***’ 0.001 ‘**’ 0.01 ‘*’ 0.05 ‘.’ 0.1 ‘ ’ 1\n",
      "Error in withVisible({ : could not find function \"glht\"\n"
     ]
    }
   ],
   "source": [
    "%%R\n",
    "#just Nneg\n",
    "data = filter(Master, Type != \"Maize\" & Treatment == \"Nneg\" | Plant == \"B73\" & Treatment == \"Nneg\")\n",
    "m = lmer(A_Resid_logCN ~ Plant + (1|Rep), \n",
    "          data = data, na.rm = TRUE)\n",
    "         #summary(m) %>% print\n",
    "         anova(m, ddf=\"Kenward-Roger\", type=3) %>% print\n",
    "\n",
    "m1.lsm = lsmeans(m)\n",
    "m1.glht = glht(m, linfct = mcp(Plant = \"Tukey\"))\n",
    "#summary(m1.glht)\n",
    "m1.cld = cld(m1.glht, level = 0.05)\n",
    "old.par <- par(mai=c(1,1,1.5,1), no.readonly = TRUE)\n",
    "plot(m1.cld)"
   ]
  },
  {
   "cell_type": "code",
   "execution_count": 22,
   "metadata": {},
   "outputs": [
    {
     "name": "stdout",
     "output_type": "stream",
     "text": [
      "Analysis of Variance Table of type III  with  Kenward-Roger \n",
      "approximation for degrees of freedom\n",
      "      Sum Sq Mean Sq NumDF DenDF F.value    Pr(>F)    \n",
      "Plant 1.7553 0.15957    11    33  7.6714 2.309e-06 ***\n",
      "---\n",
      "Signif. codes:  0 ‘***’ 0.001 ‘**’ 0.01 ‘*’ 0.05 ‘.’ 0.1 ‘ ’ 1\n",
      "Error in withVisible({ : could not find function \"glht\"\n"
     ]
    }
   ],
   "source": [
    "%%R\n",
    "#just Npos\n",
    "data = filter(Master, Type != \"Maize\" & Treatment == \"Npos\" | Plant == \"B73\" & Treatment == \"Npos\")\n",
    "m = lmer(A_Resid_logCN ~ Plant + (1|Rep), \n",
    "          data = data, na.rm = TRUE)\n",
    "         #summary(m) %>% print\n",
    "         anova(m, ddf=\"Kenward-Roger\", type=3) %>% print\n",
    "\n",
    "m1.lsm = lsmeans(m)\n",
    "m1.glht = glht(m, linfct = mcp(Plant = \"Tukey\"))\n",
    "#summary(m1.glht)\n",
    "m1.cld = cld(m1.glht, level = 0.05)\n",
    "old.par <- par(mai=c(1,1,1.5,1), no.readonly = TRUE)\n",
    "plot(m1.cld)"
   ]
  },
  {
   "cell_type": "markdown",
   "metadata": {},
   "source": [
    "## Maize - Biomass residuals"
   ]
  },
  {
   "cell_type": "code",
   "execution_count": 23,
   "metadata": {
    "scrolled": true
   },
   "outputs": [
    {
     "data": {
      "text/plain": [
       "Analysis of Variance Table of type III  with  Kenward-Roger \n",
       "approximation for degrees of freedom\n",
       "                 Sum Sq  Mean Sq NumDF DenDF F.value   Pr(>F)   \n",
       "Plant           1.29948 0.129948    10    30  3.9905 0.001543 **\n",
       "Treatment       0.17267 0.172671     1    33  5.3025 0.027739 * \n",
       "Plant:Treatment 0.27791 0.027791    10    33  0.8534 0.583234   \n",
       "---\n",
       "Signif. codes:  0 ‘***’ 0.001 ‘**’ 0.01 ‘*’ 0.05 ‘.’ 0.1 ‘ ’ 1\n"
      ]
     },
     "metadata": {},
     "output_type": "display_data"
    }
   ],
   "source": [
    "%%R\n",
    "#Full anova\n",
    "data = filter(Master, Type == \"Maize\")\n",
    "m = lmer(M_Resid_logB ~ Plant + Treatment + Plant:Treatment +\n",
    "          (1|Rep) + (1|Rep:Plant), \n",
    "          data = data, na.rm = TRUE)\n",
    "         #summary(m1) %>% print\n",
    "         anova(m, ddf=\"Kenward-Roger\", type=3) %>% print"
   ]
  },
  {
   "cell_type": "code",
   "execution_count": 24,
   "metadata": {
    "scrolled": false
   },
   "outputs": [
    {
     "name": "stdout",
     "output_type": "stream",
     "text": [
      "Analysis of Variance Table of type III  with  Kenward-Roger \n",
      "approximation for degrees of freedom\n",
      "      Sum Sq Mean Sq NumDF DenDF F.value   Pr(>F)   \n",
      "Plant 1.8694 0.18694    10    30  3.9642 0.001616 **\n",
      "---\n",
      "Signif. codes:  0 ‘***’ 0.001 ‘**’ 0.01 ‘*’ 0.05 ‘.’ 0.1 ‘ ’ 1\n",
      "Error in withVisible({ : could not find function \"glht\"\n"
     ]
    },
    {
     "name": "stderr",
     "output_type": "stream",
     "text": [
      "/home/bryan/anaconda3/lib/python3.6/site-packages/rpy2/rinterface/__init__.py:186: RRuntimeWarning: There were 18 warnings (use warnings() to see them)\n",
      "  warnings.warn(x, RRuntimeWarning)\n"
     ]
    }
   ],
   "source": [
    "%%R\n",
    "#Just Nneg\n",
    "data = filter(Master, Type == \"Maize\" & Treatment == \"Nneg\")\n",
    "m = lmer(M_Resid_logB ~ Plant  +\n",
    "          (1|Rep), \n",
    "          data = data, na.rm = TRUE)\n",
    "         #summary(m1) %>% print\n",
    "         anova(m, ddf=\"Kenward-Roger\", type=3) %>% print\n",
    "\n",
    "m1.lsm = lsmeans(m)\n",
    "m1.glht = glht(m, linfct = mcp(Plant = \"Tukey\"))\n",
    "#summary(m1.glht)\n",
    "m1.cld = cld(m1.glht, level = 0.05)\n",
    "old.par <- par(mai=c(1,1,1.5,1), no.readonly = TRUE)\n",
    "plot(m1.cld)"
   ]
  },
  {
   "cell_type": "code",
   "execution_count": 25,
   "metadata": {},
   "outputs": [
    {
     "name": "stdout",
     "output_type": "stream",
     "text": [
      "Analysis of Variance Table of type III  with  Kenward-Roger \n",
      "approximation for degrees of freedom\n",
      "       Sum Sq  Mean Sq NumDF DenDF F.value Pr(>F)  \n",
      "Plant 0.87644 0.087644    10    30  1.9149 0.0826 .\n",
      "---\n",
      "Signif. codes:  0 ‘***’ 0.001 ‘**’ 0.01 ‘*’ 0.05 ‘.’ 0.1 ‘ ’ 1\n",
      "Error in withVisible({ : could not find function \"glht\"\n"
     ]
    },
    {
     "name": "stderr",
     "output_type": "stream",
     "text": [
      "/home/bryan/anaconda3/lib/python3.6/site-packages/rpy2/rinterface/__init__.py:186: RRuntimeWarning: There were 16 warnings (use warnings() to see them)\n",
      "  warnings.warn(x, RRuntimeWarning)\n"
     ]
    }
   ],
   "source": [
    "%%R\n",
    "#Just Npos\n",
    "data = filter(Master, Type == \"Maize\" & Treatment == \"Npos\")\n",
    "m = lmer(M_Resid_logB ~ Plant  +\n",
    "          (1|Rep), \n",
    "          data = data, na.rm = TRUE)\n",
    "         #summary(m1) %>% print\n",
    "         anova(m, ddf=\"Kenward-Roger\", type=3) %>% print\n",
    "\n",
    "m1.lsm = lsmeans(m)\n",
    "m1.glht = glht(m, linfct = mcp(Plant = \"Tukey\"))\n",
    "#summary(m1.glht)\n",
    "m1.cld = cld(m1.glht, level = 0.05)\n",
    "old.par <- par(mai=c(1,1,1.5,1), no.readonly = TRUE)\n",
    "plot(m1.cld)"
   ]
  },
  {
   "cell_type": "markdown",
   "metadata": {},
   "source": [
    "## Maize- N uptake residuals"
   ]
  },
  {
   "cell_type": "code",
   "execution_count": 26,
   "metadata": {},
   "outputs": [
    {
     "data": {
      "text/plain": [
       "Analysis of Variance Table of type III  with  Kenward-Roger \n",
       "approximation for degrees of freedom\n",
       "                 Sum Sq Mean Sq NumDF DenDF F.value    Pr(>F)    \n",
       "Plant           0.87717 0.08772    10    30  1.3771    0.2379    \n",
       "Treatment       1.54284 1.54284     1    33 24.2215 2.324e-05 ***\n",
       "Plant:Treatment 0.41601 0.04160    10    33  0.6531    0.7579    \n",
       "---\n",
       "Signif. codes:  0 ‘***’ 0.001 ‘**’ 0.01 ‘*’ 0.05 ‘.’ 0.1 ‘ ’ 1\n"
      ]
     },
     "metadata": {},
     "output_type": "display_data"
    }
   ],
   "source": [
    "%%R\n",
    "#Full anova\n",
    "data = filter(Master, Type == \"Maize\")\n",
    "m = lmer(M_Resid_logN ~ Plant + Treatment + Plant:Treatment +\n",
    "          (1|Rep) + (1|Rep:Plant), \n",
    "          data = data, na.rm = TRUE)\n",
    "         #summary(m1) %>% print\n",
    "         anova(m, ddf=\"Kenward-Roger\", type=3) %>% print"
   ]
  },
  {
   "cell_type": "code",
   "execution_count": 27,
   "metadata": {},
   "outputs": [
    {
     "name": "stdout",
     "output_type": "stream",
     "text": [
      "Analysis of Variance Table of type III  with  Kenward-Roger \n",
      "approximation for degrees of freedom\n",
      "       Sum Sq  Mean Sq NumDF DenDF F.value Pr(>F)\n",
      "Plant 0.93352 0.093352    10    30 0.90773 0.5385\n",
      "Error in withVisible({ : could not find function \"glht\"\n"
     ]
    }
   ],
   "source": [
    "%%R\n",
    "#Just Nneg\n",
    "data = filter(Master, Type == \"Maize\" & Treatment == \"Nneg\")\n",
    "m = lmer(M_Resid_logN ~ Plant  +\n",
    "          (1|Rep), \n",
    "          data = data, na.rm = TRUE)\n",
    "         #summary(m1) %>% print\n",
    "         anova(m, ddf=\"Kenward-Roger\", type=3) %>% print\n",
    "\n",
    "m1.lsm = lsmeans(m)\n",
    "m1.glht = glht(m, linfct = mcp(Plant = \"Tukey\"))\n",
    "#summary(m1.glht)\n",
    "m1.cld = cld(m1.glht, level = 0.05)\n",
    "old.par <- par(mai=c(1,1,1.5,1), no.readonly = TRUE)\n",
    "plot(m1.cld)"
   ]
  },
  {
   "cell_type": "code",
   "execution_count": 28,
   "metadata": {
    "scrolled": true
   },
   "outputs": [
    {
     "name": "stdout",
     "output_type": "stream",
     "text": [
      "Analysis of Variance Table of type III  with  Kenward-Roger \n",
      "approximation for degrees of freedom\n",
      "       Sum Sq  Mean Sq NumDF DenDF F.value Pr(>F)\n",
      "Plant 0.94489 0.094489    10    30  1.5282 0.1779\n",
      "Error in withVisible({ : could not find function \"glht\"\n"
     ]
    }
   ],
   "source": [
    "%%R\n",
    "#Just Npos\n",
    "data = filter(Master, Type == \"Maize\" & Treatment == \"Npos\")\n",
    "m = lmer(M_Resid_logN ~ Plant  +\n",
    "          (1|Rep), \n",
    "          data = data, na.rm = TRUE)\n",
    "         #summary(m1) %>% print\n",
    "         anova(m, ddf=\"Kenward-Roger\", type=3) %>% print\n",
    "\n",
    "m1.lsm = lsmeans(m)\n",
    "m1.glht = glht(m, linfct = mcp(Plant = \"Tukey\"))\n",
    "#summary(m1.glht)\n",
    "m1.cld = cld(m1.glht, level = 0.05)\n",
    "old.par <- par(mai=c(1,1,1.5,1), no.readonly = TRUE)\n",
    "plot(m1.cld)"
   ]
  },
  {
   "cell_type": "markdown",
   "metadata": {},
   "source": [
    "## Maize - C:N residual"
   ]
  },
  {
   "cell_type": "code",
   "execution_count": 29,
   "metadata": {},
   "outputs": [
    {
     "name": "stdout",
     "output_type": "stream",
     "text": [
      "Analysis of Variance Table of type III  with  Kenward-Roger \n",
      "approximation for degrees of freedom\n",
      "                 Sum Sq Mean Sq NumDF DenDF F.value    Pr(>F)    \n",
      "Plant           1.39593 0.13959    10    30  10.669 2.040e-07 ***\n",
      "Treatment       0.65839 0.65839     1    33  50.321 4.019e-08 ***\n",
      "Plant:Treatment 0.23962 0.02396    10    33   1.831   0.09346 .  \n",
      "---\n",
      "Signif. codes:  0 ‘***’ 0.001 ‘**’ 0.01 ‘*’ 0.05 ‘.’ 0.1 ‘ ’ 1\n",
      "Error in withVisible({ : could not find function \"glht\"\n"
     ]
    },
    {
     "name": "stderr",
     "output_type": "stream",
     "text": [
      "/home/bryan/anaconda3/lib/python3.6/site-packages/rpy2/rinterface/__init__.py:186: RRuntimeWarning: There were 40 warnings (use warnings() to see them)\n",
      "  warnings.warn(x, RRuntimeWarning)\n"
     ]
    }
   ],
   "source": [
    "%%R\n",
    "#All plots\n",
    "data = filter(Master, Type == \"Maize\" )\n",
    "m = lmer(M_Resid_logCN ~ Plant + Treatment + Plant:Treatment +\n",
    "          (1|Rep) + (1|Rep:Plant),\n",
    "          data = data, na.rm = TRUE)\n",
    "         #summary(m1) %>% print\n",
    "         anova(m, ddf=\"Kenward-Roger\", type=3) %>% print\n",
    "\n",
    "m1.lsm = lsmeans(m)\n",
    "m1.glht = glht(m, linfct = mcp(Plant = \"Tukey\"))\n",
    "#summary(m1.glht)\n",
    "m1.cld = cld(m1.glht, level = 0.05)\n",
    "old.par <- par(mai=c(1,1,1.5,1), no.readonly = TRUE)\n",
    "plot(m1.cld)"
   ]
  },
  {
   "cell_type": "markdown",
   "metadata": {},
   "source": [
    "# Biomass, N uptake and C:N bargraph"
   ]
  },
  {
   "cell_type": "code",
   "execution_count": 61,
   "metadata": {
    "collapsed": true
   },
   "outputs": [],
   "source": [
    "%%R\n",
    "Plant = filter(Master, !is.na(BX_dif) & Plant != \"BARE\" & InorganicN < 45 | !is.na(BX_dif) & is.na(InorganicN) & Plant != \"BARE\")"
   ]
  },
  {
   "cell_type": "code",
   "execution_count": 68,
   "metadata": {},
   "outputs": [
    {
     "data": {
      "text/plain": [
       "'data.frame':\t174 obs. of  64 variables:\n",
       " $ Unique            : Factor w/ 240 levels \"sample1-1.06_Nneg\",..: 3 4 7 8 11 12 13 14 19 20 ...\n",
       " $ PlotID            : Factor w/ 184 levels \"1.03_Nneg\",\"1.03_Npos\",..: 41 42 81 82 105 106 175 176 9 10 ...\n",
       " $ Plant             : Factor w/ 23 levels \"75-062\",\"ABUTH\",..: 10 10 10 10 10 10 10 10 3 3 ...\n",
       " $ Plot              : num  1.27 1.27 2.23 2.23 3.08 3.08 4.24 4.24 1.08 1.08 ...\n",
       " $ Treatment         : Factor w/ 2 levels \"Nneg\",\"Npos\": 1 2 1 2 1 2 1 2 1 2 ...\n",
       " $ Rep               : Factor w/ 4 levels \"1\",\"2\",\"3\",\"4\": 1 1 2 2 3 3 4 4 1 1 ...\n",
       " $ DAP               : int  36 36 36 36 36 36 36 36 53 53 ...\n",
       " $ Sampling          : Factor w/ 8 levels \"sample1\",\"sample2\",..: 1 1 1 1 1 1 1 1 2 2 ...\n",
       " $ PlantSample       : Factor w/ 30 levels \"75-062_sample5\",..: 17 17 17 17 17 17 17 17 3 3 ...\n",
       " $ Type              : Factor w/ 6 levels \"BARE\",\"C4_Grass\",..: 4 4 4 4 4 4 4 4 4 4 ...\n",
       " $ Grass_Broad       : Factor w/ 3 levels \"Bare_Soil\",\"Dicot\",..: 2 2 2 2 2 2 2 2 2 2 ...\n",
       " $ Status            : Factor w/ 3 levels \"Bare_Soil\",\"Crop\",..: 2 2 2 2 2 2 2 2 3 3 ...\n",
       " $ Subfamily         : Factor w/ 2 levels \"Andropogoneae\",..: NA NA NA NA NA NA NA NA NA NA ...\n",
       " $ Symbol_class      : int  24 24 24 24 24 24 24 24 24 24 ...\n",
       " $ Plant_num         : int  4 3 4 5 4 3 4 4 4 3 ...\n",
       " $ Leaf_AreaBiomass_g: num  0.79 0.44 1.12 1.31 1.56 2.28 1.19 2.24 1.57 1.72 ...\n",
       " $ Biomass_T         : num  29.7 13.6 24 28 30.5 ...\n",
       " $ Biomass_P         : num  7.43 4.53 6 5.59 7.62 ...\n",
       " $ Leaf_Area_cm2     : num  174 125 246 258 301 ...\n",
       " $ SLA               : num  220 284 219 197 193 ...\n",
       " $ Leaf_N            : num  4.89 5.26 4.89 4.58 4.53 ...\n",
       " $ Leaf_C            : num  39.5 38.1 39.1 36.1 36.8 ...\n",
       " $ LeafC_N           : num  8.07 7.3 7.99 7.9 8.11 ...\n",
       " $ LNa               : num  0.000222 0.000185 0.000223 0.000232 0.000235 ...\n",
       " $ Plant_N           : num  4.68 5.05 4.44 4.53 4.34 ...\n",
       " $ Plant_C           : num  37.3 36.7 37.8 37.3 38.1 ...\n",
       " $ Plant_CN          : num  7.96 7.27 8.52 8.23 8.78 ...\n",
       " $ d15N              : num  NA NA NA NA NA NA NA NA 5.36 5.49 ...\n",
       " $ tN_p              : num  0.348 0.229 0.266 0.253 0.331 ...\n",
       " $ BX_act            : num  12.6 19.9 15 13.3 13.4 ...\n",
       " $ CB_act            : num  11.7 15.3 13.3 11.1 10.3 ...\n",
       " $ LAP_act           : num  34.4 67.4 41 35 40.8 ...\n",
       " $ NAG_act           : num  4.92 9.07 4.55 4.24 4.72 ...\n",
       " $ soil_dw           : num  2.21 2.25 2.27 2.05 2.29 ...\n",
       " $ BX_activity_g     : num  30.2 46.7 34.9 34.2 30.9 ...\n",
       " $ CB_activity_g     : num  28.2 36 31 28.6 23.9 ...\n",
       " $ LAP_activity_g    : num  141 272 164 155 162 ...\n",
       " $ NAG_activity_g    : num  12.2 21.9 10.9 11.3 11.2 ...\n",
       " $ BX_barefactor     : num  21.5 21.3 21.5 21.3 21.5 ...\n",
       " $ CB_barefactor     : num  20.5 18.3 20.5 18.3 20.5 ...\n",
       " $ LAP_barefactor    : num  115 134 115 134 115 ...\n",
       " $ NAG_barefactor    : num  12.6 12 12.6 12 12.6 ...\n",
       " $ BX_dif            : num  8.72 25.42 13.42 12.92 9.43 ...\n",
       " $ CB_dif            : num  7.64 17.65 10.47 10.24 3.38 ...\n",
       " $ LAP_dif           : num  26.1 137.8 48.4 21 46.7 ...\n",
       " $ NAG_dif           : num  -0.448 9.942 -1.687 -0.718 -1.379 ...\n",
       " $ BX_rel            : num  1.41 2.19 1.62 1.61 1.44 ...\n",
       " $ CB_rel            : num  1.37 1.96 1.51 1.56 1.16 ...\n",
       " $ LAP_rel           : num  1.23 2.03 1.42 1.16 1.41 ...\n",
       " $ NAG_rel           : num  0.964 1.83 0.866 0.94 0.891 ...\n",
       " $ NO3_ug_g          : num  7.81 28.31 4.43 5.57 6.56 ...\n",
       " $ NH4_ug_g          : num  4.46 6.71 3.96 3.94 3.77 ...\n",
       " $ InorganicN        : num  12.26 35.02 8.4 9.51 10.33 ...\n",
       " $ Resid_logB        : num  0.5338 0.0386 0.3201 0.2492 0.5587 ...\n",
       " $ Resid_logN        : num  0.753 0.334 0.485 0.436 0.703 ...\n",
       " $ Resid_logCN       : num  -0.302 -0.392 -0.234 -0.268 -0.204 ...\n",
       " $ Resid_logSLA      : num  0.1136 0.3681 0.1093 0.0012 -0.0185 ...\n",
       " $ Resid_LeafN       : num  -0.108 0.259 -0.111 -0.425 -0.466 ...\n",
       " $ A_Resid_logB      : num  0.3458 -0.1493 0.1321 0.0613 0.3707 ...\n",
       " $ A_Resid_logN      : num  0.4254 0.00572 0.15714 0.10788 0.37466 ...\n",
       " $ A_Resid_logCN     : num  -0.1628 -0.2536 -0.0949 -0.1292 -0.0651 ...\n",
       " $ M_Resid_logB      : num  0.664 0.169 0.45 0.379 0.689 ...\n",
       " $ M_Resid_logN      : num  0.953 0.533 0.684 0.635 0.902 ...\n",
       " $ M_Resid_logCN     : num  -0.449 -0.54 -0.381 -0.415 -0.351 ...\n"
      ]
     },
     "metadata": {},
     "output_type": "display_data"
    }
   ],
   "source": [
    "%%R\n",
    "str(Plant)"
   ]
  },
  {
   "cell_type": "code",
   "execution_count": 62,
   "metadata": {},
   "outputs": [],
   "source": [
    "%%R -w 900 -h 500\n",
    "\n",
    "Means = group_by(Plant, Plant, Treatment) %>% \n",
    "    summarize(Bm_mean = mean(Biomass_P),\n",
    "             Bm_se = (sd(Biomass_P, na.rm = TRUE)/sqrt(length(Biomass_P))),\n",
    "              Nmean = mean(tN_p, na.rm = TRUE),\n",
    "             Nse = (sd(tN_p, na.rm = TRUE)/sqrt(length(tN_p))),\n",
    "              CN_mean = mean(Plant_CN, na.rm = TRUE),\n",
    "             CN_se = (sd(Plant_CN, na.rm = TRUE)/sqrt(length(Plant_CN))),\n",
    "             DAP = mean(DAP),\n",
    "             Ni = mean(InorganicN, na.rm = TRUE),\n",
    "             Ni_se = (sd(InorganicN, na.rm = TRUE)/sqrt(length(InorganicN)))) %>%\n",
    "    as.data.frame() %>%\n",
    "    arrange(DAP) %>%\n",
    "    mutate(Plant = factor(Plant, Plant))\n",
    "\n",
    "Means$DAP = factor(Means$DAP)"
   ]
  },
  {
   "cell_type": "code",
   "execution_count": 63,
   "metadata": {},
   "outputs": [
    {
     "data": {
      "text/plain": [
       "   Plant Treatment   Bm_mean     Bm_se    Nmean       Nse  CN_mean     CN_se\n",
       "39   Ki3      Nneg 111.41667  6.924312 1.679992 0.1424368 29.40575 1.2585129\n",
       "40   Ki3      Npos 132.08833 12.606762 2.401108 0.2906896 24.45340 0.9885209\n",
       "41  Mo18      Nneg 133.05208  7.926650 1.734124 0.2421659 35.82823 3.4805105\n",
       "42  Mo18      Npos 148.98750 14.199836 2.355756 0.2832047 28.80453 1.0674182\n",
       "43 Tx303      Nneg  91.72917 11.026707 1.189093 0.1439992 34.47966 1.4509578\n",
       "44 Tx303      Npos 123.22042 13.594439 1.607331 0.1769932 34.13946 0.6086057\n",
       "   DAP  Ni Ni_se\n",
       "39  88 NaN   NaN\n",
       "40  88 NaN   NaN\n",
       "41  88 NaN   NaN\n",
       "42  88 NaN   NaN\n",
       "43  88 NaN   NaN\n",
       "44  88 NaN   NaN\n"
      ]
     },
     "metadata": {},
     "output_type": "display_data"
    }
   ],
   "source": [
    "%%R\n",
    "tail(arrange(Means, DAP))"
   ]
  },
  {
   "cell_type": "code",
   "execution_count": 64,
   "metadata": {
    "collapsed": true
   },
   "outputs": [],
   "source": [
    "%%R\n",
    "theme_pub = function (base_size = 11, base_family = \"Helvetica\") \n",
    "{\n",
    "    theme_grey(base_size = base_size, base_family = base_family) %+replace% \n",
    "        theme(\n",
    "            axis.line.x = element_line(size = .5),\n",
    "            axis.line.y = element_line(size = .5),\n",
    "            panel.background = element_rect(fill = \"white\", colour = NA), \n",
    "            panel.border = element_rect(fill = NA, color = \"black\", size = .5), \n",
    "            panel.grid.major = element_blank(), \n",
    "            panel.grid.minor = element_blank(), \n",
    "            strip.background = element_rect(fill = \"grey85\", \n",
    "                colour = \"grey20\"), \n",
    "            legend.key = element_rect(fill = \"white\", \n",
    "                colour = NA), complete = TRUE)\n",
    "}"
   ]
  },
  {
   "cell_type": "code",
   "execution_count": 66,
   "metadata": {
    "scrolled": true
   },
   "outputs": [
    {
     "data": {
      "image/png": "[encoded data removed]"
     },
     "metadata": {},
     "output_type": "display_data"
    }
   ],
   "source": [
    "%%R -w 650 -h 550\n",
    "require(cowplot)\n",
    "dodge <- position_dodge(width=0.9)\n",
    "Biolimits <- aes(ymax = Bm_mean + Bm_se, ymin=Bm_mean - Bm_se)\n",
    "p = ggplot(data=Means, aes(x=Plant, y=Bm_mean, fill=Treatment)) +\n",
    "    geom_bar(stat=\"identity\", position=dodge, colour = \"Black\") +\n",
    "    geom_errorbar(Biolimits, position=dodge, width=0.25) +\n",
    "    facet_grid(~DAP, scales = \"free_x\", space = \"free_x\") +\n",
    "    scale_fill_manual(values=c(\"grey\", \"black\")) +\n",
    "    labs(\n",
    "    x = \"Plant\",\n",
    "    y = \"Biomass per plant (g dw)\") +\n",
    "    theme_pub() +\n",
    "    theme(\n",
    "    axis.title.x = element_blank(),\n",
    "    axis.text.x = element_blank(),\n",
    "    legend.position = c(0.09, 0.70))\n",
    "\n",
    "\n",
    "Nlimits <- aes(ymax = Nmean + Nse, ymin=Nmean - Nse)\n",
    "p1 = ggplot(data=Means, aes(x=Plant, y=Nmean, fill=Treatment)) +\n",
    "    geom_bar(stat=\"identity\", position=dodge, colour = \"Black\") +\n",
    "    geom_errorbar(Nlimits, position=dodge, width=0.25) +\n",
    "    scale_fill_manual(values=c(\"grey\", \"black\")) +\n",
    "    facet_grid(~DAP, scales = \"free_x\", space = \"free_x\") +\n",
    "    labs(\n",
    "    x = \"Plant\",\n",
    "    y = \"N uptake per plant (g)\") +\n",
    "    theme_pub() +\n",
    "    theme(\n",
    "    strip.text = element_blank(),\n",
    "   # plot.title = element_text(lineheight=.8, face=\"bold\", size = 20),\n",
    "    axis.title.x = element_blank(),\n",
    "   # axis.title.y = element_text(size = 20, vjust = 1.5),\n",
    "       axis.text.x = element_blank(),\n",
    "   # axis.text.y = element_text(size = 18),\n",
    "    legend.position = \"none\",\n",
    "    #legend.key.size = unit(0.1, \"in\"),\n",
    "    plot.margin = unit(c(0, 0, 0, .55), \"cm\"))\n",
    "\n",
    "CNlimits <- aes(ymax = CN_mean + CN_se, ymin=CN_mean - CN_se)\n",
    "p2 = ggplot(data=Means, aes(x=Plant, y=CN_mean, fill = Treatment)) +\n",
    "    geom_errorbar(CNlimits, position=dodge, width=0.4) +    \n",
    "    geom_point(stat=\"identity\", position=dodge, pch = 21, size = 2) +\n",
    "    \n",
    "    scale_fill_manual(values=c(\"grey\", \"black\")) +\n",
    "    facet_grid(~DAP, scales = \"free_x\", space = \"free_x\") +\n",
    "    labs(\n",
    "    x = \"Plant\",\n",
    "    y = \"gC/gN\") +\n",
    "    theme_pub() +\n",
    "    theme(\n",
    "    #strip.text = element_blank(),\n",
    "   # axis.title = element_text(size = 20),\n",
    "    axis.title.x = element_blank(),\n",
    "    axis.text.x = element_text(angle = 60, hjust = 1, vjust = 1),\n",
    "    #axis.text.y = element_text(size = 18, hjust = 1),\n",
    "    legend.position = \"none\",\n",
    "   # legend.key.size = unit(0.6, \"in\"),\n",
    "    plot.margin = unit(c(0, 0, 0, .2), \"cm\"))\n",
    " \n",
    "# Ni_limits <- aes(ymax = Ni + Ni_se, ymin=Ni - Ni_se)\n",
    "# p3 = ggplot(data=Means, aes(x=Plant, y=Ni, fill = Treatment)) +\n",
    "#     geom_errorbar(Ni_limits, position=dodge, width=0.4) +    \n",
    "#     geom_point(stat=\"identity\", position=dodge, pch = 21, size = 2) +\n",
    "    \n",
    "#     scale_fill_manual(values=c(\"grey\", \"black\")) +\n",
    "#     facet_grid(~DAP, scales = \"free_x\", space = \"free_x\") +\n",
    "#     labs(\n",
    "#     x = \"Plant\",\n",
    "#     y = \"InorganicN (mg/kg)\") +\n",
    "#     theme_pub() +\n",
    "#     theme(\n",
    "#     #strip.text = element_blank(),\n",
    "#    # axis.title = element_text(size = 20),\n",
    "#     axis.title.x = element_blank(),\n",
    "#     axis.text.x = element_text(angle = 60, hjust = 1, vjust = 1),\n",
    "#     #axis.text.y = element_text(size = 18, hjust = 1),\n",
    "#     legend.position = \"none\",\n",
    "#    # legend.key.size = unit(0.6, \"in\"),\n",
    "#     plot.margin = unit(c(0, 0, 0, .2), \"cm\"))\n",
    " \n",
    "#grid.arrange(p, p1,p2, ncol = 1)\n",
    "plot_grid(p, p1, p2,  ncol = 1, align = 'v', labels = c(\"(A)\", \"(B)\", \"(C)\"))\n"
   ]
  },
  {
   "cell_type": "code",
   "execution_count": 67,
   "metadata": {
    "collapsed": true
   },
   "outputs": [],
   "source": [
    "%%R\n",
    "PlotOut = plot_grid(p, p1, p2, ncol = 1, align = 'v', labels = c(\"(A)\", \"(B)\", \"(C)\"))\n",
    "ggsave(PlotOut, filename = '/home/bryan/RhizCG/figures/ms_figures/Biomass_N_CN.svg', width = 6.5, height = 5.5, units = \"in\")"
   ]
  },
  {
   "cell_type": "markdown",
   "metadata": {},
   "source": [
    "# Check Maize modeled residuals vs annualls calculated residuals\n",
    "* determine if A_resids can be used for all plants"
   ]
  },
  {
   "cell_type": "code",
   "execution_count": 72,
   "metadata": {
    "scrolled": false
   },
   "outputs": [
    {
     "data": {
      "image/png": "[encoded data removed]"
     },
     "metadata": {},
     "output_type": "display_data"
    }
   ],
   "source": [
    "%%R\n",
    "data = filter(Master, Type == \"Maize\")\n",
    "\n",
    "p = ggplot(data)\n",
    "p = p + geom_point(aes(M_Resid_logB, A_Resid_logB, fill = Plant, colour = Plant), pch = 21 )\n",
    "p = p + stat_smooth(method = \"lm\", aes(y= A_Resid_logB, x=M_Resid_logB), se = FALSE)\n",
    "p = p + scale_fill_brewer(palette=\"Paired\")\n",
    "p = p + scale_colour_brewer(palette=\"Paired\")\n",
    "p = p + ggtitle(\"Comparison of biomass residuals\")\n",
    "p"
   ]
  },
  {
   "cell_type": "markdown",
   "metadata": {},
   "source": [
    "* Using annual model introduces systemic bias based on sampling date, best to use maize calculated residuals"
   ]
  }
 ],
 "metadata": {
  "hide_input": true,
  "kernelspec": {
   "display_name": "Python 3",
   "language": "python",
   "name": "python3"
  },
  "language_info": {
   "codemirror_mode": {
    "name": "ipython",
    "version": 3
   },
   "file_extension": ".py",
   "mimetype": "text/x-python",
   "name": "python",
   "nbconvert_exporter": "python",
   "pygments_lexer": "ipython3",
   "version": "3.6.1"
  }
 },
 "nbformat": 4,
 "nbformat_minor": 1
}
