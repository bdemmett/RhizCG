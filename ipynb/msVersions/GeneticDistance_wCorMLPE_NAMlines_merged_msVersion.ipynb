{
 "cells": [
  {
   "cell_type": "markdown",
   "metadata": {},
   "source": [
    "# Genetic Distance and Rhizosphere BCC of NAM lines "
   ]
  },
  {
   "cell_type": "markdown",
   "metadata": {
    "slideshow": {
     "slide_type": "skip"
    }
   },
   "source": [
    "Notes: Using NAM genetic distance matrix provided by Alberto Romero  "
   ]
  },
  {
   "cell_type": "markdown",
   "metadata": {},
   "source": [
    "# Init"
   ]
  },
  {
   "cell_type": "code",
   "execution_count": 1,
   "metadata": {},
   "outputs": [],
   "source": [
    "%load_ext rpy2.ipython"
   ]
  },
  {
   "cell_type": "code",
   "execution_count": 23,
   "metadata": {
    "hide_input": false
   },
   "outputs": [],
   "source": [
    "%%R\n",
    "\n",
    "\n",
    "library(tidyr)\n",
    "library(gridExtra)\n",
    "library(reshape2)\n",
    "library(phyloseq)\n",
    "library(doParallel)\n",
    "library(ggplot2)\n",
    "library(plyr)\n",
    "library(dplyr)\n"
   ]
  },
  {
   "cell_type": "code",
   "execution_count": 24,
   "metadata": {},
   "outputs": [],
   "source": [
    "%%R\n",
    "# Initialize corMLPE \n",
    "source('/home/bryan/corMLPE/corMLPE.R')"
   ]
  },
  {
   "cell_type": "markdown",
   "metadata": {
    "hide_input": true,
    "slideshow": {
     "slide_type": "skip"
    }
   },
   "source": [
    "## Set file locations"
   ]
  },
  {
   "cell_type": "code",
   "execution_count": 25,
   "metadata": {
    "collapsed": true
   },
   "outputs": [],
   "source": [
    "%%R\n",
    "workDir = '/home/bryan/RhizCG/PhyDist/'\n",
    "treeFile = '/home/bryan/RhizCG/PhyDist/20160209_phylogeny.tre'\n",
    "NAMFile = '/home/bryan/RhizCG/PhyDist/NAM_founders_distanceMatrix_v2.txt'"
   ]
  },
  {
   "cell_type": "markdown",
   "metadata": {
    "slideshow": {
     "slide_type": "skip"
    }
   },
   "source": [
    "### Read  tables table "
   ]
  },
  {
   "cell_type": "code",
   "execution_count": 26,
   "metadata": {},
   "outputs": [],
   "source": [
    "%%R \n",
    "\n",
    "NAMdist = read.table(NAMFile, header = TRUE)\n",
    "#reorder so that NAMdist is in same order as log2fold change matrix\n",
    "NAMdist = NAMdist[c(1:6, 8, 7, 9, 10), c(1:6, 8, 7, 9, 10)]"
   ]
  },
  {
   "cell_type": "code",
   "execution_count": 27,
   "metadata": {
    "scrolled": true
   },
   "outputs": [
    {
     "data": {
      "image/png": "[encoded data removed]"
     },
     "metadata": {},
     "output_type": "display_data"
    }
   ],
   "source": [
    "%%R\n",
    "NAM_hc = hclust(as.dist(NAMdist), \"average\")\n",
    "plot(NAM_hc)"
   ]
  },
  {
   "cell_type": "code",
   "execution_count": 28,
   "metadata": {
    "hide_input": true,
    "scrolled": true
   },
   "outputs": [
    {
     "data": {
      "text/plain": [
       "phyloseq-class experiment-level object\n",
       "otu_table()   OTU Table:         [ 4982 taxa and 10 samples ]\n",
       "sample_data() Sample Data:       [ 10 samples by 55 sample variables ]\n",
       "tax_table()   Taxonomy Table:    [ 4982 taxa by 8 taxonomic ranks ]\n",
       "phy_tree()    Phylogenetic Tree: [ 4982 tips and 4981 internal nodes ]\n"
      ]
     },
     "metadata": {},
     "output_type": "display_data"
    }
   ],
   "source": [
    "%%R\n",
    "#Read rarified phyloseq object\n",
    "F = file.path('/home/bryan/RhizCG/data/MiSeq_amplicon/MergedRuns/physeq/Full-Sparsity3in3_r')\n",
    "physeq.Full = readRDS(F)\n",
    "\n",
    "physeq.NAM = subset_samples(physeq.Full, Treatment == \"Nneg\" & Type == \"Maize\" & Plant != \"75-062\")\n",
    "\n",
    "m.phy = merge_samples(physeq.NAM, \"Plant\") %>%\n",
    "\n",
    "    transform_sample_counts(function(x) x/sum(x))\n",
    "\n",
    "m.phy"
   ]
  },
  {
   "cell_type": "markdown",
   "metadata": {},
   "source": [
    "## Calculate w-Unifrac distances"
   ]
  },
  {
   "cell_type": "code",
   "execution_count": 45,
   "metadata": {},
   "outputs": [],
   "source": [
    "%%R\n",
    "registerDoParallel(cores=28)\n",
    "phy.wunif.dist = distance(m.phy, \n",
    "                      method = \"unifrac\", \n",
    "                      weighted = TRUE,\n",
    "                      fast = TRUE, \n",
    "                      parallel = TRUE, \n",
    "                      normalized = FALSE)\n"
   ]
  },
  {
   "cell_type": "markdown",
   "metadata": {
    "slideshow": {
     "slide_type": "skip"
    }
   },
   "source": [
    "# Data wrangling "
   ]
  },
  {
   "cell_type": "markdown",
   "metadata": {},
   "source": [
    "## Create melted dataframes for plot by plot comparisons"
   ]
  },
  {
   "cell_type": "code",
   "execution_count": 46,
   "metadata": {},
   "outputs": [
    {
     "data": {
      "text/plain": [
       "  PlantA PlantB gene_Dist PlantComp\n",
       "1    B73    B73 0.0000000   B73-B73\n",
       "2    B97    B73 0.1285456   B97-B73\n",
       "3    H99    B73 0.1306701   H99-B73\n",
       "4  Hp301    B73 0.1357241 Hp301-B73\n",
       "5  Il14H    B73 0.1412994 Il14H-B73\n",
       "6    Ki3    B73 0.1413460   Ki3-B73\n"
      ]
     },
     "metadata": {},
     "output_type": "display_data"
    }
   ],
   "source": [
    "%%R\n",
    "gd.m = melt(as.matrix(NAMdist))\n",
    "\n",
    "#set column names and create comparison column\n",
    "colnames(gd.m) = c(\"PlantA\", \"PlantB\", \"gene_Dist\")\n",
    "gd.m$PlantComp = paste(gd.m$PlantA, gd.m$PlantB, sep = \"-\")\n",
    "gd.m %>% head\n"
   ]
  },
  {
   "cell_type": "code",
   "execution_count": 47,
   "metadata": {
    "hide_input": false
   },
   "outputs": [
    {
     "data": {
      "text/plain": [
       "   PlantA PlantB w_Unif_Dist\n",
       "11    B73    B97  0.10945047\n",
       "21    B73    H99  0.17109505\n",
       "22    B97    H99  0.14177989\n",
       "31    B73  Hp301  0.13138000\n",
       "32    B97  Hp301  0.09621417\n",
       "33    H99  Hp301  0.13228516\n",
       "[1] 45  3\n"
      ]
     },
     "metadata": {},
     "output_type": "display_data"
    }
   ],
   "source": [
    "%%R\n",
    "ud = as.matrix(phy.wunif.dist) \n",
    "# remove lower triangle to remove duplicate values\n",
    "ud[ lower.tri( ud, diag = TRUE ) ]  <- NA\n",
    "head(ud)\n",
    "ud.m = melt(ud, na.rm= TRUE)\n",
    "colnames(ud.m) = c(\"PlantA\", \"PlantB\", \"w_Unif_Dist\")\n",
    "head(ud.m) %>% print\n",
    "dim(ud.m) %>% print"
   ]
  },
  {
   "cell_type": "markdown",
   "metadata": {},
   "source": [
    "## Create functional distance variables"
   ]
  },
  {
   "cell_type": "code",
   "execution_count": 48,
   "metadata": {},
   "outputs": [
    {
     "data": {
      "text/plain": [
       "   Plant SeedSize_mg\n",
       "1  ERATE      0.0035\n",
       "2  HELAN          90\n",
       "3    B73         333\n",
       "4  FAGES          38\n",
       "5  AMAPO        0.49\n",
       "6 SORSUD        10.7\n",
       "    Plant SeedSize_mg\n",
       "1   ERATE      0.0035\n",
       "2   HELAN     90.0000\n",
       "3     B73    333.0000\n",
       "4   FAGES     38.0000\n",
       "5   AMAPO      0.4900\n",
       "6  SORSUD     10.7000\n",
       "7   SORBI     32.3900\n",
       "8   ELCOR      3.2000\n",
       "9   ECHCG      1.5800\n",
       "10  ABUTH      9.6000\n",
       "11  SETFA      1.8000\n",
       "12  GLYMA    174.0000\n",
       "13   MS71    264.0000\n",
       "14   Mo18    224.0000\n",
       "15  Il14H    219.0000\n",
       "16  Tx303    279.0000\n",
       "17   Oh7B    207.0000\n",
       "18    B97    240.0000\n",
       "19  Hp301     87.0000\n",
       "20 75-062    222.0000\n",
       "21    Ki3    228.0000\n",
       "22    H99    231.0000\n"
      ]
     },
     "metadata": {},
     "output_type": "display_data"
    }
   ],
   "source": [
    "%%R\n",
    "#add growing degree days\n",
    "DAP = c(36, 53, 57, 61, 72, 79, 84, 88)\n",
    "\n",
    "Plant = c(\"ERATE\", \"HELAN\", \"B73\", \"FAGES\", \"AMAPO\", \"SORSUD\", \"SORBI\", \n",
    "          \"ELCOR\", \"ECHCG\", \"ABUTH\", \"SETFA\", \"GLYMA\", \"MS71\", \"Mo18\", \"Il14H\", \"Tx303\", \"Oh7B\",\n",
    "         \"B97\", \"Hp301\", \"75-062\", \"Ki3\", \"H99\")\n",
    "SeedSize_mg = c(.0035, 90, 333, 38, .49, 10.7, 32.39,\n",
    "               3.2, 1.58, 9.6, 1.8, 174, 264, 224, 219, 279, 207,\n",
    "               240, 87, 222, 228, 231)\n",
    "SS = cbind(Plant, SeedSize_mg) %>% as.data.frame\n",
    "head(SS) %>% print\n",
    "SS$SeedSize_mg = SS$SeedSize_mg %>% as.character %>% as.numeric\n",
    "(SS)"
   ]
  },
  {
   "cell_type": "markdown",
   "metadata": {},
   "source": [
    "## Join distance tables"
   ]
  },
  {
   "cell_type": "code",
   "execution_count": 49,
   "metadata": {},
   "outputs": [
    {
     "data": {
      "text/plain": [
       "   PlantA PlantB w_Unif_Dist\n",
       "11    B73    B97  0.10945047\n",
       "21    B73    H99  0.17109505\n",
       "22    B97    H99  0.14177989\n",
       "31    B73  Hp301  0.13138000\n",
       "32    B97  Hp301  0.09621417\n",
       "33    H99  Hp301  0.13228516\n"
      ]
     },
     "metadata": {},
     "output_type": "display_data"
    }
   ],
   "source": [
    "%%R\n",
    "ud.m %>% head"
   ]
  },
  {
   "cell_type": "markdown",
   "metadata": {},
   "source": [
    "## Join with plant phylogenetic distance and functional distance"
   ]
  },
  {
   "cell_type": "code",
   "execution_count": 50,
   "metadata": {},
   "outputs": [
    {
     "data": {
      "text/plain": [
       "  PlantA PlantB gene_Dist PlantComp\n",
       "1    B73    B73 0.0000000   B73-B73\n",
       "2    B97    B73 0.1285456   B97-B73\n",
       "3    H99    B73 0.1306701   H99-B73\n",
       "4  Hp301    B73 0.1357241 Hp301-B73\n",
       "5  Il14H    B73 0.1412994 Il14H-B73\n",
       "6    Ki3    B73 0.1413460   Ki3-B73\n",
       "   PlantA PlantB w_Unif_Dist\n",
       "11    B73    B97  0.10945047\n",
       "21    B73    H99  0.17109505\n",
       "22    B97    H99  0.14177989\n",
       "31    B73  Hp301  0.13138000\n",
       "32    B97  Hp301  0.09621417\n",
       "33    H99  Hp301  0.13228516\n",
       "[1] 45  3\n"
      ]
     },
     "metadata": {},
     "output_type": "display_data"
    }
   ],
   "source": [
    "%%R\n",
    "gd.m %>% head %>% print\n",
    "ud.m %>% head %>% print\n",
    "ud.m %>% dim %>% print\n"
   ]
  },
  {
   "cell_type": "code",
   "execution_count": 51,
   "metadata": {
    "collapsed": true
   },
   "outputs": [],
   "source": [
    "%%R\n",
    "#collect sample dates\n",
    "sd.m = physeq.NAM %>% sample_data %>% as(\"data.frame\") %>%\n",
    "    group_by(Plant) %>%\n",
    "    summarize(Day = first(DAP)) %>%\n",
    "    as.data.frame()\n",
    "rownames(sd.m) = as.character(sd.m$Plant)"
   ]
  },
  {
   "cell_type": "code",
   "execution_count": 52,
   "metadata": {},
   "outputs": [
    {
     "data": {
      "text/plain": [
       "   PlantA PlantB w_Unif_Dist   PlantComp gene_Dist\n",
       "40  Hp301  Tx303   0.1051067 Hp301-Tx303 0.1423267\n",
       "41  Il14H  Tx303   0.1772651 Il14H-Tx303 0.1511486\n",
       "42    Ki3  Tx303   0.1081990   Ki3-Tx303 0.1375954\n",
       "43   Mo18  Tx303   0.1619509  Mo18-Tx303 0.1355506\n",
       "44   MS71  Tx303   0.1264014  MS71-Tx303 0.1398299\n",
       "45   Oh7B  Tx303   0.1300086  Oh7B-Tx303 0.1376617\n",
       "  PlantA PlantB w_Unif_Dist PlantComp gene_Dist DayA DayB\n",
       "1    B73    B97  0.10945047   B73-B97 0.1285456   79   79\n",
       "2    B73    H99  0.17109505   B73-H99 0.1306701   79   72\n",
       "3    B97    H99  0.14177989   B97-H99 0.1323307   79   72\n",
       "4    B73  Hp301  0.13138000 B73-Hp301 0.1357241   79   79\n",
       "5    B97  Hp301  0.09621417 B97-Hp301 0.1407961   79   79\n",
       "6    H99  Hp301  0.13228516 H99-Hp301 0.1396393   72   79\n"
      ]
     },
     "metadata": {},
     "output_type": "display_data"
    }
   ],
   "source": [
    "%%R\n",
    "ud.m$PlantComp = paste(ud.m$PlantA, \"-\", ud.m$PlantB, sep = \"\")\n",
    "\n",
    "Dist = left_join(ud.m, gd.m[,c(3,4)], by = \"PlantComp\")\n",
    "tail(Dist) %>% print\n",
    "\n",
    "Dist = left_join(Dist, sd.m, by = c(\"PlantA\"=\"Plant\"))\n",
    "colnames(Dist)[6] = \"DayA\"\n",
    "\n",
    "Dist = left_join(Dist, sd.m, by = c(\"PlantB\"=\"Plant\"))\n",
    "colnames(Dist)[7] = \"DayB\"\n",
    "\n",
    "head(Dist)"
   ]
  },
  {
   "cell_type": "code",
   "execution_count": 53,
   "metadata": {},
   "outputs": [
    {
     "data": {
      "text/plain": [
       "[1] \"79-79\" \"72-79\" \"72-72\" \"79-88\" \"72-88\" \"88-88\"\n"
      ]
     },
     "metadata": {},
     "output_type": "display_data"
    }
   ],
   "source": [
    "%%R\n",
    "Dist$DateCombo = ifelse(as.numeric(as.character(Dist$DayA)) < as.numeric(as.character(Dist$DayB)),\n",
    "                                                                    paste(Dist$DayA, Dist$DayB, sep = \"-\"), \n",
    "                                                                   paste(Dist$DayB, Dist$DayA, sep = \"-\"))\n",
    "Dist$DateCombo %>% unique"
   ]
  },
  {
   "cell_type": "markdown",
   "metadata": {},
   "source": [
    "# Build corMLPE models"
   ]
  },
  {
   "cell_type": "markdown",
   "metadata": {},
   "source": [
    "## corMLPE model with all points"
   ]
  },
  {
   "cell_type": "code",
   "execution_count": 87,
   "metadata": {
    "collapsed": true
   },
   "outputs": [],
   "source": [
    "%%R\n",
    "fitNull = gls(w_Unif_Dist ~ 1, correlation = corMLPE(form= ~ PlantA + PlantB), data = Dist, method = \"ML\")"
   ]
  },
  {
   "cell_type": "code",
   "execution_count": 55,
   "metadata": {},
   "outputs": [],
   "source": [
    "%%R\n",
    "fit1 = gls(w_Unif_Dist ~ DateCombo, correlation = corMLPE(form= ~ PlantA + PlantB), \n",
    "              data = Dist, method = \"ML\")"
   ]
  },
  {
   "cell_type": "code",
   "execution_count": 56,
   "metadata": {},
   "outputs": [],
   "source": [
    "%%R\n",
    "fit2 = gls(w_Unif_Dist ~ DateCombo + gene_Dist, correlation = corMLPE(form= ~ PlantA + PlantB), data = Dist, method = \"ML\")"
   ]
  },
  {
   "cell_type": "code",
   "execution_count": 86,
   "metadata": {
    "collapsed": true
   },
   "outputs": [],
   "source": [
    "%%R\n",
    "fit3 = gls(w_Unif_Dist ~ gene_Dist, correlation = corMLPE(form= ~ PlantA + PlantB), data = Dist, method = \"ML\")"
   ]
  },
  {
   "cell_type": "code",
   "execution_count": 91,
   "metadata": {},
   "outputs": [
    {
     "data": {
      "text/plain": [
       "Generalized least squares fit by maximum likelihood\n",
       "  Model: w_Unif_Dist ~ gene_Dist \n",
       "  Data: Dist \n",
       "        AIC       BIC   logLik\n",
       "  -184.2446 -177.0179 96.12228\n",
       "\n",
       "Correlation Structure: corMLPE\n",
       " Formula: ~PlantA + PlantB \n",
       " Parameter estimate(s):\n",
       "      Rho \n",
       "0.4128511 \n",
       "\n",
       "Coefficients:\n",
       "                 Value Std.Error   t-value p-value\n",
       "(Intercept) 0.13622855 0.1049485 1.2980509  0.2012\n",
       "gene_Dist   0.06311244 0.7378499 0.0855356  0.9322\n",
       "\n",
       " Correlation: \n",
       "          (Intr)\n",
       "gene_Dist -0.981\n",
       "\n",
       "Standardized residuals:\n",
       "       Min         Q1        Med         Q3        Max \n",
       "-1.2137431 -0.6414254 -0.3063329  0.3527570  2.6352106 \n",
       "\n",
       "Residual standard error: 0.04866634 \n",
       "Degrees of freedom: 45 total; 43 residual\n"
      ]
     },
     "metadata": {},
     "output_type": "display_data"
    }
   ],
   "source": [
    "%%R\n",
    "summary(fit3)"
   ]
  },
  {
   "cell_type": "code",
   "execution_count": 57,
   "metadata": {
    "scrolled": true
   },
   "outputs": [
    {
     "data": {
      "text/plain": [
       "Denom. DF: 38 \n",
       "            numDF   F-value p-value\n",
       "(Intercept)     1 104.03401  <.0001\n",
       "DateCombo       5   2.08128  0.0891\n",
       "gene_Dist       1   1.68501  0.2021\n"
      ]
     },
     "metadata": {},
     "output_type": "display_data"
    }
   ],
   "source": [
    "%%R\n",
    "anova(fit2)"
   ]
  },
  {
   "cell_type": "code",
   "execution_count": 83,
   "metadata": {},
   "outputs": [
    {
     "data": {
      "text/plain": [
       "[1] \"PhyDist^2, controlling for date R2: 0.0329518500113785\"\n"
      ]
     },
     "metadata": {},
     "output_type": "display_data"
    }
   ],
   "source": [
    "%%R\n",
    "fit2R = MuMIn::r.squaredLR(fit2, null = fit1)\n",
    "paste(\"PhyDist^2, controlling for date R2:\", fit2R) %>% print"
   ]
  },
  {
   "cell_type": "code",
   "execution_count": 90,
   "metadata": {},
   "outputs": [
    {
     "data": {
      "text/plain": [
       "        Model df       AIC       BIC   logLik   Test     L.Ratio p-value\n",
       "fitNull     1  3 -186.2375 -180.8175 96.11874                           \n",
       "fit3        2  4 -184.2446 -177.0179 96.12228 1 vs 2 0.007076264   0.933\n"
      ]
     },
     "metadata": {},
     "output_type": "display_data"
    }
   ],
   "source": [
    "%%R\n",
    "anova(fitNull,fit3)"
   ]
  },
  {
   "cell_type": "code",
   "execution_count": 88,
   "metadata": {},
   "outputs": [
    {
     "data": {
      "text/plain": [
       "[1] \"PhyDist^2, not controlling for date R2: 0.000157237954897638\"\n"
      ]
     },
     "metadata": {},
     "output_type": "display_data"
    }
   ],
   "source": [
    "%%R\n",
    "fit3R = MuMIn::r.squaredLR(fit3, null = fitNull)\n",
    "paste(\"PhyDist^2, not controlling for date R2:\", fit3R) %>% print"
   ]
  },
  {
   "cell_type": "code",
   "execution_count": 89,
   "metadata": {},
   "outputs": [
    {
     "data": {
      "text/plain": [
       "        Model df       AIC       BIC    logLik   Test  L.Ratio p-value\n",
       "fitNull     1  3 -186.2375 -180.8175  96.11874                        \n",
       "fit1        2  8 -184.4186 -169.9653 100.20930 1 vs 2 8.181116  0.1465\n",
       "fit2        3  9 -183.9264 -167.6665 100.96321 2 vs 3 1.507815  0.2195\n",
       "fit3        4  4 -184.2446 -177.0179  96.12228 3 vs 4 9.681854  0.0848\n"
      ]
     },
     "metadata": {},
     "output_type": "display_data"
    }
   ],
   "source": [
    "%%R\n",
    "anova(fitNull, fit1, fit2)"
   ]
  },
  {
   "cell_type": "code",
   "execution_count": 61,
   "metadata": {
    "collapsed": true
   },
   "outputs": [],
   "source": [
    "%%R\n",
    "theme_pub = function (base_size = 11, base_family = \"Helvetica\") \n",
    "{\n",
    "    theme_grey(base_size = base_size, base_family = base_family) %+replace% \n",
    "        theme(\n",
    "            axis.line.x = element_line(size = .5),\n",
    "            axis.line.y = element_line(size = .5),\n",
    "            panel.background = element_rect(fill = \"white\", colour = NA), \n",
    "            panel.border = element_rect(fill = NA, color = \"black\", size = .5), \n",
    "            panel.grid.major = element_blank(), \n",
    "            panel.grid.minor = element_blank(), \n",
    "            strip.background = element_rect(fill = \"grey85\", \n",
    "                colour = \"grey20\"), \n",
    "            legend.key = element_rect(fill = \"white\", \n",
    "                colour = NA), complete = TRUE)\n",
    "    }"
   ]
  },
  {
   "cell_type": "code",
   "execution_count": 80,
   "metadata": {
    "hide_input": true,
    "scrolled": true
   },
   "outputs": [
    {
     "data": {
      "image/png": "[encoded data removed]"
     },
     "metadata": {},
     "output_type": "display_data"
    }
   ],
   "source": [
    "%%R -w 600 -h 400\n",
    "#test <- function(x) {.18*x + 0.18}\n",
    "\n",
    "\n",
    "                \n",
    "p = ggplot(Dist, aes(y = w_Unif_Dist, x = gene_Dist)) \n",
    "p = p + geom_point(pch = 21)  #aes(size = phy_Dist), shape = 1)\n",
    "#p = p + stat_smooth(method = \"lm\", formula = y~.29x -.236x^2 + .204, se = FALSE)\n",
    "p = p + theme_pub()\n",
    "p = p + ylim(c(.095,.55))\n",
    "#p = p + xlim(c(0,.16))\n",
    "#p = p + ggtitle(\"Maize genetic distance vs \\n microbial community dissimilarity \")\n",
    "p = p + stat_smooth(method = lm, se = FALSE, color = \"black\")\n",
    "#p = p + stat_function(fun = test, xlim = c(.12, .16))\n",
    "p = p + ylab(\"Weighted-UniFrac distance\")\n",
    "p = p + xlab(\"Maize genetic Distance\") \n",
    "#p = p + facet_wrap(~DateCombo)\n",
    "p"
   ]
  },
  {
   "cell_type": "code",
   "execution_count": 82,
   "metadata": {},
   "outputs": [
    {
     "data": {
      "text/plain": [
       "png \n",
       "  2 \n"
      ]
     },
     "metadata": {},
     "output_type": "display_data"
    }
   ],
   "source": [
    "%%R\n",
    "svg(filename = '/home/bryan/RhizCG/figures/MaizeGenetic_dist.svg', width = 3.14, height = 2.5)\n",
    "p %>% print\n",
    "dev.off()"
   ]
  }
 ],
 "metadata": {
  "anaconda-cloud": {},
  "hide_input": true,
  "kernelspec": {
   "display_name": "Python 3",
   "language": "python",
   "name": "python3"
  },
  "language_info": {
   "codemirror_mode": {
    "name": "ipython",
    "version": 3
   },
   "file_extension": ".py",
   "mimetype": "text/x-python",
   "name": "python",
   "nbconvert_exporter": "python",
   "pygments_lexer": "ipython3",
   "version": "3.6.1"
  }
 },
 "nbformat": 4,
 "nbformat_minor": 1
}
