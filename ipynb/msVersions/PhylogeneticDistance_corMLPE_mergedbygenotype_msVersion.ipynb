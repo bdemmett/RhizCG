{
 "cells": [
  {
   "cell_type": "markdown",
   "metadata": {},
   "source": [
    "# Phylogenetic Distance Calculation from RhizCG 2013"
   ]
  },
  {
   "cell_type": "markdown",
   "metadata": {
    "slideshow": {
     "slide_type": "skip"
    }
   },
   "source": [
    "Test hypotheses on phylogenetic vs functional control of microbial community\n",
    "Use phylogeny created from rbcL and matK in phylogenerator 20160209_phylogeny.tre. \n",
    "Test hypothesis on overall dataset, then subgroups"
   ]
  },
  {
   "cell_type": "code",
   "execution_count": 1,
   "metadata": {},
   "outputs": [],
   "source": [
    "%load_ext rpy2.ipython"
   ]
  },
  {
   "cell_type": "code",
   "execution_count": 2,
   "metadata": {
    "hide_input": false
   },
   "outputs": [
    {
     "name": "stderr",
     "output_type": "stream",
     "text": [
      "/opt/anaconda2/lib/python2.7/site-packages/rpy2/rinterface/__init__.py:186: RRuntimeWarning: foreach: simple, scalable parallel programming from Revolution Analytics\n",
      "Use Revolution R for scalability, fault tolerance and more.\n",
      "http://www.revolutionanalytics.com\n",
      "\n",
      "  warnings.warn(x, RRuntimeWarning)\n",
      "/opt/anaconda2/lib/python2.7/site-packages/rpy2/rinterface/__init__.py:186: RRuntimeWarning: Loading required package: lattice\n",
      "\n",
      "  warnings.warn(x, RRuntimeWarning)\n",
      "/opt/anaconda2/lib/python2.7/site-packages/rpy2/rinterface/__init__.py:186: RRuntimeWarning: Loading required package: survival\n",
      "\n",
      "  warnings.warn(x, RRuntimeWarning)\n",
      "/opt/anaconda2/lib/python2.7/site-packages/rpy2/rinterface/__init__.py:186: RRuntimeWarning: Loading required package: Formula\n",
      "\n",
      "  warnings.warn(x, RRuntimeWarning)\n",
      "/opt/anaconda2/lib/python2.7/site-packages/rpy2/rinterface/__init__.py:186: RRuntimeWarning: Loading required package: ggplot2\n",
      "\n",
      "  warnings.warn(x, RRuntimeWarning)\n",
      "/opt/anaconda2/lib/python2.7/site-packages/rpy2/rinterface/__init__.py:186: RRuntimeWarning: \n",
      "Attaching package: ‘Hmisc’\n",
      "\n",
      "\n",
      "  warnings.warn(x, RRuntimeWarning)\n",
      "/opt/anaconda2/lib/python2.7/site-packages/rpy2/rinterface/__init__.py:186: RRuntimeWarning: The following objects are masked from ‘package:base’:\n",
      "\n",
      "    format.pval, round.POSIXt, trunc.POSIXt, units\n",
      "\n",
      "\n",
      "  warnings.warn(x, RRuntimeWarning)\n",
      "/opt/anaconda2/lib/python2.7/site-packages/rpy2/rinterface/__init__.py:186: RRuntimeWarning: \n",
      "Attaching package: ‘plyr’\n",
      "\n",
      "\n",
      "  warnings.warn(x, RRuntimeWarning)\n",
      "/opt/anaconda2/lib/python2.7/site-packages/rpy2/rinterface/__init__.py:186: RRuntimeWarning: The following objects are masked from ‘package:Hmisc’:\n",
      "\n",
      "    is.discrete, summarize\n",
      "\n",
      "\n",
      "  warnings.warn(x, RRuntimeWarning)\n",
      "/opt/anaconda2/lib/python2.7/site-packages/rpy2/rinterface/__init__.py:186: RRuntimeWarning: \n",
      "Attaching package: ‘dplyr’\n",
      "\n",
      "\n",
      "  warnings.warn(x, RRuntimeWarning)\n",
      "/opt/anaconda2/lib/python2.7/site-packages/rpy2/rinterface/__init__.py:186: RRuntimeWarning: The following objects are masked from ‘package:plyr’:\n",
      "\n",
      "    arrange, count, desc, failwith, id, mutate, rename, summarise,\n",
      "    summarize\n",
      "\n",
      "\n",
      "  warnings.warn(x, RRuntimeWarning)\n",
      "/opt/anaconda2/lib/python2.7/site-packages/rpy2/rinterface/__init__.py:186: RRuntimeWarning: The following object is masked from ‘package:nlme’:\n",
      "\n",
      "    collapse\n",
      "\n",
      "\n",
      "  warnings.warn(x, RRuntimeWarning)\n",
      "/opt/anaconda2/lib/python2.7/site-packages/rpy2/rinterface/__init__.py:186: RRuntimeWarning: The following objects are masked from ‘package:Hmisc’:\n",
      "\n",
      "    combine, src, summarize\n",
      "\n",
      "\n",
      "  warnings.warn(x, RRuntimeWarning)\n",
      "/opt/anaconda2/lib/python2.7/site-packages/rpy2/rinterface/__init__.py:186: RRuntimeWarning: The following objects are masked from ‘package:stats’:\n",
      "\n",
      "    filter, lag\n",
      "\n",
      "\n",
      "  warnings.warn(x, RRuntimeWarning)\n",
      "/opt/anaconda2/lib/python2.7/site-packages/rpy2/rinterface/__init__.py:186: RRuntimeWarning: The following objects are masked from ‘package:base’:\n",
      "\n",
      "    intersect, setdiff, setequal, union\n",
      "\n",
      "\n",
      "  warnings.warn(x, RRuntimeWarning)\n",
      "/opt/anaconda2/lib/python2.7/site-packages/rpy2/rinterface/__init__.py:186: RRuntimeWarning: \n",
      "Attaching package: ‘gridExtra’\n",
      "\n",
      "\n",
      "  warnings.warn(x, RRuntimeWarning)\n",
      "/opt/anaconda2/lib/python2.7/site-packages/rpy2/rinterface/__init__.py:186: RRuntimeWarning: The following object is masked from ‘package:dplyr’:\n",
      "\n",
      "    combine\n",
      "\n",
      "\n",
      "  warnings.warn(x, RRuntimeWarning)\n",
      "/opt/anaconda2/lib/python2.7/site-packages/rpy2/rinterface/__init__.py:186: RRuntimeWarning: The following object is masked from ‘package:Hmisc’:\n",
      "\n",
      "    combine\n",
      "\n",
      "\n",
      "  warnings.warn(x, RRuntimeWarning)\n",
      "/opt/anaconda2/lib/python2.7/site-packages/rpy2/rinterface/__init__.py:186: RRuntimeWarning: \n",
      "Attaching package: ‘reshape2’\n",
      "\n",
      "\n",
      "  warnings.warn(x, RRuntimeWarning)\n",
      "/opt/anaconda2/lib/python2.7/site-packages/rpy2/rinterface/__init__.py:186: RRuntimeWarning: The following object is masked from ‘package:tidyr’:\n",
      "\n",
      "    smiths\n",
      "\n",
      "\n",
      "  warnings.warn(x, RRuntimeWarning)\n",
      "/opt/anaconda2/lib/python2.7/site-packages/rpy2/rinterface/__init__.py:186: RRuntimeWarning: \n",
      "Attaching package: ‘ape’\n",
      "\n",
      "\n",
      "  warnings.warn(x, RRuntimeWarning)\n",
      "/opt/anaconda2/lib/python2.7/site-packages/rpy2/rinterface/__init__.py:186: RRuntimeWarning: The following object is masked from ‘package:Hmisc’:\n",
      "\n",
      "    zoom\n",
      "\n",
      "\n",
      "  warnings.warn(x, RRuntimeWarning)\n",
      "/opt/anaconda2/lib/python2.7/site-packages/rpy2/rinterface/__init__.py:186: RRuntimeWarning: Loading required package: iterators\n",
      "\n",
      "  warnings.warn(x, RRuntimeWarning)\n",
      "/opt/anaconda2/lib/python2.7/site-packages/rpy2/rinterface/__init__.py:186: RRuntimeWarning: Loading required package: parallel\n",
      "\n",
      "  warnings.warn(x, RRuntimeWarning)\n"
     ]
    }
   ],
   "source": [
    "%%R\n",
    "library(foreach)\n",
    "#library(lsmeans)\n",
    "library(Hmisc)\n",
    "#library(lme4)\n",
    "#library(lmerTest)\n",
    "library(nlme)\n",
    "library(ggplot2)\n",
    "library(plyr)\n",
    "library(dplyr)\n",
    "library(tidyr)\n",
    "#library(pbkrtest)\n",
    "library(gridExtra)\n",
    "library(reshape2)\n",
    "#library(picante)\n",
    "library(ape)\n",
    "library(doParallel)\n",
    "library(MuMIn)\n",
    "library(phyloseq)\n",
    "\n"
   ]
  },
  {
   "cell_type": "code",
   "execution_count": 3,
   "metadata": {},
   "outputs": [
    {
     "name": "stderr",
     "output_type": "stream",
     "text": [
      "/opt/anaconda2/lib/python2.7/site-packages/rpy2/rinterface/__init__.py:186: RRuntimeWarning: \n",
      "Attaching package: ‘Matrix’\n",
      "\n",
      "\n",
      "  warnings.warn(x, RRuntimeWarning)\n",
      "/opt/anaconda2/lib/python2.7/site-packages/rpy2/rinterface/__init__.py:186: RRuntimeWarning: The following object is masked from ‘package:tidyr’:\n",
      "\n",
      "    expand\n",
      "\n",
      "\n",
      "  warnings.warn(x, RRuntimeWarning)\n"
     ]
    }
   ],
   "source": [
    "%%R\n",
    "# Initialize corMLPE \n",
    "source('/home/bryan/corMLPE/corMLPE.R')"
   ]
  },
  {
   "cell_type": "code",
   "execution_count": 4,
   "metadata": {
    "collapsed": true
   },
   "outputs": [],
   "source": [
    "%%R\n",
    "workDir = '/home/bryan/RhizCG/PhyDist/'\n"
   ]
  },
  {
   "cell_type": "markdown",
   "metadata": {
    "slideshow": {
     "slide_type": "skip"
    }
   },
   "source": [
    "# Data wrangling "
   ]
  },
  {
   "cell_type": "markdown",
   "metadata": {
    "slideshow": {
     "slide_type": "skip"
    }
   },
   "source": [
    "# Set up tables and tree "
   ]
  },
  {
   "cell_type": "code",
   "execution_count": 5,
   "metadata": {},
   "outputs": [],
   "source": [
    "%%R\n",
    "setwd(workDir)\n",
    "# read phylogenetic distance, expanded with 0.0002 between maize lines\n",
    "phy_expand = read.csv(file = \"phyDist_expanded.csv\", header = TRUE)\n",
    "colnames(phy_expand)[12] = \"75-062\""
   ]
  },
  {
   "cell_type": "code",
   "execution_count": 6,
   "metadata": {
    "scrolled": false
   },
   "outputs": [
    {
     "data": {
      "image/png": "[encoded data removed]"
     },
     "metadata": {},
     "output_type": "display_data"
    }
   ],
   "source": [
    "%%R -w 400 -h 400\n",
    "\n",
    "# simplify, re-order matrix so that plants appear in same order as they are in the legend key.  then \n",
    "Mat = phy_expand\n",
    "colnames(Mat) = c(\"Fagopyrum esculentum\", \"Amaranthus powellii\", \"Helianthus annuus\", \"Abutilon theophrasti\",\n",
    "                 \"Glycine max\", \"Sorghum bicolor bicolor\", \"B73\", \"Echinochloa crus-galli\", \n",
    "                  \"Setaria faberi\",  \"Eragrostis tef\",\"Eleusine coracana\", \"75-062\", \"Oh7B\", \"MS71\", \"B97\",\n",
    "                  \"H99\", \"Il14H\", \"Ki3\", \"Tx303\",\"Hp301\", \"Mo18\", \"Sorghum bicolor sudanese\")\n",
    "rownames(Mat) = c(\"Fagopyrum esculentum\", \"Amaranthus powellii\", \"Helianthus annuus\", \"Abutilon theophrasti\",\n",
    "                 \"Glycine max\", \"Sorghum bicolor bicolor\", \"B73\", \"Echinochloa crus-galli\", \n",
    "                  \"Setaria faberi\",  \"Eragrostis tef\",\"Eleusine coracana\", \"75-062\", \"Oh7B\", \"MS71\", \"B97\",\n",
    "                  \"H99\", \"Il14H\", \"Ki3\", \"Tx303\",\"Hp301\", \"Mo18\", \"Sorghum bicolor sudanese\")\n",
    "\n",
    "Mat = Mat[c(\"75-062\", \"B73\", \"B97\" ,  \"H99\" , \"Hp301\",  \"Il14H\",  \"Ki3\" , \"Mo18\", \"MS71\",\"Oh7B\", \"Tx303\",\n",
    "             \"Echinochloa crus-galli\", \"Setaria faberi\", \"Sorghum bicolor bicolor\", \"Sorghum bicolor sudanese\",\n",
    "            \"Eleusine coracana\", \"Eragrostis tef\", \n",
    "           \"Abutilon theophrasti\",\"Helianthus annuus\",\"Fagopyrum esculentum\", \"Amaranthus powellii\",\"Glycine max\"),\n",
    "         c(\"75-062\", \"B73\", \"B97\" ,  \"H99\" , \"Hp301\",  \"Il14H\",  \"Ki3\" , \"Mo18\", \"MS71\",\"Oh7B\", \"Tx303\",\n",
    "             \"Echinochloa crus-galli\", \"Setaria faberi\", \"Sorghum bicolor bicolor\", \"Sorghum bicolor sudanese\",\n",
    "            \"Eleusine coracana\", \"Eragrostis tef\", \n",
    "           \"Abutilon theophrasti\",\"Helianthus annuus\",\"Fagopyrum esculentum\", \"Amaranthus powellii\",\"Glycine max\"),]\n",
    "\n",
    "Phy_hc = hclust(as.dist(Mat), \"complete\")\n",
    "hcd = as.dendrogram(Phy_hc)\n",
    "# vector of colors to match CAP plot\n",
    "\n",
    "\n",
    "labelColors = #c(\"#FFFF00\", \"#1CE6FF\", \"#FF34FF\", \"#FF4A46\", \"#008941\", \"#006FA6\", \"#A30059\",\n",
    "        #\"#FFDBE5\", \"#7A4900\", \"#0000A6\", \"#63FFAC\", \"#B79762\", \"#004D43\", \"#8FB0FF\", \"#997D87\",\n",
    "        #\"#5A0007\", \"#809693\", \"#1B4400\", \"#4FC601\", \"#3B5DFF\", \"#4A3B53\", \"#FF2F80\")\n",
    "\n",
    "\n",
    "# cut dendrogram in 4 clusters\n",
    "clusMember = cutree(Phy_hc, 22)\n",
    "#function to get color labels\n",
    "colLab <- function(n) {\n",
    "    if (is.leaf(n)) {\n",
    "        a <- attributes(n)\n",
    "        labCol <- labelColors[clusMember[which(names(clusMember) == a$label)]]\n",
    "        attr(n, \"nodePar\") <- c(a$nodePar, lab.col = labCol)\n",
    "    }\n",
    "    n\n",
    "}\n",
    "# using dendrapply\n",
    "clusDendro = dendrapply(hcd, colLab)\n",
    "# make plot\n",
    "par(mar=c(14,4.1,4.1,2.1))\n",
    "plot(clusDendro, no.margin = TRUE)\n",
    "\n",
    "\n",
    "# plot(Phy_hc, hang = -1)\n",
    "\n",
    "\n"
   ]
  },
  {
   "cell_type": "markdown",
   "metadata": {},
   "source": [
    "## Create melted dataframes for plot by plot comparisons"
   ]
  },
  {
   "cell_type": "code",
   "execution_count": 7,
   "metadata": {
    "scrolled": true
   },
   "outputs": [
    {
     "data": {
      "text/plain": [
       "    PlantA PlantB phy_Dist     PlantComp\n",
       "1    FAGES  FAGES  0.00000   FAGES-FAGES\n",
       "2    AMAPO  FAGES  0.23210   AMAPO-FAGES\n",
       "3    HELAN  FAGES  0.25302   HELAN-FAGES\n",
       "4    ABUTH  FAGES  0.27096   ABUTH-FAGES\n",
       "5    GLYMA  FAGES  0.35879   GLYMA-FAGES\n",
       "6    SORBI  FAGES  0.43476   SORBI-FAGES\n",
       "7      B73  FAGES  0.43787     B73-FAGES\n",
       "8    ECHCG  FAGES  0.43985   ECHCG-FAGES\n",
       "9    SETFA  FAGES  0.43592   SETFA-FAGES\n",
       "10   ERATE  FAGES  0.44622   ERATE-FAGES\n",
       "11   ELCOR  FAGES  0.44745   ELCOR-FAGES\n",
       "12  75-062  FAGES  0.43787  75-062-FAGES\n",
       "13    Oh7B  FAGES  0.43787    Oh7B-FAGES\n",
       "14    MS71  FAGES  0.43787    MS71-FAGES\n",
       "15     B97  FAGES  0.43787     B97-FAGES\n",
       "16     H99  FAGES  0.43787     H99-FAGES\n",
       "17   Il14H  FAGES  0.43787   Il14H-FAGES\n",
       "18     Ki3  FAGES  0.43787     Ki3-FAGES\n",
       "19   Tx303  FAGES  0.43787   Tx303-FAGES\n",
       "20   Hp301  FAGES  0.43787   Hp301-FAGES\n",
       "21    Mo18  FAGES  0.43787    Mo18-FAGES\n",
       "22  SORSUD  FAGES  0.43476  SORSUD-FAGES\n",
       "23   FAGES  AMAPO  0.23210   FAGES-AMAPO\n",
       "24   AMAPO  AMAPO  0.00000   AMAPO-AMAPO\n",
       "25   HELAN  AMAPO  0.20952   HELAN-AMAPO\n",
       "26   ABUTH  AMAPO  0.22746   ABUTH-AMAPO\n",
       "27   GLYMA  AMAPO  0.31529   GLYMA-AMAPO\n",
       "28   SORBI  AMAPO  0.39126   SORBI-AMAPO\n",
       "29     B73  AMAPO  0.39437     B73-AMAPO\n",
       "30   ECHCG  AMAPO  0.39635   ECHCG-AMAPO\n",
       "31   SETFA  AMAPO  0.39242   SETFA-AMAPO\n",
       "32   ERATE  AMAPO  0.40272   ERATE-AMAPO\n",
       "33   ELCOR  AMAPO  0.40395   ELCOR-AMAPO\n",
       "34  75-062  AMAPO  0.39437  75-062-AMAPO\n",
       "35    Oh7B  AMAPO  0.39437    Oh7B-AMAPO\n",
       "36    MS71  AMAPO  0.39437    MS71-AMAPO\n",
       "37     B97  AMAPO  0.39437     B97-AMAPO\n",
       "38     H99  AMAPO  0.39437     H99-AMAPO\n",
       "39   Il14H  AMAPO  0.39437   Il14H-AMAPO\n",
       "40     Ki3  AMAPO  0.39437     Ki3-AMAPO\n",
       "41   Tx303  AMAPO  0.39437   Tx303-AMAPO\n",
       "42   Hp301  AMAPO  0.39437   Hp301-AMAPO\n",
       "43    Mo18  AMAPO  0.39437    Mo18-AMAPO\n",
       "44  SORSUD  AMAPO  0.39126  SORSUD-AMAPO\n",
       "45   FAGES  HELAN  0.25302   FAGES-HELAN\n",
       "46   AMAPO  HELAN  0.20952   AMAPO-HELAN\n",
       "47   HELAN  HELAN  0.00000   HELAN-HELAN\n",
       "48   ABUTH  HELAN  0.19116   ABUTH-HELAN\n",
       "49   GLYMA  HELAN  0.27899   GLYMA-HELAN\n",
       "50   SORBI  HELAN  0.35496   SORBI-HELAN\n",
       "51     B73  HELAN  0.35807     B73-HELAN\n",
       "52   ECHCG  HELAN  0.36005   ECHCG-HELAN\n",
       "53   SETFA  HELAN  0.35612   SETFA-HELAN\n",
       "54   ERATE  HELAN  0.36642   ERATE-HELAN\n",
       "55   ELCOR  HELAN  0.36765   ELCOR-HELAN\n",
       "56  75-062  HELAN  0.35807  75-062-HELAN\n",
       "57    Oh7B  HELAN  0.35807    Oh7B-HELAN\n",
       "58    MS71  HELAN  0.35807    MS71-HELAN\n",
       "59     B97  HELAN  0.35807     B97-HELAN\n",
       "60     H99  HELAN  0.35807     H99-HELAN\n",
       "61   Il14H  HELAN  0.35807   Il14H-HELAN\n",
       "62     Ki3  HELAN  0.35807     Ki3-HELAN\n",
       "63   Tx303  HELAN  0.35807   Tx303-HELAN\n",
       "64   Hp301  HELAN  0.35807   Hp301-HELAN\n",
       "65    Mo18  HELAN  0.35807    Mo18-HELAN\n",
       "66  SORSUD  HELAN  0.35496  SORSUD-HELAN\n",
       "67   FAGES  ABUTH  0.27096   FAGES-ABUTH\n",
       "68   AMAPO  ABUTH  0.22746   AMAPO-ABUTH\n",
       "69   HELAN  ABUTH  0.19116   HELAN-ABUTH\n",
       "70   ABUTH  ABUTH  0.00000   ABUTH-ABUTH\n",
       "71   GLYMA  ABUTH  0.24183   GLYMA-ABUTH\n",
       "72   SORBI  ABUTH  0.35370   SORBI-ABUTH\n",
       "73     B73  ABUTH  0.35681     B73-ABUTH\n",
       "74   ECHCG  ABUTH  0.35879   ECHCG-ABUTH\n",
       "75   SETFA  ABUTH  0.35486   SETFA-ABUTH\n",
       "76   ERATE  ABUTH  0.36516   ERATE-ABUTH\n",
       "77   ELCOR  ABUTH  0.36639   ELCOR-ABUTH\n",
       "78  75-062  ABUTH  0.35681  75-062-ABUTH\n",
       "79    Oh7B  ABUTH  0.35681    Oh7B-ABUTH\n",
       "80    MS71  ABUTH  0.35681    MS71-ABUTH\n",
       "81     B97  ABUTH  0.35681     B97-ABUTH\n",
       "82     H99  ABUTH  0.35681     H99-ABUTH\n",
       "83   Il14H  ABUTH  0.35681   Il14H-ABUTH\n",
       "84     Ki3  ABUTH  0.35681     Ki3-ABUTH\n",
       "85   Tx303  ABUTH  0.35681   Tx303-ABUTH\n",
       "86   Hp301  ABUTH  0.35681   Hp301-ABUTH\n",
       "87    Mo18  ABUTH  0.35681    Mo18-ABUTH\n",
       "88  SORSUD  ABUTH  0.35370  SORSUD-ABUTH\n",
       "89   FAGES  GLYMA  0.35879   FAGES-GLYMA\n",
       "90   AMAPO  GLYMA  0.31529   AMAPO-GLYMA\n",
       "91   HELAN  GLYMA  0.27899   HELAN-GLYMA\n",
       "92   ABUTH  GLYMA  0.24183   ABUTH-GLYMA\n",
       "93   GLYMA  GLYMA  0.00000   GLYMA-GLYMA\n",
       "94   SORBI  GLYMA  0.44153   SORBI-GLYMA\n",
       "95     B73  GLYMA  0.44464     B73-GLYMA\n",
       "96   ECHCG  GLYMA  0.44662   ECHCG-GLYMA\n",
       "97   SETFA  GLYMA  0.44269   SETFA-GLYMA\n",
       "98   ERATE  GLYMA  0.45299   ERATE-GLYMA\n",
       "99   ELCOR  GLYMA  0.45422   ELCOR-GLYMA\n",
       "100 75-062  GLYMA  0.44464  75-062-GLYMA\n",
       "101   Oh7B  GLYMA  0.44464    Oh7B-GLYMA\n",
       "102   MS71  GLYMA  0.44464    MS71-GLYMA\n",
       "103    B97  GLYMA  0.44464     B97-GLYMA\n",
       "104    H99  GLYMA  0.44464     H99-GLYMA\n",
       "105  Il14H  GLYMA  0.44464   Il14H-GLYMA\n",
       "106    Ki3  GLYMA  0.44464     Ki3-GLYMA\n",
       "107  Tx303  GLYMA  0.44464   Tx303-GLYMA\n",
       "108  Hp301  GLYMA  0.44464   Hp301-GLYMA\n",
       "109   Mo18  GLYMA  0.44464    Mo18-GLYMA\n",
       "110 SORSUD  GLYMA  0.44153  SORSUD-GLYMA\n",
       "111  FAGES  SORBI  0.43476   FAGES-SORBI\n",
       "112  AMAPO  SORBI  0.39126   AMAPO-SORBI\n",
       "113  HELAN  SORBI  0.35496   HELAN-SORBI\n",
       "114  ABUTH  SORBI  0.35370   ABUTH-SORBI\n",
       "115  GLYMA  SORBI  0.44153   GLYMA-SORBI\n",
       "116  SORBI  SORBI  0.00000   SORBI-SORBI\n",
       "117    B73  SORBI  0.01153     B73-SORBI\n",
       "118  ECHCG  SORBI  0.03193   ECHCG-SORBI\n",
       "119  SETFA  SORBI  0.02800   SETFA-SORBI\n",
       "120  ERATE  SORBI  0.04656   ERATE-SORBI\n",
       "121  ELCOR  SORBI  0.04779   ELCOR-SORBI\n",
       "122 75-062  SORBI  0.01153  75-062-SORBI\n",
       "123   Oh7B  SORBI  0.01153    Oh7B-SORBI\n",
       "124   MS71  SORBI  0.01153    MS71-SORBI\n",
       "125    B97  SORBI  0.01153     B97-SORBI\n",
       "126    H99  SORBI  0.01153     H99-SORBI\n",
       "127  Il14H  SORBI  0.01153   Il14H-SORBI\n",
       "128    Ki3  SORBI  0.01153     Ki3-SORBI\n",
       "129  Tx303  SORBI  0.01153   Tx303-SORBI\n",
       "130  Hp301  SORBI  0.01153   Hp301-SORBI\n",
       "131   Mo18  SORBI  0.01153    Mo18-SORBI\n",
       "132 SORSUD  SORBI  0.00020  SORSUD-SORBI\n",
       "133  FAGES    B73  0.43787     FAGES-B73\n",
       "134  AMAPO    B73  0.39437     AMAPO-B73\n",
       "135  HELAN    B73  0.35807     HELAN-B73\n",
       "136  ABUTH    B73  0.35681     ABUTH-B73\n",
       "137  GLYMA    B73  0.44464     GLYMA-B73\n",
       "138  SORBI    B73  0.01153     SORBI-B73\n",
       "139    B73    B73  0.00000       B73-B73\n",
       "140  ECHCG    B73  0.03504     ECHCG-B73\n",
       "141  SETFA    B73  0.03111     SETFA-B73\n",
       "142  ERATE    B73  0.04967     ERATE-B73\n",
       "143  ELCOR    B73  0.05090     ELCOR-B73\n",
       "144 75-062    B73  0.00020    75-062-B73\n",
       "145   Oh7B    B73  0.00020      Oh7B-B73\n",
       "146   MS71    B73  0.00020      MS71-B73\n",
       "147    B97    B73  0.00020       B97-B73\n",
       "148    H99    B73  0.00020       H99-B73\n",
       "149  Il14H    B73  0.00020     Il14H-B73\n",
       "150    Ki3    B73  0.00020       Ki3-B73\n",
       "151  Tx303    B73  0.00020     Tx303-B73\n",
       "152  Hp301    B73  0.00020     Hp301-B73\n",
       "153   Mo18    B73  0.00020      Mo18-B73\n",
       "154 SORSUD    B73  0.01153    SORSUD-B73\n",
       "155  FAGES  ECHCG  0.43985   FAGES-ECHCG\n",
       "156  AMAPO  ECHCG  0.39635   AMAPO-ECHCG\n",
       "157  HELAN  ECHCG  0.36005   HELAN-ECHCG\n",
       "158  ABUTH  ECHCG  0.35879   ABUTH-ECHCG\n",
       "159  GLYMA  ECHCG  0.44662   GLYMA-ECHCG\n",
       "160  SORBI  ECHCG  0.03193   SORBI-ECHCG\n",
       "161    B73  ECHCG  0.03504     B73-ECHCG\n",
       "162  ECHCG  ECHCG  0.00000   ECHCG-ECHCG\n",
       "163  SETFA  ECHCG  0.02517   SETFA-ECHCG\n",
       "164  ERATE  ECHCG  0.05165   ERATE-ECHCG\n",
       "165  ELCOR  ECHCG  0.05288   ELCOR-ECHCG\n",
       "166 75-062  ECHCG  0.03504  75-062-ECHCG\n",
       "167   Oh7B  ECHCG  0.03504    Oh7B-ECHCG\n",
       "168   MS71  ECHCG  0.03504    MS71-ECHCG\n",
       "169    B97  ECHCG  0.03504     B97-ECHCG\n",
       "170    H99  ECHCG  0.03504     H99-ECHCG\n",
       "171  Il14H  ECHCG  0.03504   Il14H-ECHCG\n",
       "172    Ki3  ECHCG  0.03504     Ki3-ECHCG\n",
       "173  Tx303  ECHCG  0.03504   Tx303-ECHCG\n",
       "174  Hp301  ECHCG  0.03504   Hp301-ECHCG\n",
       "175   Mo18  ECHCG  0.03504    Mo18-ECHCG\n",
       "176 SORSUD  ECHCG  0.03193  SORSUD-ECHCG\n",
       "177  FAGES  SETFA  0.43592   FAGES-SETFA\n",
       "178  AMAPO  SETFA  0.39242   AMAPO-SETFA\n",
       "179  HELAN  SETFA  0.35612   HELAN-SETFA\n",
       "180  ABUTH  SETFA  0.35486   ABUTH-SETFA\n",
       "181  GLYMA  SETFA  0.44269   GLYMA-SETFA\n",
       "182  SORBI  SETFA  0.02800   SORBI-SETFA\n",
       "183    B73  SETFA  0.03111     B73-SETFA\n",
       "184  ECHCG  SETFA  0.02517   ECHCG-SETFA\n",
       "185  SETFA  SETFA  0.00000   SETFA-SETFA\n",
       "186  ERATE  SETFA  0.04772   ERATE-SETFA\n",
       "187  ELCOR  SETFA  0.04895   ELCOR-SETFA\n",
       "188 75-062  SETFA  0.03111  75-062-SETFA\n",
       "189   Oh7B  SETFA  0.03111    Oh7B-SETFA\n",
       "190   MS71  SETFA  0.03111    MS71-SETFA\n",
       "191    B97  SETFA  0.03111     B97-SETFA\n",
       "192    H99  SETFA  0.03111     H99-SETFA\n",
       "193  Il14H  SETFA  0.03111   Il14H-SETFA\n",
       "194    Ki3  SETFA  0.03111     Ki3-SETFA\n",
       "195  Tx303  SETFA  0.03111   Tx303-SETFA\n",
       "196  Hp301  SETFA  0.03111   Hp301-SETFA\n",
       "197   Mo18  SETFA  0.03111    Mo18-SETFA\n",
       "198 SORSUD  SETFA  0.02800  SORSUD-SETFA\n",
       "199  FAGES  ERATE  0.44622   FAGES-ERATE\n",
       "200  AMAPO  ERATE  0.40272   AMAPO-ERATE\n",
       "201  HELAN  ERATE  0.36642   HELAN-ERATE\n",
       "202  ABUTH  ERATE  0.36516   ABUTH-ERATE\n",
       "203  GLYMA  ERATE  0.45299   GLYMA-ERATE\n",
       "204  SORBI  ERATE  0.04656   SORBI-ERATE\n",
       "205    B73  ERATE  0.04967     B73-ERATE\n",
       "206  ECHCG  ERATE  0.05165   ECHCG-ERATE\n",
       "207  SETFA  ERATE  0.04772   SETFA-ERATE\n",
       "208  ERATE  ERATE  0.00000   ERATE-ERATE\n",
       "209  ELCOR  ERATE  0.03561   ELCOR-ERATE\n",
       "210 75-062  ERATE  0.04967  75-062-ERATE\n",
       "211   Oh7B  ERATE  0.04967    Oh7B-ERATE\n",
       "212   MS71  ERATE  0.04967    MS71-ERATE\n",
       "213    B97  ERATE  0.04967     B97-ERATE\n",
       "214    H99  ERATE  0.04967     H99-ERATE\n",
       "215  Il14H  ERATE  0.04967   Il14H-ERATE\n",
       "216    Ki3  ERATE  0.04967     Ki3-ERATE\n",
       "217  Tx303  ERATE  0.04967   Tx303-ERATE\n",
       "218  Hp301  ERATE  0.04967   Hp301-ERATE\n",
       "219   Mo18  ERATE  0.04967    Mo18-ERATE\n",
       "220 SORSUD  ERATE  0.04656  SORSUD-ERATE\n",
       "221  FAGES  ELCOR  0.44745   FAGES-ELCOR\n",
       "222  AMAPO  ELCOR  0.40395   AMAPO-ELCOR\n",
       "223  HELAN  ELCOR  0.36765   HELAN-ELCOR\n",
       "224  ABUTH  ELCOR  0.36639   ABUTH-ELCOR\n",
       "225  GLYMA  ELCOR  0.45422   GLYMA-ELCOR\n",
       "226  SORBI  ELCOR  0.04779   SORBI-ELCOR\n",
       "227    B73  ELCOR  0.05090     B73-ELCOR\n",
       "228  ECHCG  ELCOR  0.05288   ECHCG-ELCOR\n",
       "229  SETFA  ELCOR  0.04895   SETFA-ELCOR\n",
       "230  ERATE  ELCOR  0.03561   ERATE-ELCOR\n",
       "231  ELCOR  ELCOR  0.00000   ELCOR-ELCOR\n",
       "232 75-062  ELCOR  0.05090  75-062-ELCOR\n",
       "233   Oh7B  ELCOR  0.05090    Oh7B-ELCOR\n",
       "234   MS71  ELCOR  0.05090    MS71-ELCOR\n",
       "235    B97  ELCOR  0.05090     B97-ELCOR\n",
       "236    H99  ELCOR  0.05090     H99-ELCOR\n",
       "237  Il14H  ELCOR  0.05090   Il14H-ELCOR\n",
       "238    Ki3  ELCOR  0.05090     Ki3-ELCOR\n",
       "239  Tx303  ELCOR  0.05090   Tx303-ELCOR\n",
       "240  Hp301  ELCOR  0.05090   Hp301-ELCOR\n",
       "241   Mo18  ELCOR  0.05090    Mo18-ELCOR\n",
       "242 SORSUD  ELCOR  0.04779  SORSUD-ELCOR\n",
       "243  FAGES 75-062  0.43787  FAGES-75-062\n",
       "244  AMAPO 75-062  0.39437  AMAPO-75-062\n",
       "245  HELAN 75-062  0.35807  HELAN-75-062\n",
       "246  ABUTH 75-062  0.35681  ABUTH-75-062\n",
       "247  GLYMA 75-062  0.44464  GLYMA-75-062\n",
       "248  SORBI 75-062  0.01153  SORBI-75-062\n",
       "249    B73 75-062  0.00020    B73-75-062\n",
       "250  ECHCG 75-062  0.03504  ECHCG-75-062\n",
       "251  SETFA 75-062  0.03111  SETFA-75-062\n",
       "252  ERATE 75-062  0.04967  ERATE-75-062\n",
       "253  ELCOR 75-062  0.05090  ELCOR-75-062\n",
       "254 75-062 75-062  0.00000 75-062-75-062\n",
       "255   Oh7B 75-062  0.00020   Oh7B-75-062\n",
       "256   MS71 75-062  0.00020   MS71-75-062\n",
       "257    B97 75-062  0.00020    B97-75-062\n",
       "258    H99 75-062  0.00020    H99-75-062\n",
       "259  Il14H 75-062  0.00020  Il14H-75-062\n",
       "260    Ki3 75-062  0.00020    Ki3-75-062\n",
       "261  Tx303 75-062  0.00020  Tx303-75-062\n",
       "262  Hp301 75-062  0.00020  Hp301-75-062\n",
       "263   Mo18 75-062  0.00020   Mo18-75-062\n",
       "264 SORSUD 75-062  0.01153 SORSUD-75-062\n",
       "265  FAGES   Oh7B  0.43787    FAGES-Oh7B\n",
       "266  AMAPO   Oh7B  0.39437    AMAPO-Oh7B\n",
       "267  HELAN   Oh7B  0.35807    HELAN-Oh7B\n",
       "268  ABUTH   Oh7B  0.35681    ABUTH-Oh7B\n",
       "269  GLYMA   Oh7B  0.44464    GLYMA-Oh7B\n",
       "270  SORBI   Oh7B  0.01153    SORBI-Oh7B\n",
       "271    B73   Oh7B  0.00020      B73-Oh7B\n",
       "272  ECHCG   Oh7B  0.03504    ECHCG-Oh7B\n",
       "273  SETFA   Oh7B  0.03111    SETFA-Oh7B\n",
       "274  ERATE   Oh7B  0.04967    ERATE-Oh7B\n",
       "275  ELCOR   Oh7B  0.05090    ELCOR-Oh7B\n",
       "276 75-062   Oh7B  0.00020   75-062-Oh7B\n",
       "277   Oh7B   Oh7B  0.00000     Oh7B-Oh7B\n",
       "278   MS71   Oh7B  0.00020     MS71-Oh7B\n",
       "279    B97   Oh7B  0.00020      B97-Oh7B\n",
       "280    H99   Oh7B  0.00020      H99-Oh7B\n",
       "281  Il14H   Oh7B  0.00020    Il14H-Oh7B\n",
       "282    Ki3   Oh7B  0.00020      Ki3-Oh7B\n",
       "283  Tx303   Oh7B  0.00020    Tx303-Oh7B\n",
       "284  Hp301   Oh7B  0.00020    Hp301-Oh7B\n",
       "285   Mo18   Oh7B  0.00020     Mo18-Oh7B\n",
       "286 SORSUD   Oh7B  0.01153   SORSUD-Oh7B\n",
       "287  FAGES   MS71  0.43787    FAGES-MS71\n",
       "288  AMAPO   MS71  0.39437    AMAPO-MS71\n",
       "289  HELAN   MS71  0.35807    HELAN-MS71\n",
       "290  ABUTH   MS71  0.35681    ABUTH-MS71\n",
       "291  GLYMA   MS71  0.44464    GLYMA-MS71\n",
       "292  SORBI   MS71  0.01153    SORBI-MS71\n",
       "293    B73   MS71  0.00020      B73-MS71\n",
       "294  ECHCG   MS71  0.03504    ECHCG-MS71\n",
       "295  SETFA   MS71  0.03111    SETFA-MS71\n",
       "296  ERATE   MS71  0.04967    ERATE-MS71\n",
       "297  ELCOR   MS71  0.05090    ELCOR-MS71\n",
       "298 75-062   MS71  0.00020   75-062-MS71\n",
       "299   Oh7B   MS71  0.00020     Oh7B-MS71\n",
       "300   MS71   MS71  0.00000     MS71-MS71\n",
       "301    B97   MS71  0.00020      B97-MS71\n",
       "302    H99   MS71  0.00020      H99-MS71\n",
       "303  Il14H   MS71  0.00020    Il14H-MS71\n",
       "304    Ki3   MS71  0.00020      Ki3-MS71\n",
       "305  Tx303   MS71  0.00020    Tx303-MS71\n",
       "306  Hp301   MS71  0.00020    Hp301-MS71\n",
       "307   Mo18   MS71  0.00020     Mo18-MS71\n",
       "308 SORSUD   MS71  0.01153   SORSUD-MS71\n",
       "309  FAGES    B97  0.43787     FAGES-B97\n",
       "310  AMAPO    B97  0.39437     AMAPO-B97\n",
       "311  HELAN    B97  0.35807     HELAN-B97\n",
       "312  ABUTH    B97  0.35681     ABUTH-B97\n",
       "313  GLYMA    B97  0.44464     GLYMA-B97\n",
       "314  SORBI    B97  0.01153     SORBI-B97\n",
       "315    B73    B97  0.00020       B73-B97\n",
       "316  ECHCG    B97  0.03504     ECHCG-B97\n",
       "317  SETFA    B97  0.03111     SETFA-B97\n",
       "318  ERATE    B97  0.04967     ERATE-B97\n",
       "319  ELCOR    B97  0.05090     ELCOR-B97\n",
       "320 75-062    B97  0.00020    75-062-B97\n",
       "321   Oh7B    B97  0.00020      Oh7B-B97\n",
       "322   MS71    B97  0.00020      MS71-B97\n",
       "323    B97    B97  0.00000       B97-B97\n",
       "324    H99    B97  0.00020       H99-B97\n",
       "325  Il14H    B97  0.00020     Il14H-B97\n",
       "326    Ki3    B97  0.00020       Ki3-B97\n",
       "327  Tx303    B97  0.00020     Tx303-B97\n",
       "328  Hp301    B97  0.00020     Hp301-B97\n",
       "329   Mo18    B97  0.00020      Mo18-B97\n",
       "330 SORSUD    B97  0.01153    SORSUD-B97\n",
       "331  FAGES    H99  0.43787     FAGES-H99\n",
       "332  AMAPO    H99  0.39437     AMAPO-H99\n",
       "333  HELAN    H99  0.35807     HELAN-H99\n",
       "334  ABUTH    H99  0.35681     ABUTH-H99\n",
       "335  GLYMA    H99  0.44464     GLYMA-H99\n",
       "336  SORBI    H99  0.01153     SORBI-H99\n",
       "337    B73    H99  0.00020       B73-H99\n",
       "338  ECHCG    H99  0.03504     ECHCG-H99\n",
       "339  SETFA    H99  0.03111     SETFA-H99\n",
       "340  ERATE    H99  0.04967     ERATE-H99\n",
       "341  ELCOR    H99  0.05090     ELCOR-H99\n",
       "342 75-062    H99  0.00020    75-062-H99\n",
       "343   Oh7B    H99  0.00020      Oh7B-H99\n",
       "344   MS71    H99  0.00020      MS71-H99\n",
       "345    B97    H99  0.00020       B97-H99\n",
       "346    H99    H99  0.00000       H99-H99\n",
       "347  Il14H    H99  0.00020     Il14H-H99\n",
       "348    Ki3    H99  0.00020       Ki3-H99\n",
       "349  Tx303    H99  0.00020     Tx303-H99\n",
       "350  Hp301    H99  0.00020     Hp301-H99\n",
       "351   Mo18    H99  0.00020      Mo18-H99\n",
       "352 SORSUD    H99  0.01153    SORSUD-H99\n",
       "353  FAGES  Il14H  0.43787   FAGES-Il14H\n",
       "354  AMAPO  Il14H  0.39437   AMAPO-Il14H\n",
       "355  HELAN  Il14H  0.35807   HELAN-Il14H\n",
       "356  ABUTH  Il14H  0.35681   ABUTH-Il14H\n",
       "357  GLYMA  Il14H  0.44464   GLYMA-Il14H\n",
       "358  SORBI  Il14H  0.01153   SORBI-Il14H\n",
       "359    B73  Il14H  0.00020     B73-Il14H\n",
       "360  ECHCG  Il14H  0.03504   ECHCG-Il14H\n",
       "361  SETFA  Il14H  0.03111   SETFA-Il14H\n",
       "362  ERATE  Il14H  0.04967   ERATE-Il14H\n",
       "363  ELCOR  Il14H  0.05090   ELCOR-Il14H\n",
       "364 75-062  Il14H  0.00020  75-062-Il14H\n",
       "365   Oh7B  Il14H  0.00020    Oh7B-Il14H\n",
       "366   MS71  Il14H  0.00020    MS71-Il14H\n",
       "367    B97  Il14H  0.00020     B97-Il14H\n",
       "368    H99  Il14H  0.00020     H99-Il14H\n",
       "369  Il14H  Il14H  0.00000   Il14H-Il14H\n",
       "370    Ki3  Il14H  0.00020     Ki3-Il14H\n",
       "371  Tx303  Il14H  0.00020   Tx303-Il14H\n",
       "372  Hp301  Il14H  0.00020   Hp301-Il14H\n",
       "373   Mo18  Il14H  0.00020    Mo18-Il14H\n",
       "374 SORSUD  Il14H  0.01153  SORSUD-Il14H\n",
       "375  FAGES    Ki3  0.43787     FAGES-Ki3\n",
       "376  AMAPO    Ki3  0.39437     AMAPO-Ki3\n",
       "377  HELAN    Ki3  0.35807     HELAN-Ki3\n",
       "378  ABUTH    Ki3  0.35681     ABUTH-Ki3\n",
       "379  GLYMA    Ki3  0.44464     GLYMA-Ki3\n",
       "380  SORBI    Ki3  0.01153     SORBI-Ki3\n",
       "381    B73    Ki3  0.00020       B73-Ki3\n",
       "382  ECHCG    Ki3  0.03504     ECHCG-Ki3\n",
       "383  SETFA    Ki3  0.03111     SETFA-Ki3\n",
       "384  ERATE    Ki3  0.04967     ERATE-Ki3\n",
       "385  ELCOR    Ki3  0.05090     ELCOR-Ki3\n",
       "386 75-062    Ki3  0.00020    75-062-Ki3\n",
       "387   Oh7B    Ki3  0.00020      Oh7B-Ki3\n",
       "388   MS71    Ki3  0.00020      MS71-Ki3\n",
       "389    B97    Ki3  0.00020       B97-Ki3\n",
       "390    H99    Ki3  0.00020       H99-Ki3\n",
       "391  Il14H    Ki3  0.00020     Il14H-Ki3\n",
       "392    Ki3    Ki3  0.00000       Ki3-Ki3\n",
       "393  Tx303    Ki3  0.00020     Tx303-Ki3\n",
       "394  Hp301    Ki3  0.00020     Hp301-Ki3\n",
       "395   Mo18    Ki3  0.00020      Mo18-Ki3\n",
       "396 SORSUD    Ki3  0.01153    SORSUD-Ki3\n",
       "397  FAGES  Tx303  0.43787   FAGES-Tx303\n",
       "398  AMAPO  Tx303  0.39437   AMAPO-Tx303\n",
       "399  HELAN  Tx303  0.35807   HELAN-Tx303\n",
       "400  ABUTH  Tx303  0.35681   ABUTH-Tx303\n",
       "401  GLYMA  Tx303  0.44464   GLYMA-Tx303\n",
       "402  SORBI  Tx303  0.01153   SORBI-Tx303\n",
       "403    B73  Tx303  0.00020     B73-Tx303\n",
       "404  ECHCG  Tx303  0.03504   ECHCG-Tx303\n",
       "405  SETFA  Tx303  0.03111   SETFA-Tx303\n",
       "406  ERATE  Tx303  0.04967   ERATE-Tx303\n",
       "407  ELCOR  Tx303  0.05090   ELCOR-Tx303\n",
       "408 75-062  Tx303  0.00020  75-062-Tx303\n",
       "409   Oh7B  Tx303  0.00020    Oh7B-Tx303\n",
       "410   MS71  Tx303  0.00020    MS71-Tx303\n",
       "411    B97  Tx303  0.00020     B97-Tx303\n",
       "412    H99  Tx303  0.00020     H99-Tx303\n",
       "413  Il14H  Tx303  0.00020   Il14H-Tx303\n",
       "414    Ki3  Tx303  0.00020     Ki3-Tx303\n",
       "415  Tx303  Tx303  0.00000   Tx303-Tx303\n",
       "416  Hp301  Tx303  0.00020   Hp301-Tx303\n",
       "417   Mo18  Tx303  0.00020    Mo18-Tx303\n",
       "418 SORSUD  Tx303  0.01153  SORSUD-Tx303\n",
       "419  FAGES  Hp301  0.43787   FAGES-Hp301\n",
       "420  AMAPO  Hp301  0.39437   AMAPO-Hp301\n",
       "421  HELAN  Hp301  0.35807   HELAN-Hp301\n",
       "422  ABUTH  Hp301  0.35681   ABUTH-Hp301\n",
       "423  GLYMA  Hp301  0.44464   GLYMA-Hp301\n",
       "424  SORBI  Hp301  0.01153   SORBI-Hp301\n",
       "425    B73  Hp301  0.00020     B73-Hp301\n",
       "426  ECHCG  Hp301  0.03504   ECHCG-Hp301\n",
       "427  SETFA  Hp301  0.03111   SETFA-Hp301\n",
       "428  ERATE  Hp301  0.04967   ERATE-Hp301\n",
       "429  ELCOR  Hp301  0.05090   ELCOR-Hp301\n",
       "430 75-062  Hp301  0.00020  75-062-Hp301\n",
       "431   Oh7B  Hp301  0.00020    Oh7B-Hp301\n",
       "432   MS71  Hp301  0.00020    MS71-Hp301\n",
       "433    B97  Hp301  0.00020     B97-Hp301\n",
       "434    H99  Hp301  0.00020     H99-Hp301\n",
       "435  Il14H  Hp301  0.00020   Il14H-Hp301\n",
       "436    Ki3  Hp301  0.00020     Ki3-Hp301\n",
       "437  Tx303  Hp301  0.00020   Tx303-Hp301\n",
       "438  Hp301  Hp301  0.00000   Hp301-Hp301\n",
       "439   Mo18  Hp301  0.00020    Mo18-Hp301\n",
       "440 SORSUD  Hp301  0.01153  SORSUD-Hp301\n",
       "441  FAGES   Mo18  0.43787    FAGES-Mo18\n",
       "442  AMAPO   Mo18  0.39437    AMAPO-Mo18\n",
       "443  HELAN   Mo18  0.35807    HELAN-Mo18\n",
       "444  ABUTH   Mo18  0.35681    ABUTH-Mo18\n",
       "445  GLYMA   Mo18  0.44464    GLYMA-Mo18\n",
       "446  SORBI   Mo18  0.01153    SORBI-Mo18\n",
       "447    B73   Mo18  0.00020      B73-Mo18\n",
       "448  ECHCG   Mo18  0.03504    ECHCG-Mo18\n",
       "449  SETFA   Mo18  0.03111    SETFA-Mo18\n",
       "450  ERATE   Mo18  0.04967    ERATE-Mo18\n",
       "451  ELCOR   Mo18  0.05090    ELCOR-Mo18\n",
       "452 75-062   Mo18  0.00020   75-062-Mo18\n",
       "453   Oh7B   Mo18  0.00020     Oh7B-Mo18\n",
       "454   MS71   Mo18  0.00020     MS71-Mo18\n",
       "455    B97   Mo18  0.00020      B97-Mo18\n",
       "456    H99   Mo18  0.00020      H99-Mo18\n",
       "457  Il14H   Mo18  0.00020    Il14H-Mo18\n",
       "458    Ki3   Mo18  0.00020      Ki3-Mo18\n",
       "459  Tx303   Mo18  0.00020    Tx303-Mo18\n",
       "460  Hp301   Mo18  0.00020    Hp301-Mo18\n",
       "461   Mo18   Mo18  0.00000     Mo18-Mo18\n",
       "462 SORSUD   Mo18  0.01153   SORSUD-Mo18\n",
       "463  FAGES SORSUD  0.43476  FAGES-SORSUD\n",
       "464  AMAPO SORSUD  0.39126  AMAPO-SORSUD\n",
       "465  HELAN SORSUD  0.35496  HELAN-SORSUD\n",
       "466  ABUTH SORSUD  0.35370  ABUTH-SORSUD\n",
       "467  GLYMA SORSUD  0.44153  GLYMA-SORSUD\n",
       "468  SORBI SORSUD  0.00020  SORBI-SORSUD\n",
       "469    B73 SORSUD  0.01153    B73-SORSUD\n",
       "470  ECHCG SORSUD  0.03193  ECHCG-SORSUD\n",
       "471  SETFA SORSUD  0.02800  SETFA-SORSUD\n",
       "472  ERATE SORSUD  0.04656  ERATE-SORSUD\n",
       "473  ELCOR SORSUD  0.04779  ELCOR-SORSUD\n",
       "474 75-062 SORSUD  0.01153 75-062-SORSUD\n",
       "475   Oh7B SORSUD  0.01153   Oh7B-SORSUD\n",
       "476   MS71 SORSUD  0.01153   MS71-SORSUD\n",
       "477    B97 SORSUD  0.01153    B97-SORSUD\n",
       "478    H99 SORSUD  0.01153    H99-SORSUD\n",
       "479  Il14H SORSUD  0.01153  Il14H-SORSUD\n",
       "480    Ki3 SORSUD  0.01153    Ki3-SORSUD\n",
       "481  Tx303 SORSUD  0.01153  Tx303-SORSUD\n",
       "482  Hp301 SORSUD  0.01153  Hp301-SORSUD\n",
       "483   Mo18 SORSUD  0.01153   Mo18-SORSUD\n",
       "484 SORSUD SORSUD  0.00000 SORSUD-SORSUD\n"
      ]
     },
     "metadata": {},
     "output_type": "display_data"
    }
   ],
   "source": [
    "%%R\n",
    "pd.m = melt(as.matrix(phy_expand))\n",
    "\n",
    "#set column names and create comparison column\n",
    "colnames(pd.m) = c(\"PlantA\", \"PlantB\", \"phy_Dist\")\n",
    "pd.m$PlantComp = paste(pd.m$PlantA, pd.m$PlantB, sep = \"-\")\n",
    "pd.m \n"
   ]
  },
  {
   "cell_type": "code",
   "execution_count": 8,
   "metadata": {},
   "outputs": [
    {
     "data": {
      "text/plain": [
       "   PlantA PlantB phy_Dist  PlantComp\n",
       "1     B73  FAGES  0.43787  B73-FAGES\n",
       "2     B73  AMAPO  0.39437  B73-AMAPO\n",
       "3     B73  HELAN  0.35807  B73-HELAN\n",
       "4     B73  ABUTH  0.35681  B73-ABUTH\n",
       "5     B73  GLYMA  0.44464  B73-GLYMA\n",
       "6     B73  SORBI  0.01153  B73-SORBI\n",
       "7     B73    B73  0.00000    B73-B73\n",
       "8     B73  ECHCG  0.03504  B73-ECHCG\n",
       "9     B73  SETFA  0.03111  B73-SETFA\n",
       "10    B73  ERATE  0.04967  B73-ERATE\n",
       "11    B73  ELCOR  0.05090  B73-ELCOR\n",
       "12    B73 75-062  0.00020 B73-75-062\n",
       "13    B73   Oh7B  0.00020   B73-Oh7B\n",
       "14    B73   MS71  0.00020   B73-MS71\n",
       "15    B73    B97  0.00020    B73-B97\n",
       "16    B73    H99  0.00020    B73-H99\n",
       "17    B73  Il14H  0.00020  B73-Il14H\n",
       "18    B73    Ki3  0.00020    B73-Ki3\n",
       "19    B73  Tx303  0.00020  B73-Tx303\n",
       "20    B73  Hp301  0.00020  B73-Hp301\n",
       "21    B73   Mo18  0.00020   B73-Mo18\n",
       "22    B73 SORSUD  0.01153 B73-SORSUD\n"
      ]
     },
     "metadata": {},
     "output_type": "display_data"
    }
   ],
   "source": [
    "%%R\n",
    "pd.m %>% filter(PlantA == \"B73\")"
   ]
  },
  {
   "cell_type": "code",
   "execution_count": 9,
   "metadata": {
    "scrolled": false
   },
   "outputs": [
    {
     "data": {
      "text/plain": [
       "phyloseq-class experiment-level object\n",
       "otu_table()   OTU Table:         [ 4927 taxa and 87 samples ]\n",
       "sample_data() Sample Data:       [ 87 samples by 55 sample variables ]\n",
       "tax_table()   Taxonomy Table:    [ 4927 taxa by 8 taxonomic ranks ]\n",
       "phy_tree()    Phylogenetic Tree: [ 4927 tips and 4926 internal nodes ]\n"
      ]
     },
     "metadata": {},
     "output_type": "display_data"
    }
   ],
   "source": [
    "%%R\n",
    "#Read rarified phyloseq object\n",
    "F = file.path('/home/bryan/RhizCG/data/MiSeq_amplicon/MergedRuns/physeq/Full-Sparsity3in3_r')\n",
    "physeq.Full = readRDS(F)\n",
    "\n",
    "physeq.Nneg = subset_samples(physeq.Full, Treatment == \"Nneg\" & Plant != \"BARE\")\n",
    "physeq.Nneg = filter_taxa(physeq.Nneg, function(x) sum(x > 0) > 0, TRUE)  \n",
    "physeq.Nneg"
   ]
  },
  {
   "cell_type": "code",
   "execution_count": 10,
   "metadata": {},
   "outputs": [],
   "source": [
    "%%R\n",
    "m.phy = merge_samples(physeq.Nneg, \"Plant\") %>%\n",
    "\n",
    "    transform_sample_counts(function(x) x/sum(x))"
   ]
  },
  {
   "cell_type": "markdown",
   "metadata": {},
   "source": [
    "# Overall dataset"
   ]
  },
  {
   "cell_type": "code",
   "execution_count": 11,
   "metadata": {},
   "outputs": [],
   "source": [
    "%%R\n",
    "registerDoParallel(cores=28)\n",
    "phy.wunif.dist = distance(m.phy, \n",
    "                      method = \"unifrac\", \n",
    "                      weighted = TRUE,\n",
    "                      fast = TRUE, \n",
    "                      parallel = TRUE, \n",
    "                      normalized = FALSE)\n"
   ]
  },
  {
   "cell_type": "markdown",
   "metadata": {},
   "source": [
    "### Melt unifrac distances"
   ]
  },
  {
   "cell_type": "code",
   "execution_count": 12,
   "metadata": {
    "hide_input": false
   },
   "outputs": [
    {
     "data": {
      "text/plain": [
       "   PlantA PlantB w_Unif_Dist\n",
       "23 75-062  ABUTH   0.1657071\n",
       "45 75-062  AMAPO   0.1988700\n",
       "46  ABUTH  AMAPO   0.1532747\n",
       "67 75-062    B73   0.1545134\n",
       "68  ABUTH    B73   0.1923347\n",
       "69  AMAPO    B73   0.1979983\n",
       "[1] 231   3\n"
      ]
     },
     "metadata": {},
     "output_type": "display_data"
    }
   ],
   "source": [
    "%%R\n",
    "ud = as.matrix(phy.wunif.dist) \n",
    "# remove lower triangle to remove duplicate values\n",
    "ud[ lower.tri( ud, diag = TRUE ) ]  <- NA\n",
    "head(ud)\n",
    "ud.m = melt(ud, na.rm= TRUE)\n",
    "\n",
    "# rename columns\n",
    "colnames(ud.m) = c(\"PlantA\", \"PlantB\", \"w_Unif_Dist\")\n",
    "head(ud.m) %>% print\n",
    "dim(ud.m) %>% print"
   ]
  },
  {
   "cell_type": "markdown",
   "metadata": {},
   "source": [
    "### Create seed size  variable"
   ]
  },
  {
   "cell_type": "code",
   "execution_count": 13,
   "metadata": {},
   "outputs": [
    {
     "data": {
      "text/plain": [
       "   Plant SeedSize_mg\n",
       "1  ERATE      0.0035\n",
       "2  HELAN          90\n",
       "3    B73         333\n",
       "4  FAGES          38\n",
       "5  AMAPO        0.49\n",
       "6 SORSUD        10.7\n"
      ]
     },
     "metadata": {},
     "output_type": "display_data"
    }
   ],
   "source": [
    "%%R\n",
    "#add seed size\n",
    "Plant = c(\"ERATE\", \"HELAN\", \"B73\", \"FAGES\", \"AMAPO\", \"SORSUD\", \"SORBI\", \n",
    "          \"ELCOR\", \"ECHCG\", \"ABUTH\", \"SETFA\", \"GLYMA\", \"MS71\", \"Mo18\", \"Il14H\", \"Tx303\", \"Oh7B\",\n",
    "         \"B97\", \"Hp301\", \"75-062\", \"Ki3\", \"H99\")\n",
    "SeedSize_mg = c(.0035, 90, 333, 38, .49, 10.7, 32.39,\n",
    "               3.2, 1.58, 9.6, 1.8, 174, 264, 224, 219, 279, 207,\n",
    "               240, 87, 222, 228, 231)\n",
    "SS = cbind(Plant, SeedSize_mg) %>% as.data.frame\n",
    "head(SS) %>% print\n",
    "SS$SeedSize_mg = SS$SeedSize_mg %>% as.character %>% as.numeric\n",
    "\n",
    "## Create functional distance variables\n",
    "sd = sample_data(physeq.Nneg)\n",
    "\n",
    "# join seed size with sample data\n",
    "sd = left_join(sd, SS, by = \"Plant\")\n",
    "rownames(sd) = sd$X.sample\n",
    "sample_data(physeq.Nneg) = sd"
   ]
  },
  {
   "cell_type": "code",
   "execution_count": 14,
   "metadata": {},
   "outputs": [
    {
     "data": {
      "text/plain": [
       "  PlantA PlantB     CNdist     PlantComp\n",
       "1 75-062 75-062 0.00000000 75-062-75-062\n",
       "2  ABUTH 75-062 0.47818058  ABUTH-75-062\n",
       "3  AMAPO 75-062 0.40194027  AMAPO-75-062\n",
       "4    B73 75-062 0.11937512    B73-75-062\n",
       "5    B97 75-062 0.06673497    B97-75-062\n",
       "6  ECHCG 75-062 0.15230609  ECHCG-75-062\n",
       "  PlantA PlantB      Ndist     PlantComp\n",
       "1 75-062 75-062 0.00000000 75-062-75-062\n",
       "2  ABUTH 75-062 0.72968730  ABUTH-75-062\n",
       "3  AMAPO 75-062 0.93428683  AMAPO-75-062\n",
       "4    B73 75-062 0.02394235    B73-75-062\n",
       "5    B97 75-062 0.19012685    B97-75-062\n",
       "6  ECHCG 75-062 0.25773331  ECHCG-75-062\n",
       "  PlantA PlantB     SSdist     PlantComp\n",
       "1 75-062 75-062 0.00000000 75-062-75-062\n",
       "2  ABUTH 75-062 3.14091428  ABUTH-75-062\n",
       "3  AMAPO 75-062 6.11602727  AMAPO-75-062\n",
       "4    B73 75-062 0.40546511    B73-75-062\n",
       "5    B97 75-062 0.07796154    B97-75-062\n",
       "6  ECHCG 75-062 4.94525253  ECHCG-75-062\n",
       "  PlantA PlantB     CNdist     PlantComp      Ndist     SSdist\n",
       "1 75-062 75-062 0.00000000 75-062-75-062 0.00000000 0.00000000\n",
       "2  ABUTH 75-062 0.47818058  ABUTH-75-062 0.72968730 3.14091428\n",
       "3  AMAPO 75-062 0.40194027  AMAPO-75-062 0.93428683 6.11602727\n",
       "4    B73 75-062 0.11937512    B73-75-062 0.02394235 0.40546511\n",
       "5    B97 75-062 0.06673497    B97-75-062 0.19012685 0.07796154\n",
       "6  ECHCG 75-062 0.15230609  ECHCG-75-062 0.25773331 4.94525253\n"
      ]
     },
     "metadata": {},
     "output_type": "display_data"
    }
   ],
   "source": [
    "%%R\n",
    "## Create functional distance variables\n",
    "sd.m = group_by(sd,Plant) %>%\n",
    "    summarize(SS = mean(SeedSize_mg),\n",
    "                CN = mean(A_Resid_logCN),\n",
    "                 N = mean(A_Resid_logN),\n",
    "                 Day = first(DAP)) %>%\n",
    "    as.data.frame()\n",
    "rownames(sd.m) = as.character(sd.m$Plant)\n",
    "\n",
    "\n",
    "#measure distances on residCN\n",
    "CNdist = dist(sd.m %>% select(CN), method = \"euclidian\")\n",
    "    #melt matrix\n",
    "    CN.m = melt(as.matrix(CNdist))\n",
    "\n",
    "    #set column names and create comparison column\n",
    "     colnames(CN.m) = c(\"PlantA\", \"PlantB\", \"CNdist\")\n",
    "    CN.m$PlantComp = paste(CN.m$PlantA, CN.m$PlantB, sep = \"-\")\n",
    "    CN.m %>% head %>% print\n",
    "\n",
    "#measure distances on residBiomass\n",
    "Ndist = dist(sd.m %>% select(N), method = \"euclidian\")\n",
    "    #melt matrix\n",
    "    N.m = melt(as.matrix(Ndist))\n",
    "\n",
    "    #set column names and create comparison column\n",
    "     colnames(N.m) = c(\"PlantA\", \"PlantB\", \"Ndist\")\n",
    "    N.m$PlantComp = paste(N.m$PlantA, N.m$PlantB, sep = \"-\")\n",
    "    N.m %>% head %>% print\n",
    "\n",
    "# #measure distances on Seed Size\n",
    "sd.m$logSS = log(sd.m$SS)\n",
    "\n",
    "SSdist = dist(sd.m %>% select(logSS), method = \"euclidian\")\n",
    "    #melt matrix\n",
    "    SS.m = melt(as.matrix(SSdist))\n",
    "\n",
    "    #set column names and create comparison column\n",
    "     colnames(SS.m) = c(\"PlantA\", \"PlantB\", \"SSdist\")\n",
    "    SS.m$PlantComp = paste(SS.m$PlantA, SS.m$PlantB, sep = \"-\")\n",
    "    SS.m %>% head %>% print\n",
    "\n",
    "\n",
    "Fun.m = left_join(CN.m, N.m[,c(3,4)], by = \"PlantComp\")\n",
    "Fun.m = left_join(Fun.m, SS.m[,c(3,4)], by = \"PlantComp\")\n",
    "head(Fun.m)"
   ]
  },
  {
   "cell_type": "markdown",
   "metadata": {},
   "source": [
    "### Join distance tables"
   ]
  },
  {
   "cell_type": "code",
   "execution_count": 15,
   "metadata": {},
   "outputs": [
    {
     "data": {
      "text/plain": [
       "[1] \"PlantA\"      \"PlantB\"      \"w_Unif_Dist\"\n"
      ]
     },
     "metadata": {},
     "output_type": "display_data"
    }
   ],
   "source": [
    "%%R\n",
    "colnames(ud.m)"
   ]
  },
  {
   "cell_type": "code",
   "execution_count": 16,
   "metadata": {},
   "outputs": [
    {
     "data": {
      "text/plain": [
       "   PlantA PlantB w_Unif_Dist    PlantComp\n",
       "23 75-062  ABUTH   0.1657071 75-062-ABUTH\n",
       "45 75-062  AMAPO   0.1988700 75-062-AMAPO\n",
       "46  ABUTH  AMAPO   0.1532747  ABUTH-AMAPO\n",
       "67 75-062    B73   0.1545134   75-062-B73\n",
       "68  ABUTH    B73   0.1923347    ABUTH-B73\n",
       "69  AMAPO    B73   0.1979983    AMAPO-B73\n"
      ]
     },
     "metadata": {},
     "output_type": "display_data"
    }
   ],
   "source": [
    "%%R\n",
    "# #Add plant names to melted unifrac table\n",
    "# ud.m = left_join(ud.m, sd[, c(1,9)], by = c(\"PlotA\" = \"X.sample\"))\n",
    "# head(ud.m) %>% print\n",
    "# colnames(ud.m)[4] = \"PlantA\"\n",
    "\n",
    "# ud.m = left_join(ud.m, sd[, c(1,9)], by = c(\"PlotB\" = \"X.sample\"))\n",
    "# head(ud.m) %>% print\n",
    "# colnames(ud.m)[5] = \"PlantB\"\n",
    "# ud.m$PlantComp = paste(ud.m$PlantA, ud.m$PlantB, sep = \"-\")\n",
    "\n",
    "#Create Plant-Plant variable for joining with functional distance matrix\n",
    "ud.m$PlantComp = paste(ud.m$PlantA, ud.m$PlantB, sep = \"-\")\n",
    "head(ud.m) %>% print"
   ]
  },
  {
   "cell_type": "markdown",
   "metadata": {},
   "source": [
    "### Join with plant phylogenetic distance and functional distance"
   ]
  },
  {
   "cell_type": "code",
   "execution_count": 17,
   "metadata": {},
   "outputs": [
    {
     "data": {
      "text/plain": [
       "[1] \"PlantA\"    \"PlantB\"    \"CNdist\"    \"PlantComp\" \"Ndist\"     \"SSdist\"   \n"
      ]
     },
     "metadata": {},
     "output_type": "display_data"
    }
   ],
   "source": [
    "%%R\n",
    "colnames(Fun.m)"
   ]
  },
  {
   "cell_type": "code",
   "execution_count": 18,
   "metadata": {},
   "outputs": [
    {
     "data": {
      "text/plain": [
       "[1] \"PlantA\"    \"PlantB\"    \"phy_Dist\"  \"PlantComp\"\n"
      ]
     },
     "metadata": {},
     "output_type": "display_data"
    }
   ],
   "source": [
    "%%R\n",
    "colnames(pd.m)"
   ]
  },
  {
   "cell_type": "code",
   "execution_count": 19,
   "metadata": {},
   "outputs": [
    {
     "data": {
      "text/plain": [
       "        Plant     SS          CN          N Day      logSS\n",
       "75-062 75-062 222.00  0.38690305 -0.5568486  72  5.4026774\n",
       "ABUTH   ABUTH   9.60 -0.09127753  0.1728387  57  2.2617631\n",
       "AMAPO   AMAPO   0.49 -0.01503722  0.3774382  53 -0.7133499\n",
       "B73       B73 333.00  0.50627817 -0.5807910  79  5.8081425\n",
       "B97       B97 240.00  0.32016808 -0.7469755  79  5.4806389\n",
       "ECHCG   ECHCG   1.58  0.23459696 -0.2991153  53  0.4574248\n"
      ]
     },
     "metadata": {},
     "output_type": "display_data"
    }
   ],
   "source": [
    "%%R\n",
    "sd.m %>% head"
   ]
  },
  {
   "cell_type": "code",
   "execution_count": 20,
   "metadata": {},
   "outputs": [
    {
     "data": {
      "text/plain": [
       "    PlantA PlantB w_Unif_Dist    PlantComp phy_Dist\n",
       "226   Mo18  Tx303   0.1619509   Mo18-Tx303  0.00020\n",
       "227   MS71  Tx303   0.1264014   MS71-Tx303  0.00020\n",
       "228   Oh7B  Tx303   0.1300086   Oh7B-Tx303  0.00020\n",
       "229  SETFA  Tx303   0.1402334  SETFA-Tx303  0.03111\n",
       "230  SORBI  Tx303   0.1867076  SORBI-Tx303  0.01153\n",
       "231 SORSUD  Tx303   0.2395445 SORSUD-Tx303  0.01153\n",
       "    PlantA PlantB w_Unif_Dist    PlantComp phy_Dist DAY_A\n",
       "226   Mo18  Tx303   0.1619509   Mo18-Tx303  0.00020    88\n",
       "227   MS71  Tx303   0.1264014   MS71-Tx303  0.00020    72\n",
       "228   Oh7B  Tx303   0.1300086   Oh7B-Tx303  0.00020    79\n",
       "229  SETFA  Tx303   0.1402334  SETFA-Tx303  0.03111    61\n",
       "230  SORBI  Tx303   0.1867076  SORBI-Tx303  0.01153    84\n",
       "231 SORSUD  Tx303   0.2395445 SORSUD-Tx303  0.01153    84\n",
       "    PlantA PlantB w_Unif_Dist    PlantComp phy_Dist DAY_A DAY_B\n",
       "226   Mo18  Tx303   0.1619509   Mo18-Tx303  0.00020    88    88\n",
       "227   MS71  Tx303   0.1264014   MS71-Tx303  0.00020    72    88\n",
       "228   Oh7B  Tx303   0.1300086   Oh7B-Tx303  0.00020    79    88\n",
       "229  SETFA  Tx303   0.1402334  SETFA-Tx303  0.03111    61    88\n",
       "230  SORBI  Tx303   0.1867076  SORBI-Tx303  0.01153    84    88\n",
       "231 SORSUD  Tx303   0.2395445 SORSUD-Tx303  0.01153    84    88\n"
      ]
     },
     "metadata": {},
     "output_type": "display_data"
    }
   ],
   "source": [
    "%%R\n",
    "Dist = left_join(ud.m, pd.m[,c(3,4)], by = \"PlantComp\")\n",
    "tail(Dist) %>% print\n",
    "\n",
    "\n",
    "# Join DAP information and library information\n",
    "Dist = left_join(Dist, sd.m[,c(1,5)], by = c(\"PlantA\"= \"Plant\"))\n",
    "colnames(Dist)[6] = c(\"DAY_A\")\n",
    "tail(Dist) %>% print\n",
    "\n",
    "Dist = left_join(Dist, sd.m[,c(1,5)], by = c(\"PlantB\" = \"Plant\"))\n",
    "colnames(Dist)[7] = c(\"DAY_B\")\n",
    "tail(Dist) %>% print\n",
    "\n",
    "# set DAY_A and DAY_B as factor\n",
    "Dist$TimeDist = abs(as.numeric(as.character(Dist$DAY_A)) - as.numeric(as.character(Dist$DAY_B)))\n",
    "\n",
    "Dist = left_join(Dist, Fun.m[,3:6], by = \"PlantComp\")"
   ]
  },
  {
   "cell_type": "markdown",
   "metadata": {},
   "source": [
    "### Add date variable to seperate analyses by date comparison"
   ]
  },
  {
   "cell_type": "code",
   "execution_count": 21,
   "metadata": {},
   "outputs": [
    {
     "data": {
      "text/plain": [
       " [1] \"57-72\" \"53-72\" \"53-57\" \"72-79\" \"57-79\" \"53-79\" \"79-79\" \"53-53\" \"72-88\"\n",
       "[10] \"57-88\" \"53-88\" \"79-88\" \"72-72\" \"36-72\" \"36-57\" \"36-53\" \"36-79\" \"36-88\"\n",
       "[19] \"57-57\" \"72-84\" \"57-84\" \"53-84\" \"79-84\" \"84-88\" \"36-84\" \"88-88\" \"61-72\"\n",
       "[28] \"57-61\" \"53-61\" \"61-79\" \"61-88\" \"36-61\" \"61-84\" \"84-84\"\n"
      ]
     },
     "metadata": {},
     "output_type": "display_data"
    }
   ],
   "source": [
    "%%R\n",
    "Dist$DateCombo = ifelse(as.numeric(as.character(Dist$DAY_A)) < as.numeric(as.character(Dist$DAY_B)),\n",
    "                                                                    paste(Dist$DAY_A, Dist$DAY_B, sep = \"-\"), \n",
    "                                                                   paste(Dist$DAY_B, Dist$DAY_A, sep = \"-\"))\n",
    "Dist$DateCombo %>% unique"
   ]
  },
  {
   "cell_type": "markdown",
   "metadata": {},
   "source": [
    "* which date combos do not have multiple comparisons"
   ]
  },
  {
   "cell_type": "code",
   "execution_count": 22,
   "metadata": {},
   "outputs": [
    {
     "data": {
      "text/plain": [
       "[1] \"53-53\" \"57-57\" \"36-61\"\n"
      ]
     },
     "metadata": {},
     "output_type": "display_data"
    }
   ],
   "source": [
    "%%R\n",
    "Dist %>%\n",
    "    group_by(DateCombo) %>%\n",
    "    mutate(n = length(PlantComp)) %>%\n",
    "    ungroup %>%\n",
    "    as.data.frame() %>%\n",
    "    filter(n == 1) %>%\n",
    "    .$DateCombo"
   ]
  },
  {
   "cell_type": "code",
   "execution_count": 23,
   "metadata": {},
   "outputs": [],
   "source": [
    "%%R\n",
    "SubDist = Dist %>%\n",
    "    group_by(DateCombo) %>%\n",
    "    mutate(n = length(PlantComp)) %>%\n",
    "    ungroup %>%\n",
    "    as.data.frame() %>%\n",
    "    filter(n > 1)"
   ]
  },
  {
   "cell_type": "code",
   "execution_count": 24,
   "metadata": {},
   "outputs": [
    {
     "data": {
      "text/plain": [
       "[1] 228  13\n"
      ]
     },
     "metadata": {},
     "output_type": "display_data"
    }
   ],
   "source": [
    "%%R\n",
    "dim(SubDist)"
   ]
  },
  {
   "cell_type": "markdown",
   "metadata": {},
   "source": [
    "## Build corMLPE models"
   ]
  },
  {
   "cell_type": "markdown",
   "metadata": {},
   "source": [
    "* Null model"
   ]
  },
  {
   "cell_type": "code",
   "execution_count": 102,
   "metadata": {},
   "outputs": [
    {
     "data": {
      "text/plain": [
       "Generalized least squares fit by maximum likelihood\n",
       "  Model: w_Unif_Dist ~ 1 \n",
       "  Data: SubDist \n",
       "        AIC       BIC   logLik\n",
       "  -735.6364 -725.3484 370.8182\n",
       "\n",
       "Correlation Structure: corMLPE\n",
       " Formula: ~PlantA + PlantB \n",
       " Parameter estimate(s):\n",
       "      Rho \n",
       "0.2691344 \n",
       "\n",
       "Coefficients:\n",
       "                Value Std.Error  t-value p-value\n",
       "(Intercept) 0.2008419 0.0140029 14.34288       0\n",
       "\n",
       "Standardized residuals:\n",
       "        Min          Q1         Med          Q3         Max \n",
       "-1.84699530 -0.73778114 -0.03890198  0.58335744  3.17699334 \n",
       "\n",
       "Residual standard error: 0.0618937 \n",
       "Degrees of freedom: 228 total; 227 residual\n"
      ]
     },
     "metadata": {},
     "output_type": "display_data"
    }
   ],
   "source": [
    "%%R\n",
    "fitNull <- gls(w_Unif_Dist ~ 1,  correlation = corMLPE(form= ~ PlantA + PlantB), \n",
    "               data = SubDist, method = \"ML\")\n",
    "summary(fitNull) %>% print"
   ]
  },
  {
   "cell_type": "code",
   "execution_count": 95,
   "metadata": {},
   "outputs": [
    {
     "data": {
      "text/plain": [
       "Denom. DF: 197 \n",
       "            numDF  F-value p-value\n",
       "(Intercept)     1 399.3045  <.0001\n",
       "DateCombo      30   5.4413  <.0001\n"
      ]
     },
     "metadata": {},
     "output_type": "display_data"
    }
   ],
   "source": [
    "%%R\n",
    "fit1 <- gls(w_Unif_Dist ~ DateCombo, correlation = corMLPE(form= ~ PlantA + PlantB), \n",
    "               data = SubDist, method = \"ML\")\n",
    "anova(fit1) %>% print"
   ]
  },
  {
   "cell_type": "code",
   "execution_count": 96,
   "metadata": {},
   "outputs": [
    {
     "data": {
      "text/plain": [
       "Denom. DF: 196 \n",
       "            numDF  F-value p-value\n",
       "(Intercept)     1 529.2398  <.0001\n",
       "DateCombo      30   5.6801  <.0001\n",
       "phy_Dist        1   6.9777  0.0089\n"
      ]
     },
     "metadata": {},
     "output_type": "display_data"
    }
   ],
   "source": [
    "%%R\n",
    "fit2 <- gls(w_Unif_Dist ~ DateCombo + phy_Dist, correlation = corMLPE(form= ~ PlantA + PlantB),\n",
    "            data = SubDist, method = \"ML\")\n",
    "anova(fit2) %>% print"
   ]
  },
  {
   "cell_type": "code",
   "execution_count": 99,
   "metadata": {
    "scrolled": true
   },
   "outputs": [
    {
     "data": {
      "text/plain": [
       "Denom. DF: 195 \n",
       "                  numDF  F-value p-value\n",
       "(Intercept)           1 593.5486  <.0001\n",
       "DateCombo            30   5.8565  <.0001\n",
       "poly(phy_Dist, 2)     2   6.5880  0.0017\n"
      ]
     },
     "metadata": {},
     "output_type": "display_data"
    }
   ],
   "source": [
    "%%R\n",
    "fit3 <- gls(w_Unif_Dist ~ DateCombo + poly(phy_Dist,2), correlation = corMLPE(form= ~ PlantA + PlantB),\n",
    "            data = SubDist, method = \"ML\")\n",
    "anova(fit3)"
   ]
  },
  {
   "cell_type": "code",
   "execution_count": 116,
   "metadata": {},
   "outputs": [
    {
     "data": {
      "text/plain": [
       "        Model df       AIC       BIC   logLik   Test   L.Ratio p-value\n",
       "fitNull     1  3 -735.6364 -725.3484 370.8182                         \n",
       "fit1        2 33 -812.7670 -699.5986 439.3835 1 vs 2 137.13062  <.0001\n",
       "fit3        3 35 -822.2642 -702.2371 446.1321 2 vs 3  13.49719  0.0012\n"
      ]
     },
     "metadata": {},
     "output_type": "display_data"
    }
   ],
   "source": [
    "%%R\n",
    "anova(fitNull,fit1, fit3)"
   ]
  },
  {
   "cell_type": "code",
   "execution_count": 106,
   "metadata": {},
   "outputs": [
    {
     "data": {
      "text/plain": [
       "[1] \"DateCombo R2: 0.451983619898929\"\n",
       "[1] \"PhyDist R2: 0.0312099495596723\"\n",
       "[1] \"PhyDist^2 R2: 0.0574800496377875\"\n"
      ]
     },
     "metadata": {},
     "output_type": "display_data"
    }
   ],
   "source": [
    "%%R\n",
    "fit1R = MuMIn::r.squaredLR(fit1, null = fitNull)\n",
    "fit2R = MuMIn::r.squaredLR(fit2, null = fit1)\n",
    "fit3R = MuMIn::r.squaredLR(fit3, null = fit1)\n",
    "paste(\"DateCombo R2:\", fit1R) %>% print\n",
    "paste(\"PhyDist R2:\", fit2R) %>% print\n",
    "paste(\"PhyDist^2 R2:\", fit3R) %>% print"
   ]
  },
  {
   "cell_type": "markdown",
   "metadata": {},
   "source": [
    "### get coefficients"
   ]
  },
  {
   "cell_type": "code",
   "execution_count": 107,
   "metadata": {},
   "outputs": [
    {
     "data": {
      "text/plain": [
       "Generalized least squares fit by maximum likelihood\n",
       "  Model: w_Unif_Dist ~ I(phy_Dist) + I(phy_Dist^2) \n",
       "  Data: SubDist \n",
       "        AIC       BIC   logLik\n",
       "  -750.8057 -733.6589 380.4028\n",
       "\n",
       "Correlation Structure: corMLPE\n",
       " Formula: ~PlantA + PlantB \n",
       " Parameter estimate(s):\n",
       "      Rho \n",
       "0.1842508 \n",
       "\n",
       "Coefficients:\n",
       "                   Value Std.Error   t-value p-value\n",
       "(Intercept)    0.1660867 0.0122310 13.579193   0e+00\n",
       "I(phy_Dist)    0.7380540 0.1764112  4.183713   0e+00\n",
       "I(phy_Dist^2) -1.4453806 0.3861995 -3.742575   2e-04\n",
       "\n",
       " Correlation: \n",
       "              (Intr) I(p_D)\n",
       "I(phy_Dist)   -0.491       \n",
       "I(phy_Dist^2)  0.442 -0.989\n",
       "\n",
       "Standardized residuals:\n",
       "      Min        Q1       Med        Q3       Max \n",
       "-2.025848 -0.748187 -0.105398  0.611836  3.279085 \n",
       "\n",
       "Residual standard error: 0.05227864 \n",
       "Degrees of freedom: 228 total; 225 residual\n"
      ]
     },
     "metadata": {},
     "output_type": "display_data"
    }
   ],
   "source": [
    "%%R\n",
    "fit2a <- gls(w_Unif_Dist ~ I(phy_Dist) + I(phy_Dist^2),correlation = corMLPE(form= ~ PlantA + PlantB),\n",
    "            data = SubDist, method = \"ML\")\n",
    "summary(fit2a) %>% print"
   ]
  },
  {
   "cell_type": "code",
   "execution_count": 119,
   "metadata": {},
   "outputs": [
    {
     "data": {
      "text/plain": [
       "        Model df       AIC       BIC   logLik   Test  L.Ratio p-value\n",
       "fitNull     1  3 -735.6364 -725.3484 370.8182                        \n",
       "fit2a       2  5 -750.8057 -733.6589 380.4028 1 vs 2 19.16925   1e-04\n"
      ]
     },
     "metadata": {},
     "output_type": "display_data"
    }
   ],
   "source": [
    "%%R\n",
    "anova(fitNull, fit2a)"
   ]
  },
  {
   "cell_type": "code",
   "execution_count": 117,
   "metadata": {},
   "outputs": [
    {
     "data": {
      "text/plain": [
       "[1] \"PhyDist^2, not controlling for date R2: 0.0806383188404307\"\n"
      ]
     },
     "metadata": {},
     "output_type": "display_data"
    }
   ],
   "source": [
    "%%R\n",
    "fit2aR = MuMIn::r.squaredLR(fit2a, null = fitNull)\n",
    "paste(\"PhyDist^2, not controlling for date R2:\", fit2aR) %>% print"
   ]
  },
  {
   "cell_type": "markdown",
   "metadata": {},
   "source": [
    "# MLPE when intra-specific comparisons are removed"
   ]
  },
  {
   "cell_type": "code",
   "execution_count": 120,
   "metadata": {},
   "outputs": [
    {
     "data": {
      "text/plain": [
       "  PlantA PlantB w_Unif_Dist    PlantComp phy_Dist DAY_A DAY_B TimeDist\n",
       "1 75-062  ABUTH   0.1657071 75-062-ABUTH  0.35681    72    57       15\n",
       "2 75-062  AMAPO   0.1988700 75-062-AMAPO  0.39437    72    53       19\n",
       "3  ABUTH  AMAPO   0.1532747  ABUTH-AMAPO  0.22746    57    53        4\n",
       "4 75-062    B73   0.1545134   75-062-B73  0.00020    72    79        7\n",
       "5  ABUTH    B73   0.1923347    ABUTH-B73  0.35681    57    79       22\n",
       "6  AMAPO    B73   0.1979983    AMAPO-B73  0.39437    53    79       26\n",
       "      CNdist      Ndist    SSdist DateCombo  n\n",
       "1 0.47818058 0.72968730 3.1409143     57-72 10\n",
       "2 0.40194027 0.93428683 6.1160273     53-72 10\n",
       "3 0.07624031 0.20459953 2.9751130     53-57  4\n",
       "4 0.11937512 0.02394235 0.4054651     72-79  8\n",
       "5 0.59755570 0.75362964 3.5463794     57-79  8\n",
       "6 0.52131539 0.95822918 6.5214924     53-79  8\n"
      ]
     },
     "metadata": {},
     "output_type": "display_data"
    }
   ],
   "source": [
    "%%R\n",
    "\n",
    "maize = c(\"B73\", \"MS71\", \"Mo18\", \"Il14H\", \"Tx303\", \"Oh7B\",\n",
    "         \"B97\", \"Hp301\", \"75-062\", \"Ki3\", \"H99\")\n",
    "\n",
    "MaizeCompList = filter(SubDist, PlantA %in% maize & PlantB %in% maize) %>%\n",
    "                    .$PlantComp %>%\n",
    "                    unique()\n",
    "\n",
    "SubDist_nss = filter(SubDist, !PlantComp %in% MaizeCompList) %>%\n",
    "          group_by(DateCombo) %>%\n",
    "          mutate(n = length(PlantComp)) %>%\n",
    "          ungroup %>%\n",
    "          as.data.frame() %>%\n",
    "          filter(n > 1)\n",
    "SubDist_nss %>% head"
   ]
  },
  {
   "cell_type": "code",
   "execution_count": 109,
   "metadata": {},
   "outputs": [
    {
     "data": {
      "text/plain": [
       "Generalized least squares fit by maximum likelihood\n",
       "  Model: w_Unif_Dist ~ 1 \n",
       "  Data: SubDist_nss \n",
       "        AIC       BIC   logLik\n",
       "  -537.8867 -528.4268 271.9434\n",
       "\n",
       "Correlation Structure: corMLPE\n",
       " Formula: ~PlantA + PlantB \n",
       " Parameter estimate(s):\n",
       "      Rho \n",
       "0.1775846 \n",
       "\n",
       "Coefficients:\n",
       "                Value  Std.Error  t-value p-value\n",
       "(Intercept) 0.2100701 0.01089179 19.28701       0\n",
       "\n",
       "Standardized residuals:\n",
       "        Min          Q1         Med          Q3         Max \n",
       "-2.05273786 -0.59687662  0.05921698  0.71228488  3.32154441 \n",
       "\n",
       "Residual standard error: 0.05642186 \n",
       "Degrees of freedom: 173 total; 172 residual\n"
      ]
     },
     "metadata": {},
     "output_type": "display_data"
    }
   ],
   "source": [
    "%%R\n",
    "fitNull_nss <- gls(w_Unif_Dist ~ 1, correlation = corMLPE(form= ~ PlantA + PlantB), \n",
    "               data = SubDist_nss, method = \"ML\")\n",
    "summary(fitNull_nss) %>% print"
   ]
  },
  {
   "cell_type": "code",
   "execution_count": 110,
   "metadata": {},
   "outputs": [
    {
     "data": {
      "text/plain": [
       "         Model df       AIC       BIC   logLik   Test L.Ratio p-value\n",
       "fita_nss     1 32 -589.8725 -488.9672 326.9363                       \n",
       "fitb_nss     2 33 -595.8036 -491.7449 330.9018 1 vs 2 7.93104  0.0049\n"
      ]
     },
     "metadata": {},
     "output_type": "display_data"
    }
   ],
   "source": [
    "%%R\n",
    "fita_nss = gls(w_Unif_Dist ~ DateCombo, correlation = corMLPE(form= ~ PlantA + PlantB), \n",
    "               data = SubDist_nss, method = \"ML\")\n",
    "fitb_nss = gls(w_Unif_Dist ~ DateCombo + phy_Dist, correlation = corMLPE(form= ~ PlantA + PlantB), \n",
    "               data = SubDist_nss, method = \"ML\")\n",
    "anova(fita_nss, fitb_nss)"
   ]
  },
  {
   "cell_type": "code",
   "execution_count": 112,
   "metadata": {},
   "outputs": [
    {
     "data": {
      "text/plain": [
       "Denom. DF: 141 \n",
       "                  numDF  F-value p-value\n",
       "(Intercept)           1 819.8844  <.0001\n",
       "DateCombo            29   4.5737  <.0001\n",
       "poly(phy_Dist, 2)     2   4.9656  0.0082\n"
      ]
     },
     "metadata": {},
     "output_type": "display_data"
    }
   ],
   "source": [
    "%%R\n",
    "fitc_nss <- gls(w_Unif_Dist ~ DateCombo + poly(phy_Dist,2), correlation = corMLPE(form= ~ PlantA + PlantB), \n",
    "               data = SubDist_nss, method = \"ML\")\n",
    "anova(fitc_nss) %>% print"
   ]
  },
  {
   "cell_type": "code",
   "execution_count": 113,
   "metadata": {},
   "outputs": [
    {
     "data": {
      "text/plain": [
       "            Model df       AIC       BIC   logLik   Test   L.Ratio p-value\n",
       "fitNull_nss     1  3 -537.8867 -528.4268 271.9434                         \n",
       "fita_nss        2 32 -589.8725 -488.9672 326.9363 1 vs 2 109.98581  <.0001\n",
       "fitb_nss        3 33 -595.8036 -491.7449 330.9018 2 vs 3   7.93104  0.0049\n",
       "fitc_nss        4 34 -595.9886 -488.7767 331.9943 3 vs 4   2.18501  0.1394\n"
      ]
     },
     "metadata": {},
     "output_type": "display_data"
    }
   ],
   "source": [
    "%%R\n",
    "anova(fitNull_nss, fita_nss, fitb_nss, fitc_nss)"
   ]
  },
  {
   "cell_type": "code",
   "execution_count": 115,
   "metadata": {},
   "outputs": [
    {
     "data": {
      "text/plain": [
       "[1] \"date combo R2: 0.470465071595784\"\n",
       "[1] \"PhyDist R2: 0.0448091967912523\"\n",
       "[1] \"PhyDist^2 R2: 0.0567974967240149\"\n"
      ]
     },
     "metadata": {},
     "output_type": "display_data"
    }
   ],
   "source": [
    "%%R\n",
    "fitaR = MuMIn::r.squaredLR(fita_nss, null = fitNull_nss)\n",
    "fitbR = MuMIn::r.squaredLR(fitb_nss, null = fita_nss)\n",
    "fitcR = MuMIn::r.squaredLR(fitc_nss, null = fita_nss)\n",
    "paste(\"date combo R2:\", fitaR) %>% print\n",
    "paste(\"PhyDist R2:\", fitbR) %>% print\n",
    "paste(\"PhyDist^2 R2:\", fitcR) %>% print"
   ]
  },
  {
   "cell_type": "markdown",
   "metadata": {},
   "source": [
    "# Graphs"
   ]
  },
  {
   "cell_type": "code",
   "execution_count": 69,
   "metadata": {
    "collapsed": true
   },
   "outputs": [],
   "source": [
    "%%R\n",
    "theme_pub = function (base_size = 11, base_family = \"Helvetica\") \n",
    "{\n",
    "    theme_grey(base_size = base_size, base_family = base_family) %+replace% \n",
    "        theme(\n",
    "            axis.line.x = element_line(size = .5),\n",
    "            axis.line.y = element_line(size = .5),\n",
    "            panel.background = element_rect(fill = \"white\", colour = NA), \n",
    "            panel.border = element_rect(fill = NA, color = \"black\", size = .5), \n",
    "            panel.grid.major = element_blank(), \n",
    "            panel.grid.minor = element_blank(), \n",
    "            strip.background = element_rect(fill = \"grey85\", \n",
    "                colour = \"grey20\"), \n",
    "            legend.key = element_rect(fill = \"white\", \n",
    "                colour = NA), complete = TRUE)\n",
    "    }"
   ]
  },
  {
   "cell_type": "code",
   "execution_count": 70,
   "metadata": {},
   "outputs": [
    {
     "data": {
      "image/png": "[encoded data removed]"
     },
     "metadata": {},
     "output_type": "display_data"
    }
   ],
   "source": [
    "%%R\n",
    "p = ggplot(SubDist, aes(x = phy_Dist, y = w_Unif_Dist))\n",
    "           p = p + geom_point()\n",
    "            p = p + theme_pub()\n",
    "        p = p + stat_smooth(method = \"lm\", se = FALSE)\n",
    "           p = p + facet_wrap(~DateCombo)\n",
    "p"
   ]
  },
  {
   "cell_type": "markdown",
   "metadata": {},
   "source": [
    "## Phylogenetic distance graph"
   ]
  },
  {
   "cell_type": "markdown",
   "metadata": {},
   "source": [
    "* Use full dataset"
   ]
  },
  {
   "cell_type": "code",
   "execution_count": 42,
   "metadata": {},
   "outputs": [
    {
     "data": {
      "text/plain": [
       "[1] \"(Intercept)\"   \"I(phy_Dist)\"   \"I(phy_Dist^2)\"\n",
       "                   lower       est.      upper\n",
       "(Intercept)    0.1486324  0.1665771  0.1845219\n",
       "I(phy_Dist)    0.2705303  0.5146473  0.7587642\n",
       "I(phy_Dist^2) -1.4193849 -0.8623024 -0.3052200\n"
      ]
     },
     "metadata": {},
     "output_type": "display_data"
    }
   ],
   "source": [
    "%%R\n",
    "# get coefficients from phylogenetic model\n",
    "i2a = intervals(fit2a)$fixed %>% as.data.frame()\n",
    "rownames(i2a) %>%print\n",
    "\n",
    "i2a"
   ]
  },
  {
   "cell_type": "code",
   "execution_count": 127,
   "metadata": {
    "scrolled": true
   },
   "outputs": [
    {
     "data": {
      "image/png": "[encoded data removed]"
     },
     "metadata": {},
     "output_type": "display_data"
    }
   ],
   "source": [
    "%%R -w 800 -h 600\n",
    "\n",
    "\n",
    "\n",
    "test <- function(x) {i2a$est[3]*x^2 + i2a$est[2]*x + i2a$est[1]}\n",
    "test.semin <- function(x) {i2a$lower[3]*x^2 + i2a$lower[2]*x + i2a$lower[1]}\n",
    "test.semax <- function(x) {i2a$upper[3]*x^2 + i2a$upper[2]*x + i2a$upper[1]}\n",
    "\n",
    "\n",
    "# test <- function(x) {0.09933092*x + 0.20839614}\n",
    "# test.semin <- function(x) {0.0487613*x +  0.1784336}\n",
    "# test.semax <- function(x) {0.1499005*x + 0.2383587}\n",
    "\n",
    "p = ggplot(SubDist, aes(y = w_Unif_Dist, x = phy_Dist)) \n",
    "p = p + geom_point(pch = 21) #aes(size = phy_Dist), shape = 1)\n",
    "#p = p + stat_smooth(method = \"lm\", se = FALSE)\n",
    "p = p + theme_pub()\n",
    "p = p + ylim(c(.095,.55))\n",
    "#p = p + theme(panel.border = element_blank()) \n",
    "#p = p + theme(axis.line.x = element_line(color=\"black\", size = 1),\n",
    " #   axis.line.y = element_line(color=\"black\", size = 1))\n",
    "\n",
    "# p = p + stat_smooth(method = lm, y ~ poly(x,2), se = TRUE)\n",
    "p = p + stat_function(fun = test)\n",
    "# p = p + stat_function(fun = test.semin, linetype = \"dashed\")\n",
    "# p = p + stat_function(fun = test.semax, linetype = \"dashed\")\n",
    "# p = p + stat_smooth(method = \"lm\", se = FALSE)\n",
    "p = p + labs(x = \"Plant phylogenetic distance\")\n",
    "p = p + labs(y = \"Weighted-UniFrac distance\")\n",
    "\n",
    "p"
   ]
  },
  {
   "cell_type": "markdown",
   "metadata": {},
   "source": [
    "### save file in grid arrange to allow for easy join to remainder of panel graph"
   ]
  },
  {
   "cell_type": "code",
   "execution_count": 128,
   "metadata": {},
   "outputs": [
    {
     "data": {
      "image/png": "[encoded data removed]"
     },
     "metadata": {},
     "output_type": "display_data"
    }
   ],
   "source": [
    "%%R\n",
    "grid.arrange(p,p,p,p, ncol = 2)"
   ]
  },
  {
   "cell_type": "code",
   "execution_count": 129,
   "metadata": {},
   "outputs": [
    {
     "data": {
      "text/plain": [
       "png \n",
       "  2 \n"
      ]
     },
     "metadata": {},
     "output_type": "display_data"
    }
   ],
   "source": [
    "%%R\n",
    "svg(filename = '/home/bryan/RhizCG/figures/ms_figures/betaDiversity_JustPhylogenetic_revised.svg', width = 7.08, height = 5)\n",
    "grid.arrange(p,p,p,p, ncol = 2)\n",
    "dev.off()"
   ]
  }
 ],
 "metadata": {
  "hide_input": false,
  "kernelspec": {
   "display_name": "Python 3",
   "language": "python",
   "name": "python3"
  },
  "language_info": {
   "codemirror_mode": {
    "name": "ipython",
    "version": 3
   },
   "file_extension": ".py",
   "mimetype": "text/x-python",
   "name": "python",
   "nbconvert_exporter": "python",
   "pygments_lexer": "ipython3",
   "version": "3.6.1"
  }
 },
 "nbformat": 4,
 "nbformat_minor": 1
}
