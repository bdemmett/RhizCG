{
 "cells": [
  {
   "cell_type": "markdown",
   "metadata": {},
   "source": [
    "# Phylogenetic Distance Calculation from RhizCG 2013"
   ]
  },
  {
   "cell_type": "markdown",
   "metadata": {
    "slideshow": {
     "slide_type": "skip"
    }
   },
   "source": [
    "Test hypotheses on phylogenetic vs functional control of microbial community\n",
    "Use phylogeny created from rbcL and matK in phylogenerator 20160209_phylogeny.tre. \n",
    "Test hypothesis on overall dataset, then subgroups"
   ]
  },
  {
   "cell_type": "code",
   "execution_count": 1,
   "metadata": {},
   "outputs": [],
   "source": [
    "%load_ext rpy2.ipython"
   ]
  },
  {
   "cell_type": "code",
   "execution_count": 10,
   "metadata": {
    "hide_input": false
   },
   "outputs": [
    {
     "name": "stderr",
     "output_type": "stream",
     "text": [
      "/home/bryan/anaconda3/lib/python3.6/site-packages/rpy2/rinterface/__init__.py:186: RRuntimeWarning: Loading required package: S4Vectors\n",
      "\n",
      "  warnings.warn(x, RRuntimeWarning)\n",
      "/home/bryan/anaconda3/lib/python3.6/site-packages/rpy2/rinterface/__init__.py:186: RRuntimeWarning: Loading required package: stats4\n",
      "\n",
      "  warnings.warn(x, RRuntimeWarning)\n",
      "/home/bryan/anaconda3/lib/python3.6/site-packages/rpy2/rinterface/__init__.py:186: RRuntimeWarning: Loading required package: BiocGenerics\n",
      "\n",
      "  warnings.warn(x, RRuntimeWarning)\n",
      "/home/bryan/anaconda3/lib/python3.6/site-packages/rpy2/rinterface/__init__.py:186: RRuntimeWarning: \n",
      "Attaching package: ‘BiocGenerics’\n",
      "\n",
      "\n",
      "  warnings.warn(x, RRuntimeWarning)\n",
      "/home/bryan/anaconda3/lib/python3.6/site-packages/rpy2/rinterface/__init__.py:186: RRuntimeWarning: The following objects are masked from ‘package:parallel’:\n",
      "\n",
      "    clusterApply, clusterApplyLB, clusterCall, clusterEvalQ,\n",
      "    clusterExport, clusterMap, parApply, parCapply, parLapply,\n",
      "    parLapplyLB, parRapply, parSapply, parSapplyLB\n",
      "\n",
      "\n",
      "  warnings.warn(x, RRuntimeWarning)\n",
      "/home/bryan/anaconda3/lib/python3.6/site-packages/rpy2/rinterface/__init__.py:186: RRuntimeWarning: The following object is masked from ‘package:gridExtra’:\n",
      "\n",
      "    combine\n",
      "\n",
      "\n",
      "  warnings.warn(x, RRuntimeWarning)\n",
      "/home/bryan/anaconda3/lib/python3.6/site-packages/rpy2/rinterface/__init__.py:186: RRuntimeWarning: The following objects are masked from ‘package:dplyr’:\n",
      "\n",
      "    combine, intersect, setdiff, union\n",
      "\n",
      "\n",
      "  warnings.warn(x, RRuntimeWarning)\n",
      "/home/bryan/anaconda3/lib/python3.6/site-packages/rpy2/rinterface/__init__.py:186: RRuntimeWarning: The following objects are masked from ‘package:stats’:\n",
      "\n",
      "    IQR, mad, xtabs\n",
      "\n",
      "\n",
      "  warnings.warn(x, RRuntimeWarning)\n",
      "/home/bryan/anaconda3/lib/python3.6/site-packages/rpy2/rinterface/__init__.py:186: RRuntimeWarning: The following objects are masked from ‘package:base’:\n",
      "\n",
      "    anyDuplicated, append, as.data.frame, cbind, colnames, do.call,\n",
      "    duplicated, eval, evalq, Filter, Find, get, grep, grepl, intersect,\n",
      "    is.unsorted, lapply, lengths, Map, mapply, match, mget, order,\n",
      "    paste, pmax, pmax.int, pmin, pmin.int, Position, rank, rbind,\n",
      "    Reduce, rownames, sapply, setdiff, sort, table, tapply, union,\n",
      "    unique, unsplit, which, which.max, which.min\n",
      "\n",
      "\n",
      "  warnings.warn(x, RRuntimeWarning)\n",
      "/home/bryan/anaconda3/lib/python3.6/site-packages/rpy2/rinterface/__init__.py:186: RRuntimeWarning: \n",
      "Attaching package: ‘S4Vectors’\n",
      "\n",
      "\n",
      "  warnings.warn(x, RRuntimeWarning)\n",
      "/home/bryan/anaconda3/lib/python3.6/site-packages/rpy2/rinterface/__init__.py:186: RRuntimeWarning: The following object is masked from ‘package:tidyr’:\n",
      "\n",
      "    expand\n",
      "\n",
      "\n",
      "  warnings.warn(x, RRuntimeWarning)\n",
      "/home/bryan/anaconda3/lib/python3.6/site-packages/rpy2/rinterface/__init__.py:186: RRuntimeWarning: The following objects are masked from ‘package:dplyr’:\n",
      "\n",
      "    first, rename\n",
      "\n",
      "\n",
      "  warnings.warn(x, RRuntimeWarning)\n",
      "/home/bryan/anaconda3/lib/python3.6/site-packages/rpy2/rinterface/__init__.py:186: RRuntimeWarning: The following object is masked from ‘package:plyr’:\n",
      "\n",
      "    rename\n",
      "\n",
      "\n",
      "  warnings.warn(x, RRuntimeWarning)\n",
      "/home/bryan/anaconda3/lib/python3.6/site-packages/rpy2/rinterface/__init__.py:186: RRuntimeWarning: The following objects are masked from ‘package:base’:\n",
      "\n",
      "    colMeans, colSums, expand.grid, rowMeans, rowSums\n",
      "\n",
      "\n",
      "  warnings.warn(x, RRuntimeWarning)\n",
      "/home/bryan/anaconda3/lib/python3.6/site-packages/rpy2/rinterface/__init__.py:186: RRuntimeWarning: Loading required package: IRanges\n",
      "\n",
      "  warnings.warn(x, RRuntimeWarning)\n",
      "/home/bryan/anaconda3/lib/python3.6/site-packages/rpy2/rinterface/__init__.py:186: RRuntimeWarning: \n",
      "Attaching package: ‘IRanges’\n",
      "\n",
      "\n",
      "  warnings.warn(x, RRuntimeWarning)\n",
      "/home/bryan/anaconda3/lib/python3.6/site-packages/rpy2/rinterface/__init__.py:186: RRuntimeWarning: The following object is masked from ‘package:phyloseq’:\n",
      "\n",
      "    distance\n",
      "\n",
      "\n",
      "  warnings.warn(x, RRuntimeWarning)\n",
      "/home/bryan/anaconda3/lib/python3.6/site-packages/rpy2/rinterface/__init__.py:186: RRuntimeWarning: The following objects are masked from ‘package:dplyr’:\n",
      "\n",
      "    collapse, desc, regroup, slice\n",
      "\n",
      "\n",
      "  warnings.warn(x, RRuntimeWarning)\n",
      "/home/bryan/anaconda3/lib/python3.6/site-packages/rpy2/rinterface/__init__.py:186: RRuntimeWarning: The following object is masked from ‘package:plyr’:\n",
      "\n",
      "    desc\n",
      "\n",
      "\n",
      "  warnings.warn(x, RRuntimeWarning)\n",
      "/home/bryan/anaconda3/lib/python3.6/site-packages/rpy2/rinterface/__init__.py:186: RRuntimeWarning: Loading required package: GenomicRanges\n",
      "\n",
      "  warnings.warn(x, RRuntimeWarning)\n",
      "/home/bryan/anaconda3/lib/python3.6/site-packages/rpy2/rinterface/__init__.py:186: RRuntimeWarning: Loading required package: GenomeInfoDb\n",
      "\n",
      "  warnings.warn(x, RRuntimeWarning)\n",
      "/home/bryan/anaconda3/lib/python3.6/site-packages/rpy2/rinterface/__init__.py:186: RRuntimeWarning: Loading required package: SummarizedExperiment\n",
      "\n",
      "  warnings.warn(x, RRuntimeWarning)\n",
      "/home/bryan/anaconda3/lib/python3.6/site-packages/rpy2/rinterface/__init__.py:186: RRuntimeWarning: Loading required package: Biobase\n",
      "\n",
      "  warnings.warn(x, RRuntimeWarning)\n",
      "/home/bryan/anaconda3/lib/python3.6/site-packages/rpy2/rinterface/__init__.py:186: RRuntimeWarning: Welcome to Bioconductor\n",
      "\n",
      "    Vignettes contain introductory material; view with\n",
      "    'browseVignettes()'. To cite Bioconductor, see\n",
      "    'citation(\"Biobase\")', and for packages 'citation(\"pkgname\")'.\n",
      "\n",
      "\n",
      "  warnings.warn(x, RRuntimeWarning)\n",
      "/home/bryan/anaconda3/lib/python3.6/site-packages/rpy2/rinterface/__init__.py:186: RRuntimeWarning: \n",
      "Attaching package: ‘Biobase’\n",
      "\n",
      "\n",
      "  warnings.warn(x, RRuntimeWarning)\n",
      "/home/bryan/anaconda3/lib/python3.6/site-packages/rpy2/rinterface/__init__.py:186: RRuntimeWarning: The following object is masked from ‘package:phyloseq’:\n",
      "\n",
      "    sampleNames\n",
      "\n",
      "\n",
      "  warnings.warn(x, RRuntimeWarning)\n",
      "/home/bryan/anaconda3/lib/python3.6/site-packages/rpy2/rinterface/__init__.py:186: RRuntimeWarning: The following object is masked from ‘package:Hmisc’:\n",
      "\n",
      "    contents\n",
      "\n",
      "\n",
      "  warnings.warn(x, RRuntimeWarning)\n"
     ]
    }
   ],
   "source": [
    "%%R\n",
    "library(foreach)\n",
    "library(DESeq2)\n",
    "#library(lsmeans)\n",
    "library(Hmisc)\n",
    "library(nlme)\n",
    "library(ggplot2)\n",
    "library(plyr)\n",
    "library(dplyr)\n",
    "library(tidyr)\n",
    "library(gridExtra)\n",
    "library(reshape2)\n",
    "library(ape)\n",
    "library(doParallel)\n",
    "library(phyloseq)\n",
    "library(MuMIn)\n"
   ]
  },
  {
   "cell_type": "code",
   "execution_count": 60,
   "metadata": {},
   "outputs": [],
   "source": [
    "%%R\n",
    "# Initialize corMLPE \n",
    "source('/home/bryan/corMLPE/corMLPE.R')"
   ]
  },
  {
   "cell_type": "code",
   "execution_count": 3,
   "metadata": {
    "collapsed": true
   },
   "outputs": [],
   "source": [
    "%%R\n",
    "workDir = '/home/bryan/RhizCG/PhyDist/'\n"
   ]
  },
  {
   "cell_type": "markdown",
   "metadata": {
    "slideshow": {
     "slide_type": "skip"
    }
   },
   "source": [
    "# Data wrangling "
   ]
  },
  {
   "cell_type": "markdown",
   "metadata": {
    "slideshow": {
     "slide_type": "skip"
    }
   },
   "source": [
    "# Set up tables and tree "
   ]
  },
  {
   "cell_type": "code",
   "execution_count": 4,
   "metadata": {},
   "outputs": [],
   "source": [
    "%%R\n",
    "setwd(workDir)\n",
    "# read phylogenetic distance, expanded with 0.0002 between maize lines\n",
    "phy_expand = read.csv(file = \"phyDist_expanded.csv\", header = TRUE)\n",
    "colnames(phy_expand)[12] = \"75-062\""
   ]
  },
  {
   "cell_type": "code",
   "execution_count": 5,
   "metadata": {
    "scrolled": false
   },
   "outputs": [
    {
     "data": {
      "image/png": "[encoded data removed]"
     },
     "metadata": {},
     "output_type": "display_data"
    }
   ],
   "source": [
    "%%R -w 400 -h 400\n",
    "\n",
    "# simplify, re-order matrix so that plants appear in same order as they are in the legend key.  then \n",
    "Mat = phy_expand\n",
    "colnames(Mat) = c(\"Fagopyrum esculentum\", \"Amaranthus powellii\", \"Helianthus annuus\", \"Abutilon theophrasti\",\n",
    "                 \"Glycine max\", \"Sorghum bicolor bicolor\", \"B73\", \"Echinochloa crus-galli\", \n",
    "                  \"Setaria faberi\",  \"Eragrostis tef\",\"Eleusine coracana\", \"75-062\", \"Oh7B\", \"MS71\", \"B97\",\n",
    "                  \"H99\", \"Il14H\", \"Ki3\", \"Tx303\",\"Hp301\", \"Mo18\", \"Sorghum bicolor sudanese\")\n",
    "rownames(Mat) = c(\"Fagopyrum esculentum\", \"Amaranthus powellii\", \"Helianthus annuus\", \"Abutilon theophrasti\",\n",
    "                 \"Glycine max\", \"Sorghum bicolor bicolor\", \"B73\", \"Echinochloa crus-galli\", \n",
    "                  \"Setaria faberi\",  \"Eragrostis tef\",\"Eleusine coracana\", \"75-062\", \"Oh7B\", \"MS71\", \"B97\",\n",
    "                  \"H99\", \"Il14H\", \"Ki3\", \"Tx303\",\"Hp301\", \"Mo18\", \"Sorghum bicolor sudanese\")\n",
    "\n",
    "Mat = Mat[c(\"75-062\", \"B73\", \"B97\" ,  \"H99\" , \"Hp301\",  \"Il14H\",  \"Ki3\" , \"Mo18\", \"MS71\",\"Oh7B\", \"Tx303\",\n",
    "             \"Echinochloa crus-galli\", \"Setaria faberi\", \"Sorghum bicolor bicolor\", \"Sorghum bicolor sudanese\",\n",
    "            \"Eleusine coracana\", \"Eragrostis tef\", \n",
    "           \"Abutilon theophrasti\",\"Helianthus annuus\",\"Fagopyrum esculentum\", \"Amaranthus powellii\",\"Glycine max\"),\n",
    "         c(\"75-062\", \"B73\", \"B97\" ,  \"H99\" , \"Hp301\",  \"Il14H\",  \"Ki3\" , \"Mo18\", \"MS71\",\"Oh7B\", \"Tx303\",\n",
    "             \"Echinochloa crus-galli\", \"Setaria faberi\", \"Sorghum bicolor bicolor\", \"Sorghum bicolor sudanese\",\n",
    "            \"Eleusine coracana\", \"Eragrostis tef\", \n",
    "           \"Abutilon theophrasti\",\"Helianthus annuus\",\"Fagopyrum esculentum\", \"Amaranthus powellii\",\"Glycine max\"),]\n",
    "\n",
    "Phy_hc = hclust(as.dist(Mat), \"complete\")\n",
    "hcd = as.dendrogram(Phy_hc)\n",
    "# vector of colors to match CAP plot\n",
    "\n",
    "\n",
    "labelColors = #c(\"#FFFF00\", \"#1CE6FF\", \"#FF34FF\", \"#FF4A46\", \"#008941\", \"#006FA6\", \"#A30059\",\n",
    "        #\"#FFDBE5\", \"#7A4900\", \"#0000A6\", \"#63FFAC\", \"#B79762\", \"#004D43\", \"#8FB0FF\", \"#997D87\",\n",
    "        #\"#5A0007\", \"#809693\", \"#1B4400\", \"#4FC601\", \"#3B5DFF\", \"#4A3B53\", \"#FF2F80\")\n",
    "\n",
    "\n",
    "# cut dendrogram in 4 clusters\n",
    "clusMember = cutree(Phy_hc, 22)\n",
    "#function to get color labels\n",
    "colLab <- function(n) {\n",
    "    if (is.leaf(n)) {\n",
    "        a <- attributes(n)\n",
    "        labCol <- labelColors[clusMember[which(names(clusMember) == a$label)]]\n",
    "        attr(n, \"nodePar\") <- c(a$nodePar, lab.col = labCol)\n",
    "    }\n",
    "    n\n",
    "}\n",
    "# using dendrapply\n",
    "clusDendro = dendrapply(hcd, colLab)\n",
    "# make plot\n",
    "par(mar=c(14,4.1,4.1,2.1))\n",
    "plot(clusDendro, no.margin = TRUE)\n",
    "\n",
    "\n",
    "# plot(Phy_hc, hang = -1)\n",
    "\n",
    "\n"
   ]
  },
  {
   "cell_type": "code",
   "execution_count": null,
   "metadata": {
    "collapsed": true
   },
   "outputs": [],
   "source": []
  },
  {
   "cell_type": "code",
   "execution_count": 64,
   "metadata": {},
   "outputs": [
    {
     "data": {
      "text/plain": [
       "png \n",
       "  2 \n"
      ]
     },
     "metadata": {},
     "output_type": "display_data"
    }
   ],
   "source": [
    "%%R\n",
    "svg('/home/bryan/RhizCG/figures/ms_figures/plant_dendro.svg', width = 5, height = 3)\n",
    "#par(mar=c(14,4.1,4.1,2.1))\n",
    "plot(clusDendro, no.margin = TRUE)\n",
    "dev.off()"
   ]
  },
  {
   "cell_type": "markdown",
   "metadata": {},
   "source": [
    "## Create melted dataframes for plot by plot comparisons"
   ]
  },
  {
   "cell_type": "code",
   "execution_count": 65,
   "metadata": {
    "scrolled": true
   },
   "outputs": [
    {
     "data": {
      "text/plain": [
       "    PlantA PlantB phy_Dist     PlantComp\n",
       "1    FAGES  FAGES  0.00000   FAGES-FAGES\n",
       "2    AMAPO  FAGES  0.23210   AMAPO-FAGES\n",
       "3    HELAN  FAGES  0.25302   HELAN-FAGES\n",
       "4    ABUTH  FAGES  0.27096   ABUTH-FAGES\n",
       "5    GLYMA  FAGES  0.35879   GLYMA-FAGES\n",
       "6    SORBI  FAGES  0.43476   SORBI-FAGES\n",
       "7      B73  FAGES  0.43787     B73-FAGES\n",
       "8    ECHCG  FAGES  0.43985   ECHCG-FAGES\n",
       "9    SETFA  FAGES  0.43592   SETFA-FAGES\n",
       "10   ERATE  FAGES  0.44622   ERATE-FAGES\n",
       "11   ELCOR  FAGES  0.44745   ELCOR-FAGES\n",
       "12  75-062  FAGES  0.43787  75-062-FAGES\n",
       "13    Oh7B  FAGES  0.43787    Oh7B-FAGES\n",
       "14    MS71  FAGES  0.43787    MS71-FAGES\n",
       "15     B97  FAGES  0.43787     B97-FAGES\n",
       "16     H99  FAGES  0.43787     H99-FAGES\n",
       "17   Il14H  FAGES  0.43787   Il14H-FAGES\n",
       "18     Ki3  FAGES  0.43787     Ki3-FAGES\n",
       "19   Tx303  FAGES  0.43787   Tx303-FAGES\n",
       "20   Hp301  FAGES  0.43787   Hp301-FAGES\n",
       "21    Mo18  FAGES  0.43787    Mo18-FAGES\n",
       "22  SORSUD  FAGES  0.43476  SORSUD-FAGES\n",
       "23   FAGES  AMAPO  0.23210   FAGES-AMAPO\n",
       "24   AMAPO  AMAPO  0.00000   AMAPO-AMAPO\n",
       "25   HELAN  AMAPO  0.20952   HELAN-AMAPO\n",
       "26   ABUTH  AMAPO  0.22746   ABUTH-AMAPO\n",
       "27   GLYMA  AMAPO  0.31529   GLYMA-AMAPO\n",
       "28   SORBI  AMAPO  0.39126   SORBI-AMAPO\n",
       "29     B73  AMAPO  0.39437     B73-AMAPO\n",
       "30   ECHCG  AMAPO  0.39635   ECHCG-AMAPO\n",
       "31   SETFA  AMAPO  0.39242   SETFA-AMAPO\n",
       "32   ERATE  AMAPO  0.40272   ERATE-AMAPO\n",
       "33   ELCOR  AMAPO  0.40395   ELCOR-AMAPO\n",
       "34  75-062  AMAPO  0.39437  75-062-AMAPO\n",
       "35    Oh7B  AMAPO  0.39437    Oh7B-AMAPO\n",
       "36    MS71  AMAPO  0.39437    MS71-AMAPO\n",
       "37     B97  AMAPO  0.39437     B97-AMAPO\n",
       "38     H99  AMAPO  0.39437     H99-AMAPO\n",
       "39   Il14H  AMAPO  0.39437   Il14H-AMAPO\n",
       "40     Ki3  AMAPO  0.39437     Ki3-AMAPO\n",
       "41   Tx303  AMAPO  0.39437   Tx303-AMAPO\n",
       "42   Hp301  AMAPO  0.39437   Hp301-AMAPO\n",
       "43    Mo18  AMAPO  0.39437    Mo18-AMAPO\n",
       "44  SORSUD  AMAPO  0.39126  SORSUD-AMAPO\n",
       "45   FAGES  HELAN  0.25302   FAGES-HELAN\n",
       "46   AMAPO  HELAN  0.20952   AMAPO-HELAN\n",
       "47   HELAN  HELAN  0.00000   HELAN-HELAN\n",
       "48   ABUTH  HELAN  0.19116   ABUTH-HELAN\n",
       "49   GLYMA  HELAN  0.27899   GLYMA-HELAN\n",
       "50   SORBI  HELAN  0.35496   SORBI-HELAN\n",
       "51     B73  HELAN  0.35807     B73-HELAN\n",
       "52   ECHCG  HELAN  0.36005   ECHCG-HELAN\n",
       "53   SETFA  HELAN  0.35612   SETFA-HELAN\n",
       "54   ERATE  HELAN  0.36642   ERATE-HELAN\n",
       "55   ELCOR  HELAN  0.36765   ELCOR-HELAN\n",
       "56  75-062  HELAN  0.35807  75-062-HELAN\n",
       "57    Oh7B  HELAN  0.35807    Oh7B-HELAN\n",
       "58    MS71  HELAN  0.35807    MS71-HELAN\n",
       "59     B97  HELAN  0.35807     B97-HELAN\n",
       "60     H99  HELAN  0.35807     H99-HELAN\n",
       "61   Il14H  HELAN  0.35807   Il14H-HELAN\n",
       "62     Ki3  HELAN  0.35807     Ki3-HELAN\n",
       "63   Tx303  HELAN  0.35807   Tx303-HELAN\n",
       "64   Hp301  HELAN  0.35807   Hp301-HELAN\n",
       "65    Mo18  HELAN  0.35807    Mo18-HELAN\n",
       "66  SORSUD  HELAN  0.35496  SORSUD-HELAN\n",
       "67   FAGES  ABUTH  0.27096   FAGES-ABUTH\n",
       "68   AMAPO  ABUTH  0.22746   AMAPO-ABUTH\n",
       "69   HELAN  ABUTH  0.19116   HELAN-ABUTH\n",
       "70   ABUTH  ABUTH  0.00000   ABUTH-ABUTH\n",
       "71   GLYMA  ABUTH  0.24183   GLYMA-ABUTH\n",
       "72   SORBI  ABUTH  0.35370   SORBI-ABUTH\n",
       "73     B73  ABUTH  0.35681     B73-ABUTH\n",
       "74   ECHCG  ABUTH  0.35879   ECHCG-ABUTH\n",
       "75   SETFA  ABUTH  0.35486   SETFA-ABUTH\n",
       "76   ERATE  ABUTH  0.36516   ERATE-ABUTH\n",
       "77   ELCOR  ABUTH  0.36639   ELCOR-ABUTH\n",
       "78  75-062  ABUTH  0.35681  75-062-ABUTH\n",
       "79    Oh7B  ABUTH  0.35681    Oh7B-ABUTH\n",
       "80    MS71  ABUTH  0.35681    MS71-ABUTH\n",
       "81     B97  ABUTH  0.35681     B97-ABUTH\n",
       "82     H99  ABUTH  0.35681     H99-ABUTH\n",
       "83   Il14H  ABUTH  0.35681   Il14H-ABUTH\n",
       "84     Ki3  ABUTH  0.35681     Ki3-ABUTH\n",
       "85   Tx303  ABUTH  0.35681   Tx303-ABUTH\n",
       "86   Hp301  ABUTH  0.35681   Hp301-ABUTH\n",
       "87    Mo18  ABUTH  0.35681    Mo18-ABUTH\n",
       "88  SORSUD  ABUTH  0.35370  SORSUD-ABUTH\n",
       "89   FAGES  GLYMA  0.35879   FAGES-GLYMA\n",
       "90   AMAPO  GLYMA  0.31529   AMAPO-GLYMA\n",
       "91   HELAN  GLYMA  0.27899   HELAN-GLYMA\n",
       "92   ABUTH  GLYMA  0.24183   ABUTH-GLYMA\n",
       "93   GLYMA  GLYMA  0.00000   GLYMA-GLYMA\n",
       "94   SORBI  GLYMA  0.44153   SORBI-GLYMA\n",
       "95     B73  GLYMA  0.44464     B73-GLYMA\n",
       "96   ECHCG  GLYMA  0.44662   ECHCG-GLYMA\n",
       "97   SETFA  GLYMA  0.44269   SETFA-GLYMA\n",
       "98   ERATE  GLYMA  0.45299   ERATE-GLYMA\n",
       "99   ELCOR  GLYMA  0.45422   ELCOR-GLYMA\n",
       "100 75-062  GLYMA  0.44464  75-062-GLYMA\n",
       "101   Oh7B  GLYMA  0.44464    Oh7B-GLYMA\n",
       "102   MS71  GLYMA  0.44464    MS71-GLYMA\n",
       "103    B97  GLYMA  0.44464     B97-GLYMA\n",
       "104    H99  GLYMA  0.44464     H99-GLYMA\n",
       "105  Il14H  GLYMA  0.44464   Il14H-GLYMA\n",
       "106    Ki3  GLYMA  0.44464     Ki3-GLYMA\n",
       "107  Tx303  GLYMA  0.44464   Tx303-GLYMA\n",
       "108  Hp301  GLYMA  0.44464   Hp301-GLYMA\n",
       "109   Mo18  GLYMA  0.44464    Mo18-GLYMA\n",
       "110 SORSUD  GLYMA  0.44153  SORSUD-GLYMA\n",
       "111  FAGES  SORBI  0.43476   FAGES-SORBI\n",
       "112  AMAPO  SORBI  0.39126   AMAPO-SORBI\n",
       "113  HELAN  SORBI  0.35496   HELAN-SORBI\n",
       "114  ABUTH  SORBI  0.35370   ABUTH-SORBI\n",
       "115  GLYMA  SORBI  0.44153   GLYMA-SORBI\n",
       "116  SORBI  SORBI  0.00000   SORBI-SORBI\n",
       "117    B73  SORBI  0.01153     B73-SORBI\n",
       "118  ECHCG  SORBI  0.03193   ECHCG-SORBI\n",
       "119  SETFA  SORBI  0.02800   SETFA-SORBI\n",
       "120  ERATE  SORBI  0.04656   ERATE-SORBI\n",
       "121  ELCOR  SORBI  0.04779   ELCOR-SORBI\n",
       "122 75-062  SORBI  0.01153  75-062-SORBI\n",
       "123   Oh7B  SORBI  0.01153    Oh7B-SORBI\n",
       "124   MS71  SORBI  0.01153    MS71-SORBI\n",
       "125    B97  SORBI  0.01153     B97-SORBI\n",
       "126    H99  SORBI  0.01153     H99-SORBI\n",
       "127  Il14H  SORBI  0.01153   Il14H-SORBI\n",
       "128    Ki3  SORBI  0.01153     Ki3-SORBI\n",
       "129  Tx303  SORBI  0.01153   Tx303-SORBI\n",
       "130  Hp301  SORBI  0.01153   Hp301-SORBI\n",
       "131   Mo18  SORBI  0.01153    Mo18-SORBI\n",
       "132 SORSUD  SORBI  0.00020  SORSUD-SORBI\n",
       "133  FAGES    B73  0.43787     FAGES-B73\n",
       "134  AMAPO    B73  0.39437     AMAPO-B73\n",
       "135  HELAN    B73  0.35807     HELAN-B73\n",
       "136  ABUTH    B73  0.35681     ABUTH-B73\n",
       "137  GLYMA    B73  0.44464     GLYMA-B73\n",
       "138  SORBI    B73  0.01153     SORBI-B73\n",
       "139    B73    B73  0.00000       B73-B73\n",
       "140  ECHCG    B73  0.03504     ECHCG-B73\n",
       "141  SETFA    B73  0.03111     SETFA-B73\n",
       "142  ERATE    B73  0.04967     ERATE-B73\n",
       "143  ELCOR    B73  0.05090     ELCOR-B73\n",
       "144 75-062    B73  0.00020    75-062-B73\n",
       "145   Oh7B    B73  0.00020      Oh7B-B73\n",
       "146   MS71    B73  0.00020      MS71-B73\n",
       "147    B97    B73  0.00020       B97-B73\n",
       "148    H99    B73  0.00020       H99-B73\n",
       "149  Il14H    B73  0.00020     Il14H-B73\n",
       "150    Ki3    B73  0.00020       Ki3-B73\n",
       "151  Tx303    B73  0.00020     Tx303-B73\n",
       "152  Hp301    B73  0.00020     Hp301-B73\n",
       "153   Mo18    B73  0.00020      Mo18-B73\n",
       "154 SORSUD    B73  0.01153    SORSUD-B73\n",
       "155  FAGES  ECHCG  0.43985   FAGES-ECHCG\n",
       "156  AMAPO  ECHCG  0.39635   AMAPO-ECHCG\n",
       "157  HELAN  ECHCG  0.36005   HELAN-ECHCG\n",
       "158  ABUTH  ECHCG  0.35879   ABUTH-ECHCG\n",
       "159  GLYMA  ECHCG  0.44662   GLYMA-ECHCG\n",
       "160  SORBI  ECHCG  0.03193   SORBI-ECHCG\n",
       "161    B73  ECHCG  0.03504     B73-ECHCG\n",
       "162  ECHCG  ECHCG  0.00000   ECHCG-ECHCG\n",
       "163  SETFA  ECHCG  0.02517   SETFA-ECHCG\n",
       "164  ERATE  ECHCG  0.05165   ERATE-ECHCG\n",
       "165  ELCOR  ECHCG  0.05288   ELCOR-ECHCG\n",
       "166 75-062  ECHCG  0.03504  75-062-ECHCG\n",
       "167   Oh7B  ECHCG  0.03504    Oh7B-ECHCG\n",
       "168   MS71  ECHCG  0.03504    MS71-ECHCG\n",
       "169    B97  ECHCG  0.03504     B97-ECHCG\n",
       "170    H99  ECHCG  0.03504     H99-ECHCG\n",
       "171  Il14H  ECHCG  0.03504   Il14H-ECHCG\n",
       "172    Ki3  ECHCG  0.03504     Ki3-ECHCG\n",
       "173  Tx303  ECHCG  0.03504   Tx303-ECHCG\n",
       "174  Hp301  ECHCG  0.03504   Hp301-ECHCG\n",
       "175   Mo18  ECHCG  0.03504    Mo18-ECHCG\n",
       "176 SORSUD  ECHCG  0.03193  SORSUD-ECHCG\n",
       "177  FAGES  SETFA  0.43592   FAGES-SETFA\n",
       "178  AMAPO  SETFA  0.39242   AMAPO-SETFA\n",
       "179  HELAN  SETFA  0.35612   HELAN-SETFA\n",
       "180  ABUTH  SETFA  0.35486   ABUTH-SETFA\n",
       "181  GLYMA  SETFA  0.44269   GLYMA-SETFA\n",
       "182  SORBI  SETFA  0.02800   SORBI-SETFA\n",
       "183    B73  SETFA  0.03111     B73-SETFA\n",
       "184  ECHCG  SETFA  0.02517   ECHCG-SETFA\n",
       "185  SETFA  SETFA  0.00000   SETFA-SETFA\n",
       "186  ERATE  SETFA  0.04772   ERATE-SETFA\n",
       "187  ELCOR  SETFA  0.04895   ELCOR-SETFA\n",
       "188 75-062  SETFA  0.03111  75-062-SETFA\n",
       "189   Oh7B  SETFA  0.03111    Oh7B-SETFA\n",
       "190   MS71  SETFA  0.03111    MS71-SETFA\n",
       "191    B97  SETFA  0.03111     B97-SETFA\n",
       "192    H99  SETFA  0.03111     H99-SETFA\n",
       "193  Il14H  SETFA  0.03111   Il14H-SETFA\n",
       "194    Ki3  SETFA  0.03111     Ki3-SETFA\n",
       "195  Tx303  SETFA  0.03111   Tx303-SETFA\n",
       "196  Hp301  SETFA  0.03111   Hp301-SETFA\n",
       "197   Mo18  SETFA  0.03111    Mo18-SETFA\n",
       "198 SORSUD  SETFA  0.02800  SORSUD-SETFA\n",
       "199  FAGES  ERATE  0.44622   FAGES-ERATE\n",
       "200  AMAPO  ERATE  0.40272   AMAPO-ERATE\n",
       "201  HELAN  ERATE  0.36642   HELAN-ERATE\n",
       "202  ABUTH  ERATE  0.36516   ABUTH-ERATE\n",
       "203  GLYMA  ERATE  0.45299   GLYMA-ERATE\n",
       "204  SORBI  ERATE  0.04656   SORBI-ERATE\n",
       "205    B73  ERATE  0.04967     B73-ERATE\n",
       "206  ECHCG  ERATE  0.05165   ECHCG-ERATE\n",
       "207  SETFA  ERATE  0.04772   SETFA-ERATE\n",
       "208  ERATE  ERATE  0.00000   ERATE-ERATE\n",
       "209  ELCOR  ERATE  0.03561   ELCOR-ERATE\n",
       "210 75-062  ERATE  0.04967  75-062-ERATE\n",
       "211   Oh7B  ERATE  0.04967    Oh7B-ERATE\n",
       "212   MS71  ERATE  0.04967    MS71-ERATE\n",
       "213    B97  ERATE  0.04967     B97-ERATE\n",
       "214    H99  ERATE  0.04967     H99-ERATE\n",
       "215  Il14H  ERATE  0.04967   Il14H-ERATE\n",
       "216    Ki3  ERATE  0.04967     Ki3-ERATE\n",
       "217  Tx303  ERATE  0.04967   Tx303-ERATE\n",
       "218  Hp301  ERATE  0.04967   Hp301-ERATE\n",
       "219   Mo18  ERATE  0.04967    Mo18-ERATE\n",
       "220 SORSUD  ERATE  0.04656  SORSUD-ERATE\n",
       "221  FAGES  ELCOR  0.44745   FAGES-ELCOR\n",
       "222  AMAPO  ELCOR  0.40395   AMAPO-ELCOR\n",
       "223  HELAN  ELCOR  0.36765   HELAN-ELCOR\n",
       "224  ABUTH  ELCOR  0.36639   ABUTH-ELCOR\n",
       "225  GLYMA  ELCOR  0.45422   GLYMA-ELCOR\n",
       "226  SORBI  ELCOR  0.04779   SORBI-ELCOR\n",
       "227    B73  ELCOR  0.05090     B73-ELCOR\n",
       "228  ECHCG  ELCOR  0.05288   ECHCG-ELCOR\n",
       "229  SETFA  ELCOR  0.04895   SETFA-ELCOR\n",
       "230  ERATE  ELCOR  0.03561   ERATE-ELCOR\n",
       "231  ELCOR  ELCOR  0.00000   ELCOR-ELCOR\n",
       "232 75-062  ELCOR  0.05090  75-062-ELCOR\n",
       "233   Oh7B  ELCOR  0.05090    Oh7B-ELCOR\n",
       "234   MS71  ELCOR  0.05090    MS71-ELCOR\n",
       "235    B97  ELCOR  0.05090     B97-ELCOR\n",
       "236    H99  ELCOR  0.05090     H99-ELCOR\n",
       "237  Il14H  ELCOR  0.05090   Il14H-ELCOR\n",
       "238    Ki3  ELCOR  0.05090     Ki3-ELCOR\n",
       "239  Tx303  ELCOR  0.05090   Tx303-ELCOR\n",
       "240  Hp301  ELCOR  0.05090   Hp301-ELCOR\n",
       "241   Mo18  ELCOR  0.05090    Mo18-ELCOR\n",
       "242 SORSUD  ELCOR  0.04779  SORSUD-ELCOR\n",
       "243  FAGES 75-062  0.43787  FAGES-75-062\n",
       "244  AMAPO 75-062  0.39437  AMAPO-75-062\n",
       "245  HELAN 75-062  0.35807  HELAN-75-062\n",
       "246  ABUTH 75-062  0.35681  ABUTH-75-062\n",
       "247  GLYMA 75-062  0.44464  GLYMA-75-062\n",
       "248  SORBI 75-062  0.01153  SORBI-75-062\n",
       "249    B73 75-062  0.00020    B73-75-062\n",
       "250  ECHCG 75-062  0.03504  ECHCG-75-062\n",
       "251  SETFA 75-062  0.03111  SETFA-75-062\n",
       "252  ERATE 75-062  0.04967  ERATE-75-062\n",
       "253  ELCOR 75-062  0.05090  ELCOR-75-062\n",
       "254 75-062 75-062  0.00000 75-062-75-062\n",
       "255   Oh7B 75-062  0.00020   Oh7B-75-062\n",
       "256   MS71 75-062  0.00020   MS71-75-062\n",
       "257    B97 75-062  0.00020    B97-75-062\n",
       "258    H99 75-062  0.00020    H99-75-062\n",
       "259  Il14H 75-062  0.00020  Il14H-75-062\n",
       "260    Ki3 75-062  0.00020    Ki3-75-062\n",
       "261  Tx303 75-062  0.00020  Tx303-75-062\n",
       "262  Hp301 75-062  0.00020  Hp301-75-062\n",
       "263   Mo18 75-062  0.00020   Mo18-75-062\n",
       "264 SORSUD 75-062  0.01153 SORSUD-75-062\n",
       "265  FAGES   Oh7B  0.43787    FAGES-Oh7B\n",
       "266  AMAPO   Oh7B  0.39437    AMAPO-Oh7B\n",
       "267  HELAN   Oh7B  0.35807    HELAN-Oh7B\n",
       "268  ABUTH   Oh7B  0.35681    ABUTH-Oh7B\n",
       "269  GLYMA   Oh7B  0.44464    GLYMA-Oh7B\n",
       "270  SORBI   Oh7B  0.01153    SORBI-Oh7B\n",
       "271    B73   Oh7B  0.00020      B73-Oh7B\n",
       "272  ECHCG   Oh7B  0.03504    ECHCG-Oh7B\n",
       "273  SETFA   Oh7B  0.03111    SETFA-Oh7B\n",
       "274  ERATE   Oh7B  0.04967    ERATE-Oh7B\n",
       "275  ELCOR   Oh7B  0.05090    ELCOR-Oh7B\n",
       "276 75-062   Oh7B  0.00020   75-062-Oh7B\n",
       "277   Oh7B   Oh7B  0.00000     Oh7B-Oh7B\n",
       "278   MS71   Oh7B  0.00020     MS71-Oh7B\n",
       "279    B97   Oh7B  0.00020      B97-Oh7B\n",
       "280    H99   Oh7B  0.00020      H99-Oh7B\n",
       "281  Il14H   Oh7B  0.00020    Il14H-Oh7B\n",
       "282    Ki3   Oh7B  0.00020      Ki3-Oh7B\n",
       "283  Tx303   Oh7B  0.00020    Tx303-Oh7B\n",
       "284  Hp301   Oh7B  0.00020    Hp301-Oh7B\n",
       "285   Mo18   Oh7B  0.00020     Mo18-Oh7B\n",
       "286 SORSUD   Oh7B  0.01153   SORSUD-Oh7B\n",
       "287  FAGES   MS71  0.43787    FAGES-MS71\n",
       "288  AMAPO   MS71  0.39437    AMAPO-MS71\n",
       "289  HELAN   MS71  0.35807    HELAN-MS71\n",
       "290  ABUTH   MS71  0.35681    ABUTH-MS71\n",
       "291  GLYMA   MS71  0.44464    GLYMA-MS71\n",
       "292  SORBI   MS71  0.01153    SORBI-MS71\n",
       "293    B73   MS71  0.00020      B73-MS71\n",
       "294  ECHCG   MS71  0.03504    ECHCG-MS71\n",
       "295  SETFA   MS71  0.03111    SETFA-MS71\n",
       "296  ERATE   MS71  0.04967    ERATE-MS71\n",
       "297  ELCOR   MS71  0.05090    ELCOR-MS71\n",
       "298 75-062   MS71  0.00020   75-062-MS71\n",
       "299   Oh7B   MS71  0.00020     Oh7B-MS71\n",
       "300   MS71   MS71  0.00000     MS71-MS71\n",
       "301    B97   MS71  0.00020      B97-MS71\n",
       "302    H99   MS71  0.00020      H99-MS71\n",
       "303  Il14H   MS71  0.00020    Il14H-MS71\n",
       "304    Ki3   MS71  0.00020      Ki3-MS71\n",
       "305  Tx303   MS71  0.00020    Tx303-MS71\n",
       "306  Hp301   MS71  0.00020    Hp301-MS71\n",
       "307   Mo18   MS71  0.00020     Mo18-MS71\n",
       "308 SORSUD   MS71  0.01153   SORSUD-MS71\n",
       "309  FAGES    B97  0.43787     FAGES-B97\n",
       "310  AMAPO    B97  0.39437     AMAPO-B97\n",
       "311  HELAN    B97  0.35807     HELAN-B97\n",
       "312  ABUTH    B97  0.35681     ABUTH-B97\n",
       "313  GLYMA    B97  0.44464     GLYMA-B97\n",
       "314  SORBI    B97  0.01153     SORBI-B97\n",
       "315    B73    B97  0.00020       B73-B97\n",
       "316  ECHCG    B97  0.03504     ECHCG-B97\n",
       "317  SETFA    B97  0.03111     SETFA-B97\n",
       "318  ERATE    B97  0.04967     ERATE-B97\n",
       "319  ELCOR    B97  0.05090     ELCOR-B97\n",
       "320 75-062    B97  0.00020    75-062-B97\n",
       "321   Oh7B    B97  0.00020      Oh7B-B97\n",
       "322   MS71    B97  0.00020      MS71-B97\n",
       "323    B97    B97  0.00000       B97-B97\n",
       "324    H99    B97  0.00020       H99-B97\n",
       "325  Il14H    B97  0.00020     Il14H-B97\n",
       "326    Ki3    B97  0.00020       Ki3-B97\n",
       "327  Tx303    B97  0.00020     Tx303-B97\n",
       "328  Hp301    B97  0.00020     Hp301-B97\n",
       "329   Mo18    B97  0.00020      Mo18-B97\n",
       "330 SORSUD    B97  0.01153    SORSUD-B97\n",
       "331  FAGES    H99  0.43787     FAGES-H99\n",
       "332  AMAPO    H99  0.39437     AMAPO-H99\n",
       "333  HELAN    H99  0.35807     HELAN-H99\n",
       "334  ABUTH    H99  0.35681     ABUTH-H99\n",
       "335  GLYMA    H99  0.44464     GLYMA-H99\n",
       "336  SORBI    H99  0.01153     SORBI-H99\n",
       "337    B73    H99  0.00020       B73-H99\n",
       "338  ECHCG    H99  0.03504     ECHCG-H99\n",
       "339  SETFA    H99  0.03111     SETFA-H99\n",
       "340  ERATE    H99  0.04967     ERATE-H99\n",
       "341  ELCOR    H99  0.05090     ELCOR-H99\n",
       "342 75-062    H99  0.00020    75-062-H99\n",
       "343   Oh7B    H99  0.00020      Oh7B-H99\n",
       "344   MS71    H99  0.00020      MS71-H99\n",
       "345    B97    H99  0.00020       B97-H99\n",
       "346    H99    H99  0.00000       H99-H99\n",
       "347  Il14H    H99  0.00020     Il14H-H99\n",
       "348    Ki3    H99  0.00020       Ki3-H99\n",
       "349  Tx303    H99  0.00020     Tx303-H99\n",
       "350  Hp301    H99  0.00020     Hp301-H99\n",
       "351   Mo18    H99  0.00020      Mo18-H99\n",
       "352 SORSUD    H99  0.01153    SORSUD-H99\n",
       "353  FAGES  Il14H  0.43787   FAGES-Il14H\n",
       "354  AMAPO  Il14H  0.39437   AMAPO-Il14H\n",
       "355  HELAN  Il14H  0.35807   HELAN-Il14H\n",
       "356  ABUTH  Il14H  0.35681   ABUTH-Il14H\n",
       "357  GLYMA  Il14H  0.44464   GLYMA-Il14H\n",
       "358  SORBI  Il14H  0.01153   SORBI-Il14H\n",
       "359    B73  Il14H  0.00020     B73-Il14H\n",
       "360  ECHCG  Il14H  0.03504   ECHCG-Il14H\n",
       "361  SETFA  Il14H  0.03111   SETFA-Il14H\n",
       "362  ERATE  Il14H  0.04967   ERATE-Il14H\n",
       "363  ELCOR  Il14H  0.05090   ELCOR-Il14H\n",
       "364 75-062  Il14H  0.00020  75-062-Il14H\n",
       "365   Oh7B  Il14H  0.00020    Oh7B-Il14H\n",
       "366   MS71  Il14H  0.00020    MS71-Il14H\n",
       "367    B97  Il14H  0.00020     B97-Il14H\n",
       "368    H99  Il14H  0.00020     H99-Il14H\n",
       "369  Il14H  Il14H  0.00000   Il14H-Il14H\n",
       "370    Ki3  Il14H  0.00020     Ki3-Il14H\n",
       "371  Tx303  Il14H  0.00020   Tx303-Il14H\n",
       "372  Hp301  Il14H  0.00020   Hp301-Il14H\n",
       "373   Mo18  Il14H  0.00020    Mo18-Il14H\n",
       "374 SORSUD  Il14H  0.01153  SORSUD-Il14H\n",
       "375  FAGES    Ki3  0.43787     FAGES-Ki3\n",
       "376  AMAPO    Ki3  0.39437     AMAPO-Ki3\n",
       "377  HELAN    Ki3  0.35807     HELAN-Ki3\n",
       "378  ABUTH    Ki3  0.35681     ABUTH-Ki3\n",
       "379  GLYMA    Ki3  0.44464     GLYMA-Ki3\n",
       "380  SORBI    Ki3  0.01153     SORBI-Ki3\n",
       "381    B73    Ki3  0.00020       B73-Ki3\n",
       "382  ECHCG    Ki3  0.03504     ECHCG-Ki3\n",
       "383  SETFA    Ki3  0.03111     SETFA-Ki3\n",
       "384  ERATE    Ki3  0.04967     ERATE-Ki3\n",
       "385  ELCOR    Ki3  0.05090     ELCOR-Ki3\n",
       "386 75-062    Ki3  0.00020    75-062-Ki3\n",
       "387   Oh7B    Ki3  0.00020      Oh7B-Ki3\n",
       "388   MS71    Ki3  0.00020      MS71-Ki3\n",
       "389    B97    Ki3  0.00020       B97-Ki3\n",
       "390    H99    Ki3  0.00020       H99-Ki3\n",
       "391  Il14H    Ki3  0.00020     Il14H-Ki3\n",
       "392    Ki3    Ki3  0.00000       Ki3-Ki3\n",
       "393  Tx303    Ki3  0.00020     Tx303-Ki3\n",
       "394  Hp301    Ki3  0.00020     Hp301-Ki3\n",
       "395   Mo18    Ki3  0.00020      Mo18-Ki3\n",
       "396 SORSUD    Ki3  0.01153    SORSUD-Ki3\n",
       "397  FAGES  Tx303  0.43787   FAGES-Tx303\n",
       "398  AMAPO  Tx303  0.39437   AMAPO-Tx303\n",
       "399  HELAN  Tx303  0.35807   HELAN-Tx303\n",
       "400  ABUTH  Tx303  0.35681   ABUTH-Tx303\n",
       "401  GLYMA  Tx303  0.44464   GLYMA-Tx303\n",
       "402  SORBI  Tx303  0.01153   SORBI-Tx303\n",
       "403    B73  Tx303  0.00020     B73-Tx303\n",
       "404  ECHCG  Tx303  0.03504   ECHCG-Tx303\n",
       "405  SETFA  Tx303  0.03111   SETFA-Tx303\n",
       "406  ERATE  Tx303  0.04967   ERATE-Tx303\n",
       "407  ELCOR  Tx303  0.05090   ELCOR-Tx303\n",
       "408 75-062  Tx303  0.00020  75-062-Tx303\n",
       "409   Oh7B  Tx303  0.00020    Oh7B-Tx303\n",
       "410   MS71  Tx303  0.00020    MS71-Tx303\n",
       "411    B97  Tx303  0.00020     B97-Tx303\n",
       "412    H99  Tx303  0.00020     H99-Tx303\n",
       "413  Il14H  Tx303  0.00020   Il14H-Tx303\n",
       "414    Ki3  Tx303  0.00020     Ki3-Tx303\n",
       "415  Tx303  Tx303  0.00000   Tx303-Tx303\n",
       "416  Hp301  Tx303  0.00020   Hp301-Tx303\n",
       "417   Mo18  Tx303  0.00020    Mo18-Tx303\n",
       "418 SORSUD  Tx303  0.01153  SORSUD-Tx303\n",
       "419  FAGES  Hp301  0.43787   FAGES-Hp301\n",
       "420  AMAPO  Hp301  0.39437   AMAPO-Hp301\n",
       "421  HELAN  Hp301  0.35807   HELAN-Hp301\n",
       "422  ABUTH  Hp301  0.35681   ABUTH-Hp301\n",
       "423  GLYMA  Hp301  0.44464   GLYMA-Hp301\n",
       "424  SORBI  Hp301  0.01153   SORBI-Hp301\n",
       "425    B73  Hp301  0.00020     B73-Hp301\n",
       "426  ECHCG  Hp301  0.03504   ECHCG-Hp301\n",
       "427  SETFA  Hp301  0.03111   SETFA-Hp301\n",
       "428  ERATE  Hp301  0.04967   ERATE-Hp301\n",
       "429  ELCOR  Hp301  0.05090   ELCOR-Hp301\n",
       "430 75-062  Hp301  0.00020  75-062-Hp301\n",
       "431   Oh7B  Hp301  0.00020    Oh7B-Hp301\n",
       "432   MS71  Hp301  0.00020    MS71-Hp301\n",
       "433    B97  Hp301  0.00020     B97-Hp301\n",
       "434    H99  Hp301  0.00020     H99-Hp301\n",
       "435  Il14H  Hp301  0.00020   Il14H-Hp301\n",
       "436    Ki3  Hp301  0.00020     Ki3-Hp301\n",
       "437  Tx303  Hp301  0.00020   Tx303-Hp301\n",
       "438  Hp301  Hp301  0.00000   Hp301-Hp301\n",
       "439   Mo18  Hp301  0.00020    Mo18-Hp301\n",
       "440 SORSUD  Hp301  0.01153  SORSUD-Hp301\n",
       "441  FAGES   Mo18  0.43787    FAGES-Mo18\n",
       "442  AMAPO   Mo18  0.39437    AMAPO-Mo18\n",
       "443  HELAN   Mo18  0.35807    HELAN-Mo18\n",
       "444  ABUTH   Mo18  0.35681    ABUTH-Mo18\n",
       "445  GLYMA   Mo18  0.44464    GLYMA-Mo18\n",
       "446  SORBI   Mo18  0.01153    SORBI-Mo18\n",
       "447    B73   Mo18  0.00020      B73-Mo18\n",
       "448  ECHCG   Mo18  0.03504    ECHCG-Mo18\n",
       "449  SETFA   Mo18  0.03111    SETFA-Mo18\n",
       "450  ERATE   Mo18  0.04967    ERATE-Mo18\n",
       "451  ELCOR   Mo18  0.05090    ELCOR-Mo18\n",
       "452 75-062   Mo18  0.00020   75-062-Mo18\n",
       "453   Oh7B   Mo18  0.00020     Oh7B-Mo18\n",
       "454   MS71   Mo18  0.00020     MS71-Mo18\n",
       "455    B97   Mo18  0.00020      B97-Mo18\n",
       "456    H99   Mo18  0.00020      H99-Mo18\n",
       "457  Il14H   Mo18  0.00020    Il14H-Mo18\n",
       "458    Ki3   Mo18  0.00020      Ki3-Mo18\n",
       "459  Tx303   Mo18  0.00020    Tx303-Mo18\n",
       "460  Hp301   Mo18  0.00020    Hp301-Mo18\n",
       "461   Mo18   Mo18  0.00000     Mo18-Mo18\n",
       "462 SORSUD   Mo18  0.01153   SORSUD-Mo18\n",
       "463  FAGES SORSUD  0.43476  FAGES-SORSUD\n",
       "464  AMAPO SORSUD  0.39126  AMAPO-SORSUD\n",
       "465  HELAN SORSUD  0.35496  HELAN-SORSUD\n",
       "466  ABUTH SORSUD  0.35370  ABUTH-SORSUD\n",
       "467  GLYMA SORSUD  0.44153  GLYMA-SORSUD\n",
       "468  SORBI SORSUD  0.00020  SORBI-SORSUD\n",
       "469    B73 SORSUD  0.01153    B73-SORSUD\n",
       "470  ECHCG SORSUD  0.03193  ECHCG-SORSUD\n",
       "471  SETFA SORSUD  0.02800  SETFA-SORSUD\n",
       "472  ERATE SORSUD  0.04656  ERATE-SORSUD\n",
       "473  ELCOR SORSUD  0.04779  ELCOR-SORSUD\n",
       "474 75-062 SORSUD  0.01153 75-062-SORSUD\n",
       "475   Oh7B SORSUD  0.01153   Oh7B-SORSUD\n",
       "476   MS71 SORSUD  0.01153   MS71-SORSUD\n",
       "477    B97 SORSUD  0.01153    B97-SORSUD\n",
       "478    H99 SORSUD  0.01153    H99-SORSUD\n",
       "479  Il14H SORSUD  0.01153  Il14H-SORSUD\n",
       "480    Ki3 SORSUD  0.01153    Ki3-SORSUD\n",
       "481  Tx303 SORSUD  0.01153  Tx303-SORSUD\n",
       "482  Hp301 SORSUD  0.01153  Hp301-SORSUD\n",
       "483   Mo18 SORSUD  0.01153   Mo18-SORSUD\n",
       "484 SORSUD SORSUD  0.00000 SORSUD-SORSUD\n"
      ]
     },
     "metadata": {},
     "output_type": "display_data"
    }
   ],
   "source": [
    "%%R\n",
    "pd.m = melt(as.matrix(phy_expand))\n",
    "\n",
    "#set column names and create comparison column\n",
    "colnames(pd.m) = c(\"PlantA\", \"PlantB\", \"phy_Dist\")\n",
    "pd.m$PlantComp = paste(pd.m$PlantA, pd.m$PlantB, sep = \"-\")\n",
    "pd.m \n"
   ]
  },
  {
   "cell_type": "code",
   "execution_count": 66,
   "metadata": {},
   "outputs": [
    {
     "data": {
      "text/plain": [
       "   PlantA PlantB phy_Dist  PlantComp\n",
       "1     B73  FAGES  0.43787  B73-FAGES\n",
       "2     B73  AMAPO  0.39437  B73-AMAPO\n",
       "3     B73  HELAN  0.35807  B73-HELAN\n",
       "4     B73  ABUTH  0.35681  B73-ABUTH\n",
       "5     B73  GLYMA  0.44464  B73-GLYMA\n",
       "6     B73  SORBI  0.01153  B73-SORBI\n",
       "7     B73    B73  0.00000    B73-B73\n",
       "8     B73  ECHCG  0.03504  B73-ECHCG\n",
       "9     B73  SETFA  0.03111  B73-SETFA\n",
       "10    B73  ERATE  0.04967  B73-ERATE\n",
       "11    B73  ELCOR  0.05090  B73-ELCOR\n",
       "12    B73 75-062  0.00020 B73-75-062\n",
       "13    B73   Oh7B  0.00020   B73-Oh7B\n",
       "14    B73   MS71  0.00020   B73-MS71\n",
       "15    B73    B97  0.00020    B73-B97\n",
       "16    B73    H99  0.00020    B73-H99\n",
       "17    B73  Il14H  0.00020  B73-Il14H\n",
       "18    B73    Ki3  0.00020    B73-Ki3\n",
       "19    B73  Tx303  0.00020  B73-Tx303\n",
       "20    B73  Hp301  0.00020  B73-Hp301\n",
       "21    B73   Mo18  0.00020   B73-Mo18\n",
       "22    B73 SORSUD  0.01153 B73-SORSUD\n"
      ]
     },
     "metadata": {},
     "output_type": "display_data"
    }
   ],
   "source": [
    "%%R\n",
    "pd.m %>% filter(PlantA == \"B73\")"
   ]
  },
  {
   "cell_type": "code",
   "execution_count": 67,
   "metadata": {
    "scrolled": false
   },
   "outputs": [
    {
     "data": {
      "text/plain": [
       "phyloseq-class experiment-level object\n",
       "otu_table()   OTU Table:         [ 4927 taxa and 87 samples ]\n",
       "sample_data() Sample Data:       [ 87 samples by 55 sample variables ]\n",
       "tax_table()   Taxonomy Table:    [ 4927 taxa by 8 taxonomic ranks ]\n",
       "phy_tree()    Phylogenetic Tree: [ 4927 tips and 4926 internal nodes ]\n"
      ]
     },
     "metadata": {},
     "output_type": "display_data"
    }
   ],
   "source": [
    "%%R\n",
    "#Read rarified phyloseq object\n",
    "F = file.path('/home/bryan/RhizCG/data/MiSeq_amplicon/MergedRuns/physeq/Full-Sparsity3in3_r')\n",
    "physeq.Full = readRDS(F)\n",
    "\n",
    "physeq.Nneg = subset_samples(physeq.Full, Treatment == \"Nneg\" & Plant != \"BARE\")\n",
    "physeq.Nneg = filter_taxa(physeq.Nneg, function(x) sum(x > 0) > 0, TRUE)  \n",
    "physeq.Nneg"
   ]
  },
  {
   "cell_type": "markdown",
   "metadata": {},
   "source": [
    "# Overall dataset"
   ]
  },
  {
   "cell_type": "code",
   "execution_count": 68,
   "metadata": {
    "hide_input": true
   },
   "outputs": [
    {
     "data": {
      "text/plain": [
       "phyloseq-class experiment-level object\n",
       "otu_table()   OTU Table:         [ 4927 taxa and 87 samples ]\n",
       "sample_data() Sample Data:       [ 87 samples by 55 sample variables ]\n",
       "tax_table()   Taxonomy Table:    [ 4927 taxa by 8 taxonomic ranks ]\n",
       "phy_tree()    Phylogenetic Tree: [ 4927 tips and 4926 internal nodes ]\n"
      ]
     },
     "metadata": {},
     "output_type": "display_data"
    }
   ],
   "source": [
    "%%R\n",
    "\n",
    "phy = physeq.Nneg\n",
    "\n",
    "phy"
   ]
  },
  {
   "cell_type": "code",
   "execution_count": 69,
   "metadata": {},
   "outputs": [],
   "source": [
    "%%R\n",
    "registerDoParallel(cores=28)\n",
    "phy.wunif.dist = distance(phy, \n",
    "                      method = \"unifrac\", \n",
    "                      weighted = TRUE,\n",
    "                      fast = TRUE, \n",
    "                      parallel = TRUE, \n",
    "                      normalized = FALSE)\n"
   ]
  },
  {
   "cell_type": "markdown",
   "metadata": {},
   "source": [
    "### Melt unifrac distances"
   ]
  },
  {
   "cell_type": "code",
   "execution_count": 70,
   "metadata": {
    "hide_input": false
   },
   "outputs": [
    {
     "data": {
      "text/plain": [
       "                PlotA             PlotB w_Unif_Dist\n",
       "88  sample5-1.22_Nneg sample4-2.02_Nneg   0.2069072\n",
       "175 sample5-1.22_Nneg sample4-4.21_Nneg   0.1605861\n",
       "176 sample4-2.02_Nneg sample4-4.21_Nneg   0.1853471\n",
       "262 sample5-1.22_Nneg sample5-2.29_Nneg   0.1505018\n",
       "263 sample4-2.02_Nneg sample5-2.29_Nneg   0.1881794\n",
       "264 sample4-4.21_Nneg sample5-2.29_Nneg   0.1816279\n",
       "[1] 3741    3\n"
      ]
     },
     "metadata": {},
     "output_type": "display_data"
    }
   ],
   "source": [
    "%%R\n",
    "ud = as.matrix(phy.wunif.dist) \n",
    "# remove lower triangle to remove duplicate values\n",
    "ud[ lower.tri( ud, diag = TRUE ) ]  <- NA\n",
    "head(ud)\n",
    "ud.m = melt(ud, na.rm= TRUE)\n",
    "\n",
    "# rename columns\n",
    "colnames(ud.m) = c(\"PlotA\", \"PlotB\", \"w_Unif_Dist\")\n",
    "head(ud.m) %>% print\n",
    "dim(ud.m) %>% print"
   ]
  },
  {
   "cell_type": "markdown",
   "metadata": {},
   "source": [
    "### Create seed size  variable"
   ]
  },
  {
   "cell_type": "code",
   "execution_count": 71,
   "metadata": {},
   "outputs": [
    {
     "data": {
      "text/plain": [
       "   Plant SeedSize_mg\n",
       "1  ERATE      0.0035\n",
       "2  HELAN          90\n",
       "3    B73         333\n",
       "4  FAGES          38\n",
       "5  AMAPO        0.49\n",
       "6 SORSUD        10.7\n"
      ]
     },
     "metadata": {},
     "output_type": "display_data"
    }
   ],
   "source": [
    "%%R\n",
    "#add seed size\n",
    "Plant = c(\"ERATE\", \"HELAN\", \"B73\", \"FAGES\", \"AMAPO\", \"SORSUD\", \"SORBI\", \n",
    "          \"ELCOR\", \"ECHCG\", \"ABUTH\", \"SETFA\", \"GLYMA\", \"MS71\", \"Mo18\", \"Il14H\", \"Tx303\", \"Oh7B\",\n",
    "         \"B97\", \"Hp301\", \"75-062\", \"Ki3\", \"H99\")\n",
    "SeedSize_mg = c(.0035, 90, 333, 38, .49, 10.7, 32.39,\n",
    "               3.2, 1.58, 9.6, 1.8, 174, 264, 224, 219, 279, 207,\n",
    "               240, 87, 222, 228, 231)\n",
    "SS = cbind(Plant, SeedSize_mg) %>% as.data.frame\n",
    "head(SS) %>% print\n",
    "SS$SeedSize_mg = SS$SeedSize_mg %>% as.character %>% as.numeric\n",
    "\n",
    "## Create functional distance variables\n",
    "sd = sample_data(phy)\n",
    "\n",
    "# join seed size with sample data\n",
    "sd = left_join(sd, SS, by = \"Plant\")\n",
    "rownames(sd) = sd$X.sample\n",
    "sample_data(phy) = sd"
   ]
  },
  {
   "cell_type": "code",
   "execution_count": 72,
   "metadata": {
    "scrolled": true
   },
   "outputs": [
    {
     "data": {
      "text/plain": [
       "              PlotA             PlotB     CNdist\n",
       "1 sample5-1.22_Nneg sample5-1.22_Nneg 0.00000000\n",
       "2 sample4-2.02_Nneg sample5-1.22_Nneg 0.39380360\n",
       "3 sample4-4.21_Nneg sample5-1.22_Nneg 0.30193240\n",
       "4 sample5-2.29_Nneg sample5-1.22_Nneg 0.21610061\n",
       "5 sample5-2.06_Nneg sample5-1.22_Nneg 0.03917953\n",
       "6 sample1-2.23_Nneg sample5-1.22_Nneg 0.66441421\n",
       "                             PlotComp\n",
       "1 sample5-1.22_Nneg-sample5-1.22_Nneg\n",
       "2 sample4-2.02_Nneg-sample5-1.22_Nneg\n",
       "3 sample4-4.21_Nneg-sample5-1.22_Nneg\n",
       "4 sample5-2.29_Nneg-sample5-1.22_Nneg\n",
       "5 sample5-2.06_Nneg-sample5-1.22_Nneg\n",
       "6 sample1-2.23_Nneg-sample5-1.22_Nneg\n",
       "              PlotA             PlotB     Ndist\n",
       "1 sample5-1.22_Nneg sample5-1.22_Nneg 0.0000000\n",
       "2 sample4-2.02_Nneg sample5-1.22_Nneg 0.7647557\n",
       "3 sample4-4.21_Nneg sample5-1.22_Nneg 0.7766916\n",
       "4 sample5-2.29_Nneg sample5-1.22_Nneg 0.5096202\n",
       "5 sample5-2.06_Nneg sample5-1.22_Nneg 0.4174312\n",
       "6 sample1-2.23_Nneg sample5-1.22_Nneg 1.1123954\n",
       "                             PlotComp\n",
       "1 sample5-1.22_Nneg-sample5-1.22_Nneg\n",
       "2 sample4-2.02_Nneg-sample5-1.22_Nneg\n",
       "3 sample4-4.21_Nneg-sample5-1.22_Nneg\n",
       "4 sample5-2.29_Nneg-sample5-1.22_Nneg\n",
       "5 sample5-2.06_Nneg-sample5-1.22_Nneg\n",
       "6 sample1-2.23_Nneg-sample5-1.22_Nneg\n",
       "              PlotA             PlotB    SSdist\n",
       "1 sample5-1.22_Nneg sample5-1.22_Nneg 0.0000000\n",
       "2 sample4-2.02_Nneg sample5-1.22_Nneg 4.8148907\n",
       "3 sample4-4.21_Nneg sample5-1.22_Nneg 4.8148907\n",
       "4 sample5-2.29_Nneg sample5-1.22_Nneg 0.0000000\n",
       "5 sample5-2.06_Nneg sample5-1.22_Nneg 0.1732717\n",
       "6 sample1-2.23_Nneg sample5-1.22_Nneg 1.7650912\n",
       "                             PlotComp\n",
       "1 sample5-1.22_Nneg-sample5-1.22_Nneg\n",
       "2 sample4-2.02_Nneg-sample5-1.22_Nneg\n",
       "3 sample4-4.21_Nneg-sample5-1.22_Nneg\n",
       "4 sample5-2.29_Nneg-sample5-1.22_Nneg\n",
       "5 sample5-2.06_Nneg-sample5-1.22_Nneg\n",
       "6 sample1-2.23_Nneg-sample5-1.22_Nneg\n",
       "              PlotA             PlotB   M_CNdist\n",
       "1 sample5-1.22_Nneg sample5-1.22_Nneg 0.00000000\n",
       "2 sample4-2.02_Nneg sample5-1.22_Nneg 0.42304067\n",
       "3 sample4-4.21_Nneg sample5-1.22_Nneg 0.33116946\n",
       "4 sample5-2.29_Nneg sample5-1.22_Nneg 0.21610061\n",
       "5 sample5-2.06_Nneg sample5-1.22_Nneg 0.03917953\n",
       "6 sample1-2.23_Nneg sample5-1.22_Nneg 0.76009916\n",
       "                             PlotComp\n",
       "1 sample5-1.22_Nneg-sample5-1.22_Nneg\n",
       "2 sample4-2.02_Nneg-sample5-1.22_Nneg\n",
       "3 sample4-4.21_Nneg-sample5-1.22_Nneg\n",
       "4 sample5-2.29_Nneg-sample5-1.22_Nneg\n",
       "5 sample5-2.06_Nneg-sample5-1.22_Nneg\n",
       "6 sample1-2.23_Nneg-sample5-1.22_Nneg\n",
       "              PlotA             PlotB   M_Ndist\n",
       "1 sample5-1.22_Nneg sample5-1.22_Nneg 0.0000000\n",
       "2 sample4-2.02_Nneg sample5-1.22_Nneg 0.7756496\n",
       "3 sample4-4.21_Nneg sample5-1.22_Nneg 0.7875854\n",
       "4 sample5-2.29_Nneg sample5-1.22_Nneg 0.5096202\n",
       "5 sample5-2.06_Nneg sample5-1.22_Nneg 0.4174312\n",
       "6 sample1-2.23_Nneg sample5-1.22_Nneg 1.0413245\n",
       "                             PlotComp\n",
       "1 sample5-1.22_Nneg-sample5-1.22_Nneg\n",
       "2 sample4-2.02_Nneg-sample5-1.22_Nneg\n",
       "3 sample4-4.21_Nneg-sample5-1.22_Nneg\n",
       "4 sample5-2.29_Nneg-sample5-1.22_Nneg\n",
       "5 sample5-2.06_Nneg-sample5-1.22_Nneg\n",
       "6 sample1-2.23_Nneg-sample5-1.22_Nneg\n",
       "              PlotA             PlotB     CNdist\n",
       "1 sample5-1.22_Nneg sample5-1.22_Nneg 0.00000000\n",
       "2 sample4-2.02_Nneg sample5-1.22_Nneg 0.39380360\n",
       "3 sample4-4.21_Nneg sample5-1.22_Nneg 0.30193240\n",
       "4 sample5-2.29_Nneg sample5-1.22_Nneg 0.21610061\n",
       "5 sample5-2.06_Nneg sample5-1.22_Nneg 0.03917953\n",
       "6 sample1-2.23_Nneg sample5-1.22_Nneg 0.66441421\n",
       "                             PlotComp     Ndist    SSdist   M_CNdist   M_Ndist\n",
       "1 sample5-1.22_Nneg-sample5-1.22_Nneg 0.0000000 0.0000000 0.00000000 0.0000000\n",
       "2 sample4-2.02_Nneg-sample5-1.22_Nneg 0.7647557 4.8148907 0.42304067 0.7756496\n",
       "3 sample4-4.21_Nneg-sample5-1.22_Nneg 0.7766916 4.8148907 0.33116946 0.7875854\n",
       "4 sample5-2.29_Nneg-sample5-1.22_Nneg 0.5096202 0.0000000 0.21610061 0.5096202\n",
       "5 sample5-2.06_Nneg-sample5-1.22_Nneg 0.4174312 0.1732717 0.03917953 0.4174312\n",
       "6 sample1-2.23_Nneg-sample5-1.22_Nneg 1.1123954 1.7650912 0.76009916 1.0413245\n"
      ]
     },
     "metadata": {},
     "output_type": "display_data"
    }
   ],
   "source": [
    "%%R\n",
    "## Create functional distance variables\n",
    "sd = sample_data(phy)\n",
    "\n",
    "## First for interspecific comparisons\n",
    "#measure distances on residCN\n",
    "CNdist = dist(sd[,\"A_Resid_logCN\"], method = \"euclidian\")\n",
    "    #melt matrix\n",
    "    CN.m = melt(as.matrix(CNdist))\n",
    "\n",
    "    #set column names and create comparison column\n",
    "     colnames(CN.m) = c(\"PlotA\", \"PlotB\", \"CNdist\")\n",
    "    CN.m$PlotComp = paste(CN.m$PlotA, CN.m$PlotB, sep = \"-\")\n",
    "    CN.m %>% head %>% print\n",
    "\n",
    "#measure distances on residBiomass\n",
    "Ndist = dist(sd[,\"A_Resid_logN\"], method = \"euclidian\")\n",
    "    #melt matrix\n",
    "    N.m = melt(as.matrix(Ndist))\n",
    "\n",
    "    #set column names and create comparison column\n",
    "     colnames(N.m) = c(\"PlotA\", \"PlotB\", \"Ndist\")\n",
    "    N.m$PlotComp = paste(N.m$PlotA, N.m$PlotB, sep = \"-\")\n",
    "    N.m %>% head %>% print\n",
    "\n",
    "#measure distances on Seed Size\n",
    "SSdist = dist(log(sd[,\"SeedSize_mg\"]), method = \"euclidian\")\n",
    "    #melt matrix\n",
    "    SS.m = melt(as.matrix(SSdist))\n",
    "\n",
    "    #set column names and create comparison column\n",
    "     colnames(SS.m) = c(\"PlotA\", \"PlotB\", \"SSdist\")\n",
    "    SS.m$PlotComp = paste(SS.m$PlotA, SS.m$PlotB, sep = \"-\")\n",
    "    SS.m %>% head %>% print\n",
    "\n",
    "\n",
    "## Now for intra-specific comparisons among maize lines\n",
    "#measure distances on residCN\n",
    "M_CNdist = dist(sd[,\"M_Resid_logCN\"], method = \"euclidian\")\n",
    "    #melt matrix\n",
    "    M_CN.m = melt(as.matrix(M_CNdist))\n",
    "\n",
    "    #set column names and create comparison column\n",
    "     colnames(M_CN.m) = c(\"PlotA\", \"PlotB\", \"M_CNdist\")\n",
    "    M_CN.m$PlotComp = paste(M_CN.m$PlotA, M_CN.m$PlotB, sep = \"-\")\n",
    "    M_CN.m %>% head %>% print\n",
    "\n",
    "#measure distances on residBiomass\n",
    "M_Ndist = dist(sd[,\"M_Resid_logN\"], method = \"euclidian\")\n",
    "    #melt matrix\n",
    "    M_N.m = melt(as.matrix(M_Ndist))\n",
    "\n",
    "    #set column names and create comparison column\n",
    "     colnames(M_N.m) = c(\"PlotA\", \"PlotB\", \"M_Ndist\")\n",
    "    M_N.m$PlotComp = paste(M_N.m$PlotA, M_N.m$PlotB, sep = \"-\")\n",
    "    M_N.m %>% head %>% print\n",
    "\n",
    "#seed size is already ok\n",
    "\n",
    "\n",
    "Fun.m = left_join(CN.m, N.m[,c(3,4)], by = \"PlotComp\")\n",
    "Fun.m = left_join(Fun.m, SS.m[,c(3,4)], by = \"PlotComp\")\n",
    "Fun.m = left_join(Fun.m, M_CN.m[,c(3,4)], by = \"PlotComp\")\n",
    "Fun.m = left_join(Fun.m, M_N.m[,c(3,4)], by = \"PlotComp\")\n",
    "head(Fun.m)"
   ]
  },
  {
   "cell_type": "markdown",
   "metadata": {},
   "source": [
    "### Join distance tables"
   ]
  },
  {
   "cell_type": "code",
   "execution_count": 73,
   "metadata": {},
   "outputs": [
    {
     "data": {
      "text/plain": [
       "[1] \"PlotA\"       \"PlotB\"       \"w_Unif_Dist\"\n"
      ]
     },
     "metadata": {},
     "output_type": "display_data"
    }
   ],
   "source": [
    "%%R\n",
    "colnames(ud.m)"
   ]
  },
  {
   "cell_type": "code",
   "execution_count": 74,
   "metadata": {
    "scrolled": true
   },
   "outputs": [
    {
     "data": {
      "text/plain": [
       " [1] \"X.sample\"            \"Library\"             \"Primer_Plate\"       \n",
       " [4] \"Primer_Well_ID\"      \"primerFR_ID_byPlate\" \"primerFR_ID_total\"  \n",
       " [7] \"barcode_ID\"          \"PlotID\"              \"Plant\"              \n",
       "[10] \"Plot\"                \"Treatment\"           \"Rep\"                \n",
       "[13] \"DAP\"                 \"Sampling\"            \"PlantSample\"        \n",
       "[16] \"Type\"                \"Grass_Broad\"         \"Status\"             \n",
       "[19] \"Subfamily\"           \"fwd_barcode\"         \"rev_barcode\"        \n",
       "[22] \"Planted\"             \"Biomass_P\"           \"SLA\"                \n",
       "[25] \"Leaf_N\"              \"Leaf_C\"              \"LeafC_N\"            \n",
       "[28] \"LNa\"                 \"Plant_N\"             \"Plant_C\"            \n",
       "[31] \"Plant_CN\"            \"d15N\"                \"tN_p\"               \n",
       "[34] \"BX_activity_g\"       \"CB_activity_g\"       \"LAP_activity_g\"     \n",
       "[37] \"NAG_activity_g\"      \"BX_rel\"              \"CB_rel\"             \n",
       "[40] \"LAP_rel\"             \"NAG_rel\"             \"NO3_ug_g\"           \n",
       "[43] \"NH4_ug_g\"            \"InorganicN\"          \"Resid_logB\"         \n",
       "[46] \"Resid_logN\"          \"Resid_logCN\"         \"Resid_logSLA\"       \n",
       "[49] \"Resid_LeafN\"         \"A_Resid_logB\"        \"A_Resid_logN\"       \n",
       "[52] \"A_Resid_logCN\"       \"M_Resid_logB\"        \"M_Resid_logN\"       \n",
       "[55] \"M_Resid_logCN\"       \"SeedSize_mg\"        \n"
      ]
     },
     "metadata": {},
     "output_type": "display_data"
    }
   ],
   "source": [
    "%%R\n",
    "colnames(sd)"
   ]
  },
  {
   "cell_type": "code",
   "execution_count": 75,
   "metadata": {},
   "outputs": [
    {
     "data": {
      "text/plain": [
       "              PlotA             PlotB w_Unif_Dist  Plant\n",
       "1 sample5-1.22_Nneg sample4-2.02_Nneg   0.2069072 75-062\n",
       "2 sample5-1.22_Nneg sample4-4.21_Nneg   0.1605861 75-062\n",
       "3 sample4-2.02_Nneg sample4-4.21_Nneg   0.1853471  SETFA\n",
       "4 sample5-1.22_Nneg sample5-2.29_Nneg   0.1505018 75-062\n",
       "5 sample4-2.02_Nneg sample5-2.29_Nneg   0.1881794  SETFA\n",
       "6 sample4-4.21_Nneg sample5-2.29_Nneg   0.1816279  SETFA\n",
       "              PlotA             PlotB w_Unif_Dist PlantA  Plant\n",
       "1 sample5-1.22_Nneg sample4-2.02_Nneg   0.2069072 75-062  SETFA\n",
       "2 sample5-1.22_Nneg sample4-4.21_Nneg   0.1605861 75-062  SETFA\n",
       "3 sample4-2.02_Nneg sample4-4.21_Nneg   0.1853471  SETFA  SETFA\n",
       "4 sample5-1.22_Nneg sample5-2.29_Nneg   0.1505018 75-062 75-062\n",
       "5 sample4-2.02_Nneg sample5-2.29_Nneg   0.1881794  SETFA 75-062\n",
       "6 sample4-4.21_Nneg sample5-2.29_Nneg   0.1816279  SETFA 75-062\n",
       "              PlotA             PlotB w_Unif_Dist PlantA PlantB     PlantComp\n",
       "1 sample5-1.22_Nneg sample4-2.02_Nneg   0.2069072 75-062  SETFA  75-062-SETFA\n",
       "2 sample5-1.22_Nneg sample4-4.21_Nneg   0.1605861 75-062  SETFA  75-062-SETFA\n",
       "3 sample4-2.02_Nneg sample4-4.21_Nneg   0.1853471  SETFA  SETFA   SETFA-SETFA\n",
       "4 sample5-1.22_Nneg sample5-2.29_Nneg   0.1505018 75-062 75-062 75-062-75-062\n",
       "5 sample4-2.02_Nneg sample5-2.29_Nneg   0.1881794  SETFA 75-062  SETFA-75-062\n",
       "6 sample4-4.21_Nneg sample5-2.29_Nneg   0.1816279  SETFA 75-062  SETFA-75-062\n",
       "                             PlotComp\n",
       "1 sample5-1.22_Nneg-sample4-2.02_Nneg\n",
       "2 sample5-1.22_Nneg-sample4-4.21_Nneg\n",
       "3 sample4-2.02_Nneg-sample4-4.21_Nneg\n",
       "4 sample5-1.22_Nneg-sample5-2.29_Nneg\n",
       "5 sample4-2.02_Nneg-sample5-2.29_Nneg\n",
       "6 sample4-4.21_Nneg-sample5-2.29_Nneg\n"
      ]
     },
     "metadata": {},
     "output_type": "display_data"
    }
   ],
   "source": [
    "%%R\n",
    "#Add plant names to melted unifrac table\n",
    "ud.m = left_join(ud.m, sd[, c(1,9)], by = c(\"PlotA\" = \"X.sample\"))\n",
    "head(ud.m) %>% print\n",
    "colnames(ud.m)[4] = \"PlantA\"\n",
    "\n",
    "ud.m = left_join(ud.m, sd[, c(1,9)], by = c(\"PlotB\" = \"X.sample\"))\n",
    "head(ud.m) %>% print\n",
    "colnames(ud.m)[5] = \"PlantB\"\n",
    "ud.m$PlantComp = paste(ud.m$PlantA, ud.m$PlantB, sep = \"-\")\n",
    "\n",
    "#Create plot-plot variable for joining with functional distance matrix\n",
    "ud.m$PlotComp = paste(ud.m$PlotA, ud.m$PlotB, sep = \"-\")\n",
    "head(ud.m) %>% print"
   ]
  },
  {
   "cell_type": "markdown",
   "metadata": {},
   "source": [
    "### Join with plant phylogenetic distance and functional distance"
   ]
  },
  {
   "cell_type": "code",
   "execution_count": 76,
   "metadata": {},
   "outputs": [
    {
     "data": {
      "text/plain": [
       "[1] \"PlotA\"    \"PlotB\"    \"CNdist\"   \"PlotComp\" \"Ndist\"    \"SSdist\"   \"M_CNdist\"\n",
       "[8] \"M_Ndist\" \n"
      ]
     },
     "metadata": {},
     "output_type": "display_data"
    }
   ],
   "source": [
    "%%R\n",
    "colnames(Fun.m)"
   ]
  },
  {
   "cell_type": "code",
   "execution_count": 77,
   "metadata": {},
   "outputs": [
    {
     "data": {
      "text/plain": [
       " [1] \"X.sample\"            \"Library\"             \"Primer_Plate\"       \n",
       " [4] \"Primer_Well_ID\"      \"primerFR_ID_byPlate\" \"primerFR_ID_total\"  \n",
       " [7] \"barcode_ID\"          \"PlotID\"              \"Plant\"              \n",
       "[10] \"Plot\"                \"Treatment\"           \"Rep\"                \n",
       "[13] \"DAP\"                 \"Sampling\"            \"PlantSample\"        \n",
       "[16] \"Type\"                \"Grass_Broad\"         \"Status\"             \n",
       "[19] \"Subfamily\"           \"fwd_barcode\"         \"rev_barcode\"        \n",
       "[22] \"Planted\"             \"Biomass_P\"           \"SLA\"                \n",
       "[25] \"Leaf_N\"              \"Leaf_C\"              \"LeafC_N\"            \n",
       "[28] \"LNa\"                 \"Plant_N\"             \"Plant_C\"            \n",
       "[31] \"Plant_CN\"            \"d15N\"                \"tN_p\"               \n",
       "[34] \"BX_activity_g\"       \"CB_activity_g\"       \"LAP_activity_g\"     \n",
       "[37] \"NAG_activity_g\"      \"BX_rel\"              \"CB_rel\"             \n",
       "[40] \"LAP_rel\"             \"NAG_rel\"             \"NO3_ug_g\"           \n",
       "[43] \"NH4_ug_g\"            \"InorganicN\"          \"Resid_logB\"         \n",
       "[46] \"Resid_logN\"          \"Resid_logCN\"         \"Resid_logSLA\"       \n",
       "[49] \"Resid_LeafN\"         \"A_Resid_logB\"        \"A_Resid_logN\"       \n",
       "[52] \"A_Resid_logCN\"       \"M_Resid_logB\"        \"M_Resid_logN\"       \n",
       "[55] \"M_Resid_logCN\"       \"SeedSize_mg\"        \n"
      ]
     },
     "metadata": {},
     "output_type": "display_data"
    }
   ],
   "source": [
    "%%R\n",
    "colnames(sd)"
   ]
  },
  {
   "cell_type": "code",
   "execution_count": 78,
   "metadata": {
    "scrolled": true
   },
   "outputs": [
    {
     "data": {
      "text/plain": [
       "                 PlotA             PlotB w_Unif_Dist PlantA PlantB   PlantComp\n",
       "3736 sample3-2.19_Nneg sample8-3.03_Nneg   0.2419601  ABUTH  ELCOR ABUTH-ELCOR\n",
       "3737 sample8-1.23_Nneg sample8-3.03_Nneg   0.1984166    Ki3  ELCOR   Ki3-ELCOR\n",
       "3738 sample6-2.14_Nneg sample8-3.03_Nneg   0.2503097  Hp301  ELCOR Hp301-ELCOR\n",
       "3739 sample8-4.04_Nneg sample8-3.03_Nneg   0.2377478   Mo18  ELCOR  Mo18-ELCOR\n",
       "3740 sample3-3.30_Nneg sample8-3.03_Nneg   0.2233484  ABUTH  ELCOR ABUTH-ELCOR\n",
       "3741 sample7-4.14_Nneg sample8-3.03_Nneg   0.2893173  SORBI  ELCOR SORBI-ELCOR\n",
       "                                PlotComp phy_Dist\n",
       "3736 sample3-2.19_Nneg-sample8-3.03_Nneg  0.36639\n",
       "3737 sample8-1.23_Nneg-sample8-3.03_Nneg  0.05090\n",
       "3738 sample6-2.14_Nneg-sample8-3.03_Nneg  0.05090\n",
       "3739 sample8-4.04_Nneg-sample8-3.03_Nneg  0.05090\n",
       "3740 sample3-3.30_Nneg-sample8-3.03_Nneg  0.36639\n",
       "3741 sample7-4.14_Nneg-sample8-3.03_Nneg  0.04779\n",
       "                 PlotA             PlotB w_Unif_Dist PlantA PlantB   PlantComp\n",
       "3736 sample3-2.19_Nneg sample8-3.03_Nneg   0.2419601  ABUTH  ELCOR ABUTH-ELCOR\n",
       "3737 sample8-1.23_Nneg sample8-3.03_Nneg   0.1984166    Ki3  ELCOR   Ki3-ELCOR\n",
       "3738 sample6-2.14_Nneg sample8-3.03_Nneg   0.2503097  Hp301  ELCOR Hp301-ELCOR\n",
       "3739 sample8-4.04_Nneg sample8-3.03_Nneg   0.2377478   Mo18  ELCOR  Mo18-ELCOR\n",
       "3740 sample3-3.30_Nneg sample8-3.03_Nneg   0.2233484  ABUTH  ELCOR ABUTH-ELCOR\n",
       "3741 sample7-4.14_Nneg sample8-3.03_Nneg   0.2893173  SORBI  ELCOR SORBI-ELCOR\n",
       "                                PlotComp phy_Dist DAY_A\n",
       "3736 sample3-2.19_Nneg-sample8-3.03_Nneg  0.36639    57\n",
       "3737 sample8-1.23_Nneg-sample8-3.03_Nneg  0.05090    88\n",
       "3738 sample6-2.14_Nneg-sample8-3.03_Nneg  0.05090    79\n",
       "3739 sample8-4.04_Nneg-sample8-3.03_Nneg  0.05090    88\n",
       "3740 sample3-3.30_Nneg-sample8-3.03_Nneg  0.36639    57\n",
       "3741 sample7-4.14_Nneg-sample8-3.03_Nneg  0.04779    84\n",
       "                 PlotA             PlotB w_Unif_Dist PlantA PlantB   PlantComp\n",
       "3736 sample3-2.19_Nneg sample8-3.03_Nneg   0.2419601  ABUTH  ELCOR ABUTH-ELCOR\n",
       "3737 sample8-1.23_Nneg sample8-3.03_Nneg   0.1984166    Ki3  ELCOR   Ki3-ELCOR\n",
       "3738 sample6-2.14_Nneg sample8-3.03_Nneg   0.2503097  Hp301  ELCOR Hp301-ELCOR\n",
       "3739 sample8-4.04_Nneg sample8-3.03_Nneg   0.2377478   Mo18  ELCOR  Mo18-ELCOR\n",
       "3740 sample3-3.30_Nneg sample8-3.03_Nneg   0.2233484  ABUTH  ELCOR ABUTH-ELCOR\n",
       "3741 sample7-4.14_Nneg sample8-3.03_Nneg   0.2893173  SORBI  ELCOR SORBI-ELCOR\n",
       "                                PlotComp phy_Dist DAY_A DAY_B\n",
       "3736 sample3-2.19_Nneg-sample8-3.03_Nneg  0.36639    57    88\n",
       "3737 sample8-1.23_Nneg-sample8-3.03_Nneg  0.05090    88    88\n",
       "3738 sample6-2.14_Nneg-sample8-3.03_Nneg  0.05090    79    88\n",
       "3739 sample8-4.04_Nneg-sample8-3.03_Nneg  0.05090    88    88\n",
       "3740 sample3-3.30_Nneg-sample8-3.03_Nneg  0.36639    57    88\n",
       "3741 sample7-4.14_Nneg-sample8-3.03_Nneg  0.04779    84    88\n",
       "              PlotA             PlotB w_Unif_Dist PlantA PlantB     PlantComp\n",
       "1 sample5-1.22_Nneg sample4-2.02_Nneg   0.2069072 75-062  SETFA  75-062-SETFA\n",
       "2 sample5-1.22_Nneg sample4-4.21_Nneg   0.1605861 75-062  SETFA  75-062-SETFA\n",
       "3 sample4-2.02_Nneg sample4-4.21_Nneg   0.1853471  SETFA  SETFA   SETFA-SETFA\n",
       "4 sample5-1.22_Nneg sample5-2.29_Nneg   0.1505018 75-062 75-062 75-062-75-062\n",
       "5 sample4-2.02_Nneg sample5-2.29_Nneg   0.1881794  SETFA 75-062  SETFA-75-062\n",
       "6 sample4-4.21_Nneg sample5-2.29_Nneg   0.1816279  SETFA 75-062  SETFA-75-062\n",
       "                             PlotComp phy_Dist DAY_A DAY_B     CNdist\n",
       "1 sample5-1.22_Nneg-sample4-2.02_Nneg  0.03111    72    61 0.39380360\n",
       "2 sample5-1.22_Nneg-sample4-4.21_Nneg  0.03111    72    61 0.30193240\n",
       "3 sample4-2.02_Nneg-sample4-4.21_Nneg  0.00000    61    61 0.09187120\n",
       "4 sample5-1.22_Nneg-sample5-2.29_Nneg  0.00000    72    72 0.21610061\n",
       "5 sample4-2.02_Nneg-sample5-2.29_Nneg  0.03111    61    72 0.17770299\n",
       "6 sample4-4.21_Nneg-sample5-2.29_Nneg  0.03111    61    72 0.08583178\n",
       "       Ndist   SSdist  M_CNdist    M_Ndist TimeDist\n",
       "1 0.76475572 4.814891 0.4230407 0.77564956       11\n",
       "2 0.77669158 4.814891 0.3311695 0.78758542       11\n",
       "3 0.01193586 0.000000 0.0918712 0.01193586        0\n",
       "4 0.50962023 0.000000 0.2161006 0.50962023        0\n",
       "5 0.25513548 4.814891 0.2069401 0.26602932       11\n",
       "6 0.26707135 4.814891 0.1150689 0.27796518       11\n"
      ]
     },
     "metadata": {},
     "output_type": "display_data"
    }
   ],
   "source": [
    "%%R\n",
    "Dist = left_join(ud.m, pd.m[,c(3,4)], by = \"PlantComp\")\n",
    "tail(Dist) %>% print\n",
    "\n",
    "#Join with \n",
    "# Join DAP information and library information\n",
    "Dist = left_join(Dist, sd[,c(1,13)], by = c(\"PlotA\" = \"X.sample\"))\n",
    "colnames(Dist)[9] = c(\"DAY_A\")\n",
    "tail(Dist) %>% print\n",
    "\n",
    "Dist = left_join(Dist, sd[,c(1,13)], by = c(\"PlotB\" = \"X.sample\"))\n",
    "colnames(Dist)[10] = c(\"DAY_B\")\n",
    "tail(Dist) %>% print\n",
    "\n",
    "Dist = left_join(Dist, Fun.m[,3:8], by = \"PlotComp\")\n",
    "\n",
    "# set DAY_A and DAY_B as factor\n",
    "Dist$TimeDist = abs(as.numeric(as.character(Dist$DAY_A)) - as.numeric(as.character(Dist$DAY_B)))\n",
    "\n",
    "head(Dist)"
   ]
  },
  {
   "cell_type": "markdown",
   "metadata": {},
   "source": [
    "## Build corMLPE models on subset of B73 and species"
   ]
  },
  {
   "cell_type": "code",
   "execution_count": 22,
   "metadata": {},
   "outputs": [
    {
     "data": {
      "text/plain": [
       " [1] SETFA  FAGES  B73    AMAPO  GLYMA  ERATE  ELCOR  SORSUD SORBI  ABUTH \n",
       "[11] HELAN  ECHCG \n",
       "22 Levels: 75-062 ABUTH AMAPO B73 B97 ECHCG ELCOR ERATE FAGES GLYMA ... Tx303\n"
      ]
     },
     "metadata": {},
     "output_type": "display_data"
    }
   ],
   "source": [
    "%%R\n",
    "maize = c(\"MS71\", \"Mo18\", \"Il14H\", \"Tx303\", \"Oh7B\",\n",
    "         \"B97\", \"Hp301\", \"75-062\", \"Ki3\", \"H99\")\n",
    "\n",
    "SubDist = Dist %>% filter(!PlantA %in% maize & !PlantB %in% maize)  \n",
    "\n",
    "SubDist$PlantA %>% unique"
   ]
  },
  {
   "cell_type": "markdown",
   "metadata": {},
   "source": []
  },
  {
   "cell_type": "code",
   "execution_count": 23,
   "metadata": {},
   "outputs": [
    {
     "data": {
      "text/plain": [
       "Generalized least squares fit by maximum likelihood\n",
       "  Model: w_Unif_Dist ~ 1 \n",
       "  Data: SubDist \n",
       "        AIC       BIC   logLik\n",
       "  -2884.528 -2869.571 1445.264\n",
       "\n",
       "Correlation Structure: corMLPE\n",
       " Formula: ~PlotA + PlotB \n",
       " Parameter estimate(s):\n",
       "      Rho \n",
       "0.1790464 \n",
       "\n",
       "Coefficients:\n",
       "                Value   Std.Error  t-value p-value\n",
       "(Intercept) 0.2797791 0.009432132 29.66234       0\n",
       "\n",
       "Standardized residuals:\n",
       "        Min          Q1         Med          Q3         Max \n",
       "-2.42523442 -0.75313254 -0.03112416  0.67369010  3.64061591 \n",
       "\n",
       "Residual standard error: 0.07492793 \n",
       "Degrees of freedom: 1081 total; 1080 residual\n"
      ]
     },
     "metadata": {},
     "output_type": "display_data"
    }
   ],
   "source": [
    "%%R\n",
    "#Hypothesis testing functional distance\n",
    "fitNull =  gls(w_Unif_Dist ~ 1, \n",
    "             correlation = corMLPE(form= ~ PlotA + PlotB), data = SubDist, method = \"ML\")\n",
    "summary(fitNull)"
   ]
  },
  {
   "cell_type": "code",
   "execution_count": 24,
   "metadata": {},
   "outputs": [
    {
     "data": {
      "text/plain": [
       "Generalized least squares fit by maximum likelihood\n",
       "  Model: w_Unif_Dist ~ TimeDist \n",
       "  Data: SubDist \n",
       "        AIC       BIC   logLik\n",
       "  -3161.599 -3141.656 1584.799\n",
       "\n",
       "Correlation Structure: corMLPE\n",
       " Formula: ~PlotA + PlotB \n",
       " Parameter estimate(s):\n",
       "      Rho \n",
       "0.2192525 \n",
       "\n",
       "Coefficients:\n",
       "                 Value   Std.Error  t-value p-value\n",
       "(Intercept) 0.23769754 0.009974650 23.83016       0\n",
       "TimeDist    0.00231431 0.000129285 17.90090       0\n",
       "\n",
       " Correlation: \n",
       "         (Intr)\n",
       "TimeDist -0.236\n",
       "\n",
       "Standardized residuals:\n",
       "        Min          Q1         Med          Q3         Max \n",
       "-2.57339863 -0.72568259 -0.09311555  0.62808609  3.60895962 \n",
       "\n",
       "Residual standard error: 0.06993121 \n",
       "Degrees of freedom: 1081 total; 1079 residual\n"
      ]
     },
     "metadata": {},
     "output_type": "display_data"
    }
   ],
   "source": [
    "%%R\n",
    "#Hypothesis testing functional distance\n",
    "fit1 =  gls(w_Unif_Dist ~ TimeDist, \n",
    "             correlation = corMLPE(form= ~ PlotA + PlotB), data = SubDist, method = \"ML\")\n",
    "summary(fit1)"
   ]
  },
  {
   "cell_type": "code",
   "execution_count": 25,
   "metadata": {},
   "outputs": [
    {
     "data": {
      "text/plain": [
       "Generalized least squares fit by maximum likelihood\n",
       "  Model: w_Unif_Dist ~ poly(TimeDist, 2) \n",
       "  Data: SubDist \n",
       "        AIC       BIC   logLik\n",
       "  -3237.232 -3212.304 1623.616\n",
       "\n",
       "Correlation Structure: corMLPE\n",
       " Formula: ~PlotA + PlotB \n",
       " Parameter estimate(s):\n",
       "      Rho \n",
       "0.2300356 \n",
       "\n",
       "Coefficients:\n",
       "                        Value  Std.Error   t-value p-value\n",
       "(Intercept)         0.2797791 0.00974434 28.711954       0\n",
       "poly(TimeDist, 2)1  0.9392644 0.05849779 16.056408       0\n",
       "poly(TimeDist, 2)2 -0.5228612 0.05830246 -8.968082       0\n",
       "\n",
       " Correlation: \n",
       "                   (Intr) p(TD,2)1\n",
       "poly(TimeDist, 2)1 0.000          \n",
       "poly(TimeDist, 2)2 0.000  0.228   \n",
       "\n",
       "Standardized residuals:\n",
       "        Min          Q1         Med          Q3         Max \n",
       "-2.53435920 -0.74500949 -0.07816438  0.64311497  3.52402392 \n",
       "\n",
       "Residual standard error: 0.06867521 \n",
       "Degrees of freedom: 1081 total; 1078 residual\n"
      ]
     },
     "metadata": {},
     "output_type": "display_data"
    }
   ],
   "source": [
    "%%R\n",
    "#Hypothesis testing functional distance\n",
    "fit2 =  gls(w_Unif_Dist ~ poly(TimeDist,2), \n",
    "             correlation = corMLPE(form= ~ PlotA + PlotB), data = SubDist, method = \"ML\")\n",
    "summary(fit2)"
   ]
  },
  {
   "cell_type": "code",
   "execution_count": 26,
   "metadata": {
    "scrolled": false
   },
   "outputs": [
    {
     "data": {
      "text/plain": [
       "        Model df       AIC       BIC   logLik   Test   L.Ratio p-value\n",
       "fitNull     1  3 -2884.528 -2869.571 1445.264                         \n",
       "fit1        2  4 -3161.599 -3141.656 1584.799 1 vs 2 279.07099  <.0001\n",
       "fit2        3  5 -3237.232 -3212.304 1623.616 2 vs 3  77.63393  <.0001\n"
      ]
     },
     "metadata": {},
     "output_type": "display_data"
    }
   ],
   "source": [
    "%%R\n",
    "anova(fitNull, fit1, fit2)"
   ]
  },
  {
   "cell_type": "code",
   "execution_count": 27,
   "metadata": {},
   "outputs": [
    {
     "data": {
      "text/plain": [
       "Generalized least squares fit by maximum likelihood\n",
       "  Model: w_Unif_Dist ~ I(TimeDist) + I(TimeDist^2) \n",
       "  Data: SubDist \n",
       "        AIC       BIC   logLik\n",
       "  -3237.232 -3212.304 1623.616\n",
       "\n",
       "Correlation Structure: corMLPE\n",
       " Formula: ~PlotA + PlotB \n",
       " Parameter estimate(s):\n",
       "      Rho \n",
       "0.2300356 \n",
       "\n",
       "Coefficients:\n",
       "                    Value   Std.Error   t-value p-value\n",
       "(Intercept)    0.22389149 0.010121546 22.120286       0\n",
       "I(TimeDist)    0.00523760 0.000348774 15.017154       0\n",
       "I(TimeDist^2) -0.00007511 0.000008376 -8.968082       0\n",
       "\n",
       " Correlation: \n",
       "              (Intr) I(TmD)\n",
       "I(TimeDist)   -0.222       \n",
       "I(TimeDist^2)  0.152 -0.934\n",
       "\n",
       "Standardized residuals:\n",
       "        Min          Q1         Med          Q3         Max \n",
       "-2.53435920 -0.74500949 -0.07816438  0.64311497  3.52402392 \n",
       "\n",
       "Residual standard error: 0.06867521 \n",
       "Degrees of freedom: 1081 total; 1078 residual\n"
      ]
     },
     "metadata": {},
     "output_type": "display_data"
    }
   ],
   "source": [
    "%%R\n",
    "#get coefficients for time\n",
    "fit2a =  gls(w_Unif_Dist ~ I(TimeDist) + I(TimeDist^2), \n",
    "             correlation = corMLPE(form= ~ PlotA + PlotB), data = SubDist, method = \"ML\")\n",
    "summary(fit2a)"
   ]
  },
  {
   "cell_type": "markdown",
   "metadata": {
    "scrolled": true
   },
   "source": [
    "### do functional variables add any information?\n"
   ]
  },
  {
   "cell_type": "code",
   "execution_count": 28,
   "metadata": {},
   "outputs": [
    {
     "data": {
      "text/plain": [
       "              PlotA             PlotB w_Unif_Dist PlantA PlantB   PlantComp\n",
       "1 sample4-2.02_Nneg sample4-4.21_Nneg   0.1853471  SETFA  SETFA SETFA-SETFA\n",
       "2 sample4-2.02_Nneg sample1-2.23_Nneg   0.2520001  SETFA  FAGES SETFA-FAGES\n",
       "3 sample4-4.21_Nneg sample1-2.23_Nneg   0.1917811  SETFA  FAGES SETFA-FAGES\n",
       "4 sample4-2.02_Nneg sample6-2.26_Nneg   0.2347751  SETFA    B73   SETFA-B73\n",
       "5 sample4-4.21_Nneg sample6-2.26_Nneg   0.2217684  SETFA    B73   SETFA-B73\n",
       "6 sample1-2.23_Nneg sample6-2.26_Nneg   0.2366394  FAGES    B73   FAGES-B73\n",
       "                             PlotComp phy_Dist DAY_A DAY_B    CNdist      Ndist\n",
       "1 sample4-2.02_Nneg-sample4-4.21_Nneg  0.00000    61    61 0.0918712 0.01193586\n",
       "2 sample4-2.02_Nneg-sample1-2.23_Nneg  0.43592    61    36 0.2706106 0.34763971\n",
       "3 sample4-4.21_Nneg-sample1-2.23_Nneg  0.43592    61    36 0.3624818 0.33570384\n",
       "4 sample4-2.02_Nneg-sample6-2.26_Nneg  0.03111    61    79 0.4439549 0.69241336\n",
       "5 sample4-4.21_Nneg-sample6-2.26_Nneg  0.03111    61    79 0.3520837 0.70434922\n",
       "6 sample1-2.23_Nneg-sample6-2.26_Nneg  0.43787    36    79 0.7145655 1.04005307\n",
       "    SSdist TimeDist\n",
       "1 0.000000        0\n",
       "2 3.049799       25\n",
       "3 3.049799       25\n",
       "4 5.220356       18\n",
       "5 5.220356       18\n",
       "6 2.170556       43\n"
      ]
     },
     "metadata": {},
     "output_type": "display_data"
    }
   ],
   "source": [
    "%%R\n",
    "SubDist %>% head"
   ]
  },
  {
   "cell_type": "code",
   "execution_count": 29,
   "metadata": {},
   "outputs": [
    {
     "data": {
      "text/plain": [
       "Denom. DF: 1075 \n",
       "                  numDF  F-value p-value\n",
       "(Intercept)           1 755.7309  <.0001\n",
       "poly(TimeDist, 2)     2 221.2188  <.0001\n",
       "SSdist                1  30.8716  <.0001\n",
       "CNdist                1   7.0003  0.0083\n",
       "Ndist                 1   0.9339  0.3341\n"
      ]
     },
     "metadata": {},
     "output_type": "display_data"
    }
   ],
   "source": [
    "%%R\n",
    "fit3 =  gls(w_Unif_Dist ~ poly(TimeDist,2) + SSdist + CNdist + Ndist, \n",
    "             correlation = corMLPE(form= ~ PlotA + PlotB), data = SubDist, method = \"ML\")\n",
    "anova(fit3)"
   ]
  },
  {
   "cell_type": "markdown",
   "metadata": {},
   "source": [
    "* checked Ndist, not signficant so remove from model"
   ]
  },
  {
   "cell_type": "code",
   "execution_count": 30,
   "metadata": {
    "scrolled": true
   },
   "outputs": [
    {
     "data": {
      "text/plain": [
       "Denom. DF: 1076 \n",
       "                  numDF  F-value p-value\n",
       "(Intercept)           1 751.7227  <.0001\n",
       "poly(TimeDist, 2)     2 221.2912  <.0001\n",
       "SSdist                1  30.8963  <.0001\n",
       "CNdist                1   7.0085  0.0082\n"
      ]
     },
     "metadata": {},
     "output_type": "display_data"
    }
   ],
   "source": [
    "%%R\n",
    "fit3 =  gls(w_Unif_Dist ~ poly(TimeDist,2) + SSdist + CNdist, \n",
    "             correlation = corMLPE(form= ~ PlotA + PlotB), data = SubDist, method = \"ML\")\n",
    "anova(fit3)"
   ]
  },
  {
   "cell_type": "code",
   "execution_count": 31,
   "metadata": {},
   "outputs": [
    {
     "data": {
      "text/plain": [
       "        Model df       AIC       BIC   logLik   Test   L.Ratio p-value\n",
       "fitNull     1  3 -2884.528 -2869.571 1445.264                         \n",
       "fit1        2  4 -3161.599 -3141.656 1584.799 1 vs 2 279.07099  <.0001\n",
       "fit2        3  5 -3237.232 -3212.304 1623.616 2 vs 3  77.63393  <.0001\n",
       "fit3        4  7 -3270.309 -3235.409 1642.154 3 vs 4  37.07615  <.0001\n"
      ]
     },
     "metadata": {},
     "output_type": "display_data"
    }
   ],
   "source": [
    "%%R\n",
    "anova(fitNull, fit1, fit2, fit3)"
   ]
  },
  {
   "cell_type": "code",
   "execution_count": 32,
   "metadata": {},
   "outputs": [
    {
     "data": {
      "text/plain": [
       "[1] \"Time R2: 0.22752839714638\"\n",
       "[1] \"Time polynomial R2: 0.281059587398447\"\n",
       "[1] \"Time poly and functional R2: 0.305299739810103\"\n"
      ]
     },
     "metadata": {},
     "output_type": "display_data"
    }
   ],
   "source": [
    "%%R\n",
    "fit1R = MuMIn::r.squaredLR(fit1, null = fitNull)\n",
    "fit2R = MuMIn::r.squaredLR(fit2, null = fitNull)\n",
    "fit3R = MuMIn::r.squaredLR(fit3, null = fitNull)\n",
    "paste(\"Time R2:\", fit1R) %>% print\n",
    "paste(\"Time polynomial R2:\", fit2R) %>% print\n",
    "paste(\"Time poly and functional R2:\", fit3R) %>% print"
   ]
  },
  {
   "cell_type": "markdown",
   "metadata": {},
   "source": [
    "### Check correlation between phylogenetic distance and sampling time"
   ]
  },
  {
   "cell_type": "code",
   "execution_count": 33,
   "metadata": {},
   "outputs": [
    {
     "data": {
      "text/plain": [
       "         TimeDist phy_Dist\n",
       "TimeDist     1.00     0.56\n",
       "phy_Dist     0.56     1.00\n",
       "\n",
       "n= 3741 \n",
       "\n",
       "\n",
       "P\n",
       "         TimeDist phy_Dist\n",
       "TimeDist           0      \n",
       "phy_Dist  0               \n"
      ]
     },
     "metadata": {},
     "output_type": "display_data"
    }
   ],
   "source": [
    "%%R\n",
    "#lm(TimeDist~phy_Dist, data = Dist) %>% summary\n",
    "Dist[,c(\"TimeDist\", \"phy_Dist\")] %>% as.matrix %>% rcorr(type = \"pearson\")"
   ]
  },
  {
   "cell_type": "markdown",
   "metadata": {},
   "source": [
    "# Phylogenetic distance and time distance on whole dataset"
   ]
  },
  {
   "cell_type": "code",
   "execution_count": 34,
   "metadata": {},
   "outputs": [
    {
     "data": {
      "text/plain": [
       "              PlotA             PlotB w_Unif_Dist PlantA PlantB     PlantComp\n",
       "1 sample5-1.22_Nneg sample4-2.02_Nneg   0.2069072 75-062  SETFA  75-062-SETFA\n",
       "2 sample5-1.22_Nneg sample4-4.21_Nneg   0.1605861 75-062  SETFA  75-062-SETFA\n",
       "3 sample4-2.02_Nneg sample4-4.21_Nneg   0.1853471  SETFA  SETFA   SETFA-SETFA\n",
       "4 sample5-1.22_Nneg sample5-2.29_Nneg   0.1505018 75-062 75-062 75-062-75-062\n",
       "5 sample4-2.02_Nneg sample5-2.29_Nneg   0.1881794  SETFA 75-062  SETFA-75-062\n",
       "6 sample4-4.21_Nneg sample5-2.29_Nneg   0.1816279  SETFA 75-062  SETFA-75-062\n",
       "                             PlotComp phy_Dist DAY_A DAY_B     CNdist\n",
       "1 sample5-1.22_Nneg-sample4-2.02_Nneg  0.03111    72    61 0.39380360\n",
       "2 sample5-1.22_Nneg-sample4-4.21_Nneg  0.03111    72    61 0.30193240\n",
       "3 sample4-2.02_Nneg-sample4-4.21_Nneg  0.00000    61    61 0.09187120\n",
       "4 sample5-1.22_Nneg-sample5-2.29_Nneg  0.00000    72    72 0.21610061\n",
       "5 sample4-2.02_Nneg-sample5-2.29_Nneg  0.03111    61    72 0.17770299\n",
       "6 sample4-4.21_Nneg-sample5-2.29_Nneg  0.03111    61    72 0.08583178\n",
       "       Ndist   SSdist TimeDist\n",
       "1 0.76475572 4.814891       11\n",
       "2 0.77669158 4.814891       11\n",
       "3 0.01193586 0.000000        0\n",
       "4 0.50962023 0.000000        0\n",
       "5 0.25513548 4.814891       11\n",
       "6 0.26707135 4.814891       11\n"
      ]
     },
     "metadata": {},
     "output_type": "display_data"
    }
   ],
   "source": [
    "%%R\n",
    "head(Dist)"
   ]
  },
  {
   "cell_type": "code",
   "execution_count": 35,
   "metadata": {},
   "outputs": [
    {
     "data": {
      "text/plain": [
       "Generalized least squares fit by REML\n",
       "  Model: w_Unif_Dist ~ I(phy_Dist) + I(phy_Dist^2) \n",
       "  Data: Dist \n",
       "        AIC       BIC   logLik\n",
       "  -12059.69 -12028.56 6034.845\n",
       "\n",
       "Correlation Structure: corMLPE\n",
       " Formula: ~PlotA + PlotB \n",
       " Parameter estimate(s):\n",
       "      Rho \n",
       "0.2240349 \n",
       "\n",
       "Coefficients:\n",
       "                   Value  Std.Error   t-value p-value\n",
       "(Intercept)    0.2176350 0.00662065  32.87216       0\n",
       "I(phy_Dist)    0.7100575 0.04862085  14.60397       0\n",
       "I(phy_Dist^2) -1.3832593 0.10622072 -13.02250       0\n",
       "\n",
       " Correlation: \n",
       "              (Intr) I(p_D)\n",
       "I(phy_Dist)   -0.243       \n",
       "I(phy_Dist^2)  0.219 -0.989\n",
       "\n",
       "Standardized residuals:\n",
       "       Min         Q1        Med         Q3        Max \n",
       "-2.6863034 -0.7135706 -0.1466390  0.6108949  4.3143161 \n",
       "\n",
       "Residual standard error: 0.06212125 \n",
       "Degrees of freedom: 3741 total; 3738 residual\n"
      ]
     },
     "metadata": {},
     "output_type": "display_data"
    }
   ],
   "source": [
    "%%R\n",
    "fitPhy_all <- gls(w_Unif_Dist ~ I(phy_Dist) + I(phy_Dist^2), correlation = corMLPE(form= ~ PlotA + PlotB), \n",
    "               data = Dist)\n",
    "summary(fitPhy_all) %>% print\n",
    "\n"
   ]
  },
  {
   "cell_type": "code",
   "execution_count": 36,
   "metadata": {},
   "outputs": [
    {
     "data": {
      "text/plain": [
       "Generalized least squares fit by maximum likelihood\n",
       "  Model: w_Unif_Dist ~ I(TimeDist) + I(TimeDist^2) \n",
       "  Data: Dist \n",
       "        AIC       BIC   logLik\n",
       "  -12356.49 -12325.35 6183.245\n",
       "\n",
       "Correlation Structure: corMLPE\n",
       " Formula: ~PlotA + PlotB \n",
       " Parameter estimate(s):\n",
       "      Rho \n",
       "0.2670244 \n",
       "\n",
       "Coefficients:\n",
       "                    Value   Std.Error   t-value p-value\n",
       "(Intercept)    0.21697952 0.007360477 29.479003       0\n",
       "I(TimeDist)    0.00313661 0.000186548 16.813975       0\n",
       "I(TimeDist^2) -0.00003615 0.000004626 -7.814622       0\n",
       "\n",
       " Correlation: \n",
       "              (Intr) I(TmD)\n",
       "I(TimeDist)   -0.162       \n",
       "I(TimeDist^2)  0.106 -0.911\n",
       "\n",
       "Standardized residuals:\n",
       "       Min         Q1        Med         Q3        Max \n",
       "-2.3873329 -0.7429831 -0.1477174  0.6000535  4.2742801 \n",
       "\n",
       "Residual standard error: 0.06486497 \n",
       "Degrees of freedom: 3741 total; 3738 residual\n"
      ]
     },
     "metadata": {},
     "output_type": "display_data"
    }
   ],
   "source": [
    "%%R\n",
    "fitTime_all <- gls(w_Unif_Dist ~ I(TimeDist) + I(TimeDist^2), correlation = corMLPE(form= ~ PlotA + PlotB), \n",
    "               data = Dist, method = \"ML\")\n",
    "summary(fitTime_all) %>% print"
   ]
  },
  {
   "cell_type": "markdown",
   "metadata": {},
   "source": [
    "## Graphs"
   ]
  },
  {
   "cell_type": "code",
   "execution_count": 71,
   "metadata": {
    "collapsed": true
   },
   "outputs": [],
   "source": [
    "%%R\n",
    "theme_pub = function (base_size = 11, base_family = \"Helvetica\") \n",
    "{\n",
    "    theme_grey(base_size = base_size, base_family = base_family) %+replace% \n",
    "        theme(\n",
    "            axis.line.x = element_line(size = .5),\n",
    "            axis.line.y = element_line(size = .5),\n",
    "            panel.background = element_rect(fill = \"white\", colour = NA), \n",
    "            panel.border = element_rect(fill = NA, color = \"black\", size = .5), \n",
    "            panel.grid.major = element_blank(), \n",
    "            panel.grid.minor = element_blank(), \n",
    "            strip.background = element_rect(fill = \"grey85\", \n",
    "                colour = \"grey20\"), \n",
    "            legend.key = element_rect(fill = \"white\", \n",
    "                colour = NA), complete = TRUE)\n",
    "    }"
   ]
  },
  {
   "cell_type": "markdown",
   "metadata": {},
   "source": [
    "### phylogenetic distance vs microbial community \n",
    "* This is just a placeholder for figure from PhylogeneticDistance_corMLPE_mergedbygenotype_msVersion.ipynb"
   ]
  },
  {
   "cell_type": "code",
   "execution_count": 86,
   "metadata": {
    "hide_input": false,
    "scrolled": false
   },
   "outputs": [
    {
     "data": {
      "image/png": "[encoded data removed]"
     },
     "metadata": {},
     "output_type": "display_data"
    }
   ],
   "source": [
    "%%R -w 800 -h 600\n",
    "\n",
    "\n",
    "#test <- function(x) { -0.8623024 *x ^ 2 + 0.5146473*x + 0.1665771}\n",
    "# test.semin <- function(x) {-1.5911895*x ^ 2 + 0.6147331*x + 0.2047362}\n",
    "# test.semax <- function(x) {-1.1749673*x ^ 2 + 0.8052369*x + 0.2305356}\n",
    "\n",
    "p = ggplot(Dist, aes(y = w_Unif_Dist, x = phy_Dist)) \n",
    "p = p + geom_point(pch = 21) #aes(size = phy_Dist), shape = 1)\n",
    "#p = p + stat_smooth(method = \"lm\", se = FALSE)\n",
    "p = p + theme_pub()\n",
    "#p = p + theme(panel.border = element_blank()) \n",
    "#p = p + theme(axis.line.x = element_line(color=\"black\", size = 1),\n",
    " #   axis.line.y = element_line(color=\"black\", size = 1))\n",
    "\n",
    "# p = p + stat_smooth(method = lm, y ~ poly(x,2), se = TRUE)\n",
    "p = p + stat_function(fun = test)\n",
    "# p = p + stat_function(fun = test.semin, linetype = \"dashed\")\n",
    "# p = p + stat_function(fun = test.semax, linetype = \"dashed\")\n",
    "# p = p + stat_smooth(method = \"lm\", se = FALSE)\n",
    "p = p + labs(x = \"Plant phylogenetic distance\")\n",
    "p = p + labs(y = \"Weighted-UniFrac distance\")\n",
    "p\n",
    "\n",
    "# # Time distance\n",
    "# test <- function(x) {-0.0000487*x^2 + .00359*x + .2148}\n",
    "# p1 = ggplot(Dist, aes(y = w_Unif_Dist, x = TimeDist)) \n",
    "# p1 = p1 + geom_point(pch = 21) #aes(size = phy_Dist), shape = 1)\n",
    "# p1 = p1 + theme_pub()\n",
    "# #p1 = p1 + ggtitle(\"Time\")\n",
    "# p1 = p1 + stat_function(fun = test)\n",
    "# p1 = p1 + labs(x = \"Days between samples\")\n",
    "# p1 = p1 + labs(y = \"Microbial community \\n weighted UniFrac distance\") \n",
    "# p1 = p1 + theme(axis.title.y = element_blank())\n",
    "# #p1 = p1 + labs(y = \"Weighted UniFrac distance\")\n",
    "# p1\n",
    "\n",
    "# p2 = ggplot(Dist, aes(y = w_Unif_Dist, x = SSdist)) \n",
    "# p2 = p2 + geom_point(pch = 21) #aes(size = phy_Dist), shape = 1)\n",
    "# p2 = p2 + stat_smooth(method = \"lm\", se = FALSE)\n",
    "# p2 = p2 + theme_bw(base_size = 16)\n",
    "# p2 = p2 + ggtitle(\"Plant Growth and N Uptake\")\n",
    "# #p = p + stat_smooth(method = lm, y ~ poly(x,2), se = FALSE)\n",
    "# #p1 = p1 + stat_function(fun = test)\n",
    "# p2 = p2 + labs(x = \"PCA distance\")\n",
    "# p2 = p2 + labs(y = \"Weighted UniFrac distance\")\n",
    "# p2\n",
    "\n",
    "\n",
    "# p3 =    ggplot(Dist, aes(x = SameDay, y = w_Unif_Dist))  +\n",
    "#        geom_boxplot() +\n",
    "#         theme(axis.title.x = element_blank())+ \n",
    "#         ylab(\"Weighted UniFrac distance\") +\n",
    "#         ggtitle(\"Sampling Date\") +\n",
    "#         theme_bw(base_size = 16)+\n",
    "#         theme(axis.title.x = element_blank()) +\n",
    "#         theme(legend.position=\"none\")\n",
    "\n",
    "p"
   ]
  },
  {
   "cell_type": "code",
   "execution_count": 78,
   "metadata": {},
   "outputs": [
    {
     "data": {
      "text/plain": [
       "[1] \"(Intercept)\"   \"I(TimeDist)\"   \"I(TimeDist^2)\"\n",
       "                      lower          est.         upper\n",
       "(Intercept)    2.040313e-01  2.238915e-01  2.437517e-01\n",
       "I(TimeDist)    4.553245e-03  5.237598e-03  5.921952e-03\n",
       "I(TimeDist^2) -9.154633e-05 -7.511219e-05 -5.867806e-05\n"
      ]
     },
     "metadata": {},
     "output_type": "display_data"
    }
   ],
   "source": [
    "%%R\n",
    "# get coefficients from timedist model\n",
    "#intervals(fit2a)$coef\n",
    "i2a = intervals(fit2a)$coef %>% as.data.frame()\n",
    "\n",
    "\n",
    "i2a"
   ]
  },
  {
   "cell_type": "code",
   "execution_count": 87,
   "metadata": {},
   "outputs": [
    {
     "data": {
      "image/png": "[encoded data removed]"
     },
     "metadata": {},
     "output_type": "display_data"
    }
   ],
   "source": [
    "%%R\n",
    "f <- function(x) {i2a$est[3]*x^2 + i2a$est[2]*x + i2a$est[1]}\n",
    "# fl.CImin <- function(x) {-0.00004522159*x^2 + .002770986*x + .2025533}\n",
    "# fl.CImax <- function(x) {-0.00002708626*x^2 + .003502240*x + .2314058}\n",
    "\n",
    "p1 = ggplot(SubDist, aes(y = w_Unif_Dist, x = TimeDist)) \n",
    "p1 = p1 + geom_point(pch = 21) #aes(size = phy_Dist), shape = 1)\n",
    "p1 = p1 + theme_pub()\n",
    "#p1 = p1 + ggtitle(\"Time\")\n",
    "p1 = p1 + stat_function(fun = fl)\n",
    "# p1 = p1 + stat_function(fun = fl.CImin, linetype = \"dashed\")\n",
    "# p1 = p1 + stat_function(fun = fl.CImax, linetype = \"dashed\")\n",
    "\n",
    "p1 = p1 + labs(x = \"Days between harvests\")\n",
    "p1 = p1 + labs(y = \"Weighted-UniFrac distance\") \n",
    "#p1 = p1 + theme(axis.title.y = element_blank())\n",
    "#p1 = p1 + labs(y = \"Weighted UniFrac distance\")\n",
    "p1"
   ]
  },
  {
   "cell_type": "code",
   "execution_count": null,
   "metadata": {},
   "outputs": [],
   "source": [
    "%%R -w 1000 -h 400\n",
    "p\n"
   ]
  },
  {
   "cell_type": "code",
   "execution_count": 88,
   "metadata": {
    "hide_input": true,
    "scrolled": false
   },
   "outputs": [
    {
     "data": {
      "image/png": "[encoded data removed]"
     },
     "metadata": {},
     "output_type": "display_data"
    }
   ],
   "source": [
    "%%R -w 500 -h 400\n",
    "p4 = Dist %>%\n",
    "    mutate(Related = ifelse(phy_Dist == 0, \"Self\",\n",
    "               ifelse(phy_Dist == 0.0002, \"Intra-specific\", #\"Interspecific\"))) %>%\n",
    "                ifelse(phy_Dist < 0.1, \"Within-family\", \"Between-families\")))) %>%\n",
    "\n",
    "\n",
    "    mutate(Related = factor(Related, c(\"Self\",\"Intra-specific\", \"Within-family\", \"Between-families\" ))) %>%\n",
    "\n",
    " ggplot(aes(x = Related, y = w_Unif_Dist))  +\n",
    "       geom_boxplot() +\n",
    "\n",
    "#         ylab(\"Weighted UniFrac\") +\n",
    "        #ggtitle(\"Intra- and Interspecific Variation\") +\n",
    "        theme_pub()+\n",
    "        labs(y = \"Weighted-UniFrac distance\") +\n",
    "        theme(axis.title.x = element_blank(),\n",
    "             axis.text.x = element_text(angle = 30, size = 9, vjust = 1, hjust =1)) +\n",
    "       # theme(axis.title.y = element_blank()) +\n",
    "        theme(legend.position=\"none\")\n",
    "        #xlab(\"Levels of Host Variation\")\n",
    "p4"
   ]
  },
  {
   "cell_type": "markdown",
   "metadata": {},
   "source": [
    "## Graph of otus showing different trends"
   ]
  },
  {
   "cell_type": "code",
   "execution_count": 89,
   "metadata": {
    "scrolled": false
   },
   "outputs": [
    {
     "data": {
      "text/plain": [
       "phyloseq-class experiment-level object\n",
       "otu_table()   OTU Table:         [ 6 taxa and 87 samples ]\n",
       "sample_data() Sample Data:       [ 87 samples by 56 sample variables ]\n",
       "tax_table()   Taxonomy Table:    [ 6 taxa by 8 taxonomic ranks ]\n",
       "phy_tree()    Phylogenetic Tree: [ 6 tips and 5 internal nodes ]\n"
      ]
     },
     "metadata": {},
     "output_type": "display_data"
    }
   ],
   "source": [
    "%%R\n",
    "phy.sub = transform_sample_counts(phy, function(x) x/sum(x)) %>%\n",
    "             prune_taxa(c(\"OTU.6\", \"OTU.3\", \"OTU.53\", \"OTU.9501\", \"OTU.256\", \"OTU.197\"),.)\n",
    "phy.sub\n"
   ]
  },
  {
   "cell_type": "code",
   "execution_count": 90,
   "metadata": {},
   "outputs": [],
   "source": [
    "%%R\n",
    "\n",
    "mdf = psmelt(phy.sub)\n"
   ]
  },
  {
   "cell_type": "code",
   "execution_count": 91,
   "metadata": {
    "collapsed": true
   },
   "outputs": [],
   "source": [
    "%%R\n",
    "mdf = mdf %>%\n",
    "    mutate(TypePlot = ifelse(Type %in% c(\"Dicot-Myc\", \"Dicot-NM\"), \"Dicot\", as.character(Type)))"
   ]
  },
  {
   "cell_type": "code",
   "execution_count": 92,
   "metadata": {},
   "outputs": [],
   "source": [
    "%%R\n",
    "O.3 = filter(mdf, OTU == \"OTU.3\") %>%\n",
    "        ggplot(aes(x=DAP, y=Abundance, color = TypePlot)) +\n",
    "  geom_point(position=position_jitter(w=0.1,h=0)) +\n",
    "    theme_pub()+\n",
    "    scale_y_log10() +\n",
    "    theme(legend.position = \"bottom\", \n",
    "          legend.title=element_blank(),\n",
    "         axis.title.x = element_blank())+\n",
    "    annotate(\"text\", x = 50, y = .1, label = \"italic(Streptomyces)~italic(sp.)~italic(A)\", \n",
    "             parse=TRUE, size = 3)\n",
    "    #ggtitle(\"Streptomyces sp. A\")\n",
    " \n",
    "\n",
    "O.197 = filter(mdf, OTU == \"OTU.197\") %>%\n",
    "        ggplot(aes(x=DAP, y=Abundance, color = TypePlot)) +\n",
    "  geom_point(position=position_jitter(w=0.1,h=0)) +\n",
    "    theme_pub()+\n",
    "    scale_y_log10() +\n",
    "    theme(legend.position = \"bottom\", \n",
    "          legend.title=element_blank()) +\n",
    "    xlab(\"Days after planting\") +\n",
    "    annotate(\"text\", x = 50, y = .01, label = \"italic(Streptomyces)~italic(sp.)~italic(B)\", \n",
    "             parse=TRUE, size = 3)\n",
    "    #ggtitle(\"Streptomyces sp. B\") \n",
    "\n",
    "\n",
    "\n",
    "g_legend<-function(a.gplot){\n",
    "    tmp <- ggplot_gtable(ggplot_build(a.gplot))\n",
    "    leg <- which(sapply(tmp$grobs, function(x) x$name) == \"guide-box\")\n",
    "    legend <- tmp$grobs[[leg]]\n",
    "    legend\n",
    "}\n",
    "\n",
    "legend1 <- g_legend(O.197)\n",
    "\n",
    "                     \n",
    "O.197 =  O.197 + theme(legend.position = 'none')\n",
    "O.3 =  O.3 + theme(legend.position = 'none')\n",
    "                        \n",
    "\n"
   ]
  },
  {
   "cell_type": "code",
   "execution_count": 93,
   "metadata": {
    "scrolled": true
   },
   "outputs": [
    {
     "name": "stderr",
     "output_type": "stream",
     "text": [
      "/opt/anaconda2/lib/python2.7/site-packages/rpy2/rinterface/__init__.py:186: RRuntimeWarning: Loading required package: grid\n",
      "\n",
      "  warnings.warn(x, RRuntimeWarning)\n"
     ]
    },
    {
     "data": {
      "text/plain": [
       "TableGrob (2 x 1) \"arrange\": 2 grobs\n",
       "  z     cells    name              grob\n",
       "1 1 (1-1,1-1) arrange    gtable[layout]\n",
       "2 2 (2-2,1-1) arrange gtable[guide-box]\n"
      ]
     },
     "metadata": {},
     "output_type": "display_data"
    },
    {
     "data": {
      "image/png": "[encoded data removed]"
     },
     "metadata": {},
     "output_type": "display_data"
    }
   ],
   "source": [
    "%%R\n",
    "require(\"grid\")\n",
    "grid.draw(legend1) # draws legend\n",
    "#grid.draw(ggplotGrob(legend1)) # does not draw, throws error because it is already a grob\n",
    "p3 = arrangeGrob(rbind(ggplotGrob(O.3), ggplotGrob(O.197), size = \"first\"),legend1, ncol = 1, heights = c(5, .5))\n",
    "p3"
   ]
  },
  {
   "cell_type": "code",
   "execution_count": 94,
   "metadata": {
    "scrolled": true
   },
   "outputs": [
    {
     "data": {
      "image/png": "[encoded data removed]"
     },
     "metadata": {},
     "output_type": "display_data"
    }
   ],
   "source": [
    "%%R -w 800 -h 600\n",
    "\n",
    "grid.arrange(p,p1,p4,p3, ncol = 2)"
   ]
  },
  {
   "cell_type": "code",
   "execution_count": 95,
   "metadata": {},
   "outputs": [
    {
     "data": {
      "text/plain": [
       "png \n",
       "  2 \n"
      ]
     },
     "metadata": {},
     "output_type": "display_data"
    }
   ],
   "source": [
    "%%R\n",
    "svg(filename = '/home/bryan/RhizCG/figures/ms_figures/betaDiversity_revised.svg', width = 7.08, height = 5)\n",
    "grid.arrange(p,p1,p4,p3, ncol = 2)\n",
    "dev.off()"
   ]
  },
  {
   "cell_type": "markdown",
   "metadata": {},
   "source": [
    "# Intraspecific functional variation"
   ]
  },
  {
   "cell_type": "code",
   "execution_count": 85,
   "metadata": {},
   "outputs": [
    {
     "data": {
      "text/plain": [
       "[1] 780  16\n",
       "[1] 720  16\n"
      ]
     },
     "metadata": {},
     "output_type": "display_data"
    }
   ],
   "source": [
    "%%R\n",
    "maize = c(\"B73\", \"MS71\", \"Mo18\", \"Il14H\", \"Tx303\", \"Oh7B\",\n",
    "         \"B97\", \"Hp301\", \"Ki3\", \"H99\") #75-062 not included because genetic relatedness was not available\n",
    "\n",
    "NAMDist = filter(Dist, PlantA %in% maize & PlantB %in% maize) \n",
    "dim(NAMDist) %>% print\n",
    "NAMDist = filter(NAMDist, phy_Dist > 0.000)\n",
    "dim(NAMDist)"
   ]
  },
  {
   "cell_type": "code",
   "execution_count": null,
   "metadata": {
    "collapsed": true
   },
   "outputs": [],
   "source": [
    "%%R\n",
    "# remove self comparisons\n",
    "\n",
    "NAMDist = filter(Dist, phy_Dist > 0.000)\n",
    "dim(SubDist)"
   ]
  },
  {
   "cell_type": "code",
   "execution_count": 86,
   "metadata": {},
   "outputs": [
    {
     "data": {
      "text/plain": [
       "Generalized least squares fit by REML\n",
       "  Model: w_Unif_Dist ~ 1 \n",
       "  Data: NAMDist \n",
       "        AIC       BIC   logLik\n",
       "  -2775.158 -2761.424 1390.579\n",
       "\n",
       "Correlation Structure: corMLPE\n",
       " Formula: ~PlotA + PlotB \n",
       " Parameter estimate(s):\n",
       "      Rho \n",
       "0.3198367 \n",
       "\n",
       "Coefficients:\n",
       "                Value   Std.Error  t-value p-value\n",
       "(Intercept) 0.2076891 0.009516128 21.82496       0\n",
       "\n",
       "Standardized residuals:\n",
       "       Min         Q1        Med         Q3        Max \n",
       "-1.6986396 -0.7477845 -0.1698686  0.5730852  3.2261110 \n",
       "\n",
       "Residual standard error: 0.05279888 \n",
       "Degrees of freedom: 720 total; 719 residual\n"
      ]
     },
     "metadata": {},
     "output_type": "display_data"
    }
   ],
   "source": [
    "%%R\n",
    "fitNAM_Null =  gls(w_Unif_Dist ~ 1, \n",
    "             correlation = corMLPE(form= ~ PlotA + PlotB), data = NAMDist)\n",
    "summary(fitNAM_Null)"
   ]
  },
  {
   "cell_type": "code",
   "execution_count": 87,
   "metadata": {},
   "outputs": [
    {
     "data": {
      "text/plain": [
       "Denom. DF: 718 \n",
       "            numDF  F-value p-value\n",
       "(Intercept)     1 477.0794  <.0001\n",
       "TimeDist        1   0.1696  0.6806\n"
      ]
     },
     "metadata": {},
     "output_type": "display_data"
    }
   ],
   "source": [
    "%%R\n",
    "fitNAM_1 =  gls(w_Unif_Dist ~ TimeDist, \n",
    "             correlation = corMLPE(form= ~ PlotA + PlotB), data = NAMDist)\n",
    "anova(fitNAM_1)"
   ]
  },
  {
   "cell_type": "code",
   "execution_count": 89,
   "metadata": {},
   "outputs": [
    {
     "data": {
      "text/plain": [
       "Denom. DF: 717 \n",
       "            numDF  F-value p-value\n",
       "(Intercept)     1 469.0943  <.0001\n",
       "TimeDist        1   0.1690  0.6811\n",
       "M_CNdist        1   4.2215  0.0403\n"
      ]
     },
     "metadata": {},
     "output_type": "display_data"
    }
   ],
   "source": [
    "%%R\n",
    "fitNAM_2 =  gls(w_Unif_Dist ~ TimeDist + M_CNdist, \n",
    "             correlation = corMLPE(form= ~ PlotA + PlotB), data = NAMDist)\n",
    "anova(fitNAM_2)"
   ]
  },
  {
   "cell_type": "code",
   "execution_count": 90,
   "metadata": {},
   "outputs": [
    {
     "data": {
      "text/plain": [
       "Denom. DF: 718 \n",
       "            numDF  F-value p-value\n",
       "(Intercept)     1 471.3616  <.0001\n",
       "SSdist          1   2.9533  0.0861\n"
      ]
     },
     "metadata": {},
     "output_type": "display_data"
    }
   ],
   "source": [
    "%%R\n",
    "fitNAM_3 =  gls(w_Unif_Dist ~ SSdist, \n",
    "             correlation = corMLPE(form= ~ PlotA + PlotB), data = NAMDist)\n",
    "anova(fitNAM_3)"
   ]
  },
  {
   "cell_type": "code",
   "execution_count": 92,
   "metadata": {},
   "outputs": [
    {
     "data": {
      "text/plain": [
       "Denom. DF: 718 \n",
       "            numDF  F-value p-value\n",
       "(Intercept)     1 469.1198  <.0001\n",
       "M_Ndist         1   0.7731  0.3795\n"
      ]
     },
     "metadata": {},
     "output_type": "display_data"
    }
   ],
   "source": [
    "%%R\n",
    "fitNAM_4 =  gls(w_Unif_Dist ~ M_Ndist, \n",
    "             correlation = corMLPE(form= ~ PlotA + PlotB), data = NAMDist)\n",
    "anova(fitNAM_4)"
   ]
  },
  {
   "cell_type": "code",
   "execution_count": 93,
   "metadata": {},
   "outputs": [
    {
     "data": {
      "text/plain": [
       "Denom. DF: 718 \n",
       "            numDF  F-value p-value\n",
       "(Intercept)     1 469.4062  <.0001\n",
       "M_CNdist        1   4.3931  0.0364\n"
      ]
     },
     "metadata": {},
     "output_type": "display_data"
    }
   ],
   "source": [
    "%%R\n",
    "fitNAM_5 =  gls(w_Unif_Dist ~ M_CNdist, \n",
    "             correlation = corMLPE(form= ~ PlotA + PlotB), data = NAMDist)\n",
    "anova(fitNAM_5)"
   ]
  },
  {
   "cell_type": "code",
   "execution_count": 97,
   "metadata": {},
   "outputs": [
    {
     "data": {
      "text/plain": [
       "            Model df       AIC       BIC   logLik   Test  L.Ratio p-value\n",
       "fitNAM_Null     1  3 -2775.158 -2761.424 1390.579                        \n",
       "fitNAM_5        2  4 -2769.785 -2751.479 1388.892 1 vs 2 3.372955  0.0663\n"
      ]
     },
     "metadata": {},
     "output_type": "display_data"
    }
   ],
   "source": [
    "%%R\n",
    "anova(fitNAM_Null, fitNAM_5)"
   ]
  },
  {
   "cell_type": "code",
   "execution_count": 95,
   "metadata": {},
   "outputs": [
    {
     "data": {
      "text/plain": [
       "[1] \"CN dist between NAM lines: 0.00604443336749394\"\n"
      ]
     },
     "metadata": {},
     "output_type": "display_data"
    }
   ],
   "source": [
    "%%R\n",
    "fit5R = MuMIn::r.squaredLR(fitNAM_5, null = fitNAM_Null)\n",
    "paste(\"CN dist between NAM lines:\", fit5R) %>% print"
   ]
  },
  {
   "cell_type": "code",
   "execution_count": 88,
   "metadata": {},
   "outputs": [
    {
     "data": {
      "text/plain": [
       "Denom. DF: 715 \n",
       "            numDF  F-value p-value\n",
       "(Intercept)     1 459.6498  <.0001\n",
       "TimeDist        1   0.1680  0.6821\n",
       "M_CNdist        1   4.2480  0.0397\n",
       "SSdist          1   2.7131  0.1000\n",
       "M_Ndist         1   0.5107  0.4751\n"
      ]
     },
     "metadata": {},
     "output_type": "display_data"
    }
   ],
   "source": [
    "%%R\n",
    "fitNAM_2 =  gls(w_Unif_Dist ~ TimeDist + M_CNdist + SSdist + M_Ndist, \n",
    "             correlation = corMLPE(form= ~ PlotA + PlotB), data = NAMDist)\n",
    "anova(fitNAM_2)"
   ]
  },
  {
   "cell_type": "code",
   "execution_count": null,
   "metadata": {},
   "outputs": [],
   "source": [
    "%%R\n",
    "\n",
    "fit_DS_t =  gls(w_Unif_Dist ~ TimeDist, \n",
    "             correlation = corMLPE(form= ~ PlotA + PlotB), data = SubDist)\n",
    "summary(fit_DS_t)"
   ]
  },
  {
   "cell_type": "code",
   "execution_count": null,
   "metadata": {},
   "outputs": [],
   "source": [
    "%%R\n",
    "\n",
    "fit_DS_tt =  gls(w_Unif_Dist ~ I(TimeDist) + I(TimeDist^2), \n",
    "             correlation = corMLPE(form= ~ PlotA + PlotB), data = SubDist)\n",
    "summary(fit_DS_tt)"
   ]
  },
  {
   "cell_type": "code",
   "execution_count": null,
   "metadata": {},
   "outputs": [],
   "source": [
    "%%R\n",
    "\n",
    "fit_DS_p =  gls(w_Unif_Dist ~ I(phy_Dist) + I(phy_Dist^2), \n",
    "             correlation = corMLPE(form= ~ PlotA + PlotB), data = SubDist)\n",
    "summary(fit_DS_p)\n"
   ]
  },
  {
   "cell_type": "code",
   "execution_count": null,
   "metadata": {},
   "outputs": [],
   "source": [
    "%%R\n",
    "\n",
    "fit_DS_tp =  gls(w_Unif_Dist ~ I(TimeDist) + I(TimeDist^2) + I(phy_Dist) + I(phy_Dist^2), \n",
    "             correlation = corMLPE(form= ~ PlotA + PlotB), data = SubDist)\n"
   ]
  },
  {
   "cell_type": "code",
   "execution_count": null,
   "metadata": {},
   "outputs": [],
   "source": [
    "%%R\n",
    "summary(fit_DS_tp)"
   ]
  },
  {
   "cell_type": "code",
   "execution_count": null,
   "metadata": {},
   "outputs": [],
   "source": [
    "%%R -w 800 -h 600\n",
    "test <- function(x) {-.701*x ^ 2 + .435*x + .217}\n",
    "\n",
    "p = ggplot(SubDist, aes(y = w_Unif_Dist, x = phy_Dist)) \n",
    "p = p + geom_point(pch = 21) #aes(size = phy_Dist), shape = 1)\n",
    "#p = p + stat_smooth(method = \"lm\", se = FALSE)\n",
    "p = p + theme_bw(base_size = 24)\n",
    "p = p + theme(panel.border = element_blank()) \n",
    "p = p + theme(axis.line.x = element_line(color=\"black\", size = 1),\n",
    "    axis.line.y = element_line(color=\"black\", size = 1))\n",
    "\n",
    "# p = p + stat_smooth(method = lm, y ~ poly(x,2), se = FALSE)\n",
    "p = p + stat_function(fun = test)\n",
    "# p = p + stat_smooth(method = \"lm\", se = FALSE)\n",
    "p = p + labs(x = \"Plant phylogenetic distance\")\n",
    "p = p + labs(y = \"Microbial community \\n weighted UniFrac distance \\n self comparisons removed\")\n",
    "p"
   ]
  },
  {
   "cell_type": "markdown",
   "metadata": {},
   "source": [
    "# GLS if intraspecific and self comparisons are removed"
   ]
  },
  {
   "cell_type": "markdown",
   "metadata": {},
   "source": [
    "## Is sample date more informative than time once self and intra-specific comparisons are removed"
   ]
  },
  {
   "cell_type": "code",
   "execution_count": null,
   "metadata": {},
   "outputs": [],
   "source": [
    "%%R\n",
    "dim(Dist) %>% print\n",
    "SubDist = filter(Dist, phy_Dist > 0.003)\n",
    "dim(SubDist) %>% print\n"
   ]
  },
  {
   "cell_type": "code",
   "execution_count": null,
   "metadata": {},
   "outputs": [],
   "source": [
    "%%R\n",
    "\n",
    "fit_ds1 =  gls(w_Unif_Dist ~ SameDay, \n",
    "             correlation = corMLPE(form= ~ PlotA + PlotB), data = SubDist)\n",
    "summary(fit_ds1)"
   ]
  },
  {
   "cell_type": "code",
   "execution_count": null,
   "metadata": {},
   "outputs": [],
   "source": [
    "%%R\n",
    "\n",
    "fit_ds2 =  gls(w_Unif_Dist ~ TimeDist, \n",
    "             correlation = corMLPE(form= ~ PlotA + PlotB), data = SubDist)\n",
    "summary(fit_ds2)"
   ]
  },
  {
   "cell_type": "code",
   "execution_count": null,
   "metadata": {},
   "outputs": [],
   "source": [
    "%%R\n",
    "fit_ds3 =  gls(w_Unif_Dist ~ poly(TimeDist, 2), \n",
    "             correlation = corMLPE(form= ~ PlotA + PlotB), data = SubDist)\n",
    "summary(fit_ds3)"
   ]
  },
  {
   "cell_type": "code",
   "execution_count": null,
   "metadata": {},
   "outputs": [],
   "source": [
    "%%R\n",
    "fit_ds3 =  gls(w_Unif_Dist ~ I(TimeDist) + I(TimeDist^2), \n",
    "             correlation = corMLPE(form= ~ PlotA + PlotB), data = SubDist)\n",
    "summary(fit_ds3)"
   ]
  },
  {
   "cell_type": "code",
   "execution_count": null,
   "metadata": {},
   "outputs": [],
   "source": [
    "%%R\n",
    "\n",
    "fit_ds4 =  gls(w_Unif_Dist ~ I(phy_Dist) + I(phy_Dist^2), \n",
    "             correlation = corMLPE(form= ~ PlotA + PlotB), data = SubDist)\n",
    "summary(fit_ds4)"
   ]
  },
  {
   "cell_type": "code",
   "execution_count": null,
   "metadata": {
    "collapsed": true
   },
   "outputs": [],
   "source": [
    "%%R\n",
    "fit_ds5 =  gls(w_Unif_Dist ~ I(TimeDist) + I(TimeDist^2) + I(phy_Dist) + I(phy_Dist^2), \n",
    "             correlation = corMLPE(form= ~ PlotA + PlotB), data = SubDist)\n",
    "summary(fit_ds5)"
   ]
  },
  {
   "cell_type": "code",
   "execution_count": null,
   "metadata": {
    "scrolled": false
   },
   "outputs": [],
   "source": [
    "%%R\n",
    "summary(fit_ds5)"
   ]
  },
  {
   "cell_type": "code",
   "execution_count": null,
   "metadata": {},
   "outputs": [],
   "source": [
    "%%R\n",
    "test <- function(x) {-.710*x ^ 2 + .365*x + .236}\n",
    "ps = ggplot(SubDist, aes(y = w_Unif_Dist, x = phy_Dist)) \n",
    "ps= ps + geom_point(pch = 21) #aes(size = phy_Dist), shape = 1)\n",
    "#p = p + stat_smooth(method = \"lm\", se = FALSE)\n",
    "ps = ps + theme_bw(base_size = 16)\n",
    "ps = ps + theme(panel.border = element_blank()) \n",
    "ps = ps + theme(axis.line.x = element_line(color=\"black\", size = 1),\n",
    "    axis.line.y = element_line(color=\"black\", size = 1))\n",
    "\n",
    "# p = p + stat_smooth(method = lm, y ~ poly(x,2), se = FALSE)\n",
    "ps = ps + stat_function(fun = test)\n",
    "# p = p + stat_smooth(method = \"lm\", se = FALSE)\n",
    "ps = ps + labs(x = \"Plant phylogenetic distance\")\n",
    "ps = ps + labs(y = \"Microbial community \\n weighted UniFrac distance\")\n",
    "ps"
   ]
  },
  {
   "cell_type": "markdown",
   "metadata": {},
   "source": [
    "# GLS if only same day plants are compared"
   ]
  },
  {
   "cell_type": "code",
   "execution_count": null,
   "metadata": {},
   "outputs": [],
   "source": [
    "%%R\n",
    "dim(Dist) %>% print\n",
    "SubDist = filter(Dist, SameDay == 0)\n",
    "\n",
    "\n",
    "dim(SubDist) %>% print\n",
    "SubDist$PlantA %>% unique\n"
   ]
  },
  {
   "cell_type": "code",
   "execution_count": null,
   "metadata": {},
   "outputs": [],
   "source": [
    "%%R\n",
    "fitSameDay0_a =  gls(w_Unif_Dist ~ phy_Dist, correlation = corMLPE(form= ~ PlotA + PlotB), data = SubDist)\n",
    "summary(fitSameDay0_a)"
   ]
  },
  {
   "cell_type": "code",
   "execution_count": null,
   "metadata": {
    "scrolled": true
   },
   "outputs": [],
   "source": [
    "%%R\n",
    "fitSameDay0_b =  gls(w_Unif_Dist ~ poly(phy_Dist,2), \n",
    "             correlation = corMLPE(form= ~ PlotA + PlotB), data = SubDist)\n",
    "summary(fitSameDay0_b)"
   ]
  },
  {
   "cell_type": "code",
   "execution_count": null,
   "metadata": {
    "scrolled": true
   },
   "outputs": [],
   "source": [
    "%%R\n",
    "dim(Dist) %>% print\n",
    "SubDist = filter(Dist, SameDay == 0 & phy_Dist > 0.000)\n",
    "dim(SubDist)\n",
    "\n",
    "\n",
    "fitSD_dropself_a =  gls(w_Unif_Dist ~ poly(phy_Dist,2), \n",
    "             correlation = corMLPE(form= ~ PlotA + PlotB), data = SubDist)\n",
    "summary(fitSD_dropself_a)"
   ]
  },
  {
   "cell_type": "code",
   "execution_count": null,
   "metadata": {},
   "outputs": [],
   "source": [
    "%%R -w 800 -h 600\n",
    "#test <- function(x) {-.858*x ^ 2 + .69*x + .213}\n",
    "\n",
    "               \n",
    "p = ggplot(SubDist, aes(y = w_Unif_Dist, x = phy_Dist)) \n",
    "p = p + geom_point(pch = 21) #aes(size = phy_Dist), shape = 1)\n",
    "p = p + stat_smooth(method = \"lm\", se = FALSE)\n",
    "p = p + theme_bw(base_size = 24)\n",
    "p = p + theme(panel.border = element_blank()) \n",
    "p = p + theme(axis.line.x = element_line(color=\"black\", size = 1),\n",
    "    axis.line.y = element_line(color=\"black\", size = 1))\n",
    "\n",
    "# p = p + stat_smooth(method = lm, y ~ poly(x,2), se = FALSE)\n",
    "# p = p + stat_function(fun = test)\n",
    "# p = p + stat_smooth(method = \"lm\", se = FALSE)\n",
    "p = p + labs(x = \"Plant phylogenetic distance\")\n",
    "p = p + labs(y = \"Microbial community \\n weighted UniFrac distance\")\n",
    "p_SD_dropself = p\n",
    "p_SD_dropself"
   ]
  },
  {
   "cell_type": "markdown",
   "metadata": {},
   "source": [
    "# DESeq analysis of OTUs that change with time"
   ]
  },
  {
   "cell_type": "code",
   "execution_count": 6,
   "metadata": {},
   "outputs": [
    {
     "data": {
      "text/plain": [
       "phyloseq-class experiment-level object\n",
       "otu_table()   OTU Table:         [ 4980 taxa and 87 samples ]\n",
       "sample_data() Sample Data:       [ 87 samples by 55 sample variables ]\n",
       "tax_table()   Taxonomy Table:    [ 4980 taxa by 8 taxonomic ranks ]\n",
       "phy_tree()    Phylogenetic Tree: [ 4980 tips and 4979 internal nodes ]\n"
      ]
     },
     "metadata": {},
     "output_type": "display_data"
    }
   ],
   "source": [
    "%%R\n",
    "#Read rarified phyloseq object\n",
    "F = file.path('/home/bryan/RhizCG/data/MiSeq_amplicon/MergedRuns/physeq/Full-Sparsity3in3')\n",
    "physeq.Full = readRDS(F)\n",
    "\n",
    "physeq.Nneg = subset_samples(physeq.Full, Treatment == \"Nneg\" & Plant != \"BARE\")\n",
    "physeq.Nneg = filter_taxa(physeq.Nneg, function(x) sum(x > 0) > 0, TRUE)  \n",
    "physeq.Nneg"
   ]
  },
  {
   "cell_type": "code",
   "execution_count": 11,
   "metadata": {},
   "outputs": [
    {
     "name": "stderr",
     "output_type": "stream",
     "text": [
      "/home/bryan/anaconda3/lib/python3.6/site-packages/rpy2/rinterface/__init__.py:186: RRuntimeWarning: estimating size factors\n",
      "\n",
      "  warnings.warn(x, RRuntimeWarning)\n",
      "/home/bryan/anaconda3/lib/python3.6/site-packages/rpy2/rinterface/__init__.py:186: RRuntimeWarning: estimating dispersions\n",
      "\n",
      "  warnings.warn(x, RRuntimeWarning)\n",
      "/home/bryan/anaconda3/lib/python3.6/site-packages/rpy2/rinterface/__init__.py:186: RRuntimeWarning: gene-wise dispersion estimates: 38 workers\n",
      "\n",
      "  warnings.warn(x, RRuntimeWarning)\n",
      "/home/bryan/anaconda3/lib/python3.6/site-packages/rpy2/rinterface/__init__.py:186: RRuntimeWarning: mean-dispersion relationship\n",
      "\n",
      "  warnings.warn(x, RRuntimeWarning)\n",
      "/home/bryan/anaconda3/lib/python3.6/site-packages/rpy2/rinterface/__init__.py:186: RRuntimeWarning: final dispersion estimates, MLE betas: 38 workers\n",
      "\n",
      "  warnings.warn(x, RRuntimeWarning)\n",
      "/home/bryan/anaconda3/lib/python3.6/site-packages/rpy2/rinterface/__init__.py:186: RRuntimeWarning: fitting model and testing: 38 workers\n",
      "\n",
      "  warnings.warn(x, RRuntimeWarning)\n",
      "/home/bryan/anaconda3/lib/python3.6/site-packages/rpy2/rinterface/__init__.py:186: RRuntimeWarning: -- replacing outliers and refitting for 78 genes\n",
      "-- DESeq argument 'minReplicatesForReplace' = 7 \n",
      "-- original counts are preserved in counts(dds)\n",
      "\n",
      "  warnings.warn(x, RRuntimeWarning)\n",
      "/home/bryan/anaconda3/lib/python3.6/site-packages/rpy2/rinterface/__init__.py:186: RRuntimeWarning: fitting model and testing\n",
      "\n",
      "  warnings.warn(x, RRuntimeWarning)\n"
     ]
    },
    {
     "data": {
      "text/plain": [
       "[1] \"Intercept\" \"Library\"   \"DAP\"      \n"
      ]
     },
     "metadata": {},
     "output_type": "display_data"
    }
   ],
   "source": [
    "%%R\n",
    "dds = phyloseq_to_deseq2(physeq.Nneg, ~Library + DAP )\n",
    "d_dds = DESeq(dds, parallel = TRUE)\n",
    "resultsNames(d_dds) %>% print\n",
    "DF = results(d_dds)\n",
    "\n",
    "supp = tax_table(physeq.Nneg)\n",
    "            if (!setequal(row.names(supp), row.names(DF))) {\n",
    "            stop(\"Ordination and supplementary data indices differ on the following:\\n.\",\n",
    "            setdiff(row.names(DF), row.names(supp)))\n",
    "        }  \n",
    "\n",
    "        DF = data.frame(DF, supp)\n",
    "        DF$OTU = rownames(DF)\n",
    "\n",
    "DF$Test = \"DAP\"\n",
    "        NR = DF"
   ]
  },
  {
   "cell_type": "code",
   "execution_count": 13,
   "metadata": {
    "scrolled": false
   },
   "outputs": [
    {
     "data": {
      "text/plain": [
       "     baseMean log2FoldChange       lfcSE      stat       pvalue         padj\n",
       "1    2.537234    -0.08304680 0.010225925 -8.121202 4.615884e-16 9.139853e-13\n",
       "2   10.977667    -0.12067591 0.014891966 -8.103424 5.343381e-16 9.139853e-13\n",
       "3   92.859002    -0.07855623 0.009823465 -7.996794 1.277002e-15 1.456208e-12\n",
       "4   42.023751     0.07387118 0.009857281  7.494073 6.676879e-14 5.710401e-11\n",
       "5   27.254788    -0.10046841 0.013669220 -7.349974 1.982453e-13 1.356394e-10\n",
       "6   16.296140    -0.08074902 0.011027353 -7.322612 2.431904e-13 1.386590e-10\n",
       "7  287.710518     0.08440564 0.011613433  7.267932 3.650335e-13 1.783971e-10\n",
       "8   62.880803     0.09231465 0.013331183  6.924715 4.368526e-12 1.868091e-09\n",
       "9   27.637274    -0.10131083 0.015161735 -6.682008 2.356906e-11 8.958860e-09\n",
       "10   7.285293    -0.05226337 0.008096089 -6.455385 1.079439e-10 3.692761e-08\n",
       "11   3.673658    -0.08607757 0.013436747 -6.406131 1.492583e-10 4.641933e-08\n",
       "12   1.316556    -0.08147845 0.012846994 -6.342219 2.264792e-10 6.456544e-08\n",
       "13 304.500829    -0.05708250 0.009115793 -6.261934 3.802311e-10 1.000593e-07\n",
       "14  40.763898     0.07026687 0.011265175  6.237530 4.445341e-10 1.086251e-07\n",
       "15  51.494987     0.07004612 0.011365847  6.162860 7.144273e-10 1.629371e-07\n",
       "16  14.779890    -0.07939649 0.012953740 -6.129233 8.830393e-10 1.776987e-07\n",
       "17  24.832863     0.08636524 0.014076712  6.135328 8.498367e-10 1.776987e-07\n",
       "18  54.706247     0.08975861 0.014746766  6.086664 1.152875e-09 2.191104e-07\n",
       "19  37.679854    -0.04962294 0.008170466 -6.073453 1.251890e-09 2.254061e-07\n",
       "20   2.564262    -0.07934652 0.013109402 -6.052642 1.424894e-09 2.437282e-07\n",
       "      Rank1           Rank2               Rank3              Rank4\n",
       "1  Bacteria  Proteobacteria  Betaproteobacteria    Burkholderiales\n",
       "2  Bacteria  Proteobacteria Alphaproteobacteria   Sphingomonadales\n",
       "3  Bacteria  Proteobacteria  Betaproteobacteria    Burkholderiales\n",
       "4  Bacteria  Actinobacteria    Streptomycetales  Streptomycetaceae\n",
       "5  Bacteria  Proteobacteria Alphaproteobacteria   Sphingomonadales\n",
       "6  Bacteria  Proteobacteria  Betaproteobacteria    Burkholderiales\n",
       "7  Bacteria  Actinobacteria    Streptomycetales  Streptomycetaceae\n",
       "8  Bacteria  Proteobacteria Alphaproteobacteria   Sphingomonadales\n",
       "9  Bacteria  Proteobacteria  Betaproteobacteria   Nitrosomonadales\n",
       "10 Bacteria Verrucomicrobia      Spartobacteria Chthoniobacterales\n",
       "11 Bacteria   Cyanobacteria         SubsectionI            FamilyI\n",
       "12 Bacteria   Bacteroidetes    Sphingobacteriia Sphingobacteriales\n",
       "13 Bacteria  Proteobacteria  Betaproteobacteria    Burkholderiales\n",
       "14 Bacteria  Proteobacteria Deltaproteobacteria       Myxococcales\n",
       "15 Bacteria   Bacteroidetes          Cytophagia       Cytophagales\n",
       "16 Bacteria  Proteobacteria                <NA>               <NA>\n",
       "17 Bacteria  Proteobacteria Alphaproteobacteria   Sphingomonadales\n",
       "18 Bacteria Verrucomicrobia    Verrucomicrobiae Verrucomicrobiales\n",
       "19 Bacteria Verrucomicrobia    Verrucomicrobiae Verrucomicrobiales\n",
       "20 Bacteria Verrucomicrobia            Opitutae         Opitutales\n",
       "                 Rank5                Rank6                Rank7 Rank8\n",
       "1       Comamonadaceae       Hydrogenophaga                 <NA>  <NA>\n",
       "2    Sphingomonadaceae      Novosphingobium                 <NA>  <NA>\n",
       "3     Oxalobacteraceae             Massilia                 <NA>  <NA>\n",
       "4         Streptomyces                 <NA>                 <NA>  <NA>\n",
       "5    Sphingomonadaceae      Novosphingobium uncultured_bacterium  <NA>\n",
       "6     Oxalobacteraceae             Massilia                 <NA>  <NA>\n",
       "7         Streptomyces                 <NA>                 <NA>  <NA>\n",
       "8    Sphingomonadaceae          Sphingobium         Sphingomonas  <NA>\n",
       "9                 <NA>                 <NA>                 <NA>  <NA>\n",
       "10    DA101_soil_group uncultured_bacterium                 <NA>  <NA>\n",
       "11          Cyanothece uncultured_bacterium                 <NA>  <NA>\n",
       "12    Chitinophagaceae           Lacibacter                 <NA>  <NA>\n",
       "13    Oxalobacteraceae                 <NA>                 <NA>  <NA>\n",
       "14        Sorangiineae           uncultured uncultured_bacterium  <NA>\n",
       "15       Cytophagaceae          Flexibacter uncultured_bacterium  <NA>\n",
       "16                <NA>                 <NA>                 <NA>  <NA>\n",
       "17                <NA>                 <NA>                 <NA>  <NA>\n",
       "18 Verrucomicrobiaceae           uncultured                 <NA>  <NA>\n",
       "19 Verrucomicrobiaceae           Haloferula                 <NA>  <NA>\n",
       "20                <NA>                 <NA>                 <NA>  <NA>\n",
       "         OTU Test\n",
       "1  OTU.12045  DAP\n",
       "2  OTU.10375  DAP\n",
       "3    OTU.162  DAP\n",
       "4    OTU.197  DAP\n",
       "5    OTU.329  DAP\n",
       "6  OTU.10249  DAP\n",
       "7      OTU.3  DAP\n",
       "8     OTU.29  DAP\n",
       "9    OTU.208  DAP\n",
       "10   OTU.751  DAP\n",
       "11   OTU.621  DAP\n",
       "12  OTU.4812  DAP\n",
       "13     OTU.4  DAP\n",
       "14    OTU.45  DAP\n",
       "15    OTU.57  DAP\n",
       "16  OTU.4040  DAP\n",
       "17   OTU.107  DAP\n",
       "18    OTU.25  DAP\n",
       "19   OTU.189  DAP\n",
       "20  OTU.1195  DAP\n"
      ]
     },
     "metadata": {},
     "output_type": "display_data"
    }
   ],
   "source": [
    "%%R\n",
    "DF %>% arrange(padj) %>% head(n = 20)"
   ]
  },
  {
   "cell_type": "code",
   "execution_count": 14,
   "metadata": {},
   "outputs": [
    {
     "data": {
      "text/plain": [
       "   baseMean log2FoldChange       lfcSE     stat       pvalue         padj\n",
       "1  42.02375     0.07387118 0.009857281 7.494073 6.676879e-14 5.710401e-11\n",
       "2 287.71052     0.08440564 0.011613433 7.267932 3.650335e-13 1.783971e-10\n",
       "     Rank1          Rank2            Rank3             Rank4        Rank5 Rank6\n",
       "1 Bacteria Actinobacteria Streptomycetales Streptomycetaceae Streptomyces  <NA>\n",
       "2 Bacteria Actinobacteria Streptomycetales Streptomycetaceae Streptomyces  <NA>\n",
       "  Rank7 Rank8     OTU Test\n",
       "1  <NA>  <NA> OTU.197  DAP\n",
       "2  <NA>  <NA>   OTU.3  DAP\n"
      ]
     },
     "metadata": {},
     "output_type": "display_data"
    }
   ],
   "source": [
    "%%R\n",
    "DF %>% filter(OTU %in% c(\"OTU.3\", \"OTU.197\"))"
   ]
  }
 ],
 "metadata": {
  "hide_input": true,
  "kernelspec": {
   "display_name": "Python 3",
   "language": "python",
   "name": "python3"
  },
  "language_info": {
   "codemirror_mode": {
    "name": "ipython",
    "version": 3
   },
   "file_extension": ".py",
   "mimetype": "text/x-python",
   "name": "python",
   "nbconvert_exporter": "python",
   "pygments_lexer": "ipython3",
   "version": "3.6.1"
  }
 },
 "nbformat": 4,
 "nbformat_minor": 1
}
