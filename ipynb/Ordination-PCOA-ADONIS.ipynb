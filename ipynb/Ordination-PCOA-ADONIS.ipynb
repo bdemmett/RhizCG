{
 "cells": [
  {
   "cell_type": "markdown",
   "metadata": {},
   "source": [
    "## Description:\n",
    "\n",
    "    Hypothesis testing\n",
    "\n"
   ]
  },
  {
   "cell_type": "markdown",
   "metadata": {},
   "source": [
    "# Setting variables"
   ]
  },
  {
   "cell_type": "code",
   "execution_count": 1,
   "metadata": {
    "collapsed": false
   },
   "outputs": [],
   "source": [
    "%load_ext rpy2.ipython"
   ]
  },
  {
   "cell_type": "code",
   "execution_count": 2,
   "metadata": {
    "collapsed": false,
    "scrolled": true
   },
   "outputs": [
    {
     "name": "stderr",
     "output_type": "stream",
     "text": [
      "/opt/anaconda/lib/python2.7/site-packages/rpy2/robjects/functions.py:106: UserWarning: foreach: simple, scalable parallel programming from Revolution Analytics\n",
      "Use Revolution R for scalability, fault tolerance and more.\n",
      "http://www.revolutionanalytics.com\n",
      "\n",
      "  res = super(Function, self).__call__(*new_args, **new_kwargs)\n",
      "/opt/anaconda/lib/python2.7/site-packages/rpy2/robjects/functions.py:106: UserWarning: Loading required package: iterators\n",
      "\n",
      "  res = super(Function, self).__call__(*new_args, **new_kwargs)\n",
      "/opt/anaconda/lib/python2.7/site-packages/rpy2/robjects/functions.py:106: UserWarning: Loading required package: parallel\n",
      "\n",
      "  res = super(Function, self).__call__(*new_args, **new_kwargs)\n",
      "/opt/anaconda/lib/python2.7/site-packages/rpy2/robjects/functions.py:106: UserWarning: \n",
      "Attaching package: ‘dplyr’\n",
      "\n",
      "\n",
      "  res = super(Function, self).__call__(*new_args, **new_kwargs)\n",
      "/opt/anaconda/lib/python2.7/site-packages/rpy2/robjects/functions.py:106: UserWarning: The following object is masked from ‘package:gridExtra’:\n",
      "\n",
      "    combine\n",
      "\n",
      "\n",
      "  res = super(Function, self).__call__(*new_args, **new_kwargs)\n",
      "/opt/anaconda/lib/python2.7/site-packages/rpy2/robjects/functions.py:106: UserWarning: The following objects are masked from ‘package:stats’:\n",
      "\n",
      "    filter, lag\n",
      "\n",
      "\n",
      "  res = super(Function, self).__call__(*new_args, **new_kwargs)\n",
      "/opt/anaconda/lib/python2.7/site-packages/rpy2/robjects/functions.py:106: UserWarning: The following objects are masked from ‘package:base’:\n",
      "\n",
      "    intersect, setdiff, setequal, union\n",
      "\n",
      "\n",
      "  res = super(Function, self).__call__(*new_args, **new_kwargs)\n",
      "/opt/anaconda/lib/python2.7/site-packages/rpy2/robjects/functions.py:106: UserWarning: Loading required package: permute\n",
      "\n",
      "  res = super(Function, self).__call__(*new_args, **new_kwargs)\n",
      "/opt/anaconda/lib/python2.7/site-packages/rpy2/robjects/functions.py:106: UserWarning: Loading required package: lattice\n",
      "\n",
      "  res = super(Function, self).__call__(*new_args, **new_kwargs)\n",
      "/opt/anaconda/lib/python2.7/site-packages/rpy2/robjects/functions.py:106: UserWarning: This is vegan 2.4-0\n",
      "\n",
      "  res = super(Function, self).__call__(*new_args, **new_kwargs)\n"
     ]
    }
   ],
   "source": [
    "%%R\n",
    "library(phyloseq)\n",
    "library(ggplot2)\n",
    "library(foreach)\n",
    "library(doParallel)\n",
    "library(gridExtra)\n",
    "library(dplyr)\n",
    "library(tidyr)\n",
    "library(vegan)\n"
   ]
  },
  {
   "cell_type": "markdown",
   "metadata": {},
   "source": [
    "# Loading phyloseq object - rarified data"
   ]
  },
  {
   "cell_type": "code",
   "execution_count": 3,
   "metadata": {
    "collapsed": false,
    "scrolled": true
   },
   "outputs": [
    {
     "data": {
      "text/plain": [
       "phyloseq-class experiment-level object\n",
       "otu_table()   OTU Table:         [ 4982 taxa and 238 samples ]\n",
       "sample_data() Sample Data:       [ 238 samples by 55 sample variables ]\n",
       "tax_table()   Taxonomy Table:    [ 4982 taxa by 8 taxonomic ranks ]\n",
       "phy_tree()    Phylogenetic Tree: [ 4982 tips and 4981 internal nodes ]\n"
      ]
     },
     "metadata": {},
     "output_type": "display_data"
    }
   ],
   "source": [
    "%%R\n",
    "F = file.path('/home/bryan/RhizCG/data/MiSeq_amplicon/MergedRuns/physeq/Full-Sparsity3in3_r')\n",
    "physeq.Full = readRDS(F)\n",
    "sd = sample_data(physeq.Full)\n",
    "physeq.Full"
   ]
  },
  {
   "cell_type": "code",
   "execution_count": 4,
   "metadata": {
    "collapsed": false
   },
   "outputs": [
    {
     "data": {
      "text/plain": [
       " [1] \"X.sample\"            \"Library\"             \"Primer_Plate\"       \n",
       " [4] \"Primer_Well_ID\"      \"primerFR_ID_byPlate\" \"primerFR_ID_total\"  \n",
       " [7] \"barcode_ID\"          \"PlotID\"              \"Plant\"              \n",
       "[10] \"Plot\"                \"Treatment\"           \"Rep\"                \n",
       "[13] \"DAP\"                 \"Sampling\"            \"PlantSample\"        \n",
       "[16] \"Type\"                \"Grass_Broad\"         \"Status\"             \n",
       "[19] \"Subfamily\"           \"fwd_barcode\"         \"rev_barcode\"        \n",
       "[22] \"Planted\"             \"Biomass_P\"           \"SLA\"                \n",
       "[25] \"Leaf_N\"              \"Leaf_C\"              \"LeafC_N\"            \n",
       "[28] \"LNa\"                 \"Plant_N\"             \"Plant_C\"            \n",
       "[31] \"Plant_CN\"            \"d15N\"                \"tN_p\"               \n",
       "[34] \"BX_activity_g\"       \"CB_activity_g\"       \"LAP_activity_g\"     \n",
       "[37] \"NAG_activity_g\"      \"BX_rel\"              \"CB_rel\"             \n",
       "[40] \"LAP_rel\"             \"NAG_rel\"             \"NO3_ug_g\"           \n",
       "[43] \"NH4_ug_g\"            \"InorganicN\"          \"Resid_logB\"         \n",
       "[46] \"Resid_logN\"          \"Resid_logCN\"         \"Resid_logSLA\"       \n",
       "[49] \"Resid_LeafN\"         \"A_Resid_logB\"        \"A_Resid_logN\"       \n",
       "[52] \"A_Resid_logCN\"       \"M_Resid_logB\"        \"M_Resid_logN\"       \n",
       "[55] \"M_Resid_logCN\"      \n"
      ]
     },
     "metadata": {},
     "output_type": "display_data"
    }
   ],
   "source": [
    "%%R\n",
    "sample_data(physeq.Full)$Rep = factor(sample_data(physeq.Full)$Rep)\n",
    "sample_data(physeq.Full)$DAP = factor(sample_data(physeq.Full)$DAP)\n",
    "colnames(sample_data(physeq.Full))"
   ]
  },
  {
   "cell_type": "markdown",
   "metadata": {},
   "source": [
    "## Calculate pairwise weighted Unifrac distances between samples"
   ]
  },
  {
   "cell_type": "code",
   "execution_count": 5,
   "metadata": {
    "collapsed": true
   },
   "outputs": [],
   "source": [
    "%%R\n",
    "registerDoParallel(cores=28)\n",
    "wunif.dist = distance(physeq.Full, \n",
    "                      method = \"unifrac\", \n",
    "                      weighted = TRUE,\n",
    "                      fast = TRUE, \n",
    "                      parallel = TRUE, \n",
    "                      normalized = FALSE)\n",
    "\n",
    "unif.dist = distance(physeq.Full, \n",
    "                      method = \"unifrac\", \n",
    "                      weighted = FALSE,\n",
    "                      fast = TRUE, \n",
    "                      parallel = TRUE, \n",
    "                      normalized = FALSE)"
   ]
  },
  {
   "cell_type": "code",
   "execution_count": 6,
   "metadata": {
    "collapsed": false
   },
   "outputs": [],
   "source": [
    "%%R\n",
    "# Try PCoA \n",
    "\n",
    "ordu = ordinate(physeq.Full, \"PCoA\", \"unifrac\", weighted=TRUE)\n"
   ]
  },
  {
   "cell_type": "code",
   "execution_count": 7,
   "metadata": {
    "collapsed": false
   },
   "outputs": [],
   "source": [
    "%%R\n",
    "sample_data(physeq.Full)$Plant = factor(sample_data(physeq.Full)$Plant, levels = c(\"BARE\", \"75-062\", \"B73\", \"B97\" ,  \"H99\" , \"Hp301\",\n",
    "                                                                      \"Il14H\",  \"Ki3\" , \"Mo18\", \"MS71\",\"Oh7B\", \"Tx303\",\n",
    "                                                                      \"ECHCG\", \"SETFA\", \"SORBI\", \"SORSUD\", \n",
    "                                                                      \"ELCOR\", \"ERATE\",\n",
    "                                                                      \"ABUTH\", \"HELAN\", \"FAGES\", \"AMAPO\", \"GLYMA\"))\n",
    "\n",
    "p = plot_ordination(physeq.Full, ordu, justDF = TRUE)"
   ]
  },
  {
   "cell_type": "code",
   "execution_count": 8,
   "metadata": {
    "collapsed": false
   },
   "outputs": [
    {
     "data": {
      "text/plain": [
       "                      Axis.1      Axis.2          X.sample Library Primer_Plate\n",
       "sample2-1.06_Npos -0.1533022 -0.03219172 sample2-1.06_Npos       1            1\n",
       "sample6-4.27_Npos -0.1298658 -0.05804125 sample6-4.27_Npos       1            2\n",
       "sample4-4.27_Nneg -0.1490966 -0.02604058 sample4-4.27_Nneg       1            1\n",
       "sample4-1.06_Nneg -0.1293516 -0.04557593 sample4-1.06_Nneg       1            1\n",
       "sample2-1.06_Nneg -0.1430756 -0.02717373 sample2-1.06_Nneg       1            1\n",
       "sample6-3.07_Nneg -0.1514181 -0.06413171 sample6-3.07_Nneg       1            2\n",
       "                  Primer_Well_ID primerFR_ID_byPlate primerFR_ID_total\n",
       "sample2-1.06_Npos             H9                  72                72\n",
       "sample6-4.27_Npos            F11                  86               182\n",
       "sample4-4.27_Nneg            B12                  90                90\n",
       "sample4-1.06_Nneg            E11                  85                85\n",
       "sample2-1.06_Nneg             G9                  71                71\n",
       "sample6-3.07_Nneg            C11                  83               179\n",
       "                  barcode_ID    PlotID Plant Plot Treatment Rep DAP Sampling\n",
       "sample2-1.06_Npos         72 1.06_Npos  BARE 1.06      Npos   1  53  sample2\n",
       "sample6-4.27_Npos        182 4.27_Npos  BARE 4.27      Npos   4  79  sample6\n",
       "sample4-4.27_Nneg         90 4.27_Nneg  BARE 4.27      Nneg   4  61  sample4\n",
       "sample4-1.06_Nneg         85 1.06_Nneg  BARE 1.06      Nneg   1  61  sample4\n",
       "sample2-1.06_Nneg         71 1.06_Nneg  BARE 1.06      Nneg   1  53  sample2\n",
       "sample6-3.07_Nneg        179 3.07_Nneg  BARE 3.07      Nneg   3  79  sample6\n",
       "                   PlantSample Type Grass_Broad    Status Subfamily fwd_barcode\n",
       "sample2-1.06_Npos BARE_sample2 BARE   Bare_Soil Bare_Soil      <NA>    GACACCGT\n",
       "sample6-4.27_Npos BARE_sample6 BARE   Bare_Soil Bare_Soil      <NA>    TCGACGAG\n",
       "sample4-4.27_Nneg BARE_sample4 BARE   Bare_Soil Bare_Soil      <NA>    ACTATCTG\n",
       "sample4-1.06_Nneg BARE_sample4 BARE   Bare_Soil Bare_Soil      <NA>    TCATCGAG\n",
       "sample2-1.06_Nneg BARE_sample2 BARE   Bare_Soil Bare_Soil      <NA>    GGATATCT\n",
       "sample6-3.07_Nneg BARE_sample6 BARE   Bare_Soil Bare_Soil      <NA>    AGAGTCAC\n",
       "                  rev_barcode Planted Biomass_P SLA Leaf_N Leaf_C LeafC_N LNa\n",
       "sample2-1.06_Npos    GTCGTAGT    BARE        NA  NA     NA     NA      NA  NA\n",
       "sample6-4.27_Npos    TCATAGAC    BARE        NA  NA     NA     NA      NA  NA\n",
       "sample4-4.27_Nneg    TCGCTATA    BARE        NA  NA     NA     NA      NA  NA\n",
       "sample4-1.06_Nneg    TCATAGAC    BARE        NA  NA     NA     NA      NA  NA\n",
       "sample2-1.06_Nneg    GTCGTAGT    BARE        NA  NA     NA     NA      NA  NA\n",
       "sample6-3.07_Nneg    TCATAGAC    BARE        NA  NA     NA     NA      NA  NA\n",
       "                  Plant_N Plant_C Plant_CN d15N tN_p BX_activity_g\n",
       "sample2-1.06_Npos      NA      NA       NA   NA   NA      14.37839\n",
       "sample6-4.27_Npos      NA      NA       NA   NA   NA      18.04300\n",
       "sample4-4.27_Nneg      NA      NA       NA   NA   NA      14.21998\n",
       "sample4-1.06_Nneg      NA      NA       NA   NA   NA      12.47174\n",
       "sample2-1.06_Nneg      NA      NA       NA   NA   NA      13.38694\n",
       "sample6-3.07_Nneg      NA      NA       NA   NA   NA      16.99917\n",
       "                  CB_activity_g LAP_activity_g NAG_activity_g    BX_rel\n",
       "sample2-1.06_Npos      15.33743       126.3710       8.072898 0.9619222\n",
       "sample6-4.27_Npos      15.58645       162.8417      11.510046 1.0309013\n",
       "sample4-4.27_Nneg      13.41572       136.3123      14.630640 1.1099157\n",
       "sample4-1.06_Nneg      13.43524       143.7310      11.876664 0.9734603\n",
       "sample2-1.06_Nneg      13.77502       117.3431       8.576193 0.9103885\n",
       "sample6-3.07_Nneg      14.24016       138.1199      11.177559 0.9434827\n",
       "                     CB_rel   LAP_rel   NAG_rel  NO3_ug_g NH4_ug_g InorganicN\n",
       "sample2-1.06_Npos 1.0052433 1.0369561 0.9529984 25.984235 5.047010  31.031245\n",
       "sample6-4.27_Npos 1.1157114 0.9495615 1.0731442 14.538577 3.240556  17.779133\n",
       "sample4-4.27_Nneg 1.0489005 0.9709171 1.2257096  8.496635 4.921609  13.418243\n",
       "sample4-1.06_Nneg 1.0504268 1.0237586 0.9949900  8.141044 4.140496  12.281540\n",
       "sample2-1.06_Nneg 0.9385065 0.9792538 0.9713514  7.457856 3.334849  10.792706\n",
       "sample6-3.07_Nneg 0.9449057 0.8154543 0.9017986  7.086914 2.663943   9.750856\n",
       "                  Resid_logB Resid_logN Resid_logCN Resid_logSLA Resid_LeafN\n",
       "sample2-1.06_Npos         NA         NA          NA           NA          NA\n",
       "sample6-4.27_Npos         NA         NA          NA           NA          NA\n",
       "sample4-4.27_Nneg         NA         NA          NA           NA          NA\n",
       "sample4-1.06_Nneg         NA         NA          NA           NA          NA\n",
       "sample2-1.06_Nneg         NA         NA          NA           NA          NA\n",
       "sample6-3.07_Nneg         NA         NA          NA           NA          NA\n",
       "                  A_Resid_logB A_Resid_logN A_Resid_logCN M_Resid_logB\n",
       "sample2-1.06_Npos           NA           NA            NA           NA\n",
       "sample6-4.27_Npos           NA           NA            NA           NA\n",
       "sample4-4.27_Nneg           NA           NA            NA           NA\n",
       "sample4-1.06_Nneg           NA           NA            NA           NA\n",
       "sample2-1.06_Nneg           NA           NA            NA           NA\n",
       "sample6-3.07_Nneg           NA           NA            NA           NA\n",
       "                  M_Resid_logN M_Resid_logCN\n",
       "sample2-1.06_Npos           NA            NA\n",
       "sample6-4.27_Npos           NA            NA\n",
       "sample4-4.27_Nneg           NA            NA\n",
       "sample4-1.06_Nneg           NA            NA\n",
       "sample2-1.06_Nneg           NA            NA\n",
       "sample6-3.07_Nneg           NA            NA\n"
      ]
     },
     "metadata": {},
     "output_type": "display_data"
    }
   ],
   "source": [
    "%%R\n",
    "p %>% head"
   ]
  },
  {
   "cell_type": "markdown",
   "metadata": {},
   "source": [
    "# Ordination for ISME poster"
   ]
  },
  {
   "cell_type": "code",
   "execution_count": 9,
   "metadata": {
    "collapsed": false,
    "scrolled": false
   },
   "outputs": [
    {
     "data": {
      "image/png": "[encoded data removed]"
     },
     "metadata": {},
     "output_type": "display_data"
    }
   ],
   "source": [
    "%%R -w 1000 -h 400\n",
    "\n",
    "#p = plot_ordination(physeq.Full, ordu, shape = \"Planted\") +\n",
    "p1 = ggplot(p, aes(x = Axis.1, y = Axis.2, shape = Planted)) +\n",
    "geom_point(size = 3) +\n",
    "scale_shape_manual(values=c(17, 1), labels = c(\"Bare Soil\", \"Rhizosphere\")) +\n",
    "#scale_fill_manual(values=c(\"#000000\", \"#FFFF00\")) +  \n",
    "\n",
    "\n",
    "\n",
    "#   scale_color_manual(values = c(\"#000000\", \"#FFFF00\", \"#1CE6FF\", \"#FF34FF\", \"#FF4A46\", \"#008941\", \"#006FA6\", \"#A30059\",\n",
    "#         \"#FFDBE5\", \"#7A4900\", \"#0000A6\", \"#63FFAC\", \"#B79762\", \"#004D43\", \"#8FB0FF\", \"#997D87\",\n",
    "#         \"#5A0007\", \"#809693\", \"#1B4400\", \"#4FC601\", \"#3B5DFF\", \"#4A3B53\", \"#FF2F80\")) + \n",
    "labs(x = \"PCoA 1 [36.3%]\", y = \"PCoA 2 [20.5%]\") +\n",
    "theme_bw(base_size = 24) +\n",
    "theme(panel.grid = element_blank()) +\n",
    "theme(panel.border = element_blank()) +\n",
    "theme(axis.line.x = element_line(color=\"black\", size = 1),\n",
    "    axis.line.y = element_line(color=\"black\", size = 1),\n",
    "     axis.title.x = element_blank(),\n",
    "     axis.title.y = element_blank()) +\n",
    "theme(legend.position=\"none\") +\n",
    "ggtitle(\"Rhizosphere vs Bare Soil\")\n",
    "p1\n",
    "\n",
    "p$DAP = as.factor(p$DAP)\n",
    "\n",
    "p2 = ggplot(p, aes(x = Axis.1, y = Axis.2)) +\n",
    "geom_point(data = p, aes(x = Axis.1, y = Axis.2, color = DAP, shape = Planted), size = 3) +\n",
    "scale_color_manual(values = c(\"#FFFF00\", \"#1CE6FF\", \"#FF34FF\", \"#FF4A46\", \"#008941\", \"#006FA6\", \"#A30059\",\n",
    "       \"#FFDBE5\")) + \n",
    "guides(color=guide_legend(ncol=2))+\n",
    "scale_shape_manual(values=c(17, 1)) +\n",
    "geom_point(data = subset(p, DAP == \"84\" & Plant != \"BARE\"), aes(x = Axis.1, y = Axis.2), color = \"#A30059\", size = 3)+\n",
    "\n",
    "scale_fill_manual(values=c(\"#000000\", \"#FFFF00\")) +  \n",
    "\n",
    "\n",
    "\n",
    "\n",
    "labs(x = \"PCoA 1 [36.3%]\", y = \"PCoA 2 [20.5%]\") +\n",
    "theme_bw(base_size = 24) +\n",
    "theme(panel.border = element_blank()) +\n",
    "theme(panel.grid = element_blank()) +\n",
    "theme(axis.line.x = element_line(color=\"black\", size = 1),\n",
    "    axis.line.y = element_line(color=\"black\", size = 1),\n",
    "     axis.title.y = element_blank(),\n",
    "     axis.title.x = element_blank()) +\n",
    "theme(legend.position=\"none\") +\n",
    "ggtitle(\"Date of Sampling\")\n",
    "p2\n",
    "\n",
    "\n",
    "\n",
    "p3 = ggplot(p, aes(x = Axis.1, y = Axis.2))+\n",
    "geom_point(data = p, aes(x = Axis.1, y = Axis.2, shape = Planted), size = 3) +\n",
    "#geom_point(data = p, aes(shape = Planted, size = 3)) +\n",
    "scale_shape_manual(values=c(17, 1)) +\n",
    "geom_point(data = subset(p, DAP == \"84\" & Plant != \"BARE\"), aes(x = Axis.1, y = Axis.2, color = Plant), size = 3)+\n",
    "  \n",
    "scale_fill_manual(values = c(\"#000000\", \"#FFFF00\", \"#1CE6FF\", \"#FF34FF\", \"#FF4A46\", \"#008941\", \"#006FA6\", \"#A30059\",\n",
    "         \"#FFDBE5\", \"#7A4900\", \"#0000A6\", \"#63FFAC\", \"#B79762\", \"#004D43\", \"#8FB0FF\", \"#997D87\",\n",
    "         \"#5A0007\", \"#809693\", \"#1B4400\", \"#4FC601\", \"#3B5DFF\", \"#4A3B53\", \"#FF2F80\")) + \n",
    "labs(x = \"PCoA 1 [36.3%]\", y = \"PCoA 2 [20.5%]\") +\n",
    "theme_bw(base_size = 24) +\n",
    "theme(panel.grid = element_blank()) +\n",
    "theme(panel.border = element_blank()) +\n",
    "theme(axis.line.x = element_line(color=\"black\", size = 1),\n",
    "    axis.line.y = element_line(color=\"black\", size = 1),\n",
    "     axis.title.y = element_blank(),\n",
    "     axis.title.x = element_blank()) +\n",
    "theme(legend.position=\"none\") +\n",
    "ggtitle(\"Plant Genotype\")\n",
    "p3\n",
    "\n",
    "# p4 = ggplot(p, aes(x = Axis.1, y = Axis.2) +\n",
    "# geom_point(size = 3) +\n",
    "# scale_shape_manual(values=c(17, 1)) +\n",
    "# #scale_fill_manual(values=c(\"#000000\", \"#FFFF00\")) +  \n",
    "\n",
    "p4 = ggplot(p, aes(x = Axis.1, y = Axis.2))+\n",
    "geom_point(data = p, aes(shape = Planted, shape = Planted, color = Treatment), size = 3) +\n",
    "scale_shape_manual(values=c(17, 1)) +\n",
    "geom_point(data = subset(p, DAP == \"84\" & Plant != \"BARE\"), aes(x = Axis.1, y = Axis.2, color = Treatment), size = 3)+\n",
    "  \n",
    "\n",
    "\n",
    "scale_color_manual(values = c(\"#000000\", \"orangered4\"),\n",
    "                       labels=c(\"0kg N\", \"95kg N\"))+ #FFFF00\", \"#1CE6FF\", \"#FF34FF\", \"#FF4A46\", \"#008941\", \"#006FA6\", \"#A30059\",\n",
    "#         \"#FFDBE5\", \"#7A4900\", \"#0000A6\", \"#63FFAC\", \"#B79762\", \"#004D43\", \"#8FB0FF\", \"#997D87\",\n",
    "#         \"#5A0007\", \"#809693\", \"#1B4400\", \"#4FC601\", \"#3B5DFF\", \"#4A3B53\", \"#FF2F80\")) + \n",
    "labs(x = \"PCoA 1 [36.3%]\", y = \"PCoA 2 [20.5%]\") +\n",
    "theme_bw(base_size = 24) +\n",
    "theme(panel.grid = element_blank()) +\n",
    "theme(panel.border = element_blank()) +\n",
    "theme(axis.line.x = element_line(color=\"black\", size = 1),\n",
    "    axis.line.y = element_line(color=\"black\", size = 1),\n",
    "     axis.title.x = element_blank(),\n",
    "     axis.title.y = element_blank()) +\n",
    "theme(legend.position=\"none\") +\n",
    "ggtitle(\"Nitrogen Fertilization\")\n",
    "p4\n",
    "grid.arrange(p1, p2, p3, p4, ncol = 2)"
   ]
  },
  {
   "cell_type": "code",
   "execution_count": null,
   "metadata": {
    "collapsed": true
   },
   "outputs": [],
   "source": []
  },
  {
   "cell_type": "code",
   "execution_count": 10,
   "metadata": {
    "collapsed": false
   },
   "outputs": [
    {
     "data": {
      "text/plain": [
       "TableGrob (2 x 2) \"arrange\": 4 grobs\n",
       "  z     cells    name           grob\n",
       "1 1 (1-1,1-1) arrange gtable[layout]\n",
       "2 2 (1-1,2-2) arrange gtable[layout]\n",
       "3 3 (2-2,1-1) arrange gtable[layout]\n",
       "4 4 (2-2,2-2) arrange gtable[layout]\n",
       "png \n",
       "  2 \n"
      ]
     },
     "metadata": {},
     "output_type": "display_data"
    }
   ],
   "source": [
    "%%R\n",
    "# saving figure\n",
    "\n",
    "pdf(file = \"/home/bryan/RhizCG/figures/ordinations/PCoA_v2.pdf\", \n",
    "    height = 7, width = 12)\n",
    "grid.arrange(p1, p2, p3, p4, ncol = 2)%>% print\n",
    "dev.off()"
   ]
  },
  {
   "cell_type": "markdown",
   "metadata": {},
   "source": [
    "# Ordination for paper"
   ]
  },
  {
   "cell_type": "code",
   "execution_count": 18,
   "metadata": {
    "collapsed": false
   },
   "outputs": [
    {
     "data": {
      "image/png": "[encoded data removed]"
     },
     "metadata": {},
     "output_type": "display_data"
    }
   ],
   "source": [
    "%%R -w 1000 -h 400\n",
    "\n",
    "#p = plot_ordination(physeq.Full, ordu, shape = \"Planted\") +\n",
    "p1 = ggplot(p, aes(x = Axis.1, y = Axis.2, shape = Planted)) +\n",
    "geom_point(size = 3) +\n",
    "scale_shape_manual(values=c(17, 1), labels = c(\"Bare Soil\", \"Rhizosphere\")) +\n",
    "#scale_fill_manual(values=c(\"#000000\", \"#FFFF00\")) +  \n",
    "\n",
    "\n",
    "\n",
    "#   scale_color_manual(values = c(\"#000000\", \"#FFFF00\", \"#1CE6FF\", \"#FF34FF\", \"#FF4A46\", \"#008941\", \"#006FA6\", \"#A30059\",\n",
    "#         \"#FFDBE5\", \"#7A4900\", \"#0000A6\", \"#63FFAC\", \"#B79762\", \"#004D43\", \"#8FB0FF\", \"#997D87\",\n",
    "#         \"#5A0007\", \"#809693\", \"#1B4400\", \"#4FC601\", \"#3B5DFF\", \"#4A3B53\", \"#FF2F80\")) + \n",
    "labs(x = \"PCoA 1 [36.3%]\", y = \"PCoA 2 [20.5%]\") +\n",
    "theme_bw(base_size = 24) +\n",
    "theme(panel.grid = element_blank()) +\n",
    "theme(panel.border = element_blank()) +\n",
    "theme(axis.line.x = element_line(color=\"black\", size = 1),\n",
    "    axis.line.y = element_line(color=\"black\", size = 1),\n",
    "     axis.title.x = element_blank(),\n",
    "     axis.title.y = element_blank()) +\n",
    "theme(legend.position=\"none\") +\n",
    "ggtitle(\"Rhizosphere vs Bare Soil\")\n",
    "p1\n",
    "\n",
    "p$DAP = as.factor(p$DAP)\n",
    "\n",
    "p2 = ggplot(p, aes(x = Axis.1, y = Axis.2)) +\n",
    "geom_point(data = p, aes(x = Axis.1, y = Axis.2, color = DAP, shape = Planted), size = 3) +\n",
    "scale_color_manual(values = c(\"#FFFF00\", \"#1CE6FF\", \"#FF34FF\", \"#FF4A46\", \"#008941\", \"#006FA6\", \"#A30059\",\n",
    "       \"#FFDBE5\")) + \n",
    "guides(color=guide_legend(ncol=2))+\n",
    "scale_shape_manual(values=c(17, 16)) +\n",
    "#geom_point(data = subset(p, DAP == \"84\" & Plant != \"BARE\"), aes(x = Axis.1, y = Axis.2), color = \"#A30059\", size = 3)+\n",
    "\n",
    "#scale_fill_manual(values=c(\"#000000\", \"#FFFF00\")) +  \n",
    "\n",
    "\n",
    "\n",
    "\n",
    "labs(x = \"PCoA 1 [36.3%]\", y = \"PCoA 2 [20.5%]\") +\n",
    "theme_bw(base_size = 24) +\n",
    "theme(panel.border = element_blank()) +\n",
    "theme(panel.grid = element_blank()) +\n",
    "theme(axis.line.x = element_line(color=\"black\", size = 1),\n",
    "    axis.line.y = element_line(color=\"black\", size = 1),\n",
    "     axis.title.y = element_blank(),\n",
    "     axis.title.x = element_blank()) +\n",
    "theme(legend.position=\"none\") +\n",
    "ggtitle(\"Date of Sampling\")\n",
    "p2\n",
    "\n",
    "\n",
    "\n",
    "p3 = ggplot(p, aes(x = Axis.1, y = Axis.2))+\n",
    "geom_point(data = p, aes(x = Axis.1, y = Axis.2, shape = Planted, color = Plant), size = 3) +\n",
    "#geom_point(data = p, aes(shape = Planted, size = 3)) +\n",
    "scale_shape_manual(values=c(17, 16)) +\n",
    "  \n",
    "scale_color_manual(values = c(\"#000000\", \"#FFFF00\", \"#1CE6FF\", \"#FF34FF\", \"#FF4A46\", \"#008941\", \"#006FA6\", \"#A30059\",\n",
    "         \"#FFDBE5\", \"#7A4900\", \"#0000A6\", \"#63FFAC\", \"#B79762\", \"#004D43\", \"#8FB0FF\", \"#997D87\",\n",
    "         \"#5A0007\", \"#809693\", \"#1B4400\", \"#4FC601\", \"#3B5DFF\", \"#4A3B53\", \"#FF2F80\")) + \n",
    "labs(x = \"PCoA 1 [36.3%]\", y = \"PCoA 2 [20.5%]\") +\n",
    "theme_bw(base_size = 24) +\n",
    "theme(panel.grid = element_blank()) +\n",
    "theme(panel.border = element_blank()) +\n",
    "theme(axis.line.x = element_line(color=\"black\", size = 1),\n",
    "    axis.line.y = element_line(color=\"black\", size = 1),\n",
    "     axis.title.y = element_blank(),\n",
    "     axis.title.x = element_blank()) +\n",
    "theme(legend.position=\"none\") +\n",
    "ggtitle(\"Plant Genotype\")\n",
    "p3\n",
    "\n",
    "# p4 = ggplot(p, aes(x = Axis.1, y = Axis.2) +\n",
    "# geom_point(size = 3) +\n",
    "# scale_shape_manual(values=c(17, 1)) +\n",
    "# #scale_fill_manual(values=c(\"#000000\", \"#FFFF00\")) +  \n",
    "\n",
    "p4 = ggplot(p, aes(x = Axis.1, y = Axis.2))+\n",
    "geom_point(data = p, aes(shape = Planted, shape = Planted, color = Treatment), size = 3) +\n",
    "scale_shape_manual(values=c(17, 16)) +\n",
    "#geom_point(data = subset(p, DAP == \"84\" & Plant != \"BARE\"), aes(x = Axis.1, y = Axis.2, color = Treatment), size = 3)+\n",
    "  \n",
    "\n",
    "\n",
    "scale_color_manual(values = c(\"#000000\", \"orangered4\"),\n",
    "                       labels=c(\"0kg N\", \"95kg N\"))+ #FFFF00\", \"#1CE6FF\", \"#FF34FF\", \"#FF4A46\", \"#008941\", \"#006FA6\", \"#A30059\",\n",
    "#         \"#FFDBE5\", \"#7A4900\", \"#0000A6\", \"#63FFAC\", \"#B79762\", \"#004D43\", \"#8FB0FF\", \"#997D87\",\n",
    "#         \"#5A0007\", \"#809693\", \"#1B4400\", \"#4FC601\", \"#3B5DFF\", \"#4A3B53\", \"#FF2F80\")) + \n",
    "labs(x = \"PCoA 1 [36.3%]\", y = \"PCoA 2 [20.5%]\") +\n",
    "theme_bw(base_size = 24) +\n",
    "theme(panel.grid = element_blank()) +\n",
    "theme(panel.border = element_blank()) +\n",
    "theme(axis.line.x = element_line(color=\"black\", size = 1),\n",
    "    axis.line.y = element_line(color=\"black\", size = 1),\n",
    "     axis.title.x = element_blank(),\n",
    "     axis.title.y = element_blank()) +\n",
    "theme(legend.position=\"none\") +\n",
    "ggtitle(\"Nitrogen Fertilization\")\n",
    "p4\n",
    "grid.arrange(p1, p2, p3, p4, ncol = 2)"
   ]
  },
  {
   "cell_type": "code",
   "execution_count": 12,
   "metadata": {
    "collapsed": false,
    "scrolled": true
   },
   "outputs": [
    {
     "data": {
      "image/png": "[encoded data removed]"
     },
     "metadata": {},
     "output_type": "display_data"
    }
   ],
   "source": [
    "%%R -w 800 -h 500\n",
    "sample_data(physeq.Full)$Plant = factor(sample_data(physeq.Full)$Plant, levels = c(\"BARE\", \"75-062\", \"B73\", \"B97\" ,  \"H99\" , \"Hp301\",\n",
    "                                                                      \"Il14H\",  \"Ki3\" , \"Mo18\", \"MS71\",\"Oh7B\", \"Tx303\",\n",
    "                                                                      \"ECHCG\", \"SETFA\", \"SORBI\", \"SORSUD\", \n",
    "                                                                      \"ELCOR\", \"ERATE\",\n",
    "                                                                      \"ABUTH\", \"HELAN\", \"FAGES\", \"AMAPO\", \"GLYMA\"))\n",
    "\n",
    "#Temp = subset_samples(physeq.Full, Treatment == \"Nneg\")\n",
    "ordu = ordinate(physeq.Full, \"PCoA\", \"unifrac\", weighted=TRUE)\n",
    "p = plot_ordination(physeq.Full, ordu, color=\"Plant\", shape = \"Treatment\") +\n",
    "geom_point(size = 4) + \n",
    "\n",
    "  scale_color_manual(values = c(\"#000000\", \"#FFFF00\", \"#1CE6FF\", \"#FF34FF\", \"#FF4A46\", \"#008941\", \"#006FA6\", \"#A30059\",\n",
    "        \"#FFDBE5\", \"#7A4900\", \"#0000A6\", \"#63FFAC\", \"#B79762\", \"#004D43\", \"#8FB0FF\", \"#997D87\",\n",
    "        \"#5A0007\", \"#809693\", \"#1B4400\", \"#4FC601\", \"#3B5DFF\", \"#4A3B53\", \"#FF2F80\")) +\n",
    "#scale_shape_manual(values=c(0, 16, 17, 15, 3, 7))  \n",
    "labs(x = \"PCoA 1 [36.3%]\", y = \"PCoA 2 [20.5%]\") +\n",
    "theme_bw(base_size = 24) +\n",
    "theme(panel.border = element_blank()) +\n",
    "theme(axis.line.x = element_line(color=\"black\", size = 1),\n",
    "    axis.line.y = element_line(color=\"black\", size = 1))# +\n",
    "#theme(legend.position=\"none\")\n",
    "\n",
    "p = p + facet_wrap(~DAP)\n",
    "p"
   ]
  },
  {
   "cell_type": "code",
   "execution_count": 13,
   "metadata": {
    "collapsed": false
   },
   "outputs": [
    {
     "data": {
      "text/plain": [
       "png \n",
       "  2 \n"
      ]
     },
     "metadata": {},
     "output_type": "display_data"
    }
   ],
   "source": [
    "%%R\n",
    "# saving figure\n",
    "\n",
    "pdf(file = \"/home/bryan/RhizCG/figures/ordinations/PCoA_facetbyDay.pdf\", \n",
    "    height = 7.5, width = 14)\n",
    "p  %>% print\n",
    "dev.off()"
   ]
  },
  {
   "cell_type": "markdown",
   "metadata": {},
   "source": [
    "# Adonis testing treatment effects"
   ]
  },
  {
   "cell_type": "code",
   "execution_count": 27,
   "metadata": {
    "collapsed": false,
    "scrolled": true
   },
   "outputs": [
    {
     "data": {
      "text/plain": [
       "\n",
       "Call:\n",
       "adonis(formula = d ~ Planted + DAP + Treatment + Plant, data = df,      permutations = 999, strata = df$Rep:df$Plant) \n",
       "\n",
       "Blocks:  strata \n",
       "Permutation: free\n",
       "Number of permutations: 999\n",
       "\n",
       "Terms added sequentially (first to last)\n",
       "\n",
       "           Df SumsOfSqs MeanSqs F.Model      R2 Pr(>F)    \n",
       "Planted     1    2.2437 2.24374 141.493 0.25414  0.001 ***\n",
       "DAP         7    1.4651 0.20930  13.199 0.16595  0.001 ***\n",
       "Treatment   1    0.0421 0.04206   2.652 0.00476  0.001 ***\n",
       "Plant      21    1.7952 0.08549   5.391 0.20334  0.031 *  \n",
       "Residuals 207    3.2825 0.01586         0.37180           \n",
       "Total     237    8.8287                 1.00000           \n",
       "---\n",
       "Signif. codes:  0 ‘***’ 0.001 ‘**’ 0.01 ‘*’ 0.05 ‘.’ 0.1 ‘ ’ 1\n"
      ]
     },
     "metadata": {},
     "output_type": "display_data"
    }
   ],
   "source": [
    "%%R\n",
    "set.seed(101)\n",
    "\n",
    "df = as(sample_data(physeq.Full), \"data.frame\")\n",
    "d = wunif.dist\n",
    "Fulladonis = adonis(formula = d ~ Planted + DAP + Treatment + Plant, df, strata = df$Rep:df$Plant, permutations = 999)\n",
    "Fulladonis"
   ]
  },
  {
   "cell_type": "markdown",
   "metadata": {},
   "source": [
    "## Rhizosphere "
   ]
  },
  {
   "cell_type": "code",
   "execution_count": 28,
   "metadata": {
    "collapsed": false
   },
   "outputs": [
    {
     "data": {
      "text/plain": [
       "phyloseq-class experiment-level object\n",
       "otu_table()   OTU Table:         [ 4971 taxa and 174 samples ]\n",
       "sample_data() Sample Data:       [ 174 samples by 55 sample variables ]\n",
       "tax_table()   Taxonomy Table:    [ 4971 taxa by 8 taxonomic ranks ]\n",
       "phy_tree()    Phylogenetic Tree: [ 4971 tips and 4970 internal nodes ]\n"
      ]
     },
     "metadata": {},
     "output_type": "display_data"
    }
   ],
   "source": [
    "%%R\n",
    "\n",
    "physeq.plant = subset_samples(physeq.Full, Plant != \"BARE\")\n",
    "\n",
    "#remove taxa that aren't in any plant samples\n",
    "physeq.plant = filter_taxa(physeq.plant, function(x) max(x) > 0, TRUE)\n",
    "physeq.plant"
   ]
  },
  {
   "cell_type": "code",
   "execution_count": 29,
   "metadata": {
    "collapsed": false,
    "scrolled": true
   },
   "outputs": [
    {
     "data": {
      "text/plain": [
       " [1] 75-062 Oh7B   SETFA  MS71   ERATE  FAGES  B73    AMAPO  B97    GLYMA \n",
       "[11] H99    Il14H  SORBI  SORSUD ELCOR  ABUTH  Ki3    HELAN  Tx303  Hp301 \n",
       "[21] ECHCG  Mo18  \n",
       "22 Levels: 75-062 B73 B97 H99 Hp301 Il14H Ki3 Mo18 MS71 Oh7B Tx303 ... GLYMA\n"
      ]
     },
     "metadata": {},
     "output_type": "display_data"
    }
   ],
   "source": [
    "%%R\n",
    "sample_data(physeq.plant)$Plant %>% unique()"
   ]
  },
  {
   "cell_type": "code",
   "execution_count": 30,
   "metadata": {
    "collapsed": false
   },
   "outputs": [],
   "source": [
    "%%R\n",
    "registerDoParallel(cores=28)\n",
    "plant.wunif.dist = distance(physeq.plant, \n",
    "                      method = \"unifrac\", \n",
    "                      weighted = TRUE,\n",
    "                      fast = TRUE, \n",
    "                      parallel = TRUE, \n",
    "                      normalized = FALSE)"
   ]
  },
  {
   "cell_type": "code",
   "execution_count": 31,
   "metadata": {
    "collapsed": false,
    "scrolled": false
   },
   "outputs": [
    {
     "data": {
      "text/plain": [
       "\n",
       "Call:\n",
       "adonis(formula = d ~ DAP + Plant + Treatment, data = df, permutations = 999,      strata = df$Rep:df$Plant) \n",
       "\n",
       "Blocks:  strata \n",
       "Permutation: free\n",
       "Number of permutations: 999\n",
       "\n",
       "Terms added sequentially (first to last)\n",
       "\n",
       "           Df SumsOfSqs  MeanSqs F.Model      R2 Pr(>F)   \n",
       "DAP         7    1.9678 0.281116 14.8741 0.32612  0.002 **\n",
       "Plant      14    1.1572 0.082657  4.3735 0.19178  0.002 **\n",
       "Treatment   1    0.0552 0.055211  2.9212 0.00915  0.002 **\n",
       "Residuals 151    2.8539 0.018900         0.47296          \n",
       "Total     173    6.0341                  1.00000          \n",
       "---\n",
       "Signif. codes:  0 ‘***’ 0.001 ‘**’ 0.01 ‘*’ 0.05 ‘.’ 0.1 ‘ ’ 1\n"
      ]
     },
     "metadata": {},
     "output_type": "display_data"
    }
   ],
   "source": [
    "%%R\n",
    "df = as(sample_data(physeq.plant), \"data.frame\")\n",
    "d = plant.wunif.dist\n",
    "Plantadonis = adonis(formula = d ~ DAP + Plant + Treatment, df, strata = df$Rep:df$Plant, permutations = 999)\n",
    "Plantadonis"
   ]
  },
  {
   "cell_type": "markdown",
   "metadata": {},
   "source": [
    "## Bare soil samples"
   ]
  },
  {
   "cell_type": "code",
   "execution_count": 32,
   "metadata": {
    "collapsed": true
   },
   "outputs": [],
   "source": [
    "%%R\n",
    "phy = subset_samples(physeq.Full, Plant == \"BARE\")\n",
    "\n",
    "#calculate distance matrix for subset\n",
    "registerDoParallel(cores=28)\n",
    "bare.wunif.dist = distance(phy, \n",
    "                      method = \"unifrac\", \n",
    "                      weighted = TRUE,\n",
    "                      fast = TRUE, \n",
    "                      parallel = TRUE, \n",
    "                      normalized = FALSE)\n",
    "\n"
   ]
  },
  {
   "cell_type": "code",
   "execution_count": 33,
   "metadata": {
    "collapsed": false
   },
   "outputs": [
    {
     "data": {
      "text/plain": [
       "\n",
       "Call:\n",
       "adonis(formula = d ~ DAP + Treatment, data = df, permutations = 999,      strata = df$Rep) \n",
       "\n",
       "Blocks:  strata \n",
       "Permutation: free\n",
       "Number of permutations: 999\n",
       "\n",
       "Terms added sequentially (first to last)\n",
       "\n",
       "          Df SumsOfSqs   MeanSqs F.Model      R2 Pr(>F)    \n",
       "DAP        7   0.13534 0.0193341  2.6147 0.24569  0.001 ***\n",
       "Treatment  1   0.00883 0.0088320  1.1944 0.01603  0.194    \n",
       "Residuals 55   0.40669 0.0073944         0.73828           \n",
       "Total     63   0.55086                   1.00000           \n",
       "---\n",
       "Signif. codes:  0 ‘***’ 0.001 ‘**’ 0.01 ‘*’ 0.05 ‘.’ 0.1 ‘ ’ 1\n"
      ]
     },
     "metadata": {},
     "output_type": "display_data"
    }
   ],
   "source": [
    "%%R\n",
    "#perform ADONIS\n",
    "df = as(sample_data(phy), \"data.frame\")\n",
    "d = bare.wunif.dist\n",
    "Plantadonis = adonis(formula = d ~ DAP + Treatment, df, strata = df$Rep, permutations = 999)\n",
    "Plantadonis"
   ]
  },
  {
   "cell_type": "markdown",
   "metadata": {},
   "source": [
    "## Maize ADONIS"
   ]
  },
  {
   "cell_type": "code",
   "execution_count": 19,
   "metadata": {
    "collapsed": true
   },
   "outputs": [],
   "source": [
    "%%R\n",
    "phy.maize = subset_samples(physeq.Full, Type == \"Maize\")\n",
    "\n",
    "#calculate distance matrix for subset\n",
    "registerDoParallel(cores=28)\n",
    "maize.wunif.dist = distance(phy.maize, \n",
    "                      method = \"unifrac\", \n",
    "                      weighted = TRUE,\n",
    "                      fast = TRUE, \n",
    "                      parallel = TRUE, \n",
    "                      normalized = FALSE)\n",
    "\n"
   ]
  },
  {
   "cell_type": "code",
   "execution_count": 20,
   "metadata": {
    "collapsed": false
   },
   "outputs": [
    {
     "name": "stdout",
     "output_type": "stream",
     "text": [
      "The history saving thread hit an unexpected error (OperationalError('database is locked',)).History will not be written to the database.\n"
     ]
    },
    {
     "data": {
      "text/plain": [
       "\n",
       "Call:\n",
       "adonis(formula = d ~ DAP + Plant + Treatment, data = df, permutations = 999,      strata = df$Rep:df$Plant) \n",
       "\n",
       "Blocks:  strata \n",
       "Permutation: free\n",
       "Number of permutations: 999\n",
       "\n",
       "Terms added sequentially (first to last)\n",
       "\n",
       "          Df SumsOfSqs  MeanSqs F.Model      R2 Pr(>F)  \n",
       "DAP        2   0.22307 0.111533  6.4364 0.10532  0.011 *\n",
       "Plant      8   0.54785 0.068481  3.9520 0.25866  0.011 *\n",
       "Treatment  1   0.03017 0.030173  1.7412 0.01425  0.011 *\n",
       "Residuals 76   1.31695 0.017328         0.62178         \n",
       "Total     87   2.11804                  1.00000         \n",
       "---\n",
       "Signif. codes:  0 ‘***’ 0.001 ‘**’ 0.01 ‘*’ 0.05 ‘.’ 0.1 ‘ ’ 1\n"
      ]
     },
     "metadata": {},
     "output_type": "display_data"
    }
   ],
   "source": [
    "%%R\n",
    "#perform ADONIS\n",
    "df = as(sample_data(phy.maize), \"data.frame\")\n",
    "d = maize.wunif.dist\n",
    "Maizeadonis = adonis(formula = d ~ DAP + Plant + Treatment, df, strata = df$Rep:df$Plant, permutations = 999)\n",
    "Maizeadonis"
   ]
  },
  {
   "cell_type": "markdown",
   "metadata": {},
   "source": [
    "## Calculate genotype effect on each date"
   ]
  },
  {
   "cell_type": "markdown",
   "metadata": {},
   "source": [
    "#### DAP = 36 only one plant"
   ]
  },
  {
   "cell_type": "markdown",
   "metadata": {},
   "source": [
    "#### DAP = 53"
   ]
  },
  {
   "cell_type": "code",
   "execution_count": null,
   "metadata": {
    "collapsed": false,
    "scrolled": true
   },
   "outputs": [],
   "source": [
    "%%R\n",
    "\n",
    "plant53 = subset_samples(physeq.plant, DAP == 53)\n",
    "\n",
    "sample_data(plant53)$Plant %>% levels() %>% print\n",
    "\n",
    "registerDoParallel(cores=28)\n",
    "plant53.wunif.dist = distance(plant53, \n",
    "                      method = \"unifrac\", \n",
    "                      weighted = TRUE,\n",
    "                      fast = TRUE, \n",
    "                      parallel = TRUE, \n",
    "                      normalized = FALSE)\n",
    "\n",
    "df = as(sample_data(plant53), \"data.frame\")\n",
    "d = plant53.wunif.dist\n",
    "\n",
    "Plantadonis = adonis(formula = d ~ Plant + Treatment, df, strata = df$Rep, permutations = 999)\n",
    "Plantadonis"
   ]
  },
  {
   "cell_type": "markdown",
   "metadata": {},
   "source": [
    "#### DAP = 57"
   ]
  },
  {
   "cell_type": "code",
   "execution_count": null,
   "metadata": {
    "collapsed": false
   },
   "outputs": [],
   "source": [
    "%%R\n",
    "plantDay = subset_samples(physeq.plant, DAP == 57)\n",
    "\n",
    "sample_data(plantDay)$Plant %>% levels() %>% print\n",
    "\n",
    "registerDoParallel(cores=28)\n",
    "plantDay.wunif.dist = distance(plantDay, \n",
    "                      method = \"unifrac\", \n",
    "                      weighted = TRUE,\n",
    "                      fast = TRUE, \n",
    "                      parallel = TRUE, \n",
    "                      normalized = FALSE)\n",
    "\n",
    "df = as(sample_data(plantDay), \"data.frame\")\n",
    "d = plantDay.wunif.dist\n",
    "\n",
    "Plantadonis = adonis(formula = d ~ Plant + Treatment, df, strata = df$Rep, permutations = 999)\n",
    "Plantadonis"
   ]
  },
  {
   "cell_type": "markdown",
   "metadata": {},
   "source": [
    "#### DAP =  61; only one plant"
   ]
  },
  {
   "cell_type": "markdown",
   "metadata": {},
   "source": [
    "#### DAP =  72"
   ]
  },
  {
   "cell_type": "code",
   "execution_count": null,
   "metadata": {
    "collapsed": false
   },
   "outputs": [],
   "source": [
    "%%R\n",
    "plantDay = subset_samples(physeq.plant, DAP == 72)\n",
    "\n",
    "sample_data(plantDay)$Plant %>% levels() %>% print\n",
    "\n",
    "registerDoParallel(cores=28)\n",
    "plantDay.wunif.dist = distance(plantDay, \n",
    "                      method = \"unifrac\", \n",
    "                      weighted = TRUE,\n",
    "                      fast = TRUE, \n",
    "                      parallel = TRUE, \n",
    "                      normalized = FALSE)\n",
    "\n",
    "df = as(sample_data(plantDay), \"data.frame\")\n",
    "d = plantDay.wunif.dist\n",
    "\n",
    "Plantadonis = adonis(formula = d ~ Plant + Treatment, df, strata = df$Rep, permutations = 999)\n",
    "Plantadonis"
   ]
  },
  {
   "cell_type": "markdown",
   "metadata": {},
   "source": [
    "#### Day 79"
   ]
  },
  {
   "cell_type": "code",
   "execution_count": null,
   "metadata": {
    "collapsed": false,
    "scrolled": true
   },
   "outputs": [],
   "source": [
    "%%R\n",
    "plantDay = subset_samples(physeq.plant, DAP == 79)\n",
    "\n",
    "sample_data(plantDay)$Plant %>% levels() %>% print\n",
    "\n",
    "registerDoParallel(cores=28)\n",
    "plantDay.wunif.dist = distance(plantDay, \n",
    "                      method = \"unifrac\", \n",
    "                      weighted = TRUE,\n",
    "                      fast = TRUE, \n",
    "                      parallel = TRUE, \n",
    "                      normalized = FALSE)\n",
    "\n",
    "df = as(sample_data(plantDay), \"data.frame\")\n",
    "d = plantDay.wunif.dist\n",
    "\n",
    "Plantadonis = adonis(formula = d ~ Plant + Treatment, df, strata = df$Rep, permutations = 999)\n",
    "Plantadonis"
   ]
  },
  {
   "cell_type": "markdown",
   "metadata": {},
   "source": [
    "#### Day 84"
   ]
  },
  {
   "cell_type": "code",
   "execution_count": null,
   "metadata": {
    "collapsed": false
   },
   "outputs": [],
   "source": [
    "%%R\n",
    "plantDay = subset_samples(physeq.plant, DAP == 84)\n",
    "\n",
    "sample_data(plantDay)$Plant %>% levels() %>% print\n",
    "\n",
    "registerDoParallel(cores=28)\n",
    "plantDay.wunif.dist = distance(plantDay, \n",
    "                      method = \"unifrac\", \n",
    "                      weighted = TRUE,\n",
    "                      fast = TRUE, \n",
    "                      parallel = TRUE, \n",
    "                      normalized = FALSE)\n",
    "\n",
    "df = as(sample_data(plantDay), \"data.frame\")\n",
    "d = plantDay.wunif.dist\n",
    "\n",
    "Plantadonis = adonis(formula = d ~ Plant + Treatment, df, strata = df$Rep, permutations = 999)\n",
    "Plantadonis"
   ]
  },
  {
   "cell_type": "markdown",
   "metadata": {},
   "source": [
    "#### Day 88"
   ]
  },
  {
   "cell_type": "code",
   "execution_count": null,
   "metadata": {
    "collapsed": false
   },
   "outputs": [],
   "source": [
    "%%R\n",
    "plantDay = subset_samples(physeq.plant, DAP == 88)\n",
    "\n",
    "sample_data(plantDay)$Plant %>% levels() %>% print\n",
    "sample_data(plantDay)$Library %>% unique() %>% print\n",
    "\n",
    "registerDoParallel(cores=28)\n",
    "plantDay.wunif.dist = distance(plantDay, \n",
    "                      method = \"unifrac\", \n",
    "                      weighted = TRUE,\n",
    "                      fast = TRUE, \n",
    "                      parallel = TRUE, \n",
    "                      normalized = FALSE)\n",
    "\n",
    "df = as(sample_data(plantDay), \"data.frame\")\n",
    "d = plantDay.wunif.dist\n",
    "\n",
    "Plantadonis = adonis(formula = d ~ Plant + Treatment, df, strata = df$Rep, permutations = 999)\n",
    "Plantadonis"
   ]
  },
  {
   "cell_type": "markdown",
   "metadata": {
    "collapsed": true
   },
   "source": [
    "### Weighted UniFrac Faceted by Day"
   ]
  },
  {
   "cell_type": "code",
   "execution_count": null,
   "metadata": {
    "collapsed": false,
    "scrolled": true
   },
   "outputs": [],
   "source": [
    "%%R -w 800 -h 800\n",
    "\n",
    "\n",
    "## generating plots\n",
    "p1 = ggplot(p, aes(x = NMDS1, y = NMDS2)) +\n",
    "        geom_point(aes(fill=Plant), size = 5, pch = 21) +\n",
    "        facet_wrap(~ DAP, ncol = 4) +\n",
    "        scale_size(range=c(2,8))+\n",
    "        theme_bw() +\n",
    "        ggtitle(\"NMDS of w-UniFrac Distances\") +\n",
    "        theme(plot.title = element_text(face=\"bold\", size=20))\n",
    "\n",
    "p1"
   ]
  },
  {
   "cell_type": "code",
   "execution_count": null,
   "metadata": {
    "collapsed": false
   },
   "outputs": [],
   "source": [
    "%%R\n",
    "##print to file\n",
    "pdf(file = \"/home/bryan/RhizCG/figures/ordinations/NMDS_wunif_facetbyday.pdf\", \n",
    "    height = 6, width = 9)\n",
    "p1 %>% print\n",
    "dev.off()"
   ]
  },
  {
   "cell_type": "markdown",
   "metadata": {},
   "source": [
    "# Sandbox"
   ]
  },
  {
   "cell_type": "code",
   "execution_count": null,
   "metadata": {
    "collapsed": false
   },
   "outputs": [],
   "source": [
    "%%R\n",
    "set.seed(1)\n",
    "phy = subset_samples(physeq.Full, !is.na(InorganicN))\n",
    "\n",
    "#calculate distance matrix for subset\n",
    "registerDoParallel(cores=28)\n",
    "sub.wunif.dist = distance(phy, \n",
    "                      method = \"unifrac\", \n",
    "                      weighted = TRUE,\n",
    "                      fast = TRUE, \n",
    "                      parallel = TRUE, \n",
    "                      normalized = FALSE)\n",
    "\n",
    "#perform ADONIS\n",
    "df = as(sample_data(phy), \"data.frame\")\n",
    "d = sub.wunif.dist\n",
    "Fulladonis = adonis(formula = d ~ InorganicN + Planted + DAP + Plant, df, strata = df$Rep:df$Plant, permutations = 999)\n",
    "Fulladonis"
   ]
  },
  {
   "cell_type": "code",
   "execution_count": null,
   "metadata": {
    "collapsed": true
   },
   "outputs": [],
   "source": [
    "%%R\n",
    "phy = subset_samples(physeq.plant, !is.na(InorganicN))\n",
    "\n",
    "#calculate distance matrix for subset\n",
    "registerDoParallel(cores=28)\n",
    "sub.wunif.dist = distance(phy, \n",
    "                      method = \"unifrac\", \n",
    "                      weighted = TRUE,\n",
    "                      fast = TRUE, \n",
    "                      parallel = TRUE, \n",
    "                      normalized = FALSE)\n",
    "\n",
    "#perform ADONIS\n",
    "df = as(sample_data(phy), \"data.frame\")\n",
    "d = sub.wunif.dist\n",
    "Plantadonis = adonis(formula = d ~ InorganicN + DAP + Plant, df, strata = df$Rep:df$Plant, permutations = 999)\n",
    "Plantadonis\n"
   ]
  },
  {
   "cell_type": "code",
   "execution_count": null,
   "metadata": {
    "collapsed": true
   },
   "outputs": [],
   "source": [
    "%%R\n",
    "set.seed(63)\n",
    "#perform ADONIS\n",
    "df = as(sample_data(phy), \"data.frame\")\n",
    "d = sub.wunif.dist\n",
    "Plantadonis = adonis(formula = d ~ DAP + Plant + InorganicN, df, strata = df$Rep:df$Plant, permutations = 999)\n",
    "Plantadonis"
   ]
  },
  {
   "cell_type": "markdown",
   "metadata": {},
   "source": [
    "## CAP analysis of rhizosphere samples"
   ]
  },
  {
   "cell_type": "code",
   "execution_count": null,
   "metadata": {
    "collapsed": false,
    "scrolled": true
   },
   "outputs": [],
   "source": [
    "%%R -w 600 -h 600\n",
    "phy = subset_samples(physeq.plant, !is.na(InorganicN))\n",
    "\n",
    "phy.wunif.dist = distance(phy, \n",
    "                      method = \"unifrac\", \n",
    "                      weighted = TRUE,\n",
    "                      fast = TRUE, \n",
    "                      parallel = TRUE, \n",
    "                      normalized = FALSE)\n",
    "\n",
    "sample_data(phy)$DAP = as.factor(sample_data(phy)$DAP)\n",
    "unique(sample_data(phy)$DAP) %>% print\n",
    "# CAP ordinate\n",
    "cap.ord = ordinate(\n",
    "    physeq = phy, \n",
    "    method = \"CAP\",\n",
    "    distance = phy.wunif.dist,\n",
    "    formula = ~ CB_activity_g + LAP_activity_g\n",
    ")\n",
    "\n",
    "# CAP plot\n",
    "cap.plot <- plot_ordination(\n",
    "    phy, \n",
    "    cap.ord, \n",
    "    color = \"Plant\", \n",
    "    axes = c(1,2)\n",
    "    ) + \n",
    "    aes(shape = Type) + \n",
    "    geom_point(aes(colour = Plant), \n",
    "        alpha= 1, \n",
    "        size = 4) + \n",
    "    #geom_point(colour = \"grey90\", \n",
    "    #    size = 1.5) + \n",
    "    theme_bw(base_size = 16)\n",
    "    #scale_color_manual(values = c(\"#a65628\", \"red\", \"#ffae19\", \"#4daf4a\", \n",
    "    #    \"#1919ff\", \"darkorchid3\", \"magenta\"))\n",
    "\n",
    "cap.plot"
   ]
  },
  {
   "cell_type": "code",
   "execution_count": null,
   "metadata": {
    "collapsed": false
   },
   "outputs": [],
   "source": [
    "%%R -w 800 -h 600\n",
    "# Now add the environmental variables as arrows\n",
    "arrowmat <- vegan::scores(cap.ord, display = \"bp\")\n",
    "\n",
    "\n",
    "# Add labels, make a data.frame\n",
    "arrowdf <- data.frame(labels = rownames(arrowmat), arrowmat)\n",
    "\n",
    "# Define the arrow aesthetic mapping\n",
    "arrow_map <- aes(xend = CAP1, \n",
    "    yend = CAP2, \n",
    "    x = 0, \n",
    "    y = 0, \n",
    "    shape = NULL, \n",
    "    color = NULL, \n",
    "    label = labels)\n",
    "\n",
    "label_map <- aes(x = 1.3 * CAP1, \n",
    "    y = 1.3 * CAP2, \n",
    "    shape = NULL, \n",
    "    color = NULL, \n",
    "    label = labels)\n",
    "\n",
    "arrowhead = arrow(length = unit(0.02, \"npc\"))\n",
    "\n",
    "# Make a new graphic\n",
    "cap.plot + \n",
    "geom_segment(arrow_map, \n",
    "    size = .5, \n",
    "    data = arrowdf, \n",
    "    color = \"gray\", \n",
    "    arrow = arrowhead\n",
    "    ) + \n",
    "geom_text(label_map, \n",
    "    size = 4,  \n",
    "    data = arrowdf, \n",
    "    show_guide = FALSE)"
   ]
  },
  {
   "cell_type": "code",
   "execution_count": null,
   "metadata": {
    "collapsed": false
   },
   "outputs": [],
   "source": [
    "%%R\n",
    "summary(cap.ord)\n"
   ]
  },
  {
   "cell_type": "markdown",
   "metadata": {},
   "source": [
    "## Hypothesis testing of weighted and un-weighted unifrac"
   ]
  },
  {
   "cell_type": "code",
   "execution_count": null,
   "metadata": {
    "collapsed": false,
    "scrolled": false
   },
   "outputs": [],
   "source": [
    "%%R\n",
    "df = as(sample_data(physeq.snorm), \"data.frame\")\n",
    "d = wunif.dist\n",
    "Fulladonis = adonis(formula = d ~ Library + Planted + DAP + Plant + Treatment, df, strata = df$Rep:df$Plant, permutations = 999)\n",
    "Fulladonis"
   ]
  },
  {
   "cell_type": "code",
   "execution_count": null,
   "metadata": {
    "collapsed": false
   },
   "outputs": [],
   "source": [
    "%%R\n",
    "a = data.frame(Fulladonis$aov.tab)\n",
    "write.table(a, file = \"/home/bryan/RhizCG/figures/FullADONIS.txt\", sep = \"\\t\")"
   ]
  },
  {
   "cell_type": "code",
   "execution_count": null,
   "metadata": {
    "collapsed": false
   },
   "outputs": [],
   "source": [
    "%%R\n",
    "#Check model without Treatment effect only Nneg\n",
    "df = as(sample_data(physeq.snorm.Nneg), \"data.frame\")\n",
    "d = wunif.dist.Nneg\n",
    "Nnegadonis = adonis(formula = d ~ Library + Planted + DAP + Plant, df, strata = df$Rep, permutations = 999)\n",
    "Nnegadonis"
   ]
  },
  {
   "cell_type": "code",
   "execution_count": null,
   "metadata": {
    "collapsed": false,
    "scrolled": true
   },
   "outputs": [],
   "source": [
    "%%R\n",
    "df = as(sample_data(physeq.snorm), \"data.frame\")\n",
    "d = unif.dist\n",
    "Fulladonis = adonis(formula = d ~ DAP +  Planted + Plant + Treatment + Rep, df, strata = df$Rep:df$Plant, permutations = 999)\n",
    "Fulladonis"
   ]
  },
  {
   "cell_type": "code",
   "execution_count": null,
   "metadata": {
    "collapsed": false
   },
   "outputs": [],
   "source": [
    "%%R\n",
    "df = as(sample_data(physeq.snorm.Nneg), \"data.frame\")\n",
    "d = unif.dist.Nneg\n",
    "Fulladonis = adonis(formula = d ~ DAP +  Planted + Plant + Rep, df, strata = df$Rep, permutations = 999)\n",
    "Fulladonis"
   ]
  },
  {
   "cell_type": "markdown",
   "metadata": {},
   "source": [
    "# Bare soils change with time w-UniFrac"
   ]
  },
  {
   "cell_type": "code",
   "execution_count": null,
   "metadata": {
    "collapsed": false
   },
   "outputs": [],
   "source": [
    "%%R\n",
    "\n",
    "bare = subset_samples(physeq.snorm, Plant == \"BARE\")\n",
    "sample_data(bare)$DAP = factor(sample_data(bare)$DAP)\n"
   ]
  },
  {
   "cell_type": "code",
   "execution_count": null,
   "metadata": {
    "collapsed": true
   },
   "outputs": [],
   "source": [
    "%%R\n",
    "registerDoParallel(cores=28)\n",
    "bare.wunif.dist = distance(bare, \n",
    "                      method = \"unifrac\", \n",
    "                      weighted = TRUE,\n",
    "                      fast = TRUE, \n",
    "                      parallel = TRUE, \n",
    "                      normalized = FALSE)"
   ]
  },
  {
   "cell_type": "code",
   "execution_count": null,
   "metadata": {
    "collapsed": false
   },
   "outputs": [],
   "source": [
    "%%R -w 800 -h 350\n",
    "\n",
    "\n",
    "nmds = ordinate(bare, \n",
    "                method = \"NMDS\", \n",
    "               distance = bare.wunif.dist)\n",
    "\n",
    "p = plot_ordination(bare, nmds, justDF = TRUE)"
   ]
  },
  {
   "cell_type": "code",
   "execution_count": null,
   "metadata": {
    "collapsed": false,
    "scrolled": true
   },
   "outputs": [],
   "source": [
    "%%R -w 750 -h 800\n",
    "\n",
    "\n",
    "## generating plots\n",
    "p1 = ggplot(p, aes(x = NMDS1, y = NMDS2)) +\n",
    "        geom_point(aes(fill=DAP), size = 6, pch=21) \n",
    "\n",
    "p1"
   ]
  },
  {
   "cell_type": "markdown",
   "metadata": {},
   "source": [
    "### Hypothesis Test adonis"
   ]
  },
  {
   "cell_type": "code",
   "execution_count": null,
   "metadata": {
    "collapsed": false,
    "scrolled": false
   },
   "outputs": [],
   "source": [
    "%%R\n",
    "df = as(sample_data(bare), \"data.frame\")\n",
    "d = bare.wunif.dist\n",
    "bareadonis = adonis(d ~ DAP*Treatment + Rep, df, strata = df$Rep)\n",
    "bareadonis"
   ]
  },
  {
   "cell_type": "markdown",
   "metadata": {},
   "source": [
    "# Bare Soil Change with Time uw-UniFrac"
   ]
  },
  {
   "cell_type": "code",
   "execution_count": null,
   "metadata": {
    "collapsed": true
   },
   "outputs": [],
   "source": [
    "%%R\n",
    "registerDoParallel(cores=28)\n",
    "bare.unif.dist = distance(bare, \n",
    "                      method = \"unifrac\", \n",
    "                      weighted = FALSE,\n",
    "                      fast = TRUE, \n",
    "                      parallel = TRUE, \n",
    "                      normalized = FALSE)"
   ]
  },
  {
   "cell_type": "code",
   "execution_count": null,
   "metadata": {
    "collapsed": false,
    "scrolled": true
   },
   "outputs": [],
   "source": [
    "%%R -w 800 -h 350\n",
    "\n",
    "\n",
    "nmds = ordinate(bare, \n",
    "                method = \"NMDS\", \n",
    "               distance = bare.unif.dist)\n",
    "\n",
    "p = plot_ordination(bare, nmds, justDF = TRUE)"
   ]
  },
  {
   "cell_type": "code",
   "execution_count": null,
   "metadata": {
    "collapsed": false
   },
   "outputs": [],
   "source": [
    "%%R -w 800 -h 350\n",
    "\n",
    "\n",
    "nmds = ordinate(bare, \n",
    "                method = \"NMDS\", \n",
    "               distance = bare.unif.dist)\n",
    "\n",
    "p = plot_ordination(bare, nmds, justDF = TRUE)"
   ]
  },
  {
   "cell_type": "code",
   "execution_count": null,
   "metadata": {
    "collapsed": false,
    "scrolled": false
   },
   "outputs": [],
   "source": [
    "%%R -w 750 -h 800\n",
    "\n",
    "\n",
    "## generating plots\n",
    "p1 = ggplot(p, aes(x = NMDS1, y = NMDS2)) +\n",
    "        geom_point(aes(fill=DAP), size = 6, pch=21) \n",
    "\n",
    "p1"
   ]
  },
  {
   "cell_type": "markdown",
   "metadata": {},
   "source": [
    "### Hypothesis Test adonis"
   ]
  },
  {
   "cell_type": "code",
   "execution_count": null,
   "metadata": {
    "collapsed": false,
    "scrolled": false
   },
   "outputs": [],
   "source": [
    "%%R\n",
    "df = as(sample_data(bare), \"data.frame\")\n",
    "d = bare.unif.dist\n",
    "bareadonis = adonis(d ~ DAP*Treatment + Rep, df, strata = df$Rep)\n",
    "bareadonis"
   ]
  },
  {
   "cell_type": "code",
   "execution_count": null,
   "metadata": {
    "collapsed": true
   },
   "outputs": [],
   "source": []
  },
  {
   "cell_type": "markdown",
   "metadata": {},
   "source": [
    "### subset just plants from Nneg and Npos"
   ]
  },
  {
   "cell_type": "code",
   "execution_count": null,
   "metadata": {
    "collapsed": false,
    "scrolled": true
   },
   "outputs": [],
   "source": [
    "%%R\n",
    "\n",
    "plantNneg = subset_samples(plant, Treatment == \"Nneg\")\n",
    "sample_data(plantNneg)$DAP = factor(sample_data(plantNneg)$DAP)\n",
    "plantNneg %>% print\n",
    "plantNpos = subset_samples(plant, Treatment == \"Npos\")\n",
    "sample_data(plantNpos)$DAP = factor(sample_data(plantNpos)$DAP)\n",
    "plantNpos %>% print"
   ]
  },
  {
   "cell_type": "code",
   "execution_count": null,
   "metadata": {
    "collapsed": false
   },
   "outputs": [],
   "source": [
    "%%R -w 750 -h 800\n",
    "#Whole plant set\n",
    "\n",
    "plantnmds = ordinate(plant, \n",
    "                method = \"NMDS\", \n",
    "               distance = plant.wunif.dist)\n",
    "\n",
    "p = plot_ordination(plant, plantnmds, justDF = TRUE)\n",
    "\n",
    "## generating plots\n",
    "p1 = ggplot(p, aes(x = NMDS1, y = NMDS2)) +\n",
    "        geom_point(aes(fill=Plant), size = 6, pch=21) \n",
    "\n",
    "p1"
   ]
  },
  {
   "cell_type": "code",
   "execution_count": null,
   "metadata": {
    "collapsed": false
   },
   "outputs": [],
   "source": [
    "%%R -w 750 -h 800\n",
    "#Whole plant set\n",
    "\n",
    "plantNnegnmds = ordinate(plantNneg, \n",
    "                method = \"NMDS\", \n",
    "               distance = plantNneg.wunif.dist)\n",
    "\n",
    "p = plot_ordination(plantNneg, plantNnegnmds, justDF = TRUE)\n",
    "\n",
    "## generating plots\n",
    "p1 = ggplot(p, aes(x = NMDS1, y = NMDS2)) +\n",
    "        geom_point(aes(fill=Plant), size = 6, pch=21) \n",
    "\n",
    "p1"
   ]
  },
  {
   "cell_type": "code",
   "execution_count": null,
   "metadata": {
    "collapsed": false,
    "scrolled": true
   },
   "outputs": [],
   "source": [
    "%%R -w 750 -h 800\n",
    "#Whole plant set\n",
    "\n",
    "plantNposnmds = ordinate(plantNpos, \n",
    "                method = \"NMDS\", \n",
    "               distance = plantNpos.wunif.dist)\n",
    "\n",
    "p = plot_ordination(plantNpos, plantNposnmds, justDF = TRUE)\n",
    "\n",
    "## generating plots\n",
    "p1 = ggplot(p, aes(x = NMDS1, y = NMDS2)) +\n",
    "        geom_point(aes(fill=Plant), size = 6, pch=21) \n",
    "\n",
    "p1\n"
   ]
  },
  {
   "cell_type": "markdown",
   "metadata": {},
   "source": [
    "## subset for particular day to test significance of plant while controlling for date"
   ]
  },
  {
   "cell_type": "markdown",
   "metadata": {},
   "source": [
    "### subset maize on a particular day"
   ]
  },
  {
   "cell_type": "code",
   "execution_count": null,
   "metadata": {
    "collapsed": false
   },
   "outputs": [],
   "source": [
    "%%R\n",
    "\n",
    "plant72 = subset_samples(plantNneg, DAP == 72)\n",
    "maize72 = subset_samples(plant72, Type == \"Maize\")\n",
    "maize72\n",
    "sample_data(maize72)$Plant %>% levels"
   ]
  },
  {
   "cell_type": "code",
   "execution_count": null,
   "metadata": {
    "collapsed": true
   },
   "outputs": [],
   "source": [
    "%%R\n",
    "registerDoParallel(cores=28)\n",
    "maize72.wunif.dist = distance(maize72, \n",
    "                      method = \"unifrac\", \n",
    "                      weighted = TRUE,\n",
    "                      fast = TRUE, \n",
    "                      parallel = TRUE, \n",
    "                      normalized = FALSE)"
   ]
  },
  {
   "cell_type": "code",
   "execution_count": null,
   "metadata": {
    "collapsed": true
   },
   "outputs": [],
   "source": []
  },
  {
   "cell_type": "code",
   "execution_count": null,
   "metadata": {
    "collapsed": false
   },
   "outputs": [],
   "source": [
    "%%R -w 750 -h 800\n",
    "#Day 88\n",
    "\n",
    "plantnmds = ordinate(maize72, \n",
    "                method = \"NMDS\", \n",
    "               distance = maize72.wunif.dist)\n",
    "\n",
    "p = plot_ordination(maize72, plantnmds, justDF = TRUE)\n",
    "\n",
    "## generating plots\n",
    "p1 = ggplot(p, aes(x = NMDS1, y = NMDS2)) +\n",
    "        geom_point(aes(fill=Plant), size = 6, pch=21) \n",
    "\n",
    "p1"
   ]
  },
  {
   "cell_type": "code",
   "execution_count": null,
   "metadata": {
    "collapsed": false,
    "scrolled": true
   },
   "outputs": [],
   "source": [
    "%%R\n",
    "df = as(sample_data(maize72), \"data.frame\")\n",
    "d = maize72.wunif.dist\n",
    "plantadonis = adonis(d ~ Plant, df, strata = df$Rep)\n",
    "plantadonis"
   ]
  },
  {
   "cell_type": "markdown",
   "metadata": {},
   "source": [
    "### Day 88"
   ]
  },
  {
   "cell_type": "code",
   "execution_count": null,
   "metadata": {
    "collapsed": false,
    "scrolled": true
   },
   "outputs": [],
   "source": [
    "%%R\n",
    "plant88 = subset_samples(plantNneg, DAP == 88)\n",
    "plant88"
   ]
  },
  {
   "cell_type": "code",
   "execution_count": null,
   "metadata": {
    "collapsed": true
   },
   "outputs": [],
   "source": [
    "%%R\n",
    "registerDoParallel(cores=28)\n",
    "plant88.wunif.dist = distance(plant88, \n",
    "                      method = \"unifrac\", \n",
    "                      weighted = TRUE,\n",
    "                      fast = TRUE, \n",
    "                      parallel = TRUE, \n",
    "                      normalized = FALSE)"
   ]
  },
  {
   "cell_type": "code",
   "execution_count": null,
   "metadata": {
    "collapsed": false
   },
   "outputs": [],
   "source": [
    "%%R -w 750 -h 800\n",
    "#Day 88\n",
    "\n",
    "plantnmds = ordinate(plant88, \n",
    "                method = \"NMDS\", \n",
    "               distance = plant88.wunif.dist)\n",
    "\n",
    "p = plot_ordination(plant88, plantnmds, justDF = TRUE)\n",
    "\n",
    "## generating plots\n",
    "p1 = ggplot(p, aes(x = NMDS1, y = NMDS2)) +\n",
    "        geom_point(aes(fill=Plant), size = 6, pch=21) \n",
    "\n",
    "p1"
   ]
  },
  {
   "cell_type": "markdown",
   "metadata": {},
   "source": [
    "## Significance test of plant effect on single day"
   ]
  },
  {
   "cell_type": "code",
   "execution_count": null,
   "metadata": {
    "collapsed": false,
    "scrolled": false
   },
   "outputs": [],
   "source": [
    "%%R\n",
    "df = as(sample_data(plant88), \"data.frame\")\n",
    "d = plant88.wunif.dist\n",
    "plantadonis = adonis(d ~ Plant, df, strata = df$Rep)\n",
    "plantadonis"
   ]
  },
  {
   "cell_type": "markdown",
   "metadata": {},
   "source": [
    "### Maize on day 88"
   ]
  },
  {
   "cell_type": "code",
   "execution_count": null,
   "metadata": {
    "collapsed": false,
    "scrolled": false
   },
   "outputs": [],
   "source": [
    "%%R\n",
    "maize88 = subset_samples(plant88, Type == \"Maize\")\n",
    "maize88"
   ]
  },
  {
   "cell_type": "code",
   "execution_count": null,
   "metadata": {
    "collapsed": true
   },
   "outputs": [],
   "source": [
    "%%R\n",
    "registerDoParallel(cores=28)\n",
    "maize88.wunif.dist = distance(maize88, \n",
    "                      method = \"unifrac\", \n",
    "                      weighted = TRUE,\n",
    "                      fast = TRUE, \n",
    "                      parallel = TRUE, \n",
    "                      normalized = FALSE)"
   ]
  },
  {
   "cell_type": "code",
   "execution_count": null,
   "metadata": {
    "collapsed": false,
    "scrolled": true
   },
   "outputs": [],
   "source": [
    "%%R -w 750 -h 800\n",
    "#Day 88\n",
    "\n",
    "plantnmds = ordinate(maize88, \n",
    "                method = \"NMDS\", \n",
    "               distance = maize88.wunif.dist)\n",
    "\n",
    "p = plot_ordination(maize88, plantnmds, justDF = TRUE)\n",
    "\n",
    "## generating plots\n",
    "p1 = ggplot(p, aes(x = NMDS1, y = NMDS2)) +\n",
    "        geom_point(aes(fill=Plant), size = 6, pch=21) \n",
    "\n",
    "p1"
   ]
  },
  {
   "cell_type": "code",
   "execution_count": null,
   "metadata": {
    "collapsed": false,
    "scrolled": true
   },
   "outputs": [],
   "source": [
    "%%R\n",
    "df = as(sample_data(maize88), \"data.frame\")\n",
    "d = maize88.wunif.dist\n",
    "plantadonis = adonis(d ~ Plant, df, strata = df$Rep)\n",
    "plantadonis"
   ]
  },
  {
   "cell_type": "markdown",
   "metadata": {},
   "source": [
    "### maize on day"
   ]
  },
  {
   "cell_type": "code",
   "execution_count": null,
   "metadata": {
    "collapsed": false
   },
   "outputs": [],
   "source": [
    "%%R\n",
    "sample_data(plantNneg)$DAP %>% levels"
   ]
  },
  {
   "cell_type": "code",
   "execution_count": null,
   "metadata": {
    "collapsed": false
   },
   "outputs": [],
   "source": [
    "%%R\n",
    "\n",
    "plant79 = subset_samples(plantNneg, DAP == 79)\n",
    "maize79 = subset_samples(plant79, Type == \"Maize\")\n",
    "maize79\n",
    "sample_data(maize79)$Plant %>% levels"
   ]
  },
  {
   "cell_type": "code",
   "execution_count": null,
   "metadata": {
    "collapsed": true
   },
   "outputs": [],
   "source": [
    "%%R\n",
    "registerDoParallel(cores=28)\n",
    "maize79.wunif.dist = distance(maize79, \n",
    "                      method = \"unifrac\", \n",
    "                      weighted = TRUE,\n",
    "                      fast = TRUE, \n",
    "                      parallel = TRUE, \n",
    "                      normalized = FALSE)"
   ]
  },
  {
   "cell_type": "code",
   "execution_count": null,
   "metadata": {
    "collapsed": false,
    "scrolled": true
   },
   "outputs": [],
   "source": [
    "%%R -w 750 -h 800\n",
    "#Day 88\n",
    "\n",
    "plantnmds = ordinate(maize79, \n",
    "                method = \"NMDS\", \n",
    "               distance = maize79.wunif.dist)\n",
    "\n",
    "p = plot_ordination(maize79, plantnmds, justDF = TRUE)\n",
    "\n",
    "## generating plots\n",
    "p1 = ggplot(p, aes(x = NMDS1, y = NMDS2)) +\n",
    "        geom_point(aes(fill=Plant), size = 6, pch=21) \n",
    "\n",
    "p1"
   ]
  },
  {
   "cell_type": "code",
   "execution_count": null,
   "metadata": {
    "collapsed": false,
    "scrolled": false
   },
   "outputs": [],
   "source": [
    "%%R\n",
    "df = as(sample_data(maize79), \"data.frame\")\n",
    "d = maize79.wunif.dist\n",
    "plantadonis = adonis(d ~ Plant, df, strata = df$Rep)\n",
    "plantadonis"
   ]
  }
 ],
 "metadata": {
  "hide_input": true,
  "kernelspec": {
   "display_name": "Python 2",
   "language": "python",
   "name": "python2"
  },
  "language_info": {
   "codemirror_mode": {
    "name": "ipython",
    "version": 2
   },
   "file_extension": ".py",
   "mimetype": "text/x-python",
   "name": "python",
   "nbconvert_exporter": "python",
   "pygments_lexer": "ipython2",
   "version": "2.7.11"
  }
 },
 "nbformat": 4,
 "nbformat_minor": 0
}
