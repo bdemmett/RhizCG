{
 "cells": [
  {
   "cell_type": "markdown",
   "metadata": {},
   "source": [
    "#Enzyme analysis for RhizCG 2013"
   ]
  },
  {
   "cell_type": "markdown",
   "metadata": {},
   "source": [
    "##Set Variables"
   ]
  },
  {
   "cell_type": "code",
   "execution_count": 1,
   "metadata": {
    "collapsed": true
   },
   "outputs": [],
   "source": [
    "workDir = '/home/bryan/RhizCG/figures/'\n",
    "fullData = '/home/bryan/RhizCG/data/MiSeq_amplicon/PlotData.txt'"
   ]
  },
  {
   "cell_type": "markdown",
   "metadata": {},
   "source": [
    "#Init"
   ]
  },
  {
   "cell_type": "code",
   "execution_count": 2,
   "metadata": {
    "collapsed": false
   },
   "outputs": [],
   "source": [
    "%load_ext rpy2.ipython"
   ]
  },
  {
   "cell_type": "code",
   "execution_count": 3,
   "metadata": {
    "collapsed": false,
    "scrolled": true
   },
   "outputs": [
    {
     "name": "stderr",
     "output_type": "stream",
     "text": [
      "/opt/anaconda/lib/python2.7/site-packages/rpy2/robjects/functions.py:106: UserWarning: Loading required package: Matrix\n",
      "\n",
      "  res = super(Function, self).__call__(*new_args, **new_kwargs)\n",
      "/opt/anaconda/lib/python2.7/site-packages/rpy2/robjects/functions.py:106: UserWarning: \n",
      "Attaching package: ‘lmerTest’\n",
      "\n",
      "\n",
      "  res = super(Function, self).__call__(*new_args, **new_kwargs)\n",
      "/opt/anaconda/lib/python2.7/site-packages/rpy2/robjects/functions.py:106: UserWarning: The following object is masked from ‘package:lme4’:\n",
      "\n",
      "    lmer\n",
      "\n",
      "\n",
      "  res = super(Function, self).__call__(*new_args, **new_kwargs)\n",
      "/opt/anaconda/lib/python2.7/site-packages/rpy2/robjects/functions.py:106: UserWarning: The following object is masked from ‘package:stats’:\n",
      "\n",
      "    step\n",
      "\n",
      "\n",
      "  res = super(Function, self).__call__(*new_args, **new_kwargs)\n",
      "/opt/anaconda/lib/python2.7/site-packages/rpy2/robjects/functions.py:106: UserWarning: \n",
      "Attaching package: ‘dplyr’\n",
      "\n",
      "\n",
      "  res = super(Function, self).__call__(*new_args, **new_kwargs)\n",
      "/opt/anaconda/lib/python2.7/site-packages/rpy2/robjects/functions.py:106: UserWarning: The following objects are masked from ‘package:stats’:\n",
      "\n",
      "    filter, lag\n",
      "\n",
      "\n",
      "  res = super(Function, self).__call__(*new_args, **new_kwargs)\n",
      "/opt/anaconda/lib/python2.7/site-packages/rpy2/robjects/functions.py:106: UserWarning: The following objects are masked from ‘package:base’:\n",
      "\n",
      "    intersect, setdiff, setequal, union\n",
      "\n",
      "\n",
      "  res = super(Function, self).__call__(*new_args, **new_kwargs)\n",
      "/opt/anaconda/lib/python2.7/site-packages/rpy2/robjects/functions.py:106: UserWarning: Loading required package: mvtnorm\n",
      "\n",
      "  res = super(Function, self).__call__(*new_args, **new_kwargs)\n",
      "/opt/anaconda/lib/python2.7/site-packages/rpy2/robjects/functions.py:106: UserWarning: Loading required package: survival\n",
      "\n",
      "  res = super(Function, self).__call__(*new_args, **new_kwargs)\n",
      "/opt/anaconda/lib/python2.7/site-packages/rpy2/robjects/functions.py:106: UserWarning: Loading required package: TH.data\n",
      "\n",
      "  res = super(Function, self).__call__(*new_args, **new_kwargs)\n"
     ]
    }
   ],
   "source": [
    "%%R\n",
    "library(lme4)\n",
    "library(lmerTest)\n",
    "library(ggplot2)\n",
    "library(dplyr)\n",
    "library(pbkrtest)\n",
    "library(gridExtra)\n",
    "library(multcomp)"
   ]
  },
  {
   "cell_type": "markdown",
   "metadata": {},
   "source": [
    "###Read plant master table and re-work into N response tables"
   ]
  },
  {
   "cell_type": "code",
   "execution_count": 6,
   "metadata": {
    "collapsed": false
   },
   "outputs": [
    {
     "data": {
      "text/plain": [
       " [1] \"Unique\"             \"PlotID\"             \"Plant\"             \n",
       " [4] \"Plot\"               \"Treatment\"          \"Rep\"               \n",
       " [7] \"DAP\"                \"Sampling\"           \"PlantSample\"       \n",
       "[10] \"Type\"               \"Grass_Broad\"        \"Status\"            \n",
       "[13] \"Subfamily\"          \"Symbol_class\"       \"Plant_num\"         \n",
       "[16] \"Leaf_AreaBiomass_g\" \"Biomass_T\"          \"Biomass_P\"         \n",
       "[19] \"Leaf_Area_cm2\"      \"SLA\"                \"Leaf_N\"            \n",
       "[22] \"Leaf_C\"             \"LeafC_N\"            \"LNa\"               \n",
       "[25] \"Plant_N\"            \"Plant_C\"            \"Plant_CN\"          \n",
       "[28] \"d15N\"               \"tN_p\"               \"BX_act\"            \n",
       "[31] \"CB_act\"             \"LAP_act\"            \"NAG_act\"           \n",
       "[34] \"soil_dw\"            \"BX_activity_g\"      \"CB_activity_g\"     \n",
       "[37] \"LAP_activity_g\"     \"NAG_activity_g\"     \"BX_barefactor\"     \n",
       "[40] \"CB_barefactor\"      \"LAP_barefactor\"     \"NAG_barefactor\"    \n",
       "[43] \"BX_dif\"             \"CB_dif\"             \"LAP_dif\"           \n",
       "[46] \"NAG_dif\"            \"BX_rel\"             \"CB_rel\"            \n",
       "[49] \"LAP_rel\"            \"NAG_rel\"            \"NO3_ug_g\"          \n",
       "[52] \"NH4_ug_g\"           \"InorganicN\"         \"Resid_logB\"        \n",
       "[55] \"Resid_logN\"         \"Resid_logCN\"        \"Resid_logSLA\"      \n",
       "[58] \"Resid_LeafN\"       \n"
      ]
     },
     "metadata": {},
     "output_type": "display_data"
    }
   ],
   "source": [
    "%%R -i fullData -i workDir\n",
    "setwd(workDir)\n",
    "Master = read.table(fullData, header = TRUE)\n",
    "Master$Rep = as.factor(Master$Rep)\n",
    "colnames(Master)"
   ]
  },
  {
   "cell_type": "code",
   "execution_count": null,
   "metadata": {
    "collapsed": true
   },
   "outputs": [],
   "source": []
  },
  {
   "cell_type": "markdown",
   "metadata": {},
   "source": [
    "# Graph enzyme activity in bare vs rhizosphere soils"
   ]
  },
  {
   "cell_type": "code",
   "execution_count": 7,
   "metadata": {
    "collapsed": true
   },
   "outputs": [],
   "source": [
    "%%R\n",
    "e_sel = !is.na(Master$BX_dif)\n",
    "Enz = Master[e_sel,]\n"
   ]
  },
  {
   "cell_type": "code",
   "execution_count": 8,
   "metadata": {
    "collapsed": false
   },
   "outputs": [
    {
     "data": {
      "text/plain": [
       "Source: local data frame [4 x 11]\n",
       "Groups: Planted [2]\n",
       "\n",
       "      Planted Treatment     N     bx.m     bx.se     cb.m     cb.se    lap.m\n",
       "       (fctr)    (fctr) (int)    (dbl)     (dbl)    (dbl)     (dbl)    (dbl)\n",
       "1   Bare Soil      Nneg    32 15.17175 0.6498354 14.29288 0.5461105 126.6001\n",
       "2   Bare Soil      Npos    32 14.82994 0.7252128 13.78256 0.5471938 134.4734\n",
       "3 Rhizosphere      Nneg    88 22.32679 0.5840031 20.95171 0.5609904 150.1426\n",
       "4 Rhizosphere      Npos    88 24.84942 0.6868409 23.96746 0.6087010 158.9072\n",
       "Variables not shown: lap.se (dbl), nag.m (dbl), nag.se (dbl)\n"
      ]
     },
     "metadata": {},
     "output_type": "display_data"
    }
   ],
   "source": [
    "%%R\n",
    "#calculate means of Bare soil vs Planted treatments\n",
    "Enz$Planted = as.factor(ifelse(Enz$Plant == \"BARE\", \"Bare Soil\", \"Rhizosphere\"))\n",
    "\n",
    "by_treat = group_by(Enz, Planted, Treatment)\n",
    "Emeans = summarize(by_treat,\n",
    "              N = length(BX_activity_g),\n",
    "                   bx.m = mean(BX_activity_g),\n",
    "                   bx.se = sd(BX_activity_g)/sqrt(length(BX_activity_g)),\n",
    "                  cb.m = mean(CB_activity_g),\n",
    "                   cb.se = sd(CB_activity_g)/sqrt(length(CB_activity_g)),\n",
    "                  lap.m = mean(LAP_activity_g),\n",
    "                   lap.se = sd(LAP_activity_g)/sqrt(length(LAP_activity_g)),\n",
    "                    nag.m = mean(NAG_activity_g),\n",
    "                  nag.se = sd(NAG_activity_g)/sqrt(length(NAG_activity_g)))\n",
    "head(Emeans)"
   ]
  },
  {
   "cell_type": "code",
   "execution_count": 9,
   "metadata": {
    "collapsed": false,
    "scrolled": true
   },
   "outputs": [
    {
     "data": {
      "image/png": "[encoded data removed]"
     },
     "metadata": {},
     "output_type": "display_data"
    }
   ],
   "source": [
    "%%R\n",
    "\n",
    "P1 = ggplot(Emeans, aes(x = Treatment, y = bx.m, fill = Treatment)) +\n",
    "        scale_fill_manual(values = c(\"grey\",\"black\"))+\n",
    "        geom_bar(stat = \"identity\") + \n",
    "        geom_errorbar(data = Emeans, aes(y = bx.m,\n",
    "                  ymin = bx.m - bx.se, ymax = bx.m + bx.se), width = 0.4)+\n",
    "        ylab(\"nmol/g/s/hr\")+\n",
    "        ggtitle(\"BX\") +\n",
    "        theme_bw(base_size = 16)+\n",
    "        theme(axis.title.x = element_blank()) +\n",
    "        facet_grid(. ~ Planted)+\n",
    "        theme(legend.position=\"none\")\n",
    "        \n",
    "\n",
    "P2 = ggplot(Emeans, aes(x = Treatment, y = cb.m, fill = Treatment)) +\n",
    "        scale_fill_manual(values = c(\"grey\",\"black\"))+\n",
    "        geom_bar(stat = \"identity\") + \n",
    "        geom_errorbar(data = Emeans, aes(y = cb.m,\n",
    "                  ymin = cb.m - cb.se, ymax = cb.m + cb.se), width = 0.4)+\n",
    "        ylab(\"nmol/g/s/hr\")+\n",
    "        ggtitle(\"CB\") +\n",
    "        theme_bw(base_size = 16)+\n",
    "        theme(axis.title.x = element_blank()) +\n",
    "        facet_grid(. ~ Planted)+\n",
    "        theme(legend.position=\"none\")\n",
    "\n",
    "P3 = ggplot(Emeans, aes(x = Treatment, y = lap.m, fill = Treatment)) +\n",
    "        scale_fill_manual(values = c(\"grey\",\"black\"))+\n",
    "        geom_bar(stat = \"identity\") + \n",
    "        geom_errorbar(data = Emeans, aes(y = lap.m,\n",
    "                  ymin = lap.m - lap.se, ymax = lap.m + lap.se),\n",
    "                   colour = 'black', width = 0.4) +\n",
    "        theme(axis.title.x = element_blank()) +\n",
    "        ylab(\"nmol/g/s/hr\")+\n",
    "        ggtitle(\"LAP\") +\n",
    "        theme_bw(base_size = 16)+\n",
    "        theme(axis.title.x = element_blank()) +\n",
    "        facet_grid(. ~ Planted)+\n",
    "        theme(legend.position=\"none\")\n",
    "\n",
    "P4 = ggplot(Emeans, aes(x = Treatment, y = nag.m, fill = Treatment))  +\n",
    "        scale_fill_manual(values = c(\"grey\",\"black\"))+\n",
    "        geom_bar(stat = \"identity\") + \n",
    "        geom_errorbar(data = Emeans, aes(y = nag.m,\n",
    "                  ymin = nag.m - nag.se, ymax = nag.m + nag.se),\n",
    "                   colour = 'black', width = 0.4) +\n",
    "        theme(axis.title.x = element_blank())+ \n",
    "        ylab(\"nmol/g/s/hr\") +\n",
    "        ggtitle(\"NAG\") +\n",
    "        theme_bw(base_size = 16)+\n",
    "        theme(axis.title.x = element_blank()) +\n",
    "        facet_grid(. ~ Planted)+\n",
    "        theme(legend.position=\"none\")\n",
    "\n",
    "\n",
    "#print to file\n",
    "#pdf(file = \"enzyme_rhizosphere_xTreatment.pdf\")\n",
    "grid.arrange(P1, P2, P3, P4, ncol = 2)\n",
    "#dev.off"
   ]
  },
  {
   "cell_type": "markdown",
   "metadata": {},
   "source": [
    "## Model"
   ]
  },
  {
   "cell_type": "markdown",
   "metadata": {},
   "source": [
    "Notes: Rep has small random effect for BX, CB and NAG once nested Rep:Plant term is added.  However, REP contains considerable informatiomn for LAP.  Also possible to use Plot variable as random effect to avoid confusion. \n",
    "\n",
    "Residuals checked.  With exception of few outliers of predicted values residuals are normally and evenly distributed.   "
   ]
  },
  {
   "cell_type": "code",
   "execution_count": 10,
   "metadata": {
    "collapsed": false
   },
   "outputs": [
    {
     "data": {
      "text/plain": [
       "Analysis of Variance Table of type III  with  Kenward-Roger \n",
       "approximation for degrees of freedom\n",
       "                   Sum Sq Mean Sq NumDF  DenDF F.value    Pr(>F)    \n",
       "Planted           224.464 224.464     1  48.65 15.0614 0.0003131 ***\n",
       "Treatment          55.804  55.804     1 146.33  3.7444 0.0549135 .  \n",
       "Planted:Treatment  96.272  96.272     1 146.33  6.4598 0.0120753 *  \n",
       "---\n",
       "Signif. codes:  0 ‘***’ 0.001 ‘**’ 0.01 ‘*’ 0.05 ‘.’ 0.1 ‘ ’ 1\n",
       "Analysis of Variance Table of type III  with  Kenward-Roger \n",
       "approximation for degrees of freedom\n",
       "             Sum Sq Mean Sq NumDF  DenDF F.value    Pr(>F)    \n",
       "PlantedTreat 502.07  167.36     3 137.82  11.229 1.225e-06 ***\n",
       "---\n",
       "Signif. codes:  0 ‘***’ 0.001 ‘**’ 0.01 ‘*’ 0.05 ‘.’ 0.1 ‘ ’ 1\n"
      ]
     },
     "metadata": {},
     "output_type": "display_data"
    },
    {
     "data": {
      "image/png": "[encoded data removed]"
     },
     "metadata": {},
     "output_type": "display_data"
    },
    {
     "data": {
      "image/png": "[encoded data removed]"
     },
     "metadata": {},
     "output_type": "display_data"
    }
   ],
   "source": [
    "%%R\n",
    "\n",
    "Enz$PlantedTreat = paste(Enz$Planted, Enz$Treatment, sep = \"-\")\n",
    "m = lmer(BX_activity_g ~ Planted + Treatment + Planted:Treatment + (1|Rep) + (1|Rep:Plant), \n",
    "          data = Enz)\n",
    "         #summary(m1) %>% print\n",
    "         anova(m, ddf=\"Kenward-Roger\", type=3) %>% print\n",
    "m1 = lmer(BX_activity_g ~ PlantedTreat + (1|Rep) + (1|Rep:Plant), \n",
    "          data = Enz)\n",
    "         #summary(m1) %>% print\n",
    "         anova(m1, ddf=\"Kenward-Roger\", type=3) %>% print\n",
    "        m1.lsm = lsmeans(m1)\n",
    "        m1.glht = glht(m1, linfct = mcp(PlantedTreat = \"Tukey\"))\n",
    "        summary(m1.glht)\n",
    "m1.cld = cld(m1.glht, level = 0.05)\n",
    "old.par <- par(mai=c(1,1,1.5,1), no.readonly = TRUE)\n",
    "plot(m1.cld)\n",
    "        \n",
    "\n",
    "plot(m)"
   ]
  },
  {
   "cell_type": "code",
   "execution_count": null,
   "metadata": {
    "collapsed": false
   },
   "outputs": [],
   "source": [
    "%%R\n",
    "\n",
    "Enz$PlantedTreat = paste(Enz$Planted, Enz$Treatment, sep = \"-\")\n",
    "m = lmer(CB_activity_g ~ Planted + Treatment + Planted:Treatment + (1|Rep) + (1|Rep:Plant), \n",
    "          data = Enz)\n",
    "         #summary(m1) %>% print\n",
    "         anova(m, ddf=\"Kenward-Roger\", type=3) %>% print\n",
    "m1 = lmer(CB_activity_g ~ PlantedTreat + (1|Rep) + (1|Rep:Plant), \n",
    "          data = Enz)\n",
    "         #summary(m1) %>% print\n",
    "         anova(m1, ddf=\"Kenward-Roger\", type=3) %>% print\n",
    "        m1.lsm = lsmeans(m1)\n",
    "        m1.glht = glht(m1, linfct = mcp(PlantedTreat = \"Tukey\"))\n",
    "        summary(m1.glht)\n",
    "# m1.cld = cld(m1.glht, level = 0.05)\n",
    "# old.par <- par(mai=c(1,1,1.5,1), no.readonly = TRUE)\n",
    "# plot(m1.cld)\n",
    "plot(m)"
   ]
  },
  {
   "cell_type": "code",
   "execution_count": null,
   "metadata": {
    "collapsed": false
   },
   "outputs": [],
   "source": [
    "%%R\n",
    "\n",
    "Enz$PlantedTreat = paste(Enz$Planted, Enz$Treatment, sep = \"-\")\n",
    "m = lmer(LAP_activity_g ~ Planted + Treatment + Planted:Treatment + (1|Rep) + (1|Rep:Plant), \n",
    "          data = Enz)\n",
    "         #summary(m1) %>% print\n",
    "         anova(m, ddf=\"Kenward-Roger\", type=3) %>% print\n",
    "m1 = lmer(LAP_activity_g ~ PlantedTreat + (1|Rep) + (1|Rep:Plant), \n",
    "          data = Enz)\n",
    "         #summary(m1) %>% print\n",
    "         anova(m1, ddf=\"Kenward-Roger\", type=3) %>% print\n",
    "        m1.lsm = lsmeans(m1)\n",
    "        m1.glht = glht(m1, linfct = mcp(PlantedTreat = \"Tukey\"))\n",
    "       # summary(m1.glht)\n",
    "m1.cld = cld(m1.glht, level = 0.05)\n",
    "old.par <- par(mai=c(1,1,1.5,1), no.readonly = TRUE)\n",
    "plot(m1.cld)\n",
    "plot(m)"
   ]
  },
  {
   "cell_type": "code",
   "execution_count": null,
   "metadata": {
    "collapsed": false
   },
   "outputs": [],
   "source": [
    "%%R\n",
    "\n",
    "Enz$PlantedTreat = paste(Enz$Planted, Enz$Treatment, sep = \"-\")\n",
    "m = lmer(NAG_activity_g ~ Planted + Treatment + Planted:Treatment + (1|Rep) + (1|Rep:Plant), \n",
    "          data = Enz)\n",
    "         #summary(m1) %>% print\n",
    "         anova(m, ddf=\"Kenward-Roger\", type=3) %>% print\n",
    "m1 = lmer(NAG_activity_g ~ PlantedTreat + (1|Rep) + (1|Rep:Plant), \n",
    "          data = Enz)\n",
    "         #summary(m1) %>% print\n",
    "         anova(m1, ddf=\"Kenward-Roger\", type=3) %>% print\n",
    "        m1.lsm = lsmeans(m1)\n",
    "        m1.glht = glht(m1, linfct = mcp(PlantedTreat = \"Tukey\"))\n",
    "        summary(m1.glht)\n",
    "# m1.cld = cld(m1.glht, level = 0.05)\n",
    "# old.par <- par(mai=c(1,1,1.5,1), no.readonly = TRUE)\n",
    "# plot(m1.cld)\n",
    "plot(m)"
   ]
  },
  {
   "cell_type": "markdown",
   "metadata": {},
   "source": [
    "# Model rhizosphere effect"
   ]
  },
  {
   "cell_type": "markdown",
   "metadata": {},
   "source": [
    "## First with just treatment effects"
   ]
  },
  {
   "cell_type": "code",
   "execution_count": 11,
   "metadata": {
    "collapsed": false
   },
   "outputs": [],
   "source": [
    "%%R\n",
    "PlantEnz = Enz[Enz$Planted == \"Rhizosphere\",]\n",
    "PlantEnz$Rep = as.factor(PlantEnz$Rep)"
   ]
  },
  {
   "cell_type": "code",
   "execution_count": null,
   "metadata": {
    "collapsed": false
   },
   "outputs": [],
   "source": [
    "%%R\n",
    "m = lmer(log(BX_rel) ~ Plant + Treatment + Plant:Treatment + (1|Rep) + (1|Rep:Plant), \n",
    "          data = PlantEnz)\n",
    "         summary(m) %>% print\n",
    "         anova(m, ddf=\"Kenward-Roger\", type=3) %>% print\n",
    "\n",
    "        \n",
    "\n",
    "plot(m)"
   ]
  },
  {
   "cell_type": "code",
   "execution_count": 14,
   "metadata": {
    "collapsed": false
   },
   "outputs": [
    {
     "name": "stderr",
     "output_type": "stream",
     "text": [
      "/opt/anaconda/lib/python2.7/site-packages/rpy2/robjects/functions.py:106: UserWarning: \n",
      "Correlation matrix not shown by default, as p = 44 > 20.\n",
      "Use print(object, correlation=TRUE)  or\n",
      "\t vcov(object)\t if you need it\n",
      "\n",
      "\n",
      "  res = super(Function, self).__call__(*new_args, **new_kwargs)\n"
     ]
    },
    {
     "data": {
      "text/plain": [
       "Analysis of Variance Table of type III  with  Kenward-Roger \n",
       "approximation for degrees of freedom\n",
       "                Sum Sq Mean Sq NumDF DenDF F.value    Pr(>F)    \n",
       "Plant           1.3678 0.06513    21    63   1.839   0.03317 *  \n",
       "Treatment       1.4702 1.47019     1    66  41.506 1.568e-08 ***\n",
       "Plant:Treatment 1.1692 0.05567    21    66   1.572   0.08443 .  \n",
       "---\n",
       "Signif. codes:  0 ‘***’ 0.001 ‘**’ 0.01 ‘*’ 0.05 ‘.’ 0.1 ‘ ’ 1\n",
       "Linear mixed model fit by REML t-tests use Satterthwaite approximations to\n",
       "  degrees of freedom [lmerMod]\n",
       "Formula: log(CB_rel) ~ Plant + Treatment + Plant:Treatment + (1 | Rep) +  \n",
       "    (1 | Rep:Plant)\n",
       "   Data: PlantEnz\n",
       "\n",
       "REML criterion at convergence: 12.6\n",
       "\n",
       "Scaled residuals: \n",
       "     Min       1Q   Median       3Q      Max \n",
       "-2.15376 -0.55095  0.04641  0.57986  1.99759 \n",
       "\n",
       "Random effects:\n",
       " Groups    Name        Variance Std.Dev.\n",
       " Rep:Plant (Intercept) 0.004792 0.06922 \n",
       " Rep       (Intercept) 0.001072 0.03275 \n",
       " Residual              0.035421 0.18821 \n",
       "Number of obs: 176, groups:  Rep:Plant, 88; Rep, 4\n",
       "\n",
       "Fixed effects:\n",
       "                            Estimate Std. Error         df t value Pr(>|t|)    \n",
       "(Intercept)                 0.348629   0.101594 125.890000   3.432 0.000812 ***\n",
       "PlantABUTH                  0.008039   0.141797 126.430000   0.057 0.954878    \n",
       "PlantAMAPO                  0.167686   0.141797 126.430000   1.183 0.239198    \n",
       "PlantB73                   -0.220182   0.141797 126.430000  -1.553 0.122972    \n",
       "PlantB97                   -0.025351   0.141797 126.430000  -0.179 0.858394    \n",
       "PlantECHCG                  0.081727   0.141797 126.430000   0.576 0.565391    \n",
       "PlantELCOR                 -0.025662   0.141797 126.430000  -0.181 0.856674    \n",
       "PlantERATE                 -0.051641   0.141797 126.430000  -0.364 0.716328    \n",
       "PlantFAGES                 -0.021069   0.141797 126.430000  -0.149 0.882116    \n",
       "PlantGLYMA                  0.204595   0.141797 126.430000   1.443 0.151530    \n",
       "PlantH99                    0.066407   0.141797 126.430000   0.468 0.640359    \n",
       "PlantHELAN                  0.200699   0.141797 126.430000   1.415 0.159411    \n",
       "PlantHp301                 -0.075712   0.141797 126.430000  -0.534 0.594317    \n",
       "PlantIl14H                 -0.089951   0.141797 126.430000  -0.634 0.526992    \n",
       "PlantKi3                    0.066216   0.141797 126.430000   0.467 0.641322    \n",
       "PlantMo18                   0.072257   0.141797 126.430000   0.510 0.611234    \n",
       "PlantMS71                  -0.184292   0.141797 126.430000  -1.300 0.196073    \n",
       "PlantOh7B                  -0.058137   0.141797 126.430000  -0.410 0.682502    \n",
       "PlantSETFA                  0.368173   0.141797 126.430000   2.596 0.010534 *  \n",
       "PlantSORBI                  0.158702   0.141797 126.430000   1.119 0.265169    \n",
       "PlantSORSUD                 0.345934   0.141797 126.430000   2.440 0.016089 *  \n",
       "PlantTx303                  0.244247   0.141797 126.430000   1.723 0.087423 .  \n",
       "TreatmentNpos               0.289376   0.133082  66.000000   2.174 0.033263 *  \n",
       "PlantABUTH:TreatmentNpos    0.219541   0.188206  66.000000   1.166 0.247612    \n",
       "PlantAMAPO:TreatmentNpos   -0.285919   0.188206  66.000000  -1.519 0.133492    \n",
       "PlantB73:TreatmentNpos     -0.007319   0.188206  66.000000  -0.039 0.969098    \n",
       "PlantB97:TreatmentNpos     -0.111623   0.188206  66.000000  -0.593 0.555148    \n",
       "PlantECHCG:TreatmentNpos   -0.060988   0.188206  66.000000  -0.324 0.746924    \n",
       "PlantELCOR:TreatmentNpos   -0.094036   0.188206  66.000000  -0.500 0.618986    \n",
       "PlantERATE:TreatmentNpos    0.020219   0.188206  66.000000   0.107 0.914773    \n",
       "PlantFAGES:TreatmentNpos   -0.010467   0.188206  66.000000  -0.056 0.955817    \n",
       "PlantGLYMA:TreatmentNpos   -0.220464   0.188206  66.000000  -1.171 0.245651    \n",
       "PlantH99:TreatmentNpos     -0.136393   0.188206  66.000000  -0.725 0.471197    \n",
       "PlantHELAN:TreatmentNpos   -0.398097   0.188206  66.000000  -2.115 0.038190 *  \n",
       "PlantHp301:TreatmentNpos   -0.052070   0.188206  66.000000  -0.277 0.782901    \n",
       "PlantIl14H:TreatmentNpos    0.127649   0.188206  66.000000   0.678 0.499990    \n",
       "PlantKi3:TreatmentNpos     -0.084324   0.188206  66.000000  -0.448 0.655592    \n",
       "PlantMo18:TreatmentNpos    -0.226700   0.188206  66.000000  -1.205 0.232687    \n",
       "PlantMS71:TreatmentNpos     0.119218   0.188206  66.000000   0.633 0.528634    \n",
       "PlantOh7B:TreatmentNpos     0.003218   0.188206  66.000000   0.017 0.986411    \n",
       "PlantSETFA:TreatmentNpos   -0.234969   0.188206  66.000000  -1.248 0.216271    \n",
       "PlantSORBI:TreatmentNpos   -0.217221   0.188206  66.000000  -1.154 0.252594    \n",
       "PlantSORSUD:TreatmentNpos  -0.442611   0.188206  66.000000  -2.352 0.021680 *  \n",
       "PlantTx303:TreatmentNpos   -0.251457   0.188206  66.000000  -1.336 0.186113    \n",
       "---\n",
       "Signif. codes:  0 ‘***’ 0.001 ‘**’ 0.01 ‘*’ 0.05 ‘.’ 0.1 ‘ ’ 1\n"
      ]
     },
     "metadata": {},
     "output_type": "display_data"
    }
   ],
   "source": [
    "%%R\n",
    "m = lmer(log(CB_rel) ~ Plant + Treatment + Plant:Treatment + (1|Rep) + (1|Rep:Plant), \n",
    "          data = PlantEnz)\n",
    "         #summary(m1) %>% print\n",
    "         anova(m, ddf=\"Kenward-Roger\", type=3) %>% print\n",
    "        summary(m)\n",
    "\n",
    "        \n",
    "\n",
    "#plot(m)"
   ]
  },
  {
   "cell_type": "code",
   "execution_count": 16,
   "metadata": {
    "collapsed": false
   },
   "outputs": [
    {
     "data": {
      "text/plain": [
       "Analysis of Variance Table of type III  with  Kenward-Roger \n",
       "approximation for degrees of freedom\n",
       "                 Sum Sq   Mean Sq NumDF DenDF F.value   Pr(>F)   \n",
       "Plant           0.57822 0.0275343    21    63 2.24072 0.007318 **\n",
       "Treatment       0.00012 0.0001216     1    66 0.00989 0.921073   \n",
       "Plant:Treatment 0.49337 0.0234936    21    66 1.91189 0.024337 * \n",
       "---\n",
       "Signif. codes:  0 ‘***’ 0.001 ‘**’ 0.01 ‘*’ 0.05 ‘.’ 0.1 ‘ ’ 1\n",
       "Linear mixed model fit by REML t-tests use Satterthwaite approximations to\n",
       "  degrees of freedom [lmerMod]\n",
       "Formula: log(LAP_rel) ~ Plant + Treatment + Plant:Treatment + (1 | Rep) +  \n",
       "    (1 | Rep:Plant)\n",
       "   Data: PlantEnz\n",
       "\n",
       "REML criterion at convergence: -91.3\n",
       "\n",
       "Scaled residuals: \n",
       "     Min       1Q   Median       3Q      Max \n",
       "-2.28360 -0.47513  0.03022  0.45275  2.36834 \n",
       "\n",
       "Random effects:\n",
       " Groups    Name        Variance Std.Dev.\n",
       " Rep:Plant (Intercept) 0.00673  0.08203 \n",
       " Rep       (Intercept) 0.00251  0.05010 \n",
       " Residual              0.01229  0.11085 \n",
       "Number of obs: 176, groups:  Rep:Plant, 88; Rep, 4\n",
       "\n",
       "Fixed effects:\n",
       "                            Estimate Std. Error         df t value Pr(>|t|)   \n",
       "(Intercept)                1.632e-01  7.336e-02  7.521e+01   2.224  0.02913 * \n",
       "PlantABUTH                -1.363e-01  9.751e-02  1.129e+02  -1.398  0.16487   \n",
       "PlantAMAPO                 4.337e-03  9.751e-02  1.129e+02   0.044  0.96460   \n",
       "PlantB73                  -1.181e-01  9.751e-02  1.129e+02  -1.211  0.22826   \n",
       "PlantB97                  -2.744e-01  9.751e-02  1.129e+02  -2.814  0.00577 **\n",
       "PlantECHCG                -1.243e-01  9.751e-02  1.129e+02  -1.274  0.20518   \n",
       "PlantELCOR                -1.896e-03  9.751e-02  1.129e+02  -0.019  0.98452   \n",
       "PlantERATE                -6.660e-03  9.751e-02  1.129e+02  -0.068  0.94567   \n",
       "PlantFAGES                 1.204e-01  9.751e-02  1.129e+02   1.235  0.21933   \n",
       "PlantGLYMA                -2.569e-02  9.751e-02  1.129e+02  -0.263  0.79270   \n",
       "PlantH99                  -1.983e-02  9.751e-02  1.129e+02  -0.203  0.83924   \n",
       "PlantHELAN                 1.316e-01  9.751e-02  1.129e+02   1.349  0.17997   \n",
       "PlantHp301                 1.643e-03  9.751e-02  1.129e+02   0.017  0.98659   \n",
       "PlantIl14H                -1.461e-01  9.751e-02  1.129e+02  -1.498  0.13689   \n",
       "PlantKi3                   1.141e-01  9.751e-02  1.129e+02   1.170  0.24443   \n",
       "PlantMo18                  4.783e-04  9.751e-02  1.129e+02   0.005  0.99609   \n",
       "PlantMS71                 -1.727e-01  9.751e-02  1.129e+02  -1.771  0.07926 . \n",
       "PlantOh7B                 -6.596e-03  9.751e-02  1.129e+02  -0.068  0.94619   \n",
       "PlantSETFA                 2.178e-02  9.751e-02  1.129e+02   0.223  0.82370   \n",
       "PlantSORBI                 1.751e-02  9.751e-02  1.129e+02   0.180  0.85782   \n",
       "PlantSORSUD                1.163e-01  9.751e-02  1.129e+02   1.193  0.23534   \n",
       "PlantTx303                 1.035e-01  9.751e-02  1.129e+02   1.062  0.29069   \n",
       "TreatmentNpos              4.345e-02  7.838e-02  6.600e+01   0.554  0.58124   \n",
       "PlantABUTH:TreatmentNpos   2.052e-01  1.109e-01  6.600e+01   1.851  0.06858 . \n",
       "PlantAMAPO:TreatmentNpos  -2.415e-02  1.109e-01  6.600e+01  -0.218  0.82823   \n",
       "PlantB73:TreatmentNpos    -9.558e-02  1.109e-01  6.600e+01  -0.862  0.39170   \n",
       "PlantB97:TreatmentNpos     1.349e-01  1.109e-01  6.600e+01   1.217  0.22789   \n",
       "PlantECHCG:TreatmentNpos   1.083e-02  1.109e-01  6.600e+01   0.098  0.92246   \n",
       "PlantELCOR:TreatmentNpos  -8.972e-02  1.109e-01  6.600e+01  -0.809  0.42119   \n",
       "PlantERATE:TreatmentNpos  -4.248e-02  1.109e-01  6.600e+01  -0.383  0.70279   \n",
       "PlantFAGES:TreatmentNpos   5.843e-02  1.109e-01  6.600e+01   0.527  0.59991   \n",
       "PlantGLYMA:TreatmentNpos   1.322e-01  1.109e-01  6.600e+01   1.193  0.23731   \n",
       "PlantH99:TreatmentNpos    -4.759e-02  1.109e-01  6.600e+01  -0.429  0.66908   \n",
       "PlantHELAN:TreatmentNpos  -1.787e-01  1.109e-01  6.600e+01  -1.612  0.11168   \n",
       "PlantHp301:TreatmentNpos  -1.048e-01  1.109e-01  6.600e+01  -0.945  0.34798   \n",
       "PlantIl14H:TreatmentNpos   7.397e-02  1.109e-01  6.600e+01   0.667  0.50691   \n",
       "PlantKi3:TreatmentNpos    -1.246e-01  1.109e-01  6.600e+01  -1.124  0.26521   \n",
       "PlantMo18:TreatmentNpos   -1.784e-01  1.109e-01  6.600e+01  -1.610  0.11222   \n",
       "PlantMS71:TreatmentNpos   -4.050e-02  1.109e-01  6.600e+01  -0.365  0.71603   \n",
       "PlantOh7B:TreatmentNpos   -7.728e-02  1.109e-01  6.600e+01  -0.697  0.48817   \n",
       "PlantSETFA:TreatmentNpos  -1.222e-01  1.109e-01  6.600e+01  -1.102  0.27447   \n",
       "PlantSORBI:TreatmentNpos  -7.500e-02  1.109e-01  6.600e+01  -0.677  0.50105   \n",
       "PlantSORSUD:TreatmentNpos -1.333e-01  1.109e-01  6.600e+01  -1.203  0.23330   \n",
       "PlantTx303:TreatmentNpos  -2.006e-01  1.109e-01  6.600e+01  -1.809  0.07493 . \n",
       "---\n",
       "Signif. codes:  0 ‘***’ 0.001 ‘**’ 0.01 ‘*’ 0.05 ‘.’ 0.1 ‘ ’ 1\n"
      ]
     },
     "metadata": {},
     "output_type": "display_data"
    }
   ],
   "source": [
    "%%R\n",
    "m = lmer(log(LAP_rel) ~ Plant + Treatment + Plant:Treatment + (1|Rep) + (1|Rep:Plant), \n",
    "          data = PlantEnz)\n",
    "         #summary(m1) %>% print\n",
    "         anova(m, ddf=\"Kenward-Roger\", type=3) %>% print\n",
    "            summary(m)\n",
    "        \n",
    "\n"
   ]
  },
  {
   "cell_type": "code",
   "execution_count": null,
   "metadata": {
    "collapsed": false
   },
   "outputs": [],
   "source": [
    "%%R\n",
    "m = lmer(log(NAG_rel) ~ Plant + Treatment + Plant:Treatment + (1|Rep) + (1|Rep:Plant), \n",
    "          data = PlantEnz)\n",
    "         #summary(m1) %>% print\n",
    "         anova(m, ddf=\"Kenward-Roger\", type=3) %>% print\n",
    "\n",
    "        \n",
    "\n",
    "plot(m)"
   ]
  },
  {
   "cell_type": "code",
   "execution_count": 23,
   "metadata": {
    "collapsed": false
   },
   "outputs": [
    {
     "data": {
      "text/plain": [
       "Source: local data frame [6 x 11]\n",
       "Groups: Plant [3]\n",
       "\n",
       "   Plant Treatment     N     bx.m     bx.se     cb.m     cb.se    lap.m\n",
       "  (fctr)    (fctr) (int)    (dbl)     (dbl)    (dbl)     (dbl)    (dbl)\n",
       "1 75-062      Nneg     4 1.410555 0.2355612 1.491043 0.2796418 1.208871\n",
       "2 75-062      Npos     4 1.731261 0.1529143 1.919034 0.1769265 1.236364\n",
       "3  ABUTH      Nneg     4 1.591899 0.1777430 1.451152 0.1416835 1.043602\n",
       "4  ABUTH      Npos     4 2.632162 0.3406024 2.419472 0.2616576 1.332508\n",
       "5  AMAPO      Nneg     4 1.785122 0.2641789 1.718336 0.2163452 1.190163\n",
       "6  AMAPO      Npos     4 1.722847 0.1405241 1.699689 0.1462254 1.211164\n",
       "Variables not shown: lap.se (dbl), nag.m (dbl), nag.se (dbl)\n"
      ]
     },
     "metadata": {},
     "output_type": "display_data"
    }
   ],
   "source": [
    "%%R\n",
    "by_treat = group_by(PlantEnz, Plant, Treatment)\n",
    "Emeans = summarize(by_treat,\n",
    "              N = length(BX_rel),\n",
    "                   bx.m = mean(BX_rel),\n",
    "                   bx.se = sd(BX_rel)/sqrt(length(BX_rel)),\n",
    "                  cb.m = mean(CB_rel),\n",
    "                   cb.se = sd(CB_rel)/sqrt(length(CB_rel)),\n",
    "                  lap.m = mean(LAP_rel),\n",
    "                   lap.se = sd(LAP_rel)/sqrt(length(LAP_rel)),\n",
    "                    nag.m = mean(NAG_rel),\n",
    "                  nag.se = sd(NAG_rel)/sqrt(length(NAG_rel)))\n",
    "head(Emeans)"
   ]
  },
  {
   "cell_type": "code",
   "execution_count": 46,
   "metadata": {
    "collapsed": false
   },
   "outputs": [
    {
     "data": {
      "text/plain": [
       "png \n",
       "  2 \n"
      ]
     },
     "metadata": {},
     "output_type": "display_data"
    },
    {
     "data": {
      "image/png": "[encoded data removed]"
     },
     "metadata": {},
     "output_type": "display_data"
    }
   ],
   "source": [
    "%%R -w 800 -h 600\n",
    "P1 = ggplot(Emeans, aes(x = Plant, y = cb.m, fill = Treatment)) +\n",
    "        geom_point(pch = 21, size = 3) + \n",
    "        geom_errorbar(data = Emeans, aes(y = cb.m,\n",
    "                  ymin = cb.m - cb.se, ymax = cb.m + cb.se), width = 0.4)+\n",
    "        scale_fill_manual(values = c(\"grey\",\"black\")) +\n",
    "        ylab(\"Rhizosphere Effect\")+\n",
    "        ggtitle(\"CB\") +\n",
    "        theme_bw(base_size = 16)+\n",
    "        theme(axis.title.x = element_blank()) +\n",
    "        theme(legend.position=\"none\") +\n",
    "        theme(axis.text.x  = element_blank())\n",
    "P2 = ggplot(Emeans, aes(x = Plant, y = lap.m, fill = Treatment)) +\n",
    "        geom_point(pch = 21, size = 3) + \n",
    "        geom_errorbar(data = Emeans, aes(y = lap.m,\n",
    "                  ymin = lap.m - lap.se, ymax = lap.m + lap.se), width = 0.4)+\n",
    "        scale_fill_manual(values = c(\"grey\",\"black\")) +\n",
    "        ylab(\"Rhizosphere Effect\")+\n",
    "        ggtitle(\"LAP\") +\n",
    "        theme_bw(base_size = 16)+\n",
    "        theme(axis.title.x = element_blank()) +\n",
    "        theme(legend.position=\"none\") +\n",
    "        theme(axis.text.x  = element_text(angle=45, vjust=0.5, size=16))\n",
    "\n",
    "P = grid.arrange(P1, P2, ncol = 1)\n",
    "\n",
    "pdf(file = \"/home/bryan/RhizCG/figures/enzymes_plant.pdf\", width = 10, height = 8)\n",
    "grid.arrange(P1, P2, ncol = 1)\n",
    "dev.off()"
   ]
  },
  {
   "cell_type": "code",
   "execution_count": null,
   "metadata": {
    "collapsed": false
   },
   "outputs": [],
   "source": [
    "%%R\n",
    "\n",
    "P1 = ggplot(Emeans, aes(x = Treatment, y = bx.m, fill = Treatment)) +\n",
    "        scale_fill_manual(values = c(\"grey\",\"black\"))+\n",
    "        geom_point(fill = Treatment) + \n",
    "        geom_errorbar(data = Emeans, aes(y = bx.m,\n",
    "                  ymin = bx.m - bx.se, ymax = bx.m + bx.se), width = 0.4)+\n",
    "        ylab(\"Rhizosphere Effect\")+\n",
    "        ggtitle(\"BX\") +\n",
    "        theme_bw()+\n",
    "        theme(axis.title.x = element_blank()) +\n",
    "        theme(legend.position=\"none\")\n",
    "        \n",
    "\n",
    "P2 = ggplot(Emeans, aes(x = Treatment, y = cb.m, fill = Treatment)) +\n",
    "        scale_fill_manual(values = c(\"grey\",\"black\"))+\n",
    "        geom_bar(stat = \"identity\") + \n",
    "        geom_errorbar(data = Emeans, aes(y = cb.m,\n",
    "                  ymin = cb.m - cb.se, ymax = cb.m + cb.se), width = 0.4)+\n",
    "        ylab(\"Rhizosphere Effect\")+\n",
    "        ggtitle(\"CB\") +\n",
    "        theme_bw()+\n",
    "        theme(axis.title.x = element_blank()) +\n",
    "        theme(legend.position=\"none\")\n",
    "\n",
    "P3 = ggplot(Emeans, aes(x = Treatment, y = lap.m, fill = Treatment)) +\n",
    "        scale_fill_manual(values = c(\"grey\",\"black\"))+\n",
    "        geom_bar(stat = \"identity\") + \n",
    "        geom_errorbar(data = Emeans, aes(y = lap.m,\n",
    "                  ymin = lap.m - lap.se, ymax = lap.m + lap.se),\n",
    "                   colour = 'black', width = 0.4) +\n",
    "        theme(axis.title.x = element_blank()) +\n",
    "        ylab(\"Rhizosphere Effect\")+\n",
    "        ggtitle(\"LAP\") +\n",
    "        theme_bw()+\n",
    "        theme(axis.title.x = element_blank()) +\n",
    "        theme(legend.position=\"none\")\n",
    "\n",
    "P4 = ggplot(Emeans, aes(x = Treatment, y = nag.m, fill = Treatment))  +\n",
    "        scale_fill_manual(values = c(\"grey\",\"black\"))+\n",
    "        geom_bar(stat = \"identity\") + \n",
    "        geom_errorbar(data = Emeans, aes(y = nag.m,\n",
    "                  ymin = nag.m - nag.se, ymax = nag.m + nag.se),\n",
    "                   colour = 'black', width = 0.4) +\n",
    "        theme(axis.title.x = element_blank())+ \n",
    "        ylab(\"Rhizosphere Effect\") +\n",
    "        ggtitle(\"NAG\") +\n",
    "        theme_bw()+\n",
    "        theme(axis.title.x = element_blank()) +\n",
    "        theme(legend.position=\"none\")\n",
    "\n",
    "\n",
    "#print to file\n",
    "#pdf(file = \"enzyme_rhizosphere_xTreatment.pdf\")\n",
    "grid.arrange(P1, P2, P3, P4, ncol = 2)\n",
    "#dev.off"
   ]
  },
  {
   "cell_type": "markdown",
   "metadata": {},
   "source": [
    "## Is N treatment effect due to fertilizer effects on plant growth or releiving N limitation in the rhizosphere"
   ]
  },
  {
   "cell_type": "code",
   "execution_count": null,
   "metadata": {
    "collapsed": false
   },
   "outputs": [],
   "source": [
    "%%R\n",
    "m = lmer(log(BX_activity_g) ~ Resid_logN + InorganicN + (1|Rep) + (1|Rep:Plant), \n",
    "          data = PlantEnz)\n",
    "         #summary(m1) %>% print\n",
    "         anova(m, ddf=\"Kenward-Roger\", type=3) %>% print\n",
    "\n",
    "        \n",
    "\n",
    "plot(m)"
   ]
  },
  {
   "cell_type": "code",
   "execution_count": null,
   "metadata": {
    "collapsed": false
   },
   "outputs": [],
   "source": [
    "%%R\n",
    "m = lmer(CB_rel ~ Treatment + Resid_logN +  InorganicN + (1|Rep) + (1|Rep:Plant), \n",
    "          data = PlantEnz)\n",
    "         #summary(m1) %>% print\n",
    "         anova(m, ddf=\"Kenward-Roger\", type=3) %>% print\n",
    "\n",
    "        \n",
    "\n",
    "plot(m)"
   ]
  },
  {
   "cell_type": "code",
   "execution_count": null,
   "metadata": {
    "collapsed": false
   },
   "outputs": [],
   "source": [
    "%%R\n",
    "m = lmer(LAP_activity_g ~ Treatment + Resid_logN + InorganicN + (1|Rep) + (1|Rep:Plant), \n",
    "          data = PlantEnz)\n",
    "         #summary(m1) %>% print\n",
    "         anova(m, ddf=\"Kenward-Roger\", type=3) %>% print\n",
    "\n",
    "        \n",
    "\n",
    "plot(m)"
   ]
  },
  {
   "cell_type": "code",
   "execution_count": null,
   "metadata": {
    "collapsed": false
   },
   "outputs": [],
   "source": [
    "%%R\n",
    "m = lmer(NAG_rel ~ InorganicN + (1|Rep) + (1|Rep:Plant), \n",
    "          data = PlantEnz)\n",
    "         #summary(m1) %>% print\n",
    "         anova(m, ddf=\"Kenward-Roger\", type=3) %>% print\n",
    "\n",
    "        \n",
    "\n",
    "plot(m)"
   ]
  },
  {
   "cell_type": "code",
   "execution_count": null,
   "metadata": {
    "collapsed": true
   },
   "outputs": [],
   "source": []
  },
  {
   "cell_type": "markdown",
   "metadata": {},
   "source": [
    "## Now include covariates"
   ]
  },
  {
   "cell_type": "markdown",
   "metadata": {},
   "source": [
    "Notes on potential variables: Plant, Type, Treatment, DAP, Residual variables as plant traits"
   ]
  },
  {
   "cell_type": "code",
   "execution_count": null,
   "metadata": {
    "collapsed": false
   },
   "outputs": [],
   "source": [
    "%%R\n",
    "PlantEnz = Enz[Enz$Planted == \"Rhizosphere\",]\n",
    "colnames(PlantEnz)"
   ]
  },
  {
   "cell_type": "code",
   "execution_count": null,
   "metadata": {
    "collapsed": false
   },
   "outputs": [],
   "source": [
    "%%R\n",
    "#Create relative Inorganic N variable by calculating the average inorganic N\n",
    "#in bare soil plots for each sampling date*N treatment combination.  Use separate file.\n",
    "#Then join reference table with Master\n",
    "Bare = Enz[Enz$Plant == \"BARE\",]\n",
    "Nmin_control = group_by(Bare, Sampling, Treatment) %>%\n",
    "                summarise(bare_NH4 = mean(NH4_ug_g),\n",
    "                          bare_NO3 = mean(NO3_ug_g),\n",
    "                          bare_InorganicN = mean(InorganicN))\n",
    "Nmin_control\n",
    "\n",
    "Enzsel = Enz[Enz$PlotID!= \"4.16_Npos\",]\n",
    "Plant = Enzsel[Enzsel$Plant != \"BARE\",]\n",
    "Plant = left_join(Plant, Nmin_control, by = c(\"Sampling\" = \"Sampling\", \"Treatment\" = \"Treatment\"))\n",
    "Plant$InorganicN_RE = Plant$InorganicN - Plant$bare_InorganicN\n",
    "dim(Plant)\n",
    "head(Plant)"
   ]
  },
  {
   "cell_type": "code",
   "execution_count": null,
   "metadata": {
    "collapsed": false,
    "scrolled": true
   },
   "outputs": [],
   "source": [
    "%%R\n",
    "\n",
    "m = lmer(log(BX_rel) ~  Plant + Treatment + Resid_logCN + \n",
    "        Resid_logN   + Plant:Treatment + (1|Rep) + (1|Rep:Plant), \n",
    "          data = Plant, na.rm = TRUE)\n",
    "         summary(m) %>% print\n",
    "         anova(m, ddf=\"Kenward-Roger\", type=3) %>% print\n",
    "\n",
    "\n",
    "#         m.lsm = lsmeans(m)\n",
    "#         m.glht = glht(m1, linfct = mcp(PlantedTreat = \"Tukey\"))\n",
    "#        # summary(m1.glht)\n",
    "# m1.cld = cld(m1.glht, level = 0.05)\n",
    "# old.par <- par(mai=c(1,1,1.5,1), no.readonly = TRUE)\n",
    "# plot(m1.cld)\n",
    "plot(m)\n"
   ]
  },
  {
   "cell_type": "markdown",
   "metadata": {},
   "source": [
    "First, tested model with plant, treatment, plant:treatment, residual SLA, residual logN, residual logB, residual logCN.  Residual logBiomass and logN are colinear, so neither are significant when both are in the model.  Remove log biomass.  logLeafN not significant, remove.  logSLA not significant, remove.  LogCN is more significant when logN is included.  logN is more significant when log CN is included. \n",
    "BX_rel ~ Plant + Treatment + Resid_logCN + Resid_logN + Plant:Treatment + (1|Rep) + (1|Rep:Plant). \n",
    "\n",
    "Add inorganicN_RE (rhizosphere effect) to parsed down model:\n",
    "When added residN is still significant, but residLogCN is no longer.  Interestingly, InorganicN_RE is not significant. \n",
    "\n",
    "Double checked Inorganic N in case calculation was skewing results.  Still not signficant and has same effect on other terms.  Remove inorganic N from model.  \n",
    "\n",
    "Residuals are heteroskedastic, log transform.\n",
    "\n",
    "Interactions of residuals and treatments are not sigificant.  \n",
    "\n",
    "Best model:\n",
    "m = lmer(log(BX_rel) ~  Plant + Treatment + Resid_logCN + \n",
    "        Resid_logN   + Plant:Treatment + (1|Rep) + (1|Rep:Plant), \n",
    "          data = Plant, na.rm = TRUE)"
   ]
  },
  {
   "cell_type": "code",
   "execution_count": null,
   "metadata": {
    "collapsed": false,
    "scrolled": false
   },
   "outputs": [],
   "source": [
    "%%R\n",
    "m = lmer(log(CB_rel) ~  Plant + Treatment + \n",
    "          InorganicN_RE + \n",
    "         (1|Rep) + (1|Rep:Plant), \n",
    "          data = Plant, na.rm = TRUE)\n",
    "         summary(m) %>% print\n",
    "         anova(m, ddf=\"Kenward-Roger\", type=3) %>% print\n",
    "\n",
    "\n",
    "#         m.lsm = lsmeans(m)\n",
    "#         m.glht = glht(m1, linfct = mcp(PlantedTreat = \"Tukey\"))\n",
    "#        # summary(m1.glht)\n",
    "# m1.cld = cld(m1.glht, level = 0.05)\n",
    "# old.par <- par(mai=c(1,1,1.5,1), no.readonly = TRUE)\n",
    "# plot(m1.cld)\n",
    "plot(m)"
   ]
  },
  {
   "cell_type": "code",
   "execution_count": null,
   "metadata": {
    "collapsed": true
   },
   "outputs": [],
   "source": []
  },
  {
   "cell_type": "markdown",
   "metadata": {},
   "source": [
    "Notes:\n",
    "Follows similar pattern as BX except log transformation may not be necessary.  \n",
    "If Plant:Treatment is removed InorganicN_RE is marginally significant, but not when Plant is removed"
   ]
  },
  {
   "cell_type": "code",
   "execution_count": null,
   "metadata": {
    "collapsed": true
   },
   "outputs": [],
   "source": []
  }
 ],
 "metadata": {
  "hide_input": true,
  "kernelspec": {
   "display_name": "Python 2",
   "language": "python",
   "name": "python2"
  },
  "language_info": {
   "codemirror_mode": {
    "name": "ipython",
    "version": 2
   },
   "file_extension": ".py",
   "mimetype": "text/x-python",
   "name": "python",
   "nbconvert_exporter": "python",
   "pygments_lexer": "ipython2",
   "version": "2.7.11"
  }
 },
 "nbformat": 4,
 "nbformat_minor": 0
}
