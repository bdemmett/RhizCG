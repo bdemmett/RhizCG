{
 "cells": [
  {
   "cell_type": "markdown",
   "metadata": {},
   "source": [
    "# Phylogenetic Distance Calculation from RhizCG 2013"
   ]
  },
  {
   "cell_type": "markdown",
   "metadata": {
    "slideshow": {
     "slide_type": "skip"
    }
   },
   "source": [
    "Notes: Calculate phylogenetic distance using phylogeny created from rbcL and matK in phylogenerator 20160209_phylogeny.tre.  "
   ]
  },
  {
   "cell_type": "markdown",
   "metadata": {},
   "source": [
    "# Init"
   ]
  },
  {
   "cell_type": "code",
   "execution_count": 1,
   "metadata": {
    "collapsed": false
   },
   "outputs": [],
   "source": [
    "%load_ext rpy2.ipython"
   ]
  },
  {
   "cell_type": "code",
   "execution_count": 2,
   "metadata": {
    "collapsed": false,
    "hide_input": false
   },
   "outputs": [
    {
     "name": "stderr",
     "output_type": "stream",
     "text": [
      "/opt/anaconda/lib/python2.7/site-packages/rpy2/robjects/functions.py:106: UserWarning: foreach: simple, scalable parallel programming from Revolution Analytics\n",
      "Use Revolution R for scalability, fault tolerance and more.\n",
      "http://www.revolutionanalytics.com\n",
      "\n",
      "  res = super(Function, self).__call__(*new_args, **new_kwargs)\n",
      "/opt/anaconda/lib/python2.7/site-packages/rpy2/robjects/functions.py:106: UserWarning: Loading required package: estimability\n",
      "\n",
      "  res = super(Function, self).__call__(*new_args, **new_kwargs)\n",
      "/opt/anaconda/lib/python2.7/site-packages/rpy2/robjects/functions.py:106: UserWarning: Loading required package: lattice\n",
      "\n",
      "  res = super(Function, self).__call__(*new_args, **new_kwargs)\n",
      "/opt/anaconda/lib/python2.7/site-packages/rpy2/robjects/functions.py:106: UserWarning: Loading required package: survival\n",
      "\n",
      "  res = super(Function, self).__call__(*new_args, **new_kwargs)\n",
      "/opt/anaconda/lib/python2.7/site-packages/rpy2/robjects/functions.py:106: UserWarning: Loading required package: Formula\n",
      "\n",
      "  res = super(Function, self).__call__(*new_args, **new_kwargs)\n",
      "/opt/anaconda/lib/python2.7/site-packages/rpy2/robjects/functions.py:106: UserWarning: Loading required package: ggplot2\n",
      "\n",
      "  res = super(Function, self).__call__(*new_args, **new_kwargs)\n",
      "/opt/anaconda/lib/python2.7/site-packages/rpy2/robjects/functions.py:106: UserWarning: \n",
      "Attaching package: ‘Hmisc’\n",
      "\n",
      "\n",
      "  res = super(Function, self).__call__(*new_args, **new_kwargs)\n",
      "/opt/anaconda/lib/python2.7/site-packages/rpy2/robjects/functions.py:106: UserWarning: The following objects are masked from ‘package:base’:\n",
      "\n",
      "    format.pval, round.POSIXt, trunc.POSIXt, units\n",
      "\n",
      "\n",
      "  res = super(Function, self).__call__(*new_args, **new_kwargs)\n",
      "/opt/anaconda/lib/python2.7/site-packages/rpy2/robjects/functions.py:106: UserWarning: Loading required package: Matrix\n",
      "\n",
      "  res = super(Function, self).__call__(*new_args, **new_kwargs)\n",
      "/opt/anaconda/lib/python2.7/site-packages/rpy2/robjects/functions.py:106: UserWarning: \n",
      "Attaching package: ‘lmerTest’\n",
      "\n",
      "\n",
      "  res = super(Function, self).__call__(*new_args, **new_kwargs)\n",
      "/opt/anaconda/lib/python2.7/site-packages/rpy2/robjects/functions.py:106: UserWarning: The following object is masked from ‘package:lme4’:\n",
      "\n",
      "    lmer\n",
      "\n",
      "\n",
      "  res = super(Function, self).__call__(*new_args, **new_kwargs)\n",
      "/opt/anaconda/lib/python2.7/site-packages/rpy2/robjects/functions.py:106: UserWarning: The following object is masked from ‘package:lsmeans’:\n",
      "\n",
      "    lsmeans\n",
      "\n",
      "\n",
      "  res = super(Function, self).__call__(*new_args, **new_kwargs)\n",
      "/opt/anaconda/lib/python2.7/site-packages/rpy2/robjects/functions.py:106: UserWarning: The following object is masked from ‘package:stats’:\n",
      "\n",
      "    step\n",
      "\n",
      "\n",
      "  res = super(Function, self).__call__(*new_args, **new_kwargs)\n",
      "/opt/anaconda/lib/python2.7/site-packages/rpy2/robjects/functions.py:106: UserWarning: \n",
      "Attaching package: ‘plyr’\n",
      "\n",
      "\n",
      "  res = super(Function, self).__call__(*new_args, **new_kwargs)\n",
      "/opt/anaconda/lib/python2.7/site-packages/rpy2/robjects/functions.py:106: UserWarning: The following objects are masked from ‘package:Hmisc’:\n",
      "\n",
      "    is.discrete, summarize\n",
      "\n",
      "\n",
      "  res = super(Function, self).__call__(*new_args, **new_kwargs)\n",
      "/opt/anaconda/lib/python2.7/site-packages/rpy2/robjects/functions.py:106: UserWarning: \n",
      "Attaching package: ‘dplyr’\n",
      "\n",
      "\n",
      "  res = super(Function, self).__call__(*new_args, **new_kwargs)\n",
      "/opt/anaconda/lib/python2.7/site-packages/rpy2/robjects/functions.py:106: UserWarning: The following objects are masked from ‘package:plyr’:\n",
      "\n",
      "    arrange, count, desc, failwith, id, mutate, rename, summarise,\n",
      "    summarize\n",
      "\n",
      "\n",
      "  res = super(Function, self).__call__(*new_args, **new_kwargs)\n",
      "/opt/anaconda/lib/python2.7/site-packages/rpy2/robjects/functions.py:106: UserWarning: The following objects are masked from ‘package:Hmisc’:\n",
      "\n",
      "    combine, src, summarize\n",
      "\n",
      "\n",
      "  res = super(Function, self).__call__(*new_args, **new_kwargs)\n",
      "/opt/anaconda/lib/python2.7/site-packages/rpy2/robjects/functions.py:106: UserWarning: The following objects are masked from ‘package:stats’:\n",
      "\n",
      "    filter, lag\n",
      "\n",
      "\n",
      "  res = super(Function, self).__call__(*new_args, **new_kwargs)\n",
      "/opt/anaconda/lib/python2.7/site-packages/rpy2/robjects/functions.py:106: UserWarning: The following objects are masked from ‘package:base’:\n",
      "\n",
      "    intersect, setdiff, setequal, union\n",
      "\n",
      "\n",
      "  res = super(Function, self).__call__(*new_args, **new_kwargs)\n",
      "/opt/anaconda/lib/python2.7/site-packages/rpy2/robjects/functions.py:106: UserWarning: \n",
      "Attaching package: ‘tidyr’\n",
      "\n",
      "\n",
      "  res = super(Function, self).__call__(*new_args, **new_kwargs)\n",
      "/opt/anaconda/lib/python2.7/site-packages/rpy2/robjects/functions.py:106: UserWarning: The following object is masked from ‘package:Matrix’:\n",
      "\n",
      "    expand\n",
      "\n",
      "\n",
      "  res = super(Function, self).__call__(*new_args, **new_kwargs)\n",
      "/opt/anaconda/lib/python2.7/site-packages/rpy2/robjects/functions.py:106: UserWarning: \n",
      "Attaching package: ‘gridExtra’\n",
      "\n",
      "\n",
      "  res = super(Function, self).__call__(*new_args, **new_kwargs)\n",
      "/opt/anaconda/lib/python2.7/site-packages/rpy2/robjects/functions.py:106: UserWarning: The following object is masked from ‘package:dplyr’:\n",
      "\n",
      "    combine\n",
      "\n",
      "\n",
      "  res = super(Function, self).__call__(*new_args, **new_kwargs)\n",
      "/opt/anaconda/lib/python2.7/site-packages/rpy2/robjects/functions.py:106: UserWarning: The following object is masked from ‘package:Hmisc’:\n",
      "\n",
      "    combine\n",
      "\n",
      "\n",
      "  res = super(Function, self).__call__(*new_args, **new_kwargs)\n",
      "/opt/anaconda/lib/python2.7/site-packages/rpy2/robjects/functions.py:106: UserWarning: \n",
      "Attaching package: ‘reshape2’\n",
      "\n",
      "\n",
      "  res = super(Function, self).__call__(*new_args, **new_kwargs)\n",
      "/opt/anaconda/lib/python2.7/site-packages/rpy2/robjects/functions.py:106: UserWarning: The following object is masked from ‘package:tidyr’:\n",
      "\n",
      "    smiths\n",
      "\n",
      "\n",
      "  res = super(Function, self).__call__(*new_args, **new_kwargs)\n",
      "/opt/anaconda/lib/python2.7/site-packages/rpy2/robjects/functions.py:106: UserWarning: Loading required package: ape\n",
      "\n",
      "  res = super(Function, self).__call__(*new_args, **new_kwargs)\n",
      "/opt/anaconda/lib/python2.7/site-packages/rpy2/robjects/functions.py:106: UserWarning: \n",
      "Attaching package: ‘ape’\n",
      "\n",
      "\n",
      "  res = super(Function, self).__call__(*new_args, **new_kwargs)\n",
      "/opt/anaconda/lib/python2.7/site-packages/rpy2/robjects/functions.py:106: UserWarning: The following object is masked from ‘package:Hmisc’:\n",
      "\n",
      "    zoom\n",
      "\n",
      "\n",
      "  res = super(Function, self).__call__(*new_args, **new_kwargs)\n",
      "/opt/anaconda/lib/python2.7/site-packages/rpy2/robjects/functions.py:106: UserWarning: Loading required package: vegan\n",
      "\n",
      "  res = super(Function, self).__call__(*new_args, **new_kwargs)\n",
      "/opt/anaconda/lib/python2.7/site-packages/rpy2/robjects/functions.py:106: UserWarning: Loading required package: permute\n",
      "\n",
      "  res = super(Function, self).__call__(*new_args, **new_kwargs)\n",
      "/opt/anaconda/lib/python2.7/site-packages/rpy2/robjects/functions.py:106: UserWarning: This is vegan 2.4-0\n",
      "\n",
      "  res = super(Function, self).__call__(*new_args, **new_kwargs)\n",
      "/opt/anaconda/lib/python2.7/site-packages/rpy2/robjects/functions.py:106: UserWarning: Loading required package: nlme\n",
      "\n",
      "  res = super(Function, self).__call__(*new_args, **new_kwargs)\n",
      "/opt/anaconda/lib/python2.7/site-packages/rpy2/robjects/functions.py:106: UserWarning: \n",
      "Attaching package: ‘nlme’\n",
      "\n",
      "\n",
      "  res = super(Function, self).__call__(*new_args, **new_kwargs)\n",
      "/opt/anaconda/lib/python2.7/site-packages/rpy2/robjects/functions.py:106: UserWarning: The following object is masked from ‘package:dplyr’:\n",
      "\n",
      "    collapse\n",
      "\n",
      "\n",
      "  res = super(Function, self).__call__(*new_args, **new_kwargs)\n",
      "/opt/anaconda/lib/python2.7/site-packages/rpy2/robjects/functions.py:106: UserWarning: The following object is masked from ‘package:lme4’:\n",
      "\n",
      "    lmList\n",
      "\n",
      "\n",
      "  res = super(Function, self).__call__(*new_args, **new_kwargs)\n",
      "/opt/anaconda/lib/python2.7/site-packages/rpy2/robjects/functions.py:106: UserWarning: Loading required package: iterators\n",
      "\n",
      "  res = super(Function, self).__call__(*new_args, **new_kwargs)\n",
      "/opt/anaconda/lib/python2.7/site-packages/rpy2/robjects/functions.py:106: UserWarning: Loading required package: parallel\n",
      "\n",
      "  res = super(Function, self).__call__(*new_args, **new_kwargs)\n"
     ]
    }
   ],
   "source": [
    "%%R\n",
    "library(foreach)\n",
    "library(lsmeans)\n",
    "library(Hmisc)\n",
    "library(lme4)\n",
    "library(lmerTest)\n",
    "library(ggplot2)\n",
    "library(plyr)\n",
    "library(dplyr)\n",
    "library(tidyr)\n",
    "library(pbkrtest)\n",
    "library(gridExtra)\n",
    "library(reshape2)\n",
    "library(picante)\n",
    "library(ape)\n",
    "library(phyloseq)\n",
    "library(doParallel)\n"
   ]
  },
  {
   "cell_type": "code",
   "execution_count": 3,
   "metadata": {
    "collapsed": false
   },
   "outputs": [],
   "source": [
    "%%R\n",
    "# Initialize corMLPE \n",
    "source('/home/bryan/corMLPE/corMLPE.R')"
   ]
  },
  {
   "cell_type": "markdown",
   "metadata": {
    "hide_input": true,
    "slideshow": {
     "slide_type": "skip"
    }
   },
   "source": [
    "## Set file locations"
   ]
  },
  {
   "cell_type": "code",
   "execution_count": 4,
   "metadata": {
    "collapsed": true
   },
   "outputs": [],
   "source": [
    "%%R\n",
    "workDir = '/home/bryan/RhizCG/PhyDist/'\n",
    "treeFile = '/home/bryan/RhizCG/PhyDist/20160209_phylogeny.tre'\n",
    "NAMFile = '/home/bryan/RhizCG/PhyDist/NAM_founders_distanceMatrix_v2.txt'"
   ]
  },
  {
   "cell_type": "markdown",
   "metadata": {
    "slideshow": {
     "slide_type": "skip"
    }
   },
   "source": [
    "### Read  tables table "
   ]
  },
  {
   "cell_type": "code",
   "execution_count": 5,
   "metadata": {
    "collapsed": false
   },
   "outputs": [],
   "source": [
    "%%R \n",
    "\n",
    "NAMdist = read.table(NAMFile, header = TRUE)\n",
    "#reorder so that NAMdist is in same order as log2fold change matrix\n",
    "NAMdist = NAMdist[c(1:6, 8, 7, 9, 10), c(1:6, 8, 7, 9, 10)]"
   ]
  },
  {
   "cell_type": "code",
   "execution_count": 6,
   "metadata": {
    "collapsed": false,
    "scrolled": true
   },
   "outputs": [
    {
     "data": {
      "image/png": "[encoded data removed]"
     },
     "metadata": {},
     "output_type": "display_data"
    }
   ],
   "source": [
    "%%R\n",
    "NAM_hc = hclust(as.dist(NAMdist), \"average\")\n",
    "plot(NAM_hc)"
   ]
  },
  {
   "cell_type": "code",
   "execution_count": 7,
   "metadata": {
    "collapsed": false,
    "hide_input": true,
    "scrolled": true
   },
   "outputs": [
    {
     "data": {
      "text/plain": [
       "phyloseq-class experiment-level object\n",
       "otu_table()   OTU Table:         [ 4982 taxa and 40 samples ]\n",
       "sample_data() Sample Data:       [ 40 samples by 55 sample variables ]\n",
       "tax_table()   Taxonomy Table:    [ 4982 taxa by 8 taxonomic ranks ]\n",
       "phy_tree()    Phylogenetic Tree: [ 4982 tips and 4981 internal nodes ]\n"
      ]
     },
     "metadata": {},
     "output_type": "display_data"
    }
   ],
   "source": [
    "%%R\n",
    "#Read rarified phyloseq object\n",
    "F = file.path('/home/bryan/RhizCG/data/MiSeq_amplicon/MergedRuns/physeq/Full-Sparsity3in3_r')\n",
    "physeq.Full = readRDS(F)\n",
    "\n",
    "physeq.NAM = subset_samples(physeq.Full, Treatment == \"Nneg\" & Type == \"Maize\" & Plant != \"75-062\")\n",
    "physeq.NAM"
   ]
  },
  {
   "cell_type": "markdown",
   "metadata": {},
   "source": [
    "## NAM lines clustered by sampling date"
   ]
  },
  {
   "cell_type": "code",
   "execution_count": 8,
   "metadata": {
    "collapsed": false,
    "hide_input": true,
    "scrolled": true
   },
   "outputs": [
    {
     "data": {
      "image/png": "[encoded data removed]"
     },
     "metadata": {},
     "output_type": "display_data"
    }
   ],
   "source": [
    "%%R\n",
    "temp = sample_data(physeq.NAM) %>% \n",
    "    as(., \"data.frame\") %>% \n",
    "    group_by(Plant) %>% \n",
    "    summarize(DAY = mean(DAP)) #%>%\n",
    "row.names(temp) = temp$Plant\n",
    "dist(temp, method = \"euclidean\") %>%\n",
    "    hclust(\"average\") %>%\n",
    "     plot"
   ]
  },
  {
   "cell_type": "markdown",
   "metadata": {},
   "source": [
    "## Calculate w-Unifrac distances"
   ]
  },
  {
   "cell_type": "code",
   "execution_count": 9,
   "metadata": {
    "collapsed": false
   },
   "outputs": [],
   "source": [
    "%%R\n",
    "registerDoParallel(cores=28)\n",
    "phy.wunif.dist = distance(physeq.NAM, \n",
    "                      method = \"unifrac\", \n",
    "                      weighted = TRUE,\n",
    "                      fast = TRUE, \n",
    "                      parallel = TRUE, \n",
    "                      normalized = FALSE)\n"
   ]
  },
  {
   "cell_type": "markdown",
   "metadata": {
    "slideshow": {
     "slide_type": "skip"
    }
   },
   "source": [
    "# Data wrangling "
   ]
  },
  {
   "cell_type": "markdown",
   "metadata": {},
   "source": [
    "## Create melted dataframes for plot by plot comparisons"
   ]
  },
  {
   "cell_type": "code",
   "execution_count": 10,
   "metadata": {
    "collapsed": false
   },
   "outputs": [
    {
     "data": {
      "text/plain": [
       "  PlantA PlantB gene_Dist PlantComp\n",
       "1    B73    B73 0.0000000   B73-B73\n",
       "2    B97    B73 0.1285456   B97-B73\n",
       "3    H99    B73 0.1306701   H99-B73\n",
       "4  Hp301    B73 0.1357241 Hp301-B73\n",
       "5  Il14H    B73 0.1412994 Il14H-B73\n",
       "6    Ki3    B73 0.1413460   Ki3-B73\n"
      ]
     },
     "metadata": {},
     "output_type": "display_data"
    }
   ],
   "source": [
    "%%R\n",
    "gd.m = melt(as.matrix(NAMdist))\n",
    "\n",
    "#set column names and create comparison column\n",
    "colnames(gd.m) = c(\"PlantA\", \"PlantB\", \"gene_Dist\")\n",
    "gd.m$PlantComp = paste(gd.m$PlantA, gd.m$PlantB, sep = \"-\")\n",
    "gd.m %>% head\n"
   ]
  },
  {
   "cell_type": "code",
   "execution_count": 11,
   "metadata": {
    "collapsed": false,
    "hide_input": false
   },
   "outputs": [
    {
     "data": {
      "text/plain": [
       "                PlotA             PlotB w_Unif_Dist\n",
       "41  sample5-2.06_Nneg sample6-2.26_Nneg   0.1544908\n",
       "81  sample5-2.06_Nneg sample6-3.18_Nneg   0.1652106\n",
       "82  sample6-2.26_Nneg sample6-3.18_Nneg   0.1568328\n",
       "121 sample5-2.06_Nneg sample5-3.13_Nneg   0.1293945\n",
       "122 sample6-2.26_Nneg sample5-3.13_Nneg   0.1576011\n",
       "123 sample6-3.18_Nneg sample5-3.13_Nneg   0.1265751\n",
       "[1] 780   3\n"
      ]
     },
     "metadata": {},
     "output_type": "display_data"
    }
   ],
   "source": [
    "%%R\n",
    "ud = as.matrix(phy.wunif.dist) \n",
    "# remove lower triangle to remove duplicate values\n",
    "ud[ lower.tri( ud, diag = TRUE ) ]  <- NA\n",
    "head(ud)\n",
    "ud.m = melt(ud, na.rm= TRUE)\n",
    "colnames(ud.m) = c(\"PlotA\", \"PlotB\", \"w_Unif_Dist\")\n",
    "head(ud.m) %>% print\n",
    "dim(ud.m) %>% print"
   ]
  },
  {
   "cell_type": "markdown",
   "metadata": {},
   "source": [
    "## Create functional distance variable"
   ]
  },
  {
   "cell_type": "code",
   "execution_count": 12,
   "metadata": {
    "collapsed": false
   },
   "outputs": [
    {
     "data": {
      "text/plain": [
       "   Plant SeedSize_mg\n",
       "1  ERATE      0.0035\n",
       "2  HELAN          90\n",
       "3    B73         333\n",
       "4  FAGES          38\n",
       "5  AMAPO        0.49\n",
       "6 SORSUD        10.7\n",
       "    Plant SeedSize_mg\n",
       "1   ERATE      0.0035\n",
       "2   HELAN     90.0000\n",
       "3     B73    333.0000\n",
       "4   FAGES     38.0000\n",
       "5   AMAPO      0.4900\n",
       "6  SORSUD     10.7000\n",
       "7   SORBI     32.3900\n",
       "8   ELCOR      3.2000\n",
       "9   ECHCG      1.5800\n",
       "10  ABUTH      9.6000\n",
       "11  SETFA      1.8000\n",
       "12  GLYMA    174.0000\n",
       "13   MS71      0.2640\n",
       "14   Mo18      0.2240\n",
       "15  Il14H      0.2190\n",
       "16  Tx303      0.2790\n",
       "17   Oh7B      0.2070\n",
       "18    B97      0.2400\n",
       "19  Hp301      0.0869\n",
       "20 75-062      0.2220\n",
       "21    Ki3      0.2280\n",
       "22    H99      0.2310\n"
      ]
     },
     "metadata": {},
     "output_type": "display_data"
    }
   ],
   "source": [
    "%%R\n",
    "#add growing degree days\n",
    "DAP = c(36, 53, 57, 61, 72, 79, 84, 88)\n",
    "GDD = c(795.1, 1089.4, 1136.8, 1199.5, 1394.3, 1512.4, 1573.8, 1625.6)\n",
    "M_GDD = cbind(DAP, GDD) %>% as.data.frame\n",
    "M_GDD\n",
    "\n",
    "Plant = c(\"ERATE\", \"HELAN\", \"B73\", \"FAGES\", \"AMAPO\", \"SORSUD\", \"SORBI\", \n",
    "          \"ELCOR\", \"ECHCG\", \"ABUTH\", \"SETFA\", \"GLYMA\", \"MS71\", \"Mo18\", \"Il14H\", \"Tx303\", \"Oh7B\",\n",
    "         \"B97\", \"Hp301\", \"75-062\", \"Ki3\", \"H99\")\n",
    "SeedSize_mg = c(.0035, 90, 333, 38, .49, 10.7, 32.39,\n",
    "               3.2, 1.58, 9.6, 1.8, 174, .264, .224, 0.219, 0.279, 0.207,\n",
    "               0.240, 0.0869, 0.222, 0.228, 0.231)\n",
    "SS = cbind(Plant, SeedSize_mg) %>% as.data.frame\n",
    "head(SS) %>% print\n",
    "SS$SeedSize_mg = SS$SeedSize_mg %>% as.character %>% as.numeric\n",
    "(SS)"
   ]
  },
  {
   "cell_type": "code",
   "execution_count": 13,
   "metadata": {
    "collapsed": false
   },
   "outputs": [
    {
     "data": {
      "text/plain": [
       " [1] \"B73\"   \"B97\"   \"H99\"   \"Hp301\" \"Il14H\" \"Ki3\"   \"Mo18\"  \"MS71\"  \"Oh7B\" \n",
       "[10] \"Tx303\"\n",
       "Importance of components:\n",
       "                          PC1    PC2    PC3     PC4\n",
       "Standard deviation     1.4160 1.2049 0.7101 0.19689\n",
       "Proportion of Variance 0.5013 0.3630 0.1261 0.00969\n",
       "Cumulative Proportion  0.5013 0.8642 0.9903 1.00000\n",
       "                      PC1         PC2        PC3         PC4\n",
       "SeedSize_mg    0.37559025  0.54897881 -0.7444181 -0.05827502\n",
       "M_Resid_logN   0.62885977 -0.35501908  0.1089487 -0.68310104\n",
       "M_Resid_logCN -0.01315932  0.75565140  0.5751346 -0.31311015\n",
       "M_Resid_logB   0.68065717  0.03968222  0.3212353  0.65722068\n"
      ]
     },
     "metadata": {},
     "output_type": "display_data"
    },
    {
     "data": {
      "image/png": "[encoded data removed]"
     },
     "metadata": {},
     "output_type": "display_data"
    }
   ],
   "source": [
    "%%R\n",
    "# PCA of maize\n",
    "sd = as(sample_data(physeq.NAM), \"data.frame\")\n",
    "sd$Plant %>% levels %>% print\n",
    "sd = left_join(sd, SS, by = \"Plant\")\n",
    "sd = left_join(sd, M_GDD, by = \"DAP\")\n",
    "\n",
    " fit = prcomp(~SeedSize_mg + M_Resid_logN + M_Resid_logCN + M_Resid_logB, data = sd, \n",
    "                 na.action = na.exclude, center = TRUE, scale = TRUE)\n",
    "\n",
    "summary(fit) %>% print\n",
    "fit$rotation %>% print\n",
    "biplot(fit)"
   ]
  },
  {
   "cell_type": "code",
   "execution_count": 14,
   "metadata": {
    "collapsed": false,
    "scrolled": false
   },
   "outputs": [
    {
     "data": {
      "image/png": "[encoded data removed]"
     },
     "metadata": {},
     "output_type": "display_data"
    }
   ],
   "source": [
    "%%R -w 600 -h 500\n",
    "S = predict(fit)[,1:3]\n",
    "E_Fit = cbind(sd, S)\n",
    "row.names(E_Fit) = E_Fit$X.sample\n",
    "sample_data(physeq.NAM) = E_Fit\n",
    "\n",
    "\n",
    "p = ggplot(E_Fit, aes(PC1, PC3, colour = Plant, \n",
    "                       size = A_Resid_logN), pch = 21)\n",
    "p = p + geom_point()\n",
    "#p = p + scale_colour_brewer(palette=\"Paired\")\n",
    "p = p + ggtitle(\"PCA of Growth Residuals\")\n",
    "p"
   ]
  },
  {
   "cell_type": "code",
   "execution_count": 15,
   "metadata": {
    "collapsed": false,
    "scrolled": true
   },
   "outputs": [
    {
     "data": {
      "image/png": "[encoded data removed]"
     },
     "metadata": {},
     "output_type": "display_data"
    }
   ],
   "source": [
    "%%R\n",
    "p = ggplot(E_Fit, aes(PC1, PC2, colour = Plant, \n",
    "                       size = A_Resid_logN), pch = 21)\n",
    "p = p + geom_point()\n",
    "p = p + scale_colour_brewer(palette=\"Paired\")\n",
    "p = p + ggtitle(\"PCA of Growth Residuals\")\n",
    "p"
   ]
  },
  {
   "cell_type": "code",
   "execution_count": 16,
   "metadata": {
    "collapsed": false
   },
   "outputs": [
    {
     "data": {
      "text/plain": [
       "              PlotA             PlotB   PC3Dist\n",
       "1 sample5-2.06_Nneg sample5-2.06_Nneg 0.0000000\n",
       "2 sample6-2.26_Nneg sample5-2.06_Nneg 2.4689610\n",
       "3 sample6-3.18_Nneg sample5-2.06_Nneg 2.4418318\n",
       "4 sample5-3.13_Nneg sample5-2.06_Nneg 0.3154552\n",
       "5 sample5-1.17_Nneg sample5-2.06_Nneg 0.3467816\n",
       "6 sample5-4.08_Nneg sample5-2.06_Nneg 0.4024368\n",
       "                             PlotComp\n",
       "1 sample5-2.06_Nneg-sample5-2.06_Nneg\n",
       "2 sample6-2.26_Nneg-sample5-2.06_Nneg\n",
       "3 sample6-3.18_Nneg-sample5-2.06_Nneg\n",
       "4 sample5-3.13_Nneg-sample5-2.06_Nneg\n",
       "5 sample5-1.17_Nneg-sample5-2.06_Nneg\n",
       "6 sample5-4.08_Nneg-sample5-2.06_Nneg\n",
       "              PlotA             PlotB     CNdist\n",
       "1 sample5-2.06_Nneg sample5-2.06_Nneg 0.00000000\n",
       "2 sample6-2.26_Nneg sample5-2.06_Nneg 0.10793626\n",
       "3 sample6-3.18_Nneg sample5-2.06_Nneg 0.05028337\n",
       "4 sample5-3.13_Nneg sample5-2.06_Nneg 0.31288468\n",
       "5 sample5-1.17_Nneg sample5-2.06_Nneg 0.08417796\n",
       "6 sample5-4.08_Nneg sample5-2.06_Nneg 0.11968321\n",
       "                             PlotComp\n",
       "1 sample5-2.06_Nneg-sample5-2.06_Nneg\n",
       "2 sample6-2.26_Nneg-sample5-2.06_Nneg\n",
       "3 sample6-3.18_Nneg-sample5-2.06_Nneg\n",
       "4 sample5-3.13_Nneg-sample5-2.06_Nneg\n",
       "5 sample5-1.17_Nneg-sample5-2.06_Nneg\n",
       "6 sample5-4.08_Nneg-sample5-2.06_Nneg\n",
       "              PlotA             PlotB     Bdist\n",
       "1 sample5-2.06_Nneg sample5-2.06_Nneg 0.0000000\n",
       "2 sample6-2.26_Nneg sample5-2.06_Nneg 0.1656056\n",
       "3 sample6-3.18_Nneg sample5-2.06_Nneg 0.1083926\n",
       "4 sample5-3.13_Nneg sample5-2.06_Nneg 0.2873347\n",
       "5 sample5-1.17_Nneg sample5-2.06_Nneg 0.1039170\n",
       "6 sample5-4.08_Nneg sample5-2.06_Nneg 0.4733704\n",
       "                             PlotComp\n",
       "1 sample5-2.06_Nneg-sample5-2.06_Nneg\n",
       "2 sample6-2.26_Nneg-sample5-2.06_Nneg\n",
       "3 sample6-3.18_Nneg-sample5-2.06_Nneg\n",
       "4 sample5-3.13_Nneg-sample5-2.06_Nneg\n",
       "5 sample5-1.17_Nneg-sample5-2.06_Nneg\n",
       "6 sample5-4.08_Nneg-sample5-2.06_Nneg\n",
       "              PlotA             PlotB   FunDist\n",
       "1 sample5-2.06_Nneg sample5-2.06_Nneg 0.0000000\n",
       "2 sample6-2.26_Nneg sample5-2.06_Nneg 3.5610590\n",
       "3 sample6-3.18_Nneg sample5-2.06_Nneg 3.3263846\n",
       "4 sample5-3.13_Nneg sample5-2.06_Nneg 2.5351591\n",
       "5 sample5-1.17_Nneg sample5-2.06_Nneg 0.5296049\n",
       "6 sample5-4.08_Nneg sample5-2.06_Nneg 2.4943884\n",
       "                             PlotComp\n",
       "1 sample5-2.06_Nneg-sample5-2.06_Nneg\n",
       "2 sample6-2.26_Nneg-sample5-2.06_Nneg\n",
       "3 sample6-3.18_Nneg-sample5-2.06_Nneg\n",
       "4 sample5-3.13_Nneg-sample5-2.06_Nneg\n",
       "5 sample5-1.17_Nneg-sample5-2.06_Nneg\n",
       "6 sample5-4.08_Nneg-sample5-2.06_Nneg\n",
       "              PlotA             PlotB   PC1Dist\n",
       "1 sample5-2.06_Nneg sample5-2.06_Nneg 0.0000000\n",
       "2 sample6-2.26_Nneg sample5-2.06_Nneg 0.1298754\n",
       "3 sample6-3.18_Nneg sample5-2.06_Nneg 1.6196370\n",
       "4 sample5-3.13_Nneg sample5-2.06_Nneg 1.8474549\n",
       "5 sample5-1.17_Nneg sample5-2.06_Nneg 0.2799782\n",
       "6 sample5-4.08_Nneg sample5-2.06_Nneg 2.2524173\n",
       "                             PlotComp   PC2Dist   PC3Dist   FunDist     CNdist\n",
       "1 sample5-2.06_Nneg-sample5-2.06_Nneg 0.0000000 0.0000000 0.0000000 0.00000000\n",
       "2 sample6-2.26_Nneg-sample5-2.06_Nneg 2.5629095 2.4689610 3.5610590 0.10793626\n",
       "3 sample6-3.18_Nneg-sample5-2.06_Nneg 1.5745056 2.4418318 3.3263846 0.05028337\n",
       "4 sample5-3.13_Nneg-sample5-2.06_Nneg 1.7071701 0.3154552 2.5351591 0.31288468\n",
       "5 sample5-1.17_Nneg-sample5-2.06_Nneg 0.2860699 0.3467816 0.5296049 0.08417796\n",
       "6 sample5-4.08_Nneg-sample5-2.06_Nneg 0.9932947 0.4024368 2.4943884 0.11968321\n",
       "      Bdist\n",
       "1 0.0000000\n",
       "2 0.1656056\n",
       "3 0.1083926\n",
       "4 0.2873347\n",
       "5 0.1039170\n",
       "6 0.4733704\n"
      ]
     },
     "metadata": {},
     "output_type": "display_data"
    }
   ],
   "source": [
    "%%R\n",
    "#measure distances on PC1\n",
    "sd = sample_data(physeq.NAM)\n",
    "PC1dist = dist(sd[, \"PC1\"], method = \"euclidian\")\n",
    "    #melt matrix\n",
    "    PC1.m = melt(as.matrix(PC1dist))\n",
    "\n",
    "    #set column names and create comparison column\n",
    "     colnames(PC1.m) = c(\"PlotA\", \"PlotB\", \"PC1Dist\")\n",
    "    PC1.m$PlotComp = paste(PC1.m$PlotA, PC1.m$PlotB, sep = \"-\")\n",
    "    PC1.m %>% head\n",
    "\n",
    "#measure distances on PC2\n",
    "PC2dist = dist(sd[,\"PC2\"], method = \"euclidian\")\n",
    "    #melt matrix\n",
    "    PC2.m = melt(as.matrix(PC2dist))\n",
    "\n",
    "    #set column names and create comparison column\n",
    "     colnames(PC2.m) = c(\"PlotA\", \"PlotB\", \"PC2Dist\")\n",
    "    PC2.m$PlotComp = paste(PC2.m$PlotA, PC2.m$PlotB, sep = \"-\")\n",
    "    PC2.m %>% head\n",
    "\n",
    "#measure distances on PC3\n",
    "PC3dist = dist(sd[,\"PC3\"], method = \"euclidian\")\n",
    "    #melt matrix\n",
    "    PC3.m = melt(as.matrix(PC3dist))\n",
    "\n",
    "    #set column names and create comparison column\n",
    "     colnames(PC3.m) = c(\"PlotA\", \"PlotB\", \"PC3Dist\")\n",
    "    PC3.m$PlotComp = paste(PC3.m$PlotA, PC3.m$PlotB, sep = \"-\")\n",
    "    PC3.m %>% head %>% print\n",
    "\n",
    "#measure distances on residCN\n",
    "CNdist = dist(sd[,\"M_Resid_logCN\"], method = \"euclidian\")\n",
    "    #melt matrix\n",
    "    CN.m = melt(as.matrix(CNdist))\n",
    "\n",
    "    #set column names and create comparison column\n",
    "     colnames(CN.m) = c(\"PlotA\", \"PlotB\", \"CNdist\")\n",
    "    CN.m$PlotComp = paste(CN.m$PlotA, CN.m$PlotB, sep = \"-\")\n",
    "    CN.m %>% head %>% print\n",
    "\n",
    "#measure distances on residBiomass\n",
    "Bdist = dist(sd[,\"M_Resid_logB\"], method = \"euclidian\")\n",
    "    #melt matrix\n",
    "    B.m = melt(as.matrix(Bdist))\n",
    "\n",
    "    #set column names and create comparison column\n",
    "     colnames(B.m) = c(\"PlotA\", \"PlotB\", \"Bdist\")\n",
    "    B.m$PlotComp = paste(B.m$PlotA, B.m$PlotB, sep = \"-\")\n",
    "    B.m %>% head %>% print\n",
    "\n",
    "Fundist = dist(sd[,c(\"PC1\", \"PC2\", \"PC3\")], method = \"euclidian\")\n",
    "    Fun.m = melt(as.matrix(Fundist))\n",
    "\n",
    "    #set column names and create comparison column\n",
    "     colnames(Fun.m) = c(\"PlotA\", \"PlotB\", \"FunDist\")\n",
    "    Fun.m$PlotComp = paste(Fun.m$PlotA, PC3.m$PlotB, sep = \"-\")\n",
    "    Fun.m %>% head %>% print\n",
    "PCA.m = left_join(PC1.m, PC2.m[,c(3,4)], by = \"PlotComp\")\n",
    "PCA.m = left_join(PCA.m, PC3.m[,c(3,4)], by = \"PlotComp\")\n",
    "PCA.m = left_join(PCA.m, Fun.m[,c(3,4)], by = \"PlotComp\")\n",
    "PCA.m = left_join(PCA.m, CN.m[,c(3,4)], by = \"PlotComp\")\n",
    "PCA.m = left_join(PCA.m, B.m[,c(3,4)], by = \"PlotComp\")\n",
    "head(PCA.m)"
   ]
  },
  {
   "cell_type": "markdown",
   "metadata": {},
   "source": [
    "## Join distance tables"
   ]
  },
  {
   "cell_type": "code",
   "execution_count": 17,
   "metadata": {
    "collapsed": false
   },
   "outputs": [
    {
     "data": {
      "text/plain": [
       "              PlotA             PlotB w_Unif_Dist Plant\n",
       "1 sample5-2.06_Nneg sample6-2.26_Nneg   0.1544908  MS71\n",
       "2 sample5-2.06_Nneg sample6-3.18_Nneg   0.1652106  MS71\n",
       "3 sample6-2.26_Nneg sample6-3.18_Nneg   0.1568328   B73\n",
       "4 sample5-2.06_Nneg sample5-3.13_Nneg   0.1293945  MS71\n",
       "5 sample6-2.26_Nneg sample5-3.13_Nneg   0.1576011   B73\n",
       "6 sample6-3.18_Nneg sample5-3.13_Nneg   0.1265751   B73\n",
       "              PlotA             PlotB w_Unif_Dist PlantA Plant\n",
       "1 sample5-2.06_Nneg sample6-2.26_Nneg   0.1544908   MS71   B73\n",
       "2 sample5-2.06_Nneg sample6-3.18_Nneg   0.1652106   MS71   B73\n",
       "3 sample6-2.26_Nneg sample6-3.18_Nneg   0.1568328    B73   B73\n",
       "4 sample5-2.06_Nneg sample5-3.13_Nneg   0.1293945   MS71  MS71\n",
       "5 sample6-2.26_Nneg sample5-3.13_Nneg   0.1576011    B73  MS71\n",
       "6 sample6-3.18_Nneg sample5-3.13_Nneg   0.1265751    B73  MS71\n",
       "              PlotA             PlotB w_Unif_Dist PlantA PlantB PlantComp\n",
       "1 sample5-2.06_Nneg sample6-2.26_Nneg   0.1544908   MS71    B73  MS71-B73\n",
       "2 sample5-2.06_Nneg sample6-3.18_Nneg   0.1652106   MS71    B73  MS71-B73\n",
       "3 sample6-2.26_Nneg sample6-3.18_Nneg   0.1568328    B73    B73   B73-B73\n",
       "4 sample5-2.06_Nneg sample5-3.13_Nneg   0.1293945   MS71   MS71 MS71-MS71\n",
       "5 sample6-2.26_Nneg sample5-3.13_Nneg   0.1576011    B73   MS71  B73-MS71\n",
       "6 sample6-3.18_Nneg sample5-3.13_Nneg   0.1265751    B73   MS71  B73-MS71\n",
       "                             PlotComp\n",
       "1 sample5-2.06_Nneg-sample6-2.26_Nneg\n",
       "2 sample5-2.06_Nneg-sample6-3.18_Nneg\n",
       "3 sample6-2.26_Nneg-sample6-3.18_Nneg\n",
       "4 sample5-2.06_Nneg-sample5-3.13_Nneg\n",
       "5 sample6-2.26_Nneg-sample5-3.13_Nneg\n",
       "6 sample6-3.18_Nneg-sample5-3.13_Nneg\n"
      ]
     },
     "metadata": {},
     "output_type": "display_data"
    }
   ],
   "source": [
    "%%R\n",
    "#Join with plant names\n",
    "ud.m = left_join(ud.m, sd[, c(1,9)], by = c(\"PlotA\" = \"X.sample\"))\n",
    "head(ud.m) %>% print\n",
    "colnames(ud.m)[4] = \"PlantA\"\n",
    "\n",
    "ud.m = left_join(ud.m, sd[, c(1,9)], by = c(\"PlotB\" = \"X.sample\"))\n",
    "head(ud.m) %>% print\n",
    "colnames(ud.m)[5] = \"PlantB\"\n",
    "ud.m$PlantComp = paste(ud.m$PlantA, ud.m$PlantB, sep = \"-\")\n",
    "\n",
    "#Create plot comparison for joining with functional distance matrix\n",
    "ud.m$PlotComp = paste(ud.m$PlotA, ud.m$PlotB, sep = \"-\")\n",
    "head(ud.m) %>% print"
   ]
  },
  {
   "cell_type": "markdown",
   "metadata": {},
   "source": [
    "## Join with plant phylogenetic distance and functional distance"
   ]
  },
  {
   "cell_type": "code",
   "execution_count": 18,
   "metadata": {
    "collapsed": false
   },
   "outputs": [
    {
     "data": {
      "text/plain": [
       "                PlotA             PlotB w_Unif_Dist PlantA PlantB  PlantComp\n",
       "775 sample8-2.22_Nneg sample8-4.04_Nneg   0.2488823  Tx303   Mo18 Tx303-Mo18\n",
       "776 sample8-3.29_Nneg sample8-4.04_Nneg   0.2682512    Ki3   Mo18   Ki3-Mo18\n",
       "777 sample8-3.28_Nneg sample8-4.04_Nneg   0.2630809  Tx303   Mo18 Tx303-Mo18\n",
       "778 sample6-4.13_Nneg sample8-4.04_Nneg   0.1807210  Hp301   Mo18 Hp301-Mo18\n",
       "779 sample8-1.23_Nneg sample8-4.04_Nneg   0.1509644    Ki3   Mo18   Ki3-Mo18\n",
       "780 sample6-2.14_Nneg sample8-4.04_Nneg   0.2944427  Hp301   Mo18 Hp301-Mo18\n",
       "                               PlotComp gene_Dist\n",
       "775 sample8-2.22_Nneg-sample8-4.04_Nneg 0.1355506\n",
       "776 sample8-3.29_Nneg-sample8-4.04_Nneg 0.1370860\n",
       "777 sample8-3.28_Nneg-sample8-4.04_Nneg 0.1355506\n",
       "778 sample6-4.13_Nneg-sample8-4.04_Nneg 0.1471428\n",
       "779 sample8-1.23_Nneg-sample8-4.04_Nneg 0.1370860\n",
       "780 sample6-2.14_Nneg-sample8-4.04_Nneg 0.1471428\n",
       "                PlotA             PlotB w_Unif_Dist PlantA PlantB  PlantComp\n",
       "775 sample8-2.22_Nneg sample8-4.04_Nneg   0.2488823  Tx303   Mo18 Tx303-Mo18\n",
       "776 sample8-3.29_Nneg sample8-4.04_Nneg   0.2682512    Ki3   Mo18   Ki3-Mo18\n",
       "777 sample8-3.28_Nneg sample8-4.04_Nneg   0.2630809  Tx303   Mo18 Tx303-Mo18\n",
       "778 sample6-4.13_Nneg sample8-4.04_Nneg   0.1807210  Hp301   Mo18 Hp301-Mo18\n",
       "779 sample8-1.23_Nneg sample8-4.04_Nneg   0.1509644    Ki3   Mo18   Ki3-Mo18\n",
       "780 sample6-2.14_Nneg sample8-4.04_Nneg   0.2944427  Hp301   Mo18 Hp301-Mo18\n",
       "                               PlotComp gene_Dist LibraryA DAY_A\n",
       "775 sample8-2.22_Nneg-sample8-4.04_Nneg 0.1355506        2    88\n",
       "776 sample8-3.29_Nneg-sample8-4.04_Nneg 0.1370860        2    88\n",
       "777 sample8-3.28_Nneg-sample8-4.04_Nneg 0.1355506        2    88\n",
       "778 sample6-4.13_Nneg-sample8-4.04_Nneg 0.1471428        2    79\n",
       "779 sample8-1.23_Nneg-sample8-4.04_Nneg 0.1370860        2    88\n",
       "780 sample6-2.14_Nneg-sample8-4.04_Nneg 0.1471428        2    79\n",
       "                PlotA             PlotB w_Unif_Dist PlantA PlantB  PlantComp\n",
       "775 sample8-2.22_Nneg sample8-4.04_Nneg   0.2488823  Tx303   Mo18 Tx303-Mo18\n",
       "776 sample8-3.29_Nneg sample8-4.04_Nneg   0.2682512    Ki3   Mo18   Ki3-Mo18\n",
       "777 sample8-3.28_Nneg sample8-4.04_Nneg   0.2630809  Tx303   Mo18 Tx303-Mo18\n",
       "778 sample6-4.13_Nneg sample8-4.04_Nneg   0.1807210  Hp301   Mo18 Hp301-Mo18\n",
       "779 sample8-1.23_Nneg sample8-4.04_Nneg   0.1509644    Ki3   Mo18   Ki3-Mo18\n",
       "780 sample6-2.14_Nneg sample8-4.04_Nneg   0.2944427  Hp301   Mo18 Hp301-Mo18\n",
       "                               PlotComp gene_Dist LibraryA DAY_A LibraryB DAY_B\n",
       "775 sample8-2.22_Nneg-sample8-4.04_Nneg 0.1355506        2    88        2    88\n",
       "776 sample8-3.29_Nneg-sample8-4.04_Nneg 0.1370860        2    88        2    88\n",
       "777 sample8-3.28_Nneg-sample8-4.04_Nneg 0.1355506        2    88        2    88\n",
       "778 sample6-4.13_Nneg-sample8-4.04_Nneg 0.1471428        2    79        2    88\n",
       "779 sample8-1.23_Nneg-sample8-4.04_Nneg 0.1370860        2    88        2    88\n",
       "780 sample6-2.14_Nneg-sample8-4.04_Nneg 0.1471428        2    79        2    88\n",
       "              PlotA             PlotB w_Unif_Dist PlantA PlantB PlantComp\n",
       "1 sample5-2.06_Nneg sample6-2.26_Nneg   0.1544908   MS71    B73  MS71-B73\n",
       "2 sample5-2.06_Nneg sample6-3.18_Nneg   0.1652106   MS71    B73  MS71-B73\n",
       "3 sample6-2.26_Nneg sample6-3.18_Nneg   0.1568328    B73    B73   B73-B73\n",
       "4 sample5-2.06_Nneg sample5-3.13_Nneg   0.1293945   MS71   MS71 MS71-MS71\n",
       "5 sample6-2.26_Nneg sample5-3.13_Nneg   0.1576011    B73   MS71  B73-MS71\n",
       "6 sample6-3.18_Nneg sample5-3.13_Nneg   0.1265751    B73   MS71  B73-MS71\n",
       "                             PlotComp gene_Dist LibraryA DAY_A LibraryB DAY_B\n",
       "1 sample5-2.06_Nneg-sample6-2.26_Nneg 0.1259195        1    72        1    79\n",
       "2 sample5-2.06_Nneg-sample6-3.18_Nneg 0.1259195        1    72        1    79\n",
       "3 sample6-2.26_Nneg-sample6-3.18_Nneg 0.0000000        1    79        1    79\n",
       "4 sample5-2.06_Nneg-sample5-3.13_Nneg 0.0000000        1    72        1    72\n",
       "5 sample6-2.26_Nneg-sample5-3.13_Nneg 0.1259195        1    79        1    72\n",
       "6 sample6-3.18_Nneg-sample5-3.13_Nneg 0.1259195        1    79        1    72\n",
       "    PC1Dist   PC2Dist    PC3Dist  FunDist     CNdist     Bdist TimeDist\n",
       "1 0.1298754 2.5629095 2.46896104 3.561059 0.10793626 0.1656056        7\n",
       "2 1.6196370 1.5745056 2.44183178 3.326385 0.05028337 0.1083926        7\n",
       "3 1.4897616 0.9884039 0.02712926 1.788035 0.15821962 0.2739983        0\n",
       "4 1.8474549 1.7071701 0.31545516 2.535159 0.31288468 0.2873347        0\n",
       "5 1.7175796 4.2700796 2.15350588 5.081461 0.42082094 0.4529403        7\n",
       "6 0.2278179 3.2816757 2.12637662 3.916985 0.26260132 0.1789420        7\n",
       "  LibraryComp SameDay\n",
       "1           0       1\n",
       "2           0       1\n",
       "3           0       0\n",
       "4           0       0\n",
       "5           0       1\n",
       "6           0       1\n"
      ]
     },
     "metadata": {},
     "output_type": "display_data"
    }
   ],
   "source": [
    "%%R\n",
    "Dist = left_join(ud.m, gd.m[,c(3,4)], by = \"PlantComp\")\n",
    "tail(Dist) %>% print\n",
    "\n",
    "#Join with \n",
    "# Join DAP information and library information\n",
    "Dist = left_join(Dist, sd[,c(1,2,13)], by = c(\"PlotA\" = \"X.sample\"))\n",
    "colnames(Dist)[9:10] = c(\"LibraryA\",\"DAY_A\")\n",
    "tail(Dist) %>% print\n",
    "\n",
    "Dist = left_join(Dist, sd[,c(1,2,13)], by = c(\"PlotB\" = \"X.sample\"))\n",
    "colnames(Dist)[11:12] = c(\"LibraryB\",\"DAY_B\")\n",
    "tail(Dist) %>% print\n",
    "\n",
    "Dist = left_join(Dist, PCA.m[,3:9], by = \"PlotComp\")\n",
    "\n",
    "# set DAY_A and DAY_B as factor\n",
    "Dist$DAY_A = as.factor(Dist$DAY_A)\n",
    "Dist$DAY_B = as.factor(Dist$DAY_B)\n",
    "Dist$TimeDist = abs(as.numeric(as.character(Dist$DAY_A)) - as.numeric(as.character(Dist$DAY_B)))\n",
    "\n",
    "#create factor for cross library comps and same day comps\n",
    "Dist$LibraryComp = ifelse(Dist$LibraryA == Dist$LibraryB, 0, 1) %>% as.factor\n",
    "Dist$SameDay = ifelse(Dist$DAY_A == Dist$DAY_B, 0, 1) %>% as.factor\n",
    "\n",
    "head(Dist)"
   ]
  },
  {
   "cell_type": "markdown",
   "metadata": {},
   "source": [
    "# Build corMLPE models"
   ]
  },
  {
   "cell_type": "markdown",
   "metadata": {},
   "source": [
    "## corMLPE models without random effects"
   ]
  },
  {
   "cell_type": "code",
   "execution_count": 19,
   "metadata": {
    "collapsed": false
   },
   "outputs": [
    {
     "data": {
      "text/plain": [
       "'data.frame':\t780 obs. of  21 variables:\n",
       " $ PlotA      : chr  \"sample5-2.06_Nneg\" \"sample5-2.06_Nneg\" \"sample6-2.26_Nneg\" \"sample5-2.06_Nneg\" ...\n",
       " $ PlotB      : chr  \"sample6-2.26_Nneg\" \"sample6-3.18_Nneg\" \"sample6-3.18_Nneg\" \"sample5-3.13_Nneg\" ...\n",
       " $ w_Unif_Dist: num  0.154 0.165 0.157 0.129 0.158 ...\n",
       " $ PlantA     : chr  \"MS71\" \"MS71\" \"B73\" \"MS71\" ...\n",
       " $ PlantB     : chr  \"B73\" \"B73\" \"B73\" \"MS71\" ...\n",
       " $ PlantComp  : chr  \"MS71-B73\" \"MS71-B73\" \"B73-B73\" \"MS71-MS71\" ...\n",
       " $ PlotComp   : chr  \"sample5-2.06_Nneg-sample6-2.26_Nneg\" \"sample5-2.06_Nneg-sample6-3.18_Nneg\" \"sample6-2.26_Nneg-sample6-3.18_Nneg\" \"sample5-2.06_Nneg-sample5-3.13_Nneg\" ...\n",
       " $ gene_Dist  : num  0.126 0.126 0 0 0.126 ...\n",
       " $ LibraryA   : int  1 1 1 1 1 1 1 1 1 1 ...\n",
       " $ DAY_A      : Factor w/ 3 levels \"72\",\"79\",\"88\": 1 1 2 1 2 2 1 2 2 1 ...\n",
       " $ LibraryB   : int  1 1 1 1 1 1 1 1 1 1 ...\n",
       " $ DAY_B      : Factor w/ 3 levels \"72\",\"79\",\"88\": 2 2 2 1 1 1 1 1 1 1 ...\n",
       " $ PC1Dist    : num  0.13 1.62 1.49 1.85 1.72 ...\n",
       " $ PC2Dist    : num  2.563 1.575 0.988 1.707 4.27 ...\n",
       " $ PC3Dist    : num  2.469 2.4418 0.0271 0.3155 2.1535 ...\n",
       " $ FunDist    : num  3.56 3.33 1.79 2.54 5.08 ...\n",
       " $ CNdist     : num  0.1079 0.0503 0.1582 0.3129 0.4208 ...\n",
       " $ Bdist      : num  0.166 0.108 0.274 0.287 0.453 ...\n",
       " $ TimeDist   : num  7 7 0 0 7 7 0 7 7 0 ...\n",
       " $ LibraryComp: Factor w/ 2 levels \"0\",\"1\": 1 1 1 1 1 1 1 1 1 1 ...\n",
       " $ SameDay    : Factor w/ 2 levels \"0\",\"1\": 2 2 1 1 2 2 1 2 2 1 ...\n"
      ]
     },
     "metadata": {},
     "output_type": "display_data"
    }
   ],
   "source": [
    "%%R\n",
    "str(Dist)"
   ]
  },
  {
   "cell_type": "code",
   "execution_count": 20,
   "metadata": {
    "collapsed": true
   },
   "outputs": [],
   "source": [
    "%%R\n",
    "Data = filter(Dist, gene_Dist != 0) "
   ]
  },
  {
   "cell_type": "code",
   "execution_count": 32,
   "metadata": {
    "collapsed": false
   },
   "outputs": [
    {
     "name": "stdout",
     "output_type": "stream",
     "text": [
      "The history saving thread hit an unexpected error (OperationalError('database is locked',)).History will not be written to the database.\n"
     ]
    }
   ],
   "source": [
    "%%R\n",
    "Data = Dist\n",
    "#Base models\n",
    "fit1 =  gls(w_Unif_Dist ~ gene_Dist, correlation = corMLPE(form= ~ PlotA + PlotB), data = Data)\n",
    "Z <- corZ(fit2) #extract correlation structure from previous fit"
   ]
  },
  {
   "cell_type": "code",
   "execution_count": 21,
   "metadata": {
    "collapsed": false
   },
   "outputs": [],
   "source": [
    "%%R\n",
    "#Base models\n",
    "fit1 =  gls(w_Unif_Dist ~ 1, correlation = corMLPE(form= ~ PlotA + PlotB), data = Data)\n",
    "Z <- corZ(fit1) #extract correlation structure from previous fit"
   ]
  },
  {
   "cell_type": "code",
   "execution_count": 22,
   "metadata": {
    "collapsed": false
   },
   "outputs": [
    {
     "data": {
      "text/plain": [
       "Generalized least squares fit by REML\n",
       "  Model: w_Unif_Dist ~ 1 \n",
       "  Data: Data \n",
       "        AIC       BIC   logLik\n",
       "  -2775.158 -2761.424 1390.579\n",
       "\n",
       "Correlation Structure: corMLPE\n",
       " Formula: ~PlotA + PlotB \n",
       " Parameter estimate(s):\n",
       "      Rho \n",
       "0.3198367 \n",
       "\n",
       "Coefficients:\n",
       "                Value   Std.Error  t-value p-value\n",
       "(Intercept) 0.2076891 0.009516128 21.82496       0\n",
       "\n",
       "Standardized residuals:\n",
       "       Min         Q1        Med         Q3        Max \n",
       "-1.6986396 -0.7477845 -0.1698686  0.5730852  3.2261110 \n",
       "\n",
       "Residual standard error: 0.05279888 \n",
       "Degrees of freedom: 720 total; 719 residual\n"
      ]
     },
     "metadata": {},
     "output_type": "display_data"
    }
   ],
   "source": [
    "%%R\n",
    "summary(fit1)"
   ]
  },
  {
   "cell_type": "code",
   "execution_count": 23,
   "metadata": {
    "collapsed": false,
    "scrolled": false
   },
   "outputs": [
    {
     "data": {
      "text/plain": [
       "Generalized least squares fit by REML\n",
       "  Model: w_Unif_Dist ~ TimeDist + SameDay + LibraryComp \n",
       "  Data: Data \n",
       "        AIC       BIC   logLik\n",
       "  -2737.856 -2710.414 1374.928\n",
       "\n",
       "Correlation Structure: corMLPE\n",
       " Formula: ~PlotA + PlotB \n",
       " Parameter estimate(s):\n",
       "      Rho \n",
       "0.3212053 \n",
       "\n",
       "Coefficients:\n",
       "                   Value   Std.Error   t-value p-value\n",
       "(Intercept)   0.20564984 0.009806707 20.970326  0.0000\n",
       "TimeDist     -0.00052820 0.000566258 -0.932792  0.3512\n",
       "SameDay1      0.00569633 0.005475127  1.040401  0.2985\n",
       "LibraryComp1  0.00338605 0.003243685  1.043889  0.2969\n",
       "\n",
       " Correlation: \n",
       "             (Intr) TimDst SamDy1\n",
       "TimeDist      0.016              \n",
       "SameDay1     -0.101 -0.848       \n",
       "LibraryComp1 -0.066 -0.566  0.326\n",
       "\n",
       "Standardized residuals:\n",
       "       Min         Q1        Med         Q3        Max \n",
       "-1.7174237 -0.7592236 -0.1819536  0.5971622  3.2387181 \n",
       "\n",
       "Residual standard error: 0.05302813 \n",
       "Degrees of freedom: 720 total; 716 residual\n"
      ]
     },
     "metadata": {},
     "output_type": "display_data"
    }
   ],
   "source": [
    "%%R\n",
    "#Controlling for time and batch effects, using same correlation structure\n",
    "fit2 =  gls(w_Unif_Dist ~ TimeDist + SameDay + LibraryComp, \n",
    "             correlation = corMLPE(value = 0.2, form= ~ PlotA + PlotB, Z = Z), data = Data)\n",
    "summary(fit2)\n"
   ]
  },
  {
   "cell_type": "code",
   "execution_count": 24,
   "metadata": {
    "collapsed": false
   },
   "outputs": [
    {
     "data": {
      "text/plain": [
       "Generalized least squares fit by REML\n",
       "  Model: w_Unif_Dist ~ TimeDist + SameDay + LibraryComp + PC1Dist + PC2Dist +      PC3Dist \n",
       "  Data: Data \n",
       "        AIC       BIC   logLik\n",
       "  -2701.572 -2660.447 1359.786\n",
       "\n",
       "Correlation Structure: corMLPE\n",
       " Formula: ~PlotA + PlotB \n",
       " Parameter estimate(s):\n",
       "     Rho \n",
       "0.323572 \n",
       "\n",
       "Coefficients:\n",
       "                   Value   Std.Error   t-value p-value\n",
       "(Intercept)   0.20347630 0.010699867 19.016713  0.0000\n",
       "TimeDist     -0.00043814 0.000571579 -0.766549  0.4436\n",
       "SameDay1      0.00486781 0.005538813  0.878854  0.3798\n",
       "LibraryComp1  0.00286957 0.003326861  0.862547  0.3887\n",
       "PC1Dist       0.00114840 0.001469054  0.781727  0.4346\n",
       "PC2Dist       0.00148089 0.001769658  0.836823  0.4030\n",
       "PC3Dist      -0.00175339 0.002679952 -0.654262  0.5132\n",
       "\n",
       " Correlation: \n",
       "             (Intr) TimDst SamDy1 LbrrC1 PC1Dst PC2Dst\n",
       "TimeDist      0.006                                   \n",
       "SameDay1     -0.096 -0.850                            \n",
       "LibraryComp1  0.000 -0.565  0.331                     \n",
       "PC1Dist      -0.250  0.029  0.009 -0.030              \n",
       "PC2Dist      -0.193  0.099 -0.106 -0.212  0.017       \n",
       "PC3Dist      -0.226 -0.082  0.104 -0.055  0.064 -0.007\n",
       "\n",
       "Standardized residuals:\n",
       "       Min         Q1        Med         Q3        Max \n",
       "-1.7241161 -0.7412626 -0.1734023  0.5824466  3.2533809 \n",
       "\n",
       "Residual standard error: 0.05339933 \n",
       "Degrees of freedom: 720 total; 713 residual\n"
      ]
     },
     "metadata": {},
     "output_type": "display_data"
    }
   ],
   "source": [
    "%%R\n",
    "#Hypothesis testing functional distance\n",
    "fit3 =  gls(w_Unif_Dist ~ TimeDist + SameDay + LibraryComp + PC1Dist + PC2Dist + PC3Dist, \n",
    "             correlation = corMLPE(value = 0.2, form= ~ PlotA + PlotB, Z = Z), data = Data)\n",
    "summary(fit3)"
   ]
  },
  {
   "cell_type": "code",
   "execution_count": 31,
   "metadata": {
    "collapsed": false
   },
   "outputs": [
    {
     "data": {
      "text/plain": [
       "Generalized least squares fit by REML\n",
       "  Model: w_Unif_Dist ~ gene_Dist \n",
       "  Data: Data \n",
       "        AIC       BIC   logLik\n",
       "  -2772.892 -2754.586 1390.446\n",
       "\n",
       "Correlation Structure: corMLPE\n",
       " Formula: ~PlotA + PlotB \n",
       " Parameter estimate(s):\n",
       "      Rho \n",
       "0.3169767 \n",
       "\n",
       "Coefficients:\n",
       "                Value  Std.Error  t-value p-value\n",
       "(Intercept) 0.1821804 0.04104625 4.438417  0.0000\n",
       "gene_Dist   0.1828523 0.28639080 0.638471  0.5234\n",
       "\n",
       " Correlation: \n",
       "          (Intr)\n",
       "gene_Dist -0.973\n",
       "\n",
       "Standardized residuals:\n",
       "       Min         Q1        Med         Q3        Max \n",
       "-1.7148356 -0.7483326 -0.1672298  0.5883195  3.1881563 \n",
       "\n",
       "Residual standard error: 0.05244076 \n",
       "Degrees of freedom: 720 total; 718 residual\n"
      ]
     },
     "metadata": {},
     "output_type": "display_data"
    }
   ],
   "source": [
    "%%R\n",
    "#H2: phylogenetic dist\n",
    "fit4 =  gls(w_Unif_Dist ~  gene_Dist, \n",
    "            correlation = corMLPE(form= ~ PlotA + PlotB), data = Data)\n",
    "summary(fit4)"
   ]
  },
  {
   "cell_type": "code",
   "execution_count": 26,
   "metadata": {
    "collapsed": false
   },
   "outputs": [
    {
     "data": {
      "text/plain": [
       "Generalized least squares fit by REML\n",
       "  Model: w_Unif_Dist ~ poly(gene_Dist, 2) \n",
       "  Data: Data \n",
       "        AIC       BIC   logLik\n",
       "  -2771.366 -2748.491 1390.683\n",
       "\n",
       "Correlation Structure: corMLPE\n",
       " Formula: ~PlotA + PlotB \n",
       " Parameter estimate(s):\n",
       "      Rho \n",
       "0.3138539 \n",
       "\n",
       "Coefficients:\n",
       "                         Value  Std.Error   t-value p-value\n",
       "(Intercept)         0.20768913 0.00924522 22.464488  0.0000\n",
       "poly(gene_Dist, 2)1 0.04066805 0.05623457  0.723186  0.4698\n",
       "poly(gene_Dist, 2)2 0.10271714 0.03494037  2.939784  0.0034\n",
       "\n",
       " Correlation: \n",
       "                    (Intr) p(_D,2)1\n",
       "poly(gene_Dist, 2)1 0.000          \n",
       "poly(gene_Dist, 2)2 0.000  0.021   \n",
       "\n",
       "Standardized residuals:\n",
       "       Min         Q1        Med         Q3        Max \n",
       "-1.6907727 -0.7566068 -0.1580642  0.6118045  3.2570820 \n",
       "\n",
       "Residual standard error: 0.0517613 \n",
       "Degrees of freedom: 720 total; 717 residual\n"
      ]
     },
     "metadata": {},
     "output_type": "display_data"
    }
   ],
   "source": [
    "%%R\n",
    "fit5 =  gls(w_Unif_Dist ~   poly(gene_Dist,2), \n",
    "             correlation = corMLPE(value = 0.2, form= ~ PlotA + PlotB, Z = Z), data = Data)\n",
    "summary(fit5)"
   ]
  },
  {
   "cell_type": "code",
   "execution_count": 27,
   "metadata": {
    "collapsed": false
   },
   "outputs": [
    {
     "data": {
      "text/plain": [
       "Generalized least squares fit by REML\n",
       "  Model: w_Unif_Dist ~ TimeDist + gene_Dist + SameDay + LibraryComp +      PC1Dist + PC2Dist + PC3Dist \n",
       "  Data: Data \n",
       "        AIC       BIC   logLik\n",
       "  -2699.677 -2653.996 1359.838\n",
       "\n",
       "Correlation Structure: corMLPE\n",
       " Formula: ~PlotA + PlotB \n",
       " Parameter estimate(s):\n",
       "      Rho \n",
       "0.3214679 \n",
       "\n",
       "Coefficients:\n",
       "                   Value Std.Error   t-value p-value\n",
       "(Intercept)   0.18438519 0.0545893  3.377681  0.0008\n",
       "TimeDist     -0.00052367 0.0006223 -0.841479  0.4004\n",
       "gene_Dist     0.14125100 0.3956215  0.357036  0.7212\n",
       "SameDay1      0.00527800 0.0056688  0.931058  0.3521\n",
       "LibraryComp1  0.00254817 0.0034428  0.740136  0.4595\n",
       "PC1Dist       0.00114027 0.0014701  0.775640  0.4382\n",
       "PC2Dist       0.00141667 0.0017781  0.796733  0.4259\n",
       "PC3Dist      -0.00175759 0.0026823 -0.655260  0.5125\n",
       "\n",
       " Correlation: \n",
       "             (Intr) TimDst gn_Dst SamDy1 LbrrC1 PC1Dst PC2Dst\n",
       "TimeDist      0.387                                          \n",
       "gene_Dist    -0.981 -0.394                                   \n",
       "SameDay1     -0.223 -0.846  0.209                            \n",
       "LibraryComp1  0.249 -0.402 -0.254  0.261                     \n",
       "PC1Dist      -0.049  0.026  0.000  0.009 -0.029              \n",
       "PC2Dist       0.051  0.126 -0.090 -0.122 -0.181  0.016       \n",
       "PC3Dist      -0.044 -0.075  0.000  0.102 -0.053  0.064 -0.007\n",
       "\n",
       "Standardized residuals:\n",
       "       Min         Q1        Med         Q3        Max \n",
       "-1.7365011 -0.7435101 -0.1756965  0.5814582  3.2363474 \n",
       "\n",
       "Residual standard error: 0.05314225 \n",
       "Degrees of freedom: 720 total; 712 residual\n"
      ]
     },
     "metadata": {},
     "output_type": "display_data"
    }
   ],
   "source": [
    "%%R\n",
    "#H3: combined phylogenetic distance and functional\n",
    "fit6=  gls(w_Unif_Dist ~ TimeDist + gene_Dist + SameDay + LibraryComp + PC1Dist + PC2Dist + PC3Dist, \n",
    "             correlation = corMLPE(value = 0.2, form= ~ PlotA + PlotB, Z = Z), data = Data)\n",
    "summary(fit6)"
   ]
  },
  {
   "cell_type": "code",
   "execution_count": 28,
   "metadata": {
    "collapsed": false,
    "hide_input": false,
    "scrolled": true
   },
   "outputs": [
    {
     "data": {
      "text/plain": [
       "     Model df       AIC       BIC   logLik   Test  L.Ratio p-value\n",
       "fit1     1  3 -2775.158 -2761.424 1390.579                        \n",
       "fit2     2  6 -2737.856 -2710.414 1374.928 1 vs 2 31.30153  <.0001\n",
       "fit3     3  9 -2701.572 -2660.447 1359.786 2 vs 3 30.28405  <.0001\n",
       "fit4     4  4 -2772.892 -2754.586 1390.446 3 vs 4 61.31943  <.0001\n",
       "fit5     5  5 -2771.366 -2748.491 1390.683 4 vs 5  0.47457  0.4909\n",
       "fit6     6 10 -2699.677 -2653.996 1359.838 5 vs 6 61.68959  <.0001\n"
      ]
     },
     "metadata": {},
     "output_type": "display_data"
    }
   ],
   "source": [
    "%%R\n",
    "anova(fit1, fit2, fit3, fit4, fit5, fit6)"
   ]
  },
  {
   "cell_type": "markdown",
   "metadata": {},
   "source": [
    "Notes: Genetic distance^2 is the best model on NAM lines"
   ]
  },
  {
   "cell_type": "code",
   "execution_count": 29,
   "metadata": {
    "collapsed": false,
    "scrolled": true
   },
   "outputs": [
    {
     "data": {
      "image/png": "[encoded data removed]"
     },
     "metadata": {},
     "output_type": "display_data"
    }
   ],
   "source": [
    "%%R\n",
    "plot(fit5)"
   ]
  },
  {
   "cell_type": "code",
   "execution_count": 30,
   "metadata": {
    "collapsed": false,
    "hide_input": true
   },
   "outputs": [
    {
     "data": {
      "image/png": "[encoded data removed]"
     },
     "metadata": {},
     "output_type": "display_data"
    }
   ],
   "source": [
    "%%R\n",
    "test <- function(x) {0.165*x ^ 2 + 0.0856*x + 0.205}\n",
    "\n",
    "\n",
    "Data = filter(Dist, gene_Dist != 0)                \n",
    "p = ggplot(Data, aes(y = w_Unif_Dist, x = gene_Dist)) \n",
    "p = p + geom_point() #aes(size = phy_Dist), shape = 1)\n",
    "#p = p + stat_smooth(method = \"lm\", formula = y~.29x -.236x^2 + .204, se = FALSE)\n",
    "p = p + theme_bw(base_size = 16)\n",
    "p = p + ggtitle(\"NAM line genetic distance vs Microbial Community Dissimilarity \")\n",
    "#p = p + stat_smooth(method = lm, se = FALSE)\n",
    "p = p + stat_function(fun = test)\n",
    "p"
   ]
  },
  {
   "cell_type": "markdown",
   "metadata": {},
   "source": [
    "### Not used, but if date/combo is random effect:"
   ]
  },
  {
   "cell_type": "code",
   "execution_count": 50,
   "metadata": {
    "collapsed": false
   },
   "outputs": [
    {
     "data": {
      "text/plain": [
       "[1] \"72-79\" \"79-79\" \"72-72\" \"72-88\" \"79-88\" \"88-88\"\n"
      ]
     },
     "metadata": {},
     "output_type": "display_data"
    }
   ],
   "source": [
    "%%R\n",
    "Dist$DateCombo = ifelse(as.numeric(as.character(Dist$DAY_A)) < as.numeric(as.character(Dist$DAY_B)),\n",
    "                                                                    paste(Dist$DAY_A, Dist$DAY_B, sep = \"-\"), \n",
    "                                                                   paste(Dist$DAY_B, Dist$DAY_A, sep = \"-\"))\n",
    "Dist$DateCombo %>% unique\n"
   ]
  },
  {
   "cell_type": "code",
   "execution_count": 51,
   "metadata": {
    "collapsed": false,
    "scrolled": false
   },
   "outputs": [
    {
     "data": {
      "image/png": "[encoded data removed]"
     },
     "metadata": {},
     "output_type": "display_data"
    }
   ],
   "source": [
    "%%R\n",
    "\n",
    "p = ggplot(Dist, aes(x = gene_Dist, y = w_Unif_Dist))\n",
    "           p = p + geom_point()\n",
    "        p = p + stat_smooth(method = \"lm\", se = FALSE)\n",
    "           p = p + facet_wrap(~DateCombo)\n",
    "           p"
   ]
  },
  {
   "cell_type": "code",
   "execution_count": null,
   "metadata": {
    "collapsed": true
   },
   "outputs": [],
   "source": [
    "# GLS model on early subset of plants"
   ]
  },
  {
   "cell_type": "code",
   "execution_count": 96,
   "metadata": {
    "collapsed": false
   },
   "outputs": [
    {
     "data": {
      "text/plain": [
       "[1] 72 61 36 79 53 57 88 84\n",
       "Levels: 36 53 57 61 72 79 84 88\n"
      ]
     },
     "metadata": {},
     "output_type": "display_data"
    }
   ],
   "source": [
    "%%R\n",
    "Dist$DAY_A %>% unique"
   ]
  },
  {
   "cell_type": "code",
   "execution_count": 100,
   "metadata": {
    "collapsed": true
   },
   "outputs": [
    {
     "data": {
      "text/plain": [
       "[1] 3741   21\n",
       "[1] 171  21\n",
       "[1] SETFA AMAPO GLYMA ABUTH ECHCG\n",
       "Levels: ABUTH AMAPO ECHCG GLYMA SETFA\n"
      ]
     },
     "metadata": {},
     "output_type": "display_data"
    }
   ],
   "source": [
    "%%R\n",
    "dim(Dist) %>% print\n",
    "SubDist = filter(Dist, DAY_A %in% c( \"53\", \"57\", \"61\") & DAY_B %in% c( \"53\", \"57\", \"61\"))\n",
    "\n",
    "\n",
    "dim(SubDist) %>% print\n",
    "SubDist$PlantA %>% unique"
   ]
  },
  {
   "cell_type": "code",
   "execution_count": 102,
   "metadata": {
    "collapsed": false
   },
   "outputs": [],
   "source": [
    "%%R\n",
    "#null model\n",
    "fit1=  gls(w_Unif_Dist ~ 1, \n",
    "             correlation = corMLPE(form= ~ PlotA + PlotB), data = SubDist)\n"
   ]
  },
  {
   "cell_type": "code",
   "execution_count": 103,
   "metadata": {
    "collapsed": true
   },
   "outputs": [
    {
     "data": {
      "text/plain": [
       "Generalized least squares fit by REML\n",
       "  Model: w_Unif_Dist ~ TimeDist + SameDay + LibraryComp \n",
       "  Data: SubDist \n",
       "        AIC       BIC   logLik\n",
       "  -558.3834 -539.6754 285.1917\n",
       "\n",
       "Correlation Structure: corMLPE\n",
       " Formula: ~PlotA + PlotB \n",
       " Parameter estimate(s):\n",
       "     Rho \n",
       "0.356982 \n",
       "\n",
       "Coefficients:\n",
       "                   Value   Std.Error   t-value p-value\n",
       "(Intercept)   0.22358741 0.018897504 11.831584  0.0000\n",
       "TimeDist     -0.00119564 0.002296805 -0.520568  0.6034\n",
       "SameDay1      0.02971877 0.012062939  2.463643  0.0148\n",
       "LibraryComp1  0.00915773 0.005825444  1.572022  0.1178\n",
       "\n",
       " Correlation: \n",
       "             (Intr) TimDst SamDy1\n",
       "TimeDist     -0.029              \n",
       "SameDay1     -0.079 -0.869       \n",
       "LibraryComp1 -0.147 -0.026  0.015\n",
       "\n",
       "Standardized residuals:\n",
       "       Min         Q1        Med         Q3        Max \n",
       "-1.7777706 -0.7161677 -0.1849241  0.7073944  2.6578120 \n",
       "\n",
       "Residual standard error: 0.0658017 \n",
       "Degrees of freedom: 171 total; 167 residual\n"
      ]
     },
     "metadata": {},
     "output_type": "display_data"
    }
   ],
   "source": [
    "%%R\n",
    "fit2=  gls(w_Unif_Dist ~ TimeDist + SameDay + LibraryComp, \n",
    "             correlation = corMLPE(form= ~ PlotA + PlotB), data = SubDist)\n",
    "summary(fit2)"
   ]
  },
  {
   "cell_type": "code",
   "execution_count": 105,
   "metadata": {
    "collapsed": true
   },
   "outputs": [
    {
     "data": {
      "text/plain": [
       "Generalized least squares fit by REML\n",
       "  Model: w_Unif_Dist ~ TimeDist + SameDay + LibraryComp + phy_Dist \n",
       "  Data: SubDist \n",
       "        AIC       BIC   logLik\n",
       "  -560.7067 -538.9227 287.3533\n",
       "\n",
       "Correlation Structure: corMLPE\n",
       " Formula: ~PlotA + PlotB \n",
       " Parameter estimate(s):\n",
       "      Rho \n",
       "0.3627573 \n",
       "\n",
       "Coefficients:\n",
       "                  Value   Std.Error   t-value p-value\n",
       "(Intercept)  0.21420874 0.019033895 11.254068  0.0000\n",
       "TimeDist     0.00102593 0.002330110  0.440291  0.6603\n",
       "SameDay1     0.00752057 0.013547030  0.555146  0.5795\n",
       "LibraryComp1 0.00662430 0.005704172  1.161308  0.2472\n",
       "phy_Dist     0.06718911 0.020710308  3.244235  0.0014\n",
       "\n",
       " Correlation: \n",
       "             (Intr) TimDst SamDy1 LbrrC1\n",
       "TimeDist     -0.071                     \n",
       "SameDay1      0.011 -0.865              \n",
       "LibraryComp1 -0.120 -0.064  0.081       \n",
       "phy_Dist     -0.152  0.292 -0.504 -0.136\n",
       "\n",
       "Standardized residuals:\n",
       "       Min         Q1        Med         Q3        Max \n",
       "-1.6430402 -0.7702305 -0.2033792  0.6725299  2.7076473 \n",
       "\n",
       "Residual standard error: 0.065147 \n",
       "Degrees of freedom: 171 total; 166 residual\n"
      ]
     },
     "metadata": {},
     "output_type": "display_data"
    }
   ],
   "source": [
    "%%R\n",
    "fit3=  gls(w_Unif_Dist ~ TimeDist + SameDay + LibraryComp + phy_Dist, \n",
    "             correlation = corMLPE(form= ~ PlotA + PlotB), data = SubDist)\n",
    "summary(fit3)"
   ]
  },
  {
   "cell_type": "code",
   "execution_count": 106,
   "metadata": {
    "collapsed": true
   },
   "outputs": [
    {
     "data": {
      "text/plain": [
       "Generalized least squares fit by REML\n",
       "  Model: w_Unif_Dist ~ TimeDist + SameDay + LibraryComp + poly(phy_Dist,      2) \n",
       "  Data: SubDist \n",
       "        AIC       BIC   logLik\n",
       "  -557.8762 -533.0287 286.9381\n",
       "\n",
       "Correlation Structure: corMLPE\n",
       " Formula: ~PlotA + PlotB \n",
       " Parameter estimate(s):\n",
       "      Rho \n",
       "0.3646452 \n",
       "\n",
       "Coefficients:\n",
       "                        Value  Std.Error   t-value p-value\n",
       "(Intercept)        0.22925310 0.01923898 11.916071  0.0000\n",
       "TimeDist           0.00134741 0.00233329  0.577473  0.5644\n",
       "SameDay1           0.00813732 0.01350649  0.602475  0.5477\n",
       "LibraryComp1       0.00998889 0.00618804  1.614226  0.1084\n",
       "poly(phy_Dist, 2)1 0.13498897 0.04264280  3.165575  0.0018\n",
       "poly(phy_Dist, 2)2 0.06828781 0.04957842  1.377370  0.1703\n",
       "\n",
       " Correlation: \n",
       "                   (Intr) TimDst SamDy1 LbrrC1 p(_D,2)1\n",
       "TimeDist            0.003                              \n",
       "SameDay1           -0.140 -0.857                       \n",
       "LibraryComp1       -0.192 -0.020  0.088                \n",
       "poly(phy_Dist, 2)1  0.148  0.284 -0.505 -0.149         \n",
       "poly(phy_Dist, 2)2 -0.119  0.098  0.034  0.395 -0.061  \n",
       "\n",
       "Standardized residuals:\n",
       "       Min         Q1        Med         Q3        Max \n",
       "-1.5609357 -0.7760955 -0.1835890  0.6875919  2.7957658 \n",
       "\n",
       "Residual standard error: 0.06535918 \n",
       "Degrees of freedom: 171 total; 165 residual\n"
      ]
     },
     "metadata": {},
     "output_type": "display_data"
    }
   ],
   "source": [
    "%%R\n",
    "fit4=  gls(w_Unif_Dist ~ TimeDist + SameDay + LibraryComp + poly(phy_Dist,2), \n",
    "             correlation = corMLPE(form= ~ PlotA + PlotB), data = SubDist)\n",
    "summary(fit4)"
   ]
  },
  {
   "cell_type": "code",
   "execution_count": 119,
   "metadata": {
    "collapsed": true
   },
   "outputs": [
    {
     "data": {
      "text/plain": [
       "Generalized least squares fit by REML\n",
       "  Model: w_Unif_Dist ~ TimeDist + SameDay + LibraryComp + PC1Dist + PC2Dist +      PC3Dist \n",
       "  Data: SubDist \n",
       "        AIC       BIC   logLik\n",
       "  -529.7526 -501.8538 273.8763\n",
       "\n",
       "Correlation Structure: corMLPE\n",
       " Formula: ~PlotA + PlotB \n",
       " Parameter estimate(s):\n",
       "      Rho \n",
       "0.3603851 \n",
       "\n",
       "Coefficients:\n",
       "                   Value   Std.Error   t-value p-value\n",
       "(Intercept)   0.21209783 0.020575481 10.308281  0.0000\n",
       "TimeDist      0.00043629 0.002520871  0.173071  0.8628\n",
       "SameDay1      0.01742434 0.014620250  1.191795  0.2351\n",
       "LibraryComp1  0.00878378 0.005891002  1.491051  0.1379\n",
       "PC1Dist      -0.00034934 0.004702405 -0.074289  0.9409\n",
       "PC2Dist       0.01099331 0.007809805  1.407630  0.1611\n",
       "PC3Dist       0.00572024 0.004948599  1.155932  0.2494\n",
       "\n",
       " Correlation: \n",
       "             (Intr) TimDst SamDy1 LbrrC1 PC1Dst PC2Dst\n",
       "TimeDist     -0.127                                   \n",
       "SameDay1      0.066 -0.886                            \n",
       "LibraryComp1 -0.133 -0.066  0.076                     \n",
       "PC1Dist      -0.164 -0.108  0.188  0.073              \n",
       "PC2Dist      -0.220  0.216 -0.272  0.037 -0.212       \n",
       "PC3Dist      -0.169  0.387 -0.539 -0.140 -0.298  0.183\n",
       "\n",
       "Standardized residuals:\n",
       "       Min         Q1        Med         Q3        Max \n",
       "-1.8169920 -0.7500008 -0.1742062  0.7049876  2.5311376 \n",
       "\n",
       "Residual standard error: 0.06647348 \n",
       "Degrees of freedom: 171 total; 164 residual\n"
      ]
     },
     "metadata": {},
     "output_type": "display_data"
    }
   ],
   "source": [
    "%%R\n",
    "#H3: combined phylogenetic distance and functional\n",
    "fit5=  gls(w_Unif_Dist ~ TimeDist + SameDay + LibraryComp + PC1Dist + PC2Dist + PC3Dist, \n",
    "             correlation = corMLPE(form= ~ PlotA + PlotB), data = SubDist)\n",
    "summary(fit5)"
   ]
  },
  {
   "cell_type": "code",
   "execution_count": 121,
   "metadata": {
    "collapsed": true
   },
   "outputs": [
    {
     "data": {
      "text/plain": [
       "Generalized least squares fit by REML\n",
       "  Model: w_Unif_Dist ~ TimeDist + SameDay + LibraryComp + phy_Dist + PC1Dist +      PC2Dist + PC3Dist \n",
       "  Data: SubDist \n",
       "        AIC       BIC   logLik\n",
       "  -529.4817 -498.5442 274.7408\n",
       "\n",
       "Correlation Structure: corMLPE\n",
       " Formula: ~PlotA + PlotB \n",
       " Parameter estimate(s):\n",
       "      Rho \n",
       "0.3606082 \n",
       "\n",
       "Coefficients:\n",
       "                   Value   Std.Error   t-value p-value\n",
       "(Intercept)   0.21368892 0.020203749 10.576696  0.0000\n",
       "TimeDist      0.00144190 0.002499286  0.576924  0.5648\n",
       "SameDay1      0.00415998 0.015134303  0.274871  0.7838\n",
       "LibraryComp1  0.00635018 0.005845120  1.086407  0.2789\n",
       "phy_Dist      0.06511136 0.023784881  2.737510  0.0069\n",
       "PC1Dist      -0.00212631 0.004657169 -0.456567  0.6486\n",
       "PC2Dist       0.00235977 0.008283370  0.284880  0.7761\n",
       "PC3Dist       0.00219554 0.005021096  0.437263  0.6625\n",
       "\n",
       " Correlation: \n",
       "             (Intr) TimDst SamDy1 LbrrC1 phy_Ds PC1Dst PC2Dst\n",
       "TimeDist     -0.121                                          \n",
       "SameDay1      0.053 -0.877                                   \n",
       "LibraryComp1 -0.136 -0.087  0.120                            \n",
       "phy_Dist      0.029  0.147 -0.320 -0.152                     \n",
       "PC1Dist      -0.166 -0.126  0.221  0.092 -0.140              \n",
       "PC2Dist      -0.214  0.142 -0.116  0.092 -0.381 -0.141       \n",
       "PC3Dist      -0.171  0.332 -0.411 -0.095 -0.256 -0.250  0.261\n",
       "\n",
       "Standardized residuals:\n",
       "       Min         Q1        Med         Q3        Max \n",
       "-1.6777667 -0.7684998 -0.1896968  0.6623248  2.6763786 \n",
       "\n",
       "Residual standard error: 0.06523987 \n",
       "Degrees of freedom: 171 total; 163 residual\n"
      ]
     },
     "metadata": {},
     "output_type": "display_data"
    }
   ],
   "source": [
    "%%R\n",
    "fit6=  gls(w_Unif_Dist ~ TimeDist + SameDay + LibraryComp + phy_Dist + PC1Dist + PC2Dist + PC3Dist, \n",
    "             correlation = corMLPE(form= ~ PlotA + PlotB), data = SubDist)\n",
    "summary(fit6)"
   ]
  },
  {
   "cell_type": "markdown",
   "metadata": {},
   "source": [
    "# Subset of late season plants"
   ]
  },
  {
   "cell_type": "code",
   "execution_count": 142,
   "metadata": {
    "collapsed": false
   },
   "outputs": [
    {
     "data": {
      "text/plain": [
       "[1] 3741   21\n",
       "[1] 378  21\n",
       "[1] MS71   ERATE  ELCOR  SORSUD SORBI  HELAN  Mo18  \n",
       "Levels: ELCOR ERATE HELAN Mo18 MS71 SORBI SORSUD\n"
      ]
     },
     "metadata": {},
     "output_type": "display_data"
    }
   ],
   "source": [
    "%%R\n",
    "dim(Dist) %>% print\n",
    "SubDist = filter(Dist, PlantA %in% c(\"MS71\",   \"ERATE\", \n",
    " \"ELCOR\",  \"SORSUD\",    \"SORBI\", \"HELAN\",    \"Mo18\") & PlantB %in% c(\"MS71\", \"ERATE\", \n",
    " \"ELCOR\",  \"SORSUD\",    \"SORBI\",  \"HELAN\",  \"Mo18\"))\n",
    "dim(SubDist) %>% print\n",
    "SubDist$PlantA %>% unique"
   ]
  },
  {
   "cell_type": "code",
   "execution_count": 143,
   "metadata": {
    "collapsed": true
   },
   "outputs": [],
   "source": [
    "%%R\n",
    "#null model\n",
    "fit1=  gls(w_Unif_Dist ~ 1, \n",
    "             correlation = corMLPE(form= ~ PlotA + PlotB), data = SubDist)"
   ]
  },
  {
   "cell_type": "code",
   "execution_count": 145,
   "metadata": {
    "collapsed": false
   },
   "outputs": [
    {
     "data": {
      "text/plain": [
       "Generalized least squares fit by REML\n",
       "  Model: w_Unif_Dist ~ TimeDist + SameDay + LibraryComp \n",
       "  Data: SubDist \n",
       "        AIC       BIC   logLik\n",
       "  -1188.294 -1164.749 600.1472\n",
       "\n",
       "Correlation Structure: corMLPE\n",
       " Formula: ~PlotA + PlotB \n",
       " Parameter estimate(s):\n",
       "      Rho \n",
       "0.2638468 \n",
       "\n",
       "Coefficients:\n",
       "                   Value   Std.Error   t-value p-value\n",
       "(Intercept)   0.20726152 0.012748842 16.257281       0\n",
       "TimeDist     -0.01329776 0.002075906 -6.405760       0\n",
       "SameDay1      0.10693579 0.009681678 11.045171       0\n",
       "LibraryComp1  0.15403404 0.021865247  7.044697       0\n",
       "\n",
       " Correlation: \n",
       "             (Intr) TimDst SamDy1\n",
       "TimeDist     -0.029              \n",
       "SameDay1     -0.099 -0.753       \n",
       "LibraryComp1  0.022 -0.945  0.572\n",
       "\n",
       "Standardized residuals:\n",
       "        Min          Q1         Med          Q3         Max \n",
       "-2.50747903 -0.71429885 -0.07986169  0.62268468  2.84825648 \n",
       "\n",
       "Residual standard error: 0.06239944 \n",
       "Degrees of freedom: 378 total; 374 residual\n"
      ]
     },
     "metadata": {},
     "output_type": "display_data"
    }
   ],
   "source": [
    "%%R\n",
    "fit2=  gls(w_Unif_Dist ~ TimeDist + SameDay + LibraryComp, \n",
    "             correlation = corMLPE(form= ~ PlotA + PlotB), data = SubDist)\n",
    "summary(fit2)"
   ]
  },
  {
   "cell_type": "code",
   "execution_count": 146,
   "metadata": {
    "collapsed": false
   },
   "outputs": [
    {
     "data": {
      "text/plain": [
       "Generalized least squares fit by REML\n",
       "  Model: w_Unif_Dist ~ TimeDist + SameDay + LibraryComp + phy_Dist \n",
       "  Data: SubDist \n",
       "        AIC       BIC   logLik\n",
       "  -1226.818 -1199.367 620.4089\n",
       "\n",
       "Correlation Structure: corMLPE\n",
       " Formula: ~PlotA + PlotB \n",
       " Parameter estimate(s):\n",
       "      Rho \n",
       "0.2644966 \n",
       "\n",
       "Coefficients:\n",
       "                   Value   Std.Error   t-value p-value\n",
       "(Intercept)   0.19111878 0.012249524 15.602139       0\n",
       "TimeDist     -0.01149179 0.001971390 -5.829283       0\n",
       "SameDay1      0.09274108 0.009337957  9.931624       0\n",
       "LibraryComp1  0.13963786 0.020688458  6.749554       0\n",
       "phy_Dist      0.17609305 0.025188587  6.990986       0\n",
       "\n",
       " Correlation: \n",
       "             (Intr) TimDst SamDy1 LbrrC1\n",
       "TimeDist     -0.053                     \n",
       "SameDay1     -0.054 -0.757              \n",
       "LibraryComp1  0.040 -0.945  0.577       \n",
       "phy_Dist     -0.189  0.131 -0.217 -0.100\n",
       "\n",
       "Standardized residuals:\n",
       "       Min         Q1        Med         Q3        Max \n",
       "-2.3838200 -0.6726156 -0.0429087  0.6623326  2.5876450 \n",
       "\n",
       "Residual standard error: 0.05882303 \n",
       "Degrees of freedom: 378 total; 373 residual\n"
      ]
     },
     "metadata": {},
     "output_type": "display_data"
    }
   ],
   "source": [
    "%%R\n",
    "fit3=  gls(w_Unif_Dist ~ TimeDist + SameDay + LibraryComp + phy_Dist, \n",
    "             correlation = corMLPE(form= ~ PlotA + PlotB), data = SubDist)\n",
    "summary(fit3)"
   ]
  },
  {
   "cell_type": "code",
   "execution_count": 147,
   "metadata": {
    "collapsed": false
   },
   "outputs": [
    {
     "data": {
      "text/plain": [
       "Generalized least squares fit by REML\n",
       "  Model: w_Unif_Dist ~ TimeDist + SameDay + LibraryComp + poly(phy_Dist,      2) \n",
       "  Data: SubDist \n",
       "        AIC       BIC   logLik\n",
       "  -1251.894 -1220.543 633.9469\n",
       "\n",
       "Correlation Structure: corMLPE\n",
       " Formula: ~PlotA + PlotB \n",
       " Parameter estimate(s):\n",
       "      Rho \n",
       "0.2426109 \n",
       "\n",
       "Coefficients:\n",
       "                        Value  Std.Error   t-value p-value\n",
       "(Intercept)         0.2129254 0.01078911 19.735226       0\n",
       "TimeDist           -0.0119258 0.00190638 -6.255750       0\n",
       "SameDay1            0.0917000 0.00903601 10.148294       0\n",
       "LibraryComp1        0.1430795 0.01997977  7.161221       0\n",
       "poly(phy_Dist, 2)1  0.4111046 0.07029596  5.848196       0\n",
       "poly(phy_Dist, 2)2 -0.2610320 0.04708820 -5.543470       0\n",
       "\n",
       " Correlation: \n",
       "                   (Intr) TimDst SamDy1 LbrrC1 p(_D,2)1\n",
       "TimeDist           -0.027                              \n",
       "SameDay1           -0.115 -0.756                       \n",
       "LibraryComp1        0.020 -0.946  0.577                \n",
       "poly(phy_Dist, 2)1  0.034  0.140 -0.208 -0.106         \n",
       "poly(phy_Dist, 2)2 -0.038  0.046  0.018 -0.034  0.223  \n",
       "\n",
       "Standardized residuals:\n",
       "        Min          Q1         Med          Q3         Max \n",
       "-2.39418393 -0.68550260 -0.02425147  0.68898224  2.79830136 \n",
       "\n",
       "Residual standard error: 0.05449284 \n",
       "Degrees of freedom: 378 total; 372 residual\n"
      ]
     },
     "metadata": {},
     "output_type": "display_data"
    }
   ],
   "source": [
    "%%R\n",
    "fit4=  gls(w_Unif_Dist ~ TimeDist + SameDay + LibraryComp + poly(phy_Dist,2), \n",
    "             correlation = corMLPE(form= ~ PlotA + PlotB), data = SubDist)\n",
    "summary(fit4)"
   ]
  },
  {
   "cell_type": "code",
   "execution_count": 148,
   "metadata": {
    "collapsed": false
   },
   "outputs": [
    {
     "data": {
      "text/plain": [
       "Generalized least squares fit by REML\n",
       "  Model: w_Unif_Dist ~ TimeDist + SameDay + LibraryComp + PC1Dist + PC2Dist +      PC3Dist \n",
       "  Data: SubDist \n",
       "        AIC       BIC   logLik\n",
       "  -1254.068 -1218.822 636.0341\n",
       "\n",
       "Correlation Structure: corMLPE\n",
       " Formula: ~PlotA + PlotB \n",
       " Parameter estimate(s):\n",
       "      Rho \n",
       "0.2820758 \n",
       "\n",
       "Coefficients:\n",
       "                   Value   Std.Error   t-value p-value\n",
       "(Intercept)   0.17680501 0.012874880 13.732556  0.0000\n",
       "TimeDist     -0.01268428 0.001937909 -6.545345  0.0000\n",
       "SameDay1      0.08097260 0.009553704  8.475519  0.0000\n",
       "LibraryComp1  0.16666353 0.020985365  7.941893  0.0000\n",
       "PC1Dist       0.00109591 0.002192453  0.499855  0.6175\n",
       "PC2Dist       0.02347960 0.002183360 10.753887  0.0000\n",
       "PC3Dist       0.00041159 0.004666380  0.088203  0.9298\n",
       "\n",
       " Correlation: \n",
       "             (Intr) TimDst SamDy1 LbrrC1 PC1Dst PC2Dst\n",
       "TimeDist     -0.119                                   \n",
       "SameDay1      0.078 -0.768                            \n",
       "LibraryComp1  0.126 -0.942  0.600                     \n",
       "PC1Dist      -0.239  0.349 -0.401 -0.373              \n",
       "PC2Dist      -0.235  0.048 -0.273  0.033  0.098       \n",
       "PC3Dist      -0.225  0.051 -0.055 -0.170  0.033  0.028\n",
       "\n",
       "Standardized residuals:\n",
       "        Min          Q1         Med          Q3         Max \n",
       "-3.00891394 -0.64576097 -0.04414961  0.60483445  2.98284023 \n",
       "\n",
       "Residual standard error: 0.05665916 \n",
       "Degrees of freedom: 378 total; 371 residual\n"
      ]
     },
     "metadata": {},
     "output_type": "display_data"
    }
   ],
   "source": [
    "%%R\n",
    "#H3: combined phylogenetic distance and functional\n",
    "fit5=  gls(w_Unif_Dist ~ TimeDist + SameDay + LibraryComp + PC1Dist + PC2Dist + PC3Dist, \n",
    "             correlation = corMLPE(form= ~ PlotA + PlotB), data = SubDist)\n",
    "summary(fit5)"
   ]
  },
  {
   "cell_type": "code",
   "execution_count": 149,
   "metadata": {
    "collapsed": false,
    "scrolled": true
   },
   "outputs": [
    {
     "data": {
      "text/plain": [
       "Generalized least squares fit by REML\n",
       "  Model: w_Unif_Dist ~ TimeDist + SameDay + LibraryComp + poly(phy_Dist,      2) + PC1Dist + PC2Dist + PC3Dist \n",
       "  Data: SubDist \n",
       "        AIC       BIC   logLik\n",
       "  -1284.515 -1241.496 653.2576\n",
       "\n",
       "Correlation Structure: corMLPE\n",
       " Formula: ~PlotA + PlotB \n",
       " Parameter estimate(s):\n",
       "      Rho \n",
       "0.2711729 \n",
       "\n",
       "Coefficients:\n",
       "                         Value  Std.Error   t-value p-value\n",
       "(Intercept)         0.18944455 0.01196993 15.826705  0.0000\n",
       "TimeDist           -0.01213027 0.00185185 -6.550366  0.0000\n",
       "SameDay1            0.07693807 0.00914662  8.411638  0.0000\n",
       "LibraryComp1        0.16103412 0.01998579  8.057431  0.0000\n",
       "poly(phy_Dist, 2)1  0.29934182 0.06649455  4.501750  0.0000\n",
       "poly(phy_Dist, 2)2 -0.18059368 0.04403659 -4.100992  0.0001\n",
       "PC1Dist             0.00000916 0.00208722  0.004390  0.9965\n",
       "PC2Dist             0.01876434 0.00218932  8.570869  0.0000\n",
       "PC3Dist            -0.00205743 0.00444239 -0.463136  0.6435\n",
       "\n",
       " Correlation: \n",
       "                   (Intr) TimDst SamDy1 LbrrC1 p(_D,2)1 p(_D,2)2 PC1Dst PC2Dst\n",
       "TimeDist           -0.114                                                     \n",
       "SameDay1            0.069 -0.772                                              \n",
       "LibraryComp1        0.122 -0.942  0.604                                       \n",
       "poly(phy_Dist, 2)1  0.099  0.114 -0.129 -0.090                                \n",
       "poly(phy_Dist, 2)2 -0.107  0.064 -0.052 -0.043  0.174                         \n",
       "PC1Dist            -0.256  0.344 -0.394 -0.369 -0.034    0.072                \n",
       "PC2Dist            -0.279  0.033 -0.237  0.043 -0.205    0.210    0.119       \n",
       "PC3Dist            -0.242  0.046 -0.048 -0.164 -0.062    0.048    0.040  0.054\n",
       "\n",
       "Standardized residuals:\n",
       "        Min          Q1         Med          Q3         Max \n",
       "-2.80327111 -0.64286943 -0.05582237  0.65450686  2.92712787 \n",
       "\n",
       "Residual standard error: 0.05251552 \n",
       "Degrees of freedom: 378 total; 369 residual\n"
      ]
     },
     "metadata": {},
     "output_type": "display_data"
    }
   ],
   "source": [
    "%%R\n",
    "fit6=  gls(w_Unif_Dist ~ TimeDist + SameDay + LibraryComp + poly(phy_Dist,2) + PC1Dist + PC2Dist + PC3Dist, \n",
    "             correlation = corMLPE(form= ~ PlotA + PlotB), data = SubDist)\n",
    "summary(fit6)"
   ]
  },
  {
   "cell_type": "code",
   "execution_count": 150,
   "metadata": {
    "collapsed": false
   },
   "outputs": [
    {
     "data": {
      "text/plain": [
       "     Model df       AIC       BIC   logLik   Test   L.Ratio p-value\n",
       "fit1     1  3 -1015.341 -1003.544 510.6706                         \n",
       "fit2     2  6 -1188.294 -1164.749 600.1472 1 vs 2 178.95325  <.0001\n",
       "fit3     3  7 -1226.818 -1199.367 620.4089 2 vs 3  40.52338  <.0001\n",
       "fit4     4  8 -1251.894 -1220.543 633.9469 3 vs 4  27.07596  <.0001\n",
       "fit5     5  9 -1254.068 -1218.822 636.0341 4 vs 5   4.17436   0.041\n",
       "fit6     6 11 -1284.515 -1241.496 653.2576 5 vs 6  34.44699  <.0001\n"
      ]
     },
     "metadata": {},
     "output_type": "display_data"
    }
   ],
   "source": [
    "%%R\n",
    "anova(fit1, fit2, fit3, fit4, fit5, fit6)"
   ]
  },
  {
   "cell_type": "code",
   "execution_count": null,
   "metadata": {
    "collapsed": true
   },
   "outputs": [],
   "source": []
  },
  {
   "cell_type": "markdown",
   "metadata": {},
   "source": [
    "# Maize distance analysis"
   ]
  },
  {
   "cell_type": "code",
   "execution_count": 151,
   "metadata": {
    "collapsed": false
   },
   "outputs": [
    {
     "data": {
      "image/png": "[encoded data removed]"
     },
     "metadata": {},
     "output_type": "display_data"
    }
   ],
   "source": [
    "%%R\n",
    "NAM_hc = hclust(as.dist(NAMdist), \"average\")\n",
    "plot(NAM_hc)"
   ]
  },
  {
   "cell_type": "code",
   "execution_count": null,
   "metadata": {
    "collapsed": false,
    "hide_input": true
   },
   "outputs": [],
   "source": [
    "%%R\n",
    "physeq.Maize = subset_samples(physeq.Full, Type == \"Maize\" & Plant != \"75-062\")\n",
    "as(sample_data(physeq.Maize), \"data.frame\") %>%\n",
    "\n",
    "group_by(Plant) %>%\n",
    "   summarise(DATE = first(DAP)) %>% \n",
    "    arrange(DATE) %>%\n",
    "   print()"
   ]
  },
  {
   "cell_type": "code",
   "execution_count": 153,
   "metadata": {
    "collapsed": false,
    "hide_input": false
   },
   "outputs": [
    {
     "data": {
      "text/plain": [
       "[1] 3741   21\n",
       "[1] 780  22\n",
       "              PlotA             PlotB w_Unif_Dist PlantA PlantB PlantComp\n",
       "1 sample5-2.06_Nneg sample6-2.26_Nneg   0.1544908   MS71    B73  MS71-B73\n",
       "2 sample5-2.06_Nneg sample6-3.18_Nneg   0.1652106   MS71    B73  MS71-B73\n",
       "3 sample6-2.26_Nneg sample6-3.18_Nneg   0.1568328    B73    B73   B73-B73\n",
       "4 sample5-2.06_Nneg sample5-3.13_Nneg   0.1293945   MS71   MS71 MS71-MS71\n",
       "5 sample6-2.26_Nneg sample5-3.13_Nneg   0.1576011    B73   MS71  B73-MS71\n",
       "6 sample6-3.18_Nneg sample5-3.13_Nneg   0.1265751    B73   MS71  B73-MS71\n",
       "                             PlotComp phy_Dist LibraryA DAY_A LibraryB DAY_B\n",
       "1 sample5-2.06_Nneg-sample6-2.26_Nneg    2e-04        1    72        1    79\n",
       "2 sample5-2.06_Nneg-sample6-3.18_Nneg    2e-04        1    72        1    79\n",
       "3 sample6-2.26_Nneg-sample6-3.18_Nneg    0e+00        1    79        1    79\n",
       "4 sample5-2.06_Nneg-sample5-3.13_Nneg    0e+00        1    72        1    72\n",
       "5 sample6-2.26_Nneg-sample5-3.13_Nneg    2e-04        1    79        1    72\n",
       "6 sample6-3.18_Nneg-sample5-3.13_Nneg    2e-04        1    79        1    72\n",
       "    PC1Dist   PC2Dist   PC3Dist  FunDist     CNdist      Bdist TimeDist\n",
       "1 0.2439193 1.1281642 2.4281866 2.688557 0.08933085 0.23899495        7\n",
       "2 1.3307319 0.6693172 2.0506374 2.534551 0.06888877 0.03500332        7\n",
       "3 1.0868127 0.4588470 0.3775492 1.238647 0.15821962 0.27399827        0\n",
       "4 1.4783600 1.0121635 0.3453681 1.824638 0.31288468 0.28733465        0\n",
       "5 1.2344407 2.1403277 2.7735547 3.714492 0.40221553 0.52632961        7\n",
       "6 0.1476281 1.6814808 2.3960055 2.930873 0.24399591 0.25233133        7\n",
       "  LibraryComp SameDay gene_Dist\n",
       "1           0       1 0.1259195\n",
       "2           0       1 0.1259195\n",
       "3           0       0 0.0000000\n",
       "4           0       0 0.0000000\n",
       "5           0       1 0.1259195\n",
       "6           0       1 0.1259195\n"
      ]
     },
     "metadata": {},
     "output_type": "display_data"
    }
   ],
   "source": [
    "%%R\n",
    "Dist %>% dim %>% print\n",
    "#Use melt to join genetic distance matrix with unifrac distance\n",
    "#head(ud.m) ##Use formated unifrac distance from above\n",
    "#melt \n",
    "NAM.m = melt(as.matrix(NAMdist))\n",
    "\n",
    "#set column names and create comparison column\n",
    "colnames(NAM.m) = c(\"PlantA\", \"PlantB\", \"gene_Dist\")\n",
    "\n",
    "NAM.m$PlantComp = paste(NAM.m$PlantA, NAM.m$PlantB, sep = \"-\")\n",
    "NAM.m %>% head\n",
    "\n",
    "#Join with unifrac DistanceMatrix\n",
    "NAMDist = left_join(Dist, NAM.m[,c(3,4)], by = \"PlantComp\") %>% filter(!is.na(gene_Dist))\n",
    "NAMDist %>% dim %>% print\n",
    "NAMDist %>% head"
   ]
  },
  {
   "cell_type": "code",
   "execution_count": 157,
   "metadata": {
    "collapsed": false,
    "scrolled": true
   },
   "outputs": [
    {
     "data": {
      "text/plain": [
       "Generalized least squares fit by REML\n",
       "  Model: w_Unif_Dist ~ 1 \n",
       "  Data: NAMDist \n",
       "        AIC      BIC   logLik\n",
       "  -2867.424 -2853.45 1436.712\n",
       "\n",
       "Correlation Structure: corMLPE\n",
       " Formula: ~PlotA + PlotB \n",
       " Parameter estimate(s):\n",
       "      Rho \n",
       "0.2682316 \n",
       "\n",
       "Coefficients:\n",
       "                Value   Std.Error  t-value p-value\n",
       "(Intercept) 0.2052307 0.008566936 23.95613       0\n",
       "\n",
       "Standardized residuals:\n",
       "       Min         Q1        Med         Q3        Max \n",
       "-1.7135817 -0.7558845 -0.1763719  0.5780333  3.3397603 \n",
       "\n",
       "Residual standard error: 0.05173829 \n",
       "Degrees of freedom: 780 total; 779 residual\n"
      ]
     },
     "metadata": {},
     "output_type": "display_data"
    }
   ],
   "source": [
    "%%R\n",
    "fit1=  gls(w_Unif_Dist ~ 1, \n",
    "             correlation = corMLPE(form= ~ PlotA + PlotB), data = NAMDist)\n",
    "summary(fit1)"
   ]
  },
  {
   "cell_type": "code",
   "execution_count": 160,
   "metadata": {
    "collapsed": false
   },
   "outputs": [
    {
     "data": {
      "text/plain": [
       "Generalized least squares fit by REML\n",
       "  Model: w_Unif_Dist ~ SameDay + LibraryComp \n",
       "  Data: NAMDist \n",
       "       AIC       BIC   logLik\n",
       "  -2858.33 -2835.053 1434.165\n",
       "\n",
       "Correlation Structure: corMLPE\n",
       " Formula: ~PlotA + PlotB \n",
       " Parameter estimate(s):\n",
       "      Rho \n",
       "0.2701848 \n",
       "\n",
       "Coefficients:\n",
       "                  Value   Std.Error   t-value p-value\n",
       "(Intercept)  0.19789457 0.008770511 22.563630  0.0000\n",
       "SameDay1     0.00928251 0.002993688  3.100692  0.0020\n",
       "LibraryComp1 0.00213801 0.002885287  0.741003  0.4589\n",
       "\n",
       " Correlation: \n",
       "             (Intr) SamDy1\n",
       "SameDay1     -0.162       \n",
       "LibraryComp1 -0.063 -0.429\n",
       "\n",
       "Standardized residuals:\n",
       "       Min         Q1        Med         Q3        Max \n",
       "-1.7550017 -0.7404351 -0.1834046  0.5558079  3.4440568 \n",
       "\n",
       "Residual standard error: 0.05151474 \n",
       "Degrees of freedom: 780 total; 777 residual\n"
      ]
     },
     "metadata": {},
     "output_type": "display_data"
    }
   ],
   "source": [
    "%%R\n",
    "fit2=  gls(w_Unif_Dist ~  SameDay + LibraryComp, \n",
    "             correlation = corMLPE(form= ~ PlotA + PlotB), data = NAMDist)\n",
    "summary(fit2)"
   ]
  },
  {
   "cell_type": "code",
   "execution_count": 161,
   "metadata": {
    "collapsed": false
   },
   "outputs": [
    {
     "data": {
      "text/plain": [
       "Generalized least squares fit by REML\n",
       "  Model: w_Unif_Dist ~ SameDay + LibraryComp + gene_Dist \n",
       "  Data: NAMDist \n",
       "        AIC       BIC   logLik\n",
       "  -2889.658 -2861.733 1450.829\n",
       "\n",
       "Correlation Structure: corMLPE\n",
       " Formula: ~PlotA + PlotB \n",
       " Parameter estimate(s):\n",
       "      Rho \n",
       "0.2728994 \n",
       "\n",
       "Coefficients:\n",
       "                   Value  Std.Error   t-value p-value\n",
       "(Intercept)   0.17437941 0.00943202 18.488021  0.0000\n",
       "SameDay1      0.00215335 0.00313664  0.686514  0.4926\n",
       "LibraryComp1 -0.00140721 0.00287286 -0.489828  0.6244\n",
       "gene_Dist     0.23363819 0.03742784  6.242363  0.0000\n",
       "\n",
       " Correlation: \n",
       "             (Intr) SamDy1 LbrrC1\n",
       "SameDay1      0.009              \n",
       "LibraryComp1  0.023 -0.319       \n",
       "gene_Dist    -0.399 -0.364 -0.198\n",
       "\n",
       "Standardized residuals:\n",
       "       Min         Q1        Med         Q3        Max \n",
       "-1.7682577 -0.7570730 -0.1597296  0.5890162  3.3097276 \n",
       "\n",
       "Residual standard error: 0.05057387 \n",
       "Degrees of freedom: 780 total; 776 residual\n"
      ]
     },
     "metadata": {},
     "output_type": "display_data"
    }
   ],
   "source": [
    "%%R\n",
    "fit3=  gls(w_Unif_Dist ~ SameDay + LibraryComp + gene_Dist, \n",
    "             correlation = corMLPE(form= ~ PlotA + PlotB), data = NAMDist)\n",
    "summary(fit3)"
   ]
  },
  {
   "cell_type": "code",
   "execution_count": 163,
   "metadata": {
    "collapsed": false
   },
   "outputs": [
    {
     "data": {
      "text/plain": [
       "Generalized least squares fit by REML\n",
       "  Model: w_Unif_Dist ~ SameDay + LibraryComp + poly(gene_Dist, 2) \n",
       "  Data: NAMDist \n",
       "        AIC       BIC   logLik\n",
       "  -2896.295 -2863.725 1455.147\n",
       "\n",
       "Correlation Structure: corMLPE\n",
       " Formula: ~PlotA + PlotB \n",
       " Parameter estimate(s):\n",
       "      Rho \n",
       "0.2594639 \n",
       "\n",
       "Coefficients:\n",
       "                          Value  Std.Error   t-value p-value\n",
       "(Intercept)          0.20822378 0.00831887 25.030305  0.0000\n",
       "SameDay1             0.00002431 0.00317938  0.007645  0.9939\n",
       "LibraryComp1        -0.00611317 0.00314554 -1.943443  0.0523\n",
       "poly(gene_Dist, 2)1  0.30500667 0.04258550  7.162218  0.0000\n",
       "poly(gene_Dist, 2)2  0.21032885 0.05917875  3.554128  0.0004\n",
       "\n",
       " Correlation: \n",
       "                    (Intr) SamDy1 LbrrC1 p(_D,2)1\n",
       "SameDay1            -0.220                       \n",
       "LibraryComp1        -0.133 -0.206                \n",
       "poly(gene_Dist, 2)1  0.165 -0.403 -0.326         \n",
       "poly(gene_Dist, 2)2  0.127 -0.190 -0.417  0.381  \n",
       "\n",
       "Standardized residuals:\n",
       "       Min         Q1        Med         Q3        Max \n",
       "-2.0010419 -0.7564668 -0.1643301  0.5842265  3.2560955 \n",
       "\n",
       "Residual standard error: 0.04890995 \n",
       "Degrees of freedom: 780 total; 775 residual\n"
      ]
     },
     "metadata": {},
     "output_type": "display_data"
    }
   ],
   "source": [
    "%%R\n",
    "fit4=  gls(w_Unif_Dist ~  SameDay + LibraryComp + poly(gene_Dist,2), \n",
    "             correlation = corMLPE(form= ~ PlotA + PlotB), data = NAMDist)\n",
    "summary(fit4)"
   ]
  },
  {
   "cell_type": "code",
   "execution_count": 168,
   "metadata": {
    "collapsed": false
   },
   "outputs": [
    {
     "data": {
      "text/plain": [
       "Generalized least squares fit by REML\n",
       "  Model: w_Unif_Dist ~ SameDay + LibraryComp + PC1Dist + PC2Dist \n",
       "  Data: NAMDist \n",
       "        AIC       BIC   logLik\n",
       "  -2840.303 -2807.733 1427.151\n",
       "\n",
       "Correlation Structure: corMLPE\n",
       " Formula: ~PlotA + PlotB \n",
       " Parameter estimate(s):\n",
       "      Rho \n",
       "0.2782163 \n",
       "\n",
       "Coefficients:\n",
       "                   Value   Std.Error   t-value p-value\n",
       "(Intercept)   0.19011587 0.009486667 20.040323  0.0000\n",
       "SameDay1      0.00910689 0.002983834  3.052076  0.0024\n",
       "LibraryComp1 -0.00015745 0.003191976 -0.049328  0.9607\n",
       "PC1Dist       0.00431410 0.002236009  1.929374  0.0540\n",
       "PC2Dist       0.00386152 0.002242537  1.721942  0.0855\n",
       "\n",
       " Correlation: \n",
       "             (Intr) SamDy1 LbrrC1 PC1Dst\n",
       "SameDay1     -0.144                     \n",
       "LibraryComp1  0.024 -0.364              \n",
       "PC1Dist      -0.256  0.015  0.019       \n",
       "PC2Dist      -0.183 -0.048 -0.436 -0.015\n",
       "\n",
       "Standardized residuals:\n",
       "       Min         Q1        Med         Q3        Max \n",
       "-1.7478939 -0.7396423 -0.1599548  0.5489181  3.4670639 \n",
       "\n",
       "Residual standard error: 0.05219925 \n",
       "Degrees of freedom: 780 total; 775 residual\n"
      ]
     },
     "metadata": {},
     "output_type": "display_data"
    }
   ],
   "source": [
    "%%R\n",
    "fit5=  gls(w_Unif_Dist ~ SameDay + LibraryComp + PC1Dist + PC2Dist, \n",
    "             correlation = corMLPE(form= ~ PlotA + PlotB), data = NAMDist)\n",
    "summary(fit5)"
   ]
  },
  {
   "cell_type": "code",
   "execution_count": 167,
   "metadata": {
    "collapsed": false
   },
   "outputs": [
    {
     "data": {
      "text/plain": [
       "Generalized least squares fit by REML\n",
       "  Model: w_Unif_Dist ~ SameDay + LibraryComp + poly(gene_Dist, 2) + PC1Dist +      PC2Dist + PC3Dist \n",
       "  Data: NAMDist \n",
       "        AIC      BIC  logLik\n",
       "  -2866.459 -2819.97 1443.23\n",
       "\n",
       "Correlation Structure: corMLPE\n",
       " Formula: ~PlotA + PlotB \n",
       " Parameter estimate(s):\n",
       "      Rho \n",
       "0.2644892 \n",
       "\n",
       "Coefficients:\n",
       "                          Value  Std.Error   t-value p-value\n",
       "(Intercept)          0.20444513 0.00916989 22.295262  0.0000\n",
       "SameDay1             0.00002899 0.00317128  0.009140  0.9927\n",
       "LibraryComp1        -0.00783234 0.00340184 -2.302382  0.0216\n",
       "poly(gene_Dist, 2)1  0.30923669 0.04350716  7.107719  0.0000\n",
       "poly(gene_Dist, 2)2  0.20951679 0.05950615  3.520927  0.0005\n",
       "PC1Dist              0.00429081 0.00219529  1.954552  0.0510\n",
       "PC2Dist              0.00286555 0.00219651  1.304591  0.1924\n",
       "PC3Dist             -0.00469335 0.00342768 -1.369248  0.1713\n",
       "\n",
       " Correlation: \n",
       "                    (Intr) SamDy1 LbrrC1 p(_D,2)1 p(_D,2)2 PC1Dst PC2Dst\n",
       "SameDay1            -0.208                                              \n",
       "LibraryComp1        -0.043 -0.185                                       \n",
       "poly(gene_Dist, 2)1  0.213 -0.397 -0.268                                \n",
       "poly(gene_Dist, 2)2  0.073 -0.185 -0.382  0.348                         \n",
       "PC1Dist             -0.230  0.021 -0.006 -0.008    0.059                \n",
       "PC2Dist             -0.175 -0.012 -0.387 -0.068   -0.001    0.003       \n",
       "PC3Dist             -0.214  0.023  0.040 -0.197    0.097   -0.122 -0.095\n",
       "\n",
       "Standardized residuals:\n",
       "       Min         Q1        Med         Q3        Max \n",
       "-1.9092960 -0.7419664 -0.1394337  0.5942199  3.2844218 \n",
       "\n",
       "Residual standard error: 0.04926956 \n",
       "Degrees of freedom: 780 total; 772 residual\n"
      ]
     },
     "metadata": {},
     "output_type": "display_data"
    }
   ],
   "source": [
    "%%R\n",
    "fit6=  gls(w_Unif_Dist ~ SameDay + LibraryComp + poly(gene_Dist,2) + PC1Dist + PC2Dist + PC3Dist, \n",
    "             correlation = corMLPE(form= ~ PlotA + PlotB), data = NAMDist)\n",
    "summary(fit6)"
   ]
  },
  {
   "cell_type": "markdown",
   "metadata": {},
   "source": [
    "# Time vs MCC mantel test"
   ]
  },
  {
   "cell_type": "code",
   "execution_count": null,
   "metadata": {
    "collapsed": false
   },
   "outputs": [],
   "source": [
    "%%R\n",
    "sample_data(physeq.Nneg)$DAP"
   ]
  },
  {
   "cell_type": "code",
   "execution_count": null,
   "metadata": {
    "collapsed": false
   },
   "outputs": [],
   "source": [
    "%%R\n",
    "sd = sample_data(physeq.Nneg)\n",
    "\n",
    "# Calculate w-unifrac distances\n",
    "registerDoParallel(cores=28)\n",
    "date.wunif.dist = distance(physeq.Nneg, \n",
    "                      method = \"unifrac\", \n",
    "                      weighted = TRUE,\n",
    "                      fast = TRUE, \n",
    "                      parallel = TRUE, \n",
    "                      normalized = FALSE)\n",
    "\n",
    "#Calculate functional distances\n",
    "Fun_dist = dist(sd[,c(\"DAP\")], method = \"euclidian\")\n",
    "\n",
    "\n",
    "M1 = mantel(date.wunif.dist, Fun_dist, method=\"pearson\", permutations=999)\n",
    "M1"
   ]
  },
  {
   "cell_type": "code",
   "execution_count": null,
   "metadata": {
    "collapsed": false,
    "scrolled": true
   },
   "outputs": [],
   "source": [
    "%%R\n",
    "mcc.correlog <- mantel.correlog(date.wunif.dist, Fun_dist, nperm=99)\n",
    "summary(mcc.correlog) %>% print\n",
    "mcc.correlog  %>% print\n",
    "plot(mcc.correlog) "
   ]
  },
  {
   "cell_type": "markdown",
   "metadata": {},
   "source": [
    "# Ignore below this point"
   ]
  },
  {
   "cell_type": "markdown",
   "metadata": {},
   "source": [
    "# Compare plant phylogenetic distance to l2f"
   ]
  },
  {
   "cell_type": "code",
   "execution_count": null,
   "metadata": {
    "collapsed": false
   },
   "outputs": [],
   "source": [
    "%%R\n",
    "# log2foldFile = '/home/bryan/RhizCG/data/MiSeq_amplicon/MergedRuns/DeSeq2/bare-plant.csv'\n",
    "# l2f = read.csv(log2foldFile, header = TRUE)\n",
    "# colnames(l2f)"
   ]
  },
  {
   "cell_type": "markdown",
   "metadata": {},
   "source": [
    "### Spread by plant to make matrix of log2fold change in each OTU by plant combo"
   ]
  },
  {
   "cell_type": "code",
   "execution_count": null,
   "metadata": {
    "collapsed": false
   },
   "outputs": [],
   "source": [
    "%%R\n",
    "# df = l2f[,c(1,11,13)]\n",
    "# l2f_m = spread(df, Plant, log2FoldChange, fill = 0, drop = TRUE)\n",
    "# rownames(l2f_m) = l2f_m$OTU\n",
    "# l2f_m = l2f_m[,-1]\n",
    "# l2f_m %>% head"
   ]
  },
  {
   "cell_type": "code",
   "execution_count": null,
   "metadata": {
    "collapsed": false,
    "scrolled": true
   },
   "outputs": [],
   "source": [
    "%%R\n",
    "# dim(l2f_m)"
   ]
  },
  {
   "cell_type": "markdown",
   "metadata": {},
   "source": [
    "### recode all negative log2fold changes with 0"
   ]
  },
  {
   "cell_type": "code",
   "execution_count": null,
   "metadata": {
    "collapsed": false,
    "scrolled": true
   },
   "outputs": [],
   "source": [
    "%%R\n",
    "# l2f_me = l2f_m\n",
    "# l2f_me[l2f_me < 0] = 0 \n",
    "# head(l2f_me)"
   ]
  },
  {
   "cell_type": "markdown",
   "metadata": {},
   "source": [
    "## Calculate pairwise weighted Unifrac distances between samples\n",
    "\n",
    "need to figure out how to run unifrac measure outside of phyloseq"
   ]
  },
  {
   "cell_type": "code",
   "execution_count": null,
   "metadata": {
    "collapsed": false
   },
   "outputs": [],
   "source": [
    "%%R\n",
    "# physeq.Full"
   ]
  },
  {
   "cell_type": "code",
   "execution_count": null,
   "metadata": {
    "collapsed": false
   },
   "outputs": [],
   "source": [
    "%%R\n",
    "# #provide fast tree for unifrac calculation\n",
    "# #treeFile = '/home/bryan/RhizCG/data/MiSeq_amplicon/MergedRuns/fasttree/otusn.tree'\n",
    "# #Tree = read.tree(treeFile)\n",
    "# Tree = phy_tree(physeq.Full)\n",
    "# str(Tree)\n"
   ]
  },
  {
   "cell_type": "code",
   "execution_count": null,
   "metadata": {
    "collapsed": false
   },
   "outputs": [],
   "source": [
    "%%R\n",
    "# l2f_wunif = picante::unifrac(as.matrix(t(l2f_me)), Tree)"
   ]
  },
  {
   "cell_type": "code",
   "execution_count": null,
   "metadata": {
    "collapsed": false
   },
   "outputs": [],
   "source": [
    "%%R\n",
    "# l2f_bray = vegdist(as.matrix(t(l2f_me)), method = \"bray\")"
   ]
  },
  {
   "cell_type": "code",
   "execution_count": null,
   "metadata": {
    "collapsed": false,
    "scrolled": true
   },
   "outputs": [],
   "source": [
    "%%R\n",
    "# hc_unif = hclust(l2f_wunif, \"average\")\n",
    "# plot(hc_unif) %>% print\n",
    "\n",
    "# hc_bray = hclust(l2f_bray, \"average\")\n",
    "# plot(hc_bray, main = \"Cluster Dendrogram, \\n Bray-Curtis Distance\")"
   ]
  },
  {
   "cell_type": "markdown",
   "metadata": {},
   "source": [
    "# Mantel test of phylogenetic distance and l2f unifrac distance"
   ]
  },
  {
   "cell_type": "markdown",
   "metadata": {},
   "source": [
    "### Maize"
   ]
  },
  {
   "cell_type": "code",
   "execution_count": null,
   "metadata": {
    "collapsed": false,
    "scrolled": true
   },
   "outputs": [],
   "source": [
    "%%R\n",
    "# NAMdist %>% print\n",
    "\n",
    "# #subset column and rows of log2fold change so that only NAM lines are included\n",
    "# NLU = as.matrix(l2f_wunif)\n",
    "# NLU = NLU[c(4,5,11,13:18,22),c(4,5,11,13:18,22)]\n",
    "# NLU\n",
    "\n",
    "# NLB = as.matrix(l2f_bray)\n",
    "# NLB = NLB[c(4,5,11,13:18,22),c(4,5,11,13:18,22)]\n",
    "# NLB"
   ]
  },
  {
   "cell_type": "code",
   "execution_count": null,
   "metadata": {
    "collapsed": false,
    "scrolled": false
   },
   "outputs": [],
   "source": [
    "%%R\n",
    "# M1 = mantel(as.dist(NAMdist), as.dist(NLU), method=\"pearson\", permutations=999)\n",
    "# print(M1)"
   ]
  },
  {
   "cell_type": "code",
   "execution_count": null,
   "metadata": {
    "collapsed": false
   },
   "outputs": [],
   "source": [
    "%%R\n",
    "# M1 = mantel(as.dist(NAMdist), as.dist(NLB), method=\"pearson\", permutations=999)\n",
    "# print(M1)"
   ]
  },
  {
   "cell_type": "markdown",
   "metadata": {},
   "source": [
    "### Species"
   ]
  },
  {
   "cell_type": "code",
   "execution_count": null,
   "metadata": {
    "collapsed": false
   },
   "outputs": [],
   "source": [
    "%%R\n",
    "\n",
    "# #Organize log2fold change distance matrix so that only plants with cholorplast distances are included \n",
    "# #and column and row order is congruent with phylogenetic distance matrix\n",
    "# l2f_wunif.t = as.matrix(l2f_wunif) %>% as.data.frame()\n",
    "#     temp1 = l2f_wunif.t[c(\"FAGES\", \"AMAPO\", \"HELAN\", \"ABUTH\", \"GLYMA\", \"SORBI\", \"B73\", \"ECHCG\",\n",
    "#                     \"SETFA\", \"ERATE\", \"ELCOR\"), c(\"FAGES\", \"AMAPO\", \"HELAN\", \"ABUTH\", \"GLYMA\", \"SORBI\", \"B73\", \"ECHCG\",\n",
    "#                     \"SETFA\", \"ERATE\", \"ELCOR\")]\n",
    "\n",
    "#     SLU = as.matrix(temp1)\n",
    "\n",
    "#     SLU = as.dist(SLU)\n",
    "#     SLU %>% print\n",
    "\n",
    "# #Remove ginkgo so that matrices are congruent\n",
    "# p.temp = as.matrix(phydist) %>% as.data.frame()\n",
    "#     temp2 = p.temp[-12, -12] #remove ginkgo\n",
    "\n",
    "#     temp2 = as.matrix(temp2)\n",
    "#     phydist = as.dist(temp2)\n",
    "\n",
    "#     phydist %>% print\n",
    "\n",
    "# l2f_bray.t = as.matrix(l2f_bray) %>% as.data.frame()\n",
    "#     temp2 = l2f_bray.t[c(\"FAGES\", \"AMAPO\", \"HELAN\", \"ABUTH\", \"GLYMA\", \"SORBI\", \"B73\", \"ECHCG\",\n",
    "#                     \"SETFA\", \"ERATE\", \"ELCOR\"), c(\"FAGES\", \"AMAPO\", \"HELAN\", \"ABUTH\", \"GLYMA\", \"SORBI\", \"B73\", \"ECHCG\",\n",
    "#                     \"SETFA\", \"ERATE\", \"ELCOR\")]\n",
    "\n",
    "#     SLB = as.matrix(temp2)\n",
    "#     SLB = as.dist(SLB)\n",
    "#     SLB %>% print\n"
   ]
  },
  {
   "cell_type": "code",
   "execution_count": null,
   "metadata": {
    "collapsed": false,
    "scrolled": true
   },
   "outputs": [],
   "source": [
    "%%R\n",
    "# m1 = mantel(phydist, SLU, method=\"pearson\", permutations=999)\n",
    "# print(m1)"
   ]
  },
  {
   "cell_type": "code",
   "execution_count": null,
   "metadata": {
    "collapsed": false,
    "scrolled": true
   },
   "outputs": [],
   "source": [
    "%%R\n",
    "# m1 = mantel(phydist, SLB, method=\"pearson\", permutations=999)\n",
    "# print(m1)"
   ]
  }
 ],
 "metadata": {
  "hide_input": true,
  "kernelspec": {
   "display_name": "Python 2",
   "language": "python",
   "name": "python2"
  },
  "language_info": {
   "codemirror_mode": {
    "name": "ipython",
    "version": 2
   },
   "file_extension": ".py",
   "mimetype": "text/x-python",
   "name": "python",
   "nbconvert_exporter": "python",
   "pygments_lexer": "ipython2",
   "version": "2.7.11"
  }
 },
 "nbformat": 4,
 "nbformat_minor": 0
}
