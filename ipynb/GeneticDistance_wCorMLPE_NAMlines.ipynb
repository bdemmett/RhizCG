{
 "cells": [
  {
   "cell_type": "markdown",
   "metadata": {},
   "source": [
    "# Phylogenetic Distance Calculation from RhizCG 2013"
   ]
  },
  {
   "cell_type": "markdown",
   "metadata": {
    "slideshow": {
     "slide_type": "skip"
    }
   },
   "source": [
    "Notes: Calculate phylogenetic distance using phylogeny created from rbcL and matK in phylogenerator 20160209_phylogeny.tre.  "
   ]
  },
  {
   "cell_type": "markdown",
   "metadata": {},
   "source": [
    "# Init"
   ]
  },
  {
   "cell_type": "code",
   "execution_count": 22,
   "metadata": {
    "collapsed": false
   },
   "outputs": [
    {
     "name": "stdout",
     "output_type": "stream",
     "text": [
      "The rpy2.ipython extension is already loaded. To reload it, use:\n",
      "  %reload_ext rpy2.ipython\n"
     ]
    }
   ],
   "source": [
    "%load_ext rpy2.ipython"
   ]
  },
  {
   "cell_type": "code",
   "execution_count": 23,
   "metadata": {
    "collapsed": false,
    "hide_input": false
   },
   "outputs": [],
   "source": [
    "%%R\n",
    "library(foreach)\n",
    "#library(lsmeans)\n",
    "library(Hmisc)\n",
    "library(lme4)\n",
    "library(lmerTest)\n",
    "library(ggplot2)\n",
    "library(plyr)\n",
    "library(dplyr)\n",
    "library(tidyr)\n",
    "library(pbkrtest)\n",
    "library(gridExtra)\n",
    "library(reshape2)\n",
    "library(picante)\n",
    "library(ape)\n",
    "library(phyloseq)\n",
    "library(doParallel)\n"
   ]
  },
  {
   "cell_type": "code",
   "execution_count": 24,
   "metadata": {
    "collapsed": false
   },
   "outputs": [],
   "source": [
    "%%R\n",
    "# Initialize corMLPE \n",
    "source('/home/bryan/corMLPE/corMLPE.R')"
   ]
  },
  {
   "cell_type": "markdown",
   "metadata": {
    "hide_input": true,
    "slideshow": {
     "slide_type": "skip"
    }
   },
   "source": [
    "## Set file locations"
   ]
  },
  {
   "cell_type": "code",
   "execution_count": 25,
   "metadata": {
    "collapsed": true
   },
   "outputs": [],
   "source": [
    "%%R\n",
    "workDir = '/home/bryan/RhizCG/PhyDist/'\n",
    "treeFile = '/home/bryan/RhizCG/PhyDist/20160209_phylogeny.tre'\n",
    "NAMFile = '/home/bryan/RhizCG/PhyDist/NAM_founders_distanceMatrix_v2.txt'"
   ]
  },
  {
   "cell_type": "markdown",
   "metadata": {
    "slideshow": {
     "slide_type": "skip"
    }
   },
   "source": [
    "### Read  tables table "
   ]
  },
  {
   "cell_type": "code",
   "execution_count": 26,
   "metadata": {
    "collapsed": false
   },
   "outputs": [],
   "source": [
    "%%R \n",
    "\n",
    "NAMdist = read.table(NAMFile, header = TRUE)\n",
    "#reorder so that NAMdist is in same order as log2fold change matrix\n",
    "NAMdist = NAMdist[c(1:6, 8, 7, 9, 10), c(1:6, 8, 7, 9, 10)]"
   ]
  },
  {
   "cell_type": "code",
   "execution_count": 27,
   "metadata": {
    "collapsed": false,
    "scrolled": true
   },
   "outputs": [
    {
     "data": {
      "image/png": "[encoded data removed]"
     },
     "metadata": {},
     "output_type": "display_data"
    }
   ],
   "source": [
    "%%R\n",
    "NAM_hc = hclust(as.dist(NAMdist), \"average\")\n",
    "plot(NAM_hc)"
   ]
  },
  {
   "cell_type": "code",
   "execution_count": 28,
   "metadata": {
    "collapsed": false,
    "hide_input": true,
    "scrolled": true
   },
   "outputs": [
    {
     "data": {
      "text/plain": [
       "phyloseq-class experiment-level object\n",
       "otu_table()   OTU Table:         [ 4982 taxa and 40 samples ]\n",
       "sample_data() Sample Data:       [ 40 samples by 55 sample variables ]\n",
       "tax_table()   Taxonomy Table:    [ 4982 taxa by 8 taxonomic ranks ]\n",
       "phy_tree()    Phylogenetic Tree: [ 4982 tips and 4981 internal nodes ]\n"
      ]
     },
     "metadata": {},
     "output_type": "display_data"
    }
   ],
   "source": [
    "%%R\n",
    "#Read rarified phyloseq object\n",
    "F = file.path('/home/bryan/RhizCG/data/MiSeq_amplicon/MergedRuns/physeq/Full-Sparsity3in3_r')\n",
    "physeq.Full = readRDS(F)\n",
    "\n",
    "physeq.NAM = subset_samples(physeq.Full, Treatment == \"Nneg\" & Type == \"Maize\" & Plant != \"75-062\")\n",
    "physeq.NAM"
   ]
  },
  {
   "cell_type": "markdown",
   "metadata": {},
   "source": [
    "## NAM lines clustered by sampling date"
   ]
  },
  {
   "cell_type": "code",
   "execution_count": 29,
   "metadata": {
    "collapsed": false,
    "hide_input": true,
    "scrolled": true
   },
   "outputs": [
    {
     "data": {
      "image/png": "[encoded data removed]"
     },
     "metadata": {},
     "output_type": "display_data"
    }
   ],
   "source": [
    "%%R\n",
    "temp = sample_data(physeq.NAM) %>% \n",
    "    as(., \"data.frame\") %>% \n",
    "    group_by(Plant) %>% \n",
    "    summarize(DAY = mean(DAP)) #%>%\n",
    "row.names(temp) = temp$Plant\n",
    "dist(temp, method = \"euclidean\") %>%\n",
    "    hclust(\"average\") %>%\n",
    "     plot"
   ]
  },
  {
   "cell_type": "markdown",
   "metadata": {},
   "source": [
    "## Calculate w-Unifrac distances"
   ]
  },
  {
   "cell_type": "code",
   "execution_count": 30,
   "metadata": {
    "collapsed": false
   },
   "outputs": [],
   "source": [
    "%%R\n",
    "registerDoParallel(cores=28)\n",
    "phy.wunif.dist = distance(physeq.NAM, \n",
    "                      method = \"unifrac\", \n",
    "                      weighted = TRUE,\n",
    "                      fast = TRUE, \n",
    "                      parallel = TRUE, \n",
    "                      normalized = FALSE)\n"
   ]
  },
  {
   "cell_type": "markdown",
   "metadata": {
    "slideshow": {
     "slide_type": "skip"
    }
   },
   "source": [
    "# Data wrangling "
   ]
  },
  {
   "cell_type": "markdown",
   "metadata": {},
   "source": [
    "## Create melted dataframes for plot by plot comparisons"
   ]
  },
  {
   "cell_type": "code",
   "execution_count": 31,
   "metadata": {
    "collapsed": false
   },
   "outputs": [
    {
     "data": {
      "text/plain": [
       "  PlantA PlantB gene_Dist PlantComp\n",
       "1    B73    B73 0.0000000   B73-B73\n",
       "2    B97    B73 0.1285456   B97-B73\n",
       "3    H99    B73 0.1306701   H99-B73\n",
       "4  Hp301    B73 0.1357241 Hp301-B73\n",
       "5  Il14H    B73 0.1412994 Il14H-B73\n",
       "6    Ki3    B73 0.1413460   Ki3-B73\n"
      ]
     },
     "metadata": {},
     "output_type": "display_data"
    }
   ],
   "source": [
    "%%R\n",
    "gd.m = melt(as.matrix(NAMdist))\n",
    "\n",
    "#set column names and create comparison column\n",
    "colnames(gd.m) = c(\"PlantA\", \"PlantB\", \"gene_Dist\")\n",
    "gd.m$PlantComp = paste(gd.m$PlantA, gd.m$PlantB, sep = \"-\")\n",
    "gd.m %>% head\n"
   ]
  },
  {
   "cell_type": "code",
   "execution_count": 32,
   "metadata": {
    "collapsed": false,
    "hide_input": false
   },
   "outputs": [
    {
     "data": {
      "text/plain": [
       "                PlotA             PlotB w_Unif_Dist\n",
       "41  sample5-2.06_Nneg sample6-2.26_Nneg   0.1544908\n",
       "81  sample5-2.06_Nneg sample6-3.18_Nneg   0.1652106\n",
       "82  sample6-2.26_Nneg sample6-3.18_Nneg   0.1568328\n",
       "121 sample5-2.06_Nneg sample5-3.13_Nneg   0.1293945\n",
       "122 sample6-2.26_Nneg sample5-3.13_Nneg   0.1576011\n",
       "123 sample6-3.18_Nneg sample5-3.13_Nneg   0.1265751\n",
       "[1] 780   3\n"
      ]
     },
     "metadata": {},
     "output_type": "display_data"
    }
   ],
   "source": [
    "%%R\n",
    "ud = as.matrix(phy.wunif.dist) \n",
    "# remove lower triangle to remove duplicate values\n",
    "ud[ lower.tri( ud, diag = TRUE ) ]  <- NA\n",
    "head(ud)\n",
    "ud.m = melt(ud, na.rm= TRUE)\n",
    "colnames(ud.m) = c(\"PlotA\", \"PlotB\", \"w_Unif_Dist\")\n",
    "head(ud.m) %>% print\n",
    "dim(ud.m) %>% print"
   ]
  },
  {
   "cell_type": "markdown",
   "metadata": {},
   "source": [
    "## Create functional distance variable"
   ]
  },
  {
   "cell_type": "code",
   "execution_count": 33,
   "metadata": {
    "collapsed": false
   },
   "outputs": [
    {
     "data": {
      "text/plain": [
       "   Plant SeedSize_mg\n",
       "1  ERATE      0.0035\n",
       "2  HELAN          90\n",
       "3    B73         333\n",
       "4  FAGES          38\n",
       "5  AMAPO        0.49\n",
       "6 SORSUD        10.7\n",
       "    Plant SeedSize_mg\n",
       "1   ERATE      0.0035\n",
       "2   HELAN     90.0000\n",
       "3     B73    333.0000\n",
       "4   FAGES     38.0000\n",
       "5   AMAPO      0.4900\n",
       "6  SORSUD     10.7000\n",
       "7   SORBI     32.3900\n",
       "8   ELCOR      3.2000\n",
       "9   ECHCG      1.5800\n",
       "10  ABUTH      9.6000\n",
       "11  SETFA      1.8000\n",
       "12  GLYMA    174.0000\n",
       "13   MS71      0.2640\n",
       "14   Mo18      0.2240\n",
       "15  Il14H      0.2190\n",
       "16  Tx303      0.2790\n",
       "17   Oh7B      0.2070\n",
       "18    B97      0.2400\n",
       "19  Hp301      0.0869\n",
       "20 75-062      0.2220\n",
       "21    Ki3      0.2280\n",
       "22    H99      0.2310\n"
      ]
     },
     "metadata": {},
     "output_type": "display_data"
    }
   ],
   "source": [
    "%%R\n",
    "#add growing degree days\n",
    "DAP = c(36, 53, 57, 61, 72, 79, 84, 88)\n",
    "GDD = c(795.1, 1089.4, 1136.8, 1199.5, 1394.3, 1512.4, 1573.8, 1625.6)\n",
    "M_GDD = cbind(DAP, GDD) %>% as.data.frame\n",
    "M_GDD\n",
    "\n",
    "Plant = c(\"ERATE\", \"HELAN\", \"B73\", \"FAGES\", \"AMAPO\", \"SORSUD\", \"SORBI\", \n",
    "          \"ELCOR\", \"ECHCG\", \"ABUTH\", \"SETFA\", \"GLYMA\", \"MS71\", \"Mo18\", \"Il14H\", \"Tx303\", \"Oh7B\",\n",
    "         \"B97\", \"Hp301\", \"75-062\", \"Ki3\", \"H99\")\n",
    "SeedSize_mg = c(.0035, 90, 333, 38, .49, 10.7, 32.39,\n",
    "               3.2, 1.58, 9.6, 1.8, 174, .264, .224, 0.219, 0.279, 0.207,\n",
    "               0.240, 0.0869, 0.222, 0.228, 0.231)\n",
    "SS = cbind(Plant, SeedSize_mg) %>% as.data.frame\n",
    "head(SS) %>% print\n",
    "SS$SeedSize_mg = SS$SeedSize_mg %>% as.character %>% as.numeric\n",
    "(SS)"
   ]
  },
  {
   "cell_type": "code",
   "execution_count": 34,
   "metadata": {
    "collapsed": false
   },
   "outputs": [
    {
     "data": {
      "text/plain": [
       " [1] \"B73\"   \"B97\"   \"H99\"   \"Hp301\" \"Il14H\" \"Ki3\"   \"Mo18\"  \"MS71\"  \"Oh7B\" \n",
       "[10] \"Tx303\"\n",
       "Importance of components:\n",
       "                          PC1    PC2    PC3     PC4\n",
       "Standard deviation     1.4160 1.2049 0.7101 0.19689\n",
       "Proportion of Variance 0.5013 0.3630 0.1261 0.00969\n",
       "Cumulative Proportion  0.5013 0.8642 0.9903 1.00000\n",
       "                      PC1         PC2        PC3         PC4\n",
       "SeedSize_mg    0.37559025  0.54897881 -0.7444181 -0.05827502\n",
       "M_Resid_logN   0.62885977 -0.35501908  0.1089487 -0.68310104\n",
       "M_Resid_logCN -0.01315932  0.75565140  0.5751346 -0.31311015\n",
       "M_Resid_logB   0.68065717  0.03968222  0.3212353  0.65722068\n"
      ]
     },
     "metadata": {},
     "output_type": "display_data"
    },
    {
     "data": {
      "image/png": "[encoded data removed]"
     },
     "metadata": {},
     "output_type": "display_data"
    }
   ],
   "source": [
    "%%R\n",
    "# PCA of maize\n",
    "sd = as(sample_data(physeq.NAM), \"data.frame\")\n",
    "sd$Plant %>% levels %>% print\n",
    "sd = left_join(sd, SS, by = \"Plant\")\n",
    "sd = left_join(sd, M_GDD, by = \"DAP\")\n",
    "\n",
    " fit = prcomp(~SeedSize_mg + M_Resid_logN + M_Resid_logCN + M_Resid_logB, data = sd, \n",
    "                 na.action = na.exclude, center = TRUE, scale = TRUE)\n",
    "\n",
    "summary(fit) %>% print\n",
    "fit$rotation %>% print\n",
    "biplot(fit)"
   ]
  },
  {
   "cell_type": "code",
   "execution_count": 35,
   "metadata": {
    "collapsed": false,
    "scrolled": false
   },
   "outputs": [
    {
     "data": {
      "image/png": "[encoded data removed]"
     },
     "metadata": {},
     "output_type": "display_data"
    }
   ],
   "source": [
    "%%R -w 600 -h 500\n",
    "S = predict(fit)[,1:3]\n",
    "E_Fit = cbind(sd, S)\n",
    "row.names(E_Fit) = E_Fit$X.sample\n",
    "sample_data(physeq.NAM) = E_Fit\n",
    "\n",
    "\n",
    "p = ggplot(E_Fit, aes(PC1, PC3, colour = Plant, \n",
    "                       size = A_Resid_logN), pch = 21)\n",
    "p = p + geom_point()\n",
    "#p = p + scale_colour_brewer(palette=\"Paired\")\n",
    "p = p + ggtitle(\"PCA of Growth Residuals\")\n",
    "p"
   ]
  },
  {
   "cell_type": "code",
   "execution_count": 36,
   "metadata": {
    "collapsed": false,
    "scrolled": true
   },
   "outputs": [
    {
     "data": {
      "image/png": "[encoded data removed]"
     },
     "metadata": {},
     "output_type": "display_data"
    }
   ],
   "source": [
    "%%R\n",
    "p = ggplot(E_Fit, aes(PC1, PC2, colour = Plant, \n",
    "                       size = A_Resid_logN), pch = 21)\n",
    "p = p + geom_point()\n",
    "p = p + scale_colour_brewer(palette=\"Paired\")\n",
    "p = p + ggtitle(\"PCA of Growth Residuals\")\n",
    "p"
   ]
  },
  {
   "cell_type": "code",
   "execution_count": 37,
   "metadata": {
    "collapsed": false
   },
   "outputs": [
    {
     "data": {
      "text/plain": [
       "              PlotA             PlotB   PC3Dist\n",
       "1 sample5-2.06_Nneg sample5-2.06_Nneg 0.0000000\n",
       "2 sample6-2.26_Nneg sample5-2.06_Nneg 2.4689610\n",
       "3 sample6-3.18_Nneg sample5-2.06_Nneg 2.4418318\n",
       "4 sample5-3.13_Nneg sample5-2.06_Nneg 0.3154552\n",
       "5 sample5-1.17_Nneg sample5-2.06_Nneg 0.3467816\n",
       "6 sample5-4.08_Nneg sample5-2.06_Nneg 0.4024368\n",
       "                             PlotComp\n",
       "1 sample5-2.06_Nneg-sample5-2.06_Nneg\n",
       "2 sample6-2.26_Nneg-sample5-2.06_Nneg\n",
       "3 sample6-3.18_Nneg-sample5-2.06_Nneg\n",
       "4 sample5-3.13_Nneg-sample5-2.06_Nneg\n",
       "5 sample5-1.17_Nneg-sample5-2.06_Nneg\n",
       "6 sample5-4.08_Nneg-sample5-2.06_Nneg\n",
       "              PlotA             PlotB     CNdist\n",
       "1 sample5-2.06_Nneg sample5-2.06_Nneg 0.00000000\n",
       "2 sample6-2.26_Nneg sample5-2.06_Nneg 0.10793626\n",
       "3 sample6-3.18_Nneg sample5-2.06_Nneg 0.05028337\n",
       "4 sample5-3.13_Nneg sample5-2.06_Nneg 0.31288468\n",
       "5 sample5-1.17_Nneg sample5-2.06_Nneg 0.08417796\n",
       "6 sample5-4.08_Nneg sample5-2.06_Nneg 0.11968321\n",
       "                             PlotComp\n",
       "1 sample5-2.06_Nneg-sample5-2.06_Nneg\n",
       "2 sample6-2.26_Nneg-sample5-2.06_Nneg\n",
       "3 sample6-3.18_Nneg-sample5-2.06_Nneg\n",
       "4 sample5-3.13_Nneg-sample5-2.06_Nneg\n",
       "5 sample5-1.17_Nneg-sample5-2.06_Nneg\n",
       "6 sample5-4.08_Nneg-sample5-2.06_Nneg\n",
       "              PlotA             PlotB      Ndist\n",
       "1 sample5-2.06_Nneg sample5-2.06_Nneg 0.00000000\n",
       "2 sample6-2.26_Nneg sample5-2.06_Nneg 0.36696253\n",
       "3 sample6-3.18_Nneg sample5-2.06_Nneg 0.06491028\n",
       "4 sample5-3.13_Nneg sample5-2.06_Nneg 0.59562586\n",
       "5 sample5-1.17_Nneg sample5-2.06_Nneg 0.02105066\n",
       "6 sample5-4.08_Nneg sample5-2.06_Nneg 0.58490768\n",
       "                             PlotComp\n",
       "1 sample5-2.06_Nneg-sample5-2.06_Nneg\n",
       "2 sample6-2.26_Nneg-sample5-2.06_Nneg\n",
       "3 sample6-3.18_Nneg-sample5-2.06_Nneg\n",
       "4 sample5-3.13_Nneg-sample5-2.06_Nneg\n",
       "5 sample5-1.17_Nneg-sample5-2.06_Nneg\n",
       "6 sample5-4.08_Nneg-sample5-2.06_Nneg\n",
       "              PlotA             PlotB   SSdist\n",
       "1 sample5-2.06_Nneg sample5-2.06_Nneg 0.000000\n",
       "2 sample6-2.26_Nneg sample5-2.06_Nneg 7.139949\n",
       "3 sample6-3.18_Nneg sample5-2.06_Nneg 7.139949\n",
       "4 sample5-3.13_Nneg sample5-2.06_Nneg 0.000000\n",
       "5 sample5-1.17_Nneg sample5-2.06_Nneg 0.000000\n",
       "6 sample5-4.08_Nneg sample5-2.06_Nneg 0.000000\n",
       "                             PlotComp\n",
       "1 sample5-2.06_Nneg-sample5-2.06_Nneg\n",
       "2 sample6-2.26_Nneg-sample5-2.06_Nneg\n",
       "3 sample6-3.18_Nneg-sample5-2.06_Nneg\n",
       "4 sample5-3.13_Nneg-sample5-2.06_Nneg\n",
       "5 sample5-1.17_Nneg-sample5-2.06_Nneg\n",
       "6 sample5-4.08_Nneg-sample5-2.06_Nneg\n",
       "              PlotA             PlotB   FunDist\n",
       "1 sample5-2.06_Nneg sample5-2.06_Nneg 0.0000000\n",
       "2 sample6-2.26_Nneg sample5-2.06_Nneg 3.5610590\n",
       "3 sample6-3.18_Nneg sample5-2.06_Nneg 3.3263846\n",
       "4 sample5-3.13_Nneg sample5-2.06_Nneg 2.5351591\n",
       "5 sample5-1.17_Nneg sample5-2.06_Nneg 0.5296049\n",
       "6 sample5-4.08_Nneg sample5-2.06_Nneg 2.4943884\n",
       "                             PlotComp\n",
       "1 sample5-2.06_Nneg-sample5-2.06_Nneg\n",
       "2 sample6-2.26_Nneg-sample5-2.06_Nneg\n",
       "3 sample6-3.18_Nneg-sample5-2.06_Nneg\n",
       "4 sample5-3.13_Nneg-sample5-2.06_Nneg\n",
       "5 sample5-1.17_Nneg-sample5-2.06_Nneg\n",
       "6 sample5-4.08_Nneg-sample5-2.06_Nneg\n",
       "              PlotA             PlotB   PC1Dist\n",
       "1 sample5-2.06_Nneg sample5-2.06_Nneg 0.0000000\n",
       "2 sample6-2.26_Nneg sample5-2.06_Nneg 0.1298754\n",
       "3 sample6-3.18_Nneg sample5-2.06_Nneg 1.6196370\n",
       "4 sample5-3.13_Nneg sample5-2.06_Nneg 1.8474549\n",
       "5 sample5-1.17_Nneg sample5-2.06_Nneg 0.2799782\n",
       "6 sample5-4.08_Nneg sample5-2.06_Nneg 2.2524173\n",
       "                             PlotComp   PC2Dist   PC3Dist   FunDist     CNdist\n",
       "1 sample5-2.06_Nneg-sample5-2.06_Nneg 0.0000000 0.0000000 0.0000000 0.00000000\n",
       "2 sample6-2.26_Nneg-sample5-2.06_Nneg 2.5629095 2.4689610 3.5610590 0.10793626\n",
       "3 sample6-3.18_Nneg-sample5-2.06_Nneg 1.5745056 2.4418318 3.3263846 0.05028337\n",
       "4 sample5-3.13_Nneg-sample5-2.06_Nneg 1.7071701 0.3154552 2.5351591 0.31288468\n",
       "5 sample5-1.17_Nneg-sample5-2.06_Nneg 0.2860699 0.3467816 0.5296049 0.08417796\n",
       "6 sample5-4.08_Nneg-sample5-2.06_Nneg 0.9932947 0.4024368 2.4943884 0.11968321\n",
       "       Ndist   SSdist\n",
       "1 0.00000000 0.000000\n",
       "2 0.36696253 7.139949\n",
       "3 0.06491028 7.139949\n",
       "4 0.59562586 0.000000\n",
       "5 0.02105066 0.000000\n",
       "6 0.58490768 0.000000\n"
      ]
     },
     "metadata": {},
     "output_type": "display_data"
    }
   ],
   "source": [
    "%%R\n",
    "#measure distances on PC1\n",
    "sd = sample_data(physeq.NAM)\n",
    "PC1dist = dist(sd[, \"PC1\"], method = \"euclidian\")\n",
    "    #melt matrix\n",
    "    PC1.m = melt(as.matrix(PC1dist))\n",
    "\n",
    "    #set column names and create comparison column\n",
    "     colnames(PC1.m) = c(\"PlotA\", \"PlotB\", \"PC1Dist\")\n",
    "    PC1.m$PlotComp = paste(PC1.m$PlotA, PC1.m$PlotB, sep = \"-\")\n",
    "    PC1.m %>% head\n",
    "\n",
    "#measure distances on PC2\n",
    "PC2dist = dist(sd[,\"PC2\"], method = \"euclidian\")\n",
    "    #melt matrix\n",
    "    PC2.m = melt(as.matrix(PC2dist))\n",
    "\n",
    "    #set column names and create comparison column\n",
    "     colnames(PC2.m) = c(\"PlotA\", \"PlotB\", \"PC2Dist\")\n",
    "    PC2.m$PlotComp = paste(PC2.m$PlotA, PC2.m$PlotB, sep = \"-\")\n",
    "    PC2.m %>% head\n",
    "\n",
    "#measure distances on PC3\n",
    "PC3dist = dist(sd[,\"PC3\"], method = \"euclidian\")\n",
    "    #melt matrix\n",
    "    PC3.m = melt(as.matrix(PC3dist))\n",
    "\n",
    "    #set column names and create comparison column\n",
    "     colnames(PC3.m) = c(\"PlotA\", \"PlotB\", \"PC3Dist\")\n",
    "    PC3.m$PlotComp = paste(PC3.m$PlotA, PC3.m$PlotB, sep = \"-\")\n",
    "    PC3.m %>% head %>% print\n",
    "\n",
    "#measure distances on residCN\n",
    "CNdist = dist(sd[,\"M_Resid_logCN\"], method = \"euclidian\")\n",
    "    #melt matrix\n",
    "    CN.m = melt(as.matrix(CNdist))\n",
    "\n",
    "    #set column names and create comparison column\n",
    "     colnames(CN.m) = c(\"PlotA\", \"PlotB\", \"CNdist\")\n",
    "    CN.m$PlotComp = paste(CN.m$PlotA, CN.m$PlotB, sep = \"-\")\n",
    "    CN.m %>% head %>% print\n",
    "\n",
    "#measure distances on residBiomass\n",
    "Ndist = dist(sd[,\"M_Resid_logN\"], method = \"euclidian\")\n",
    "    #melt matrix\n",
    "    N.m = melt(as.matrix(Ndist))\n",
    "\n",
    "    #set column names and create comparison column\n",
    "     colnames(N.m) = c(\"PlotA\", \"PlotB\", \"Ndist\")\n",
    "    N.m$PlotComp = paste(N.m$PlotA, N.m$PlotB, sep = \"-\")\n",
    "    N.m %>% head %>% print\n",
    "\n",
    "#measure distances on Seed Size\n",
    "SSdist = dist(log(sd[,\"SeedSize_mg\"]), method = \"euclidian\")\n",
    "    #melt matrix\n",
    "    SS.m = melt(as.matrix(SSdist))\n",
    "\n",
    "    #set column names and create comparison column\n",
    "     colnames(SS.m) = c(\"PlotA\", \"PlotB\", \"SSdist\")\n",
    "    SS.m$PlotComp = paste(SS.m$PlotA, SS.m$PlotB, sep = \"-\")\n",
    "    SS.m %>% head %>% print\n",
    "\n",
    "Fundist = dist(sd[,c(\"PC1\", \"PC2\", \"PC3\")], method = \"euclidian\")\n",
    "    Fun.m = melt(as.matrix(Fundist))\n",
    "\n",
    "    #set column names and create comparison column\n",
    "     colnames(Fun.m) = c(\"PlotA\", \"PlotB\", \"FunDist\")\n",
    "    Fun.m$PlotComp = paste(Fun.m$PlotA, PC3.m$PlotB, sep = \"-\")\n",
    "    Fun.m %>% head %>% print\n",
    "PCA.m = left_join(PC1.m, PC2.m[,c(3,4)], by = \"PlotComp\")\n",
    "PCA.m = left_join(PCA.m, PC3.m[,c(3,4)], by = \"PlotComp\")\n",
    "PCA.m = left_join(PCA.m, Fun.m[,c(3,4)], by = \"PlotComp\")\n",
    "PCA.m = left_join(PCA.m, CN.m[,c(3,4)], by = \"PlotComp\")\n",
    "PCA.m = left_join(PCA.m, N.m[,c(3,4)], by = \"PlotComp\")\n",
    "PCA.m = left_join(PCA.m, SS.m[,c(3,4)], by = \"PlotComp\")\n",
    "head(PCA.m)"
   ]
  },
  {
   "cell_type": "markdown",
   "metadata": {},
   "source": [
    "## Join distance tables"
   ]
  },
  {
   "cell_type": "code",
   "execution_count": 38,
   "metadata": {
    "collapsed": false,
    "scrolled": true
   },
   "outputs": [
    {
     "data": {
      "text/plain": [
       "              PlotA             PlotB w_Unif_Dist Plant\n",
       "1 sample5-2.06_Nneg sample6-2.26_Nneg   0.1544908  MS71\n",
       "2 sample5-2.06_Nneg sample6-3.18_Nneg   0.1652106  MS71\n",
       "3 sample6-2.26_Nneg sample6-3.18_Nneg   0.1568328   B73\n",
       "4 sample5-2.06_Nneg sample5-3.13_Nneg   0.1293945  MS71\n",
       "5 sample6-2.26_Nneg sample5-3.13_Nneg   0.1576011   B73\n",
       "6 sample6-3.18_Nneg sample5-3.13_Nneg   0.1265751   B73\n",
       "              PlotA             PlotB w_Unif_Dist PlantA Plant\n",
       "1 sample5-2.06_Nneg sample6-2.26_Nneg   0.1544908   MS71   B73\n",
       "2 sample5-2.06_Nneg sample6-3.18_Nneg   0.1652106   MS71   B73\n",
       "3 sample6-2.26_Nneg sample6-3.18_Nneg   0.1568328    B73   B73\n",
       "4 sample5-2.06_Nneg sample5-3.13_Nneg   0.1293945   MS71  MS71\n",
       "5 sample6-2.26_Nneg sample5-3.13_Nneg   0.1576011    B73  MS71\n",
       "6 sample6-3.18_Nneg sample5-3.13_Nneg   0.1265751    B73  MS71\n",
       "              PlotA             PlotB w_Unif_Dist PlantA PlantB PlantComp\n",
       "1 sample5-2.06_Nneg sample6-2.26_Nneg   0.1544908   MS71    B73  MS71-B73\n",
       "2 sample5-2.06_Nneg sample6-3.18_Nneg   0.1652106   MS71    B73  MS71-B73\n",
       "3 sample6-2.26_Nneg sample6-3.18_Nneg   0.1568328    B73    B73   B73-B73\n",
       "4 sample5-2.06_Nneg sample5-3.13_Nneg   0.1293945   MS71   MS71 MS71-MS71\n",
       "5 sample6-2.26_Nneg sample5-3.13_Nneg   0.1576011    B73   MS71  B73-MS71\n",
       "6 sample6-3.18_Nneg sample5-3.13_Nneg   0.1265751    B73   MS71  B73-MS71\n",
       "                             PlotComp\n",
       "1 sample5-2.06_Nneg-sample6-2.26_Nneg\n",
       "2 sample5-2.06_Nneg-sample6-3.18_Nneg\n",
       "3 sample6-2.26_Nneg-sample6-3.18_Nneg\n",
       "4 sample5-2.06_Nneg-sample5-3.13_Nneg\n",
       "5 sample6-2.26_Nneg-sample5-3.13_Nneg\n",
       "6 sample6-3.18_Nneg-sample5-3.13_Nneg\n"
      ]
     },
     "metadata": {},
     "output_type": "display_data"
    }
   ],
   "source": [
    "%%R\n",
    "#Join with plant names\n",
    "ud.m = left_join(ud.m, sd[, c(1,9)], by = c(\"PlotA\" = \"X.sample\"))\n",
    "head(ud.m) %>% print\n",
    "colnames(ud.m)[4] = \"PlantA\"\n",
    "\n",
    "ud.m = left_join(ud.m, sd[, c(1,9)], by = c(\"PlotB\" = \"X.sample\"))\n",
    "head(ud.m) %>% print\n",
    "colnames(ud.m)[5] = \"PlantB\"\n",
    "ud.m$PlantComp = paste(ud.m$PlantA, ud.m$PlantB, sep = \"-\")\n",
    "\n",
    "#Create plot comparison for joining with functional distance matrix\n",
    "ud.m$PlotComp = paste(ud.m$PlotA, ud.m$PlotB, sep = \"-\")\n",
    "head(ud.m) %>% print"
   ]
  },
  {
   "cell_type": "markdown",
   "metadata": {},
   "source": [
    "## Join with plant phylogenetic distance and functional distance"
   ]
  },
  {
   "cell_type": "code",
   "execution_count": 39,
   "metadata": {
    "collapsed": false
   },
   "outputs": [
    {
     "data": {
      "text/plain": [
       "                PlotA             PlotB w_Unif_Dist PlantA PlantB  PlantComp\n",
       "775 sample8-2.22_Nneg sample8-4.04_Nneg   0.2488823  Tx303   Mo18 Tx303-Mo18\n",
       "776 sample8-3.29_Nneg sample8-4.04_Nneg   0.2682512    Ki3   Mo18   Ki3-Mo18\n",
       "777 sample8-3.28_Nneg sample8-4.04_Nneg   0.2630809  Tx303   Mo18 Tx303-Mo18\n",
       "778 sample6-4.13_Nneg sample8-4.04_Nneg   0.1807210  Hp301   Mo18 Hp301-Mo18\n",
       "779 sample8-1.23_Nneg sample8-4.04_Nneg   0.1509644    Ki3   Mo18   Ki3-Mo18\n",
       "780 sample6-2.14_Nneg sample8-4.04_Nneg   0.2944427  Hp301   Mo18 Hp301-Mo18\n",
       "                               PlotComp gene_Dist\n",
       "775 sample8-2.22_Nneg-sample8-4.04_Nneg 0.1355506\n",
       "776 sample8-3.29_Nneg-sample8-4.04_Nneg 0.1370860\n",
       "777 sample8-3.28_Nneg-sample8-4.04_Nneg 0.1355506\n",
       "778 sample6-4.13_Nneg-sample8-4.04_Nneg 0.1471428\n",
       "779 sample8-1.23_Nneg-sample8-4.04_Nneg 0.1370860\n",
       "780 sample6-2.14_Nneg-sample8-4.04_Nneg 0.1471428\n",
       "                PlotA             PlotB w_Unif_Dist PlantA PlantB  PlantComp\n",
       "775 sample8-2.22_Nneg sample8-4.04_Nneg   0.2488823  Tx303   Mo18 Tx303-Mo18\n",
       "776 sample8-3.29_Nneg sample8-4.04_Nneg   0.2682512    Ki3   Mo18   Ki3-Mo18\n",
       "777 sample8-3.28_Nneg sample8-4.04_Nneg   0.2630809  Tx303   Mo18 Tx303-Mo18\n",
       "778 sample6-4.13_Nneg sample8-4.04_Nneg   0.1807210  Hp301   Mo18 Hp301-Mo18\n",
       "779 sample8-1.23_Nneg sample8-4.04_Nneg   0.1509644    Ki3   Mo18   Ki3-Mo18\n",
       "780 sample6-2.14_Nneg sample8-4.04_Nneg   0.2944427  Hp301   Mo18 Hp301-Mo18\n",
       "                               PlotComp gene_Dist LibraryA DAY_A\n",
       "775 sample8-2.22_Nneg-sample8-4.04_Nneg 0.1355506        2    88\n",
       "776 sample8-3.29_Nneg-sample8-4.04_Nneg 0.1370860        2    88\n",
       "777 sample8-3.28_Nneg-sample8-4.04_Nneg 0.1355506        2    88\n",
       "778 sample6-4.13_Nneg-sample8-4.04_Nneg 0.1471428        2    79\n",
       "779 sample8-1.23_Nneg-sample8-4.04_Nneg 0.1370860        2    88\n",
       "780 sample6-2.14_Nneg-sample8-4.04_Nneg 0.1471428        2    79\n",
       "                PlotA             PlotB w_Unif_Dist PlantA PlantB  PlantComp\n",
       "775 sample8-2.22_Nneg sample8-4.04_Nneg   0.2488823  Tx303   Mo18 Tx303-Mo18\n",
       "776 sample8-3.29_Nneg sample8-4.04_Nneg   0.2682512    Ki3   Mo18   Ki3-Mo18\n",
       "777 sample8-3.28_Nneg sample8-4.04_Nneg   0.2630809  Tx303   Mo18 Tx303-Mo18\n",
       "778 sample6-4.13_Nneg sample8-4.04_Nneg   0.1807210  Hp301   Mo18 Hp301-Mo18\n",
       "779 sample8-1.23_Nneg sample8-4.04_Nneg   0.1509644    Ki3   Mo18   Ki3-Mo18\n",
       "780 sample6-2.14_Nneg sample8-4.04_Nneg   0.2944427  Hp301   Mo18 Hp301-Mo18\n",
       "                               PlotComp gene_Dist LibraryA DAY_A LibraryB DAY_B\n",
       "775 sample8-2.22_Nneg-sample8-4.04_Nneg 0.1355506        2    88        2    88\n",
       "776 sample8-3.29_Nneg-sample8-4.04_Nneg 0.1370860        2    88        2    88\n",
       "777 sample8-3.28_Nneg-sample8-4.04_Nneg 0.1355506        2    88        2    88\n",
       "778 sample6-4.13_Nneg-sample8-4.04_Nneg 0.1471428        2    79        2    88\n",
       "779 sample8-1.23_Nneg-sample8-4.04_Nneg 0.1370860        2    88        2    88\n",
       "780 sample6-2.14_Nneg-sample8-4.04_Nneg 0.1471428        2    79        2    88\n",
       "              PlotA             PlotB w_Unif_Dist PlantA PlantB PlantComp\n",
       "1 sample5-2.06_Nneg sample6-2.26_Nneg   0.1544908   MS71    B73  MS71-B73\n",
       "2 sample5-2.06_Nneg sample6-3.18_Nneg   0.1652106   MS71    B73  MS71-B73\n",
       "3 sample6-2.26_Nneg sample6-3.18_Nneg   0.1568328    B73    B73   B73-B73\n",
       "4 sample5-2.06_Nneg sample5-3.13_Nneg   0.1293945   MS71   MS71 MS71-MS71\n",
       "5 sample6-2.26_Nneg sample5-3.13_Nneg   0.1576011    B73   MS71  B73-MS71\n",
       "6 sample6-3.18_Nneg sample5-3.13_Nneg   0.1265751    B73   MS71  B73-MS71\n",
       "                             PlotComp gene_Dist LibraryA DAY_A LibraryB DAY_B\n",
       "1 sample5-2.06_Nneg-sample6-2.26_Nneg 0.1259195        1    72        1    79\n",
       "2 sample5-2.06_Nneg-sample6-3.18_Nneg 0.1259195        1    72        1    79\n",
       "3 sample6-2.26_Nneg-sample6-3.18_Nneg 0.0000000        1    79        1    79\n",
       "4 sample5-2.06_Nneg-sample5-3.13_Nneg 0.0000000        1    72        1    72\n",
       "5 sample6-2.26_Nneg-sample5-3.13_Nneg 0.1259195        1    79        1    72\n",
       "6 sample6-3.18_Nneg-sample5-3.13_Nneg 0.1259195        1    79        1    72\n",
       "    PC1Dist   PC2Dist    PC3Dist  FunDist     CNdist      Ndist   SSdist\n",
       "1 0.1298754 2.5629095 2.46896104 3.561059 0.10793626 0.36696253 7.139949\n",
       "2 1.6196370 1.5745056 2.44183178 3.326385 0.05028337 0.06491028 7.139949\n",
       "3 1.4897616 0.9884039 0.02712926 1.788035 0.15821962 0.43187282 0.000000\n",
       "4 1.8474549 1.7071701 0.31545516 2.535159 0.31288468 0.59562586 0.000000\n",
       "5 1.7175796 4.2700796 2.15350588 5.081461 0.42082094 0.96258839 7.139949\n",
       "6 0.2278179 3.2816757 2.12637662 3.916985 0.26260132 0.53071557 7.139949\n",
       "  TimeDist LibraryComp SameDay\n",
       "1        7           0       1\n",
       "2        7           0       1\n",
       "3        0           0       0\n",
       "4        0           0       0\n",
       "5        7           0       1\n",
       "6        7           0       1\n"
      ]
     },
     "metadata": {},
     "output_type": "display_data"
    }
   ],
   "source": [
    "%%R\n",
    "Dist = left_join(ud.m, gd.m[,c(3,4)], by = \"PlantComp\")\n",
    "tail(Dist) %>% print\n",
    "\n",
    "#Join with \n",
    "# Join DAP information and library information\n",
    "Dist = left_join(Dist, sd[,c(1,2,13)], by = c(\"PlotA\" = \"X.sample\"))\n",
    "colnames(Dist)[9:10] = c(\"LibraryA\",\"DAY_A\")\n",
    "tail(Dist) %>% print\n",
    "\n",
    "Dist = left_join(Dist, sd[,c(1,2,13)], by = c(\"PlotB\" = \"X.sample\"))\n",
    "colnames(Dist)[11:12] = c(\"LibraryB\",\"DAY_B\")\n",
    "tail(Dist) %>% print\n",
    "\n",
    "Dist = left_join(Dist, PCA.m[,3:10], by = \"PlotComp\")\n",
    "\n",
    "# set DAY_A and DAY_B as factor\n",
    "Dist$DAY_A = as.factor(Dist$DAY_A)\n",
    "Dist$DAY_B = as.factor(Dist$DAY_B)\n",
    "Dist$TimeDist = abs(as.numeric(as.character(Dist$DAY_A)) - as.numeric(as.character(Dist$DAY_B)))\n",
    "\n",
    "#create factor for cross library comps and same day comps\n",
    "Dist$LibraryComp = ifelse(Dist$LibraryA == Dist$LibraryB, 0, 1) %>% as.factor\n",
    "Dist$SameDay = ifelse(Dist$DAY_A == Dist$DAY_B, 0, 1) %>% as.factor\n",
    "\n",
    "head(Dist)"
   ]
  },
  {
   "cell_type": "markdown",
   "metadata": {},
   "source": [
    "# Build corMLPE models"
   ]
  },
  {
   "cell_type": "markdown",
   "metadata": {},
   "source": [
    "## corMLPE models without random effects"
   ]
  },
  {
   "cell_type": "code",
   "execution_count": 40,
   "metadata": {
    "collapsed": false
   },
   "outputs": [
    {
     "data": {
      "text/plain": [
       "'data.frame':\t780 obs. of  22 variables:\n",
       " $ PlotA      : chr  \"sample5-2.06_Nneg\" \"sample5-2.06_Nneg\" \"sample6-2.26_Nneg\" \"sample5-2.06_Nneg\" ...\n",
       " $ PlotB      : chr  \"sample6-2.26_Nneg\" \"sample6-3.18_Nneg\" \"sample6-3.18_Nneg\" \"sample5-3.13_Nneg\" ...\n",
       " $ w_Unif_Dist: num  0.154 0.165 0.157 0.129 0.158 ...\n",
       " $ PlantA     : chr  \"MS71\" \"MS71\" \"B73\" \"MS71\" ...\n",
       " $ PlantB     : chr  \"B73\" \"B73\" \"B73\" \"MS71\" ...\n",
       " $ PlantComp  : chr  \"MS71-B73\" \"MS71-B73\" \"B73-B73\" \"MS71-MS71\" ...\n",
       " $ PlotComp   : chr  \"sample5-2.06_Nneg-sample6-2.26_Nneg\" \"sample5-2.06_Nneg-sample6-3.18_Nneg\" \"sample6-2.26_Nneg-sample6-3.18_Nneg\" \"sample5-2.06_Nneg-sample5-3.13_Nneg\" ...\n",
       " $ gene_Dist  : num  0.126 0.126 0 0 0.126 ...\n",
       " $ LibraryA   : int  1 1 1 1 1 1 1 1 1 1 ...\n",
       " $ DAY_A      : Factor w/ 3 levels \"72\",\"79\",\"88\": 1 1 2 1 2 2 1 2 2 1 ...\n",
       " $ LibraryB   : int  1 1 1 1 1 1 1 1 1 1 ...\n",
       " $ DAY_B      : Factor w/ 3 levels \"72\",\"79\",\"88\": 2 2 2 1 1 1 1 1 1 1 ...\n",
       " $ PC1Dist    : num  0.13 1.62 1.49 1.85 1.72 ...\n",
       " $ PC2Dist    : num  2.563 1.575 0.988 1.707 4.27 ...\n",
       " $ PC3Dist    : num  2.469 2.4418 0.0271 0.3155 2.1535 ...\n",
       " $ FunDist    : num  3.56 3.33 1.79 2.54 5.08 ...\n",
       " $ CNdist     : num  0.1079 0.0503 0.1582 0.3129 0.4208 ...\n",
       " $ Ndist      : num  0.367 0.0649 0.4319 0.5956 0.9626 ...\n",
       " $ SSdist     : num  7.14 7.14 0 0 7.14 ...\n",
       " $ TimeDist   : num  7 7 0 0 7 7 0 7 7 0 ...\n",
       " $ LibraryComp: Factor w/ 2 levels \"0\",\"1\": 1 1 1 1 1 1 1 1 1 1 ...\n",
       " $ SameDay    : Factor w/ 2 levels \"0\",\"1\": 2 2 1 1 2 2 1 2 2 1 ...\n"
      ]
     },
     "metadata": {},
     "output_type": "display_data"
    }
   ],
   "source": [
    "%%R\n",
    "str(Dist)"
   ]
  },
  {
   "cell_type": "code",
   "execution_count": 41,
   "metadata": {
    "collapsed": false
   },
   "outputs": [
    {
     "data": {
      "text/plain": [
       "[1] 780  22\n",
       "[1] 720  22\n"
      ]
     },
     "metadata": {},
     "output_type": "display_data"
    }
   ],
   "source": [
    "%%R\n",
    "Data = filter(Dist, gene_Dist != 0) \n",
    "dim(Dist) %>% print\n",
    "dim(Data)"
   ]
  },
  {
   "cell_type": "code",
   "execution_count": null,
   "metadata": {
    "collapsed": true
   },
   "outputs": [],
   "source": []
  },
  {
   "cell_type": "code",
   "execution_count": 42,
   "metadata": {
    "collapsed": false
   },
   "outputs": [],
   "source": [
    "%%R\n",
    "#Base models\n",
    "fit1 =  gls(w_Unif_Dist ~ 1, correlation = corMLPE(form= ~ PlotA + PlotB), data = Data)"
   ]
  },
  {
   "cell_type": "code",
   "execution_count": 43,
   "metadata": {
    "collapsed": false
   },
   "outputs": [
    {
     "data": {
      "text/plain": [
       "Generalized least squares fit by REML\n",
       "  Model: w_Unif_Dist ~ 1 \n",
       "  Data: Data \n",
       "        AIC       BIC   logLik\n",
       "  -2775.158 -2761.424 1390.579\n",
       "\n",
       "Correlation Structure: corMLPE\n",
       " Formula: ~PlotA + PlotB \n",
       " Parameter estimate(s):\n",
       "      Rho \n",
       "0.3198367 \n",
       "\n",
       "Coefficients:\n",
       "                Value   Std.Error  t-value p-value\n",
       "(Intercept) 0.2076891 0.009516128 21.82496       0\n",
       "\n",
       "Standardized residuals:\n",
       "       Min         Q1        Med         Q3        Max \n",
       "-1.6986396 -0.7477845 -0.1698686  0.5730852  3.2261110 \n",
       "\n",
       "Residual standard error: 0.05279888 \n",
       "Degrees of freedom: 720 total; 719 residual\n"
      ]
     },
     "metadata": {},
     "output_type": "display_data"
    }
   ],
   "source": [
    "%%R\n",
    "summary(fit1)"
   ]
  },
  {
   "cell_type": "code",
   "execution_count": 62,
   "metadata": {
    "collapsed": true
   },
   "outputs": [],
   "source": [
    "%%R\n",
    "fit1.1 = gls(w_Unif_Dist ~ 1, correlation = corMLPE(form= ~ PlotA + PlotB), data = Data, method = \"ML\")"
   ]
  },
  {
   "cell_type": "code",
   "execution_count": 63,
   "metadata": {
    "collapsed": false,
    "scrolled": true
   },
   "outputs": [
    {
     "data": {
      "text/plain": [
       "Generalized least squares fit by maximum likelihood\n",
       "  Model: w_Unif_Dist ~ 1 \n",
       "  Data: Data \n",
       "        AIC       BIC   logLik\n",
       "  -2782.643 -2768.905 1394.321\n",
       "\n",
       "Correlation Structure: corMLPE\n",
       " Formula: ~PlotA + PlotB \n",
       " Parameter estimate(s):\n",
       "      Rho \n",
       "0.3167514 \n",
       "\n",
       "Coefficients:\n",
       "                Value   Std.Error t-value p-value\n",
       "(Intercept) 0.2076891 0.009398675 22.0977       0\n",
       "\n",
       "Standardized residuals:\n",
       "       Min         Q1        Med         Q3        Max \n",
       "-1.7130981 -0.7541496 -0.1713145  0.5779632  3.2535711 \n",
       "\n",
       "Residual standard error: 0.05235326 \n",
       "Degrees of freedom: 720 total; 719 residual\n"
      ]
     },
     "metadata": {},
     "output_type": "display_data"
    }
   ],
   "source": [
    "%%R\n",
    "summary(fit1.1)"
   ]
  },
  {
   "cell_type": "code",
   "execution_count": 64,
   "metadata": {
    "collapsed": true
   },
   "outputs": [],
   "source": [
    "%%R\n",
    "#Base models\n",
    "fit8.1 =  gls(w_Unif_Dist ~ CNdist, correlation = corMLPE(form= ~ PlotA + PlotB), data = Data, method = \"ML\")"
   ]
  },
  {
   "cell_type": "code",
   "execution_count": 65,
   "metadata": {
    "collapsed": false,
    "scrolled": true
   },
   "outputs": [
    {
     "data": {
      "text/plain": [
       "Generalized least squares fit by maximum likelihood\n",
       "  Model: w_Unif_Dist ~ CNdist \n",
       "  Data: Data \n",
       "        AIC      BIC   logLik\n",
       "  -2785.007 -2766.69 1396.503\n",
       "\n",
       "Correlation Structure: corMLPE\n",
       " Formula: ~PlotA + PlotB \n",
       " Parameter estimate(s):\n",
       "      Rho \n",
       "0.3192713 \n",
       "\n",
       "Coefficients:\n",
       "                 Value   Std.Error  t-value p-value\n",
       "(Intercept) 0.20326166 0.009705914 20.94204  0.0000\n",
       "CNdist      0.01731771 0.008280677  2.09134  0.0368\n",
       "\n",
       " Correlation: \n",
       "       (Intr)\n",
       "CNdist -0.218\n",
       "\n",
       "Standardized residuals:\n",
       "       Min         Q1        Med         Q3        Max \n",
       "-1.6974393 -0.7628038 -0.1660929  0.5799117  3.2846401 \n",
       "\n",
       "Residual standard error: 0.05252666 \n",
       "Degrees of freedom: 720 total; 718 residual\n"
      ]
     },
     "metadata": {},
     "output_type": "display_data"
    }
   ],
   "source": [
    "%%R\n",
    "summary(fit8.1)"
   ]
  },
  {
   "cell_type": "code",
   "execution_count": 66,
   "metadata": {
    "collapsed": false
   },
   "outputs": [
    {
     "data": {
      "text/plain": [
       "       Model df       AIC       BIC   logLik   Test  L.Ratio p-value\n",
       "fit1.1     1  3 -2782.643 -2768.905 1394.321                        \n",
       "fit8.1     2  4 -2785.007 -2766.690 1396.503 1 vs 2 4.364263  0.0367\n"
      ]
     },
     "metadata": {},
     "output_type": "display_data"
    }
   ],
   "source": [
    "%%R\n",
    "anova(fit1.1, fit8.1)"
   ]
  },
  {
   "cell_type": "code",
   "execution_count": 94,
   "metadata": {
    "collapsed": false
   },
   "outputs": [
    {
     "data": {
      "text/plain": [
       "'log Lik.' -0.001565013 (df=4)\n"
      ]
     },
     "metadata": {},
     "output_type": "display_data"
    }
   ],
   "source": [
    "%%R\n",
    "#pseudo R2\n",
    "1 - (-logLik(fit8.1)/-logLik(fit1.1))"
   ]
  },
  {
   "cell_type": "code",
   "execution_count": 87,
   "metadata": {
    "collapsed": false
   },
   "outputs": [
    {
     "data": {
      "text/plain": [
       "[1] 720   1\n"
      ]
     },
     "metadata": {},
     "output_type": "display_data"
    }
   ],
   "source": [
    "%%R\n",
    "fitted(fit1.1) %>% as.data.frame %>% dim\n",
    "#Data$w_Unif_Dist"
   ]
  },
  {
   "cell_type": "code",
   "execution_count": 95,
   "metadata": {
    "collapsed": false
   },
   "outputs": [
    {
     "data": {
      "text/plain": [
       "[1] 0.006043142\n",
       "attr(,\"adj.r.squared\")\n",
       "[1] -0.0001283264\n"
      ]
     },
     "metadata": {},
     "output_type": "display_data"
    }
   ],
   "source": [
    "%%R\n",
    "MuMIn::r.squaredLR(fit8.1, fit1.1)"
   ]
  },
  {
   "cell_type": "code",
   "execution_count": 92,
   "metadata": {
    "collapsed": false
   },
   "outputs": [
    {
     "data": {
      "text/plain": [
       "\n",
       "Call:\n",
       "lm(formula = Data$w_Unif_Dist ~ fitted(fit8.1))\n",
       "\n",
       "Residuals:\n",
       "      Min        1Q    Median        3Q       Max \n",
       "-0.089855 -0.039542 -0.009005  0.030365  0.169631 \n",
       "\n",
       "Coefficients:\n",
       "               Estimate Std. Error t value Pr(>|t|)  \n",
       "(Intercept)      0.2743     0.1296   2.116   0.0347 *\n",
       "fitted(fit8.1)  -0.3205     0.6239  -0.514   0.6076  \n",
       "---\n",
       "Signif. codes:  0 ‘***’ 0.001 ‘**’ 0.01 ‘*’ 0.05 ‘.’ 0.1 ‘ ’ 1\n",
       "\n",
       "Residual standard error: 0.05139 on 718 degrees of freedom\n",
       "Multiple R-squared:  0.0003674,\tAdjusted R-squared:  -0.001025 \n",
       "F-statistic: 0.2639 on 1 and 718 DF,  p-value: 0.6076\n",
       "\n"
      ]
     },
     "metadata": {},
     "output_type": "display_data"
    }
   ],
   "source": [
    "%%R\n",
    "library(\"MuMIn\")\n",
    "t1 = lm(Data$w_Unif_Dist~fitted(fit8.1))\n",
    "summary(t1)"
   ]
  },
  {
   "cell_type": "code",
   "execution_count": 44,
   "metadata": {
    "collapsed": false
   },
   "outputs": [],
   "source": [
    "%%R\n",
    "#Base models\n",
    "fit2 =  gls(w_Unif_Dist ~ gene_Dist, correlation = corMLPE(form= ~ PlotA + PlotB), data = Data)\n"
   ]
  },
  {
   "cell_type": "code",
   "execution_count": 45,
   "metadata": {
    "collapsed": false,
    "scrolled": true
   },
   "outputs": [
    {
     "data": {
      "text/plain": [
       "Generalized least squares fit by REML\n",
       "  Model: w_Unif_Dist ~ gene_Dist \n",
       "  Data: Data \n",
       "        AIC       BIC   logLik\n",
       "  -2772.892 -2754.586 1390.446\n",
       "\n",
       "Correlation Structure: corMLPE\n",
       " Formula: ~PlotA + PlotB \n",
       " Parameter estimate(s):\n",
       "      Rho \n",
       "0.3169767 \n",
       "\n",
       "Coefficients:\n",
       "                Value  Std.Error  t-value p-value\n",
       "(Intercept) 0.1821804 0.04104625 4.438417  0.0000\n",
       "gene_Dist   0.1828523 0.28639080 0.638471  0.5234\n",
       "\n",
       " Correlation: \n",
       "          (Intr)\n",
       "gene_Dist -0.973\n",
       "\n",
       "Standardized residuals:\n",
       "       Min         Q1        Med         Q3        Max \n",
       "-1.7148356 -0.7483326 -0.1672298  0.5883195  3.1881563 \n",
       "\n",
       "Residual standard error: 0.05244076 \n",
       "Degrees of freedom: 720 total; 718 residual\n"
      ]
     },
     "metadata": {},
     "output_type": "display_data"
    }
   ],
   "source": [
    "%%R\n",
    "summary(fit2)"
   ]
  },
  {
   "cell_type": "code",
   "execution_count": 51,
   "metadata": {
    "collapsed": false,
    "scrolled": false
   },
   "outputs": [
    {
     "data": {
      "text/plain": [
       "Generalized least squares fit by REML\n",
       "  Model: w_Unif_Dist ~ TimeDist \n",
       "  Data: Data \n",
       "        AIC       BIC   logLik\n",
       "  -2758.536 -2740.231 1383.268\n",
       "\n",
       "Correlation Structure: corMLPE\n",
       " Formula: ~PlotA + PlotB \n",
       " Parameter estimate(s):\n",
       "     Rho \n",
       "0.319499 \n",
       "\n",
       "Coefficients:\n",
       "                 Value   Std.Error   t-value p-value\n",
       "(Intercept) 0.20693566 0.009683076 21.370859  0.0000\n",
       "TimeDist    0.00010091 0.000245046  0.411803  0.6806\n",
       "\n",
       " Correlation: \n",
       "         (Intr)\n",
       "TimeDist -0.189\n",
       "\n",
       "Standardized residuals:\n",
       "       Min         Q1        Med         Q3        Max \n",
       "-1.6849274 -0.7497239 -0.1699593  0.5765293  3.2107054 \n",
       "\n",
       "Residual standard error: 0.05278402 \n",
       "Degrees of freedom: 720 total; 718 residual\n"
      ]
     },
     "metadata": {},
     "output_type": "display_data"
    }
   ],
   "source": [
    "%%R\n",
    "#Controlling for time and batch effects, using same correlation structure\n",
    "fit3 =  gls(w_Unif_Dist ~ TimeDist, correlation = corMLPE(form= ~ PlotA + PlotB), data = Data)\n",
    "summary(fit3)\n"
   ]
  },
  {
   "cell_type": "code",
   "execution_count": 53,
   "metadata": {
    "collapsed": false
   },
   "outputs": [
    {
     "data": {
      "text/plain": [
       "Generalized least squares fit by REML\n",
       "  Model: w_Unif_Dist ~ poly(TimeDist, 2) \n",
       "  Data: Data \n",
       "        AIC       BIC   logLik\n",
       "  -2761.972 -2739.096 1385.986\n",
       "\n",
       "Correlation Structure: corMLPE\n",
       " Formula: ~PlotA + PlotB \n",
       " Parameter estimate(s):\n",
       "      Rho \n",
       "0.3198431 \n",
       "\n",
       "Coefficients:\n",
       "                         Value  Std.Error   t-value p-value\n",
       "(Intercept)         0.20768913 0.00952640 21.801434  0.0000\n",
       "poly(TimeDist, 2)1  0.01037429 0.03696040  0.280687  0.7790\n",
       "poly(TimeDist, 2)2 -0.01974472 0.03500336 -0.564081  0.5729\n",
       "\n",
       " Correlation: \n",
       "                   (Intr) p(TD,2)1\n",
       "poly(TimeDist, 2)1 0.000          \n",
       "poly(TimeDist, 2)2 0.000  0.215   \n",
       "\n",
       "Standardized residuals:\n",
       "       Min         Q1        Med         Q3        Max \n",
       "-1.6944569 -0.7489221 -0.1677302  0.5844338  3.2285149 \n",
       "\n",
       "Residual standard error: 0.05285536 \n",
       "Degrees of freedom: 720 total; 717 residual\n"
      ]
     },
     "metadata": {},
     "output_type": "display_data"
    }
   ],
   "source": [
    "%%R\n",
    "#Hypothesis testing functional distance\n",
    "fit3 =  gls(w_Unif_Dist ~ poly(TimeDist,2), \n",
    "             correlation = corMLPE(form= ~ PlotA + PlotB), data = Data)\n",
    "summary(fit3)"
   ]
  },
  {
   "cell_type": "code",
   "execution_count": 55,
   "metadata": {
    "collapsed": false
   },
   "outputs": [
    {
     "data": {
      "text/plain": [
       "Generalized least squares fit by REML\n",
       "  Model: w_Unif_Dist ~ TimeDist + gene_Dist \n",
       "  Data: Data \n",
       "  Log-restricted-likelihood: 1383.284\n",
       "\n",
       "Coefficients:\n",
       " (Intercept)     TimeDist    gene_Dist \n",
       "1.830523e-01 9.438899e-06 1.760974e-01 \n",
       "\n",
       "Correlation Structure: corMLPE\n",
       " Formula: ~PlotA + PlotB \n",
       " Parameter estimate(s):\n",
       "      Rho \n",
       "0.3169949 \n",
       "Degrees of freedom: 720 total; 717 residual\n",
       "Residual standard error: 0.05247967 \n"
      ]
     },
     "metadata": {},
     "output_type": "display_data"
    }
   ],
   "source": [
    "%%R\n",
    "#H3: combined phylogenetic distance and functional\n",
    "fit6=  gls(w_Unif_Dist ~ TimeDist + gene_Dist, \n",
    "             correlation = corMLPE(form= ~ PlotA + PlotB), data = Data)\n",
    "fit6"
   ]
  },
  {
   "cell_type": "code",
   "execution_count": 57,
   "metadata": {
    "collapsed": false,
    "scrolled": true
   },
   "outputs": [
    {
     "data": {
      "text/plain": [
       "Generalized least squares fit by REML\n",
       "  Model: w_Unif_Dist ~ CNdist + Ndist \n",
       "  Data: Data \n",
       "  Log-restricted-likelihood: 1384.952\n",
       "\n",
       "Coefficients:\n",
       "(Intercept)      CNdist       Ndist \n",
       "0.201820288 0.016852070 0.004276125 \n",
       "\n",
       "Correlation Structure: corMLPE\n",
       " Formula: ~PlotA + PlotB \n",
       " Parameter estimate(s):\n",
       "      Rho \n",
       "0.3235429 \n",
       "Degrees of freedom: 720 total; 717 residual\n",
       "Residual standard error: 0.05319871 \n"
      ]
     },
     "metadata": {},
     "output_type": "display_data"
    }
   ],
   "source": [
    "%%R\n",
    "#H3: functional residuals\n",
    "fit7=  gls(w_Unif_Dist ~ CNdist + Ndist, \n",
    "             correlation = corMLPE(form= ~ PlotA + PlotB), data = Data)\n",
    "fit7"
   ]
  },
  {
   "cell_type": "code",
   "execution_count": 58,
   "metadata": {
    "collapsed": false,
    "scrolled": true
   },
   "outputs": [
    {
     "data": {
      "text/plain": [
       "Generalized least squares fit by REML\n",
       "  Model: w_Unif_Dist ~ CNdist + Ndist \n",
       "  Data: Data \n",
       "        AIC       BIC   logLik\n",
       "  -2759.904 -2737.028 1384.952\n",
       "\n",
       "Correlation Structure: corMLPE\n",
       " Formula: ~PlotA + PlotB \n",
       " Parameter estimate(s):\n",
       "      Rho \n",
       "0.3235429 \n",
       "\n",
       "Coefficients:\n",
       "                 Value   Std.Error   t-value p-value\n",
       "(Intercept) 0.20182029 0.010075751 20.030298  0.0000\n",
       "CNdist      0.01685207 0.008309339  2.028088  0.0429\n",
       "Ndist       0.00427612 0.006045782  0.707291  0.4796\n",
       "\n",
       " Correlation: \n",
       "       (Intr) CNdist\n",
       "CNdist -0.192       \n",
       "Ndist  -0.201 -0.087\n",
       "\n",
       "Standardized residuals:\n",
       "       Min         Q1        Med         Q3        Max \n",
       "-1.6967111 -0.7531321 -0.1683556  0.5743126  3.2581322 \n",
       "\n",
       "Residual standard error: 0.05319871 \n",
       "Degrees of freedom: 720 total; 717 residual\n"
      ]
     },
     "metadata": {},
     "output_type": "display_data"
    }
   ],
   "source": [
    "%%R\n",
    "summary(fit7)"
   ]
  },
  {
   "cell_type": "code",
   "execution_count": 59,
   "metadata": {
    "collapsed": false
   },
   "outputs": [
    {
     "data": {
      "text/plain": [
       "Generalized least squares fit by REML\n",
       "  Model: w_Unif_Dist ~ CNdist \n",
       "  Data: Data \n",
       "        AIC       BIC   logLik\n",
       "  -2769.785 -2751.479 1388.892\n",
       "\n",
       "Correlation Structure: corMLPE\n",
       " Formula: ~PlotA + PlotB \n",
       " Parameter estimate(s):\n",
       "      Rho \n",
       "0.3222205 \n",
       "\n",
       "Coefficients:\n",
       "                 Value   Std.Error   t-value p-value\n",
       "(Intercept) 0.20325388 0.009816822 20.704651  0.0000\n",
       "CNdist      0.01734812 0.008276863  2.095978  0.0364\n",
       "\n",
       " Correlation: \n",
       "       (Intr)\n",
       "CNdist -0.216\n",
       "\n",
       "Standardized residuals:\n",
       "       Min         Q1        Med         Q3        Max \n",
       "-1.6823233 -0.7559651 -0.1645584  0.5746662  3.2554962 \n",
       "\n",
       "Residual standard error: 0.05299807 \n",
       "Degrees of freedom: 720 total; 718 residual\n"
      ]
     },
     "metadata": {},
     "output_type": "display_data"
    }
   ],
   "source": [
    "%%R\n",
    "#H3: functional residuals\n",
    "fit8=  gls(w_Unif_Dist ~ CNdist, \n",
    "             correlation = corMLPE(form= ~ PlotA + PlotB), data = Data)\n",
    "summary(fit8)"
   ]
  },
  {
   "cell_type": "code",
   "execution_count": 60,
   "metadata": {
    "collapsed": false
   },
   "outputs": [
    {
     "data": {
      "text/plain": [
       "Denom. DF: 718 \n",
       "            numDF  F-value p-value\n",
       "(Intercept)     1 469.4062  <.0001\n",
       "CNdist          1   4.3931  0.0364\n"
      ]
     },
     "metadata": {},
     "output_type": "display_data"
    }
   ],
   "source": [
    "%%R\n",
    "anova(fit8)"
   ]
  },
  {
   "cell_type": "code",
   "execution_count": null,
   "metadata": {
    "collapsed": false,
    "hide_input": false,
    "scrolled": true
   },
   "outputs": [],
   "source": [
    "%%R\n",
    "anova(fit1, fit2, fit3, fit4, fit5, fit6)"
   ]
  },
  {
   "cell_type": "markdown",
   "metadata": {},
   "source": [
    "Notes: Genetic distance^2 is the best model on NAM lines"
   ]
  },
  {
   "cell_type": "code",
   "execution_count": null,
   "metadata": {
    "collapsed": false,
    "scrolled": true
   },
   "outputs": [],
   "source": [
    "%%R\n",
    "plot(fit5)"
   ]
  },
  {
   "cell_type": "code",
   "execution_count": 22,
   "metadata": {
    "collapsed": false,
    "hide_input": true
   },
   "outputs": [
    {
     "data": {
      "image/png": "[encoded data removed]"
     },
     "metadata": {},
     "output_type": "display_data"
    }
   ],
   "source": [
    "%%R -w 600 -h 400\n",
    "test <- function(x) {.18*x + 0.18}\n",
    "\n",
    "\n",
    "                \n",
    "p = ggplot(Dist, aes(y = w_Unif_Dist, x = gene_Dist)) \n",
    "p = p + geom_point() #aes(size = phy_Dist), shape = 1)\n",
    "#p = p + stat_smooth(method = \"lm\", formula = y~.29x -.236x^2 + .204, se = FALSE)\n",
    "p = p + theme_bw(base_size = 16)\n",
    "p = p + ggtitle(\"Maize genetic distance vs \\n microbial community dissimilarity \")\n",
    "#p = p + stat_smooth(method = lm, se = FALSE)\n",
    "p = p + stat_function(fun = test, xlim = c(.12, .16))\n",
    "p = p + ylab(\"Weighted-UniFrac Distance\")\n",
    "p = p + xlab(\"Genetic Distance\")\n",
    "p"
   ]
  },
  {
   "cell_type": "markdown",
   "metadata": {},
   "source": [
    "### Not used, but if date/combo is random effect:"
   ]
  },
  {
   "cell_type": "code",
   "execution_count": null,
   "metadata": {
    "collapsed": false
   },
   "outputs": [],
   "source": [
    "%%R\n",
    "Dist$DateCombo = ifelse(as.numeric(as.character(Dist$DAY_A)) < as.numeric(as.character(Dist$DAY_B)),\n",
    "                                                                    paste(Dist$DAY_A, Dist$DAY_B, sep = \"-\"), \n",
    "                                                                   paste(Dist$DAY_B, Dist$DAY_A, sep = \"-\"))\n",
    "Dist$DateCombo %>% unique\n"
   ]
  },
  {
   "cell_type": "code",
   "execution_count": null,
   "metadata": {
    "collapsed": false,
    "scrolled": false
   },
   "outputs": [],
   "source": [
    "%%R\n",
    "\n",
    "p = ggplot(Dist, aes(x = gene_Dist, y = w_Unif_Dist))\n",
    "           p = p + geom_point()\n",
    "        p = p + stat_smooth(method = \"lm\", se = FALSE)\n",
    "           p = p + facet_wrap(~DateCombo)\n",
    "           p"
   ]
  },
  {
   "cell_type": "code",
   "execution_count": null,
   "metadata": {
    "collapsed": true
   },
   "outputs": [],
   "source": [
    "# GLS model on early subset of plants"
   ]
  },
  {
   "cell_type": "code",
   "execution_count": null,
   "metadata": {
    "collapsed": false
   },
   "outputs": [],
   "source": [
    "%%R\n",
    "Dist$DAY_A %>% unique"
   ]
  },
  {
   "cell_type": "code",
   "execution_count": null,
   "metadata": {
    "collapsed": true
   },
   "outputs": [],
   "source": [
    "%%R\n",
    "dim(Dist) %>% print\n",
    "SubDist = filter(Dist, DAY_A %in% c( \"53\", \"57\", \"61\") & DAY_B %in% c( \"53\", \"57\", \"61\"))\n",
    "\n",
    "\n",
    "dim(SubDist) %>% print\n",
    "SubDist$PlantA %>% unique"
   ]
  },
  {
   "cell_type": "code",
   "execution_count": null,
   "metadata": {
    "collapsed": false
   },
   "outputs": [],
   "source": [
    "%%R\n",
    "#null model\n",
    "fit1=  gls(w_Unif_Dist ~ 1, \n",
    "             correlation = corMLPE(form= ~ PlotA + PlotB), data = SubDist)\n"
   ]
  },
  {
   "cell_type": "code",
   "execution_count": null,
   "metadata": {
    "collapsed": true
   },
   "outputs": [],
   "source": [
    "%%R\n",
    "fit2=  gls(w_Unif_Dist ~ TimeDist + SameDay + LibraryComp, \n",
    "             correlation = corMLPE(form= ~ PlotA + PlotB), data = SubDist)\n",
    "summary(fit2)"
   ]
  },
  {
   "cell_type": "code",
   "execution_count": null,
   "metadata": {
    "collapsed": true
   },
   "outputs": [],
   "source": [
    "%%R\n",
    "fit3=  gls(w_Unif_Dist ~ TimeDist + SameDay + LibraryComp + phy_Dist, \n",
    "             correlation = corMLPE(form= ~ PlotA + PlotB), data = SubDist)\n",
    "summary(fit3)"
   ]
  },
  {
   "cell_type": "code",
   "execution_count": null,
   "metadata": {
    "collapsed": true
   },
   "outputs": [],
   "source": [
    "%%R\n",
    "fit4=  gls(w_Unif_Dist ~ TimeDist + SameDay + LibraryComp + poly(phy_Dist,2), \n",
    "             correlation = corMLPE(form= ~ PlotA + PlotB), data = SubDist)\n",
    "summary(fit4)"
   ]
  },
  {
   "cell_type": "code",
   "execution_count": null,
   "metadata": {
    "collapsed": true
   },
   "outputs": [],
   "source": [
    "%%R\n",
    "#H3: combined phylogenetic distance and functional\n",
    "fit5=  gls(w_Unif_Dist ~ TimeDist + SameDay + LibraryComp + PC1Dist + PC2Dist + PC3Dist, \n",
    "             correlation = corMLPE(form= ~ PlotA + PlotB), data = SubDist)\n",
    "summary(fit5)"
   ]
  },
  {
   "cell_type": "code",
   "execution_count": null,
   "metadata": {
    "collapsed": true
   },
   "outputs": [],
   "source": [
    "%%R\n",
    "fit6=  gls(w_Unif_Dist ~ TimeDist + SameDay + LibraryComp + phy_Dist + PC1Dist + PC2Dist + PC3Dist, \n",
    "             correlation = corMLPE(form= ~ PlotA + PlotB), data = SubDist)\n",
    "summary(fit6)"
   ]
  },
  {
   "cell_type": "markdown",
   "metadata": {},
   "source": [
    "# Subset of late season plants"
   ]
  },
  {
   "cell_type": "code",
   "execution_count": null,
   "metadata": {
    "collapsed": false
   },
   "outputs": [],
   "source": [
    "%%R\n",
    "dim(Dist) %>% print\n",
    "SubDist = filter(Dist, PlantA %in% c(\"MS71\",   \"ERATE\", \n",
    " \"ELCOR\",  \"SORSUD\",    \"SORBI\", \"HELAN\",    \"Mo18\") & PlantB %in% c(\"MS71\", \"ERATE\", \n",
    " \"ELCOR\",  \"SORSUD\",    \"SORBI\",  \"HELAN\",  \"Mo18\"))\n",
    "dim(SubDist) %>% print\n",
    "SubDist$PlantA %>% unique"
   ]
  },
  {
   "cell_type": "code",
   "execution_count": null,
   "metadata": {
    "collapsed": true
   },
   "outputs": [],
   "source": [
    "%%R\n",
    "#null model\n",
    "fit1=  gls(w_Unif_Dist ~ 1, \n",
    "             correlation = corMLPE(form= ~ PlotA + PlotB), data = SubDist)"
   ]
  },
  {
   "cell_type": "code",
   "execution_count": null,
   "metadata": {
    "collapsed": false
   },
   "outputs": [],
   "source": [
    "%%R\n",
    "fit2=  gls(w_Unif_Dist ~ TimeDist + SameDay + LibraryComp, \n",
    "             correlation = corMLPE(form= ~ PlotA + PlotB), data = SubDist)\n",
    "summary(fit2)"
   ]
  },
  {
   "cell_type": "code",
   "execution_count": null,
   "metadata": {
    "collapsed": false
   },
   "outputs": [],
   "source": [
    "%%R\n",
    "fit3=  gls(w_Unif_Dist ~ TimeDist + SameDay + LibraryComp + phy_Dist, \n",
    "             correlation = corMLPE(form= ~ PlotA + PlotB), data = SubDist)\n",
    "summary(fit3)"
   ]
  },
  {
   "cell_type": "code",
   "execution_count": null,
   "metadata": {
    "collapsed": false
   },
   "outputs": [],
   "source": [
    "%%R\n",
    "fit4=  gls(w_Unif_Dist ~ TimeDist + SameDay + LibraryComp + poly(phy_Dist,2), \n",
    "             correlation = corMLPE(form= ~ PlotA + PlotB), data = SubDist)\n",
    "summary(fit4)"
   ]
  },
  {
   "cell_type": "code",
   "execution_count": null,
   "metadata": {
    "collapsed": false
   },
   "outputs": [],
   "source": [
    "%%R\n",
    "#H3: combined phylogenetic distance and functional\n",
    "fit5=  gls(w_Unif_Dist ~ TimeDist + SameDay + LibraryComp + PC1Dist + PC2Dist + PC3Dist, \n",
    "             correlation = corMLPE(form= ~ PlotA + PlotB), data = SubDist)\n",
    "summary(fit5)"
   ]
  },
  {
   "cell_type": "code",
   "execution_count": null,
   "metadata": {
    "collapsed": false,
    "scrolled": true
   },
   "outputs": [],
   "source": [
    "%%R\n",
    "fit6=  gls(w_Unif_Dist ~ TimeDist + SameDay + LibraryComp + poly(phy_Dist,2) + PC1Dist + PC2Dist + PC3Dist, \n",
    "             correlation = corMLPE(form= ~ PlotA + PlotB), data = SubDist)\n",
    "summary(fit6)"
   ]
  },
  {
   "cell_type": "code",
   "execution_count": null,
   "metadata": {
    "collapsed": false
   },
   "outputs": [],
   "source": [
    "%%R\n",
    "anova(fit1, fit2, fit3, fit4, fit5, fit6)"
   ]
  },
  {
   "cell_type": "code",
   "execution_count": null,
   "metadata": {
    "collapsed": true
   },
   "outputs": [],
   "source": []
  },
  {
   "cell_type": "markdown",
   "metadata": {},
   "source": [
    "# Maize distance analysis"
   ]
  },
  {
   "cell_type": "code",
   "execution_count": null,
   "metadata": {
    "collapsed": false
   },
   "outputs": [],
   "source": [
    "%%R\n",
    "NAM_hc = hclust(as.dist(NAMdist), \"average\")\n",
    "plot(NAM_hc)"
   ]
  },
  {
   "cell_type": "code",
   "execution_count": null,
   "metadata": {
    "collapsed": false,
    "hide_input": true
   },
   "outputs": [],
   "source": [
    "%%R\n",
    "physeq.Maize = subset_samples(physeq.Full, Type == \"Maize\" & Plant != \"75-062\")\n",
    "as(sample_data(physeq.Maize), \"data.frame\") %>%\n",
    "\n",
    "group_by(Plant) %>%\n",
    "   summarise(DATE = first(DAP)) %>% \n",
    "    arrange(DATE) %>%\n",
    "   print()"
   ]
  },
  {
   "cell_type": "code",
   "execution_count": null,
   "metadata": {
    "collapsed": false,
    "hide_input": false
   },
   "outputs": [],
   "source": [
    "%%R\n",
    "Dist %>% dim %>% print\n",
    "#Use melt to join genetic distance matrix with unifrac distance\n",
    "#head(ud.m) ##Use formated unifrac distance from above\n",
    "#melt \n",
    "NAM.m = melt(as.matrix(NAMdist))\n",
    "\n",
    "#set column names and create comparison column\n",
    "colnames(NAM.m) = c(\"PlantA\", \"PlantB\", \"gene_Dist\")\n",
    "\n",
    "NAM.m$PlantComp = paste(NAM.m$PlantA, NAM.m$PlantB, sep = \"-\")\n",
    "NAM.m %>% head\n",
    "\n",
    "#Join with unifrac DistanceMatrix\n",
    "NAMDist = left_join(Dist, NAM.m[,c(3,4)], by = \"PlantComp\") %>% filter(!is.na(gene_Dist))\n",
    "NAMDist %>% dim %>% print\n",
    "NAMDist %>% head"
   ]
  },
  {
   "cell_type": "code",
   "execution_count": null,
   "metadata": {
    "collapsed": false,
    "scrolled": true
   },
   "outputs": [],
   "source": [
    "%%R\n",
    "fit1=  gls(w_Unif_Dist ~ 1, \n",
    "             correlation = corMLPE(form= ~ PlotA + PlotB), data = NAMDist)\n",
    "summary(fit1)"
   ]
  },
  {
   "cell_type": "code",
   "execution_count": null,
   "metadata": {
    "collapsed": false
   },
   "outputs": [],
   "source": [
    "%%R\n",
    "fit2=  gls(w_Unif_Dist ~  SameDay + LibraryComp, \n",
    "             correlation = corMLPE(form= ~ PlotA + PlotB), data = NAMDist)\n",
    "summary(fit2)"
   ]
  },
  {
   "cell_type": "code",
   "execution_count": null,
   "metadata": {
    "collapsed": false
   },
   "outputs": [],
   "source": [
    "%%R\n",
    "fit3=  gls(w_Unif_Dist ~ SameDay + LibraryComp + gene_Dist, \n",
    "             correlation = corMLPE(form= ~ PlotA + PlotB), data = NAMDist)\n",
    "summary(fit3)"
   ]
  },
  {
   "cell_type": "code",
   "execution_count": null,
   "metadata": {
    "collapsed": false
   },
   "outputs": [],
   "source": [
    "%%R\n",
    "fit4=  gls(w_Unif_Dist ~  SameDay + LibraryComp + poly(gene_Dist,2), \n",
    "             correlation = corMLPE(form= ~ PlotA + PlotB), data = NAMDist)\n",
    "summary(fit4)"
   ]
  },
  {
   "cell_type": "code",
   "execution_count": null,
   "metadata": {
    "collapsed": false
   },
   "outputs": [],
   "source": [
    "%%R\n",
    "fit5=  gls(w_Unif_Dist ~ SameDay + LibraryComp + PC1Dist + PC2Dist, \n",
    "             correlation = corMLPE(form= ~ PlotA + PlotB), data = NAMDist)\n",
    "summary(fit5)"
   ]
  },
  {
   "cell_type": "code",
   "execution_count": null,
   "metadata": {
    "collapsed": false
   },
   "outputs": [],
   "source": [
    "%%R\n",
    "fit6=  gls(w_Unif_Dist ~ SameDay + LibraryComp + poly(gene_Dist,2) + PC1Dist + PC2Dist + PC3Dist, \n",
    "             correlation = corMLPE(form= ~ PlotA + PlotB), data = NAMDist)\n",
    "summary(fit6)"
   ]
  },
  {
   "cell_type": "markdown",
   "metadata": {},
   "source": [
    "# Time vs MCC mantel test"
   ]
  },
  {
   "cell_type": "code",
   "execution_count": null,
   "metadata": {
    "collapsed": false
   },
   "outputs": [],
   "source": [
    "%%R\n",
    "sample_data(physeq.Nneg)$DAP"
   ]
  },
  {
   "cell_type": "code",
   "execution_count": null,
   "metadata": {
    "collapsed": false
   },
   "outputs": [],
   "source": [
    "%%R\n",
    "sd = sample_data(physeq.Nneg)\n",
    "\n",
    "# Calculate w-unifrac distances\n",
    "registerDoParallel(cores=28)\n",
    "date.wunif.dist = distance(physeq.Nneg, \n",
    "                      method = \"unifrac\", \n",
    "                      weighted = TRUE,\n",
    "                      fast = TRUE, \n",
    "                      parallel = TRUE, \n",
    "                      normalized = FALSE)\n",
    "\n",
    "#Calculate functional distances\n",
    "Fun_dist = dist(sd[,c(\"DAP\")], method = \"euclidian\")\n",
    "\n",
    "\n",
    "M1 = mantel(date.wunif.dist, Fun_dist, method=\"pearson\", permutations=999)\n",
    "M1"
   ]
  },
  {
   "cell_type": "code",
   "execution_count": null,
   "metadata": {
    "collapsed": false,
    "scrolled": true
   },
   "outputs": [],
   "source": [
    "%%R\n",
    "mcc.correlog <- mantel.correlog(date.wunif.dist, Fun_dist, nperm=99)\n",
    "summary(mcc.correlog) %>% print\n",
    "mcc.correlog  %>% print\n",
    "plot(mcc.correlog) "
   ]
  },
  {
   "cell_type": "markdown",
   "metadata": {},
   "source": [
    "# Ignore below this point"
   ]
  },
  {
   "cell_type": "markdown",
   "metadata": {},
   "source": [
    "# Compare plant phylogenetic distance to l2f"
   ]
  },
  {
   "cell_type": "code",
   "execution_count": null,
   "metadata": {
    "collapsed": false
   },
   "outputs": [],
   "source": [
    "%%R\n",
    "# log2foldFile = '/home/bryan/RhizCG/data/MiSeq_amplicon/MergedRuns/DeSeq2/bare-plant.csv'\n",
    "# l2f = read.csv(log2foldFile, header = TRUE)\n",
    "# colnames(l2f)"
   ]
  },
  {
   "cell_type": "markdown",
   "metadata": {},
   "source": [
    "### Spread by plant to make matrix of log2fold change in each OTU by plant combo"
   ]
  },
  {
   "cell_type": "code",
   "execution_count": null,
   "metadata": {
    "collapsed": false
   },
   "outputs": [],
   "source": [
    "%%R\n",
    "# df = l2f[,c(1,11,13)]\n",
    "# l2f_m = spread(df, Plant, log2FoldChange, fill = 0, drop = TRUE)\n",
    "# rownames(l2f_m) = l2f_m$OTU\n",
    "# l2f_m = l2f_m[,-1]\n",
    "# l2f_m %>% head"
   ]
  },
  {
   "cell_type": "code",
   "execution_count": null,
   "metadata": {
    "collapsed": false,
    "scrolled": true
   },
   "outputs": [],
   "source": [
    "%%R\n",
    "# dim(l2f_m)"
   ]
  },
  {
   "cell_type": "markdown",
   "metadata": {},
   "source": [
    "### recode all negative log2fold changes with 0"
   ]
  },
  {
   "cell_type": "code",
   "execution_count": null,
   "metadata": {
    "collapsed": false,
    "scrolled": true
   },
   "outputs": [],
   "source": [
    "%%R\n",
    "# l2f_me = l2f_m\n",
    "# l2f_me[l2f_me < 0] = 0 \n",
    "# head(l2f_me)"
   ]
  },
  {
   "cell_type": "markdown",
   "metadata": {},
   "source": [
    "## Calculate pairwise weighted Unifrac distances between samples\n",
    "\n",
    "need to figure out how to run unifrac measure outside of phyloseq"
   ]
  },
  {
   "cell_type": "code",
   "execution_count": null,
   "metadata": {
    "collapsed": false
   },
   "outputs": [],
   "source": [
    "%%R\n",
    "# physeq.Full"
   ]
  },
  {
   "cell_type": "code",
   "execution_count": null,
   "metadata": {
    "collapsed": false
   },
   "outputs": [],
   "source": [
    "%%R\n",
    "# #provide fast tree for unifrac calculation\n",
    "# #treeFile = '/home/bryan/RhizCG/data/MiSeq_amplicon/MergedRuns/fasttree/otusn.tree'\n",
    "# #Tree = read.tree(treeFile)\n",
    "# Tree = phy_tree(physeq.Full)\n",
    "# str(Tree)\n"
   ]
  },
  {
   "cell_type": "code",
   "execution_count": null,
   "metadata": {
    "collapsed": false
   },
   "outputs": [],
   "source": [
    "%%R\n",
    "# l2f_wunif = picante::unifrac(as.matrix(t(l2f_me)), Tree)"
   ]
  },
  {
   "cell_type": "code",
   "execution_count": null,
   "metadata": {
    "collapsed": false
   },
   "outputs": [],
   "source": [
    "%%R\n",
    "# l2f_bray = vegdist(as.matrix(t(l2f_me)), method = \"bray\")"
   ]
  },
  {
   "cell_type": "code",
   "execution_count": null,
   "metadata": {
    "collapsed": false,
    "scrolled": true
   },
   "outputs": [],
   "source": [
    "%%R\n",
    "# hc_unif = hclust(l2f_wunif, \"average\")\n",
    "# plot(hc_unif) %>% print\n",
    "\n",
    "# hc_bray = hclust(l2f_bray, \"average\")\n",
    "# plot(hc_bray, main = \"Cluster Dendrogram, \\n Bray-Curtis Distance\")"
   ]
  },
  {
   "cell_type": "markdown",
   "metadata": {},
   "source": [
    "# Mantel test of phylogenetic distance and l2f unifrac distance"
   ]
  },
  {
   "cell_type": "markdown",
   "metadata": {},
   "source": [
    "### Maize"
   ]
  },
  {
   "cell_type": "code",
   "execution_count": null,
   "metadata": {
    "collapsed": false,
    "scrolled": true
   },
   "outputs": [],
   "source": [
    "%%R\n",
    "# NAMdist %>% print\n",
    "\n",
    "# #subset column and rows of log2fold change so that only NAM lines are included\n",
    "# NLU = as.matrix(l2f_wunif)\n",
    "# NLU = NLU[c(4,5,11,13:18,22),c(4,5,11,13:18,22)]\n",
    "# NLU\n",
    "\n",
    "# NLB = as.matrix(l2f_bray)\n",
    "# NLB = NLB[c(4,5,11,13:18,22),c(4,5,11,13:18,22)]\n",
    "# NLB"
   ]
  },
  {
   "cell_type": "code",
   "execution_count": null,
   "metadata": {
    "collapsed": false,
    "scrolled": false
   },
   "outputs": [],
   "source": [
    "%%R\n",
    "# M1 = mantel(as.dist(NAMdist), as.dist(NLU), method=\"pearson\", permutations=999)\n",
    "# print(M1)"
   ]
  },
  {
   "cell_type": "code",
   "execution_count": null,
   "metadata": {
    "collapsed": false
   },
   "outputs": [],
   "source": [
    "%%R\n",
    "# M1 = mantel(as.dist(NAMdist), as.dist(NLB), method=\"pearson\", permutations=999)\n",
    "# print(M1)"
   ]
  },
  {
   "cell_type": "markdown",
   "metadata": {},
   "source": [
    "### Species"
   ]
  },
  {
   "cell_type": "code",
   "execution_count": null,
   "metadata": {
    "collapsed": false
   },
   "outputs": [],
   "source": [
    "%%R\n",
    "\n",
    "# #Organize log2fold change distance matrix so that only plants with cholorplast distances are included \n",
    "# #and column and row order is congruent with phylogenetic distance matrix\n",
    "# l2f_wunif.t = as.matrix(l2f_wunif) %>% as.data.frame()\n",
    "#     temp1 = l2f_wunif.t[c(\"FAGES\", \"AMAPO\", \"HELAN\", \"ABUTH\", \"GLYMA\", \"SORBI\", \"B73\", \"ECHCG\",\n",
    "#                     \"SETFA\", \"ERATE\", \"ELCOR\"), c(\"FAGES\", \"AMAPO\", \"HELAN\", \"ABUTH\", \"GLYMA\", \"SORBI\", \"B73\", \"ECHCG\",\n",
    "#                     \"SETFA\", \"ERATE\", \"ELCOR\")]\n",
    "\n",
    "#     SLU = as.matrix(temp1)\n",
    "\n",
    "#     SLU = as.dist(SLU)\n",
    "#     SLU %>% print\n",
    "\n",
    "# #Remove ginkgo so that matrices are congruent\n",
    "# p.temp = as.matrix(phydist) %>% as.data.frame()\n",
    "#     temp2 = p.temp[-12, -12] #remove ginkgo\n",
    "\n",
    "#     temp2 = as.matrix(temp2)\n",
    "#     phydist = as.dist(temp2)\n",
    "\n",
    "#     phydist %>% print\n",
    "\n",
    "# l2f_bray.t = as.matrix(l2f_bray) %>% as.data.frame()\n",
    "#     temp2 = l2f_bray.t[c(\"FAGES\", \"AMAPO\", \"HELAN\", \"ABUTH\", \"GLYMA\", \"SORBI\", \"B73\", \"ECHCG\",\n",
    "#                     \"SETFA\", \"ERATE\", \"ELCOR\"), c(\"FAGES\", \"AMAPO\", \"HELAN\", \"ABUTH\", \"GLYMA\", \"SORBI\", \"B73\", \"ECHCG\",\n",
    "#                     \"SETFA\", \"ERATE\", \"ELCOR\")]\n",
    "\n",
    "#     SLB = as.matrix(temp2)\n",
    "#     SLB = as.dist(SLB)\n",
    "#     SLB %>% print\n"
   ]
  },
  {
   "cell_type": "code",
   "execution_count": null,
   "metadata": {
    "collapsed": false,
    "scrolled": true
   },
   "outputs": [],
   "source": [
    "%%R\n",
    "# m1 = mantel(phydist, SLU, method=\"pearson\", permutations=999)\n",
    "# print(m1)"
   ]
  },
  {
   "cell_type": "code",
   "execution_count": null,
   "metadata": {
    "collapsed": false,
    "scrolled": true
   },
   "outputs": [],
   "source": [
    "%%R\n",
    "# m1 = mantel(phydist, SLB, method=\"pearson\", permutations=999)\n",
    "# print(m1)"
   ]
  }
 ],
 "metadata": {
  "anaconda-cloud": {},
  "hide_input": true,
  "kernelspec": {
   "display_name": "Python [default]",
   "language": "python",
   "name": "python2"
  },
  "language_info": {
   "codemirror_mode": {
    "name": "ipython",
    "version": 2
   },
   "file_extension": ".py",
   "mimetype": "text/x-python",
   "name": "python",
   "nbconvert_exporter": "python",
   "pygments_lexer": "ipython2",
   "version": "2.7.12"
  }
 },
 "nbformat": 4,
 "nbformat_minor": 0
}
