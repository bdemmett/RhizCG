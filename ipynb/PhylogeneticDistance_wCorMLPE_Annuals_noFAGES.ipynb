{
 "cells": [
  {
   "cell_type": "markdown",
   "metadata": {},
   "source": [
    "# Phylogenetic Distance Calculation from RhizCG 2013"
   ]
  },
  {
   "cell_type": "markdown",
   "metadata": {
    "slideshow": {
     "slide_type": "skip"
    }
   },
   "source": [
    "Notes: Calculate phylogenetic distance using phylogeny created from rbcL and matK in phylogenerator 20160209_phylogeny.tre.  "
   ]
  },
  {
   "cell_type": "markdown",
   "metadata": {},
   "source": [
    "# Init"
   ]
  },
  {
   "cell_type": "code",
   "execution_count": 1,
   "metadata": {
    "collapsed": false
   },
   "outputs": [],
   "source": [
    "%load_ext rpy2.ipython"
   ]
  },
  {
   "cell_type": "code",
   "execution_count": 2,
   "metadata": {
    "collapsed": false,
    "hide_input": false
   },
   "outputs": [
    {
     "name": "stderr",
     "output_type": "stream",
     "text": [
      "/opt/anaconda/lib/python2.7/site-packages/rpy2/robjects/functions.py:106: UserWarning: foreach: simple, scalable parallel programming from Revolution Analytics\n",
      "Use Revolution R for scalability, fault tolerance and more.\n",
      "http://www.revolutionanalytics.com\n",
      "\n",
      "  res = super(Function, self).__call__(*new_args, **new_kwargs)\n",
      "/opt/anaconda/lib/python2.7/site-packages/rpy2/robjects/functions.py:106: UserWarning: Loading required package: estimability\n",
      "\n",
      "  res = super(Function, self).__call__(*new_args, **new_kwargs)\n",
      "/opt/anaconda/lib/python2.7/site-packages/rpy2/robjects/functions.py:106: UserWarning: Loading required package: lattice\n",
      "\n",
      "  res = super(Function, self).__call__(*new_args, **new_kwargs)\n",
      "/opt/anaconda/lib/python2.7/site-packages/rpy2/robjects/functions.py:106: UserWarning: Loading required package: survival\n",
      "\n",
      "  res = super(Function, self).__call__(*new_args, **new_kwargs)\n",
      "/opt/anaconda/lib/python2.7/site-packages/rpy2/robjects/functions.py:106: UserWarning: Loading required package: Formula\n",
      "\n",
      "  res = super(Function, self).__call__(*new_args, **new_kwargs)\n",
      "/opt/anaconda/lib/python2.7/site-packages/rpy2/robjects/functions.py:106: UserWarning: Loading required package: ggplot2\n",
      "\n",
      "  res = super(Function, self).__call__(*new_args, **new_kwargs)\n",
      "/opt/anaconda/lib/python2.7/site-packages/rpy2/robjects/functions.py:106: UserWarning: \n",
      "Attaching package: ‘Hmisc’\n",
      "\n",
      "\n",
      "  res = super(Function, self).__call__(*new_args, **new_kwargs)\n",
      "/opt/anaconda/lib/python2.7/site-packages/rpy2/robjects/functions.py:106: UserWarning: The following objects are masked from ‘package:base’:\n",
      "\n",
      "    format.pval, round.POSIXt, trunc.POSIXt, units\n",
      "\n",
      "\n",
      "  res = super(Function, self).__call__(*new_args, **new_kwargs)\n",
      "/opt/anaconda/lib/python2.7/site-packages/rpy2/robjects/functions.py:106: UserWarning: Loading required package: Matrix\n",
      "\n",
      "  res = super(Function, self).__call__(*new_args, **new_kwargs)\n",
      "/opt/anaconda/lib/python2.7/site-packages/rpy2/robjects/functions.py:106: UserWarning: \n",
      "Attaching package: ‘lmerTest’\n",
      "\n",
      "\n",
      "  res = super(Function, self).__call__(*new_args, **new_kwargs)\n",
      "/opt/anaconda/lib/python2.7/site-packages/rpy2/robjects/functions.py:106: UserWarning: The following object is masked from ‘package:lme4’:\n",
      "\n",
      "    lmer\n",
      "\n",
      "\n",
      "  res = super(Function, self).__call__(*new_args, **new_kwargs)\n",
      "/opt/anaconda/lib/python2.7/site-packages/rpy2/robjects/functions.py:106: UserWarning: The following object is masked from ‘package:lsmeans’:\n",
      "\n",
      "    lsmeans\n",
      "\n",
      "\n",
      "  res = super(Function, self).__call__(*new_args, **new_kwargs)\n",
      "/opt/anaconda/lib/python2.7/site-packages/rpy2/robjects/functions.py:106: UserWarning: The following object is masked from ‘package:stats’:\n",
      "\n",
      "    step\n",
      "\n",
      "\n",
      "  res = super(Function, self).__call__(*new_args, **new_kwargs)\n",
      "/opt/anaconda/lib/python2.7/site-packages/rpy2/robjects/functions.py:106: UserWarning: \n",
      "Attaching package: ‘plyr’\n",
      "\n",
      "\n",
      "  res = super(Function, self).__call__(*new_args, **new_kwargs)\n",
      "/opt/anaconda/lib/python2.7/site-packages/rpy2/robjects/functions.py:106: UserWarning: The following objects are masked from ‘package:Hmisc’:\n",
      "\n",
      "    is.discrete, summarize\n",
      "\n",
      "\n",
      "  res = super(Function, self).__call__(*new_args, **new_kwargs)\n",
      "/opt/anaconda/lib/python2.7/site-packages/rpy2/robjects/functions.py:106: UserWarning: \n",
      "Attaching package: ‘dplyr’\n",
      "\n",
      "\n",
      "  res = super(Function, self).__call__(*new_args, **new_kwargs)\n",
      "/opt/anaconda/lib/python2.7/site-packages/rpy2/robjects/functions.py:106: UserWarning: The following objects are masked from ‘package:plyr’:\n",
      "\n",
      "    arrange, count, desc, failwith, id, mutate, rename, summarise,\n",
      "    summarize\n",
      "\n",
      "\n",
      "  res = super(Function, self).__call__(*new_args, **new_kwargs)\n",
      "/opt/anaconda/lib/python2.7/site-packages/rpy2/robjects/functions.py:106: UserWarning: The following objects are masked from ‘package:Hmisc’:\n",
      "\n",
      "    combine, src, summarize\n",
      "\n",
      "\n",
      "  res = super(Function, self).__call__(*new_args, **new_kwargs)\n",
      "/opt/anaconda/lib/python2.7/site-packages/rpy2/robjects/functions.py:106: UserWarning: The following objects are masked from ‘package:stats’:\n",
      "\n",
      "    filter, lag\n",
      "\n",
      "\n",
      "  res = super(Function, self).__call__(*new_args, **new_kwargs)\n",
      "/opt/anaconda/lib/python2.7/site-packages/rpy2/robjects/functions.py:106: UserWarning: The following objects are masked from ‘package:base’:\n",
      "\n",
      "    intersect, setdiff, setequal, union\n",
      "\n",
      "\n",
      "  res = super(Function, self).__call__(*new_args, **new_kwargs)\n",
      "/opt/anaconda/lib/python2.7/site-packages/rpy2/robjects/functions.py:106: UserWarning: \n",
      "Attaching package: ‘tidyr’\n",
      "\n",
      "\n",
      "  res = super(Function, self).__call__(*new_args, **new_kwargs)\n",
      "/opt/anaconda/lib/python2.7/site-packages/rpy2/robjects/functions.py:106: UserWarning: The following object is masked from ‘package:Matrix’:\n",
      "\n",
      "    expand\n",
      "\n",
      "\n",
      "  res = super(Function, self).__call__(*new_args, **new_kwargs)\n",
      "/opt/anaconda/lib/python2.7/site-packages/rpy2/robjects/functions.py:106: UserWarning: \n",
      "Attaching package: ‘gridExtra’\n",
      "\n",
      "\n",
      "  res = super(Function, self).__call__(*new_args, **new_kwargs)\n",
      "/opt/anaconda/lib/python2.7/site-packages/rpy2/robjects/functions.py:106: UserWarning: The following object is masked from ‘package:dplyr’:\n",
      "\n",
      "    combine\n",
      "\n",
      "\n",
      "  res = super(Function, self).__call__(*new_args, **new_kwargs)\n",
      "/opt/anaconda/lib/python2.7/site-packages/rpy2/robjects/functions.py:106: UserWarning: The following object is masked from ‘package:Hmisc’:\n",
      "\n",
      "    combine\n",
      "\n",
      "\n",
      "  res = super(Function, self).__call__(*new_args, **new_kwargs)\n",
      "/opt/anaconda/lib/python2.7/site-packages/rpy2/robjects/functions.py:106: UserWarning: \n",
      "Attaching package: ‘reshape2’\n",
      "\n",
      "\n",
      "  res = super(Function, self).__call__(*new_args, **new_kwargs)\n",
      "/opt/anaconda/lib/python2.7/site-packages/rpy2/robjects/functions.py:106: UserWarning: The following object is masked from ‘package:tidyr’:\n",
      "\n",
      "    smiths\n",
      "\n",
      "\n",
      "  res = super(Function, self).__call__(*new_args, **new_kwargs)\n",
      "/opt/anaconda/lib/python2.7/site-packages/rpy2/robjects/functions.py:106: UserWarning: Loading required package: ape\n",
      "\n",
      "  res = super(Function, self).__call__(*new_args, **new_kwargs)\n",
      "/opt/anaconda/lib/python2.7/site-packages/rpy2/robjects/functions.py:106: UserWarning: \n",
      "Attaching package: ‘ape’\n",
      "\n",
      "\n",
      "  res = super(Function, self).__call__(*new_args, **new_kwargs)\n",
      "/opt/anaconda/lib/python2.7/site-packages/rpy2/robjects/functions.py:106: UserWarning: The following object is masked from ‘package:Hmisc’:\n",
      "\n",
      "    zoom\n",
      "\n",
      "\n",
      "  res = super(Function, self).__call__(*new_args, **new_kwargs)\n",
      "/opt/anaconda/lib/python2.7/site-packages/rpy2/robjects/functions.py:106: UserWarning: Loading required package: vegan\n",
      "\n",
      "  res = super(Function, self).__call__(*new_args, **new_kwargs)\n",
      "/opt/anaconda/lib/python2.7/site-packages/rpy2/robjects/functions.py:106: UserWarning: Loading required package: permute\n",
      "\n",
      "  res = super(Function, self).__call__(*new_args, **new_kwargs)\n",
      "/opt/anaconda/lib/python2.7/site-packages/rpy2/robjects/functions.py:106: UserWarning: This is vegan 2.4-0\n",
      "\n",
      "  res = super(Function, self).__call__(*new_args, **new_kwargs)\n",
      "/opt/anaconda/lib/python2.7/site-packages/rpy2/robjects/functions.py:106: UserWarning: Loading required package: nlme\n",
      "\n",
      "  res = super(Function, self).__call__(*new_args, **new_kwargs)\n",
      "/opt/anaconda/lib/python2.7/site-packages/rpy2/robjects/functions.py:106: UserWarning: \n",
      "Attaching package: ‘nlme’\n",
      "\n",
      "\n",
      "  res = super(Function, self).__call__(*new_args, **new_kwargs)\n",
      "/opt/anaconda/lib/python2.7/site-packages/rpy2/robjects/functions.py:106: UserWarning: The following object is masked from ‘package:dplyr’:\n",
      "\n",
      "    collapse\n",
      "\n",
      "\n",
      "  res = super(Function, self).__call__(*new_args, **new_kwargs)\n",
      "/opt/anaconda/lib/python2.7/site-packages/rpy2/robjects/functions.py:106: UserWarning: The following object is masked from ‘package:lme4’:\n",
      "\n",
      "    lmList\n",
      "\n",
      "\n",
      "  res = super(Function, self).__call__(*new_args, **new_kwargs)\n",
      "/opt/anaconda/lib/python2.7/site-packages/rpy2/robjects/functions.py:106: UserWarning: Loading required package: iterators\n",
      "\n",
      "  res = super(Function, self).__call__(*new_args, **new_kwargs)\n",
      "/opt/anaconda/lib/python2.7/site-packages/rpy2/robjects/functions.py:106: UserWarning: Loading required package: parallel\n",
      "\n",
      "  res = super(Function, self).__call__(*new_args, **new_kwargs)\n"
     ]
    }
   ],
   "source": [
    "%%R\n",
    "library(foreach)\n",
    "library(lsmeans)\n",
    "library(Hmisc)\n",
    "library(lme4)\n",
    "library(lmerTest)\n",
    "library(ggplot2)\n",
    "library(plyr)\n",
    "library(dplyr)\n",
    "library(tidyr)\n",
    "library(pbkrtest)\n",
    "library(gridExtra)\n",
    "library(reshape2)\n",
    "library(picante)\n",
    "library(ape)\n",
    "library(phyloseq)\n",
    "library(doParallel)\n"
   ]
  },
  {
   "cell_type": "code",
   "execution_count": 3,
   "metadata": {
    "collapsed": false
   },
   "outputs": [],
   "source": [
    "%%R\n",
    "# Initialize corMLPE \n",
    "source('/home/bryan/corMLPE/corMLPE.R')"
   ]
  },
  {
   "cell_type": "markdown",
   "metadata": {
    "hide_input": true,
    "slideshow": {
     "slide_type": "skip"
    }
   },
   "source": [
    "## Set file locations"
   ]
  },
  {
   "cell_type": "code",
   "execution_count": 4,
   "metadata": {
    "collapsed": true
   },
   "outputs": [],
   "source": [
    "%%R\n",
    "workDir = '/home/bryan/RhizCG/PhyDist/'\n",
    "treeFile = '/home/bryan/RhizCG/PhyDist/20160209_phylogeny.tre'\n",
    "NAMFile = '/home/bryan/RhizCG/PhyDist/NAM_founders_distanceMatrix_v2.txt'"
   ]
  },
  {
   "cell_type": "markdown",
   "metadata": {
    "slideshow": {
     "slide_type": "skip"
    }
   },
   "source": [
    "### Read  tables table "
   ]
  },
  {
   "cell_type": "code",
   "execution_count": 5,
   "metadata": {
    "collapsed": false
   },
   "outputs": [],
   "source": [
    "%%R\n",
    "setwd(workDir)\n",
    "# read phylogenetic distance, expanded with 0.0002 between maize\n",
    "phy_expand = read.csv(file = \"phyDist_expanded.csv\", header = TRUE)\n",
    "colnames(phy_expand)[12] = \"75-062\""
   ]
  },
  {
   "cell_type": "code",
   "execution_count": 6,
   "metadata": {
    "collapsed": false
   },
   "outputs": [
    {
     "data": {
      "image/png": "[encoded data removed]"
     },
     "metadata": {},
     "output_type": "display_data"
    }
   ],
   "source": [
    "%%R\n",
    "Phy_hc = hclust(as.dist(phy_expand), \"average\")\n",
    "plot(Phy_hc)"
   ]
  },
  {
   "cell_type": "code",
   "execution_count": 101,
   "metadata": {
    "collapsed": false,
    "scrolled": true
   },
   "outputs": [
    {
     "data": {
      "text/plain": [
       "phyloseq-class experiment-level object\n",
       "otu_table()   OTU Table:         [ 1505 taxa and 87 samples ]\n",
       "sample_data() Sample Data:       [ 87 samples by 55 sample variables ]\n",
       "tax_table()   Taxonomy Table:    [ 1505 taxa by 8 taxonomic ranks ]\n",
       "phy_tree()    Phylogenetic Tree: [ 1505 tips and 1504 internal nodes ]\n"
      ]
     },
     "metadata": {},
     "output_type": "display_data"
    }
   ],
   "source": [
    "%%R\n",
    "#Read rarified phyloseq object\n",
    "F = file.path('/home/bryan/RhizCG/data/MiSeq_amplicon/MergedRuns/physeq/Full-Sparsity3in3_r')\n",
    "physeq.Full = readRDS(F)\n",
    "\n",
    "physeq.Nneg = subset_samples(physeq.Full, Treatment == \"Nneg\" & Plant != \"BARE\")\n",
    "physeq.Nneg = filter_taxa(physeq.Nneg, function(x) sum(x > 0) > 0, TRUE)  \n",
    "physeq.Nneg\n",
    "    \n",
    "    \n",
    "# trim with log2fold change file  \n",
    "log2foldFile = '/home/bryan/RhizCG/data/MiSeq_amplicon/MergedRuns/DeSeq2/bare-plant.csv'\n",
    "l2f = read.csv(log2foldFile, header = TRUE) \n",
    "l2f = l2f[l2f$p.adj < .05,]\n",
    "resp = l2f$OTU %>% unique %>% as.character\n",
    "l2f = NULL\n",
    "\n",
    "phy = prune_taxa(resp, physeq.Nneg)\n",
    "phy = subset_samples(phy, Plant != \"BARE\")\n",
    "phy"
   ]
  },
  {
   "cell_type": "markdown",
   "metadata": {},
   "source": [
    "## Define subset of plants for model comparison"
   ]
  },
  {
   "cell_type": "code",
   "execution_count": 148,
   "metadata": {
    "collapsed": false,
    "hide_input": true,
    "scrolled": true
   },
   "outputs": [
    {
     "data": {
      "text/plain": [
       "phyloseq-class experiment-level object\n",
       "otu_table()   OTU Table:         [ 1505 taxa and 43 samples ]\n",
       "sample_data() Sample Data:       [ 43 samples by 60 sample variables ]\n",
       "tax_table()   Taxonomy Table:    [ 1505 taxa by 8 taxonomic ranks ]\n",
       "phy_tree()    Phylogenetic Tree: [ 1505 tips and 1504 internal nodes ]\n"
      ]
     },
     "metadata": {},
     "output_type": "display_data"
    }
   ],
   "source": [
    "%%R\n",
    "phy = subset_samples(phy, Type != \"Maize\" | Plant == \"Il14H\" | Plant == \"Ki3\")\n",
    "\n",
    "phy"
   ]
  },
  {
   "cell_type": "markdown",
   "metadata": {},
   "source": [
    "## Calculate w-Unifrac distances"
   ]
  },
  {
   "cell_type": "code",
   "execution_count": 149,
   "metadata": {
    "collapsed": false
   },
   "outputs": [],
   "source": [
    "%%R\n",
    "registerDoParallel(cores=28)\n",
    "phy.wunif.dist = distance(phy, \n",
    "                      method = \"unifrac\", \n",
    "                      weighted = TRUE,\n",
    "                      fast = TRUE, \n",
    "                      parallel = TRUE, \n",
    "                      normalized = FALSE)\n"
   ]
  },
  {
   "cell_type": "markdown",
   "metadata": {
    "slideshow": {
     "slide_type": "skip"
    }
   },
   "source": [
    "# Data wrangling "
   ]
  },
  {
   "cell_type": "markdown",
   "metadata": {},
   "source": [
    "## Create melted dataframes for plot by plot comparisons"
   ]
  },
  {
   "cell_type": "code",
   "execution_count": 150,
   "metadata": {
    "collapsed": false
   },
   "outputs": [
    {
     "data": {
      "text/plain": [
       "  PlantA PlantB phy_Dist   PlantComp\n",
       "1  FAGES  FAGES  0.00000 FAGES-FAGES\n",
       "2  AMAPO  FAGES  0.23210 AMAPO-FAGES\n",
       "3  HELAN  FAGES  0.25302 HELAN-FAGES\n",
       "4  ABUTH  FAGES  0.27096 ABUTH-FAGES\n",
       "5  GLYMA  FAGES  0.35879 GLYMA-FAGES\n",
       "6  SORBI  FAGES  0.43476 SORBI-FAGES\n"
      ]
     },
     "metadata": {},
     "output_type": "display_data"
    }
   ],
   "source": [
    "%%R\n",
    "pd.m = melt(as.matrix(phy_expand))\n",
    "\n",
    "#set column names and create comparison column\n",
    "colnames(pd.m) = c(\"PlantA\", \"PlantB\", \"phy_Dist\")\n",
    "pd.m$PlantComp = paste(pd.m$PlantA, pd.m$PlantB, sep = \"-\")\n",
    "pd.m %>% head\n"
   ]
  },
  {
   "cell_type": "code",
   "execution_count": 151,
   "metadata": {
    "collapsed": false,
    "hide_input": false
   },
   "outputs": [
    {
     "data": {
      "text/plain": [
       "                PlotA             PlotB w_Unif_Dist\n",
       "44  sample4-2.02_Nneg sample4-4.21_Nneg   0.2424328\n",
       "87  sample4-2.02_Nneg sample1-2.23_Nneg   0.3144329\n",
       "88  sample4-4.21_Nneg sample1-2.23_Nneg   0.2545934\n",
       "130 sample4-2.02_Nneg sample2-2.08_Nneg   0.2000060\n",
       "131 sample4-4.21_Nneg sample2-2.08_Nneg   0.2237384\n",
       "132 sample1-2.23_Nneg sample2-2.08_Nneg   0.2822632\n",
       "[1] 903   3\n"
      ]
     },
     "metadata": {},
     "output_type": "display_data"
    }
   ],
   "source": [
    "%%R\n",
    "ud = as.matrix(phy.wunif.dist) \n",
    "# remove lower triangle to remove duplicate values\n",
    "ud[ lower.tri( ud, diag = TRUE ) ]  <- NA\n",
    "head(ud)\n",
    "ud.m = melt(ud, na.rm= TRUE)\n",
    "colnames(ud.m) = c(\"PlotA\", \"PlotB\", \"w_Unif_Dist\")\n",
    "head(ud.m) %>% print\n",
    "dim(ud.m) %>% print"
   ]
  },
  {
   "cell_type": "markdown",
   "metadata": {},
   "source": [
    "## Create functional distance variable (with residuals)"
   ]
  },
  {
   "cell_type": "code",
   "execution_count": 152,
   "metadata": {
    "collapsed": false
   },
   "outputs": [
    {
     "data": {
      "text/plain": [
       "   Plant SeedSize_mg\n",
       "1  ERATE      0.0035\n",
       "2  HELAN          90\n",
       "3    B73         333\n",
       "4  FAGES          38\n",
       "5  AMAPO        0.49\n",
       "6 SORSUD        10.7\n",
       "    Plant SeedSize_mg\n",
       "1   ERATE      0.0035\n",
       "2   HELAN     90.0000\n",
       "3     B73    333.0000\n",
       "4   FAGES     38.0000\n",
       "5   AMAPO      0.4900\n",
       "6  SORSUD     10.7000\n",
       "7   SORBI     32.3900\n",
       "8   ELCOR      3.2000\n",
       "9   ECHCG      1.5800\n",
       "10  ABUTH      9.6000\n",
       "11  SETFA      1.8000\n",
       "12  GLYMA    174.0000\n",
       "13   MS71      0.2640\n",
       "14   Mo18      0.2240\n",
       "15  Il14H      0.2190\n",
       "16  Tx303      0.2790\n",
       "17   Oh7B      0.2070\n",
       "18    B97      0.2400\n",
       "19  Hp301      0.0869\n",
       "20 75-062      0.2220\n",
       "21    Ki3      0.2280\n",
       "22    H99      0.2310\n"
      ]
     },
     "metadata": {},
     "output_type": "display_data"
    }
   ],
   "source": [
    "%%R\n",
    "#add growing degree days\n",
    "DAP = c(36, 53, 57, 61, 72, 79, 84, 88)\n",
    "GDD = c(795.1, 1089.4, 1136.8, 1199.5, 1394.3, 1512.4, 1573.8, 1625.6)\n",
    "M_GDD = cbind(DAP, GDD) %>% as.data.frame\n",
    "M_GDD\n",
    "\n",
    "Plant = c(\"ERATE\", \"HELAN\", \"B73\", \"FAGES\", \"AMAPO\", \"SORSUD\", \"SORBI\", \n",
    "          \"ELCOR\", \"ECHCG\", \"ABUTH\", \"SETFA\", \"GLYMA\", \"MS71\", \"Mo18\", \"Il14H\", \"Tx303\", \"Oh7B\",\n",
    "         \"B97\", \"Hp301\", \"75-062\", \"Ki3\", \"H99\")\n",
    "SeedSize_mg = c(.0035, 90, 333, 38, .49, 10.7, 32.39,\n",
    "               3.2, 1.58, 9.6, 1.8, 174, .264, .224, 0.219, 0.279, 0.207,\n",
    "               0.240, 0.0869, 0.222, 0.228, 0.231)\n",
    "SS = cbind(Plant, SeedSize_mg) %>% as.data.frame\n",
    "head(SS) %>% print\n",
    "SS$SeedSize_mg = SS$SeedSize_mg %>% as.character %>% as.numeric\n",
    "(SS)"
   ]
  },
  {
   "cell_type": "code",
   "execution_count": 153,
   "metadata": {
    "collapsed": false
   },
   "outputs": [
    {
     "name": "stdout",
     "output_type": "stream",
     "text": [
      "NULL\n",
      "Error in model.frame.default(formula = ~log(SeedSize_mg) + A_Resid_logN +  : \n",
      "  variable lengths differ (found for 'A_Resid_logN')\n"
     ]
    },
    {
     "name": "stderr",
     "output_type": "stream",
     "text": [
      "/opt/anaconda/lib/python2.7/site-packages/rpy2/robjects/functions.py:106: UserWarning: Error in model.frame.default(formula = ~log(SeedSize_mg) + A_Resid_logN +  : \n",
      "  variable lengths differ (found for 'A_Resid_logN')\n",
      "\n",
      "  res = super(Function, self).__call__(*new_args, **new_kwargs)\n",
      "/opt/anaconda/lib/python2.7/site-packages/rpy2/robjects/functions.py:106: UserWarning: There were 22 warnings (use warnings() to see them)\n",
      "  res = super(Function, self).__call__(*new_args, **new_kwargs)\n"
     ]
    }
   ],
   "source": [
    "%%R\n",
    "# PCA of annuals\n",
    "sd = as(sample_data(phy), \"data.frame\")\n",
    "sd$Plant %>% levels %>% print\n",
    "sd = left_join(sd, SS, by = \"Plant\")\n",
    "sd = left_join(sd, M_GDD, by = \"DAP\")\n",
    "\n",
    " fit = prcomp(~log(SeedSize_mg) + A_Resid_logN + A_Resid_logCN + A_Resid_logB, data = sd, \n",
    "                 na.action = na.exclude, center = TRUE, scale = TRUE)\n",
    "\n",
    "summary(fit) %>% print\n",
    "fit$rotation %>% print\n",
    "biplot(fit)"
   ]
  },
  {
   "cell_type": "code",
   "execution_count": 154,
   "metadata": {
    "collapsed": false,
    "scrolled": false
   },
   "outputs": [
    {
     "name": "stdout",
     "output_type": "stream",
     "text": [
      "\n",
      "Error in data.frame(..., check.names = FALSE) : \n",
      "  arguments imply differing number of rows: 43, 47\n"
     ]
    },
    {
     "name": "stderr",
     "output_type": "stream",
     "text": [
      "/opt/anaconda/lib/python2.7/site-packages/rpy2/robjects/functions.py:106: UserWarning: Error in data.frame(..., check.names = FALSE) : \n",
      "  arguments imply differing number of rows: 43, 47\n",
      "\n",
      "  res = super(Function, self).__call__(*new_args, **new_kwargs)\n"
     ]
    }
   ],
   "source": [
    "%%R -w 600 -h 500\n",
    "S = predict(fit)[,1:3]\n",
    "E_Fit = cbind(sd, S)\n",
    "row.names(E_Fit) = E_Fit$X.sample\n",
    "sample_data(phy) = E_Fit\n",
    "\n",
    "\n",
    "p = ggplot(E_Fit, aes(PC1, PC3, colour = Plant, \n",
    "                       size = A_Resid_logN), pch = 21)\n",
    "p = p + geom_point()\n",
    "#p = p + scale_colour_brewer(palette=\"Paired\")\n",
    "p = p + ggtitle(\"PCA of Growth Residuals\")\n",
    "p"
   ]
  },
  {
   "cell_type": "code",
   "execution_count": 155,
   "metadata": {
    "collapsed": false,
    "scrolled": true
   },
   "outputs": [
    {
     "data": {
      "image/png": "[encoded data removed]"
     },
     "metadata": {},
     "output_type": "display_data"
    }
   ],
   "source": [
    "%%R\n",
    "p = ggplot(E_Fit, aes(PC1, PC2, colour = Plant, \n",
    "                       size = A_Resid_logN), pch = 21)\n",
    "p = p + geom_point()\n",
    "p = p + scale_colour_brewer(palette=\"Paired\")\n",
    "p = p + ggtitle(\"PCA of Growth Residuals\")\n",
    "p"
   ]
  },
  {
   "cell_type": "code",
   "execution_count": 156,
   "metadata": {
    "collapsed": false
   },
   "outputs": [
    {
     "data": {
      "text/plain": [
       "              PlotA             PlotB   PC3Dist\n",
       "1 sample4-2.02_Nneg sample4-2.02_Nneg 0.0000000\n",
       "2 sample4-4.21_Nneg sample4-2.02_Nneg 0.2452473\n",
       "3 sample1-2.23_Nneg sample4-2.02_Nneg 1.0952915\n",
       "4 sample2-2.08_Nneg sample4-2.02_Nneg 1.0293384\n",
       "5 sample3-2.03_Nneg sample4-2.02_Nneg 2.3438578\n",
       "6 sample1-4.24_Nneg sample4-2.02_Nneg 0.7909958\n",
       "                             PlotComp\n",
       "1 sample4-2.02_Nneg-sample4-2.02_Nneg\n",
       "2 sample4-4.21_Nneg-sample4-2.02_Nneg\n",
       "3 sample1-2.23_Nneg-sample4-2.02_Nneg\n",
       "4 sample2-2.08_Nneg-sample4-2.02_Nneg\n",
       "5 sample3-2.03_Nneg-sample4-2.02_Nneg\n",
       "6 sample1-4.24_Nneg-sample4-2.02_Nneg\n",
       "              PlotA             PlotB     CNdist\n",
       "1 sample4-2.02_Nneg sample4-2.02_Nneg 0.00000000\n",
       "2 sample4-4.21_Nneg sample4-2.02_Nneg 0.09187120\n",
       "3 sample1-2.23_Nneg sample4-2.02_Nneg 0.27061061\n",
       "4 sample2-2.08_Nneg sample4-2.02_Nneg 0.05342428\n",
       "5 sample3-2.03_Nneg sample4-2.02_Nneg 0.34226220\n",
       "6 sample1-4.24_Nneg sample4-2.02_Nneg 0.20520298\n",
       "                             PlotComp\n",
       "1 sample4-2.02_Nneg-sample4-2.02_Nneg\n",
       "2 sample4-4.21_Nneg-sample4-2.02_Nneg\n",
       "3 sample1-2.23_Nneg-sample4-2.02_Nneg\n",
       "4 sample2-2.08_Nneg-sample4-2.02_Nneg\n",
       "5 sample3-2.03_Nneg-sample4-2.02_Nneg\n",
       "6 sample1-4.24_Nneg-sample4-2.02_Nneg\n",
       "              PlotA             PlotB      Bdist\n",
       "1 sample4-2.02_Nneg sample4-2.02_Nneg 0.00000000\n",
       "2 sample4-4.21_Nneg sample4-2.02_Nneg 0.09709233\n",
       "3 sample1-2.23_Nneg sample4-2.02_Nneg 0.20241258\n",
       "4 sample2-2.08_Nneg sample4-2.02_Nneg 0.87886047\n",
       "5 sample3-2.03_Nneg sample4-2.02_Nneg 0.62548221\n",
       "6 sample1-4.24_Nneg sample4-2.02_Nneg 0.41306697\n",
       "                             PlotComp\n",
       "1 sample4-2.02_Nneg-sample4-2.02_Nneg\n",
       "2 sample4-4.21_Nneg-sample4-2.02_Nneg\n",
       "3 sample1-2.23_Nneg-sample4-2.02_Nneg\n",
       "4 sample2-2.08_Nneg-sample4-2.02_Nneg\n",
       "5 sample3-2.03_Nneg-sample4-2.02_Nneg\n",
       "6 sample1-4.24_Nneg-sample4-2.02_Nneg\n",
       "              PlotA             PlotB   FunDist\n",
       "1 sample4-2.02_Nneg sample4-2.02_Nneg 0.0000000\n",
       "2 sample4-4.21_Nneg sample4-2.02_Nneg 0.4061164\n",
       "3 sample1-2.23_Nneg sample4-2.02_Nneg 1.6768300\n",
       "4 sample2-2.08_Nneg sample4-2.02_Nneg 2.8857649\n",
       "5 sample3-2.03_Nneg sample4-2.02_Nneg 2.5113105\n",
       "6 sample1-4.24_Nneg sample4-2.02_Nneg 1.9888647\n",
       "                             PlotComp\n",
       "1 sample4-2.02_Nneg-sample4-2.02_Nneg\n",
       "2 sample4-4.21_Nneg-sample4-2.02_Nneg\n",
       "3 sample1-2.23_Nneg-sample4-2.02_Nneg\n",
       "4 sample2-2.08_Nneg-sample4-2.02_Nneg\n",
       "5 sample3-2.03_Nneg-sample4-2.02_Nneg\n",
       "6 sample1-4.24_Nneg-sample4-2.02_Nneg\n",
       "              PlotA             PlotB   PC1Dist\n",
       "1 sample4-2.02_Nneg sample4-2.02_Nneg 0.0000000\n",
       "2 sample4-4.21_Nneg sample4-2.02_Nneg 0.1492199\n",
       "3 sample1-2.23_Nneg sample4-2.02_Nneg 1.2057766\n",
       "4 sample2-2.08_Nneg sample4-2.02_Nneg 2.6145392\n",
       "5 sample3-2.03_Nneg sample4-2.02_Nneg 0.8752753\n",
       "6 sample1-4.24_Nneg sample4-2.02_Nneg 1.8058221\n",
       "                             PlotComp   PC2Dist   PC3Dist   FunDist     CNdist\n",
       "1 sample4-2.02_Nneg-sample4-2.02_Nneg 0.0000000 0.0000000 0.0000000 0.00000000\n",
       "2 sample4-4.21_Nneg-sample4-2.02_Nneg 0.2872589 0.2452473 0.4061164 0.09187120\n",
       "3 sample1-2.23_Nneg-sample4-2.02_Nneg 0.3977415 1.0952915 1.6768300 0.27061061\n",
       "4 sample2-2.08_Nneg-sample4-2.02_Nneg 0.6574848 1.0293384 2.8857649 0.05342428\n",
       "5 sample3-2.03_Nneg-sample4-2.02_Nneg 0.2165740 2.3438578 2.5113105 0.34226220\n",
       "6 sample1-4.24_Nneg-sample4-2.02_Nneg 0.2625170 0.7909958 1.9888647 0.20520298\n",
       "       Bdist\n",
       "1 0.00000000\n",
       "2 0.09709233\n",
       "3 0.20241258\n",
       "4 0.87886047\n",
       "5 0.62548221\n",
       "6 0.41306697\n"
      ]
     },
     "metadata": {},
     "output_type": "display_data"
    }
   ],
   "source": [
    "%%R\n",
    "#measure distances on PC1\n",
    "sd = sample_data(phy)\n",
    "PC1dist = dist(sd[, \"PC1\"], method = \"euclidian\")\n",
    "    #melt matrix\n",
    "    PC1.m = melt(as.matrix(PC1dist))\n",
    "\n",
    "    #set column names and create comparison column\n",
    "     colnames(PC1.m) = c(\"PlotA\", \"PlotB\", \"PC1Dist\")\n",
    "    PC1.m$PlotComp = paste(PC1.m$PlotA, PC1.m$PlotB, sep = \"-\")\n",
    "    PC1.m %>% head\n",
    "\n",
    "#measure distances on PC2\n",
    "PC2dist = dist(sd[,\"PC2\"], method = \"euclidian\")\n",
    "    #melt matrix\n",
    "    PC2.m = melt(as.matrix(PC2dist))\n",
    "\n",
    "    #set column names and create comparison column\n",
    "     colnames(PC2.m) = c(\"PlotA\", \"PlotB\", \"PC2Dist\")\n",
    "    PC2.m$PlotComp = paste(PC2.m$PlotA, PC2.m$PlotB, sep = \"-\")\n",
    "    PC2.m %>% head\n",
    "\n",
    "#measure distances on PC3\n",
    "PC3dist = dist(sd[,\"PC3\"], method = \"euclidian\")\n",
    "    #melt matrix\n",
    "    PC3.m = melt(as.matrix(PC3dist))\n",
    "\n",
    "    #set column names and create comparison column\n",
    "     colnames(PC3.m) = c(\"PlotA\", \"PlotB\", \"PC3Dist\")\n",
    "    PC3.m$PlotComp = paste(PC3.m$PlotA, PC3.m$PlotB, sep = \"-\")\n",
    "    PC3.m %>% head %>% print\n",
    "\n",
    "#measure distances on residCN\n",
    "CNdist = dist(sd[,\"A_Resid_logCN\"], method = \"euclidian\")\n",
    "    #melt matrix\n",
    "    CN.m = melt(as.matrix(CNdist))\n",
    "\n",
    "    #set column names and create comparison column\n",
    "     colnames(CN.m) = c(\"PlotA\", \"PlotB\", \"CNdist\")\n",
    "    CN.m$PlotComp = paste(CN.m$PlotA, CN.m$PlotB, sep = \"-\")\n",
    "    CN.m %>% head %>% print\n",
    "\n",
    "#measure distances on residBiomass\n",
    "Bdist = dist(sd[,\"A_Resid_logB\"], method = \"euclidian\")\n",
    "    #melt matrix\n",
    "    B.m = melt(as.matrix(Bdist))\n",
    "\n",
    "    #set column names and create comparison column\n",
    "     colnames(B.m) = c(\"PlotA\", \"PlotB\", \"Bdist\")\n",
    "    B.m$PlotComp = paste(B.m$PlotA, B.m$PlotB, sep = \"-\")\n",
    "    B.m %>% head %>% print\n",
    "\n",
    "Fundist = dist(sd[,c(\"PC1\", \"PC2\", \"PC3\")], method = \"euclidian\")\n",
    "    Fun.m = melt(as.matrix(Fundist))\n",
    "\n",
    "    #set column names and create comparison column\n",
    "     colnames(Fun.m) = c(\"PlotA\", \"PlotB\", \"FunDist\")\n",
    "    Fun.m$PlotComp = paste(Fun.m$PlotA, PC3.m$PlotB, sep = \"-\")\n",
    "    Fun.m %>% head %>% print\n",
    "PCA.m = left_join(PC1.m, PC2.m[,c(3,4)], by = \"PlotComp\")\n",
    "PCA.m = left_join(PCA.m, PC3.m[,c(3,4)], by = \"PlotComp\")\n",
    "PCA.m = left_join(PCA.m, Fun.m[,c(3,4)], by = \"PlotComp\")\n",
    "PCA.m = left_join(PCA.m, CN.m[,c(3,4)], by = \"PlotComp\")\n",
    "PCA.m = left_join(PCA.m, B.m[,c(3,4)], by = \"PlotComp\")\n",
    "head(PCA.m)"
   ]
  },
  {
   "cell_type": "markdown",
   "metadata": {},
   "source": [
    "## Join distance tables"
   ]
  },
  {
   "cell_type": "code",
   "execution_count": 157,
   "metadata": {
    "collapsed": false
   },
   "outputs": [
    {
     "data": {
      "text/plain": [
       "              PlotA             PlotB w_Unif_Dist Plant\n",
       "1 sample4-2.02_Nneg sample4-4.21_Nneg   0.2424328 SETFA\n",
       "2 sample4-2.02_Nneg sample1-2.23_Nneg   0.3144329 SETFA\n",
       "3 sample4-4.21_Nneg sample1-2.23_Nneg   0.2545934 SETFA\n",
       "4 sample4-2.02_Nneg sample2-2.08_Nneg   0.2000060 SETFA\n",
       "5 sample4-4.21_Nneg sample2-2.08_Nneg   0.2237384 SETFA\n",
       "6 sample1-2.23_Nneg sample2-2.08_Nneg   0.2822632 FAGES\n",
       "              PlotA             PlotB w_Unif_Dist PlantA Plant\n",
       "1 sample4-2.02_Nneg sample4-4.21_Nneg   0.2424328  SETFA SETFA\n",
       "2 sample4-2.02_Nneg sample1-2.23_Nneg   0.3144329  SETFA FAGES\n",
       "3 sample4-4.21_Nneg sample1-2.23_Nneg   0.2545934  SETFA FAGES\n",
       "4 sample4-2.02_Nneg sample2-2.08_Nneg   0.2000060  SETFA AMAPO\n",
       "5 sample4-4.21_Nneg sample2-2.08_Nneg   0.2237384  SETFA AMAPO\n",
       "6 sample1-2.23_Nneg sample2-2.08_Nneg   0.2822632  FAGES AMAPO\n",
       "              PlotA             PlotB w_Unif_Dist PlantA PlantB   PlantComp\n",
       "1 sample4-2.02_Nneg sample4-4.21_Nneg   0.2424328  SETFA  SETFA SETFA-SETFA\n",
       "2 sample4-2.02_Nneg sample1-2.23_Nneg   0.3144329  SETFA  FAGES SETFA-FAGES\n",
       "3 sample4-4.21_Nneg sample1-2.23_Nneg   0.2545934  SETFA  FAGES SETFA-FAGES\n",
       "4 sample4-2.02_Nneg sample2-2.08_Nneg   0.2000060  SETFA  AMAPO SETFA-AMAPO\n",
       "5 sample4-4.21_Nneg sample2-2.08_Nneg   0.2237384  SETFA  AMAPO SETFA-AMAPO\n",
       "6 sample1-2.23_Nneg sample2-2.08_Nneg   0.2822632  FAGES  AMAPO FAGES-AMAPO\n",
       "                             PlotComp\n",
       "1 sample4-2.02_Nneg-sample4-4.21_Nneg\n",
       "2 sample4-2.02_Nneg-sample1-2.23_Nneg\n",
       "3 sample4-4.21_Nneg-sample1-2.23_Nneg\n",
       "4 sample4-2.02_Nneg-sample2-2.08_Nneg\n",
       "5 sample4-4.21_Nneg-sample2-2.08_Nneg\n",
       "6 sample1-2.23_Nneg-sample2-2.08_Nneg\n"
      ]
     },
     "metadata": {},
     "output_type": "display_data"
    }
   ],
   "source": [
    "%%R\n",
    "#Join with plant names\n",
    "ud.m = left_join(ud.m, sd[, c(1,9)], by = c(\"PlotA\" = \"X.sample\"))\n",
    "head(ud.m) %>% print\n",
    "colnames(ud.m)[4] = \"PlantA\"\n",
    "\n",
    "ud.m = left_join(ud.m, sd[, c(1,9)], by = c(\"PlotB\" = \"X.sample\"))\n",
    "head(ud.m) %>% print\n",
    "colnames(ud.m)[5] = \"PlantB\"\n",
    "ud.m$PlantComp = paste(ud.m$PlantA, ud.m$PlantB, sep = \"-\")\n",
    "\n",
    "#Create plot comparison for joining with functional distance matrix\n",
    "ud.m$PlotComp = paste(ud.m$PlotA, ud.m$PlotB, sep = \"-\")\n",
    "head(ud.m) %>% print"
   ]
  },
  {
   "cell_type": "markdown",
   "metadata": {},
   "source": [
    "## Join with plant phylogenetic distance and functional distance"
   ]
  },
  {
   "cell_type": "code",
   "execution_count": 158,
   "metadata": {
    "collapsed": false
   },
   "outputs": [
    {
     "data": {
      "text/plain": [
       "                PlotA             PlotB w_Unif_Dist PlantA PlantB    PlantComp\n",
       "898 sample7-3.25_Nneg sample8-3.03_Nneg   0.2633301 SORSUD  ELCOR SORSUD-ELCOR\n",
       "899 sample2-1.24_Nneg sample8-3.03_Nneg   0.2806530  ECHCG  ELCOR  ECHCG-ELCOR\n",
       "900 sample8-4.01_Nneg sample8-3.03_Nneg   0.2912959  ELCOR  ELCOR  ELCOR-ELCOR\n",
       "901 sample3-2.19_Nneg sample8-3.03_Nneg   0.2472667  ABUTH  ELCOR  ABUTH-ELCOR\n",
       "902 sample3-3.30_Nneg sample8-3.03_Nneg   0.2675010  ABUTH  ELCOR  ABUTH-ELCOR\n",
       "903 sample7-4.14_Nneg sample8-3.03_Nneg   0.3440233  SORBI  ELCOR  SORBI-ELCOR\n",
       "                               PlotComp phy_Dist\n",
       "898 sample7-3.25_Nneg-sample8-3.03_Nneg  0.04779\n",
       "899 sample2-1.24_Nneg-sample8-3.03_Nneg  0.05288\n",
       "900 sample8-4.01_Nneg-sample8-3.03_Nneg  0.00000\n",
       "901 sample3-2.19_Nneg-sample8-3.03_Nneg  0.36639\n",
       "902 sample3-3.30_Nneg-sample8-3.03_Nneg  0.36639\n",
       "903 sample7-4.14_Nneg-sample8-3.03_Nneg  0.04779\n",
       "                PlotA             PlotB w_Unif_Dist PlantA PlantB    PlantComp\n",
       "898 sample7-3.25_Nneg sample8-3.03_Nneg   0.2633301 SORSUD  ELCOR SORSUD-ELCOR\n",
       "899 sample2-1.24_Nneg sample8-3.03_Nneg   0.2806530  ECHCG  ELCOR  ECHCG-ELCOR\n",
       "900 sample8-4.01_Nneg sample8-3.03_Nneg   0.2912959  ELCOR  ELCOR  ELCOR-ELCOR\n",
       "901 sample3-2.19_Nneg sample8-3.03_Nneg   0.2472667  ABUTH  ELCOR  ABUTH-ELCOR\n",
       "902 sample3-3.30_Nneg sample8-3.03_Nneg   0.2675010  ABUTH  ELCOR  ABUTH-ELCOR\n",
       "903 sample7-4.14_Nneg sample8-3.03_Nneg   0.3440233  SORBI  ELCOR  SORBI-ELCOR\n",
       "                               PlotComp phy_Dist LibraryA DAY_A\n",
       "898 sample7-3.25_Nneg-sample8-3.03_Nneg  0.04779        2    84\n",
       "899 sample2-1.24_Nneg-sample8-3.03_Nneg  0.05288        2    53\n",
       "900 sample8-4.01_Nneg-sample8-3.03_Nneg  0.00000        2    88\n",
       "901 sample3-2.19_Nneg-sample8-3.03_Nneg  0.36639        2    57\n",
       "902 sample3-3.30_Nneg-sample8-3.03_Nneg  0.36639        2    57\n",
       "903 sample7-4.14_Nneg-sample8-3.03_Nneg  0.04779        2    84\n",
       "                PlotA             PlotB w_Unif_Dist PlantA PlantB    PlantComp\n",
       "898 sample7-3.25_Nneg sample8-3.03_Nneg   0.2633301 SORSUD  ELCOR SORSUD-ELCOR\n",
       "899 sample2-1.24_Nneg sample8-3.03_Nneg   0.2806530  ECHCG  ELCOR  ECHCG-ELCOR\n",
       "900 sample8-4.01_Nneg sample8-3.03_Nneg   0.2912959  ELCOR  ELCOR  ELCOR-ELCOR\n",
       "901 sample3-2.19_Nneg sample8-3.03_Nneg   0.2472667  ABUTH  ELCOR  ABUTH-ELCOR\n",
       "902 sample3-3.30_Nneg sample8-3.03_Nneg   0.2675010  ABUTH  ELCOR  ABUTH-ELCOR\n",
       "903 sample7-4.14_Nneg sample8-3.03_Nneg   0.3440233  SORBI  ELCOR  SORBI-ELCOR\n",
       "                               PlotComp phy_Dist LibraryA DAY_A LibraryB DAY_B\n",
       "898 sample7-3.25_Nneg-sample8-3.03_Nneg  0.04779        2    84        2    88\n",
       "899 sample2-1.24_Nneg-sample8-3.03_Nneg  0.05288        2    53        2    88\n",
       "900 sample8-4.01_Nneg-sample8-3.03_Nneg  0.00000        2    88        2    88\n",
       "901 sample3-2.19_Nneg-sample8-3.03_Nneg  0.36639        2    57        2    88\n",
       "902 sample3-3.30_Nneg-sample8-3.03_Nneg  0.36639        2    57        2    88\n",
       "903 sample7-4.14_Nneg-sample8-3.03_Nneg  0.04779        2    84        2    88\n",
       "              PlotA             PlotB w_Unif_Dist PlantA PlantB   PlantComp\n",
       "1 sample4-2.02_Nneg sample4-4.21_Nneg   0.2424328  SETFA  SETFA SETFA-SETFA\n",
       "2 sample4-2.02_Nneg sample1-2.23_Nneg   0.3144329  SETFA  FAGES SETFA-FAGES\n",
       "3 sample4-4.21_Nneg sample1-2.23_Nneg   0.2545934  SETFA  FAGES SETFA-FAGES\n",
       "4 sample4-2.02_Nneg sample2-2.08_Nneg   0.2000060  SETFA  AMAPO SETFA-AMAPO\n",
       "5 sample4-4.21_Nneg sample2-2.08_Nneg   0.2237384  SETFA  AMAPO SETFA-AMAPO\n",
       "6 sample1-2.23_Nneg sample2-2.08_Nneg   0.2822632  FAGES  AMAPO FAGES-AMAPO\n",
       "                             PlotComp phy_Dist LibraryA DAY_A LibraryB DAY_B\n",
       "1 sample4-2.02_Nneg-sample4-4.21_Nneg  0.00000        1    61        1    61\n",
       "2 sample4-2.02_Nneg-sample1-2.23_Nneg  0.43592        1    61        1    36\n",
       "3 sample4-4.21_Nneg-sample1-2.23_Nneg  0.43592        1    61        1    36\n",
       "4 sample4-2.02_Nneg-sample2-2.08_Nneg  0.39242        1    61        1    53\n",
       "5 sample4-4.21_Nneg-sample2-2.08_Nneg  0.39242        1    61        1    53\n",
       "6 sample1-2.23_Nneg-sample2-2.08_Nneg  0.23210        1    36        1    53\n",
       "    PC1Dist   PC2Dist   PC3Dist   FunDist     CNdist      Bdist TimeDist\n",
       "1 0.1492199 0.2872589 0.2452473 0.4061164 0.09187120 0.09709233        0\n",
       "2 1.2057766 0.3977415 1.0952915 1.6768300 0.27061061 0.20241258       25\n",
       "3 1.0565567 0.6850005 1.3405388 1.8391797 0.36248181 0.10532025       25\n",
       "4 2.6145392 0.6574848 1.0293384 2.8857649 0.05342428 0.87886047        8\n",
       "5 2.4653193 0.9447438 0.7840911 2.7541131 0.14529548 0.78176815        8\n",
       "6 1.4087626 0.2597433 2.1246299 2.5624463 0.21718633 0.67644790       17\n",
       "  LibraryComp SameDay\n",
       "1           0       0\n",
       "2           0       1\n",
       "3           0       1\n",
       "4           0       1\n",
       "5           0       1\n",
       "6           0       1\n"
      ]
     },
     "metadata": {},
     "output_type": "display_data"
    }
   ],
   "source": [
    "%%R\n",
    "Dist = left_join(ud.m, pd.m[,c(3,4)], by = \"PlantComp\")\n",
    "tail(Dist) %>% print\n",
    "\n",
    "#Join with \n",
    "# Join DAP information and library information\n",
    "Dist = left_join(Dist, sd[,c(1,2,13)], by = c(\"PlotA\" = \"X.sample\"))\n",
    "colnames(Dist)[9:10] = c(\"LibraryA\",\"DAY_A\")\n",
    "tail(Dist) %>% print\n",
    "\n",
    "Dist = left_join(Dist, sd[,c(1,2,13)], by = c(\"PlotB\" = \"X.sample\"))\n",
    "colnames(Dist)[11:12] = c(\"LibraryB\",\"DAY_B\")\n",
    "tail(Dist) %>% print\n",
    "\n",
    "Dist = left_join(Dist, PCA.m[,3:9], by = \"PlotComp\")\n",
    "\n",
    "# set DAY_A and DAY_B as factor\n",
    "Dist$DAY_A = as.factor(Dist$DAY_A)\n",
    "Dist$DAY_B = as.factor(Dist$DAY_B)\n",
    "Dist$TimeDist = abs(as.numeric(as.character(Dist$DAY_A)) - as.numeric(as.character(Dist$DAY_B)))\n",
    "\n",
    "#create factor for cross library comps and same day comps\n",
    "Dist$LibraryComp = ifelse(Dist$LibraryA == Dist$LibraryB, 0, 1) %>% as.factor\n",
    "Dist$SameDay = ifelse(Dist$DAY_A == Dist$DAY_B, 0, 1) %>% as.factor\n",
    "\n",
    "head(Dist)"
   ]
  },
  {
   "cell_type": "markdown",
   "metadata": {},
   "source": [
    "# Build corMLPE models"
   ]
  },
  {
   "cell_type": "markdown",
   "metadata": {},
   "source": [
    "## corMLPE models without random effects"
   ]
  },
  {
   "cell_type": "code",
   "execution_count": 159,
   "metadata": {
    "collapsed": false
   },
   "outputs": [
    {
     "data": {
      "text/plain": [
       "'data.frame':\t903 obs. of  21 variables:\n",
       " $ PlotA      : chr  \"sample4-2.02_Nneg\" \"sample4-2.02_Nneg\" \"sample4-4.21_Nneg\" \"sample4-2.02_Nneg\" ...\n",
       " $ PlotB      : chr  \"sample4-4.21_Nneg\" \"sample1-2.23_Nneg\" \"sample1-2.23_Nneg\" \"sample2-2.08_Nneg\" ...\n",
       " $ w_Unif_Dist: num  0.242 0.314 0.255 0.2 0.224 ...\n",
       " $ PlantA     : chr  \"SETFA\" \"SETFA\" \"SETFA\" \"SETFA\" ...\n",
       " $ PlantB     : chr  \"SETFA\" \"FAGES\" \"FAGES\" \"AMAPO\" ...\n",
       " $ PlantComp  : chr  \"SETFA-SETFA\" \"SETFA-FAGES\" \"SETFA-FAGES\" \"SETFA-AMAPO\" ...\n",
       " $ PlotComp   : chr  \"sample4-2.02_Nneg-sample4-4.21_Nneg\" \"sample4-2.02_Nneg-sample1-2.23_Nneg\" \"sample4-4.21_Nneg-sample1-2.23_Nneg\" \"sample4-2.02_Nneg-sample2-2.08_Nneg\" ...\n",
       " $ phy_Dist   : num  0 0.436 0.436 0.392 0.392 ...\n",
       " $ LibraryA   : int  1 1 1 1 1 1 1 1 1 1 ...\n",
       " $ DAY_A      : Factor w/ 7 levels \"36\",\"53\",\"57\",..: 4 4 4 4 4 1 4 4 1 2 ...\n",
       " $ LibraryB   : int  1 1 1 1 1 1 1 1 1 1 ...\n",
       " $ DAY_B      : Factor w/ 7 levels \"36\",\"53\",\"57\",..: 4 1 1 2 2 2 3 3 3 3 ...\n",
       " $ PC1Dist    : num  0.149 1.206 1.057 2.615 2.465 ...\n",
       " $ PC2Dist    : num  0.287 0.398 0.685 0.657 0.945 ...\n",
       " $ PC3Dist    : num  0.245 1.095 1.341 1.029 0.784 ...\n",
       " $ FunDist    : num  0.406 1.677 1.839 2.886 2.754 ...\n",
       " $ CNdist     : num  0.0919 0.2706 0.3625 0.0534 0.1453 ...\n",
       " $ Bdist      : num  0.0971 0.2024 0.1053 0.8789 0.7818 ...\n",
       " $ TimeDist   : num  0 25 25 8 8 17 4 4 21 4 ...\n",
       " $ LibraryComp: Factor w/ 2 levels \"0\",\"1\": 1 1 1 1 1 1 1 1 1 1 ...\n",
       " $ SameDay    : Factor w/ 2 levels \"0\",\"1\": 1 2 2 2 2 2 2 2 2 2 ...\n"
      ]
     },
     "metadata": {},
     "output_type": "display_data"
    }
   ],
   "source": [
    "%%R\n",
    "str(Dist)"
   ]
  },
  {
   "cell_type": "code",
   "execution_count": 160,
   "metadata": {
    "collapsed": false
   },
   "outputs": [],
   "source": [
    "%%R\n",
    "#Base models\n",
    "fit1 =  gls(w_Unif_Dist ~ 1, correlation = corMLPE(form= ~ PlotA + PlotB), data = Dist)\n",
    "Z <- corZ(fit1) #extract correlation structure from previous fit"
   ]
  },
  {
   "cell_type": "code",
   "execution_count": null,
   "metadata": {
    "collapsed": false
   },
   "outputs": [
    {
     "data": {
      "text/plain": [
       "Generalized least squares fit by REML\n",
       "  Model: w_Unif_Dist ~ 1 \n",
       "  Data: Dist \n",
       "        AIC       BIC   logLik\n",
       "  -1989.101 -1974.687 997.5504\n",
       "\n",
       "Correlation Structure: corMLPE\n",
       " Formula: ~PlotA + PlotB \n",
       " Parameter estimate(s):\n",
       "      Rho \n",
       "0.1837476 \n",
       "\n",
       "Coefficients:\n",
       "                Value  Std.Error  t-value p-value\n",
       "(Intercept) 0.3325658 0.01260536 26.38288       0\n",
       "\n",
       "Standardized residuals:\n",
       "        Min          Q1         Med          Q3         Max \n",
       "-2.22201675 -0.80449952  0.01989037  0.67672230  3.13002913 \n",
       "\n",
       "Residual standard error: 0.0944991 \n",
       "Degrees of freedom: 903 total; 902 residual\n"
      ]
     },
     "metadata": {},
     "output_type": "display_data"
    }
   ],
   "source": [
    "%%R\n",
    "summary(fit1)"
   ]
  },
  {
   "cell_type": "code",
   "execution_count": null,
   "metadata": {
    "collapsed": false,
    "scrolled": false
   },
   "outputs": [],
   "source": [
    "%%R\n",
    "#Controlling for time and batch effects, using same correlation structure\n",
    "fit2 =  gls(w_Unif_Dist ~ TimeDist + SameDay + LibraryComp, \n",
    "             correlation = corMLPE(value = 0.2, form= ~ PlotA + PlotB, Z = Z), data = Dist)\n",
    "summary(fit2)\n"
   ]
  },
  {
   "cell_type": "code",
   "execution_count": null,
   "metadata": {
    "collapsed": false
   },
   "outputs": [],
   "source": [
    "%%R\n",
    "#Hypothesis testing functional distance\n",
    "fit3 =  gls(w_Unif_Dist ~ TimeDist + SameDay + LibraryComp + PC1dist + PC2dist + PC3dist, \n",
    "             correlation = corMLPE(value = 0.2, form= ~ PlotA + PlotB, Z = Z), data = Dist)\n",
    "summary(fit3)"
   ]
  },
  {
   "cell_type": "code",
   "execution_count": null,
   "metadata": {
    "collapsed": false,
    "scrolled": false
   },
   "outputs": [],
   "source": [
    "%%R\n",
    "#H2: phylogenetic dist\n",
    "fit4 =  gls(w_Unif_Dist ~ TimeDist + phy_Dist + SameDay + LibraryComp, \n",
    "            correlation = corMLPE(value = 0.2, form= ~ PlotA + PlotB, Z = Z), data = Dist)\n",
    "summary(fit4)"
   ]
  },
  {
   "cell_type": "code",
   "execution_count": null,
   "metadata": {
    "collapsed": false
   },
   "outputs": [],
   "source": [
    "%%R\n",
    "#H2: phylogenetic dist\n",
    "fit4 =  gls(w_Unif_Dist ~ TimeDist + SameDay + LibraryComp + phy_Dist, \n",
    "            correlation = corMLPE(value = 0.2, form= ~ PlotA + PlotB, Z = Z), data = Dist)\n",
    "summary(fit4)"
   ]
  },
  {
   "cell_type": "code",
   "execution_count": null,
   "metadata": {
    "collapsed": false
   },
   "outputs": [],
   "source": [
    "%%R\n",
    "fit5 =  gls(w_Unif_Dist ~ TimeDist + poly(phy_Dist,2) + SameDay + LibraryComp, \n",
    "             correlation = corMLPE(value = 0.2, form= ~ PlotA + PlotB, Z = Z), data = Dist)\n",
    "summary(fit5)"
   ]
  },
  {
   "cell_type": "code",
   "execution_count": null,
   "metadata": {
    "collapsed": false
   },
   "outputs": [],
   "source": [
    "%%R\n",
    "#H3: combined phylogenetic distance and functional\n",
    "fit6=  gls(w_Unif_Dist ~ poly(TimeDist,2) + poly(phy_Dist,2) + SameDay + LibraryComp + PC1dist + PC2dist + PC3dist, \n",
    "             correlation = corMLPE(value = 0.2, form= ~ PlotA + PlotB, Z = Z), data = Dist)\n",
    "summary(fit6)"
   ]
  },
  {
   "cell_type": "code",
   "execution_count": null,
   "metadata": {
    "collapsed": false,
    "hide_input": false,
    "scrolled": true
   },
   "outputs": [],
   "source": [
    "%%R\n",
    "anova(fit1, fit2, fit3, fit4, fit5, fit6)"
   ]
  },
  {
   "cell_type": "markdown",
   "metadata": {},
   "source": [
    "Notes: Phylogenetic distance^2 and time make the best model on the overall dataset of annuals plus B73"
   ]
  },
  {
   "cell_type": "code",
   "execution_count": null,
   "metadata": {
    "collapsed": false,
    "scrolled": true
   },
   "outputs": [],
   "source": [
    "%%R\n",
    "plot(fit5)"
   ]
  },
  {
   "cell_type": "code",
   "execution_count": null,
   "metadata": {
    "collapsed": false,
    "hide_input": true
   },
   "outputs": [],
   "source": [
    "%%R\n",
    "test <- function(x) {-.208*x ^ 2 + 0.027*x + .214}\n",
    "\n",
    "               \n",
    "p = ggplot(Dist, aes(y = w_Unif_Dist, x = phy_Dist)) \n",
    "p = p + geom_point() #aes(size = phy_Dist), shape = 1)\n",
    "#p = p + stat_smooth(method = \"lm\", formula = y~.29x -.236x^2 + .204, se = FALSE)\n",
    "p = p + theme_bw(base_size = 16)\n",
    "p = p + ggtitle(\"Phylogenetic distance vs Microbial Community Dissimilarity \")\n",
    "#p = p + stat_smooth(method = lm, y ~ poly(x,2), se = FALSE)\n",
    "p = p + stat_function(fun = test)\n",
    "p"
   ]
  },
  {
   "cell_type": "markdown",
   "metadata": {
    "collapsed": true
   },
   "source": [
    "# GLS model on early subset of plants"
   ]
  },
  {
   "cell_type": "code",
   "execution_count": null,
   "metadata": {
    "collapsed": false
   },
   "outputs": [],
   "source": [
    "%%R\n",
    "Dist$DAY_A %>% unique"
   ]
  },
  {
   "cell_type": "code",
   "execution_count": null,
   "metadata": {
    "collapsed": false
   },
   "outputs": [],
   "source": [
    "%%R\n",
    "dim(Dist) %>% print\n",
    "SubDist = filter(Dist, DAY_A %in% c( \"53\", \"57\", \"61\") & DAY_B %in% c( \"53\", \"57\", \"61\"))\n",
    "\n",
    "\n",
    "dim(SubDist) %>% print\n",
    "SubDist$PlantA %>% unique"
   ]
  },
  {
   "cell_type": "code",
   "execution_count": null,
   "metadata": {
    "collapsed": false
   },
   "outputs": [],
   "source": [
    "%%R\n",
    "#null model\n",
    "fit1=  gls(w_Unif_Dist ~ 1, \n",
    "             correlation = corMLPE(form= ~ PlotA + PlotB), data = SubDist)\n"
   ]
  },
  {
   "cell_type": "code",
   "execution_count": null,
   "metadata": {
    "collapsed": false
   },
   "outputs": [],
   "source": [
    "%%R\n",
    "summary(fit1)"
   ]
  },
  {
   "cell_type": "code",
   "execution_count": null,
   "metadata": {
    "collapsed": false
   },
   "outputs": [],
   "source": [
    "%%R\n",
    "fit2=  gls(w_Unif_Dist ~ SameDay, \n",
    "             correlation = corMLPE(form= ~ PlotA + PlotB), data = SubDist)\n",
    "summary(fit2)"
   ]
  },
  {
   "cell_type": "code",
   "execution_count": null,
   "metadata": {
    "collapsed": false
   },
   "outputs": [],
   "source": [
    "%%R\n",
    "fit3=  gls(w_Unif_Dist ~ SameDay + phy_Dist, \n",
    "             correlation = corMLPE(form= ~ PlotA + PlotB), data = SubDist)\n",
    "summary(fit3)"
   ]
  },
  {
   "cell_type": "code",
   "execution_count": null,
   "metadata": {
    "collapsed": false
   },
   "outputs": [],
   "source": [
    "%%R\n",
    "fit4=  gls(w_Unif_Dist ~  SameDay + poly(phy_Dist,2), \n",
    "             correlation = corMLPE(form= ~ PlotA + PlotB), data = SubDist)\n",
    "summary(fit4)"
   ]
  },
  {
   "cell_type": "code",
   "execution_count": null,
   "metadata": {
    "collapsed": false
   },
   "outputs": [],
   "source": [
    "%%R\n",
    "#H3: combined phylogenetic distance and functional\n",
    "fit5=  gls(w_Unif_Dist ~ SameDay + PC1Dist + PC2Dist + PC3Dist, \n",
    "             correlation = corMLPE(form= ~ PlotA + PlotB), data = SubDist)\n",
    "summary(fit5)"
   ]
  },
  {
   "cell_type": "code",
   "execution_count": null,
   "metadata": {
    "collapsed": false
   },
   "outputs": [],
   "source": [
    "%%R\n",
    "fit6=  gls(w_Unif_Dist ~  SameDay + phy_Dist + PC1Dist + PC2Dist + PC3Dist, \n",
    "             correlation = corMLPE(form= ~ PlotA + PlotB), data = SubDist)\n",
    "summary(fit6)"
   ]
  },
  {
   "cell_type": "code",
   "execution_count": null,
   "metadata": {
    "collapsed": false
   },
   "outputs": [],
   "source": [
    "%%R\n",
    "p1 = ggplot(SubDist, aes(y = w_Unif_Dist, x = phy_Dist)) \n",
    "p1 = p1 + geom_point()\n",
    "#p = p + stat_smooth(method = \"lm\", formula = y~.29x -.236x^2 + .213, se = FALSE)\n",
    "p1 = p1 + theme_bw(base_size = 16)\n",
    "p1 = p1 + ggtitle(\"Early Season Plants \")\n",
    "#p = p + stat_function(fun = test)\n",
    "p1"
   ]
  },
  {
   "cell_type": "markdown",
   "metadata": {},
   "source": [
    "# Subset of late season plants"
   ]
  },
  {
   "cell_type": "code",
   "execution_count": null,
   "metadata": {
    "collapsed": false
   },
   "outputs": [],
   "source": [
    "%%R\n",
    "dim(Dist) %>% print\n",
    "SubDist = filter(Dist, PlantA %in% c(\"B73\",   \"ERATE\", \n",
    " \"ELCOR\",  \"SORSUD\",    \"SORBI\", \"HELAN\") & PlantB %in% c(\"B73\", \"ERATE\", \n",
    " \"ELCOR\",  \"SORSUD\",    \"SORBI\",  \"HELAN\"))\n",
    "dim(SubDist) %>% print\n",
    "SubDist$PlantA %>% unique"
   ]
  },
  {
   "cell_type": "code",
   "execution_count": null,
   "metadata": {
    "collapsed": true
   },
   "outputs": [],
   "source": [
    "%%R\n",
    "#null model\n",
    "fit1=  gls(w_Unif_Dist ~ 1, \n",
    "             correlation = corMLPE(form= ~ PlotA + PlotB), data = SubDist)"
   ]
  },
  {
   "cell_type": "code",
   "execution_count": null,
   "metadata": {
    "collapsed": false
   },
   "outputs": [],
   "source": [
    "%%R\n",
    "summary(fit1)"
   ]
  },
  {
   "cell_type": "code",
   "execution_count": null,
   "metadata": {
    "collapsed": false
   },
   "outputs": [],
   "source": [
    "%%R\n",
    "fit2=  gls(w_Unif_Dist ~ TimeDist + SameDay + LibraryComp, \n",
    "             correlation = corMLPE(form= ~ PlotA + PlotB), data = SubDist)\n",
    "summary(fit2)"
   ]
  },
  {
   "cell_type": "code",
   "execution_count": null,
   "metadata": {
    "collapsed": false
   },
   "outputs": [],
   "source": [
    "%%R\n",
    "fit3=  gls(w_Unif_Dist ~ TimeDist + SameDay + LibraryComp + phy_Dist, \n",
    "             correlation = corMLPE(form= ~ PlotA + PlotB), data = SubDist)\n",
    "summary(fit3)"
   ]
  },
  {
   "cell_type": "code",
   "execution_count": null,
   "metadata": {
    "collapsed": false
   },
   "outputs": [],
   "source": [
    "%%R\n",
    "fit4=  gls(w_Unif_Dist ~ TimeDist + SameDay + LibraryComp + poly(phy_Dist,2), \n",
    "             correlation = corMLPE(form= ~ PlotA + PlotB), data = SubDist)\n",
    "summary(fit4)"
   ]
  },
  {
   "cell_type": "code",
   "execution_count": null,
   "metadata": {
    "collapsed": false
   },
   "outputs": [],
   "source": [
    "%%R\n",
    "#H3: combined phylogenetic distance and functional\n",
    "fit5=  gls(w_Unif_Dist ~ TimeDist + SameDay + LibraryComp  + PC2Dist, \n",
    "             correlation = corMLPE(form= ~ PlotA + PlotB), data = SubDist)\n",
    "summary(fit5)"
   ]
  },
  {
   "cell_type": "code",
   "execution_count": null,
   "metadata": {
    "collapsed": false,
    "scrolled": true
   },
   "outputs": [],
   "source": [
    "%%R\n",
    "fit6=  gls(w_Unif_Dist ~ TimeDist + SameDay + LibraryComp + poly(phy_Dist,2)  + PC2Dist, \n",
    "             correlation = corMLPE(form= ~ PlotA + PlotB), data = SubDist)\n",
    "summary(fit6)"
   ]
  },
  {
   "cell_type": "code",
   "execution_count": null,
   "metadata": {
    "collapsed": false,
    "scrolled": true
   },
   "outputs": [],
   "source": [
    "%%R\n",
    "anova(fit1, fit2, fit3, fit4, fit5, fit6)"
   ]
  },
  {
   "cell_type": "code",
   "execution_count": null,
   "metadata": {
    "collapsed": false,
    "scrolled": true
   },
   "outputs": [],
   "source": [
    "%%R\n",
    "p2 = ggplot(SubDist, aes(y = w_Unif_Dist, x = phy_Dist)) \n",
    "p2 = p2 + geom_point()\n",
    "#p = p + stat_smooth(method = \"lm\", formula = y~.29x -.236x^2 + .213, se = FALSE)\n",
    "p2 = p2 + theme_bw(base_size = 16)\n",
    "p2 = p2 + ggtitle(\"Late Season Plants \")\n",
    "#p = p + stat_function(fun = test)\n",
    "p2"
   ]
  },
  {
   "cell_type": "code",
   "execution_count": null,
   "metadata": {
    "collapsed": false
   },
   "outputs": [],
   "source": [
    "%%R\n",
    " grid.arrange(p,p1,p2, layout_matrix = rbind(c(1, 1), c(2,3)))"
   ]
  }
 ],
 "metadata": {
  "hide_input": true,
  "kernelspec": {
   "display_name": "Python 2",
   "language": "python",
   "name": "python2"
  },
  "language_info": {
   "codemirror_mode": {
    "name": "ipython",
    "version": 2
   },
   "file_extension": ".py",
   "mimetype": "text/x-python",
   "name": "python",
   "nbconvert_exporter": "python",
   "pygments_lexer": "ipython2",
   "version": "2.7.11"
  }
 },
 "nbformat": 4,
 "nbformat_minor": 0
}
