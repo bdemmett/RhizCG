{
 "cells": [
  {
   "cell_type": "markdown",
   "metadata": {
    "hide_input": true
   },
   "source": [
    "# Phylogenetic Distance Calculation from RhizCG 2013"
   ]
  },
  {
   "cell_type": "markdown",
   "metadata": {},
   "source": [
    "Notes: Calculate phylogenetic distance using phylogeny created from rbcL and matK in phylogenerator 20160209_phylogeny.tre.  "
   ]
  },
  {
   "cell_type": "code",
   "execution_count": 1,
   "metadata": {
    "collapsed": false
   },
   "outputs": [],
   "source": [
    "%load_ext rpy2.ipython"
   ]
  },
  {
   "cell_type": "code",
   "execution_count": 2,
   "metadata": {
    "collapsed": false,
    "scrolled": true
   },
   "outputs": [
    {
     "name": "stderr",
     "output_type": "stream",
     "text": [
      "/opt/anaconda/lib/python2.7/site-packages/rpy2/robjects/functions.py:106: UserWarning: Loading required package: Matrix\n",
      "\n",
      "  res = super(Function, self).__call__(*new_args, **new_kwargs)\n",
      "/opt/anaconda/lib/python2.7/site-packages/rpy2/robjects/functions.py:106: UserWarning: \n",
      "Attaching package: ‘lmerTest’\n",
      "\n",
      "\n",
      "  res = super(Function, self).__call__(*new_args, **new_kwargs)\n",
      "/opt/anaconda/lib/python2.7/site-packages/rpy2/robjects/functions.py:106: UserWarning: The following object is masked from ‘package:lme4’:\n",
      "\n",
      "    lmer\n",
      "\n",
      "\n",
      "  res = super(Function, self).__call__(*new_args, **new_kwargs)\n",
      "/opt/anaconda/lib/python2.7/site-packages/rpy2/robjects/functions.py:106: UserWarning: The following object is masked from ‘package:stats’:\n",
      "\n",
      "    step\n",
      "\n",
      "\n",
      "  res = super(Function, self).__call__(*new_args, **new_kwargs)\n",
      "/opt/anaconda/lib/python2.7/site-packages/rpy2/robjects/functions.py:106: UserWarning: \n",
      "Attaching package: ‘dplyr’\n",
      "\n",
      "\n",
      "  res = super(Function, self).__call__(*new_args, **new_kwargs)\n",
      "/opt/anaconda/lib/python2.7/site-packages/rpy2/robjects/functions.py:106: UserWarning: The following objects are masked from ‘package:stats’:\n",
      "\n",
      "    filter, lag\n",
      "\n",
      "\n",
      "  res = super(Function, self).__call__(*new_args, **new_kwargs)\n",
      "/opt/anaconda/lib/python2.7/site-packages/rpy2/robjects/functions.py:106: UserWarning: The following objects are masked from ‘package:base’:\n",
      "\n",
      "    intersect, setdiff, setequal, union\n",
      "\n",
      "\n",
      "  res = super(Function, self).__call__(*new_args, **new_kwargs)\n",
      "/opt/anaconda/lib/python2.7/site-packages/rpy2/robjects/functions.py:106: UserWarning: \n",
      "Attaching package: ‘tidyr’\n",
      "\n",
      "\n",
      "  res = super(Function, self).__call__(*new_args, **new_kwargs)\n",
      "/opt/anaconda/lib/python2.7/site-packages/rpy2/robjects/functions.py:106: UserWarning: The following object is masked from ‘package:Matrix’:\n",
      "\n",
      "    expand\n",
      "\n",
      "\n",
      "  res = super(Function, self).__call__(*new_args, **new_kwargs)\n",
      "/opt/anaconda/lib/python2.7/site-packages/rpy2/robjects/functions.py:106: UserWarning: \n",
      "Attaching package: ‘gridExtra’\n",
      "\n",
      "\n",
      "  res = super(Function, self).__call__(*new_args, **new_kwargs)\n",
      "/opt/anaconda/lib/python2.7/site-packages/rpy2/robjects/functions.py:106: UserWarning: The following object is masked from ‘package:dplyr’:\n",
      "\n",
      "    combine\n",
      "\n",
      "\n",
      "  res = super(Function, self).__call__(*new_args, **new_kwargs)\n",
      "/opt/anaconda/lib/python2.7/site-packages/rpy2/robjects/functions.py:106: UserWarning: \n",
      "Attaching package: ‘reshape2’\n",
      "\n",
      "\n",
      "  res = super(Function, self).__call__(*new_args, **new_kwargs)\n",
      "/opt/anaconda/lib/python2.7/site-packages/rpy2/robjects/functions.py:106: UserWarning: The following object is masked from ‘package:tidyr’:\n",
      "\n",
      "    smiths\n",
      "\n",
      "\n",
      "  res = super(Function, self).__call__(*new_args, **new_kwargs)\n",
      "/opt/anaconda/lib/python2.7/site-packages/rpy2/robjects/functions.py:106: UserWarning: Loading required package: ape\n",
      "\n",
      "  res = super(Function, self).__call__(*new_args, **new_kwargs)\n",
      "/opt/anaconda/lib/python2.7/site-packages/rpy2/robjects/functions.py:106: UserWarning: Loading required package: vegan\n",
      "\n",
      "  res = super(Function, self).__call__(*new_args, **new_kwargs)\n",
      "/opt/anaconda/lib/python2.7/site-packages/rpy2/robjects/functions.py:106: UserWarning: Loading required package: permute\n",
      "\n",
      "  res = super(Function, self).__call__(*new_args, **new_kwargs)\n",
      "/opt/anaconda/lib/python2.7/site-packages/rpy2/robjects/functions.py:106: UserWarning: Loading required package: lattice\n",
      "\n",
      "  res = super(Function, self).__call__(*new_args, **new_kwargs)\n",
      "/opt/anaconda/lib/python2.7/site-packages/rpy2/robjects/functions.py:106: UserWarning: This is vegan 2.4-0\n",
      "\n",
      "  res = super(Function, self).__call__(*new_args, **new_kwargs)\n",
      "/opt/anaconda/lib/python2.7/site-packages/rpy2/robjects/functions.py:106: UserWarning: Loading required package: nlme\n",
      "\n",
      "  res = super(Function, self).__call__(*new_args, **new_kwargs)\n",
      "/opt/anaconda/lib/python2.7/site-packages/rpy2/robjects/functions.py:106: UserWarning: \n",
      "Attaching package: ‘nlme’\n",
      "\n",
      "\n",
      "  res = super(Function, self).__call__(*new_args, **new_kwargs)\n",
      "/opt/anaconda/lib/python2.7/site-packages/rpy2/robjects/functions.py:106: UserWarning: The following object is masked from ‘package:dplyr’:\n",
      "\n",
      "    collapse\n",
      "\n",
      "\n",
      "  res = super(Function, self).__call__(*new_args, **new_kwargs)\n",
      "/opt/anaconda/lib/python2.7/site-packages/rpy2/robjects/functions.py:106: UserWarning: The following object is masked from ‘package:lme4’:\n",
      "\n",
      "    lmList\n",
      "\n",
      "\n",
      "  res = super(Function, self).__call__(*new_args, **new_kwargs)\n",
      "/opt/anaconda/lib/python2.7/site-packages/rpy2/robjects/functions.py:106: UserWarning: Loading required package: foreach\n",
      "\n",
      "  res = super(Function, self).__call__(*new_args, **new_kwargs)\n",
      "/opt/anaconda/lib/python2.7/site-packages/rpy2/robjects/functions.py:106: UserWarning: foreach: simple, scalable parallel programming from Revolution Analytics\n",
      "Use Revolution R for scalability, fault tolerance and more.\n",
      "http://www.revolutionanalytics.com\n",
      "\n",
      "  res = super(Function, self).__call__(*new_args, **new_kwargs)\n",
      "/opt/anaconda/lib/python2.7/site-packages/rpy2/robjects/functions.py:106: UserWarning: Loading required package: iterators\n",
      "\n",
      "  res = super(Function, self).__call__(*new_args, **new_kwargs)\n",
      "/opt/anaconda/lib/python2.7/site-packages/rpy2/robjects/functions.py:106: UserWarning: Loading required package: parallel\n",
      "\n",
      "  res = super(Function, self).__call__(*new_args, **new_kwargs)\n"
     ]
    }
   ],
   "source": [
    "%%R\n",
    "library(lme4)\n",
    "library(lmerTest)\n",
    "library(ggplot2)\n",
    "library(dplyr)\n",
    "library(tidyr)\n",
    "library(pbkrtest)\n",
    "library(gridExtra)\n",
    "library(reshape2)\n",
    "library(picante)\n",
    "library(ape)\n",
    "library(phyloseq)\n",
    "library(doParallel)"
   ]
  },
  {
   "cell_type": "code",
   "execution_count": 5,
   "metadata": {
    "collapsed": false
   },
   "outputs": [
    {
     "data": {
      "text/plain": [
       "\n",
       "To cite package ‘lmerTest’ in publications use:\n",
       "\n",
       "  Alexandra Kuznetsova, Per Bruun Brockhoff and Rune Haubo Bojesen\n",
       "  Christensen (2016). lmerTest: Tests in Linear Mixed Effects Models. R\n",
       "  package version 2.0-32. https://CRAN.R-project.org/package=lmerTest\n",
       "\n",
       "A BibTeX entry for LaTeX users is\n",
       "\n",
       "  @Manual{,\n",
       "    title = {lmerTest: Tests in Linear Mixed Effects Models},\n",
       "    author = {Alexandra Kuznetsova and Per {Bruun Brockhoff} and Rune {Haubo Bojesen Christensen}},\n",
       "    year = {2016},\n",
       "    note = {R package version 2.0-32},\n",
       "    url = {https://CRAN.R-project.org/package=lmerTest},\n",
       "  }\n",
       "\n"
      ]
     },
     "metadata": {},
     "output_type": "display_data"
    }
   ],
   "source": [
    "%%R\n",
    "citation(package = \"lmerTest\", lib.loc = NULL)"
   ]
  },
  {
   "cell_type": "markdown",
   "metadata": {},
   "source": [
    "## Set file locations"
   ]
  },
  {
   "cell_type": "code",
   "execution_count": 4,
   "metadata": {
    "collapsed": true
   },
   "outputs": [],
   "source": [
    "%%R\n",
    "workDir = '/home/bryan/RhizCG/PhyDist/'\n",
    "treeFile = '/home/bryan/RhizCG/PhyDist/20160209_phylogeny.tre'\n",
    "NAMFile = '/home/bryan/RhizCG/PhyDist/NAM_founders_distanceMatrix_v2.txt'"
   ]
  },
  {
   "cell_type": "markdown",
   "metadata": {},
   "source": [
    "### Read  master table "
   ]
  },
  {
   "cell_type": "code",
   "execution_count": 5,
   "metadata": {
    "collapsed": false
   },
   "outputs": [],
   "source": [
    "%%R \n",
    "setwd(workDir)\n",
    "phy = read.tree(treeFile)\n",
    "\n",
    "NAMdist = read.table(NAMFile, header = TRUE)"
   ]
  },
  {
   "cell_type": "code",
   "execution_count": null,
   "metadata": {
    "collapsed": true
   },
   "outputs": [],
   "source": []
  },
  {
   "cell_type": "code",
   "execution_count": 6,
   "metadata": {
    "collapsed": false,
    "scrolled": true
   },
   "outputs": [],
   "source": [
    "%%R\n",
    "#reorder so that NAMdist is in same order as log2fold change matrix\n",
    "NAMdist = NAMdist[c(1:6, 8, 7, 9, 10), c(1:6, 8, 7, 9, 10)]"
   ]
  },
  {
   "cell_type": "code",
   "execution_count": 7,
   "metadata": {
    "collapsed": false
   },
   "outputs": [
    {
     "data": {
      "image/png": "[encoded data removed]"
     },
     "metadata": {},
     "output_type": "display_data"
    }
   ],
   "source": [
    "%%R\n",
    "plot(phy)"
   ]
  },
  {
   "cell_type": "code",
   "execution_count": 131,
   "metadata": {
    "collapsed": false,
    "scrolled": true
   },
   "outputs": [
    {
     "data": {
      "text/plain": [
       " num [1:12, 1:12] 0 0.232 0.253 0.271 0.359 ...\n",
       " - attr(*, \"dimnames\")=List of 2\n",
       "  ..$ : chr [1:12] \"Fagopyrum_esculentum\" \"Amaranthus_viridis\" \"Helianthus_annuus\" \"Abutilon_theophrasti\" ...\n",
       "  ..$ : chr [1:12] \"Fagopyrum_esculentum\" \"Amaranthus_viridis\" \"Helianthus_annuus\" \"Abutilon_theophrasti\" ...\n"
      ]
     },
     "metadata": {},
     "output_type": "display_data"
    }
   ],
   "source": [
    "%%R\n",
    "phy\n",
    "phydist = cophenetic.phylo(phy)\n",
    "str(phydist)"
   ]
  },
  {
   "cell_type": "code",
   "execution_count": 9,
   "metadata": {
    "collapsed": false,
    "scrolled": true
   },
   "outputs": [
    {
     "data": {
      "text/plain": [
       "         FAGES   AMAPO   HELAN   ABUTH   GLYMA   SORBI     B73   ECHCG   SETFA\n",
       "FAGES  0.00000 0.23210 0.25302 0.27096 0.35879 0.43476 0.43787 0.43985 0.43592\n",
       "AMAPO  0.23210 0.00000 0.20952 0.22746 0.31529 0.39126 0.39437 0.39635 0.39242\n",
       "HELAN  0.25302 0.20952 0.00000 0.19116 0.27899 0.35496 0.35807 0.36005 0.35612\n",
       "ABUTH  0.27096 0.22746 0.19116 0.00000 0.24183 0.35370 0.35681 0.35879 0.35486\n",
       "GLYMA  0.35879 0.31529 0.27899 0.24183 0.00000 0.44153 0.44464 0.44662 0.44269\n",
       "SORBI  0.43476 0.39126 0.35496 0.35370 0.44153 0.00000 0.01153 0.03193 0.02800\n",
       "B73    0.43787 0.39437 0.35807 0.35681 0.44464 0.01153 0.00000 0.03504 0.03111\n",
       "ECHCG  0.43985 0.39635 0.36005 0.35879 0.44662 0.03193 0.03504 0.00000 0.02517\n",
       "SETFA  0.43592 0.39242 0.35612 0.35486 0.44269 0.02800 0.03111 0.02517 0.00000\n",
       "ERATE  0.44622 0.40272 0.36642 0.36516 0.45299 0.04656 0.04967 0.05165 0.04772\n",
       "ELCOR  0.44745 0.40395 0.36765 0.36639 0.45422 0.04779 0.05090 0.05288 0.04895\n",
       "Ginkgo 0.53719 0.49369 0.45739 0.45613 0.54396 0.53099 0.53410 0.53608 0.53215\n",
       "         ERATE   ELCOR  Ginkgo\n",
       "FAGES  0.44622 0.44745 0.53719\n",
       "AMAPO  0.40272 0.40395 0.49369\n",
       "HELAN  0.36642 0.36765 0.45739\n",
       "ABUTH  0.36516 0.36639 0.45613\n",
       "GLYMA  0.45299 0.45422 0.54396\n",
       "SORBI  0.04656 0.04779 0.53099\n",
       "B73    0.04967 0.05090 0.53410\n",
       "ECHCG  0.05165 0.05288 0.53608\n",
       "SETFA  0.04772 0.04895 0.53215\n",
       "ERATE  0.00000 0.03561 0.54245\n",
       "ELCOR  0.03561 0.00000 0.54368\n",
       "Ginkgo 0.54245 0.54368 0.00000\n"
      ]
     },
     "metadata": {},
     "output_type": "display_data"
    }
   ],
   "source": [
    "%%R\n",
    "colnames(phydist)\n",
    "colnames(phydist) = c(\"FAGES\", \"AMAPO\", \"HELAN\", \"ABUTH\", \"GLYMA\", \"SORBI\", \"B73\", \"ECHCG\",\n",
    "                     \"SETFA\", \"ERATE\", \"ELCOR\", \"Ginkgo\")\n",
    "rownames(phydist) = c(\"FAGES\", \"AMAPO\", \"HELAN\", \"ABUTH\", \"GLYMA\", \"SORBI\", \"B73\", \"ECHCG\",\n",
    "                     \"SETFA\", \"ERATE\", \"ELCOR\", \"Ginkgo\")\n",
    "phydist"
   ]
  },
  {
   "cell_type": "code",
   "execution_count": 126,
   "metadata": {
    "collapsed": false
   },
   "outputs": [],
   "source": [
    "%%R\n",
    "out = phydist %>% as.matrix %>% as.data.frame()\n",
    "write.csv(out, file = \"phyDist.csv\")"
   ]
  },
  {
   "cell_type": "code",
   "execution_count": 129,
   "metadata": {
    "collapsed": false
   },
   "outputs": [
    {
     "data": {
      "text/plain": [
       "      X   FAGES   AMAPO   HELAN   ABUTH   GLYMA   SORBI     B73   ECHCG   SETFA\n",
       "1 FAGES 0.00000 0.23210 0.25302 0.27096 0.35879 0.43476 0.43787 0.43985 0.43592\n",
       "2 AMAPO 0.23210 0.00000 0.20952 0.22746 0.31529 0.39126 0.39437 0.39635 0.39242\n",
       "3 HELAN 0.25302 0.20952 0.00000 0.19116 0.27899 0.35496 0.35807 0.36005 0.35612\n",
       "4 ABUTH 0.27096 0.22746 0.19116 0.00000 0.24183 0.35370 0.35681 0.35879 0.35486\n",
       "5 GLYMA 0.35879 0.31529 0.27899 0.24183 0.00000 0.44153 0.44464 0.44662 0.44269\n",
       "6 SORBI 0.43476 0.39126 0.35496 0.35370 0.44153 0.00000 0.01153 0.03193 0.02800\n",
       "    ERATE   ELCOR X75.062    Oh7B     M71     B97     Ki3   Tx303   Hp301\n",
       "1 0.44622 0.44745 0.43787 0.43787 0.43787 0.43787 0.43787 0.43787 0.43787\n",
       "2 0.40272 0.40395 0.39437 0.39437 0.39437 0.39437 0.39437 0.39437 0.39437\n",
       "3 0.36642 0.36765 0.35807 0.35807 0.35807 0.35807 0.35807 0.35807 0.35807\n",
       "4 0.36516 0.36639 0.35681 0.35681 0.35681 0.35681 0.35681 0.35681 0.35681\n",
       "5 0.45299 0.45422 0.44464 0.44464 0.44464 0.44464 0.44464 0.44464 0.44464\n",
       "6 0.04656 0.04779 0.01153 0.01153 0.01153 0.01153 0.01153 0.01153 0.01153\n",
       "     Mo18  SORSUD\n",
       "1 0.43787 0.43476\n",
       "2 0.39437 0.39126\n",
       "3 0.35807 0.35496\n",
       "4 0.35681 0.35370\n",
       "5 0.44464 0.44153\n",
       "6 0.01153 0.00100\n"
      ]
     },
     "metadata": {},
     "output_type": "display_data"
    }
   ],
   "source": [
    "%%R\n",
    "phy_expand = read.csv(file = \"phyDist_expanded.csv\", header = TRUE)\n",
    "head(phy_expand)"
   ]
  },
  {
   "cell_type": "markdown",
   "metadata": {},
   "source": [
    "### Use melt to create a dataframe with species by species comparisons that will later be compared with plot by plot unifrac distances"
   ]
  },
  {
   "cell_type": "markdown",
   "metadata": {},
   "source": [
    "Notes: inefficient use of space, consider dropping records above the diagonal of the distance matrix"
   ]
  },
  {
   "cell_type": "code",
   "execution_count": 132,
   "metadata": {
    "collapsed": false,
    "scrolled": false
   },
   "outputs": [
    {
     "data": {
      "text/plain": [
       "                PlantA               PlantB phy_Dist\n",
       "1 Fagopyrum_esculentum Fagopyrum_esculentum  0.00000\n",
       "2   Amaranthus_viridis Fagopyrum_esculentum  0.23210\n",
       "3    Helianthus_annuus Fagopyrum_esculentum  0.25302\n",
       "4 Abutilon_theophrasti Fagopyrum_esculentum  0.27096\n",
       "5          Glycine_max Fagopyrum_esculentum  0.35879\n",
       "6      Sorghum_bicolor Fagopyrum_esculentum  0.43476\n",
       "                                  PlantComp\n",
       "1 Fagopyrum_esculentum-Fagopyrum_esculentum\n",
       "2   Amaranthus_viridis-Fagopyrum_esculentum\n",
       "3    Helianthus_annuus-Fagopyrum_esculentum\n",
       "4 Abutilon_theophrasti-Fagopyrum_esculentum\n",
       "5          Glycine_max-Fagopyrum_esculentum\n",
       "6      Sorghum_bicolor-Fagopyrum_esculentum\n"
      ]
     },
     "metadata": {},
     "output_type": "display_data"
    }
   ],
   "source": [
    "%%R\n",
    "pd.m = melt(phydist)\n",
    "\n",
    "#set column names and create comparison column\n",
    "colnames(pd.m) = c(\"PlantA\", \"PlantB\", \"phy_Dist\")\n",
    "pd.m$PlantComp = paste(pd.m$PlantA, pd.m$PlantB, sep = \"-\")\n",
    "pd.m %>% head"
   ]
  },
  {
   "cell_type": "markdown",
   "metadata": {},
   "source": [
    "# Import phyloseq object and calculate unifrac distances"
   ]
  },
  {
   "cell_type": "code",
   "execution_count": 17,
   "metadata": {
    "collapsed": false
   },
   "outputs": [
    {
     "data": {
      "text/plain": [
       "phyloseq-class experiment-level object\n",
       "otu_table()   OTU Table:         [ 4982 taxa and 238 samples ]\n",
       "sample_data() Sample Data:       [ 238 samples by 49 sample variables ]\n",
       "tax_table()   Taxonomy Table:    [ 4982 taxa by 8 taxonomic ranks ]\n",
       "phy_tree()    Phylogenetic Tree: [ 4982 tips and 4981 internal nodes ]\n"
      ]
     },
     "metadata": {},
     "output_type": "display_data"
    }
   ],
   "source": [
    "%%R\n",
    "F = file.path('/home/bryan/RhizCG/data/MiSeq_amplicon/MergedRuns/physeq/Full-Sparsity3in3_r')\n",
    "physeq.Full = readRDS(F)\n",
    "sd = sample_data(physeq.Full)\n",
    "\n",
    "\n",
    "physeq.Full = filter_taxa(physeq.Full, function(x) sum(x > 0) > 1, TRUE)\n",
    "physeq.Full"
   ]
  },
  {
   "cell_type": "code",
   "execution_count": 18,
   "metadata": {
    "collapsed": false,
    "scrolled": true
   },
   "outputs": [],
   "source": [
    "%%R\n",
    "physeq.Full\n",
    "physeq.Nneg = subset_samples(physeq.Full, Treatment == \"Nneg\")"
   ]
  },
  {
   "cell_type": "code",
   "execution_count": 121,
   "metadata": {
    "collapsed": false,
    "scrolled": false
   },
   "outputs": [
    {
     "data": {
      "text/plain": [
       " [1] BARE   75-062 Oh7B   SETFA  MS71   ERATE  FAGES  B73    AMAPO  B97   \n",
       "[11] GLYMA  H99    Il14H  SORBI  SORSUD ELCOR  ABUTH  Ki3    HELAN  Tx303 \n",
       "[21] Hp301  ECHCG  Mo18  \n",
       "23 Levels: 75-062 ABUTH AMAPO B73 B97 BARE ECHCG ELCOR ERATE FAGES ... Tx303\n"
      ]
     },
     "metadata": {},
     "output_type": "display_data"
    }
   ],
   "source": [
    "%%R\n",
    "colnames(sd)\n",
    "sd$Plant %>% unique"
   ]
  },
  {
   "cell_type": "markdown",
   "metadata": {},
   "source": [
    "## Calculate w-Unifrac distances"
   ]
  },
  {
   "cell_type": "code",
   "execution_count": 20,
   "metadata": {
    "collapsed": false
   },
   "outputs": [],
   "source": [
    "%%R\n",
    "registerDoParallel(cores=28)\n",
    "wunif.dist = distance(physeq.Nneg, \n",
    "                      method = \"unifrac\", \n",
    "                      weighted = TRUE,\n",
    "                      fast = TRUE, \n",
    "                      parallel = TRUE, \n",
    "                      normalized = FALSE)"
   ]
  },
  {
   "cell_type": "code",
   "execution_count": 101,
   "metadata": {
    "collapsed": false
   },
   "outputs": [
    {
     "data": {
      "text/plain": [
       "                  sample4-4.27_Nneg sample4-1.06_Nneg sample2-1.06_Nneg\n",
       "sample4-4.27_Nneg         0.0000000         0.1105126         0.1157535\n",
       "sample4-1.06_Nneg         0.1105126         0.0000000         0.1053257\n",
       "sample2-1.06_Nneg         0.1157535         0.1053257         0.0000000\n",
       "sample6-3.07_Nneg         0.1021802         0.1060497         0.1098460\n",
       "sample5-3.07_Nneg         0.1295857         0.1147466         0.1160275\n",
       "sample5-1.22_Nneg         0.2375299         0.2314230         0.2162495\n",
       "                  sample6-3.07_Nneg sample5-3.07_Nneg sample5-1.22_Nneg\n",
       "sample4-4.27_Nneg        0.10218020        0.12958567         0.2375299\n",
       "sample4-1.06_Nneg        0.10604973        0.11474657         0.2314230\n",
       "sample2-1.06_Nneg        0.10984599        0.11602749         0.2162495\n",
       "sample6-3.07_Nneg        0.00000000        0.09572136         0.2308121\n",
       "sample5-3.07_Nneg        0.09572136        0.00000000         0.2287192\n",
       "sample5-1.22_Nneg        0.23081206        0.22871922         0.0000000\n",
       "                  sample4-3.07_Nneg sample4-2.05_Nneg sample2-4.27_Nneg\n",
       "sample4-4.27_Nneg        0.10716001        0.09385204        0.12472694\n",
       "sample4-1.06_Nneg        0.10632319        0.08930025        0.10653538\n",
       "sample2-1.06_Nneg        0.10665548        0.11187576        0.09493468\n",
       "sample6-3.07_Nneg        0.08648963        0.10567558        0.12394992\n",
       "sample5-3.07_Nneg        0.10858247        0.12435890        0.12460365\n",
       "sample5-1.22_Nneg        0.23825887        0.24364302        0.22918294\n",
       "                  sample1-2.05_Nneg sample5-4.27_Nneg sample1-3.07_Nneg\n",
       "sample4-4.27_Nneg        0.08672315        0.11216628        0.11430582\n",
       "sample4-1.06_Nneg        0.10269284        0.09515548        0.08955865\n",
       "sample2-1.06_Nneg        0.12263674        0.10567201        0.11771673\n",
       "sample6-3.07_Nneg        0.11233764        0.09116804        0.09328706\n",
       "sample5-3.07_Nneg        0.14057384        0.09121845        0.09679662\n",
       "sample5-1.22_Nneg        0.24328005        0.23626251        0.23946920\n",
       "                  sample4-2.02_Nneg sample4-4.21_Nneg sample2-2.05_Nneg\n",
       "sample4-4.27_Nneg         0.2741003         0.2308425         0.1690196\n",
       "sample4-1.06_Nneg         0.2669593         0.2219765         0.1549337\n",
       "sample2-1.06_Nneg         0.2643581         0.2062684         0.1546096\n",
       "sample6-3.07_Nneg         0.2709805         0.2249114         0.1818826\n",
       "sample5-3.07_Nneg         0.2645642         0.2273809         0.1825364\n",
       "sample5-1.22_Nneg         0.1798813         0.1481956         0.1959195\n",
       "                  sample5-2.29_Nneg sample5-2.06_Nneg sample1-2.23_Nneg\n",
       "sample4-4.27_Nneg         0.2262027         0.2380631         0.2015231\n",
       "sample4-1.06_Nneg         0.2143712         0.2253782         0.1733421\n",
       "sample2-1.06_Nneg         0.2072793         0.2227090         0.1641100\n",
       "sample6-3.07_Nneg         0.2284352         0.2383784         0.1738526\n",
       "sample5-3.07_Nneg         0.2184997         0.2387367         0.1661080\n",
       "sample5-1.22_Nneg         0.1392956         0.1323542         0.1501581\n",
       "                  sample6-2.26_Nneg sample6-3.18_Nneg sample5-3.13_Nneg\n",
       "sample4-4.27_Nneg         0.2437731         0.2624580         0.2179010\n",
       "sample4-1.06_Nneg         0.2381051         0.2698284         0.2103854\n",
       "sample2-1.06_Nneg         0.2343025         0.2670565         0.2102797\n",
       "sample6-3.07_Nneg         0.2610107         0.2744455         0.2229734\n",
       "sample5-3.07_Nneg         0.2666730         0.2819931         0.2219230\n",
       "sample5-1.22_Nneg         0.1990843         0.2153275         0.1705236\n",
       "                  sample2-2.08_Nneg sample3-2.05_Nneg sample5-1.17_Nneg\n",
       "sample4-4.27_Nneg         0.3195560        0.10179102         0.1715446\n",
       "sample4-1.06_Nneg         0.3063264        0.09607689         0.1779752\n",
       "sample2-1.06_Nneg         0.2990515        0.09391714         0.1734156\n",
       "sample6-3.07_Nneg         0.3178661        0.09866450         0.1713922\n",
       "sample5-3.07_Nneg         0.3062585        0.11001561         0.1853616\n",
       "sample5-1.22_Nneg         0.2188660        0.23026601         0.1864749\n",
       "                  sample3-2.03_Nneg sample5-4.08_Nneg sample1-4.27_Nneg\n",
       "sample4-4.27_Nneg         0.4005340         0.2396305        0.09791261\n",
       "sample4-1.06_Nneg         0.3762356         0.2362958        0.08591565\n",
       "sample2-1.06_Nneg         0.3795165         0.2324630        0.10229134\n",
       "sample6-3.07_Nneg         0.3902899         0.2464628        0.09505667\n",
       "sample5-3.07_Nneg         0.3744222         0.2471600        0.10624146\n",
       "sample5-1.22_Nneg         0.2952153         0.1913490        0.22931541\n",
       "                  sample1-4.24_Nneg sample5-4.28_Nneg sample6-2.13_Nneg\n",
       "sample4-4.27_Nneg         0.1936720         0.2509193         0.2491388\n",
       "sample4-1.06_Nneg         0.1713789         0.2365925         0.2608474\n",
       "sample2-1.06_Nneg         0.1660736         0.2184033         0.2416654\n",
       "sample6-3.07_Nneg         0.1628775         0.2360919         0.2638545\n",
       "sample5-3.07_Nneg         0.1619605         0.2278824         0.2734421\n",
       "sample5-1.22_Nneg         0.1711926         0.1497662         0.2315007\n",
       "                  sample6-1.06_Nneg sample4-1.03_Nneg sample6-1.15_Nneg\n",
       "sample4-4.27_Nneg         0.1258078         0.2403625         0.2461183\n",
       "sample4-1.06_Nneg         0.1433184         0.2334364         0.2555131\n",
       "sample2-1.06_Nneg         0.1485192         0.2361902         0.2497786\n",
       "sample6-3.07_Nneg         0.1059661         0.2395412         0.2640326\n",
       "sample5-3.07_Nneg         0.1220228         0.2522284         0.2746298\n",
       "sample5-1.22_Nneg         0.2768941         0.1553848         0.2245137\n",
       "                  sample5-2.11_Nneg sample6-4.12_Nneg sample5-1.25_Nneg\n",
       "sample4-4.27_Nneg         0.1914613         0.2209913         0.3035159\n",
       "sample4-1.06_Nneg         0.1787560         0.2129850         0.2937580\n",
       "sample2-1.06_Nneg         0.1764431         0.2145145         0.2869767\n",
       "sample6-3.07_Nneg         0.2033074         0.2184381         0.2940052\n",
       "sample5-3.07_Nneg         0.2025660         0.2259235         0.2865537\n",
       "sample5-1.22_Nneg         0.1920139         0.1799192         0.1881754\n",
       "                  sample6-3.04_Nneg sample5-3.27_Nneg sample5-3.11_Nneg\n",
       "sample4-4.27_Nneg         0.2605585         0.2213279         0.2877750\n",
       "sample4-1.06_Nneg         0.2639021         0.2179009         0.2704289\n",
       "sample2-1.06_Nneg         0.2525117         0.2092763         0.2522194\n",
       "sample6-3.07_Nneg         0.2738230         0.2222603         0.2714106\n",
       "sample5-3.07_Nneg         0.2796109         0.2252303         0.2541454\n",
       "sample5-1.22_Nneg         0.2039680         0.1658995         0.1989973\n",
       "                  sample3-3.06_Nneg sample2-3.05_Nneg sample6-4.27_Nneg\n",
       "sample4-4.27_Nneg         0.3098382         0.3287213        0.08071828\n",
       "sample4-1.06_Nneg         0.3057663         0.3096141        0.09586569\n",
       "sample2-1.06_Nneg         0.3167544         0.3053557        0.10975939\n",
       "sample6-3.07_Nneg         0.3295912         0.3251724        0.09403765\n",
       "sample5-3.07_Nneg         0.3357598         0.3175671        0.12464895\n",
       "sample5-1.22_Nneg         0.3016175         0.2287785        0.23481514\n",
       "                  sample5-1.06_Nneg sample3-4.27_Nneg sample5-4.06_Nneg\n",
       "sample4-4.27_Nneg         0.1288834        0.09850879         0.1901367\n",
       "sample4-1.06_Nneg         0.1255643        0.08891866         0.1793706\n",
       "sample2-1.06_Nneg         0.1115838        0.10778666         0.1753669\n",
       "sample6-3.07_Nneg         0.1055362        0.09923810         0.1708000\n",
       "sample5-3.07_Nneg         0.1062390        0.11222395         0.1701875\n",
       "sample5-1.22_Nneg         0.2145827        0.23132556         0.1572379\n",
       "                  sample6-4.17_Nneg sample5-2.05_Nneg sample3-3.07_Nneg\n",
       "sample4-4.27_Nneg         0.2572342        0.11649475        0.08066483\n",
       "sample4-1.06_Nneg         0.2378662        0.11057596        0.10134824\n",
       "sample2-1.06_Nneg         0.2388469        0.10742171        0.12037234\n",
       "sample6-3.07_Nneg         0.2465798        0.08884066        0.11167854\n",
       "sample5-3.07_Nneg         0.2354973        0.10072567        0.12916922\n",
       "sample5-1.22_Nneg         0.1814158        0.22410670        0.22814635\n",
       "                  sample5-4.05_Nneg sample6-1.07_Nneg sample5-2.18_Nneg\n",
       "sample4-4.27_Nneg         0.1990125         0.2932621         0.2946314\n",
       "sample4-1.06_Nneg         0.1957532         0.2997241         0.2764574\n",
       "sample2-1.06_Nneg         0.2000603         0.2918500         0.2700553\n",
       "sample6-3.07_Nneg         0.2051075         0.3087286         0.2814483\n",
       "sample5-3.07_Nneg         0.2207039         0.3182171         0.2646950\n",
       "sample5-1.22_Nneg         0.1851679         0.2435345         0.1623133\n",
       "                  sample6-2.05_Nneg sample2-3.07_Nneg sample5-3.16_Nneg\n",
       "sample4-4.27_Nneg        0.09518780        0.11949675         0.2738309\n",
       "sample4-1.06_Nneg        0.10518688        0.10242792         0.2683230\n",
       "sample2-1.06_Nneg        0.10568817        0.11183631         0.2619280\n",
       "sample6-3.07_Nneg        0.08151022        0.09600436         0.2886124\n",
       "sample5-3.07_Nneg        0.10979861        0.09512510         0.2951209\n",
       "sample5-1.22_Nneg        0.23836076        0.24553329         0.2487578\n",
       "                  sample3-4.15_Nneg sample6-4.30_Nneg sample6-1.12_Nneg\n",
       "sample4-4.27_Nneg         0.2916953         0.3381825         0.3240335\n",
       "sample4-1.06_Nneg         0.2825427         0.3310463         0.3238764\n",
       "sample2-1.06_Nneg         0.2754295         0.3214945         0.3133379\n",
       "sample6-3.07_Nneg         0.3014343         0.3366348         0.3319260\n",
       "sample5-3.07_Nneg         0.2986028         0.3338264         0.3346454\n",
       "sample5-1.22_Nneg         0.2377344         0.2259412         0.2263219\n",
       "                  sample6-2.16_Nneg sample5-3.17_Nneg sample5-4.09_Nneg\n",
       "sample4-4.27_Nneg         0.2699899         0.3037048         0.2599847\n",
       "sample4-1.06_Nneg         0.2699989         0.2869755         0.2519187\n",
       "sample2-1.06_Nneg         0.2722288         0.2781777         0.2338350\n",
       "sample6-3.07_Nneg         0.2952738         0.2928199         0.2480518\n",
       "sample5-3.07_Nneg         0.3041691         0.2801812         0.2415895\n",
       "sample5-1.22_Nneg         0.2528020         0.2034894         0.1717656\n",
       "                  sample2-1.08_Nneg sample6-3.01_Nneg sample5-1.16_Nneg\n",
       "sample4-4.27_Nneg         0.3619626         0.2095612         0.2642175\n",
       "sample4-1.06_Nneg         0.3537235         0.2125839         0.2674650\n",
       "sample2-1.06_Nneg         0.3449878         0.2060938         0.2621540\n",
       "sample6-3.07_Nneg         0.3651633         0.2172182         0.2792295\n",
       "sample5-3.07_Nneg         0.3718082         0.2281088         0.2970021\n",
       "sample5-1.22_Nneg         0.2765018         0.1885086         0.2599871\n",
       "                  sample1-1.27_Nneg sample4-3.10_Nneg sample5-1.29_Nneg\n",
       "sample4-4.27_Nneg         0.2168920         0.2520550         0.2702372\n",
       "sample4-1.06_Nneg         0.2011697         0.2417422         0.2565362\n",
       "sample2-1.06_Nneg         0.1843217         0.2304698         0.2478599\n",
       "sample6-3.07_Nneg         0.1934606         0.2523022         0.2658032\n",
       "sample5-3.07_Nneg         0.1965368         0.2500879         0.2624380\n",
       "sample5-1.22_Nneg         0.1855381         0.1518071         0.1538760\n",
       "                  sample5-2.15_Nneg sample1-3.08_Nneg sample3-1.09_Nneg\n",
       "sample4-4.27_Nneg         0.2617065         0.2052662         0.3108790\n",
       "sample4-1.06_Nneg         0.2449307         0.1742253         0.3058554\n",
       "sample2-1.06_Nneg         0.2472060         0.1788946         0.2965824\n",
       "sample6-3.07_Nneg         0.2543460         0.1772646         0.3188033\n",
       "sample5-3.07_Nneg         0.2484672         0.1711219         0.3237922\n",
       "sample5-1.22_Nneg         0.1348768         0.1433711         0.2307621\n",
       "                  sample2-4.25_Nneg sample8-2.07_Nneg sample7-4.02_Nneg\n",
       "sample4-4.27_Nneg         0.3434361         0.2258232         0.3076925\n",
       "sample4-1.06_Nneg         0.3274685         0.2407665         0.3089320\n",
       "sample2-1.06_Nneg         0.3260105         0.2228260         0.3012270\n",
       "sample6-3.07_Nneg         0.3424885         0.2441467         0.3263869\n",
       "sample5-3.07_Nneg         0.3340617         0.2545512         0.3380226\n",
       "sample5-1.22_Nneg         0.2268410         0.2581821         0.2892368\n",
       "                  sample8-4.23_Nneg sample7-3.19_Nneg sample7-1.06_Nneg\n",
       "sample4-4.27_Nneg         0.2388667         0.2618612         0.1264688\n",
       "sample4-1.06_Nneg         0.2479903         0.2716809         0.1369283\n",
       "sample2-1.06_Nneg         0.2300085         0.2616366         0.1310846\n",
       "sample6-3.07_Nneg         0.2599692         0.2886039         0.1120216\n",
       "sample5-3.07_Nneg         0.2692357         0.2960225         0.1307453\n",
       "sample5-1.22_Nneg         0.2263559         0.2578749         0.2641526\n",
       "                  sample3-1.06_Nneg sample3-4.18_Nneg sample6-1.18_Nneg\n",
       "sample4-4.27_Nneg         0.1264972         0.3345778         0.2722380\n",
       "sample4-1.06_Nneg         0.1328659         0.3160827         0.2923104\n",
       "sample2-1.06_Nneg         0.1157494         0.3142276         0.2846553\n",
       "sample6-3.07_Nneg         0.1387666         0.3369590         0.2937316\n",
       "sample5-3.07_Nneg         0.1474441         0.3397198         0.3101323\n",
       "sample5-1.22_Nneg         0.2462545         0.2803928         0.2495327\n",
       "                  sample7-2.12_Nneg sample7-2.28_Nneg sample2-2.10_Nneg\n",
       "sample4-4.27_Nneg         0.3076101         0.2806181         0.3321597\n",
       "sample4-1.06_Nneg         0.3044151         0.2839887         0.3348854\n",
       "sample2-1.06_Nneg         0.2929712         0.2799771         0.3321297\n",
       "sample6-3.07_Nneg         0.3273413         0.3037809         0.3398910\n",
       "sample5-3.07_Nneg         0.3374662         0.3202698         0.3435348\n",
       "sample5-1.22_Nneg         0.2876681         0.3011310         0.2606781\n",
       "                  sample8-2.25_Nneg sample6-3.09_Nneg sample8-2.05_Nneg\n",
       "sample4-4.27_Nneg         0.2455491         0.1614476         0.1278953\n",
       "sample4-1.06_Nneg         0.2479878         0.1712885         0.1235445\n",
       "sample2-1.06_Nneg         0.2343805         0.1694349         0.1213346\n",
       "sample6-3.07_Nneg         0.2585650         0.1675560         0.1096646\n",
       "sample5-3.07_Nneg         0.2606359         0.1716210         0.1226850\n",
       "sample5-1.22_Nneg         0.2046924         0.2049041         0.2575121\n",
       "                  sample2-3.20_Nneg sample8-3.07_Nneg sample8-4.07_Nneg\n",
       "sample4-4.27_Nneg         0.2442197         0.1226385         0.2309032\n",
       "sample4-1.06_Nneg         0.2405173         0.1253723         0.2263871\n",
       "sample2-1.06_Nneg         0.2327010         0.1143812         0.2121720\n",
       "sample6-3.07_Nneg         0.2531646         0.1149778         0.2386225\n",
       "sample5-3.07_Nneg         0.2570594         0.1285250         0.2461815\n",
       "sample5-1.22_Nneg         0.1969979         0.2505643         0.1831922\n",
       "                  sample8-3.23_Nneg sample7-1.13_Nneg sample7-2.30_Nneg\n",
       "sample4-4.27_Nneg         0.2481764         0.2712217         0.2368696\n",
       "sample4-1.06_Nneg         0.2559971         0.2664528         0.2307302\n",
       "sample2-1.06_Nneg         0.2486037         0.2513631         0.2209135\n",
       "sample6-3.07_Nneg         0.2735778         0.2837511         0.2558202\n",
       "sample5-3.07_Nneg         0.2833429         0.2898033         0.2556485\n",
       "sample5-1.22_Nneg         0.2295533         0.2265182         0.1930273\n",
       "                  sample7-3.07_Nneg sample8-1.14_Nneg sample3-1.20_Nneg\n",
       "sample4-4.27_Nneg        0.12738759         0.2461337         0.1675467\n",
       "sample4-1.06_Nneg        0.11970811         0.2444620         0.1725234\n",
       "sample2-1.06_Nneg        0.11596286         0.2394484         0.1462082\n",
       "sample6-3.07_Nneg        0.09217963         0.2443901         0.1737008\n",
       "sample5-3.07_Nneg        0.10518613         0.2521959         0.1857030\n",
       "sample5-1.22_Nneg        0.24547395         0.1666811         0.1820284\n",
       "                  sample8-1.06_Nneg sample7-1.04_Nneg sample8-1.19_Nneg\n",
       "sample4-4.27_Nneg         0.1259598         0.2300936         0.2710890\n",
       "sample4-1.06_Nneg         0.1352260         0.2612085         0.2823546\n",
       "sample2-1.06_Nneg         0.1189159         0.2593752         0.2648020\n",
       "sample6-3.07_Nneg         0.1303330         0.2729845         0.2824702\n",
       "sample5-3.07_Nneg         0.1470553         0.2976496         0.2885566\n",
       "sample5-1.22_Nneg         0.2519333         0.2852732         0.2483601\n",
       "                  sample7-3.12_Nneg sample7-4.03_Nneg sample7-2.05_Nneg\n",
       "sample4-4.27_Nneg         0.3298694         0.3520589         0.1291752\n",
       "sample4-1.06_Nneg         0.3260939         0.3515485         0.1326281\n",
       "sample2-1.06_Nneg         0.3165664         0.3343450         0.1255280\n",
       "sample6-3.07_Nneg         0.3468558         0.3662228         0.1089495\n",
       "sample5-3.07_Nneg         0.3521950         0.3752399         0.1188914\n",
       "sample5-1.22_Nneg         0.2897773         0.3391475         0.2548194\n",
       "                  sample7-1.28_Nneg sample7-3.25_Nneg sample2-1.24_Nneg\n",
       "sample4-4.27_Nneg         0.3093418         0.2356373         0.2576328\n",
       "sample4-1.06_Nneg         0.3250152         0.2424723         0.2594016\n",
       "sample2-1.06_Nneg         0.3150773         0.2332827         0.2542537\n",
       "sample6-3.07_Nneg         0.3415552         0.2614298         0.2621336\n",
       "sample5-3.07_Nneg         0.3593195         0.2701258         0.2643981\n",
       "sample5-1.22_Nneg         0.3477548         0.2378153         0.1741816\n",
       "                  sample8-1.10_Nneg sample8-4.01_Nneg sample8-2.17_Nneg\n",
       "sample4-4.27_Nneg         0.2389871         0.2870148         0.2871410\n",
       "sample4-1.06_Nneg         0.2479445         0.2985297         0.2916884\n",
       "sample2-1.06_Nneg         0.2325541         0.2865676         0.2837510\n",
       "sample6-3.07_Nneg         0.2529366         0.2970180         0.3112082\n",
       "sample5-3.07_Nneg         0.2630008         0.3125812         0.3165218\n",
       "sample5-1.22_Nneg         0.2189703         0.2711175         0.2440613\n",
       "                  sample8-2.22_Nneg sample8-3.29_Nneg sample8-4.27_Nneg\n",
       "sample4-4.27_Nneg         0.2247520         0.2144350         0.1239320\n",
       "sample4-1.06_Nneg         0.2256283         0.2004372         0.1306830\n",
       "sample2-1.06_Nneg         0.2093575         0.1942023         0.1186113\n",
       "sample6-3.07_Nneg         0.2422763         0.2200992         0.1251831\n",
       "sample5-3.07_Nneg         0.2435155         0.2234348         0.1395297\n",
       "sample5-1.22_Nneg         0.2011209         0.1875890         0.2614141\n",
       "                  sample8-3.28_Nneg sample6-4.13_Nneg sample3-2.19_Nneg\n",
       "sample4-4.27_Nneg         0.2250007         0.2028164         0.3024314\n",
       "sample4-1.06_Nneg         0.2246697         0.2145003         0.2936613\n",
       "sample2-1.06_Nneg         0.2172068         0.2077125         0.2857694\n",
       "sample6-3.07_Nneg         0.2330357         0.2243172         0.3090240\n",
       "sample5-3.07_Nneg         0.2396860         0.2378667         0.3112227\n",
       "sample5-1.22_Nneg         0.1654755         0.1991991         0.2292276\n",
       "                  sample8-1.23_Nneg sample6-2.14_Nneg sample8-4.04_Nneg\n",
       "sample4-4.27_Nneg         0.2315212         0.2781960         0.2621854\n",
       "sample4-1.06_Nneg         0.2340032         0.2641612         0.2822359\n",
       "sample2-1.06_Nneg         0.2193178         0.2589217         0.2742728\n",
       "sample6-3.07_Nneg         0.2433123         0.2839726         0.2876252\n",
       "sample5-3.07_Nneg         0.2543078         0.2884180         0.3056066\n",
       "sample5-1.22_Nneg         0.2064278         0.2075502         0.2803437\n",
       "                  sample3-3.30_Nneg sample7-4.14_Nneg sample1-1.06_Nneg\n",
       "sample4-4.27_Nneg         0.2771118         0.2600379         0.1261847\n",
       "sample4-1.06_Nneg         0.2820485         0.2773338         0.1368648\n",
       "sample2-1.06_Nneg         0.2662319         0.2708247         0.1312812\n",
       "sample6-3.07_Nneg         0.2868063         0.2882113         0.1298909\n",
       "sample5-3.07_Nneg         0.2919647         0.3121558         0.1537970\n",
       "sample5-1.22_Nneg         0.2288076         0.2778005         0.2576377\n",
       "                  sample7-4.27_Nneg sample8-3.03_Nneg\n",
       "sample4-4.27_Nneg         0.1121677         0.1958603\n",
       "sample4-1.06_Nneg         0.1161074         0.2030117\n",
       "sample2-1.06_Nneg         0.1158526         0.2069392\n",
       "sample6-3.07_Nneg         0.1151626         0.2110453\n",
       "sample5-3.07_Nneg         0.1388530         0.2247022\n",
       "sample5-1.22_Nneg         0.2520411         0.2355044\n"
      ]
     },
     "metadata": {},
     "output_type": "display_data"
    }
   ],
   "source": [
    "%%R\n",
    "as.matrix(wunif.dist) %>% head"
   ]
  },
  {
   "cell_type": "code",
   "execution_count": 102,
   "metadata": {
    "collapsed": false,
    "scrolled": true
   },
   "outputs": [
    {
     "data": {
      "text/plain": [
       "               Var1              Var2     value\n",
       "1 sample4-4.27_Nneg sample4-4.27_Nneg 0.0000000\n",
       "2 sample4-1.06_Nneg sample4-4.27_Nneg 0.1105126\n",
       "3 sample2-1.06_Nneg sample4-4.27_Nneg 0.1157535\n",
       "4 sample6-3.07_Nneg sample4-4.27_Nneg 0.1021802\n",
       "5 sample5-3.07_Nneg sample4-4.27_Nneg 0.1295857\n",
       "6 sample5-1.22_Nneg sample4-4.27_Nneg 0.2375299\n",
       "[1] 14161     3\n",
       "              PlotA             PlotB w_Unif_Dist  Plant\n",
       "1 sample4-4.27_Nneg sample4-4.27_Nneg   0.0000000   BARE\n",
       "2 sample4-1.06_Nneg sample4-4.27_Nneg   0.1105126   BARE\n",
       "3 sample2-1.06_Nneg sample4-4.27_Nneg   0.1157535   BARE\n",
       "4 sample6-3.07_Nneg sample4-4.27_Nneg   0.1021802   BARE\n",
       "5 sample5-3.07_Nneg sample4-4.27_Nneg   0.1295857   BARE\n",
       "6 sample5-1.22_Nneg sample4-4.27_Nneg   0.2375299 75-062\n",
       "              PlotA             PlotB w_Unif_Dist PlantA Plant\n",
       "1 sample4-4.27_Nneg sample4-4.27_Nneg   0.0000000   BARE  BARE\n",
       "2 sample4-1.06_Nneg sample4-4.27_Nneg   0.1105126   BARE  BARE\n",
       "3 sample2-1.06_Nneg sample4-4.27_Nneg   0.1157535   BARE  BARE\n",
       "4 sample6-3.07_Nneg sample4-4.27_Nneg   0.1021802   BARE  BARE\n",
       "5 sample5-3.07_Nneg sample4-4.27_Nneg   0.1295857   BARE  BARE\n",
       "6 sample5-1.22_Nneg sample4-4.27_Nneg   0.2375299 75-062  BARE\n"
      ]
     },
     "metadata": {},
     "output_type": "display_data"
    }
   ],
   "source": [
    "%%R\n",
    "ud.m = melt(as.matrix(wunif.dist))\n",
    "head(ud.m) %>% print\n",
    "dim(ud.m) %>% print\n",
    "colnames(ud.m) = c(\"PlotA\", \"PlotB\", \"w_Unif_Dist\")\n",
    "\n",
    "#Join with plant names\n",
    "ud.m = left_join(ud.m, sd[, c(1,9)], by = c(\"PlotA\" = \"X.sample\"))\n",
    "head(ud.m) %>% print\n",
    "colnames(ud.m)[4] = \"PlantA\"\n",
    "\n",
    "ud.m = left_join(ud.m, sd[, c(1,9)], by = c(\"PlotB\" = \"X.sample\"))\n",
    "head(ud.m) %>% print\n",
    "colnames(ud.m)[5] = \"PlantB\"\n",
    "ud.m$PlantComp = paste(ud.m$PlantA, ud.m$PlantB, sep = \"-\")"
   ]
  },
  {
   "cell_type": "markdown",
   "metadata": {},
   "source": [
    "* How to remove duplicates, ie values above the diagonal?  Possibly a loop that checks if var1-var2 = var2-var1, then remove."
   ]
  },
  {
   "cell_type": "markdown",
   "metadata": {},
   "source": [
    "# Join with plant phylogenetic distance"
   ]
  },
  {
   "cell_type": "code",
   "execution_count": 103,
   "metadata": {
    "collapsed": false,
    "scrolled": true
   },
   "outputs": [
    {
     "data": {
      "text/plain": [
       "              PlotA             PlotB w_Unif_Dist PlantA PlantB   PlantComp\n",
       "1 sample4-4.27_Nneg sample4-4.27_Nneg   0.0000000   BARE   BARE   BARE-BARE\n",
       "2 sample4-1.06_Nneg sample4-4.27_Nneg   0.1105126   BARE   BARE   BARE-BARE\n",
       "3 sample2-1.06_Nneg sample4-4.27_Nneg   0.1157535   BARE   BARE   BARE-BARE\n",
       "4 sample6-3.07_Nneg sample4-4.27_Nneg   0.1021802   BARE   BARE   BARE-BARE\n",
       "5 sample5-3.07_Nneg sample4-4.27_Nneg   0.1295857   BARE   BARE   BARE-BARE\n",
       "6 sample5-1.22_Nneg sample4-4.27_Nneg   0.2375299 75-062   BARE 75-062-BARE\n",
       "  phy_Dist\n",
       "1       NA\n",
       "2       NA\n",
       "3       NA\n",
       "4       NA\n",
       "5       NA\n",
       "6       NA\n"
      ]
     },
     "metadata": {},
     "output_type": "display_data"
    }
   ],
   "source": [
    "%%R\n",
    "Dist = left_join(ud.m, pd.m[,c(3,4)], by = \"PlantComp\")\n",
    "head(Dist)"
   ]
  },
  {
   "cell_type": "markdown",
   "metadata": {},
   "source": [
    "#### Populate maize--annuals comparisons\n",
    " * Retreive B73--annualls comparisons\n",
    " * Identifier for maize plots"
   ]
  },
  {
   "cell_type": "code",
   "execution_count": 118,
   "metadata": {
    "collapsed": false
   },
   "outputs": [
    {
     "data": {
      "text/plain": [
       "              PlotA             PlotB w_Unif_Dist PlantA PlantB   PlantComp\n",
       "1 sample4-4.27_Nneg sample4-4.27_Nneg   0.0000000   BARE   BARE   BARE-BARE\n",
       "2 sample4-1.06_Nneg sample4-4.27_Nneg   0.1105126   BARE   BARE   BARE-BARE\n",
       "3 sample2-1.06_Nneg sample4-4.27_Nneg   0.1157535   BARE   BARE   BARE-BARE\n",
       "4 sample6-3.07_Nneg sample4-4.27_Nneg   0.1021802   BARE   BARE   BARE-BARE\n",
       "5 sample5-3.07_Nneg sample4-4.27_Nneg   0.1295857   BARE   BARE   BARE-BARE\n",
       "6 sample5-1.22_Nneg sample4-4.27_Nneg   0.2375299 75-062   BARE 75-062-BARE\n",
       "  phy_Dist\n",
       "1       NA\n",
       "2       NA\n",
       "3       NA\n",
       "4       NA\n",
       "5       NA\n",
       "6       NA\n"
      ]
     },
     "metadata": {},
     "output_type": "display_data"
    }
   ],
   "source": [
    "%%R\n",
    "head(Dist)"
   ]
  },
  {
   "cell_type": "code",
   "execution_count": 120,
   "metadata": {
    "collapsed": false
   },
   "outputs": [
    {
     "data": {
      "text/plain": [
       "Source: local data frame [6 x 2]\n",
       "\n",
       "     PlantComp phy_dist\n",
       "         (chr)    (dbl)\n",
       "1   75-062-B73       NA\n",
       "2 75-062-SORBI       NA\n",
       "3    ABUTH-B73  0.35681\n",
       "4  ABUTH-SORBI  0.35370\n",
       "5    AMAPO-B73  0.39437\n",
       "6  AMAPO-SORBI  0.39126\n"
      ]
     },
     "metadata": {},
     "output_type": "display_data"
    }
   ],
   "source": [
    "%%R\n",
    "MaizeAnnual = filter(Dist, PlantA == \"B73\" | PlantB == \"B73\" | PlantA == \"SORBI\" | PlantB == \"SORBI\") \n",
    "Mlookup  = MaizeAnnual %>%\n",
    "     group_by(PlantComp) %>% \n",
    "        summarize(phy_dist = first(phy_Dist))\n",
    "Mlookup %>% head()\n",
    "#B73 sorghum  = .01 phy_Dist\n"
   ]
  },
  {
   "cell_type": "code",
   "execution_count": null,
   "metadata": {
    "collapsed": true
   },
   "outputs": [],
   "source": [
    "%%R"
   ]
  },
  {
   "cell_type": "code",
   "execution_count": 58,
   "metadata": {
    "collapsed": false,
    "scrolled": true
   },
   "outputs": [
    {
     "data": {
      "text/plain": [
       "[1] 14161     7\n",
       "[1] 14042     7\n"
      ]
     },
     "metadata": {},
     "output_type": "display_data"
    },
    {
     "data": {
      "image/png": "[encoded data removed]"
     },
     "metadata": {},
     "output_type": "display_data"
    }
   ],
   "source": [
    "%%R\n",
    "dim(Dist) %>% print\n",
    "D.s = filter(Dist, PlotA != PlotB)\n",
    "\n",
    "dim(D.s) %>% print\n",
    "plot(w_Unif_Dist~phy_Dist, data = D.s)\n",
    "m = lm(w_Unif_Dist~phy_Dist, data = D.s)\n",
    "abline(m)"
   ]
  },
  {
   "cell_type": "markdown",
   "metadata": {},
   "source": [
    "# Mantel test of phylogenetic distance and microbial community distance"
   ]
  },
  {
   "cell_type": "markdown",
   "metadata": {},
   "source": [
    "## Set up distance matrices"
   ]
  },
  {
   "cell_type": "code",
   "execution_count": 59,
   "metadata": {
    "collapsed": false
   },
   "outputs": [
    {
     "data": {
      "text/plain": [
       "              PlotA             PlotB w_Unif_Dist PlantA PlantB   PlantComp\n",
       "1 sample4-4.27_Nneg sample4-4.27_Nneg   0.0000000   BARE   BARE   BARE-BARE\n",
       "2 sample4-1.06_Nneg sample4-4.27_Nneg   0.1105126   BARE   BARE   BARE-BARE\n",
       "3 sample2-1.06_Nneg sample4-4.27_Nneg   0.1157535   BARE   BARE   BARE-BARE\n",
       "4 sample6-3.07_Nneg sample4-4.27_Nneg   0.1021802   BARE   BARE   BARE-BARE\n",
       "5 sample5-3.07_Nneg sample4-4.27_Nneg   0.1295857   BARE   BARE   BARE-BARE\n",
       "6 sample5-1.22_Nneg sample4-4.27_Nneg   0.2375299 75-062   BARE 75-062-BARE\n",
       "  phy_Dist\n",
       "1       NA\n",
       "2       NA\n",
       "3       NA\n",
       "4       NA\n",
       "5       NA\n",
       "6       NA\n"
      ]
     },
     "metadata": {},
     "output_type": "display_data"
    }
   ],
   "source": [
    "%%R\n",
    "head(Dist)"
   ]
  },
  {
   "cell_type": "code",
   "execution_count": 62,
   "metadata": {
    "collapsed": false,
    "scrolled": true
   },
   "outputs": [],
   "source": [
    "%%R\n",
    "head(Dist)\n",
    "#Remove NAs to trim dataset\n",
    "Temp = Dist[!is.na(Dist$phy_Dist),]\n",
    "\n",
    "#Seperate unifrac and phylogenetic distances retaining plot IDs\n",
    "U = Temp[,c(1,2,3)]\n",
    "Phy = Temp[,c(1,2,7)]\n",
    "\n",
    "#Re-cast longform to wide form.  \n",
    "Udist = acast(U, PlotA~PlotB)\n",
    "\n",
    "\n",
    "Phydist = acast(Phy, PlotA~PlotB)\n",
    "\n",
    "\n"
   ]
  },
  {
   "cell_type": "markdown",
   "metadata": {},
   "source": [
    "## Mantel test"
   ]
  },
  {
   "cell_type": "code",
   "execution_count": 63,
   "metadata": {
    "collapsed": false,
    "scrolled": false
   },
   "outputs": [
    {
     "data": {
      "text/plain": [
       "\n",
       "Mantel statistic based on Pearson's product-moment correlation \n",
       "\n",
       "Call:\n",
       "mantel(xdis = as.dist(Phydist), ydis = as.dist(Udist), method = \"pearson\",      permutations = 999) \n",
       "\n",
       "Mantel statistic r: 0.2723 \n",
       "      Significance: 0.001 \n",
       "\n",
       "Upper quantiles of permutations (null model):\n",
       "   90%    95%  97.5%    99% \n",
       "0.0789 0.1068 0.1264 0.1543 \n",
       "Permutation: free\n",
       "Number of permutations: 999\n",
       "\n"
      ]
     },
     "metadata": {},
     "output_type": "display_data"
    }
   ],
   "source": [
    "%%R\n",
    "M1 = mantel(as.dist(Phydist), as.dist(Udist), method=\"pearson\", permutations=999)\n",
    "print(M1)"
   ]
  },
  {
   "cell_type": "code",
   "execution_count": 64,
   "metadata": {
    "collapsed": false
   },
   "outputs": [
    {
     "data": {
      "text/plain": [
       "\n",
       "Call:\n",
       "protest(X = Phydist, Y = Udist, scores = \"sites\", permutations = 999) \n",
       "\n",
       "Number of objects: 43    Number of dimensions: 43 \n",
       "\n",
       "Procrustes sum of squares:  \n",
       " 0.8325034 \n",
       "Procrustes root mean squared error: \n",
       " 0.1391422 \n",
       "Quantiles of Procrustes errors:\n",
       "       Min         1Q     Median         3Q        Max \n",
       "0.08693794 0.11511516 0.12952843 0.15698971 0.19988321 \n",
       "\n",
       "Rotation matrix:\n",
       "              [,1]         [,2]          [,3]         [,4]          [,5]\n",
       " [1,]  0.220416938  0.311618705  0.7533933672  0.068166136  0.1070870035\n",
       " [2,]  0.773929142  0.070641470 -0.2140009014 -0.003938861  0.0307607557\n",
       " [3,] -0.185705310  0.034596994  0.2579126021  0.153389592 -0.1434984918\n",
       " [4,] -0.116424833  0.242230569  0.0890294911  0.235029187 -0.1708217007\n",
       " [5,]  0.002884199  0.014185593 -0.0056671908 -0.037496671 -0.1315155476\n",
       " [6,]  0.070844763  0.002193429 -0.0519808361 -0.304057949 -0.1573900701\n",
       " [7,] -0.089977500 -0.041365971 -0.0071954098 -0.075651065  0.4278610933\n",
       " [8,] -0.088733064 -0.031462556 -0.0163296409  0.014312004  0.1241156175\n",
       " [9,] -0.005280867 -0.027034666 -0.1505131661  0.200060756  0.0318468255\n",
       "[10,] -0.107800677 -0.116205057  0.0604915537 -0.064569901  0.2033305851\n",
       "[11,] -0.019760264 -0.070084657  0.0605974459 -0.313090590  0.3430691133\n",
       "[12,] -0.016872251 -0.045558005 -0.1344370084  0.108860062  0.0395912013\n",
       "[13,]  0.060844337  0.120629322 -0.0862856189  0.150629167  0.0306383062\n",
       "[14,] -0.016643928  0.019191710  0.0218281028 -0.425331553  0.0396465228\n",
       "[15,] -0.039734953 -0.089585154 -0.0841344074  0.118094542  0.3486047338\n",
       "[16,]  0.001562986 -0.041019842 -0.1003424650 -0.012136749 -0.2836035476\n",
       "[17,]  0.116634821 -0.082751974 -0.0692408162 -0.015269535 -0.1913958097\n",
       "[18,] -0.132849973 -0.038546424 -0.0121021315  0.073110444  0.1037363642\n",
       "[19,] -0.106314730 -0.030440085  0.1014438559 -0.187368286 -0.4085538263\n",
       "[20,]  0.141041173  0.213663501 -0.0687916611 -0.108234489  0.0104677522\n",
       "[21,]  0.043144545 -0.248205698  0.1026924289  0.045328204 -0.1405319573\n",
       "[22,] -0.184444099  0.083307870 -0.0098948954  0.130751345  0.0028191330\n",
       "[23,]  0.026090974 -0.048017263  0.0283400982  0.148621435  0.0606696137\n",
       "[24,] -0.081555835  0.099562938 -0.0120215313 -0.063146262 -0.0399966501\n",
       "[25,] -0.009831356 -0.128564553  0.0103257949  0.067032188 -0.1203580491\n",
       "[26,] -0.057238132  0.094963646 -0.0336866306 -0.040386568  0.0569951372\n",
       "[27,]  0.133814524  0.099264677  0.0009881607 -0.020043814 -0.0586910623\n",
       "[28,] -0.082673802 -0.170157193 -0.0565280208 -0.039351841 -0.0003932817\n",
       "[29,] -0.165070635  0.147995787 -0.0648300208 -0.081524805 -0.0531588638\n",
       "[30,] -0.031338714  0.144857388 -0.3023458177  0.054001532  0.0405925222\n",
       "[31,] -0.043997282 -0.347631744  0.0819518322 -0.239369818 -0.0506613067\n",
       "[32,] -0.076963148  0.072452755  0.0018453515  0.092384100  0.1173620080\n",
       "[33,] -0.012600562 -0.111749674  0.1253420033  0.077286453 -0.0842701892\n",
       "[34,] -0.036350568  0.104045363  0.0618928079 -0.111403654  0.0998322563\n",
       "[35,]  0.044721373 -0.151432755  0.0118744978  0.191521302  0.0300631018\n",
       "[36,]  0.028280382  0.033188396 -0.0208034410 -0.043769927  0.0348526008\n",
       "[37,]  0.047240674  0.160461864 -0.0671325022 -0.146420932 -0.0761730348\n",
       "[38,]  0.093369621  0.026132793  0.1323895240 -0.298599887  0.0532604020\n",
       "[39,]  0.084980424 -0.098232140  0.0851041580  0.011443809 -0.0293798934\n",
       "[40,] -0.259569932  0.375291834 -0.1482289399 -0.281143857 -0.0436175107\n",
       "[41,] -0.051111819 -0.024650509 -0.0777548420  0.032638954 -0.1161932283\n",
       "[42,]  0.056469061 -0.305761141  0.1360372414 -0.126801771 -0.0685562463\n",
       "[43,] -0.005807390 -0.319203282  0.0416271733 -0.005657870  0.0307559621\n",
       "              [,6]         [,7]          [,8]         [,9]        [,10]\n",
       " [1,]  0.101096297  0.036553026  0.0613304578  0.025856636  0.059356632\n",
       " [2,] -0.112971164 -0.020670245 -0.0299147550 -0.174613895  0.056871783\n",
       " [3,]  0.019415876 -0.064466015 -0.1195611386 -0.021450048 -0.117156386\n",
       " [4,]  0.011407633 -0.074614973 -0.1906628087 -0.245913013 -0.021694024\n",
       " [5,]  0.105446571  0.497007070  0.0724784531  0.301574248  0.084885712\n",
       " [6,]  0.318390126  0.020149519 -0.0943926664 -0.161954461  0.554034167\n",
       " [7,]  0.011899491  0.244711944 -0.1413055476  0.016737196 -0.120916422\n",
       " [8,]  0.392587729 -0.027766002  0.5515272032  0.052578446  0.212412175\n",
       " [9,]  0.064205838 -0.142844824 -0.0959626117  0.503585661 -0.024641250\n",
       "[10,]  0.244959438 -0.183365816  0.2940020197 -0.209662182  0.115176245\n",
       "[11,] -0.250126404  0.301857836  0.0866195943 -0.010802425 -0.080635506\n",
       "[12,]  0.017398993  0.140238394 -0.0537200883 -0.085889825 -0.042715849\n",
       "[13,]  0.323816579 -0.009042875 -0.0968057861 -0.067921526 -0.119188864\n",
       "[14,]  0.093155430 -0.218760433 -0.3208524983  0.058402742  0.029100632\n",
       "[15,]  0.110038291 -0.008655149 -0.1241546692 -0.140709343 -0.004194821\n",
       "[16,]  0.248986057  0.188021007  0.0174139785 -0.255069699 -0.345231204\n",
       "[17,]  0.025075020 -0.056179163  0.0138220576  0.157898793  0.052520909\n",
       "[18,] -0.393805959 -0.379332873  0.0305908918 -0.059026488  0.281554593\n",
       "[19,] -0.264535662  0.163671576  0.2540655949 -0.083577890 -0.046217597\n",
       "[20,]  0.015634339 -0.159268258  0.2406168212  0.182480506 -0.218476254\n",
       "[21,] -0.074685029  0.165329538 -0.0915526691  0.060565498  0.215165903\n",
       "[22,]  0.040557777  0.100566964 -0.1350271621 -0.100812621  0.199420583\n",
       "[23,]  0.026801840 -0.034448315  0.1258369634  0.053471272 -0.067193669\n",
       "[24,]  0.061701917  0.082394630  0.0846439286  0.086001439 -0.081258884\n",
       "[25,]  0.110301680  0.084146261 -0.1618225248  0.013562445  0.066325499\n",
       "[26,] -0.134300610 -0.037358655  0.2099895640 -0.259885383 -0.169493314\n",
       "[27,] -0.111577261 -0.009244466  0.0744681913  0.028862778  0.019058505\n",
       "[28,] -0.019538144  0.114748636 -0.0441362114 -0.069366295  0.104023954\n",
       "[29,] -0.180609868 -0.041942441  0.1194411127 -0.016291856  0.074454603\n",
       "[30,]  0.018873140  0.025400772  0.0855897157 -0.089108642  0.041531313\n",
       "[31,]  0.183867044 -0.278092016 -0.0152232271  0.125632230 -0.336109849\n",
       "[32,]  0.083278613  0.043817085 -0.1448636285  0.068394152  0.033441631\n",
       "[33,]  0.027350830 -0.113821722 -0.0693664012 -0.145569920 -0.013701191\n",
       "[34,] -0.035394640  0.053184533 -0.0232330857 -0.125280894  0.032093102\n",
       "[35,] -0.104456601  0.073417100  0.1295302517  0.188386739  0.169164100\n",
       "[36,]  0.039135915 -0.002898856 -0.1114480142 -0.025203452 -0.019603247\n",
       "[37,]  0.139757847 -0.110739529  0.0452685556 -0.061537257 -0.060226719\n",
       "[38,] -0.002478153  0.034824421 -0.1091828797  0.069873691 -0.068627430\n",
       "[39,]  0.007457952 -0.031016704  0.0674959479 -0.035473309  0.037933009\n",
       "[40,] -0.020789586 -0.018425878 -0.1050501933  0.094268592  0.082877096\n",
       "[41,] -0.069717128 -0.094269108  0.1117369290 -0.009570109 -0.028464993\n",
       "[42,] -0.018015426 -0.169094266 -0.0441080080  0.068450877  0.054787528\n",
       "[43,] -0.032084913  0.103940909  0.0006681263 -0.313572176 -0.057162034\n",
       "             [,11]         [,12]        [,13]        [,14]         [,15]\n",
       " [1,]  0.025092521  0.1363628612 -0.005221237  0.136362861 -0.0052212374\n",
       " [2,]  0.106207088 -0.0415462036 -0.064499172 -0.003974946  0.0710884852\n",
       " [3,] -0.063443801 -0.3117236896 -0.016686460 -0.141965735  0.0940644460\n",
       " [4,]  0.198582240  0.0277195769 -0.169946726 -0.319258156 -0.1125985797\n",
       " [5,]  0.223079016 -0.0684563283 -0.052747874  0.070975373 -0.0483918346\n",
       " [6,]  0.086543911 -0.0082373552  0.242140235 -0.019176864 -0.0183816977\n",
       " [7,]  0.107119787  0.1620476243  0.098149529  0.072073019 -0.1889362704\n",
       " [8,]  0.066756197  0.0941982573 -0.270891465 -0.097811745 -0.0298264640\n",
       " [9,]  0.479311510  0.0963949633  0.123043824 -0.147573648  0.0820691917\n",
       "[10,]  0.039132711 -0.0258000265  0.068548517 -0.084642860  0.1734869881\n",
       "[11,]  0.158714394 -0.2204561132 -0.048581591 -0.127303541  0.1109055465\n",
       "[12,] -0.094336794  0.0402679753 -0.111189834  0.172631985  0.2357018036\n",
       "[13,] -0.181486735 -0.0596146060  0.212426390 -0.077478474  0.2603393200\n",
       "[14,] -0.155577738  0.0768340728 -0.366206561  0.121442246  0.0646889029\n",
       "[15,] -0.066622722 -0.0007110173  0.340499162 -0.010811959  0.1037417113\n",
       "[16,] -0.099913996  0.4021087016  0.030883944  0.122088397 -0.1521458506\n",
       "[17,]  0.021504270 -0.1655215092 -0.023920543  0.320168758  0.1325399972\n",
       "[18,]  0.151460188  0.3549546348  0.099942083  0.153930266  0.0150372537\n",
       "[19,]  0.082536724  0.1345746685  0.331877467 -0.109681541  0.3525636323\n",
       "[20,] -0.020548566  0.0463453908 -0.020336439 -0.206221590  0.0004229013\n",
       "[21,] -0.019651702  0.2134302599 -0.242439903  0.006561185 -0.1654946794\n",
       "[22,]  0.077049545 -0.1729953529  0.134444533  0.303691727 -0.0428931119\n",
       "[23,] -0.158050702 -0.1905252599  0.021913441  0.115655593 -0.0116167961\n",
       "[24,] -0.017489634  0.1655190325  0.022134250  0.056470141 -0.0087341913\n",
       "[25,]  0.128102786 -0.1225281429 -0.041596472 -0.259631153  0.0357749978\n",
       "[26,]  0.169724638 -0.0654189652 -0.105839052  0.125977483 -0.0020655721\n",
       "[27,] -0.188081065  0.1213314760  0.042023153 -0.109907886 -0.0686211495\n",
       "[28,] -0.094596617  0.0433683257  0.013143044 -0.029507182 -0.0276677390\n",
       "[29,] -0.129501747 -0.2070208832  0.023476109 -0.031192825 -0.1799932344\n",
       "[30,] -0.019714316 -0.0252084940 -0.192425609 -0.166643225 -0.0490926015\n",
       "[31,]  0.093714257  0.0089390018 -0.013538825  0.183983849 -0.0336103342\n",
       "[32,] -0.107400157  0.2377040125  0.033846535 -0.082158956  0.1327155229\n",
       "[33,]  0.294676039 -0.0087550821 -0.232111399  0.108878373  0.3685048294\n",
       "[34,]  0.078327208  0.1076265417  0.009712729 -0.042890640 -0.1641626172\n",
       "[35,] -0.370114931  0.1395544616 -0.068552683 -0.013560838  0.3201631385\n",
       "[36,]  0.124617722  0.1720738077  0.005477582 -0.174535554  0.0393941958\n",
       "[37,]  0.191967833 -0.0772421451  0.166308577  0.104211641 -0.0534351077\n",
       "[38,] -0.028637182  0.0702263179  0.203716049 -0.141274669  0.1983969705\n",
       "[39,] -0.004794946 -0.2729698736  0.078145136  0.144234229 -0.1478621678\n",
       "[40,] -0.089584566 -0.0356670724 -0.168827893  0.007161685  0.2298458156\n",
       "[41,]  0.052943607  0.0783044054  0.171194838  0.097335184 -0.1708571825\n",
       "[42,] -0.182133433 -0.0903746308  0.103459483 -0.379978437 -0.2460463877\n",
       "[43,]  0.134460849  0.0003496550 -0.190624099 -0.152897567  0.1352091938\n",
       "              [,16]        [,17]        [,18]         [,19]        [,20]\n",
       " [1,]  0.1363628612 -0.005221237  0.136362861 -0.0052212374 -0.040293910\n",
       " [2,] -0.2117592485  0.062564461 -0.070706223 -0.1326141252  0.090504270\n",
       " [3,] -0.0629968619 -0.184955368 -0.195835941 -0.0004627781 -0.003798845\n",
       " [4,] -0.1048799105  0.174509989 -0.212414350  0.0245638474  0.033902358\n",
       " [5,] -0.1314675389 -0.105389477  0.036206190  0.1921635545  0.198562408\n",
       " [6,]  0.1289256597 -0.195016970 -0.123928749 -0.1276035634 -0.099486820\n",
       " [7,] -0.1725145101  0.103702032 -0.195933652  0.1352891489 -0.225548702\n",
       " [8,] -0.1406956245  0.111365864  0.021015659  0.0235614535  0.042921095\n",
       " [9,]  0.2150648830  0.113649008  0.060563966 -0.1992706550  0.088556445\n",
       "[10,]  0.0370184362  0.031279218 -0.145098678 -0.0060763159  0.093349450\n",
       "[11,]  0.1460690989 -0.140747624  0.014269165  0.0019171215  0.020164123\n",
       "[12,]  0.0368161018 -0.172069424  0.321585495  0.0291131250  0.271843494\n",
       "[13,] -0.3336565466 -0.046413671  0.157457616  0.2653334830 -0.096925126\n",
       "[14,] -0.0003857975  0.266113944  0.333802269  0.0619700158 -0.054142600\n",
       "[15,]  0.1307493157  0.342796990  0.033647096  0.0211959940  0.196672866\n",
       "[16,]  0.4569885280 -0.069166307 -0.040506813 -0.0469508154  0.118931970\n",
       "[17,]  0.2307646453  0.215459195 -0.411362935  0.6129867287 -0.030800288\n",
       "[18,]  0.0074328972 -0.328445259  0.098410199  0.2575746191  0.090695145\n",
       "[19,] -0.1651534907  0.342111217  0.218458871 -0.0020209618 -0.058973004\n",
       "[20,]  0.1888540342 -0.114160180  0.028655689  0.0728811189  0.078057990\n",
       "[21,] -0.1261043979  0.116911267 -0.001234684 -0.0460895696  0.070818871\n",
       "[22,] -0.0535281497  0.114193016  0.032065093 -0.2423016064  0.359333890\n",
       "[23,]  0.0138430601 -0.067253438  0.115987150  0.0449005089  0.204047779\n",
       "[24,] -0.2890109228 -0.046010311  0.023060276  0.1038691157  0.166909708\n",
       "[25,]  0.1601119950 -0.080057295  0.213237260  0.0590704654 -0.107407757\n",
       "[26,]  0.0715337387  0.023460852 -0.057330548 -0.0174401670 -0.033051306\n",
       "[27,] -0.1086524747 -0.084340976 -0.222876285 -0.0137486382  0.359061187\n",
       "[28,] -0.0545317291 -0.197445124  0.025987886  0.0460596786 -0.134520209\n",
       "[29,]  0.1476009262  0.148594367  0.061180475 -0.0227474238  0.002288868\n",
       "[30,]  0.0808822500  0.037694367  0.156768394  0.0533070426  0.035887765\n",
       "[31,] -0.2442871282 -0.025796915 -0.140988655 -0.2687780495  0.079336272\n",
       "[32,] -0.0056120324 -0.081319811 -0.077967247  0.0913898927  0.061463560\n",
       "[33,] -0.0016108354  0.003544088  0.013752246  0.0714218705  0.157590436\n",
       "[34,] -0.0036229425  0.300343231 -0.047377446  0.1428632752  0.202381178\n",
       "[35,]  0.1306704514  0.165078899 -0.169953908 -0.2375252344 -0.222631882\n",
       "[36,]  0.0570912563  0.153423756  0.050832220  0.1044666231 -0.059587335\n",
       "[37,] -0.0348329928 -0.112512464  0.167421284  0.0828916575 -0.202538456\n",
       "[38,]  0.0726667119 -0.095463627 -0.162718813 -0.0505318903  0.219187794\n",
       "[39,]  0.1218313604  0.168372468  0.148130275 -0.0411775647  0.077803002\n",
       "[40,] -0.0293590546 -0.007150765 -0.208244454 -0.1213261047  0.155852269\n",
       "[41,] -0.1873543030  0.043558248 -0.025541344 -0.0432950763 -0.095944933\n",
       "[42,] -0.0119230813  0.035468953  0.112444546  0.2427145513  0.298826988\n",
       "[43,]  0.0214831261 -0.068049152 -0.085095236  0.0405645594  0.027561012\n",
       "             [,21]       [,22]        [,23]        [,24]        [,25]\n",
       " [1,] -0.040293910 -0.04029391 -0.040293910  0.023468316  0.023468316\n",
       " [2,]  0.009384507  0.00823084 -0.095568230 -0.001764312 -0.086306099\n",
       " [3,]  0.170231353  0.05059128 -0.171185843 -0.047889163  0.118519750\n",
       " [4,] -0.113693787 -0.02102054  0.137071070 -0.236771248 -0.290970793\n",
       " [5,]  0.070181930 -0.08414788 -0.226858171 -0.053558731 -0.118115290\n",
       " [6,]  0.191557854 -0.08250172  0.056321659  0.085350854 -0.088938289\n",
       " [7,]  0.035454318  0.23691673  0.023773500 -0.304737461  0.102684763\n",
       " [8,]  0.054147323 -0.08095853 -0.026486189 -0.212442664 -0.051134726\n",
       " [9,] -0.111825909  0.13595072 -0.167300663  0.174915002 -0.008428359\n",
       "[10,] -0.339287191  0.20213401  0.011090988  0.118663955  0.050449990\n",
       "[11,]  0.054035100 -0.12285742  0.078545222 -0.006778553 -0.157431932\n",
       "[12,] -0.211711845 -0.18440944  0.226300836 -0.125583289 -0.029139278\n",
       "[13,]  0.098485563  0.18041352 -0.069639462  0.131121038 -0.239437445\n",
       "[14,] -0.021043460  0.07525403 -0.124354104 -0.035696825  0.025955237\n",
       "[15,]  0.204599290 -0.16446698 -0.075027191 -0.076305910  0.101352364\n",
       "[16,]  0.032698700  0.06536794 -0.187035915 -0.088345061 -0.111363157\n",
       "[17,] -0.085261229 -0.03412228  0.120172108 -0.015191348  0.027885117\n",
       "[18,]  0.034973879  0.01078183 -0.057843294 -0.149570238 -0.176558917\n",
       "[19,] -0.065797797  0.03568006  0.070873281 -0.072908025  0.003549114\n",
       "[20,]  0.350934745  0.24486519  0.400258019 -0.119780565 -0.081457343\n",
       "[21,]  0.198868016  0.36895357  0.242819537  0.199403858  0.132771710\n",
       "[22,]  0.195811995  0.09697792  0.127054111 -0.163456919  0.080047312\n",
       "[23,]  0.174155620  0.23780778  0.238100094  0.145685518 -0.019493960\n",
       "[24,]  0.045272625 -0.08006498 -0.097444340  0.211708939  0.035746152\n",
       "[25,] -0.154339256 -0.01123512  0.210176146  0.041248918  0.257554147\n",
       "[26,]  0.220850485  0.04893788 -0.298740502  0.414063422  0.098781420\n",
       "[27,] -0.149589457 -0.11023657  0.035209996 -0.066315076  0.411918361\n",
       "[28,] -0.053896467  0.31498696 -0.114799716  0.051809314 -0.082755313\n",
       "[29,]  0.125456582 -0.06237115  0.006817863  0.091657440 -0.068657604\n",
       "[30,] -0.066657093  0.14405896 -0.144253994 -0.099467671  0.215229901\n",
       "[31,]  0.010965146 -0.21778431  0.161546201 -0.005245553 -0.106319384\n",
       "[32,] -0.039578153 -0.13445933  0.184073767  0.402560257 -0.010214846\n",
       "[33,]  0.270681098  0.13123606 -0.150160702 -0.112412999  0.136908737\n",
       "[34,] -0.119753302  0.02040363  0.094476190  0.296890238  0.026667079\n",
       "[35,]  0.162888684 -0.03677805 -0.090694955 -0.109333944  0.036521684\n",
       "[36,]  0.361173682 -0.23041089  0.166629421  0.025334944 -0.084196838\n",
       "[37,]  0.038227641 -0.01652613  0.099256623 -0.119522384  0.480832360\n",
       "[38,] -0.090373563  0.34852416 -0.061372999 -0.144226682  0.020635535\n",
       "[39,] -0.201190534  0.22445636  0.034743613 -0.028266554 -0.318526392\n",
       "[40,] -0.015727706  0.07272436 -0.015534949  0.020448873 -0.086595341\n",
       "[41,]  0.048503582  0.08815611  0.050895871  0.039286518  0.020768403\n",
       "[42,]  0.135164289 -0.08950922 -0.287283386 -0.065596711  0.009192774\n",
       "[43,]  0.024110249 -0.02084182  0.134874166  0.097099413  0.031759709\n",
       "             [,26]       [,27]        [,28]        [,29]        [,30]\n",
       " [1,]  0.023468316  0.02346832  0.150152428  0.150152428  0.150152428\n",
       " [2,]  0.009067621 -0.20951292  0.059719352 -0.062427033  0.057876981\n",
       " [3,] -0.331100096 -0.15910190 -0.071856693  0.054892622 -0.134945465\n",
       " [4,]  0.047691662  0.10846149  0.043357772 -0.026445627  0.158340615\n",
       " [5,] -0.001688721 -0.15525747 -0.090932641  0.082526988  0.150570215\n",
       " [6,] -0.111277545  0.17266777  0.065160320  0.219078384 -0.091934179\n",
       " [7,]  0.115805541 -0.02297789  0.151003088  0.168473642 -0.137145979\n",
       " [8,] -0.097066916  0.08562182 -0.089737588 -0.127008412  0.031415842\n",
       " [9,] -0.101106786 -0.03196736 -0.024248847  0.034883087  0.016522629\n",
       "[10,]  0.133025862 -0.37380232  0.021474575 -0.046919955 -0.080970335\n",
       "[11,] -0.166633494  0.16321560 -0.070439722 -0.126074381  0.031558247\n",
       "[12,] -0.104832855  0.01862907  0.220211949  0.189321714 -0.241144748\n",
       "[13,] -0.068304903  0.22061389 -0.051633493 -0.037186113 -0.029171439\n",
       "[14,] -0.019407131 -0.10145072 -0.197212916 -0.028258631  0.050675147\n",
       "[15,] -0.107505814  0.04417628 -0.257603784  0.210392963  0.100459955\n",
       "[16,] -0.058281355 -0.05649703 -0.078765784 -0.130574193  0.039429527\n",
       "[17,]  0.009448069  0.04444314  0.125976792 -0.015973683  0.042192656\n",
       "[18,] -0.034312428  0.07943261 -0.057077237 -0.090743994  0.086895738\n",
       "[19,] -0.091511503 -0.05063237  0.086573556  0.029332002  0.002600855\n",
       "[20,]  0.083166330 -0.09080081 -0.037088519  0.139225207 -0.261179495\n",
       "[21,] -0.204981512  0.04298328 -0.014069021  0.002568596 -0.175757933\n",
       "[22,]  0.217805316 -0.09810870  0.189107709 -0.328423316 -0.028628568\n",
       "[23,] -0.112389731  0.05644421 -0.015577096 -0.137918208  0.492609830\n",
       "[24,]  0.412007222  0.04351564 -0.024898231  0.018209620 -0.091438988\n",
       "[25,]  0.389938222  0.26141517 -0.076583803 -0.081751650  0.078765087\n",
       "[26,]  0.182450408  0.30540003  0.129352406 -0.035350246 -0.107978899\n",
       "[27,]  0.064861119  0.18025032 -0.351602978  0.256041238  0.097509306\n",
       "[28,]  0.109800333 -0.15364917 -0.023968550  0.169156542  0.388469762\n",
       "[29,]  0.103486941 -0.33846809  0.089982966  0.323239531  0.157316133\n",
       "[30,] -0.162235165  0.19695126  0.489087256  0.273688648  0.205843630\n",
       "[31,] -0.041719741  0.14881179  0.259373915  0.164332825  0.223388427\n",
       "[32,]  0.004251728 -0.21098286  0.211343920  0.072560404 -0.001690296\n",
       "[33,]  0.071702566 -0.00537797 -0.044398780  0.287133326 -0.063920773\n",
       "[34,] -0.327742539  0.13288760 -0.009254515 -0.129973929 -0.008432647\n",
       "[35,]  0.111501127  0.15936297  0.088831948 -0.110535404  0.073038768\n",
       "[36,]  0.210275459 -0.08752877  0.002802911 -0.030161201  0.198893073\n",
       "[37,] -0.103358706 -0.09166250 -0.025852459 -0.218565547  0.124636125\n",
       "[38,]  0.058508262  0.12979211  0.153094416 -0.115275870  0.127000187\n",
       "[39,]  0.198523652  0.21795117 -0.194178649  0.232461464 -0.133369720\n",
       "[40,]  0.047673432  0.07721597 -0.079124215 -0.036212081  0.063130522\n",
       "[41,] -0.036312732  0.07511749 -0.091196297  0.174180498  0.070000311\n",
       "[42,]  0.088338143 -0.01223644  0.284048645 -0.146423486 -0.136439091\n",
       "[43,]  0.051678398 -0.12745253 -0.130224387  0.038717124  0.131398581\n",
       "              [,31]        [,32]        [,33]        [,34]        [,35]\n",
       " [1,]  0.1501524277 -0.037847598 -0.077197154 -0.077197154 -0.037847598\n",
       " [2,]  0.0848227258 -0.024918377 -0.043724272 -0.055454156  0.161924776\n",
       " [3,]  0.1175801496  0.060673062 -0.207117351 -0.120926126  0.101864284\n",
       " [4,] -0.1458022845  0.119573105 -0.122969338 -0.029561350  0.150645844\n",
       " [5,] -0.0694162012  0.042268225 -0.229392072  0.267975200  0.091284761\n",
       " [6,] -0.2095490732 -0.088876830 -0.072308122 -0.078166623 -0.075834227\n",
       " [7,] -0.1619346040 -0.158862054 -0.050092980 -0.192607872  0.108044888\n",
       " [8,]  0.0641298283  0.068395908  0.228054997 -0.259807954  0.077602152\n",
       " [9,]  0.0323510209  0.007357408 -0.071693188 -0.291060037 -0.073372084\n",
       "[10,] -0.0064776651  0.039349284 -0.375745053  0.219043845  0.045531581\n",
       "[11,]  0.0661129613  0.356720902 -0.040183548 -0.029199811 -0.016825516\n",
       "[12,]  0.0838975543 -0.053662289 -0.223131174 -0.124936907  0.167304655\n",
       "[13,]  0.1987897225  0.122215320 -0.097578996 -0.128302093 -0.185207267\n",
       "[14,] -0.1926789373  0.204488634 -0.172045355 -0.103553112 -0.122028228\n",
       "[15,]  0.0996639368 -0.100473189 -0.040210865  0.055249672  0.202903536\n",
       "[16,]  0.0328999440  0.063467011 -0.038232713 -0.050744138  0.064328659\n",
       "[17,]  0.0969762837  0.062054057 -0.029895490 -0.146641142 -0.060761653\n",
       "[18,]  0.0759819482 -0.013267949 -0.140741075 -0.033072061  0.062948846\n",
       "[19,] -0.0896063809 -0.080367134  0.065891198 -0.155787276  0.024888158\n",
       "[20,]  0.0939940633 -0.025527813  0.004190889  0.123939460 -0.114356698\n",
       "[21,]  0.1817980694  0.039424644 -0.179561867 -0.099127738  0.223315961\n",
       "[22,]  0.1489369196  0.229134599  0.061324009 -0.096647609 -0.289528266\n",
       "[23,] -0.4802454632 -0.246348664 -0.067725310 -0.062053751  0.113514847\n",
       "[24,] -0.0349987228 -0.102003925 -0.123443503 -0.027779135 -0.057561609\n",
       "[25,]  0.1231350747 -0.095584857 -0.091673990  0.092326906  0.102277628\n",
       "[26,] -0.0334287829  0.039437025 -0.120282622 -0.190570066  0.160757732\n",
       "[27,]  0.0008593774  0.171827404 -0.010506319 -0.217217349 -0.138348890\n",
       "[28,]  0.4187336396 -0.002366331  0.268197937 -0.034990445  0.011038240\n",
       "[29,]  0.1161015515  0.012280529 -0.088240804 -0.199306975 -0.005452138\n",
       "[30,]  0.0079700555  0.097421632 -0.078650570  0.109304617 -0.156461623\n",
       "[31,]  0.2037188039 -0.023666370 -0.057944153  0.036359322  0.037446867\n",
       "[32,] -0.2046258997  0.422726783  0.355906775 -0.038496909  0.272729577\n",
       "[33,] -0.1206563181  0.012124181  0.348260796  0.295199040 -0.001983877\n",
       "[34,]  0.2211643739 -0.173328285  0.098688251  0.341770148 -0.151064735\n",
       "[35,]  0.0451579886  0.115175872 -0.182166782  0.163474976  0.078281065\n",
       "[36,]  0.1420878471  0.058251617 -0.162504390  0.036411982  0.020894002\n",
       "[37,]  0.1144897927  0.155373553  0.028424754 -0.015560357  0.367369494\n",
       "[38,] -0.0813582387  0.116205825  0.009873542 -0.001258283 -0.007723439\n",
       "[39,]  0.0227258452  0.202206648  0.120810655 -0.026040500  0.288301096\n",
       "[40,]  0.1860590063 -0.254150863  0.020632772 -0.001651862  0.334440282\n",
       "[41,] -0.0821782617  0.423139300 -0.221281834  0.271554384 -0.024705801\n",
       "[42,] -0.0092731671 -0.008846964  0.055599977 -0.022075125  0.154356081\n",
       "[43,] -0.0297432797 -0.057033058 -0.058427872 -0.264736753 -0.257579247\n",
       "             [,36]        [,37]        [,38]        [,39]       [,40]\n",
       " [1,] -0.077197154 -0.037847598 -0.077197154 -0.037847598  0.10899397\n",
       " [2,] -0.003984887  0.138176587 -0.218690370 -0.046631837 -0.01429169\n",
       " [3,]  0.208429561  0.110270483 -0.266983916  0.108678481  0.09612207\n",
       " [4,] -0.323325002 -0.003280710  0.139224000  0.071741691 -0.02127368\n",
       " [5,]  0.103067410 -0.003094463 -0.068128835  0.128366867 -0.13920713\n",
       " [6,] -0.103317284  0.077095227 -0.005669834  0.065396750  0.05895464\n",
       " [7,]  0.025143229  0.259251650 -0.142442028 -0.015714470  0.01848932\n",
       " [8,]  0.145815105  0.086796536 -0.055830904 -0.178334010  0.01696679\n",
       " [9,] -0.110867445  0.117152765  0.063306671  0.022439875  0.13508724\n",
       "[10,] -0.102360782 -0.101736910 -0.006234362 -0.021423005 -0.08622721\n",
       "[11,] -0.335663143  0.005969341 -0.013931838 -0.049124723 -0.04717114\n",
       "[12,] -0.013090553  0.148601402  0.202337909 -0.165742538  0.27443418\n",
       "[13,] -0.027340414  0.130879517  0.089294537 -0.044342020 -0.21510834\n",
       "[14,] -0.068472034  0.046993748 -0.154720318  0.052928577  0.01995085\n",
       "[15,] -0.125568998 -0.250455270 -0.096307431  0.017092200 -0.05186532\n",
       "[16,] -0.059782044  0.123468370 -0.113002626 -0.032926840 -0.08087286\n",
       "[17,] -0.081472819 -0.074215956 -0.036445882 -0.055821575  0.06359165\n",
       "[18,]  0.098935067  0.077519034 -0.154220638  0.118784173 -0.18986538\n",
       "[19,] -0.033118679 -0.056344221 -0.211319347  0.032292522 -0.01591097\n",
       "[20,] -0.129590774 -0.007097416 -0.179405476  0.153209019  0.04830879\n",
       "[21,] -0.069257651 -0.234107801  0.148183118 -0.058217433 -0.21374427\n",
       "[22,] -0.026540661  0.008192522 -0.172632860  0.045633705  0.02327184\n",
       "[23,] -0.072059895  0.081963074 -0.035071999 -0.034739788  0.08388142\n",
       "[24,] -0.226284737  0.026199387  0.116620125  0.281699124  0.09358481\n",
       "[25,]  0.043860802  0.209729600 -0.375485996 -0.221092219 -0.19754856\n",
       "[26,]  0.024671787 -0.067413031 -0.047169902 -0.085252905  0.01412688\n",
       "[27,] -0.035115621  0.027396529  0.003008388 -0.002788741 -0.06713438\n",
       "[28,] -0.251623433 -0.067495690 -0.017594469 -0.022046431  0.27526698\n",
       "[29,]  0.018535947  0.378125350  0.230308560 -0.179235835 -0.36620336\n",
       "[30,]  0.099348950 -0.207346372 -0.133641337  0.244013787 -0.03790356\n",
       "[31,] -0.027049267  0.028635110 -0.113531404  0.089993869 -0.19876981\n",
       "[32,]  0.071260469  0.052818513 -0.226006778  0.095751604 -0.08280713\n",
       "[33,] -0.115143338  0.181006509  0.161889600 -0.133179674 -0.08705953\n",
       "[34,]  0.088520634  0.436618756  0.016149791  0.120983904  0.07792144\n",
       "[35,] -0.087034828  0.328482674  0.081916626  0.261448072  0.04216425\n",
       "[36,]  0.412414766 -0.189049260  0.179375158 -0.069210849  0.18605924\n",
       "[37,] -0.093567869  0.121217593  0.299169200  0.293030586  0.03388781\n",
       "[38,]  0.347275428 -0.018096726  0.313802382 -0.155960210 -0.09461093\n",
       "[39,]  0.268108241  0.032866289  0.022898077  0.368084560  0.06273388\n",
       "[40,]  0.038299691 -0.011882573 -0.124015739 -0.063706053  0.20000498\n",
       "[41,]  0.034649161  0.139102953 -0.101741002 -0.372136658  0.43663727\n",
       "[42,] -0.146347485  0.079449831  0.003801347 -0.042531710  0.21389320\n",
       "[43,]  0.197655818  0.117132554  0.042250286  0.317391660  0.22139666\n",
       "             [,41]        [,42]        [,43]\n",
       " [1,]  0.108993970  0.108993970  0.108993970\n",
       " [2,]  0.048658791 -0.129466402  0.026662118\n",
       " [3,] -0.032667976 -0.357749518 -0.112888186\n",
       " [4,] -0.203132580 -0.015250065  0.023900038\n",
       " [5,] -0.245164510  0.234511720  0.033117493\n",
       " [6,] -0.044245064 -0.050518663 -0.074318254\n",
       " [7,]  0.072560638  0.070276368 -0.152180498\n",
       " [8,] -0.059114246 -0.167043600  0.080692274\n",
       " [9,]  0.049555505  0.022733921 -0.058988819\n",
       "[10,]  0.074135176  0.075433493 -0.199903621\n",
       "[11,]  0.248216660 -0.121037755 -0.087406484\n",
       "[12,] -0.203098726 -0.042241598 -0.062607904\n",
       "[13,]  0.124367067  0.242937324 -0.030136368\n",
       "[14,] -0.181435028 -0.044917044 -0.030483018\n",
       "[15,] -0.127275245 -0.083902628  0.299311660\n",
       "[16,]  0.189602398 -0.031227101 -0.046140900\n",
       "[17,]  0.016499244 -0.076867087  0.045899208\n",
       "[18,]  0.018105057 -0.018062653  0.030774703\n",
       "[19,] -0.014467453  0.002338232 -0.093216380\n",
       "[20,] -0.236490367  0.065916331  0.073714656\n",
       "[21,]  0.120953610 -0.006027145  0.072330324\n",
       "[22,] -0.028520238  0.061177815 -0.035405895\n",
       "[23,]  0.065849777 -0.054423586 -0.154867834\n",
       "[24,]  0.198422504 -0.543529251  0.159061470\n",
       "[25,] -0.012151204 -0.104341811  0.084027925\n",
       "[26,] -0.392264240  0.141508018 -0.074289236\n",
       "[27,] -0.024440695  0.167033190 -0.326441987\n",
       "[28,] -0.286603433 -0.109888562 -0.158049848\n",
       "[29,]  0.051335890 -0.042028816  0.132215503\n",
       "[30,]  0.215478696 -0.067971523  0.020653639\n",
       "[31,] -0.041697882  0.044267082 -0.028112200\n",
       "[32,] -0.037606988  0.019808219  0.049420917\n",
       "[33,]  0.170261197 -0.002840382 -0.111018779\n",
       "[34,] -0.135365923 -0.079789062 -0.112907106\n",
       "[35,] -0.083428414  0.048713152 -0.038084038\n",
       "[36,]  0.127669073 -0.079164789 -0.442055094\n",
       "[37,]  0.005665592  0.093078508  0.054542813\n",
       "[38,] -0.217596854 -0.217312465  0.254985741\n",
       "[39,]  0.116689882 -0.026437825 -0.112432536\n",
       "[40,]  0.309261448  0.269529737  0.114095057\n",
       "[41,]  0.119104047  0.022874897  0.272620003\n",
       "[42,]  0.098552686  0.227542982  0.003799618\n",
       "[43,]  0.072648957  0.268581047  0.401391551\n",
       "\n",
       "Translation of averages:\n",
       "            [,1]        [,2]         [,3]         [,4]          [,5]\n",
       "[1,] 3.57558e-18 2.74637e-18 4.148144e-18 2.309217e-18 -4.540344e-19\n",
       "              [,6]         [,7]          [,8]          [,9]         [,10]\n",
       "[1,] -2.852519e-18 -1.88801e-18 -3.724956e-18 -8.442234e-19 -2.733563e-19\n",
       "             [,11]         [,12]        [,13]         [,14]         [,15]\n",
       "[1,] -1.743272e-18 -1.491445e-18 4.332408e-18 -5.148944e-18 -1.167204e-18\n",
       "             [,16]        [,17]         [,18]        [,19]         [,20]\n",
       "[1,] -7.532461e-18 1.081594e-18 -3.551809e-18 1.181948e-18 -1.439315e-18\n",
       "            [,21]         [,22]        [,23]        [,24]         [,25]\n",
       "[1,] 3.819492e-19 -6.654416e-19 1.680275e-18 1.550362e-18 -1.202112e-18\n",
       "             [,26]         [,27]        [,28]        [,29]       [,30]\n",
       "[1,] -3.139855e-18 -1.797642e-18 2.922824e-18 8.826312e-19 4.85996e-19\n",
       "           [,31]        [,32]        [,33]         [,34]        [,35]\n",
       "[1,] 3.35475e-18 -2.24238e-18 9.459083e-19 -9.701029e-19 8.458455e-19\n",
       "             [,36]         [,37]         [,38]       [,39]        [,40]\n",
       "[1,] -2.302392e-18 -6.307171e-19 -7.559092e-19 1.99221e-18 7.072423e-19\n",
       "             [,41]         [,42]         [,43]\n",
       "[1,] -3.493416e-20 -9.379892e-19 -1.505804e-18\n",
       "\n",
       "Scaling of target:\n",
       "[1] 0.4092634\n",
       "\n"
      ]
     },
     "metadata": {},
     "output_type": "display_data"
    }
   ],
   "source": [
    "%%R\n",
    "p1 = protest(Phydist, Udist, scores = \"sites\", permutations = 999)\n",
    "summary(p1)"
   ]
  },
  {
   "cell_type": "markdown",
   "metadata": {},
   "source": [
    "# Maize distance analysis"
   ]
  },
  {
   "cell_type": "code",
   "execution_count": 65,
   "metadata": {
    "collapsed": false,
    "scrolled": false
   },
   "outputs": [
    {
     "data": {
      "text/plain": [
       "            B73       B97       H99     Hp301     Il14H       Ki3      Mo18\n",
       "B73   0.0000000 0.1285456 0.1306701 0.1357241 0.1412994 0.1413460 0.1409265\n",
       "B97   0.1285456 0.0000000 0.1323307 0.1407961 0.1441898 0.1431876 0.1448244\n",
       "H99   0.1306701 0.1323307 0.0000000 0.1396393 0.1435944 0.1430394 0.1433084\n",
       "Hp301 0.1357241 0.1407961 0.1396393 0.0000000 0.1391905 0.1483772 0.1471428\n",
       "Il14H 0.1412994 0.1441898 0.1435944 0.1391905 0.0000000 0.1587129 0.1567080\n",
       "Ki3   0.1413460 0.1431876 0.1430394 0.1483772 0.1587129 0.0000000 0.1370860\n",
       "Mo18  0.1409265 0.1448244 0.1433084 0.1471428 0.1567080 0.1370860 0.0000000\n",
       "MS71  0.1259195 0.1237505 0.1328223 0.1395875 0.1439733 0.1435773 0.1439563\n",
       "Oh7B  0.1264251 0.1275299 0.1329044 0.1408226 0.1452553 0.1427124 0.1421373\n",
       "Tx303 0.1351212 0.1384145 0.1392861 0.1423267 0.1511486 0.1375954 0.1355506\n",
       "           MS71      Oh7B     Tx303\n",
       "B73   0.1259195 0.1264251 0.1351212\n",
       "B97   0.1237505 0.1275299 0.1384145\n",
       "H99   0.1328223 0.1329044 0.1392861\n",
       "Hp301 0.1395875 0.1408226 0.1423267\n",
       "Il14H 0.1439733 0.1452553 0.1511486\n",
       "Ki3   0.1435773 0.1427124 0.1375954\n",
       "Mo18  0.1439563 0.1421373 0.1355506\n",
       "MS71  0.0000000 0.1287556 0.1398299\n",
       "Oh7B  0.1287556 0.0000000 0.1376617\n",
       "Tx303 0.1398299 0.1376617 0.0000000\n"
      ]
     },
     "metadata": {},
     "output_type": "display_data"
    }
   ],
   "source": [
    "%%R\n",
    "##import distance matrix from Alberto above\n",
    "NAMdist\n"
   ]
  },
  {
   "cell_type": "code",
   "execution_count": 66,
   "metadata": {
    "collapsed": false
   },
   "outputs": [
    {
     "data": {
      "image/png": "[encoded data removed]"
     },
     "metadata": {},
     "output_type": "display_data"
    }
   ],
   "source": [
    "%%R\n",
    "NAM_hc = hclust(as.dist(NAMdist), \"average\")\n",
    "plot(NAM_hc)"
   ]
  },
  {
   "cell_type": "code",
   "execution_count": 67,
   "metadata": {
    "collapsed": false
   },
   "outputs": [
    {
     "data": {
      "text/plain": [
       "              PlotA             PlotB w_Unif_Dist PlantA PlantB   PlantComp\n",
       "1 sample4-4.27_Nneg sample4-4.27_Nneg   0.0000000   BARE   BARE   BARE-BARE\n",
       "2 sample4-1.06_Nneg sample4-4.27_Nneg   0.1105126   BARE   BARE   BARE-BARE\n",
       "3 sample2-1.06_Nneg sample4-4.27_Nneg   0.1157535   BARE   BARE   BARE-BARE\n",
       "4 sample6-3.07_Nneg sample4-4.27_Nneg   0.1021802   BARE   BARE   BARE-BARE\n",
       "5 sample5-3.07_Nneg sample4-4.27_Nneg   0.1295857   BARE   BARE   BARE-BARE\n",
       "6 sample5-1.22_Nneg sample4-4.27_Nneg   0.2375299 75-062   BARE 75-062-BARE\n",
       "  gene_Dist\n",
       "1        NA\n",
       "2        NA\n",
       "3        NA\n",
       "4        NA\n",
       "5        NA\n",
       "6        NA\n"
      ]
     },
     "metadata": {},
     "output_type": "display_data"
    }
   ],
   "source": [
    "%%R\n",
    "#Use melt to join genetic distance matrix with unifrac distance\n",
    "#head(ud.m) ##Use formated unifrac distance from above\n",
    "#melt \n",
    "NAM.m = melt(as.matrix(NAMdist))\n",
    "\n",
    "#set column names and create comparison column\n",
    "colnames(NAM.m) = c(\"PlantA\", \"PlantB\", \"gene_Dist\")\n",
    "\n",
    "NAM.m$PlantComp = paste(NAM.m$PlantA, NAM.m$PlantB, sep = \"-\")\n",
    "NAM.m %>% head\n",
    "\n",
    "#Join with unifrac DistanceMatrix\n",
    "Dist = left_join(ud.m, NAM.m[,c(3,4)], by = \"PlantComp\")\n",
    "head(Dist)"
   ]
  },
  {
   "cell_type": "code",
   "execution_count": 68,
   "metadata": {
    "collapsed": false,
    "scrolled": true
   },
   "outputs": [
    {
     "data": {
      "text/plain": [
       "[1] 14161     7\n",
       "[1] 14042     7\n"
      ]
     },
     "metadata": {},
     "output_type": "display_data"
    },
    {
     "data": {
      "image/png": "[encoded data removed]"
     },
     "metadata": {},
     "output_type": "display_data"
    }
   ],
   "source": [
    "%%R\n",
    "dim(Dist) %>% print\n",
    "D.s = filter(Dist, PlotA != PlotB)\n",
    "\n",
    "dim(D.s) %>% print\n",
    "plot(w_Unif_Dist~gene_Dist, data = D.s)\n",
    "m = lm(w_Unif_Dist~gene_Dist, data = D.s)\n",
    "abline(m)"
   ]
  },
  {
   "cell_type": "code",
   "execution_count": 69,
   "metadata": {
    "collapsed": false
   },
   "outputs": [
    {
     "data": {
      "text/plain": [
       "              PlotA             PlotB w_Unif_Dist PlantA PlantB   PlantComp\n",
       "1 sample4-4.27_Nneg sample4-4.27_Nneg   0.0000000   BARE   BARE   BARE-BARE\n",
       "2 sample4-1.06_Nneg sample4-4.27_Nneg   0.1105126   BARE   BARE   BARE-BARE\n",
       "3 sample2-1.06_Nneg sample4-4.27_Nneg   0.1157535   BARE   BARE   BARE-BARE\n",
       "4 sample6-3.07_Nneg sample4-4.27_Nneg   0.1021802   BARE   BARE   BARE-BARE\n",
       "5 sample5-3.07_Nneg sample4-4.27_Nneg   0.1295857   BARE   BARE   BARE-BARE\n",
       "6 sample5-1.22_Nneg sample4-4.27_Nneg   0.2375299 75-062   BARE 75-062-BARE\n",
       "  gene_Dist\n",
       "1        NA\n",
       "2        NA\n",
       "3        NA\n",
       "4        NA\n",
       "5        NA\n",
       "6        NA\n"
      ]
     },
     "metadata": {},
     "output_type": "display_data"
    }
   ],
   "source": [
    "%%R\n",
    "head(Dist)"
   ]
  },
  {
   "cell_type": "code",
   "execution_count": 70,
   "metadata": {
    "collapsed": false,
    "scrolled": true
   },
   "outputs": [
    {
     "data": {
      "text/plain": [
       "                  sample5-1.16_Nneg sample5-1.17_Nneg sample5-1.25_Nneg\n",
       "sample5-1.16_Nneg         0.0000000         0.1328223         0.1435944\n",
       "sample5-1.17_Nneg         0.1328223         0.0000000         0.1439733\n",
       "sample5-1.25_Nneg         0.1435944         0.1439733         0.0000000\n",
       "sample5-2.06_Nneg         0.1328223         0.0000000         0.1439733\n",
       "sample5-2.11_Nneg         0.0000000         0.1328223         0.1435944\n",
       "sample5-2.15_Nneg         0.1435944         0.1439733         0.0000000\n",
       "sample5-3.13_Nneg         0.1328223         0.0000000         0.1439733\n",
       "sample5-3.16_Nneg         0.0000000         0.1328223         0.1435944\n",
       "sample5-3.17_Nneg         0.1435944         0.1439733         0.0000000\n",
       "sample5-4.05_Nneg         0.0000000         0.1328223         0.1435944\n",
       "sample5-4.08_Nneg         0.1328223         0.0000000         0.1439733\n",
       "sample5-4.09_Nneg         0.1435944         0.1439733         0.0000000\n",
       "sample6-1.07_Nneg         0.1329044         0.1287556         0.1452553\n",
       "sample6-1.12_Nneg         0.1306701         0.1259195         0.1412994\n",
       "sample6-1.15_Nneg         0.1323307         0.1237505         0.1441898\n",
       "sample6-1.18_Nneg         0.1396393         0.1395875         0.1391905\n",
       "sample6-2.13_Nneg         0.1329044         0.1287556         0.1452553\n",
       "sample6-2.14_Nneg         0.1396393         0.1395875         0.1391905\n",
       "sample6-2.16_Nneg         0.1323307         0.1237505         0.1441898\n",
       "sample6-2.26_Nneg         0.1306701         0.1259195         0.1412994\n",
       "sample6-3.01_Nneg         0.1323307         0.1237505         0.1441898\n",
       "sample6-3.04_Nneg         0.1329044         0.1287556         0.1452553\n",
       "sample6-3.09_Nneg         0.1396393         0.1395875         0.1391905\n",
       "sample6-3.18_Nneg         0.1306701         0.1259195         0.1412994\n",
       "sample6-4.12_Nneg         0.1329044         0.1287556         0.1452553\n",
       "sample6-4.13_Nneg         0.1396393         0.1395875         0.1391905\n",
       "sample6-4.17_Nneg         0.1323307         0.1237505         0.1441898\n",
       "sample6-4.30_Nneg         0.1306701         0.1259195         0.1412994\n",
       "sample8-1.10_Nneg         0.1433084         0.1439563         0.1567080\n",
       "sample8-1.14_Nneg         0.1392861         0.1398299         0.1511486\n",
       "sample8-1.23_Nneg         0.1430394         0.1435773         0.1587129\n",
       "sample8-2.17_Nneg         0.1433084         0.1439563         0.1567080\n",
       "sample8-2.22_Nneg         0.1392861         0.1398299         0.1511486\n",
       "sample8-2.25_Nneg         0.1430394         0.1435773         0.1587129\n",
       "sample8-3.23_Nneg         0.1433084         0.1439563         0.1567080\n",
       "sample8-3.28_Nneg         0.1392861         0.1398299         0.1511486\n",
       "sample8-3.29_Nneg         0.1430394         0.1435773         0.1587129\n",
       "sample8-4.04_Nneg         0.1433084         0.1439563         0.1567080\n",
       "sample8-4.07_Nneg         0.1392861         0.1398299         0.1511486\n",
       "sample8-4.23_Nneg         0.1430394         0.1435773         0.1587129\n",
       "                  sample5-2.06_Nneg sample5-2.11_Nneg sample5-2.15_Nneg\n",
       "sample5-1.16_Nneg         0.1328223         0.0000000         0.1435944\n",
       "sample5-1.17_Nneg         0.0000000         0.1328223         0.1439733\n",
       "sample5-1.25_Nneg         0.1439733         0.1435944         0.0000000\n",
       "sample5-2.06_Nneg         0.0000000         0.1328223         0.1439733\n",
       "sample5-2.11_Nneg         0.1328223         0.0000000         0.1435944\n",
       "sample5-2.15_Nneg         0.1439733         0.1435944         0.0000000\n",
       "sample5-3.13_Nneg         0.0000000         0.1328223         0.1439733\n",
       "sample5-3.16_Nneg         0.1328223         0.0000000         0.1435944\n",
       "sample5-3.17_Nneg         0.1439733         0.1435944         0.0000000\n",
       "sample5-4.05_Nneg         0.1328223         0.0000000         0.1435944\n",
       "sample5-4.08_Nneg         0.0000000         0.1328223         0.1439733\n",
       "sample5-4.09_Nneg         0.1439733         0.1435944         0.0000000\n",
       "sample6-1.07_Nneg         0.1287556         0.1329044         0.1452553\n",
       "sample6-1.12_Nneg         0.1259195         0.1306701         0.1412994\n",
       "sample6-1.15_Nneg         0.1237505         0.1323307         0.1441898\n",
       "sample6-1.18_Nneg         0.1395875         0.1396393         0.1391905\n",
       "sample6-2.13_Nneg         0.1287556         0.1329044         0.1452553\n",
       "sample6-2.14_Nneg         0.1395875         0.1396393         0.1391905\n",
       "sample6-2.16_Nneg         0.1237505         0.1323307         0.1441898\n",
       "sample6-2.26_Nneg         0.1259195         0.1306701         0.1412994\n",
       "sample6-3.01_Nneg         0.1237505         0.1323307         0.1441898\n",
       "sample6-3.04_Nneg         0.1287556         0.1329044         0.1452553\n",
       "sample6-3.09_Nneg         0.1395875         0.1396393         0.1391905\n",
       "sample6-3.18_Nneg         0.1259195         0.1306701         0.1412994\n",
       "sample6-4.12_Nneg         0.1287556         0.1329044         0.1452553\n",
       "sample6-4.13_Nneg         0.1395875         0.1396393         0.1391905\n",
       "sample6-4.17_Nneg         0.1237505         0.1323307         0.1441898\n",
       "sample6-4.30_Nneg         0.1259195         0.1306701         0.1412994\n",
       "sample8-1.10_Nneg         0.1439563         0.1433084         0.1567080\n",
       "sample8-1.14_Nneg         0.1398299         0.1392861         0.1511486\n",
       "sample8-1.23_Nneg         0.1435773         0.1430394         0.1587129\n",
       "sample8-2.17_Nneg         0.1439563         0.1433084         0.1567080\n",
       "sample8-2.22_Nneg         0.1398299         0.1392861         0.1511486\n",
       "sample8-2.25_Nneg         0.1435773         0.1430394         0.1587129\n",
       "sample8-3.23_Nneg         0.1439563         0.1433084         0.1567080\n",
       "sample8-3.28_Nneg         0.1398299         0.1392861         0.1511486\n",
       "sample8-3.29_Nneg         0.1435773         0.1430394         0.1587129\n",
       "sample8-4.04_Nneg         0.1439563         0.1433084         0.1567080\n",
       "sample8-4.07_Nneg         0.1398299         0.1392861         0.1511486\n",
       "sample8-4.23_Nneg         0.1435773         0.1430394         0.1587129\n",
       "                  sample5-3.13_Nneg sample5-3.16_Nneg sample5-3.17_Nneg\n",
       "sample5-1.16_Nneg         0.1328223         0.0000000         0.1435944\n",
       "sample5-1.17_Nneg         0.0000000         0.1328223         0.1439733\n",
       "sample5-1.25_Nneg         0.1439733         0.1435944         0.0000000\n",
       "sample5-2.06_Nneg         0.0000000         0.1328223         0.1439733\n",
       "sample5-2.11_Nneg         0.1328223         0.0000000         0.1435944\n",
       "sample5-2.15_Nneg         0.1439733         0.1435944         0.0000000\n",
       "sample5-3.13_Nneg         0.0000000         0.1328223         0.1439733\n",
       "sample5-3.16_Nneg         0.1328223         0.0000000         0.1435944\n",
       "sample5-3.17_Nneg         0.1439733         0.1435944         0.0000000\n",
       "sample5-4.05_Nneg         0.1328223         0.0000000         0.1435944\n",
       "sample5-4.08_Nneg         0.0000000         0.1328223         0.1439733\n",
       "sample5-4.09_Nneg         0.1439733         0.1435944         0.0000000\n",
       "sample6-1.07_Nneg         0.1287556         0.1329044         0.1452553\n",
       "sample6-1.12_Nneg         0.1259195         0.1306701         0.1412994\n",
       "sample6-1.15_Nneg         0.1237505         0.1323307         0.1441898\n",
       "sample6-1.18_Nneg         0.1395875         0.1396393         0.1391905\n",
       "sample6-2.13_Nneg         0.1287556         0.1329044         0.1452553\n",
       "sample6-2.14_Nneg         0.1395875         0.1396393         0.1391905\n",
       "sample6-2.16_Nneg         0.1237505         0.1323307         0.1441898\n",
       "sample6-2.26_Nneg         0.1259195         0.1306701         0.1412994\n",
       "sample6-3.01_Nneg         0.1237505         0.1323307         0.1441898\n",
       "sample6-3.04_Nneg         0.1287556         0.1329044         0.1452553\n",
       "sample6-3.09_Nneg         0.1395875         0.1396393         0.1391905\n",
       "sample6-3.18_Nneg         0.1259195         0.1306701         0.1412994\n",
       "sample6-4.12_Nneg         0.1287556         0.1329044         0.1452553\n",
       "sample6-4.13_Nneg         0.1395875         0.1396393         0.1391905\n",
       "sample6-4.17_Nneg         0.1237505         0.1323307         0.1441898\n",
       "sample6-4.30_Nneg         0.1259195         0.1306701         0.1412994\n",
       "sample8-1.10_Nneg         0.1439563         0.1433084         0.1567080\n",
       "sample8-1.14_Nneg         0.1398299         0.1392861         0.1511486\n",
       "sample8-1.23_Nneg         0.1435773         0.1430394         0.1587129\n",
       "sample8-2.17_Nneg         0.1439563         0.1433084         0.1567080\n",
       "sample8-2.22_Nneg         0.1398299         0.1392861         0.1511486\n",
       "sample8-2.25_Nneg         0.1435773         0.1430394         0.1587129\n",
       "sample8-3.23_Nneg         0.1439563         0.1433084         0.1567080\n",
       "sample8-3.28_Nneg         0.1398299         0.1392861         0.1511486\n",
       "sample8-3.29_Nneg         0.1435773         0.1430394         0.1587129\n",
       "sample8-4.04_Nneg         0.1439563         0.1433084         0.1567080\n",
       "sample8-4.07_Nneg         0.1398299         0.1392861         0.1511486\n",
       "sample8-4.23_Nneg         0.1435773         0.1430394         0.1587129\n",
       "                  sample5-4.05_Nneg sample5-4.08_Nneg sample5-4.09_Nneg\n",
       "sample5-1.16_Nneg         0.0000000         0.1328223         0.1435944\n",
       "sample5-1.17_Nneg         0.1328223         0.0000000         0.1439733\n",
       "sample5-1.25_Nneg         0.1435944         0.1439733         0.0000000\n",
       "sample5-2.06_Nneg         0.1328223         0.0000000         0.1439733\n",
       "sample5-2.11_Nneg         0.0000000         0.1328223         0.1435944\n",
       "sample5-2.15_Nneg         0.1435944         0.1439733         0.0000000\n",
       "sample5-3.13_Nneg         0.1328223         0.0000000         0.1439733\n",
       "sample5-3.16_Nneg         0.0000000         0.1328223         0.1435944\n",
       "sample5-3.17_Nneg         0.1435944         0.1439733         0.0000000\n",
       "sample5-4.05_Nneg         0.0000000         0.1328223         0.1435944\n",
       "sample5-4.08_Nneg         0.1328223         0.0000000         0.1439733\n",
       "sample5-4.09_Nneg         0.1435944         0.1439733         0.0000000\n",
       "sample6-1.07_Nneg         0.1329044         0.1287556         0.1452553\n",
       "sample6-1.12_Nneg         0.1306701         0.1259195         0.1412994\n",
       "sample6-1.15_Nneg         0.1323307         0.1237505         0.1441898\n",
       "sample6-1.18_Nneg         0.1396393         0.1395875         0.1391905\n",
       "sample6-2.13_Nneg         0.1329044         0.1287556         0.1452553\n",
       "sample6-2.14_Nneg         0.1396393         0.1395875         0.1391905\n",
       "sample6-2.16_Nneg         0.1323307         0.1237505         0.1441898\n",
       "sample6-2.26_Nneg         0.1306701         0.1259195         0.1412994\n",
       "sample6-3.01_Nneg         0.1323307         0.1237505         0.1441898\n",
       "sample6-3.04_Nneg         0.1329044         0.1287556         0.1452553\n",
       "sample6-3.09_Nneg         0.1396393         0.1395875         0.1391905\n",
       "sample6-3.18_Nneg         0.1306701         0.1259195         0.1412994\n",
       "sample6-4.12_Nneg         0.1329044         0.1287556         0.1452553\n",
       "sample6-4.13_Nneg         0.1396393         0.1395875         0.1391905\n",
       "sample6-4.17_Nneg         0.1323307         0.1237505         0.1441898\n",
       "sample6-4.30_Nneg         0.1306701         0.1259195         0.1412994\n",
       "sample8-1.10_Nneg         0.1433084         0.1439563         0.1567080\n",
       "sample8-1.14_Nneg         0.1392861         0.1398299         0.1511486\n",
       "sample8-1.23_Nneg         0.1430394         0.1435773         0.1587129\n",
       "sample8-2.17_Nneg         0.1433084         0.1439563         0.1567080\n",
       "sample8-2.22_Nneg         0.1392861         0.1398299         0.1511486\n",
       "sample8-2.25_Nneg         0.1430394         0.1435773         0.1587129\n",
       "sample8-3.23_Nneg         0.1433084         0.1439563         0.1567080\n",
       "sample8-3.28_Nneg         0.1392861         0.1398299         0.1511486\n",
       "sample8-3.29_Nneg         0.1430394         0.1435773         0.1587129\n",
       "sample8-4.04_Nneg         0.1433084         0.1439563         0.1567080\n",
       "sample8-4.07_Nneg         0.1392861         0.1398299         0.1511486\n",
       "sample8-4.23_Nneg         0.1430394         0.1435773         0.1587129\n",
       "                  sample6-1.07_Nneg sample6-1.12_Nneg sample6-1.15_Nneg\n",
       "sample5-1.16_Nneg         0.1329044         0.1306701         0.1323307\n",
       "sample5-1.17_Nneg         0.1287556         0.1259195         0.1237505\n",
       "sample5-1.25_Nneg         0.1452553         0.1412994         0.1441898\n",
       "sample5-2.06_Nneg         0.1287556         0.1259195         0.1237505\n",
       "sample5-2.11_Nneg         0.1329044         0.1306701         0.1323307\n",
       "sample5-2.15_Nneg         0.1452553         0.1412994         0.1441898\n",
       "sample5-3.13_Nneg         0.1287556         0.1259195         0.1237505\n",
       "sample5-3.16_Nneg         0.1329044         0.1306701         0.1323307\n",
       "sample5-3.17_Nneg         0.1452553         0.1412994         0.1441898\n",
       "sample5-4.05_Nneg         0.1329044         0.1306701         0.1323307\n",
       "sample5-4.08_Nneg         0.1287556         0.1259195         0.1237505\n",
       "sample5-4.09_Nneg         0.1452553         0.1412994         0.1441898\n",
       "sample6-1.07_Nneg         0.0000000         0.1264251         0.1275299\n",
       "sample6-1.12_Nneg         0.1264251         0.0000000         0.1285456\n",
       "sample6-1.15_Nneg         0.1275299         0.1285456         0.0000000\n",
       "sample6-1.18_Nneg         0.1408226         0.1357241         0.1407961\n",
       "sample6-2.13_Nneg         0.0000000         0.1264251         0.1275299\n",
       "sample6-2.14_Nneg         0.1408226         0.1357241         0.1407961\n",
       "sample6-2.16_Nneg         0.1275299         0.1285456         0.0000000\n",
       "sample6-2.26_Nneg         0.1264251         0.0000000         0.1285456\n",
       "sample6-3.01_Nneg         0.1275299         0.1285456         0.0000000\n",
       "sample6-3.04_Nneg         0.0000000         0.1264251         0.1275299\n",
       "sample6-3.09_Nneg         0.1408226         0.1357241         0.1407961\n",
       "sample6-3.18_Nneg         0.1264251         0.0000000         0.1285456\n",
       "sample6-4.12_Nneg         0.0000000         0.1264251         0.1275299\n",
       "sample6-4.13_Nneg         0.1408226         0.1357241         0.1407961\n",
       "sample6-4.17_Nneg         0.1275299         0.1285456         0.0000000\n",
       "sample6-4.30_Nneg         0.1264251         0.0000000         0.1285456\n",
       "sample8-1.10_Nneg         0.1421373         0.1409265         0.1448244\n",
       "sample8-1.14_Nneg         0.1376617         0.1351212         0.1384145\n",
       "sample8-1.23_Nneg         0.1427124         0.1413460         0.1431876\n",
       "sample8-2.17_Nneg         0.1421373         0.1409265         0.1448244\n",
       "sample8-2.22_Nneg         0.1376617         0.1351212         0.1384145\n",
       "sample8-2.25_Nneg         0.1427124         0.1413460         0.1431876\n",
       "sample8-3.23_Nneg         0.1421373         0.1409265         0.1448244\n",
       "sample8-3.28_Nneg         0.1376617         0.1351212         0.1384145\n",
       "sample8-3.29_Nneg         0.1427124         0.1413460         0.1431876\n",
       "sample8-4.04_Nneg         0.1421373         0.1409265         0.1448244\n",
       "sample8-4.07_Nneg         0.1376617         0.1351212         0.1384145\n",
       "sample8-4.23_Nneg         0.1427124         0.1413460         0.1431876\n",
       "                  sample6-1.18_Nneg sample6-2.13_Nneg sample6-2.14_Nneg\n",
       "sample5-1.16_Nneg         0.1396393         0.1329044         0.1396393\n",
       "sample5-1.17_Nneg         0.1395875         0.1287556         0.1395875\n",
       "sample5-1.25_Nneg         0.1391905         0.1452553         0.1391905\n",
       "sample5-2.06_Nneg         0.1395875         0.1287556         0.1395875\n",
       "sample5-2.11_Nneg         0.1396393         0.1329044         0.1396393\n",
       "sample5-2.15_Nneg         0.1391905         0.1452553         0.1391905\n",
       "sample5-3.13_Nneg         0.1395875         0.1287556         0.1395875\n",
       "sample5-3.16_Nneg         0.1396393         0.1329044         0.1396393\n",
       "sample5-3.17_Nneg         0.1391905         0.1452553         0.1391905\n",
       "sample5-4.05_Nneg         0.1396393         0.1329044         0.1396393\n",
       "sample5-4.08_Nneg         0.1395875         0.1287556         0.1395875\n",
       "sample5-4.09_Nneg         0.1391905         0.1452553         0.1391905\n",
       "sample6-1.07_Nneg         0.1408226         0.0000000         0.1408226\n",
       "sample6-1.12_Nneg         0.1357241         0.1264251         0.1357241\n",
       "sample6-1.15_Nneg         0.1407961         0.1275299         0.1407961\n",
       "sample6-1.18_Nneg         0.0000000         0.1408226         0.0000000\n",
       "sample6-2.13_Nneg         0.1408226         0.0000000         0.1408226\n",
       "sample6-2.14_Nneg         0.0000000         0.1408226         0.0000000\n",
       "sample6-2.16_Nneg         0.1407961         0.1275299         0.1407961\n",
       "sample6-2.26_Nneg         0.1357241         0.1264251         0.1357241\n",
       "sample6-3.01_Nneg         0.1407961         0.1275299         0.1407961\n",
       "sample6-3.04_Nneg         0.1408226         0.0000000         0.1408226\n",
       "sample6-3.09_Nneg         0.0000000         0.1408226         0.0000000\n",
       "sample6-3.18_Nneg         0.1357241         0.1264251         0.1357241\n",
       "sample6-4.12_Nneg         0.1408226         0.0000000         0.1408226\n",
       "sample6-4.13_Nneg         0.0000000         0.1408226         0.0000000\n",
       "sample6-4.17_Nneg         0.1407961         0.1275299         0.1407961\n",
       "sample6-4.30_Nneg         0.1357241         0.1264251         0.1357241\n",
       "sample8-1.10_Nneg         0.1471428         0.1421373         0.1471428\n",
       "sample8-1.14_Nneg         0.1423267         0.1376617         0.1423267\n",
       "sample8-1.23_Nneg         0.1483772         0.1427124         0.1483772\n",
       "sample8-2.17_Nneg         0.1471428         0.1421373         0.1471428\n",
       "sample8-2.22_Nneg         0.1423267         0.1376617         0.1423267\n",
       "sample8-2.25_Nneg         0.1483772         0.1427124         0.1483772\n",
       "sample8-3.23_Nneg         0.1471428         0.1421373         0.1471428\n",
       "sample8-3.28_Nneg         0.1423267         0.1376617         0.1423267\n",
       "sample8-3.29_Nneg         0.1483772         0.1427124         0.1483772\n",
       "sample8-4.04_Nneg         0.1471428         0.1421373         0.1471428\n",
       "sample8-4.07_Nneg         0.1423267         0.1376617         0.1423267\n",
       "sample8-4.23_Nneg         0.1483772         0.1427124         0.1483772\n",
       "                  sample6-2.16_Nneg sample6-2.26_Nneg sample6-3.01_Nneg\n",
       "sample5-1.16_Nneg         0.1323307         0.1306701         0.1323307\n",
       "sample5-1.17_Nneg         0.1237505         0.1259195         0.1237505\n",
       "sample5-1.25_Nneg         0.1441898         0.1412994         0.1441898\n",
       "sample5-2.06_Nneg         0.1237505         0.1259195         0.1237505\n",
       "sample5-2.11_Nneg         0.1323307         0.1306701         0.1323307\n",
       "sample5-2.15_Nneg         0.1441898         0.1412994         0.1441898\n",
       "sample5-3.13_Nneg         0.1237505         0.1259195         0.1237505\n",
       "sample5-3.16_Nneg         0.1323307         0.1306701         0.1323307\n",
       "sample5-3.17_Nneg         0.1441898         0.1412994         0.1441898\n",
       "sample5-4.05_Nneg         0.1323307         0.1306701         0.1323307\n",
       "sample5-4.08_Nneg         0.1237505         0.1259195         0.1237505\n",
       "sample5-4.09_Nneg         0.1441898         0.1412994         0.1441898\n",
       "sample6-1.07_Nneg         0.1275299         0.1264251         0.1275299\n",
       "sample6-1.12_Nneg         0.1285456         0.0000000         0.1285456\n",
       "sample6-1.15_Nneg         0.0000000         0.1285456         0.0000000\n",
       "sample6-1.18_Nneg         0.1407961         0.1357241         0.1407961\n",
       "sample6-2.13_Nneg         0.1275299         0.1264251         0.1275299\n",
       "sample6-2.14_Nneg         0.1407961         0.1357241         0.1407961\n",
       "sample6-2.16_Nneg         0.0000000         0.1285456         0.0000000\n",
       "sample6-2.26_Nneg         0.1285456         0.0000000         0.1285456\n",
       "sample6-3.01_Nneg         0.0000000         0.1285456         0.0000000\n",
       "sample6-3.04_Nneg         0.1275299         0.1264251         0.1275299\n",
       "sample6-3.09_Nneg         0.1407961         0.1357241         0.1407961\n",
       "sample6-3.18_Nneg         0.1285456         0.0000000         0.1285456\n",
       "sample6-4.12_Nneg         0.1275299         0.1264251         0.1275299\n",
       "sample6-4.13_Nneg         0.1407961         0.1357241         0.1407961\n",
       "sample6-4.17_Nneg         0.0000000         0.1285456         0.0000000\n",
       "sample6-4.30_Nneg         0.1285456         0.0000000         0.1285456\n",
       "sample8-1.10_Nneg         0.1448244         0.1409265         0.1448244\n",
       "sample8-1.14_Nneg         0.1384145         0.1351212         0.1384145\n",
       "sample8-1.23_Nneg         0.1431876         0.1413460         0.1431876\n",
       "sample8-2.17_Nneg         0.1448244         0.1409265         0.1448244\n",
       "sample8-2.22_Nneg         0.1384145         0.1351212         0.1384145\n",
       "sample8-2.25_Nneg         0.1431876         0.1413460         0.1431876\n",
       "sample8-3.23_Nneg         0.1448244         0.1409265         0.1448244\n",
       "sample8-3.28_Nneg         0.1384145         0.1351212         0.1384145\n",
       "sample8-3.29_Nneg         0.1431876         0.1413460         0.1431876\n",
       "sample8-4.04_Nneg         0.1448244         0.1409265         0.1448244\n",
       "sample8-4.07_Nneg         0.1384145         0.1351212         0.1384145\n",
       "sample8-4.23_Nneg         0.1431876         0.1413460         0.1431876\n",
       "                  sample6-3.04_Nneg sample6-3.09_Nneg sample6-3.18_Nneg\n",
       "sample5-1.16_Nneg         0.1329044         0.1396393         0.1306701\n",
       "sample5-1.17_Nneg         0.1287556         0.1395875         0.1259195\n",
       "sample5-1.25_Nneg         0.1452553         0.1391905         0.1412994\n",
       "sample5-2.06_Nneg         0.1287556         0.1395875         0.1259195\n",
       "sample5-2.11_Nneg         0.1329044         0.1396393         0.1306701\n",
       "sample5-2.15_Nneg         0.1452553         0.1391905         0.1412994\n",
       "sample5-3.13_Nneg         0.1287556         0.1395875         0.1259195\n",
       "sample5-3.16_Nneg         0.1329044         0.1396393         0.1306701\n",
       "sample5-3.17_Nneg         0.1452553         0.1391905         0.1412994\n",
       "sample5-4.05_Nneg         0.1329044         0.1396393         0.1306701\n",
       "sample5-4.08_Nneg         0.1287556         0.1395875         0.1259195\n",
       "sample5-4.09_Nneg         0.1452553         0.1391905         0.1412994\n",
       "sample6-1.07_Nneg         0.0000000         0.1408226         0.1264251\n",
       "sample6-1.12_Nneg         0.1264251         0.1357241         0.0000000\n",
       "sample6-1.15_Nneg         0.1275299         0.1407961         0.1285456\n",
       "sample6-1.18_Nneg         0.1408226         0.0000000         0.1357241\n",
       "sample6-2.13_Nneg         0.0000000         0.1408226         0.1264251\n",
       "sample6-2.14_Nneg         0.1408226         0.0000000         0.1357241\n",
       "sample6-2.16_Nneg         0.1275299         0.1407961         0.1285456\n",
       "sample6-2.26_Nneg         0.1264251         0.1357241         0.0000000\n",
       "sample6-3.01_Nneg         0.1275299         0.1407961         0.1285456\n",
       "sample6-3.04_Nneg         0.0000000         0.1408226         0.1264251\n",
       "sample6-3.09_Nneg         0.1408226         0.0000000         0.1357241\n",
       "sample6-3.18_Nneg         0.1264251         0.1357241         0.0000000\n",
       "sample6-4.12_Nneg         0.0000000         0.1408226         0.1264251\n",
       "sample6-4.13_Nneg         0.1408226         0.0000000         0.1357241\n",
       "sample6-4.17_Nneg         0.1275299         0.1407961         0.1285456\n",
       "sample6-4.30_Nneg         0.1264251         0.1357241         0.0000000\n",
       "sample8-1.10_Nneg         0.1421373         0.1471428         0.1409265\n",
       "sample8-1.14_Nneg         0.1376617         0.1423267         0.1351212\n",
       "sample8-1.23_Nneg         0.1427124         0.1483772         0.1413460\n",
       "sample8-2.17_Nneg         0.1421373         0.1471428         0.1409265\n",
       "sample8-2.22_Nneg         0.1376617         0.1423267         0.1351212\n",
       "sample8-2.25_Nneg         0.1427124         0.1483772         0.1413460\n",
       "sample8-3.23_Nneg         0.1421373         0.1471428         0.1409265\n",
       "sample8-3.28_Nneg         0.1376617         0.1423267         0.1351212\n",
       "sample8-3.29_Nneg         0.1427124         0.1483772         0.1413460\n",
       "sample8-4.04_Nneg         0.1421373         0.1471428         0.1409265\n",
       "sample8-4.07_Nneg         0.1376617         0.1423267         0.1351212\n",
       "sample8-4.23_Nneg         0.1427124         0.1483772         0.1413460\n",
       "                  sample6-4.12_Nneg sample6-4.13_Nneg sample6-4.17_Nneg\n",
       "sample5-1.16_Nneg         0.1329044         0.1396393         0.1323307\n",
       "sample5-1.17_Nneg         0.1287556         0.1395875         0.1237505\n",
       "sample5-1.25_Nneg         0.1452553         0.1391905         0.1441898\n",
       "sample5-2.06_Nneg         0.1287556         0.1395875         0.1237505\n",
       "sample5-2.11_Nneg         0.1329044         0.1396393         0.1323307\n",
       "sample5-2.15_Nneg         0.1452553         0.1391905         0.1441898\n",
       "sample5-3.13_Nneg         0.1287556         0.1395875         0.1237505\n",
       "sample5-3.16_Nneg         0.1329044         0.1396393         0.1323307\n",
       "sample5-3.17_Nneg         0.1452553         0.1391905         0.1441898\n",
       "sample5-4.05_Nneg         0.1329044         0.1396393         0.1323307\n",
       "sample5-4.08_Nneg         0.1287556         0.1395875         0.1237505\n",
       "sample5-4.09_Nneg         0.1452553         0.1391905         0.1441898\n",
       "sample6-1.07_Nneg         0.0000000         0.1408226         0.1275299\n",
       "sample6-1.12_Nneg         0.1264251         0.1357241         0.1285456\n",
       "sample6-1.15_Nneg         0.1275299         0.1407961         0.0000000\n",
       "sample6-1.18_Nneg         0.1408226         0.0000000         0.1407961\n",
       "sample6-2.13_Nneg         0.0000000         0.1408226         0.1275299\n",
       "sample6-2.14_Nneg         0.1408226         0.0000000         0.1407961\n",
       "sample6-2.16_Nneg         0.1275299         0.1407961         0.0000000\n",
       "sample6-2.26_Nneg         0.1264251         0.1357241         0.1285456\n",
       "sample6-3.01_Nneg         0.1275299         0.1407961         0.0000000\n",
       "sample6-3.04_Nneg         0.0000000         0.1408226         0.1275299\n",
       "sample6-3.09_Nneg         0.1408226         0.0000000         0.1407961\n",
       "sample6-3.18_Nneg         0.1264251         0.1357241         0.1285456\n",
       "sample6-4.12_Nneg         0.0000000         0.1408226         0.1275299\n",
       "sample6-4.13_Nneg         0.1408226         0.0000000         0.1407961\n",
       "sample6-4.17_Nneg         0.1275299         0.1407961         0.0000000\n",
       "sample6-4.30_Nneg         0.1264251         0.1357241         0.1285456\n",
       "sample8-1.10_Nneg         0.1421373         0.1471428         0.1448244\n",
       "sample8-1.14_Nneg         0.1376617         0.1423267         0.1384145\n",
       "sample8-1.23_Nneg         0.1427124         0.1483772         0.1431876\n",
       "sample8-2.17_Nneg         0.1421373         0.1471428         0.1448244\n",
       "sample8-2.22_Nneg         0.1376617         0.1423267         0.1384145\n",
       "sample8-2.25_Nneg         0.1427124         0.1483772         0.1431876\n",
       "sample8-3.23_Nneg         0.1421373         0.1471428         0.1448244\n",
       "sample8-3.28_Nneg         0.1376617         0.1423267         0.1384145\n",
       "sample8-3.29_Nneg         0.1427124         0.1483772         0.1431876\n",
       "sample8-4.04_Nneg         0.1421373         0.1471428         0.1448244\n",
       "sample8-4.07_Nneg         0.1376617         0.1423267         0.1384145\n",
       "sample8-4.23_Nneg         0.1427124         0.1483772         0.1431876\n",
       "                  sample6-4.30_Nneg sample8-1.10_Nneg sample8-1.14_Nneg\n",
       "sample5-1.16_Nneg         0.1306701         0.1433084         0.1392861\n",
       "sample5-1.17_Nneg         0.1259195         0.1439563         0.1398299\n",
       "sample5-1.25_Nneg         0.1412994         0.1567080         0.1511486\n",
       "sample5-2.06_Nneg         0.1259195         0.1439563         0.1398299\n",
       "sample5-2.11_Nneg         0.1306701         0.1433084         0.1392861\n",
       "sample5-2.15_Nneg         0.1412994         0.1567080         0.1511486\n",
       "sample5-3.13_Nneg         0.1259195         0.1439563         0.1398299\n",
       "sample5-3.16_Nneg         0.1306701         0.1433084         0.1392861\n",
       "sample5-3.17_Nneg         0.1412994         0.1567080         0.1511486\n",
       "sample5-4.05_Nneg         0.1306701         0.1433084         0.1392861\n",
       "sample5-4.08_Nneg         0.1259195         0.1439563         0.1398299\n",
       "sample5-4.09_Nneg         0.1412994         0.1567080         0.1511486\n",
       "sample6-1.07_Nneg         0.1264251         0.1421373         0.1376617\n",
       "sample6-1.12_Nneg         0.0000000         0.1409265         0.1351212\n",
       "sample6-1.15_Nneg         0.1285456         0.1448244         0.1384145\n",
       "sample6-1.18_Nneg         0.1357241         0.1471428         0.1423267\n",
       "sample6-2.13_Nneg         0.1264251         0.1421373         0.1376617\n",
       "sample6-2.14_Nneg         0.1357241         0.1471428         0.1423267\n",
       "sample6-2.16_Nneg         0.1285456         0.1448244         0.1384145\n",
       "sample6-2.26_Nneg         0.0000000         0.1409265         0.1351212\n",
       "sample6-3.01_Nneg         0.1285456         0.1448244         0.1384145\n",
       "sample6-3.04_Nneg         0.1264251         0.1421373         0.1376617\n",
       "sample6-3.09_Nneg         0.1357241         0.1471428         0.1423267\n",
       "sample6-3.18_Nneg         0.0000000         0.1409265         0.1351212\n",
       "sample6-4.12_Nneg         0.1264251         0.1421373         0.1376617\n",
       "sample6-4.13_Nneg         0.1357241         0.1471428         0.1423267\n",
       "sample6-4.17_Nneg         0.1285456         0.1448244         0.1384145\n",
       "sample6-4.30_Nneg         0.0000000         0.1409265         0.1351212\n",
       "sample8-1.10_Nneg         0.1409265         0.0000000         0.1355506\n",
       "sample8-1.14_Nneg         0.1351212         0.1355506         0.0000000\n",
       "sample8-1.23_Nneg         0.1413460         0.1370860         0.1375954\n",
       "sample8-2.17_Nneg         0.1409265         0.0000000         0.1355506\n",
       "sample8-2.22_Nneg         0.1351212         0.1355506         0.0000000\n",
       "sample8-2.25_Nneg         0.1413460         0.1370860         0.1375954\n",
       "sample8-3.23_Nneg         0.1409265         0.0000000         0.1355506\n",
       "sample8-3.28_Nneg         0.1351212         0.1355506         0.0000000\n",
       "sample8-3.29_Nneg         0.1413460         0.1370860         0.1375954\n",
       "sample8-4.04_Nneg         0.1409265         0.0000000         0.1355506\n",
       "sample8-4.07_Nneg         0.1351212         0.1355506         0.0000000\n",
       "sample8-4.23_Nneg         0.1413460         0.1370860         0.1375954\n",
       "                  sample8-1.23_Nneg sample8-2.17_Nneg sample8-2.22_Nneg\n",
       "sample5-1.16_Nneg         0.1430394         0.1433084         0.1392861\n",
       "sample5-1.17_Nneg         0.1435773         0.1439563         0.1398299\n",
       "sample5-1.25_Nneg         0.1587129         0.1567080         0.1511486\n",
       "sample5-2.06_Nneg         0.1435773         0.1439563         0.1398299\n",
       "sample5-2.11_Nneg         0.1430394         0.1433084         0.1392861\n",
       "sample5-2.15_Nneg         0.1587129         0.1567080         0.1511486\n",
       "sample5-3.13_Nneg         0.1435773         0.1439563         0.1398299\n",
       "sample5-3.16_Nneg         0.1430394         0.1433084         0.1392861\n",
       "sample5-3.17_Nneg         0.1587129         0.1567080         0.1511486\n",
       "sample5-4.05_Nneg         0.1430394         0.1433084         0.1392861\n",
       "sample5-4.08_Nneg         0.1435773         0.1439563         0.1398299\n",
       "sample5-4.09_Nneg         0.1587129         0.1567080         0.1511486\n",
       "sample6-1.07_Nneg         0.1427124         0.1421373         0.1376617\n",
       "sample6-1.12_Nneg         0.1413460         0.1409265         0.1351212\n",
       "sample6-1.15_Nneg         0.1431876         0.1448244         0.1384145\n",
       "sample6-1.18_Nneg         0.1483772         0.1471428         0.1423267\n",
       "sample6-2.13_Nneg         0.1427124         0.1421373         0.1376617\n",
       "sample6-2.14_Nneg         0.1483772         0.1471428         0.1423267\n",
       "sample6-2.16_Nneg         0.1431876         0.1448244         0.1384145\n",
       "sample6-2.26_Nneg         0.1413460         0.1409265         0.1351212\n",
       "sample6-3.01_Nneg         0.1431876         0.1448244         0.1384145\n",
       "sample6-3.04_Nneg         0.1427124         0.1421373         0.1376617\n",
       "sample6-3.09_Nneg         0.1483772         0.1471428         0.1423267\n",
       "sample6-3.18_Nneg         0.1413460         0.1409265         0.1351212\n",
       "sample6-4.12_Nneg         0.1427124         0.1421373         0.1376617\n",
       "sample6-4.13_Nneg         0.1483772         0.1471428         0.1423267\n",
       "sample6-4.17_Nneg         0.1431876         0.1448244         0.1384145\n",
       "sample6-4.30_Nneg         0.1413460         0.1409265         0.1351212\n",
       "sample8-1.10_Nneg         0.1370860         0.0000000         0.1355506\n",
       "sample8-1.14_Nneg         0.1375954         0.1355506         0.0000000\n",
       "sample8-1.23_Nneg         0.0000000         0.1370860         0.1375954\n",
       "sample8-2.17_Nneg         0.1370860         0.0000000         0.1355506\n",
       "sample8-2.22_Nneg         0.1375954         0.1355506         0.0000000\n",
       "sample8-2.25_Nneg         0.0000000         0.1370860         0.1375954\n",
       "sample8-3.23_Nneg         0.1370860         0.0000000         0.1355506\n",
       "sample8-3.28_Nneg         0.1375954         0.1355506         0.0000000\n",
       "sample8-3.29_Nneg         0.0000000         0.1370860         0.1375954\n",
       "sample8-4.04_Nneg         0.1370860         0.0000000         0.1355506\n",
       "sample8-4.07_Nneg         0.1375954         0.1355506         0.0000000\n",
       "sample8-4.23_Nneg         0.0000000         0.1370860         0.1375954\n",
       "                  sample8-2.25_Nneg sample8-3.23_Nneg sample8-3.28_Nneg\n",
       "sample5-1.16_Nneg         0.1430394         0.1433084         0.1392861\n",
       "sample5-1.17_Nneg         0.1435773         0.1439563         0.1398299\n",
       "sample5-1.25_Nneg         0.1587129         0.1567080         0.1511486\n",
       "sample5-2.06_Nneg         0.1435773         0.1439563         0.1398299\n",
       "sample5-2.11_Nneg         0.1430394         0.1433084         0.1392861\n",
       "sample5-2.15_Nneg         0.1587129         0.1567080         0.1511486\n",
       "sample5-3.13_Nneg         0.1435773         0.1439563         0.1398299\n",
       "sample5-3.16_Nneg         0.1430394         0.1433084         0.1392861\n",
       "sample5-3.17_Nneg         0.1587129         0.1567080         0.1511486\n",
       "sample5-4.05_Nneg         0.1430394         0.1433084         0.1392861\n",
       "sample5-4.08_Nneg         0.1435773         0.1439563         0.1398299\n",
       "sample5-4.09_Nneg         0.1587129         0.1567080         0.1511486\n",
       "sample6-1.07_Nneg         0.1427124         0.1421373         0.1376617\n",
       "sample6-1.12_Nneg         0.1413460         0.1409265         0.1351212\n",
       "sample6-1.15_Nneg         0.1431876         0.1448244         0.1384145\n",
       "sample6-1.18_Nneg         0.1483772         0.1471428         0.1423267\n",
       "sample6-2.13_Nneg         0.1427124         0.1421373         0.1376617\n",
       "sample6-2.14_Nneg         0.1483772         0.1471428         0.1423267\n",
       "sample6-2.16_Nneg         0.1431876         0.1448244         0.1384145\n",
       "sample6-2.26_Nneg         0.1413460         0.1409265         0.1351212\n",
       "sample6-3.01_Nneg         0.1431876         0.1448244         0.1384145\n",
       "sample6-3.04_Nneg         0.1427124         0.1421373         0.1376617\n",
       "sample6-3.09_Nneg         0.1483772         0.1471428         0.1423267\n",
       "sample6-3.18_Nneg         0.1413460         0.1409265         0.1351212\n",
       "sample6-4.12_Nneg         0.1427124         0.1421373         0.1376617\n",
       "sample6-4.13_Nneg         0.1483772         0.1471428         0.1423267\n",
       "sample6-4.17_Nneg         0.1431876         0.1448244         0.1384145\n",
       "sample6-4.30_Nneg         0.1413460         0.1409265         0.1351212\n",
       "sample8-1.10_Nneg         0.1370860         0.0000000         0.1355506\n",
       "sample8-1.14_Nneg         0.1375954         0.1355506         0.0000000\n",
       "sample8-1.23_Nneg         0.0000000         0.1370860         0.1375954\n",
       "sample8-2.17_Nneg         0.1370860         0.0000000         0.1355506\n",
       "sample8-2.22_Nneg         0.1375954         0.1355506         0.0000000\n",
       "sample8-2.25_Nneg         0.0000000         0.1370860         0.1375954\n",
       "sample8-3.23_Nneg         0.1370860         0.0000000         0.1355506\n",
       "sample8-3.28_Nneg         0.1375954         0.1355506         0.0000000\n",
       "sample8-3.29_Nneg         0.0000000         0.1370860         0.1375954\n",
       "sample8-4.04_Nneg         0.1370860         0.0000000         0.1355506\n",
       "sample8-4.07_Nneg         0.1375954         0.1355506         0.0000000\n",
       "sample8-4.23_Nneg         0.0000000         0.1370860         0.1375954\n",
       "                  sample8-3.29_Nneg sample8-4.04_Nneg sample8-4.07_Nneg\n",
       "sample5-1.16_Nneg         0.1430394         0.1433084         0.1392861\n",
       "sample5-1.17_Nneg         0.1435773         0.1439563         0.1398299\n",
       "sample5-1.25_Nneg         0.1587129         0.1567080         0.1511486\n",
       "sample5-2.06_Nneg         0.1435773         0.1439563         0.1398299\n",
       "sample5-2.11_Nneg         0.1430394         0.1433084         0.1392861\n",
       "sample5-2.15_Nneg         0.1587129         0.1567080         0.1511486\n",
       "sample5-3.13_Nneg         0.1435773         0.1439563         0.1398299\n",
       "sample5-3.16_Nneg         0.1430394         0.1433084         0.1392861\n",
       "sample5-3.17_Nneg         0.1587129         0.1567080         0.1511486\n",
       "sample5-4.05_Nneg         0.1430394         0.1433084         0.1392861\n",
       "sample5-4.08_Nneg         0.1435773         0.1439563         0.1398299\n",
       "sample5-4.09_Nneg         0.1587129         0.1567080         0.1511486\n",
       "sample6-1.07_Nneg         0.1427124         0.1421373         0.1376617\n",
       "sample6-1.12_Nneg         0.1413460         0.1409265         0.1351212\n",
       "sample6-1.15_Nneg         0.1431876         0.1448244         0.1384145\n",
       "sample6-1.18_Nneg         0.1483772         0.1471428         0.1423267\n",
       "sample6-2.13_Nneg         0.1427124         0.1421373         0.1376617\n",
       "sample6-2.14_Nneg         0.1483772         0.1471428         0.1423267\n",
       "sample6-2.16_Nneg         0.1431876         0.1448244         0.1384145\n",
       "sample6-2.26_Nneg         0.1413460         0.1409265         0.1351212\n",
       "sample6-3.01_Nneg         0.1431876         0.1448244         0.1384145\n",
       "sample6-3.04_Nneg         0.1427124         0.1421373         0.1376617\n",
       "sample6-3.09_Nneg         0.1483772         0.1471428         0.1423267\n",
       "sample6-3.18_Nneg         0.1413460         0.1409265         0.1351212\n",
       "sample6-4.12_Nneg         0.1427124         0.1421373         0.1376617\n",
       "sample6-4.13_Nneg         0.1483772         0.1471428         0.1423267\n",
       "sample6-4.17_Nneg         0.1431876         0.1448244         0.1384145\n",
       "sample6-4.30_Nneg         0.1413460         0.1409265         0.1351212\n",
       "sample8-1.10_Nneg         0.1370860         0.0000000         0.1355506\n",
       "sample8-1.14_Nneg         0.1375954         0.1355506         0.0000000\n",
       "sample8-1.23_Nneg         0.0000000         0.1370860         0.1375954\n",
       "sample8-2.17_Nneg         0.1370860         0.0000000         0.1355506\n",
       "sample8-2.22_Nneg         0.1375954         0.1355506         0.0000000\n",
       "sample8-2.25_Nneg         0.0000000         0.1370860         0.1375954\n",
       "sample8-3.23_Nneg         0.1370860         0.0000000         0.1355506\n",
       "sample8-3.28_Nneg         0.1375954         0.1355506         0.0000000\n",
       "sample8-3.29_Nneg         0.0000000         0.1370860         0.1375954\n",
       "sample8-4.04_Nneg         0.1370860         0.0000000         0.1355506\n",
       "sample8-4.07_Nneg         0.1375954         0.1355506         0.0000000\n",
       "sample8-4.23_Nneg         0.0000000         0.1370860         0.1375954\n",
       "                  sample8-4.23_Nneg\n",
       "sample5-1.16_Nneg         0.1430394\n",
       "sample5-1.17_Nneg         0.1435773\n",
       "sample5-1.25_Nneg         0.1587129\n",
       "sample5-2.06_Nneg         0.1435773\n",
       "sample5-2.11_Nneg         0.1430394\n",
       "sample5-2.15_Nneg         0.1587129\n",
       "sample5-3.13_Nneg         0.1435773\n",
       "sample5-3.16_Nneg         0.1430394\n",
       "sample5-3.17_Nneg         0.1587129\n",
       "sample5-4.05_Nneg         0.1430394\n",
       "sample5-4.08_Nneg         0.1435773\n",
       "sample5-4.09_Nneg         0.1587129\n",
       "sample6-1.07_Nneg         0.1427124\n",
       "sample6-1.12_Nneg         0.1413460\n",
       "sample6-1.15_Nneg         0.1431876\n",
       "sample6-1.18_Nneg         0.1483772\n",
       "sample6-2.13_Nneg         0.1427124\n",
       "sample6-2.14_Nneg         0.1483772\n",
       "sample6-2.16_Nneg         0.1431876\n",
       "sample6-2.26_Nneg         0.1413460\n",
       "sample6-3.01_Nneg         0.1431876\n",
       "sample6-3.04_Nneg         0.1427124\n",
       "sample6-3.09_Nneg         0.1483772\n",
       "sample6-3.18_Nneg         0.1413460\n",
       "sample6-4.12_Nneg         0.1427124\n",
       "sample6-4.13_Nneg         0.1483772\n",
       "sample6-4.17_Nneg         0.1431876\n",
       "sample6-4.30_Nneg         0.1413460\n",
       "sample8-1.10_Nneg         0.1370860\n",
       "sample8-1.14_Nneg         0.1375954\n",
       "sample8-1.23_Nneg         0.0000000\n",
       "sample8-2.17_Nneg         0.1370860\n",
       "sample8-2.22_Nneg         0.1375954\n",
       "sample8-2.25_Nneg         0.0000000\n",
       "sample8-3.23_Nneg         0.1370860\n",
       "sample8-3.28_Nneg         0.1375954\n",
       "sample8-3.29_Nneg         0.0000000\n",
       "sample8-4.04_Nneg         0.1370860\n",
       "sample8-4.07_Nneg         0.1375954\n",
       "sample8-4.23_Nneg         0.0000000\n"
      ]
     },
     "metadata": {},
     "output_type": "display_data"
    }
   ],
   "source": [
    "%%R\n",
    "head(Dist)\n",
    "#Remove NAs to trim dataset\n",
    "Temp = Dist[!is.na(Dist$gene_Dist),]\n",
    "\n",
    "#Seperate unifrac and phylogenetic distances retaining plot IDs\n",
    "U = Temp[,c(1,2,3)]\n",
    "Gene = Temp[,c(1,2,7)]\n",
    "\n",
    "#Re-cast longform to wide form.  \n",
    "Udist = acast(U, PlotA~PlotB) \n",
    "\n",
    "\n",
    "Genedist = acast(Gene, PlotA~PlotB)\n",
    "Genedist"
   ]
  },
  {
   "cell_type": "code",
   "execution_count": 71,
   "metadata": {
    "collapsed": false,
    "scrolled": true
   },
   "outputs": [
    {
     "data": {
      "text/plain": [
       "\n",
       "Mantel statistic based on Pearson's product-moment correlation \n",
       "\n",
       "Call:\n",
       "mantel(xdis = as.dist(Genedist), ydis = as.dist(Udist), method = \"pearson\",      permutations = 999) \n",
       "\n",
       "Mantel statistic r: 0.2077 \n",
       "      Significance: 0.001 \n",
       "\n",
       "Upper quantiles of permutations (null model):\n",
       "   90%    95%  97.5%    99% \n",
       "0.0391 0.0503 0.0594 0.0692 \n",
       "Permutation: free\n",
       "Number of permutations: 999\n",
       "\n"
      ]
     },
     "metadata": {},
     "output_type": "display_data"
    }
   ],
   "source": [
    "%%R\n",
    "M1 = mantel(as.dist(Genedist), as.dist(Udist), method=\"pearson\", permutations=999)\n",
    "print(M1)"
   ]
  },
  {
   "cell_type": "code",
   "execution_count": 72,
   "metadata": {
    "collapsed": false
   },
   "outputs": [
    {
     "data": {
      "image/png": "[encoded data removed]"
     },
     "metadata": {},
     "output_type": "display_data"
    }
   ],
   "source": [
    "%%R\n",
    "p1 = protest(Genedist, Udist, scores = \"sites\", permutations = 999)\n",
    "plot(p1)"
   ]
  },
  {
   "cell_type": "code",
   "execution_count": 73,
   "metadata": {
    "collapsed": false
   },
   "outputs": [
    {
     "data": {
      "text/plain": [
       "            B73       B97       H99     Hp301     Il14H       Ki3      Mo18\n",
       "B73   0.0000000 0.1285456 0.1306701 0.1357241 0.1412994 0.1413460 0.1409265\n",
       "B97   0.1285456 0.0000000 0.1323307 0.1407961 0.1441898 0.1431876 0.1448244\n",
       "H99   0.1306701 0.1323307 0.0000000 0.1396393 0.1435944 0.1430394 0.1433084\n",
       "Hp301 0.1357241 0.1407961 0.1396393 0.0000000 0.1391905 0.1483772 0.1471428\n",
       "Il14H 0.1412994 0.1441898 0.1435944 0.1391905 0.0000000 0.1587129 0.1567080\n",
       "Ki3   0.1413460 0.1431876 0.1430394 0.1483772 0.1587129 0.0000000 0.1370860\n",
       "Mo18  0.1409265 0.1448244 0.1433084 0.1471428 0.1567080 0.1370860 0.0000000\n",
       "MS71  0.1259195 0.1237505 0.1328223 0.1395875 0.1439733 0.1435773 0.1439563\n",
       "Oh7B  0.1264251 0.1275299 0.1329044 0.1408226 0.1452553 0.1427124 0.1421373\n",
       "Tx303 0.1351212 0.1384145 0.1392861 0.1423267 0.1511486 0.1375954 0.1355506\n",
       "           MS71      Oh7B     Tx303\n",
       "B73   0.1259195 0.1264251 0.1351212\n",
       "B97   0.1237505 0.1275299 0.1384145\n",
       "H99   0.1328223 0.1329044 0.1392861\n",
       "Hp301 0.1395875 0.1408226 0.1423267\n",
       "Il14H 0.1439733 0.1452553 0.1511486\n",
       "Ki3   0.1435773 0.1427124 0.1375954\n",
       "Mo18  0.1439563 0.1421373 0.1355506\n",
       "MS71  0.0000000 0.1287556 0.1398299\n",
       "Oh7B  0.1287556 0.0000000 0.1376617\n",
       "Tx303 0.1398299 0.1376617 0.0000000\n",
       "            B73       B97       H99     Hp301     Il14H       Ki3      Mo18\n",
       "B97   0.1285456                                                            \n",
       "H99   0.1306701 0.1323307                                                  \n",
       "Hp301 0.1357241 0.1407961 0.1396393                                        \n",
       "Il14H 0.1412994 0.1441898 0.1435944 0.1391905                              \n",
       "Ki3   0.1413460 0.1431876 0.1430394 0.1483772 0.1587129                    \n",
       "Mo18  0.1409265 0.1448244 0.1433084 0.1471428 0.1567080 0.1370860          \n",
       "MS71  0.1259195 0.1237505 0.1328223 0.1395875 0.1439733 0.1435773 0.1439563\n",
       "Oh7B  0.1264251 0.1275299 0.1329044 0.1408226 0.1452553 0.1427124 0.1421373\n",
       "Tx303 0.1351212 0.1384145 0.1392861 0.1423267 0.1511486 0.1375954 0.1355506\n",
       "           MS71      Oh7B\n",
       "B97                      \n",
       "H99                      \n",
       "Hp301                    \n",
       "Il14H                    \n",
       "Ki3                      \n",
       "Mo18                     \n",
       "MS71                     \n",
       "Oh7B  0.1287556          \n",
       "Tx303 0.1398299 0.1376617\n"
      ]
     },
     "metadata": {},
     "output_type": "display_data"
    }
   ],
   "source": [
    "%%R\n",
    "NAMdist %>% print\n",
    "as.dist(NAMdist) %>% print"
   ]
  },
  {
   "cell_type": "code",
   "execution_count": 74,
   "metadata": {
    "collapsed": false,
    "scrolled": true
   },
   "outputs": [
    {
     "data": {
      "image/png": "[encoded data removed]"
     },
     "metadata": {},
     "output_type": "display_data"
    }
   ],
   "source": [
    "%%R\n",
    "hc <- hclust(dist(NAMdist), \"average\")\n",
    "plot(hc)"
   ]
  },
  {
   "cell_type": "markdown",
   "metadata": {},
   "source": [
    "# Compare plant phylogenetic distance to l2f"
   ]
  },
  {
   "cell_type": "code",
   "execution_count": 75,
   "metadata": {
    "collapsed": false
   },
   "outputs": [
    {
     "data": {
      "text/plain": [
       " [1] \"log2FoldChange\" \"p\"              \"Rank1\"          \"Rank2\"         \n",
       " [5] \"Rank3\"          \"Rank4\"          \"Rank5\"          \"Rank6\"         \n",
       " [9] \"Rank7\"          \"Rank8\"          \"OTU\"            \"Day\"           \n",
       "[13] \"Plant\"          \"p.adj\"         \n"
      ]
     },
     "metadata": {},
     "output_type": "display_data"
    }
   ],
   "source": [
    "%%R\n",
    "log2foldFile = '/home/bryan/RhizCG/data/MiSeq_amplicon/MergedRuns/DeSeq2/bare-plant.csv'\n",
    "l2f = read.csv(log2foldFile, header = TRUE)\n",
    "colnames(l2f)"
   ]
  },
  {
   "cell_type": "markdown",
   "metadata": {},
   "source": [
    "### Spread by plant to make matrix of log2fold change in each OTU by plant combo"
   ]
  },
  {
   "cell_type": "code",
   "execution_count": 76,
   "metadata": {
    "collapsed": false
   },
   "outputs": [
    {
     "data": {
      "text/plain": [
       "              75-062      ABUTH      AMAPO        B73        B97       ECHCG\n",
       "OTU.10     3.7555530  3.5545741  3.9132382  4.7300540  3.9839591  4.11664286\n",
       "OTU.100    0.2606542  0.1170689 -0.6546281 -0.3808746 -0.2665816 -0.06524162\n",
       "OTU.1000   1.4421802  0.3860825  0.4441106  0.2538698  0.6160178  0.20458846\n",
       "OTU.10004 -0.4822074 -0.2494195 -0.2619031  0.3825679  1.1076031 -0.07437641\n",
       "OTU.10009  2.8654473  2.0340869  4.8486210  5.2198248  2.6268148  2.54961072\n",
       "OTU.1001   1.3922765  2.9833065  0.0000000  6.0531310  6.4938158  0.00000000\n",
       "                ELCOR      ERATE      FAGES       GLYMA        H99      HELAN\n",
       "OTU.10     3.24226200  3.9988157  2.2260311  4.49312473  2.4095638  2.8795348\n",
       "OTU.100   -0.02339426  0.2395577  1.0425259 -1.42291524 -0.8572354 -2.2457854\n",
       "OTU.1000   1.44222101  1.4767113  1.9390252  0.15274501  0.4477225 -0.8588658\n",
       "OTU.10004  0.38505326 -0.3608817 -0.7765150 -0.04926276  0.8493272  1.0058886\n",
       "OTU.10009  6.75187752  5.9279894  0.1732563  4.52468015  2.3365635  2.7764332\n",
       "OTU.1001   3.03726284  2.7755068  0.7503953  3.63151458  3.5551014  2.2944226\n",
       "               Hp301      Il14H         Ki3       Mo18       MS71       Oh7B\n",
       "OTU.10     4.4087742  4.3499124  4.35763836  4.0455581  4.0702469  4.4071349\n",
       "OTU.100   -0.4000379  0.2932776 -0.03045147 -0.2497077 -0.0975486 -0.1999284\n",
       "OTU.1000   0.7013179  0.8479333  1.68255976  0.1496571  1.7702285  0.2487456\n",
       "OTU.10004 -0.5462307 -0.6318507  0.01087359  0.6657882  0.4963449  0.3858509\n",
       "OTU.10009  0.6420765  4.3422272  0.07715507 -0.7379192  2.4344288  3.8419097\n",
       "OTU.1001   2.3760802  2.6031015  0.99762419  5.0992988  1.1703848  6.8527040\n",
       "                SETFA       SORBI     SORSUD      Tx303\n",
       "OTU.10     5.48588860  4.38805879  3.7685201 5.25846916\n",
       "OTU.100    0.07546256 -0.17219815 -0.4411690 0.60149382\n",
       "OTU.1000   2.06454071  0.02423868  0.7543683 1.82768125\n",
       "OTU.10004 -0.63211393  1.47143143  2.1107810 0.09725393\n",
       "OTU.10009  1.59655624  3.47161018  3.9472147 0.68888713\n",
       "OTU.1001  -0.23970964  1.33129706  2.2761291 2.02403107\n"
      ]
     },
     "metadata": {},
     "output_type": "display_data"
    }
   ],
   "source": [
    "%%R\n",
    "df = l2f[,c(1,11,13)]\n",
    "l2f_m = spread(df, Plant, log2FoldChange, fill = 0, drop = TRUE)\n",
    "rownames(l2f_m) = l2f_m$OTU\n",
    "l2f_m = l2f_m[,-1]\n",
    "l2f_m %>% head"
   ]
  },
  {
   "cell_type": "code",
   "execution_count": 77,
   "metadata": {
    "collapsed": false,
    "scrolled": true
   },
   "outputs": [
    {
     "data": {
      "text/plain": [
       "[1] 4982   22\n"
      ]
     },
     "metadata": {},
     "output_type": "display_data"
    }
   ],
   "source": [
    "%%R\n",
    "dim(l2f_m)"
   ]
  },
  {
   "cell_type": "markdown",
   "metadata": {},
   "source": [
    "### recode all negative log2fold changes with 0"
   ]
  },
  {
   "cell_type": "code",
   "execution_count": 78,
   "metadata": {
    "collapsed": false,
    "scrolled": true
   },
   "outputs": [
    {
     "data": {
      "text/plain": [
       "             75-062     ABUTH     AMAPO       B73       B97     ECHCG     ELCOR\n",
       "OTU.10    3.7555530 3.5545741 3.9132382 4.7300540 3.9839591 4.1166429 3.2422620\n",
       "OTU.100   0.2606542 0.1170689 0.0000000 0.0000000 0.0000000 0.0000000 0.0000000\n",
       "OTU.1000  1.4421802 0.3860825 0.4441106 0.2538698 0.6160178 0.2045885 1.4422210\n",
       "OTU.10004 0.0000000 0.0000000 0.0000000 0.3825679 1.1076031 0.0000000 0.3850533\n",
       "OTU.10009 2.8654473 2.0340869 4.8486210 5.2198248 2.6268148 2.5496107 6.7518775\n",
       "OTU.1001  1.3922765 2.9833065 0.0000000 6.0531310 6.4938158 0.0000000 3.0372628\n",
       "              ERATE     FAGES    GLYMA       H99    HELAN     Hp301     Il14H\n",
       "OTU.10    3.9988157 2.2260311 4.493125 2.4095638 2.879535 4.4087742 4.3499124\n",
       "OTU.100   0.2395577 1.0425259 0.000000 0.0000000 0.000000 0.0000000 0.2932776\n",
       "OTU.1000  1.4767113 1.9390252 0.152745 0.4477225 0.000000 0.7013179 0.8479333\n",
       "OTU.10004 0.0000000 0.0000000 0.000000 0.8493272 1.005889 0.0000000 0.0000000\n",
       "OTU.10009 5.9279894 0.1732563 4.524680 2.3365635 2.776433 0.6420765 4.3422272\n",
       "OTU.1001  2.7755068 0.7503953 3.631515 3.5551014 2.294423 2.3760802 2.6031015\n",
       "                 Ki3      Mo18      MS71      Oh7B      SETFA      SORBI\n",
       "OTU.10    4.35763836 4.0455581 4.0702469 4.4071349 5.48588860 4.38805879\n",
       "OTU.100   0.00000000 0.0000000 0.0000000 0.0000000 0.07546256 0.00000000\n",
       "OTU.1000  1.68255976 0.1496571 1.7702285 0.2487456 2.06454071 0.02423868\n",
       "OTU.10004 0.01087359 0.6657882 0.4963449 0.3858509 0.00000000 1.47143143\n",
       "OTU.10009 0.07715507 0.0000000 2.4344288 3.8419097 1.59655624 3.47161018\n",
       "OTU.1001  0.99762419 5.0992988 1.1703848 6.8527040 0.00000000 1.33129706\n",
       "             SORSUD      Tx303\n",
       "OTU.10    3.7685201 5.25846916\n",
       "OTU.100   0.0000000 0.60149382\n",
       "OTU.1000  0.7543683 1.82768125\n",
       "OTU.10004 2.1107810 0.09725393\n",
       "OTU.10009 3.9472147 0.68888713\n",
       "OTU.1001  2.2761291 2.02403107\n"
      ]
     },
     "metadata": {},
     "output_type": "display_data"
    }
   ],
   "source": [
    "%%R\n",
    "l2f_me = l2f_m\n",
    "l2f_me[l2f_me < 0] = 0 \n",
    "head(l2f_me)"
   ]
  },
  {
   "cell_type": "markdown",
   "metadata": {},
   "source": [
    "## Calculate pairwise weighted Unifrac distances between samples\n",
    "\n",
    "need to figure out how to run unifrac measure outside of phyloseq"
   ]
  },
  {
   "cell_type": "code",
   "execution_count": 79,
   "metadata": {
    "collapsed": false
   },
   "outputs": [
    {
     "data": {
      "text/plain": [
       "phyloseq-class experiment-level object\n",
       "otu_table()   OTU Table:         [ 4982 taxa and 238 samples ]\n",
       "sample_data() Sample Data:       [ 238 samples by 49 sample variables ]\n",
       "tax_table()   Taxonomy Table:    [ 4982 taxa by 8 taxonomic ranks ]\n",
       "phy_tree()    Phylogenetic Tree: [ 4982 tips and 4981 internal nodes ]\n"
      ]
     },
     "metadata": {},
     "output_type": "display_data"
    }
   ],
   "source": [
    "%%R\n",
    "physeq.Full"
   ]
  },
  {
   "cell_type": "code",
   "execution_count": 80,
   "metadata": {
    "collapsed": false
   },
   "outputs": [
    {
     "data": {
      "text/plain": [
       "List of 5\n",
       " $ edge       : int [1:9962, 1:2] 4983 4983 4984 4985 4986 4987 4987 4986 4985 4984 ...\n",
       " $ Nnode      : int 4981\n",
       " $ tip.label  : chr [1:4982] \"OTU.5899\" \"OTU.8680\" \"OTU.2666\" \"OTU.323\" ...\n",
       " $ edge.length: num [1:9962] 0.0343 0.0501 0.0799 0.0182 0.0214 ...\n",
       " $ node.label : chr [1:4981] \"\" \"0.606.5\" \"0.815\" \"0.894\" ...\n",
       " - attr(*, \"class\")= chr \"phylo\"\n",
       " - attr(*, \"order\")= chr \"cladewise\"\n"
      ]
     },
     "metadata": {},
     "output_type": "display_data"
    }
   ],
   "source": [
    "%%R\n",
    "#provide fast tree for unifrac calculation\n",
    "#treeFile = '/home/bryan/RhizCG/data/MiSeq_amplicon/MergedRuns/fasttree/otusn.tree'\n",
    "#Tree = read.tree(treeFile)\n",
    "Tree = phy_tree(physeq.Full)\n",
    "str(Tree)\n"
   ]
  },
  {
   "cell_type": "code",
   "execution_count": 90,
   "metadata": {
    "collapsed": false
   },
   "outputs": [],
   "source": [
    "%%R\n",
    "l2f_wunif = picante::unifrac(as.matrix(t(l2f_me)), Tree)"
   ]
  },
  {
   "cell_type": "code",
   "execution_count": 91,
   "metadata": {
    "collapsed": false
   },
   "outputs": [],
   "source": [
    "%%R\n",
    "l2f_bray = vegdist(as.matrix(t(l2f_me)), method = \"bray\")"
   ]
  },
  {
   "cell_type": "code",
   "execution_count": 92,
   "metadata": {
    "collapsed": false,
    "scrolled": true
   },
   "outputs": [
    {
     "data": {
      "text/plain": [
       "NULL\n"
      ]
     },
     "metadata": {},
     "output_type": "display_data"
    },
    {
     "data": {
      "image/png": "[encoded data removed]"
     },
     "metadata": {},
     "output_type": "display_data"
    },
    {
     "data": {
      "image/png": "[encoded data removed]"
     },
     "metadata": {},
     "output_type": "display_data"
    }
   ],
   "source": [
    "%%R\n",
    "hc_unif = hclust(l2f_wunif, \"average\")\n",
    "plot(hc_unif) %>% print\n",
    "\n",
    "hc_bray = hclust(l2f_bray, \"average\")\n",
    "plot(hc_bray, main = \"Cluster Dendrogram, \\n Bray-Curtis Distance\")"
   ]
  },
  {
   "cell_type": "markdown",
   "metadata": {},
   "source": [
    "# Mantel test of phylogenetic distance and l2f unifrac distance"
   ]
  },
  {
   "cell_type": "markdown",
   "metadata": {},
   "source": [
    "### Maize"
   ]
  },
  {
   "cell_type": "code",
   "execution_count": 93,
   "metadata": {
    "collapsed": false,
    "scrolled": true
   },
   "outputs": [
    {
     "data": {
      "text/plain": [
       "            B73       B97       H99     Hp301     Il14H       Ki3      Mo18\n",
       "B73   0.0000000 0.1285456 0.1306701 0.1357241 0.1412994 0.1413460 0.1409265\n",
       "B97   0.1285456 0.0000000 0.1323307 0.1407961 0.1441898 0.1431876 0.1448244\n",
       "H99   0.1306701 0.1323307 0.0000000 0.1396393 0.1435944 0.1430394 0.1433084\n",
       "Hp301 0.1357241 0.1407961 0.1396393 0.0000000 0.1391905 0.1483772 0.1471428\n",
       "Il14H 0.1412994 0.1441898 0.1435944 0.1391905 0.0000000 0.1587129 0.1567080\n",
       "Ki3   0.1413460 0.1431876 0.1430394 0.1483772 0.1587129 0.0000000 0.1370860\n",
       "Mo18  0.1409265 0.1448244 0.1433084 0.1471428 0.1567080 0.1370860 0.0000000\n",
       "MS71  0.1259195 0.1237505 0.1328223 0.1395875 0.1439733 0.1435773 0.1439563\n",
       "Oh7B  0.1264251 0.1275299 0.1329044 0.1408226 0.1452553 0.1427124 0.1421373\n",
       "Tx303 0.1351212 0.1384145 0.1392861 0.1423267 0.1511486 0.1375954 0.1355506\n",
       "           MS71      Oh7B     Tx303\n",
       "B73   0.1259195 0.1264251 0.1351212\n",
       "B97   0.1237505 0.1275299 0.1384145\n",
       "H99   0.1328223 0.1329044 0.1392861\n",
       "Hp301 0.1395875 0.1408226 0.1423267\n",
       "Il14H 0.1439733 0.1452553 0.1511486\n",
       "Ki3   0.1435773 0.1427124 0.1375954\n",
       "Mo18  0.1439563 0.1421373 0.1355506\n",
       "MS71  0.0000000 0.1287556 0.1398299\n",
       "Oh7B  0.1287556 0.0000000 0.1376617\n",
       "Tx303 0.1398299 0.1376617 0.0000000\n",
       "            B73       B97       H99     Hp301     Il14H       Ki3      Mo18\n",
       "B73   0.0000000 0.2237945 0.4119286 0.3452025 0.3023573 0.4022200 0.3766124\n",
       "B97   0.2237945 0.0000000 0.3710592 0.3061759 0.3121636 0.3997490 0.3717069\n",
       "H99   0.4119286 0.3710592 0.0000000 0.3884326 0.3640507 0.4136344 0.4063217\n",
       "Hp301 0.3452025 0.3061759 0.3884326 0.0000000 0.3942844 0.3999572 0.3938802\n",
       "Il14H 0.3023573 0.3121636 0.3640507 0.3942844 0.0000000 0.4007490 0.4017387\n",
       "Ki3   0.4022200 0.3997490 0.4136344 0.3999572 0.4007490 0.0000000 0.3054076\n",
       "Mo18  0.3766124 0.3717069 0.4063217 0.3938802 0.4017387 0.3054076 0.0000000\n",
       "MS71  0.3323343 0.3273581 0.2902759 0.3564359 0.2494010 0.3562424 0.3845840\n",
       "Oh7B  0.2298748 0.2335964 0.3685346 0.2748570 0.3152864 0.3571550 0.3610421\n",
       "Tx303 0.4369961 0.4374733 0.4516766 0.4345869 0.4063090 0.2846657 0.3331650\n",
       "           MS71      Oh7B     Tx303\n",
       "B73   0.3323343 0.2298748 0.4369961\n",
       "B97   0.3273581 0.2335964 0.4374733\n",
       "H99   0.2902759 0.3685346 0.4516766\n",
       "Hp301 0.3564359 0.2748570 0.4345869\n",
       "Il14H 0.2494010 0.3152864 0.4063090\n",
       "Ki3   0.3562424 0.3571550 0.2846657\n",
       "Mo18  0.3845840 0.3610421 0.3331650\n",
       "MS71  0.0000000 0.2791769 0.3649488\n",
       "Oh7B  0.2791769 0.0000000 0.3761784\n",
       "Tx303 0.3649488 0.3761784 0.0000000\n"
      ]
     },
     "metadata": {},
     "output_type": "display_data"
    }
   ],
   "source": [
    "%%R\n",
    "NAMdist %>% print\n",
    "\n",
    "#subset column and rows of log2fold change so that only NAM lines are included\n",
    "NLU = as.matrix(l2f_wunif)\n",
    "NLU = NLU[c(4,5,11,13:18,22),c(4,5,11,13:18,22)]\n",
    "NLU\n",
    "\n",
    "NLB = as.matrix(l2f_bray)\n",
    "NLB = NLB[c(4,5,11,13:18,22),c(4,5,11,13:18,22)]\n",
    "NLB"
   ]
  },
  {
   "cell_type": "code",
   "execution_count": 94,
   "metadata": {
    "collapsed": false,
    "scrolled": false
   },
   "outputs": [
    {
     "data": {
      "text/plain": [
       "\n",
       "Mantel statistic based on Pearson's product-moment correlation \n",
       "\n",
       "Call:\n",
       "mantel(xdis = as.dist(NAMdist), ydis = as.dist(NLU), method = \"pearson\",      permutations = 999) \n",
       "\n",
       "Mantel statistic r: 0.3985 \n",
       "      Significance: 0.013 \n",
       "\n",
       "Upper quantiles of permutations (null model):\n",
       "  90%   95% 97.5%   99% \n",
       "0.275 0.328 0.376 0.412 \n",
       "Permutation: free\n",
       "Number of permutations: 999\n",
       "\n"
      ]
     },
     "metadata": {},
     "output_type": "display_data"
    }
   ],
   "source": [
    "%%R\n",
    "M1 = mantel(as.dist(NAMdist), as.dist(NLU), method=\"pearson\", permutations=999)\n",
    "print(M1)"
   ]
  },
  {
   "cell_type": "code",
   "execution_count": 95,
   "metadata": {
    "collapsed": false
   },
   "outputs": [
    {
     "data": {
      "text/plain": [
       "\n",
       "Mantel statistic based on Pearson's product-moment correlation \n",
       "\n",
       "Call:\n",
       "mantel(xdis = as.dist(NAMdist), ydis = as.dist(NLB), method = \"pearson\",      permutations = 999) \n",
       "\n",
       "Mantel statistic r: 0.452 \n",
       "      Significance: 0.012 \n",
       "\n",
       "Upper quantiles of permutations (null model):\n",
       "  90%   95% 97.5%   99% \n",
       "0.237 0.311 0.396 0.459 \n",
       "Permutation: free\n",
       "Number of permutations: 999\n",
       "\n"
      ]
     },
     "metadata": {},
     "output_type": "display_data"
    }
   ],
   "source": [
    "%%R\n",
    "M1 = mantel(as.dist(NAMdist), as.dist(NLB), method=\"pearson\", permutations=999)\n",
    "print(M1)"
   ]
  },
  {
   "cell_type": "markdown",
   "metadata": {},
   "source": [
    "### Species"
   ]
  },
  {
   "cell_type": "code",
   "execution_count": 96,
   "metadata": {
    "collapsed": false
   },
   "outputs": [
    {
     "data": {
      "text/plain": [
       "          FAGES     AMAPO     HELAN     ABUTH     GLYMA     SORBI       B73\n",
       "AMAPO 0.3342723                                                            \n",
       "HELAN 0.5035754 0.3979322                                                  \n",
       "ABUTH 0.3682866 0.3240776 0.4118752                                        \n",
       "GLYMA 0.4088706 0.3228219 0.3945216 0.3201854                              \n",
       "SORBI 0.4330183 0.3612378 0.3421771 0.3602916 0.3443746                    \n",
       "B73   0.3775745 0.3538383 0.4124475 0.3490226 0.3339031 0.3408974          \n",
       "ECHCG 0.3704284 0.2917447 0.4098412 0.3270240 0.3399034 0.3644222 0.3356861\n",
       "SETFA 0.2952022 0.2907014 0.4257812 0.3174688 0.3413960 0.3450002 0.3020056\n",
       "ERATE 0.3485277 0.3620173 0.4790500 0.3654579 0.3706006 0.3969722 0.3314409\n",
       "ELCOR 0.4034968 0.3961371 0.4734902 0.3906721 0.3857268 0.4026007 0.3275491\n",
       "          ECHCG     SETFA     ERATE\n",
       "AMAPO                              \n",
       "HELAN                              \n",
       "ABUTH                              \n",
       "GLYMA                              \n",
       "SORBI                              \n",
       "B73                                \n",
       "ECHCG                              \n",
       "SETFA 0.2999224                    \n",
       "ERATE 0.3737200 0.3079923          \n",
       "ELCOR 0.3791914 0.3497645 0.3408665\n",
       "        FAGES   AMAPO   HELAN   ABUTH   GLYMA   SORBI     B73   ECHCG   SETFA\n",
       "AMAPO 0.23210                                                                \n",
       "HELAN 0.25302 0.20952                                                        \n",
       "ABUTH 0.27096 0.22746 0.19116                                                \n",
       "GLYMA 0.35879 0.31529 0.27899 0.24183                                        \n",
       "SORBI 0.43476 0.39126 0.35496 0.35370 0.44153                                \n",
       "B73   0.43787 0.39437 0.35807 0.35681 0.44464 0.01153                        \n",
       "ECHCG 0.43985 0.39635 0.36005 0.35879 0.44662 0.03193 0.03504                \n",
       "SETFA 0.43592 0.39242 0.35612 0.35486 0.44269 0.02800 0.03111 0.02517        \n",
       "ERATE 0.44622 0.40272 0.36642 0.36516 0.45299 0.04656 0.04967 0.05165 0.04772\n",
       "ELCOR 0.44745 0.40395 0.36765 0.36639 0.45422 0.04779 0.05090 0.05288 0.04895\n",
       "        ERATE\n",
       "AMAPO        \n",
       "HELAN        \n",
       "ABUTH        \n",
       "GLYMA        \n",
       "SORBI        \n",
       "B73          \n",
       "ECHCG        \n",
       "SETFA        \n",
       "ERATE        \n",
       "ELCOR 0.03561\n",
       "          FAGES     AMAPO     HELAN     ABUTH     GLYMA     SORBI       B73\n",
       "AMAPO 0.4712795                                                            \n",
       "HELAN 0.6363658 0.4939595                                                  \n",
       "ABUTH 0.5084500 0.4048057 0.4661712                                        \n",
       "GLYMA 0.5874458 0.3845885 0.4636033 0.3525472                              \n",
       "SORBI 0.6066045 0.4874727 0.3455859 0.4634549 0.4637966                    \n",
       "B73   0.5982220 0.4332832 0.4842494 0.4472042 0.3458305 0.4619327          \n",
       "ECHCG 0.5313561 0.3365906 0.4975388 0.4182621 0.4023634 0.4580536 0.4106621\n",
       "SETFA 0.4342526 0.3633945 0.4963876 0.3972181 0.3957300 0.4618701 0.3673025\n",
       "ERATE 0.5128991 0.4230160 0.5203233 0.4336805 0.4014505 0.4869061 0.3919561\n",
       "ELCOR 0.5820989 0.4817006 0.5525793 0.5041339 0.4635220 0.5243439 0.4077774\n",
       "          ECHCG     SETFA     ERATE\n",
       "AMAPO                              \n",
       "HELAN                              \n",
       "ABUTH                              \n",
       "GLYMA                              \n",
       "SORBI                              \n",
       "B73                                \n",
       "ECHCG                              \n",
       "SETFA 0.3690353                    \n",
       "ERATE 0.4044557 0.3546800          \n",
       "ELCOR 0.4835827 0.4504774 0.4300396\n"
      ]
     },
     "metadata": {},
     "output_type": "display_data"
    }
   ],
   "source": [
    "%%R\n",
    "\n",
    "#Organize log2fold change distance matrix so that only plants with cholorplast distances are included \n",
    "#and column and row order is congruent with phylogenetic distance matrix\n",
    "l2f_wunif.t = as.matrix(l2f_wunif) %>% as.data.frame()\n",
    "    temp1 = l2f_wunif.t[c(\"FAGES\", \"AMAPO\", \"HELAN\", \"ABUTH\", \"GLYMA\", \"SORBI\", \"B73\", \"ECHCG\",\n",
    "                    \"SETFA\", \"ERATE\", \"ELCOR\"), c(\"FAGES\", \"AMAPO\", \"HELAN\", \"ABUTH\", \"GLYMA\", \"SORBI\", \"B73\", \"ECHCG\",\n",
    "                    \"SETFA\", \"ERATE\", \"ELCOR\")]\n",
    "\n",
    "    SLU = as.matrix(temp1)\n",
    "\n",
    "    SLU = as.dist(SLU)\n",
    "    SLU %>% print\n",
    "\n",
    "#Remove ginkgo so that matrices are congruent\n",
    "p.temp = as.matrix(phydist) %>% as.data.frame()\n",
    "    temp2 = p.temp[-12, -12] #remove ginkgo\n",
    "\n",
    "    temp2 = as.matrix(temp2)\n",
    "    phydist = as.dist(temp2)\n",
    "\n",
    "    phydist %>% print\n",
    "\n",
    "l2f_bray.t = as.matrix(l2f_bray) %>% as.data.frame()\n",
    "    temp2 = l2f_bray.t[c(\"FAGES\", \"AMAPO\", \"HELAN\", \"ABUTH\", \"GLYMA\", \"SORBI\", \"B73\", \"ECHCG\",\n",
    "                    \"SETFA\", \"ERATE\", \"ELCOR\"), c(\"FAGES\", \"AMAPO\", \"HELAN\", \"ABUTH\", \"GLYMA\", \"SORBI\", \"B73\", \"ECHCG\",\n",
    "                    \"SETFA\", \"ERATE\", \"ELCOR\")]\n",
    "\n",
    "    SLB = as.matrix(temp2)\n",
    "    SLB = as.dist(SLB)\n",
    "    SLB %>% print\n"
   ]
  },
  {
   "cell_type": "code",
   "execution_count": 97,
   "metadata": {
    "collapsed": false,
    "scrolled": true
   },
   "outputs": [
    {
     "data": {
      "text/plain": [
       "\n",
       "Mantel statistic based on Pearson's product-moment correlation \n",
       "\n",
       "Call:\n",
       "mantel(xdis = phydist, ydis = SLU, method = \"pearson\", permutations = 999) \n",
       "\n",
       "Mantel statistic r: 0.1718 \n",
       "      Significance: 0.167 \n",
       "\n",
       "Upper quantiles of permutations (null model):\n",
       "  90%   95% 97.5%   99% \n",
       "0.224 0.292 0.352 0.397 \n",
       "Permutation: free\n",
       "Number of permutations: 999\n",
       "\n"
      ]
     },
     "metadata": {},
     "output_type": "display_data"
    }
   ],
   "source": [
    "%%R\n",
    "m1 = mantel(phydist, SLU, method=\"pearson\", permutations=999)\n",
    "print(m1)"
   ]
  },
  {
   "cell_type": "code",
   "execution_count": 89,
   "metadata": {
    "collapsed": false,
    "scrolled": true
   },
   "outputs": [
    {
     "name": "stdout",
     "output_type": "stream",
     "text": [
      "\n",
      "Error in as.dist(ydis) : object 'SLB' not found\n"
     ]
    }
   ],
   "source": [
    "%%R\n",
    "m1 = mantel(phydist, SLB, method=\"pearson\", permutations=999)\n",
    "print(m1)"
   ]
  },
  {
   "cell_type": "code",
   "execution_count": null,
   "metadata": {
    "collapsed": true
   },
   "outputs": [],
   "source": []
  }
 ],
 "metadata": {
  "hide_input": true,
  "kernelspec": {
   "display_name": "Python 2",
   "language": "python",
   "name": "python2"
  },
  "language_info": {
   "codemirror_mode": {
    "name": "ipython",
    "version": 2
   },
   "file_extension": ".py",
   "mimetype": "text/x-python",
   "name": "python",
   "nbconvert_exporter": "python",
   "pygments_lexer": "ipython2",
   "version": "2.7.11"
  }
 },
 "nbformat": 4,
 "nbformat_minor": 0
}
