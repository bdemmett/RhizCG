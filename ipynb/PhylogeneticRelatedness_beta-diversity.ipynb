{
 "cells": [
  {
   "cell_type": "markdown",
   "metadata": {},
   "source": [
    "# Phylogenetic Relatedness Tests"
   ]
  },
  {
   "cell_type": "markdown",
   "metadata": {
    "slideshow": {
     "slide_type": "skip"
    }
   },
   "source": [
    "Test phylogenetic signal on microbial community using phylogeny created from rbcL and matK in phylogenerator 20160209_phylogeny.tre.  "
   ]
  },
  {
   "cell_type": "code",
   "execution_count": 1,
   "metadata": {
    "collapsed": false
   },
   "outputs": [],
   "source": [
    "%load_ext rpy2.ipython"
   ]
  },
  {
   "cell_type": "code",
   "execution_count": 2,
   "metadata": {
    "collapsed": false,
    "hide_input": true
   },
   "outputs": [
    {
     "name": "stderr",
     "output_type": "stream",
     "text": [
      "/opt/anaconda/lib/python2.7/site-packages/rpy2/robjects/functions.py:106: UserWarning: Loading required package: estimability\n",
      "\n",
      "  res = super(Function, self).__call__(*new_args, **new_kwargs)\n",
      "/opt/anaconda/lib/python2.7/site-packages/rpy2/robjects/functions.py:106: UserWarning: Loading required package: lattice\n",
      "\n",
      "  res = super(Function, self).__call__(*new_args, **new_kwargs)\n",
      "/opt/anaconda/lib/python2.7/site-packages/rpy2/robjects/functions.py:106: UserWarning: Loading required package: survival\n",
      "\n",
      "  res = super(Function, self).__call__(*new_args, **new_kwargs)\n",
      "/opt/anaconda/lib/python2.7/site-packages/rpy2/robjects/functions.py:106: UserWarning: Loading required package: Formula\n",
      "\n",
      "  res = super(Function, self).__call__(*new_args, **new_kwargs)\n",
      "/opt/anaconda/lib/python2.7/site-packages/rpy2/robjects/functions.py:106: UserWarning: Loading required package: ggplot2\n",
      "\n",
      "  res = super(Function, self).__call__(*new_args, **new_kwargs)\n",
      "/opt/anaconda/lib/python2.7/site-packages/rpy2/robjects/functions.py:106: UserWarning: \n",
      "Attaching package: ‘Hmisc’\n",
      "\n",
      "\n",
      "  res = super(Function, self).__call__(*new_args, **new_kwargs)\n",
      "/opt/anaconda/lib/python2.7/site-packages/rpy2/robjects/functions.py:106: UserWarning: The following objects are masked from ‘package:base’:\n",
      "\n",
      "    format.pval, round.POSIXt, trunc.POSIXt, units\n",
      "\n",
      "\n",
      "  res = super(Function, self).__call__(*new_args, **new_kwargs)\n",
      "/opt/anaconda/lib/python2.7/site-packages/rpy2/robjects/functions.py:106: UserWarning: Loading required package: Matrix\n",
      "\n",
      "  res = super(Function, self).__call__(*new_args, **new_kwargs)\n",
      "/opt/anaconda/lib/python2.7/site-packages/rpy2/robjects/functions.py:106: UserWarning: \n",
      "Attaching package: ‘lmerTest’\n",
      "\n",
      "\n",
      "  res = super(Function, self).__call__(*new_args, **new_kwargs)\n",
      "/opt/anaconda/lib/python2.7/site-packages/rpy2/robjects/functions.py:106: UserWarning: The following object is masked from ‘package:lme4’:\n",
      "\n",
      "    lmer\n",
      "\n",
      "\n",
      "  res = super(Function, self).__call__(*new_args, **new_kwargs)\n",
      "/opt/anaconda/lib/python2.7/site-packages/rpy2/robjects/functions.py:106: UserWarning: The following object is masked from ‘package:lsmeans’:\n",
      "\n",
      "    lsmeans\n",
      "\n",
      "\n",
      "  res = super(Function, self).__call__(*new_args, **new_kwargs)\n",
      "/opt/anaconda/lib/python2.7/site-packages/rpy2/robjects/functions.py:106: UserWarning: The following object is masked from ‘package:stats’:\n",
      "\n",
      "    step\n",
      "\n",
      "\n",
      "  res = super(Function, self).__call__(*new_args, **new_kwargs)\n",
      "/opt/anaconda/lib/python2.7/site-packages/rpy2/robjects/functions.py:106: UserWarning: \n",
      "Attaching package: ‘dplyr’\n",
      "\n",
      "\n",
      "  res = super(Function, self).__call__(*new_args, **new_kwargs)\n",
      "/opt/anaconda/lib/python2.7/site-packages/rpy2/robjects/functions.py:106: UserWarning: The following objects are masked from ‘package:Hmisc’:\n",
      "\n",
      "    combine, src, summarize\n",
      "\n",
      "\n",
      "  res = super(Function, self).__call__(*new_args, **new_kwargs)\n",
      "/opt/anaconda/lib/python2.7/site-packages/rpy2/robjects/functions.py:106: UserWarning: The following objects are masked from ‘package:stats’:\n",
      "\n",
      "    filter, lag\n",
      "\n",
      "\n",
      "  res = super(Function, self).__call__(*new_args, **new_kwargs)\n",
      "/opt/anaconda/lib/python2.7/site-packages/rpy2/robjects/functions.py:106: UserWarning: The following objects are masked from ‘package:base’:\n",
      "\n",
      "    intersect, setdiff, setequal, union\n",
      "\n",
      "\n",
      "  res = super(Function, self).__call__(*new_args, **new_kwargs)\n",
      "/opt/anaconda/lib/python2.7/site-packages/rpy2/robjects/functions.py:106: UserWarning: \n",
      "Attaching package: ‘tidyr’\n",
      "\n",
      "\n",
      "  res = super(Function, self).__call__(*new_args, **new_kwargs)\n",
      "/opt/anaconda/lib/python2.7/site-packages/rpy2/robjects/functions.py:106: UserWarning: The following object is masked from ‘package:Matrix’:\n",
      "\n",
      "    expand\n",
      "\n",
      "\n",
      "  res = super(Function, self).__call__(*new_args, **new_kwargs)\n",
      "/opt/anaconda/lib/python2.7/site-packages/rpy2/robjects/functions.py:106: UserWarning: \n",
      "Attaching package: ‘gridExtra’\n",
      "\n",
      "\n",
      "  res = super(Function, self).__call__(*new_args, **new_kwargs)\n",
      "/opt/anaconda/lib/python2.7/site-packages/rpy2/robjects/functions.py:106: UserWarning: The following object is masked from ‘package:dplyr’:\n",
      "\n",
      "    combine\n",
      "\n",
      "\n",
      "  res = super(Function, self).__call__(*new_args, **new_kwargs)\n",
      "/opt/anaconda/lib/python2.7/site-packages/rpy2/robjects/functions.py:106: UserWarning: The following object is masked from ‘package:Hmisc’:\n",
      "\n",
      "    combine\n",
      "\n",
      "\n",
      "  res = super(Function, self).__call__(*new_args, **new_kwargs)\n",
      "/opt/anaconda/lib/python2.7/site-packages/rpy2/robjects/functions.py:106: UserWarning: \n",
      "Attaching package: ‘reshape2’\n",
      "\n",
      "\n",
      "  res = super(Function, self).__call__(*new_args, **new_kwargs)\n",
      "/opt/anaconda/lib/python2.7/site-packages/rpy2/robjects/functions.py:106: UserWarning: The following object is masked from ‘package:tidyr’:\n",
      "\n",
      "    smiths\n",
      "\n",
      "\n",
      "  res = super(Function, self).__call__(*new_args, **new_kwargs)\n",
      "/opt/anaconda/lib/python2.7/site-packages/rpy2/robjects/functions.py:106: UserWarning: Loading required package: ape\n",
      "\n",
      "  res = super(Function, self).__call__(*new_args, **new_kwargs)\n",
      "/opt/anaconda/lib/python2.7/site-packages/rpy2/robjects/functions.py:106: UserWarning: \n",
      "Attaching package: ‘ape’\n",
      "\n",
      "\n",
      "  res = super(Function, self).__call__(*new_args, **new_kwargs)\n",
      "/opt/anaconda/lib/python2.7/site-packages/rpy2/robjects/functions.py:106: UserWarning: The following object is masked from ‘package:Hmisc’:\n",
      "\n",
      "    zoom\n",
      "\n",
      "\n",
      "  res = super(Function, self).__call__(*new_args, **new_kwargs)\n",
      "/opt/anaconda/lib/python2.7/site-packages/rpy2/robjects/functions.py:106: UserWarning: Loading required package: vegan\n",
      "\n",
      "  res = super(Function, self).__call__(*new_args, **new_kwargs)\n",
      "/opt/anaconda/lib/python2.7/site-packages/rpy2/robjects/functions.py:106: UserWarning: Loading required package: permute\n",
      "\n",
      "  res = super(Function, self).__call__(*new_args, **new_kwargs)\n",
      "/opt/anaconda/lib/python2.7/site-packages/rpy2/robjects/functions.py:106: UserWarning: This is vegan 2.4-0\n",
      "\n",
      "  res = super(Function, self).__call__(*new_args, **new_kwargs)\n",
      "/opt/anaconda/lib/python2.7/site-packages/rpy2/robjects/functions.py:106: UserWarning: Loading required package: nlme\n",
      "\n",
      "  res = super(Function, self).__call__(*new_args, **new_kwargs)\n",
      "/opt/anaconda/lib/python2.7/site-packages/rpy2/robjects/functions.py:106: UserWarning: \n",
      "Attaching package: ‘nlme’\n",
      "\n",
      "\n",
      "  res = super(Function, self).__call__(*new_args, **new_kwargs)\n",
      "/opt/anaconda/lib/python2.7/site-packages/rpy2/robjects/functions.py:106: UserWarning: The following object is masked from ‘package:dplyr’:\n",
      "\n",
      "    collapse\n",
      "\n",
      "\n",
      "  res = super(Function, self).__call__(*new_args, **new_kwargs)\n",
      "/opt/anaconda/lib/python2.7/site-packages/rpy2/robjects/functions.py:106: UserWarning: The following object is masked from ‘package:lme4’:\n",
      "\n",
      "    lmList\n",
      "\n",
      "\n",
      "  res = super(Function, self).__call__(*new_args, **new_kwargs)\n",
      "/opt/anaconda/lib/python2.7/site-packages/rpy2/robjects/functions.py:106: UserWarning: Loading required package: foreach\n",
      "\n",
      "  res = super(Function, self).__call__(*new_args, **new_kwargs)\n",
      "/opt/anaconda/lib/python2.7/site-packages/rpy2/robjects/functions.py:106: UserWarning: foreach: simple, scalable parallel programming from Revolution Analytics\n",
      "Use Revolution R for scalability, fault tolerance and more.\n",
      "http://www.revolutionanalytics.com\n",
      "\n",
      "  res = super(Function, self).__call__(*new_args, **new_kwargs)\n",
      "/opt/anaconda/lib/python2.7/site-packages/rpy2/robjects/functions.py:106: UserWarning: Loading required package: iterators\n",
      "\n",
      "  res = super(Function, self).__call__(*new_args, **new_kwargs)\n",
      "/opt/anaconda/lib/python2.7/site-packages/rpy2/robjects/functions.py:106: UserWarning: Loading required package: parallel\n",
      "\n",
      "  res = super(Function, self).__call__(*new_args, **new_kwargs)\n"
     ]
    }
   ],
   "source": [
    "%%R\n",
    "library(lsmeans)\n",
    "library(Hmisc)\n",
    "library(lme4)\n",
    "library(lmerTest)\n",
    "library(ggplot2)\n",
    "library(dplyr)\n",
    "library(tidyr)\n",
    "library(pbkrtest)\n",
    "library(gridExtra)\n",
    "library(reshape2)\n",
    "library(picante)\n",
    "library(ape)\n",
    "library(phyloseq)\n",
    "library(doParallel)\n"
   ]
  },
  {
   "cell_type": "markdown",
   "metadata": {
    "hide_input": true,
    "slideshow": {
     "slide_type": "skip"
    }
   },
   "source": [
    "# Set up distance matrices"
   ]
  },
  {
   "cell_type": "code",
   "execution_count": 3,
   "metadata": {
    "collapsed": true
   },
   "outputs": [],
   "source": [
    "%%R\n",
    "workDir = '/home/bryan/RhizCG/PhyDist/'\n",
    "treeFile = '/home/bryan/RhizCG/PhyDist/20160209_phylogeny.tre'\n",
    "NAMFile = '/home/bryan/RhizCG/PhyDist/NAM_founders_distanceMatrix_v2.txt'"
   ]
  },
  {
   "cell_type": "markdown",
   "metadata": {
    "slideshow": {
     "slide_type": "skip"
    }
   },
   "source": [
    "## Phylogenetic distances with expanded within species comparisons"
   ]
  },
  {
   "cell_type": "code",
   "execution_count": 4,
   "metadata": {
    "collapsed": false
   },
   "outputs": [
    {
     "data": {
      "text/plain": [
       "        FAGES   AMAPO   HELAN   ABUTH   GLYMA   SORBI     B73   ECHCG   SETFA\n",
       "FAGES 0.00000 0.23210 0.25302 0.27096 0.35879 0.43476 0.43787 0.43985 0.43592\n",
       "AMAPO 0.23210 0.00000 0.20952 0.22746 0.31529 0.39126 0.39437 0.39635 0.39242\n",
       "HELAN 0.25302 0.20952 0.00000 0.19116 0.27899 0.35496 0.35807 0.36005 0.35612\n",
       "ABUTH 0.27096 0.22746 0.19116 0.00000 0.24183 0.35370 0.35681 0.35879 0.35486\n",
       "GLYMA 0.35879 0.31529 0.27899 0.24183 0.00000 0.44153 0.44464 0.44662 0.44269\n",
       "SORBI 0.43476 0.39126 0.35496 0.35370 0.44153 0.00000 0.01153 0.03193 0.02800\n",
       "        ERATE   ELCOR  75-062    Oh7B    MS71     B97     H99   Il14H     Ki3\n",
       "FAGES 0.44622 0.44745 0.43787 0.43787 0.43787 0.43787 0.43787 0.43787 0.43787\n",
       "AMAPO 0.40272 0.40395 0.39437 0.39437 0.39437 0.39437 0.39437 0.39437 0.39437\n",
       "HELAN 0.36642 0.36765 0.35807 0.35807 0.35807 0.35807 0.35807 0.35807 0.35807\n",
       "ABUTH 0.36516 0.36639 0.35681 0.35681 0.35681 0.35681 0.35681 0.35681 0.35681\n",
       "GLYMA 0.45299 0.45422 0.44464 0.44464 0.44464 0.44464 0.44464 0.44464 0.44464\n",
       "SORBI 0.04656 0.04779 0.01153 0.01153 0.01153 0.01153 0.01153 0.01153 0.01153\n",
       "        Tx303   Hp301    Mo18  SORSUD\n",
       "FAGES 0.43787 0.43787 0.43787 0.43476\n",
       "AMAPO 0.39437 0.39437 0.39437 0.39126\n",
       "HELAN 0.35807 0.35807 0.35807 0.35496\n",
       "ABUTH 0.35681 0.35681 0.35681 0.35370\n",
       "GLYMA 0.44464 0.44464 0.44464 0.44153\n",
       "SORBI 0.01153 0.01153 0.01153 0.00020\n"
      ]
     },
     "metadata": {},
     "output_type": "display_data"
    }
   ],
   "source": [
    "%%R\n",
    "setwd(workDir)\n",
    "phy_expand = read.csv(file = \"phyDist_expanded.csv\", header = TRUE)\n",
    "colnames(phy_expand)[12] = \"75-062\"\n",
    "head(phy_expand)"
   ]
  },
  {
   "cell_type": "code",
   "execution_count": 5,
   "metadata": {
    "collapsed": false
   },
   "outputs": [],
   "source": [
    "%%R \n",
    "setwd(workDir)\n",
    "NAMdist = read.table(NAMFile, header = TRUE)\n",
    "\n",
    "#reorder so that NAMdist is in same order as log2fold change matrix\n",
    "NAMdist = NAMdist[c(1:6, 8, 7, 9, 10), c(1:6, 8, 7, 9, 10)]"
   ]
  },
  {
   "cell_type": "markdown",
   "metadata": {
    "slideshow": {
     "slide_type": "skip"
    }
   },
   "source": [
    "### Use melt to create a dataframe with species by species comparisons that will later be compared with plot by plot unifrac distances"
   ]
  },
  {
   "cell_type": "code",
   "execution_count": 6,
   "metadata": {
    "collapsed": false
   },
   "outputs": [
    {
     "data": {
      "text/plain": [
       "  PlantA PlantB phy_Dist   PlantComp\n",
       "1  FAGES  FAGES  0.00000 FAGES-FAGES\n",
       "2  AMAPO  FAGES  0.23210 AMAPO-FAGES\n",
       "3  HELAN  FAGES  0.25302 HELAN-FAGES\n",
       "4  ABUTH  FAGES  0.27096 ABUTH-FAGES\n",
       "5  GLYMA  FAGES  0.35879 GLYMA-FAGES\n",
       "6  SORBI  FAGES  0.43476 SORBI-FAGES\n"
      ]
     },
     "metadata": {},
     "output_type": "display_data"
    }
   ],
   "source": [
    "%%R\n",
    "pd.m = melt(as.matrix(phy_expand))\n",
    "\n",
    "#set column names and create comparison column\n",
    "colnames(pd.m) = c(\"PlantA\", \"PlantB\", \"phy_Dist\")\n",
    "pd.m$PlantComp = paste(pd.m$PlantA, pd.m$PlantB, sep = \"-\")\n",
    "pd.m %>% head\n"
   ]
  },
  {
   "cell_type": "markdown",
   "metadata": {
    "slideshow": {
     "slide_type": "skip"
    }
   },
   "source": [
    "## unifrac distances"
   ]
  },
  {
   "cell_type": "code",
   "execution_count": 7,
   "metadata": {
    "collapsed": false
   },
   "outputs": [
    {
     "data": {
      "text/plain": [
       "phyloseq-class experiment-level object\n",
       "otu_table()   OTU Table:         [ 4982 taxa and 87 samples ]\n",
       "sample_data() Sample Data:       [ 87 samples by 55 sample variables ]\n",
       "tax_table()   Taxonomy Table:    [ 4982 taxa by 8 taxonomic ranks ]\n",
       "phy_tree()    Phylogenetic Tree: [ 4982 tips and 4981 internal nodes ]\n"
      ]
     },
     "metadata": {},
     "output_type": "display_data"
    }
   ],
   "source": [
    "%%R\n",
    "F = file.path('/home/bryan/RhizCG/data/MiSeq_amplicon/MergedRuns/physeq/Full-Sparsity3in3_r')\n",
    "physeq.Full = readRDS(F)\n",
    "\n",
    "\n",
    "\n",
    "physeq.Full = filter_taxa(physeq.Full, function(x) sum(x > 0) > 0, TRUE)\n",
    "physeq.Nneg = subset_samples(physeq.Full, Plant != \"BARE\" & Treatment == \"Nneg\")\n",
    "physeq.Nneg   "
   ]
  },
  {
   "cell_type": "code",
   "execution_count": 8,
   "metadata": {
    "collapsed": false
   },
   "outputs": [],
   "source": [
    "%%R\n",
    "registerDoParallel(cores=28)\n",
    "wunif.dist = distance(physeq.Nneg, \n",
    "                      method = \"unifrac\", \n",
    "                      weighted = TRUE,\n",
    "                      fast = TRUE, \n",
    "                      parallel = TRUE, \n",
    "                      normalized = FALSE)"
   ]
  },
  {
   "cell_type": "code",
   "execution_count": 9,
   "metadata": {
    "collapsed": false,
    "hide_input": false
   },
   "outputs": [
    {
     "data": {
      "text/plain": [
       "                  sample5-1.22_Nneg sample4-2.02_Nneg sample4-4.21_Nneg\n",
       "sample5-1.22_Nneg         0.0000000         0.2069072         0.1605861\n",
       "sample4-2.02_Nneg         0.2069072         0.0000000         0.1853471\n",
       "sample4-4.21_Nneg         0.1605861         0.1853471         0.0000000\n",
       "sample5-2.29_Nneg         0.1505018         0.1881794         0.1816279\n",
       "sample5-2.06_Nneg         0.1332870         0.2056788         0.1890167\n",
       "sample1-2.23_Nneg         0.1635179         0.2520001         0.1917811\n",
       "                  sample5-2.29_Nneg sample5-2.06_Nneg sample1-2.23_Nneg\n",
       "sample5-1.22_Nneg         0.1505018         0.1332870         0.1635179\n",
       "sample4-2.02_Nneg         0.1881794         0.2056788         0.2520001\n",
       "sample4-4.21_Nneg         0.1816279         0.1890167         0.1917811\n",
       "sample5-2.29_Nneg         0.0000000         0.1162380         0.1563019\n",
       "sample5-2.06_Nneg         0.1162380         0.0000000         0.1837943\n",
       "sample1-2.23_Nneg         0.1563019         0.1837943         0.0000000\n",
       "                  sample6-2.26_Nneg sample6-3.18_Nneg sample5-3.13_Nneg\n",
       "sample5-1.22_Nneg         0.2115773         0.2095513         0.1851522\n",
       "sample4-2.02_Nneg         0.2347751         0.2039437         0.2031210\n",
       "sample4-4.21_Nneg         0.2217684         0.2191691         0.2074062\n",
       "sample5-2.29_Nneg         0.1543096         0.1532644         0.1341621\n",
       "sample5-2.06_Nneg         0.1544908         0.1652106         0.1293945\n",
       "sample1-2.23_Nneg         0.2366394         0.2296627         0.1967468\n",
       "                  sample2-2.08_Nneg sample5-1.17_Nneg sample3-2.03_Nneg\n",
       "sample5-1.22_Nneg         0.2445349         0.1928932         0.3570619\n",
       "sample4-2.02_Nneg         0.1732889         0.3011232         0.3168361\n",
       "sample4-4.21_Nneg         0.1947418         0.2278589         0.3249695\n",
       "sample5-2.29_Nneg         0.2144072         0.2100508         0.3697212\n",
       "sample5-2.06_Nneg         0.2221065         0.1832281         0.3622483\n",
       "sample1-2.23_Nneg         0.2722073         0.1929112         0.3991173\n",
       "                  sample5-4.08_Nneg sample1-4.24_Nneg sample5-4.28_Nneg\n",
       "sample5-1.22_Nneg         0.1990510         0.1852188         0.1616694\n",
       "sample4-2.02_Nneg         0.2277475         0.2943603         0.2138094\n",
       "sample4-4.21_Nneg         0.2252953         0.2117632         0.1433480\n",
       "sample5-2.29_Nneg         0.1315531         0.1993586         0.1784717\n",
       "sample5-2.06_Nneg         0.1474853         0.2205373         0.2045240\n",
       "sample1-2.23_Nneg         0.2008056         0.1200776         0.1892115\n",
       "                  sample6-2.13_Nneg sample4-1.03_Nneg sample6-1.15_Nneg\n",
       "sample5-1.22_Nneg         0.2656491         0.1745441         0.2354162\n",
       "sample4-2.02_Nneg         0.2684237         0.1517888         0.2393835\n",
       "sample4-4.21_Nneg         0.2602933         0.1509431         0.2410414\n",
       "sample5-2.29_Nneg         0.1946998         0.1768434         0.1723019\n",
       "sample5-2.06_Nneg         0.2060034         0.1827855         0.1736679\n",
       "sample1-2.23_Nneg         0.2574850         0.2074724         0.2444190\n",
       "                  sample5-2.11_Nneg sample6-4.12_Nneg sample5-1.25_Nneg\n",
       "sample5-1.22_Nneg         0.2122707         0.1783536         0.2019927\n",
       "sample4-2.02_Nneg         0.2611885         0.2086664         0.1899359\n",
       "sample4-4.21_Nneg         0.2436439         0.1470665         0.1877054\n",
       "sample5-2.29_Nneg         0.1482710         0.1793759         0.2307498\n",
       "sample5-2.06_Nneg         0.1641123         0.1774698         0.2293796\n",
       "sample1-2.23_Nneg         0.1902504         0.1845136         0.2630111\n",
       "                  sample6-3.04_Nneg sample5-3.27_Nneg sample5-3.11_Nneg\n",
       "sample5-1.22_Nneg         0.2204907         0.1645738         0.2127525\n",
       "sample4-2.02_Nneg         0.2536726         0.1721894         0.1914462\n",
       "sample4-4.21_Nneg         0.2180142         0.1515498         0.1743963\n",
       "sample5-2.29_Nneg         0.1585603         0.1383451         0.2371957\n",
       "sample5-2.06_Nneg         0.1786029         0.1423211         0.2515054\n",
       "sample1-2.23_Nneg         0.2216156         0.1982348         0.2394729\n",
       "                  sample3-3.06_Nneg sample2-3.05_Nneg sample5-4.06_Nneg\n",
       "sample5-1.22_Nneg         0.3431153         0.2617059         0.1564632\n",
       "sample4-2.02_Nneg         0.2929498         0.2147556         0.2416029\n",
       "sample4-4.21_Nneg         0.2853689         0.2046821         0.1603224\n",
       "sample5-2.29_Nneg         0.3197665         0.2540390         0.1828297\n",
       "sample5-2.06_Nneg         0.3139208         0.2582996         0.1990657\n",
       "sample1-2.23_Nneg         0.3534682         0.2932369         0.1580193\n",
       "                  sample6-4.17_Nneg sample5-4.05_Nneg sample6-1.07_Nneg\n",
       "sample5-1.22_Nneg         0.1904349         0.2121689         0.2560226\n",
       "sample4-2.02_Nneg         0.1956297         0.2643664         0.2516639\n",
       "sample4-4.21_Nneg         0.1367450         0.2258585         0.2440444\n",
       "sample5-2.29_Nneg         0.1995274         0.1529476         0.1953697\n",
       "sample5-2.06_Nneg         0.1973906         0.1636955         0.2000666\n",
       "sample1-2.23_Nneg         0.2229826         0.2002629         0.2742157\n",
       "                  sample5-2.18_Nneg sample5-3.16_Nneg sample3-4.15_Nneg\n",
       "sample5-1.22_Nneg         0.1976153         0.2768077         0.2690261\n",
       "sample4-2.02_Nneg         0.1709702         0.2763390         0.2363553\n",
       "sample4-4.21_Nneg         0.1706821         0.2695913         0.2033230\n",
       "sample5-2.29_Nneg         0.2197236         0.1946217         0.2269179\n",
       "sample5-2.06_Nneg         0.2329279         0.2081138         0.2269612\n",
       "sample1-2.23_Nneg         0.2401044         0.2670558         0.2848728\n",
       "                  sample6-4.30_Nneg sample6-1.12_Nneg sample6-2.16_Nneg\n",
       "sample5-1.22_Nneg         0.2467414         0.2409268         0.2709447\n",
       "sample4-2.02_Nneg         0.1713218         0.2194510         0.2790786\n",
       "sample4-4.21_Nneg         0.2030583         0.2398683         0.2794099\n",
       "sample5-2.29_Nneg         0.2166476         0.2028975         0.1995804\n",
       "sample5-2.06_Nneg         0.2232273         0.2064722         0.2075249\n",
       "sample1-2.23_Nneg         0.2949031         0.2900850         0.2807927\n",
       "                  sample5-3.17_Nneg sample5-4.09_Nneg sample2-1.08_Nneg\n",
       "sample5-1.22_Nneg         0.2314864         0.1970136         0.2804212\n",
       "sample4-2.02_Nneg         0.2085029         0.2109772         0.3064641\n",
       "sample4-4.21_Nneg         0.1972010         0.1699232         0.3154118\n",
       "sample5-2.29_Nneg         0.2383269         0.2400739         0.2322513\n",
       "sample5-2.06_Nneg         0.2485518         0.2470007         0.2130379\n",
       "sample1-2.23_Nneg         0.2746987         0.2415455         0.3010969\n",
       "                  sample6-3.01_Nneg sample5-1.16_Nneg sample1-1.27_Nneg\n",
       "sample5-1.22_Nneg         0.2043900         0.2663715         0.1894811\n",
       "sample4-2.02_Nneg         0.2418720         0.3276987         0.2863515\n",
       "sample4-4.21_Nneg         0.2055932         0.3085987         0.2110501\n",
       "sample5-2.29_Nneg         0.1600248         0.2187976         0.2038999\n",
       "sample5-2.06_Nneg         0.1687178         0.1939710         0.2270378\n",
       "sample1-2.23_Nneg         0.1976193         0.2777680         0.1466189\n",
       "                  sample4-3.10_Nneg sample5-1.29_Nneg sample5-2.15_Nneg\n",
       "sample5-1.22_Nneg         0.1752442         0.1698527         0.1490998\n",
       "sample4-2.02_Nneg         0.1547281         0.1970090         0.1593929\n",
       "sample4-4.21_Nneg         0.1267264         0.1648892         0.1479366\n",
       "sample5-2.29_Nneg         0.1717640         0.1854169         0.1538953\n",
       "sample5-2.06_Nneg         0.1774043         0.1979412         0.1607730\n",
       "sample1-2.23_Nneg         0.2130475         0.2196806         0.1982354\n",
       "                  sample1-3.08_Nneg sample3-1.09_Nneg sample2-4.25_Nneg\n",
       "sample5-1.22_Nneg        0.14721334         0.2572849         0.2715915\n",
       "sample4-2.02_Nneg        0.25543163         0.2032452         0.2168465\n",
       "sample4-4.21_Nneg        0.19178058         0.2121052         0.2330405\n",
       "sample5-2.29_Nneg        0.16731550         0.2068221         0.2678797\n",
       "sample5-2.06_Nneg        0.18364362         0.2070142         0.2699560\n",
       "sample1-2.23_Nneg        0.09806129         0.2820520         0.3143806\n",
       "                  sample8-2.07_Nneg sample7-4.02_Nneg sample8-4.23_Nneg\n",
       "sample5-1.22_Nneg         0.2869612         0.3456722         0.2603208\n",
       "sample4-2.02_Nneg         0.2836942         0.3353850         0.2912100\n",
       "sample4-4.21_Nneg         0.2717751         0.3642892         0.2594429\n",
       "sample5-2.29_Nneg         0.2306469         0.2748758         0.1869921\n",
       "sample5-2.06_Nneg         0.2457728         0.2743853         0.2007500\n",
       "sample1-2.23_Nneg         0.2486880         0.3393741         0.2445130\n",
       "                  sample7-3.19_Nneg sample3-4.18_Nneg sample6-1.18_Nneg\n",
       "sample5-1.22_Nneg         0.2900421         0.3199225         0.2748876\n",
       "sample4-2.02_Nneg         0.3199551         0.2961092         0.2783977\n",
       "sample4-4.21_Nneg         0.3086643         0.2649716         0.2817365\n",
       "sample5-2.29_Nneg         0.2236062         0.3067220         0.2138807\n",
       "sample5-2.06_Nneg         0.2204858         0.2947866         0.2221898\n",
       "sample1-2.23_Nneg         0.2906152         0.3317410         0.2747785\n",
       "                  sample7-2.12_Nneg sample7-2.28_Nneg sample2-2.10_Nneg\n",
       "sample5-1.22_Nneg         0.3197592         0.3386712         0.2658279\n",
       "sample4-2.02_Nneg         0.3559383         0.3838316         0.3263094\n",
       "sample4-4.21_Nneg         0.3458638         0.3754840         0.3174842\n",
       "sample5-2.29_Nneg         0.2527333         0.2836008         0.2600670\n",
       "sample5-2.06_Nneg         0.2487877         0.2598581         0.2324207\n",
       "sample1-2.23_Nneg         0.3229621         0.3441922         0.2890802\n",
       "                  sample8-2.25_Nneg sample6-3.09_Nneg sample2-3.20_Nneg\n",
       "sample5-1.22_Nneg         0.2234315         0.2133390         0.2115816\n",
       "sample4-2.02_Nneg         0.2445613         0.2634511         0.2286210\n",
       "sample4-4.21_Nneg         0.2081878         0.2195306         0.1823817\n",
       "sample5-2.29_Nneg         0.1801962         0.1861901         0.2090495\n",
       "sample5-2.06_Nneg         0.1985966         0.1990271         0.1998012\n",
       "sample1-2.23_Nneg         0.2060658         0.1812439         0.2318327\n",
       "                  sample8-4.07_Nneg sample8-3.23_Nneg sample7-1.13_Nneg\n",
       "sample5-1.22_Nneg         0.1908207         0.2470313         0.2535415\n",
       "sample4-2.02_Nneg         0.2325546         0.2574625         0.2838828\n",
       "sample4-4.21_Nneg         0.1950168         0.2453785         0.2661208\n",
       "sample5-2.29_Nneg         0.1437660         0.1680606         0.1778472\n",
       "sample5-2.06_Nneg         0.1593112         0.1839967         0.1952540\n",
       "sample1-2.23_Nneg         0.1840263         0.2527193         0.2468236\n",
       "                  sample7-2.30_Nneg sample8-1.14_Nneg sample3-1.20_Nneg\n",
       "sample5-1.22_Nneg         0.2039733         0.1742228         0.1893337\n",
       "sample4-2.02_Nneg         0.2434534         0.1686352         0.2687505\n",
       "sample4-4.21_Nneg         0.2355251         0.1495986         0.2084341\n",
       "sample5-2.29_Nneg         0.1568586         0.1842425         0.1796382\n",
       "sample5-2.06_Nneg         0.1521930         0.1884561         0.1961795\n",
       "sample1-2.23_Nneg         0.2081310         0.2123856         0.1592206\n",
       "                  sample7-1.04_Nneg sample8-1.19_Nneg sample7-3.12_Nneg\n",
       "sample5-1.22_Nneg         0.3339150         0.2919399         0.3277790\n",
       "sample4-2.02_Nneg         0.3727067         0.2888893         0.3300991\n",
       "sample4-4.21_Nneg         0.3534273         0.2900556         0.3304061\n",
       "sample5-2.29_Nneg         0.2713431         0.2605191         0.2449595\n",
       "sample5-2.06_Nneg         0.2736386         0.2684739         0.2546888\n",
       "sample1-2.23_Nneg         0.3209610         0.2803269         0.3184440\n",
       "                  sample7-4.03_Nneg sample7-1.28_Nneg sample7-3.25_Nneg\n",
       "sample5-1.22_Nneg         0.3984842         0.3953641         0.2554253\n",
       "sample4-2.02_Nneg         0.4012303         0.4073499         0.3061273\n",
       "sample4-4.21_Nneg         0.4156044         0.3999172         0.2841556\n",
       "sample5-2.29_Nneg         0.3236703         0.3163680         0.2009691\n",
       "sample5-2.06_Nneg         0.3357086         0.3202311         0.1801350\n",
       "sample1-2.23_Nneg         0.3825378         0.3804713         0.2501669\n",
       "                  sample2-1.24_Nneg sample8-1.10_Nneg sample8-4.01_Nneg\n",
       "sample5-1.22_Nneg         0.1935287         0.2399987         0.3054234\n",
       "sample4-2.02_Nneg         0.1932117         0.2658272         0.3114211\n",
       "sample4-4.21_Nneg         0.1603868         0.2444839         0.3000883\n",
       "sample5-2.29_Nneg         0.2145203         0.1798393         0.2767424\n",
       "sample5-2.06_Nneg         0.1990113         0.1845145         0.2908566\n",
       "sample1-2.23_Nneg         0.2488543         0.2345812         0.2861461\n",
       "                  sample8-2.17_Nneg sample8-2.22_Nneg sample8-3.29_Nneg\n",
       "sample5-1.22_Nneg         0.2588360         0.2073613         0.1982243\n",
       "sample4-2.02_Nneg         0.2467774         0.2581942         0.2223118\n",
       "sample4-4.21_Nneg         0.2671474         0.2154617         0.2201578\n",
       "sample5-2.29_Nneg         0.1843088         0.1549383         0.1461368\n",
       "sample5-2.06_Nneg         0.1989534         0.1724363         0.1615725\n",
       "sample1-2.23_Nneg         0.2725193         0.1818887         0.1804932\n",
       "                  sample8-3.28_Nneg sample6-4.13_Nneg sample3-2.19_Nneg\n",
       "sample5-1.22_Nneg         0.1690040         0.2188510         0.2544177\n",
       "sample4-2.02_Nneg         0.1971534         0.2649797         0.2057517\n",
       "sample4-4.21_Nneg         0.1829096         0.2285904         0.2064920\n",
       "sample5-2.29_Nneg         0.1557873         0.1616726         0.2155586\n",
       "sample5-2.06_Nneg         0.1498202         0.1762317         0.2073235\n",
       "sample1-2.23_Nneg         0.1937285         0.2136124         0.2793532\n",
       "                  sample8-1.23_Nneg sample6-2.14_Nneg sample8-4.04_Nneg\n",
       "sample5-1.22_Nneg         0.2459469         0.2327579         0.3109770\n",
       "sample4-2.02_Nneg         0.2511797         0.2188128         0.3104084\n",
       "sample4-4.21_Nneg         0.2510528         0.2144106         0.3131513\n",
       "sample5-2.29_Nneg         0.1764434         0.1995018         0.2414760\n",
       "sample5-2.06_Nneg         0.1893047         0.1998390         0.2469071\n",
       "sample1-2.23_Nneg         0.2364199         0.2500176         0.3015378\n",
       "                  sample3-3.30_Nneg sample7-4.14_Nneg sample8-3.03_Nneg\n",
       "sample5-1.22_Nneg         0.2598062         0.3279493         0.2410838\n",
       "sample4-2.02_Nneg         0.2597482         0.3689659         0.2691546\n",
       "sample4-4.21_Nneg         0.2236680         0.3582856         0.2402530\n",
       "sample5-2.29_Nneg         0.2441796         0.2710566         0.2118174\n",
       "sample5-2.06_Nneg         0.2465922         0.2597509         0.2240846\n",
       "sample1-2.23_Nneg         0.2664108         0.3324005         0.1982628\n"
      ]
     },
     "metadata": {},
     "output_type": "display_data"
    }
   ],
   "source": [
    "%%R\n",
    "as.matrix(wunif.dist) %>% head"
   ]
  },
  {
   "cell_type": "markdown",
   "metadata": {},
   "source": [
    "## Add identifiers and join tables "
   ]
  },
  {
   "cell_type": "code",
   "execution_count": 10,
   "metadata": {
    "collapsed": false
   },
   "outputs": [
    {
     "data": {
      "text/plain": [
       " [1] \"X.sample\"            \"Library\"             \"Primer_Plate\"       \n",
       " [4] \"Primer_Well_ID\"      \"primerFR_ID_byPlate\" \"primerFR_ID_total\"  \n",
       " [7] \"barcode_ID\"          \"PlotID\"              \"Plant\"              \n",
       "[10] \"Plot\"                \"Treatment\"           \"Rep\"                \n",
       "[13] \"DAP\"                 \"Sampling\"            \"PlantSample\"        \n",
       "[16] \"Type\"                \"Grass_Broad\"         \"Status\"             \n",
       "[19] \"Subfamily\"           \"fwd_barcode\"         \"rev_barcode\"        \n",
       "[22] \"Planted\"             \"Biomass_P\"           \"SLA\"                \n",
       "[25] \"Leaf_N\"              \"Leaf_C\"              \"LeafC_N\"            \n",
       "[28] \"LNa\"                 \"Plant_N\"             \"Plant_C\"            \n",
       "[31] \"Plant_CN\"            \"d15N\"                \"tN_p\"               \n",
       "[34] \"BX_activity_g\"       \"CB_activity_g\"       \"LAP_activity_g\"     \n",
       "[37] \"NAG_activity_g\"      \"BX_rel\"              \"CB_rel\"             \n",
       "[40] \"LAP_rel\"             \"NAG_rel\"             \"NO3_ug_g\"           \n",
       "[43] \"NH4_ug_g\"            \"InorganicN\"          \"Resid_logB\"         \n",
       "[46] \"Resid_logN\"          \"Resid_logCN\"         \"Resid_logSLA\"       \n",
       "[49] \"Resid_LeafN\"         \"A_Resid_logB\"        \"A_Resid_logN\"       \n",
       "[52] \"A_Resid_logCN\"       \"M_Resid_logB\"        \"M_Resid_logN\"       \n",
       "[55] \"M_Resid_logCN\"      \n"
      ]
     },
     "metadata": {},
     "output_type": "display_data"
    }
   ],
   "source": [
    "%%R\n",
    "sd = sample_data(physeq.Nneg)\n",
    "colnames(sd)"
   ]
  },
  {
   "cell_type": "code",
   "execution_count": 11,
   "metadata": {
    "collapsed": false
   },
   "outputs": [
    {
     "data": {
      "text/plain": [
       "               Var1              Var2     value\n",
       "1 sample5-1.22_Nneg sample5-1.22_Nneg 0.0000000\n",
       "2 sample4-2.02_Nneg sample5-1.22_Nneg 0.2069072\n",
       "3 sample4-4.21_Nneg sample5-1.22_Nneg 0.1605861\n",
       "4 sample5-2.29_Nneg sample5-1.22_Nneg 0.1505018\n",
       "5 sample5-2.06_Nneg sample5-1.22_Nneg 0.1332870\n",
       "6 sample1-2.23_Nneg sample5-1.22_Nneg 0.1635179\n",
       "[1] 7569    3\n",
       "              PlotA             PlotB w_Unif_Dist  Plant\n",
       "1 sample5-1.22_Nneg sample5-1.22_Nneg   0.0000000 75-062\n",
       "2 sample4-2.02_Nneg sample5-1.22_Nneg   0.2069072  SETFA\n",
       "3 sample4-4.21_Nneg sample5-1.22_Nneg   0.1605861  SETFA\n",
       "4 sample5-2.29_Nneg sample5-1.22_Nneg   0.1505018 75-062\n",
       "5 sample5-2.06_Nneg sample5-1.22_Nneg   0.1332870   MS71\n",
       "6 sample1-2.23_Nneg sample5-1.22_Nneg   0.1635179  FAGES\n",
       "              PlotA             PlotB w_Unif_Dist PlantA  Plant\n",
       "1 sample5-1.22_Nneg sample5-1.22_Nneg   0.0000000 75-062 75-062\n",
       "2 sample4-2.02_Nneg sample5-1.22_Nneg   0.2069072  SETFA 75-062\n",
       "3 sample4-4.21_Nneg sample5-1.22_Nneg   0.1605861  SETFA 75-062\n",
       "4 sample5-2.29_Nneg sample5-1.22_Nneg   0.1505018 75-062 75-062\n",
       "5 sample5-2.06_Nneg sample5-1.22_Nneg   0.1332870   MS71 75-062\n",
       "6 sample1-2.23_Nneg sample5-1.22_Nneg   0.1635179  FAGES 75-062\n",
       "              PlotA             PlotB w_Unif_Dist PlantA PlantB     PlantComp\n",
       "1 sample5-1.22_Nneg sample5-1.22_Nneg   0.0000000 75-062 75-062 75-062-75-062\n",
       "2 sample4-2.02_Nneg sample5-1.22_Nneg   0.2069072  SETFA 75-062  SETFA-75-062\n",
       "3 sample4-4.21_Nneg sample5-1.22_Nneg   0.1605861  SETFA 75-062  SETFA-75-062\n",
       "4 sample5-2.29_Nneg sample5-1.22_Nneg   0.1505018 75-062 75-062 75-062-75-062\n",
       "5 sample5-2.06_Nneg sample5-1.22_Nneg   0.1332870   MS71 75-062   MS71-75-062\n",
       "6 sample1-2.23_Nneg sample5-1.22_Nneg   0.1635179  FAGES 75-062  FAGES-75-062\n",
       "  DateA DAP\n",
       "1    72  72\n",
       "2    61  72\n",
       "3    61  72\n",
       "4    72  72\n",
       "5    72  72\n",
       "6    36  72\n",
       "              PlotA             PlotB w_Unif_Dist PlantA PlantB     PlantComp\n",
       "1 sample5-1.22_Nneg sample5-1.22_Nneg   0.0000000 75-062 75-062 75-062-75-062\n",
       "2 sample4-2.02_Nneg sample5-1.22_Nneg   0.2069072  SETFA 75-062  SETFA-75-062\n",
       "3 sample4-4.21_Nneg sample5-1.22_Nneg   0.1605861  SETFA 75-062  SETFA-75-062\n",
       "4 sample5-2.29_Nneg sample5-1.22_Nneg   0.1505018 75-062 75-062 75-062-75-062\n",
       "5 sample5-2.06_Nneg sample5-1.22_Nneg   0.1332870   MS71 75-062   MS71-75-062\n",
       "6 sample1-2.23_Nneg sample5-1.22_Nneg   0.1635179  FAGES 75-062  FAGES-75-062\n",
       "  DateA DateB TimeDist\n",
       "1    72    72        0\n",
       "2    61    72       11\n",
       "3    61    72       11\n",
       "4    72    72        0\n",
       "5    72    72        0\n",
       "6    36    72       36\n"
      ]
     },
     "metadata": {},
     "output_type": "display_data"
    }
   ],
   "source": [
    "%%R\n",
    "\n",
    "\n",
    "ud.m = melt(as.matrix(wunif.dist))\n",
    "head(ud.m) %>% print\n",
    "dim(ud.m) %>% print\n",
    "colnames(ud.m) = c(\"PlotA\", \"PlotB\", \"w_Unif_Dist\")\n",
    "\n",
    "#Join with plant names\n",
    "ud.m = left_join(ud.m, sd[, c(1,9)], by = c(\"PlotA\" = \"X.sample\"))\n",
    "head(ud.m) %>% print\n",
    "colnames(ud.m)[4] = \"PlantA\"\n",
    "\n",
    "ud.m = left_join(ud.m, sd[, c(1,9)], by = c(\"PlotB\" = \"X.sample\"))\n",
    "head(ud.m) %>% print\n",
    "colnames(ud.m)[5] = \"PlantB\"\n",
    "ud.m$PlantComp = paste(ud.m$PlantA, ud.m$PlantB, sep = \"-\")\n",
    "\n",
    "#Join wit days after planting\n",
    "ud.m = left_join(ud.m, sd[, c(1,13)], by = c(\"PlotA\" = \"X.sample\"))\n",
    "\n",
    "colnames(ud.m)[7] = \"DateA\"\n",
    "\n",
    "ud.m = left_join(ud.m, sd[, c(1,13)], by = c(\"PlotB\" = \"X.sample\"))\n",
    "head(ud.m) %>% print\n",
    "colnames(ud.m)[8] = \"DateB\"\n",
    "\n",
    "#Time distance variable\n",
    "ud.m$TimeDist = abs(ud.m$DateB - ud.m$DateA)\n",
    "\n",
    "head(ud.m)\n"
   ]
  },
  {
   "cell_type": "code",
   "execution_count": 12,
   "metadata": {
    "collapsed": false
   },
   "outputs": [
    {
     "data": {
      "text/plain": [
       "              PlotA             PlotB w_Unif_Dist PlantA PlantB     PlantComp\n",
       "1 sample5-1.22_Nneg sample5-1.22_Nneg   0.0000000 75-062 75-062 75-062-75-062\n",
       "2 sample4-2.02_Nneg sample5-1.22_Nneg   0.2069072  SETFA 75-062  SETFA-75-062\n",
       "3 sample4-4.21_Nneg sample5-1.22_Nneg   0.1605861  SETFA 75-062  SETFA-75-062\n",
       "4 sample5-2.29_Nneg sample5-1.22_Nneg   0.1505018 75-062 75-062 75-062-75-062\n",
       "5 sample5-2.06_Nneg sample5-1.22_Nneg   0.1332870   MS71 75-062   MS71-75-062\n",
       "6 sample1-2.23_Nneg sample5-1.22_Nneg   0.1635179  FAGES 75-062  FAGES-75-062\n",
       "  DateA DateB TimeDist                            PlotComp\n",
       "1    72    72        0 sample5-1.22_Nneg-sample5-1.22_Nneg\n",
       "2    61    72       11 sample4-2.02_Nneg-sample5-1.22_Nneg\n",
       "3    61    72       11 sample4-4.21_Nneg-sample5-1.22_Nneg\n",
       "4    72    72        0 sample5-2.29_Nneg-sample5-1.22_Nneg\n",
       "5    72    72        0 sample5-2.06_Nneg-sample5-1.22_Nneg\n",
       "6    36    72       36 sample1-2.23_Nneg-sample5-1.22_Nneg\n"
      ]
     },
     "metadata": {},
     "output_type": "display_data"
    }
   ],
   "source": [
    "%%R\n",
    "#Create plot-plot variable for joining with functional distance matrix\n",
    "ud.m$PlotComp = paste(ud.m$PlotA, ud.m$PlotB, sep = \"-\")\n",
    "head(ud.m) %>% print"
   ]
  },
  {
   "cell_type": "code",
   "execution_count": 13,
   "metadata": {
    "collapsed": false
   },
   "outputs": [
    {
     "data": {
      "text/plain": [
       "              PlotA             PlotB w_Unif_Dist PlantA PlantB     PlantComp\n",
       "1 sample5-1.22_Nneg sample5-1.22_Nneg   0.0000000 75-062 75-062 75-062-75-062\n",
       "2 sample4-2.02_Nneg sample5-1.22_Nneg   0.2069072  SETFA 75-062  SETFA-75-062\n",
       "3 sample4-4.21_Nneg sample5-1.22_Nneg   0.1605861  SETFA 75-062  SETFA-75-062\n",
       "4 sample5-2.29_Nneg sample5-1.22_Nneg   0.1505018 75-062 75-062 75-062-75-062\n",
       "5 sample5-2.06_Nneg sample5-1.22_Nneg   0.1332870   MS71 75-062   MS71-75-062\n",
       "6 sample1-2.23_Nneg sample5-1.22_Nneg   0.1635179  FAGES 75-062  FAGES-75-062\n",
       "  DateA DateB TimeDist                            PlotComp\n",
       "1    72    72        0 sample5-1.22_Nneg-sample5-1.22_Nneg\n",
       "2    61    72       11 sample4-2.02_Nneg-sample5-1.22_Nneg\n",
       "3    61    72       11 sample4-4.21_Nneg-sample5-1.22_Nneg\n",
       "4    72    72        0 sample5-2.29_Nneg-sample5-1.22_Nneg\n",
       "5    72    72        0 sample5-2.06_Nneg-sample5-1.22_Nneg\n",
       "6    36    72       36 sample1-2.23_Nneg-sample5-1.22_Nneg\n"
      ]
     },
     "metadata": {},
     "output_type": "display_data"
    }
   ],
   "source": [
    "%%R\n",
    "head(ud.m)"
   ]
  },
  {
   "cell_type": "markdown",
   "metadata": {},
   "source": [
    "## Join unifrac and plant phylogenetic distance; PrimeDist can be used with other subsets of data"
   ]
  },
  {
   "cell_type": "code",
   "execution_count": 14,
   "metadata": {
    "collapsed": false,
    "scrolled": true
   },
   "outputs": [
    {
     "data": {
      "text/plain": [
       "                 PlotA             PlotB w_Unif_Dist PlantA PlantB   PlantComp\n",
       "7564 sample8-1.23_Nneg sample8-3.03_Nneg   0.1984166    Ki3  ELCOR   Ki3-ELCOR\n",
       "7565 sample6-2.14_Nneg sample8-3.03_Nneg   0.2503097  Hp301  ELCOR Hp301-ELCOR\n",
       "7566 sample8-4.04_Nneg sample8-3.03_Nneg   0.2377478   Mo18  ELCOR  Mo18-ELCOR\n",
       "7567 sample3-3.30_Nneg sample8-3.03_Nneg   0.2233484  ABUTH  ELCOR ABUTH-ELCOR\n",
       "7568 sample7-4.14_Nneg sample8-3.03_Nneg   0.2893173  SORBI  ELCOR SORBI-ELCOR\n",
       "7569 sample8-3.03_Nneg sample8-3.03_Nneg   0.0000000  ELCOR  ELCOR ELCOR-ELCOR\n",
       "     DateA DateB TimeDist                            PlotComp phy_Dist Self\n",
       "7564    88    88        0 sample8-1.23_Nneg-sample8-3.03_Nneg  0.05090    1\n",
       "7565    79    88        9 sample6-2.14_Nneg-sample8-3.03_Nneg  0.05090    1\n",
       "7566    88    88        0 sample8-4.04_Nneg-sample8-3.03_Nneg  0.05090    1\n",
       "7567    57    88       31 sample3-3.30_Nneg-sample8-3.03_Nneg  0.36639    1\n",
       "7568    84    88        4 sample7-4.14_Nneg-sample8-3.03_Nneg  0.04779    1\n",
       "7569    88    88        0 sample8-3.03_Nneg-sample8-3.03_Nneg  0.00000    0\n"
      ]
     },
     "metadata": {},
     "output_type": "display_data"
    }
   ],
   "source": [
    "%%R\n",
    "PrimeDist = left_join(ud.m, pd.m[,c(3,4)], by = \"PlantComp\")\n",
    "\n",
    "\n",
    "# add self/non-self comparisons\n",
    "PrimeDist$Self =  ifelse(PrimeDist$phy_Dist == 0, 0, 1)\n",
    "        \n",
    "\n",
    "tail(PrimeDist) %>% print\n",
    "    "
   ]
  },
  {
   "cell_type": "markdown",
   "metadata": {},
   "source": [
    "# Mantel test of phylogenetic distance and microbial community distance"
   ]
  },
  {
   "cell_type": "markdown",
   "metadata": {},
   "source": [
    "## Set up distance matrices"
   ]
  },
  {
   "cell_type": "code",
   "execution_count": 15,
   "metadata": {
    "collapsed": false
   },
   "outputs": [
    {
     "data": {
      "text/plain": [
       " [1] \"PlotA\"       \"PlotB\"       \"w_Unif_Dist\" \"PlantA\"      \"PlantB\"     \n",
       " [6] \"PlantComp\"   \"DateA\"       \"DateB\"       \"TimeDist\"    \"PlotComp\"   \n",
       "[11] \"phy_Dist\"    \"Self\"       \n"
      ]
     },
     "metadata": {},
     "output_type": "display_data"
    }
   ],
   "source": [
    "%%R\n",
    "colnames(PrimeDist)"
   ]
  },
  {
   "cell_type": "code",
   "execution_count": 16,
   "metadata": {
    "collapsed": false
   },
   "outputs": [
    {
     "name": "stderr",
     "output_type": "stream",
     "text": [
      "/opt/anaconda/lib/python2.7/site-packages/rpy2/robjects/functions.py:106: UserWarning: Using w_Unif_Dist as value column: use value.var to override.\n",
      "\n",
      "  res = super(Function, self).__call__(*new_args, **new_kwargs)\n",
      "/opt/anaconda/lib/python2.7/site-packages/rpy2/robjects/functions.py:106: UserWarning: Using phy_Dist as value column: use value.var to override.\n",
      "\n",
      "  res = super(Function, self).__call__(*new_args, **new_kwargs)\n",
      "/opt/anaconda/lib/python2.7/site-packages/rpy2/robjects/functions.py:106: UserWarning: Using Self as value column: use value.var to override.\n",
      "\n",
      "  res = super(Function, self).__call__(*new_args, **new_kwargs)\n",
      "/opt/anaconda/lib/python2.7/site-packages/rpy2/robjects/functions.py:106: UserWarning: Using TimeDist as value column: use value.var to override.\n",
      "\n",
      "  res = super(Function, self).__call__(*new_args, **new_kwargs)\n"
     ]
    },
    {
     "data": {
      "text/plain": [
       "              PlotA             PlotB w_Unif_Dist PlantA PlantB     PlantComp\n",
       "1 sample5-1.22_Nneg sample5-1.22_Nneg   0.0000000 75-062 75-062 75-062-75-062\n",
       "2 sample4-2.02_Nneg sample5-1.22_Nneg   0.2069072  SETFA 75-062  SETFA-75-062\n",
       "3 sample4-4.21_Nneg sample5-1.22_Nneg   0.1605861  SETFA 75-062  SETFA-75-062\n",
       "4 sample5-2.29_Nneg sample5-1.22_Nneg   0.1505018 75-062 75-062 75-062-75-062\n",
       "5 sample5-2.06_Nneg sample5-1.22_Nneg   0.1332870   MS71 75-062   MS71-75-062\n",
       "6 sample1-2.23_Nneg sample5-1.22_Nneg   0.1635179  FAGES 75-062  FAGES-75-062\n",
       "  DateA DateB TimeDist                            PlotComp phy_Dist Self\n",
       "1    72    72        0 sample5-1.22_Nneg-sample5-1.22_Nneg  0.00000    0\n",
       "2    61    72       11 sample4-2.02_Nneg-sample5-1.22_Nneg  0.03111    1\n",
       "3    61    72       11 sample4-4.21_Nneg-sample5-1.22_Nneg  0.03111    1\n",
       "4    72    72        0 sample5-2.29_Nneg-sample5-1.22_Nneg  0.00000    0\n",
       "5    72    72        0 sample5-2.06_Nneg-sample5-1.22_Nneg  0.00020    1\n",
       "6    36    72       36 sample1-2.23_Nneg-sample5-1.22_Nneg  0.43787    1\n"
      ]
     },
     "metadata": {},
     "output_type": "display_data"
    }
   ],
   "source": [
    "%%R\n",
    "head(PrimeDist) %>% print\n",
    "#Remove NAs to trim dataset\n",
    "#Temp = Dist[!is.na(Dist$phy_Dist),]\n",
    "#dim(Temp) %>% print\n",
    "\n",
    "#Seperate unifrac and phylogenetic distances retaining plot IDs\n",
    "U = PrimeDist[,c(1,2,3)]\n",
    "Phy = PrimeDist[,c(1,2,11)]\n",
    "Self = PrimeDist[,c(1,2,12)]\n",
    "T = PrimeDist[,c(1,2,9)]\n",
    "\n",
    "#Re-cast longform to wide form.  \n",
    "\n",
    "Udist = acast(U, PlotA~PlotB)\n",
    "Phydist = acast(Phy, PlotA~PlotB)\n",
    "Sdist = acast(Self, PlotA~PlotB)\n",
    "Tdist = acast(T, PlotA~PlotB) \n",
    "\n",
    "#Convert to distance matrices\n",
    "Phydist = as.matrix(Phydist) \n",
    "Udist = as.matrix(Udist)  \n",
    "Sdist = as.matrix(Sdist) \n",
    "Tdist = as.matrix(Tdist) "
   ]
  },
  {
   "cell_type": "code",
   "execution_count": 17,
   "metadata": {
    "collapsed": false
   },
   "outputs": [
    {
     "data": {
      "text/plain": [
       "                  sample1-1.27_Nneg sample1-2.23_Nneg sample1-3.08_Nneg\n",
       "sample1-1.27_Nneg                 0                 0                 0\n",
       "sample1-2.23_Nneg                 0                 0                 0\n",
       "sample1-3.08_Nneg                 0                 0                 0\n",
       "sample1-4.24_Nneg                 0                 0                 0\n",
       "sample2-1.08_Nneg                 1                 1                 1\n",
       "sample2-1.24_Nneg                 1                 1                 1\n",
       "                  sample1-4.24_Nneg sample2-1.08_Nneg sample2-1.24_Nneg\n",
       "sample1-1.27_Nneg                 0                 1                 1\n",
       "sample1-2.23_Nneg                 0                 1                 1\n",
       "sample1-3.08_Nneg                 0                 1                 1\n",
       "sample1-4.24_Nneg                 0                 1                 1\n",
       "sample2-1.08_Nneg                 1                 0                 1\n",
       "sample2-1.24_Nneg                 1                 1                 0\n",
       "                  sample2-2.08_Nneg sample2-2.10_Nneg sample2-3.05_Nneg\n",
       "sample1-1.27_Nneg                 1                 1                 1\n",
       "sample1-2.23_Nneg                 1                 1                 1\n",
       "sample1-3.08_Nneg                 1                 1                 1\n",
       "sample1-4.24_Nneg                 1                 1                 1\n",
       "sample2-1.08_Nneg                 0                 1                 0\n",
       "sample2-1.24_Nneg                 1                 0                 1\n",
       "                  sample2-3.20_Nneg sample2-4.25_Nneg sample3-1.09_Nneg\n",
       "sample1-1.27_Nneg                 1                 1                 1\n",
       "sample1-2.23_Nneg                 1                 1                 1\n",
       "sample1-3.08_Nneg                 1                 1                 1\n",
       "sample1-4.24_Nneg                 1                 1                 1\n",
       "sample2-1.08_Nneg                 1                 0                 1\n",
       "sample2-1.24_Nneg                 0                 1                 1\n",
       "                  sample3-1.20_Nneg sample3-2.03_Nneg sample3-2.19_Nneg\n",
       "sample1-1.27_Nneg                 1                 1                 1\n",
       "sample1-2.23_Nneg                 1                 1                 1\n",
       "sample1-3.08_Nneg                 1                 1                 1\n",
       "sample1-4.24_Nneg                 1                 1                 1\n",
       "sample2-1.08_Nneg                 1                 1                 1\n",
       "sample2-1.24_Nneg                 1                 1                 1\n",
       "                  sample3-3.06_Nneg sample3-3.30_Nneg sample3-4.15_Nneg\n",
       "sample1-1.27_Nneg                 1                 1                 1\n",
       "sample1-2.23_Nneg                 1                 1                 1\n",
       "sample1-3.08_Nneg                 1                 1                 1\n",
       "sample1-4.24_Nneg                 1                 1                 1\n",
       "sample2-1.08_Nneg                 1                 1                 1\n",
       "sample2-1.24_Nneg                 1                 1                 1\n",
       "                  sample3-4.18_Nneg sample4-1.03_Nneg sample4-2.02_Nneg\n",
       "sample1-1.27_Nneg                 1                 1                 1\n",
       "sample1-2.23_Nneg                 1                 1                 1\n",
       "sample1-3.08_Nneg                 1                 1                 1\n",
       "sample1-4.24_Nneg                 1                 1                 1\n",
       "sample2-1.08_Nneg                 1                 1                 1\n",
       "sample2-1.24_Nneg                 1                 1                 1\n",
       "                  sample4-3.10_Nneg sample4-4.21_Nneg sample5-1.16_Nneg\n",
       "sample1-1.27_Nneg                 1                 1                 1\n",
       "sample1-2.23_Nneg                 1                 1                 1\n",
       "sample1-3.08_Nneg                 1                 1                 1\n",
       "sample1-4.24_Nneg                 1                 1                 1\n",
       "sample2-1.08_Nneg                 1                 1                 1\n",
       "sample2-1.24_Nneg                 1                 1                 1\n",
       "                  sample5-1.17_Nneg sample5-1.22_Nneg sample5-1.25_Nneg\n",
       "sample1-1.27_Nneg                 1                 1                 1\n",
       "sample1-2.23_Nneg                 1                 1                 1\n",
       "sample1-3.08_Nneg                 1                 1                 1\n",
       "sample1-4.24_Nneg                 1                 1                 1\n",
       "sample2-1.08_Nneg                 1                 1                 1\n",
       "sample2-1.24_Nneg                 1                 1                 1\n",
       "                  sample5-1.29_Nneg sample5-2.06_Nneg sample5-2.11_Nneg\n",
       "sample1-1.27_Nneg                 1                 1                 1\n",
       "sample1-2.23_Nneg                 1                 1                 1\n",
       "sample1-3.08_Nneg                 1                 1                 1\n",
       "sample1-4.24_Nneg                 1                 1                 1\n",
       "sample2-1.08_Nneg                 1                 1                 1\n",
       "sample2-1.24_Nneg                 1                 1                 1\n",
       "                  sample5-2.15_Nneg sample5-2.18_Nneg sample5-2.29_Nneg\n",
       "sample1-1.27_Nneg                 1                 1                 1\n",
       "sample1-2.23_Nneg                 1                 1                 1\n",
       "sample1-3.08_Nneg                 1                 1                 1\n",
       "sample1-4.24_Nneg                 1                 1                 1\n",
       "sample2-1.08_Nneg                 1                 1                 1\n",
       "sample2-1.24_Nneg                 1                 1                 1\n",
       "                  sample5-3.11_Nneg sample5-3.13_Nneg sample5-3.16_Nneg\n",
       "sample1-1.27_Nneg                 1                 1                 1\n",
       "sample1-2.23_Nneg                 1                 1                 1\n",
       "sample1-3.08_Nneg                 1                 1                 1\n",
       "sample1-4.24_Nneg                 1                 1                 1\n",
       "sample2-1.08_Nneg                 1                 1                 1\n",
       "sample2-1.24_Nneg                 1                 1                 1\n",
       "                  sample5-3.17_Nneg sample5-3.27_Nneg sample5-4.05_Nneg\n",
       "sample1-1.27_Nneg                 1                 1                 1\n",
       "sample1-2.23_Nneg                 1                 1                 1\n",
       "sample1-3.08_Nneg                 1                 1                 1\n",
       "sample1-4.24_Nneg                 1                 1                 1\n",
       "sample2-1.08_Nneg                 1                 1                 1\n",
       "sample2-1.24_Nneg                 1                 1                 1\n",
       "                  sample5-4.06_Nneg sample5-4.08_Nneg sample5-4.09_Nneg\n",
       "sample1-1.27_Nneg                 1                 1                 1\n",
       "sample1-2.23_Nneg                 1                 1                 1\n",
       "sample1-3.08_Nneg                 1                 1                 1\n",
       "sample1-4.24_Nneg                 1                 1                 1\n",
       "sample2-1.08_Nneg                 1                 1                 1\n",
       "sample2-1.24_Nneg                 1                 1                 1\n",
       "                  sample5-4.28_Nneg sample6-1.07_Nneg sample6-1.12_Nneg\n",
       "sample1-1.27_Nneg                 1                 1                 1\n",
       "sample1-2.23_Nneg                 1                 1                 1\n",
       "sample1-3.08_Nneg                 1                 1                 1\n",
       "sample1-4.24_Nneg                 1                 1                 1\n",
       "sample2-1.08_Nneg                 1                 1                 1\n",
       "sample2-1.24_Nneg                 1                 1                 1\n",
       "                  sample6-1.15_Nneg sample6-1.18_Nneg sample6-2.13_Nneg\n",
       "sample1-1.27_Nneg                 1                 1                 1\n",
       "sample1-2.23_Nneg                 1                 1                 1\n",
       "sample1-3.08_Nneg                 1                 1                 1\n",
       "sample1-4.24_Nneg                 1                 1                 1\n",
       "sample2-1.08_Nneg                 1                 1                 1\n",
       "sample2-1.24_Nneg                 1                 1                 1\n",
       "                  sample6-2.14_Nneg sample6-2.16_Nneg sample6-2.26_Nneg\n",
       "sample1-1.27_Nneg                 1                 1                 1\n",
       "sample1-2.23_Nneg                 1                 1                 1\n",
       "sample1-3.08_Nneg                 1                 1                 1\n",
       "sample1-4.24_Nneg                 1                 1                 1\n",
       "sample2-1.08_Nneg                 1                 1                 1\n",
       "sample2-1.24_Nneg                 1                 1                 1\n",
       "                  sample6-3.01_Nneg sample6-3.04_Nneg sample6-3.09_Nneg\n",
       "sample1-1.27_Nneg                 1                 1                 1\n",
       "sample1-2.23_Nneg                 1                 1                 1\n",
       "sample1-3.08_Nneg                 1                 1                 1\n",
       "sample1-4.24_Nneg                 1                 1                 1\n",
       "sample2-1.08_Nneg                 1                 1                 1\n",
       "sample2-1.24_Nneg                 1                 1                 1\n",
       "                  sample6-3.18_Nneg sample6-4.12_Nneg sample6-4.13_Nneg\n",
       "sample1-1.27_Nneg                 1                 1                 1\n",
       "sample1-2.23_Nneg                 1                 1                 1\n",
       "sample1-3.08_Nneg                 1                 1                 1\n",
       "sample1-4.24_Nneg                 1                 1                 1\n",
       "sample2-1.08_Nneg                 1                 1                 1\n",
       "sample2-1.24_Nneg                 1                 1                 1\n",
       "                  sample6-4.17_Nneg sample6-4.30_Nneg sample7-1.04_Nneg\n",
       "sample1-1.27_Nneg                 1                 1                 1\n",
       "sample1-2.23_Nneg                 1                 1                 1\n",
       "sample1-3.08_Nneg                 1                 1                 1\n",
       "sample1-4.24_Nneg                 1                 1                 1\n",
       "sample2-1.08_Nneg                 1                 1                 1\n",
       "sample2-1.24_Nneg                 1                 1                 1\n",
       "                  sample7-1.13_Nneg sample7-1.28_Nneg sample7-2.12_Nneg\n",
       "sample1-1.27_Nneg                 1                 1                 1\n",
       "sample1-2.23_Nneg                 1                 1                 1\n",
       "sample1-3.08_Nneg                 1                 1                 1\n",
       "sample1-4.24_Nneg                 1                 1                 1\n",
       "sample2-1.08_Nneg                 1                 1                 1\n",
       "sample2-1.24_Nneg                 1                 1                 1\n",
       "                  sample7-2.28_Nneg sample7-2.30_Nneg sample7-3.12_Nneg\n",
       "sample1-1.27_Nneg                 1                 1                 1\n",
       "sample1-2.23_Nneg                 1                 1                 1\n",
       "sample1-3.08_Nneg                 1                 1                 1\n",
       "sample1-4.24_Nneg                 1                 1                 1\n",
       "sample2-1.08_Nneg                 1                 1                 1\n",
       "sample2-1.24_Nneg                 1                 1                 1\n",
       "                  sample7-3.19_Nneg sample7-3.25_Nneg sample7-4.02_Nneg\n",
       "sample1-1.27_Nneg                 1                 1                 1\n",
       "sample1-2.23_Nneg                 1                 1                 1\n",
       "sample1-3.08_Nneg                 1                 1                 1\n",
       "sample1-4.24_Nneg                 1                 1                 1\n",
       "sample2-1.08_Nneg                 1                 1                 1\n",
       "sample2-1.24_Nneg                 1                 1                 1\n",
       "                  sample7-4.03_Nneg sample7-4.14_Nneg sample8-1.10_Nneg\n",
       "sample1-1.27_Nneg                 1                 1                 1\n",
       "sample1-2.23_Nneg                 1                 1                 1\n",
       "sample1-3.08_Nneg                 1                 1                 1\n",
       "sample1-4.24_Nneg                 1                 1                 1\n",
       "sample2-1.08_Nneg                 1                 1                 1\n",
       "sample2-1.24_Nneg                 1                 1                 1\n",
       "                  sample8-1.14_Nneg sample8-1.19_Nneg sample8-1.23_Nneg\n",
       "sample1-1.27_Nneg                 1                 1                 1\n",
       "sample1-2.23_Nneg                 1                 1                 1\n",
       "sample1-3.08_Nneg                 1                 1                 1\n",
       "sample1-4.24_Nneg                 1                 1                 1\n",
       "sample2-1.08_Nneg                 1                 1                 1\n",
       "sample2-1.24_Nneg                 1                 1                 1\n",
       "                  sample8-2.07_Nneg sample8-2.17_Nneg sample8-2.22_Nneg\n",
       "sample1-1.27_Nneg                 1                 1                 1\n",
       "sample1-2.23_Nneg                 1                 1                 1\n",
       "sample1-3.08_Nneg                 1                 1                 1\n",
       "sample1-4.24_Nneg                 1                 1                 1\n",
       "sample2-1.08_Nneg                 1                 1                 1\n",
       "sample2-1.24_Nneg                 1                 1                 1\n",
       "                  sample8-2.25_Nneg sample8-3.03_Nneg sample8-3.23_Nneg\n",
       "sample1-1.27_Nneg                 1                 1                 1\n",
       "sample1-2.23_Nneg                 1                 1                 1\n",
       "sample1-3.08_Nneg                 1                 1                 1\n",
       "sample1-4.24_Nneg                 1                 1                 1\n",
       "sample2-1.08_Nneg                 1                 1                 1\n",
       "sample2-1.24_Nneg                 1                 1                 1\n",
       "                  sample8-3.28_Nneg sample8-3.29_Nneg sample8-4.01_Nneg\n",
       "sample1-1.27_Nneg                 1                 1                 1\n",
       "sample1-2.23_Nneg                 1                 1                 1\n",
       "sample1-3.08_Nneg                 1                 1                 1\n",
       "sample1-4.24_Nneg                 1                 1                 1\n",
       "sample2-1.08_Nneg                 1                 1                 1\n",
       "sample2-1.24_Nneg                 1                 1                 1\n",
       "                  sample8-4.04_Nneg sample8-4.07_Nneg sample8-4.23_Nneg\n",
       "sample1-1.27_Nneg                 1                 1                 1\n",
       "sample1-2.23_Nneg                 1                 1                 1\n",
       "sample1-3.08_Nneg                 1                 1                 1\n",
       "sample1-4.24_Nneg                 1                 1                 1\n",
       "sample2-1.08_Nneg                 1                 1                 1\n",
       "sample2-1.24_Nneg                 1                 1                 1\n"
      ]
     },
     "metadata": {},
     "output_type": "display_data"
    }
   ],
   "source": [
    "%%R\n",
    "head(Sdist)"
   ]
  },
  {
   "cell_type": "code",
   "execution_count": 18,
   "metadata": {
    "collapsed": false
   },
   "outputs": [
    {
     "data": {
      "text/plain": [
       "                  sample1-1.27_Nneg sample1-2.23_Nneg sample1-3.08_Nneg\n",
       "sample1-1.27_Nneg         0.0000000        0.14661893        0.13776227\n",
       "sample1-2.23_Nneg         0.1466189        0.00000000        0.09806129\n",
       "sample1-3.08_Nneg         0.1377623        0.09806129        0.00000000\n",
       "sample1-4.24_Nneg         0.1314250        0.12007763        0.11602099\n",
       "sample2-1.08_Nneg         0.3519226        0.30109695        0.31696808\n",
       "sample2-1.24_Nneg         0.2608532        0.24885430        0.24903303\n",
       "                  sample1-4.24_Nneg sample2-1.08_Nneg sample2-1.24_Nneg\n",
       "sample1-1.27_Nneg         0.1314250         0.3519226         0.2608532\n",
       "sample1-2.23_Nneg         0.1200776         0.3010969         0.2488543\n",
       "sample1-3.08_Nneg         0.1160210         0.3169681         0.2490330\n",
       "sample1-4.24_Nneg         0.0000000         0.3421983         0.2727548\n",
       "sample2-1.08_Nneg         0.3421983         0.0000000         0.3209266\n",
       "sample2-1.24_Nneg         0.2727548         0.3209266         0.0000000\n",
       "                  sample2-2.08_Nneg sample2-2.10_Nneg sample2-3.05_Nneg\n",
       "sample1-1.27_Nneg         0.2860830         0.3566049         0.3045057\n",
       "sample1-2.23_Nneg         0.2722073         0.2890802         0.2932369\n",
       "sample1-3.08_Nneg         0.2799445         0.3081132         0.3013691\n",
       "sample1-4.24_Nneg         0.3137792         0.3302573         0.3364695\n",
       "sample2-1.08_Nneg         0.2511776         0.2102149         0.2868615\n",
       "sample2-1.24_Nneg         0.2003231         0.3040604         0.1983432\n",
       "                  sample2-3.20_Nneg sample2-4.25_Nneg sample3-1.09_Nneg\n",
       "sample1-1.27_Nneg         0.2268875         0.3321379         0.3013240\n",
       "sample1-2.23_Nneg         0.2318327         0.3143806         0.2820520\n",
       "sample1-3.08_Nneg         0.2280893         0.3208998         0.2970782\n",
       "sample1-4.24_Nneg         0.2544100         0.3566922         0.3273562\n",
       "sample2-1.08_Nneg         0.3116860         0.3190083         0.2319032\n",
       "sample2-1.24_Nneg         0.1582078         0.2208580         0.2127398\n",
       "                  sample3-1.20_Nneg sample3-2.03_Nneg sample3-2.19_Nneg\n",
       "sample1-1.27_Nneg         0.1895687         0.3987306         0.2986944\n",
       "sample1-2.23_Nneg         0.1592206         0.3991173         0.2793532\n",
       "sample1-3.08_Nneg         0.1841545         0.3956361         0.2928670\n",
       "sample1-4.24_Nneg         0.1733591         0.4267186         0.3277353\n",
       "sample2-1.08_Nneg         0.3038711         0.4234122         0.2594222\n",
       "sample2-1.24_Nneg         0.2275743         0.3089655         0.2096542\n",
       "                  sample3-3.06_Nneg sample3-3.30_Nneg sample3-4.15_Nneg\n",
       "sample1-1.27_Nneg         0.3679316         0.2694741         0.3167550\n",
       "sample1-2.23_Nneg         0.3534682         0.2664108         0.2848728\n",
       "sample1-3.08_Nneg         0.3598160         0.2786834         0.2967992\n",
       "sample1-4.24_Nneg         0.3929938         0.3034210         0.3310877\n",
       "sample2-1.08_Nneg         0.3768138         0.3233383         0.2851407\n",
       "sample2-1.24_Nneg         0.2597929         0.2134040         0.2102271\n",
       "                  sample3-4.18_Nneg sample4-1.03_Nneg sample4-2.02_Nneg\n",
       "sample1-1.27_Nneg         0.3509013         0.2486667         0.2863515\n",
       "sample1-2.23_Nneg         0.3317410         0.2074724         0.2520001\n",
       "sample1-3.08_Nneg         0.3389243         0.2072600         0.2554316\n",
       "sample1-4.24_Nneg         0.3770334         0.2436995         0.2943603\n",
       "sample2-1.08_Nneg         0.3587993         0.2893157         0.3064641\n",
       "sample2-1.24_Nneg         0.2573819         0.2066940         0.1932117\n",
       "                  sample4-3.10_Nneg sample4-4.21_Nneg sample5-1.16_Nneg\n",
       "sample1-1.27_Nneg         0.2348182         0.2110501         0.3365278\n",
       "sample1-2.23_Nneg         0.2130475         0.1917811         0.2777680\n",
       "sample1-3.08_Nneg         0.2210243         0.1917806         0.3016708\n",
       "sample1-4.24_Nneg         0.2532830         0.2117632         0.3046677\n",
       "sample2-1.08_Nneg         0.2912286         0.3154118         0.2040688\n",
       "sample2-1.24_Nneg         0.1516519         0.1603868         0.2969299\n",
       "                  sample5-1.17_Nneg sample5-1.22_Nneg sample5-1.25_Nneg\n",
       "sample1-1.27_Nneg         0.2348188         0.1894811         0.2688755\n",
       "sample1-2.23_Nneg         0.1929112         0.1635179         0.2630111\n",
       "sample1-3.08_Nneg         0.2038178         0.1472133         0.2556948\n",
       "sample1-4.24_Nneg         0.1904706         0.1852188         0.2859133\n",
       "sample2-1.08_Nneg         0.2901935         0.2804212         0.3545774\n",
       "sample2-1.24_Nneg         0.2400479         0.1935287         0.1828232\n",
       "                  sample5-1.29_Nneg sample5-2.06_Nneg sample5-2.11_Nneg\n",
       "sample1-1.27_Nneg         0.2380470         0.2270378         0.2500849\n",
       "sample1-2.23_Nneg         0.2196806         0.1837943         0.1902504\n",
       "sample1-3.08_Nneg         0.2255318         0.1836436         0.2134386\n",
       "sample1-4.24_Nneg         0.2587362         0.2205373         0.2103580\n",
       "sample2-1.08_Nneg         0.2961211         0.2130379         0.2701065\n",
       "sample2-1.24_Nneg         0.1681446         0.1990113         0.2666038\n",
       "                  sample5-2.15_Nneg sample5-2.18_Nneg sample5-2.29_Nneg\n",
       "sample1-1.27_Nneg         0.2149507         0.2575426         0.2038999\n",
       "sample1-2.23_Nneg         0.1982354         0.2401044         0.1563019\n",
       "sample1-3.08_Nneg         0.1840765         0.2254126         0.1673155\n",
       "sample1-4.24_Nneg         0.2255932         0.2672872         0.1993586\n",
       "sample2-1.08_Nneg         0.2892260         0.3483762         0.2322513\n",
       "sample2-1.24_Nneg         0.1651270         0.1729683         0.2145203\n",
       "                  sample5-3.11_Nneg sample5-3.13_Nneg sample5-3.16_Nneg\n",
       "sample1-1.27_Nneg         0.2317434         0.2405982         0.3181028\n",
       "sample1-2.23_Nneg         0.2394729         0.1967468         0.2670558\n",
       "sample1-3.08_Nneg         0.2261646         0.2090763         0.2914391\n",
       "sample1-4.24_Nneg         0.2466350         0.2267838         0.2952976\n",
       "sample2-1.08_Nneg         0.3704094         0.2323429         0.2273252\n",
       "sample2-1.24_Nneg         0.1950389         0.2237430         0.2791950\n",
       "                  sample5-3.17_Nneg sample5-3.27_Nneg sample5-4.05_Nneg\n",
       "sample1-1.27_Nneg         0.2963396         0.2356812         0.2515474\n",
       "sample1-2.23_Nneg         0.2746987         0.1982348         0.2002629\n",
       "sample1-3.08_Nneg         0.2694869         0.1998389         0.2244830\n",
       "sample1-4.24_Nneg         0.3055140         0.2270647         0.2194954\n",
       "sample2-1.08_Nneg         0.3741591         0.2850105         0.2677071\n",
       "sample2-1.24_Nneg         0.1962195         0.1938810         0.2348926\n",
       "                  sample5-4.06_Nneg sample5-4.08_Nneg sample5-4.09_Nneg\n",
       "sample1-1.27_Nneg         0.1542961         0.2518208         0.2498188\n",
       "sample1-2.23_Nneg         0.1580193         0.2008056         0.2415455\n",
       "sample1-3.08_Nneg         0.1410520         0.2187460         0.2274087\n",
       "sample1-4.24_Nneg         0.1485115         0.2333625         0.2502612\n",
       "sample2-1.08_Nneg         0.3424444         0.2230996         0.3847273\n",
       "sample2-1.24_Nneg         0.2275544         0.2443929         0.2041449\n",
       "                  sample5-4.28_Nneg sample6-1.07_Nneg sample6-1.12_Nneg\n",
       "sample1-1.27_Nneg         0.1861418         0.2954103         0.3087329\n",
       "sample1-2.23_Nneg         0.1892115         0.2742157         0.2900850\n",
       "sample1-3.08_Nneg         0.1790259         0.2847056         0.2928726\n",
       "sample1-4.24_Nneg         0.1930674         0.3122275         0.3273601\n",
       "sample2-1.08_Nneg         0.3263454         0.2339294         0.2543483\n",
       "sample2-1.24_Nneg         0.1944047         0.2341409         0.2213405\n",
       "                  sample6-1.15_Nneg sample6-1.18_Nneg sample6-2.13_Nneg\n",
       "sample1-1.27_Nneg         0.2827758         0.3203108         0.3055619\n",
       "sample1-2.23_Nneg         0.2444190         0.2747785         0.2574850\n",
       "sample1-3.08_Nneg         0.2548273         0.3032517         0.2836335\n",
       "sample1-4.24_Nneg         0.2774098         0.3013070         0.2824539\n",
       "sample2-1.08_Nneg         0.2538548         0.2718521         0.2493574\n",
       "sample2-1.24_Nneg         0.2245361         0.2484450         0.2550112\n",
       "                  sample6-2.14_Nneg sample6-2.16_Nneg sample6-2.26_Nneg\n",
       "sample1-1.27_Nneg         0.2583139         0.3142986         0.2748247\n",
       "sample1-2.23_Nneg         0.2500176         0.2807927         0.2366394\n",
       "sample1-3.08_Nneg         0.2536557         0.2949875         0.2390818\n",
       "sample1-4.24_Nneg         0.2847375         0.3164407         0.2732729\n",
       "sample2-1.08_Nneg         0.2927344         0.2640442         0.2574295\n",
       "sample2-1.24_Nneg         0.2242706         0.2715456         0.2379060\n",
       "                  sample6-3.01_Nneg sample6-3.04_Nneg sample6-3.09_Nneg\n",
       "sample1-1.27_Nneg         0.2404430         0.2622588         0.2371375\n",
       "sample1-2.23_Nneg         0.1976193         0.2216156         0.1812439\n",
       "sample1-3.08_Nneg         0.2174063         0.2482099         0.2092431\n",
       "sample1-4.24_Nneg         0.2258217         0.2544594         0.1952151\n",
       "sample2-1.08_Nneg         0.2878361         0.2566474         0.3186071\n",
       "sample2-1.24_Nneg         0.2088399         0.2236387         0.2105571\n",
       "                  sample6-3.18_Nneg sample6-4.12_Nneg sample6-4.13_Nneg\n",
       "sample1-1.27_Nneg         0.2593518         0.1992588         0.2588394\n",
       "sample1-2.23_Nneg         0.2296627         0.1845136         0.2136124\n",
       "sample1-3.08_Nneg         0.2440090         0.1979767         0.2328806\n",
       "sample1-4.24_Nneg         0.2608799         0.2127754         0.2332242\n",
       "sample2-1.08_Nneg         0.2535578         0.3104510         0.2552897\n",
       "sample2-1.24_Nneg         0.2068129         0.1845605         0.2391875\n",
       "                  sample6-4.17_Nneg sample6-4.30_Nneg sample7-1.04_Nneg\n",
       "sample1-1.27_Nneg         0.2623589         0.3148934         0.3822282\n",
       "sample1-2.23_Nneg         0.2229826         0.2949031         0.3209610\n",
       "sample1-3.08_Nneg         0.2221906         0.2970547         0.3464038\n",
       "sample1-4.24_Nneg         0.2533248         0.3282898         0.3469145\n",
       "sample2-1.08_Nneg         0.3330863         0.2844264         0.3312536\n",
       "sample2-1.24_Nneg         0.1739269         0.1950997         0.3367251\n",
       "                  sample7-1.13_Nneg sample7-1.28_Nneg sample7-2.12_Nneg\n",
       "sample1-1.27_Nneg         0.2999788         0.4359754         0.3882706\n",
       "sample1-2.23_Nneg         0.2468236         0.3804713         0.3229621\n",
       "sample1-3.08_Nneg         0.2757708         0.4049134         0.3476587\n",
       "sample1-4.24_Nneg         0.2834757         0.4080674         0.3562470\n",
       "sample2-1.08_Nneg         0.2381484         0.3102889         0.2496525\n",
       "sample2-1.24_Nneg         0.2819896         0.3967005         0.3511274\n",
       "                  sample7-2.28_Nneg sample7-2.30_Nneg sample7-3.12_Nneg\n",
       "sample1-1.27_Nneg         0.4123363         0.2480781         0.3695871\n",
       "sample1-2.23_Nneg         0.3441922         0.2081310         0.3184440\n",
       "sample1-3.08_Nneg         0.3655998         0.2263719         0.3423001\n",
       "sample1-4.24_Nneg         0.3733971         0.2331152         0.3572060\n",
       "sample2-1.08_Nneg         0.3037096         0.2563606         0.2256720\n",
       "sample2-1.24_Nneg         0.3690382         0.2210037         0.3441006\n",
       "                  sample7-3.19_Nneg sample7-3.25_Nneg sample7-4.02_Nneg\n",
       "sample1-1.27_Nneg         0.3431475         0.3099998         0.3843100\n",
       "sample1-2.23_Nneg         0.2906152         0.2501669         0.3393741\n",
       "sample1-3.08_Nneg         0.3223702         0.2781586         0.3709784\n",
       "sample1-4.24_Nneg         0.3237076         0.2838713         0.3745074\n",
       "sample2-1.08_Nneg         0.2712589         0.2450840         0.2878269\n",
       "sample2-1.24_Nneg         0.2727669         0.2703633         0.3282239\n",
       "                  sample7-4.03_Nneg sample7-4.14_Nneg sample8-1.10_Nneg\n",
       "sample1-1.27_Nneg         0.4463658         0.3895501         0.2775933\n",
       "sample1-2.23_Nneg         0.3825378         0.3324005         0.2345812\n",
       "sample1-3.08_Nneg         0.4087157         0.3590592         0.2608951\n",
       "sample1-4.24_Nneg         0.4207735         0.3587811         0.2581897\n",
       "sample2-1.08_Nneg         0.3018609         0.2980079         0.2771679\n",
       "sample2-1.24_Nneg         0.4275533         0.3356472         0.2297228\n",
       "                  sample8-1.14_Nneg sample8-1.19_Nneg sample8-1.23_Nneg\n",
       "sample1-1.27_Nneg         0.2318443         0.3162475         0.2841661\n",
       "sample1-2.23_Nneg         0.2123856         0.2803269         0.2364199\n",
       "sample1-3.08_Nneg         0.2178733         0.3118289         0.2634098\n",
       "sample1-4.24_Nneg         0.2431328         0.3089586         0.2639052\n",
       "sample2-1.08_Nneg         0.3268423         0.3429087         0.2474196\n",
       "sample2-1.24_Nneg         0.1354352         0.2462942         0.2468543\n",
       "                  sample8-2.07_Nneg sample8-2.17_Nneg sample8-2.22_Nneg\n",
       "sample1-1.27_Nneg         0.2910235         0.3027710         0.2128033\n",
       "sample1-2.23_Nneg         0.2486880         0.2725193         0.1818887\n",
       "sample1-3.08_Nneg         0.2812329         0.2870914         0.1956209\n",
       "sample1-4.24_Nneg         0.2793886         0.3137067         0.2120492\n",
       "sample2-1.08_Nneg         0.3318671         0.2468093         0.2769313\n",
       "sample2-1.24_Nneg         0.2518996         0.2594566         0.2449375\n",
       "                  sample8-2.25_Nneg sample8-3.03_Nneg sample8-3.23_Nneg\n",
       "sample1-1.27_Nneg         0.2382946         0.2385075         0.2961542\n",
       "sample1-2.23_Nneg         0.2060658         0.1982628         0.2527193\n",
       "sample1-3.08_Nneg         0.2335118         0.2292031         0.2670385\n",
       "sample1-4.24_Nneg         0.2436103         0.2211242         0.2797271\n",
       "sample2-1.08_Nneg         0.2870974         0.3301457         0.2485488\n",
       "sample2-1.24_Nneg         0.2098882         0.2147515         0.2510877\n",
       "                  sample8-3.28_Nneg sample8-3.29_Nneg sample8-4.01_Nneg\n",
       "sample1-1.27_Nneg         0.2035878         0.2043026         0.3236106\n",
       "sample1-2.23_Nneg         0.1937285         0.1804932         0.2861461\n",
       "sample1-3.08_Nneg         0.1888692         0.1875034         0.3200159\n",
       "sample1-4.24_Nneg         0.2224042         0.2110807         0.3185274\n",
       "sample2-1.08_Nneg         0.2748399         0.2770952         0.3611532\n",
       "sample2-1.24_Nneg         0.1849177         0.2393820         0.2604291\n",
       "                  sample8-4.04_Nneg sample8-4.07_Nneg sample8-4.23_Nneg\n",
       "sample1-1.27_Nneg         0.3559111         0.2132004         0.2907897\n",
       "sample1-2.23_Nneg         0.3015378         0.1840263         0.2445130\n",
       "sample1-3.08_Nneg         0.3290587         0.1952161         0.2686888\n",
       "sample1-4.24_Nneg         0.3260580         0.2169441         0.2690898\n",
       "sample2-1.08_Nneg         0.2957632         0.2672723         0.2577768\n",
       "sample2-1.24_Nneg         0.3000801         0.2346908         0.2667520\n"
      ]
     },
     "metadata": {},
     "output_type": "display_data"
    }
   ],
   "source": [
    "%%R\n",
    "#check congruence\n",
    "Udist %>% as.matrix %>% head\n"
   ]
  },
  {
   "cell_type": "markdown",
   "metadata": {},
   "source": [
    "# Mantel test, including all plants and maize with arbitrary 0.0002 distance between maize\n",
    "\n"
   ]
  },
  {
   "cell_type": "code",
   "execution_count": 22,
   "metadata": {
    "collapsed": false,
    "scrolled": true
   },
   "outputs": [
    {
     "data": {
      "text/plain": [
       "    mantelr       pval1       pval2       pval3   llim.2.5%  ulim.97.5% \n",
       "0.291430032 0.001001001 1.000000000 0.001001001 0.263474870 0.323048115 \n"
      ]
     },
     "metadata": {},
     "output_type": "display_data"
    }
   ],
   "source": [
    "%%R\n",
    "\n",
    "M1 = ecodist::mantel(as.dist(Udist) ~ as.dist(Tdist) , nperm=999)\n",
    "M1"
   ]
  },
  {
   "cell_type": "code",
   "execution_count": 21,
   "metadata": {
    "collapsed": false
   },
   "outputs": [
    {
     "name": "stdout",
     "output_type": "stream",
     "text": [
      "\n",
      "Error in as.dist(TimeDist) : object 'TimeDist' not found\n"
     ]
    },
    {
     "name": "stderr",
     "output_type": "stream",
     "text": [
      "/opt/anaconda/lib/python2.7/site-packages/rpy2/robjects/functions.py:106: UserWarning: Error in as.dist(TimeDist) : object 'TimeDist' not found\n",
      "\n",
      "  res = super(Function, self).__call__(*new_args, **new_kwargs)\n",
      "/opt/anaconda/lib/python2.7/site-packages/rpy2/robjects/functions.py:106: UserWarning: In addition: \n",
      "  res = super(Function, self).__call__(*new_args, **new_kwargs)\n",
      "/opt/anaconda/lib/python2.7/site-packages/rpy2/robjects/functions.py:106: UserWarning: Warning messages:\n",
      "\n",
      "  res = super(Function, self).__call__(*new_args, **new_kwargs)\n",
      "/opt/anaconda/lib/python2.7/site-packages/rpy2/robjects/functions.py:106: UserWarning: 1: replacing previous import ‘BiocGenerics::Position’ by ‘ggplot2::Position’ when loading ‘phyloseq’ \n",
      "\n",
      "  res = super(Function, self).__call__(*new_args, **new_kwargs)\n",
      "/opt/anaconda/lib/python2.7/site-packages/rpy2/robjects/functions.py:106: UserWarning: 2: \n",
      "  res = super(Function, self).__call__(*new_args, **new_kwargs)\n",
      "/opt/anaconda/lib/python2.7/site-packages/rpy2/robjects/functions.py:106: UserWarning: In left_join_impl(x, y, by$x, by$y, suffix$x, suffix$y) :\n",
      "  res = super(Function, self).__call__(*new_args, **new_kwargs)\n",
      "/opt/anaconda/lib/python2.7/site-packages/rpy2/robjects/functions.py:106: UserWarning: \n",
      " \n",
      "  res = super(Function, self).__call__(*new_args, **new_kwargs)\n",
      "/opt/anaconda/lib/python2.7/site-packages/rpy2/robjects/functions.py:106: UserWarning:  joining character vector and factor, coercing into character vector\n",
      "\n",
      "  res = super(Function, self).__call__(*new_args, **new_kwargs)\n",
      "/opt/anaconda/lib/python2.7/site-packages/rpy2/robjects/functions.py:106: UserWarning: 3: \n",
      "  res = super(Function, self).__call__(*new_args, **new_kwargs)\n"
     ]
    }
   ],
   "source": [
    "%%R\n",
    "\n",
    "M_TP = ecodist::mantel(as.dist(Phydist) ~ as.dist(TimeDist) , nperm=999)\n",
    "M_TP"
   ]
  },
  {
   "cell_type": "markdown",
   "metadata": {},
   "source": [
    "## Partial Mantel test of phylogenetic distance controlling for self/non-self"
   ]
  },
  {
   "cell_type": "code",
   "execution_count": 59,
   "metadata": {
    "collapsed": false,
    "scrolled": true
   },
   "outputs": [
    {
     "data": {
      "text/plain": [
       "    mantelr       pval1       pval2       pval3   llim.2.5%  ulim.97.5% \n",
       "0.351130873 0.001001001 1.000000000 0.001001001 0.293158532 0.397382590 \n"
      ]
     },
     "metadata": {},
     "output_type": "display_data"
    }
   ],
   "source": [
    "%%R\n",
    "M2 = ecodist::mantel(as.dist(Udist) ~ as.dist(Phydist) + as.dist(Sdist) , nperm=999)\n",
    "M2"
   ]
  },
  {
   "cell_type": "code",
   "execution_count": 60,
   "metadata": {
    "collapsed": false
   },
   "outputs": [
    {
     "data": {
      "text/plain": [
       "    mantelr       pval1       pval2       pval3   llim.2.5%  ulim.97.5% \n",
       "0.259588546 0.001001001 1.000000000 0.001001001 0.207923844 0.311145927 \n"
      ]
     },
     "metadata": {},
     "output_type": "display_data"
    }
   ],
   "source": [
    "%%R\n",
    "M3 = ecodist::mantel(as.dist(Udist) ~ as.dist(Phydist) + as.dist(Tdist) + as.dist(Sdist) , nperm=999)\n",
    "M3"
   ]
  },
  {
   "cell_type": "code",
   "execution_count": 54,
   "metadata": {
    "collapsed": false
   },
   "outputs": [
    {
     "data": {
      "text/plain": [
       "    mantelr       pval1       pval2       pval3   llim.2.5%  ulim.97.5% \n",
       "0.291430032 0.001001001 1.000000000 0.001001001 0.263530344 0.322840552 \n"
      ]
     },
     "metadata": {},
     "output_type": "display_data"
    }
   ],
   "source": [
    "%%R\n",
    "M4 = ecodist::mantel(as.dist(Udist) ~ as.dist(Tdist), nperm=999)\n",
    "M4"
   ]
  },
  {
   "cell_type": "markdown",
   "metadata": {
    "hide_input": true
   },
   "source": [
    "## Mantel test with species comparisons to test for maize effect on phylogenetic results"
   ]
  },
  {
   "cell_type": "code",
   "execution_count": 24,
   "metadata": {
    "collapsed": true
   },
   "outputs": [],
   "source": [
    "%%R\n",
    "ADist =  filter(PrimeDist, PlantA %in% c( \"ABUTH\" , \"AMAPO\", \"ECHCG\" , \"ERATE\", \"FAGES\",  \"GLYMA\", \"SETFA\", \"SORBI\",   \n",
    "                                    \"SORSUD\", \"ELCOR\",\"HELAN\", \"B73\") & PlantB %in% \n",
    "                                    \n",
    "                c(\"ABUTH\" , \"AMAPO\", \"ECHCG\" , \"ERATE\", \"FAGES\",  \"GLYMA\", \"SETFA\", \"SORBI\",   \n",
    "                                    \"SORSUD\", \"ELCOR\",\"HELAN\", \"B73\"))\n",
    "\n",
    "\n",
    "#Seperate unifrac and phylogenetic distances retaining plot IDs\n",
    "U = ADist[,c(1,2,3)]\n",
    "Phy = ADist[,c(1,2,11)]\n",
    "Self = ADist[,c(1,2,12)]\n",
    "T = ADist[,c(1,2,9)]\n",
    "\n",
    "#Re-cast longform to wide form.  \n",
    "\n",
    "Udist = acast(U, PlotA~PlotB)\n",
    "Phydist = acast(Phy, PlotA~PlotB)\n",
    "Sdist = acast(Self, PlotA~PlotB)\n",
    "Tdist = acast(T, PlotA~PlotB) \n",
    "\n",
    "#Convert to distance matrices\n",
    "Phydist = as.matrix(Phydist) \n",
    "Udist = as.matrix(Udist)  \n",
    "Sdist = as.matrix(Sdist) \n",
    "Tdist = as.matrix(Tdist) "
   ]
  },
  {
   "cell_type": "code",
   "execution_count": 25,
   "metadata": {
    "collapsed": false,
    "scrolled": true
   },
   "outputs": [
    {
     "data": {
      "text/plain": [
       "    mantelr       pval1       pval2       pval3   llim.2.5%  ulim.97.5% \n",
       "0.225519198 0.002002002 0.998998999 0.002002002 0.179131261 0.268626623 \n"
      ]
     },
     "metadata": {},
     "output_type": "display_data"
    }
   ],
   "source": [
    "%%R\n",
    "M1 = ecodist::mantel(as.dist(Udist) ~ as.dist(Phydist), nperm=999)\n",
    "M1"
   ]
  },
  {
   "cell_type": "code",
   "execution_count": 26,
   "metadata": {
    "collapsed": false,
    "scrolled": true
   },
   "outputs": [
    {
     "data": {
      "text/plain": [
       "   mantelr      pval1      pval2      pval3  llim.2.5% ulim.97.5% \n",
       "0.11857321 0.03803804 0.96296296 0.05005005 0.05593426 0.17077105 \n"
      ]
     },
     "metadata": {},
     "output_type": "display_data"
    }
   ],
   "source": [
    "%%R\n",
    "M2 = ecodist::mantel(as.dist(Udist) ~ as.dist(Phydist)  + as.dist(Sdist), nperm=999)\n",
    "M2"
   ]
  },
  {
   "cell_type": "code",
   "execution_count": 27,
   "metadata": {
    "collapsed": false
   },
   "outputs": [
    {
     "data": {
      "text/plain": [
       "    mantelr       pval1       pval2       pval3   llim.2.5%  ulim.97.5% \n",
       " 0.04016677  0.23423423  0.76676677  0.49149149 -0.03342176  0.09600982 \n"
      ]
     },
     "metadata": {},
     "output_type": "display_data"
    }
   ],
   "source": [
    "%%R\n",
    "M3 = ecodist::mantel(as.dist(Udist) ~ as.dist(Phydist) + as.dist(Tdist) + as.dist(Sdist), nperm=999)\n",
    "M3\n"
   ]
  },
  {
   "cell_type": "code",
   "execution_count": 28,
   "metadata": {
    "collapsed": false,
    "scrolled": true
   },
   "outputs": [
    {
     "data": {
      "text/plain": [
       "    mantelr       pval1       pval2       pval3   llim.2.5%  ulim.97.5% \n",
       "0.375183045 0.001001001 1.000000000 0.001001001 0.309145165 0.454877292 \n"
      ]
     },
     "metadata": {},
     "output_type": "display_data"
    }
   ],
   "source": [
    "%%R\n",
    "M4 = ecodist::mantel(as.dist(Phydist) ~ as.dist(Tdist), nperm=999)\n",
    "M4"
   ]
  },
  {
   "cell_type": "code",
   "execution_count": 29,
   "metadata": {
    "collapsed": false
   },
   "outputs": [
    {
     "data": {
      "text/plain": [
       "    mantelr       pval1       pval2       pval3   llim.2.5%  ulim.97.5% \n",
       "0.283012350 0.001001001 1.000000000 0.001001001 0.206723204 0.360003105 \n"
      ]
     },
     "metadata": {},
     "output_type": "display_data"
    }
   ],
   "source": [
    "%%R\n",
    "M5 = ecodist::mantel(as.dist(Phydist) ~ as.dist(Tdist) + as.dist(Phydist) + as.dist(Sdist), nperm=999)\n",
    "M5"
   ]
  },
  {
   "cell_type": "markdown",
   "metadata": {
    "collapsed": true
   },
   "source": [
    "* Weighted unifrac distance is postiviely correlated with phylogenetic distance between hosts\n",
    "* Robust when accounting for within genotype comparisons.  \n",
    "* Robust when using only one maize line\n",
    "* Not robust when controlling for time in reduced dataset as time and phylogenetic distance are positively correlated "
   ]
  },
  {
   "cell_type": "code",
   "execution_count": null,
   "metadata": {
    "collapsed": true
   },
   "outputs": [],
   "source": []
  },
  {
   "cell_type": "markdown",
   "metadata": {},
   "source": [
    "### Notes: \n",
    "    * If DAP is included as a functional trait functional variation explains an equal portion of the variance as phylogenetic distance:  Mantel r = 0.326 p = 0.001\n",
    "    * If DAP is not included, considerably less variation, though still significant Mantel R = 0.136 and p = 0.001\n",
    "    * I should try including both N treatments to broaden variation"
   ]
  },
  {
   "cell_type": "markdown",
   "metadata": {},
   "source": [
    "## Early Season Annuals Mantel Test"
   ]
  },
  {
   "cell_type": "code",
   "execution_count": null,
   "metadata": {
    "collapsed": false,
    "scrolled": true
   },
   "outputs": [],
   "source": [
    "%%R\n",
    "# Cut distances to comparisons among early season plants\n",
    "EDist =  filter(PrimeDist, PlantA %in% c(\"FAGES\", \"ECHCG\", \"AMAPO\", \"SETFA\", \"GLYMA\",\n",
    "                                                 \"ABUTH\") & PlantB %in% \n",
    "                                    \n",
    "                c(\"FAGES\", \"ECHCG\", \"AMAPO\", \"SETFA\", \"GLYMA\",\n",
    "                                                 \"ABUTH\"))\n",
    "\n",
    "\n",
    "#Seperate unifrac and phylogenetic distances retaining plot IDs\n",
    "U = EDist[,c(1,2,3)]\n",
    "Phy = EDist[,c(1,2,11)]\n",
    "Self = EDist[,c(1,2,12)]\n",
    "T = EDist[,c(1,2,9)]\n",
    "\n",
    "#Re-cast longform to wide form.  \n",
    "\n",
    "Udist = acast(U, PlotA~PlotB)\n",
    "Phydist = acast(Phy, PlotA~PlotB)\n",
    "Sdist = acast(Self, PlotA~PlotB)\n",
    "Tdist = acast(T, PlotA~PlotB) \n",
    "\n",
    "#Convert to distance matrices\n",
    "Phydist = as.matrix(Phydist) \n",
    "Udist = as.matrix(Udist)  \n",
    "Sdist = as.matrix(Sdist) \n",
    "Tdist = as.matrix(Tdist) "
   ]
  },
  {
   "cell_type": "code",
   "execution_count": null,
   "metadata": {
    "collapsed": false,
    "scrolled": true
   },
   "outputs": [],
   "source": [
    "%%R\n",
    "M1 = ecodist::mantel(as.dist(Udist) ~ as.dist(Phydist), nperm=999)\n",
    "M1"
   ]
  },
  {
   "cell_type": "code",
   "execution_count": null,
   "metadata": {
    "collapsed": false,
    "scrolled": true
   },
   "outputs": [],
   "source": [
    "%%R\n",
    "M2 = ecodist::mantel(as.dist(Udist) ~ as.dist(Phydist)  + as.dist(Sdist), nperm=999)\n",
    "M2"
   ]
  },
  {
   "cell_type": "code",
   "execution_count": null,
   "metadata": {
    "collapsed": false
   },
   "outputs": [],
   "source": [
    "%%R\n",
    "M3 = ecodist::mantel(as.dist(Udist) ~ as.dist(Phydist) + as.dist(Tdist) + as.dist(Sdist), nperm=999)\n",
    "M3\n"
   ]
  },
  {
   "cell_type": "markdown",
   "metadata": {},
   "source": [
    "## Late season annuals Mantel test"
   ]
  },
  {
   "cell_type": "code",
   "execution_count": null,
   "metadata": {
    "collapsed": false,
    "scrolled": true
   },
   "outputs": [],
   "source": [
    "%%R\n",
    "# Cut distances to comparisons among early season plants\n",
    "EDist =  filter(PrimeDist, PlantA %in% c(\"B73\", \"HELAN\", \"ERATE\", \"SORSUD\",\n",
    "                                                 \"SORBI\", \"ELCOR\") & PlantB %in% \n",
    "                                    \n",
    "                c(\"B73\", \"HELAN\", \"ERATE\", \"SORSUD\",\n",
    "                                                 \"SORBI\", \"ELCOR\"))\n",
    "\n",
    "\n",
    "#Seperate unifrac and phylogenetic distances retaining plot IDs\n",
    "U = EDist[,c(1,2,3)]\n",
    "Phy = EDist[,c(1,2,11)]\n",
    "Self = EDist[,c(1,2,12)]\n",
    "T = EDist[,c(1,2,9)]\n",
    "\n",
    "#Re-cast longform to wide form.  \n",
    "\n",
    "Udist = acast(U, PlotA~PlotB)\n",
    "Phydist = acast(Phy, PlotA~PlotB)\n",
    "Sdist = acast(Self, PlotA~PlotB)\n",
    "Tdist = acast(T, PlotA~PlotB) \n",
    "\n",
    "#Convert to distance matrices\n",
    "Phydist = as.matrix(Phydist) \n",
    "Udist = as.matrix(Udist)  \n",
    "Sdist = as.matrix(Sdist) \n",
    "Tdist = as.matrix(Tdist) "
   ]
  },
  {
   "cell_type": "code",
   "execution_count": null,
   "metadata": {
    "collapsed": false,
    "scrolled": true
   },
   "outputs": [],
   "source": [
    "%%R\n",
    "M1 = ecodist::mantel(as.dist(Udist) ~ as.dist(Phydist), nperm=999)\n",
    "M1"
   ]
  },
  {
   "cell_type": "code",
   "execution_count": null,
   "metadata": {
    "collapsed": false,
    "scrolled": true
   },
   "outputs": [],
   "source": [
    "%%R\n",
    "M2 = ecodist::mantel(as.dist(Udist) ~ as.dist(Phydist)  + as.dist(Sdist), nperm=999)\n",
    "M2"
   ]
  },
  {
   "cell_type": "code",
   "execution_count": null,
   "metadata": {
    "collapsed": false
   },
   "outputs": [],
   "source": [
    "%%R\n",
    "M3 = ecodist::mantel(as.dist(Udist) ~ as.dist(Phydist) + as.dist(Tdist) + as.dist(Sdist), nperm=999)\n",
    "M3"
   ]
  },
  {
   "cell_type": "markdown",
   "metadata": {},
   "source": [
    "# Maize distance analysis"
   ]
  },
  {
   "cell_type": "code",
   "execution_count": null,
   "metadata": {
    "collapsed": false
   },
   "outputs": [],
   "source": [
    "%%R\n",
    "NAM_hc = hclust(as.dist(NAMdist), \"average\")\n",
    "plot(NAM_hc)"
   ]
  },
  {
   "cell_type": "code",
   "execution_count": null,
   "metadata": {
    "collapsed": false,
    "hide_input": true
   },
   "outputs": [],
   "source": [
    "%%R\n",
    "physeq.Maize = subset_samples(physeq.Full, Type == \"Maize\" & Plant != \"75-062\" & Treatment == \"Nneg\")\n",
    "as(sample_data(physeq.Maize), \"data.frame\") %>%\n",
    "\n",
    "group_by(Plant) %>%\n",
    "   summarise(DATE = first(DAP)) %>% \n",
    "    arrange(DATE) %>%\n",
    "   print()"
   ]
  },
  {
   "cell_type": "code",
   "execution_count": null,
   "metadata": {
    "collapsed": false,
    "hide_input": false
   },
   "outputs": [],
   "source": [
    "%%R\n",
    "#Use melt to join genetic distance matrix with unifrac distance\n",
    "#head(ud.m) ##Use formated unifrac distance from above\n",
    "#melt \n",
    "NAM.m = melt(as.matrix(NAMdist))\n",
    "\n",
    "#set column names and create comparison column\n",
    "colnames(NAM.m) = c(\"PlantA\", \"PlantB\", \"gene_Dist\")\n",
    "\n",
    "NAM.m$PlantComp = paste(NAM.m$PlantA, NAM.m$PlantB, sep = \"-\")\n",
    "NAM.m %>% head\n",
    "\n",
    "#Join with unifrac DistanceMatrix\n",
    "GeneDist = left_join(ud.m, NAM.m[,c(3,4)], by = \"PlantComp\") %>% filter(!is.na(gene_Dist))\n",
    "head(GeneDist)\n",
    "\n",
    "#add self/non-self comparisons\n",
    "GeneDist$Self =  ifelse(GeneDist$gene_Dist == 0, 0, 1)\n",
    "        \n",
    "\n",
    "tail(GeneDist) %>% print"
   ]
  },
  {
   "cell_type": "code",
   "execution_count": null,
   "metadata": {
    "collapsed": false
   },
   "outputs": [],
   "source": [
    "%%R\n",
    "\n",
    "#Seperate unifrac and phylogenetic distances retaining plot IDs\n",
    "U = GeneDist[,c(1,2,3)]\n",
    "Gene = GeneDist[,c(1,2,11)]\n",
    "Self = GeneDist[,c(1,2,12)]\n",
    "T = GeneDist[,c(1,2,9)]\n",
    "\n",
    "#Re-cast longform to wide form.  \n",
    "\n",
    "Udist = acast(U, PlotA~PlotB)\n",
    "Genedist = acast(Gene, PlotA~PlotB)\n",
    "Sdist = acast(Self, PlotA~PlotB)\n",
    "Tdist = acast(T, PlotA~PlotB) \n",
    "\n",
    "#Convert to distance matrices\n",
    "Gdist = as.matrix(Phydist) \n",
    "Udist = as.matrix(Udist)  \n",
    "Sdist = as.matrix(Sdist) \n",
    "Tdist = as.matrix(Tdist) "
   ]
  },
  {
   "cell_type": "markdown",
   "metadata": {},
   "source": [
    "## Overall maize genetic distance vs MCC"
   ]
  },
  {
   "cell_type": "code",
   "execution_count": null,
   "metadata": {
    "collapsed": false,
    "scrolled": true
   },
   "outputs": [],
   "source": [
    "%%R\n",
    "M1 = ecodist::mantel(as.dist(Udist)~as.dist(Gdist), nperm=999)\n",
    "print(M1)"
   ]
  },
  {
   "cell_type": "code",
   "execution_count": null,
   "metadata": {
    "collapsed": false,
    "scrolled": true
   },
   "outputs": [],
   "source": [
    "%%R\n",
    "M2 = ecodist::mantel(as.dist(Udist) ~ as.dist(Gdist) + as.dist(Sdist), nperm=999)\n",
    "M2"
   ]
  },
  {
   "cell_type": "code",
   "execution_count": null,
   "metadata": {
    "collapsed": false
   },
   "outputs": [],
   "source": [
    "%%R\n",
    "M3 = ecodist::mantel(as.dist(Udist) ~ as.dist(Gdist) + as.dist(Tdist) + as.dist(Sdist), nperm=999)\n",
    "M3\n"
   ]
  },
  {
   "cell_type": "code",
   "execution_count": null,
   "metadata": {
    "collapsed": false
   },
   "outputs": [],
   "source": [
    "%%R\n",
    "ggplot(GeneDist, aes(gene_Dist, w_Unif_Dist)) + \n",
    "geom_point()"
   ]
  },
  {
   "cell_type": "markdown",
   "metadata": {},
   "source": [
    "### Functional comparison of maize - Mantel test"
   ]
  },
  {
   "cell_type": "code",
   "execution_count": null,
   "metadata": {
    "collapsed": false,
    "hide_input": false,
    "scrolled": true
   },
   "outputs": [],
   "source": [
    "%%R\n",
    "sd = sample_data(physeq.Maize)\n",
    "\n",
    "# Calculate w-unifrac distances\n",
    "registerDoParallel(cores=28)\n",
    "maize.wunif.dist = distance(physeq.Maize, \n",
    "                      method = \"unifrac\", \n",
    "                      weighted = TRUE,\n",
    "                      fast = TRUE, \n",
    "                      parallel = TRUE, \n",
    "                      normalized = FALSE)\n",
    "\n",
    "#Calculate functional distances\n",
    "Fun_dist = dist(sd[,c(\"Resid_logB\", \"Resid_logN\", \"Resid_logCN\")], method = \"euclidian\")\n",
    "\n",
    "\n",
    "M1 = mantel(maize.wunif.dist, Fun_dist, method=\"pearson\", permutations=999)\n",
    "M1"
   ]
  },
  {
   "cell_type": "markdown",
   "metadata": {},
   "source": [
    "In test of genetic vs functional control of maize, growth residuals were not significantly correlated with microbial community similarity in mantel test.  Significance was gained by including DAP, however, this is now capturing day to day sampling variation.  "
   ]
  },
  {
   "cell_type": "markdown",
   "metadata": {},
   "source": [
    "### Functional comparison of maize, CAP"
   ]
  },
  {
   "cell_type": "code",
   "execution_count": null,
   "metadata": {
    "collapsed": false
   },
   "outputs": [],
   "source": [
    "%%R -w 600 -h 600\n",
    "phy = physeq.Maize\n",
    "\n",
    "sample_data(phy)$DAP = as.factor(sample_data(phy)$DAP)\n",
    "unique(sample_data(phy)$DAP) %>% print\n",
    "# CAP ordinate\n",
    "cap.ord = ordinate(\n",
    "    physeq = phy, \n",
    "    method = \"CAP\",\n",
    "    distance = maize.wunif.dist,\n",
    "    formula = ~ Resid_logB + Resid_logN + Resid_logCN + Condition(Library)\n",
    ")\n",
    "\n",
    "# CAP plot\n",
    "cap.plot <- plot_ordination(\n",
    "    phy, \n",
    "    cap.ord, \n",
    "    color = \"Plant\", \n",
    "    axes = c(1,2)\n",
    "    ) + \n",
    "    aes(shape = Type) + \n",
    "    geom_point(aes(colour = Plant), \n",
    "        alpha= 1, \n",
    "        size = 4) + \n",
    "    #geom_point(colour = \"grey90\", \n",
    "    #    size = 1.5) + \n",
    "    theme_bw(base_size = 16)\n",
    "    #scale_color_manual(values = c(\"#a65628\", \"red\", \"#ffae19\", \"#4daf4a\", \n",
    "    #    \"#1919ff\", \"darkorchid3\", \"magenta\"))\n",
    "\n",
    "# Now add the environmental variables as arrows\n",
    "arrowmat <- vegan::scores(cap.ord, display = \"bp\")\n",
    "\n",
    "\n",
    "# Add labels, make a data.frame\n",
    "arrowdf <- data.frame(labels = rownames(arrowmat), arrowmat)\n",
    "\n",
    "# Define the arrow aesthetic mapping\n",
    "arrow_map <- aes(xend = CAP1, \n",
    "    yend = CAP2, \n",
    "    x = 0, \n",
    "    y = 0, \n",
    "    shape = NULL, \n",
    "    color = NULL, \n",
    "    label = labels)\n",
    "\n",
    "label_map <- aes(x = 1.3 * CAP1, \n",
    "    y = 1.3 * CAP2, \n",
    "    shape = NULL, \n",
    "    color = NULL, \n",
    "    label = labels)\n",
    "\n",
    "arrowhead = arrow(length = unit(0.02, \"npc\"))\n",
    "\n",
    "# Make a new graphic\n",
    "cap.plot + \n",
    "geom_segment(arrow_map, \n",
    "    size = .5, \n",
    "    data = arrowdf, \n",
    "    color = \"gray\", \n",
    "    arrow = arrowhead\n",
    "    ) + \n",
    "geom_text(label_map, \n",
    "    size = 4,  \n",
    "    data = arrowdf, \n",
    "    show_guide = FALSE)"
   ]
  },
  {
   "cell_type": "code",
   "execution_count": null,
   "metadata": {
    "collapsed": false,
    "hide_input": true,
    "scrolled": true
   },
   "outputs": [],
   "source": [
    "%%R\n",
    "anova(cap.ord)"
   ]
  },
  {
   "cell_type": "markdown",
   "metadata": {},
   "source": [
    "Notes - a small but significant amount of variation in community composition is captured by maize functional variation.  \n",
    "\n",
    "Check how to constrain by DAP to control for differences from sampling date?  Still significant albeit small portion of variation captured when controlling for DAP.  "
   ]
  },
  {
   "cell_type": "markdown",
   "metadata": {},
   "source": [
    "### Maize by date"
   ]
  },
  {
   "cell_type": "markdown",
   "metadata": {},
   "source": [
    "#### DAP = 72; Mantel test maize genetic distance vs MCC"
   ]
  },
  {
   "cell_type": "code",
   "execution_count": null,
   "metadata": {
    "collapsed": false,
    "scrolled": true
   },
   "outputs": [],
   "source": [
    "%%R\n",
    "\n",
    "# subset matrices\n",
    "D_dist = filter(Dist, PlantA %in% c(\"H99\" , \"Il14H\" , \"MS71\") & PlantB %in% c(\"H99\" , \"Il14H\" , \"MS71\"))\n",
    "D_dist$PlantComp %>% unique %>% print\n",
    "#pull matrices\n",
    "    Temp = D_dist[!is.na(D_dist$gene_Dist),]\n",
    "    \n",
    "    #Seperate unifrac and genetic distances retaining plot IDs\n",
    "\n",
    "    Udate = Temp[,c(1,2,3)]\n",
    "    Gene_date = Temp[,c(1,2,7)]\n",
    "\n",
    "    #Re-cast longform to wide form.  \n",
    "    Udate = acast(Udate, PlotA~PlotB)\n",
    "    Gene_date = acast(Gene_date, PlotA~PlotB)\n",
    "\n",
    "    #Convert to distance matrices\n",
    "    Gene_date = as.matrix(Gene_date) %>% dist()\n",
    "    Udate = as.matrix(Udate) %>% dist()\n",
    "\n",
    "M1 = mantel(Gene_date, Udate, method=\"pearson\", permutations=999)\n",
    "print(M1)"
   ]
  },
  {
   "cell_type": "markdown",
   "metadata": {},
   "source": [
    "#### DAP = 72; Mantel test N economy traits vs MCC"
   ]
  },
  {
   "cell_type": "code",
   "execution_count": null,
   "metadata": {
    "collapsed": false,
    "scrolled": false
   },
   "outputs": [],
   "source": [
    "%%R\n",
    "physeq.Date = subset_samples(physeq.Plant, Plant %in% c(\"H99\" , \"Il14H\" , \"MS71\"))\n",
    "sd = sample_data(physeq.Date)\n",
    "\n",
    "# Calculate w-unifrac distances\n",
    "registerDoParallel(cores=28)\n",
    "date.wunif.dist = distance(physeq.Date, \n",
    "                      method = \"unifrac\", \n",
    "                      weighted = TRUE,\n",
    "                      fast = TRUE, \n",
    "                      parallel = TRUE, \n",
    "                      normalized = FALSE)\n",
    "\n",
    "#Calculate functional distances\n",
    "Fun_dist = dist(sd[,c(\"Resid_logB\", \"Resid_logN\", \"Resid_logCN\")], method = \"euclidian\")\n",
    "\n",
    "\n",
    "M1 = mantel(date.wunif.dist, Fun_dist, method=\"pearson\", permutations=999)\n",
    "M1"
   ]
  },
  {
   "cell_type": "markdown",
   "metadata": {},
   "source": [
    "#### DAP 72; CAP analysis N economy and MCC"
   ]
  },
  {
   "cell_type": "code",
   "execution_count": null,
   "metadata": {
    "collapsed": false
   },
   "outputs": [],
   "source": [
    "%%R -w 600 -h 600\n",
    "phy = physeq.Date\n",
    "\n",
    "sample_data(phy)$DAP = as.factor(sample_data(phy)$DAP)\n",
    "unique(sample_data(phy)$DAP) %>% print\n",
    "# CAP ordinate\n",
    "cap.ord = ordinate(\n",
    "    physeq = phy, \n",
    "    method = \"CAP\",\n",
    "    distance = date.wunif.dist,\n",
    "    formula = ~ Resid_logB + Resid_logN + Resid_logCN\n",
    ")\n",
    "\n",
    "# CAP plot\n",
    "cap.plot <- plot_ordination(\n",
    "    phy, \n",
    "    cap.ord, \n",
    "    color = \"Plant\", \n",
    "    axes = c(1,2)\n",
    "    ) + \n",
    "    aes(shape = Type) + \n",
    "    geom_point(aes(colour = Plant), \n",
    "        alpha= 1, \n",
    "        size = 4) + \n",
    "    #geom_point(colour = \"grey90\", \n",
    "    #    size = 1.5) + \n",
    "    theme_bw(base_size = 16)\n",
    "    #scale_color_manual(values = c(\"#a65628\", \"red\", \"#ffae19\", \"#4daf4a\", \n",
    "    #    \"#1919ff\", \"darkorchid3\", \"magenta\"))\n",
    "\n",
    "# Now add the environmental variables as arrows\n",
    "arrowmat <- vegan::scores(cap.ord, display = \"bp\")\n",
    "\n",
    "\n",
    "# Add labels, make a data.frame\n",
    "arrowdf <- data.frame(labels = rownames(arrowmat), arrowmat)\n",
    "\n",
    "# Define the arrow aesthetic mapping\n",
    "arrow_map <- aes(xend = CAP1, \n",
    "    yend = CAP2, \n",
    "    x = 0, \n",
    "    y = 0, \n",
    "    shape = NULL, \n",
    "    color = NULL, \n",
    "    label = labels)\n",
    "\n",
    "label_map <- aes(x = 1.3 * CAP1, \n",
    "    y = 1.3 * CAP2, \n",
    "    shape = NULL, \n",
    "    color = NULL, \n",
    "    label = labels)\n",
    "\n",
    "arrowhead = arrow(length = unit(0.02, \"npc\"))\n",
    "\n",
    "# Make a new graphic\n",
    "cap.plot + \n",
    "geom_segment(arrow_map, \n",
    "    size = .5, \n",
    "    data = arrowdf, \n",
    "    color = \"gray\", \n",
    "    arrow = arrowhead\n",
    "    ) + \n",
    "geom_text(label_map, \n",
    "    size = 4,  \n",
    "    data = arrowdf, \n",
    "    show_guide = FALSE)"
   ]
  },
  {
   "cell_type": "code",
   "execution_count": null,
   "metadata": {
    "collapsed": false,
    "scrolled": false
   },
   "outputs": [],
   "source": [
    "%%R\n",
    "anova(cap.ord)"
   ]
  },
  {
   "cell_type": "markdown",
   "metadata": {},
   "source": [
    "#### DAP = 79;  Mantel test maize genetic distance vs MCC"
   ]
  },
  {
   "cell_type": "code",
   "execution_count": null,
   "metadata": {
    "collapsed": false,
    "scrolled": false
   },
   "outputs": [],
   "source": [
    "%%R\n",
    "\n",
    "# subset matrices\n",
    "D_dist = filter(Dist, PlantA %in% c(\"B73\" ,  \"B97\" ,  \"Hp301\" , \"Oh7B\" ) & PlantB %in% c(\"B73\" ,  \"B97\" ,  \"Hp301\" , \"Oh7B\"))\n",
    " D_dist$PlantComp %>% unique %>% print\n",
    "\n",
    "#pull matrices\n",
    "    Temp = D_dist[!is.na(D_dist$gene_Dist),]\n",
    "    \n",
    "    #Seperate unifrac and genetic distances retaining plot IDs\n",
    "\n",
    "    Udate = Temp[,c(1,2,3)]\n",
    "    Gene_date = Temp[,c(1,2,7)]\n",
    "\n",
    "    #Re-cast longform to wide form.  \n",
    "    Udate = acast(Udate, PlotA~PlotB)\n",
    "    Gene_date = acast(Gene_date, PlotA~PlotB)\n",
    "\n",
    "    #Convert to distance matrices\n",
    "    Gene_date = as.matrix(Gene_date) %>% dist()\n",
    "    Udate = as.matrix(Udate) %>% dist()\n",
    "\n",
    "M1 = mantel(Gene_date, Udate, method=\"pearson\", permutations=999)\n",
    "print(M1)"
   ]
  },
  {
   "cell_type": "markdown",
   "metadata": {},
   "source": [
    "#### DAP = 79;  Mantel test N economy traits vs MCC"
   ]
  },
  {
   "cell_type": "code",
   "execution_count": null,
   "metadata": {
    "collapsed": false,
    "scrolled": false
   },
   "outputs": [],
   "source": [
    "%%R\n",
    "physeq.Date = subset_samples(physeq.Plant, Plant %in% c(\"B73\" ,  \"B97\" ,  \"Hp301\" , \"Oh7B\"))\n",
    "sd = sample_data(physeq.Date)\n",
    "D_dist$PlantComp %>% unique %>% print\n",
    "# Calculate w-unifrac distances\n",
    "registerDoParallel(cores=28)\n",
    "date.wunif.dist = distance(physeq.Date, \n",
    "                      method = \"unifrac\", \n",
    "                      weighted = TRUE,\n",
    "                      fast = TRUE, \n",
    "                      parallel = TRUE, \n",
    "                      normalized = FALSE)\n",
    "\n",
    "#Calculate functional distances\n",
    "Fun_dist = dist(sd[,c(\"Resid_logB\", \"Resid_logN\", \"Resid_logCN\")], method = \"euclidian\")\n",
    "\n",
    "\n",
    "M1 = mantel(date.wunif.dist, Fun_dist, method=\"pearson\", permutations=999)\n",
    "M1"
   ]
  },
  {
   "cell_type": "markdown",
   "metadata": {},
   "source": [
    "#### DAP 79; CAP analysis N economy vs MCC"
   ]
  },
  {
   "cell_type": "code",
   "execution_count": null,
   "metadata": {
    "collapsed": false,
    "scrolled": false
   },
   "outputs": [],
   "source": [
    "%%R -w 600 -h 600\n",
    "phy = physeq.Date\n",
    "\n",
    "sample_data(phy)$DAP = as.factor(sample_data(phy)$DAP)\n",
    "unique(sample_data(phy)$DAP) %>% print\n",
    "# CAP ordinate\n",
    "cap.ord = ordinate(\n",
    "    physeq = phy, \n",
    "    method = \"CAP\",\n",
    "    distance = date.wunif.dist,\n",
    "    formula = ~ Resid_logB + Resid_logN + Resid_logCN + Condition(Library)\n",
    ")\n",
    "\n",
    "# CAP plot\n",
    "cap.plot <- plot_ordination(\n",
    "    phy, \n",
    "    cap.ord, \n",
    "    color = \"Plant\", \n",
    "    axes = c(1,2)\n",
    "    ) + \n",
    "    aes(shape = Type) + \n",
    "    geom_point(aes(colour = Plant), \n",
    "        alpha= 1, \n",
    "        size = 4) + \n",
    "    #geom_point(colour = \"grey90\", \n",
    "    #    size = 1.5) + \n",
    "    theme_bw(base_size = 16)\n",
    "    #scale_color_manual(values = c(\"#a65628\", \"red\", \"#ffae19\", \"#4daf4a\", \n",
    "    #    \"#1919ff\", \"darkorchid3\", \"magenta\"))\n",
    "\n",
    "# Now add the environmental variables as arrows\n",
    "arrowmat <- vegan::scores(cap.ord, display = \"bp\")\n",
    "\n",
    "\n",
    "# Add labels, make a data.frame\n",
    "arrowdf <- data.frame(labels = rownames(arrowmat), arrowmat)\n",
    "\n",
    "# Define the arrow aesthetic mapping\n",
    "arrow_map <- aes(xend = CAP1, \n",
    "    yend = CAP2, \n",
    "    x = 0, \n",
    "    y = 0, \n",
    "    shape = NULL, \n",
    "    color = NULL, \n",
    "    label = labels)\n",
    "\n",
    "label_map <- aes(x = 1.3 * CAP1, \n",
    "    y = 1.3 * CAP2, \n",
    "    shape = NULL, \n",
    "    color = NULL, \n",
    "    label = labels)\n",
    "\n",
    "arrowhead = arrow(length = unit(0.02, \"npc\"))\n",
    "\n",
    "# Make a new graphic\n",
    "cap.plot + \n",
    "geom_segment(arrow_map, \n",
    "    size = .5, \n",
    "    data = arrowdf, \n",
    "    color = \"gray\", \n",
    "    arrow = arrowhead\n",
    "    ) + \n",
    "geom_text(label_map, \n",
    "    size = 4,  \n",
    "    data = arrowdf, \n",
    "    show_guide = FALSE)"
   ]
  },
  {
   "cell_type": "code",
   "execution_count": null,
   "metadata": {
    "collapsed": false
   },
   "outputs": [],
   "source": [
    "%%R\n",
    "anova(cap.ord)"
   ]
  },
  {
   "cell_type": "code",
   "execution_count": null,
   "metadata": {
    "collapsed": true
   },
   "outputs": [],
   "source": []
  },
  {
   "cell_type": "code",
   "execution_count": null,
   "metadata": {
    "collapsed": true
   },
   "outputs": [],
   "source": []
  },
  {
   "cell_type": "markdown",
   "metadata": {},
   "source": [
    "#### DAP = 88; Mantel test maize genetic distance vs MCC"
   ]
  },
  {
   "cell_type": "code",
   "execution_count": null,
   "metadata": {
    "collapsed": false,
    "scrolled": true
   },
   "outputs": [],
   "source": [
    "%%R\n",
    "\n",
    "# subset matrices\n",
    "D_dist = filter(Dist, PlantA %in% c(\"Ki3\" ,  \"Mo18\" , \"Tx303\" ) & PlantB %in% c(\"Ki3\" ,  \"Mo18\" , \"Tx303\"))\n",
    "D_dist$PlantComp %>% unique %>% print\n",
    "#pull matrices\n",
    "    Temp = D_dist[!is.na(D_dist$gene_Dist),]\n",
    "    \n",
    "    #Seperate unifrac and genetic distances retaining plot IDs\n",
    "\n",
    "    Udate = Temp[,c(1,2,3)]\n",
    "    Gene_date = Temp[,c(1,2,7)]\n",
    "\n",
    "    #Re-cast longform to wide form.  \n",
    "    Udate = acast(Udate, PlotA~PlotB)\n",
    "    Gene_date = acast(Gene_date, PlotA~PlotB)\n",
    "\n",
    "    #Convert to distance matrices\n",
    "    Gene_date = as.matrix(Gene_date) %>% dist()\n",
    "    Udate = as.matrix(Udate) %>% dist()\n",
    "\n",
    "M1 = mantel(Gene_date, Udate, method=\"pearson\", permutations=999)\n",
    "print(M1)"
   ]
  },
  {
   "cell_type": "markdown",
   "metadata": {},
   "source": [
    "#### DAP = 88; Mantel test N economy vs MCC"
   ]
  },
  {
   "cell_type": "code",
   "execution_count": null,
   "metadata": {
    "collapsed": false,
    "scrolled": true
   },
   "outputs": [],
   "source": [
    "%%R\n",
    "physeq.Date = subset_samples(physeq.Plant, Plant %in% c(\"Ki3\" ,  \"Mo18\" , \"Tx303\"))\n",
    "sd = sample_data(physeq.Date)\n",
    "\n",
    "# Calculate w-unifrac distances\n",
    "registerDoParallel(cores=28)\n",
    "date.wunif.dist = distance(physeq.Date, \n",
    "                      method = \"unifrac\", \n",
    "                      weighted = TRUE,\n",
    "                      fast = TRUE, \n",
    "                      parallel = TRUE, \n",
    "                      normalized = FALSE)\n",
    "\n",
    "#Calculate functional distances\n",
    "Fun_dist = dist(sd[,c(\"Resid_logB\", \"Resid_logN\", \"Resid_logCN\")], method = \"euclidian\")\n",
    "\n",
    "\n",
    "M1 = mantel(date.wunif.dist, Fun_dist, method=\"pearson\", permutations=999)\n",
    "M1"
   ]
  },
  {
   "cell_type": "markdown",
   "metadata": {},
   "source": [
    "#### DAP = 88; CAP analysis N economy vs MCC"
   ]
  },
  {
   "cell_type": "code",
   "execution_count": null,
   "metadata": {
    "collapsed": false,
    "scrolled": true
   },
   "outputs": [],
   "source": [
    "%%R -w 600 -h 600\n",
    "phy = physeq.Date\n",
    "\n",
    "sample_data(phy)$DAP = as.factor(sample_data(phy)$DAP)\n",
    "unique(sample_data(phy)$DAP) %>% print\n",
    "# CAP ordinate\n",
    "cap.ord = ordinate(\n",
    "    physeq = phy, \n",
    "    method = \"CAP\",\n",
    "    distance = date.wunif.dist,\n",
    "    formula = ~ Resid_logB + Resid_logN + Resid_logCN\n",
    ")\n",
    "\n",
    "# CAP plot\n",
    "cap.plot <- plot_ordination(\n",
    "    phy, \n",
    "    cap.ord, \n",
    "    color = \"Plant\", \n",
    "    axes = c(1,2)\n",
    "    ) + \n",
    "    aes(shape = Type) + \n",
    "    geom_point(aes(colour = Plant), \n",
    "        alpha= 1, \n",
    "        size = 4) + \n",
    "    #geom_point(colour = \"grey90\", \n",
    "    #    size = 1.5) + \n",
    "    theme_bw(base_size = 16)\n",
    "    #scale_color_manual(values = c(\"#a65628\", \"red\", \"#ffae19\", \"#4daf4a\", \n",
    "    #    \"#1919ff\", \"darkorchid3\", \"magenta\"))\n",
    "\n",
    "# Now add the environmental variables as arrows\n",
    "arrowmat <- vegan::scores(cap.ord, display = \"bp\")\n",
    "\n",
    "\n",
    "# Add labels, make a data.frame\n",
    "arrowdf <- data.frame(labels = rownames(arrowmat), arrowmat)\n",
    "\n",
    "# Define the arrow aesthetic mapping\n",
    "arrow_map <- aes(xend = CAP1, \n",
    "    yend = CAP2, \n",
    "    x = 0, \n",
    "    y = 0, \n",
    "    shape = NULL, \n",
    "    color = NULL, \n",
    "    label = labels)\n",
    "\n",
    "label_map <- aes(x = 1.3 * CAP1, \n",
    "    y = 1.3 * CAP2, \n",
    "    shape = NULL, \n",
    "    color = NULL, \n",
    "    label = labels)\n",
    "\n",
    "arrowhead = arrow(length = unit(0.02, \"npc\"))\n",
    "\n",
    "# Make a new graphic\n",
    "cap.plot + \n",
    "geom_segment(arrow_map, \n",
    "    size = .5, \n",
    "    data = arrowdf, \n",
    "    color = \"gray\", \n",
    "    arrow = arrowhead\n",
    "    ) + \n",
    "geom_text(label_map, \n",
    "    size = 4,  \n",
    "    data = arrowdf, \n",
    "    show_guide = FALSE)"
   ]
  },
  {
   "cell_type": "code",
   "execution_count": null,
   "metadata": {
    "collapsed": false,
    "scrolled": true
   },
   "outputs": [],
   "source": [
    "%%R\n",
    "anova(cap.ord)"
   ]
  },
  {
   "cell_type": "markdown",
   "metadata": {},
   "source": [
    "# Time vs MCC mantel test"
   ]
  },
  {
   "cell_type": "code",
   "execution_count": 31,
   "metadata": {
    "collapsed": false
   },
   "outputs": [
    {
     "data": {
      "text/plain": [
       " [1] 72 61 61 72 72 36 79 79 72 53 72 57 72 36 72 79 61 79 72 79 72 79 72 72 57\n",
       "[26] 53 72 79 72 79 72 72 57 79 79 79 72 72 53 79 72 36 61 72 72 36 57 53 88 84\n",
       "[51] 88 84 57 79 84 84 53 88 79 53 88 88 84 84 88 57 84 88 84 84 84 84 53 88 88\n",
       "[76] 88 88 88 88 79 57 88 79 88 57 84 88\n"
      ]
     },
     "metadata": {},
     "output_type": "display_data"
    }
   ],
   "source": [
    "%%R\n",
    "sample_data(physeq.Nneg)$DAP"
   ]
  },
  {
   "cell_type": "code",
   "execution_count": null,
   "metadata": {
    "collapsed": false
   },
   "outputs": [],
   "source": [
    "%%R\n",
    "sd = sample_data(physeq.Nneg)\n",
    "\n",
    "# Calculate w-unifrac distances\n",
    "registerDoParallel(cores=28)\n",
    "date.wunif.dist = distance(physeq.Nneg, \n",
    "                      method = \"unifrac\", \n",
    "                      weighted = TRUE,\n",
    "                      fast = TRUE, \n",
    "                      parallel = TRUE, \n",
    "                      normalized = FALSE)\n",
    "\n",
    "#Calculate functional distances\n",
    "Fun_dist = dist(sd[,c(\"DAP\")], method = \"euclidian\")\n",
    "\n",
    "\n",
    "M1 = mantel(date.wunif.dist, Fun_dist, method=\"pearson\", permutations=999)\n",
    "M1"
   ]
  },
  {
   "cell_type": "code",
   "execution_count": null,
   "metadata": {
    "collapsed": false,
    "scrolled": true
   },
   "outputs": [],
   "source": [
    "%%R\n",
    "mcc.correlog <- mantel.correlog(date.wunif.dist, Fun_dist, nperm=99)\n",
    "summary(mcc.correlog) %>% print\n",
    "mcc.correlog  %>% print\n",
    "plot(mcc.correlog) "
   ]
  },
  {
   "cell_type": "markdown",
   "metadata": {},
   "source": [
    "# Ignore below this point"
   ]
  },
  {
   "cell_type": "markdown",
   "metadata": {},
   "source": [
    "# Compare plant phylogenetic distance to l2f"
   ]
  },
  {
   "cell_type": "code",
   "execution_count": null,
   "metadata": {
    "collapsed": false
   },
   "outputs": [],
   "source": [
    "%%R\n",
    "# log2foldFile = '/home/bryan/RhizCG/data/MiSeq_amplicon/MergedRuns/DeSeq2/bare-plant.csv'\n",
    "# l2f = read.csv(log2foldFile, header = TRUE)\n",
    "# colnames(l2f)"
   ]
  },
  {
   "cell_type": "markdown",
   "metadata": {},
   "source": [
    "### Spread by plant to make matrix of log2fold change in each OTU by plant combo"
   ]
  },
  {
   "cell_type": "code",
   "execution_count": null,
   "metadata": {
    "collapsed": false
   },
   "outputs": [],
   "source": [
    "%%R\n",
    "# df = l2f[,c(1,11,13)]\n",
    "# l2f_m = spread(df, Plant, log2FoldChange, fill = 0, drop = TRUE)\n",
    "# rownames(l2f_m) = l2f_m$OTU\n",
    "# l2f_m = l2f_m[,-1]\n",
    "# l2f_m %>% head"
   ]
  },
  {
   "cell_type": "code",
   "execution_count": null,
   "metadata": {
    "collapsed": false,
    "scrolled": true
   },
   "outputs": [],
   "source": [
    "%%R\n",
    "# dim(l2f_m)"
   ]
  },
  {
   "cell_type": "markdown",
   "metadata": {},
   "source": [
    "### recode all negative log2fold changes with 0"
   ]
  },
  {
   "cell_type": "code",
   "execution_count": null,
   "metadata": {
    "collapsed": false,
    "scrolled": true
   },
   "outputs": [],
   "source": [
    "%%R\n",
    "# l2f_me = l2f_m\n",
    "# l2f_me[l2f_me < 0] = 0 \n",
    "# head(l2f_me)"
   ]
  },
  {
   "cell_type": "markdown",
   "metadata": {},
   "source": [
    "## Calculate pairwise weighted Unifrac distances between samples\n",
    "\n",
    "need to figure out how to run unifrac measure outside of phyloseq"
   ]
  },
  {
   "cell_type": "code",
   "execution_count": null,
   "metadata": {
    "collapsed": false
   },
   "outputs": [],
   "source": [
    "%%R\n",
    "# physeq.Full"
   ]
  },
  {
   "cell_type": "code",
   "execution_count": null,
   "metadata": {
    "collapsed": false,
    "hide_input": true
   },
   "outputs": [],
   "source": [
    "%%R\n",
    "# #provide fast tree for unifrac calculation\n",
    "# #treeFile = '/home/bryan/RhizCG/data/MiSeq_amplicon/MergedRuns/fasttree/otusn.tree'\n",
    "# #Tree = read.tree(treeFile)\n",
    "# Tree = phy_tree(physeq.Full)\n",
    "# str(Tree)\n"
   ]
  },
  {
   "cell_type": "code",
   "execution_count": null,
   "metadata": {
    "collapsed": false
   },
   "outputs": [],
   "source": [
    "%%R\n",
    "# l2f_wunif = picante::unifrac(as.matrix(t(l2f_me)), Tree)"
   ]
  },
  {
   "cell_type": "code",
   "execution_count": null,
   "metadata": {
    "collapsed": false
   },
   "outputs": [],
   "source": [
    "%%R\n",
    "# l2f_bray = vegdist(as.matrix(t(l2f_me)), method = \"bray\")"
   ]
  },
  {
   "cell_type": "code",
   "execution_count": null,
   "metadata": {
    "collapsed": false,
    "scrolled": true
   },
   "outputs": [],
   "source": [
    "%%R\n",
    "# hc_unif = hclust(l2f_wunif, \"average\")\n",
    "# plot(hc_unif) %>% print\n",
    "\n",
    "# hc_bray = hclust(l2f_bray, \"average\")\n",
    "# plot(hc_bray, main = \"Cluster Dendrogram, \\n Bray-Curtis Distance\")"
   ]
  },
  {
   "cell_type": "markdown",
   "metadata": {},
   "source": [
    "# Mantel test of phylogenetic distance and l2f unifrac distance"
   ]
  },
  {
   "cell_type": "markdown",
   "metadata": {},
   "source": [
    "### Maize"
   ]
  },
  {
   "cell_type": "code",
   "execution_count": null,
   "metadata": {
    "collapsed": false,
    "scrolled": true
   },
   "outputs": [],
   "source": [
    "%%R\n",
    "# NAMdist %>% print\n",
    "\n",
    "# #subset column and rows of log2fold change so that only NAM lines are included\n",
    "# NLU = as.matrix(l2f_wunif)\n",
    "# NLU = NLU[c(4,5,11,13:18,22),c(4,5,11,13:18,22)]\n",
    "# NLU\n",
    "\n",
    "# NLB = as.matrix(l2f_bray)\n",
    "# NLB = NLB[c(4,5,11,13:18,22),c(4,5,11,13:18,22)]\n",
    "# NLB"
   ]
  },
  {
   "cell_type": "code",
   "execution_count": null,
   "metadata": {
    "collapsed": false,
    "scrolled": false
   },
   "outputs": [],
   "source": [
    "%%R\n",
    "# M1 = mantel(as.dist(NAMdist), as.dist(NLU), method=\"pearson\", permutations=999)\n",
    "# print(M1)"
   ]
  },
  {
   "cell_type": "code",
   "execution_count": null,
   "metadata": {
    "collapsed": false
   },
   "outputs": [],
   "source": [
    "%%R\n",
    "# M1 = mantel(as.dist(NAMdist), as.dist(NLB), method=\"pearson\", permutations=999)\n",
    "# print(M1)"
   ]
  },
  {
   "cell_type": "markdown",
   "metadata": {},
   "source": [
    "### Species"
   ]
  },
  {
   "cell_type": "code",
   "execution_count": null,
   "metadata": {
    "collapsed": false
   },
   "outputs": [],
   "source": [
    "%%R\n",
    "\n",
    "# #Organize log2fold change distance matrix so that only plants with cholorplast distances are included \n",
    "# #and column and row order is congruent with phylogenetic distance matrix\n",
    "# l2f_wunif.t = as.matrix(l2f_wunif) %>% as.data.frame()\n",
    "#     temp1 = l2f_wunif.t[c(\"FAGES\", \"AMAPO\", \"HELAN\", \"ABUTH\", \"GLYMA\", \"SORBI\", \"B73\", \"ECHCG\",\n",
    "#                     \"SETFA\", \"ERATE\", \"ELCOR\"), c(\"FAGES\", \"AMAPO\", \"HELAN\", \"ABUTH\", \"GLYMA\", \"SORBI\", \"B73\", \"ECHCG\",\n",
    "#                     \"SETFA\", \"ERATE\", \"ELCOR\")]\n",
    "\n",
    "#     SLU = as.matrix(temp1)\n",
    "\n",
    "#     SLU = as.dist(SLU)\n",
    "#     SLU %>% print\n",
    "\n",
    "# #Remove ginkgo so that matrices are congruent\n",
    "# p.temp = as.matrix(phydist) %>% as.data.frame()\n",
    "#     temp2 = p.temp[-12, -12] #remove ginkgo\n",
    "\n",
    "#     temp2 = as.matrix(temp2)\n",
    "#     phydist = as.dist(temp2)\n",
    "\n",
    "#     phydist %>% print\n",
    "\n",
    "# l2f_bray.t = as.matrix(l2f_bray) %>% as.data.frame()\n",
    "#     temp2 = l2f_bray.t[c(\"FAGES\", \"AMAPO\", \"HELAN\", \"ABUTH\", \"GLYMA\", \"SORBI\", \"B73\", \"ECHCG\",\n",
    "#                     \"SETFA\", \"ERATE\", \"ELCOR\"), c(\"FAGES\", \"AMAPO\", \"HELAN\", \"ABUTH\", \"GLYMA\", \"SORBI\", \"B73\", \"ECHCG\",\n",
    "#                     \"SETFA\", \"ERATE\", \"ELCOR\")]\n",
    "\n",
    "#     SLB = as.matrix(temp2)\n",
    "#     SLB = as.dist(SLB)\n",
    "#     SLB %>% print\n"
   ]
  },
  {
   "cell_type": "code",
   "execution_count": null,
   "metadata": {
    "collapsed": false,
    "scrolled": true
   },
   "outputs": [],
   "source": [
    "%%R\n",
    "# m1 = mantel(phydist, SLU, method=\"pearson\", permutations=999)\n",
    "# print(m1)"
   ]
  },
  {
   "cell_type": "code",
   "execution_count": null,
   "metadata": {
    "collapsed": false,
    "scrolled": true
   },
   "outputs": [],
   "source": [
    "%%R\n",
    "# m1 = mantel(phydist, SLB, method=\"pearson\", permutations=999)\n",
    "# print(m1)"
   ]
  }
 ],
 "metadata": {
  "hide_input": true,
  "kernelspec": {
   "display_name": "Python 2",
   "language": "python",
   "name": "python2"
  },
  "language_info": {
   "codemirror_mode": {
    "name": "ipython",
    "version": 2
   },
   "file_extension": ".py",
   "mimetype": "text/x-python",
   "name": "python",
   "nbconvert_exporter": "python",
   "pygments_lexer": "ipython2",
   "version": "2.7.11"
  }
 },
 "nbformat": 4,
 "nbformat_minor": 0
}
