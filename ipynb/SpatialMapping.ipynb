{
 "cells": [
  {
   "cell_type": "markdown",
   "metadata": {},
   "source": [
    "# Spatial mapping"
   ]
  },
  {
   "cell_type": "markdown",
   "metadata": {},
   "source": [
    "## Set Variables"
   ]
  },
  {
   "cell_type": "code",
   "execution_count": 1,
   "metadata": {
    "collapsed": true
   },
   "outputs": [],
   "source": [
    "workDir = '/home/bryan/RhizCG/figures/'\n",
    "fullData = '/home/bryan/RhizCG/data/MiSeq_amplicon/PlotData.txt'"
   ]
  },
  {
   "cell_type": "markdown",
   "metadata": {},
   "source": [
    "# Init"
   ]
  },
  {
   "cell_type": "code",
   "execution_count": 2,
   "metadata": {
    "collapsed": false
   },
   "outputs": [],
   "source": [
    "%load_ext rpy2.ipython"
   ]
  },
  {
   "cell_type": "code",
   "execution_count": 71,
   "metadata": {
    "collapsed": false,
    "scrolled": true
   },
   "outputs": [
    {
     "name": "stderr",
     "output_type": "stream",
     "text": [
      "/opt/anaconda/lib/python2.7/site-packages/rpy2/robjects/functions.py:106: UserWarning: Loading required package: estimability\n",
      "\n",
      "  res = super(Function, self).__call__(*new_args, **new_kwargs)\n",
      "/opt/anaconda/lib/python2.7/site-packages/rpy2/robjects/functions.py:106: UserWarning: \n",
      "Attaching package: ‘lsmeans’\n",
      "\n",
      "\n",
      "  res = super(Function, self).__call__(*new_args, **new_kwargs)\n",
      "/opt/anaconda/lib/python2.7/site-packages/rpy2/robjects/functions.py:106: UserWarning: The following object is masked from ‘package:lmerTest’:\n",
      "\n",
      "    lsmeans\n",
      "\n",
      "\n",
      "  res = super(Function, self).__call__(*new_args, **new_kwargs)\n"
     ]
    }
   ],
   "source": [
    "%%R\n",
    "library(lsmeans)\n",
    "library(lme4)\n",
    "library(lmerTest)\n",
    "library(ggplot2)\n",
    "library(dplyr)\n",
    "library(pbkrtest)\n",
    "library(gridExtra)\n",
    "library(multcomp)\n",
    "library(lattice)"
   ]
  },
  {
   "cell_type": "markdown",
   "metadata": {},
   "source": [
    "### Read plant master table "
   ]
  },
  {
   "cell_type": "code",
   "execution_count": 57,
   "metadata": {
    "collapsed": false
   },
   "outputs": [
    {
     "data": {
      "text/plain": [
       " [1] \"Unique\"             \"PlotID\"             \"Plant\"             \n",
       " [4] \"Plot\"               \"Treatment\"          \"Rep\"               \n",
       " [7] \"DAP\"                \"Sampling\"           \"PlantSample\"       \n",
       "[10] \"Type\"               \"Grass_Broad\"        \"Status\"            \n",
       "[13] \"Subfamily\"          \"Symbol_class\"       \"Plant_num\"         \n",
       "[16] \"Leaf_AreaBiomass_g\" \"Biomass_T\"          \"Biomass_P\"         \n",
       "[19] \"Leaf_Area_cm2\"      \"SLA\"                \"Leaf_N\"            \n",
       "[22] \"Leaf_C\"             \"LeafC_N\"            \"LNa\"               \n",
       "[25] \"Plant_N\"            \"Plant_C\"            \"Plant_CN\"          \n",
       "[28] \"d15N\"               \"tN_p\"               \"BX_act\"            \n",
       "[31] \"CB_act\"             \"LAP_act\"            \"NAG_act\"           \n",
       "[34] \"soil_dw\"            \"BX_activity_g\"      \"CB_activity_g\"     \n",
       "[37] \"LAP_activity_g\"     \"NAG_activity_g\"     \"BX_barefactor\"     \n",
       "[40] \"CB_barefactor\"      \"LAP_barefactor\"     \"NAG_barefactor\"    \n",
       "[43] \"BX_dif\"             \"CB_dif\"             \"LAP_dif\"           \n",
       "[46] \"NAG_dif\"            \"BX_rel\"             \"CB_rel\"            \n",
       "[49] \"LAP_rel\"            \"NAG_rel\"            \"NO3_ug_g\"          \n",
       "[52] \"NH4_ug_g\"           \"InorganicN\"         \"Resid_logB\"        \n",
       "[55] \"Resid_logN\"         \"Resid_logCN\"        \"Resid_logSLA\"      \n",
       "[58] \"Resid_LeafN\"       \n"
      ]
     },
     "metadata": {},
     "output_type": "display_data"
    }
   ],
   "source": [
    "%%R -i fullData -i workDir\n",
    "setwd(workDir)\n",
    "Master = read.table(fullData, header = TRUE)\n",
    "Master$Rep = as.factor(Master$Rep)\n",
    "colnames(Master)"
   ]
  },
  {
   "cell_type": "markdown",
   "metadata": {
    "collapsed": true
   },
   "source": [
    "# Create xy coordinate variables"
   ]
  },
  {
   "cell_type": "markdown",
   "metadata": {},
   "source": [
    "## X"
   ]
  },
  {
   "cell_type": "code",
   "execution_count": 59,
   "metadata": {
    "collapsed": false
   },
   "outputs": [
    {
     "data": {
      "text/plain": [
       "'data.frame':\t8 obs. of  3 variables:\n",
       " $ Rep      : Factor w/ 4 levels \"1\",\"2\",\"3\",\"4\": 1 1 2 2 3 3 4 4\n",
       " $ Treatment: Factor w/ 2 levels \"Nneg\",\"Npos\": 2 1 1 2 1 2 2 1\n",
       " $ Xpos     : num  0 10 30 40 60 70 90 100\n"
      ]
     },
     "metadata": {},
     "output_type": "display_data"
    }
   ],
   "source": [
    "%%R\n",
    "Xmap = cbind(c(1,1,2,2,3,3,4,4),\n",
    "            c(\"Npos\", \"Nneg\", \"Nneg\", \"Npos\", \"Nneg\", \"Npos\", \"Npos\", \"Nneg\"),\n",
    "            c(0, 1, 3, 4, 6, 7, 9, 10)) %>%\n",
    "            as.data.frame()\n",
    "            colnames(Xmap) = c(\"Rep\", \"Treatment\", \"Xpos\")\n",
    "Xmap$Xpos = as.numeric(as.character(Xmap$Xpos))*10\n",
    "\n",
    "str(Xmap)"
   ]
  },
  {
   "cell_type": "code",
   "execution_count": 60,
   "metadata": {
    "collapsed": false
   },
   "outputs": [
    {
     "data": {
      "text/plain": [
       "             Unique    PlotID Plant Plot Treatment Rep DAP Sampling\n",
       "1 sample1-1.06_Nneg 1.06_Nneg  BARE 1.06      Nneg   1  36  sample1\n",
       "2 sample1-1.06_Npos 1.06_Npos  BARE 1.06      Npos   1  36  sample1\n",
       "3 sample1-1.27_Nneg 1.27_Nneg FAGES 1.27      Nneg   1  36  sample1\n",
       "4 sample1-1.27_Npos 1.27_Npos FAGES 1.27      Npos   1  36  sample1\n",
       "5 sample1-2.05_Nneg 2.05_Nneg  BARE 2.05      Nneg   2  36  sample1\n",
       "6 sample1-2.05_Npos 2.05_Npos  BARE 2.05      Npos   2  36  sample1\n",
       "    PlantSample     Type Grass_Broad    Status Subfamily Symbol_class Plant_num\n",
       "1  BARE_sample1     BARE   Bare_Soil Bare_Soil      <NA>            4        NA\n",
       "2  BARE_sample1     BARE   Bare_Soil Bare_Soil      <NA>            4        NA\n",
       "3 FAGES_sample1 Dicot-NM       Dicot      Crop      <NA>           24         4\n",
       "4 FAGES_sample1 Dicot-NM       Dicot      Crop      <NA>           24         3\n",
       "5  BARE_sample1     BARE   Bare_Soil Bare_Soil      <NA>            4        NA\n",
       "6  BARE_sample1     BARE   Bare_Soil Bare_Soil      <NA>            4        NA\n",
       "  Leaf_AreaBiomass_g Biomass_T Biomass_P Leaf_Area_cm2      SLA Leaf_N  Leaf_C\n",
       "1                 NA        NA        NA            NA       NA     NA      NA\n",
       "2                 NA        NA        NA            NA       NA     NA      NA\n",
       "3               0.79     29.73    7.4325        174.10 220.3797 4.8923 39.4680\n",
       "4               0.44     13.59    4.5300        125.07 284.2500 5.2595 38.0945\n",
       "5                 NA        NA        NA            NA       NA     NA      NA\n",
       "6                 NA        NA        NA            NA       NA     NA      NA\n",
       "   LeafC_N         LNa  Plant_N  Plant_C Plant_CN d15N      tN_p    BX_act\n",
       "1       NA          NA       NA       NA       NA   NA        NA  8.995498\n",
       "2       NA          NA       NA       NA       NA   NA        NA  9.688202\n",
       "3 8.067371 0.000221994 4.683803 37.29395 7.962322   NA 0.3481237 12.588732\n",
       "4 7.297666 0.000185031 5.050939 36.72432 7.270791   NA 0.2288076 19.871793\n",
       "5       NA          NA       NA       NA       NA   NA        NA 11.738641\n",
       "6       NA          NA       NA       NA       NA   NA        NA 10.246102\n",
       "     CB_act  LAP_act  NAG_act  soil_dw BX_activity_g CB_activity_g\n",
       "1  8.635893 26.82090 5.603401 2.257196      21.10834      20.29317\n",
       "2  8.443455 44.08564 5.404947 2.169071      23.65742      20.64706\n",
       "3 11.707434 34.35652 4.924898 2.205411      30.23364      28.15685\n",
       "4 15.286913 67.41443 9.066282 2.253908      46.69807      35.97456\n",
       "5 11.366714 31.92402 5.879510 2.474112      25.13023      24.36842\n",
       "6  9.171832 31.29717 5.188926 2.185933      24.82674      22.25518\n",
       "  LAP_activity_g NAG_activity_g BX_barefactor CB_barefactor LAP_barefactor\n",
       "1       107.8910       13.53086      21.50868      20.51567       115.3137\n",
       "2       184.5460       13.58190      21.27722      18.32921       133.7975\n",
       "3       141.4493       12.17168      21.50868      20.51567       115.3137\n",
       "4       271.5801       21.92481      21.27722      18.32921       133.7975\n",
       "5       117.1600       12.95283      21.50868      20.51567       115.3137\n",
       "6       130.0018       12.93848      21.27722      18.32921       133.7975\n",
       "  NAG_barefactor     BX_dif     CB_dif    LAP_dif    NAG_dif   BX_rel    CB_rel\n",
       "1       12.61983 -0.4003413 -0.2224969  -7.422645  0.9110297 0.981387 0.9891548\n",
       "2       11.98306  2.3802022  2.3178468  50.748468  1.5988382 1.111866 1.1264564\n",
       "3       12.61983  8.7249612  7.6411799  26.135609 -0.4481473 1.405648 1.3724558\n",
       "4       11.98306 25.4208504 17.6453472 137.782603  9.9417530 2.194745 1.9626899\n",
       "5       12.61983  3.6215532  3.8527564   1.846352  0.3330014 1.168376 1.1877958\n",
       "6       11.98306  3.5495266  3.9259626  -3.795700  0.9554245 1.166823 1.2141916\n",
       "    LAP_rel   NAG_rel  NO3_ug_g NH4_ug_g InorganicN Resid_logB Resid_logN\n",
       "1 0.9356308 1.0721903  6.370082 2.744115   9.114197         NA         NA\n",
       "2 1.3792931 1.1334249 15.672579 3.271927  18.944506         NA         NA\n",
       "3 1.2266479 0.9644886  7.809719 4.455254  12.264973 0.53376326  0.7534075\n",
       "4 2.0297847 1.8296507 28.309804 6.711506  35.021310 0.03862293  0.3337309\n",
       "5 1.0160116 1.0263872  7.774858 2.574021  10.348880         NA         NA\n",
       "6 0.9716310 1.0797313 12.808829 2.772356  15.581185         NA         NA\n",
       "  Resid_logCN Resid_logSLA Resid_LeafN Xpos\n",
       "1          NA           NA          NA   10\n",
       "2          NA           NA          NA    0\n",
       "3  -0.3016351     0.113621  -0.1077183   10\n",
       "4  -0.3924907     0.368123   0.2594817    0\n",
       "5          NA           NA          NA   30\n",
       "6          NA           NA          NA   40\n"
      ]
     },
     "metadata": {},
     "output_type": "display_data"
    }
   ],
   "source": [
    "%%R\n",
    "Master = left_join(Master, Xmap)\n",
    "Master$Xpos = as.numeric(Master$Xpos)\n",
    "head(Master)\n"
   ]
  },
  {
   "cell_type": "code",
   "execution_count": 61,
   "metadata": {
    "collapsed": false
   },
   "outputs": [
    {
     "data": {
      "text/plain": [
       "'data.frame':\t272 obs. of  60 variables:\n",
       " $ Unique            : Factor w/ 272 levels \"sample1-1.06_Nneg\",..: 1 2 3 4 5 6 7 8 9 10 ...\n",
       " $ PlotID            : Factor w/ 216 levels \"1.02_Nneg\",\"1.02_Npos\",..: 9 10 49 50 61 62 97 98 121 122 ...\n",
       " $ Plant             : Factor w/ 27 levels \"75-062\",\"ABUTH\",..: 6 6 10 10 6 6 10 10 6 6 ...\n",
       " $ Plot              : num  1.06 1.06 1.27 1.27 2.05 2.05 2.23 2.23 3.07 3.07 ...\n",
       " $ Treatment         : Factor w/ 2 levels \"Nneg\",\"Npos\": 1 2 1 2 1 2 1 2 1 2 ...\n",
       " $ Rep               : Factor w/ 4 levels \"1\",\"2\",\"3\",\"4\": 1 1 1 1 2 2 2 2 3 3 ...\n",
       " $ DAP               : int  36 36 36 36 36 36 36 36 36 36 ...\n",
       " $ Sampling          : Factor w/ 8 levels \"sample1\",\"sample2\",..: 1 1 1 1 1 1 1 1 1 1 ...\n",
       " $ PlantSample       : Factor w/ 34 levels \"75-062_sample5\",..: 6 6 17 17 6 6 17 17 6 6 ...\n",
       " $ Type              : Factor w/ 6 levels \"BARE\",\"C4_Grass\",..: 1 1 4 4 1 1 4 4 1 1 ...\n",
       " $ Grass_Broad       : Factor w/ 3 levels \"Bare_Soil\",\"Dicot\",..: 1 1 2 2 1 1 2 2 1 1 ...\n",
       " $ Status            : Factor w/ 3 levels \"Bare_Soil\",\"Crop\",..: 1 1 2 2 1 1 2 2 1 1 ...\n",
       " $ Subfamily         : Factor w/ 2 levels \"Andropogoneae\",..: NA NA NA NA NA NA NA NA NA NA ...\n",
       " $ Symbol_class      : int  4 4 24 24 4 4 24 24 4 4 ...\n",
       " $ Plant_num         : int  NA NA 4 3 NA NA 4 5 NA NA ...\n",
       " $ Leaf_AreaBiomass_g: num  NA NA 0.79 0.44 NA NA 1.12 1.31 NA NA ...\n",
       " $ Biomass_T         : num  NA NA 29.7 13.6 NA ...\n",
       " $ Biomass_P         : num  NA NA 7.43 4.53 NA ...\n",
       " $ Leaf_Area_cm2     : num  NA NA 174 125 NA ...\n",
       " $ SLA               : num  NA NA 220 284 NA ...\n",
       " $ Leaf_N            : num  NA NA 4.89 5.26 NA ...\n",
       " $ Leaf_C            : num  NA NA 39.5 38.1 NA ...\n",
       " $ LeafC_N           : num  NA NA 8.07 7.3 NA ...\n",
       " $ LNa               : num  NA NA 0.000222 0.000185 NA ...\n",
       " $ Plant_N           : num  NA NA 4.68 5.05 NA ...\n",
       " $ Plant_C           : num  NA NA 37.3 36.7 NA ...\n",
       " $ Plant_CN          : num  NA NA 7.96 7.27 NA ...\n",
       " $ d15N              : num  NA NA NA NA NA NA NA NA NA NA ...\n",
       " $ tN_p              : num  NA NA 0.348 0.229 NA ...\n",
       " $ BX_act            : num  9 9.69 12.59 19.87 11.74 ...\n",
       " $ CB_act            : num  8.64 8.44 11.71 15.29 11.37 ...\n",
       " $ LAP_act           : num  26.8 44.1 34.4 67.4 31.9 ...\n",
       " $ NAG_act           : num  5.6 5.4 4.92 9.07 5.88 ...\n",
       " $ soil_dw           : num  2.26 2.17 2.21 2.25 2.47 ...\n",
       " $ BX_activity_g     : num  21.1 23.7 30.2 46.7 25.1 ...\n",
       " $ CB_activity_g     : num  20.3 20.6 28.2 36 24.4 ...\n",
       " $ LAP_activity_g    : num  108 185 141 272 117 ...\n",
       " $ NAG_activity_g    : num  13.5 13.6 12.2 21.9 13 ...\n",
       " $ BX_barefactor     : num  21.5 21.3 21.5 21.3 21.5 ...\n",
       " $ CB_barefactor     : num  20.5 18.3 20.5 18.3 20.5 ...\n",
       " $ LAP_barefactor    : num  115 134 115 134 115 ...\n",
       " $ NAG_barefactor    : num  12.6 12 12.6 12 12.6 ...\n",
       " $ BX_dif            : num  -0.4 2.38 8.72 25.42 3.62 ...\n",
       " $ CB_dif            : num  -0.222 2.318 7.641 17.645 3.853 ...\n",
       " $ LAP_dif           : num  -7.42 50.75 26.14 137.78 1.85 ...\n",
       " $ NAG_dif           : num  0.911 1.599 -0.448 9.942 0.333 ...\n",
       " $ BX_rel            : num  0.981 1.112 1.406 2.195 1.168 ...\n",
       " $ CB_rel            : num  0.989 1.126 1.372 1.963 1.188 ...\n",
       " $ LAP_rel           : num  0.936 1.379 1.227 2.03 1.016 ...\n",
       " $ NAG_rel           : num  1.072 1.133 0.964 1.83 1.026 ...\n",
       " $ NO3_ug_g          : num  6.37 15.67 7.81 28.31 7.77 ...\n",
       " $ NH4_ug_g          : num  2.74 3.27 4.46 6.71 2.57 ...\n",
       " $ InorganicN        : num  9.11 18.94 12.26 35.02 10.35 ...\n",
       " $ Resid_logB        : num  NA NA 0.5338 0.0386 NA ...\n",
       " $ Resid_logN        : num  NA NA 0.753 0.334 NA ...\n",
       " $ Resid_logCN       : num  NA NA -0.302 -0.392 NA ...\n",
       " $ Resid_logSLA      : num  NA NA 0.114 0.368 NA ...\n",
       " $ Resid_LeafN       : num  NA NA -0.108 0.259 NA ...\n",
       " $ Xpos              : num  10 0 10 0 30 40 30 40 60 70 ...\n",
       " $ Ypos              : num  60 60 270 270 50 50 230 230 70 70 ...\n"
      ]
     },
     "metadata": {},
     "output_type": "display_data"
    }
   ],
   "source": [
    "%%R\n",
    "#as.numeric(substring(as.character(Master$Plot), 2))*1000\n",
    "\n",
    "Master$Ypos = as.numeric(substring(as.character(Master$Plot), 2))*1000\n",
    "str(Master)"
   ]
  },
  {
   "cell_type": "code",
   "execution_count": 63,
   "metadata": {
    "collapsed": false
   },
   "outputs": [
    {
     "data": {
      "image/png": "[encoded data removed]"
     },
     "metadata": {},
     "output_type": "display_data"
    }
   ],
   "source": [
    "%%R\n",
    "ggplot(Master, aes(Xpos, Ypos, fill = d15N)) + \n",
    "    geom_tile() \n",
    "   #   xlab(\"X Coordinate (feet)\") + \n",
    "   # ylab(\"Y Coordinate (feet)\") +\n",
    "  #opts(title = \"Surface elevation data\") \n",
    "#   scale_fill_gradient(limits = c(7000, 10000), low = \"black\", high = \"white\") +\n",
    "#   scale_x_continuous(expand = c(0,0)) +\n",
    "#   scale_y_continuous(expand = c(0,0))"
   ]
  },
  {
   "cell_type": "code",
   "execution_count": 64,
   "metadata": {
    "collapsed": false,
    "scrolled": true
   },
   "outputs": [
    {
     "data": {
      "image/png": "[encoded data removed]"
     },
     "metadata": {},
     "output_type": "display_data"
    }
   ],
   "source": [
    "%%R\n",
    "ggplot(Master, aes(Xpos, Ypos, fill = Resid_logN)) + \n",
    "    geom_tile() "
   ]
  },
  {
   "cell_type": "code",
   "execution_count": 89,
   "metadata": {
    "collapsed": false,
    "scrolled": true
   },
   "outputs": [
    {
     "name": "stdout",
     "output_type": "stream",
     "text": [
      "R Help on ‘predict’predict                 package:stats                  R Documentation\n",
      "\n",
      "_\bM_\bo_\bd_\be_\bl _\bP_\br_\be_\bd_\bi_\bc_\bt_\bi_\bo_\bn_\bs\n",
      "\n",
      "_\bD_\be_\bs_\bc_\br_\bi_\bp_\bt_\bi_\bo_\bn:\n",
      "\n",
      "     ‘predict’ is a generic function for predictions from the results\n",
      "     of various model fitting functions.  The function invokes\n",
      "     particular _methods_ which depend on the ‘class’ of the first\n",
      "     argument.\n",
      "\n",
      "_\bU_\bs_\ba_\bg_\be:\n",
      "\n",
      "     predict (object, ...)\n",
      "     \n",
      "_\bA_\br_\bg_\bu_\bm_\be_\bn_\bt_\bs:\n",
      "\n",
      "  object: a model object for which prediction is desired.\n",
      "\n",
      "     ...: additional arguments affecting the predictions produced.\n",
      "\n",
      "_\bD_\be_\bt_\ba_\bi_\bl_\bs:\n",
      "\n",
      "     Most prediction methods which are similar to those for linear\n",
      "     models have an argument ‘newdata’ specifying the first place to\n",
      "     look for explanatory variables to be used for prediction.  Some\n",
      "     considerable attempts are made to match up the columns in\n",
      "     ‘newdata’ to those used for fitting, for example that they are of\n",
      "     comparable types and that any factors have the same level set in\n",
      "     the same order (or can be transformed to be so).\n",
      "\n",
      "     Time series prediction methods in package ‘stats’ have an argument\n",
      "     ‘n.ahead’ specifying how many time steps ahead to predict.\n",
      "\n",
      "     Many methods have a logical argument ‘se.fit’ saying if standard\n",
      "     errors are to returned.\n",
      "\n",
      "_\bV_\ba_\bl_\bu_\be:\n",
      "\n",
      "     The form of the value returned by ‘predict’ depends on the class\n",
      "     of its argument.  See the documentation of the particular methods\n",
      "     for details of what is produced by that method.\n",
      "\n",
      "_\bR_\be_\bf_\be_\br_\be_\bn_\bc_\be_\bs:\n",
      "\n",
      "     Chambers, J. M. and Hastie, T. J. (1992) _Statistical Models in\n",
      "     S_.  Wadsworth & Brooks/Cole.\n",
      "\n",
      "_\bS_\be_\be _\bA_\bl_\bs_\bo:\n",
      "\n",
      "     ‘predict.glm’, ‘predict.lm’, ‘predict.loess’, ‘predict.nls’,\n",
      "     ‘predict.poly’, ‘predict.princomp’, ‘predict.smooth.spline’.\n",
      "\n",
      "     SafePrediction for prediction from (univariable) polynomial and\n",
      "     spline fits.\n",
      "\n",
      "     For time-series prediction, ‘predict.ar’, ‘predict.Arima’,\n",
      "     ‘predict.arima0’, ‘predict.HoltWinters’, ‘predict.StructTS’.\n",
      "\n",
      "_\bE_\bx_\ba_\bm_\bp_\bl_\be_\bs:\n",
      "\n",
      "     require(utils)\n",
      "     \n",
      "     ## All the \"predict\" methods found\n",
      "     ## NB most of the methods in the standard packages are hidden.\n",
      "     for(fn in methods(\"predict\"))\n",
      "        try({\n",
      "            f <- eval(substitute(getAnywhere(fn)$objs[[1]], list(fn = fn)))\n",
      "            cat(fn, \":\\n\\t\", deparse(args(f)), \"\\n\")\n",
      "            }, silent = TRUE)\n",
      "     \n"
     ]
    }
   ],
   "source": [
    "%%R\n",
    "fit1 <- lm(log(Biomass_P)~ poly(DAP,2), data = Biomass)\n",
    "summary(fit1) %>% print\n",
    "plot(fit1) %>% print"
   ]
  },
  {
   "cell_type": "code",
   "execution_count": null,
   "metadata": {
    "collapsed": true
   },
   "outputs": [],
   "source": [
    "%%R\n",
    "Pred_B = predict(fit1, Master, se.fit = TRUE)\n",
    "Master$Resid_logB = log(Master$Biomass_P) - Pred_B$fit\n"
   ]
  },
  {
   "cell_type": "code",
   "execution_count": 88,
   "metadata": {
    "collapsed": false
   },
   "outputs": [
    {
     "name": "stdout",
     "output_type": "stream",
     "text": [
      "\n",
      "Error in model.frame.default(Terms, newdata, na.action = na.action, xlev = object$xlevels) : \n",
      "  factor Plant has new levels BARE, SETIT\n"
     ]
    }
   ],
   "source": [
    "%%R\n",
    "m = lm(Resid_logN~Plant*Treatment, data = Master, na.rm = TRUE)\n",
    "anova(m)\n",
    "\n",
    "Pred_ResidN = predict(m, Master, se.fit = TRUE, na.rm = TRUE)\n",
    "Pred_ResidN\n",
    "#Master$PlantResidN = Master$Resid_logN - Pred_ResidN$fit\n",
    "#head(Master)"
   ]
  },
  {
   "cell_type": "code",
   "execution_count": 83,
   "metadata": {
    "collapsed": false
   },
   "outputs": [
    {
     "data": {
      "text/plain": [
       "Source: local data frame [27 x 2]\n",
       "\n",
       "    Plant        avg\n",
       "   (fctr)      (dbl)\n",
       "1  75-062 -0.3241645\n",
       "2   ABUTH  0.3606103\n",
       "3   AMAPO  0.8768620\n",
       "4     B73 -0.0310600\n",
       "5     B97 -0.2526031\n",
       "6    BARE         NA\n",
       "7   ECHCG  0.3795634\n",
       "8   ELCOR  0.4944999\n",
       "9   ERATE -0.3276465\n",
       "10  FAGES  0.7267567\n",
       "..    ...        ...\n"
      ]
     },
     "metadata": {},
     "output_type": "display_data"
    }
   ],
   "source": [
    "%%R\n",
    "by_treat = group_by(Master, Plant)\n",
    "\n",
    "Emeans = summarize(by_treat,\n",
    "                  avg = mean(Resid_logN))\n",
    "Emeans\n"
   ]
  }
 ],
 "metadata": {
  "hide_input": true,
  "kernelspec": {
   "display_name": "Python 2",
   "language": "python",
   "name": "python2"
  },
  "language_info": {
   "codemirror_mode": {
    "name": "ipython",
    "version": 2
   },
   "file_extension": ".py",
   "mimetype": "text/x-python",
   "name": "python",
   "nbconvert_exporter": "python",
   "pygments_lexer": "ipython2",
   "version": "2.7.11"
  }
 },
 "nbformat": 4,
 "nbformat_minor": 0
}
