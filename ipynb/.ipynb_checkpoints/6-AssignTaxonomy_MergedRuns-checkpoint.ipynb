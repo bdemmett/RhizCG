{
 "cells": [
  {
   "cell_type": "markdown",
   "metadata": {},
   "source": [
    "# Description\n",
    "\n",
    "* Assigning taxonomy for centroids"
   ]
  },
  {
   "cell_type": "code",
   "execution_count": 1,
   "metadata": {
    "collapsed": true
   },
   "outputs": [],
   "source": [
    "workDir = '/home/bryan/RhizCG/data/MiSeq_amplicon/MergedRuns/OTU_binning/'\n",
    "silva_no_ambig = '/home/bryan/RhizCG/data/databases/97_Silva_111_rep_set_no_ambig.fasta'\n",
    "silva_map_full = '/home/bryan/RhizCG/data/databases//Silva_111_taxa_map_full.txt'"
   ]
  },
  {
   "cell_type": "code",
   "execution_count": 2,
   "metadata": {
    "collapsed": true
   },
   "outputs": [],
   "source": [
    "!cd $workDir; \\\n",
    "    parallel_assign_taxonomy_uclust.py \\\n",
    "        -r $silva_no_ambig \\\n",
    "        -t $silva_map_full \\\n",
    "        -O 20 \\\n",
    "        -i otusn.fasta \\\n",
    "        -o otusn_tax"
   ]
  },
  {
   "cell_type": "code",
   "execution_count": 3,
   "metadata": {
    "collapsed": false
   },
   "outputs": [
    {
     "name": "stdout",
     "output_type": "stream",
     "text": [
      "OTU.268\tBacteria; __Actinobacteria; __Acidimicrobiia; __Acidimicrobiales; __Iamiaceae; __Iamia\t0.67\t3\r\n",
      "OTU.545\tBacteria; __Proteobacteria; __Alphaproteobacteria; __Rhizobiales; __JG35-K1-AG5; __uncultured_bacterium\t0.67\t3\r\n",
      "OTU.532\tBacteria; __Proteobacteria; __Deltaproteobacteria; __Myxococcales; __Nannocystineae; __Haliangiaceae; __Haliangium; __uncultured_bacterium\t0.67\t3\r\n"
     ]
    }
   ],
   "source": [
    "!cd $workDir; \\\n",
    "    head -n 3 ./otusn_tax/otusn_tax_assignments.txt"
   ]
  },
  {
   "cell_type": "code",
   "execution_count": 4,
   "metadata": {
    "collapsed": true
   },
   "outputs": [],
   "source": [
    "!cd $workDir;\\\n",
    "    biom add-metadata -i otu_table.biom \\\n",
    "        -o otu_table_wtax.biom \\\n",
    "        --observation-metadata-fp otusn_tax/otusn_tax_assignments.txt \\\n",
    "        --sc-separated taxonomy \\\n",
    "        --float-fields consensus \\\n",
    "        --int-fields numhits \\\n",
    "        --observation-header OTUID,taxonomy,consensus,numhits"
   ]
  },
  {
   "cell_type": "code",
   "execution_count": 5,
   "metadata": {
    "collapsed": false,
    "scrolled": true
   },
   "outputs": [
    {
     "name": "stdout",
     "output_type": "stream",
     "text": [
      "finalQC.fasta\t\t   otusn.pick.fasta\t  readmap.uc\r\n",
      "mothur.1435600411.logfile  otusn_tax\t\t  split_files\r\n",
      "mothur.1435600475.logfile  otu_table.biom\t  to_remove_tax.accnos\r\n",
      "mothur.1435681406.logfile  otu_table_summary.txt  uc_files\r\n",
      "otus.fasta\t\t   otu_table.txt\r\n",
      "otusn.fasta\t\t   otu_table_wtax.biom\r\n"
     ]
    }
   ],
   "source": [
    "!cd $workDir; ls"
   ]
  }
 ],
 "metadata": {
  "kernelspec": {
   "display_name": "Python 2",
   "language": "python",
   "name": "python2"
  },
  "language_info": {
   "codemirror_mode": {
    "name": "ipython",
    "version": 2
   },
   "file_extension": ".py",
   "mimetype": "text/x-python",
   "name": "python",
   "nbconvert_exporter": "python",
   "pygments_lexer": "ipython2",
   "version": "2.7.9"
  }
 },
 "nbformat": 4,
 "nbformat_minor": 0
}
