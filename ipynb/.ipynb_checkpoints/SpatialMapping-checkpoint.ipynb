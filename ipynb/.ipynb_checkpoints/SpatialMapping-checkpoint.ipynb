{
 "cells": [
  {
   "cell_type": "markdown",
   "metadata": {},
   "source": [
    "# Spatial mapping"
   ]
  },
  {
   "cell_type": "markdown",
   "metadata": {},
   "source": [
    "## Set Variables"
   ]
  },
  {
   "cell_type": "code",
   "execution_count": 1,
   "metadata": {
    "collapsed": true
   },
   "outputs": [],
   "source": [
    "workDir = '/home/bryan/RhizCG/figures/'\n",
    "fullData = '/home/bryan/RhizCG/data/MiSeq_amplicon/PlotData.txt'"
   ]
  },
  {
   "cell_type": "markdown",
   "metadata": {},
   "source": [
    "# Init"
   ]
  },
  {
   "cell_type": "code",
   "execution_count": 2,
   "metadata": {
    "collapsed": false
   },
   "outputs": [],
   "source": [
    "%load_ext rpy2.ipython"
   ]
  },
  {
   "cell_type": "code",
   "execution_count": 22,
   "metadata": {
    "collapsed": false,
    "scrolled": true
   },
   "outputs": [],
   "source": [
    "%%R\n",
    "library(lme4)\n",
    "library(lmerTest)\n",
    "library(ggplot2)\n",
    "library(dplyr)\n",
    "library(pbkrtest)\n",
    "library(gridExtra)\n",
    "library(multcomp)\n",
    "library(lattice)"
   ]
  },
  {
   "cell_type": "markdown",
   "metadata": {},
   "source": [
    "### Read plant master table "
   ]
  },
  {
   "cell_type": "code",
   "execution_count": 31,
   "metadata": {
    "collapsed": false
   },
   "outputs": [
    {
     "data": {
      "text/plain": [
       " [1] \"Unique\"             \"PlotID\"             \"Plant\"             \n",
       " [4] \"Plot\"               \"Treatment\"          \"Rep\"               \n",
       " [7] \"DAP\"                \"Sampling\"           \"PlantSample\"       \n",
       "[10] \"Type\"               \"Grass_Broad\"        \"Status\"            \n",
       "[13] \"Subfamily\"          \"Symbol_class\"       \"Plant_num\"         \n",
       "[16] \"Leaf_AreaBiomass_g\" \"Biomass_T\"          \"Biomass_P\"         \n",
       "[19] \"Leaf_Area_cm2\"      \"SLA\"                \"Leaf_N\"            \n",
       "[22] \"Leaf_C\"             \"LeafC_N\"            \"LNa\"               \n",
       "[25] \"Plant_N\"            \"Plant_C\"            \"Plant_CN\"          \n",
       "[28] \"d15N\"               \"tN_p\"               \"BX_act\"            \n",
       "[31] \"CB_act\"             \"LAP_act\"            \"NAG_act\"           \n",
       "[34] \"soil_dw\"            \"BX_activity_g\"      \"CB_activity_g\"     \n",
       "[37] \"LAP_activity_g\"     \"NAG_activity_g\"     \"BX_barefactor\"     \n",
       "[40] \"CB_barefactor\"      \"LAP_barefactor\"     \"NAG_barefactor\"    \n",
       "[43] \"BX_dif\"             \"CB_dif\"             \"LAP_dif\"           \n",
       "[46] \"NAG_dif\"            \"BX_rel\"             \"CB_rel\"            \n",
       "[49] \"LAP_rel\"            \"NAG_rel\"            \"NO3_ug_g\"          \n",
       "[52] \"NH4_ug_g\"           \"InorganicN\"         \"Resid_logB\"        \n",
       "[55] \"Resid_logN\"         \"Resid_logCN\"        \"Resid_logSLA\"      \n",
       "[58] \"Resid_LeafN\"       \n"
      ]
     },
     "metadata": {},
     "output_type": "display_data"
    }
   ],
   "source": [
    "%%R -i fullData -i workDir\n",
    "setwd(workDir)\n",
    "Master = read.table(fullData, header = TRUE)\n",
    "Master$Rep = as.factor(Master$Rep)\n",
    "colnames(Master)"
   ]
  },
  {
   "cell_type": "markdown",
   "metadata": {
    "collapsed": true
   },
   "source": [
    "# Create xy coordinate variables"
   ]
  },
  {
   "cell_type": "markdown",
   "metadata": {},
   "source": [
    "## X"
   ]
  },
  {
   "cell_type": "code",
   "execution_count": 32,
   "metadata": {
    "collapsed": false
   },
   "outputs": [
    {
     "data": {
      "text/plain": [
       "  Rep Treatment Xpos\n",
       "1   1      Npos    0\n",
       "2   1      Nneg    1\n",
       "3   2      Nneg    3\n",
       "4   2      Npos    4\n",
       "5   3      Nneg    6\n",
       "6   3      Npos    7\n",
       "7   4      Npos    9\n",
       "8   4      Nneg   10\n"
      ]
     },
     "metadata": {},
     "output_type": "display_data"
    }
   ],
   "source": [
    "%%R\n",
    "Xmap = cbind(c(1,1,2,2,3,3,4,4),\n",
    "            c(\"Npos\", \"Nneg\", \"Nneg\", \"Npos\", \"Nneg\", \"Npos\", \"Npos\", \"Nneg\"),\n",
    "            c(0, 1, 3, 4, 6, 7, 9, 10)) %>%\n",
    "            as.data.frame()\n",
    "            colnames(Xmap) = c(\"Rep\", \"Treatment\", \"Xpos\")\n",
    "Xmap"
   ]
  },
  {
   "cell_type": "code",
   "execution_count": 33,
   "metadata": {
    "collapsed": false
   },
   "outputs": [
    {
     "data": {
      "text/plain": [
       "             Unique    PlotID Plant Plot Treatment Rep DAP Sampling\n",
       "1 sample1-1.06_Nneg 1.06_Nneg  BARE 1.06      Nneg   1  36  sample1\n",
       "2 sample1-1.06_Npos 1.06_Npos  BARE 1.06      Npos   1  36  sample1\n",
       "3 sample1-1.27_Nneg 1.27_Nneg FAGES 1.27      Nneg   1  36  sample1\n",
       "4 sample1-1.27_Npos 1.27_Npos FAGES 1.27      Npos   1  36  sample1\n",
       "5 sample1-2.05_Nneg 2.05_Nneg  BARE 2.05      Nneg   2  36  sample1\n",
       "6 sample1-2.05_Npos 2.05_Npos  BARE 2.05      Npos   2  36  sample1\n",
       "    PlantSample     Type Grass_Broad    Status Subfamily Symbol_class Plant_num\n",
       "1  BARE_sample1     BARE   Bare_Soil Bare_Soil      <NA>            4        NA\n",
       "2  BARE_sample1     BARE   Bare_Soil Bare_Soil      <NA>            4        NA\n",
       "3 FAGES_sample1 Dicot-NM       Dicot      Crop      <NA>           24         4\n",
       "4 FAGES_sample1 Dicot-NM       Dicot      Crop      <NA>           24         3\n",
       "5  BARE_sample1     BARE   Bare_Soil Bare_Soil      <NA>            4        NA\n",
       "6  BARE_sample1     BARE   Bare_Soil Bare_Soil      <NA>            4        NA\n",
       "  Leaf_AreaBiomass_g Biomass_T Biomass_P Leaf_Area_cm2      SLA Leaf_N  Leaf_C\n",
       "1                 NA        NA        NA            NA       NA     NA      NA\n",
       "2                 NA        NA        NA            NA       NA     NA      NA\n",
       "3               0.79     29.73    7.4325        174.10 220.3797 4.8923 39.4680\n",
       "4               0.44     13.59    4.5300        125.07 284.2500 5.2595 38.0945\n",
       "5                 NA        NA        NA            NA       NA     NA      NA\n",
       "6                 NA        NA        NA            NA       NA     NA      NA\n",
       "   LeafC_N         LNa  Plant_N  Plant_C Plant_CN d15N      tN_p    BX_act\n",
       "1       NA          NA       NA       NA       NA   NA        NA  8.995498\n",
       "2       NA          NA       NA       NA       NA   NA        NA  9.688202\n",
       "3 8.067371 0.000221994 4.683803 37.29395 7.962322   NA 0.3481237 12.588732\n",
       "4 7.297666 0.000185031 5.050939 36.72432 7.270791   NA 0.2288076 19.871793\n",
       "5       NA          NA       NA       NA       NA   NA        NA 11.738641\n",
       "6       NA          NA       NA       NA       NA   NA        NA 10.246102\n",
       "     CB_act  LAP_act  NAG_act  soil_dw BX_activity_g CB_activity_g\n",
       "1  8.635893 26.82090 5.603401 2.257196      21.10834      20.29317\n",
       "2  8.443455 44.08564 5.404947 2.169071      23.65742      20.64706\n",
       "3 11.707434 34.35652 4.924898 2.205411      30.23364      28.15685\n",
       "4 15.286913 67.41443 9.066282 2.253908      46.69807      35.97456\n",
       "5 11.366714 31.92402 5.879510 2.474112      25.13023      24.36842\n",
       "6  9.171832 31.29717 5.188926 2.185933      24.82674      22.25518\n",
       "  LAP_activity_g NAG_activity_g BX_barefactor CB_barefactor LAP_barefactor\n",
       "1       107.8910       13.53086      21.50868      20.51567       115.3137\n",
       "2       184.5460       13.58190      21.27722      18.32921       133.7975\n",
       "3       141.4493       12.17168      21.50868      20.51567       115.3137\n",
       "4       271.5801       21.92481      21.27722      18.32921       133.7975\n",
       "5       117.1600       12.95283      21.50868      20.51567       115.3137\n",
       "6       130.0018       12.93848      21.27722      18.32921       133.7975\n",
       "  NAG_barefactor     BX_dif     CB_dif    LAP_dif    NAG_dif   BX_rel    CB_rel\n",
       "1       12.61983 -0.4003413 -0.2224969  -7.422645  0.9110297 0.981387 0.9891548\n",
       "2       11.98306  2.3802022  2.3178468  50.748468  1.5988382 1.111866 1.1264564\n",
       "3       12.61983  8.7249612  7.6411799  26.135609 -0.4481473 1.405648 1.3724558\n",
       "4       11.98306 25.4208504 17.6453472 137.782603  9.9417530 2.194745 1.9626899\n",
       "5       12.61983  3.6215532  3.8527564   1.846352  0.3330014 1.168376 1.1877958\n",
       "6       11.98306  3.5495266  3.9259626  -3.795700  0.9554245 1.166823 1.2141916\n",
       "    LAP_rel   NAG_rel  NO3_ug_g NH4_ug_g InorganicN Resid_logB Resid_logN\n",
       "1 0.9356308 1.0721903  6.370082 2.744115   9.114197         NA         NA\n",
       "2 1.3792931 1.1334249 15.672579 3.271927  18.944506         NA         NA\n",
       "3 1.2266479 0.9644886  7.809719 4.455254  12.264973 0.53376326  0.7534075\n",
       "4 2.0297847 1.8296507 28.309804 6.711506  35.021310 0.03862293  0.3337309\n",
       "5 1.0160116 1.0263872  7.774858 2.574021  10.348880         NA         NA\n",
       "6 0.9716310 1.0797313 12.808829 2.772356  15.581185         NA         NA\n",
       "  Resid_logCN Resid_logSLA Resid_LeafN Xpos\n",
       "1          NA           NA          NA    2\n",
       "2          NA           NA          NA    1\n",
       "3  -0.3016351     0.113621  -0.1077183    2\n",
       "4  -0.3924907     0.368123   0.2594817    1\n",
       "5          NA           NA          NA    4\n",
       "6          NA           NA          NA    5\n"
      ]
     },
     "metadata": {},
     "output_type": "display_data"
    }
   ],
   "source": [
    "%%R\n",
    "Master = left_join(Master, Xmap)\n",
    "Master$Xpos = as.numeric(Master$Xpos)\n",
    "head(Master)\n"
   ]
  },
  {
   "cell_type": "code",
   "execution_count": 29,
   "metadata": {
    "collapsed": false
   },
   "outputs": [
    {
     "data": {
      "text/plain": [
       "             Unique    PlotID Plant Plot Treatment Rep DAP Sampling\n",
       "1 sample1-1.06_Nneg 1.06_Nneg  BARE 1.06      Nneg   1  36  sample1\n",
       "2 sample1-1.06_Npos 1.06_Npos  BARE 1.06      Npos   1  36  sample1\n",
       "3 sample1-1.27_Nneg 1.27_Nneg FAGES 1.27      Nneg   1  36  sample1\n",
       "4 sample1-1.27_Npos 1.27_Npos FAGES 1.27      Npos   1  36  sample1\n",
       "5 sample1-2.05_Nneg 2.05_Nneg  BARE 2.05      Nneg   2  36  sample1\n",
       "6 sample1-2.05_Npos 2.05_Npos  BARE 2.05      Npos   2  36  sample1\n",
       "    PlantSample     Type Grass_Broad    Status Subfamily Symbol_class Plant_num\n",
       "1  BARE_sample1     BARE   Bare_Soil Bare_Soil      <NA>            4        NA\n",
       "2  BARE_sample1     BARE   Bare_Soil Bare_Soil      <NA>            4        NA\n",
       "3 FAGES_sample1 Dicot-NM       Dicot      Crop      <NA>           24         4\n",
       "4 FAGES_sample1 Dicot-NM       Dicot      Crop      <NA>           24         3\n",
       "5  BARE_sample1     BARE   Bare_Soil Bare_Soil      <NA>            4        NA\n",
       "6  BARE_sample1     BARE   Bare_Soil Bare_Soil      <NA>            4        NA\n",
       "  Leaf_AreaBiomass_g Biomass_T Biomass_P Leaf_Area_cm2      SLA Leaf_N  Leaf_C\n",
       "1                 NA        NA        NA            NA       NA     NA      NA\n",
       "2                 NA        NA        NA            NA       NA     NA      NA\n",
       "3               0.79     29.73    7.4325        174.10 220.3797 4.8923 39.4680\n",
       "4               0.44     13.59    4.5300        125.07 284.2500 5.2595 38.0945\n",
       "5                 NA        NA        NA            NA       NA     NA      NA\n",
       "6                 NA        NA        NA            NA       NA     NA      NA\n",
       "   LeafC_N         LNa  Plant_N  Plant_C Plant_CN d15N      tN_p    BX_act\n",
       "1       NA          NA       NA       NA       NA   NA        NA  8.995498\n",
       "2       NA          NA       NA       NA       NA   NA        NA  9.688202\n",
       "3 8.067371 0.000221994 4.683803 37.29395 7.962322   NA 0.3481237 12.588732\n",
       "4 7.297666 0.000185031 5.050939 36.72432 7.270791   NA 0.2288076 19.871793\n",
       "5       NA          NA       NA       NA       NA   NA        NA 11.738641\n",
       "6       NA          NA       NA       NA       NA   NA        NA 10.246102\n",
       "     CB_act  LAP_act  NAG_act  soil_dw BX_activity_g CB_activity_g\n",
       "1  8.635893 26.82090 5.603401 2.257196      21.10834      20.29317\n",
       "2  8.443455 44.08564 5.404947 2.169071      23.65742      20.64706\n",
       "3 11.707434 34.35652 4.924898 2.205411      30.23364      28.15685\n",
       "4 15.286913 67.41443 9.066282 2.253908      46.69807      35.97456\n",
       "5 11.366714 31.92402 5.879510 2.474112      25.13023      24.36842\n",
       "6  9.171832 31.29717 5.188926 2.185933      24.82674      22.25518\n",
       "  LAP_activity_g NAG_activity_g BX_barefactor CB_barefactor LAP_barefactor\n",
       "1       107.8910       13.53086      21.50868      20.51567       115.3137\n",
       "2       184.5460       13.58190      21.27722      18.32921       133.7975\n",
       "3       141.4493       12.17168      21.50868      20.51567       115.3137\n",
       "4       271.5801       21.92481      21.27722      18.32921       133.7975\n",
       "5       117.1600       12.95283      21.50868      20.51567       115.3137\n",
       "6       130.0018       12.93848      21.27722      18.32921       133.7975\n",
       "  NAG_barefactor     BX_dif     CB_dif    LAP_dif    NAG_dif   BX_rel    CB_rel\n",
       "1       12.61983 -0.4003413 -0.2224969  -7.422645  0.9110297 0.981387 0.9891548\n",
       "2       11.98306  2.3802022  2.3178468  50.748468  1.5988382 1.111866 1.1264564\n",
       "3       12.61983  8.7249612  7.6411799  26.135609 -0.4481473 1.405648 1.3724558\n",
       "4       11.98306 25.4208504 17.6453472 137.782603  9.9417530 2.194745 1.9626899\n",
       "5       12.61983  3.6215532  3.8527564   1.846352  0.3330014 1.168376 1.1877958\n",
       "6       11.98306  3.5495266  3.9259626  -3.795700  0.9554245 1.166823 1.2141916\n",
       "    LAP_rel   NAG_rel  NO3_ug_g NH4_ug_g InorganicN Resid_logB Resid_logN\n",
       "1 0.9356308 1.0721903  6.370082 2.744115   9.114197         NA         NA\n",
       "2 1.3792931 1.1334249 15.672579 3.271927  18.944506         NA         NA\n",
       "3 1.2266479 0.9644886  7.809719 4.455254  12.264973 0.53376326  0.7534075\n",
       "4 2.0297847 1.8296507 28.309804 6.711506  35.021310 0.03862293  0.3337309\n",
       "5 1.0160116 1.0263872  7.774858 2.574021  10.348880         NA         NA\n",
       "6 0.9716310 1.0797313 12.808829 2.772356  15.581185         NA         NA\n",
       "  Resid_logCN Resid_logSLA Resid_LeafN Xpos Ypos\n",
       "1          NA           NA          NA    1    6\n",
       "2          NA           NA          NA    0    6\n",
       "3  -0.3016351     0.113621  -0.1077183    1   27\n",
       "4  -0.3924907     0.368123   0.2594817    0   27\n",
       "5          NA           NA          NA    3    5\n",
       "6          NA           NA          NA    4    5\n"
      ]
     },
     "metadata": {},
     "output_type": "display_data"
    }
   ],
   "source": [
    "%%R\n",
    "Master$Ypos = as.numeric(substring(as.character(Master$Plot), 3))\n",
    "head(Master)"
   ]
  },
  {
   "cell_type": "code",
   "execution_count": 25,
   "metadata": {
    "collapsed": false
   },
   "outputs": [
    {
     "name": "stdout",
     "output_type": "stream",
     "text": [
      "\n",
      "Error in uy + c(-1, 1) : non-numeric argument to binary operator\n"
     ]
    }
   ],
   "source": [
    "%%R\n",
    "# levelplot(Master$d15N~Master$Xpos*Master$Ypos, col.regions = colorRampPalette(c(\"yellow\", \"red\"))(128),\n",
    "#               xlab = \"Rep\", ylab = \"Plot\", axes = FALSE)"
   ]
  },
  {
   "cell_type": "code",
   "execution_count": 28,
   "metadata": {
    "collapsed": false
   },
   "outputs": [
    {
     "data": {
      "image/png": "[encoded data removed]"
     },
     "metadata": {},
     "output_type": "display_data"
    }
   ],
   "source": [
    "%%R\n",
    "ggplot(Master, aes(Xpos, Ypos, fill = d15N)) + \n",
    "    geom_tile() \n",
    "   #   xlab(\"X Coordinate (feet)\") + \n",
    "   # ylab(\"Y Coordinate (feet)\") +\n",
    "  #opts(title = \"Surface elevation data\") \n",
    "#   scale_fill_gradient(limits = c(7000, 10000), low = \"black\", high = \"white\") +\n",
    "#   scale_x_continuous(expand = c(0,0)) +\n",
    "#   scale_y_continuous(expand = c(0,0))"
   ]
  }
 ],
 "metadata": {
  "hide_input": true,
  "kernelspec": {
   "display_name": "Python 2",
   "language": "python",
   "name": "python2"
  },
  "language_info": {
   "codemirror_mode": {
    "name": "ipython",
    "version": 2
   },
   "file_extension": ".py",
   "mimetype": "text/x-python",
   "name": "python",
   "nbconvert_exporter": "python",
   "pygments_lexer": "ipython2",
   "version": "2.7.11"
  }
 },
 "nbformat": 4,
 "nbformat_minor": 0
}
