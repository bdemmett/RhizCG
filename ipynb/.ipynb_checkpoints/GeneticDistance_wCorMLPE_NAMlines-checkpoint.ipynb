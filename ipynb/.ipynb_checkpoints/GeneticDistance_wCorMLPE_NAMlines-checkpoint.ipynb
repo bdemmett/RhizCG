{
 "cells": [
  {
   "cell_type": "markdown",
   "metadata": {},
   "source": [
    "# Phylogenetic Distance Calculation from RhizCG 2013"
   ]
  },
  {
   "cell_type": "markdown",
   "metadata": {
    "slideshow": {
     "slide_type": "skip"
    }
   },
   "source": [
    "Notes: Calculate phylogenetic distance using phylogeny created from rbcL and matK in phylogenerator 20160209_phylogeny.tre.  "
   ]
  },
  {
   "cell_type": "markdown",
   "metadata": {},
   "source": [
    "# Init"
   ]
  },
  {
   "cell_type": "code",
   "execution_count": 5,
   "metadata": {
    "collapsed": false
   },
   "outputs": [],
   "source": [
    "%load_ext rpy2.ipython"
   ]
  },
  {
   "cell_type": "code",
   "execution_count": 6,
   "metadata": {
    "collapsed": false,
    "hide_input": false
   },
   "outputs": [
    {
     "name": "stderr",
     "output_type": "stream",
     "text": [
      "/opt/anaconda/lib/python2.7/site-packages/rpy2/robjects/functions.py:106: UserWarning: foreach: simple, scalable parallel programming from Revolution Analytics\n",
      "Use Revolution R for scalability, fault tolerance and more.\n",
      "http://www.revolutionanalytics.com\n",
      "\n",
      "  res = super(Function, self).__call__(*new_args, **new_kwargs)\n",
      "/opt/anaconda/lib/python2.7/site-packages/rpy2/robjects/functions.py:106: UserWarning: Loading required package: estimability\n",
      "\n",
      "  res = super(Function, self).__call__(*new_args, **new_kwargs)\n",
      "/opt/anaconda/lib/python2.7/site-packages/rpy2/robjects/functions.py:106: UserWarning: Loading required package: lattice\n",
      "\n",
      "  res = super(Function, self).__call__(*new_args, **new_kwargs)\n",
      "/opt/anaconda/lib/python2.7/site-packages/rpy2/robjects/functions.py:106: UserWarning: Loading required package: survival\n",
      "\n",
      "  res = super(Function, self).__call__(*new_args, **new_kwargs)\n",
      "/opt/anaconda/lib/python2.7/site-packages/rpy2/robjects/functions.py:106: UserWarning: Loading required package: Formula\n",
      "\n",
      "  res = super(Function, self).__call__(*new_args, **new_kwargs)\n",
      "/opt/anaconda/lib/python2.7/site-packages/rpy2/robjects/functions.py:106: UserWarning: Loading required package: ggplot2\n",
      "\n",
      "  res = super(Function, self).__call__(*new_args, **new_kwargs)\n",
      "/opt/anaconda/lib/python2.7/site-packages/rpy2/robjects/functions.py:106: UserWarning: \n",
      "Attaching package: ‘Hmisc’\n",
      "\n",
      "\n",
      "  res = super(Function, self).__call__(*new_args, **new_kwargs)\n",
      "/opt/anaconda/lib/python2.7/site-packages/rpy2/robjects/functions.py:106: UserWarning: The following objects are masked from ‘package:base’:\n",
      "\n",
      "    format.pval, round.POSIXt, trunc.POSIXt, units\n",
      "\n",
      "\n",
      "  res = super(Function, self).__call__(*new_args, **new_kwargs)\n",
      "/opt/anaconda/lib/python2.7/site-packages/rpy2/robjects/functions.py:106: UserWarning: Loading required package: Matrix\n",
      "\n",
      "  res = super(Function, self).__call__(*new_args, **new_kwargs)\n",
      "/opt/anaconda/lib/python2.7/site-packages/rpy2/robjects/functions.py:106: UserWarning: \n",
      "Attaching package: ‘lmerTest’\n",
      "\n",
      "\n",
      "  res = super(Function, self).__call__(*new_args, **new_kwargs)\n",
      "/opt/anaconda/lib/python2.7/site-packages/rpy2/robjects/functions.py:106: UserWarning: The following object is masked from ‘package:lme4’:\n",
      "\n",
      "    lmer\n",
      "\n",
      "\n",
      "  res = super(Function, self).__call__(*new_args, **new_kwargs)\n",
      "/opt/anaconda/lib/python2.7/site-packages/rpy2/robjects/functions.py:106: UserWarning: The following object is masked from ‘package:lsmeans’:\n",
      "\n",
      "    lsmeans\n",
      "\n",
      "\n",
      "  res = super(Function, self).__call__(*new_args, **new_kwargs)\n",
      "/opt/anaconda/lib/python2.7/site-packages/rpy2/robjects/functions.py:106: UserWarning: The following object is masked from ‘package:stats’:\n",
      "\n",
      "    step\n",
      "\n",
      "\n",
      "  res = super(Function, self).__call__(*new_args, **new_kwargs)\n",
      "/opt/anaconda/lib/python2.7/site-packages/rpy2/robjects/functions.py:106: UserWarning: \n",
      "Attaching package: ‘plyr’\n",
      "\n",
      "\n",
      "  res = super(Function, self).__call__(*new_args, **new_kwargs)\n",
      "/opt/anaconda/lib/python2.7/site-packages/rpy2/robjects/functions.py:106: UserWarning: The following objects are masked from ‘package:Hmisc’:\n",
      "\n",
      "    is.discrete, summarize\n",
      "\n",
      "\n",
      "  res = super(Function, self).__call__(*new_args, **new_kwargs)\n",
      "/opt/anaconda/lib/python2.7/site-packages/rpy2/robjects/functions.py:106: UserWarning: \n",
      "Attaching package: ‘dplyr’\n",
      "\n",
      "\n",
      "  res = super(Function, self).__call__(*new_args, **new_kwargs)\n",
      "/opt/anaconda/lib/python2.7/site-packages/rpy2/robjects/functions.py:106: UserWarning: The following objects are masked from ‘package:plyr’:\n",
      "\n",
      "    arrange, count, desc, failwith, id, mutate, rename, summarise,\n",
      "    summarize\n",
      "\n",
      "\n",
      "  res = super(Function, self).__call__(*new_args, **new_kwargs)\n",
      "/opt/anaconda/lib/python2.7/site-packages/rpy2/robjects/functions.py:106: UserWarning: The following objects are masked from ‘package:Hmisc’:\n",
      "\n",
      "    combine, src, summarize\n",
      "\n",
      "\n",
      "  res = super(Function, self).__call__(*new_args, **new_kwargs)\n",
      "/opt/anaconda/lib/python2.7/site-packages/rpy2/robjects/functions.py:106: UserWarning: The following objects are masked from ‘package:stats’:\n",
      "\n",
      "    filter, lag\n",
      "\n",
      "\n",
      "  res = super(Function, self).__call__(*new_args, **new_kwargs)\n",
      "/opt/anaconda/lib/python2.7/site-packages/rpy2/robjects/functions.py:106: UserWarning: The following objects are masked from ‘package:base’:\n",
      "\n",
      "    intersect, setdiff, setequal, union\n",
      "\n",
      "\n",
      "  res = super(Function, self).__call__(*new_args, **new_kwargs)\n",
      "/opt/anaconda/lib/python2.7/site-packages/rpy2/robjects/functions.py:106: UserWarning: \n",
      "Attaching package: ‘tidyr’\n",
      "\n",
      "\n",
      "  res = super(Function, self).__call__(*new_args, **new_kwargs)\n",
      "/opt/anaconda/lib/python2.7/site-packages/rpy2/robjects/functions.py:106: UserWarning: The following object is masked from ‘package:Matrix’:\n",
      "\n",
      "    expand\n",
      "\n",
      "\n",
      "  res = super(Function, self).__call__(*new_args, **new_kwargs)\n",
      "/opt/anaconda/lib/python2.7/site-packages/rpy2/robjects/functions.py:106: UserWarning: \n",
      "Attaching package: ‘gridExtra’\n",
      "\n",
      "\n",
      "  res = super(Function, self).__call__(*new_args, **new_kwargs)\n",
      "/opt/anaconda/lib/python2.7/site-packages/rpy2/robjects/functions.py:106: UserWarning: The following object is masked from ‘package:dplyr’:\n",
      "\n",
      "    combine\n",
      "\n",
      "\n",
      "  res = super(Function, self).__call__(*new_args, **new_kwargs)\n",
      "/opt/anaconda/lib/python2.7/site-packages/rpy2/robjects/functions.py:106: UserWarning: The following object is masked from ‘package:Hmisc’:\n",
      "\n",
      "    combine\n",
      "\n",
      "\n",
      "  res = super(Function, self).__call__(*new_args, **new_kwargs)\n",
      "/opt/anaconda/lib/python2.7/site-packages/rpy2/robjects/functions.py:106: UserWarning: Loading required package: ape\n",
      "\n",
      "  res = super(Function, self).__call__(*new_args, **new_kwargs)\n",
      "/opt/anaconda/lib/python2.7/site-packages/rpy2/robjects/functions.py:106: UserWarning: \n",
      "Attaching package: ‘ape’\n",
      "\n",
      "\n",
      "  res = super(Function, self).__call__(*new_args, **new_kwargs)\n",
      "/opt/anaconda/lib/python2.7/site-packages/rpy2/robjects/functions.py:106: UserWarning: The following object is masked from ‘package:Hmisc’:\n",
      "\n",
      "    zoom\n",
      "\n",
      "\n",
      "  res = super(Function, self).__call__(*new_args, **new_kwargs)\n",
      "/opt/anaconda/lib/python2.7/site-packages/rpy2/robjects/functions.py:106: UserWarning: Loading required package: vegan\n",
      "\n",
      "  res = super(Function, self).__call__(*new_args, **new_kwargs)\n",
      "/opt/anaconda/lib/python2.7/site-packages/rpy2/robjects/functions.py:106: UserWarning: Loading required package: permute\n",
      "\n",
      "  res = super(Function, self).__call__(*new_args, **new_kwargs)\n",
      "/opt/anaconda/lib/python2.7/site-packages/rpy2/robjects/functions.py:106: UserWarning: This is vegan 2.3-5\n",
      "\n",
      "  res = super(Function, self).__call__(*new_args, **new_kwargs)\n",
      "/opt/anaconda/lib/python2.7/site-packages/rpy2/robjects/functions.py:106: UserWarning: Loading required package: nlme\n",
      "\n",
      "  res = super(Function, self).__call__(*new_args, **new_kwargs)\n",
      "/opt/anaconda/lib/python2.7/site-packages/rpy2/robjects/functions.py:106: UserWarning: \n",
      "Attaching package: ‘nlme’\n",
      "\n",
      "\n",
      "  res = super(Function, self).__call__(*new_args, **new_kwargs)\n",
      "/opt/anaconda/lib/python2.7/site-packages/rpy2/robjects/functions.py:106: UserWarning: The following object is masked from ‘package:dplyr’:\n",
      "\n",
      "    collapse\n",
      "\n",
      "\n",
      "  res = super(Function, self).__call__(*new_args, **new_kwargs)\n",
      "/opt/anaconda/lib/python2.7/site-packages/rpy2/robjects/functions.py:106: UserWarning: The following object is masked from ‘package:lme4’:\n",
      "\n",
      "    lmList\n",
      "\n",
      "\n",
      "  res = super(Function, self).__call__(*new_args, **new_kwargs)\n",
      "/opt/anaconda/lib/python2.7/site-packages/rpy2/robjects/functions.py:106: UserWarning: Loading required package: iterators\n",
      "\n",
      "  res = super(Function, self).__call__(*new_args, **new_kwargs)\n",
      "/opt/anaconda/lib/python2.7/site-packages/rpy2/robjects/functions.py:106: UserWarning: Loading required package: parallel\n",
      "\n",
      "  res = super(Function, self).__call__(*new_args, **new_kwargs)\n"
     ]
    }
   ],
   "source": [
    "%%R\n",
    "library(foreach)\n",
    "library(lsmeans)\n",
    "library(Hmisc)\n",
    "library(lme4)\n",
    "library(lmerTest)\n",
    "library(ggplot2)\n",
    "library(plyr)\n",
    "library(dplyr)\n",
    "library(tidyr)\n",
    "library(pbkrtest)\n",
    "library(gridExtra)\n",
    "library(reshape2)\n",
    "library(picante)\n",
    "library(ape)\n",
    "library(phyloseq)\n",
    "library(doParallel)\n"
   ]
  },
  {
   "cell_type": "code",
   "execution_count": 7,
   "metadata": {
    "collapsed": false
   },
   "outputs": [],
   "source": [
    "%%R\n",
    "# Initialize corMLPE \n",
    "source('/home/bryan/corMLPE/corMLPE.R')"
   ]
  },
  {
   "cell_type": "markdown",
   "metadata": {
    "hide_input": true,
    "slideshow": {
     "slide_type": "skip"
    }
   },
   "source": [
    "## Set file locations"
   ]
  },
  {
   "cell_type": "code",
   "execution_count": 9,
   "metadata": {
    "collapsed": true
   },
   "outputs": [],
   "source": [
    "%%R\n",
    "workDir = '/home/bryan/RhizCG/PhyDist/'\n",
    "treeFile = '/home/bryan/RhizCG/PhyDist/20160209_phylogeny.tre'\n",
    "NAMFile = '/home/bryan/RhizCG/PhyDist/NAM_founders_distanceMatrix_v2.txt'"
   ]
  },
  {
   "cell_type": "markdown",
   "metadata": {
    "slideshow": {
     "slide_type": "skip"
    }
   },
   "source": [
    "### Read  tables table "
   ]
  },
  {
   "cell_type": "code",
   "execution_count": 10,
   "metadata": {
    "collapsed": false
   },
   "outputs": [],
   "source": [
    "%%R\n",
    "setwd(workDir)\n",
    "# read phylogenetic distance, expanded with 0.0002 between maize\n",
    "phy_expand = read.csv(file = \"phyDist_expanded.csv\", header = TRUE)\n",
    "colnames(phy_expand)[12] = \"75-062\""
   ]
  },
  {
   "cell_type": "code",
   "execution_count": 169,
   "metadata": {
    "collapsed": false
   },
   "outputs": [
    {
     "data": {
      "image/png": "[encoded data removed]"
     },
     "metadata": {},
     "output_type": "display_data"
    }
   ],
   "source": [
    "%%R\n",
    "Phy_hc = hclust(as.dist(phy_expand), \"average\")\n",
    "plot(Phy_hc)"
   ]
  },
  {
   "cell_type": "code",
   "execution_count": 11,
   "metadata": {
    "collapsed": false
   },
   "outputs": [],
   "source": [
    "%%R \n",
    "\n",
    "NAMdist = read.table(NAMFile, header = TRUE)\n",
    "#reorder so that NAMdist is in same order as log2fold change matrix\n",
    "NAMdist = NAMdist[c(1:6, 8, 7, 9, 10), c(1:6, 8, 7, 9, 10)]"
   ]
  },
  {
   "cell_type": "code",
   "execution_count": 26,
   "metadata": {
    "collapsed": false,
    "scrolled": true
   },
   "outputs": [
    {
     "data": {
      "text/plain": [
       "phyloseq-class experiment-level object\n",
       "otu_table()   OTU Table:         [ 4927 taxa and 87 samples ]\n",
       "sample_data() Sample Data:       [ 87 samples by 55 sample variables ]\n",
       "tax_table()   Taxonomy Table:    [ 4927 taxa by 8 taxonomic ranks ]\n",
       "phy_tree()    Phylogenetic Tree: [ 4927 tips and 4926 internal nodes ]\n"
      ]
     },
     "metadata": {},
     "output_type": "display_data"
    }
   ],
   "source": [
    "%%R\n",
    "#Read rarified phyloseq object\n",
    "F = file.path('/home/bryan/RhizCG/data/MiSeq_amplicon/MergedRuns/physeq/Full-Sparsity3in3_r')\n",
    "physeq.Full = readRDS(F)\n",
    "\n",
    "physeq.Nneg = subset_samples(physeq.Full, Treatment == \"Nneg\" & Plant != \"BARE\")\n",
    "physeq.Nneg = filter_taxa(physeq.Nneg, function(x) sum(x > 0) > 0, TRUE)  \n",
    "physeq.Nneg"
   ]
  },
  {
   "cell_type": "code",
   "execution_count": 135,
   "metadata": {
    "collapsed": false
   },
   "outputs": [
    {
     "data": {
      "text/plain": [
       "  [1]  8.278627  8.125213  7.918973  8.963165 12.768339  6.847902 13.588167\n",
       "  [8]  6.369843  7.188708  7.051508  6.183494  7.270668  8.397916        NA\n",
       " [15]        NA 15.391546  6.423144  7.140380  6.207876 13.193849  6.168921\n",
       " [22]        NA  5.173537 13.465720  4.009799  5.626327 16.899191  8.500441\n",
       " [29]  5.373262  8.408844  5.902186        NA  6.634164  5.635889        NA\n",
       " [36]  5.854355  8.114796  5.052936  7.773524  3.664889        NA        NA\n",
       " [43] 15.644427  7.872537  4.744561  6.239278 25.442993        NA        NA\n",
       " [50]        NA        NA 20.211667 15.543360  4.895955  4.422297  5.473452\n",
       " [57]        NA 35.021310        NA        NA  5.844123  7.359647        NA\n",
       " [64]        NA  4.480212        NA  9.445399        NA        NA  4.131688\n",
       " [71]        NA  6.155739  5.732947        NA        NA 24.070209  9.505402\n",
       " [78]        NA 11.859845 15.747796  5.789485 18.652602  6.156955        NA\n",
       " [85] 14.443566 12.264973  6.009090  8.154514  5.970404        NA 10.332289\n",
       " [92] 14.522037  4.775050  5.914303 13.029556  6.459751        NA        NA\n",
       " [99]        NA        NA 22.605258        NA        NA        NA        NA\n",
       "[106]        NA        NA 22.840894        NA        NA        NA        NA\n",
       "[113]  6.794068        NA 31.420774        NA        NA 19.050378 18.428918\n",
       "[120] 23.048044        NA        NA        NA        NA        NA        NA\n",
       "[127]        NA        NA        NA        NA        NA 55.330111        NA\n",
       "[134]        NA  8.765736        NA        NA        NA        NA        NA\n",
       "[141]        NA        NA        NA        NA        NA        NA  5.975813\n",
       "[148]        NA        NA        NA        NA        NA        NA        NA\n",
       "[155]        NA        NA        NA        NA  6.412755        NA 10.206838\n",
       "[162]        NA        NA        NA        NA        NA        NA 12.384177\n",
       "[169]        NA        NA 27.456298        NA        NA        NA\n"
      ]
     },
     "metadata": {},
     "output_type": "display_data"
    }
   ],
   "source": [
    "%%R\n",
    "sample_data(physeq.Full) %>% filter(Plant != \"BARE\") %>% .$InorganicN "
   ]
  },
  {
   "cell_type": "markdown",
   "metadata": {},
   "source": [
    "## Define subset of plants for model comparison"
   ]
  },
  {
   "cell_type": "code",
   "execution_count": 70,
   "metadata": {
    "collapsed": false,
    "hide_input": true,
    "scrolled": true
   },
   "outputs": [
    {
     "data": {
      "text/plain": [
       "phyloseq-class experiment-level object\n",
       "otu_table()   OTU Table:         [ 4927 taxa and 87 samples ]\n",
       "sample_data() Sample Data:       [ 87 samples by 55 sample variables ]\n",
       "tax_table()   Taxonomy Table:    [ 4927 taxa by 8 taxonomic ranks ]\n",
       "phy_tree()    Phylogenetic Tree: [ 4927 tips and 4926 internal nodes ]\n"
      ]
     },
     "metadata": {},
     "output_type": "display_data"
    }
   ],
   "source": [
    "%%R\n",
    "# phy = subset_samples(physeq.Nneg, Plant %in% c(\"AMAPO\", \"GLYMA\",  \"ERATE\", \n",
    "#  \"ELCOR\",  \"SORSUD\",    \"SORBI\",  \"ABUTH\",  \"HELAN\",  \"ECHCG\", \"SETFA\", \"MS71\", \"Mo18\"))\n",
    "\n",
    "phy = physeq.Nneg\n",
    "\n",
    "phy"
   ]
  },
  {
   "cell_type": "markdown",
   "metadata": {},
   "source": [
    "## Calculate w-Unifrac distances"
   ]
  },
  {
   "cell_type": "code",
   "execution_count": 71,
   "metadata": {
    "collapsed": false
   },
   "outputs": [],
   "source": [
    "%%R\n",
    "registerDoParallel(cores=28)\n",
    "phy.wunif.dist = distance(phy, \n",
    "                      method = \"unifrac\", \n",
    "                      weighted = TRUE,\n",
    "                      fast = TRUE, \n",
    "                      parallel = TRUE, \n",
    "                      normalized = FALSE)\n"
   ]
  },
  {
   "cell_type": "markdown",
   "metadata": {
    "slideshow": {
     "slide_type": "skip"
    }
   },
   "source": [
    "# Data wrangling "
   ]
  },
  {
   "cell_type": "markdown",
   "metadata": {},
   "source": [
    "## Create melted dataframes for plot by plot comparisons"
   ]
  },
  {
   "cell_type": "code",
   "execution_count": 72,
   "metadata": {
    "collapsed": false
   },
   "outputs": [
    {
     "data": {
      "text/plain": [
       "  PlantA PlantB phy_Dist   PlantComp\n",
       "1  FAGES  FAGES  0.00000 FAGES-FAGES\n",
       "2  AMAPO  FAGES  0.23210 AMAPO-FAGES\n",
       "3  HELAN  FAGES  0.25302 HELAN-FAGES\n",
       "4  ABUTH  FAGES  0.27096 ABUTH-FAGES\n",
       "5  GLYMA  FAGES  0.35879 GLYMA-FAGES\n",
       "6  SORBI  FAGES  0.43476 SORBI-FAGES\n"
      ]
     },
     "metadata": {},
     "output_type": "display_data"
    }
   ],
   "source": [
    "%%R\n",
    "pd.m = melt(as.matrix(phy_expand))\n",
    "\n",
    "#set column names and create comparison column\n",
    "colnames(pd.m) = c(\"PlantA\", \"PlantB\", \"phy_Dist\")\n",
    "pd.m$PlantComp = paste(pd.m$PlantA, pd.m$PlantB, sep = \"-\")\n",
    "pd.m %>% head\n"
   ]
  },
  {
   "cell_type": "code",
   "execution_count": 73,
   "metadata": {
    "collapsed": false,
    "hide_input": false
   },
   "outputs": [
    {
     "data": {
      "text/plain": [
       "                PlotA             PlotB w_Unif_Dist\n",
       "88  sample5-1.22_Nneg sample4-2.02_Nneg   0.2069072\n",
       "175 sample5-1.22_Nneg sample4-4.21_Nneg   0.1605861\n",
       "176 sample4-2.02_Nneg sample4-4.21_Nneg   0.1853471\n",
       "262 sample5-1.22_Nneg sample5-2.29_Nneg   0.1505018\n",
       "263 sample4-2.02_Nneg sample5-2.29_Nneg   0.1881794\n",
       "264 sample4-4.21_Nneg sample5-2.29_Nneg   0.1816279\n",
       "[1] 3741    3\n"
      ]
     },
     "metadata": {},
     "output_type": "display_data"
    }
   ],
   "source": [
    "%%R\n",
    "ud = as.matrix(phy.wunif.dist) \n",
    "# remove lower triangle to remove duplicate values\n",
    "ud[ lower.tri( ud, diag = TRUE ) ]  <- NA\n",
    "head(ud)\n",
    "ud.m = melt(ud, na.rm= TRUE)\n",
    "colnames(ud.m) = c(\"PlotA\", \"PlotB\", \"w_Unif_Dist\")\n",
    "head(ud.m) %>% print\n",
    "dim(ud.m) %>% print"
   ]
  },
  {
   "cell_type": "markdown",
   "metadata": {},
   "source": [
    "## Create functional distance variable"
   ]
  },
  {
   "cell_type": "code",
   "execution_count": 74,
   "metadata": {
    "collapsed": false
   },
   "outputs": [
    {
     "data": {
      "text/plain": [
       "   Plant SeedSize_mg\n",
       "1  ERATE      0.0035\n",
       "2  HELAN          90\n",
       "3    B73         333\n",
       "4  FAGES          38\n",
       "5  AMAPO        0.49\n",
       "6 SORSUD        10.7\n",
       "    Plant SeedSize_mg\n",
       "1   ERATE      0.0035\n",
       "2   HELAN     90.0000\n",
       "3     B73    333.0000\n",
       "4   FAGES     38.0000\n",
       "5   AMAPO      0.4900\n",
       "6  SORSUD     10.7000\n",
       "7   SORBI     32.3900\n",
       "8   ELCOR      3.2000\n",
       "9   ECHCG      1.5800\n",
       "10  ABUTH      9.6000\n",
       "11  SETFA      1.8000\n",
       "12  GLYMA    174.0000\n",
       "13   MS71      0.2640\n",
       "14   Mo18      0.2240\n",
       "15  Il14H      0.2190\n",
       "16  Tx303      0.2790\n",
       "17   Oh7B      0.2070\n",
       "18    B97      0.2400\n",
       "19  Hp301      0.0869\n",
       "20 75-062      0.2220\n",
       "21    Ki3      0.2280\n",
       "22    H99      0.2310\n"
      ]
     },
     "metadata": {},
     "output_type": "display_data"
    }
   ],
   "source": [
    "%%R\n",
    "#add growing degree days\n",
    "DAP = c(36, 53, 57, 61, 72, 79, 84, 88)\n",
    "GDD = c(795.1, 1089.4, 1136.8, 1199.5, 1394.3, 1512.4, 1573.8, 1625.6)\n",
    "M_GDD = cbind(DAP, GDD) %>% as.data.frame\n",
    "M_GDD\n",
    "\n",
    "Plant = c(\"ERATE\", \"HELAN\", \"B73\", \"FAGES\", \"AMAPO\", \"SORSUD\", \"SORBI\", \n",
    "          \"ELCOR\", \"ECHCG\", \"ABUTH\", \"SETFA\", \"GLYMA\", \"MS71\", \"Mo18\", \"Il14H\", \"Tx303\", \"Oh7B\",\n",
    "         \"B97\", \"Hp301\", \"75-062\", \"Ki3\", \"H99\")\n",
    "SeedSize_mg = c(.0035, 90, 333, 38, .49, 10.7, 32.39,\n",
    "               3.2, 1.58, 9.6, 1.8, 174, .264, .224, 0.219, 0.279, 0.207,\n",
    "               0.240, 0.0869, 0.222, 0.228, 0.231)\n",
    "SS = cbind(Plant, SeedSize_mg) %>% as.data.frame\n",
    "head(SS) %>% print\n",
    "SS$SeedSize_mg = SS$SeedSize_mg %>% as.character %>% as.numeric\n",
    "(SS)"
   ]
  },
  {
   "cell_type": "code",
   "execution_count": 78,
   "metadata": {
    "collapsed": false
   },
   "outputs": [
    {
     "data": {
      "text/plain": [
       " [1] \"75-062\" \"ABUTH\"  \"AMAPO\"  \"B73\"    \"B97\"    \"ECHCG\"  \"ELCOR\"  \"ERATE\" \n",
       " [9] \"FAGES\"  \"GLYMA\"  \"H99\"    \"HELAN\"  \"Hp301\"  \"Il14H\"  \"Ki3\"    \"Mo18\"  \n",
       "[17] \"MS71\"   \"Oh7B\"   \"SETFA\"  \"SORBI\"  \"SORSUD\" \"Tx303\" \n",
       "Importance of components:\n",
       "                         PC1    PC2    PC3     PC4\n",
       "Standard deviation     1.527 1.0247 0.7848 0.04564\n",
       "Proportion of Variance 0.583 0.2625 0.1540 0.00052\n",
       "Cumulative Proportion  0.583 0.8455 0.9995 1.00000\n",
       "                        PC1        PC2        PC3          PC4\n",
       "log(SeedSize_mg)  0.4375562 -0.3576541 -0.8249996 -0.001934066\n",
       "A_Resid_logN      0.6312646  0.1535568  0.2699008 -0.710689000\n",
       "A_Resid_logCN    -0.2778570 -0.8660244  0.2288852 -0.346999792\n",
       "A_Resid_logB      0.5769273 -0.3138561  0.4406140  0.611971036\n"
      ]
     },
     "metadata": {},
     "output_type": "display_data"
    },
    {
     "data": {
      "image/png": "[encoded data removed]"
     },
     "metadata": {},
     "output_type": "display_data"
    }
   ],
   "source": [
    "%%R\n",
    "# PCA of annuals\n",
    "sd = as(sample_data(phy), \"data.frame\")\n",
    "sd$Plant %>% levels %>% print\n",
    "sd = left_join(sd, SS, by = \"Plant\")\n",
    "sd = left_join(sd, M_GDD, by = \"DAP\")\n",
    "\n",
    " fit = prcomp(~log(SeedSize_mg) + A_Resid_logN + A_Resid_logCN + A_Resid_logB, data = sd, \n",
    "                 na.action = na.exclude, center = TRUE, scale = TRUE)\n",
    "\n",
    "summary(fit) %>% print\n",
    "fit$rotation %>% print\n",
    "biplot(fit)"
   ]
  },
  {
   "cell_type": "code",
   "execution_count": 90,
   "metadata": {
    "collapsed": false,
    "scrolled": false
   },
   "outputs": [
    {
     "data": {
      "image/png": "[encoded data removed]"
     },
     "metadata": {},
     "output_type": "display_data"
    }
   ],
   "source": [
    "%%R -w 600 -h 500\n",
    "S = predict(fit)[,1:3]\n",
    "E_Fit = cbind(sd, S)\n",
    "row.names(E_Fit) = E_Fit$X.sample\n",
    "sample_data(phy) = E_Fit\n",
    "\n",
    "\n",
    "p = ggplot(E_Fit, aes(PC1, PC3, colour = Plant, \n",
    "                       size = A_Resid_logN), pch = 21)\n",
    "p = p + geom_point()\n",
    "#p = p + scale_colour_brewer(palette=\"Paired\")\n",
    "p = p + ggtitle(\"PCA of Growth Residuals\")\n",
    "p"
   ]
  },
  {
   "cell_type": "code",
   "execution_count": 81,
   "metadata": {
    "collapsed": false,
    "scrolled": true
   },
   "outputs": [
    {
     "data": {
      "image/png": "[encoded data removed]"
     },
     "metadata": {},
     "output_type": "display_data"
    }
   ],
   "source": [
    "%%R\n",
    "p = ggplot(E_Fit, aes(PC1, PC2, colour = Plant, \n",
    "                       size = A_Resid_logN), pch = 21)\n",
    "p = p + geom_point()\n",
    "p = p + scale_colour_brewer(palette=\"Paired\")\n",
    "p = p + ggtitle(\"PCA of Growth Residuals\")\n",
    "p"
   ]
  },
  {
   "cell_type": "code",
   "execution_count": 82,
   "metadata": {
    "collapsed": false
   },
   "outputs": [
    {
     "data": {
      "text/plain": [
       "              PlotA             PlotB    PC3Dist\n",
       "1 sample5-1.22_Nneg sample5-1.22_Nneg 0.00000000\n",
       "2 sample4-2.02_Nneg sample5-1.22_Nneg 0.17182051\n",
       "3 sample4-4.21_Nneg sample5-1.22_Nneg 0.01426713\n",
       "4 sample5-2.29_Nneg sample5-1.22_Nneg 0.37236147\n",
       "5 sample5-2.06_Nneg sample5-1.22_Nneg 0.52468978\n",
       "6 sample1-2.23_Nneg sample5-1.22_Nneg 0.89750562\n",
       "                             PlotComp\n",
       "1 sample5-1.22_Nneg-sample5-1.22_Nneg\n",
       "2 sample4-2.02_Nneg-sample5-1.22_Nneg\n",
       "3 sample4-4.21_Nneg-sample5-1.22_Nneg\n",
       "4 sample5-2.29_Nneg-sample5-1.22_Nneg\n",
       "5 sample5-2.06_Nneg-sample5-1.22_Nneg\n",
       "6 sample1-2.23_Nneg-sample5-1.22_Nneg\n",
       "              PlotA             PlotB     CNdist\n",
       "1 sample5-1.22_Nneg sample5-1.22_Nneg 0.00000000\n",
       "2 sample4-2.02_Nneg sample5-1.22_Nneg 0.39380360\n",
       "3 sample4-4.21_Nneg sample5-1.22_Nneg 0.30193239\n",
       "4 sample5-2.29_Nneg sample5-1.22_Nneg 0.21610061\n",
       "5 sample5-2.06_Nneg sample5-1.22_Nneg 0.03917953\n",
       "6 sample1-2.23_Nneg sample5-1.22_Nneg 0.66441421\n",
       "                             PlotComp\n",
       "1 sample5-1.22_Nneg-sample5-1.22_Nneg\n",
       "2 sample4-2.02_Nneg-sample5-1.22_Nneg\n",
       "3 sample4-4.21_Nneg-sample5-1.22_Nneg\n",
       "4 sample5-2.29_Nneg-sample5-1.22_Nneg\n",
       "5 sample5-2.06_Nneg-sample5-1.22_Nneg\n",
       "6 sample1-2.23_Nneg-sample5-1.22_Nneg\n",
       "              PlotA             PlotB     Bdist\n",
       "1 sample5-1.22_Nneg sample5-1.22_Nneg 0.0000000\n",
       "2 sample4-2.02_Nneg sample5-1.22_Nneg 0.3548361\n",
       "3 sample4-4.21_Nneg sample5-1.22_Nneg 0.4519285\n",
       "4 sample5-2.29_Nneg sample5-1.22_Nneg 0.2768868\n",
       "5 sample5-2.06_Nneg sample5-1.22_Nneg 0.3730707\n",
       "6 sample1-2.23_Nneg sample5-1.22_Nneg 0.5572487\n",
       "                             PlotComp\n",
       "1 sample5-1.22_Nneg-sample5-1.22_Nneg\n",
       "2 sample4-2.02_Nneg-sample5-1.22_Nneg\n",
       "3 sample4-4.21_Nneg-sample5-1.22_Nneg\n",
       "4 sample5-2.29_Nneg-sample5-1.22_Nneg\n",
       "5 sample5-2.06_Nneg-sample5-1.22_Nneg\n",
       "6 sample1-2.23_Nneg-sample5-1.22_Nneg\n",
       "              PlotA             PlotB  FunDist\n",
       "1 sample5-1.22_Nneg sample5-1.22_Nneg 0.000000\n",
       "2 sample4-2.02_Nneg sample5-1.22_Nneg 2.424958\n",
       "3 sample4-4.21_Nneg sample5-1.22_Nneg 2.332900\n",
       "4 sample5-2.29_Nneg sample5-1.22_Nneg 1.468835\n",
       "5 sample5-2.06_Nneg sample5-1.22_Nneg 1.220166\n",
       "6 sample1-2.23_Nneg sample5-1.22_Nneg 4.058585\n",
       "                             PlotComp\n",
       "1 sample5-1.22_Nneg-sample5-1.22_Nneg\n",
       "2 sample4-2.02_Nneg-sample5-1.22_Nneg\n",
       "3 sample4-4.21_Nneg-sample5-1.22_Nneg\n",
       "4 sample5-2.29_Nneg-sample5-1.22_Nneg\n",
       "5 sample5-2.06_Nneg-sample5-1.22_Nneg\n",
       "6 sample1-2.23_Nneg-sample5-1.22_Nneg\n",
       "              PlotA             PlotB  PC1Dist\n",
       "1 sample5-1.22_Nneg sample5-1.22_Nneg 0.000000\n",
       "2 sample4-2.02_Nneg sample5-1.22_Nneg 2.193246\n",
       "3 sample4-4.21_Nneg sample5-1.22_Nneg 2.240768\n",
       "4 sample5-2.29_Nneg sample5-1.22_Nneg 1.251588\n",
       "5 sample5-2.06_Nneg sample5-1.22_Nneg 1.101078\n",
       "6 sample1-2.23_Nneg sample5-1.22_Nneg 3.665746\n",
       "                             PlotComp   PC2Dist    PC3Dist  FunDist     CNdist\n",
       "1 sample5-1.22_Nneg-sample5-1.22_Nneg 0.0000000 0.00000000 0.000000 0.00000000\n",
       "2 sample4-2.02_Nneg-sample5-1.22_Nneg 1.0200845 0.17182051 2.424958 0.39380360\n",
       "3 sample4-4.21_Nneg-sample5-1.22_Nneg 0.6489823 0.01426713 2.332900 0.30193239\n",
       "4 sample5-2.29_Nneg-sample5-1.22_Nneg 0.6725688 0.37236147 1.468835 0.21610061\n",
       "5 sample5-2.06_Nneg-sample5-1.22_Nneg 0.0336699 0.52468978 1.220166 0.03917953\n",
       "6 sample1-2.23_Nneg-sample5-1.22_Nneg 1.4929501 0.89750562 4.058585 0.66441421\n",
       "      Bdist\n",
       "1 0.0000000\n",
       "2 0.3548361\n",
       "3 0.4519285\n",
       "4 0.2768868\n",
       "5 0.3730707\n",
       "6 0.5572487\n"
      ]
     },
     "metadata": {},
     "output_type": "display_data"
    }
   ],
   "source": [
    "%%R\n",
    "#measure distances on PC1\n",
    "sd = sample_data(phy)\n",
    "PC1dist = dist(sd[, \"PC1\"], method = \"euclidian\")\n",
    "    #melt matrix\n",
    "    PC1.m = melt(as.matrix(PC1dist))\n",
    "\n",
    "    #set column names and create comparison column\n",
    "     colnames(PC1.m) = c(\"PlotA\", \"PlotB\", \"PC1Dist\")\n",
    "    PC1.m$PlotComp = paste(PC1.m$PlotA, PC1.m$PlotB, sep = \"-\")\n",
    "    PC1.m %>% head\n",
    "\n",
    "#measure distances on PC2\n",
    "PC2dist = dist(sd[,\"PC2\"], method = \"euclidian\")\n",
    "    #melt matrix\n",
    "    PC2.m = melt(as.matrix(PC2dist))\n",
    "\n",
    "    #set column names and create comparison column\n",
    "     colnames(PC2.m) = c(\"PlotA\", \"PlotB\", \"PC2Dist\")\n",
    "    PC2.m$PlotComp = paste(PC2.m$PlotA, PC2.m$PlotB, sep = \"-\")\n",
    "    PC2.m %>% head\n",
    "\n",
    "#measure distances on PC3\n",
    "PC3dist = dist(sd[,\"PC3\"], method = \"euclidian\")\n",
    "    #melt matrix\n",
    "    PC3.m = melt(as.matrix(PC3dist))\n",
    "\n",
    "    #set column names and create comparison column\n",
    "     colnames(PC3.m) = c(\"PlotA\", \"PlotB\", \"PC3Dist\")\n",
    "    PC3.m$PlotComp = paste(PC3.m$PlotA, PC3.m$PlotB, sep = \"-\")\n",
    "    PC3.m %>% head %>% print\n",
    "\n",
    "#measure distances on residCN\n",
    "CNdist = dist(sd[,\"A_Resid_logCN\"], method = \"euclidian\")\n",
    "    #melt matrix\n",
    "    CN.m = melt(as.matrix(CNdist))\n",
    "\n",
    "    #set column names and create comparison column\n",
    "     colnames(CN.m) = c(\"PlotA\", \"PlotB\", \"CNdist\")\n",
    "    CN.m$PlotComp = paste(CN.m$PlotA, CN.m$PlotB, sep = \"-\")\n",
    "    CN.m %>% head %>% print\n",
    "\n",
    "#measure distances on residBiomass\n",
    "Bdist = dist(sd[,\"A_Resid_logB\"], method = \"euclidian\")\n",
    "    #melt matrix\n",
    "    B.m = melt(as.matrix(Bdist))\n",
    "\n",
    "    #set column names and create comparison column\n",
    "     colnames(B.m) = c(\"PlotA\", \"PlotB\", \"Bdist\")\n",
    "    B.m$PlotComp = paste(B.m$PlotA, B.m$PlotB, sep = \"-\")\n",
    "    B.m %>% head %>% print\n",
    "\n",
    "Fundist = dist(sd[,c(\"PC1\", \"PC2\", \"PC3\")], method = \"euclidian\")\n",
    "    Fun.m = melt(as.matrix(Fundist))\n",
    "\n",
    "    #set column names and create comparison column\n",
    "     colnames(Fun.m) = c(\"PlotA\", \"PlotB\", \"FunDist\")\n",
    "    Fun.m$PlotComp = paste(Fun.m$PlotA, PC3.m$PlotB, sep = \"-\")\n",
    "    Fun.m %>% head %>% print\n",
    "PCA.m = left_join(PC1.m, PC2.m[,c(3,4)], by = \"PlotComp\")\n",
    "PCA.m = left_join(PCA.m, PC3.m[,c(3,4)], by = \"PlotComp\")\n",
    "PCA.m = left_join(PCA.m, Fun.m[,c(3,4)], by = \"PlotComp\")\n",
    "PCA.m = left_join(PCA.m, CN.m[,c(3,4)], by = \"PlotComp\")\n",
    "PCA.m = left_join(PCA.m, B.m[,c(3,4)], by = \"PlotComp\")\n",
    "head(PCA.m)"
   ]
  },
  {
   "cell_type": "markdown",
   "metadata": {},
   "source": [
    "## Join distance tables"
   ]
  },
  {
   "cell_type": "code",
   "execution_count": 83,
   "metadata": {
    "collapsed": false
   },
   "outputs": [
    {
     "data": {
      "text/plain": [
       "              PlotA             PlotB w_Unif_Dist  Plant\n",
       "1 sample5-1.22_Nneg sample4-2.02_Nneg   0.2069072 75-062\n",
       "2 sample5-1.22_Nneg sample4-4.21_Nneg   0.1605861 75-062\n",
       "3 sample4-2.02_Nneg sample4-4.21_Nneg   0.1853471  SETFA\n",
       "4 sample5-1.22_Nneg sample5-2.29_Nneg   0.1505018 75-062\n",
       "5 sample4-2.02_Nneg sample5-2.29_Nneg   0.1881794  SETFA\n",
       "6 sample4-4.21_Nneg sample5-2.29_Nneg   0.1816279  SETFA\n",
       "              PlotA             PlotB w_Unif_Dist PlantA  Plant\n",
       "1 sample5-1.22_Nneg sample4-2.02_Nneg   0.2069072 75-062  SETFA\n",
       "2 sample5-1.22_Nneg sample4-4.21_Nneg   0.1605861 75-062  SETFA\n",
       "3 sample4-2.02_Nneg sample4-4.21_Nneg   0.1853471  SETFA  SETFA\n",
       "4 sample5-1.22_Nneg sample5-2.29_Nneg   0.1505018 75-062 75-062\n",
       "5 sample4-2.02_Nneg sample5-2.29_Nneg   0.1881794  SETFA 75-062\n",
       "6 sample4-4.21_Nneg sample5-2.29_Nneg   0.1816279  SETFA 75-062\n",
       "              PlotA             PlotB w_Unif_Dist PlantA PlantB     PlantComp\n",
       "1 sample5-1.22_Nneg sample4-2.02_Nneg   0.2069072 75-062  SETFA  75-062-SETFA\n",
       "2 sample5-1.22_Nneg sample4-4.21_Nneg   0.1605861 75-062  SETFA  75-062-SETFA\n",
       "3 sample4-2.02_Nneg sample4-4.21_Nneg   0.1853471  SETFA  SETFA   SETFA-SETFA\n",
       "4 sample5-1.22_Nneg sample5-2.29_Nneg   0.1505018 75-062 75-062 75-062-75-062\n",
       "5 sample4-2.02_Nneg sample5-2.29_Nneg   0.1881794  SETFA 75-062  SETFA-75-062\n",
       "6 sample4-4.21_Nneg sample5-2.29_Nneg   0.1816279  SETFA 75-062  SETFA-75-062\n",
       "                             PlotComp\n",
       "1 sample5-1.22_Nneg-sample4-2.02_Nneg\n",
       "2 sample5-1.22_Nneg-sample4-4.21_Nneg\n",
       "3 sample4-2.02_Nneg-sample4-4.21_Nneg\n",
       "4 sample5-1.22_Nneg-sample5-2.29_Nneg\n",
       "5 sample4-2.02_Nneg-sample5-2.29_Nneg\n",
       "6 sample4-4.21_Nneg-sample5-2.29_Nneg\n"
      ]
     },
     "metadata": {},
     "output_type": "display_data"
    }
   ],
   "source": [
    "%%R\n",
    "#Join with plant names\n",
    "ud.m = left_join(ud.m, sd[, c(1,9)], by = c(\"PlotA\" = \"X.sample\"))\n",
    "head(ud.m) %>% print\n",
    "colnames(ud.m)[4] = \"PlantA\"\n",
    "\n",
    "ud.m = left_join(ud.m, sd[, c(1,9)], by = c(\"PlotB\" = \"X.sample\"))\n",
    "head(ud.m) %>% print\n",
    "colnames(ud.m)[5] = \"PlantB\"\n",
    "ud.m$PlantComp = paste(ud.m$PlantA, ud.m$PlantB, sep = \"-\")\n",
    "\n",
    "#Create plot comparison for joining with functional distance matrix\n",
    "ud.m$PlotComp = paste(ud.m$PlotA, ud.m$PlotB, sep = \"-\")\n",
    "head(ud.m) %>% print"
   ]
  },
  {
   "cell_type": "markdown",
   "metadata": {},
   "source": [
    "## Join with plant phylogenetic distance and functional distance"
   ]
  },
  {
   "cell_type": "code",
   "execution_count": 84,
   "metadata": {
    "collapsed": false
   },
   "outputs": [
    {
     "data": {
      "text/plain": [
       "                 PlotA             PlotB w_Unif_Dist PlantA PlantB   PlantComp\n",
       "3736 sample3-2.19_Nneg sample8-3.03_Nneg   0.2419601  ABUTH  ELCOR ABUTH-ELCOR\n",
       "3737 sample8-1.23_Nneg sample8-3.03_Nneg   0.1984166    Ki3  ELCOR   Ki3-ELCOR\n",
       "3738 sample6-2.14_Nneg sample8-3.03_Nneg   0.2503097  Hp301  ELCOR Hp301-ELCOR\n",
       "3739 sample8-4.04_Nneg sample8-3.03_Nneg   0.2377478   Mo18  ELCOR  Mo18-ELCOR\n",
       "3740 sample3-3.30_Nneg sample8-3.03_Nneg   0.2233484  ABUTH  ELCOR ABUTH-ELCOR\n",
       "3741 sample7-4.14_Nneg sample8-3.03_Nneg   0.2893173  SORBI  ELCOR SORBI-ELCOR\n",
       "                                PlotComp phy_Dist\n",
       "3736 sample3-2.19_Nneg-sample8-3.03_Nneg  0.36639\n",
       "3737 sample8-1.23_Nneg-sample8-3.03_Nneg  0.05090\n",
       "3738 sample6-2.14_Nneg-sample8-3.03_Nneg  0.05090\n",
       "3739 sample8-4.04_Nneg-sample8-3.03_Nneg  0.05090\n",
       "3740 sample3-3.30_Nneg-sample8-3.03_Nneg  0.36639\n",
       "3741 sample7-4.14_Nneg-sample8-3.03_Nneg  0.04779\n",
       "                 PlotA             PlotB w_Unif_Dist PlantA PlantB   PlantComp\n",
       "3736 sample3-2.19_Nneg sample8-3.03_Nneg   0.2419601  ABUTH  ELCOR ABUTH-ELCOR\n",
       "3737 sample8-1.23_Nneg sample8-3.03_Nneg   0.1984166    Ki3  ELCOR   Ki3-ELCOR\n",
       "3738 sample6-2.14_Nneg sample8-3.03_Nneg   0.2503097  Hp301  ELCOR Hp301-ELCOR\n",
       "3739 sample8-4.04_Nneg sample8-3.03_Nneg   0.2377478   Mo18  ELCOR  Mo18-ELCOR\n",
       "3740 sample3-3.30_Nneg sample8-3.03_Nneg   0.2233484  ABUTH  ELCOR ABUTH-ELCOR\n",
       "3741 sample7-4.14_Nneg sample8-3.03_Nneg   0.2893173  SORBI  ELCOR SORBI-ELCOR\n",
       "                                PlotComp phy_Dist LibraryA DAY_A\n",
       "3736 sample3-2.19_Nneg-sample8-3.03_Nneg  0.36639        2    57\n",
       "3737 sample8-1.23_Nneg-sample8-3.03_Nneg  0.05090        2    88\n",
       "3738 sample6-2.14_Nneg-sample8-3.03_Nneg  0.05090        2    79\n",
       "3739 sample8-4.04_Nneg-sample8-3.03_Nneg  0.05090        2    88\n",
       "3740 sample3-3.30_Nneg-sample8-3.03_Nneg  0.36639        2    57\n",
       "3741 sample7-4.14_Nneg-sample8-3.03_Nneg  0.04779        2    84\n",
       "                 PlotA             PlotB w_Unif_Dist PlantA PlantB   PlantComp\n",
       "3736 sample3-2.19_Nneg sample8-3.03_Nneg   0.2419601  ABUTH  ELCOR ABUTH-ELCOR\n",
       "3737 sample8-1.23_Nneg sample8-3.03_Nneg   0.1984166    Ki3  ELCOR   Ki3-ELCOR\n",
       "3738 sample6-2.14_Nneg sample8-3.03_Nneg   0.2503097  Hp301  ELCOR Hp301-ELCOR\n",
       "3739 sample8-4.04_Nneg sample8-3.03_Nneg   0.2377478   Mo18  ELCOR  Mo18-ELCOR\n",
       "3740 sample3-3.30_Nneg sample8-3.03_Nneg   0.2233484  ABUTH  ELCOR ABUTH-ELCOR\n",
       "3741 sample7-4.14_Nneg sample8-3.03_Nneg   0.2893173  SORBI  ELCOR SORBI-ELCOR\n",
       "                                PlotComp phy_Dist LibraryA DAY_A LibraryB DAY_B\n",
       "3736 sample3-2.19_Nneg-sample8-3.03_Nneg  0.36639        2    57        2    88\n",
       "3737 sample8-1.23_Nneg-sample8-3.03_Nneg  0.05090        2    88        2    88\n",
       "3738 sample6-2.14_Nneg-sample8-3.03_Nneg  0.05090        2    79        2    88\n",
       "3739 sample8-4.04_Nneg-sample8-3.03_Nneg  0.05090        2    88        2    88\n",
       "3740 sample3-3.30_Nneg-sample8-3.03_Nneg  0.36639        2    57        2    88\n",
       "3741 sample7-4.14_Nneg-sample8-3.03_Nneg  0.04779        2    84        2    88\n",
       "              PlotA             PlotB w_Unif_Dist PlantA PlantB     PlantComp\n",
       "1 sample5-1.22_Nneg sample4-2.02_Nneg   0.2069072 75-062  SETFA  75-062-SETFA\n",
       "2 sample5-1.22_Nneg sample4-4.21_Nneg   0.1605861 75-062  SETFA  75-062-SETFA\n",
       "3 sample4-2.02_Nneg sample4-4.21_Nneg   0.1853471  SETFA  SETFA   SETFA-SETFA\n",
       "4 sample5-1.22_Nneg sample5-2.29_Nneg   0.1505018 75-062 75-062 75-062-75-062\n",
       "5 sample4-2.02_Nneg sample5-2.29_Nneg   0.1881794  SETFA 75-062  SETFA-75-062\n",
       "6 sample4-4.21_Nneg sample5-2.29_Nneg   0.1816279  SETFA 75-062  SETFA-75-062\n",
       "                             PlotComp phy_Dist LibraryA DAY_A LibraryB DAY_B\n",
       "1 sample5-1.22_Nneg-sample4-2.02_Nneg  0.03111        1    72        1    61\n",
       "2 sample5-1.22_Nneg-sample4-4.21_Nneg  0.03111        1    72        1    61\n",
       "3 sample4-2.02_Nneg-sample4-4.21_Nneg  0.00000        1    61        1    61\n",
       "4 sample5-1.22_Nneg-sample5-2.29_Nneg  0.00000        1    72        1    72\n",
       "5 sample4-2.02_Nneg-sample5-2.29_Nneg  0.03111        1    61        1    72\n",
       "6 sample4-4.21_Nneg-sample5-2.29_Nneg  0.03111        1    61        1    72\n",
       "     PC1Dist    PC2Dist    PC3Dist   FunDist     CNdist      Bdist TimeDist\n",
       "1 2.19324579 1.02008455 0.17182051 2.4249581 0.39380360 0.35483614       11\n",
       "2 2.24076750 0.64898228 0.01426713 2.3328996 0.30193239 0.45192847       11\n",
       "3 0.04752171 0.37110227 0.18608763 0.4178562 0.09187120 0.09709233        0\n",
       "4 1.25158819 0.67256877 0.37236147 1.4688345 0.21610061 0.27688682        0\n",
       "5 0.94165761 0.34751578 0.54418197 1.1417619 0.17770299 0.07794932       11\n",
       "6 0.98917932 0.02358648 0.35809434 1.0522659 0.08583178 0.17504165       11\n",
       "  LibraryComp SameDay\n",
       "1           0       1\n",
       "2           0       1\n",
       "3           0       0\n",
       "4           0       0\n",
       "5           0       1\n",
       "6           0       1\n"
      ]
     },
     "metadata": {},
     "output_type": "display_data"
    }
   ],
   "source": [
    "%%R\n",
    "Dist = left_join(ud.m, pd.m[,c(3,4)], by = \"PlantComp\")\n",
    "tail(Dist) %>% print\n",
    "\n",
    "#Join with \n",
    "# Join DAP information and library information\n",
    "Dist = left_join(Dist, sd[,c(1,2,13)], by = c(\"PlotA\" = \"X.sample\"))\n",
    "colnames(Dist)[9:10] = c(\"LibraryA\",\"DAY_A\")\n",
    "tail(Dist) %>% print\n",
    "\n",
    "Dist = left_join(Dist, sd[,c(1,2,13)], by = c(\"PlotB\" = \"X.sample\"))\n",
    "colnames(Dist)[11:12] = c(\"LibraryB\",\"DAY_B\")\n",
    "tail(Dist) %>% print\n",
    "\n",
    "Dist = left_join(Dist, PCA.m[,3:9], by = \"PlotComp\")\n",
    "\n",
    "# set DAY_A and DAY_B as factor\n",
    "Dist$DAY_A = as.factor(Dist$DAY_A)\n",
    "Dist$DAY_B = as.factor(Dist$DAY_B)\n",
    "Dist$TimeDist = abs(as.numeric(as.character(Dist$DAY_A)) - as.numeric(as.character(Dist$DAY_B)))\n",
    "\n",
    "#create factor for cross library comps and same day comps\n",
    "Dist$LibraryComp = ifelse(Dist$LibraryA == Dist$LibraryB, 0, 1) %>% as.factor\n",
    "Dist$SameDay = ifelse(Dist$DAY_A == Dist$DAY_B, 0, 1) %>% as.factor\n",
    "\n",
    "head(Dist)"
   ]
  },
  {
   "cell_type": "markdown",
   "metadata": {},
   "source": [
    "# Build corMLPE models"
   ]
  },
  {
   "cell_type": "markdown",
   "metadata": {},
   "source": [
    "## corMLPE models without random effects"
   ]
  },
  {
   "cell_type": "code",
   "execution_count": 43,
   "metadata": {
    "collapsed": false
   },
   "outputs": [
    {
     "data": {
      "text/plain": [
       "'data.frame':\t3741 obs. of  21 variables:\n",
       " $ PlotA      : chr  \"sample5-1.22_Nneg\" \"sample5-1.22_Nneg\" \"sample4-2.02_Nneg\" \"sample5-1.22_Nneg\" ...\n",
       " $ PlotB      : chr  \"sample4-2.02_Nneg\" \"sample4-4.21_Nneg\" \"sample4-4.21_Nneg\" \"sample5-2.29_Nneg\" ...\n",
       " $ w_Unif_Dist: num  0.207 0.161 0.185 0.151 0.188 ...\n",
       " $ PlantA     : chr  \"75-062\" \"75-062\" \"SETFA\" \"75-062\" ...\n",
       " $ PlantB     : chr  \"SETFA\" \"SETFA\" \"SETFA\" \"75-062\" ...\n",
       " $ PlantComp  : chr  \"75-062-SETFA\" \"75-062-SETFA\" \"SETFA-SETFA\" \"75-062-75-062\" ...\n",
       " $ PlotComp   : chr  \"sample5-1.22_Nneg-sample4-2.02_Nneg\" \"sample5-1.22_Nneg-sample4-4.21_Nneg\" \"sample4-2.02_Nneg-sample4-4.21_Nneg\" \"sample5-1.22_Nneg-sample5-2.29_Nneg\" ...\n",
       " $ phy_Dist   : num  0.0311 0.0311 0 0 0.0311 ...\n",
       " $ LibraryA   : int  1 1 1 1 1 1 1 1 1 1 ...\n",
       " $ DAY_A      : Factor w/ 8 levels \"36\",\"53\",\"57\",..: 5 5 4 5 4 4 5 4 4 5 ...\n",
       " $ LibraryB   : int  1 1 1 1 1 1 1 1 1 1 ...\n",
       " $ DAY_B      : Factor w/ 8 levels \"36\",\"53\",\"57\",..: 4 4 4 5 5 5 5 5 5 5 ...\n",
       " $ PC1Dist    : num  2.2121 2.2646 0.0525 1.2685 0.9437 ...\n",
       " $ PC2Dist    : num  0.999 0.63 0.368 0.658 0.341 ...\n",
       " $ PC3Dist    : num  0.1583 0.0259 0.1842 0.3825 0.5408 ...\n",
       " $ FunDist    : num  2.432 2.351 0.415 1.479 1.14 ...\n",
       " $ CNdist     : num  0.3938 0.3019 0.0919 0.2161 0.1777 ...\n",
       " $ Bdist      : num  0.3548 0.4519 0.0971 0.2769 0.0779 ...\n",
       " $ TimeDist   : num  11 11 0 0 11 11 0 11 11 0 ...\n",
       " $ LibraryComp: Factor w/ 2 levels \"0\",\"1\": 1 1 1 1 1 1 1 1 1 1 ...\n",
       " $ SameDay    : Factor w/ 2 levels \"0\",\"1\": 2 2 1 1 2 2 1 2 2 1 ...\n"
      ]
     },
     "metadata": {},
     "output_type": "display_data"
    }
   ],
   "source": [
    "%%R\n",
    "str(Dist)"
   ]
  },
  {
   "cell_type": "code",
   "execution_count": 44,
   "metadata": {
    "collapsed": false
   },
   "outputs": [],
   "source": [
    "%%R\n",
    "#Base models\n",
    "fit1 =  gls(w_Unif_Dist ~ 1, correlation = corMLPE(form= ~ PlotA + PlotB), data = Dist)\n",
    "Z <- corZ(fit1) #extract correlation structure from previous fit"
   ]
  },
  {
   "cell_type": "code",
   "execution_count": 57,
   "metadata": {
    "collapsed": false
   },
   "outputs": [
    {
     "data": {
      "text/plain": [
       "Generalized least squares fit by REML\n",
       "  Model: w_Unif_Dist ~ 1 \n",
       "  Data: Dist \n",
       "        AIC       BIC   logLik\n",
       "  -11783.89 -11765.21 5894.943\n",
       "\n",
       "Correlation Structure: corMLPE\n",
       " Formula: ~PlotA + PlotB \n",
       " Parameter estimate(s):\n",
       "      Rho \n",
       "0.2574348 \n",
       "\n",
       "Coefficients:\n",
       "                Value  Std.Error  t-value p-value\n",
       "(Intercept) 0.2503534 0.00751048 33.33388       0\n",
       "\n",
       "Standardized residuals:\n",
       "       Min         Q1        Med         Q3        Max \n",
       "-2.2180940 -0.7392044 -0.1107053  0.6166584  4.4016003 \n",
       "\n",
       "Residual standard error: 0.06865901 \n",
       "Degrees of freedom: 3741 total; 3740 residual\n"
      ]
     },
     "metadata": {},
     "output_type": "display_data"
    }
   ],
   "source": [
    "%%R\n",
    "summary(fit1)"
   ]
  },
  {
   "cell_type": "code",
   "execution_count": 58,
   "metadata": {
    "collapsed": false,
    "scrolled": false
   },
   "outputs": [
    {
     "data": {
      "text/plain": [
       "Generalized least squares fit by REML\n",
       "  Model: w_Unif_Dist ~ TimeDist + SameDay + LibraryComp \n",
       "  Data: Dist \n",
       "        AIC       BIC   logLik\n",
       "  -12384.39 -12347.04 6198.196\n",
       "\n",
       "Correlation Structure: corMLPE\n",
       " Formula: ~PlotA + PlotB \n",
       " Parameter estimate(s):\n",
       "      Rho \n",
       "0.2713269 \n",
       "\n",
       "Coefficients:\n",
       "                  Value   Std.Error   t-value p-value\n",
       "(Intercept)  0.20907319 0.007491263 27.908937       0\n",
       "TimeDist     0.00125187 0.000090928 13.767600       0\n",
       "SameDay1     0.02002566 0.002488400  8.047607       0\n",
       "LibraryComp1 0.01071976 0.001546897  6.929847       0\n",
       "\n",
       " Correlation: \n",
       "             (Intr) TimDst SamDy1\n",
       "TimeDist     -0.030              \n",
       "SameDay1     -0.175 -0.480       \n",
       "LibraryComp1 -0.019 -0.164 -0.192\n",
       "\n",
       "Standardized residuals:\n",
       "       Min         Q1        Med         Q3        Max \n",
       "-2.3629892 -0.7375196 -0.1300983  0.5913388  4.3035740 \n",
       "\n",
       "Residual standard error: 0.06481681 \n",
       "Degrees of freedom: 3741 total; 3737 residual\n"
      ]
     },
     "metadata": {},
     "output_type": "display_data"
    }
   ],
   "source": [
    "%%R\n",
    "#Controlling for time and batch effects, using same correlation structure\n",
    "fit2 =  gls(w_Unif_Dist ~ TimeDist + SameDay + LibraryComp, \n",
    "             correlation = corMLPE(value = 0.2, form= ~ PlotA + PlotB, Z = Z), data = Dist)\n",
    "summary(fit2)\n"
   ]
  },
  {
   "cell_type": "code",
   "execution_count": 85,
   "metadata": {
    "collapsed": false
   },
   "outputs": [
    {
     "data": {
      "text/plain": [
       "Generalized least squares fit by REML\n",
       "  Model: w_Unif_Dist ~ TimeDist + SameDay + LibraryComp + PC1dist + PC2dist +      PC3dist \n",
       "  Data: Dist \n",
       "        AIC       BIC   logLik\n",
       "  -12342.55 -12286.52 6180.276\n",
       "\n",
       "Correlation Structure: corMLPE\n",
       " Formula: ~PlotA + PlotB \n",
       " Parameter estimate(s):\n",
       "      Rho \n",
       "0.2712083 \n",
       "\n",
       "Coefficients:\n",
       "                   Value   Std.Error   t-value p-value\n",
       "(Intercept)   0.20919377 0.007685568 27.219037  0.0000\n",
       "TimeDist      0.00125102 0.000091020 13.744368  0.0000\n",
       "SameDay1      0.02007634 0.002489578  8.064154  0.0000\n",
       "LibraryComp1  0.01081369 0.001551344  6.970531  0.0000\n",
       "PC1dist      -0.00051599 0.000598246 -0.862500  0.3885\n",
       "PC2dist       0.00010982 0.000881610  0.124573  0.9009\n",
       "PC3dist       0.00067601 0.001141623  0.592148  0.5538\n",
       "\n",
       " Correlation: \n",
       "             (Intr) TimDst SamDy1 LbrrC1 PC1dst PC2dst\n",
       "TimeDist     -0.021                                   \n",
       "SameDay1     -0.171 -0.480                            \n",
       "LibraryComp1 -0.027 -0.166 -0.190                     \n",
       "PC1dist      -0.130 -0.010 -0.016 -0.028              \n",
       "PC2dist      -0.131 -0.030  0.009  0.042  0.034       \n",
       "PC3dist      -0.121 -0.021  0.009  0.049 -0.019 -0.063\n",
       "\n",
       "Standardized residuals:\n",
       "       Min         Q1        Med         Q3        Max \n",
       "-2.3583177 -0.7356097 -0.1307093  0.5896201  4.3084593 \n",
       "\n",
       "Residual standard error: 0.06481709 \n",
       "Degrees of freedom: 3741 total; 3734 residual\n"
      ]
     },
     "metadata": {},
     "output_type": "display_data"
    }
   ],
   "source": [
    "%%R\n",
    "#Hypothesis testing functional distance\n",
    "fit3 =  gls(w_Unif_Dist ~ TimeDist + SameDay + LibraryComp + PC1dist + PC2dist + PC3dist, \n",
    "             correlation = corMLPE(value = 0.2, form= ~ PlotA + PlotB, Z = Z), data = Dist)\n",
    "summary(fit3)"
   ]
  },
  {
   "cell_type": "code",
   "execution_count": 86,
   "metadata": {
    "collapsed": false,
    "scrolled": true
   },
   "outputs": [
    {
     "data": {
      "text/plain": [
       "Generalized least squares fit by REML\n",
       "  Model: w_Unif_Dist ~ TimeDist + phy_Dist + SameDay + LibraryComp \n",
       "  Data: Dist \n",
       "        AIC       BIC   logLik\n",
       "  -12381.33 -12337.75 6197.665\n",
       "\n",
       "Correlation Structure: corMLPE\n",
       " Formula: ~PlotA + PlotB \n",
       " Parameter estimate(s):\n",
       "      Rho \n",
       "0.2657677 \n",
       "\n",
       "Coefficients:\n",
       "                  Value   Std.Error   t-value p-value\n",
       "(Intercept)  0.20725521 0.007367031 28.132799  0.0000\n",
       "TimeDist     0.00115488 0.000098034 11.780471  0.0000\n",
       "phy_Dist     0.02028344 0.007713622  2.629561  0.0086\n",
       "SameDay1     0.01961004 0.002492782  7.866729  0.0000\n",
       "LibraryComp1 0.01130321 0.001562220  7.235348  0.0000\n",
       "\n",
       " Correlation: \n",
       "             (Intr) TimDst phy_Ds SamDy1\n",
       "TimeDist      0.007                     \n",
       "phy_Dist     -0.094 -0.375              \n",
       "SameDay1     -0.171 -0.420 -0.065       \n",
       "LibraryComp1 -0.032 -0.204  0.142 -0.199\n",
       "\n",
       "Standardized residuals:\n",
       "       Min         Q1        Med         Q3        Max \n",
       "-2.3353820 -0.7334692 -0.1418976  0.6091997  4.3350586 \n",
       "\n",
       "Residual standard error: 0.06402538 \n",
       "Degrees of freedom: 3741 total; 3736 residual\n"
      ]
     },
     "metadata": {},
     "output_type": "display_data"
    }
   ],
   "source": [
    "%%R\n",
    "#H2: phylogenetic dist\n",
    "fit4 =  gls(w_Unif_Dist ~ TimeDist + phy_Dist + SameDay + LibraryComp, \n",
    "            correlation = corMLPE(value = 0.2, form= ~ PlotA + PlotB, Z = Z), data = Dist)\n",
    "summary(fit4)"
   ]
  },
  {
   "cell_type": "code",
   "execution_count": 87,
   "metadata": {
    "collapsed": false
   },
   "outputs": [
    {
     "data": {
      "text/plain": [
       "Generalized least squares fit by REML\n",
       "  Model: w_Unif_Dist ~ TimeDist + SameDay + LibraryComp + phy_Dist \n",
       "  Data: Dist \n",
       "        AIC       BIC   logLik\n",
       "  -12381.33 -12337.75 6197.665\n",
       "\n",
       "Correlation Structure: corMLPE\n",
       " Formula: ~PlotA + PlotB \n",
       " Parameter estimate(s):\n",
       "      Rho \n",
       "0.2657677 \n",
       "\n",
       "Coefficients:\n",
       "                  Value   Std.Error   t-value p-value\n",
       "(Intercept)  0.20725521 0.007367031 28.132799  0.0000\n",
       "TimeDist     0.00115488 0.000098034 11.780471  0.0000\n",
       "SameDay1     0.01961004 0.002492782  7.866729  0.0000\n",
       "LibraryComp1 0.01130321 0.001562220  7.235348  0.0000\n",
       "phy_Dist     0.02028344 0.007713622  2.629561  0.0086\n",
       "\n",
       " Correlation: \n",
       "             (Intr) TimDst SamDy1 LbrrC1\n",
       "TimeDist      0.007                     \n",
       "SameDay1     -0.171 -0.420              \n",
       "LibraryComp1 -0.032 -0.204 -0.199       \n",
       "phy_Dist     -0.094 -0.375 -0.065  0.142\n",
       "\n",
       "Standardized residuals:\n",
       "       Min         Q1        Med         Q3        Max \n",
       "-2.3353820 -0.7334692 -0.1418976  0.6091997  4.3350586 \n",
       "\n",
       "Residual standard error: 0.06402538 \n",
       "Degrees of freedom: 3741 total; 3736 residual\n"
      ]
     },
     "metadata": {},
     "output_type": "display_data"
    }
   ],
   "source": [
    "%%R\n",
    "#H2: phylogenetic dist\n",
    "fit4 =  gls(w_Unif_Dist ~ TimeDist + SameDay + LibraryComp + phy_Dist, \n",
    "            correlation = corMLPE(value = 0.2, form= ~ PlotA + PlotB, Z = Z), data = Dist)\n",
    "summary(fit4)"
   ]
  },
  {
   "cell_type": "code",
   "execution_count": 88,
   "metadata": {
    "collapsed": false
   },
   "outputs": [
    {
     "data": {
      "text/plain": [
       "Generalized least squares fit by REML\n",
       "  Model: w_Unif_Dist ~ TimeDist + poly(phy_Dist, 2) + SameDay + LibraryComp \n",
       "  Data: Dist \n",
       "        AIC       BIC   logLik\n",
       "  -12502.55 -12452.74 6259.274\n",
       "\n",
       "Correlation Structure: corMLPE\n",
       " Formula: ~PlotA + PlotB \n",
       " Parameter estimate(s):\n",
       "     Rho \n",
       "0.251658 \n",
       "\n",
       "Coefficients:\n",
       "                        Value  Std.Error    t-value p-value\n",
       "(Intercept)         0.2138670 0.00688716  31.053022       0\n",
       "TimeDist            0.0011882 0.00009657  12.303690       0\n",
       "poly(phy_Dist, 2)1  0.6905093 0.09452695   7.304893       0\n",
       "poly(phy_Dist, 2)2 -0.8580106 0.07699514 -11.143698       0\n",
       "SameDay1            0.0154438 0.00248397   6.217391       0\n",
       "LibraryComp1        0.0108511 0.00153963   7.047826       0\n",
       "\n",
       " Correlation: \n",
       "                   (Intr) TimDst p(_D,2)1 p(_D,2)2 SamDy1\n",
       "TimeDist           -0.060                                \n",
       "poly(phy_Dist, 2)1  0.093 -0.324                         \n",
       "poly(phy_Dist, 2)2 -0.042 -0.035 -0.432                  \n",
       "SameDay1           -0.197 -0.420 -0.122    0.151         \n",
       "LibraryComp1       -0.009 -0.205  0.116    0.028   -0.193\n",
       "\n",
       "Standardized residuals:\n",
       "       Min         Q1        Med         Q3        Max \n",
       "-2.4274002 -0.7161356 -0.1447210  0.5872447  4.2536929 \n",
       "\n",
       "Residual standard error: 0.06126174 \n",
       "Degrees of freedom: 3741 total; 3735 residual\n"
      ]
     },
     "metadata": {},
     "output_type": "display_data"
    }
   ],
   "source": [
    "%%R\n",
    "fit5 =  gls(w_Unif_Dist ~ TimeDist + poly(phy_Dist,2) + SameDay + LibraryComp, \n",
    "             correlation = corMLPE(value = 0.2, form= ~ PlotA + PlotB, Z = Z), data = Dist)\n",
    "summary(fit5)"
   ]
  },
  {
   "cell_type": "code",
   "execution_count": 89,
   "metadata": {
    "collapsed": false
   },
   "outputs": [
    {
     "data": {
      "text/plain": [
       "Generalized least squares fit by REML\n",
       "  Model: w_Unif_Dist ~ TimeDist + poly(phy_Dist, 2) + SameDay + LibraryComp +      PC1dist + PC2dist + PC3dist \n",
       "  Data: Dist \n",
       "        AIC       BIC   logLik\n",
       "  -12460.95 -12392.48 6241.476\n",
       "\n",
       "Correlation Structure: corMLPE\n",
       " Formula: ~PlotA + PlotB \n",
       " Parameter estimate(s):\n",
       "      Rho \n",
       "0.2514102 \n",
       "\n",
       "Coefficients:\n",
       "                        Value  Std.Error    t-value p-value\n",
       "(Intercept)         0.2135059 0.00708275  30.144485  0.0000\n",
       "TimeDist            0.0011844 0.00009673  12.244077  0.0000\n",
       "poly(phy_Dist, 2)1  0.6950858 0.09467054   7.342155  0.0000\n",
       "poly(phy_Dist, 2)2 -0.8584779 0.07702194 -11.145888  0.0000\n",
       "SameDay1            0.0154924 0.00248493   6.234552  0.0000\n",
       "LibraryComp1        0.0109854 0.00154470   7.111640  0.0000\n",
       "PC1dist            -0.0004760 0.00058918  -0.807972  0.4192\n",
       "PC2dist             0.0003441 0.00086864   0.396145  0.6920\n",
       "PC3dist             0.0008692 0.00112482   0.772717  0.4397\n",
       "\n",
       " Correlation: \n",
       "                   (Intr) TimDst p(_D,2)1 p(_D,2)2 SamDy1 LbrrC1 PC1dst PC2dst\n",
       "TimeDist           -0.047                                                     \n",
       "poly(phy_Dist, 2)1  0.081 -0.326                                              \n",
       "poly(phy_Dist, 2)2 -0.037 -0.034 -0.432                                       \n",
       "SameDay1           -0.190 -0.420 -0.122    0.151                              \n",
       "LibraryComp1       -0.019 -0.207  0.119    0.027   -0.191                     \n",
       "PC1dist            -0.139 -0.007 -0.003   -0.009   -0.016 -0.029              \n",
       "PC2dist            -0.137 -0.038  0.034   -0.016    0.005  0.045  0.034       \n",
       "PC3dist            -0.126 -0.034  0.037   -0.007    0.005  0.054 -0.019 -0.061\n",
       "\n",
       "Standardized residuals:\n",
       "       Min         Q1        Med         Q3        Max \n",
       "-2.4099541 -0.7153093 -0.1415122  0.5878903  4.2395311 \n",
       "\n",
       "Residual standard error: 0.06124528 \n",
       "Degrees of freedom: 3741 total; 3732 residual\n"
      ]
     },
     "metadata": {},
     "output_type": "display_data"
    }
   ],
   "source": [
    "%%R\n",
    "#H3: combined phylogenetic distance and functional\n",
    "fit6=  gls(w_Unif_Dist ~ TimeDist + poly(phy_Dist,2) + SameDay + LibraryComp + PC1dist + PC2dist + PC3dist, \n",
    "             correlation = corMLPE(value = 0.2, form= ~ PlotA + PlotB, Z = Z), data = Dist)\n",
    "summary(fit6)"
   ]
  },
  {
   "cell_type": "code",
   "execution_count": 91,
   "metadata": {
    "collapsed": false,
    "hide_input": false,
    "scrolled": true
   },
   "outputs": [
    {
     "data": {
      "text/plain": [
       "     Model df       AIC       BIC   logLik   Test  L.Ratio p-value\n",
       "fit1     1  3 -11783.89 -11765.20 5894.943                        \n",
       "fit2     2  6 -12384.39 -12347.04 6198.196 1 vs 2 606.5071  <.0001\n",
       "fit3     3  9 -12342.55 -12286.52 6180.276 2 vs 3  35.8416  <.0001\n",
       "fit4     4  7 -12381.33 -12337.75 6197.665 3 vs 4  34.7781  <.0001\n",
       "fit5     5  8 -12502.55 -12452.74 6259.274 4 vs 5 123.2179  <.0001\n",
       "fit6     6 11 -12460.95 -12392.48 6241.476 5 vs 6  35.5948  <.0001\n"
      ]
     },
     "metadata": {},
     "output_type": "display_data"
    }
   ],
   "source": [
    "%%R\n",
    "anova(fit1, fit2, fit3, fit4, fit5, fit6)"
   ]
  },
  {
   "cell_type": "markdown",
   "metadata": {},
   "source": [
    "Notes: Phylogenetic distance^2 and time make the best model on the overall dataset of annuals plus B73"
   ]
  },
  {
   "cell_type": "code",
   "execution_count": 92,
   "metadata": {
    "collapsed": false,
    "scrolled": true
   },
   "outputs": [
    {
     "data": {
      "image/png": "[encoded data removed]"
     },
     "metadata": {},
     "output_type": "display_data"
    }
   ],
   "source": [
    "%%R\n",
    "plot(fit5)"
   ]
  },
  {
   "cell_type": "code",
   "execution_count": null,
   "metadata": {
    "collapsed": false,
    "hide_input": true
   },
   "outputs": [],
   "source": [
    "%%R\n",
    "#test <- function(x) {-.432*x ^ 2 + .824*x + .214}\n",
    "\n",
    "data = Dist #filter(Dist, PlantA == \"ECHCG\")\n",
    "                  \n",
    "p = ggplot(data, aes(y = w_Unif_Dist, x = phy_Dist)) \n",
    "p = p + geom_point() #aes(size = phy_Dist), shape = 1)\n",
    "#p = p + stat_smooth(method = \"lm\", formula = y~.29x -.236x^2 + .204, se = FALSE)\n",
    "p = p + theme_bw(base_size = 16)\n",
    "p = p + ggtitle(\"Phylogenetic distance vs Microbial Community Dissimilarity \")\n",
    "p = p + stat_smooth(method = lm, y ~ poly(x,2), se = FALSE)\n",
    "#p = p + stat_function(fun = test)\n",
    "p"
   ]
  },
  {
   "cell_type": "markdown",
   "metadata": {},
   "source": [
    "### Not used, but if date/combo is random effect:"
   ]
  },
  {
   "cell_type": "code",
   "execution_count": null,
   "metadata": {
    "collapsed": false
   },
   "outputs": [],
   "source": [
    "%%R\n",
    "Dist$DateCombo = ifelse(as.numeric(as.character(Dist$DAY_A)) < as.numeric(as.character(Dist$DAY_B)),\n",
    "                                                                    paste(Dist$DAY_A, Dist$DAY_B, sep = \"-\"), \n",
    "                                                                   paste(Dist$DAY_B, Dist$DAY_A, sep = \"-\"))\n",
    "Dist$DateCombo %>% unique\n"
   ]
  },
  {
   "cell_type": "code",
   "execution_count": null,
   "metadata": {
    "collapsed": false,
    "hide_input": true
   },
   "outputs": [],
   "source": [
    "%%R\n",
    "\n",
    "\n",
    "fit10 <- lme(w_Unif_Dist ~ 1, random =~ 1|DateCombo, correlation = corMLPE(form= ~ PlotA + PlotB), data = Dist)\n",
    "summary(fit10) %>% print\n"
   ]
  },
  {
   "cell_type": "code",
   "execution_count": null,
   "metadata": {
    "collapsed": true
   },
   "outputs": [],
   "source": [
    "%%R\n",
    "fit11 <- lme(w_Unif_Dist ~ phy_Dist, random =~ 1|DateCombo, \n",
    "             correlation = corMLPE(form= ~ PlotA + PlotB), data = Dist)"
   ]
  },
  {
   "cell_type": "code",
   "execution_count": 94,
   "metadata": {
    "collapsed": false
   },
   "outputs": [
    {
     "data": {
      "image/png": "[encoded data removed]"
     },
     "metadata": {},
     "output_type": "display_data"
    }
   ],
   "source": [
    "%%R\n",
    "test <- function(x) {-.69*x ^ 2 + .858*x + .213}\n",
    "\n",
    "                  \n",
    "p = ggplot(Dist, aes(y = w_Unif_Dist, x = phy_Dist)) \n",
    "p = p + geom_point()\n",
    "#p = p + stat_smooth(method = \"lm\", formula = y~.29x -.236x^2 + .213, se = FALSE)\n",
    "p = p + theme_bw(base_size = 16)\n",
    "p = p + ggtitle(\"Phylogenetic distance vs Microbial Community Dissimilarity \")\n",
    "p = p + stat_function(fun = test)\n",
    "p"
   ]
  },
  {
   "cell_type": "code",
   "execution_count": 123,
   "metadata": {
    "collapsed": false,
    "scrolled": false
   },
   "outputs": [
    {
     "data": {
      "image/png": "[encoded data removed]"
     },
     "metadata": {},
     "output_type": "display_data"
    }
   ],
   "source": [
    "%%R\n",
    "\n",
    "p = ggplot(Dist, aes(x = phy_Dist, y = w_Unif_Dist))\n",
    "           p = p + geom_point()\n",
    "        p = p + stat_smooth(method = \"lm\", se = FALSE)\n",
    "           p = p + facet_wrap(~DateCombo)\n",
    "           p"
   ]
  },
  {
   "cell_type": "code",
   "execution_count": null,
   "metadata": {
    "collapsed": true
   },
   "outputs": [],
   "source": [
    "# GLS model on early subset of plants"
   ]
  },
  {
   "cell_type": "code",
   "execution_count": 96,
   "metadata": {
    "collapsed": false
   },
   "outputs": [
    {
     "data": {
      "text/plain": [
       "[1] 72 61 36 79 53 57 88 84\n",
       "Levels: 36 53 57 61 72 79 84 88\n"
      ]
     },
     "metadata": {},
     "output_type": "display_data"
    }
   ],
   "source": [
    "%%R\n",
    "Dist$DAY_A %>% unique"
   ]
  },
  {
   "cell_type": "code",
   "execution_count": 100,
   "metadata": {
    "collapsed": true
   },
   "outputs": [
    {
     "data": {
      "text/plain": [
       "[1] 3741   21\n",
       "[1] 171  21\n",
       "[1] SETFA AMAPO GLYMA ABUTH ECHCG\n",
       "Levels: ABUTH AMAPO ECHCG GLYMA SETFA\n"
      ]
     },
     "metadata": {},
     "output_type": "display_data"
    }
   ],
   "source": [
    "%%R\n",
    "dim(Dist) %>% print\n",
    "SubDist = filter(Dist, DAY_A %in% c( \"53\", \"57\", \"61\") & DAY_B %in% c( \"53\", \"57\", \"61\"))\n",
    "\n",
    "\n",
    "dim(SubDist) %>% print\n",
    "SubDist$PlantA %>% unique"
   ]
  },
  {
   "cell_type": "code",
   "execution_count": 102,
   "metadata": {
    "collapsed": false
   },
   "outputs": [],
   "source": [
    "%%R\n",
    "#null model\n",
    "fit1=  gls(w_Unif_Dist ~ 1, \n",
    "             correlation = corMLPE(form= ~ PlotA + PlotB), data = SubDist)\n"
   ]
  },
  {
   "cell_type": "code",
   "execution_count": 103,
   "metadata": {
    "collapsed": true
   },
   "outputs": [
    {
     "data": {
      "text/plain": [
       "Generalized least squares fit by REML\n",
       "  Model: w_Unif_Dist ~ TimeDist + SameDay + LibraryComp \n",
       "  Data: SubDist \n",
       "        AIC       BIC   logLik\n",
       "  -558.3834 -539.6754 285.1917\n",
       "\n",
       "Correlation Structure: corMLPE\n",
       " Formula: ~PlotA + PlotB \n",
       " Parameter estimate(s):\n",
       "     Rho \n",
       "0.356982 \n",
       "\n",
       "Coefficients:\n",
       "                   Value   Std.Error   t-value p-value\n",
       "(Intercept)   0.22358741 0.018897504 11.831584  0.0000\n",
       "TimeDist     -0.00119564 0.002296805 -0.520568  0.6034\n",
       "SameDay1      0.02971877 0.012062939  2.463643  0.0148\n",
       "LibraryComp1  0.00915773 0.005825444  1.572022  0.1178\n",
       "\n",
       " Correlation: \n",
       "             (Intr) TimDst SamDy1\n",
       "TimeDist     -0.029              \n",
       "SameDay1     -0.079 -0.869       \n",
       "LibraryComp1 -0.147 -0.026  0.015\n",
       "\n",
       "Standardized residuals:\n",
       "       Min         Q1        Med         Q3        Max \n",
       "-1.7777706 -0.7161677 -0.1849241  0.7073944  2.6578120 \n",
       "\n",
       "Residual standard error: 0.0658017 \n",
       "Degrees of freedom: 171 total; 167 residual\n"
      ]
     },
     "metadata": {},
     "output_type": "display_data"
    }
   ],
   "source": [
    "%%R\n",
    "fit2=  gls(w_Unif_Dist ~ TimeDist + SameDay + LibraryComp, \n",
    "             correlation = corMLPE(form= ~ PlotA + PlotB), data = SubDist)\n",
    "summary(fit2)"
   ]
  },
  {
   "cell_type": "code",
   "execution_count": 105,
   "metadata": {
    "collapsed": true
   },
   "outputs": [
    {
     "data": {
      "text/plain": [
       "Generalized least squares fit by REML\n",
       "  Model: w_Unif_Dist ~ TimeDist + SameDay + LibraryComp + phy_Dist \n",
       "  Data: SubDist \n",
       "        AIC       BIC   logLik\n",
       "  -560.7067 -538.9227 287.3533\n",
       "\n",
       "Correlation Structure: corMLPE\n",
       " Formula: ~PlotA + PlotB \n",
       " Parameter estimate(s):\n",
       "      Rho \n",
       "0.3627573 \n",
       "\n",
       "Coefficients:\n",
       "                  Value   Std.Error   t-value p-value\n",
       "(Intercept)  0.21420874 0.019033895 11.254068  0.0000\n",
       "TimeDist     0.00102593 0.002330110  0.440291  0.6603\n",
       "SameDay1     0.00752057 0.013547030  0.555146  0.5795\n",
       "LibraryComp1 0.00662430 0.005704172  1.161308  0.2472\n",
       "phy_Dist     0.06718911 0.020710308  3.244235  0.0014\n",
       "\n",
       " Correlation: \n",
       "             (Intr) TimDst SamDy1 LbrrC1\n",
       "TimeDist     -0.071                     \n",
       "SameDay1      0.011 -0.865              \n",
       "LibraryComp1 -0.120 -0.064  0.081       \n",
       "phy_Dist     -0.152  0.292 -0.504 -0.136\n",
       "\n",
       "Standardized residuals:\n",
       "       Min         Q1        Med         Q3        Max \n",
       "-1.6430402 -0.7702305 -0.2033792  0.6725299  2.7076473 \n",
       "\n",
       "Residual standard error: 0.065147 \n",
       "Degrees of freedom: 171 total; 166 residual\n"
      ]
     },
     "metadata": {},
     "output_type": "display_data"
    }
   ],
   "source": [
    "%%R\n",
    "fit3=  gls(w_Unif_Dist ~ TimeDist + SameDay + LibraryComp + phy_Dist, \n",
    "             correlation = corMLPE(form= ~ PlotA + PlotB), data = SubDist)\n",
    "summary(fit3)"
   ]
  },
  {
   "cell_type": "code",
   "execution_count": 106,
   "metadata": {
    "collapsed": true
   },
   "outputs": [
    {
     "data": {
      "text/plain": [
       "Generalized least squares fit by REML\n",
       "  Model: w_Unif_Dist ~ TimeDist + SameDay + LibraryComp + poly(phy_Dist,      2) \n",
       "  Data: SubDist \n",
       "        AIC       BIC   logLik\n",
       "  -557.8762 -533.0287 286.9381\n",
       "\n",
       "Correlation Structure: corMLPE\n",
       " Formula: ~PlotA + PlotB \n",
       " Parameter estimate(s):\n",
       "      Rho \n",
       "0.3646452 \n",
       "\n",
       "Coefficients:\n",
       "                        Value  Std.Error   t-value p-value\n",
       "(Intercept)        0.22925310 0.01923898 11.916071  0.0000\n",
       "TimeDist           0.00134741 0.00233329  0.577473  0.5644\n",
       "SameDay1           0.00813732 0.01350649  0.602475  0.5477\n",
       "LibraryComp1       0.00998889 0.00618804  1.614226  0.1084\n",
       "poly(phy_Dist, 2)1 0.13498897 0.04264280  3.165575  0.0018\n",
       "poly(phy_Dist, 2)2 0.06828781 0.04957842  1.377370  0.1703\n",
       "\n",
       " Correlation: \n",
       "                   (Intr) TimDst SamDy1 LbrrC1 p(_D,2)1\n",
       "TimeDist            0.003                              \n",
       "SameDay1           -0.140 -0.857                       \n",
       "LibraryComp1       -0.192 -0.020  0.088                \n",
       "poly(phy_Dist, 2)1  0.148  0.284 -0.505 -0.149         \n",
       "poly(phy_Dist, 2)2 -0.119  0.098  0.034  0.395 -0.061  \n",
       "\n",
       "Standardized residuals:\n",
       "       Min         Q1        Med         Q3        Max \n",
       "-1.5609357 -0.7760955 -0.1835890  0.6875919  2.7957658 \n",
       "\n",
       "Residual standard error: 0.06535918 \n",
       "Degrees of freedom: 171 total; 165 residual\n"
      ]
     },
     "metadata": {},
     "output_type": "display_data"
    }
   ],
   "source": [
    "%%R\n",
    "fit4=  gls(w_Unif_Dist ~ TimeDist + SameDay + LibraryComp + poly(phy_Dist,2), \n",
    "             correlation = corMLPE(form= ~ PlotA + PlotB), data = SubDist)\n",
    "summary(fit4)"
   ]
  },
  {
   "cell_type": "code",
   "execution_count": 119,
   "metadata": {
    "collapsed": true
   },
   "outputs": [
    {
     "data": {
      "text/plain": [
       "Generalized least squares fit by REML\n",
       "  Model: w_Unif_Dist ~ TimeDist + SameDay + LibraryComp + PC1Dist + PC2Dist +      PC3Dist \n",
       "  Data: SubDist \n",
       "        AIC       BIC   logLik\n",
       "  -529.7526 -501.8538 273.8763\n",
       "\n",
       "Correlation Structure: corMLPE\n",
       " Formula: ~PlotA + PlotB \n",
       " Parameter estimate(s):\n",
       "      Rho \n",
       "0.3603851 \n",
       "\n",
       "Coefficients:\n",
       "                   Value   Std.Error   t-value p-value\n",
       "(Intercept)   0.21209783 0.020575481 10.308281  0.0000\n",
       "TimeDist      0.00043629 0.002520871  0.173071  0.8628\n",
       "SameDay1      0.01742434 0.014620250  1.191795  0.2351\n",
       "LibraryComp1  0.00878378 0.005891002  1.491051  0.1379\n",
       "PC1Dist      -0.00034934 0.004702405 -0.074289  0.9409\n",
       "PC2Dist       0.01099331 0.007809805  1.407630  0.1611\n",
       "PC3Dist       0.00572024 0.004948599  1.155932  0.2494\n",
       "\n",
       " Correlation: \n",
       "             (Intr) TimDst SamDy1 LbrrC1 PC1Dst PC2Dst\n",
       "TimeDist     -0.127                                   \n",
       "SameDay1      0.066 -0.886                            \n",
       "LibraryComp1 -0.133 -0.066  0.076                     \n",
       "PC1Dist      -0.164 -0.108  0.188  0.073              \n",
       "PC2Dist      -0.220  0.216 -0.272  0.037 -0.212       \n",
       "PC3Dist      -0.169  0.387 -0.539 -0.140 -0.298  0.183\n",
       "\n",
       "Standardized residuals:\n",
       "       Min         Q1        Med         Q3        Max \n",
       "-1.8169920 -0.7500008 -0.1742062  0.7049876  2.5311376 \n",
       "\n",
       "Residual standard error: 0.06647348 \n",
       "Degrees of freedom: 171 total; 164 residual\n"
      ]
     },
     "metadata": {},
     "output_type": "display_data"
    }
   ],
   "source": [
    "%%R\n",
    "#H3: combined phylogenetic distance and functional\n",
    "fit5=  gls(w_Unif_Dist ~ TimeDist + SameDay + LibraryComp + PC1Dist + PC2Dist + PC3Dist, \n",
    "             correlation = corMLPE(form= ~ PlotA + PlotB), data = SubDist)\n",
    "summary(fit5)"
   ]
  },
  {
   "cell_type": "code",
   "execution_count": 121,
   "metadata": {
    "collapsed": true
   },
   "outputs": [
    {
     "data": {
      "text/plain": [
       "Generalized least squares fit by REML\n",
       "  Model: w_Unif_Dist ~ TimeDist + SameDay + LibraryComp + phy_Dist + PC1Dist +      PC2Dist + PC3Dist \n",
       "  Data: SubDist \n",
       "        AIC       BIC   logLik\n",
       "  -529.4817 -498.5442 274.7408\n",
       "\n",
       "Correlation Structure: corMLPE\n",
       " Formula: ~PlotA + PlotB \n",
       " Parameter estimate(s):\n",
       "      Rho \n",
       "0.3606082 \n",
       "\n",
       "Coefficients:\n",
       "                   Value   Std.Error   t-value p-value\n",
       "(Intercept)   0.21368892 0.020203749 10.576696  0.0000\n",
       "TimeDist      0.00144190 0.002499286  0.576924  0.5648\n",
       "SameDay1      0.00415998 0.015134303  0.274871  0.7838\n",
       "LibraryComp1  0.00635018 0.005845120  1.086407  0.2789\n",
       "phy_Dist      0.06511136 0.023784881  2.737510  0.0069\n",
       "PC1Dist      -0.00212631 0.004657169 -0.456567  0.6486\n",
       "PC2Dist       0.00235977 0.008283370  0.284880  0.7761\n",
       "PC3Dist       0.00219554 0.005021096  0.437263  0.6625\n",
       "\n",
       " Correlation: \n",
       "             (Intr) TimDst SamDy1 LbrrC1 phy_Ds PC1Dst PC2Dst\n",
       "TimeDist     -0.121                                          \n",
       "SameDay1      0.053 -0.877                                   \n",
       "LibraryComp1 -0.136 -0.087  0.120                            \n",
       "phy_Dist      0.029  0.147 -0.320 -0.152                     \n",
       "PC1Dist      -0.166 -0.126  0.221  0.092 -0.140              \n",
       "PC2Dist      -0.214  0.142 -0.116  0.092 -0.381 -0.141       \n",
       "PC3Dist      -0.171  0.332 -0.411 -0.095 -0.256 -0.250  0.261\n",
       "\n",
       "Standardized residuals:\n",
       "       Min         Q1        Med         Q3        Max \n",
       "-1.6777667 -0.7684998 -0.1896968  0.6623248  2.6763786 \n",
       "\n",
       "Residual standard error: 0.06523987 \n",
       "Degrees of freedom: 171 total; 163 residual\n"
      ]
     },
     "metadata": {},
     "output_type": "display_data"
    }
   ],
   "source": [
    "%%R\n",
    "fit6=  gls(w_Unif_Dist ~ TimeDist + SameDay + LibraryComp + phy_Dist + PC1Dist + PC2Dist + PC3Dist, \n",
    "             correlation = corMLPE(form= ~ PlotA + PlotB), data = SubDist)\n",
    "summary(fit6)"
   ]
  },
  {
   "cell_type": "markdown",
   "metadata": {},
   "source": [
    "# Subset of late season plants"
   ]
  },
  {
   "cell_type": "code",
   "execution_count": 142,
   "metadata": {
    "collapsed": false
   },
   "outputs": [
    {
     "data": {
      "text/plain": [
       "[1] 3741   21\n",
       "[1] 378  21\n",
       "[1] MS71   ERATE  ELCOR  SORSUD SORBI  HELAN  Mo18  \n",
       "Levels: ELCOR ERATE HELAN Mo18 MS71 SORBI SORSUD\n"
      ]
     },
     "metadata": {},
     "output_type": "display_data"
    }
   ],
   "source": [
    "%%R\n",
    "dim(Dist) %>% print\n",
    "SubDist = filter(Dist, PlantA %in% c(\"MS71\",   \"ERATE\", \n",
    " \"ELCOR\",  \"SORSUD\",    \"SORBI\", \"HELAN\",    \"Mo18\") & PlantB %in% c(\"MS71\", \"ERATE\", \n",
    " \"ELCOR\",  \"SORSUD\",    \"SORBI\",  \"HELAN\",  \"Mo18\"))\n",
    "dim(SubDist) %>% print\n",
    "SubDist$PlantA %>% unique"
   ]
  },
  {
   "cell_type": "code",
   "execution_count": 143,
   "metadata": {
    "collapsed": true
   },
   "outputs": [],
   "source": [
    "%%R\n",
    "#null model\n",
    "fit1=  gls(w_Unif_Dist ~ 1, \n",
    "             correlation = corMLPE(form= ~ PlotA + PlotB), data = SubDist)"
   ]
  },
  {
   "cell_type": "code",
   "execution_count": 145,
   "metadata": {
    "collapsed": false
   },
   "outputs": [
    {
     "data": {
      "text/plain": [
       "Generalized least squares fit by REML\n",
       "  Model: w_Unif_Dist ~ TimeDist + SameDay + LibraryComp \n",
       "  Data: SubDist \n",
       "        AIC       BIC   logLik\n",
       "  -1188.294 -1164.749 600.1472\n",
       "\n",
       "Correlation Structure: corMLPE\n",
       " Formula: ~PlotA + PlotB \n",
       " Parameter estimate(s):\n",
       "      Rho \n",
       "0.2638468 \n",
       "\n",
       "Coefficients:\n",
       "                   Value   Std.Error   t-value p-value\n",
       "(Intercept)   0.20726152 0.012748842 16.257281       0\n",
       "TimeDist     -0.01329776 0.002075906 -6.405760       0\n",
       "SameDay1      0.10693579 0.009681678 11.045171       0\n",
       "LibraryComp1  0.15403404 0.021865247  7.044697       0\n",
       "\n",
       " Correlation: \n",
       "             (Intr) TimDst SamDy1\n",
       "TimeDist     -0.029              \n",
       "SameDay1     -0.099 -0.753       \n",
       "LibraryComp1  0.022 -0.945  0.572\n",
       "\n",
       "Standardized residuals:\n",
       "        Min          Q1         Med          Q3         Max \n",
       "-2.50747903 -0.71429885 -0.07986169  0.62268468  2.84825648 \n",
       "\n",
       "Residual standard error: 0.06239944 \n",
       "Degrees of freedom: 378 total; 374 residual\n"
      ]
     },
     "metadata": {},
     "output_type": "display_data"
    }
   ],
   "source": [
    "%%R\n",
    "fit2=  gls(w_Unif_Dist ~ TimeDist + SameDay + LibraryComp, \n",
    "             correlation = corMLPE(form= ~ PlotA + PlotB), data = SubDist)\n",
    "summary(fit2)"
   ]
  },
  {
   "cell_type": "code",
   "execution_count": 146,
   "metadata": {
    "collapsed": false
   },
   "outputs": [
    {
     "data": {
      "text/plain": [
       "Generalized least squares fit by REML\n",
       "  Model: w_Unif_Dist ~ TimeDist + SameDay + LibraryComp + phy_Dist \n",
       "  Data: SubDist \n",
       "        AIC       BIC   logLik\n",
       "  -1226.818 -1199.367 620.4089\n",
       "\n",
       "Correlation Structure: corMLPE\n",
       " Formula: ~PlotA + PlotB \n",
       " Parameter estimate(s):\n",
       "      Rho \n",
       "0.2644966 \n",
       "\n",
       "Coefficients:\n",
       "                   Value   Std.Error   t-value p-value\n",
       "(Intercept)   0.19111878 0.012249524 15.602139       0\n",
       "TimeDist     -0.01149179 0.001971390 -5.829283       0\n",
       "SameDay1      0.09274108 0.009337957  9.931624       0\n",
       "LibraryComp1  0.13963786 0.020688458  6.749554       0\n",
       "phy_Dist      0.17609305 0.025188587  6.990986       0\n",
       "\n",
       " Correlation: \n",
       "             (Intr) TimDst SamDy1 LbrrC1\n",
       "TimeDist     -0.053                     \n",
       "SameDay1     -0.054 -0.757              \n",
       "LibraryComp1  0.040 -0.945  0.577       \n",
       "phy_Dist     -0.189  0.131 -0.217 -0.100\n",
       "\n",
       "Standardized residuals:\n",
       "       Min         Q1        Med         Q3        Max \n",
       "-2.3838200 -0.6726156 -0.0429087  0.6623326  2.5876450 \n",
       "\n",
       "Residual standard error: 0.05882303 \n",
       "Degrees of freedom: 378 total; 373 residual\n"
      ]
     },
     "metadata": {},
     "output_type": "display_data"
    }
   ],
   "source": [
    "%%R\n",
    "fit3=  gls(w_Unif_Dist ~ TimeDist + SameDay + LibraryComp + phy_Dist, \n",
    "             correlation = corMLPE(form= ~ PlotA + PlotB), data = SubDist)\n",
    "summary(fit3)"
   ]
  },
  {
   "cell_type": "code",
   "execution_count": 147,
   "metadata": {
    "collapsed": false
   },
   "outputs": [
    {
     "data": {
      "text/plain": [
       "Generalized least squares fit by REML\n",
       "  Model: w_Unif_Dist ~ TimeDist + SameDay + LibraryComp + poly(phy_Dist,      2) \n",
       "  Data: SubDist \n",
       "        AIC       BIC   logLik\n",
       "  -1251.894 -1220.543 633.9469\n",
       "\n",
       "Correlation Structure: corMLPE\n",
       " Formula: ~PlotA + PlotB \n",
       " Parameter estimate(s):\n",
       "      Rho \n",
       "0.2426109 \n",
       "\n",
       "Coefficients:\n",
       "                        Value  Std.Error   t-value p-value\n",
       "(Intercept)         0.2129254 0.01078911 19.735226       0\n",
       "TimeDist           -0.0119258 0.00190638 -6.255750       0\n",
       "SameDay1            0.0917000 0.00903601 10.148294       0\n",
       "LibraryComp1        0.1430795 0.01997977  7.161221       0\n",
       "poly(phy_Dist, 2)1  0.4111046 0.07029596  5.848196       0\n",
       "poly(phy_Dist, 2)2 -0.2610320 0.04708820 -5.543470       0\n",
       "\n",
       " Correlation: \n",
       "                   (Intr) TimDst SamDy1 LbrrC1 p(_D,2)1\n",
       "TimeDist           -0.027                              \n",
       "SameDay1           -0.115 -0.756                       \n",
       "LibraryComp1        0.020 -0.946  0.577                \n",
       "poly(phy_Dist, 2)1  0.034  0.140 -0.208 -0.106         \n",
       "poly(phy_Dist, 2)2 -0.038  0.046  0.018 -0.034  0.223  \n",
       "\n",
       "Standardized residuals:\n",
       "        Min          Q1         Med          Q3         Max \n",
       "-2.39418393 -0.68550260 -0.02425147  0.68898224  2.79830136 \n",
       "\n",
       "Residual standard error: 0.05449284 \n",
       "Degrees of freedom: 378 total; 372 residual\n"
      ]
     },
     "metadata": {},
     "output_type": "display_data"
    }
   ],
   "source": [
    "%%R\n",
    "fit4=  gls(w_Unif_Dist ~ TimeDist + SameDay + LibraryComp + poly(phy_Dist,2), \n",
    "             correlation = corMLPE(form= ~ PlotA + PlotB), data = SubDist)\n",
    "summary(fit4)"
   ]
  },
  {
   "cell_type": "code",
   "execution_count": 148,
   "metadata": {
    "collapsed": false
   },
   "outputs": [
    {
     "data": {
      "text/plain": [
       "Generalized least squares fit by REML\n",
       "  Model: w_Unif_Dist ~ TimeDist + SameDay + LibraryComp + PC1Dist + PC2Dist +      PC3Dist \n",
       "  Data: SubDist \n",
       "        AIC       BIC   logLik\n",
       "  -1254.068 -1218.822 636.0341\n",
       "\n",
       "Correlation Structure: corMLPE\n",
       " Formula: ~PlotA + PlotB \n",
       " Parameter estimate(s):\n",
       "      Rho \n",
       "0.2820758 \n",
       "\n",
       "Coefficients:\n",
       "                   Value   Std.Error   t-value p-value\n",
       "(Intercept)   0.17680501 0.012874880 13.732556  0.0000\n",
       "TimeDist     -0.01268428 0.001937909 -6.545345  0.0000\n",
       "SameDay1      0.08097260 0.009553704  8.475519  0.0000\n",
       "LibraryComp1  0.16666353 0.020985365  7.941893  0.0000\n",
       "PC1Dist       0.00109591 0.002192453  0.499855  0.6175\n",
       "PC2Dist       0.02347960 0.002183360 10.753887  0.0000\n",
       "PC3Dist       0.00041159 0.004666380  0.088203  0.9298\n",
       "\n",
       " Correlation: \n",
       "             (Intr) TimDst SamDy1 LbrrC1 PC1Dst PC2Dst\n",
       "TimeDist     -0.119                                   \n",
       "SameDay1      0.078 -0.768                            \n",
       "LibraryComp1  0.126 -0.942  0.600                     \n",
       "PC1Dist      -0.239  0.349 -0.401 -0.373              \n",
       "PC2Dist      -0.235  0.048 -0.273  0.033  0.098       \n",
       "PC3Dist      -0.225  0.051 -0.055 -0.170  0.033  0.028\n",
       "\n",
       "Standardized residuals:\n",
       "        Min          Q1         Med          Q3         Max \n",
       "-3.00891394 -0.64576097 -0.04414961  0.60483445  2.98284023 \n",
       "\n",
       "Residual standard error: 0.05665916 \n",
       "Degrees of freedom: 378 total; 371 residual\n"
      ]
     },
     "metadata": {},
     "output_type": "display_data"
    }
   ],
   "source": [
    "%%R\n",
    "#H3: combined phylogenetic distance and functional\n",
    "fit5=  gls(w_Unif_Dist ~ TimeDist + SameDay + LibraryComp + PC1Dist + PC2Dist + PC3Dist, \n",
    "             correlation = corMLPE(form= ~ PlotA + PlotB), data = SubDist)\n",
    "summary(fit5)"
   ]
  },
  {
   "cell_type": "code",
   "execution_count": 149,
   "metadata": {
    "collapsed": false,
    "scrolled": true
   },
   "outputs": [
    {
     "data": {
      "text/plain": [
       "Generalized least squares fit by REML\n",
       "  Model: w_Unif_Dist ~ TimeDist + SameDay + LibraryComp + poly(phy_Dist,      2) + PC1Dist + PC2Dist + PC3Dist \n",
       "  Data: SubDist \n",
       "        AIC       BIC   logLik\n",
       "  -1284.515 -1241.496 653.2576\n",
       "\n",
       "Correlation Structure: corMLPE\n",
       " Formula: ~PlotA + PlotB \n",
       " Parameter estimate(s):\n",
       "      Rho \n",
       "0.2711729 \n",
       "\n",
       "Coefficients:\n",
       "                         Value  Std.Error   t-value p-value\n",
       "(Intercept)         0.18944455 0.01196993 15.826705  0.0000\n",
       "TimeDist           -0.01213027 0.00185185 -6.550366  0.0000\n",
       "SameDay1            0.07693807 0.00914662  8.411638  0.0000\n",
       "LibraryComp1        0.16103412 0.01998579  8.057431  0.0000\n",
       "poly(phy_Dist, 2)1  0.29934182 0.06649455  4.501750  0.0000\n",
       "poly(phy_Dist, 2)2 -0.18059368 0.04403659 -4.100992  0.0001\n",
       "PC1Dist             0.00000916 0.00208722  0.004390  0.9965\n",
       "PC2Dist             0.01876434 0.00218932  8.570869  0.0000\n",
       "PC3Dist            -0.00205743 0.00444239 -0.463136  0.6435\n",
       "\n",
       " Correlation: \n",
       "                   (Intr) TimDst SamDy1 LbrrC1 p(_D,2)1 p(_D,2)2 PC1Dst PC2Dst\n",
       "TimeDist           -0.114                                                     \n",
       "SameDay1            0.069 -0.772                                              \n",
       "LibraryComp1        0.122 -0.942  0.604                                       \n",
       "poly(phy_Dist, 2)1  0.099  0.114 -0.129 -0.090                                \n",
       "poly(phy_Dist, 2)2 -0.107  0.064 -0.052 -0.043  0.174                         \n",
       "PC1Dist            -0.256  0.344 -0.394 -0.369 -0.034    0.072                \n",
       "PC2Dist            -0.279  0.033 -0.237  0.043 -0.205    0.210    0.119       \n",
       "PC3Dist            -0.242  0.046 -0.048 -0.164 -0.062    0.048    0.040  0.054\n",
       "\n",
       "Standardized residuals:\n",
       "        Min          Q1         Med          Q3         Max \n",
       "-2.80327111 -0.64286943 -0.05582237  0.65450686  2.92712787 \n",
       "\n",
       "Residual standard error: 0.05251552 \n",
       "Degrees of freedom: 378 total; 369 residual\n"
      ]
     },
     "metadata": {},
     "output_type": "display_data"
    }
   ],
   "source": [
    "%%R\n",
    "fit6=  gls(w_Unif_Dist ~ TimeDist + SameDay + LibraryComp + poly(phy_Dist,2) + PC1Dist + PC2Dist + PC3Dist, \n",
    "             correlation = corMLPE(form= ~ PlotA + PlotB), data = SubDist)\n",
    "summary(fit6)"
   ]
  },
  {
   "cell_type": "code",
   "execution_count": 150,
   "metadata": {
    "collapsed": false
   },
   "outputs": [
    {
     "data": {
      "text/plain": [
       "     Model df       AIC       BIC   logLik   Test   L.Ratio p-value\n",
       "fit1     1  3 -1015.341 -1003.544 510.6706                         \n",
       "fit2     2  6 -1188.294 -1164.749 600.1472 1 vs 2 178.95325  <.0001\n",
       "fit3     3  7 -1226.818 -1199.367 620.4089 2 vs 3  40.52338  <.0001\n",
       "fit4     4  8 -1251.894 -1220.543 633.9469 3 vs 4  27.07596  <.0001\n",
       "fit5     5  9 -1254.068 -1218.822 636.0341 4 vs 5   4.17436   0.041\n",
       "fit6     6 11 -1284.515 -1241.496 653.2576 5 vs 6  34.44699  <.0001\n"
      ]
     },
     "metadata": {},
     "output_type": "display_data"
    }
   ],
   "source": [
    "%%R\n",
    "anova(fit1, fit2, fit3, fit4, fit5, fit6)"
   ]
  },
  {
   "cell_type": "code",
   "execution_count": null,
   "metadata": {
    "collapsed": true
   },
   "outputs": [],
   "source": []
  },
  {
   "cell_type": "markdown",
   "metadata": {},
   "source": [
    "# Maize distance analysis"
   ]
  },
  {
   "cell_type": "code",
   "execution_count": 151,
   "metadata": {
    "collapsed": false
   },
   "outputs": [
    {
     "data": {
      "image/png": "[encoded data removed]"
     },
     "metadata": {},
     "output_type": "display_data"
    }
   ],
   "source": [
    "%%R\n",
    "NAM_hc = hclust(as.dist(NAMdist), \"average\")\n",
    "plot(NAM_hc)"
   ]
  },
  {
   "cell_type": "code",
   "execution_count": null,
   "metadata": {
    "collapsed": false,
    "hide_input": true
   },
   "outputs": [],
   "source": [
    "%%R\n",
    "physeq.Maize = subset_samples(physeq.Full, Type == \"Maize\" & Plant != \"75-062\")\n",
    "as(sample_data(physeq.Maize), \"data.frame\") %>%\n",
    "\n",
    "group_by(Plant) %>%\n",
    "   summarise(DATE = first(DAP)) %>% \n",
    "    arrange(DATE) %>%\n",
    "   print()"
   ]
  },
  {
   "cell_type": "code",
   "execution_count": 153,
   "metadata": {
    "collapsed": false,
    "hide_input": false
   },
   "outputs": [
    {
     "data": {
      "text/plain": [
       "[1] 3741   21\n",
       "[1] 780  22\n",
       "              PlotA             PlotB w_Unif_Dist PlantA PlantB PlantComp\n",
       "1 sample5-2.06_Nneg sample6-2.26_Nneg   0.1544908   MS71    B73  MS71-B73\n",
       "2 sample5-2.06_Nneg sample6-3.18_Nneg   0.1652106   MS71    B73  MS71-B73\n",
       "3 sample6-2.26_Nneg sample6-3.18_Nneg   0.1568328    B73    B73   B73-B73\n",
       "4 sample5-2.06_Nneg sample5-3.13_Nneg   0.1293945   MS71   MS71 MS71-MS71\n",
       "5 sample6-2.26_Nneg sample5-3.13_Nneg   0.1576011    B73   MS71  B73-MS71\n",
       "6 sample6-3.18_Nneg sample5-3.13_Nneg   0.1265751    B73   MS71  B73-MS71\n",
       "                             PlotComp phy_Dist LibraryA DAY_A LibraryB DAY_B\n",
       "1 sample5-2.06_Nneg-sample6-2.26_Nneg    2e-04        1    72        1    79\n",
       "2 sample5-2.06_Nneg-sample6-3.18_Nneg    2e-04        1    72        1    79\n",
       "3 sample6-2.26_Nneg-sample6-3.18_Nneg    0e+00        1    79        1    79\n",
       "4 sample5-2.06_Nneg-sample5-3.13_Nneg    0e+00        1    72        1    72\n",
       "5 sample6-2.26_Nneg-sample5-3.13_Nneg    2e-04        1    79        1    72\n",
       "6 sample6-3.18_Nneg-sample5-3.13_Nneg    2e-04        1    79        1    72\n",
       "    PC1Dist   PC2Dist   PC3Dist  FunDist     CNdist      Bdist TimeDist\n",
       "1 0.2439193 1.1281642 2.4281866 2.688557 0.08933085 0.23899495        7\n",
       "2 1.3307319 0.6693172 2.0506374 2.534551 0.06888877 0.03500332        7\n",
       "3 1.0868127 0.4588470 0.3775492 1.238647 0.15821962 0.27399827        0\n",
       "4 1.4783600 1.0121635 0.3453681 1.824638 0.31288468 0.28733465        0\n",
       "5 1.2344407 2.1403277 2.7735547 3.714492 0.40221553 0.52632961        7\n",
       "6 0.1476281 1.6814808 2.3960055 2.930873 0.24399591 0.25233133        7\n",
       "  LibraryComp SameDay gene_Dist\n",
       "1           0       1 0.1259195\n",
       "2           0       1 0.1259195\n",
       "3           0       0 0.0000000\n",
       "4           0       0 0.0000000\n",
       "5           0       1 0.1259195\n",
       "6           0       1 0.1259195\n"
      ]
     },
     "metadata": {},
     "output_type": "display_data"
    }
   ],
   "source": [
    "%%R\n",
    "Dist %>% dim %>% print\n",
    "#Use melt to join genetic distance matrix with unifrac distance\n",
    "#head(ud.m) ##Use formated unifrac distance from above\n",
    "#melt \n",
    "NAM.m = melt(as.matrix(NAMdist))\n",
    "\n",
    "#set column names and create comparison column\n",
    "colnames(NAM.m) = c(\"PlantA\", \"PlantB\", \"gene_Dist\")\n",
    "\n",
    "NAM.m$PlantComp = paste(NAM.m$PlantA, NAM.m$PlantB, sep = \"-\")\n",
    "NAM.m %>% head\n",
    "\n",
    "#Join with unifrac DistanceMatrix\n",
    "NAMDist = left_join(Dist, NAM.m[,c(3,4)], by = \"PlantComp\") %>% filter(!is.na(gene_Dist))\n",
    "NAMDist %>% dim %>% print\n",
    "NAMDist %>% head"
   ]
  },
  {
   "cell_type": "code",
   "execution_count": 157,
   "metadata": {
    "collapsed": false,
    "scrolled": true
   },
   "outputs": [
    {
     "data": {
      "text/plain": [
       "Generalized least squares fit by REML\n",
       "  Model: w_Unif_Dist ~ 1 \n",
       "  Data: NAMDist \n",
       "        AIC      BIC   logLik\n",
       "  -2867.424 -2853.45 1436.712\n",
       "\n",
       "Correlation Structure: corMLPE\n",
       " Formula: ~PlotA + PlotB \n",
       " Parameter estimate(s):\n",
       "      Rho \n",
       "0.2682316 \n",
       "\n",
       "Coefficients:\n",
       "                Value   Std.Error  t-value p-value\n",
       "(Intercept) 0.2052307 0.008566936 23.95613       0\n",
       "\n",
       "Standardized residuals:\n",
       "       Min         Q1        Med         Q3        Max \n",
       "-1.7135817 -0.7558845 -0.1763719  0.5780333  3.3397603 \n",
       "\n",
       "Residual standard error: 0.05173829 \n",
       "Degrees of freedom: 780 total; 779 residual\n"
      ]
     },
     "metadata": {},
     "output_type": "display_data"
    }
   ],
   "source": [
    "%%R\n",
    "fit1=  gls(w_Unif_Dist ~ 1, \n",
    "             correlation = corMLPE(form= ~ PlotA + PlotB), data = NAMDist)\n",
    "summary(fit1)"
   ]
  },
  {
   "cell_type": "code",
   "execution_count": 160,
   "metadata": {
    "collapsed": false
   },
   "outputs": [
    {
     "data": {
      "text/plain": [
       "Generalized least squares fit by REML\n",
       "  Model: w_Unif_Dist ~ SameDay + LibraryComp \n",
       "  Data: NAMDist \n",
       "       AIC       BIC   logLik\n",
       "  -2858.33 -2835.053 1434.165\n",
       "\n",
       "Correlation Structure: corMLPE\n",
       " Formula: ~PlotA + PlotB \n",
       " Parameter estimate(s):\n",
       "      Rho \n",
       "0.2701848 \n",
       "\n",
       "Coefficients:\n",
       "                  Value   Std.Error   t-value p-value\n",
       "(Intercept)  0.19789457 0.008770511 22.563630  0.0000\n",
       "SameDay1     0.00928251 0.002993688  3.100692  0.0020\n",
       "LibraryComp1 0.00213801 0.002885287  0.741003  0.4589\n",
       "\n",
       " Correlation: \n",
       "             (Intr) SamDy1\n",
       "SameDay1     -0.162       \n",
       "LibraryComp1 -0.063 -0.429\n",
       "\n",
       "Standardized residuals:\n",
       "       Min         Q1        Med         Q3        Max \n",
       "-1.7550017 -0.7404351 -0.1834046  0.5558079  3.4440568 \n",
       "\n",
       "Residual standard error: 0.05151474 \n",
       "Degrees of freedom: 780 total; 777 residual\n"
      ]
     },
     "metadata": {},
     "output_type": "display_data"
    }
   ],
   "source": [
    "%%R\n",
    "fit2=  gls(w_Unif_Dist ~  SameDay + LibraryComp, \n",
    "             correlation = corMLPE(form= ~ PlotA + PlotB), data = NAMDist)\n",
    "summary(fit2)"
   ]
  },
  {
   "cell_type": "code",
   "execution_count": 161,
   "metadata": {
    "collapsed": false
   },
   "outputs": [
    {
     "data": {
      "text/plain": [
       "Generalized least squares fit by REML\n",
       "  Model: w_Unif_Dist ~ SameDay + LibraryComp + gene_Dist \n",
       "  Data: NAMDist \n",
       "        AIC       BIC   logLik\n",
       "  -2889.658 -2861.733 1450.829\n",
       "\n",
       "Correlation Structure: corMLPE\n",
       " Formula: ~PlotA + PlotB \n",
       " Parameter estimate(s):\n",
       "      Rho \n",
       "0.2728994 \n",
       "\n",
       "Coefficients:\n",
       "                   Value  Std.Error   t-value p-value\n",
       "(Intercept)   0.17437941 0.00943202 18.488021  0.0000\n",
       "SameDay1      0.00215335 0.00313664  0.686514  0.4926\n",
       "LibraryComp1 -0.00140721 0.00287286 -0.489828  0.6244\n",
       "gene_Dist     0.23363819 0.03742784  6.242363  0.0000\n",
       "\n",
       " Correlation: \n",
       "             (Intr) SamDy1 LbrrC1\n",
       "SameDay1      0.009              \n",
       "LibraryComp1  0.023 -0.319       \n",
       "gene_Dist    -0.399 -0.364 -0.198\n",
       "\n",
       "Standardized residuals:\n",
       "       Min         Q1        Med         Q3        Max \n",
       "-1.7682577 -0.7570730 -0.1597296  0.5890162  3.3097276 \n",
       "\n",
       "Residual standard error: 0.05057387 \n",
       "Degrees of freedom: 780 total; 776 residual\n"
      ]
     },
     "metadata": {},
     "output_type": "display_data"
    }
   ],
   "source": [
    "%%R\n",
    "fit3=  gls(w_Unif_Dist ~ SameDay + LibraryComp + gene_Dist, \n",
    "             correlation = corMLPE(form= ~ PlotA + PlotB), data = NAMDist)\n",
    "summary(fit3)"
   ]
  },
  {
   "cell_type": "code",
   "execution_count": 163,
   "metadata": {
    "collapsed": false
   },
   "outputs": [
    {
     "data": {
      "text/plain": [
       "Generalized least squares fit by REML\n",
       "  Model: w_Unif_Dist ~ SameDay + LibraryComp + poly(gene_Dist, 2) \n",
       "  Data: NAMDist \n",
       "        AIC       BIC   logLik\n",
       "  -2896.295 -2863.725 1455.147\n",
       "\n",
       "Correlation Structure: corMLPE\n",
       " Formula: ~PlotA + PlotB \n",
       " Parameter estimate(s):\n",
       "      Rho \n",
       "0.2594639 \n",
       "\n",
       "Coefficients:\n",
       "                          Value  Std.Error   t-value p-value\n",
       "(Intercept)          0.20822378 0.00831887 25.030305  0.0000\n",
       "SameDay1             0.00002431 0.00317938  0.007645  0.9939\n",
       "LibraryComp1        -0.00611317 0.00314554 -1.943443  0.0523\n",
       "poly(gene_Dist, 2)1  0.30500667 0.04258550  7.162218  0.0000\n",
       "poly(gene_Dist, 2)2  0.21032885 0.05917875  3.554128  0.0004\n",
       "\n",
       " Correlation: \n",
       "                    (Intr) SamDy1 LbrrC1 p(_D,2)1\n",
       "SameDay1            -0.220                       \n",
       "LibraryComp1        -0.133 -0.206                \n",
       "poly(gene_Dist, 2)1  0.165 -0.403 -0.326         \n",
       "poly(gene_Dist, 2)2  0.127 -0.190 -0.417  0.381  \n",
       "\n",
       "Standardized residuals:\n",
       "       Min         Q1        Med         Q3        Max \n",
       "-2.0010419 -0.7564668 -0.1643301  0.5842265  3.2560955 \n",
       "\n",
       "Residual standard error: 0.04890995 \n",
       "Degrees of freedom: 780 total; 775 residual\n"
      ]
     },
     "metadata": {},
     "output_type": "display_data"
    }
   ],
   "source": [
    "%%R\n",
    "fit4=  gls(w_Unif_Dist ~  SameDay + LibraryComp + poly(gene_Dist,2), \n",
    "             correlation = corMLPE(form= ~ PlotA + PlotB), data = NAMDist)\n",
    "summary(fit4)"
   ]
  },
  {
   "cell_type": "code",
   "execution_count": 168,
   "metadata": {
    "collapsed": false
   },
   "outputs": [
    {
     "data": {
      "text/plain": [
       "Generalized least squares fit by REML\n",
       "  Model: w_Unif_Dist ~ SameDay + LibraryComp + PC1Dist + PC2Dist \n",
       "  Data: NAMDist \n",
       "        AIC       BIC   logLik\n",
       "  -2840.303 -2807.733 1427.151\n",
       "\n",
       "Correlation Structure: corMLPE\n",
       " Formula: ~PlotA + PlotB \n",
       " Parameter estimate(s):\n",
       "      Rho \n",
       "0.2782163 \n",
       "\n",
       "Coefficients:\n",
       "                   Value   Std.Error   t-value p-value\n",
       "(Intercept)   0.19011587 0.009486667 20.040323  0.0000\n",
       "SameDay1      0.00910689 0.002983834  3.052076  0.0024\n",
       "LibraryComp1 -0.00015745 0.003191976 -0.049328  0.9607\n",
       "PC1Dist       0.00431410 0.002236009  1.929374  0.0540\n",
       "PC2Dist       0.00386152 0.002242537  1.721942  0.0855\n",
       "\n",
       " Correlation: \n",
       "             (Intr) SamDy1 LbrrC1 PC1Dst\n",
       "SameDay1     -0.144                     \n",
       "LibraryComp1  0.024 -0.364              \n",
       "PC1Dist      -0.256  0.015  0.019       \n",
       "PC2Dist      -0.183 -0.048 -0.436 -0.015\n",
       "\n",
       "Standardized residuals:\n",
       "       Min         Q1        Med         Q3        Max \n",
       "-1.7478939 -0.7396423 -0.1599548  0.5489181  3.4670639 \n",
       "\n",
       "Residual standard error: 0.05219925 \n",
       "Degrees of freedom: 780 total; 775 residual\n"
      ]
     },
     "metadata": {},
     "output_type": "display_data"
    }
   ],
   "source": [
    "%%R\n",
    "fit5=  gls(w_Unif_Dist ~ SameDay + LibraryComp + PC1Dist + PC2Dist, \n",
    "             correlation = corMLPE(form= ~ PlotA + PlotB), data = NAMDist)\n",
    "summary(fit5)"
   ]
  },
  {
   "cell_type": "code",
   "execution_count": 167,
   "metadata": {
    "collapsed": false
   },
   "outputs": [
    {
     "data": {
      "text/plain": [
       "Generalized least squares fit by REML\n",
       "  Model: w_Unif_Dist ~ SameDay + LibraryComp + poly(gene_Dist, 2) + PC1Dist +      PC2Dist + PC3Dist \n",
       "  Data: NAMDist \n",
       "        AIC      BIC  logLik\n",
       "  -2866.459 -2819.97 1443.23\n",
       "\n",
       "Correlation Structure: corMLPE\n",
       " Formula: ~PlotA + PlotB \n",
       " Parameter estimate(s):\n",
       "      Rho \n",
       "0.2644892 \n",
       "\n",
       "Coefficients:\n",
       "                          Value  Std.Error   t-value p-value\n",
       "(Intercept)          0.20444513 0.00916989 22.295262  0.0000\n",
       "SameDay1             0.00002899 0.00317128  0.009140  0.9927\n",
       "LibraryComp1        -0.00783234 0.00340184 -2.302382  0.0216\n",
       "poly(gene_Dist, 2)1  0.30923669 0.04350716  7.107719  0.0000\n",
       "poly(gene_Dist, 2)2  0.20951679 0.05950615  3.520927  0.0005\n",
       "PC1Dist              0.00429081 0.00219529  1.954552  0.0510\n",
       "PC2Dist              0.00286555 0.00219651  1.304591  0.1924\n",
       "PC3Dist             -0.00469335 0.00342768 -1.369248  0.1713\n",
       "\n",
       " Correlation: \n",
       "                    (Intr) SamDy1 LbrrC1 p(_D,2)1 p(_D,2)2 PC1Dst PC2Dst\n",
       "SameDay1            -0.208                                              \n",
       "LibraryComp1        -0.043 -0.185                                       \n",
       "poly(gene_Dist, 2)1  0.213 -0.397 -0.268                                \n",
       "poly(gene_Dist, 2)2  0.073 -0.185 -0.382  0.348                         \n",
       "PC1Dist             -0.230  0.021 -0.006 -0.008    0.059                \n",
       "PC2Dist             -0.175 -0.012 -0.387 -0.068   -0.001    0.003       \n",
       "PC3Dist             -0.214  0.023  0.040 -0.197    0.097   -0.122 -0.095\n",
       "\n",
       "Standardized residuals:\n",
       "       Min         Q1        Med         Q3        Max \n",
       "-1.9092960 -0.7419664 -0.1394337  0.5942199  3.2844218 \n",
       "\n",
       "Residual standard error: 0.04926956 \n",
       "Degrees of freedom: 780 total; 772 residual\n"
      ]
     },
     "metadata": {},
     "output_type": "display_data"
    }
   ],
   "source": [
    "%%R\n",
    "fit6=  gls(w_Unif_Dist ~ SameDay + LibraryComp + poly(gene_Dist,2) + PC1Dist + PC2Dist + PC3Dist, \n",
    "             correlation = corMLPE(form= ~ PlotA + PlotB), data = NAMDist)\n",
    "summary(fit6)"
   ]
  },
  {
   "cell_type": "markdown",
   "metadata": {},
   "source": [
    "# Time vs MCC mantel test"
   ]
  },
  {
   "cell_type": "code",
   "execution_count": null,
   "metadata": {
    "collapsed": false
   },
   "outputs": [],
   "source": [
    "%%R\n",
    "sample_data(physeq.Nneg)$DAP"
   ]
  },
  {
   "cell_type": "code",
   "execution_count": null,
   "metadata": {
    "collapsed": false
   },
   "outputs": [],
   "source": [
    "%%R\n",
    "sd = sample_data(physeq.Nneg)\n",
    "\n",
    "# Calculate w-unifrac distances\n",
    "registerDoParallel(cores=28)\n",
    "date.wunif.dist = distance(physeq.Nneg, \n",
    "                      method = \"unifrac\", \n",
    "                      weighted = TRUE,\n",
    "                      fast = TRUE, \n",
    "                      parallel = TRUE, \n",
    "                      normalized = FALSE)\n",
    "\n",
    "#Calculate functional distances\n",
    "Fun_dist = dist(sd[,c(\"DAP\")], method = \"euclidian\")\n",
    "\n",
    "\n",
    "M1 = mantel(date.wunif.dist, Fun_dist, method=\"pearson\", permutations=999)\n",
    "M1"
   ]
  },
  {
   "cell_type": "code",
   "execution_count": null,
   "metadata": {
    "collapsed": false,
    "scrolled": true
   },
   "outputs": [],
   "source": [
    "%%R\n",
    "mcc.correlog <- mantel.correlog(date.wunif.dist, Fun_dist, nperm=99)\n",
    "summary(mcc.correlog) %>% print\n",
    "mcc.correlog  %>% print\n",
    "plot(mcc.correlog) "
   ]
  },
  {
   "cell_type": "markdown",
   "metadata": {},
   "source": [
    "# Ignore below this point"
   ]
  },
  {
   "cell_type": "markdown",
   "metadata": {},
   "source": [
    "# Compare plant phylogenetic distance to l2f"
   ]
  },
  {
   "cell_type": "code",
   "execution_count": null,
   "metadata": {
    "collapsed": false
   },
   "outputs": [],
   "source": [
    "%%R\n",
    "# log2foldFile = '/home/bryan/RhizCG/data/MiSeq_amplicon/MergedRuns/DeSeq2/bare-plant.csv'\n",
    "# l2f = read.csv(log2foldFile, header = TRUE)\n",
    "# colnames(l2f)"
   ]
  },
  {
   "cell_type": "markdown",
   "metadata": {},
   "source": [
    "### Spread by plant to make matrix of log2fold change in each OTU by plant combo"
   ]
  },
  {
   "cell_type": "code",
   "execution_count": null,
   "metadata": {
    "collapsed": false
   },
   "outputs": [],
   "source": [
    "%%R\n",
    "# df = l2f[,c(1,11,13)]\n",
    "# l2f_m = spread(df, Plant, log2FoldChange, fill = 0, drop = TRUE)\n",
    "# rownames(l2f_m) = l2f_m$OTU\n",
    "# l2f_m = l2f_m[,-1]\n",
    "# l2f_m %>% head"
   ]
  },
  {
   "cell_type": "code",
   "execution_count": null,
   "metadata": {
    "collapsed": false,
    "scrolled": true
   },
   "outputs": [],
   "source": [
    "%%R\n",
    "# dim(l2f_m)"
   ]
  },
  {
   "cell_type": "markdown",
   "metadata": {},
   "source": [
    "### recode all negative log2fold changes with 0"
   ]
  },
  {
   "cell_type": "code",
   "execution_count": null,
   "metadata": {
    "collapsed": false,
    "scrolled": true
   },
   "outputs": [],
   "source": [
    "%%R\n",
    "# l2f_me = l2f_m\n",
    "# l2f_me[l2f_me < 0] = 0 \n",
    "# head(l2f_me)"
   ]
  },
  {
   "cell_type": "markdown",
   "metadata": {},
   "source": [
    "## Calculate pairwise weighted Unifrac distances between samples\n",
    "\n",
    "need to figure out how to run unifrac measure outside of phyloseq"
   ]
  },
  {
   "cell_type": "code",
   "execution_count": null,
   "metadata": {
    "collapsed": false
   },
   "outputs": [],
   "source": [
    "%%R\n",
    "# physeq.Full"
   ]
  },
  {
   "cell_type": "code",
   "execution_count": null,
   "metadata": {
    "collapsed": false
   },
   "outputs": [],
   "source": [
    "%%R\n",
    "# #provide fast tree for unifrac calculation\n",
    "# #treeFile = '/home/bryan/RhizCG/data/MiSeq_amplicon/MergedRuns/fasttree/otusn.tree'\n",
    "# #Tree = read.tree(treeFile)\n",
    "# Tree = phy_tree(physeq.Full)\n",
    "# str(Tree)\n"
   ]
  },
  {
   "cell_type": "code",
   "execution_count": null,
   "metadata": {
    "collapsed": false
   },
   "outputs": [],
   "source": [
    "%%R\n",
    "# l2f_wunif = picante::unifrac(as.matrix(t(l2f_me)), Tree)"
   ]
  },
  {
   "cell_type": "code",
   "execution_count": null,
   "metadata": {
    "collapsed": false
   },
   "outputs": [],
   "source": [
    "%%R\n",
    "# l2f_bray = vegdist(as.matrix(t(l2f_me)), method = \"bray\")"
   ]
  },
  {
   "cell_type": "code",
   "execution_count": null,
   "metadata": {
    "collapsed": false,
    "scrolled": true
   },
   "outputs": [],
   "source": [
    "%%R\n",
    "# hc_unif = hclust(l2f_wunif, \"average\")\n",
    "# plot(hc_unif) %>% print\n",
    "\n",
    "# hc_bray = hclust(l2f_bray, \"average\")\n",
    "# plot(hc_bray, main = \"Cluster Dendrogram, \\n Bray-Curtis Distance\")"
   ]
  },
  {
   "cell_type": "markdown",
   "metadata": {},
   "source": [
    "# Mantel test of phylogenetic distance and l2f unifrac distance"
   ]
  },
  {
   "cell_type": "markdown",
   "metadata": {},
   "source": [
    "### Maize"
   ]
  },
  {
   "cell_type": "code",
   "execution_count": null,
   "metadata": {
    "collapsed": false,
    "scrolled": true
   },
   "outputs": [],
   "source": [
    "%%R\n",
    "# NAMdist %>% print\n",
    "\n",
    "# #subset column and rows of log2fold change so that only NAM lines are included\n",
    "# NLU = as.matrix(l2f_wunif)\n",
    "# NLU = NLU[c(4,5,11,13:18,22),c(4,5,11,13:18,22)]\n",
    "# NLU\n",
    "\n",
    "# NLB = as.matrix(l2f_bray)\n",
    "# NLB = NLB[c(4,5,11,13:18,22),c(4,5,11,13:18,22)]\n",
    "# NLB"
   ]
  },
  {
   "cell_type": "code",
   "execution_count": null,
   "metadata": {
    "collapsed": false,
    "scrolled": false
   },
   "outputs": [],
   "source": [
    "%%R\n",
    "# M1 = mantel(as.dist(NAMdist), as.dist(NLU), method=\"pearson\", permutations=999)\n",
    "# print(M1)"
   ]
  },
  {
   "cell_type": "code",
   "execution_count": null,
   "metadata": {
    "collapsed": false
   },
   "outputs": [],
   "source": [
    "%%R\n",
    "# M1 = mantel(as.dist(NAMdist), as.dist(NLB), method=\"pearson\", permutations=999)\n",
    "# print(M1)"
   ]
  },
  {
   "cell_type": "markdown",
   "metadata": {},
   "source": [
    "### Species"
   ]
  },
  {
   "cell_type": "code",
   "execution_count": null,
   "metadata": {
    "collapsed": false
   },
   "outputs": [],
   "source": [
    "%%R\n",
    "\n",
    "# #Organize log2fold change distance matrix so that only plants with cholorplast distances are included \n",
    "# #and column and row order is congruent with phylogenetic distance matrix\n",
    "# l2f_wunif.t = as.matrix(l2f_wunif) %>% as.data.frame()\n",
    "#     temp1 = l2f_wunif.t[c(\"FAGES\", \"AMAPO\", \"HELAN\", \"ABUTH\", \"GLYMA\", \"SORBI\", \"B73\", \"ECHCG\",\n",
    "#                     \"SETFA\", \"ERATE\", \"ELCOR\"), c(\"FAGES\", \"AMAPO\", \"HELAN\", \"ABUTH\", \"GLYMA\", \"SORBI\", \"B73\", \"ECHCG\",\n",
    "#                     \"SETFA\", \"ERATE\", \"ELCOR\")]\n",
    "\n",
    "#     SLU = as.matrix(temp1)\n",
    "\n",
    "#     SLU = as.dist(SLU)\n",
    "#     SLU %>% print\n",
    "\n",
    "# #Remove ginkgo so that matrices are congruent\n",
    "# p.temp = as.matrix(phydist) %>% as.data.frame()\n",
    "#     temp2 = p.temp[-12, -12] #remove ginkgo\n",
    "\n",
    "#     temp2 = as.matrix(temp2)\n",
    "#     phydist = as.dist(temp2)\n",
    "\n",
    "#     phydist %>% print\n",
    "\n",
    "# l2f_bray.t = as.matrix(l2f_bray) %>% as.data.frame()\n",
    "#     temp2 = l2f_bray.t[c(\"FAGES\", \"AMAPO\", \"HELAN\", \"ABUTH\", \"GLYMA\", \"SORBI\", \"B73\", \"ECHCG\",\n",
    "#                     \"SETFA\", \"ERATE\", \"ELCOR\"), c(\"FAGES\", \"AMAPO\", \"HELAN\", \"ABUTH\", \"GLYMA\", \"SORBI\", \"B73\", \"ECHCG\",\n",
    "#                     \"SETFA\", \"ERATE\", \"ELCOR\")]\n",
    "\n",
    "#     SLB = as.matrix(temp2)\n",
    "#     SLB = as.dist(SLB)\n",
    "#     SLB %>% print\n"
   ]
  },
  {
   "cell_type": "code",
   "execution_count": null,
   "metadata": {
    "collapsed": false,
    "scrolled": true
   },
   "outputs": [],
   "source": [
    "%%R\n",
    "# m1 = mantel(phydist, SLU, method=\"pearson\", permutations=999)\n",
    "# print(m1)"
   ]
  },
  {
   "cell_type": "code",
   "execution_count": null,
   "metadata": {
    "collapsed": false,
    "scrolled": true
   },
   "outputs": [],
   "source": [
    "%%R\n",
    "# m1 = mantel(phydist, SLB, method=\"pearson\", permutations=999)\n",
    "# print(m1)"
   ]
  }
 ],
 "metadata": {
  "hide_input": true,
  "kernelspec": {
   "display_name": "Python 2",
   "language": "python",
   "name": "python2"
  },
  "language_info": {
   "codemirror_mode": {
    "name": "ipython",
    "version": 2
   },
   "file_extension": ".py",
   "mimetype": "text/x-python",
   "name": "python",
   "nbconvert_exporter": "python",
   "pygments_lexer": "ipython2",
   "version": "2.7.11"
  }
 },
 "nbformat": 4,
 "nbformat_minor": 0
}
