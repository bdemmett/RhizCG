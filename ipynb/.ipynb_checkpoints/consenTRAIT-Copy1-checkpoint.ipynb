{
 "cells": [
  {
   "cell_type": "markdown",
   "metadata": {},
   "source": [
    "# Goal\n",
    "\n",
    "* Conduct concenTRAIT on rhizosphere responds\n"
   ]
  },
  {
   "cell_type": "markdown",
   "metadata": {},
   "source": [
    "# Init"
   ]
  },
  {
   "cell_type": "code",
   "execution_count": 1,
   "metadata": {
    "collapsed": false
   },
   "outputs": [],
   "source": [
    "import os\n",
    "%load_ext rpy2.ipython"
   ]
  },
  {
   "cell_type": "code",
   "execution_count": 3,
   "metadata": {
    "collapsed": false
   },
   "outputs": [],
   "source": [
    "%%R\n",
    "library(dplyr)\n",
    "library(tidyr)\n",
    "library(ggplot2)\n",
    "library(ape)"
   ]
  },
  {
   "cell_type": "markdown",
   "metadata": {
    "collapsed": true
   },
   "source": [
    "# Setting variables"
   ]
  },
  {
   "cell_type": "code",
   "execution_count": 4,
   "metadata": {
    "collapsed": false
   },
   "outputs": [],
   "source": [
    "workDir = '/home/bryan/RhizCG/data/MiSeq_amplicon/MergedRuns/consenTRAIT'\n",
    "\n",
    "# 16S tree file of all representative OTU sequences\n",
    "treeFile = '/home/bryan/RhizCG/data/MiSeq_amplicon/MergedRuns/fasttree/aln_for_tree_boot.nwk'\n",
    "rootName = 'X90478'\n",
    "\n",
    "# log2 fold change\n",
    "l2fcResDir = '/home/bryan/RhizCG/data/MiSeq_amplicon/MergedRuns/DeSeq2/'\n",
    "l2fcResFile = os.path.join(l2fcResDir, 'Responders.txt')\n",
    "\n",
    "# log2 fold change pvclust clusters\n",
    "#pvclustDir = '/var/seq_data/fullCyc/MiSeq_16SrRNA/515f-806r/lib1-7rs/incorporators/l2fc_heavy_window/l2fc_pvclust_htmp/'\n",
    "#pvclustFile = 'l2fc_sparse-maxRejH_pvclust.txt'\n",
    "\n",
    "# params\n",
    "padj_cutoff = 0.05  \n",
    "nprocs = 24"
   ]
  },
  {
   "cell_type": "code",
   "execution_count": 5,
   "metadata": {
    "collapsed": false,
    "scrolled": true
   },
   "outputs": [
    {
     "name": "stdout",
     "output_type": "stream",
     "text": [
      "/home/bryan/RhizCG/data/MiSeq_amplicon/MergedRuns/consenTRAIT\n"
     ]
    }
   ],
   "source": [
    "if not os.path.isdir(workDir):\n",
    "    os.makedirs(workDir)\n",
    "%cd $workDir"
   ]
  },
  {
   "cell_type": "markdown",
   "metadata": {},
   "source": [
    "# Testing trait depth on rhizosphere responders"
   ]
  },
  {
   "cell_type": "markdown",
   "metadata": {
    "collapsed": true
   },
   "source": [
    "### prune tree to OTUs in responder file"
   ]
  },
  {
   "cell_type": "code",
   "execution_count": null,
   "metadata": {
    "collapsed": false
   },
   "outputs": [],
   "source": [
    "%%R -i treeFile -i workDir -i rootName\n",
    "\n",
    "trees = read.tree(treeFile)\n",
    "trees"
   ]
  },
  {
   "cell_type": "code",
   "execution_count": null,
   "metadata": {
    "collapsed": false
   },
   "outputs": [],
   "source": [
    "%%R -i l2fcResFile\n",
    "#Read responder table in order to prune trees\n",
    "Resp = read.delim(l2fcResFile, sep='\\t', header = FALSE)\n",
    "head(Resp)\n",
    "\n",
    "Resp$V1 = Resp$V1 %>% as.vector\n",
    "rootrow = c(rootName, rep(0, ncol(Resp)-1))\n",
    "Resp = rbind(Resp, rootrow)\n",
    "\n",
    "write.table(Resp, 'Responders_wRoot.txt', sep='\\t', quote=FALSE, row.names=FALSE, col.names=FALSE)\n",
    "cat('Total number of OTUs:', Resp$V1 %>% unique %>% length, '\\n\\n')\n",
    "Resp%>% tail(n=3)"
   ]
  },
  {
   "cell_type": "code",
   "execution_count": null,
   "metadata": {
    "collapsed": false
   },
   "outputs": [],
   "source": [
    "%%R\n",
    "Taxa = as.character(Resp)\n"
   ]
  },
  {
   "cell_type": "code",
   "execution_count": 36,
   "metadata": {
    "collapsed": false
   },
   "outputs": [
    {
     "data": {
      "text/plain": [
       "100 phylogenetic trees\n"
      ]
     },
     "metadata": {},
     "output_type": "display_data"
    }
   ],
   "source": [
    "%%R\n",
    "\n",
    "pruneTree = function(tree, taxa){\n",
    "    # not matching OTUs\n",
    "    to.rm = setdiff(tree$tip, taxa)\n",
    "    # pruning\n",
    "    tree = drop.tip(tree, to.rm)    \n",
    "    # rooting\n",
    "    tree = multi2di(tree)\n",
    "    tree = root(tree, rootName)\n",
    "    # returning\n",
    "    return(tree)\n",
    "    }\n",
    "\n",
    "trees.p = lapply(trees, pruneTree, taxa=Taxa)\n",
    "class(trees.p) = 'multiPhylo'\n",
    "trees.p"
   ]
  },
  {
   "cell_type": "code",
   "execution_count": 41,
   "metadata": {
    "collapsed": false
   },
   "outputs": [
    {
     "data": {
      "text/plain": [
       "File written: /home/bryan/RhizCG/data/MiSeq_amplicon/MergedRuns/consenTRAIT/otusn_pick_3in3.nwk \n"
      ]
     },
     "metadata": {},
     "output_type": "display_data"
    }
   ],
   "source": [
    "%%R\n",
    "# writing pruned tree\n",
    "tree.out = file.path(workDir, 'otusn_pick_3in3.nwk')\n",
    "write.tree(trees.p, tree.out)\n",
    "cat('File written:', tree.out, '\\n')"
   ]
  },
  {
   "cell_type": "code",
   "execution_count": 42,
   "metadata": {
    "collapsed": true
   },
   "outputs": [],
   "source": [
    "%%R\n",
    "# clearing memory\n",
    "trees = trees.p = NULL"
   ]
  },
  {
   "cell_type": "markdown",
   "metadata": {},
   "source": [
    "# Calling concenTRAIT - Nick's old version"
   ]
  },
  {
   "cell_type": "code",
   "execution_count": 46,
   "metadata": {
    "collapsed": false
   },
   "outputs": [],
   "source": [
    "treeFile = \"/home/bryan/RhizCG/data/MiSeq_amplicon/MergedRuns/consenTRAIT/otusn_pick_3in3.nwk\"\n",
    "respFileDir = '/home/bryan/RhizCG/data/MiSeq_amplicon/MergedRuns/consenTRAIT/'\n",
    "respFile = os.path.join(respFileDir, 'Responders_wRoot.txt')"
   ]
  },
  {
   "cell_type": "code",
   "execution_count": null,
   "metadata": {
    "collapsed": false,
    "hide_input": true,
    "scrolled": false
   },
   "outputs": [
    {
     "name": "stdout",
     "output_type": "stream",
     "text": [
      "Analyzing tree:  1 \n",
      "  Analyzing trait:  1 \n",
      "Analyzing tree:  2 \n",
      "  Analyzing trait:  1 \n",
      "Analyzing tree:  3 \n",
      "  Analyzing trait:  1 \n",
      "Analyzing tree:  4 \n",
      "  Analyzing trait:  1 \n",
      "Analyzing tree:  5 \n",
      "  Analyzing trait:  1 \n",
      "Analyzing tree:  6 \n",
      "  Analyzing trait:  1 \n",
      "Analyzing tree:  7 \n",
      "  Analyzing trait:  1 \n",
      "Analyzing tree:  8 \n",
      "  Analyzing trait:  1 \n",
      "Analyzing tree:  9 \n",
      "  Analyzing trait:  1 \n",
      "Analyzing tree:  10 \n",
      "  Analyzing trait:  1 \n",
      "Analyzing tree:  11 \n",
      "  Analyzing trait:  1 \n",
      "Analyzing tree:  12 \n",
      "  Analyzing trait:  1 \n",
      "Analyzing tree:  13 \n",
      "  Analyzing trait:  1 \n",
      "Analyzing tree:  14 \n",
      "  Analyzing trait:  1 \n",
      "Analyzing tree:  15 \n",
      "  Analyzing trait:  1 \n",
      "Analyzing tree:  16 \n",
      "  Analyzing trait:  1 \n",
      "Analyzing tree:  17 \n",
      "  Analyzing trait:  1 \n",
      "Analyzing tree:  18 \n",
      "  Analyzing trait:  1 \n",
      "Analyzing tree:  19 \n",
      "  Analyzing trait:  1 \n",
      "Analyzing tree:  20 \n",
      "  Analyzing trait:  1 \n",
      "Analyzing tree:  21 \n",
      "  Analyzing trait:  1 \n",
      "Analyzing tree:  22 \n",
      "  Analyzing trait:  1 \n",
      "Analyzing tree:  23 \n",
      "  Analyzing trait:  1 \n",
      "Analyzing tree:  24 \n",
      "  Analyzing trait:  1 \n",
      "Analyzing tree:  25 \n",
      "  Analyzing trait:  1 \n",
      "Analyzing tree:  26 \n",
      "  Analyzing trait:  1 \n",
      "Analyzing tree:  27 \n",
      "  Analyzing trait:  1 \n",
      "Analyzing tree:  28 \n",
      "  Analyzing trait:  1 \n",
      "Analyzing tree:  29 \n",
      "  Analyzing trait:  1 \n",
      "Analyzing tree:  30 \n",
      "  Analyzing trait:  1 \n",
      "Analyzing tree:  31 \n",
      "  Analyzing trait:  1 \n",
      "Analyzing tree:  32 \n",
      "  Analyzing trait:  1 \n",
      "Analyzing tree:  33 \n",
      "  Analyzing trait:  1 \n",
      "Analyzing tree:  34 \n",
      "  Analyzing trait:  1 \n",
      "Analyzing tree:  35 \n",
      "  Analyzing trait:  1 \n",
      "Analyzing tree:  36 \n",
      "  Analyzing trait:  1 \n",
      "Analyzing tree:  37 \n",
      "  Analyzing trait:  1 \n",
      "Analyzing tree:  38 \n",
      "  Analyzing trait:  1 \n",
      "Analyzing tree:  39 \n",
      "  Analyzing trait:  1 \n",
      "Analyzing tree:  40 \n",
      "  Analyzing trait:  1 \n",
      "Analyzing tree:  41 \n",
      "  Analyzing trait:  1 \n",
      "Analyzing tree:  42 \n",
      "  Analyzing trait:  1 \n",
      "Analyzing tree:  43 \n",
      "  Analyzing trait:  1 \n",
      "Analyzing tree:  44 \n",
      "  Analyzing trait:  1 \n",
      "Analyzing tree:  45 \n",
      "  Analyzing trait:  1 \n",
      "Analyzing tree:  46 \n",
      "  Analyzing trait:  1 \n",
      "Analyzing tree:  47 \n",
      "  Analyzing trait:  1 \n",
      "Analyzing tree:  48 \n",
      "  Analyzing trait:  1 \n",
      "Analyzing tree:  49 \n",
      "  Analyzing trait:  1 \n",
      "Analyzing tree:  50 \n",
      "  Analyzing trait:  1 \n",
      "Analyzing tree:  51 \n",
      "  Analyzing trait:  1 \n",
      "Analyzing tree:  52 \n",
      "  Analyzing trait:  1 \n",
      "Analyzing tree:  53 \n",
      "  Analyzing trait:  1 \n",
      "Analyzing tree:  54 \n",
      "  Analyzing trait:  1 \n",
      "Analyzing tree:  55 \n",
      "  Analyzing trait:  1 \n",
      "Analyzing tree:  56 \n",
      "  Analyzing trait:  1 \n",
      "Analyzing tree:  57 \n",
      "  Analyzing trait:  1 \n",
      "Analyzing tree:  58 \n",
      "  Analyzing trait:  1 \n",
      "Analyzing tree:  59 \n",
      "  Analyzing trait:  1 \n",
      "Analyzing tree:  60 \n",
      "  Analyzing trait:  1 \n",
      "Analyzing tree:  61 \n",
      "  Analyzing trait:  1 \n",
      "Analyzing tree:  62 \n",
      "  Analyzing trait:  1 \n",
      "Analyzing tree:  63 \n",
      "  Analyzing trait:  1 \n",
      "Analyzing tree:  64 \n",
      "  Analyzing trait:  1 \n",
      "Analyzing tree:  65 \n",
      "  Analyzing trait:  1 \n",
      "Analyzing tree:  66 \n",
      "  Analyzing trait:  1 \n",
      "Analyzing tree:  67 \n",
      "  Analyzing trait:  1 \n",
      "Analyzing tree:  68 \n",
      "  Analyzing trait:  1 \n",
      "Analyzing tree:  69 \n",
      "  Analyzing trait:  1 \n",
      "Analyzing tree:  70 \n",
      "  Analyzing trait:  1 \n",
      "Analyzing tree:  71 \n"
     ]
    }
   ],
   "source": [
    "!/home/bryan/tree_edit/bin/concentrait.r -p 20 \\\n",
    "    $treeFile $rootName $respFile > RhizResponders_tauD.txt"
   ]
  },
  {
   "cell_type": "markdown",
   "metadata": {},
   "source": [
    "Trait\t  tau_D\t\t\tp-value \n",
    "t1\t0.020504968504344\t0.04 "
   ]
  },
  {
   "cell_type": "markdown",
   "metadata": {},
   "source": [
    "# Calling consenTRAIT - Nick's new version"
   ]
  },
  {
   "cell_type": "code",
   "execution_count": null,
   "metadata": {
    "collapsed": false
   },
   "outputs": [],
   "source": [
    "!Rscript /home/bryan/consenTRAIT/consenTRAIT.r -p 20 \\\n",
    "    $treeFile $rootName $respFile > RhizResponders_tauD.txt"
   ]
  },
  {
   "cell_type": "code",
   "execution_count": 50,
   "metadata": {
    "collapsed": false
   },
   "outputs": [
    {
     "data": {
      "text/plain": [
       "     V1                V2 V3 V4       V5\n",
       "1 Trait             tau_D NA NA p-value \n",
       "2    t1 0.020504968504344  1 NA         \n"
      ]
     },
     "metadata": {},
     "output_type": "display_data"
    }
   ],
   "source": [
    "%%R\n",
    "df.CT.sub = read.delim('RhizResponders_tauD.txt', sep='\\t', header = FALSE)\n",
    "head(df.CT.sub)\n",
    "# #\n",
    "# df.CT.sub = read.delim('incorp_trait_bySub_tauD.txt', sep='\\t')\n",
    "# df.CT.sub$Substrate = df.l2fc$Substrate %>% levels\n",
    "\n",
    "\n",
    "# p.cut = function(p){\n",
    "#     if(p < 0.01){\n",
    "#         return('<0.01')\n",
    "#     } else\n",
    "#     if(p < 0.05){\n",
    "#         return('<0.05')\n",
    "#     } else{\n",
    "#         return('>0.05')\n",
    "#     }\n",
    "# }\n",
    "\n",
    "# df.CT.sub = df.CT.sub  %>%\n",
    "#     mutate(p.value.id = sapply(p.value, p.cut))\n",
    "\n",
    "# df.CT.sub "
   ]
  },
  {
   "cell_type": "markdown",
   "metadata": {},
   "source": [
    "# Check test to make sure it is working well"
   ]
  },
  {
   "cell_type": "code",
   "execution_count": 51,
   "metadata": {
    "collapsed": false
   },
   "outputs": [
    {
     "name": "stdout",
     "output_type": "stream",
     "text": [
      "Test files written: \r\n",
      "  consentrait_TEST.nwk\r\n",
      "  consentrait_TEST.txt\r\n",
      "  consentrait_TEST_trait1.pdf\r\n",
      "  consentrait_TEST_trait2.pdf\r\n",
      "Execution halted\r\n"
     ]
    }
   ],
   "source": [
    "#Making example files with 100 taxa and 2 traits: the 1st trait is conserved and the 2nd is not.\n",
    "\n",
    "!Rscript /home/bryan/consenTRAIT/consenTRAIT.r -x 100 TEST TEST TEST\n",
    "\n"
   ]
  },
  {
   "cell_type": "code",
   "execution_count": 52,
   "metadata": {
    "collapsed": false
   },
   "outputs": [
    {
     "name": "stdout",
     "output_type": "stream",
     "text": [
      "Analyzing tree:  1 \n",
      "  Analyzing trait:  1 \n",
      "Assertion error: NAs present\n",
      "Assertion error: NAs present\n",
      "  Analyzing trait:  2 \n",
      "Bootstrapping in parallel\n",
      "Trait\ttau_D\tp-value \n",
      "t1\t0.112715012677683\t1 \n",
      "t2\t0.00819363764526652\t0.1 \n"
     ]
    }
   ],
   "source": [
    "#Running consenTRAIT with bootstrapping in parallel (4 cores)\n",
    "\n",
    "!Rscript /home/bryan/consenTRAIT/consenTRAIT.r -p 4 consentrait_TEST.nwk t1 consentrait_TEST.txt"
   ]
  }
 ],
 "metadata": {
  "anaconda-cloud": {},
  "hide_input": true,
  "kernelspec": {
   "display_name": "Python [default]",
   "language": "python",
   "name": "python2"
  },
  "language_info": {
   "codemirror_mode": {
    "name": "ipython",
    "version": 2
   },
   "file_extension": ".py",
   "mimetype": "text/x-python",
   "name": "python",
   "nbconvert_exporter": "python",
   "pygments_lexer": "ipython2",
   "version": "2.7.12"
  }
 },
 "nbformat": 4,
 "nbformat_minor": 0
}
