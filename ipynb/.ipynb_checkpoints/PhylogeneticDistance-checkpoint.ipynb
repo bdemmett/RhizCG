{
 "cells": [
  {
   "cell_type": "markdown",
   "metadata": {},
   "source": [
    "# Phylogenetic Distance Calculation from RhizCG 2013"
   ]
  },
  {
   "cell_type": "markdown",
   "metadata": {},
   "source": [
    "Notes: Calculate phylogenetic distance using phylogeny created from rbcL and matK in phylogenerator 20160209_phylogeny.tre.  "
   ]
  },
  {
   "cell_type": "code",
   "execution_count": 26,
   "metadata": {
    "collapsed": false
   },
   "outputs": [
    {
     "name": "stdout",
     "output_type": "stream",
     "text": [
      "The rpy2.ipython extension is already loaded. To reload it, use:\n",
      "  %reload_ext rpy2.ipython\n"
     ]
    }
   ],
   "source": [
    "%load_ext rpy2.ipython"
   ]
  },
  {
   "cell_type": "code",
   "execution_count": 40,
   "metadata": {
    "collapsed": false,
    "scrolled": false
   },
   "outputs": [
    {
     "name": "stderr",
     "output_type": "stream",
     "text": [
      "/opt/anaconda/lib/python2.7/site-packages/rpy2/robjects/functions.py:106: UserWarning: Loading required package: foreach\n",
      "\n",
      "  res = super(Function, self).__call__(*new_args, **new_kwargs)\n",
      "/opt/anaconda/lib/python2.7/site-packages/rpy2/robjects/functions.py:106: UserWarning: foreach: simple, scalable parallel programming from Revolution Analytics\n",
      "Use Revolution R for scalability, fault tolerance and more.\n",
      "http://www.revolutionanalytics.com\n",
      "\n",
      "  res = super(Function, self).__call__(*new_args, **new_kwargs)\n",
      "/opt/anaconda/lib/python2.7/site-packages/rpy2/robjects/functions.py:106: UserWarning: Loading required package: iterators\n",
      "\n",
      "  res = super(Function, self).__call__(*new_args, **new_kwargs)\n",
      "/opt/anaconda/lib/python2.7/site-packages/rpy2/robjects/functions.py:106: UserWarning: Loading required package: parallel\n",
      "\n",
      "  res = super(Function, self).__call__(*new_args, **new_kwargs)\n"
     ]
    }
   ],
   "source": [
    "%%R\n",
    "library(lme4)\n",
    "library(lmerTest)\n",
    "library(ggplot2)\n",
    "library(dplyr)\n",
    "library(pbkrtest)\n",
    "library(gridExtra)\n",
    "library(reshape2)\n",
    "library(picante)\n",
    "library(ape)\n",
    "library(phyloseq)\n",
    "library(doParallel)"
   ]
  },
  {
   "cell_type": "markdown",
   "metadata": {},
   "source": [
    "## Set file locations"
   ]
  },
  {
   "cell_type": "code",
   "execution_count": 28,
   "metadata": {
    "collapsed": true
   },
   "outputs": [],
   "source": [
    "%%R\n",
    "workDir = '/home/bryan/RhizCG/PhyDist/'\n",
    "treeFile = '/home/bryan/RhizCG/PhyDist/20160209_phylogeny.tre'\n"
   ]
  },
  {
   "cell_type": "markdown",
   "metadata": {},
   "source": [
    "### Read  master table "
   ]
  },
  {
   "cell_type": "code",
   "execution_count": 29,
   "metadata": {
    "collapsed": false
   },
   "outputs": [],
   "source": [
    "%%R \n",
    "setwd(workDir)\n",
    "phy = read.tree(treeFile)\n",
    "\n"
   ]
  },
  {
   "cell_type": "code",
   "execution_count": 30,
   "metadata": {
    "collapsed": false
   },
   "outputs": [
    {
     "data": {
      "image/png": "[encoded data removed]"
     },
     "metadata": {},
     "output_type": "display_data"
    }
   ],
   "source": [
    "%%R\n",
    "plot(phy)"
   ]
  },
  {
   "cell_type": "code",
   "execution_count": 31,
   "metadata": {
    "collapsed": false,
    "scrolled": true
   },
   "outputs": [
    {
     "data": {
      "text/plain": [
       "                       Fagopyrum_esculentum Amaranthus_viridis\n",
       "Fagopyrum_esculentum                0.00000            0.23210\n",
       "Amaranthus_viridis                  0.23210            0.00000\n",
       "Helianthus_annuus                   0.25302            0.20952\n",
       "Abutilon_theophrasti                0.27096            0.22746\n",
       "Glycine_max                         0.35879            0.31529\n",
       "Sorghum_bicolor                     0.43476            0.39126\n",
       "Zea_mays_B73                        0.43787            0.39437\n",
       "Echinochloa_crus-galli              0.43985            0.39635\n",
       "Setaria_italica                     0.43592            0.39242\n",
       "Eragrostis_tef                      0.44622            0.40272\n",
       "Eleusine_coracana                   0.44745            0.40395\n",
       "Ginkgo_biloba                       0.53719            0.49369\n",
       "                       Helianthus_annuus Abutilon_theophrasti Glycine_max\n",
       "Fagopyrum_esculentum             0.25302              0.27096     0.35879\n",
       "Amaranthus_viridis               0.20952              0.22746     0.31529\n",
       "Helianthus_annuus                0.00000              0.19116     0.27899\n",
       "Abutilon_theophrasti             0.19116              0.00000     0.24183\n",
       "Glycine_max                      0.27899              0.24183     0.00000\n",
       "Sorghum_bicolor                  0.35496              0.35370     0.44153\n",
       "Zea_mays_B73                     0.35807              0.35681     0.44464\n",
       "Echinochloa_crus-galli           0.36005              0.35879     0.44662\n",
       "Setaria_italica                  0.35612              0.35486     0.44269\n",
       "Eragrostis_tef                   0.36642              0.36516     0.45299\n",
       "Eleusine_coracana                0.36765              0.36639     0.45422\n",
       "Ginkgo_biloba                    0.45739              0.45613     0.54396\n",
       "                       Sorghum_bicolor Zea_mays_B73 Echinochloa_crus-galli\n",
       "Fagopyrum_esculentum           0.43476      0.43787                0.43985\n",
       "Amaranthus_viridis             0.39126      0.39437                0.39635\n",
       "Helianthus_annuus              0.35496      0.35807                0.36005\n",
       "Abutilon_theophrasti           0.35370      0.35681                0.35879\n",
       "Glycine_max                    0.44153      0.44464                0.44662\n",
       "Sorghum_bicolor                0.00000      0.01153                0.03193\n",
       "Zea_mays_B73                   0.01153      0.00000                0.03504\n",
       "Echinochloa_crus-galli         0.03193      0.03504                0.00000\n",
       "Setaria_italica                0.02800      0.03111                0.02517\n",
       "Eragrostis_tef                 0.04656      0.04967                0.05165\n",
       "Eleusine_coracana              0.04779      0.05090                0.05288\n",
       "Ginkgo_biloba                  0.53099      0.53410                0.53608\n",
       "                       Setaria_italica Eragrostis_tef Eleusine_coracana\n",
       "Fagopyrum_esculentum           0.43592        0.44622           0.44745\n",
       "Amaranthus_viridis             0.39242        0.40272           0.40395\n",
       "Helianthus_annuus              0.35612        0.36642           0.36765\n",
       "Abutilon_theophrasti           0.35486        0.36516           0.36639\n",
       "Glycine_max                    0.44269        0.45299           0.45422\n",
       "Sorghum_bicolor                0.02800        0.04656           0.04779\n",
       "Zea_mays_B73                   0.03111        0.04967           0.05090\n",
       "Echinochloa_crus-galli         0.02517        0.05165           0.05288\n",
       "Setaria_italica                0.00000        0.04772           0.04895\n",
       "Eragrostis_tef                 0.04772        0.00000           0.03561\n",
       "Eleusine_coracana              0.04895        0.03561           0.00000\n",
       "Ginkgo_biloba                  0.53215        0.54245           0.54368\n",
       "                       Ginkgo_biloba\n",
       "Fagopyrum_esculentum         0.53719\n",
       "Amaranthus_viridis           0.49369\n",
       "Helianthus_annuus            0.45739\n",
       "Abutilon_theophrasti         0.45613\n",
       "Glycine_max                  0.54396\n",
       "Sorghum_bicolor              0.53099\n",
       "Zea_mays_B73                 0.53410\n",
       "Echinochloa_crus-galli       0.53608\n",
       "Setaria_italica              0.53215\n",
       "Eragrostis_tef               0.54245\n",
       "Eleusine_coracana            0.54368\n",
       "Ginkgo_biloba                0.00000\n"
      ]
     },
     "metadata": {},
     "output_type": "display_data"
    }
   ],
   "source": [
    "%%R\n",
    "phy\n",
    "phydist = cophenetic.phylo(phy)\n",
    "phydist"
   ]
  },
  {
   "cell_type": "code",
   "execution_count": 32,
   "metadata": {
    "collapsed": false,
    "scrolled": true
   },
   "outputs": [
    {
     "data": {
      "text/plain": [
       "         FAGES   AMAPO   HELAN   ABUTH   GLYMA   SORBI     B73   ECHCG   SETFA\n",
       "FAGES  0.00000 0.23210 0.25302 0.27096 0.35879 0.43476 0.43787 0.43985 0.43592\n",
       "AMAPO  0.23210 0.00000 0.20952 0.22746 0.31529 0.39126 0.39437 0.39635 0.39242\n",
       "HELAN  0.25302 0.20952 0.00000 0.19116 0.27899 0.35496 0.35807 0.36005 0.35612\n",
       "ABUTH  0.27096 0.22746 0.19116 0.00000 0.24183 0.35370 0.35681 0.35879 0.35486\n",
       "GLYMA  0.35879 0.31529 0.27899 0.24183 0.00000 0.44153 0.44464 0.44662 0.44269\n",
       "SORBI  0.43476 0.39126 0.35496 0.35370 0.44153 0.00000 0.01153 0.03193 0.02800\n",
       "B73    0.43787 0.39437 0.35807 0.35681 0.44464 0.01153 0.00000 0.03504 0.03111\n",
       "ECHCG  0.43985 0.39635 0.36005 0.35879 0.44662 0.03193 0.03504 0.00000 0.02517\n",
       "SETFA  0.43592 0.39242 0.35612 0.35486 0.44269 0.02800 0.03111 0.02517 0.00000\n",
       "ERATE  0.44622 0.40272 0.36642 0.36516 0.45299 0.04656 0.04967 0.05165 0.04772\n",
       "ELCOR  0.44745 0.40395 0.36765 0.36639 0.45422 0.04779 0.05090 0.05288 0.04895\n",
       "Ginkgo 0.53719 0.49369 0.45739 0.45613 0.54396 0.53099 0.53410 0.53608 0.53215\n",
       "         ERATE   ELCOR  Ginkgo\n",
       "FAGES  0.44622 0.44745 0.53719\n",
       "AMAPO  0.40272 0.40395 0.49369\n",
       "HELAN  0.36642 0.36765 0.45739\n",
       "ABUTH  0.36516 0.36639 0.45613\n",
       "GLYMA  0.45299 0.45422 0.54396\n",
       "SORBI  0.04656 0.04779 0.53099\n",
       "B73    0.04967 0.05090 0.53410\n",
       "ECHCG  0.05165 0.05288 0.53608\n",
       "SETFA  0.04772 0.04895 0.53215\n",
       "ERATE  0.00000 0.03561 0.54245\n",
       "ELCOR  0.03561 0.00000 0.54368\n",
       "Ginkgo 0.54245 0.54368 0.00000\n"
      ]
     },
     "metadata": {},
     "output_type": "display_data"
    }
   ],
   "source": [
    "%%R\n",
    "colnames(phydist)\n",
    "colnames(phydist) = c(\"FAGES\", \"AMAPO\", \"HELAN\", \"ABUTH\", \"GLYMA\", \"SORBI\", \"B73\", \"ECHCG\",\n",
    "                     \"SETFA\", \"ERATE\", \"ELCOR\", \"Ginkgo\")\n",
    "rownames(phydist) = c(\"FAGES\", \"AMAPO\", \"HELAN\", \"ABUTH\", \"GLYMA\", \"SORBI\", \"B73\", \"ECHCG\",\n",
    "                     \"SETFA\", \"ERATE\", \"ELCOR\", \"Ginkgo\")\n",
    "phydist"
   ]
  },
  {
   "cell_type": "markdown",
   "metadata": {},
   "source": [
    "### Use melt to create a dataframe with species by species comparisons that will later be compared with plot by plot unifrac distances"
   ]
  },
  {
   "cell_type": "markdown",
   "metadata": {},
   "source": [
    "Notes: inefficient use of space, consider dropping records above the diagonal of the distance matrix"
   ]
  },
  {
   "cell_type": "code",
   "execution_count": 63,
   "metadata": {
    "collapsed": false,
    "scrolled": true
   },
   "outputs": [
    {
     "data": {
      "text/plain": [
       "  PlantA PlantB phy_Dist   PlantComp\n",
       "1  FAGES  FAGES  0.00000 FAGES-FAGES\n",
       "2  AMAPO  FAGES  0.23210 AMAPO-FAGES\n",
       "3  HELAN  FAGES  0.25302 HELAN-FAGES\n",
       "4  ABUTH  FAGES  0.27096 ABUTH-FAGES\n",
       "5  GLYMA  FAGES  0.35879 GLYMA-FAGES\n",
       "6  SORBI  FAGES  0.43476 SORBI-FAGES\n"
      ]
     },
     "metadata": {},
     "output_type": "display_data"
    }
   ],
   "source": [
    "%%R\n",
    "pd.m = melt(phydist)\n",
    "\n",
    "#set column names and create comparison column\n",
    "colnames(pd.m) = c(\"PlantA\", \"PlantB\", \"phy_Dist\")\n",
    "pd.m$PlantComp = paste(pd.m$PlantA, pd.m$PlantB, sep = \"-\")\n",
    "pd.m %>% head"
   ]
  },
  {
   "cell_type": "markdown",
   "metadata": {},
   "source": [
    "# Import phyloseq object and calculate unifrac distances"
   ]
  },
  {
   "cell_type": "code",
   "execution_count": 54,
   "metadata": {
    "collapsed": false
   },
   "outputs": [],
   "source": [
    "%%R\n",
    "F = file.path('/home/bryan/RhizCG/data/MiSeq_amplicon/MergedRuns/physeq/Full-Sparsity3in3_relabund')\n",
    "physeq.Full = readRDS(F)\n",
    "sd = sample_data(physeq.Full)"
   ]
  },
  {
   "cell_type": "code",
   "execution_count": 36,
   "metadata": {
    "collapsed": false,
    "scrolled": true
   },
   "outputs": [
    {
     "data": {
      "text/plain": [
       "phyloseq-class experiment-level object\n",
       "otu_table()   OTU Table:         [ 4982 taxa and 238 samples ]\n",
       "sample_data() Sample Data:       [ 238 samples by 49 sample variables ]\n",
       "tax_table()   Taxonomy Table:    [ 4982 taxa by 8 taxonomic ranks ]\n",
       "phy_tree()    Phylogenetic Tree: [ 4982 tips and 4981 internal nodes ]\n"
      ]
     },
     "metadata": {},
     "output_type": "display_data"
    }
   ],
   "source": [
    "%%R\n",
    "physeq.Full"
   ]
  },
  {
   "cell_type": "code",
   "execution_count": 55,
   "metadata": {
    "collapsed": false,
    "scrolled": false
   },
   "outputs": [
    {
     "data": {
      "text/plain": [
       " [1] \"X.sample\"            \"Library\"             \"Primer_Plate\"       \n",
       " [4] \"Primer_Well_ID\"      \"primerFR_ID_byPlate\" \"primerFR_ID_total\"  \n",
       " [7] \"barcode_ID\"          \"PlotID\"              \"Plant\"              \n",
       "[10] \"Plot\"                \"Treatment\"           \"Rep\"                \n",
       "[13] \"DAP\"                 \"Sampling\"            \"PlantSample\"        \n",
       "[16] \"Type\"                \"Grass_Broad\"         \"Status\"             \n",
       "[19] \"Subfamily\"           \"fwd_barcode\"         \"rev_barcode\"        \n",
       "[22] \"Planted\"             \"Biomass_P\"           \"SLA\"                \n",
       "[25] \"Leaf_N\"              \"Leaf_C\"              \"LeafC_N\"            \n",
       "[28] \"LNa\"                 \"Plant_N\"             \"Plant_C\"            \n",
       "[31] \"Plant_CN\"            \"d15N\"                \"tN_p\"               \n",
       "[34] \"BX_activity_g\"       \"CB_activity_g\"       \"LAP_activity_g\"     \n",
       "[37] \"NAG_activity_g\"      \"BX_rel\"              \"CB_rel\"             \n",
       "[40] \"LAP_rel\"             \"NAG_rel\"             \"NO3_ug_g\"           \n",
       "[43] \"NH4_ug_g\"            \"InorganicN\"          \"Resid_logB\"         \n",
       "[46] \"Resid_logN\"          \"Resid_logCN\"         \"Resid_logSLA\"       \n",
       "[49] \"Resid_LeafN\"        \n"
      ]
     },
     "metadata": {},
     "output_type": "display_data"
    }
   ],
   "source": [
    "%%R\n",
    "colnames(sd)"
   ]
  },
  {
   "cell_type": "markdown",
   "metadata": {},
   "source": [
    "## Calculate w-Unifrac distances"
   ]
  },
  {
   "cell_type": "code",
   "execution_count": 41,
   "metadata": {
    "collapsed": false
   },
   "outputs": [],
   "source": [
    "%%R\n",
    "registerDoParallel(cores=28)\n",
    "wunif.dist = distance(physeq.Full, \n",
    "                      method = \"unifrac\", \n",
    "                      weighted = TRUE,\n",
    "                      fast = TRUE, \n",
    "                      parallel = TRUE, \n",
    "                      normalized = FALSE)"
   ]
  },
  {
   "cell_type": "code",
   "execution_count": 48,
   "metadata": {
    "collapsed": false
   },
   "outputs": [
    {
     "data": {
      "text/plain": [
       "                  sample2-1.06_Npos sample6-4.27_Npos sample4-4.27_Nneg\n",
       "sample2-1.06_Npos        0.00000000        0.07399006        0.06486116\n",
       "sample6-4.27_Npos        0.07399006        0.00000000        0.08822335\n",
       "sample4-4.27_Nneg        0.06486116        0.08822335        0.00000000\n",
       "sample4-1.06_Nneg        0.06544986        0.06626713        0.08376789\n",
       "sample2-1.06_Nneg        0.05870261        0.08885928        0.08605459\n",
       "sample6-3.07_Nneg        0.06981394        0.06301241        0.06546120\n",
       "                  sample4-1.06_Nneg sample2-1.06_Nneg sample6-3.07_Nneg\n",
       "sample2-1.06_Npos        0.06544986        0.05870261        0.06981394\n",
       "sample6-4.27_Npos        0.06626713        0.08885928        0.06301241\n",
       "sample4-4.27_Nneg        0.08376789        0.08605459        0.06546120\n",
       "sample4-1.06_Nneg        0.00000000        0.07946033        0.08181385\n",
       "sample2-1.06_Nneg        0.07946033        0.00000000        0.08629292\n",
       "sample6-3.07_Nneg        0.08181385        0.08629292        0.00000000\n",
       "                  sample5-3.07_Nneg sample6-3.07_Npos sample3-3.07_Npos\n",
       "sample2-1.06_Npos        0.09022683        0.08486389        0.08997614\n",
       "sample6-4.27_Npos        0.06123174        0.05219750        0.05858119\n",
       "sample4-4.27_Nneg        0.09732141        0.10072995        0.10072959\n",
       "sample4-1.06_Nneg        0.09324607        0.07941507        0.08243265\n",
       "sample2-1.06_Nneg        0.09932705        0.09574894        0.09884172\n",
       "sample6-3.07_Nneg        0.05782945        0.06160566        0.07487525\n",
       "                  sample5-1.22_Nneg sample6-4.12_Npos sample1-4.27_Npos\n",
       "sample2-1.06_Npos         0.2171879         0.2075638        0.06067098\n",
       "sample6-4.27_Npos         0.2058073         0.2018097        0.06957438\n",
       "sample4-4.27_Nneg         0.2239074         0.2038320        0.06220569\n",
       "sample4-1.06_Nneg         0.2156364         0.2093254        0.05996097\n",
       "sample2-1.06_Nneg         0.2076514         0.2147690        0.06495171\n",
       "sample6-3.07_Nneg         0.2183143         0.2095001        0.06785633\n",
       "                  sample4-1.03_Npos sample5-2.06_Npos sample5-4.08_Npos\n",
       "sample2-1.06_Npos         0.2523747         0.2072280         0.2194016\n",
       "sample6-4.27_Npos         0.2537090         0.2001769         0.2150807\n",
       "sample4-4.27_Nneg         0.2618956         0.2211201         0.2297768\n",
       "sample4-1.06_Nneg         0.2532590         0.2076902         0.2222008\n",
       "sample2-1.06_Nneg         0.2408036         0.2042098         0.2162081\n",
       "sample6-3.07_Nneg         0.2653745         0.2218599         0.2317753\n",
       "                  sample4-3.07_Nneg sample5-4.28_Npos sample6-1.06_Npos\n",
       "sample2-1.06_Npos        0.04954420         0.1748432        0.07661342\n",
       "sample6-4.27_Npos        0.06405039         0.1673740        0.08343259\n",
       "sample4-4.27_Nneg        0.06873143         0.1933895        0.06184205\n",
       "sample4-1.06_Nneg        0.07547065         0.1832639        0.08801668\n",
       "sample2-1.06_Nneg        0.07919771         0.1689202        0.10391699\n",
       "sample6-3.07_Nneg        0.05356039         0.1866859        0.05431033\n",
       "                  sample4-2.05_Nneg sample2-4.27_Nneg sample1-2.05_Nneg\n",
       "sample2-1.06_Npos        0.07227855        0.08340522        0.07356890\n",
       "sample6-4.27_Npos        0.08415235        0.09160567        0.10493406\n",
       "sample4-4.27_Nneg        0.06961830        0.10057508        0.05857727\n",
       "sample4-1.06_Nneg        0.06045119        0.07818505        0.08222593\n",
       "sample2-1.06_Nneg        0.08260237        0.06798395        0.09547631\n",
       "sample6-3.07_Nneg        0.08407220        0.10325621        0.08771705\n",
       "                  sample5-1.29_Npos sample5-4.27_Npos sample5-4.27_Nneg\n",
       "sample2-1.06_Npos         0.3429465        0.07058201        0.07626305\n",
       "sample6-4.27_Npos         0.3206972        0.05916409        0.05336896\n",
       "sample4-4.27_Nneg         0.3491619        0.07806768        0.07765481\n",
       "sample4-1.06_Nneg         0.3248151        0.08270668        0.07435848\n",
       "sample2-1.06_Nneg         0.3332718        0.08189132        0.08781623\n",
       "sample6-3.07_Nneg         0.3469706        0.05161372        0.06465726\n",
       "                  sample1-3.07_Nneg sample4-2.02_Nneg sample4-4.21_Nneg\n",
       "sample2-1.06_Npos        0.06760982         0.2606713         0.1979763\n",
       "sample6-4.27_Npos        0.06388475         0.2454928         0.1999878\n",
       "sample4-4.27_Nneg        0.08189172         0.2655470         0.2128766\n",
       "sample4-1.06_Nneg        0.05463445         0.2576603         0.2057646\n",
       "sample2-1.06_Nneg        0.08753893         0.2605054         0.1920189\n",
       "sample6-3.07_Nneg        0.06689620         0.2630169         0.2098670\n",
       "                  sample2-2.05_Nneg sample6-2.13_Npos sample5-2.29_Nneg\n",
       "sample2-1.06_Npos         0.1369815         0.2537238         0.1977217\n",
       "sample6-4.27_Npos         0.1421657         0.2450986         0.1901957\n",
       "sample4-4.27_Nneg         0.1443868         0.2643728         0.2105535\n",
       "sample4-1.06_Nneg         0.1260788         0.2499388         0.1946151\n",
       "sample2-1.06_Nneg         0.1309260         0.2468966         0.1899349\n",
       "sample6-3.07_Nneg         0.1607438         0.2661213         0.2149628\n",
       "                  sample5-2.06_Nneg sample1-2.23_Nneg sample6-2.26_Nneg\n",
       "sample2-1.06_Npos         0.2162396         0.1593150         0.2287971\n",
       "sample6-4.27_Npos         0.2071485         0.1401908         0.2335139\n",
       "sample4-4.27_Nneg         0.2242636         0.1768188         0.2338989\n",
       "sample4-1.06_Nneg         0.2064184         0.1568655         0.2202129\n",
       "sample2-1.06_Nneg         0.2149286         0.1496635         0.2204947\n",
       "sample6-3.07_Nneg         0.2261283         0.1572448         0.2473861\n",
       "                  sample6-3.18_Nneg sample5-3.13_Nneg sample2-2.08_Nneg\n",
       "sample2-1.06_Npos         0.2463603         0.1971613         0.2987302\n",
       "sample6-4.27_Npos         0.2423597         0.1929098         0.2786218\n",
       "sample4-4.27_Nneg         0.2512281         0.2060443         0.3039645\n",
       "sample4-1.06_Nneg         0.2484816         0.1948132         0.2834333\n",
       "sample2-1.06_Nneg         0.2464897         0.1995029         0.2888360\n",
       "sample6-3.07_Nneg         0.2576975         0.2086621         0.3031784\n",
       "                  sample1-2.05_Npos sample3-2.05_Nneg sample5-1.17_Nneg\n",
       "sample2-1.06_Npos        0.09132960        0.04886843         0.1376221\n",
       "sample6-4.27_Npos        0.11907722        0.06869270         0.1493110\n",
       "sample4-4.27_Nneg        0.07249418        0.06613365         0.1415374\n",
       "sample4-1.06_Nneg        0.09636972        0.07124645         0.1519067\n",
       "sample2-1.06_Nneg        0.10999675        0.06286994         0.1505111\n",
       "sample6-3.07_Nneg        0.10797537        0.06705735         0.1429751\n",
       "                  sample6-3.01_Npos sample3-2.03_Nneg sample5-4.08_Nneg\n",
       "sample2-1.06_Npos         0.2224270         0.3864695         0.2125014\n",
       "sample6-4.27_Npos         0.2116529         0.3640895         0.2160675\n",
       "sample4-4.27_Nneg         0.2333102         0.3936263         0.2226076\n",
       "sample4-1.06_Nneg         0.2216811         0.3678351         0.2161136\n",
       "sample2-1.06_Nneg         0.2189021         0.3773860         0.2114269\n",
       "sample6-3.07_Nneg         0.2332847         0.3835134         0.2291253\n",
       "                  sample5-4.05_Npos sample5-1.06_Npos sample1-4.27_Nneg\n",
       "sample2-1.06_Npos         0.2700954        0.09909527        0.06058330\n",
       "sample6-4.27_Npos         0.2776644        0.08765293        0.06118913\n",
       "sample4-4.27_Nneg         0.2679987        0.10280580        0.06958142\n",
       "sample4-1.06_Nneg         0.2741491        0.09873951        0.05472548\n",
       "sample2-1.06_Nneg         0.2781344        0.09248864        0.07152623\n",
       "sample6-3.07_Nneg         0.2826181        0.08524264        0.06839655\n",
       "                  sample6-2.16_Npos sample1-4.24_Nneg sample5-4.28_Nneg\n",
       "sample2-1.06_Npos         0.2511508         0.1568655         0.2141062\n",
       "sample6-4.27_Npos         0.2514970         0.1407797         0.2062930\n",
       "sample4-4.27_Nneg         0.2622880         0.1751409         0.2333937\n",
       "sample4-1.06_Nneg         0.2450380         0.1580243         0.2195967\n",
       "sample2-1.06_Nneg         0.2417160         0.1550340         0.2066814\n",
       "sample6-3.07_Nneg         0.2676905         0.1486662         0.2233170\n",
       "                  sample6-2.13_Nneg sample1-3.08_Npos sample6-3.04_Npos\n",
       "sample2-1.06_Npos         0.2355059         0.1802792         0.2471779\n",
       "sample6-4.27_Npos         0.2408022         0.1645737         0.2371371\n",
       "sample4-4.27_Nneg         0.2388105         0.1952616         0.2581210\n",
       "sample4-1.06_Nneg         0.2413657         0.1774301         0.2432974\n",
       "sample2-1.06_Nneg         0.2300203         0.1662892         0.2462389\n",
       "sample6-3.07_Nneg         0.2536955         0.1740482         0.2575807\n",
       "                  sample6-1.06_Nneg sample4-1.03_Nneg sample5-1.22_Npos\n",
       "sample2-1.06_Npos        0.09444702         0.2261944         0.3072326\n",
       "sample6-4.27_Npos        0.11338536         0.2183504         0.2912199\n",
       "sample4-4.27_Nneg        0.09559277         0.2287769         0.3111559\n",
       "sample4-1.06_Nneg        0.12161558         0.2240288         0.2889577\n",
       "sample2-1.06_Nneg        0.11794219         0.2235912         0.2972107\n",
       "sample6-3.07_Nneg        0.08198950         0.2262887         0.3121955\n",
       "                  sample6-1.15_Nneg sample2-2.05_Npos sample2-4.27_Npos\n",
       "sample2-1.06_Npos         0.2426622        0.08330084        0.07266648\n",
       "sample6-4.27_Npos         0.2483879        0.10599375        0.09250109\n",
       "sample4-4.27_Nneg         0.2395706        0.07955522        0.08356949\n",
       "sample4-1.06_Nneg         0.2412020        0.08614632        0.07962353\n",
       "sample2-1.06_Nneg         0.2372821        0.09929230        0.07093994\n",
       "sample6-3.07_Nneg         0.2547282        0.10437981        0.09595777\n",
       "                  sample5-2.11_Nneg sample4-4.21_Npos sample6-4.12_Nneg\n",
       "sample2-1.06_Npos         0.1612589         0.2743500         0.1948700\n",
       "sample6-4.27_Npos         0.1672239         0.2624333         0.1847822\n",
       "sample4-4.27_Nneg         0.1783463         0.2846796         0.2046891\n",
       "sample4-1.06_Nneg         0.1616891         0.2723733         0.1897575\n",
       "sample2-1.06_Nneg         0.1604824         0.2743343         0.1940217\n",
       "sample6-3.07_Nneg         0.1907687         0.2788269         0.2015968\n",
       "                  sample5-1.25_Nneg sample6-4.17_Npos sample3-1.06_Npos\n",
       "sample2-1.06_Npos         0.2855596         0.2510800        0.08649944\n",
       "sample6-4.27_Npos         0.2641261         0.2344186        0.13003888\n",
       "sample4-4.27_Nneg         0.2886329         0.2584746        0.10952315\n",
       "sample4-1.06_Nneg         0.2718224         0.2435794        0.10173349\n",
       "sample2-1.06_Nneg         0.2821549         0.2511293        0.06955155\n",
       "sample6-3.07_Nneg         0.2812227         0.2501838        0.12789013\n",
       "                  sample6-3.04_Nneg sample5-3.27_Nneg sample6-1.15_Npos\n",
       "sample2-1.06_Npos         0.2497719         0.1990459         0.2748541\n",
       "sample6-4.27_Npos         0.2521266         0.1979872         0.2787125\n",
       "sample4-4.27_Nneg         0.2532098         0.2116601         0.2744382\n",
       "sample4-1.06_Nneg         0.2503540         0.2016934         0.2722846\n",
       "sample2-1.06_Nneg         0.2421515         0.1983676         0.2697175\n",
       "sample6-3.07_Nneg         0.2672233         0.2122310         0.2863807\n",
       "                  sample5-3.11_Nneg sample5-2.11_Npos sample4-3.07_Npos\n",
       "sample2-1.06_Npos         0.2535529         0.1975661        0.08143400\n",
       "sample6-4.27_Npos         0.2359492         0.2011779        0.08658653\n",
       "sample4-4.27_Nneg         0.2683246         0.2073710        0.05803532\n",
       "sample4-1.06_Nneg         0.2500738         0.1965906        0.08634522\n",
       "sample2-1.06_Nneg         0.2424663         0.1954027        0.10357340\n",
       "sample6-3.07_Nneg         0.2561310         0.2152148        0.05986403\n",
       "                  sample5-3.17_Npos sample5-3.07_Npos sample5-1.17_Npos\n",
       "sample2-1.06_Npos         0.2767049        0.07894154         0.2381471\n",
       "sample6-4.27_Npos         0.2594404        0.08728819         0.2252744\n",
       "sample4-4.27_Nneg         0.2867943        0.08221091         0.2427796\n",
       "sample4-1.06_Nneg         0.2602519        0.09874242         0.2238319\n",
       "sample2-1.06_Nneg         0.2644522        0.09091727         0.2326369\n",
       "sample6-3.07_Nneg         0.2791408        0.05512989         0.2448703\n",
       "                  sample3-3.06_Nneg sample3-2.05_Npos sample2-3.05_Nneg\n",
       "sample2-1.06_Npos         0.3124994        0.07012592         0.3145824\n",
       "sample6-4.27_Npos         0.3089824        0.09488008         0.2980167\n",
       "sample4-4.27_Nneg         0.3042571        0.06095663         0.3210500\n",
       "sample4-1.06_Nneg         0.2968317        0.07024893         0.2983227\n",
       "sample2-1.06_Nneg         0.3067657        0.08654883         0.3051870\n",
       "sample6-3.07_Nneg         0.3178358        0.08128854         0.3204364\n",
       "                  sample6-4.27_Nneg sample6-1.07_Npos sample5-3.13_Npos\n",
       "sample2-1.06_Npos        0.05556013         0.2465230         0.2204861\n",
       "sample6-4.27_Npos        0.07458430         0.2545880         0.2060373\n",
       "sample4-4.27_Nneg        0.05625820         0.2466421         0.2312294\n",
       "sample4-1.06_Nneg        0.07146518         0.2410585         0.2114594\n",
       "sample2-1.06_Nneg        0.07725252         0.2453584         0.2170455\n",
       "sample6-3.07_Nneg        0.06953691         0.2629631         0.2316067\n",
       "                  sample5-1.06_Nneg sample3-4.27_Nneg sample5-4.09_Npos\n",
       "sample2-1.06_Npos        0.09481378        0.06270043         0.2220876\n",
       "sample6-4.27_Npos        0.09042168        0.06130268         0.2149957\n",
       "sample4-4.27_Nneg        0.10219807        0.06485955         0.2307684\n",
       "sample4-1.06_Nneg        0.10877171        0.06487080         0.2266520\n",
       "sample2-1.06_Nneg        0.09582872        0.07669289         0.2184772\n",
       "sample6-3.07_Nneg        0.08260264        0.07479838         0.2294410\n",
       "                  sample6-4.30_Npos sample6-1.12_Npos sample6-3.18_Npos\n",
       "sample2-1.06_Npos         0.3238732         0.3322744         0.2844701\n",
       "sample6-4.27_Npos         0.2984684         0.3221301         0.2625180\n",
       "sample4-4.27_Nneg         0.3308567         0.3296394         0.2963322\n",
       "sample4-1.06_Nneg         0.3155847         0.3239060         0.2787880\n",
       "sample2-1.06_Nneg         0.3310390         0.3294277         0.2838816\n",
       "sample6-3.07_Nneg         0.3200462         0.3384783         0.2871950\n",
       "                  sample1-4.24_Npos sample3-3.06_Npos sample5-4.06_Nneg\n",
       "sample2-1.06_Npos         0.1842246         0.4977471         0.1602848\n",
       "sample6-4.27_Npos         0.1635795         0.4751933         0.1448886\n",
       "sample4-4.27_Nneg         0.1990948         0.5036077         0.1727967\n",
       "sample4-1.06_Nneg         0.1885402         0.4774598         0.1672983\n",
       "sample2-1.06_Nneg         0.1848169         0.4863504         0.1575669\n",
       "sample6-3.07_Nneg         0.1750528         0.4947263         0.1544796\n",
       "                  sample6-4.17_Nneg sample5-3.11_Npos sample5-3.16_Npos\n",
       "sample2-1.06_Npos         0.2250701         0.2003361         0.2586420\n",
       "sample6-4.27_Npos         0.2084931         0.1772163         0.2812999\n",
       "sample4-4.27_Nneg         0.2352115         0.2091305         0.2573826\n",
       "sample4-1.06_Nneg         0.2129807         0.1916069         0.2643262\n",
       "sample2-1.06_Nneg         0.2241588         0.1918687         0.2594913\n",
       "sample6-3.07_Nneg         0.2297143         0.1927836         0.2838599\n",
       "                  sample5-2.05_Nneg sample3-3.07_Nneg sample1-1.27_Npos\n",
       "sample2-1.06_Npos        0.08037726        0.07584597         0.2038798\n",
       "sample6-4.27_Npos        0.07815002        0.08487007         0.1947115\n",
       "sample4-4.27_Nneg        0.08396571        0.05546493         0.2132806\n",
       "sample4-1.06_Nneg        0.08475321        0.07632768         0.2030821\n",
       "sample2-1.06_Nneg        0.08061697        0.09196467         0.1954318\n",
       "sample6-3.07_Nneg        0.06928467        0.07956469         0.2117223\n",
       "                  sample5-4.05_Nneg sample5-1.25_Npos sample6-1.07_Nneg\n",
       "sample2-1.06_Npos         0.1650039         0.3144120         0.2859877\n",
       "sample6-4.27_Npos         0.1794481         0.2949921         0.2875184\n",
       "sample4-4.27_Nneg         0.1758811         0.3129734         0.2866391\n",
       "sample4-1.06_Nneg         0.1719778         0.3012568         0.2838323\n",
       "sample2-1.06_Nneg         0.1766396         0.3138697         0.2804664\n",
       "sample6-3.07_Nneg         0.1906385         0.3056772         0.2999356\n",
       "                  sample5-2.18_Nneg sample6-2.26_Npos sample6-2.05_Nneg\n",
       "sample2-1.06_Npos         0.2671877         0.3145442        0.06575708\n",
       "sample6-4.27_Npos         0.2417328         0.3041289        0.07694256\n",
       "sample4-4.27_Nneg         0.2777629         0.3172942        0.05887784\n",
       "sample4-1.06_Nneg         0.2585104         0.3096115        0.08386470\n",
       "sample2-1.06_Nneg         0.2613897         0.3046103        0.08603146\n",
       "sample6-3.07_Nneg         0.2676237         0.3244514        0.05165931\n",
       "                  sample2-3.07_Nneg sample5-3.16_Nneg sample5-4.06_Npos\n",
       "sample2-1.06_Npos        0.06751785         0.2571356         0.1481560\n",
       "sample6-4.27_Npos        0.05798041         0.2649282         0.1318368\n",
       "sample4-4.27_Nneg        0.08823508         0.2667405         0.1671632\n",
       "sample4-1.06_Nneg        0.06799823         0.2529935         0.1660926\n",
       "sample2-1.06_Nneg        0.08385641         0.2532396         0.1493660\n",
       "sample6-3.07_Nneg        0.06469596         0.2821215         0.1379411\n",
       "                  sample3-1.09_Npos sample3-4.15_Nneg sample1-3.07_Npos\n",
       "sample2-1.06_Npos         0.2798342         0.2907856        0.07479075\n",
       "sample6-4.27_Npos         0.2812400         0.2861863        0.10689725\n",
       "sample4-4.27_Nneg         0.2817387         0.2977345        0.06509479\n",
       "sample4-1.06_Nneg         0.2658788         0.2765551        0.08159478\n",
       "sample2-1.06_Nneg         0.2662144         0.2786463        0.09566369\n",
       "sample6-3.07_Nneg         0.2973967         0.3036700        0.08637704\n",
       "                  sample5-2.15_Npos sample4-2.05_Npos sample6-4.30_Nneg\n",
       "sample2-1.06_Npos         0.1880226        0.06295304         0.3212677\n",
       "sample6-4.27_Npos         0.1753445        0.07243623         0.3099206\n",
       "sample4-4.27_Nneg         0.1924515        0.06497622         0.3296339\n",
       "sample4-1.06_Nneg         0.1818049        0.06614142         0.3199831\n",
       "sample2-1.06_Nneg         0.1855481        0.08661589         0.3175821\n",
       "sample6-3.07_Nneg         0.1892908        0.06429170         0.3286921\n",
       "                  sample5-3.27_Npos sample2-3.07_Npos sample6-1.12_Nneg\n",
       "sample2-1.06_Npos         0.1883388        0.07280745         0.3170331\n",
       "sample6-4.27_Npos         0.1862665        0.07994828         0.3127814\n",
       "sample4-4.27_Nneg         0.1970095        0.06548934         0.3173983\n",
       "sample4-1.06_Nneg         0.1860151        0.07907207         0.3165563\n",
       "sample2-1.06_Nneg         0.1868634        0.09178604         0.3096800\n",
       "sample6-3.07_Nneg         0.1966619        0.07030914         0.3269585\n",
       "                  sample4-3.10_Npos sample6-2.16_Nneg sample5-3.17_Nneg\n",
       "sample2-1.06_Npos         0.1884960         0.2579218         0.2792198\n",
       "sample6-4.27_Npos         0.1790362         0.2658251         0.2626225\n",
       "sample4-4.27_Nneg         0.1956589         0.2608579         0.2917741\n",
       "sample4-1.06_Nneg         0.1833741         0.2538209         0.2752018\n",
       "sample2-1.06_Nneg         0.1857206         0.2542890         0.2761835\n",
       "sample6-3.07_Nneg         0.1836860         0.2815866         0.2833829\n",
       "                  sample5-1.16_Npos sample3-2.03_Npos sample1-2.23_Npos\n",
       "sample2-1.06_Npos         0.2266824         0.2795170         0.1400953\n",
       "sample6-4.27_Npos         0.2415147         0.2844663         0.1298296\n",
       "sample4-4.27_Nneg         0.2126916         0.2870258         0.1544604\n",
       "sample4-1.06_Nneg         0.2221030         0.2750048         0.1446621\n",
       "sample2-1.06_Nneg         0.2343059         0.2712764         0.1386230\n",
       "sample6-3.07_Nneg         0.2391394         0.2979245         0.1412311\n",
       "                  sample5-4.09_Nneg sample2-2.08_Npos sample2-3.05_Npos\n",
       "sample2-1.06_Npos         0.2330466         0.2597080         0.2383233\n",
       "sample6-4.27_Npos         0.2255551         0.2516134         0.2233533\n",
       "sample4-4.27_Nneg         0.2465221         0.2660220         0.2445469\n",
       "sample4-1.06_Nneg         0.2374263         0.2486867         0.2158254\n",
       "sample2-1.06_Nneg         0.2302812         0.2470687         0.2287605\n",
       "sample6-3.07_Nneg         0.2372419         0.2735983         0.2453981\n",
       "                  sample2-1.08_Nneg sample3-4.15_Npos sample6-3.01_Nneg\n",
       "sample2-1.06_Npos         0.3554835         0.4037199         0.1943858\n",
       "sample6-4.27_Npos         0.3462320         0.3816397         0.1932893\n",
       "sample4-4.27_Nneg         0.3640971         0.4119243         0.1944611\n",
       "sample4-1.06_Nneg         0.3457005         0.3875433         0.1948140\n",
       "sample2-1.06_Nneg         0.3462198         0.3967755         0.1909109\n",
       "sample6-3.07_Nneg         0.3655593         0.4048280         0.2032576\n",
       "                  sample5-1.16_Nneg sample2-1.08_Npos sample1-1.27_Nneg\n",
       "sample2-1.06_Npos         0.2462714         0.3688834         0.1884752\n",
       "sample6-4.27_Npos         0.2660344         0.3524042         0.1773635\n",
       "sample4-4.27_Nneg         0.2533188         0.3734680         0.2039208\n",
       "sample4-1.06_Nneg         0.2516374         0.3483996         0.1907943\n",
       "sample2-1.06_Nneg         0.2471871         0.3572058         0.1746466\n",
       "sample6-3.07_Nneg         0.2702125         0.3735578         0.1803999\n",
       "                  sample4-3.10_Nneg sample5-1.29_Nneg sample4-2.02_Npos\n",
       "sample2-1.06_Npos         0.2349031         0.2546757         0.2455230\n",
       "sample6-4.27_Npos         0.2300956         0.2387309         0.2366115\n",
       "sample4-4.27_Nneg         0.2473768         0.2622901         0.2567941\n",
       "sample4-1.06_Nneg         0.2346534         0.2433619         0.2447576\n",
       "sample2-1.06_Nneg         0.2313730         0.2463804         0.2445169\n",
       "sample6-3.07_Nneg         0.2473057         0.2599055         0.2552728\n",
       "                  sample5-2.15_Nneg sample1-3.08_Nneg sample3-1.09_Nneg\n",
       "sample2-1.06_Npos         0.2289509         0.1698306         0.3024382\n",
       "sample6-4.27_Npos         0.2090500         0.1467708         0.3014031\n",
       "sample4-4.27_Nneg         0.2359600         0.1843622         0.3050543\n",
       "sample4-1.06_Nneg         0.2159846         0.1611239         0.2931972\n",
       "sample2-1.06_Nneg         0.2265373         0.1631042         0.2921027\n",
       "sample6-3.07_Nneg         0.2303614         0.1615712         0.3139750\n",
       "                  sample2-4.25_Nneg sample5-2.18_Npos sample5-2.29_Npos\n",
       "sample2-1.06_Npos         0.3286745         0.2140354         0.2078450\n",
       "sample6-4.27_Npos         0.3095662         0.2048502         0.1973479\n",
       "sample4-4.27_Nneg         0.3339156         0.2279904         0.2182368\n",
       "sample4-1.06_Nneg         0.3110054         0.2184900         0.2041272\n",
       "sample2-1.06_Nneg         0.3198496         0.2045556         0.1999085\n",
       "sample6-3.07_Nneg         0.3330717         0.2248245         0.2159177\n",
       "                  sample2-4.25_Npos sample7-1.13_Npos sample7-4.02_Npos\n",
       "sample2-1.06_Npos         0.2972443         0.2777533         0.2669611\n",
       "sample6-4.27_Npos         0.2776604         0.2963337         0.2796671\n",
       "sample4-4.27_Nneg         0.3034791         0.2817874         0.2774126\n",
       "sample4-1.06_Nneg         0.2805503         0.2792918         0.2728182\n",
       "sample2-1.06_Nneg         0.2906741         0.2666766         0.2579146\n",
       "sample6-3.07_Nneg         0.2993370         0.3059096         0.2960895\n",
       "                  sample8-2.07_Nneg sample7-4.02_Nneg sample3-1.20_Npos\n",
       "sample2-1.06_Npos         0.2174129         0.2989205         0.1643180\n",
       "sample6-4.27_Npos         0.2197075         0.3069775         0.1668818\n",
       "sample4-4.27_Nneg         0.2173009         0.3020394         0.1622036\n",
       "sample4-1.06_Nneg         0.2253171         0.2978680         0.1686452\n",
       "sample2-1.06_Nneg         0.2117783         0.2956184         0.1573798\n",
       "sample6-3.07_Nneg         0.2336481         0.3184558         0.1758735\n",
       "                  sample8-4.27_Npos sample5-2.05_Npos sample7-1.04_Npos\n",
       "sample2-1.06_Npos        0.10088445         0.1221006         0.2350873\n",
       "sample6-4.27_Npos        0.10952681         0.1225115         0.2475438\n",
       "sample4-4.27_Nneg        0.10007981         0.1316928         0.2384842\n",
       "sample4-1.06_Nneg        0.12461600         0.1160690         0.2373844\n",
       "sample2-1.06_Nneg        0.11150182         0.1071581         0.2266363\n",
       "sample6-3.07_Nneg        0.09581522         0.1355272         0.2618798\n",
       "                  sample8-4.23_Nneg sample4-4.27_Npos sample7-3.19_Nneg\n",
       "sample2-1.06_Npos         0.2268084        0.09111335         0.2518967\n",
       "sample6-4.27_Npos         0.2380225        0.10707856         0.2623570\n",
       "sample4-4.27_Nneg         0.2313991        0.08716839         0.2561491\n",
       "sample4-1.06_Nneg         0.2345501        0.09482830         0.2561633\n",
       "sample2-1.06_Nneg         0.2192651        0.09462743         0.2452494\n",
       "sample6-3.07_Nneg         0.2493082        0.10259917         0.2809041\n",
       "                  sample7-1.06_Nneg sample7-4.03_Npos sample8-1.14_Npos\n",
       "sample2-1.06_Npos        0.09220529         0.3081826         0.2473786\n",
       "sample6-4.27_Npos        0.10321992         0.3211606         0.2458167\n",
       "sample4-4.27_Nneg        0.09791869         0.3055099         0.2594477\n",
       "sample4-1.06_Nneg        0.11154799         0.3079984         0.2507557\n",
       "sample2-1.06_Nneg        0.10818474         0.3013355         0.2419091\n",
       "sample6-3.07_Nneg        0.08674270         0.3265992         0.2634155\n",
       "                  sample7-2.12_Npos sample3-1.06_Nneg sample3-4.18_Nneg\n",
       "sample2-1.06_Npos         0.3378599        0.10000901         0.3315926\n",
       "sample6-4.27_Npos         0.3406621        0.12447849         0.3252743\n",
       "sample4-4.27_Nneg         0.3489903        0.10601664         0.3351429\n",
       "sample4-1.06_Nneg         0.3250880        0.10506145         0.3169289\n",
       "sample2-1.06_Nneg         0.3248919        0.09801942         0.3185278\n",
       "sample6-3.07_Nneg         0.3647681        0.11910531         0.3376914\n",
       "                  sample8-3.28_Npos sample6-1.18_Nneg sample7-2.12_Nneg\n",
       "sample2-1.06_Npos         0.2069346         0.2748371         0.2951413\n",
       "sample6-4.27_Npos         0.2009055         0.2762018         0.3103765\n",
       "sample4-4.27_Nneg         0.2163516         0.2709872         0.3046593\n",
       "sample4-1.06_Nneg         0.2044976         0.2782535         0.2931347\n",
       "sample2-1.06_Nneg         0.1975393         0.2729494         0.2829768\n",
       "sample6-3.07_Nneg         0.2240661         0.2876679         0.3221057\n",
       "                  sample7-2.28_Nneg sample2-2.10_Nneg sample8-2.17_Npos\n",
       "sample2-1.06_Npos         0.2710512         0.3290095         0.2610124\n",
       "sample6-4.27_Npos         0.2888856         0.3209349         0.2606474\n",
       "sample4-4.27_Nneg         0.2763728         0.3300116         0.2619964\n",
       "sample4-1.06_Nneg         0.2717571         0.3278198         0.2623047\n",
       "sample2-1.06_Nneg         0.2694319         0.3273803         0.2545195\n",
       "sample6-3.07_Nneg         0.2970694         0.3342285         0.2766535\n",
       "                  sample3-2.19_Npos sample8-2.25_Nneg sample6-3.09_Nneg\n",
       "sample2-1.06_Npos         0.2770850         0.2344228         0.1486969\n",
       "sample6-4.27_Npos         0.2633044         0.2282552         0.1469109\n",
       "sample4-4.27_Nneg         0.2872925         0.2388020         0.1436968\n",
       "sample4-1.06_Nneg         0.2680227         0.2343350         0.1552289\n",
       "sample2-1.06_Nneg         0.2651900         0.2269300         0.1592330\n",
       "sample6-3.07_Nneg         0.2854777         0.2474222         0.1490086\n",
       "                  sample8-2.05_Nneg sample4-1.06_Npos sample2-3.20_Npos\n",
       "sample2-1.06_Npos        0.10127270        0.09730456         0.2927121\n",
       "sample6-4.27_Npos        0.09381212        0.11543893         0.2758059\n",
       "sample4-4.27_Nneg        0.09971692        0.09650068         0.2996452\n",
       "sample4-1.06_Nneg        0.11050791        0.10350718         0.2795030\n",
       "sample2-1.06_Nneg        0.10515023        0.10521148         0.2838381\n",
       "sample6-3.07_Nneg        0.08849254        0.10318359         0.2995123\n",
       "                  sample6-2.05_Npos sample2-3.20_Nneg sample8-3.07_Nneg\n",
       "sample2-1.06_Npos         0.1164724         0.2332404        0.10148628\n",
       "sample6-4.27_Npos         0.1392552         0.2268282        0.10575093\n",
       "sample4-4.27_Nneg         0.1212258         0.2339564        0.10292658\n",
       "sample4-1.06_Nneg         0.1187589         0.2249430        0.10860251\n",
       "sample2-1.06_Nneg         0.1075695         0.2261262        0.09926134\n",
       "sample6-3.07_Nneg         0.1362313         0.2424377        0.10169144\n",
       "                  sample3-3.30_Npos sample8-1.06_Npos sample8-4.23_Npos\n",
       "sample2-1.06_Npos         0.3571318        0.11356837         0.2855738\n",
       "sample6-4.27_Npos         0.3534692        0.13211811         0.2902367\n",
       "sample4-4.27_Nneg         0.3679396        0.09688977         0.2896562\n",
       "sample4-1.06_Nneg         0.3498110        0.13100243         0.2931031\n",
       "sample2-1.06_Nneg         0.3456379        0.12432008         0.2787616\n",
       "sample6-3.07_Nneg         0.3671460        0.11317496         0.3048903\n",
       "                  sample8-3.03_Npos sample6-4.13_Npos sample8-4.07_Nneg\n",
       "sample2-1.06_Npos         0.3551329         0.2149747         0.2028294\n",
       "sample6-4.27_Npos         0.3485899         0.2132511         0.2082196\n",
       "sample4-4.27_Nneg         0.3571501         0.2075439         0.2167423\n",
       "sample4-1.06_Nneg         0.3569068         0.2060430         0.2071592\n",
       "sample2-1.06_Nneg         0.3446133         0.2194936         0.1949083\n",
       "sample6-3.07_Nneg         0.3645759         0.2226825         0.2229536\n",
       "                  sample6-1.18_Npos sample7-3.25_Npos sample8-3.23_Nneg\n",
       "sample2-1.06_Npos         0.2914649         0.3033361         0.2433217\n",
       "sample6-4.27_Npos         0.2929107         0.3112554         0.2545332\n",
       "sample4-4.27_Nneg         0.2865521         0.3056347         0.2435210\n",
       "sample4-1.06_Nneg         0.2925800         0.3074412         0.2431566\n",
       "sample2-1.06_Nneg         0.2890130         0.2936419         0.2400387\n",
       "sample6-3.07_Nneg         0.3017415         0.3228891         0.2657676\n",
       "                  sample7-2.30_Npos sample7-1.13_Nneg sample8-2.22_Npos\n",
       "sample2-1.06_Npos         0.2086060         0.2575254         0.1776784\n",
       "sample6-4.27_Npos         0.2199880         0.2654590         0.1715029\n",
       "sample4-4.27_Nneg         0.2089765         0.2698702         0.1920360\n",
       "sample4-1.06_Nneg         0.2020490         0.2599949         0.1774351\n",
       "sample2-1.06_Nneg         0.2067894         0.2482313         0.1748190\n",
       "sample6-3.07_Nneg         0.2351423         0.2821251         0.1910186\n",
       "                  sample7-2.30_Nneg sample2-1.24_Npos sample7-3.07_Nneg\n",
       "sample2-1.06_Npos         0.2195156         0.3624404        0.09686572\n",
       "sample6-4.27_Npos         0.2248176         0.3413228        0.08638191\n",
       "sample4-4.27_Nneg         0.2290500         0.3659388        0.09691734\n",
       "sample4-1.06_Nneg         0.2172065         0.3419938        0.10411744\n",
       "sample2-1.06_Nneg         0.2088979         0.3511876        0.10500414\n",
       "sample6-3.07_Nneg         0.2430307         0.3657188        0.07368868\n",
       "                  sample6-2.14_Npos sample8-1.14_Nneg sample3-1.20_Nneg\n",
       "sample2-1.06_Npos         0.2859255         0.2241648         0.1481561\n",
       "sample6-4.27_Npos         0.2866365         0.2180604         0.1582854\n",
       "sample4-4.27_Nneg         0.2840115         0.2285802         0.1548977\n",
       "sample4-1.06_Nneg         0.2859924         0.2317135         0.1567685\n",
       "sample2-1.06_Nneg         0.2784341         0.2314936         0.1370552\n",
       "sample6-3.07_Nneg         0.3005030         0.2286645         0.1601511\n",
       "                  sample8-1.19_Npos sample7-2.28_Npos sample7-3.19_Npos\n",
       "sample2-1.06_Npos         0.2692503         0.2383152         0.3178611\n",
       "sample6-4.27_Npos         0.2752256         0.2553415         0.3234826\n",
       "sample4-4.27_Nneg         0.2520163         0.2314463         0.3219050\n",
       "sample4-1.06_Nneg         0.2797976         0.2423568         0.3183998\n",
       "sample2-1.06_Nneg         0.2734175         0.2343291         0.3070021\n",
       "sample6-3.07_Nneg         0.2763242         0.2589081         0.3360611\n",
       "                  sample8-1.06_Nneg sample7-1.04_Nneg sample8-1.19_Nneg\n",
       "sample2-1.06_Npos        0.09847481         0.2483075         0.2592058\n",
       "sample6-4.27_Npos        0.12146827         0.2708820         0.2563000\n",
       "sample4-4.27_Nneg        0.10035512         0.2299524         0.2607579\n",
       "sample4-1.06_Nneg        0.10832174         0.2531711         0.2642359\n",
       "sample2-1.06_Nneg        0.09733320         0.2458098         0.2533830\n",
       "sample6-3.07_Nneg        0.11138303         0.2667565         0.2700040\n",
       "                  sample7-3.12_Nneg sample7-4.03_Nneg sample7-1.28_Npos\n",
       "sample2-1.06_Npos         0.3250506         0.3347886         0.3250243\n",
       "sample6-4.27_Npos         0.3309017         0.3481092         0.3338579\n",
       "sample4-4.27_Nneg         0.3311500         0.3485273         0.3358437\n",
       "sample4-1.06_Nneg         0.3190952         0.3349233         0.3235340\n",
       "sample2-1.06_Nneg         0.3122909         0.3267410         0.3103881\n",
       "sample6-3.07_Nneg         0.3426587         0.3607704         0.3470281\n",
       "                  sample7-2.05_Nneg sample8-1.10_Npos sample7-1.28_Nneg\n",
       "sample2-1.06_Npos        0.09684190         0.2795351         0.3094604\n",
       "sample6-4.27_Npos        0.09246315         0.2793627         0.3334191\n",
       "sample4-4.27_Nneg        0.09823192         0.2783936         0.3103550\n",
       "sample4-1.06_Nneg        0.10721825         0.2828271         0.3115184\n",
       "sample2-1.06_Nneg        0.10358227         0.2756729         0.3021286\n",
       "sample6-3.07_Nneg        0.08185947         0.2946391         0.3396354\n",
       "                  sample7-3.25_Nneg sample7-2.05_Npos sample2-1.24_Nneg\n",
       "sample2-1.06_Npos         0.2310703        0.10251327         0.2492008\n",
       "sample6-4.27_Npos         0.2435062        0.11561857         0.2390118\n",
       "sample4-4.27_Nneg         0.2306684        0.09543241         0.2455580\n",
       "sample4-1.06_Nneg         0.2346526        0.12376822         0.2459891\n",
       "sample2-1.06_Nneg         0.2221816        0.11119264         0.2495148\n",
       "sample6-3.07_Nneg         0.2548939        0.09628818         0.2509640\n",
       "                  sample8-1.10_Nneg sample8-4.01_Npos sample3-4.27_Npos\n",
       "sample2-1.06_Npos         0.2237174         0.2644303         0.1145447\n",
       "sample6-4.27_Npos         0.2277036         0.2627115         0.1388647\n",
       "sample4-4.27_Nneg         0.2255066         0.2645462         0.1108535\n",
       "sample4-1.06_Nneg         0.2266064         0.2802267         0.1277867\n",
       "sample2-1.06_Nneg         0.2174346         0.2682319         0.1211049\n",
       "sample6-3.07_Nneg         0.2408985         0.2684790         0.1334426\n",
       "                  sample7-4.14_Npos sample8-4.01_Nneg sample8-2.17_Nneg\n",
       "sample2-1.06_Npos         0.2552585         0.2739939         0.2779694\n",
       "sample6-4.27_Npos         0.2615438         0.2718701         0.2806453\n",
       "sample4-4.27_Nneg         0.2649478         0.2764209         0.2843050\n",
       "sample4-1.06_Nneg         0.2547364         0.2817897         0.2788845\n",
       "sample2-1.06_Nneg         0.2461247         0.2734415         0.2734053\n",
       "sample6-3.07_Nneg         0.2802724         0.2852720         0.3007441\n",
       "                  sample6-3.09_Npos sample8-2.22_Nneg sample8-3.29_Nneg\n",
       "sample2-1.06_Npos         0.2694559         0.2016364         0.1880840\n",
       "sample6-4.27_Npos         0.2683610         0.2096637         0.1862665\n",
       "sample4-4.27_Nneg         0.2693633         0.2120876         0.1983616\n",
       "sample4-1.06_Nneg         0.2672598         0.2084673         0.1837189\n",
       "sample2-1.06_Nneg         0.2604098         0.1920286         0.1799220\n",
       "sample6-3.07_Nneg         0.2829992         0.2235661         0.2070842\n",
       "                  sample1-1.06_Npos sample8-4.07_Npos sample8-4.27_Nneg\n",
       "sample2-1.06_Npos        0.12084147         0.1548530         0.1022371\n",
       "sample6-4.27_Npos        0.11012511         0.1556742         0.1133316\n",
       "sample4-4.27_Nneg        0.11495429         0.1643453         0.1065445\n",
       "sample4-1.06_Nneg        0.12603665         0.1569261         0.1108203\n",
       "sample2-1.06_Nneg        0.12579376         0.1526038         0.1034997\n",
       "sample6-3.07_Nneg        0.09387293         0.1686419         0.1149859\n",
       "                  sample8-1.23_Npos sample7-3.07_Npos sample8-3.28_Nneg\n",
       "sample2-1.06_Npos         0.2574089         0.1319293         0.2124576\n",
       "sample6-4.27_Npos         0.2613834         0.1245900         0.2077589\n",
       "sample4-4.27_Nneg         0.2601287         0.1296529         0.2159875\n",
       "sample4-1.06_Nneg         0.2534605         0.1274945         0.2074152\n",
       "sample2-1.06_Nneg         0.2504487         0.1342472         0.2107446\n",
       "sample6-3.07_Nneg         0.2754187         0.1156295         0.2199085\n",
       "                  sample2-2.10_Npos sample6-4.13_Nneg sample3-2.19_Nneg\n",
       "sample2-1.06_Npos         0.2548860         0.1946962         0.2923384\n",
       "sample6-4.27_Npos         0.2429526         0.2072290         0.2849875\n",
       "sample4-4.27_Nneg         0.2666952         0.1954754         0.2978989\n",
       "sample4-1.06_Nneg         0.2408486         0.2014608         0.2798136\n",
       "sample2-1.06_Nneg         0.2422983         0.1955864         0.2823581\n",
       "sample6-3.07_Nneg         0.2741709         0.2155690         0.3020902\n",
       "                  sample7-3.12_Npos sample8-3.23_Npos sample8-2.05_Npos\n",
       "sample2-1.06_Npos         0.3095379         0.2273244         0.1153369\n",
       "sample6-4.27_Npos         0.3152781         0.2321985         0.1215820\n",
       "sample4-4.27_Nneg         0.3127222         0.2295820         0.1133966\n",
       "sample4-1.06_Nneg         0.3069244         0.2299066         0.1240866\n",
       "sample2-1.06_Nneg         0.2989617         0.2204605         0.1149513\n",
       "sample6-3.07_Nneg         0.3263840         0.2433974         0.1148226\n",
       "                  sample8-3.29_Npos sample8-1.23_Nneg sample6-2.14_Nneg\n",
       "sample2-1.06_Npos         0.2572940         0.2210168         0.2626783\n",
       "sample6-4.27_Npos         0.2643538         0.2278043         0.2556211\n",
       "sample4-4.27_Nneg         0.2632983         0.2252319         0.2739812\n",
       "sample4-1.06_Nneg         0.2616896         0.2258184         0.2522811\n",
       "sample2-1.06_Nneg         0.2475976         0.2148737         0.2556667\n",
       "sample6-3.07_Nneg         0.2800689         0.2391368         0.2776713\n",
       "                  sample8-4.04_Nneg sample8-3.07_Npos sample3-3.30_Nneg\n",
       "sample2-1.06_Npos         0.2634417         0.1342531         0.2838497\n",
       "sample6-4.27_Npos         0.2756337         0.1487774         0.2834868\n",
       "sample4-4.27_Nneg         0.2588636         0.1206497         0.2837151\n",
       "sample4-1.06_Nneg         0.2756442         0.1415886         0.2810109\n",
       "sample2-1.06_Nneg         0.2661406         0.1407429         0.2748345\n",
       "sample6-3.07_Nneg         0.2795946         0.1281194         0.2950411\n",
       "                  sample7-4.14_Nneg sample1-1.06_Nneg sample8-2.07_Npos\n",
       "sample2-1.06_Npos         0.2690598         0.1027649         0.2358727\n",
       "sample6-4.27_Npos         0.2910350         0.1243591         0.2335998\n",
       "sample4-4.27_Nneg         0.2633155         0.1049531         0.2371986\n",
       "sample4-1.06_Nneg         0.2756302         0.1102519         0.2427618\n",
       "sample2-1.06_Nneg         0.2652797         0.1071965         0.2316049\n",
       "sample6-3.07_Nneg         0.2911350         0.1165431         0.2461888\n",
       "                  sample3-4.18_Npos sample7-4.27_Nneg sample8-4.04_Npos\n",
       "sample2-1.06_Npos         0.3283064         0.1006916         0.2579903\n",
       "sample6-4.27_Npos         0.3139203         0.1110470         0.2713912\n",
       "sample4-4.27_Nneg         0.3344952         0.1019288         0.2582226\n",
       "sample4-1.06_Nneg         0.3026208         0.1058525         0.2691264\n",
       "sample2-1.06_Nneg         0.3176042         0.1072405         0.2628764\n",
       "sample6-3.07_Nneg         0.3375869         0.1083366         0.2767263\n",
       "                  sample8-2.25_Npos sample8-3.03_Nneg sample7-1.06_Npos\n",
       "sample2-1.06_Npos         0.2188581         0.1904807        0.10938366\n",
       "sample6-4.27_Npos         0.2190045         0.1873193        0.12130456\n",
       "sample4-4.27_Nneg         0.2198494         0.1879653        0.09506905\n",
       "sample4-1.06_Nneg         0.2187337         0.1857850        0.13055561\n",
       "sample2-1.06_Nneg         0.2118751         0.1902594        0.12918493\n",
       "sample6-3.07_Nneg         0.2348655         0.1998141        0.09986789\n",
       "                  sample7-4.27_Npos\n",
       "sample2-1.06_Npos        0.09966360\n",
       "sample6-4.27_Npos        0.10535809\n",
       "sample4-4.27_Nneg        0.10265961\n",
       "sample4-1.06_Nneg        0.12268731\n",
       "sample2-1.06_Nneg        0.11515874\n",
       "sample6-3.07_Nneg        0.08684267\n"
      ]
     },
     "metadata": {},
     "output_type": "display_data"
    }
   ],
   "source": [
    "%%R\n",
    "as.matrix(wunif.dist) %>% head"
   ]
  },
  {
   "cell_type": "code",
   "execution_count": 68,
   "metadata": {
    "collapsed": false,
    "scrolled": true
   },
   "outputs": [
    {
     "data": {
      "text/plain": [
       "[1] 56644     3\n"
      ]
     },
     "metadata": {},
     "output_type": "display_data"
    }
   ],
   "source": [
    "%%R\n",
    "ud.m = melt(as.matrix(wunif.dist))\n",
    "dim(ud.m) %>% print\n",
    "colnames(ud.m) = c(\"PlotA\", \"PlotB\", \"w_Unif_Dist\")\n",
    "\n",
    "#Join with plant names\n",
    "ud.m = left_join(ud.m, sd[, c(1,9)], by = c(\"PlotA\" = \"X.sample\"))\n",
    "colnames(ud.m)[4] = \"PlantA\"\n",
    "\n",
    "ud.m = left_join(ud.m, sd[, c(1,9)], by = c(\"PlotB\" = \"X.sample\"))\n",
    "colnames(ud.m)[5] = \"PlantB\"\n",
    "ud.m$PlantComp = paste(ud.m$PlantA, ud.m$PlantB, sep = \"-\")"
   ]
  },
  {
   "cell_type": "markdown",
   "metadata": {},
   "source": [
    "* How to remove duplicates, ie values above the diagonal?  Possibly a loop that checks if var1-var2 = var2-var1, then remove."
   ]
  },
  {
   "cell_type": "markdown",
   "metadata": {},
   "source": [
    "# Join with plant phylogenetic distance"
   ]
  },
  {
   "cell_type": "code",
   "execution_count": 69,
   "metadata": {
    "collapsed": false
   },
   "outputs": [
    {
     "data": {
      "text/plain": [
       "              PlotA             PlotB w_Unif_Dist PlantA PlantB PlantComp\n",
       "1 sample2-1.06_Npos sample2-1.06_Npos  0.00000000   BARE   BARE BARE-BARE\n",
       "2 sample6-4.27_Npos sample2-1.06_Npos  0.07399006   BARE   BARE BARE-BARE\n",
       "3 sample4-4.27_Nneg sample2-1.06_Npos  0.06486116   BARE   BARE BARE-BARE\n",
       "4 sample4-1.06_Nneg sample2-1.06_Npos  0.06544986   BARE   BARE BARE-BARE\n",
       "5 sample2-1.06_Nneg sample2-1.06_Npos  0.05870261   BARE   BARE BARE-BARE\n",
       "6 sample6-3.07_Nneg sample2-1.06_Npos  0.06981394   BARE   BARE BARE-BARE\n",
       "  phy_Dist\n",
       "1       NA\n",
       "2       NA\n",
       "3       NA\n",
       "4       NA\n",
       "5       NA\n",
       "6       NA\n"
      ]
     },
     "metadata": {},
     "output_type": "display_data"
    }
   ],
   "source": [
    "%%R\n",
    "Dist = left_join(ud.m, pd.m[,c(3,4)], by = \"PlantComp\")\n",
    "head(Dist)"
   ]
  },
  {
   "cell_type": "code",
   "execution_count": 74,
   "metadata": {
    "collapsed": false
   },
   "outputs": [
    {
     "data": {
      "image/png": "[encoded data removed]"
     },
     "metadata": {},
     "output_type": "display_data"
    }
   ],
   "source": [
    "%%R\n",
    "plot(w_Unif_Dist~phy_Dist, data = Dist)\n",
    "m = lm(w_Unif_Dist~phy_Dist, data = Dist)\n",
    "abline(m)"
   ]
  }
 ],
 "metadata": {
  "hide_input": true,
  "kernelspec": {
   "display_name": "Python 2",
   "language": "python",
   "name": "python2"
  },
  "language_info": {
   "codemirror_mode": {
    "name": "ipython",
    "version": 2
   },
   "file_extension": ".py",
   "mimetype": "text/x-python",
   "name": "python",
   "nbconvert_exporter": "python",
   "pygments_lexer": "ipython2",
   "version": "2.7.11"
  }
 },
 "nbformat": 4,
 "nbformat_minor": 0
}
