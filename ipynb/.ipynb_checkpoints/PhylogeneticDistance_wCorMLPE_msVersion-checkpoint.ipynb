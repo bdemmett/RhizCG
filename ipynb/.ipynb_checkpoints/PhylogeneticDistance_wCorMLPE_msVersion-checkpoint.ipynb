{
 "cells": [
  {
   "cell_type": "markdown",
   "metadata": {},
   "source": [
    "# Phylogenetic Distance Calculation from RhizCG 2013"
   ]
  },
  {
   "cell_type": "markdown",
   "metadata": {
    "slideshow": {
     "slide_type": "skip"
    }
   },
   "source": [
    "Test hypotheses on phylogenetic vs functional control of microbial community\n",
    "Use phylogeny created from rbcL and matK in phylogenerator 20160209_phylogeny.tre. \n",
    "Test hypothesis on overall dataset, then subgroups"
   ]
  },
  {
   "cell_type": "code",
   "execution_count": 1,
   "metadata": {
    "collapsed": false
   },
   "outputs": [],
   "source": [
    "%load_ext rpy2.ipython"
   ]
  },
  {
   "cell_type": "code",
   "execution_count": 2,
   "metadata": {
    "collapsed": false,
    "hide_input": false
   },
   "outputs": [
    {
     "name": "stderr",
     "output_type": "stream",
     "text": [
      "/opt/anaconda2/lib/python2.7/site-packages/rpy2/rinterface/__init__.py:185: RRuntimeWarning: foreach: simple, scalable parallel programming from Revolution Analytics\n",
      "Use Revolution R for scalability, fault tolerance and more.\n",
      "http://www.revolutionanalytics.com\n",
      "\n",
      "  warnings.warn(x, RRuntimeWarning)\n",
      "/opt/anaconda2/lib/python2.7/site-packages/rpy2/rinterface/__init__.py:185: RRuntimeWarning: Loading required package: lattice\n",
      "\n",
      "  warnings.warn(x, RRuntimeWarning)\n",
      "/opt/anaconda2/lib/python2.7/site-packages/rpy2/rinterface/__init__.py:185: RRuntimeWarning: Loading required package: survival\n",
      "\n",
      "  warnings.warn(x, RRuntimeWarning)\n",
      "/opt/anaconda2/lib/python2.7/site-packages/rpy2/rinterface/__init__.py:185: RRuntimeWarning: Loading required package: Formula\n",
      "\n",
      "  warnings.warn(x, RRuntimeWarning)\n",
      "/opt/anaconda2/lib/python2.7/site-packages/rpy2/rinterface/__init__.py:185: RRuntimeWarning: Loading required package: ggplot2\n",
      "\n",
      "  warnings.warn(x, RRuntimeWarning)\n",
      "/opt/anaconda2/lib/python2.7/site-packages/rpy2/rinterface/__init__.py:185: RRuntimeWarning: \n",
      "Attaching package: ‘Hmisc’\n",
      "\n",
      "\n",
      "  warnings.warn(x, RRuntimeWarning)\n",
      "/opt/anaconda2/lib/python2.7/site-packages/rpy2/rinterface/__init__.py:185: RRuntimeWarning: The following objects are masked from ‘package:base’:\n",
      "\n",
      "    format.pval, round.POSIXt, trunc.POSIXt, units\n",
      "\n",
      "\n",
      "  warnings.warn(x, RRuntimeWarning)\n",
      "/opt/anaconda2/lib/python2.7/site-packages/rpy2/rinterface/__init__.py:185: RRuntimeWarning: Loading required package: Matrix\n",
      "\n",
      "  warnings.warn(x, RRuntimeWarning)\n",
      "/opt/anaconda2/lib/python2.7/site-packages/rpy2/rinterface/__init__.py:185: RRuntimeWarning: \n",
      "Attaching package: ‘lmerTest’\n",
      "\n",
      "\n",
      "  warnings.warn(x, RRuntimeWarning)\n",
      "/opt/anaconda2/lib/python2.7/site-packages/rpy2/rinterface/__init__.py:185: RRuntimeWarning: The following object is masked from ‘package:lme4’:\n",
      "\n",
      "    lmer\n",
      "\n",
      "\n",
      "  warnings.warn(x, RRuntimeWarning)\n",
      "/opt/anaconda2/lib/python2.7/site-packages/rpy2/rinterface/__init__.py:185: RRuntimeWarning: The following object is masked from ‘package:stats’:\n",
      "\n",
      "    step\n",
      "\n",
      "\n",
      "  warnings.warn(x, RRuntimeWarning)\n",
      "/opt/anaconda2/lib/python2.7/site-packages/rpy2/rinterface/__init__.py:185: RRuntimeWarning: \n",
      "Attaching package: ‘plyr’\n",
      "\n",
      "\n",
      "  warnings.warn(x, RRuntimeWarning)\n",
      "/opt/anaconda2/lib/python2.7/site-packages/rpy2/rinterface/__init__.py:185: RRuntimeWarning: The following objects are masked from ‘package:Hmisc’:\n",
      "\n",
      "    is.discrete, summarize\n",
      "\n",
      "\n",
      "  warnings.warn(x, RRuntimeWarning)\n",
      "/opt/anaconda2/lib/python2.7/site-packages/rpy2/rinterface/__init__.py:185: RRuntimeWarning: \n",
      "Attaching package: ‘dplyr’\n",
      "\n",
      "\n",
      "  warnings.warn(x, RRuntimeWarning)\n",
      "/opt/anaconda2/lib/python2.7/site-packages/rpy2/rinterface/__init__.py:185: RRuntimeWarning: The following objects are masked from ‘package:plyr’:\n",
      "\n",
      "    arrange, count, desc, failwith, id, mutate, rename, summarise,\n",
      "    summarize\n",
      "\n",
      "\n",
      "  warnings.warn(x, RRuntimeWarning)\n",
      "/opt/anaconda2/lib/python2.7/site-packages/rpy2/rinterface/__init__.py:185: RRuntimeWarning: The following objects are masked from ‘package:Hmisc’:\n",
      "\n",
      "    combine, src, summarize\n",
      "\n",
      "\n",
      "  warnings.warn(x, RRuntimeWarning)\n",
      "/opt/anaconda2/lib/python2.7/site-packages/rpy2/rinterface/__init__.py:185: RRuntimeWarning: The following objects are masked from ‘package:stats’:\n",
      "\n",
      "    filter, lag\n",
      "\n",
      "\n",
      "  warnings.warn(x, RRuntimeWarning)\n",
      "/opt/anaconda2/lib/python2.7/site-packages/rpy2/rinterface/__init__.py:185: RRuntimeWarning: The following objects are masked from ‘package:base’:\n",
      "\n",
      "    intersect, setdiff, setequal, union\n",
      "\n",
      "\n",
      "  warnings.warn(x, RRuntimeWarning)\n",
      "/opt/anaconda2/lib/python2.7/site-packages/rpy2/rinterface/__init__.py:185: RRuntimeWarning: \n",
      "Attaching package: ‘tidyr’\n",
      "\n",
      "\n",
      "  warnings.warn(x, RRuntimeWarning)\n",
      "/opt/anaconda2/lib/python2.7/site-packages/rpy2/rinterface/__init__.py:185: RRuntimeWarning: The following object is masked from ‘package:Matrix’:\n",
      "\n",
      "    expand\n",
      "\n",
      "\n",
      "  warnings.warn(x, RRuntimeWarning)\n",
      "/opt/anaconda2/lib/python2.7/site-packages/rpy2/rinterface/__init__.py:185: RRuntimeWarning: \n",
      "Attaching package: ‘gridExtra’\n",
      "\n",
      "\n",
      "  warnings.warn(x, RRuntimeWarning)\n",
      "/opt/anaconda2/lib/python2.7/site-packages/rpy2/rinterface/__init__.py:185: RRuntimeWarning: The following object is masked from ‘package:dplyr’:\n",
      "\n",
      "    combine\n",
      "\n",
      "\n",
      "  warnings.warn(x, RRuntimeWarning)\n",
      "/opt/anaconda2/lib/python2.7/site-packages/rpy2/rinterface/__init__.py:185: RRuntimeWarning: The following object is masked from ‘package:Hmisc’:\n",
      "\n",
      "    combine\n",
      "\n",
      "\n",
      "  warnings.warn(x, RRuntimeWarning)\n",
      "/opt/anaconda2/lib/python2.7/site-packages/rpy2/rinterface/__init__.py:185: RRuntimeWarning: \n",
      "Attaching package: ‘reshape2’\n",
      "\n",
      "\n",
      "  warnings.warn(x, RRuntimeWarning)\n",
      "/opt/anaconda2/lib/python2.7/site-packages/rpy2/rinterface/__init__.py:185: RRuntimeWarning: The following object is masked from ‘package:tidyr’:\n",
      "\n",
      "    smiths\n",
      "\n",
      "\n",
      "  warnings.warn(x, RRuntimeWarning)\n",
      "/opt/anaconda2/lib/python2.7/site-packages/rpy2/rinterface/__init__.py:185: RRuntimeWarning: Loading required package: ape\n",
      "\n",
      "  warnings.warn(x, RRuntimeWarning)\n",
      "/opt/anaconda2/lib/python2.7/site-packages/rpy2/rinterface/__init__.py:185: RRuntimeWarning: \n",
      "Attaching package: ‘ape’\n",
      "\n",
      "\n",
      "  warnings.warn(x, RRuntimeWarning)\n",
      "/opt/anaconda2/lib/python2.7/site-packages/rpy2/rinterface/__init__.py:185: RRuntimeWarning: The following object is masked from ‘package:Hmisc’:\n",
      "\n",
      "    zoom\n",
      "\n",
      "\n",
      "  warnings.warn(x, RRuntimeWarning)\n",
      "/opt/anaconda2/lib/python2.7/site-packages/rpy2/rinterface/__init__.py:185: RRuntimeWarning: Loading required package: vegan\n",
      "\n",
      "  warnings.warn(x, RRuntimeWarning)\n",
      "/opt/anaconda2/lib/python2.7/site-packages/rpy2/rinterface/__init__.py:185: RRuntimeWarning: Loading required package: permute\n",
      "\n",
      "  warnings.warn(x, RRuntimeWarning)\n",
      "/opt/anaconda2/lib/python2.7/site-packages/rpy2/rinterface/__init__.py:185: RRuntimeWarning: This is vegan 2.4-1\n",
      "\n",
      "  warnings.warn(x, RRuntimeWarning)\n",
      "/opt/anaconda2/lib/python2.7/site-packages/rpy2/rinterface/__init__.py:185: RRuntimeWarning: Loading required package: nlme\n",
      "\n",
      "  warnings.warn(x, RRuntimeWarning)\n",
      "/opt/anaconda2/lib/python2.7/site-packages/rpy2/rinterface/__init__.py:185: RRuntimeWarning: \n",
      "Attaching package: ‘nlme’\n",
      "\n",
      "\n",
      "  warnings.warn(x, RRuntimeWarning)\n",
      "/opt/anaconda2/lib/python2.7/site-packages/rpy2/rinterface/__init__.py:185: RRuntimeWarning: The following object is masked from ‘package:dplyr’:\n",
      "\n",
      "    collapse\n",
      "\n",
      "\n",
      "  warnings.warn(x, RRuntimeWarning)\n",
      "/opt/anaconda2/lib/python2.7/site-packages/rpy2/rinterface/__init__.py:185: RRuntimeWarning: The following object is masked from ‘package:lme4’:\n",
      "\n",
      "    lmList\n",
      "\n",
      "\n",
      "  warnings.warn(x, RRuntimeWarning)\n",
      "/opt/anaconda2/lib/python2.7/site-packages/rpy2/rinterface/__init__.py:185: RRuntimeWarning: Loading required package: iterators\n",
      "\n",
      "  warnings.warn(x, RRuntimeWarning)\n",
      "/opt/anaconda2/lib/python2.7/site-packages/rpy2/rinterface/__init__.py:185: RRuntimeWarning: Loading required package: parallel\n",
      "\n",
      "  warnings.warn(x, RRuntimeWarning)\n"
     ]
    }
   ],
   "source": [
    "%%R\n",
    "library(foreach)\n",
    "#library(lsmeans)\n",
    "library(Hmisc)\n",
    "library(lme4)\n",
    "library(lmerTest)\n",
    "library(ggplot2)\n",
    "library(plyr)\n",
    "library(dplyr)\n",
    "library(tidyr)\n",
    "library(pbkrtest)\n",
    "library(gridExtra)\n",
    "library(reshape2)\n",
    "library(picante)\n",
    "library(ape)\n",
    "library(doParallel)\n",
    "library(phyloseq)\n",
    "library(MuMIn)\n"
   ]
  },
  {
   "cell_type": "code",
   "execution_count": 3,
   "metadata": {
    "collapsed": false
   },
   "outputs": [],
   "source": [
    "%%R\n",
    "# Initialize corMLPE \n",
    "source('/home/bryan/corMLPE/corMLPE.R')"
   ]
  },
  {
   "cell_type": "code",
   "execution_count": 4,
   "metadata": {
    "collapsed": true
   },
   "outputs": [],
   "source": [
    "%%R\n",
    "workDir = '/home/bryan/RhizCG/PhyDist/'\n"
   ]
  },
  {
   "cell_type": "markdown",
   "metadata": {
    "slideshow": {
     "slide_type": "skip"
    }
   },
   "source": [
    "# Set up tables and tree "
   ]
  },
  {
   "cell_type": "code",
   "execution_count": 5,
   "metadata": {
    "collapsed": false
   },
   "outputs": [],
   "source": [
    "%%R\n",
    "setwd(workDir)\n",
    "# read phylogenetic distance, expanded with 0.0002 between maize lines\n",
    "phy_expand = read.csv(file = \"phyDist_expanded.csv\", header = TRUE)\n",
    "colnames(phy_expand)[12] = \"75-062\""
   ]
  },
  {
   "cell_type": "code",
   "execution_count": 6,
   "metadata": {
    "collapsed": false
   },
   "outputs": [
    {
     "data": {
      "text/plain": [
       "         FAGES   AMAPO   HELAN   ABUTH   GLYMA   SORBI     B73   ECHCG   SETFA\n",
       "FAGES  0.00000 0.23210 0.25302 0.27096 0.35879 0.43476 0.43787 0.43985 0.43592\n",
       "AMAPO  0.23210 0.00000 0.20952 0.22746 0.31529 0.39126 0.39437 0.39635 0.39242\n",
       "HELAN  0.25302 0.20952 0.00000 0.19116 0.27899 0.35496 0.35807 0.36005 0.35612\n",
       "ABUTH  0.27096 0.22746 0.19116 0.00000 0.24183 0.35370 0.35681 0.35879 0.35486\n",
       "GLYMA  0.35879 0.31529 0.27899 0.24183 0.00000 0.44153 0.44464 0.44662 0.44269\n",
       "SORBI  0.43476 0.39126 0.35496 0.35370 0.44153 0.00000 0.01153 0.03193 0.02800\n",
       "B73    0.43787 0.39437 0.35807 0.35681 0.44464 0.01153 0.00000 0.03504 0.03111\n",
       "ECHCG  0.43985 0.39635 0.36005 0.35879 0.44662 0.03193 0.03504 0.00000 0.02517\n",
       "SETFA  0.43592 0.39242 0.35612 0.35486 0.44269 0.02800 0.03111 0.02517 0.00000\n",
       "ERATE  0.44622 0.40272 0.36642 0.36516 0.45299 0.04656 0.04967 0.05165 0.04772\n",
       "ELCOR  0.44745 0.40395 0.36765 0.36639 0.45422 0.04779 0.05090 0.05288 0.04895\n",
       "75-062 0.43787 0.39437 0.35807 0.35681 0.44464 0.01153 0.00020 0.03504 0.03111\n",
       "Oh7B   0.43787 0.39437 0.35807 0.35681 0.44464 0.01153 0.00020 0.03504 0.03111\n",
       "MS71   0.43787 0.39437 0.35807 0.35681 0.44464 0.01153 0.00020 0.03504 0.03111\n",
       "B97    0.43787 0.39437 0.35807 0.35681 0.44464 0.01153 0.00020 0.03504 0.03111\n",
       "H99    0.43787 0.39437 0.35807 0.35681 0.44464 0.01153 0.00020 0.03504 0.03111\n",
       "Il14H  0.43787 0.39437 0.35807 0.35681 0.44464 0.01153 0.00020 0.03504 0.03111\n",
       "Ki3    0.43787 0.39437 0.35807 0.35681 0.44464 0.01153 0.00020 0.03504 0.03111\n",
       "Tx303  0.43787 0.39437 0.35807 0.35681 0.44464 0.01153 0.00020 0.03504 0.03111\n",
       "Hp301  0.43787 0.39437 0.35807 0.35681 0.44464 0.01153 0.00020 0.03504 0.03111\n",
       "Mo18   0.43787 0.39437 0.35807 0.35681 0.44464 0.01153 0.00020 0.03504 0.03111\n",
       "SORSUD 0.43476 0.39126 0.35496 0.35370 0.44153 0.00020 0.01153 0.03193 0.02800\n",
       "         ERATE   ELCOR  75-062    Oh7B    MS71     B97     H99   Il14H     Ki3\n",
       "FAGES  0.44622 0.44745 0.43787 0.43787 0.43787 0.43787 0.43787 0.43787 0.43787\n",
       "AMAPO  0.40272 0.40395 0.39437 0.39437 0.39437 0.39437 0.39437 0.39437 0.39437\n",
       "HELAN  0.36642 0.36765 0.35807 0.35807 0.35807 0.35807 0.35807 0.35807 0.35807\n",
       "ABUTH  0.36516 0.36639 0.35681 0.35681 0.35681 0.35681 0.35681 0.35681 0.35681\n",
       "GLYMA  0.45299 0.45422 0.44464 0.44464 0.44464 0.44464 0.44464 0.44464 0.44464\n",
       "SORBI  0.04656 0.04779 0.01153 0.01153 0.01153 0.01153 0.01153 0.01153 0.01153\n",
       "B73    0.04967 0.05090 0.00020 0.00020 0.00020 0.00020 0.00020 0.00020 0.00020\n",
       "ECHCG  0.05165 0.05288 0.03504 0.03504 0.03504 0.03504 0.03504 0.03504 0.03504\n",
       "SETFA  0.04772 0.04895 0.03111 0.03111 0.03111 0.03111 0.03111 0.03111 0.03111\n",
       "ERATE  0.00000 0.03561 0.04967 0.04967 0.04967 0.04967 0.04967 0.04967 0.04967\n",
       "ELCOR  0.03561 0.00000 0.05090 0.05090 0.05090 0.05090 0.05090 0.05090 0.05090\n",
       "75-062 0.04967 0.05090 0.00000 0.00020 0.00020 0.00020 0.00020 0.00020 0.00020\n",
       "Oh7B   0.04967 0.05090 0.00020 0.00000 0.00020 0.00020 0.00020 0.00020 0.00020\n",
       "MS71   0.04967 0.05090 0.00020 0.00020 0.00000 0.00020 0.00020 0.00020 0.00020\n",
       "B97    0.04967 0.05090 0.00020 0.00020 0.00020 0.00000 0.00020 0.00020 0.00020\n",
       "H99    0.04967 0.05090 0.00020 0.00020 0.00020 0.00020 0.00000 0.00020 0.00020\n",
       "Il14H  0.04967 0.05090 0.00020 0.00020 0.00020 0.00020 0.00020 0.00000 0.00020\n",
       "Ki3    0.04967 0.05090 0.00020 0.00020 0.00020 0.00020 0.00020 0.00020 0.00000\n",
       "Tx303  0.04967 0.05090 0.00020 0.00020 0.00020 0.00020 0.00020 0.00020 0.00020\n",
       "Hp301  0.04967 0.05090 0.00020 0.00020 0.00020 0.00020 0.00020 0.00020 0.00020\n",
       "Mo18   0.04967 0.05090 0.00020 0.00020 0.00020 0.00020 0.00020 0.00020 0.00020\n",
       "SORSUD 0.04656 0.04779 0.01153 0.01153 0.01153 0.01153 0.01153 0.01153 0.01153\n",
       "         Tx303   Hp301    Mo18  SORSUD\n",
       "FAGES  0.43787 0.43787 0.43787 0.43476\n",
       "AMAPO  0.39437 0.39437 0.39437 0.39126\n",
       "HELAN  0.35807 0.35807 0.35807 0.35496\n",
       "ABUTH  0.35681 0.35681 0.35681 0.35370\n",
       "GLYMA  0.44464 0.44464 0.44464 0.44153\n",
       "SORBI  0.01153 0.01153 0.01153 0.00020\n",
       "B73    0.00020 0.00020 0.00020 0.01153\n",
       "ECHCG  0.03504 0.03504 0.03504 0.03193\n",
       "SETFA  0.03111 0.03111 0.03111 0.02800\n",
       "ERATE  0.04967 0.04967 0.04967 0.04656\n",
       "ELCOR  0.05090 0.05090 0.05090 0.04779\n",
       "75-062 0.00020 0.00020 0.00020 0.01153\n",
       "Oh7B   0.00020 0.00020 0.00020 0.01153\n",
       "MS71   0.00020 0.00020 0.00020 0.01153\n",
       "B97    0.00020 0.00020 0.00020 0.01153\n",
       "H99    0.00020 0.00020 0.00020 0.01153\n",
       "Il14H  0.00020 0.00020 0.00020 0.01153\n",
       "Ki3    0.00020 0.00020 0.00020 0.01153\n",
       "Tx303  0.00000 0.00020 0.00020 0.01153\n",
       "Hp301  0.00020 0.00000 0.00020 0.01153\n",
       "Mo18   0.00020 0.00020 0.00000 0.01153\n",
       "SORSUD 0.01153 0.01153 0.01153 0.00000\n"
      ]
     },
     "metadata": {},
     "output_type": "display_data"
    }
   ],
   "source": [
    "%%R\n",
    "phy_expand"
   ]
  },
  {
   "cell_type": "code",
   "execution_count": 7,
   "metadata": {
    "collapsed": false,
    "scrolled": false
   },
   "outputs": [
    {
     "data": {
      "image/png": "[encoded data removed]"
     },
     "metadata": {},
     "output_type": "display_data"
    }
   ],
   "source": [
    "%%R -w 400 -h 400\n",
    "\n",
    "# simplify, re-order matrix so that plants appear in same order as they are in the legend key.  then \n",
    "Mat = phy_expand\n",
    "colnames(Mat) = c(\"Fagopyrum esculentum\", \"Amaranthus powellii\", \"Helianthus annuus\", \"Abutilon theophrasti\",\n",
    "                 \"Glycine max\", \"Sorghum bicolor bicolor\", \"B73\", \"Echinochloa crus-galli\", \n",
    "                  \"Setaria faberi\",  \"Eragrostis tef\",\"Eleusine coracana\", \"75-062\", \"Oh7B\", \"MS71\", \"B97\",\n",
    "                  \"H99\", \"Il14H\", \"Ki3\", \"Tx303\",\"Hp301\", \"Mo18\", \"Sorghum bicolor sudanese\")\n",
    "rownames(Mat) = c(\"Fagopyrum esculentum\", \"Amaranthus powellii\", \"Helianthus annuus\", \"Abutilon theophrasti\",\n",
    "                 \"Glycine max\", \"Sorghum bicolor bicolor\", \"B73\", \"Echinochloa crus-galli\", \n",
    "                  \"Setaria faberi\",  \"Eragrostis tef\",\"Eleusine coracana\", \"75-062\", \"Oh7B\", \"MS71\", \"B97\",\n",
    "                  \"H99\", \"Il14H\", \"Ki3\", \"Tx303\",\"Hp301\", \"Mo18\", \"Sorghum bicolor sudanese\")\n",
    "\n",
    "Mat = Mat[c(\"75-062\", \"B73\", \"B97\" ,  \"H99\" , \"Hp301\",  \"Il14H\",  \"Ki3\" , \"Mo18\", \"MS71\",\"Oh7B\", \"Tx303\",\n",
    "             \"Echinochloa crus-galli\", \"Setaria faberi\", \"Sorghum bicolor bicolor\", \"Sorghum bicolor sudanese\",\n",
    "            \"Eleusine coracana\", \"Eragrostis tef\", \n",
    "           \"Abutilon theophrasti\",\"Helianthus annuus\",\"Fagopyrum esculentum\", \"Amaranthus powellii\",\"Glycine max\"),\n",
    "         c(\"75-062\", \"B73\", \"B97\" ,  \"H99\" , \"Hp301\",  \"Il14H\",  \"Ki3\" , \"Mo18\", \"MS71\",\"Oh7B\", \"Tx303\",\n",
    "             \"Echinochloa crus-galli\", \"Setaria faberi\", \"Sorghum bicolor bicolor\", \"Sorghum bicolor sudanese\",\n",
    "            \"Eleusine coracana\", \"Eragrostis tef\", \n",
    "           \"Abutilon theophrasti\",\"Helianthus annuus\",\"Fagopyrum esculentum\", \"Amaranthus powellii\",\"Glycine max\"),]\n",
    "\n",
    "Phy_hc = hclust(as.dist(Mat), \"complete\")\n",
    "hcd = as.dendrogram(Phy_hc)\n",
    "# vector of colors to match CAP plot\n",
    "\n",
    "\n",
    "labelColors = #c(\"#FFFF00\", \"#1CE6FF\", \"#FF34FF\", \"#FF4A46\", \"#008941\", \"#006FA6\", \"#A30059\",\n",
    "        #\"#FFDBE5\", \"#7A4900\", \"#0000A6\", \"#63FFAC\", \"#B79762\", \"#004D43\", \"#8FB0FF\", \"#997D87\",\n",
    "        #\"#5A0007\", \"#809693\", \"#1B4400\", \"#4FC601\", \"#3B5DFF\", \"#4A3B53\", \"#FF2F80\")\n",
    "\n",
    "\n",
    "# cut dendrogram in 4 clusters\n",
    "clusMember = cutree(Phy_hc, 22)\n",
    "#function to get color labels\n",
    "colLab <- function(n) {\n",
    "    if (is.leaf(n)) {\n",
    "        a <- attributes(n)\n",
    "        labCol <- labelColors[clusMember[which(names(clusMember) == a$label)]]\n",
    "        attr(n, \"nodePar\") <- c(a$nodePar, lab.col = labCol)\n",
    "    }\n",
    "    n\n",
    "}\n",
    "# using dendrapply\n",
    "clusDendro = dendrapply(hcd, colLab)\n",
    "# make plot\n",
    "par(mar=c(14,4.1,4.1,2.1))\n",
    "plot(clusDendro, no.margin = TRUE)\n",
    "\n",
    "\n",
    "# plot(Phy_hc, hang = -1)\n",
    "\n",
    "\n"
   ]
  },
  {
   "cell_type": "code",
   "execution_count": 8,
   "metadata": {
    "collapsed": false
   },
   "outputs": [
    {
     "data": {
      "text/plain": [
       " [1] \"75-062\"                   \"B73\"                     \n",
       " [3] \"B97\"                      \"H99\"                     \n",
       " [5] \"Hp301\"                    \"Il14H\"                   \n",
       " [7] \"Ki3\"                      \"Mo18\"                    \n",
       " [9] \"MS71\"                     \"Oh7B\"                    \n",
       "[11] \"Tx303\"                    \"Echinochloa crus-galli\"  \n",
       "[13] \"Setaria faberi\"           \"Sorghum bicolor bicolor\" \n",
       "[15] \"Sorghum bicolor sudanese\" \"Eleusine coracana\"       \n",
       "[17] \"Eragrostis tef\"           \"Abutilon theophrasti\"    \n",
       "[19] \"Helianthus annuus\"        \"Fagopyrum esculentum\"    \n",
       "[21] \"Amaranthus powellii\"      \"Glycine max\"             \n"
      ]
     },
     "metadata": {},
     "output_type": "display_data"
    }
   ],
   "source": [
    "%%R\n",
    "rownames(Mat)"
   ]
  },
  {
   "cell_type": "code",
   "execution_count": 9,
   "metadata": {
    "collapsed": false
   },
   "outputs": [
    {
     "data": {
      "image/png": "[encoded data removed]"
     },
     "metadata": {},
     "output_type": "display_data"
    }
   ],
   "source": [
    "%%R -w 400 -h 400\n",
    "\n",
    "# simplify, re-order matrix so that plants appear in same order as they are in the legend key.  then \n",
    "Mat = phy_expand\n",
    "colnames(Mat) = c(\"Fagopyrum esculentum\", \"Amaranthus powellii\", \"Helianthus annuus\", \"Abutilon theophrasti\",\n",
    "                 \"Glycine max\", \"Sorghum bicolor bicolor\", \"B73 & 10 maize inbred lines\", \"Echinochloa crus-galli\", \n",
    "                  \"Setaria faberi\",  \"Eragrostis tef\",\"Eleusine coracana\", \"75-062\", \"Oh7B\", \"MS71\", \"B97\",\n",
    "                  \"H99\", \"Il14H\", \"Ki3\", \"Tx303\",\"Hp301\", \"Mo18\", \"Sorghum bicolor sudanense\")\n",
    "rownames(Mat) = c(\"Fagopyrum esculentum\", \"Amaranthus powellii\", \"Helianthus annuus\", \"Abutilon theophrasti\",\n",
    "                 \"Glycine max\", \"Sorghum bicolor bicolor\", \"B73 & 10 maize inbred lines\", \"Echinochloa crus-galli\", \n",
    "                  \"Setaria faberi\",  \"Eragrostis tef\",\"Eleusine coracana\", \"75-062\", \"Oh7B\", \"MS71\", \"B97\",\n",
    "                  \"H99\", \"Il14H\", \"Ki3\", \"Tx303\",\"Hp301\", \"Mo18\", \"Sorghum bicolor sudanense\")\n",
    "\n",
    "Mat = Mat[c(\"B73 & 10 maize inbred lines\",\n",
    "             \"Echinochloa crus-galli\", \"Setaria faberi\", \"Sorghum bicolor bicolor\", \"Sorghum bicolor sudanense\",\n",
    "            \"Eleusine coracana\", \"Eragrostis tef\", \n",
    "           \"Abutilon theophrasti\",\"Helianthus annuus\",\"Fagopyrum esculentum\", \"Amaranthus powellii\",\"Glycine max\"),\n",
    "         c(\"B73 & 10 maize inbred lines\", \n",
    "             \"Echinochloa crus-galli\", \"Setaria faberi\", \"Sorghum bicolor bicolor\", \"Sorghum bicolor sudanense\",\n",
    "            \"Eleusine coracana\", \"Eragrostis tef\", \n",
    "           \"Abutilon theophrasti\",\"Helianthus annuus\",\"Fagopyrum esculentum\", \"Amaranthus powellii\",\"Glycine max\"),]\n",
    "\n",
    "Phy_hc = hclust(as.dist(Mat), \"complete\")\n",
    "hcd = as.dendrogram(Phy_hc)\n",
    "# vector of colors to match CAP plot\n",
    "\n",
    "\n",
    "# labelColors = c(\"#1CE6FF\", \n",
    "#         \"#B79762\", \"#004D43\", \"#8FB0FF\", \"#997D87\",\n",
    "#         \"#5A0007\", \"#809693\", \"#1B4400\", \"#4FC601\", \"#3B5DFF\", \"#4A3B53\", \"#FF2F80\")\n",
    "\n",
    "## Use this labelColors for colored tree with B73 representing all maize\n",
    "# labelColors = c(\"#000000\", \"#1CE6FF\", \"#FF34FF\", \"#FF4A46\", \"#008941\", \"#006FA6\", \"#A30059\",\n",
    "#         \"#FFDBE5\", \"#7A4900\", \"#0000A6\", \"#63FFAC\", \"#B79762\", \"#004D43\", \"#8FB0FF\", \"#997D87\",\n",
    "#         \"#5A0007\", \"#809693\", \"#1B4400\", \"#4FC601\", \"#3B5DFF\", \"#4A3B53\", \"#FF2F80\")\n",
    "\n",
    "#Use this labelColors for just black\n",
    "labelColors = \"Black\"\n",
    "# #cut dendrogram in 12 clusters for colored figure \n",
    "#clusMember = cutree(Phy_hc, 12)\n",
    "clusMember = cutree(Phy_hc, 1)\n",
    "#function to get color labels\n",
    "colLab <- function(n) {\n",
    "    if (is.leaf(n)) {\n",
    "        a <- attributes(n)\n",
    "        labCol <- labelColors[clusMember[which(names(clusMember) == a$label)]]\n",
    "        attr(n, \"nodePar\") <- c(a$nodePar, lab.col = labCol)\n",
    "    }\n",
    "    n\n",
    "}\n",
    "# using dendrapply\n",
    "clusDendro = dendrapply(hcd, colLab)\n",
    "# make plot\n",
    "par(mar=c(14,4.1,4.1,2.1))\n",
    "plot(clusDendro, no.margin = TRUE)\n",
    "\n",
    "\n",
    "# plot(Phy_hc, hang = -1)\n",
    "\n",
    "\n"
   ]
  },
  {
   "cell_type": "code",
   "execution_count": 10,
   "metadata": {
    "collapsed": false
   },
   "outputs": [
    {
     "data": {
      "text/plain": [
       "png \n",
       "  2 \n"
      ]
     },
     "metadata": {},
     "output_type": "display_data"
    }
   ],
   "source": [
    "%%R\n",
    "pdf(file = \"/home/bryan/RhizCG/figures/plant_phylogeny.pdf\", height = 5, width = 7)\n",
    "par(mar=c(14,4.1,4.1,2.1))\n",
    "plot(clusDendro, no.margin = TRUE)\n",
    "dev.off()"
   ]
  },
  {
   "cell_type": "markdown",
   "metadata": {},
   "source": [
    "## Create melted dataframes for plot by plot comparisons"
   ]
  },
  {
   "cell_type": "code",
   "execution_count": 11,
   "metadata": {
    "collapsed": false
   },
   "outputs": [
    {
     "data": {
      "text/plain": [
       "    PlantA PlantB phy_Dist     PlantComp\n",
       "1    FAGES  FAGES  0.00000   FAGES-FAGES\n",
       "2    AMAPO  FAGES  0.23210   AMAPO-FAGES\n",
       "3    HELAN  FAGES  0.25302   HELAN-FAGES\n",
       "4    ABUTH  FAGES  0.27096   ABUTH-FAGES\n",
       "5    GLYMA  FAGES  0.35879   GLYMA-FAGES\n",
       "6    SORBI  FAGES  0.43476   SORBI-FAGES\n",
       "7      B73  FAGES  0.43787     B73-FAGES\n",
       "8    ECHCG  FAGES  0.43985   ECHCG-FAGES\n",
       "9    SETFA  FAGES  0.43592   SETFA-FAGES\n",
       "10   ERATE  FAGES  0.44622   ERATE-FAGES\n",
       "11   ELCOR  FAGES  0.44745   ELCOR-FAGES\n",
       "12  75-062  FAGES  0.43787  75-062-FAGES\n",
       "13    Oh7B  FAGES  0.43787    Oh7B-FAGES\n",
       "14    MS71  FAGES  0.43787    MS71-FAGES\n",
       "15     B97  FAGES  0.43787     B97-FAGES\n",
       "16     H99  FAGES  0.43787     H99-FAGES\n",
       "17   Il14H  FAGES  0.43787   Il14H-FAGES\n",
       "18     Ki3  FAGES  0.43787     Ki3-FAGES\n",
       "19   Tx303  FAGES  0.43787   Tx303-FAGES\n",
       "20   Hp301  FAGES  0.43787   Hp301-FAGES\n",
       "21    Mo18  FAGES  0.43787    Mo18-FAGES\n",
       "22  SORSUD  FAGES  0.43476  SORSUD-FAGES\n",
       "23   FAGES  AMAPO  0.23210   FAGES-AMAPO\n",
       "24   AMAPO  AMAPO  0.00000   AMAPO-AMAPO\n",
       "25   HELAN  AMAPO  0.20952   HELAN-AMAPO\n",
       "26   ABUTH  AMAPO  0.22746   ABUTH-AMAPO\n",
       "27   GLYMA  AMAPO  0.31529   GLYMA-AMAPO\n",
       "28   SORBI  AMAPO  0.39126   SORBI-AMAPO\n",
       "29     B73  AMAPO  0.39437     B73-AMAPO\n",
       "30   ECHCG  AMAPO  0.39635   ECHCG-AMAPO\n",
       "31   SETFA  AMAPO  0.39242   SETFA-AMAPO\n",
       "32   ERATE  AMAPO  0.40272   ERATE-AMAPO\n",
       "33   ELCOR  AMAPO  0.40395   ELCOR-AMAPO\n",
       "34  75-062  AMAPO  0.39437  75-062-AMAPO\n",
       "35    Oh7B  AMAPO  0.39437    Oh7B-AMAPO\n",
       "36    MS71  AMAPO  0.39437    MS71-AMAPO\n",
       "37     B97  AMAPO  0.39437     B97-AMAPO\n",
       "38     H99  AMAPO  0.39437     H99-AMAPO\n",
       "39   Il14H  AMAPO  0.39437   Il14H-AMAPO\n",
       "40     Ki3  AMAPO  0.39437     Ki3-AMAPO\n",
       "41   Tx303  AMAPO  0.39437   Tx303-AMAPO\n",
       "42   Hp301  AMAPO  0.39437   Hp301-AMAPO\n",
       "43    Mo18  AMAPO  0.39437    Mo18-AMAPO\n",
       "44  SORSUD  AMAPO  0.39126  SORSUD-AMAPO\n",
       "45   FAGES  HELAN  0.25302   FAGES-HELAN\n",
       "46   AMAPO  HELAN  0.20952   AMAPO-HELAN\n",
       "47   HELAN  HELAN  0.00000   HELAN-HELAN\n",
       "48   ABUTH  HELAN  0.19116   ABUTH-HELAN\n",
       "49   GLYMA  HELAN  0.27899   GLYMA-HELAN\n",
       "50   SORBI  HELAN  0.35496   SORBI-HELAN\n",
       "51     B73  HELAN  0.35807     B73-HELAN\n",
       "52   ECHCG  HELAN  0.36005   ECHCG-HELAN\n",
       "53   SETFA  HELAN  0.35612   SETFA-HELAN\n",
       "54   ERATE  HELAN  0.36642   ERATE-HELAN\n",
       "55   ELCOR  HELAN  0.36765   ELCOR-HELAN\n",
       "56  75-062  HELAN  0.35807  75-062-HELAN\n",
       "57    Oh7B  HELAN  0.35807    Oh7B-HELAN\n",
       "58    MS71  HELAN  0.35807    MS71-HELAN\n",
       "59     B97  HELAN  0.35807     B97-HELAN\n",
       "60     H99  HELAN  0.35807     H99-HELAN\n",
       "61   Il14H  HELAN  0.35807   Il14H-HELAN\n",
       "62     Ki3  HELAN  0.35807     Ki3-HELAN\n",
       "63   Tx303  HELAN  0.35807   Tx303-HELAN\n",
       "64   Hp301  HELAN  0.35807   Hp301-HELAN\n",
       "65    Mo18  HELAN  0.35807    Mo18-HELAN\n",
       "66  SORSUD  HELAN  0.35496  SORSUD-HELAN\n",
       "67   FAGES  ABUTH  0.27096   FAGES-ABUTH\n",
       "68   AMAPO  ABUTH  0.22746   AMAPO-ABUTH\n",
       "69   HELAN  ABUTH  0.19116   HELAN-ABUTH\n",
       "70   ABUTH  ABUTH  0.00000   ABUTH-ABUTH\n",
       "71   GLYMA  ABUTH  0.24183   GLYMA-ABUTH\n",
       "72   SORBI  ABUTH  0.35370   SORBI-ABUTH\n",
       "73     B73  ABUTH  0.35681     B73-ABUTH\n",
       "74   ECHCG  ABUTH  0.35879   ECHCG-ABUTH\n",
       "75   SETFA  ABUTH  0.35486   SETFA-ABUTH\n",
       "76   ERATE  ABUTH  0.36516   ERATE-ABUTH\n",
       "77   ELCOR  ABUTH  0.36639   ELCOR-ABUTH\n",
       "78  75-062  ABUTH  0.35681  75-062-ABUTH\n",
       "79    Oh7B  ABUTH  0.35681    Oh7B-ABUTH\n",
       "80    MS71  ABUTH  0.35681    MS71-ABUTH\n",
       "81     B97  ABUTH  0.35681     B97-ABUTH\n",
       "82     H99  ABUTH  0.35681     H99-ABUTH\n",
       "83   Il14H  ABUTH  0.35681   Il14H-ABUTH\n",
       "84     Ki3  ABUTH  0.35681     Ki3-ABUTH\n",
       "85   Tx303  ABUTH  0.35681   Tx303-ABUTH\n",
       "86   Hp301  ABUTH  0.35681   Hp301-ABUTH\n",
       "87    Mo18  ABUTH  0.35681    Mo18-ABUTH\n",
       "88  SORSUD  ABUTH  0.35370  SORSUD-ABUTH\n",
       "89   FAGES  GLYMA  0.35879   FAGES-GLYMA\n",
       "90   AMAPO  GLYMA  0.31529   AMAPO-GLYMA\n",
       "91   HELAN  GLYMA  0.27899   HELAN-GLYMA\n",
       "92   ABUTH  GLYMA  0.24183   ABUTH-GLYMA\n",
       "93   GLYMA  GLYMA  0.00000   GLYMA-GLYMA\n",
       "94   SORBI  GLYMA  0.44153   SORBI-GLYMA\n",
       "95     B73  GLYMA  0.44464     B73-GLYMA\n",
       "96   ECHCG  GLYMA  0.44662   ECHCG-GLYMA\n",
       "97   SETFA  GLYMA  0.44269   SETFA-GLYMA\n",
       "98   ERATE  GLYMA  0.45299   ERATE-GLYMA\n",
       "99   ELCOR  GLYMA  0.45422   ELCOR-GLYMA\n",
       "100 75-062  GLYMA  0.44464  75-062-GLYMA\n",
       "101   Oh7B  GLYMA  0.44464    Oh7B-GLYMA\n",
       "102   MS71  GLYMA  0.44464    MS71-GLYMA\n",
       "103    B97  GLYMA  0.44464     B97-GLYMA\n",
       "104    H99  GLYMA  0.44464     H99-GLYMA\n",
       "105  Il14H  GLYMA  0.44464   Il14H-GLYMA\n",
       "106    Ki3  GLYMA  0.44464     Ki3-GLYMA\n",
       "107  Tx303  GLYMA  0.44464   Tx303-GLYMA\n",
       "108  Hp301  GLYMA  0.44464   Hp301-GLYMA\n",
       "109   Mo18  GLYMA  0.44464    Mo18-GLYMA\n",
       "110 SORSUD  GLYMA  0.44153  SORSUD-GLYMA\n",
       "111  FAGES  SORBI  0.43476   FAGES-SORBI\n",
       "112  AMAPO  SORBI  0.39126   AMAPO-SORBI\n",
       "113  HELAN  SORBI  0.35496   HELAN-SORBI\n",
       "114  ABUTH  SORBI  0.35370   ABUTH-SORBI\n",
       "115  GLYMA  SORBI  0.44153   GLYMA-SORBI\n",
       "116  SORBI  SORBI  0.00000   SORBI-SORBI\n",
       "117    B73  SORBI  0.01153     B73-SORBI\n",
       "118  ECHCG  SORBI  0.03193   ECHCG-SORBI\n",
       "119  SETFA  SORBI  0.02800   SETFA-SORBI\n",
       "120  ERATE  SORBI  0.04656   ERATE-SORBI\n",
       "121  ELCOR  SORBI  0.04779   ELCOR-SORBI\n",
       "122 75-062  SORBI  0.01153  75-062-SORBI\n",
       "123   Oh7B  SORBI  0.01153    Oh7B-SORBI\n",
       "124   MS71  SORBI  0.01153    MS71-SORBI\n",
       "125    B97  SORBI  0.01153     B97-SORBI\n",
       "126    H99  SORBI  0.01153     H99-SORBI\n",
       "127  Il14H  SORBI  0.01153   Il14H-SORBI\n",
       "128    Ki3  SORBI  0.01153     Ki3-SORBI\n",
       "129  Tx303  SORBI  0.01153   Tx303-SORBI\n",
       "130  Hp301  SORBI  0.01153   Hp301-SORBI\n",
       "131   Mo18  SORBI  0.01153    Mo18-SORBI\n",
       "132 SORSUD  SORBI  0.00020  SORSUD-SORBI\n",
       "133  FAGES    B73  0.43787     FAGES-B73\n",
       "134  AMAPO    B73  0.39437     AMAPO-B73\n",
       "135  HELAN    B73  0.35807     HELAN-B73\n",
       "136  ABUTH    B73  0.35681     ABUTH-B73\n",
       "137  GLYMA    B73  0.44464     GLYMA-B73\n",
       "138  SORBI    B73  0.01153     SORBI-B73\n",
       "139    B73    B73  0.00000       B73-B73\n",
       "140  ECHCG    B73  0.03504     ECHCG-B73\n",
       "141  SETFA    B73  0.03111     SETFA-B73\n",
       "142  ERATE    B73  0.04967     ERATE-B73\n",
       "143  ELCOR    B73  0.05090     ELCOR-B73\n",
       "144 75-062    B73  0.00020    75-062-B73\n",
       "145   Oh7B    B73  0.00020      Oh7B-B73\n",
       "146   MS71    B73  0.00020      MS71-B73\n",
       "147    B97    B73  0.00020       B97-B73\n",
       "148    H99    B73  0.00020       H99-B73\n",
       "149  Il14H    B73  0.00020     Il14H-B73\n",
       "150    Ki3    B73  0.00020       Ki3-B73\n",
       "151  Tx303    B73  0.00020     Tx303-B73\n",
       "152  Hp301    B73  0.00020     Hp301-B73\n",
       "153   Mo18    B73  0.00020      Mo18-B73\n",
       "154 SORSUD    B73  0.01153    SORSUD-B73\n",
       "155  FAGES  ECHCG  0.43985   FAGES-ECHCG\n",
       "156  AMAPO  ECHCG  0.39635   AMAPO-ECHCG\n",
       "157  HELAN  ECHCG  0.36005   HELAN-ECHCG\n",
       "158  ABUTH  ECHCG  0.35879   ABUTH-ECHCG\n",
       "159  GLYMA  ECHCG  0.44662   GLYMA-ECHCG\n",
       "160  SORBI  ECHCG  0.03193   SORBI-ECHCG\n",
       "161    B73  ECHCG  0.03504     B73-ECHCG\n",
       "162  ECHCG  ECHCG  0.00000   ECHCG-ECHCG\n",
       "163  SETFA  ECHCG  0.02517   SETFA-ECHCG\n",
       "164  ERATE  ECHCG  0.05165   ERATE-ECHCG\n",
       "165  ELCOR  ECHCG  0.05288   ELCOR-ECHCG\n",
       "166 75-062  ECHCG  0.03504  75-062-ECHCG\n",
       "167   Oh7B  ECHCG  0.03504    Oh7B-ECHCG\n",
       "168   MS71  ECHCG  0.03504    MS71-ECHCG\n",
       "169    B97  ECHCG  0.03504     B97-ECHCG\n",
       "170    H99  ECHCG  0.03504     H99-ECHCG\n",
       "171  Il14H  ECHCG  0.03504   Il14H-ECHCG\n",
       "172    Ki3  ECHCG  0.03504     Ki3-ECHCG\n",
       "173  Tx303  ECHCG  0.03504   Tx303-ECHCG\n",
       "174  Hp301  ECHCG  0.03504   Hp301-ECHCG\n",
       "175   Mo18  ECHCG  0.03504    Mo18-ECHCG\n",
       "176 SORSUD  ECHCG  0.03193  SORSUD-ECHCG\n",
       "177  FAGES  SETFA  0.43592   FAGES-SETFA\n",
       "178  AMAPO  SETFA  0.39242   AMAPO-SETFA\n",
       "179  HELAN  SETFA  0.35612   HELAN-SETFA\n",
       "180  ABUTH  SETFA  0.35486   ABUTH-SETFA\n",
       "181  GLYMA  SETFA  0.44269   GLYMA-SETFA\n",
       "182  SORBI  SETFA  0.02800   SORBI-SETFA\n",
       "183    B73  SETFA  0.03111     B73-SETFA\n",
       "184  ECHCG  SETFA  0.02517   ECHCG-SETFA\n",
       "185  SETFA  SETFA  0.00000   SETFA-SETFA\n",
       "186  ERATE  SETFA  0.04772   ERATE-SETFA\n",
       "187  ELCOR  SETFA  0.04895   ELCOR-SETFA\n",
       "188 75-062  SETFA  0.03111  75-062-SETFA\n",
       "189   Oh7B  SETFA  0.03111    Oh7B-SETFA\n",
       "190   MS71  SETFA  0.03111    MS71-SETFA\n",
       "191    B97  SETFA  0.03111     B97-SETFA\n",
       "192    H99  SETFA  0.03111     H99-SETFA\n",
       "193  Il14H  SETFA  0.03111   Il14H-SETFA\n",
       "194    Ki3  SETFA  0.03111     Ki3-SETFA\n",
       "195  Tx303  SETFA  0.03111   Tx303-SETFA\n",
       "196  Hp301  SETFA  0.03111   Hp301-SETFA\n",
       "197   Mo18  SETFA  0.03111    Mo18-SETFA\n",
       "198 SORSUD  SETFA  0.02800  SORSUD-SETFA\n",
       "199  FAGES  ERATE  0.44622   FAGES-ERATE\n",
       "200  AMAPO  ERATE  0.40272   AMAPO-ERATE\n",
       "201  HELAN  ERATE  0.36642   HELAN-ERATE\n",
       "202  ABUTH  ERATE  0.36516   ABUTH-ERATE\n",
       "203  GLYMA  ERATE  0.45299   GLYMA-ERATE\n",
       "204  SORBI  ERATE  0.04656   SORBI-ERATE\n",
       "205    B73  ERATE  0.04967     B73-ERATE\n",
       "206  ECHCG  ERATE  0.05165   ECHCG-ERATE\n",
       "207  SETFA  ERATE  0.04772   SETFA-ERATE\n",
       "208  ERATE  ERATE  0.00000   ERATE-ERATE\n",
       "209  ELCOR  ERATE  0.03561   ELCOR-ERATE\n",
       "210 75-062  ERATE  0.04967  75-062-ERATE\n",
       "211   Oh7B  ERATE  0.04967    Oh7B-ERATE\n",
       "212   MS71  ERATE  0.04967    MS71-ERATE\n",
       "213    B97  ERATE  0.04967     B97-ERATE\n",
       "214    H99  ERATE  0.04967     H99-ERATE\n",
       "215  Il14H  ERATE  0.04967   Il14H-ERATE\n",
       "216    Ki3  ERATE  0.04967     Ki3-ERATE\n",
       "217  Tx303  ERATE  0.04967   Tx303-ERATE\n",
       "218  Hp301  ERATE  0.04967   Hp301-ERATE\n",
       "219   Mo18  ERATE  0.04967    Mo18-ERATE\n",
       "220 SORSUD  ERATE  0.04656  SORSUD-ERATE\n",
       "221  FAGES  ELCOR  0.44745   FAGES-ELCOR\n",
       "222  AMAPO  ELCOR  0.40395   AMAPO-ELCOR\n",
       "223  HELAN  ELCOR  0.36765   HELAN-ELCOR\n",
       "224  ABUTH  ELCOR  0.36639   ABUTH-ELCOR\n",
       "225  GLYMA  ELCOR  0.45422   GLYMA-ELCOR\n",
       "226  SORBI  ELCOR  0.04779   SORBI-ELCOR\n",
       "227    B73  ELCOR  0.05090     B73-ELCOR\n",
       "228  ECHCG  ELCOR  0.05288   ECHCG-ELCOR\n",
       "229  SETFA  ELCOR  0.04895   SETFA-ELCOR\n",
       "230  ERATE  ELCOR  0.03561   ERATE-ELCOR\n",
       "231  ELCOR  ELCOR  0.00000   ELCOR-ELCOR\n",
       "232 75-062  ELCOR  0.05090  75-062-ELCOR\n",
       "233   Oh7B  ELCOR  0.05090    Oh7B-ELCOR\n",
       "234   MS71  ELCOR  0.05090    MS71-ELCOR\n",
       "235    B97  ELCOR  0.05090     B97-ELCOR\n",
       "236    H99  ELCOR  0.05090     H99-ELCOR\n",
       "237  Il14H  ELCOR  0.05090   Il14H-ELCOR\n",
       "238    Ki3  ELCOR  0.05090     Ki3-ELCOR\n",
       "239  Tx303  ELCOR  0.05090   Tx303-ELCOR\n",
       "240  Hp301  ELCOR  0.05090   Hp301-ELCOR\n",
       "241   Mo18  ELCOR  0.05090    Mo18-ELCOR\n",
       "242 SORSUD  ELCOR  0.04779  SORSUD-ELCOR\n",
       "243  FAGES 75-062  0.43787  FAGES-75-062\n",
       "244  AMAPO 75-062  0.39437  AMAPO-75-062\n",
       "245  HELAN 75-062  0.35807  HELAN-75-062\n",
       "246  ABUTH 75-062  0.35681  ABUTH-75-062\n",
       "247  GLYMA 75-062  0.44464  GLYMA-75-062\n",
       "248  SORBI 75-062  0.01153  SORBI-75-062\n",
       "249    B73 75-062  0.00020    B73-75-062\n",
       "250  ECHCG 75-062  0.03504  ECHCG-75-062\n",
       "251  SETFA 75-062  0.03111  SETFA-75-062\n",
       "252  ERATE 75-062  0.04967  ERATE-75-062\n",
       "253  ELCOR 75-062  0.05090  ELCOR-75-062\n",
       "254 75-062 75-062  0.00000 75-062-75-062\n",
       "255   Oh7B 75-062  0.00020   Oh7B-75-062\n",
       "256   MS71 75-062  0.00020   MS71-75-062\n",
       "257    B97 75-062  0.00020    B97-75-062\n",
       "258    H99 75-062  0.00020    H99-75-062\n",
       "259  Il14H 75-062  0.00020  Il14H-75-062\n",
       "260    Ki3 75-062  0.00020    Ki3-75-062\n",
       "261  Tx303 75-062  0.00020  Tx303-75-062\n",
       "262  Hp301 75-062  0.00020  Hp301-75-062\n",
       "263   Mo18 75-062  0.00020   Mo18-75-062\n",
       "264 SORSUD 75-062  0.01153 SORSUD-75-062\n",
       "265  FAGES   Oh7B  0.43787    FAGES-Oh7B\n",
       "266  AMAPO   Oh7B  0.39437    AMAPO-Oh7B\n",
       "267  HELAN   Oh7B  0.35807    HELAN-Oh7B\n",
       "268  ABUTH   Oh7B  0.35681    ABUTH-Oh7B\n",
       "269  GLYMA   Oh7B  0.44464    GLYMA-Oh7B\n",
       "270  SORBI   Oh7B  0.01153    SORBI-Oh7B\n",
       "271    B73   Oh7B  0.00020      B73-Oh7B\n",
       "272  ECHCG   Oh7B  0.03504    ECHCG-Oh7B\n",
       "273  SETFA   Oh7B  0.03111    SETFA-Oh7B\n",
       "274  ERATE   Oh7B  0.04967    ERATE-Oh7B\n",
       "275  ELCOR   Oh7B  0.05090    ELCOR-Oh7B\n",
       "276 75-062   Oh7B  0.00020   75-062-Oh7B\n",
       "277   Oh7B   Oh7B  0.00000     Oh7B-Oh7B\n",
       "278   MS71   Oh7B  0.00020     MS71-Oh7B\n",
       "279    B97   Oh7B  0.00020      B97-Oh7B\n",
       "280    H99   Oh7B  0.00020      H99-Oh7B\n",
       "281  Il14H   Oh7B  0.00020    Il14H-Oh7B\n",
       "282    Ki3   Oh7B  0.00020      Ki3-Oh7B\n",
       "283  Tx303   Oh7B  0.00020    Tx303-Oh7B\n",
       "284  Hp301   Oh7B  0.00020    Hp301-Oh7B\n",
       "285   Mo18   Oh7B  0.00020     Mo18-Oh7B\n",
       "286 SORSUD   Oh7B  0.01153   SORSUD-Oh7B\n",
       "287  FAGES   MS71  0.43787    FAGES-MS71\n",
       "288  AMAPO   MS71  0.39437    AMAPO-MS71\n",
       "289  HELAN   MS71  0.35807    HELAN-MS71\n",
       "290  ABUTH   MS71  0.35681    ABUTH-MS71\n",
       "291  GLYMA   MS71  0.44464    GLYMA-MS71\n",
       "292  SORBI   MS71  0.01153    SORBI-MS71\n",
       "293    B73   MS71  0.00020      B73-MS71\n",
       "294  ECHCG   MS71  0.03504    ECHCG-MS71\n",
       "295  SETFA   MS71  0.03111    SETFA-MS71\n",
       "296  ERATE   MS71  0.04967    ERATE-MS71\n",
       "297  ELCOR   MS71  0.05090    ELCOR-MS71\n",
       "298 75-062   MS71  0.00020   75-062-MS71\n",
       "299   Oh7B   MS71  0.00020     Oh7B-MS71\n",
       "300   MS71   MS71  0.00000     MS71-MS71\n",
       "301    B97   MS71  0.00020      B97-MS71\n",
       "302    H99   MS71  0.00020      H99-MS71\n",
       "303  Il14H   MS71  0.00020    Il14H-MS71\n",
       "304    Ki3   MS71  0.00020      Ki3-MS71\n",
       "305  Tx303   MS71  0.00020    Tx303-MS71\n",
       "306  Hp301   MS71  0.00020    Hp301-MS71\n",
       "307   Mo18   MS71  0.00020     Mo18-MS71\n",
       "308 SORSUD   MS71  0.01153   SORSUD-MS71\n",
       "309  FAGES    B97  0.43787     FAGES-B97\n",
       "310  AMAPO    B97  0.39437     AMAPO-B97\n",
       "311  HELAN    B97  0.35807     HELAN-B97\n",
       "312  ABUTH    B97  0.35681     ABUTH-B97\n",
       "313  GLYMA    B97  0.44464     GLYMA-B97\n",
       "314  SORBI    B97  0.01153     SORBI-B97\n",
       "315    B73    B97  0.00020       B73-B97\n",
       "316  ECHCG    B97  0.03504     ECHCG-B97\n",
       "317  SETFA    B97  0.03111     SETFA-B97\n",
       "318  ERATE    B97  0.04967     ERATE-B97\n",
       "319  ELCOR    B97  0.05090     ELCOR-B97\n",
       "320 75-062    B97  0.00020    75-062-B97\n",
       "321   Oh7B    B97  0.00020      Oh7B-B97\n",
       "322   MS71    B97  0.00020      MS71-B97\n",
       "323    B97    B97  0.00000       B97-B97\n",
       "324    H99    B97  0.00020       H99-B97\n",
       "325  Il14H    B97  0.00020     Il14H-B97\n",
       "326    Ki3    B97  0.00020       Ki3-B97\n",
       "327  Tx303    B97  0.00020     Tx303-B97\n",
       "328  Hp301    B97  0.00020     Hp301-B97\n",
       "329   Mo18    B97  0.00020      Mo18-B97\n",
       "330 SORSUD    B97  0.01153    SORSUD-B97\n",
       "331  FAGES    H99  0.43787     FAGES-H99\n",
       "332  AMAPO    H99  0.39437     AMAPO-H99\n",
       "333  HELAN    H99  0.35807     HELAN-H99\n",
       "334  ABUTH    H99  0.35681     ABUTH-H99\n",
       "335  GLYMA    H99  0.44464     GLYMA-H99\n",
       "336  SORBI    H99  0.01153     SORBI-H99\n",
       "337    B73    H99  0.00020       B73-H99\n",
       "338  ECHCG    H99  0.03504     ECHCG-H99\n",
       "339  SETFA    H99  0.03111     SETFA-H99\n",
       "340  ERATE    H99  0.04967     ERATE-H99\n",
       "341  ELCOR    H99  0.05090     ELCOR-H99\n",
       "342 75-062    H99  0.00020    75-062-H99\n",
       "343   Oh7B    H99  0.00020      Oh7B-H99\n",
       "344   MS71    H99  0.00020      MS71-H99\n",
       "345    B97    H99  0.00020       B97-H99\n",
       "346    H99    H99  0.00000       H99-H99\n",
       "347  Il14H    H99  0.00020     Il14H-H99\n",
       "348    Ki3    H99  0.00020       Ki3-H99\n",
       "349  Tx303    H99  0.00020     Tx303-H99\n",
       "350  Hp301    H99  0.00020     Hp301-H99\n",
       "351   Mo18    H99  0.00020      Mo18-H99\n",
       "352 SORSUD    H99  0.01153    SORSUD-H99\n",
       "353  FAGES  Il14H  0.43787   FAGES-Il14H\n",
       "354  AMAPO  Il14H  0.39437   AMAPO-Il14H\n",
       "355  HELAN  Il14H  0.35807   HELAN-Il14H\n",
       "356  ABUTH  Il14H  0.35681   ABUTH-Il14H\n",
       "357  GLYMA  Il14H  0.44464   GLYMA-Il14H\n",
       "358  SORBI  Il14H  0.01153   SORBI-Il14H\n",
       "359    B73  Il14H  0.00020     B73-Il14H\n",
       "360  ECHCG  Il14H  0.03504   ECHCG-Il14H\n",
       "361  SETFA  Il14H  0.03111   SETFA-Il14H\n",
       "362  ERATE  Il14H  0.04967   ERATE-Il14H\n",
       "363  ELCOR  Il14H  0.05090   ELCOR-Il14H\n",
       "364 75-062  Il14H  0.00020  75-062-Il14H\n",
       "365   Oh7B  Il14H  0.00020    Oh7B-Il14H\n",
       "366   MS71  Il14H  0.00020    MS71-Il14H\n",
       "367    B97  Il14H  0.00020     B97-Il14H\n",
       "368    H99  Il14H  0.00020     H99-Il14H\n",
       "369  Il14H  Il14H  0.00000   Il14H-Il14H\n",
       "370    Ki3  Il14H  0.00020     Ki3-Il14H\n",
       "371  Tx303  Il14H  0.00020   Tx303-Il14H\n",
       "372  Hp301  Il14H  0.00020   Hp301-Il14H\n",
       "373   Mo18  Il14H  0.00020    Mo18-Il14H\n",
       "374 SORSUD  Il14H  0.01153  SORSUD-Il14H\n",
       "375  FAGES    Ki3  0.43787     FAGES-Ki3\n",
       "376  AMAPO    Ki3  0.39437     AMAPO-Ki3\n",
       "377  HELAN    Ki3  0.35807     HELAN-Ki3\n",
       "378  ABUTH    Ki3  0.35681     ABUTH-Ki3\n",
       "379  GLYMA    Ki3  0.44464     GLYMA-Ki3\n",
       "380  SORBI    Ki3  0.01153     SORBI-Ki3\n",
       "381    B73    Ki3  0.00020       B73-Ki3\n",
       "382  ECHCG    Ki3  0.03504     ECHCG-Ki3\n",
       "383  SETFA    Ki3  0.03111     SETFA-Ki3\n",
       "384  ERATE    Ki3  0.04967     ERATE-Ki3\n",
       "385  ELCOR    Ki3  0.05090     ELCOR-Ki3\n",
       "386 75-062    Ki3  0.00020    75-062-Ki3\n",
       "387   Oh7B    Ki3  0.00020      Oh7B-Ki3\n",
       "388   MS71    Ki3  0.00020      MS71-Ki3\n",
       "389    B97    Ki3  0.00020       B97-Ki3\n",
       "390    H99    Ki3  0.00020       H99-Ki3\n",
       "391  Il14H    Ki3  0.00020     Il14H-Ki3\n",
       "392    Ki3    Ki3  0.00000       Ki3-Ki3\n",
       "393  Tx303    Ki3  0.00020     Tx303-Ki3\n",
       "394  Hp301    Ki3  0.00020     Hp301-Ki3\n",
       "395   Mo18    Ki3  0.00020      Mo18-Ki3\n",
       "396 SORSUD    Ki3  0.01153    SORSUD-Ki3\n",
       "397  FAGES  Tx303  0.43787   FAGES-Tx303\n",
       "398  AMAPO  Tx303  0.39437   AMAPO-Tx303\n",
       "399  HELAN  Tx303  0.35807   HELAN-Tx303\n",
       "400  ABUTH  Tx303  0.35681   ABUTH-Tx303\n",
       "401  GLYMA  Tx303  0.44464   GLYMA-Tx303\n",
       "402  SORBI  Tx303  0.01153   SORBI-Tx303\n",
       "403    B73  Tx303  0.00020     B73-Tx303\n",
       "404  ECHCG  Tx303  0.03504   ECHCG-Tx303\n",
       "405  SETFA  Tx303  0.03111   SETFA-Tx303\n",
       "406  ERATE  Tx303  0.04967   ERATE-Tx303\n",
       "407  ELCOR  Tx303  0.05090   ELCOR-Tx303\n",
       "408 75-062  Tx303  0.00020  75-062-Tx303\n",
       "409   Oh7B  Tx303  0.00020    Oh7B-Tx303\n",
       "410   MS71  Tx303  0.00020    MS71-Tx303\n",
       "411    B97  Tx303  0.00020     B97-Tx303\n",
       "412    H99  Tx303  0.00020     H99-Tx303\n",
       "413  Il14H  Tx303  0.00020   Il14H-Tx303\n",
       "414    Ki3  Tx303  0.00020     Ki3-Tx303\n",
       "415  Tx303  Tx303  0.00000   Tx303-Tx303\n",
       "416  Hp301  Tx303  0.00020   Hp301-Tx303\n",
       "417   Mo18  Tx303  0.00020    Mo18-Tx303\n",
       "418 SORSUD  Tx303  0.01153  SORSUD-Tx303\n",
       "419  FAGES  Hp301  0.43787   FAGES-Hp301\n",
       "420  AMAPO  Hp301  0.39437   AMAPO-Hp301\n",
       "421  HELAN  Hp301  0.35807   HELAN-Hp301\n",
       "422  ABUTH  Hp301  0.35681   ABUTH-Hp301\n",
       "423  GLYMA  Hp301  0.44464   GLYMA-Hp301\n",
       "424  SORBI  Hp301  0.01153   SORBI-Hp301\n",
       "425    B73  Hp301  0.00020     B73-Hp301\n",
       "426  ECHCG  Hp301  0.03504   ECHCG-Hp301\n",
       "427  SETFA  Hp301  0.03111   SETFA-Hp301\n",
       "428  ERATE  Hp301  0.04967   ERATE-Hp301\n",
       "429  ELCOR  Hp301  0.05090   ELCOR-Hp301\n",
       "430 75-062  Hp301  0.00020  75-062-Hp301\n",
       "431   Oh7B  Hp301  0.00020    Oh7B-Hp301\n",
       "432   MS71  Hp301  0.00020    MS71-Hp301\n",
       "433    B97  Hp301  0.00020     B97-Hp301\n",
       "434    H99  Hp301  0.00020     H99-Hp301\n",
       "435  Il14H  Hp301  0.00020   Il14H-Hp301\n",
       "436    Ki3  Hp301  0.00020     Ki3-Hp301\n",
       "437  Tx303  Hp301  0.00020   Tx303-Hp301\n",
       "438  Hp301  Hp301  0.00000   Hp301-Hp301\n",
       "439   Mo18  Hp301  0.00020    Mo18-Hp301\n",
       "440 SORSUD  Hp301  0.01153  SORSUD-Hp301\n",
       "441  FAGES   Mo18  0.43787    FAGES-Mo18\n",
       "442  AMAPO   Mo18  0.39437    AMAPO-Mo18\n",
       "443  HELAN   Mo18  0.35807    HELAN-Mo18\n",
       "444  ABUTH   Mo18  0.35681    ABUTH-Mo18\n",
       "445  GLYMA   Mo18  0.44464    GLYMA-Mo18\n",
       "446  SORBI   Mo18  0.01153    SORBI-Mo18\n",
       "447    B73   Mo18  0.00020      B73-Mo18\n",
       "448  ECHCG   Mo18  0.03504    ECHCG-Mo18\n",
       "449  SETFA   Mo18  0.03111    SETFA-Mo18\n",
       "450  ERATE   Mo18  0.04967    ERATE-Mo18\n",
       "451  ELCOR   Mo18  0.05090    ELCOR-Mo18\n",
       "452 75-062   Mo18  0.00020   75-062-Mo18\n",
       "453   Oh7B   Mo18  0.00020     Oh7B-Mo18\n",
       "454   MS71   Mo18  0.00020     MS71-Mo18\n",
       "455    B97   Mo18  0.00020      B97-Mo18\n",
       "456    H99   Mo18  0.00020      H99-Mo18\n",
       "457  Il14H   Mo18  0.00020    Il14H-Mo18\n",
       "458    Ki3   Mo18  0.00020      Ki3-Mo18\n",
       "459  Tx303   Mo18  0.00020    Tx303-Mo18\n",
       "460  Hp301   Mo18  0.00020    Hp301-Mo18\n",
       "461   Mo18   Mo18  0.00000     Mo18-Mo18\n",
       "462 SORSUD   Mo18  0.01153   SORSUD-Mo18\n",
       "463  FAGES SORSUD  0.43476  FAGES-SORSUD\n",
       "464  AMAPO SORSUD  0.39126  AMAPO-SORSUD\n",
       "465  HELAN SORSUD  0.35496  HELAN-SORSUD\n",
       "466  ABUTH SORSUD  0.35370  ABUTH-SORSUD\n",
       "467  GLYMA SORSUD  0.44153  GLYMA-SORSUD\n",
       "468  SORBI SORSUD  0.00020  SORBI-SORSUD\n",
       "469    B73 SORSUD  0.01153    B73-SORSUD\n",
       "470  ECHCG SORSUD  0.03193  ECHCG-SORSUD\n",
       "471  SETFA SORSUD  0.02800  SETFA-SORSUD\n",
       "472  ERATE SORSUD  0.04656  ERATE-SORSUD\n",
       "473  ELCOR SORSUD  0.04779  ELCOR-SORSUD\n",
       "474 75-062 SORSUD  0.01153 75-062-SORSUD\n",
       "475   Oh7B SORSUD  0.01153   Oh7B-SORSUD\n",
       "476   MS71 SORSUD  0.01153   MS71-SORSUD\n",
       "477    B97 SORSUD  0.01153    B97-SORSUD\n",
       "478    H99 SORSUD  0.01153    H99-SORSUD\n",
       "479  Il14H SORSUD  0.01153  Il14H-SORSUD\n",
       "480    Ki3 SORSUD  0.01153    Ki3-SORSUD\n",
       "481  Tx303 SORSUD  0.01153  Tx303-SORSUD\n",
       "482  Hp301 SORSUD  0.01153  Hp301-SORSUD\n",
       "483   Mo18 SORSUD  0.01153   Mo18-SORSUD\n",
       "484 SORSUD SORSUD  0.00000 SORSUD-SORSUD\n"
      ]
     },
     "metadata": {},
     "output_type": "display_data"
    }
   ],
   "source": [
    "%%R\n",
    "pd.m = melt(as.matrix(phy_expand))\n",
    "\n",
    "#set column names and create comparison column\n",
    "colnames(pd.m) = c(\"PlantA\", \"PlantB\", \"phy_Dist\")\n",
    "pd.m$PlantComp = paste(pd.m$PlantA, pd.m$PlantB, sep = \"-\")\n",
    "pd.m \n"
   ]
  },
  {
   "cell_type": "code",
   "execution_count": 12,
   "metadata": {
    "collapsed": false,
    "scrolled": false
   },
   "outputs": [
    {
     "data": {
      "text/plain": [
       "phyloseq-class experiment-level object\n",
       "otu_table()   OTU Table:         [ 4927 taxa and 87 samples ]\n",
       "sample_data() Sample Data:       [ 87 samples by 55 sample variables ]\n",
       "tax_table()   Taxonomy Table:    [ 4927 taxa by 8 taxonomic ranks ]\n",
       "phy_tree()    Phylogenetic Tree: [ 4927 tips and 4926 internal nodes ]\n"
      ]
     },
     "metadata": {},
     "output_type": "display_data"
    }
   ],
   "source": [
    "%%R\n",
    "#Read rarified phyloseq object\n",
    "F = file.path('/home/bryan/RhizCG/data/MiSeq_amplicon/MergedRuns/physeq/Full-Sparsity3in3_r')\n",
    "physeq.Full = readRDS(F)\n",
    "\n",
    "physeq.Nneg = subset_samples(physeq.Full, Treatment == \"Nneg\" & Plant != \"BARE\")\n",
    "physeq.Nneg = filter_taxa(physeq.Nneg, function(x) sum(x > 0) > 0, TRUE)  \n",
    "physeq.Nneg"
   ]
  },
  {
   "cell_type": "markdown",
   "metadata": {},
   "source": [
    "# Overall dataset"
   ]
  },
  {
   "cell_type": "code",
   "execution_count": 13,
   "metadata": {
    "collapsed": false,
    "hide_input": true,
    "scrolled": true
   },
   "outputs": [
    {
     "data": {
      "text/plain": [
       "phyloseq-class experiment-level object\n",
       "otu_table()   OTU Table:         [ 4927 taxa and 87 samples ]\n",
       "sample_data() Sample Data:       [ 87 samples by 55 sample variables ]\n",
       "tax_table()   Taxonomy Table:    [ 4927 taxa by 8 taxonomic ranks ]\n",
       "phy_tree()    Phylogenetic Tree: [ 4927 tips and 4926 internal nodes ]\n"
      ]
     },
     "metadata": {},
     "output_type": "display_data"
    }
   ],
   "source": [
    "%%R\n",
    "\n",
    "phy = physeq.Nneg\n",
    "\n",
    "phy"
   ]
  },
  {
   "cell_type": "code",
   "execution_count": 14,
   "metadata": {
    "collapsed": false
   },
   "outputs": [],
   "source": [
    "%%R\n",
    "registerDoParallel(cores=28)\n",
    "phy.wunif.dist = distance(phy, \n",
    "                      method = \"unifrac\", \n",
    "                      weighted = TRUE,\n",
    "                      fast = TRUE, \n",
    "                      parallel = TRUE, \n",
    "                      normalized = FALSE)\n"
   ]
  },
  {
   "cell_type": "markdown",
   "metadata": {
    "slideshow": {
     "slide_type": "skip"
    }
   },
   "source": [
    "# Data wrangling "
   ]
  },
  {
   "cell_type": "markdown",
   "metadata": {},
   "source": [
    "### Melt unifrac distances"
   ]
  },
  {
   "cell_type": "code",
   "execution_count": 15,
   "metadata": {
    "collapsed": false,
    "hide_input": false
   },
   "outputs": [
    {
     "data": {
      "text/plain": [
       "                PlotA             PlotB w_Unif_Dist\n",
       "88  sample5-1.22_Nneg sample4-2.02_Nneg   0.2069072\n",
       "175 sample5-1.22_Nneg sample4-4.21_Nneg   0.1605861\n",
       "176 sample4-2.02_Nneg sample4-4.21_Nneg   0.1853471\n",
       "262 sample5-1.22_Nneg sample5-2.29_Nneg   0.1505018\n",
       "263 sample4-2.02_Nneg sample5-2.29_Nneg   0.1881794\n",
       "264 sample4-4.21_Nneg sample5-2.29_Nneg   0.1816279\n",
       "[1] 3741    3\n"
      ]
     },
     "metadata": {},
     "output_type": "display_data"
    }
   ],
   "source": [
    "%%R\n",
    "ud = as.matrix(phy.wunif.dist) \n",
    "# remove lower triangle to remove duplicate values\n",
    "ud[ lower.tri( ud, diag = TRUE ) ]  <- NA\n",
    "head(ud)\n",
    "ud.m = melt(ud, na.rm= TRUE)\n",
    "\n",
    "# rename columns\n",
    "colnames(ud.m) = c(\"PlotA\", \"PlotB\", \"w_Unif_Dist\")\n",
    "head(ud.m) %>% print\n",
    "dim(ud.m) %>% print"
   ]
  },
  {
   "cell_type": "markdown",
   "metadata": {},
   "source": [
    "### Create seed size  variable"
   ]
  },
  {
   "cell_type": "code",
   "execution_count": 16,
   "metadata": {
    "collapsed": false
   },
   "outputs": [
    {
     "data": {
      "text/plain": [
       "   Plant SeedSize_mg\n",
       "1  ERATE      0.0035\n",
       "2  HELAN          90\n",
       "3    B73         333\n",
       "4  FAGES          38\n",
       "5  AMAPO        0.49\n",
       "6 SORSUD        10.7\n"
      ]
     },
     "metadata": {},
     "output_type": "display_data"
    }
   ],
   "source": [
    "%%R\n",
    "#add seed size\n",
    "Plant = c(\"ERATE\", \"HELAN\", \"B73\", \"FAGES\", \"AMAPO\", \"SORSUD\", \"SORBI\", \n",
    "          \"ELCOR\", \"ECHCG\", \"ABUTH\", \"SETFA\", \"GLYMA\", \"MS71\", \"Mo18\", \"Il14H\", \"Tx303\", \"Oh7B\",\n",
    "         \"B97\", \"Hp301\", \"75-062\", \"Ki3\", \"H99\")\n",
    "SeedSize_mg = c(.0035, 90, 333, 38, .49, 10.7, 32.39,\n",
    "               3.2, 1.58, 9.6, 1.8, 174, 264, 224, 219, 279, 207,\n",
    "               240, 87, 222, 228, 231)\n",
    "SS = cbind(Plant, SeedSize_mg) %>% as.data.frame\n",
    "head(SS) %>% print\n",
    "SS$SeedSize_mg = SS$SeedSize_mg %>% as.character %>% as.numeric\n",
    "\n",
    "## Create functional distance variables\n",
    "sd = sample_data(phy)\n",
    "\n",
    "# join seed size with sample data\n",
    "sd = left_join(sd, SS, by = \"Plant\")\n",
    "rownames(sd) = sd$X.sample\n",
    "sample_data(phy) = sd"
   ]
  },
  {
   "cell_type": "code",
   "execution_count": 17,
   "metadata": {
    "collapsed": false
   },
   "outputs": [
    {
     "data": {
      "text/plain": [
       "              PlotA             PlotB     CNdist\n",
       "1 sample5-1.22_Nneg sample5-1.22_Nneg 0.00000000\n",
       "2 sample4-2.02_Nneg sample5-1.22_Nneg 0.39380360\n",
       "3 sample4-4.21_Nneg sample5-1.22_Nneg 0.30193240\n",
       "4 sample5-2.29_Nneg sample5-1.22_Nneg 0.21610061\n",
       "5 sample5-2.06_Nneg sample5-1.22_Nneg 0.03917953\n",
       "6 sample1-2.23_Nneg sample5-1.22_Nneg 0.66441421\n",
       "                             PlotComp\n",
       "1 sample5-1.22_Nneg-sample5-1.22_Nneg\n",
       "2 sample4-2.02_Nneg-sample5-1.22_Nneg\n",
       "3 sample4-4.21_Nneg-sample5-1.22_Nneg\n",
       "4 sample5-2.29_Nneg-sample5-1.22_Nneg\n",
       "5 sample5-2.06_Nneg-sample5-1.22_Nneg\n",
       "6 sample1-2.23_Nneg-sample5-1.22_Nneg\n",
       "              PlotA             PlotB     Ndist\n",
       "1 sample5-1.22_Nneg sample5-1.22_Nneg 0.0000000\n",
       "2 sample4-2.02_Nneg sample5-1.22_Nneg 0.7647557\n",
       "3 sample4-4.21_Nneg sample5-1.22_Nneg 0.7766916\n",
       "4 sample5-2.29_Nneg sample5-1.22_Nneg 0.5096202\n",
       "5 sample5-2.06_Nneg sample5-1.22_Nneg 0.4174312\n",
       "6 sample1-2.23_Nneg sample5-1.22_Nneg 1.1123954\n",
       "                             PlotComp\n",
       "1 sample5-1.22_Nneg-sample5-1.22_Nneg\n",
       "2 sample4-2.02_Nneg-sample5-1.22_Nneg\n",
       "3 sample4-4.21_Nneg-sample5-1.22_Nneg\n",
       "4 sample5-2.29_Nneg-sample5-1.22_Nneg\n",
       "5 sample5-2.06_Nneg-sample5-1.22_Nneg\n",
       "6 sample1-2.23_Nneg-sample5-1.22_Nneg\n",
       "              PlotA             PlotB    SSdist\n",
       "1 sample5-1.22_Nneg sample5-1.22_Nneg 0.0000000\n",
       "2 sample4-2.02_Nneg sample5-1.22_Nneg 4.8148907\n",
       "3 sample4-4.21_Nneg sample5-1.22_Nneg 4.8148907\n",
       "4 sample5-2.29_Nneg sample5-1.22_Nneg 0.0000000\n",
       "5 sample5-2.06_Nneg sample5-1.22_Nneg 0.1732717\n",
       "6 sample1-2.23_Nneg sample5-1.22_Nneg 1.7650912\n",
       "                             PlotComp\n",
       "1 sample5-1.22_Nneg-sample5-1.22_Nneg\n",
       "2 sample4-2.02_Nneg-sample5-1.22_Nneg\n",
       "3 sample4-4.21_Nneg-sample5-1.22_Nneg\n",
       "4 sample5-2.29_Nneg-sample5-1.22_Nneg\n",
       "5 sample5-2.06_Nneg-sample5-1.22_Nneg\n",
       "6 sample1-2.23_Nneg-sample5-1.22_Nneg\n",
       "              PlotA             PlotB     CNdist\n",
       "1 sample5-1.22_Nneg sample5-1.22_Nneg 0.00000000\n",
       "2 sample4-2.02_Nneg sample5-1.22_Nneg 0.39380360\n",
       "3 sample4-4.21_Nneg sample5-1.22_Nneg 0.30193240\n",
       "4 sample5-2.29_Nneg sample5-1.22_Nneg 0.21610061\n",
       "5 sample5-2.06_Nneg sample5-1.22_Nneg 0.03917953\n",
       "6 sample1-2.23_Nneg sample5-1.22_Nneg 0.66441421\n",
       "                             PlotComp     Ndist    SSdist\n",
       "1 sample5-1.22_Nneg-sample5-1.22_Nneg 0.0000000 0.0000000\n",
       "2 sample4-2.02_Nneg-sample5-1.22_Nneg 0.7647557 4.8148907\n",
       "3 sample4-4.21_Nneg-sample5-1.22_Nneg 0.7766916 4.8148907\n",
       "4 sample5-2.29_Nneg-sample5-1.22_Nneg 0.5096202 0.0000000\n",
       "5 sample5-2.06_Nneg-sample5-1.22_Nneg 0.4174312 0.1732717\n",
       "6 sample1-2.23_Nneg-sample5-1.22_Nneg 1.1123954 1.7650912\n"
      ]
     },
     "metadata": {},
     "output_type": "display_data"
    }
   ],
   "source": [
    "%%R\n",
    "## Create functional distance variables\n",
    "sd = sample_data(phy)\n",
    "\n",
    "\n",
    "#measure distances on residCN\n",
    "CNdist = dist(sd[,\"A_Resid_logCN\"], method = \"euclidian\")\n",
    "    #melt matrix\n",
    "    CN.m = melt(as.matrix(CNdist))\n",
    "\n",
    "    #set column names and create comparison column\n",
    "     colnames(CN.m) = c(\"PlotA\", \"PlotB\", \"CNdist\")\n",
    "    CN.m$PlotComp = paste(CN.m$PlotA, CN.m$PlotB, sep = \"-\")\n",
    "    CN.m %>% head %>% print\n",
    "\n",
    "#measure distances on residBiomass\n",
    "Ndist = dist(sd[,\"A_Resid_logN\"], method = \"euclidian\")\n",
    "    #melt matrix\n",
    "    N.m = melt(as.matrix(Ndist))\n",
    "\n",
    "    #set column names and create comparison column\n",
    "     colnames(N.m) = c(\"PlotA\", \"PlotB\", \"Ndist\")\n",
    "    N.m$PlotComp = paste(N.m$PlotA, N.m$PlotB, sep = \"-\")\n",
    "    N.m %>% head %>% print\n",
    "\n",
    "#measure distances on Seed Size\n",
    "SSdist = dist(log(sd[,\"SeedSize_mg\"]), method = \"euclidian\")\n",
    "    #melt matrix\n",
    "    SS.m = melt(as.matrix(SSdist))\n",
    "\n",
    "    #set column names and create comparison column\n",
    "     colnames(SS.m) = c(\"PlotA\", \"PlotB\", \"SSdist\")\n",
    "    SS.m$PlotComp = paste(SS.m$PlotA, SS.m$PlotB, sep = \"-\")\n",
    "    SS.m %>% head %>% print\n",
    "\n",
    "\n",
    "Fun.m = left_join(CN.m, N.m[,c(3,4)], by = \"PlotComp\")\n",
    "Fun.m = left_join(Fun.m, SS.m[,c(3,4)], by = \"PlotComp\")\n",
    "head(Fun.m)"
   ]
  },
  {
   "cell_type": "markdown",
   "metadata": {},
   "source": [
    "### Join distance tables"
   ]
  },
  {
   "cell_type": "code",
   "execution_count": 18,
   "metadata": {
    "collapsed": false
   },
   "outputs": [
    {
     "data": {
      "text/plain": [
       "[1] \"PlotA\"       \"PlotB\"       \"w_Unif_Dist\"\n"
      ]
     },
     "metadata": {},
     "output_type": "display_data"
    }
   ],
   "source": [
    "%%R\n",
    "colnames(ud.m)"
   ]
  },
  {
   "cell_type": "code",
   "execution_count": 19,
   "metadata": {
    "collapsed": false,
    "scrolled": true
   },
   "outputs": [
    {
     "data": {
      "text/plain": [
       " [1] \"X.sample\"            \"Library\"             \"Primer_Plate\"       \n",
       " [4] \"Primer_Well_ID\"      \"primerFR_ID_byPlate\" \"primerFR_ID_total\"  \n",
       " [7] \"barcode_ID\"          \"PlotID\"              \"Plant\"              \n",
       "[10] \"Plot\"                \"Treatment\"           \"Rep\"                \n",
       "[13] \"DAP\"                 \"Sampling\"            \"PlantSample\"        \n",
       "[16] \"Type\"                \"Grass_Broad\"         \"Status\"             \n",
       "[19] \"Subfamily\"           \"fwd_barcode\"         \"rev_barcode\"        \n",
       "[22] \"Planted\"             \"Biomass_P\"           \"SLA\"                \n",
       "[25] \"Leaf_N\"              \"Leaf_C\"              \"LeafC_N\"            \n",
       "[28] \"LNa\"                 \"Plant_N\"             \"Plant_C\"            \n",
       "[31] \"Plant_CN\"            \"d15N\"                \"tN_p\"               \n",
       "[34] \"BX_activity_g\"       \"CB_activity_g\"       \"LAP_activity_g\"     \n",
       "[37] \"NAG_activity_g\"      \"BX_rel\"              \"CB_rel\"             \n",
       "[40] \"LAP_rel\"             \"NAG_rel\"             \"NO3_ug_g\"           \n",
       "[43] \"NH4_ug_g\"            \"InorganicN\"          \"Resid_logB\"         \n",
       "[46] \"Resid_logN\"          \"Resid_logCN\"         \"Resid_logSLA\"       \n",
       "[49] \"Resid_LeafN\"         \"A_Resid_logB\"        \"A_Resid_logN\"       \n",
       "[52] \"A_Resid_logCN\"       \"M_Resid_logB\"        \"M_Resid_logN\"       \n",
       "[55] \"M_Resid_logCN\"       \"SeedSize_mg\"        \n"
      ]
     },
     "metadata": {},
     "output_type": "display_data"
    }
   ],
   "source": [
    "%%R\n",
    "colnames(sd)"
   ]
  },
  {
   "cell_type": "code",
   "execution_count": 20,
   "metadata": {
    "collapsed": false
   },
   "outputs": [
    {
     "data": {
      "text/plain": [
       "              PlotA             PlotB w_Unif_Dist  Plant\n",
       "1 sample5-1.22_Nneg sample4-2.02_Nneg   0.2069072 75-062\n",
       "2 sample5-1.22_Nneg sample4-4.21_Nneg   0.1605861 75-062\n",
       "3 sample4-2.02_Nneg sample4-4.21_Nneg   0.1853471  SETFA\n",
       "4 sample5-1.22_Nneg sample5-2.29_Nneg   0.1505018 75-062\n",
       "5 sample4-2.02_Nneg sample5-2.29_Nneg   0.1881794  SETFA\n",
       "6 sample4-4.21_Nneg sample5-2.29_Nneg   0.1816279  SETFA\n",
       "              PlotA             PlotB w_Unif_Dist PlantA  Plant\n",
       "1 sample5-1.22_Nneg sample4-2.02_Nneg   0.2069072 75-062  SETFA\n",
       "2 sample5-1.22_Nneg sample4-4.21_Nneg   0.1605861 75-062  SETFA\n",
       "3 sample4-2.02_Nneg sample4-4.21_Nneg   0.1853471  SETFA  SETFA\n",
       "4 sample5-1.22_Nneg sample5-2.29_Nneg   0.1505018 75-062 75-062\n",
       "5 sample4-2.02_Nneg sample5-2.29_Nneg   0.1881794  SETFA 75-062\n",
       "6 sample4-4.21_Nneg sample5-2.29_Nneg   0.1816279  SETFA 75-062\n",
       "              PlotA             PlotB w_Unif_Dist PlantA PlantB     PlantComp\n",
       "1 sample5-1.22_Nneg sample4-2.02_Nneg   0.2069072 75-062  SETFA  75-062-SETFA\n",
       "2 sample5-1.22_Nneg sample4-4.21_Nneg   0.1605861 75-062  SETFA  75-062-SETFA\n",
       "3 sample4-2.02_Nneg sample4-4.21_Nneg   0.1853471  SETFA  SETFA   SETFA-SETFA\n",
       "4 sample5-1.22_Nneg sample5-2.29_Nneg   0.1505018 75-062 75-062 75-062-75-062\n",
       "5 sample4-2.02_Nneg sample5-2.29_Nneg   0.1881794  SETFA 75-062  SETFA-75-062\n",
       "6 sample4-4.21_Nneg sample5-2.29_Nneg   0.1816279  SETFA 75-062  SETFA-75-062\n",
       "                             PlotComp\n",
       "1 sample5-1.22_Nneg-sample4-2.02_Nneg\n",
       "2 sample5-1.22_Nneg-sample4-4.21_Nneg\n",
       "3 sample4-2.02_Nneg-sample4-4.21_Nneg\n",
       "4 sample5-1.22_Nneg-sample5-2.29_Nneg\n",
       "5 sample4-2.02_Nneg-sample5-2.29_Nneg\n",
       "6 sample4-4.21_Nneg-sample5-2.29_Nneg\n"
      ]
     },
     "metadata": {},
     "output_type": "display_data"
    }
   ],
   "source": [
    "%%R\n",
    "#Add plant names to melted unifrac table\n",
    "ud.m = left_join(ud.m, sd[, c(1,9)], by = c(\"PlotA\" = \"X.sample\"))\n",
    "head(ud.m) %>% print\n",
    "colnames(ud.m)[4] = \"PlantA\"\n",
    "\n",
    "ud.m = left_join(ud.m, sd[, c(1,9)], by = c(\"PlotB\" = \"X.sample\"))\n",
    "head(ud.m) %>% print\n",
    "colnames(ud.m)[5] = \"PlantB\"\n",
    "ud.m$PlantComp = paste(ud.m$PlantA, ud.m$PlantB, sep = \"-\")\n",
    "\n",
    "#Create plot-plot variable for joining with functional distance matrix\n",
    "ud.m$PlotComp = paste(ud.m$PlotA, ud.m$PlotB, sep = \"-\")\n",
    "head(ud.m) %>% print"
   ]
  },
  {
   "cell_type": "markdown",
   "metadata": {},
   "source": [
    "### Join with plant phylogenetic distance and functional distance"
   ]
  },
  {
   "cell_type": "code",
   "execution_count": 21,
   "metadata": {
    "collapsed": false
   },
   "outputs": [
    {
     "data": {
      "text/plain": [
       "[1] \"PlotA\"    \"PlotB\"    \"CNdist\"   \"PlotComp\" \"Ndist\"    \"SSdist\"  \n"
      ]
     },
     "metadata": {},
     "output_type": "display_data"
    }
   ],
   "source": [
    "%%R\n",
    "colnames(Fun.m)"
   ]
  },
  {
   "cell_type": "code",
   "execution_count": 22,
   "metadata": {
    "collapsed": false,
    "scrolled": true
   },
   "outputs": [
    {
     "data": {
      "text/plain": [
       "                 PlotA             PlotB w_Unif_Dist PlantA PlantB   PlantComp\n",
       "3736 sample3-2.19_Nneg sample8-3.03_Nneg   0.2419601  ABUTH  ELCOR ABUTH-ELCOR\n",
       "3737 sample8-1.23_Nneg sample8-3.03_Nneg   0.1984166    Ki3  ELCOR   Ki3-ELCOR\n",
       "3738 sample6-2.14_Nneg sample8-3.03_Nneg   0.2503097  Hp301  ELCOR Hp301-ELCOR\n",
       "3739 sample8-4.04_Nneg sample8-3.03_Nneg   0.2377478   Mo18  ELCOR  Mo18-ELCOR\n",
       "3740 sample3-3.30_Nneg sample8-3.03_Nneg   0.2233484  ABUTH  ELCOR ABUTH-ELCOR\n",
       "3741 sample7-4.14_Nneg sample8-3.03_Nneg   0.2893173  SORBI  ELCOR SORBI-ELCOR\n",
       "                                PlotComp phy_Dist\n",
       "3736 sample3-2.19_Nneg-sample8-3.03_Nneg  0.36639\n",
       "3737 sample8-1.23_Nneg-sample8-3.03_Nneg  0.05090\n",
       "3738 sample6-2.14_Nneg-sample8-3.03_Nneg  0.05090\n",
       "3739 sample8-4.04_Nneg-sample8-3.03_Nneg  0.05090\n",
       "3740 sample3-3.30_Nneg-sample8-3.03_Nneg  0.36639\n",
       "3741 sample7-4.14_Nneg-sample8-3.03_Nneg  0.04779\n",
       "                 PlotA             PlotB w_Unif_Dist PlantA PlantB   PlantComp\n",
       "3736 sample3-2.19_Nneg sample8-3.03_Nneg   0.2419601  ABUTH  ELCOR ABUTH-ELCOR\n",
       "3737 sample8-1.23_Nneg sample8-3.03_Nneg   0.1984166    Ki3  ELCOR   Ki3-ELCOR\n",
       "3738 sample6-2.14_Nneg sample8-3.03_Nneg   0.2503097  Hp301  ELCOR Hp301-ELCOR\n",
       "3739 sample8-4.04_Nneg sample8-3.03_Nneg   0.2377478   Mo18  ELCOR  Mo18-ELCOR\n",
       "3740 sample3-3.30_Nneg sample8-3.03_Nneg   0.2233484  ABUTH  ELCOR ABUTH-ELCOR\n",
       "3741 sample7-4.14_Nneg sample8-3.03_Nneg   0.2893173  SORBI  ELCOR SORBI-ELCOR\n",
       "                                PlotComp phy_Dist LibraryA DAY_A\n",
       "3736 sample3-2.19_Nneg-sample8-3.03_Nneg  0.36639        2    57\n",
       "3737 sample8-1.23_Nneg-sample8-3.03_Nneg  0.05090        2    88\n",
       "3738 sample6-2.14_Nneg-sample8-3.03_Nneg  0.05090        2    79\n",
       "3739 sample8-4.04_Nneg-sample8-3.03_Nneg  0.05090        2    88\n",
       "3740 sample3-3.30_Nneg-sample8-3.03_Nneg  0.36639        2    57\n",
       "3741 sample7-4.14_Nneg-sample8-3.03_Nneg  0.04779        2    84\n",
       "                 PlotA             PlotB w_Unif_Dist PlantA PlantB   PlantComp\n",
       "3736 sample3-2.19_Nneg sample8-3.03_Nneg   0.2419601  ABUTH  ELCOR ABUTH-ELCOR\n",
       "3737 sample8-1.23_Nneg sample8-3.03_Nneg   0.1984166    Ki3  ELCOR   Ki3-ELCOR\n",
       "3738 sample6-2.14_Nneg sample8-3.03_Nneg   0.2503097  Hp301  ELCOR Hp301-ELCOR\n",
       "3739 sample8-4.04_Nneg sample8-3.03_Nneg   0.2377478   Mo18  ELCOR  Mo18-ELCOR\n",
       "3740 sample3-3.30_Nneg sample8-3.03_Nneg   0.2233484  ABUTH  ELCOR ABUTH-ELCOR\n",
       "3741 sample7-4.14_Nneg sample8-3.03_Nneg   0.2893173  SORBI  ELCOR SORBI-ELCOR\n",
       "                                PlotComp phy_Dist LibraryA DAY_A LibraryB DAY_B\n",
       "3736 sample3-2.19_Nneg-sample8-3.03_Nneg  0.36639        2    57        2    88\n",
       "3737 sample8-1.23_Nneg-sample8-3.03_Nneg  0.05090        2    88        2    88\n",
       "3738 sample6-2.14_Nneg-sample8-3.03_Nneg  0.05090        2    79        2    88\n",
       "3739 sample8-4.04_Nneg-sample8-3.03_Nneg  0.05090        2    88        2    88\n",
       "3740 sample3-3.30_Nneg-sample8-3.03_Nneg  0.36639        2    57        2    88\n",
       "3741 sample7-4.14_Nneg-sample8-3.03_Nneg  0.04779        2    84        2    88\n",
       "              PlotA             PlotB w_Unif_Dist PlantA PlantB     PlantComp\n",
       "1 sample5-1.22_Nneg sample4-2.02_Nneg   0.2069072 75-062  SETFA  75-062-SETFA\n",
       "2 sample5-1.22_Nneg sample4-4.21_Nneg   0.1605861 75-062  SETFA  75-062-SETFA\n",
       "3 sample4-2.02_Nneg sample4-4.21_Nneg   0.1853471  SETFA  SETFA   SETFA-SETFA\n",
       "4 sample5-1.22_Nneg sample5-2.29_Nneg   0.1505018 75-062 75-062 75-062-75-062\n",
       "5 sample4-2.02_Nneg sample5-2.29_Nneg   0.1881794  SETFA 75-062  SETFA-75-062\n",
       "6 sample4-4.21_Nneg sample5-2.29_Nneg   0.1816279  SETFA 75-062  SETFA-75-062\n",
       "                             PlotComp phy_Dist LibraryA DAY_A LibraryB DAY_B\n",
       "1 sample5-1.22_Nneg-sample4-2.02_Nneg  0.03111        1    72        1    61\n",
       "2 sample5-1.22_Nneg-sample4-4.21_Nneg  0.03111        1    72        1    61\n",
       "3 sample4-2.02_Nneg-sample4-4.21_Nneg  0.00000        1    61        1    61\n",
       "4 sample5-1.22_Nneg-sample5-2.29_Nneg  0.00000        1    72        1    72\n",
       "5 sample4-2.02_Nneg-sample5-2.29_Nneg  0.03111        1    61        1    72\n",
       "6 sample4-4.21_Nneg-sample5-2.29_Nneg  0.03111        1    61        1    72\n",
       "      CNdist      Ndist   SSdist TimeDist LibraryComp SameDay\n",
       "1 0.39380360 0.76475572 4.814891       11           0       1\n",
       "2 0.30193240 0.77669158 4.814891       11           0       1\n",
       "3 0.09187120 0.01193586 0.000000        0           0       0\n",
       "4 0.21610061 0.50962023 0.000000        0           0       0\n",
       "5 0.17770299 0.25513548 4.814891       11           0       1\n",
       "6 0.08583178 0.26707135 4.814891       11           0       1\n"
      ]
     },
     "metadata": {},
     "output_type": "display_data"
    }
   ],
   "source": [
    "%%R\n",
    "Dist = left_join(ud.m, pd.m[,c(3,4)], by = \"PlantComp\")\n",
    "tail(Dist) %>% print\n",
    "\n",
    "#Join with \n",
    "# Join DAP information and library information\n",
    "Dist = left_join(Dist, sd[,c(1,2,13)], by = c(\"PlotA\" = \"X.sample\"))\n",
    "colnames(Dist)[9:10] = c(\"LibraryA\",\"DAY_A\")\n",
    "tail(Dist) %>% print\n",
    "\n",
    "Dist = left_join(Dist, sd[,c(1,2,13)], by = c(\"PlotB\" = \"X.sample\"))\n",
    "colnames(Dist)[11:12] = c(\"LibraryB\",\"DAY_B\")\n",
    "tail(Dist) %>% print\n",
    "\n",
    "Dist = left_join(Dist, Fun.m[,3:6], by = \"PlotComp\")\n",
    "\n",
    "# set DAY_A and DAY_B as factor\n",
    "Dist$DAY_A = as.factor(Dist$DAY_A)\n",
    "Dist$DAY_B = as.factor(Dist$DAY_B)\n",
    "Dist$TimeDist = abs(as.numeric(as.character(Dist$DAY_A)) - as.numeric(as.character(Dist$DAY_B)))\n",
    "\n",
    "#create factor for cross library comps and same day comps\n",
    "Dist$LibraryComp = ifelse(Dist$LibraryA == Dist$LibraryB, 0, 1) %>% as.factor\n",
    "Dist$SameDay = ifelse(Dist$DAY_A == Dist$DAY_B, 0, 1) %>% as.factor\n",
    "\n",
    "head(Dist)"
   ]
  },
  {
   "cell_type": "markdown",
   "metadata": {},
   "source": [
    "## Build corMLPE models"
   ]
  },
  {
   "cell_type": "code",
   "execution_count": 23,
   "metadata": {
    "collapsed": false
   },
   "outputs": [
    {
     "data": {
      "text/plain": [
       " [1] 75-062 SETFA  MS71   FAGES  B73    AMAPO  GLYMA  Oh7B   B97    H99   \n",
       "[11] Il14H  ERATE  ELCOR  SORSUD Ki3    SORBI  ABUTH  Hp301  HELAN  ECHCG \n",
       "[21] Tx303  Mo18  \n",
       "22 Levels: 75-062 ABUTH AMAPO B73 B97 ECHCG ELCOR ERATE FAGES GLYMA ... Tx303\n"
      ]
     },
     "metadata": {},
     "output_type": "display_data"
    }
   ],
   "source": [
    "%%R\n",
    "Dist$PlantA %>% unique"
   ]
  },
  {
   "cell_type": "code",
   "execution_count": 24,
   "metadata": {
    "collapsed": false
   },
   "outputs": [
    {
     "data": {
      "text/plain": [
       "'data.frame':\t3741 obs. of  18 variables:\n",
       " $ PlotA      : chr  \"sample5-1.22_Nneg\" \"sample5-1.22_Nneg\" \"sample4-2.02_Nneg\" \"sample5-1.22_Nneg\" ...\n",
       " $ PlotB      : chr  \"sample4-2.02_Nneg\" \"sample4-4.21_Nneg\" \"sample4-4.21_Nneg\" \"sample5-2.29_Nneg\" ...\n",
       " $ w_Unif_Dist: num  0.207 0.161 0.185 0.151 0.188 ...\n",
       " $ PlantA     : Factor w/ 22 levels \"75-062\",\"ABUTH\",..: 1 1 19 1 19 19 1 19 19 1 ...\n",
       " $ PlantB     : Factor w/ 22 levels \"75-062\",\"ABUTH\",..: 19 19 19 1 1 1 17 17 17 17 ...\n",
       " $ PlantComp  : chr  \"75-062-SETFA\" \"75-062-SETFA\" \"SETFA-SETFA\" \"75-062-75-062\" ...\n",
       " $ PlotComp   : chr  \"sample5-1.22_Nneg-sample4-2.02_Nneg\" \"sample5-1.22_Nneg-sample4-4.21_Nneg\" \"sample4-2.02_Nneg-sample4-4.21_Nneg\" \"sample5-1.22_Nneg-sample5-2.29_Nneg\" ...\n",
       " $ phy_Dist   : num  0.0311 0.0311 0 0 0.0311 ...\n",
       " $ LibraryA   : int  1 1 1 1 1 1 1 1 1 1 ...\n",
       " $ DAY_A      : Factor w/ 8 levels \"36\",\"53\",\"57\",..: 5 5 4 5 4 4 5 4 4 5 ...\n",
       " $ LibraryB   : int  1 1 1 1 1 1 1 1 1 1 ...\n",
       " $ DAY_B      : Factor w/ 8 levels \"36\",\"53\",\"57\",..: 4 4 4 5 5 5 5 5 5 5 ...\n",
       " $ CNdist     : num  0.3938 0.3019 0.0919 0.2161 0.1777 ...\n",
       " $ Ndist      : num  0.7648 0.7767 0.0119 0.5096 0.2551 ...\n",
       " $ SSdist     : num  4.81 4.81 0 0 4.81 ...\n",
       " $ TimeDist   : num  11 11 0 0 11 11 0 11 11 0 ...\n",
       " $ LibraryComp: Factor w/ 2 levels \"0\",\"1\": 1 1 1 1 1 1 1 1 1 1 ...\n",
       " $ SameDay    : Factor w/ 2 levels \"0\",\"1\": 2 2 1 1 2 2 1 2 2 1 ...\n"
      ]
     },
     "metadata": {},
     "output_type": "display_data"
    }
   ],
   "source": [
    "%%R\n",
    "str(Dist)"
   ]
  },
  {
   "cell_type": "markdown",
   "metadata": {},
   "source": [
    "## best fit model"
   ]
  },
  {
   "cell_type": "code",
   "execution_count": 25,
   "metadata": {
    "collapsed": false
   },
   "outputs": [
    {
     "data": {
      "text/plain": [
       "Generalized least squares fit by REML\n",
       "  Model: w_Unif_Dist ~ poly(TimeDist, 2) + poly(phy_Dist, 2) \n",
       "  Data: Dist \n",
       "        AIC       BIC   logLik\n",
       "  -12460.56 -12416.98 6237.282\n",
       "\n",
       "Correlation Structure: corMLPE\n",
       " Formula: ~PlotA + PlotB \n",
       " Parameter estimate(s):\n",
       "      Rho \n",
       "0.2505359 \n",
       "\n",
       "Coefficients:\n",
       "                        Value  Std.Error   t-value p-value\n",
       "(Intercept)         0.2503534 0.00666401  37.56801       0\n",
       "poly(TimeDist, 2)1  1.1870868 0.06663160  17.81567       0\n",
       "poly(TimeDist, 2)2 -0.3135786 0.05432875  -5.77187       0\n",
       "poly(phy_Dist, 2)1  0.6710897 0.09433959   7.11355       0\n",
       "poly(phy_Dist, 2)2 -0.8808158 0.07818302 -11.26607       0\n",
       "\n",
       " Correlation: \n",
       "                   (Intr) p(TD,2)1 p(TD,2)2 p(_D,2)1\n",
       "poly(TimeDist, 2)1  0.000                           \n",
       "poly(TimeDist, 2)2  0.000  0.259                    \n",
       "poly(phy_Dist, 2)1  0.000 -0.388    0.031           \n",
       "poly(phy_Dist, 2)2  0.000  0.001   -0.193   -0.428  \n",
       "\n",
       "Standardized residuals:\n",
       "       Min         Q1        Med         Q3        Max \n",
       "-2.4126965 -0.7193771 -0.1481160  0.5942660  4.2289135 \n",
       "\n",
       "Residual standard error: 0.06173484 \n",
       "Degrees of freedom: 3741 total; 3736 residual\n"
      ]
     },
     "metadata": {},
     "output_type": "display_data"
    }
   ],
   "source": [
    "%%R\n",
    "#Hypothesis testing functional distance\n",
    "fit3 =  gls(w_Unif_Dist ~ poly(TimeDist,2) + poly(phy_Dist,2), \n",
    "             correlation = corMLPE(form= ~ PlotA + PlotB), data = Dist)\n",
    "summary(fit3)"
   ]
  },
  {
   "cell_type": "code",
   "execution_count": 26,
   "metadata": {
    "collapsed": false,
    "scrolled": false
   },
   "outputs": [
    {
     "data": {
      "text/plain": [
       "Denom. DF: 3736 \n",
       "                  numDF   F-value p-value\n",
       "(Intercept)           1 1411.3552  <.0001\n",
       "poly(TimeDist, 2)     2  317.2130  <.0001\n",
       "poly(phy_Dist, 2)     2   66.6909  <.0001\n"
      ]
     },
     "metadata": {},
     "output_type": "display_data"
    }
   ],
   "source": [
    "%%R\n",
    "anova(fit3)"
   ]
  },
  {
   "cell_type": "code",
   "execution_count": 27,
   "metadata": {
    "collapsed": false,
    "scrolled": true
   },
   "outputs": [
    {
     "data": {
      "text/plain": [
       "Generalized least squares fit by REML\n",
       "  Model: w_Unif_Dist ~ poly(TimeDist, 2) + poly(phy_Dist, 2) \n",
       "  Data: Dist \n",
       "        AIC       BIC   logLik\n",
       "  -12460.56 -12416.98 6237.282\n",
       "\n",
       "Correlation Structure: corMLPE\n",
       " Formula: ~PlotA + PlotB \n",
       " Parameter estimate(s):\n",
       "      Rho \n",
       "0.2505359 \n",
       "\n",
       "Coefficients:\n",
       "                        Value  Std.Error   t-value p-value\n",
       "(Intercept)         0.2503534 0.00666401  37.56801       0\n",
       "poly(TimeDist, 2)1  1.1870868 0.06663160  17.81567       0\n",
       "poly(TimeDist, 2)2 -0.3135786 0.05432875  -5.77187       0\n",
       "poly(phy_Dist, 2)1  0.6710897 0.09433959   7.11355       0\n",
       "poly(phy_Dist, 2)2 -0.8808158 0.07818302 -11.26607       0\n",
       "\n",
       " Correlation: \n",
       "                   (Intr) p(TD,2)1 p(TD,2)2 p(_D,2)1\n",
       "poly(TimeDist, 2)1  0.000                           \n",
       "poly(TimeDist, 2)2  0.000  0.259                    \n",
       "poly(phy_Dist, 2)1  0.000 -0.388    0.031           \n",
       "poly(phy_Dist, 2)2  0.000  0.001   -0.193   -0.428  \n",
       "\n",
       "Standardized residuals:\n",
       "       Min         Q1        Med         Q3        Max \n",
       "-2.4126965 -0.7193771 -0.1481160  0.5942660  4.2289135 \n",
       "\n",
       "Residual standard error: 0.06173484 \n",
       "Degrees of freedom: 3741 total; 3736 residual\n"
      ]
     },
     "metadata": {},
     "output_type": "display_data"
    }
   ],
   "source": [
    "%%R\n",
    "summary(fit3)"
   ]
  },
  {
   "cell_type": "code",
   "execution_count": 28,
   "metadata": {
    "collapsed": true
   },
   "outputs": [],
   "source": [
    "%%R\n",
    "fitNull =  gls(w_Unif_Dist ~ 1, correlation = corMLPE(form= ~ PlotA + PlotB), data = Dist, method = \"ML\")"
   ]
  },
  {
   "cell_type": "code",
   "execution_count": 29,
   "metadata": {
    "collapsed": false,
    "scrolled": true
   },
   "outputs": [
    {
     "data": {
      "text/plain": [
       "Generalized least squares fit by maximum likelihood\n",
       "  Model: w_Unif_Dist ~ 1 \n",
       "  Data: Dist \n",
       "        AIC       BIC   logLik\n",
       "  -11791.84 -11773.16 5898.918\n",
       "\n",
       "Correlation Structure: corMLPE\n",
       " Formula: ~PlotA + PlotB \n",
       " Parameter estimate(s):\n",
       "      Rho \n",
       "0.2559417 \n",
       "\n",
       "Coefficients:\n",
       "                Value   Std.Error  t-value p-value\n",
       "(Intercept) 0.2503534 0.007467221 33.52699       0\n",
       "\n",
       "Standardized residuals:\n",
       "       Min         Q1        Med         Q3        Max \n",
       "-2.2249070 -0.7414749 -0.1110453  0.6185525  4.4151200 \n",
       "\n",
       "Residual standard error: 0.06844876 \n",
       "Degrees of freedom: 3741 total; 3740 residual\n"
      ]
     },
     "metadata": {},
     "output_type": "display_data"
    }
   ],
   "source": [
    "%%R\n",
    "summary(fitNull)"
   ]
  },
  {
   "cell_type": "code",
   "execution_count": 30,
   "metadata": {
    "collapsed": false
   },
   "outputs": [
    {
     "name": "stdout",
     "output_type": "stream",
     "text": [
      "\n",
      "Error in nlme::anova.lme(object = fitNull, fit3) : \n",
      "  all fitted objects must have the same estimation method\n"
     ]
    },
    {
     "name": "stderr",
     "output_type": "stream",
     "text": [
      "/opt/anaconda2/lib/python2.7/site-packages/rpy2/rinterface/__init__.py:185: RRuntimeWarning: Error in nlme::anova.lme(object = fitNull, fit3) : \n",
      "  all fitted objects must have the same estimation method\n",
      "\n",
      "  warnings.warn(x, RRuntimeWarning)\n",
      "/opt/anaconda2/lib/python2.7/site-packages/rpy2/rinterface/__init__.py:185: RRuntimeWarning: In addition: \n",
      "  warnings.warn(x, RRuntimeWarning)\n",
      "/opt/anaconda2/lib/python2.7/site-packages/rpy2/rinterface/__init__.py:185: RRuntimeWarning: There were 20 warnings (use warnings() to see them)\n",
      "  warnings.warn(x, RRuntimeWarning)\n",
      "/opt/anaconda2/lib/python2.7/site-packages/rpy2/rinterface/__init__.py:185: RRuntimeWarning: \n",
      "\n",
      "  warnings.warn(x, RRuntimeWarning)\n"
     ]
    }
   ],
   "source": [
    "%%R\n",
    "anova(fitNull, fit3)"
   ]
  },
  {
   "cell_type": "code",
   "execution_count": 31,
   "metadata": {
    "collapsed": false
   },
   "outputs": [
    {
     "data": {
      "text/plain": [
       "'log Lik.' 0.05424865 (df=3)\n"
      ]
     },
     "metadata": {},
     "output_type": "display_data"
    }
   ],
   "source": [
    "%%R\n",
    "1 - (logLik(fitNull)/logLik(fit3))"
   ]
  },
  {
   "cell_type": "code",
   "execution_count": 32,
   "metadata": {
    "collapsed": false
   },
   "outputs": [
    {
     "data": {
      "text/plain": [
       "[1] 0.05601793\n"
      ]
     },
     "metadata": {},
     "output_type": "display_data"
    }
   ],
   "source": [
    "%%R\n",
    "1- (5898/6248)"
   ]
  },
  {
   "cell_type": "code",
   "execution_count": 33,
   "metadata": {
    "collapsed": false
   },
   "outputs": [
    {
     "data": {
      "text/plain": [
       "[1] 0.1704626\n",
       "attr(,\"adj.r.squared\")\n",
       "[1] -0.007602607\n"
      ]
     },
     "metadata": {},
     "output_type": "display_data"
    }
   ],
   "source": [
    "%%R\n",
    "MuMIn::r.squaredLR(fit3, null = fitNull)"
   ]
  },
  {
   "cell_type": "markdown",
   "metadata": {},
   "source": [
    "### Check correlation between phylogenetic distance and sampling time"
   ]
  },
  {
   "cell_type": "code",
   "execution_count": 34,
   "metadata": {
    "collapsed": false
   },
   "outputs": [
    {
     "data": {
      "text/plain": [
       "         TimeDist phy_Dist\n",
       "TimeDist     1.00     0.56\n",
       "phy_Dist     0.56     1.00\n",
       "\n",
       "n= 3741 \n",
       "\n",
       "\n",
       "P\n",
       "         TimeDist phy_Dist\n",
       "TimeDist           0      \n",
       "phy_Dist  0               \n"
      ]
     },
     "metadata": {},
     "output_type": "display_data"
    }
   ],
   "source": [
    "%%R\n",
    "#lm(TimeDist~phy_Dist, data = Dist) %>% summary\n",
    "Dist[,c(\"TimeDist\", \"phy_Dist\")] %>% as.matrix %>% rcorr(type = \"pearson\")"
   ]
  },
  {
   "cell_type": "code",
   "execution_count": 35,
   "metadata": {
    "collapsed": false
   },
   "outputs": [],
   "source": [
    "%%R\n",
    "fitB.1 =  gls(w_Unif_Dist ~ TimeDist, correlation = corMLPE(form= ~ PlotA + PlotB), data = Dist)\n",
    "#Z <- corZ(fit1) #extract correlation structure from previous fit"
   ]
  },
  {
   "cell_type": "code",
   "execution_count": 36,
   "metadata": {
    "collapsed": false
   },
   "outputs": [
    {
     "data": {
      "text/plain": [
       "Generalized least squares fit by REML\n",
       "  Model: w_Unif_Dist ~ TimeDist \n",
       "  Data: Dist \n",
       "        AIC       BIC   logLik\n",
       "  -12272.79 -12247.88 6140.393\n",
       "\n",
       "Correlation Structure: corMLPE\n",
       " Formula: ~PlotA + PlotB \n",
       " Parameter estimate(s):\n",
       "      Rho \n",
       "0.2696442 \n",
       "\n",
       "Coefficients:\n",
       "                 Value   Std.Error  t-value p-value\n",
       "(Intercept) 0.22308814 0.007451040 29.94054       0\n",
       "TimeDist    0.00180863 0.000077516 23.33222       0\n",
       "\n",
       " Correlation: \n",
       "         (Intr)\n",
       "TimeDist -0.157\n",
       "\n",
       "Standardized residuals:\n",
       "       Min         Q1        Med         Q3        Max \n",
       "-2.3030923 -0.7273081 -0.1503723  0.6002834  4.2673245 \n",
       "\n",
       "Residual standard error: 0.06576529 \n",
       "Degrees of freedom: 3741 total; 3739 residual\n"
      ]
     },
     "metadata": {},
     "output_type": "display_data"
    }
   ],
   "source": [
    "%%R\n",
    "summary(fitB.1)"
   ]
  },
  {
   "cell_type": "code",
   "execution_count": null,
   "metadata": {
    "collapsed": false
   },
   "outputs": [],
   "source": [
    "%%R\n",
    "rB.1 = lm(Dist$w_Unif_Dist~fitted(fitB.1))\n",
    "summary(rB.1)"
   ]
  },
  {
   "cell_type": "code",
   "execution_count": null,
   "metadata": {
    "collapsed": true
   },
   "outputs": [],
   "source": [
    "%%R\n",
    "#Base models\n",
    "fitA.1 =  gls(w_Unif_Dist ~ phy_Dist, correlation = corMLPE(form= ~ PlotA + PlotB), data = Dist)"
   ]
  },
  {
   "cell_type": "code",
   "execution_count": null,
   "metadata": {
    "collapsed": false,
    "scrolled": true
   },
   "outputs": [],
   "source": [
    "%%R\n",
    "summary(fitA.1)"
   ]
  },
  {
   "cell_type": "code",
   "execution_count": null,
   "metadata": {
    "collapsed": false
   },
   "outputs": [],
   "source": [
    "%%R\n",
    "#Base models\n",
    "fitA =  gls(w_Unif_Dist ~ poly(phy_Dist, 2), correlation = corMLPE(form= ~ PlotA + PlotB), \n",
    "            data = Dist, method = \"ML\")\n",
    "#Z <- corZ(fit1) #extract correlation structure from previous fit"
   ]
  },
  {
   "cell_type": "code",
   "execution_count": null,
   "metadata": {
    "collapsed": false
   },
   "outputs": [],
   "source": [
    "%%R\n",
    "MuMIn::r.squaredLR(fitA, null = fitNull)"
   ]
  },
  {
   "cell_type": "code",
   "execution_count": null,
   "metadata": {
    "collapsed": false
   },
   "outputs": [],
   "source": [
    "%%R\n",
    "summary(fitA)"
   ]
  },
  {
   "cell_type": "code",
   "execution_count": null,
   "metadata": {
    "collapsed": false
   },
   "outputs": [],
   "source": [
    "%%R\n",
    "## For unscaled coefficients\n",
    "fitA.1 =  gls(w_Unif_Dist ~ I(phy_Dist) + I(phy_Dist^2), data = Dist)\n",
    "summary(fitA.1)"
   ]
  },
  {
   "cell_type": "code",
   "execution_count": 41,
   "metadata": {
    "collapsed": false
   },
   "outputs": [
    {
     "data": {
      "text/plain": [
       "Generalized least squares fit by REML\n",
       "  Model: w_Unif_Dist ~ I(TimeDist) + I(TimeDist^2) \n",
       "  Data: Dist \n",
       "        AIC       BIC   logLik\n",
       "  -9819.649 -9794.744 4913.824\n",
       "\n",
       "Coefficients:\n",
       "                    Value    Std.Error   t-value p-value\n",
       "(Intercept)    0.21485652 0.0021125725 101.70374       0\n",
       "I(TimeDist)    0.00359789 0.0002434521  14.77864       0\n",
       "I(TimeDist^2) -0.00004871 0.0000055269  -8.81313       0\n",
       "\n",
       " Correlation: \n",
       "              (Intr) I(TmD)\n",
       "I(TimeDist)   -0.793       \n",
       "I(TimeDist^2)  0.623 -0.938\n",
       "\n",
       "Standardized residuals:\n",
       "       Min         Q1        Med         Q3        Max \n",
       "-2.4137821 -0.7461821 -0.1408786  0.6033832  4.2707488 \n",
       "\n",
       "Residual standard error: 0.06464258 \n",
       "Degrees of freedom: 3741 total; 3738 residual\n"
      ]
     },
     "metadata": {},
     "output_type": "display_data"
    }
   ],
   "source": [
    "%%R\n",
    "#Base models\n",
    "fitB =  gls(w_Unif_Dist ~ I(TimeDist) + I(TimeDist^2), data = Dist)\n",
    "#Z <- corZ(fit1) #extract correlation structure from previous fit\n",
    "summary(fitB)"
   ]
  },
  {
   "cell_type": "code",
   "execution_count": null,
   "metadata": {
    "collapsed": true
   },
   "outputs": [],
   "source": [
    "%%R\n",
    "fitB.3 = gls(w_Unif_Dist ~ poly(TimeDist,2), correlation = corMLPE(form= ~ PlotA + PlotB), data = Dist, method = \"ML\")"
   ]
  },
  {
   "cell_type": "code",
   "execution_count": null,
   "metadata": {
    "collapsed": false
   },
   "outputs": [],
   "source": [
    "%%R\n",
    "summary(fitB.3)"
   ]
  },
  {
   "cell_type": "code",
   "execution_count": null,
   "metadata": {
    "collapsed": false
   },
   "outputs": [],
   "source": [
    "%%R\n",
    "MuMIn::r.squaredLR(fitB.3, null = fitNull)"
   ]
  },
  {
   "cell_type": "code",
   "execution_count": null,
   "metadata": {
    "collapsed": false
   },
   "outputs": [],
   "source": [
    "%%R\n",
    "#Base models\n",
    "fit1 =  gls(w_Unif_Dist ~ 1, correlation = corMLPE(form= ~ PlotA + PlotB), data = Dist)\n",
    "#Z <- corZ(fit1) #extract correlation structure from previous fit"
   ]
  },
  {
   "cell_type": "code",
   "execution_count": null,
   "metadata": {
    "collapsed": false
   },
   "outputs": [],
   "source": [
    "%%R\n",
    "summary(fit1)"
   ]
  },
  {
   "cell_type": "code",
   "execution_count": null,
   "metadata": {
    "collapsed": false,
    "scrolled": true
   },
   "outputs": [],
   "source": [
    "%%R\n",
    "#H2: phylogenetic dist\n",
    "fit4 =  gls(w_Unif_Dist ~ poly(TimeDist,2) + phy_Dist, \n",
    "            correlation = corMLPE(form= ~ PlotA + PlotB), data = Dist)\n",
    "summary(fit4)"
   ]
  },
  {
   "cell_type": "code",
   "execution_count": null,
   "metadata": {
    "collapsed": false
   },
   "outputs": [],
   "source": [
    "%%R\n",
    "summary(fit4)"
   ]
  },
  {
   "cell_type": "code",
   "execution_count": null,
   "metadata": {
    "collapsed": false
   },
   "outputs": [],
   "source": [
    "%%R\n",
    "fit5 =  gls(w_Unif_Dist ~ poly(TimeDist, 2) + poly(phy_Dist,2), \n",
    "             correlation = corMLPE(form= ~ PlotA + PlotB), data = Dist)\n",
    "summary(fit5)"
   ]
  },
  {
   "cell_type": "code",
   "execution_count": null,
   "metadata": {
    "collapsed": false
   },
   "outputs": [],
   "source": [
    "%%R\n",
    "anova(fit5)"
   ]
  },
  {
   "cell_type": "code",
   "execution_count": null,
   "metadata": {
    "collapsed": false,
    "scrolled": true
   },
   "outputs": [],
   "source": [
    "%%R\n",
    "#H3: combined phylogenetic distance and functional\n",
    "fit6=  gls(w_Unif_Dist ~ poly(TimeDist, 2) + poly(phy_Dist,2) + SSdist + Ndist + CNdist, \n",
    "             correlation = corMLPE(form= ~ PlotA + PlotB), data = Dist)\n",
    "summary(fit6)"
   ]
  },
  {
   "cell_type": "code",
   "execution_count": null,
   "metadata": {
    "collapsed": true
   },
   "outputs": [],
   "source": [
    "%%R\n",
    "#H3: combined phylogenetic distance and functional\n",
    "fit6.1=  gls(w_Unif_Dist ~ poly(TimeDist, 2) + poly(phy_Dist,2) + SSdist + Ndist, \n",
    "             correlation = corMLPE(form= ~ PlotA + PlotB), data = Dist)\n"
   ]
  },
  {
   "cell_type": "code",
   "execution_count": null,
   "metadata": {
    "collapsed": false,
    "scrolled": true
   },
   "outputs": [],
   "source": [
    "%%R\n",
    "summary(fit6.1)"
   ]
  },
  {
   "cell_type": "code",
   "execution_count": null,
   "metadata": {
    "collapsed": true
   },
   "outputs": [],
   "source": [
    "%%R\n",
    "#H3: combined phylogenetic distance and functional\n",
    "fit6.2=  gls(w_Unif_Dist ~ poly(TimeDist, 2) + poly(phy_Dist,2) +  Ndist, \n",
    "             correlation = corMLPE(form= ~ PlotA + PlotB), data = Dist)\n"
   ]
  },
  {
   "cell_type": "code",
   "execution_count": null,
   "metadata": {
    "collapsed": false,
    "scrolled": true
   },
   "outputs": [],
   "source": [
    "%%R\n",
    "summary(fit6.2)"
   ]
  },
  {
   "cell_type": "code",
   "execution_count": null,
   "metadata": {
    "collapsed": true
   },
   "outputs": [],
   "source": [
    "%%R\n",
    "#H3: combined phylogenetic distance and functional\n",
    "fit6.3=  gls(w_Unif_Dist ~ poly(TimeDist, 2) + poly(phy_Dist,2) +  CNdist, \n",
    "             correlation = corMLPE(form= ~ PlotA + PlotB), data = Dist)\n"
   ]
  },
  {
   "cell_type": "code",
   "execution_count": null,
   "metadata": {
    "collapsed": false,
    "scrolled": true
   },
   "outputs": [],
   "source": [
    "%%R\n",
    "summary(fit6.3)"
   ]
  },
  {
   "cell_type": "code",
   "execution_count": null,
   "metadata": {
    "collapsed": false
   },
   "outputs": [],
   "source": [
    "%%R\n",
    "#H3: combined phylogenetic distance and functional\n",
    "fit6.4 =  gls(w_Unif_Dist ~ poly(TimeDist, 2) + poly(phy_Dist,2) + BDist + CNdist, \n",
    "             correlation = corMLPE(form= ~ PlotA + PlotB), data = Dist)\n"
   ]
  },
  {
   "cell_type": "code",
   "execution_count": null,
   "metadata": {
    "collapsed": false
   },
   "outputs": [],
   "source": [
    "%%R\n",
    "anova(fit5, fit6.2)"
   ]
  },
  {
   "cell_type": "code",
   "execution_count": null,
   "metadata": {
    "collapsed": false,
    "scrolled": false
   },
   "outputs": [],
   "source": [
    "%%R\n",
    "#H3: combined phylogenetic distance and functional\n",
    "fit7=  gls(w_Unif_Dist ~ poly(TimeDist, 2) + SSdist + Ndist + CNdist,  \n",
    "             correlation = corMLPE(form= ~ PlotA + PlotB), data = Dist)\n",
    "summary(fit7)"
   ]
  },
  {
   "cell_type": "code",
   "execution_count": null,
   "metadata": {
    "collapsed": true
   },
   "outputs": [],
   "source": [
    "%%R\n",
    "#H3: combined phylogenetic distance and functional\n",
    "fit8=  gls(w_Unif_Dist ~ phy_Dist,  \n",
    "             correlation = corMLPE(form= ~ PlotA + PlotB), data = Dist)\n"
   ]
  },
  {
   "cell_type": "code",
   "execution_count": null,
   "metadata": {
    "collapsed": true
   },
   "outputs": [],
   "source": [
    "%%R\n",
    "summary(fit8)"
   ]
  },
  {
   "cell_type": "code",
   "execution_count": null,
   "metadata": {
    "collapsed": false,
    "hide_input": false,
    "scrolled": false
   },
   "outputs": [],
   "source": [
    "%%R\n",
    "anova(fit1, fit2, fit3, fit4, fit5, fit6, fit7, fit8, fit9)"
   ]
  },
  {
   "cell_type": "markdown",
   "metadata": {},
   "source": [
    "Notes: Phylogenetic distance^2 and time make the best model on the overall dataset of annuals plus B73"
   ]
  },
  {
   "cell_type": "code",
   "execution_count": null,
   "metadata": {
    "collapsed": false,
    "scrolled": true
   },
   "outputs": [],
   "source": [
    "%%R\n",
    "plot(fit5)"
   ]
  },
  {
   "cell_type": "markdown",
   "metadata": {},
   "source": [
    "## Graphs"
   ]
  },
  {
   "cell_type": "code",
   "execution_count": 38,
   "metadata": {
    "collapsed": true
   },
   "outputs": [],
   "source": [
    "%%R\n",
    "theme_pub = function (base_size = 11, base_family = \"Helvetica\") \n",
    "{\n",
    "    theme_grey(base_size = base_size, base_family = base_family) %+replace% \n",
    "        theme(\n",
    "            axis.line.x = element_line(size = .5),\n",
    "            axis.line.y = element_line(size = .5),\n",
    "            panel.background = element_rect(fill = \"white\", colour = NA), \n",
    "            panel.border = element_rect(fill = NA, color = \"black\", size = .5), \n",
    "            panel.grid.major = element_blank(), \n",
    "            panel.grid.minor = element_blank(), \n",
    "            strip.background = element_rect(fill = \"grey85\", \n",
    "                colour = \"grey20\"), \n",
    "            legend.key = element_rect(fill = \"white\", \n",
    "                colour = NA), complete = TRUE)\n",
    "    }"
   ]
  },
  {
   "cell_type": "markdown",
   "metadata": {},
   "source": [
    "### phylogenetic distance vs microbial community"
   ]
  },
  {
   "cell_type": "code",
   "execution_count": 40,
   "metadata": {
    "collapsed": false,
    "hide_input": false,
    "scrolled": false
   },
   "outputs": [
    {
     "data": {
      "image/png": "[encoded data removed]"
     },
     "metadata": {},
     "output_type": "display_data"
    }
   ],
   "source": [
    "%%R -w 800 -h 600\n",
    "\n",
    "\n",
    "test <- function(x) {-1.164889*x ^ 2 + .6266*x + .218}\n",
    "test.semin <- function(x) {-1.3246*x ^ 2 + .558*x + .21504}\n",
    "test.semax <- function(x) {-1.0053*x ^ 2 + .6952*x + .2210}\n",
    "\n",
    "p = ggplot(Dist, aes(y = w_Unif_Dist, x = phy_Dist)) \n",
    "p = p + geom_point(pch = 21) #aes(size = phy_Dist), shape = 1)\n",
    "#p = p + stat_smooth(method = \"lm\", se = FALSE)\n",
    "p = p + theme_pub()\n",
    "#p = p + theme(panel.border = element_blank()) \n",
    "#p = p + theme(axis.line.x = element_line(color=\"black\", size = 1),\n",
    " #   axis.line.y = element_line(color=\"black\", size = 1))\n",
    "\n",
    "# p = p + stat_smooth(method = lm, y ~ poly(x,2), se = TRUE)\n",
    "p = p + stat_function(fun = test)\n",
    "p = p + stat_function(fun = test.semin, linetype = \"dashed\")\n",
    "p = p + stat_function(fun = test.semax, linetype = \"dashed\")\n",
    "# p = p + stat_smooth(method = \"lm\", se = FALSE)\n",
    "p = p + labs(x = \"Plant phylogenetic distance\")\n",
    "p = p + labs(y = \"Microbial community \\n weighted UniFrac distance\")\n",
    "p\n",
    "\n",
    "# # Time distance\n",
    "# test <- function(x) {-0.0000487*x^2 + .00359*x + .2148}\n",
    "# p1 = ggplot(Dist, aes(y = w_Unif_Dist, x = TimeDist)) \n",
    "# p1 = p1 + geom_point(pch = 21) #aes(size = phy_Dist), shape = 1)\n",
    "# p1 = p1 + theme_pub()\n",
    "# #p1 = p1 + ggtitle(\"Time\")\n",
    "# p1 = p1 + stat_function(fun = test)\n",
    "# p1 = p1 + labs(x = \"Days between samples\")\n",
    "# p1 = p1 + labs(y = \"Microbial community \\n weighted UniFrac distance\") \n",
    "# p1 = p1 + theme(axis.title.y = element_blank())\n",
    "# #p1 = p1 + labs(y = \"Weighted UniFrac distance\")\n",
    "# p1\n",
    "\n",
    "# p2 = ggplot(Dist, aes(y = w_Unif_Dist, x = SSdist)) \n",
    "# p2 = p2 + geom_point(pch = 21) #aes(size = phy_Dist), shape = 1)\n",
    "# p2 = p2 + stat_smooth(method = \"lm\", se = FALSE)\n",
    "# p2 = p2 + theme_bw(base_size = 16)\n",
    "# p2 = p2 + ggtitle(\"Plant Growth and N Uptake\")\n",
    "# #p = p + stat_smooth(method = lm, y ~ poly(x,2), se = FALSE)\n",
    "# #p1 = p1 + stat_function(fun = test)\n",
    "# p2 = p2 + labs(x = \"PCA distance\")\n",
    "# p2 = p2 + labs(y = \"Weighted UniFrac distance\")\n",
    "# p2\n",
    "\n",
    "\n",
    "# p3 =    ggplot(Dist, aes(x = SameDay, y = w_Unif_Dist))  +\n",
    "#        geom_boxplot() +\n",
    "#         theme(axis.title.x = element_blank())+ \n",
    "#         ylab(\"Weighted UniFrac distance\") +\n",
    "#         ggtitle(\"Sampling Date\") +\n",
    "#         theme_bw(base_size = 16)+\n",
    "#         theme(axis.title.x = element_blank()) +\n",
    "#         theme(legend.position=\"none\")\n",
    "\n",
    "grid.arrange(p, p1, ncol = 2)"
   ]
  },
  {
   "cell_type": "code",
   "execution_count": null,
   "metadata": {
    "collapsed": true
   },
   "outputs": [],
   "source": [
    "%%R\n",
    "fl <- function(x) {-0.000060311*x^2 + .004525*x + .22908}\n",
    "fl.CImin <- function(x) {-0.00007956*x^2 + .003659*x + .2209}\n",
    "fl.CImax <- function(x) {-0.00004107*x^2 + .00539*x + .2373}\n",
    "\n",
    "p1 = ggplot(Dist, aes(y = w_Unif_Dist, x = TimeDist)) \n",
    "p1 = p1 + geom_point(pch = 21) #aes(size = phy_Dist), shape = 1)\n",
    "p1 = p1 + theme_bw(base_size = 12)\n",
    "#p1 = p1 + ggtitle(\"Time\")\n",
    "p1 = p1 + stat_function(fun = fl)\n",
    "p1 = p1 + stat_function(fun = fl.CImin, linetype = \"dashed\")\n",
    "p1 = p1 + stat_function(fun = fl.CImax, linetype = \"dashed\")\n",
    "\n",
    "p1 = p1 + labs(x = \"Days Between Harvest\")\n",
    "p1 = p1 + labs(y = \"Microbial community \\n weighted UniFrac distance\") \n",
    "p1 = p1 + theme(axis.title.y = element_blank())\n",
    "#p1 = p1 + labs(y = \"Weighted UniFrac distance\")\n",
    "p1"
   ]
  },
  {
   "cell_type": "code",
   "execution_count": 27,
   "metadata": {
    "collapsed": false
   },
   "outputs": [
    {
     "data": {
      "image/png": "[encoded data removed]"
     },
     "metadata": {},
     "output_type": "display_data"
    }
   ],
   "source": [
    "%%R -w 1000 -h 400\n",
    "p\n"
   ]
  },
  {
   "cell_type": "code",
   "execution_count": 647,
   "metadata": {
    "collapsed": false,
    "scrolled": true
   },
   "outputs": [
    {
     "data": {
      "text/plain": [
       "png \n",
       "  2 \n"
      ]
     },
     "metadata": {},
     "output_type": "display_data"
    }
   ],
   "source": [
    "%%R\n",
    "pdf(file = \"/home/bryan/RhizCG/figures/MCCcorr.pdf\", height = 5, width = 12)\n",
    "p %>% print\n",
    "dev.off()"
   ]
  },
  {
   "cell_type": "code",
   "execution_count": 641,
   "metadata": {
    "collapsed": false
   },
   "outputs": [
    {
     "data": {
      "text/plain": [
       "TableGrob (1 x 1) \"arrange\": 1 grobs\n",
       "  z     cells    name           grob\n",
       "1 1 (1-1,1-1) arrange gtable[layout]\n",
       "png \n",
       "  2 \n"
      ]
     },
     "metadata": {},
     "output_type": "display_data"
    }
   ],
   "source": [
    "%%R\n",
    "pdf(file = \"/home/bryan/RhizCG/figures/MCCcorr.pdf\", height = 3.5, width = 4)\n",
    "grid.arrange(p) %>% print\n",
    "dev.off()"
   ]
  },
  {
   "cell_type": "markdown",
   "metadata": {},
   "source": [
    "### intra vs interspecific variation"
   ]
  },
  {
   "cell_type": "code",
   "execution_count": 505,
   "metadata": {
    "collapsed": false
   },
   "outputs": [
    {
     "data": {
      "image/png": "[encoded data removed]"
     },
     "metadata": {},
     "output_type": "display_data"
    }
   ],
   "source": [
    "%%R\n",
    "# define subsets of genotype vs within species vs between species\n",
    "# phy dist = 0.00, 0.0002, > 0.0002\n",
    "Dist %>%\n",
    "  mutate(Related = ifelse(phy_Dist == 0, \"Self\",\n",
    "               ifelse(phy_Dist == 0.0002, \"Intra-specific\", \"Inter-specific\"))) %>%\n",
    "    group_by(Related) %>%\n",
    "    summarise(w_Unif = mean(w_Unif_Dist),\n",
    "              w_Unif.sd = sd(w_Unif_Dist),\n",
    "            w_Unif.se = sd(w_Unif_Dist)/sqrt(length(w_Unif_Dist)),\n",
    "             n = length(w_Unif_Dist)) %>% \n",
    "\n",
    "    arrange(w_Unif) %>%\n",
    "\n",
    "    mutate(Related = factor(Related, Related)) %>%\n",
    "\n",
    "    ggplot(aes(x = Related, y = w_Unif))  +\n",
    "        geom_bar(stat = \"identity\") +\n",
    "      geom_errorbar(aes(y = w_Unif,\n",
    "                  ymin = w_Unif - w_Unif.sd, ymax = w_Unif + w_Unif.sd),\n",
    "                   colour = 'black', width = 0.4) +\n",
    "        theme(axis.title.x = element_blank())+ \n",
    "        ylab(\"Weighted UniFrac\") +\n",
    "        ggtitle(\"Intra- and Inter-specific Variation\") +\n",
    "        theme_bw(base_size = 16)+\n",
    "        theme(axis.title.x = element_blank()) +\n",
    "        theme(legend.position=\"none\")\n",
    "\n"
   ]
  },
  {
   "cell_type": "code",
   "execution_count": 496,
   "metadata": {
    "collapsed": false,
    "scrolled": true
   },
   "outputs": [
    {
     "data": {
      "image/png": "[encoded data removed]"
     },
     "metadata": {},
     "output_type": "display_data"
    }
   ],
   "source": [
    "%%R\n",
    "P = ggplot(df, aes(x = Related, y = w_Unif))  +\n",
    "        geom_bar(stat = \"identity\") + \n",
    "        geom_errorbar(data = df, aes(y = w_Unif,\n",
    "                  ymin = w_Unif - w_Unif.sd, ymax = w_Unif + w_Unif.sd),\n",
    "                   colour = 'black', width = 0.4) +\n",
    "        theme(axis.title.x = element_blank())+ \n",
    "        ylab(\"Weighted UniFrac\") +\n",
    "        ggtitle(\"Intra and Interspecific Variation\") +\n",
    "        theme_bw(base_size = 16)+\n",
    "        theme(axis.title.x = element_blank()) +\n",
    "        theme(legend.position=\"none\")\n",
    "P"
   ]
  },
  {
   "cell_type": "code",
   "execution_count": 33,
   "metadata": {
    "collapsed": false,
    "hide_input": true,
    "scrolled": true
   },
   "outputs": [
    {
     "data": {
      "image/png": "[encoded data removed]"
     },
     "metadata": {},
     "output_type": "display_data"
    }
   ],
   "source": [
    "%%R -w 500 -h 400\n",
    "p4 = Dist %>%\n",
    "    mutate(Related = ifelse(phy_Dist == 0, \"Self\",\n",
    "               ifelse(phy_Dist == 0.0002, \"Intra-specific\", #\"Interspecific\"))) %>%\n",
    "                ifelse(phy_Dist < 0.1, \"Within-Family\", \"Between-Families\")))) %>%\n",
    "\n",
    "\n",
    "    mutate(Related = factor(Related, c(\"Self\",\"Intra-specific\", \"Within-Family\", \"Between-Families\" ))) %>%\n",
    "\n",
    " ggplot(aes(x = Related, y = w_Unif_Dist))  +\n",
    "       geom_boxplot() +\n",
    "\n",
    "#         ylab(\"Weighted UniFrac\") +\n",
    "        #ggtitle(\"Intra- and Interspecific Variation\") +\n",
    "        theme_bw(base_size = 16)+\n",
    "        labs(y = \"Microbial community \\n weighted UniFrac distance\") +\n",
    "       # theme(axis.title.x = element_blank()) +\n",
    "       # theme(axis.title.y = element_blank()) +\n",
    "        theme(legend.position=\"none\")+ \n",
    "        xlab(\"Levels of Host Variation\")\n",
    "p4"
   ]
  },
  {
   "cell_type": "markdown",
   "metadata": {},
   "source": [
    "## Graph of otus showing different trends"
   ]
  },
  {
   "cell_type": "code",
   "execution_count": 36,
   "metadata": {
    "collapsed": false,
    "scrolled": false
   },
   "outputs": [
    {
     "data": {
      "text/plain": [
       "phyloseq-class experiment-level object\n",
       "otu_table()   OTU Table:         [ 6 taxa and 87 samples ]\n",
       "sample_data() Sample Data:       [ 87 samples by 56 sample variables ]\n",
       "tax_table()   Taxonomy Table:    [ 6 taxa by 8 taxonomic ranks ]\n",
       "phy_tree()    Phylogenetic Tree: [ 6 tips and 5 internal nodes ]\n"
      ]
     },
     "metadata": {},
     "output_type": "display_data"
    }
   ],
   "source": [
    "%%R\n",
    "phy.sub = prune_taxa(c(\"OTU.6\", \"OTU.3\", \"OTU.53\", \"OTU.9501\", \"OTU.256\", \"OTU.197\"),phy)\n",
    "phy.sub"
   ]
  },
  {
   "cell_type": "code",
   "execution_count": 38,
   "metadata": {
    "collapsed": false
   },
   "outputs": [
    {
     "name": "stderr",
     "output_type": "stream",
     "text": [
      "/opt/anaconda/lib/python2.7/site-packages/rpy2/robjects/functions.py:106: UserWarning: mean-dispersion relationship\n",
      "\n",
      "  res = super(Function, self).__call__(*new_args, **new_kwargs)\n",
      "/opt/anaconda/lib/python2.7/site-packages/rpy2/robjects/functions.py:106: UserWarning: final dispersion estimates, MLE betas: 38 workers\n",
      "\n",
      "  res = super(Function, self).__call__(*new_args, **new_kwargs)\n",
      "/opt/anaconda/lib/python2.7/site-packages/rpy2/robjects/functions.py:106: UserWarning: fitting model and testing: 38 workers\n",
      "\n",
      "  res = super(Function, self).__call__(*new_args, **new_kwargs)\n"
     ]
    }
   ],
   "source": [
    "%%R\n",
    "# phy\n",
    "sample_data(phy.sub)$DAP = as.factor(sample_data(phy.sub)$DAP)\n",
    "dds = phyloseq_to_deseq2(phy.sub, ~DAP)\n",
    "d_dds = DESeq2::DESeq(dds, parallel = TRUE)"
   ]
  },
  {
   "cell_type": "code",
   "execution_count": 39,
   "metadata": {
    "collapsed": false
   },
   "outputs": [],
   "source": [
    "%%R -w 800 -h 1000\n",
    "#Tinfo = as(tax_table(phy.sub), \"matrix\")\n",
    "p5 <- list()\n",
    "T = c(\"OTU.6\", \"OTU.3\", \"OTU.53\")\n",
    "for (i in T){\n",
    "  d = DESeq2::plotCounts(dds, gene=i, intgroup=c(\"DAP\", \"Type\"), returnData = TRUE)  \n",
    "p[[i]] = ggplot(d, aes(x=DAP, y=count, color = Type)) +\n",
    "  geom_point(position=position_jitter(w=0.1,h=0)) +\n",
    "  theme(legend.position=\"none\")\n",
    "    #ggtitle(paste(i, \"\\n\", Tinfo[i, 2], \"\\n\", Tinfo[i, 6], sep = \"\"))\n",
    "  }\n",
    "\n",
    "#legend = get_legend(p[1])\n",
    "#do.call(grid.arrange,p5)\n",
    "#"
   ]
  },
  {
   "cell_type": "code",
   "execution_count": 40,
   "metadata": {
    "collapsed": false
   },
   "outputs": [
    {
     "data": {
      "text/plain": [
       "Taxonomy Table:     [6 taxa by 8 taxonomic ranks]:\n",
       "         Rank1      Rank2            Rank3                \n",
       "OTU.53   \"Bacteria\" \"Proteobacteria\" \"Gammaproteobacteria\"\n",
       "OTU.9501 \"Bacteria\" \"Proteobacteria\" \"Betaproteobacteria\" \n",
       "OTU.256  \"Bacteria\" \"Proteobacteria\" \"Deltaproteobacteria\"\n",
       "OTU.197  \"Bacteria\" \"Actinobacteria\" \"Streptomycetales\"   \n",
       "OTU.3    \"Bacteria\" \"Actinobacteria\" \"Streptomycetales\"   \n",
       "OTU.6    \"Bacteria\" \"Actinobacteria\" \"MB-A2-108\"          \n",
       "         Rank4                  Rank5             Rank6          \n",
       "OTU.53   \"Xanthomonadales\"      \"Sinobacteraceae\" \"uncultured\"   \n",
       "OTU.9501 \"Burkholderiales\"      \"Comamonadaceae\"  NA             \n",
       "OTU.256  \"Myxococcales\"         \"Nannocystineae\"  \"Haliangiaceae\"\n",
       "OTU.197  \"Streptomycetaceae\"    \"Streptomyces\"    NA             \n",
       "OTU.3    \"Streptomycetaceae\"    \"Streptomyces\"    NA             \n",
       "OTU.6    \"uncultured_bacterium\" NA                NA             \n",
       "         Rank7                  Rank8                 \n",
       "OTU.53   \"uncultured_bacterium\" NA                    \n",
       "OTU.9501 NA                     NA                    \n",
       "OTU.256  \"Haliangium\"           \"uncultured_bacterium\"\n",
       "OTU.197  NA                     NA                    \n",
       "OTU.3    NA                     NA                    \n",
       "OTU.6    NA                     NA                    \n"
      ]
     },
     "metadata": {},
     "output_type": "display_data"
    }
   ],
   "source": [
    "%%R\n",
    "phy.sub %>% tax_table"
   ]
  },
  {
   "cell_type": "code",
   "execution_count": 41,
   "metadata": {
    "collapsed": false
   },
   "outputs": [
    {
     "data": {
      "image/png": "[encoded data removed]"
     },
     "metadata": {},
     "output_type": "display_data"
    }
   ],
   "source": [
    "%%R\n",
    "d = DESeq2::plotCounts(dds, gene=\"OTU.3\", intgroup=c(\"DAP\", \"Type\"), returnData = TRUE)  \n",
    "O.3 = ggplot(d, aes(x=DAP, y=count, color = Type)) +\n",
    "  geom_point(position=position_jitter(w=0.1,h=0)) +\n",
    "    theme_bw(base_size = 16)+\n",
    "    scale_y_log10() +\n",
    "    ggtitle(\"Streptomyces sp. A\") +\n",
    "  theme(legend.position=\"none\") +\n",
    "theme(axis.title.x = element_blank()) \n",
    "\n",
    "\n",
    "d = DESeq2::plotCounts(dds, gene=\"OTU.197\", intgroup=c(\"DAP\", \"Type\"), returnData = TRUE)  \n",
    "O.53 = ggplot(d, aes(x=DAP, y=count, color = Type)) +\n",
    "  geom_point(position=position_jitter(w=0.1,h=0)) +\n",
    "    theme_bw(base_size = 16)+\n",
    "    #scale_y_log10() +\n",
    "  theme(legend.position=\"none\") +\n",
    "    ggtitle(\"Streptomyces sp. B\") \n",
    "   # ylim(0,100)\n",
    "p5 = grid.arrange(O.3, O.53, ncol = 1)"
   ]
  },
  {
   "cell_type": "code",
   "execution_count": 50,
   "metadata": {
    "collapsed": false,
    "hide_input": true
   },
   "outputs": [
    {
     "name": "stdout",
     "output_type": "stream",
     "text": [
      "\n",
      "Error in arrangeGrob(...) : object 'p' not found\n"
     ]
    },
    {
     "name": "stderr",
     "output_type": "stream",
     "text": [
      "/opt/anaconda2/lib/python2.7/site-packages/rpy2/rinterface/__init__.py:185: RRuntimeWarning: Error in arrangeGrob(...) : object 'p' not found\n",
      "\n",
      "  warnings.warn(x, RRuntimeWarning)\n"
     ]
    }
   ],
   "source": [
    "%%R -w 800 -h 600\n",
    "grid.arrange(p,p1,p4,p5, ncol = 2)#layout_matrix = rbind(c(1, 1), c(2,3)))"
   ]
  },
  {
   "cell_type": "markdown",
   "metadata": {},
   "source": [
    "# GLS if self comparisons are removed"
   ]
  },
  {
   "cell_type": "code",
   "execution_count": 168,
   "metadata": {
    "collapsed": false,
    "scrolled": true
   },
   "outputs": [
    {
     "data": {
      "text/plain": [
       "[1] 3741   18\n",
       "[1] 3612   18\n"
      ]
     },
     "metadata": {},
     "output_type": "display_data"
    }
   ],
   "source": [
    "%%R\n",
    "dim(Dist) %>% print\n",
    "SubDist = filter(Dist, phy_Dist > 0.000)\n",
    "dim(SubDist)"
   ]
  },
  {
   "cell_type": "code",
   "execution_count": 29,
   "metadata": {
    "collapsed": false
   },
   "outputs": [
    {
     "data": {
      "text/plain": [
       "Generalized least squares fit by REML\n",
       "  Model: w_Unif_Dist ~ TimeDist \n",
       "  Data: SubDist \n",
       "        AIC       BIC   logLik\n",
       "  -12083.28 -12058.51 6045.638\n",
       "\n",
       "Correlation Structure: corMLPE\n",
       " Formula: ~PlotA + PlotB \n",
       " Parameter estimate(s):\n",
       "      Rho \n",
       "0.2870025 \n",
       "\n",
       "Coefficients:\n",
       "                 Value   Std.Error  t-value p-value\n",
       "(Intercept) 0.22880177 0.007721744 29.63084       0\n",
       "TimeDist    0.00153702 0.000081104 18.95123       0\n",
       "\n",
       " Correlation: \n",
       "         (Intr)\n",
       "TimeDist -0.164\n",
       "\n",
       "Standardized residuals:\n",
       "       Min         Q1        Med         Q3        Max \n",
       "-2.2697804 -0.7286537 -0.1499674  0.6031972  4.2756063 \n",
       "\n",
       "Residual standard error: 0.06601678 \n",
       "Degrees of freedom: 3612 total; 3610 residual\n"
      ]
     },
     "metadata": {},
     "output_type": "display_data"
    }
   ],
   "source": [
    "%%R\n",
    "\n",
    "fit_DS_t =  gls(w_Unif_Dist ~ TimeDist, \n",
    "             correlation = corMLPE(form= ~ PlotA + PlotB), data = SubDist)\n",
    "summary(fit_DS_t)"
   ]
  },
  {
   "cell_type": "code",
   "execution_count": 171,
   "metadata": {
    "collapsed": false
   },
   "outputs": [
    {
     "data": {
      "text/plain": [
       "Generalized least squares fit by REML\n",
       "  Model: w_Unif_Dist ~ I(TimeDist) + I(TimeDist^2) \n",
       "  Data: SubDist \n",
       "        AIC       BIC  logLik\n",
       "  -12095.62 -12064.66 6052.81\n",
       "\n",
       "Correlation Structure: corMLPE\n",
       " Formula: ~PlotA + PlotB \n",
       " Parameter estimate(s):\n",
       "      Rho \n",
       "0.2863537 \n",
       "\n",
       "Coefficients:\n",
       "                    Value   Std.Error   t-value p-value\n",
       "(Intercept)    0.22359182 0.007711557 28.994380       0\n",
       "I(TimeDist)    0.00260200 0.000192309 13.530346       0\n",
       "I(TimeDist^2) -0.00002865 0.000004696 -6.101232       0\n",
       "\n",
       " Correlation: \n",
       "              (Intr) I(TmD)\n",
       "I(TimeDist)   -0.169       \n",
       "I(TimeDist^2)  0.111 -0.908\n",
       "\n",
       "Standardized residuals:\n",
       "       Min         Q1        Med         Q3        Max \n",
       "-2.3250061 -0.7339531 -0.1356121  0.5938031  4.2627414 \n",
       "\n",
       "Residual standard error: 0.06559227 \n",
       "Degrees of freedom: 3612 total; 3609 residual\n"
      ]
     },
     "metadata": {},
     "output_type": "display_data"
    }
   ],
   "source": [
    "%%R\n",
    "\n",
    "fit_DS_tt =  gls(w_Unif_Dist ~ I(TimeDist) + I(TimeDist^2), \n",
    "             correlation = corMLPE(form= ~ PlotA + PlotB), data = SubDist)\n",
    "summary(fit_DS_tt)"
   ]
  },
  {
   "cell_type": "code",
   "execution_count": 172,
   "metadata": {
    "collapsed": false
   },
   "outputs": [
    {
     "data": {
      "text/plain": [
       "Generalized least squares fit by REML\n",
       "  Model: w_Unif_Dist ~ I(phy_Dist) + I(phy_Dist^2) \n",
       "  Data: SubDist \n",
       "        AIC       BIC   logLik\n",
       "  -11804.57 -11773.62 5907.286\n",
       "\n",
       "Correlation Structure: corMLPE\n",
       " Formula: ~PlotA + PlotB \n",
       " Parameter estimate(s):\n",
       "      Rho \n",
       "0.2446601 \n",
       "\n",
       "Coefficients:\n",
       "                   Value  Std.Error  t-value p-value\n",
       "(Intercept)    0.2307937 0.00726975 31.74712       0\n",
       "I(phy_Dist)    0.4674125 0.06482560  7.21031       0\n",
       "I(phy_Dist^2) -0.9154728 0.13588406 -6.73716       0\n",
       "\n",
       " Correlation: \n",
       "              (Intr) I(p_D)\n",
       "I(phy_Dist)   -0.352       \n",
       "I(phy_Dist^2)  0.330 -0.992\n",
       "\n",
       "Standardized residuals:\n",
       "       Min         Q1        Med         Q3        Max \n",
       "-2.3669375 -0.7290327 -0.1414150  0.6117753  4.3003563 \n",
       "\n",
       "Residual standard error: 0.06296981 \n",
       "Degrees of freedom: 3612 total; 3609 residual\n"
      ]
     },
     "metadata": {},
     "output_type": "display_data"
    }
   ],
   "source": [
    "%%R\n",
    "\n",
    "fit_DS_p =  gls(w_Unif_Dist ~ I(phy_Dist) + I(phy_Dist^2), \n",
    "             correlation = corMLPE(form= ~ PlotA + PlotB), data = SubDist)\n",
    "summary(fit_DS_p)\n"
   ]
  },
  {
   "cell_type": "code",
   "execution_count": 169,
   "metadata": {
    "collapsed": false
   },
   "outputs": [],
   "source": [
    "%%R\n",
    "\n",
    "fit_DS_tp =  gls(w_Unif_Dist ~ I(TimeDist) + I(TimeDist^2) + I(phy_Dist) + I(phy_Dist^2), \n",
    "             correlation = corMLPE(form= ~ PlotA + PlotB), data = SubDist)\n"
   ]
  },
  {
   "cell_type": "code",
   "execution_count": 170,
   "metadata": {
    "collapsed": false
   },
   "outputs": [
    {
     "data": {
      "text/plain": [
       "Generalized least squares fit by REML\n",
       "  Model: w_Unif_Dist ~ I(TimeDist) + I(TimeDist^2) + I(phy_Dist) + I(phy_Dist^2) \n",
       "  Data: SubDist \n",
       "        AIC       BIC   logLik\n",
       "  -12125.11 -12081.78 6069.555\n",
       "\n",
       "Correlation Structure: corMLPE\n",
       " Formula: ~PlotA + PlotB \n",
       " Parameter estimate(s):\n",
       "      Rho \n",
       "0.2702715 \n",
       "\n",
       "Coefficients:\n",
       "                   Value  Std.Error   t-value p-value\n",
       "(Intercept)    0.2111091 0.00763468 27.651333       0\n",
       "I(TimeDist)    0.0025015 0.00019271 12.980625       0\n",
       "I(TimeDist^2) -0.0000243 0.00000473 -5.129827       0\n",
       "I(phy_Dist)    0.3847232 0.06310220  6.096828       0\n",
       "I(phy_Dist^2) -0.8454835 0.13215860 -6.397492       0\n",
       "\n",
       " Correlation: \n",
       "              (Intr) I(TmD) I(TD^2 I(p_D)\n",
       "I(TimeDist)   -0.131                     \n",
       "I(TimeDist^2)  0.090 -0.897              \n",
       "I(phy_Dist)   -0.311 -0.107  0.103       \n",
       "I(phy_Dist^2)  0.295  0.100 -0.117 -0.991\n",
       "\n",
       "Standardized residuals:\n",
       "       Min         Q1        Med         Q3        Max \n",
       "-2.4077211 -0.7295179 -0.1332669  0.5933349  4.1830892 \n",
       "\n",
       "Residual standard error: 0.06298842 \n",
       "Degrees of freedom: 3612 total; 3607 residual\n"
      ]
     },
     "metadata": {},
     "output_type": "display_data"
    }
   ],
   "source": [
    "%%R\n",
    "summary(fit_DS_tp)"
   ]
  },
  {
   "cell_type": "code",
   "execution_count": 121,
   "metadata": {
    "collapsed": false
   },
   "outputs": [
    {
     "data": {
      "image/png": "[encoded data removed]"
     },
     "metadata": {},
     "output_type": "display_data"
    }
   ],
   "source": [
    "%%R -w 800 -h 600\n",
    "test <- function(x) {-.701*x ^ 2 + .435*x + .217}\n",
    "\n",
    "p = ggplot(SubDist, aes(y = w_Unif_Dist, x = phy_Dist)) \n",
    "p = p + geom_point(pch = 21) #aes(size = phy_Dist), shape = 1)\n",
    "#p = p + stat_smooth(method = \"lm\", se = FALSE)\n",
    "p = p + theme_bw(base_size = 24)\n",
    "p = p + theme(panel.border = element_blank()) \n",
    "p = p + theme(axis.line.x = element_line(color=\"black\", size = 1),\n",
    "    axis.line.y = element_line(color=\"black\", size = 1))\n",
    "\n",
    "# p = p + stat_smooth(method = lm, y ~ poly(x,2), se = FALSE)\n",
    "p = p + stat_function(fun = test)\n",
    "# p = p + stat_smooth(method = \"lm\", se = FALSE)\n",
    "p = p + labs(x = \"Plant phylogenetic distance\")\n",
    "p = p + labs(y = \"Microbial community \\n weighted UniFrac distance \\n self comparisons removed\")\n",
    "p"
   ]
  },
  {
   "cell_type": "markdown",
   "metadata": {},
   "source": [
    "# GLS if intraspecific and self comparisons are removed"
   ]
  },
  {
   "cell_type": "markdown",
   "metadata": {},
   "source": [
    "## Is sample date more informative than time once self and intra-specific comparisons are removed"
   ]
  },
  {
   "cell_type": "code",
   "execution_count": 36,
   "metadata": {
    "collapsed": false
   },
   "outputs": [
    {
     "data": {
      "text/plain": [
       "[1] 3741   18\n",
       "[1] 2716   18\n"
      ]
     },
     "metadata": {},
     "output_type": "display_data"
    }
   ],
   "source": [
    "%%R\n",
    "dim(Dist) %>% print\n",
    "SubDist = filter(Dist, phy_Dist > 0.003)\n",
    "dim(SubDist) %>% print\n"
   ]
  },
  {
   "cell_type": "code",
   "execution_count": 116,
   "metadata": {
    "collapsed": false
   },
   "outputs": [
    {
     "data": {
      "text/plain": [
       "Generalized least squares fit by REML\n",
       "  Model: w_Unif_Dist ~ SameDay \n",
       "  Data: SubDist \n",
       "        AIC       BIC   logLik\n",
       "  -8748.342 -8724.718 4378.171\n",
       "\n",
       "Correlation Structure: corMLPE\n",
       " Formula: ~PlotA + PlotB \n",
       " Parameter estimate(s):\n",
       "     Rho \n",
       "0.261462 \n",
       "\n",
       "Coefficients:\n",
       "                 Value   Std.Error  t-value p-value\n",
       "(Intercept) 0.21111869 0.008114730 26.01672       0\n",
       "SameDay1    0.04879541 0.003769404 12.94513       0\n",
       "\n",
       " Correlation: \n",
       "         (Intr)\n",
       "SameDay1 -0.437\n",
       "\n",
       "Standardized residuals:\n",
       "        Min          Q1         Med          Q3         Max \n",
       "-2.11673194 -0.57448135  0.04605114  0.75999517  4.44195150 \n",
       "\n",
       "Residual standard error: 0.06588294 \n",
       "Degrees of freedom: 2716 total; 2714 residual\n"
      ]
     },
     "metadata": {},
     "output_type": "display_data"
    }
   ],
   "source": [
    "%%R\n",
    "\n",
    "fit_ds1 =  gls(w_Unif_Dist ~ SameDay, \n",
    "             correlation = corMLPE(form= ~ PlotA + PlotB), data = SubDist)\n",
    "summary(fit_ds1)"
   ]
  },
  {
   "cell_type": "code",
   "execution_count": 37,
   "metadata": {
    "collapsed": false
   },
   "outputs": [
    {
     "data": {
      "text/plain": [
       "Generalized least squares fit by REML\n",
       "  Model: w_Unif_Dist ~ TimeDist \n",
       "  Data: SubDist \n",
       "        AIC       BIC   logLik\n",
       "  -8832.812 -8809.188 4420.406\n",
       "\n",
       "Correlation Structure: corMLPE\n",
       " Formula: ~PlotA + PlotB \n",
       " Parameter estimate(s):\n",
       "      Rho \n",
       "0.2690645 \n",
       "\n",
       "Coefficients:\n",
       "                 Value   Std.Error  t-value p-value\n",
       "(Intercept) 0.23104818 0.007555870 30.57863       0\n",
       "TimeDist    0.00148255 0.000090664 16.35215       0\n",
       "\n",
       " Correlation: \n",
       "         (Intr)\n",
       "TimeDist -0.21 \n",
       "\n",
       "Standardized residuals:\n",
       "        Min          Q1         Med          Q3         Max \n",
       "-2.28999174 -0.58080086  0.02360467  0.74334256  4.27966007 \n",
       "\n",
       "Residual standard error: 0.06577294 \n",
       "Degrees of freedom: 2716 total; 2714 residual\n"
      ]
     },
     "metadata": {},
     "output_type": "display_data"
    }
   ],
   "source": [
    "%%R\n",
    "\n",
    "fit_ds2 =  gls(w_Unif_Dist ~ TimeDist, \n",
    "             correlation = corMLPE(form= ~ PlotA + PlotB), data = SubDist)\n",
    "summary(fit_ds2)"
   ]
  },
  {
   "cell_type": "code",
   "execution_count": 38,
   "metadata": {
    "collapsed": false
   },
   "outputs": [
    {
     "data": {
      "text/plain": [
       "Generalized least squares fit by REML\n",
       "  Model: w_Unif_Dist ~ poly(TimeDist, 2) \n",
       "  Data: SubDist \n",
       "        AIC       BIC   logLik\n",
       "  -8901.364 -8871.835 4455.682\n",
       "\n",
       "Correlation Structure: corMLPE\n",
       " Formula: ~PlotA + PlotB \n",
       " Parameter estimate(s):\n",
       "      Rho \n",
       "0.2704501 \n",
       "\n",
       "Coefficients:\n",
       "                        Value  Std.Error  t-value p-value\n",
       "(Intercept)         0.2578574 0.00734522 35.10549       0\n",
       "poly(TimeDist, 2)1  0.8314166 0.06349334 13.09455       0\n",
       "poly(TimeDist, 2)2 -0.4543972 0.05766800 -7.87954       0\n",
       "\n",
       " Correlation: \n",
       "                   (Intr) p(TD,2)1\n",
       "poly(TimeDist, 2)1 0.012          \n",
       "poly(TimeDist, 2)2 0.006  0.324   \n",
       "\n",
       "Standardized residuals:\n",
       "       Min         Q1        Med         Q3        Max \n",
       "-2.3807145 -0.5754508  0.0334641  0.7583578  4.2436324 \n",
       "\n",
       "Residual standard error: 0.06522988 \n",
       "Degrees of freedom: 2716 total; 2713 residual\n"
      ]
     },
     "metadata": {},
     "output_type": "display_data"
    }
   ],
   "source": [
    "%%R\n",
    "fit_ds3 =  gls(w_Unif_Dist ~ poly(TimeDist, 2), \n",
    "             correlation = corMLPE(form= ~ PlotA + PlotB), data = SubDist)\n",
    "summary(fit_ds3)"
   ]
  },
  {
   "cell_type": "code",
   "execution_count": 164,
   "metadata": {
    "collapsed": false
   },
   "outputs": [
    {
     "data": {
      "text/plain": [
       "Generalized least squares fit by REML\n",
       "  Model: w_Unif_Dist ~ I(TimeDist) + I(TimeDist^2) \n",
       "  Data: SubDist \n",
       "        AIC       BIC   logLik\n",
       "  -8869.898 -8840.369 4439.949\n",
       "\n",
       "Correlation Structure: corMLPE\n",
       " Formula: ~PlotA + PlotB \n",
       " Parameter estimate(s):\n",
       "      Rho \n",
       "0.2704501 \n",
       "\n",
       "Coefficients:\n",
       "                    Value   Std.Error   t-value p-value\n",
       "(Intercept)    0.22087663 0.007620071 28.986164       0\n",
       "I(TimeDist)    0.00324065 0.000240428 13.478636       0\n",
       "I(TimeDist^2) -0.00004475 0.000005679 -7.879539       0\n",
       "\n",
       " Correlation: \n",
       "              (Intr) I(TmD)\n",
       "I(TimeDist)   -0.234       \n",
       "I(TimeDist^2)  0.169 -0.928\n",
       "\n",
       "Standardized residuals:\n",
       "       Min         Q1        Med         Q3        Max \n",
       "-2.3807145 -0.5754508  0.0334641  0.7583578  4.2436325 \n",
       "\n",
       "Residual standard error: 0.06522988 \n",
       "Degrees of freedom: 2716 total; 2713 residual\n"
      ]
     },
     "metadata": {},
     "output_type": "display_data"
    }
   ],
   "source": [
    "%%R\n",
    "fit_ds3 =  gls(w_Unif_Dist ~ I(TimeDist) + I(TimeDist^2), \n",
    "             correlation = corMLPE(form= ~ PlotA + PlotB), data = SubDist)\n",
    "summary(fit_ds3)"
   ]
  },
  {
   "cell_type": "code",
   "execution_count": 163,
   "metadata": {
    "collapsed": false
   },
   "outputs": [
    {
     "data": {
      "text/plain": [
       "Generalized least squares fit by REML\n",
       "  Model: w_Unif_Dist ~ I(phy_Dist) + I(phy_Dist^2) \n",
       "  Data: SubDist \n",
       "        AIC       BIC   logLik\n",
       "  -8603.568 -8574.039 4306.784\n",
       "\n",
       "Correlation Structure: corMLPE\n",
       " Formula: ~PlotA + PlotB \n",
       " Parameter estimate(s):\n",
       "      Rho \n",
       "0.2299531 \n",
       "\n",
       "Coefficients:\n",
       "                   Value  Std.Error   t-value p-value\n",
       "(Intercept)    0.2366985 0.00804425 29.424553   0e+00\n",
       "I(phy_Dist)    0.3651670 0.08627919  4.232388   0e+00\n",
       "I(phy_Dist^2) -0.7108636 0.17614636 -4.035642   1e-04\n",
       "\n",
       " Correlation: \n",
       "              (Intr) I(p_D)\n",
       "I(phy_Dist)   -0.535       \n",
       "I(phy_Dist^2)  0.514 -0.994\n",
       "\n",
       "Standardized residuals:\n",
       "         Min           Q1          Med           Q3          Max \n",
       "-2.229090837 -0.609663075 -0.007727679  0.741762512  4.232338518 \n",
       "\n",
       "Residual standard error: 0.06382855 \n",
       "Degrees of freedom: 2716 total; 2713 residual\n"
      ]
     },
     "metadata": {},
     "output_type": "display_data"
    }
   ],
   "source": [
    "%%R\n",
    "\n",
    "fit_ds4 =  gls(w_Unif_Dist ~ I(phy_Dist) + I(phy_Dist^2), \n",
    "             correlation = corMLPE(form= ~ PlotA + PlotB), data = SubDist)\n",
    "summary(fit_ds4)"
   ]
  },
  {
   "cell_type": "code",
   "execution_count": null,
   "metadata": {
    "collapsed": true
   },
   "outputs": [],
   "source": [
    "%%R\n",
    "fit_ds5 =  gls(w_Unif_Dist ~ I(TimeDist) + I(TimeDist^2) + I(phy_Dist) + I(phy_Dist^2), \n",
    "             correlation = corMLPE(form= ~ PlotA + PlotB), data = SubDist)\n",
    "summary(fit_ds5)"
   ]
  },
  {
   "cell_type": "code",
   "execution_count": 161,
   "metadata": {
    "collapsed": false,
    "scrolled": false
   },
   "outputs": [
    {
     "data": {
      "text/plain": [
       "Generalized least squares fit by REML\n",
       "  Model: w_Unif_Dist ~ I(TimeDist) + I(TimeDist^2) + I(phy_Dist) + I(phy_Dist^2) \n",
       "  Data: SubDist \n",
       "        AIC       BIC   logLik\n",
       "  -8890.868 -8849.533 4452.434\n",
       "\n",
       "Correlation Structure: corMLPE\n",
       " Formula: ~PlotA + PlotB \n",
       " Parameter estimate(s):\n",
       "      Rho \n",
       "0.2588424 \n",
       "\n",
       "Coefficients:\n",
       "                   Value  Std.Error   t-value p-value\n",
       "(Intercept)    0.2019245 0.00847352 23.830071       0\n",
       "I(TimeDist)    0.0032237 0.00023926 13.473800       0\n",
       "I(TimeDist^2) -0.0000412 0.00000570 -7.238221       0\n",
       "I(phy_Dist)    0.4358598 0.08391531  5.194044       0\n",
       "I(phy_Dist^2) -0.9380151 0.17165240 -5.464620       0\n",
       "\n",
       " Correlation: \n",
       "              (Intr) I(TmD) I(TD^2 I(p_D)\n",
       "I(TimeDist)   -0.200                     \n",
       "I(TimeDist^2)  0.138 -0.919              \n",
       "I(phy_Dist)   -0.499 -0.017  0.053       \n",
       "I(phy_Dist^2)  0.482  0.016 -0.066 -0.994\n",
       "\n",
       "Standardized residuals:\n",
       "         Min           Q1          Med           Q3          Max \n",
       "-2.384940977 -0.614320397 -0.008011826  0.722063925  4.119850818 \n",
       "\n",
       "Residual standard error: 0.06335431 \n",
       "Degrees of freedom: 2716 total; 2711 residual\n"
      ]
     },
     "metadata": {},
     "output_type": "display_data"
    }
   ],
   "source": [
    "%%R\n",
    "summary(fit_ds5)"
   ]
  },
  {
   "cell_type": "code",
   "execution_count": 166,
   "metadata": {
    "collapsed": false
   },
   "outputs": [
    {
     "data": {
      "image/png": "[encoded data removed]"
     },
     "metadata": {},
     "output_type": "display_data"
    }
   ],
   "source": [
    "%%R\n",
    "test <- function(x) {-.710*x ^ 2 + .365*x + .236}\n",
    "ps = ggplot(SubDist, aes(y = w_Unif_Dist, x = phy_Dist)) \n",
    "ps= ps + geom_point(pch = 21) #aes(size = phy_Dist), shape = 1)\n",
    "#p = p + stat_smooth(method = \"lm\", se = FALSE)\n",
    "ps = ps + theme_bw(base_size = 16)\n",
    "ps = ps + theme(panel.border = element_blank()) \n",
    "ps = ps + theme(axis.line.x = element_line(color=\"black\", size = 1),\n",
    "    axis.line.y = element_line(color=\"black\", size = 1))\n",
    "\n",
    "# p = p + stat_smooth(method = lm, y ~ poly(x,2), se = FALSE)\n",
    "ps = ps + stat_function(fun = test)\n",
    "# p = p + stat_smooth(method = \"lm\", se = FALSE)\n",
    "ps = ps + labs(x = \"Plant phylogenetic distance\")\n",
    "ps = ps + labs(y = \"Microbial community \\n weighted UniFrac distance\")\n",
    "ps"
   ]
  },
  {
   "cell_type": "markdown",
   "metadata": {},
   "source": [
    "# GLS if only same day plants are compared"
   ]
  },
  {
   "cell_type": "code",
   "execution_count": 670,
   "metadata": {
    "collapsed": false
   },
   "outputs": [
    {
     "data": {
      "text/plain": [
       "[1] 3741   22\n",
       "[1] 557  22\n",
       " [1] SETFA  75-062 B73    MS71   FAGES  Oh7B   B97    H99    Il14H  GLYMA \n",
       "[11] AMAPO  ERATE  ELCOR  SORSUD SORBI  HELAN  Ki3    Hp301  ECHCG  Tx303 \n",
       "[21] Mo18   ABUTH \n",
       "22 Levels: 75-062 ABUTH AMAPO B73 B97 ECHCG ELCOR ERATE FAGES GLYMA ... Tx303\n"
      ]
     },
     "metadata": {},
     "output_type": "display_data"
    }
   ],
   "source": [
    "%%R\n",
    "dim(Dist) %>% print\n",
    "SubDist = filter(Dist, SameDay == 0)\n",
    "\n",
    "\n",
    "dim(SubDist) %>% print\n",
    "SubDist$PlantA %>% unique\n"
   ]
  },
  {
   "cell_type": "code",
   "execution_count": 671,
   "metadata": {
    "collapsed": false
   },
   "outputs": [
    {
     "data": {
      "text/plain": [
       "Generalized least squares fit by REML\n",
       "  Model: w_Unif_Dist ~ phy_Dist \n",
       "  Data: SubDist \n",
       "        AIC       BIC   logLik\n",
       "  -1845.611 -1828.335 926.8054\n",
       "\n",
       "Correlation Structure: corMLPE\n",
       " Formula: ~PlotA + PlotB \n",
       " Parameter estimate(s):\n",
       "      Rho \n",
       "0.2034893 \n",
       "\n",
       "Coefficients:\n",
       "                Value   Std.Error  t-value p-value\n",
       "(Intercept) 0.1981190 0.005544482 35.73264       0\n",
       "phy_Dist    0.1173023 0.022145088  5.29699       0\n",
       "\n",
       " Correlation: \n",
       "         (Intr)\n",
       "phy_Dist -0.243\n",
       "\n",
       "Standardized residuals:\n",
       "       Min         Q1        Med         Q3        Max \n",
       "-1.9257419 -0.6865501 -0.1091856  0.6224320  3.4666207 \n",
       "\n",
       "Residual standard error: 0.05195799 \n",
       "Degrees of freedom: 557 total; 555 residual\n"
      ]
     },
     "metadata": {},
     "output_type": "display_data"
    }
   ],
   "source": [
    "%%R\n",
    "fitSameDay0_a =  gls(w_Unif_Dist ~ phy_Dist, correlation = corMLPE(form= ~ PlotA + PlotB), data = SubDist)\n",
    "summary(fitSameDay0_a)"
   ]
  },
  {
   "cell_type": "code",
   "execution_count": 672,
   "metadata": {
    "collapsed": false,
    "scrolled": true
   },
   "outputs": [
    {
     "data": {
      "text/plain": [
       "Generalized least squares fit by REML\n",
       "  Model: w_Unif_Dist ~ poly(phy_Dist, 2) \n",
       "  Data: SubDist \n",
       "        AIC       BIC   logLik\n",
       "  -1857.397 -1835.812 933.6987\n",
       "\n",
       "Correlation Structure: corMLPE\n",
       " Formula: ~PlotA + PlotB \n",
       " Parameter estimate(s):\n",
       "     Rho \n",
       "0.203791 \n",
       "\n",
       "Coefficients:\n",
       "                        Value  Std.Error  t-value p-value\n",
       "(Intercept)         0.2042236 0.00532399 38.35910   0e+00\n",
       "poly(phy_Dist, 2)1  0.2647764 0.05357727  4.94195   0e+00\n",
       "poly(phy_Dist, 2)2 -0.2274949 0.05668382 -4.01340   1e-04\n",
       "\n",
       " Correlation: \n",
       "                   (Intr) p(_D,2)1\n",
       "poly(phy_Dist, 2)1 -0.064         \n",
       "poly(phy_Dist, 2)2 -0.033  0.100  \n",
       "\n",
       "Standardized residuals:\n",
       "       Min         Q1        Med         Q3        Max \n",
       "-1.9880361 -0.6952600 -0.1074439  0.5571841  3.5120538 \n",
       "\n",
       "Residual standard error: 0.0512834 \n",
       "Degrees of freedom: 557 total; 554 residual\n"
      ]
     },
     "metadata": {},
     "output_type": "display_data"
    }
   ],
   "source": [
    "%%R\n",
    "fitSameDay0_b =  gls(w_Unif_Dist ~ poly(phy_Dist,2), \n",
    "             correlation = corMLPE(form= ~ PlotA + PlotB), data = SubDist)\n",
    "summary(fitSameDay0_b)"
   ]
  },
  {
   "cell_type": "code",
   "execution_count": 677,
   "metadata": {
    "collapsed": false,
    "scrolled": true
   },
   "outputs": [
    {
     "data": {
      "text/plain": [
       "[1] 3741   22\n",
       "Generalized least squares fit by REML\n",
       "  Model: w_Unif_Dist ~ poly(phy_Dist, 2) \n",
       "  Data: SubDist \n",
       "        AIC       BIC   logLik\n",
       "  -1465.722 -1445.461 737.8609\n",
       "\n",
       "Correlation Structure: corMLPE\n",
       " Formula: ~PlotA + PlotB \n",
       " Parameter estimate(s):\n",
       "      Rho \n",
       "0.2501031 \n",
       "\n",
       "Coefficients:\n",
       "                        Value  Std.Error  t-value p-value\n",
       "(Intercept)         0.2125537 0.00623859 34.07080  0.0000\n",
       "poly(phy_Dist, 2)1  0.2610183 0.08379096  3.11511  0.0020\n",
       "poly(phy_Dist, 2)2 -0.1422964 0.08719410 -1.63195  0.1034\n",
       "\n",
       " Correlation: \n",
       "                   (Intr) p(_D,2)1\n",
       "poly(phy_Dist, 2)1 -0.217         \n",
       "poly(phy_Dist, 2)2 -0.004 -0.008  \n",
       "\n",
       "Standardized residuals:\n",
       "       Min         Q1        Med         Q3        Max \n",
       "-1.9310926 -0.7330344 -0.1046053  0.5836328  3.3770178 \n",
       "\n",
       "Residual standard error: 0.05122291 \n",
       "Degrees of freedom: 428 total; 425 residual\n"
      ]
     },
     "metadata": {},
     "output_type": "display_data"
    }
   ],
   "source": [
    "%%R\n",
    "dim(Dist) %>% print\n",
    "SubDist = filter(Dist, SameDay == 0 & phy_Dist > 0.000)\n",
    "dim(SubDist)\n",
    "\n",
    "\n",
    "fitSD_dropself_a =  gls(w_Unif_Dist ~ poly(phy_Dist,2), \n",
    "             correlation = corMLPE(form= ~ PlotA + PlotB), data = SubDist)\n",
    "summary(fitSD_dropself_a)"
   ]
  },
  {
   "cell_type": "code",
   "execution_count": 678,
   "metadata": {
    "collapsed": false
   },
   "outputs": [
    {
     "data": {
      "image/png": "[encoded data removed]"
     },
     "metadata": {},
     "output_type": "display_data"
    }
   ],
   "source": [
    "%%R -w 800 -h 600\n",
    "#test <- function(x) {-.858*x ^ 2 + .69*x + .213}\n",
    "\n",
    "               \n",
    "p = ggplot(SubDist, aes(y = w_Unif_Dist, x = phy_Dist)) \n",
    "p = p + geom_point(pch = 21) #aes(size = phy_Dist), shape = 1)\n",
    "p = p + stat_smooth(method = \"lm\", se = FALSE)\n",
    "p = p + theme_bw(base_size = 24)\n",
    "p = p + theme(panel.border = element_blank()) \n",
    "p = p + theme(axis.line.x = element_line(color=\"black\", size = 1),\n",
    "    axis.line.y = element_line(color=\"black\", size = 1))\n",
    "\n",
    "# p = p + stat_smooth(method = lm, y ~ poly(x,2), se = FALSE)\n",
    "# p = p + stat_function(fun = test)\n",
    "# p = p + stat_smooth(method = \"lm\", se = FALSE)\n",
    "p = p + labs(x = \"Plant phylogenetic distance\")\n",
    "p = p + labs(y = \"Microbial community \\n weighted UniFrac distance\")\n",
    "p_SD_dropself = p\n",
    "p_SD_dropself"
   ]
  },
  {
   "cell_type": "markdown",
   "metadata": {},
   "source": [
    "# GLS on species comparisons"
   ]
  },
  {
   "cell_type": "code",
   "execution_count": 93,
   "metadata": {
    "collapsed": false
   },
   "outputs": [
    {
     "data": {
      "text/plain": [
       "[1] 3741   18\n",
       "[1] 996  18\n"
      ]
     },
     "metadata": {},
     "output_type": "display_data"
    }
   ],
   "source": [
    "%%R\n",
    "dim(Dist) %>% print\n",
    "SubDist = filter(Dist, phy_Dist > 0.003)\n",
    "SubDist = filter(SubDist, PlantA %in% c(\"B73\",   \"ERATE\", \n",
    " \"ELCOR\",  \"SORSUD\",    \"SORBI\", \"HELAN\", \"FAGES\", \"AMAPO\", \"ECHCG\", \"GLYMA\", \"SETFA\", \"ABUTH\") &\n",
    "                PlantB %in% c(\"B73\",   \"ERATE\", \n",
    " \"ELCOR\",  \"SORSUD\",    \"SORBI\", \"HELAN\", \"FAGES\", \"AMAPO\", \"ECHCG\", \"GLYMA\", \"SETFA\", \"ABUTH\"))\n",
    "dim(SubDist) %>% print\n",
    "\n"
   ]
  },
  {
   "cell_type": "code",
   "execution_count": 94,
   "metadata": {
    "collapsed": true
   },
   "outputs": [],
   "source": [
    "%%R\n",
    "fit_t =  gls(w_Unif_Dist ~ TimeDist, \n",
    "             correlation = corMLPE(form= ~ PlotA + PlotB), data = SubDist)"
   ]
  },
  {
   "cell_type": "code",
   "execution_count": 98,
   "metadata": {
    "collapsed": false
   },
   "outputs": [
    {
     "data": {
      "text/plain": [
       "Generalized least squares fit by REML\n",
       "  Model: w_Unif_Dist ~ TimeDist \n",
       "  Data: SubDist \n",
       "        AIC       BIC   logLik\n",
       "  -3044.262 -3024.655 1526.131\n",
       "\n",
       "Correlation Structure: corMLPE\n",
       " Formula: ~PlotA + PlotB \n",
       " Parameter estimate(s):\n",
       "      Rho \n",
       "0.2616003 \n",
       "\n",
       "Coefficients:\n",
       "                 Value   Std.Error  t-value p-value\n",
       "(Intercept) 0.25699992 0.010813148 23.76735       0\n",
       "TimeDist    0.00157976 0.000134793 11.71992       0\n",
       "\n",
       " Correlation: \n",
       "         (Intr)\n",
       "TimeDist -0.246\n",
       "\n",
       "Standardized residuals:\n",
       "       Min         Q1        Med         Q3        Max \n",
       "-2.4870127 -0.7483588 -0.1053911  0.6205608  3.6395720 \n",
       "\n",
       "Residual standard error: 0.06948877 \n",
       "Degrees of freedom: 996 total; 994 residual\n"
      ]
     },
     "metadata": {},
     "output_type": "display_data"
    }
   ],
   "source": [
    "%%R\n",
    "summary(fit_t)"
   ]
  },
  {
   "cell_type": "code",
   "execution_count": 109,
   "metadata": {
    "collapsed": false
   },
   "outputs": [],
   "source": [
    "%%R\n",
    "fit_t1  =  gls(w_Unif_Dist ~ SameDay, \n",
    "             correlation = corMLPE(form= ~ PlotA + PlotB), data = SubDist)"
   ]
  },
  {
   "cell_type": "code",
   "execution_count": 97,
   "metadata": {
    "collapsed": false
   },
   "outputs": [],
   "source": [
    "%%R\n",
    "fit_t2 =  gls(w_Unif_Dist ~ TimeDist + SameDay, \n",
    "             correlation = corMLPE(form= ~ PlotA + PlotB), data = SubDist)"
   ]
  },
  {
   "cell_type": "code",
   "execution_count": 103,
   "metadata": {
    "collapsed": true
   },
   "outputs": [],
   "source": [
    "%%R\n",
    "fit_t3 =  gls(w_Unif_Dist ~ TimeDist + phy_Dist, \n",
    "             correlation = corMLPE(form= ~ PlotA + PlotB), data = SubDist)"
   ]
  },
  {
   "cell_type": "code",
   "execution_count": 106,
   "metadata": {
    "collapsed": true
   },
   "outputs": [],
   "source": [
    "%%R\n",
    "fit_t4 =  gls(w_Unif_Dist ~ TimeDist + phy_Dist + SameDay, \n",
    "             correlation = corMLPE(form= ~ PlotA + PlotB), data = SubDist)"
   ]
  },
  {
   "cell_type": "code",
   "execution_count": 113,
   "metadata": {
    "collapsed": true
   },
   "outputs": [],
   "source": [
    "%%R\n",
    "fit_t5 =  gls(w_Unif_Dist ~ phy_Dist + SameDay, \n",
    "             correlation = corMLPE(form= ~ PlotA + PlotB), data = SubDist)"
   ]
  },
  {
   "cell_type": "code",
   "execution_count": 114,
   "metadata": {
    "collapsed": false,
    "scrolled": true
   },
   "outputs": [
    {
     "data": {
      "text/plain": [
       "       Model df       AIC       BIC   logLik   Test   L.Ratio p-value\n",
       "fit_t      1  4 -3044.262 -3024.655 1526.131                         \n",
       "fit_t1     2  4 -3140.774 -3121.167 1574.387                         \n",
       "fit_t2     3  5 -3162.601 -3138.097 1586.300 2 vs 3  23.82681  <.0001\n",
       "fit_t4     4  6 -3162.196 -3132.798 1587.098 3 vs 4   1.59553  0.2065\n",
       "fit_t3     5  5 -3053.371 -3028.867 1531.685 4 vs 5 110.82533  <.0001\n",
       "fit_t5     6  5 -3133.507 -3109.003 1571.754                         \n"
      ]
     },
     "metadata": {},
     "output_type": "display_data"
    }
   ],
   "source": [
    "%%R\n",
    "anova(fit_t, fit_t1, fit_t2, fit_t4, fit_t3, fit_t5)"
   ]
  },
  {
   "cell_type": "markdown",
   "metadata": {},
   "source": [
    "* Once within species comparisons are removed and maize inbreds are removed only time and same day matter\n",
    "* This could be misleading since there are no dates left with comparisons"
   ]
  },
  {
   "cell_type": "markdown",
   "metadata": {
    "collapsed": true
   },
   "source": [
    "# GLS model on early subset of plants"
   ]
  },
  {
   "cell_type": "code",
   "execution_count": 420,
   "metadata": {
    "collapsed": false
   },
   "outputs": [
    {
     "data": {
      "text/plain": [
       " [1] \"75-062\" \"ABUTH\"  \"AMAPO\"  \"B73\"    \"B97\"    \"ECHCG\"  \"ELCOR\"  \"ERATE\" \n",
       " [9] \"FAGES\"  \"GLYMA\"  \"H99\"    \"HELAN\"  \"Hp301\"  \"Il14H\"  \"Ki3\"    \"Mo18\"  \n",
       "[17] \"MS71\"   \"Oh7B\"   \"SETFA\"  \"SORBI\"  \"SORSUD\" \"Tx303\" \n",
       "Importance of components:\n",
       "                          PC1    PC2     PC3     PC4\n",
       "Standard deviation     1.5581 1.1550 0.48701 0.02980\n",
       "Proportion of Variance 0.6069 0.3335 0.05929 0.00022\n",
       "Cumulative Proportion  0.6069 0.9405 0.99978 1.00000\n",
       "                        PC1         PC2       PC3        PC4\n",
       "log(SeedSize_mg)  0.5335000 -0.35762792 0.7637714  0.0642903\n",
       "A_Resid_logN     -0.5518070 -0.42993478 0.2407640 -0.6728282\n",
       "A_Resid_logCN    -0.1202952  0.82476307 0.4914675 -0.2524967\n",
       "A_Resid_logB     -0.6296157 -0.08381067 0.3422653  0.6923975\n"
      ]
     },
     "metadata": {},
     "output_type": "display_data"
    },
    {
     "data": {
      "image/png": "[encoded data removed]"
     },
     "metadata": {},
     "output_type": "display_data"
    }
   ],
   "source": [
    "%%R\n",
    "# PCA of annuals\n",
    "phy = physeq.Nneg #start from raw object\n",
    "\n",
    "sd = as(sample_data(phy), \"data.frame\")\n",
    "\n",
    "sd = left_join(sd, SS, by = \"Plant\")\n",
    "sd = left_join(sd, M_GDD, by = \"DAP\")\n",
    "\n",
    "data = filter(sd, DAP %in% c( \"53\", \"57\", \"61\"))\n",
    "data$Plant %>% levels %>% print\n",
    "\n",
    "fit = prcomp(~log(SeedSize_mg) + A_Resid_logN + A_Resid_logCN + A_Resid_logB, data = data, \n",
    "                 na.action = na.exclude, center = TRUE, scale = TRUE)\n",
    "\n",
    "summary(fit) %>% print\n",
    "fit$rotation %>% print\n",
    "biplot(fit)\n",
    " "
   ]
  },
  {
   "cell_type": "code",
   "execution_count": 421,
   "metadata": {
    "collapsed": false
   },
   "outputs": [
    {
     "data": {
      "image/png": "[encoded data removed]"
     },
     "metadata": {},
     "output_type": "display_data"
    }
   ],
   "source": [
    "%%R -w 600 -h 500\n",
    "S = predict(fit)[,1:3]\n",
    "E_Fit = cbind(data[,1:57], S)\n",
    "row.names(E_Fit) = E_Fit$X.sample\n",
    "sample_data(phy) = E_Fit\n",
    "\n",
    "\n",
    "p = ggplot(E_Fit, aes(PC1, PC2, fill = Plant))\n",
    "p = p + geom_point(pch = 21, size = 4)\n",
    "#p = p + scale_colour_brewer(palette=\"Paired\")\n",
    "p = p + ggtitle(\"PCA of Growth Residuals\")\n",
    "p"
   ]
  },
  {
   "cell_type": "code",
   "execution_count": 422,
   "metadata": {
    "collapsed": false
   },
   "outputs": [
    {
     "data": {
      "text/plain": [
       "              PlotA             PlotB    PC3Dist\n",
       "1 sample4-2.02_Nneg sample4-2.02_Nneg 0.00000000\n",
       "2 sample4-4.21_Nneg sample4-2.02_Nneg 0.33812225\n",
       "3 sample2-2.08_Nneg sample4-2.02_Nneg 0.61787646\n",
       "4 sample3-2.03_Nneg sample4-2.02_Nneg 0.03565969\n",
       "5 sample4-1.03_Nneg sample4-2.02_Nneg 0.51134978\n",
       "6 sample3-3.06_Nneg sample4-2.02_Nneg 0.86741853\n",
       "                             PlotComp\n",
       "1 sample4-2.02_Nneg-sample4-2.02_Nneg\n",
       "2 sample4-4.21_Nneg-sample4-2.02_Nneg\n",
       "3 sample2-2.08_Nneg-sample4-2.02_Nneg\n",
       "4 sample3-2.03_Nneg-sample4-2.02_Nneg\n",
       "5 sample4-1.03_Nneg-sample4-2.02_Nneg\n",
       "6 sample3-3.06_Nneg-sample4-2.02_Nneg\n",
       "              PlotA             PlotB     CNdist\n",
       "1 sample4-2.02_Nneg sample4-2.02_Nneg 0.00000000\n",
       "2 sample4-4.21_Nneg sample4-2.02_Nneg 0.09187120\n",
       "3 sample2-2.08_Nneg sample4-2.02_Nneg 0.05342428\n",
       "4 sample3-2.03_Nneg sample4-2.02_Nneg 0.34226220\n",
       "5 sample4-1.03_Nneg sample4-2.02_Nneg 0.17376359\n",
       "6 sample3-3.06_Nneg sample4-2.02_Nneg 0.11708672\n",
       "                             PlotComp\n",
       "1 sample4-2.02_Nneg-sample4-2.02_Nneg\n",
       "2 sample4-4.21_Nneg-sample4-2.02_Nneg\n",
       "3 sample2-2.08_Nneg-sample4-2.02_Nneg\n",
       "4 sample3-2.03_Nneg-sample4-2.02_Nneg\n",
       "5 sample4-1.03_Nneg-sample4-2.02_Nneg\n",
       "6 sample3-3.06_Nneg-sample4-2.02_Nneg\n",
       "              PlotA             PlotB      Bdist\n",
       "1 sample4-2.02_Nneg sample4-2.02_Nneg 0.00000000\n",
       "2 sample4-4.21_Nneg sample4-2.02_Nneg 0.09709233\n",
       "3 sample2-2.08_Nneg sample4-2.02_Nneg 0.87886047\n",
       "4 sample3-2.03_Nneg sample4-2.02_Nneg 0.62548221\n",
       "5 sample4-1.03_Nneg sample4-2.02_Nneg 0.63985774\n",
       "6 sample3-3.06_Nneg sample4-2.02_Nneg 0.37756993\n",
       "                             PlotComp\n",
       "1 sample4-2.02_Nneg-sample4-2.02_Nneg\n",
       "2 sample4-4.21_Nneg-sample4-2.02_Nneg\n",
       "3 sample2-2.08_Nneg-sample4-2.02_Nneg\n",
       "4 sample3-2.03_Nneg-sample4-2.02_Nneg\n",
       "5 sample4-1.03_Nneg-sample4-2.02_Nneg\n",
       "6 sample3-3.06_Nneg-sample4-2.02_Nneg\n",
       "              PlotA             PlotB   FunDist\n",
       "1 sample4-2.02_Nneg sample4-2.02_Nneg 0.0000000\n",
       "2 sample4-4.21_Nneg sample4-2.02_Nneg 0.5629324\n",
       "3 sample2-2.08_Nneg sample4-2.02_Nneg 3.0647645\n",
       "4 sample3-2.03_Nneg sample4-2.02_Nneg 3.2967295\n",
       "5 sample4-1.03_Nneg sample4-2.02_Nneg 2.6467680\n",
       "6 sample3-3.06_Nneg sample4-2.02_Nneg 2.4839708\n",
       "                             PlotComp\n",
       "1 sample4-2.02_Nneg-sample4-2.02_Nneg\n",
       "2 sample4-4.21_Nneg-sample4-2.02_Nneg\n",
       "3 sample2-2.08_Nneg-sample4-2.02_Nneg\n",
       "4 sample3-2.03_Nneg-sample4-2.02_Nneg\n",
       "5 sample4-1.03_Nneg-sample4-2.02_Nneg\n",
       "6 sample3-3.06_Nneg-sample4-2.02_Nneg\n",
       "              PlotA             PlotB   PC1Dist\n",
       "1 sample4-2.02_Nneg sample4-2.02_Nneg 0.0000000\n",
       "2 sample4-4.21_Nneg sample4-2.02_Nneg 0.2235571\n",
       "3 sample2-2.08_Nneg sample4-2.02_Nneg 2.7852183\n",
       "4 sample3-2.03_Nneg sample4-2.02_Nneg 2.6632558\n",
       "5 sample4-1.03_Nneg sample4-2.02_Nneg 1.9108783\n",
       "6 sample3-3.06_Nneg sample4-2.02_Nneg 2.1120570\n",
       "                             PlotComp   PC2Dist    PC3Dist   FunDist     CNdist\n",
       "1 sample4-2.02_Nneg-sample4-2.02_Nneg 0.0000000 0.00000000 0.0000000 0.00000000\n",
       "2 sample4-4.21_Nneg-sample4-2.02_Nneg 0.3906258 0.33812225 0.5629324 0.09187120\n",
       "3 sample2-2.08_Nneg-sample4-2.02_Nneg 1.1196291 0.61787646 3.0647645 0.05342428\n",
       "4 sample3-2.03_Nneg-sample4-2.02_Nneg 1.9427358 0.03565969 3.2967295 0.34226220\n",
       "5 sample4-1.03_Nneg-sample4-2.02_Nneg 1.7585353 0.51134978 2.6467680 0.17376359\n",
       "6 sample3-3.06_Nneg-sample4-2.02_Nneg 0.9782184 0.86741853 2.4839708 0.11708672\n",
       "       Bdist\n",
       "1 0.00000000\n",
       "2 0.09709233\n",
       "3 0.87886047\n",
       "4 0.62548221\n",
       "5 0.63985774\n",
       "6 0.37756993\n"
      ]
     },
     "metadata": {},
     "output_type": "display_data"
    }
   ],
   "source": [
    "%%R\n",
    "#measure distances on PC1\n",
    "sd = sample_data(phy)\n",
    "PC1dist = dist(sd[, \"PC1\"], method = \"euclidian\")\n",
    "    #melt matrix\n",
    "    PC1.m = melt(as.matrix(PC1dist))\n",
    "\n",
    "    #set column names and create comparison column\n",
    "     colnames(PC1.m) = c(\"PlotA\", \"PlotB\", \"PC1Dist\")\n",
    "    PC1.m$PlotComp = paste(PC1.m$PlotA, PC1.m$PlotB, sep = \"-\")\n",
    "    PC1.m %>% head\n",
    "\n",
    "#measure distances on PC2\n",
    "PC2dist = dist(sd[,\"PC2\"], method = \"euclidian\")\n",
    "    #melt matrix\n",
    "    PC2.m = melt(as.matrix(PC2dist))\n",
    "\n",
    "    #set column names and create comparison column\n",
    "     colnames(PC2.m) = c(\"PlotA\", \"PlotB\", \"PC2Dist\")\n",
    "    PC2.m$PlotComp = paste(PC2.m$PlotA, PC2.m$PlotB, sep = \"-\")\n",
    "    PC2.m %>% head\n",
    "\n",
    "#measure distances on PC3\n",
    "PC3dist = dist(sd[,\"PC3\"], method = \"euclidian\")\n",
    "    #melt matrix\n",
    "    PC3.m = melt(as.matrix(PC3dist))\n",
    "\n",
    "    #set column names and create comparison column\n",
    "     colnames(PC3.m) = c(\"PlotA\", \"PlotB\", \"PC3Dist\")\n",
    "    PC3.m$PlotComp = paste(PC3.m$PlotA, PC3.m$PlotB, sep = \"-\")\n",
    "    PC3.m %>% head %>% print\n",
    "\n",
    "#measure distances on residCN\n",
    "CNdist = dist(sd[,\"A_Resid_logCN\"], method = \"euclidian\")\n",
    "    #melt matrix\n",
    "    CN.m = melt(as.matrix(CNdist))\n",
    "\n",
    "    #set column names and create comparison column\n",
    "     colnames(CN.m) = c(\"PlotA\", \"PlotB\", \"CNdist\")\n",
    "    CN.m$PlotComp = paste(CN.m$PlotA, CN.m$PlotB, sep = \"-\")\n",
    "    CN.m %>% head %>% print\n",
    "\n",
    "#measure distances on residBiomass\n",
    "Bdist = dist(sd[,\"A_Resid_logB\"], method = \"euclidian\")\n",
    "    #melt matrix\n",
    "    B.m = melt(as.matrix(Bdist))\n",
    "\n",
    "    #set column names and create comparison column\n",
    "     colnames(B.m) = c(\"PlotA\", \"PlotB\", \"Bdist\")\n",
    "    B.m$PlotComp = paste(B.m$PlotA, B.m$PlotB, sep = \"-\")\n",
    "    B.m %>% head %>% print\n",
    "\n",
    "Fundist = dist(sd[,c(\"PC1\", \"PC2\", \"PC3\")], method = \"euclidian\")\n",
    "    Fun.m = melt(as.matrix(Fundist))\n",
    "\n",
    "    #set column names and create comparison column\n",
    "     colnames(Fun.m) = c(\"PlotA\", \"PlotB\", \"FunDist\")\n",
    "    Fun.m$PlotComp = paste(Fun.m$PlotA, PC3.m$PlotB, sep = \"-\")\n",
    "    Fun.m %>% head %>% print\n",
    "PCA.m = left_join(PC1.m, PC2.m[,c(3,4)], by = \"PlotComp\")\n",
    "PCA.m = left_join(PCA.m, PC3.m[,c(3,4)], by = \"PlotComp\")\n",
    "PCA.m = left_join(PCA.m, Fun.m[,c(3,4)], by = \"PlotComp\")\n",
    "PCA.m = left_join(PCA.m, CN.m[,c(3,4)], by = \"PlotComp\")\n",
    "PCA.m = left_join(PCA.m, B.m[,c(3,4)], by = \"PlotComp\")\n",
    "head(PCA.m)"
   ]
  },
  {
   "cell_type": "code",
   "execution_count": 423,
   "metadata": {
    "collapsed": false
   },
   "outputs": [
    {
     "data": {
      "text/plain": [
       "[1] 3741   21\n",
       "[1] 171  21\n",
       "[1] SETFA AMAPO GLYMA ABUTH ECHCG\n",
       "Levels: ABUTH AMAPO ECHCG GLYMA SETFA\n"
      ]
     },
     "metadata": {},
     "output_type": "display_data"
    }
   ],
   "source": [
    "%%R\n",
    "dim(Dist) %>% print\n",
    "SubDist = filter(Dist, DAY_A %in% c( \"53\", \"57\", \"61\") & DAY_B %in% c( \"53\", \"57\", \"61\"))\n",
    "\n",
    "\n",
    "dim(SubDist) %>% print\n",
    "SubDist$PlantA %>% unique"
   ]
  },
  {
   "cell_type": "code",
   "execution_count": 424,
   "metadata": {
    "collapsed": false
   },
   "outputs": [
    {
     "data": {
      "text/plain": [
       " [1] \"PlotA\"       \"PlotB\"       \"w_Unif_Dist\" \"PlantA\"      \"PlantB\"     \n",
       " [6] \"PlantComp\"   \"PlotComp\"    \"phy_Dist\"    \"LibraryA\"    \"DAY_A\"      \n",
       "[11] \"LibraryB\"    \"DAY_B\"       \"PC1Dist\"     \"PC2Dist\"     \"PC3Dist\"    \n",
       "[16] \"FunDist\"     \"CNdist\"      \"Bdist\"       \"TimeDist\"    \"LibraryComp\"\n",
       "[21] \"SameDay\"    \n",
       "[1] \"PlotA\"    \"PlotB\"    \"PC1Dist\"  \"PlotComp\" \"PC2Dist\"  \"PC3Dist\"  \"FunDist\" \n",
       "[8] \"CNdist\"   \"Bdist\"   \n"
      ]
     },
     "metadata": {},
     "output_type": "display_data"
    }
   ],
   "source": [
    "%%R\n",
    "colnames(SubDist) %>% print\n",
    "PCA.m %>% colnames %>% print"
   ]
  },
  {
   "cell_type": "code",
   "execution_count": 425,
   "metadata": {
    "collapsed": false
   },
   "outputs": [
    {
     "data": {
      "text/plain": [
       "                PlotA             PlotB w_Unif_Dist PlantA PlantB   PlantComp\n",
       "166 sample3-4.18_Nneg sample3-3.30_Nneg   0.2286788  ABUTH  ABUTH ABUTH-ABUTH\n",
       "167 sample2-2.10_Nneg sample3-3.30_Nneg   0.3542649  ECHCG  ABUTH ECHCG-ABUTH\n",
       "168 sample2-3.20_Nneg sample3-3.30_Nneg   0.1637463  ECHCG  ABUTH ECHCG-ABUTH\n",
       "169 sample3-1.20_Nneg sample3-3.30_Nneg   0.2223193  ABUTH  ABUTH ABUTH-ABUTH\n",
       "170 sample2-1.24_Nneg sample3-3.30_Nneg   0.2134040  ECHCG  ABUTH ECHCG-ABUTH\n",
       "171 sample3-2.19_Nneg sample3-3.30_Nneg   0.1662544  ABUTH  ABUTH ABUTH-ABUTH\n",
       "                               PlotComp phy_Dist LibraryA DAY_A LibraryB DAY_B\n",
       "166 sample3-4.18_Nneg-sample3-3.30_Nneg  0.00000        2    57        2    57\n",
       "167 sample2-2.10_Nneg-sample3-3.30_Nneg  0.35879        2    53        2    57\n",
       "168 sample2-3.20_Nneg-sample3-3.30_Nneg  0.35879        2    53        2    57\n",
       "169 sample3-1.20_Nneg-sample3-3.30_Nneg  0.00000        2    57        2    57\n",
       "170 sample2-1.24_Nneg-sample3-3.30_Nneg  0.35879        2    53        2    57\n",
       "171 sample3-2.19_Nneg-sample3-3.30_Nneg  0.00000        2    57        2    57\n",
       "    TimeDist LibraryComp SameDay   PC1Dist   PC2Dist    PC3Dist   FunDist\n",
       "166        0           0       0 0.3751265 0.3190071 0.11178544 0.5049568\n",
       "167        4           0       1 0.6878712 1.4894458 0.07167887 1.6421794\n",
       "168        4           0       1 0.4254656 1.8914868 0.07703002 1.9402775\n",
       "169        0           0       0 0.5330261 0.2085038 0.46580481 0.7379463\n",
       "170        4           0       1 0.6207936 2.9885496 0.14403331 3.0557420\n",
       "171        0           0       0 0.6734012 0.7360330 0.12609849 1.0055419\n",
       "        CNdist     Bdist\n",
       "166 0.02969991 0.1293350\n",
       "167 0.24231277 0.1337104\n",
       "168 0.29678558 0.0496952\n",
       "169 0.08114109 0.2146169\n",
       "170 0.41485010 0.2833452\n",
       "171 0.08300785 0.2205633\n"
      ]
     },
     "metadata": {},
     "output_type": "display_data"
    }
   ],
   "source": [
    "%%R\n",
    "SubDist = left_join(SubDist[,c(1:12,19:21)], PCA.m[,3:9], by = \"PlotComp\")\n",
    "tail(SubDist) %>% print\n"
   ]
  },
  {
   "cell_type": "code",
   "execution_count": 426,
   "metadata": {
    "collapsed": false
   },
   "outputs": [
    {
     "data": {
      "text/plain": [
       "[1] 61 53 57\n",
       "Levels: 53 57 61\n"
      ]
     },
     "metadata": {},
     "output_type": "display_data"
    }
   ],
   "source": [
    "%%R\n",
    "SubDist$DAY_A %>% unique"
   ]
  },
  {
   "cell_type": "code",
   "execution_count": 427,
   "metadata": {
    "collapsed": false
   },
   "outputs": [],
   "source": [
    "%%R\n",
    "#null model\n",
    "fit1=  gls(w_Unif_Dist ~ 1, \n",
    "             correlation = corMLPE(form= ~ PlotA + PlotB), data = SubDist)\n"
   ]
  },
  {
   "cell_type": "code",
   "execution_count": 428,
   "metadata": {
    "collapsed": false
   },
   "outputs": [
    {
     "data": {
      "text/plain": [
       "Generalized least squares fit by REML\n",
       "  Model: w_Unif_Dist ~ 1 \n",
       "  Data: SubDist \n",
       "        AIC       BIC   logLik\n",
       "  -572.9469 -563.5395 289.4734\n",
       "\n",
       "Correlation Structure: corMLPE\n",
       " Formula: ~PlotA + PlotB \n",
       " Parameter estimate(s):\n",
       "      Rho \n",
       "0.3437059 \n",
       "\n",
       "Coefficients:\n",
       "                Value  Std.Error  t-value p-value\n",
       "(Intercept) 0.2442186 0.01806515 13.51877       0\n",
       "\n",
       "Standardized residuals:\n",
       "       Min         Q1        Med         Q3        Max \n",
       "-1.9596585 -0.6918894 -0.1685355  0.7146741  2.7786870 \n",
       "\n",
       "Residual standard error: 0.06632499 \n",
       "Degrees of freedom: 171 total; 170 residual\n"
      ]
     },
     "metadata": {},
     "output_type": "display_data"
    }
   ],
   "source": [
    "%%R\n",
    "summary(fit1)"
   ]
  },
  {
   "cell_type": "code",
   "execution_count": 433,
   "metadata": {
    "collapsed": false
   },
   "outputs": [
    {
     "data": {
      "text/plain": [
       "Generalized least squares fit by REML\n",
       "  Model: w_Unif_Dist ~ SameDay \n",
       "  Data: SubDist \n",
       "        AIC       BIC   logLik\n",
       "  -578.4524 -565.9328 293.2262\n",
       "\n",
       "Correlation Structure: corMLPE\n",
       " Formula: ~PlotA + PlotB \n",
       " Parameter estimate(s):\n",
       "      Rho \n",
       "0.3583939 \n",
       "\n",
       "Coefficients:\n",
       "                 Value   Std.Error   t-value p-value\n",
       "(Intercept) 0.22766022 0.018828099 12.091513   0e+00\n",
       "SameDay1    0.02440937 0.005966594  4.091005   1e-04\n",
       "\n",
       " Correlation: \n",
       "         (Intr)\n",
       "SameDay1 -0.215\n",
       "\n",
       "Standardized residuals:\n",
       "       Min         Q1        Med         Q3        Max \n",
       "-1.7127356 -0.7151168 -0.1873108  0.6716921  2.6645671 \n",
       "\n",
       "Residual standard error: 0.06621917 \n",
       "Degrees of freedom: 171 total; 169 residual\n"
      ]
     },
     "metadata": {},
     "output_type": "display_data"
    }
   ],
   "source": [
    "%%R\n",
    "fit2=  gls(w_Unif_Dist ~ SameDay, \n",
    "             correlation = corMLPE(form= ~ PlotA + PlotB), data = SubDist)\n",
    "summary(fit2)"
   ]
  },
  {
   "cell_type": "code",
   "execution_count": 435,
   "metadata": {
    "collapsed": false
   },
   "outputs": [
    {
     "data": {
      "text/plain": [
       "Generalized least squares fit by REML\n",
       "  Model: w_Unif_Dist ~ SameDay + phy_Dist \n",
       "  Data: SubDist \n",
       "        AIC       BIC   logLik\n",
       "  -581.8775 -566.2577 295.9388\n",
       "\n",
       "Correlation Structure: corMLPE\n",
       " Formula: ~PlotA + PlotB \n",
       " Parameter estimate(s):\n",
       "      Rho \n",
       "0.3628187 \n",
       "\n",
       "Coefficients:\n",
       "                 Value   Std.Error   t-value p-value\n",
       "(Intercept) 0.21763188 0.018820106 11.563797  0.0000\n",
       "SameDay1    0.01226746 0.006772043  1.811485  0.0719\n",
       "phy_Dist    0.06743478 0.019637176  3.434037  0.0007\n",
       "\n",
       " Correlation: \n",
       "         (Intr) SamDy1\n",
       "SameDay1 -0.096       \n",
       "phy_Dist -0.155 -0.523\n",
       "\n",
       "Standardized residuals:\n",
       "       Min         Q1        Med         Q3        Max \n",
       "-1.6061678 -0.7523369 -0.1661927  0.6663387  2.6465692 \n",
       "\n",
       "Residual standard error: 0.06508475 \n",
       "Degrees of freedom: 171 total; 168 residual\n"
      ]
     },
     "metadata": {},
     "output_type": "display_data"
    }
   ],
   "source": [
    "%%R\n",
    "fit3=  gls(w_Unif_Dist ~ SameDay + phy_Dist, \n",
    "             correlation = corMLPE(form= ~ PlotA + PlotB), data = SubDist)\n",
    "summary(fit3)"
   ]
  },
  {
   "cell_type": "code",
   "execution_count": 438,
   "metadata": {
    "collapsed": false
   },
   "outputs": [
    {
     "data": {
      "text/plain": [
       "Generalized least squares fit by REML\n",
       "  Model: w_Unif_Dist ~ SameDay + poly(phy_Dist, 2) \n",
       "  Data: SubDist \n",
       "        AIC       BIC   logLik\n",
       "  -577.5192 -558.8113 294.7596\n",
       "\n",
       "Correlation Structure: corMLPE\n",
       " Formula: ~PlotA + PlotB \n",
       " Parameter estimate(s):\n",
       "      Rho \n",
       "0.3631226 \n",
       "\n",
       "Coefficients:\n",
       "                        Value  Std.Error   t-value p-value\n",
       "(Intercept)        0.23522773 0.01881830 12.499947  0.0000\n",
       "SameDay1           0.01325381 0.00691106  1.917769  0.0568\n",
       "poly(phy_Dist, 2)1 0.13798554 0.04058196  3.400170  0.0008\n",
       "poly(phy_Dist, 2)2 0.03339920 0.04538935  0.735838  0.4629\n",
       "\n",
       " Correlation: \n",
       "                   (Intr) SamDy1 p(_D,2)1\n",
       "SameDay1           -0.249                \n",
       "poly(phy_Dist, 2)1  0.130 -0.520         \n",
       "poly(phy_Dist, 2)2 -0.048  0.194 -0.037  \n",
       "\n",
       "Standardized residuals:\n",
       "       Min         Q1        Med         Q3        Max \n",
       "-1.6123310 -0.7762844 -0.1505322  0.6749722  2.6734668 \n",
       "\n",
       "Residual standard error: 0.06523585 \n",
       "Degrees of freedom: 171 total; 167 residual\n"
      ]
     },
     "metadata": {},
     "output_type": "display_data"
    }
   ],
   "source": [
    "%%R\n",
    "fit4=  gls(w_Unif_Dist ~   SameDay  + poly(phy_Dist,2), \n",
    "             correlation = corMLPE(form= ~ PlotA + PlotB), data = SubDist)\n",
    "summary(fit4)"
   ]
  },
  {
   "cell_type": "code",
   "execution_count": 443,
   "metadata": {
    "collapsed": false
   },
   "outputs": [
    {
     "data": {
      "text/plain": [
       "Generalized least squares fit by REML\n",
       "  Model: w_Unif_Dist ~ SameDay + PC1Dist + PC2Dist + PC3Dist \n",
       "  Data: SubDist \n",
       "        AIC       BIC   logLik\n",
       "  -548.1808 -526.3969 281.0904\n",
       "\n",
       "Correlation Structure: corMLPE\n",
       " Formula: ~PlotA + PlotB \n",
       " Parameter estimate(s):\n",
       "      Rho \n",
       "0.3609218 \n",
       "\n",
       "Coefficients:\n",
       "                 Value   Std.Error   t-value p-value\n",
       "(Intercept) 0.21870112 0.020964027 10.432210  0.0000\n",
       "SameDay1    0.02163216 0.006314605  3.425734  0.0008\n",
       "PC1Dist     0.00353764 0.003172665  1.115036  0.2664\n",
       "PC2Dist     0.00327086 0.003662883  0.892973  0.3732\n",
       "PC3Dist     0.00067957 0.010953650  0.062040  0.9506\n",
       "\n",
       " Correlation: \n",
       "         (Intr) SamDy1 PC1Dst PC2Dst\n",
       "SameDay1 -0.081                     \n",
       "PC1Dist  -0.246 -0.206              \n",
       "PC2Dist  -0.197 -0.254  0.031       \n",
       "PC3Dist  -0.295 -0.039  0.048  0.050\n",
       "\n",
       "Standardized residuals:\n",
       "       Min         Q1        Med         Q3        Max \n",
       "-1.6839937 -0.7294376 -0.1634110  0.7385262  2.5638398 \n",
       "\n",
       "Residual standard error: 0.06693602 \n",
       "Degrees of freedom: 171 total; 166 residual\n"
      ]
     },
     "metadata": {},
     "output_type": "display_data"
    }
   ],
   "source": [
    "%%R\n",
    "#H3: combined phylogenetic distance and functional\n",
    "fit5=  gls(w_Unif_Dist ~ SameDay +  PC1Dist + PC2Dist + PC3Dist, \n",
    "             correlation = corMLPE(form= ~ PlotA + PlotB), data = SubDist)\n",
    "summary(fit5)"
   ]
  },
  {
   "cell_type": "code",
   "execution_count": 445,
   "metadata": {
    "collapsed": false
   },
   "outputs": [
    {
     "data": {
      "text/plain": [
       "Generalized least squares fit by REML\n",
       "  Model: w_Unif_Dist ~ SameDay + phy_Dist + PC1Dist + PC2Dist + PC3Dist \n",
       "  Data: SubDist \n",
       "        AIC      BIC   logLik\n",
       "  -550.8366 -525.989 283.4183\n",
       "\n",
       "Correlation Structure: corMLPE\n",
       " Formula: ~PlotA + PlotB \n",
       " Parameter estimate(s):\n",
       "      Rho \n",
       "0.3577294 \n",
       "\n",
       "Coefficients:\n",
       "                  Value   Std.Error   t-value p-value\n",
       "(Intercept)  0.22083065 0.020179593 10.943266  0.0000\n",
       "SameDay1     0.01190287 0.006842225  1.739621  0.0838\n",
       "phy_Dist     0.07862309 0.024230233  3.244834  0.0014\n",
       "PC1Dist      0.00017759 0.003256979  0.054526  0.9566\n",
       "PC2Dist     -0.00404259 0.004213384 -0.959465  0.3387\n",
       "PC3Dist     -0.00199264 0.010684047 -0.186506  0.8523\n",
       "\n",
       " Correlation: \n",
       "         (Intr) SamDy1 phy_Ds PC1Dst PC2Dst\n",
       "SameDay1 -0.088                            \n",
       "phy_Dist  0.031 -0.438                     \n",
       "PC1Dist  -0.245 -0.036 -0.318              \n",
       "PC2Dist  -0.185  0.040 -0.533  0.195       \n",
       "PC3Dist  -0.299 -0.002 -0.075  0.069  0.083\n",
       "\n",
       "Standardized residuals:\n",
       "       Min         Q1        Med         Q3        Max \n",
       "-1.6141177 -0.7544166 -0.2037089  0.6761294  2.5938191 \n",
       "\n",
       "Residual standard error: 0.06446501 \n",
       "Degrees of freedom: 171 total; 165 residual\n"
      ]
     },
     "metadata": {},
     "output_type": "display_data"
    }
   ],
   "source": [
    "%%R\n",
    "fit6=  gls(w_Unif_Dist ~SameDay + phy_Dist + PC1Dist + PC2Dist + PC3Dist, \n",
    "             correlation = corMLPE(form= ~ PlotA + PlotB), data = SubDist)\n",
    "summary(fit6)"
   ]
  },
  {
   "cell_type": "code",
   "execution_count": 251,
   "metadata": {
    "collapsed": false
   },
   "outputs": [
    {
     "data": {
      "image/png": "[encoded data removed]"
     },
     "metadata": {},
     "output_type": "display_data"
    }
   ],
   "source": [
    "%%R\n",
    "p1 = ggplot(SubDist, aes(y = w_Unif_Dist, x = phy_Dist)) \n",
    "p1 = p1 + geom_point()\n",
    "#p = p + stat_smooth(method = \"lm\", formula = y~.29x -.236x^2 + .213, se = FALSE)\n",
    "p1 = p1 + theme_bw(base_size = 16)\n",
    "p1 = p1 + ggtitle(\"Early Season Plants \")\n",
    "#p = p + stat_function(fun = test)\n",
    "p1"
   ]
  },
  {
   "cell_type": "markdown",
   "metadata": {},
   "source": [
    "# Subset of late season plants"
   ]
  },
  {
   "cell_type": "code",
   "execution_count": 372,
   "metadata": {
    "collapsed": true
   },
   "outputs": [
    {
     "data": {
      "text/plain": [
       "[1] \"B73\"    \"ELCOR\"  \"ERATE\"  \"HELAN\"  \"SORBI\"  \"SORSUD\"\n",
       "Importance of components:\n",
       "                          PC1    PC2     PC3     PC4\n",
       "Standard deviation     1.4973 1.1837 0.59627 0.03612\n",
       "Proportion of Variance 0.5605 0.3503 0.08888 0.00033\n",
       "Cumulative Proportion  0.5605 0.9108 0.99967 1.00000\n",
       "                        PC1         PC2        PC3         PC4\n",
       "log(SeedSize_mg) -0.5549666  0.24710822 -0.7936365 -0.03302717\n",
       "A_Resid_logN     -0.4687695 -0.59539147  0.1686459 -0.63033538\n",
       "A_Resid_logCN    -0.2340853  0.76240075  0.4191288 -0.43391266\n",
       "A_Resid_logB     -0.6461202 -0.05649449  0.4074687  0.64288904\n"
      ]
     },
     "metadata": {},
     "output_type": "display_data"
    },
    {
     "data": {
      "image/png": "[encoded data removed]"
     },
     "metadata": {},
     "output_type": "display_data"
    }
   ],
   "source": [
    "%%R\n",
    "# PCA of annuals\n",
    "sd = as(sample_data(phy), \"data.frame\")\n",
    "\n",
    "# sd = left_join(sd, SS, by = \"Plant\")\n",
    "# sd = left_join(sd, M_GDD, by = \"DAP\")\n",
    "\n",
    "data = filter(sd, Plant %in% c(\"B73\", \"ERATE\", \n",
    " \"ELCOR\",  \"SORSUD\",    \"SORBI\", \"HELAN\")) \n",
    "data$Plant %>% levels %>% print\n",
    "\n",
    "fit = prcomp(~log(SeedSize_mg) + A_Resid_logN + A_Resid_logCN + A_Resid_logB, data = data, \n",
    "                 na.action = na.exclude, center = TRUE, scale = TRUE)\n",
    "\n",
    "summary(fit) %>% print\n",
    "fit$rotation %>% print\n",
    "biplot(fit)\n",
    " "
   ]
  },
  {
   "cell_type": "code",
   "execution_count": 371,
   "metadata": {
    "collapsed": true
   },
   "outputs": [
    {
     "data": {
      "text/plain": [
       " [1] \"PlotA\"       \"PlotB\"       \"w_Unif_Dist\" \"PlantA\"      \"PlantB\"     \n",
       " [6] \"PlantComp\"   \"PlotComp\"    \"phy_Dist\"    \"LibraryA\"    \"DAY_A\"      \n",
       "[11] \"LibraryB\"    \"DAY_B\"       \"TimeDist\"    \"LibraryComp\" \"SameDay\"    \n",
       "[16] \"PC1Dist\"     \"PC2Dist\"     \"PC3Dist\"     \"FunDist\"     \"CNdist\"     \n",
       "[21] \"Bdist\"      \n"
      ]
     },
     "metadata": {},
     "output_type": "display_data"
    }
   ],
   "source": [
    "%%R -w 600 -h 500\n",
    "colnames(data) # find numbers to drop"
   ]
  },
  {
   "cell_type": "code",
   "execution_count": 376,
   "metadata": {
    "collapsed": true
   },
   "outputs": [
    {
     "data": {
      "image/png": "[encoded data removed]"
     },
     "metadata": {},
     "output_type": "display_data"
    }
   ],
   "source": [
    "%%R -w 600 -h 500\n",
    "S = predict(fit)[,1:3]\n",
    "E_Fit = cbind(data[,1:57], S)\n",
    "row.names(E_Fit) = E_Fit$X.sample\n",
    "sample_data(phy) = E_Fit\n",
    "\n",
    "\n",
    "p = ggplot(E_Fit, aes(PC1, PC2, fill = Plant))\n",
    "p = p + geom_point(pch = 21, size = 4)\n",
    "#p = p + scale_colour_brewer(palette=\"Paired\")\n",
    "p = p + ggtitle(\"PCA of Growth Residuals\")\n",
    "p"
   ]
  },
  {
   "cell_type": "code",
   "execution_count": 335,
   "metadata": {
    "collapsed": true
   },
   "outputs": [
    {
     "data": {
      "text/plain": [
       "              PlotA             PlotB   PC3Dist\n",
       "1 sample6-2.26_Nneg sample6-2.26_Nneg 0.0000000\n",
       "2 sample6-3.18_Nneg sample6-2.26_Nneg 0.2178990\n",
       "3 sample5-3.11_Nneg sample6-2.26_Nneg 1.6020730\n",
       "4 sample5-4.06_Nneg sample6-2.26_Nneg 1.0377879\n",
       "5 sample5-2.18_Nneg sample6-2.26_Nneg 1.4008179\n",
       "6 sample6-4.30_Nneg sample6-2.26_Nneg 0.3642588\n",
       "                             PlotComp\n",
       "1 sample6-2.26_Nneg-sample6-2.26_Nneg\n",
       "2 sample6-3.18_Nneg-sample6-2.26_Nneg\n",
       "3 sample5-3.11_Nneg-sample6-2.26_Nneg\n",
       "4 sample5-4.06_Nneg-sample6-2.26_Nneg\n",
       "5 sample5-2.18_Nneg-sample6-2.26_Nneg\n",
       "6 sample6-4.30_Nneg-sample6-2.26_Nneg\n",
       "              PlotA             PlotB     CNdist\n",
       "1 sample6-2.26_Nneg sample6-2.26_Nneg 0.00000000\n",
       "2 sample6-3.18_Nneg sample6-2.26_Nneg 0.15821962\n",
       "3 sample5-3.11_Nneg sample6-2.26_Nneg 0.32359357\n",
       "4 sample5-4.06_Nneg sample6-2.26_Nneg 0.55719490\n",
       "5 sample5-2.18_Nneg sample6-2.26_Nneg 0.75189285\n",
       "6 sample6-4.30_Nneg sample6-2.26_Nneg 0.09339611\n",
       "                             PlotComp\n",
       "1 sample6-2.26_Nneg-sample6-2.26_Nneg\n",
       "2 sample6-3.18_Nneg-sample6-2.26_Nneg\n",
       "3 sample5-3.11_Nneg-sample6-2.26_Nneg\n",
       "4 sample5-4.06_Nneg-sample6-2.26_Nneg\n",
       "5 sample5-2.18_Nneg-sample6-2.26_Nneg\n",
       "6 sample6-4.30_Nneg-sample6-2.26_Nneg\n",
       "              PlotA             PlotB     Bdist\n",
       "1 sample6-2.26_Nneg sample6-2.26_Nneg 0.0000000\n",
       "2 sample6-3.18_Nneg sample6-2.26_Nneg 0.2739983\n",
       "3 sample5-3.11_Nneg sample6-2.26_Nneg 0.4122669\n",
       "4 sample5-4.06_Nneg sample6-2.26_Nneg 0.6928992\n",
       "5 sample5-2.18_Nneg sample6-2.26_Nneg 0.2791936\n",
       "6 sample6-4.30_Nneg sample6-2.26_Nneg 0.2230541\n",
       "                             PlotComp\n",
       "1 sample6-2.26_Nneg-sample6-2.26_Nneg\n",
       "2 sample6-3.18_Nneg-sample6-2.26_Nneg\n",
       "3 sample5-3.11_Nneg-sample6-2.26_Nneg\n",
       "4 sample5-4.06_Nneg-sample6-2.26_Nneg\n",
       "5 sample5-2.18_Nneg-sample6-2.26_Nneg\n",
       "6 sample6-4.30_Nneg-sample6-2.26_Nneg\n",
       "              PlotA             PlotB   FunDist\n",
       "1 sample6-2.26_Nneg sample6-2.26_Nneg 0.0000000\n",
       "2 sample6-3.18_Nneg sample6-2.26_Nneg 1.2355246\n",
       "3 sample5-3.11_Nneg sample6-2.26_Nneg 3.3092873\n",
       "4 sample5-4.06_Nneg sample6-2.26_Nneg 3.7853860\n",
       "5 sample5-2.18_Nneg sample6-2.26_Nneg 3.9381385\n",
       "6 sample6-4.30_Nneg sample6-2.26_Nneg 0.6312263\n",
       "                             PlotComp\n",
       "1 sample6-2.26_Nneg-sample6-2.26_Nneg\n",
       "2 sample6-3.18_Nneg-sample6-2.26_Nneg\n",
       "3 sample5-3.11_Nneg-sample6-2.26_Nneg\n",
       "4 sample5-4.06_Nneg-sample6-2.26_Nneg\n",
       "5 sample5-2.18_Nneg-sample6-2.26_Nneg\n",
       "6 sample6-4.30_Nneg-sample6-2.26_Nneg\n",
       "              PlotA             PlotB   PC1Dist\n",
       "1 sample6-2.26_Nneg sample6-2.26_Nneg 0.0000000\n",
       "2 sample6-3.18_Nneg sample6-2.26_Nneg 0.7403002\n",
       "3 sample5-3.11_Nneg sample6-2.26_Nneg 2.5784856\n",
       "4 sample5-4.06_Nneg sample6-2.26_Nneg 3.2043287\n",
       "5 sample5-2.18_Nneg sample6-2.26_Nneg 2.1126759\n",
       "6 sample6-4.30_Nneg sample6-2.26_Nneg 0.5152637\n",
       "                             PlotComp    PC2Dist   PC3Dist   FunDist     CNdist\n",
       "1 sample6-2.26_Nneg-sample6-2.26_Nneg 0.00000000 0.0000000 0.0000000 0.00000000\n",
       "2 sample6-3.18_Nneg-sample6-2.26_Nneg 0.96488162 0.2178990 1.2355246 0.15821962\n",
       "3 sample5-3.11_Nneg-sample6-2.26_Nneg 1.31763279 1.6020730 3.3092873 0.32359357\n",
       "4 sample5-4.06_Nneg-sample6-2.26_Nneg 1.72754773 1.0377879 3.7853860 0.55719490\n",
       "5 sample5-2.18_Nneg-sample6-2.26_Nneg 3.01384220 1.4008179 3.9381385 0.75189285\n",
       "6 sample6-4.30_Nneg-sample6-2.26_Nneg 0.01629619 0.3642588 0.6312263 0.09339611\n",
       "      Bdist\n",
       "1 0.0000000\n",
       "2 0.2739983\n",
       "3 0.4122669\n",
       "4 0.6928992\n",
       "5 0.2791936\n",
       "6 0.2230541\n"
      ]
     },
     "metadata": {},
     "output_type": "display_data"
    }
   ],
   "source": [
    "%%R\n",
    "#measure distances on PC1\n",
    "sd = sample_data(phy)\n",
    "PC1dist = dist(sd[, \"PC1\"], method = \"euclidian\")\n",
    "    #melt matrix\n",
    "    PC1.m = melt(as.matrix(PC1dist))\n",
    "\n",
    "    #set column names and create comparison column\n",
    "     colnames(PC1.m) = c(\"PlotA\", \"PlotB\", \"PC1Dist\")\n",
    "    PC1.m$PlotComp = paste(PC1.m$PlotA, PC1.m$PlotB, sep = \"-\")\n",
    "    PC1.m %>% head\n",
    "\n",
    "#measure distances on PC2\n",
    "PC2dist = dist(sd[,\"PC2\"], method = \"euclidian\")\n",
    "    #melt matrix\n",
    "    PC2.m = melt(as.matrix(PC2dist))\n",
    "\n",
    "    #set column names and create comparison column\n",
    "     colnames(PC2.m) = c(\"PlotA\", \"PlotB\", \"PC2Dist\")\n",
    "    PC2.m$PlotComp = paste(PC2.m$PlotA, PC2.m$PlotB, sep = \"-\")\n",
    "    PC2.m %>% head\n",
    "\n",
    "#measure distances on PC3\n",
    "PC3dist = dist(sd[,\"PC3\"], method = \"euclidian\")\n",
    "    #melt matrix\n",
    "    PC3.m = melt(as.matrix(PC3dist))\n",
    "\n",
    "    #set column names and create comparison column\n",
    "     colnames(PC3.m) = c(\"PlotA\", \"PlotB\", \"PC3Dist\")\n",
    "    PC3.m$PlotComp = paste(PC3.m$PlotA, PC3.m$PlotB, sep = \"-\")\n",
    "    PC3.m %>% head %>% print\n",
    "\n",
    "#measure distances on residCN\n",
    "CNdist = dist(sd[,\"A_Resid_logCN\"], method = \"euclidian\")\n",
    "    #melt matrix\n",
    "    CN.m = melt(as.matrix(CNdist))\n",
    "\n",
    "    #set column names and create comparison column\n",
    "     colnames(CN.m) = c(\"PlotA\", \"PlotB\", \"CNdist\")\n",
    "    CN.m$PlotComp = paste(CN.m$PlotA, CN.m$PlotB, sep = \"-\")\n",
    "    CN.m %>% head %>% print\n",
    "\n",
    "#measure distances on residBiomass\n",
    "Bdist = dist(sd[,\"A_Resid_logB\"], method = \"euclidian\")\n",
    "    #melt matrix\n",
    "    B.m = melt(as.matrix(Bdist))\n",
    "\n",
    "    #set column names and create comparison column\n",
    "     colnames(B.m) = c(\"PlotA\", \"PlotB\", \"Bdist\")\n",
    "    B.m$PlotComp = paste(B.m$PlotA, B.m$PlotB, sep = \"-\")\n",
    "    B.m %>% head %>% print\n",
    "\n",
    "Fundist = dist(sd[,c(\"PC1\", \"PC2\", \"PC3\")], method = \"euclidian\")\n",
    "    Fun.m = melt(as.matrix(Fundist))\n",
    "\n",
    "    #set column names and create comparison column\n",
    "     colnames(Fun.m) = c(\"PlotA\", \"PlotB\", \"FunDist\")\n",
    "    Fun.m$PlotComp = paste(Fun.m$PlotA, PC3.m$PlotB, sep = \"-\")\n",
    "    Fun.m %>% head %>% print\n",
    "PCA.m = left_join(PC1.m, PC2.m[,c(3,4)], by = \"PlotComp\")\n",
    "PCA.m = left_join(PCA.m, PC3.m[,c(3,4)], by = \"PlotComp\")\n",
    "PCA.m = left_join(PCA.m, Fun.m[,c(3,4)], by = \"PlotComp\")\n",
    "PCA.m = left_join(PCA.m, CN.m[,c(3,4)], by = \"PlotComp\")\n",
    "PCA.m = left_join(PCA.m, B.m[,c(3,4)], by = \"PlotComp\")\n",
    "head(PCA.m)"
   ]
  },
  {
   "cell_type": "code",
   "execution_count": 347,
   "metadata": {
    "collapsed": true
   },
   "outputs": [
    {
     "data": {
      "text/plain": [
       "[1] 3741   21\n",
       "[1] 276  21\n",
       "[1] B73    ERATE  ELCOR  SORSUD SORBI  HELAN \n",
       "Levels: B73 ELCOR ERATE HELAN SORBI SORSUD\n"
      ]
     },
     "metadata": {},
     "output_type": "display_data"
    }
   ],
   "source": [
    "%%R\n",
    "dim(Dist) %>% print\n",
    "SubDist = filter(Dist, PlantA %in% c(\"B73\",   \"ERATE\", \n",
    " \"ELCOR\",  \"SORSUD\",    \"SORBI\", \"HELAN\") & PlantB %in% c(\"B73\", \"ERATE\", \n",
    " \"ELCOR\",  \"SORSUD\",    \"SORBI\",  \"HELAN\"))\n",
    "dim(SubDist) %>% print\n",
    "SubDist$PlantA %>% unique"
   ]
  },
  {
   "cell_type": "code",
   "execution_count": 351,
   "metadata": {
    "collapsed": true
   },
   "outputs": [
    {
     "data": {
      "text/plain": [
       "                PlotA             PlotB w_Unif_Dist PlantA PlantB    PlantComp\n",
       "271 sample7-3.12_Nneg sample8-3.03_Nneg   0.3062711  HELAN  ELCOR  HELAN-ELCOR\n",
       "272 sample7-4.03_Nneg sample8-3.03_Nneg   0.3777692  HELAN  ELCOR  HELAN-ELCOR\n",
       "273 sample7-1.28_Nneg sample8-3.03_Nneg   0.3428638  HELAN  ELCOR  HELAN-ELCOR\n",
       "274 sample7-3.25_Nneg sample8-3.03_Nneg   0.2164129 SORSUD  ELCOR SORSUD-ELCOR\n",
       "275 sample8-4.01_Nneg sample8-3.03_Nneg   0.2115333  ELCOR  ELCOR  ELCOR-ELCOR\n",
       "276 sample7-4.14_Nneg sample8-3.03_Nneg   0.2893173  SORBI  ELCOR  SORBI-ELCOR\n",
       "                               PlotComp phy_Dist LibraryA DAY_A LibraryB DAY_B\n",
       "271 sample7-3.12_Nneg-sample8-3.03_Nneg  0.36765        2    84        2    88\n",
       "272 sample7-4.03_Nneg-sample8-3.03_Nneg  0.36765        2    84        2    88\n",
       "273 sample7-1.28_Nneg-sample8-3.03_Nneg  0.36765        2    84        2    88\n",
       "274 sample7-3.25_Nneg-sample8-3.03_Nneg  0.04779        2    84        2    88\n",
       "275 sample8-4.01_Nneg-sample8-3.03_Nneg  0.00000        2    88        2    88\n",
       "276 sample7-4.14_Nneg-sample8-3.03_Nneg  0.04779        2    84        2    88\n",
       "    TimeDist LibraryComp SameDay    PC1Dist  PC2Dist    PC3Dist  FunDist\n",
       "271        4           0       1 0.59050736 3.664044 0.44210255 3.737562\n",
       "272        4           0       1 1.36282174 2.410395 0.59310108 2.831794\n",
       "273        4           0       1 1.25352889 2.634933 0.58568179 2.976110\n",
       "274        4           0       1 0.23426206 2.848945 0.65068442 2.931681\n",
       "275        0           0       0 1.56470065 1.731257 0.55533979 2.398737\n",
       "276        4           0       1 0.08235865 2.316659 0.01140009 2.318150\n",
       "       CNdist      Bdist\n",
       "271 1.0598708 0.16404280\n",
       "272 0.8218207 0.43808510\n",
       "273 0.8671706 0.40568004\n",
       "274 0.8581387 0.10263196\n",
       "275 0.2448805 0.59658387\n",
       "276 0.6214847 0.05458953\n"
      ]
     },
     "metadata": {},
     "output_type": "display_data"
    }
   ],
   "source": [
    "%%R\n",
    "colnames(SubDist)\n",
    "PCA.m %>% colnames\n",
    "SubDist = left_join(SubDist[,c(1:12,19:21)], PCA.m[,3:9], by = \"PlotComp\")\n",
    "tail(SubDist) %>% print\n"
   ]
  },
  {
   "cell_type": "code",
   "execution_count": 352,
   "metadata": {
    "collapsed": false
   },
   "outputs": [],
   "source": [
    "%%R\n",
    "#null model\n",
    "fit1=  gls(w_Unif_Dist ~ 1, \n",
    "             correlation = corMLPE(form= ~ PlotA + PlotB), data = SubDist)"
   ]
  },
  {
   "cell_type": "code",
   "execution_count": 353,
   "metadata": {
    "collapsed": false
   },
   "outputs": [
    {
     "data": {
      "text/plain": [
       "Generalized least squares fit by REML\n",
       "  Model: w_Unif_Dist ~ 1 \n",
       "  Data: SubDist \n",
       "        AIC       BIC   logLik\n",
       "  -665.0201 -654.1698 335.5101\n",
       "\n",
       "Correlation Structure: corMLPE\n",
       " Formula: ~PlotA + PlotB \n",
       " Parameter estimate(s):\n",
       "      Rho \n",
       "0.1307399 \n",
       "\n",
       "Coefficients:\n",
       "                Value  Std.Error  t-value p-value\n",
       "(Intercept) 0.2681774 0.01204274 22.26881       0\n",
       "\n",
       "Standardized residuals:\n",
       "       Min         Q1        Med         Q3        Max \n",
       "-1.9814712 -0.6841784 -0.1141655  0.6066197  2.8341968 \n",
       "\n",
       "Residual standard error: 0.07699199 \n",
       "Degrees of freedom: 276 total; 275 residual\n"
      ]
     },
     "metadata": {},
     "output_type": "display_data"
    }
   ],
   "source": [
    "%%R\n",
    "summary(fit1)"
   ]
  },
  {
   "cell_type": "code",
   "execution_count": 354,
   "metadata": {
    "collapsed": false
   },
   "outputs": [
    {
     "data": {
      "text/plain": [
       "Generalized least squares fit by REML\n",
       "  Model: w_Unif_Dist ~ TimeDist + SameDay + LibraryComp \n",
       "  Data: SubDist \n",
       "        AIC       BIC   logLik\n",
       "  -869.3277 -847.6928 440.6638\n",
       "\n",
       "Correlation Structure: corMLPE\n",
       " Formula: ~PlotA + PlotB \n",
       " Parameter estimate(s):\n",
       "      Rho \n",
       "0.2552378 \n",
       "\n",
       "Coefficients:\n",
       "                  Value   Std.Error   t-value p-value\n",
       "(Intercept)  0.17954369 0.013293440 13.506187  0.0000\n",
       "TimeDist     0.00323169 0.001433143  2.254964  0.0249\n",
       "SameDay1     0.09952131 0.009430748 10.552854  0.0000\n",
       "LibraryComp1 0.00345826 0.009890229  0.349664  0.7269\n",
       "\n",
       " Correlation: \n",
       "             (Intr) TimDst SamDy1\n",
       "TimeDist     -0.078              \n",
       "SameDay1     -0.183 -0.548       \n",
       "LibraryComp1  0.055 -0.710  0.043\n",
       "\n",
       "Standardized residuals:\n",
       "        Min          Q1         Med          Q3         Max \n",
       "-2.05951849 -0.63649379 -0.05109346  0.70998688  2.78267265 \n",
       "\n",
       "Residual standard error: 0.05932584 \n",
       "Degrees of freedom: 276 total; 272 residual\n"
      ]
     },
     "metadata": {},
     "output_type": "display_data"
    }
   ],
   "source": [
    "%%R\n",
    "fit2=  gls(w_Unif_Dist ~ TimeDist + SameDay + LibraryComp, \n",
    "             correlation = corMLPE(form= ~ PlotA + PlotB), data = SubDist)\n",
    "summary(fit2)"
   ]
  },
  {
   "cell_type": "code",
   "execution_count": 355,
   "metadata": {
    "collapsed": false
   },
   "outputs": [
    {
     "data": {
      "text/plain": [
       "Generalized least squares fit by REML\n",
       "  Model: w_Unif_Dist ~ TimeDist + SameDay + LibraryComp + phy_Dist \n",
       "  Data: SubDist \n",
       "        AIC       BIC   logLik\n",
       "  -900.3415 -875.1266 457.1707\n",
       "\n",
       "Correlation Structure: corMLPE\n",
       " Formula: ~PlotA + PlotB \n",
       " Parameter estimate(s):\n",
       "      Rho \n",
       "0.2146269 \n",
       "\n",
       "Coefficients:\n",
       "                  Value   Std.Error   t-value p-value\n",
       "(Intercept)  0.16541040 0.011193372 14.777530  0.0000\n",
       "TimeDist     0.00364662 0.001324804  2.752573  0.0063\n",
       "SameDay1     0.08802806 0.008988500  9.793408  0.0000\n",
       "LibraryComp1 0.00329250 0.009222075  0.357024  0.7214\n",
       "phy_Dist     0.15981098 0.024533008  6.514121  0.0000\n",
       "\n",
       " Correlation: \n",
       "             (Intr) TimDst SamDy1 LbrrC1\n",
       "TimeDist     -0.089                     \n",
       "SameDay1     -0.169 -0.544              \n",
       "LibraryComp1  0.057 -0.702  0.031       \n",
       "phy_Dist     -0.202  0.033 -0.171  0.006\n",
       "\n",
       "Standardized residuals:\n",
       "        Min          Q1         Med          Q3         Max \n",
       "-2.24750636 -0.65451700 -0.08562476  0.56041635  2.65969617 \n",
       "\n",
       "Residual standard error: 0.0519146 \n",
       "Degrees of freedom: 276 total; 271 residual\n"
      ]
     },
     "metadata": {},
     "output_type": "display_data"
    }
   ],
   "source": [
    "%%R\n",
    "fit3=  gls(w_Unif_Dist ~ TimeDist + SameDay + LibraryComp + phy_Dist, \n",
    "             correlation = corMLPE(form= ~ PlotA + PlotB), data = SubDist)\n",
    "summary(fit3)"
   ]
  },
  {
   "cell_type": "code",
   "execution_count": 356,
   "metadata": {
    "collapsed": false
   },
   "outputs": [
    {
     "data": {
      "text/plain": [
       "Generalized least squares fit by REML\n",
       "  Model: w_Unif_Dist ~ TimeDist + SameDay + LibraryComp + poly(phy_Dist,      2) \n",
       "  Data: SubDist \n",
       "       AIC       BIC  logLik\n",
       "  -906.264 -877.4766 461.132\n",
       "\n",
       "Correlation Structure: corMLPE\n",
       " Formula: ~PlotA + PlotB \n",
       " Parameter estimate(s):\n",
       "      Rho \n",
       "0.2156526 \n",
       "\n",
       "Coefficients:\n",
       "                        Value  Std.Error   t-value p-value\n",
       "(Intercept)         0.1755202 0.01127249 15.570669  0.0000\n",
       "TimeDist            0.0054957 0.00142737  3.850244  0.0001\n",
       "SameDay1            0.0967115 0.00924638 10.459396  0.0000\n",
       "LibraryComp1       -0.0105369 0.01005832 -1.047580  0.2958\n",
       "poly(phy_Dist, 2)1  0.4405850 0.06199458  7.106830  0.0000\n",
       "poly(phy_Dist, 2)2  0.1781098 0.05588840  3.186883  0.0016\n",
       "\n",
       " Correlation: \n",
       "                   (Intr) TimDst SamDy1 LbrrC1 p(_D,2)1\n",
       "TimeDist           -0.182                              \n",
       "SameDay1           -0.282 -0.355                       \n",
       "LibraryComp1        0.169 -0.755 -0.100                \n",
       "poly(phy_Dist, 2)1  0.016  0.108 -0.105 -0.077         \n",
       "poly(phy_Dist, 2)2 -0.273  0.408  0.293 -0.432  0.192  \n",
       "\n",
       "Standardized residuals:\n",
       "        Min          Q1         Med          Q3         Max \n",
       "-2.24783296 -0.65216663 -0.06558773  0.59442156  2.80399504 \n",
       "\n",
       "Residual standard error: 0.05113535 \n",
       "Degrees of freedom: 276 total; 270 residual\n"
      ]
     },
     "metadata": {},
     "output_type": "display_data"
    }
   ],
   "source": [
    "%%R\n",
    "fit4=  gls(w_Unif_Dist ~ TimeDist + SameDay + LibraryComp + poly(phy_Dist,2), \n",
    "             correlation = corMLPE(form= ~ PlotA + PlotB), data = SubDist)\n",
    "summary(fit4)"
   ]
  },
  {
   "cell_type": "code",
   "execution_count": 378,
   "metadata": {
    "collapsed": false
   },
   "outputs": [
    {
     "data": {
      "text/plain": [
       "Generalized least squares fit by REML\n",
       "  Model: w_Unif_Dist ~ TimeDist + SameDay + LibraryComp + PC1Dist \n",
       "  Data: SubDist \n",
       "        AIC      BIC   logLik\n",
       "  -901.8768 -876.662 457.9384\n",
       "\n",
       "Correlation Structure: corMLPE\n",
       " Formula: ~PlotA + PlotB \n",
       " Parameter estimate(s):\n",
       "      Rho \n",
       "0.2304395 \n",
       "\n",
       "Coefficients:\n",
       "                   Value   Std.Error   t-value p-value\n",
       "(Intercept)   0.16482928 0.011583751 14.229353  0.0000\n",
       "TimeDist     -0.00152142 0.001488343 -1.022227  0.3076\n",
       "SameDay1      0.08788913 0.008881266  9.896014  0.0000\n",
       "LibraryComp1  0.03184962 0.010023614  3.177459  0.0017\n",
       "PC1Dist       0.02165622 0.003116164  6.949642  0.0000\n",
       "\n",
       " Correlation: \n",
       "             (Intr) TimDst SamDy1 LbrrC1\n",
       "TimeDist      0.016                     \n",
       "SameDay1     -0.161 -0.395              \n",
       "LibraryComp1 -0.025 -0.761 -0.039       \n",
       "PC1Dist      -0.187 -0.467 -0.175  0.412\n",
       "\n",
       "Standardized residuals:\n",
       "        Min          Q1         Med          Q3         Max \n",
       "-2.29992148 -0.61306651 -0.05617992  0.68437925  2.76111936 \n",
       "\n",
       "Residual standard error: 0.05260852 \n",
       "Degrees of freedom: 276 total; 271 residual\n"
      ]
     },
     "metadata": {},
     "output_type": "display_data"
    }
   ],
   "source": [
    "%%R\n",
    "#H3: combined phylogenetic distance and functional\n",
    "fit5=  gls(w_Unif_Dist ~ TimeDist + SameDay + LibraryComp  + PC1Dist, \n",
    "             correlation = corMLPE(form= ~ PlotA + PlotB), data = SubDist)\n",
    "summary(fit5)"
   ]
  },
  {
   "cell_type": "code",
   "execution_count": 379,
   "metadata": {
    "collapsed": false,
    "scrolled": true
   },
   "outputs": [
    {
     "data": {
      "text/plain": [
       "Generalized least squares fit by REML\n",
       "  Model: w_Unif_Dist ~ TimeDist + SameDay + LibraryComp + poly(phy_Dist,      2) + PC1Dist \n",
       "  Data: SubDist \n",
       "       AIC       BIC  logLik\n",
       "  -930.648 -898.2956 474.324\n",
       "\n",
       "Correlation Structure: corMLPE\n",
       " Formula: ~PlotA + PlotB \n",
       " Parameter estimate(s):\n",
       "      Rho \n",
       "0.1889258 \n",
       "\n",
       "Coefficients:\n",
       "                       Value  Std.Error   t-value p-value\n",
       "(Intercept)        0.1632054 0.01001765 16.291794  0.0000\n",
       "TimeDist           0.0011996 0.00150123  0.799092  0.4249\n",
       "SameDay1           0.0876705 0.00879333  9.970115  0.0000\n",
       "LibraryComp1       0.0149003 0.01027685  1.449887  0.1483\n",
       "poly(phy_Dist, 2)1 0.3762567 0.05832567  6.450962  0.0000\n",
       "poly(phy_Dist, 2)2 0.1581972 0.05278775  2.996854  0.0030\n",
       "PC1Dist            0.0184219 0.00294736  6.250308  0.0000\n",
       "\n",
       " Correlation: \n",
       "                   (Intr) TimDst SamDy1 LbrrC1 p(_D,2)1 p(_D,2)2\n",
       "TimeDist           -0.073                                       \n",
       "SameDay1           -0.268 -0.237                                \n",
       "LibraryComp1        0.080 -0.795 -0.158                         \n",
       "poly(phy_Dist, 2)1  0.050  0.181 -0.070 -0.144                  \n",
       "poly(phy_Dist, 2)2 -0.276  0.388  0.304 -0.419  0.194           \n",
       "PC1Dist            -0.200 -0.471 -0.148  0.405 -0.182   -0.063  \n",
       "\n",
       "Standardized residuals:\n",
       "         Min           Q1          Med           Q3          Max \n",
       "-2.524135508 -0.635036474 -0.007404583  0.553272236  2.757386997 \n",
       "\n",
       "Residual standard error: 0.04617979 \n",
       "Degrees of freedom: 276 total; 269 residual\n"
      ]
     },
     "metadata": {},
     "output_type": "display_data"
    }
   ],
   "source": [
    "%%R\n",
    "fit6=  gls(w_Unif_Dist ~ TimeDist + SameDay + LibraryComp + poly(phy_Dist,2)  + PC1Dist, \n",
    "             correlation = corMLPE(form= ~ PlotA + PlotB), data = SubDist)\n",
    "summary(fit6)"
   ]
  },
  {
   "cell_type": "code",
   "execution_count": 380,
   "metadata": {
    "collapsed": false
   },
   "outputs": [
    {
     "data": {
      "text/plain": [
       "Generalized least squares fit by REML\n",
       "  Model: w_Unif_Dist ~ SameDay + poly(phy_Dist, 2) + PC1Dist \n",
       "  Data: SubDist \n",
       "        AIC       BIC   logLik\n",
       "  -941.8657 -916.6509 477.9329\n",
       "\n",
       "Correlation Structure: corMLPE\n",
       " Formula: ~PlotA + PlotB \n",
       " Parameter estimate(s):\n",
       "      Rho \n",
       "0.1845845 \n",
       "\n",
       "Coefficients:\n",
       "                       Value  Std.Error   t-value p-value\n",
       "(Intercept)        0.1625334 0.01006010 16.156240   0e+00\n",
       "SameDay1           0.1064977 0.00704358 15.119819   0e+00\n",
       "poly(phy_Dist, 2)1 0.3678224 0.05831297  6.307729   0e+00\n",
       "poly(phy_Dist, 2)2 0.1749187 0.04864644  3.595714   4e-04\n",
       "PC1Dist            0.0190821 0.00264285  7.220260   0e+00\n",
       "\n",
       " Correlation: \n",
       "                   (Intr) SamDy1 p(_D,2)1 p(_D,2)2\n",
       "SameDay1           -0.342                         \n",
       "poly(phy_Dist, 2)1  0.065 -0.034                  \n",
       "poly(phy_Dist, 2)2 -0.272  0.412  0.139           \n",
       "PC1Dist            -0.272 -0.334 -0.111    0.163  \n",
       "\n",
       "Standardized residuals:\n",
       "       Min         Q1        Med         Q3        Max \n",
       "-2.4381118 -0.6407372 -0.0319276  0.5699355  2.9370905 \n",
       "\n",
       "Residual standard error: 0.04680051 \n",
       "Degrees of freedom: 276 total; 271 residual\n"
      ]
     },
     "metadata": {},
     "output_type": "display_data"
    }
   ],
   "source": [
    "%%R\n",
    "fit7=  gls(w_Unif_Dist ~  SameDay + poly(phy_Dist,2)  + PC1Dist, \n",
    "             correlation = corMLPE(form= ~ PlotA + PlotB), data = SubDist)\n",
    "summary(fit7)"
   ]
  },
  {
   "cell_type": "code",
   "execution_count": 360,
   "metadata": {
    "collapsed": false,
    "scrolled": true
   },
   "outputs": [
    {
     "data": {
      "text/plain": [
       "     Model df       AIC       BIC   logLik   Test   L.Ratio p-value\n",
       "fit1     1  3 -665.0201 -654.1698 335.5101                         \n",
       "fit2     2  6 -869.3277 -847.6928 440.6638 1 vs 2 210.30754  <.0001\n",
       "fit3     3  7 -900.3415 -875.1266 457.1707 2 vs 3  33.01381  <.0001\n",
       "fit4     4  8 -906.2640 -877.4766 461.1320 3 vs 4   7.92251  0.0049\n",
       "fit5     5  9 -881.3531 -849.0007 449.6766 4 vs 5  22.91086  <.0001\n",
       "fit6     6  9 -930.6480 -898.2956 474.3240                         \n"
      ]
     },
     "metadata": {},
     "output_type": "display_data"
    }
   ],
   "source": [
    "%%R\n",
    "anova(fit1, fit2, fit3, fit4, fit5, fit6)"
   ]
  },
  {
   "cell_type": "code",
   "execution_count": 385,
   "metadata": {
    "collapsed": false
   },
   "outputs": [
    {
     "data": {
      "image/png": "[encoded data removed]"
     },
     "metadata": {},
     "output_type": "display_data"
    }
   ],
   "source": [
    "%%R\n",
    "p2 = ggplot(SubDist, aes(y = w_Unif_Dist, x = phy_Dist)) \n",
    "p2 = p2 + geom_point()\n",
    "#p = p + stat_smooth(method = \"lm\", formula = y~.29x -.236x^2 + .213, se = FALSE)\n",
    "p2 = p2 + theme_bw(base_size = 16)\n",
    "p2 = p2 + ggtitle(\"Late Season Plants \")\n",
    "#p = p + stat_function(fun = test)\n",
    "p2"
   ]
  },
  {
   "cell_type": "code",
   "execution_count": 388,
   "metadata": {
    "collapsed": false,
    "hide_input": true,
    "scrolled": false
   },
   "outputs": [
    {
     "data": {
      "image/png": "[encoded data removed]"
     },
     "metadata": {},
     "output_type": "display_data"
    }
   ],
   "source": [
    "%%R\n",
    " grid.arrange(p,p1,p2, layout_matrix = rbind(c(1, 1), c(2,3)))"
   ]
  },
  {
   "cell_type": "code",
   "execution_count": 368,
   "metadata": {
    "collapsed": false,
    "scrolled": false
   },
   "outputs": [
    {
     "data": {
      "image/png": "[encoded data removed]"
     },
     "metadata": {},
     "output_type": "display_data"
    }
   ],
   "source": [
    "%%R\n",
    "data = filter(SubDist, PlantA != PlantB)\n",
    "p3 = ggplot(data, aes(y = w_Unif_Dist, x = PC1Dist, color = phy_Dist) )\n",
    "p3 = p3 + geom_point()\n",
    "#p = p + stat_smooth(method = \"lm\", formula = y~.29x -.236x^2 + .213, se = FALSE)\n",
    "p3 = p3 + theme_bw(base_size = 16)\n",
    "p3 = p3 + ggtitle(\"Late Season Species \")\n",
    "#p = p + stat_function(fun = test)\n",
    "p3"
   ]
  },
  {
   "cell_type": "markdown",
   "metadata": {},
   "source": [
    "### PCA showing just late season annuals and B73"
   ]
  },
  {
   "cell_type": "code",
   "execution_count": 318,
   "metadata": {
    "collapsed": false
   },
   "outputs": [
    {
     "data": {
      "image/png": "[encoded data removed]"
     },
     "metadata": {},
     "output_type": "display_data"
    }
   ],
   "source": [
    "%%R -w 500 -h 400\n",
    "data = filter(E_Fit, Plant %in% c(\"B73\",   \"ERATE\", \n",
    " \"ELCOR\",  \"SORSUD\",    \"SORBI\", \"HELAN\") )\n",
    "p = ggplot(data, aes(PC1, PC2, colour = Plant), pch = 21)\n",
    "p = p + geom_point()\n",
    "p = p + scale_colour_brewer(palette=\"Paired\")\n",
    "p = p + ggtitle(\"PCA of Growth Residuals\")\n",
    "p"
   ]
  },
  {
   "cell_type": "code",
   "execution_count": null,
   "metadata": {
    "collapsed": true
   },
   "outputs": [],
   "source": []
  },
  {
   "cell_type": "markdown",
   "metadata": {},
   "source": [
    "# Subset of late season plants with all maize"
   ]
  },
  {
   "cell_type": "markdown",
   "metadata": {},
   "source": [
    "## recreate functional distance variables on subset"
   ]
  },
  {
   "cell_type": "code",
   "execution_count": 261,
   "metadata": {
    "collapsed": false
   },
   "outputs": [
    {
     "data": {
      "text/plain": [
       "[1] 3741   21\n",
       "[1] 2016   21\n",
       " [1] 75-062 MS71   B73    Oh7B   B97    H99    Il14H  ERATE  ELCOR  SORSUD\n",
       "[11] Ki3    SORBI  Hp301  HELAN  Tx303  Mo18  \n",
       "16 Levels: 75-062 B73 B97 ELCOR ERATE H99 HELAN Hp301 Il14H Ki3 Mo18 ... Tx303\n"
      ]
     },
     "metadata": {},
     "output_type": "display_data"
    }
   ],
   "source": [
    "%%R\n",
    "dim(Dist) %>% print\n",
    "SubDist = filter(Dist, DAY_A %in% c( \"72\", \"79\", \"84\", \"88\") & DAY_B %in% c( \"72\", \"79\", \"84\", \"88\"))\n",
    "\n",
    "dim(SubDist) %>% print\n",
    "SubDist$PlantA %>% unique\n"
   ]
  },
  {
   "cell_type": "code",
   "execution_count": 262,
   "metadata": {
    "collapsed": true
   },
   "outputs": [],
   "source": [
    "%%R\n",
    "#null model\n",
    "fit1=  gls(w_Unif_Dist ~ 1, \n",
    "             correlation = corMLPE(form= ~ PlotA + PlotB), data = SubDist)"
   ]
  },
  {
   "cell_type": "code",
   "execution_count": 263,
   "metadata": {
    "collapsed": false
   },
   "outputs": [
    {
     "data": {
      "text/plain": [
       "Generalized least squares fit by REML\n",
       "  Model: w_Unif_Dist ~ 1 \n",
       "  Data: SubDist \n",
       "        AIC       BIC   logLik\n",
       "  -6409.249 -6392.424 3207.625\n",
       "\n",
       "Correlation Structure: corMLPE\n",
       " Formula: ~PlotA + PlotB \n",
       " Parameter estimate(s):\n",
       "     Rho \n",
       "0.251618 \n",
       "\n",
       "Coefficients:\n",
       "                Value   Std.Error  t-value p-value\n",
       "(Intercept) 0.2350195 0.008348303 28.15177       0\n",
       "\n",
       "Standardized residuals:\n",
       "       Min         Q1        Med         Q3        Max \n",
       "-1.8075544 -0.7440251 -0.1621121  0.5931403  3.8053914 \n",
       "\n",
       "Residual standard error: 0.06605584 \n",
       "Degrees of freedom: 2016 total; 2015 residual\n"
      ]
     },
     "metadata": {},
     "output_type": "display_data"
    }
   ],
   "source": [
    "%%R\n",
    "summary(fit1)"
   ]
  },
  {
   "cell_type": "code",
   "execution_count": 264,
   "metadata": {
    "collapsed": false
   },
   "outputs": [
    {
     "data": {
      "text/plain": [
       "Generalized least squares fit by REML\n",
       "  Model: w_Unif_Dist ~ TimeDist + SameDay + LibraryComp \n",
       "  Data: SubDist \n",
       "        AIC       BIC   logLik\n",
       "  -6681.806 -6648.165 3346.903\n",
       "\n",
       "Correlation Structure: corMLPE\n",
       " Formula: ~PlotA + PlotB \n",
       " Parameter estimate(s):\n",
       "      Rho \n",
       "0.2710062 \n",
       "\n",
       "Coefficients:\n",
       "                   Value   Std.Error   t-value p-value\n",
       "(Intercept)   0.20345771 0.008506148 23.918900   0e+00\n",
       "TimeDist     -0.00146817 0.000428982 -3.422450   6e-04\n",
       "SameDay1      0.04373292 0.004098648 10.670084   0e+00\n",
       "LibraryComp1  0.01768391 0.002891179  6.116504   0e+00\n",
       "\n",
       " Correlation: \n",
       "             (Intr) TimDst SamDy1\n",
       "TimeDist      0.041              \n",
       "SameDay1     -0.134 -0.782       \n",
       "LibraryComp1 -0.044 -0.658  0.292\n",
       "\n",
       "Standardized residuals:\n",
       "       Min         Q1        Med         Q3        Max \n",
       "-2.0889256 -0.7463494 -0.1253755  0.5947027  3.7627957 \n",
       "\n",
       "Residual standard error: 0.06355152 \n",
       "Degrees of freedom: 2016 total; 2012 residual\n"
      ]
     },
     "metadata": {},
     "output_type": "display_data"
    }
   ],
   "source": [
    "%%R\n",
    "fit2=  gls(w_Unif_Dist ~ TimeDist + SameDay + LibraryComp, \n",
    "             correlation = corMLPE(form= ~ PlotA + PlotB), data = SubDist)\n",
    "summary(fit2)"
   ]
  },
  {
   "cell_type": "code",
   "execution_count": 265,
   "metadata": {
    "collapsed": false
   },
   "outputs": [
    {
     "data": {
      "text/plain": [
       "Generalized least squares fit by REML\n",
       "  Model: w_Unif_Dist ~ TimeDist + SameDay + LibraryComp + phy_Dist \n",
       "  Data: SubDist \n",
       "        AIC       BIC   logLik\n",
       "  -6778.996 -6739.751 3396.498\n",
       "\n",
       "Correlation Structure: corMLPE\n",
       " Formula: ~PlotA + PlotB \n",
       " Parameter estimate(s):\n",
       "      Rho \n",
       "0.2425501 \n",
       "\n",
       "Coefficients:\n",
       "                   Value   Std.Error   t-value p-value\n",
       "(Intercept)   0.19336502 0.007535196 25.661578  0.0000\n",
       "TimeDist     -0.00091187 0.000421620 -2.162777  0.0307\n",
       "SameDay1      0.03628378 0.004061779  8.932977  0.0000\n",
       "LibraryComp1  0.01521089 0.002833924  5.367432  0.0000\n",
       "phy_Dist      0.23521826 0.022492658 10.457557  0.0000\n",
       "\n",
       " Correlation: \n",
       "             (Intr) TimDst SamDy1 LbrrC1\n",
       "TimeDist      0.028                     \n",
       "SameDay1     -0.124 -0.785              \n",
       "LibraryComp1 -0.037 -0.660  0.299       \n",
       "phy_Dist     -0.128  0.124 -0.174 -0.082\n",
       "\n",
       "Standardized residuals:\n",
       "       Min         Q1        Med         Q3        Max \n",
       "-2.5026553 -0.7282384 -0.1196183  0.6027257  3.4317787 \n",
       "\n",
       "Residual standard error: 0.05861078 \n",
       "Degrees of freedom: 2016 total; 2011 residual\n"
      ]
     },
     "metadata": {},
     "output_type": "display_data"
    }
   ],
   "source": [
    "%%R\n",
    "fit3=  gls(w_Unif_Dist ~ TimeDist + SameDay + LibraryComp + phy_Dist, \n",
    "             correlation = corMLPE(form= ~ PlotA + PlotB), data = SubDist)\n",
    "summary(fit3)"
   ]
  },
  {
   "cell_type": "code",
   "execution_count": 266,
   "metadata": {
    "collapsed": false,
    "scrolled": true
   },
   "outputs": [
    {
     "data": {
      "text/plain": [
       "Generalized least squares fit by REML\n",
       "  Model: w_Unif_Dist ~ TimeDist + SameDay + LibraryComp + poly(phy_Dist,      2) \n",
       "  Data: SubDist \n",
       "        AIC      BIC   logLik\n",
       "  -6782.227 -6737.38 3399.114\n",
       "\n",
       "Correlation Structure: corMLPE\n",
       " Formula: ~PlotA + PlotB \n",
       " Parameter estimate(s):\n",
       "      Rho \n",
       "0.2345679 \n",
       "\n",
       "Coefficients:\n",
       "                        Value  Std.Error   t-value p-value\n",
       "(Intercept)         0.2067427 0.00726010 28.476569  0.0000\n",
       "TimeDist           -0.0008803 0.00042137 -2.089043  0.0368\n",
       "SameDay1            0.0356805 0.00406570  8.775987  0.0000\n",
       "LibraryComp1        0.0149753 0.00283420  5.283792  0.0000\n",
       "poly(phy_Dist, 2)1  1.1519411 0.11496983 10.019508  0.0000\n",
       "poly(phy_Dist, 2)2 -0.1799512 0.07759734 -2.319038  0.0205\n",
       "\n",
       " Correlation: \n",
       "                   (Intr) TimDst SamDy1 LbrrC1 p(_D,2)1\n",
       "TimeDist            0.051                              \n",
       "SameDay1           -0.159 -0.785                       \n",
       "LibraryComp1       -0.054 -0.660  0.300                \n",
       "poly(phy_Dist, 2)1  0.035  0.119 -0.162 -0.076         \n",
       "poly(phy_Dist, 2)2 -0.021 -0.026  0.059  0.032  0.158  \n",
       "\n",
       "Standardized residuals:\n",
       "       Min         Q1        Med         Q3        Max \n",
       "-2.4664270 -0.7367203 -0.1174680  0.6025918  3.4466605 \n",
       "\n",
       "Residual standard error: 0.05771738 \n",
       "Degrees of freedom: 2016 total; 2010 residual\n"
      ]
     },
     "metadata": {},
     "output_type": "display_data"
    }
   ],
   "source": [
    "%%R\n",
    "fit4=  gls(w_Unif_Dist ~ TimeDist + SameDay + LibraryComp + poly(phy_Dist,2), \n",
    "             correlation = corMLPE(form= ~ PlotA + PlotB), data = SubDist)\n",
    "summary(fit4)"
   ]
  },
  {
   "cell_type": "code",
   "execution_count": 267,
   "metadata": {
    "collapsed": false
   },
   "outputs": [
    {
     "data": {
      "text/plain": [
       "Generalized least squares fit by REML\n",
       "  Model: w_Unif_Dist ~ TimeDist + SameDay + LibraryComp + PC2Dist \n",
       "  Data: SubDist \n",
       "        AIC       BIC   logLik\n",
       "  -6670.959 -6631.714 3342.479\n",
       "\n",
       "Correlation Structure: corMLPE\n",
       " Formula: ~PlotA + PlotB \n",
       " Parameter estimate(s):\n",
       "      Rho \n",
       "0.2701235 \n",
       "\n",
       "Coefficients:\n",
       "                   Value   Std.Error   t-value p-value\n",
       "(Intercept)   0.20125779 0.008585233 23.442322  0.0000\n",
       "TimeDist     -0.00140737 0.000430484 -3.269268  0.0011\n",
       "SameDay1      0.04258019 0.004159509 10.236830  0.0000\n",
       "LibraryComp1  0.01738842 0.002896085  6.004112  0.0000\n",
       "PC2Dist       0.00211841 0.001319284  1.605730  0.1085\n",
       "\n",
       " Correlation: \n",
       "             (Intr) TimDst SamDy1 LbrrC1\n",
       "TimeDist      0.026                     \n",
       "SameDay1     -0.104 -0.783              \n",
       "LibraryComp1 -0.033 -0.660  0.298       \n",
       "PC2Dist      -0.160  0.088 -0.172 -0.063\n",
       "\n",
       "Standardized residuals:\n",
       "       Min         Q1        Med         Q3        Max \n",
       "-2.0700325 -0.7397505 -0.1186156  0.5945767  3.7603069 \n",
       "\n",
       "Residual standard error: 0.06341141 \n",
       "Degrees of freedom: 2016 total; 2011 residual\n"
      ]
     },
     "metadata": {},
     "output_type": "display_data"
    }
   ],
   "source": [
    "%%R\n",
    "#H3: combined phylogenetic distance and functional\n",
    "fit5=  gls(w_Unif_Dist ~ TimeDist + SameDay + LibraryComp  + PC2Dist, \n",
    "             correlation = corMLPE(form= ~ PlotA + PlotB), data = SubDist)\n",
    "summary(fit5)\n",
    "\n"
   ]
  },
  {
   "cell_type": "code",
   "execution_count": 268,
   "metadata": {
    "collapsed": false
   },
   "outputs": [
    {
     "data": {
      "text/plain": [
       "Generalized least squares fit by REML\n",
       "  Model: w_Unif_Dist ~ TimeDist + SameDay + LibraryComp + poly(phy_Dist,      2) + PC2Dist \n",
       "  Data: SubDist \n",
       "        AIC       BIC   logLik\n",
       "  -6768.807 -6718.359 3393.404\n",
       "\n",
       "Correlation Structure: corMLPE\n",
       " Formula: ~PlotA + PlotB \n",
       " Parameter estimate(s):\n",
       "      Rho \n",
       "0.2345896 \n",
       "\n",
       "Coefficients:\n",
       "                        Value  Std.Error   t-value p-value\n",
       "(Intercept)         0.2065111 0.00739707 27.917941  0.0000\n",
       "TimeDist           -0.0008755 0.00042248 -2.072178  0.0384\n",
       "SameDay1            0.0355831 0.00410961  8.658508  0.0000\n",
       "LibraryComp1        0.0149521 0.00283838  5.267844  0.0000\n",
       "poly(phy_Dist, 2)1  1.1499523 0.11563366  9.944789  0.0000\n",
       "poly(phy_Dist, 2)2 -0.1785691 0.07806171 -2.287538  0.0223\n",
       "PC2Dist             0.0002149 0.00130386  0.164801  0.8691\n",
       "\n",
       " Correlation: \n",
       "                   (Intr) TimDst SamDy1 LbrrC1 p(_D,2)1 p(_D,2)2\n",
       "TimeDist            0.037                                       \n",
       "SameDay1           -0.127 -0.784                                \n",
       "LibraryComp1       -0.043 -0.661  0.303                         \n",
       "poly(phy_Dist, 2)1  0.054  0.111 -0.145 -0.070                  \n",
       "poly(phy_Dist, 2)2 -0.040 -0.019  0.043  0.027  0.145           \n",
       "PC2Dist            -0.190  0.069 -0.144 -0.050 -0.105    0.107  \n",
       "\n",
       "Standardized residuals:\n",
       "       Min         Q1        Med         Q3        Max \n",
       "-2.4685865 -0.7344748 -0.1167848  0.6020571  3.4500023 \n",
       "\n",
       "Residual standard error: 0.05773355 \n",
       "Degrees of freedom: 2016 total; 2009 residual\n"
      ]
     },
     "metadata": {},
     "output_type": "display_data"
    }
   ],
   "source": [
    "%%R\n",
    "fit6=  gls(w_Unif_Dist ~ TimeDist + SameDay + LibraryComp + poly(phy_Dist,2)  + PC2Dist, \n",
    "             correlation = corMLPE(form= ~ PlotA + PlotB), data = SubDist)\n",
    "summary(fit6)"
   ]
  },
  {
   "cell_type": "markdown",
   "metadata": {},
   "source": [
    "# Sandbox"
   ]
  },
  {
   "cell_type": "code",
   "execution_count": null,
   "metadata": {
    "collapsed": true
   },
   "outputs": [],
   "source": []
  },
  {
   "cell_type": "code",
   "execution_count": 18,
   "metadata": {
    "collapsed": false
   },
   "outputs": [
    {
     "data": {
      "text/plain": [
       "NULL\n"
      ]
     },
     "metadata": {},
     "output_type": "display_data"
    }
   ],
   "source": [
    "%%R\n",
    "# # PCA of annuals\n",
    "# sd = as(sample_data(phy), \"data.frame\")\n",
    "# sd$Plant %>% levels %>% print\n",
    "# sd = left_join(sd, SS, by = \"Plant\")\n",
    "# sd = left_join(sd, M_GDD, by = \"DAP\")\n",
    "\n",
    "#  fit = prcomp(~log(SeedSize_mg) + A_Resid_logN + A_Resid_logCN + A_Resid_logB, data = sd, \n",
    "#                  na.action = na.exclude, center = TRUE, scale = TRUE)\n",
    "\n",
    "# summary(fit) %>% print\n",
    "# fit$rotation %>% print\n",
    "# biplot(fit)"
   ]
  },
  {
   "cell_type": "code",
   "execution_count": 19,
   "metadata": {
    "collapsed": false,
    "scrolled": false
   },
   "outputs": [
    {
     "data": {
      "text/plain": [
       "NULL\n"
      ]
     },
     "metadata": {},
     "output_type": "display_data"
    }
   ],
   "source": [
    "%%R -w 600 -h 500\n",
    "# S = predict(fit)[,1:3]\n",
    "# E_Fit = cbind(sd, S)\n",
    "# row.names(E_Fit) = E_Fit$X.sample\n",
    "# sample_data(phy) = E_Fit\n",
    "\n",
    "\n",
    "# p = ggplot(E_Fit, aes(PC1, PC3, colour = Plant, \n",
    "#                        size = A_Resid_logN), pch = 21)\n",
    "# p = p + geom_point()\n",
    "# #p = p + scale_colour_brewer(palette=\"Paired\")\n",
    "# p = p + ggtitle(\"PCA of Growth Residuals\")\n",
    "# p"
   ]
  },
  {
   "cell_type": "code",
   "execution_count": 20,
   "metadata": {
    "collapsed": false,
    "scrolled": true
   },
   "outputs": [
    {
     "data": {
      "text/plain": [
       "NULL\n"
      ]
     },
     "metadata": {},
     "output_type": "display_data"
    }
   ],
   "source": [
    "%%R\n",
    "# p = ggplot(E_Fit, aes(PC1, PC2, colour = Plant, \n",
    "#                        size = A_Resid_logN), pch = 21)\n",
    "# p = p + geom_point()\n",
    "# #p = p + scale_colour_brewer(palette=\"Paired\")\n",
    "# p = p + ggtitle(\"PCA of Growth Residuals\")\n",
    "# p"
   ]
  },
  {
   "cell_type": "code",
   "execution_count": null,
   "metadata": {
    "collapsed": true
   },
   "outputs": [],
   "source": [
    "%%R\n",
    "# PC1dist = dist(sd[, \"PC1\"], method = \"euclidian\")\n",
    "#     #melt matrix\n",
    "#     PC1.m = melt(as.matrix(PC1dist))\n",
    "\n",
    "#     #set column names and create comparison column\n",
    "#      colnames(PC1.m) = c(\"PlotA\", \"PlotB\", \"PC1Dist\")\n",
    "#     PC1.m$PlotComp = paste(PC1.m$PlotA, PC1.m$PlotB, sep = \"-\")\n",
    "#     PC1.m %>% head\n",
    "\n",
    "# #measure distances on PC2\n",
    "# PC2dist = dist(sd[,\"PC2\"], method = \"euclidian\")\n",
    "#     #melt matrix\n",
    "#     PC2.m = melt(as.matrix(PC2dist))\n",
    "\n",
    "#     #set column names and create comparison column\n",
    "#      colnames(PC2.m) = c(\"PlotA\", \"PlotB\", \"PC2Dist\")\n",
    "#     PC2.m$PlotComp = paste(PC2.m$PlotA, PC2.m$PlotB, sep = \"-\")\n",
    "#     PC2.m %>% head\n",
    "\n",
    "# #measure distances on PC3\n",
    "# PC3dist = dist(sd[,\"PC3\"], method = \"euclidian\")\n",
    "#     #melt matrix\n",
    "#     PC3.m = melt(as.matrix(PC3dist))\n",
    "\n",
    "#     #set column names and create comparison column\n",
    "#      colnames(PC3.m) = c(\"PlotA\", \"PlotB\", \"PC3Dist\")\n",
    "#     PC3.m$PlotComp = paste(PC3.m$PlotA, PC3.m$PlotB, sep = \"-\")\n",
    "#     PC3.m %>% head %>% print"
   ]
  },
  {
   "cell_type": "markdown",
   "metadata": {},
   "source": [
    "### Not used, but if date/combo is random effect:"
   ]
  },
  {
   "cell_type": "code",
   "execution_count": null,
   "metadata": {
    "collapsed": false
   },
   "outputs": [],
   "source": [
    "%%R\n",
    "Dist$DateCombo = ifelse(as.numeric(as.character(Dist$DAY_A)) < as.numeric(as.character(Dist$DAY_B)),\n",
    "                                                                    paste(Dist$DAY_A, Dist$DAY_B, sep = \"-\"), \n",
    "                                                                   paste(Dist$DAY_B, Dist$DAY_A, sep = \"-\"))\n",
    "Dist$DateCombo %>% unique\n"
   ]
  },
  {
   "cell_type": "code",
   "execution_count": null,
   "metadata": {
    "collapsed": false,
    "hide_input": true
   },
   "outputs": [],
   "source": [
    "%%R\n",
    "\n",
    "\n",
    "fit10 <- lme(w_Unif_Dist ~ 1, random =~ 1|DateCombo, correlation = corMLPE(form= ~ PlotA + PlotB), data = Dist)\n",
    "summary(fit10) %>% print\n"
   ]
  },
  {
   "cell_type": "code",
   "execution_count": null,
   "metadata": {
    "collapsed": true
   },
   "outputs": [],
   "source": [
    "%%R\n",
    "fit11 <- lme(w_Unif_Dist ~ phy_Dist, random =~ 1|DateCombo, \n",
    "             correlation = corMLPE(form= ~ PlotA + PlotB), data = Dist)"
   ]
  },
  {
   "cell_type": "code",
   "execution_count": 123,
   "metadata": {
    "collapsed": false,
    "scrolled": false
   },
   "outputs": [
    {
     "data": {
      "image/png": "[encoded data removed]"
     },
     "metadata": {},
     "output_type": "display_data"
    }
   ],
   "source": [
    "%%R\n",
    "\n",
    "p = ggplot(Dist, aes(x = phy_Dist, y = w_Unif_Dist))\n",
    "           p = p + geom_point()\n",
    "        p = p + stat_smooth(method = \"lm\", se = FALSE)\n",
    "           p = p + facet_wrap(~DateCombo)\n",
    "           p"
   ]
  }
 ],
 "metadata": {
  "hide_input": true,
  "kernelspec": {
   "display_name": "Python [default]",
   "language": "python",
   "name": "python2"
  },
  "language_info": {
   "codemirror_mode": {
    "name": "ipython",
    "version": 2
   },
   "file_extension": ".py",
   "mimetype": "text/x-python",
   "name": "python",
   "nbconvert_exporter": "python",
   "pygments_lexer": "ipython2",
   "version": "2.7.12"
  }
 },
 "nbformat": 4,
 "nbformat_minor": 0
}
