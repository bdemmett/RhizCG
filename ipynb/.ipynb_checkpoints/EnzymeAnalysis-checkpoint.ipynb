{
 "cells": [
  {
   "cell_type": "markdown",
   "metadata": {},
   "source": [
    "#Enzyme analysis for RhizCG 2013"
   ]
  },
  {
   "cell_type": "markdown",
   "metadata": {},
   "source": [
    "##Set Variables"
   ]
  },
  {
   "cell_type": "code",
   "execution_count": 1,
   "metadata": {
    "collapsed": true
   },
   "outputs": [],
   "source": [
    "workDir = '/home/bryan/RhizCG/figures/'\n",
    "fullData = '/home/bryan/RhizCG/data/MiSeq_amplicon/PlotData.txt'"
   ]
  },
  {
   "cell_type": "markdown",
   "metadata": {},
   "source": [
    "#Init"
   ]
  },
  {
   "cell_type": "code",
   "execution_count": 2,
   "metadata": {
    "collapsed": false
   },
   "outputs": [],
   "source": [
    "%load_ext rpy2.ipython"
   ]
  },
  {
   "cell_type": "code",
   "execution_count": 3,
   "metadata": {
    "collapsed": false,
    "scrolled": true
   },
   "outputs": [
    {
     "name": "stderr",
     "output_type": "stream",
     "text": [
      "/opt/anaconda/lib/python2.7/site-packages/rpy2/robjects/functions.py:106: UserWarning: Loading required package: Matrix\n",
      "\n",
      "  res = super(Function, self).__call__(*new_args, **new_kwargs)\n",
      "/opt/anaconda/lib/python2.7/site-packages/rpy2/robjects/functions.py:106: UserWarning: \n",
      "Attaching package: ‘lmerTest’\n",
      "\n",
      "\n",
      "  res = super(Function, self).__call__(*new_args, **new_kwargs)\n",
      "/opt/anaconda/lib/python2.7/site-packages/rpy2/robjects/functions.py:106: UserWarning: The following object is masked from ‘package:lme4’:\n",
      "\n",
      "    lmer\n",
      "\n",
      "\n",
      "  res = super(Function, self).__call__(*new_args, **new_kwargs)\n",
      "/opt/anaconda/lib/python2.7/site-packages/rpy2/robjects/functions.py:106: UserWarning: The following object is masked from ‘package:stats’:\n",
      "\n",
      "    step\n",
      "\n",
      "\n",
      "  res = super(Function, self).__call__(*new_args, **new_kwargs)\n",
      "/opt/anaconda/lib/python2.7/site-packages/rpy2/robjects/functions.py:106: UserWarning: \n",
      "Attaching package: ‘dplyr’\n",
      "\n",
      "\n",
      "  res = super(Function, self).__call__(*new_args, **new_kwargs)\n",
      "/opt/anaconda/lib/python2.7/site-packages/rpy2/robjects/functions.py:106: UserWarning: The following objects are masked from ‘package:stats’:\n",
      "\n",
      "    filter, lag\n",
      "\n",
      "\n",
      "  res = super(Function, self).__call__(*new_args, **new_kwargs)\n",
      "/opt/anaconda/lib/python2.7/site-packages/rpy2/robjects/functions.py:106: UserWarning: The following objects are masked from ‘package:base’:\n",
      "\n",
      "    intersect, setdiff, setequal, union\n",
      "\n",
      "\n",
      "  res = super(Function, self).__call__(*new_args, **new_kwargs)\n",
      "/opt/anaconda/lib/python2.7/site-packages/rpy2/robjects/functions.py:106: UserWarning: Loading required package: mvtnorm\n",
      "\n",
      "  res = super(Function, self).__call__(*new_args, **new_kwargs)\n",
      "/opt/anaconda/lib/python2.7/site-packages/rpy2/robjects/functions.py:106: UserWarning: Loading required package: survival\n",
      "\n",
      "  res = super(Function, self).__call__(*new_args, **new_kwargs)\n",
      "/opt/anaconda/lib/python2.7/site-packages/rpy2/robjects/functions.py:106: UserWarning: Loading required package: TH.data\n",
      "\n",
      "  res = super(Function, self).__call__(*new_args, **new_kwargs)\n"
     ]
    }
   ],
   "source": [
    "%%R\n",
    "library(lme4)\n",
    "library(lmerTest)\n",
    "library(ggplot2)\n",
    "library(dplyr)\n",
    "library(pbkrtest)\n",
    "library(gridExtra)\n",
    "library(multcomp)"
   ]
  },
  {
   "cell_type": "markdown",
   "metadata": {},
   "source": [
    "###Read plant master table and re-work into N response tables"
   ]
  },
  {
   "cell_type": "code",
   "execution_count": 6,
   "metadata": {
    "collapsed": false
   },
   "outputs": [
    {
     "data": {
      "text/plain": [
       " [1] \"Unique\"             \"PlotID\"             \"Plant\"             \n",
       " [4] \"Plot\"               \"Treatment\"          \"Rep\"               \n",
       " [7] \"DAP\"                \"Sampling\"           \"PlantSample\"       \n",
       "[10] \"Type\"               \"Grass_Broad\"        \"Status\"            \n",
       "[13] \"Subfamily\"          \"Symbol_class\"       \"Plant_num\"         \n",
       "[16] \"Leaf_AreaBiomass_g\" \"Biomass_T\"          \"Biomass_P\"         \n",
       "[19] \"Leaf_Area_cm2\"      \"SLA\"                \"Leaf_N\"            \n",
       "[22] \"Leaf_C\"             \"LeafC_N\"            \"LNa\"               \n",
       "[25] \"Plant_N\"            \"Plant_C\"            \"Plant_CN\"          \n",
       "[28] \"d15N\"               \"tN_p\"               \"BX_act\"            \n",
       "[31] \"CB_act\"             \"LAP_act\"            \"NAG_act\"           \n",
       "[34] \"soil_dw\"            \"BX_activity_g\"      \"CB_activity_g\"     \n",
       "[37] \"LAP_activity_g\"     \"NAG_activity_g\"     \"BX_barefactor\"     \n",
       "[40] \"CB_barefactor\"      \"LAP_barefactor\"     \"NAG_barefactor\"    \n",
       "[43] \"BX_dif\"             \"CB_dif\"             \"LAP_dif\"           \n",
       "[46] \"NAG_dif\"            \"BX_rel\"             \"CB_rel\"            \n",
       "[49] \"LAP_rel\"            \"NAG_rel\"            \"NO3_ug_g\"          \n",
       "[52] \"NH4_ug_g\"           \"InorganicN\"         \"Resid_logB\"        \n",
       "[55] \"Resid_logN\"         \"Resid_logCN\"        \"Resid_logSLA\"      \n",
       "[58] \"Resid_LeafN\"       \n"
      ]
     },
     "metadata": {},
     "output_type": "display_data"
    }
   ],
   "source": [
    "%%R -i fullData -i workDir\n",
    "setwd(workDir)\n",
    "Master = read.table(fullData, header = TRUE)\n",
    "Master$Rep = as.factor(Master$Rep)\n",
    "colnames(Master)"
   ]
  },
  {
   "cell_type": "code",
   "execution_count": null,
   "metadata": {
    "collapsed": true
   },
   "outputs": [],
   "source": []
  },
  {
   "cell_type": "markdown",
   "metadata": {},
   "source": [
    "# Graph enzyme activity in bare vs rhizosphere soils"
   ]
  },
  {
   "cell_type": "code",
   "execution_count": 6,
   "metadata": {
    "collapsed": true
   },
   "outputs": [],
   "source": [
    "%%R\n",
    "e_sel = !is.na(Master$BX_dif)\n",
    "Enz = Master[e_sel,]\n"
   ]
  },
  {
   "cell_type": "code",
   "execution_count": 7,
   "metadata": {
    "collapsed": false
   },
   "outputs": [
    {
     "data": {
      "text/plain": [
       "Source: local data frame [4 x 11]\n",
       "Groups: Planted [2]\n",
       "\n",
       "      Planted Treatment     N     bx.m     bx.se     cb.m     cb.se    lap.m\n",
       "       (fctr)    (fctr) (int)    (dbl)     (dbl)    (dbl)     (dbl)    (dbl)\n",
       "1   Bare Soil      Nneg    32 15.17175 0.6498354 14.29288 0.5461105 126.6001\n",
       "2   Bare Soil      Npos    32 14.82994 0.7252128 13.78256 0.5471938 134.4734\n",
       "3 Rhizosphere      Nneg    88 22.32679 0.5840031 20.95171 0.5609904 150.1426\n",
       "4 Rhizosphere      Npos    88 24.84942 0.6868409 23.96746 0.6087010 158.9072\n",
       "Variables not shown: lap.se (dbl), nag.m (dbl), nag.se (dbl)\n"
      ]
     },
     "metadata": {},
     "output_type": "display_data"
    }
   ],
   "source": [
    "%%R\n",
    "#calculate means of Bare soil vs Planted treatments\n",
    "Enz$Planted = as.factor(ifelse(Enz$Plant == \"BARE\", \"Bare Soil\", \"Rhizosphere\"))\n",
    "\n",
    "by_treat = group_by(Enz, Planted, Treatment)\n",
    "Emeans = summarize(by_treat,\n",
    "              N = length(BX_activity_g),\n",
    "                   bx.m = mean(BX_activity_g),\n",
    "                   bx.se = sd(BX_activity_g)/sqrt(length(BX_activity_g)),\n",
    "                  cb.m = mean(CB_activity_g),\n",
    "                   cb.se = sd(CB_activity_g)/sqrt(length(CB_activity_g)),\n",
    "                  lap.m = mean(LAP_activity_g),\n",
    "                   lap.se = sd(LAP_activity_g)/sqrt(length(LAP_activity_g)),\n",
    "                    nag.m = mean(NAG_activity_g),\n",
    "                  nag.se = sd(NAG_activity_g)/sqrt(length(NAG_activity_g)))\n",
    "head(Emeans)"
   ]
  },
  {
   "cell_type": "code",
   "execution_count": 8,
   "metadata": {
    "collapsed": false,
    "scrolled": true
   },
   "outputs": [
    {
     "data": {
      "image/png": "[encoded data removed]"
     },
     "metadata": {},
     "output_type": "display_data"
    }
   ],
   "source": [
    "%%R\n",
    "\n",
    "P1 = ggplot(Emeans, aes(x = Treatment, y = bx.m, fill = Treatment)) +\n",
    "        scale_fill_manual(values = c(\"grey\",\"black\"))+\n",
    "        geom_bar(stat = \"identity\") + \n",
    "        geom_errorbar(data = Emeans, aes(y = bx.m,\n",
    "                  ymin = bx.m - bx.se, ymax = bx.m + bx.se), width = 0.4)+\n",
    "        ylab(\"nmol/g/s/hr\")+\n",
    "        ggtitle(\"BX\") +\n",
    "        theme_bw(base_size = 16)+\n",
    "        theme(axis.title.x = element_blank()) +\n",
    "        facet_grid(. ~ Planted)+\n",
    "        theme(legend.position=\"none\")\n",
    "        \n",
    "\n",
    "P2 = ggplot(Emeans, aes(x = Treatment, y = cb.m, fill = Treatment)) +\n",
    "        scale_fill_manual(values = c(\"grey\",\"black\"))+\n",
    "        geom_bar(stat = \"identity\") + \n",
    "        geom_errorbar(data = Emeans, aes(y = cb.m,\n",
    "                  ymin = cb.m - cb.se, ymax = cb.m + cb.se), width = 0.4)+\n",
    "        ylab(\"nmol/g/s/hr\")+\n",
    "        ggtitle(\"CB\") +\n",
    "        theme_bw(base_size = 16)+\n",
    "        theme(axis.title.x = element_blank()) +\n",
    "        facet_grid(. ~ Planted)+\n",
    "        theme(legend.position=\"none\")\n",
    "\n",
    "P3 = ggplot(Emeans, aes(x = Treatment, y = lap.m, fill = Treatment)) +\n",
    "        scale_fill_manual(values = c(\"grey\",\"black\"))+\n",
    "        geom_bar(stat = \"identity\") + \n",
    "        geom_errorbar(data = Emeans, aes(y = lap.m,\n",
    "                  ymin = lap.m - lap.se, ymax = lap.m + lap.se),\n",
    "                   colour = 'black', width = 0.4) +\n",
    "        theme(axis.title.x = element_blank()) +\n",
    "        ylab(\"nmol/g/s/hr\")+\n",
    "        ggtitle(\"LAP\") +\n",
    "        theme_bw(base_size = 16)+\n",
    "        theme(axis.title.x = element_blank()) +\n",
    "        facet_grid(. ~ Planted)+\n",
    "        theme(legend.position=\"none\")\n",
    "\n",
    "P4 = ggplot(Emeans, aes(x = Treatment, y = nag.m, fill = Treatment))  +\n",
    "        scale_fill_manual(values = c(\"grey\",\"black\"))+\n",
    "        geom_bar(stat = \"identity\") + \n",
    "        geom_errorbar(data = Emeans, aes(y = nag.m,\n",
    "                  ymin = nag.m - nag.se, ymax = nag.m + nag.se),\n",
    "                   colour = 'black', width = 0.4) +\n",
    "        theme(axis.title.x = element_blank())+ \n",
    "        ylab(\"nmol/g/s/hr\") +\n",
    "        ggtitle(\"NAG\") +\n",
    "        theme_bw(base_size = 16)+\n",
    "        theme(axis.title.x = element_blank()) +\n",
    "        facet_grid(. ~ Planted)+\n",
    "        theme(legend.position=\"none\")\n",
    "\n",
    "\n",
    "#print to file\n",
    "#pdf(file = \"enzyme_rhizosphere_xTreatment.pdf\")\n",
    "grid.arrange(P1, P2, P3, P4, ncol = 2)\n",
    "#dev.off"
   ]
  },
  {
   "cell_type": "markdown",
   "metadata": {},
   "source": [
    "## Model"
   ]
  },
  {
   "cell_type": "markdown",
   "metadata": {},
   "source": [
    "Notes: Rep has small random effect for BX, CB and NAG once nested Rep:Plant term is added.  However, REP contains considerable informatiomn for LAP.  Also possible to use Plot variable as random effect to avoid confusion. \n",
    "\n",
    "Residuals checked.  With exception of few outliers of predicted values residuals are normally and evenly distributed.   "
   ]
  },
  {
   "cell_type": "code",
   "execution_count": 1,
   "metadata": {
    "collapsed": false
   },
   "outputs": [
    {
     "name": "stderr",
     "output_type": "stream",
     "text": [
      "ERROR: Cell magic `%%R` not found.\n"
     ]
    }
   ],
   "source": [
    "%%R\n",
    "\n",
    "Enz$PlantedTreat = paste(Enz$Planted, Enz$Treatment, sep = \"-\")\n",
    "m = lmer(BX_activity_g ~ Planted + Treatment + Planted:Treatment + (1|Rep) + (1|Rep:Plant), \n",
    "          data = Enz)\n",
    "         #summary(m1) %>% print\n",
    "         anova(m, ddf=\"Kenward-Roger\", type=3) %>% print\n",
    "m1 = lmer(BX_activity_g ~ PlantedTreat + (1|Rep) + (1|Rep:Plant), \n",
    "          data = Enz)\n",
    "         #summary(m1) %>% print\n",
    "         anova(m1, ddf=\"Kenward-Roger\", type=3) %>% print\n",
    "        m1.lsm = lsmeans(m1)\n",
    "        m1.glht = glht(m1, linfct = mcp(PlantedTreat = \"Tukey\"))\n",
    "        summary(m1.glht)\n",
    "m1.cld = cld(m1.glht, level = 0.05)\n",
    "old.par <- par(mai=c(1,1,1.5,1), no.readonly = TRUE)\n",
    "plot(m1.cld)\n",
    "        \n",
    "\n",
    "plot(m)"
   ]
  },
  {
   "cell_type": "code",
   "execution_count": null,
   "metadata": {
    "collapsed": false
   },
   "outputs": [],
   "source": [
    "%%R\n",
    "\n",
    "Enz$PlantedTreat = paste(Enz$Planted, Enz$Treatment, sep = \"-\")\n",
    "m = lmer(CB_activity_g ~ Planted + Treatment + Planted:Treatment + (1|Rep) + (1|Rep:Plant), \n",
    "          data = Enz)\n",
    "         #summary(m1) %>% print\n",
    "         anova(m, ddf=\"Kenward-Roger\", type=3) %>% print\n",
    "m1 = lmer(CB_activity_g ~ PlantedTreat + (1|Rep) + (1|Rep:Plant), \n",
    "          data = Enz)\n",
    "         #summary(m1) %>% print\n",
    "         anova(m1, ddf=\"Kenward-Roger\", type=3) %>% print\n",
    "        m1.lsm = lsmeans(m1)\n",
    "        m1.glht = glht(m1, linfct = mcp(PlantedTreat = \"Tukey\"))\n",
    "        summary(m1.glht)\n",
    "# m1.cld = cld(m1.glht, level = 0.05)\n",
    "# old.par <- par(mai=c(1,1,1.5,1), no.readonly = TRUE)\n",
    "# plot(m1.cld)\n",
    "plot(m)"
   ]
  },
  {
   "cell_type": "code",
   "execution_count": null,
   "metadata": {
    "collapsed": false
   },
   "outputs": [],
   "source": [
    "%%R\n",
    "\n",
    "Enz$PlantedTreat = paste(Enz$Planted, Enz$Treatment, sep = \"-\")\n",
    "m = lmer(LAP_activity_g ~ Planted + Treatment + Planted:Treatment + (1|Rep) + (1|Rep:Plant), \n",
    "          data = Enz)\n",
    "         #summary(m1) %>% print\n",
    "         anova(m, ddf=\"Kenward-Roger\", type=3) %>% print\n",
    "m1 = lmer(LAP_activity_g ~ PlantedTreat + (1|Rep) + (1|Rep:Plant), \n",
    "          data = Enz)\n",
    "         #summary(m1) %>% print\n",
    "         anova(m1, ddf=\"Kenward-Roger\", type=3) %>% print\n",
    "        m1.lsm = lsmeans(m1)\n",
    "        m1.glht = glht(m1, linfct = mcp(PlantedTreat = \"Tukey\"))\n",
    "       # summary(m1.glht)\n",
    "m1.cld = cld(m1.glht, level = 0.05)\n",
    "old.par <- par(mai=c(1,1,1.5,1), no.readonly = TRUE)\n",
    "plot(m1.cld)\n",
    "plot(m)"
   ]
  },
  {
   "cell_type": "code",
   "execution_count": null,
   "metadata": {
    "collapsed": false
   },
   "outputs": [],
   "source": [
    "%%R\n",
    "\n",
    "Enz$PlantedTreat = paste(Enz$Planted, Enz$Treatment, sep = \"-\")\n",
    "m = lmer(NAG_activity_g ~ Planted + Treatment + Planted:Treatment + (1|Rep) + (1|Rep:Plant), \n",
    "          data = Enz)\n",
    "         #summary(m1) %>% print\n",
    "         anova(m, ddf=\"Kenward-Roger\", type=3) %>% print\n",
    "m1 = lmer(NAG_activity_g ~ PlantedTreat + (1|Rep) + (1|Rep:Plant), \n",
    "          data = Enz)\n",
    "         #summary(m1) %>% print\n",
    "         anova(m1, ddf=\"Kenward-Roger\", type=3) %>% print\n",
    "        m1.lsm = lsmeans(m1)\n",
    "        m1.glht = glht(m1, linfct = mcp(PlantedTreat = \"Tukey\"))\n",
    "        summary(m1.glht)\n",
    "# m1.cld = cld(m1.glht, level = 0.05)\n",
    "# old.par <- par(mai=c(1,1,1.5,1), no.readonly = TRUE)\n",
    "# plot(m1.cld)\n",
    "plot(m)"
   ]
  },
  {
   "cell_type": "markdown",
   "metadata": {},
   "source": [
    "# Model rhizosphere effect"
   ]
  },
  {
   "cell_type": "markdown",
   "metadata": {},
   "source": [
    "## First with just treatment effects"
   ]
  },
  {
   "cell_type": "code",
   "execution_count": 9,
   "metadata": {
    "collapsed": false
   },
   "outputs": [],
   "source": [
    "%%R\n",
    "PlantEnz = Enz[Enz$Planted == \"Rhizosphere\",]\n",
    "PlantEnz$Rep = as.factor(PlantEnz$Rep)"
   ]
  },
  {
   "cell_type": "code",
   "execution_count": null,
   "metadata": {
    "collapsed": false
   },
   "outputs": [],
   "source": [
    "%%R\n",
    "m = lmer(log(BX_rel) ~ Plant + Treatment + Plant:Treatment + (1|Rep) + (1|Rep:Plant), \n",
    "          data = PlantEnz)\n",
    "         summary(m) %>% print\n",
    "         anova(m, ddf=\"Kenward-Roger\", type=3) %>% print\n",
    "\n",
    "        \n",
    "\n",
    "plot(m)"
   ]
  },
  {
   "cell_type": "code",
   "execution_count": null,
   "metadata": {
    "collapsed": false
   },
   "outputs": [],
   "source": [
    "%%R\n",
    "m = lmer(log(CB_rel) ~ Plant + Treatment + Plant:Treatment + (1|Rep) + (1|Rep:Plant), \n",
    "          data = PlantEnz)\n",
    "         #summary(m1) %>% print\n",
    "         anova(m, ddf=\"Kenward-Roger\", type=3) %>% print\n",
    "\n",
    "        \n",
    "\n",
    "plot(m)"
   ]
  },
  {
   "cell_type": "code",
   "execution_count": null,
   "metadata": {
    "collapsed": false
   },
   "outputs": [],
   "source": [
    "%%R\n",
    "m = lmer(log(LAP_rel) ~ Plant + Treatment + Plant:Treatment + (1|Rep) + (1|Rep:Plant), \n",
    "          data = PlantEnz)\n",
    "         #summary(m1) %>% print\n",
    "         anova(m, ddf=\"Kenward-Roger\", type=3) %>% print\n",
    "\n",
    "        \n",
    "\n",
    "plot(m)"
   ]
  },
  {
   "cell_type": "code",
   "execution_count": null,
   "metadata": {
    "collapsed": false
   },
   "outputs": [],
   "source": [
    "%%R\n",
    "m = lmer(log(NAG_rel) ~ Plant + Treatment + Plant:Treatment + (1|Rep) + (1|Rep:Plant), \n",
    "          data = PlantEnz)\n",
    "         #summary(m1) %>% print\n",
    "         anova(m, ddf=\"Kenward-Roger\", type=3) %>% print\n",
    "\n",
    "        \n",
    "\n",
    "plot(m)"
   ]
  },
  {
   "cell_type": "code",
   "execution_count": null,
   "metadata": {
    "collapsed": false
   },
   "outputs": [],
   "source": [
    "%%R\n",
    "by_treat = group_by(PlantEnz, Treatment)\n",
    "Emeans = summarize(by_treat,\n",
    "              N = length(BX_rel),\n",
    "                   bx.m = mean(BX_rel),\n",
    "                   bx.se = sd(BX_rel)/sqrt(length(BX_rel)),\n",
    "                  cb.m = mean(CB_rel),\n",
    "                   cb.se = sd(CB_rel)/sqrt(length(CB_rel)),\n",
    "                  lap.m = mean(LAP_rel),\n",
    "                   lap.se = sd(LAP_rel)/sqrt(length(LAP_rel)),\n",
    "                    nag.m = mean(NAG_rel),\n",
    "                  nag.se = sd(NAG_rel)/sqrt(length(NAG_rel)))\n",
    "head(Emeans)"
   ]
  },
  {
   "cell_type": "code",
   "execution_count": null,
   "metadata": {
    "collapsed": false
   },
   "outputs": [],
   "source": [
    "%%R\n",
    "\n",
    "P1 = ggplot(Emeans, aes(x = Treatment, y = bx.m, fill = Treatment)) +\n",
    "        scale_fill_manual(values = c(\"grey\",\"black\"))+\n",
    "        geom_bar(stat = \"identity\") + \n",
    "        geom_errorbar(data = Emeans, aes(y = bx.m,\n",
    "                  ymin = bx.m - bx.se, ymax = bx.m + bx.se), width = 0.4)+\n",
    "        ylab(\"Rhizosphere Effect\")+\n",
    "        ggtitle(\"BX\") +\n",
    "        theme_bw()+\n",
    "        theme(axis.title.x = element_blank()) +\n",
    "        theme(legend.position=\"none\")\n",
    "        \n",
    "\n",
    "P2 = ggplot(Emeans, aes(x = Treatment, y = cb.m, fill = Treatment)) +\n",
    "        scale_fill_manual(values = c(\"grey\",\"black\"))+\n",
    "        geom_bar(stat = \"identity\") + \n",
    "        geom_errorbar(data = Emeans, aes(y = cb.m,\n",
    "                  ymin = cb.m - cb.se, ymax = cb.m + cb.se), width = 0.4)+\n",
    "        ylab(\"Rhizosphere Effect\")+\n",
    "        ggtitle(\"CB\") +\n",
    "        theme_bw()+\n",
    "        theme(axis.title.x = element_blank()) +\n",
    "        theme(legend.position=\"none\")\n",
    "\n",
    "P3 = ggplot(Emeans, aes(x = Treatment, y = lap.m, fill = Treatment)) +\n",
    "        scale_fill_manual(values = c(\"grey\",\"black\"))+\n",
    "        geom_bar(stat = \"identity\") + \n",
    "        geom_errorbar(data = Emeans, aes(y = lap.m,\n",
    "                  ymin = lap.m - lap.se, ymax = lap.m + lap.se),\n",
    "                   colour = 'black', width = 0.4) +\n",
    "        theme(axis.title.x = element_blank()) +\n",
    "        ylab(\"Rhizosphere Effect\")+\n",
    "        ggtitle(\"LAP\") +\n",
    "        theme_bw()+\n",
    "        theme(axis.title.x = element_blank()) +\n",
    "        theme(legend.position=\"none\")\n",
    "\n",
    "P4 = ggplot(Emeans, aes(x = Treatment, y = nag.m, fill = Treatment))  +\n",
    "        scale_fill_manual(values = c(\"grey\",\"black\"))+\n",
    "        geom_bar(stat = \"identity\") + \n",
    "        geom_errorbar(data = Emeans, aes(y = nag.m,\n",
    "                  ymin = nag.m - nag.se, ymax = nag.m + nag.se),\n",
    "                   colour = 'black', width = 0.4) +\n",
    "        theme(axis.title.x = element_blank())+ \n",
    "        ylab(\"Rhizosphere Effect\") +\n",
    "        ggtitle(\"NAG\") +\n",
    "        theme_bw()+\n",
    "        theme(axis.title.x = element_blank()) +\n",
    "        theme(legend.position=\"none\")\n",
    "\n",
    "\n",
    "#print to file\n",
    "#pdf(file = \"enzyme_rhizosphere_xTreatment.pdf\")\n",
    "grid.arrange(P1, P2, P3, P4, ncol = 2)\n",
    "#dev.off"
   ]
  },
  {
   "cell_type": "markdown",
   "metadata": {},
   "source": [
    "## Is N treatment effect due to fertilizer effects on plant growth or releiving N limitation in the rhizosphere"
   ]
  },
  {
   "cell_type": "code",
   "execution_count": null,
   "metadata": {
    "collapsed": false
   },
   "outputs": [],
   "source": [
    "%%R\n",
    "m = lmer(log(BX_activity_g) ~ Resid_logN + InorganicN + (1|Rep) + (1|Rep:Plant), \n",
    "          data = PlantEnz)\n",
    "         #summary(m1) %>% print\n",
    "         anova(m, ddf=\"Kenward-Roger\", type=3) %>% print\n",
    "\n",
    "        \n",
    "\n",
    "plot(m)"
   ]
  },
  {
   "cell_type": "code",
   "execution_count": null,
   "metadata": {
    "collapsed": false
   },
   "outputs": [],
   "source": [
    "%%R\n",
    "m = lmer(CB_rel ~ Treatment + Resid_logN +  InorganicN + (1|Rep) + (1|Rep:Plant), \n",
    "          data = PlantEnz)\n",
    "         #summary(m1) %>% print\n",
    "         anova(m, ddf=\"Kenward-Roger\", type=3) %>% print\n",
    "\n",
    "        \n",
    "\n",
    "plot(m)"
   ]
  },
  {
   "cell_type": "code",
   "execution_count": null,
   "metadata": {
    "collapsed": false
   },
   "outputs": [],
   "source": [
    "%%R\n",
    "m = lmer(LAP_activity_g ~ Treatment + Resid_logN + InorganicN + (1|Rep) + (1|Rep:Plant), \n",
    "          data = PlantEnz)\n",
    "         #summary(m1) %>% print\n",
    "         anova(m, ddf=\"Kenward-Roger\", type=3) %>% print\n",
    "\n",
    "        \n",
    "\n",
    "plot(m)"
   ]
  },
  {
   "cell_type": "code",
   "execution_count": null,
   "metadata": {
    "collapsed": false
   },
   "outputs": [],
   "source": [
    "%%R\n",
    "m = lmer(NAG_rel ~ InorganicN + (1|Rep) + (1|Rep:Plant), \n",
    "          data = PlantEnz)\n",
    "         #summary(m1) %>% print\n",
    "         anova(m, ddf=\"Kenward-Roger\", type=3) %>% print\n",
    "\n",
    "        \n",
    "\n",
    "plot(m)"
   ]
  },
  {
   "cell_type": "code",
   "execution_count": null,
   "metadata": {
    "collapsed": true
   },
   "outputs": [],
   "source": []
  },
  {
   "cell_type": "markdown",
   "metadata": {},
   "source": [
    "## Now include covariates"
   ]
  },
  {
   "cell_type": "markdown",
   "metadata": {},
   "source": [
    "Notes on potential variables: Plant, Type, Treatment, DAP, Residual variables as plant traits"
   ]
  },
  {
   "cell_type": "code",
   "execution_count": null,
   "metadata": {
    "collapsed": false
   },
   "outputs": [],
   "source": [
    "%%R\n",
    "PlantEnz = Enz[Enz$Planted == \"Rhizosphere\",]\n",
    "colnames(PlantEnz)"
   ]
  },
  {
   "cell_type": "code",
   "execution_count": null,
   "metadata": {
    "collapsed": false
   },
   "outputs": [],
   "source": [
    "%%R\n",
    "#Create relative Inorganic N variable by calculating the average inorganic N\n",
    "#in bare soil plots for each sampling date*N treatment combination.  Use separate file.\n",
    "#Then join reference table with Master\n",
    "Bare = Enz[Enz$Plant == \"BARE\",]\n",
    "Nmin_control = group_by(Bare, Sampling, Treatment) %>%\n",
    "                summarise(bare_NH4 = mean(NH4_ug_g),\n",
    "                          bare_NO3 = mean(NO3_ug_g),\n",
    "                          bare_InorganicN = mean(InorganicN))\n",
    "Nmin_control\n",
    "\n",
    "Enzsel = Enz[Enz$PlotID!= \"4.16_Npos\",]\n",
    "Plant = Enzsel[Enzsel$Plant != \"BARE\",]\n",
    "Plant = left_join(Plant, Nmin_control, by = c(\"Sampling\" = \"Sampling\", \"Treatment\" = \"Treatment\"))\n",
    "Plant$InorganicN_RE = Plant$InorganicN - Plant$bare_InorganicN\n",
    "dim(Plant)\n",
    "head(Plant)"
   ]
  },
  {
   "cell_type": "code",
   "execution_count": null,
   "metadata": {
    "collapsed": false,
    "scrolled": true
   },
   "outputs": [],
   "source": [
    "%%R\n",
    "\n",
    "m = lmer(log(BX_rel) ~  Plant + Treatment + Resid_logCN + \n",
    "        Resid_logN   + Plant:Treatment + (1|Rep) + (1|Rep:Plant), \n",
    "          data = Plant, na.rm = TRUE)\n",
    "         summary(m) %>% print\n",
    "         anova(m, ddf=\"Kenward-Roger\", type=3) %>% print\n",
    "\n",
    "\n",
    "#         m.lsm = lsmeans(m)\n",
    "#         m.glht = glht(m1, linfct = mcp(PlantedTreat = \"Tukey\"))\n",
    "#        # summary(m1.glht)\n",
    "# m1.cld = cld(m1.glht, level = 0.05)\n",
    "# old.par <- par(mai=c(1,1,1.5,1), no.readonly = TRUE)\n",
    "# plot(m1.cld)\n",
    "plot(m)\n"
   ]
  },
  {
   "cell_type": "markdown",
   "metadata": {},
   "source": [
    "First, tested model with plant, treatment, plant:treatment, residual SLA, residual logN, residual logB, residual logCN.  Residual logBiomass and logN are colinear, so neither are significant when both are in the model.  Remove log biomass.  logLeafN not significant, remove.  logSLA not significant, remove.  LogCN is more significant when logN is included.  logN is more significant when log CN is included. \n",
    "BX_rel ~ Plant + Treatment + Resid_logCN + Resid_logN + Plant:Treatment + (1|Rep) + (1|Rep:Plant). \n",
    "\n",
    "Add inorganicN_RE (rhizosphere effect) to parsed down model:\n",
    "When added residN is still significant, but residLogCN is no longer.  Interestingly, InorganicN_RE is not significant. \n",
    "\n",
    "Double checked Inorganic N in case calculation was skewing results.  Still not signficant and has same effect on other terms.  Remove inorganic N from model.  \n",
    "\n",
    "Residuals are heteroskedastic, log transform.\n",
    "\n",
    "Interactions of residuals and treatments are not sigificant.  \n",
    "\n",
    "Best model:\n",
    "m = lmer(log(BX_rel) ~  Plant + Treatment + Resid_logCN + \n",
    "        Resid_logN   + Plant:Treatment + (1|Rep) + (1|Rep:Plant), \n",
    "          data = Plant, na.rm = TRUE)"
   ]
  },
  {
   "cell_type": "code",
   "execution_count": null,
   "metadata": {
    "collapsed": false,
    "scrolled": false
   },
   "outputs": [],
   "source": [
    "%%R\n",
    "m = lmer(log(CB_rel) ~  Plant + Treatment + \n",
    "          InorganicN_RE + \n",
    "         (1|Rep) + (1|Rep:Plant), \n",
    "          data = Plant, na.rm = TRUE)\n",
    "         summary(m) %>% print\n",
    "         anova(m, ddf=\"Kenward-Roger\", type=3) %>% print\n",
    "\n",
    "\n",
    "#         m.lsm = lsmeans(m)\n",
    "#         m.glht = glht(m1, linfct = mcp(PlantedTreat = \"Tukey\"))\n",
    "#        # summary(m1.glht)\n",
    "# m1.cld = cld(m1.glht, level = 0.05)\n",
    "# old.par <- par(mai=c(1,1,1.5,1), no.readonly = TRUE)\n",
    "# plot(m1.cld)\n",
    "plot(m)"
   ]
  },
  {
   "cell_type": "code",
   "execution_count": null,
   "metadata": {
    "collapsed": true
   },
   "outputs": [],
   "source": []
  },
  {
   "cell_type": "markdown",
   "metadata": {},
   "source": [
    "Notes:\n",
    "Follows similar pattern as BX except log transformation may not be necessary.  \n",
    "If Plant:Treatment is removed InorganicN_RE is marginally significant, but not when Plant is removed"
   ]
  },
  {
   "cell_type": "code",
   "execution_count": null,
   "metadata": {
    "collapsed": true
   },
   "outputs": [],
   "source": []
  }
 ],
 "metadata": {
  "hide_input": true,
  "kernelspec": {
   "display_name": "Python 2",
   "language": "python",
   "name": "python2"
  },
  "language_info": {
   "codemirror_mode": {
    "name": "ipython",
    "version": 2
   },
   "file_extension": ".py",
   "mimetype": "text/x-python",
   "name": "python",
   "nbconvert_exporter": "python",
   "pygments_lexer": "ipython2",
   "version": "2.7.11"
  }
 },
 "nbformat": 4,
 "nbformat_minor": 0
}
