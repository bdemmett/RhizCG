{
 "cells": [
  {
   "cell_type": "markdown",
   "metadata": {},
   "source": [
    "# Plant function vs microbial community composition"
   ]
  },
  {
   "cell_type": "markdown",
   "metadata": {
    "slideshow": {
     "slide_type": "skip"
    }
   },
   "source": [
    "Test principle components from growth residuals on microbial community composition using constrained analysis of principle components"
   ]
  },
  {
   "cell_type": "code",
   "execution_count": 1,
   "metadata": {
    "collapsed": false
   },
   "outputs": [],
   "source": [
    "%load_ext rpy2.ipython"
   ]
  },
  {
   "cell_type": "code",
   "execution_count": 2,
   "metadata": {
    "collapsed": false,
    "hide_input": true
   },
   "outputs": [
    {
     "name": "stderr",
     "output_type": "stream",
     "text": [
      "/opt/anaconda/lib/python2.7/site-packages/rpy2/robjects/functions.py:106: UserWarning: Loading required package: lattice\n",
      "\n",
      "  res = super(Function, self).__call__(*new_args, **new_kwargs)\n",
      "/opt/anaconda/lib/python2.7/site-packages/rpy2/robjects/functions.py:106: UserWarning: Loading required package: survival\n",
      "\n",
      "  res = super(Function, self).__call__(*new_args, **new_kwargs)\n",
      "/opt/anaconda/lib/python2.7/site-packages/rpy2/robjects/functions.py:106: UserWarning: Loading required package: Formula\n",
      "\n",
      "  res = super(Function, self).__call__(*new_args, **new_kwargs)\n",
      "/opt/anaconda/lib/python2.7/site-packages/rpy2/robjects/functions.py:106: UserWarning: Loading required package: ggplot2\n",
      "\n",
      "  res = super(Function, self).__call__(*new_args, **new_kwargs)\n",
      "/opt/anaconda/lib/python2.7/site-packages/rpy2/robjects/functions.py:106: UserWarning: Want to understand how all the pieces fit together? Buy the ggplot2\n",
      "book: http://ggplot2.org/book/\n",
      "\n",
      "  res = super(Function, self).__call__(*new_args, **new_kwargs)\n",
      "/opt/anaconda/lib/python2.7/site-packages/rpy2/robjects/functions.py:106: UserWarning: \n",
      "Attaching package: ‘Hmisc’\n",
      "\n",
      "\n",
      "  res = super(Function, self).__call__(*new_args, **new_kwargs)\n",
      "/opt/anaconda/lib/python2.7/site-packages/rpy2/robjects/functions.py:106: UserWarning: The following objects are masked from ‘package:base’:\n",
      "\n",
      "    format.pval, round.POSIXt, trunc.POSIXt, units\n",
      "\n",
      "\n",
      "  res = super(Function, self).__call__(*new_args, **new_kwargs)\n",
      "/opt/anaconda/lib/python2.7/site-packages/rpy2/robjects/functions.py:106: UserWarning: Loading required package: Matrix\n",
      "\n",
      "  res = super(Function, self).__call__(*new_args, **new_kwargs)\n",
      "/opt/anaconda/lib/python2.7/site-packages/rpy2/robjects/functions.py:106: UserWarning: \n",
      "Attaching package: ‘lmerTest’\n",
      "\n",
      "\n",
      "  res = super(Function, self).__call__(*new_args, **new_kwargs)\n",
      "/opt/anaconda/lib/python2.7/site-packages/rpy2/robjects/functions.py:106: UserWarning: The following object is masked from ‘package:lme4’:\n",
      "\n",
      "    lmer\n",
      "\n",
      "\n",
      "  res = super(Function, self).__call__(*new_args, **new_kwargs)\n",
      "/opt/anaconda/lib/python2.7/site-packages/rpy2/robjects/functions.py:106: UserWarning: The following object is masked from ‘package:stats’:\n",
      "\n",
      "    step\n",
      "\n",
      "\n",
      "  res = super(Function, self).__call__(*new_args, **new_kwargs)\n",
      "/opt/anaconda/lib/python2.7/site-packages/rpy2/robjects/functions.py:106: UserWarning: \n",
      "Attaching package: ‘dplyr’\n",
      "\n",
      "\n",
      "  res = super(Function, self).__call__(*new_args, **new_kwargs)\n",
      "/opt/anaconda/lib/python2.7/site-packages/rpy2/robjects/functions.py:106: UserWarning: The following objects are masked from ‘package:Hmisc’:\n",
      "\n",
      "    combine, src, summarize\n",
      "\n",
      "\n",
      "  res = super(Function, self).__call__(*new_args, **new_kwargs)\n",
      "/opt/anaconda/lib/python2.7/site-packages/rpy2/robjects/functions.py:106: UserWarning: The following objects are masked from ‘package:stats’:\n",
      "\n",
      "    filter, lag\n",
      "\n",
      "\n",
      "  res = super(Function, self).__call__(*new_args, **new_kwargs)\n",
      "/opt/anaconda/lib/python2.7/site-packages/rpy2/robjects/functions.py:106: UserWarning: The following objects are masked from ‘package:base’:\n",
      "\n",
      "    intersect, setdiff, setequal, union\n",
      "\n",
      "\n",
      "  res = super(Function, self).__call__(*new_args, **new_kwargs)\n",
      "/opt/anaconda/lib/python2.7/site-packages/rpy2/robjects/functions.py:106: UserWarning: \n",
      "Attaching package: ‘tidyr’\n",
      "\n",
      "\n",
      "  res = super(Function, self).__call__(*new_args, **new_kwargs)\n",
      "/opt/anaconda/lib/python2.7/site-packages/rpy2/robjects/functions.py:106: UserWarning: The following object is masked from ‘package:Matrix’:\n",
      "\n",
      "    expand\n",
      "\n",
      "\n",
      "  res = super(Function, self).__call__(*new_args, **new_kwargs)\n",
      "/opt/anaconda/lib/python2.7/site-packages/rpy2/robjects/functions.py:106: UserWarning: \n",
      "Attaching package: ‘gridExtra’\n",
      "\n",
      "\n",
      "  res = super(Function, self).__call__(*new_args, **new_kwargs)\n",
      "/opt/anaconda/lib/python2.7/site-packages/rpy2/robjects/functions.py:106: UserWarning: The following object is masked from ‘package:dplyr’:\n",
      "\n",
      "    combine\n",
      "\n",
      "\n",
      "  res = super(Function, self).__call__(*new_args, **new_kwargs)\n",
      "/opt/anaconda/lib/python2.7/site-packages/rpy2/robjects/functions.py:106: UserWarning: The following object is masked from ‘package:Hmisc’:\n",
      "\n",
      "    combine\n",
      "\n",
      "\n",
      "  res = super(Function, self).__call__(*new_args, **new_kwargs)\n",
      "/opt/anaconda/lib/python2.7/site-packages/rpy2/robjects/functions.py:106: UserWarning: \n",
      "Attaching package: ‘reshape2’\n",
      "\n",
      "\n",
      "  res = super(Function, self).__call__(*new_args, **new_kwargs)\n",
      "/opt/anaconda/lib/python2.7/site-packages/rpy2/robjects/functions.py:106: UserWarning: The following object is masked from ‘package:tidyr’:\n",
      "\n",
      "    smiths\n",
      "\n",
      "\n",
      "  res = super(Function, self).__call__(*new_args, **new_kwargs)\n",
      "/opt/anaconda/lib/python2.7/site-packages/rpy2/robjects/functions.py:106: UserWarning: Loading required package: ape\n",
      "\n",
      "  res = super(Function, self).__call__(*new_args, **new_kwargs)\n",
      "/opt/anaconda/lib/python2.7/site-packages/rpy2/robjects/functions.py:106: UserWarning: \n",
      "Attaching package: ‘ape’\n",
      "\n",
      "\n",
      "  res = super(Function, self).__call__(*new_args, **new_kwargs)\n",
      "/opt/anaconda/lib/python2.7/site-packages/rpy2/robjects/functions.py:106: UserWarning: The following object is masked from ‘package:Hmisc’:\n",
      "\n",
      "    zoom\n",
      "\n",
      "\n",
      "  res = super(Function, self).__call__(*new_args, **new_kwargs)\n",
      "/opt/anaconda/lib/python2.7/site-packages/rpy2/robjects/functions.py:106: UserWarning: Loading required package: vegan\n",
      "\n",
      "  res = super(Function, self).__call__(*new_args, **new_kwargs)\n",
      "/opt/anaconda/lib/python2.7/site-packages/rpy2/robjects/functions.py:106: UserWarning: Loading required package: permute\n",
      "\n",
      "  res = super(Function, self).__call__(*new_args, **new_kwargs)\n",
      "/opt/anaconda/lib/python2.7/site-packages/rpy2/robjects/functions.py:106: UserWarning: This is vegan 2.4-0\n",
      "\n",
      "  res = super(Function, self).__call__(*new_args, **new_kwargs)\n",
      "/opt/anaconda/lib/python2.7/site-packages/rpy2/robjects/functions.py:106: UserWarning: Loading required package: nlme\n",
      "\n",
      "  res = super(Function, self).__call__(*new_args, **new_kwargs)\n",
      "/opt/anaconda/lib/python2.7/site-packages/rpy2/robjects/functions.py:106: UserWarning: \n",
      "Attaching package: ‘nlme’\n",
      "\n",
      "\n",
      "  res = super(Function, self).__call__(*new_args, **new_kwargs)\n",
      "/opt/anaconda/lib/python2.7/site-packages/rpy2/robjects/functions.py:106: UserWarning: The following object is masked from ‘package:dplyr’:\n",
      "\n",
      "    collapse\n",
      "\n",
      "\n",
      "  res = super(Function, self).__call__(*new_args, **new_kwargs)\n",
      "/opt/anaconda/lib/python2.7/site-packages/rpy2/robjects/functions.py:106: UserWarning: The following object is masked from ‘package:lme4’:\n",
      "\n",
      "    lmList\n",
      "\n",
      "\n",
      "  res = super(Function, self).__call__(*new_args, **new_kwargs)\n",
      "/opt/anaconda/lib/python2.7/site-packages/rpy2/robjects/functions.py:106: UserWarning: Loading required package: S4Vectors\n",
      "\n",
      "  res = super(Function, self).__call__(*new_args, **new_kwargs)\n",
      "/opt/anaconda/lib/python2.7/site-packages/rpy2/robjects/functions.py:106: UserWarning: Loading required package: stats4\n",
      "\n",
      "  res = super(Function, self).__call__(*new_args, **new_kwargs)\n",
      "/opt/anaconda/lib/python2.7/site-packages/rpy2/robjects/functions.py:106: UserWarning: Loading required package: BiocGenerics\n",
      "\n",
      "  res = super(Function, self).__call__(*new_args, **new_kwargs)\n",
      "/opt/anaconda/lib/python2.7/site-packages/rpy2/robjects/functions.py:106: UserWarning: Loading required package: parallel\n",
      "\n",
      "  res = super(Function, self).__call__(*new_args, **new_kwargs)\n",
      "/opt/anaconda/lib/python2.7/site-packages/rpy2/robjects/functions.py:106: UserWarning: \n",
      "Attaching package: ‘BiocGenerics’\n",
      "\n",
      "\n",
      "  res = super(Function, self).__call__(*new_args, **new_kwargs)\n",
      "/opt/anaconda/lib/python2.7/site-packages/rpy2/robjects/functions.py:106: UserWarning: The following objects are masked from ‘package:parallel’:\n",
      "\n",
      "    clusterApply, clusterApplyLB, clusterCall, clusterEvalQ,\n",
      "    clusterExport, clusterMap, parApply, parCapply, parLapply,\n",
      "    parLapplyLB, parRapply, parSapply, parSapplyLB\n",
      "\n",
      "\n",
      "  res = super(Function, self).__call__(*new_args, **new_kwargs)\n",
      "/opt/anaconda/lib/python2.7/site-packages/rpy2/robjects/functions.py:106: UserWarning: The following object is masked from ‘package:gridExtra’:\n",
      "\n",
      "    combine\n",
      "\n",
      "\n",
      "  res = super(Function, self).__call__(*new_args, **new_kwargs)\n",
      "/opt/anaconda/lib/python2.7/site-packages/rpy2/robjects/functions.py:106: UserWarning: The following objects are masked from ‘package:dplyr’:\n",
      "\n",
      "    combine, intersect, setdiff, union\n",
      "\n",
      "\n",
      "  res = super(Function, self).__call__(*new_args, **new_kwargs)\n",
      "/opt/anaconda/lib/python2.7/site-packages/rpy2/robjects/functions.py:106: UserWarning: The following object is masked from ‘package:Matrix’:\n",
      "\n",
      "    as.vector\n",
      "\n",
      "\n",
      "  res = super(Function, self).__call__(*new_args, **new_kwargs)\n",
      "/opt/anaconda/lib/python2.7/site-packages/rpy2/robjects/functions.py:106: UserWarning: The following objects are masked from ‘package:stats’:\n",
      "\n",
      "    IQR, mad, xtabs\n",
      "\n",
      "\n",
      "  res = super(Function, self).__call__(*new_args, **new_kwargs)\n",
      "/opt/anaconda/lib/python2.7/site-packages/rpy2/robjects/functions.py:106: UserWarning: The following objects are masked from ‘package:base’:\n",
      "\n",
      "    anyDuplicated, append, as.data.frame, as.vector, cbind, colnames,\n",
      "    do.call, duplicated, eval, evalq, Filter, Find, get, grep, grepl,\n",
      "    intersect, is.unsorted, lapply, lengths, Map, mapply, match, mget,\n",
      "    order, paste, pmax, pmax.int, pmin, pmin.int, Position, rank,\n",
      "    rbind, Reduce, rownames, sapply, setdiff, sort, table, tapply,\n",
      "    union, unique, unlist, unsplit\n",
      "\n",
      "\n",
      "  res = super(Function, self).__call__(*new_args, **new_kwargs)\n",
      "/opt/anaconda/lib/python2.7/site-packages/rpy2/robjects/functions.py:106: UserWarning: \n",
      "Attaching package: ‘S4Vectors’\n",
      "\n",
      "\n",
      "  res = super(Function, self).__call__(*new_args, **new_kwargs)\n",
      "/opt/anaconda/lib/python2.7/site-packages/rpy2/robjects/functions.py:106: UserWarning: The following object is masked from ‘package:dplyr’:\n",
      "\n",
      "    rename\n",
      "\n",
      "\n",
      "  res = super(Function, self).__call__(*new_args, **new_kwargs)\n",
      "/opt/anaconda/lib/python2.7/site-packages/rpy2/robjects/functions.py:106: UserWarning: Loading required package: IRanges\n",
      "\n",
      "  res = super(Function, self).__call__(*new_args, **new_kwargs)\n",
      "/opt/anaconda/lib/python2.7/site-packages/rpy2/robjects/functions.py:106: UserWarning: \n",
      "Attaching package: ‘IRanges’\n",
      "\n",
      "\n",
      "  res = super(Function, self).__call__(*new_args, **new_kwargs)\n",
      "**OUTPUT MUTED**"
     ]
    }
   ],
   "source": [
    "%%R\n",
    "library(Hmisc)\n",
    "library(lme4)\n",
    "library(lmerTest)\n",
    "library(ggplot2)\n",
    "library(dplyr)\n",
    "library(tidyr)\n",
    "library(pbkrtest)\n",
    "library(gridExtra)\n",
    "library(reshape2)\n",
    "library(picante)\n",
    "library(ape)\n",
    "library(DESeq2)\n",
    "library(phyloseq)\n",
    "library(doParallel)\n",
    "\n"
   ]
  },
  {
   "cell_type": "code",
   "execution_count": 3,
   "metadata": {
    "collapsed": false
   },
   "outputs": [
    {
     "data": {
      "text/plain": [
       "phyloseq-class experiment-level object\n",
       "otu_table()   OTU Table:         [ 4982 taxa and 238 samples ]\n",
       "sample_data() Sample Data:       [ 238 samples by 55 sample variables ]\n",
       "tax_table()   Taxonomy Table:    [ 4982 taxa by 8 taxonomic ranks ]\n",
       "phy_tree()    Phylogenetic Tree: [ 4982 tips and 4981 internal nodes ]\n"
      ]
     },
     "metadata": {},
     "output_type": "display_data"
    }
   ],
   "source": [
    "%%R\n",
    "F = file.path('/home/bryan/RhizCG/data/MiSeq_amplicon/MergedRuns/physeq/Full-Sparsity3in3_r')\n",
    "physeq.Full = readRDS(F)\n",
    "\n",
    "\n",
    "\n",
    "physeq.Full = filter_taxa(physeq.Full, function(x) sum(x > 0) > 0, TRUE)\n",
    "physeq.Full"
   ]
  },
  {
   "cell_type": "code",
   "execution_count": null,
   "metadata": {
    "collapsed": true
   },
   "outputs": [],
   "source": [
    "%%R\n",
    "#read non-rarified phyloseq object for use in Deseq analysis\n",
    "F = file.path('/home/bryan/RhizCG/data/MiSeq_amplicon/MergedRuns/physeq/Full-Sparsity3in3')\n",
    "physeq.NR = readRDS(F)"
   ]
  },
  {
   "cell_type": "markdown",
   "metadata": {
    "slideshow": {
     "slide_type": "skip"
    }
   },
   "source": [
    "# Annuals "
   ]
  },
  {
   "cell_type": "markdown",
   "metadata": {},
   "source": [
    "## Annuals - PCA of growth residuals"
   ]
  },
  {
   "cell_type": "code",
   "execution_count": null,
   "metadata": {
    "collapsed": false
   },
   "outputs": [],
   "source": [
    "%%R\n",
    "# PCA of annuals\n",
    "\n",
    "LS_R = subset_samples(physeq.Full, Treatment == \"Nneg\" & Plant %in% c(\"MS71\",   \"ERATE\", \n",
    " \"ELCOR\",  \"SORSUD\",    \"SORBI\", \"HELAN\",    \"Mo18\") )\n",
    "\n",
    "# subset of plants for which functional variation was significant\n",
    "LS = subset_samples(physeq.NR, Treatment == \"Nneg\" & Plant %in% c(\"MS71\",   \"ERATE\", \n",
    " \"ELCOR\",  \"SORSUD\",    \"SORBI\", \"HELAN\",    \"Mo18\") )\n",
    "\n",
    "\n",
    "# Add seed size information\n",
    "Plant = c(\"ERATE\", \"HELAN\", \"B73\", \"FAGES\", \"AMAPO\", \"SORSUD\", \"SORBI\", \n",
    "          \"ELCOR\", \"ECHCG\", \"ABUTH\", \"SETFA\", \"GLYMA\", \"MS71\", \"Mo18\", \"Il14H\", \"Tx303\", \"Oh7B\",\n",
    "         \"B97\", \"Hp301\", \"75-062\", \"Ki3\", \"H99\")\n",
    "                    \n",
    "SeedSize_mg = c(.0035, 90, 333, 38, .49, 10.7, 32.39,\n",
    "               3.2, 1.58, 9.6, 1.8, 174, .264, .224, 0.219, 0.279, 0.207,\n",
    "               0.240, 0.0869, 0.222, 0.228, 0.231)\n",
    "\n",
    "\n",
    "SS = cbind(Plant, SeedSize_mg) %>% as.data.frame\n",
    "head(SS) %>% print\n",
    "SS$SeedSize_mg = SS$SeedSize_mg %>% as.character %>% as.numeric\n",
    "\n",
    "\n",
    "sd = as(sample_data(LS), \"data.frame\")\n",
    "\n",
    "sd = left_join(sd, SS, by = \"Plant\")\n",
    "\n",
    "sd$Plant %>% levels %>% print\n",
    "\n",
    "\n",
    "fit = prcomp(~log(SeedSize_mg) + A_Resid_logB + A_Resid_logN + A_Resid_logCN, data = sd, \n",
    "                na.action = na.exclude, center = TRUE, scale = TRUE)\n",
    "\n",
    "summary(fit) %>% print\n",
    "fit$rotation %>% print\n",
    "biplot(fit)\n",
    "\n",
    "\n",
    "\n"
   ]
  },
  {
   "cell_type": "code",
   "execution_count": null,
   "metadata": {
    "collapsed": false,
    "scrolled": true
   },
   "outputs": [],
   "source": [
    "%%R\n",
    "sample_data(LS) %>% head "
   ]
  },
  {
   "cell_type": "code",
   "execution_count": null,
   "metadata": {
    "collapsed": false,
    "scrolled": false
   },
   "outputs": [],
   "source": [
    "%%R -w 600 -h 500\n",
    "S = predict(fit)[,1:3]\n",
    "TM_Fit = cbind(sd, S)\n",
    "rownames(TM_Fit) = TM_Fit$X.sample\n",
    "sample_data(LS) = TM_Fit\n",
    "sample_data(LS_R) = TM_Fit\n",
    "\n",
    "\n",
    "p = ggplot(TM_Fit, aes(PC1, PC2, colour = Plant, \n",
    "                       size = 12), pch = 21)\n",
    "p = p + geom_point()\n",
    "p = p + scale_colour_brewer(palette=\"Paired\")\n",
    "p = p + ggtitle(\"PCA of Late Season Plants: Seed size and residuals of Biomass, N uptake, C:N ratio\")\n",
    "p"
   ]
  },
  {
   "cell_type": "markdown",
   "metadata": {},
   "source": [
    "Notes: \n",
    "    * PC2 represents residual C:N ratio once plant size, total N uptake and seed size are controlled for\n",
    "    * Species effect apparent in both PC1 and PC2"
   ]
  },
  {
   "cell_type": "markdown",
   "metadata": {},
   "source": [
    "## Annuals CAP with principle components"
   ]
  },
  {
   "cell_type": "code",
   "execution_count": null,
   "metadata": {
    "collapsed": false
   },
   "outputs": [],
   "source": [
    "%%R\n",
    "# Calculate w-unifrac distances\n",
    "registerDoParallel(cores=28)\n",
    "LS.wunif.dist = phyloseq::distance(LS_R, \n",
    "                      method = \"unifrac\", \n",
    "                      weighted = TRUE,\n",
    "                      fast = TRUE, \n",
    "                      parallel = TRUE, \n",
    "                      normalized = FALSE)\n",
    "\n",
    "LS.unif.dist = phyloseq::distance(LS_R, \n",
    "                      method = \"unifrac\", \n",
    "                      weighted = FALSE,\n",
    "                      fast = TRUE, \n",
    "                      parallel = TRUE, \n",
    "                      normalized = FALSE)"
   ]
  },
  {
   "cell_type": "code",
   "execution_count": null,
   "metadata": {
    "collapsed": false,
    "hide_input": true,
    "scrolled": false
   },
   "outputs": [],
   "source": [
    "%%R -w 800 -h 600\n",
    "phy = LS_R\n",
    "dist = LS.wunif.dist\n",
    "\n",
    "sample_data(phy)$DAP = as.factor(sample_data(phy)$DAP)\n",
    "unique(sample_data(phy)$DAP) %>% print\n",
    "\n",
    "#Weighted unifrac CAP\n",
    "\n",
    "        # CAP ordinate\n",
    "        cap.ord = ordinate(\n",
    "            physeq = phy, \n",
    "            method = \"CAP\",\n",
    "            distance = dist,\n",
    "            formula = ~ PC1 + PC2 + Condition(Library)\n",
    "        )\n",
    "\n",
    "        # CAP plot\n",
    "        cap.plot <- plot_ordination(\n",
    "            phy, \n",
    "            cap.ord, \n",
    "            color = \"Plant\", \n",
    "            axes = c(1,2)\n",
    "            ) + \n",
    "            aes(shape = Type) + \n",
    "            geom_point(aes(colour = Plant), \n",
    "                alpha= 1, \n",
    "                size = 4) + \n",
    "            #geom_point(colour = \"grey90\", \n",
    "            #    size = 1.5) + \n",
    "            theme_bw(base_size = 16)\n",
    "            #scale_color_manual(values = c(\"#a65628\", \"red\", \"#ffae19\", \"#4daf4a\", \n",
    "            #    \"#1919ff\", \"darkorchid3\", \"magenta\"))\n",
    "\n",
    "\n",
    "        # Now add the environmental variables as arrows\n",
    "        arrowmat <- vegan::scores(cap.ord, display = \"bp\")\n",
    "\n",
    "\n",
    "        # Add labels, make a data.frame\n",
    "        arrowdf <- data.frame(labels = rownames(arrowmat), arrowmat)\n",
    "\n",
    "        # Define the arrow aesthetic mapping\n",
    "        arrow_map <- aes(xend = CAP1, \n",
    "            yend = CAP2, \n",
    "            x = 0, \n",
    "            y = 0, \n",
    "            shape = NULL, \n",
    "            color = NULL, \n",
    "            label = labels)\n",
    "\n",
    "        label_map <- aes(x = 1.3 * CAP1, \n",
    "            y = 1.3 * CAP2, \n",
    "            shape = NULL, \n",
    "            color = NULL, \n",
    "            label = labels)\n",
    "\n",
    "        arrowhead = arrow(length = unit(0.02, \"npc\"))\n",
    "\n",
    "        # Make a new graphic\n",
    "        p = cap.plot + \n",
    "            geom_segment(arrow_map, \n",
    "                size = .5, \n",
    "                data = arrowdf, \n",
    "                color = \"gray\", \n",
    "                arrow = arrowhead\n",
    "                ) + \n",
    "            geom_text(label_map, \n",
    "                size = 4,  \n",
    "                data = arrowdf, \n",
    "                show_guide = FALSE)\n",
    "\n",
    "anova(cap.ord) %>% print\n",
    "p\n"
   ]
  },
  {
   "cell_type": "markdown",
   "metadata": {},
   "source": [
    "Notes:\n",
    "* PC1 and PC2 describes 15.7% of variation in microbial community weighted unifrac distance\n",
    "* CAP analysis is significant p < 0.001"
   ]
  },
  {
   "cell_type": "markdown",
   "metadata": {},
   "source": [
    "##  Late Season Annuals Deseq of PC2\n",
    "* Identify OTUs that vary with PC2"
   ]
  },
  {
   "cell_type": "code",
   "execution_count": null,
   "metadata": {
    "collapsed": false,
    "hide_input": false,
    "scrolled": true
   },
   "outputs": [],
   "source": [
    "%%R\n",
    "dds = phyloseq_to_deseq2(LS, ~Library + PC2)\n",
    "d_dds = DESeq(dds, parallel = TRUE)\n",
    "resultsNames(d_dds) %>% print\n",
    "DF = results(d_dds)\n",
    "\n",
    "supp = tax_table(LS)\n",
    "            if (!setequal(row.names(supp), row.names(DF))) {\n",
    "            stop(\"Ordination and supplementary data indices differ on the following:\\n.\",\n",
    "            setdiff(row.names(DF), row.names(supp)))\n",
    "        }  \n",
    "\n",
    "        DF = data.frame(DF, supp)\n",
    "        DF$OTU = rownames(DF)"
   ]
  },
  {
   "cell_type": "code",
   "execution_count": null,
   "metadata": {
    "collapsed": false,
    "hide_input": false,
    "scrolled": false
   },
   "outputs": [],
   "source": [
    "%%R -w 800 -h 600\n",
    "sigtab = DF %>% filter(padj < 0.05)\n",
    "x = tapply(sigtab$log2FoldChange, sigtab$Rank2, function(x) max(x))\n",
    "x = sort(x, TRUE)\n",
    "sigtab$Rank2 = factor(as.character(sigtab$Rank2), levels=names(x))\n",
    "x = tapply(sigtab$log2FoldChange, sigtab$Rank5, function(x) max(x))\n",
    "x = sort(x, TRUE)\n",
    "sigtab$Rank5 = factor(as.character(sigtab$Rank5), levels=names(x))\n",
    "    \n",
    "ggplot(sigtab, aes(x=Rank5, y=log2FoldChange, color=Rank2, size = baseMean)) + \n",
    "    geom_point() +\n",
    "    theme_bw(base_size = 16) +\n",
    "  theme(axis.text.x = element_text(angle = -90, hjust = 0, vjust=0.5))\n",
    "#x = tapply(sigtab$log2FoldChange, sigtab$Rank2, function(x) max(x))\n",
    "#x = sort(x, TRUE)\n",
    "#x"
   ]
  },
  {
   "cell_type": "code",
   "execution_count": null,
   "metadata": {
    "collapsed": false,
    "hide_input": true,
    "scrolled": true
   },
   "outputs": [],
   "source": [
    "%%R\n",
    "cat(dim(sigtab)[1], \"OTUs vary significantly with PC2\")"
   ]
  },
  {
   "cell_type": "code",
   "execution_count": null,
   "metadata": {
    "collapsed": true
   },
   "outputs": [],
   "source": []
  },
  {
   "cell_type": "markdown",
   "metadata": {},
   "source": [
    "## Late season Annuals - Deseq of Time /DAP"
   ]
  },
  {
   "cell_type": "code",
   "execution_count": null,
   "metadata": {
    "collapsed": false,
    "hide_input": false
   },
   "outputs": [],
   "source": [
    "%%R\n",
    "dds = phyloseq_to_deseq2(LS, ~Library + PC2 + DAP)\n",
    "d_dds = DESeq(dds, parallel = TRUE)\n",
    "resultsNames(d_dds) %>% print\n",
    "DF = results(d_dds)\n",
    "\n",
    "supp = tax_table(A_neg_NR)\n",
    "            if (!setequal(row.names(supp), row.names(DF))) {\n",
    "            stop(\"Ordination and supplementary data indices differ on the following:\\n.\",\n",
    "            setdiff(row.names(DF), row.names(supp)))\n",
    "        }  \n",
    "\n",
    "        DF = data.frame(DF, supp)\n",
    "        DF$OTU = rownames(DF)"
   ]
  },
  {
   "cell_type": "code",
   "execution_count": null,
   "metadata": {
    "collapsed": false,
    "hide_input": false,
    "scrolled": false
   },
   "outputs": [],
   "source": [
    "%%R -w 800 -h 600\n",
    "sigtab = DF %>% filter(padj < 0.05)\n",
    "x = tapply(sigtab$log2FoldChange, sigtab$Rank2, function(x) max(x))\n",
    "x = sort(x, TRUE)\n",
    "sigtab$Rank2 = factor(as.character(sigtab$Rank2), levels=names(x))\n",
    "x = tapply(sigtab$log2FoldChange, sigtab$Rank5, function(x) max(x))\n",
    "x = sort(x, TRUE)\n",
    "sigtab$Rank5 = factor(as.character(sigtab$Rank5), levels=names(x))\n",
    "    \n",
    "ggplot(sigtab, aes(x=Rank5, y=log2FoldChange, color=Rank2, size = baseMean)) + \n",
    "    geom_point() +\n",
    "    theme_bw(base_size = 16) +\n",
    "  theme(axis.text.x = element_text(angle = -90, hjust = 0, vjust=0.5))\n",
    "#x = tapply(sigtab$log2FoldChange, sigtab$Rank2, function(x) max(x))\n",
    "#x = sort(x, TRUE)\n",
    "#x"
   ]
  },
  {
   "cell_type": "code",
   "execution_count": null,
   "metadata": {
    "collapsed": false,
    "hide_input": true,
    "scrolled": true
   },
   "outputs": [],
   "source": [
    "%%R\n",
    "cat(dim(sigtab)[1], \"OTUs vary significantly with DAP\")"
   ]
  },
  {
   "cell_type": "markdown",
   "metadata": {},
   "source": [
    "## All plants - Deseq of Time "
   ]
  },
  {
   "cell_type": "code",
   "execution_count": null,
   "metadata": {
    "collapsed": false,
    "scrolled": true
   },
   "outputs": [],
   "source": [
    "%%R\n",
    "phy = subset_samples(physeq.Full, Plant != \"BARE\"  & Treatment == \"Nneg\")\n",
    "#sample_data(phy)$TimeClass = cut(sample_data(phy)$DAP, breaks = c(35,38, 62, 89), labels = c(\"A\", \"B\", \"C\"))\n",
    "#sample_data(phy)[,c(\"DAP\", \"TimeClass\")]"
   ]
  },
  {
   "cell_type": "code",
   "execution_count": null,
   "metadata": {
    "collapsed": false,
    "hide_input": false
   },
   "outputs": [],
   "source": [
    "%%R\n",
    "\n",
    "dds = phyloseq_to_deseq2(phy, ~Library +  poly(DAP,2))\n",
    "d_dds = DESeq(dds, parallel = TRUE)\n",
    "resultsNames(d_dds) %>% print\n",
    "DF = results(d_dds)\n",
    "\n",
    "supp = tax_table(phy)\n",
    "            if (!setequal(row.names(supp), row.names(DF))) {\n",
    "            stop(\"Ordination and supplementary data indices differ on the following:\\n.\",\n",
    "            setdiff(row.names(DF), row.names(supp)))\n",
    "        }  \n",
    "\n",
    "        DF = data.frame(DF, supp)\n",
    "        DF$OTU = rownames(DF)"
   ]
  },
  {
   "cell_type": "code",
   "execution_count": null,
   "metadata": {
    "collapsed": false,
    "hide_input": false,
    "scrolled": false
   },
   "outputs": [],
   "source": [
    "%%R -w 800 -h 600\n",
    "sigtab = DF %>% filter(padj < 0.05)\n",
    "x = tapply(sigtab$log2FoldChange, sigtab$Rank2, function(x) max(x))\n",
    "x = sort(x, TRUE)\n",
    "sigtab$Rank2 = factor(as.character(sigtab$Rank2), levels=names(x))\n",
    "x = tapply(sigtab$log2FoldChange, sigtab$Rank5, function(x) max(x))\n",
    "x = sort(x, TRUE)\n",
    "sigtab$Rank5 = factor(as.character(sigtab$Rank5), levels=names(x))\n",
    "    \n",
    "ggplot(sigtab, aes(x=Rank5, y=log2FoldChange, color=Rank2, size = baseMean)) + \n",
    "    geom_point() +\n",
    "    theme_bw(base_size = 16) +\n",
    "    #ggtitle(\"2nd order polynomial\") +\n",
    "  theme(axis.text.x = element_text(angle = -90, hjust = 0, vjust=0.5))\n",
    "#x = tapply(sigtab$log2FoldChange, sigtab$Rank2, function(x) max(x))\n",
    "#x = sort(x, TRUE)\n",
    "#x"
   ]
  },
  {
   "cell_type": "code",
   "execution_count": null,
   "metadata": {
    "collapsed": false
   },
   "outputs": [],
   "source": [
    "%%R\n",
    "\n",
    "DF.C = results(d_dds, name = \"poly.DAP..2.1\")\n",
    "\n",
    "supp = tax_table(physeq.Full)\n",
    "            if (!setequal(row.names(supp), row.names(DF.C))) {\n",
    "            stop(\"Ordination and supplementary data indices differ on the following:\\n.\",\n",
    "            setdiff(row.names(DF.C), row.names(supp)))\n",
    "        }  \n",
    "\n",
    "        DF.C = data.frame(DF.C, supp)\n",
    "        DF.C$OTU = rownames(DF.C)"
   ]
  },
  {
   "cell_type": "code",
   "execution_count": null,
   "metadata": {
    "collapsed": false,
    "scrolled": false
   },
   "outputs": [],
   "source": [
    "%%R -w 800 -h 600\n",
    "sigtabC = DF.C %>% filter(padj < 0.05)\n",
    "x = tapply(sigtabC$log2FoldChange, sigtabC$Rank2, function(x) max(x))\n",
    "x = sort(x, TRUE)\n",
    "sigtabC$Rank2 = factor(as.character(sigtabC$Rank2), levels=names(x))\n",
    "x = tapply(sigtabC$log2FoldChange, sigtabC$Rank5, function(x) max(x))\n",
    "x = sort(x, TRUE)\n",
    "sigtabC$Rank5 = factor(as.character(sigtabC$Rank5), levels=names(x))\n",
    "    \n",
    "ggplot(sigtabC, aes(x=Rank5, y=log2FoldChange, color=Rank2, size = baseMean)) + \n",
    "    geom_point() +\n",
    "    theme_bw(base_size = 16) +\n",
    "    ggtitle(\"1st order polynomial\")+\n",
    "  theme(axis.text.x = element_text(angle = -90, hjust = 0, vjust=0.5))\n",
    "#x = tapply(sigtab$log2FoldChange, sigtab$Rank2, function(x) max(x))\n",
    "#x = sort(x, TRUE)\n",
    "#x\n"
   ]
  },
  {
   "cell_type": "code",
   "execution_count": null,
   "metadata": {
    "collapsed": false
   },
   "outputs": [],
   "source": [
    "%%R\n",
    "head(DF)\n",
    "colnames(DF) = paste(colnames(DF),\".2\", sep =\"\")\n",
    "colnames(DF.C) = paste(colnames(DF.C),\".1\", sep =\"\")"
   ]
  },
  {
   "cell_type": "code",
   "execution_count": null,
   "metadata": {
    "collapsed": false
   },
   "outputs": [],
   "source": [
    "%%R\n",
    "L2F.DAP = full_join(DF.C, DF[,c(1:6, 15)], by = c(\"OTU.1\" = \"OTU.2\"))\n",
    "dim(L2F.DAP) %>% print\n",
    "head(L2F.DAP)\n"
   ]
  },
  {
   "cell_type": "code",
   "execution_count": null,
   "metadata": {
    "collapsed": false
   },
   "outputs": [],
   "source": [
    "%%R\n",
    "sigtab = filter(L2F.DAP, padj.1 < 0.05 | padj.2 < 0.05)\n",
    "cat(dim(sigtab)[1], \"OTUs vary significantly with DAP\")"
   ]
  },
  {
   "cell_type": "code",
   "execution_count": null,
   "metadata": {
    "collapsed": false
   },
   "outputs": [],
   "source": [
    "%%R\n",
    "head(sigtab)"
   ]
  },
  {
   "cell_type": "code",
   "execution_count": null,
   "metadata": {
    "collapsed": false,
    "scrolled": true
   },
   "outputs": [],
   "source": [
    "%%R\n",
    "#all significant OTUs\n",
    "AllSig = sigtab$OTU.1\n",
    "\n",
    "#OTUs with significant 1st order polynomial positive log 2 fold\n",
    "sigtab.1 = filter(sigtab, log2FoldChange.1 > 0) %>% arrange(padj.1)\n",
    "dim(sigtab.1) %>% print\n",
    "rownames(sigtab.1) = sigtab.1$OTU.1 \n",
    "Top10.1 = sigtab.1[1:10, \"OTU.1\"] #%>% row.names\n",
    "Top10.1 %>% print\n",
    "\n",
    "sigtab.1neg = filter(sigtab, log2FoldChange.1 < 0) %>% arrange(padj.1)\n",
    "dim(sigtab.1neg) %>% print\n",
    "rownames(sigtab.1neg) = sigtab.1neg$OTU.1 \n",
    "Top10.1neg = sigtab.1neg[1:10, \"OTU.1\"] #%>% row.names\n",
    "Top10.1neg %>% print\n",
    "\n",
    "sigtab.2 = filter(sigtab, padj.2 < 0.05) %>% arrange(padj.2)\n",
    "dim(sigtab.2) %>% print\n",
    "rownames(sigtab.2) = sigtab.2$OTU.2 \n",
    "Top10.2 = sigtab.2[, \"OTU.1\"] #%>% row.names\n",
    "Top10.2 %>% print\n",
    "\n",
    "\n",
    "# sigtab.2neg = filter(sigtab, log2FoldChange.2 < 0) %>% arrange(padj.2)\n",
    "# dim(sigtab.2neg) %>% print\n",
    "# rownames(sigtab.2neg) = sigtab.2neg$OTU.2 \n",
    "# Top10.2neg = sigtab.2neg[1:10, \"OTU.1\"] #%>% row.names\n",
    "# Top10.2neg %>% print\n",
    "\n",
    "# physub = prune_taxa(Top20, phy) %>%  merge_samples(\"DAP\")\n",
    "# physub\n"
   ]
  },
  {
   "cell_type": "code",
   "execution_count": null,
   "metadata": {
    "collapsed": false,
    "scrolled": true
   },
   "outputs": [],
   "source": [
    "%%R\n",
    "# create new deseq object with DAP as factor\n",
    "phy = subset_samples(physeq.Full, Plant != \"BARE\")\n",
    "phy = prune_taxa(AllSig, phy) %>% filter_taxa(function(x) max(x) > 100, TRUE)\n",
    "phy"
   ]
  },
  {
   "cell_type": "code",
   "execution_count": null,
   "metadata": {
    "collapsed": true
   },
   "outputs": [],
   "source": [
    "%%R\n",
    "# phy\n",
    "sample_data(phy)$DAP = as.factor(sample_data(phy)$DAP)\n",
    "dds = phyloseq_to_deseq2(phy, ~Library + DAP)\n",
    "d_dds = DESeq(dds, parallel = TRUE)"
   ]
  },
  {
   "cell_type": "code",
   "execution_count": null,
   "metadata": {
    "collapsed": true
   },
   "outputs": [],
   "source": [
    "%%R\n",
    "tax_table(phy) %>% row.names"
   ]
  },
  {
   "cell_type": "code",
   "execution_count": null,
   "metadata": {
    "collapsed": false,
    "scrolled": false
   },
   "outputs": [],
   "source": [
    "%%R -w 800 -h 1200\n",
    "p <- list()\n",
    "Tinfo = as(tax_table(phy), \"matrix\")\n",
    "ToGraph = tax_table(phy) %>% row.names\n",
    "for (i in ToGraph){\n",
    "  d = plotCounts(dds, gene=i, intgroup=c(\"DAP\", \"Type\"), returnData = TRUE)  \n",
    "    \n",
    "    \n",
    "p[[i]] = ggplot(d, aes(x=DAP, y=count, color = Type)) +\n",
    "  geom_point(position=position_jitter(w=0.1,h=0)) +\n",
    "  theme(legend.position=\"none\") +\n",
    "    ggtitle(paste(i, \"\\n\", Tinfo[i, 2], \": \", Tinfo[i, 6], sep = \"\"))\n",
    "  }\n",
    "\n",
    "#legend = get_legend(p[1])\n",
    "do.call(grid.arrange,c(p, ncol = 4))\n",
    "#"
   ]
  },
  {
   "cell_type": "code",
   "execution_count": null,
   "metadata": {
    "collapsed": false,
    "scrolled": false
   },
   "outputs": [],
   "source": [
    "%%R -w 800 -h 1000\n",
    "p <- list()\n",
    "for (i in Top10.1neg){\n",
    "  d = plotCounts(dds, gene=i, intgroup=c(\"DAP\", \"Type\"), returnData = TRUE)  \n",
    "p[[i]] = ggplot(d, aes(x=DAP, y=count, color = Type)) +\n",
    "  geom_point(position=position_jitter(w=0.1,h=0)) +\n",
    "  theme(legend.position=\"none\") +\n",
    "    ggtitle(paste(i, \"\\n\", Tinfo[i, 2], \"\\n\", Tinfo[i, 6], sep = \"\"))\n",
    "  }\n",
    "\n",
    "#legend = get_legend(p[1])\n",
    "do.call(grid.arrange,p)\n",
    "#"
   ]
  },
  {
   "cell_type": "code",
   "execution_count": null,
   "metadata": {
    "collapsed": false,
    "scrolled": false
   },
   "outputs": [],
   "source": [
    "%%R -w 800 -h 1200\n",
    "p <- list()\n",
    "for (i in Top10.2){\n",
    "  d = plotCounts(dds, gene=i, intgroup=c(\"DAP\", \"Type\"), returnData = TRUE)  \n",
    "p[[i]] = ggplot(d, aes(x=DAP, y=count, color = Type)) +\n",
    "  geom_point(position=position_jitter(w=0.1,h=0)) +\n",
    "  theme(legend.position=\"none\") +\n",
    "    ggtitle(paste(i, \"\\n\", Tinfo[i, 2], \"\\n\", Tinfo[i, 6], sep = \"\"))\n",
    "  }\n",
    "\n",
    "#legend = get_legend(p[1])\n",
    "do.call(grid.arrange,p)\n",
    "#"
   ]
  },
  {
   "cell_type": "code",
   "execution_count": null,
   "metadata": {
    "collapsed": false
   },
   "outputs": [],
   "source": [
    "%%R\n",
    "p <- list()\n",
    "for (i in Top10.2neg){\n",
    "  d = plotCounts(dds, gene=i, intgroup=c(\"DAP\", \"Type\"), returnData = TRUE)  \n",
    "p[[i]] = ggplot(d, aes(x=DAP, y=count, color = Type)) +\n",
    "  geom_point(position=position_jitter(w=0.1,h=0)) +\n",
    "  theme(legend.position=\"none\") +\n",
    "    ggtitle(paste(i))\n",
    "  }\n",
    "\n",
    "#legend = get_legend(p[1])\n",
    "do.call(grid.arrange,p)\n",
    "#"
   ]
  },
  {
   "cell_type": "code",
   "execution_count": null,
   "metadata": {
    "collapsed": false,
    "scrolled": false
   },
   "outputs": [],
   "source": [
    "%%R\n",
    "for (i in Top10.2){\n",
    "p =  plotCounts(dds, gene=i, intgroup=c(\"DAP\", \"Plant\"))  \n",
    "\n",
    "}"
   ]
  },
  {
   "cell_type": "code",
   "execution_count": null,
   "metadata": {
    "collapsed": false,
    "scrolled": true
   },
   "outputs": [],
   "source": [
    "%%R -w 800 -h 400\n",
    "library(\"scales\")\n",
    "d = plotCounts(dds, gene= \"OTU.3\", intgroup=c(\"DAP\", \"Plant\"), returnData=TRUE)  \n",
    "d = arrange(d, \"DAP\")\n",
    "p = ggplot(d, aes(x = Plant, y = count)) + \n",
    "geom_point() +\n",
    "scale_y_continuous(trans=log2_trans())\n",
    "\n",
    "d = NULL\n",
    "p "
   ]
  },
  {
   "cell_type": "code",
   "execution_count": null,
   "metadata": {
    "collapsed": false
   },
   "outputs": [],
   "source": [
    "%%R\n",
    "physeq.Full %>% tax_table %>% .[c(\"OTU.197\", \"OTU.101\", \"OTU.5\", \"OTU.271\", \"OTU.45\", \"OTU.10249\", \"OTU.3\"), ]"
   ]
  },
  {
   "cell_type": "code",
   "execution_count": null,
   "metadata": {
    "collapsed": false,
    "scrolled": true
   },
   "outputs": [],
   "source": [
    "%%R\n",
    "p = plot_bar(physub, \"DAP\", fill=\"Rank6\")\n",
    "p = p + facet_wrap(~OTU, ncol = 4, scales = \"free_y\")\n",
    "p"
   ]
  },
  {
   "cell_type": "code",
   "execution_count": null,
   "metadata": {
    "collapsed": false,
    "scrolled": true
   },
   "outputs": [],
   "source": [
    "%%R\n",
    "T = prune_taxa(\"OTU.1668\", phy) %>% merge_samples(\"Plant\")\n",
    "p = plot_bar(T)\n",
    "#p = p + facet_wrap(~OTU, ncol = 4, scales = \"free_y\")\n",
    "p"
   ]
  },
  {
   "cell_type": "markdown",
   "metadata": {},
   "source": [
    "## Panicoideae - Deseq of Time "
   ]
  },
  {
   "cell_type": "code",
   "execution_count": null,
   "metadata": {
    "collapsed": false,
    "scrolled": true
   },
   "outputs": [],
   "source": [
    "%%R\n",
    "phy = subset_samples(physeq.Full, Plant %in% c(\"ECHCG\", \"SETFA\", \"MS71\", \"Mo18\", \"SORBI\", \"SORSUD\", \"ERATE\", \"ELCOR\") & Treatment == \"Nneg\")\n",
    "#sample_data(phy)$TimeClass = cut(sample_data(phy)$DAP, breaks = c(35,38, 62, 89), labels = c(\"A\", \"B\", \"C\"))\n",
    "#sample_data(phy)[,c(\"DAP\", \"TimeClass\")]"
   ]
  },
  {
   "cell_type": "code",
   "execution_count": null,
   "metadata": {
    "collapsed": false,
    "hide_input": false,
    "scrolled": true
   },
   "outputs": [],
   "source": [
    "%%R\n",
    "\n",
    "dds = phyloseq_to_deseq2(phy, ~Library +  DAP)\n",
    "d_dds = DESeq(dds, parallel = TRUE)\n",
    "resultsNames(d_dds) %>% print\n",
    "DF = results(d_dds)\n",
    "\n",
    "supp = tax_table(phy)\n",
    "            if (!setequal(row.names(supp), row.names(DF))) {\n",
    "            stop(\"Ordination and supplementary data indices differ on the following:\\n.\",\n",
    "            setdiff(row.names(DF), row.names(supp)))\n",
    "        }  \n",
    "\n",
    "        DF = data.frame(DF, supp)\n",
    "        DF$OTU = rownames(DF)"
   ]
  },
  {
   "cell_type": "code",
   "execution_count": null,
   "metadata": {
    "collapsed": false,
    "hide_input": false,
    "scrolled": true
   },
   "outputs": [],
   "source": [
    "%%R -w 800 -h 600\n",
    "sigtab = DF %>% filter(padj < 0.05)\n",
    "x = tapply(sigtab$log2FoldChange, sigtab$Rank2, function(x) max(x))\n",
    "x = sort(x, TRUE)\n",
    "sigtab$Rank2 = factor(as.character(sigtab$Rank2), levels=names(x))\n",
    "x = tapply(sigtab$log2FoldChange, sigtab$Rank5, function(x) max(x))\n",
    "x = sort(x, TRUE)\n",
    "sigtab$Rank5 = factor(as.character(sigtab$Rank5), levels=names(x))\n",
    "    \n",
    "ggplot(sigtab, aes(x=Rank5, y=log2FoldChange, color=Rank2, size = baseMean)) + \n",
    "    geom_point() +\n",
    "    theme_bw(base_size = 16) +\n",
    "    #ggtitle(\"2nd order polynomial\") +\n",
    "  theme(axis.text.x = element_text(angle = -90, hjust = 0, vjust=0.5))\n",
    "#x = tapply(sigtab$log2FoldChange, sigtab$Rank2, function(x) max(x))\n",
    "#x = sort(x, TRUE)\n",
    "#x"
   ]
  },
  {
   "cell_type": "code",
   "execution_count": null,
   "metadata": {
    "collapsed": false
   },
   "outputs": [],
   "source": [
    "%%R\n",
    "\n",
    "# DF.1 = results(d_dds, name = \"poly.DAP..2.1\")\n",
    "\n",
    "# supp = tax_table(physeq.Full)\n",
    "#             if (!setequal(row.names(supp), row.names(DF.1))) {\n",
    "#             stop(\"Ordination and supplementary data indices differ on the following:\\n.\",\n",
    "#             setdiff(row.names(DF.1), row.names(supp)))\n",
    "#         }  \n",
    "\n",
    "#         DF.1 = data.frame(DF.1, supp)\n",
    "#         DF.1$OTU = rownames(DF.1)"
   ]
  },
  {
   "cell_type": "code",
   "execution_count": null,
   "metadata": {
    "collapsed": false
   },
   "outputs": [],
   "source": [
    "%%R -w 800 -h 600\n",
    "# sigtab1 = DF.1 %>% filter(padj < 0.05)\n",
    "# x = tapply(sigtab1$log2FoldChange, sigtab1$Rank2, function(x) max(x))\n",
    "# x = sort(x, TRUE)\n",
    "# sigtab1$Rank2 = factor(as.character(sigtab1$Rank2), levels=names(x))\n",
    "# x = tapply(sigtab1$log2FoldChange, sigtab1$Rank5, function(x) max(x))\n",
    "# x = sort(x, TRUE)\n",
    "# sigtab1$Rank5 = factor(as.character(sigtab1$Rank5), levels=names(x))\n",
    "    \n",
    "# ggplot(sigtab1, aes(x=Rank5, y=log2FoldChange, color=Rank2, size = baseMean)) + \n",
    "#     geom_point() +\n",
    "#     theme_bw(base_size = 16) +\n",
    "#     ggtitle(\"1st order polynomial\")+\n",
    "#   theme(axis.text.x = element_text(angle = -90, hjust = 0, vjust=0.5))\n",
    "# #x = tapply(sigtab$log2FoldChange, sigtab$Rank2, function(x) max(x))\n",
    "# #x = sort(x, TRUE)\n",
    "# #x\n"
   ]
  },
  {
   "cell_type": "code",
   "execution_count": null,
   "metadata": {
    "collapsed": false
   },
   "outputs": [],
   "source": [
    "%%R\n",
    "head(DF)\n",
    "colnames(DF) = paste(colnames(DF),\".2\", sep =\"\")\n",
    "colnames(DF.1) = paste(colnames(DF.1),\".1\", sep =\"\")"
   ]
  },
  {
   "cell_type": "code",
   "execution_count": null,
   "metadata": {
    "collapsed": false
   },
   "outputs": [],
   "source": [
    "%%R\n",
    "head(DF)"
   ]
  },
  {
   "cell_type": "code",
   "execution_count": null,
   "metadata": {
    "collapsed": true
   },
   "outputs": [],
   "source": []
  },
  {
   "cell_type": "code",
   "execution_count": null,
   "metadata": {
    "collapsed": false
   },
   "outputs": [],
   "source": [
    "%%R\n",
    "# L2F.DAP = full_join(DF.1, DF[,c(1:6, 15)], by = c(\"OTU.1\" = \"OTU.2\"))\n",
    "# head(L2F.DAP)"
   ]
  },
  {
   "cell_type": "code",
   "execution_count": null,
   "metadata": {
    "collapsed": false
   },
   "outputs": [],
   "source": [
    "%%R\n",
    "# sigtab = filter(L2F.DAP, padj.1 < 0.05 | padj.2 < 0.05)\n",
    "cat(dim(sigtab)[1], \"OTUs vary significantly with DAP\")"
   ]
  },
  {
   "cell_type": "code",
   "execution_count": null,
   "metadata": {
    "collapsed": false,
    "scrolled": false
   },
   "outputs": [],
   "source": [
    "%%R\n",
    "sigtab = arrange(sigtab, padj)\n",
    "dim(sigtab) %>% print\n",
    "#rownames(sigtab) = sigtab$OTU.1 \n",
    "Top10.1 = sigtab[,\"OTU\"] \n",
    "Top10.1\n",
    "\n",
    "# sigtab = arrange(sigtab, padj.2)\n",
    "# dim(sigtab) %>% print\n",
    "# rownames(sigtab) = sigtab$OTU.1 \n",
    "# Top10.2 = sigtab[1:10,] %>% row.names\n",
    "# Top10.2\n",
    "# physub = prune_taxa(Top20, phy) %>%  merge_samples(\"DAP\")\n",
    "# physub\n"
   ]
  },
  {
   "cell_type": "code",
   "execution_count": null,
   "metadata": {
    "collapsed": false
   },
   "outputs": [],
   "source": [
    "%%R\n",
    "# create new deseq object with DAP as factor\n",
    "#phy = subset_samples(physeq.Full, Plant != \"BARE\")\n",
    "sample_data(phy)$DAP = as.factor(sample_data(phy)$DAP)\n",
    "dds = phyloseq_to_deseq2(phy, ~DAP)\n",
    "d_dds = DESeq(dds, parallel = TRUE)"
   ]
  },
  {
   "cell_type": "code",
   "execution_count": null,
   "metadata": {
    "collapsed": false,
    "scrolled": false
   },
   "outputs": [],
   "source": [
    "%%R\n",
    "for (i in Top10.1){\n",
    "  plotCounts(dds, gene=i, intgroup=c(\"DAP\", \"Plant\"))  \n",
    "\n",
    "}\n",
    "\n",
    "#"
   ]
  },
  {
   "cell_type": "code",
   "execution_count": null,
   "metadata": {
    "collapsed": false,
    "scrolled": false
   },
   "outputs": [],
   "source": [
    "%%R\n",
    "for (i in Top10.2){\n",
    "  plotCounts(dds, gene=i, intgroup=c(\"DAP\", \"Plant\"))  \n",
    "\n",
    "}\n",
    "\n",
    "#"
   ]
  },
  {
   "cell_type": "code",
   "execution_count": null,
   "metadata": {
    "collapsed": false
   },
   "outputs": [],
   "source": [
    "%%R\n",
    "colnames(DF)"
   ]
  },
  {
   "cell_type": "code",
   "execution_count": null,
   "metadata": {
    "collapsed": false,
    "scrolled": false
   },
   "outputs": [],
   "source": [
    "%%R\n",
    "DF %>% filter(OTU.2 %in% c(\"OTU.4\", \"OTU.20\"))"
   ]
  },
  {
   "cell_type": "markdown",
   "metadata": {},
   "source": [
    "# Time without polynomial"
   ]
  },
  {
   "cell_type": "code",
   "execution_count": 4,
   "metadata": {
    "collapsed": false,
    "scrolled": true
   },
   "outputs": [
    {
     "data": {
      "text/plain": [
       "phyloseq-class experiment-level object\n",
       "otu_table()   OTU Table:         [ 4982 taxa and 55 samples ]\n",
       "sample_data() Sample Data:       [ 55 samples by 55 sample variables ]\n",
       "tax_table()   Taxonomy Table:    [ 4982 taxa by 8 taxonomic ranks ]\n",
       "phy_tree()    Phylogenetic Tree: [ 4982 tips and 4981 internal nodes ]\n"
      ]
     },
     "metadata": {},
     "output_type": "display_data"
    }
   ],
   "source": [
    "%%R\n",
    "phy = subset_samples(physeq.Full, Plant != \"BARE\"  & Treatment == \"Nneg\" & Plant %in% c(\"ERATE\", \"HELAN\", \n",
    "            \"B73\", \"FAGES\", \"AMAPO\", \"SORSUD\", \"SORBI\", \n",
    "          \"ELCOR\", \"ECHCG\", \"ABUTH\", \"SETFA\", \"GLYMA\", \"MS71\", \"Mo18\"))\n",
    "#sample_data(phy)$TimeClass = cut(sample_data(phy)$DAP, breaks = c(35,38, 62, 89), labels = c(\"A\", \"B\", \"C\"))\n",
    "#sample_data(phy)[,c(\"DAP\", \"TimeClass\")]\n",
    "phy"
   ]
  },
  {
   "cell_type": "code",
   "execution_count": 5,
   "metadata": {
    "collapsed": false,
    "hide_input": false,
    "scrolled": true
   },
   "outputs": [
    {
     "name": "stderr",
     "output_type": "stream",
     "text": [
      "/opt/anaconda/lib/python2.7/site-packages/rpy2/robjects/functions.py:106: UserWarning: converting counts to integer mode\n",
      "\n",
      "  res = super(Function, self).__call__(*new_args, **new_kwargs)\n",
      "/opt/anaconda/lib/python2.7/site-packages/rpy2/robjects/functions.py:106: UserWarning: the design formula contains a numeric variable with integer values,\n",
      "  specifying a model with increasing fold change for higher values.\n",
      "  did you mean for this to be a factor? if so, first convert\n",
      "  this variable to a factor using the factor() function\n",
      "\n",
      "  res = super(Function, self).__call__(*new_args, **new_kwargs)\n",
      "/opt/anaconda/lib/python2.7/site-packages/rpy2/robjects/functions.py:106: UserWarning: estimating size factors\n",
      "\n",
      "  res = super(Function, self).__call__(*new_args, **new_kwargs)\n",
      "/opt/anaconda/lib/python2.7/site-packages/rpy2/robjects/functions.py:106: UserWarning: estimating dispersions\n",
      "\n",
      "  res = super(Function, self).__call__(*new_args, **new_kwargs)\n",
      "/opt/anaconda/lib/python2.7/site-packages/rpy2/robjects/functions.py:106: UserWarning: gene-wise dispersion estimates: 38 workers\n",
      "\n",
      "  res = super(Function, self).__call__(*new_args, **new_kwargs)\n",
      "/opt/anaconda/lib/python2.7/site-packages/rpy2/robjects/functions.py:106: UserWarning: mean-dispersion relationship\n",
      "\n",
      "  res = super(Function, self).__call__(*new_args, **new_kwargs)\n",
      "/opt/anaconda/lib/python2.7/site-packages/rpy2/robjects/functions.py:106: UserWarning: final dispersion estimates, MLE betas: 38 workers\n",
      "\n",
      "  res = super(Function, self).__call__(*new_args, **new_kwargs)\n",
      "/opt/anaconda/lib/python2.7/site-packages/rpy2/robjects/functions.py:106: UserWarning: fitting model and testing: 38 workers\n",
      "\n",
      "  res = super(Function, self).__call__(*new_args, **new_kwargs)\n",
      "/opt/anaconda/lib/python2.7/site-packages/rpy2/robjects/functions.py:106: UserWarning: -- replacing outliers and refitting for 28 genes\n",
      "-- DESeq argument 'minReplicatesForReplace' = 7 \n",
      "-- original counts are preserved in counts(dds)\n",
      "\n",
      "  res = super(Function, self).__call__(*new_args, **new_kwargs)\n",
      "/opt/anaconda/lib/python2.7/site-packages/rpy2/robjects/functions.py:106: UserWarning: fitting model and testing\n",
      "\n",
      "  res = super(Function, self).__call__(*new_args, **new_kwargs)\n"
     ]
    },
    {
     "data": {
      "text/plain": [
       "[1] \"Intercept\" \"DAP\"      \n"
      ]
     },
     "metadata": {},
     "output_type": "display_data"
    }
   ],
   "source": [
    "%%R\n",
    "\n",
    "dds = phyloseq_to_deseq2(phy, ~DAP)\n",
    "d_dds = DESeq(dds, parallel = TRUE)\n",
    "resultsNames(d_dds) %>% print\n",
    "DF = results(d_dds)\n",
    "\n",
    "supp = tax_table(phy)\n",
    "            if (!setequal(row.names(supp), row.names(DF))) {\n",
    "            stop(\"Ordination and supplementary data indices differ on the following:\\n.\",\n",
    "            setdiff(row.names(DF), row.names(supp)))\n",
    "        }  \n",
    "\n",
    "        DF = data.frame(DF, supp)\n",
    "        DF$OTU = rownames(DF)"
   ]
  },
  {
   "cell_type": "code",
   "execution_count": 6,
   "metadata": {
    "collapsed": false,
    "hide_input": false,
    "scrolled": false
   },
   "outputs": [
    {
     "data": {
      "image/png": "[encoded data removed]"
     },
     "metadata": {},
     "output_type": "display_data"
    }
   ],
   "source": [
    "%%R -w 800 -h 600\n",
    "sigtab = DF %>% filter(padj < 0.05)\n",
    "x = tapply(sigtab$log2FoldChange, sigtab$Rank2, function(x) max(x))\n",
    "x = sort(x, TRUE)\n",
    "sigtab$Rank2 = factor(as.character(sigtab$Rank2), levels=names(x))\n",
    "x = tapply(sigtab$log2FoldChange, sigtab$Rank5, function(x) max(x))\n",
    "x = sort(x, TRUE)\n",
    "sigtab$Rank5 = factor(as.character(sigtab$Rank5), levels=names(x))\n",
    "    \n",
    "ggplot(sigtab, aes(x=Rank5, y=log2FoldChange, color=Rank2, size = baseMean)) + \n",
    "    geom_point() +\n",
    "    theme_bw(base_size = 16) +\n",
    "    #ggtitle(\"2nd order polynomial\") +\n",
    "  theme(axis.text.x = element_text(angle = -90, hjust = 0, vjust=0.5))\n",
    "#x = tapply(sigtab$log2FoldChange, sigtab$Rank2, function(x) max(x))\n",
    "#x = sort(x, TRUE)\n",
    "#x"
   ]
  },
  {
   "cell_type": "code",
   "execution_count": 7,
   "metadata": {
    "collapsed": false
   },
   "outputs": [
    {
     "data": {
      "text/plain": [
       "213 OTUs vary significantly with DAP"
      ]
     },
     "metadata": {},
     "output_type": "display_data"
    }
   ],
   "source": [
    "%%R\n",
    "cat(dim(sigtab)[1], \"OTUs vary significantly with DAP\")"
   ]
  },
  {
   "cell_type": "code",
   "execution_count": 8,
   "metadata": {
    "collapsed": false
   },
   "outputs": [],
   "source": [
    "%%R\n",
    "sigtab.1 =  arrange(sigtab, padj)\n",
    "rownames(sigtab.1) = sigtab.1$OTU \n",
    "Sig = sigtab.1[, \"OTU\"] #%>% row.names\n",
    "#Top20 %>% print"
   ]
  },
  {
   "cell_type": "code",
   "execution_count": 9,
   "metadata": {
    "collapsed": false,
    "scrolled": true
   },
   "outputs": [
    {
     "data": {
      "text/plain": [
       "phyloseq-class experiment-level object\n",
       "otu_table()   OTU Table:         [ 12 taxa and 55 samples ]\n",
       "sample_data() Sample Data:       [ 55 samples by 55 sample variables ]\n",
       "tax_table()   Taxonomy Table:    [ 12 taxa by 8 taxonomic ranks ]\n",
       "phy_tree()    Phylogenetic Tree: [ 12 tips and 11 internal nodes ]\n"
      ]
     },
     "metadata": {},
     "output_type": "display_data"
    }
   ],
   "source": [
    "%%R\n",
    "phy.p = filter_taxa(phy, function(x) max(x) > 100, TRUE)\n",
    "phy.p = prune_taxa(Sig, phy.p) \n",
    "phy.p"
   ]
  },
  {
   "cell_type": "code",
   "execution_count": 10,
   "metadata": {
    "collapsed": true
   },
   "outputs": [],
   "source": [
    "%%R\n",
    "# phy\n",
    "sample_data(phy.p)$DAP = as.factor(sample_data(phy.p)$DAP)\n",
    "dds = phyloseq_to_deseq2(phy.p, ~DAP)\n",
    "d_dds = DESeq(dds, parallel = TRUE)"
   ]
  },
  {
   "cell_type": "code",
   "execution_count": 11,
   "metadata": {
    "collapsed": false
   },
   "outputs": [
    {
     "data": {
      "text/plain": [
       " [1] \"OTU.261\"   \"OTU.120\"   \"OTU.162\"   \"OTU.4\"     \"OTU.208\"   \"OTU.11012\"\n",
       " [7] \"OTU.10\"    \"OTU.23\"    \"OTU.329\"   \"OTU.2588\"  \"OTU.3\"     \"OTU.6\"    \n"
      ]
     },
     "metadata": {},
     "output_type": "display_data"
    }
   ],
   "source": [
    "%%R\n",
    "tax_table(phy.p) %>% row.names"
   ]
  },
  {
   "cell_type": "code",
   "execution_count": 12,
   "metadata": {
    "collapsed": false
   },
   "outputs": [
    {
     "data": {
      "image/png": "[encoded data removed]"
     },
     "metadata": {},
     "output_type": "display_data"
    }
   ],
   "source": [
    "%%R -w 800 -h 1200\n",
    "p <- list()\n",
    "Tinfo = as(tax_table(phy.p), \"matrix\")\n",
    "ToGraph = tax_table(phy.p) %>% row.names\n",
    "for (i in ToGraph){\n",
    "  d = plotCounts(dds, gene=i, intgroup=c(\"DAP\", \"Type\"), returnData = TRUE)  \n",
    "    \n",
    "    \n",
    "p[[i]] = ggplot(d, aes(x=DAP, y=count, color = Type)) +\n",
    "  geom_point(position=position_jitter(w=0.1,h=0)) +\n",
    "  theme(legend.position=\"none\") +\n",
    "    ggtitle(paste(i, \"\\n\", Tinfo[i, 2], \": \", Tinfo[i, 6], sep = \"\"))\n",
    "  }\n",
    "\n",
    "#legend = get_legend(p[1])\n",
    "do.call(grid.arrange,c(p, ncol = 4))\n",
    "#\n"
   ]
  },
  {
   "cell_type": "markdown",
   "metadata": {},
   "source": [
    "# Maize"
   ]
  },
  {
   "cell_type": "markdown",
   "metadata": {},
   "source": [
    "## Maize - PCA of functional traits "
   ]
  },
  {
   "cell_type": "code",
   "execution_count": null,
   "metadata": {
    "collapsed": false,
    "hide_input": false,
    "scrolled": false
   },
   "outputs": [],
   "source": [
    "%%R\n",
    "# PCA of annuals\n",
    "M_neg = subset_samples(physeq.Full, Type == \"Maize\" & Treatment == \"Nneg\" )\n",
    "# subset for later deSEQ2 analysis\n",
    "M_neg_NR = subset_samples(physeq.NR, Type == \"Maize\" & Treatment == \"Nneg\" )\n",
    "\n",
    "sd = as(sample_data(M_neg), \"data.frame\")\n",
    "sd$Plant %>% levels %>% print\n",
    "\n",
    "fit = prcomp(~M_Resid_logB + M_Resid_logN + M_Resid_logCN + d15N, data = sd, \n",
    "                na.action = na.exclude, center = TRUE, scale = TRUE)\n",
    "\n",
    "summary(fit) %>% print\n",
    "fit$rotation %>% print\n",
    "biplot(fit)\n",
    "\n",
    "\n"
   ]
  },
  {
   "cell_type": "code",
   "execution_count": null,
   "metadata": {
    "collapsed": false,
    "hide_input": true,
    "scrolled": false
   },
   "outputs": [],
   "source": [
    "%%R -w 600 -h 500\n",
    "S = predict(fit)[,1:3]\n",
    "M_Fit = cbind(sd, S)\n",
    "sample_data(M_neg) = M_Fit\n",
    "sample_data(M_neg_NR) = M_Fit\n",
    "\n",
    "p = ggplot(M_Fit, aes(PC1, PC2, colour = Plant, \n",
    "                       size = 12), pch = 21)\n",
    "p = p + geom_point()\n",
    "p = p + scale_colour_brewer(palette=\"Paired\")\n",
    "p = p + ggtitle(\"PCA of Maize: Biomass, N uptake, C:N ratio, 15N\")\n",
    "p"
   ]
  },
  {
   "cell_type": "markdown",
   "metadata": {},
   "source": [
    "Notes:\n",
    "* PC1 positively correlated with plant size and N uptake\n",
    "* PC2 negatively correlated with plant C:N\n",
    "* genotype effect is most captured on PC2"
   ]
  },
  {
   "cell_type": "markdown",
   "metadata": {},
   "source": [
    "## Maize - CAP analysis with Principle components"
   ]
  },
  {
   "cell_type": "code",
   "execution_count": null,
   "metadata": {
    "collapsed": false
   },
   "outputs": [],
   "source": [
    "%%R\n",
    "# Calculate w-unifrac distances\n",
    "registerDoParallel(cores=28)\n",
    "M_neg.wunif.dist = phyloseq::distance(M_neg, \n",
    "                      method = \"unifrac\", \n",
    "                      weighted = TRUE,\n",
    "                      fast = TRUE, \n",
    "                      parallel = TRUE, \n",
    "                      normalized = FALSE)\n",
    "\n",
    "M_neg.unif.dist = phyloseq::distance(M_neg, \n",
    "                      method = \"unifrac\", \n",
    "                      weighted = FALSE,\n",
    "                      fast = TRUE, \n",
    "                      parallel = TRUE, \n",
    "                      normalized = FALSE)\n",
    "\n"
   ]
  },
  {
   "cell_type": "code",
   "execution_count": null,
   "metadata": {
    "collapsed": false,
    "hide_input": false,
    "scrolled": false
   },
   "outputs": [],
   "source": [
    "\n",
    "%%R -w 800 -h 600\n",
    "### Functional controls Maize, CAP\n",
    "phy = M_neg\n",
    "dist = M_neg.wunif.dist\n",
    "\n",
    "sample_data(phy)$DAP = as.factor(sample_data(phy)$DAP)\n",
    "unique(sample_data(phy)$DAP) %>% print\n",
    "\n",
    "#Weighted unifrac CAP\n",
    "\n",
    "        # CAP ordinate\n",
    "        cap.ord = ordinate(\n",
    "            physeq = phy, \n",
    "            method = \"CAP\",\n",
    "            distance = dist,\n",
    "            formula = ~ PC1 + PC2 + Condition(Library)\n",
    "        )\n",
    "\n",
    "        # CAP plot\n",
    "        cap.plot <- plot_ordination(\n",
    "            phy, \n",
    "            cap.ord, \n",
    "            color = \"Plant\", \n",
    "            axes = c(1,2)\n",
    "            ) + \n",
    "            aes(shape = Type) + \n",
    "            geom_point(aes(colour = Plant), \n",
    "                alpha= 1, \n",
    "                size = 4) + \n",
    "            #geom_point(colour = \"grey90\", \n",
    "            #    size = 1.5) + \n",
    "            theme_bw(base_size = 16)\n",
    "            #scale_color_manual(values = c(\"#a65628\", \"red\", \"#ffae19\", \"#4daf4a\", \n",
    "            #    \"#1919ff\", \"darkorchid3\", \"magenta\"))\n",
    "\n",
    "\n",
    "        # Now add the environmental variables as arrows\n",
    "        arrowmat <- vegan::scores(cap.ord, display = \"bp\")\n",
    "\n",
    "\n",
    "        # Add labels, make a data.frame\n",
    "        arrowdf <- data.frame(labels = rownames(arrowmat), arrowmat)\n",
    "\n",
    "        # Define the arrow aesthetic mapping\n",
    "        arrow_map <- aes(xend = CAP1, \n",
    "            yend = CAP2, \n",
    "            x = 0, \n",
    "            y = 0, \n",
    "            shape = NULL, \n",
    "            color = NULL, \n",
    "            label = labels)\n",
    "\n",
    "        label_map <- aes(x = 1.3 * CAP1, \n",
    "            y = 1.3 * CAP2, \n",
    "            shape = NULL, \n",
    "            color = NULL, \n",
    "            label = labels)\n",
    "\n",
    "        arrowhead = arrow(length = unit(0.02, \"npc\"))\n",
    "\n",
    "        # Make a new graphic\n",
    "        p = cap.plot + \n",
    "            geom_segment(arrow_map, \n",
    "                size = .5, \n",
    "                data = arrowdf, \n",
    "                color = \"gray\", \n",
    "                arrow = arrowhead\n",
    "                ) + \n",
    "            geom_text(label_map, \n",
    "                size = 4,  \n",
    "                data = arrowdf, \n",
    "                show_guide = FALSE)\n",
    "\n",
    "anova(cap.ord) %>% print\n",
    "p\n"
   ]
  },
  {
   "cell_type": "markdown",
   "metadata": {},
   "source": [
    "CAP model is not significant"
   ]
  },
  {
   "cell_type": "markdown",
   "metadata": {},
   "source": [
    "## Maize - Deseq of PC2"
   ]
  },
  {
   "cell_type": "code",
   "execution_count": null,
   "metadata": {
    "collapsed": false,
    "hide_input": false,
    "scrolled": false
   },
   "outputs": [],
   "source": [
    "%%R\n",
    "dds = phyloseq_to_deseq2(M_neg_NR, ~Library + PC2)\n",
    "d_dds = DESeq(dds, parallel = TRUE)\n",
    "resultsNames(d_dds) %>% print\n",
    "DF = results(d_dds)\n",
    "\n",
    "supp = tax_table(A_neg)\n",
    "            if (!setequal(row.names(res), row.names(res))) {\n",
    "            stop(\"Ordination and supplementary data indices differ on the following:\\n.\",\n",
    "            setdiff(row.names(DF), row.names(supp)))\n",
    "        }  \n",
    "\n",
    "        DF = data.frame(DF, supp)\n",
    "        DF$OTU = rownames(DF)"
   ]
  },
  {
   "cell_type": "code",
   "execution_count": null,
   "metadata": {
    "collapsed": false,
    "hide_input": false,
    "scrolled": false
   },
   "outputs": [],
   "source": [
    "%%R -w 800 -h 600\n",
    "sigtab = DF %>% filter(padj < 0.1)\n",
    "x = tapply(sigtab$log2FoldChange, sigtab$Rank2, function(x) max(x))\n",
    "x = sort(x, TRUE)\n",
    "sigtab$Rank2 = factor(as.character(sigtab$Rank2), levels=names(x))\n",
    "x = tapply(sigtab$log2FoldChange, sigtab$Rank5, function(x) max(x))\n",
    "x = sort(x, TRUE)\n",
    "sigtab$Rank5 = factor(as.character(sigtab$Rank5), levels=names(x))\n",
    "    \n",
    "ggplot(sigtab, aes(x=Rank5, y=log2FoldChange, color=Rank2, size = baseMean)) + \n",
    "    geom_point() +\n",
    "    theme_bw(base_size = 16) +\n",
    "  theme(axis.text.x = element_text(angle = -90, hjust = 0, vjust=0.5))\n",
    "#x = tapply(sigtab$log2FoldChange, sigtab$Rank2, function(x) max(x))\n",
    "#x = sort(x, TRUE)\n",
    "#x"
   ]
  },
  {
   "cell_type": "code",
   "execution_count": null,
   "metadata": {
    "collapsed": false
   },
   "outputs": [],
   "source": [
    "%%R\n",
    "cat(dim(sigtab)[1], \"OTUs vary significantly with PC2\")"
   ]
  },
  {
   "cell_type": "markdown",
   "metadata": {},
   "source": [
    "## Maize - Deseq of PC1"
   ]
  },
  {
   "cell_type": "code",
   "execution_count": null,
   "metadata": {
    "collapsed": false,
    "hide_input": false
   },
   "outputs": [],
   "source": [
    "%%R\n",
    "dds = phyloseq_to_deseq2(M_neg_NR, ~Library + PC1)\n",
    "d_dds = DESeq(dds, parallel = TRUE)\n",
    "resultsNames(d_dds) %>% print\n",
    "DF = results(d_dds)\n",
    "\n",
    "supp = tax_table(A_neg)\n",
    "            if (!setequal(row.names(res), row.names(res))) {\n",
    "            stop(\"Ordination and supplementary data indices differ on the following:\\n.\",\n",
    "            setdiff(row.names(DF), row.names(supp)))\n",
    "        }  \n",
    "\n",
    "        DF = data.frame(DF, supp)\n",
    "        DF$OTU = rownames(DF)"
   ]
  },
  {
   "cell_type": "code",
   "execution_count": null,
   "metadata": {
    "collapsed": false,
    "scrolled": false
   },
   "outputs": [],
   "source": [
    "%%R -w 800 -h 600\n",
    "sigtab = DF %>% filter(padj < 0.1)\n",
    "x = tapply(sigtab$log2FoldChange, sigtab$Rank2, function(x) max(x))\n",
    "x = sort(x, TRUE)\n",
    "sigtab$Rank2 = factor(as.character(sigtab$Rank2), levels=names(x))\n",
    "x = tapply(sigtab$log2FoldChange, sigtab$Rank5, function(x) max(x))\n",
    "x = sort(x, TRUE)\n",
    "sigtab$Rank5 = factor(as.character(sigtab$Rank5), levels=names(x))\n",
    "    \n",
    "ggplot(sigtab, aes(x=Rank5, y=log2FoldChange, color=Rank2, size = baseMean)) + \n",
    "    geom_point() +\n",
    "    theme_bw(base_size = 16) +\n",
    "  theme(axis.text.x = element_text(angle = -90, hjust = 0, vjust=0.5))\n",
    "#x = tapply(sigtab$log2FoldChange, sigtab$Rank2, function(x) max(x))\n",
    "#x = sort(x, TRUE)\n",
    "#x"
   ]
  },
  {
   "cell_type": "code",
   "execution_count": null,
   "metadata": {
    "collapsed": false
   },
   "outputs": [],
   "source": [
    "%%R\n",
    "cat(dim(sigtab)[1], \"OTUs vary significantly with PC1\")"
   ]
  }
 ],
 "metadata": {
  "hide_input": true,
  "kernelspec": {
   "display_name": "Python 2",
   "language": "python",
   "name": "python2"
  },
  "language_info": {
   "codemirror_mode": {
    "name": "ipython",
    "version": 2
   },
   "file_extension": ".py",
   "mimetype": "text/x-python",
   "name": "python",
   "nbconvert_exporter": "python",
   "pygments_lexer": "ipython2",
   "version": "2.7.11"
  }
 },
 "nbformat": 4,
 "nbformat_minor": 0
}
