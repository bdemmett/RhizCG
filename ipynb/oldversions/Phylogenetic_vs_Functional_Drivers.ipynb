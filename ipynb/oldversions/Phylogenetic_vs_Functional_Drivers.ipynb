{
 "cells": [
  {
   "cell_type": "markdown",
   "metadata": {},
   "source": [
    "# Phylogenetic vs Functional Drivers"
   ]
  },
  {
   "cell_type": "markdown",
   "metadata": {
    "slideshow": {
     "slide_type": "skip"
    }
   },
   "source": [
    "Test phylogenetic signal on microbial community using phylogeny created from rbcL and matK in phylogenerator 20160209_phylogeny.tre.  "
   ]
  },
  {
   "cell_type": "code",
   "execution_count": 1,
   "metadata": {
    "collapsed": false
   },
   "outputs": [],
   "source": [
    "%load_ext rpy2.ipython"
   ]
  },
  {
   "cell_type": "code",
   "execution_count": 2,
   "metadata": {
    "collapsed": false,
    "hide_input": true
   },
   "outputs": [
    {
     "name": "stderr",
     "output_type": "stream",
     "text": [
      "/opt/anaconda/lib/python2.7/site-packages/rpy2/robjects/functions.py:106: UserWarning: Loading required package: estimability\n",
      "\n",
      "  res = super(Function, self).__call__(*new_args, **new_kwargs)\n",
      "/opt/anaconda/lib/python2.7/site-packages/rpy2/robjects/functions.py:106: UserWarning: Loading required package: lattice\n",
      "\n",
      "  res = super(Function, self).__call__(*new_args, **new_kwargs)\n",
      "/opt/anaconda/lib/python2.7/site-packages/rpy2/robjects/functions.py:106: UserWarning: Loading required package: survival\n",
      "\n",
      "  res = super(Function, self).__call__(*new_args, **new_kwargs)\n",
      "/opt/anaconda/lib/python2.7/site-packages/rpy2/robjects/functions.py:106: UserWarning: Loading required package: Formula\n",
      "\n",
      "  res = super(Function, self).__call__(*new_args, **new_kwargs)\n",
      "/opt/anaconda/lib/python2.7/site-packages/rpy2/robjects/functions.py:106: UserWarning: Loading required package: ggplot2\n",
      "\n",
      "  res = super(Function, self).__call__(*new_args, **new_kwargs)\n",
      "/opt/anaconda/lib/python2.7/site-packages/rpy2/robjects/functions.py:106: UserWarning: \n",
      "Attaching package: ‘Hmisc’\n",
      "\n",
      "\n",
      "  res = super(Function, self).__call__(*new_args, **new_kwargs)\n",
      "/opt/anaconda/lib/python2.7/site-packages/rpy2/robjects/functions.py:106: UserWarning: The following objects are masked from ‘package:base’:\n",
      "\n",
      "    format.pval, round.POSIXt, trunc.POSIXt, units\n",
      "\n",
      "\n",
      "  res = super(Function, self).__call__(*new_args, **new_kwargs)\n",
      "/opt/anaconda/lib/python2.7/site-packages/rpy2/robjects/functions.py:106: UserWarning: Loading required package: Matrix\n",
      "\n",
      "  res = super(Function, self).__call__(*new_args, **new_kwargs)\n",
      "/opt/anaconda/lib/python2.7/site-packages/rpy2/robjects/functions.py:106: UserWarning: \n",
      "Attaching package: ‘lmerTest’\n",
      "\n",
      "\n",
      "  res = super(Function, self).__call__(*new_args, **new_kwargs)\n",
      "/opt/anaconda/lib/python2.7/site-packages/rpy2/robjects/functions.py:106: UserWarning: The following object is masked from ‘package:lme4’:\n",
      "\n",
      "    lmer\n",
      "\n",
      "\n",
      "  res = super(Function, self).__call__(*new_args, **new_kwargs)\n",
      "/opt/anaconda/lib/python2.7/site-packages/rpy2/robjects/functions.py:106: UserWarning: The following object is masked from ‘package:lsmeans’:\n",
      "\n",
      "    lsmeans\n",
      "\n",
      "\n",
      "  res = super(Function, self).__call__(*new_args, **new_kwargs)\n",
      "/opt/anaconda/lib/python2.7/site-packages/rpy2/robjects/functions.py:106: UserWarning: The following object is masked from ‘package:stats’:\n",
      "\n",
      "    step\n",
      "\n",
      "\n",
      "  res = super(Function, self).__call__(*new_args, **new_kwargs)\n",
      "/opt/anaconda/lib/python2.7/site-packages/rpy2/robjects/functions.py:106: UserWarning: \n",
      "Attaching package: ‘dplyr’\n",
      "\n",
      "\n",
      "  res = super(Function, self).__call__(*new_args, **new_kwargs)\n",
      "/opt/anaconda/lib/python2.7/site-packages/rpy2/robjects/functions.py:106: UserWarning: The following objects are masked from ‘package:Hmisc’:\n",
      "\n",
      "    combine, src, summarize\n",
      "\n",
      "\n",
      "  res = super(Function, self).__call__(*new_args, **new_kwargs)\n",
      "/opt/anaconda/lib/python2.7/site-packages/rpy2/robjects/functions.py:106: UserWarning: The following objects are masked from ‘package:stats’:\n",
      "\n",
      "    filter, lag\n",
      "\n",
      "\n",
      "  res = super(Function, self).__call__(*new_args, **new_kwargs)\n",
      "/opt/anaconda/lib/python2.7/site-packages/rpy2/robjects/functions.py:106: UserWarning: The following objects are masked from ‘package:base’:\n",
      "\n",
      "    intersect, setdiff, setequal, union\n",
      "\n",
      "\n",
      "  res = super(Function, self).__call__(*new_args, **new_kwargs)\n",
      "/opt/anaconda/lib/python2.7/site-packages/rpy2/robjects/functions.py:106: UserWarning: \n",
      "Attaching package: ‘tidyr’\n",
      "\n",
      "\n",
      "  res = super(Function, self).__call__(*new_args, **new_kwargs)\n",
      "/opt/anaconda/lib/python2.7/site-packages/rpy2/robjects/functions.py:106: UserWarning: The following object is masked from ‘package:Matrix’:\n",
      "\n",
      "    expand\n",
      "\n",
      "\n",
      "  res = super(Function, self).__call__(*new_args, **new_kwargs)\n",
      "/opt/anaconda/lib/python2.7/site-packages/rpy2/robjects/functions.py:106: UserWarning: \n",
      "Attaching package: ‘gridExtra’\n",
      "\n",
      "\n",
      "  res = super(Function, self).__call__(*new_args, **new_kwargs)\n",
      "/opt/anaconda/lib/python2.7/site-packages/rpy2/robjects/functions.py:106: UserWarning: The following object is masked from ‘package:dplyr’:\n",
      "\n",
      "    combine\n",
      "\n",
      "\n",
      "  res = super(Function, self).__call__(*new_args, **new_kwargs)\n",
      "/opt/anaconda/lib/python2.7/site-packages/rpy2/robjects/functions.py:106: UserWarning: The following object is masked from ‘package:Hmisc’:\n",
      "\n",
      "    combine\n",
      "\n",
      "\n",
      "  res = super(Function, self).__call__(*new_args, **new_kwargs)\n",
      "/opt/anaconda/lib/python2.7/site-packages/rpy2/robjects/functions.py:106: UserWarning: \n",
      "Attaching package: ‘reshape2’\n",
      "\n",
      "\n",
      "  res = super(Function, self).__call__(*new_args, **new_kwargs)\n",
      "/opt/anaconda/lib/python2.7/site-packages/rpy2/robjects/functions.py:106: UserWarning: The following object is masked from ‘package:tidyr’:\n",
      "\n",
      "    smiths\n",
      "\n",
      "\n",
      "  res = super(Function, self).__call__(*new_args, **new_kwargs)\n",
      "/opt/anaconda/lib/python2.7/site-packages/rpy2/robjects/functions.py:106: UserWarning: Loading required package: ape\n",
      "\n",
      "  res = super(Function, self).__call__(*new_args, **new_kwargs)\n",
      "/opt/anaconda/lib/python2.7/site-packages/rpy2/robjects/functions.py:106: UserWarning: \n",
      "Attaching package: ‘ape’\n",
      "\n",
      "\n",
      "  res = super(Function, self).__call__(*new_args, **new_kwargs)\n",
      "/opt/anaconda/lib/python2.7/site-packages/rpy2/robjects/functions.py:106: UserWarning: The following object is masked from ‘package:Hmisc’:\n",
      "\n",
      "    zoom\n",
      "\n",
      "\n",
      "  res = super(Function, self).__call__(*new_args, **new_kwargs)\n",
      "/opt/anaconda/lib/python2.7/site-packages/rpy2/robjects/functions.py:106: UserWarning: Loading required package: vegan\n",
      "\n",
      "  res = super(Function, self).__call__(*new_args, **new_kwargs)\n",
      "/opt/anaconda/lib/python2.7/site-packages/rpy2/robjects/functions.py:106: UserWarning: Loading required package: permute\n",
      "\n",
      "  res = super(Function, self).__call__(*new_args, **new_kwargs)\n",
      "/opt/anaconda/lib/python2.7/site-packages/rpy2/robjects/functions.py:106: UserWarning: This is vegan 2.4-0\n",
      "\n",
      "  res = super(Function, self).__call__(*new_args, **new_kwargs)\n",
      "/opt/anaconda/lib/python2.7/site-packages/rpy2/robjects/functions.py:106: UserWarning: Loading required package: nlme\n",
      "\n",
      "  res = super(Function, self).__call__(*new_args, **new_kwargs)\n",
      "/opt/anaconda/lib/python2.7/site-packages/rpy2/robjects/functions.py:106: UserWarning: \n",
      "Attaching package: ‘nlme’\n",
      "\n",
      "\n",
      "  res = super(Function, self).__call__(*new_args, **new_kwargs)\n",
      "/opt/anaconda/lib/python2.7/site-packages/rpy2/robjects/functions.py:106: UserWarning: The following object is masked from ‘package:dplyr’:\n",
      "\n",
      "    collapse\n",
      "\n",
      "\n",
      "  res = super(Function, self).__call__(*new_args, **new_kwargs)\n",
      "/opt/anaconda/lib/python2.7/site-packages/rpy2/robjects/functions.py:106: UserWarning: The following object is masked from ‘package:lme4’:\n",
      "\n",
      "    lmList\n",
      "\n",
      "\n",
      "  res = super(Function, self).__call__(*new_args, **new_kwargs)\n",
      "/opt/anaconda/lib/python2.7/site-packages/rpy2/robjects/functions.py:106: UserWarning: Loading required package: foreach\n",
      "\n",
      "  res = super(Function, self).__call__(*new_args, **new_kwargs)\n",
      "/opt/anaconda/lib/python2.7/site-packages/rpy2/robjects/functions.py:106: UserWarning: foreach: simple, scalable parallel programming from Revolution Analytics\n",
      "Use Revolution R for scalability, fault tolerance and more.\n",
      "http://www.revolutionanalytics.com\n",
      "\n",
      "  res = super(Function, self).__call__(*new_args, **new_kwargs)\n",
      "/opt/anaconda/lib/python2.7/site-packages/rpy2/robjects/functions.py:106: UserWarning: Loading required package: iterators\n",
      "\n",
      "  res = super(Function, self).__call__(*new_args, **new_kwargs)\n",
      "/opt/anaconda/lib/python2.7/site-packages/rpy2/robjects/functions.py:106: UserWarning: Loading required package: parallel\n",
      "\n",
      "  res = super(Function, self).__call__(*new_args, **new_kwargs)\n"
     ]
    }
   ],
   "source": [
    "%%R\n",
    "library(lsmeans)\n",
    "library(Hmisc)\n",
    "library(lme4)\n",
    "library(lmerTest)\n",
    "library(ggplot2)\n",
    "library(dplyr)\n",
    "library(tidyr)\n",
    "library(pbkrtest)\n",
    "library(gridExtra)\n",
    "library(reshape2)\n",
    "library(picante)\n",
    "library(ape)\n",
    "library(phyloseq)\n",
    "library(doParallel)\n"
   ]
  },
  {
   "cell_type": "markdown",
   "metadata": {
    "hide_input": true,
    "slideshow": {
     "slide_type": "skip"
    }
   },
   "source": [
    "## Set file locations"
   ]
  },
  {
   "cell_type": "code",
   "execution_count": 3,
   "metadata": {
    "collapsed": true
   },
   "outputs": [],
   "source": [
    "%%R\n",
    "workDir = '/home/bryan/RhizCG/PhyDist/'\n",
    "treeFile = '/home/bryan/RhizCG/PhyDist/20160209_phylogeny.tre'\n",
    "NAMFile = '/home/bryan/RhizCG/PhyDist/NAM_founders_distanceMatrix_v2.txt'"
   ]
  },
  {
   "cell_type": "markdown",
   "metadata": {
    "slideshow": {
     "slide_type": "skip"
    }
   },
   "source": [
    "### Read  phyDist expanded table table "
   ]
  },
  {
   "cell_type": "code",
   "execution_count": 4,
   "metadata": {
    "collapsed": false
   },
   "outputs": [
    {
     "data": {
      "text/plain": [
       "[1] \"/home/bryan/RhizCG/ipynb\"\n"
      ]
     },
     "metadata": {},
     "output_type": "display_data"
    }
   ],
   "source": [
    "%%R\n",
    "getwd()"
   ]
  },
  {
   "cell_type": "code",
   "execution_count": 5,
   "metadata": {
    "collapsed": false
   },
   "outputs": [
    {
     "data": {
      "text/plain": [
       "        FAGES   AMAPO   HELAN   ABUTH   GLYMA   SORBI     B73   ECHCG   SETFA\n",
       "FAGES 0.00000 0.23210 0.25302 0.27096 0.35879 0.43476 0.43787 0.43985 0.43592\n",
       "AMAPO 0.23210 0.00000 0.20952 0.22746 0.31529 0.39126 0.39437 0.39635 0.39242\n",
       "HELAN 0.25302 0.20952 0.00000 0.19116 0.27899 0.35496 0.35807 0.36005 0.35612\n",
       "ABUTH 0.27096 0.22746 0.19116 0.00000 0.24183 0.35370 0.35681 0.35879 0.35486\n",
       "GLYMA 0.35879 0.31529 0.27899 0.24183 0.00000 0.44153 0.44464 0.44662 0.44269\n",
       "SORBI 0.43476 0.39126 0.35496 0.35370 0.44153 0.00000 0.01153 0.03193 0.02800\n",
       "        ERATE   ELCOR  75-062    Oh7B    MS71     B97     H99   Il14H     Ki3\n",
       "FAGES 0.44622 0.44745 0.43787 0.43787 0.43787 0.43787 0.43787 0.43787 0.43787\n",
       "AMAPO 0.40272 0.40395 0.39437 0.39437 0.39437 0.39437 0.39437 0.39437 0.39437\n",
       "HELAN 0.36642 0.36765 0.35807 0.35807 0.35807 0.35807 0.35807 0.35807 0.35807\n",
       "ABUTH 0.36516 0.36639 0.35681 0.35681 0.35681 0.35681 0.35681 0.35681 0.35681\n",
       "GLYMA 0.45299 0.45422 0.44464 0.44464 0.44464 0.44464 0.44464 0.44464 0.44464\n",
       "SORBI 0.04656 0.04779 0.01153 0.01153 0.01153 0.01153 0.01153 0.01153 0.01153\n",
       "        Tx303   Hp301    Mo18  SORSUD\n",
       "FAGES 0.43787 0.43787 0.43787 0.43476\n",
       "AMAPO 0.39437 0.39437 0.39437 0.39126\n",
       "HELAN 0.35807 0.35807 0.35807 0.35496\n",
       "ABUTH 0.35681 0.35681 0.35681 0.35370\n",
       "GLYMA 0.44464 0.44464 0.44464 0.44153\n",
       "SORBI 0.01153 0.01153 0.01153 0.00020\n"
      ]
     },
     "metadata": {},
     "output_type": "display_data"
    }
   ],
   "source": [
    "%%R\n",
    "setwd(workDir)\n",
    "phy_expand = read.csv(file = \"phyDist_expanded.csv\", header = TRUE)\n",
    "colnames(phy_expand)[12] = \"75-062\"\n",
    "head(phy_expand)"
   ]
  },
  {
   "cell_type": "code",
   "execution_count": 6,
   "metadata": {
    "collapsed": false
   },
   "outputs": [],
   "source": [
    "%%R \n",
    "setwd(workDir)\n",
    "NAMdist = read.table(NAMFile, header = TRUE)\n",
    "\n",
    "#reorder so that NAMdist is in same order as log2fold change matrix\n",
    "NAMdist = NAMdist[c(1:6, 8, 7, 9, 10), c(1:6, 8, 7, 9, 10)]"
   ]
  },
  {
   "cell_type": "markdown",
   "metadata": {
    "slideshow": {
     "slide_type": "skip"
    }
   },
   "source": [
    "### Use melt to create a dataframe with species by species comparisons that will later be compared with plot by plot unifrac distances"
   ]
  },
  {
   "cell_type": "code",
   "execution_count": 7,
   "metadata": {
    "collapsed": false
   },
   "outputs": [
    {
     "data": {
      "text/plain": [
       "  PlantA PlantB phy_Dist   PlantComp\n",
       "1  FAGES  FAGES  0.00000 FAGES-FAGES\n",
       "2  AMAPO  FAGES  0.23210 AMAPO-FAGES\n",
       "3  HELAN  FAGES  0.25302 HELAN-FAGES\n",
       "4  ABUTH  FAGES  0.27096 ABUTH-FAGES\n",
       "5  GLYMA  FAGES  0.35879 GLYMA-FAGES\n",
       "6  SORBI  FAGES  0.43476 SORBI-FAGES\n"
      ]
     },
     "metadata": {},
     "output_type": "display_data"
    }
   ],
   "source": [
    "%%R\n",
    "pd.m = melt(as.matrix(phy_expand))\n",
    "\n",
    "#set column names and create comparison column\n",
    "colnames(pd.m) = c(\"PlantA\", \"PlantB\", \"phy_Dist\")\n",
    "pd.m$PlantComp = paste(pd.m$PlantA, pd.m$PlantB, sep = \"-\")\n",
    "pd.m %>% head\n"
   ]
  },
  {
   "cell_type": "markdown",
   "metadata": {
    "slideshow": {
     "slide_type": "skip"
    }
   },
   "source": [
    "# Import phyloseq object and calculate unifrac distances"
   ]
  },
  {
   "cell_type": "code",
   "execution_count": 8,
   "metadata": {
    "collapsed": false
   },
   "outputs": [
    {
     "data": {
      "text/plain": [
       "phyloseq-class experiment-level object\n",
       "otu_table()   OTU Table:         [ 4982 taxa and 87 samples ]\n",
       "sample_data() Sample Data:       [ 87 samples by 55 sample variables ]\n",
       "tax_table()   Taxonomy Table:    [ 4982 taxa by 8 taxonomic ranks ]\n",
       "phy_tree()    Phylogenetic Tree: [ 4982 tips and 4981 internal nodes ]\n"
      ]
     },
     "metadata": {},
     "output_type": "display_data"
    }
   ],
   "source": [
    "%%R\n",
    "F = file.path('/home/bryan/RhizCG/data/MiSeq_amplicon/MergedRuns/physeq/Full-Sparsity3in3_r')\n",
    "physeq.Full = readRDS(F)\n",
    "\n",
    "\n",
    "\n",
    "physeq.Full = filter_taxa(physeq.Full, function(x) sum(x > 0) > 0, TRUE)\n",
    "physeq.Nneg = subset_samples(physeq.Full, Plant != \"BARE\" & Treatment == \"Nneg\")\n",
    "physeq.Nneg   "
   ]
  },
  {
   "cell_type": "markdown",
   "metadata": {},
   "source": [
    "## Calculate w-Unifrac distances"
   ]
  },
  {
   "cell_type": "code",
   "execution_count": 9,
   "metadata": {
    "collapsed": false
   },
   "outputs": [],
   "source": [
    "%%R\n",
    "registerDoParallel(cores=28)\n",
    "wunif.dist = distance(physeq.Nneg, \n",
    "                      method = \"unifrac\", \n",
    "                      weighted = TRUE,\n",
    "                      fast = TRUE, \n",
    "                      parallel = TRUE, \n",
    "                      normalized = FALSE)"
   ]
  },
  {
   "cell_type": "code",
   "execution_count": 10,
   "metadata": {
    "collapsed": false,
    "hide_input": false
   },
   "outputs": [
    {
     "data": {
      "text/plain": [
       "                  sample5-1.22_Nneg sample4-2.02_Nneg sample4-4.21_Nneg\n",
       "sample5-1.22_Nneg         0.0000000         0.2069072         0.1605861\n",
       "sample4-2.02_Nneg         0.2069072         0.0000000         0.1853471\n",
       "sample4-4.21_Nneg         0.1605861         0.1853471         0.0000000\n",
       "sample5-2.29_Nneg         0.1505018         0.1881794         0.1816279\n",
       "sample5-2.06_Nneg         0.1332870         0.2056788         0.1890167\n",
       "sample1-2.23_Nneg         0.1635179         0.2520001         0.1917811\n",
       "                  sample5-2.29_Nneg sample5-2.06_Nneg sample1-2.23_Nneg\n",
       "sample5-1.22_Nneg         0.1505018         0.1332870         0.1635179\n",
       "sample4-2.02_Nneg         0.1881794         0.2056788         0.2520001\n",
       "sample4-4.21_Nneg         0.1816279         0.1890167         0.1917811\n",
       "sample5-2.29_Nneg         0.0000000         0.1162380         0.1563019\n",
       "sample5-2.06_Nneg         0.1162380         0.0000000         0.1837943\n",
       "sample1-2.23_Nneg         0.1563019         0.1837943         0.0000000\n",
       "                  sample6-2.26_Nneg sample6-3.18_Nneg sample5-3.13_Nneg\n",
       "sample5-1.22_Nneg         0.2115773         0.2095513         0.1851522\n",
       "sample4-2.02_Nneg         0.2347751         0.2039437         0.2031210\n",
       "sample4-4.21_Nneg         0.2217684         0.2191691         0.2074062\n",
       "sample5-2.29_Nneg         0.1543096         0.1532644         0.1341621\n",
       "sample5-2.06_Nneg         0.1544908         0.1652106         0.1293945\n",
       "sample1-2.23_Nneg         0.2366394         0.2296627         0.1967468\n",
       "                  sample2-2.08_Nneg sample5-1.17_Nneg sample3-2.03_Nneg\n",
       "sample5-1.22_Nneg         0.2445349         0.1928932         0.3570619\n",
       "sample4-2.02_Nneg         0.1732889         0.3011232         0.3168361\n",
       "sample4-4.21_Nneg         0.1947418         0.2278589         0.3249695\n",
       "sample5-2.29_Nneg         0.2144072         0.2100508         0.3697212\n",
       "sample5-2.06_Nneg         0.2221065         0.1832281         0.3622483\n",
       "sample1-2.23_Nneg         0.2722073         0.1929112         0.3991173\n",
       "                  sample5-4.08_Nneg sample1-4.24_Nneg sample5-4.28_Nneg\n",
       "sample5-1.22_Nneg         0.1990510         0.1852188         0.1616694\n",
       "sample4-2.02_Nneg         0.2277475         0.2943603         0.2138094\n",
       "sample4-4.21_Nneg         0.2252953         0.2117632         0.1433480\n",
       "sample5-2.29_Nneg         0.1315531         0.1993586         0.1784717\n",
       "sample5-2.06_Nneg         0.1474853         0.2205373         0.2045240\n",
       "sample1-2.23_Nneg         0.2008056         0.1200776         0.1892115\n",
       "                  sample6-2.13_Nneg sample4-1.03_Nneg sample6-1.15_Nneg\n",
       "sample5-1.22_Nneg         0.2656491         0.1745441         0.2354162\n",
       "sample4-2.02_Nneg         0.2684237         0.1517888         0.2393835\n",
       "sample4-4.21_Nneg         0.2602933         0.1509431         0.2410414\n",
       "sample5-2.29_Nneg         0.1946998         0.1768434         0.1723019\n",
       "sample5-2.06_Nneg         0.2060034         0.1827855         0.1736679\n",
       "sample1-2.23_Nneg         0.2574850         0.2074724         0.2444190\n",
       "                  sample5-2.11_Nneg sample6-4.12_Nneg sample5-1.25_Nneg\n",
       "sample5-1.22_Nneg         0.2122707         0.1783536         0.2019927\n",
       "sample4-2.02_Nneg         0.2611885         0.2086664         0.1899359\n",
       "sample4-4.21_Nneg         0.2436439         0.1470665         0.1877054\n",
       "sample5-2.29_Nneg         0.1482710         0.1793759         0.2307498\n",
       "sample5-2.06_Nneg         0.1641123         0.1774698         0.2293796\n",
       "sample1-2.23_Nneg         0.1902504         0.1845136         0.2630111\n",
       "                  sample6-3.04_Nneg sample5-3.27_Nneg sample5-3.11_Nneg\n",
       "sample5-1.22_Nneg         0.2204907         0.1645738         0.2127525\n",
       "sample4-2.02_Nneg         0.2536726         0.1721894         0.1914462\n",
       "sample4-4.21_Nneg         0.2180142         0.1515498         0.1743963\n",
       "sample5-2.29_Nneg         0.1585603         0.1383451         0.2371957\n",
       "sample5-2.06_Nneg         0.1786029         0.1423211         0.2515054\n",
       "sample1-2.23_Nneg         0.2216156         0.1982348         0.2394729\n",
       "                  sample3-3.06_Nneg sample2-3.05_Nneg sample5-4.06_Nneg\n",
       "sample5-1.22_Nneg         0.3431153         0.2617059         0.1564632\n",
       "sample4-2.02_Nneg         0.2929498         0.2147556         0.2416029\n",
       "sample4-4.21_Nneg         0.2853689         0.2046821         0.1603224\n",
       "sample5-2.29_Nneg         0.3197665         0.2540390         0.1828297\n",
       "sample5-2.06_Nneg         0.3139208         0.2582996         0.1990657\n",
       "sample1-2.23_Nneg         0.3534682         0.2932369         0.1580193\n",
       "                  sample6-4.17_Nneg sample5-4.05_Nneg sample6-1.07_Nneg\n",
       "sample5-1.22_Nneg         0.1904349         0.2121689         0.2560226\n",
       "sample4-2.02_Nneg         0.1956297         0.2643664         0.2516639\n",
       "sample4-4.21_Nneg         0.1367450         0.2258585         0.2440444\n",
       "sample5-2.29_Nneg         0.1995274         0.1529476         0.1953697\n",
       "sample5-2.06_Nneg         0.1973906         0.1636955         0.2000666\n",
       "sample1-2.23_Nneg         0.2229826         0.2002629         0.2742157\n",
       "                  sample5-2.18_Nneg sample5-3.16_Nneg sample3-4.15_Nneg\n",
       "sample5-1.22_Nneg         0.1976153         0.2768077         0.2690261\n",
       "sample4-2.02_Nneg         0.1709702         0.2763390         0.2363553\n",
       "sample4-4.21_Nneg         0.1706821         0.2695913         0.2033230\n",
       "sample5-2.29_Nneg         0.2197236         0.1946217         0.2269179\n",
       "sample5-2.06_Nneg         0.2329279         0.2081138         0.2269612\n",
       "sample1-2.23_Nneg         0.2401044         0.2670558         0.2848728\n",
       "                  sample6-4.30_Nneg sample6-1.12_Nneg sample6-2.16_Nneg\n",
       "sample5-1.22_Nneg         0.2467414         0.2409268         0.2709447\n",
       "sample4-2.02_Nneg         0.1713218         0.2194510         0.2790786\n",
       "sample4-4.21_Nneg         0.2030583         0.2398683         0.2794099\n",
       "sample5-2.29_Nneg         0.2166476         0.2028975         0.1995804\n",
       "sample5-2.06_Nneg         0.2232273         0.2064722         0.2075249\n",
       "sample1-2.23_Nneg         0.2949031         0.2900850         0.2807927\n",
       "                  sample5-3.17_Nneg sample5-4.09_Nneg sample2-1.08_Nneg\n",
       "sample5-1.22_Nneg         0.2314864         0.1970136         0.2804212\n",
       "sample4-2.02_Nneg         0.2085029         0.2109772         0.3064641\n",
       "sample4-4.21_Nneg         0.1972010         0.1699232         0.3154118\n",
       "sample5-2.29_Nneg         0.2383269         0.2400739         0.2322513\n",
       "sample5-2.06_Nneg         0.2485518         0.2470007         0.2130379\n",
       "sample1-2.23_Nneg         0.2746987         0.2415455         0.3010969\n",
       "                  sample6-3.01_Nneg sample5-1.16_Nneg sample1-1.27_Nneg\n",
       "sample5-1.22_Nneg         0.2043900         0.2663715         0.1894811\n",
       "sample4-2.02_Nneg         0.2418720         0.3276987         0.2863515\n",
       "sample4-4.21_Nneg         0.2055932         0.3085987         0.2110501\n",
       "sample5-2.29_Nneg         0.1600248         0.2187976         0.2038999\n",
       "sample5-2.06_Nneg         0.1687178         0.1939710         0.2270378\n",
       "sample1-2.23_Nneg         0.1976193         0.2777680         0.1466189\n",
       "                  sample4-3.10_Nneg sample5-1.29_Nneg sample5-2.15_Nneg\n",
       "sample5-1.22_Nneg         0.1752442         0.1698527         0.1490998\n",
       "sample4-2.02_Nneg         0.1547281         0.1970090         0.1593929\n",
       "sample4-4.21_Nneg         0.1267264         0.1648892         0.1479366\n",
       "sample5-2.29_Nneg         0.1717640         0.1854169         0.1538953\n",
       "sample5-2.06_Nneg         0.1774043         0.1979412         0.1607730\n",
       "sample1-2.23_Nneg         0.2130475         0.2196806         0.1982354\n",
       "                  sample1-3.08_Nneg sample3-1.09_Nneg sample2-4.25_Nneg\n",
       "sample5-1.22_Nneg        0.14721334         0.2572849         0.2715915\n",
       "sample4-2.02_Nneg        0.25543163         0.2032452         0.2168465\n",
       "sample4-4.21_Nneg        0.19178058         0.2121052         0.2330405\n",
       "sample5-2.29_Nneg        0.16731550         0.2068221         0.2678797\n",
       "sample5-2.06_Nneg        0.18364362         0.2070142         0.2699560\n",
       "sample1-2.23_Nneg        0.09806129         0.2820520         0.3143806\n",
       "                  sample8-2.07_Nneg sample7-4.02_Nneg sample8-4.23_Nneg\n",
       "sample5-1.22_Nneg         0.2869612         0.3456722         0.2603208\n",
       "sample4-2.02_Nneg         0.2836942         0.3353850         0.2912100\n",
       "sample4-4.21_Nneg         0.2717751         0.3642892         0.2594429\n",
       "sample5-2.29_Nneg         0.2306469         0.2748758         0.1869921\n",
       "sample5-2.06_Nneg         0.2457728         0.2743853         0.2007500\n",
       "sample1-2.23_Nneg         0.2486880         0.3393741         0.2445130\n",
       "                  sample7-3.19_Nneg sample3-4.18_Nneg sample6-1.18_Nneg\n",
       "sample5-1.22_Nneg         0.2900421         0.3199225         0.2748876\n",
       "sample4-2.02_Nneg         0.3199551         0.2961092         0.2783977\n",
       "sample4-4.21_Nneg         0.3086643         0.2649716         0.2817365\n",
       "sample5-2.29_Nneg         0.2236062         0.3067220         0.2138807\n",
       "sample5-2.06_Nneg         0.2204858         0.2947866         0.2221898\n",
       "sample1-2.23_Nneg         0.2906152         0.3317410         0.2747785\n",
       "                  sample7-2.12_Nneg sample7-2.28_Nneg sample2-2.10_Nneg\n",
       "sample5-1.22_Nneg         0.3197592         0.3386712         0.2658279\n",
       "sample4-2.02_Nneg         0.3559383         0.3838316         0.3263094\n",
       "sample4-4.21_Nneg         0.3458638         0.3754840         0.3174842\n",
       "sample5-2.29_Nneg         0.2527333         0.2836008         0.2600670\n",
       "sample5-2.06_Nneg         0.2487877         0.2598581         0.2324207\n",
       "sample1-2.23_Nneg         0.3229621         0.3441922         0.2890802\n",
       "                  sample8-2.25_Nneg sample6-3.09_Nneg sample2-3.20_Nneg\n",
       "sample5-1.22_Nneg         0.2234315         0.2133390         0.2115816\n",
       "sample4-2.02_Nneg         0.2445613         0.2634511         0.2286210\n",
       "sample4-4.21_Nneg         0.2081878         0.2195306         0.1823817\n",
       "sample5-2.29_Nneg         0.1801962         0.1861901         0.2090495\n",
       "sample5-2.06_Nneg         0.1985966         0.1990271         0.1998012\n",
       "sample1-2.23_Nneg         0.2060658         0.1812439         0.2318327\n",
       "                  sample8-4.07_Nneg sample8-3.23_Nneg sample7-1.13_Nneg\n",
       "sample5-1.22_Nneg         0.1908207         0.2470313         0.2535415\n",
       "sample4-2.02_Nneg         0.2325546         0.2574625         0.2838828\n",
       "sample4-4.21_Nneg         0.1950168         0.2453785         0.2661208\n",
       "sample5-2.29_Nneg         0.1437660         0.1680606         0.1778472\n",
       "sample5-2.06_Nneg         0.1593112         0.1839967         0.1952540\n",
       "sample1-2.23_Nneg         0.1840263         0.2527193         0.2468236\n",
       "                  sample7-2.30_Nneg sample8-1.14_Nneg sample3-1.20_Nneg\n",
       "sample5-1.22_Nneg         0.2039733         0.1742228         0.1893337\n",
       "sample4-2.02_Nneg         0.2434534         0.1686352         0.2687505\n",
       "sample4-4.21_Nneg         0.2355251         0.1495986         0.2084341\n",
       "sample5-2.29_Nneg         0.1568586         0.1842425         0.1796382\n",
       "sample5-2.06_Nneg         0.1521930         0.1884561         0.1961795\n",
       "sample1-2.23_Nneg         0.2081310         0.2123856         0.1592206\n",
       "                  sample7-1.04_Nneg sample8-1.19_Nneg sample7-3.12_Nneg\n",
       "sample5-1.22_Nneg         0.3339150         0.2919399         0.3277790\n",
       "sample4-2.02_Nneg         0.3727067         0.2888893         0.3300991\n",
       "sample4-4.21_Nneg         0.3534273         0.2900556         0.3304061\n",
       "sample5-2.29_Nneg         0.2713431         0.2605191         0.2449595\n",
       "sample5-2.06_Nneg         0.2736386         0.2684739         0.2546888\n",
       "sample1-2.23_Nneg         0.3209610         0.2803269         0.3184440\n",
       "                  sample7-4.03_Nneg sample7-1.28_Nneg sample7-3.25_Nneg\n",
       "sample5-1.22_Nneg         0.3984842         0.3953641         0.2554253\n",
       "sample4-2.02_Nneg         0.4012303         0.4073499         0.3061273\n",
       "sample4-4.21_Nneg         0.4156044         0.3999172         0.2841556\n",
       "sample5-2.29_Nneg         0.3236703         0.3163680         0.2009691\n",
       "sample5-2.06_Nneg         0.3357086         0.3202311         0.1801350\n",
       "sample1-2.23_Nneg         0.3825378         0.3804713         0.2501669\n",
       "                  sample2-1.24_Nneg sample8-1.10_Nneg sample8-4.01_Nneg\n",
       "sample5-1.22_Nneg         0.1935287         0.2399987         0.3054234\n",
       "sample4-2.02_Nneg         0.1932117         0.2658272         0.3114211\n",
       "sample4-4.21_Nneg         0.1603868         0.2444839         0.3000883\n",
       "sample5-2.29_Nneg         0.2145203         0.1798393         0.2767424\n",
       "sample5-2.06_Nneg         0.1990113         0.1845145         0.2908566\n",
       "sample1-2.23_Nneg         0.2488543         0.2345812         0.2861461\n",
       "                  sample8-2.17_Nneg sample8-2.22_Nneg sample8-3.29_Nneg\n",
       "sample5-1.22_Nneg         0.2588360         0.2073613         0.1982243\n",
       "sample4-2.02_Nneg         0.2467774         0.2581942         0.2223118\n",
       "sample4-4.21_Nneg         0.2671474         0.2154617         0.2201578\n",
       "sample5-2.29_Nneg         0.1843088         0.1549383         0.1461368\n",
       "sample5-2.06_Nneg         0.1989534         0.1724363         0.1615725\n",
       "sample1-2.23_Nneg         0.2725193         0.1818887         0.1804932\n",
       "                  sample8-3.28_Nneg sample6-4.13_Nneg sample3-2.19_Nneg\n",
       "sample5-1.22_Nneg         0.1690040         0.2188510         0.2544177\n",
       "sample4-2.02_Nneg         0.1971534         0.2649797         0.2057517\n",
       "sample4-4.21_Nneg         0.1829096         0.2285904         0.2064920\n",
       "sample5-2.29_Nneg         0.1557873         0.1616726         0.2155586\n",
       "sample5-2.06_Nneg         0.1498202         0.1762317         0.2073235\n",
       "sample1-2.23_Nneg         0.1937285         0.2136124         0.2793532\n",
       "                  sample8-1.23_Nneg sample6-2.14_Nneg sample8-4.04_Nneg\n",
       "sample5-1.22_Nneg         0.2459469         0.2327579         0.3109770\n",
       "sample4-2.02_Nneg         0.2511797         0.2188128         0.3104084\n",
       "sample4-4.21_Nneg         0.2510528         0.2144106         0.3131513\n",
       "sample5-2.29_Nneg         0.1764434         0.1995018         0.2414760\n",
       "sample5-2.06_Nneg         0.1893047         0.1998390         0.2469071\n",
       "sample1-2.23_Nneg         0.2364199         0.2500176         0.3015378\n",
       "                  sample3-3.30_Nneg sample7-4.14_Nneg sample8-3.03_Nneg\n",
       "sample5-1.22_Nneg         0.2598062         0.3279493         0.2410838\n",
       "sample4-2.02_Nneg         0.2597482         0.3689659         0.2691546\n",
       "sample4-4.21_Nneg         0.2236680         0.3582856         0.2402530\n",
       "sample5-2.29_Nneg         0.2441796         0.2710566         0.2118174\n",
       "sample5-2.06_Nneg         0.2465922         0.2597509         0.2240846\n",
       "sample1-2.23_Nneg         0.2664108         0.3324005         0.1982628\n"
      ]
     },
     "metadata": {},
     "output_type": "display_data"
    }
   ],
   "source": [
    "%%R\n",
    "as.matrix(wunif.dist) %>% head"
   ]
  },
  {
   "cell_type": "code",
   "execution_count": 11,
   "metadata": {
    "collapsed": false
   },
   "outputs": [
    {
     "data": {
      "text/plain": [
       "               Var1              Var2     value\n",
       "1 sample5-1.22_Nneg sample5-1.22_Nneg 0.0000000\n",
       "2 sample4-2.02_Nneg sample5-1.22_Nneg 0.2069072\n",
       "3 sample4-4.21_Nneg sample5-1.22_Nneg 0.1605861\n",
       "4 sample5-2.29_Nneg sample5-1.22_Nneg 0.1505018\n",
       "5 sample5-2.06_Nneg sample5-1.22_Nneg 0.1332870\n",
       "6 sample1-2.23_Nneg sample5-1.22_Nneg 0.1635179\n",
       "[1] 7569    3\n",
       "              PlotA             PlotB w_Unif_Dist  Plant\n",
       "1 sample5-1.22_Nneg sample5-1.22_Nneg   0.0000000 75-062\n",
       "2 sample4-2.02_Nneg sample5-1.22_Nneg   0.2069072  SETFA\n",
       "3 sample4-4.21_Nneg sample5-1.22_Nneg   0.1605861  SETFA\n",
       "4 sample5-2.29_Nneg sample5-1.22_Nneg   0.1505018 75-062\n",
       "5 sample5-2.06_Nneg sample5-1.22_Nneg   0.1332870   MS71\n",
       "6 sample1-2.23_Nneg sample5-1.22_Nneg   0.1635179  FAGES\n",
       "              PlotA             PlotB w_Unif_Dist PlantA  Plant\n",
       "1 sample5-1.22_Nneg sample5-1.22_Nneg   0.0000000 75-062 75-062\n",
       "2 sample4-2.02_Nneg sample5-1.22_Nneg   0.2069072  SETFA 75-062\n",
       "3 sample4-4.21_Nneg sample5-1.22_Nneg   0.1605861  SETFA 75-062\n",
       "4 sample5-2.29_Nneg sample5-1.22_Nneg   0.1505018 75-062 75-062\n",
       "5 sample5-2.06_Nneg sample5-1.22_Nneg   0.1332870   MS71 75-062\n",
       "6 sample1-2.23_Nneg sample5-1.22_Nneg   0.1635179  FAGES 75-062\n"
      ]
     },
     "metadata": {},
     "output_type": "display_data"
    }
   ],
   "source": [
    "%%R\n",
    "sd = sample_data(physeq.Nneg)\n",
    "\n",
    "ud.m = melt(as.matrix(wunif.dist))\n",
    "head(ud.m) %>% print\n",
    "dim(ud.m) %>% print\n",
    "colnames(ud.m) = c(\"PlotA\", \"PlotB\", \"w_Unif_Dist\")\n",
    "\n",
    "#Join with plant names\n",
    "ud.m = left_join(ud.m, sd[, c(1,9)], by = c(\"PlotA\" = \"X.sample\"))\n",
    "head(ud.m) %>% print\n",
    "colnames(ud.m)[4] = \"PlantA\"\n",
    "\n",
    "ud.m = left_join(ud.m, sd[, c(1,9)], by = c(\"PlotB\" = \"X.sample\"))\n",
    "head(ud.m) %>% print\n",
    "colnames(ud.m)[5] = \"PlantB\"\n",
    "ud.m$PlantComp = paste(ud.m$PlantA, ud.m$PlantB, sep = \"-\")\n",
    "\n"
   ]
  },
  {
   "cell_type": "code",
   "execution_count": 12,
   "metadata": {
    "collapsed": false
   },
   "outputs": [
    {
     "data": {
      "text/plain": [
       "              PlotA             PlotB w_Unif_Dist PlantA PlantB     PlantComp\n",
       "1 sample5-1.22_Nneg sample5-1.22_Nneg   0.0000000 75-062 75-062 75-062-75-062\n",
       "2 sample4-2.02_Nneg sample5-1.22_Nneg   0.2069072  SETFA 75-062  SETFA-75-062\n",
       "3 sample4-4.21_Nneg sample5-1.22_Nneg   0.1605861  SETFA 75-062  SETFA-75-062\n",
       "4 sample5-2.29_Nneg sample5-1.22_Nneg   0.1505018 75-062 75-062 75-062-75-062\n",
       "5 sample5-2.06_Nneg sample5-1.22_Nneg   0.1332870   MS71 75-062   MS71-75-062\n",
       "6 sample1-2.23_Nneg sample5-1.22_Nneg   0.1635179  FAGES 75-062  FAGES-75-062\n",
       "                             PlotComp\n",
       "1 sample5-1.22_Nneg-sample5-1.22_Nneg\n",
       "2 sample4-2.02_Nneg-sample5-1.22_Nneg\n",
       "3 sample4-4.21_Nneg-sample5-1.22_Nneg\n",
       "4 sample5-2.29_Nneg-sample5-1.22_Nneg\n",
       "5 sample5-2.06_Nneg-sample5-1.22_Nneg\n",
       "6 sample1-2.23_Nneg-sample5-1.22_Nneg\n"
      ]
     },
     "metadata": {},
     "output_type": "display_data"
    }
   ],
   "source": [
    "%%R\n",
    "#Create plot-plot variable for joining with functional distance matrix\n",
    "ud.m$PlotComp = paste(ud.m$PlotA, ud.m$PlotB, sep = \"-\")\n",
    "head(ud.m) %>% print"
   ]
  },
  {
   "cell_type": "markdown",
   "metadata": {},
   "source": [
    "# Generate functional variables"
   ]
  },
  {
   "cell_type": "code",
   "execution_count": 167,
   "metadata": {
    "collapsed": false
   },
   "outputs": [
    {
     "data": {
      "text/plain": [
       "   Plant SeedSize_mg\n",
       "1  ERATE      0.0035\n",
       "2  HELAN          90\n",
       "3    B73         333\n",
       "4  FAGES          38\n",
       "5  AMAPO        0.49\n",
       "6 SORSUD        10.7\n",
       "    Plant SeedSize_mg\n",
       "1   ERATE      0.0035\n",
       "2   HELAN     90.0000\n",
       "3     B73    333.0000\n",
       "4   FAGES     38.0000\n",
       "5   AMAPO      0.4900\n",
       "6  SORSUD     10.7000\n",
       "7   SORBI     32.3900\n",
       "8   ELCOR      3.2000\n",
       "9   ECHCG      1.5800\n",
       "10  ABUTH      9.6000\n",
       "11  SETFA      1.8000\n",
       "12  GLYMA    174.0000\n",
       "13   MS71      0.2640\n",
       "14   Mo18      0.2240\n",
       "15  Il14H      0.2190\n",
       "16  Tx303      0.2790\n",
       "17   Oh7B      0.2070\n",
       "18    B97      0.2400\n",
       "19  Hp301      0.0869\n",
       "20 75-062      0.2220\n",
       "21    Ki3      0.2280\n",
       "22    H99      0.2310\n"
      ]
     },
     "metadata": {},
     "output_type": "display_data"
    }
   ],
   "source": [
    "%%R\n",
    "#add seed size\n",
    "Plant = c(\"ERATE\", \"HELAN\", \"B73\", \"FAGES\", \"AMAPO\", \"SORSUD\", \"SORBI\", \n",
    "          \"ELCOR\", \"ECHCG\", \"ABUTH\", \"SETFA\", \"GLYMA\", \"MS71\", \"Mo18\", \"Il14H\", \"Tx303\", \"Oh7B\",\n",
    "         \"B97\", \"Hp301\", \"75-062\", \"Ki3\", \"H99\")\n",
    "SeedSize_mg = c(.0035, 90, 333, 38, .49, 10.7, 32.39,\n",
    "               3.2, 1.58, 9.6, 1.8, 174, .264, .224, 0.219, 0.279, 0.207,\n",
    "               0.240, 0.0869, 0.222, 0.228, 0.231)\n",
    "SS = cbind(Plant, SeedSize_mg) %>% as.data.frame\n",
    "head(SS) %>% print\n",
    "SS$SeedSize_mg = SS$SeedSize_mg %>% as.character %>% as.numeric\n",
    "(SS)"
   ]
  },
  {
   "cell_type": "code",
   "execution_count": 168,
   "metadata": {
    "collapsed": false
   },
   "outputs": [
    {
     "name": "stderr",
     "output_type": "stream",
     "text": [
      "UsageError: %%R is a cell magic, but the cell body is empty. Did you mean the line magic %R (single %)?"
     ]
    }
   ],
   "source": [
    "%%R\n"
   ]
  },
  {
   "cell_type": "code",
   "execution_count": 169,
   "metadata": {
    "collapsed": false
   },
   "outputs": [
    {
     "data": {
      "text/plain": [
       " [1] \"75-062\" \"ABUTH\"  \"AMAPO\"  \"B73\"    \"B97\"    \"ECHCG\"  \"ELCOR\"  \"ERATE\" \n",
       " [9] \"FAGES\"  \"GLYMA\"  \"H99\"    \"HELAN\"  \"Hp301\"  \"Il14H\"  \"Ki3\"    \"Mo18\"  \n",
       "[17] \"MS71\"   \"Oh7B\"   \"SETFA\"  \"SORBI\"  \"SORSUD\" \"Tx303\" \n",
       "Importance of components:\n",
       "                         PC1    PC2    PC3     PC4\n",
       "Standard deviation     1.527 1.0247 0.7848 0.04564\n",
       "Proportion of Variance 0.583 0.2625 0.1540 0.00052\n",
       "Cumulative Proportion  0.583 0.8455 0.9995 1.00000\n",
       "                        PC1        PC2        PC3          PC4\n",
       "log(SeedSize_mg)  0.4375562 -0.3576541 -0.8249996 -0.001934066\n",
       "A_Resid_logN      0.6312646  0.1535568  0.2699008 -0.710689000\n",
       "A_Resid_logCN    -0.2778570 -0.8660244  0.2288852 -0.346999792\n",
       "A_Resid_logB      0.5769273 -0.3138561  0.4406140  0.611971036\n"
      ]
     },
     "metadata": {},
     "output_type": "display_data"
    },
    {
     "data": {
      "image/png": "[encoded data removed]"
     },
     "metadata": {},
     "output_type": "display_data"
    }
   ],
   "source": [
    "%%R\n",
    "# PCA of annuals\n",
    "sd = as(sample_data(physeq.Nneg), \"data.frame\")\n",
    "sd$Plant %>% levels %>% print\n",
    "sd = left_join(sd, SS, by = \"Plant\")\n",
    "\n",
    "\n",
    " fit = prcomp(~log(SeedSize_mg) + A_Resid_logN + A_Resid_logCN + A_Resid_logB, data = sd, \n",
    "                 na.action = na.exclude, center = TRUE, scale = TRUE)\n",
    "\n",
    "summary(fit) %>% print\n",
    "fit$rotation %>% print\n",
    "biplot(fit)"
   ]
  },
  {
   "cell_type": "code",
   "execution_count": 170,
   "metadata": {
    "collapsed": false
   },
   "outputs": [
    {
     "data": {
      "image/png": "[encoded data removed]"
     },
     "metadata": {},
     "output_type": "display_data"
    }
   ],
   "source": [
    "%%R -w 600 -h 500\n",
    "S = predict(fit)[,1:3]\n",
    "E_Fit = cbind(sd, S)\n",
    "row.names(E_Fit) = E_Fit$X.sample\n",
    "sample_data(physeq.Nneg) = E_Fit\n",
    "p = ggplot(E_Fit, aes(PC1, PC2, colour = Plant, \n",
    "                       size = A_Resid_logN), pch = 21)\n",
    "p = p + geom_point()\n",
    "#p = p + scale_colour_brewer(palette=\"Paired\")\n",
    "p = p + ggtitle(\"PCA of Growth Residuals\")\n",
    "p"
   ]
  },
  {
   "cell_type": "code",
   "execution_count": 171,
   "metadata": {
    "collapsed": false
   },
   "outputs": [
    {
     "data": {
      "text/plain": [
       "              PlotA             PlotB    PC3Dist\n",
       "1 sample5-1.22_Nneg sample5-1.22_Nneg 0.00000000\n",
       "2 sample4-2.02_Nneg sample5-1.22_Nneg 0.17182051\n",
       "3 sample4-4.21_Nneg sample5-1.22_Nneg 0.01426713\n",
       "4 sample5-2.29_Nneg sample5-1.22_Nneg 0.37236147\n",
       "5 sample5-2.06_Nneg sample5-1.22_Nneg 0.52468978\n",
       "6 sample1-2.23_Nneg sample5-1.22_Nneg 0.89750562\n",
       "                             PlotComp\n",
       "1 sample5-1.22_Nneg-sample5-1.22_Nneg\n",
       "2 sample4-2.02_Nneg-sample5-1.22_Nneg\n",
       "3 sample4-4.21_Nneg-sample5-1.22_Nneg\n",
       "4 sample5-2.29_Nneg-sample5-1.22_Nneg\n",
       "5 sample5-2.06_Nneg-sample5-1.22_Nneg\n",
       "6 sample1-2.23_Nneg-sample5-1.22_Nneg\n",
       "              PlotA             PlotB   FunDist\n",
       "1 sample5-1.22_Nneg sample5-1.22_Nneg 0.0000000\n",
       "2 sample4-2.02_Nneg sample5-1.22_Nneg 2.1589516\n",
       "3 sample4-4.21_Nneg sample5-1.22_Nneg 2.1622869\n",
       "4 sample5-2.29_Nneg sample5-1.22_Nneg 0.3512347\n",
       "5 sample5-2.06_Nneg sample5-1.22_Nneg 0.4132069\n",
       "6 sample1-2.23_Nneg sample5-1.22_Nneg 5.2152628\n",
       "                             PlotComp\n",
       "1 sample5-1.22_Nneg-sample5-1.22_Nneg\n",
       "2 sample4-2.02_Nneg-sample5-1.22_Nneg\n",
       "3 sample4-4.21_Nneg-sample5-1.22_Nneg\n",
       "4 sample5-2.29_Nneg-sample5-1.22_Nneg\n",
       "5 sample5-2.06_Nneg-sample5-1.22_Nneg\n",
       "6 sample1-2.23_Nneg-sample5-1.22_Nneg\n",
       "              PlotA             PlotB  PC1Dist\n",
       "1 sample5-1.22_Nneg sample5-1.22_Nneg 0.000000\n",
       "2 sample4-2.02_Nneg sample5-1.22_Nneg 2.193246\n",
       "3 sample4-4.21_Nneg sample5-1.22_Nneg 2.240768\n",
       "4 sample5-2.29_Nneg sample5-1.22_Nneg 1.251588\n",
       "5 sample5-2.06_Nneg sample5-1.22_Nneg 1.101078\n",
       "6 sample1-2.23_Nneg sample5-1.22_Nneg 3.665746\n",
       "                             PlotComp   PC2Dist    PC3Dist   FunDist\n",
       "1 sample5-1.22_Nneg-sample5-1.22_Nneg 0.0000000 0.00000000 0.0000000\n",
       "2 sample4-2.02_Nneg-sample5-1.22_Nneg 1.0200845 0.17182051 2.1589516\n",
       "3 sample4-4.21_Nneg-sample5-1.22_Nneg 0.6489823 0.01426713 2.1622869\n",
       "4 sample5-2.29_Nneg-sample5-1.22_Nneg 0.6725688 0.37236147 0.3512347\n",
       "5 sample5-2.06_Nneg-sample5-1.22_Nneg 0.0336699 0.52468978 0.4132069\n",
       "6 sample1-2.23_Nneg-sample5-1.22_Nneg 1.4929501 0.89750562 5.2152628\n"
      ]
     },
     "metadata": {},
     "output_type": "display_data"
    }
   ],
   "source": [
    "%%R\n",
    "#measure distances on PC1\n",
    "sd = sample_data(physeq.Nneg)\n",
    "PC1dist = dist(sd[, \"PC1\"], method = \"euclidian\")\n",
    "    #melt matrix\n",
    "    PC1.m = melt(as.matrix(PC1dist))\n",
    "\n",
    "    #set column names and create comparison column\n",
    "     colnames(PC1.m) = c(\"PlotA\", \"PlotB\", \"PC1Dist\")\n",
    "    PC1.m$PlotComp = paste(PC1.m$PlotA, PC1.m$PlotB, sep = \"-\")\n",
    "    PC1.m %>% head\n",
    "\n",
    "#measure distances on PC2\n",
    "PC2dist = dist(sd[,\"PC2\"], method = \"euclidian\")\n",
    "    #melt matrix\n",
    "    PC2.m = melt(as.matrix(PC2dist))\n",
    "\n",
    "    #set column names and create comparison column\n",
    "     colnames(PC2.m) = c(\"PlotA\", \"PlotB\", \"PC2Dist\")\n",
    "    PC2.m$PlotComp = paste(PC2.m$PlotA, PC2.m$PlotB, sep = \"-\")\n",
    "    PC2.m %>% head\n",
    "\n",
    "#measure distances on PC3\n",
    "PC3dist = dist(sd[,\"PC3\"], method = \"euclidian\")\n",
    "    #melt matrix\n",
    "    PC3.m = melt(as.matrix(PC3dist))\n",
    "\n",
    "    #set column names and create comparison column\n",
    "     colnames(PC3.m) = c(\"PlotA\", \"PlotB\", \"PC3Dist\")\n",
    "    PC3.m$PlotComp = paste(PC3.m$PlotA, PC3.m$PlotB, sep = \"-\")\n",
    "    PC3.m %>% head %>% print\n",
    "\n",
    "sd$logSS = log(sd$SeedSize_mg)\n",
    "\n",
    "Fundist = dist(sd[,c(\"A_Resid_logCN\", \"A_Resid_logB\", \"logSS\")], method = \"euclidian\")\n",
    "    Fun.m = melt(as.matrix(Fundist))\n",
    "\n",
    "    #set column names and create comparison column\n",
    "     colnames(Fun.m) = c(\"PlotA\", \"PlotB\", \"FunDist\")\n",
    "    Fun.m$PlotComp = paste(Fun.m$PlotA, PC3.m$PlotB, sep = \"-\")\n",
    "    Fun.m %>% head %>% print\n",
    "PCA.m = left_join(PC1.m, PC2.m[,c(3,4)], by = \"PlotComp\")\n",
    "PCA.m = left_join(PCA.m, PC3.m[,c(3,4)], by = \"PlotComp\")\n",
    "PCA.m = left_join(PCA.m, Fun.m[,c(3,4)], by = \"PlotComp\")\n",
    "\n",
    "head(PCA.m)"
   ]
  },
  {
   "cell_type": "code",
   "execution_count": 172,
   "metadata": {
    "collapsed": false
   },
   "outputs": [
    {
     "data": {
      "text/plain": [
       "              PlotA             PlotB w_Unif_Dist PlantA PlantB     PlantComp\n",
       "1 sample5-1.22_Nneg sample5-1.22_Nneg   0.0000000 75-062 75-062 75-062-75-062\n",
       "2 sample4-2.02_Nneg sample5-1.22_Nneg   0.2069072  SETFA 75-062  SETFA-75-062\n",
       "3 sample4-4.21_Nneg sample5-1.22_Nneg   0.1605861  SETFA 75-062  SETFA-75-062\n",
       "4 sample5-2.29_Nneg sample5-1.22_Nneg   0.1505018 75-062 75-062 75-062-75-062\n",
       "5 sample5-2.06_Nneg sample5-1.22_Nneg   0.1332870   MS71 75-062   MS71-75-062\n",
       "6 sample1-2.23_Nneg sample5-1.22_Nneg   0.1635179  FAGES 75-062  FAGES-75-062\n",
       "                             PlotComp\n",
       "1 sample5-1.22_Nneg-sample5-1.22_Nneg\n",
       "2 sample4-2.02_Nneg-sample5-1.22_Nneg\n",
       "3 sample4-4.21_Nneg-sample5-1.22_Nneg\n",
       "4 sample5-2.29_Nneg-sample5-1.22_Nneg\n",
       "5 sample5-2.06_Nneg-sample5-1.22_Nneg\n",
       "6 sample1-2.23_Nneg-sample5-1.22_Nneg\n"
      ]
     },
     "metadata": {},
     "output_type": "display_data"
    }
   ],
   "source": [
    "%%R\n",
    "head(ud.m)"
   ]
  },
  {
   "cell_type": "markdown",
   "metadata": {},
   "source": [
    "## Join unifrac and plant phylogenetic distance; PrimeDist can be used with other subsets of data"
   ]
  },
  {
   "cell_type": "code",
   "execution_count": 173,
   "metadata": {
    "collapsed": false,
    "scrolled": true
   },
   "outputs": [
    {
     "data": {
      "text/plain": [
       "                 PlotA             PlotB w_Unif_Dist PlantA PlantB   PlantComp\n",
       "7564 sample8-1.23_Nneg sample8-3.03_Nneg   0.1984166    Ki3  ELCOR   Ki3-ELCOR\n",
       "7565 sample6-2.14_Nneg sample8-3.03_Nneg   0.2503097  Hp301  ELCOR Hp301-ELCOR\n",
       "7566 sample8-4.04_Nneg sample8-3.03_Nneg   0.2377478   Mo18  ELCOR  Mo18-ELCOR\n",
       "7567 sample3-3.30_Nneg sample8-3.03_Nneg   0.2233484  ABUTH  ELCOR ABUTH-ELCOR\n",
       "7568 sample7-4.14_Nneg sample8-3.03_Nneg   0.2893173  SORBI  ELCOR SORBI-ELCOR\n",
       "7569 sample8-3.03_Nneg sample8-3.03_Nneg   0.0000000  ELCOR  ELCOR ELCOR-ELCOR\n",
       "                                PlotComp phy_Dist\n",
       "7564 sample8-1.23_Nneg-sample8-3.03_Nneg  0.05090\n",
       "7565 sample6-2.14_Nneg-sample8-3.03_Nneg  0.05090\n",
       "7566 sample8-4.04_Nneg-sample8-3.03_Nneg  0.05090\n",
       "7567 sample3-3.30_Nneg-sample8-3.03_Nneg  0.36639\n",
       "7568 sample7-4.14_Nneg-sample8-3.03_Nneg  0.04779\n",
       "7569 sample8-3.03_Nneg-sample8-3.03_Nneg  0.00000\n"
      ]
     },
     "metadata": {},
     "output_type": "display_data"
    }
   ],
   "source": [
    "%%R\n",
    "PrimeDist = left_join(ud.m, pd.m[,c(3,4)], by = \"PlantComp\")\n",
    "tail(PrimeDist) %>% print\n",
    "\n",
    "#Join with \n"
   ]
  },
  {
   "cell_type": "markdown",
   "metadata": {},
   "source": [
    "## Join with functional variables"
   ]
  },
  {
   "cell_type": "code",
   "execution_count": 174,
   "metadata": {
    "collapsed": false
   },
   "outputs": [
    {
     "data": {
      "text/plain": [
       "                 PlotA             PlotB w_Unif_Dist PlantA PlantB   PlantComp\n",
       "7564 sample8-1.23_Nneg sample8-3.03_Nneg   0.1984166    Ki3  ELCOR   Ki3-ELCOR\n",
       "7565 sample6-2.14_Nneg sample8-3.03_Nneg   0.2503097  Hp301  ELCOR Hp301-ELCOR\n",
       "7566 sample8-4.04_Nneg sample8-3.03_Nneg   0.2377478   Mo18  ELCOR  Mo18-ELCOR\n",
       "7567 sample3-3.30_Nneg sample8-3.03_Nneg   0.2233484  ABUTH  ELCOR ABUTH-ELCOR\n",
       "7568 sample7-4.14_Nneg sample8-3.03_Nneg   0.2893173  SORBI  ELCOR SORBI-ELCOR\n",
       "7569 sample8-3.03_Nneg sample8-3.03_Nneg   0.0000000  ELCOR  ELCOR ELCOR-ELCOR\n",
       "                                PlotComp phy_Dist   PC1Dist  PC2Dist    PC3Dist\n",
       "7564 sample8-1.23_Nneg-sample8-3.03_Nneg  0.05090 2.7268898 1.375805 0.27738139\n",
       "7565 sample6-2.14_Nneg-sample8-3.03_Nneg  0.05090 2.1576052 1.719485 1.14001790\n",
       "7566 sample8-4.04_Nneg-sample8-3.03_Nneg  0.05090 3.6289285 2.666334 0.36598808\n",
       "7567 sample3-3.30_Nneg-sample8-3.03_Nneg  0.36639 0.6642694 1.754731 0.06013177\n",
       "7568 sample7-4.14_Nneg-sample8-3.03_Nneg  0.04779 1.1130615 2.488505 0.49900662\n",
       "7569 sample8-3.03_Nneg-sample8-3.03_Nneg  0.00000 0.0000000 0.000000 0.00000000\n",
       "      FunDist\n",
       "7564 2.731079\n",
       "7565 3.661158\n",
       "7566 2.845966\n",
       "7567 1.188175\n",
       "7568 2.397301\n",
       "7569 0.000000\n"
      ]
     },
     "metadata": {},
     "output_type": "display_data"
    }
   ],
   "source": [
    "%%R\n",
    "Dist = left_join(PrimeDist, PCA.m[,c(3,4,5,6,7)], by = \"PlotComp\")\n",
    "tail(Dist) %>% print\n"
   ]
  },
  {
   "cell_type": "markdown",
   "metadata": {},
   "source": [
    "# Mantel test of phylogenetic distance and microbial community distance"
   ]
  },
  {
   "cell_type": "markdown",
   "metadata": {},
   "source": [
    "## Set up distance matrices"
   ]
  },
  {
   "cell_type": "code",
   "execution_count": 175,
   "metadata": {
    "collapsed": false
   },
   "outputs": [
    {
     "data": {
      "text/plain": [
       " [1] \"X.sample\"            \"Library\"             \"Primer_Plate\"       \n",
       " [4] \"Primer_Well_ID\"      \"primerFR_ID_byPlate\" \"primerFR_ID_total\"  \n",
       " [7] \"barcode_ID\"          \"PlotID\"              \"Plant\"              \n",
       "[10] \"Plot\"                \"Treatment\"           \"Rep\"                \n",
       "[13] \"DAP\"                 \"Sampling\"            \"PlantSample\"        \n",
       "[16] \"Type\"                \"Grass_Broad\"         \"Status\"             \n",
       "[19] \"Subfamily\"           \"fwd_barcode\"         \"rev_barcode\"        \n",
       "[22] \"Planted\"             \"Biomass_P\"           \"SLA\"                \n",
       "[25] \"Leaf_N\"              \"Leaf_C\"              \"LeafC_N\"            \n",
       "[28] \"LNa\"                 \"Plant_N\"             \"Plant_C\"            \n",
       "[31] \"Plant_CN\"            \"d15N\"                \"tN_p\"               \n",
       "[34] \"BX_activity_g\"       \"CB_activity_g\"       \"LAP_activity_g\"     \n",
       "[37] \"NAG_activity_g\"      \"BX_rel\"              \"CB_rel\"             \n",
       "[40] \"LAP_rel\"             \"NAG_rel\"             \"NO3_ug_g\"           \n",
       "[43] \"NH4_ug_g\"            \"InorganicN\"          \"Resid_logB\"         \n",
       "[46] \"Resid_logN\"          \"Resid_logCN\"         \"Resid_logSLA\"       \n",
       "[49] \"Resid_LeafN\"         \"A_Resid_logB\"        \"A_Resid_logN\"       \n",
       "[52] \"A_Resid_logCN\"       \"M_Resid_logB\"        \"M_Resid_logN\"       \n",
       "[55] \"M_Resid_logCN\"       \"SeedSize_mg\"         \"PC1\"                \n",
       "[58] \"PC2\"                 \"PC3\"                 \"logSS\"              \n"
      ]
     },
     "metadata": {},
     "output_type": "display_data"
    }
   ],
   "source": [
    "%%R\n",
    "colnames(sd)"
   ]
  },
  {
   "cell_type": "code",
   "execution_count": 176,
   "metadata": {
    "collapsed": false
   },
   "outputs": [
    {
     "data": {
      "text/plain": [
       " [1] \"PlotA\"       \"PlotB\"       \"w_Unif_Dist\" \"PlantA\"      \"PlantB\"     \n",
       " [6] \"PlantComp\"   \"PlotComp\"    \"phy_Dist\"    \"PC1Dist\"     \"PC2Dist\"    \n",
       "[11] \"PC3Dist\"     \"FunDist\"    \n"
      ]
     },
     "metadata": {},
     "output_type": "display_data"
    }
   ],
   "source": [
    "%%R\n",
    "colnames(Dist)"
   ]
  },
  {
   "cell_type": "code",
   "execution_count": 177,
   "metadata": {
    "collapsed": false
   },
   "outputs": [
    {
     "data": {
      "text/plain": [
       "                 PlotA             PlotB w_Unif_Dist PlantA PlantB   PlantComp\n",
       "7564 sample8-1.23_Nneg sample8-3.03_Nneg   0.1984166    Ki3  ELCOR   Ki3-ELCOR\n",
       "7565 sample6-2.14_Nneg sample8-3.03_Nneg   0.2503097  Hp301  ELCOR Hp301-ELCOR\n",
       "7566 sample8-4.04_Nneg sample8-3.03_Nneg   0.2377478   Mo18  ELCOR  Mo18-ELCOR\n",
       "7567 sample3-3.30_Nneg sample8-3.03_Nneg   0.2233484  ABUTH  ELCOR ABUTH-ELCOR\n",
       "7568 sample7-4.14_Nneg sample8-3.03_Nneg   0.2893173  SORBI  ELCOR SORBI-ELCOR\n",
       "7569 sample8-3.03_Nneg sample8-3.03_Nneg   0.0000000  ELCOR  ELCOR ELCOR-ELCOR\n",
       "                                PlotComp phy_Dist   PC1Dist  PC2Dist    PC3Dist\n",
       "7564 sample8-1.23_Nneg-sample8-3.03_Nneg  0.05090 2.7268898 1.375805 0.27738139\n",
       "7565 sample6-2.14_Nneg-sample8-3.03_Nneg  0.05090 2.1576052 1.719485 1.14001790\n",
       "7566 sample8-4.04_Nneg-sample8-3.03_Nneg  0.05090 3.6289285 2.666334 0.36598808\n",
       "7567 sample3-3.30_Nneg-sample8-3.03_Nneg  0.36639 0.6642694 1.754731 0.06013177\n",
       "7568 sample7-4.14_Nneg-sample8-3.03_Nneg  0.04779 1.1130615 2.488505 0.49900662\n",
       "7569 sample8-3.03_Nneg-sample8-3.03_Nneg  0.00000 0.0000000 0.000000 0.00000000\n",
       "      FunDist DAY_A\n",
       "7564 2.731079    88\n",
       "7565 3.661158    79\n",
       "7566 2.845966    88\n",
       "7567 1.188175    57\n",
       "7568 2.397301    84\n",
       "7569 0.000000    88\n",
       "                 PlotA             PlotB w_Unif_Dist PlantA PlantB   PlantComp\n",
       "7564 sample8-1.23_Nneg sample8-3.03_Nneg   0.1984166    Ki3  ELCOR   Ki3-ELCOR\n",
       "7565 sample6-2.14_Nneg sample8-3.03_Nneg   0.2503097  Hp301  ELCOR Hp301-ELCOR\n",
       "7566 sample8-4.04_Nneg sample8-3.03_Nneg   0.2377478   Mo18  ELCOR  Mo18-ELCOR\n",
       "7567 sample3-3.30_Nneg sample8-3.03_Nneg   0.2233484  ABUTH  ELCOR ABUTH-ELCOR\n",
       "7568 sample7-4.14_Nneg sample8-3.03_Nneg   0.2893173  SORBI  ELCOR SORBI-ELCOR\n",
       "7569 sample8-3.03_Nneg sample8-3.03_Nneg   0.0000000  ELCOR  ELCOR ELCOR-ELCOR\n",
       "                                PlotComp phy_Dist   PC1Dist  PC2Dist    PC3Dist\n",
       "7564 sample8-1.23_Nneg-sample8-3.03_Nneg  0.05090 2.7268898 1.375805 0.27738139\n",
       "7565 sample6-2.14_Nneg-sample8-3.03_Nneg  0.05090 2.1576052 1.719485 1.14001790\n",
       "7566 sample8-4.04_Nneg-sample8-3.03_Nneg  0.05090 3.6289285 2.666334 0.36598808\n",
       "7567 sample3-3.30_Nneg-sample8-3.03_Nneg  0.36639 0.6642694 1.754731 0.06013177\n",
       "7568 sample7-4.14_Nneg-sample8-3.03_Nneg  0.04779 1.1130615 2.488505 0.49900662\n",
       "7569 sample8-3.03_Nneg-sample8-3.03_Nneg  0.00000 0.0000000 0.000000 0.00000000\n",
       "      FunDist DAY_A DAY_B TimeDist\n",
       "7564 2.731079    88    88        0\n",
       "7565 3.661158    79    88        9\n",
       "7566 2.845966    88    88        0\n",
       "7567 1.188175    57    88       31\n",
       "7568 2.397301    84    88        4\n",
       "7569 0.000000    88    88        0\n"
      ]
     },
     "metadata": {},
     "output_type": "display_data"
    }
   ],
   "source": [
    "%%R\n",
    "#Join with \n",
    "# Join DAP information and library information\n",
    "Dist = left_join(Dist, sd[,c(1,13)], by = c(\"PlotA\" = \"X.sample\"))\n",
    "colnames(Dist)[13] = c(\"DAY_A\")\n",
    "tail(Dist) %>% print\n",
    "\n",
    "Dist = left_join(Dist, sd[,c(1,13)], by = c(\"PlotB\" = \"X.sample\"))\n",
    "colnames(Dist)[14] = c(\"DAY_B\")\n",
    "\n",
    "\n",
    "\n",
    "# set DAY_A and DAY_B as factor\n",
    "Dist$DAY_A = as.factor(Dist$DAY_A)\n",
    "Dist$DAY_B = as.factor(Dist$DAY_B)\n",
    "Dist$TimeDist = abs(as.numeric(as.character(Dist$DAY_A)) - as.numeric(as.character(Dist$DAY_B)))\n",
    "tail(Dist) %>% print"
   ]
  },
  {
   "cell_type": "code",
   "execution_count": 178,
   "metadata": {
    "collapsed": false
   },
   "outputs": [
    {
     "data": {
      "text/plain": [
       " [1] \"PlotA\"       \"PlotB\"       \"w_Unif_Dist\" \"PlantA\"      \"PlantB\"     \n",
       " [6] \"PlantComp\"   \"PlotComp\"    \"phy_Dist\"    \"PC1Dist\"     \"PC2Dist\"    \n",
       "[11] \"PC3Dist\"     \"FunDist\"     \"DAY_A\"       \"DAY_B\"       \"TimeDist\"   \n"
      ]
     },
     "metadata": {},
     "output_type": "display_data"
    }
   ],
   "source": [
    "%%R\n",
    "colnames(Dist)"
   ]
  },
  {
   "cell_type": "code",
   "execution_count": 179,
   "metadata": {
    "collapsed": false
   },
   "outputs": [
    {
     "data": {
      "text/plain": [
       "              PlotA             PlotB w_Unif_Dist PlantA PlantB     PlantComp\n",
       "1 sample5-1.22_Nneg sample5-1.22_Nneg   0.0000000 75-062 75-062 75-062-75-062\n",
       "2 sample4-2.02_Nneg sample5-1.22_Nneg   0.2069072  SETFA 75-062  SETFA-75-062\n",
       "3 sample4-4.21_Nneg sample5-1.22_Nneg   0.1605861  SETFA 75-062  SETFA-75-062\n",
       "4 sample5-2.29_Nneg sample5-1.22_Nneg   0.1505018 75-062 75-062 75-062-75-062\n",
       "5 sample5-2.06_Nneg sample5-1.22_Nneg   0.1332870   MS71 75-062   MS71-75-062\n",
       "6 sample1-2.23_Nneg sample5-1.22_Nneg   0.1635179  FAGES 75-062  FAGES-75-062\n",
       "                             PlotComp phy_Dist  PC1Dist   PC2Dist    PC3Dist\n",
       "1 sample5-1.22_Nneg-sample5-1.22_Nneg  0.00000 0.000000 0.0000000 0.00000000\n",
       "2 sample4-2.02_Nneg-sample5-1.22_Nneg  0.03111 2.193246 1.0200845 0.17182051\n",
       "3 sample4-4.21_Nneg-sample5-1.22_Nneg  0.03111 2.240768 0.6489823 0.01426713\n",
       "4 sample5-2.29_Nneg-sample5-1.22_Nneg  0.00000 1.251588 0.6725688 0.37236147\n",
       "5 sample5-2.06_Nneg-sample5-1.22_Nneg  0.00020 1.101078 0.0336699 0.52468978\n",
       "6 sample1-2.23_Nneg-sample5-1.22_Nneg  0.43787 3.665746 1.4929501 0.89750562\n",
       "    FunDist DAY_A DAY_B TimeDist\n",
       "1 0.0000000    72    72        0\n",
       "2 2.1589516    61    72       11\n",
       "3 2.1622869    61    72       11\n",
       "4 0.3512347    72    72        0\n",
       "5 0.4132069    72    72        0\n",
       "6 5.2152628    36    72       36\n"
      ]
     },
     "metadata": {},
     "output_type": "display_data"
    }
   ],
   "source": [
    "%%R\n",
    "head(Dist) %>% print\n",
    "#Remove NAs to trim dataset\n",
    "#Temp = Dist[!is.na(Dist$phy_Dist),]\n",
    "#dim(Temp) %>% print\n",
    "\n",
    "#Seperate unifrac and phylogenetic distances retaining plot IDs\n",
    "U = Dist[,c(1,2,3)]\n",
    "Phy = Dist[,c(1,2,8)]\n",
    "Fun = Dist[,c(1,2,12)]\n",
    "T = Dist[,c(1,2,15)]\n",
    "#Re-cast longform to wide form.  \n",
    "\n",
    "Udist = acast(U, PlotA~PlotB)\n",
    "Phydist = acast(Phy, PlotA~PlotB)\n",
    "Fdist = acast(Fun, PlotA~PlotB)\n",
    "Tdist = acast(T, PlotA~PlotB) \n",
    "\n",
    "#Convert to distance matrices\n",
    "Phydist = as.matrix(Phydist) \n",
    "Udist = as.matrix(Udist)  \n",
    "Fdist = as.matrix(Fdist) \n",
    "Tdist = as.matrix(Tdist) "
   ]
  },
  {
   "cell_type": "code",
   "execution_count": 180,
   "metadata": {
    "collapsed": false
   },
   "outputs": [
    {
     "data": {
      "text/plain": [
       "                  sample1-1.27_Nneg sample1-2.23_Nneg sample1-3.08_Nneg\n",
       "sample1-1.27_Nneg                 0                 0                 0\n",
       "sample1-2.23_Nneg                 0                 0                 0\n",
       "sample1-3.08_Nneg                 0                 0                 0\n",
       "sample1-4.24_Nneg                 0                 0                 0\n",
       "sample2-1.08_Nneg                17                17                17\n",
       "sample2-1.24_Nneg                17                17                17\n",
       "                  sample1-4.24_Nneg sample2-1.08_Nneg sample2-1.24_Nneg\n",
       "sample1-1.27_Nneg                 0                17                17\n",
       "sample1-2.23_Nneg                 0                17                17\n",
       "sample1-3.08_Nneg                 0                17                17\n",
       "sample1-4.24_Nneg                 0                17                17\n",
       "sample2-1.08_Nneg                17                 0                 0\n",
       "sample2-1.24_Nneg                17                 0                 0\n",
       "                  sample2-2.08_Nneg sample2-2.10_Nneg sample2-3.05_Nneg\n",
       "sample1-1.27_Nneg                17                17                17\n",
       "sample1-2.23_Nneg                17                17                17\n",
       "sample1-3.08_Nneg                17                17                17\n",
       "sample1-4.24_Nneg                17                17                17\n",
       "sample2-1.08_Nneg                 0                 0                 0\n",
       "sample2-1.24_Nneg                 0                 0                 0\n",
       "                  sample2-3.20_Nneg sample2-4.25_Nneg sample3-1.09_Nneg\n",
       "sample1-1.27_Nneg                17                17                21\n",
       "sample1-2.23_Nneg                17                17                21\n",
       "sample1-3.08_Nneg                17                17                21\n",
       "sample1-4.24_Nneg                17                17                21\n",
       "sample2-1.08_Nneg                 0                 0                 4\n",
       "sample2-1.24_Nneg                 0                 0                 4\n",
       "                  sample3-1.20_Nneg sample3-2.03_Nneg sample3-2.19_Nneg\n",
       "sample1-1.27_Nneg                21                21                21\n",
       "sample1-2.23_Nneg                21                21                21\n",
       "sample1-3.08_Nneg                21                21                21\n",
       "sample1-4.24_Nneg                21                21                21\n",
       "sample2-1.08_Nneg                 4                 4                 4\n",
       "sample2-1.24_Nneg                 4                 4                 4\n",
       "                  sample3-3.06_Nneg sample3-3.30_Nneg sample3-4.15_Nneg\n",
       "sample1-1.27_Nneg                21                21                21\n",
       "sample1-2.23_Nneg                21                21                21\n",
       "sample1-3.08_Nneg                21                21                21\n",
       "sample1-4.24_Nneg                21                21                21\n",
       "sample2-1.08_Nneg                 4                 4                 4\n",
       "sample2-1.24_Nneg                 4                 4                 4\n",
       "                  sample3-4.18_Nneg sample4-1.03_Nneg sample4-2.02_Nneg\n",
       "sample1-1.27_Nneg                21                25                25\n",
       "sample1-2.23_Nneg                21                25                25\n",
       "sample1-3.08_Nneg                21                25                25\n",
       "sample1-4.24_Nneg                21                25                25\n",
       "sample2-1.08_Nneg                 4                 8                 8\n",
       "sample2-1.24_Nneg                 4                 8                 8\n",
       "                  sample4-3.10_Nneg sample4-4.21_Nneg sample5-1.16_Nneg\n",
       "sample1-1.27_Nneg                25                25                36\n",
       "sample1-2.23_Nneg                25                25                36\n",
       "sample1-3.08_Nneg                25                25                36\n",
       "sample1-4.24_Nneg                25                25                36\n",
       "sample2-1.08_Nneg                 8                 8                19\n",
       "sample2-1.24_Nneg                 8                 8                19\n",
       "                  sample5-1.17_Nneg sample5-1.22_Nneg sample5-1.25_Nneg\n",
       "sample1-1.27_Nneg                36                36                36\n",
       "sample1-2.23_Nneg                36                36                36\n",
       "sample1-3.08_Nneg                36                36                36\n",
       "sample1-4.24_Nneg                36                36                36\n",
       "sample2-1.08_Nneg                19                19                19\n",
       "sample2-1.24_Nneg                19                19                19\n",
       "                  sample5-1.29_Nneg sample5-2.06_Nneg sample5-2.11_Nneg\n",
       "sample1-1.27_Nneg                36                36                36\n",
       "sample1-2.23_Nneg                36                36                36\n",
       "sample1-3.08_Nneg                36                36                36\n",
       "sample1-4.24_Nneg                36                36                36\n",
       "sample2-1.08_Nneg                19                19                19\n",
       "sample2-1.24_Nneg                19                19                19\n",
       "                  sample5-2.15_Nneg sample5-2.18_Nneg sample5-2.29_Nneg\n",
       "sample1-1.27_Nneg                36                36                36\n",
       "sample1-2.23_Nneg                36                36                36\n",
       "sample1-3.08_Nneg                36                36                36\n",
       "sample1-4.24_Nneg                36                36                36\n",
       "sample2-1.08_Nneg                19                19                19\n",
       "sample2-1.24_Nneg                19                19                19\n",
       "                  sample5-3.11_Nneg sample5-3.13_Nneg sample5-3.16_Nneg\n",
       "sample1-1.27_Nneg                36                36                36\n",
       "sample1-2.23_Nneg                36                36                36\n",
       "sample1-3.08_Nneg                36                36                36\n",
       "sample1-4.24_Nneg                36                36                36\n",
       "sample2-1.08_Nneg                19                19                19\n",
       "sample2-1.24_Nneg                19                19                19\n",
       "                  sample5-3.17_Nneg sample5-3.27_Nneg sample5-4.05_Nneg\n",
       "sample1-1.27_Nneg                36                36                36\n",
       "sample1-2.23_Nneg                36                36                36\n",
       "sample1-3.08_Nneg                36                36                36\n",
       "sample1-4.24_Nneg                36                36                36\n",
       "sample2-1.08_Nneg                19                19                19\n",
       "sample2-1.24_Nneg                19                19                19\n",
       "                  sample5-4.06_Nneg sample5-4.08_Nneg sample5-4.09_Nneg\n",
       "sample1-1.27_Nneg                36                36                36\n",
       "sample1-2.23_Nneg                36                36                36\n",
       "sample1-3.08_Nneg                36                36                36\n",
       "sample1-4.24_Nneg                36                36                36\n",
       "sample2-1.08_Nneg                19                19                19\n",
       "sample2-1.24_Nneg                19                19                19\n",
       "                  sample5-4.28_Nneg sample6-1.07_Nneg sample6-1.12_Nneg\n",
       "sample1-1.27_Nneg                36                43                43\n",
       "sample1-2.23_Nneg                36                43                43\n",
       "sample1-3.08_Nneg                36                43                43\n",
       "sample1-4.24_Nneg                36                43                43\n",
       "sample2-1.08_Nneg                19                26                26\n",
       "sample2-1.24_Nneg                19                26                26\n",
       "                  sample6-1.15_Nneg sample6-1.18_Nneg sample6-2.13_Nneg\n",
       "sample1-1.27_Nneg                43                43                43\n",
       "sample1-2.23_Nneg                43                43                43\n",
       "sample1-3.08_Nneg                43                43                43\n",
       "sample1-4.24_Nneg                43                43                43\n",
       "sample2-1.08_Nneg                26                26                26\n",
       "sample2-1.24_Nneg                26                26                26\n",
       "                  sample6-2.14_Nneg sample6-2.16_Nneg sample6-2.26_Nneg\n",
       "sample1-1.27_Nneg                43                43                43\n",
       "sample1-2.23_Nneg                43                43                43\n",
       "sample1-3.08_Nneg                43                43                43\n",
       "sample1-4.24_Nneg                43                43                43\n",
       "sample2-1.08_Nneg                26                26                26\n",
       "sample2-1.24_Nneg                26                26                26\n",
       "                  sample6-3.01_Nneg sample6-3.04_Nneg sample6-3.09_Nneg\n",
       "sample1-1.27_Nneg                43                43                43\n",
       "sample1-2.23_Nneg                43                43                43\n",
       "sample1-3.08_Nneg                43                43                43\n",
       "sample1-4.24_Nneg                43                43                43\n",
       "sample2-1.08_Nneg                26                26                26\n",
       "sample2-1.24_Nneg                26                26                26\n",
       "                  sample6-3.18_Nneg sample6-4.12_Nneg sample6-4.13_Nneg\n",
       "sample1-1.27_Nneg                43                43                43\n",
       "sample1-2.23_Nneg                43                43                43\n",
       "sample1-3.08_Nneg                43                43                43\n",
       "sample1-4.24_Nneg                43                43                43\n",
       "sample2-1.08_Nneg                26                26                26\n",
       "sample2-1.24_Nneg                26                26                26\n",
       "                  sample6-4.17_Nneg sample6-4.30_Nneg sample7-1.04_Nneg\n",
       "sample1-1.27_Nneg                43                43                48\n",
       "sample1-2.23_Nneg                43                43                48\n",
       "sample1-3.08_Nneg                43                43                48\n",
       "sample1-4.24_Nneg                43                43                48\n",
       "sample2-1.08_Nneg                26                26                31\n",
       "sample2-1.24_Nneg                26                26                31\n",
       "                  sample7-1.13_Nneg sample7-1.28_Nneg sample7-2.12_Nneg\n",
       "sample1-1.27_Nneg                48                48                48\n",
       "sample1-2.23_Nneg                48                48                48\n",
       "sample1-3.08_Nneg                48                48                48\n",
       "sample1-4.24_Nneg                48                48                48\n",
       "sample2-1.08_Nneg                31                31                31\n",
       "sample2-1.24_Nneg                31                31                31\n",
       "                  sample7-2.28_Nneg sample7-2.30_Nneg sample7-3.12_Nneg\n",
       "sample1-1.27_Nneg                48                48                48\n",
       "sample1-2.23_Nneg                48                48                48\n",
       "sample1-3.08_Nneg                48                48                48\n",
       "sample1-4.24_Nneg                48                48                48\n",
       "sample2-1.08_Nneg                31                31                31\n",
       "sample2-1.24_Nneg                31                31                31\n",
       "                  sample7-3.19_Nneg sample7-3.25_Nneg sample7-4.02_Nneg\n",
       "sample1-1.27_Nneg                48                48                48\n",
       "sample1-2.23_Nneg                48                48                48\n",
       "sample1-3.08_Nneg                48                48                48\n",
       "sample1-4.24_Nneg                48                48                48\n",
       "sample2-1.08_Nneg                31                31                31\n",
       "sample2-1.24_Nneg                31                31                31\n",
       "                  sample7-4.03_Nneg sample7-4.14_Nneg sample8-1.10_Nneg\n",
       "sample1-1.27_Nneg                48                48                52\n",
       "sample1-2.23_Nneg                48                48                52\n",
       "sample1-3.08_Nneg                48                48                52\n",
       "sample1-4.24_Nneg                48                48                52\n",
       "sample2-1.08_Nneg                31                31                35\n",
       "sample2-1.24_Nneg                31                31                35\n",
       "                  sample8-1.14_Nneg sample8-1.19_Nneg sample8-1.23_Nneg\n",
       "sample1-1.27_Nneg                52                52                52\n",
       "sample1-2.23_Nneg                52                52                52\n",
       "sample1-3.08_Nneg                52                52                52\n",
       "sample1-4.24_Nneg                52                52                52\n",
       "sample2-1.08_Nneg                35                35                35\n",
       "sample2-1.24_Nneg                35                35                35\n",
       "                  sample8-2.07_Nneg sample8-2.17_Nneg sample8-2.22_Nneg\n",
       "sample1-1.27_Nneg                52                52                52\n",
       "sample1-2.23_Nneg                52                52                52\n",
       "sample1-3.08_Nneg                52                52                52\n",
       "sample1-4.24_Nneg                52                52                52\n",
       "sample2-1.08_Nneg                35                35                35\n",
       "sample2-1.24_Nneg                35                35                35\n",
       "                  sample8-2.25_Nneg sample8-3.03_Nneg sample8-3.23_Nneg\n",
       "sample1-1.27_Nneg                52                52                52\n",
       "sample1-2.23_Nneg                52                52                52\n",
       "sample1-3.08_Nneg                52                52                52\n",
       "sample1-4.24_Nneg                52                52                52\n",
       "sample2-1.08_Nneg                35                35                35\n",
       "sample2-1.24_Nneg                35                35                35\n",
       "                  sample8-3.28_Nneg sample8-3.29_Nneg sample8-4.01_Nneg\n",
       "sample1-1.27_Nneg                52                52                52\n",
       "sample1-2.23_Nneg                52                52                52\n",
       "sample1-3.08_Nneg                52                52                52\n",
       "sample1-4.24_Nneg                52                52                52\n",
       "sample2-1.08_Nneg                35                35                35\n",
       "sample2-1.24_Nneg                35                35                35\n",
       "                  sample8-4.04_Nneg sample8-4.07_Nneg sample8-4.23_Nneg\n",
       "sample1-1.27_Nneg                52                52                52\n",
       "sample1-2.23_Nneg                52                52                52\n",
       "sample1-3.08_Nneg                52                52                52\n",
       "sample1-4.24_Nneg                52                52                52\n",
       "sample2-1.08_Nneg                35                35                35\n",
       "sample2-1.24_Nneg                35                35                35\n"
      ]
     },
     "metadata": {},
     "output_type": "display_data"
    }
   ],
   "source": [
    "%%R\n",
    "head(Tdist)"
   ]
  },
  {
   "cell_type": "code",
   "execution_count": 181,
   "metadata": {
    "collapsed": false,
    "scrolled": true
   },
   "outputs": [
    {
     "data": {
      "text/plain": [
       "                  sample1-1.27_Nneg sample1-2.23_Nneg sample1-3.08_Nneg\n",
       "sample8-3.28_Nneg         0.2035878         0.1937285         0.1888692\n",
       "sample8-3.29_Nneg         0.2043026         0.1804932         0.1875034\n",
       "sample8-4.01_Nneg         0.3236106         0.2861461         0.3200159\n",
       "sample8-4.04_Nneg         0.3559111         0.3015378         0.3290587\n",
       "sample8-4.07_Nneg         0.2132004         0.1840263         0.1952161\n",
       "sample8-4.23_Nneg         0.2907897         0.2445130         0.2686888\n",
       "                  sample1-4.24_Nneg sample2-1.08_Nneg sample2-1.24_Nneg\n",
       "sample8-3.28_Nneg         0.2224042         0.2748399         0.1849177\n",
       "sample8-3.29_Nneg         0.2110807         0.2770952         0.2393820\n",
       "sample8-4.01_Nneg         0.3185274         0.3611532         0.2604291\n",
       "sample8-4.04_Nneg         0.3260580         0.2957632         0.3000801\n",
       "sample8-4.07_Nneg         0.2169441         0.2672723         0.2346908\n",
       "sample8-4.23_Nneg         0.2690898         0.2577768         0.2667520\n",
       "                  sample2-2.08_Nneg sample2-2.10_Nneg sample2-3.05_Nneg\n",
       "sample8-3.28_Nneg         0.2030009         0.2921003         0.2316796\n",
       "sample8-3.29_Nneg         0.2335973         0.3058193         0.2622727\n",
       "sample8-4.01_Nneg         0.2803743         0.3351560         0.2911340\n",
       "sample8-4.04_Nneg         0.3171468         0.3152824         0.3622587\n",
       "sample8-4.07_Nneg         0.2179292         0.3026254         0.2540130\n",
       "sample8-4.23_Nneg         0.2607788         0.2993391         0.2953645\n",
       "                  sample2-3.20_Nneg sample2-4.25_Nneg sample3-1.09_Nneg\n",
       "sample8-3.28_Nneg         0.1611488         0.2468526         0.2085550\n",
       "sample8-3.29_Nneg         0.1873515         0.2909727         0.2283476\n",
       "sample8-4.01_Nneg         0.2602463         0.3046931         0.3034255\n",
       "sample8-4.04_Nneg         0.3097674         0.3757776         0.2621103\n",
       "sample8-4.07_Nneg         0.2007579         0.2770820         0.2181950\n",
       "sample8-4.23_Nneg         0.2429752         0.3210698         0.2271704\n",
       "                  sample3-1.20_Nneg sample3-2.03_Nneg sample3-2.19_Nneg\n",
       "sample8-3.28_Nneg         0.1764939         0.3501092         0.1913668\n",
       "sample8-3.29_Nneg         0.1624312         0.3743165         0.2112370\n",
       "sample8-4.01_Nneg         0.2602323         0.4369277         0.2757873\n",
       "sample8-4.04_Nneg         0.2686096         0.4970061         0.2966199\n",
       "sample8-4.07_Nneg         0.1843336         0.3920630         0.2056392\n",
       "sample8-4.23_Nneg         0.2039245         0.4487371         0.2537007\n",
       "                  sample3-3.06_Nneg sample3-3.30_Nneg sample3-4.15_Nneg\n",
       "sample8-3.28_Nneg         0.2944243         0.2006614         0.2286704\n",
       "sample8-3.29_Nneg         0.3088373         0.2196436         0.2445071\n",
       "sample8-4.01_Nneg         0.3849892         0.2609064         0.3325809\n",
       "sample8-4.04_Nneg         0.3755266         0.3252090         0.3167604\n",
       "sample8-4.07_Nneg         0.3313051         0.2219428         0.2325582\n",
       "sample8-4.23_Nneg         0.3607216         0.2441735         0.2592575\n",
       "                  sample3-4.18_Nneg sample4-1.03_Nneg sample4-2.02_Nneg\n",
       "sample8-3.28_Nneg         0.2789608         0.2026363         0.1971534\n",
       "sample8-3.29_Nneg         0.2969770         0.2246145         0.2223118\n",
       "sample8-4.01_Nneg         0.3536056         0.3190432         0.3114211\n",
       "sample8-4.04_Nneg         0.3896519         0.2847878         0.3104084\n",
       "sample8-4.07_Nneg         0.3003962         0.1960932         0.2325546\n",
       "sample8-4.23_Nneg         0.3433540         0.2532690         0.2912100\n",
       "                  sample4-3.10_Nneg sample4-4.21_Nneg sample5-1.16_Nneg\n",
       "sample8-3.28_Nneg         0.1508397         0.1829096         0.2617970\n",
       "sample8-3.29_Nneg         0.1887043         0.2201578         0.2475896\n",
       "sample8-4.01_Nneg         0.2644875         0.3000883         0.3065952\n",
       "sample8-4.04_Nneg         0.2932689         0.3131513         0.2294182\n",
       "sample8-4.07_Nneg         0.1726481         0.1950168         0.2398341\n",
       "sample8-4.23_Nneg         0.2441404         0.2594429         0.2132537\n",
       "                  sample5-1.17_Nneg sample5-1.22_Nneg sample5-1.25_Nneg\n",
       "sample8-3.28_Nneg         0.2173381         0.1690040         0.2037396\n",
       "sample8-3.29_Nneg         0.2207670         0.1982243         0.2589851\n",
       "sample8-4.01_Nneg         0.2934191         0.3054234         0.3172983\n",
       "sample8-4.04_Nneg         0.2695464         0.3109770         0.3629619\n",
       "sample8-4.07_Nneg         0.2276636         0.1908207         0.2508050\n",
       "sample8-4.23_Nneg         0.2419334         0.2603208         0.3290693\n",
       "                  sample5-1.29_Nneg sample5-2.06_Nneg sample5-2.11_Nneg\n",
       "sample8-3.28_Nneg         0.1755278         0.1498202         0.1896509\n",
       "sample8-3.29_Nneg         0.2165493         0.1615725         0.1716839\n",
       "sample8-4.01_Nneg         0.2572217         0.2908566         0.2612129\n",
       "sample8-4.04_Nneg         0.3286556         0.2469071         0.1998951\n",
       "sample8-4.07_Nneg         0.2021492         0.1593112         0.1686526\n",
       "sample8-4.23_Nneg         0.2736827         0.2007500         0.1482087\n",
       "                  sample5-2.15_Nneg sample5-2.18_Nneg sample5-2.29_Nneg\n",
       "sample8-3.28_Nneg         0.1345879         0.2048607         0.1557873\n",
       "sample8-3.29_Nneg         0.1660838         0.2366796         0.1461368\n",
       "sample8-4.01_Nneg         0.2866790         0.2971893         0.2767424\n",
       "sample8-4.04_Nneg         0.3111674         0.3702135         0.2414760\n",
       "sample8-4.07_Nneg         0.1879997         0.2373695         0.1437660\n",
       "sample8-4.23_Nneg         0.2549317         0.3082574         0.1869921\n",
       "                  sample5-3.11_Nneg sample5-3.13_Nneg sample5-3.16_Nneg\n",
       "sample8-3.28_Nneg         0.2197818         0.1636195         0.2306602\n",
       "sample8-3.29_Nneg         0.2438749         0.1806902         0.2296270\n",
       "sample8-4.01_Nneg         0.3370304         0.2722884         0.2753472\n",
       "sample8-4.04_Nneg         0.3878360         0.1926193         0.1499639\n",
       "sample8-4.07_Nneg         0.2547364         0.1640210         0.1964855\n",
       "sample8-4.23_Nneg         0.3231299         0.1727692         0.1589512\n",
       "                  sample5-3.17_Nneg sample5-3.27_Nneg sample5-4.05_Nneg\n",
       "sample8-3.28_Nneg         0.2371529         0.1636144         0.1788637\n",
       "sample8-3.29_Nneg         0.2779807         0.1831274         0.1776453\n",
       "sample8-4.01_Nneg         0.3439710         0.2859734         0.2628851\n",
       "sample8-4.04_Nneg         0.3736156         0.2384932         0.1928857\n",
       "sample8-4.07_Nneg         0.2693171         0.1588774         0.1512447\n",
       "sample8-4.23_Nneg         0.3313850         0.2097640         0.1545819\n",
       "                  sample5-4.06_Nneg sample5-4.08_Nneg sample5-4.09_Nneg\n",
       "sample8-3.28_Nneg         0.1927062         0.1913407         0.2396174\n",
       "sample8-3.29_Nneg         0.2048907         0.1736342         0.2736611\n",
       "sample8-4.01_Nneg         0.3085787         0.2667103         0.3529404\n",
       "sample8-4.04_Nneg         0.3329935         0.1853082         0.3780242\n",
       "sample8-4.07_Nneg         0.2024788         0.1616798         0.2633084\n",
       "sample8-4.23_Nneg         0.2754985         0.1512602         0.3374671\n",
       "                  sample5-4.28_Nneg sample6-1.07_Nneg sample6-1.12_Nneg\n",
       "sample8-3.28_Nneg         0.1873869         0.2032817         0.2093760\n",
       "sample8-3.29_Nneg         0.2108397         0.2273622         0.2439613\n",
       "sample8-4.01_Nneg         0.3008810         0.2532071         0.3148209\n",
       "sample8-4.04_Nneg         0.3312113         0.1865530         0.2121470\n",
       "sample8-4.07_Nneg         0.2077909         0.1873143         0.2230771\n",
       "sample8-4.23_Nneg         0.2614278         0.1737126         0.2157761\n",
       "                  sample6-1.15_Nneg sample6-1.18_Nneg sample6-2.13_Nneg\n",
       "sample8-3.28_Nneg         0.1911176         0.2251069         0.2193470\n",
       "sample8-3.29_Nneg         0.2052623         0.2348064         0.2272675\n",
       "sample8-4.01_Nneg         0.2641422         0.2319717         0.2283691\n",
       "sample8-4.04_Nneg         0.1701726         0.1655929         0.1454405\n",
       "sample8-4.07_Nneg         0.1830579         0.2107320         0.1991874\n",
       "sample8-4.23_Nneg         0.1728157         0.1630962         0.1337990\n",
       "                  sample6-2.14_Nneg sample6-2.16_Nneg sample6-2.26_Nneg\n",
       "sample8-3.28_Nneg         0.1735555         0.2111195         0.1834771\n",
       "sample8-3.29_Nneg         0.1760254         0.2156154         0.1885080\n",
       "sample8-4.01_Nneg         0.3069579         0.3068410         0.2976150\n",
       "sample8-4.04_Nneg         0.2944427         0.1972432         0.1988440\n",
       "sample8-4.07_Nneg         0.1596666         0.1985861         0.1682463\n",
       "sample8-4.23_Nneg         0.2372730         0.1922320         0.1760309\n",
       "                  sample6-3.01_Nneg sample6-3.04_Nneg sample6-3.09_Nneg\n",
       "sample8-3.28_Nneg         0.1622306         0.1910213         0.1797663\n",
       "sample8-3.29_Nneg         0.1814535         0.2038015         0.1995202\n",
       "sample8-4.01_Nneg         0.2292627         0.2307872         0.2398548\n",
       "sample8-4.04_Nneg         0.1920642         0.1812356         0.2229588\n",
       "sample8-4.07_Nneg         0.1597489         0.1641256         0.2002590\n",
       "sample8-4.23_Nneg         0.1794260         0.1528397         0.2073064\n",
       "                  sample6-3.18_Nneg sample6-4.12_Nneg sample6-4.13_Nneg\n",
       "sample8-3.28_Nneg         0.1684790         0.1664928         0.1737222\n",
       "sample8-3.29_Nneg         0.1902686         0.1905406         0.1661354\n",
       "sample8-4.01_Nneg         0.2384024         0.2713309         0.2606339\n",
       "sample8-4.04_Nneg         0.1959916         0.2706278         0.1807210\n",
       "sample8-4.07_Nneg         0.1578903         0.1595207         0.1531909\n",
       "sample8-4.23_Nneg         0.1818647         0.2200452         0.1250452\n",
       "                  sample6-4.17_Nneg sample6-4.30_Nneg sample7-1.04_Nneg\n",
       "sample8-3.28_Nneg         0.1966533         0.2091755         0.2961820\n",
       "sample8-3.29_Nneg         0.2331529         0.2491013         0.2768505\n",
       "sample8-4.01_Nneg         0.3133772         0.2753626         0.3306607\n",
       "sample8-4.04_Nneg         0.3035641         0.2691301         0.1781667\n",
       "sample8-4.07_Nneg         0.2081568         0.2120436         0.2880141\n",
       "sample8-4.23_Nneg         0.2675730         0.2544856         0.2058315\n",
       "                  sample7-1.13_Nneg sample7-1.28_Nneg sample7-2.12_Nneg\n",
       "sample8-3.28_Nneg         0.2212578         0.3523985         0.2996859\n",
       "sample8-3.29_Nneg         0.1981768         0.3274244         0.2707903\n",
       "sample8-4.01_Nneg         0.2766812         0.3741770         0.3485916\n",
       "sample8-4.04_Nneg         0.1862527         0.2176700         0.1930533\n",
       "sample8-4.07_Nneg         0.1847378         0.3325632         0.2710635\n",
       "sample8-4.23_Nneg         0.1531552         0.2432818         0.2062328\n",
       "                  sample7-2.28_Nneg sample7-2.30_Nneg sample7-3.12_Nneg\n",
       "sample8-3.28_Nneg         0.3277982         0.1605542         0.2763012\n",
       "sample8-3.29_Nneg         0.2996541         0.1313094         0.2567863\n",
       "sample8-4.01_Nneg         0.3733067         0.2555620         0.3495736\n",
       "sample8-4.04_Nneg         0.2318841         0.2387029         0.2113807\n",
       "sample8-4.07_Nneg         0.3108026         0.1658131         0.2575292\n",
       "sample8-4.23_Nneg         0.2441794         0.1774477         0.2129594\n",
       "                  sample7-3.19_Nneg sample7-3.25_Nneg sample7-4.02_Nneg\n",
       "sample8-3.28_Nneg         0.2504141         0.2384484         0.2810069\n",
       "sample8-3.29_Nneg         0.2336669         0.2036700         0.2760057\n",
       "sample8-4.01_Nneg         0.2523759         0.2835246         0.2932961\n",
       "sample8-4.04_Nneg         0.1808897         0.1919366         0.2028077\n",
       "sample8-4.07_Nneg         0.2295814         0.2221729         0.2842519\n",
       "sample8-4.23_Nneg         0.1606624         0.1695336         0.2291990\n",
       "                  sample7-4.03_Nneg sample7-4.14_Nneg sample8-1.10_Nneg\n",
       "sample8-3.28_Nneg         0.3681610         0.3042339         0.1847470\n",
       "sample8-3.29_Nneg         0.3418030         0.2879395         0.1856442\n",
       "sample8-4.01_Nneg         0.3917459         0.3220153         0.2212529\n",
       "sample8-4.04_Nneg         0.2488629         0.1800300         0.1746329\n",
       "sample8-4.07_Nneg         0.3388704         0.2922327         0.1521082\n",
       "sample8-4.23_Nneg         0.2690115         0.1946667         0.1488172\n",
       "                  sample8-1.14_Nneg sample8-1.19_Nneg sample8-1.23_Nneg\n",
       "sample8-3.28_Nneg         0.1517216         0.2373088         0.1911274\n",
       "sample8-3.29_Nneg         0.2020728         0.2607385         0.1861042\n",
       "sample8-4.01_Nneg         0.2329953         0.1156200         0.2395133\n",
       "sample8-4.04_Nneg         0.2738849         0.2529415         0.1509644\n",
       "sample8-4.07_Nneg         0.1767694         0.2472136         0.1645257\n",
       "sample8-4.23_Nneg         0.2444688         0.2364300         0.1205113\n",
       "                  sample8-2.07_Nneg sample8-2.17_Nneg sample8-2.22_Nneg\n",
       "sample8-3.28_Nneg         0.2072965         0.1829681         0.1666214\n",
       "sample8-3.29_Nneg         0.2097768         0.1893820         0.1227628\n",
       "sample8-4.01_Nneg         0.1827730         0.2925183         0.2748081\n",
       "sample8-4.04_Nneg         0.2244746         0.1967805         0.2488823\n",
       "sample8-4.07_Nneg         0.2258392         0.1887957         0.1257763\n",
       "sample8-4.23_Nneg         0.2068083         0.1753042         0.1618575\n",
       "                  sample8-2.25_Nneg sample8-3.03_Nneg sample8-3.23_Nneg\n",
       "sample8-3.28_Nneg         0.1586304         0.1883353         0.2008029\n",
       "sample8-3.29_Nneg         0.1695297         0.1902869         0.1994344\n",
       "sample8-4.01_Nneg         0.2004247         0.2115333         0.2843512\n",
       "sample8-4.04_Nneg         0.2499363         0.2377478         0.1476078\n",
       "sample8-4.07_Nneg         0.1645795         0.2066040         0.1772704\n",
       "sample8-4.23_Nneg         0.1939991         0.2201143         0.1452443\n",
       "                  sample8-3.28_Nneg sample8-3.29_Nneg sample8-4.01_Nneg\n",
       "sample8-3.28_Nneg         0.0000000         0.1280795         0.2556864\n",
       "sample8-3.29_Nneg         0.1280795         0.0000000         0.2762850\n",
       "sample8-4.01_Nneg         0.2556864         0.2762850         0.0000000\n",
       "sample8-4.04_Nneg         0.2630809         0.2682512         0.2732838\n",
       "sample8-4.07_Nneg         0.1492983         0.1430428         0.2576801\n",
       "sample8-4.23_Nneg         0.2086574         0.1871290         0.2492184\n",
       "                  sample8-4.04_Nneg sample8-4.07_Nneg sample8-4.23_Nneg\n",
       "sample8-3.28_Nneg         0.2630809         0.1492983         0.2086574\n",
       "sample8-3.29_Nneg         0.2682512         0.1430428         0.1871290\n",
       "sample8-4.01_Nneg         0.2732838         0.2576801         0.2492184\n",
       "sample8-4.04_Nneg         0.0000000         0.2443941         0.1672335\n",
       "sample8-4.07_Nneg         0.2443941         0.0000000         0.1693327\n",
       "sample8-4.23_Nneg         0.1672335         0.1693327         0.0000000\n"
      ]
     },
     "metadata": {},
     "output_type": "display_data"
    }
   ],
   "source": [
    "%%R\n",
    "#check congruence\n",
    "Udist %>% as.matrix %>% tail\n"
   ]
  },
  {
   "cell_type": "code",
   "execution_count": 182,
   "metadata": {
    "collapsed": false
   },
   "outputs": [
    {
     "data": {
      "text/plain": [
       "[1] 0.2069072\n"
      ]
     },
     "metadata": {},
     "output_type": "display_data"
    }
   ],
   "source": [
    "%%R\n",
    "Udist %>% as.matrix() %>% .[\"sample5-1.22_Nneg\",\"sample4-2.02_Nneg\"]"
   ]
  },
  {
   "cell_type": "markdown",
   "metadata": {},
   "source": [
    "## Mantel test, including all plants and maize with arbitrary 0.0002 distance between maize\n",
    "\n"
   ]
  },
  {
   "cell_type": "code",
   "execution_count": 183,
   "metadata": {
    "collapsed": false,
    "scrolled": false
   },
   "outputs": [
    {
     "data": {
      "text/plain": [
       "\n",
       "Mantel statistic based on Pearson's product-moment correlation \n",
       "\n",
       "Call:\n",
       "mantel(xdis = Udist, ydis = Phydist, method = \"pearson\", permutations = 999) \n",
       "\n",
       "Mantel statistic r: 0.3719 \n",
       "      Significance: 0.001 \n",
       "\n",
       "Upper quantiles of permutations (null model):\n",
       "  90%   95% 97.5%   99% \n",
       "0.080 0.103 0.125 0.148 \n",
       "Permutation: free\n",
       "Number of permutations: 999\n",
       "\n"
      ]
     },
     "metadata": {},
     "output_type": "display_data"
    }
   ],
   "source": [
    "%%R\n",
    "M1 = mantel(Udist, Phydist, method=\"pearson\", permutations=999)\n",
    "print(M1)"
   ]
  },
  {
   "cell_type": "code",
   "execution_count": 184,
   "metadata": {
    "collapsed": false,
    "scrolled": false
   },
   "outputs": [
    {
     "data": {
      "text/plain": [
       "           Length Class  Mode     \n",
       "mantel.res 65     -none- numeric  \n",
       "n.class     1     -none- numeric  \n",
       "break.pts  14     -none- numeric  \n",
       "mult        1     -none- character\n",
       "n.tests     1     -none- numeric  \n",
       "call        4     -none- call     \n",
       "\n",
       "Mantel Correlogram Analysis\n",
       "\n",
       "Call:\n",
       " \n",
       "mantel.correlog(D.eco = Udist, D.geo = Phydist, nperm = 99) \n",
       "\n",
       "        class.index      n.dist  Mantel.cor Pr(Mantel) Pr(corrected)   \n",
       "D.cl.1     0.017470 3242.000000    0.396353       0.01          0.01 **\n",
       "D.cl.2     0.052410 1240.000000   -0.028867       0.36          0.36   \n",
       "D.cl.3     0.087350    0.000000          NA         NA            NA   \n",
       "D.cl.4     0.122290    0.000000          NA         NA            NA   \n",
       "D.cl.5     0.157230    0.000000          NA         NA            NA   \n",
       "D.cl.6     0.192170   64.000000   -0.137303       0.01            NA   \n",
       "D.cl.7     0.227110   96.000000          NA         NA            NA   \n",
       "D.cl.8     0.262050   96.000000          NA         NA            NA   \n",
       "D.cl.9     0.296990    0.000000          NA         NA            NA   \n",
       "D.cl.10    0.331930   32.000000          NA         NA            NA   \n",
       "D.cl.11    0.366870 1104.000000          NA         NA            NA   \n",
       "D.cl.12    0.401810  536.000000          NA         NA            NA   \n",
       "D.cl.13    0.436750 1072.000000          NA         NA            NA   \n",
       "---\n",
       "Signif. codes:  0 ‘***’ 0.001 ‘**’ 0.01 ‘*’ 0.05 ‘.’ 0.1 ‘ ’ 1\n"
      ]
     },
     "metadata": {},
     "output_type": "display_data"
    },
    {
     "data": {
      "image/png": "[encoded data removed]"
     },
     "metadata": {},
     "output_type": "display_data"
    }
   ],
   "source": [
    "%%R\n",
    "mcc.correlog <- mantel.correlog(Udist, Phydist, nperm=99)\n",
    "summary(mcc.correlog) %>% print\n",
    "mcc.correlog  %>% print\n",
    "plot(mcc.correlog) "
   ]
  },
  {
   "cell_type": "markdown",
   "metadata": {},
   "source": [
    "## Mantel test with species comparisons to test for maize effect on phylogenetic results"
   ]
  },
  {
   "cell_type": "code",
   "execution_count": 191,
   "metadata": {
    "collapsed": true
   },
   "outputs": [],
   "source": [
    "%%R\n",
    "ADist =  filter(Dist, PlantA %in% c( \"ABUTH\" , \"AMAPO\", \"ECHCG\" , \"ERATE\", \"FAGES\",  \"GLYMA\", \"SETFA\", \"SORBI\",   \n",
    "                                    \"SORSUD\", \"ELCOR\",\"HELAN\", \"B73\") & PlantB %in% \n",
    "                                    \n",
    "                c(\"ABUTH\" , \"AMAPO\", \"ECHCG\" , \"ERATE\", \"FAGES\",  \"GLYMA\", \"SETFA\", \"SORBI\",   \n",
    "                                    \"SORSUD\", \"ELCOR\",\"HELAN\", \"B73\"))\n",
    "#Remove NAs to trim dataset\n",
    "#Temp = Dist[!is.na(Dist$phy_Dist),]\n",
    "#dim(Temp) %>% print\n",
    "\n",
    "#Seperate unifrac and phylogenetic distances retaining plot IDs\n",
    "AU = ADist[,c(1,2,3)]\n",
    "APhy = ADist[,c(1,2,8)]\n",
    "# AFun = ADist[,c(1,2,12)]\n",
    "# AT = ADist[,c(1,2,15)]\n",
    "#Re-cast longform to wide form.  \n",
    "\n",
    "AUdist = acast(AU, PlotA~PlotB)\n",
    "APhydist = acast(APhy, PlotA~PlotB)\n",
    "# Fdist = acast(AFun, PlotA~PlotB)\n",
    "# Tdist = acast(AT, PlotA~PlotB) \n",
    "\n",
    "#Convert to distance matrices\n",
    "APhydist = as.matrix(APhydist) \n",
    "AUdist = as.matrix(AUdist)  \n",
    "# AFdist = as.matrix(Fdist) \n",
    "# ATdist = as.matrix(Tdist) "
   ]
  },
  {
   "cell_type": "code",
   "execution_count": 192,
   "metadata": {
    "collapsed": false
   },
   "outputs": [
    {
     "data": {
      "text/plain": [
       "\n",
       "Mantel statistic based on Pearson's product-moment correlation \n",
       "\n",
       "Call:\n",
       "mantel(xdis = AUdist, ydis = APhydist, method = \"pearson\", permutations = 999) \n",
       "\n",
       "Mantel statistic r: 0.2255 \n",
       "      Significance: 0.001 \n",
       "\n",
       "Upper quantiles of permutations (null model):\n",
       "   90%    95%  97.5%    99% \n",
       "0.0723 0.0884 0.1106 0.1289 \n",
       "Permutation: free\n",
       "Number of permutations: 999\n",
       "\n"
      ]
     },
     "metadata": {},
     "output_type": "display_data"
    }
   ],
   "source": [
    "%%R\n",
    "M1 = mantel(AUdist, APhydist, method=\"pearson\", permutations=999)\n",
    "print(M1)"
   ]
  },
  {
   "cell_type": "markdown",
   "metadata": {},
   "source": [
    "## Functional comparison"
   ]
  },
  {
   "cell_type": "code",
   "execution_count": 185,
   "metadata": {
    "collapsed": false,
    "scrolled": false
   },
   "outputs": [
    {
     "data": {
      "text/plain": [
       "\n",
       "Mantel statistic based on Pearson's product-moment correlation \n",
       "\n",
       "Call:\n",
       "mantel(xdis = Udist, ydis = Fdist, method = \"pearson\", permutations = 999) \n",
       "\n",
       "Mantel statistic r: 0.2025 \n",
       "      Significance: 0.001 \n",
       "\n",
       "Upper quantiles of permutations (null model):\n",
       "   90%    95%  97.5%    99% \n",
       "0.0589 0.0770 0.1019 0.1232 \n",
       "Permutation: free\n",
       "Number of permutations: 999\n",
       "\n"
      ]
     },
     "metadata": {},
     "output_type": "display_data"
    }
   ],
   "source": [
    "%%R\n",
    "M1 = mantel(Udist, Fdist, method=\"pearson\", permutations=999)\n",
    "print(M1)"
   ]
  },
  {
   "cell_type": "markdown",
   "metadata": {},
   "source": [
    "## Time comparison"
   ]
  },
  {
   "cell_type": "code",
   "execution_count": 186,
   "metadata": {
    "collapsed": false,
    "scrolled": false
   },
   "outputs": [
    {
     "data": {
      "text/plain": [
       "\n",
       "Mantel statistic based on Pearson's product-moment correlation \n",
       "\n",
       "Call:\n",
       "mantel(xdis = Udist, ydis = Tdist, method = \"pearson\", permutations = 999) \n",
       "\n",
       "Mantel statistic r: 0.2914 \n",
       "      Significance: 0.001 \n",
       "\n",
       "Upper quantiles of permutations (null model):\n",
       "   90%    95%  97.5%    99% \n",
       "0.0713 0.0939 0.1137 0.1260 \n",
       "Permutation: free\n",
       "Number of permutations: 999\n",
       "\n"
      ]
     },
     "metadata": {},
     "output_type": "display_data"
    }
   ],
   "source": [
    "%%R\n",
    "M2 = mantel(Udist, Tdist, method=\"pearson\", permutations=999)\n",
    "print(M2)"
   ]
  },
  {
   "cell_type": "markdown",
   "metadata": {},
   "source": [
    "## Take lower triangles and rejoin to graph"
   ]
  },
  {
   "cell_type": "code",
   "execution_count": 187,
   "metadata": {
    "collapsed": false
   },
   "outputs": [
    {
     "name": "stderr",
     "output_type": "stream",
     "text": [
      "/opt/anaconda/lib/python2.7/site-packages/rpy2/robjects/functions.py:106: UserWarning: Joining, by = c(\"PlotA\", \"PlotB\")\n",
      "\n",
      "  res = super(Function, self).__call__(*new_args, **new_kwargs)\n"
     ]
    },
    {
     "data": {
      "text/plain": [
       "              PlotA             PlotB    FunDist w_Unif_Dist PlantA PlantB\n",
       "1 sample1-1.27_Nneg sample1-2.23_Nneg 0.22420351  0.14661893  FAGES  FAGES\n",
       "2 sample1-1.27_Nneg sample1-3.08_Nneg 0.10081947  0.13776227  FAGES  FAGES\n",
       "3 sample1-2.23_Nneg sample1-3.08_Nneg 0.24045771  0.09806129  FAGES  FAGES\n",
       "4 sample1-1.27_Nneg sample1-4.24_Nneg 0.13330530  0.13142502  FAGES  FAGES\n",
       "5 sample1-2.23_Nneg sample1-4.24_Nneg 0.22057523  0.12007763  FAGES  FAGES\n",
       "6 sample1-3.08_Nneg sample1-4.24_Nneg 0.04524136  0.11602099  FAGES  FAGES\n",
       "    PlantComp                            PlotComp\n",
       "1 FAGES-FAGES sample1-1.27_Nneg-sample1-2.23_Nneg\n",
       "2 FAGES-FAGES sample1-1.27_Nneg-sample1-3.08_Nneg\n",
       "3 FAGES-FAGES sample1-2.23_Nneg-sample1-3.08_Nneg\n",
       "4 FAGES-FAGES sample1-1.27_Nneg-sample1-4.24_Nneg\n",
       "5 FAGES-FAGES sample1-2.23_Nneg-sample1-4.24_Nneg\n",
       "6 FAGES-FAGES sample1-3.08_Nneg-sample1-4.24_Nneg\n"
      ]
     },
     "metadata": {},
     "output_type": "display_data"
    }
   ],
   "source": [
    "%%R\n",
    "\n",
    "FD = Fdist %>% as.matrix()\n",
    "\n",
    "FD[lower.tri(FD, diag = TRUE )]  = NA\n",
    "head(FD)\n",
    "FD.m = melt(FD, na.rm = TRUE)\n",
    "colnames(FD.m) = c(\"PlotA\", \"PlotB\", \"FunDist\")\n",
    "temp = left_join(FD.m, ud.m)\n",
    "head(temp)"
   ]
  },
  {
   "cell_type": "code",
   "execution_count": 189,
   "metadata": {
    "collapsed": false
   },
   "outputs": [
    {
     "data": {
      "image/png": "[encoded data removed]"
     },
     "metadata": {},
     "output_type": "display_data"
    }
   ],
   "source": [
    "%%R\n",
    "ggplot(temp, aes(x = FunDist, y = w_Unif_Dist)) +\n",
    "geom_point()"
   ]
  },
  {
   "cell_type": "markdown",
   "metadata": {},
   "source": [
    "### Notes: \n",
    "    * If DAP is included as a functional trait functional variation explains an equal portion of the variance as phylogenetic distance:  Mantel r = 0.326 p = 0.001\n",
    "    * If DAP is not included, considerably less variation, though still significant Mantel R = 0.136 and p = 0.001\n",
    "    * I should try including both N treatments to broaden variation"
   ]
  },
  {
   "cell_type": "markdown",
   "metadata": {},
   "source": [
    "### Functional controls all species, CAP"
   ]
  },
  {
   "cell_type": "code",
   "execution_count": 92,
   "metadata": {
    "collapsed": false,
    "hide_input": true
   },
   "outputs": [
    {
     "data": {
      "text/plain": [
       "[1] 72 61 36 79 53 57 88 84\n",
       "Levels: 36 53 57 61 72 79 84 88\n"
      ]
     },
     "metadata": {},
     "output_type": "display_data"
    },
    {
     "data": {
      "image/png": "[encoded data removed]"
     },
     "metadata": {},
     "output_type": "display_data"
    }
   ],
   "source": [
    "%%R -w 800 -h 600\n",
    "phy = physeq.Nneg\n",
    "\n",
    "sample_data(phy)$DAP = as.factor(sample_data(phy)$DAP)\n",
    "unique(sample_data(phy)$DAP) %>% print\n",
    "# CAP ordinate\n",
    "cap.ord = ordinate(\n",
    "    physeq = phy, \n",
    "    method = \"CAP\",\n",
    "    distance = wunif.dist,\n",
    "    formula = ~ PC1 + PC2 + PC3 + Condition(Library)\n",
    ")\n",
    "\n",
    "# CAP plot\n",
    "cap.plot <- plot_ordination(\n",
    "    phy, \n",
    "    cap.ord, \n",
    "    color = \"Plant\", \n",
    "    axes = c(1,2)\n",
    "    ) + \n",
    "    aes(shape = Type) + \n",
    "    geom_point(aes(colour = Plant), \n",
    "        alpha= 1, \n",
    "        size = 4) + \n",
    "    #geom_point(colour = \"grey90\", \n",
    "    #    size = 1.5) + \n",
    "    theme_bw(base_size = 16)\n",
    "    #scale_color_manual(values = c(\"#a65628\", \"red\", \"#ffae19\", \"#4daf4a\", \n",
    "    #    \"#1919ff\", \"darkorchid3\", \"magenta\"))\n",
    "\n",
    "\n",
    "# Now add the environmental variables as arrows\n",
    "arrowmat <- vegan::scores(cap.ord, display = \"bp\")\n",
    "\n",
    "\n",
    "# Add labels, make a data.frame\n",
    "arrowdf <- data.frame(labels = rownames(arrowmat), arrowmat)\n",
    "\n",
    "# Define the arrow aesthetic mapping\n",
    "arrow_map <- aes(xend = CAP1, \n",
    "    yend = CAP2, \n",
    "    x = 0, \n",
    "    y = 0, \n",
    "    shape = NULL, \n",
    "    color = NULL, \n",
    "    label = labels)\n",
    "\n",
    "label_map <- aes(x = 1.3 * CAP1, \n",
    "    y = 1.3 * CAP2, \n",
    "    shape = NULL, \n",
    "    color = NULL, \n",
    "    label = labels)\n",
    "\n",
    "arrowhead = arrow(length = unit(0.02, \"npc\"))\n",
    "\n",
    "# Make a new graphic\n",
    "cap.plot + \n",
    "geom_segment(arrow_map, \n",
    "    size = .5, \n",
    "    data = arrowdf, \n",
    "    color = \"gray\", \n",
    "    arrow = arrowhead\n",
    "    ) + \n",
    "geom_text(label_map, \n",
    "    size = 4,  \n",
    "    data = arrowdf, \n",
    "    show_guide = FALSE)"
   ]
  },
  {
   "cell_type": "code",
   "execution_count": 78,
   "metadata": {
    "collapsed": false,
    "scrolled": false
   },
   "outputs": [
    {
     "data": {
      "text/plain": [
       "Permutation test for capscale under reduced model\n",
       "Permutation: free\n",
       "Number of permutations: 999\n",
       "\n",
       "Model: capscale(formula = distance ~ PC1 + PC2 + PC3 + Condition(Library), data = data)\n",
       "         Df SumOfSqs      F Pr(>F)    \n",
       "Model     3  0.29039 3.4357  0.001 ***\n",
       "Residual 82  2.31025                  \n",
       "---\n",
       "Signif. codes:  0 ‘***’ 0.001 ‘**’ 0.01 ‘*’ 0.05 ‘.’ 0.1 ‘ ’ 1\n"
      ]
     },
     "metadata": {},
     "output_type": "display_data"
    }
   ],
   "source": [
    "%%R\n",
    "anova(cap.ord)"
   ]
  },
  {
   "cell_type": "markdown",
   "metadata": {},
   "source": [
    "* Mantel test and CAP analysis provide contradictory results\n",
    "* CAP ordination seperates based on plant C:N\n",
    "* 2nd axis seems to separate dicots from C4 grasses from maize"
   ]
  },
  {
   "cell_type": "markdown",
   "metadata": {},
   "source": [
    "# Analyze subset from early and late seasons, limiting to two maize"
   ]
  },
  {
   "cell_type": "markdown",
   "metadata": {},
   "source": [
    "## Early Season, library 1"
   ]
  },
  {
   "cell_type": "code",
   "execution_count": null,
   "metadata": {
    "collapsed": true
   },
   "outputs": [],
   "source": []
  },
  {
   "cell_type": "code",
   "execution_count": 67,
   "metadata": {
    "collapsed": false,
    "scrolled": true
   },
   "outputs": [
    {
     "data": {
      "text/plain": [
       "Importance of components:\n",
       "                          PC1    PC2     PC3     PC4\n",
       "Standard deviation     1.5581 1.1550 0.48701 0.02980\n",
       "Proportion of Variance 0.6069 0.3335 0.05929 0.00022\n",
       "Cumulative Proportion  0.6069 0.9405 0.99978 1.00000\n",
       "                        PC1         PC2       PC3        PC4\n",
       "log(SeedSize_mg)  0.5335000 -0.35762792 0.7637714  0.0642903\n",
       "A_Resid_logN     -0.5518070 -0.42993478 0.2407640 -0.6728282\n",
       "A_Resid_logCN    -0.1202952  0.82476307 0.4914675 -0.2524967\n",
       "A_Resid_logB     -0.6296157 -0.08381067 0.3422653  0.6923975\n"
      ]
     },
     "metadata": {},
     "output_type": "display_data"
    },
    {
     "data": {
      "image/png": "[encoded data removed]"
     },
     "metadata": {},
     "output_type": "display_data"
    }
   ],
   "source": [
    "%%R\n",
    "# PCA of annuals\n",
    "ES = subset_samples(physeq.Full, Plant %in% c(\"ECHCG\", \"AMAPO\", \"SETFA\", \"GLYMA\",\n",
    "                                                 \"ABUTH\") & Treatment == \"Nneg\")\n",
    "\n",
    "\n",
    "sd = as(sample_data(ES), \"data.frame\")\n",
    "\n",
    "sd = left_join(sd, SS, by = \"Plant\")\n",
    "\n",
    "\n",
    "\n",
    "\n",
    " fit = prcomp(~log(SeedSize_mg) + A_Resid_logN + A_Resid_logCN + A_Resid_logB, data = sd, \n",
    "                 na.action = na.exclude, center = TRUE, scale = TRUE)\n",
    "\n",
    "summary(fit) %>% print\n",
    "fit$rotation %>% print\n",
    "biplot(fit)"
   ]
  },
  {
   "cell_type": "code",
   "execution_count": 68,
   "metadata": {
    "collapsed": true
   },
   "outputs": [
    {
     "data": {
      "image/png": "[encoded data removed]"
     },
     "metadata": {},
     "output_type": "display_data"
    }
   ],
   "source": [
    "%%R -w 600 -h 500\n",
    "S = predict(fit)[,1:3]\n",
    "E_Fit = cbind(sd, S)\n",
    "row.names(E_Fit) = E_Fit$X.sample\n",
    "sample_data(ES) = E_Fit\n",
    "\n",
    "\n",
    "p = ggplot(E_Fit, aes(PC1, PC2, colour = Plant, \n",
    "                       size = A_Resid_logN), pch = 21)\n",
    "p = p + geom_point()\n",
    "p = p + scale_colour_brewer(palette=\"Paired\")\n",
    "p = p + ggtitle(\"PCA of Early Season Contrasts: Biomass, N uptake, C:N ratio\")\n",
    "p"
   ]
  },
  {
   "cell_type": "code",
   "execution_count": 69,
   "metadata": {
    "collapsed": false
   },
   "outputs": [
    {
     "data": {
      "text/plain": [
       "              PlotA             PlotB    PC3Dist\n",
       "1 sample4-2.02_Nneg sample4-2.02_Nneg 0.00000000\n",
       "2 sample4-4.21_Nneg sample4-2.02_Nneg 0.33812225\n",
       "3 sample2-2.08_Nneg sample4-2.02_Nneg 0.61787646\n",
       "4 sample3-2.03_Nneg sample4-2.02_Nneg 0.03565969\n",
       "5 sample4-1.03_Nneg sample4-2.02_Nneg 0.51134978\n",
       "6 sample3-3.06_Nneg sample4-2.02_Nneg 0.86741853\n",
       "                             PlotComp\n",
       "1 sample4-2.02_Nneg-sample4-2.02_Nneg\n",
       "2 sample4-4.21_Nneg-sample4-2.02_Nneg\n",
       "3 sample2-2.08_Nneg-sample4-2.02_Nneg\n",
       "4 sample3-2.03_Nneg-sample4-2.02_Nneg\n",
       "5 sample4-1.03_Nneg-sample4-2.02_Nneg\n",
       "6 sample3-3.06_Nneg-sample4-2.02_Nneg\n",
       "              PlotA             PlotB   FunDist\n",
       "1 sample4-2.02_Nneg sample4-2.02_Nneg 0.0000000\n",
       "2 sample4-4.21_Nneg sample4-2.02_Nneg 0.5629324\n",
       "3 sample2-2.08_Nneg sample4-2.02_Nneg 3.0647645\n",
       "4 sample3-2.03_Nneg sample4-2.02_Nneg 3.2967295\n",
       "5 sample4-1.03_Nneg sample4-2.02_Nneg 2.6467680\n",
       "6 sample3-3.06_Nneg sample4-2.02_Nneg 2.4839708\n",
       "                             PlotComp\n",
       "1 sample4-2.02_Nneg-sample4-2.02_Nneg\n",
       "2 sample4-4.21_Nneg-sample4-2.02_Nneg\n",
       "3 sample2-2.08_Nneg-sample4-2.02_Nneg\n",
       "4 sample3-2.03_Nneg-sample4-2.02_Nneg\n",
       "5 sample4-1.03_Nneg-sample4-2.02_Nneg\n",
       "6 sample3-3.06_Nneg-sample4-2.02_Nneg\n",
       "              PlotA             PlotB   PC1Dist\n",
       "1 sample4-2.02_Nneg sample4-2.02_Nneg 0.0000000\n",
       "2 sample4-4.21_Nneg sample4-2.02_Nneg 0.2235571\n",
       "3 sample2-2.08_Nneg sample4-2.02_Nneg 2.7852183\n",
       "4 sample3-2.03_Nneg sample4-2.02_Nneg 2.6632558\n",
       "5 sample4-1.03_Nneg sample4-2.02_Nneg 1.9108783\n",
       "6 sample3-3.06_Nneg sample4-2.02_Nneg 2.1120570\n",
       "                             PlotComp   PC2Dist    PC3Dist   FunDist\n",
       "1 sample4-2.02_Nneg-sample4-2.02_Nneg 0.0000000 0.00000000 0.0000000\n",
       "2 sample4-4.21_Nneg-sample4-2.02_Nneg 0.3906258 0.33812225 0.5629324\n",
       "3 sample2-2.08_Nneg-sample4-2.02_Nneg 1.1196291 0.61787646 3.0647645\n",
       "4 sample3-2.03_Nneg-sample4-2.02_Nneg 1.9427358 0.03565969 3.2967295\n",
       "5 sample4-1.03_Nneg-sample4-2.02_Nneg 1.7585353 0.51134978 2.6467680\n",
       "6 sample3-3.06_Nneg-sample4-2.02_Nneg 0.9782184 0.86741853 2.4839708\n"
      ]
     },
     "metadata": {},
     "output_type": "display_data"
    }
   ],
   "source": [
    "%%R\n",
    "#measure distances on PC1\n",
    "sd = sample_data(ES)\n",
    "PC1dist = dist(sd[, \"PC1\"], method = \"euclidian\")\n",
    "    #melt matrix\n",
    "    PC1.m = melt(as.matrix(PC1dist))\n",
    "\n",
    "    #set column names and create comparison column\n",
    "     colnames(PC1.m) = c(\"PlotA\", \"PlotB\", \"PC1Dist\")\n",
    "    PC1.m$PlotComp = paste(PC1.m$PlotA, PC1.m$PlotB, sep = \"-\")\n",
    "    PC1.m %>% head\n",
    "\n",
    "#measure distances on PC2\n",
    "PC2dist = dist(sd[,\"PC2\"], method = \"euclidian\")\n",
    "    #melt matrix\n",
    "    PC2.m = melt(as.matrix(PC2dist))\n",
    "\n",
    "    #set column names and create comparison column\n",
    "     colnames(PC2.m) = c(\"PlotA\", \"PlotB\", \"PC2Dist\")\n",
    "    PC2.m$PlotComp = paste(PC2.m$PlotA, PC2.m$PlotB, sep = \"-\")\n",
    "    PC2.m %>% head\n",
    "\n",
    "#measure distances on PC3\n",
    "PC3dist = dist(sd[,\"PC3\"], method = \"euclidian\")\n",
    "    #melt matrix\n",
    "    PC3.m = melt(as.matrix(PC3dist))\n",
    "\n",
    "    #set column names and create comparison column\n",
    "     colnames(PC3.m) = c(\"PlotA\", \"PlotB\", \"PC3Dist\")\n",
    "    PC3.m$PlotComp = paste(PC3.m$PlotA, PC3.m$PlotB, sep = \"-\")\n",
    "    PC3.m %>% head %>% print\n",
    "\n",
    "\n",
    "\n",
    "Fundist = dist(sd[,c(\"PC1\", \"PC2\", \"PC3\")], method = \"euclidian\")\n",
    "    Fun.m = melt(as.matrix(Fundist))\n",
    "\n",
    "    #set column names and create comparison column\n",
    "     colnames(Fun.m) = c(\"PlotA\", \"PlotB\", \"FunDist\")\n",
    "    Fun.m$PlotComp = paste(Fun.m$PlotA, PC3.m$PlotB, sep = \"-\")\n",
    "    Fun.m %>% head %>% print\n",
    "PCA.m = left_join(PC1.m, PC2.m[,c(3,4)], by = \"PlotComp\")\n",
    "PCA.m = left_join(PCA.m, PC3.m[,c(3,4)], by = \"PlotComp\")\n",
    "PCA.m = left_join(PCA.m, Fun.m[,c(3,4)], by = \"PlotComp\")\n",
    "\n",
    "head(PCA.m)"
   ]
  },
  {
   "cell_type": "code",
   "execution_count": 70,
   "metadata": {
    "collapsed": false,
    "scrolled": true
   },
   "outputs": [
    {
     "data": {
      "text/plain": [
       " [1] \"PlotA\"       \"PlotB\"       \"w_Unif_Dist\" \"PlantA\"      \"PlantB\"     \n",
       " [6] \"PlantComp\"   \"PlotComp\"    \"phy_Dist\"    \"PC1Dist\"     \"PC2Dist\"    \n",
       "[11] \"PC3Dist\"     \"FunDist\"    \n",
       "[1] \"PlotA\"    \"PlotB\"    \"PC1Dist\"  \"PlotComp\" \"PC2Dist\"  \"PC3Dist\"  \"FunDist\" \n"
      ]
     },
     "metadata": {},
     "output_type": "display_data"
    }
   ],
   "source": [
    "%%R\n",
    "\n",
    "ES_dist = filter(Dist, PlantA %in% c(\"ECHCG\",  \"ABUTH\" , \"AMAPO\" , \"GLYMA\",\n",
    "                                    \"SETFA\") & PlantB %in% c(\"ECHCG\",  \"ABUTH\" , \"AMAPO\" , \"GLYMA\",\n",
    "                                    \"SETFA\"))\n",
    "\n",
    "\n",
    "colnames(ES_dist) %>% print\n",
    "PCA.m %>% colnames %>% print"
   ]
  },
  {
   "cell_type": "code",
   "execution_count": 72,
   "metadata": {
    "collapsed": false
   },
   "outputs": [
    {
     "data": {
      "text/plain": [
       "                PlotA             PlotB w_Unif_Dist PlantA PlantB   PlantComp\n",
       "356 sample2-2.10_Nneg sample3-3.30_Nneg   0.3542649  ECHCG  ABUTH ECHCG-ABUTH\n",
       "357 sample2-3.20_Nneg sample3-3.30_Nneg   0.1637463  ECHCG  ABUTH ECHCG-ABUTH\n",
       "358 sample3-1.20_Nneg sample3-3.30_Nneg   0.2223193  ABUTH  ABUTH ABUTH-ABUTH\n",
       "359 sample2-1.24_Nneg sample3-3.30_Nneg   0.2134040  ECHCG  ABUTH ECHCG-ABUTH\n",
       "360 sample3-2.19_Nneg sample3-3.30_Nneg   0.1662544  ABUTH  ABUTH ABUTH-ABUTH\n",
       "361 sample3-3.30_Nneg sample3-3.30_Nneg   0.0000000  ABUTH  ABUTH ABUTH-ABUTH\n",
       "                               PlotComp phy_Dist   PC1Dist   PC2Dist    PC3Dist\n",
       "356 sample2-2.10_Nneg-sample3-3.30_Nneg  0.35879 0.6878712 1.4894458 0.07167887\n",
       "357 sample2-3.20_Nneg-sample3-3.30_Nneg  0.35879 0.4254656 1.8914868 0.07703002\n",
       "358 sample3-1.20_Nneg-sample3-3.30_Nneg  0.00000 0.5330261 0.2085038 0.46580481\n",
       "359 sample2-1.24_Nneg-sample3-3.30_Nneg  0.35879 0.6207936 2.9885496 0.14403331\n",
       "360 sample3-2.19_Nneg-sample3-3.30_Nneg  0.00000 0.6734012 0.7360330 0.12609849\n",
       "361 sample3-3.30_Nneg-sample3-3.30_Nneg  0.00000 0.0000000 0.0000000 0.00000000\n",
       "      FunDist\n",
       "356 1.6421794\n",
       "357 1.9402775\n",
       "358 0.7379463\n",
       "359 3.0557420\n",
       "360 1.0055419\n",
       "361 0.0000000\n"
      ]
     },
     "metadata": {},
     "output_type": "display_data"
    }
   ],
   "source": [
    "%%R\n",
    "ES_dist = left_join(ES_dist[,c(1:8)], PCA.m[,3:7], by = \"PlotComp\")\n",
    "tail(ES_dist) %>% print"
   ]
  },
  {
   "cell_type": "code",
   "execution_count": 73,
   "metadata": {
    "collapsed": true
   },
   "outputs": [],
   "source": [
    "%%R\n",
    "\n",
    "#Remove NAs to trim dataset\n",
    "#Temp = Dist[!is.na(Dist$phy_Dist),]\n",
    "#dim(Temp) %>% print\n",
    "\n",
    "#Seperate unifrac and phylogenetic distances retaining plot IDs\n",
    "U = ES_dist[,c(1,2,3)]\n",
    "Phy = ES_dist[,c(1,2,8)]\n",
    "Fun = ES_dist[,c(1,2,12)]\n",
    "\n",
    "#Re-cast longform to wide form.  \n",
    "Udist = acast(U, PlotA~PlotB)\n",
    "\n",
    "\n",
    "Phydist = acast(Phy, PlotA~PlotB)\n",
    "Fdist = acast(Fun, PlotA~PlotB)\n",
    " \n",
    "\n",
    "#Convert to distance matrices\n",
    "Phydist = as.matrix(Phydist) \n",
    "Udist = as.matrix(Udist) \n",
    "Fdist = as.matrix(Fdist) "
   ]
  },
  {
   "cell_type": "code",
   "execution_count": 74,
   "metadata": {
    "collapsed": false,
    "scrolled": true
   },
   "outputs": [
    {
     "data": {
      "text/plain": [
       "\n",
       "Mantel statistic based on Pearson's product-moment correlation \n",
       "\n",
       "Call:\n",
       "mantel(xdis = Udist, ydis = Phydist, method = \"pearson\", permutations = 999) \n",
       "\n",
       "Mantel statistic r: 0.1516 \n",
       "      Significance: 0.012 \n",
       "\n",
       "Upper quantiles of permutations (null model):\n",
       "   90%    95%  97.5%    99% \n",
       "0.0706 0.1022 0.1264 0.1521 \n",
       "Permutation: free\n",
       "Number of permutations: 999\n",
       "\n"
      ]
     },
     "metadata": {},
     "output_type": "display_data"
    }
   ],
   "source": [
    "%%R\n",
    "\n",
    "\n",
    "M1 = mantel(Udist, Phydist, method=\"pearson\", permutations=999)\n",
    "M1"
   ]
  },
  {
   "cell_type": "code",
   "execution_count": 75,
   "metadata": {
    "collapsed": false,
    "scrolled": false
   },
   "outputs": [
    {
     "data": {
      "text/plain": [
       "[1] \"SETFA\" \"AMAPO\" \"GLYMA\" \"ABUTH\" \"ECHCG\"\n"
      ]
     },
     "metadata": {},
     "output_type": "display_data"
    },
    {
     "data": {
      "image/png": "[encoded data removed]"
     },
     "metadata": {},
     "output_type": "display_data"
    }
   ],
   "source": [
    "%%R -w 800 -h 600\n",
    "\n",
    "\n",
    "sample_data(ES)$DAP = as.factor(sample_data(ES)$DAP)\n",
    "unique(sample_data(ES)$Plant) %>% print\n",
    "# CAP ordinate\n",
    "cap.ord = ordinate(\n",
    "    physeq = ES, \n",
    "    method = \"CAP\",\n",
    "    distance = Udist,\n",
    "    formula = ~ PC1 + PC2 + PC3\n",
    ")\n",
    "\n",
    "# CAP plot\n",
    "cap.plot <- plot_ordination(\n",
    "    ES, \n",
    "    cap.ord, \n",
    "    color = \"DAP\", \n",
    "    axes = c(1,2)\n",
    "    ) + \n",
    "    aes(shape = Type) + \n",
    "    geom_point(aes(colour = DAP), \n",
    "        alpha= 1, \n",
    "        size = 4) + \n",
    "    #geom_point(colour = \"grey90\", \n",
    "    #    size = 1.5) + \n",
    "    theme_bw(base_size = 16)\n",
    "    #scale_color_manual(values = c(\"#a65628\", \"red\", \"#ffae19\", \"#4daf4a\", \n",
    "    #    \"#1919ff\", \"darkorchid3\", \"magenta\"))\n",
    "\n",
    "\n",
    "# Now add the environmental variables as arrows\n",
    "arrowmat <- vegan::scores(cap.ord, display = \"bp\")\n",
    "\n",
    "\n",
    "# Add labels, make a data.frame\n",
    "arrowdf <- data.frame(labels = rownames(arrowmat), arrowmat)\n",
    "\n",
    "# Define the arrow aesthetic mapping\n",
    "arrow_map <- aes(xend = CAP1, \n",
    "    yend = CAP2, \n",
    "    x = 0, \n",
    "    y = 0, \n",
    "    shape = NULL, \n",
    "    color = NULL, \n",
    "    label = labels)\n",
    "\n",
    "label_map <- aes(x = 1.3 * CAP1, \n",
    "    y = 1.3 * CAP2, \n",
    "    shape = NULL, \n",
    "    color = NULL, \n",
    "    label = labels)\n",
    "\n",
    "arrowhead = arrow(length = unit(0.02, \"npc\"))\n",
    "\n",
    "# Make a new graphic\n",
    "cap.plot + \n",
    "geom_segment(arrow_map, \n",
    "    size = .5, \n",
    "    data = arrowdf, \n",
    "    color = \"gray\", \n",
    "    arrow = arrowhead\n",
    "    ) + \n",
    "geom_text(label_map, \n",
    "    size = 4,  \n",
    "    data = arrowdf, \n",
    "    show_guide = FALSE)"
   ]
  },
  {
   "cell_type": "code",
   "execution_count": 76,
   "metadata": {
    "collapsed": false,
    "scrolled": true
   },
   "outputs": [
    {
     "data": {
      "text/plain": [
       "Permutation test for capscale under reduced model\n",
       "Permutation: free\n",
       "Number of permutations: 999\n",
       "\n",
       "Model: capscale(formula = distance ~ PC1 + PC2 + PC3, data = data)\n",
       "         Df SumOfSqs      F Pr(>F)\n",
       "Model     3  0.33789 0.9982  0.449\n",
       "Residual 15  1.69243              \n"
      ]
     },
     "metadata": {},
     "output_type": "display_data"
    }
   ],
   "source": [
    "%%R\n",
    "anova(cap.ord)"
   ]
  },
  {
   "cell_type": "markdown",
   "metadata": {},
   "source": [
    "## Analyze subset from later season"
   ]
  },
  {
   "cell_type": "code",
   "execution_count": 79,
   "metadata": {
    "collapsed": false,
    "scrolled": true
   },
   "outputs": [
    {
     "data": {
      "text/plain": [
       "Importance of components:\n",
       "                          PC1    PC2     PC3     PC4\n",
       "Standard deviation     1.4973 1.1837 0.59627 0.03612\n",
       "Proportion of Variance 0.5605 0.3503 0.08888 0.00033\n",
       "Cumulative Proportion  0.5605 0.9108 0.99967 1.00000\n",
       "                        PC1         PC2        PC3         PC4\n",
       "log(SeedSize_mg) -0.5549666  0.24710822 -0.7936365 -0.03302717\n",
       "A_Resid_logN     -0.4687695 -0.59539147  0.1686459 -0.63033538\n",
       "A_Resid_logCN    -0.2340853  0.76240075  0.4191288 -0.43391266\n",
       "A_Resid_logB     -0.6461202 -0.05649449  0.4074687  0.64288904\n"
      ]
     },
     "metadata": {},
     "output_type": "display_data"
    },
    {
     "data": {
      "image/png": "[encoded data removed]"
     },
     "metadata": {},
     "output_type": "display_data"
    }
   ],
   "source": [
    "%%R\n",
    "# PCA of annuals\n",
    "LS = subset_samples(physeq.Full, Plant %in% c(\"B73\", \"HELAN\", \"ERATE\", \"SORSUD\",\n",
    "                                                 \"SORBI\", \"ELCOR\") & Treatment == \"Nneg\")\n",
    "\n",
    "\n",
    "sd = as(sample_data(LS), \"data.frame\")\n",
    "\n",
    "sd = left_join(sd, SS, by = \"Plant\")\n",
    "\n",
    "\n",
    "\n",
    "\n",
    " fit = prcomp(~log(SeedSize_mg) + A_Resid_logN + A_Resid_logCN + A_Resid_logB, data = sd, \n",
    "                 na.action = na.exclude, center = TRUE, scale = TRUE)\n",
    "\n",
    "summary(fit) %>% print\n",
    "fit$rotation %>% print\n",
    "biplot(fit)"
   ]
  },
  {
   "cell_type": "code",
   "execution_count": 80,
   "metadata": {
    "collapsed": false
   },
   "outputs": [
    {
     "data": {
      "image/png": "[encoded data removed]"
     },
     "metadata": {},
     "output_type": "display_data"
    }
   ],
   "source": [
    "%%R -w 600 -h 500\n",
    "S = predict(fit)[,1:3]\n",
    "E_Fit = cbind(sd, S)\n",
    "row.names(E_Fit) = E_Fit$X.sample\n",
    "sample_data(LS) = E_Fit\n",
    "\n",
    "\n",
    "p = ggplot(E_Fit, aes(PC1, PC2, colour = Plant, \n",
    "                       size = A_Resid_logN), pch = 21)\n",
    "p = p + geom_point()\n",
    "p = p + scale_colour_brewer(palette=\"Paired\")\n",
    "p = p + ggtitle(\"PCA of Early Season Contrasts: Biomass, N uptake, C:N ratio\")\n",
    "p"
   ]
  },
  {
   "cell_type": "code",
   "execution_count": 81,
   "metadata": {
    "collapsed": false
   },
   "outputs": [
    {
     "data": {
      "text/plain": [
       "              PlotA             PlotB   PC3Dist\n",
       "1 sample6-2.26_Nneg sample6-2.26_Nneg 0.0000000\n",
       "2 sample6-3.18_Nneg sample6-2.26_Nneg 0.2178990\n",
       "3 sample5-3.11_Nneg sample6-2.26_Nneg 1.6020730\n",
       "4 sample5-4.06_Nneg sample6-2.26_Nneg 1.0377879\n",
       "5 sample5-2.18_Nneg sample6-2.26_Nneg 1.4008179\n",
       "6 sample6-4.30_Nneg sample6-2.26_Nneg 0.3642588\n",
       "                             PlotComp\n",
       "1 sample6-2.26_Nneg-sample6-2.26_Nneg\n",
       "2 sample6-3.18_Nneg-sample6-2.26_Nneg\n",
       "3 sample5-3.11_Nneg-sample6-2.26_Nneg\n",
       "4 sample5-4.06_Nneg-sample6-2.26_Nneg\n",
       "5 sample5-2.18_Nneg-sample6-2.26_Nneg\n",
       "6 sample6-4.30_Nneg-sample6-2.26_Nneg\n",
       "              PlotA             PlotB   FunDist\n",
       "1 sample6-2.26_Nneg sample6-2.26_Nneg 0.0000000\n",
       "2 sample6-3.18_Nneg sample6-2.26_Nneg 1.2355246\n",
       "3 sample5-3.11_Nneg sample6-2.26_Nneg 3.3092873\n",
       "4 sample5-4.06_Nneg sample6-2.26_Nneg 3.7853860\n",
       "5 sample5-2.18_Nneg sample6-2.26_Nneg 3.9381385\n",
       "6 sample6-4.30_Nneg sample6-2.26_Nneg 0.6312263\n",
       "                             PlotComp\n",
       "1 sample6-2.26_Nneg-sample6-2.26_Nneg\n",
       "2 sample6-3.18_Nneg-sample6-2.26_Nneg\n",
       "3 sample5-3.11_Nneg-sample6-2.26_Nneg\n",
       "4 sample5-4.06_Nneg-sample6-2.26_Nneg\n",
       "5 sample5-2.18_Nneg-sample6-2.26_Nneg\n",
       "6 sample6-4.30_Nneg-sample6-2.26_Nneg\n",
       "              PlotA             PlotB   PC1Dist\n",
       "1 sample6-2.26_Nneg sample6-2.26_Nneg 0.0000000\n",
       "2 sample6-3.18_Nneg sample6-2.26_Nneg 0.7403002\n",
       "3 sample5-3.11_Nneg sample6-2.26_Nneg 2.5784856\n",
       "4 sample5-4.06_Nneg sample6-2.26_Nneg 3.2043287\n",
       "5 sample5-2.18_Nneg sample6-2.26_Nneg 2.1126759\n",
       "6 sample6-4.30_Nneg sample6-2.26_Nneg 0.5152637\n",
       "                             PlotComp    PC2Dist   PC3Dist   FunDist\n",
       "1 sample6-2.26_Nneg-sample6-2.26_Nneg 0.00000000 0.0000000 0.0000000\n",
       "2 sample6-3.18_Nneg-sample6-2.26_Nneg 0.96488162 0.2178990 1.2355246\n",
       "3 sample5-3.11_Nneg-sample6-2.26_Nneg 1.31763279 1.6020730 3.3092873\n",
       "4 sample5-4.06_Nneg-sample6-2.26_Nneg 1.72754773 1.0377879 3.7853860\n",
       "5 sample5-2.18_Nneg-sample6-2.26_Nneg 3.01384220 1.4008179 3.9381385\n",
       "6 sample6-4.30_Nneg-sample6-2.26_Nneg 0.01629619 0.3642588 0.6312263\n"
      ]
     },
     "metadata": {},
     "output_type": "display_data"
    }
   ],
   "source": [
    "%%R\n",
    "#measure distances on PC1\n",
    "sd = sample_data(LS)\n",
    "PC1dist = dist(sd[, \"PC1\"], method = \"euclidian\")\n",
    "    #melt matrix\n",
    "    PC1.m = melt(as.matrix(PC1dist))\n",
    "\n",
    "    #set column names and create comparison column\n",
    "     colnames(PC1.m) = c(\"PlotA\", \"PlotB\", \"PC1Dist\")\n",
    "    PC1.m$PlotComp = paste(PC1.m$PlotA, PC1.m$PlotB, sep = \"-\")\n",
    "    PC1.m %>% head\n",
    "\n",
    "#measure distances on PC2\n",
    "PC2dist = dist(sd[,\"PC2\"], method = \"euclidian\")\n",
    "    #melt matrix\n",
    "    PC2.m = melt(as.matrix(PC2dist))\n",
    "\n",
    "    #set column names and create comparison column\n",
    "     colnames(PC2.m) = c(\"PlotA\", \"PlotB\", \"PC2Dist\")\n",
    "    PC2.m$PlotComp = paste(PC2.m$PlotA, PC2.m$PlotB, sep = \"-\")\n",
    "    PC2.m %>% head\n",
    "\n",
    "#measure distances on PC3\n",
    "PC3dist = dist(sd[,\"PC3\"], method = \"euclidian\")\n",
    "    #melt matrix\n",
    "    PC3.m = melt(as.matrix(PC3dist))\n",
    "\n",
    "    #set column names and create comparison column\n",
    "     colnames(PC3.m) = c(\"PlotA\", \"PlotB\", \"PC3Dist\")\n",
    "    PC3.m$PlotComp = paste(PC3.m$PlotA, PC3.m$PlotB, sep = \"-\")\n",
    "    PC3.m %>% head %>% print\n",
    "\n",
    "\n",
    "\n",
    "Fundist = dist(sd[,c(\"PC1\", \"PC2\", \"PC3\")], method = \"euclidian\")\n",
    "    Fun.m = melt(as.matrix(Fundist))\n",
    "\n",
    "    #set column names and create comparison column\n",
    "     colnames(Fun.m) = c(\"PlotA\", \"PlotB\", \"FunDist\")\n",
    "    Fun.m$PlotComp = paste(Fun.m$PlotA, PC3.m$PlotB, sep = \"-\")\n",
    "    Fun.m %>% head %>% print\n",
    "PCA.m = left_join(PC1.m, PC2.m[,c(3,4)], by = \"PlotComp\")\n",
    "PCA.m = left_join(PCA.m, PC3.m[,c(3,4)], by = \"PlotComp\")\n",
    "PCA.m = left_join(PCA.m, Fun.m[,c(3,4)], by = \"PlotComp\")\n",
    "\n",
    "head(PCA.m)"
   ]
  },
  {
   "cell_type": "code",
   "execution_count": 82,
   "metadata": {
    "collapsed": false
   },
   "outputs": [
    {
     "data": {
      "text/plain": [
       " [1] \"PlotA\"       \"PlotB\"       \"w_Unif_Dist\" \"PlantA\"      \"PlantB\"     \n",
       " [6] \"PlantComp\"   \"PlotComp\"    \"phy_Dist\"    \"PC1Dist\"     \"PC2Dist\"    \n",
       "[11] \"PC3Dist\"     \"FunDist\"    \n",
       "[1] \"PlotA\"    \"PlotB\"    \"PC1Dist\"  \"PlotComp\" \"PC2Dist\"  \"PC3Dist\"  \"FunDist\" \n"
      ]
     },
     "metadata": {},
     "output_type": "display_data"
    }
   ],
   "source": [
    "%%R\n",
    "LS_dist = filter(Dist, PlantA %in% c(\"B73\", \"HELAN\", \"ERATE\", \"SORSUD\",\n",
    "                                                 \"SORBI\", \"ELCOR\") & PlantB %in% c(\"B73\", \"HELAN\", \"ERATE\", \"SORSUD\",\n",
    "                                                 \"SORBI\", \"ELCOR\"))\n",
    "\n",
    "\n",
    "colnames(LS_dist) %>% print\n",
    "PCA.m %>% colnames %>% print"
   ]
  },
  {
   "cell_type": "code",
   "execution_count": 83,
   "metadata": {
    "collapsed": false
   },
   "outputs": [
    {
     "data": {
      "text/plain": [
       "                PlotA             PlotB w_Unif_Dist PlantA PlantB    PlantComp\n",
       "571 sample7-4.03_Nneg sample8-3.03_Nneg   0.3777692  HELAN  ELCOR  HELAN-ELCOR\n",
       "572 sample7-1.28_Nneg sample8-3.03_Nneg   0.3428638  HELAN  ELCOR  HELAN-ELCOR\n",
       "573 sample7-3.25_Nneg sample8-3.03_Nneg   0.2164129 SORSUD  ELCOR SORSUD-ELCOR\n",
       "574 sample8-4.01_Nneg sample8-3.03_Nneg   0.2115333  ELCOR  ELCOR  ELCOR-ELCOR\n",
       "575 sample7-4.14_Nneg sample8-3.03_Nneg   0.2893173  SORBI  ELCOR  SORBI-ELCOR\n",
       "576 sample8-3.03_Nneg sample8-3.03_Nneg   0.0000000  ELCOR  ELCOR  ELCOR-ELCOR\n",
       "                               PlotComp phy_Dist    PC1Dist  PC2Dist    PC3Dist\n",
       "571 sample7-4.03_Nneg-sample8-3.03_Nneg  0.36765 1.36282174 2.410395 0.59310108\n",
       "572 sample7-1.28_Nneg-sample8-3.03_Nneg  0.36765 1.25352889 2.634933 0.58568179\n",
       "573 sample7-3.25_Nneg-sample8-3.03_Nneg  0.04779 0.23426206 2.848945 0.65068442\n",
       "574 sample8-4.01_Nneg-sample8-3.03_Nneg  0.00000 1.56470065 1.731257 0.55533979\n",
       "575 sample7-4.14_Nneg-sample8-3.03_Nneg  0.04779 0.08235865 2.316659 0.01140009\n",
       "576 sample8-3.03_Nneg-sample8-3.03_Nneg  0.00000 0.00000000 0.000000 0.00000000\n",
       "     FunDist\n",
       "571 2.831794\n",
       "572 2.976110\n",
       "573 2.931681\n",
       "574 2.398737\n",
       "575 2.318150\n",
       "576 0.000000\n"
      ]
     },
     "metadata": {},
     "output_type": "display_data"
    }
   ],
   "source": [
    "%%R\n",
    "LS_dist = left_join(LS_dist[,c(1:8)], PCA.m[,3:7], by = \"PlotComp\")\n",
    "tail(LS_dist) %>% print"
   ]
  },
  {
   "cell_type": "code",
   "execution_count": 84,
   "metadata": {
    "collapsed": true
   },
   "outputs": [],
   "source": [
    "%%R\n",
    "\n",
    "#Remove NAs to trim dataset\n",
    "#Temp = Dist[!is.na(Dist$phy_Dist),]\n",
    "#dim(Temp) %>% print\n",
    "\n",
    "#Seperate unifrac and phylogenetic distances retaining plot IDs\n",
    "U = LS_dist[,c(1,2,3)]\n",
    "Phy = LS_dist[,c(1,2,8)]\n",
    "Fun = LS_dist[,c(1,2,12)]\n",
    "\n",
    "#Re-cast longform to wide form.  \n",
    "Udist = acast(U, PlotA~PlotB)\n",
    "\n",
    "\n",
    "Phydist = acast(Phy, PlotA~PlotB)\n",
    "Fdist = acast(Fun, PlotA~PlotB)\n",
    " \n",
    "\n",
    "#Convert to distance matrices\n",
    "Phydist = as.matrix(Phydist) %>% dist()\n",
    "Udist = as.matrix(Udist) %>% dist()\n",
    "Fdist = as.matrix(Fdist) %>% dist()"
   ]
  },
  {
   "cell_type": "code",
   "execution_count": 85,
   "metadata": {
    "collapsed": false,
    "scrolled": true
   },
   "outputs": [
    {
     "data": {
      "text/plain": [
       "\n",
       "Mantel statistic based on Pearson's product-moment correlation \n",
       "\n",
       "Call:\n",
       "mantel(xdis = Udist, ydis = Phydist, method = \"pearson\", permutations = 999) \n",
       "\n",
       "Mantel statistic r: 0.2487 \n",
       "      Significance: 0.019 \n",
       "\n",
       "Upper quantiles of permutations (null model):\n",
       "  90%   95% 97.5%   99% \n",
       "0.130 0.188 0.228 0.298 \n",
       "Permutation: free\n",
       "Number of permutations: 999\n",
       "\n"
      ]
     },
     "metadata": {},
     "output_type": "display_data"
    }
   ],
   "source": [
    "%%R\n",
    "\n",
    "M1 = mantel(Udist, Phydist, method=\"pearson\", permutations=999)\n",
    "M1"
   ]
  },
  {
   "cell_type": "code",
   "execution_count": 86,
   "metadata": {
    "collapsed": false
   },
   "outputs": [
    {
     "data": {
      "text/plain": [
       "\n",
       "Mantel statistic based on Pearson's product-moment correlation \n",
       "\n",
       "Call:\n",
       "mantel(xdis = Udist, ydis = Fundist, method = \"pearson\", permutations = 999) \n",
       "\n",
       "Mantel statistic r: 0.2618 \n",
       "      Significance: 0.001 \n",
       "\n",
       "Upper quantiles of permutations (null model):\n",
       "  90%   95% 97.5%   99% \n",
       "0.100 0.129 0.155 0.190 \n",
       "Permutation: free\n",
       "Number of permutations: 999\n",
       "\n"
      ]
     },
     "metadata": {},
     "output_type": "display_data"
    }
   ],
   "source": [
    "%%R\n",
    "\n",
    "\n",
    "M1 = mantel(Udist, Fundist, method=\"pearson\", permutations=999)\n",
    "M1"
   ]
  },
  {
   "cell_type": "code",
   "execution_count": 88,
   "metadata": {
    "collapsed": false
   },
   "outputs": [
    {
     "data": {
      "text/plain": [
       "[1] \"B73\"    \"ERATE\"  \"ELCOR\"  \"SORSUD\" \"SORBI\"  \"HELAN\" \n"
      ]
     },
     "metadata": {},
     "output_type": "display_data"
    },
    {
     "data": {
      "image/png": "[encoded data removed]"
     },
     "metadata": {},
     "output_type": "display_data"
    }
   ],
   "source": [
    "%%R -w 800 -h 600\n",
    "\n",
    "\n",
    "sample_data(LS)$DAP = as.factor(sample_data(LS)$DAP)\n",
    "unique(sample_data(LS)$Plant) %>% print\n",
    "# CAP ordinate\n",
    "cap.ord = ordinate(\n",
    "    physeq = LS, \n",
    "    method = \"CAP\",\n",
    "    distance = Udist,\n",
    "    formula = ~ PC1 + PC2 + PC3\n",
    ")\n",
    "\n",
    "# CAP plot\n",
    "cap.plot <- plot_ordination(\n",
    "    LS, \n",
    "    cap.ord, \n",
    "    color = \"DAP\", \n",
    "    axes = c(1,2)\n",
    "    ) + \n",
    "    aes(shape = Type) + \n",
    "    geom_point(aes(colour = DAP), \n",
    "        alpha= 1, \n",
    "        size = 4) + \n",
    "    #geom_point(colour = \"grey90\", \n",
    "    #    size = 1.5) + \n",
    "    theme_bw(base_size = 16)\n",
    "    #scale_color_manual(values = c(\"#a65628\", \"red\", \"#ffae19\", \"#4daf4a\", \n",
    "    #    \"#1919ff\", \"darkorchid3\", \"magenta\"))\n",
    "\n",
    "\n",
    "# Now add the environmental variables as arrows\n",
    "arrowmat <- vegan::scores(cap.ord, display = \"bp\")\n",
    "\n",
    "\n",
    "# Add labels, make a data.frame\n",
    "arrowdf <- data.frame(labels = rownames(arrowmat), arrowmat)\n",
    "\n",
    "# Define the arrow aesthetic mapping\n",
    "arrow_map <- aes(xend = CAP1, \n",
    "    yend = CAP2, \n",
    "    x = 0, \n",
    "    y = 0, \n",
    "    shape = NULL, \n",
    "    color = NULL, \n",
    "    label = labels)\n",
    "\n",
    "label_map <- aes(x = 1.3 * CAP1, \n",
    "    y = 1.3 * CAP2, \n",
    "    shape = NULL, \n",
    "    color = NULL, \n",
    "    label = labels)\n",
    "\n",
    "arrowhead = arrow(length = unit(0.02, \"npc\"))\n",
    "\n",
    "# Make a new graphic\n",
    "cap.plot + \n",
    "geom_segment(arrow_map, \n",
    "    size = .5, \n",
    "    data = arrowdf, \n",
    "    color = \"gray\", \n",
    "    arrow = arrowhead\n",
    "    ) + \n",
    "geom_text(label_map, \n",
    "    size = 4,  \n",
    "    data = arrowdf, \n",
    "    show_guide = FALSE)"
   ]
  },
  {
   "cell_type": "code",
   "execution_count": 89,
   "metadata": {
    "collapsed": false
   },
   "outputs": [
    {
     "data": {
      "text/plain": [
       "Permutation test for capscale under reduced model\n",
       "Permutation: free\n",
       "Number of permutations: 999\n",
       "\n",
       "Model: capscale(formula = distance ~ PC1 + PC2 + PC3, data = data)\n",
       "         Df SumOfSqs      F Pr(>F)   \n",
       "Model     3   1.4354 3.2338  0.004 **\n",
       "Residual 20   2.9591                 \n",
       "---\n",
       "Signif. codes:  0 ‘***’ 0.001 ‘**’ 0.01 ‘*’ 0.05 ‘.’ 0.1 ‘ ’ 1\n"
      ]
     },
     "metadata": {},
     "output_type": "display_data"
    }
   ],
   "source": [
    "%%R\n",
    "anova(cap.ord)"
   ]
  },
  {
   "cell_type": "markdown",
   "metadata": {},
   "source": [
    "# Sandbox"
   ]
  },
  {
   "cell_type": "markdown",
   "metadata": {},
   "source": [
    "# Analyze by date of sampling "
   ]
  },
  {
   "cell_type": "markdown",
   "metadata": {},
   "source": [
    "#### DAP = 72, Mantel test of phylogenetic distance and MCC weighted-unifrac distance"
   ]
  },
  {
   "cell_type": "code",
   "execution_count": 241,
   "metadata": {
    "collapsed": false
   },
   "outputs": [
    {
     "data": {
      "text/plain": [
       "              PlotA             PlotB w_Unif_Dist PlantA PlantB     PlantComp\n",
       "1 sample5-1.22_Nneg sample5-1.22_Nneg   0.0000000 75-062 75-062 75-062-75-062\n",
       "2 sample5-2.06_Npos sample5-1.22_Nneg   0.1902666   MS71 75-062   MS71-75-062\n",
       "3 sample5-4.08_Npos sample5-1.22_Nneg   0.1757315   MS71 75-062   MS71-75-062\n",
       "4 sample5-4.28_Npos sample5-1.22_Nneg   0.1457043 75-062 75-062 75-062-75-062\n",
       "5 sample5-1.29_Npos sample5-1.22_Nneg   0.2358625  ERATE 75-062  ERATE-75-062\n",
       "6 sample5-2.29_Nneg sample5-1.22_Nneg   0.1505018 75-062 75-062 75-062-75-062\n",
       "  phy_Dist\n",
       "1  0.00000\n",
       "2  0.00020\n",
       "3  0.00020\n",
       "4  0.00000\n",
       "5  0.04967\n",
       "6  0.00000\n"
      ]
     },
     "metadata": {},
     "output_type": "display_data"
    }
   ],
   "source": [
    "%%R\n",
    "head(Temp)"
   ]
  },
  {
   "cell_type": "code",
   "execution_count": 237,
   "metadata": {
    "collapsed": false,
    "scrolled": false
   },
   "outputs": [
    {
     "data": {
      "text/plain": [
       "\n",
       "Mantel statistic based on Pearson's product-moment correlation \n",
       "\n",
       "Call:\n",
       "mantel(xdis = Phy_date, ydis = Udate, method = \"pearson\", permutations = 999) \n",
       "\n",
       "Mantel statistic r: 0.0951 \n",
       "      Significance: 0.168 \n",
       "\n",
       "Upper quantiles of permutations (null model):\n",
       "  90%   95% 97.5%   99% \n",
       "0.133 0.181 0.225 0.269 \n",
       "Permutation: free\n",
       "Number of permutations: 999\n",
       "\n"
      ]
     },
     "metadata": {},
     "output_type": "display_data"
    }
   ],
   "source": [
    "%%R\n",
    "# subset matrices\n",
    "D_dist = filter(Dist, PlantA %in% c(\"75-062\", \"ERATE\",  \"H99\" , \"Il14H\" , \"MS71\") & PlantB %in% c(\"75-062\", \"ERATE\",  \"H99\" , \"Il14H\" , \"MS71\"))\n",
    "D_dist$PlantComp %>% unique\n",
    "#pull matrices\n",
    "    Temp = D_dist[!is.na(D_dist$phy_Dist),]\n",
    "    \n",
    "    #Seperate unifrac and phylogenetic distances retaining plot IDs\n",
    "\n",
    "    Udate = Temp[,c(1,2,3)]\n",
    "    Phy_date = Temp[,c(1,2,7)]\n",
    "\n",
    "    #Re-cast longform to wide form.  \n",
    "    Udate = acast(Udate, PlotA~PlotB)\n",
    "    Phy_date = acast(Phy_date, PlotA~PlotB)\n",
    "\n",
    "    #Convert to distance matrices\n",
    "    Phy_date = as.matrix(Phy_date) %>% dist()\n",
    "    Udate = as.matrix(Udate) %>% dist()\n",
    "\n",
    "M1 = mantel(Phy_date, Udate, method=\"pearson\", permutations=999)\n",
    "print(M1)\n"
   ]
  },
  {
   "cell_type": "markdown",
   "metadata": {},
   "source": [
    "#### Day 72; Mantel test of N economy traits and MCC weighted-unifrac distance"
   ]
  },
  {
   "cell_type": "code",
   "execution_count": 238,
   "metadata": {
    "collapsed": false,
    "scrolled": true
   },
   "outputs": [
    {
     "data": {
      "text/plain": [
       "\n",
       "Mantel statistic based on Pearson's product-moment correlation \n",
       "\n",
       "Call:\n",
       "mantel(xdis = date.wunif.dist, ydis = Fun_dist, method = \"pearson\",      permutations = 999) \n",
       "\n",
       "Mantel statistic r: -0.003534 \n",
       "      Significance: 0.474 \n",
       "\n",
       "Upper quantiles of permutations (null model):\n",
       "  90%   95% 97.5%   99% \n",
       "0.118 0.151 0.176 0.215 \n",
       "Permutation: free\n",
       "Number of permutations: 999\n",
       "\n"
      ]
     },
     "metadata": {},
     "output_type": "display_data"
    }
   ],
   "source": [
    "%%R\n",
    "physeq.Date = subset_samples(physeq.Plant, DAP == \"72\")\n",
    "sd = sample_data(physeq.Date)\n",
    "\n",
    "\n",
    "# Calculate w-unifrac distances\n",
    "registerDoParallel(cores=28)\n",
    "date.wunif.dist = distance(physeq.Date, \n",
    "                      method = \"unifrac\", \n",
    "                      weighted = TRUE,\n",
    "                      fast = TRUE, \n",
    "                      parallel = TRUE, \n",
    "                      normalized = FALSE)\n",
    "\n",
    "#Calculate functional distances\n",
    "Fun_dist = dist(sd[,c(\"A_Resid_logB\", \"A_Resid_logN\", \"A_Resid_logCN\")], method = \"euclidian\")\n",
    "\n",
    "\n",
    "M1 = mantel(date.wunif.dist, Fun_dist, method=\"pearson\", permutations=999)\n",
    "M1"
   ]
  },
  {
   "cell_type": "markdown",
   "metadata": {},
   "source": [
    "#### Day = 84; Mantel test of phylogenetic distance and MCC weighted-unifrac distance"
   ]
  },
  {
   "cell_type": "code",
   "execution_count": 242,
   "metadata": {
    "collapsed": false
   },
   "outputs": [
    {
     "data": {
      "text/plain": [
       "[1] \"SORBI-SORBI\"   \"SORSUD-SORBI\"  \"HELAN-SORBI\"   \"SORBI-SORSUD\" \n",
       "[5] \"SORSUD-SORSUD\" \"HELAN-SORSUD\"  \"SORBI-HELAN\"   \"SORSUD-HELAN\" \n",
       "[9] \"HELAN-HELAN\"  \n",
       "\n",
       "Mantel statistic based on Pearson's product-moment correlation \n",
       "\n",
       "Call:\n",
       "mantel(xdis = Phy_date, ydis = Udate, method = \"pearson\", permutations = 999) \n",
       "\n",
       "Mantel statistic r: 0.6092 \n",
       "      Significance: 0.001 \n",
       "\n",
       "Upper quantiles of permutations (null model):\n",
       "  90%   95% 97.5%   99% \n",
       "0.107 0.135 0.165 0.209 \n",
       "Permutation: free\n",
       "Number of permutations: 999\n",
       "\n"
      ]
     },
     "metadata": {},
     "output_type": "display_data"
    }
   ],
   "source": [
    "%%R\n",
    "# subset matrices\n",
    "D_dist = filter(Dist, PlantA %in% c(\"HELAN\" , \"SORBI\" , \"SORSUD\") & PlantB %in% c(\"HELAN\" , \"SORBI\" , \"SORSUD\"))\n",
    "D_dist$PlantComp %>% unique %>% print\n",
    "#pull matrices\n",
    "    Temp = D_dist[!is.na(D_dist$phy_Dist),]\n",
    "    \n",
    "    #Seperate unifrac and phylogenetic distances retaining plot IDs\n",
    "\n",
    "    Udate = Temp[,c(1,2,3)]\n",
    "    Phy_date = Temp[,c(1,2,7)]\n",
    "\n",
    "    #Re-cast longform to wide form.  \n",
    "    Udate = acast(Udate, PlotA~PlotB)\n",
    "    Phy_date = acast(Phy_date, PlotA~PlotB)\n",
    "\n",
    "    #Convert to distance matrices\n",
    "    Phy_date = as.matrix(Phy_date) %>% dist()\n",
    "    Udate = as.matrix(Udate) %>% dist()\n",
    "\n",
    "M1 = mantel(Phy_date, Udate, method=\"pearson\", permutations=999)\n",
    "print(M1)"
   ]
  },
  {
   "cell_type": "markdown",
   "metadata": {},
   "source": [
    "#### Day 84; Mantel test of N economy traits and MCC weighted-unifrac distance"
   ]
  },
  {
   "cell_type": "code",
   "execution_count": 248,
   "metadata": {
    "collapsed": false,
    "scrolled": false
   },
   "outputs": [
    {
     "data": {
      "text/plain": [
       "\n",
       "Mantel statistic based on Pearson's product-moment correlation \n",
       "\n",
       "Call:\n",
       "mantel(xdis = date.wunif.dist, ydis = Fun_dist, method = \"pearson\",      permutations = 999) \n",
       "\n",
       "Mantel statistic r: 0.09488 \n",
       "      Significance: 0.098 \n",
       "\n",
       "Upper quantiles of permutations (null model):\n",
       "   90%    95%  97.5%    99% \n",
       "0.0913 0.1326 0.1558 0.2073 \n",
       "Permutation: free\n",
       "Number of permutations: 999\n",
       "\n"
      ]
     },
     "metadata": {},
     "output_type": "display_data"
    }
   ],
   "source": [
    "%%R\n",
    "physeq.Date = subset_samples(physeq.Plant, DAP == \"84\")\n",
    "sd = sample_data(physeq.Date)\n",
    "\n",
    "# Calculate w-unifrac distances\n",
    "registerDoParallel(cores=28)\n",
    "date.wunif.dist = distance(physeq.Date, \n",
    "                      method = \"unifrac\", \n",
    "                      weighted = TRUE,\n",
    "                      fast = TRUE, \n",
    "                      parallel = TRUE, \n",
    "                      normalized = FALSE)\n",
    "\n",
    "#Calculate functional distances\n",
    "Fun_dist = dist(sd[,c(\"A_Resid_logB\", \"A_Resid_logN\", \"A_Resid_logCN\")], method = \"euclidian\")\n",
    "\n",
    "\n",
    "M1 = mantel(date.wunif.dist, Fun_dist, method=\"pearson\", permutations=999)\n",
    "M1\n",
    "\n",
    "\n"
   ]
  },
  {
   "cell_type": "markdown",
   "metadata": {},
   "source": [
    "#### CAP Analysis of DAP 84"
   ]
  },
  {
   "cell_type": "code",
   "execution_count": 246,
   "metadata": {
    "collapsed": false,
    "scrolled": false
   },
   "outputs": [
    {
     "data": {
      "text/plain": [
       "[1] 84\n",
       "Levels: 84\n"
      ]
     },
     "metadata": {},
     "output_type": "display_data"
    },
    {
     "data": {
      "image/png": "[encoded data removed]"
     },
     "metadata": {},
     "output_type": "display_data"
    }
   ],
   "source": [
    "%%R -w 800 -h 600\n",
    "\n",
    "phy = physeq.Date\n",
    "sample_data(phy)$DAP = as.factor(sample_data(phy)$DAP)\n",
    "unique(sample_data(phy)$DAP) %>% print\n",
    "# CAP ordinate\n",
    "cap.ord = ordinate(\n",
    "    physeq = phy, \n",
    "    method = \"CAP\",\n",
    "    distance = date.wunif.dist,\n",
    "    formula = ~ A_Resid_logB + A_Resid_logN + A_Resid_logCN\n",
    ")\n",
    "\n",
    "# CAP plot\n",
    "cap.plot <- plot_ordination(\n",
    "    phy, \n",
    "    cap.ord, \n",
    "    color = \"Plant\", \n",
    "    axes = c(1,2)\n",
    "    ) + \n",
    "    aes(shape = Type) + \n",
    "    geom_point(aes(colour = Plant), \n",
    "        alpha= 1, \n",
    "        size = 4) + \n",
    "    #geom_point(colour = \"grey90\", \n",
    "    #    size = 1.5) + \n",
    "    theme_bw(base_size = 16)\n",
    "    #scale_color_manual(values = c(\"#a65628\", \"red\", \"#ffae19\", \"#4daf4a\", \n",
    "    #    \"#1919ff\", \"darkorchid3\", \"magenta\"))\n",
    "\n",
    "\n",
    "# Now add the environmental variables as arrows\n",
    "arrowmat <- vegan::scores(cap.ord, display = \"bp\")\n",
    "\n",
    "\n",
    "# Add labels, make a data.frame\n",
    "arrowdf <- data.frame(labels = rownames(arrowmat), arrowmat)\n",
    "\n",
    "# Define the arrow aesthetic mapping\n",
    "arrow_map <- aes(xend = CAP1, \n",
    "    yend = CAP2, \n",
    "    x = 0, \n",
    "    y = 0, \n",
    "    shape = NULL, \n",
    "    color = NULL, \n",
    "    label = labels)\n",
    "\n",
    "label_map <- aes(x = 1.3 * CAP1, \n",
    "    y = 1.3 * CAP2, \n",
    "    shape = NULL, \n",
    "    color = NULL, \n",
    "    label = labels)\n",
    "\n",
    "arrowhead = arrow(length = unit(0.02, \"npc\"))\n",
    "\n",
    "# Make a new graphic\n",
    "cap.plot + \n",
    "geom_segment(arrow_map, \n",
    "    size = .5, \n",
    "    data = arrowdf, \n",
    "    color = \"gray\", \n",
    "    arrow = arrowhead\n",
    "    ) + \n",
    "geom_text(label_map, \n",
    "    size = 4,  \n",
    "    data = arrowdf, \n",
    "    show_guide = FALSE)"
   ]
  },
  {
   "cell_type": "code",
   "execution_count": 249,
   "metadata": {
    "collapsed": false
   },
   "outputs": [
    {
     "data": {
      "text/plain": [
       "Permutation test for capscale under reduced model\n",
       "Permutation: free\n",
       "Number of permutations: 999\n",
       "\n",
       "Model: capscale(formula = distance ~ A_Resid_logB + A_Resid_logN + A_Resid_logCN, data = data)\n",
       "         Df SumOfSqs      F Pr(>F)    \n",
       "Model     3  0.16051 3.1052  0.001 ***\n",
       "Residual 20  0.34460                  \n",
       "---\n",
       "Signif. codes:  0 ‘***’ 0.001 ‘**’ 0.01 ‘*’ 0.05 ‘.’ 0.1 ‘ ’ 1\n"
      ]
     },
     "metadata": {},
     "output_type": "display_data"
    }
   ],
   "source": [
    "%%R\n",
    "anova(cap.ord)"
   ]
  },
  {
   "cell_type": "markdown",
   "metadata": {},
   "source": [
    "#### DAP = 88; Mantel test of phylogenetic distance and MCC weighted-unifrac distance"
   ]
  },
  {
   "cell_type": "code",
   "execution_count": 250,
   "metadata": {
    "collapsed": false
   },
   "outputs": [
    {
     "data": {
      "text/plain": [
       "              PlotA             PlotB w_Unif_Dist PlantA PlantB   PlantComp\n",
       "1 sample8-2.07_Nneg sample8-2.07_Nneg   0.0000000  ELCOR  ELCOR ELCOR-ELCOR\n",
       "2 sample8-4.23_Nneg sample8-2.07_Nneg   0.2068083    Ki3  ELCOR   Ki3-ELCOR\n",
       "3 sample8-1.14_Npos sample8-2.07_Nneg   0.2428838  Tx303  ELCOR Tx303-ELCOR\n",
       "4 sample8-3.28_Npos sample8-2.07_Nneg   0.2563313  Tx303  ELCOR Tx303-ELCOR\n",
       "5 sample8-2.17_Npos sample8-2.07_Nneg   0.1954499   Mo18  ELCOR  Mo18-ELCOR\n",
       "6 sample8-2.25_Nneg sample8-2.07_Nneg   0.1608847    Ki3  ELCOR   Ki3-ELCOR\n",
       "  phy_Dist\n",
       "1   0.0000\n",
       "2   0.0509\n",
       "3   0.0509\n",
       "4   0.0509\n",
       "5   0.0509\n",
       "6   0.0509\n",
       " [1] \"ELCOR-ELCOR\" \"Ki3-ELCOR\"   \"Tx303-ELCOR\" \"Mo18-ELCOR\"  \"ELCOR-Ki3\"  \n",
       " [6] \"Ki3-Ki3\"     \"Tx303-Ki3\"   \"Mo18-Ki3\"    \"ELCOR-Tx303\" \"Ki3-Tx303\"  \n",
       "[11] \"Tx303-Tx303\" \"Mo18-Tx303\"  \"ELCOR-Mo18\"  \"Ki3-Mo18\"    \"Tx303-Mo18\" \n",
       "[16] \"Mo18-Mo18\"  \n",
       "\n",
       "Mantel statistic based on Pearson's product-moment correlation \n",
       "\n",
       "Call:\n",
       "mantel(xdis = Phy_date, ydis = Udate, method = \"pearson\", permutations = 999) \n",
       "\n",
       "Mantel statistic r: 0.6447 \n",
       "      Significance: 0.001 \n",
       "\n",
       "Upper quantiles of permutations (null model):\n",
       "  90%   95% 97.5%   99% \n",
       "0.103 0.143 0.179 0.229 \n",
       "Permutation: free\n",
       "Number of permutations: 999\n",
       "\n"
      ]
     },
     "metadata": {},
     "output_type": "display_data"
    }
   ],
   "source": [
    "%%R\n",
    "# subset matrices\n",
    "D_dist = filter(Dist, PlantA %in% c(\"ELCOR\", \"Ki3\", \"Mo18\", \"Tx303\") & PlantB %in% c(\"ELCOR\", \"Ki3\", \"Mo18\", \"Tx303\"))\n",
    "    D_dist %>% head() %>% print()\n",
    "D_dist$PlantComp %>% unique %>% print\n",
    "#pull matrices\n",
    "    Temp = D_dist[!is.na(D_dist$phy_Dist),]\n",
    "    \n",
    "    #Seperate unifrac and phylogenetic distances retaining plot IDs\n",
    "\n",
    "    Udate = Temp[,c(1,2,3)]\n",
    "    Phy_date = Temp[,c(1,2,7)]\n",
    "\n",
    "\n",
    "    #Re-cast longform to wide form.  \n",
    "    Udate = acast(Udate, PlotA~PlotB)\n",
    "    Phy_date = acast(Phy_date, PlotA~PlotB)\n",
    "\n",
    "    #Convert to distance matrices\n",
    "    Phy_date = as.matrix(Phy_date) %>% dist()\n",
    "    Udate = as.matrix(Udate) %>% dist()\n",
    "\n",
    "M1 = mantel(Phy_date, Udate, method=\"pearson\", permutations=999)\n",
    "print(M1)"
   ]
  },
  {
   "cell_type": "markdown",
   "metadata": {},
   "source": [
    "#### DAP = 88 Mantel test of N economy traits and MCC weighted-unifrac distance"
   ]
  },
  {
   "cell_type": "code",
   "execution_count": 251,
   "metadata": {
    "collapsed": false,
    "scrolled": true
   },
   "outputs": [
    {
     "data": {
      "text/plain": [
       "\n",
       "Mantel statistic based on Pearson's product-moment correlation \n",
       "\n",
       "Call:\n",
       "mantel(xdis = date.wunif.dist, ydis = Fun_dist, method = \"pearson\",      permutations = 999) \n",
       "\n",
       "Mantel statistic r: 0.1731 \n",
       "      Significance: 0.033 \n",
       "\n",
       "Upper quantiles of permutations (null model):\n",
       "  90%   95% 97.5%   99% \n",
       "0.115 0.150 0.182 0.220 \n",
       "Permutation: free\n",
       "Number of permutations: 999\n",
       "\n"
      ]
     },
     "metadata": {},
     "output_type": "display_data"
    }
   ],
   "source": [
    "%%R\n",
    "physeq.Date = subset_samples(physeq.Plant, DAP == \"88\")\n",
    "sd = sample_data(physeq.Date)\n",
    "\n",
    "# Calculate w-unifrac distances\n",
    "registerDoParallel(cores=28)\n",
    "date.wunif.dist = distance(physeq.Date, \n",
    "                      method = \"unifrac\", \n",
    "                      weighted = TRUE,\n",
    "                      fast = TRUE, \n",
    "                      parallel = TRUE, \n",
    "                      normalized = FALSE)\n",
    "\n",
    "#Calculate functional distances\n",
    "Fun_dist = dist(sd[,c(\"Resid_logB\", \"Resid_logN\", \"Resid_logCN\")], method = \"euclidian\")\n",
    "\n",
    "\n",
    "M1 = mantel(date.wunif.dist, Fun_dist, method=\"pearson\", permutations=999)\n",
    "M1"
   ]
  },
  {
   "cell_type": "code",
   "execution_count": null,
   "metadata": {
    "collapsed": true
   },
   "outputs": [],
   "source": []
  },
  {
   "cell_type": "markdown",
   "metadata": {},
   "source": [
    "# Subset of plants from late mid-late season"
   ]
  },
  {
   "cell_type": "code",
   "execution_count": null,
   "metadata": {
    "collapsed": false,
    "hide_input": true,
    "scrolled": true
   },
   "outputs": [],
   "source": [
    "%%R\n",
    "sd$Plant %>% unique"
   ]
  },
  {
   "cell_type": "code",
   "execution_count": 252,
   "metadata": {
    "collapsed": false,
    "hide_input": true
   },
   "outputs": [
    {
     "data": {
      "text/plain": [
       "              PlotA             PlotB w_Unif_Dist PlantA PlantB     PlantComp\n",
       "1 sample5-1.22_Nneg sample5-1.22_Nneg   0.0000000 75-062 75-062 75-062-75-062\n",
       "2 sample6-4.12_Npos sample5-1.22_Nneg   0.1829650   Oh7B 75-062   Oh7B-75-062\n",
       "3 sample5-2.06_Npos sample5-1.22_Nneg   0.1902666   MS71 75-062   MS71-75-062\n",
       "4 sample5-4.08_Npos sample5-1.22_Nneg   0.1757315   MS71 75-062   MS71-75-062\n",
       "5 sample5-4.28_Npos sample5-1.22_Nneg   0.1457043 75-062 75-062 75-062-75-062\n",
       "6 sample5-1.29_Npos sample5-1.22_Nneg   0.2358625  ERATE 75-062  ERATE-75-062\n",
       "  phy_Dist\n",
       "1  0.00000\n",
       "2  0.00020\n",
       "3  0.00020\n",
       "4  0.00020\n",
       "5  0.00000\n",
       "6  0.04967\n",
       "  [1] \"75-062-75-062\" \"Oh7B-75-062\"   \"MS71-75-062\"   \"ERATE-75-062\" \n",
       "  [5] \"B73-75-062\"    \"B97-75-062\"    \"H99-75-062\"    \"Il14H-75-062\" \n",
       "  [9] \"SORBI-75-062\"  \"SORSUD-75-062\" \"ELCOR-75-062\"  \"Ki3-75-062\"   \n",
       " [13] \"HELAN-75-062\"  \"Tx303-75-062\"  \"Hp301-75-062\"  \"Mo18-75-062\"  \n",
       " [17] \"75-062-Oh7B\"   \"Oh7B-Oh7B\"     \"MS71-Oh7B\"     \"ERATE-Oh7B\"   \n",
       " [21] \"B73-Oh7B\"      \"B97-Oh7B\"      \"H99-Oh7B\"      \"Il14H-Oh7B\"   \n",
       " [25] \"SORBI-Oh7B\"    \"SORSUD-Oh7B\"   \"ELCOR-Oh7B\"    \"Ki3-Oh7B\"     \n",
       " [29] \"HELAN-Oh7B\"    \"Tx303-Oh7B\"    \"Hp301-Oh7B\"    \"Mo18-Oh7B\"    \n",
       " [33] \"75-062-MS71\"   \"Oh7B-MS71\"     \"MS71-MS71\"     \"ERATE-MS71\"   \n",
       " [37] \"B73-MS71\"      \"B97-MS71\"      \"H99-MS71\"      \"Il14H-MS71\"   \n",
       " [41] \"SORBI-MS71\"    \"SORSUD-MS71\"   \"ELCOR-MS71\"    \"Ki3-MS71\"     \n",
       " [45] \"HELAN-MS71\"    \"Tx303-MS71\"    \"Hp301-MS71\"    \"Mo18-MS71\"    \n",
       " [49] \"75-062-ERATE\"  \"Oh7B-ERATE\"    \"MS71-ERATE\"    \"ERATE-ERATE\"  \n",
       " [53] \"B73-ERATE\"     \"B97-ERATE\"     \"H99-ERATE\"     \"Il14H-ERATE\"  \n",
       " [57] \"SORBI-ERATE\"   \"SORSUD-ERATE\"  \"ELCOR-ERATE\"   \"Ki3-ERATE\"    \n",
       " [61] \"HELAN-ERATE\"   \"Tx303-ERATE\"   \"Hp301-ERATE\"   \"Mo18-ERATE\"   \n",
       " [65] \"75-062-B73\"    \"Oh7B-B73\"      \"MS71-B73\"      \"ERATE-B73\"    \n",
       " [69] \"B73-B73\"       \"B97-B73\"       \"H99-B73\"       \"Il14H-B73\"    \n",
       " [73] \"SORBI-B73\"     \"SORSUD-B73\"    \"ELCOR-B73\"     \"Ki3-B73\"      \n",
       " [77] \"HELAN-B73\"     \"Tx303-B73\"     \"Hp301-B73\"     \"Mo18-B73\"     \n",
       " [81] \"75-062-B97\"    \"Oh7B-B97\"      \"MS71-B97\"      \"ERATE-B97\"    \n",
       " [85] \"B73-B97\"       \"B97-B97\"       \"H99-B97\"       \"Il14H-B97\"    \n",
       " [89] \"SORBI-B97\"     \"SORSUD-B97\"    \"ELCOR-B97\"     \"Ki3-B97\"      \n",
       " [93] \"HELAN-B97\"     \"Tx303-B97\"     \"Hp301-B97\"     \"Mo18-B97\"     \n",
       " [97] \"75-062-H99\"    \"Oh7B-H99\"      \"MS71-H99\"      \"ERATE-H99\"    \n",
       "[101] \"B73-H99\"       \"B97-H99\"       \"H99-H99\"       \"Il14H-H99\"    \n",
       "[105] \"SORBI-H99\"     \"SORSUD-H99\"    \"ELCOR-H99\"     \"Ki3-H99\"      \n",
       "[109] \"HELAN-H99\"     \"Tx303-H99\"     \"Hp301-H99\"     \"Mo18-H99\"     \n",
       "[113] \"75-062-Il14H\"  \"Oh7B-Il14H\"    \"MS71-Il14H\"    \"ERATE-Il14H\"  \n",
       "[117] \"B73-Il14H\"     \"B97-Il14H\"     \"H99-Il14H\"     \"Il14H-Il14H\"  \n",
       "[121] \"SORBI-Il14H\"   \"SORSUD-Il14H\"  \"ELCOR-Il14H\"   \"Ki3-Il14H\"    \n",
       "[125] \"HELAN-Il14H\"   \"Tx303-Il14H\"   \"Hp301-Il14H\"   \"Mo18-Il14H\"   \n",
       "[129] \"75-062-SORBI\"  \"Oh7B-SORBI\"    \"MS71-SORBI\"    \"ERATE-SORBI\"  \n",
       "[133] \"B73-SORBI\"     \"B97-SORBI\"     \"H99-SORBI\"     \"Il14H-SORBI\"  \n",
       "[137] \"SORBI-SORBI\"   \"SORSUD-SORBI\"  \"ELCOR-SORBI\"   \"Ki3-SORBI\"    \n",
       "[141] \"HELAN-SORBI\"   \"Tx303-SORBI\"   \"Hp301-SORBI\"   \"Mo18-SORBI\"   \n",
       "[145] \"75-062-SORSUD\" \"Oh7B-SORSUD\"   \"MS71-SORSUD\"   \"ERATE-SORSUD\" \n",
       "[149] \"B73-SORSUD\"    \"B97-SORSUD\"    \"H99-SORSUD\"    \"Il14H-SORSUD\" \n",
       "[153] \"SORBI-SORSUD\"  \"SORSUD-SORSUD\" \"ELCOR-SORSUD\"  \"Ki3-SORSUD\"   \n",
       "[157] \"HELAN-SORSUD\"  \"Tx303-SORSUD\"  \"Hp301-SORSUD\"  \"Mo18-SORSUD\"  \n",
       "[161] \"75-062-ELCOR\"  \"Oh7B-ELCOR\"    \"MS71-ELCOR\"    \"ERATE-ELCOR\"  \n",
       "[165] \"B73-ELCOR\"     \"B97-ELCOR\"     \"H99-ELCOR\"     \"Il14H-ELCOR\"  \n",
       "[169] \"SORBI-ELCOR\"   \"SORSUD-ELCOR\"  \"ELCOR-ELCOR\"   \"Ki3-ELCOR\"    \n",
       "[173] \"HELAN-ELCOR\"   \"Tx303-ELCOR\"   \"Hp301-ELCOR\"   \"Mo18-ELCOR\"   \n",
       "[177] \"75-062-Ki3\"    \"Oh7B-Ki3\"      \"MS71-Ki3\"      \"ERATE-Ki3\"    \n",
       "[181] \"B73-Ki3\"       \"B97-Ki3\"       \"H99-Ki3\"       \"Il14H-Ki3\"    \n",
       "[185] \"SORBI-Ki3\"     \"SORSUD-Ki3\"    \"ELCOR-Ki3\"     \"Ki3-Ki3\"      \n",
       "[189] \"HELAN-Ki3\"     \"Tx303-Ki3\"     \"Hp301-Ki3\"     \"Mo18-Ki3\"     \n",
       "[193] \"75-062-HELAN\"  \"Oh7B-HELAN\"    \"MS71-HELAN\"    \"ERATE-HELAN\"  \n",
       "[197] \"B73-HELAN\"     \"B97-HELAN\"     \"H99-HELAN\"     \"Il14H-HELAN\"  \n",
       "[201] \"SORBI-HELAN\"   \"SORSUD-HELAN\"  \"ELCOR-HELAN\"   \"Ki3-HELAN\"    \n",
       "[205] \"HELAN-HELAN\"   \"Tx303-HELAN\"   \"Hp301-HELAN\"   \"Mo18-HELAN\"   \n",
       "[209] \"75-062-Tx303\"  \"Oh7B-Tx303\"    \"MS71-Tx303\"    \"ERATE-Tx303\"  \n",
       "[213] \"B73-Tx303\"     \"B97-Tx303\"     \"H99-Tx303\"     \"Il14H-Tx303\"  \n",
       "[217] \"SORBI-Tx303\"   \"SORSUD-Tx303\"  \"ELCOR-Tx303\"   \"Ki3-Tx303\"    \n",
       "[221] \"HELAN-Tx303\"   \"Tx303-Tx303\"   \"Hp301-Tx303\"   \"Mo18-Tx303\"   \n",
       "[225] \"75-062-Hp301\"  \"Oh7B-Hp301\"    \"MS71-Hp301\"    \"ERATE-Hp301\"  \n",
       "[229] \"B73-Hp301\"     \"B97-Hp301\"     \"H99-Hp301\"     \"Il14H-Hp301\"  \n",
       "[233] \"SORBI-Hp301\"   \"SORSUD-Hp301\"  \"ELCOR-Hp301\"   \"Ki3-Hp301\"    \n",
       "[237] \"HELAN-Hp301\"   \"Tx303-Hp301\"   \"Hp301-Hp301\"   \"Mo18-Hp301\"   \n",
       "[241] \"75-062-Mo18\"   \"Oh7B-Mo18\"     \"MS71-Mo18\"     \"ERATE-Mo18\"   \n",
       "[245] \"B73-Mo18\"      \"B97-Mo18\"      \"H99-Mo18\"      \"Il14H-Mo18\"   \n",
       "[249] \"SORBI-Mo18\"    \"SORSUD-Mo18\"   \"ELCOR-Mo18\"    \"Ki3-Mo18\"     \n",
       "[253] \"HELAN-Mo18\"    \"Tx303-Mo18\"    \"Hp301-Mo18\"    \"Mo18-Mo18\"    \n",
       "\n",
       "Mantel statistic based on Pearson's product-moment correlation \n",
       "\n",
       "Call:\n",
       "mantel(xdis = Phy_date, ydis = Udate, method = \"pearson\", permutations = 999) \n",
       "\n",
       "Mantel statistic r: 0.3191 \n",
       "      Significance: 0.001 \n",
       "\n",
       "Upper quantiles of permutations (null model):\n",
       "   90%    95%  97.5%    99% \n",
       "0.0773 0.0999 0.1284 0.1587 \n",
       "Permutation: free\n",
       "Number of permutations: 999\n",
       "\n"
      ]
     },
     "metadata": {},
     "output_type": "display_data"
    }
   ],
   "source": [
    "%%R\n",
    "# subset matrices\n",
    "D_dist = filter(Dist, PlantA %in% c(\"75-062\", \"Oh7B\", \"MS71\", \"ERATE\", \"B73\", \"B97\", \"H99\", \"Il14H\",  \n",
    "                                    \"SORBI\",  \"SORSUD\", \"ELCOR\",\"Ki3\", \"HELAN\", \"Tx303\",  \"Hp301\",\"Mo18\") & PlantB %in% \n",
    "                c(\"75-062\", \"Oh7B\", \"MS71\", \"ERATE\", \"B73\", \"B97\", \"H99\", \"Il14H\",  \n",
    "                                    \"SORBI\",  \"SORSUD\", \"ELCOR\",\"Ki3\", \"HELAN\", \"Tx303\",  \"Hp301\",\"Mo18\"))\n",
    "    D_dist %>% head() %>% print()\n",
    "D_dist$PlantComp %>% unique %>% print\n",
    "#pull matrices\n",
    "    Temp = D_dist[!is.na(D_dist$phy_Dist),]\n",
    "    \n",
    "    #Seperate unifrac and phylogenetic distances retaining plot IDs\n",
    "\n",
    "    Udate = Temp[,c(1,2,3)]\n",
    "    Phy_date = Temp[,c(1,2,7)]\n",
    "\n",
    "\n",
    "    #Re-cast longform to wide form.  \n",
    "    Udate = acast(Udate, PlotA~PlotB)\n",
    "    Phy_date = acast(Phy_date, PlotA~PlotB)\n",
    "\n",
    "    #Convert to distance matrices\n",
    "    Phy_date = as.matrix(Phy_date) %>% dist()\n",
    "    Udate = as.matrix(Udate) %>% dist()\n",
    "\n",
    "M1 = mantel(Phy_date, Udate, method=\"pearson\", permutations=999)\n",
    "print(M1)"
   ]
  },
  {
   "cell_type": "markdown",
   "metadata": {},
   "source": [
    "### Mantel test of N economy traits and MCC weighted-unifrac distance"
   ]
  },
  {
   "cell_type": "code",
   "execution_count": 254,
   "metadata": {
    "collapsed": false,
    "hide_input": false
   },
   "outputs": [
    {
     "data": {
      "text/plain": [
       "\n",
       "Mantel statistic based on Pearson's product-moment correlation \n",
       "\n",
       "Call:\n",
       "mantel(xdis = date.wunif.dist, ydis = Fun_dist, method = \"pearson\",      permutations = 999) \n",
       "\n",
       "Mantel statistic r: 0.2163 \n",
       "      Significance: 0.001 \n",
       "\n",
       "Upper quantiles of permutations (null model):\n",
       "   90%    95%  97.5%    99% \n",
       "0.0654 0.0844 0.1011 0.1240 \n",
       "Permutation: free\n",
       "Number of permutations: 999\n",
       "\n"
      ]
     },
     "metadata": {},
     "output_type": "display_data"
    }
   ],
   "source": [
    "%%R\n",
    "\n",
    "physeq.Date = subset_samples(physeq.Plant, DAP %in% c(\"72\", \"79\", \"84\", \"88\"))\n",
    "sd = sample_data(physeq.Date)\n",
    "\n",
    "# Calculate w-unifrac distances\n",
    "registerDoParallel(cores=28)\n",
    "date.wunif.dist = distance(physeq.Date, \n",
    "                      method = \"unifrac\", \n",
    "                      weighted = TRUE,\n",
    "                      fast = TRUE, \n",
    "                      parallel = TRUE, \n",
    "                      normalized = FALSE)\n",
    "\n",
    "#Calculate functional distances\n",
    "Fun_dist = dist(sd[,c(\"A_Resid_logB\", \"A_Resid_logN\", \"A_Resid_logCN\")], method = \"euclidian\")\n",
    "\n",
    "\n",
    "M1 = mantel(date.wunif.dist, Fun_dist, method=\"pearson\", permutations=999)\n",
    "M1"
   ]
  },
  {
   "cell_type": "markdown",
   "metadata": {},
   "source": [
    "#### CAP analysis of N economy traits and MCC"
   ]
  },
  {
   "cell_type": "code",
   "execution_count": 255,
   "metadata": {
    "collapsed": false,
    "hide_input": false,
    "scrolled": true
   },
   "outputs": [
    {
     "data": {
      "text/plain": [
       "[1] 72 79 84 88\n",
       "Levels: 72 79 84 88\n"
      ]
     },
     "metadata": {},
     "output_type": "display_data"
    },
    {
     "data": {
      "image/png": "[encoded data removed]"
     },
     "metadata": {},
     "output_type": "display_data"
    }
   ],
   "source": [
    "%%R -w 600 -h 600\n",
    "phy = physeq.Date\n",
    "\n",
    "sample_data(phy)$DAP = as.factor(sample_data(phy)$DAP)\n",
    "unique(sample_data(phy)$DAP) %>% print\n",
    "# CAP ordinate\n",
    "cap.ord = ordinate(\n",
    "    physeq = phy, \n",
    "    method = \"CAP\",\n",
    "    distance = date.wunif.dist,\n",
    "    formula = ~ A_Resid_logB + A_Resid_logN + A_Resid_logCN + Condition(Library) + Condition(DAP)\n",
    ")\n",
    "\n",
    "# CAP plot\n",
    "cap.plot <- plot_ordination(\n",
    "    phy, \n",
    "    cap.ord, \n",
    "    color = \"Plant\", \n",
    "    axes = c(1,2)\n",
    "    ) + \n",
    "    aes(shape = Type) + \n",
    "    geom_point(aes(colour = Plant), \n",
    "        alpha= 1, \n",
    "        size = 4) + \n",
    "    #geom_point(colour = \"grey90\", \n",
    "    #    size = 1.5) + \n",
    "    theme_bw(base_size = 16)\n",
    "    #scale_color_manual(values = c(\"#a65628\", \"red\", \"#ffae19\", \"#4daf4a\", \n",
    "    #    \"#1919ff\", \"darkorchid3\", \"magenta\"))\n",
    "\n",
    "# Now add the environmental variables as arrows\n",
    "arrowmat <- vegan::scores(cap.ord, display = \"bp\")\n",
    "\n",
    "\n",
    "# Add labels, make a data.frame\n",
    "arrowdf <- data.frame(labels = rownames(arrowmat), arrowmat)\n",
    "\n",
    "# Define the arrow aesthetic mapping\n",
    "arrow_map <- aes(xend = CAP1, \n",
    "    yend = CAP2, \n",
    "    x = 0, \n",
    "    y = 0, \n",
    "    shape = NULL, \n",
    "    color = NULL, \n",
    "    label = labels)\n",
    "\n",
    "label_map <- aes(x = 1.3 * CAP1, \n",
    "    y = 1.3 * CAP2, \n",
    "    shape = NULL, \n",
    "    color = NULL, \n",
    "    label = labels)\n",
    "\n",
    "arrowhead = arrow(length = unit(0.02, \"npc\"))\n",
    "\n",
    "# Make a new graphic\n",
    "cap.plot + \n",
    "geom_segment(arrow_map, \n",
    "    size = .5, \n",
    "    data = arrowdf, \n",
    "    color = \"gray\", \n",
    "    arrow = arrowhead\n",
    "    ) + \n",
    "geom_text(label_map, \n",
    "    size = 4,  \n",
    "    data = arrowdf, \n",
    "    show_guide = FALSE)"
   ]
  },
  {
   "cell_type": "code",
   "execution_count": 256,
   "metadata": {
    "collapsed": false
   },
   "outputs": [
    {
     "data": {
      "text/plain": [
       "Permutation test for capscale under reduced model\n",
       "Permutation: free\n",
       "Number of permutations: 999\n",
       "\n",
       "Model: capscale(formula = distance ~ A_Resid_logB + A_Resid_logN + A_Resid_logCN + Condition(Library) + Condition(DAP), data = data)\n",
       "          Df SumOfSqs      F Pr(>F)    \n",
       "Model      3  0.19671 2.7018  0.001 ***\n",
       "Residual 120  2.91219                  \n",
       "---\n",
       "Signif. codes:  0 ‘***’ 0.001 ‘**’ 0.01 ‘*’ 0.05 ‘.’ 0.1 ‘ ’ 1\n"
      ]
     },
     "metadata": {},
     "output_type": "display_data"
    }
   ],
   "source": [
    "%%R\n",
    "anova(cap.ord)"
   ]
  },
  {
   "cell_type": "markdown",
   "metadata": {},
   "source": [
    "#### Include leaf traits (subset of plants from above)"
   ]
  },
  {
   "cell_type": "code",
   "execution_count": null,
   "metadata": {
    "collapsed": false,
    "hide_input": true
   },
   "outputs": [],
   "source": [
    "%%R\n",
    "physeq.Date = subset_samples(physeq.Plant, DAP %in% c(\"72\", \"79\", \"84\", \"88\"))\n",
    "\n",
    "physeq.Date = subset_samples(physeq.Date, !is.na(Resid_logSLA) & !is.na(Resid_LeafN))\n",
    "\n",
    "date.wunif.dist = distance(physeq.Date, \n",
    "                      method = \"unifrac\", \n",
    "                      weighted = TRUE,\n",
    "                      fast = TRUE, \n",
    "                      parallel = TRUE, \n",
    "                      normalized = FALSE)"
   ]
  },
  {
   "cell_type": "code",
   "execution_count": null,
   "metadata": {
    "collapsed": false,
    "hide_input": false
   },
   "outputs": [],
   "source": [
    "%%R -w 600 -h 600\n",
    "\n",
    "sample_data(physeq.Date)$DAP = as.factor(sample_data(physeq.Date)$DAP)\n",
    "unique(sample_data(physeq.Date)$DAP) %>% print\n",
    "# CAP ordinate\n",
    "cap.ord = ordinate(\n",
    "    physeq = physeq.Date, \n",
    "    method = \"CAP\",\n",
    "    distance = date.wunif.dist,\n",
    "    formula = ~ Resid_logB + Resid_logN + Resid_logCN + Resid_logSLA + Resid_LeafN + Condition(Library)\n",
    ")\n",
    "\n",
    "# CAP plot\n",
    "cap.plot <- plot_ordination(\n",
    "    phy, \n",
    "    cap.ord, \n",
    "    color = \"Plant\", \n",
    "    axes = c(1,2)\n",
    "    ) + \n",
    "    aes(shape = Type) + \n",
    "    geom_point(aes(colour = Plant), \n",
    "        alpha= 1, \n",
    "        size = 4) + \n",
    "    #geom_point(colour = \"grey90\", \n",
    "    #    size = 1.5) + \n",
    "    theme_bw(base_size = 16)\n",
    "    #scale_color_manual(values = c(\"#a65628\", \"red\", \"#ffae19\", \"#4daf4a\", \n",
    "    #    \"#1919ff\", \"darkorchid3\", \"magenta\"))\n",
    "\n",
    "# Now add the environmental variables as arrows\n",
    "arrowmat <- vegan::scores(cap.ord, display = \"bp\")\n",
    "\n",
    "\n",
    "# Add labels, make a data.frame\n",
    "arrowdf <- data.frame(labels = rownames(arrowmat), arrowmat)\n",
    "\n",
    "# Define the arrow aesthetic mapping\n",
    "arrow_map <- aes(xend = CAP1, \n",
    "    yend = CAP2, \n",
    "    x = 0, \n",
    "    y = 0, \n",
    "    shape = NULL, \n",
    "    color = NULL, \n",
    "    label = labels)\n",
    "\n",
    "label_map <- aes(x = 1.3 * CAP1, \n",
    "    y = 1.3 * CAP2, \n",
    "    shape = NULL, \n",
    "    color = NULL, \n",
    "    label = labels)\n",
    "\n",
    "arrowhead = arrow(length = unit(0.02, \"npc\"))\n",
    "\n",
    "# Make a new graphic\n",
    "cap.plot + \n",
    "geom_segment(arrow_map, \n",
    "    size = .5, \n",
    "    data = arrowdf, \n",
    "    color = \"gray\", \n",
    "    arrow = arrowhead\n",
    "    ) + \n",
    "geom_text(label_map, \n",
    "    size = 4,  \n",
    "    data = arrowdf, \n",
    "    show_guide = FALSE)"
   ]
  },
  {
   "cell_type": "code",
   "execution_count": null,
   "metadata": {
    "collapsed": false
   },
   "outputs": [],
   "source": [
    "%%R\n",
    "anova(cap.ord)"
   ]
  },
  {
   "cell_type": "markdown",
   "metadata": {},
   "source": [
    "# Subset of annuals from late mid-late season"
   ]
  },
  {
   "cell_type": "code",
   "execution_count": 257,
   "metadata": {
    "collapsed": false,
    "hide_input": true
   },
   "outputs": [
    {
     "data": {
      "text/plain": [
       "              PlotA             PlotB w_Unif_Dist PlantA PlantB   PlantComp\n",
       "1 sample5-1.29_Npos sample5-1.29_Npos   0.0000000  ERATE  ERATE ERATE-ERATE\n",
       "2 sample6-2.26_Nneg sample5-1.29_Npos   0.2831953    B73  ERATE   B73-ERATE\n",
       "3 sample6-3.18_Nneg sample5-1.29_Npos   0.2582766    B73  ERATE   B73-ERATE\n",
       "4 sample5-3.11_Nneg sample5-1.29_Npos   0.1783563  ERATE  ERATE ERATE-ERATE\n",
       "5 sample6-4.30_Npos sample5-1.29_Npos   0.2177385    B73  ERATE   B73-ERATE\n",
       "6 sample6-1.12_Npos sample5-1.29_Npos   0.2506999    B73  ERATE   B73-ERATE\n",
       "  phy_Dist\n",
       "1  0.00000\n",
       "2  0.04967\n",
       "3  0.04967\n",
       "4  0.00000\n",
       "5  0.04967\n",
       "6  0.04967\n",
       " [1] \"ERATE-ERATE\"   \"B73-ERATE\"     \"SORBI-ERATE\"   \"SORSUD-ERATE\" \n",
       " [5] \"ELCOR-ERATE\"   \"HELAN-ERATE\"   \"ERATE-B73\"     \"B73-B73\"      \n",
       " [9] \"SORBI-B73\"     \"SORSUD-B73\"    \"ELCOR-B73\"     \"HELAN-B73\"    \n",
       "[13] \"ERATE-SORBI\"   \"B73-SORBI\"     \"SORBI-SORBI\"   \"SORSUD-SORBI\" \n",
       "[17] \"ELCOR-SORBI\"   \"HELAN-SORBI\"   \"ERATE-SORSUD\"  \"B73-SORSUD\"   \n",
       "[21] \"SORBI-SORSUD\"  \"SORSUD-SORSUD\" \"ELCOR-SORSUD\"  \"HELAN-SORSUD\" \n",
       "[25] \"ERATE-ELCOR\"   \"B73-ELCOR\"     \"SORBI-ELCOR\"   \"SORSUD-ELCOR\" \n",
       "[29] \"ELCOR-ELCOR\"   \"HELAN-ELCOR\"   \"ERATE-HELAN\"   \"B73-HELAN\"    \n",
       "[33] \"SORBI-HELAN\"   \"SORSUD-HELAN\"  \"ELCOR-HELAN\"   \"HELAN-HELAN\"  \n",
       "\n",
       "Mantel statistic based on Pearson's product-moment correlation \n",
       "\n",
       "Call:\n",
       "mantel(xdis = Phy_date, ydis = Udate, method = \"pearson\", permutations = 999) \n",
       "\n",
       "Mantel statistic r: 0.1967 \n",
       "      Significance: 0.001 \n",
       "\n",
       "Upper quantiles of permutations (null model):\n",
       "   90%    95%  97.5%    99% \n",
       "0.0797 0.1105 0.1376 0.1658 \n",
       "Permutation: free\n",
       "Number of permutations: 999\n",
       "\n"
      ]
     },
     "metadata": {},
     "output_type": "display_data"
    }
   ],
   "source": [
    "%%R\n",
    "# subset matrices\n",
    "D_dist = filter(Dist, PlantA %in% c( \"ERATE\", \"SORBI\",  \"SORSUD\", \"ELCOR\",\"HELAN\", \"B73\") & PlantB %in% \n",
    "                                    \n",
    "                c(\"ERATE\", \"SORBI\",  \"SORSUD\", \"ELCOR\",\"HELAN\", \"B73\"))\n",
    "    D_dist %>% head() %>% print()\n",
    "D_dist$PlantComp %>% unique %>% print\n",
    "#pull matrices\n",
    "    Temp = D_dist[!is.na(D_dist$phy_Dist),]\n",
    "    \n",
    "    #Seperate unifrac and phylogenetic distances retaining plot IDs\n",
    "\n",
    "    Udate = Temp[,c(1,2,3)]\n",
    "    Phy_date = Temp[,c(1,2,7)]\n",
    "\n",
    "\n",
    "    #Re-cast longform to wide form.  \n",
    "    Udate = acast(Udate, PlotA~PlotB)\n",
    "    Phy_date = acast(Phy_date, PlotA~PlotB)\n",
    "\n",
    "    #Convert to distance matrices\n",
    "    Phy_date = as.matrix(Phy_date) %>% dist()\n",
    "    Udate = as.matrix(Udate) %>% dist()\n",
    "\n",
    "M1 = mantel(Phy_date, Udate, method=\"pearson\", permutations=999)\n",
    "print(M1)"
   ]
  },
  {
   "cell_type": "markdown",
   "metadata": {},
   "source": [
    "* Note that the phylogenetic test is calculated on both Npos and Nneg plots, need to correct to match below"
   ]
  },
  {
   "cell_type": "markdown",
   "metadata": {},
   "source": [
    "### Mantel test of N economy traits and MCC weighted-unifrac distance"
   ]
  },
  {
   "cell_type": "code",
   "execution_count": 258,
   "metadata": {
    "collapsed": false,
    "hide_input": false
   },
   "outputs": [
    {
     "data": {
      "text/plain": [
       "\n",
       "Mantel statistic based on Pearson's product-moment correlation \n",
       "\n",
       "Call:\n",
       "mantel(xdis = date.wunif.dist, ydis = Fun_dist, method = \"pearson\",      permutations = 999) \n",
       "\n",
       "Mantel statistic r: 0.4859 \n",
       "      Significance: 0.001 \n",
       "\n",
       "Upper quantiles of permutations (null model):\n",
       "  90%   95% 97.5%   99% \n",
       "0.103 0.140 0.173 0.201 \n",
       "Permutation: free\n",
       "Number of permutations: 999\n",
       "\n"
      ]
     },
     "metadata": {},
     "output_type": "display_data"
    }
   ],
   "source": [
    "%%R\n",
    "\n",
    "physeq.Date = subset_samples(physeq.Plant, DAP %in% c(\"72\", \"79\", \"84\", \"88\") & Type != \"Maize\" & Treatment == \"Nneg\"| \n",
    "                            Plant == \"B73\" & Treatment == \"Nneg\")\n",
    "sd = sample_data(physeq.Date)\n",
    "\n",
    "# Calculate w-unifrac distances\n",
    "registerDoParallel(cores=28)\n",
    "date.wunif.dist = distance(physeq.Date, \n",
    "                      method = \"unifrac\", \n",
    "                      weighted = TRUE,\n",
    "                      fast = TRUE, \n",
    "                      parallel = TRUE, \n",
    "                      normalized = FALSE)\n",
    "\n",
    "#Calculate functional distances\n",
    "Fun_dist = dist(sd[,c(\"A_Resid_logB\", \"A_Resid_logN\", \"A_Resid_logCN\")], method = \"euclidian\")\n",
    "\n",
    "\n",
    "M1 = mantel(date.wunif.dist, Fun_dist, method=\"pearson\", permutations=999)\n",
    "M1"
   ]
  },
  {
   "cell_type": "markdown",
   "metadata": {},
   "source": [
    "#### CAP analysis of N economy traits and MCC"
   ]
  },
  {
   "cell_type": "code",
   "execution_count": 260,
   "metadata": {
    "collapsed": false,
    "hide_input": false,
    "scrolled": false
   },
   "outputs": [
    {
     "data": {
      "text/plain": [
       "[1] 79 72 88 84\n",
       "Levels: 72 79 84 88\n"
      ]
     },
     "metadata": {},
     "output_type": "display_data"
    },
    {
     "data": {
      "image/png": "[encoded data removed]"
     },
     "metadata": {},
     "output_type": "display_data"
    }
   ],
   "source": [
    "%%R -w 600 -h 600\n",
    "phy = physeq.Date\n",
    "\n",
    "sample_data(phy)$DAP = as.factor(sample_data(phy)$DAP)\n",
    "unique(sample_data(phy)$DAP) %>% print\n",
    "# CAP ordinate\n",
    "cap.ord = ordinate(\n",
    "    physeq = phy, \n",
    "    method = \"CAP\",\n",
    "    distance = date.wunif.dist,\n",
    "    formula = ~ A_Resid_logB + A_Resid_logN + A_Resid_logCN + Condition(Library) + Condition(DAP)\n",
    ")\n",
    "\n",
    "# CAP plot\n",
    "cap.plot <- plot_ordination(\n",
    "    phy, \n",
    "    cap.ord, \n",
    "    color = \"Plant\", \n",
    "    axes = c(1,2)\n",
    "    ) + \n",
    "    aes(shape = Type) + \n",
    "    geom_point(aes(colour = Plant), \n",
    "        alpha= 1, \n",
    "        size = 4) + \n",
    "    #geom_point(colour = \"grey90\", \n",
    "    #    size = 1.5) + \n",
    "    theme_bw(base_size = 16)\n",
    "    #scale_color_manual(values = c(\"#a65628\", \"red\", \"#ffae19\", \"#4daf4a\", \n",
    "    #    \"#1919ff\", \"darkorchid3\", \"magenta\"))\n",
    "\n",
    "# Now add the environmental variables as arrows\n",
    "arrowmat <- vegan::scores(cap.ord, display = \"bp\")\n",
    "\n",
    "\n",
    "# Add labels, make a data.frame\n",
    "arrowdf <- data.frame(labels = rownames(arrowmat), arrowmat)\n",
    "\n",
    "# Define the arrow aesthetic mapping\n",
    "arrow_map <- aes(xend = CAP1, \n",
    "    yend = CAP2, \n",
    "    x = 0, \n",
    "    y = 0, \n",
    "    shape = NULL, \n",
    "    color = NULL, \n",
    "    label = labels)\n",
    "\n",
    "label_map <- aes(x = 1.3 * CAP1, \n",
    "    y = 1.3 * CAP2, \n",
    "    shape = NULL, \n",
    "    color = NULL, \n",
    "    label = labels)\n",
    "\n",
    "arrowhead = arrow(length = unit(0.02, \"npc\"))\n",
    "\n",
    "# Make a new graphic\n",
    "cap.plot + \n",
    "geom_segment(arrow_map, \n",
    "    size = .5, \n",
    "    data = arrowdf, \n",
    "    color = \"gray\", \n",
    "    arrow = arrowhead\n",
    "    ) + \n",
    "geom_text(label_map, \n",
    "    size = 4,  \n",
    "    data = arrowdf, \n",
    "    show_guide = FALSE)"
   ]
  },
  {
   "cell_type": "code",
   "execution_count": null,
   "metadata": {
    "collapsed": false,
    "scrolled": true
   },
   "outputs": [],
   "source": [
    "%%R\n",
    "anova(cap.ord)"
   ]
  },
  {
   "cell_type": "markdown",
   "metadata": {},
   "source": [
    "# Subset to all annuals "
   ]
  },
  {
   "cell_type": "code",
   "execution_count": null,
   "metadata": {
    "collapsed": false
   },
   "outputs": [],
   "source": [
    "%%R\n",
    "sample_data(physeq.Plant)$Plant %>% levels "
   ]
  },
  {
   "cell_type": "code",
   "execution_count": 190,
   "metadata": {
    "collapsed": false,
    "hide_input": true
   },
   "outputs": [
    {
     "name": "stdout",
     "output_type": "stream",
     "text": [
      "              PlotA             PlotB w_Unif_Dist PlantA PlantB   PlantComp\n",
      "1 sample4-2.02_Nneg sample4-2.02_Nneg   0.0000000  SETFA  SETFA SETFA-SETFA\n",
      "2 sample4-4.21_Nneg sample4-2.02_Nneg   0.1853471  SETFA  SETFA SETFA-SETFA\n",
      "3 sample1-2.23_Nneg sample4-2.02_Nneg   0.2520001  FAGES  SETFA FAGES-SETFA\n",
      "4 sample6-2.26_Nneg sample4-2.02_Nneg   0.2347751    B73  SETFA   B73-SETFA\n",
      "5 sample6-3.18_Nneg sample4-2.02_Nneg   0.2039437    B73  SETFA   B73-SETFA\n",
      "6 sample2-2.08_Nneg sample4-2.02_Nneg   0.1732889  AMAPO  SETFA AMAPO-SETFA\n",
      "                             PlotComp phy_Dist    PC1Dist    PC2Dist   PC3Dist\n",
      "1 sample4-2.02_Nneg-sample4-2.02_Nneg  0.00000 0.00000000 0.00000000 0.0000000\n",
      "2 sample4-4.21_Nneg-sample4-2.02_Nneg  0.00000 0.04752171 0.37110227 0.1860876\n",
      "3 sample1-2.23_Nneg-sample4-2.02_Nneg  0.43592 1.47250022 0.47286558 0.7256851\n",
      "4 sample6-2.26_Nneg-sample4-2.02_Nneg  0.03111 0.84824868 2.18191866 1.7316763\n",
      "5 sample6-3.18_Nneg-sample4-2.02_Nneg  0.03111 0.23856399 1.72307170 1.3541271\n",
      "6 sample2-2.08_Nneg-sample4-2.02_Nneg  0.39242 2.14195968 0.02865206 1.7034785\n",
      "    FunDist DAY_A DAY_B TimeDist\n",
      "1 0.0000000    61    61        0\n",
      "2 0.1336684    61    61        0\n",
      "3 3.0684651    36    61       25\n",
      "4 5.2438484    79    61       18\n",
      "5 5.2284409    79    61       18\n",
      "6 1.5710526    53    61        8\n",
      "  [1] \"SETFA-SETFA\"   \"FAGES-SETFA\"   \"B73-SETFA\"     \"AMAPO-SETFA\"  \n",
      "  [5] \"GLYMA-SETFA\"   \"ERATE-SETFA\"   \"ELCOR-SETFA\"   \"SORSUD-SETFA\" \n",
      "  [9] \"SORBI-SETFA\"   \"ABUTH-SETFA\"   \"HELAN-SETFA\"   \"ECHCG-SETFA\"  \n",
      " [13] \"SETFA-FAGES\"   \"FAGES-FAGES\"   \"B73-FAGES\"     \"AMAPO-FAGES\"  \n",
      " [17] \"GLYMA-FAGES\"   \"ERATE-FAGES\"   \"ELCOR-FAGES\"   \"SORSUD-FAGES\" \n",
      " [21] \"SORBI-FAGES\"   \"ABUTH-FAGES\"   \"HELAN-FAGES\"   \"ECHCG-FAGES\"  \n",
      " [25] \"SETFA-B73\"     \"FAGES-B73\"     \"B73-B73\"       \"AMAPO-B73\"    \n",
      " [29] \"GLYMA-B73\"     \"ERATE-B73\"     \"ELCOR-B73\"     \"SORSUD-B73\"   \n",
      " [33] \"SORBI-B73\"     \"ABUTH-B73\"     \"HELAN-B73\"     \"ECHCG-B73\"    \n",
      " [37] \"SETFA-AMAPO\"   \"FAGES-AMAPO\"   \"B73-AMAPO\"     \"AMAPO-AMAPO\"  \n",
      " [41] \"GLYMA-AMAPO\"   \"ERATE-AMAPO\"   \"ELCOR-AMAPO\"   \"SORSUD-AMAPO\" \n",
      " [45] \"SORBI-AMAPO\"   \"ABUTH-AMAPO\"   \"HELAN-AMAPO\"   \"ECHCG-AMAPO\"  \n",
      " [49] \"SETFA-GLYMA\"   \"FAGES-GLYMA\"   \"B73-GLYMA\"     \"AMAPO-GLYMA\"  \n",
      " [53] \"GLYMA-GLYMA\"   \"ERATE-GLYMA\"   \"ELCOR-GLYMA\"   \"SORSUD-GLYMA\" \n",
      " [57] \"SORBI-GLYMA\"   \"ABUTH-GLYMA\"   \"HELAN-GLYMA\"   \"ECHCG-GLYMA\"  \n",
      " [61] \"SETFA-ERATE\"   \"FAGES-ERATE\"   \"B73-ERATE\"     \"AMAPO-ERATE\"  \n",
      " [65] \"GLYMA-ERATE\"   \"ERATE-ERATE\"   \"ELCOR-ERATE\"   \"SORSUD-ERATE\" \n",
      " [69] \"SORBI-ERATE\"   \"ABUTH-ERATE\"   \"HELAN-ERATE\"   \"ECHCG-ERATE\"  \n",
      " [73] \"SETFA-ELCOR\"   \"FAGES-ELCOR\"   \"B73-ELCOR\"     \"AMAPO-ELCOR\"  \n",
      " [77] \"GLYMA-ELCOR\"   \"ERATE-ELCOR\"   \"ELCOR-ELCOR\"   \"SORSUD-ELCOR\" \n",
      " [81] \"SORBI-ELCOR\"   \"ABUTH-ELCOR\"   \"HELAN-ELCOR\"   \"ECHCG-ELCOR\"  \n",
      " [85] \"SETFA-SORSUD\"  \"FAGES-SORSUD\"  \"B73-SORSUD\"    \"AMAPO-SORSUD\" \n",
      " [89] \"GLYMA-SORSUD\"  \"ERATE-SORSUD\"  \"ELCOR-SORSUD\"  \"SORSUD-SORSUD\"\n",
      " [93] \"SORBI-SORSUD\"  \"ABUTH-SORSUD\"  \"HELAN-SORSUD\"  \"ECHCG-SORSUD\" \n",
      " [97] \"SETFA-SORBI\"   \"FAGES-SORBI\"   \"B73-SORBI\"     \"AMAPO-SORBI\"  \n",
      "[101] \"GLYMA-SORBI\"   \"ERATE-SORBI\"   \"ELCOR-SORBI\"   \"SORSUD-SORBI\" \n",
      "[105] \"SORBI-SORBI\"   \"ABUTH-SORBI\"   \"HELAN-SORBI\"   \"ECHCG-SORBI\"  \n",
      "[109] \"SETFA-ABUTH\"   \"FAGES-ABUTH\"   \"B73-ABUTH\"     \"AMAPO-ABUTH\"  \n",
      "[113] \"GLYMA-ABUTH\"   \"ERATE-ABUTH\"   \"ELCOR-ABUTH\"   \"SORSUD-ABUTH\" \n",
      "[117] \"SORBI-ABUTH\"   \"ABUTH-ABUTH\"   \"HELAN-ABUTH\"   \"ECHCG-ABUTH\"  \n",
      "[121] \"SETFA-HELAN\"   \"FAGES-HELAN\"   \"B73-HELAN\"     \"AMAPO-HELAN\"  \n",
      "[125] \"GLYMA-HELAN\"   \"ERATE-HELAN\"   \"ELCOR-HELAN\"   \"SORSUD-HELAN\" \n",
      "[129] \"SORBI-HELAN\"   \"ABUTH-HELAN\"   \"HELAN-HELAN\"   \"ECHCG-HELAN\"  \n",
      "[133] \"SETFA-ECHCG\"   \"FAGES-ECHCG\"   \"B73-ECHCG\"     \"AMAPO-ECHCG\"  \n",
      "[137] \"GLYMA-ECHCG\"   \"ERATE-ECHCG\"   \"ELCOR-ECHCG\"   \"SORSUD-ECHCG\" \n",
      "[141] \"SORBI-ECHCG\"   \"ABUTH-ECHCG\"   \"HELAN-ECHCG\"   \"ECHCG-ECHCG\"\n",
      "Error in cor(as.vector(xdis), ydis, method = method, use = use) : \n",
      "  missing observations in cov/cor\n"
     ]
    },
    {
     "name": "stderr",
     "output_type": "stream",
     "text": [
      "/opt/anaconda/lib/python2.7/site-packages/rpy2/robjects/functions.py:106: UserWarning: Using PlotComp as value column: use value.var to override.\n",
      "\n",
      "  res = super(Function, self).__call__(*new_args, **new_kwargs)\n",
      "/opt/anaconda/lib/python2.7/site-packages/rpy2/robjects/functions.py:106: UserWarning: Error in cor(as.vector(xdis), ydis, method = method, use = use) : \n",
      "  missing observations in cov/cor\n",
      "\n",
      "  res = super(Function, self).__call__(*new_args, **new_kwargs)\n",
      "/opt/anaconda/lib/python2.7/site-packages/rpy2/robjects/functions.py:106: UserWarning: In dist(.) :\n",
      "  res = super(Function, self).__call__(*new_args, **new_kwargs)\n",
      "/opt/anaconda/lib/python2.7/site-packages/rpy2/robjects/functions.py:106: UserWarning:  NAs introduced by coercion\n",
      "\n",
      "  res = super(Function, self).__call__(*new_args, **new_kwargs)\n"
     ]
    }
   ],
   "source": [
    "%%R\n",
    "# subset matrices\n",
    "D_dist = filter(Dist, PlantA %in% c( \"ABUTH\" , \"AMAPO\", \"ECHCG\" , \"ERATE\", \"FAGES\",  \"GLYMA\", \"SETFA\", \"SORBI\",   \n",
    "                                    \"SORSUD\", \"ELCOR\",\"HELAN\", \"B73\") & PlantB %in% \n",
    "                                    \n",
    "                c(\"ABUTH\" , \"AMAPO\", \"ECHCG\" , \"ERATE\", \"FAGES\",  \"GLYMA\", \"SETFA\", \"SORBI\",   \n",
    "                                    \"SORSUD\", \"ELCOR\",\"HELAN\", \"B73\"))\n",
    "    D_dist %>% head() %>% print()\n",
    "D_dist$PlantComp %>% unique %>% print\n",
    "#pull matrices\n",
    "    Temp = D_dist[!is.na(D_dist$phy_Dist),]\n",
    "    \n",
    "    #Seperate unifrac and phylogenetic distances retaining plot IDs\n",
    "\n",
    "    Udate = Temp[,c(1,2,3)]\n",
    "    Phy_date = Temp[,c(1,2,7)]\n",
    "\n",
    "\n",
    "    #Re-cast longform to wide form.  \n",
    "    Udate = acast(Udate, PlotA~PlotB)\n",
    "    Phy_date = acast(Phy_date, PlotA~PlotB)\n",
    "\n",
    "    #Convert to distance matrices\n",
    "    Phy_date = as.matrix(Phy_date) %>% dist()\n",
    "    Udate = as.matrix(Udate) %>% dist()\n",
    "\n",
    "M1 = mantel(Phy_date, Udate, method=\"pearson\", permutations=999)\n",
    "print(M1)"
   ]
  },
  {
   "cell_type": "code",
   "execution_count": null,
   "metadata": {
    "collapsed": false,
    "hide_input": false
   },
   "outputs": [],
   "source": [
    "%%R\n",
    "\n",
    "physeq.Date = subset_samples(physeq.Plant, Type != \"Maize\" & Plant != \"FAGES\" | Plant == \"B73\")\n",
    "sd = sample_data(physeq.Date)\n",
    "\n",
    "# Calculate w-unifrac distances\n",
    "registerDoParallel(cores=28)\n",
    "date.wunif.dist = distance(physeq.Date, \n",
    "                      method = \"unifrac\", \n",
    "                      weighted = TRUE,\n",
    "                      fast = TRUE, \n",
    "                      parallel = TRUE, \n",
    "                      normalized = FALSE)\n",
    "\n",
    "#Calculate functional distances\n",
    "Fun_dist = dist(sd[,c(\"A_Resid_logB\", \"A_Resid_logN\", \"A_Resid_logCN\")], method = \"euclidian\")\n",
    "\n",
    "\n",
    "M1 = mantel(date.wunif.dist, Fun_dist, method=\"pearson\", permutations=999)\n",
    "M1"
   ]
  },
  {
   "cell_type": "markdown",
   "metadata": {},
   "source": [
    "#### CAP analysis of N economy traits and MCC"
   ]
  },
  {
   "cell_type": "code",
   "execution_count": null,
   "metadata": {
    "collapsed": false,
    "hide_input": false,
    "scrolled": false
   },
   "outputs": [],
   "source": [
    "%%R -w 600 -h 600\n",
    "phy = physeq.Date\n",
    "\n",
    "sample_data(phy)$DAP = as.factor(sample_data(phy)$DAP)\n",
    "unique(sample_data(phy)$DAP) %>% print\n",
    "# CAP ordinate\n",
    "cap.ord = ordinate(\n",
    "    physeq = phy, \n",
    "    method = \"CAP\",\n",
    "    distance = date.wunif.dist,\n",
    "    formula = ~  d15N + A_Resid_logB + Condition(Plant)\n",
    ")\n",
    "#formula = ~ A_Resid_logB + A_Resid_logN + A_Resid_logCN + d15N + Condition(Library)\n",
    "# CAP plot\n",
    "cap.plot <- plot_ordination(\n",
    "    phy, \n",
    "    cap.ord, \n",
    "    color = \"Plant\", \n",
    "    axes = c(1,2)\n",
    "    ) + \n",
    "    aes(shape = Type) + \n",
    "    geom_point(aes(colour = Plant), \n",
    "        alpha= 1, \n",
    "        size = 4) + \n",
    "    #geom_point(colour = \"grey90\", \n",
    "    #    size = 1.5) + \n",
    "    theme_bw(base_size = 16)\n",
    "    #scale_color_manual(values = c(\"#a65628\", \"red\", \"#ffae19\", \"#4daf4a\", \n",
    "    #    \"#1919ff\", \"darkorchid3\", \"magenta\"))\n",
    "\n",
    "# Now add the environmental variables as arrows\n",
    "arrowmat <- vegan::scores(cap.ord, display = \"bp\")\n",
    "\n",
    "\n",
    "# Add labels, make a data.frame\n",
    "arrowdf <- data.frame(labels = rownames(arrowmat), arrowmat)\n",
    "\n",
    "# Define the arrow aesthetic mapping\n",
    "arrow_map <- aes(xend = CAP1, \n",
    "    yend = CAP2, \n",
    "    x = 0, \n",
    "    y = 0, \n",
    "    shape = NULL, \n",
    "    color = NULL, \n",
    "    label = labels)\n",
    "\n",
    "label_map <- aes(x = 1.3 * CAP1, \n",
    "    y = 1.3 * CAP2, \n",
    "    shape = NULL, \n",
    "    color = NULL, \n",
    "    label = labels)\n",
    "\n",
    "arrowhead = arrow(length = unit(0.02, \"npc\"))\n",
    "\n",
    "# Make a new graphic\n",
    "cap.plot + \n",
    "geom_segment(arrow_map, \n",
    "    size = .5, \n",
    "    data = arrowdf, \n",
    "    color = \"gray\", \n",
    "    arrow = arrowhead\n",
    "    ) + \n",
    "geom_text(label_map, \n",
    "    size = 4,  \n",
    "    data = arrowdf, \n",
    "    show_guide = FALSE)"
   ]
  },
  {
   "cell_type": "code",
   "execution_count": null,
   "metadata": {
    "collapsed": false
   },
   "outputs": [],
   "source": [
    "%%R\n",
    "anova(cap.ord)"
   ]
  },
  {
   "cell_type": "markdown",
   "metadata": {},
   "source": [
    "# Maize distance analysis"
   ]
  },
  {
   "cell_type": "code",
   "execution_count": null,
   "metadata": {
    "collapsed": false
   },
   "outputs": [],
   "source": [
    "%%R\n",
    "NAM_hc = hclust(as.dist(NAMdist), \"average\")\n",
    "plot(NAM_hc)"
   ]
  },
  {
   "cell_type": "code",
   "execution_count": null,
   "metadata": {
    "collapsed": true
   },
   "outputs": [],
   "source": []
  },
  {
   "cell_type": "code",
   "execution_count": null,
   "metadata": {
    "collapsed": false,
    "hide_input": true
   },
   "outputs": [],
   "source": [
    "%%R\n",
    "physeq.Maize = subset_samples(physeq.Full, Type == \"Maize\" & Plant != \"75-062\")\n",
    "as(sample_data(physeq.Maize), \"data.frame\") %>%\n",
    "\n",
    "group_by(Plant) %>%\n",
    "   summarise(DATE = first(DAP)) %>% \n",
    "    arrange(DATE) %>%\n",
    "   print()"
   ]
  },
  {
   "cell_type": "code",
   "execution_count": null,
   "metadata": {
    "collapsed": false,
    "hide_input": false
   },
   "outputs": [],
   "source": [
    "%%R\n",
    "#Use melt to join genetic distance matrix with unifrac distance\n",
    "#head(ud.m) ##Use formated unifrac distance from above\n",
    "#melt \n",
    "NAM.m = melt(as.matrix(NAMdist))\n",
    "\n",
    "#set column names and create comparison column\n",
    "colnames(NAM.m) = c(\"PlantA\", \"PlantB\", \"gene_Dist\")\n",
    "\n",
    "NAM.m$PlantComp = paste(NAM.m$PlantA, NAM.m$PlantB, sep = \"-\")\n",
    "NAM.m %>% head\n",
    "\n",
    "#Join with unifrac DistanceMatrix\n",
    "Dist = left_join(ud.m, NAM.m[,c(3,4)], by = \"PlantComp\")\n",
    "head(Dist)"
   ]
  },
  {
   "cell_type": "code",
   "execution_count": null,
   "metadata": {
    "collapsed": false
   },
   "outputs": [],
   "source": [
    "%%R\n",
    "dim(Dist) %>% print\n",
    "D.s = filter(Dist, PlotA != PlotB)\n",
    "\n",
    "dim(D.s) %>% print\n",
    "plot(w_Unif_Dist~gene_Dist, data = D.s)\n",
    "m = lm(w_Unif_Dist~gene_Dist, data = D.s)\n",
    "abline(m) \n"
   ]
  },
  {
   "cell_type": "code",
   "execution_count": null,
   "metadata": {
    "collapsed": false
   },
   "outputs": [],
   "source": [
    "%%R\n",
    "head(Dist)\n",
    "#Remove NAs to trim dataset\n",
    "Temp = Dist[!is.na(Dist$gene_Dist),]\n",
    "\n",
    "\n",
    "#Seperate unifrac and phylogenetic distances retaining plot IDs\n",
    "U = Temp[,c(1,2,3)]\n",
    "Gene = Temp[,c(1,2,7)]\n",
    "\n",
    "#Re-cast longform to wide form.  \n",
    "Udist = acast(U, PlotA~PlotB) \n",
    "\n",
    "\n",
    "Genedist = acast(Gene, PlotA~PlotB)\n",
    "Genedist"
   ]
  },
  {
   "cell_type": "markdown",
   "metadata": {},
   "source": [
    "## Overall maize genetic distance vs MCC"
   ]
  },
  {
   "cell_type": "code",
   "execution_count": null,
   "metadata": {
    "collapsed": false,
    "scrolled": true
   },
   "outputs": [],
   "source": [
    "%%R\n",
    "M1 = mantel(as.dist(Genedist), as.dist(Udist), method=\"pearson\", permutations=999)\n",
    "print(M1)"
   ]
  },
  {
   "cell_type": "markdown",
   "metadata": {},
   "source": [
    "### Functional comparison of maize - Mantel test"
   ]
  },
  {
   "cell_type": "code",
   "execution_count": null,
   "metadata": {
    "collapsed": false,
    "hide_input": false,
    "scrolled": true
   },
   "outputs": [],
   "source": [
    "%%R\n",
    "sd = sample_data(physeq.Maize)\n",
    "\n",
    "# Calculate w-unifrac distances\n",
    "registerDoParallel(cores=28)\n",
    "maize.wunif.dist = distance(physeq.Maize, \n",
    "                      method = \"unifrac\", \n",
    "                      weighted = TRUE,\n",
    "                      fast = TRUE, \n",
    "                      parallel = TRUE, \n",
    "                      normalized = FALSE)\n",
    "\n",
    "#Calculate functional distances\n",
    "Fun_dist = dist(sd[,c(\"Resid_logB\", \"Resid_logN\", \"Resid_logCN\")], method = \"euclidian\")\n",
    "\n",
    "\n",
    "M1 = mantel(maize.wunif.dist, Fun_dist, method=\"pearson\", permutations=999)\n",
    "M1"
   ]
  },
  {
   "cell_type": "markdown",
   "metadata": {},
   "source": [
    "In test of genetic vs functional control of maize, growth residuals were not significantly correlated with microbial community similarity in mantel test.  Significance was gained by including DAP, however, this is now capturing day to day sampling variation.  "
   ]
  },
  {
   "cell_type": "markdown",
   "metadata": {},
   "source": [
    "### Functional comparison of maize, CAP"
   ]
  },
  {
   "cell_type": "code",
   "execution_count": null,
   "metadata": {
    "collapsed": false
   },
   "outputs": [],
   "source": [
    "%%R -w 600 -h 600\n",
    "phy = physeq.Maize\n",
    "\n",
    "sample_data(phy)$DAP = as.factor(sample_data(phy)$DAP)\n",
    "unique(sample_data(phy)$DAP) %>% print\n",
    "# CAP ordinate\n",
    "cap.ord = ordinate(\n",
    "    physeq = phy, \n",
    "    method = \"CAP\",\n",
    "    distance = maize.wunif.dist,\n",
    "    formula = ~ Resid_logB + Resid_logN + Resid_logCN + Condition(Library)\n",
    ")\n",
    "\n",
    "# CAP plot\n",
    "cap.plot <- plot_ordination(\n",
    "    phy, \n",
    "    cap.ord, \n",
    "    color = \"Plant\", \n",
    "    axes = c(1,2)\n",
    "    ) + \n",
    "    aes(shape = Type) + \n",
    "    geom_point(aes(colour = Plant), \n",
    "        alpha= 1, \n",
    "        size = 4) + \n",
    "    #geom_point(colour = \"grey90\", \n",
    "    #    size = 1.5) + \n",
    "    theme_bw(base_size = 16)\n",
    "    #scale_color_manual(values = c(\"#a65628\", \"red\", \"#ffae19\", \"#4daf4a\", \n",
    "    #    \"#1919ff\", \"darkorchid3\", \"magenta\"))\n",
    "\n",
    "# Now add the environmental variables as arrows\n",
    "arrowmat <- vegan::scores(cap.ord, display = \"bp\")\n",
    "\n",
    "\n",
    "# Add labels, make a data.frame\n",
    "arrowdf <- data.frame(labels = rownames(arrowmat), arrowmat)\n",
    "\n",
    "# Define the arrow aesthetic mapping\n",
    "arrow_map <- aes(xend = CAP1, \n",
    "    yend = CAP2, \n",
    "    x = 0, \n",
    "    y = 0, \n",
    "    shape = NULL, \n",
    "    color = NULL, \n",
    "    label = labels)\n",
    "\n",
    "label_map <- aes(x = 1.3 * CAP1, \n",
    "    y = 1.3 * CAP2, \n",
    "    shape = NULL, \n",
    "    color = NULL, \n",
    "    label = labels)\n",
    "\n",
    "arrowhead = arrow(length = unit(0.02, \"npc\"))\n",
    "\n",
    "# Make a new graphic\n",
    "cap.plot + \n",
    "geom_segment(arrow_map, \n",
    "    size = .5, \n",
    "    data = arrowdf, \n",
    "    color = \"gray\", \n",
    "    arrow = arrowhead\n",
    "    ) + \n",
    "geom_text(label_map, \n",
    "    size = 4,  \n",
    "    data = arrowdf, \n",
    "    show_guide = FALSE)"
   ]
  },
  {
   "cell_type": "code",
   "execution_count": null,
   "metadata": {
    "collapsed": false,
    "hide_input": true,
    "scrolled": true
   },
   "outputs": [],
   "source": [
    "%%R\n",
    "anova(cap.ord)"
   ]
  },
  {
   "cell_type": "markdown",
   "metadata": {},
   "source": [
    "Notes - a small but significant amount of variation in community composition is captured by maize functional variation.  \n",
    "\n",
    "Check how to constrain by DAP to control for differences from sampling date?  Still significant albeit small portion of variation captured when controlling for DAP.  "
   ]
  },
  {
   "cell_type": "markdown",
   "metadata": {},
   "source": [
    "### Maize by date"
   ]
  },
  {
   "cell_type": "markdown",
   "metadata": {},
   "source": [
    "#### DAP = 72; Mantel test maize genetic distance vs MCC"
   ]
  },
  {
   "cell_type": "code",
   "execution_count": null,
   "metadata": {
    "collapsed": false,
    "scrolled": true
   },
   "outputs": [],
   "source": [
    "%%R\n",
    "\n",
    "# subset matrices\n",
    "D_dist = filter(Dist, PlantA %in% c(\"H99\" , \"Il14H\" , \"MS71\") & PlantB %in% c(\"H99\" , \"Il14H\" , \"MS71\"))\n",
    "D_dist$PlantComp %>% unique %>% print\n",
    "#pull matrices\n",
    "    Temp = D_dist[!is.na(D_dist$gene_Dist),]\n",
    "    \n",
    "    #Seperate unifrac and genetic distances retaining plot IDs\n",
    "\n",
    "    Udate = Temp[,c(1,2,3)]\n",
    "    Gene_date = Temp[,c(1,2,7)]\n",
    "\n",
    "    #Re-cast longform to wide form.  \n",
    "    Udate = acast(Udate, PlotA~PlotB)\n",
    "    Gene_date = acast(Gene_date, PlotA~PlotB)\n",
    "\n",
    "    #Convert to distance matrices\n",
    "    Gene_date = as.matrix(Gene_date) %>% dist()\n",
    "    Udate = as.matrix(Udate) %>% dist()\n",
    "\n",
    "M1 = mantel(Gene_date, Udate, method=\"pearson\", permutations=999)\n",
    "print(M1)"
   ]
  },
  {
   "cell_type": "markdown",
   "metadata": {},
   "source": [
    "#### DAP = 72; Mantel test N economy traits vs MCC"
   ]
  },
  {
   "cell_type": "code",
   "execution_count": null,
   "metadata": {
    "collapsed": false,
    "scrolled": false
   },
   "outputs": [],
   "source": [
    "%%R\n",
    "physeq.Date = subset_samples(physeq.Plant, Plant %in% c(\"H99\" , \"Il14H\" , \"MS71\"))\n",
    "sd = sample_data(physeq.Date)\n",
    "\n",
    "# Calculate w-unifrac distances\n",
    "registerDoParallel(cores=28)\n",
    "date.wunif.dist = distance(physeq.Date, \n",
    "                      method = \"unifrac\", \n",
    "                      weighted = TRUE,\n",
    "                      fast = TRUE, \n",
    "                      parallel = TRUE, \n",
    "                      normalized = FALSE)\n",
    "\n",
    "#Calculate functional distances\n",
    "Fun_dist = dist(sd[,c(\"Resid_logB\", \"Resid_logN\", \"Resid_logCN\")], method = \"euclidian\")\n",
    "\n",
    "\n",
    "M1 = mantel(date.wunif.dist, Fun_dist, method=\"pearson\", permutations=999)\n",
    "M1"
   ]
  },
  {
   "cell_type": "markdown",
   "metadata": {},
   "source": [
    "#### DAP 72; CAP analysis N economy and MCC"
   ]
  },
  {
   "cell_type": "code",
   "execution_count": null,
   "metadata": {
    "collapsed": false
   },
   "outputs": [],
   "source": [
    "%%R -w 600 -h 600\n",
    "phy = physeq.Date\n",
    "\n",
    "sample_data(phy)$DAP = as.factor(sample_data(phy)$DAP)\n",
    "unique(sample_data(phy)$DAP) %>% print\n",
    "# CAP ordinate\n",
    "cap.ord = ordinate(\n",
    "    physeq = phy, \n",
    "    method = \"CAP\",\n",
    "    distance = date.wunif.dist,\n",
    "    formula = ~ Resid_logB + Resid_logN + Resid_logCN\n",
    ")\n",
    "\n",
    "# CAP plot\n",
    "cap.plot <- plot_ordination(\n",
    "    phy, \n",
    "    cap.ord, \n",
    "    color = \"Plant\", \n",
    "    axes = c(1,2)\n",
    "    ) + \n",
    "    aes(shape = Type) + \n",
    "    geom_point(aes(colour = Plant), \n",
    "        alpha= 1, \n",
    "        size = 4) + \n",
    "    #geom_point(colour = \"grey90\", \n",
    "    #    size = 1.5) + \n",
    "    theme_bw(base_size = 16)\n",
    "    #scale_color_manual(values = c(\"#a65628\", \"red\", \"#ffae19\", \"#4daf4a\", \n",
    "    #    \"#1919ff\", \"darkorchid3\", \"magenta\"))\n",
    "\n",
    "# Now add the environmental variables as arrows\n",
    "arrowmat <- vegan::scores(cap.ord, display = \"bp\")\n",
    "\n",
    "\n",
    "# Add labels, make a data.frame\n",
    "arrowdf <- data.frame(labels = rownames(arrowmat), arrowmat)\n",
    "\n",
    "# Define the arrow aesthetic mapping\n",
    "arrow_map <- aes(xend = CAP1, \n",
    "    yend = CAP2, \n",
    "    x = 0, \n",
    "    y = 0, \n",
    "    shape = NULL, \n",
    "    color = NULL, \n",
    "    label = labels)\n",
    "\n",
    "label_map <- aes(x = 1.3 * CAP1, \n",
    "    y = 1.3 * CAP2, \n",
    "    shape = NULL, \n",
    "    color = NULL, \n",
    "    label = labels)\n",
    "\n",
    "arrowhead = arrow(length = unit(0.02, \"npc\"))\n",
    "\n",
    "# Make a new graphic\n",
    "cap.plot + \n",
    "geom_segment(arrow_map, \n",
    "    size = .5, \n",
    "    data = arrowdf, \n",
    "    color = \"gray\", \n",
    "    arrow = arrowhead\n",
    "    ) + \n",
    "geom_text(label_map, \n",
    "    size = 4,  \n",
    "    data = arrowdf, \n",
    "    show_guide = FALSE)"
   ]
  },
  {
   "cell_type": "code",
   "execution_count": null,
   "metadata": {
    "collapsed": false,
    "scrolled": false
   },
   "outputs": [],
   "source": [
    "%%R\n",
    "anova(cap.ord)"
   ]
  },
  {
   "cell_type": "markdown",
   "metadata": {},
   "source": [
    "#### DAP = 79;  Mantel test maize genetic distance vs MCC"
   ]
  },
  {
   "cell_type": "code",
   "execution_count": null,
   "metadata": {
    "collapsed": false,
    "scrolled": false
   },
   "outputs": [],
   "source": [
    "%%R\n",
    "\n",
    "# subset matrices\n",
    "D_dist = filter(Dist, PlantA %in% c(\"B73\" ,  \"B97\" ,  \"Hp301\" , \"Oh7B\" ) & PlantB %in% c(\"B73\" ,  \"B97\" ,  \"Hp301\" , \"Oh7B\"))\n",
    " D_dist$PlantComp %>% unique %>% print\n",
    "\n",
    "#pull matrices\n",
    "    Temp = D_dist[!is.na(D_dist$gene_Dist),]\n",
    "    \n",
    "    #Seperate unifrac and genetic distances retaining plot IDs\n",
    "\n",
    "    Udate = Temp[,c(1,2,3)]\n",
    "    Gene_date = Temp[,c(1,2,7)]\n",
    "\n",
    "    #Re-cast longform to wide form.  \n",
    "    Udate = acast(Udate, PlotA~PlotB)\n",
    "    Gene_date = acast(Gene_date, PlotA~PlotB)\n",
    "\n",
    "    #Convert to distance matrices\n",
    "    Gene_date = as.matrix(Gene_date) %>% dist()\n",
    "    Udate = as.matrix(Udate) %>% dist()\n",
    "\n",
    "M1 = mantel(Gene_date, Udate, method=\"pearson\", permutations=999)\n",
    "print(M1)"
   ]
  },
  {
   "cell_type": "markdown",
   "metadata": {},
   "source": [
    "#### DAP = 79;  Mantel test N economy traits vs MCC"
   ]
  },
  {
   "cell_type": "code",
   "execution_count": null,
   "metadata": {
    "collapsed": false,
    "scrolled": false
   },
   "outputs": [],
   "source": [
    "%%R\n",
    "physeq.Date = subset_samples(physeq.Plant, Plant %in% c(\"B73\" ,  \"B97\" ,  \"Hp301\" , \"Oh7B\"))\n",
    "sd = sample_data(physeq.Date)\n",
    "D_dist$PlantComp %>% unique %>% print\n",
    "# Calculate w-unifrac distances\n",
    "registerDoParallel(cores=28)\n",
    "date.wunif.dist = distance(physeq.Date, \n",
    "                      method = \"unifrac\", \n",
    "                      weighted = TRUE,\n",
    "                      fast = TRUE, \n",
    "                      parallel = TRUE, \n",
    "                      normalized = FALSE)\n",
    "\n",
    "#Calculate functional distances\n",
    "Fun_dist = dist(sd[,c(\"Resid_logB\", \"Resid_logN\", \"Resid_logCN\")], method = \"euclidian\")\n",
    "\n",
    "\n",
    "M1 = mantel(date.wunif.dist, Fun_dist, method=\"pearson\", permutations=999)\n",
    "M1"
   ]
  },
  {
   "cell_type": "markdown",
   "metadata": {},
   "source": [
    "#### DAP 79; CAP analysis N economy vs MCC"
   ]
  },
  {
   "cell_type": "code",
   "execution_count": null,
   "metadata": {
    "collapsed": false,
    "scrolled": false
   },
   "outputs": [],
   "source": [
    "%%R -w 600 -h 600\n",
    "phy = physeq.Date\n",
    "\n",
    "sample_data(phy)$DAP = as.factor(sample_data(phy)$DAP)\n",
    "unique(sample_data(phy)$DAP) %>% print\n",
    "# CAP ordinate\n",
    "cap.ord = ordinate(\n",
    "    physeq = phy, \n",
    "    method = \"CAP\",\n",
    "    distance = date.wunif.dist,\n",
    "    formula = ~ Resid_logB + Resid_logN + Resid_logCN + Condition(Library)\n",
    ")\n",
    "\n",
    "# CAP plot\n",
    "cap.plot <- plot_ordination(\n",
    "    phy, \n",
    "    cap.ord, \n",
    "    color = \"Plant\", \n",
    "    axes = c(1,2)\n",
    "    ) + \n",
    "    aes(shape = Type) + \n",
    "    geom_point(aes(colour = Plant), \n",
    "        alpha= 1, \n",
    "        size = 4) + \n",
    "    #geom_point(colour = \"grey90\", \n",
    "    #    size = 1.5) + \n",
    "    theme_bw(base_size = 16)\n",
    "    #scale_color_manual(values = c(\"#a65628\", \"red\", \"#ffae19\", \"#4daf4a\", \n",
    "    #    \"#1919ff\", \"darkorchid3\", \"magenta\"))\n",
    "\n",
    "# Now add the environmental variables as arrows\n",
    "arrowmat <- vegan::scores(cap.ord, display = \"bp\")\n",
    "\n",
    "\n",
    "# Add labels, make a data.frame\n",
    "arrowdf <- data.frame(labels = rownames(arrowmat), arrowmat)\n",
    "\n",
    "# Define the arrow aesthetic mapping\n",
    "arrow_map <- aes(xend = CAP1, \n",
    "    yend = CAP2, \n",
    "    x = 0, \n",
    "    y = 0, \n",
    "    shape = NULL, \n",
    "    color = NULL, \n",
    "    label = labels)\n",
    "\n",
    "label_map <- aes(x = 1.3 * CAP1, \n",
    "    y = 1.3 * CAP2, \n",
    "    shape = NULL, \n",
    "    color = NULL, \n",
    "    label = labels)\n",
    "\n",
    "arrowhead = arrow(length = unit(0.02, \"npc\"))\n",
    "\n",
    "# Make a new graphic\n",
    "cap.plot + \n",
    "geom_segment(arrow_map, \n",
    "    size = .5, \n",
    "    data = arrowdf, \n",
    "    color = \"gray\", \n",
    "    arrow = arrowhead\n",
    "    ) + \n",
    "geom_text(label_map, \n",
    "    size = 4,  \n",
    "    data = arrowdf, \n",
    "    show_guide = FALSE)"
   ]
  },
  {
   "cell_type": "code",
   "execution_count": null,
   "metadata": {
    "collapsed": false
   },
   "outputs": [],
   "source": [
    "%%R\n",
    "anova(cap.ord)"
   ]
  },
  {
   "cell_type": "code",
   "execution_count": null,
   "metadata": {
    "collapsed": true
   },
   "outputs": [],
   "source": []
  },
  {
   "cell_type": "code",
   "execution_count": null,
   "metadata": {
    "collapsed": true
   },
   "outputs": [],
   "source": []
  },
  {
   "cell_type": "markdown",
   "metadata": {},
   "source": [
    "#### DAP = 88; Mantel test maize genetic distance vs MCC"
   ]
  },
  {
   "cell_type": "code",
   "execution_count": null,
   "metadata": {
    "collapsed": false,
    "scrolled": true
   },
   "outputs": [],
   "source": [
    "%%R\n",
    "\n",
    "# subset matrices\n",
    "D_dist = filter(Dist, PlantA %in% c(\"Ki3\" ,  \"Mo18\" , \"Tx303\" ) & PlantB %in% c(\"Ki3\" ,  \"Mo18\" , \"Tx303\"))\n",
    "D_dist$PlantComp %>% unique %>% print\n",
    "#pull matrices\n",
    "    Temp = D_dist[!is.na(D_dist$gene_Dist),]\n",
    "    \n",
    "    #Seperate unifrac and genetic distances retaining plot IDs\n",
    "\n",
    "    Udate = Temp[,c(1,2,3)]\n",
    "    Gene_date = Temp[,c(1,2,7)]\n",
    "\n",
    "    #Re-cast longform to wide form.  \n",
    "    Udate = acast(Udate, PlotA~PlotB)\n",
    "    Gene_date = acast(Gene_date, PlotA~PlotB)\n",
    "\n",
    "    #Convert to distance matrices\n",
    "    Gene_date = as.matrix(Gene_date) %>% dist()\n",
    "    Udate = as.matrix(Udate) %>% dist()\n",
    "\n",
    "M1 = mantel(Gene_date, Udate, method=\"pearson\", permutations=999)\n",
    "print(M1)"
   ]
  },
  {
   "cell_type": "markdown",
   "metadata": {},
   "source": [
    "#### DAP = 88; Mantel test N economy vs MCC"
   ]
  },
  {
   "cell_type": "code",
   "execution_count": null,
   "metadata": {
    "collapsed": false,
    "scrolled": true
   },
   "outputs": [],
   "source": [
    "%%R\n",
    "physeq.Date = subset_samples(physeq.Plant, Plant %in% c(\"Ki3\" ,  \"Mo18\" , \"Tx303\"))\n",
    "sd = sample_data(physeq.Date)\n",
    "\n",
    "# Calculate w-unifrac distances\n",
    "registerDoParallel(cores=28)\n",
    "date.wunif.dist = distance(physeq.Date, \n",
    "                      method = \"unifrac\", \n",
    "                      weighted = TRUE,\n",
    "                      fast = TRUE, \n",
    "                      parallel = TRUE, \n",
    "                      normalized = FALSE)\n",
    "\n",
    "#Calculate functional distances\n",
    "Fun_dist = dist(sd[,c(\"Resid_logB\", \"Resid_logN\", \"Resid_logCN\")], method = \"euclidian\")\n",
    "\n",
    "\n",
    "M1 = mantel(date.wunif.dist, Fun_dist, method=\"pearson\", permutations=999)\n",
    "M1"
   ]
  },
  {
   "cell_type": "markdown",
   "metadata": {},
   "source": [
    "#### DAP = 88; CAP analysis N economy vs MCC"
   ]
  },
  {
   "cell_type": "code",
   "execution_count": null,
   "metadata": {
    "collapsed": false,
    "scrolled": true
   },
   "outputs": [],
   "source": [
    "%%R -w 600 -h 600\n",
    "phy = physeq.Date\n",
    "\n",
    "sample_data(phy)$DAP = as.factor(sample_data(phy)$DAP)\n",
    "unique(sample_data(phy)$DAP) %>% print\n",
    "# CAP ordinate\n",
    "cap.ord = ordinate(\n",
    "    physeq = phy, \n",
    "    method = \"CAP\",\n",
    "    distance = date.wunif.dist,\n",
    "    formula = ~ Resid_logB + Resid_logN + Resid_logCN\n",
    ")\n",
    "\n",
    "# CAP plot\n",
    "cap.plot <- plot_ordination(\n",
    "    phy, \n",
    "    cap.ord, \n",
    "    color = \"Plant\", \n",
    "    axes = c(1,2)\n",
    "    ) + \n",
    "    aes(shape = Type) + \n",
    "    geom_point(aes(colour = Plant), \n",
    "        alpha= 1, \n",
    "        size = 4) + \n",
    "    #geom_point(colour = \"grey90\", \n",
    "    #    size = 1.5) + \n",
    "    theme_bw(base_size = 16)\n",
    "    #scale_color_manual(values = c(\"#a65628\", \"red\", \"#ffae19\", \"#4daf4a\", \n",
    "    #    \"#1919ff\", \"darkorchid3\", \"magenta\"))\n",
    "\n",
    "# Now add the environmental variables as arrows\n",
    "arrowmat <- vegan::scores(cap.ord, display = \"bp\")\n",
    "\n",
    "\n",
    "# Add labels, make a data.frame\n",
    "arrowdf <- data.frame(labels = rownames(arrowmat), arrowmat)\n",
    "\n",
    "# Define the arrow aesthetic mapping\n",
    "arrow_map <- aes(xend = CAP1, \n",
    "    yend = CAP2, \n",
    "    x = 0, \n",
    "    y = 0, \n",
    "    shape = NULL, \n",
    "    color = NULL, \n",
    "    label = labels)\n",
    "\n",
    "label_map <- aes(x = 1.3 * CAP1, \n",
    "    y = 1.3 * CAP2, \n",
    "    shape = NULL, \n",
    "    color = NULL, \n",
    "    label = labels)\n",
    "\n",
    "arrowhead = arrow(length = unit(0.02, \"npc\"))\n",
    "\n",
    "# Make a new graphic\n",
    "cap.plot + \n",
    "geom_segment(arrow_map, \n",
    "    size = .5, \n",
    "    data = arrowdf, \n",
    "    color = \"gray\", \n",
    "    arrow = arrowhead\n",
    "    ) + \n",
    "geom_text(label_map, \n",
    "    size = 4,  \n",
    "    data = arrowdf, \n",
    "    show_guide = FALSE)"
   ]
  },
  {
   "cell_type": "code",
   "execution_count": null,
   "metadata": {
    "collapsed": false,
    "scrolled": true
   },
   "outputs": [],
   "source": [
    "%%R\n",
    "anova(cap.ord)"
   ]
  },
  {
   "cell_type": "markdown",
   "metadata": {},
   "source": [
    "# Time vs MCC mantel test"
   ]
  },
  {
   "cell_type": "code",
   "execution_count": null,
   "metadata": {
    "collapsed": false
   },
   "outputs": [],
   "source": [
    "%%R\n",
    "sample_data(physeq.Nneg)$DAP"
   ]
  },
  {
   "cell_type": "code",
   "execution_count": null,
   "metadata": {
    "collapsed": false
   },
   "outputs": [],
   "source": [
    "%%R\n",
    "sd = sample_data(physeq.Nneg)\n",
    "\n",
    "# Calculate w-unifrac distances\n",
    "registerDoParallel(cores=28)\n",
    "date.wunif.dist = distance(physeq.Nneg, \n",
    "                      method = \"unifrac\", \n",
    "                      weighted = TRUE,\n",
    "                      fast = TRUE, \n",
    "                      parallel = TRUE, \n",
    "                      normalized = FALSE)\n",
    "\n",
    "#Calculate functional distances\n",
    "Fun_dist = dist(sd[,c(\"DAP\")], method = \"euclidian\")\n",
    "\n",
    "\n",
    "M1 = mantel(date.wunif.dist, Fun_dist, method=\"pearson\", permutations=999)\n",
    "M1"
   ]
  },
  {
   "cell_type": "code",
   "execution_count": null,
   "metadata": {
    "collapsed": false,
    "scrolled": true
   },
   "outputs": [],
   "source": [
    "%%R\n",
    "mcc.correlog <- mantel.correlog(date.wunif.dist, Fun_dist, nperm=99)\n",
    "summary(mcc.correlog) %>% print\n",
    "mcc.correlog  %>% print\n",
    "plot(mcc.correlog) "
   ]
  },
  {
   "cell_type": "markdown",
   "metadata": {},
   "source": [
    "# Ignore below this point"
   ]
  },
  {
   "cell_type": "markdown",
   "metadata": {},
   "source": [
    "# Compare plant phylogenetic distance to l2f"
   ]
  },
  {
   "cell_type": "code",
   "execution_count": null,
   "metadata": {
    "collapsed": false
   },
   "outputs": [],
   "source": [
    "%%R\n",
    "# log2foldFile = '/home/bryan/RhizCG/data/MiSeq_amplicon/MergedRuns/DeSeq2/bare-plant.csv'\n",
    "# l2f = read.csv(log2foldFile, header = TRUE)\n",
    "# colnames(l2f)"
   ]
  },
  {
   "cell_type": "markdown",
   "metadata": {},
   "source": [
    "### Spread by plant to make matrix of log2fold change in each OTU by plant combo"
   ]
  },
  {
   "cell_type": "code",
   "execution_count": null,
   "metadata": {
    "collapsed": false
   },
   "outputs": [],
   "source": [
    "%%R\n",
    "# df = l2f[,c(1,11,13)]\n",
    "# l2f_m = spread(df, Plant, log2FoldChange, fill = 0, drop = TRUE)\n",
    "# rownames(l2f_m) = l2f_m$OTU\n",
    "# l2f_m = l2f_m[,-1]\n",
    "# l2f_m %>% head"
   ]
  },
  {
   "cell_type": "code",
   "execution_count": null,
   "metadata": {
    "collapsed": false,
    "scrolled": true
   },
   "outputs": [],
   "source": [
    "%%R\n",
    "# dim(l2f_m)"
   ]
  },
  {
   "cell_type": "markdown",
   "metadata": {},
   "source": [
    "### recode all negative log2fold changes with 0"
   ]
  },
  {
   "cell_type": "code",
   "execution_count": null,
   "metadata": {
    "collapsed": false,
    "scrolled": true
   },
   "outputs": [],
   "source": [
    "%%R\n",
    "# l2f_me = l2f_m\n",
    "# l2f_me[l2f_me < 0] = 0 \n",
    "# head(l2f_me)"
   ]
  },
  {
   "cell_type": "markdown",
   "metadata": {},
   "source": [
    "## Calculate pairwise weighted Unifrac distances between samples\n",
    "\n",
    "need to figure out how to run unifrac measure outside of phyloseq"
   ]
  },
  {
   "cell_type": "code",
   "execution_count": null,
   "metadata": {
    "collapsed": false
   },
   "outputs": [],
   "source": [
    "%%R\n",
    "# physeq.Full"
   ]
  },
  {
   "cell_type": "code",
   "execution_count": null,
   "metadata": {
    "collapsed": false
   },
   "outputs": [],
   "source": [
    "%%R\n",
    "# #provide fast tree for unifrac calculation\n",
    "# #treeFile = '/home/bryan/RhizCG/data/MiSeq_amplicon/MergedRuns/fasttree/otusn.tree'\n",
    "# #Tree = read.tree(treeFile)\n",
    "# Tree = phy_tree(physeq.Full)\n",
    "# str(Tree)\n"
   ]
  },
  {
   "cell_type": "code",
   "execution_count": null,
   "metadata": {
    "collapsed": false
   },
   "outputs": [],
   "source": [
    "%%R\n",
    "# l2f_wunif = picante::unifrac(as.matrix(t(l2f_me)), Tree)"
   ]
  },
  {
   "cell_type": "code",
   "execution_count": null,
   "metadata": {
    "collapsed": false
   },
   "outputs": [],
   "source": [
    "%%R\n",
    "# l2f_bray = vegdist(as.matrix(t(l2f_me)), method = \"bray\")"
   ]
  },
  {
   "cell_type": "code",
   "execution_count": null,
   "metadata": {
    "collapsed": false,
    "scrolled": true
   },
   "outputs": [],
   "source": [
    "%%R\n",
    "# hc_unif = hclust(l2f_wunif, \"average\")\n",
    "# plot(hc_unif) %>% print\n",
    "\n",
    "# hc_bray = hclust(l2f_bray, \"average\")\n",
    "# plot(hc_bray, main = \"Cluster Dendrogram, \\n Bray-Curtis Distance\")"
   ]
  },
  {
   "cell_type": "markdown",
   "metadata": {},
   "source": [
    "# Mantel test of phylogenetic distance and l2f unifrac distance"
   ]
  },
  {
   "cell_type": "markdown",
   "metadata": {},
   "source": [
    "### Maize"
   ]
  },
  {
   "cell_type": "code",
   "execution_count": null,
   "metadata": {
    "collapsed": false,
    "scrolled": true
   },
   "outputs": [],
   "source": [
    "%%R\n",
    "# NAMdist %>% print\n",
    "\n",
    "# #subset column and rows of log2fold change so that only NAM lines are included\n",
    "# NLU = as.matrix(l2f_wunif)\n",
    "# NLU = NLU[c(4,5,11,13:18,22),c(4,5,11,13:18,22)]\n",
    "# NLU\n",
    "\n",
    "# NLB = as.matrix(l2f_bray)\n",
    "# NLB = NLB[c(4,5,11,13:18,22),c(4,5,11,13:18,22)]\n",
    "# NLB"
   ]
  },
  {
   "cell_type": "code",
   "execution_count": null,
   "metadata": {
    "collapsed": false,
    "scrolled": false
   },
   "outputs": [],
   "source": [
    "%%R\n",
    "# M1 = mantel(as.dist(NAMdist), as.dist(NLU), method=\"pearson\", permutations=999)\n",
    "# print(M1)"
   ]
  },
  {
   "cell_type": "code",
   "execution_count": null,
   "metadata": {
    "collapsed": false
   },
   "outputs": [],
   "source": [
    "%%R\n",
    "# M1 = mantel(as.dist(NAMdist), as.dist(NLB), method=\"pearson\", permutations=999)\n",
    "# print(M1)"
   ]
  },
  {
   "cell_type": "markdown",
   "metadata": {},
   "source": [
    "### Species"
   ]
  },
  {
   "cell_type": "code",
   "execution_count": null,
   "metadata": {
    "collapsed": false
   },
   "outputs": [],
   "source": [
    "%%R\n",
    "\n",
    "# #Organize log2fold change distance matrix so that only plants with cholorplast distances are included \n",
    "# #and column and row order is congruent with phylogenetic distance matrix\n",
    "# l2f_wunif.t = as.matrix(l2f_wunif) %>% as.data.frame()\n",
    "#     temp1 = l2f_wunif.t[c(\"FAGES\", \"AMAPO\", \"HELAN\", \"ABUTH\", \"GLYMA\", \"SORBI\", \"B73\", \"ECHCG\",\n",
    "#                     \"SETFA\", \"ERATE\", \"ELCOR\"), c(\"FAGES\", \"AMAPO\", \"HELAN\", \"ABUTH\", \"GLYMA\", \"SORBI\", \"B73\", \"ECHCG\",\n",
    "#                     \"SETFA\", \"ERATE\", \"ELCOR\")]\n",
    "\n",
    "#     SLU = as.matrix(temp1)\n",
    "\n",
    "#     SLU = as.dist(SLU)\n",
    "#     SLU %>% print\n",
    "\n",
    "# #Remove ginkgo so that matrices are congruent\n",
    "# p.temp = as.matrix(phydist) %>% as.data.frame()\n",
    "#     temp2 = p.temp[-12, -12] #remove ginkgo\n",
    "\n",
    "#     temp2 = as.matrix(temp2)\n",
    "#     phydist = as.dist(temp2)\n",
    "\n",
    "#     phydist %>% print\n",
    "\n",
    "# l2f_bray.t = as.matrix(l2f_bray) %>% as.data.frame()\n",
    "#     temp2 = l2f_bray.t[c(\"FAGES\", \"AMAPO\", \"HELAN\", \"ABUTH\", \"GLYMA\", \"SORBI\", \"B73\", \"ECHCG\",\n",
    "#                     \"SETFA\", \"ERATE\", \"ELCOR\"), c(\"FAGES\", \"AMAPO\", \"HELAN\", \"ABUTH\", \"GLYMA\", \"SORBI\", \"B73\", \"ECHCG\",\n",
    "#                     \"SETFA\", \"ERATE\", \"ELCOR\")]\n",
    "\n",
    "#     SLB = as.matrix(temp2)\n",
    "#     SLB = as.dist(SLB)\n",
    "#     SLB %>% print\n"
   ]
  },
  {
   "cell_type": "code",
   "execution_count": null,
   "metadata": {
    "collapsed": false,
    "scrolled": true
   },
   "outputs": [],
   "source": [
    "%%R\n",
    "# m1 = mantel(phydist, SLU, method=\"pearson\", permutations=999)\n",
    "# print(m1)"
   ]
  },
  {
   "cell_type": "code",
   "execution_count": null,
   "metadata": {
    "collapsed": false,
    "scrolled": true
   },
   "outputs": [],
   "source": [
    "%%R\n",
    "# m1 = mantel(phydist, SLB, method=\"pearson\", permutations=999)\n",
    "# print(m1)"
   ]
  }
 ],
 "metadata": {
  "hide_input": true,
  "kernelspec": {
   "display_name": "Python 2",
   "language": "python",
   "name": "python2"
  },
  "language_info": {
   "codemirror_mode": {
    "name": "ipython",
    "version": 2
   },
   "file_extension": ".py",
   "mimetype": "text/x-python",
   "name": "python",
   "nbconvert_exporter": "python",
   "pygments_lexer": "ipython2",
   "version": "2.7.13"
  }
 },
 "nbformat": 4,
 "nbformat_minor": 0
}
