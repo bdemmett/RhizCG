{
 "cells": [
  {
   "cell_type": "markdown",
   "metadata": {},
   "source": [
    "# Goal\n",
    "\n",
    "* Identify branch lengths of taxonomic units to interpret TauD\n"
   ]
  },
  {
   "cell_type": "markdown",
   "metadata": {},
   "source": [
    "# Init"
   ]
  },
  {
   "cell_type": "code",
   "execution_count": 1,
   "metadata": {
    "collapsed": false
   },
   "outputs": [],
   "source": [
    "import os\n",
    "%load_ext rpy2.ipython"
   ]
  },
  {
   "cell_type": "code",
   "execution_count": 2,
   "metadata": {
    "collapsed": false
   },
   "outputs": [
    {
     "name": "stderr",
     "output_type": "stream",
     "text": [
      "/opt/anaconda2/lib/python2.7/site-packages/rpy2/rinterface/__init__.py:185: RRuntimeWarning: \n",
      "Attaching package: ‘dplyr’\n",
      "\n",
      "\n",
      "  warnings.warn(x, RRuntimeWarning)\n",
      "/opt/anaconda2/lib/python2.7/site-packages/rpy2/rinterface/__init__.py:185: RRuntimeWarning: The following objects are masked from ‘package:stats’:\n",
      "\n",
      "    filter, lag\n",
      "\n",
      "\n",
      "  warnings.warn(x, RRuntimeWarning)\n",
      "/opt/anaconda2/lib/python2.7/site-packages/rpy2/rinterface/__init__.py:185: RRuntimeWarning: The following objects are masked from ‘package:base’:\n",
      "\n",
      "    intersect, setdiff, setequal, union\n",
      "\n",
      "\n",
      "  warnings.warn(x, RRuntimeWarning)\n",
      "/opt/anaconda2/lib/python2.7/site-packages/rpy2/rinterface/__init__.py:185: RRuntimeWarning: Need help getting started? Try the cookbook for R:\n",
      "http://www.cookbook-r.com/Graphs/\n",
      "\n",
      "  warnings.warn(x, RRuntimeWarning)\n",
      "/opt/anaconda2/lib/python2.7/site-packages/rpy2/rinterface/__init__.py:185: RRuntimeWarning: \n",
      "Attaching package: ‘reshape2’\n",
      "\n",
      "\n",
      "  warnings.warn(x, RRuntimeWarning)\n",
      "/opt/anaconda2/lib/python2.7/site-packages/rpy2/rinterface/__init__.py:185: RRuntimeWarning: The following object is masked from ‘package:tidyr’:\n",
      "\n",
      "    smiths\n",
      "\n",
      "\n",
      "  warnings.warn(x, RRuntimeWarning)\n"
     ]
    }
   ],
   "source": [
    "%%R\n",
    "library(dplyr)\n",
    "library(tidyr)\n",
    "library(ggplot2)\n",
    "library(ape)\n",
    "library(reshape2)\n",
    "library(phyloseq)"
   ]
  },
  {
   "cell_type": "markdown",
   "metadata": {
    "collapsed": true
   },
   "source": [
    "# Setting variables"
   ]
  },
  {
   "cell_type": "code",
   "execution_count": 34,
   "metadata": {
    "collapsed": false
   },
   "outputs": [],
   "source": [
    "%%R\n",
    "workDir = '/home/bryan/RhizCG/data/MiSeq_amplicon/MergedRuns/consenTRAIT'\n",
    "\n",
    "# 16S tree file of all representative OTU sequences\n",
    "treeFile = '/home/bryan/RhizCG/data/MiSeq_amplicon/MergedRuns/fasttree/otusn_pick.tree'\n",
    "Root = 'X90478'\n",
    "\n",
    "# log2 fold change\n",
    "l2fcResDir = '/home/bryan/RhizCG/data/MiSeq_amplicon/MergedRuns/DeSeq2/'\n",
    "l2fcResFile = file.path(l2fcResDir, 'Responders.txt')\n"
   ]
  },
  {
   "cell_type": "markdown",
   "metadata": {},
   "source": [
    "# Testing trait depth on rhizosphere responders"
   ]
  },
  {
   "cell_type": "markdown",
   "metadata": {
    "collapsed": true
   },
   "source": [
    "### prune tree to OTUs in responder file"
   ]
  },
  {
   "cell_type": "code",
   "execution_count": 35,
   "metadata": {
    "collapsed": false
   },
   "outputs": [
    {
     "data": {
      "text/plain": [
       "\n",
       "Phylogenetic tree with 11247 tips and 11245 internal nodes.\n",
       "\n",
       "Tip labels:\n",
       "\tX90478, OTU.8116, OTU.6932, OTU.7640, OTU.6492, OTU.8138, ...\n",
       "Node labels:\n",
       "\t, 0.970, 0.777, 0.682, 0.943, 0.847, ...\n",
       "\n",
       "Unrooted; includes branch lengths.\n"
      ]
     },
     "metadata": {},
     "output_type": "display_data"
    }
   ],
   "source": [
    "%%R \n",
    "\n",
    "tree = read.tree(treeFile)\n",
    "tree"
   ]
  },
  {
   "cell_type": "code",
   "execution_count": 36,
   "metadata": {
    "collapsed": false
   },
   "outputs": [
    {
     "data": {
      "text/plain": [
       "Total number of OTUs: 4983 \n",
       "\n",
       "[1] \"OTU.9995\" \"OTU.9998\" \"X90478\"  \n"
      ]
     },
     "metadata": {},
     "output_type": "display_data"
    }
   ],
   "source": [
    "%%R \n",
    "#Read responder table in order to prune trees\n",
    "Resp = read.delim(l2fcResFile, sep='\\t', header = FALSE)\n",
    "head(Resp)\n",
    "\n",
    "Resp$V1 = Resp$V1 %>% as.vector\n",
    "rootrow = c(Root, rep(0, ncol(Resp)-1))\n",
    "Resp = rbind(Resp, rootrow)\n",
    "\n",
    "cat('Total number of OTUs:', Resp$V1 %>% unique %>% length, '\\n\\n')\n",
    "Resp = Resp[,1]\n",
    "Resp%>% tail(n=3)"
   ]
  },
  {
   "cell_type": "code",
   "execution_count": 37,
   "metadata": {
    "collapsed": false
   },
   "outputs": [],
   "source": [
    "%%R\n",
    "Taxa = as.character(Resp)\n"
   ]
  },
  {
   "cell_type": "code",
   "execution_count": 38,
   "metadata": {
    "collapsed": false
   },
   "outputs": [
    {
     "data": {
      "text/plain": [
       "\n",
       "Phylogenetic tree with 4983 tips and 4981 internal nodes.\n",
       "\n",
       "Tip labels:\n",
       "\tX90478, OTU.4087, OTU.2009, OTU.5899, OTU.4181, OTU.3052, ...\n",
       "Node labels:\n",
       "\t, 0.769, 0.872.32, 0.797.22, 0.788.6, 0.796.4, ...\n",
       "\n",
       "Unrooted; includes branch lengths.\n"
      ]
     },
     "metadata": {},
     "output_type": "display_data"
    }
   ],
   "source": [
    "%%R\n",
    "\n",
    "pruneTree = function(tree, taxa, rootName){\n",
    "    # not matching OTUs\n",
    "    to.rm = setdiff(tree$tip, taxa)\n",
    "    # pruning\n",
    "    tree = drop.tip(tree, to.rm)    \n",
    "    # rooting\n",
    "    #tree = multi2di(tree)\n",
    "    #tree = root(tree, rootName)\n",
    "    # returning\n",
    "    return(tree)\n",
    "    }\n",
    "\n",
    "tree.p = pruneTree(tree, taxa=Taxa)\n",
    "#class(trees.p) = 'multiPhylo'\n",
    "\n",
    "tree.p = root(tree.p, Root)\n",
    "tree.p"
   ]
  },
  {
   "cell_type": "code",
   "execution_count": 40,
   "metadata": {
    "collapsed": false
   },
   "outputs": [
    {
     "data": {
      "text/plain": [
       "\n",
       "Phylogenetic tree with 4983 tips and 4981 internal nodes.\n",
       "\n",
       "Tip labels:\n",
       "\tX90478, OTU.4087, OTU.2009, OTU.5899, OTU.4181, OTU.3052, ...\n",
       "Node labels:\n",
       "\t0.895.38, , 0.769, 0.872.32, 0.797.22, 0.788.6, ...\n",
       "\n",
       "Unrooted; includes branch lengths.\n"
      ]
     },
     "metadata": {},
     "output_type": "display_data"
    }
   ],
   "source": [
    "%%R\n",
    "tree.p = root(tree.p, 4983)\n",
    "tree.p\n",
    "#tree.p$tip.label"
   ]
  },
  {
   "cell_type": "code",
   "execution_count": 41,
   "metadata": {
    "collapsed": true
   },
   "outputs": [],
   "source": [
    "%%R\n",
    "# Calculate branch depths\n",
    "bD = cophenetic.phylo(tree.p)\n"
   ]
  },
  {
   "cell_type": "code",
   "execution_count": 42,
   "metadata": {
    "collapsed": false
   },
   "outputs": [
    {
     "data": {
      "text/plain": [
       "          Var1     Var2   value\n",
       "4984    X90478 OTU.4087 0.77239\n",
       "9967    X90478 OTU.2009 0.78119\n",
       "9968  OTU.4087 OTU.2009 0.04474\n",
       "14950   X90478 OTU.5899 0.65848\n",
       "14951 OTU.4087 OTU.5899 0.37839\n",
       "14952 OTU.2009 OTU.5899 0.38719\n"
      ]
     },
     "metadata": {},
     "output_type": "display_data"
    }
   ],
   "source": [
    "%%R\n",
    "bD[ lower.tri( bD, diag = TRUE ) ]  <- NA\n",
    "bD.m = melt(bD, na.rm = TRUE)\n",
    "bD.m %>% head"
   ]
  },
  {
   "cell_type": "markdown",
   "metadata": {},
   "source": [
    "## Get taxonomic info from phyloseq object"
   ]
  },
  {
   "cell_type": "code",
   "execution_count": 43,
   "metadata": {
    "collapsed": false
   },
   "outputs": [
    {
     "data": {
      "text/plain": [
       "phyloseq-class experiment-level object\n",
       "otu_table()   OTU Table:         [ 4982 taxa and 238 samples ]\n",
       "sample_data() Sample Data:       [ 238 samples by 55 sample variables ]\n",
       "tax_table()   Taxonomy Table:    [ 4982 taxa by 8 taxonomic ranks ]\n",
       "phy_tree()    Phylogenetic Tree: [ 4982 tips and 4981 internal nodes ]\n"
      ]
     },
     "metadata": {},
     "output_type": "display_data"
    }
   ],
   "source": [
    "%%R\n",
    "#Read rarified phyloseq object\n",
    "F = file.path('/home/bryan/RhizCG/data/MiSeq_amplicon/MergedRuns/physeq/Full-Sparsity3in3_r')\n",
    "physeq.Full = readRDS(F)\n",
    "physeq.Full"
   ]
  },
  {
   "cell_type": "code",
   "execution_count": 44,
   "metadata": {
    "collapsed": false,
    "scrolled": true
   },
   "outputs": [
    {
     "data": {
      "text/plain": [
       "            Rank1         Rank2                Rank3                     Rank4\n",
       "OTU.4087 Bacteria           TM6 uncultured_bacterium                      <NA>\n",
       "OTU.2009 Bacteria           TM6 uncultured_bacterium                      <NA>\n",
       "OTU.5899 Bacteria Acidobacteria                32-21      uncultured_bacterium\n",
       "OTU.4181 Bacteria Elusimicrobia          Lineage_IIa      uncultured_bacterium\n",
       "OTU.3052 Bacteria Elusimicrobia          Lineage_IIa uncultured_soil_bacterium\n",
       "OTU.1890 Bacteria Elusimicrobia          Lineage_IIb      uncultured_bacterium\n",
       "         Rank5 Rank6 Rank7 Rank8\n",
       "OTU.4087  <NA>  <NA>  <NA>  <NA>\n",
       "OTU.2009  <NA>  <NA>  <NA>  <NA>\n",
       "OTU.5899  <NA>  <NA>  <NA>  <NA>\n",
       "OTU.4181  <NA>  <NA>  <NA>  <NA>\n",
       "OTU.3052  <NA>  <NA>  <NA>  <NA>\n",
       "OTU.1890  <NA>  <NA>  <NA>  <NA>\n"
      ]
     },
     "metadata": {},
     "output_type": "display_data"
    }
   ],
   "source": [
    "%%R\n",
    "Names = tax_table(physeq.Full) %>% as.data.frame()\n",
    "physeq.Full = NULL\n",
    "head(Names)"
   ]
  },
  {
   "cell_type": "code",
   "execution_count": 45,
   "metadata": {
    "collapsed": false
   },
   "outputs": [
    {
     "data": {
      "text/plain": [
       "          Rank1.y       Rank2.y              Rank3.y                   Rank4.y\n",
       "OTU.4087 Bacteria           TM6 uncultured_bacterium                      <NA>\n",
       "OTU.2009 Bacteria           TM6 uncultured_bacterium                      <NA>\n",
       "OTU.5899 Bacteria Acidobacteria                32-21      uncultured_bacterium\n",
       "OTU.4181 Bacteria Elusimicrobia          Lineage_IIa      uncultured_bacterium\n",
       "OTU.3052 Bacteria Elusimicrobia          Lineage_IIa uncultured_soil_bacterium\n",
       "OTU.1890 Bacteria Elusimicrobia          Lineage_IIb      uncultured_bacterium\n",
       "         Rank5.y Rank6.y Rank7.y Rank8.y      OTU\n",
       "OTU.4087    <NA>    <NA>    <NA>    <NA> OTU.4087\n",
       "OTU.2009    <NA>    <NA>    <NA>    <NA> OTU.2009\n",
       "OTU.5899    <NA>    <NA>    <NA>    <NA> OTU.5899\n",
       "OTU.4181    <NA>    <NA>    <NA>    <NA> OTU.4181\n",
       "OTU.3052    <NA>    <NA>    <NA>    <NA> OTU.3052\n",
       "OTU.1890    <NA>    <NA>    <NA>    <NA> OTU.1890\n"
      ]
     },
     "metadata": {},
     "output_type": "display_data"
    }
   ],
   "source": [
    "%%R\n",
    "Names$OTU = rownames(Names)\n",
    "Names.x = Names\n",
    "colnames(Names.x)[1:8] = paste(colnames(Names.x)[1:8],\"x\", sep = \".\")\n",
    "Names.y = Names\n",
    "colnames(Names.y)[1:8] = paste(colnames(Names.y)[1:8],\"y\", sep = \".\")\n",
    "head(Names.y)\n"
   ]
  },
  {
   "cell_type": "markdown",
   "metadata": {},
   "source": [
    "## Join taxonomy with distance matrix"
   ]
  },
  {
   "cell_type": "code",
   "execution_count": 46,
   "metadata": {
    "collapsed": false
   },
   "outputs": [
    {
     "data": {
      "text/plain": [
       "          Var1     Var2   value\n",
       "4984    X90478 OTU.4087 0.77239\n",
       "9967    X90478 OTU.2009 0.78119\n",
       "9968  OTU.4087 OTU.2009 0.04474\n",
       "14950   X90478 OTU.5899 0.65848\n",
       "14951 OTU.4087 OTU.5899 0.37839\n",
       "14952 OTU.2009 OTU.5899 0.38719\n"
      ]
     },
     "metadata": {},
     "output_type": "display_data"
    }
   ],
   "source": [
    "%%R\n",
    "head(bD.m)"
   ]
  },
  {
   "cell_type": "code",
   "execution_count": 47,
   "metadata": {
    "collapsed": false,
    "scrolled": true
   },
   "outputs": [
    {
     "data": {
      "text/plain": [
       "      Var1     Var2   value  Rank1.x Rank2.x              Rank3.x Rank4.x\n",
       "1   X90478 OTU.4087 0.77239     <NA>    <NA>                 <NA>    <NA>\n",
       "2   X90478 OTU.2009 0.78119     <NA>    <NA>                 <NA>    <NA>\n",
       "3 OTU.4087 OTU.2009 0.04474 Bacteria     TM6 uncultured_bacterium    <NA>\n",
       "4   X90478 OTU.5899 0.65848     <NA>    <NA>                 <NA>    <NA>\n",
       "5 OTU.4087 OTU.5899 0.37839 Bacteria     TM6 uncultured_bacterium    <NA>\n",
       "6 OTU.2009 OTU.5899 0.38719 Bacteria     TM6 uncultured_bacterium    <NA>\n",
       "  Rank5.x Rank6.x Rank7.x Rank8.x\n",
       "1    <NA>    <NA>    <NA>    <NA>\n",
       "2    <NA>    <NA>    <NA>    <NA>\n",
       "3    <NA>    <NA>    <NA>    <NA>\n",
       "4    <NA>    <NA>    <NA>    <NA>\n",
       "5    <NA>    <NA>    <NA>    <NA>\n",
       "6    <NA>    <NA>    <NA>    <NA>\n"
      ]
     },
     "metadata": {},
     "output_type": "display_data"
    }
   ],
   "source": [
    "%%R\n",
    "Dist = left_join(bD.m, Names.x, by = c(\"Var1\" = \"OTU\"))\n",
    "head(Dist)"
   ]
  },
  {
   "cell_type": "code",
   "execution_count": 48,
   "metadata": {
    "collapsed": false
   },
   "outputs": [
    {
     "data": {
      "text/plain": [
       "      Var1     Var2   value  Rank1.x Rank2.x              Rank3.x Rank4.x\n",
       "1   X90478 OTU.4087 0.77239     <NA>    <NA>                 <NA>    <NA>\n",
       "2   X90478 OTU.2009 0.78119     <NA>    <NA>                 <NA>    <NA>\n",
       "3 OTU.4087 OTU.2009 0.04474 Bacteria     TM6 uncultured_bacterium    <NA>\n",
       "4   X90478 OTU.5899 0.65848     <NA>    <NA>                 <NA>    <NA>\n",
       "5 OTU.4087 OTU.5899 0.37839 Bacteria     TM6 uncultured_bacterium    <NA>\n",
       "6 OTU.2009 OTU.5899 0.38719 Bacteria     TM6 uncultured_bacterium    <NA>\n",
       "  Rank5.x Rank6.x Rank7.x Rank8.x  Rank1.y       Rank2.y              Rank3.y\n",
       "1    <NA>    <NA>    <NA>    <NA> Bacteria           TM6 uncultured_bacterium\n",
       "2    <NA>    <NA>    <NA>    <NA> Bacteria           TM6 uncultured_bacterium\n",
       "3    <NA>    <NA>    <NA>    <NA> Bacteria           TM6 uncultured_bacterium\n",
       "4    <NA>    <NA>    <NA>    <NA> Bacteria Acidobacteria                32-21\n",
       "5    <NA>    <NA>    <NA>    <NA> Bacteria Acidobacteria                32-21\n",
       "6    <NA>    <NA>    <NA>    <NA> Bacteria Acidobacteria                32-21\n",
       "               Rank4.y Rank5.y Rank6.y Rank7.y Rank8.y\n",
       "1                 <NA>    <NA>    <NA>    <NA>    <NA>\n",
       "2                 <NA>    <NA>    <NA>    <NA>    <NA>\n",
       "3                 <NA>    <NA>    <NA>    <NA>    <NA>\n",
       "4 uncultured_bacterium    <NA>    <NA>    <NA>    <NA>\n",
       "5 uncultured_bacterium    <NA>    <NA>    <NA>    <NA>\n",
       "6 uncultured_bacterium    <NA>    <NA>    <NA>    <NA>\n"
      ]
     },
     "metadata": {},
     "output_type": "display_data"
    }
   ],
   "source": [
    "%%R\n",
    "Dist = left_join(Dist, Names.y, by = c(\"Var2\" = \"OTU\"))\n",
    "head(Dist)"
   ]
  },
  {
   "cell_type": "markdown",
   "metadata": {},
   "source": [
    "# Calculate average branching depths of various taxonomic levels\n"
   ]
  },
  {
   "cell_type": "code",
   "execution_count": 54,
   "metadata": {
    "collapsed": false,
    "scrolled": false
   },
   "outputs": [
    {
     "data": {
      "image/png": "[encoded data removed]"
     },
     "metadata": {},
     "output_type": "display_data"
    }
   ],
   "source": [
    "%%R\n",
    "Dist %>% \n",
    "    filter(Rank6.x == Rank6.y & !is.na(Rank6.x)) %>%\n",
    "    group_by(Rank6.x) %>%\n",
    "    summarize(mean_br_len = mean(value)/2) %>%\n",
    "    ungroup() %>% \n",
    "    arrange(desc(mean_br_len)) %>%\n",
    "    .$mean_br_len %>%\n",
    "    boxplot()"
   ]
  },
  {
   "cell_type": "markdown",
   "metadata": {},
   "source": [
    "# Calling concenTRAIT - Nick's old version"
   ]
  },
  {
   "cell_type": "code",
   "execution_count": null,
   "metadata": {
    "collapsed": false
   },
   "outputs": [],
   "source": [
    "treeFile = \"/home/bryan/RhizCG/data/MiSeq_amplicon/MergedRuns/consenTRAIT/otusn_pick_3in3.nwk\"\n",
    "respFileDir = '/home/bryan/RhizCG/data/MiSeq_amplicon/MergedRuns/consenTRAIT/'\n",
    "respFile = os.path.join(respFileDir, 'Responders_wRoot.txt')"
   ]
  },
  {
   "cell_type": "code",
   "execution_count": null,
   "metadata": {
    "collapsed": false,
    "hide_input": true,
    "scrolled": false
   },
   "outputs": [],
   "source": [
    "!/home/bryan/tree_edit/bin/concentrait.r -p 20 \\\n",
    "    $treeFile $rootName $respFile > RhizResponders_tauD.txt"
   ]
  },
  {
   "cell_type": "markdown",
   "metadata": {},
   "source": [
    "Trait\t  tau_D\t\t\tp-value \n",
    "t1\t0.020504968504344\t0.04 "
   ]
  },
  {
   "cell_type": "markdown",
   "metadata": {},
   "source": [
    "# Calling consenTRAIT - Nick's new version"
   ]
  },
  {
   "cell_type": "code",
   "execution_count": null,
   "metadata": {
    "collapsed": false
   },
   "outputs": [],
   "source": [
    "!Rscript /home/bryan/consenTRAIT/consenTRAIT.r -p 20 \\\n",
    "    $treeFile $rootName $respFile > RhizResponders_tauD.txt"
   ]
  },
  {
   "cell_type": "code",
   "execution_count": null,
   "metadata": {
    "collapsed": false
   },
   "outputs": [],
   "source": [
    "%%R\n",
    "df.CT.sub = read.delim('RhizResponders_tauD.txt', sep='\\t', header = FALSE)\n",
    "head(df.CT.sub)\n",
    "# #\n",
    "# df.CT.sub = read.delim('incorp_trait_bySub_tauD.txt', sep='\\t')\n",
    "# df.CT.sub$Substrate = df.l2fc$Substrate %>% levels\n",
    "\n",
    "\n",
    "# p.cut = function(p){\n",
    "#     if(p < 0.01){\n",
    "#         return('<0.01')\n",
    "#     } else\n",
    "#     if(p < 0.05){\n",
    "#         return('<0.05')\n",
    "#     } else{\n",
    "#         return('>0.05')\n",
    "#     }\n",
    "# }\n",
    "\n",
    "# df.CT.sub = df.CT.sub  %>%\n",
    "#     mutate(p.value.id = sapply(p.value, p.cut))\n",
    "\n",
    "# df.CT.sub "
   ]
  },
  {
   "cell_type": "markdown",
   "metadata": {},
   "source": [
    "# Check test to make sure it is working well"
   ]
  },
  {
   "cell_type": "code",
   "execution_count": null,
   "metadata": {
    "collapsed": false
   },
   "outputs": [],
   "source": [
    "#Making example files with 100 taxa and 2 traits: the 1st trait is conserved and the 2nd is not.\n",
    "\n",
    "!Rscript /home/bryan/consenTRAIT/consenTRAIT.r -x 100 TEST TEST TEST\n",
    "\n"
   ]
  },
  {
   "cell_type": "code",
   "execution_count": null,
   "metadata": {
    "collapsed": false
   },
   "outputs": [],
   "source": [
    "#Running consenTRAIT with bootstrapping in parallel (4 cores)\n",
    "\n",
    "!Rscript /home/bryan/consenTRAIT/consenTRAIT.r -p 4 consentrait_TEST.nwk t1 consentrait_TEST.txt"
   ]
  }
 ],
 "metadata": {
  "anaconda-cloud": {},
  "hide_input": true,
  "kernelspec": {
   "display_name": "Python [default]",
   "language": "python",
   "name": "python2"
  },
  "language_info": {
   "codemirror_mode": {
    "name": "ipython",
    "version": 2
   },
   "file_extension": ".py",
   "mimetype": "text/x-python",
   "name": "python",
   "nbconvert_exporter": "python",
   "pygments_lexer": "ipython2",
   "version": "2.7.12"
  }
 },
 "nbformat": 4,
 "nbformat_minor": 0
}
