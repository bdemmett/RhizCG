{
 "cells": [
  {
   "cell_type": "markdown",
   "metadata": {},
   "source": [
    "#Download 1st RhizCG run from Core facility"
   ]
  },
  {
   "cell_type": "code",
   "execution_count": 10,
   "metadata": {
    "collapsed": true
   },
   "outputs": [],
   "source": [
    "seqDir = '/var/seq_data/RhizCG/150520_run1/raw/'"
   ]
  },
  {
   "cell_type": "code",
   "execution_count": 12,
   "metadata": {
    "collapsed": false
   },
   "outputs": [
    {
     "name": "stdout",
     "output_type": "stream",
     "text": [
      "--2015-06-01 08:56:43--  ftp://data.biotech.cornell.edu/be68/MiSeq150520_AE9NC_10337224/Undetermined_S0_L001_R1_001.fastq.gz\n",
      "           => `read1.fq.gz'\n",
      "Resolving data.biotech.cornell.edu (data.biotech.cornell.edu)... 128.253.194.149\n",
      "Connecting to data.biotech.cornell.edu (data.biotech.cornell.edu)|128.253.194.149|:21... connected.\n",
      "Logging in as be68 ... \n",
      "The server refuses login.\n",
      "Retrying.\n",
      "\n",
      "--2015-06-01 08:56:44--  ftp://data.biotech.cornell.edu/be68/MiSeq150520_AE9NC_10337224/Undetermined_S0_L001_R1_001.fastq.gz\n",
      "  (try: 2) => `read1.fq.gz'\n",
      "Connecting to data.biotech.cornell.edu (data.biotech.cornell.edu)|128.253.194.149|:21... connected.\n",
      "Logging in as be68 ... \n",
      "The server refuses login.\n",
      "Retrying.\n",
      "\n",
      "--2015-06-01 08:56:46--  ftp://data.biotech.cornell.edu/be68/MiSeq150520_AE9NC_10337224/Undetermined_S0_L001_R1_001.fastq.gz\n",
      "  (try: 3) => `read1.fq.gz'\n",
      "Connecting to data.biotech.cornell.edu (data.biotech.cornell.edu)|128.253.194.149|:21... connected.\n",
      "Logging in as be68 ... \n",
      "The server refuses login.\n",
      "Retrying.\n",
      "\n",
      "--2015-06-01 08:56:49--  ftp://data.biotech.cornell.edu/be68/MiSeq150520_AE9NC_10337224/Undetermined_S0_L001_R1_001.fastq.gz\n",
      "  (try: 4) => `read1.fq.gz'\n",
      "Connecting to data.biotech.cornell.edu (data.biotech.cornell.edu)|128.253.194.149|:21... connected.\n",
      "Logging in as be68 ... \n",
      "The server refuses login.\n",
      "Retrying.\n",
      "\n",
      "^C\n"
     ]
    }
   ],
   "source": [
    "# Read 1\n",
    "!cd $seqDir; \\\n",
    "wget -O read1.fq.gz --secure-protocol=auto \\\n",
    "\"ftp://data.biotech.cornell.edu/be68/MiSeq150520_AE9NC_10337224/Undetermined_S0_L001_R1_001.fastq.gz\"\\\n"
   ]
  },
  {
   "cell_type": "code",
   "execution_count": null,
   "metadata": {
    "collapsed": true
   },
   "outputs": [],
   "source": []
  },
  {
   "cell_type": "code",
   "execution_count": null,
   "metadata": {
    "collapsed": true
   },
   "outputs": [],
   "source": []
  }
 ],
 "metadata": {
  "kernelspec": {
   "display_name": "Python 2",
   "language": "python",
   "name": "python2"
  },
  "language_info": {
   "codemirror_mode": {
    "name": "ipython",
    "version": 2
   },
   "file_extension": ".py",
   "mimetype": "text/x-python",
   "name": "python",
   "nbconvert_exporter": "python",
   "pygments_lexer": "ipython2",
   "version": "2.7.9"
  }
 },
 "nbformat": 4,
 "nbformat_minor": 0
}
