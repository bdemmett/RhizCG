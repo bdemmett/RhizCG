{
 "cells": [
  {
   "cell_type": "markdown",
   "metadata": {},
   "source": [
    "# Description\n",
    "\n",
    " Code for RhizCG microbial community analysis to be presented at ESA, August 12th, 2015\n"
   ]
  },
  {
   "cell_type": "markdown",
   "metadata": {},
   "source": [
    "# Setting variables"
   ]
  },
  {
   "cell_type": "code",
   "execution_count": 11,
   "metadata": {
    "collapsed": true
   },
   "outputs": [],
   "source": [
    "workDir = '/home/bryan/RhizCG/data/MiSeq_amplicon/MergedRuns/PlantPhylo'\n",
    "biomFileDir = '/home/bryan/RhizCG/data/MiSeq_amplicon/MergedRuns/OTU_binning/'\n",
    "\n",
    "biomFile = '/home/bryan/RhizCG/data/MiSeq_amplicon/MergedRuns/OTU_binning/otu_table_wtax.biom'\n",
    "metadataFile = '/home/bryan/RhizCG/data/MiSeq_amplicon/metadata_RhizCG_merged.txt'\n",
    "treeFile = '/home/bryan/RhizCG/data/MiSeq_amplicon/MergedRuns/fasttree/otusn.tree'\n",
    "log2foldFile = '/home/bryan/RhizCG/data/MiSeq_amplicon/MergedRuns/DeSeq2/bare-plant.csv'"
   ]
  },
  {
   "cell_type": "markdown",
   "metadata": {},
   "source": [
    "# Init"
   ]
  },
  {
   "cell_type": "code",
   "execution_count": 2,
   "metadata": {
    "collapsed": true
   },
   "outputs": [],
   "source": [
    "import os\n",
    "from pandas import DataFrame\n",
    "from IPython.display import FileLink"
   ]
  },
  {
   "cell_type": "code",
   "execution_count": 3,
   "metadata": {
    "collapsed": true
   },
   "outputs": [],
   "source": [
    "%matplotlib inline\n",
    "%load_ext rpy2.ipython"
   ]
  },
  {
   "cell_type": "code",
   "execution_count": 29,
   "metadata": {
    "collapsed": false
   },
   "outputs": [
    {
     "name": "stderr",
     "output_type": "stream",
     "text": [
      "/opt/anaconda/lib/python2.7/site-packages/rpy2/robjects/functions.py:106: UserWarning: Loading required package: ape\n",
      "\n",
      "  res = super(Function, self).__call__(*new_args, **new_kwargs)\n",
      "/opt/anaconda/lib/python2.7/site-packages/rpy2/robjects/functions.py:106: UserWarning: Loading required package: nlme\n",
      "\n",
      "  res = super(Function, self).__call__(*new_args, **new_kwargs)\n",
      "/opt/anaconda/lib/python2.7/site-packages/rpy2/robjects/functions.py:106: UserWarning: \n",
      "Attaching package: ‘nlme’\n",
      "\n",
      "\n",
      "  res = super(Function, self).__call__(*new_args, **new_kwargs)\n",
      "/opt/anaconda/lib/python2.7/site-packages/rpy2/robjects/functions.py:106: UserWarning: The following object is masked from ‘package:IRanges’:\n",
      "\n",
      "    collapse\n",
      "\n",
      "\n",
      "  res = super(Function, self).__call__(*new_args, **new_kwargs)\n",
      "/opt/anaconda/lib/python2.7/site-packages/rpy2/robjects/functions.py:106: UserWarning: The following object is masked from ‘package:dplyr’:\n",
      "\n",
      "    collapse\n",
      "\n",
      "\n",
      "  res = super(Function, self).__call__(*new_args, **new_kwargs)\n"
     ]
    }
   ],
   "source": [
    "%%R\n",
    "library(picante)\n",
    "library(phyloseq)\n",
    "library(ggplot2)\n",
    "library(foreach)\n",
    "library(doParallel)\n",
    "library(gridExtra)\n",
    "library(dplyr)\n",
    "library(tidyr)\n",
    "library(vegan)\n",
    "library(DESeq2)"
   ]
  },
  {
   "cell_type": "code",
   "execution_count": 5,
   "metadata": {
    "collapsed": true
   },
   "outputs": [],
   "source": [
    "if not os.path.isdir(workDir):\n",
    "    os.mkdir(workDir)"
   ]
  },
  {
   "cell_type": "markdown",
   "metadata": {},
   "source": [
    "# Loading/editting OTU table"
   ]
  },
  {
   "cell_type": "code",
   "execution_count": 6,
   "metadata": {
    "collapsed": true
   },
   "outputs": [],
   "source": [
    "%%R -i biomFile -i metadataFile -i workDir -i treeFile\n",
    "# loading\n",
    "setwd(workDir)\n",
    "\n",
    "## biom file\n",
    "physeq = import_biom(biomFile, treeFile)\n",
    "\n",
    "## loading sample metadata\n",
    "sample.data = import_qiime_sample_data(metadataFile)\n",
    "physeq = merge_phyloseq(physeq,sample.data)\n",
    "\n",
    "#apply gsub across columns to replace ___ w/ \"\", reload to phyloseq object\n",
    "t = tax_table(physeq)\n",
    "t = apply(t, 2, function(y) gsub(\"__\", \"\", y))\n",
    "tax_table(physeq) = t"
   ]
  },
  {
   "cell_type": "code",
   "execution_count": 7,
   "metadata": {
    "collapsed": false,
    "scrolled": true
   },
   "outputs": [
    {
     "data": {
      "text/plain": [
       "Sample Data:        [6 samples by 43 sample variables]:\n",
       "                           X.sample Library Primer_Plate Primer_Well_ID\n",
       "sample2-1.06_Npos sample2-1.06_Npos       1            1             H9\n",
       "sample6-4.27_Npos sample6-4.27_Npos       1            2            F11\n",
       "sample4-4.27_Nneg sample4-4.27_Nneg       1            1            B12\n",
       "sample4-1.06_Nneg sample4-1.06_Nneg       1            1            E11\n",
       "sample2-1.06_Nneg sample2-1.06_Nneg       1            1             G9\n",
       "sample6-3.07_Nneg sample6-3.07_Nneg       1            2            C11\n",
       "                  primerFR_ID_byPlate primerFR_ID_total barcode_ID    PlotID\n",
       "sample2-1.06_Npos                  72                72         72 1.06_Npos\n",
       "sample6-4.27_Npos                  86               182        182 4.27_Npos\n",
       "sample4-4.27_Nneg                  90                90         90 4.27_Nneg\n",
       "sample4-1.06_Nneg                  85                85         85 1.06_Nneg\n",
       "sample2-1.06_Nneg                  71                71         71 1.06_Nneg\n",
       "sample6-3.07_Nneg                  83               179        179 3.07_Nneg\n",
       "                  Plant Plot Treatment Rep DAP Sampling  PlantSample Type\n",
       "sample2-1.06_Npos  BARE 1.06      Npos   1  53  sample2 BARE_sample2 BARE\n",
       "sample6-4.27_Npos  BARE 4.27      Npos   4  79  sample6 BARE_sample6 BARE\n",
       "sample4-4.27_Nneg  BARE 4.27      Nneg   4  61  sample4 BARE_sample4 BARE\n",
       "sample4-1.06_Nneg  BARE 1.06      Nneg   1  61  sample4 BARE_sample4 BARE\n",
       "sample2-1.06_Nneg  BARE 1.06      Nneg   1  53  sample2 BARE_sample2 BARE\n",
       "sample6-3.07_Nneg  BARE 3.07      Nneg   3  79  sample6 BARE_sample6 BARE\n",
       "                  Grass_Broad    Status Subfamily fwd_barcode rev_barcode\n",
       "sample2-1.06_Npos   Bare_Soil Bare_Soil      <NA>    GACACCGT    GTCGTAGT\n",
       "sample6-4.27_Npos   Bare_Soil Bare_Soil      <NA>    TCGACGAG    TCATAGAC\n",
       "sample4-4.27_Nneg   Bare_Soil Bare_Soil      <NA>    ACTATCTG    TCGCTATA\n",
       "sample4-1.06_Nneg   Bare_Soil Bare_Soil      <NA>    TCATCGAG    TCATAGAC\n",
       "sample2-1.06_Nneg   Bare_Soil Bare_Soil      <NA>    GGATATCT    GTCGTAGT\n",
       "sample6-3.07_Nneg   Bare_Soil Bare_Soil      <NA>    AGAGTCAC    TCATAGAC\n",
       "                  Biomass_P SLA Leaf_N LeafC_N LNa Plant_N Plant_C Plant_CN\n",
       "sample2-1.06_Npos        NA  NA     NA      NA  NA      NA      NA       NA\n",
       "sample6-4.27_Npos        NA  NA     NA      NA  NA      NA      NA       NA\n",
       "sample4-4.27_Nneg        NA  NA     NA      NA  NA      NA      NA       NA\n",
       "sample4-1.06_Nneg        NA  NA     NA      NA  NA      NA      NA       NA\n",
       "sample2-1.06_Nneg        NA  NA     NA      NA  NA      NA      NA       NA\n",
       "sample6-3.07_Nneg        NA  NA     NA      NA  NA      NA      NA       NA\n",
       "                  d15N tN_p BX_activity_g CB_activity_g LAP_activity_g\n",
       "sample2-1.06_Npos   NA   NA      14.37839      15.33743       126.3710\n",
       "sample6-4.27_Npos   NA   NA      19.19060      16.57780       162.8417\n",
       "sample4-4.27_Nneg   NA   NA      14.21998      13.41572       136.3123\n",
       "sample4-1.06_Nneg   NA   NA      12.47174      13.43524       143.7310\n",
       "sample2-1.06_Nneg   NA   NA      13.38694      13.77502       117.3431\n",
       "sample6-3.07_Nneg   NA   NA      16.99917      14.24016       138.1199\n",
       "                  NAG_activity_g     BX_dif      CB_dif    LAP_dif     NAG_dif\n",
       "sample2-1.06_Npos       8.072898 -0.5691705  0.07999941   4.503741 -0.39815334\n",
       "sample6-4.27_Npos      12.242121  0.9135068  1.99246647  -8.649774  1.01143588\n",
       "sample4-4.27_Nneg      14.630640  1.4082132  0.62545102  -4.083107  2.69417457\n",
       "sample4-1.06_Nneg      11.876664 -0.3400207  0.64497262   3.335602 -0.05980131\n",
       "sample2-1.06_Nneg       8.576193 -1.3177050 -0.90257754  -2.486003 -0.25294273\n",
       "sample6-3.07_Nneg      11.177559 -1.0182984 -0.83029710 -31.257949 -1.21718111\n",
       "                     BX_rel    CB_rel   LAP_rel   NAG_rel\n",
       "sample2-1.06_Npos 0.9619222 1.0052433 1.0369561 0.9529984\n",
       "sample6-4.27_Npos 1.0499810 1.1366076 0.9495615 1.0900600\n",
       "sample4-4.27_Nneg 1.1099157 1.0489005 0.9709171 1.2257096\n",
       "sample4-1.06_Nneg 0.9734603 1.0504268 1.0237586 0.9949900\n",
       "sample2-1.06_Nneg 0.9103885 0.9385065 0.9792538 0.9713514\n",
       "sample6-3.07_Nneg 0.9434827 0.9449057 0.8154543 0.9017986\n"
      ]
     },
     "metadata": {},
     "output_type": "display_data"
    }
   ],
   "source": [
    "%%R\n",
    "plantData = read.table('/home/bryan/RhizCG/data/MiSeq_amplicon/PlotData.txt', header = TRUE)\n",
    "\n",
    "s = sample_data(physeq)\n",
    "PD = plantData[,c(1,18, 20,21, 23:29, 44:47, 52:59)]\n",
    "s2 = left_join(s, PD, by = c(\"X.sample\" = \"Unique\"))\n",
    "rownames(s2) = s2$X.sample\n",
    "sample_data(physeq) = s2\n",
    "sample_data(physeq) %>% head"
   ]
  },
  {
   "cell_type": "code",
   "execution_count": 8,
   "metadata": {
    "collapsed": false
   },
   "outputs": [
    {
     "data": {
      "text/plain": [
       "phyloseq-class experiment-level object\n",
       "otu_table()   OTU Table:         [ 11246 taxa and 240 samples ]\n",
       "sample_data() Sample Data:       [ 240 samples by 43 sample variables ]\n",
       "tax_table()   Taxonomy Table:    [ 11246 taxa by 8 taxonomic ranks ]\n",
       "phy_tree()    Phylogenetic Tree: [ 11246 tips and 11245 internal nodes ]\n"
      ]
     },
     "metadata": {},
     "output_type": "display_data"
    }
   ],
   "source": [
    "%%R\n",
    "#subset out positive and negative controls\n",
    "physeq = subset_samples(physeq, !is.na(DAP))\n",
    "#set DAP to factor\n",
    "#sample_data(physeq)$DAP = factor(sample_data(physeq)$DAP)\n",
    "print(physeq)"
   ]
  },
  {
   "cell_type": "code",
   "execution_count": 9,
   "metadata": {
    "collapsed": false
   },
   "outputs": [
    {
     "data": {
      "text/plain": [
       "phyloseq-class experiment-level object\n",
       "otu_table()   OTU Table:         [ 11246 taxa and 240 samples ]\n",
       "sample_data() Sample Data:       [ 240 samples by 43 sample variables ]\n",
       "tax_table()   Taxonomy Table:    [ 11246 taxa by 8 taxonomic ranks ]\n",
       "phy_tree()    Phylogenetic Tree: [ 11246 tips and 11245 internal nodes ]\n",
       "phyloseq-class experiment-level object\n",
       "otu_table()   OTU Table:         [ 6736 taxa and 240 samples ]\n",
       "sample_data() Sample Data:       [ 240 samples by 43 sample variables ]\n",
       "tax_table()   Taxonomy Table:    [ 6736 taxa by 8 taxonomic ranks ]\n",
       "phy_tree()    Phylogenetic Tree: [ 6736 tips and 6735 internal nodes ]\n"
      ]
     },
     "metadata": {},
     "output_type": "display_data"
    }
   ],
   "source": [
    "%%R \n",
    "# filtering/normalizing\n",
    "physeq.snorm = prune_samples(sample_sums(physeq) >= 10, physeq)\n",
    "physeq.snorm = transform_sample_counts(physeq.snorm, function(x) x/sum(x))\n",
    "  \n",
    "physeq.thresh = filter_taxa(physeq.snorm, function(x) sum(x > 0) > (0.1 * length(x)), TRUE)\n",
    "print(physeq.snorm)\n",
    "#physeq.thresh = physeq.snorm\n",
    "\n",
    "print(physeq.thresh)"
   ]
  },
  {
   "cell_type": "markdown",
   "metadata": {},
   "source": [
    "# Compare DeSeq output to plant phylogenetic distance"
   ]
  },
  {
   "cell_type": "markdown",
   "metadata": {},
   "source": [
    "### Read DeSeq output"
   ]
  },
  {
   "cell_type": "code",
   "execution_count": 18,
   "metadata": {
    "collapsed": false
   },
   "outputs": [
    {
     "data": {
      "text/plain": [
       " [1] \"log2FoldChange\" \"p\"              \"Rank1\"          \"Rank2\"         \n",
       " [5] \"Rank3\"          \"Rank4\"          \"Rank5\"          \"Rank6\"         \n",
       " [9] \"Rank7\"          \"Rank8\"          \"OTU\"            \"Day\"           \n",
       "[13] \"Plant\"          \"p.adj\"         \n"
      ]
     },
     "metadata": {},
     "output_type": "display_data"
    }
   ],
   "source": [
    "%%R -i log2foldFile\n",
    "l2f = read.csv(log2foldFile, header = TRUE)\n",
    "colnames(l2f)"
   ]
  },
  {
   "cell_type": "code",
   "execution_count": 24,
   "metadata": {
    "collapsed": false
   },
   "outputs": [
    {
     "data": {
      "text/plain": [
       "[1] 7049\n"
      ]
     },
     "metadata": {},
     "output_type": "display_data"
    }
   ],
   "source": [
    "%%R\n",
    "l2f$OTU %>% unique %>% length"
   ]
  },
  {
   "cell_type": "markdown",
   "metadata": {},
   "source": [
    "### Spread by plant to make matrix of log2fold change in each OTU by plant combo"
   ]
  },
  {
   "cell_type": "code",
   "execution_count": 21,
   "metadata": {
    "collapsed": false
   },
   "outputs": [
    {
     "data": {
      "text/plain": [
       "        OTU     75-062      ABUTH      AMAPO        B73        B97      ECHCG\n",
       "1    OTU.10  3.7523433  3.5494178  3.9076702  4.7268592  3.9815247  3.6698594\n",
       "2   OTU.100  0.2596795  0.1158978 -0.6560064 -0.3820701 -0.2671950  0.1329242\n",
       "3  OTU.1000  1.4402601  0.3949173  0.4435041  0.2573087  0.6151993  0.6697786\n",
       "4 OTU.10000  0.0000000  0.0000000  0.0000000  0.0000000  1.6438161  0.0000000\n",
       "5 OTU.10004 -0.4835025 -0.2445230 -0.2615567  0.3824627  1.1055433 -0.4398923\n",
       "6 OTU.10009  0.0000000  0.0000000  0.0000000  5.1824890  0.0000000  0.0000000\n",
       "        ELCOR      ERATE      FAGES       GLYMA        H99      HELAN\n",
       "1  3.24272186  3.9915833  2.2250560  4.48740202  2.4067471  2.8786942\n",
       "2 -0.02328959  0.2387057  1.0417471 -1.42186719 -0.8572358 -2.2450542\n",
       "3  1.47498794  1.4759667  1.9412585  0.16666145  0.4474753  0.0000000\n",
       "4  0.00000000  0.0000000  0.0000000  0.00000000  0.0000000  0.0000000\n",
       "5  0.37905805 -0.3615203 -0.7816264 -0.04939975  0.8477534  0.9908883\n",
       "6  6.73701928  5.7646992  0.0000000  4.49149398  0.0000000  0.0000000\n",
       "       Hp301      Il14H         Ki3       Mo18        MS71       Oh7B\n",
       "1  4.3976331  4.3466981  4.35307837  4.0445793  4.06641802  4.4037339\n",
       "2 -0.4022152  0.2930102 -0.03192550 -0.2502920 -0.09764826 -0.2004961\n",
       "3  0.7054947  0.8511066  1.68859388  0.0000000  1.76775156  0.2515060\n",
       "4  0.0000000  0.0000000  0.00000000  0.0000000  0.00000000  0.0000000\n",
       "5 -0.5458956 -0.6274191  0.01067671  0.6576486  0.49561642  0.3855410\n",
       "6  0.0000000  0.0000000  0.00000000  0.0000000  0.00000000  3.7881113\n",
       "        SETFA         SORBI     SORSUD     Tx303\n",
       "1  5.47755534  4.379441e+00  3.7625550 5.2549268\n",
       "2  0.07462705 -1.734243e-01 -0.4410127 0.6021587\n",
       "3  2.05960713  8.372609e-05  0.7366598 1.8418300\n",
       "4  0.00000000  0.000000e+00  0.0000000 0.0000000\n",
       "5 -0.63332716  1.453448e+00  2.1005521 0.0909160\n",
       "6  0.00000000  0.000000e+00  3.9124171 0.0000000\n"
      ]
     },
     "metadata": {},
     "output_type": "display_data"
    }
   ],
   "source": [
    "%%R\n",
    "df = l2f[,c(1,11,13)]\n",
    "l2f_m = spread(df, Plant, log2FoldChange, fill = 0, drop = TRUE)\n",
    "l2f_m %>% head"
   ]
  },
  {
   "cell_type": "code",
   "execution_count": 23,
   "metadata": {
    "collapsed": false,
    "scrolled": true
   },
   "outputs": [
    {
     "data": {
      "text/plain": [
       "[1] 7049   23\n"
      ]
     },
     "metadata": {},
     "output_type": "display_data"
    }
   ],
   "source": [
    "%%R\n",
    "dim(l2f_m)"
   ]
  },
  {
   "cell_type": "markdown",
   "metadata": {},
   "source": [
    "### recode all negative log2fold changes with 0"
   ]
  },
  {
   "cell_type": "code",
   "execution_count": 28,
   "metadata": {
    "collapsed": false,
    "scrolled": true
   },
   "outputs": [
    {
     "data": {
      "text/plain": [
       "        OTU    75-062     ABUTH     AMAPO       B73       B97     ECHCG\n",
       "1    OTU.10 3.7523433 3.5494178 3.9076702 4.7268592 3.9815247 3.6698594\n",
       "2   OTU.100 0.2596795 0.1158978 0.0000000 0.0000000 0.0000000 0.1329242\n",
       "3  OTU.1000 1.4402601 0.3949173 0.4435041 0.2573087 0.6151993 0.6697786\n",
       "4 OTU.10000 0.0000000 0.0000000 0.0000000 0.0000000 1.6438161 0.0000000\n",
       "5 OTU.10004 0.0000000 0.0000000 0.0000000 0.3824627 1.1055433 0.0000000\n",
       "6 OTU.10009 0.0000000 0.0000000 0.0000000 5.1824890 0.0000000 0.0000000\n",
       "     ELCOR     ERATE    FAGES     GLYMA       H99     HELAN     Hp301     Il14H\n",
       "1 3.242722 3.9915833 2.225056 4.4874020 2.4067471 2.8786942 4.3976331 4.3466981\n",
       "2 0.000000 0.2387057 1.041747 0.0000000 0.0000000 0.0000000 0.0000000 0.2930102\n",
       "3 1.474988 1.4759667 1.941258 0.1666615 0.4474753 0.0000000 0.7054947 0.8511066\n",
       "4 0.000000 0.0000000 0.000000 0.0000000 0.0000000 0.0000000 0.0000000 0.0000000\n",
       "5 0.379058 0.0000000 0.000000 0.0000000 0.8477534 0.9908883 0.0000000 0.0000000\n",
       "6 6.737019 5.7646992 0.000000 4.4914940 0.0000000 0.0000000 0.0000000 0.0000000\n",
       "         Ki3      Mo18      MS71     Oh7B      SETFA        SORBI    SORSUD\n",
       "1 4.35307837 4.0445793 4.0664180 4.403734 5.47755534 4.379441e+00 3.7625550\n",
       "2 0.00000000 0.0000000 0.0000000 0.000000 0.07462705 0.000000e+00 0.0000000\n",
       "3 1.68859388 0.0000000 1.7677516 0.251506 2.05960713 8.372609e-05 0.7366598\n",
       "4 0.00000000 0.0000000 0.0000000 0.000000 0.00000000 0.000000e+00 0.0000000\n",
       "5 0.01067671 0.6576486 0.4956164 0.385541 0.00000000 1.453448e+00 2.1005521\n",
       "6 0.00000000 0.0000000 0.0000000 3.788111 0.00000000 0.000000e+00 3.9124171\n",
       "      Tx303\n",
       "1 5.2549268\n",
       "2 0.6021587\n",
       "3 1.8418300\n",
       "4 0.0000000\n",
       "5 0.0909160\n",
       "6 0.0000000\n"
      ]
     },
     "metadata": {},
     "output_type": "display_data"
    }
   ],
   "source": [
    "%%R\n",
    "l2f_me = l2f_m\n",
    "l2f_me[l2f_me < 0] = 0 \n",
    "head(l2f_me)"
   ]
  },
  {
   "cell_type": "markdown",
   "metadata": {},
   "source": [
    "## Calculate pairwise weighted Unifrac distances between samples\n",
    "\n",
    "need to figure out how to run unifrac measure outside of phyloseq"
   ]
  },
  {
   "cell_type": "code",
   "execution_count": 37,
   "metadata": {
    "collapsed": false
   },
   "outputs": [
    {
     "name": "stdout",
     "output_type": "stream",
     "text": [
      "List of 5\n",
      " $ edge       : int [1:25135, 1:2] 12570 12570 12570 12571 12572 12573 12573 12572 12574 12574 ...\n",
      " $ Nnode      : int 12567\n",
      " $ tip.label  : chr [1:12569] \"X90478\" \"OTU.5899\" \"OTU.11339\" \"OTU.12624\" ...\n",
      " $ edge.length: num [1:25135] 0.4631 0.0343 0.0501 0.0495 0.0295 ...\n",
      " $ node.label : chr [1:12567] \"\" \"0.606.5\" \"0.960\" \"0.910\" ...\n",
      " - attr(*, \"class\")= chr \"phylo\"\n",
      " - attr(*, \"order\")= chr \"cladewise\"\n",
      "Error in picante::unifrac(as(t(l2f_me), \"matrix\"), Tree) : \n",
      "  Rooted phylogeny required for UniFrac calculation\n"
     ]
    }
   ],
   "source": [
    "%%R -i treeFile\n",
    "Tree = read.tree(treeFile)\n",
    "str(Tree)\n",
    "l2f_wunif = picante::unifrac(as(t(l2f_me), \"matrix\"), Tree)"
   ]
  },
  {
   "cell_type": "code",
   "execution_count": 30,
   "metadata": {
    "collapsed": false
   },
   "outputs": [
    {
     "data": {
      "text/plain": [
       "OTU Table:          [6 taxa and 240 samples]\n",
       "                     taxa are rows\n",
       "         sample2-1.06_Npos sample6-4.27_Npos sample4-4.27_Nneg\n",
       "OTU.5899      0.000000e+00      8.832284e-06      0.000000e+00\n",
       "OTU.8680      1.329704e-04      1.413165e-04      8.043887e-05\n",
       "OTU.2666      3.128715e-05      0.000000e+00      0.000000e+00\n",
       "OTU.323       5.397034e-04      7.330796e-04      4.343699e-04\n",
       "OTU.7636      9.386146e-05      1.324843e-04      3.217555e-05\n",
       "OTU.3540      7.821788e-06      2.649685e-05      0.000000e+00\n",
       "         sample4-1.06_Nneg sample2-1.06_Nneg sample6-3.07_Nneg\n",
       "OTU.5899      1.655382e-05      4.908120e-05      3.229766e-05\n",
       "OTU.8680      1.655382e-04      1.079786e-04      2.422324e-04\n",
       "OTU.2666      1.655382e-05      4.908120e-05      0.000000e+00\n",
       "OTU.323       9.270142e-04      7.264018e-04      1.098120e-03\n",
       "OTU.7636      2.151997e-04      5.889744e-05      9.689297e-05\n",
       "OTU.3540      3.310765e-05      2.944872e-05      0.000000e+00\n",
       "         sample5-3.07_Nneg sample6-3.07_Npos sample3-3.07_Npos\n",
       "OTU.5899      4.030836e-05      0.000000e+00      0.000000e+00\n",
       "OTU.8680      4.333149e-04      2.107101e-04      2.176373e-04\n",
       "OTU.2666      3.023127e-05      0.000000e+00      4.352747e-05\n",
       "OTU.323       1.108480e-03      9.431785e-04      1.099069e-03\n",
       "OTU.7636      5.038545e-05      6.020288e-05      9.793680e-05\n",
       "OTU.3540      2.015418e-05      0.000000e+00      1.088187e-04\n",
       "         sample5-1.22_Nneg sample6-4.12_Npos sample1-4.27_Npos\n",
       "OTU.5899      0.000000e+00      0.000000e+00      0.000000e+00\n",
       "OTU.8680      1.240951e-04      2.493718e-04      1.552855e-04\n",
       "OTU.2666      0.000000e+00      4.795611e-05      1.941069e-05\n",
       "OTU.323       4.136505e-04      3.644664e-04      6.405528e-04\n",
       "OTU.7636      8.273009e-05      8.632100e-05      1.941069e-05\n",
       "OTU.3540      0.000000e+00      0.000000e+00      0.000000e+00\n",
       "         sample4-1.03_Npos sample5-2.06_Npos sample5-4.08_Npos\n",
       "OTU.5899      0.000000e+00      0.000000e+00      1.218769e-05\n",
       "OTU.8680      4.774637e-05      3.144308e-05      8.531383e-05\n",
       "OTU.2666      9.549274e-05      9.432924e-05      1.218769e-05\n",
       "OTU.323       9.549274e-05      2.672662e-04      1.584400e-04\n",
       "OTU.7636      9.549274e-05      4.716462e-05      3.656307e-05\n",
       "OTU.3540      0.000000e+00      0.000000e+00      0.000000e+00\n",
       "         sample4-3.07_Nneg sample5-4.28_Npos sample6-1.06_Npos\n",
       "OTU.5899      2.206077e-05      0.000000e+00       0.000000000\n",
       "OTU.8680      1.544254e-04      4.951476e-05       0.000293236\n",
       "OTU.2666      7.353590e-06      0.000000e+00       0.000000000\n",
       "OTU.323       8.383093e-04      2.970885e-04       0.001075199\n",
       "OTU.7636      2.941436e-05      4.951476e-05       0.000146618\n",
       "OTU.3540      7.353590e-06      0.000000e+00       0.000000000\n",
       "         sample4-2.05_Nneg sample2-4.27_Nneg sample1-2.05_Nneg\n",
       "OTU.5899      1.848702e-05      0.000000e+00      2.137209e-05\n",
       "OTU.8680      7.394809e-05      0.000000e+00      1.068604e-04\n",
       "OTU.2666      0.000000e+00      3.202152e-05      0.000000e+00\n",
       "OTU.323       6.655328e-04      9.286240e-04      5.770464e-04\n",
       "OTU.7636      1.848702e-05      3.202152e-05      6.411626e-05\n",
       "OTU.3540      1.848702e-05      3.202152e-05      0.000000e+00\n",
       "         sample5-1.29_Npos sample5-4.27_Npos sample5-4.27_Nneg\n",
       "OTU.5899      0.0000000000      4.017113e-05      3.673095e-05\n",
       "OTU.8680      0.0000000000      1.506417e-04      3.305785e-04\n",
       "OTU.2666      0.0000000000      1.004278e-05      1.836547e-05\n",
       "OTU.323       0.0001840378      6.929520e-04      7.529844e-04\n",
       "OTU.7636      0.0000000000      1.104706e-04      9.182736e-05\n",
       "OTU.3540      0.0000000000      0.000000e+00      1.836547e-05\n",
       "         sample1-3.07_Nneg sample4-2.02_Nneg sample4-4.21_Nneg\n",
       "OTU.5899      6.202801e-05      0.000000e+00      9.197376e-05\n",
       "OTU.8680      1.395630e-04      1.414627e-04      2.759213e-04\n",
       "OTU.2666      1.550700e-05      2.829254e-05      1.226317e-04\n",
       "OTU.323       1.100997e-03      3.960956e-04      5.211846e-04\n",
       "OTU.7636      1.240560e-04      8.487763e-05      0.000000e+00\n",
       "OTU.3540      3.101400e-05      0.000000e+00      0.000000e+00\n",
       "         sample2-2.05_Nneg sample6-2.13_Npos sample5-2.29_Nneg\n",
       "OTU.5899      1.896741e-05      0.000000e+00      4.935469e-05\n",
       "OTU.8680      1.327719e-04      1.156025e-04      1.974187e-04\n",
       "OTU.2666      1.896741e-05      3.853416e-05      4.935469e-05\n",
       "OTU.323       4.552179e-04      3.082733e-04      6.416109e-04\n",
       "OTU.7636      1.896741e-05      0.000000e+00      4.935469e-05\n",
       "OTU.3540      0.000000e+00      0.000000e+00      0.000000e+00\n",
       "         sample5-2.06_Nneg sample1-2.23_Nneg sample6-2.26_Nneg\n",
       "OTU.5899      0.000000e+00      1.860257e-05      5.588622e-05\n",
       "OTU.8680      0.000000e+00      1.116154e-04      8.382932e-05\n",
       "OTU.2666      4.943276e-05      3.720515e-05      2.794311e-05\n",
       "OTU.323       2.224474e-04      3.534489e-04      6.985777e-04\n",
       "OTU.7636      4.943276e-05      0.000000e+00      5.588622e-05\n",
       "OTU.3540      0.000000e+00      0.000000e+00      0.000000e+00\n",
       "         sample6-3.18_Nneg sample5-3.13_Nneg sample2-2.08_Nneg\n",
       "OTU.5899      2.631995e-05      0.000000e+00      3.720792e-05\n",
       "OTU.8680      7.895984e-05      4.833954e-05      1.116238e-04\n",
       "OTU.2666      1.052798e-04      2.416977e-05      7.441584e-05\n",
       "OTU.323       2.105596e-04      4.592256e-04      1.860396e-04\n",
       "OTU.7636      0.000000e+00      2.416977e-05      3.720792e-05\n",
       "OTU.3540      0.000000e+00      0.000000e+00      0.000000e+00\n",
       "         sample1-2.05_Npos sample3-2.05_Nneg sample5-1.17_Nneg\n",
       "OTU.5899      0.000000e+00      5.025378e-05      0.000000e+00\n",
       "OTU.8680      1.336439e-04      1.340101e-04      2.247393e-05\n",
       "OTU.2666      0.000000e+00      3.350252e-05      0.000000e+00\n",
       "OTU.323       6.300355e-04      7.873092e-04      3.146350e-04\n",
       "OTU.7636      5.727596e-05      8.375630e-05      4.494786e-05\n",
       "OTU.3540      3.818397e-05      1.675126e-05      0.000000e+00\n",
       "         sample6-3.01_Npos sample3-2.03_Nneg sample5-4.08_Nneg\n",
       "OTU.5899      0.000000e+00      0.0000000000      1.586899e-05\n",
       "OTU.8680      3.472403e-05      0.0001274102      3.173797e-05\n",
       "OTU.2666      8.681008e-05      0.0001698802      1.586899e-05\n",
       "OTU.323       4.340504e-04      0.0002548204      2.221658e-04\n",
       "OTU.7636      6.944806e-05      0.0000000000      0.000000e+00\n",
       "OTU.3540      0.000000e+00      0.0000000000      0.000000e+00\n",
       "         sample5-4.05_Npos sample5-1.06_Npos sample1-4.27_Nneg\n",
       "OTU.5899      0.000000e+00      0.000000e+00      7.003537e-05\n",
       "OTU.8680      1.115076e-04      1.988224e-04      2.451238e-04\n",
       "OTU.2666      0.000000e+00      0.000000e+00      1.750884e-05\n",
       "OTU.323       3.716919e-04      8.411715e-04      7.003537e-04\n",
       "OTU.7636      3.716919e-05      1.223522e-04      1.750884e-05\n",
       "OTU.3540      0.000000e+00      1.529403e-05      3.501768e-05\n",
       "         sample6-2.16_Npos sample1-4.24_Nneg sample5-4.28_Nneg\n",
       "OTU.5899      3.230392e-05      2.405581e-05      0.0000000000\n",
       "OTU.8680      9.691175e-05      7.216743e-05      0.0001169659\n",
       "OTU.2666      9.691175e-05      0.000000e+00      0.0000000000\n",
       "OTU.323       2.907352e-04      5.773394e-04      0.0002924148\n",
       "OTU.7636      3.230392e-05      7.216743e-05      0.0000000000\n",
       "OTU.3540      0.000000e+00      0.000000e+00      0.0000000000\n",
       "         sample6-2.13_Nneg sample1-3.08_Npos sample6-3.04_Npos\n",
       "OTU.5899      0.000000e+00      0.000000e+00      1.634628e-05\n",
       "OTU.8680      0.000000e+00      4.128137e-05      1.144240e-04\n",
       "OTU.2666      0.000000e+00      4.128137e-05      1.634628e-05\n",
       "OTU.323       3.320604e-04      3.302510e-04      3.269256e-04\n",
       "OTU.7636      9.487441e-05      0.000000e+00      1.307702e-04\n",
       "OTU.3540      2.371860e-05      0.000000e+00      0.000000e+00\n",
       "         sample6-1.06_Nneg sample4-1.03_Nneg sample5-1.22_Npos\n",
       "OTU.5899      0.000000e+00      0.000000e+00      0.000000e+00\n",
       "OTU.8680      1.581444e-04      5.204809e-05      0.000000e+00\n",
       "OTU.2666      0.000000e+00      0.000000e+00      0.000000e+00\n",
       "OTU.323       1.054296e-03      2.081924e-04      5.390545e-05\n",
       "OTU.7636      7.907222e-05      5.204809e-05      5.390545e-05\n",
       "OTU.3540      3.953611e-05      0.000000e+00      0.000000e+00\n",
       "         sample6-1.15_Nneg sample2-2.05_Npos sample2-4.27_Npos\n",
       "OTU.5899      0.000000e+00      0.000000e+00      2.750918e-05\n",
       "OTU.8680      2.353495e-04      5.770340e-05      1.375459e-04\n",
       "OTU.2666      0.000000e+00      3.846894e-05      0.000000e+00\n",
       "OTU.323       4.314741e-04      4.423928e-04      7.152387e-04\n",
       "OTU.7636      7.844983e-05      1.923447e-05      4.126377e-05\n",
       "OTU.3540      0.000000e+00      0.000000e+00      4.126377e-05\n",
       "         sample5-2.11_Nneg sample4-4.21_Npos sample6-4.12_Nneg\n",
       "OTU.5899      0.0000000000      0.000000e+00      0.000000e+00\n",
       "OTU.8680      0.0001477585      3.647838e-05      7.834688e-05\n",
       "OTU.2666      0.0000000000      1.823919e-05      0.000000e+00\n",
       "OTU.323       0.0006205857      2.735878e-04      3.525610e-04\n",
       "OTU.7636      0.0001182068      3.647838e-05      3.917344e-05\n",
       "OTU.3540      0.0000000000      0.000000e+00      0.000000e+00\n",
       "         sample5-1.25_Nneg sample6-4.17_Npos sample3-1.06_Npos\n",
       "OTU.5899      0.000000e+00      1.308798e-05      0.0000000000\n",
       "OTU.8680      2.709146e-05      1.047038e-04      0.0002046478\n",
       "OTU.2666      2.709146e-05      1.308798e-05      0.0000000000\n",
       "OTU.323       3.250975e-04      1.308798e-04      0.0007048979\n",
       "OTU.7636      0.000000e+00      0.000000e+00      0.0002046478\n",
       "OTU.3540      0.000000e+00      0.000000e+00      0.0000000000\n",
       "         sample6-3.04_Nneg sample5-3.27_Nneg sample6-1.15_Npos\n",
       "OTU.5899      0.000000e+00      0.000000e+00      0.0000000000\n",
       "OTU.8680      3.783436e-05      2.221235e-04      0.0000370151\n",
       "OTU.2666      1.891718e-05      2.776544e-05      0.0000000000\n",
       "OTU.323       2.648405e-04      4.442470e-04      0.0001480604\n",
       "OTU.7636      0.000000e+00      8.329631e-05      0.0001110453\n",
       "OTU.3540      0.000000e+00      2.776544e-05      0.0000000000\n",
       "         sample5-3.11_Nneg sample5-2.11_Npos sample4-3.07_Npos\n",
       "OTU.5899      0.000000e+00      0.0000000000      3.752909e-05\n",
       "OTU.8680      2.010589e-04      0.0002040566      2.064100e-04\n",
       "OTU.2666      6.701964e-05      0.0000000000      1.876454e-05\n",
       "OTU.323       7.037062e-04      0.0003264906      1.200931e-03\n",
       "OTU.7636      3.350982e-05      0.0000000000      7.505817e-05\n",
       "OTU.3540      0.000000e+00      0.0000000000      1.876454e-05\n",
       "         sample5-3.17_Npos sample5-3.07_Npos sample5-1.17_Npos\n",
       "OTU.5899      2.298269e-05      0.000000e+00      0.000000e+00\n",
       "OTU.8680      1.149135e-04      4.140358e-04      8.193363e-05\n",
       "OTU.2666      0.000000e+00      0.000000e+00      5.462242e-05\n",
       "OTU.323       4.596539e-05      1.086844e-03      2.731121e-04\n",
       "OTU.7636      0.000000e+00      1.552634e-04      0.000000e+00\n",
       "OTU.3540      0.000000e+00      5.175448e-05      0.000000e+00\n",
       "         sample3-3.06_Nneg sample3-2.05_Npos sample2-3.05_Nneg\n",
       "OTU.5899      0.000000e+00      6.727212e-05      0.000000e+00\n",
       "OTU.8680      2.815976e-04      8.969615e-05      4.603628e-05\n",
       "OTU.2666      4.693293e-05      2.242404e-05      0.000000e+00\n",
       "OTU.323       7.509269e-04      9.418096e-04      5.063990e-04\n",
       "OTU.7636      0.000000e+00      1.345442e-04      4.603628e-05\n",
       "OTU.3540      0.000000e+00      2.242404e-05      0.000000e+00\n",
       "         sample6-4.27_Nneg sample6-1.07_Npos sample5-3.13_Npos\n",
       "OTU.5899      1.535509e-05      7.459347e-05      0.000000e+00\n",
       "OTU.8680      1.689060e-04      7.459347e-05      9.490007e-05\n",
       "OTU.2666      1.535509e-05      0.000000e+00      1.898001e-05\n",
       "OTU.323       7.216891e-04      1.491869e-04      3.796003e-04\n",
       "OTU.7636      6.142035e-05      7.459347e-05      9.490007e-05\n",
       "OTU.3540      1.535509e-05      0.000000e+00      0.000000e+00\n",
       "         sample5-1.06_Nneg sample3-4.27_Nneg sample5-4.09_Npos\n",
       "OTU.5899      2.941436e-05      1.590078e-05      0.000000e+00\n",
       "OTU.8680      1.764862e-04      2.067101e-04      5.820431e-05\n",
       "OTU.2666      0.000000e+00      0.000000e+00      5.820431e-05\n",
       "OTU.323       7.059446e-04      5.088249e-04      1.829278e-04\n",
       "OTU.7636      3.235580e-04      6.360312e-05      2.494471e-05\n",
       "OTU.3540      0.000000e+00      3.180156e-05      0.000000e+00\n",
       "         sample6-4.30_Npos sample6-1.12_Npos sample6-3.18_Npos\n",
       "OTU.5899      0.000000e+00      3.377694e-05      2.276401e-05\n",
       "OTU.8680      1.901249e-05      3.377694e-05      4.552801e-05\n",
       "OTU.2666      3.802498e-05      0.000000e+00      2.276401e-05\n",
       "OTU.323       1.520999e-04      1.688847e-04      1.593480e-04\n",
       "OTU.7636      5.703747e-05      3.377694e-05      0.000000e+00\n",
       "OTU.3540      0.000000e+00      0.000000e+00      0.000000e+00\n",
       "         sample1-4.24_Npos sample3-3.06_Npos sample5-4.06_Nneg\n",
       "OTU.5899      0.000000e+00      0.000000e+00      0.000000e+00\n",
       "OTU.8680      5.254999e-05      1.108033e-04      3.508109e-04\n",
       "OTU.2666      2.627499e-05      0.000000e+00      5.397091e-05\n",
       "OTU.323       2.102000e-04      3.878116e-04      1.619127e-03\n",
       "OTU.7636      2.627499e-05      5.540166e-05      1.349273e-04\n",
       "OTU.3540      0.000000e+00      0.000000e+00      0.000000e+00\n",
       "         sample6-4.17_Nneg sample5-3.11_Npos sample5-3.16_Npos\n",
       "OTU.5899      4.946251e-05      4.422431e-05      0.000000e+00\n",
       "OTU.8680      1.483875e-04      5.749160e-04      4.188306e-05\n",
       "OTU.2666      0.000000e+00      4.422431e-05      4.188306e-05\n",
       "OTU.323       3.792126e-04      1.017159e-03      2.931814e-04\n",
       "OTU.7636      0.000000e+00      0.000000e+00      0.000000e+00\n",
       "OTU.3540      0.000000e+00      0.000000e+00      0.000000e+00\n",
       "         sample5-2.05_Nneg sample3-3.07_Nneg sample1-1.27_Npos\n",
       "OTU.5899      4.660810e-05      1.888717e-05      0.000000e+00\n",
       "OTU.8680      1.398243e-04      1.322102e-04      5.086211e-05\n",
       "OTU.2666      2.330405e-05      1.888717e-05      1.525863e-04\n",
       "OTU.323       1.095290e-03      7.177124e-04      5.086211e-05\n",
       "OTU.7636      4.660810e-05      9.443584e-05      1.017242e-04\n",
       "OTU.3540      0.000000e+00      0.000000e+00      0.000000e+00\n",
       "         sample5-4.05_Nneg sample5-1.25_Npos sample6-1.07_Nneg\n",
       "OTU.5899      2.647534e-05      0.000000e+00      0.000000e+00\n",
       "OTU.8680      1.323767e-04      0.000000e+00      0.000000e+00\n",
       "OTU.2666      5.295068e-05      4.738438e-05      7.726781e-05\n",
       "OTU.323       3.177041e-04      2.369219e-04      2.318034e-04\n",
       "OTU.7636      2.647534e-05      0.000000e+00      3.863391e-05\n",
       "OTU.3540      0.000000e+00      0.000000e+00      0.000000e+00\n",
       "         sample5-2.18_Nneg sample6-2.26_Npos sample6-2.05_Nneg\n",
       "OTU.5899      2.207213e-05      5.223387e-05      0.0000214064\n",
       "OTU.8680      1.986492e-04      6.964516e-05      0.0003210960\n",
       "OTU.2666      6.621640e-05      5.223387e-05      0.0000214064\n",
       "OTU.323       5.297312e-04      1.741129e-04      0.0008990688\n",
       "OTU.7636      4.414426e-05      3.482258e-05      0.0001070320\n",
       "OTU.3540      2.207213e-05      0.000000e+00      0.0000000000\n",
       "         sample2-3.07_Nneg sample5-3.16_Nneg sample5-4.06_Npos\n",
       "OTU.5899      0.000000e+00      0.0000000000      0.000000e+00\n",
       "OTU.8680      2.397251e-04      0.0002489007      2.613013e-04\n",
       "OTU.2666      2.663612e-05      0.0000000000      3.732875e-05\n",
       "OTU.323       9.056282e-04      0.0002903841      6.345888e-04\n",
       "OTU.7636      7.990837e-05      0.0000000000      7.465751e-05\n",
       "OTU.3540      2.663612e-05      0.0000000000      0.000000e+00\n",
       "         sample3-1.09_Npos sample3-4.15_Nneg sample1-3.07_Npos\n",
       "OTU.5899      0.000000e+00      0.000000e+00      0.000000e+00\n",
       "OTU.8680      0.000000e+00      1.270218e-04      2.147905e-04\n",
       "OTU.2666      7.876497e-05      4.234059e-05      4.295809e-05\n",
       "OTU.323       7.876497e-05      2.117029e-04      8.806409e-04\n",
       "OTU.7636      0.000000e+00      0.000000e+00      8.591619e-05\n",
       "OTU.3540      0.000000e+00      0.000000e+00      0.000000e+00\n",
       "         sample5-2.15_Npos sample4-2.05_Npos sample6-4.30_Nneg\n",
       "OTU.5899      0.000000e+00      2.386379e-05      1.772044e-05\n",
       "OTU.8680      1.658054e-04      1.670465e-04      8.860221e-05\n",
       "OTU.2666      5.526847e-05      0.000000e+00      3.544088e-05\n",
       "OTU.323       2.210739e-04      8.113687e-04      1.417635e-04\n",
       "OTU.7636      8.290270e-05      1.073870e-04      0.000000e+00\n",
       "OTU.3540      2.763423e-05      3.579568e-05      0.000000e+00\n",
       "         sample5-3.27_Npos sample2-3.07_Npos sample6-1.12_Nneg\n",
       "OTU.5899      0.000000e+00      0.000000e+00      0.000000e+00\n",
       "OTU.8680      8.482843e-05      1.724847e-04      2.546668e-05\n",
       "OTU.2666      1.272427e-04      0.000000e+00      5.093335e-05\n",
       "OTU.323       3.817280e-04      6.501347e-04      1.782667e-04\n",
       "OTU.7636      4.241422e-05      5.307222e-05      5.093335e-05\n",
       "OTU.3540      0.000000e+00      5.307222e-05      0.000000e+00\n",
       "         sample4-3.10_Npos sample6-2.16_Nneg sample5-3.17_Nneg\n",
       "OTU.5899      0.0000376336      0.000000e+00      3.763785e-05\n",
       "OTU.8680      0.0001505344      6.194827e-05      2.070082e-04\n",
       "OTU.2666      0.0000752672      9.292241e-05      1.881892e-05\n",
       "OTU.323       0.0002258016      1.548707e-04      4.140163e-04\n",
       "OTU.7636      0.0000752672      0.000000e+00      1.881892e-05\n",
       "OTU.3540      0.0000000000      0.000000e+00      0.000000e+00\n",
       "         sample5-1.16_Npos sample3-2.03_Npos sample1-2.23_Npos\n",
       "OTU.5899      0.000000e+00      0.0000000000      2.989269e-05\n",
       "OTU.8680      0.000000e+00      0.0000575871      8.967806e-05\n",
       "OTU.2666      0.000000e+00      0.0000575871      0.000000e+00\n",
       "OTU.323       4.891063e-04      0.0001151742      4.782830e-04\n",
       "OTU.7636      8.892841e-05      0.0000000000      5.978537e-05\n",
       "OTU.3540      0.000000e+00      0.0000000000      0.000000e+00\n",
       "         sample5-4.09_Nneg sample2-2.08_Npos sample2-3.05_Npos\n",
       "OTU.5899      0.000000e+00      0.000000e+00      0.000000e+00\n",
       "OTU.8680      2.327169e-04      3.456978e-05      0.000000e+00\n",
       "OTU.2666      3.102892e-05      0.000000e+00      0.000000e+00\n",
       "OTU.323       4.654338e-04      1.037093e-04      4.349087e-04\n",
       "OTU.7636      4.654338e-05      0.000000e+00      4.832319e-05\n",
       "OTU.3540      0.000000e+00      0.000000e+00      0.000000e+00\n",
       "         sample2-1.08_Nneg sample3-4.15_Npos sample6-3.01_Nneg\n",
       "OTU.5899      0.000000e+00      4.555809e-05      0.000000e+00\n",
       "OTU.8680      0.000000e+00      4.555809e-05      8.847470e-05\n",
       "OTU.2666      0.000000e+00      4.555809e-05      5.898313e-05\n",
       "OTU.323       6.604147e-05      5.011390e-04      7.077976e-04\n",
       "OTU.7636      0.000000e+00      0.000000e+00      5.898313e-05\n",
       "OTU.3540      0.000000e+00      0.000000e+00      0.000000e+00\n",
       "         sample5-1.16_Nneg sample2-1.08_Npos sample1-1.27_Nneg\n",
       "OTU.5899      0.000000e+00      0.000000e+00      0.0000000000\n",
       "OTU.8680      3.714848e-05      6.976906e-05      0.0000000000\n",
       "OTU.2666      0.000000e+00      0.000000e+00      0.0000000000\n",
       "OTU.323       1.857424e-04      6.976906e-05      0.0006076565\n",
       "OTU.7636      0.000000e+00      1.395381e-04      0.0001012761\n",
       "OTU.3540      0.000000e+00      0.000000e+00      0.0000000000\n",
       "         sample4-3.10_Nneg sample5-1.29_Nneg sample4-2.02_Npos\n",
       "OTU.5899      0.0000000000      0.000000e+00      0.0000000000\n",
       "OTU.8680      0.0000000000      9.137844e-05      0.0000000000\n",
       "OTU.2666      0.0000000000      0.000000e+00      0.0001123511\n",
       "OTU.323       0.0003594735      4.568922e-04      0.0003370534\n",
       "OTU.7636      0.0001106072      0.000000e+00      0.0001123511\n",
       "OTU.3540      0.0000000000      0.000000e+00      0.0000000000\n",
       "         sample5-2.15_Nneg sample1-3.08_Nneg sample3-1.09_Nneg\n",
       "OTU.5899      0.000000e+00      0.000000e+00      0.000000e+00\n",
       "OTU.8680      2.197319e-04      1.711157e-04      1.439263e-04\n",
       "OTU.2666      5.992689e-05      1.368925e-04      0.000000e+00\n",
       "OTU.323       3.795370e-04      4.449008e-04      7.196315e-05\n",
       "OTU.7636      1.997563e-05      3.422313e-05      7.196315e-05\n",
       "OTU.3540      0.000000e+00      0.000000e+00      0.000000e+00\n",
       "         sample2-4.25_Nneg sample5-2.18_Npos sample5-2.29_Npos\n",
       "OTU.5899      0.000000e+00      0.000000e+00      4.485009e-05\n",
       "OTU.8680      3.734548e-05      0.000000e+00      0.000000e+00\n",
       "OTU.2666      0.000000e+00      0.000000e+00      0.000000e+00\n",
       "OTU.323       1.120364e-04      3.382950e-04      4.933510e-04\n",
       "OTU.7636      0.000000e+00      8.457375e-05      0.000000e+00\n",
       "OTU.3540      0.000000e+00      0.000000e+00      0.000000e+00\n",
       "         sample2-4.25_Npos sample7-1.13_Npos sample7-4.02_Npos\n",
       "OTU.5899      0.000000e+00      0.0000000000      0.0000000000\n",
       "OTU.8680      3.850152e-05      0.0001075731      0.0000000000\n",
       "OTU.2666      0.000000e+00      0.0000000000      0.0000748391\n",
       "OTU.323       1.155046e-04      0.0004302926      0.0001496782\n",
       "OTU.7636      3.850152e-05      0.0003227194      0.0000000000\n",
       "OTU.3540      0.000000e+00      0.0000000000      0.0000000000\n",
       "         sample8-2.07_Nneg sample7-4.02_Nneg sample3-1.20_Npos\n",
       "OTU.5899      0.000000e+00      0.000000e+00      0.000000e+00\n",
       "OTU.8680      2.601626e-04      0.000000e+00      8.614748e-05\n",
       "OTU.2666      0.000000e+00      6.723593e-05      8.614748e-05\n",
       "OTU.323       5.853659e-04      2.689437e-04      3.445899e-04\n",
       "OTU.7636      6.504065e-05      1.344719e-04      2.584425e-04\n",
       "OTU.3540      0.000000e+00      0.000000e+00      0.000000e+00\n",
       "         sample8-4.27_Npos sample5-2.05_Npos sample7-1.04_Npos\n",
       "OTU.5899      0.0000000000      0.0000000000      0.000000e+00\n",
       "OTU.8680      0.0003874467      0.0001064028      3.269577e-04\n",
       "OTU.2666      0.0001291489      0.0000000000      8.173941e-05\n",
       "OTU.323       0.0007748935      0.0007714202      8.173941e-04\n",
       "OTU.7636      0.0000000000      0.0001064028      8.173941e-05\n",
       "OTU.3540      0.0000000000      0.0000000000      0.000000e+00\n",
       "         sample8-4.23_Nneg sample4-4.27_Npos sample7-3.19_Nneg\n",
       "OTU.5899      0.0002485089      3.290231e-05      0.0000000000\n",
       "OTU.8680      0.0000000000      2.303162e-04      0.0002948635\n",
       "OTU.2666      0.0000000000      0.000000e+00      0.0000589727\n",
       "OTU.323       0.0001242545      7.896555e-04      0.0000589727\n",
       "OTU.7636      0.0001242545      1.974139e-04      0.0000589727\n",
       "OTU.3540      0.0000000000      0.000000e+00      0.0000000000\n",
       "         sample7-1.06_Nneg sample7-4.03_Npos sample8-1.14_Npos\n",
       "OTU.5899      0.0000000000      0.0000000000      0.0000000000\n",
       "OTU.8680      0.0001619368      0.0002409058      0.0000000000\n",
       "OTU.2666      0.0000000000      0.0000000000      0.0000000000\n",
       "OTU.323       0.0009716206      0.0000000000      0.0002061997\n",
       "OTU.7636      0.0002833893      0.0000000000      0.0001374665\n",
       "OTU.3540      0.0000000000      0.0000000000      0.0000000000\n",
       "         sample7-2.12_Npos sample3-1.06_Nneg sample3-4.18_Nneg\n",
       "OTU.5899        0.0000e+00      0.000000e+00      0.000000e+00\n",
       "OTU.8680        0.0000e+00      2.534051e-04      9.343175e-05\n",
       "OTU.2666        0.0000e+00      3.167564e-05      0.000000e+00\n",
       "OTU.323         7.8125e-05      1.013621e-03      5.605905e-04\n",
       "OTU.7636        0.0000e+00      2.534051e-04      0.000000e+00\n",
       "OTU.3540        0.0000e+00      0.000000e+00      0.000000e+00\n",
       "         sample8-3.28_Npos sample6-1.18_Nneg sample7-2.12_Nneg\n",
       "OTU.5899      0.000000e+00      0.0000000000       0.000000000\n",
       "OTU.8680      2.046664e-04      0.0000000000       0.000000000\n",
       "OTU.2666      6.822213e-05      0.0000000000       0.000000000\n",
       "OTU.323       6.822213e-05      0.0001687194       0.000296472\n",
       "OTU.7636      1.364443e-04      0.0000000000       0.000000000\n",
       "OTU.3540      0.000000e+00      0.0000000000       0.000000000\n",
       "         sample7-2.28_Nneg sample2-2.10_Nneg sample8-2.17_Npos\n",
       "OTU.5899      0.0000000000      0.000000e+00      0.0000000000\n",
       "OTU.8680      0.0003537944      1.490313e-04      0.0000000000\n",
       "OTU.2666      0.0000000000      0.000000e+00      0.0000000000\n",
       "OTU.323       0.0007075889      7.451565e-05      0.0002599428\n",
       "OTU.7636      0.0000000000      1.490313e-04      0.0000000000\n",
       "OTU.3540      0.0000000000      0.000000e+00      0.0000000000\n",
       "         sample3-2.19_Npos sample8-2.25_Nneg sample6-3.09_Nneg\n",
       "OTU.5899      0.000000e+00       0.000000000      0.0000000000\n",
       "OTU.8680      2.236886e-04       0.000000000      0.0009074410\n",
       "OTU.2666      1.118443e-04       0.000000000      0.0000000000\n",
       "OTU.323       1.677665e-04       0.000208692      0.0003299786\n",
       "OTU.7636      5.592216e-05       0.000000000      0.0000000000\n",
       "OTU.3540      0.000000e+00       0.000000000      0.0000000000\n",
       "         sample8-2.05_Nneg sample4-1.06_Npos sample2-3.20_Npos\n",
       "OTU.5899      0.000000e+00      0.0000000000      7.573463e-05\n",
       "OTU.8680      2.284018e-04      0.0001711669      1.514693e-04\n",
       "OTU.2666      5.710044e-05      0.0000000000      0.000000e+00\n",
       "OTU.323       7.423057e-04      0.0008558347      1.514693e-04\n",
       "OTU.7636      0.000000e+00      0.0002567504      0.000000e+00\n",
       "OTU.3540      0.000000e+00      0.0000000000      0.000000e+00\n",
       "         sample6-2.05_Npos sample2-3.20_Nneg sample8-3.07_Nneg\n",
       "OTU.5899      0.000000e+00      0.0000000000      0.0000000000\n",
       "OTU.8680      0.000000e+00      0.0002318841      0.0001223990\n",
       "OTU.2666      5.109862e-05      0.0000000000      0.0000000000\n",
       "OTU.323       8.686765e-04      0.0002318841      0.0007955936\n",
       "OTU.7636      1.021972e-04      0.0001159420      0.0000000000\n",
       "OTU.3540      0.000000e+00      0.0000000000      0.0000000000\n",
       "         sample3-3.30_Npos sample8-1.06_Npos sample8-4.23_Npos\n",
       "OTU.5899       0.00000e+00      0.0000000000      0.0000000000\n",
       "OTU.8680       0.00000e+00      0.0000731743      0.0001126253\n",
       "OTU.2666       0.00000e+00      0.0000000000      0.0000000000\n",
       "OTU.323        7.09069e-05      0.0003658715      0.0000000000\n",
       "OTU.7636       0.00000e+00      0.0001463486      0.0000000000\n",
       "OTU.3540       0.00000e+00      0.0000000000      0.0000000000\n",
       "         sample8-3.03_Npos sample6-4.13_Npos sample8-4.07_Nneg\n",
       "OTU.5899      0.0000000000      0.0000000000      0.000000e+00\n",
       "OTU.8680      0.0000000000      0.0001244400      1.706776e-04\n",
       "OTU.2666      0.0000000000      0.0000000000      0.000000e+00\n",
       "OTU.323       0.0003129401      0.0003733201      5.689253e-05\n",
       "OTU.7636      0.0001564700      0.0000000000      0.000000e+00\n",
       "OTU.3540      0.0000000000      0.0000000000      0.000000e+00\n",
       "         sample6-1.18_Npos sample7-3.25_Npos sample8-3.23_Nneg\n",
       "OTU.5899      0.000000e+00      0.0000000000      8.528785e-05\n",
       "OTU.8680      0.000000e+00      0.0001661130      0.000000e+00\n",
       "OTU.2666      8.062566e-05      0.0001661130      0.000000e+00\n",
       "OTU.323       1.612513e-04      0.0004152824      2.558635e-04\n",
       "OTU.7636      8.062566e-05      0.0000000000      0.000000e+00\n",
       "OTU.3540      0.000000e+00      0.0000000000      0.000000e+00\n",
       "         sample7-2.30_Npos sample7-1.13_Nneg sample8-2.22_Npos\n",
       "OTU.5899      0.0000000000      0.0000000000      0.000000e+00\n",
       "OTU.8680      0.0003299023      0.0000000000      2.088119e-04\n",
       "OTU.2666      0.0000000000      0.0000000000      1.392079e-04\n",
       "OTU.323       0.0002639219      0.0001547748      3.480198e-04\n",
       "OTU.7636      0.0000000000      0.0000000000      6.960395e-05\n",
       "OTU.3540      0.0000000000      0.0000000000      0.000000e+00\n",
       "         sample7-2.30_Nneg sample2-1.24_Npos sample7-3.07_Nneg\n",
       "OTU.5899      0.0000000000      0.000000e+00      0.000000e+00\n",
       "OTU.8680      0.0002802298      0.000000e+00      1.893581e-04\n",
       "OTU.2666      0.0002101723      0.000000e+00      0.000000e+00\n",
       "OTU.323       0.0005604596      8.605111e-05      8.205517e-04\n",
       "OTU.7636      0.0000000000      8.605111e-05      6.311936e-05\n",
       "OTU.3540      0.0000000000      0.000000e+00      0.000000e+00\n",
       "         sample6-2.14_Npos sample8-1.14_Nneg sample3-1.20_Nneg\n",
       "OTU.5899      0.0001354646      0.000000e+00      0.0000000000\n",
       "OTU.8680      0.0000000000      3.683648e-05      0.0005190311\n",
       "OTU.2666      0.0000000000      7.367297e-05      0.0000000000\n",
       "OTU.323       0.0002709293      1.473459e-04      0.0007785467\n",
       "OTU.7636      0.0000000000      0.000000e+00      0.0004325260\n",
       "OTU.3540      0.0000000000      0.000000e+00      0.0000000000\n",
       "         sample2-4.16_Npos sample8-1.19_Npos sample7-2.28_Npos\n",
       "OTU.5899      0.0000000000      0.0000000000      0.0000000000\n",
       "OTU.8680      0.0001817273      0.0001881468      0.0002045408\n",
       "OTU.2666      0.0001362955      0.0000000000      0.0000000000\n",
       "OTU.323       0.0002725910      0.0002822201      0.0003068112\n",
       "OTU.7636      0.0001362955      0.0000000000      0.0000000000\n",
       "OTU.3540      0.0000000000      0.0000000000      0.0000000000\n",
       "         sample7-3.19_Npos sample8-1.06_Nneg sample7-1.04_Nneg\n",
       "OTU.5899                 0      0.0000000000       0.000000000\n",
       "OTU.8680                 0      0.0001002808       0.000279916\n",
       "OTU.2666                 0      0.0002005616       0.000000000\n",
       "OTU.323                  0      0.0008022463       0.000279916\n",
       "OTU.7636                 0      0.0001002808       0.000279916\n",
       "OTU.3540                 0      0.0000000000       0.000000000\n",
       "         sample8-1.19_Nneg sample7-3.12_Nneg sample7-4.03_Nneg\n",
       "OTU.5899      0.0000000000                 0                 0\n",
       "OTU.8680      0.0001002406                 0                 0\n",
       "OTU.2666      0.0000000000                 0                 0\n",
       "OTU.323       0.0008019246                 0                 0\n",
       "OTU.7636      0.0001002406                 0                 0\n",
       "OTU.3540      0.0000000000                 0                 0\n",
       "         sample7-1.28_Npos sample7-2.05_Nneg sample8-1.10_Npos\n",
       "OTU.5899      6.946374e-05      5.217028e-05      0.000000e+00\n",
       "OTU.8680      0.000000e+00      5.217028e-05      8.131403e-05\n",
       "OTU.2666      0.000000e+00      0.000000e+00      8.131403e-05\n",
       "OTU.323       6.946374e-05      8.347245e-04      4.065702e-04\n",
       "OTU.7636      0.000000e+00      5.217028e-05      8.131403e-05\n",
       "OTU.3540      0.000000e+00      0.000000e+00      0.000000e+00\n",
       "         sample7-1.28_Nneg sample7-3.25_Nneg sample7-2.05_Npos\n",
       "OTU.5899      0.000000e+00      0.000000e+00      0.0001230769\n",
       "OTU.8680      0.000000e+00      3.129401e-04      0.0003692308\n",
       "OTU.2666      8.616975e-05      0.000000e+00      0.0001230769\n",
       "OTU.323       3.446790e-04      1.564700e-04      0.0008615385\n",
       "OTU.7636      8.616975e-05      7.823502e-05      0.0001230769\n",
       "OTU.3540      0.000000e+00      0.000000e+00      0.0000000000\n",
       "         sample2-1.24_Nneg sample8-1.10_Nneg sample8-4.01_Npos\n",
       "OTU.5899      0.0000000000      0.0000000000      0.0000000000\n",
       "OTU.8680      0.0002439223      0.0000000000      0.0000000000\n",
       "OTU.2666      0.0000000000      0.0001422981      0.0001193033\n",
       "OTU.323       0.0003252297      0.0002134472      0.0003579098\n",
       "OTU.7636      0.0000000000      0.0000000000      0.0001193033\n",
       "OTU.3540      0.0000000000      0.0000000000      0.0000000000\n",
       "         sample3-4.27_Npos sample7-4.14_Npos sample8-4.01_Nneg\n",
       "OTU.5899      0.000000e+00      0.0000000000      0.0000000000\n",
       "OTU.8680      5.781684e-05      0.0004265757      0.0001235636\n",
       "OTU.2666      0.000000e+00      0.0002132878      0.0001235636\n",
       "OTU.323       4.625347e-04      0.0001066439      0.0000000000\n",
       "OTU.7636      5.781684e-05      0.0000000000      0.0000000000\n",
       "OTU.3540      0.000000e+00      0.0000000000      0.0000000000\n",
       "         sample8-2.17_Nneg sample6-3.09_Npos sample8-2.22_Nneg\n",
       "OTU.5899      0.000000e+00      0.0000000000      0.000000e+00\n",
       "OTU.8680      1.163264e-04      0.0002754062      1.907305e-04\n",
       "OTU.2666      0.000000e+00      0.0000000000      0.000000e+00\n",
       "OTU.323       2.908160e-04      0.0000000000      9.536525e-05\n",
       "OTU.7636      5.816321e-05      0.0000000000      0.000000e+00\n",
       "OTU.3540      0.000000e+00      0.0000000000      0.000000e+00\n",
       "         sample8-3.29_Nneg sample1-1.06_Npos sample8-4.07_Npos\n",
       "OTU.5899      0.000000e+00      0.0000000000      0.000000e+00\n",
       "OTU.8680      1.828488e-04      0.0000000000      9.987516e-05\n",
       "OTU.2666      0.000000e+00      0.0000000000      0.000000e+00\n",
       "OTU.323       9.142439e-05      0.0003877221      5.493134e-04\n",
       "OTU.7636      0.000000e+00      0.0001292407      9.987516e-05\n",
       "OTU.3540      0.000000e+00      0.0000000000      0.000000e+00\n",
       "         sample8-4.27_Nneg sample8-1.23_Npos sample7-3.07_Npos\n",
       "OTU.5899      0.0000000000      0.0000000000      0.0000000000\n",
       "OTU.8680      0.0001404494      0.0000000000      0.0002945508\n",
       "OTU.2666      0.0000000000      0.0000000000      0.0001472754\n",
       "OTU.323       0.0007022472      0.0004385484      0.0010309278\n",
       "OTU.7636      0.0000000000      0.0001096371      0.0001472754\n",
       "OTU.3540      0.0000000000      0.0000000000      0.0000000000\n",
       "         sample8-3.28_Nneg sample2-2.10_Npos sample6-4.13_Nneg\n",
       "OTU.5899      0.0000000000      0.000000e+00      0.0000000000\n",
       "OTU.8680      0.0001179941      0.000000e+00      0.0002426890\n",
       "OTU.2666      0.0000000000      6.892274e-05      0.0000000000\n",
       "OTU.323       0.0001179941      2.756910e-04      0.0003640335\n",
       "OTU.7636      0.0001179941      0.000000e+00      0.0000000000\n",
       "OTU.3540      0.0000000000      0.000000e+00      0.0000000000\n",
       "         sample3-2.19_Nneg sample2-4.16_Nneg sample7-3.12_Npos\n",
       "OTU.5899      0.0000000000       0.000124324      0.0000000000\n",
       "OTU.8680      0.0002321622       0.000248648      0.0002056978\n",
       "OTU.2666      0.0000000000       0.000000000      0.0000000000\n",
       "OTU.323       0.0006190992       0.000372972      0.0007199424\n",
       "OTU.7636      0.0000773874       0.000000000      0.0000000000\n",
       "OTU.3540      0.0000000000       0.000000000      0.0000000000\n",
       "         sample8-3.23_Npos sample8-2.05_Npos sample8-3.29_Npos\n",
       "OTU.5899      0.0001237777      0.0001167815      0.0000000000\n",
       "OTU.8680      0.0002475554      0.0002335630      0.0001446759\n",
       "OTU.2666      0.0000000000      0.0000000000      0.0000000000\n",
       "OTU.323       0.0002475554      0.0010510335      0.0004340278\n",
       "OTU.7636      0.0000000000      0.0000000000      0.0000000000\n",
       "OTU.3540      0.0000000000      0.0000000000      0.0000000000\n",
       "         sample8-1.23_Nneg sample6-2.14_Nneg sample8-4.04_Nneg\n",
       "OTU.5899      0.0000000000      0.000000e+00      0.000000e+00\n",
       "OTU.8680      0.0001734004      9.390553e-05      9.944312e-05\n",
       "OTU.2666      0.0000000000      4.695277e-05      0.000000e+00\n",
       "OTU.323       0.0009537021      1.408583e-04      1.988862e-04\n",
       "OTU.7636      0.0001734004      4.695277e-05      0.000000e+00\n",
       "OTU.3540      0.0000000000      0.000000e+00      0.000000e+00\n",
       "         sample8-3.07_Npos sample3-3.30_Nneg sample7-4.14_Nneg\n",
       "OTU.5899      0.0000000000      0.0000000000      0.0000000000\n",
       "OTU.8680      0.0004205804      0.0000000000      0.0000000000\n",
       "OTU.2666      0.0001401935      0.0001504438      0.0000000000\n",
       "OTU.323       0.0015421281      0.0003008876      0.0005925341\n",
       "OTU.7636      0.0000000000      0.0000000000      0.0000000000\n",
       "OTU.3540      0.0000000000      0.0000000000      0.0000000000\n",
       "         sample1-1.06_Nneg sample8-2.07_Npos sample3-4.18_Npos\n",
       "OTU.5899      9.951239e-05      0.0000000000      0.0001514234\n",
       "OTU.8680      1.990248e-04      0.0000000000      0.0001514234\n",
       "OTU.2666      4.975619e-05      0.0000000000      0.0000000000\n",
       "OTU.323       1.194149e-03      0.0000000000      0.0003028468\n",
       "OTU.7636      1.492686e-04      0.0001485222      0.0000000000\n",
       "OTU.3540      4.975619e-05      0.0000000000      0.0000000000\n",
       "         sample7-4.27_Nneg sample8-4.04_Npos sample8-2.25_Npos\n",
       "OTU.5899      0.0001601025      0.0000000000      0.0000000000\n",
       "OTU.8680      0.0000000000      0.0000000000      0.0001209044\n",
       "OTU.2666      0.0000000000      0.0000000000      0.0001209044\n",
       "OTU.323       0.0001601025      0.0001306336      0.0002418087\n",
       "OTU.7636      0.0001601025      0.0000000000      0.0000000000\n",
       "OTU.3540      0.0000000000      0.0000000000      0.0000000000\n",
       "         sample8-3.03_Nneg sample7-1.06_Npos sample7-4.27_Npos\n",
       "OTU.5899      0.0000000000      0.0000000000      0.0000000000\n",
       "OTU.8680      0.0000000000      0.0001845359      0.0006596306\n",
       "OTU.2666      0.0000000000      0.0000000000      0.0001319261\n",
       "OTU.323       0.0005088195      0.0005536077      0.0003957784\n",
       "OTU.7636      0.0000000000      0.0002768038      0.0000000000\n",
       "OTU.3540      0.0000000000      0.0000000000      0.0000000000\n"
      ]
     },
     "metadata": {},
     "output_type": "display_data"
    }
   ],
   "source": [
    "%%R\n",
    "otu_table(physeq.thresh) %>% head"
   ]
  },
  {
   "cell_type": "code",
   "execution_count": null,
   "metadata": {
    "collapsed": true
   },
   "outputs": [],
   "source": [
    "## "
   ]
  },
  {
   "cell_type": "code",
   "execution_count": null,
   "metadata": {
    "collapsed": true
   },
   "outputs": [],
   "source": [
    "%%R\n",
    "registerDoParallel(cores=28)\n",
    "full.wunif.dist = phyloseq::distance(physeq.thresh, \n",
    "                      method = \"unifrac\", \n",
    "                      weighted = TRUE,\n",
    "                      fast = TRUE, \n",
    "                      parallel = TRUE, \n",
    "                      normalized = FALSE)"
   ]
  }
 ],
 "metadata": {
  "kernelspec": {
   "display_name": "Python 2",
   "language": "python",
   "name": "python2"
  },
  "language_info": {
   "codemirror_mode": {
    "name": "ipython",
    "version": 2
   },
   "file_extension": ".py",
   "mimetype": "text/x-python",
   "name": "python",
   "nbconvert_exporter": "python",
   "pygments_lexer": "ipython2",
   "version": "2.7.10"
  }
 },
 "nbformat": 4,
 "nbformat_minor": 0
}
