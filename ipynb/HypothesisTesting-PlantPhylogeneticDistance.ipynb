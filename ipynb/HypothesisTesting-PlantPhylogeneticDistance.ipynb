{
 "cells": [
  {
   "cell_type": "markdown",
   "metadata": {},
   "source": [
    "#Description\n",
    "\n",
    " Code for RhizCG microbial community analysis to be presented at ESA, August 12th, 2015\n"
   ]
  },
  {
   "cell_type": "markdown",
   "metadata": {},
   "source": [
    "# Setting variables"
   ]
  },
  {
   "cell_type": "code",
   "execution_count": 1,
   "metadata": {
    "collapsed": true
   },
   "outputs": [],
   "source": [
    "workDir = '/home/bryan/RhizCG/data/MiSeq_amplicon/MergedRuns/PlantPhylo'\n",
    "biomFileDir = '/home/bryan/RhizCG/data/MiSeq_amplicon/MergedRuns/OTU_binning/'\n",
    "\n",
    "biomFile = '/home/bryan/RhizCG/data/MiSeq_amplicon/MergedRuns/OTU_binning/otu_table_wtax.biom'\n",
    "metadataFile = '/home/bryan/RhizCG/data/MiSeq_amplicon/metadata_RhizCG_merged.txt'\n",
    "treeFile = '/home/bryan/RhizCG/data/MiSeq_amplicon/MergedRuns/fasttree/otusn.tree'"
   ]
  },
  {
   "cell_type": "markdown",
   "metadata": {},
   "source": [
    "# Init"
   ]
  },
  {
   "cell_type": "code",
   "execution_count": 3,
   "metadata": {
    "collapsed": true
   },
   "outputs": [],
   "source": [
    "import os\n",
    "from pandas import DataFrame\n",
    "from IPython.display import FileLink"
   ]
  },
  {
   "cell_type": "code",
   "execution_count": 4,
   "metadata": {
    "collapsed": true
   },
   "outputs": [],
   "source": [
    "%matplotlib inline\n",
    "%load_ext rpy2.ipython"
   ]
  },
  {
   "cell_type": "code",
   "execution_count": 5,
   "metadata": {
    "collapsed": false
   },
   "outputs": [
    {
     "name": "stderr",
     "output_type": "stream",
     "text": [
      "/opt/anaconda/lib/python2.7/site-packages/rpy2/robjects/functions.py:106: UserWarning: foreach: simple, scalable parallel programming from Revolution Analytics\n",
      "Use Revolution R for scalability, fault tolerance and more.\n",
      "http://www.revolutionanalytics.com\n",
      "\n",
      "  res = super(Function, self).__call__(*new_args, **new_kwargs)\n",
      "/opt/anaconda/lib/python2.7/site-packages/rpy2/robjects/functions.py:106: UserWarning: Loading required package: iterators\n",
      "\n",
      "  res = super(Function, self).__call__(*new_args, **new_kwargs)\n",
      "/opt/anaconda/lib/python2.7/site-packages/rpy2/robjects/functions.py:106: UserWarning: Loading required package: parallel\n",
      "\n",
      "  res = super(Function, self).__call__(*new_args, **new_kwargs)\n",
      "/opt/anaconda/lib/python2.7/site-packages/rpy2/robjects/functions.py:106: UserWarning: Loading required package: grid\n",
      "\n",
      "  res = super(Function, self).__call__(*new_args, **new_kwargs)\n",
      "/opt/anaconda/lib/python2.7/site-packages/rpy2/robjects/functions.py:106: UserWarning: \n",
      "Attaching package: ‘dplyr’\n",
      "\n",
      "\n",
      "  res = super(Function, self).__call__(*new_args, **new_kwargs)\n",
      "/opt/anaconda/lib/python2.7/site-packages/rpy2/robjects/functions.py:106: UserWarning: The following objects are masked from ‘package:stats’:\n",
      "\n",
      "    filter, lag\n",
      "\n",
      "\n",
      "  res = super(Function, self).__call__(*new_args, **new_kwargs)\n",
      "/opt/anaconda/lib/python2.7/site-packages/rpy2/robjects/functions.py:106: UserWarning: The following objects are masked from ‘package:base’:\n",
      "\n",
      "    intersect, setdiff, setequal, union\n",
      "\n",
      "\n",
      "  res = super(Function, self).__call__(*new_args, **new_kwargs)\n",
      "/opt/anaconda/lib/python2.7/site-packages/rpy2/robjects/functions.py:106: UserWarning: Loading required package: permute\n",
      "\n",
      "  res = super(Function, self).__call__(*new_args, **new_kwargs)\n",
      "/opt/anaconda/lib/python2.7/site-packages/rpy2/robjects/functions.py:106: UserWarning: Loading required package: lattice\n",
      "\n",
      "  res = super(Function, self).__call__(*new_args, **new_kwargs)\n",
      "/opt/anaconda/lib/python2.7/site-packages/rpy2/robjects/functions.py:106: UserWarning: This is vegan 2.3-0\n",
      "\n",
      "  res = super(Function, self).__call__(*new_args, **new_kwargs)\n",
      "/opt/anaconda/lib/python2.7/site-packages/rpy2/robjects/functions.py:106: UserWarning: Loading required package: S4Vectors\n",
      "\n",
      "  res = super(Function, self).__call__(*new_args, **new_kwargs)\n",
      "/opt/anaconda/lib/python2.7/site-packages/rpy2/robjects/functions.py:106: UserWarning: Loading required package: stats4\n",
      "\n",
      "  res = super(Function, self).__call__(*new_args, **new_kwargs)\n",
      "/opt/anaconda/lib/python2.7/site-packages/rpy2/robjects/functions.py:106: UserWarning: Loading required package: BiocGenerics\n",
      "\n",
      "  res = super(Function, self).__call__(*new_args, **new_kwargs)\n",
      "/opt/anaconda/lib/python2.7/site-packages/rpy2/robjects/functions.py:106: UserWarning: \n",
      "Attaching package: ‘BiocGenerics’\n",
      "\n",
      "\n",
      "  res = super(Function, self).__call__(*new_args, **new_kwargs)\n",
      "/opt/anaconda/lib/python2.7/site-packages/rpy2/robjects/functions.py:106: UserWarning: The following objects are masked from ‘package:dplyr’:\n",
      "\n",
      "    combine, intersect, setdiff, union\n",
      "\n",
      "\n",
      "  res = super(Function, self).__call__(*new_args, **new_kwargs)\n",
      "/opt/anaconda/lib/python2.7/site-packages/rpy2/robjects/functions.py:106: UserWarning: The following objects are masked from ‘package:parallel’:\n",
      "\n",
      "    clusterApply, clusterApplyLB, clusterCall, clusterEvalQ,\n",
      "    clusterExport, clusterMap, parApply, parCapply, parLapply,\n",
      "    parLapplyLB, parRapply, parSapply, parSapplyLB\n",
      "\n",
      "\n",
      "  res = super(Function, self).__call__(*new_args, **new_kwargs)\n",
      "/opt/anaconda/lib/python2.7/site-packages/rpy2/robjects/functions.py:106: UserWarning: The following object is masked from ‘package:stats’:\n",
      "\n",
      "    xtabs\n",
      "\n",
      "\n",
      "  res = super(Function, self).__call__(*new_args, **new_kwargs)\n",
      "/opt/anaconda/lib/python2.7/site-packages/rpy2/robjects/functions.py:106: UserWarning: The following objects are masked from ‘package:base’:\n",
      "\n",
      "    anyDuplicated, append, as.data.frame, as.vector, cbind, colnames,\n",
      "    do.call, duplicated, eval, evalq, Filter, Find, get, intersect,\n",
      "    is.unsorted, lapply, Map, mapply, match, mget, order, paste, pmax,\n",
      "    pmax.int, pmin, pmin.int, Position, rank, rbind, Reduce, rep.int,\n",
      "    rownames, sapply, setdiff, sort, table, tapply, union, unique,\n",
      "    unlist, unsplit\n",
      "\n",
      "\n",
      "  res = super(Function, self).__call__(*new_args, **new_kwargs)\n",
      "/opt/anaconda/lib/python2.7/site-packages/rpy2/robjects/functions.py:106: UserWarning: \n",
      "Attaching package: ‘S4Vectors’\n",
      "\n",
      "\n",
      "  res = super(Function, self).__call__(*new_args, **new_kwargs)\n",
      "/opt/anaconda/lib/python2.7/site-packages/rpy2/robjects/functions.py:106: UserWarning: The following object is masked from ‘package:dplyr’:\n",
      "\n",
      "    rename\n",
      "\n",
      "\n",
      "  res = super(Function, self).__call__(*new_args, **new_kwargs)\n",
      "/opt/anaconda/lib/python2.7/site-packages/rpy2/robjects/functions.py:106: UserWarning: Loading required package: IRanges\n",
      "\n",
      "  res = super(Function, self).__call__(*new_args, **new_kwargs)\n",
      "/opt/anaconda/lib/python2.7/site-packages/rpy2/robjects/functions.py:106: UserWarning: \n",
      "Attaching package: ‘IRanges’\n",
      "\n",
      "\n",
      "  res = super(Function, self).__call__(*new_args, **new_kwargs)\n",
      "/opt/anaconda/lib/python2.7/site-packages/rpy2/robjects/functions.py:106: UserWarning: The following object is masked from ‘package:tidyr’:\n",
      "\n",
      "    expand\n",
      "\n",
      "\n",
      "  res = super(Function, self).__call__(*new_args, **new_kwargs)\n",
      "/opt/anaconda/lib/python2.7/site-packages/rpy2/robjects/functions.py:106: UserWarning: The following objects are masked from ‘package:dplyr’:\n",
      "\n",
      "    collapse, desc, slice\n",
      "\n",
      "\n",
      "  res = super(Function, self).__call__(*new_args, **new_kwargs)\n",
      "/opt/anaconda/lib/python2.7/site-packages/rpy2/robjects/functions.py:106: UserWarning: The following object is masked from ‘package:phyloseq’:\n",
      "\n",
      "    distance\n",
      "\n",
      "\n",
      "  res = super(Function, self).__call__(*new_args, **new_kwargs)\n",
      "/opt/anaconda/lib/python2.7/site-packages/rpy2/robjects/functions.py:106: UserWarning: Loading required package: GenomicRanges\n",
      "\n",
      "  res = super(Function, self).__call__(*new_args, **new_kwargs)\n",
      "/opt/anaconda/lib/python2.7/site-packages/rpy2/robjects/functions.py:106: UserWarning: Loading required package: GenomeInfoDb\n",
      "\n",
      "  res = super(Function, self).__call__(*new_args, **new_kwargs)\n",
      "/opt/anaconda/lib/python2.7/site-packages/rpy2/robjects/functions.py:106: UserWarning: Loading required package: Rcpp\n",
      "\n",
      "  res = super(Function, self).__call__(*new_args, **new_kwargs)\n",
      "/opt/anaconda/lib/python2.7/site-packages/rpy2/robjects/functions.py:106: UserWarning: Loading required package: RcppArmadillo\n",
      "\n",
      "  res = super(Function, self).__call__(*new_args, **new_kwargs)\n"
     ]
    }
   ],
   "source": [
    "%%R\n",
    "\n",
    "library(phyloseq)\n",
    "library(ggplot2)\n",
    "library(foreach)\n",
    "library(doParallel)\n",
    "library(gridExtra)\n",
    "library(dplyr)\n",
    "library(tidyr)\n",
    "library(vegan)\n",
    "library(DESeq2)"
   ]
  },
  {
   "cell_type": "code",
   "execution_count": 6,
   "metadata": {
    "collapsed": true
   },
   "outputs": [],
   "source": [
    "if not os.path.isdir(workDir):\n",
    "    os.mkdir(workDir)"
   ]
  },
  {
   "cell_type": "markdown",
   "metadata": {},
   "source": [
    "# Loading/editting OTU table"
   ]
  },
  {
   "cell_type": "code",
   "execution_count": 7,
   "metadata": {
    "collapsed": true
   },
   "outputs": [],
   "source": [
    "%%R -i biomFile -i metadataFile -i workDir -i treeFile\n",
    "# loading\n",
    "setwd(workDir)\n",
    "\n",
    "## biom file\n",
    "physeq = import_biom(biomFile, treeFile)\n",
    "\n",
    "## loading sample metadata\n",
    "sample.data = import_qiime_sample_data(metadataFile)\n",
    "physeq = merge_phyloseq(physeq,sample.data)\n",
    "\n",
    "#apply gsub across columns to replace ___ w/ \"\", reload to phyloseq object\n",
    "t = tax_table(physeq)\n",
    "t = apply(t, 2, function(y) gsub(\"__\", \"\", y))\n",
    "tax_table(physeq) = t"
   ]
  },
  {
   "cell_type": "code",
   "execution_count": 8,
   "metadata": {
    "collapsed": false,
    "scrolled": true
   },
   "outputs": [
    {
     "data": {
      "text/plain": [
       "Sample Data:        [6 samples by 51 sample variables]:\n",
       "                           X.sample Library Primer_Plate Primer_Well_ID\n",
       "sample2-1.06_Npos sample2-1.06_Npos       1            1             H9\n",
       "sample6-4.27_Npos sample6-4.27_Npos       1            2            F11\n",
       "sample4-4.27_Nneg sample4-4.27_Nneg       1            1            B12\n",
       "sample4-1.06_Nneg sample4-1.06_Nneg       1            1            E11\n",
       "sample2-1.06_Nneg sample2-1.06_Nneg       1            1             G9\n",
       "sample6-3.07_Nneg sample6-3.07_Nneg       1            2            C11\n",
       "                  primerFR_ID_byPlate primerFR_ID_total barcode_ID    PlotID\n",
       "sample2-1.06_Npos                  72                72         72 1.06_Npos\n",
       "sample6-4.27_Npos                  86               182        182 4.27_Npos\n",
       "sample4-4.27_Nneg                  90                90         90 4.27_Nneg\n",
       "sample4-1.06_Nneg                  85                85         85 1.06_Nneg\n",
       "sample2-1.06_Nneg                  71                71         71 1.06_Nneg\n",
       "sample6-3.07_Nneg                  83               179        179 3.07_Nneg\n",
       "                  Plant Plot Treatment Rep DAP Sampling  PlantSample Type\n",
       "sample2-1.06_Npos  BARE 1.06      Npos   1  53  sample2 BARE_sample2 BARE\n",
       "sample6-4.27_Npos  BARE 4.27      Npos   4  79  sample6 BARE_sample6 BARE\n",
       "sample4-4.27_Nneg  BARE 4.27      Nneg   4  61  sample4 BARE_sample4 BARE\n",
       "sample4-1.06_Nneg  BARE 1.06      Nneg   1  61  sample4 BARE_sample4 BARE\n",
       "sample2-1.06_Nneg  BARE 1.06      Nneg   1  53  sample2 BARE_sample2 BARE\n",
       "sample6-3.07_Nneg  BARE 3.07      Nneg   3  79  sample6 BARE_sample6 BARE\n",
       "                  Grass_Broad    Status Subfamily fwd_barcode rev_barcode\n",
       "sample2-1.06_Npos   Bare_Soil Bare_Soil      <NA>    GACACCGT    GTCGTAGT\n",
       "sample6-4.27_Npos   Bare_Soil Bare_Soil      <NA>    TCGACGAG    TCATAGAC\n",
       "sample4-4.27_Nneg   Bare_Soil Bare_Soil      <NA>    ACTATCTG    TCGCTATA\n",
       "sample4-1.06_Nneg   Bare_Soil Bare_Soil      <NA>    TCATCGAG    TCATAGAC\n",
       "sample2-1.06_Nneg   Bare_Soil Bare_Soil      <NA>    GGATATCT    GTCGTAGT\n",
       "sample6-3.07_Nneg   Bare_Soil Bare_Soil      <NA>    AGAGTCAC    TCATAGAC\n",
       "                  Biomass_P SLA LeafC_N Plant_CN tN_p BX_rel CB_rel LAP_rel\n",
       "sample2-1.06_Npos        NA  NA      NA       NA   NA   0.98   1.02    0.91\n",
       "sample6-4.27_Npos        NA  NA      NA       NA   NA   0.79   0.69    1.06\n",
       "sample4-4.27_Nneg        NA  NA      NA       NA   NA   0.86   0.96    0.91\n",
       "sample4-1.06_Nneg        NA  NA      NA       NA   NA   1.06   0.97    1.02\n",
       "sample2-1.06_Nneg        NA  NA      NA       NA   NA   0.86   0.93    1.04\n",
       "sample6-3.07_Nneg        NA  NA      NA       NA   NA   0.96   0.97    0.98\n",
       "                  NAG_rel BX_activity_g CB_activity_g LAP_activity_g\n",
       "sample2-1.06_Npos    1.12         14.18         14.68            138\n",
       "sample6-4.27_Npos    0.72         12.35          8.63            259\n",
       "sample4-4.27_Nneg    0.92         10.53         12.43            170\n",
       "sample4-1.06_Nneg    0.86         13.05         12.50            191\n",
       "sample2-1.06_Nneg    0.75         12.98         14.33            158\n",
       "sample6-3.07_Nneg    1.28         14.76         11.00            241\n",
       "                  NAG_activity_g BX_bare_factor CB_bare_factor LAP_bare_factor\n",
       "sample2-1.06_Npos           8.55       14.54299       14.42156        151.9873\n",
       "sample6-4.27_Npos           7.03       15.69452       12.57653        244.6405\n",
       "sample4-4.27_Nneg          10.03       12.26867       12.92984        186.6065\n",
       "sample4-1.06_Nneg           9.42       12.26867       12.92984        186.6065\n",
       "sample2-1.06_Nneg           5.53       15.03590       15.45823        151.5743\n",
       "sample6-3.07_Nneg           9.58       15.30191       11.30067        246.8577\n",
       "                  NAG_bare_factor BX_dif CB_dif LAP_dif NAG_dif  Moisture\n",
       "sample2-1.06_Npos        7.618017 -0.361  0.261 -14.258   0.932 0.1943961\n",
       "sample6-4.27_Npos        9.754304 -3.344 -3.944  14.349  -2.729 0.1790557\n",
       "sample4-4.27_Nneg       10.956578 -1.740 -0.499 -17.061  -0.928 0.1885677\n",
       "sample4-1.06_Nneg       10.956578  0.784 -0.429   4.622  -1.533 0.1861419\n",
       "sample2-1.06_Nneg        7.417946 -2.053 -1.133   5.947  -1.891 0.2025416\n",
       "sample6-3.07_Nneg        7.476252 -0.545 -0.299  -5.937   2.105 0.1891048\n",
       "                  PO_Activity PER_Activity PO.barefactor PER.barefactor\n",
       "sample2-1.06_Npos    162.0817    442.56098      422.0249      179.26549\n",
       "sample6-4.27_Npos    427.2994     62.01252      415.3592      137.22756\n",
       "sample4-4.27_Nneg    224.0350    401.74770      510.1736      282.92069\n",
       "sample4-1.06_Nneg    342.4438    285.75788      510.1736      282.92069\n",
       "sample2-1.06_Nneg    342.5766    383.18531      414.2730      180.28924\n",
       "sample6-3.07_Nneg    488.5724    -50.71175      491.5062       93.96801\n",
       "                       PO_dif     PER_dif    PO_rel    PER_rel\n",
       "sample2-1.06_Npos -259.943154  263.295489 0.3840572  2.4687461\n",
       "sample6-4.27_Npos   11.940225  -75.215040 1.0287467  0.4518955\n",
       "sample4-4.27_Nneg -286.138577  118.827013 0.4391349  1.4200011\n",
       "sample4-1.06_Nneg -167.729850    2.837193 0.6712299  1.0100282\n",
       "sample2-1.06_Nneg  -71.696427  202.896071 0.8269344  2.1253920\n",
       "sample6-3.07_Nneg   -2.933805 -144.679761 0.9940310 -0.5396704\n"
      ]
     },
     "metadata": {},
     "output_type": "display_data"
    }
   ],
   "source": [
    "%%R\n",
    "plantData = read.table('/home/bryan/RhizCG/data/MiSeq_amplicon/PlotData.txt', header = TRUE)\n",
    "\n",
    "s = sample_data(physeq)\n",
    "PD = plantData[,c(1,18, 20, 23,27, 29, 31:55)]\n",
    "s2 = left_join(s, PD, by = c(\"X.sample\" = \"Unique\"))\n",
    "rownames(s2) = s2$X.sample\n",
    "sample_data(physeq) = s2\n",
    "sample_data(physeq) %>% head"
   ]
  },
  {
   "cell_type": "code",
   "execution_count": 9,
   "metadata": {
    "collapsed": false
   },
   "outputs": [
    {
     "data": {
      "text/plain": [
       "phyloseq-class experiment-level object\n",
       "otu_table()   OTU Table:         [ 11246 taxa and 240 samples ]\n",
       "sample_data() Sample Data:       [ 240 samples by 51 sample variables ]\n",
       "tax_table()   Taxonomy Table:    [ 11246 taxa by 8 taxonomic ranks ]\n",
       "phy_tree()    Phylogenetic Tree: [ 11246 tips and 11245 internal nodes ]\n"
      ]
     },
     "metadata": {},
     "output_type": "display_data"
    }
   ],
   "source": [
    "%%R\n",
    "#subset out positive and negative controls\n",
    "physeq = subset_samples(physeq, !is.na(DAP))\n",
    "#set DAP to factor\n",
    "#sample_data(physeq)$DAP = factor(sample_data(physeq)$DAP)\n",
    "print(physeq)"
   ]
  },
  {
   "cell_type": "code",
   "execution_count": 10,
   "metadata": {
    "collapsed": false
   },
   "outputs": [
    {
     "data": {
      "text/plain": [
       "phyloseq-class experiment-level object\n",
       "otu_table()   OTU Table:         [ 11246 taxa and 240 samples ]\n",
       "sample_data() Sample Data:       [ 240 samples by 51 sample variables ]\n",
       "tax_table()   Taxonomy Table:    [ 11246 taxa by 8 taxonomic ranks ]\n",
       "phy_tree()    Phylogenetic Tree: [ 11246 tips and 11245 internal nodes ]\n",
       "phyloseq-class experiment-level object\n",
       "otu_table()   OTU Table:         [ 6736 taxa and 240 samples ]\n",
       "sample_data() Sample Data:       [ 240 samples by 51 sample variables ]\n",
       "tax_table()   Taxonomy Table:    [ 6736 taxa by 8 taxonomic ranks ]\n",
       "phy_tree()    Phylogenetic Tree: [ 6736 tips and 6735 internal nodes ]\n"
      ]
     },
     "metadata": {},
     "output_type": "display_data"
    }
   ],
   "source": [
    "%%R \n",
    "# filtering/normalizing\n",
    "physeq.snorm = prune_samples(sample_sums(physeq) >= 10, physeq)\n",
    "physeq.snorm = transform_sample_counts(physeq.snorm, function(x) x/sum(x))\n",
    "  \n",
    "physeq.thresh = filter_taxa(physeq.snorm, function(x) sum(x > 0) > (0.1 * length(x)), TRUE)\n",
    "print(physeq.snorm)\n",
    "#physeq.thresh = physeq.snorm\n",
    "\n",
    "print(physeq.thresh)"
   ]
  },
  {
   "cell_type": "markdown",
   "metadata": {},
   "source": [
    "## Calculate pairwise weighted Unifrac distances between samples"
   ]
  },
  {
   "cell_type": "code",
   "execution_count": null,
   "metadata": {
    "collapsed": true
   },
   "outputs": [],
   "source": [
    "%%R\n",
    "registerDoParallel(cores=28)\n",
    "full.wunif.dist = phyloseq::distance(physeq.thresh, \n",
    "                      method = \"unifrac\", \n",
    "                      weighted = TRUE,\n",
    "                      fast = TRUE, \n",
    "                      parallel = TRUE, \n",
    "                      normalized = FALSE)"
   ]
  }
 ],
 "metadata": {
  "kernelspec": {
   "display_name": "Python 2",
   "language": "python",
   "name": "python2"
  },
  "language_info": {
   "codemirror_mode": {
    "name": "ipython",
    "version": 2
   },
   "file_extension": ".py",
   "mimetype": "text/x-python",
   "name": "python",
   "nbconvert_exporter": "python",
   "pygments_lexer": "ipython2",
   "version": "2.7.10"
  }
 },
 "nbformat": 4,
 "nbformat_minor": 0
}
