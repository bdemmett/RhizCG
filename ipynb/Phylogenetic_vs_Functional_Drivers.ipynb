{
 "cells": [
  {
   "cell_type": "markdown",
   "metadata": {},
   "source": [
    "# Phylogenetic Distance Calculation from RhizCG 2013"
   ]
  },
  {
   "cell_type": "markdown",
   "metadata": {
    "slideshow": {
     "slide_type": "skip"
    }
   },
   "source": [
    "Notes: Calculate phylogenetic distance using phylogeny created from rbcL and matK in phylogenerator 20160209_phylogeny.tre.  "
   ]
  },
  {
   "cell_type": "code",
   "execution_count": 1,
   "metadata": {
    "collapsed": false
   },
   "outputs": [],
   "source": [
    "%load_ext rpy2.ipython"
   ]
  },
  {
   "cell_type": "code",
   "execution_count": 167,
   "metadata": {
    "collapsed": false,
    "hide_input": true
   },
   "outputs": [
    {
     "name": "stderr",
     "output_type": "stream",
     "text": [
      "/opt/anaconda/lib/python2.7/site-packages/rpy2/robjects/functions.py:106: UserWarning: Loading required package: estimability\n",
      "\n",
      "  res = super(Function, self).__call__(*new_args, **new_kwargs)\n",
      "/opt/anaconda/lib/python2.7/site-packages/rpy2/robjects/functions.py:106: UserWarning: \n",
      "Attaching package: ‘lsmeans’\n",
      "\n",
      "\n",
      "  res = super(Function, self).__call__(*new_args, **new_kwargs)\n",
      "/opt/anaconda/lib/python2.7/site-packages/rpy2/robjects/functions.py:106: UserWarning: The following object is masked from ‘package:lmerTest’:\n",
      "\n",
      "    lsmeans\n",
      "\n",
      "\n",
      "  res = super(Function, self).__call__(*new_args, **new_kwargs)\n"
     ]
    }
   ],
   "source": [
    "%%R\n",
    "library(lsmeans)\n",
    "library(Hmisc)\n",
    "library(lme4)\n",
    "library(lmerTest)\n",
    "library(ggplot2)\n",
    "library(dplyr)\n",
    "library(tidyr)\n",
    "library(pbkrtest)\n",
    "library(gridExtra)\n",
    "library(reshape2)\n",
    "library(picante)\n",
    "library(ape)\n",
    "library(phyloseq)\n",
    "library(doParallel)\n"
   ]
  },
  {
   "cell_type": "markdown",
   "metadata": {
    "hide_input": true,
    "slideshow": {
     "slide_type": "skip"
    }
   },
   "source": [
    "## Set file locations"
   ]
  },
  {
   "cell_type": "code",
   "execution_count": 3,
   "metadata": {
    "collapsed": true
   },
   "outputs": [],
   "source": [
    "%%R\n",
    "workDir = '/home/bryan/RhizCG/PhyDist/'\n",
    "treeFile = '/home/bryan/RhizCG/PhyDist/20160209_phylogeny.tre'\n",
    "NAMFile = '/home/bryan/RhizCG/PhyDist/NAM_founders_distanceMatrix_v2.txt'"
   ]
  },
  {
   "cell_type": "markdown",
   "metadata": {
    "slideshow": {
     "slide_type": "skip"
    }
   },
   "source": [
    "### Read  phyDist expanded table table "
   ]
  },
  {
   "cell_type": "code",
   "execution_count": 275,
   "metadata": {
    "collapsed": false
   },
   "outputs": [
    {
     "data": {
      "text/plain": [
       "      X   FAGES   AMAPO   HELAN   ABUTH   GLYMA   SORBI     B73   ECHCG   SETFA\n",
       "1 FAGES 0.00000 0.23210 0.25302 0.27096 0.35879 0.43476 0.43787 0.43985 0.43592\n",
       "2 AMAPO 0.23210 0.00000 0.20952 0.22746 0.31529 0.39126 0.39437 0.39635 0.39242\n",
       "3 HELAN 0.25302 0.20952 0.00000 0.19116 0.27899 0.35496 0.35807 0.36005 0.35612\n",
       "4 ABUTH 0.27096 0.22746 0.19116 0.00000 0.24183 0.35370 0.35681 0.35879 0.35486\n",
       "5 GLYMA 0.35879 0.31529 0.27899 0.24183 0.00000 0.44153 0.44464 0.44662 0.44269\n",
       "6 SORBI 0.43476 0.39126 0.35496 0.35370 0.44153 0.00000 0.01153 0.03193 0.02800\n",
       "    ERATE   ELCOR X75.062    Oh7B    MS71     B97     H99   Il14H     Ki3\n",
       "1 0.44622 0.44745 0.43787 0.43787 0.43787 0.43787 0.43787 0.43787 0.43787\n",
       "2 0.40272 0.40395 0.39437 0.39437 0.39437 0.39437 0.39437 0.39437 0.39437\n",
       "3 0.36642 0.36765 0.35807 0.35807 0.35807 0.35807 0.35807 0.35807 0.35807\n",
       "4 0.36516 0.36639 0.35681 0.35681 0.35681 0.35681 0.35681 0.35681 0.35681\n",
       "5 0.45299 0.45422 0.44464 0.44464 0.44464 0.44464 0.44464 0.44464 0.44464\n",
       "6 0.04656 0.04779 0.01153 0.01153 0.01153 0.01153 0.01153 0.01153 0.01153\n",
       "    Tx303   Hp301    Mo18  SORSUD\n",
       "1 0.43787 0.43787 0.43787 0.43476\n",
       "2 0.39437 0.39437 0.39437 0.39126\n",
       "3 0.35807 0.35807 0.35807 0.35496\n",
       "4 0.35681 0.35681 0.35681 0.35370\n",
       "5 0.44464 0.44464 0.44464 0.44153\n",
       "6 0.01153 0.01153 0.01153 0.00020\n"
      ]
     },
     "metadata": {},
     "output_type": "display_data"
    }
   ],
   "source": [
    "%%R\n",
    "phy_expand = read.csv(file = \"phyDist_expanded.csv\", header = TRUE)\n",
    "head(phy_expand)"
   ]
  },
  {
   "cell_type": "code",
   "execution_count": 67,
   "metadata": {
    "collapsed": false
   },
   "outputs": [
    {
     "data": {
      "text/plain": [
       "        FAGES   AMAPO   HELAN   ABUTH   GLYMA   SORBI     B73   ECHCG   SETFA\n",
       "FAGES 0.00000 0.23210 0.25302 0.27096 0.35879 0.43476 0.43787 0.43985 0.43592\n",
       "AMAPO 0.23210 0.00000 0.20952 0.22746 0.31529 0.39126 0.39437 0.39635 0.39242\n",
       "HELAN 0.25302 0.20952 0.00000 0.19116 0.27899 0.35496 0.35807 0.36005 0.35612\n",
       "ABUTH 0.27096 0.22746 0.19116 0.00000 0.24183 0.35370 0.35681 0.35879 0.35486\n",
       "GLYMA 0.35879 0.31529 0.27899 0.24183 0.00000 0.44153 0.44464 0.44662 0.44269\n",
       "SORBI 0.43476 0.39126 0.35496 0.35370 0.44153 0.00000 0.01153 0.03193 0.02800\n",
       "        ERATE   ELCOR  75-062    Oh7B    MS71     B97     H99   Il14H     Ki3\n",
       "FAGES 0.44622 0.44745 0.43787 0.43787 0.43787 0.43787 0.43787 0.43787 0.43787\n",
       "AMAPO 0.40272 0.40395 0.39437 0.39437 0.39437 0.39437 0.39437 0.39437 0.39437\n",
       "HELAN 0.36642 0.36765 0.35807 0.35807 0.35807 0.35807 0.35807 0.35807 0.35807\n",
       "ABUTH 0.36516 0.36639 0.35681 0.35681 0.35681 0.35681 0.35681 0.35681 0.35681\n",
       "GLYMA 0.45299 0.45422 0.44464 0.44464 0.44464 0.44464 0.44464 0.44464 0.44464\n",
       "SORBI 0.04656 0.04779 0.01153 0.01153 0.01153 0.01153 0.01153 0.01153 0.01153\n",
       "        Tx303   Hp301    Mo18  SORSUD\n",
       "FAGES 0.43787 0.43787 0.43787 0.43476\n",
       "AMAPO 0.39437 0.39437 0.39437 0.39126\n",
       "HELAN 0.35807 0.35807 0.35807 0.35496\n",
       "ABUTH 0.35681 0.35681 0.35681 0.35370\n",
       "GLYMA 0.44464 0.44464 0.44464 0.44153\n",
       "SORBI 0.01153 0.01153 0.01153 0.00020\n"
      ]
     },
     "metadata": {},
     "output_type": "display_data"
    }
   ],
   "source": [
    "%%R \n",
    "setwd(workDir)\n",
    "NAMdist = read.table(NAMFile, header = TRUE)\n",
    "colnames(phy_expand)[12] = \"75-062\"\n",
    "head(phy_expand)"
   ]
  },
  {
   "cell_type": "code",
   "execution_count": 68,
   "metadata": {
    "collapsed": false,
    "scrolled": true
   },
   "outputs": [],
   "source": [
    "%%R\n",
    "#reorder so that NAMdist is in same order as log2fold change matrix\n",
    "NAMdist = NAMdist[c(1:6, 8, 7, 9, 10), c(1:6, 8, 7, 9, 10)]"
   ]
  },
  {
   "cell_type": "markdown",
   "metadata": {
    "slideshow": {
     "slide_type": "skip"
    }
   },
   "source": [
    "### Use melt to create a dataframe with species by species comparisons that will later be compared with plot by plot unifrac distances"
   ]
  },
  {
   "cell_type": "code",
   "execution_count": 69,
   "metadata": {
    "collapsed": false
   },
   "outputs": [
    {
     "data": {
      "text/plain": [
       "  PlantA PlantB phy_Dist   PlantComp\n",
       "1  FAGES  FAGES  0.00000 FAGES-FAGES\n",
       "2  AMAPO  FAGES  0.23210 AMAPO-FAGES\n",
       "3  HELAN  FAGES  0.25302 HELAN-FAGES\n",
       "4  ABUTH  FAGES  0.27096 ABUTH-FAGES\n",
       "5  GLYMA  FAGES  0.35879 GLYMA-FAGES\n",
       "6  SORBI  FAGES  0.43476 SORBI-FAGES\n"
      ]
     },
     "metadata": {},
     "output_type": "display_data"
    }
   ],
   "source": [
    "%%R\n",
    "pd.m = melt(as.matrix(phy_expand))\n",
    "\n",
    "#set column names and create comparison column\n",
    "colnames(pd.m) = c(\"PlantA\", \"PlantB\", \"phy_Dist\")\n",
    "pd.m$PlantComp = paste(pd.m$PlantA, pd.m$PlantB, sep = \"-\")\n",
    "pd.m %>% head\n"
   ]
  },
  {
   "cell_type": "markdown",
   "metadata": {
    "slideshow": {
     "slide_type": "skip"
    }
   },
   "source": [
    "# Import phyloseq object and calculate unifrac distances"
   ]
  },
  {
   "cell_type": "code",
   "execution_count": 70,
   "metadata": {
    "collapsed": false
   },
   "outputs": [
    {
     "data": {
      "text/plain": [
       "phyloseq-class experiment-level object\n",
       "otu_table()   OTU Table:         [ 4982 taxa and 238 samples ]\n",
       "sample_data() Sample Data:       [ 238 samples by 55 sample variables ]\n",
       "tax_table()   Taxonomy Table:    [ 4982 taxa by 8 taxonomic ranks ]\n",
       "phy_tree()    Phylogenetic Tree: [ 4982 tips and 4981 internal nodes ]\n"
      ]
     },
     "metadata": {},
     "output_type": "display_data"
    }
   ],
   "source": [
    "%%R\n",
    "F = file.path('/home/bryan/RhizCG/data/MiSeq_amplicon/MergedRuns/physeq/Full-Sparsity3in3_r')\n",
    "physeq.Full = readRDS(F)\n",
    "\n",
    "\n",
    "\n",
    "physeq.Full = filter_taxa(physeq.Full, function(x) sum(x > 0) > 0, TRUE)\n",
    "physeq.Full"
   ]
  },
  {
   "cell_type": "code",
   "execution_count": 71,
   "metadata": {
    "collapsed": false,
    "scrolled": true
   },
   "outputs": [],
   "source": [
    "%%R\n",
    "physeq.Full\n",
    "\n",
    "\n",
    "physeq.Plant = subset_samples(physeq.Full, Plant != \"BARE\")\n",
    "sd = sample_data(physeq.Plant)"
   ]
  },
  {
   "cell_type": "code",
   "execution_count": 72,
   "metadata": {
    "collapsed": false
   },
   "outputs": [
    {
     "data": {
      "text/plain": [
       "  Plot   NResp.B  NResp.N  NResp.CN\n",
       "1 1.22 0.7084024 1.339137 0.7489281\n",
       "2 2.02 1.3468200 1.070017 0.9393918\n",
       "3 4.21 0.9841591 1.251809 0.7858588\n",
       "4 2.29 1.0408108 1.094700 0.9145053\n"
      ]
     },
     "metadata": {},
     "output_type": "display_data"
    }
   ],
   "source": [
    "%%R\n",
    "#Set up N response table\n",
    "#Save NResp for joining with subsets of data later\n",
    "\n",
    "    df = as(sample_data(physeq.Plant), \"data.frame\")\n",
    "    df.Nneg <- filter(df, Treatment == \"Nneg\") %>% .[,c(\"Plot\",  \"Biomass_P\", \"Plant_N\", \"Plant_CN\")]\n",
    "    df.Npos <- filter(df, Treatment == \"Npos\") %>% .[,c(\"Plot\",  \"Biomass_P\", \"Plant_N\", \"Plant_CN\")]\n",
    "    colnames(df.Npos)[2:4] = paste(colnames(df.Npos)[2:4], \"Npos\", sep = \"_\")\n",
    "    \n",
    "    NResp = left_join(df.Nneg, df.Npos, by = \"Plot\")\n",
    "    \n",
    "    #Calculate fertilizer responses \n",
    "    NResp$NResp.B <- NResp$Biomass_P_Npos/NResp$Biomass_P\n",
    "     NResp$NResp.N <- NResp$Plant_N_Npos/NResp$Plant_N\n",
    "      NResp$NResp.CN <- NResp$Plant_CN_Npos/NResp$Plant_CN\n",
    "    NResp = NResp[, c(\"Plot\",\"NResp.B\",  \"NResp.N\",  \"NResp.CN\")]\n",
    "NResp %>% head(4)\n"
   ]
  },
  {
   "cell_type": "markdown",
   "metadata": {
    "slideshow": {
     "slide_type": "slide"
    }
   },
   "source": [
    "## Check functional variables for correlations"
   ]
  },
  {
   "cell_type": "code",
   "execution_count": 73,
   "metadata": {
    "collapsed": false
   },
   "outputs": [
    {
     "data": {
      "text/plain": [
       " [1] \"X.sample\"            \"Library\"             \"Primer_Plate\"       \n",
       " [4] \"Primer_Well_ID\"      \"primerFR_ID_byPlate\" \"primerFR_ID_total\"  \n",
       " [7] \"barcode_ID\"          \"PlotID\"              \"Plant\"              \n",
       "[10] \"Plot\"                \"Treatment\"           \"Rep\"                \n",
       "[13] \"DAP\"                 \"Sampling\"            \"PlantSample\"        \n",
       "[16] \"Type\"                \"Grass_Broad\"         \"Status\"             \n",
       "[19] \"Subfamily\"           \"fwd_barcode\"         \"rev_barcode\"        \n",
       "[22] \"Planted\"             \"Biomass_P\"           \"SLA\"                \n",
       "[25] \"Leaf_N\"              \"Leaf_C\"              \"LeafC_N\"            \n",
       "[28] \"LNa\"                 \"Plant_N\"             \"Plant_C\"            \n",
       "[31] \"Plant_CN\"            \"d15N\"                \"tN_p\"               \n",
       "[34] \"BX_activity_g\"       \"CB_activity_g\"       \"LAP_activity_g\"     \n",
       "[37] \"NAG_activity_g\"      \"BX_rel\"              \"CB_rel\"             \n",
       "[40] \"LAP_rel\"             \"NAG_rel\"             \"NO3_ug_g\"           \n",
       "[43] \"NH4_ug_g\"            \"InorganicN\"          \"Resid_logB\"         \n",
       "[46] \"Resid_logN\"          \"Resid_logCN\"         \"Resid_logSLA\"       \n",
       "[49] \"Resid_LeafN\"         \"A_Resid_logB\"        \"A_Resid_logN\"       \n",
       "[52] \"A_Resid_logCN\"       \"M_Resid_logB\"        \"M_Resid_logN\"       \n",
       "[55] \"M_Resid_logCN\"      \n"
      ]
     },
     "metadata": {},
     "output_type": "display_data"
    }
   ],
   "source": [
    "%%R\n",
    "colnames(sd)"
   ]
  },
  {
   "cell_type": "code",
   "execution_count": 74,
   "metadata": {
    "collapsed": false,
    "scrolled": true
   },
   "outputs": [
    {
     "data": {
      "text/plain": [
       "           Biomass_P        tN_p    Plant_N    Plant_CN          SLA\n",
       "Biomass_P  1.0000000  0.90794176 -0.4765275  0.43644148 -0.194577202\n",
       "tN_p       0.9079418  1.00000000 -0.2204497  0.09501887 -0.193029881\n",
       "Plant_N   -0.4765275 -0.22044975  1.0000000 -0.90473115  0.463427365\n",
       "Plant_CN   0.4364415  0.09501887 -0.9047312  1.00000000 -0.322017461\n",
       "SLA       -0.1945772 -0.19302988  0.4634274 -0.32201746  1.000000000\n",
       "LNa       -0.2010049  0.02950892  0.7006501 -0.74420720  0.008214435\n",
       "Leaf_N    -0.3404970 -0.14570533  0.8595335 -0.81367385  0.545735478\n",
       "                   LNa     Leaf_N\n",
       "Biomass_P -0.201004878 -0.3404970\n",
       "tN_p       0.029508919 -0.1457053\n",
       "Plant_N    0.700650096  0.8595335\n",
       "Plant_CN  -0.744207203 -0.8136739\n",
       "SLA        0.008214435  0.5457355\n",
       "LNa        1.000000000  0.8321807\n",
       "Leaf_N     0.832180679  1.0000000\n"
      ]
     },
     "metadata": {},
     "output_type": "display_data"
    }
   ],
   "source": [
    "%%R\n",
    "dM = sd[,c(\"Biomass_P\", \"tN_p\", \"Plant_N\", \"Plant_CN\", \"SLA\", \"LNa\", \"Leaf_N\")] %>% \n",
    "as.matrix()\n",
    "Mcor = rcorr(dM, type = \"pearson\")\n",
    "Mcor$r"
   ]
  },
  {
   "cell_type": "markdown",
   "metadata": {
    "slideshow": {
     "slide_type": "subslide"
    }
   },
   "source": [
    "* Plant N and Plant C:N are highly correlated R = .97\n",
    "* Total N uptake and biomass are highly correlated, but with some independent information R = .88\n",
    "* leaf %N and plant CN are also highly correlated R = -.91\n",
    "* Conclusions: use residuals of biomass, N uptake and plant CN; SLA has extra useful information if there are a subset of plants for which it was measured and worth including.  "
   ]
  },
  {
   "cell_type": "markdown",
   "metadata": {},
   "source": [
    "# Calculate N response variables"
   ]
  },
  {
   "cell_type": "markdown",
   "metadata": {},
   "source": [
    "## Calculate w-Unifrac distances"
   ]
  },
  {
   "cell_type": "code",
   "execution_count": 75,
   "metadata": {
    "collapsed": false
   },
   "outputs": [],
   "source": [
    "%%R\n",
    "registerDoParallel(cores=28)\n",
    "wunif.dist = distance(physeq.Plant, \n",
    "                      method = \"unifrac\", \n",
    "                      weighted = TRUE,\n",
    "                      fast = TRUE, \n",
    "                      parallel = TRUE, \n",
    "                      normalized = FALSE)"
   ]
  },
  {
   "cell_type": "code",
   "execution_count": 76,
   "metadata": {
    "collapsed": false,
    "hide_input": false
   },
   "outputs": [
    {
     "data": {
      "text/plain": [
       "                  sample5-1.22_Nneg sample6-4.12_Npos sample4-1.03_Npos\n",
       "sample5-1.22_Nneg         0.0000000         0.1829650         0.1722266\n",
       "sample6-4.12_Npos         0.1829650         0.0000000         0.1882305\n",
       "sample4-1.03_Npos         0.1722266         0.1882305         0.0000000\n",
       "sample5-2.06_Npos         0.1902666         0.1828480         0.2140761\n",
       "sample5-4.08_Npos         0.1757315         0.1141642         0.1765255\n",
       "sample5-4.28_Npos         0.1457043         0.1784427         0.1774834\n",
       "                  sample5-2.06_Npos sample5-4.08_Npos sample5-4.28_Npos\n",
       "sample5-1.22_Nneg         0.1902666         0.1757315         0.1457043\n",
       "sample6-4.12_Npos         0.1828480         0.1141642         0.1784427\n",
       "sample4-1.03_Npos         0.2140761         0.1765255         0.1774834\n",
       "sample5-2.06_Npos         0.0000000         0.1562777         0.1521548\n",
       "sample5-4.08_Npos         0.1562777         0.0000000         0.1665098\n",
       "sample5-4.28_Npos         0.1521548         0.1665098         0.0000000\n",
       "                  sample5-1.29_Npos sample4-2.02_Nneg sample4-4.21_Nneg\n",
       "sample5-1.22_Nneg         0.2358625         0.2069072         0.1605861\n",
       "sample6-4.12_Npos         0.2462945         0.2017701         0.1612198\n",
       "sample4-1.03_Npos         0.2343163         0.2065597         0.1754158\n",
       "sample5-2.06_Npos         0.2593978         0.2345889         0.1989110\n",
       "sample5-4.08_Npos         0.2376916         0.1965404         0.1543034\n",
       "sample5-4.28_Npos         0.2704959         0.2376265         0.1536063\n",
       "                  sample6-2.13_Npos sample5-2.29_Nneg sample5-2.06_Nneg\n",
       "sample5-1.22_Nneg         0.2287763         0.1505018         0.1332870\n",
       "sample6-4.12_Npos         0.2217704         0.1875130         0.1841087\n",
       "sample4-1.03_Npos         0.2400339         0.1892345         0.1926697\n",
       "sample5-2.06_Npos         0.1437901         0.1457586         0.1618890\n",
       "sample5-4.08_Npos         0.1848818         0.1592754         0.1580192\n",
       "sample5-4.28_Npos         0.1917282         0.1374615         0.1680910\n",
       "                  sample1-2.23_Nneg sample6-2.26_Nneg sample6-3.18_Nneg\n",
       "sample5-1.22_Nneg         0.1635179         0.2115773         0.2095513\n",
       "sample6-4.12_Npos         0.2078613         0.1880044         0.1765163\n",
       "sample4-1.03_Npos         0.2043623         0.2234609         0.2189128\n",
       "sample5-2.06_Npos         0.1932447         0.2071151         0.1677735\n",
       "sample5-4.08_Npos         0.2126448         0.1773365         0.1641978\n",
       "sample5-4.28_Npos         0.1308567         0.2173505         0.1961856\n",
       "                  sample5-3.13_Nneg sample2-2.08_Nneg sample5-1.17_Nneg\n",
       "sample5-1.22_Nneg         0.1851522         0.2445349         0.1928932\n",
       "sample6-4.12_Npos         0.1992638         0.2069582         0.2274889\n",
       "sample4-1.03_Npos         0.2224541         0.2034790         0.2694681\n",
       "sample5-2.06_Npos         0.1740603         0.2190181         0.2015865\n",
       "sample5-4.08_Npos         0.1749694         0.1848992         0.2423831\n",
       "sample5-4.28_Npos         0.1766670         0.2412471         0.2048948\n",
       "                  sample6-3.01_Npos sample3-2.03_Nneg sample5-4.08_Nneg\n",
       "sample5-1.22_Nneg         0.1770016         0.3570619         0.1990510\n",
       "sample6-4.12_Npos         0.1374524         0.3494030         0.1872616\n",
       "sample4-1.03_Npos         0.1943003         0.3561193         0.2203701\n",
       "sample5-2.06_Npos         0.1229309         0.3802944         0.1587650\n",
       "sample5-4.08_Npos         0.1200461         0.3464435         0.1549092\n",
       "sample5-4.28_Npos         0.1617194         0.3911401         0.1811156\n",
       "                  sample5-4.05_Npos sample6-2.16_Npos sample1-4.24_Nneg\n",
       "sample5-1.22_Nneg         0.3181574         0.2387587         0.1852188\n",
       "sample6-4.12_Npos         0.2669929         0.2173204         0.2435817\n",
       "sample4-1.03_Npos         0.3260173         0.2624838         0.2413593\n",
       "sample5-2.06_Npos         0.2253715         0.2045916         0.2202333\n",
       "sample5-4.08_Npos         0.2488490         0.2028591         0.2476352\n",
       "sample5-4.28_Npos         0.2696638         0.2219433         0.1604209\n",
       "                  sample5-4.28_Nneg sample6-2.13_Nneg sample1-3.08_Npos\n",
       "sample5-1.22_Nneg         0.1616694         0.2656491         0.1679654\n",
       "sample6-4.12_Npos         0.1861353         0.2227597         0.2093033\n",
       "sample4-1.03_Npos         0.1855748         0.2763735         0.1884770\n",
       "sample5-2.06_Npos         0.2034991         0.1699010         0.2132901\n",
       "sample5-4.08_Npos         0.1865103         0.2009408         0.2220606\n",
       "sample5-4.28_Npos         0.1644304         0.2210427         0.1550365\n",
       "                  sample6-3.04_Npos sample4-1.03_Nneg sample5-1.22_Npos\n",
       "sample5-1.22_Nneg         0.2098277         0.1745441         0.1831169\n",
       "sample6-4.12_Npos         0.1394576         0.1910271         0.2016296\n",
       "sample4-1.03_Npos         0.1944135         0.1697745         0.1925264\n",
       "sample5-2.06_Npos         0.1912403         0.2328779         0.2077834\n",
       "sample5-4.08_Npos         0.1370079         0.1767382         0.1853052\n",
       "sample5-4.28_Npos         0.2065023         0.1901385         0.2263304\n",
       "                  sample6-1.15_Nneg sample5-2.11_Nneg sample4-4.21_Npos\n",
       "sample5-1.22_Nneg         0.2354162         0.2122707         0.2022408\n",
       "sample6-4.12_Npos         0.1851819         0.2114054         0.2073652\n",
       "sample4-1.03_Npos         0.2498967         0.2393998         0.1737988\n",
       "sample5-2.06_Npos         0.1996807         0.1631132         0.2533641\n",
       "sample5-4.08_Npos         0.1828986         0.1878615         0.2059142\n",
       "sample5-4.28_Npos         0.2195978         0.1825465         0.2235503\n",
       "                  sample6-4.12_Nneg sample5-1.25_Nneg sample6-4.17_Npos\n",
       "sample5-1.22_Nneg         0.1783536         0.2019927         0.2271928\n",
       "sample6-4.12_Npos         0.1213671         0.2049561         0.1497040\n",
       "sample4-1.03_Npos         0.1902783         0.2323147         0.2303183\n",
       "sample5-2.06_Npos         0.1799718         0.2529091         0.2109227\n",
       "sample5-4.08_Npos         0.1170828         0.2174325         0.1564615\n",
       "sample5-4.28_Npos         0.1630556         0.2443733         0.2175542\n",
       "                  sample6-3.04_Nneg sample5-3.27_Nneg sample6-1.15_Npos\n",
       "sample5-1.22_Nneg         0.2204907         0.1645738         0.2385173\n",
       "sample6-4.12_Npos         0.1907923         0.1539401         0.1757361\n",
       "sample4-1.03_Npos         0.2311458         0.1940328         0.2352594\n",
       "sample5-2.06_Npos         0.1616475         0.1762498         0.2143580\n",
       "sample5-4.08_Npos         0.1683776         0.1301066         0.1566163\n",
       "sample5-4.28_Npos         0.1856310         0.1742890         0.2413936\n",
       "                  sample5-3.11_Nneg sample5-2.11_Npos sample5-3.17_Npos\n",
       "sample5-1.22_Nneg         0.2127525         0.2081740         0.2176096\n",
       "sample6-4.12_Npos         0.2181133         0.2080917         0.2165796\n",
       "sample4-1.03_Npos         0.2270629         0.2399157         0.2072847\n",
       "sample5-2.06_Npos         0.2561957         0.1282375         0.2523956\n",
       "sample5-4.08_Npos         0.2249124         0.1795197         0.2164151\n",
       "sample5-4.28_Npos         0.2246423         0.1859029         0.2245231\n",
       "                  sample5-1.17_Npos sample3-3.06_Nneg sample2-3.05_Nneg\n",
       "sample5-1.22_Nneg         0.1441961         0.3431153         0.2617059\n",
       "sample6-4.12_Npos         0.1951731         0.2494005         0.2221162\n",
       "sample4-1.03_Npos         0.2077826         0.3213020         0.2204853\n",
       "sample5-2.06_Npos         0.1869659         0.3392899         0.2388356\n",
       "sample5-4.08_Npos         0.1680514         0.2693893         0.2057065\n",
       "sample5-4.28_Npos         0.1922421         0.3458115         0.2553047\n",
       "                  sample6-1.07_Npos sample5-3.13_Npos sample5-4.09_Npos\n",
       "sample5-1.22_Nneg         0.2170480         0.1617950         0.1494262\n",
       "sample6-4.12_Npos         0.1469902         0.1892566         0.1453731\n",
       "sample4-1.03_Npos         0.1662047         0.1963374         0.1682348\n",
       "sample5-2.06_Npos         0.2216962         0.1612014         0.1691935\n",
       "sample5-4.08_Npos         0.1604548         0.1650680         0.1392731\n",
       "sample5-4.28_Npos         0.2278609         0.1701702         0.1484869\n",
       "                  sample6-4.30_Npos sample6-1.12_Npos sample6-3.18_Npos\n",
       "sample5-1.22_Nneg         0.2742233         0.2737135         0.2607120\n",
       "sample6-4.12_Npos         0.2435893         0.2158231         0.2388234\n",
       "sample4-1.03_Npos         0.2754752         0.2712686         0.2759556\n",
       "sample5-2.06_Npos         0.3049937         0.2627835         0.2868614\n",
       "sample5-4.08_Npos         0.2577951         0.1983087         0.2424211\n",
       "sample5-4.28_Npos         0.2976983         0.2832922         0.2801545\n",
       "                  sample1-4.24_Npos sample3-3.06_Npos sample5-4.06_Nneg\n",
       "sample5-1.22_Nneg         0.1753887         0.4636544         0.1564632\n",
       "sample6-4.12_Npos         0.2112005         0.4526555         0.2025146\n",
       "sample4-1.03_Npos         0.1955425         0.4541457         0.2136042\n",
       "sample5-2.06_Npos         0.2255206         0.4897588         0.2094729\n",
       "sample5-4.08_Npos         0.2302216         0.4496627         0.2080139\n",
       "sample5-4.28_Npos         0.1551454         0.4943826         0.1385305\n",
       "                  sample6-4.17_Nneg sample5-3.11_Npos sample5-3.16_Npos\n",
       "sample5-1.22_Nneg         0.1904349         0.1931432         0.3509746\n",
       "sample6-4.12_Npos         0.1679367         0.2183175         0.3206060\n",
       "sample4-1.03_Npos         0.2230353         0.2280581         0.3535722\n",
       "sample5-2.06_Npos         0.2108845         0.2229826         0.2925290\n",
       "sample5-4.08_Npos         0.1643810         0.2329295         0.3006764\n",
       "sample5-4.28_Npos         0.1994489         0.1852360         0.3285145\n",
       "                  sample1-1.27_Npos sample5-4.05_Nneg sample5-1.25_Npos\n",
       "sample5-1.22_Nneg         0.1838426         0.2121689         0.2442175\n",
       "sample6-4.12_Npos         0.1943431         0.1913638         0.2515399\n",
       "sample4-1.03_Npos         0.1858554         0.2360082         0.2696404\n",
       "sample5-2.06_Npos         0.1696967         0.1599494         0.3125330\n",
       "sample5-4.08_Npos         0.1866714         0.1724551         0.2651626\n",
       "sample5-4.28_Npos         0.1391145         0.1765968         0.2993981\n",
       "                  sample6-1.07_Nneg sample5-2.18_Nneg sample6-2.26_Npos\n",
       "sample5-1.22_Nneg         0.2560226         0.1976153         0.2564857\n",
       "sample6-4.12_Npos         0.1950150         0.1997898         0.2104042\n",
       "sample4-1.03_Npos         0.2453743         0.2128528         0.2574818\n",
       "sample5-2.06_Npos         0.1950419         0.2267584         0.2047254\n",
       "sample5-4.08_Npos         0.1740328         0.2042051         0.1816622\n",
       "sample5-4.28_Npos         0.2246532         0.2192693         0.2460261\n",
       "                  sample5-3.16_Nneg sample5-4.06_Npos sample3-1.09_Npos\n",
       "sample5-1.22_Nneg         0.2768077         0.2038075         0.2626568\n",
       "sample6-4.12_Npos         0.2403390         0.2532110         0.2003514\n",
       "sample4-1.03_Npos         0.2728870         0.2667990         0.2167450\n",
       "sample5-2.06_Npos         0.1883372         0.2340999         0.2444367\n",
       "sample5-4.08_Npos         0.2015170         0.2704104         0.1765075\n",
       "sample5-4.28_Npos         0.2266004         0.1791324         0.2546471\n",
       "                  sample3-4.15_Nneg sample5-2.15_Npos sample6-4.30_Nneg\n",
       "sample5-1.22_Nneg         0.2690261         0.1379610         0.2467414\n",
       "sample6-4.12_Npos         0.2147232         0.1561147         0.1797298\n",
       "sample4-1.03_Npos         0.2435845         0.1684698         0.2264681\n",
       "sample5-2.06_Npos         0.2427176         0.1809438         0.2135284\n",
       "sample5-4.08_Npos         0.1883503         0.1521878         0.1589488\n",
       "sample5-4.28_Npos         0.2621607         0.1553206         0.2447894\n",
       "                  sample5-3.27_Npos sample6-1.12_Nneg sample4-3.10_Npos\n",
       "sample5-1.22_Nneg         0.1797902         0.2409268         0.1862501\n",
       "sample6-4.12_Npos         0.1784353         0.1949208         0.1782169\n",
       "sample4-1.03_Npos         0.1931810         0.2344042         0.2055250\n",
       "sample5-2.06_Npos         0.1716701         0.2367107         0.2499755\n",
       "sample5-4.08_Npos         0.1866643         0.1752475         0.1906844\n",
       "sample5-4.28_Npos         0.1610472         0.2588370         0.1935201\n",
       "                  sample6-2.16_Nneg sample5-3.17_Nneg sample5-1.16_Npos\n",
       "sample5-1.22_Nneg         0.2709447         0.2314864         0.1999487\n",
       "sample6-4.12_Npos         0.2218952         0.2217946         0.1871707\n",
       "sample4-1.03_Npos         0.2679623         0.2554586         0.2287222\n",
       "sample5-2.06_Npos         0.2317938         0.2667551         0.2132864\n",
       "sample5-4.08_Npos         0.2141218         0.2196634         0.1811197\n",
       "sample5-4.28_Npos         0.2548153         0.2551880         0.2254593\n",
       "                  sample3-2.03_Npos sample1-2.23_Npos sample5-4.09_Nneg\n",
       "sample5-1.22_Nneg         0.2957419         0.1546222         0.1970136\n",
       "sample6-4.12_Npos         0.2247321         0.2006647         0.2165913\n",
       "sample4-1.03_Npos         0.2552553         0.1969326         0.2427182\n",
       "sample5-2.06_Npos         0.2807194         0.1881030         0.2701372\n",
       "sample5-4.08_Npos         0.2285208         0.2089362         0.2190311\n",
       "sample5-4.28_Npos         0.2916041         0.1289902         0.2203932\n",
       "                  sample2-2.08_Npos sample2-3.05_Npos sample2-1.08_Nneg\n",
       "sample5-1.22_Nneg         0.2031381         0.1884296         0.2804212\n",
       "sample6-4.12_Npos         0.2230723         0.1789589         0.3153640\n",
       "sample4-1.03_Npos         0.1733542         0.1679639         0.2928699\n",
       "sample5-2.06_Npos         0.1836430         0.1646426         0.2522095\n",
       "sample5-4.08_Npos         0.1964160         0.1492007         0.2835324\n",
       "sample5-4.28_Npos         0.1993522         0.1853092         0.2825504\n",
       "                  sample3-4.15_Npos sample6-3.01_Nneg sample5-1.16_Nneg\n",
       "sample5-1.22_Nneg         0.3384070         0.2043900         0.2663715\n",
       "sample6-4.12_Npos         0.3139925         0.1625075         0.2774953\n",
       "sample4-1.03_Npos         0.3336390         0.2385260         0.2995526\n",
       "sample5-2.06_Npos         0.3355790         0.1650276         0.2325414\n",
       "sample5-4.08_Npos         0.3022186         0.1674474         0.2551702\n",
       "sample5-4.28_Npos         0.3447037         0.1749322         0.2705776\n",
       "                  sample2-1.08_Npos sample1-1.27_Nneg sample4-3.10_Nneg\n",
       "sample5-1.22_Nneg         0.2843431         0.1894811         0.1752442\n",
       "sample6-4.12_Npos         0.2674796         0.2271108         0.1343390\n",
       "sample4-1.03_Npos         0.2254719         0.2167664         0.1526952\n",
       "sample5-2.06_Npos         0.2821556         0.2368104         0.1814323\n",
       "sample5-4.08_Npos         0.2463655         0.2370563         0.1403908\n",
       "sample5-4.28_Npos         0.2975867         0.1661150         0.1835151\n",
       "                  sample5-1.29_Nneg sample4-2.02_Npos sample5-2.15_Nneg\n",
       "sample5-1.22_Nneg         0.1698527         0.1906408         0.1490998\n",
       "sample6-4.12_Npos         0.1767230         0.1700352         0.1427609\n",
       "sample4-1.03_Npos         0.1733773         0.1932738         0.1610604\n",
       "sample5-2.06_Npos         0.2047495         0.2048819         0.1821756\n",
       "sample5-4.08_Npos         0.1865413         0.1605292         0.1421388\n",
       "sample5-4.28_Npos         0.1848461         0.1950182         0.1745355\n",
       "                  sample1-3.08_Nneg sample3-1.09_Nneg sample2-4.25_Nneg\n",
       "sample5-1.22_Nneg         0.1472133         0.2572849         0.2715915\n",
       "sample6-4.12_Npos         0.2114125         0.2021494         0.2485744\n",
       "sample4-1.03_Npos         0.2017373         0.2187024         0.2490073\n",
       "sample5-2.06_Npos         0.2170847         0.2298763         0.2598757\n",
       "sample5-4.08_Npos         0.2148211         0.1764409         0.2330700\n",
       "sample5-4.28_Npos         0.1419517         0.2565510         0.2747474\n",
       "                  sample5-2.18_Npos sample5-2.29_Npos sample2-4.25_Npos\n",
       "sample5-1.22_Nneg         0.1477233         0.1170825         0.2429248\n",
       "sample6-4.12_Npos         0.1669171         0.1653955         0.2058943\n",
       "sample4-1.03_Npos         0.1562376         0.1675573         0.2065901\n",
       "sample5-2.06_Npos         0.1751366         0.1820934         0.2168010\n",
       "sample5-4.08_Npos         0.1685635         0.1762810         0.1983349\n",
       "sample5-4.28_Npos         0.1407635         0.1660316         0.2197872\n",
       "                  sample7-1.13_Npos sample7-4.02_Npos sample8-2.07_Nneg\n",
       "sample5-1.22_Nneg         0.2980118         0.3098944         0.2869612\n",
       "sample6-4.12_Npos         0.2858811         0.2921848         0.2183698\n",
       "sample4-1.03_Npos         0.3071552         0.3118295         0.2852935\n",
       "sample5-2.06_Npos         0.2508317         0.2276879         0.1769458\n",
       "sample5-4.08_Npos         0.2712503         0.2725387         0.2347074\n",
       "sample5-4.28_Npos         0.2956009         0.2865046         0.2286878\n",
       "                  sample7-4.02_Nneg sample3-1.20_Npos sample7-1.04_Npos\n",
       "sample5-1.22_Nneg         0.3456722         0.1864083         0.2821081\n",
       "sample6-4.12_Npos         0.3178840         0.1961936         0.2306337\n",
       "sample4-1.03_Npos         0.3337197         0.2144549         0.2807207\n",
       "sample5-2.06_Npos         0.2756097         0.1913639         0.2133063\n",
       "sample5-4.08_Npos         0.3085306         0.2012972         0.2330861\n",
       "sample5-4.28_Npos         0.3343408         0.1648836         0.2529823\n",
       "                  sample8-4.23_Nneg sample7-3.19_Nneg sample7-4.03_Npos\n",
       "sample5-1.22_Nneg         0.2603208         0.2900421         0.3344507\n",
       "sample6-4.12_Npos         0.2205250         0.2623384         0.3057112\n",
       "sample4-1.03_Npos         0.2596445         0.3021106         0.3223785\n",
       "sample5-2.06_Npos         0.1767486         0.2095864         0.2796670\n",
       "sample5-4.08_Npos         0.1959695         0.2416566         0.2947053\n",
       "sample5-4.28_Npos         0.2194378         0.2662162         0.3103567\n",
       "                  sample8-1.14_Npos sample7-2.12_Npos sample3-4.18_Nneg\n",
       "sample5-1.22_Nneg         0.1864149         0.3378620         0.3199225\n",
       "sample6-4.12_Npos         0.1540272         0.3312690         0.2648746\n",
       "sample4-1.03_Npos         0.1780820         0.3034189         0.2904060\n",
       "sample5-2.06_Npos         0.1764744         0.2712912         0.3117259\n",
       "sample5-4.08_Npos         0.1483142         0.3049198         0.2640673\n",
       "sample5-4.28_Npos         0.1748904         0.3107540         0.3238845\n",
       "                  sample8-3.28_Npos sample6-1.18_Nneg sample7-2.12_Nneg\n",
       "sample5-1.22_Nneg         0.1644127         0.2748876         0.3197592\n",
       "sample6-4.12_Npos         0.1654544         0.2355541         0.3326991\n",
       "sample4-1.03_Npos         0.1590927         0.2879710         0.3366348\n",
       "sample5-2.06_Npos         0.1824303         0.1955141         0.2619091\n",
       "sample5-4.08_Npos         0.1497031         0.2193920         0.2939832\n",
       "sample5-4.28_Npos         0.1694883         0.2407542         0.3149059\n",
       "                  sample7-2.28_Nneg sample2-2.10_Nneg sample8-2.17_Npos\n",
       "sample5-1.22_Nneg         0.3386712         0.2658279         0.2533268\n",
       "sample6-4.12_Npos         0.3601836         0.3177679         0.2058119\n",
       "sample4-1.03_Npos         0.3683620         0.3232100         0.2632584\n",
       "sample5-2.06_Npos         0.3081481         0.2694802         0.1656590\n",
       "sample5-4.08_Npos         0.3385378         0.3064575         0.1917347\n",
       "sample5-4.28_Npos         0.3431921         0.2892863         0.2152315\n",
       "                  sample3-2.19_Npos sample8-2.25_Nneg sample6-3.09_Nneg\n",
       "sample5-1.22_Nneg         0.2256291         0.2234315         0.2133390\n",
       "sample6-4.12_Npos         0.2276478         0.1788380         0.1879782\n",
       "sample4-1.03_Npos         0.2271868         0.2288714         0.2654751\n",
       "sample5-2.06_Npos         0.2424217         0.1341611         0.1745957\n",
       "sample5-4.08_Npos         0.2200093         0.1755841         0.2077710\n",
       "sample5-4.28_Npos         0.2342925         0.1682942         0.1823464\n",
       "                  sample2-3.20_Npos sample2-3.20_Nneg sample3-3.30_Npos\n",
       "sample5-1.22_Nneg         0.2073364         0.2115816         0.3365427\n",
       "sample6-4.12_Npos         0.1959606         0.1637878         0.4023269\n",
       "sample4-1.03_Npos         0.1909129         0.1967089         0.3827072\n",
       "sample5-2.06_Npos         0.2076619         0.1931568         0.3383521\n",
       "sample5-4.08_Npos         0.1825849         0.1616673         0.3828582\n",
       "sample5-4.28_Npos         0.2231997         0.2044628         0.3540189\n",
       "                  sample8-4.23_Npos sample8-3.03_Npos sample6-4.13_Npos\n",
       "sample5-1.22_Nneg         0.3138983         0.3698738         0.2416663\n",
       "sample6-4.12_Npos         0.2633681         0.3255183         0.1757057\n",
       "sample4-1.03_Npos         0.3172224         0.3558594         0.2546647\n",
       "sample5-2.06_Npos         0.2031483         0.2634669         0.2046751\n",
       "sample5-4.08_Npos         0.2488799         0.3276505         0.1872108\n",
       "sample5-4.28_Npos         0.2549818         0.3216226         0.2074868\n",
       "                  sample8-4.07_Nneg sample6-1.18_Npos sample7-3.25_Npos\n",
       "sample5-1.22_Nneg         0.1908207         0.2664393         0.3117616\n",
       "sample6-4.12_Npos         0.1738222         0.2353747         0.2535025\n",
       "sample4-1.03_Npos         0.1864247         0.2816939         0.2796455\n",
       "sample5-2.06_Npos         0.1560520         0.2336760         0.2097214\n",
       "sample5-4.08_Npos         0.1618385         0.2243831         0.2428198\n",
       "sample5-4.28_Npos         0.1518950         0.2555316         0.2749356\n",
       "                  sample8-3.23_Nneg sample7-2.30_Npos sample7-1.13_Nneg\n",
       "sample5-1.22_Nneg         0.2470313         0.2905048         0.2535415\n",
       "sample6-4.12_Npos         0.2029099         0.2523897         0.2533101\n",
       "sample4-1.03_Npos         0.2527464         0.3016265         0.2476139\n",
       "sample5-2.06_Npos         0.1995065         0.2206997         0.1821292\n",
       "sample5-4.08_Npos         0.1848310         0.2433752         0.2220042\n",
       "sample5-4.28_Npos         0.2188394         0.2464955         0.2330133\n",
       "                  sample8-2.22_Npos sample7-2.30_Nneg sample2-1.24_Npos\n",
       "sample5-1.22_Nneg         0.1907983         0.2039733         0.2379460\n",
       "sample6-4.12_Npos         0.1742577         0.2077436         0.2584285\n",
       "sample4-1.03_Npos         0.2126914         0.2220424         0.2283720\n",
       "sample5-2.06_Npos         0.1180087         0.1582811         0.2453853\n",
       "sample5-4.08_Npos         0.1567470         0.2037308         0.2320813\n",
       "sample5-4.28_Npos         0.1418108         0.2105067         0.2780325\n",
       "                  sample6-2.14_Npos sample8-1.14_Nneg sample3-1.20_Nneg\n",
       "sample5-1.22_Nneg         0.2454033         0.1742228         0.1893337\n",
       "sample6-4.12_Npos         0.1667678         0.1192408         0.2029670\n",
       "sample4-1.03_Npos         0.2230208         0.1862908         0.2275911\n",
       "sample5-2.06_Npos         0.2065703         0.1888886         0.1808107\n",
       "sample5-4.08_Npos         0.1522112         0.1298852         0.2101991\n",
       "sample5-4.28_Npos         0.2310616         0.1887271         0.1606491\n",
       "                  sample8-1.19_Npos sample7-2.28_Npos sample7-3.19_Npos\n",
       "sample5-1.22_Nneg         0.3288678         0.2956751         0.2929847\n",
       "sample6-4.12_Npos         0.2583410         0.3049796         0.2773542\n",
       "sample4-1.03_Npos         0.3294834         0.3373606         0.2777152\n",
       "sample5-2.06_Npos         0.2407302         0.2708048         0.2097514\n",
       "sample5-4.08_Npos         0.2848000         0.3010097         0.2510569\n",
       "sample5-4.28_Npos         0.2879222         0.3041640         0.2820810\n",
       "                  sample7-1.04_Nneg sample8-1.19_Nneg sample7-3.12_Nneg\n",
       "sample5-1.22_Nneg         0.3339150         0.2919399         0.3277790\n",
       "sample6-4.12_Npos         0.3045429         0.2479611         0.3091504\n",
       "sample4-1.03_Npos         0.3571762         0.2924606         0.3141626\n",
       "sample5-2.06_Npos         0.2879649         0.1928499         0.2592775\n",
       "sample5-4.08_Npos         0.3010945         0.2473741         0.2766334\n",
       "sample5-4.28_Npos         0.3216705         0.2492636         0.3029073\n",
       "                  sample7-4.03_Nneg sample7-1.28_Npos sample8-1.10_Npos\n",
       "sample5-1.22_Nneg         0.3984842         0.3549245         0.2869163\n",
       "sample6-4.12_Npos         0.3942244         0.3325377         0.2451076\n",
       "sample4-1.03_Npos         0.3862420         0.3278156         0.2894173\n",
       "sample5-2.06_Npos         0.3431600         0.2689410         0.1920111\n",
       "sample5-4.08_Npos         0.3573078         0.3045301         0.2262019\n",
       "sample5-4.28_Npos         0.3753348         0.3249254         0.2427894\n",
       "                  sample7-1.28_Nneg sample7-3.25_Nneg sample2-1.24_Nneg\n",
       "sample5-1.22_Nneg         0.3953641         0.2554253         0.1935287\n",
       "sample6-4.12_Npos         0.3711348         0.2491127         0.1515140\n",
       "sample4-1.03_Npos         0.3918603         0.2900308         0.2168877\n",
       "sample5-2.06_Npos         0.3309303         0.2110015         0.2141211\n",
       "sample5-4.08_Npos         0.3464449         0.2391684         0.1643121\n",
       "sample5-4.28_Npos         0.3712015         0.2537181         0.2237063\n",
       "                  sample8-1.10_Nneg sample8-4.01_Npos sample7-4.14_Npos\n",
       "sample5-1.22_Nneg         0.2399987         0.3188541         0.2383201\n",
       "sample6-4.12_Npos         0.1868189         0.2657991         0.1816006\n",
       "sample4-1.03_Npos         0.2523575         0.3239978         0.2186724\n",
       "sample5-2.06_Npos         0.1566795         0.2353626         0.1595899\n",
       "sample5-4.08_Npos         0.1801010         0.2810009         0.1675306\n",
       "sample5-4.28_Npos         0.2023570         0.2721032         0.1977654\n",
       "                  sample8-4.01_Nneg sample8-2.17_Nneg sample6-3.09_Npos\n",
       "sample5-1.22_Nneg         0.3054234         0.2588360         0.2263198\n",
       "sample6-4.12_Npos         0.2558471         0.2113769         0.1683148\n",
       "sample4-1.03_Npos         0.2997350         0.2436374         0.2054515\n",
       "sample5-2.06_Npos         0.2118264         0.2159571         0.2081710\n",
       "sample5-4.08_Npos         0.2610161         0.1964728         0.1649446\n",
       "sample5-4.28_Npos         0.2566802         0.2413447         0.2284542\n",
       "                  sample8-2.22_Nneg sample8-3.29_Nneg sample8-4.07_Npos\n",
       "sample5-1.22_Nneg         0.2073613         0.1982243         0.1742858\n",
       "sample6-4.12_Npos         0.1852035         0.1869060         0.1617898\n",
       "sample4-1.03_Npos         0.2054332         0.1890093         0.1979308\n",
       "sample5-2.06_Npos         0.1766329         0.1705080         0.1566506\n",
       "sample5-4.08_Npos         0.1672839         0.1854456         0.1651508\n",
       "sample5-4.28_Npos         0.1676908         0.1768552         0.1328103\n",
       "                  sample8-1.23_Npos sample8-3.28_Nneg sample2-2.10_Npos\n",
       "sample5-1.22_Nneg         0.2342318         0.1690040         0.2205794\n",
       "sample6-4.12_Npos         0.2001210         0.1588265         0.2169812\n",
       "sample4-1.03_Npos         0.2313379         0.1648153         0.1906495\n",
       "sample5-2.06_Npos         0.2149235         0.1680046         0.1600022\n",
       "sample5-4.08_Npos         0.1796197         0.1654689         0.1823607\n",
       "sample5-4.28_Npos         0.2178359         0.1678291         0.1881299\n",
       "                  sample6-4.13_Nneg sample3-2.19_Nneg sample7-3.12_Npos\n",
       "sample5-1.22_Nneg         0.2188510         0.2544177         0.2873355\n",
       "sample6-4.12_Npos         0.1943559         0.2040256         0.2717249\n",
       "sample4-1.03_Npos         0.2274711         0.2065678         0.2680370\n",
       "sample5-2.06_Npos         0.1788671         0.2238547         0.2355778\n",
       "sample5-4.08_Npos         0.1772275         0.1903100         0.2531771\n",
       "sample5-4.28_Npos         0.1896641         0.2536961         0.2691009\n",
       "                  sample8-3.23_Npos sample8-3.29_Npos sample8-1.23_Nneg\n",
       "sample5-1.22_Nneg         0.2426355         0.2623888         0.2459469\n",
       "sample6-4.12_Npos         0.2098019         0.2272960         0.2116848\n",
       "sample4-1.03_Npos         0.2605564         0.2408155         0.2543099\n",
       "sample5-2.06_Npos         0.1479092         0.1686063         0.1621175\n",
       "sample5-4.08_Npos         0.1924868         0.2070010         0.1979360\n",
       "sample5-4.28_Npos         0.2033646         0.2195422         0.2159440\n",
       "                  sample6-2.14_Nneg sample8-4.04_Nneg sample3-3.30_Nneg\n",
       "sample5-1.22_Nneg         0.2327579         0.3109770         0.2598062\n",
       "sample6-4.12_Npos         0.1759481         0.2603592         0.1929334\n",
       "sample4-1.03_Npos         0.1926835         0.3217050         0.2286282\n",
       "sample5-2.06_Npos         0.2244710         0.2367930         0.2373122\n",
       "sample5-4.08_Npos         0.1624010         0.2512301         0.1950138\n",
       "sample5-4.28_Npos         0.2237314         0.2760613         0.2461253\n",
       "                  sample7-4.14_Nneg sample8-2.07_Npos sample3-4.18_Npos\n",
       "sample5-1.22_Nneg         0.3279493         0.3007195         0.2750873\n",
       "sample6-4.12_Npos         0.3107647         0.2452455         0.2340996\n",
       "sample4-1.03_Npos         0.3553927         0.3112259         0.2261910\n",
       "sample5-2.06_Npos         0.2806749         0.2098732         0.2686781\n",
       "sample5-4.08_Npos         0.3010289         0.2622211         0.2300239\n",
       "sample5-4.28_Npos         0.3285623         0.2505095         0.2688507\n",
       "                  sample8-4.04_Npos sample8-2.25_Npos sample8-3.03_Nneg\n",
       "sample5-1.22_Nneg         0.3095409         0.2313558         0.2410838\n",
       "sample6-4.12_Npos         0.2525843         0.1909211         0.1994499\n",
       "sample4-1.03_Npos         0.3081478         0.2356828         0.2671376\n",
       "sample5-2.06_Npos         0.2284416         0.1577096         0.1893953\n",
       "sample5-4.08_Npos         0.2320118         0.1732881         0.2214415\n",
       "sample5-4.28_Npos         0.2553971         0.1898193         0.2033308\n"
      ]
     },
     "metadata": {},
     "output_type": "display_data"
    }
   ],
   "source": [
    "%%R\n",
    "as.matrix(wunif.dist) %>% head"
   ]
  },
  {
   "cell_type": "code",
   "execution_count": 77,
   "metadata": {
    "collapsed": false
   },
   "outputs": [
    {
     "data": {
      "text/plain": [
       "               Var1              Var2     value\n",
       "1 sample5-1.22_Nneg sample5-1.22_Nneg 0.0000000\n",
       "2 sample6-4.12_Npos sample5-1.22_Nneg 0.1829650\n",
       "3 sample4-1.03_Npos sample5-1.22_Nneg 0.1722266\n",
       "4 sample5-2.06_Npos sample5-1.22_Nneg 0.1902666\n",
       "5 sample5-4.08_Npos sample5-1.22_Nneg 0.1757315\n",
       "6 sample5-4.28_Npos sample5-1.22_Nneg 0.1457043\n",
       "[1] 30276     3\n",
       "              PlotA             PlotB w_Unif_Dist  Plant\n",
       "1 sample5-1.22_Nneg sample5-1.22_Nneg   0.0000000 75-062\n",
       "2 sample6-4.12_Npos sample5-1.22_Nneg   0.1829650   Oh7B\n",
       "3 sample4-1.03_Npos sample5-1.22_Nneg   0.1722266  SETFA\n",
       "4 sample5-2.06_Npos sample5-1.22_Nneg   0.1902666   MS71\n",
       "5 sample5-4.08_Npos sample5-1.22_Nneg   0.1757315   MS71\n",
       "6 sample5-4.28_Npos sample5-1.22_Nneg   0.1457043 75-062\n",
       "              PlotA             PlotB w_Unif_Dist PlantA  Plant\n",
       "1 sample5-1.22_Nneg sample5-1.22_Nneg   0.0000000 75-062 75-062\n",
       "2 sample6-4.12_Npos sample5-1.22_Nneg   0.1829650   Oh7B 75-062\n",
       "3 sample4-1.03_Npos sample5-1.22_Nneg   0.1722266  SETFA 75-062\n",
       "4 sample5-2.06_Npos sample5-1.22_Nneg   0.1902666   MS71 75-062\n",
       "5 sample5-4.08_Npos sample5-1.22_Nneg   0.1757315   MS71 75-062\n",
       "6 sample5-4.28_Npos sample5-1.22_Nneg   0.1457043 75-062 75-062\n"
      ]
     },
     "metadata": {},
     "output_type": "display_data"
    }
   ],
   "source": [
    "%%R\n",
    "ud.m = melt(as.matrix(wunif.dist))\n",
    "head(ud.m) %>% print\n",
    "dim(ud.m) %>% print\n",
    "colnames(ud.m) = c(\"PlotA\", \"PlotB\", \"w_Unif_Dist\")\n",
    "\n",
    "#Join with plant names\n",
    "ud.m = left_join(ud.m, sd[, c(1,9)], by = c(\"PlotA\" = \"X.sample\"))\n",
    "head(ud.m) %>% print\n",
    "colnames(ud.m)[4] = \"PlantA\"\n",
    "\n",
    "ud.m = left_join(ud.m, sd[, c(1,9)], by = c(\"PlotB\" = \"X.sample\"))\n",
    "head(ud.m) %>% print\n",
    "colnames(ud.m)[5] = \"PlantB\"\n",
    "ud.m$PlantComp = paste(ud.m$PlantA, ud.m$PlantB, sep = \"-\")\n",
    "\n"
   ]
  },
  {
   "cell_type": "markdown",
   "metadata": {},
   "source": [
    "* How to remove duplicates, ie values above the diagonal?  Possibly a loop that checks if var1-var2 = var2-var1, then remove."
   ]
  },
  {
   "cell_type": "markdown",
   "metadata": {},
   "source": [
    "# Join with plant phylogenetic distance, graph phylogenetic distance vs w-unifrac"
   ]
  },
  {
   "cell_type": "code",
   "execution_count": 79,
   "metadata": {
    "collapsed": false
   },
   "outputs": [
    {
     "data": {
      "text/plain": [
       "                  PlotA             PlotB w_Unif_Dist PlantA PlantB   PlantComp\n",
       "30271 sample7-4.14_Nneg sample8-3.03_Nneg   0.2893173  SORBI  ELCOR SORBI-ELCOR\n",
       "30272 sample8-2.07_Npos sample8-3.03_Nneg   0.1777635  ELCOR  ELCOR ELCOR-ELCOR\n",
       "30273 sample3-4.18_Npos sample8-3.03_Nneg   0.2693146  ABUTH  ELCOR ABUTH-ELCOR\n",
       "30274 sample8-4.04_Npos sample8-3.03_Nneg   0.2602611   Mo18  ELCOR  Mo18-ELCOR\n",
       "30275 sample8-2.25_Npos sample8-3.03_Nneg   0.1881618    Ki3  ELCOR   Ki3-ELCOR\n",
       "30276 sample8-3.03_Nneg sample8-3.03_Nneg   0.0000000  ELCOR  ELCOR ELCOR-ELCOR\n",
       "      phy_Dist\n",
       "30271  0.04779\n",
       "30272  0.00000\n",
       "30273  0.36639\n",
       "30274  0.05090\n",
       "30275  0.05090\n",
       "30276  0.00000\n"
      ]
     },
     "metadata": {},
     "output_type": "display_data"
    }
   ],
   "source": [
    "%%R\n",
    "Dist = left_join(ud.m, pd.m[,c(3,4)], by = \"PlantComp\")\n",
    "tail(Dist) %>% print\n",
    "\n",
    "#Join with \n"
   ]
  },
  {
   "cell_type": "code",
   "execution_count": 80,
   "metadata": {
    "collapsed": false,
    "scrolled": true
   },
   "outputs": [
    {
     "data": {
      "text/plain": [
       "[1] 30276     7\n",
       "[1] 30102     7\n"
      ]
     },
     "metadata": {},
     "output_type": "display_data"
    },
    {
     "data": {
      "image/png": "[encoded data removed]"
     },
     "metadata": {},
     "output_type": "display_data"
    }
   ],
   "source": [
    "%%R\n",
    "dim(Dist) %>% print\n",
    "D.s = filter(Dist, PlotA != PlotB)\n",
    "\n",
    "dim(D.s) %>% print\n",
    "plot(w_Unif_Dist~phy_Dist, data = D.s)\n",
    "m = lm(w_Unif_Dist~phy_Dist, data = D.s)\n",
    "abline(m)"
   ]
  },
  {
   "cell_type": "markdown",
   "metadata": {},
   "source": [
    "# Tests with distance from B73"
   ]
  },
  {
   "cell_type": "code",
   "execution_count": 90,
   "metadata": {
    "collapsed": false,
    "scrolled": true
   },
   "outputs": [
    {
     "data": {
      "text/plain": [
       "[1] \"PlotA\"       \"PlotB\"       \"w_Unif_Dist\" \"PlantA\"      \"PlantB\"     \n",
       "[6] \"PlantComp\"   \"phy_Dist\"   \n"
      ]
     },
     "metadata": {},
     "output_type": "display_data"
    }
   ],
   "source": [
    "%%R\n",
    "colnames(B73Means)"
   ]
  },
  {
   "cell_type": "code",
   "execution_count": 108,
   "metadata": {
    "collapsed": false,
    "scrolled": true
   },
   "outputs": [
    {
     "data": {
      "text/plain": [
       "              PlotA             PlotB w_Unif_Dist PlantA PlantB  PlantComp\n",
       "1 sample6-2.26_Nneg sample5-1.22_Nneg   0.2115773    B73 75-062 B73-75-062\n",
       "2 sample6-3.18_Nneg sample5-1.22_Nneg   0.2095513    B73 75-062 B73-75-062\n",
       "3 sample6-4.30_Npos sample5-1.22_Nneg   0.2742233    B73 75-062 B73-75-062\n",
       "4 sample6-1.12_Npos sample5-1.22_Nneg   0.2737135    B73 75-062 B73-75-062\n",
       "5 sample6-3.18_Npos sample5-1.22_Nneg   0.2607120    B73 75-062 B73-75-062\n",
       "6 sample6-2.26_Npos sample5-1.22_Nneg   0.2564857    B73 75-062 B73-75-062\n",
       "  phy_Dist\n",
       "1    2e-04\n",
       "2    2e-04\n",
       "3    2e-04\n",
       "4    2e-04\n",
       "5    2e-04\n",
       "6    2e-04\n"
      ]
     },
     "metadata": {},
     "output_type": "display_data"
    }
   ],
   "source": [
    "%%R\n",
    "head(B73dist)"
   ]
  },
  {
   "cell_type": "code",
   "execution_count": 135,
   "metadata": {
    "collapsed": false,
    "scrolled": true
   },
   "outputs": [
    {
     "data": {
      "text/plain": [
       "[1] 1392    7\n",
       "[1] 1392   11\n",
       "              PlotA             PlotB w_Unif_Dist PlantA PlantB  PlantComp\n",
       "1 sample6-2.26_Nneg sample5-1.22_Nneg   0.2115773    B73 75-062 B73-75-062\n",
       "2 sample6-3.18_Nneg sample5-1.22_Nneg   0.2095513    B73 75-062 B73-75-062\n",
       "3 sample6-4.30_Npos sample5-1.22_Nneg   0.2742233    B73 75-062 B73-75-062\n",
       "4 sample6-1.12_Npos sample5-1.22_Nneg   0.2737135    B73 75-062 B73-75-062\n",
       "5 sample6-3.18_Npos sample5-1.22_Nneg   0.2607120    B73 75-062 B73-75-062\n",
       "6 sample6-2.26_Npos sample5-1.22_Nneg   0.2564857    B73 75-062 B73-75-062\n",
       "  phy_Dist DAP A_Resid_logB A_Resid_logCN A_Resid_logN\n",
       "1    2e-04  72   -0.4251123     0.5695096   -0.9552604\n",
       "2    2e-04  72   -0.4251123     0.5695096   -0.9552604\n",
       "3    2e-04  72   -0.4251123     0.5695096   -0.9552604\n",
       "4    2e-04  72   -0.4251123     0.5695096   -0.9552604\n",
       "5    2e-04  72   -0.4251123     0.5695096   -0.9552604\n",
       "6    2e-04  72   -0.4251123     0.5695096   -0.9552604\n"
      ]
     },
     "metadata": {},
     "output_type": "display_data"
    }
   ],
   "source": [
    "%%R\n",
    "\n",
    "B73dist = Dist %>% filter(PlantA == \"B73\") \n",
    "dim(B73dist) %>% print\n",
    "PlantDate = sd[,c(\"DAP\", \"A_Resid_logB\", \"A_Resid_logCN\", \"A_Resid_logN\")]\n",
    "PlantDate$Sample = row.names(PlantDate)\n",
    "B73dist = left_join(B73dist, PlantDate, by = c(\"PlotB\" = \"Sample\"))\n",
    "dim(B73dist) %>% print\n",
    "head(B73dist)"
   ]
  },
  {
   "cell_type": "code",
   "execution_count": 177,
   "metadata": {
    "collapsed": false,
    "scrolled": true
   },
   "outputs": [
    {
     "data": {
      "text/plain": [
       "\n",
       "Call:\n",
       "lm(formula = w_Unif_Dist ~ timedist + phy_Dist, data = B73dist)\n",
       "\n",
       "Residuals:\n",
       "      Min        1Q    Median        3Q       Max \n",
       "-0.244509 -0.046381 -0.007747  0.037927  0.241914 \n",
       "\n",
       "Coefficients:\n",
       "              Estimate Std. Error t value Pr(>|t|)    \n",
       "(Intercept)  2.445e-01  2.652e-03  92.203  < 2e-16 ***\n",
       "timedist    -4.644e-05  2.500e-04  -0.186    0.853    \n",
       "phy_Dist     1.096e-01  1.593e-02   6.877 9.22e-12 ***\n",
       "---\n",
       "Signif. codes:  0 ‘***’ 0.001 ‘**’ 0.01 ‘*’ 0.05 ‘.’ 0.1 ‘ ’ 1\n",
       "\n",
       "Residual standard error: 0.06808 on 1389 degrees of freedom\n",
       "Multiple R-squared:  0.06345,\tAdjusted R-squared:  0.06211 \n",
       "F-statistic: 47.05 on 2 and 1389 DF,  p-value: < 2.2e-16\n",
       "\n"
      ]
     },
     "metadata": {},
     "output_type": "display_data"
    }
   ],
   "source": [
    "%%R\n",
    "B73dist$timedist = abs(79 - B73dist$DAP)\n",
    "fit = lm(w_Unif_Dist~timedist + phy_Dist, data = B73dist)\n",
    "anova(fit)\n",
    "summary(fit)"
   ]
  },
  {
   "cell_type": "code",
   "execution_count": 143,
   "metadata": {
    "collapsed": false
   },
   "outputs": [
    {
     "data": {
      "text/plain": [
       " [1] \"75-062\" \"ABUTH\"  \"AMAPO\"  \"B73\"    \"B97\"    \"ECHCG\"  \"ELCOR\"  \"ERATE\" \n",
       " [9] \"FAGES\"  \"GLYMA\"  \"H99\"    \"HELAN\"  \"Hp301\"  \"Il14H\"  \"Ki3\"    \"Mo18\"  \n",
       "[17] \"MS71\"   \"Oh7B\"   \"SETFA\"  \"SORBI\"  \"SORSUD\" \"Tx303\" \n"
      ]
     },
     "metadata": {},
     "output_type": "display_data"
    }
   ],
   "source": [
    "%%R\n",
    "B73dist$PlantB %>% levels"
   ]
  },
  {
   "cell_type": "code",
   "execution_count": null,
   "metadata": {
    "collapsed": true
   },
   "outputs": [],
   "source": [
    "## Do residuals predict distance from B73"
   ]
  },
  {
   "cell_type": "code",
   "execution_count": 272,
   "metadata": {
    "collapsed": false
   },
   "outputs": [
    {
     "data": {
      "text/plain": [
       "'data.frame':\t1392 obs. of  12 variables:\n",
       " $ PlotA        : chr  \"sample6-2.26_Nneg\" \"sample6-3.18_Nneg\" \"sample6-4.30_Npos\" \"sample6-1.12_Npos\" ...\n",
       " $ PlotB        : chr  \"sample5-1.22_Nneg\" \"sample5-1.22_Nneg\" \"sample5-1.22_Nneg\" \"sample5-1.22_Nneg\" ...\n",
       " $ w_Unif_Dist  : num  0.212 0.21 0.274 0.274 0.261 ...\n",
       " $ PlantA       : Factor w/ 22 levels \"75-062\",\"ABUTH\",..: 4 4 4 4 4 4 4 4 4 4 ...\n",
       " $ PlantB       : Factor w/ 22 levels \"75-062\",\"ABUTH\",..: 1 1 1 1 1 1 1 1 18 18 ...\n",
       " $ PlantComp    : chr  \"B73-75-062\" \"B73-75-062\" \"B73-75-062\" \"B73-75-062\" ...\n",
       " $ phy_Dist     : num  2e-04 2e-04 2e-04 2e-04 2e-04 2e-04 2e-04 2e-04 2e-04 2e-04 ...\n",
       " $ DAP          : int  72 72 72 72 72 72 72 72 79 79 ...\n",
       " $ A_Resid_logB : num  -0.425 -0.425 -0.425 -0.425 -0.425 ...\n",
       " $ A_Resid_logCN: num  0.57 0.57 0.57 0.57 0.57 ...\n",
       " $ A_Resid_logN : num  -0.955 -0.955 -0.955 -0.955 -0.955 ...\n",
       " $ timedist     : num  7 7 7 7 7 7 7 7 0 0 ...\n"
      ]
     },
     "metadata": {},
     "output_type": "display_data"
    }
   ],
   "source": [
    "%%R\n",
    "str(B73dist)"
   ]
  },
  {
   "cell_type": "code",
   "execution_count": 273,
   "metadata": {
    "collapsed": false
   },
   "outputs": [
    {
     "data": {
      "text/plain": [
       "Linear mixed model fit by REML t-tests use Satterthwaite approximations to\n",
       "  degrees of freedom [lmerMod]\n",
       "Formula: w_Unif_Dist ~ A_Resid_logN + A_Resid_logB + A_Resid_logCN + (1 |  \n",
       "    Date)\n",
       "   Data: B73dist\n",
       "\n",
       "REML criterion at convergence: -3650.1\n",
       "\n",
       "Scaled residuals: \n",
       "    Min      1Q  Median      3Q     Max \n",
       "-3.4123 -0.6741 -0.1090  0.5111  3.5763 \n",
       "\n",
       "Random effects:\n",
       " Groups   Name        Variance  Std.Dev.\n",
       " Date     (Intercept) 0.0007099 0.02664 \n",
       " Residual             0.0041048 0.06407 \n",
       "Number of obs: 1392, groups:  Date, 8\n",
       "\n",
       "Fixed effects:\n",
       "                Estimate Std. Error         df t value Pr(>|t|)    \n",
       "(Intercept)     0.261145   0.009643   7.100000  27.081 2.17e-08 ***\n",
       "A_Resid_logN   -0.251004   0.078631 765.700000  -3.192 0.001470 ** \n",
       "A_Resid_logB    0.251102   0.077174 752.500000   3.254 0.001190 ** \n",
       "A_Resid_logCN  -0.260353   0.075152 736.800000  -3.464 0.000562 ***\n",
       "---\n",
       "Signif. codes:  0 ‘***’ 0.001 ‘**’ 0.01 ‘*’ 0.05 ‘.’ 0.1 ‘ ’ 1\n",
       "\n",
       "Correlation of Fixed Effects:\n",
       "            (Intr) A_Rs_N A_Rs_B\n",
       "A_Resid_lgN -0.013              \n",
       "A_Resid_lgB  0.015 -0.998       \n",
       "A_Resd_lgCN -0.016  0.994 -0.992\n"
      ]
     },
     "metadata": {},
     "output_type": "display_data"
    }
   ],
   "source": [
    "%%R\n",
    "B73dist$Date = as.factor(B73dist$DAP)\n",
    "B73dist$timedist = abs(79 - B73dist$DAP)\n",
    "fit = lmer(w_Unif_Dist~ A_Resid_logN + A_Resid_logB +  A_Resid_logCN + (1|Date), data = B73dist)\n",
    "summary(fit)\n",
    "#summary(fit)\n",
    "\n",
    "# B73.adist = filter(B73dist, PlantB %in% c(\"ABUTH\" , \"AMAPO\", \"ECHCG\",  \"ELCOR\",  \"ERATE\",  \"FAGES\",  \"GLYMA\",    \"HELAN\",  \n",
    "#  \"SETFA\",  \"SORBI\",  \"SORSUD\" ))\n",
    "# fit = lm(w_Unif_Dist~ A_Resid_logN + A_Resid_logB +  A_Resid_logCN , data = B73.adist)\n",
    "# anova(fit)\n",
    "# summary(fit)"
   ]
  },
  {
   "cell_type": "code",
   "execution_count": 225,
   "metadata": {
    "collapsed": false
   },
   "outputs": [
    {
     "data": {
      "text/plain": [
       "Source: local data frame [22 x 6]\n",
       "\n",
       "   PlantB PhyDist.M       WUD      WUD.se B.DAP time.dist\n",
       "   (fctr)     (dbl)     (dbl)       (dbl) (dbl)     (dbl)\n",
       "1  75-062   0.00020 0.2311185 0.004623966    72         7\n",
       "2   ABUTH   0.35681 0.2871813 0.007372968    57        22\n",
       "3   AMAPO   0.39437 0.2507123 0.005390331    53        26\n",
       "4     B73   0.00000 0.1921523 0.012257518    79         0\n",
       "5     B97   0.00020 0.2159930 0.007460856    79         0\n",
       "6   ECHCG   0.03504 0.2605545 0.006636352    53        26\n",
       "7   ELCOR   0.05090 0.3051231 0.005540438    88         9\n",
       "8   ERATE   0.04967 0.2630545 0.005287011    72         7\n",
       "9   FAGES   0.43787 0.2908565 0.004396495    36        43\n",
       "10  GLYMA   0.44464 0.2847404 0.010703729    57        22\n",
       "11    H99   0.00020 0.2660250 0.009745669    72         7\n",
       "12  HELAN   0.35807 0.3147398 0.010760363    84         5\n",
       "13  Hp301   0.00020 0.2299894 0.007642646    79         0\n",
       "14  Il14H   0.00020 0.2405830 0.006072724    72         7\n",
       "15    Ki3   0.00020 0.2475138 0.008459049    88         9\n",
       "16   Mo18   0.00020 0.2405782 0.009474100    88         9\n",
       "17   MS71   0.00020 0.2272140 0.007644395    72         7\n",
       "18   Oh7B   0.00020 0.2141389 0.007088329    79         0\n",
       "19  SETFA   0.03111 0.2305947 0.003743796    61        18\n",
       "20  SORBI   0.01153 0.2786705 0.009225136    84         5\n",
       "21 SORSUD   0.01153 0.3109269 0.009529738    84         5\n",
       "22  Tx303   0.00020 0.2280369 0.005307572    88         9\n"
      ]
     },
     "metadata": {},
     "output_type": "display_data"
    }
   ],
   "source": [
    "%%R\n",
    "\n",
    "\n",
    "B73Means = B73dist %>% group_by(PlantB) %>%\n",
    "         summarise(PhyDist.M = mean(phy_Dist),\n",
    "                   WUD = mean(w_Unif_Dist),\n",
    "                  WUD.se = sd(w_Unif_Dist)/sqrt(length(w_Unif_Dist)),\n",
    "                  B.DAP = mean(DAP),\n",
    "                  time.dist = mean(timedist))\n",
    "\n",
    "B73Means %>% tbl_df %>% print(n= 23)"
   ]
  },
  {
   "cell_type": "code",
   "execution_count": 261,
   "metadata": {
    "collapsed": false,
    "scrolled": false
   },
   "outputs": [
    {
     "data": {
      "image/png": "[encoded data removed]"
     },
     "metadata": {},
     "output_type": "display_data"
    }
   ],
   "source": [
    "%%R\n",
    "p = ggplot(B73Means, aes(x = PhyDist.M, y = WUD, fill = as.factor(B.DAP))) +\n",
    "        geom_point(pch = 21, size = 3) + \n",
    "        geom_errorbar(aes(y = WUD,\n",
    "                  ymin = WUD - WUD.se, ymax = WUD + WUD.se), width = 0.1)+\n",
    "        ylab(\"Weighted uni-Frac distance\")+\n",
    "        ggtitle(\"Phylogenetic Relatedness and Microbial Community Structure\") +\n",
    "        theme_bw(base_size = 16)+\n",
    "        xlab(\"Phylogenetic Distance\") \n",
    "  p\n",
    "\n",
    "       "
   ]
  },
  {
   "cell_type": "code",
   "execution_count": 267,
   "metadata": {
    "collapsed": false,
    "scrolled": false
   },
   "outputs": [
    {
     "data": {
      "image/png": "[encoded data removed]"
     },
     "metadata": {},
     "output_type": "display_data"
    }
   ],
   "source": [
    "%%R -w 600 -h 500\n",
    "p = ggplot(B73Means, aes(x = B.DAP, y = WUD)) +\n",
    "        geom_point(aes(size = PhyDist.M), pch = 21) + \n",
    "        geom_errorbar(aes(y = WUD,\n",
    "                  ymin = WUD - WUD.se, ymax = WUD + WUD.se), width = 0.1)+\n",
    "        ylab(\"Weighted uni-Frac distance\")+\n",
    "        ggtitle(\"Phylogenetic Relatedness and Microbial Community Structure\") +\n",
    "        theme_bw(base_size = 16)+\n",
    "        xlab(\"Harvest Date\") \n",
    "  p"
   ]
  },
  {
   "cell_type": "code",
   "execution_count": 263,
   "metadata": {
    "collapsed": false
   },
   "outputs": [
    {
     "data": {
      "text/plain": [
       " [1] \"75-062\" \"ABUTH\"  \"AMAPO\"  \"B73\"    \"B97\"    \"ECHCG\"  \"ELCOR\"  \"ERATE\" \n",
       " [9] \"FAGES\"  \"GLYMA\"  \"H99\"    \"HELAN\"  \"Hp301\"  \"Il14H\"  \"Ki3\"    \"Mo18\"  \n",
       "[17] \"MS71\"   \"Oh7B\"   \"SETFA\"  \"SORBI\"  \"SORSUD\" \"Tx303\" \n"
      ]
     },
     "metadata": {},
     "output_type": "display_data"
    }
   ],
   "source": [
    "%%R\n",
    "B73Means$PlantB %>% levels"
   ]
  },
  {
   "cell_type": "code",
   "execution_count": 264,
   "metadata": {
    "collapsed": false
   },
   "outputs": [
    {
     "data": {
      "image/png": "[encoded data removed]"
     },
     "metadata": {},
     "output_type": "display_data"
    }
   ],
   "source": [
    "%%R\n",
    "data = filter(B73Means, PlantB %in% c(\"Ki3\", \"Mo18\", \"ELCOR\", \"HELAN\", \"SORBI\",  \"SORSUD\"))\n",
    "p = ggplot(data, aes(x = time.dist, y = WUD)) +\n",
    "        geom_point(aes(size = PhyDist.M), pch = 21) + \n",
    "        geom_errorbar(aes(y = WUD,\n",
    "                  ymin = WUD - WUD.se, ymax = WUD + WUD.se), width = 0.1)+\n",
    "        ylab(\"Weighted uni-Frac distance\")+\n",
    "        ggtitle(\"Phylogenetic Relatedness and Microbial Community Structure\") +\n",
    "        theme_bw(base_size = 16)+\n",
    "        xlab(\"Time Distance\") \n",
    "  p"
   ]
  },
  {
   "cell_type": "markdown",
   "metadata": {},
   "source": [
    "# Mantel test of phylogenetic distance and microbial community distance"
   ]
  },
  {
   "cell_type": "markdown",
   "metadata": {},
   "source": [
    "## Set up distance matrices"
   ]
  },
  {
   "cell_type": "code",
   "execution_count": 200,
   "metadata": {
    "collapsed": false
   },
   "outputs": [
    {
     "data": {
      "text/plain": [
       "              PlotA             PlotB w_Unif_Dist PlantA PlantB     PlantComp\n",
       "1 sample5-1.22_Nneg sample5-1.22_Nneg   0.0000000 75-062 75-062 75-062-75-062\n",
       "2 sample6-4.12_Npos sample5-1.22_Nneg   0.1829650   Oh7B 75-062   Oh7B-75-062\n",
       "3 sample4-1.03_Npos sample5-1.22_Nneg   0.1722266  SETFA 75-062  SETFA-75-062\n",
       "4 sample5-2.06_Npos sample5-1.22_Nneg   0.1902666   MS71 75-062   MS71-75-062\n",
       "5 sample5-4.08_Npos sample5-1.22_Nneg   0.1757315   MS71 75-062   MS71-75-062\n",
       "6 sample5-4.28_Npos sample5-1.22_Nneg   0.1457043 75-062 75-062 75-062-75-062\n",
       "  phy_Dist\n",
       "1  0.00000\n",
       "2  0.00020\n",
       "3  0.03111\n",
       "4  0.00020\n",
       "5  0.00020\n",
       "6  0.00000\n",
       "[1] 30276     7\n"
      ]
     },
     "metadata": {},
     "output_type": "display_data"
    }
   ],
   "source": [
    "%%R\n",
    "head(Dist) %>% print\n",
    "#Remove NAs to trim dataset\n",
    "Temp = Dist[!is.na(Dist$phy_Dist),]\n",
    "dim(Temp) %>% print\n",
    "\n",
    "#Seperate unifrac and phylogenetic distances retaining plot IDs\n",
    "U = Temp[,c(1,2,3)]\n",
    "Phy = Temp[,c(1,2,7)]\n",
    "\n",
    "#Re-cast longform to wide form.  \n",
    "Udist = acast(U, PlotA~PlotB)\n",
    "\n",
    "\n",
    "Phydist = acast(Phy, PlotA~PlotB)\n",
    "\n",
    "\n",
    "#Convert to distance matrices\n",
    "Phydist = as.matrix(Phydist) %>% dist()\n",
    "Udist = as.matrix(Udist) %>% dist()"
   ]
  },
  {
   "cell_type": "code",
   "execution_count": 201,
   "metadata": {
    "collapsed": false
   },
   "outputs": [
    {
     "data": {
      "image/png": "[encoded data removed]"
     },
     "metadata": {},
     "output_type": "display_data"
    }
   ],
   "source": [
    "%%R\n",
    "hist(Phy$phy_Dist)"
   ]
  },
  {
   "cell_type": "code",
   "execution_count": 202,
   "metadata": {
    "collapsed": false
   },
   "outputs": [
    {
     "data": {
      "text/plain": [
       "                  sample1-1.27_Nneg sample1-1.27_Npos sample1-2.23_Nneg\n",
       "sample8-4.04_Nneg          5.146372          5.146372          5.146372\n",
       "sample8-4.04_Npos          5.146372          5.146372          5.146372\n",
       "sample8-4.07_Nneg          5.146372          5.146372          5.146372\n",
       "sample8-4.07_Npos          5.146372          5.146372          5.146372\n",
       "sample8-4.23_Nneg          5.146372          5.146372          5.146372\n",
       "sample8-4.23_Npos          5.146372          5.146372          5.146372\n",
       "                  sample1-2.23_Npos sample1-3.08_Nneg sample1-3.08_Npos\n",
       "sample8-4.04_Nneg          5.146372          5.146372          5.146372\n",
       "sample8-4.04_Npos          5.146372          5.146372          5.146372\n",
       "sample8-4.07_Nneg          5.146372          5.146372          5.146372\n",
       "sample8-4.07_Npos          5.146372          5.146372          5.146372\n",
       "sample8-4.23_Nneg          5.146372          5.146372          5.146372\n",
       "sample8-4.23_Npos          5.146372          5.146372          5.146372\n",
       "                  sample1-4.24_Nneg sample1-4.24_Npos sample2-1.08_Nneg\n",
       "sample8-4.04_Nneg          5.146372          5.146372          4.672266\n",
       "sample8-4.04_Npos          5.146372          5.146372          4.672266\n",
       "sample8-4.07_Nneg          5.146372          5.146372          4.672266\n",
       "sample8-4.07_Npos          5.146372          5.146372          4.672266\n",
       "sample8-4.23_Nneg          5.146372          5.146372          4.672266\n",
       "sample8-4.23_Npos          5.146372          5.146372          4.672266\n",
       "                  sample2-1.08_Npos sample2-1.24_Nneg sample2-1.24_Npos\n",
       "sample8-4.04_Nneg          4.672266         0.3485049         0.3485049\n",
       "sample8-4.04_Npos          4.672266         0.3485049         0.3485049\n",
       "sample8-4.07_Nneg          4.672266         0.3485049         0.3485049\n",
       "sample8-4.07_Npos          4.672266         0.3485049         0.3485049\n",
       "sample8-4.23_Nneg          4.672266         0.3485049         0.3485049\n",
       "sample8-4.23_Npos          4.672266         0.3485049         0.3485049\n",
       "                  sample2-2.08_Nneg sample2-2.08_Npos sample2-2.10_Nneg\n",
       "sample8-4.04_Nneg          4.672266          4.672266         0.3485049\n",
       "sample8-4.04_Npos          4.672266          4.672266         0.3485049\n",
       "sample8-4.07_Nneg          4.672266          4.672266         0.3485049\n",
       "sample8-4.07_Npos          4.672266          4.672266         0.3485049\n",
       "sample8-4.23_Nneg          4.672266          4.672266         0.3485049\n",
       "sample8-4.23_Npos          4.672266          4.672266         0.3485049\n",
       "                  sample2-2.10_Npos sample2-3.05_Nneg sample2-3.05_Npos\n",
       "sample8-4.04_Nneg         0.3485049          4.672266          4.672266\n",
       "sample8-4.04_Npos         0.3485049          4.672266          4.672266\n",
       "sample8-4.07_Nneg         0.3485049          4.672266          4.672266\n",
       "sample8-4.07_Npos         0.3485049          4.672266          4.672266\n",
       "sample8-4.23_Nneg         0.3485049          4.672266          4.672266\n",
       "sample8-4.23_Npos         0.3485049          4.672266          4.672266\n",
       "                  sample2-3.20_Nneg sample2-3.20_Npos sample2-4.25_Nneg\n",
       "sample8-4.04_Nneg         0.3485049         0.3485049          4.672266\n",
       "sample8-4.04_Npos         0.3485049         0.3485049          4.672266\n",
       "sample8-4.07_Nneg         0.3485049         0.3485049          4.672266\n",
       "sample8-4.07_Npos         0.3485049         0.3485049          4.672266\n",
       "sample8-4.23_Nneg         0.3485049         0.3485049          4.672266\n",
       "sample8-4.23_Npos         0.3485049         0.3485049          4.672266\n",
       "                  sample2-4.25_Npos sample3-1.09_Nneg sample3-1.09_Npos\n",
       "sample8-4.04_Nneg          4.672266          5.210943          5.210943\n",
       "sample8-4.04_Npos          4.672266          5.210943          5.210943\n",
       "sample8-4.07_Nneg          4.672266          5.210943          5.210943\n",
       "sample8-4.07_Npos          4.672266          5.210943          5.210943\n",
       "sample8-4.23_Nneg          4.672266          5.210943          5.210943\n",
       "sample8-4.23_Npos          4.672266          5.210943          5.210943\n",
       "                  sample3-1.20_Nneg sample3-1.20_Npos sample3-2.03_Nneg\n",
       "sample8-4.04_Nneg          4.259292          4.259292          5.210943\n",
       "sample8-4.04_Npos          4.259292          4.259292          5.210943\n",
       "sample8-4.07_Nneg          4.259292          4.259292          5.210943\n",
       "sample8-4.07_Npos          4.259292          4.259292          5.210943\n",
       "sample8-4.23_Nneg          4.259292          4.259292          5.210943\n",
       "sample8-4.23_Npos          4.259292          4.259292          5.210943\n",
       "                  sample3-2.03_Npos sample3-2.19_Nneg sample3-2.19_Npos\n",
       "sample8-4.04_Nneg          5.210943          4.259292          4.259292\n",
       "sample8-4.04_Npos          5.210943          4.259292          4.259292\n",
       "sample8-4.07_Nneg          5.210943          4.259292          4.259292\n",
       "sample8-4.07_Npos          5.210943          4.259292          4.259292\n",
       "sample8-4.23_Nneg          5.210943          4.259292          4.259292\n",
       "sample8-4.23_Npos          5.210943          4.259292          4.259292\n",
       "                  sample3-3.06_Nneg sample3-3.06_Npos sample3-3.30_Nneg\n",
       "sample8-4.04_Nneg          5.210943          5.210943          4.259292\n",
       "sample8-4.04_Npos          5.210943          5.210943          4.259292\n",
       "sample8-4.07_Nneg          5.210943          5.210943          4.259292\n",
       "sample8-4.07_Npos          5.210943          5.210943          4.259292\n",
       "sample8-4.23_Nneg          5.210943          5.210943          4.259292\n",
       "sample8-4.23_Npos          5.210943          5.210943          4.259292\n",
       "                  sample3-3.30_Npos sample3-4.15_Nneg sample3-4.15_Npos\n",
       "sample8-4.04_Nneg          4.259292          5.210943          5.210943\n",
       "sample8-4.04_Npos          4.259292          5.210943          5.210943\n",
       "sample8-4.07_Nneg          4.259292          5.210943          5.210943\n",
       "sample8-4.07_Npos          4.259292          5.210943          5.210943\n",
       "sample8-4.23_Nneg          4.259292          5.210943          5.210943\n",
       "sample8-4.23_Npos          4.259292          5.210943          5.210943\n",
       "                  sample3-4.18_Nneg sample3-4.18_Npos sample4-1.03_Nneg\n",
       "sample8-4.04_Nneg          4.259292          4.259292           0.31154\n",
       "sample8-4.04_Npos          4.259292          4.259292           0.31154\n",
       "sample8-4.07_Nneg          4.259292          4.259292           0.31154\n",
       "sample8-4.07_Npos          4.259292          4.259292           0.31154\n",
       "sample8-4.23_Nneg          4.259292          4.259292           0.31154\n",
       "sample8-4.23_Npos          4.259292          4.259292           0.31154\n",
       "                  sample4-1.03_Npos sample4-2.02_Nneg sample4-2.02_Npos\n",
       "sample8-4.04_Nneg           0.31154           0.31154           0.31154\n",
       "sample8-4.04_Npos           0.31154           0.31154           0.31154\n",
       "sample8-4.07_Nneg           0.31154           0.31154           0.31154\n",
       "sample8-4.07_Npos           0.31154           0.31154           0.31154\n",
       "sample8-4.23_Nneg           0.31154           0.31154           0.31154\n",
       "sample8-4.23_Npos           0.31154           0.31154           0.31154\n",
       "                  sample4-3.10_Nneg sample4-3.10_Npos sample4-4.21_Nneg\n",
       "sample8-4.04_Nneg           0.31154           0.31154           0.31154\n",
       "sample8-4.04_Npos           0.31154           0.31154           0.31154\n",
       "sample8-4.07_Nneg           0.31154           0.31154           0.31154\n",
       "sample8-4.07_Npos           0.31154           0.31154           0.31154\n",
       "sample8-4.23_Nneg           0.31154           0.31154           0.31154\n",
       "sample8-4.23_Npos           0.31154           0.31154           0.31154\n",
       "                  sample4-4.21_Npos sample5-1.16_Nneg sample5-1.16_Npos\n",
       "sample8-4.04_Nneg           0.31154             8e-04             8e-04\n",
       "sample8-4.04_Npos           0.31154             8e-04             8e-04\n",
       "sample8-4.07_Nneg           0.31154             8e-04             8e-04\n",
       "sample8-4.07_Npos           0.31154             8e-04             8e-04\n",
       "sample8-4.23_Nneg           0.31154             8e-04             8e-04\n",
       "sample8-4.23_Npos           0.31154             8e-04             8e-04\n",
       "                  sample5-1.17_Nneg sample5-1.17_Npos sample5-1.22_Nneg\n",
       "sample8-4.04_Nneg             8e-04             8e-04             8e-04\n",
       "sample8-4.04_Npos             8e-04             8e-04             8e-04\n",
       "sample8-4.07_Nneg             8e-04             8e-04             8e-04\n",
       "sample8-4.07_Npos             8e-04             8e-04             8e-04\n",
       "sample8-4.23_Nneg             8e-04             8e-04             8e-04\n",
       "sample8-4.23_Npos             8e-04             8e-04             8e-04\n",
       "                  sample5-1.22_Npos sample5-1.25_Nneg sample5-1.25_Npos\n",
       "sample8-4.04_Nneg             8e-04             8e-04             8e-04\n",
       "sample8-4.04_Npos             8e-04             8e-04             8e-04\n",
       "sample8-4.07_Nneg             8e-04             8e-04             8e-04\n",
       "sample8-4.07_Npos             8e-04             8e-04             8e-04\n",
       "sample8-4.23_Nneg             8e-04             8e-04             8e-04\n",
       "sample8-4.23_Npos             8e-04             8e-04             8e-04\n",
       "                  sample5-1.29_Nneg sample5-1.29_Npos sample5-2.06_Nneg\n",
       "sample8-4.04_Nneg         0.5132363         0.5132363             8e-04\n",
       "sample8-4.04_Npos         0.5132363         0.5132363             8e-04\n",
       "sample8-4.07_Nneg         0.5132363         0.5132363             8e-04\n",
       "sample8-4.07_Npos         0.5132363         0.5132363             8e-04\n",
       "sample8-4.23_Nneg         0.5132363         0.5132363             8e-04\n",
       "sample8-4.23_Npos         0.5132363         0.5132363             8e-04\n",
       "                  sample5-2.06_Npos sample5-2.11_Nneg sample5-2.11_Npos\n",
       "sample8-4.04_Nneg             8e-04             8e-04             8e-04\n",
       "sample8-4.04_Npos             8e-04             8e-04             8e-04\n",
       "sample8-4.07_Nneg             8e-04             8e-04             8e-04\n",
       "sample8-4.07_Npos             8e-04             8e-04             8e-04\n",
       "sample8-4.23_Nneg             8e-04             8e-04             8e-04\n",
       "sample8-4.23_Npos             8e-04             8e-04             8e-04\n",
       "                  sample5-2.15_Nneg sample5-2.15_Npos sample5-2.18_Nneg\n",
       "sample8-4.04_Nneg             8e-04             8e-04         0.5132363\n",
       "sample8-4.04_Npos             8e-04             8e-04         0.5132363\n",
       "sample8-4.07_Nneg             8e-04             8e-04         0.5132363\n",
       "sample8-4.07_Npos             8e-04             8e-04         0.5132363\n",
       "sample8-4.23_Nneg             8e-04             8e-04         0.5132363\n",
       "sample8-4.23_Npos             8e-04             8e-04         0.5132363\n",
       "                  sample5-2.18_Npos sample5-2.29_Nneg sample5-2.29_Npos\n",
       "sample8-4.04_Nneg         0.5132363             8e-04             8e-04\n",
       "sample8-4.04_Npos         0.5132363             8e-04             8e-04\n",
       "sample8-4.07_Nneg         0.5132363             8e-04             8e-04\n",
       "sample8-4.07_Npos         0.5132363             8e-04             8e-04\n",
       "sample8-4.23_Nneg         0.5132363             8e-04             8e-04\n",
       "sample8-4.23_Npos         0.5132363             8e-04             8e-04\n",
       "                  sample5-3.11_Nneg sample5-3.11_Npos sample5-3.13_Nneg\n",
       "sample8-4.04_Nneg         0.5132363         0.5132363             8e-04\n",
       "sample8-4.04_Npos         0.5132363         0.5132363             8e-04\n",
       "sample8-4.07_Nneg         0.5132363         0.5132363             8e-04\n",
       "sample8-4.07_Npos         0.5132363         0.5132363             8e-04\n",
       "sample8-4.23_Nneg         0.5132363         0.5132363             8e-04\n",
       "sample8-4.23_Npos         0.5132363         0.5132363             8e-04\n",
       "                  sample5-3.13_Npos sample5-3.16_Nneg sample5-3.16_Npos\n",
       "sample8-4.04_Nneg             8e-04             8e-04             8e-04\n",
       "sample8-4.04_Npos             8e-04             8e-04             8e-04\n",
       "sample8-4.07_Nneg             8e-04             8e-04             8e-04\n",
       "sample8-4.07_Npos             8e-04             8e-04             8e-04\n",
       "sample8-4.23_Nneg             8e-04             8e-04             8e-04\n",
       "sample8-4.23_Npos             8e-04             8e-04             8e-04\n",
       "                  sample5-3.17_Nneg sample5-3.17_Npos sample5-3.27_Nneg\n",
       "sample8-4.04_Nneg             8e-04             8e-04             8e-04\n",
       "sample8-4.04_Npos             8e-04             8e-04             8e-04\n",
       "sample8-4.07_Nneg             8e-04             8e-04             8e-04\n",
       "sample8-4.07_Npos             8e-04             8e-04             8e-04\n",
       "sample8-4.23_Nneg             8e-04             8e-04             8e-04\n",
       "sample8-4.23_Npos             8e-04             8e-04             8e-04\n",
       "                  sample5-3.27_Npos sample5-4.05_Nneg sample5-4.05_Npos\n",
       "sample8-4.04_Nneg             8e-04             8e-04             8e-04\n",
       "sample8-4.04_Npos             8e-04             8e-04             8e-04\n",
       "sample8-4.07_Nneg             8e-04             8e-04             8e-04\n",
       "sample8-4.07_Npos             8e-04             8e-04             8e-04\n",
       "sample8-4.23_Nneg             8e-04             8e-04             8e-04\n",
       "sample8-4.23_Npos             8e-04             8e-04             8e-04\n",
       "                  sample5-4.06_Nneg sample5-4.06_Npos sample5-4.08_Nneg\n",
       "sample8-4.04_Nneg         0.5132363         0.5132363             8e-04\n",
       "sample8-4.04_Npos         0.5132363         0.5132363             8e-04\n",
       "sample8-4.07_Nneg         0.5132363         0.5132363             8e-04\n",
       "sample8-4.07_Npos         0.5132363         0.5132363             8e-04\n",
       "sample8-4.23_Nneg         0.5132363         0.5132363             8e-04\n",
       "sample8-4.23_Npos         0.5132363         0.5132363             8e-04\n",
       "                  sample5-4.08_Npos sample5-4.09_Nneg sample5-4.09_Npos\n",
       "sample8-4.04_Nneg             8e-04             8e-04             8e-04\n",
       "sample8-4.04_Npos             8e-04             8e-04             8e-04\n",
       "sample8-4.07_Nneg             8e-04             8e-04             8e-04\n",
       "sample8-4.07_Npos             8e-04             8e-04             8e-04\n",
       "sample8-4.23_Nneg             8e-04             8e-04             8e-04\n",
       "sample8-4.23_Npos             8e-04             8e-04             8e-04\n",
       "                  sample5-4.28_Nneg sample5-4.28_Npos sample6-1.07_Nneg\n",
       "sample8-4.04_Nneg             8e-04             8e-04             8e-04\n",
       "sample8-4.04_Npos             8e-04             8e-04             8e-04\n",
       "sample8-4.07_Nneg             8e-04             8e-04             8e-04\n",
       "sample8-4.07_Npos             8e-04             8e-04             8e-04\n",
       "sample8-4.23_Nneg             8e-04             8e-04             8e-04\n",
       "sample8-4.23_Npos             8e-04             8e-04             8e-04\n",
       "                  sample6-1.07_Npos sample6-1.12_Nneg sample6-1.12_Npos\n",
       "sample8-4.04_Nneg             8e-04             8e-04             8e-04\n",
       "sample8-4.04_Npos             8e-04             8e-04             8e-04\n",
       "sample8-4.07_Nneg             8e-04             8e-04             8e-04\n",
       "sample8-4.07_Npos             8e-04             8e-04             8e-04\n",
       "sample8-4.23_Nneg             8e-04             8e-04             8e-04\n",
       "sample8-4.23_Npos             8e-04             8e-04             8e-04\n",
       "                  sample6-1.15_Nneg sample6-1.15_Npos sample6-1.18_Nneg\n",
       "sample8-4.04_Nneg             8e-04             8e-04             8e-04\n",
       "sample8-4.04_Npos             8e-04             8e-04             8e-04\n",
       "sample8-4.07_Nneg             8e-04             8e-04             8e-04\n",
       "sample8-4.07_Npos             8e-04             8e-04             8e-04\n",
       "sample8-4.23_Nneg             8e-04             8e-04             8e-04\n",
       "sample8-4.23_Npos             8e-04             8e-04             8e-04\n",
       "                  sample6-1.18_Npos sample6-2.13_Nneg sample6-2.13_Npos\n",
       "sample8-4.04_Nneg             8e-04             8e-04             8e-04\n",
       "sample8-4.04_Npos             8e-04             8e-04             8e-04\n",
       "sample8-4.07_Nneg             8e-04             8e-04             8e-04\n",
       "sample8-4.07_Npos             8e-04             8e-04             8e-04\n",
       "sample8-4.23_Nneg             8e-04             8e-04             8e-04\n",
       "sample8-4.23_Npos             8e-04             8e-04             8e-04\n",
       "                  sample6-2.14_Nneg sample6-2.14_Npos sample6-2.16_Nneg\n",
       "sample8-4.04_Nneg             8e-04             8e-04             8e-04\n",
       "sample8-4.04_Npos             8e-04             8e-04             8e-04\n",
       "sample8-4.07_Nneg             8e-04             8e-04             8e-04\n",
       "sample8-4.07_Npos             8e-04             8e-04             8e-04\n",
       "sample8-4.23_Nneg             8e-04             8e-04             8e-04\n",
       "sample8-4.23_Npos             8e-04             8e-04             8e-04\n",
       "                  sample6-2.16_Npos sample6-2.26_Nneg sample6-2.26_Npos\n",
       "sample8-4.04_Nneg             8e-04             8e-04             8e-04\n",
       "sample8-4.04_Npos             8e-04             8e-04             8e-04\n",
       "sample8-4.07_Nneg             8e-04             8e-04             8e-04\n",
       "sample8-4.07_Npos             8e-04             8e-04             8e-04\n",
       "sample8-4.23_Nneg             8e-04             8e-04             8e-04\n",
       "sample8-4.23_Npos             8e-04             8e-04             8e-04\n",
       "                  sample6-3.01_Nneg sample6-3.01_Npos sample6-3.04_Nneg\n",
       "sample8-4.04_Nneg             8e-04             8e-04             8e-04\n",
       "sample8-4.04_Npos             8e-04             8e-04             8e-04\n",
       "sample8-4.07_Nneg             8e-04             8e-04             8e-04\n",
       "sample8-4.07_Npos             8e-04             8e-04             8e-04\n",
       "sample8-4.23_Nneg             8e-04             8e-04             8e-04\n",
       "sample8-4.23_Npos             8e-04             8e-04             8e-04\n",
       "                  sample6-3.04_Npos sample6-3.09_Nneg sample6-3.09_Npos\n",
       "sample8-4.04_Nneg             8e-04             8e-04             8e-04\n",
       "sample8-4.04_Npos             8e-04             8e-04             8e-04\n",
       "sample8-4.07_Nneg             8e-04             8e-04             8e-04\n",
       "sample8-4.07_Npos             8e-04             8e-04             8e-04\n",
       "sample8-4.23_Nneg             8e-04             8e-04             8e-04\n",
       "sample8-4.23_Npos             8e-04             8e-04             8e-04\n",
       "                  sample6-3.18_Nneg sample6-3.18_Npos sample6-4.12_Nneg\n",
       "sample8-4.04_Nneg             8e-04             8e-04             8e-04\n",
       "sample8-4.04_Npos             8e-04             8e-04             8e-04\n",
       "sample8-4.07_Nneg             8e-04             8e-04             8e-04\n",
       "sample8-4.07_Npos             8e-04             8e-04             8e-04\n",
       "sample8-4.23_Nneg             8e-04             8e-04             8e-04\n",
       "sample8-4.23_Npos             8e-04             8e-04             8e-04\n",
       "                  sample6-4.12_Npos sample6-4.13_Nneg sample6-4.13_Npos\n",
       "sample8-4.04_Nneg             8e-04             8e-04             8e-04\n",
       "sample8-4.04_Npos             8e-04             8e-04             8e-04\n",
       "sample8-4.07_Nneg             8e-04             8e-04             8e-04\n",
       "sample8-4.07_Npos             8e-04             8e-04             8e-04\n",
       "sample8-4.23_Nneg             8e-04             8e-04             8e-04\n",
       "sample8-4.23_Npos             8e-04             8e-04             8e-04\n",
       "                  sample6-4.17_Nneg sample6-4.17_Npos sample6-4.30_Nneg\n",
       "sample8-4.04_Nneg             8e-04             8e-04             8e-04\n",
       "sample8-4.04_Npos             8e-04             8e-04             8e-04\n",
       "sample8-4.07_Nneg             8e-04             8e-04             8e-04\n",
       "sample8-4.07_Npos             8e-04             8e-04             8e-04\n",
       "sample8-4.23_Nneg             8e-04             8e-04             8e-04\n",
       "sample8-4.23_Npos             8e-04             8e-04             8e-04\n",
       "                  sample6-4.30_Npos sample7-1.04_Nneg sample7-1.04_Npos\n",
       "sample8-4.04_Nneg             8e-04         0.1187458         0.1187458\n",
       "sample8-4.04_Npos             8e-04         0.1187458         0.1187458\n",
       "sample8-4.07_Nneg             8e-04         0.1187458         0.1187458\n",
       "sample8-4.07_Npos             8e-04         0.1187458         0.1187458\n",
       "sample8-4.23_Nneg             8e-04         0.1187458         0.1187458\n",
       "sample8-4.23_Npos             8e-04         0.1187458         0.1187458\n",
       "                  sample7-1.13_Nneg sample7-1.13_Npos sample7-1.28_Nneg\n",
       "sample8-4.04_Nneg         0.1187458         0.1187458           4.27248\n",
       "sample8-4.04_Npos         0.1187458         0.1187458           4.27248\n",
       "sample8-4.07_Nneg         0.1187458         0.1187458           4.27248\n",
       "sample8-4.07_Npos         0.1187458         0.1187458           4.27248\n",
       "sample8-4.23_Nneg         0.1187458         0.1187458           4.27248\n",
       "sample8-4.23_Npos         0.1187458         0.1187458           4.27248\n",
       "                  sample7-1.28_Npos sample7-2.12_Nneg sample7-2.12_Npos\n",
       "sample8-4.04_Nneg           4.27248           4.27248           4.27248\n",
       "sample8-4.04_Npos           4.27248           4.27248           4.27248\n",
       "sample8-4.07_Nneg           4.27248           4.27248           4.27248\n",
       "sample8-4.07_Npos           4.27248           4.27248           4.27248\n",
       "sample8-4.23_Nneg           4.27248           4.27248           4.27248\n",
       "sample8-4.23_Npos           4.27248           4.27248           4.27248\n",
       "                  sample7-2.28_Nneg sample7-2.28_Npos sample7-2.30_Nneg\n",
       "sample8-4.04_Nneg         0.1187458         0.1187458         0.1187458\n",
       "sample8-4.04_Npos         0.1187458         0.1187458         0.1187458\n",
       "sample8-4.07_Nneg         0.1187458         0.1187458         0.1187458\n",
       "sample8-4.07_Npos         0.1187458         0.1187458         0.1187458\n",
       "sample8-4.23_Nneg         0.1187458         0.1187458         0.1187458\n",
       "sample8-4.23_Npos         0.1187458         0.1187458         0.1187458\n",
       "                  sample7-2.30_Npos sample7-3.12_Nneg sample7-3.12_Npos\n",
       "sample8-4.04_Nneg         0.1187458           4.27248           4.27248\n",
       "sample8-4.04_Npos         0.1187458           4.27248           4.27248\n",
       "sample8-4.07_Nneg         0.1187458           4.27248           4.27248\n",
       "sample8-4.07_Npos         0.1187458           4.27248           4.27248\n",
       "sample8-4.23_Nneg         0.1187458           4.27248           4.27248\n",
       "sample8-4.23_Npos         0.1187458           4.27248           4.27248\n",
       "                  sample7-3.19_Nneg sample7-3.19_Npos sample7-3.25_Nneg\n",
       "sample8-4.04_Nneg         0.1187458         0.1187458         0.1187458\n",
       "sample8-4.04_Npos         0.1187458         0.1187458         0.1187458\n",
       "sample8-4.07_Nneg         0.1187458         0.1187458         0.1187458\n",
       "sample8-4.07_Npos         0.1187458         0.1187458         0.1187458\n",
       "sample8-4.23_Nneg         0.1187458         0.1187458         0.1187458\n",
       "sample8-4.23_Npos         0.1187458         0.1187458         0.1187458\n",
       "                  sample7-3.25_Npos sample7-4.02_Nneg sample7-4.02_Npos\n",
       "sample8-4.04_Nneg         0.1187458         0.1187458         0.1187458\n",
       "sample8-4.04_Npos         0.1187458         0.1187458         0.1187458\n",
       "sample8-4.07_Nneg         0.1187458         0.1187458         0.1187458\n",
       "sample8-4.07_Npos         0.1187458         0.1187458         0.1187458\n",
       "sample8-4.23_Nneg         0.1187458         0.1187458         0.1187458\n",
       "sample8-4.23_Npos         0.1187458         0.1187458         0.1187458\n",
       "                  sample7-4.03_Nneg sample7-4.03_Npos sample7-4.14_Nneg\n",
       "sample8-4.04_Nneg           4.27248           4.27248         0.1187458\n",
       "sample8-4.04_Npos           4.27248           4.27248         0.1187458\n",
       "sample8-4.07_Nneg           4.27248           4.27248         0.1187458\n",
       "sample8-4.07_Npos           4.27248           4.27248         0.1187458\n",
       "sample8-4.23_Nneg           4.27248           4.27248         0.1187458\n",
       "sample8-4.23_Npos           4.27248           4.27248         0.1187458\n",
       "                  sample7-4.14_Npos sample8-1.10_Nneg sample8-1.10_Npos\n",
       "sample8-4.04_Nneg         0.1187458             0e+00             0e+00\n",
       "sample8-4.04_Npos         0.1187458             0e+00             0e+00\n",
       "sample8-4.07_Nneg         0.1187458             8e-04             8e-04\n",
       "sample8-4.07_Npos         0.1187458             8e-04             8e-04\n",
       "sample8-4.23_Nneg         0.1187458             8e-04             8e-04\n",
       "sample8-4.23_Npos         0.1187458             8e-04             8e-04\n",
       "                  sample8-1.14_Nneg sample8-1.14_Npos sample8-1.19_Nneg\n",
       "sample8-4.04_Nneg             8e-04             8e-04         0.5271025\n",
       "sample8-4.04_Npos             8e-04             8e-04         0.5271025\n",
       "sample8-4.07_Nneg             0e+00             0e+00         0.5271025\n",
       "sample8-4.07_Npos             0e+00             0e+00         0.5271025\n",
       "sample8-4.23_Nneg             8e-04             8e-04         0.5271025\n",
       "sample8-4.23_Npos             8e-04             8e-04         0.5271025\n",
       "                  sample8-1.19_Npos sample8-1.23_Nneg sample8-1.23_Npos\n",
       "sample8-4.04_Nneg         0.5271025             8e-04             8e-04\n",
       "sample8-4.04_Npos         0.5271025             8e-04             8e-04\n",
       "sample8-4.07_Nneg         0.5271025             8e-04             8e-04\n",
       "sample8-4.07_Npos         0.5271025             8e-04             8e-04\n",
       "sample8-4.23_Nneg         0.5271025             0e+00             0e+00\n",
       "sample8-4.23_Npos         0.5271025             0e+00             0e+00\n",
       "                  sample8-2.07_Nneg sample8-2.07_Npos sample8-2.17_Nneg\n",
       "sample8-4.04_Nneg         0.5271025         0.5271025             0e+00\n",
       "sample8-4.04_Npos         0.5271025         0.5271025             0e+00\n",
       "sample8-4.07_Nneg         0.5271025         0.5271025             8e-04\n",
       "sample8-4.07_Npos         0.5271025         0.5271025             8e-04\n",
       "sample8-4.23_Nneg         0.5271025         0.5271025             8e-04\n",
       "sample8-4.23_Npos         0.5271025         0.5271025             8e-04\n",
       "                  sample8-2.17_Npos sample8-2.22_Nneg sample8-2.22_Npos\n",
       "sample8-4.04_Nneg             0e+00             8e-04             8e-04\n",
       "sample8-4.04_Npos             0e+00             8e-04             8e-04\n",
       "sample8-4.07_Nneg             8e-04             0e+00             0e+00\n",
       "sample8-4.07_Npos             8e-04             0e+00             0e+00\n",
       "sample8-4.23_Nneg             8e-04             8e-04             8e-04\n",
       "sample8-4.23_Npos             8e-04             8e-04             8e-04\n",
       "                  sample8-2.25_Nneg sample8-2.25_Npos sample8-3.03_Nneg\n",
       "sample8-4.04_Nneg             8e-04             8e-04         0.5271025\n",
       "sample8-4.04_Npos             8e-04             8e-04         0.5271025\n",
       "sample8-4.07_Nneg             8e-04             8e-04         0.5271025\n",
       "sample8-4.07_Npos             8e-04             8e-04         0.5271025\n",
       "sample8-4.23_Nneg             0e+00             0e+00         0.5271025\n",
       "sample8-4.23_Npos             0e+00             0e+00         0.5271025\n",
       "                  sample8-3.03_Npos sample8-3.23_Nneg sample8-3.23_Npos\n",
       "sample8-4.04_Nneg         0.5271025             0e+00             0e+00\n",
       "sample8-4.04_Npos         0.5271025             0e+00             0e+00\n",
       "sample8-4.07_Nneg         0.5271025             8e-04             8e-04\n",
       "sample8-4.07_Npos         0.5271025             8e-04             8e-04\n",
       "sample8-4.23_Nneg         0.5271025             8e-04             8e-04\n",
       "sample8-4.23_Npos         0.5271025             8e-04             8e-04\n",
       "                  sample8-3.28_Nneg sample8-3.28_Npos sample8-3.29_Nneg\n",
       "sample8-4.04_Nneg             8e-04             8e-04             8e-04\n",
       "sample8-4.04_Npos             8e-04             8e-04             8e-04\n",
       "sample8-4.07_Nneg             0e+00             0e+00             8e-04\n",
       "sample8-4.07_Npos             0e+00             0e+00             8e-04\n",
       "sample8-4.23_Nneg             8e-04             8e-04             0e+00\n",
       "sample8-4.23_Npos             8e-04             8e-04             0e+00\n",
       "                  sample8-3.29_Npos sample8-4.01_Nneg sample8-4.01_Npos\n",
       "sample8-4.04_Nneg             8e-04         0.5271025         0.5271025\n",
       "sample8-4.04_Npos             8e-04         0.5271025         0.5271025\n",
       "sample8-4.07_Nneg             8e-04         0.5271025         0.5271025\n",
       "sample8-4.07_Npos             8e-04         0.5271025         0.5271025\n",
       "sample8-4.23_Nneg             0e+00         0.5271025         0.5271025\n",
       "sample8-4.23_Npos             0e+00         0.5271025         0.5271025\n",
       "                  sample8-4.04_Nneg sample8-4.04_Npos sample8-4.07_Nneg\n",
       "sample8-4.04_Nneg             0e+00             0e+00             8e-04\n",
       "sample8-4.04_Npos             0e+00             0e+00             8e-04\n",
       "sample8-4.07_Nneg             8e-04             8e-04             0e+00\n",
       "sample8-4.07_Npos             8e-04             8e-04             0e+00\n",
       "sample8-4.23_Nneg             8e-04             8e-04             8e-04\n",
       "sample8-4.23_Npos             8e-04             8e-04             8e-04\n",
       "                  sample8-4.07_Npos sample8-4.23_Nneg sample8-4.23_Npos\n",
       "sample8-4.04_Nneg             8e-04             8e-04             8e-04\n",
       "sample8-4.04_Npos             8e-04             8e-04             8e-04\n",
       "sample8-4.07_Nneg             0e+00             8e-04             8e-04\n",
       "sample8-4.07_Npos             0e+00             8e-04             8e-04\n",
       "sample8-4.23_Nneg             8e-04             0e+00             0e+00\n",
       "sample8-4.23_Npos             8e-04             0e+00             0e+00\n"
      ]
     },
     "metadata": {},
     "output_type": "display_data"
    }
   ],
   "source": [
    "%%R\n",
    "#check congruence\n",
    "Phydist %>% as.matrix %>% tail\n"
   ]
  },
  {
   "cell_type": "code",
   "execution_count": 203,
   "metadata": {
    "collapsed": false
   },
   "outputs": [
    {
     "data": {
      "text/plain": [
       "                  sample1-1.27_Nneg sample1-1.27_Npos sample1-2.23_Nneg\n",
       "sample8-4.04_Nneg         1.4593762         1.2416670         1.2999777\n",
       "sample8-4.04_Npos         1.4173329         1.2156069         1.2678451\n",
       "sample8-4.07_Nneg         1.0757121         0.5071374         0.7086705\n",
       "sample8-4.07_Npos         0.9246614         0.4132681         0.5269848\n",
       "sample8-4.23_Nneg         1.3535248         0.9130161         1.0535161\n",
       "sample8-4.23_Npos         1.0803858         1.0543128         1.0967538\n",
       "                  sample1-2.23_Npos sample1-3.08_Nneg sample1-3.08_Npos\n",
       "sample8-4.04_Nneg         1.2825385         1.4122720         1.4341159\n",
       "sample8-4.04_Npos         1.2534317         1.3771385         1.3977413\n",
       "sample8-4.07_Nneg         0.6588443         0.8774782         0.8399237\n",
       "sample8-4.07_Npos         0.4615399         0.7033234         0.6651700\n",
       "sample8-4.23_Nneg         1.0114401         1.2244247         1.2136987\n",
       "sample8-4.23_Npos         1.1229101         1.1458771         1.1422572\n",
       "                  sample1-4.24_Nneg sample1-4.24_Npos sample2-1.08_Nneg\n",
       "sample8-4.04_Nneg         1.3475487         1.4787757         0.8878663\n",
       "sample8-4.04_Npos         1.3048458         1.4406154         0.8805067\n",
       "sample8-4.07_Nneg         1.0627592         1.0094442         1.2608580\n",
       "sample8-4.07_Npos         0.8990795         0.8399286         1.3408882\n",
       "sample8-4.23_Nneg         1.2636682         1.3334924         1.0567205\n",
       "sample8-4.23_Npos         1.0207305         1.1327854         0.8571192\n",
       "                  sample2-1.08_Npos sample2-1.24_Nneg sample2-1.24_Npos\n",
       "sample8-4.04_Nneg          1.311937         1.4256920          1.449790\n",
       "sample8-4.04_Npos          1.327130         1.4358953          1.452781\n",
       "sample8-4.07_Nneg          1.172699         0.7999614          1.191408\n",
       "sample8-4.07_Npos          1.260186         0.7478561          1.228219\n",
       "sample8-4.23_Nneg          1.270322         1.1819640          1.374840\n",
       "sample8-4.23_Npos          1.132874         1.2124857          1.138528\n",
       "                  sample2-2.08_Nneg sample2-2.08_Npos sample2-2.10_Nneg\n",
       "sample8-4.04_Nneg          1.460320         1.1442814          1.123380\n",
       "sample8-4.04_Npos          1.468955         1.1322106          1.098695\n",
       "sample8-4.07_Nneg          0.899394         0.4825846          1.492382\n",
       "sample8-4.07_Npos          0.965771         0.6310878          1.479554\n",
       "sample8-4.23_Nneg          1.222978         0.7648796          1.350703\n",
       "sample8-4.23_Npos          1.259639         1.1681754          0.842158\n",
       "                  sample2-2.10_Npos sample2-3.05_Nneg sample2-3.05_Npos\n",
       "sample8-4.04_Nneg         1.0742771          1.619355         1.3774632\n",
       "sample8-4.04_Npos         1.0413663          1.615033         1.3743444\n",
       "sample8-4.07_Nneg         0.3939306          1.189965         0.5259444\n",
       "sample8-4.07_Npos         0.5211890          1.199776         0.5920832\n",
       "sample8-4.23_Nneg         0.6568997          1.472525         0.9848368\n",
       "sample8-4.23_Npos         1.0400159          1.287137         1.2818337\n",
       "                  sample2-3.20_Nneg sample2-3.20_Npos sample2-4.25_Nneg\n",
       "sample8-4.04_Nneg         1.4230118         1.4417525          1.654172\n",
       "sample8-4.04_Npos         1.4141012         1.4335663          1.654360\n",
       "sample8-4.07_Nneg         0.6723464         0.8370768          1.379422\n",
       "sample8-4.07_Npos         0.6140350         0.8444385          1.379821\n",
       "sample8-4.23_Nneg         1.1052972         1.1939569          1.602528\n",
       "sample8-4.23_Npos         1.1903296         1.2062588          1.276217\n",
       "                  sample2-4.25_Npos sample3-1.09_Nneg sample3-1.09_Npos\n",
       "sample8-4.04_Nneg          1.512179         1.1475236         1.1174556\n",
       "sample8-4.04_Npos          1.499926         1.1779868         1.1058465\n",
       "sample8-4.07_Nneg          1.025165         0.7457319         0.7450653\n",
       "sample8-4.07_Npos          1.011774         0.8956496         0.8689978\n",
       "sample8-4.23_Nneg          1.336956         0.9134777         0.8856590\n",
       "sample8-4.23_Npos          1.159695         1.1728534         1.1011962\n",
       "                  sample3-1.20_Nneg sample3-1.20_Npos sample3-2.03_Nneg\n",
       "sample8-4.04_Nneg         1.1154236         1.1711088          2.401169\n",
       "sample8-4.04_Npos         1.0857793         1.1485928          2.385522\n",
       "sample8-4.07_Nneg         0.5456446         0.5018906          2.518158\n",
       "sample8-4.07_Npos         0.3958959         0.3461406          2.475589\n",
       "sample8-4.23_Nneg         0.7879685         0.8263753          2.592060\n",
       "sample8-4.23_Npos         1.0110911         1.0506842          1.929619\n",
       "                  sample3-2.03_Npos sample3-2.19_Nneg sample3-2.19_Npos\n",
       "sample8-4.04_Nneg          1.482245         1.3169541         1.4754001\n",
       "sample8-4.04_Npos          1.479942         1.3242338         1.4617455\n",
       "sample8-4.07_Nneg          1.252929         0.7919525         0.9774446\n",
       "sample8-4.07_Npos          1.236498         0.8893599         0.9422353\n",
       "sample8-4.23_Nneg          1.439747         1.0612923         1.2900055\n",
       "sample8-4.23_Npos          1.200647         1.2054000         1.1441885\n",
       "                  sample3-3.06_Nneg sample3-3.06_Npos sample3-3.30_Nneg\n",
       "sample8-4.04_Nneg          1.623836          3.369052         1.3194113\n",
       "sample8-4.04_Npos          1.614693          3.347600         1.3070822\n",
       "sample8-4.07_Nneg          1.723754          3.696011         0.8478228\n",
       "sample8-4.07_Npos          1.699386          3.659005         0.8584672\n",
       "sample8-4.23_Nneg          1.773096          3.675625         1.1039030\n",
       "sample8-4.23_Npos          1.265586          2.905363         1.0226341\n",
       "                  sample3-3.30_Npos sample3-4.15_Nneg sample3-4.15_Npos\n",
       "sample8-4.04_Nneg          1.879813         1.3252660          2.048966\n",
       "sample8-4.04_Npos          1.839443         1.3301539          2.041660\n",
       "sample8-4.07_Nneg          2.321313         0.9402196          2.089251\n",
       "sample8-4.07_Npos          2.286393         0.9954239          2.066900\n",
       "sample8-4.23_Nneg          2.183494         1.1580750          2.186771\n",
       "sample8-4.23_Npos          1.466051         1.1525871          1.566982\n",
       "                  sample3-4.18_Nneg sample3-4.18_Npos sample4-1.03_Nneg\n",
       "sample8-4.04_Nneg          1.672726          1.493823         1.3001507\n",
       "sample8-4.04_Npos          1.664728          1.477522         1.3008246\n",
       "sample8-4.07_Nneg          1.597745          1.169181         0.7137307\n",
       "sample8-4.07_Npos          1.580514          1.184408         0.7180692\n",
       "sample8-4.23_Nneg          1.724998          1.385549         1.0865743\n",
       "sample8-4.23_Npos          1.276595          1.151698         1.1723795\n",
       "                  sample4-1.03_Npos sample4-2.02_Nneg sample4-2.02_Npos\n",
       "sample8-4.04_Nneg         1.3894933         1.4101250         1.5216607\n",
       "sample8-4.04_Npos         1.3663805         1.4266047         1.5239893\n",
       "sample8-4.07_Nneg         0.6883268         0.9000246         0.8747751\n",
       "sample8-4.07_Npos         0.6670276         0.8989348         0.8387859\n",
       "sample8-4.23_Nneg         1.1215600         1.2480875         1.2869638\n",
       "sample8-4.23_Npos         1.1856432         1.2048644         1.2830933\n",
       "                  sample4-3.10_Nneg sample4-3.10_Npos sample4-4.21_Nneg\n",
       "sample8-4.04_Nneg         1.5253198         1.5662520         1.5381998\n",
       "sample8-4.04_Npos         1.5302573         1.5445576         1.5357414\n",
       "sample8-4.07_Nneg         0.6608340         1.0027662         0.7655064\n",
       "sample8-4.07_Npos         0.6647375         0.8678316         0.6770725\n",
       "sample8-4.23_Nneg         1.1790362         1.3921816         1.2541023\n",
       "sample8-4.23_Npos         1.4013872         1.2485702         1.3256689\n",
       "                  sample4-4.21_Npos sample5-1.16_Nneg sample5-1.16_Npos\n",
       "sample8-4.04_Nneg          1.686914         0.6121107         0.8368872\n",
       "sample8-4.04_Npos          1.680958         0.5677353         0.8334991\n",
       "sample8-4.07_Nneg          1.212775         1.1362949         0.5768739\n",
       "sample8-4.07_Npos          1.162218         1.1824206         0.6769291\n",
       "sample8-4.23_Nneg          1.560542         0.7946950         0.5543069\n",
       "sample8-4.23_Npos          1.355268         0.7976016         1.0354935\n",
       "                  sample5-1.17_Nneg sample5-1.17_Npos sample5-1.22_Nneg\n",
       "sample8-4.04_Nneg         1.0400348         1.1621552         1.4213877\n",
       "sample8-4.04_Npos         1.0057715         1.1824374         1.4096083\n",
       "sample8-4.07_Nneg         0.9386690         0.4594330         0.6806426\n",
       "sample8-4.07_Npos         0.8101891         0.5478471         0.5573696\n",
       "sample8-4.23_Nneg         0.9788870         0.8127926         1.1417601\n",
       "sample8-4.23_Npos         0.8487323         1.2305367         1.2545483\n",
       "                  sample5-1.22_Npos sample5-1.25_Nneg sample5-1.25_Npos\n",
       "sample8-4.04_Nneg         1.3940986          1.708526          1.900658\n",
       "sample8-4.04_Npos         1.4043175          1.712206          1.889726\n",
       "sample8-4.07_Nneg         0.8201599          1.230165          1.723447\n",
       "sample8-4.07_Npos         0.8480222          1.160861          1.648615\n",
       "sample8-4.23_Nneg         1.1580890          1.586141          1.941448\n",
       "sample8-4.23_Npos         1.2546778          1.365993          1.470472\n",
       "                  sample5-1.29_Nneg sample5-1.29_Npos sample5-2.06_Nneg\n",
       "sample8-4.04_Nneg         1.5657618          1.669841         1.2124494\n",
       "sample8-4.04_Npos         1.5644824          1.676626         1.2160556\n",
       "sample8-4.07_Nneg         0.8318154          1.321868         0.3809752\n",
       "sample8-4.07_Npos         0.7843411          1.314338         0.4484698\n",
       "sample8-4.23_Nneg         1.2854298          1.585973         0.7902431\n",
       "sample8-4.23_Npos         1.3259239          1.324313         1.3001779\n",
       "                  sample5-2.06_Npos sample5-2.11_Nneg sample5-2.11_Npos\n",
       "sample8-4.04_Nneg         1.1381113         0.8095989         0.9523219\n",
       "sample8-4.04_Npos         1.1358196         0.7803875         0.9791271\n",
       "sample8-4.07_Nneg         0.3485932         0.5508150         0.4615503\n",
       "sample8-4.07_Npos         0.4168804         0.6155208         0.6202341\n",
       "sample8-4.23_Nneg         0.6798494         0.4081695         0.4641738\n",
       "sample8-4.23_Npos         1.1255707         1.0340982         1.1896140\n",
       "                  sample5-2.15_Nneg sample5-2.15_Npos sample5-2.18_Nneg\n",
       "sample8-4.04_Nneg         1.5901694         1.4464720          1.738512\n",
       "sample8-4.04_Npos         1.5894063         1.4456149          1.734631\n",
       "sample8-4.07_Nneg         0.7109449         0.5638972          1.170500\n",
       "sample8-4.07_Npos         0.6582678         0.4698578          1.102019\n",
       "sample8-4.23_Nneg         1.2488079         1.1005532          1.564200\n",
       "sample8-4.23_Npos         1.4373513         1.3515500          1.369952\n",
       "                  sample5-2.18_Npos sample5-2.29_Nneg sample5-2.29_Npos\n",
       "sample8-4.04_Nneg         1.5385582         1.2450503         1.5102033\n",
       "sample8-4.04_Npos         1.5310603         1.2459438         1.5071660\n",
       "sample8-4.07_Nneg         0.6652906         0.3134827         0.6708807\n",
       "sample8-4.07_Npos         0.5819569         0.3872995         0.5493141\n",
       "sample8-4.23_Nneg         1.2051128         0.7879225         1.1913652\n",
       "sample8-4.23_Npos         1.3194418         1.3325001         1.3399645\n",
       "                  sample5-3.11_Nneg sample5-3.11_Npos sample5-3.13_Nneg\n",
       "sample8-4.04_Nneg          1.794219         1.5734971         1.0154857\n",
       "sample8-4.04_Npos          1.784422         1.5561423         1.0482484\n",
       "sample8-4.07_Nneg          1.308015         1.0556910         0.3984052\n",
       "sample8-4.07_Npos          1.206634         0.9034767         0.5439165\n",
       "sample8-4.23_Nneg          1.668576         1.4168257         0.5960050\n",
       "sample8-4.23_Npos          1.386221         1.1792539         1.2235824\n",
       "                  sample5-3.13_Npos sample5-3.16_Nneg sample5-3.16_Npos\n",
       "sample8-4.04_Nneg         1.2131293         0.5381094         0.7104426\n",
       "sample8-4.04_Npos         1.2293085         0.5885195         0.6830561\n",
       "sample8-4.07_Nneg         0.3630239         0.8124734         1.6838174\n",
       "sample8-4.07_Npos         0.4852806         0.9835473         1.7498926\n",
       "sample8-4.23_Nneg         0.8035706         0.3647730         1.2096022\n",
       "sample8-4.23_Npos         1.2664440         0.9931743         1.0218753\n",
       "                  sample5-3.17_Nneg sample5-3.17_Npos sample5-3.27_Nneg\n",
       "sample8-4.04_Nneg          1.730571          1.628564         1.2956829\n",
       "sample8-4.04_Npos          1.731459          1.615958         1.3143668\n",
       "sample8-4.07_Nneg          1.381257          1.139993         0.4216721\n",
       "sample8-4.07_Npos          1.315256          1.086653         0.4812276\n",
       "sample8-4.23_Nneg          1.672707          1.481493         0.9194065\n",
       "sample8-4.23_Npos          1.361938          1.267822         1.3063043\n",
       "                  sample5-3.27_Npos sample5-4.05_Nneg sample5-4.05_Npos\n",
       "sample8-4.04_Nneg         1.2143416         0.8572359         0.2279015\n",
       "sample8-4.04_Npos         1.2157490         0.8400514         0.3449018\n",
       "sample8-4.07_Nneg         0.3036621         0.4687315         1.2006219\n",
       "sample8-4.07_Npos         0.3225536         0.5518006         1.3048808\n",
       "sample8-4.23_Nneg         0.7929330         0.4385934         0.6973231\n",
       "sample8-4.23_Npos         1.2524061         1.0652414         0.7701327\n",
       "                  sample5-4.06_Nneg sample5-4.06_Npos sample5-4.08_Nneg\n",
       "sample8-4.04_Nneg         1.4639736          1.399261         0.8972091\n",
       "sample8-4.04_Npos         1.4398961          1.363123         0.9113977\n",
       "sample8-4.07_Nneg         0.9040505          1.275788         0.4684646\n",
       "sample8-4.07_Npos         0.7236195          1.120610         0.6418954\n",
       "sample8-4.23_Nneg         1.2759867          1.410977         0.4474225\n",
       "sample8-4.23_Npos         1.1490458          0.996706         1.1772563\n",
       "                  sample5-4.08_Npos sample5-4.09_Nneg sample5-4.09_Npos\n",
       "sample8-4.04_Nneg         1.3554397          1.769653         1.5376473\n",
       "sample8-4.04_Npos         1.3552852          1.761657         1.5347488\n",
       "sample8-4.07_Nneg         0.4450856          1.387757         0.6311363\n",
       "sample8-4.07_Npos         0.5217113          1.282823         0.5660296\n",
       "sample8-4.23_Nneg         0.9423955          1.706521         1.1809902\n",
       "sample8-4.23_Npos         1.3348080          1.386066         1.3663807\n",
       "                  sample5-4.28_Nneg sample5-4.28_Npos sample6-1.07_Nneg\n",
       "sample8-4.04_Nneg         1.5517535         1.3230641         0.8150435\n",
       "sample8-4.04_Npos         1.5443167         1.3010433         0.8608489\n",
       "sample8-4.07_Nneg         0.8309046         0.4713613         0.6438557\n",
       "sample8-4.07_Npos         0.7129426         0.3142385         0.8493825\n",
       "sample8-4.23_Nneg         1.2906181         0.9614353         0.5192686\n",
       "sample8-4.23_Npos         1.2623132         1.1863492         1.0399965\n",
       "                  sample6-1.07_Npos sample6-1.12_Nneg sample6-1.12_Npos\n",
       "sample8-4.04_Nneg         1.1981255         0.8970787         0.9331148\n",
       "sample8-4.04_Npos         1.1872027         0.9496777         0.9982377\n",
       "sample8-4.07_Nneg         0.5648165         0.7396656         0.9605008\n",
       "sample8-4.07_Npos         0.6523113         0.9046842         1.0909533\n",
       "sample8-4.23_Nneg         0.9028581         0.7483928         0.9430918\n",
       "sample8-4.23_Npos         1.1812575         1.0462514         0.9766495\n",
       "                  sample6-1.15_Nneg sample6-1.15_Npos sample6-1.18_Nneg\n",
       "sample8-4.04_Nneg         0.7913568         0.9143449         0.5373869\n",
       "sample8-4.04_Npos         0.8441193         0.9647626         0.5981279\n",
       "sample8-4.07_Nneg         0.5757715         0.6011866         0.8297140\n",
       "sample8-4.07_Npos         0.7364280         0.7876673         0.9674985\n",
       "sample8-4.23_Nneg         0.4512122         0.6360642         0.4207798\n",
       "sample8-4.23_Npos         1.0697288         1.0985678         0.8481987\n",
       "                  sample6-1.18_Npos sample6-2.13_Nneg sample6-2.13_Npos\n",
       "sample8-4.04_Nneg         0.5363084         0.5796581         0.8708526\n",
       "sample8-4.04_Npos         0.6360974         0.6376333         0.9115811\n",
       "sample8-4.07_Nneg         0.8335120         0.7666813         0.5159579\n",
       "sample8-4.07_Npos         0.9775982         0.9125316         0.7120529\n",
       "sample8-4.23_Nneg         0.5348826         0.3169526         0.4552198\n",
       "sample8-4.23_Npos         0.8710846         0.9309589         1.0637480\n",
       "                  sample6-2.14_Nneg sample6-2.14_Npos sample6-2.16_Nneg\n",
       "sample8-4.04_Nneg         1.1863580         1.0301552         0.5736526\n",
       "sample8-4.04_Npos         1.1518586         1.0420094         0.5696893\n",
       "sample8-4.07_Nneg         0.5653743         0.5266037         0.7847990\n",
       "sample8-4.07_Npos         0.6695077         0.7099312         0.9337588\n",
       "sample8-4.23_Nneg         0.9075261         0.6919914         0.4809516\n",
       "sample8-4.23_Npos         1.0940174         1.0868131         0.9418635\n",
       "                  sample6-2.16_Npos sample6-2.26_Nneg sample6-2.26_Npos\n",
       "sample8-4.04_Nneg         0.7724490         0.8907009         0.9352061\n",
       "sample8-4.04_Npos         0.7457085         0.9065876         0.9901817\n",
       "sample8-4.07_Nneg         0.5982011         0.4882169         0.7155179\n",
       "sample8-4.07_Npos         0.7057450         0.6703737         0.8721676\n",
       "sample8-4.23_Nneg         0.5788719         0.5285666         0.7616116\n",
       "sample8-4.23_Npos         0.8565306         1.1509894         0.9473894\n",
       "                  sample6-3.01_Nneg sample6-3.01_Npos sample6-3.04_Nneg\n",
       "sample8-4.04_Nneg         1.0067678         1.3625245         0.9041240\n",
       "sample8-4.04_Npos         1.0283016         1.3762779         0.9326674\n",
       "sample8-4.07_Nneg         0.4063963         0.3965851         0.4631920\n",
       "sample8-4.07_Npos         0.4753318         0.4818509         0.6309143\n",
       "sample8-4.23_Nneg         0.6037171         0.9171900         0.4670703\n",
       "sample8-4.23_Npos         1.1016680         1.3510973         1.0702479\n",
       "                  sample6-3.04_Npos sample6-3.09_Nneg sample6-3.09_Npos\n",
       "sample8-4.04_Nneg         1.5382354         0.9746265         1.2534431\n",
       "sample8-4.04_Npos         1.5348019         0.9809565         1.2604352\n",
       "sample8-4.07_Nneg         0.8058668         0.5928387         0.5295518\n",
       "sample8-4.07_Npos         0.7898252         0.4908909         0.6358081\n",
       "sample8-4.23_Nneg         1.2501807         0.7193497         0.8910868\n",
       "sample8-4.23_Npos         1.3354055         0.9121737         1.1973096\n",
       "                  sample6-3.18_Nneg sample6-3.18_Npos sample6-4.12_Nneg\n",
       "sample8-4.04_Nneg         1.0307562          1.834679         1.3596937\n",
       "sample8-4.04_Npos         1.0719146          1.830466         1.3538674\n",
       "sample8-4.07_Nneg         0.4033085          1.601976         0.4807752\n",
       "sample8-4.07_Npos         0.5850999          1.529954         0.4441488\n",
       "sample8-4.23_Nneg         0.6313551          1.845522         1.0033791\n",
       "sample8-4.23_Npos         1.1717503          1.408607         1.2523168\n",
       "                  sample6-4.12_Npos sample6-4.13_Nneg sample6-4.13_Npos\n",
       "sample8-4.04_Nneg         1.3675222         0.8234234         0.7969812\n",
       "sample8-4.04_Npos         1.3658036         0.8084014         0.7739202\n",
       "sample8-4.07_Nneg         0.5145153         0.5218833         0.5277389\n",
       "sample8-4.07_Npos         0.4917633         0.6566974         0.6092923\n",
       "sample8-4.23_Nneg         1.0084877         0.3348814         0.4573246\n",
       "sample8-4.23_Npos         1.2756431         1.1238352         0.9179096\n",
       "                  sample6-4.17_Nneg sample6-4.17_Npos sample6-4.30_Nneg\n",
       "sample8-4.04_Nneg         1.4974276         1.4762486         1.1965498\n",
       "sample8-4.04_Npos         1.5032050         1.4767554         1.2266620\n",
       "sample8-4.07_Nneg         0.8367816         0.8828462         0.7895179\n",
       "sample8-4.07_Npos         0.7799655         0.8326421         0.9006634\n",
       "sample8-4.23_Nneg         1.2643558         1.2694496         1.0244717\n",
       "sample8-4.23_Npos         1.2796915         1.2259221         1.0820026\n",
       "                  sample6-4.30_Npos sample7-1.04_Nneg sample7-1.04_Npos\n",
       "sample8-4.04_Nneg          1.931224         0.6381065         0.4534291\n",
       "sample8-4.04_Npos          1.921426         0.5973103         0.4234898\n",
       "sample8-4.07_Nneg          1.774853         1.5715028         0.9203172\n",
       "sample8-4.07_Npos          1.705680         1.6170635         1.0280174\n",
       "sample8-4.23_Nneg          1.984352         1.1027051         0.3759498\n",
       "sample8-4.23_Npos          1.479287         0.9160435         0.9122572\n",
       "                  sample7-1.13_Nneg sample7-1.13_Npos sample7-1.28_Nneg\n",
       "sample8-4.04_Nneg         0.6140908         0.4566099          1.119595\n",
       "sample8-4.04_Npos         0.5940174         0.3762152          1.100796\n",
       "sample8-4.07_Nneg         0.7591595         1.2558338          2.073008\n",
       "sample8-4.07_Npos         0.9068858         1.3506877          2.132863\n",
       "sample8-4.23_Nneg         0.3394650         0.7574005          1.624207\n",
       "sample8-4.23_Npos         1.0084124         0.8867394          1.257277\n",
       "                  sample7-1.28_Npos sample7-2.12_Nneg sample7-2.12_Npos\n",
       "sample8-4.04_Nneg         0.7304191         0.6196476         0.8155404\n",
       "sample8-4.04_Npos         0.7484129         0.5918154         0.8096716\n",
       "sample8-4.07_Nneg         1.4721027         1.4725235         1.3581946\n",
       "sample8-4.07_Npos         1.5759289         1.5638896         1.4604916\n",
       "sample8-4.23_Nneg         1.0831544         1.0106444         1.0574552\n",
       "sample8-4.23_Npos         0.9159164         0.9849169         0.9196572\n",
       "                  sample7-2.28_Nneg sample7-2.28_Npos sample7-2.30_Nneg\n",
       "sample8-4.04_Nneg         0.9924522         0.6996137         0.9755621\n",
       "sample8-4.04_Npos         0.9481742         0.6222981         0.9534109\n",
       "sample8-4.07_Nneg         1.8606151         1.4339353         0.4426395\n",
       "sample8-4.07_Npos         1.9006261         1.4543390         0.5105881\n",
       "sample8-4.23_Nneg         1.4439040         1.0402050         0.5335710\n",
       "sample8-4.23_Npos         1.1410891         0.8884265         1.0797598\n",
       "                  sample7-2.30_Npos sample7-3.12_Nneg sample7-3.12_Npos\n",
       "sample8-4.04_Nneg         0.4554649         0.6098268         0.6463517\n",
       "sample8-4.04_Npos         0.3889798         0.6259394         0.6822679\n",
       "sample8-4.07_Nneg         0.9764840         1.3070445         0.9599696\n",
       "sample8-4.07_Npos         1.0305714         1.4260444         1.1056424\n",
       "sample8-4.23_Nneg         0.5158850         0.9015123         0.6496307\n",
       "sample8-4.23_Npos         0.8066641         0.9414370         0.9985045\n",
       "                  sample7-3.19_Nneg sample7-3.19_Npos sample7-3.25_Nneg\n",
       "sample8-4.04_Nneg         0.4234103         0.6757430         0.5439195\n",
       "sample8-4.04_Npos         0.3907224         0.6793098         0.5114296\n",
       "sample8-4.07_Nneg         1.0520425         0.9329067         0.9165896\n",
       "sample8-4.07_Npos         1.1552277         1.0701102         0.9813906\n",
       "sample8-4.23_Nneg         0.5196079         0.6059610         0.4909302\n",
       "sample8-4.23_Npos         0.8639866         0.8596943         0.8939326\n",
       "                  sample7-3.25_Npos sample7-4.02_Nneg sample7-4.02_Npos\n",
       "sample8-4.04_Nneg         0.6577920         0.6565085         0.4595441\n",
       "sample8-4.04_Npos         0.6464658         0.6517167         0.4112697\n",
       "sample8-4.07_Nneg         0.8877875         1.4673079         1.2434767\n",
       "sample8-4.07_Npos         1.0386757         1.5475276         1.3328200\n",
       "sample8-4.23_Nneg         0.5173836         1.0487492         0.7543005\n",
       "sample8-4.23_Npos         0.8343799         0.8753099         0.8505248\n",
       "                  sample7-4.03_Nneg sample7-4.03_Npos sample7-4.14_Nneg\n",
       "sample8-4.04_Nneg          1.306131         0.5821404         0.6228740\n",
       "sample8-4.04_Npos          1.273959         0.5999884         0.6000413\n",
       "sample8-4.07_Nneg          2.184362         1.4195995         1.5934043\n",
       "sample8-4.07_Npos          2.243024         1.5169950         1.6598532\n",
       "sample8-4.23_Nneg          1.791220         0.9794986         1.0970202\n",
       "sample8-4.23_Npos          1.351123         0.9289333         0.9424958\n",
       "                  sample7-4.14_Npos sample8-1.10_Nneg sample8-1.10_Npos\n",
       "sample8-4.04_Nneg         0.9944452         0.8488597         0.7269744\n",
       "sample8-4.04_Npos         0.9867788         0.8660483         0.7359983\n",
       "sample8-4.07_Nneg         0.4592616         0.5150470         0.9283543\n",
       "sample8-4.07_Npos         0.6648569         0.6754178         0.9966135\n",
       "sample8-4.23_Nneg         0.4780411         0.4133043         0.7242211\n",
       "sample8-4.23_Npos         1.1871803         1.0387724         0.4999802\n",
       "                  sample8-1.14_Nneg sample8-1.14_Npos sample8-1.19_Nneg\n",
       "sample8-4.04_Nneg          1.469725         1.4939964         0.9072656\n",
       "sample8-4.04_Npos          1.480174         1.4910434         0.9154561\n",
       "sample8-4.07_Nneg          0.627540         0.6121224         1.0441792\n",
       "sample8-4.07_Npos          0.597048         0.6126222         1.0548528\n",
       "sample8-4.23_Nneg          1.136256         1.1234955         0.9332078\n",
       "sample8-4.23_Npos          1.329743         1.3002758         0.4878125\n",
       "                  sample8-1.19_Npos sample8-1.23_Nneg sample8-1.23_Npos\n",
       "sample8-4.04_Nneg         0.9127794         0.7412630         0.7917995\n",
       "sample8-4.04_Npos         0.9086349         0.7723623         0.7807828\n",
       "sample8-4.07_Nneg         1.3278413         0.6172306         0.5568264\n",
       "sample8-4.07_Npos         1.3135854         0.7899809         0.7539928\n",
       "sample8-4.23_Nneg         1.1339595         0.2751627         0.3965761\n",
       "sample8-4.23_Npos         0.4647526         1.0829429         1.0693124\n",
       "                  sample8-2.07_Nneg sample8-2.07_Npos sample8-2.17_Nneg\n",
       "sample8-4.04_Nneg         0.7812212         1.0488842         0.7386261\n",
       "sample8-4.04_Npos         0.7782166         1.0331411         0.7509312\n",
       "sample8-4.07_Nneg         0.8354753         1.1539924         0.6608967\n",
       "sample8-4.07_Npos         0.8390781         1.0975371         0.8487196\n",
       "sample8-4.23_Nneg         0.6879536         1.0959564         0.4712147\n",
       "sample8-4.23_Npos         0.6018311         0.5108783         1.0384243\n",
       "                  sample8-2.17_Npos sample8-2.22_Nneg sample8-2.22_Npos\n",
       "sample8-4.04_Nneg         0.8271232         1.0315624         1.1879481\n",
       "sample8-4.04_Npos         0.8585506         0.9845446         1.1832004\n",
       "sample8-4.07_Nneg         0.5621076         0.3026872         0.2868353\n",
       "sample8-4.07_Npos         0.7383481         0.3901486         0.3079100\n",
       "sample8-4.23_Nneg         0.4766846         0.5750348         0.7202592\n",
       "sample8-4.23_Npos         0.9565054         1.0896275         1.1883001\n",
       "                  sample8-2.25_Nneg sample8-2.25_Npos sample8-3.03_Nneg\n",
       "sample8-4.04_Nneg         1.1858177         0.9248134         1.0020631\n",
       "sample8-4.04_Npos         1.1866039         0.9297429         1.0009415\n",
       "sample8-4.07_Nneg         0.4235843         0.4773497         0.6340006\n",
       "sample8-4.07_Npos         0.4592617         0.6589200         0.5494298\n",
       "sample8-4.23_Nneg         0.7784689         0.3852626         0.7604714\n",
       "sample8-4.23_Npos         1.0719073         1.1605111         0.8597891\n",
       "                  sample8-3.03_Npos sample8-3.23_Nneg sample8-3.23_Npos\n",
       "sample8-4.04_Nneg         1.3654825         0.6803928         0.8538322\n",
       "sample8-4.04_Npos         1.3575889         0.7172591         0.8746085\n",
       "sample8-4.07_Nneg         1.7223531         0.6697237         0.5222331\n",
       "sample8-4.07_Npos         1.7216470         0.8430194         0.6729359\n",
       "sample8-4.23_Nneg         1.5907673         0.3478909         0.3870004\n",
       "sample8-4.23_Npos         0.7566578         1.1001524         1.0257544\n",
       "                  sample8-3.28_Nneg sample8-3.28_Npos sample8-3.29_Nneg\n",
       "sample8-4.04_Nneg         1.3407294         1.3654186         1.1673041\n",
       "sample8-4.04_Npos         1.3376915         1.3500506         1.1338598\n",
       "sample8-4.07_Nneg         0.3598207         0.3990130         0.3069395\n",
       "sample8-4.07_Npos         0.3576853         0.4599385         0.3099861\n",
       "sample8-4.23_Nneg         0.9142080         0.9651046         0.7285622\n",
       "sample8-4.23_Npos         1.3041208         1.3098889         1.1681048\n",
       "                  sample8-3.29_Npos sample8-4.01_Nneg sample8-4.01_Npos\n",
       "sample8-4.04_Nneg         0.7714245         0.9830475         1.1846554\n",
       "sample8-4.04_Npos         0.7511823         0.9687168         1.1624138\n",
       "sample8-4.07_Nneg         0.5919433         1.1753130         1.4185804\n",
       "sample8-4.07_Npos         0.7719149         1.1710196         1.3690059\n",
       "sample8-4.23_Nneg         0.2806389         1.0701620         1.3345065\n",
       "sample8-4.23_Npos         0.9890372         0.4392481         0.5673879\n",
       "                  sample8-4.04_Nneg sample8-4.04_Npos sample8-4.07_Nneg\n",
       "sample8-4.04_Nneg         0.0000000         0.3100069         1.1696773\n",
       "sample8-4.04_Npos         0.3100069         0.0000000         1.1512523\n",
       "sample8-4.07_Nneg         1.1696773         1.1512523         0.0000000\n",
       "sample8-4.07_Npos         1.2724698         1.2509725         0.3504816\n",
       "sample8-4.23_Nneg         0.6457220         0.6244876         0.6961688\n",
       "sample8-4.23_Npos         0.8344469         0.7976830         1.2075242\n",
       "                  sample8-4.07_Npos sample8-4.23_Nneg sample8-4.23_Npos\n",
       "sample8-4.04_Nneg         1.2724698         0.6457220         0.8344469\n",
       "sample8-4.04_Npos         1.2509725         0.6244876         0.7976830\n",
       "sample8-4.07_Nneg         0.3504816         0.6961688         1.2075242\n",
       "sample8-4.07_Npos         0.0000000         0.8528486         1.2311391\n",
       "sample8-4.23_Nneg         0.8528486         0.0000000         0.9823845\n",
       "sample8-4.23_Npos         1.2311391         0.9823845         0.0000000\n"
      ]
     },
     "metadata": {},
     "output_type": "display_data"
    }
   ],
   "source": [
    "%%R\n",
    "Udist %>% as.matrix %>% tail"
   ]
  },
  {
   "cell_type": "markdown",
   "metadata": {},
   "source": [
    "## Mantel test, including all plants and maize with arbitrary 0.0002 distance between maize\n",
    "\n"
   ]
  },
  {
   "cell_type": "code",
   "execution_count": 274,
   "metadata": {
    "collapsed": false,
    "scrolled": false
   },
   "outputs": [
    {
     "data": {
      "text/plain": [
       "\n",
       "Mantel statistic based on Pearson's product-moment correlation \n",
       "\n",
       "Call:\n",
       "mantel(xdis = Udist, ydis = Phydist, method = \"pearson\", permutations = 999) \n",
       "\n",
       "Mantel statistic r: 0.2544 \n",
       "      Significance: 0.001 \n",
       "\n",
       "Upper quantiles of permutations (null model):\n",
       "   90%    95%  97.5%    99% \n",
       "0.0622 0.0787 0.0928 0.1086 \n",
       "Permutation: free\n",
       "Number of permutations: 999\n",
       "\n"
      ]
     },
     "metadata": {},
     "output_type": "display_data"
    }
   ],
   "source": [
    "%%R\n",
    "M1 = mantel(Udist, Phydist, method=\"pearson\", permutations=999)\n",
    "print(M1)"
   ]
  },
  {
   "cell_type": "code",
   "execution_count": 205,
   "metadata": {
    "collapsed": false,
    "scrolled": true
   },
   "outputs": [
    {
     "data": {
      "text/plain": [
       "           Length Class  Mode     \n",
       "mantel.res 75     -none- numeric  \n",
       "n.class     1     -none- numeric  \n",
       "break.pts  16     -none- numeric  \n",
       "mult        1     -none- character\n",
       "n.tests     1     -none- numeric  \n",
       "call        4     -none- call     \n",
       "\n",
       "Mantel Correlogram Analysis\n",
       "\n",
       "Call:\n",
       " \n",
       "mantel.correlog(D.eco = Udist, D.geo = Phydist, nperm = 99) \n",
       "\n",
       "        class.index      n.dist  Mantel.cor Pr(Mantel) Pr(corrected)   \n",
       "D.cl.1   1.7370e-01  1.3718e+04  2.7498e-01       0.01          0.01 **\n",
       "D.cl.2   5.2109e-01  4.3840e+03 -1.7128e-02       0.34          0.34   \n",
       "D.cl.3   8.6849e-01  3.8400e+02 -4.9055e-02       0.02          0.04 * \n",
       "D.cl.4   1.2159e+00  1.2800e+02  4.2660e-03       0.37          0.68   \n",
       "D.cl.5   1.5633e+00  7.6800e+02 -1.1444e-01       0.01          0.05 * \n",
       "D.cl.6   1.9107e+00  0.0000e+00          NA         NA            NA   \n",
       "D.cl.7   2.2581e+00  0.0000e+00          NA         NA            NA   \n",
       "D.cl.8   2.6055e+00  0.0000e+00          NA         NA            NA   \n",
       "D.cl.9   2.9529e+00  0.0000e+00          NA         NA            NA   \n",
       "D.cl.10  3.3003e+00  0.0000e+00          NA         NA            NA   \n",
       "D.cl.11  3.6477e+00  0.0000e+00          NA         NA            NA   \n",
       "D.cl.12  3.9951e+00  9.6000e+02          NA         NA            NA   \n",
       "D.cl.13  4.3425e+00  3.8080e+03          NA         NA            NA   \n",
       "D.cl.14  4.6898e+00  2.1760e+03          NA         NA            NA   \n",
       "D.cl.15  5.0372e+00  3.7760e+03          NA         NA            NA   \n",
       "---\n",
       "Signif. codes:  0 ‘***’ 0.001 ‘**’ 0.01 ‘*’ 0.05 ‘.’ 0.1 ‘ ’ 1\n"
      ]
     },
     "metadata": {},
     "output_type": "display_data"
    },
    {
     "data": {
      "image/png": "[encoded data removed]"
     },
     "metadata": {},
     "output_type": "display_data"
    }
   ],
   "source": [
    "%%R\n",
    "mcc.correlog <- mantel.correlog(Udist, Phydist, nperm=99)\n",
    "summary(mcc.correlog) %>% print\n",
    "mcc.correlog  %>% print\n",
    "plot(mcc.correlog) "
   ]
  },
  {
   "cell_type": "markdown",
   "metadata": {},
   "source": [
    "## Compare to plant functional trait distance matrix"
   ]
  },
  {
   "cell_type": "markdown",
   "metadata": {},
   "source": [
    "Functional traits include: Resid_logB, Resid_logN, Resid_logCN"
   ]
  },
  {
   "cell_type": "code",
   "execution_count": 206,
   "metadata": {
    "collapsed": false,
    "hide_input": false,
    "scrolled": true
   },
   "outputs": [
    {
     "data": {
      "text/plain": [
       "\n",
       "Mantel statistic based on Pearson's product-moment correlation \n",
       "\n",
       "Call:\n",
       "mantel(xdis = wunif.dist, ydis = Fun_dist, method = \"pearson\",      permutations = 999) \n",
       "\n",
       "Mantel statistic r: 0.07833 \n",
       "      Significance: 0.041 \n",
       "\n",
       "Upper quantiles of permutations (null model):\n",
       "   90%    95%  97.5%    99% \n",
       "0.0536 0.0725 0.0840 0.1013 \n",
       "Permutation: free\n",
       "Number of permutations: 999\n",
       "\n"
      ]
     },
     "metadata": {},
     "output_type": "display_data"
    }
   ],
   "source": [
    "%%R\n",
    "\n",
    "Fun_dist = dist(sd[,c(\"A_Resid_logB\", \"A_Resid_logN\", \"A_Resid_logCN\")], method = \"euclidian\")\n",
    "#hist(Fun_dist) %>% print\n",
    "\n",
    "\n",
    "M1 = mantel(wunif.dist, Fun_dist, method=\"pearson\", permutations=999)\n",
    "M1\n",
    "\n"
   ]
  },
  {
   "cell_type": "code",
   "execution_count": null,
   "metadata": {
    "collapsed": true
   },
   "outputs": [],
   "source": []
  },
  {
   "cell_type": "markdown",
   "metadata": {},
   "source": [
    "### Notes: \n",
    "    * If DAP is included as a functional trait functional variation explains an equal portion of the variance as phylogenetic distance:  Mantel r = 0.326 p = 0.001\n",
    "    * If DAP is not included, considerably less variation, though still significant Mantel R = 0.136 and p = 0.001\n",
    "    * I should try including both N treatments to broaden variation"
   ]
  },
  {
   "cell_type": "markdown",
   "metadata": {},
   "source": [
    "### Functional controls all species, CAP"
   ]
  },
  {
   "cell_type": "code",
   "execution_count": 207,
   "metadata": {
    "collapsed": false,
    "hide_input": true
   },
   "outputs": [
    {
     "data": {
      "text/plain": [
       "[1] 72 79 61 36 53 57 84 88\n",
       "Levels: 36 53 57 61 72 79 84 88\n"
      ]
     },
     "metadata": {},
     "output_type": "display_data"
    },
    {
     "data": {
      "image/png": "[encoded data removed]"
     },
     "metadata": {},
     "output_type": "display_data"
    }
   ],
   "source": [
    "%%R -w 800 -h 600\n",
    "phy = physeq.Plant\n",
    "\n",
    "sample_data(phy)$DAP = as.factor(sample_data(phy)$DAP)\n",
    "unique(sample_data(phy)$DAP) %>% print\n",
    "# CAP ordinate\n",
    "cap.ord = ordinate(\n",
    "    physeq = phy, \n",
    "    method = \"CAP\",\n",
    "    distance = wunif.dist,\n",
    "    formula = ~ A_Resid_logB + A_Resid_logN + A_Resid_logCN + Condition(Library)\n",
    ")\n",
    "\n",
    "# CAP plot\n",
    "cap.plot <- plot_ordination(\n",
    "    phy, \n",
    "    cap.ord, \n",
    "    color = \"Plant\", \n",
    "    axes = c(1,2)\n",
    "    ) + \n",
    "    aes(shape = Type) + \n",
    "    geom_point(aes(colour = Plant), \n",
    "        alpha= 1, \n",
    "        size = 4) + \n",
    "    #geom_point(colour = \"grey90\", \n",
    "    #    size = 1.5) + \n",
    "    theme_bw(base_size = 16)\n",
    "    #scale_color_manual(values = c(\"#a65628\", \"red\", \"#ffae19\", \"#4daf4a\", \n",
    "    #    \"#1919ff\", \"darkorchid3\", \"magenta\"))\n",
    "\n",
    "\n",
    "# Now add the environmental variables as arrows\n",
    "arrowmat <- vegan::scores(cap.ord, display = \"bp\")\n",
    "\n",
    "\n",
    "# Add labels, make a data.frame\n",
    "arrowdf <- data.frame(labels = rownames(arrowmat), arrowmat)\n",
    "\n",
    "# Define the arrow aesthetic mapping\n",
    "arrow_map <- aes(xend = CAP1, \n",
    "    yend = CAP2, \n",
    "    x = 0, \n",
    "    y = 0, \n",
    "    shape = NULL, \n",
    "    color = NULL, \n",
    "    label = labels)\n",
    "\n",
    "label_map <- aes(x = 1.3 * CAP1, \n",
    "    y = 1.3 * CAP2, \n",
    "    shape = NULL, \n",
    "    color = NULL, \n",
    "    label = labels)\n",
    "\n",
    "arrowhead = arrow(length = unit(0.02, \"npc\"))\n",
    "\n",
    "# Make a new graphic\n",
    "cap.plot + \n",
    "geom_segment(arrow_map, \n",
    "    size = .5, \n",
    "    data = arrowdf, \n",
    "    color = \"gray\", \n",
    "    arrow = arrowhead\n",
    "    ) + \n",
    "geom_text(label_map, \n",
    "    size = 4,  \n",
    "    data = arrowdf, \n",
    "    show_guide = FALSE)"
   ]
  },
  {
   "cell_type": "code",
   "execution_count": 208,
   "metadata": {
    "collapsed": false,
    "scrolled": false
   },
   "outputs": [
    {
     "data": {
      "text/plain": [
       "Permutation test for capscale under reduced model\n",
       "Permutation: free\n",
       "Number of permutations: 999\n",
       "\n",
       "Model: capscale(formula = distance ~ A_Resid_logB + A_Resid_logN + A_Resid_logCN + Condition(Library), data = data)\n",
       "          Df SumOfSqs      F Pr(>F)    \n",
       "Model      3   0.5531 5.8623  0.001 ***\n",
       "Residual 169   5.3145                  \n",
       "---\n",
       "Signif. codes:  0 ‘***’ 0.001 ‘**’ 0.01 ‘*’ 0.05 ‘.’ 0.1 ‘ ’ 1\n"
      ]
     },
     "metadata": {},
     "output_type": "display_data"
    }
   ],
   "source": [
    "%%R\n",
    "anova(cap.ord)"
   ]
  },
  {
   "cell_type": "markdown",
   "metadata": {},
   "source": [
    "###  Include leaf traits (subset of plants from above)"
   ]
  },
  {
   "cell_type": "code",
   "execution_count": null,
   "metadata": {
    "collapsed": true
   },
   "outputs": [],
   "source": [
    "\n",
    "%%R\n",
    "\n",
    "phy = subset_samples(physeq.Plant, !is.na(Resid_logSLA) & !is.na(Resid_LeafN))\n",
    "\n",
    "phy.wunif.dist = distance(phy, \n",
    "                      method = \"unifrac\", \n",
    "                      weighted = TRUE,\n",
    "                      fast = TRUE, \n",
    "                      parallel = TRUE, \n",
    "                      normalized = FALSE)"
   ]
  },
  {
   "cell_type": "code",
   "execution_count": null,
   "metadata": {
    "collapsed": false,
    "hide_input": true,
    "scrolled": false
   },
   "outputs": [],
   "source": [
    "%%R -w 800 -h 600\n",
    "\n",
    "\n",
    "sample_data(phy)$DAP = as.factor(sample_data(phy)$DAP)\n",
    "unique(sample_data(phy)$DAP) %>% print\n",
    "# CAP ordinate\n",
    "cap.ord = ordinate(\n",
    "    physeq = phy, \n",
    "    method = \"CAP\",\n",
    "    distance = phy.wunif.dist,\n",
    "    formula = ~ Resid_logB + Resid_logN + Resid_logCN + Resid_logSLA + Resid_LeafN  + Condition(Library)\n",
    ")\n",
    "\n",
    "# CAP plot\n",
    "cap.plot <- plot_ordination(\n",
    "    phy, \n",
    "    cap.ord, \n",
    "    color = \"Plant\", \n",
    "    axes = c(1,2)\n",
    "    ) + \n",
    "    aes(shape = Type) + \n",
    "    geom_point(aes(colour = Plant), \n",
    "        alpha= 1, \n",
    "        size = 4) + \n",
    "    #geom_point(colour = \"grey90\", \n",
    "    #    size = 1.5) + \n",
    "    theme_bw(base_size = 16)\n",
    "    #scale_color_manual(values = c(\"#a65628\", \"red\", \"#ffae19\", \"#4daf4a\", \n",
    "    #    \"#1919ff\", \"darkorchid3\", \"magenta\"))\n",
    "\n",
    "\n",
    "# Now add the environmental variables as arrows\n",
    "arrowmat <- vegan::scores(cap.ord, display = \"bp\")\n",
    "\n",
    "\n",
    "# Add labels, make a data.frame\n",
    "arrowdf <- data.frame(labels = rownames(arrowmat), arrowmat)\n",
    "\n",
    "# Define the arrow aesthetic mapping\n",
    "arrow_map <- aes(xend = CAP1, \n",
    "    yend = CAP2, \n",
    "    x = 0, \n",
    "    y = 0, \n",
    "    shape = NULL, \n",
    "    color = NULL, \n",
    "    label = labels)\n",
    "\n",
    "label_map <- aes(x = 1.3 * CAP1, \n",
    "    y = 1.3 * CAP2, \n",
    "    shape = NULL, \n",
    "    color = NULL, \n",
    "    label = labels)\n",
    "\n",
    "arrowhead = arrow(length = unit(0.02, \"npc\"))\n",
    "\n",
    "# Make a new graphic\n",
    "cap.plot + \n",
    "geom_segment(arrow_map, \n",
    "    size = .5, \n",
    "    data = arrowdf, \n",
    "    color = \"gray\", \n",
    "    arrow = arrowhead\n",
    "    ) + \n",
    "geom_text(label_map, \n",
    "    size = 4,  \n",
    "    data = arrowdf, \n",
    "    show_guide = FALSE)"
   ]
  },
  {
   "cell_type": "code",
   "execution_count": null,
   "metadata": {
    "collapsed": false
   },
   "outputs": [],
   "source": [
    "%%R\n",
    "anova(cap.ord)"
   ]
  },
  {
   "cell_type": "markdown",
   "metadata": {},
   "source": [
    "Notes - a small but significant amount of variation in community composition is captured by plant functional variation  "
   ]
  },
  {
   "cell_type": "markdown",
   "metadata": {},
   "source": [
    "# Analyze subset from early and late seasons, limiting to two maize"
   ]
  },
  {
   "cell_type": "markdown",
   "metadata": {},
   "source": [
    "## Early Season, library 1"
   ]
  },
  {
   "cell_type": "code",
   "execution_count": 209,
   "metadata": {
    "collapsed": false,
    "scrolled": true
   },
   "outputs": [
    {
     "data": {
      "text/plain": [
       "[1] \"ABUTH\" \"AMAPO\" \"ECHCG\" \"H99\"   \"MS71\"  \"SETFA\"\n",
       "Importance of components:\n",
       "                          PC1    PC2    PC3     PC4     PC5\n",
       "Standard deviation     1.5720 1.2201 0.8380 0.58069 0.02753\n",
       "Proportion of Variance 0.4942 0.2978 0.1405 0.06744 0.00015\n",
       "Cumulative Proportion  0.4942 0.7920 0.9324 0.99985 1.00000\n",
       "                      PC1          PC2         PC3          PC4          PC5\n",
       "log(Biomass_P)  0.6124938  0.004746739  0.13462856  0.421502735  0.655011019\n",
       "log(tN_p)       0.4537250 -0.526251156 -0.23984822  0.337227670 -0.588169799\n",
       "log(Plant_CN)   0.2802683  0.643768576  0.50633069  0.160625016 -0.474173505\n",
       "NResp.CN       -0.1851747 -0.549190013  0.81479951 -0.005422948  0.013153539\n",
       "NResp.B        -0.5533037  0.083603463 -0.06386684  0.826306927 -0.001822988\n"
      ]
     },
     "metadata": {},
     "output_type": "display_data"
    },
    {
     "data": {
      "image/png": "[encoded data removed]"
     },
     "metadata": {},
     "output_type": "display_data"
    }
   ],
   "source": [
    "%%R\n",
    "# PCA of annuals\n",
    "ES = subset_samples(physeq.Full, Plant %in% c(\"ECHCG\", \"AMAPO\", \"SETFA\", \"H99\",\n",
    "                                                        \"MS71\", \"ABUTH\") & Treatment == \"Nneg\")\n",
    "\n",
    "\n",
    "\n",
    "sd = as(sample_data(ES), \"data.frame\")\n",
    "sd$Plant %>% levels %>% print\n",
    "\n",
    "sd = left_join(sd, NResp, by = \"Plot\")\n",
    "head(sd)\n",
    "\n",
    "#sd = left_join(sd, M_GDD, by = \"DAP\")\n",
    "\n",
    "fit = prcomp(~log(Biomass_P) + log(tN_p) + log(Plant_CN) + NResp.CN + NResp.B, data = sd, \n",
    "                na.action = na.exclude, center = TRUE, scale = TRUE)\n",
    "\n",
    "summary(fit) %>% print\n",
    "fit$rotation %>% print\n",
    "biplot(fit)"
   ]
  },
  {
   "cell_type": "code",
   "execution_count": 210,
   "metadata": {
    "collapsed": false
   },
   "outputs": [
    {
     "data": {
      "image/png": "[encoded data removed]"
     },
     "metadata": {},
     "output_type": "display_data"
    }
   ],
   "source": [
    "%%R -w 600 -h 500\n",
    "S = predict(fit)[,1:3]\n",
    "E_Fit = cbind(sd, S)\n",
    "row.names(E_Fit) = E_Fit$X.sample\n",
    "sample_data(ES) = E_Fit\n",
    "\n",
    "\n",
    "p = ggplot(E_Fit, aes(PC1, PC2, colour = Plant, \n",
    "                       size = A_Resid_logN), pch = 21)\n",
    "p = p + geom_point()\n",
    "p = p + scale_colour_brewer(palette=\"Paired\")\n",
    "p = p + ggtitle(\"PCA of Early Season Contrasts: Biomass, N uptake, C:N ratio\")\n",
    "p"
   ]
  },
  {
   "cell_type": "code",
   "execution_count": 212,
   "metadata": {
    "collapsed": false,
    "scrolled": true
   },
   "outputs": [
    {
     "data": {
      "text/plain": [
       "\n",
       "Mantel statistic based on Pearson's product-moment correlation \n",
       "\n",
       "Call:\n",
       "mantel(xdis = Phy_date, ydis = Udate, method = \"pearson\", permutations = 999) \n",
       "\n",
       "Mantel statistic r: 0.1825 \n",
       "      Significance: 0.012 \n",
       "\n",
       "Upper quantiles of permutations (null model):\n",
       "  90%   95% 97.5%   99% \n",
       "0.095 0.128 0.159 0.185 \n",
       "Permutation: free\n",
       "Number of permutations: 999\n",
       "\n"
      ]
     },
     "metadata": {},
     "output_type": "display_data"
    }
   ],
   "source": [
    "%%R\n",
    "\n",
    "# subset matrices\n",
    "D_dist = filter(Dist, PlantA %in% c(\"MS71\", \"ECHCG\",  \"H99\" , \"AMAPO\" , \"ABUTH\",\n",
    "                                    \"SETFA\") & PlantB %in% c(\"MS71\", \"ECHCG\",  \"H99\" , \"AMAPO\" , \"ABUTH\",\n",
    "                                    \"SETFA\"))\n",
    "D_dist$PlantComp %>% unique\n",
    "#pull matrices\n",
    "    Temp = D_dist[!is.na(D_dist$phy_Dist),]\n",
    "    \n",
    "    #Seperate unifrac and phylogenetic distances retaining plot IDs\n",
    "\n",
    "    Udate = Temp[,c(1,2,3)]\n",
    "    Phy_date = Temp[,c(1,2,7)]\n",
    "\n",
    "    #Re-cast longform to wide form.  \n",
    "    Udate = acast(Udate, PlotA~PlotB)\n",
    "    Phy_date = acast(Phy_date, PlotA~PlotB)\n",
    "\n",
    "    #Convert to distance matrices\n",
    "    Phy_date = as.matrix(Phy_date) %>% dist()\n",
    "    Udate = as.matrix(Udate) %>% dist()\n",
    "\n",
    "M1 = mantel(Phy_date, Udate, method=\"pearson\", permutations=999)\n",
    "print(M1)"
   ]
  },
  {
   "cell_type": "code",
   "execution_count": 214,
   "metadata": {
    "collapsed": false,
    "scrolled": true
   },
   "outputs": [
    {
     "data": {
      "text/plain": [
       "\n",
       "Mantel statistic based on Pearson's product-moment correlation \n",
       "\n",
       "Call:\n",
       "mantel(xdis = ES.wunif.dist, ydis = Fun_dist, method = \"pearson\",      permutations = 999) \n",
       "\n",
       "Mantel statistic r: 0.09436 \n",
       "      Significance: 0.155 \n",
       "\n",
       "Upper quantiles of permutations (null model):\n",
       "  90%   95% 97.5%   99% \n",
       "0.126 0.169 0.207 0.245 \n",
       "Permutation: free\n",
       "Number of permutations: 999\n",
       "\n"
      ]
     },
     "metadata": {},
     "output_type": "display_data"
    }
   ],
   "source": [
    "%%R\n",
    "\n",
    "sd = sample_data(ES)\n",
    "\n",
    "\n",
    "# Calculate w-unifrac distances\n",
    "registerDoParallel(cores=28)\n",
    "ES.wunif.dist = distance(ES, \n",
    "                      method = \"unifrac\", \n",
    "                      weighted = TRUE,\n",
    "                      fast = TRUE, \n",
    "                      parallel = TRUE, \n",
    "                      normalized = FALSE)\n",
    "\n",
    "#Calculate functional distances\n",
    "sd$logB = log(sd$Biomass_P)\n",
    "sd$logN = log(sd$tN_p)\n",
    "sd$logCN = log(sd$Plant_CN)\n",
    "\n",
    "Fun_dist = dist(sd[,c(\"A_Resid_logB\", \"A_Resid_logN\", \"A_Resid_logCN\")], method = \"euclidian\")\n",
    "\n",
    "\n",
    "M1 = mantel(ES.wunif.dist, Fun_dist, method=\"pearson\", permutations=999)\n",
    "M1"
   ]
  },
  {
   "cell_type": "code",
   "execution_count": 217,
   "metadata": {
    "collapsed": false
   },
   "outputs": [
    {
     "data": {
      "text/plain": [
       "                  sample4-2.02_Nneg sample4-4.21_Nneg sample5-2.06_Nneg\n",
       "sample4-4.21_Nneg         0.1853471                                    \n",
       "sample5-2.06_Nneg         0.2056788         0.1890167                  \n",
       "sample5-3.13_Nneg         0.2031210         0.2074062         0.1293945\n",
       "sample2-2.08_Nneg         0.1732889         0.1947418         0.2221065\n",
       "sample5-1.17_Nneg         0.3011232         0.2278589         0.1832281\n",
       "sample5-4.08_Nneg         0.2277475         0.2252953         0.1474853\n",
       "sample4-1.03_Nneg         0.1517888         0.1509431         0.1827855\n",
       "sample5-2.11_Nneg         0.2611885         0.2436439         0.1641123\n",
       "sample2-3.05_Nneg         0.2147556         0.2046821         0.2582996\n",
       "sample5-4.05_Nneg         0.2643664         0.2258585         0.1636955\n",
       "sample5-3.16_Nneg         0.2763390         0.2695913         0.2081138\n",
       "sample2-1.08_Nneg         0.3064641         0.3154118         0.2130379\n",
       "sample5-1.16_Nneg         0.3276987         0.3085987         0.1939710\n",
       "sample4-3.10_Nneg         0.1547281         0.1267264         0.1774043\n",
       "sample2-4.25_Nneg         0.2168465         0.2330405         0.2699560\n",
       "sample3-4.18_Nneg         0.2961092         0.2649716         0.2947866\n",
       "sample2-2.10_Nneg         0.3263094         0.3174842         0.2324207\n",
       "sample2-3.20_Nneg         0.2286210         0.1823817         0.1998012\n",
       "sample3-1.20_Nneg         0.2687505         0.2084341         0.1961795\n",
       "sample2-1.24_Nneg         0.1932117         0.1603868         0.1990113\n",
       "sample3-2.19_Nneg         0.2057517         0.2064920         0.2073235\n",
       "sample3-3.30_Nneg         0.2597482         0.2236680         0.2465922\n",
       "                  sample5-3.13_Nneg sample2-2.08_Nneg sample5-1.17_Nneg\n",
       "sample4-4.21_Nneg                                                      \n",
       "sample5-2.06_Nneg                                                      \n",
       "sample5-3.13_Nneg                                                      \n",
       "sample2-2.08_Nneg         0.2276292                                    \n",
       "sample5-1.17_Nneg         0.2210046         0.3273329                  \n",
       "sample5-4.08_Nneg         0.1165729         0.2445451         0.2260060\n",
       "sample4-1.03_Nneg         0.1985764         0.1969452         0.2538072\n",
       "sample5-2.11_Nneg         0.1555325         0.2733158         0.1896941\n",
       "sample2-3.05_Nneg         0.2711036         0.1142443         0.3434670\n",
       "sample5-4.05_Nneg         0.1596772         0.2753924         0.1899956\n",
       "sample5-3.16_Nneg         0.1643333         0.2481821         0.2787318\n",
       "sample2-1.08_Nneg         0.2323429         0.2511776         0.2901935\n",
       "sample5-1.16_Nneg         0.2321584         0.3248441         0.1910051\n",
       "sample4-3.10_Nneg         0.1906071         0.1600618         0.2469847\n",
       "sample2-4.25_Nneg         0.2832360         0.1451179         0.3678969\n",
       "sample3-4.18_Nneg         0.3253624         0.2310400         0.3716810\n",
       "sample2-2.10_Nneg         0.2768688         0.3306798         0.2457955\n",
       "sample2-3.20_Nneg         0.2233897         0.1927614         0.2450059\n",
       "sample3-1.20_Nneg         0.2008878         0.2681575         0.1772056\n",
       "sample2-1.24_Nneg         0.2237430         0.2003231         0.2400479\n",
       "sample3-2.19_Nneg         0.2342028         0.1407010         0.3165373\n",
       "sample3-3.30_Nneg         0.2572761         0.1880938         0.3067928\n",
       "                  sample5-4.08_Nneg sample4-1.03_Nneg sample5-2.11_Nneg\n",
       "sample4-4.21_Nneg                                                      \n",
       "sample5-2.06_Nneg                                                      \n",
       "sample5-3.13_Nneg                                                      \n",
       "sample2-2.08_Nneg                                                      \n",
       "sample5-1.17_Nneg                                                      \n",
       "sample5-4.08_Nneg                                                      \n",
       "sample4-1.03_Nneg         0.2017016                                    \n",
       "sample5-2.11_Nneg         0.1389575         0.2344368                  \n",
       "sample2-3.05_Nneg         0.2821349         0.2429967         0.3095219\n",
       "sample5-4.05_Nneg         0.1453472         0.2187850         0.1379283\n",
       "sample5-3.16_Nneg         0.1433596         0.2492995         0.1761842\n",
       "sample2-1.08_Nneg         0.2230996         0.2893157         0.2701065\n",
       "sample5-1.16_Nneg         0.2074684         0.2908157         0.1814103\n",
       "sample4-3.10_Nneg         0.2001134         0.1520655         0.2312092\n",
       "sample2-4.25_Nneg         0.3038790         0.2556941         0.3323590\n",
       "sample3-4.18_Nneg         0.3265942         0.2920101         0.3504057\n",
       "sample2-2.10_Nneg         0.2802561         0.3177418         0.2830257\n",
       "sample2-3.20_Nneg         0.2385840         0.2396660         0.2468649\n",
       "sample3-1.20_Nneg         0.1979762         0.2472612         0.1837904\n",
       "sample2-1.24_Nneg         0.2443929         0.2066940         0.2666038\n",
       "sample3-2.19_Nneg         0.2409380         0.2233459         0.2597023\n",
       "sample3-3.30_Nneg         0.2657018         0.2630867         0.2852135\n",
       "                  sample2-3.05_Nneg sample5-4.05_Nneg sample5-3.16_Nneg\n",
       "sample4-4.21_Nneg                                                      \n",
       "sample5-2.06_Nneg                                                      \n",
       "sample5-3.13_Nneg                                                      \n",
       "sample2-2.08_Nneg                                                      \n",
       "sample5-1.17_Nneg                                                      \n",
       "sample5-4.08_Nneg                                                      \n",
       "sample4-1.03_Nneg                                                      \n",
       "sample5-2.11_Nneg                                                      \n",
       "sample2-3.05_Nneg                                                      \n",
       "sample5-4.05_Nneg         0.3024461                                    \n",
       "sample5-3.16_Nneg         0.2944669         0.1640318                  \n",
       "sample2-1.08_Nneg         0.2868615         0.2677071         0.2273252\n",
       "sample5-1.16_Nneg         0.3564633         0.1849190         0.2202782\n",
       "sample4-3.10_Nneg         0.1801999         0.2150696         0.2500581\n",
       "sample2-4.25_Nneg         0.1258092         0.3252165         0.3125862\n",
       "sample3-4.18_Nneg         0.2149339         0.3410031         0.3314822\n",
       "sample2-2.10_Nneg         0.3451245         0.2931880         0.3121918\n",
       "sample2-3.20_Nneg         0.1957680         0.2303206         0.2621930\n",
       "sample3-1.20_Nneg         0.2896951         0.1786660         0.2427747\n",
       "sample2-1.24_Nneg         0.1983432         0.2348926         0.2791950\n",
       "sample3-2.19_Nneg         0.1692802         0.2540898         0.2483442\n",
       "sample3-3.30_Nneg         0.1984429         0.2655473         0.2803193\n",
       "                  sample2-1.08_Nneg sample5-1.16_Nneg sample4-3.10_Nneg\n",
       "sample4-4.21_Nneg                                                      \n",
       "sample5-2.06_Nneg                                                      \n",
       "sample5-3.13_Nneg                                                      \n",
       "sample2-2.08_Nneg                                                      \n",
       "sample5-1.17_Nneg                                                      \n",
       "sample5-4.08_Nneg                                                      \n",
       "sample4-1.03_Nneg                                                      \n",
       "sample5-2.11_Nneg                                                      \n",
       "sample2-3.05_Nneg                                                      \n",
       "sample5-4.05_Nneg                                                      \n",
       "sample5-3.16_Nneg                                                      \n",
       "sample2-1.08_Nneg                                                      \n",
       "sample5-1.16_Nneg         0.2040688                                    \n",
       "sample4-3.10_Nneg         0.2912286         0.2863587                  \n",
       "sample2-4.25_Nneg         0.3190083         0.3734909         0.2029347\n",
       "sample3-4.18_Nneg         0.3587993         0.3734796         0.2438366\n",
       "sample2-2.10_Nneg         0.2102149         0.2069487         0.2998045\n",
       "sample2-3.20_Nneg         0.3116860         0.3078868         0.1750123\n",
       "sample3-1.20_Nneg         0.3038711         0.2533082         0.2187867\n",
       "sample2-1.24_Nneg         0.3209266         0.2969299         0.1516519\n",
       "sample3-2.19_Nneg         0.2594222         0.2919672         0.1606780\n",
       "sample3-3.30_Nneg         0.3233383         0.3289339         0.1912674\n",
       "                  sample2-4.25_Nneg sample3-4.18_Nneg sample2-2.10_Nneg\n",
       "sample4-4.21_Nneg                                                      \n",
       "sample5-2.06_Nneg                                                      \n",
       "sample5-3.13_Nneg                                                      \n",
       "sample2-2.08_Nneg                                                      \n",
       "sample5-1.17_Nneg                                                      \n",
       "sample5-4.08_Nneg                                                      \n",
       "sample4-1.03_Nneg                                                      \n",
       "sample5-2.11_Nneg                                                      \n",
       "sample2-3.05_Nneg                                                      \n",
       "sample5-4.05_Nneg                                                      \n",
       "sample5-3.16_Nneg                                                      \n",
       "sample2-1.08_Nneg                                                      \n",
       "sample5-1.16_Nneg                                                      \n",
       "sample4-3.10_Nneg                                                      \n",
       "sample2-4.25_Nneg                                                      \n",
       "sample3-4.18_Nneg         0.2331487                                    \n",
       "sample2-2.10_Nneg         0.3575824         0.3816855                  \n",
       "sample2-3.20_Nneg         0.2335430         0.2476886         0.3340447\n",
       "sample3-1.20_Nneg         0.3099798         0.3145224         0.2956115\n",
       "sample2-1.24_Nneg         0.2208580         0.2573819         0.3040604\n",
       "sample3-2.19_Nneg         0.2012093         0.1959057         0.3217026\n",
       "sample3-3.30_Nneg         0.2351397         0.2286788         0.3542649\n",
       "                  sample2-3.20_Nneg sample3-1.20_Nneg sample2-1.24_Nneg\n",
       "sample4-4.21_Nneg                                                      \n",
       "sample5-2.06_Nneg                                                      \n",
       "sample5-3.13_Nneg                                                      \n",
       "sample2-2.08_Nneg                                                      \n",
       "sample5-1.17_Nneg                                                      \n",
       "sample5-4.08_Nneg                                                      \n",
       "sample4-1.03_Nneg                                                      \n",
       "sample5-2.11_Nneg                                                      \n",
       "sample2-3.05_Nneg                                                      \n",
       "sample5-4.05_Nneg                                                      \n",
       "sample5-3.16_Nneg                                                      \n",
       "sample2-1.08_Nneg                                                      \n",
       "sample5-1.16_Nneg                                                      \n",
       "sample4-3.10_Nneg                                                      \n",
       "sample2-4.25_Nneg                                                      \n",
       "sample3-4.18_Nneg                                                      \n",
       "sample2-2.10_Nneg                                                      \n",
       "sample2-3.20_Nneg                                                      \n",
       "sample3-1.20_Nneg         0.1990762                                    \n",
       "sample2-1.24_Nneg         0.1582078         0.2275743                  \n",
       "sample3-2.19_Nneg         0.1940310         0.2485241         0.2096542\n",
       "sample3-3.30_Nneg         0.1637463         0.2223193         0.2134040\n",
       "                  sample3-2.19_Nneg\n",
       "sample4-4.21_Nneg                  \n",
       "sample5-2.06_Nneg                  \n",
       "sample5-3.13_Nneg                  \n",
       "sample2-2.08_Nneg                  \n",
       "sample5-1.17_Nneg                  \n",
       "sample5-4.08_Nneg                  \n",
       "sample4-1.03_Nneg                  \n",
       "sample5-2.11_Nneg                  \n",
       "sample2-3.05_Nneg                  \n",
       "sample5-4.05_Nneg                  \n",
       "sample5-3.16_Nneg                  \n",
       "sample2-1.08_Nneg                  \n",
       "sample5-1.16_Nneg                  \n",
       "sample4-3.10_Nneg                  \n",
       "sample2-4.25_Nneg                  \n",
       "sample3-4.18_Nneg                  \n",
       "sample2-2.10_Nneg                  \n",
       "sample2-3.20_Nneg                  \n",
       "sample3-1.20_Nneg                  \n",
       "sample2-1.24_Nneg                  \n",
       "sample3-2.19_Nneg                  \n",
       "sample3-3.30_Nneg         0.1662544\n"
      ]
     },
     "metadata": {},
     "output_type": "display_data"
    }
   ],
   "source": [
    "%%R\n",
    "ES.wunif.dist"
   ]
  },
  {
   "cell_type": "code",
   "execution_count": 218,
   "metadata": {
    "collapsed": false
   },
   "outputs": [
    {
     "data": {
      "text/plain": [
       "                  sample4-2.02_Nneg sample4-4.21_Nneg sample5-2.06_Nneg\n",
       "sample4-4.21_Nneg        0.13420023                                    \n",
       "sample5-2.06_Nneg        0.49671429        0.45202396                  \n",
       "sample5-3.13_Nneg        0.39593974        0.31913077        0.73159291\n",
       "sample2-2.08_Nneg        1.23650925        1.16850134        1.54421109\n",
       "sample5-1.17_Nneg        0.46495470        0.45818349        0.13538020\n",
       "sample5-4.08_Nneg        1.14068969        1.15873495        0.76191904\n",
       "sample4-1.03_Nneg        1.02945084        0.98318713        1.39765417\n",
       "sample5-2.11_Nneg        0.90782875        0.99129633        0.80641858\n",
       "sample2-3.05_Nneg        0.45999486        0.44568977        0.89219069\n",
       "sample5-4.05_Nneg        1.52668144        1.57811543        1.24388200\n",
       "sample5-3.16_Nneg        0.69626276        0.79463557        0.70745377\n",
       "sample2-1.08_Nneg        1.02473529        0.98060570        1.39671224\n",
       "sample5-1.16_Nneg        0.80263437        0.88903892        0.73150049\n",
       "sample4-3.10_Nneg        0.49431103        0.52369424        0.27407551\n",
       "sample2-4.25_Nneg        0.46087662        0.52394122        0.95393118\n",
       "sample3-4.18_Nneg        0.49181227        0.52599362        0.97307268\n",
       "sample2-2.10_Nneg        0.19602832        0.16781617        0.61829077\n",
       "sample2-3.20_Nneg        0.07213912        0.06549782        0.47421035\n",
       "sample3-1.20_Nneg        0.44510227        0.44357994        0.89363089\n",
       "sample2-1.24_Nneg        0.55555524        0.60143736        0.36878788\n",
       "sample3-2.19_Nneg        0.66260330        0.68002959        1.13117995\n",
       "sample3-3.30_Nneg        0.34267944        0.41882781        0.83849071\n",
       "                  sample5-3.13_Nneg sample2-2.08_Nneg sample5-1.17_Nneg\n",
       "sample4-4.21_Nneg                                                      \n",
       "sample5-2.06_Nneg                                                      \n",
       "sample5-3.13_Nneg                                                      \n",
       "sample2-2.08_Nneg        0.84967418                                    \n",
       "sample5-1.17_Nneg        0.76529376        1.60133045                  \n",
       "sample5-4.08_Nneg        1.46950557        2.30205692        0.70426554\n",
       "sample4-1.03_Nneg        0.67001963        0.27948185        1.43519330\n",
       "sample5-2.11_Nneg        1.30084175        2.14371670        0.67739100\n",
       "sample2-3.05_Nneg        0.22312470        0.81548059        0.89927928\n",
       "sample5-4.05_Nneg        1.89692372        2.74514309        1.15591941\n",
       "sample5-3.16_Nneg        1.09207588        1.92531221        0.57208587\n",
       "sample2-1.08_Nneg        0.66864278        0.29425761        1.43274794\n",
       "sample5-1.16_Nneg        1.19654319        2.03805958        0.59884962\n",
       "sample4-3.10_Nneg        0.84148684        1.68828818        0.13962621\n",
       "sample2-4.25_Nneg        0.45933992        1.03653330        0.92029722\n",
       "sample3-4.18_Nneg        0.38944850        0.91958348        0.95535502\n",
       "sample2-2.10_Nneg        0.20730560        1.04096563        0.62018976\n",
       "sample2-3.20_Nneg        0.34626611        1.19389257        0.46213221\n",
       "sample3-1.20_Nneg        0.25067845        0.84901114        0.89409834\n",
       "sample2-1.24_Nneg        0.91994319        1.76875072        0.23646764\n",
       "sample3-2.19_Nneg        0.47464619        0.79003846        1.12317009\n",
       "sample3-3.30_Nneg        0.42121357        1.09961909        0.80048511\n",
       "                  sample5-4.08_Nneg sample4-1.03_Nneg sample5-2.11_Nneg\n",
       "sample4-4.21_Nneg                                                      \n",
       "sample5-2.06_Nneg                                                      \n",
       "sample5-3.13_Nneg                                                      \n",
       "sample2-2.08_Nneg                                                      \n",
       "sample5-1.17_Nneg                                                      \n",
       "sample5-4.08_Nneg                                                      \n",
       "sample4-1.03_Nneg        2.13927279                                    \n",
       "sample5-2.11_Nneg        0.58888214        1.92753352                  \n",
       "sample2-3.05_Nneg        1.59308099        0.58344579        1.34647041\n",
       "sample5-4.05_Nneg        0.53019907        2.55485618        0.69089709\n",
       "sample5-3.16_Nneg        0.74397810        1.70097279        0.24078318\n",
       "sample2-1.08_Nneg        2.13650419        0.04247528        1.92068862\n",
       "sample5-1.16_Nneg        0.62807496        1.82082602        0.10693856\n",
       "sample4-3.10_Nneg        0.64650240        1.50605088        0.54035976\n",
       "sample2-4.25_Nneg        1.56744921        0.77471471        1.22453524\n",
       "sample3-4.18_Nneg        1.62464950        0.65911642        1.31274612\n",
       "sample2-2.10_Nneg        1.31564698        0.83722267        1.10293496\n",
       "sample2-3.20_Nneg        1.15399726        0.99753852        0.95495526\n",
       "sample3-1.20_Nneg        1.58334833        0.60972634        1.32191845\n",
       "sample2-1.24_Nneg        0.59931231        1.57889870        0.44235710\n",
       "sample3-2.19_Nneg        1.80041359        0.51692064        1.49132841\n",
       "sample3-3.30_Nneg        1.44660314        0.84815472        1.11473286\n",
       "                  sample2-3.05_Nneg sample5-4.05_Nneg sample5-3.16_Nneg\n",
       "sample4-4.21_Nneg                                                      \n",
       "sample5-2.06_Nneg                                                      \n",
       "sample5-3.13_Nneg                                                      \n",
       "sample2-2.08_Nneg                                                      \n",
       "sample5-1.17_Nneg                                                      \n",
       "sample5-4.08_Nneg                                                      \n",
       "sample4-1.03_Nneg                                                      \n",
       "sample5-2.11_Nneg                                                      \n",
       "sample2-3.05_Nneg                                                      \n",
       "sample5-4.05_Nneg        1.98260264                                    \n",
       "sample5-3.16_Nneg        1.11979846        0.92882514                  \n",
       "sample2-1.08_Nneg        0.57448845        2.54972136        1.69353742\n",
       "sample5-1.16_Nneg        1.23976513        0.78902108        0.14017392\n",
       "sample4-3.10_Nneg        0.94898666        1.05733055        0.43535201\n",
       "sample2-4.25_Nneg        0.28005572        1.89599792        0.98590615\n",
       "sample3-4.18_Nneg        0.18513618        1.97530860        1.07648263\n",
       "sample2-2.10_Nneg        0.28015689        1.71766559        0.88885333\n",
       "sample2-3.20_Nneg        0.44034968        1.55787248        0.75069996\n",
       "sample3-1.20_Nneg        0.04644687        1.96441491        1.09288950\n",
       "sample2-1.24_Nneg        1.01275296        0.97735822        0.35108197\n",
       "sample3-2.19_Nneg        0.25924378        2.15508245        1.25424044\n",
       "sample3-3.30_Nneg        0.29819448        1.78131409        0.87782501\n",
       "                  sample2-1.08_Nneg sample5-1.16_Nneg sample4-3.10_Nneg\n",
       "sample4-4.21_Nneg                                                      \n",
       "sample5-2.06_Nneg                                                      \n",
       "sample5-3.13_Nneg                                                      \n",
       "sample2-2.08_Nneg                                                      \n",
       "sample5-1.17_Nneg                                                      \n",
       "sample5-4.08_Nneg                                                      \n",
       "sample4-1.03_Nneg                                                      \n",
       "sample5-2.11_Nneg                                                      \n",
       "sample2-3.05_Nneg                                                      \n",
       "sample5-4.05_Nneg                                                      \n",
       "sample5-3.16_Nneg                                                      \n",
       "sample2-1.08_Nneg                                                      \n",
       "sample5-1.16_Nneg        1.81397095                                    \n",
       "sample4-3.10_Nneg        1.50231163        0.45953160                  \n",
       "sample2-4.25_Nneg        0.76185259        1.11895022        0.92864416\n",
       "sample3-4.18_Nneg        0.64793130        1.20626082        0.97962979\n",
       "sample2-2.10_Nneg        0.83252522        0.99756973        0.67327166\n",
       "sample2-3.20_Nneg        0.99333711        0.85110945        0.51115224\n",
       "sample3-1.20_Nneg        0.60098705        1.21505347        0.93763658\n",
       "sample2-1.24_Nneg        1.57416291        0.36324574        0.09899766\n",
       "sample3-2.19_Nneg        0.50385869        1.38498591        1.15438978\n",
       "sample3-3.30_Nneg        0.83819662        1.00842886        0.80707590\n",
       "                  sample2-4.25_Nneg sample3-4.18_Nneg sample2-2.10_Nneg\n",
       "sample4-4.21_Nneg                                                      \n",
       "sample5-2.06_Nneg                                                      \n",
       "sample5-3.13_Nneg                                                      \n",
       "sample2-2.08_Nneg                                                      \n",
       "sample5-1.17_Nneg                                                      \n",
       "sample5-4.08_Nneg                                                      \n",
       "sample4-1.03_Nneg                                                      \n",
       "sample5-2.11_Nneg                                                      \n",
       "sample2-3.05_Nneg                                                      \n",
       "sample5-4.05_Nneg                                                      \n",
       "sample5-3.16_Nneg                                                      \n",
       "sample2-1.08_Nneg                                                      \n",
       "sample5-1.16_Nneg                                                      \n",
       "sample4-3.10_Nneg                                                      \n",
       "sample2-4.25_Nneg                                                      \n",
       "sample3-4.18_Nneg        0.11987072                                    \n",
       "sample2-2.10_Nneg        0.37826352        0.36405516                  \n",
       "sample2-3.20_Nneg        0.48415033        0.49945678        0.16217013\n",
       "sample3-1.20_Nneg        0.23704406        0.14365478        0.27611674\n",
       "sample2-1.24_Nneg        0.96843341        1.02897939        0.74225065\n",
       "sample3-2.19_Nneg        0.27585785        0.17979583        0.51327489\n",
       "sample3-3.30_Nneg        0.12428181        0.19899239        0.29216753\n",
       "                  sample2-3.20_Nneg sample3-1.20_Nneg sample2-1.24_Nneg\n",
       "sample4-4.21_Nneg                                                      \n",
       "sample5-2.06_Nneg                                                      \n",
       "sample5-3.13_Nneg                                                      \n",
       "sample2-2.08_Nneg                                                      \n",
       "sample5-1.17_Nneg                                                      \n",
       "sample5-4.08_Nneg                                                      \n",
       "sample4-1.03_Nneg                                                      \n",
       "sample5-2.11_Nneg                                                      \n",
       "sample2-3.05_Nneg                                                      \n",
       "sample5-4.05_Nneg                                                      \n",
       "sample5-3.16_Nneg                                                      \n",
       "sample2-1.08_Nneg                                                      \n",
       "sample5-1.16_Nneg                                                      \n",
       "sample4-3.10_Nneg                                                      \n",
       "sample2-4.25_Nneg                                                      \n",
       "sample3-4.18_Nneg                                                      \n",
       "sample2-2.10_Nneg                                                      \n",
       "sample2-3.20_Nneg                                                      \n",
       "sample3-1.20_Nneg        0.43248006                                    \n",
       "sample2-1.24_Nneg        0.58139397        0.99834613                  \n",
       "sample3-2.19_Nneg        0.66228674        0.24243117        1.20650171\n",
       "sample3-3.30_Nneg        0.37347351        0.25685301        0.84778436\n",
       "                  sample3-2.19_Nneg\n",
       "sample4-4.21_Nneg                  \n",
       "sample5-2.06_Nneg                  \n",
       "sample5-3.13_Nneg                  \n",
       "sample2-2.08_Nneg                  \n",
       "sample5-1.17_Nneg                  \n",
       "sample5-4.08_Nneg                  \n",
       "sample4-1.03_Nneg                  \n",
       "sample5-2.11_Nneg                  \n",
       "sample2-3.05_Nneg                  \n",
       "sample5-4.05_Nneg                  \n",
       "sample5-3.16_Nneg                  \n",
       "sample2-1.08_Nneg                  \n",
       "sample5-1.16_Nneg                  \n",
       "sample4-3.10_Nneg                  \n",
       "sample2-4.25_Nneg                  \n",
       "sample3-4.18_Nneg                  \n",
       "sample2-2.10_Nneg                  \n",
       "sample2-3.20_Nneg                  \n",
       "sample3-1.20_Nneg                  \n",
       "sample2-1.24_Nneg                  \n",
       "sample3-2.19_Nneg                  \n",
       "sample3-3.30_Nneg        0.37660543\n"
      ]
     },
     "metadata": {},
     "output_type": "display_data"
    }
   ],
   "source": [
    "%%R\n",
    "Fun_dist"
   ]
  },
  {
   "cell_type": "code",
   "execution_count": 228,
   "metadata": {
    "collapsed": false,
    "scrolled": false
   },
   "outputs": [
    {
     "data": {
      "text/plain": [
       "[1] SETFA MS71  AMAPO H99   ABUTH ECHCG\n",
       "Levels: ABUTH AMAPO ECHCG H99 MS71 SETFA\n"
      ]
     },
     "metadata": {},
     "output_type": "display_data"
    },
    {
     "data": {
      "image/png": "[encoded data removed]"
     },
     "metadata": {},
     "output_type": "display_data"
    }
   ],
   "source": [
    "%%R -w 800 -h 600\n",
    "\n",
    "\n",
    "sample_data(ES)$DAP = as.factor(sample_data(ES)$DAP)\n",
    "unique(sample_data(ES)$Plant) %>% print\n",
    "# CAP ordinate\n",
    "cap.ord = ordinate(\n",
    "    physeq = ES, \n",
    "    method = \"CAP\",\n",
    "    distance = ES.wunif.dist,\n",
    "    formula = ~ log(Biomass_P) + log(tN_p) + log(Plant_CN) + Condition(DAP)\n",
    ")\n",
    "\n",
    "# CAP plot\n",
    "cap.plot <- plot_ordination(\n",
    "    ES, \n",
    "    cap.ord, \n",
    "    color = \"DAP\", \n",
    "    axes = c(1,2)\n",
    "    ) + \n",
    "    aes(shape = Type) + \n",
    "    geom_point(aes(colour = DAP), \n",
    "        alpha= 1, \n",
    "        size = 4) + \n",
    "    #geom_point(colour = \"grey90\", \n",
    "    #    size = 1.5) + \n",
    "    theme_bw(base_size = 16)\n",
    "    #scale_color_manual(values = c(\"#a65628\", \"red\", \"#ffae19\", \"#4daf4a\", \n",
    "    #    \"#1919ff\", \"darkorchid3\", \"magenta\"))\n",
    "\n",
    "\n",
    "# Now add the environmental variables as arrows\n",
    "arrowmat <- vegan::scores(cap.ord, display = \"bp\")\n",
    "\n",
    "\n",
    "# Add labels, make a data.frame\n",
    "arrowdf <- data.frame(labels = rownames(arrowmat), arrowmat)\n",
    "\n",
    "# Define the arrow aesthetic mapping\n",
    "arrow_map <- aes(xend = CAP1, \n",
    "    yend = CAP2, \n",
    "    x = 0, \n",
    "    y = 0, \n",
    "    shape = NULL, \n",
    "    color = NULL, \n",
    "    label = labels)\n",
    "\n",
    "label_map <- aes(x = 1.3 * CAP1, \n",
    "    y = 1.3 * CAP2, \n",
    "    shape = NULL, \n",
    "    color = NULL, \n",
    "    label = labels)\n",
    "\n",
    "arrowhead = arrow(length = unit(0.02, \"npc\"))\n",
    "\n",
    "# Make a new graphic\n",
    "cap.plot + \n",
    "geom_segment(arrow_map, \n",
    "    size = .5, \n",
    "    data = arrowdf, \n",
    "    color = \"gray\", \n",
    "    arrow = arrowhead\n",
    "    ) + \n",
    "geom_text(label_map, \n",
    "    size = 4,  \n",
    "    data = arrowdf, \n",
    "    show_guide = FALSE)"
   ]
  },
  {
   "cell_type": "code",
   "execution_count": 229,
   "metadata": {
    "collapsed": false,
    "scrolled": true
   },
   "outputs": [
    {
     "data": {
      "text/plain": [
       "Permutation test for capscale under reduced model\n",
       "Permutation: free\n",
       "Number of permutations: 999\n",
       "\n",
       "Model: capscale(formula = distance ~ log(Biomass_P) + log(tN_p) + log(Plant_CN) + Condition(DAP), data = data)\n",
       "         Df SumOfSqs      F Pr(>F)\n",
       "Model     3  0.06851 0.9967  0.453\n",
       "Residual 16  0.36657              \n"
      ]
     },
     "metadata": {},
     "output_type": "display_data"
    }
   ],
   "source": [
    "%%R\n",
    "anova(cap.ord)"
   ]
  },
  {
   "cell_type": "markdown",
   "metadata": {},
   "source": [
    "# Analyze subset from later season"
   ]
  },
  {
   "cell_type": "code",
   "execution_count": 230,
   "metadata": {
    "collapsed": false
   },
   "outputs": [
    {
     "data": {
      "text/plain": [
       "[1] \"ELCOR\"  \"HELAN\"  \"Ki3\"    \"SORBI\"  \"SORSUD\" \"Tx303\" \n",
       "Importance of components:\n",
       "                          PC1    PC2    PC3     PC4     PC5\n",
       "Standard deviation     1.4632 1.3787 0.7690 0.60481 0.02821\n",
       "Proportion of Variance 0.4282 0.3802 0.1183 0.07316 0.00016\n",
       "Cumulative Proportion  0.4282 0.8084 0.9267 0.99984 1.00000\n",
       "                       PC1         PC2         PC3        PC4          PC5\n",
       "log(Biomass_P) -0.56657768  0.36487083 -0.27022495  0.2097429  0.654862880\n",
       "log(tN_p)      -0.66903583  0.06983457  0.06781845  0.2828743 -0.680365338\n",
       "log(Plant_CN)   0.22357174  0.55739113 -0.69126732 -0.2320981 -0.328040810\n",
       "NResp.CN        0.09966201 -0.58848220 -0.61362625  0.5169113 -0.004656492\n",
       "NResp.B         0.41408207  0.45276510  0.26075171  0.7449317 -0.025003182\n"
      ]
     },
     "metadata": {},
     "output_type": "display_data"
    },
    {
     "data": {
      "image/png": "[encoded data removed]"
     },
     "metadata": {},
     "output_type": "display_data"
    }
   ],
   "source": [
    "%%R\n",
    "# PCA of annuals\n",
    "ES = subset_samples(physeq.Full, Plant %in% c(\"SORBI\", \"SORSUD\", \"HELAN\", \"ELCOR\",\n",
    "                                                        \"Ki3\", \"Tx303\") & Treatment == \"Nneg\")\n",
    "\n",
    "\n",
    "\n",
    "sd = as(sample_data(ES), \"data.frame\")\n",
    "sd$Plant %>% levels %>% print\n",
    "\n",
    "sd = left_join(sd, NResp, by = \"Plot\")\n",
    "head(sd)\n",
    "\n",
    "#sd = left_join(sd, M_GDD, by = \"DAP\")\n",
    "\n",
    "fit = prcomp(~log(Biomass_P) + log(tN_p) + log(Plant_CN) + NResp.CN + NResp.B, data = sd, \n",
    "                na.action = na.exclude, center = TRUE, scale = TRUE)\n",
    "\n",
    "summary(fit) %>% print\n",
    "fit$rotation %>% print\n",
    "biplot(fit)"
   ]
  },
  {
   "cell_type": "code",
   "execution_count": 231,
   "metadata": {
    "collapsed": false,
    "scrolled": false
   },
   "outputs": [
    {
     "data": {
      "image/png": "[encoded data removed]"
     },
     "metadata": {},
     "output_type": "display_data"
    }
   ],
   "source": [
    "%%R -w 600 -h 500\n",
    "S = predict(fit)[,1:3]\n",
    "E_Fit = cbind(sd, S)\n",
    "row.names(E_Fit) = E_Fit$X.sample\n",
    "sample_data(ES) = E_Fit\n",
    "\n",
    "\n",
    "p = ggplot(E_Fit, aes(PC1, PC2, colour = Plant, \n",
    "                       size = A_Resid_logN, pch = as.factor(DAP)))\n",
    "p = p + geom_point()\n",
    "p = p + scale_colour_brewer(palette=\"Paired\")\n",
    "p = p + ggtitle(\"PCA of late Season Contrasts: Biomass, N uptake, C:N ratio, Nresponse\")\n",
    "p"
   ]
  },
  {
   "cell_type": "code",
   "execution_count": 232,
   "metadata": {
    "collapsed": false,
    "scrolled": false
   },
   "outputs": [
    {
     "data": {
      "text/plain": [
       "\n",
       "Mantel statistic based on Pearson's product-moment correlation \n",
       "\n",
       "Call:\n",
       "mantel(xdis = Phy_date, ydis = Udate, method = \"pearson\", permutations = 999) \n",
       "\n",
       "Mantel statistic r: 0.3547 \n",
       "      Significance: 0.001 \n",
       "\n",
       "Upper quantiles of permutations (null model):\n",
       "  90%   95% 97.5%   99% \n",
       "0.097 0.143 0.168 0.195 \n",
       "Permutation: free\n",
       "Number of permutations: 999\n",
       "\n"
      ]
     },
     "metadata": {},
     "output_type": "display_data"
    }
   ],
   "source": [
    "%%R\n",
    "\n",
    "# subset matrices\n",
    "D_dist = filter(Dist, PlantA %in% c(\"SORBI\", \"SORSUD\", \"HELAN\", \"ELCOR\", \"Ki3\", \"Tx303\") &\n",
    "                         PlantB %in% c(\"SORBI\", \"SORSUD\", \"HELAN\", \"ELCOR\", \"Ki3\", \"Tx303\"))\n",
    "                \n",
    "                                                        \n",
    "D_dist$PlantComp %>% unique\n",
    "#pull matrices\n",
    "    Temp = D_dist[!is.na(D_dist$phy_Dist),]\n",
    "    \n",
    "    #Seperate unifrac and phylogenetic distances retaining plot IDs\n",
    "\n",
    "    Udate = Temp[,c(1,2,3)]\n",
    "    Phy_date = Temp[,c(1,2,7)]\n",
    "\n",
    "    #Re-cast longform to wide form.  \n",
    "    Udate = acast(Udate, PlotA~PlotB)\n",
    "    Phy_date = acast(Phy_date, PlotA~PlotB)\n",
    "\n",
    "    #Convert to distance matrices\n",
    "    Phy_date = as.matrix(Phy_date) %>% dist()\n",
    "    Udate = as.matrix(Udate) %>% dist()\n",
    "\n",
    "M1 = mantel(Phy_date, Udate, method=\"pearson\", permutations=999)\n",
    "print(M1)"
   ]
  },
  {
   "cell_type": "code",
   "execution_count": null,
   "metadata": {
    "collapsed": false
   },
   "outputs": [],
   "source": [
    "%%R\n",
    "E_Fit %>% head"
   ]
  },
  {
   "cell_type": "code",
   "execution_count": 233,
   "metadata": {
    "collapsed": false,
    "scrolled": false
   },
   "outputs": [
    {
     "data": {
      "text/plain": [
       "\n",
       "Mantel statistic based on Pearson's product-moment correlation \n",
       "\n",
       "Call:\n",
       "mantel(xdis = ES.wunif.dist, ydis = Fun_dist, method = \"pearson\",      permutations = 999) \n",
       "\n",
       "Mantel statistic r: 0.3847 \n",
       "      Significance: 0.001 \n",
       "\n",
       "Upper quantiles of permutations (null model):\n",
       "  90%   95% 97.5%   99% \n",
       "0.116 0.148 0.185 0.216 \n",
       "Permutation: free\n",
       "Number of permutations: 999\n",
       "\n"
      ]
     },
     "metadata": {},
     "output_type": "display_data"
    }
   ],
   "source": [
    "%%R\n",
    "\n",
    "sd = sample_data(ES)\n",
    "\n",
    "\n",
    "# Calculate w-unifrac distances\n",
    "registerDoParallel(cores=28)\n",
    "ES.wunif.dist = distance(ES, \n",
    "                      method = \"unifrac\", \n",
    "                      weighted = TRUE,\n",
    "                      fast = TRUE, \n",
    "                      parallel = TRUE, \n",
    "                      normalized = FALSE)\n",
    "\n",
    "#Calculate functional distances\n",
    "sd$logB = log(sd$Biomass_P)\n",
    "sd$logN = log(sd$tN_p)\n",
    "sd$logCN = log(sd$Plant_CN)\n",
    "\n",
    "Fun_dist = dist(sd[,c(\"logB\",  \"logN\",  \"logCN\",  \"NResp.CN\",  \"NResp.B\")], method = \"euclidian\")\n",
    "\n",
    "\n",
    "M1 = mantel(ES.wunif.dist, Fun_dist, method=\"pearson\", permutations=999)\n",
    "M1"
   ]
  },
  {
   "cell_type": "code",
   "execution_count": 234,
   "metadata": {
    "collapsed": false,
    "scrolled": false
   },
   "outputs": [
    {
     "data": {
      "text/plain": [
       "[1] ELCOR  SORSUD Ki3    SORBI  HELAN  Tx303 \n",
       "Levels: ELCOR HELAN Ki3 SORBI SORSUD Tx303\n"
      ]
     },
     "metadata": {},
     "output_type": "display_data"
    },
    {
     "data": {
      "image/png": "[encoded data removed]"
     },
     "metadata": {},
     "output_type": "display_data"
    }
   ],
   "source": [
    "%%R -w 800 -h 600\n",
    "\n",
    "\n",
    "sample_data(ES)$DAP = as.factor(sample_data(ES)$DAP)\n",
    "unique(sample_data(ES)$Plant) %>% print\n",
    "# CAP ordinate\n",
    "cap.ord = ordinate(\n",
    "    physeq = ES, \n",
    "    method = \"CAP\",\n",
    "    distance = ES.wunif.dist,\n",
    "    formula = ~ log(Biomass_P) + log(tN_p) + log(Plant_CN) + NResp.B + NResp.CN + Condition(DAP)\n",
    ")\n",
    "\n",
    "# CAP plot\n",
    "cap.plot <- plot_ordination(\n",
    "    ES, \n",
    "    cap.ord, \n",
    "    color = \"DAP\", \n",
    "    axes = c(1,2)\n",
    "    ) + \n",
    "    aes(shape = Type) + \n",
    "    geom_point(aes(colour = DAP), \n",
    "        alpha= 1, \n",
    "        size = 4) + \n",
    "    #geom_point(colour = \"grey90\", \n",
    "    #    size = 1.5) + \n",
    "    theme_bw(base_size = 16)\n",
    "    #scale_color_manual(values = c(\"#a65628\", \"red\", \"#ffae19\", \"#4daf4a\", \n",
    "    #    \"#1919ff\", \"darkorchid3\", \"magenta\"))\n",
    "\n",
    "\n",
    "# Now add the environmental variables as arrows\n",
    "arrowmat <- vegan::scores(cap.ord, display = \"bp\")\n",
    "\n",
    "\n",
    "# Add labels, make a data.frame\n",
    "arrowdf <- data.frame(labels = rownames(arrowmat), arrowmat)\n",
    "\n",
    "# Define the arrow aesthetic mapping\n",
    "arrow_map <- aes(xend = CAP1, \n",
    "    yend = CAP2, \n",
    "    x = 0, \n",
    "    y = 0, \n",
    "    shape = NULL, \n",
    "    color = NULL, \n",
    "    label = labels)\n",
    "\n",
    "label_map <- aes(x = 1.3 * CAP1, \n",
    "    y = 1.3 * CAP2, \n",
    "    shape = NULL, \n",
    "    color = NULL, \n",
    "    label = labels)\n",
    "\n",
    "arrowhead = arrow(length = unit(0.02, \"npc\"))\n",
    "\n",
    "# Make a new graphic\n",
    "cap.plot + \n",
    "geom_segment(arrow_map, \n",
    "    size = .5, \n",
    "    data = arrowdf, \n",
    "    color = \"gray\", \n",
    "    arrow = arrowhead\n",
    "    ) + \n",
    "geom_text(label_map, \n",
    "    size = 4,  \n",
    "    data = arrowdf, \n",
    "    show_guide = FALSE)"
   ]
  },
  {
   "cell_type": "code",
   "execution_count": 235,
   "metadata": {
    "collapsed": false
   },
   "outputs": [
    {
     "data": {
      "text/plain": [
       "Permutation test for capscale under reduced model\n",
       "Permutation: free\n",
       "Number of permutations: 999\n",
       "\n",
       "Model: capscale(formula = distance ~ log(Biomass_P) + log(tN_p) + log(Plant_CN) + NResp.B + NResp.CN + Condition(DAP), data = data)\n",
       "         Df SumOfSqs      F Pr(>F)    \n",
       "Model     5  0.16597 1.9598  0.001 ***\n",
       "Residual 17  0.28794                  \n",
       "---\n",
       "Signif. codes:  0 ‘***’ 0.001 ‘**’ 0.01 ‘*’ 0.05 ‘.’ 0.1 ‘ ’ 1\n"
      ]
     },
     "metadata": {},
     "output_type": "display_data"
    }
   ],
   "source": [
    "%%R\n",
    "anova(cap.ord)"
   ]
  },
  {
   "cell_type": "markdown",
   "metadata": {},
   "source": [
    "# Analyze by date of sampling "
   ]
  },
  {
   "cell_type": "markdown",
   "metadata": {},
   "source": [
    "#### DAP = 72, Mantel test of phylogenetic distance and MCC weighted-unifrac distance"
   ]
  },
  {
   "cell_type": "code",
   "execution_count": 241,
   "metadata": {
    "collapsed": false
   },
   "outputs": [
    {
     "data": {
      "text/plain": [
       "              PlotA             PlotB w_Unif_Dist PlantA PlantB     PlantComp\n",
       "1 sample5-1.22_Nneg sample5-1.22_Nneg   0.0000000 75-062 75-062 75-062-75-062\n",
       "2 sample5-2.06_Npos sample5-1.22_Nneg   0.1902666   MS71 75-062   MS71-75-062\n",
       "3 sample5-4.08_Npos sample5-1.22_Nneg   0.1757315   MS71 75-062   MS71-75-062\n",
       "4 sample5-4.28_Npos sample5-1.22_Nneg   0.1457043 75-062 75-062 75-062-75-062\n",
       "5 sample5-1.29_Npos sample5-1.22_Nneg   0.2358625  ERATE 75-062  ERATE-75-062\n",
       "6 sample5-2.29_Nneg sample5-1.22_Nneg   0.1505018 75-062 75-062 75-062-75-062\n",
       "  phy_Dist\n",
       "1  0.00000\n",
       "2  0.00020\n",
       "3  0.00020\n",
       "4  0.00000\n",
       "5  0.04967\n",
       "6  0.00000\n"
      ]
     },
     "metadata": {},
     "output_type": "display_data"
    }
   ],
   "source": [
    "%%R\n",
    "head(Temp)"
   ]
  },
  {
   "cell_type": "code",
   "execution_count": 237,
   "metadata": {
    "collapsed": false,
    "scrolled": false
   },
   "outputs": [
    {
     "data": {
      "text/plain": [
       "\n",
       "Mantel statistic based on Pearson's product-moment correlation \n",
       "\n",
       "Call:\n",
       "mantel(xdis = Phy_date, ydis = Udate, method = \"pearson\", permutations = 999) \n",
       "\n",
       "Mantel statistic r: 0.0951 \n",
       "      Significance: 0.168 \n",
       "\n",
       "Upper quantiles of permutations (null model):\n",
       "  90%   95% 97.5%   99% \n",
       "0.133 0.181 0.225 0.269 \n",
       "Permutation: free\n",
       "Number of permutations: 999\n",
       "\n"
      ]
     },
     "metadata": {},
     "output_type": "display_data"
    }
   ],
   "source": [
    "%%R\n",
    "# subset matrices\n",
    "D_dist = filter(Dist, PlantA %in% c(\"75-062\", \"ERATE\",  \"H99\" , \"Il14H\" , \"MS71\") & PlantB %in% c(\"75-062\", \"ERATE\",  \"H99\" , \"Il14H\" , \"MS71\"))\n",
    "D_dist$PlantComp %>% unique\n",
    "#pull matrices\n",
    "    Temp = D_dist[!is.na(D_dist$phy_Dist),]\n",
    "    \n",
    "    #Seperate unifrac and phylogenetic distances retaining plot IDs\n",
    "\n",
    "    Udate = Temp[,c(1,2,3)]\n",
    "    Phy_date = Temp[,c(1,2,7)]\n",
    "\n",
    "    #Re-cast longform to wide form.  \n",
    "    Udate = acast(Udate, PlotA~PlotB)\n",
    "    Phy_date = acast(Phy_date, PlotA~PlotB)\n",
    "\n",
    "    #Convert to distance matrices\n",
    "    Phy_date = as.matrix(Phy_date) %>% dist()\n",
    "    Udate = as.matrix(Udate) %>% dist()\n",
    "\n",
    "M1 = mantel(Phy_date, Udate, method=\"pearson\", permutations=999)\n",
    "print(M1)\n"
   ]
  },
  {
   "cell_type": "markdown",
   "metadata": {},
   "source": [
    "#### Day 72; Mantel test of N economy traits and MCC weighted-unifrac distance"
   ]
  },
  {
   "cell_type": "code",
   "execution_count": 238,
   "metadata": {
    "collapsed": false,
    "scrolled": true
   },
   "outputs": [
    {
     "data": {
      "text/plain": [
       "\n",
       "Mantel statistic based on Pearson's product-moment correlation \n",
       "\n",
       "Call:\n",
       "mantel(xdis = date.wunif.dist, ydis = Fun_dist, method = \"pearson\",      permutations = 999) \n",
       "\n",
       "Mantel statistic r: -0.003534 \n",
       "      Significance: 0.474 \n",
       "\n",
       "Upper quantiles of permutations (null model):\n",
       "  90%   95% 97.5%   99% \n",
       "0.118 0.151 0.176 0.215 \n",
       "Permutation: free\n",
       "Number of permutations: 999\n",
       "\n"
      ]
     },
     "metadata": {},
     "output_type": "display_data"
    }
   ],
   "source": [
    "%%R\n",
    "physeq.Date = subset_samples(physeq.Plant, DAP == \"72\")\n",
    "sd = sample_data(physeq.Date)\n",
    "\n",
    "\n",
    "# Calculate w-unifrac distances\n",
    "registerDoParallel(cores=28)\n",
    "date.wunif.dist = distance(physeq.Date, \n",
    "                      method = \"unifrac\", \n",
    "                      weighted = TRUE,\n",
    "                      fast = TRUE, \n",
    "                      parallel = TRUE, \n",
    "                      normalized = FALSE)\n",
    "\n",
    "#Calculate functional distances\n",
    "Fun_dist = dist(sd[,c(\"A_Resid_logB\", \"A_Resid_logN\", \"A_Resid_logCN\")], method = \"euclidian\")\n",
    "\n",
    "\n",
    "M1 = mantel(date.wunif.dist, Fun_dist, method=\"pearson\", permutations=999)\n",
    "M1"
   ]
  },
  {
   "cell_type": "markdown",
   "metadata": {},
   "source": [
    "#### Day = 84; Mantel test of phylogenetic distance and MCC weighted-unifrac distance"
   ]
  },
  {
   "cell_type": "code",
   "execution_count": 242,
   "metadata": {
    "collapsed": false
   },
   "outputs": [
    {
     "data": {
      "text/plain": [
       "[1] \"SORBI-SORBI\"   \"SORSUD-SORBI\"  \"HELAN-SORBI\"   \"SORBI-SORSUD\" \n",
       "[5] \"SORSUD-SORSUD\" \"HELAN-SORSUD\"  \"SORBI-HELAN\"   \"SORSUD-HELAN\" \n",
       "[9] \"HELAN-HELAN\"  \n",
       "\n",
       "Mantel statistic based on Pearson's product-moment correlation \n",
       "\n",
       "Call:\n",
       "mantel(xdis = Phy_date, ydis = Udate, method = \"pearson\", permutations = 999) \n",
       "\n",
       "Mantel statistic r: 0.6092 \n",
       "      Significance: 0.001 \n",
       "\n",
       "Upper quantiles of permutations (null model):\n",
       "  90%   95% 97.5%   99% \n",
       "0.107 0.135 0.165 0.209 \n",
       "Permutation: free\n",
       "Number of permutations: 999\n",
       "\n"
      ]
     },
     "metadata": {},
     "output_type": "display_data"
    }
   ],
   "source": [
    "%%R\n",
    "# subset matrices\n",
    "D_dist = filter(Dist, PlantA %in% c(\"HELAN\" , \"SORBI\" , \"SORSUD\") & PlantB %in% c(\"HELAN\" , \"SORBI\" , \"SORSUD\"))\n",
    "D_dist$PlantComp %>% unique %>% print\n",
    "#pull matrices\n",
    "    Temp = D_dist[!is.na(D_dist$phy_Dist),]\n",
    "    \n",
    "    #Seperate unifrac and phylogenetic distances retaining plot IDs\n",
    "\n",
    "    Udate = Temp[,c(1,2,3)]\n",
    "    Phy_date = Temp[,c(1,2,7)]\n",
    "\n",
    "    #Re-cast longform to wide form.  \n",
    "    Udate = acast(Udate, PlotA~PlotB)\n",
    "    Phy_date = acast(Phy_date, PlotA~PlotB)\n",
    "\n",
    "    #Convert to distance matrices\n",
    "    Phy_date = as.matrix(Phy_date) %>% dist()\n",
    "    Udate = as.matrix(Udate) %>% dist()\n",
    "\n",
    "M1 = mantel(Phy_date, Udate, method=\"pearson\", permutations=999)\n",
    "print(M1)"
   ]
  },
  {
   "cell_type": "markdown",
   "metadata": {},
   "source": [
    "#### Day 84; Mantel test of N economy traits and MCC weighted-unifrac distance"
   ]
  },
  {
   "cell_type": "code",
   "execution_count": 248,
   "metadata": {
    "collapsed": false,
    "scrolled": false
   },
   "outputs": [
    {
     "data": {
      "text/plain": [
       "\n",
       "Mantel statistic based on Pearson's product-moment correlation \n",
       "\n",
       "Call:\n",
       "mantel(xdis = date.wunif.dist, ydis = Fun_dist, method = \"pearson\",      permutations = 999) \n",
       "\n",
       "Mantel statistic r: 0.09488 \n",
       "      Significance: 0.098 \n",
       "\n",
       "Upper quantiles of permutations (null model):\n",
       "   90%    95%  97.5%    99% \n",
       "0.0913 0.1326 0.1558 0.2073 \n",
       "Permutation: free\n",
       "Number of permutations: 999\n",
       "\n"
      ]
     },
     "metadata": {},
     "output_type": "display_data"
    }
   ],
   "source": [
    "%%R\n",
    "physeq.Date = subset_samples(physeq.Plant, DAP == \"84\")\n",
    "sd = sample_data(physeq.Date)\n",
    "\n",
    "# Calculate w-unifrac distances\n",
    "registerDoParallel(cores=28)\n",
    "date.wunif.dist = distance(physeq.Date, \n",
    "                      method = \"unifrac\", \n",
    "                      weighted = TRUE,\n",
    "                      fast = TRUE, \n",
    "                      parallel = TRUE, \n",
    "                      normalized = FALSE)\n",
    "\n",
    "#Calculate functional distances\n",
    "Fun_dist = dist(sd[,c(\"A_Resid_logB\", \"A_Resid_logN\", \"A_Resid_logCN\")], method = \"euclidian\")\n",
    "\n",
    "\n",
    "M1 = mantel(date.wunif.dist, Fun_dist, method=\"pearson\", permutations=999)\n",
    "M1\n",
    "\n",
    "\n"
   ]
  },
  {
   "cell_type": "markdown",
   "metadata": {},
   "source": [
    "#### CAP Analysis of DAP 84"
   ]
  },
  {
   "cell_type": "code",
   "execution_count": 246,
   "metadata": {
    "collapsed": false,
    "scrolled": false
   },
   "outputs": [
    {
     "data": {
      "text/plain": [
       "[1] 84\n",
       "Levels: 84\n"
      ]
     },
     "metadata": {},
     "output_type": "display_data"
    },
    {
     "data": {
      "image/png": "[encoded data removed]"
     },
     "metadata": {},
     "output_type": "display_data"
    }
   ],
   "source": [
    "%%R -w 800 -h 600\n",
    "\n",
    "phy = physeq.Date\n",
    "sample_data(phy)$DAP = as.factor(sample_data(phy)$DAP)\n",
    "unique(sample_data(phy)$DAP) %>% print\n",
    "# CAP ordinate\n",
    "cap.ord = ordinate(\n",
    "    physeq = phy, \n",
    "    method = \"CAP\",\n",
    "    distance = date.wunif.dist,\n",
    "    formula = ~ A_Resid_logB + A_Resid_logN + A_Resid_logCN\n",
    ")\n",
    "\n",
    "# CAP plot\n",
    "cap.plot <- plot_ordination(\n",
    "    phy, \n",
    "    cap.ord, \n",
    "    color = \"Plant\", \n",
    "    axes = c(1,2)\n",
    "    ) + \n",
    "    aes(shape = Type) + \n",
    "    geom_point(aes(colour = Plant), \n",
    "        alpha= 1, \n",
    "        size = 4) + \n",
    "    #geom_point(colour = \"grey90\", \n",
    "    #    size = 1.5) + \n",
    "    theme_bw(base_size = 16)\n",
    "    #scale_color_manual(values = c(\"#a65628\", \"red\", \"#ffae19\", \"#4daf4a\", \n",
    "    #    \"#1919ff\", \"darkorchid3\", \"magenta\"))\n",
    "\n",
    "\n",
    "# Now add the environmental variables as arrows\n",
    "arrowmat <- vegan::scores(cap.ord, display = \"bp\")\n",
    "\n",
    "\n",
    "# Add labels, make a data.frame\n",
    "arrowdf <- data.frame(labels = rownames(arrowmat), arrowmat)\n",
    "\n",
    "# Define the arrow aesthetic mapping\n",
    "arrow_map <- aes(xend = CAP1, \n",
    "    yend = CAP2, \n",
    "    x = 0, \n",
    "    y = 0, \n",
    "    shape = NULL, \n",
    "    color = NULL, \n",
    "    label = labels)\n",
    "\n",
    "label_map <- aes(x = 1.3 * CAP1, \n",
    "    y = 1.3 * CAP2, \n",
    "    shape = NULL, \n",
    "    color = NULL, \n",
    "    label = labels)\n",
    "\n",
    "arrowhead = arrow(length = unit(0.02, \"npc\"))\n",
    "\n",
    "# Make a new graphic\n",
    "cap.plot + \n",
    "geom_segment(arrow_map, \n",
    "    size = .5, \n",
    "    data = arrowdf, \n",
    "    color = \"gray\", \n",
    "    arrow = arrowhead\n",
    "    ) + \n",
    "geom_text(label_map, \n",
    "    size = 4,  \n",
    "    data = arrowdf, \n",
    "    show_guide = FALSE)"
   ]
  },
  {
   "cell_type": "code",
   "execution_count": 249,
   "metadata": {
    "collapsed": false
   },
   "outputs": [
    {
     "data": {
      "text/plain": [
       "Permutation test for capscale under reduced model\n",
       "Permutation: free\n",
       "Number of permutations: 999\n",
       "\n",
       "Model: capscale(formula = distance ~ A_Resid_logB + A_Resid_logN + A_Resid_logCN, data = data)\n",
       "         Df SumOfSqs      F Pr(>F)    \n",
       "Model     3  0.16051 3.1052  0.001 ***\n",
       "Residual 20  0.34460                  \n",
       "---\n",
       "Signif. codes:  0 ‘***’ 0.001 ‘**’ 0.01 ‘*’ 0.05 ‘.’ 0.1 ‘ ’ 1\n"
      ]
     },
     "metadata": {},
     "output_type": "display_data"
    }
   ],
   "source": [
    "%%R\n",
    "anova(cap.ord)"
   ]
  },
  {
   "cell_type": "markdown",
   "metadata": {},
   "source": [
    "#### DAP = 88; Mantel test of phylogenetic distance and MCC weighted-unifrac distance"
   ]
  },
  {
   "cell_type": "code",
   "execution_count": 250,
   "metadata": {
    "collapsed": false
   },
   "outputs": [
    {
     "data": {
      "text/plain": [
       "              PlotA             PlotB w_Unif_Dist PlantA PlantB   PlantComp\n",
       "1 sample8-2.07_Nneg sample8-2.07_Nneg   0.0000000  ELCOR  ELCOR ELCOR-ELCOR\n",
       "2 sample8-4.23_Nneg sample8-2.07_Nneg   0.2068083    Ki3  ELCOR   Ki3-ELCOR\n",
       "3 sample8-1.14_Npos sample8-2.07_Nneg   0.2428838  Tx303  ELCOR Tx303-ELCOR\n",
       "4 sample8-3.28_Npos sample8-2.07_Nneg   0.2563313  Tx303  ELCOR Tx303-ELCOR\n",
       "5 sample8-2.17_Npos sample8-2.07_Nneg   0.1954499   Mo18  ELCOR  Mo18-ELCOR\n",
       "6 sample8-2.25_Nneg sample8-2.07_Nneg   0.1608847    Ki3  ELCOR   Ki3-ELCOR\n",
       "  phy_Dist\n",
       "1   0.0000\n",
       "2   0.0509\n",
       "3   0.0509\n",
       "4   0.0509\n",
       "5   0.0509\n",
       "6   0.0509\n",
       " [1] \"ELCOR-ELCOR\" \"Ki3-ELCOR\"   \"Tx303-ELCOR\" \"Mo18-ELCOR\"  \"ELCOR-Ki3\"  \n",
       " [6] \"Ki3-Ki3\"     \"Tx303-Ki3\"   \"Mo18-Ki3\"    \"ELCOR-Tx303\" \"Ki3-Tx303\"  \n",
       "[11] \"Tx303-Tx303\" \"Mo18-Tx303\"  \"ELCOR-Mo18\"  \"Ki3-Mo18\"    \"Tx303-Mo18\" \n",
       "[16] \"Mo18-Mo18\"  \n",
       "\n",
       "Mantel statistic based on Pearson's product-moment correlation \n",
       "\n",
       "Call:\n",
       "mantel(xdis = Phy_date, ydis = Udate, method = \"pearson\", permutations = 999) \n",
       "\n",
       "Mantel statistic r: 0.6447 \n",
       "      Significance: 0.001 \n",
       "\n",
       "Upper quantiles of permutations (null model):\n",
       "  90%   95% 97.5%   99% \n",
       "0.103 0.143 0.179 0.229 \n",
       "Permutation: free\n",
       "Number of permutations: 999\n",
       "\n"
      ]
     },
     "metadata": {},
     "output_type": "display_data"
    }
   ],
   "source": [
    "%%R\n",
    "# subset matrices\n",
    "D_dist = filter(Dist, PlantA %in% c(\"ELCOR\", \"Ki3\", \"Mo18\", \"Tx303\") & PlantB %in% c(\"ELCOR\", \"Ki3\", \"Mo18\", \"Tx303\"))\n",
    "    D_dist %>% head() %>% print()\n",
    "D_dist$PlantComp %>% unique %>% print\n",
    "#pull matrices\n",
    "    Temp = D_dist[!is.na(D_dist$phy_Dist),]\n",
    "    \n",
    "    #Seperate unifrac and phylogenetic distances retaining plot IDs\n",
    "\n",
    "    Udate = Temp[,c(1,2,3)]\n",
    "    Phy_date = Temp[,c(1,2,7)]\n",
    "\n",
    "\n",
    "    #Re-cast longform to wide form.  \n",
    "    Udate = acast(Udate, PlotA~PlotB)\n",
    "    Phy_date = acast(Phy_date, PlotA~PlotB)\n",
    "\n",
    "    #Convert to distance matrices\n",
    "    Phy_date = as.matrix(Phy_date) %>% dist()\n",
    "    Udate = as.matrix(Udate) %>% dist()\n",
    "\n",
    "M1 = mantel(Phy_date, Udate, method=\"pearson\", permutations=999)\n",
    "print(M1)"
   ]
  },
  {
   "cell_type": "markdown",
   "metadata": {},
   "source": [
    "#### DAP = 88 Mantel test of N economy traits and MCC weighted-unifrac distance"
   ]
  },
  {
   "cell_type": "code",
   "execution_count": 251,
   "metadata": {
    "collapsed": false,
    "scrolled": true
   },
   "outputs": [
    {
     "data": {
      "text/plain": [
       "\n",
       "Mantel statistic based on Pearson's product-moment correlation \n",
       "\n",
       "Call:\n",
       "mantel(xdis = date.wunif.dist, ydis = Fun_dist, method = \"pearson\",      permutations = 999) \n",
       "\n",
       "Mantel statistic r: 0.1731 \n",
       "      Significance: 0.033 \n",
       "\n",
       "Upper quantiles of permutations (null model):\n",
       "  90%   95% 97.5%   99% \n",
       "0.115 0.150 0.182 0.220 \n",
       "Permutation: free\n",
       "Number of permutations: 999\n",
       "\n"
      ]
     },
     "metadata": {},
     "output_type": "display_data"
    }
   ],
   "source": [
    "%%R\n",
    "physeq.Date = subset_samples(physeq.Plant, DAP == \"88\")\n",
    "sd = sample_data(physeq.Date)\n",
    "\n",
    "# Calculate w-unifrac distances\n",
    "registerDoParallel(cores=28)\n",
    "date.wunif.dist = distance(physeq.Date, \n",
    "                      method = \"unifrac\", \n",
    "                      weighted = TRUE,\n",
    "                      fast = TRUE, \n",
    "                      parallel = TRUE, \n",
    "                      normalized = FALSE)\n",
    "\n",
    "#Calculate functional distances\n",
    "Fun_dist = dist(sd[,c(\"Resid_logB\", \"Resid_logN\", \"Resid_logCN\")], method = \"euclidian\")\n",
    "\n",
    "\n",
    "M1 = mantel(date.wunif.dist, Fun_dist, method=\"pearson\", permutations=999)\n",
    "M1"
   ]
  },
  {
   "cell_type": "code",
   "execution_count": null,
   "metadata": {
    "collapsed": true
   },
   "outputs": [],
   "source": []
  },
  {
   "cell_type": "markdown",
   "metadata": {},
   "source": [
    "# Subset of plants from late mid-late season"
   ]
  },
  {
   "cell_type": "code",
   "execution_count": null,
   "metadata": {
    "collapsed": false,
    "hide_input": true,
    "scrolled": true
   },
   "outputs": [],
   "source": [
    "%%R\n",
    "sd$Plant %>% unique"
   ]
  },
  {
   "cell_type": "code",
   "execution_count": 252,
   "metadata": {
    "collapsed": false,
    "hide_input": true
   },
   "outputs": [
    {
     "data": {
      "text/plain": [
       "              PlotA             PlotB w_Unif_Dist PlantA PlantB     PlantComp\n",
       "1 sample5-1.22_Nneg sample5-1.22_Nneg   0.0000000 75-062 75-062 75-062-75-062\n",
       "2 sample6-4.12_Npos sample5-1.22_Nneg   0.1829650   Oh7B 75-062   Oh7B-75-062\n",
       "3 sample5-2.06_Npos sample5-1.22_Nneg   0.1902666   MS71 75-062   MS71-75-062\n",
       "4 sample5-4.08_Npos sample5-1.22_Nneg   0.1757315   MS71 75-062   MS71-75-062\n",
       "5 sample5-4.28_Npos sample5-1.22_Nneg   0.1457043 75-062 75-062 75-062-75-062\n",
       "6 sample5-1.29_Npos sample5-1.22_Nneg   0.2358625  ERATE 75-062  ERATE-75-062\n",
       "  phy_Dist\n",
       "1  0.00000\n",
       "2  0.00020\n",
       "3  0.00020\n",
       "4  0.00020\n",
       "5  0.00000\n",
       "6  0.04967\n",
       "  [1] \"75-062-75-062\" \"Oh7B-75-062\"   \"MS71-75-062\"   \"ERATE-75-062\" \n",
       "  [5] \"B73-75-062\"    \"B97-75-062\"    \"H99-75-062\"    \"Il14H-75-062\" \n",
       "  [9] \"SORBI-75-062\"  \"SORSUD-75-062\" \"ELCOR-75-062\"  \"Ki3-75-062\"   \n",
       " [13] \"HELAN-75-062\"  \"Tx303-75-062\"  \"Hp301-75-062\"  \"Mo18-75-062\"  \n",
       " [17] \"75-062-Oh7B\"   \"Oh7B-Oh7B\"     \"MS71-Oh7B\"     \"ERATE-Oh7B\"   \n",
       " [21] \"B73-Oh7B\"      \"B97-Oh7B\"      \"H99-Oh7B\"      \"Il14H-Oh7B\"   \n",
       " [25] \"SORBI-Oh7B\"    \"SORSUD-Oh7B\"   \"ELCOR-Oh7B\"    \"Ki3-Oh7B\"     \n",
       " [29] \"HELAN-Oh7B\"    \"Tx303-Oh7B\"    \"Hp301-Oh7B\"    \"Mo18-Oh7B\"    \n",
       " [33] \"75-062-MS71\"   \"Oh7B-MS71\"     \"MS71-MS71\"     \"ERATE-MS71\"   \n",
       " [37] \"B73-MS71\"      \"B97-MS71\"      \"H99-MS71\"      \"Il14H-MS71\"   \n",
       " [41] \"SORBI-MS71\"    \"SORSUD-MS71\"   \"ELCOR-MS71\"    \"Ki3-MS71\"     \n",
       " [45] \"HELAN-MS71\"    \"Tx303-MS71\"    \"Hp301-MS71\"    \"Mo18-MS71\"    \n",
       " [49] \"75-062-ERATE\"  \"Oh7B-ERATE\"    \"MS71-ERATE\"    \"ERATE-ERATE\"  \n",
       " [53] \"B73-ERATE\"     \"B97-ERATE\"     \"H99-ERATE\"     \"Il14H-ERATE\"  \n",
       " [57] \"SORBI-ERATE\"   \"SORSUD-ERATE\"  \"ELCOR-ERATE\"   \"Ki3-ERATE\"    \n",
       " [61] \"HELAN-ERATE\"   \"Tx303-ERATE\"   \"Hp301-ERATE\"   \"Mo18-ERATE\"   \n",
       " [65] \"75-062-B73\"    \"Oh7B-B73\"      \"MS71-B73\"      \"ERATE-B73\"    \n",
       " [69] \"B73-B73\"       \"B97-B73\"       \"H99-B73\"       \"Il14H-B73\"    \n",
       " [73] \"SORBI-B73\"     \"SORSUD-B73\"    \"ELCOR-B73\"     \"Ki3-B73\"      \n",
       " [77] \"HELAN-B73\"     \"Tx303-B73\"     \"Hp301-B73\"     \"Mo18-B73\"     \n",
       " [81] \"75-062-B97\"    \"Oh7B-B97\"      \"MS71-B97\"      \"ERATE-B97\"    \n",
       " [85] \"B73-B97\"       \"B97-B97\"       \"H99-B97\"       \"Il14H-B97\"    \n",
       " [89] \"SORBI-B97\"     \"SORSUD-B97\"    \"ELCOR-B97\"     \"Ki3-B97\"      \n",
       " [93] \"HELAN-B97\"     \"Tx303-B97\"     \"Hp301-B97\"     \"Mo18-B97\"     \n",
       " [97] \"75-062-H99\"    \"Oh7B-H99\"      \"MS71-H99\"      \"ERATE-H99\"    \n",
       "[101] \"B73-H99\"       \"B97-H99\"       \"H99-H99\"       \"Il14H-H99\"    \n",
       "[105] \"SORBI-H99\"     \"SORSUD-H99\"    \"ELCOR-H99\"     \"Ki3-H99\"      \n",
       "[109] \"HELAN-H99\"     \"Tx303-H99\"     \"Hp301-H99\"     \"Mo18-H99\"     \n",
       "[113] \"75-062-Il14H\"  \"Oh7B-Il14H\"    \"MS71-Il14H\"    \"ERATE-Il14H\"  \n",
       "[117] \"B73-Il14H\"     \"B97-Il14H\"     \"H99-Il14H\"     \"Il14H-Il14H\"  \n",
       "[121] \"SORBI-Il14H\"   \"SORSUD-Il14H\"  \"ELCOR-Il14H\"   \"Ki3-Il14H\"    \n",
       "[125] \"HELAN-Il14H\"   \"Tx303-Il14H\"   \"Hp301-Il14H\"   \"Mo18-Il14H\"   \n",
       "[129] \"75-062-SORBI\"  \"Oh7B-SORBI\"    \"MS71-SORBI\"    \"ERATE-SORBI\"  \n",
       "[133] \"B73-SORBI\"     \"B97-SORBI\"     \"H99-SORBI\"     \"Il14H-SORBI\"  \n",
       "[137] \"SORBI-SORBI\"   \"SORSUD-SORBI\"  \"ELCOR-SORBI\"   \"Ki3-SORBI\"    \n",
       "[141] \"HELAN-SORBI\"   \"Tx303-SORBI\"   \"Hp301-SORBI\"   \"Mo18-SORBI\"   \n",
       "[145] \"75-062-SORSUD\" \"Oh7B-SORSUD\"   \"MS71-SORSUD\"   \"ERATE-SORSUD\" \n",
       "[149] \"B73-SORSUD\"    \"B97-SORSUD\"    \"H99-SORSUD\"    \"Il14H-SORSUD\" \n",
       "[153] \"SORBI-SORSUD\"  \"SORSUD-SORSUD\" \"ELCOR-SORSUD\"  \"Ki3-SORSUD\"   \n",
       "[157] \"HELAN-SORSUD\"  \"Tx303-SORSUD\"  \"Hp301-SORSUD\"  \"Mo18-SORSUD\"  \n",
       "[161] \"75-062-ELCOR\"  \"Oh7B-ELCOR\"    \"MS71-ELCOR\"    \"ERATE-ELCOR\"  \n",
       "[165] \"B73-ELCOR\"     \"B97-ELCOR\"     \"H99-ELCOR\"     \"Il14H-ELCOR\"  \n",
       "[169] \"SORBI-ELCOR\"   \"SORSUD-ELCOR\"  \"ELCOR-ELCOR\"   \"Ki3-ELCOR\"    \n",
       "[173] \"HELAN-ELCOR\"   \"Tx303-ELCOR\"   \"Hp301-ELCOR\"   \"Mo18-ELCOR\"   \n",
       "[177] \"75-062-Ki3\"    \"Oh7B-Ki3\"      \"MS71-Ki3\"      \"ERATE-Ki3\"    \n",
       "[181] \"B73-Ki3\"       \"B97-Ki3\"       \"H99-Ki3\"       \"Il14H-Ki3\"    \n",
       "[185] \"SORBI-Ki3\"     \"SORSUD-Ki3\"    \"ELCOR-Ki3\"     \"Ki3-Ki3\"      \n",
       "[189] \"HELAN-Ki3\"     \"Tx303-Ki3\"     \"Hp301-Ki3\"     \"Mo18-Ki3\"     \n",
       "[193] \"75-062-HELAN\"  \"Oh7B-HELAN\"    \"MS71-HELAN\"    \"ERATE-HELAN\"  \n",
       "[197] \"B73-HELAN\"     \"B97-HELAN\"     \"H99-HELAN\"     \"Il14H-HELAN\"  \n",
       "[201] \"SORBI-HELAN\"   \"SORSUD-HELAN\"  \"ELCOR-HELAN\"   \"Ki3-HELAN\"    \n",
       "[205] \"HELAN-HELAN\"   \"Tx303-HELAN\"   \"Hp301-HELAN\"   \"Mo18-HELAN\"   \n",
       "[209] \"75-062-Tx303\"  \"Oh7B-Tx303\"    \"MS71-Tx303\"    \"ERATE-Tx303\"  \n",
       "[213] \"B73-Tx303\"     \"B97-Tx303\"     \"H99-Tx303\"     \"Il14H-Tx303\"  \n",
       "[217] \"SORBI-Tx303\"   \"SORSUD-Tx303\"  \"ELCOR-Tx303\"   \"Ki3-Tx303\"    \n",
       "[221] \"HELAN-Tx303\"   \"Tx303-Tx303\"   \"Hp301-Tx303\"   \"Mo18-Tx303\"   \n",
       "[225] \"75-062-Hp301\"  \"Oh7B-Hp301\"    \"MS71-Hp301\"    \"ERATE-Hp301\"  \n",
       "[229] \"B73-Hp301\"     \"B97-Hp301\"     \"H99-Hp301\"     \"Il14H-Hp301\"  \n",
       "[233] \"SORBI-Hp301\"   \"SORSUD-Hp301\"  \"ELCOR-Hp301\"   \"Ki3-Hp301\"    \n",
       "[237] \"HELAN-Hp301\"   \"Tx303-Hp301\"   \"Hp301-Hp301\"   \"Mo18-Hp301\"   \n",
       "[241] \"75-062-Mo18\"   \"Oh7B-Mo18\"     \"MS71-Mo18\"     \"ERATE-Mo18\"   \n",
       "[245] \"B73-Mo18\"      \"B97-Mo18\"      \"H99-Mo18\"      \"Il14H-Mo18\"   \n",
       "[249] \"SORBI-Mo18\"    \"SORSUD-Mo18\"   \"ELCOR-Mo18\"    \"Ki3-Mo18\"     \n",
       "[253] \"HELAN-Mo18\"    \"Tx303-Mo18\"    \"Hp301-Mo18\"    \"Mo18-Mo18\"    \n",
       "\n",
       "Mantel statistic based on Pearson's product-moment correlation \n",
       "\n",
       "Call:\n",
       "mantel(xdis = Phy_date, ydis = Udate, method = \"pearson\", permutations = 999) \n",
       "\n",
       "Mantel statistic r: 0.3191 \n",
       "      Significance: 0.001 \n",
       "\n",
       "Upper quantiles of permutations (null model):\n",
       "   90%    95%  97.5%    99% \n",
       "0.0773 0.0999 0.1284 0.1587 \n",
       "Permutation: free\n",
       "Number of permutations: 999\n",
       "\n"
      ]
     },
     "metadata": {},
     "output_type": "display_data"
    }
   ],
   "source": [
    "%%R\n",
    "# subset matrices\n",
    "D_dist = filter(Dist, PlantA %in% c(\"75-062\", \"Oh7B\", \"MS71\", \"ERATE\", \"B73\", \"B97\", \"H99\", \"Il14H\",  \n",
    "                                    \"SORBI\",  \"SORSUD\", \"ELCOR\",\"Ki3\", \"HELAN\", \"Tx303\",  \"Hp301\",\"Mo18\") & PlantB %in% \n",
    "                c(\"75-062\", \"Oh7B\", \"MS71\", \"ERATE\", \"B73\", \"B97\", \"H99\", \"Il14H\",  \n",
    "                                    \"SORBI\",  \"SORSUD\", \"ELCOR\",\"Ki3\", \"HELAN\", \"Tx303\",  \"Hp301\",\"Mo18\"))\n",
    "    D_dist %>% head() %>% print()\n",
    "D_dist$PlantComp %>% unique %>% print\n",
    "#pull matrices\n",
    "    Temp = D_dist[!is.na(D_dist$phy_Dist),]\n",
    "    \n",
    "    #Seperate unifrac and phylogenetic distances retaining plot IDs\n",
    "\n",
    "    Udate = Temp[,c(1,2,3)]\n",
    "    Phy_date = Temp[,c(1,2,7)]\n",
    "\n",
    "\n",
    "    #Re-cast longform to wide form.  \n",
    "    Udate = acast(Udate, PlotA~PlotB)\n",
    "    Phy_date = acast(Phy_date, PlotA~PlotB)\n",
    "\n",
    "    #Convert to distance matrices\n",
    "    Phy_date = as.matrix(Phy_date) %>% dist()\n",
    "    Udate = as.matrix(Udate) %>% dist()\n",
    "\n",
    "M1 = mantel(Phy_date, Udate, method=\"pearson\", permutations=999)\n",
    "print(M1)"
   ]
  },
  {
   "cell_type": "markdown",
   "metadata": {},
   "source": [
    "### Mantel test of N economy traits and MCC weighted-unifrac distance"
   ]
  },
  {
   "cell_type": "code",
   "execution_count": 254,
   "metadata": {
    "collapsed": false,
    "hide_input": false
   },
   "outputs": [
    {
     "data": {
      "text/plain": [
       "\n",
       "Mantel statistic based on Pearson's product-moment correlation \n",
       "\n",
       "Call:\n",
       "mantel(xdis = date.wunif.dist, ydis = Fun_dist, method = \"pearson\",      permutations = 999) \n",
       "\n",
       "Mantel statistic r: 0.2163 \n",
       "      Significance: 0.001 \n",
       "\n",
       "Upper quantiles of permutations (null model):\n",
       "   90%    95%  97.5%    99% \n",
       "0.0654 0.0844 0.1011 0.1240 \n",
       "Permutation: free\n",
       "Number of permutations: 999\n",
       "\n"
      ]
     },
     "metadata": {},
     "output_type": "display_data"
    }
   ],
   "source": [
    "%%R\n",
    "\n",
    "physeq.Date = subset_samples(physeq.Plant, DAP %in% c(\"72\", \"79\", \"84\", \"88\"))\n",
    "sd = sample_data(physeq.Date)\n",
    "\n",
    "# Calculate w-unifrac distances\n",
    "registerDoParallel(cores=28)\n",
    "date.wunif.dist = distance(physeq.Date, \n",
    "                      method = \"unifrac\", \n",
    "                      weighted = TRUE,\n",
    "                      fast = TRUE, \n",
    "                      parallel = TRUE, \n",
    "                      normalized = FALSE)\n",
    "\n",
    "#Calculate functional distances\n",
    "Fun_dist = dist(sd[,c(\"A_Resid_logB\", \"A_Resid_logN\", \"A_Resid_logCN\")], method = \"euclidian\")\n",
    "\n",
    "\n",
    "M1 = mantel(date.wunif.dist, Fun_dist, method=\"pearson\", permutations=999)\n",
    "M1"
   ]
  },
  {
   "cell_type": "markdown",
   "metadata": {},
   "source": [
    "#### CAP analysis of N economy traits and MCC"
   ]
  },
  {
   "cell_type": "code",
   "execution_count": 255,
   "metadata": {
    "collapsed": false,
    "hide_input": false,
    "scrolled": true
   },
   "outputs": [
    {
     "data": {
      "text/plain": [
       "[1] 72 79 84 88\n",
       "Levels: 72 79 84 88\n"
      ]
     },
     "metadata": {},
     "output_type": "display_data"
    },
    {
     "data": {
      "image/png": "[encoded data removed]"
     },
     "metadata": {},
     "output_type": "display_data"
    }
   ],
   "source": [
    "%%R -w 600 -h 600\n",
    "phy = physeq.Date\n",
    "\n",
    "sample_data(phy)$DAP = as.factor(sample_data(phy)$DAP)\n",
    "unique(sample_data(phy)$DAP) %>% print\n",
    "# CAP ordinate\n",
    "cap.ord = ordinate(\n",
    "    physeq = phy, \n",
    "    method = \"CAP\",\n",
    "    distance = date.wunif.dist,\n",
    "    formula = ~ A_Resid_logB + A_Resid_logN + A_Resid_logCN + Condition(Library) + Condition(DAP)\n",
    ")\n",
    "\n",
    "# CAP plot\n",
    "cap.plot <- plot_ordination(\n",
    "    phy, \n",
    "    cap.ord, \n",
    "    color = \"Plant\", \n",
    "    axes = c(1,2)\n",
    "    ) + \n",
    "    aes(shape = Type) + \n",
    "    geom_point(aes(colour = Plant), \n",
    "        alpha= 1, \n",
    "        size = 4) + \n",
    "    #geom_point(colour = \"grey90\", \n",
    "    #    size = 1.5) + \n",
    "    theme_bw(base_size = 16)\n",
    "    #scale_color_manual(values = c(\"#a65628\", \"red\", \"#ffae19\", \"#4daf4a\", \n",
    "    #    \"#1919ff\", \"darkorchid3\", \"magenta\"))\n",
    "\n",
    "# Now add the environmental variables as arrows\n",
    "arrowmat <- vegan::scores(cap.ord, display = \"bp\")\n",
    "\n",
    "\n",
    "# Add labels, make a data.frame\n",
    "arrowdf <- data.frame(labels = rownames(arrowmat), arrowmat)\n",
    "\n",
    "# Define the arrow aesthetic mapping\n",
    "arrow_map <- aes(xend = CAP1, \n",
    "    yend = CAP2, \n",
    "    x = 0, \n",
    "    y = 0, \n",
    "    shape = NULL, \n",
    "    color = NULL, \n",
    "    label = labels)\n",
    "\n",
    "label_map <- aes(x = 1.3 * CAP1, \n",
    "    y = 1.3 * CAP2, \n",
    "    shape = NULL, \n",
    "    color = NULL, \n",
    "    label = labels)\n",
    "\n",
    "arrowhead = arrow(length = unit(0.02, \"npc\"))\n",
    "\n",
    "# Make a new graphic\n",
    "cap.plot + \n",
    "geom_segment(arrow_map, \n",
    "    size = .5, \n",
    "    data = arrowdf, \n",
    "    color = \"gray\", \n",
    "    arrow = arrowhead\n",
    "    ) + \n",
    "geom_text(label_map, \n",
    "    size = 4,  \n",
    "    data = arrowdf, \n",
    "    show_guide = FALSE)"
   ]
  },
  {
   "cell_type": "code",
   "execution_count": 256,
   "metadata": {
    "collapsed": false
   },
   "outputs": [
    {
     "data": {
      "text/plain": [
       "Permutation test for capscale under reduced model\n",
       "Permutation: free\n",
       "Number of permutations: 999\n",
       "\n",
       "Model: capscale(formula = distance ~ A_Resid_logB + A_Resid_logN + A_Resid_logCN + Condition(Library) + Condition(DAP), data = data)\n",
       "          Df SumOfSqs      F Pr(>F)    \n",
       "Model      3  0.19671 2.7018  0.001 ***\n",
       "Residual 120  2.91219                  \n",
       "---\n",
       "Signif. codes:  0 ‘***’ 0.001 ‘**’ 0.01 ‘*’ 0.05 ‘.’ 0.1 ‘ ’ 1\n"
      ]
     },
     "metadata": {},
     "output_type": "display_data"
    }
   ],
   "source": [
    "%%R\n",
    "anova(cap.ord)"
   ]
  },
  {
   "cell_type": "markdown",
   "metadata": {},
   "source": [
    "#### Include leaf traits (subset of plants from above)"
   ]
  },
  {
   "cell_type": "code",
   "execution_count": null,
   "metadata": {
    "collapsed": false,
    "hide_input": true
   },
   "outputs": [],
   "source": [
    "%%R\n",
    "physeq.Date = subset_samples(physeq.Plant, DAP %in% c(\"72\", \"79\", \"84\", \"88\"))\n",
    "\n",
    "physeq.Date = subset_samples(physeq.Date, !is.na(Resid_logSLA) & !is.na(Resid_LeafN))\n",
    "\n",
    "date.wunif.dist = distance(physeq.Date, \n",
    "                      method = \"unifrac\", \n",
    "                      weighted = TRUE,\n",
    "                      fast = TRUE, \n",
    "                      parallel = TRUE, \n",
    "                      normalized = FALSE)"
   ]
  },
  {
   "cell_type": "code",
   "execution_count": null,
   "metadata": {
    "collapsed": false,
    "hide_input": false
   },
   "outputs": [],
   "source": [
    "%%R -w 600 -h 600\n",
    "\n",
    "sample_data(physeq.Date)$DAP = as.factor(sample_data(physeq.Date)$DAP)\n",
    "unique(sample_data(physeq.Date)$DAP) %>% print\n",
    "# CAP ordinate\n",
    "cap.ord = ordinate(\n",
    "    physeq = physeq.Date, \n",
    "    method = \"CAP\",\n",
    "    distance = date.wunif.dist,\n",
    "    formula = ~ Resid_logB + Resid_logN + Resid_logCN + Resid_logSLA + Resid_LeafN + Condition(Library)\n",
    ")\n",
    "\n",
    "# CAP plot\n",
    "cap.plot <- plot_ordination(\n",
    "    phy, \n",
    "    cap.ord, \n",
    "    color = \"Plant\", \n",
    "    axes = c(1,2)\n",
    "    ) + \n",
    "    aes(shape = Type) + \n",
    "    geom_point(aes(colour = Plant), \n",
    "        alpha= 1, \n",
    "        size = 4) + \n",
    "    #geom_point(colour = \"grey90\", \n",
    "    #    size = 1.5) + \n",
    "    theme_bw(base_size = 16)\n",
    "    #scale_color_manual(values = c(\"#a65628\", \"red\", \"#ffae19\", \"#4daf4a\", \n",
    "    #    \"#1919ff\", \"darkorchid3\", \"magenta\"))\n",
    "\n",
    "# Now add the environmental variables as arrows\n",
    "arrowmat <- vegan::scores(cap.ord, display = \"bp\")\n",
    "\n",
    "\n",
    "# Add labels, make a data.frame\n",
    "arrowdf <- data.frame(labels = rownames(arrowmat), arrowmat)\n",
    "\n",
    "# Define the arrow aesthetic mapping\n",
    "arrow_map <- aes(xend = CAP1, \n",
    "    yend = CAP2, \n",
    "    x = 0, \n",
    "    y = 0, \n",
    "    shape = NULL, \n",
    "    color = NULL, \n",
    "    label = labels)\n",
    "\n",
    "label_map <- aes(x = 1.3 * CAP1, \n",
    "    y = 1.3 * CAP2, \n",
    "    shape = NULL, \n",
    "    color = NULL, \n",
    "    label = labels)\n",
    "\n",
    "arrowhead = arrow(length = unit(0.02, \"npc\"))\n",
    "\n",
    "# Make a new graphic\n",
    "cap.plot + \n",
    "geom_segment(arrow_map, \n",
    "    size = .5, \n",
    "    data = arrowdf, \n",
    "    color = \"gray\", \n",
    "    arrow = arrowhead\n",
    "    ) + \n",
    "geom_text(label_map, \n",
    "    size = 4,  \n",
    "    data = arrowdf, \n",
    "    show_guide = FALSE)"
   ]
  },
  {
   "cell_type": "code",
   "execution_count": null,
   "metadata": {
    "collapsed": false
   },
   "outputs": [],
   "source": [
    "%%R\n",
    "anova(cap.ord)"
   ]
  },
  {
   "cell_type": "markdown",
   "metadata": {},
   "source": [
    "# Subset of annuals from late mid-late season"
   ]
  },
  {
   "cell_type": "code",
   "execution_count": 257,
   "metadata": {
    "collapsed": false,
    "hide_input": true
   },
   "outputs": [
    {
     "data": {
      "text/plain": [
       "              PlotA             PlotB w_Unif_Dist PlantA PlantB   PlantComp\n",
       "1 sample5-1.29_Npos sample5-1.29_Npos   0.0000000  ERATE  ERATE ERATE-ERATE\n",
       "2 sample6-2.26_Nneg sample5-1.29_Npos   0.2831953    B73  ERATE   B73-ERATE\n",
       "3 sample6-3.18_Nneg sample5-1.29_Npos   0.2582766    B73  ERATE   B73-ERATE\n",
       "4 sample5-3.11_Nneg sample5-1.29_Npos   0.1783563  ERATE  ERATE ERATE-ERATE\n",
       "5 sample6-4.30_Npos sample5-1.29_Npos   0.2177385    B73  ERATE   B73-ERATE\n",
       "6 sample6-1.12_Npos sample5-1.29_Npos   0.2506999    B73  ERATE   B73-ERATE\n",
       "  phy_Dist\n",
       "1  0.00000\n",
       "2  0.04967\n",
       "3  0.04967\n",
       "4  0.00000\n",
       "5  0.04967\n",
       "6  0.04967\n",
       " [1] \"ERATE-ERATE\"   \"B73-ERATE\"     \"SORBI-ERATE\"   \"SORSUD-ERATE\" \n",
       " [5] \"ELCOR-ERATE\"   \"HELAN-ERATE\"   \"ERATE-B73\"     \"B73-B73\"      \n",
       " [9] \"SORBI-B73\"     \"SORSUD-B73\"    \"ELCOR-B73\"     \"HELAN-B73\"    \n",
       "[13] \"ERATE-SORBI\"   \"B73-SORBI\"     \"SORBI-SORBI\"   \"SORSUD-SORBI\" \n",
       "[17] \"ELCOR-SORBI\"   \"HELAN-SORBI\"   \"ERATE-SORSUD\"  \"B73-SORSUD\"   \n",
       "[21] \"SORBI-SORSUD\"  \"SORSUD-SORSUD\" \"ELCOR-SORSUD\"  \"HELAN-SORSUD\" \n",
       "[25] \"ERATE-ELCOR\"   \"B73-ELCOR\"     \"SORBI-ELCOR\"   \"SORSUD-ELCOR\" \n",
       "[29] \"ELCOR-ELCOR\"   \"HELAN-ELCOR\"   \"ERATE-HELAN\"   \"B73-HELAN\"    \n",
       "[33] \"SORBI-HELAN\"   \"SORSUD-HELAN\"  \"ELCOR-HELAN\"   \"HELAN-HELAN\"  \n",
       "\n",
       "Mantel statistic based on Pearson's product-moment correlation \n",
       "\n",
       "Call:\n",
       "mantel(xdis = Phy_date, ydis = Udate, method = \"pearson\", permutations = 999) \n",
       "\n",
       "Mantel statistic r: 0.1967 \n",
       "      Significance: 0.001 \n",
       "\n",
       "Upper quantiles of permutations (null model):\n",
       "   90%    95%  97.5%    99% \n",
       "0.0797 0.1105 0.1376 0.1658 \n",
       "Permutation: free\n",
       "Number of permutations: 999\n",
       "\n"
      ]
     },
     "metadata": {},
     "output_type": "display_data"
    }
   ],
   "source": [
    "%%R\n",
    "# subset matrices\n",
    "D_dist = filter(Dist, PlantA %in% c( \"ERATE\", \"SORBI\",  \"SORSUD\", \"ELCOR\",\"HELAN\", \"B73\") & PlantB %in% \n",
    "                                    \n",
    "                c(\"ERATE\", \"SORBI\",  \"SORSUD\", \"ELCOR\",\"HELAN\", \"B73\"))\n",
    "    D_dist %>% head() %>% print()\n",
    "D_dist$PlantComp %>% unique %>% print\n",
    "#pull matrices\n",
    "    Temp = D_dist[!is.na(D_dist$phy_Dist),]\n",
    "    \n",
    "    #Seperate unifrac and phylogenetic distances retaining plot IDs\n",
    "\n",
    "    Udate = Temp[,c(1,2,3)]\n",
    "    Phy_date = Temp[,c(1,2,7)]\n",
    "\n",
    "\n",
    "    #Re-cast longform to wide form.  \n",
    "    Udate = acast(Udate, PlotA~PlotB)\n",
    "    Phy_date = acast(Phy_date, PlotA~PlotB)\n",
    "\n",
    "    #Convert to distance matrices\n",
    "    Phy_date = as.matrix(Phy_date) %>% dist()\n",
    "    Udate = as.matrix(Udate) %>% dist()\n",
    "\n",
    "M1 = mantel(Phy_date, Udate, method=\"pearson\", permutations=999)\n",
    "print(M1)"
   ]
  },
  {
   "cell_type": "markdown",
   "metadata": {},
   "source": [
    "* Note that the phylogenetic test is calculated on both Npos and Nneg plots, need to correct to match below"
   ]
  },
  {
   "cell_type": "markdown",
   "metadata": {},
   "source": [
    "### Mantel test of N economy traits and MCC weighted-unifrac distance"
   ]
  },
  {
   "cell_type": "code",
   "execution_count": 258,
   "metadata": {
    "collapsed": false,
    "hide_input": false
   },
   "outputs": [
    {
     "data": {
      "text/plain": [
       "\n",
       "Mantel statistic based on Pearson's product-moment correlation \n",
       "\n",
       "Call:\n",
       "mantel(xdis = date.wunif.dist, ydis = Fun_dist, method = \"pearson\",      permutations = 999) \n",
       "\n",
       "Mantel statistic r: 0.4859 \n",
       "      Significance: 0.001 \n",
       "\n",
       "Upper quantiles of permutations (null model):\n",
       "  90%   95% 97.5%   99% \n",
       "0.103 0.140 0.173 0.201 \n",
       "Permutation: free\n",
       "Number of permutations: 999\n",
       "\n"
      ]
     },
     "metadata": {},
     "output_type": "display_data"
    }
   ],
   "source": [
    "%%R\n",
    "\n",
    "physeq.Date = subset_samples(physeq.Plant, DAP %in% c(\"72\", \"79\", \"84\", \"88\") & Type != \"Maize\" & Treatment == \"Nneg\"| \n",
    "                            Plant == \"B73\" & Treatment == \"Nneg\")\n",
    "sd = sample_data(physeq.Date)\n",
    "\n",
    "# Calculate w-unifrac distances\n",
    "registerDoParallel(cores=28)\n",
    "date.wunif.dist = distance(physeq.Date, \n",
    "                      method = \"unifrac\", \n",
    "                      weighted = TRUE,\n",
    "                      fast = TRUE, \n",
    "                      parallel = TRUE, \n",
    "                      normalized = FALSE)\n",
    "\n",
    "#Calculate functional distances\n",
    "Fun_dist = dist(sd[,c(\"A_Resid_logB\", \"A_Resid_logN\", \"A_Resid_logCN\")], method = \"euclidian\")\n",
    "\n",
    "\n",
    "M1 = mantel(date.wunif.dist, Fun_dist, method=\"pearson\", permutations=999)\n",
    "M1"
   ]
  },
  {
   "cell_type": "markdown",
   "metadata": {},
   "source": [
    "#### CAP analysis of N economy traits and MCC"
   ]
  },
  {
   "cell_type": "code",
   "execution_count": 260,
   "metadata": {
    "collapsed": false,
    "hide_input": false,
    "scrolled": false
   },
   "outputs": [
    {
     "data": {
      "text/plain": [
       "[1] 79 72 88 84\n",
       "Levels: 72 79 84 88\n"
      ]
     },
     "metadata": {},
     "output_type": "display_data"
    },
    {
     "data": {
      "image/png": "[encoded data removed]"
     },
     "metadata": {},
     "output_type": "display_data"
    }
   ],
   "source": [
    "%%R -w 600 -h 600\n",
    "phy = physeq.Date\n",
    "\n",
    "sample_data(phy)$DAP = as.factor(sample_data(phy)$DAP)\n",
    "unique(sample_data(phy)$DAP) %>% print\n",
    "# CAP ordinate\n",
    "cap.ord = ordinate(\n",
    "    physeq = phy, \n",
    "    method = \"CAP\",\n",
    "    distance = date.wunif.dist,\n",
    "    formula = ~ A_Resid_logB + A_Resid_logN + A_Resid_logCN + Condition(Library) + Condition(DAP)\n",
    ")\n",
    "\n",
    "# CAP plot\n",
    "cap.plot <- plot_ordination(\n",
    "    phy, \n",
    "    cap.ord, \n",
    "    color = \"Plant\", \n",
    "    axes = c(1,2)\n",
    "    ) + \n",
    "    aes(shape = Type) + \n",
    "    geom_point(aes(colour = Plant), \n",
    "        alpha= 1, \n",
    "        size = 4) + \n",
    "    #geom_point(colour = \"grey90\", \n",
    "    #    size = 1.5) + \n",
    "    theme_bw(base_size = 16)\n",
    "    #scale_color_manual(values = c(\"#a65628\", \"red\", \"#ffae19\", \"#4daf4a\", \n",
    "    #    \"#1919ff\", \"darkorchid3\", \"magenta\"))\n",
    "\n",
    "# Now add the environmental variables as arrows\n",
    "arrowmat <- vegan::scores(cap.ord, display = \"bp\")\n",
    "\n",
    "\n",
    "# Add labels, make a data.frame\n",
    "arrowdf <- data.frame(labels = rownames(arrowmat), arrowmat)\n",
    "\n",
    "# Define the arrow aesthetic mapping\n",
    "arrow_map <- aes(xend = CAP1, \n",
    "    yend = CAP2, \n",
    "    x = 0, \n",
    "    y = 0, \n",
    "    shape = NULL, \n",
    "    color = NULL, \n",
    "    label = labels)\n",
    "\n",
    "label_map <- aes(x = 1.3 * CAP1, \n",
    "    y = 1.3 * CAP2, \n",
    "    shape = NULL, \n",
    "    color = NULL, \n",
    "    label = labels)\n",
    "\n",
    "arrowhead = arrow(length = unit(0.02, \"npc\"))\n",
    "\n",
    "# Make a new graphic\n",
    "cap.plot + \n",
    "geom_segment(arrow_map, \n",
    "    size = .5, \n",
    "    data = arrowdf, \n",
    "    color = \"gray\", \n",
    "    arrow = arrowhead\n",
    "    ) + \n",
    "geom_text(label_map, \n",
    "    size = 4,  \n",
    "    data = arrowdf, \n",
    "    show_guide = FALSE)"
   ]
  },
  {
   "cell_type": "code",
   "execution_count": null,
   "metadata": {
    "collapsed": false,
    "scrolled": true
   },
   "outputs": [],
   "source": [
    "%%R\n",
    "anova(cap.ord)"
   ]
  },
  {
   "cell_type": "markdown",
   "metadata": {},
   "source": [
    "# Subset to all annuals "
   ]
  },
  {
   "cell_type": "code",
   "execution_count": null,
   "metadata": {
    "collapsed": false
   },
   "outputs": [],
   "source": [
    "%%R\n",
    "sample_data(physeq.Plant)$Plant %>% levels "
   ]
  },
  {
   "cell_type": "code",
   "execution_count": null,
   "metadata": {
    "collapsed": false,
    "hide_input": true
   },
   "outputs": [],
   "source": [
    "%%R\n",
    "# subset matrices\n",
    "D_dist = filter(Dist, PlantA %in% c( \"ABUTH\" , \"AMAPO\", \"ECHCG\" , \"ERATE\", \"FAGES\",  \"GLYMA\", \"SETFA\", \"SORBI\",   \n",
    "                                    \"SORSUD\", \"ELCOR\",\"HELAN\", \"B73\") & PlantB %in% \n",
    "                                    \n",
    "                c(\"ABUTH\" , \"AMAPO\", \"ECHCG\" , \"ERATE\", \"FAGES\",  \"GLYMA\", \"SETFA\", \"SORBI\",   \n",
    "                                    \"SORSUD\", \"ELCOR\",\"HELAN\", \"B73\"))\n",
    "    D_dist %>% head() %>% print()\n",
    "D_dist$PlantComp %>% unique %>% print\n",
    "#pull matrices\n",
    "    Temp = D_dist[!is.na(D_dist$phy_Dist),]\n",
    "    \n",
    "    #Seperate unifrac and phylogenetic distances retaining plot IDs\n",
    "\n",
    "    Udate = Temp[,c(1,2,3)]\n",
    "    Phy_date = Temp[,c(1,2,7)]\n",
    "\n",
    "\n",
    "    #Re-cast longform to wide form.  \n",
    "    Udate = acast(Udate, PlotA~PlotB)\n",
    "    Phy_date = acast(Phy_date, PlotA~PlotB)\n",
    "\n",
    "    #Convert to distance matrices\n",
    "    Phy_date = as.matrix(Phy_date) %>% dist()\n",
    "    Udate = as.matrix(Udate) %>% dist()\n",
    "\n",
    "M1 = mantel(Phy_date, Udate, method=\"pearson\", permutations=999)\n",
    "print(M1)"
   ]
  },
  {
   "cell_type": "code",
   "execution_count": null,
   "metadata": {
    "collapsed": false,
    "hide_input": false
   },
   "outputs": [],
   "source": [
    "%%R\n",
    "\n",
    "physeq.Date = subset_samples(physeq.Plant, Type != \"Maize\" & Plant != \"FAGES\" | Plant == \"B73\")\n",
    "sd = sample_data(physeq.Date)\n",
    "\n",
    "# Calculate w-unifrac distances\n",
    "registerDoParallel(cores=28)\n",
    "date.wunif.dist = distance(physeq.Date, \n",
    "                      method = \"unifrac\", \n",
    "                      weighted = TRUE,\n",
    "                      fast = TRUE, \n",
    "                      parallel = TRUE, \n",
    "                      normalized = FALSE)\n",
    "\n",
    "#Calculate functional distances\n",
    "Fun_dist = dist(sd[,c(\"A_Resid_logB\", \"A_Resid_logN\", \"A_Resid_logCN\")], method = \"euclidian\")\n",
    "\n",
    "\n",
    "M1 = mantel(date.wunif.dist, Fun_dist, method=\"pearson\", permutations=999)\n",
    "M1"
   ]
  },
  {
   "cell_type": "markdown",
   "metadata": {},
   "source": [
    "#### CAP analysis of N economy traits and MCC"
   ]
  },
  {
   "cell_type": "code",
   "execution_count": null,
   "metadata": {
    "collapsed": false,
    "hide_input": false,
    "scrolled": false
   },
   "outputs": [],
   "source": [
    "%%R -w 600 -h 600\n",
    "phy = physeq.Date\n",
    "\n",
    "sample_data(phy)$DAP = as.factor(sample_data(phy)$DAP)\n",
    "unique(sample_data(phy)$DAP) %>% print\n",
    "# CAP ordinate\n",
    "cap.ord = ordinate(\n",
    "    physeq = phy, \n",
    "    method = \"CAP\",\n",
    "    distance = date.wunif.dist,\n",
    "    formula = ~  d15N + A_Resid_logB + Condition(Plant)\n",
    ")\n",
    "#formula = ~ A_Resid_logB + A_Resid_logN + A_Resid_logCN + d15N + Condition(Library)\n",
    "# CAP plot\n",
    "cap.plot <- plot_ordination(\n",
    "    phy, \n",
    "    cap.ord, \n",
    "    color = \"Plant\", \n",
    "    axes = c(1,2)\n",
    "    ) + \n",
    "    aes(shape = Type) + \n",
    "    geom_point(aes(colour = Plant), \n",
    "        alpha= 1, \n",
    "        size = 4) + \n",
    "    #geom_point(colour = \"grey90\", \n",
    "    #    size = 1.5) + \n",
    "    theme_bw(base_size = 16)\n",
    "    #scale_color_manual(values = c(\"#a65628\", \"red\", \"#ffae19\", \"#4daf4a\", \n",
    "    #    \"#1919ff\", \"darkorchid3\", \"magenta\"))\n",
    "\n",
    "# Now add the environmental variables as arrows\n",
    "arrowmat <- vegan::scores(cap.ord, display = \"bp\")\n",
    "\n",
    "\n",
    "# Add labels, make a data.frame\n",
    "arrowdf <- data.frame(labels = rownames(arrowmat), arrowmat)\n",
    "\n",
    "# Define the arrow aesthetic mapping\n",
    "arrow_map <- aes(xend = CAP1, \n",
    "    yend = CAP2, \n",
    "    x = 0, \n",
    "    y = 0, \n",
    "    shape = NULL, \n",
    "    color = NULL, \n",
    "    label = labels)\n",
    "\n",
    "label_map <- aes(x = 1.3 * CAP1, \n",
    "    y = 1.3 * CAP2, \n",
    "    shape = NULL, \n",
    "    color = NULL, \n",
    "    label = labels)\n",
    "\n",
    "arrowhead = arrow(length = unit(0.02, \"npc\"))\n",
    "\n",
    "# Make a new graphic\n",
    "cap.plot + \n",
    "geom_segment(arrow_map, \n",
    "    size = .5, \n",
    "    data = arrowdf, \n",
    "    color = \"gray\", \n",
    "    arrow = arrowhead\n",
    "    ) + \n",
    "geom_text(label_map, \n",
    "    size = 4,  \n",
    "    data = arrowdf, \n",
    "    show_guide = FALSE)"
   ]
  },
  {
   "cell_type": "code",
   "execution_count": null,
   "metadata": {
    "collapsed": false
   },
   "outputs": [],
   "source": [
    "%%R\n",
    "anova(cap.ord)"
   ]
  },
  {
   "cell_type": "markdown",
   "metadata": {},
   "source": [
    "# Maize distance analysis"
   ]
  },
  {
   "cell_type": "code",
   "execution_count": null,
   "metadata": {
    "collapsed": false
   },
   "outputs": [],
   "source": [
    "%%R\n",
    "NAM_hc = hclust(as.dist(NAMdist), \"average\")\n",
    "plot(NAM_hc)"
   ]
  },
  {
   "cell_type": "code",
   "execution_count": null,
   "metadata": {
    "collapsed": true
   },
   "outputs": [],
   "source": []
  },
  {
   "cell_type": "code",
   "execution_count": null,
   "metadata": {
    "collapsed": false,
    "hide_input": true
   },
   "outputs": [],
   "source": [
    "%%R\n",
    "physeq.Maize = subset_samples(physeq.Full, Type == \"Maize\" & Plant != \"75-062\")\n",
    "as(sample_data(physeq.Maize), \"data.frame\") %>%\n",
    "\n",
    "group_by(Plant) %>%\n",
    "   summarise(DATE = first(DAP)) %>% \n",
    "    arrange(DATE) %>%\n",
    "   print()"
   ]
  },
  {
   "cell_type": "code",
   "execution_count": null,
   "metadata": {
    "collapsed": false,
    "hide_input": false
   },
   "outputs": [],
   "source": [
    "%%R\n",
    "#Use melt to join genetic distance matrix with unifrac distance\n",
    "#head(ud.m) ##Use formated unifrac distance from above\n",
    "#melt \n",
    "NAM.m = melt(as.matrix(NAMdist))\n",
    "\n",
    "#set column names and create comparison column\n",
    "colnames(NAM.m) = c(\"PlantA\", \"PlantB\", \"gene_Dist\")\n",
    "\n",
    "NAM.m$PlantComp = paste(NAM.m$PlantA, NAM.m$PlantB, sep = \"-\")\n",
    "NAM.m %>% head\n",
    "\n",
    "#Join with unifrac DistanceMatrix\n",
    "Dist = left_join(ud.m, NAM.m[,c(3,4)], by = \"PlantComp\")\n",
    "head(Dist)"
   ]
  },
  {
   "cell_type": "code",
   "execution_count": null,
   "metadata": {
    "collapsed": false
   },
   "outputs": [],
   "source": [
    "%%R\n",
    "dim(Dist) %>% print\n",
    "D.s = filter(Dist, PlotA != PlotB)\n",
    "\n",
    "dim(D.s) %>% print\n",
    "plot(w_Unif_Dist~gene_Dist, data = D.s)\n",
    "m = lm(w_Unif_Dist~gene_Dist, data = D.s)\n",
    "abline(m) \n"
   ]
  },
  {
   "cell_type": "code",
   "execution_count": null,
   "metadata": {
    "collapsed": false
   },
   "outputs": [],
   "source": [
    "%%R\n",
    "head(Dist)\n",
    "#Remove NAs to trim dataset\n",
    "Temp = Dist[!is.na(Dist$gene_Dist),]\n",
    "\n",
    "\n",
    "#Seperate unifrac and phylogenetic distances retaining plot IDs\n",
    "U = Temp[,c(1,2,3)]\n",
    "Gene = Temp[,c(1,2,7)]\n",
    "\n",
    "#Re-cast longform to wide form.  \n",
    "Udist = acast(U, PlotA~PlotB) \n",
    "\n",
    "\n",
    "Genedist = acast(Gene, PlotA~PlotB)\n",
    "Genedist"
   ]
  },
  {
   "cell_type": "markdown",
   "metadata": {},
   "source": [
    "## Overall maize genetic distance vs MCC"
   ]
  },
  {
   "cell_type": "code",
   "execution_count": null,
   "metadata": {
    "collapsed": false,
    "scrolled": true
   },
   "outputs": [],
   "source": [
    "%%R\n",
    "M1 = mantel(as.dist(Genedist), as.dist(Udist), method=\"pearson\", permutations=999)\n",
    "print(M1)"
   ]
  },
  {
   "cell_type": "markdown",
   "metadata": {},
   "source": [
    "### Functional comparison of maize - Mantel test"
   ]
  },
  {
   "cell_type": "code",
   "execution_count": null,
   "metadata": {
    "collapsed": false,
    "hide_input": false,
    "scrolled": true
   },
   "outputs": [],
   "source": [
    "%%R\n",
    "sd = sample_data(physeq.Maize)\n",
    "\n",
    "# Calculate w-unifrac distances\n",
    "registerDoParallel(cores=28)\n",
    "maize.wunif.dist = distance(physeq.Maize, \n",
    "                      method = \"unifrac\", \n",
    "                      weighted = TRUE,\n",
    "                      fast = TRUE, \n",
    "                      parallel = TRUE, \n",
    "                      normalized = FALSE)\n",
    "\n",
    "#Calculate functional distances\n",
    "Fun_dist = dist(sd[,c(\"Resid_logB\", \"Resid_logN\", \"Resid_logCN\")], method = \"euclidian\")\n",
    "\n",
    "\n",
    "M1 = mantel(maize.wunif.dist, Fun_dist, method=\"pearson\", permutations=999)\n",
    "M1"
   ]
  },
  {
   "cell_type": "markdown",
   "metadata": {},
   "source": [
    "In test of genetic vs functional control of maize, growth residuals were not significantly correlated with microbial community similarity in mantel test.  Significance was gained by including DAP, however, this is now capturing day to day sampling variation.  "
   ]
  },
  {
   "cell_type": "markdown",
   "metadata": {},
   "source": [
    "### Functional comparison of maize, CAP"
   ]
  },
  {
   "cell_type": "code",
   "execution_count": null,
   "metadata": {
    "collapsed": false
   },
   "outputs": [],
   "source": [
    "%%R -w 600 -h 600\n",
    "phy = physeq.Maize\n",
    "\n",
    "sample_data(phy)$DAP = as.factor(sample_data(phy)$DAP)\n",
    "unique(sample_data(phy)$DAP) %>% print\n",
    "# CAP ordinate\n",
    "cap.ord = ordinate(\n",
    "    physeq = phy, \n",
    "    method = \"CAP\",\n",
    "    distance = maize.wunif.dist,\n",
    "    formula = ~ Resid_logB + Resid_logN + Resid_logCN + Condition(Library)\n",
    ")\n",
    "\n",
    "# CAP plot\n",
    "cap.plot <- plot_ordination(\n",
    "    phy, \n",
    "    cap.ord, \n",
    "    color = \"Plant\", \n",
    "    axes = c(1,2)\n",
    "    ) + \n",
    "    aes(shape = Type) + \n",
    "    geom_point(aes(colour = Plant), \n",
    "        alpha= 1, \n",
    "        size = 4) + \n",
    "    #geom_point(colour = \"grey90\", \n",
    "    #    size = 1.5) + \n",
    "    theme_bw(base_size = 16)\n",
    "    #scale_color_manual(values = c(\"#a65628\", \"red\", \"#ffae19\", \"#4daf4a\", \n",
    "    #    \"#1919ff\", \"darkorchid3\", \"magenta\"))\n",
    "\n",
    "# Now add the environmental variables as arrows\n",
    "arrowmat <- vegan::scores(cap.ord, display = \"bp\")\n",
    "\n",
    "\n",
    "# Add labels, make a data.frame\n",
    "arrowdf <- data.frame(labels = rownames(arrowmat), arrowmat)\n",
    "\n",
    "# Define the arrow aesthetic mapping\n",
    "arrow_map <- aes(xend = CAP1, \n",
    "    yend = CAP2, \n",
    "    x = 0, \n",
    "    y = 0, \n",
    "    shape = NULL, \n",
    "    color = NULL, \n",
    "    label = labels)\n",
    "\n",
    "label_map <- aes(x = 1.3 * CAP1, \n",
    "    y = 1.3 * CAP2, \n",
    "    shape = NULL, \n",
    "    color = NULL, \n",
    "    label = labels)\n",
    "\n",
    "arrowhead = arrow(length = unit(0.02, \"npc\"))\n",
    "\n",
    "# Make a new graphic\n",
    "cap.plot + \n",
    "geom_segment(arrow_map, \n",
    "    size = .5, \n",
    "    data = arrowdf, \n",
    "    color = \"gray\", \n",
    "    arrow = arrowhead\n",
    "    ) + \n",
    "geom_text(label_map, \n",
    "    size = 4,  \n",
    "    data = arrowdf, \n",
    "    show_guide = FALSE)"
   ]
  },
  {
   "cell_type": "code",
   "execution_count": null,
   "metadata": {
    "collapsed": false,
    "hide_input": true,
    "scrolled": true
   },
   "outputs": [],
   "source": [
    "%%R\n",
    "anova(cap.ord)"
   ]
  },
  {
   "cell_type": "markdown",
   "metadata": {},
   "source": [
    "Notes - a small but significant amount of variation in community composition is captured by maize functional variation.  \n",
    "\n",
    "Check how to constrain by DAP to control for differences from sampling date?  Still significant albeit small portion of variation captured when controlling for DAP.  "
   ]
  },
  {
   "cell_type": "markdown",
   "metadata": {},
   "source": [
    "### Maize by date"
   ]
  },
  {
   "cell_type": "markdown",
   "metadata": {},
   "source": [
    "#### DAP = 72; Mantel test maize genetic distance vs MCC"
   ]
  },
  {
   "cell_type": "code",
   "execution_count": null,
   "metadata": {
    "collapsed": false,
    "scrolled": true
   },
   "outputs": [],
   "source": [
    "%%R\n",
    "\n",
    "# subset matrices\n",
    "D_dist = filter(Dist, PlantA %in% c(\"H99\" , \"Il14H\" , \"MS71\") & PlantB %in% c(\"H99\" , \"Il14H\" , \"MS71\"))\n",
    "D_dist$PlantComp %>% unique %>% print\n",
    "#pull matrices\n",
    "    Temp = D_dist[!is.na(D_dist$gene_Dist),]\n",
    "    \n",
    "    #Seperate unifrac and genetic distances retaining plot IDs\n",
    "\n",
    "    Udate = Temp[,c(1,2,3)]\n",
    "    Gene_date = Temp[,c(1,2,7)]\n",
    "\n",
    "    #Re-cast longform to wide form.  \n",
    "    Udate = acast(Udate, PlotA~PlotB)\n",
    "    Gene_date = acast(Gene_date, PlotA~PlotB)\n",
    "\n",
    "    #Convert to distance matrices\n",
    "    Gene_date = as.matrix(Gene_date) %>% dist()\n",
    "    Udate = as.matrix(Udate) %>% dist()\n",
    "\n",
    "M1 = mantel(Gene_date, Udate, method=\"pearson\", permutations=999)\n",
    "print(M1)"
   ]
  },
  {
   "cell_type": "markdown",
   "metadata": {},
   "source": [
    "#### DAP = 72; Mantel test N economy traits vs MCC"
   ]
  },
  {
   "cell_type": "code",
   "execution_count": null,
   "metadata": {
    "collapsed": false,
    "scrolled": false
   },
   "outputs": [],
   "source": [
    "%%R\n",
    "physeq.Date = subset_samples(physeq.Plant, Plant %in% c(\"H99\" , \"Il14H\" , \"MS71\"))\n",
    "sd = sample_data(physeq.Date)\n",
    "\n",
    "# Calculate w-unifrac distances\n",
    "registerDoParallel(cores=28)\n",
    "date.wunif.dist = distance(physeq.Date, \n",
    "                      method = \"unifrac\", \n",
    "                      weighted = TRUE,\n",
    "                      fast = TRUE, \n",
    "                      parallel = TRUE, \n",
    "                      normalized = FALSE)\n",
    "\n",
    "#Calculate functional distances\n",
    "Fun_dist = dist(sd[,c(\"Resid_logB\", \"Resid_logN\", \"Resid_logCN\")], method = \"euclidian\")\n",
    "\n",
    "\n",
    "M1 = mantel(date.wunif.dist, Fun_dist, method=\"pearson\", permutations=999)\n",
    "M1"
   ]
  },
  {
   "cell_type": "markdown",
   "metadata": {},
   "source": [
    "#### DAP 72; CAP analysis N economy and MCC"
   ]
  },
  {
   "cell_type": "code",
   "execution_count": null,
   "metadata": {
    "collapsed": false
   },
   "outputs": [],
   "source": [
    "%%R -w 600 -h 600\n",
    "phy = physeq.Date\n",
    "\n",
    "sample_data(phy)$DAP = as.factor(sample_data(phy)$DAP)\n",
    "unique(sample_data(phy)$DAP) %>% print\n",
    "# CAP ordinate\n",
    "cap.ord = ordinate(\n",
    "    physeq = phy, \n",
    "    method = \"CAP\",\n",
    "    distance = date.wunif.dist,\n",
    "    formula = ~ Resid_logB + Resid_logN + Resid_logCN\n",
    ")\n",
    "\n",
    "# CAP plot\n",
    "cap.plot <- plot_ordination(\n",
    "    phy, \n",
    "    cap.ord, \n",
    "    color = \"Plant\", \n",
    "    axes = c(1,2)\n",
    "    ) + \n",
    "    aes(shape = Type) + \n",
    "    geom_point(aes(colour = Plant), \n",
    "        alpha= 1, \n",
    "        size = 4) + \n",
    "    #geom_point(colour = \"grey90\", \n",
    "    #    size = 1.5) + \n",
    "    theme_bw(base_size = 16)\n",
    "    #scale_color_manual(values = c(\"#a65628\", \"red\", \"#ffae19\", \"#4daf4a\", \n",
    "    #    \"#1919ff\", \"darkorchid3\", \"magenta\"))\n",
    "\n",
    "# Now add the environmental variables as arrows\n",
    "arrowmat <- vegan::scores(cap.ord, display = \"bp\")\n",
    "\n",
    "\n",
    "# Add labels, make a data.frame\n",
    "arrowdf <- data.frame(labels = rownames(arrowmat), arrowmat)\n",
    "\n",
    "# Define the arrow aesthetic mapping\n",
    "arrow_map <- aes(xend = CAP1, \n",
    "    yend = CAP2, \n",
    "    x = 0, \n",
    "    y = 0, \n",
    "    shape = NULL, \n",
    "    color = NULL, \n",
    "    label = labels)\n",
    "\n",
    "label_map <- aes(x = 1.3 * CAP1, \n",
    "    y = 1.3 * CAP2, \n",
    "    shape = NULL, \n",
    "    color = NULL, \n",
    "    label = labels)\n",
    "\n",
    "arrowhead = arrow(length = unit(0.02, \"npc\"))\n",
    "\n",
    "# Make a new graphic\n",
    "cap.plot + \n",
    "geom_segment(arrow_map, \n",
    "    size = .5, \n",
    "    data = arrowdf, \n",
    "    color = \"gray\", \n",
    "    arrow = arrowhead\n",
    "    ) + \n",
    "geom_text(label_map, \n",
    "    size = 4,  \n",
    "    data = arrowdf, \n",
    "    show_guide = FALSE)"
   ]
  },
  {
   "cell_type": "code",
   "execution_count": null,
   "metadata": {
    "collapsed": false,
    "scrolled": false
   },
   "outputs": [],
   "source": [
    "%%R\n",
    "anova(cap.ord)"
   ]
  },
  {
   "cell_type": "markdown",
   "metadata": {},
   "source": [
    "#### DAP = 79;  Mantel test maize genetic distance vs MCC"
   ]
  },
  {
   "cell_type": "code",
   "execution_count": null,
   "metadata": {
    "collapsed": false,
    "scrolled": false
   },
   "outputs": [],
   "source": [
    "%%R\n",
    "\n",
    "# subset matrices\n",
    "D_dist = filter(Dist, PlantA %in% c(\"B73\" ,  \"B97\" ,  \"Hp301\" , \"Oh7B\" ) & PlantB %in% c(\"B73\" ,  \"B97\" ,  \"Hp301\" , \"Oh7B\"))\n",
    " D_dist$PlantComp %>% unique %>% print\n",
    "\n",
    "#pull matrices\n",
    "    Temp = D_dist[!is.na(D_dist$gene_Dist),]\n",
    "    \n",
    "    #Seperate unifrac and genetic distances retaining plot IDs\n",
    "\n",
    "    Udate = Temp[,c(1,2,3)]\n",
    "    Gene_date = Temp[,c(1,2,7)]\n",
    "\n",
    "    #Re-cast longform to wide form.  \n",
    "    Udate = acast(Udate, PlotA~PlotB)\n",
    "    Gene_date = acast(Gene_date, PlotA~PlotB)\n",
    "\n",
    "    #Convert to distance matrices\n",
    "    Gene_date = as.matrix(Gene_date) %>% dist()\n",
    "    Udate = as.matrix(Udate) %>% dist()\n",
    "\n",
    "M1 = mantel(Gene_date, Udate, method=\"pearson\", permutations=999)\n",
    "print(M1)"
   ]
  },
  {
   "cell_type": "markdown",
   "metadata": {},
   "source": [
    "#### DAP = 79;  Mantel test N economy traits vs MCC"
   ]
  },
  {
   "cell_type": "code",
   "execution_count": null,
   "metadata": {
    "collapsed": false,
    "scrolled": false
   },
   "outputs": [],
   "source": [
    "%%R\n",
    "physeq.Date = subset_samples(physeq.Plant, Plant %in% c(\"B73\" ,  \"B97\" ,  \"Hp301\" , \"Oh7B\"))\n",
    "sd = sample_data(physeq.Date)\n",
    "D_dist$PlantComp %>% unique %>% print\n",
    "# Calculate w-unifrac distances\n",
    "registerDoParallel(cores=28)\n",
    "date.wunif.dist = distance(physeq.Date, \n",
    "                      method = \"unifrac\", \n",
    "                      weighted = TRUE,\n",
    "                      fast = TRUE, \n",
    "                      parallel = TRUE, \n",
    "                      normalized = FALSE)\n",
    "\n",
    "#Calculate functional distances\n",
    "Fun_dist = dist(sd[,c(\"Resid_logB\", \"Resid_logN\", \"Resid_logCN\")], method = \"euclidian\")\n",
    "\n",
    "\n",
    "M1 = mantel(date.wunif.dist, Fun_dist, method=\"pearson\", permutations=999)\n",
    "M1"
   ]
  },
  {
   "cell_type": "markdown",
   "metadata": {},
   "source": [
    "#### DAP 79; CAP analysis N economy vs MCC"
   ]
  },
  {
   "cell_type": "code",
   "execution_count": null,
   "metadata": {
    "collapsed": false,
    "scrolled": false
   },
   "outputs": [],
   "source": [
    "%%R -w 600 -h 600\n",
    "phy = physeq.Date\n",
    "\n",
    "sample_data(phy)$DAP = as.factor(sample_data(phy)$DAP)\n",
    "unique(sample_data(phy)$DAP) %>% print\n",
    "# CAP ordinate\n",
    "cap.ord = ordinate(\n",
    "    physeq = phy, \n",
    "    method = \"CAP\",\n",
    "    distance = date.wunif.dist,\n",
    "    formula = ~ Resid_logB + Resid_logN + Resid_logCN + Condition(Library)\n",
    ")\n",
    "\n",
    "# CAP plot\n",
    "cap.plot <- plot_ordination(\n",
    "    phy, \n",
    "    cap.ord, \n",
    "    color = \"Plant\", \n",
    "    axes = c(1,2)\n",
    "    ) + \n",
    "    aes(shape = Type) + \n",
    "    geom_point(aes(colour = Plant), \n",
    "        alpha= 1, \n",
    "        size = 4) + \n",
    "    #geom_point(colour = \"grey90\", \n",
    "    #    size = 1.5) + \n",
    "    theme_bw(base_size = 16)\n",
    "    #scale_color_manual(values = c(\"#a65628\", \"red\", \"#ffae19\", \"#4daf4a\", \n",
    "    #    \"#1919ff\", \"darkorchid3\", \"magenta\"))\n",
    "\n",
    "# Now add the environmental variables as arrows\n",
    "arrowmat <- vegan::scores(cap.ord, display = \"bp\")\n",
    "\n",
    "\n",
    "# Add labels, make a data.frame\n",
    "arrowdf <- data.frame(labels = rownames(arrowmat), arrowmat)\n",
    "\n",
    "# Define the arrow aesthetic mapping\n",
    "arrow_map <- aes(xend = CAP1, \n",
    "    yend = CAP2, \n",
    "    x = 0, \n",
    "    y = 0, \n",
    "    shape = NULL, \n",
    "    color = NULL, \n",
    "    label = labels)\n",
    "\n",
    "label_map <- aes(x = 1.3 * CAP1, \n",
    "    y = 1.3 * CAP2, \n",
    "    shape = NULL, \n",
    "    color = NULL, \n",
    "    label = labels)\n",
    "\n",
    "arrowhead = arrow(length = unit(0.02, \"npc\"))\n",
    "\n",
    "# Make a new graphic\n",
    "cap.plot + \n",
    "geom_segment(arrow_map, \n",
    "    size = .5, \n",
    "    data = arrowdf, \n",
    "    color = \"gray\", \n",
    "    arrow = arrowhead\n",
    "    ) + \n",
    "geom_text(label_map, \n",
    "    size = 4,  \n",
    "    data = arrowdf, \n",
    "    show_guide = FALSE)"
   ]
  },
  {
   "cell_type": "code",
   "execution_count": null,
   "metadata": {
    "collapsed": false
   },
   "outputs": [],
   "source": [
    "%%R\n",
    "anova(cap.ord)"
   ]
  },
  {
   "cell_type": "code",
   "execution_count": null,
   "metadata": {
    "collapsed": true
   },
   "outputs": [],
   "source": []
  },
  {
   "cell_type": "code",
   "execution_count": null,
   "metadata": {
    "collapsed": true
   },
   "outputs": [],
   "source": []
  },
  {
   "cell_type": "markdown",
   "metadata": {},
   "source": [
    "#### DAP = 88; Mantel test maize genetic distance vs MCC"
   ]
  },
  {
   "cell_type": "code",
   "execution_count": null,
   "metadata": {
    "collapsed": false,
    "scrolled": true
   },
   "outputs": [],
   "source": [
    "%%R\n",
    "\n",
    "# subset matrices\n",
    "D_dist = filter(Dist, PlantA %in% c(\"Ki3\" ,  \"Mo18\" , \"Tx303\" ) & PlantB %in% c(\"Ki3\" ,  \"Mo18\" , \"Tx303\"))\n",
    "D_dist$PlantComp %>% unique %>% print\n",
    "#pull matrices\n",
    "    Temp = D_dist[!is.na(D_dist$gene_Dist),]\n",
    "    \n",
    "    #Seperate unifrac and genetic distances retaining plot IDs\n",
    "\n",
    "    Udate = Temp[,c(1,2,3)]\n",
    "    Gene_date = Temp[,c(1,2,7)]\n",
    "\n",
    "    #Re-cast longform to wide form.  \n",
    "    Udate = acast(Udate, PlotA~PlotB)\n",
    "    Gene_date = acast(Gene_date, PlotA~PlotB)\n",
    "\n",
    "    #Convert to distance matrices\n",
    "    Gene_date = as.matrix(Gene_date) %>% dist()\n",
    "    Udate = as.matrix(Udate) %>% dist()\n",
    "\n",
    "M1 = mantel(Gene_date, Udate, method=\"pearson\", permutations=999)\n",
    "print(M1)"
   ]
  },
  {
   "cell_type": "markdown",
   "metadata": {},
   "source": [
    "#### DAP = 88; Mantel test N economy vs MCC"
   ]
  },
  {
   "cell_type": "code",
   "execution_count": null,
   "metadata": {
    "collapsed": false,
    "scrolled": true
   },
   "outputs": [],
   "source": [
    "%%R\n",
    "physeq.Date = subset_samples(physeq.Plant, Plant %in% c(\"Ki3\" ,  \"Mo18\" , \"Tx303\"))\n",
    "sd = sample_data(physeq.Date)\n",
    "\n",
    "# Calculate w-unifrac distances\n",
    "registerDoParallel(cores=28)\n",
    "date.wunif.dist = distance(physeq.Date, \n",
    "                      method = \"unifrac\", \n",
    "                      weighted = TRUE,\n",
    "                      fast = TRUE, \n",
    "                      parallel = TRUE, \n",
    "                      normalized = FALSE)\n",
    "\n",
    "#Calculate functional distances\n",
    "Fun_dist = dist(sd[,c(\"Resid_logB\", \"Resid_logN\", \"Resid_logCN\")], method = \"euclidian\")\n",
    "\n",
    "\n",
    "M1 = mantel(date.wunif.dist, Fun_dist, method=\"pearson\", permutations=999)\n",
    "M1"
   ]
  },
  {
   "cell_type": "markdown",
   "metadata": {},
   "source": [
    "#### DAP = 88; CAP analysis N economy vs MCC"
   ]
  },
  {
   "cell_type": "code",
   "execution_count": null,
   "metadata": {
    "collapsed": false,
    "scrolled": true
   },
   "outputs": [],
   "source": [
    "%%R -w 600 -h 600\n",
    "phy = physeq.Date\n",
    "\n",
    "sample_data(phy)$DAP = as.factor(sample_data(phy)$DAP)\n",
    "unique(sample_data(phy)$DAP) %>% print\n",
    "# CAP ordinate\n",
    "cap.ord = ordinate(\n",
    "    physeq = phy, \n",
    "    method = \"CAP\",\n",
    "    distance = date.wunif.dist,\n",
    "    formula = ~ Resid_logB + Resid_logN + Resid_logCN\n",
    ")\n",
    "\n",
    "# CAP plot\n",
    "cap.plot <- plot_ordination(\n",
    "    phy, \n",
    "    cap.ord, \n",
    "    color = \"Plant\", \n",
    "    axes = c(1,2)\n",
    "    ) + \n",
    "    aes(shape = Type) + \n",
    "    geom_point(aes(colour = Plant), \n",
    "        alpha= 1, \n",
    "        size = 4) + \n",
    "    #geom_point(colour = \"grey90\", \n",
    "    #    size = 1.5) + \n",
    "    theme_bw(base_size = 16)\n",
    "    #scale_color_manual(values = c(\"#a65628\", \"red\", \"#ffae19\", \"#4daf4a\", \n",
    "    #    \"#1919ff\", \"darkorchid3\", \"magenta\"))\n",
    "\n",
    "# Now add the environmental variables as arrows\n",
    "arrowmat <- vegan::scores(cap.ord, display = \"bp\")\n",
    "\n",
    "\n",
    "# Add labels, make a data.frame\n",
    "arrowdf <- data.frame(labels = rownames(arrowmat), arrowmat)\n",
    "\n",
    "# Define the arrow aesthetic mapping\n",
    "arrow_map <- aes(xend = CAP1, \n",
    "    yend = CAP2, \n",
    "    x = 0, \n",
    "    y = 0, \n",
    "    shape = NULL, \n",
    "    color = NULL, \n",
    "    label = labels)\n",
    "\n",
    "label_map <- aes(x = 1.3 * CAP1, \n",
    "    y = 1.3 * CAP2, \n",
    "    shape = NULL, \n",
    "    color = NULL, \n",
    "    label = labels)\n",
    "\n",
    "arrowhead = arrow(length = unit(0.02, \"npc\"))\n",
    "\n",
    "# Make a new graphic\n",
    "cap.plot + \n",
    "geom_segment(arrow_map, \n",
    "    size = .5, \n",
    "    data = arrowdf, \n",
    "    color = \"gray\", \n",
    "    arrow = arrowhead\n",
    "    ) + \n",
    "geom_text(label_map, \n",
    "    size = 4,  \n",
    "    data = arrowdf, \n",
    "    show_guide = FALSE)"
   ]
  },
  {
   "cell_type": "code",
   "execution_count": null,
   "metadata": {
    "collapsed": false,
    "scrolled": true
   },
   "outputs": [],
   "source": [
    "%%R\n",
    "anova(cap.ord)"
   ]
  },
  {
   "cell_type": "markdown",
   "metadata": {},
   "source": [
    "# Time vs MCC mantel test"
   ]
  },
  {
   "cell_type": "code",
   "execution_count": null,
   "metadata": {
    "collapsed": false
   },
   "outputs": [],
   "source": [
    "%%R\n",
    "sample_data(physeq.Nneg)$DAP"
   ]
  },
  {
   "cell_type": "code",
   "execution_count": null,
   "metadata": {
    "collapsed": false
   },
   "outputs": [],
   "source": [
    "%%R\n",
    "sd = sample_data(physeq.Nneg)\n",
    "\n",
    "# Calculate w-unifrac distances\n",
    "registerDoParallel(cores=28)\n",
    "date.wunif.dist = distance(physeq.Nneg, \n",
    "                      method = \"unifrac\", \n",
    "                      weighted = TRUE,\n",
    "                      fast = TRUE, \n",
    "                      parallel = TRUE, \n",
    "                      normalized = FALSE)\n",
    "\n",
    "#Calculate functional distances\n",
    "Fun_dist = dist(sd[,c(\"DAP\")], method = \"euclidian\")\n",
    "\n",
    "\n",
    "M1 = mantel(date.wunif.dist, Fun_dist, method=\"pearson\", permutations=999)\n",
    "M1"
   ]
  },
  {
   "cell_type": "code",
   "execution_count": null,
   "metadata": {
    "collapsed": false,
    "scrolled": true
   },
   "outputs": [],
   "source": [
    "%%R\n",
    "mcc.correlog <- mantel.correlog(date.wunif.dist, Fun_dist, nperm=99)\n",
    "summary(mcc.correlog) %>% print\n",
    "mcc.correlog  %>% print\n",
    "plot(mcc.correlog) "
   ]
  },
  {
   "cell_type": "markdown",
   "metadata": {},
   "source": [
    "# Ignore below this point"
   ]
  },
  {
   "cell_type": "markdown",
   "metadata": {},
   "source": [
    "# Compare plant phylogenetic distance to l2f"
   ]
  },
  {
   "cell_type": "code",
   "execution_count": null,
   "metadata": {
    "collapsed": false
   },
   "outputs": [],
   "source": [
    "%%R\n",
    "# log2foldFile = '/home/bryan/RhizCG/data/MiSeq_amplicon/MergedRuns/DeSeq2/bare-plant.csv'\n",
    "# l2f = read.csv(log2foldFile, header = TRUE)\n",
    "# colnames(l2f)"
   ]
  },
  {
   "cell_type": "markdown",
   "metadata": {},
   "source": [
    "### Spread by plant to make matrix of log2fold change in each OTU by plant combo"
   ]
  },
  {
   "cell_type": "code",
   "execution_count": null,
   "metadata": {
    "collapsed": false
   },
   "outputs": [],
   "source": [
    "%%R\n",
    "# df = l2f[,c(1,11,13)]\n",
    "# l2f_m = spread(df, Plant, log2FoldChange, fill = 0, drop = TRUE)\n",
    "# rownames(l2f_m) = l2f_m$OTU\n",
    "# l2f_m = l2f_m[,-1]\n",
    "# l2f_m %>% head"
   ]
  },
  {
   "cell_type": "code",
   "execution_count": null,
   "metadata": {
    "collapsed": false,
    "scrolled": true
   },
   "outputs": [],
   "source": [
    "%%R\n",
    "# dim(l2f_m)"
   ]
  },
  {
   "cell_type": "markdown",
   "metadata": {},
   "source": [
    "### recode all negative log2fold changes with 0"
   ]
  },
  {
   "cell_type": "code",
   "execution_count": null,
   "metadata": {
    "collapsed": false,
    "scrolled": true
   },
   "outputs": [],
   "source": [
    "%%R\n",
    "# l2f_me = l2f_m\n",
    "# l2f_me[l2f_me < 0] = 0 \n",
    "# head(l2f_me)"
   ]
  },
  {
   "cell_type": "markdown",
   "metadata": {},
   "source": [
    "## Calculate pairwise weighted Unifrac distances between samples\n",
    "\n",
    "need to figure out how to run unifrac measure outside of phyloseq"
   ]
  },
  {
   "cell_type": "code",
   "execution_count": null,
   "metadata": {
    "collapsed": false
   },
   "outputs": [],
   "source": [
    "%%R\n",
    "# physeq.Full"
   ]
  },
  {
   "cell_type": "code",
   "execution_count": null,
   "metadata": {
    "collapsed": false
   },
   "outputs": [],
   "source": [
    "%%R\n",
    "# #provide fast tree for unifrac calculation\n",
    "# #treeFile = '/home/bryan/RhizCG/data/MiSeq_amplicon/MergedRuns/fasttree/otusn.tree'\n",
    "# #Tree = read.tree(treeFile)\n",
    "# Tree = phy_tree(physeq.Full)\n",
    "# str(Tree)\n"
   ]
  },
  {
   "cell_type": "code",
   "execution_count": null,
   "metadata": {
    "collapsed": false
   },
   "outputs": [],
   "source": [
    "%%R\n",
    "# l2f_wunif = picante::unifrac(as.matrix(t(l2f_me)), Tree)"
   ]
  },
  {
   "cell_type": "code",
   "execution_count": null,
   "metadata": {
    "collapsed": false
   },
   "outputs": [],
   "source": [
    "%%R\n",
    "# l2f_bray = vegdist(as.matrix(t(l2f_me)), method = \"bray\")"
   ]
  },
  {
   "cell_type": "code",
   "execution_count": null,
   "metadata": {
    "collapsed": false,
    "scrolled": true
   },
   "outputs": [],
   "source": [
    "%%R\n",
    "# hc_unif = hclust(l2f_wunif, \"average\")\n",
    "# plot(hc_unif) %>% print\n",
    "\n",
    "# hc_bray = hclust(l2f_bray, \"average\")\n",
    "# plot(hc_bray, main = \"Cluster Dendrogram, \\n Bray-Curtis Distance\")"
   ]
  },
  {
   "cell_type": "markdown",
   "metadata": {},
   "source": [
    "# Mantel test of phylogenetic distance and l2f unifrac distance"
   ]
  },
  {
   "cell_type": "markdown",
   "metadata": {},
   "source": [
    "### Maize"
   ]
  },
  {
   "cell_type": "code",
   "execution_count": null,
   "metadata": {
    "collapsed": false,
    "scrolled": true
   },
   "outputs": [],
   "source": [
    "%%R\n",
    "# NAMdist %>% print\n",
    "\n",
    "# #subset column and rows of log2fold change so that only NAM lines are included\n",
    "# NLU = as.matrix(l2f_wunif)\n",
    "# NLU = NLU[c(4,5,11,13:18,22),c(4,5,11,13:18,22)]\n",
    "# NLU\n",
    "\n",
    "# NLB = as.matrix(l2f_bray)\n",
    "# NLB = NLB[c(4,5,11,13:18,22),c(4,5,11,13:18,22)]\n",
    "# NLB"
   ]
  },
  {
   "cell_type": "code",
   "execution_count": null,
   "metadata": {
    "collapsed": false,
    "scrolled": false
   },
   "outputs": [],
   "source": [
    "%%R\n",
    "# M1 = mantel(as.dist(NAMdist), as.dist(NLU), method=\"pearson\", permutations=999)\n",
    "# print(M1)"
   ]
  },
  {
   "cell_type": "code",
   "execution_count": null,
   "metadata": {
    "collapsed": false
   },
   "outputs": [],
   "source": [
    "%%R\n",
    "# M1 = mantel(as.dist(NAMdist), as.dist(NLB), method=\"pearson\", permutations=999)\n",
    "# print(M1)"
   ]
  },
  {
   "cell_type": "markdown",
   "metadata": {},
   "source": [
    "### Species"
   ]
  },
  {
   "cell_type": "code",
   "execution_count": null,
   "metadata": {
    "collapsed": false
   },
   "outputs": [],
   "source": [
    "%%R\n",
    "\n",
    "# #Organize log2fold change distance matrix so that only plants with cholorplast distances are included \n",
    "# #and column and row order is congruent with phylogenetic distance matrix\n",
    "# l2f_wunif.t = as.matrix(l2f_wunif) %>% as.data.frame()\n",
    "#     temp1 = l2f_wunif.t[c(\"FAGES\", \"AMAPO\", \"HELAN\", \"ABUTH\", \"GLYMA\", \"SORBI\", \"B73\", \"ECHCG\",\n",
    "#                     \"SETFA\", \"ERATE\", \"ELCOR\"), c(\"FAGES\", \"AMAPO\", \"HELAN\", \"ABUTH\", \"GLYMA\", \"SORBI\", \"B73\", \"ECHCG\",\n",
    "#                     \"SETFA\", \"ERATE\", \"ELCOR\")]\n",
    "\n",
    "#     SLU = as.matrix(temp1)\n",
    "\n",
    "#     SLU = as.dist(SLU)\n",
    "#     SLU %>% print\n",
    "\n",
    "# #Remove ginkgo so that matrices are congruent\n",
    "# p.temp = as.matrix(phydist) %>% as.data.frame()\n",
    "#     temp2 = p.temp[-12, -12] #remove ginkgo\n",
    "\n",
    "#     temp2 = as.matrix(temp2)\n",
    "#     phydist = as.dist(temp2)\n",
    "\n",
    "#     phydist %>% print\n",
    "\n",
    "# l2f_bray.t = as.matrix(l2f_bray) %>% as.data.frame()\n",
    "#     temp2 = l2f_bray.t[c(\"FAGES\", \"AMAPO\", \"HELAN\", \"ABUTH\", \"GLYMA\", \"SORBI\", \"B73\", \"ECHCG\",\n",
    "#                     \"SETFA\", \"ERATE\", \"ELCOR\"), c(\"FAGES\", \"AMAPO\", \"HELAN\", \"ABUTH\", \"GLYMA\", \"SORBI\", \"B73\", \"ECHCG\",\n",
    "#                     \"SETFA\", \"ERATE\", \"ELCOR\")]\n",
    "\n",
    "#     SLB = as.matrix(temp2)\n",
    "#     SLB = as.dist(SLB)\n",
    "#     SLB %>% print\n"
   ]
  },
  {
   "cell_type": "code",
   "execution_count": null,
   "metadata": {
    "collapsed": false,
    "scrolled": true
   },
   "outputs": [],
   "source": [
    "%%R\n",
    "# m1 = mantel(phydist, SLU, method=\"pearson\", permutations=999)\n",
    "# print(m1)"
   ]
  },
  {
   "cell_type": "code",
   "execution_count": null,
   "metadata": {
    "collapsed": false,
    "scrolled": true
   },
   "outputs": [],
   "source": [
    "%%R\n",
    "# m1 = mantel(phydist, SLB, method=\"pearson\", permutations=999)\n",
    "# print(m1)"
   ]
  }
 ],
 "metadata": {
  "hide_input": true,
  "kernelspec": {
   "display_name": "Python 2",
   "language": "python",
   "name": "python2"
  },
  "language_info": {
   "codemirror_mode": {
    "name": "ipython",
    "version": 2
   },
   "file_extension": ".py",
   "mimetype": "text/x-python",
   "name": "python",
   "nbconvert_exporter": "python",
   "pygments_lexer": "ipython2",
   "version": "2.7.11"
  }
 },
 "nbformat": 4,
 "nbformat_minor": 0
}
