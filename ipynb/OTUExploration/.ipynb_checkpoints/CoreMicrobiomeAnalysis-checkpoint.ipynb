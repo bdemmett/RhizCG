{
 "cells": [
  {
   "cell_type": "markdown",
   "metadata": {},
   "source": [
    "# Description:\n",
    "\n",
    "    Investigate Core microbiome of different groups of samples\n",
    "    Note: log2fold change file was run on full sequencing set, without the sparsity filter, need to rerun differential abundance notebook with new filter\n",
    "\n"
   ]
  },
  {
   "cell_type": "markdown",
   "metadata": {},
   "source": [
    "# Setting variables"
   ]
  },
  {
   "cell_type": "code",
   "execution_count": 4,
   "metadata": {
    "collapsed": true
   },
   "outputs": [],
   "source": [
    "workDir = '/home/bryan/RhizCG/data/MiSeq_amplicon/MergedRuns/OTUexploration/'\n",
    "biomFileDir = '/home/bryan/RhizCG/data/MiSeq_amplicon/MergedRuns/OTU_binning/'\n",
    "\n",
    "biomFile = '/home/bryan/RhizCG/data/MiSeq_amplicon/MergedRuns/OTU_binning/otu_table_wtax.biom'\n",
    "metadataFile = '/home/bryan/RhizCG/data/MiSeq_amplicon/metadata_RhizCG_merged.txt'\n",
    "treeFile = '/home/bryan/RhizCG/data/MiSeq_amplicon/MergedRuns/fasttree/otusn.tree'\n",
    "\n",
    "log2foldFile = '/home/bryan/RhizCG/data/MiSeq_amplicon/MergedRuns/DeSeq2/bare-plant.csv'\n"
   ]
  },
  {
   "cell_type": "markdown",
   "metadata": {},
   "source": [
    "# Init"
   ]
  },
  {
   "cell_type": "code",
   "execution_count": 5,
   "metadata": {
    "collapsed": true
   },
   "outputs": [],
   "source": [
    "import os\n",
    "from pandas import DataFrame\n",
    "from IPython.display import FileLink"
   ]
  },
  {
   "cell_type": "code",
   "execution_count": 6,
   "metadata": {
    "collapsed": false
   },
   "outputs": [],
   "source": [
    "%matplotlib inline\n",
    "%load_ext rpy2.ipython"
   ]
  },
  {
   "cell_type": "code",
   "execution_count": 21,
   "metadata": {
    "collapsed": false,
    "scrolled": true
   },
   "outputs": [
    {
     "name": "stderr",
     "output_type": "stream",
     "text": [
      "/opt/anaconda/lib/python2.7/site-packages/rpy2/robjects/functions.py:106: UserWarning: Loading required package: permute\n",
      "\n",
      "  res = super(Function, self).__call__(*new_args, **new_kwargs)\n",
      "/opt/anaconda/lib/python2.7/site-packages/rpy2/robjects/functions.py:106: UserWarning: Loading required package: lattice\n",
      "\n",
      "  res = super(Function, self).__call__(*new_args, **new_kwargs)\n",
      "/opt/anaconda/lib/python2.7/site-packages/rpy2/robjects/functions.py:106: UserWarning: This is vegan 2.3-0\n",
      "\n",
      "  res = super(Function, self).__call__(*new_args, **new_kwargs)\n"
     ]
    }
   ],
   "source": [
    "%%R\n",
    "library(vegan)\n",
    "library(phyloseq)\n",
    "library(ggplot2)\n",
    "library(foreach)\n",
    "library(doParallel)\n",
    "library(gridExtra)\n",
    "library(dplyr)\n",
    "library(tidyr)"
   ]
  },
  {
   "cell_type": "markdown",
   "metadata": {},
   "source": [
    "# Explore DeSeq output to define core microbiomes"
   ]
  },
  {
   "cell_type": "markdown",
   "metadata": {},
   "source": [
    "### Read DeSeq output"
   ]
  },
  {
   "cell_type": "code",
   "execution_count": 10,
   "metadata": {
    "collapsed": false
   },
   "outputs": [
    {
     "data": {
      "text/plain": [
       " [1] \"log2FoldChange\" \"p\"              \"Rank1\"          \"Rank2\"         \n",
       " [5] \"Rank3\"          \"Rank4\"          \"Rank5\"          \"Rank6\"         \n",
       " [9] \"Rank7\"          \"Rank8\"          \"OTU\"            \"Day\"           \n",
       "[13] \"Plant\"          \"p.adj\"         \n"
      ]
     },
     "metadata": {},
     "output_type": "display_data"
    }
   ],
   "source": [
    "%%R -i log2foldFile\n",
    "l2f = read.csv(log2foldFile, header = TRUE)\n",
    "colnames(l2f)"
   ]
  },
  {
   "cell_type": "code",
   "execution_count": 16,
   "metadata": {
    "collapsed": false
   },
   "outputs": [
    {
     "data": {
      "text/plain": [
       "[1] 8550   14\n"
      ]
     },
     "metadata": {},
     "output_type": "display_data"
    }
   ],
   "source": [
    "%%R\n",
    "l2f.sig = l2f[l2f$p.adj < .05,]\n",
    "dim(l2f.sig)"
   ]
  },
  {
   "cell_type": "markdown",
   "metadata": {},
   "source": [
    "### Spread by plant to make matrix of log2fold change in each OTU by plant combo"
   ]
  },
  {
   "cell_type": "code",
   "execution_count": 17,
   "metadata": {
    "collapsed": false
   },
   "outputs": [
    {
     "data": {
      "text/plain": [
       "        OTU   75-062    ABUTH    AMAPO      B73      B97    ECHCG    ELCOR\n",
       "1    OTU.10 3.752343 3.549418 3.907670 4.726859 3.981525 3.669859 3.242722\n",
       "2   OTU.100 0.000000 0.000000 0.000000 0.000000 0.000000 0.000000 0.000000\n",
       "3  OTU.1000 0.000000 0.000000 0.000000 0.000000 0.000000 0.000000 0.000000\n",
       "4 OTU.10009 0.000000 0.000000 0.000000 5.182489 0.000000 0.000000 6.737019\n",
       "5  OTU.1001 0.000000 0.000000 0.000000 6.013240 0.000000 0.000000 0.000000\n",
       "6 OTU.10030 0.000000 0.000000 2.346771 0.000000 0.000000 0.000000 0.000000\n",
       "     ERATE    FAGES    GLYMA      H99    HELAN    Hp301    Il14H      Ki3\n",
       "1 3.991583 2.225056 4.487402 2.406747 2.878694 4.397633 4.346698 4.353078\n",
       "2 0.000000 1.041747 0.000000 0.000000 0.000000 0.000000 0.000000 0.000000\n",
       "3 0.000000 1.941258 0.000000 0.000000 0.000000 0.000000 0.000000 0.000000\n",
       "4 5.764699 0.000000 4.491494 0.000000 0.000000 0.000000 0.000000 0.000000\n",
       "5 0.000000 0.000000 0.000000 0.000000 0.000000 0.000000 0.000000 0.000000\n",
       "6 0.000000 4.357787 0.000000 0.000000 0.000000 0.000000 0.000000 0.000000\n",
       "      Mo18     MS71     Oh7B    SETFA    SORBI   SORSUD    Tx303\n",
       "1 4.044579 4.066418 4.403734 5.477555 4.379441 3.762555 5.254927\n",
       "2 0.000000 0.000000 0.000000 0.000000 0.000000 0.000000 0.000000\n",
       "3 0.000000 1.767752 0.000000 2.059607 0.000000 0.000000 0.000000\n",
       "4 0.000000 0.000000 0.000000 0.000000 0.000000 0.000000 0.000000\n",
       "5 0.000000 0.000000 6.654272 0.000000 0.000000 0.000000 0.000000\n",
       "6 0.000000 0.000000 0.000000 0.000000 0.000000 0.000000 0.000000\n"
      ]
     },
     "metadata": {},
     "output_type": "display_data"
    }
   ],
   "source": [
    "%%R\n",
    "df = l2f.sig[,c(1,11,13)]\n",
    "l2f_m = spread(df, Plant, log2FoldChange, fill = 0, drop = TRUE)\n",
    "l2f_m %>% head"
   ]
  },
  {
   "cell_type": "code",
   "execution_count": 26,
   "metadata": {
    "collapsed": false,
    "scrolled": true
   },
   "outputs": [
    {
     "data": {
      "text/plain": [
       "[1] 1608   23\n",
       "            75-062    ABUTH    AMAPO      B73      B97    ECHCG    ELCOR\n",
       "OTU.10    3.752343 3.549418 3.907670 4.726859 3.981525 3.669859 3.242722\n",
       "OTU.100   0.000000 0.000000 0.000000 0.000000 0.000000 0.000000 0.000000\n",
       "OTU.1000  0.000000 0.000000 0.000000 0.000000 0.000000 0.000000 0.000000\n",
       "OTU.10009 0.000000 0.000000 0.000000 5.182489 0.000000 0.000000 6.737019\n",
       "OTU.1001  0.000000 0.000000 0.000000 6.013240 0.000000 0.000000 0.000000\n",
       "OTU.10030 0.000000 0.000000 2.346771 0.000000 0.000000 0.000000 0.000000\n",
       "             ERATE    FAGES    GLYMA      H99    HELAN    Hp301    Il14H\n",
       "OTU.10    3.991583 2.225056 4.487402 2.406747 2.878694 4.397633 4.346698\n",
       "OTU.100   0.000000 1.041747 0.000000 0.000000 0.000000 0.000000 0.000000\n",
       "OTU.1000  0.000000 1.941258 0.000000 0.000000 0.000000 0.000000 0.000000\n",
       "OTU.10009 5.764699 0.000000 4.491494 0.000000 0.000000 0.000000 0.000000\n",
       "OTU.1001  0.000000 0.000000 0.000000 0.000000 0.000000 0.000000 0.000000\n",
       "OTU.10030 0.000000 4.357787 0.000000 0.000000 0.000000 0.000000 0.000000\n",
       "               Ki3     Mo18     MS71     Oh7B    SETFA    SORBI   SORSUD\n",
       "OTU.10    4.353078 4.044579 4.066418 4.403734 5.477555 4.379441 3.762555\n",
       "OTU.100   0.000000 0.000000 0.000000 0.000000 0.000000 0.000000 0.000000\n",
       "OTU.1000  0.000000 0.000000 1.767752 0.000000 2.059607 0.000000 0.000000\n",
       "OTU.10009 0.000000 0.000000 0.000000 0.000000 0.000000 0.000000 0.000000\n",
       "OTU.1001  0.000000 0.000000 0.000000 6.654272 0.000000 0.000000 0.000000\n",
       "OTU.10030 0.000000 0.000000 0.000000 0.000000 0.000000 0.000000 0.000000\n",
       "             Tx303\n",
       "OTU.10    5.254927\n",
       "OTU.100   0.000000\n",
       "OTU.1000  0.000000\n",
       "OTU.10009 0.000000\n",
       "OTU.1001  0.000000\n",
       "OTU.10030 0.000000\n"
      ]
     },
     "metadata": {},
     "output_type": "display_data"
    }
   ],
   "source": [
    "%%R\n",
    "dim(l2f_m) %>% print\n",
    "\n",
    "matrix.please<-function(x) {\n",
    "    m<-as.matrix(x[,-1])\n",
    "    rownames(m)<-x[,1]\n",
    "    m\n",
    "}\n",
    "l2f_mat = matrix.please(l2f_m)\n",
    "head(l2f_mat)"
   ]
  },
  {
   "cell_type": "markdown",
   "metadata": {},
   "source": [
    "## Ordinate significant log two-fold change"
   ]
  },
  {
   "cell_type": "code",
   "execution_count": 35,
   "metadata": {
    "collapsed": false
   },
   "outputs": [],
   "source": [
    "%%R\n",
    "bc = vegdist(t(l2f_mat), method=\"bray\", binary=TRUE)\n"
   ]
  },
  {
   "cell_type": "code",
   "execution_count": 36,
   "metadata": {
    "collapsed": false,
    "scrolled": true
   },
   "outputs": [
    {
     "data": {
      "text/plain": [
       "Run 0 stress 0.1268254 \n",
       "Run 1 stress 0.126826 \n",
       "... procrustes: rmse 0.000161502  max resid 0.0005610527 \n",
       "*** Solution reached\n"
      ]
     },
     "metadata": {},
     "output_type": "display_data"
    }
   ],
   "source": [
    "%%R\n",
    "ord <- metaMDS(bc)"
   ]
  },
  {
   "cell_type": "code",
   "execution_count": 41,
   "metadata": {
    "collapsed": false,
    "scrolled": true
   },
   "outputs": [
    {
     "data": {
      "image/png": "[encoded data removed]"
     },
     "metadata": {},
     "output_type": "display_data"
    }
   ],
   "source": [
    "%%R\n",
    "plot(ord, type = \"t\")"
   ]
  },
  {
   "cell_type": "code",
   "execution_count": 51,
   "metadata": {
    "collapsed": false
   },
   "outputs": [
    {
     "data": {
      "image/png": "[encoded data removed]"
     },
     "metadata": {},
     "output_type": "display_data"
    }
   ],
   "source": [
    "%%R\n",
    "CL <- hclust(bc, method=\"aver\")\n",
    "CL\n",
    "plot(CL, main = \"Cluster Dendrogram of l2f \\n Bray-Curtis Distances\")"
   ]
  },
  {
   "cell_type": "markdown",
   "metadata": {},
   "source": [
    "## Define l2f cores by group"
   ]
  },
  {
   "cell_type": "markdown",
   "metadata": {},
   "source": [
    "### Core rhizosphere (all plants)"
   ]
  },
  {
   "cell_type": "code",
   "execution_count": 56,
   "metadata": {
    "collapsed": false,
    "scrolled": true
   },
   "outputs": [
    {
     "data": {
      "text/plain": [
       "[1] 29 22\n"
      ]
     },
     "metadata": {},
     "output_type": "display_data"
    }
   ],
   "source": [
    "%%R\n",
    "\n",
    "\n",
    "rc_sel = apply(l2f_mat, 1,function (x) min(x) > 0)\n",
    "   \n",
    "l2f_rhizcore = l2f_mat[rc_sel,]    \n",
    "dim(l2f_rhizcore)    "
   ]
  },
  {
   "cell_type": "markdown",
   "metadata": {},
   "source": [
    "Rhizosphere Core: 29 OTUs significantly enriched in all rhizospheres"
   ]
  },
  {
   "cell_type": "markdown",
   "metadata": {},
   "source": [
    "### Maize"
   ]
  },
  {
   "cell_type": "code",
   "execution_count": 55,
   "metadata": {
    "collapsed": false
   },
   "outputs": [
    {
     "data": {
      "text/plain": [
       " [1] \"75-062\" \"ABUTH\"  \"AMAPO\"  \"B73\"    \"B97\"    \"ECHCG\"  \"ELCOR\"  \"ERATE\" \n",
       " [9] \"FAGES\"  \"GLYMA\"  \"H99\"    \"HELAN\"  \"Hp301\"  \"Il14H\"  \"Ki3\"    \"Mo18\"  \n",
       "[17] \"MS71\"   \"Oh7B\"   \"SETFA\"  \"SORBI\"  \"SORSUD\" \"Tx303\" \n"
      ]
     },
     "metadata": {},
     "output_type": "display_data"
    }
   ],
   "source": [
    "%%R\n",
    "colnames(l2f_mat)"
   ]
  },
  {
   "cell_type": "code",
   "execution_count": 60,
   "metadata": {
    "collapsed": false
   },
   "outputs": [
    {
     "data": {
      "text/plain": [
       "[1] 106  11\n"
      ]
     },
     "metadata": {},
     "output_type": "display_data"
    }
   ],
   "source": [
    "%%R\n",
    "maize_mat = l2f_mat[,c(\"75-062\", \"B73\", \"B97\", \"H99\",\"Hp301\",  \"Il14H\",  \"Ki3\", \"Mo18\", \"MS71\", \n",
    "                       \"Oh7B\", \"Tx303\")] \n",
    "\n",
    "c_sel = apply(maize_mat, 1,function (x) min(x) > 0)\n",
    "   \n",
    "l2f_maizecore = maize_mat[c_sel,]    \n",
    "dim(l2f_maizecore)                   "
   ]
  },
  {
   "cell_type": "markdown",
   "metadata": {},
   "source": [
    "Maize Core Rhizosphere: 106 OTUs consistently enriched"
   ]
  },
  {
   "cell_type": "markdown",
   "metadata": {},
   "source": [
    "## C4 grasses not including maize"
   ]
  },
  {
   "cell_type": "code",
   "execution_count": 63,
   "metadata": {
    "collapsed": false
   },
   "outputs": [
    {
     "data": {
      "text/plain": [
       "[1] 63  6\n"
      ]
     },
     "metadata": {},
     "output_type": "display_data"
    }
   ],
   "source": [
    "%%R\n",
    "C4.nm_mat = l2f_mat[,c(\"ECHCG\",  \"ELCOR\",  \"ERATE\", \"SETFA\",  \"SORBI\",  \"SORSUD\")] \n",
    "\n",
    "c_sel = apply(C4.nm_mat, 1,function (x) min(x) > 0)\n",
    "   \n",
    "l2f_C4.nmcore = C4.nm_mat[c_sel,]    \n",
    "dim(l2f_C4.nmcore)   "
   ]
  },
  {
   "cell_type": "markdown",
   "metadata": {},
   "source": [
    "### C4 grasses including maize"
   ]
  },
  {
   "cell_type": "code",
   "execution_count": 65,
   "metadata": {
    "collapsed": false
   },
   "outputs": [
    {
     "data": {
      "text/plain": [
       "[1] 48 17\n"
      ]
     },
     "metadata": {},
     "output_type": "display_data"
    }
   ],
   "source": [
    "%%R\n",
    "C4_mat = l2f_mat[,c(\"75-062\", \"B73\", \"B97\", \"H99\",\"Hp301\",  \"Il14H\",  \"Ki3\", \"Mo18\", \"MS71\", \n",
    "                       \"Oh7B\", \"Tx303\", \"ECHCG\",  \"ELCOR\",  \"ERATE\", \"SETFA\",  \"SORBI\",  \"SORSUD\")] \n",
    "\n",
    "c_sel = apply(C4_mat, 1,function (x) min(x) > 0)\n",
    "   \n",
    "l2f_C4core = C4_mat[c_sel,]    \n",
    "dim(l2f_C4core)   "
   ]
  },
  {
   "cell_type": "code",
   "execution_count": null,
   "metadata": {
    "collapsed": true
   },
   "outputs": [],
   "source": [
    "Dicots"
   ]
  }
 ],
 "metadata": {
  "hide_input": false,
  "kernelspec": {
   "display_name": "Python 2",
   "language": "python",
   "name": "python2"
  },
  "language_info": {
   "codemirror_mode": {
    "name": "ipython",
    "version": 2
   },
   "file_extension": ".py",
   "mimetype": "text/x-python",
   "name": "python",
   "nbconvert_exporter": "python",
   "pygments_lexer": "ipython2",
   "version": "2.7.10"
  }
 },
 "nbformat": 4,
 "nbformat_minor": 0
}
