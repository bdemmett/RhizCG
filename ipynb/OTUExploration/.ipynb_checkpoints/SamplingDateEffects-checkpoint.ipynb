{
 "cells": [
  {
   "cell_type": "markdown",
   "metadata": {},
   "source": [
    "## Description:\n",
    "\n",
    "    Use DeSeq2 to identify differential abundance among Nitrogen treatments\n",
    "    Following  Ashley's succ-C notebook\n"
   ]
  },
  {
   "cell_type": "markdown",
   "metadata": {},
   "source": [
    "# Setting variables"
   ]
  },
  {
   "cell_type": "code",
   "execution_count": 1,
   "metadata": {
    "collapsed": true
   },
   "outputs": [],
   "source": [
    "workDir = '/home/bryan/RhizCG/data/MiSeq_amplicon/MergedRuns/DeSeq2/'\n",
    "#using physeq file with sparsity of greater than 3 in 3 samples\n",
    "physeqFile = '/home/bryan/RhizCG/data/MiSeq_amplicon/MergedRuns/physeq/Full-Sparsity3in3'"
   ]
  },
  {
   "cell_type": "markdown",
   "metadata": {},
   "source": [
    "# Init"
   ]
  },
  {
   "cell_type": "code",
   "execution_count": 2,
   "metadata": {
    "collapsed": false
   },
   "outputs": [],
   "source": [
    "%load_ext rpy2.ipython"
   ]
  },
  {
   "cell_type": "code",
   "execution_count": 3,
   "metadata": {
    "collapsed": false,
    "scrolled": false
   },
   "outputs": [
    {
     "data": {
      "text/plain": [
       "[1] \"plyr\"\n",
       "[1] ‘1.8.3’\n",
       "[1] \"BiocParallel\"\n",
       "[1] ‘1.0.3’\n",
       "[1] \"doParallel\"\n",
       "[1] ‘1.0.10’\n",
       "[1] \"DESeq2\"\n",
       "[1] ‘1.6.3’\n",
       "[1] \"foreach\"\n",
       "[1] ‘1.4.3’\n",
       "[1] \"ggplot2\"\n",
       "[1] ‘2.0.0’\n",
       "[1] \"gridExtra\"\n",
       "[1] ‘2.0.0’\n",
       "[1] \"scales\"\n",
       "[1] ‘0.3.0’\n",
       "[1] \"metagenomeSeq\"\n",
       "[1] ‘1.11.10’\n",
       "[1] \"phyloseq\"\n",
       "[1] ‘1.10.0’\n",
       "[1] \"dplyr\"\n",
       "[1] ‘0.4.3’\n",
       "[1] \"tidyr\"\n",
       "[1] ‘0.4.1’\n",
       "[1] \"reshape\"\n",
       "[1] ‘0.8.5’\n",
       "[1] \"vegan\"\n",
       "[1] ‘2.3.3’\n"
      ]
     },
     "metadata": {},
     "output_type": "display_data"
    }
   ],
   "source": [
    "%%R\n",
    "# The required package list:\n",
    "reqpkg = c(\"plyr\",\"BiocParallel\",\"doParallel\", \"DESeq2\", \"foreach\", \"ggplot2\", \n",
    "   \"gridExtra\",\"scales\", \"metagenomeSeq\", \"phyloseq\", \"dplyr\", \"tidyr\", \n",
    "           \"reshape\", \"vegan\")\n",
    "# Load all required packages and show version\n",
    "for (i in reqpkg) {\n",
    "    print(i)\n",
    "    print(packageVersion(i))\n",
    "    suppressMessages(library(i, quietly = TRUE, verbose = FALSE, \n",
    "                             warn.conflicts = FALSE, character.only = TRUE))\n",
    "}"
   ]
  },
  {
   "cell_type": "code",
   "execution_count": 4,
   "metadata": {
    "collapsed": false
   },
   "outputs": [],
   "source": [
    "%%R\n",
    "register(MulticoreParam(20))"
   ]
  },
  {
   "cell_type": "markdown",
   "metadata": {},
   "source": [
    "# Loading phyloseq object"
   ]
  },
  {
   "cell_type": "code",
   "execution_count": 6,
   "metadata": {
    "collapsed": false
   },
   "outputs": [
    {
     "data": {
      "text/plain": [
       "phyloseq-class experiment-level object\n",
       "otu_table()   OTU Table:         [ 4982 taxa and 238 samples ]\n",
       "sample_data() Sample Data:       [ 238 samples by 49 sample variables ]\n",
       "tax_table()   Taxonomy Table:    [ 4982 taxa by 8 taxonomic ranks ]\n",
       "phy_tree()    Phylogenetic Tree: [ 4982 tips and 4981 internal nodes ]\n"
      ]
     },
     "metadata": {},
     "output_type": "display_data"
    }
   ],
   "source": [
    "%%R -i physeqFile\n",
    "\n",
    "physeq.Full = readRDS(physeqFile)\n",
    "physeq.Full"
   ]
  },
  {
   "cell_type": "code",
   "execution_count": 7,
   "metadata": {
    "collapsed": false
   },
   "outputs": [
    {
     "data": {
      "text/plain": [
       "[1] \"36\" \"53\" \"57\" \"61\" \"72\" \"79\" \"84\" \"88\"\n"
      ]
     },
     "metadata": {},
     "output_type": "display_data"
    }
   ],
   "source": [
    "%%R\n",
    "\n",
    "#re-order levels \n",
    "sample_data(physeq.Full)$Plant = relevel(sample_data(physeq.Full)$Plant, \"BARE\")\n",
    "\n",
    "#Set DAP as factor\n",
    "sample_data(physeq.Full)$DAP = factor(sample_data(physeq.Full)$DAP) \n",
    "sample_data(physeq.Full)$Rep = factor(sample_data(physeq.Full)$Rep) \n",
    "sample_data(physeq.Full)$DAP %>% levels %>% print\n",
    "\n",
    "#sample_data(physeq.Full)$PlantRep = interaction(sample_data(physeq.Full)$Rep, sample_data(physeq.Full)$Plant)\n"
   ]
  },
  {
   "cell_type": "code",
   "execution_count": 8,
   "metadata": {
    "collapsed": false
   },
   "outputs": [],
   "source": [
    "%%R\n",
    "## Create phyloseq object on subset of samples\n",
    "physeq.plant = subset_samples(physeq.Full, Plant != \"BARE\")\n",
    "sample_data(physeq.plant)$PlantRep = interaction(sample_data(physeq.plant)$Rep, sample_data(physeq.plant)$Plant)"
   ]
  },
  {
   "cell_type": "code",
   "execution_count": 9,
   "metadata": {
    "collapsed": false
   },
   "outputs": [
    {
     "data": {
      "text/plain": [
       "phyloseq-class experiment-level object\n",
       "otu_table()   OTU Table:         [ 4982 taxa and 64 samples ]\n",
       "sample_data() Sample Data:       [ 64 samples by 50 sample variables ]\n",
       "tax_table()   Taxonomy Table:    [ 4982 taxa by 8 taxonomic ranks ]\n",
       "phy_tree()    Phylogenetic Tree: [ 4982 tips and 4981 internal nodes ]\n"
      ]
     },
     "metadata": {},
     "output_type": "display_data"
    }
   ],
   "source": [
    "%%R\n",
    "physeq.bare = subset_samples(physeq.Full, Plant == \"BARE\")\n",
    "sample_data(physeq.bare)$DAPRep = interaction(sample_data(physeq.bare)$Rep, sample_data(physeq.bare)$DAP)\n",
    "physeq.bare"
   ]
  },
  {
   "cell_type": "markdown",
   "metadata": {},
   "source": [
    "# Create DESeq object and view results for Bare and Planted Seperately"
   ]
  },
  {
   "cell_type": "markdown",
   "metadata": {},
   "source": [
    "## ~Plant + Treatment + Plant:Treatment"
   ]
  },
  {
   "cell_type": "code",
   "execution_count": 9,
   "metadata": {
    "collapsed": false,
    "scrolled": true
   },
   "outputs": [
    {
     "name": "stderr",
     "output_type": "stream",
     "text": [
      "/opt/anaconda/lib/python2.7/site-packages/rpy2/robjects/functions.py:106: UserWarning: converting counts to integer mode\n",
      "\n",
      "  res = super(Function, self).__call__(*new_args, **new_kwargs)\n",
      "/opt/anaconda/lib/python2.7/site-packages/rpy2/robjects/functions.py:106: UserWarning: estimating size factors\n",
      "\n",
      "  res = super(Function, self).__call__(*new_args, **new_kwargs)\n",
      "/opt/anaconda/lib/python2.7/site-packages/rpy2/robjects/functions.py:106: UserWarning: estimating dispersions\n",
      "\n",
      "  res = super(Function, self).__call__(*new_args, **new_kwargs)\n",
      "/opt/anaconda/lib/python2.7/site-packages/rpy2/robjects/functions.py:106: UserWarning: gene-wise dispersion estimates: 20 workers\n",
      "\n",
      "  res = super(Function, self).__call__(*new_args, **new_kwargs)\n",
      "/opt/anaconda/lib/python2.7/site-packages/rpy2/robjects/functions.py:106: UserWarning: mean-dispersion relationship\n",
      "\n",
      "  res = super(Function, self).__call__(*new_args, **new_kwargs)\n",
      "/opt/anaconda/lib/python2.7/site-packages/rpy2/robjects/functions.py:106: UserWarning: final dispersion estimates, MLE betas: 20 workers\n",
      "\n",
      "  res = super(Function, self).__call__(*new_args, **new_kwargs)\n",
      "/opt/anaconda/lib/python2.7/site-packages/rpy2/robjects/functions.py:106: UserWarning: fitting model and testing: 20 workers\n",
      "\n",
      "  res = super(Function, self).__call__(*new_args, **new_kwargs)\n"
     ]
    },
    {
     "data": {
      "text/plain": [
       " [1] \"Intercept\"                 \"Plant75.062\"              \n",
       " [3] \"PlantABUTH\"                \"PlantAMAPO\"               \n",
       " [5] \"PlantB73\"                  \"PlantB97\"                 \n",
       " [7] \"PlantECHCG\"                \"PlantELCOR\"               \n",
       " [9] \"PlantERATE\"                \"PlantFAGES\"               \n",
       "[11] \"PlantGLYMA\"                \"PlantH99\"                 \n",
       "[13] \"PlantHELAN\"                \"PlantHp301\"               \n",
       "[15] \"PlantIl14H\"                \"PlantKi3\"                 \n",
       "[17] \"PlantMo18\"                 \"PlantMS71\"                \n",
       "[19] \"PlantOh7B\"                 \"PlantSETFA\"               \n",
       "[21] \"PlantSORBI\"                \"PlantSORSUD\"              \n",
       "[23] \"PlantTx303\"                \"TreatmentNneg\"            \n",
       "[25] \"TreatmentNpos\"             \"Plant75.062.TreatmentNneg\"\n",
       "[27] \"PlantABUTH.TreatmentNneg\"  \"PlantAMAPO.TreatmentNneg\" \n",
       "[29] \"PlantB73.TreatmentNneg\"    \"PlantB97.TreatmentNneg\"   \n",
       "[31] \"PlantECHCG.TreatmentNneg\"  \"PlantELCOR.TreatmentNneg\" \n",
       "[33] \"PlantERATE.TreatmentNneg\"  \"PlantFAGES.TreatmentNneg\" \n",
       "[35] \"PlantGLYMA.TreatmentNneg\"  \"PlantH99.TreatmentNneg\"   \n",
       "[37] \"PlantHELAN.TreatmentNneg\"  \"PlantHp301.TreatmentNneg\" \n",
       "[39] \"PlantIl14H.TreatmentNneg\"  \"PlantKi3.TreatmentNneg\"   \n",
       "[41] \"PlantMo18.TreatmentNneg\"   \"PlantMS71.TreatmentNneg\"  \n",
       "[43] \"PlantOh7B.TreatmentNneg\"   \"PlantSETFA.TreatmentNneg\" \n",
       "[45] \"PlantSORBI.TreatmentNneg\"  \"PlantSORSUD.TreatmentNneg\"\n",
       "[47] \"PlantTx303.TreatmentNneg\"  \"Plant75.062.TreatmentNpos\"\n",
       "[49] \"PlantABUTH.TreatmentNpos\"  \"PlantAMAPO.TreatmentNpos\" \n",
       "[51] \"PlantB73.TreatmentNpos\"    \"PlantB97.TreatmentNpos\"   \n",
       "[53] \"PlantECHCG.TreatmentNpos\"  \"PlantELCOR.TreatmentNpos\" \n",
       "[55] \"PlantERATE.TreatmentNpos\"  \"PlantFAGES.TreatmentNpos\" \n",
       "[57] \"PlantGLYMA.TreatmentNpos\"  \"PlantH99.TreatmentNpos\"   \n",
       "[59] \"PlantHELAN.TreatmentNpos\"  \"PlantHp301.TreatmentNpos\" \n",
       "[61] \"PlantIl14H.TreatmentNpos\"  \"PlantKi3.TreatmentNpos\"   \n",
       "[63] \"PlantMo18.TreatmentNpos\"   \"PlantMS71.TreatmentNpos\"  \n",
       "[65] \"PlantOh7B.TreatmentNpos\"   \"PlantSETFA.TreatmentNpos\" \n",
       "[67] \"PlantSORBI.TreatmentNpos\"  \"PlantSORSUD.TreatmentNpos\"\n",
       "[69] \"PlantTx303.TreatmentNpos\" \n"
      ]
     },
     "metadata": {},
     "output_type": "display_data"
    }
   ],
   "source": [
    "%%R\n",
    "# dds = phyloseq_to_deseq2(physeq.plant, ~Plant + Treatment + Plant:Treatment)\n",
    "# d_dds = DESeq(dds, parallel = TRUE)\n",
    "# resultsNames(d_dds)\n"
   ]
  },
  {
   "cell_type": "code",
   "execution_count": 10,
   "metadata": {
    "collapsed": false
   },
   "outputs": [],
   "source": [
    "%%R\n",
    "# res = results(d_dds, contrast = c(\"Treatment\", \"Npos\", \"Nneg\"), parallel = TRUE)"
   ]
  },
  {
   "cell_type": "code",
   "execution_count": 11,
   "metadata": {
    "collapsed": false,
    "scrolled": true
   },
   "outputs": [
    {
     "data": {
      "image/png": "[encoded data removed]"
     },
     "metadata": {},
     "output_type": "display_data"
    }
   ],
   "source": [
    "%%R\n",
    "# plotCounts(dds, gene=which.min(res$padj), intgroup=c(\"Treatment\", \"Plant\"))"
   ]
  },
  {
   "cell_type": "code",
   "execution_count": 12,
   "metadata": {
    "collapsed": false
   },
   "outputs": [
    {
     "data": {
      "image/png": "[encoded data removed]"
     },
     "metadata": {},
     "output_type": "display_data"
    }
   ],
   "source": [
    "%%R\n",
    "# d = plotCounts(dds, gene=which.min(res$padj), intgroup=c(\"Plant\",\"Treatment\"), returnData = TRUE)\n",
    " \n",
    "\n",
    "# ggplot(d, aes(x=Treatment, y=count)) +\n",
    "#   geom_point(position=position_jitter(w=0.1,h=0)) +\n",
    "#     facet_wrap(~Plant) +\n",
    "#   scale_y_log10(breaks=c(25,100,400))"
   ]
  },
  {
   "cell_type": "markdown",
   "metadata": {},
   "source": [
    "## ~PlantRep + Treatment"
   ]
  },
  {
   "cell_type": "code",
   "execution_count": 13,
   "metadata": {
    "collapsed": false,
    "scrolled": true
   },
   "outputs": [
    {
     "name": "stderr",
     "output_type": "stream",
     "text": [
      "/opt/anaconda/lib/python2.7/site-packages/rpy2/robjects/functions.py:106: UserWarning: factor levels were dropped which had no samples\n",
      "\n",
      "  res = super(Function, self).__call__(*new_args, **new_kwargs)\n",
      "/opt/anaconda/lib/python2.7/site-packages/rpy2/robjects/functions.py:106: UserWarning: NOTE: fitType='parametric', but the dispersion trend was not well captured by the\n",
      "  function: y = a/x + b, and a local regression fit was automatically substituted.\n",
      "  specify fitType='local' or 'mean' to avoid this message next time.\n",
      "\n",
      "  res = super(Function, self).__call__(*new_args, **new_kwargs)\n"
     ]
    },
    {
     "data": {
      "text/plain": [
       " [1] \"Intercept\"        \"PlantRep1.75.062\" \"PlantRep2.75.062\" \"PlantRep3.75.062\"\n",
       " [5] \"PlantRep4.75.062\" \"PlantRep1.ABUTH\"  \"PlantRep2.ABUTH\"  \"PlantRep3.ABUTH\" \n",
       " [9] \"PlantRep4.ABUTH\"  \"PlantRep1.AMAPO\"  \"PlantRep2.AMAPO\"  \"PlantRep3.AMAPO\" \n",
       "[13] \"PlantRep4.AMAPO\"  \"PlantRep1.B73\"    \"PlantRep2.B73\"    \"PlantRep3.B73\"   \n",
       "[17] \"PlantRep4.B73\"    \"PlantRep1.B97\"    \"PlantRep2.B97\"    \"PlantRep3.B97\"   \n",
       "[21] \"PlantRep4.B97\"    \"PlantRep1.ECHCG\"  \"PlantRep2.ECHCG\"  \"PlantRep3.ECHCG\" \n",
       "[25] \"PlantRep1.ELCOR\"  \"PlantRep2.ELCOR\"  \"PlantRep3.ELCOR\"  \"PlantRep4.ELCOR\" \n",
       "[29] \"PlantRep1.ERATE\"  \"PlantRep2.ERATE\"  \"PlantRep3.ERATE\"  \"PlantRep4.ERATE\" \n",
       "[33] \"PlantRep1.FAGES\"  \"PlantRep2.FAGES\"  \"PlantRep3.FAGES\"  \"PlantRep4.FAGES\" \n",
       "[37] \"PlantRep1.GLYMA\"  \"PlantRep2.GLYMA\"  \"PlantRep3.GLYMA\"  \"PlantRep4.GLYMA\" \n",
       "[41] \"PlantRep1.H99\"    \"PlantRep2.H99\"    \"PlantRep3.H99\"    \"PlantRep4.H99\"   \n",
       "[45] \"PlantRep1.HELAN\"  \"PlantRep2.HELAN\"  \"PlantRep3.HELAN\"  \"PlantRep4.HELAN\" \n",
       "[49] \"PlantRep1.Hp301\"  \"PlantRep2.Hp301\"  \"PlantRep3.Hp301\"  \"PlantRep4.Hp301\" \n",
       "[53] \"PlantRep1.Il14H\"  \"PlantRep2.Il14H\"  \"PlantRep3.Il14H\"  \"PlantRep4.Il14H\" \n",
       "[57] \"PlantRep1.Ki3\"    \"PlantRep2.Ki3\"    \"PlantRep3.Ki3\"    \"PlantRep4.Ki3\"   \n",
       "[61] \"PlantRep1.Mo18\"   \"PlantRep2.Mo18\"   \"PlantRep3.Mo18\"   \"PlantRep4.Mo18\"  \n",
       "[65] \"PlantRep1.MS71\"   \"PlantRep2.MS71\"   \"PlantRep3.MS71\"   \"PlantRep4.MS71\"  \n",
       "[69] \"PlantRep1.Oh7B\"   \"PlantRep2.Oh7B\"   \"PlantRep3.Oh7B\"   \"PlantRep4.Oh7B\"  \n",
       "[73] \"PlantRep1.SETFA\"  \"PlantRep2.SETFA\"  \"PlantRep3.SETFA\"  \"PlantRep4.SETFA\" \n",
       "[77] \"PlantRep1.SORBI\"  \"PlantRep2.SORBI\"  \"PlantRep3.SORBI\"  \"PlantRep4.SORBI\" \n",
       "[81] \"PlantRep1.SORSUD\" \"PlantRep2.SORSUD\" \"PlantRep3.SORSUD\" \"PlantRep4.SORSUD\"\n",
       "[85] \"PlantRep1.Tx303\"  \"PlantRep2.Tx303\"  \"PlantRep3.Tx303\"  \"PlantRep4.Tx303\" \n",
       "[89] \"TreatmentNneg\"    \"TreatmentNpos\"   \n"
      ]
     },
     "metadata": {},
     "output_type": "display_data"
    }
   ],
   "source": [
    "%%R\n",
    "# dds = phyloseq_to_deseq2(physeq.plant, ~PlantRep + Treatment)\n",
    "# d_dds = DESeq(dds, parallel = TRUE)\n",
    "# resultsNames(d_dds)\n"
   ]
  },
  {
   "cell_type": "code",
   "execution_count": 14,
   "metadata": {
    "collapsed": false
   },
   "outputs": [],
   "source": [
    "%%R\n",
    "# res = results(d_dds, alpha=0.05, parallel = TRUE)"
   ]
  },
  {
   "cell_type": "code",
   "execution_count": 15,
   "metadata": {
    "collapsed": false,
    "scrolled": true
   },
   "outputs": [
    {
     "data": {
      "text/plain": [
       "      baseMean log2FoldChange       pvalue         padj       OTU    Rank1\n",
       "1    13.251085      2.0885071 4.067204e-18 9.118671e-15  OTU.7380 Bacteria\n",
       "2    29.595477      1.1553152 1.359027e-17 1.523469e-14    OTU.92 Bacteria\n",
       "3    11.352326      1.6458058 1.061747e-15 7.934792e-13   OTU.421 Bacteria\n",
       "4     7.285241      1.2081368 3.916956e-14 2.195454e-11   OTU.988 Bacteria\n",
       "5    28.814155      1.0972142 4.476881e-11 2.007433e-08 OTU.10249 Bacteria\n",
       "6    10.979446      1.2423261 2.101017e-09 7.850799e-07   OTU.442 Bacteria\n",
       "7     1.265182      1.5142541 3.456617e-09 1.107105e-06  OTU.2231 Bacteria\n",
       "8     1.960587      1.3210372 4.957367e-09 1.389302e-06  OTU.1130 Bacteria\n",
       "9    11.298332     -0.4826339 1.266107e-08 3.154014e-06   OTU.226 Bacteria\n",
       "10   13.258802      0.5782799 1.984365e-08 4.448946e-06   OTU.242 Bacteria\n",
       "11   43.038375      0.8931523 2.993142e-08 6.100567e-06  OTU.1403 Bacteria\n",
       "12    3.991401      1.1950933 4.009746e-08 7.491542e-06  OTU.1353 Bacteria\n",
       "13   16.148713      0.6309855 6.757973e-08 1.165490e-05  OTU.6591 Bacteria\n",
       "14   15.206168      0.7708738 8.346064e-08 1.333584e-05   OTU.204 Bacteria\n",
       "15    6.553473      1.2318376 8.922287e-08 1.333584e-05  OTU.6456 Bacteria\n",
       "16    1.521982      1.2638338 9.889038e-08 1.385701e-05  OTU.1368 Bacteria\n",
       "17    9.860277      0.8734702 2.399011e-07 3.163872e-05   OTU.603 Bacteria\n",
       "18    4.257642      0.7837481 2.917930e-07 3.507719e-05   OTU.721 Bacteria\n",
       "19    1.784128      1.3126555 2.972643e-07 3.507719e-05  OTU.2354 Bacteria\n",
       "20    5.290396     -0.8981539 3.644175e-07 4.085120e-05   OTU.528 Bacteria\n",
       "21    6.110765      0.9273467 4.231152e-07 4.167709e-05  OTU.2957 Bacteria\n",
       "22   25.493918      0.8239827 4.050061e-07 4.167709e-05 OTU.10294 Bacteria\n",
       "23   10.105425     -0.8532878 4.275526e-07 4.167709e-05   OTU.871 Bacteria\n",
       "24    4.229112     -0.8911993 5.303092e-07 4.898032e-05   OTU.704 Bacteria\n",
       "25    8.870079      0.7430557 5.461677e-07 4.898032e-05  OTU.4513 Bacteria\n",
       "26   15.714518      0.6361448 1.062275e-06 9.160083e-05 OTU.10253 Bacteria\n",
       "27    2.594695      1.2312048 1.552953e-06 1.289527e-04  OTU.9189 Bacteria\n",
       "28    3.407218      1.1684316 1.684596e-06 1.348880e-04  OTU.1555 Bacteria\n",
       "29    9.490367      0.5263158 2.989949e-06 2.293720e-04   OTU.375 Bacteria\n",
       "30    1.356429      1.1828758 3.069206e-06 2.293720e-04  OTU.9734 Bacteria\n",
       "31    1.608690      1.0283613 4.718890e-06 3.412823e-04  OTU.9109 Bacteria\n",
       "32    5.528463     -0.6562893 5.826428e-06 4.082141e-04   OTU.751 Bacteria\n",
       "33    1.253520     -1.0528714 6.688868e-06 4.544376e-04  OTU.1811 Bacteria\n",
       "34    8.255323      0.9507821 7.423229e-06 4.894965e-04   OTU.336 Bacteria\n",
       "35    2.464250      0.8595879 7.644809e-06 4.897046e-04  OTU.1072 Bacteria\n",
       "36    2.818554      0.8585531 8.370900e-06 5.120624e-04  OTU.1078 Bacteria\n",
       "37  103.197028      0.5618192 8.450628e-06 5.120624e-04   OTU.162 Bacteria\n",
       "38    1.980106      1.0033334 1.227944e-05 7.059106e-04  OTU.9939 Bacteria\n",
       "39   36.883803      0.7390493 1.206958e-05 7.059106e-04   OTU.261 Bacteria\n",
       "40   19.065334      0.6375566 1.810634e-05 1.014860e-03   OTU.407 Bacteria\n",
       "41   11.183779      0.8551971 1.868667e-05 1.021842e-03   OTU.330 Bacteria\n",
       "42   12.876031      0.3693791 1.945286e-05 1.038412e-03   OTU.332 Bacteria\n",
       "43    4.391189      0.5007666 2.004971e-05 1.045383e-03  OTU.5733 Bacteria\n",
       "44   32.129308     -0.2343113 2.416559e-05 1.217006e-03   OTU.179 Bacteria\n",
       "45    6.175414      0.8739318 2.442697e-05 1.217006e-03   OTU.952 Bacteria\n",
       "46    4.168696      0.6488687 2.676799e-05 1.304649e-03  OTU.2039 Bacteria\n",
       "47    6.309626     -0.4593011 2.762185e-05 1.317621e-03   OTU.353 Bacteria\n",
       "48    5.718118      1.0232903 2.971149e-05 1.387774e-03   OTU.580 Bacteria\n",
       "49    7.611505      0.5308371 3.238043e-05 1.481570e-03 OTU.12605 Bacteria\n",
       "50    2.238178      0.7456273 3.443667e-05 1.544140e-03  OTU.1211 Bacteria\n",
       "51    6.283758      0.7854529 3.862656e-05 1.698054e-03   OTU.659 Bacteria\n",
       "52    4.727636     -0.5155320 3.966273e-05 1.710074e-03   OTU.566 Bacteria\n",
       "53    3.669577      0.6105943 4.598278e-05 1.945158e-03   OTU.789 Bacteria\n",
       "54    2.300739      0.7962206 4.748987e-05 1.971709e-03   OTU.953 Bacteria\n",
       "55   23.478450      0.3281713 5.233770e-05 2.133475e-03    OTU.62 Bacteria\n",
       "56   46.592415      0.4948631 5.392879e-05 2.159078e-03   OTU.260 Bacteria\n",
       "57    8.725740      0.8809985 6.317353e-05 2.484826e-03   OTU.854 Bacteria\n",
       "58    2.091711      0.8770824 6.732612e-05 2.602503e-03  OTU.2222 Bacteria\n",
       "59   84.199523      0.3614408 7.075752e-05 2.688786e-03    OTU.49 Bacteria\n",
       "60    4.227007     -0.6830875 8.451634e-05 3.158094e-03   OTU.640 Bacteria\n",
       "61    2.648127      0.8925604 1.035965e-04 3.807595e-03  OTU.1025 Bacteria\n",
       "62    1.699558      0.8244437 1.104119e-04 3.992637e-03  OTU.1706 Bacteria\n",
       "63    9.480148     -0.3190770 1.137732e-04 4.048880e-03   OTU.249 Bacteria\n",
       "64   10.881419      0.5032901 1.199003e-04 4.200258e-03  OTU.5437 Bacteria\n",
       "65    5.534978     -0.4664230 1.239313e-04 4.234229e-03   OTU.178 Bacteria\n",
       "66    4.070060     -0.5963620 1.255237e-04 4.234229e-03   OTU.776 Bacteria\n",
       "67    2.354380      0.8069795 1.284244e-04 4.234229e-03  OTU.3671 Bacteria\n",
       "68    2.961242      0.6880433 1.278162e-04 4.234229e-03  OTU.1954 Bacteria\n",
       "69    1.656914      0.7459768 1.370609e-04 4.453486e-03   OTU.829 Bacteria\n",
       "70    3.770794     -0.5278601 1.472275e-04 4.715488e-03   OTU.607 Bacteria\n",
       "71    9.416180      0.5705476 1.622532e-04 5.123544e-03   OTU.799 Bacteria\n",
       "72    7.584482     -0.4166015 1.670502e-04 5.130501e-03   OTU.302 Bacteria\n",
       "73    7.755445     -0.3998562 1.652757e-04 5.130501e-03   OTU.150 Bacteria\n",
       "74    2.338666      0.7237325 1.785335e-04 5.409082e-03   OTU.818 Bacteria\n",
       "75   23.331048      0.8328240 1.918267e-04 5.734339e-03   OTU.141 Bacteria\n",
       "76    1.595102      0.6834469 2.124079e-04 6.266032e-03  OTU.1046 Bacteria\n",
       "77    4.023989      0.6488331 2.260224e-04 6.565224e-03   OTU.550 Bacteria\n",
       "78    2.796901      0.5601089 2.284635e-04 6.565224e-03   OTU.957 Bacteria\n",
       "79   15.123215      0.8135066 2.313348e-04 6.565224e-03   OTU.271 Bacteria\n",
       "80    6.894961      0.4073732 2.445073e-04 6.767721e-03   OTU.404 Bacteria\n",
       "81   22.060901      0.4837131 2.432775e-04 6.767721e-03  OTU.8817 Bacteria\n",
       "82    4.728246      0.5545044 2.705869e-04 7.398242e-03   OTU.571 Bacteria\n",
       "83    8.113466     -0.4688174 2.805964e-04 7.489252e-03   OTU.279 Bacteria\n",
       "84    7.215254     -0.5012333 2.799579e-04 7.489252e-03   OTU.187 Bacteria\n",
       "85    1.929156     -0.7088706 2.845509e-04 7.505449e-03   OTU.660 Bacteria\n",
       "86    1.841418      0.7183186 2.994318e-04 7.542991e-03  OTU.1388 Bacteria\n",
       "87    1.235989     -0.7907397 2.980540e-04 7.542991e-03  OTU.1841 Bacteria\n",
       "88    6.848379      0.6740130 2.972224e-04 7.542991e-03   OTU.458 Bacteria\n",
       "89   12.386148      0.4171269 2.938493e-04 7.542991e-03  OTU.7313 Bacteria\n",
       "90    3.391411     -0.5098373 3.062855e-04 7.629911e-03 OTU.10287 Bacteria\n",
       "91    1.375563      0.8974844 3.181610e-04 7.838647e-03  OTU.2057 Bacteria\n",
       "92    8.414258      0.5663381 3.437080e-04 8.376014e-03   OTU.420 Bacteria\n",
       "93   15.572751      0.3885859 3.615547e-04 8.716189e-03  OTU.5548 Bacteria\n",
       "94    2.676447     -0.5638841 3.768716e-04 8.988788e-03   OTU.655 Bacteria\n",
       "95    5.521902     -0.6580522 3.809607e-04 8.990672e-03   OTU.712 Bacteria\n",
       "96    1.591734      0.8543543 3.857785e-04 9.009534e-03  OTU.1205 Bacteria\n",
       "97    3.480863     -0.5697748 4.321888e-04 9.989354e-03   OTU.166 Bacteria\n",
       "98    1.466205      0.6744234 4.883318e-04 1.110756e-02  OTU.4308 Bacteria\n",
       "99    9.183221     -0.3071768 4.904768e-04 1.110756e-02 OTU.11511 Bacteria\n",
       "100   1.570922      0.8870630 5.232859e-04 1.173207e-02  OTU.1914 Bacteria\n",
       "101   5.499750      0.7201429 5.448301e-04 1.209415e-02   OTU.597 Bacteria\n",
       "102  57.755004      0.5662464 5.529789e-04 1.215469e-02    OTU.45 Bacteria\n",
       "103   1.910568     -0.6426596 5.615385e-04 1.220670e-02   OTU.803 Bacteria\n",
       "104   6.334571     -0.5392020 5.662343e-04 1.220670e-02  OTU.1738 Bacteria\n",
       "105  35.823618      0.5444150 5.746289e-04 1.226969e-02   OTU.216 Bacteria\n",
       "106  11.031911      0.3354910 5.870806e-04 1.241731e-02  OTU.3001 Bacteria\n",
       "107   1.256832      0.7455106 6.017867e-04 1.249265e-02  OTU.2265 Bacteria\n",
       "108  26.984575      0.3557117 6.005739e-04 1.249265e-02   OTU.152 Bacteria\n",
       "109   4.825444      0.7652104 6.375745e-04 1.311415e-02 OTU.10389 Bacteria\n",
       "110   1.224216     -0.6813826 6.732527e-04 1.372211e-02  OTU.1066 Bacteria\n",
       "111  13.258626      0.4257901 7.006833e-04 1.415254e-02  OTU.3486 Bacteria\n",
       "112   1.721765     -0.6825332 7.075228e-04 1.416309e-02  OTU.2240 Bacteria\n",
       "113   5.628402      0.5726698 7.145541e-04 1.417726e-02  OTU.7869 Bacteria\n",
       "114  40.481906     -0.4917242 7.898220e-04 1.551034e-02    OTU.96 Bacteria\n",
       "115   6.101429     -0.3254167 7.955793e-04 1.551034e-02  OTU.4770 Bacteria\n",
       "116   7.560530      0.4841727 8.286180e-04 1.601519e-02   OTU.443 Bacteria\n",
       "117   1.137792      0.7022841 8.455407e-04 1.620258e-02  OTU.5347 Bacteria\n",
       "118   4.552027     -0.4652555 8.888906e-04 1.647019e-02  OTU.1191 Bacteria\n",
       "119  11.770789      0.4943385 8.871028e-04 1.647019e-02   OTU.297 Bacteria\n",
       "120   5.808062      0.4593876 8.760990e-04 1.647019e-02   OTU.454 Bacteria\n",
       "121   3.431112      0.6084403 8.828642e-04 1.647019e-02   OTU.568 Bacteria\n",
       "122  42.623614      0.2060456 9.091780e-04 1.657217e-02    OTU.54 Bacteria\n",
       "123  27.066847      0.4468759 9.078405e-04 1.657217e-02  OTU.9965 Bacteria\n",
       "124   3.557711     -0.4727045 9.268128e-04 1.675737e-02 OTU.11384 Bacteria\n",
       "125   2.853705      0.6292566 9.475859e-04 1.699590e-02   OTU.817 Bacteria\n",
       "126  18.120327      0.3131496 1.010460e-03 1.797977e-02   OTU.218 Bacteria\n",
       "127   4.819048      0.4759181 1.066621e-03 1.882965e-02   OTU.342 Bacteria\n",
       "128   5.058381     -0.5279264 1.144466e-03 1.967187e-02  OTU.1687 Bacteria\n",
       "129   2.266650      0.6178858 1.166975e-03 1.967187e-02  OTU.1161 Bacteria\n",
       "130   4.123722      0.7114966 1.152548e-03 1.967187e-02  OTU.1276 Bacteria\n",
       "131   6.930027      0.4604396 1.136201e-03 1.967187e-02   OTU.460 Bacteria\n",
       "132  27.882912      0.5227444 1.162896e-03 1.967187e-02   OTU.173 Bacteria\n",
       "133   8.296310     -0.2709460 1.154666e-03 1.967187e-02   OTU.412 Bacteria\n",
       "134   8.274261      0.4592962 1.194531e-03 1.983807e-02  OTU.5217 Bacteria\n",
       "135  21.254884      0.3492687 1.193342e-03 1.983807e-02   OTU.194 Bacteria\n",
       "136  15.065792     -0.6179582 1.359379e-03 2.240977e-02  OTU.3784 Bacteria\n",
       "137  20.524632      0.4800968 1.389642e-03 2.274144e-02 OTU.12012 Bacteria\n",
       "138  31.864075      0.4030321 1.429874e-03 2.320318e-02   OTU.119 Bacteria\n",
       "139   1.609805      0.7321312 1.438556e-03 2.320318e-02  OTU.1324 Bacteria\n",
       "140   6.246228     -0.3773754 1.483179e-03 2.375205e-02   OTU.323 Bacteria\n",
       "141   4.003581      0.6249990 1.510354e-03 2.401570e-02   OTU.582 Bacteria\n",
       "142   3.467422      0.4426105 1.559416e-03 2.462120e-02 OTU.10114 Bacteria\n",
       "143   7.950478      0.4520944 1.581771e-03 2.479951e-02   OTU.333 Bacteria\n",
       "144   1.468470     -0.6396339 1.647154e-03 2.546840e-02  OTU.5128 Bacteria\n",
       "145   7.467753     -0.3038230 1.643088e-03 2.546840e-02  OTU.8652 Bacteria\n",
       "146  89.453406      0.2900581 1.671045e-03 2.566084e-02    OTU.24 Bacteria\n",
       "147   3.140733      0.5927745 1.821699e-03 2.778400e-02   OTU.778 Bacteria\n",
       "148   2.940348      0.5472351 1.839257e-03 2.786225e-02   OTU.844 Bacteria\n",
       "149   1.872440      0.5814831 1.905560e-03 2.830801e-02  OTU.8648 Bacteria\n",
       "150  34.968381     -0.3939903 1.906561e-03 2.830801e-02  OTU.9501 Bacteria\n",
       "151   2.903726     -0.4820860 1.892470e-03 2.830801e-02   OTU.317 Bacteria\n",
       "152  17.008267     -0.4263085 1.998096e-03 2.931285e-02   OTU.277 Bacteria\n",
       "153  10.195076     -0.4569882 2.000386e-03 2.931285e-02   OTU.228 Bacteria\n",
       "154   2.248476      0.6455824 2.037474e-03 2.966244e-02  OTU.1993 Bacteria\n",
       "155   1.844670     -0.5741510 2.093090e-03 3.027554e-02  OTU.1754 Bacteria\n",
       "156   2.541483     -0.4968497 2.143177e-03 3.080131e-02   OTU.459 Bacteria\n",
       "157   8.098210      0.4611500 2.192849e-03 3.131444e-02   OTU.455 Bacteria\n",
       "158   4.546565     -0.5201600 2.238413e-03 3.136577e-02   OTU.551 Bacteria\n",
       "159  23.818966     -0.6243898 2.234113e-03 3.136577e-02  OTU.7529 Bacteria\n",
       "160   3.208800      0.4241638 2.236460e-03 3.136577e-02   OTU.779 Bacteria\n",
       "161  49.045215     -0.4115642 2.411632e-03 3.339503e-02  OTU.3560 Bacteria\n",
       "162   3.233559      0.4482188 2.413022e-03 3.339503e-02   OTU.476 Bacteria\n",
       "163   2.377949      0.4886031 2.452889e-03 3.373851e-02  OTU.1860 Bacteria\n",
       "164   1.548908      0.7095445 2.576748e-03 3.522603e-02  OTU.1504 Bacteria\n",
       "165   1.155310      0.6646785 2.782283e-03 3.780532e-02  OTU.1788 Bacteria\n",
       "166  16.273286     -0.2638469 2.831276e-03 3.823928e-02   OTU.232 Bacteria\n",
       "167   2.288637     -0.4898116 2.977663e-03 3.997557e-02  OTU.1192 Bacteria\n",
       "168   5.509028     -0.3376128 3.004848e-03 4.010041e-02  OTU.9062 Bacteria\n",
       "169   1.303351      0.7266353 3.043605e-03 4.037729e-02  OTU.1984 Bacteria\n",
       "170   1.110524      0.7585009 3.098212e-03 4.046715e-02  OTU.2390 Bacteria\n",
       "171   2.197118     -0.5264095 3.094975e-03 4.046715e-02 OTU.12462 Bacteria\n",
       "172   2.954608     -0.5945680 3.104527e-03 4.046715e-02  OTU.1240 Bacteria\n",
       "173  13.390141      0.2696931 3.167171e-03 4.104508e-02   OTU.303 Bacteria\n",
       "174   7.208715     -0.3401881 3.212582e-03 4.139431e-02   OTU.559 Bacteria\n",
       "175   1.771872      0.6796257 3.238607e-03 4.140975e-02  OTU.1178 Bacteria\n",
       "176   2.218949      0.5839248 3.250721e-03 4.140975e-02  OTU.1174 Bacteria\n",
       "177  35.436941     -0.2017534 3.271367e-03 4.143732e-02    OTU.52 Bacteria\n",
       "178   1.737502     -0.6306447 3.489307e-03 4.394959e-02  OTU.1198 Bacteria\n",
       "179   4.185135     -0.3946256 3.553319e-03 4.425856e-02  OTU.1201 Bacteria\n",
       "180   8.105165     -0.2715482 3.539756e-03 4.425856e-02  OTU.5041 Bacteria\n",
       "181   1.566167      0.6758815 3.585105e-03 4.440777e-02  OTU.2087 Bacteria\n",
       "182   1.860164      0.5540985 3.736631e-03 4.603036e-02  OTU.1837 Bacteria\n",
       "183   1.875992     -0.5887464 3.778406e-03 4.609440e-02   OTU.529 Bacteria\n",
       "184 151.349733     -0.1617219 3.782948e-03 4.609440e-02    OTU.28 Bacteria\n",
       "185   1.912335      0.5212525 3.940711e-03 4.721410e-02  OTU.3295 Bacteria\n",
       "186   2.231200     -0.4952139 3.980136e-03 4.721410e-02  OTU.1163 Bacteria\n",
       "187  32.455806     -0.3531940 3.973113e-03 4.721410e-02 OTU.10442 Bacteria\n",
       "188  41.412446     -0.1576793 3.940266e-03 4.721410e-02  OTU.3071 Bacteria\n",
       "189   2.143113      0.5860450 3.902757e-03 4.721410e-02  OTU.4766 Bacteria\n",
       "190   1.655681     -0.5309915 4.135289e-03 4.779030e-02   OTU.743 Bacteria\n",
       "191   2.677726     -0.4913223 4.085074e-03 4.779030e-02  OTU.9427 Bacteria\n",
       "192   1.375494      0.7309018 4.127394e-03 4.779030e-02   OTU.965 Bacteria\n",
       "193 340.579159      0.3836276 4.128719e-03 4.779030e-02     OTU.4 Bacteria\n",
       "194   5.639717     -0.3681142 4.079389e-03 4.779030e-02   OTU.274 Bacteria\n",
       "195   1.610373     -0.6216776 4.222170e-03 4.854413e-02  OTU.1366 Bacteria\n",
       "196  12.696166      0.2380135 4.345210e-03 4.945158e-02   OTU.268 Bacteria\n",
       "197   2.053910     -0.4872031 4.325068e-03 4.945158e-02   OTU.579 Bacteria\n",
       "198   4.688166     -0.3313373 4.374400e-03 4.953234e-02   OTU.570 Bacteria\n",
       "                      Rank2                          Rank3\n",
       "1            Proteobacteria             Betaproteobacteria\n",
       "2            Proteobacteria            Gammaproteobacteria\n",
       "3            Proteobacteria            Gammaproteobacteria\n",
       "4            Proteobacteria            Gammaproteobacteria\n",
       "5            Proteobacteria             Betaproteobacteria\n",
       "6             Bacteroidetes                  Flavobacteria\n",
       "7             Bacteroidetes                  Flavobacteria\n",
       "8               Nitrospirae                     Nitrospira\n",
       "9            Proteobacteria            Deltaproteobacteria\n",
       "10           Proteobacteria             Betaproteobacteria\n",
       "11           Proteobacteria             Betaproteobacteria\n",
       "12           Proteobacteria            Alphaproteobacteria\n",
       "13           Proteobacteria             Betaproteobacteria\n",
       "14              Chloroflexi                   Anaerolineae\n",
       "15           Proteobacteria             Betaproteobacteria\n",
       "16           Proteobacteria            Gammaproteobacteria\n",
       "17           Proteobacteria            Gammaproteobacteria\n",
       "18         Gemmatimonadetes               Gemmatimonadales\n",
       "19           Proteobacteria            Gammaproteobacteria\n",
       "20           Proteobacteria            Alphaproteobacteria\n",
       "21           Proteobacteria            Gammaproteobacteria\n",
       "22           Proteobacteria            Gammaproteobacteria\n",
       "23           Proteobacteria             Betaproteobacteria\n",
       "24           Proteobacteria            Alphaproteobacteria\n",
       "25           Proteobacteria            Alphaproteobacteria\n",
       "26           Proteobacteria            Alphaproteobacteria\n",
       "27           Proteobacteria             Betaproteobacteria\n",
       "28           Proteobacteria            Gammaproteobacteria\n",
       "29          Verrucomicrobia               OPB35_soil_group\n",
       "30           Proteobacteria             Betaproteobacteria\n",
       "31           Proteobacteria            Alphaproteobacteria\n",
       "32          Verrucomicrobia                 Spartobacteria\n",
       "33           Proteobacteria             Betaproteobacteria\n",
       "34            Bacteroidetes               Sphingobacteriia\n",
       "35         Gemmatimonadetes               Gemmatimonadales\n",
       "36            Cyanobacteria                      ML635J-21\n",
       "37           Proteobacteria             Betaproteobacteria\n",
       "38            Bacteroidetes                     Cytophagia\n",
       "39            Bacteroidetes                  Flavobacteria\n",
       "40           Proteobacteria            Deltaproteobacteria\n",
       "41           Proteobacteria             Betaproteobacteria\n",
       "42         Gemmatimonadetes               Gemmatimonadales\n",
       "43            Acidobacteria                          DA023\n",
       "44           Actinobacteria                Thermoleophilia\n",
       "45           Proteobacteria             Betaproteobacteria\n",
       "46          Verrucomicrobia               OPB35_soil_group\n",
       "47           Actinobacteria                 Acidimicrobiia\n",
       "48           Proteobacteria             Betaproteobacteria\n",
       "49           Proteobacteria            Gammaproteobacteria\n",
       "50         Gemmatimonadetes               Gemmatimonadales\n",
       "51           Proteobacteria            Gammaproteobacteria\n",
       "52           Planctomycetes               Planctomycetacia\n",
       "53              Chloroflexi                   Anaerolineae\n",
       "54           Proteobacteria            Alphaproteobacteria\n",
       "55              Nitrospirae                     Nitrospira\n",
       "56           Proteobacteria            Alphaproteobacteria\n",
       "57           Proteobacteria             Betaproteobacteria\n",
       "58            Bacteroidetes               Sphingobacteriia\n",
       "59           Proteobacteria            Alphaproteobacteria\n",
       "60           Proteobacteria            Deltaproteobacteria\n",
       "61            Bacteroidetes               Sphingobacteriia\n",
       "62           Proteobacteria            Deltaproteobacteria\n",
       "63           Actinobacteria                Thermoleophilia\n",
       "64           Proteobacteria            Gammaproteobacteria\n",
       "65            Acidobacteria                          DA023\n",
       "66           Planctomycetes                   Pla4_lineage\n",
       "67            Bacteroidetes               Sphingobacteriia\n",
       "68           Actinobacteria                 Acidimicrobiia\n",
       "69         Gemmatimonadetes               Gemmatimonadales\n",
       "70          Verrucomicrobia               OPB35_soil_group\n",
       "71           Proteobacteria            Alphaproteobacteria\n",
       "72            Acidobacteria                          DA023\n",
       "73           Proteobacteria            Alphaproteobacteria\n",
       "74         Gemmatimonadetes               Gemmatimonadales\n",
       "75            Bacteroidetes                  Flavobacteria\n",
       "76           Proteobacteria            Deltaproteobacteria\n",
       "77         Gemmatimonadetes               Gemmatimonadales\n",
       "78              Chloroflexi                           S085\n",
       "79           Proteobacteria             Betaproteobacteria\n",
       "80          Verrucomicrobia                       Opitutae\n",
       "81           Actinobacteria              Micromonosporales\n",
       "82         Gemmatimonadetes               Gemmatimonadales\n",
       "83           Planctomycetes               Planctomycetacia\n",
       "84           Proteobacteria             Betaproteobacteria\n",
       "85              Chloroflexi                   Anaerolineae\n",
       "86         Gemmatimonadetes               Gemmatimonadales\n",
       "87              Chloroflexi                   Anaerolineae\n",
       "88           Proteobacteria            Gammaproteobacteria\n",
       "89           Proteobacteria             Betaproteobacteria\n",
       "90            Bacteroidetes               Sphingobacteriia\n",
       "91           Proteobacteria            Alphaproteobacteria\n",
       "92              Chloroflexi                   Anaerolineae\n",
       "93           Proteobacteria            Gammaproteobacteria\n",
       "94           Proteobacteria             Betaproteobacteria\n",
       "95           Proteobacteria            Alphaproteobacteria\n",
       "96           Proteobacteria            Deltaproteobacteria\n",
       "97           Proteobacteria             Betaproteobacteria\n",
       "98            Acidobacteria Candidatus_Chloracidobacterium\n",
       "99           Proteobacteria            Alphaproteobacteria\n",
       "100           Bacteroidetes               Sphingobacteriia\n",
       "101          Proteobacteria            Alphaproteobacteria\n",
       "102          Proteobacteria            Deltaproteobacteria\n",
       "103         Verrucomicrobia                 Spartobacteria\n",
       "104             Chloroflexi                    Gitt-GS-136\n",
       "105          Proteobacteria            Gammaproteobacteria\n",
       "106          Actinobacteria            Propionibacteriales\n",
       "107         Verrucomicrobia               OPB35_soil_group\n",
       "108          Proteobacteria            Alphaproteobacteria\n",
       "109          Proteobacteria             Betaproteobacteria\n",
       "110          Actinobacteria                 Acidimicrobiia\n",
       "111          Proteobacteria            Gammaproteobacteria\n",
       "112           Acidobacteria Candidatus_Chloracidobacterium\n",
       "113          Proteobacteria            Alphaproteobacteria\n",
       "114           Bacteroidetes               Sphingobacteriia\n",
       "115          Proteobacteria            Alphaproteobacteria\n",
       "116          Proteobacteria            Gammaproteobacteria\n",
       "117           Bacteroidetes               Sphingobacteriia\n",
       "118         Verrucomicrobia               Verrucomicrobiae\n",
       "119         Verrucomicrobia                       Opitutae\n",
       "120           Bacteroidetes               Sphingobacteriia\n",
       "121        Gemmatimonadetes       BD2-11_terrestrial_group\n",
       "122          Actinobacteria                 Acidimicrobiia\n",
       "123          Proteobacteria            Deltaproteobacteria\n",
       "124          Planctomycetes               Planctomycetacia\n",
       "125         Armatimonadetes                           <NA>\n",
       "126          Actinobacteria            Propionibacteriales\n",
       "127          Planctomycetes               Planctomycetacia\n",
       "128           Acidobacteria                          DA023\n",
       "129        Gemmatimonadetes               Gemmatimonadales\n",
       "130             Chloroflexi                   Anaerolineae\n",
       "131          Proteobacteria             Betaproteobacteria\n",
       "132          Proteobacteria             Betaproteobacteria\n",
       "133             Chloroflexi                         KD4-96\n",
       "134          Proteobacteria            Alphaproteobacteria\n",
       "135          Proteobacteria            Alphaproteobacteria\n",
       "136             Chloroflexi                 Chloroflexales\n",
       "137          Proteobacteria            Alphaproteobacteria\n",
       "138          Proteobacteria            Alphaproteobacteria\n",
       "139          Proteobacteria            Alphaproteobacteria\n",
       "140           Acidobacteria                     Holophagae\n",
       "141           Cyanobacteria                  SubsectionIII\n",
       "142          Proteobacteria             Betaproteobacteria\n",
       "143          Proteobacteria            Alphaproteobacteria\n",
       "144          Planctomycetes               Planctomycetacia\n",
       "145          Actinobacteria                Thermoleophilia\n",
       "146          Proteobacteria            Alphaproteobacteria\n",
       "147          Proteobacteria            Deltaproteobacteria\n",
       "148          Planctomycetes                  Phycisphaerae\n",
       "149          Proteobacteria            Deltaproteobacteria\n",
       "150          Proteobacteria             Betaproteobacteria\n",
       "151          Proteobacteria            Alphaproteobacteria\n",
       "152             Chloroflexi                 Chloroflexales\n",
       "153             Chloroflexi                   Anaerolineae\n",
       "154        Gemmatimonadetes               Gemmatimonadales\n",
       "155          Proteobacteria            Deltaproteobacteria\n",
       "156          Proteobacteria            Deltaproteobacteria\n",
       "157             Chloroflexi                 Chloroflexales\n",
       "158             Chloroflexi                   Anaerolineae\n",
       "159          Proteobacteria             Betaproteobacteria\n",
       "160             Nitrospirae                     Nitrospira\n",
       "161              Firmicutes                        Bacilli\n",
       "162             Nitrospirae                     Nitrospira\n",
       "163           Acidobacteria                          DA023\n",
       "164     Deinococcus-Thermus                     Deinococci\n",
       "165        Gemmatimonadetes               Gemmatimonadales\n",
       "166          Proteobacteria            Alphaproteobacteria\n",
       "167           Acidobacteria                          DA023\n",
       "168          Proteobacteria            Alphaproteobacteria\n",
       "169           Bacteroidetes               Sphingobacteriia\n",
       "170 Candidate_division_BRC1           uncultured_bacterium\n",
       "171          Proteobacteria             Betaproteobacteria\n",
       "172          Proteobacteria            Alphaproteobacteria\n",
       "173          Actinobacteria                 Acidimicrobiia\n",
       "174           Acidobacteria                          DA023\n",
       "175          Proteobacteria            Deltaproteobacteria\n",
       "176          Proteobacteria            Alphaproteobacteria\n",
       "177          Actinobacteria                Thermoleophilia\n",
       "178          Planctomycetes               Planctomycetacia\n",
       "179          Actinobacteria                 Acidimicrobiia\n",
       "180          Actinobacteria                Thermoleophilia\n",
       "181          Proteobacteria            Alphaproteobacteria\n",
       "182          Actinobacteria                 Acidimicrobiia\n",
       "183             Chloroflexi                   Anaerolineae\n",
       "184             Chloroflexi                         KD4-96\n",
       "185        Gemmatimonadetes               Gemmatimonadales\n",
       "186          Proteobacteria             Betaproteobacteria\n",
       "187          Proteobacteria             Betaproteobacteria\n",
       "188             Chloroflexi                         KD4-96\n",
       "189          Proteobacteria            Alphaproteobacteria\n",
       "190          Planctomycetes                          OM190\n",
       "191             Chloroflexi                 Chloroflexales\n",
       "192          Proteobacteria            Deltaproteobacteria\n",
       "193          Proteobacteria             Betaproteobacteria\n",
       "194          Proteobacteria             Betaproteobacteria\n",
       "195          Proteobacteria                           <NA>\n",
       "196          Actinobacteria                 Acidimicrobiia\n",
       "197          Proteobacteria            Deltaproteobacteria\n",
       "198          Planctomycetes               Planctomycetacia\n",
       "                                 Rank4                            Rank5\n",
       "1                      Burkholderiales                   Comamonadaceae\n",
       "2                      Xanthomonadales                 Xanthomonadaceae\n",
       "3                      Xanthomonadales                 Xanthomonadaceae\n",
       "4                      Xanthomonadales                 Xanthomonadaceae\n",
       "5                      Burkholderiales                 Oxalobacteraceae\n",
       "6                     Flavobacteriales                   Cryomorphaceae\n",
       "7                     Flavobacteriales                Flavobacteriaceae\n",
       "8                        Nitrospirales                   Nitrospiraceae\n",
       "9                    Desulfobacterales                   Nitrospinaceae\n",
       "10                    Nitrosomonadales                Nitrosomonadaceae\n",
       "11                     Burkholderiales                 Oxalobacteraceae\n",
       "12                         Rhizobiales                Hyphomicrobiaceae\n",
       "13                     Burkholderiales                             <NA>\n",
       "14                      Anaerolineales                  Anaerolineaceae\n",
       "15                       Rhodocyclales                   Rhodocyclaceae\n",
       "16                   Oceanospirillales               Oceanospirillaceae\n",
       "17                     Pseudomonadales                 Pseudomonadaceae\n",
       "18                   Gemmatimonadaceae                       uncultured\n",
       "19                     Xanthomonadales                 Xanthomonadaceae\n",
       "20                              DB1-14             uncultured_bacterium\n",
       "21                     Xanthomonadales                 Xanthomonadaceae\n",
       "22                     Pseudomonadales                 Pseudomonadaceae\n",
       "23                    Nitrosomonadales                Nitrosomonadaceae\n",
       "24                         Rhizobiales                Bradyrhizobiaceae\n",
       "25                         Rhizobiales                Hyphomicrobiaceae\n",
       "26                         Rhizobiales                Hyphomicrobiaceae\n",
       "27                       Rhodocyclales                   Rhodocyclaceae\n",
       "28                     Xanthomonadales                 Xanthomonadaceae\n",
       "29                uncultured_bacterium                             <NA>\n",
       "30                     Burkholderiales                 Oxalobacteraceae\n",
       "31                    Sphingomonadales               Erythrobacteraceae\n",
       "32                  Chthoniobacterales                 DA101_soil_group\n",
       "33                    Nitrosomonadales                Nitrosomonadaceae\n",
       "34                  Sphingobacteriales              Sphingobacteriaceae\n",
       "35                   Gemmatimonadaceae                     Gemmatimonas\n",
       "36                                <NA>                             <NA>\n",
       "37                     Burkholderiales                 Oxalobacteraceae\n",
       "38                        Cytophagales                    Cytophagaceae\n",
       "39                    Flavobacteriales                Flavobacteriaceae\n",
       "40                        Myxococcales                     Sorangiineae\n",
       "41                     Burkholderiales                 Oxalobacteraceae\n",
       "42                   Gemmatimonadaceae                     Gemmatimonas\n",
       "43                uncultured_bacterium                             <NA>\n",
       "44                          Gaiellales                       uncultured\n",
       "45                       Rhodocyclales                   Rhodocyclaceae\n",
       "46                                <NA>                             <NA>\n",
       "47                    Acidimicrobiales                            TM214\n",
       "48                       Rhodocyclales                   Rhodocyclaceae\n",
       "49                     Xanthomonadales                 Xanthomonadaceae\n",
       "50                   Gemmatimonadaceae                     Gemmatimonas\n",
       "51                     Xanthomonadales                 Xanthomonadaceae\n",
       "52                    Planctomycetales                Planctomycetaceae\n",
       "53                      Anaerolineales                  Anaerolineaceae\n",
       "54                     Caulobacterales                 Caulobacteraceae\n",
       "55                       Nitrospirales                   Nitrospiraceae\n",
       "56                    Sphingomonadales                Sphingomonadaceae\n",
       "57                       Rhodocyclales                   Rhodocyclaceae\n",
       "58                  Sphingobacteriales                       env.OPS_17\n",
       "59                         Rhizobiales                     Rhizobiaceae\n",
       "60                        Myxococcales                     Sorangiineae\n",
       "61                  Sphingobacteriales                       env.OPS_17\n",
       "62                        Myxococcales                     Sorangiineae\n",
       "63                          Gaiellales                       uncultured\n",
       "64                     Xanthomonadales                 Xanthomonadaceae\n",
       "65                uncultured_bacterium                             <NA>\n",
       "66                uncultured_bacterium                             <NA>\n",
       "67                  Sphingobacteriales                 Chitinophagaceae\n",
       "68                    Acidimicrobiales                        Iamiaceae\n",
       "69                   Gemmatimonadaceae                       uncultured\n",
       "70                uncultured_bacterium                             <NA>\n",
       "71                    Rhodospirillales                Rhodospirillaceae\n",
       "72                uncultured_bacterium                             <NA>\n",
       "73                         Rhizobiales                Hyphomicrobiaceae\n",
       "74                   Gemmatimonadaceae                       uncultured\n",
       "75                    Flavobacteriales                Flavobacteriaceae\n",
       "76                        Myxococcales                     Sorangiineae\n",
       "77                   Gemmatimonadaceae                     Gemmatimonas\n",
       "78                uncultured_bacterium                             <NA>\n",
       "79                        Neisseriales                    Neisseriaceae\n",
       "80                          Opitutales                      Opitutaceae\n",
       "81                  Micromonosporaceae                           Asanoa\n",
       "82                   Gemmatimonadaceae                       uncultured\n",
       "83                    Planctomycetales                Planctomycetaceae\n",
       "84                    Nitrosomonadales                Nitrosomonadaceae\n",
       "85                      Anaerolineales                  Anaerolineaceae\n",
       "86                   Gemmatimonadaceae                       uncultured\n",
       "87                      Anaerolineales                  Anaerolineaceae\n",
       "88                     Xanthomonadales                 Xanthomonadaceae\n",
       "89                     Burkholderiales                   Comamonadaceae\n",
       "90                  Sphingobacteriales                 Chitinophagaceae\n",
       "91                              DB1-14             uncultured_bacterium\n",
       "92                      Anaerolineales                  Anaerolineaceae\n",
       "93                     Xanthomonadales                 Xanthomonadaceae\n",
       "94                    Nitrosomonadales                Nitrosomonadaceae\n",
       "95                       Rickettsiales                           SM2D12\n",
       "96                   Bdellovibrionales               Bdellovibrionaceae\n",
       "97                    Nitrosomonadales                Nitrosomonadaceae\n",
       "98                uncultured_bacterium                             <NA>\n",
       "99                         Rhizobiales                Xanthobacteraceae\n",
       "100                 Sphingobacteriales              Sphingobacteriaceae\n",
       "101                             DB1-14 uncultured_alpha_proteobacterium\n",
       "102                       Myxococcales                     Sorangiineae\n",
       "103                 Chthoniobacterales              Chthoniobacteraceae\n",
       "104               uncultured_bacterium                             <NA>\n",
       "105                    Pseudomonadales                 Pseudomonadaceae\n",
       "106                    Nocardioidaceae                     Nocardioides\n",
       "107                               <NA>                             <NA>\n",
       "108                        Rhizobiales                Hyphomicrobiaceae\n",
       "109                      Rhodocyclales                   Rhodocyclaceae\n",
       "110                   Acidimicrobiales                            TM214\n",
       "111                    Xanthomonadales                 Xanthomonadaceae\n",
       "112 uncultured_Acidobacteria_bacterium                             <NA>\n",
       "113                        Rhizobiales                     Rhizobiaceae\n",
       "114                 Sphingobacteriales                 Chitinophagaceae\n",
       "115                        Rhizobiales                Xanthobacteraceae\n",
       "116                    Xanthomonadales                 Xanthomonadaceae\n",
       "117                 Sphingobacteriales                 Chitinophagaceae\n",
       "118                 Verrucomicrobiales              Verrucomicrobiaceae\n",
       "119                         Opitutales                      Opitutaceae\n",
       "120                 Sphingobacteriales                       env.OPS_17\n",
       "121                               <NA>                             <NA>\n",
       "122                   Acidimicrobiales                        Iamiaceae\n",
       "123                       Myxococcales                     Sorangiineae\n",
       "124                   Planctomycetales                Planctomycetaceae\n",
       "125                               <NA>                             <NA>\n",
       "126                    Nocardioidaceae                     Nocardioides\n",
       "127                   Planctomycetales                Planctomycetaceae\n",
       "128               uncultured_bacterium                             <NA>\n",
       "129                  Gemmatimonadaceae                       uncultured\n",
       "130                     Anaerolineales                  Anaerolineaceae\n",
       "131                            SC-I-84             uncultured_bacterium\n",
       "132                    Methylophilales                 Methylophilaceae\n",
       "133               uncultured_bacterium                             <NA>\n",
       "134                   Sphingomonadales                Sphingomonadaceae\n",
       "135                        Rhizobiales                Bradyrhizobiaceae\n",
       "136                    Chloroflexaceae                      Roseiflexus\n",
       "137                        Rhizobiales                     Rhizobiaceae\n",
       "138                   Sphingomonadales                Sphingomonadaceae\n",
       "139                        Rhizobiales            Family_Incertae_Sedis\n",
       "140                            Sva0725                             <NA>\n",
       "141                            FamilyI                       uncultured\n",
       "142                    Burkholderiales                   Comamonadaceae\n",
       "143                   Sphingomonadales               Erythrobacteraceae\n",
       "144                   Planctomycetales                Planctomycetaceae\n",
       "145                         Gaiellales                       uncultured\n",
       "146                        Rhizobiales                Hyphomicrobiaceae\n",
       "147                  Bdellovibrionales               Bdellovibrionaceae\n",
       "148                  WD2101_soil_group             uncultured_bacterium\n",
       "149                       Myxococcales                   Nannocystineae\n",
       "150                    Burkholderiales                   Comamonadaceae\n",
       "151                        Rhizobiales                Xanthobacteraceae\n",
       "152                    Chloroflexaceae                      Roseiflexus\n",
       "153                     Anaerolineales                  Anaerolineaceae\n",
       "154                  Gemmatimonadaceae                       uncultured\n",
       "155                       Myxococcales                 Cystobacterineae\n",
       "156                       Myxococcales                   Nannocystineae\n",
       "157                    Chloroflexaceae                      Roseiflexus\n",
       "158                     Anaerolineales                  Anaerolineaceae\n",
       "159                    Burkholderiales                 Oxalobacteraceae\n",
       "160                      Nitrospirales                   Nitrospiraceae\n",
       "161                         Bacillales                      Bacillaceae\n",
       "162                      Nitrospirales                   Nitrospiraceae\n",
       "163               uncultured_bacterium                             <NA>\n",
       "164                      Deinococcales                   Deinococcaceae\n",
       "165                  Gemmatimonadaceae                     Gemmatimonas\n",
       "166                        Rhizobiales                Xanthobacteraceae\n",
       "167               uncultured_bacterium                             <NA>\n",
       "168                        Rhizobiales                Xanthobacteraceae\n",
       "169                 Sphingobacteriales                       env.OPS_17\n",
       "170                               <NA>                             <NA>\n",
       "171                   Nitrosomonadales                Nitrosomonadaceae\n",
       "172                        Rhizobiales                             <NA>\n",
       "173                   Acidimicrobiales                Acidimicrobiaceae\n",
       "174               uncultured_bacterium                             <NA>\n",
       "175                       Myxococcales                     Sorangiineae\n",
       "176                    Caulobacterales                  Hyphomonadaceae\n",
       "177                         Gaiellales                      Gaiellaceae\n",
       "178                   Planctomycetales                Planctomycetaceae\n",
       "179                   Acidimicrobiales                            TM214\n",
       "180                         Gaiellales                       uncultured\n",
       "181                    Caulobacterales                 Caulobacteraceae\n",
       "182                   Acidimicrobiales                       uncultured\n",
       "183                     Anaerolineales                  Anaerolineaceae\n",
       "184               uncultured_bacterium                             <NA>\n",
       "185                  Gemmatimonadaceae                     Gemmatimonas\n",
       "186                   Nitrosomonadales                Nitrosomonadaceae\n",
       "187                    Burkholderiales                   Comamonadaceae\n",
       "188                               <NA>                             <NA>\n",
       "189                        Rhizobiales               Phyllobacteriaceae\n",
       "190               uncultured_bacterium                             <NA>\n",
       "191                    Chloroflexaceae                      Roseiflexus\n",
       "192                       Myxococcales                     Sorangiineae\n",
       "193                    Burkholderiales                 Oxalobacteraceae\n",
       "194                   Nitrosomonadales                Nitrosomonadaceae\n",
       "195                               <NA>                             <NA>\n",
       "196                   Acidimicrobiales                        Iamiaceae\n",
       "197                       Myxococcales                     Sorangiineae\n",
       "198                   Planctomycetales                Planctomycetaceae\n",
       "                                    Rank6\n",
       "1                                    <NA>\n",
       "2                              Arenimonas\n",
       "3                        Stenotrophomonas\n",
       "4                             Thermomonas\n",
       "5                                Massilia\n",
       "6                              Fluviicola\n",
       "7                          Flavobacterium\n",
       "8                              Nitrospira\n",
       "9                Candidatus_Entotheonella\n",
       "10                           Nitrosospira\n",
       "11                               Massilia\n",
       "12                                Devosia\n",
       "13                                   <NA>\n",
       "14                             uncultured\n",
       "15                         Propionivibrio\n",
       "16                        Pseudospirillum\n",
       "17                            Pseudomonas\n",
       "18                   uncultured_bacterium\n",
       "19                             Dokdonella\n",
       "20                                   <NA>\n",
       "21                             Luteimonas\n",
       "22                            Pseudomonas\n",
       "23                             uncultured\n",
       "24                            Nitrobacter\n",
       "25                             uncultured\n",
       "26                                Devosia\n",
       "27                         Propionivibrio\n",
       "28                             Arenimonas\n",
       "29                                   <NA>\n",
       "30                               Massilia\n",
       "31                             uncultured\n",
       "32                   uncultured_bacterium\n",
       "33                             uncultured\n",
       "34                       Sphingobacterium\n",
       "35                                   <NA>\n",
       "36                                   <NA>\n",
       "37                               Massilia\n",
       "38                            Flexibacter\n",
       "39                         Flavobacterium\n",
       "40                        Sandaracinaceae\n",
       "41                                   <NA>\n",
       "42                   uncultured_bacterium\n",
       "43                                   <NA>\n",
       "44                   uncultured_bacterium\n",
       "45                               Azoarcus\n",
       "46                                   <NA>\n",
       "47                   uncultured_bacterium\n",
       "48                                   <NA>\n",
       "49                             uncultured\n",
       "50                                   <NA>\n",
       "51                       Stenotrophomonas\n",
       "52                              Pirellula\n",
       "53                             uncultured\n",
       "54                          Brevundimonas\n",
       "55                             Nitrospira\n",
       "56                           Sphingomonas\n",
       "57                                   <NA>\n",
       "58                   uncultured_bacterium\n",
       "59                               Shinella\n",
       "60                          Polyangiaceae\n",
       "61                   uncultured_bacterium\n",
       "62                        Sandaracinaceae\n",
       "63                   uncultured_bacterium\n",
       "64                            Thermomonas\n",
       "65                                   <NA>\n",
       "66                                   <NA>\n",
       "67                                   <NA>\n",
       "68                                   <NA>\n",
       "69                   uncultured_bacterium\n",
       "70                                   <NA>\n",
       "71                                 Dongia\n",
       "72                                   <NA>\n",
       "73                          Pedomicrobium\n",
       "74                                   <NA>\n",
       "75                         Flavobacterium\n",
       "76                        Sandaracinaceae\n",
       "77                   uncultured_bacterium\n",
       "78                                   <NA>\n",
       "79                              Vogesella\n",
       "80                               Opitutus\n",
       "81                   uncultured_bacterium\n",
       "82  uncultured_Gemmatimonadetes_bacterium\n",
       "83                             uncultured\n",
       "84                             uncultured\n",
       "85                             uncultured\n",
       "86                   uncultured_bacterium\n",
       "87                             uncultured\n",
       "88                             uncultured\n",
       "89                             Leptothrix\n",
       "90                             uncultured\n",
       "91                                   <NA>\n",
       "92                             uncultured\n",
       "93                            Thermomonas\n",
       "94                             uncultured\n",
       "95                   uncultured_bacterium\n",
       "96                           Bdellovibrio\n",
       "97                             uncultured\n",
       "98                                   <NA>\n",
       "99                             uncultured\n",
       "100                             Solitalea\n",
       "101                                  <NA>\n",
       "102                            uncultured\n",
       "103                        Chthoniobacter\n",
       "104                                  <NA>\n",
       "105                            Cellvibrio\n",
       "106                  uncultured_bacterium\n",
       "107                                  <NA>\n",
       "108                            uncultured\n",
       "109                            uncultured\n",
       "110                                  <NA>\n",
       "111                                  <NA>\n",
       "112                                  <NA>\n",
       "113                              Shinella\n",
       "114                       Flavisolibacter\n",
       "115                            uncultured\n",
       "116                            uncultured\n",
       "117                       Flavisolibacter\n",
       "118                            uncultured\n",
       "119                              Opitutus\n",
       "120    uncultured_Bacteroidetes_bacterium\n",
       "121                                  <NA>\n",
       "122                                 Iamia\n",
       "123                            uncultured\n",
       "124                               Gemmata\n",
       "125                                  <NA>\n",
       "126                  uncultured_bacterium\n",
       "127                          Planctomyces\n",
       "128                                  <NA>\n",
       "129                                  <NA>\n",
       "130                            uncultured\n",
       "131                                  <NA>\n",
       "132                                  <NA>\n",
       "133                                  <NA>\n",
       "134                          Sphingomonas\n",
       "135                                 Bosea\n",
       "136                  uncultured_bacterium\n",
       "137                             Rhizobium\n",
       "138                          Sphingomonas\n",
       "139                        Rhizomicrobium\n",
       "140                                  <NA>\n",
       "141                                  <NA>\n",
       "142                           Ramlibacter\n",
       "143                            uncultured\n",
       "144                             Pirellula\n",
       "145                  uncultured_bacterium\n",
       "146                               Devosia\n",
       "147                          Bdellovibrio\n",
       "148                                  <NA>\n",
       "149                         Haliangiaceae\n",
       "150                                  <NA>\n",
       "151                            uncultured\n",
       "152                  uncultured_bacterium\n",
       "153                            uncultured\n",
       "154                                  <NA>\n",
       "155                            uncultured\n",
       "156                         Haliangiaceae\n",
       "157                                  <NA>\n",
       "158                            uncultured\n",
       "159                              Massilia\n",
       "160                            Nitrospira\n",
       "161                              Bacillus\n",
       "162                            Nitrospira\n",
       "163                                  <NA>\n",
       "164                           Deinococcus\n",
       "165                  uncultured_bacterium\n",
       "166                            uncultured\n",
       "167                                  <NA>\n",
       "168                            uncultured\n",
       "169                  uncultured_bacterium\n",
       "170                                  <NA>\n",
       "171                            uncultured\n",
       "172                                  <NA>\n",
       "173                         Ilumatobacter\n",
       "174                                  <NA>\n",
       "175                            uncultured\n",
       "176                            Woodsholea\n",
       "177                               Gaiella\n",
       "178                               Gemmata\n",
       "179                  uncultured_bacterium\n",
       "180                  uncultured_bacterium\n",
       "181                         Brevundimonas\n",
       "182                  uncultured_bacterium\n",
       "183                            uncultured\n",
       "184                                  <NA>\n",
       "185                  uncultured_bacterium\n",
       "186                            uncultured\n",
       "187                           Polaromonas\n",
       "188                                  <NA>\n",
       "189                         Mesorhizobium\n",
       "190                                  <NA>\n",
       "191                  uncultured_bacterium\n",
       "192                            uncultured\n",
       "193                                  <NA>\n",
       "194                            uncultured\n",
       "195                                  <NA>\n",
       "196                                 Iamia\n",
       "197                            uncultured\n",
       "198                            uncultured\n",
       "                                      Rank7                Rank8\n",
       "1                                      <NA>                 <NA>\n",
       "2                      uncultured_bacterium                 <NA>\n",
       "3                                      <NA>                 <NA>\n",
       "4                                      <NA>                 <NA>\n",
       "5                                      <NA>                 <NA>\n",
       "6                      uncultured_bacterium                 <NA>\n",
       "7                                      <NA>                 <NA>\n",
       "8                      uncultured_bacterium                 <NA>\n",
       "9                      uncultured_bacterium                 <NA>\n",
       "10                                     <NA>                 <NA>\n",
       "11                  uncultured_Massilia_sp.                 <NA>\n",
       "12                                     <NA>                 <NA>\n",
       "13                                     <NA>                 <NA>\n",
       "14                     uncultured_bacterium                 <NA>\n",
       "15                                     <NA>                 <NA>\n",
       "16                     uncultured_bacterium                 <NA>\n",
       "17                                     <NA>                 <NA>\n",
       "18                                     <NA>                 <NA>\n",
       "19                                     <NA>                 <NA>\n",
       "20                                     <NA>                 <NA>\n",
       "21                                     <NA>                 <NA>\n",
       "22                     uncultured_bacterium                 <NA>\n",
       "23                                     <NA>                 <NA>\n",
       "24                                     <NA>                 <NA>\n",
       "25                                     <NA>                 <NA>\n",
       "26                                     <NA>                 <NA>\n",
       "27                                     <NA>                 <NA>\n",
       "28         uncultured_gamma_proteobacterium                 <NA>\n",
       "29                                     <NA>                 <NA>\n",
       "30                                     <NA>                 <NA>\n",
       "31                      uncultured_organism                 <NA>\n",
       "32                                     <NA>                 <NA>\n",
       "33                     uncultured_bacterium                 <NA>\n",
       "34                                     <NA>                 <NA>\n",
       "35                                     <NA>                 <NA>\n",
       "36                                     <NA>                 <NA>\n",
       "37                                     <NA>                 <NA>\n",
       "38                                     <NA>                 <NA>\n",
       "39                     uncultured_bacterium                 <NA>\n",
       "40                                     <NA>                 <NA>\n",
       "41                                     <NA>                 <NA>\n",
       "42                                     <NA>                 <NA>\n",
       "43                                     <NA>                 <NA>\n",
       "44                                     <NA>                 <NA>\n",
       "45                                     <NA>                 <NA>\n",
       "46                                     <NA>                 <NA>\n",
       "47                                     <NA>                 <NA>\n",
       "48                                     <NA>                 <NA>\n",
       "49                     uncultured_bacterium                 <NA>\n",
       "50                                     <NA>                 <NA>\n",
       "51     uncultured_Pseudomonadales_bacterium                 <NA>\n",
       "52                                     <NA>                 <NA>\n",
       "53                     uncultured_bacterium                 <NA>\n",
       "54                                     <NA>                 <NA>\n",
       "55                     uncultured_bacterium                 <NA>\n",
       "56                                     <NA>                 <NA>\n",
       "57                                     <NA>                 <NA>\n",
       "58                                     <NA>                 <NA>\n",
       "59                     uncultured_bacterium                 <NA>\n",
       "60                                Sorangium           Polyangium\n",
       "61                                     <NA>                 <NA>\n",
       "62                             Sandaracinus uncultured_bacterium\n",
       "63                                     <NA>                 <NA>\n",
       "64                                     <NA>                 <NA>\n",
       "65                                     <NA>                 <NA>\n",
       "66                                     <NA>                 <NA>\n",
       "67                                     <NA>                 <NA>\n",
       "68                                     <NA>                 <NA>\n",
       "69                                     <NA>                 <NA>\n",
       "70                                     <NA>                 <NA>\n",
       "71                     uncultured_bacterium                 <NA>\n",
       "72                                     <NA>                 <NA>\n",
       "73                     uncultured_bacterium                 <NA>\n",
       "74                                     <NA>                 <NA>\n",
       "75                                     <NA>                 <NA>\n",
       "76                     uncultured_bacterium                 <NA>\n",
       "77                                     <NA>                 <NA>\n",
       "78                                     <NA>                 <NA>\n",
       "79                     uncultured_bacterium                 <NA>\n",
       "80     uncultured_Verrucomicrobia_bacterium                 <NA>\n",
       "81                                     <NA>                 <NA>\n",
       "82                                     <NA>                 <NA>\n",
       "83                     uncultured_bacterium                 <NA>\n",
       "84                     uncultured_bacterium                 <NA>\n",
       "85                     uncultured_bacterium                 <NA>\n",
       "86                                     <NA>                 <NA>\n",
       "87         uncultured_Chloroflexi_bacterium                 <NA>\n",
       "88                     uncultured_bacterium                 <NA>\n",
       "89                                     <NA>                 <NA>\n",
       "90                                     <NA>                 <NA>\n",
       "91                                     <NA>                 <NA>\n",
       "92                     uncultured_bacterium                 <NA>\n",
       "93                                     <NA>                 <NA>\n",
       "94                     uncultured_bacterium                 <NA>\n",
       "95                                     <NA>                 <NA>\n",
       "96                                     <NA>                 <NA>\n",
       "97                     uncultured_bacterium                 <NA>\n",
       "98                                     <NA>                 <NA>\n",
       "99                                     <NA>                 <NA>\n",
       "100                    uncultured_bacterium                 <NA>\n",
       "101                                    <NA>                 <NA>\n",
       "102                    uncultured_bacterium                 <NA>\n",
       "103    uncultured_Verrucomicrobia_bacterium                 <NA>\n",
       "104                                    <NA>                 <NA>\n",
       "105                    uncultured_bacterium                 <NA>\n",
       "106                                    <NA>                 <NA>\n",
       "107                                    <NA>                 <NA>\n",
       "108 uncultured_Phyllobacteriaceae_bacterium                 <NA>\n",
       "109                    uncultured_bacterium                 <NA>\n",
       "110                                    <NA>                 <NA>\n",
       "111                                    <NA>                 <NA>\n",
       "112                                    <NA>                 <NA>\n",
       "113                                    <NA>                 <NA>\n",
       "114                    uncultured_bacterium                 <NA>\n",
       "115                    uncultured_bacterium                 <NA>\n",
       "116                    uncultured_bacterium                 <NA>\n",
       "117                    uncultured_bacterium                 <NA>\n",
       "118                    uncultured_bacterium                 <NA>\n",
       "119                    uncultured_bacterium                 <NA>\n",
       "120                                    <NA>                 <NA>\n",
       "121                                    <NA>                 <NA>\n",
       "122                                    <NA>                 <NA>\n",
       "123                                    <NA>                 <NA>\n",
       "124                    uncultured_bacterium                 <NA>\n",
       "125                                    <NA>                 <NA>\n",
       "126                                    <NA>                 <NA>\n",
       "127                    uncultured_bacterium                 <NA>\n",
       "128                                    <NA>                 <NA>\n",
       "129                                    <NA>                 <NA>\n",
       "130                                    <NA>                 <NA>\n",
       "131                                    <NA>                 <NA>\n",
       "132                                    <NA>                 <NA>\n",
       "133                                    <NA>                 <NA>\n",
       "134                                    <NA>                 <NA>\n",
       "135                                    <NA>                 <NA>\n",
       "136                                    <NA>                 <NA>\n",
       "137                    uncultured_bacterium                 <NA>\n",
       "138                                    <NA>                 <NA>\n",
       "139        uncultured_alpha_proteobacterium                 <NA>\n",
       "140                                    <NA>                 <NA>\n",
       "141                                    <NA>                 <NA>\n",
       "142                                    <NA>                 <NA>\n",
       "143                                    <NA>                 <NA>\n",
       "144                    uncultured_bacterium                 <NA>\n",
       "145                                    <NA>                 <NA>\n",
       "146                                    <NA>                 <NA>\n",
       "147        uncultured_delta_proteobacterium                 <NA>\n",
       "148                                    <NA>                 <NA>\n",
       "149                              Haliangium uncultured_bacterium\n",
       "150                                    <NA>                 <NA>\n",
       "151        uncultured_forest_soil_bacterium                 <NA>\n",
       "152                                    <NA>                 <NA>\n",
       "153                                    <NA>                 <NA>\n",
       "154                                    <NA>                 <NA>\n",
       "155   uncultured_Cystobacteraceae_bacterium                 <NA>\n",
       "156                              Haliangium uncultured_bacterium\n",
       "157                                    <NA>                 <NA>\n",
       "158                    uncultured_bacterium                 <NA>\n",
       "159                                    <NA>                 <NA>\n",
       "160                    uncultured_bacterium                 <NA>\n",
       "161                                    <NA>                 <NA>\n",
       "162                                    <NA>                 <NA>\n",
       "163                                    <NA>                 <NA>\n",
       "164                                    <NA>                 <NA>\n",
       "165                                    <NA>                 <NA>\n",
       "166        uncultured_alpha_proteobacterium                 <NA>\n",
       "167                                    <NA>                 <NA>\n",
       "168                    uncultured_bacterium                 <NA>\n",
       "169                                    <NA>                 <NA>\n",
       "170                                    <NA>                 <NA>\n",
       "171                    uncultured_bacterium                 <NA>\n",
       "172                                    <NA>                 <NA>\n",
       "173                    uncultured_bacterium                 <NA>\n",
       "174                                    <NA>                 <NA>\n",
       "175                    uncultured_bacterium                 <NA>\n",
       "176                    uncultured_bacterium                 <NA>\n",
       "177                                    <NA>                 <NA>\n",
       "178                                    <NA>                 <NA>\n",
       "179                                    <NA>                 <NA>\n",
       "180                                    <NA>                 <NA>\n",
       "181                                    <NA>                 <NA>\n",
       "182                                    <NA>                 <NA>\n",
       "183                    uncultured_bacterium                 <NA>\n",
       "184                                    <NA>                 <NA>\n",
       "185                                    <NA>                 <NA>\n",
       "186                                    <NA>                 <NA>\n",
       "187                                    <NA>                 <NA>\n",
       "188                                    <NA>                 <NA>\n",
       "189                                    <NA>                 <NA>\n",
       "190                                    <NA>                 <NA>\n",
       "191                                    <NA>                 <NA>\n",
       "192                    uncultured_bacterium                 <NA>\n",
       "193                                    <NA>                 <NA>\n",
       "194                                    <NA>                 <NA>\n",
       "195                                    <NA>                 <NA>\n",
       "196                                    <NA>                 <NA>\n",
       "197                    uncultured_bacterium                 <NA>\n",
       "198                    uncultured_bacterium                 <NA>\n"
      ]
     },
     "metadata": {},
     "output_type": "display_data"
    }
   ],
   "source": [
    "%%R\n",
    "# df = as.data.frame(res[, c(\"baseMean\", \"log2FoldChange\", \"pvalue\", \"padj\")])\n",
    "#     df$OTU = rownames(df)\n",
    "#     df = df[!is.na(df$padj),]\n",
    "\n",
    "#     TT = physeq.plant %>% tax_table %>% data.frame\n",
    "#     TT$OTU = rownames(TT)\n",
    "#     d = left_join(df, TT, by = 'OTU')\n",
    "    \n",
    "\n",
    "# df.sig = d[d$padj <0.05,]\n",
    "# df.sig %>% arrange(padj) "
   ]
  },
  {
   "cell_type": "markdown",
   "metadata": {},
   "source": [
    "# Cycle through dates comparing N fertilization effect"
   ]
  },
  {
   "cell_type": "code",
   "execution_count": 20,
   "metadata": {
    "collapsed": false
   },
   "outputs": [],
   "source": [
    "%%R\n",
    "df = as.data.frame(res[, c(\"baseMean\", \"log2FoldChange\", \"pvalue\", \"padj\")])\n",
    "    df$OTU = rownames(df)\n",
    "    df = df[!is.na(df$padj),]\n",
    "\n",
    "    TT = physeq.plant %>% tax_table %>% data.frame\n",
    "    TT$OTU = rownames(TT)\n",
    "    d = left_join(df, TT, by = 'OTU')\n",
    "    \n",
    "\n",
    "#df.sig = d[d$padj <0.05,]\n",
    "#df.sig %>% arrange(padj) "
   ]
  },
  {
   "cell_type": "code",
   "execution_count": null,
   "metadata": {
    "collapsed": true
   },
   "outputs": [],
   "source": []
  },
  {
   "cell_type": "markdown",
   "metadata": {},
   "source": [
    "## Function for generating l2f table"
   ]
  },
  {
   "cell_type": "code",
   "execution_count": 31,
   "metadata": {
    "collapsed": false
   },
   "outputs": [],
   "source": [
    "%%R\n",
    "asNumeric = function(x) { as.numeric(as.character(x)) }\n",
    "\n",
    "## interested in both organisms that increase or decrease in abundance\n",
    "\n",
    "get_Ps = function(physeq.obj) {\n",
    "    diagdds = phyloseq_to_deseq2(physeq.obj, ~Rep + Treatment)\n",
    "    diagdds = DESeq(diagdds, quiet = TRUE, parallel = TRUE)\n",
    "    theta = 0\n",
    "    r = results(diagdds)\n",
    "    beta = r$log2FoldChange\n",
    "    betaSE = r$lfcSE\n",
    "    p = pnorm(beta, theta, betaSE, lower.tail = TRUE)\n",
    "    r$p = p\n",
    "    return(r[, c(\"baseMean\", \"log2FoldChange\", \"p\")])\n",
    "}\n",
    "#Function to trim physeq object to just samples to include in Deseq analysis\n",
    "# deseq_prune = function(physeq.obj, plant, day) {\n",
    "#     physeq.md = sample_data(physeq.obj)\n",
    "#     p = prune_samples((physeq.md$Plant %in% c(\"BARE\", plant))&\n",
    "#                      (physeq.md$DAP == day), physeq.obj)\n",
    "#     p.thresh = filter_taxa(p, function(x) sum(x > 0) > 0, TRUE)\n",
    "#     return(p.thresh)\n",
    "# }"
   ]
  },
  {
   "cell_type": "markdown",
   "metadata": {},
   "source": [
    "# l2fc in response to N treatment in bare soils on given sample date, corrected for multiple comparisons"
   ]
  },
  {
   "cell_type": "code",
   "execution_count": 34,
   "metadata": {
    "collapsed": false
   },
   "outputs": [
    {
     "name": "stderr",
     "output_type": "stream",
     "text": [
      "/opt/anaconda/lib/python2.7/site-packages/rpy2/robjects/functions.py:106: UserWarning: NOTE: fitType='parametric', but the dispersion trend was not well captured by the\n",
      "  function: y = a/x + b, and a local regression fit was automatically substituted.\n",
      "  specify fitType='local' or 'mean' to avoid this message next time.\n",
      "\n",
      "  res = super(Function, self).__call__(*new_args, **new_kwargs)\n"
     ]
    },
    {
     "data": {
      "text/plain": [
       "[1] \"36\"\n",
       "[1] \"53\"\n",
       "[1] \"57\"\n",
       "[1] \"61\"\n",
       "[1] \"72\"\n",
       "[1] \"79\"\n",
       "[1] \"84\"\n",
       "[1] \"88\"\n"
      ]
     },
     "metadata": {},
     "output_type": "display_data"
    }
   ],
   "source": [
    "%%R\n",
    "#code for cycling through bare soils on days\n",
    "sd = sample_data(physeq.bare)\n",
    "\n",
    "days = levels(sd$DAP)\n",
    "\n",
    "res.list = vector(\"list\", length(days))\n",
    "names(res.list) = as.character(days)\n",
    "res.list\n",
    "\n",
    "df_all = data.frame()\n",
    "df_day = data.frame()\n",
    "\n",
    "for (day in days) {\n",
    "#      Sd.d = Sd[Sd$DAP == day,]\n",
    "#     Sd.d = Sd.d[Sd.d$Plant != \"BARE\"]\n",
    "#     Plants = levels(Sd.d$Plant) \n",
    "#     #Plants %>% print\n",
    "    \n",
    "#     res.list.list = NULL        \n",
    "#     res.list.list = vector(\"list\", length(Plants))\n",
    "#     names(res.list) = Plants\n",
    "    \n",
    "    \n",
    "#     for (plant in Plants) {\n",
    "        DF = NULL\n",
    "        \n",
    "        #Trim physeq object by to day  \n",
    "        p = subset_samples(physeq.bare, DAP == day)\n",
    "        phy.day = filter_taxa(p, function(x) sum(x > 0) > 0, TRUE)\n",
    "        sample_data(phy.day)$DAP %>% levels %>% print\n",
    "          \n",
    "        \n",
    "\n",
    "#convert to deseq using function above\n",
    "        DF = get_Ps(phy.day)\n",
    "        \n",
    "        supp = tax_table(phy.day)\n",
    "            if (!setequal(row.names(DF), row.names(supp))) {\n",
    "            stop(\"Ordination and supplementary data indices differ on the following:\\n.\",\n",
    "            setdiff(row.names(DF), row.names(supp)))\n",
    "        }  \n",
    "   \n",
    "        DF = data.frame(DF, supp)\n",
    "        DF$OTU = rownames(DF)\n",
    "        DF$Day = day\n",
    "        #DF$Plant = plant\n",
    "        df_day = rbind(df_day, DF)     \n",
    "    }\n",
    "\n",
    " "
   ]
  },
  {
   "cell_type": "code",
   "execution_count": 37,
   "metadata": {
    "collapsed": false,
    "scrolled": true
   },
   "outputs": [
    {
     "data": {
      "text/plain": [
       "           baseMean log2FoldChange          p    Rank1          Rank2\n",
       "OTU.5899  1.2148555    -0.50707905 0.04976412 Bacteria  Acidobacteria\n",
       "OTU.8680  5.7985776    -0.16091256 0.35133291 Bacteria  Acidobacteria\n",
       "OTU.2666  0.6989667    -0.01876803 0.47158235 Bacteria  Acidobacteria\n",
       "OTU.323  29.6765477    -0.29828632 0.18771371 Bacteria  Acidobacteria\n",
       "OTU.7636  3.1448462    -0.08935378 0.41269993 Bacteria  Acidobacteria\n",
       "OTU.1030  7.7065679    -0.37482104 0.18622865 Bacteria Proteobacteria\n",
       "                       Rank3                Rank4                Rank5\n",
       "OTU.5899               32-21 uncultured_bacterium                 <NA>\n",
       "OTU.8680          Holophagae              Sva0725                 <NA>\n",
       "OTU.2666          Holophagae              Sva0725 uncultured_bacterium\n",
       "OTU.323           Holophagae              Sva0725                 <NA>\n",
       "OTU.7636          Holophagae              Sva0725                 <NA>\n",
       "OTU.1030 Deltaproteobacteria    Desulfobacterales       Nitrospinaceae\n",
       "              Rank6 Rank7 Rank8      OTU Day     p.adj\n",
       "OTU.5899       <NA>  <NA>  <NA> OTU.5899  36 0.8764392\n",
       "OTU.8680       <NA>  <NA>  <NA> OTU.8680  36 0.8764392\n",
       "OTU.2666       <NA>  <NA>  <NA> OTU.2666  36 0.8764392\n",
       "OTU.323        <NA>  <NA>  <NA>  OTU.323  36 0.8764392\n",
       "OTU.7636       <NA>  <NA>  <NA> OTU.7636  36 0.8764392\n",
       "OTU.1030 uncultured  <NA>  <NA> OTU.1030  36 0.8764392\n"
      ]
     },
     "metadata": {},
     "output_type": "display_data"
    }
   ],
   "source": [
    "%%R\n",
    "df_day$p.adj = p.adjust(df_day$p, \"BH\")\n",
    "head(df_day)"
   ]
  },
  {
   "cell_type": "code",
   "execution_count": 41,
   "metadata": {
    "collapsed": false
   },
   "outputs": [
    {
     "data": {
      "image/png": "[encoded data removed]"
     },
     "metadata": {},
     "output_type": "display_data"
    }
   ],
   "source": [
    "%%R -w 800 -h 600\n",
    "sigtab = df_day[df_day$p.adj < .05,]\n",
    "x = tapply(sigtab$log2FoldChange, sigtab$Rank2, function(x) max(x))\n",
    "x = sort(x, TRUE)\n",
    "sigtab$Rank2 = factor(as.character(sigtab$Rank2), levels=names(x))\n",
    "x = tapply(sigtab$log2FoldChange, sigtab$Rank5, function(x) max(x))\n",
    "x = sort(x, TRUE)\n",
    "sigtab$Rank5 = factor(as.character(sigtab$Rank5), levels=names(x))\n",
    "    \n",
    "ggplot(sigtab, aes(x=Rank5, y=log2FoldChange, color=Rank2)) + geom_point(size=5) + \n",
    "  theme(axis.text.x = element_text(angle = -90, hjust = 0, vjust=0.5))\n",
    "#x = tapply(sigtab$log2FoldChange, sigtab$Rank2, function(x) max(x))\n",
    "#x = sort(x, TRUE)\n",
    "#x"
   ]
  },
  {
   "cell_type": "code",
   "execution_count": 42,
   "metadata": {
    "collapsed": false
   },
   "outputs": [
    {
     "data": {
      "text/plain": [
       "          baseMean log2FoldChange            p    Rank1          Rank2\n",
       "OTU.20810  30.8218      -2.363619 1.066893e-08 Bacteria Proteobacteria\n",
       "                       Rank3            Rank4 Rank5 Rank6 Rank7 Rank8     OTU\n",
       "OTU.20810 Betaproteobacteria Nitrosomonadales  <NA>  <NA>  <NA>  <NA> OTU.208\n",
       "          Day       p.adj\n",
       "OTU.20810  53 0.000392638\n"
      ]
     },
     "metadata": {},
     "output_type": "display_data"
    }
   ],
   "source": [
    "%%R\n",
    "head(sigtab)"
   ]
  },
  {
   "cell_type": "markdown",
   "metadata": {},
   "source": [
    "### Notes: One beta-proteobacterial nitrosomonadales OTU is significantly decreased in abundance in bare soil plots after correction for multiple comparisons"
   ]
  },
  {
   "cell_type": "code",
   "execution_count": 44,
   "metadata": {
    "collapsed": true
   },
   "outputs": [
    {
     "data": {
      "text/plain": [
       "[1] \"36\"\n",
       "[1] \"53\"\n",
       "[1] \"57\"\n",
       "[1] \"61\"\n",
       "[1] \"72\"\n",
       "[1] \"79\"\n"
      ]
     },
     "metadata": {},
     "output_type": "display_data"
    }
   ],
   "source": [
    "%%R\n",
    "##Function for generating l2f estimates\n",
    "## interested in both organisms that increase or decrease in abundance\n",
    "\n",
    "get_Ps = function(physeq.obj) {\n",
    "    diagdds = phyloseq_to_deseq2(physeq.obj, ~Rep + InorganicN)\n",
    "    diagdds = DESeq(diagdds, quiet = TRUE, parallel = TRUE)\n",
    "    theta = 0\n",
    "    r = results(diagdds)\n",
    "    beta = r$log2FoldChange\n",
    "    betaSE = r$lfcSE\n",
    "    p = pnorm(beta, theta, betaSE, lower.tail = TRUE)\n",
    "    r$p = p\n",
    "    return(r[, c(\"baseMean\", \"log2FoldChange\", \"p\")])\n",
    "    }\n",
    "    \n",
    "#code for cycling through bare soils on days\n",
    "phy = subset_samples(physeq.bare, !is.na(InorganicN))\n",
    "sd = sample_data(phy)\n",
    "\n",
    "days = levels(sd$DAP)\n",
    "\n",
    "res.list = vector(\"list\", length(days))\n",
    "names(res.list) = as.character(days)\n",
    "res.list\n",
    "\n",
    "df_all = data.frame()\n",
    "df_day = data.frame()\n",
    "\n",
    "for (day in days) {\n",
    "#      Sd.d = Sd[Sd$DAP == day,]\n",
    "#     Sd.d = Sd.d[Sd.d$Plant != \"BARE\"]\n",
    "#     Plants = levels(Sd.d$Plant) \n",
    "#     #Plants %>% print\n",
    "    \n",
    "#     res.list.list = NULL        \n",
    "#     res.list.list = vector(\"list\", length(Plants))\n",
    "#     names(res.list) = Plants\n",
    "    \n",
    "    \n",
    "#     for (plant in Plants) {\n",
    "        DF = NULL\n",
    "        \n",
    "        #Trim physeq object by to day  \n",
    "        p = subset_samples(phy, DAP == day)\n",
    "        phy.day = filter_taxa(p, function(x) sum(x > 0) > 0, TRUE)\n",
    "        sample_data(phy.day)$DAP %>% levels %>% print\n",
    "          \n",
    "        \n",
    "\n",
    "#convert to deseq using function above\n",
    "        DF = get_Ps(phy.day)\n",
    "        \n",
    "        supp = tax_table(phy.day)\n",
    "            if (!setequal(row.names(DF), row.names(supp))) {\n",
    "            stop(\"Ordination and supplementary data indices differ on the following:\\n.\",\n",
    "            setdiff(row.names(DF), row.names(supp)))\n",
    "        }  \n",
    "   \n",
    "        DF = data.frame(DF, supp)\n",
    "        DF$OTU = rownames(DF)\n",
    "        DF$Day = day\n",
    "        #DF$Plant = plant\n",
    "        df_day = rbind(df_day, DF)     \n",
    "    }\n",
    "\n",
    " "
   ]
  },
  {
   "cell_type": "code",
   "execution_count": 45,
   "metadata": {
    "collapsed": true
   },
   "outputs": [
    {
     "data": {
      "text/plain": [
       "           baseMean log2FoldChange          p    Rank1          Rank2\n",
       "OTU.5899  1.2148555   -0.050225242 0.12098357 Bacteria  Acidobacteria\n",
       "OTU.8680  5.7985776   -0.047046959 0.22172053 Bacteria  Acidobacteria\n",
       "OTU.2666  0.6989667   -0.020189784 0.29570992 Bacteria  Acidobacteria\n",
       "OTU.323  29.6765477   -0.075720527 0.08368238 Bacteria  Acidobacteria\n",
       "OTU.7636  3.1448462   -0.009754204 0.43392757 Bacteria  Acidobacteria\n",
       "OTU.1030  7.7065679   -0.091541127 0.07263691 Bacteria Proteobacteria\n",
       "                       Rank3                Rank4                Rank5\n",
       "OTU.5899               32-21 uncultured_bacterium                 <NA>\n",
       "OTU.8680          Holophagae              Sva0725                 <NA>\n",
       "OTU.2666          Holophagae              Sva0725 uncultured_bacterium\n",
       "OTU.323           Holophagae              Sva0725                 <NA>\n",
       "OTU.7636          Holophagae              Sva0725                 <NA>\n",
       "OTU.1030 Deltaproteobacteria    Desulfobacterales       Nitrospinaceae\n",
       "              Rank6 Rank7 Rank8      OTU Day     p.adj\n",
       "OTU.5899       <NA>  <NA>  <NA> OTU.5899  36 0.8669699\n",
       "OTU.8680       <NA>  <NA>  <NA> OTU.8680  36 0.8669699\n",
       "OTU.2666       <NA>  <NA>  <NA> OTU.2666  36 0.8669699\n",
       "OTU.323        <NA>  <NA>  <NA>  OTU.323  36 0.8669699\n",
       "OTU.7636       <NA>  <NA>  <NA> OTU.7636  36 0.8669699\n",
       "OTU.1030 uncultured  <NA>  <NA> OTU.1030  36 0.8669699\n"
      ]
     },
     "metadata": {},
     "output_type": "display_data"
    }
   ],
   "source": [
    "%%R\n",
    "df_day$p.adj = p.adjust(df_day$p, \"BH\")\n",
    "head(df_day)"
   ]
  },
  {
   "cell_type": "code",
   "execution_count": 46,
   "metadata": {
    "collapsed": true
   },
   "outputs": [
    {
     "data": {
      "image/png": "[encoded data removed]"
     },
     "metadata": {},
     "output_type": "display_data"
    }
   ],
   "source": [
    "%%R -w 800 -h 600\n",
    "sigtab = df_day[df_day$p.adj < .05,]\n",
    "x = tapply(sigtab$log2FoldChange, sigtab$Rank2, function(x) max(x))\n",
    "x = sort(x, TRUE)\n",
    "sigtab$Rank2 = factor(as.character(sigtab$Rank2), levels=names(x))\n",
    "x = tapply(sigtab$log2FoldChange, sigtab$Rank5, function(x) max(x))\n",
    "x = sort(x, TRUE)\n",
    "sigtab$Rank5 = factor(as.character(sigtab$Rank5), levels=names(x))\n",
    "    \n",
    "ggplot(sigtab, aes(x=Rank5, y=log2FoldChange, color=Rank2)) + geom_point(size=5) + \n",
    "  theme(axis.text.x = element_text(angle = -90, hjust = 0, vjust=0.5))\n",
    "#x = tapply(sigtab$log2FoldChange, sigtab$Rank2, function(x) max(x))\n",
    "#x = sort(x, TRUE)\n",
    "#x"
   ]
  },
  {
   "cell_type": "code",
   "execution_count": 48,
   "metadata": {
    "collapsed": false,
    "scrolled": true
   },
   "outputs": [
    {
     "data": {
      "text/plain": [
       "          baseMean log2FoldChange            p    Rank1          Rank2\n",
       "OTU.20810 30.82180    -0.09595597 5.499605e-10 Bacteria Proteobacteria\n",
       "OTU.2717  49.89451    -0.09277762 1.233003e-09 Bacteria Proteobacteria\n",
       "OTU.13315 88.41453    -0.16782972 4.632246e-09 Bacteria  Cyanobacteria\n",
       "                       Rank3            Rank4         Rank5     Rank6\n",
       "OTU.20810 Betaproteobacteria Nitrosomonadales          <NA>      <NA>\n",
       "OTU.2717  Betaproteobacteria     Neisseriales Neisseriaceae Vogesella\n",
       "OTU.13315      SubsectionIII          FamilyI   Microcoleus      <NA>\n",
       "                         Rank7 Rank8     OTU Day        p.adj\n",
       "OTU.20810                 <NA>  <NA> OTU.208  53 1.568157e-05\n",
       "OTU.2717  uncultured_bacterium  <NA> OTU.271  53 1.757893e-05\n",
       "OTU.13315                 <NA>  <NA> OTU.133  61 4.402796e-05\n"
      ]
     },
     "metadata": {},
     "output_type": "display_data"
    }
   ],
   "source": [
    "%%R\n",
    "head(sigtab)"
   ]
  },
  {
   "cell_type": "markdown",
   "metadata": {},
   "source": [
    "# Resume here, test each plant to find OTUs responding to fertilization treatment"
   ]
  },
  {
   "cell_type": "code",
   "execution_count": 73,
   "metadata": {
    "collapsed": true
   },
   "outputs": [
    {
     "data": {
      "text/plain": [
       " [1] \"75-062\" \"ABUTH\"  \"AMAPO\"  \"B73\"    \"B97\"    \"ECHCG\"  \"ELCOR\"  \"ERATE\" \n",
       " [9] \"FAGES\"  \"GLYMA\"  \"H99\"    \"HELAN\"  \"Hp301\"  \"Il14H\"  \"Ki3\"    \"Mo18\"  \n",
       "[17] \"MS71\"   \"Oh7B\"   \"SETFA\"  \"SORBI\"  \"SORSUD\" \"Tx303\" \n"
      ]
     },
     "metadata": {},
     "output_type": "display_data"
    }
   ],
   "source": [
    "%%R\n",
    "asNumeric = function(x) { as.numeric(as.character(x)) }\n",
    "\n",
    "## interested in both organisms that increase or decrease in abundance\n",
    "\n",
    "    get_Ps = function(physeq.obj) {\n",
    "        diagdds = phyloseq_to_deseq2(physeq.obj, ~Rep + Treatment)\n",
    "        diagdds = DESeq(diagdds, quiet = TRUE, parallel = TRUE)\n",
    "        r = results(diagdds)\n",
    "        return(r[, c(\"baseMean\", \"log2FoldChange\", \"pvalue\", \"padj\")])\n",
    "    }\n",
    "#Function to trim physeq object to just samples to include in Deseq analysis\n",
    "    deseq_prune = function(physeq.obj, plant, day) {\n",
    "        physeq.md = sample_data(physeq.obj)\n",
    "        p = prune_samples(physeq.md$Plant == plant, physeq.obj)\n",
    "        \n",
    "#         p = prune_samples((physeq.md$Plant %in% c(\"BARE\", plant))&\n",
    "#                          (physeq.md$DAP == day), physeq.obj)\n",
    "        p.thresh = filter_taxa(p, function(x) sum(x > 0) > 0, TRUE)\n",
    "        return(p.thresh)\n",
    "    }\n",
    "\n",
    "                           \n",
    "#code for cycling through plants\n",
    "sd = sample_data(physeq.plant)\n",
    "\n",
    "# days = levels(Sd$DAP)\n",
    "\n",
    "# res.list = vector(\"list\", length(days))\n",
    "# names(res.list) = as.character(days)\n",
    "# res.list\n",
    "\n",
    "df_plant = data.frame()\n",
    "\n",
    "# for (day in days) {\n",
    "#      Sd.d = Sd[Sd$DAP == day,]\n",
    "#     Sd.d = Sd.d[Sd.d$Plant != \"BARE\"]\n",
    "    Plants = levels(sd$Plant) \n",
    "    Plants %>% print\n",
    "    \n",
    "#     res.list.list = NULL        \n",
    "#     res.list.list = vector(\"list\", length(Plants))\n",
    "#     names(res.list) = Plants\n",
    "    \n",
    "    \n",
    "    for (plant in Plants) {\n",
    "        DF = NULL\n",
    "        \n",
    "        #Trim physeq object by to day-plant combo \n",
    "        phy = deseq_prune(physeq.plant, plant, day)\n",
    "        \n",
    "        #re-order levels \n",
    "        #sample_data(phy)$Plant = relevel(sample_data(phy)$Plant, \"BARE\")\n",
    "        \n",
    "        #convert to deseq using function above\n",
    "        DF = get_Ps(phy)\n",
    "        \n",
    "        supp = tax_table(phy)\n",
    "            if (!setequal(row.names(DF), row.names(supp))) {\n",
    "            stop(\"Ordination and supplementary data indices differ on the following:\\n.\",\n",
    "            setdiff(row.names(DF), row.names(supp)))\n",
    "        }  \n",
    "   \n",
    "        DF = data.frame(DF, supp)\n",
    "        DF$OTU = rownames(DF)\n",
    "        #DF$Day = day\n",
    "        DF$Plant = plant\n",
    "        df_plant = rbind(df_plant, DF)     \n",
    "    }\n",
    "\n",
    " "
   ]
  },
  {
   "cell_type": "code",
   "execution_count": 95,
   "metadata": {
    "collapsed": false
   },
   "outputs": [
    {
     "data": {
      "image/png": "[encoded data removed]"
     },
     "metadata": {},
     "output_type": "display_data"
    }
   ],
   "source": [
    "%%R -w 800 -h 600\n",
    "sigtab = df_plant %>% filter(padj < 0.05)\n",
    "x = tapply(sigtab$log2FoldChange, sigtab$Rank2, function(x) max(x))\n",
    "x = sort(x, TRUE)\n",
    "sigtab$Rank2 = factor(as.character(sigtab$Rank2), levels=names(x))\n",
    "x = tapply(sigtab$log2FoldChange, sigtab$Rank5, function(x) max(x))\n",
    "x = sort(x, TRUE)\n",
    "sigtab$Rank5 = factor(as.character(sigtab$Rank5), levels=names(x))\n",
    "    \n",
    "ggplot(sigtab, aes(x=Rank5, y=log2FoldChange, color=Rank2, size = baseMean)) + \n",
    "    geom_point() +\n",
    "    theme_bw(base_size = 16) +\n",
    "  theme(axis.text.x = element_text(angle = -90, hjust = 0, vjust=0.5))\n",
    "#x = tapply(sigtab$log2FoldChange, sigtab$Rank2, function(x) max(x))\n",
    "#x = sort(x, TRUE)\n",
    "#x"
   ]
  },
  {
   "cell_type": "code",
   "execution_count": 97,
   "metadata": {
    "collapsed": false
   },
   "outputs": [
    {
     "data": {
      "text/plain": [
       "     baseMean log2FoldChange       pvalue         padj    Rank1          Rank2\n",
       "1   273.86203      -1.936450 6.947040e-05 1.493614e-02 Bacteria  Bacteroidetes\n",
       "2    92.82491      -3.843780 8.113883e-07 1.521792e-04 Bacteria    Chloroflexi\n",
       "3    27.96227      -2.815107 2.764902e-05 3.322491e-03 Bacteria    Chloroflexi\n",
       "4    85.96123      -2.683032 5.462822e-04 4.376328e-02 Bacteria Proteobacteria\n",
       "5    72.24135      -2.201470 1.844586e-05 2.257312e-03 Bacteria  Bacteroidetes\n",
       "6   169.39600      -1.826113 8.705894e-04 4.735039e-02 Bacteria Proteobacteria\n",
       "7    98.29445      -1.813879 2.230665e-04 1.679863e-02 Bacteria Proteobacteria\n",
       "8   166.56767      -1.785566 2.788964e-04 1.950282e-02 Bacteria Proteobacteria\n",
       "9  1692.76555      -2.795317 1.883618e-12 1.844062e-09 Bacteria Proteobacteria\n",
       "10   48.94033      -2.712245 8.934403e-06 1.457797e-03 Bacteria Proteobacteria\n",
       "11   12.34354      -2.590642 5.905987e-04 3.854641e-02 Bacteria Proteobacteria\n",
       "                 Rank3             Rank4              Rank5\n",
       "1        Flavobacteria  Flavobacteriales  Flavobacteriaceae\n",
       "2       Chloroflexales   Chloroflexaceae        Roseiflexus\n",
       "3       Chloroflexales   Chloroflexaceae        Roseiflexus\n",
       "4  Deltaproteobacteria      Myxococcales          0319-6G20\n",
       "5           Cytophagia      Cytophagales      Cytophagaceae\n",
       "6   Betaproteobacteria   Burkholderiales     Comamonadaceae\n",
       "7   Betaproteobacteria   Burkholderiales     Comamonadaceae\n",
       "8   Betaproteobacteria   Burkholderiales     Comamonadaceae\n",
       "9   Betaproteobacteria   Burkholderiales     Comamonadaceae\n",
       "10  Betaproteobacteria   Burkholderiales     Comamonadaceae\n",
       "11 Deltaproteobacteria Bdellovibrionales Bdellovibrionaceae\n",
       "                  Rank6                Rank7 Rank8       OTU Plant\n",
       "1        Flavobacterium uncultured_bacterium  <NA>   OTU.120 AMAPO\n",
       "2  uncultured_bacterium                 <NA>  <NA>  OTU.3784   B73\n",
       "3  uncultured_bacterium                 <NA>  <NA>   OTU.750   B73\n",
       "4  uncultured_bacterium                 <NA>  <NA>   OTU.472   B73\n",
       "5           Flexibacter uncultured_bacterium  <NA>    OTU.57 Il14H\n",
       "6           Polaromonas                 <NA>  <NA>  OTU.1098 Il14H\n",
       "7            uncultured uncultured_bacterium  <NA>  OTU.4049 Il14H\n",
       "8                  <NA>                 <NA>  <NA> OTU.11302 Il14H\n",
       "9            uncultured                 <NA>  <NA>     OTU.7 Il14H\n",
       "10                 <NA>                 <NA>  <NA>  OTU.5214 Il14H\n",
       "11         Bdellovibrio uncultured_bacterium  <NA>  OTU.1094 Il14H\n"
      ]
     },
     "metadata": {},
     "output_type": "display_data"
    }
   ],
   "source": [
    "%%R\n",
    "filter(sigtab, log2FoldChange < 0)"
   ]
  },
  {
   "cell_type": "code",
   "execution_count": 92,
   "metadata": {
    "collapsed": true
   },
   "outputs": [
    {
     "data": {
      "text/plain": [
       "[1] 43\n"
      ]
     },
     "metadata": {},
     "output_type": "display_data"
    }
   ],
   "source": [
    "%%R\n",
    "sigtab$OTU %>% unique %>% length"
   ]
  },
  {
   "cell_type": "markdown",
   "metadata": {},
   "source": [
    "Notes\n",
    "* when cycling through each plant without independent filtering and correcting for all comparisons only two OTUs are significantly influenced by N treatment\n",
    "* when cycling through the plants with independent filtering and without correcting for multiple comparisons because multiple plants are tested, 43 OTUs shift"
   ]
  },
  {
   "cell_type": "markdown",
   "metadata": {},
   "source": [
    "# Inorganic N responders by genotype"
   ]
  },
  {
   "cell_type": "code",
   "execution_count": 98,
   "metadata": {
    "collapsed": false
   },
   "outputs": [
    {
     "data": {
      "text/plain": [
       " [1] \"75-062\" \"ABUTH\"  \"AMAPO\"  \"B97\"    \"ECHCG\"  \"ERATE\"  \"FAGES\"  \"GLYMA\" \n",
       " [9] \"MS71\"   \"Oh7B\"   \"SETFA\" \n"
      ]
     },
     "metadata": {},
     "output_type": "display_data"
    }
   ],
   "source": [
    "%%R\n",
    "asNumeric = function(x) { as.numeric(as.character(x)) }\n",
    "\n",
    "## interested in both organisms that increase or decrease in abundance\n",
    "\n",
    "    get_Ps = function(physeq.obj) {\n",
    "        diagdds = phyloseq_to_deseq2(physeq.obj, ~Rep + InorganicN)\n",
    "        diagdds = DESeq(diagdds, quiet = TRUE, parallel = TRUE)\n",
    "        r = results(diagdds)\n",
    "        return(r[, c(\"baseMean\", \"log2FoldChange\", \"pvalue\", \"padj\")])\n",
    "    }\n",
    "#Function to trim physeq object to just samples to include in Deseq analysis\n",
    "    deseq_prune = function(physeq.obj, plant, day) {\n",
    "        physeq.md = sample_data(physeq.obj)\n",
    "        p = prune_samples(physeq.md$Plant == plant, physeq.obj)\n",
    "        \n",
    "#         p = prune_samples((physeq.md$Plant %in% c(\"BARE\", plant))&\n",
    "#                          (physeq.md$DAP == day), physeq.obj)\n",
    "        p.thresh = filter_taxa(p, function(x) sum(x > 0) > 0, TRUE)\n",
    "        return(p.thresh)\n",
    "    }\n",
    "\n",
    "                           \n",
    "#code for cycling through plants\n",
    "\n",
    "physeq = subset_samples(physeq.plant, !is.na(InorganicN))\n",
    "\n",
    "sd = sample_data(physeq)\n",
    "\n",
    "# days = levels(Sd$DAP)\n",
    "\n",
    "# res.list = vector(\"list\", length(days))\n",
    "# names(res.list) = as.character(days)\n",
    "# res.list\n",
    "\n",
    "df_plant = data.frame()\n",
    "\n",
    "# for (day in days) {\n",
    "#      Sd.d = Sd[Sd$DAP == day,]\n",
    "#     Sd.d = Sd.d[Sd.d$Plant != \"BARE\"]\n",
    "    Plants = levels(sd$Plant) \n",
    "    Plants %>% print\n",
    "    \n",
    "#     res.list.list = NULL        \n",
    "#     res.list.list = vector(\"list\", length(Plants))\n",
    "#     names(res.list) = Plants\n",
    "    \n",
    "    \n",
    "    for (plant in Plants) {\n",
    "        DF = NULL\n",
    "        \n",
    "        #Trim physeq object by to day-plant combo \n",
    "        phy = deseq_prune(physeq, plant, day)\n",
    "        \n",
    "        #re-order levels \n",
    "        #sample_data(phy)$Plant = relevel(sample_data(phy)$Plant, \"BARE\")\n",
    "        \n",
    "        #convert to deseq using function above\n",
    "        DF = get_Ps(phy)\n",
    "        \n",
    "        supp = tax_table(phy)\n",
    "            if (!setequal(row.names(DF), row.names(supp))) {\n",
    "            stop(\"Ordination and supplementary data indices differ on the following:\\n.\",\n",
    "            setdiff(row.names(DF), row.names(supp)))\n",
    "        }  \n",
    "   \n",
    "        DF = data.frame(DF, supp)\n",
    "        DF$OTU = rownames(DF)\n",
    "        #DF$Day = day\n",
    "        DF$Plant = plant\n",
    "        df_plant = rbind(df_plant, DF)     \n",
    "    }\n",
    "\n",
    " "
   ]
  },
  {
   "cell_type": "code",
   "execution_count": 99,
   "metadata": {
    "collapsed": false
   },
   "outputs": [
    {
     "data": {
      "image/png": "[encoded data removed]"
     },
     "metadata": {},
     "output_type": "display_data"
    }
   ],
   "source": [
    "%%R -w 800 -h 600\n",
    "sigtab = df_plant %>% filter(padj < 0.05)\n",
    "x = tapply(sigtab$log2FoldChange, sigtab$Rank2, function(x) max(x))\n",
    "x = sort(x, TRUE)\n",
    "sigtab$Rank2 = factor(as.character(sigtab$Rank2), levels=names(x))\n",
    "x = tapply(sigtab$log2FoldChange, sigtab$Rank5, function(x) max(x))\n",
    "x = sort(x, TRUE)\n",
    "sigtab$Rank5 = factor(as.character(sigtab$Rank5), levels=names(x))\n",
    "    \n",
    "ggplot(sigtab, aes(x=Rank5, y=log2FoldChange, color=Rank2, size = baseMean)) + \n",
    "    geom_point() +\n",
    "    theme_bw(base_size = 16) +\n",
    "  theme(axis.text.x = element_text(angle = -90, hjust = 0, vjust=0.5))\n",
    "#x = tapply(sigtab$log2FoldChange, sigtab$Rank2, function(x) max(x))\n",
    "#x = sort(x, TRUE)\n",
    "#x"
   ]
  },
  {
   "cell_type": "code",
   "execution_count": 100,
   "metadata": {
    "collapsed": false
   },
   "outputs": [
    {
     "data": {
      "text/plain": [
       "  baseMean log2FoldChange       pvalue         padj    Rank1           Rank2\n",
       "1 152.6041     -1.2570949 1.970287e-05 0.0095657425 Bacteria  Actinobacteria\n",
       "2 104.9347     -0.1446169 1.689703e-06 0.0006708121 Bacteria  Proteobacteria\n",
       "3 255.3294     -0.1007197 5.138946e-04 0.0366446414 Bacteria Verrucomicrobia\n",
       "               Rank3              Rank4               Rank5         Rank6\n",
       "1   Streptomycetales  Streptomycetaceae        Streptomyces          <NA>\n",
       "2 Betaproteobacteria    Burkholderiales      Comamonadaceae    uncultured\n",
       "3   Verrucomicrobiae Verrucomicrobiales Verrucomicrobiaceae Luteolibacter\n",
       "                 Rank7 Rank8      OTU Plant\n",
       "1                 <NA>  <NA> OTU.9177   B97\n",
       "2                 <NA>  <NA>    OTU.7 ECHCG\n",
       "3 uncultured_bacterium  <NA>   OTU.15 FAGES\n"
      ]
     },
     "metadata": {},
     "output_type": "display_data"
    }
   ],
   "source": [
    "%%R\n",
    "filter(sigtab, log2FoldChange < 0)"
   ]
  },
  {
   "cell_type": "code",
   "execution_count": 92,
   "metadata": {
    "collapsed": false
   },
   "outputs": [
    {
     "data": {
      "text/plain": [
       "[1] 43\n"
      ]
     },
     "metadata": {},
     "output_type": "display_data"
    }
   ],
   "source": [
    "%%R\n",
    "sigtab$OTU %>% unique %>% length"
   ]
  },
  {
   "cell_type": "markdown",
   "metadata": {},
   "source": [
    "Notes\n",
    "* when cycling through each plant without independent filtering and correcting for all comparisons only two OTUs are significantly influenced by N treatment\n",
    "* when cycling through the plants with independent filtering and without correcting for multiple comparisons because multiple plants are tested, 43 OTUs shift"
   ]
  },
  {
   "cell_type": "markdown",
   "metadata": {},
   "source": [
    "# Rhizosphere inorganic N responders"
   ]
  },
  {
   "cell_type": "markdown",
   "metadata": {},
   "source": [
    "## Rhizosphere inorganic N responders within maize"
   ]
  },
  {
   "cell_type": "code",
   "execution_count": 107,
   "metadata": {
    "collapsed": false
   },
   "outputs": [],
   "source": [
    "%%R\n",
    "\n",
    "## interested in both organisms that increase or decrease in abundance\n",
    "phy.maize = subset_samples(physeq.Full, Type == \"Maize\" & !is.na(InorganicN))\n",
    "\n",
    "diagdds = phyloseq_to_deseq2(phy.maize, ~Plant + InorganicN)\n",
    "diagdds = DESeq(diagdds, quiet = TRUE, parallel = TRUE)\n",
    "DF = results(diagdds)\n",
    "       \n",
    "\n",
    "supp = tax_table(phy.maize)\n",
    "            if (!setequal(row.names(DF), row.names(supp))) {\n",
    "            stop(\"Ordination and supplementary data indices differ on the following:\\n.\",\n",
    "            setdiff(row.names(DF), row.names(supp)))\n",
    "        }  \n",
    "\n",
    "        DF = data.frame(DF, supp)\n",
    "        DF$OTU = rownames(DF)"
   ]
  },
  {
   "cell_type": "code",
   "execution_count": 112,
   "metadata": {
    "collapsed": false
   },
   "outputs": [
    {
     "data": {
      "image/png": "[encoded data removed]"
     },
     "metadata": {},
     "output_type": "display_data"
    }
   ],
   "source": [
    "%%R -w 800 -h 600\n",
    "sigtab = DF %>% filter(padj < 0.1)\n",
    "x = tapply(sigtab$log2FoldChange, sigtab$Rank2, function(x) max(x))\n",
    "x = sort(x, TRUE)\n",
    "sigtab$Rank2 = factor(as.character(sigtab$Rank2), levels=names(x))\n",
    "x = tapply(sigtab$log2FoldChange, sigtab$Rank5, function(x) max(x))\n",
    "x = sort(x, TRUE)\n",
    "sigtab$Rank5 = factor(as.character(sigtab$Rank5), levels=names(x))\n",
    "    \n",
    "ggplot(sigtab, aes(x=Rank5, y=log2FoldChange, color=Rank2, size = baseMean)) + \n",
    "    geom_point() +\n",
    "    theme_bw(base_size = 16) +\n",
    "  theme(axis.text.x = element_text(angle = -90, hjust = 0, vjust=0.5))\n",
    "#x = tapply(sigtab$log2FoldChange, sigtab$Rank2, function(x) max(x))\n",
    "#x = sort(x, TRUE)\n",
    "#x"
   ]
  },
  {
   "cell_type": "code",
   "execution_count": 114,
   "metadata": {
    "collapsed": false,
    "scrolled": true
   },
   "outputs": [
    {
     "data": {
      "text/plain": [
       "  baseMean log2FoldChange      lfcSE      stat       pvalue       padj    Rank1\n",
       "1 4.473323     -0.1709687 0.04125625 -4.144067 3.412001e-05 0.05947119 Bacteria\n",
       "2 3.983150      0.1518227 0.03907758  3.885161 1.022623e-04 0.08912159 Bacteria\n",
       "           Rank2               Rank3                      Rank4  Rank5 Rank6\n",
       "1 Actinobacteria           MB-A2-108 uncultured_actinobacterium   <NA>  <NA>\n",
       "2 Proteobacteria Alphaproteobacteria              Rickettsiales SM2D12  <NA>\n",
       "  Rank7 Rank8      OTU\n",
       "1  <NA>  <NA>  OTU.733\n",
       "2  <NA>  <NA> OTU.1737\n"
      ]
     },
     "metadata": {},
     "output_type": "display_data"
    }
   ],
   "source": [
    "%%R\n",
    "sigtab"
   ]
  },
  {
   "cell_type": "markdown",
   "metadata": {},
   "source": [
    "## Within annuals"
   ]
  },
  {
   "cell_type": "code",
   "execution_count": 123,
   "metadata": {
    "collapsed": false
   },
   "outputs": [],
   "source": [
    "%%R\n",
    "\n",
    "## interested in both organisms that increase or decrease in abundance\n",
    "phy = subset_samples(physeq.Full, Type != \"Maize\" & Type != \"BARE\" & !is.na(InorganicN))\n",
    "\n",
    "diagdds = phyloseq_to_deseq2(phy, ~Plant + InorganicN)\n",
    "diagdds = DESeq(diagdds, quiet = TRUE, parallel = TRUE)\n",
    "res = results(diagdds)\n",
    "DF = res\n",
    "\n",
    "supp = tax_table(phy)\n",
    "            if (!setequal(row.names(DF), row.names(supp))) {\n",
    "            stop(\"Ordination and supplementary data indices differ on the following:\\n.\",\n",
    "            setdiff(row.names(DF), row.names(supp)))\n",
    "        }  \n",
    "\n",
    "        DF = data.frame(DF, supp)\n",
    "        DF$OTU = rownames(DF)"
   ]
  },
  {
   "cell_type": "code",
   "execution_count": 126,
   "metadata": {
    "collapsed": false
   },
   "outputs": [
    {
     "data": {
      "text/plain": [
       "\n",
       "out of 4964 with nonzero total read count\n",
       "adjusted p-value < 0.1\n",
       "LFC > 0 (up)     : 32, 0.64% \n",
       "LFC < 0 (down)   : 37, 0.75% \n",
       "outliers [1]     : 0, 0% \n",
       "low counts [2]   : 3970, 80% \n",
       "(mean count < 3.3)\n",
       "[1] see 'cooksCutoff' argument of ?results\n",
       "[2] see 'independentFiltering' argument of ?results\n",
       "\n"
      ]
     },
     "metadata": {},
     "output_type": "display_data"
    }
   ],
   "source": [
    "%%R\n",
    "summary(res)"
   ]
  },
  {
   "cell_type": "code",
   "execution_count": 116,
   "metadata": {
    "collapsed": false
   },
   "outputs": [
    {
     "data": {
      "image/png": "[encoded data removed]"
     },
     "metadata": {},
     "output_type": "display_data"
    }
   ],
   "source": [
    "%%R -w 800 -h 600\n",
    "sigtab = DF %>% filter(padj < 0.05)\n",
    "x = tapply(sigtab$log2FoldChange, sigtab$Rank2, function(x) max(x))\n",
    "x = sort(x, TRUE)\n",
    "sigtab$Rank2 = factor(as.character(sigtab$Rank2), levels=names(x))\n",
    "x = tapply(sigtab$log2FoldChange, sigtab$Rank5, function(x) max(x))\n",
    "x = sort(x, TRUE)\n",
    "sigtab$Rank5 = factor(as.character(sigtab$Rank5), levels=names(x))\n",
    "    \n",
    "ggplot(sigtab, aes(x=Rank5, y=log2FoldChange, color=Rank2, size = baseMean)) + \n",
    "    geom_point() +\n",
    "    theme_bw(base_size = 16) +\n",
    "  theme(axis.text.x = element_text(angle = -90, hjust = 0, vjust=0.5))\n",
    "#x = tapply(sigtab$log2FoldChange, sigtab$Rank2, function(x) max(x))\n",
    "#x = sort(x, TRUE)\n",
    "#x"
   ]
  },
  {
   "cell_type": "code",
   "execution_count": 117,
   "metadata": {
    "collapsed": false,
    "scrolled": true
   },
   "outputs": [
    {
     "data": {
      "text/plain": [
       "     baseMean log2FoldChange       lfcSE      stat       pvalue         padj\n",
       "1    3.938368    -0.06372359 0.018887421 -3.373864 7.412104e-04 0.0350839590\n",
       "2    8.906531    -0.05730635 0.016697050 -3.432124 5.988733e-04 0.0297904146\n",
       "3    5.637710    -0.06537176 0.018836348 -3.470512 5.194680e-04 0.0286861793\n",
       "4    6.918323     0.04652756 0.014262198  3.262299 1.105124e-03 0.0439397394\n",
       "5    5.996461    -0.05946675 0.018063053 -3.292176 9.941537e-04 0.0427126878\n",
       "6   16.802710     0.07289361 0.019135589  3.809321 1.393487e-04 0.0125920543\n",
       "7    5.760424    -0.07040450 0.019996478 -3.520845 4.301740e-04 0.0266997052\n",
       "8    9.115674    -0.06784742 0.019357413 -3.504984 4.566348e-04 0.0266997052\n",
       "9   37.401835     0.09313377 0.019602846  4.751033 2.023801e-06 0.0006705526\n",
       "10  23.417062     0.06496527 0.014957511  4.343321 1.403446e-05 0.0027900511\n",
       "11   3.392303     0.05454172 0.015341469  3.555182 3.777172e-04 0.0266997052\n",
       "12  14.761061    -0.04528320 0.013194852 -3.431884 5.994047e-04 0.0297904146\n",
       "13  26.561765    -0.03346006 0.010368169 -3.227191 1.250122e-03 0.0477931070\n",
       "14   5.159042    -0.06106994 0.015941738 -3.830821 1.277164e-04 0.0125920543\n",
       "15   3.461349    -0.07974800 0.020456580 -3.898404 9.682894e-05 0.0106942190\n",
       "16  15.933251     0.04286657 0.010427030  4.111101 3.937764e-05 0.0065235627\n",
       "17  23.300040     0.04675793 0.009744227  4.798527 1.598368e-06 0.0006705526\n",
       "18  17.103513     0.06278310 0.012682309  4.950447 7.404325e-07 0.0006705526\n",
       "19  60.698848     0.05813366 0.016478509  3.527847 4.189540e-04 0.0266997052\n",
       "20   7.675054     0.06550759 0.019960580  3.281848 1.031292e-03 0.0427126878\n",
       "21  60.737876     0.07648253 0.016784655  4.556694 5.196514e-06 0.0012913336\n",
       "22 165.464729    -0.07257156 0.020162350 -3.599360 3.190010e-04 0.0243913045\n",
       "23  20.435801     0.03389745 0.008463870  4.004959 6.202836e-05 0.0086093800\n",
       "24  21.042356     0.03357370 0.009309432  3.606417 3.104537e-04 0.0243913045\n",
       "25  26.742304     0.04182341 0.012669435  3.301127 9.629743e-04 0.0427126878\n",
       "26  14.384689     0.05043169 0.012675393  3.978708 6.929078e-05 0.0086093800\n",
       "      Rank1            Rank2               Rank3                Rank4\n",
       "1  Bacteria    Acidobacteria                RB25 uncultured_bacterium\n",
       "2  Bacteria  Verrucomicrobia      Spartobacteria   Chthoniobacterales\n",
       "3  Bacteria   Planctomycetes               OM190 uncultured_bacterium\n",
       "4  Bacteria   Planctomycetes    Planctomycetacia     Planctomycetales\n",
       "5  Bacteria   Planctomycetes    Planctomycetacia     Planctomycetales\n",
       "6  Bacteria    Bacteroidetes       Flavobacteria     Flavobacteriales\n",
       "7  Bacteria Gemmatimonadetes    Gemmatimonadales    Gemmatimonadaceae\n",
       "8  Bacteria Gemmatimonadetes    Gemmatimonadales    Gemmatimonadaceae\n",
       "9  Bacteria       Firmicutes             Bacilli           Bacillales\n",
       "10 Bacteria   Actinobacteria   Micromonosporales   Micromonosporaceae\n",
       "11 Bacteria   Actinobacteria       Micrococcales    Microbacteriaceae\n",
       "12 Bacteria   Actinobacteria     Thermoleophilia           Gaiellales\n",
       "13 Bacteria   Actinobacteria     Thermoleophilia           Gaiellales\n",
       "14 Bacteria   Actinobacteria     Thermoleophilia           Gaiellales\n",
       "15 Bacteria   Proteobacteria Deltaproteobacteria         Myxococcales\n",
       "16 Bacteria   Proteobacteria Gammaproteobacteria      Xanthomonadales\n",
       "17 Bacteria   Proteobacteria Gammaproteobacteria      Xanthomonadales\n",
       "18 Bacteria   Proteobacteria Gammaproteobacteria      Xanthomonadales\n",
       "19 Bacteria   Proteobacteria Gammaproteobacteria      Xanthomonadales\n",
       "20 Bacteria   Proteobacteria Gammaproteobacteria      Pseudomonadales\n",
       "21 Bacteria   Proteobacteria  Betaproteobacteria      Burkholderiales\n",
       "22 Bacteria   Proteobacteria  Betaproteobacteria      Burkholderiales\n",
       "23 Bacteria   Proteobacteria Alphaproteobacteria     Sphingomonadales\n",
       "24 Bacteria   Proteobacteria Alphaproteobacteria     Sphingomonadales\n",
       "25 Bacteria   Proteobacteria Alphaproteobacteria          Rhizobiales\n",
       "26 Bacteria   Proteobacteria Alphaproteobacteria          Rhizobiales\n",
       "                       Rank5                Rank6                Rank7\n",
       "1                       <NA>                 <NA>                 <NA>\n",
       "2           DA101_soil_group uncultured_bacterium                 <NA>\n",
       "3                       <NA>                 <NA>                 <NA>\n",
       "4          Planctomycetaceae         Planctomyces uncultured_bacterium\n",
       "5          Planctomycetaceae            Pirellula                 <NA>\n",
       "6             Cryomorphaceae           Fluviicola uncultured_bacterium\n",
       "7                 uncultured                 <NA>                 <NA>\n",
       "8                 uncultured                 <NA>                 <NA>\n",
       "9  Family_XII_Incertae_Sedis      Exiguobacterium                 <NA>\n",
       "10                    Asanoa uncultured_bacterium                 <NA>\n",
       "11             Amnibacterium                 <NA>                 <NA>\n",
       "12                uncultured uncultured_bacterium                 <NA>\n",
       "13               Gaiellaceae              Gaiella                 <NA>\n",
       "14                uncultured uncultured_bacterium                 <NA>\n",
       "15              Sorangiineae        Polyangiaceae            Sorangium\n",
       "16          Xanthomonadaceae           Lysobacter                 <NA>\n",
       "17          Xanthomonadaceae          Thermomonas                 <NA>\n",
       "18          Xanthomonadaceae          Thermomonas                 <NA>\n",
       "19          Xanthomonadaceae           Arenimonas uncultured_bacterium\n",
       "20          Pseudomonadaceae          Pseudomonas                 <NA>\n",
       "21          Oxalobacteraceae             Massilia                 <NA>\n",
       "22            Comamonadaceae           uncultured                 <NA>\n",
       "23         Sphingomonadaceae         Sphingomonas                 <NA>\n",
       "24         Sphingomonadaceae         Sphingomonas uncultured_bacterium\n",
       "25         Hyphomicrobiaceae              Devosia                 <NA>\n",
       "26         Hyphomicrobiaceae           uncultured                 <NA>\n",
       "        Rank8       OTU\n",
       "1        <NA>   OTU.247\n",
       "2        <NA>   OTU.751\n",
       "3        <NA>   OTU.113\n",
       "4        <NA>   OTU.342\n",
       "5        <NA>   OTU.566\n",
       "6        <NA>   OTU.442\n",
       "7        <NA>  OTU.7142\n",
       "8        <NA>    OTU.38\n",
       "9        <NA>   OTU.670\n",
       "10       <NA>  OTU.8817\n",
       "11       <NA>  OTU.6917\n",
       "12       <NA>   OTU.129\n",
       "13       <NA>    OTU.52\n",
       "14       <NA>  OTU.1499\n",
       "15 Polyangium   OTU.640\n",
       "16       <NA>  OTU.3776\n",
       "17       <NA>  OTU.5548\n",
       "18       <NA>  OTU.5437\n",
       "19       <NA>    OTU.92\n",
       "20       <NA>  OTU.1242\n",
       "21       <NA> OTU.10249\n",
       "22       <NA>     OTU.7\n",
       "23       <NA>  OTU.1053\n",
       "24       <NA>   OTU.223\n",
       "25       <NA> OTU.10253\n",
       "26       <NA>  OTU.4513\n"
      ]
     },
     "metadata": {},
     "output_type": "display_data"
    }
   ],
   "source": [
    "%%R\n",
    "sigtab"
   ]
  },
  {
   "cell_type": "code",
   "execution_count": 133,
   "metadata": {
    "collapsed": false
   },
   "outputs": [
    {
     "name": "stdout",
     "output_type": "stream",
     "text": [
      "Formal class 'DESeqResults' [package \"DESeq2\"] with 6 slots\n",
      "  ..@ rownames       : chr [1:4982] \"OTU.5899\" \"OTU.8680\" \"OTU.2666\" \"OTU.323\" ...\n",
      "  ..@ nrows          : int 4982\n",
      "  ..@ listData       :List of 6\n",
      "  .. ..$ baseMean      : num [1:4982] 0.216 2.38 0.722 7.292 1.097 ...\n",
      "  .. ..$ log2FoldChange: num [1:4982] 0.00395 -0.04258 0.01156 -0.04942 0.00194 ...\n",
      "  .. ..$ lfcSE         : num [1:4982] 0.0172 0.0197 0.0202 0.0169 0.02 ...\n",
      "  .. ..$ stat          : num [1:4982] 0.2293 -2.1631 0.5735 -2.923 0.0973 ...\n",
      "  .. ..$ pvalue        : num [1:4982] 0.8186 0.03054 0.5663 0.00347 0.92252 ...\n",
      "  .. ..$ padj          : num [1:4982] NA NA NA 0.0749 NA ...\n",
      "  ..@ elementType    : chr \"ANY\"\n",
      "  ..@ elementMetadata:Formal class 'DataFrame' [package \"S4Vectors\"] with 6 slots\n",
      "  .. .. ..@ rownames       : NULL\n",
      "  .. .. ..@ nrows          : int 6\n",
      "  .. .. ..@ listData       :List of 2\n",
      "  .. .. .. ..$ type       : chr [1:6] \"intermediate\" \"results\" \"results\" \"results\" ...\n",
      "  .. .. .. ..$ description: chr [1:6] \"mean of normalized counts for all samples\" \"log2 fold change (MAP): InorganicN\" \"standard error: InorganicN\" \"Wald statistic: InorganicN\" ...\n",
      "  .. .. ..@ elementType    : chr \"ANY\"\n",
      "  .. .. ..@ elementMetadata: NULL\n",
      "  .. .. ..@ metadata       : list()\n",
      "  ..@ metadata       : list()\n",
      "Error in array(x, c(length(x), 1L), if (!is.null(names(x))) list(names(x),  : \n",
      "  'data' must be of a vector type, was 'NULL'\n"
     ]
    },
    {
     "name": "stderr",
     "output_type": "stream",
     "text": [
      "/opt/anaconda/lib/python2.7/site-packages/rpy2/robjects/functions.py:106: UserWarning: Error in array(x, c(length(x), 1L), if (!is.null(names(x))) list(names(x),  : \n",
      "  'data' must be of a vector type, was 'NULL'\n",
      "\n",
      "  res = super(Function, self).__call__(*new_args, **new_kwargs)\n"
     ]
    }
   ],
   "source": [
    "%%R\n",
    "str(res)\n",
    "plotMA(res$listData)"
   ]
  },
  {
   "cell_type": "code",
   "execution_count": 131,
   "metadata": {
    "collapsed": false
   },
   "outputs": [
    {
     "name": "stdout",
     "output_type": "stream",
     "text": [
      "\n",
      "Error in cleanContrast(object, contrast, expanded = isExpanded, listValues = listValues,  : \n",
      "  InorganicN and InorganicN should be different level names\n"
     ]
    },
    {
     "name": "stderr",
     "output_type": "stream",
     "text": [
      "/opt/anaconda/lib/python2.7/site-packages/rpy2/robjects/functions.py:106: UserWarning: Error in cleanContrast(object, contrast, expanded = isExpanded, listValues = listValues,  : \n",
      "  InorganicN and InorganicN should be different level names\n",
      "\n",
      "  res = super(Function, self).__call__(*new_args, **new_kwargs)\n"
     ]
    }
   ],
   "source": [
    "%%R\n",
    "rtemp = results(diagdds, contrast = c(\"PlantABUTH\", \"InorganicN\", \"InorganicN\"))\n",
    "plotMA(rtemp)"
   ]
  },
  {
   "cell_type": "markdown",
   "metadata": {},
   "source": [
    "Notes\n",
    "* No significant responders at padj < 0.05 within maize\n",
    "* 26 responders within annuals"
   ]
  },
  {
   "cell_type": "markdown",
   "metadata": {},
   "source": [
    "## Bare plots ~DAP*Rep + Treatment"
   ]
  },
  {
   "cell_type": "code",
   "execution_count": 16,
   "metadata": {
    "collapsed": false,
    "scrolled": true
   },
   "outputs": [
    {
     "data": {
      "text/plain": [
       " [1] \"Intercept\"     \"DAP36\"         \"DAP53\"         \"DAP57\"        \n",
       " [5] \"DAP61\"         \"DAP72\"         \"DAP79\"         \"DAP84\"        \n",
       " [9] \"DAP88\"         \"Rep1\"          \"Rep2\"          \"Rep3\"         \n",
       "[13] \"Rep4\"          \"TreatmentNneg\" \"TreatmentNpos\" \"DAP36.Rep1\"   \n",
       "[17] \"DAP53.Rep1\"    \"DAP57.Rep1\"    \"DAP61.Rep1\"    \"DAP72.Rep1\"   \n",
       "[21] \"DAP79.Rep1\"    \"DAP84.Rep1\"    \"DAP88.Rep1\"    \"DAP36.Rep2\"   \n",
       "[25] \"DAP53.Rep2\"    \"DAP57.Rep2\"    \"DAP61.Rep2\"    \"DAP72.Rep2\"   \n",
       "[29] \"DAP79.Rep2\"    \"DAP84.Rep2\"    \"DAP88.Rep2\"    \"DAP36.Rep3\"   \n",
       "[33] \"DAP53.Rep3\"    \"DAP57.Rep3\"    \"DAP61.Rep3\"    \"DAP72.Rep3\"   \n",
       "[37] \"DAP79.Rep3\"    \"DAP84.Rep3\"    \"DAP88.Rep3\"    \"DAP36.Rep4\"   \n",
       "[41] \"DAP53.Rep4\"    \"DAP57.Rep4\"    \"DAP61.Rep4\"    \"DAP72.Rep4\"   \n",
       "[45] \"DAP79.Rep4\"    \"DAP84.Rep4\"    \"DAP88.Rep4\"   \n"
      ]
     },
     "metadata": {},
     "output_type": "display_data"
    }
   ],
   "source": [
    "%%R\n",
    "bare_dds = phyloseq_to_deseq2(physeq.bare, ~DAP*Rep + Treatment)\n",
    "bare_d_dds = DESeq(bare_dds, parallel = TRUE)\n",
    "resultsNames(bare_d_dds)\n"
   ]
  },
  {
   "cell_type": "code",
   "execution_count": 17,
   "metadata": {
    "collapsed": false,
    "scrolled": true
   },
   "outputs": [
    {
     "data": {
      "text/plain": [
       "\n",
       "out of 4928 with nonzero total read count\n",
       "adjusted p-value < 0.1\n",
       "LFC > 0 (up)     : 0, 0% \n",
       "LFC < 0 (down)   : 0, 0% \n",
       "outliers [1]     : 0, 0% \n",
       "low counts [2]   : 0, 0% \n",
       "(mean count < 0)\n",
       "[1] see 'cooksCutoff' argument of ?results\n",
       "[2] see 'independentFiltering' argument of ?results\n",
       "\n"
      ]
     },
     "metadata": {},
     "output_type": "display_data"
    }
   ],
   "source": [
    "%%R\n",
    "res = results(bare_d_dds, alpha = 0.1, parallel = TRUE)\n",
    "summary(res)"
   ]
  },
  {
   "cell_type": "markdown",
   "metadata": {},
   "source": [
    "* Not a single OTU is significantly enriched overall in bare soils with N treatment"
   ]
  },
  {
   "cell_type": "markdown",
   "metadata": {},
   "source": [
    "## Bare ~ DAP:Rep + DAP:Treatment"
   ]
  },
  {
   "cell_type": "code",
   "execution_count": null,
   "metadata": {
    "collapsed": true
   },
   "outputs": [],
   "source": []
  },
  {
   "cell_type": "code",
   "execution_count": 18,
   "metadata": {
    "collapsed": false,
    "scrolled": true
   },
   "outputs": [
    {
     "data": {
      "text/plain": [
       " [1] \"Intercept\"           \"Rep1\"                \"Rep2\"               \n",
       " [4] \"Rep3\"                \"Rep4\"                \"DAP36\"              \n",
       " [7] \"DAP53\"               \"DAP57\"               \"DAP61\"              \n",
       "[10] \"DAP72\"               \"DAP79\"               \"DAP84\"              \n",
       "[13] \"DAP88\"               \"DAP36.TreatmentNneg\" \"DAP53.TreatmentNneg\"\n",
       "[16] \"DAP57.TreatmentNneg\" \"DAP61.TreatmentNneg\" \"DAP72.TreatmentNneg\"\n",
       "[19] \"DAP79.TreatmentNneg\" \"DAP84.TreatmentNneg\" \"DAP88.TreatmentNneg\"\n",
       "[22] \"DAP36.TreatmentNpos\" \"DAP53.TreatmentNpos\" \"DAP57.TreatmentNpos\"\n",
       "[25] \"DAP61.TreatmentNpos\" \"DAP72.TreatmentNpos\" \"DAP79.TreatmentNpos\"\n",
       "[28] \"DAP84.TreatmentNpos\" \"DAP88.TreatmentNpos\"\n"
      ]
     },
     "metadata": {},
     "output_type": "display_data"
    }
   ],
   "source": [
    "%%R\n",
    "bare_dds = phyloseq_to_deseq2(physeq.bare, ~Rep + DAP + DAP:Treatment)\n",
    "bare_d_dds = DESeq(bare_dds, parallel = TRUE)\n",
    "resultsNames(bare_d_dds)\n"
   ]
  },
  {
   "cell_type": "code",
   "execution_count": 19,
   "metadata": {
    "collapsed": false
   },
   "outputs": [
    {
     "name": "stdout",
     "output_type": "stream",
     "text": [
      "\n",
      "Error in do.call(rbind, bplapply(levels(idx), function(l) { : \n",
      "  error in evaluating the argument 'args' in selecting a method for function 'do.call': Error: 20 errors; first error:\n",
      "  Error in cleanContrast(object[idx == l, , drop = FALSE], contrast, expanded = isExpanded, : TreatmentNpos and TreatmentNneg are expected to be in resultsNames(object)\n",
      "\n",
      "For more information, use bplasterror(). To resume calculation, re-call\n",
      "  the function and set the argument 'BPRESUME' to TRUE or wrap the\n",
      "  previous call in bpresume().\n",
      "\n",
      "First traceback:\n",
      "  32: (structure(function (expr, envir = parent.frame(), enclos = if (is.list(envir) || \n",
      "          is.pairlist(envir)) parent.frame() else baseenv()) \n",
      "      {\n",
      "          force(envir)\n",
      "          force(enclos)\n",
      "          standardGeneric(\"eval\")\n",
      "      }, generic = structure(\"eval\", package = \"BiocGenerics\"), package = \"BiocGenerics\", group = list(), valueClass = character(0), signature = c(\"expr\", \n",
      "      \"envir\"), default = structure(function (expr, envir = parent.frame(), \n",
      "          enclos = if (is.list(envir) || i\n"
     ]
    },
    {
     "name": "stderr",
     "output_type": "stream",
     "text": [
      "/opt/anaconda/lib/python2.7/site-packages/rpy2/robjects/functions.py:106: UserWarning: Warning messages:\n",
      "\n",
      "  res = super(Function, self).__call__(*new_args, **new_kwargs)\n",
      "/opt/anaconda/lib/python2.7/site-packages/rpy2/robjects/functions.py:106: UserWarning: 1: replacing previous import by ‘ggplot2::Position’ when loading ‘DESeq2’ \n",
      "\n",
      "  res = super(Function, self).__call__(*new_args, **new_kwargs)\n",
      "/opt/anaconda/lib/python2.7/site-packages/rpy2/robjects/functions.py:106: UserWarning: 2: replacing previous import by ‘scales::alpha’ when loading ‘phyloseq’ \n",
      "\n",
      "  res = super(Function, self).__call__(*new_args, **new_kwargs)\n",
      "/opt/anaconda/lib/python2.7/site-packages/rpy2/robjects/functions.py:106: UserWarning: Error in do.call(rbind, bplapply(levels(idx), function(l) { : \n",
      "  error in evaluating the argument 'args' in selecting a method for function 'do.call': Error: 20 errors; first error:\n",
      "  Error in cleanContrast(object[idx == l, , drop = FALSE], contrast, expanded = isExpanded, : TreatmentNpos and TreatmentNneg are expected to be in resultsNames(object)\n",
      "\n",
      "For more information, use bplasterror(). To resume calculation, re-call\n",
      "  the function and set the argument 'BPRESUME' to TRUE or wrap the\n",
      "  previous call in bpresume().\n",
      "\n",
      "First traceback:\n",
      "  32: (structure(function (expr, envir = parent.frame(), enclos = if (is.list(envir) || \n",
      "          is.pairlist(envir)) parent.frame() else baseenv()) \n",
      "      {\n",
      "          force(envir)\n",
      "          force(enclos)\n",
      "          standardGeneric(\"eval\")\n",
      "      }, generic = structure(\"eval\", package = \"BiocGenerics\"), package = \"BiocGenerics\", group = list(), valueClass = character(0), signature = c(\"expr\", \n",
      "      \"envir\"), default = structure(function (expr, envir = parent.frame(), \n",
      "          enclos = if (is.list(envir) || i\n",
      "\n",
      "  res = super(Function, self).__call__(*new_args, **new_kwargs)\n"
     ]
    }
   ],
   "source": [
    "%%R\n",
    "res = results(bare_d_dds, alpha = 0.05, parallel = TRUE, contrast = c(\"Treatment\", \"Npos\", \"Nneg\"))\n",
    "summary(res)"
   ]
  },
  {
   "cell_type": "code",
   "execution_count": 20,
   "metadata": {
    "collapsed": false
   },
   "outputs": [],
   "source": [
    "%%R\n",
    "df = as.data.frame(res[, c(\"baseMean\", \"log2FoldChange\", \"pvalue\", \"padj\")])\n",
    "    df$OTU = rownames(df)\n",
    "    df = df[!is.na(df$padj),]\n",
    "\n",
    "    TT = physeq.plant %>% tax_table %>% data.frame\n",
    "    TT$OTU = rownames(TT)\n",
    "    d = left_join(df, TT, by = 'OTU')\n",
    "    \n",
    "\n",
    "#df.sig = d[d$padj <0.05,]\n",
    "#df.sig %>% arrange(padj) "
   ]
  },
  {
   "cell_type": "code",
   "execution_count": null,
   "metadata": {
    "collapsed": true
   },
   "outputs": [],
   "source": []
  },
  {
   "cell_type": "code",
   "execution_count": 22,
   "metadata": {
    "collapsed": false
   },
   "outputs": [],
   "source": [
    "%%R\n",
    "asNumeric = function(x) { as.numeric(as.character(x)) }\n",
    "\n",
    "## interested in both organisms that increase or decrease in abundance\n",
    "get_Ps = function(physeq.obj, l2fc_threshold) {\n",
    "    diagdds = phyloseq_to_deseq2(physeq.obj, ~Rep + Treatment)\n",
    "    diagdds = DESeq(diagdds, quiet = TRUE, parallel = TRUE)\n",
    "    r = results(diagdds, lfcThreshold = l2fc_threshold, independentFiltering = TRUE)\n",
    "    df = as.data.frame(res[, c(\"baseMean\", \"log2FoldChange\", \"pvalue\", \"padj\")])\n",
    "    df$OTU = rownames(df)\n",
    "\n",
    "    TT = physeq.obj %>% tax_table %>% data.frame\n",
    "    TT$OTU = rownames(TT)\n",
    "    d = left_join(df, TT, c('OTU'))\n",
    "    return(d)\n",
    "}\n",
    "\n",
    "#Function to trim physeq object to just samples to include in Deseq analysis\n",
    "deseq_prune = function(physeq.obj, plant, day) {\n",
    "    physeq.md = sample_data(physeq.obj)\n",
    "    p = prune_samples((physeq.md$Plant %in% c(\"BARE\", plant))&\n",
    "                     (physeq.md$DAP == day), physeq.obj)\n",
    "    p.thresh = filter_taxa(p, function(x) sum(x > 0) > 0, TRUE)\n",
    "    return(p.thresh)\n",
    "}"
   ]
  },
  {
   "cell_type": "markdown",
   "metadata": {},
   "source": [
    "## Define deseq object Full dataset"
   ]
  },
  {
   "cell_type": "code",
   "execution_count": 23,
   "metadata": {
    "collapsed": false
   },
   "outputs": [
    {
     "name": "stdout",
     "output_type": "stream",
     "text": [
      "\n",
      "Error in sample_data(physeq, FALSE) : \n",
      "  error in evaluating the argument 'object' in selecting a method for function 'sample_data': Error: object 'physeq' not found\n"
     ]
    },
    {
     "name": "stderr",
     "output_type": "stream",
     "text": [
      "/opt/anaconda/lib/python2.7/site-packages/rpy2/robjects/functions.py:106: UserWarning: Error in sample_data(physeq, FALSE) : \n",
      "  error in evaluating the argument 'object' in selecting a method for function 'sample_data': Error: object 'physeq' not found\n",
      "\n",
      "  res = super(Function, self).__call__(*new_args, **new_kwargs)\n"
     ]
    }
   ],
   "source": [
    "%%R\n",
    "diagdds = phyloseq_to_deseq2(physeq, ~DAP + PlantRep + Treatment)\n",
    "diagdds = DESeq(diagdds, quiet = TRUE, parallel = TRUE)"
   ]
  },
  {
   "cell_type": "code",
   "execution_count": null,
   "metadata": {
    "collapsed": false
   },
   "outputs": [],
   "source": [
    "%%R\n",
    "res = results(diagdds, parallel = TRUE, independentFiltering = TRUE)"
   ]
  },
  {
   "cell_type": "code",
   "execution_count": null,
   "metadata": {
    "collapsed": false
   },
   "outputs": [],
   "source": [
    "%%R    \n",
    "    theta = 0.5\n",
    "    beta = res$log2FoldChange\n",
    "    betaSE = res$lfcSE\n",
    "    p = pnorm(beta, theta, betaSE, lower.tail = FALSE)\n",
    "    res$p = p\n",
    "    df = as.data.frame(res[, c(\"baseMean\", \"log2FoldChange\", \"p\")])\n",
    "    df$p.adj = p.adjust(df$p, \"BH\")\n",
    "\n",
    "df$OTU = rownames(df)\n",
    "\n",
    "    TT = physeq.Full %>% tax_table %>% data.frame\n",
    "    TT$OTU = rownames(TT)\n",
    "    d = left_join(df, TT, c('OTU'))\n",
    "    d %>% head %>% print"
   ]
  },
  {
   "cell_type": "code",
   "execution_count": null,
   "metadata": {
    "collapsed": false
   },
   "outputs": [],
   "source": [
    "%%R\n",
    "summary(res)"
   ]
  },
  {
   "cell_type": "markdown",
   "metadata": {},
   "source": [
    "### Model only results in one marginally significant OTU - \n",
    "Proteobacteria Betaproteobacteria Burkholderiales Comamonadaceae"
   ]
  },
  {
   "cell_type": "markdown",
   "metadata": {},
   "source": [
    "## Deseq analysis on just the plants"
   ]
  },
  {
   "cell_type": "markdown",
   "metadata": {},
   "source": [
    "Note that model with DAP is not full rank so it cannot run with DAP as a controlling factor"
   ]
  },
  {
   "cell_type": "code",
   "execution_count": null,
   "metadata": {
    "collapsed": false
   },
   "outputs": [],
   "source": [
    "%%R\n",
    "diagdds = phyloseq_to_deseq2(physeq.plant, ~ PlantRep + Treatment)\n",
    "diagdds = DESeq(diagdds, quiet = TRUE, parallel = TRUE)"
   ]
  },
  {
   "cell_type": "code",
   "execution_count": null,
   "metadata": {
    "collapsed": false
   },
   "outputs": [],
   "source": [
    "%%R\n",
    "res = results(diagdds, parallel = TRUE, independentFiltering = TRUE)"
   ]
  },
  {
   "cell_type": "code",
   "execution_count": null,
   "metadata": {
    "collapsed": false
   },
   "outputs": [],
   "source": [
    "%%R\n",
    "summary(res)"
   ]
  },
  {
   "cell_type": "code",
   "execution_count": null,
   "metadata": {
    "collapsed": false
   },
   "outputs": [],
   "source": [
    "%%R    \n",
    "    theta = 0.5\n",
    "    beta = res$log2FoldChange\n",
    "    betaSE = res$lfcSE\n",
    "    p = pnorm(beta, theta, betaSE, lower.tail = FALSE)\n",
    "    res$p = p\n",
    "    df = as.data.frame(res[, c(\"baseMean\", \"log2FoldChange\", \"p\")])\n",
    "    df$p.adj = p.adjust(df$p, \"BH\")\n",
    "\n",
    "df$OTU = rownames(df)\n",
    "\n",
    "    TT = physeq.Full %>% tax_table %>% data.frame\n",
    "    TT$OTU = rownames(TT)\n",
    "    d = left_join(df, TT, c('OTU'))\n",
    "    d %>% head %>% print"
   ]
  },
  {
   "cell_type": "code",
   "execution_count": null,
   "metadata": {
    "collapsed": false
   },
   "outputs": [],
   "source": [
    "%%R -w 800 -h 600\n",
    "sigtab = d[d$p.adj < .05,]\n",
    "x = tapply(sigtab$log2FoldChange, sigtab$Rank2, function(x) max(x))\n",
    "x = sort(x, TRUE)\n",
    "sigtab$Rank2 = factor(as.character(sigtab$Rank2), levels=names(x))\n",
    "x = tapply(sigtab$log2FoldChange, sigtab$Rank5, function(x) max(x))\n",
    "x = sort(x, TRUE)\n",
    "sigtab$Rank5 = factor(as.character(sigtab$Rank5), levels=names(x))\n",
    "    \n",
    "ggplot(sigtab, aes(x=Rank5, y=log2FoldChange, color=Rank2)) + geom_point(size=5) + \n",
    "  theme(axis.text.x = element_text(angle = -90, hjust = 0, vjust=0.5))\n",
    "#x = tapply(sigtab$log2FoldChange, sigtab$Rank2, function(x) max(x))\n",
    "#x = sort(x, TRUE)\n",
    "#x"
   ]
  },
  {
   "cell_type": "markdown",
   "metadata": {},
   "source": [
    "## Create Deseq object for just the bare soils"
   ]
  },
  {
   "cell_type": "code",
   "execution_count": null,
   "metadata": {
    "collapsed": true
   },
   "outputs": [],
   "source": [
    "%%R\n",
    "## Create phyloseq object on subset of samples\n",
    "physeq.bare = subset_samples(physeq.Full, Plant == \"BARE\")\n",
    "sample_data(physeq.bare)$DAPRep = interaction(sample_data(physeq.bare)$DAP, sample_data(physeq.bare)$Rep)"
   ]
  },
  {
   "cell_type": "code",
   "execution_count": null,
   "metadata": {
    "collapsed": false
   },
   "outputs": [],
   "source": [
    "%%R\n",
    "diagdds = phyloseq_to_deseq2(physeq.bare, ~ DAPRep + Treatment)\n",
    "diagdds = DESeq(diagdds, quiet = TRUE, parallel = TRUE)"
   ]
  },
  {
   "cell_type": "code",
   "execution_count": null,
   "metadata": {
    "collapsed": false
   },
   "outputs": [],
   "source": [
    "%%R\n",
    "res = results(diagdds, parallel = TRUE, independentFiltering = TRUE)"
   ]
  },
  {
   "cell_type": "code",
   "execution_count": null,
   "metadata": {
    "collapsed": false,
    "scrolled": true
   },
   "outputs": [],
   "source": [
    "%%R\n",
    "summary(res)"
   ]
  },
  {
   "cell_type": "code",
   "execution_count": null,
   "metadata": {
    "collapsed": false,
    "scrolled": true
   },
   "outputs": [],
   "source": [
    "%%R    \n",
    "    theta = 0.0\n",
    "    beta = res$log2FoldChange\n",
    "    betaSE = res$lfcSE\n",
    "    p = pnorm(beta, theta, betaSE, lower.tail = FALSE)\n",
    "    res$p = p\n",
    "    df = as.data.frame(res[, c(\"baseMean\", \"log2FoldChange\", \"p\")])\n",
    "    df$p.adj = p.adjust(df$p, \"BH\")\n",
    "\n",
    "df$OTU = rownames(df)\n",
    "\n",
    "    TT = physeq.Full %>% tax_table %>% data.frame\n",
    "    TT$OTU = rownames(TT)\n",
    "    d = left_join(df, TT, c('OTU'))\n",
    "    d %>% head %>% print"
   ]
  },
  {
   "cell_type": "code",
   "execution_count": null,
   "metadata": {
    "collapsed": false
   },
   "outputs": [],
   "source": [
    "%%R\n",
    "sigtab"
   ]
  },
  {
   "cell_type": "code",
   "execution_count": null,
   "metadata": {
    "collapsed": false,
    "scrolled": true
   },
   "outputs": [],
   "source": [
    "%%R -w 800 -h 600\n",
    "sigtab = d[d$p.adj < .05,]\n",
    "x = tapply(sigtab$log2FoldChange, sigtab$Rank2, function(x) max(x))\n",
    "x = sort(x, TRUE)\n",
    "sigtab$Rank2 = factor(as.character(sigtab$Rank2), levels=names(x))\n",
    "x = tapply(sigtab$log2FoldChange, sigtab$Rank5, function(x) max(x))\n",
    "x = sort(x, TRUE)\n",
    "sigtab$Rank5 = factor(as.character(sigtab$Rank5), levels=names(x))\n",
    "    \n",
    "ggplot(sigtab, aes(x=Rank5, y=log2FoldChange, color=Rank2)) + geom_point(size=5) + \n",
    "  theme(axis.text.x = element_text(angle = -90, hjust = 0, vjust=0.5))"
   ]
  },
  {
   "cell_type": "markdown",
   "metadata": {},
   "source": [
    "## Test other N status indicators"
   ]
  },
  {
   "cell_type": "code",
   "execution_count": null,
   "metadata": {
    "collapsed": false
   },
   "outputs": [],
   "source": [
    "%%R\n",
    "physeq.d15N = subset_samples(physeq.Full, !is.na(d15N))\n",
    "physeq.d15N"
   ]
  },
  {
   "cell_type": "code",
   "execution_count": null,
   "metadata": {
    "collapsed": false
   },
   "outputs": [],
   "source": [
    "%%R\n",
    "diagdds = phyloseq_to_deseq2(physeq.d15N, ~ d15N)\n",
    "diagdds = DESeq(diagdds, quiet = TRUE, parallel = TRUE)"
   ]
  },
  {
   "cell_type": "code",
   "execution_count": null,
   "metadata": {
    "collapsed": false
   },
   "outputs": [],
   "source": [
    "%%R\n",
    "res = results(diagdds, parallel = TRUE, independentFiltering = TRUE)"
   ]
  },
  {
   "cell_type": "code",
   "execution_count": null,
   "metadata": {
    "collapsed": false,
    "scrolled": true
   },
   "outputs": [],
   "source": [
    "%%R\n",
    "head(res)"
   ]
  },
  {
   "cell_type": "code",
   "execution_count": null,
   "metadata": {
    "collapsed": false,
    "scrolled": false
   },
   "outputs": [],
   "source": [
    "%%R    \n",
    "#\n",
    "    #theta = 0.0\n",
    "    #beta = res$log2FoldChange\n",
    "    #betaSE = res$lfcSE\n",
    "    #p = pnorm(beta, theta, betaSE, lower.tail = FALSE)\n",
    "    #res$p = p\n",
    "    df = as.data.frame(res[, c(\"baseMean\", \"log2FoldChange\", \"pvalue\", \"padj\")])\n",
    "    \n",
    "\n",
    "df$OTU = rownames(df)\n",
    "\n",
    "    TT = physeq.Full %>% tax_table %>% data.frame\n",
    "    TT$OTU = rownames(TT)\n",
    "    d = left_join(df, TT, c('OTU'))\n",
    "    d %>% head %>% print"
   ]
  },
  {
   "cell_type": "code",
   "execution_count": null,
   "metadata": {
    "collapsed": false
   },
   "outputs": [],
   "source": [
    "%%R\n",
    "sigtab = d[d$padj < .05,]\n",
    "dim(sigtab)"
   ]
  },
  {
   "cell_type": "code",
   "execution_count": null,
   "metadata": {
    "collapsed": false
   },
   "outputs": [],
   "source": [
    "%%R -w 800 -h 600\n",
    "sigtab = d[d$padj < .05,]\n",
    "x = tapply(sigtab$log2FoldChange, sigtab$Rank2, function(x) max(x))\n",
    "x = sort(x, TRUE)\n",
    "sigtab$Rank2 = factor(as.character(sigtab$Rank2), levels=names(x))\n",
    "x = tapply(sigtab$log2FoldChange, sigtab$Rank5, function(x) max(x))\n",
    "x = sort(x, TRUE)\n",
    "sigtab$Rank5 = factor(as.character(sigtab$Rank5), levels=names(x))\n",
    "    \n",
    "ggplot(sigtab, aes(x=Rank5, y=log2FoldChange, color=Rank2)) + geom_point(size=5) + \n",
    "  theme(axis.text.x = element_text(angle = -90, hjust = 0, vjust=0.5))"
   ]
  }
 ],
 "metadata": {
  "hide_input": true,
  "kernelspec": {
   "display_name": "Python 2",
   "language": "python",
   "name": "python2"
  },
  "language_info": {
   "codemirror_mode": {
    "name": "ipython",
    "version": 2
   },
   "file_extension": ".py",
   "mimetype": "text/x-python",
   "name": "python",
   "nbconvert_exporter": "python",
   "pygments_lexer": "ipython2",
   "version": "2.7.11"
  }
 },
 "nbformat": 4,
 "nbformat_minor": 0
}
