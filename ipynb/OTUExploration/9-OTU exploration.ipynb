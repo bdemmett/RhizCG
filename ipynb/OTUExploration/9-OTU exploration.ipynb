{
 "cells": [
  {
   "cell_type": "markdown",
   "metadata": {},
   "source": [
    "# Description:\n",
    "\n",
    "    Investigate OTU abundances\n",
    "\n"
   ]
  },
  {
   "cell_type": "markdown",
   "metadata": {},
   "source": [
    "# Setting variables"
   ]
  },
  {
   "cell_type": "code",
   "execution_count": 1,
   "metadata": {
    "collapsed": true
   },
   "outputs": [],
   "source": [
    "workDir = '/home/bryan/RhizCG/data/MiSeq_amplicon/MergedRuns/OTUexploration/'\n",
    "biomFileDir = '/home/bryan/RhizCG/data/MiSeq_amplicon/MergedRuns/OTU_binning/'\n",
    "\n",
    "biomFile = '/home/bryan/RhizCG/data/MiSeq_amplicon/MergedRuns/OTU_binning/otu_table_wtax.biom'\n",
    "metadataFile = '/home/bryan/RhizCG/data/MiSeq_amplicon/metadata_RhizCG_merged.txt'\n",
    "treeFile = '/home/bryan/RhizCG/data/MiSeq_amplicon/MergedRuns/fasttree/otusn.tree'"
   ]
  },
  {
   "cell_type": "markdown",
   "metadata": {},
   "source": [
    "# Init"
   ]
  },
  {
   "cell_type": "code",
   "execution_count": 2,
   "metadata": {
    "collapsed": true
   },
   "outputs": [],
   "source": [
    "import os\n",
    "from pandas import DataFrame\n",
    "from IPython.display import FileLink"
   ]
  },
  {
   "cell_type": "code",
   "execution_count": 3,
   "metadata": {
    "collapsed": false
   },
   "outputs": [],
   "source": [
    "%matplotlib inline\n",
    "%load_ext rpy2.ipython"
   ]
  },
  {
   "cell_type": "code",
   "execution_count": null,
   "metadata": {
    "collapsed": true
   },
   "outputs": [],
   "source": []
  },
  {
   "cell_type": "code",
   "execution_count": 4,
   "metadata": {
    "collapsed": false
   },
   "outputs": [
    {
     "name": "stderr",
     "output_type": "stream",
     "text": [
      "/opt/anaconda/lib/python2.7/site-packages/rpy2/robjects/functions.py:106: UserWarning: foreach: simple, scalable parallel programming from Revolution Analytics\n",
      "Use Revolution R for scalability, fault tolerance and more.\n",
      "http://www.revolutionanalytics.com\n",
      "\n",
      "  res = super(Function, self).__call__(*new_args, **new_kwargs)\n",
      "/opt/anaconda/lib/python2.7/site-packages/rpy2/robjects/functions.py:106: UserWarning: Loading required package: iterators\n",
      "\n",
      "  res = super(Function, self).__call__(*new_args, **new_kwargs)\n",
      "/opt/anaconda/lib/python2.7/site-packages/rpy2/robjects/functions.py:106: UserWarning: Loading required package: parallel\n",
      "\n",
      "  res = super(Function, self).__call__(*new_args, **new_kwargs)\n",
      "/opt/anaconda/lib/python2.7/site-packages/rpy2/robjects/functions.py:106: UserWarning: \n",
      "Attaching package: ‘dplyr’\n",
      "\n",
      "\n",
      "  res = super(Function, self).__call__(*new_args, **new_kwargs)\n",
      "/opt/anaconda/lib/python2.7/site-packages/rpy2/robjects/functions.py:106: UserWarning: The following objects are masked from ‘package:stats’:\n",
      "\n",
      "    filter, lag\n",
      "\n",
      "\n",
      "  res = super(Function, self).__call__(*new_args, **new_kwargs)\n",
      "/opt/anaconda/lib/python2.7/site-packages/rpy2/robjects/functions.py:106: UserWarning: The following objects are masked from ‘package:base’:\n",
      "\n",
      "    intersect, setdiff, setequal, union\n",
      "\n",
      "\n",
      "  res = super(Function, self).__call__(*new_args, **new_kwargs)\n"
     ]
    }
   ],
   "source": [
    "%%R\n",
    "library(phyloseq)\n",
    "library(ggplot2)\n",
    "library(foreach)\n",
    "library(doParallel)\n",
    "library(gridExtra)\n",
    "library(dplyr)\n",
    "library(tidyr)"
   ]
  },
  {
   "cell_type": "code",
   "execution_count": 5,
   "metadata": {
    "collapsed": false
   },
   "outputs": [],
   "source": [
    "if not os.path.isdir(workDir):\n",
    "    os.mkdir(workDir)"
   ]
  },
  {
   "cell_type": "markdown",
   "metadata": {},
   "source": [
    "# Setting files"
   ]
  },
  {
   "cell_type": "code",
   "execution_count": 6,
   "metadata": {
    "collapsed": false
   },
   "outputs": [
    {
     "name": "stdout",
     "output_type": "stream",
     "text": [
      "total 780K\r\n",
      "lrwxrwxrwx 1 bryan bryan  130 Apr  6 18:01 metadata_RhizCG_merged.txt -> /home/bryan/RhizCG/data/MiSeq_amplicon/MergedRuns/OTU_binning/..//home/bryan/RhizCG/data/MiSeq_amplicon/metadata_RhizCG_merged.txt\r\n",
      "lrwxrwxrwx 1 bryan bryan  143 Apr  6 18:01 otu_table_wtax.biom -> /home/bryan/RhizCG/data/MiSeq_amplicon/MergedRuns/OTU_binning//home/bryan/RhizCG/data/MiSeq_amplicon/MergedRuns/OTU_binning/otu_table_wtax.biom\r\n",
      "-rw-rw-r-- 1 bryan bryan  32K Nov 12 13:33 OTUs_PassedFilter.txt\r\n",
      "-rw-rw-r-- 1 bryan bryan  48K Nov 11 19:42 OTUs_PassedFilter.csv\r\n",
      "-rw-rw-r-- 1 bryan bryan 336K Nov 10 19:34 sample_rel-abundance.pdf\r\n",
      "-rw-rw-r-- 1 bryan bryan 5.2K Nov 10 19:17 sample_rel_abund.pdf\r\n",
      "-rw-rw-r-- 1 bryan bryan 3.6K Oct  1  2015 Paeni_relabund.pdf\r\n",
      "-rw-rw-r-- 1 bryan bryan 3.6K Oct  1  2015 Paenibacillus_relabund.pdf\r\n",
      "-rw-rw-r-- 1 bryan bryan 3.6K Oct  1  2015 firmicutes_relabund.pdf\r\n",
      "-rw-rw-r-- 1 bryan bryan 325K Sep 30  2015 sample_abundance.pdf\r\n",
      "-rw-rw-r-- 1 bryan bryan 5.2K Sep 30  2015 RankAbundance.pdf\r\n"
     ]
    }
   ],
   "source": [
    "!cd $workDir; ln -f -s $biomFileDir$biomFile\n",
    "!cd $workDir; ln -f -s $biomFileDir'../'$metadataFile\n",
    "!cd $workDir; ls -thlc"
   ]
  },
  {
   "cell_type": "markdown",
   "metadata": {},
   "source": [
    "# Loading/editting OTU table"
   ]
  },
  {
   "cell_type": "code",
   "execution_count": 7,
   "metadata": {
    "collapsed": false
   },
   "outputs": [],
   "source": [
    "%%R -i biomFile -i metadataFile -i workDir -i treeFile\n",
    "# loading\n",
    "setwd(workDir)\n",
    "\n",
    "## biom file\n",
    "physeq = import_biom(biomFile, treeFile)\n",
    "\n",
    "## loading sample metadata\n",
    "sample.data = import_qiime_sample_data(metadataFile)\n",
    "physeq = merge_phyloseq(physeq,sample.data)\n",
    "\n"
   ]
  },
  {
   "cell_type": "markdown",
   "metadata": {
    "collapsed": false
   },
   "source": [
    "### apply gsub across columns replacing __ w/ \"\" reload tax_table to phyloseq object"
   ]
  },
  {
   "cell_type": "code",
   "execution_count": 8,
   "metadata": {
    "collapsed": true
   },
   "outputs": [],
   "source": [
    "%%R\n",
    "t = tax_table(physeq)\n",
    "t = apply(t, 2, function(y) gsub(\"__\", \"\", y))\n",
    "tax_table(physeq) = t"
   ]
  },
  {
   "cell_type": "markdown",
   "metadata": {
    "collapsed": true
   },
   "source": [
    "## Filter and transform samples\n",
    "Transform to relative abundance and\n",
    "remove taxa not seen more than 3 times in at least 5% of the samples "
   ]
  },
  {
   "cell_type": "code",
   "execution_count": 9,
   "metadata": {
    "collapsed": false
   },
   "outputs": [
    {
     "data": {
      "text/plain": [
       "phyloseq-class experiment-level object\n",
       "otu_table()   OTU Table:         [ 3635 taxa and 249 samples ]\n",
       "sample_data() Sample Data:       [ 249 samples by 21 sample variables ]\n",
       "tax_table()   Taxonomy Table:    [ 3635 taxa by 8 taxonomic ranks ]\n",
       "phy_tree()    Phylogenetic Tree: [ 3635 tips and 3634 internal nodes ]\n"
      ]
     },
     "metadata": {},
     "output_type": "display_data"
    }
   ],
   "source": [
    "%%R \n",
    "sparcity.thresh = 0.05\n",
    "\n",
    "# filtering/normalizing\n",
    "physeq.snorm = transform_sample_counts(physeq, function(x) x/sum(x))\n",
    "physeq.thresh = filter_taxa(physeq, function(x) sum(x > 3) > (sparcity.thresh * length(x)), TRUE)\n",
    "print(physeq.thresh)"
   ]
  },
  {
   "cell_type": "code",
   "execution_count": 10,
   "metadata": {
    "collapsed": false
   },
   "outputs": [
    {
     "data": {
      "text/plain": [
       "phyloseq-class experiment-level object\n",
       "otu_table()   OTU Table:         [ 879 taxa and 249 samples ]\n",
       "sample_data() Sample Data:       [ 249 samples by 21 sample variables ]\n",
       "tax_table()   Taxonomy Table:    [ 879 taxa by 8 taxonomic ranks ]\n",
       "phy_tree()    Phylogenetic Tree: [ 879 tips and 878 internal nodes ]\n"
      ]
     },
     "metadata": {},
     "output_type": "display_data"
    }
   ],
   "source": [
    "%%R \n",
    "sparcity.thresh = 0.01\n",
    "\n",
    "# filtering/normalizing\n",
    "physeq.snorm = transform_sample_counts(physeq, function(x) x/sum(x))\n",
    "physeq.thresh = filter_taxa(physeq.snorm, function(x) sum(x > .001) > (sparcity.thresh * length(x)), TRUE)\n",
    "print(physeq.thresh)"
   ]
  },
  {
   "cell_type": "markdown",
   "metadata": {},
   "source": [
    "# Taxa distribution"
   ]
  },
  {
   "cell_type": "markdown",
   "metadata": {
    "collapsed": true
   },
   "source": [
    "## Rank Abundance"
   ]
  },
  {
   "cell_type": "code",
   "execution_count": 11,
   "metadata": {
    "collapsed": false
   },
   "outputs": [
    {
     "data": {
      "text/plain": [
       "phyloseq-class experiment-level object\n",
       "otu_table()   OTU Table:         [ 879 taxa and 249 samples ]\n",
       "sample_data() Sample Data:       [ 249 samples by 21 sample variables ]\n",
       "tax_table()   Taxonomy Table:    [ 879 taxa by 8 taxonomic ranks ]\n",
       "phy_tree()    Phylogenetic Tree: [ 879 tips and 878 internal nodes ]\n"
      ]
     },
     "metadata": {},
     "output_type": "display_data"
    }
   ],
   "source": [
    "%%R\n",
    "print(physeq.thresh)"
   ]
  },
  {
   "cell_type": "code",
   "execution_count": 12,
   "metadata": {
    "collapsed": false
   },
   "outputs": [
    {
     "data": {
      "text/plain": [
       "[1] \"/home/bryan/RhizCG/data/MiSeq_amplicon/MergedRuns/OTUexploration\"\n"
      ]
     },
     "metadata": {},
     "output_type": "display_data"
    }
   ],
   "source": [
    "%%R\n",
    "getwd()"
   ]
  },
  {
   "cell_type": "code",
   "execution_count": 13,
   "metadata": {
    "collapsed": false
   },
   "outputs": [
    {
     "name": "stdout",
     "output_type": "stream",
     "text": [
      "\n",
      "Error in otu_table(x) : object 'physeq.R' not found\n"
     ]
    },
    {
     "name": "stderr",
     "output_type": "stream",
     "text": [
      "/opt/anaconda/lib/python2.7/site-packages/rpy2/robjects/functions.py:106: UserWarning: Error in otu_table(x) : object 'physeq.R' not found\n",
      "\n",
      "  res = super(Function, self).__call__(*new_args, **new_kwargs)\n",
      "/opt/anaconda/lib/python2.7/site-packages/rpy2/robjects/functions.py:106: UserWarning: In addition: \n",
      "  res = super(Function, self).__call__(*new_args, **new_kwargs)\n",
      "/opt/anaconda/lib/python2.7/site-packages/rpy2/robjects/functions.py:106: UserWarning: Warning message:\n",
      "\n",
      "  res = super(Function, self).__call__(*new_args, **new_kwargs)\n",
      "/opt/anaconda/lib/python2.7/site-packages/rpy2/robjects/functions.py:106: UserWarning: replacing previous import ‘S4Vectors::Position’ by ‘ggplot2::Position’ when loading ‘DESeq2’ \n",
      "\n",
      "  res = super(Function, self).__call__(*new_args, **new_kwargs)\n"
     ]
    }
   ],
   "source": [
    "%%R -w 700 -h 500\n",
    "par(mar = c(10, 4, 4, 2) + 0.1) # make more room on bottom margin\n",
    "N <- 50\n",
    "\n",
    "#print to file\n",
    "pdf(file = \"RankAbundance\")\n",
    "barplot(sort(taxa_sums(physeq.R), TRUE)[1:N], las=2, \n",
    "        main = \"Rank Abundance \\n Sparsity Threshold x > 3 in 5%\")\n",
    "dev.off()\n",
    "\n",
    "#print to screen\n",
    "barplot(sort(taxa_sums(physeq.R), TRUE)[1:N], las=2, \n",
    "        main = \"Rank Abundance \\n Sparsity Threshold x > 3 in 5%\")"
   ]
  },
  {
   "cell_type": "markdown",
   "metadata": {},
   "source": [
    "## Generate abundance bar plots for each sample"
   ]
  },
  {
   "cell_type": "code",
   "execution_count": 14,
   "metadata": {
    "collapsed": true
   },
   "outputs": [],
   "source": [
    "%%R\n",
    "# Multiple plot function\n",
    "#\n",
    "# ggplot objects can be passed in ..., or to plotlist (as a list of ggplot objects)\n",
    "# - cols:   Number of columns in layout\n",
    "# - layout: A matrix specifying the layout. If present, 'cols' is ignored.\n",
    "#\n",
    "# If the layout is something like matrix(c(1,2,3,3), nrow=2, byrow=TRUE),\n",
    "# then plot 1 will go in the upper left, 2 will go in the upper right, and\n",
    "# 3 will go all the way across the bottom.\n",
    "#\n",
    "multiplot <- function(..., plotlist=NULL, file, cols=1, layout=NULL) {\n",
    "  library(grid)\n",
    "\n",
    "  # Make a list from the ... arguments and plotlist\n",
    "  plots <- c(list(...), plotlist)\n",
    "\n",
    "  numPlots = length(plots)\n",
    "\n",
    "  # If layout is NULL, then use 'cols' to determine layout\n",
    "  if (is.null(layout)) {\n",
    "    # Make the panel\n",
    "    # ncol: Number of columns of plots\n",
    "    # nrow: Number of rows needed, calculated from # of cols\n",
    "    layout <- matrix(seq(1, cols * ceiling(numPlots/cols)),\n",
    "                    ncol = cols, nrow = ceiling(numPlots/cols))\n",
    "  }\n",
    "\n",
    " if (numPlots==1) {\n",
    "    print(plots[[1]])\n",
    "\n",
    "  } else {\n",
    "    # Set up the page\n",
    "    grid.newpage()\n",
    "    pushViewport(viewport(layout = grid.layout(nrow(layout), ncol(layout))))\n",
    "\n",
    "    # Make each plot, in the correct location\n",
    "    for (i in 1:numPlots) {\n",
    "      # Get the i,j matrix positions of the regions that contain this subplot\n",
    "      matchidx <- as.data.frame(which(layout == i, arr.ind = TRUE))\n",
    "\n",
    "      print(plots[[i]], vp = viewport(layout.pos.row = matchidx$row,\n",
    "                                      layout.pos.col = matchidx$col))\n",
    "    }\n",
    "  }\n",
    "}"
   ]
  },
  {
   "cell_type": "code",
   "execution_count": 15,
   "metadata": {
    "collapsed": false,
    "scrolled": true
   },
   "outputs": [
    {
     "data": {
      "text/plain": [
       "                           X.sample Library Primer_Plate Primer_Well_ID\n",
       "sample5-1.22_Nneg sample5-1.22_Nneg       1            1             A4\n",
       "sample5-2.29_Nneg sample5-2.29_Nneg       1            1             C4\n",
       "sample5-4.28_Nneg sample5-4.28_Nneg       1            1             G4\n",
       "sample5-3.27_Nneg sample5-3.27_Nneg       1            1             E4\n",
       "sample5-4.28_Npos sample5-4.28_Npos       1            1             H4\n",
       "sample5-1.22_Npos sample5-1.22_Npos       1            1             B4\n",
       "                  primerFR_ID_byPlate primerFR_ID_total barcode_ID    PlotID\n",
       "sample5-1.22_Nneg                  25                25         25 1.22_Nneg\n",
       "sample5-2.29_Nneg                  27                27         27 2.29_Nneg\n",
       "sample5-4.28_Nneg                  31                31         31 4.28_Nneg\n",
       "sample5-3.27_Nneg                  29                29         29 3.27_Nneg\n",
       "sample5-4.28_Npos                  32                32         32 4.28_Npos\n",
       "sample5-1.22_Npos                  26                26         26 1.22_Npos\n",
       "                   Plant Plot Treatment Rep DAP Sampling    PlantSample  Type\n",
       "sample5-1.22_Nneg 75-062 1.22      Nneg   1  72  sample5 75-062_sample5 Maize\n",
       "sample5-2.29_Nneg 75-062 2.29      Nneg   2  72  sample5 75-062_sample5 Maize\n",
       "sample5-4.28_Nneg 75-062 4.28      Nneg   4  72  sample5 75-062_sample5 Maize\n",
       "sample5-3.27_Nneg 75-062 3.27      Nneg   3  72  sample5 75-062_sample5 Maize\n",
       "sample5-4.28_Npos 75-062 4.28      Npos   4  72  sample5 75-062_sample5 Maize\n",
       "sample5-1.22_Npos 75-062 1.22      Npos   1  72  sample5 75-062_sample5 Maize\n",
       "                  Grass_Broad Status Subfamily fwd_barcode rev_barcode\n",
       "sample5-1.22_Nneg     Monocot   Crop  Paniceae    ATCGTACG    CAGTGAGT\n",
       "sample5-2.29_Nneg     Monocot   Crop  Paniceae    TAGCGAGT    CAGTGAGT\n",
       "sample5-4.28_Nneg     Monocot   Crop  Paniceae    GGATATCT    CAGTGAGT\n",
       "sample5-3.27_Nneg     Monocot   Crop  Paniceae    TCATCGAG    CAGTGAGT\n",
       "sample5-4.28_Npos     Monocot   Crop  Paniceae    GACACCGT    CAGTGAGT\n",
       "sample5-1.22_Npos     Monocot   Crop  Paniceae    ACTATCTG    CAGTGAGT\n"
      ]
     },
     "metadata": {},
     "output_type": "display_data"
    }
   ],
   "source": [
    "%%R\n",
    "s.df = sample_data(physeq.thresh)\n",
    "s.df.o =  s.df[with(s.df, order(Plant, Treatment))]\n",
    "head(s.df.o) %>% print\n",
    "samples = sample_names(s.df.o)"
   ]
  },
  {
   "cell_type": "code",
   "execution_count": 16,
   "metadata": {
    "collapsed": false
   },
   "outputs": [
    {
     "name": "stdout",
     "output_type": "stream",
     "text": [
      "\n",
      "Error in nsamples(physeq.R) : object 'physeq.R' not found\n"
     ]
    },
    {
     "name": "stderr",
     "output_type": "stream",
     "text": [
      "/opt/anaconda/lib/python2.7/site-packages/rpy2/robjects/functions.py:106: UserWarning: Error in nsamples(physeq.R) : object 'physeq.R' not found\n",
      "\n",
      "  res = super(Function, self).__call__(*new_args, **new_kwargs)\n"
     ]
    }
   ],
   "source": [
    "%%R -w 600 -h 400\n",
    "\n",
    "pdf(\"sample_abundance.pdf\", onefile = TRUE)\n",
    "\n",
    "N = nsamples(physeq.R)\n",
    "\n",
    "s.df = sample_data(physeq.R)\n",
    "s.df.o =  s.df[with(s.df, order(Plant, Treatment))]\n",
    "samples = sample_names(s.df.o)\n",
    "\n",
    "\n",
    "for(i in 1:N){\n",
    "    samplename = samples[i]\n",
    "    sample = subset_samples(physeq.R, X.sample == samplename)\n",
    "  \n",
    "\n",
    "    TopOTUs = names(sort(taxa_sums(sample), TRUE)[1:50])\n",
    "    Top = prune_taxa(TopOTUs, sample)\n",
    "    title = paste(sample_data(Top)$Plant, samplename, sample_sums(Top), sep = \" \")\n",
    "    p1 = barplot(sort(taxa_sums(Top), TRUE), las=2, \n",
    "        main = title)\n",
    "    plots[[i]] = p1  # add each plot into plot list\n",
    "}\n",
    "\n",
    "\n",
    "\n",
    "\n",
    "dev.off()"
   ]
  },
  {
   "cell_type": "markdown",
   "metadata": {},
   "source": [
    "# Explore OTU relative abundance"
   ]
  },
  {
   "cell_type": "code",
   "execution_count": null,
   "metadata": {
    "collapsed": true
   },
   "outputs": [],
   "source": []
  },
  {
   "cell_type": "code",
   "execution_count": 17,
   "metadata": {
    "collapsed": false
   },
   "outputs": [
    {
     "data": {
      "text/plain": [
       "png \n",
       "  2 \n"
      ]
     },
     "metadata": {},
     "output_type": "display_data"
    }
   ],
   "source": [
    "%%R -i workDir\n",
    "\n",
    "pdf(\"sample_rel-abundance.pdf\", onefile = TRUE)\n",
    "\n",
    "N = nsamples(physeq.snorm)\n",
    "\n",
    "s.df = sample_data(physeq.snorm)\n",
    "s.df.o =  s.df[with(s.df, order(Plant, Treatment))]\n",
    "samples = sample_names(s.df.o)\n",
    "\n",
    "for(i in 1:N){\n",
    "    samplename = samples[i]\n",
    "    sample = subset_samples(physeq.snorm, X.sample == samplename)\n",
    "  \n",
    "\n",
    "    TopOTUs = names(sort(taxa_sums(sample), TRUE)[1:50])\n",
    "    Top = prune_taxa(TopOTUs, sample)\n",
    "    title = paste(sample_data(Top)$Plant, samplename, sample_sums(Top), sep = \" \")\n",
    "    plot =  barplot(sort(taxa_sums(Top), TRUE), las=2, \n",
    "        main = title)\n",
    "    plot\n",
    "}\n",
    "\n",
    "dev.off()\n",
    "\n"
   ]
  },
  {
   "cell_type": "markdown",
   "metadata": {},
   "source": [
    "## Explore firmicutes"
   ]
  },
  {
   "cell_type": "code",
   "execution_count": 23,
   "metadata": {
    "collapsed": false
   },
   "outputs": [],
   "source": [
    "%%R\n",
    "colnames(tax_table(physeq.snorm)) = c(\"Kingdom\", \"Phylum\",  \"Class\",   \"Order\",   \n",
    "                         \"Family\",  \"Genus\",   \"Species\", \"Strain\")"
   ]
  },
  {
   "cell_type": "code",
   "execution_count": 24,
   "metadata": {
    "collapsed": false
   },
   "outputs": [
    {
     "data": {
      "text/plain": [
       " [1] \"Acidobacteria\"           \"Planctomycetes\"         \n",
       " [3] \"Proteobacteria\"          \"Candidate_division_WS3\" \n",
       " [5] \"NPL-UPA2\"                \"Nitrospirae\"            \n",
       " [7] \"Spirochaetes\"            \"Verrucomicrobia\"        \n",
       " [9] NA                        \"Lentisphaerae\"          \n",
       "[11] \"Chloroflexi\"             \"Fibrobacteres\"          \n",
       "[13] \"Candidate_division_BRC1\" \"Fusobacteria\"           \n",
       "[15] \"Firmicutes\"              \"Deferribacteres\"        \n",
       "[17] \"Chlorobi\"                \"Bacteroidetes\"          \n",
       "[19] \"GOUTA4\"                  \"Elusimicrobia\"          \n",
       "[21] \"JL-ETNP-Z39\"             \"Gemmatimonadetes\"       \n",
       "[23] \"Tenericutes\"             \"Deinococcus-Thermus\"    \n",
       "[25] \"Armatimonadetes\"         \"Cyanobacteria\"          \n",
       "[27] \"TA06\"                    \"Thermotogae\"            \n",
       "[29] \"Actinobacteria\"          \"BHI80-139\"              \n",
       "[31] \"WCHB1-60\"                \"Candidate_division_TM7\" \n",
       "[33] \"Candidate_division_OD1\"  \"Candidate_division_SR1\" \n",
       "[35] \"Kazan-3B-28\"             \"BD1-5\"                  \n",
       "[37] \"SM2F11\"                  \"Candidate_division_OP11\"\n",
       "[39] \"Chlamydiae\"              \"TM6\"                    \n",
       "[41] \"Candidate_division_OP3\" \n"
      ]
     },
     "metadata": {},
     "output_type": "display_data"
    }
   ],
   "source": [
    "%%R\n",
    "get_taxa_unique(physeq.snorm, \"Phylum\")"
   ]
  },
  {
   "cell_type": "code",
   "execution_count": 26,
   "metadata": {
    "collapsed": false
   },
   "outputs": [
    {
     "data": {
      "text/plain": [
       "phyloseq-class experiment-level object\n",
       "otu_table()   OTU Table:         [ 4982 taxa and 238 samples ]\n",
       "sample_data() Sample Data:       [ 238 samples by 49 sample variables ]\n",
       "tax_table()   Taxonomy Table:    [ 4982 taxa by 8 taxonomic ranks ]\n",
       "phy_tree()    Phylogenetic Tree: [ 4982 tips and 4981 internal nodes ]\n"
      ]
     },
     "metadata": {},
     "output_type": "display_data"
    }
   ],
   "source": [
    "%%R\n",
    "physeq.Full = readRDS(\"/home/bryan/RhizCG/data/MiSeq_amplicon/MergedRuns/physeq/Full-Sparsity3in3\")\n",
    "physeq.Full"
   ]
  },
  {
   "cell_type": "code",
   "execution_count": 28,
   "metadata": {
    "collapsed": false,
    "scrolled": true
   },
   "outputs": [
    {
     "data": {
      "image/png": "[encoded data removed]"
     },
     "metadata": {},
     "output_type": "display_data"
    }
   ],
   "source": [
    "%%R -w 600 -h 900\n",
    "Rhiz.f = subset_taxa(physeq.Full, Rank2 == \"Firmicutes\")\n",
    "topNOTUs = names(sort(taxa_sums(Rhiz.f), TRUE)[1:20])\n",
    "Rhiz.ft = prune_taxa(topNOTUs, Rhiz.f)\n",
    "plot_tree(Rhiz.ft, color = \"Plant\", shape = \"Rank5\", label.tips = \"Rank6\", \n",
    "          size = \"abundance\", plot.margin = 0.5, ladderize = TRUE)"
   ]
  },
  {
   "cell_type": "code",
   "execution_count": null,
   "metadata": {
    "collapsed": true
   },
   "outputs": [],
   "source": []
  },
  {
   "cell_type": "code",
   "execution_count": 21,
   "metadata": {
    "collapsed": false
   },
   "outputs": [
    {
     "name": "stdout",
     "output_type": "stream",
     "text": [
      "\n",
      "Error in inherits(physeq, \"phyloseq\") : object 'Rhiz.f' not found\n"
     ]
    },
    {
     "name": "stderr",
     "output_type": "stream",
     "text": [
      "/opt/anaconda/lib/python2.7/site-packages/rpy2/robjects/functions.py:106: UserWarning: Error in inherits(physeq, \"phyloseq\") : object 'Rhiz.f' not found\n",
      "\n",
      "  res = super(Function, self).__call__(*new_args, **new_kwargs)\n"
     ]
    }
   ],
   "source": [
    "%%R -w 600 -h 400\n",
    "p1 = plot_bar(Rhiz.f, x=\"Plant\", fill=\"Genus\")\n",
    "\n",
    "#pdf(\"firmicutes_relabund.pdf\")\n",
    "p1\n",
    "#dev.off()"
   ]
  },
  {
   "cell_type": "code",
   "execution_count": 22,
   "metadata": {
    "collapsed": false,
    "scrolled": true
   },
   "outputs": [
    {
     "name": "stdout",
     "output_type": "stream",
     "text": [
      "\n",
      "Error in tax_table(physeq) : object 'phy' not found\n"
     ]
    }
   ],
   "source": [
    "%%R -w 600 -h 400 -i workDir\n",
    "setwd(workDir)\n",
    "Rhiz.p = subset_taxa(phy, Genus == \"Paenibacillus\")\n",
    "\n",
    "#pdf(\"Paeni_relabund.pdf\")\n",
    "plot_bar(Rhiz.p, x=\"Plant\", fill=\"Genus\")\n",
    "#dev.off()\n"
   ]
  }
 ],
 "metadata": {
  "hide_input": true,
  "kernelspec": {
   "display_name": "Python 2",
   "language": "python",
   "name": "python2"
  },
  "language_info": {
   "codemirror_mode": {
    "name": "ipython",
    "version": 2
   },
   "file_extension": ".py",
   "mimetype": "text/x-python",
   "name": "python",
   "nbconvert_exporter": "python",
   "pygments_lexer": "ipython2",
   "version": "2.7.11"
  }
 },
 "nbformat": 4,
 "nbformat_minor": 0
}
