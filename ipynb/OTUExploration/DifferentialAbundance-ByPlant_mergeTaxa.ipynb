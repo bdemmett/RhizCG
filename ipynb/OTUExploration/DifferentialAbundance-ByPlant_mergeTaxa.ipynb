{
 "cells": [
  {
   "cell_type": "markdown",
   "metadata": {},
   "source": [
    "## Description:\n",
    "\n",
    "   Use Deseq2 to identify responders at different taxa levels\n"
   ]
  },
  {
   "cell_type": "markdown",
   "metadata": {},
   "source": [
    "# Setting variables"
   ]
  },
  {
   "cell_type": "code",
   "execution_count": 2,
   "metadata": {
    "collapsed": true
   },
   "outputs": [],
   "source": [
    "workDir = '/home/bryan/RhizCG/data/MiSeq_amplicon/MergedRuns/DeSeq2/'\n",
    "#using physeq file with sparsity of greater than 3 in 3 samples\n",
    "physeqFile = '/home/bryan/RhizCG/data/MiSeq_amplicon/MergedRuns/physeq/Full-Sparsity3in3'"
   ]
  },
  {
   "cell_type": "markdown",
   "metadata": {},
   "source": [
    "# Init"
   ]
  },
  {
   "cell_type": "code",
   "execution_count": 3,
   "metadata": {
    "collapsed": false
   },
   "outputs": [],
   "source": [
    "%load_ext rpy2.ipython"
   ]
  },
  {
   "cell_type": "code",
   "execution_count": 24,
   "metadata": {
    "collapsed": false
   },
   "outputs": [
    {
     "name": "stderr",
     "output_type": "stream",
     "text": [
      "/opt/anaconda/lib/python2.7/site-packages/rpy2/robjects/functions.py:106: UserWarning: Loading required package: ade4\n",
      "\n",
      "  res = super(Function, self).__call__(*new_args, **new_kwargs)\n",
      "/opt/anaconda/lib/python2.7/site-packages/rpy2/robjects/functions.py:106: UserWarning: \n",
      "Attaching package: ‘ade4’\n",
      "\n",
      "\n",
      "  res = super(Function, self).__call__(*new_args, **new_kwargs)\n",
      "/opt/anaconda/lib/python2.7/site-packages/rpy2/robjects/functions.py:106: UserWarning: The following object is masked from ‘package:GenomicRanges’:\n",
      "\n",
      "    score\n",
      "\n",
      "\n",
      "  res = super(Function, self).__call__(*new_args, **new_kwargs)\n",
      "/opt/anaconda/lib/python2.7/site-packages/rpy2/robjects/functions.py:106: UserWarning: The following object is masked from ‘package:IRanges’:\n",
      "\n",
      "    score\n",
      "\n",
      "\n",
      "  res = super(Function, self).__call__(*new_args, **new_kwargs)\n",
      "/opt/anaconda/lib/python2.7/site-packages/rpy2/robjects/functions.py:106: UserWarning: \n",
      "Attaching package: ‘adephylo’\n",
      "\n",
      "\n",
      "  res = super(Function, self).__call__(*new_args, **new_kwargs)\n",
      "/opt/anaconda/lib/python2.7/site-packages/rpy2/robjects/functions.py:106: UserWarning: The following object is masked from ‘package:ade4’:\n",
      "\n",
      "    orthogram\n",
      "\n",
      "\n",
      "  res = super(Function, self).__call__(*new_args, **new_kwargs)\n"
     ]
    }
   ],
   "source": [
    "%%R\n",
    "library(ape)\n",
    "library(adephylo)\n",
    "library(phyloseq)\n",
    "library(ggplot2)\n",
    "library(foreach)\n",
    "library(DESeq2)\n",
    "library(BiocParallel)\n",
    "library(doParallel)\n",
    "library(gridExtra)\n",
    "library(dplyr)\n",
    "library(tidyr)"
   ]
  },
  {
   "cell_type": "code",
   "execution_count": 5,
   "metadata": {
    "collapsed": false,
    "hide_input": true
   },
   "outputs": [],
   "source": [
    "%%R\n",
    "register(MulticoreParam(20))"
   ]
  },
  {
   "cell_type": "markdown",
   "metadata": {},
   "source": [
    "# Loading phyloseq object"
   ]
  },
  {
   "cell_type": "code",
   "execution_count": 26,
   "metadata": {
    "collapsed": false
   },
   "outputs": [
    {
     "data": {
      "text/plain": [
       "phyloseq-class experiment-level object\n",
       "otu_table()   OTU Table:         [ 4982 taxa and 238 samples ]\n",
       "sample_data() Sample Data:       [ 238 samples by 49 sample variables ]\n",
       "tax_table()   Taxonomy Table:    [ 4982 taxa by 8 taxonomic ranks ]\n",
       "phy_tree()    Phylogenetic Tree: [ 4982 tips and 4981 internal nodes ]\n"
      ]
     },
     "metadata": {},
     "output_type": "display_data"
    }
   ],
   "source": [
    "%%R -i physeqFile\n",
    "\n",
    "physeq.Full = readRDS(physeqFile)\n",
    "physeq.Full"
   ]
  },
  {
   "cell_type": "code",
   "execution_count": 27,
   "metadata": {
    "collapsed": false
   },
   "outputs": [
    {
     "name": "stderr",
     "output_type": "stream",
     "text": [
      "/opt/anaconda/lib/python2.7/site-packages/rpy2/robjects/functions.py:106: UserWarning: Found more than one class \"phylo\" in cache; using the first, from namespace 'phyloseq'\n",
      "\n",
      "  res = super(Function, self).__call__(*new_args, **new_kwargs)\n"
     ]
    }
   ],
   "source": [
    "%%R\n",
    "colnames(tax_table(physeq.Full)) = c(\"Kingdom\" ,\"Phylum\"  ,\"Class\",   \"Order\",   \"Family\",  \"Genus\" ,  \"Species\", \"Rank8\")"
   ]
  },
  {
   "cell_type": "markdown",
   "metadata": {},
   "source": [
    "# Merge taxa at different branch lengths"
   ]
  },
  {
   "cell_type": "code",
   "execution_count": 30,
   "metadata": {
    "collapsed": false
   },
   "outputs": [],
   "source": [
    "%%R \n",
    "#Tau D from consenTRAIT = 0.02, which is the ratio of clade branch length/ mean(root to clade tip)\n",
    "# Necessary to translate into an absolute branch length distance by calculating average root to tip distance\n",
    "# then multiply .02 by average root-tip length\n",
    "Tree = phy_tree(physeq.Full)\n",
    "BLs = distRoot(Tree, method=c(\"patristic\"))"
   ]
  },
  {
   "cell_type": "code",
   "execution_count": 40,
   "metadata": {
    "collapsed": false,
    "scrolled": true
   },
   "outputs": [
    {
     "data": {
      "text/plain": [
       "Average distance to root:  0.56992617824167 \n",
       " Range of distance to root:  0.13224 1.27632"
      ]
     },
     "metadata": {},
     "output_type": "display_data"
    }
   ],
   "source": [
    "%%R\n",
    "cat(\"Average distance to root: \", as.character(mean(BLs)), \"\\n\", \n",
    "    \"Range of distance to root: \", as.character(range(BLs)))\n",
    "#Tree$edge.length = Tree$edge.length * "
   ]
  },
  {
   "cell_type": "code",
   "execution_count": 44,
   "metadata": {
    "collapsed": false
   },
   "outputs": [
    {
     "data": {
      "text/plain": [
       "function (physeq, h = 0.2, hcfun = agnes, ...) \n",
       "{\n",
       "    dd = as.dist(cophenetic.phylo(phy_tree(physeq)))\n",
       "    psclust = cutree(as.hclust(hcfun(dd, ...)), h = h)\n",
       "    cliques = levels(factor(psclust))[tapply(psclust, factor(psclust), \n",
       "        function(x) {\n",
       "            length(x) > 1\n",
       "        })]\n",
       "    for (i in cliques) {\n",
       "        physeq = merge_taxa(physeq, eqtaxa = names(psclust)[psclust == \n",
       "            i])\n",
       "    }\n",
       "    return(physeq)\n",
       "}\n",
       "<environment: namespace:phyloseq>\n"
      ]
     },
     "metadata": {},
     "output_type": "display_data"
    }
   ],
   "source": [
    "%%R\n",
    "# methods(phyloseq::tip_glom)\n",
    "# princomp # this is what you did without having a good enough answer\n",
    "# methods(princomp) # Next step, ask for the method: 'princomp.default'\n",
    "# getAnywhere('princomp.default') # this will show you the code\n",
    "tip_glom"
   ]
  },
  {
   "cell_type": "code",
   "execution_count": 8,
   "metadata": {
    "collapsed": false,
    "scrolled": true
   },
   "outputs": [
    {
     "data": {
      "text/plain": [
       "phyloseq-class experiment-level object\n",
       "otu_table()   OTU Table:         [ 4957 taxa and 238 samples ]\n",
       "sample_data() Sample Data:       [ 238 samples by 49 sample variables ]\n",
       "tax_table()   Taxonomy Table:    [ 4957 taxa by 8 taxonomic ranks ]\n",
       "phy_tree()    Phylogenetic Tree: [ 4957 tips and 4956 internal nodes ]\n"
      ]
     },
     "metadata": {},
     "output_type": "display_data"
    }
   ],
   "source": [
    "%%R\n",
    "physeq.tipg = tip_glom(physeq.Full, h = 0.02)\n",
    "physeq.tipg"
   ]
  },
  {
   "cell_type": "code",
   "execution_count": 9,
   "metadata": {
    "collapsed": true
   },
   "outputs": [],
   "source": [
    "%%R -i workDir\n",
    "outFile = file.path(\"/home/bryan/RhizCG/data/MiSeq_amplicon/MergedRuns/physeq/FullSparsity3-3_merged02\")\n",
    "saveRDS(physeq.tipg, outFile)"
   ]
  },
  {
   "cell_type": "code",
   "execution_count": 9,
   "metadata": {
    "collapsed": false,
    "scrolled": false
   },
   "outputs": [
    {
     "data": {
      "text/plain": [
       "phyloseq-class experiment-level object\n",
       "otu_table()   OTU Table:         [ 1448 taxa and 238 samples ]\n",
       "sample_data() Sample Data:       [ 238 samples by 49 sample variables ]\n",
       "tax_table()   Taxonomy Table:    [ 1448 taxa by 8 taxonomic ranks ]\n",
       "phy_tree()    Phylogenetic Tree: [ 1448 tips and 1447 internal nodes ]\n"
      ]
     },
     "metadata": {},
     "output_type": "display_data"
    }
   ],
   "source": [
    "%%R\n",
    "# physeq.tipg1 = tip_glom(physeq.Full, h = 0.1)\n",
    "# physeq.tipg1"
   ]
  },
  {
   "cell_type": "code",
   "execution_count": 14,
   "metadata": {
    "collapsed": true
   },
   "outputs": [],
   "source": [
    "%%R -i workDir\n",
    "# outFile = file.path(\"/home/bryan/RhizCG/data/MiSeq_amplicon/MergedRuns/physeq/FullSparsity3-3_merged1\")\n",
    "# saveRDS(physeq.tipg1, outFile)"
   ]
  },
  {
   "cell_type": "code",
   "execution_count": 10,
   "metadata": {
    "collapsed": false,
    "hide_input": true,
    "scrolled": true
   },
   "outputs": [
    {
     "data": {
      "text/plain": [
       "phyloseq-class experiment-level object\n",
       "otu_table()   OTU Table:         [ 575 taxa and 238 samples ]\n",
       "sample_data() Sample Data:       [ 238 samples by 49 sample variables ]\n",
       "tax_table()   Taxonomy Table:    [ 575 taxa by 8 taxonomic ranks ]\n",
       "phy_tree()    Phylogenetic Tree: [ 575 tips and 574 internal nodes ]\n"
      ]
     },
     "metadata": {},
     "output_type": "display_data"
    }
   ],
   "source": [
    "%%R\n",
    "# physeq.tipg2 = tip_glom(physeq.Full, h = 0.2)\n",
    "# physeq.tipg2"
   ]
  },
  {
   "cell_type": "code",
   "execution_count": 15,
   "metadata": {
    "collapsed": true
   },
   "outputs": [],
   "source": [
    "%%R -i workDir\n",
    "# outFile = file.path(\"/home/bryan/RhizCG/data/MiSeq_amplicon/MergedRuns/physeq/FullSparsity3-3_merged2\")\n",
    "# saveRDS(physeq.tipg2, outFile)"
   ]
  },
  {
   "cell_type": "code",
   "execution_count": 11,
   "metadata": {
    "collapsed": false,
    "scrolled": true
   },
   "outputs": [
    {
     "data": {
      "text/plain": [
       "phyloseq-class experiment-level object\n",
       "otu_table()   OTU Table:         [ 294 taxa and 238 samples ]\n",
       "sample_data() Sample Data:       [ 238 samples by 49 sample variables ]\n",
       "tax_table()   Taxonomy Table:    [ 294 taxa by 8 taxonomic ranks ]\n",
       "phy_tree()    Phylogenetic Tree: [ 294 tips and 293 internal nodes ]\n"
      ]
     },
     "metadata": {},
     "output_type": "display_data"
    }
   ],
   "source": [
    "%%R\n",
    "# physeq.tipg3 = tip_glom(physeq.Full, h = 0.3)\n",
    "# physeq.tipg3"
   ]
  },
  {
   "cell_type": "code",
   "execution_count": 16,
   "metadata": {
    "collapsed": true
   },
   "outputs": [],
   "source": [
    "%%R -i workDir\n",
    "# outFile = file.path(\"/home/bryan/RhizCG/data/MiSeq_amplicon/MergedRuns/physeq/FullSparsity3-3_merged3\")\n",
    "# saveRDS(physeq.tipg3, outFile)"
   ]
  },
  {
   "cell_type": "code",
   "execution_count": 12,
   "metadata": {
    "collapsed": true
   },
   "outputs": [],
   "source": [
    "%%R\n",
    "physeq.Full = NULL\n",
    "physeq.tip.g = NULL"
   ]
  },
  {
   "cell_type": "markdown",
   "metadata": {},
   "source": [
    "# Checkpoint read in merged files and continue from here"
   ]
  },
  {
   "cell_type": "code",
   "execution_count": 10,
   "metadata": {
    "collapsed": false
   },
   "outputs": [],
   "source": [
    "%%R\n",
    "physeq.tip.02 = readRDS(\"/home/bryan/RhizCG/data/MiSeq_amplicon/MergedRuns/physeq/FullSparsity3-3_merged02\")\n",
    "# physeq.tip.1 = readRDS(\"/home/bryan/RhizCG/data/MiSeq_amplicon/MergedRuns/physeq/FullSparsity3-3_merged1\")\n",
    "# physeq.tip.2 = readRDS(\"/home/bryan/RhizCG/data/MiSeq_amplicon/MergedRuns/physeq/FullSparsity3-3_merged2\")\n",
    "# physeq.tip.3 = readRDS(\"/home/bryan/RhizCG/data/MiSeq_amplicon/MergedRuns/physeq/FullSparsity3-3_merged3\")"
   ]
  },
  {
   "cell_type": "code",
   "execution_count": 14,
   "metadata": {
    "collapsed": false
   },
   "outputs": [
    {
     "data": {
      "text/plain": [
       "Taxonomy Table:     [6 taxa by 8 taxonomic ranks]:\n",
       "         Kingdom    Phylum          Class                 \n",
       "OTU.4087 \"Bacteria\" \"TM6\"           \"uncultured_bacterium\"\n",
       "OTU.2009 \"Bacteria\" \"TM6\"           \"uncultured_bacterium\"\n",
       "OTU.5899 \"Bacteria\" \"Acidobacteria\" \"32-21\"               \n",
       "OTU.4181 \"Bacteria\" \"Elusimicrobia\" \"Lineage_IIa\"         \n",
       "OTU.3052 \"Bacteria\" \"Elusimicrobia\" \"Lineage_IIa\"         \n",
       "OTU.1890 \"Bacteria\" \"Elusimicrobia\" \"Lineage_IIb\"         \n",
       "         Order                       Family Genus Species Rank8\n",
       "OTU.4087 NA                          NA     NA    NA      NA   \n",
       "OTU.2009 NA                          NA     NA    NA      NA   \n",
       "OTU.5899 \"uncultured_bacterium\"      NA     NA    NA      NA   \n",
       "OTU.4181 \"uncultured_bacterium\"      NA     NA    NA      NA   \n",
       "OTU.3052 \"uncultured_soil_bacterium\" NA     NA    NA      NA   \n",
       "OTU.1890 \"uncultured_bacterium\"      NA     NA    NA      NA   \n"
      ]
     },
     "metadata": {},
     "output_type": "display_data"
    }
   ],
   "source": [
    "%%R\n",
    "tax_table(physeq.tip.02) %>% head"
   ]
  },
  {
   "cell_type": "code",
   "execution_count": 21,
   "metadata": {
    "collapsed": false
   },
   "outputs": [],
   "source": [
    "%%R -h 2400 -w 800\n",
    "Firm = subset_taxa(physeq.tip.02, Phylum == \"Firmicutes\")\n",
    "plot_tree(Firm, color = \"Type\", label.tips = \"Genus\", \n",
    "          size = \"abundance\", plot.margin = 0.5, ladderize = TRUE)"
   ]
  },
  {
   "cell_type": "code",
   "execution_count": 22,
   "metadata": {
    "collapsed": false
   },
   "outputs": [
    {
     "data": {
      "text/plain": [
       "Taxonomy Table:     [6 taxa by 8 taxonomic ranks]:\n",
       "          Kingdom    Phylum       Class     Order       \n",
       "OTU.2934  \"Bacteria\" \"Firmicutes\" \"Bacilli\" \"Bacillales\"\n",
       "OTU.1390  \"Bacteria\" \"Firmicutes\" \"Bacilli\" \"Bacillales\"\n",
       "OTU.10384 \"Bacteria\" \"Firmicutes\" \"Bacilli\" \"Bacillales\"\n",
       "OTU.6333  \"Bacteria\" \"Firmicutes\" \"Bacilli\" \"Bacillales\"\n",
       "OTU.6941  \"Bacteria\" \"Firmicutes\" \"Bacilli\" \"Bacillales\"\n",
       "OTU.6839  \"Bacteria\" \"Firmicutes\" \"Bacilli\" \"Bacillales\"\n",
       "          Family                   Genus           Species                \n",
       "OTU.2934  \"Thermoactinomycetaceae\" \"Shimazuella\"   \"uncultured_bacterium\" \n",
       "OTU.1390  \"Bacillaceae\"            \"Bacillus\"      \"Bacillus_boroniphilus\"\n",
       "OTU.10384 \"Bacillaceae\"            \"Bacillus\"      NA                     \n",
       "OTU.6333  \"Bacillaceae\"            \"Bacillus\"      \"uncultured_bacterium\" \n",
       "OTU.6941  \"Bacillaceae\"            \"Terribacillus\" \"uncultured_bacterium\" \n",
       "OTU.6839  \"Bacillaceae\"            \"Bacillus\"      \"Bacillus_pumilus\"     \n",
       "          Rank8\n",
       "OTU.2934  NA   \n",
       "OTU.1390  NA   \n",
       "OTU.10384 NA   \n",
       "OTU.6333  NA   \n",
       "OTU.6941  NA   \n",
       "OTU.6839  NA   \n"
      ]
     },
     "metadata": {},
     "output_type": "display_data"
    }
   ],
   "source": [
    "%%R\n",
    "tax_table(Firm) %>% head"
   ]
  },
  {
   "cell_type": "code",
   "execution_count": 42,
   "metadata": {
    "collapsed": false,
    "scrolled": true
   },
   "outputs": [],
   "source": [
    "%%R\n",
    "# #0.05\n",
    "#     #re-order levels \n",
    "#     sample_data(physeq.tip.05)$Plant = relevel(sample_data(physeq.tip.05)$Plant, \"BARE\")\n",
    "\n",
    "#     #Set DAP as factor\n",
    "#     sample_data(physeq.tip.05)$DAP = factor(sample_data(physeq.tip.05)$DAP) \n",
    "  \n",
    "\n",
    "# #0.1\n",
    "#     #re-order levels \n",
    "#     sample_data(physeq.tip.1)$Plant = relevel(sample_data(physeq.tip.1)$Plant, \"BARE\")\n",
    "\n",
    "#     #Set DAP as factor\n",
    "#     sample_data(physeq.tip.1)$DAP = factor(sample_data(physeq.tip.1)$DAP) \n",
    "    \n",
    "   \n",
    "# #0.2\n",
    "#     #re-order levels \n",
    "#     sample_data(physeq.tip.2)$Plant = relevel(sample_data(physeq.tip.2)$Plant, \"BARE\")\n",
    "\n",
    "#     #Set DAP as factor\n",
    "#     sample_data(physeq.tip.2)$DAP = factor(sample_data(physeq.tip.2)$DAP) \n",
    "    \n",
    "# #0.3\n",
    "#     #re-order levels \n",
    "#     sample_data(physeq.tip.3)$Plant = relevel(sample_data(physeq.tip.3)$Plant, \"BARE\")\n",
    "\n",
    "#     #Set DAP as factor\n",
    "#     sample_data(physeq.tip.3)$DAP = factor(sample_data(physeq.tip.3)$DAP)"
   ]
  },
  {
   "cell_type": "markdown",
   "metadata": {},
   "source": [
    "# Create DeSeq2 object"
   ]
  },
  {
   "cell_type": "markdown",
   "metadata": {
    "collapsed": true
   },
   "source": [
    "# Function generating plant log2fold change figure"
   ]
  },
  {
   "cell_type": "code",
   "execution_count": 24,
   "metadata": {
    "collapsed": true
   },
   "outputs": [],
   "source": [
    "%%R\n",
    "\n",
    "asNumeric = function(x) { as.numeric(as.character(x)) }\n",
    "\n",
    "get_Ps = function(physeq.obj) {\n",
    "    diagdds = phyloseq_to_deseq2(physeq.obj, ~Plant)\n",
    "    diagdds = DESeq(diagdds, quiet = TRUE, parallel = TRUE)\n",
    "    theta = 0.5\n",
    "    r = results(diagdds)\n",
    "    beta = r$log2FoldChange\n",
    "    betaSE = r$lfcSE\n",
    "    p = pnorm(beta, theta, betaSE, lower.tail = FALSE)\n",
    "    r$p = p\n",
    "    return(r[, c(\"log2FoldChange\", \"p\")])\n",
    "}\n",
    "\n",
    "#Function to trim physeq object to just samples to include in Deseq analysis\n",
    "deseq_prune = function(physeq.obj, plant, day) {\n",
    "    physeq.md = sample_data(physeq.obj)\n",
    "    p = prune_samples((physeq.md$Plant %in% c(\"BARE\", plant))&\n",
    "                     (physeq.md$DAP == day), physeq.obj)\n",
    "    p.thresh = filter_taxa(p, function(x) sum(x > 0) > 0, TRUE)\n",
    "    return(p.thresh)\n",
    "}\n"
   ]
  },
  {
   "cell_type": "markdown",
   "metadata": {},
   "source": [
    "## 0.05 Tip glom loop through sampling dates to compare enrichment in rhizosphere to bare soil"
   ]
  },
  {
   "cell_type": "code",
   "execution_count": 25,
   "metadata": {
    "collapsed": false
   },
   "outputs": [],
   "source": [
    "%%R -w 1200 -h 600\n",
    "\n",
    "# phy = physeq.tip.05\n",
    "\n",
    "# Sd = sample_data(phy)\n",
    "\n",
    "# days = levels(Sd$DAP)\n",
    "# res.list = vector(\"list\", length(days))\n",
    "# names(res.list) = as.character(days)\n",
    "# res.list\n",
    "\n",
    "# df_all = data.frame()\n",
    "# df_plant = data.frame()\n",
    "\n",
    "# for (day in days) {\n",
    "#     #print(day) ##need to remove\n",
    "#     Sd.d = Sd[Sd$DAP == day,]\n",
    "#     Sd.d = Sd.d[Sd.d$Plant != \"BARE\"]\n",
    "#     Plants = levels(Sd.d$Plant) \n",
    "#     #Plants %>% print\n",
    "    \n",
    "#     res.list.list = NULL        \n",
    "#     res.list.list = vector(\"list\", length(Plants))\n",
    "#     names(res.list) = Plants\n",
    "    \n",
    "    \n",
    "#     for (plant in Plants) {\n",
    "#         DF = NULL\n",
    "        \n",
    "#         #Trim physeq object by to day-plant combo \n",
    "#         physeq.plant = deseq_prune(phy, plant, day)\n",
    "        \n",
    "#         #re-order levels \n",
    "#         sample_data(physeq.plant)$Plant = relevel(sample_data(physeq.plant)$Plant, \"BARE\")\n",
    "        \n",
    "#         #convert to deseq using function above\n",
    "#         DF = get_Ps(physeq.plant)\n",
    "        \n",
    "#         supp = tax_table(physeq.plant)\n",
    "#             if (!setequal(row.names(DF), row.names(supp))) {\n",
    "#             stop(\"Ordination and supplementary data indices differ on the following:\\n.\",\n",
    "#             setdiff(row.names(DF), row.names(supp)))\n",
    "#         }  \n",
    "   \n",
    "#         DF = data.frame(DF, supp)\n",
    "#         DF$OTU = rownames(DF)\n",
    "#         DF$Day = day\n",
    "#         DF$Plant = plant\n",
    "#         df_plant = rbind(df_plant, DF)     \n",
    "#     }\n",
    "\n",
    "# }\n",
    "# df_all = df_plant  "
   ]
  },
  {
   "cell_type": "code",
   "execution_count": 29,
   "metadata": {
    "collapsed": false,
    "scrolled": true
   },
   "outputs": [
    {
     "data": {
      "text/plain": [
       "[1] 63404    13\n",
       " [1] <NA>                                          \n",
       " [2] uncultured_bacterium                          \n",
       " [3] uncultured_Verrucomicrobia_bacterium          \n",
       " [4] Candidatus                                    \n",
       " [5] uncultured_planctomycete                      \n",
       " [6] uncultured_Planctomycetales_bacterium         \n",
       " [7] uncultured_prokaryote                         \n",
       " [8] uncultured_Planctomyces_sp.                   \n",
       " [9] uncultured_Planctomycetaceae_bacterium        \n",
       "[10] uncultured_Bacteroidetes_bacterium            \n",
       "[11] Bacillus                                      \n",
       "[12] Sphaerobacteraceae                            \n",
       "[13] uncultured_Chloroflexi_bacterium              \n",
       "[14] uncultured_Caldilinea_sp.                     \n",
       "[15] uncultured_soil_bacterium                     \n",
       "[16] uncultured_actinobacterium                    \n",
       "[17] uncultured_Actinomycetales_bacterium          \n",
       "[18] Anaeromyxobacter                              \n",
       "[19] uncultured_delta_proteobacterium              \n",
       "[20] Phaselicystis                                 \n",
       "[21] Sandaracinus                                  \n",
       "[22] Sorangium                                     \n",
       "[23] Byssovorax                                    \n",
       "[24] Chondromyces                                  \n",
       "[25] uncultured_Polyangiaceae_bacterium            \n",
       "[26] uncultured_Cystobacteraceae_bacterium         \n",
       "[27] Haliangium                                    \n",
       "[28] Nannocystis                                   \n",
       "[29] Enhygromyxa                                   \n",
       "[30] uncultured_gamma_proteobacterium              \n",
       "[31] uncultured_Aquicella_sp.                      \n",
       "[32] uncultured_Pseudomonadales_bacterium          \n",
       "[33] uncultured_beta_proteobacterium               \n",
       "[34] uncultured_Sphingomonas_sp.                   \n",
       "[35] Asticcacaulis_excentricus                     \n",
       "[36] uncultured_alpha_proteobacterium              \n",
       "[37] uncultured_Acetobacteraceae_bacterium         \n",
       "[38] uncultured_Nitrospira_sp.                     \n",
       "[39] uncultured_Candidatus_Entotheonella_sp.       \n",
       "[40] bacterium_endosymbiont_of_Mortierella_elongata\n",
       "39 Levels: Anaeromyxobacter Asticcacaulis_excentricus Bacillus ... bacterium_endosymbiont_of_Mortierella_elongata\n"
      ]
     },
     "metadata": {},
     "output_type": "display_data"
    }
   ],
   "source": [
    "%%R\n",
    "# dim(df_all) %>% print\n",
    "# Otu_sel = df_all$OTU == \"OTU.5899\"\n",
    "# Otest = df_all[Otu_sel,]\n",
    "# Otest"
   ]
  },
  {
   "cell_type": "code",
   "execution_count": 30,
   "metadata": {
    "collapsed": false
   },
   "outputs": [],
   "source": [
    "%%R -i workDir\n",
    "# df_all$p.adj = p.adjust(df_all$p, \"BH\")\n",
    "# setwd(workDir)\n",
    "# write.table(df_all, \"bare-plant-tip-05.csv\", row.names = FALSE, sep = \",\")"
   ]
  },
  {
   "cell_type": "markdown",
   "metadata": {},
   "source": [
    "## 0.1 Tip glom loop through sampling dates to compare enrichment in rhizosphere to bare soil"
   ]
  },
  {
   "cell_type": "code",
   "execution_count": 31,
   "metadata": {
    "collapsed": false,
    "hide_input": true
   },
   "outputs": [],
   "source": [
    "%%R -w 1200 -h 600\n",
    "\n",
    "# phy = physeq.tip.1\n",
    "\n",
    "# Sd = sample_data(phy)\n",
    "\n",
    "# days = levels(Sd$DAP)\n",
    "# res.list = vector(\"list\", length(days))\n",
    "# names(res.list) = as.character(days)\n",
    "# res.list\n",
    "\n",
    "# df_all = data.frame()\n",
    "# df_plant = data.frame()\n",
    "\n",
    "# for (day in days) {\n",
    "#     #print(day) ##need to remove\n",
    "#     Sd.d = Sd[Sd$DAP == day,]\n",
    "#     Sd.d = Sd.d[Sd.d$Plant != \"BARE\"]\n",
    "#     Plants = levels(Sd.d$Plant) \n",
    "#     #Plants %>% print\n",
    "    \n",
    "#     res.list.list = NULL        \n",
    "#     res.list.list = vector(\"list\", length(Plants))\n",
    "#     names(res.list) = Plants\n",
    "    \n",
    "    \n",
    "#     for (plant in Plants) {\n",
    "#         DF = NULL\n",
    "        \n",
    "#         #Trim physeq object by to day-plant combo \n",
    "#         physeq.plant = deseq_prune(phy, plant, day)\n",
    "        \n",
    "#         #re-order levels \n",
    "#         sample_data(physeq.plant)$Plant = relevel(sample_data(physeq.plant)$Plant, \"BARE\")\n",
    "        \n",
    "#         #convert to deseq using function above\n",
    "#         DF = get_Ps(physeq.plant)\n",
    "        \n",
    "#         supp = tax_table(physeq.plant)\n",
    "#             if (!setequal(row.names(DF), row.names(supp))) {\n",
    "#             stop(\"Ordination and supplementary data indices differ on the following:\\n.\",\n",
    "#             setdiff(row.names(DF), row.names(supp)))\n",
    "#         }  \n",
    "   \n",
    "#         DF = data.frame(DF, supp)\n",
    "#         DF$OTU = rownames(DF)\n",
    "#         DF$Day = day\n",
    "#         DF$Plant = plant\n",
    "#         df_plant = rbind(df_plant, DF)     \n",
    "#     }\n",
    "\n",
    "# }\n",
    "# df_all = df_plant  "
   ]
  },
  {
   "cell_type": "code",
   "execution_count": 33,
   "metadata": {
    "collapsed": false,
    "hide_input": true,
    "scrolled": true
   },
   "outputs": [
    {
     "data": {
      "text/plain": [
       "[1] 31309    13\n",
       "           log2FoldChange          p  Kingdom        Phylum Class\n",
       "OTU.5899       -1.1558629 0.94827234 Bacteria Acidobacteria 32-21\n",
       "OTU.58991      -0.5090134 0.75089298 Bacteria Acidobacteria 32-21\n",
       "OTU.58992       0.4946756 0.50138048 Bacteria Acidobacteria 32-21\n",
       "OTU.58993      -0.4211565 0.74587131 Bacteria Acidobacteria 32-21\n",
       "OTU.58994      -0.7354714 0.78838014 Bacteria Acidobacteria 32-21\n",
       "OTU.58995       0.0762786 0.66014154 Bacteria Acidobacteria 32-21\n",
       "OTU.58996      -0.4011156 0.81136445 Bacteria Acidobacteria 32-21\n",
       "OTU.58997      -0.9675814 0.90048286 Bacteria Acidobacteria 32-21\n",
       "OTU.58998      -1.6505206 0.96606674 Bacteria Acidobacteria 32-21\n",
       "OTU.58999      -0.9181720 0.89708121 Bacteria Acidobacteria 32-21\n",
       "OTU.589910     -1.8029794 0.97894364 Bacteria Acidobacteria 32-21\n",
       "OTU.589911      2.2936071 0.02868157 Bacteria Acidobacteria 32-21\n",
       "OTU.589912      0.9225574 0.35759795 Bacteria Acidobacteria 32-21\n",
       "OTU.589913      0.5566254 0.48416370 Bacteria Acidobacteria 32-21\n",
       "OTU.589914      0.3109502 0.55963467 Bacteria Acidobacteria 32-21\n",
       "OTU.589915     -1.0920388 0.83939431 Bacteria Acidobacteria 32-21\n",
       "OTU.589916     -2.0526422 0.94978552 Bacteria Acidobacteria 32-21\n",
       "OTU.589917     -2.0993963 0.94648445 Bacteria Acidobacteria 32-21\n",
       "OTU.589918     -0.6844052 0.72119307 Bacteria Acidobacteria 32-21\n",
       "OTU.589919      0.7642378 0.43521888 Bacteria Acidobacteria 32-21\n",
       "OTU.589920      0.9568005 0.39385580 Bacteria Acidobacteria 32-21\n",
       "OTU.589921     -0.9476212 0.81239063 Bacteria Acidobacteria 32-21\n",
       "                          Order Family Genus Species Rank8      OTU Day  Plant\n",
       "OTU.5899   uncultured_bacterium   <NA>  <NA>    <NA>  <NA> OTU.5899  36  FAGES\n",
       "OTU.58991  uncultured_bacterium   <NA>  <NA>    <NA>  <NA> OTU.5899  53  AMAPO\n",
       "OTU.58992  uncultured_bacterium   <NA>  <NA>    <NA>  <NA> OTU.5899  53  ECHCG\n",
       "OTU.58993  uncultured_bacterium   <NA>  <NA>    <NA>  <NA> OTU.5899  57  ABUTH\n",
       "OTU.58994  uncultured_bacterium   <NA>  <NA>    <NA>  <NA> OTU.5899  57  GLYMA\n",
       "OTU.58995  uncultured_bacterium   <NA>  <NA>    <NA>  <NA> OTU.5899  61  SETFA\n",
       "OTU.58996  uncultured_bacterium   <NA>  <NA>    <NA>  <NA> OTU.5899  72 75-062\n",
       "OTU.58997  uncultured_bacterium   <NA>  <NA>    <NA>  <NA> OTU.5899  72  ERATE\n",
       "OTU.58998  uncultured_bacterium   <NA>  <NA>    <NA>  <NA> OTU.5899  72    H99\n",
       "OTU.58999  uncultured_bacterium   <NA>  <NA>    <NA>  <NA> OTU.5899  72  Il14H\n",
       "OTU.589910 uncultured_bacterium   <NA>  <NA>    <NA>  <NA> OTU.5899  72   MS71\n",
       "OTU.589911 uncultured_bacterium   <NA>  <NA>    <NA>  <NA> OTU.5899  79    B73\n",
       "OTU.589912 uncultured_bacterium   <NA>  <NA>    <NA>  <NA> OTU.5899  79    B97\n",
       "OTU.589913 uncultured_bacterium   <NA>  <NA>    <NA>  <NA> OTU.5899  79  Hp301\n",
       "OTU.589914 uncultured_bacterium   <NA>  <NA>    <NA>  <NA> OTU.5899  79   Oh7B\n",
       "OTU.589915 uncultured_bacterium   <NA>  <NA>    <NA>  <NA> OTU.5899  84  HELAN\n",
       "OTU.589916 uncultured_bacterium   <NA>  <NA>    <NA>  <NA> OTU.5899  84  SORBI\n",
       "OTU.589917 uncultured_bacterium   <NA>  <NA>    <NA>  <NA> OTU.5899  84 SORSUD\n",
       "OTU.589918 uncultured_bacterium   <NA>  <NA>    <NA>  <NA> OTU.5899  88  ELCOR\n",
       "OTU.589919 uncultured_bacterium   <NA>  <NA>    <NA>  <NA> OTU.5899  88    Ki3\n",
       "OTU.589920 uncultured_bacterium   <NA>  <NA>    <NA>  <NA> OTU.5899  88   Mo18\n",
       "OTU.589921 uncultured_bacterium   <NA>  <NA>    <NA>  <NA> OTU.5899  88  Tx303\n"
      ]
     },
     "metadata": {},
     "output_type": "display_data"
    }
   ],
   "source": [
    "%%R\n",
    "dim(df_all) %>% print\n",
    "Otu_sel = df_all$OTU == \"OTU.5899\"\n",
    "Otest = df_all[Otu_sel,]\n",
    "Otest"
   ]
  },
  {
   "cell_type": "code",
   "execution_count": 34,
   "metadata": {
    "collapsed": false,
    "hide_input": false
   },
   "outputs": [],
   "source": [
    "%%R -i workDir\n",
    "# df_all$p.adj = p.adjust(df_all$p, \"BH\")\n",
    "# setwd(workDir)\n",
    "# write.table(df_all, \"bare-plant-tip-1.csv\", row.names = FALSE, sep = \",\")"
   ]
  },
  {
   "cell_type": "markdown",
   "metadata": {},
   "source": [
    "## 0.2 Tip glom loop through sampling dates to compare enrichment in rhizosphere to bare soil"
   ]
  },
  {
   "cell_type": "code",
   "execution_count": 35,
   "metadata": {
    "collapsed": false,
    "hide_input": true
   },
   "outputs": [],
   "source": [
    "%%R -w 1200 -h 600\n",
    "\n",
    "# phy = physeq.tip.2\n",
    "\n",
    "# Sd = sample_data(phy)\n",
    "\n",
    "# days = levels(Sd$DAP)\n",
    "# res.list = vector(\"list\", length(days))\n",
    "# names(res.list) = as.character(days)\n",
    "# res.list\n",
    "\n",
    "# df_all = data.frame()\n",
    "# df_plant = data.frame()\n",
    "\n",
    "# for (day in days) {\n",
    "#     #print(day) ##need to remove\n",
    "#     Sd.d = Sd[Sd$DAP == day,]\n",
    "#     Sd.d = Sd.d[Sd.d$Plant != \"BARE\"]\n",
    "#     Plants = levels(Sd.d$Plant) \n",
    "#     #Plants %>% print\n",
    "    \n",
    "#     res.list.list = NULL        \n",
    "#     res.list.list = vector(\"list\", length(Plants))\n",
    "#     names(res.list) = Plants\n",
    "    \n",
    "    \n",
    "#     for (plant in Plants) {\n",
    "#         DF = NULL\n",
    "        \n",
    "#         #Trim physeq object by to day-plant combo \n",
    "#         physeq.plant = deseq_prune(phy, plant, day)\n",
    "        \n",
    "#         #re-order levels \n",
    "#         sample_data(physeq.plant)$Plant = relevel(sample_data(physeq.plant)$Plant, \"BARE\")\n",
    "        \n",
    "#         #convert to deseq using function above\n",
    "#         DF = get_Ps(physeq.plant)\n",
    "        \n",
    "#         supp = tax_table(physeq.plant)\n",
    "#             if (!setequal(row.names(DF), row.names(supp))) {\n",
    "#             stop(\"Ordination and supplementary data indices differ on the following:\\n.\",\n",
    "#             setdiff(row.names(DF), row.names(supp)))\n",
    "#         }  \n",
    "   \n",
    "#         DF = data.frame(DF, supp)\n",
    "#         DF$OTU = rownames(DF)\n",
    "#         DF$Day = day\n",
    "#         DF$Plant = plant\n",
    "#         df_plant = rbind(df_plant, DF)     \n",
    "#     }\n",
    "\n",
    "# }\n",
    "# df_all = df_plant  "
   ]
  },
  {
   "cell_type": "code",
   "execution_count": 36,
   "metadata": {
    "collapsed": false,
    "hide_input": true,
    "scrolled": true
   },
   "outputs": [
    {
     "data": {
      "text/plain": [
       "[1] 12469    13\n",
       "           log2FoldChange          p  Kingdom        Phylum Class\n",
       "OTU.5899       -1.0917501 0.94976516 Bacteria Acidobacteria 32-21\n",
       "OTU.58991      -0.4138098 0.73391993 Bacteria Acidobacteria 32-21\n",
       "OTU.58992       0.6139815 0.47082362 Bacteria Acidobacteria 32-21\n",
       "OTU.58993      -0.2165775 0.69313877 Bacteria Acidobacteria 32-21\n",
       "OTU.58994      -0.6150101 0.76989996 Bacteria Acidobacteria 32-21\n",
       "OTU.58995       0.1550583 0.63276820 Bacteria Acidobacteria 32-21\n",
       "OTU.58996      -0.3826411 0.80604798 Bacteria Acidobacteria 32-21\n",
       "OTU.58997      -0.9284593 0.89208945 Bacteria Acidobacteria 32-21\n",
       "OTU.58998      -1.5298412 0.96220088 Bacteria Acidobacteria 32-21\n",
       "OTU.58999      -0.9274331 0.89788975 Bacteria Acidobacteria 32-21\n",
       "OTU.589910     -1.7330500 0.98030578 Bacteria Acidobacteria 32-21\n",
       "OTU.589911      2.2465203 0.03356258 Bacteria Acidobacteria 32-21\n",
       "OTU.589912      0.8813153 0.36761719 Bacteria Acidobacteria 32-21\n",
       "OTU.589913      0.5707265 0.47940396 Bacteria Acidobacteria 32-21\n",
       "OTU.589914      0.3217395 0.55807225 Bacteria Acidobacteria 32-21\n",
       "OTU.589915     -0.7954996 0.80110373 Bacteria Acidobacteria 32-21\n",
       "OTU.589916     -1.8730817 0.94499864 Bacteria Acidobacteria 32-21\n",
       "OTU.589917     -1.7320711 0.93800674 Bacteria Acidobacteria 32-21\n",
       "OTU.589918     -0.6877078 0.73170141 Bacteria Acidobacteria 32-21\n",
       "OTU.589919      0.6845837 0.44471845 Bacteria Acidobacteria 32-21\n",
       "OTU.589920      0.9152284 0.38876010 Bacteria Acidobacteria 32-21\n",
       "OTU.589921     -0.8466895 0.82088491 Bacteria Acidobacteria 32-21\n",
       "                          Order Family Genus Species Rank8      OTU Day  Plant\n",
       "OTU.5899   uncultured_bacterium   <NA>  <NA>    <NA>  <NA> OTU.5899  36  FAGES\n",
       "OTU.58991  uncultured_bacterium   <NA>  <NA>    <NA>  <NA> OTU.5899  53  AMAPO\n",
       "OTU.58992  uncultured_bacterium   <NA>  <NA>    <NA>  <NA> OTU.5899  53  ECHCG\n",
       "OTU.58993  uncultured_bacterium   <NA>  <NA>    <NA>  <NA> OTU.5899  57  ABUTH\n",
       "OTU.58994  uncultured_bacterium   <NA>  <NA>    <NA>  <NA> OTU.5899  57  GLYMA\n",
       "OTU.58995  uncultured_bacterium   <NA>  <NA>    <NA>  <NA> OTU.5899  61  SETFA\n",
       "OTU.58996  uncultured_bacterium   <NA>  <NA>    <NA>  <NA> OTU.5899  72 75-062\n",
       "OTU.58997  uncultured_bacterium   <NA>  <NA>    <NA>  <NA> OTU.5899  72  ERATE\n",
       "OTU.58998  uncultured_bacterium   <NA>  <NA>    <NA>  <NA> OTU.5899  72    H99\n",
       "OTU.58999  uncultured_bacterium   <NA>  <NA>    <NA>  <NA> OTU.5899  72  Il14H\n",
       "OTU.589910 uncultured_bacterium   <NA>  <NA>    <NA>  <NA> OTU.5899  72   MS71\n",
       "OTU.589911 uncultured_bacterium   <NA>  <NA>    <NA>  <NA> OTU.5899  79    B73\n",
       "OTU.589912 uncultured_bacterium   <NA>  <NA>    <NA>  <NA> OTU.5899  79    B97\n",
       "OTU.589913 uncultured_bacterium   <NA>  <NA>    <NA>  <NA> OTU.5899  79  Hp301\n",
       "OTU.589914 uncultured_bacterium   <NA>  <NA>    <NA>  <NA> OTU.5899  79   Oh7B\n",
       "OTU.589915 uncultured_bacterium   <NA>  <NA>    <NA>  <NA> OTU.5899  84  HELAN\n",
       "OTU.589916 uncultured_bacterium   <NA>  <NA>    <NA>  <NA> OTU.5899  84  SORBI\n",
       "OTU.589917 uncultured_bacterium   <NA>  <NA>    <NA>  <NA> OTU.5899  84 SORSUD\n",
       "OTU.589918 uncultured_bacterium   <NA>  <NA>    <NA>  <NA> OTU.5899  88  ELCOR\n",
       "OTU.589919 uncultured_bacterium   <NA>  <NA>    <NA>  <NA> OTU.5899  88    Ki3\n",
       "OTU.589920 uncultured_bacterium   <NA>  <NA>    <NA>  <NA> OTU.5899  88   Mo18\n",
       "OTU.589921 uncultured_bacterium   <NA>  <NA>    <NA>  <NA> OTU.5899  88  Tx303\n"
      ]
     },
     "metadata": {},
     "output_type": "display_data"
    }
   ],
   "source": [
    "%%R\n",
    "# dim(df_all) %>% print\n",
    "# Otu_sel = df_all$OTU == \"OTU.5899\"\n",
    "# Otest = df_all[Otu_sel,]\n",
    "# Otest"
   ]
  },
  {
   "cell_type": "code",
   "execution_count": 37,
   "metadata": {
    "collapsed": false,
    "hide_input": true
   },
   "outputs": [],
   "source": [
    "%%R -i workDir\n",
    "# df_all$p.adj = p.adjust(df_all$p, \"BH\")\n",
    "# setwd(workDir)\n",
    "# write.table(df_all, \"bare-plant-tip-2.csv\", row.names = FALSE, sep = \",\")"
   ]
  },
  {
   "cell_type": "markdown",
   "metadata": {},
   "source": [
    "### 0.3 Tip glom loop through sampling dates to compare enrichment in rhizosphere to bare soil"
   ]
  },
  {
   "cell_type": "code",
   "execution_count": 43,
   "metadata": {
    "collapsed": false,
    "hide_input": true
   },
   "outputs": [],
   "source": [
    "%%R -w 1200 -h 600\n",
    "\n",
    "phy = physeq.tip.3\n",
    "\n",
    "Sd = sample_data(phy)\n",
    "\n",
    "days = levels(Sd$DAP)\n",
    "res.list = vector(\"list\", length(days))\n",
    "names(res.list) = as.character(days)\n",
    "res.list\n",
    "\n",
    "df_all = data.frame()\n",
    "df_plant = data.frame()\n",
    "\n",
    "for (day in days) {\n",
    "    #print(day) ##need to remove\n",
    "    Sd.d = Sd[Sd$DAP == day,]\n",
    "    Sd.d = Sd.d[Sd.d$Plant != \"BARE\"]\n",
    "    Plants = levels(Sd.d$Plant) \n",
    "    #Plants %>% print\n",
    "    \n",
    "    res.list.list = NULL        \n",
    "    res.list.list = vector(\"list\", length(Plants))\n",
    "    names(res.list) = Plants\n",
    "    \n",
    "    \n",
    "    for (plant in Plants) {\n",
    "        DF = NULL\n",
    "        \n",
    "        #Trim physeq object by to day-plant combo \n",
    "        physeq.plant = deseq_prune(phy, plant, day)\n",
    "        \n",
    "        #re-order levels \n",
    "        sample_data(physeq.plant)$Plant = relevel(sample_data(physeq.plant)$Plant, \"BARE\")\n",
    "        \n",
    "        #convert to deseq using function above\n",
    "        DF = get_Ps(physeq.plant)\n",
    "        \n",
    "        supp = tax_table(physeq.plant)\n",
    "            if (!setequal(row.names(DF), row.names(supp))) {\n",
    "            stop(\"Ordination and supplementary data indices differ on the following:\\n.\",\n",
    "            setdiff(row.names(DF), row.names(supp)))\n",
    "        }  \n",
    "   \n",
    "        DF = data.frame(DF, supp)\n",
    "        DF$OTU = rownames(DF)\n",
    "        DF$Day = day\n",
    "        DF$Plant = plant\n",
    "        df_plant = rbind(df_plant, DF)     \n",
    "    }\n",
    "\n",
    "}\n",
    "df_all = df_plant  "
   ]
  },
  {
   "cell_type": "code",
   "execution_count": 44,
   "metadata": {
    "collapsed": false
   },
   "outputs": [
    {
     "data": {
      "text/plain": [
       "[1] 6399   13\n",
       " [1] log2FoldChange p              Kingdom        Phylum         Class         \n",
       " [6] Order          Family         Genus          Species        Rank8         \n",
       "[11] OTU            Day            Plant         \n",
       "<0 rows> (or 0-length row.names)\n"
      ]
     },
     "metadata": {},
     "output_type": "display_data"
    }
   ],
   "source": [
    "%%R\n",
    "dim(df_all) %>% print\n",
    "Otu_sel = df_all$OTU == \"OTU.5899\"\n",
    "Otest = df_all[Otu_sel,]\n",
    "Otest"
   ]
  },
  {
   "cell_type": "code",
   "execution_count": 46,
   "metadata": {
    "collapsed": true
   },
   "outputs": [],
   "source": [
    "%%R -i workDir\n",
    "df_all$p.adj = p.adjust(df_all$p, \"BH\")\n",
    "setwd(workDir)\n",
    "write.table(df_all, \"bare-plant-tip-3.csv\", row.names = FALSE, sep = \",\")"
   ]
  },
  {
   "cell_type": "markdown",
   "metadata": {},
   "source": [
    "# Checkpoint, read files to continue"
   ]
  },
  {
   "cell_type": "code",
   "execution_count": 5,
   "metadata": {
    "collapsed": false,
    "hide_input": true,
    "scrolled": false
   },
   "outputs": [
    {
     "data": {
      "text/plain": [
       "  log2FoldChange         p  Kingdom                 Phylum                Class\n",
       "1    -0.82302335 0.9999994 Bacteria          Acidobacteria                 <NA>\n",
       "2    -1.87324725 0.9999986 Bacteria         Proteobacteria  Deltaproteobacteria\n",
       "3    -1.27682440 1.0000000 Bacteria          Acidobacteria                 <NA>\n",
       "4    -0.08359112 0.9729461 Bacteria          Acidobacteria                 S035\n",
       "5    -1.70123898 0.9878888 Bacteria Candidate_division_WS3 uncultured_bacterium\n",
       "6    -2.61735320 1.0000000 Bacteria Candidate_division_WS3                 <NA>\n",
       "                 Order         Family      Genus Species Rank8      OTU Day\n",
       "1                 <NA>           <NA>       <NA>    <NA>  <NA>  OTU.323  36\n",
       "2    Desulfobacterales Nitrospinaceae uncultured    <NA>  <NA> OTU.1030  36\n",
       "3                 <NA>           <NA>       <NA>    <NA>  <NA>   OTU.44  36\n",
       "4 uncultured_bacterium           <NA>       <NA>    <NA>  <NA>  OTU.791  36\n",
       "5                 <NA>           <NA>       <NA>    <NA>  <NA> OTU.2603  36\n",
       "6                 <NA>           <NA>       <NA>    <NA>  <NA>  OTU.283  36\n",
       "  Plant p.adj\n",
       "1 FAGES     1\n",
       "2 FAGES     1\n",
       "3 FAGES     1\n",
       "4 FAGES     1\n",
       "5 FAGES     1\n",
       "6 FAGES     1\n"
      ]
     },
     "metadata": {},
     "output_type": "display_data"
    }
   ],
   "source": [
    "%%R -i workDir\n",
    "setwd(workDir)\n",
    "bp.tip05 = read.csv(\"bare-plant-tip-05.csv\", header = TRUE)\n",
    "bp.tip1 = read.csv(\"bare-plant-tip-1.csv\", header = TRUE)\n",
    "bp.tip2 = read.csv(\"bare-plant-tip-2.csv\", header = TRUE)\n",
    "bp.tip3 = read.csv(\"bare-plant-tip-3.csv\", header = TRUE)\n",
    "head(bp.tip3)"
   ]
  },
  {
   "cell_type": "markdown",
   "metadata": {},
   "source": [
    "# Core microbiomes at different levels of organization"
   ]
  },
  {
   "cell_type": "markdown",
   "metadata": {},
   "source": [
    "## tip.3"
   ]
  },
  {
   "cell_type": "code",
   "execution_count": 19,
   "metadata": {
    "collapsed": false,
    "scrolled": false
   },
   "outputs": [
    {
     "data": {
      "text/plain": [
       "[1] \"Number of responders\"\n",
       "[1] 128\n",
       "[1] \"Core - All Plants\"\n",
       "[1] 6\n",
       "[1] \"Core - Maize\"\n",
       "[1] 19\n",
       "[1] \"Core - C4grass\"\n",
       "[1] 19\n",
       "[1] \"Core - C4grass and Maize\"\n",
       "[1] 12\n",
       "[1] \"Core - Dicots\"\n",
       "[1] 14\n"
      ]
     },
     "metadata": {},
     "output_type": "display_data"
    }
   ],
   "source": [
    "%%R\n",
    "#filter to only significant responders\n",
    "bp.tip3.sig = filter(bp.tip3, p.adj < 0.05)\n",
    "\n",
    "#Spread by plant to matrix of l2f by each OTU*Plant combo\n",
    "\n",
    "df = bp.tip3.sig[,c(1,11,13)]\n",
    "l2f_m = spread(df, Plant, log2FoldChange, fill = 0, drop = TRUE)\n",
    "\n",
    "#Make into matrix\n",
    "\n",
    "    matrix.please<-function(x) {\n",
    "        m<-as.matrix(x[,-1])\n",
    "        rownames(m)<-x[,1]\n",
    "        m\n",
    "    }\n",
    "    l2f_mat = matrix.please(l2f_m)\n",
    "    print(\"Number of responders\")\n",
    "    dim(l2f_mat)[1] %>% print\n",
    "\n",
    "#How many core taxa?\n",
    "    rc_sel = apply(l2f_mat, 1, function (x) min(x) > 0)\n",
    "    l2f_rhizcore = l2f_mat[rc_sel,]    \n",
    "\n",
    "    print(\"Core - All Plants\")    \n",
    "    dim(l2f_rhizcore)[1]  %>% print\n",
    "\n",
    "#How many core taxa in maize\n",
    "    maize_mat = l2f_mat[,c(\"75-062\", \"B73\", \"B97\", \"H99\",\"Hp301\",  \"Il14H\",  \"Ki3\", \"Mo18\", \"MS71\", \n",
    "                           \"Oh7B\", \"Tx303\")] \n",
    "\n",
    "    c_sel = apply(maize_mat, 1,function (x) min(x) > 0)\n",
    "\n",
    "    l2f_maizecore = maize_mat[c_sel,]    \n",
    "    print(\"Core - Maize\") \n",
    "    dim(l2f_maizecore)[1] %>% print \n",
    "\n",
    "#How many core in C4 grasses\n",
    "    C4.nm_mat = l2f_mat[,c(\"ECHCG\",  \"ELCOR\",  \"ERATE\", \"SETFA\",  \"SORBI\",  \"SORSUD\")] \n",
    "\n",
    "    c_sel = apply(C4.nm_mat, 1,function (x) min(x) > 0)\n",
    "   \n",
    "    l2f_C4.nmcore = C4.nm_mat[c_sel,]    \n",
    "    print(\"Core - C4grass\")\n",
    "    dim(l2f_C4.nmcore)[1]  %>% print \n",
    "        \n",
    "#How many core in maize + C4 grasses\n",
    "    C4_mat = l2f_mat[,c(\"75-062\", \"B73\", \"B97\", \"H99\",\"Hp301\",  \"Il14H\",  \"Ki3\", \"Mo18\", \"MS71\", \n",
    "                       \"Oh7B\", \"Tx303\", \"ECHCG\",  \"ELCOR\",  \"ERATE\", \"SETFA\",  \"SORBI\",  \"SORSUD\")] \n",
    "\n",
    "    c_sel = apply(C4_mat, 1,function (x) min(x) > 0)\n",
    "   \n",
    "    l2f_C4core = C4_mat[c_sel,]    \n",
    "    print(\"Core - C4grass and Maize\")\n",
    "    dim(l2f_C4core)[1] %>% print\n",
    "        \n",
    " # Core dicots       \n",
    "    Dicot_mat = l2f_mat[,c(\"AMAPO\", \"ABUTH\", \"FAGES\", \"HELAN\", \"GLYMA\")] \n",
    "\n",
    "    c_sel = apply(Dicot_mat, 1,function (x) min(x) > 0)\n",
    "   \n",
    "    l2f_Dicotcore = Dicot_mat[c_sel,] \n",
    "    print(\"Core - Dicots\")\n",
    "    dim(l2f_Dicotcore)[1] %>% print      \n"
   ]
  },
  {
   "cell_type": "markdown",
   "metadata": {},
   "source": [
    "## tip.2"
   ]
  },
  {
   "cell_type": "code",
   "execution_count": 22,
   "metadata": {
    "collapsed": false,
    "scrolled": false
   },
   "outputs": [
    {
     "data": {
      "text/plain": [
       "[1] \"Number of responders\"\n",
       "[1] 248\n",
       "[1] \"Core - All Plants\"\n",
       "[1] 11\n",
       "[1] \"Core - Maize\"\n",
       "[1] 33\n",
       "[1] \"Core - C4grass\"\n",
       "[1] 29\n",
       "[1] \"Core - C4grass and Maize\"\n",
       "[1] 19\n",
       "[1] \"Core - Dicots\"\n",
       "[1] 19\n"
      ]
     },
     "metadata": {},
     "output_type": "display_data"
    }
   ],
   "source": [
    "%%R\n",
    "#filter to only significant responders\n",
    "bp.tip2.sig = filter(bp.tip2, p.adj < 0.05)\n",
    "\n",
    "#Spread by plant to matrix of l2f by each OTU*Plant combo\n",
    "\n",
    "df = bp.tip2.sig[,c(1,11,13)]\n",
    "l2f_m = spread(df, Plant, log2FoldChange, fill = 0, drop = TRUE)\n",
    "\n",
    "#Make into matrix\n",
    "\n",
    "    matrix.please<-function(x) {\n",
    "        m<-as.matrix(x[,-1])\n",
    "        rownames(m)<-x[,1]\n",
    "        m\n",
    "    }\n",
    "    l2f_mat = matrix.please(l2f_m)\n",
    "    print(\"Number of responders\")\n",
    "    dim(l2f_mat)[1] %>% print\n",
    "\n",
    "#How many core taxa?\n",
    "    rc_sel = apply(l2f_mat, 1, function (x) min(x) > 0)\n",
    "    l2f_rhizcore = l2f_mat[rc_sel,]    \n",
    "\n",
    "    print(\"Core - All Plants\")    \n",
    "    dim(l2f_rhizcore)[1]  %>% print\n",
    "\n",
    "#How many core taxa in maize\n",
    "    maize_mat = l2f_mat[,c(\"75-062\", \"B73\", \"B97\", \"H99\",\"Hp301\",  \"Il14H\",  \"Ki3\", \"Mo18\", \"MS71\", \n",
    "                           \"Oh7B\", \"Tx303\")] \n",
    "\n",
    "    c_sel = apply(maize_mat, 1,function (x) min(x) > 0)\n",
    "\n",
    "    l2f_maizecore = maize_mat[c_sel,]    \n",
    "    print(\"Core - Maize\") \n",
    "    dim(l2f_maizecore)[1] %>% print \n",
    "\n",
    "#How many core in C4 grasses\n",
    "    C4.nm_mat = l2f_mat[,c(\"ECHCG\",  \"ELCOR\",  \"ERATE\", \"SETFA\",  \"SORBI\",  \"SORSUD\")] \n",
    "\n",
    "    c_sel = apply(C4.nm_mat, 1,function (x) min(x) > 0)\n",
    "   \n",
    "    l2f_C4.nmcore = C4.nm_mat[c_sel,]    \n",
    "    print(\"Core - C4grass\")\n",
    "    dim(l2f_C4.nmcore)[1]  %>% print \n",
    "        \n",
    "#How many core in maize + C4 grasses\n",
    "    C4_mat = l2f_mat[,c(\"75-062\", \"B73\", \"B97\", \"H99\",\"Hp301\",  \"Il14H\",  \"Ki3\", \"Mo18\", \"MS71\", \n",
    "                       \"Oh7B\", \"Tx303\", \"ECHCG\",  \"ELCOR\",  \"ERATE\", \"SETFA\",  \"SORBI\",  \"SORSUD\")] \n",
    "\n",
    "    c_sel = apply(C4_mat, 1,function (x) min(x) > 0)\n",
    "   \n",
    "    l2f_C4core = C4_mat[c_sel,]    \n",
    "    print(\"Core - C4grass and Maize\")\n",
    "    dim(l2f_C4core)[1] %>% print\n",
    "        \n",
    " # Core dicots       \n",
    "    Dicot_mat = l2f_mat[,c(\"AMAPO\", \"ABUTH\", \"FAGES\", \"HELAN\", \"GLYMA\")] \n",
    "\n",
    "    c_sel = apply(Dicot_mat, 1,function (x) min(x) > 0)\n",
    "   \n",
    "    l2f_Dicotcore = Dicot_mat[c_sel,] \n",
    "    print(\"Core - Dicots\")\n",
    "    dim(l2f_Dicotcore)[1] %>% print  "
   ]
  },
  {
   "cell_type": "markdown",
   "metadata": {},
   "source": [
    "## tip.1"
   ]
  },
  {
   "cell_type": "code",
   "execution_count": 23,
   "metadata": {
    "collapsed": false,
    "scrolled": false
   },
   "outputs": [
    {
     "data": {
      "text/plain": [
       "[1] \"Number of responders\"\n",
       "[1] 524\n",
       "[1] \"Core - All Plants\"\n",
       "[1] 18\n",
       "[1] \"Core - Maize\"\n",
       "[1] 50\n",
       "[1] \"Core - C4grass\"\n",
       "[1] 39\n",
       "[1] \"Core - C4grass and Maize\"\n",
       "[1] 30\n",
       "[1] \"Core - Dicots\"\n",
       "[1] 28\n"
      ]
     },
     "metadata": {},
     "output_type": "display_data"
    }
   ],
   "source": [
    "%%R\n",
    "#filter to only significant responders\n",
    "bp.tip1.sig = filter(bp.tip1, p.adj < 0.05)\n",
    "\n",
    "#Spread by plant to matrix of l2f by each OTU*Plant combo\n",
    "\n",
    "df = bp.tip1.sig[,c(1,11,13)]\n",
    "l2f_m = spread(df, Plant, log2FoldChange, fill = 0, drop = TRUE)\n",
    "\n",
    "#Make into matrix\n",
    "\n",
    "    matrix.please<-function(x) {\n",
    "        m<-as.matrix(x[,-1])\n",
    "        rownames(m)<-x[,1]\n",
    "        m\n",
    "    }\n",
    "    l2f_mat = matrix.please(l2f_m)\n",
    "    print(\"Number of responders\")\n",
    "    dim(l2f_mat)[1] %>% print\n",
    "\n",
    "#How many core taxa?\n",
    "    rc_sel = apply(l2f_mat, 1, function (x) min(x) > 0)\n",
    "    l2f_rhizcore = l2f_mat[rc_sel,]    \n",
    "\n",
    "    print(\"Core - All Plants\")    \n",
    "    dim(l2f_rhizcore)[1]  %>% print\n",
    "\n",
    "#How many core taxa in maize\n",
    "    maize_mat = l2f_mat[,c(\"75-062\", \"B73\", \"B97\", \"H99\",\"Hp301\",  \"Il14H\",  \"Ki3\", \"Mo18\", \"MS71\", \n",
    "                           \"Oh7B\", \"Tx303\")] \n",
    "\n",
    "    c_sel = apply(maize_mat, 1,function (x) min(x) > 0)\n",
    "\n",
    "    l2f_maizecore = maize_mat[c_sel,]    \n",
    "    print(\"Core - Maize\") \n",
    "    dim(l2f_maizecore)[1] %>% print \n",
    "\n",
    "#How many core in C4 grasses\n",
    "    C4.nm_mat = l2f_mat[,c(\"ECHCG\",  \"ELCOR\",  \"ERATE\", \"SETFA\",  \"SORBI\",  \"SORSUD\")] \n",
    "\n",
    "    c_sel = apply(C4.nm_mat, 1,function (x) min(x) > 0)\n",
    "   \n",
    "    l2f_C4.nmcore = C4.nm_mat[c_sel,]    \n",
    "    print(\"Core - C4grass\")\n",
    "    dim(l2f_C4.nmcore)[1]  %>% print \n",
    "        \n",
    "#How many core in maize + C4 grasses\n",
    "    C4_mat = l2f_mat[,c(\"75-062\", \"B73\", \"B97\", \"H99\",\"Hp301\",  \"Il14H\",  \"Ki3\", \"Mo18\", \"MS71\", \n",
    "                       \"Oh7B\", \"Tx303\", \"ECHCG\",  \"ELCOR\",  \"ERATE\", \"SETFA\",  \"SORBI\",  \"SORSUD\")] \n",
    "\n",
    "    c_sel = apply(C4_mat, 1,function (x) min(x) > 0)\n",
    "   \n",
    "    l2f_C4core = C4_mat[c_sel,]    \n",
    "    print(\"Core - C4grass and Maize\")\n",
    "    dim(l2f_C4core)[1] %>% print\n",
    "        \n",
    " # Core dicots       \n",
    "    Dicot_mat = l2f_mat[,c(\"AMAPO\", \"ABUTH\", \"FAGES\", \"HELAN\", \"GLYMA\")] \n",
    "\n",
    "    c_sel = apply(Dicot_mat, 1,function (x) min(x) > 0)\n",
    "   \n",
    "    l2f_Dicotcore = Dicot_mat[c_sel,] \n",
    "    print(\"Core - Dicots\")\n",
    "    dim(l2f_Dicotcore)[1] %>% print  "
   ]
  },
  {
   "cell_type": "markdown",
   "metadata": {},
   "source": [
    "## tip.05"
   ]
  },
  {
   "cell_type": "code",
   "execution_count": 24,
   "metadata": {
    "collapsed": false,
    "scrolled": true
   },
   "outputs": [
    {
     "data": {
      "text/plain": [
       "[1] \"Number of responders\"\n",
       "[1] 968\n",
       "[1] \"Core - All Plants\"\n",
       "[1] 24\n",
       "[1] \"Core - Maize\"\n",
       "[1] 81\n",
       "[1] \"Core - C4grass\"\n",
       "[1] 56\n",
       "[1] \"Core - C4grass and Maize\"\n",
       "[1] 40\n",
       "[1] \"Core - Dicots\"\n",
       "[1] 43\n"
      ]
     },
     "metadata": {},
     "output_type": "display_data"
    }
   ],
   "source": [
    "%%R\n",
    "#filter to only significant responders\n",
    "bp.tip05.sig = filter(bp.tip05, p.adj < 0.05)\n",
    "\n",
    "#Spread by plant to matrix of l2f by each OTU*Plant combo\n",
    "\n",
    "df = bp.tip05.sig[,c(1,11,13)]\n",
    "l2f_m = spread(df, Plant, log2FoldChange, fill = 0, drop = TRUE)\n",
    "\n",
    "#Make into matrix\n",
    "\n",
    "    matrix.please<-function(x) {\n",
    "        m<-as.matrix(x[,-1])\n",
    "        rownames(m)<-x[,1]\n",
    "        m\n",
    "    }\n",
    "    l2f_mat = matrix.please(l2f_m)\n",
    "    print(\"Number of responders\")\n",
    "    dim(l2f_mat)[1] %>% print\n",
    "\n",
    "#How many core taxa?\n",
    "    rc_sel = apply(l2f_mat, 1, function (x) min(x) > 0)\n",
    "    l2f_rhizcore = l2f_mat[rc_sel,]    \n",
    "\n",
    "    print(\"Core - All Plants\")    \n",
    "    dim(l2f_rhizcore)[1]  %>% print\n",
    "\n",
    "#How many core taxa in maize\n",
    "    maize_mat = l2f_mat[,c(\"75-062\", \"B73\", \"B97\", \"H99\",\"Hp301\",  \"Il14H\",  \"Ki3\", \"Mo18\", \"MS71\", \n",
    "                           \"Oh7B\", \"Tx303\")] \n",
    "\n",
    "    c_sel = apply(maize_mat, 1,function (x) min(x) > 0)\n",
    "\n",
    "    l2f_maizecore = maize_mat[c_sel,]    \n",
    "    print(\"Core - Maize\") \n",
    "    dim(l2f_maizecore)[1] %>% print \n",
    "\n",
    "#How many core in C4 grasses\n",
    "    C4.nm_mat = l2f_mat[,c(\"ECHCG\",  \"ELCOR\",  \"ERATE\", \"SETFA\",  \"SORBI\",  \"SORSUD\")] \n",
    "\n",
    "    c_sel = apply(C4.nm_mat, 1,function (x) min(x) > 0)\n",
    "   \n",
    "    l2f_C4.nmcore = C4.nm_mat[c_sel,]    \n",
    "    print(\"Core - C4grass\")\n",
    "    dim(l2f_C4.nmcore)[1]  %>% print \n",
    "        \n",
    "#How many core in maize + C4 grasses\n",
    "    C4_mat = l2f_mat[,c(\"75-062\", \"B73\", \"B97\", \"H99\",\"Hp301\",  \"Il14H\",  \"Ki3\", \"Mo18\", \"MS71\", \n",
    "                       \"Oh7B\", \"Tx303\", \"ECHCG\",  \"ELCOR\",  \"ERATE\", \"SETFA\",  \"SORBI\",  \"SORSUD\")] \n",
    "\n",
    "    c_sel = apply(C4_mat, 1,function (x) min(x) > 0)\n",
    "   \n",
    "    l2f_C4core = C4_mat[c_sel,]    \n",
    "    print(\"Core - C4grass and Maize\")\n",
    "    dim(l2f_C4core)[1] %>% print\n",
    "        \n",
    " # Core dicots       \n",
    "    Dicot_mat = l2f_mat[,c(\"AMAPO\", \"ABUTH\", \"FAGES\", \"HELAN\", \"GLYMA\")] \n",
    "\n",
    "    c_sel = apply(Dicot_mat, 1,function (x) min(x) > 0)\n",
    "   \n",
    "    l2f_Dicotcore = Dicot_mat[c_sel,] \n",
    "    print(\"Core - Dicots\")\n",
    "    dim(l2f_Dicotcore)[1] %>% print  "
   ]
  },
  {
   "cell_type": "markdown",
   "metadata": {},
   "source": [
    "# consenTRAIT"
   ]
  },
  {
   "cell_type": "markdown",
   "metadata": {},
   "source": [
    "\n",
    "### Inputs:\n",
    "* Need trait table with tab delimited text file with names of each taxon in the first column and then 0 or 1 values for each trait in the following columns (and no headers)\n",
    "* Newick tree format with all taxon"
   ]
  },
  {
   "cell_type": "code",
   "execution_count": 38,
   "metadata": {
    "collapsed": false,
    "scrolled": true
   },
   "outputs": [],
   "source": [
    "%%R\n",
    "treeFile = '/home/bryan/RhizCG/data/MiSeq_amplicon/MergedRuns/fasttree/otusn.tree'\n",
    "\n",
    "df_all = read.csv(\"bare-plant.csv\", header = TRUE)\n",
    "## Create table from DeSeq output of responders in at least one genotype\n",
    "## Start with df_all above, group by OTU\n",
    "Tbl = df_all %>% group_by(OTU) %>% \n",
    "    summarise(pVal = min(p.adj)) \n",
    "\n",
    "Tbl$Responder = ifelse(Tbl$pVal < 0.05, 1,  0)\n",
    "Tbl = Tbl[,-2]\n",
    "head(Tbl)\n",
    "write.table(Tbl, \"/home/bryan/RhizCG/data/MiSeq_amplicon/MergedRuns/DeSeq2/Responders.txt\", row.names = FALSE, col.names = FALSE, sep = \"\\t\")"
   ]
  },
  {
   "cell_type": "code",
   "execution_count": 39,
   "metadata": {
    "collapsed": false
   },
   "outputs": [],
   "source": [
    "%%R\n",
    "RespFile = '/home/bryan/RhizCG/data/MiSeq_amplicon/MergedRuns/DeSeq2/Responders.txt'"
   ]
  },
  {
   "cell_type": "code",
   "execution_count": 45,
   "metadata": {
    "collapsed": false
   },
   "outputs": [
    {
     "name": "stdout",
     "output_type": "stream",
     "text": [
      "\n",
      "Error in withVisible({ : object 'Rscript' not found\n"
     ]
    },
    {
     "name": "stderr",
     "output_type": "stream",
     "text": [
      "/opt/anaconda/lib/python2.7/site-packages/rpy2/robjects/functions.py:106: UserWarning: Error in withVisible({ : object 'Rscript' not found\n",
      "\n",
      "  res = super(Function, self).__call__(*new_args, **new_kwargs)\n"
     ]
    }
   ],
   "source": [
    "%%R\n",
    "\n",
    "Rscript #--e consenTRAIT.R treeFile RespFile"
   ]
  }
 ],
 "metadata": {
  "hide_input": true,
  "kernelspec": {
   "display_name": "Python 2",
   "language": "python",
   "name": "python2"
  },
  "language_info": {
   "codemirror_mode": {
    "name": "ipython",
    "version": 2
   },
   "file_extension": ".py",
   "mimetype": "text/x-python",
   "name": "python",
   "nbconvert_exporter": "python",
   "pygments_lexer": "ipython2",
   "version": "2.7.11"
  }
 },
 "nbformat": 4,
 "nbformat_minor": 0
}
