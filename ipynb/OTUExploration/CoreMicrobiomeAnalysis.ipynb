{
 "cells": [
  {
   "cell_type": "markdown",
   "metadata": {},
   "source": [
    "# Description:\n",
    "\n",
    "    Investigate Core microbiome of different groups of samples\n",
    "    Note: log2fold change file was run on Full-Sparsity3in3\n",
    "\n"
   ]
  },
  {
   "cell_type": "markdown",
   "metadata": {},
   "source": [
    "# Setting variables"
   ]
  },
  {
   "cell_type": "code",
   "execution_count": 1,
   "metadata": {
    "collapsed": true
   },
   "outputs": [],
   "source": [
    "\n",
    "log2foldFile = '/home/bryan/RhizCG/data/MiSeq_amplicon/MergedRuns/DeSeq2/bare-plant.csv'\n"
   ]
  },
  {
   "cell_type": "markdown",
   "metadata": {},
   "source": [
    "# Init"
   ]
  },
  {
   "cell_type": "code",
   "execution_count": 2,
   "metadata": {
    "collapsed": false
   },
   "outputs": [],
   "source": [
    "\n",
    "%load_ext rpy2.ipython"
   ]
  },
  {
   "cell_type": "code",
   "execution_count": 3,
   "metadata": {
    "collapsed": false,
    "scrolled": true
   },
   "outputs": [
    {
     "name": "stderr",
     "output_type": "stream",
     "text": [
      "/opt/anaconda/lib/python2.7/site-packages/rpy2/robjects/functions.py:106: UserWarning: Loading required package: permute\n",
      "\n",
      "  res = super(Function, self).__call__(*new_args, **new_kwargs)\n",
      "/opt/anaconda/lib/python2.7/site-packages/rpy2/robjects/functions.py:106: UserWarning: Loading required package: lattice\n",
      "\n",
      "  res = super(Function, self).__call__(*new_args, **new_kwargs)\n",
      "/opt/anaconda/lib/python2.7/site-packages/rpy2/robjects/functions.py:106: UserWarning: This is vegan 2.3-5\n",
      "\n",
      "  res = super(Function, self).__call__(*new_args, **new_kwargs)\n",
      "/opt/anaconda/lib/python2.7/site-packages/rpy2/robjects/functions.py:106: UserWarning: foreach: simple, scalable parallel programming from Revolution Analytics\n",
      "Use Revolution R for scalability, fault tolerance and more.\n",
      "http://www.revolutionanalytics.com\n",
      "\n",
      "  res = super(Function, self).__call__(*new_args, **new_kwargs)\n",
      "/opt/anaconda/lib/python2.7/site-packages/rpy2/robjects/functions.py:106: UserWarning: Loading required package: iterators\n",
      "\n",
      "  res = super(Function, self).__call__(*new_args, **new_kwargs)\n",
      "/opt/anaconda/lib/python2.7/site-packages/rpy2/robjects/functions.py:106: UserWarning: Loading required package: parallel\n",
      "\n",
      "  res = super(Function, self).__call__(*new_args, **new_kwargs)\n",
      "/opt/anaconda/lib/python2.7/site-packages/rpy2/robjects/functions.py:106: UserWarning: \n",
      "Attaching package: ‘dplyr’\n",
      "\n",
      "\n",
      "  res = super(Function, self).__call__(*new_args, **new_kwargs)\n",
      "/opt/anaconda/lib/python2.7/site-packages/rpy2/robjects/functions.py:106: UserWarning: The following object is masked from ‘package:gridExtra’:\n",
      "\n",
      "    combine\n",
      "\n",
      "\n",
      "  res = super(Function, self).__call__(*new_args, **new_kwargs)\n",
      "/opt/anaconda/lib/python2.7/site-packages/rpy2/robjects/functions.py:106: UserWarning: The following objects are masked from ‘package:stats’:\n",
      "\n",
      "    filter, lag\n",
      "\n",
      "\n",
      "  res = super(Function, self).__call__(*new_args, **new_kwargs)\n",
      "/opt/anaconda/lib/python2.7/site-packages/rpy2/robjects/functions.py:106: UserWarning: The following objects are masked from ‘package:base’:\n",
      "\n",
      "    intersect, setdiff, setequal, union\n",
      "\n",
      "\n",
      "  res = super(Function, self).__call__(*new_args, **new_kwargs)\n",
      "/opt/anaconda/lib/python2.7/site-packages/rpy2/robjects/functions.py:106: UserWarning: Loading required package: grid\n",
      "\n",
      "  res = super(Function, self).__call__(*new_args, **new_kwargs)\n",
      "/opt/anaconda/lib/python2.7/site-packages/rpy2/robjects/functions.py:106: UserWarning: Loading required package: futile.logger\n",
      "\n",
      "  res = super(Function, self).__call__(*new_args, **new_kwargs)\n"
     ]
    }
   ],
   "source": [
    "%%R\n",
    "library(vegan)\n",
    "library(phyloseq)\n",
    "library(ggplot2)\n",
    "library(foreach)\n",
    "library(doParallel)\n",
    "library(gridExtra)\n",
    "library(dplyr)\n",
    "library(tidyr)\n",
    "library(VennDiagram)"
   ]
  },
  {
   "cell_type": "markdown",
   "metadata": {},
   "source": [
    "# Explore DeSeq output to define core microbiomes"
   ]
  },
  {
   "cell_type": "markdown",
   "metadata": {},
   "source": [
    "### Read DeSeq output"
   ]
  },
  {
   "cell_type": "code",
   "execution_count": 4,
   "metadata": {
    "collapsed": false
   },
   "outputs": [
    {
     "data": {
      "text/plain": [
       " [1] \"log2FoldChange\" \"p\"              \"Rank1\"          \"Rank2\"         \n",
       " [5] \"Rank3\"          \"Rank4\"          \"Rank5\"          \"Rank6\"         \n",
       " [9] \"Rank7\"          \"Rank8\"          \"OTU\"            \"Day\"           \n",
       "[13] \"Plant\"          \"p.adj\"         \n"
      ]
     },
     "metadata": {},
     "output_type": "display_data"
    }
   ],
   "source": [
    "%%R -i log2foldFile\n",
    "l2f = read.csv(log2foldFile, header = TRUE)\n",
    "colnames(l2f)"
   ]
  },
  {
   "cell_type": "code",
   "execution_count": 5,
   "metadata": {
    "collapsed": false
   },
   "outputs": [
    {
     "data": {
      "text/plain": [
       "[1] 8597   14\n"
      ]
     },
     "metadata": {},
     "output_type": "display_data"
    }
   ],
   "source": [
    "%%R\n",
    "l2f.sig = l2f[l2f$p.adj < .05,]\n",
    "dim(l2f.sig)"
   ]
  },
  {
   "cell_type": "code",
   "execution_count": 6,
   "metadata": {
    "collapsed": false
   },
   "outputs": [
    {
     "data": {
      "text/plain": [
       "[1] 0.9609501\n"
      ]
     },
     "metadata": {},
     "output_type": "display_data"
    }
   ],
   "source": [
    "%%R\n",
    "min(l2f.sig$log2FoldChange)"
   ]
  },
  {
   "cell_type": "markdown",
   "metadata": {},
   "source": [
    "### Spread by plant to make matrix of log2fold change in each OTU by plant combo"
   ]
  },
  {
   "cell_type": "code",
   "execution_count": 7,
   "metadata": {
    "collapsed": false
   },
   "outputs": [
    {
     "data": {
      "text/plain": [
       "        OTU   75-062    ABUTH    AMAPO      B73      B97    ECHCG    ELCOR\n",
       "1    OTU.10 3.755553 3.554574 3.913238 4.730054 3.983959 4.116643 3.242262\n",
       "2   OTU.100 0.000000 0.000000 0.000000 0.000000 0.000000 0.000000 0.000000\n",
       "3  OTU.1000 0.000000 0.000000 0.000000 0.000000 0.000000 0.000000 0.000000\n",
       "4 OTU.10009 0.000000 0.000000 4.848621 5.219825 0.000000 0.000000 6.751878\n",
       "5  OTU.1001 0.000000 0.000000 0.000000 6.053131 6.493816 0.000000 0.000000\n",
       "6 OTU.10030 0.000000 0.000000 2.353137 0.000000 0.000000 0.000000 0.000000\n",
       "     ERATE    FAGES    GLYMA      H99    HELAN    Hp301    Il14H      Ki3\n",
       "1 3.998816 2.226031 4.493125 2.409564 2.879535 4.408774 4.349912 4.357638\n",
       "2 0.000000 1.042526 0.000000 0.000000 0.000000 0.000000 0.000000 0.000000\n",
       "3 0.000000 1.939025 0.000000 0.000000 0.000000 0.000000 0.000000 0.000000\n",
       "4 5.927989 0.000000 4.524680 0.000000 0.000000 0.000000 0.000000 0.000000\n",
       "5 0.000000 0.000000 0.000000 0.000000 0.000000 0.000000 0.000000 0.000000\n",
       "6 0.000000 4.359155 0.000000 0.000000 0.000000 0.000000 0.000000 0.000000\n",
       "      Mo18     MS71     Oh7B    SETFA    SORBI  SORSUD    Tx303\n",
       "1 4.045558 4.070247 4.407135 5.485889 4.388059 3.76852 5.258469\n",
       "2 0.000000 0.000000 0.000000 0.000000 0.000000 0.00000 0.000000\n",
       "3 0.000000 1.770229 0.000000 2.064541 0.000000 0.00000 0.000000\n",
       "4 0.000000 0.000000 0.000000 0.000000 0.000000 0.00000 0.000000\n",
       "5 0.000000 0.000000 6.852704 0.000000 0.000000 0.00000 0.000000\n",
       "6 0.000000 0.000000 0.000000 0.000000 0.000000 0.00000 0.000000\n"
      ]
     },
     "metadata": {},
     "output_type": "display_data"
    }
   ],
   "source": [
    "%%R\n",
    "df = l2f.sig[,c(1,11,13)]\n",
    "l2f_m = spread(df, Plant, log2FoldChange, fill = 0, drop = TRUE)\n",
    "l2f_m %>% head"
   ]
  },
  {
   "cell_type": "code",
   "execution_count": 8,
   "metadata": {
    "collapsed": false,
    "scrolled": true
   },
   "outputs": [
    {
     "data": {
      "text/plain": [
       "[1] 1506   23\n",
       "            75-062    ABUTH    AMAPO      B73      B97    ECHCG    ELCOR\n",
       "OTU.10    3.755553 3.554574 3.913238 4.730054 3.983959 4.116643 3.242262\n",
       "OTU.100   0.000000 0.000000 0.000000 0.000000 0.000000 0.000000 0.000000\n",
       "OTU.1000  0.000000 0.000000 0.000000 0.000000 0.000000 0.000000 0.000000\n",
       "OTU.10009 0.000000 0.000000 4.848621 5.219825 0.000000 0.000000 6.751878\n",
       "OTU.1001  0.000000 0.000000 0.000000 6.053131 6.493816 0.000000 0.000000\n",
       "OTU.10030 0.000000 0.000000 2.353137 0.000000 0.000000 0.000000 0.000000\n",
       "             ERATE    FAGES    GLYMA      H99    HELAN    Hp301    Il14H\n",
       "OTU.10    3.998816 2.226031 4.493125 2.409564 2.879535 4.408774 4.349912\n",
       "OTU.100   0.000000 1.042526 0.000000 0.000000 0.000000 0.000000 0.000000\n",
       "OTU.1000  0.000000 1.939025 0.000000 0.000000 0.000000 0.000000 0.000000\n",
       "OTU.10009 5.927989 0.000000 4.524680 0.000000 0.000000 0.000000 0.000000\n",
       "OTU.1001  0.000000 0.000000 0.000000 0.000000 0.000000 0.000000 0.000000\n",
       "OTU.10030 0.000000 4.359155 0.000000 0.000000 0.000000 0.000000 0.000000\n",
       "               Ki3     Mo18     MS71     Oh7B    SETFA    SORBI  SORSUD\n",
       "OTU.10    4.357638 4.045558 4.070247 4.407135 5.485889 4.388059 3.76852\n",
       "OTU.100   0.000000 0.000000 0.000000 0.000000 0.000000 0.000000 0.00000\n",
       "OTU.1000  0.000000 0.000000 1.770229 0.000000 2.064541 0.000000 0.00000\n",
       "OTU.10009 0.000000 0.000000 0.000000 0.000000 0.000000 0.000000 0.00000\n",
       "OTU.1001  0.000000 0.000000 0.000000 6.852704 0.000000 0.000000 0.00000\n",
       "OTU.10030 0.000000 0.000000 0.000000 0.000000 0.000000 0.000000 0.00000\n",
       "             Tx303\n",
       "OTU.10    5.258469\n",
       "OTU.100   0.000000\n",
       "OTU.1000  0.000000\n",
       "OTU.10009 0.000000\n",
       "OTU.1001  0.000000\n",
       "OTU.10030 0.000000\n"
      ]
     },
     "metadata": {},
     "output_type": "display_data"
    }
   ],
   "source": [
    "%%R\n",
    "dim(l2f_m) %>% print\n",
    "\n",
    "matrix.please<-function(x) {\n",
    "    m<-as.matrix(x[,-1])\n",
    "    rownames(m)<-x[,1]\n",
    "    m\n",
    "}\n",
    "l2f_mat = matrix.please(l2f_m)\n",
    "head(l2f_mat)"
   ]
  },
  {
   "cell_type": "markdown",
   "metadata": {},
   "source": [
    "## Ordinate significant log two-fold change"
   ]
  },
  {
   "cell_type": "code",
   "execution_count": 9,
   "metadata": {
    "collapsed": false
   },
   "outputs": [],
   "source": [
    "%%R\n",
    "bc = vegdist(t(l2f_mat), method=\"bray\", binary=TRUE)\n"
   ]
  },
  {
   "cell_type": "code",
   "execution_count": 10,
   "metadata": {
    "collapsed": false,
    "scrolled": true
   },
   "outputs": [
    {
     "data": {
      "text/plain": [
       "Run 0 stress 0.1240072 \n",
       "Run 1 stress 0.1240069 \n",
       "... New best solution\n",
       "... procrustes: rmse 0.0002298014  max resid 0.0008410543 \n",
       "*** Solution reached\n"
      ]
     },
     "metadata": {},
     "output_type": "display_data"
    }
   ],
   "source": [
    "%%R\n",
    "ord <- metaMDS(bc)"
   ]
  },
  {
   "cell_type": "code",
   "execution_count": 11,
   "metadata": {
    "collapsed": false,
    "scrolled": true
   },
   "outputs": [
    {
     "data": {
      "image/png": "[encoded data removed]"
     },
     "metadata": {},
     "output_type": "display_data"
    }
   ],
   "source": [
    "%%R\n",
    "plot(ord, type = \"t\")"
   ]
  },
  {
   "cell_type": "code",
   "execution_count": 12,
   "metadata": {
    "collapsed": false,
    "scrolled": true
   },
   "outputs": [
    {
     "data": {
      "text/plain": [
       "png \n",
       "  2 \n"
      ]
     },
     "metadata": {},
     "output_type": "display_data"
    }
   ],
   "source": [
    "%%R\n",
    "pdf(file = \"/home/bryan/RhizCG/figures/l2fCluster.pdf\")\n",
    "CL <- hclust(bc, method=\"average\")\n",
    "CL\n",
    "plot(CL, main = \"Cluster Dendrogram of l2f \\n Bray-Curtis Distances\")\n",
    "dev.off()"
   ]
  },
  {
   "cell_type": "code",
   "execution_count": 13,
   "metadata": {
    "collapsed": false
   },
   "outputs": [
    {
     "name": "stderr",
     "output_type": "stream",
     "text": [
      "/opt/anaconda/lib/python2.7/site-packages/rpy2/robjects/functions.py:106: UserWarning: \n",
      "Attaching package: ‘ape’\n",
      "\n",
      "\n",
      "  res = super(Function, self).__call__(*new_args, **new_kwargs)\n",
      "/opt/anaconda/lib/python2.7/site-packages/rpy2/robjects/functions.py:106: UserWarning: The following object is masked from ‘package:VennDiagram’:\n",
      "\n",
      "    rotate\n",
      "\n",
      "\n",
      "  res = super(Function, self).__call__(*new_args, **new_kwargs)\n"
     ]
    },
    {
     "data": {
      "text/plain": [
       "$type\n",
       "[1] \"phylogram\"\n",
       "\n",
       "$use.edge.length\n",
       "[1] TRUE\n",
       "\n",
       "$node.pos\n",
       "[1] 1\n",
       "\n",
       "$node.depth\n",
       "[1] 1\n",
       "\n",
       "$show.tip.label\n",
       "[1] TRUE\n",
       "\n",
       "$show.node.label\n",
       "[1] FALSE\n",
       "\n",
       "$font\n",
       "[1] 3\n",
       "\n",
       "$cex\n",
       "[1] 1\n",
       "\n",
       "$adj\n",
       "[1] 0\n",
       "\n",
       "$srt\n",
       "[1] 0\n",
       "\n",
       "$no.margin\n",
       "[1] FALSE\n",
       "\n",
       "$label.offset\n",
       "[1] 0\n",
       "\n",
       "$x.lim\n",
       "[1] 0.0000000 0.4229338\n",
       "\n",
       "$y.lim\n",
       "[1]  1 22\n",
       "\n",
       "$direction\n",
       "[1] \"rightwards\"\n",
       "\n",
       "$tip.color\n",
       "numeric(0)\n",
       "\n",
       "$Ntip\n",
       "[1] 22\n",
       "\n",
       "$Nnode\n",
       "[1] 21\n",
       "\n",
       "$root.time\n",
       "NULL\n",
       "\n",
       "$align.tip.label\n",
       "[1] FALSE\n",
       "\n"
      ]
     },
     "metadata": {},
     "output_type": "display_data"
    },
    {
     "data": {
      "image/png": "[encoded data removed]"
     },
     "metadata": {},
     "output_type": "display_data"
    }
   ],
   "source": [
    "%%R -h 1000\n",
    "library(ape)\n",
    "Var = l2f.sig$Day  %>% levels # factor variable for colors\n",
    "result_phylo <- as.phylo(CL)\n",
    "p = plot(result_phylo, tip.col = as.numeric(as.character(Var)))\n",
    "p"
   ]
  },
  {
   "cell_type": "markdown",
   "metadata": {},
   "source": [
    "## Define l2f cores by group"
   ]
  },
  {
   "cell_type": "markdown",
   "metadata": {},
   "source": [
    "### Core rhizosphere (all plants)"
   ]
  },
  {
   "cell_type": "code",
   "execution_count": 14,
   "metadata": {
    "collapsed": false,
    "scrolled": true
   },
   "outputs": [
    {
     "data": {
      "text/plain": [
       "[1] 31\n"
      ]
     },
     "metadata": {},
     "output_type": "display_data"
    }
   ],
   "source": [
    "%%R\n",
    "\n",
    "\n",
    "rc_sel = apply(l2f_mat, 1,function (x) min(x) > 0)\n",
    "   \n",
    "l2f_rhizcore = l2f_mat[rc_sel,]    \n",
    "Allcore = dim(unique(l2f_rhizcore))[1]\n",
    "Allcore"
   ]
  },
  {
   "cell_type": "markdown",
   "metadata": {},
   "source": [
    "Rhizosphere Core: 31 OTUs significantly enriched in all rhizospheres"
   ]
  },
  {
   "cell_type": "markdown",
   "metadata": {},
   "source": [
    "### Maize"
   ]
  },
  {
   "cell_type": "code",
   "execution_count": 15,
   "metadata": {
    "collapsed": false,
    "scrolled": true
   },
   "outputs": [
    {
     "data": {
      "text/plain": [
       "            75-062    ABUTH    AMAPO      B73      B97    ECHCG    ELCOR\n",
       "OTU.10    3.755553 3.554574 3.913238 4.730054 3.983959 4.116643 3.242262\n",
       "OTU.100   0.000000 0.000000 0.000000 0.000000 0.000000 0.000000 0.000000\n",
       "OTU.1000  0.000000 0.000000 0.000000 0.000000 0.000000 0.000000 0.000000\n",
       "OTU.10009 0.000000 0.000000 4.848621 5.219825 0.000000 0.000000 6.751878\n",
       "OTU.1001  0.000000 0.000000 0.000000 6.053131 6.493816 0.000000 0.000000\n",
       "OTU.10030 0.000000 0.000000 2.353137 0.000000 0.000000 0.000000 0.000000\n",
       "             ERATE    FAGES    GLYMA      H99    HELAN    Hp301    Il14H\n",
       "OTU.10    3.998816 2.226031 4.493125 2.409564 2.879535 4.408774 4.349912\n",
       "OTU.100   0.000000 1.042526 0.000000 0.000000 0.000000 0.000000 0.000000\n",
       "OTU.1000  0.000000 1.939025 0.000000 0.000000 0.000000 0.000000 0.000000\n",
       "OTU.10009 5.927989 0.000000 4.524680 0.000000 0.000000 0.000000 0.000000\n",
       "OTU.1001  0.000000 0.000000 0.000000 0.000000 0.000000 0.000000 0.000000\n",
       "OTU.10030 0.000000 4.359155 0.000000 0.000000 0.000000 0.000000 0.000000\n",
       "               Ki3     Mo18     MS71     Oh7B    SETFA    SORBI  SORSUD\n",
       "OTU.10    4.357638 4.045558 4.070247 4.407135 5.485889 4.388059 3.76852\n",
       "OTU.100   0.000000 0.000000 0.000000 0.000000 0.000000 0.000000 0.00000\n",
       "OTU.1000  0.000000 0.000000 1.770229 0.000000 2.064541 0.000000 0.00000\n",
       "OTU.10009 0.000000 0.000000 0.000000 0.000000 0.000000 0.000000 0.00000\n",
       "OTU.1001  0.000000 0.000000 0.000000 6.852704 0.000000 0.000000 0.00000\n",
       "OTU.10030 0.000000 0.000000 0.000000 0.000000 0.000000 0.000000 0.00000\n",
       "             Tx303\n",
       "OTU.10    5.258469\n",
       "OTU.100   0.000000\n",
       "OTU.1000  0.000000\n",
       "OTU.10009 0.000000\n",
       "OTU.1001  0.000000\n",
       "OTU.10030 0.000000\n"
      ]
     },
     "metadata": {},
     "output_type": "display_data"
    }
   ],
   "source": [
    "%%R\n",
    "colnames(l2f_mat)\n",
    "head(l2f_mat)"
   ]
  },
  {
   "cell_type": "code",
   "execution_count": 16,
   "metadata": {
    "collapsed": false
   },
   "outputs": [
    {
     "data": {
      "text/plain": [
       "[1] 103\n"
      ]
     },
     "metadata": {},
     "output_type": "display_data"
    }
   ],
   "source": [
    "%%R\n",
    "maize_mat = l2f_mat[,c(\"75-062\", \"B73\", \"B97\", \"H99\",\"Hp301\",  \"Il14H\",  \"Ki3\", \"Mo18\", \"MS71\", \n",
    "                       \"Oh7B\", \"Tx303\")] \n",
    "\n",
    "c_sel = apply(maize_mat, 1,function (x) min(x) > 0)\n",
    "   \n",
    "l2f_maizecore = as.data.frame(maize_mat[c_sel,])   \n",
    "Maizecore = dim(l2f_maizecore)[1]  \n",
    "    Maizecore\n",
    "dummy = rep(1, dim(l2f_maizecore)[1])\n",
    "OTU = row.names(l2f_maizecore)\n",
    "MCT = OTU\n",
    "\n",
    "length(unique(MCT )) "
   ]
  },
  {
   "cell_type": "markdown",
   "metadata": {},
   "source": [
    "Maize Core Rhizosphere: 103 OTUs consistently enriched"
   ]
  },
  {
   "cell_type": "markdown",
   "metadata": {},
   "source": [
    "## C4 grasses not including maize"
   ]
  },
  {
   "cell_type": "code",
   "execution_count": 17,
   "metadata": {
    "collapsed": false
   },
   "outputs": [
    {
     "data": {
      "text/plain": [
       " [1] \"OTU.10\"    \"OTU.10253\" \"OTU.10288\" \"OTU.1034\"  \"OTU.10692\" \"OTU.108\"  \n",
       " [7] \"OTU.11012\" \"OTU.11069\" \"OTU.112\"   \"OTU.114\"   \"OTU.120\"   \"OTU.12012\"\n",
       "[13] \"OTU.1243\"  \"OTU.125\"   \"OTU.134\"   \"OTU.137\"   \"OTU.15\"    \"OTU.152\"  \n",
       "[19] \"OTU.1628\"  \"OTU.188\"   \"OTU.189\"   \"OTU.194\"   \"OTU.196\"   \"OTU.207\"  \n",
       "[25] \"OTU.2285\"  \"OTU.23\"    \"OTU.24\"    \"OTU.260\"   \"OTU.2703\"  \"OTU.284\"  \n",
       "[31] \"OTU.293\"   \"OTU.297\"   \"OTU.304\"   \"OTU.307\"   \"OTU.321\"   \"OTU.354\"  \n",
       "[37] \"OTU.393\"   \"OTU.4\"     \"OTU.4049\"  \"OTU.407\"   \"OTU.414\"   \"OTU.42\"   \n",
       "[43] \"OTU.422\"   \"OTU.4340\"  \"OTU.4378\"  \"OTU.440\"   \"OTU.4513\"  \"OTU.4888\" \n",
       "[49] \"OTU.49\"    \"OTU.4954\"  \"OTU.528\"   \"OTU.53\"    \"OTU.5436\"  \"OTU.556\"  \n",
       "[55] \"OTU.57\"    \"OTU.673\"   \"OTU.68\"    \"OTU.7\"     \"OTU.712\"   \"OTU.7313\" \n",
       "[61] \"OTU.75\"    \"OTU.7874\"  \"OTU.795\"   \"OTU.8\"     \"OTU.81\"    \"OTU.9\"    \n",
       "[67] \"OTU.9377\"  \"OTU.9421\"  \"OTU.9501\"  \"OTU.96\"    \"OTU.976\"  \n"
      ]
     },
     "metadata": {},
     "output_type": "display_data"
    }
   ],
   "source": [
    "%%R\n",
    "C4.nm_mat = l2f_mat[,c(\"ECHCG\",  \"ELCOR\",  \"ERATE\", \"SETFA\",  \"SORBI\",  \"SORSUD\")] \n",
    "\n",
    "c_sel = apply(C4.nm_mat, 1,function (x) min(x) > 0)\n",
    "   \n",
    "l2f_C4.nmcore = as.data.frame(C4.nm_mat[c_sel,])    \n",
    "C4core = dim(l2f_C4.nmcore)[1]   \n",
    "OTU = row.names(l2f_C4.nmcore)\n",
    "dummy = rep(1, dim(l2f_C4.nmcore)[1])\n",
    "CCT = OTU\n",
    "\n",
    "CCT  "
   ]
  },
  {
   "cell_type": "markdown",
   "metadata": {},
   "source": [
    "### C4 grasses including maize"
   ]
  },
  {
   "cell_type": "code",
   "execution_count": 18,
   "metadata": {
    "collapsed": false
   },
   "outputs": [
    {
     "data": {
      "text/plain": [
       "[1] 50\n"
      ]
     },
     "metadata": {},
     "output_type": "display_data"
    }
   ],
   "source": [
    "%%R\n",
    "C4_mat = l2f_mat[,c(\"75-062\", \"B73\", \"B97\", \"H99\",\"Hp301\",  \"Il14H\",  \"Ki3\", \"Mo18\", \"MS71\", \n",
    "                       \"Oh7B\", \"Tx303\", \"ECHCG\",  \"ELCOR\",  \"ERATE\", \"SETFA\",  \"SORBI\",  \"SORSUD\")] \n",
    "\n",
    "c_sel = apply(C4_mat, 1,function (x) min(x) > 0)\n",
    "   \n",
    "l2f_C4core = C4_mat[c_sel,]    \n",
    " dim(l2f_C4core)[1] \n",
    "\n",
    "\n",
    " "
   ]
  },
  {
   "cell_type": "markdown",
   "metadata": {},
   "source": [
    "### Chloridoideae subfamily"
   ]
  },
  {
   "cell_type": "code",
   "execution_count": 65,
   "metadata": {
    "collapsed": false
   },
   "outputs": [
    {
     "data": {
      "text/plain": [
       "          OTU ChloridoideaeCore\n",
       "1      OTU.10                 1\n",
       "2   OTU.10009                 1\n",
       "3   OTU.10219                 1\n",
       "4   OTU.10253                 1\n",
       "5   OTU.10288                 1\n",
       "6   OTU.10329                 1\n",
       "7    OTU.1034                 1\n",
       "8    OTU.1039                 1\n",
       "9     OTU.104                 1\n",
       "10  OTU.10442                 1\n",
       "11  OTU.10472                 1\n",
       "12  OTU.10520                 1\n",
       "13  OTU.10604                 1\n",
       "14  OTU.10692                 1\n",
       "15   OTU.1070                 1\n",
       "16  OTU.10763                 1\n",
       "17    OTU.108                 1\n",
       "18   OTU.1092                 1\n",
       "19   OTU.1098                 1\n",
       "20  OTU.11012                 1\n",
       "21  OTU.11069                 1\n",
       "22    OTU.112                 1\n",
       "23   OTU.1123                 1\n",
       "24  OTU.11302                 1\n",
       "25    OTU.114                 1\n",
       "26    OTU.117                 1\n",
       "27    OTU.120                 1\n",
       "28  OTU.12012                 1\n",
       "29  OTU.12023                 1\n",
       "30   OTU.1207                 1\n",
       "31  OTU.12373                 1\n",
       "32  OTU.12414                 1\n",
       "33   OTU.1243                 1\n",
       "34    OTU.125                 1\n",
       "35  OTU.12605                 1\n",
       "36   OTU.1289                 1\n",
       "37   OTU.1327                 1\n",
       "38   OTU.1329                 1\n",
       "39   OTU.1335                 1\n",
       "40    OTU.134                 1\n",
       "41   OTU.1340                 1\n",
       "42    OTU.137                 1\n",
       "43   OTU.1403                 1\n",
       "44    OTU.148                 1\n",
       "45   OTU.1491                 1\n",
       "46     OTU.15                 1\n",
       "47    OTU.152                 1\n",
       "48   OTU.1578                 1\n",
       "49   OTU.1605                 1\n",
       "50   OTU.1624                 1\n",
       "51   OTU.1628                 1\n",
       "52   OTU.1649                 1\n",
       "53   OTU.1707                 1\n",
       "54   OTU.1750                 1\n",
       "55    OTU.188                 1\n",
       "56    OTU.189                 1\n",
       "57   OTU.1936                 1\n",
       "58    OTU.194                 1\n",
       "59    OTU.196                 1\n",
       "60    OTU.197                 1\n",
       "61   OTU.1973                 1\n",
       "62    OTU.199                 1\n",
       "63   OTU.1998                 1\n",
       "64    OTU.200                 1\n",
       "65   OTU.2014                 1\n",
       "66   OTU.2060                 1\n",
       "67    OTU.207                 1\n",
       "68    OTU.216                 1\n",
       "69    OTU.219                 1\n",
       "70   OTU.2285                 1\n",
       "71    OTU.229                 1\n",
       "72     OTU.23                 1\n",
       "73     OTU.24                 1\n",
       "74   OTU.2511                 1\n",
       "75   OTU.2529                 1\n",
       "76    OTU.256                 1\n",
       "77    OTU.260                 1\n",
       "78   OTU.2703                 1\n",
       "79    OTU.284                 1\n",
       "80    OTU.293                 1\n",
       "81    OTU.294                 1\n",
       "82    OTU.297                 1\n",
       "83    OTU.299                 1\n",
       "84    OTU.304                 1\n",
       "85    OTU.305                 1\n",
       "86    OTU.307                 1\n",
       "87    OTU.321                 1\n",
       "88     OTU.33                 1\n",
       "89    OTU.334                 1\n",
       "90    OTU.336                 1\n",
       "91    OTU.337                 1\n",
       "92   OTU.3370                 1\n",
       "93   OTU.3387                 1\n",
       "94   OTU.3492                 1\n",
       "95    OTU.354                 1\n",
       "96    OTU.359                 1\n",
       "97   OTU.3784                 1\n",
       "98    OTU.387                 1\n",
       "99    OTU.393                 1\n",
       "100  OTU.3944                 1\n",
       "101     OTU.4                 1\n",
       "102  OTU.4049                 1\n",
       "103   OTU.407                 1\n",
       "104   OTU.414                 1\n",
       "105    OTU.42                 1\n",
       "106   OTU.421                 1\n",
       "107   OTU.422                 1\n",
       "108   OTU.427                 1\n",
       "109  OTU.4340                 1\n",
       "110  OTU.4378                 1\n",
       "111   OTU.440                 1\n",
       "112  OTU.4418                 1\n",
       "113   OTU.442                 1\n",
       "114    OTU.45                 1\n",
       "115  OTU.4513                 1\n",
       "116   OTU.458                 1\n",
       "117  OTU.4585                 1\n",
       "118   OTU.478                 1\n",
       "119   OTU.481                 1\n",
       "120  OTU.4888                 1\n",
       "121    OTU.49                 1\n",
       "122  OTU.4954                 1\n",
       "123   OTU.504                 1\n",
       "124   OTU.517                 1\n",
       "125   OTU.521                 1\n",
       "126   OTU.522                 1\n",
       "127  OTU.5240                 1\n",
       "128  OTU.5251                 1\n",
       "129   OTU.528                 1\n",
       "130    OTU.53                 1\n",
       "131   OTU.536                 1\n",
       "132  OTU.5436                 1\n",
       "133   OTU.555                 1\n",
       "134   OTU.556                 1\n",
       "135  OTU.5587                 1\n",
       "136    OTU.57                 1\n",
       "137   OTU.637                 1\n",
       "138   OTU.641                 1\n",
       "139   OTU.656                 1\n",
       "140   OTU.659                 1\n",
       "141   OTU.673                 1\n",
       "142    OTU.68                 1\n",
       "143     OTU.7                 1\n",
       "144   OTU.704                 1\n",
       "145   OTU.712                 1\n",
       "146   OTU.718                 1\n",
       "147  OTU.7259                 1\n",
       "148  OTU.7270                 1\n",
       "149  OTU.7307                 1\n",
       "150  OTU.7313                 1\n",
       "151  OTU.7380                 1\n",
       "152  OTU.7451                 1\n",
       "153    OTU.75                 1\n",
       "154   OTU.750                 1\n",
       "155   OTU.751                 1\n",
       "156  OTU.7779                 1\n",
       "157  OTU.7801                 1\n",
       "158  OTU.7869                 1\n",
       "159  OTU.7874                 1\n",
       "160   OTU.795                 1\n",
       "161   OTU.797                 1\n",
       "162   OTU.799                 1\n",
       "163     OTU.8                 1\n",
       "164    OTU.81                 1\n",
       "165   OTU.810                 1\n",
       "166   OTU.814                 1\n",
       "167   OTU.826                 1\n",
       "168  OTU.8404                 1\n",
       "169  OTU.8528                 1\n",
       "170  OTU.8662                 1\n",
       "171   OTU.867                 1\n",
       "172   OTU.871                 1\n",
       "173     OTU.9                 1\n",
       "174   OTU.903                 1\n",
       "175   OTU.906                 1\n",
       "176  OTU.9098                 1\n",
       "177  OTU.9110                 1\n",
       "178   OTU.912                 1\n",
       "179  OTU.9174                 1\n",
       "180  OTU.9191                 1\n",
       "181    OTU.92                 1\n",
       "182  OTU.9210                 1\n",
       "183   OTU.923                 1\n",
       "184  OTU.9275                 1\n",
       "185  OTU.9377                 1\n",
       "186  OTU.9421                 1\n",
       "187  OTU.9501                 1\n",
       "188    OTU.96                 1\n",
       "189   OTU.976                 1\n",
       "190  OTU.9965                 1\n"
      ]
     },
     "metadata": {},
     "output_type": "display_data"
    }
   ],
   "source": [
    "%%R\n",
    "Chloridoideae.mat = l2f_mat[, c(\"ERATE\", \"ELCOR\")]\n",
    "\n",
    "c_sel = apply(Chloridoideae.mat, 1,function (x) min(x) > 0)\n",
    "    Chloridoideae.core = Chloridoideae.mat[c_sel,]    \n",
    " dim(Chloridoideae.core)[1]\n",
    "\n",
    "ChCT = cbind(row.names( Chloridoideae.core), rep(1, length(row.names(Chloridoideae.core)))) %>% as.data.frame\n",
    "    colnames(ChCT) = c(\"OTU\", \"ChloridoideaeCore\")\n",
    "    ChCT"
   ]
  },
  {
   "cell_type": "markdown",
   "metadata": {},
   "source": [
    "### Panicoideae subfamily "
   ]
  },
  {
   "cell_type": "code",
   "execution_count": 64,
   "metadata": {
    "collapsed": false
   },
   "outputs": [
    {
     "data": {
      "text/plain": [
       "         OTU PanicoideaeCore\n",
       "1     OTU.10               1\n",
       "2  OTU.10253               1\n",
       "3  OTU.10288               1\n",
       "4   OTU.1034               1\n",
       "5  OTU.10692               1\n",
       "6    OTU.108               1\n",
       "7  OTU.11012               1\n",
       "8  OTU.11069               1\n",
       "9    OTU.114               1\n",
       "10   OTU.120               1\n",
       "11 OTU.12012               1\n",
       "12  OTU.1243               1\n",
       "13   OTU.125               1\n",
       "14   OTU.134               1\n",
       "15   OTU.137               1\n",
       "16    OTU.15               1\n",
       "17   OTU.152               1\n",
       "18   OTU.188               1\n",
       "19   OTU.189               1\n",
       "20   OTU.196               1\n",
       "21  OTU.2000               1\n",
       "22   OTU.207               1\n",
       "23    OTU.23               1\n",
       "24    OTU.24               1\n",
       "25  OTU.2703               1\n",
       "26   OTU.277               1\n",
       "27   OTU.284               1\n",
       "28   OTU.293               1\n",
       "29   OTU.304               1\n",
       "30   OTU.307               1\n",
       "31   OTU.321               1\n",
       "32  OTU.3548               1\n",
       "33  OTU.3910               1\n",
       "34     OTU.4               1\n",
       "35  OTU.4049               1\n",
       "36    OTU.41               1\n",
       "37   OTU.414               1\n",
       "38    OTU.42               1\n",
       "39  OTU.4398               1\n",
       "40   OTU.440               1\n",
       "41  OTU.4423               1\n",
       "42  OTU.4513               1\n",
       "43  OTU.4888               1\n",
       "44    OTU.49               1\n",
       "45   OTU.528               1\n",
       "46    OTU.53               1\n",
       "47  OTU.5436               1\n",
       "48    OTU.57               1\n",
       "49    OTU.63               1\n",
       "50   OTU.663               1\n",
       "51    OTU.68               1\n",
       "52     OTU.7               1\n",
       "53  OTU.7778               1\n",
       "54     OTU.8               1\n",
       "55    OTU.81               1\n",
       "56     OTU.9               1\n",
       "57  OTU.9177               1\n",
       "58  OTU.9377               1\n",
       "59  OTU.9421               1\n",
       "60  OTU.9501               1\n",
       "61    OTU.96               1\n"
      ]
     },
     "metadata": {},
     "output_type": "display_data"
    }
   ],
   "source": [
    "%%R\n",
    "Panicoideae.mat = l2f_mat[, c(\"75-062\", \"B73\", \"B97\", \"H99\",\"Hp301\",  \"Il14H\",  \"Ki3\", \"Mo18\", \"MS71\", \n",
    "                       \"Oh7B\", \"Tx303\", \"SETFA\", \"ECHCG\", \"SORSUD\", \"SORBI\")]\n",
    "\n",
    "c_sel = apply(Panicoideae.mat, 1,function (x) min(x) > 0)\n",
    "    Panicoideae.core = Panicoideae.mat[c_sel,]    \n",
    " dim(Panicoideae.core)[1]\n",
    "     dim(Panicoideae.core)[1]\n",
    "        PCT = cbind(row.names( Panicoideae.core), rep(1, length(row.names(Panicoideae.core)))) %>% as.data.frame\n",
    "    colnames(PCT) = c(\"OTU\", \"PanicoideaeCore\")\n",
    "    PCT"
   ]
  },
  {
   "cell_type": "code",
   "execution_count": null,
   "metadata": {
    "collapsed": true
   },
   "outputs": [],
   "source": []
  },
  {
   "cell_type": "markdown",
   "metadata": {},
   "source": [
    "## Panicoideae/Paniceae"
   ]
  },
  {
   "cell_type": "code",
   "execution_count": 63,
   "metadata": {
    "collapsed": false
   },
   "outputs": [
    {
     "data": {
      "text/plain": [
       "          OTU PaniceaeCore\n",
       "1      OTU.10            1\n",
       "2     OTU.101            1\n",
       "3   OTU.10221            1\n",
       "4   OTU.10249            1\n",
       "5   OTU.10253            1\n",
       "6   OTU.10288            1\n",
       "7    OTU.1034            1\n",
       "8    OTU.1039            1\n",
       "9   OTU.10692            1\n",
       "10   OTU.1073            1\n",
       "11  OTU.10763            1\n",
       "12   OTU.1078            1\n",
       "13    OTU.108            1\n",
       "14   OTU.1092            1\n",
       "15   OTU.1094            1\n",
       "16  OTU.10966            1\n",
       "17  OTU.11012            1\n",
       "18  OTU.11069            1\n",
       "19    OTU.112            1\n",
       "20    OTU.114            1\n",
       "21   OTU.1141            1\n",
       "22   OTU.1149            1\n",
       "23  OTU.11804            1\n",
       "24   OTU.1195            1\n",
       "25  OTU.11995            1\n",
       "26    OTU.120            1\n",
       "27  OTU.12012            1\n",
       "28    OTU.123            1\n",
       "29   OTU.1233            1\n",
       "30  OTU.12373            1\n",
       "31   OTU.1242            1\n",
       "32   OTU.1243            1\n",
       "33    OTU.125            1\n",
       "34  OTU.12628            1\n",
       "35   OTU.1272            1\n",
       "36   OTU.1279            1\n",
       "37   OTU.1280            1\n",
       "38   OTU.1289            1\n",
       "39   OTU.1308            1\n",
       "40   OTU.1329            1\n",
       "41    OTU.134            1\n",
       "42    OTU.137            1\n",
       "43   OTU.1390            1\n",
       "44   OTU.1403            1\n",
       "45   OTU.1462            1\n",
       "46   OTU.1478            1\n",
       "47     OTU.15            1\n",
       "48   OTU.1504            1\n",
       "49    OTU.152            1\n",
       "50   OTU.1523            1\n",
       "51   OTU.1554            1\n",
       "52    OTU.160            1\n",
       "53    OTU.162            1\n",
       "54   OTU.1628            1\n",
       "55   OTU.1650            1\n",
       "56   OTU.1668            1\n",
       "57    OTU.173            1\n",
       "58   OTU.1737            1\n",
       "59   OTU.1750            1\n",
       "60   OTU.1802            1\n",
       "61    OTU.182            1\n",
       "62    OTU.183            1\n",
       "63   OTU.1850            1\n",
       "64   OTU.1857            1\n",
       "65    OTU.188            1\n",
       "66    OTU.189            1\n",
       "67   OTU.1899            1\n",
       "68     OTU.19            1\n",
       "69   OTU.1936            1\n",
       "70    OTU.194            1\n",
       "71   OTU.1954            1\n",
       "72    OTU.196            1\n",
       "73   OTU.1970            1\n",
       "74    OTU.199            1\n",
       "75   OTU.1998            1\n",
       "76     OTU.20            1\n",
       "77   OTU.2000            1\n",
       "78   OTU.2030            1\n",
       "79    OTU.204            1\n",
       "80   OTU.2057            1\n",
       "81   OTU.2060            1\n",
       "82    OTU.207            1\n",
       "83   OTU.2073            1\n",
       "84   OTU.2111            1\n",
       "85   OTU.2132            1\n",
       "86    OTU.216            1\n",
       "87   OTU.2169            1\n",
       "88    OTU.218            1\n",
       "89    OTU.221            1\n",
       "90   OTU.2285            1\n",
       "91     OTU.23            1\n",
       "92   OTU.2320            1\n",
       "93   OTU.2395            1\n",
       "94     OTU.24            1\n",
       "95   OTU.2426            1\n",
       "96   OTU.2431            1\n",
       "97    OTU.251            1\n",
       "98   OTU.2513            1\n",
       "99   OTU.2557            1\n",
       "100  OTU.2588            1\n",
       "101   OTU.260            1\n",
       "102  OTU.2703            1\n",
       "103   OTU.277            1\n",
       "104   OTU.284            1\n",
       "105   OTU.293            1\n",
       "106   OTU.295            1\n",
       "107  OTU.2969            1\n",
       "108   OTU.297            1\n",
       "109  OTU.3034            1\n",
       "110   OTU.304            1\n",
       "111   OTU.307            1\n",
       "112  OTU.3114            1\n",
       "113  OTU.3119            1\n",
       "114  OTU.3128            1\n",
       "115   OTU.313            1\n",
       "116   OTU.321            1\n",
       "117   OTU.330            1\n",
       "118   OTU.333            1\n",
       "119   OTU.337            1\n",
       "120  OTU.3423            1\n",
       "121  OTU.3492            1\n",
       "122   OTU.354            1\n",
       "123  OTU.3548            1\n",
       "124  OTU.3560            1\n",
       "125  OTU.3671            1\n",
       "126  OTU.3784            1\n",
       "127  OTU.3863            1\n",
       "128   OTU.387            1\n",
       "129  OTU.3906            1\n",
       "130  OTU.3910            1\n",
       "131   OTU.393            1\n",
       "132  OTU.3967            1\n",
       "133  OTU.3981            1\n",
       "134     OTU.4            1\n",
       "135   OTU.404            1\n",
       "136  OTU.4049            1\n",
       "137   OTU.407            1\n",
       "138    OTU.41            1\n",
       "139   OTU.414            1\n",
       "140    OTU.42            1\n",
       "141   OTU.420            1\n",
       "142   OTU.422            1\n",
       "143   OTU.427            1\n",
       "144  OTU.4280            1\n",
       "145  OTU.4340            1\n",
       "146   OTU.435            1\n",
       "147  OTU.4374            1\n",
       "148  OTU.4378            1\n",
       "149  OTU.4398            1\n",
       "150   OTU.440            1\n",
       "151  OTU.4418            1\n",
       "152   OTU.442            1\n",
       "153  OTU.4423            1\n",
       "154   OTU.444            1\n",
       "155    OTU.45            1\n",
       "156  OTU.4513            1\n",
       "157  OTU.4585            1\n",
       "158   OTU.470            1\n",
       "159   OTU.473            1\n",
       "160   OTU.478            1\n",
       "161   OTU.481            1\n",
       "162  OTU.4888            1\n",
       "163    OTU.49            1\n",
       "164  OTU.4954            1\n",
       "165   OTU.504            1\n",
       "166  OTU.5078            1\n",
       "167  OTU.5240            1\n",
       "168   OTU.528            1\n",
       "169    OTU.53            1\n",
       "170  OTU.5350            1\n",
       "171   OTU.539            1\n",
       "172  OTU.5436            1\n",
       "173   OTU.546            1\n",
       "174   OTU.548            1\n",
       "175   OTU.555            1\n",
       "176   OTU.556            1\n",
       "177  OTU.5574            1\n",
       "178    OTU.57            1\n",
       "179  OTU.5827            1\n",
       "180   OTU.595            1\n",
       "181   OTU.597            1\n",
       "182    OTU.63            1\n",
       "183   OTU.644            1\n",
       "184   OTU.656            1\n",
       "185   OTU.659            1\n",
       "186   OTU.663            1\n",
       "187   OTU.671            1\n",
       "188   OTU.673            1\n",
       "189    OTU.68            1\n",
       "190   OTU.681            1\n",
       "191  OTU.6839            1\n",
       "192  OTU.6941            1\n",
       "193     OTU.7            1\n",
       "194   OTU.704            1\n",
       "195  OTU.7058            1\n",
       "196   OTU.706            1\n",
       "197   OTU.712            1\n",
       "198  OTU.7259            1\n",
       "199  OTU.7270            1\n",
       "200  OTU.7313            1\n",
       "201    OTU.74            1\n",
       "202    OTU.75            1\n",
       "203   OTU.751            1\n",
       "204   OTU.773            1\n",
       "205  OTU.7778            1\n",
       "206   OTU.778            1\n",
       "207  OTU.7869            1\n",
       "208  OTU.7874            1\n",
       "209   OTU.795            1\n",
       "210   OTU.796            1\n",
       "211   OTU.797            1\n",
       "212  OTU.7982            1\n",
       "213     OTU.8            1\n",
       "214  OTU.8023            1\n",
       "215  OTU.8086            1\n",
       "216    OTU.81            1\n",
       "217   OTU.817            1\n",
       "218  OTU.8200            1\n",
       "219   OTU.826            1\n",
       "220    OTU.84            1\n",
       "221  OTU.8404            1\n",
       "222   OTU.844            1\n",
       "223   OTU.845            1\n",
       "224   OTU.867            1\n",
       "225  OTU.8678            1\n",
       "226  OTU.8729            1\n",
       "227  OTU.8768            1\n",
       "228     OTU.9            1\n",
       "229  OTU.9073            1\n",
       "230   OTU.912            1\n",
       "231  OTU.9174            1\n",
       "232  OTU.9177            1\n",
       "233  OTU.9191            1\n",
       "234  OTU.9206            1\n",
       "235  OTU.9377            1\n",
       "236  OTU.9409            1\n",
       "237  OTU.9421            1\n",
       "238  OTU.9501            1\n",
       "239  OTU.9520            1\n",
       "240    OTU.96            1\n",
       "241   OTU.971            1\n",
       "242  OTU.9734            1\n",
       "243  OTU.9752            1\n",
       "244   OTU.976            1\n",
       "245  OTU.9965            1\n"
      ]
     },
     "metadata": {},
     "output_type": "display_data"
    }
   ],
   "source": [
    "%%R\n",
    "Paniceae.mat = l2f_mat[, c(\"ECHCG\", \"SETFA\")]\n",
    "\n",
    "c_sel = apply(Paniceae.mat, 1,function (x) min(x) > 0)\n",
    "    Paniceae.core = Paniceae.mat[c_sel,]    \n",
    " dim(Paniceae.core)[1]\n",
    "        P_PCT = cbind(row.names( Paniceae.core), rep(1, length(row.names(Paniceae.core)))) %>% as.data.frame\n",
    "    colnames(P_PCT) = c(\"OTU\", \"PaniceaeCore\")\n",
    "    P_PCT"
   ]
  },
  {
   "cell_type": "markdown",
   "metadata": {},
   "source": [
    "## Panicoideae/Anropogoneae\n"
   ]
  },
  {
   "cell_type": "code",
   "execution_count": 61,
   "metadata": {
    "collapsed": false
   },
   "outputs": [
    {
     "data": {
      "text/plain": [
       "         OTU AndropogoneaeCore\n",
       "1     OTU.10                 1\n",
       "2  OTU.10253                 1\n",
       "3  OTU.10288                 1\n",
       "4   OTU.1034                 1\n",
       "5    OTU.104                 1\n",
       "6  OTU.10472                 1\n",
       "7  OTU.10692                 1\n",
       "8    OTU.108                 1\n",
       "9   OTU.1098                 1\n",
       "10 OTU.11012                 1\n",
       "11 OTU.11069                 1\n",
       "12   OTU.114                 1\n",
       "13   OTU.120                 1\n",
       "14 OTU.12012                 1\n",
       "15 OTU.12414                 1\n",
       "16  OTU.1243                 1\n",
       "17   OTU.125                 1\n",
       "18   OTU.134                 1\n",
       "19   OTU.137                 1\n",
       "20    OTU.15                 1\n",
       "21   OTU.152                 1\n",
       "22   OTU.188                 1\n",
       "23   OTU.189                 1\n",
       "24   OTU.196                 1\n",
       "25   OTU.197                 1\n",
       "26   OTU.200                 1\n",
       "27  OTU.2000                 1\n",
       "28   OTU.202                 1\n",
       "29   OTU.207                 1\n",
       "30    OTU.23                 1\n",
       "31    OTU.24                 1\n",
       "32    OTU.25                 1\n",
       "33  OTU.2703                 1\n",
       "34   OTU.277                 1\n",
       "35   OTU.284                 1\n",
       "36   OTU.293                 1\n",
       "37     OTU.3                 1\n",
       "38   OTU.304                 1\n",
       "39   OTU.307                 1\n",
       "40   OTU.321                 1\n",
       "41  OTU.3548                 1\n",
       "42  OTU.3910                 1\n",
       "43     OTU.4                 1\n",
       "44  OTU.4049                 1\n",
       "45    OTU.41                 1\n",
       "46   OTU.414                 1\n",
       "47    OTU.42                 1\n",
       "48  OTU.4398                 1\n",
       "49   OTU.440                 1\n",
       "50  OTU.4423                 1\n",
       "51  OTU.4513                 1\n",
       "52  OTU.4888                 1\n",
       "53    OTU.49                 1\n",
       "54  OTU.5251                 1\n",
       "55   OTU.528                 1\n",
       "56    OTU.53                 1\n",
       "57  OTU.5436                 1\n",
       "58    OTU.57                 1\n",
       "59    OTU.63                 1\n",
       "60   OTU.641                 1\n",
       "61   OTU.663                 1\n",
       "62    OTU.68                 1\n",
       "63     OTU.7                 1\n",
       "64  OTU.7529                 1\n",
       "65  OTU.7778                 1\n",
       "66     OTU.8                 1\n",
       "67    OTU.81                 1\n",
       "68     OTU.9                 1\n",
       "69  OTU.9177                 1\n",
       "70  OTU.9377                 1\n",
       "71  OTU.9421                 1\n",
       "72  OTU.9501                 1\n",
       "73    OTU.96                 1\n"
      ]
     },
     "metadata": {},
     "output_type": "display_data"
    }
   ],
   "source": [
    "%%R\n",
    "Andropogoneae.mat = l2f_mat[, c(\"75-062\", \"B73\", \"B97\", \"H99\",\"Hp301\",  \"Il14H\",  \"Ki3\", \"Mo18\", \"MS71\", \n",
    "                       \"Oh7B\", \"Tx303\", \"SORSUD\", \"SORBI\")]\n",
    "\n",
    "c_sel = apply(Andropogoneae.mat, 1,function (x) min(x) > 0)\n",
    "    Andropogoneae.core = Andropogoneae.mat[c_sel,]    \n",
    " dim(Andropogoneae.core)[1]\n",
    "    Andropogoneae.core\n",
    "    ACT = cbind(row.names( Andropogoneae.core), rep(1, length(row.names(Andropogoneae.core)))) %>% as.data.frame\n",
    "    colnames(ACT) = c(\"OTU\", \"AndropogoneaeCore\")\n",
    "    ACT"
   ]
  },
  {
   "cell_type": "markdown",
   "metadata": {
    "collapsed": true
   },
   "source": [
    "### Dicots"
   ]
  },
  {
   "cell_type": "code",
   "execution_count": 19,
   "metadata": {
    "collapsed": false
   },
   "outputs": [
    {
     "data": {
      "text/plain": [
       " [1] \"OTU.10\"    \"OTU.10249\" \"OTU.10253\" \"OTU.10288\" \"OTU.1034\"  \"OTU.104\"  \n",
       " [7] \"OTU.10472\" \"OTU.108\"   \"OTU.11012\" \"OTU.11069\" \"OTU.112\"   \"OTU.114\"  \n",
       "[13] \"OTU.12023\" \"OTU.1242\"  \"OTU.1243\"  \"OTU.134\"   \"OTU.1403\"  \"OTU.152\"  \n",
       "[19] \"OTU.162\"   \"OTU.1628\"  \"OTU.173\"   \"OTU.189\"   \"OTU.194\"   \"OTU.196\"  \n",
       "[25] \"OTU.200\"   \"OTU.207\"   \"OTU.2285\"  \"OTU.24\"    \"OTU.260\"   \"OTU.284\"  \n",
       "[31] \"OTU.293\"   \"OTU.336\"   \"OTU.3910\"  \"OTU.4\"     \"OTU.4049\"  \"OTU.406\"  \n",
       "[37] \"OTU.414\"   \"OTU.4340\"  \"OTU.4423\"  \"OTU.4513\"  \"OTU.4888\"  \"OTU.49\"   \n",
       "[43] \"OTU.536\"   \"OTU.5436\"  \"OTU.641\"   \"OTU.671\"   \"OTU.68\"    \"OTU.704\"  \n",
       "[49] \"OTU.7259\"  \"OTU.8\"     \"OTU.9\"     \"OTU.9174\"  \"OTU.9377\"  \"OTU.9421\" \n",
       "[55] \"OTU.9501\"  \"OTU.96\"   \n"
      ]
     },
     "metadata": {},
     "output_type": "display_data"
    }
   ],
   "source": [
    "%%R\n",
    "Dicot_mat = l2f_mat[,c(\"AMAPO\", \"ABUTH\", \"FAGES\", \"HELAN\", \"GLYMA\")] \n",
    "\n",
    "c_sel = apply(Dicot_mat, 1,function (x) min(x) > 0)\n",
    "   \n",
    "l2f_Dicotcore = Dicot_mat[c_sel,]    \n",
    "Dicotcore = dim(l2f_Dicotcore)[1] \n",
    "dummy = rep(1, dim(l2f_Dicotcore)[1])\n",
    "OTU = row.names(l2f_Dicotcore)\n",
    "DCT = OTU\n",
    "#colnames(DCT) = c(\"OTU\", \"dummy\")\n",
    "DCT"
   ]
  },
  {
   "cell_type": "markdown",
   "metadata": {},
   "source": [
    "## Create Venn Diagram"
   ]
  },
  {
   "cell_type": "code",
   "execution_count": 20,
   "metadata": {
    "collapsed": false
   },
   "outputs": [
    {
     "data": {
      "text/plain": [
       "[1] 71\n"
      ]
     },
     "metadata": {},
     "output_type": "display_data"
    }
   ],
   "source": [
    "%%R\n",
    "#Create tables that will be basis of comparisons\n",
    "#Add OTU\n",
    "#All plants\n",
    "A1 = length(MCT) #Maize\n",
    "A2 = length(CCT) #C4 grasses\n",
    "A3 = length(DCT) #Dictos\n",
    "A12 = length(unique(intersect(MCT, CCT)))\n",
    "A13 = length(unique(intersect(MCT, DCT)))\n",
    "A23 = length(unique(intersect(CCT, DCT)))\n",
    "A123 = Allcore\n",
    "A2"
   ]
  },
  {
   "cell_type": "code",
   "execution_count": 21,
   "metadata": {
    "collapsed": false
   },
   "outputs": [
    {
     "data": {
      "image/png": "[encoded data removed]"
     },
     "metadata": {},
     "output_type": "display_data"
    }
   ],
   "source": [
    "%%R\n",
    "\n",
    "\n",
    "#Draw venn diagram \n",
    "venn.plot <- draw.triple.venn(\n",
    "area1 = A1,\n",
    "area2 = A2,\n",
    "area3 = A3,\n",
    "n12 = A12,\n",
    "n23 = A23,\n",
    "n13 = A13,\n",
    "n123 = A123,\n",
    "category = c(\"Maize\", \"C4 Grass\", \"Dicot\"),\n",
    "euler.d = TRUE, \n",
    "fill = c(\"blue\", \"red\", \"green\"),\n",
    "lty = \"blank\",\n",
    "cex = 2,\n",
    "cat.cex = 2,\n",
    "cat.col = c(\"blue\", \"red\", \"green\")\n",
    ");\n",
    "grid.draw(venn.plot);\n",
    "grid.newpage();\n",
    "\n",
    "\n",
    "\n",
    "# area1 = 65,\n",
    "# area2 = 75,\n",
    "# area3 = 85,\n",
    "# n12 = 35,\n",
    "# n23 = 15,\n",
    "# n13 = 25,\n",
    "# n123 = 5,"
   ]
  },
  {
   "cell_type": "code",
   "execution_count": 22,
   "metadata": {
    "collapsed": false
   },
   "outputs": [
    {
     "data": {
      "image/png": "[encoded data removed]"
     },
     "metadata": {},
     "output_type": "display_data"
    }
   ],
   "source": [
    "%%R\n",
    "#Draw venn diagram \n",
    "venn.plot <- draw.triple.venn(\n",
    "area1 = A1,\n",
    "area2 = A2,\n",
    "area3 = A3,\n",
    "n12 = A12,\n",
    "n23 = A23,\n",
    "n13 = A13,\n",
    "n123 = A123,\n",
    "category = c(\"Maize\", \"C4 Grass\", \"Dicot\"),\n",
    "euler.d = TRUE, \n",
    "fill = c(\"blue\", \"red\", \"green\"),\n",
    "lty = \"blank\",\n",
    "cex = 2,\n",
    "cat.cex = 2,\n",
    "cat.col = c(\"blue\", \"red\", \"green\")\n",
    ");\n",
    "grid.draw(venn.plot);\n",
    "grid.newpage();\n",
    "\n",
    "\n",
    "\n"
   ]
  },
  {
   "cell_type": "markdown",
   "metadata": {},
   "source": [
    "## Core on a sampling date"
   ]
  },
  {
   "cell_type": "markdown",
   "metadata": {},
   "source": [
    "### Day 53"
   ]
  },
  {
   "cell_type": "code",
   "execution_count": 23,
   "metadata": {
    "collapsed": false
   },
   "outputs": [
    {
     "data": {
      "text/plain": [
       "[1] 233   5\n"
      ]
     },
     "metadata": {},
     "output_type": "display_data"
    }
   ],
   "source": [
    "%%R\n",
    "Date_mat = l2f_mat[,c(\"AMAPO\", \"ECHCG\")] \n",
    "\n",
    "c_sel = apply(Date_mat, 1,function (x) min(x) > 0)\n",
    "   \n",
    "l2f_dateCore = Dicot_mat[c_sel,]    \n",
    "dim(l2f_dateCore)   "
   ]
  },
  {
   "cell_type": "markdown",
   "metadata": {},
   "source": [
    "### Day 57"
   ]
  },
  {
   "cell_type": "code",
   "execution_count": 24,
   "metadata": {
    "collapsed": false
   },
   "outputs": [
    {
     "data": {
      "text/plain": [
       "[1] 226   5\n"
      ]
     },
     "metadata": {},
     "output_type": "display_data"
    }
   ],
   "source": [
    "%%R\n",
    "Date_mat = l2f_mat[,c(\"GLYMA\", \"ABUTH\")] \n",
    "\n",
    "c_sel = apply(Date_mat, 1,function (x) min(x) > 0)\n",
    "   \n",
    "l2f_dateCore = Dicot_mat[c_sel,]    \n",
    "dim(l2f_dateCore)  "
   ]
  },
  {
   "cell_type": "markdown",
   "metadata": {},
   "source": [
    "### Day 72"
   ]
  },
  {
   "cell_type": "code",
   "execution_count": 25,
   "metadata": {
    "collapsed": false
   },
   "outputs": [
    {
     "data": {
      "text/plain": [
       "[1] 162   5\n"
      ]
     },
     "metadata": {},
     "output_type": "display_data"
    }
   ],
   "source": [
    "%%R\n",
    "Date_mat = l2f_mat[,c(\"75-062\",\"ERATE\",\"H99\",\"Il14H\",  \"MS71\" )] \n",
    "\n",
    "c_sel = apply(Date_mat, 1,function (x) min(x) > 0)\n",
    "   \n",
    "l2f_dateCore = Dicot_mat[c_sel,]    \n",
    "dim(l2f_dateCore) \n"
   ]
  },
  {
   "cell_type": "markdown",
   "metadata": {},
   "source": [
    "### Day 79"
   ]
  },
  {
   "cell_type": "code",
   "execution_count": 26,
   "metadata": {
    "collapsed": false
   },
   "outputs": [
    {
     "data": {
      "text/plain": [
       "[1] 276   5\n"
      ]
     },
     "metadata": {},
     "output_type": "display_data"
    }
   ],
   "source": [
    "%%R\n",
    "Date_mat = l2f_mat[,c(\"B73\" ,  \"B97\"  , \"Hp301\", \"Oh7B\"  )] \n",
    "\n",
    "c_sel = apply(Date_mat, 1,function (x) min(x) > 0)\n",
    "   \n",
    "l2f_dateCore = Dicot_mat[c_sel,]    \n",
    "dim(l2f_dateCore) \n"
   ]
  },
  {
   "cell_type": "markdown",
   "metadata": {},
   "source": [
    "### Day 84"
   ]
  },
  {
   "cell_type": "code",
   "execution_count": 27,
   "metadata": {
    "collapsed": false
   },
   "outputs": [
    {
     "data": {
      "text/plain": [
       "[1] 100   5\n"
      ]
     },
     "metadata": {},
     "output_type": "display_data"
    }
   ],
   "source": [
    "%%R\n",
    "Date_mat = l2f_mat[,c(\"HELAN\" , \"SORBI\" , \"SORSUD\"  )] \n",
    "\n",
    "c_sel = apply(Date_mat, 1,function (x) min(x) > 0)\n",
    "   \n",
    "l2f_dateCore = Dicot_mat[c_sel,]    \n",
    "dim(l2f_dateCore)"
   ]
  },
  {
   "cell_type": "markdown",
   "metadata": {},
   "source": [
    "### Day 88"
   ]
  },
  {
   "cell_type": "code",
   "execution_count": 28,
   "metadata": {
    "collapsed": false,
    "scrolled": true
   },
   "outputs": [
    {
     "data": {
      "text/plain": [
       "[1] 105   5\n"
      ]
     },
     "metadata": {},
     "output_type": "display_data"
    }
   ],
   "source": [
    "%%R\n",
    "Date_mat = l2f_mat[,c(\"ELCOR\", \"Ki3\" ,  \"Mo18\" , \"Tx303\")] \n",
    "\n",
    "c_sel = apply(Date_mat, 1,function (x) min(x) > 0)\n",
    "   \n",
    "l2f_dateCore = Dicot_mat[c_sel,]    \n",
    "dim(l2f_dateCore)"
   ]
  },
  {
   "cell_type": "markdown",
   "metadata": {},
   "source": [
    "# Core members"
   ]
  },
  {
   "cell_type": "markdown",
   "metadata": {},
   "source": [
    "## All rhizosphere core"
   ]
  },
  {
   "cell_type": "code",
   "execution_count": 29,
   "metadata": {
    "collapsed": false
   },
   "outputs": [
    {
     "data": {
      "text/plain": [
       "phyloseq-class experiment-level object\n",
       "otu_table()   OTU Table:         [ 4982 taxa and 238 samples ]\n",
       "sample_data() Sample Data:       [ 238 samples by 55 sample variables ]\n",
       "tax_table()   Taxonomy Table:    [ 4982 taxa by 8 taxonomic ranks ]\n",
       "phy_tree()    Phylogenetic Tree: [ 4982 tips and 4981 internal nodes ]\n"
      ]
     },
     "metadata": {},
     "output_type": "display_data"
    }
   ],
   "source": [
    "%%R\n",
    "F = file.path('/home/bryan/RhizCG/data/MiSeq_amplicon/MergedRuns/physeq/Full-Sparsity3in3')\n",
    "physeq.Full = readRDS(F)\n",
    "sd = sample_data(physeq.Full)\n",
    "physeq.Full"
   ]
  },
  {
   "cell_type": "code",
   "execution_count": 30,
   "metadata": {
    "collapsed": false,
    "scrolled": true
   },
   "outputs": [
    {
     "name": "stderr",
     "output_type": "stream",
     "text": [
      "/opt/anaconda/lib/python2.7/site-packages/rpy2/robjects/functions.py:106: UserWarning: Joining by: \"OTU\"\n",
      "\n",
      "  res = super(Function, self).__call__(*new_args, **new_kwargs)\n"
     ]
    }
   ],
   "source": [
    "%%R\n",
    "#Make variable for joining\n",
    "Taxa = tax_table(physeq.Full) %>% as.data.frame()\n",
    "Taxa$OTU = row.names(Taxa)\n",
    "Coretbl = as.data.frame(l2f_rhizcore)\n",
    "Coretbl$OTU = row.names(Coretbl)\n",
    "\n",
    "CoreTaxa = inner_join(Coretbl, Taxa)"
   ]
  },
  {
   "cell_type": "code",
   "execution_count": 31,
   "metadata": {
    "collapsed": false,
    "scrolled": true
   },
   "outputs": [
    {
     "data": {
      "text/plain": [
       "     75-062    ABUTH    AMAPO      B73      B97    ECHCG    ELCOR    ERATE\n",
       "1  3.755553 3.554574 3.913238 4.730054 3.983959 4.116643 3.242262 3.998816\n",
       "2  5.891288 4.852547 6.363949 6.351210 5.331523 5.517604 4.845139 5.770661\n",
       "3  4.276646 3.085141 3.694847 6.401280 5.676574 3.456203 4.096773 4.102399\n",
       "4  3.299086 4.204686 4.402033 5.804496 4.685607 2.176160 3.775422 4.560968\n",
       "5  5.631446 8.378662 7.345840 7.097692 5.431812 6.145990 7.452859 7.363096\n",
       "6  3.188175 3.288303 3.751331 4.541218 3.735438 2.686601 3.797897 3.177429\n",
       "7  3.586984 2.491399 3.365728 5.485980 4.020008 3.499923 2.864703 2.844242\n",
       "8  3.285204 5.306045 3.926893 4.014599 3.433749 4.007883 3.147667 4.432104\n",
       "9  4.314674 4.757807 3.722280 5.490029 4.592643 3.619629 5.628495 4.056646\n",
       "10 2.709302 3.181629 2.999717 3.492144 2.774897 2.386902 3.006625 2.679636\n",
       "11 3.085641 3.787463 4.537547 4.156385 3.258488 4.687530 3.508734 3.110849\n",
       "12 4.404056 5.411230 4.184066 4.953385 4.198393 5.186166 4.203979 5.636966\n",
       "13 4.643349 7.799628 5.234562 7.170934 6.553973 4.814917 7.242233 4.984794\n",
       "14 4.098132 5.196831 4.538450 5.311279 4.334783 4.600984 5.231130 5.662959\n",
       "15 3.002158 3.219911 3.169794 4.169787 3.557916 3.878571 4.812095 2.749290\n",
       "16 4.273167 5.466938 5.011614 6.890434 5.929668 4.743894 9.345365 3.476150\n",
       "17 6.110420 6.965678 6.346433 9.599368 8.353293 5.704065 6.575806 7.142919\n",
       "18 5.562430 6.287901 4.166044 6.676456 5.743141 4.296098 3.719515 5.910768\n",
       "19 2.982063 3.582091 2.679583 5.402352 3.805546 3.804056 4.273982 3.177252\n",
       "20 4.108959 5.199346 5.475791 5.156417 4.224161 3.863799 4.122052 4.015658\n",
       "21 3.066968 3.450438 5.050016 4.626100 3.714277 5.252472 5.478117 3.274773\n",
       "22 5.501566 4.904598 5.365690 7.154343 6.292981 5.643882 5.332236 5.944824\n",
       "23 4.404785 4.641177 4.519829 5.425173 4.831101 4.580924 4.761904 4.850851\n",
       "24 3.615446 3.272126 1.940749 4.474413 3.190729 2.078580 2.961759 2.958335\n",
       "25 7.081630 5.806458 6.609393 9.876296 8.992305 8.369847 5.854206 7.874030\n",
       "26 5.835002 4.917312 5.657086 6.878895 5.933235 6.362010 4.208328 6.154533\n",
       "27 5.759777 2.975855 5.467434 7.013146 5.627281 5.505815 6.875171 5.487284\n",
       "28 3.497206 4.725408 3.500849 4.415642 3.712066 3.446117 3.417414 3.308813\n",
       "29 8.482803 5.158272 6.760862 8.049310 6.360375 6.278720 6.129229 9.662251\n",
       "30 5.959665 3.610742 5.626474 7.525687 7.468165 5.376200 4.951755 5.904414\n",
       "31 4.449127 5.981994 3.305776 5.351853 3.998027 4.013223 5.332794 4.767232\n",
       "      FAGES    GLYMA      H99    HELAN    Hp301    Il14H      Ki3     Mo18\n",
       "1  2.226031 4.493125 2.409564 2.879535 4.408774 4.349912 4.357638 4.045558\n",
       "2  5.580223 5.660991 5.152263 4.257143 4.908466 6.579830 4.679848 3.465344\n",
       "3  3.191529 5.377851 3.189090 3.550559 5.050383 5.506867 4.349744 5.870859\n",
       "4  3.797033 4.039305 2.584510 5.698961 4.455983 4.015856 3.780781 3.811275\n",
       "5  3.860249 8.134537 3.647741 5.040625 5.488832 5.465236 4.691900 4.902266\n",
       "6  2.610554 5.154178 1.921398 3.479131 2.480395 3.466440 3.259706 3.952257\n",
       "7  3.672461 2.922459 3.126648 3.961281 2.994571 4.351680 3.813783 4.302796\n",
       "8  2.204512 4.644978 2.651313 4.592101 3.157405 3.831226 2.806724 2.744357\n",
       "9  3.032518 5.842652 4.460172 5.622395 4.124093 4.215025 5.450774 6.017930\n",
       "10 2.288698 3.776202 1.550794 1.775858 2.458253 3.004027 3.107565 2.919146\n",
       "11 2.639293 4.333994 2.439656 3.187309 3.006935 3.171432 3.136032 3.189426\n",
       "12 5.364743 4.995793 2.603100 3.113507 4.326954 4.619942 3.792653 2.693943\n",
       "13 3.799188 7.275456 2.865885 6.906405 4.343212 5.336494 6.364266 6.523568\n",
       "14 1.836364 4.894796 4.260887 4.344300 4.006410 5.692125 4.089276 4.390522\n",
       "15 1.885921 3.367409 2.978129 2.672088 3.147309 3.584609 4.050730 4.020645\n",
       "16 2.067653 6.869112 5.106092 4.559389 5.803128 4.781788 7.706934 8.188691\n",
       "17 3.763295 7.410128 4.345121 6.597843 7.151203 6.591011 5.879804 5.424064\n",
       "18 4.017047 6.493444 4.945718 4.117209 5.004573 6.191094 4.464581 4.729313\n",
       "19 1.948098 5.874204 1.992816 2.985882 3.885017 4.180340 2.901183 3.996706\n",
       "20 2.849804 5.928626 2.895380 2.956158 4.635933 4.176305 3.217213 3.197937\n",
       "21 2.950861 3.378994 2.887541 5.461907 3.672342 3.232863 4.610943 4.408166\n",
       "22 6.008683 7.565051 5.181771 6.859790 5.687838 6.757931 6.749605 7.204889\n",
       "23 1.935667 4.861879 3.744443 4.240290 3.966194 4.501966 4.111985 4.143785\n",
       "24 1.653601 3.941553 2.141252 2.566877 2.696968 3.444075 2.897993 3.712075\n",
       "25 2.797850 6.430288 5.753705 6.389898 7.610997 8.028265 6.047396 5.629914\n",
       "26 5.738355 6.946052 5.629946 6.849233 5.814334 6.448784 5.756392 5.920380\n",
       "27 1.662386 2.830028 5.743564 5.518281 6.186418 5.579290 6.553671 7.320106\n",
       "28 1.886357 5.266658 2.015047 3.720358 4.267072 3.509299 3.462244 3.994186\n",
       "29 6.230805 7.780761 8.461873 6.149376 5.961804 9.501240 6.692504 7.370152\n",
       "30 3.272888 5.186768 4.245163 6.287191 5.316322 6.784290 5.240852 5.263979\n",
       "31 2.404066 5.859862 2.590677 6.723171 4.404526 4.395922 2.670261 3.503600\n",
       "       MS71     Oh7B     SETFA    SORBI   SORSUD    Tx303       OTU    Rank1\n",
       "1  4.070247 4.407135  5.485889 4.388059 3.768520 5.258469    OTU.10 Bacteria\n",
       "2  6.667878 5.939548  7.448132 3.973479 4.773412 4.457029 OTU.10253 Bacteria\n",
       "3  3.866440 5.010689  6.279051 3.127341 2.928823 5.103139 OTU.10288 Bacteria\n",
       "4  3.310822 5.312922  3.809245 3.824159 4.137952 3.875819  OTU.1034 Bacteria\n",
       "5  4.613070 5.622545  6.490670 6.239930 6.416389 4.655197   OTU.108 Bacteria\n",
       "6  2.907838 3.665804  4.320506 2.681018 3.107065 4.172534 OTU.11012 Bacteria\n",
       "7  4.370347 4.125514  2.418577 3.867246 4.669344 3.851087 OTU.11069 Bacteria\n",
       "8  3.294723 3.557926  3.664899 3.998796 3.385609 2.884363   OTU.114 Bacteria\n",
       "9  3.531239 4.123573  2.754924 4.126640 4.094937 3.811449  OTU.1243 Bacteria\n",
       "10 2.783293 2.821088  2.954021 2.121967 2.055873 3.719980   OTU.134 Bacteria\n",
       "11 3.136076 3.446104  4.433131 2.557227 2.717330 3.445189   OTU.152 Bacteria\n",
       "12 4.297815 4.728898  5.507290 2.789157 3.250360 4.537440   OTU.189 Bacteria\n",
       "13 4.807115 6.249335  5.443095 6.095808 7.054042 6.155753   OTU.196 Bacteria\n",
       "14 5.166177 4.197135  4.327103 3.142320 3.528332 3.877079   OTU.207 Bacteria\n",
       "15 3.319869 3.603774  3.429712 2.475244 2.403978 4.050497    OTU.24 Bacteria\n",
       "16 5.089300 6.135051  5.239169 4.274166 4.709594 6.784884   OTU.284 Bacteria\n",
       "17 5.578165 8.507704  6.599676 7.180041 7.386965 5.809475   OTU.293 Bacteria\n",
       "18 5.379556 5.427616  5.906694 4.843918 4.733306 5.566587     OTU.4 Bacteria\n",
       "19 2.122453 3.537659  3.799208 2.913812 2.996299 3.353984  OTU.4049 Bacteria\n",
       "20 3.670884 4.707169  4.589795 3.931748 3.990864 3.087736   OTU.414 Bacteria\n",
       "21 3.504654 4.129972  6.001445 4.898180 6.121529 5.576843  OTU.4513 Bacteria\n",
       "22 5.596240 5.771506  4.858447 5.868457 6.589722 6.581516  OTU.4888 Bacteria\n",
       "23 4.380157 4.485977  3.552580 4.261105 4.090298 4.113374    OTU.49 Bacteria\n",
       "24 2.390468 3.676655  3.074533 2.742554 2.405225 3.371579  OTU.5436 Bacteria\n",
       "25 8.223991 9.262688 10.054414 6.163872 6.044850 7.116087    OTU.68 Bacteria\n",
       "26 5.931934 5.895337  4.246962 6.329015 6.698208 5.861831     OTU.8 Bacteria\n",
       "27 5.600040 5.758827  7.066292 5.518609 5.920650 5.854870     OTU.9 Bacteria\n",
       "28 2.668023 3.596835  4.531074 2.299250 2.730420 3.412443  OTU.9377 Bacteria\n",
       "29 8.385870 6.721121  8.709441 4.919713 5.349324 6.430324  OTU.9421 Bacteria\n",
       "30 5.868737 7.251784  8.565669 5.216988 4.915846 6.200893  OTU.9501 Bacteria\n",
       "31 3.383388 3.971960  5.103432 6.414434 6.876639 2.803177    OTU.96 Bacteria\n",
       "             Rank2               Rank3               Rank4               Rank5\n",
       "1   Proteobacteria  Betaproteobacteria     Burkholderiales      Comamonadaceae\n",
       "2   Proteobacteria Alphaproteobacteria         Rhizobiales   Hyphomicrobiaceae\n",
       "3   Proteobacteria  Betaproteobacteria     Burkholderiales      Comamonadaceae\n",
       "4   Actinobacteria Propionibacteriales     Nocardioidaceae       Aeromicrobium\n",
       "5    Bacteroidetes    Sphingobacteriia  Sphingobacteriales    Chitinophagaceae\n",
       "6   Proteobacteria  Betaproteobacteria     Burkholderiales      Comamonadaceae\n",
       "7   Actinobacteria    Streptomycetales   Streptomycetaceae        Streptomyces\n",
       "8   Proteobacteria Alphaproteobacteria         Rhizobiales        Rhizobiaceae\n",
       "9   Actinobacteria   Micromonosporales  Micromonosporaceae                <NA>\n",
       "10  Proteobacteria  Betaproteobacteria     Burkholderiales      Comamonadaceae\n",
       "11  Proteobacteria Alphaproteobacteria         Rhizobiales   Hyphomicrobiaceae\n",
       "12 Verrucomicrobia    Verrucomicrobiae  Verrucomicrobiales Verrucomicrobiaceae\n",
       "13  Proteobacteria Alphaproteobacteria     Caulobacterales    Caulobacteraceae\n",
       "14 Verrucomicrobia            Opitutae          Opitutales         Opitutaceae\n",
       "15  Proteobacteria Alphaproteobacteria         Rhizobiales   Hyphomicrobiaceae\n",
       "16     Chloroflexi      Chloroflexales Oscillochloridaceae      Oscillochloris\n",
       "17   Bacteroidetes          Cytophagia        Cytophagales       Cytophagaceae\n",
       "18  Proteobacteria  Betaproteobacteria     Burkholderiales    Oxalobacteraceae\n",
       "19  Proteobacteria  Betaproteobacteria     Burkholderiales      Comamonadaceae\n",
       "20   Bacteroidetes    Sphingobacteriia  Sphingobacteriales    Chitinophagaceae\n",
       "21  Proteobacteria Alphaproteobacteria         Rhizobiales   Hyphomicrobiaceae\n",
       "22  Actinobacteria    Streptomycetales   Streptomycetaceae        Streptomyces\n",
       "23  Proteobacteria Alphaproteobacteria         Rhizobiales        Rhizobiaceae\n",
       "24  Proteobacteria  Betaproteobacteria     Burkholderiales      Comamonadaceae\n",
       "25  Proteobacteria Alphaproteobacteria     Caulobacterales    Caulobacteraceae\n",
       "26  Actinobacteria    Streptomycetales   Streptomycetaceae        Streptomyces\n",
       "27  Actinobacteria   Pseudonocardiales  Pseudonocardiaceae                <NA>\n",
       "28  Proteobacteria  Betaproteobacteria     Burkholderiales      Comamonadaceae\n",
       "29  Actinobacteria                <NA>                <NA>                <NA>\n",
       "30  Proteobacteria  Betaproteobacteria     Burkholderiales      Comamonadaceae\n",
       "31   Bacteroidetes    Sphingobacteriia  Sphingobacteriales    Chitinophagaceae\n",
       "             Rank6                                   Rank7 Rank8\n",
       "1        Pelomonas                                    <NA>  <NA>\n",
       "2          Devosia                                    <NA>  <NA>\n",
       "3             <NA>                                    <NA>  <NA>\n",
       "4             <NA>                                    <NA>  <NA>\n",
       "5        Niastella                    uncultured_bacterium  <NA>\n",
       "6       uncultured                                    <NA>  <NA>\n",
       "7             <NA>                                    <NA>  <NA>\n",
       "8        Rhizobium                                    <NA>  <NA>\n",
       "9             <NA>                                    <NA>  <NA>\n",
       "10      uncultured                    uncultured_bacterium  <NA>\n",
       "11      uncultured uncultured_Phyllobacteriaceae_bacterium  <NA>\n",
       "12      Haloferula                                    <NA>  <NA>\n",
       "13     Caulobacter                                    <NA>  <NA>\n",
       "14        Opitutus                                    <NA>  <NA>\n",
       "15         Devosia                                    <NA>  <NA>\n",
       "16            <NA>                                    <NA>  <NA>\n",
       "17     Dyadobacter                                    <NA>  <NA>\n",
       "18            <NA>                                    <NA>  <NA>\n",
       "19      uncultured                    uncultured_bacterium  <NA>\n",
       "20       Niastella                    uncultured_bacterium  <NA>\n",
       "21      uncultured                                    <NA>  <NA>\n",
       "22            <NA>                                    <NA>  <NA>\n",
       "23        Shinella                    uncultured_bacterium  <NA>\n",
       "24            <NA>                                    <NA>  <NA>\n",
       "25   Asticcacaulis                                    <NA>  <NA>\n",
       "26            <NA>                                    <NA>  <NA>\n",
       "27            <NA>                                    <NA>  <NA>\n",
       "28      uncultured                    uncultured_bacterium  <NA>\n",
       "29            <NA>                                    <NA>  <NA>\n",
       "30            <NA>                                    <NA>  <NA>\n",
       "31 Flavisolibacter                    uncultured_bacterium  <NA>\n"
      ]
     },
     "metadata": {},
     "output_type": "display_data"
    }
   ],
   "source": [
    "%%R\n",
    "CoreTaxa"
   ]
  },
  {
   "cell_type": "markdown",
   "metadata": {},
   "source": [
    "## Any core"
   ]
  },
  {
   "cell_type": "code",
   "execution_count": 92,
   "metadata": {
    "collapsed": false
   },
   "outputs": [],
   "source": [
    "%%R\n",
    "# collect three core groups: Maize, C4 grasses, Dicots\n",
    "#c(DCT, MCT, CCT) %>% unique\n",
    "DicotTbl = cbind(DCT, as.numeric(rep(1,length(DCT)))) %>% as.data.frame\n",
    "colnames(DicotTbl) = c(\"OTU\", \"DicotCore\")\n",
    "DicotTbl\n",
    "\n",
    "MaizeTbl = cbind(MCT, rep(1,length(MCT))) %>% as.data.frame\n",
    "colnames(MaizeTbl) = c(\"OTU\", \"MaizeCore\")\n",
    "MaizeTbl\n",
    "\n",
    "C4Tbl = cbind(CCT, rep(1,length(CCT))) %>% as.data.frame\n",
    "colnames(C4Tbl) = c(\"OTU\", \"C4Core\")\n",
    "C4Tbl\n",
    "\n",
    "CoreDF = full_join(MaizeTbl, C4Tbl, by = \"OTU\")\n",
    "CoreDF = full_join(CoreDF, DicotTbl, by = \"OTU\")\n",
    "\n",
    "CoreDF = full_join(CoreDF, PCT, by = \"OTU\")\n",
    "CoreDF = full_join(CoreDF, P_PCT, by = \"OTU\")\n",
    "CoreDF = full_join(CoreDF, ACT, by = \"OTU\")\n",
    "CoreDF = full_join(CoreDF, ChCT, by = \"OTU\")\n",
    "\n",
    "CoreDF\n",
    "\n",
    "write.csv(CoreDF, file = '/home/bryan/RhizCG/data/MiSeq_amplicon/MergedRuns/OTUexploration/CoreTaxa.csv')"
   ]
  }
 ],
 "metadata": {
  "hide_input": true,
  "kernelspec": {
   "display_name": "Python 2",
   "language": "python",
   "name": "python2"
  },
  "language_info": {
   "codemirror_mode": {
    "name": "ipython",
    "version": 2
   },
   "file_extension": ".py",
   "mimetype": "text/x-python",
   "name": "python",
   "nbconvert_exporter": "python",
   "pygments_lexer": "ipython2",
   "version": "2.7.11"
  }
 },
 "nbformat": 4,
 "nbformat_minor": 0
}
