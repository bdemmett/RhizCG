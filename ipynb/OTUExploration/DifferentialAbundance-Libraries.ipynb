{
 "cells": [
  {
   "cell_type": "markdown",
   "metadata": {},
   "source": [
    "## Description:\n",
    "\n",
    "    Use DeSeq2 to identify the OTUs that are changing between Control samples from the same dates, but different libraries\n"
   ]
  },
  {
   "cell_type": "markdown",
   "metadata": {},
   "source": [
    "# Setting variables"
   ]
  },
  {
   "cell_type": "code",
   "execution_count": 1,
   "metadata": {
    "collapsed": true
   },
   "outputs": [],
   "source": [
    "workDir = '/home/bryan/RhizCG/data/MiSeq_amplicon/MergedRuns/DeSeq2/'\n",
    "#using physeq file with sparsity of greater than 3 in 3 samples\n",
    "biomFileDir = '/home/bryan/RhizCG/data/MiSeq_amplicon/MergedRuns/OTU_binning/'\n",
    "\n",
    "biomFile = '/home/bryan/RhizCG/data/MiSeq_amplicon/MergedRuns/OTU_binning/otu_table_wtax.biom'\n",
    "metadataFile = '/home/bryan/RhizCG/data/MiSeq_amplicon/metadata_RhizCG_merged.txt'\n",
    "treeFile = '/home/bryan/RhizCG/data/MiSeq_amplicon/MergedRuns/fasttree/otusn.tree'\n",
    "\n",
    "physeqFile = '/home/bryan/RhizCG/data/MiSeq_amplicon/MergedRuns/physeq/Full-Sparsity3in3'"
   ]
  },
  {
   "cell_type": "markdown",
   "metadata": {},
   "source": [
    "# Init"
   ]
  },
  {
   "cell_type": "code",
   "execution_count": 2,
   "metadata": {
    "collapsed": false
   },
   "outputs": [],
   "source": [
    "%load_ext rpy2.ipython"
   ]
  },
  {
   "cell_type": "code",
   "execution_count": 3,
   "metadata": {
    "collapsed": false,
    "scrolled": false
   },
   "outputs": [
    {
     "data": {
      "text/plain": [
       "[1] \"plyr\"\n",
       "[1] ‘1.8.3’\n",
       "[1] \"BiocParallel\"\n",
       "[1] ‘1.0.3’\n",
       "[1] \"doParallel\"\n",
       "[1] ‘1.0.8’\n",
       "[1] \"DESeq2\"\n",
       "[1] ‘1.6.3’\n",
       "[1] \"foreach\"\n",
       "[1] ‘1.4.2’\n",
       "[1] \"ggplot2\"\n",
       "[1] ‘1.0.1’\n",
       "[1] \"gridExtra\"\n",
       "[1] ‘2.0.0’\n",
       "[1] \"scales\"\n",
       "[1] ‘0.3.0’\n",
       "[1] \"metagenomeSeq\"\n",
       "[1] ‘1.11.10’\n",
       "[1] \"phyloseq\"\n",
       "[1] ‘1.10.0’\n",
       "[1] \"dplyr\"\n",
       "[1] ‘0.4.3’\n",
       "[1] \"tidyr\"\n",
       "[1] ‘0.3.1’\n",
       "[1] \"reshape\"\n",
       "[1] ‘0.8.5’\n",
       "[1] \"vegan\"\n",
       "[1] ‘2.3.0’\n"
      ]
     },
     "metadata": {},
     "output_type": "display_data"
    }
   ],
   "source": [
    "%%R\n",
    "# The required package list:\n",
    "reqpkg = c(\"plyr\",\"BiocParallel\",\"doParallel\", \"DESeq2\", \"foreach\", \"ggplot2\", \n",
    "   \"gridExtra\",\"scales\", \"metagenomeSeq\", \"phyloseq\", \"dplyr\", \"tidyr\", \n",
    "           \"reshape\", \"vegan\")\n",
    "# Load all required packages and show version\n",
    "for (i in reqpkg) {\n",
    "    print(i)\n",
    "    print(packageVersion(i))\n",
    "    suppressMessages(library(i, quietly = TRUE, verbose = FALSE, \n",
    "                             warn.conflicts = FALSE, character.only = TRUE))\n",
    "}"
   ]
  },
  {
   "cell_type": "code",
   "execution_count": 4,
   "metadata": {
    "collapsed": false
   },
   "outputs": [],
   "source": [
    "%%R\n",
    "register(MulticoreParam(20))"
   ]
  },
  {
   "cell_type": "markdown",
   "metadata": {},
   "source": [
    "# Loading phyloseq object"
   ]
  },
  {
   "cell_type": "code",
   "execution_count": null,
   "metadata": {
    "collapsed": true
   },
   "outputs": [],
   "source": []
  },
  {
   "cell_type": "code",
   "execution_count": 5,
   "metadata": {
    "collapsed": false
   },
   "outputs": [
    {
     "data": {
      "text/plain": [
       "phyloseq-class experiment-level object\n",
       "otu_table()   OTU Table:         [ 11246 taxa and 249 samples ]\n",
       "sample_data() Sample Data:       [ 249 samples by 21 sample variables ]\n",
       "tax_table()   Taxonomy Table:    [ 11246 taxa by 8 taxonomic ranks ]\n",
       "phy_tree()    Phylogenetic Tree: [ 11246 tips and 11245 internal nodes ]\n"
      ]
     },
     "metadata": {},
     "output_type": "display_data"
    }
   ],
   "source": [
    "%%R -i biomFile -i metadataFile -i workDir -i treeFile\n",
    "# loading\n",
    "setwd(workDir)\n",
    "\n",
    "## biom file\n",
    "physeq = import_biom(biomFile, treeFile)\n",
    "\n",
    "## loading sample metadata\n",
    "sample.data = import_qiime_sample_data(metadataFile)\n",
    "physeq = merge_phyloseq(physeq,sample.data)\n",
    "\n",
    "print(physeq)"
   ]
  },
  {
   "cell_type": "markdown",
   "metadata": {
    "collapsed": false
   },
   "source": [
    "### apply gsub across columns replacing __ w/ \"\" reload tax_table to phyloseq object"
   ]
  },
  {
   "cell_type": "code",
   "execution_count": 6,
   "metadata": {
    "collapsed": true
   },
   "outputs": [],
   "source": [
    "%%R\n",
    "t = tax_table(physeq)\n",
    "t = apply(t, 2, function(y) gsub(\"__\", \"\", y))\n",
    "tax_table(physeq) = t"
   ]
  },
  {
   "cell_type": "code",
   "execution_count": 7,
   "metadata": {
    "collapsed": false
   },
   "outputs": [
    {
     "data": {
      "text/plain": [
       "phyloseq-class experiment-level object\n",
       "otu_table()   OTU Table:         [ 4982 taxa and 238 samples ]\n",
       "sample_data() Sample Data:       [ 238 samples by 44 sample variables ]\n",
       "tax_table()   Taxonomy Table:    [ 4982 taxa by 8 taxonomic ranks ]\n",
       "phy_tree()    Phylogenetic Tree: [ 4982 tips and 4981 internal nodes ]\n"
      ]
     },
     "metadata": {},
     "output_type": "display_data"
    }
   ],
   "source": [
    "%%R -i physeqFile\n",
    "\n",
    "physeq.Full = readRDS(physeqFile)\n",
    "physeq.Full"
   ]
  },
  {
   "cell_type": "code",
   "execution_count": 8,
   "metadata": {
    "collapsed": false
   },
   "outputs": [],
   "source": [
    "%%R\n",
    "\n",
    "#re-order levels \n",
    "sample_data(physeq.Full)$Plant = relevel(sample_data(physeq.Full)$Plant, \"BARE\")\n",
    "\n",
    "#Set DAP as factor\n",
    "sample_data(physeq.Full)$DAP = factor(sample_data(physeq.Full)$DAP) \n",
    "sample_data(physeq.Full)$Rep = factor(sample_data(physeq.Full)$Rep) \n",
    "sample_data(physeq.Full)$Library = factor(sample_data(physeq.Full)$Library)\n",
    "sample_data(physeq.Full)$DAP %>% levels\n",
    "\n",
    "sample_data(physeq.Full)$PlantRep = interaction(sample_data(physeq.Full)$Rep, sample_data(physeq.Full)$Plant)\n"
   ]
  },
  {
   "cell_type": "code",
   "execution_count": 9,
   "metadata": {
    "collapsed": false
   },
   "outputs": [
    {
     "data": {
      "text/plain": [
       " [1] \"X.sample\"            \"Library\"             \"Primer_Plate\"       \n",
       " [4] \"Primer_Well_ID\"      \"primerFR_ID_byPlate\" \"primerFR_ID_total\"  \n",
       " [7] \"barcode_ID\"          \"PlotID\"              \"Plant\"              \n",
       "[10] \"Plot\"                \"Treatment\"           \"Rep\"                \n",
       "[13] \"DAP\"                 \"Sampling\"            \"PlantSample\"        \n",
       "[16] \"Type\"                \"Grass_Broad\"         \"Status\"             \n",
       "[19] \"Subfamily\"           \"fwd_barcode\"         \"rev_barcode\"        \n",
       "[22] \"Planted\"             \"Biomass_P\"           \"SLA\"                \n",
       "[25] \"Leaf_N\"              \"LeafC_N\"             \"LNa\"                \n",
       "[28] \"Plant_N\"             \"Plant_C\"             \"Plant_CN\"           \n",
       "[31] \"d15N\"                \"tN_p\"                \"BX_activity_g\"      \n",
       "[34] \"CB_activity_g\"       \"LAP_activity_g\"      \"NAG_activity_g\"     \n",
       "[37] \"BX_dif\"              \"CB_dif\"              \"LAP_dif\"            \n",
       "[40] \"NAG_dif\"             \"BX_rel\"              \"CB_rel\"             \n",
       "[43] \"LAP_rel\"             \"NAG_rel\"             \"PlantRep\"           \n"
      ]
     },
     "metadata": {},
     "output_type": "display_data"
    }
   ],
   "source": [
    "%%R\n",
    "physeq.Full %>% sample_data %>% colnames"
   ]
  },
  {
   "cell_type": "code",
   "execution_count": 10,
   "metadata": {
    "collapsed": false
   },
   "outputs": [],
   "source": [
    "%%R\n",
    "#subset controls that are can be compared across libraries\n",
    "physeq.lt = subset_samples(physeq.Full, X.sample %in% \n",
    "                           c(\"sample1-1.06_Nneg\", \"sample1-1.06_Npos\", \"sample3-4.27_Npos\",\n",
    "                            \"sample4-1.06_Npos\", \"sample6-2.05_Npos\", \"sample3-1.06_Nneg\",\n",
    "                            \"sample4-4.27_Npos\",\"sample1-2.05_Nneg\", \"sample1-2.05_Npos\", \"sample3-4.27_Nneg\",\n",
    "                            \"sample4-1.06_Nneg\", \"sample6-2.05_Nneg\", \"sample3-1.06_Npos\",\n",
    "                            \"sample4-4.27_Nneg\"))\n",
    "\n",
    "\n",
    "\n"
   ]
  },
  {
   "cell_type": "markdown",
   "metadata": {},
   "source": [
    "# Create DESeq object and view results for Bare and Planted Seperately"
   ]
  },
  {
   "cell_type": "markdown",
   "metadata": {},
   "source": [
    "## ~Plant + Treatment + Plant:Treatment"
   ]
  },
  {
   "cell_type": "code",
   "execution_count": 11,
   "metadata": {
    "collapsed": false,
    "scrolled": true
   },
   "outputs": [
    {
     "name": "stderr",
     "output_type": "stream",
     "text": [
      "/opt/anaconda/lib/python2.7/site-packages/rpy2/robjects/functions.py:106: UserWarning: converting counts to integer mode\n",
      "\n",
      "  res = super(Function, self).__call__(*new_args, **new_kwargs)\n",
      "/opt/anaconda/lib/python2.7/site-packages/rpy2/robjects/functions.py:106: UserWarning: estimating size factors\n",
      "\n",
      "  res = super(Function, self).__call__(*new_args, **new_kwargs)\n",
      "/opt/anaconda/lib/python2.7/site-packages/rpy2/robjects/functions.py:106: UserWarning: estimating dispersions\n",
      "\n",
      "  res = super(Function, self).__call__(*new_args, **new_kwargs)\n",
      "/opt/anaconda/lib/python2.7/site-packages/rpy2/robjects/functions.py:106: UserWarning: gene-wise dispersion estimates: 20 workers\n",
      "\n",
      "  res = super(Function, self).__call__(*new_args, **new_kwargs)\n",
      "/opt/anaconda/lib/python2.7/site-packages/rpy2/robjects/functions.py:106: UserWarning: mean-dispersion relationship\n",
      "\n",
      "  res = super(Function, self).__call__(*new_args, **new_kwargs)\n",
      "/opt/anaconda/lib/python2.7/site-packages/rpy2/robjects/functions.py:106: UserWarning: final dispersion estimates, MLE betas: 20 workers\n",
      "\n",
      "  res = super(Function, self).__call__(*new_args, **new_kwargs)\n",
      "/opt/anaconda/lib/python2.7/site-packages/rpy2/robjects/functions.py:106: UserWarning: fitting model and testing: 20 workers\n",
      "\n",
      "  res = super(Function, self).__call__(*new_args, **new_kwargs)\n"
     ]
    },
    {
     "data": {
      "text/plain": [
       "[1] \"Intercept\"     \"DAP36\"         \"DAP57\"         \"DAP61\"        \n",
       "[5] \"DAP79\"         \"TreatmentNneg\" \"TreatmentNpos\" \"Library1\"     \n",
       "[9] \"Library2\"     \n"
      ]
     },
     "metadata": {},
     "output_type": "display_data"
    }
   ],
   "source": [
    "%%R\n",
    "dds = phyloseq_to_deseq2(physeq.lt, ~DAP + Treatment + Library)\n",
    "d_dds = DESeq(dds, parallel = TRUE)\n",
    "resultsNames(d_dds)\n"
   ]
  },
  {
   "cell_type": "code",
   "execution_count": 12,
   "metadata": {
    "collapsed": false
   },
   "outputs": [],
   "source": [
    "%%R\n",
    "res = results(d_dds, parallel = TRUE, independentFiltering = FALSE)"
   ]
  },
  {
   "cell_type": "code",
   "execution_count": 13,
   "metadata": {
    "collapsed": false
   },
   "outputs": [
    {
     "data": {
      "text/plain": [
       "\n",
       "out of 4784 with nonzero total read count\n",
       "adjusted p-value < 0.1\n",
       "LFC > 0 (up)     : 37, 0.77% \n",
       "LFC < 0 (down)   : 23, 0.48% \n",
       "outliers [1]     : 0, 0% \n",
       "low counts [2]   : 0, 0% \n",
       "(mean count < 0)\n",
       "[1] see 'cooksCutoff' argument of ?results\n",
       "[2] see 'independentFiltering' argument of ?results\n",
       "\n"
      ]
     },
     "metadata": {},
     "output_type": "display_data"
    }
   ],
   "source": [
    "%%R\n",
    "summary(res)"
   ]
  },
  {
   "cell_type": "code",
   "execution_count": 20,
   "metadata": {
    "collapsed": false
   },
   "outputs": [],
   "source": [
    "%%R\n",
    "\n",
    "df = as.data.frame(res[, c(\"baseMean\", \"log2FoldChange\", \"pvalue\", \"padj\")])\n",
    "    df$OTU = rownames(df)\n",
    "    df = df[!is.na(df$padj),]\n",
    "\n",
    "    TT = physeq.lt %>% tax_table %>% data.frame\n",
    "    TT$OTU = rownames(TT)\n",
    "    d = left_join(df, TT, by = 'OTU')\n",
    "    \n",
    "\n",
    "df.sig = d[d$padj <0.1,]\n",
    "df.sig = df.sig %>% arrange(log2FoldChange) "
   ]
  },
  {
   "cell_type": "markdown",
   "metadata": {},
   "source": [
    "## Graph Taxa with significant l2f"
   ]
  },
  {
   "cell_type": "code",
   "execution_count": 26,
   "metadata": {
    "collapsed": false
   },
   "outputs": [
    {
     "data": {
      "image/png": "[encoded data removed]"
     },
     "metadata": {},
     "output_type": "display_data"
    }
   ],
   "source": [
    "%%R -w 800 -h 500\n",
    "theme_set(theme_bw())\n",
    "scale_fill_discrete <- function(palname = \"Set1\", ...) {\n",
    "    scale_fill_brewer(palette = palname, ...)\n",
    "}\n",
    "# Phylum order\n",
    "x = tapply(df.sig$log2FoldChange, df.sig$Rank2, function(x) max(x))\n",
    "x = sort(x, TRUE)\n",
    "df.sig$Rank2 = factor(as.character(df.sig$Rank2), levels=names(x))\n",
    "## Genus order\n",
    "x = tapply(df.sig$log2FoldChange, df.sig$Rank5, function(x) max(x))\n",
    "x = sort(x, TRUE)\n",
    "df.sig$Rank5 = factor(as.character(df.sig$Rank5), levels=names(x))\n",
    "p = ggplot(df.sig, aes(x=Rank5, y=log2FoldChange, color=Rank2)) + geom_point(size=6) + \n",
    "  theme(axis.text.x = element_text(angle = -90, hjust = 0, vjust=0.5))\n",
    "p"
   ]
  },
  {
   "cell_type": "code",
   "execution_count": 29,
   "metadata": {
    "collapsed": false
   },
   "outputs": [
    {
     "data": {
      "text/plain": [
       "png \n",
       "  2 \n"
      ]
     },
     "metadata": {},
     "output_type": "display_data"
    }
   ],
   "source": [
    "%%R\n",
    "pdf(file = \"/home/bryan/RhizCG/figures/diagnostics/LibraryL2f.pdf\")\n",
    "print(p)\n",
    "dev.off()\n"
   ]
  },
  {
   "cell_type": "markdown",
   "metadata": {},
   "source": [
    "## Identify taxa in negative controls"
   ]
  },
  {
   "cell_type": "code",
   "execution_count": 15,
   "metadata": {
    "collapsed": false
   },
   "outputs": [
    {
     "data": {
      "text/plain": [
       "phyloseq-class experiment-level object\n",
       "otu_table()   OTU Table:         [ 62 taxa and 2 samples ]\n",
       "sample_data() Sample Data:       [ 2 samples by 21 sample variables ]\n",
       "tax_table()   Taxonomy Table:    [ 62 taxa by 8 taxonomic ranks ]\n",
       "phy_tree()    Phylogenetic Tree: [ 62 tips and 61 internal nodes ]\n"
      ]
     },
     "metadata": {},
     "output_type": "display_data"
    }
   ],
   "source": [
    "%%R\n",
    "Control = subset_samples(physeq, X.sample %in% c(\"Neg_Control_1\", \"Negative_Control_2\"))\n",
    "Control = prune_taxa(taxa_sums(Control) > 0, Control)\n",
    "Control"
   ]
  },
  {
   "cell_type": "code",
   "execution_count": 16,
   "metadata": {
    "collapsed": false
   },
   "outputs": [
    {
     "name": "stdout",
     "output_type": "stream",
     "text": [
      "\n",
      "Error in order(mdf$Abundance, decreasing = TRUE) : \n",
      "  argument 1 is not a vector\n"
     ]
    },
    {
     "name": "stderr",
     "output_type": "stream",
     "text": [
      "/opt/anaconda/lib/python2.7/site-packages/rpy2/robjects/functions.py:106: UserWarning: Error in order(mdf$Abundance, decreasing = TRUE) : \n",
      "  argument 1 is not a vector\n",
      "\n",
      "  res = super(Function, self).__call__(*new_args, **new_kwargs)\n"
     ]
    }
   ],
   "source": [
    "%%R -w 600 -h 900\n",
    "\n",
    "p1 = plot_bar(Control, fill = 'Rank2')\n",
    "p1\n",
    "\n",
    "#p2 = plot_bar(Control, fill = 'Rank6', x = \"Sample\")\n",
    "\n",
    "#grid.arrange(p1, p2, ncol=1)"
   ]
  },
  {
   "cell_type": "code",
   "execution_count": 17,
   "metadata": {
    "collapsed": false
   },
   "outputs": [],
   "source": [
    "%%R\n",
    "df.sig.plus = df.sig[df.sig$log2FoldChange > 0,]\n",
    "d = df.sig.plus[,c(2,3,9,10)]\n",
    "df.sig.plus[,c(2,3,9,10, 11)] %>% arrange(Rank4, Rank5) %>%\n",
    "write.csv(file = \"/home/bryan/RhizCG/figures/diagnostics/l2f_library_comp.csv\",\n",
    "         sep = \",\")"
   ]
  },
  {
   "cell_type": "code",
   "execution_count": 18,
   "metadata": {
    "collapsed": false
   },
   "outputs": [],
   "source": [
    "%%R\n",
    "NegOTU = otu_table(Control) %>% data.frame\n",
    "NegTax = tax_table(Control) %>% data.frame\n",
    "NegOTU$OTU = row.names(NegOTU)\n",
    "NegTax$OTU = row.names(NegTax)\n",
    "tmp = \n",
    "    left_join(NegOTU, NegTax, by = \"OTU\")\n",
    "tail(tmp)\n",
    "colnames(tmp)[1:2] = c(\"count_Neg2\", \"count_Neg_1\")\n",
    "\n",
    "\n"
   ]
  },
  {
   "cell_type": "code",
   "execution_count": 19,
   "metadata": {
    "collapsed": false
   },
   "outputs": [],
   "source": [
    "%%R\n",
    "tmp[,c(1,2,7,8,9)] %>% arrange(Rank4, Rank5, Rank6) %>%\n",
    "write.csv(file = \"/home/bryan/RhizCG/figures/diagnostics/neg_controls.csv\",\n",
    "         sep = \",\")"
   ]
  },
  {
   "cell_type": "markdown",
   "metadata": {},
   "source": [
    "## Graph Taxa with significant l2f"
   ]
  },
  {
   "cell_type": "code",
   "execution_count": null,
   "metadata": {
    "collapsed": true
   },
   "outputs": [],
   "source": [
    "%%R -w 800 -h 500\n",
    "theme_set(theme_bw())\n",
    "scale_fill_discrete <- function(palname = \"Set1\", ...) {\n",
    "    scale_fill_brewer(palette = palname, ...)\n",
    "}\n",
    "# Phylum order\n",
    "x = tapply(df.sig$log2FoldChange, df.sig$Rank2, function(x) max(x))\n",
    "x = sort(x, TRUE)\n",
    "dif.sig$Rank2 = factor(as.character(dif.sig$Rank2), levels=names(x))\n",
    "## Genus order\n",
    "x = tapply(dif.sig$log2FoldChange, dif.sig$Rank5, function(x) max(x))\n",
    "x = sort(x, TRUE)\n",
    "dif.sig$Rank5 = factor(as.character(dif.sig$Rank5), levels=names(x))\n",
    "ggplot(dif.sig, aes(x=Rank5, y=log2FoldChange, color=Rank2)) + geom_point(size=6) + \n",
    "  theme(axis.text.x = element_text(angle = -90, hjust = 0, vjust=0.5))\n"
   ]
  }
 ],
 "metadata": {
  "hide_input": true,
  "kernelspec": {
   "display_name": "Python 2",
   "language": "python",
   "name": "python2"
  },
  "language_info": {
   "codemirror_mode": {
    "name": "ipython",
    "version": 2
   },
   "file_extension": ".py",
   "mimetype": "text/x-python",
   "name": "python",
   "nbconvert_exporter": "python",
   "pygments_lexer": "ipython2",
   "version": "2.7.10"
  }
 },
 "nbformat": 4,
 "nbformat_minor": 0
}
