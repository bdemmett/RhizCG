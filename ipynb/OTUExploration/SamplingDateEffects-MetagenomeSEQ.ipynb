{
 "cells": [
  {
   "cell_type": "markdown",
   "metadata": {},
   "source": [
    "## Description:\n",
    "\n",
    "Compare OTUs that vary in rhizosphere and vary in bare soil by date and test for correlation\n"
   ]
  },
  {
   "cell_type": "markdown",
   "metadata": {},
   "source": [
    "# Setting variables"
   ]
  },
  {
   "cell_type": "code",
   "execution_count": 1,
   "metadata": {
    "collapsed": true
   },
   "outputs": [],
   "source": [
    "# workDir = '/home/bryan/RhizCG/data/MiSeq_amplicon/MergedRuns/DeSeq2/'\n",
    "# respFile = '/home/bryan/RhizCG/data/MiSeq_amplicon/MergedRuns/DeSeq2/Responders.txt'\n",
    "#using physeq file with sparsity of greater than 3 in 3 samples\n",
    "physeqFile = '/home/bryan/RhizCG/data/MiSeq_amplicon/MergedRuns/physeq/Full-Sparsity3in3'\n",
    "\n",
    "biomFileDir = '/home/bryan/RhizCG/data/MiSeq_amplicon/MergedRuns/OTU_binning/'\n",
    "\n",
    "biomFile = '/home/bryan/RhizCG/data/MiSeq_amplicon/MergedRuns/OTU_binning/otu_table_wtax.biom'\n",
    "metadataFile = '/home/bryan/RhizCG/data/MiSeq_amplicon/metadata_RhizCG_merged.txt'\n",
    "treeFile = '/home/bryan/RhizCG/data/MiSeq_amplicon/MergedRuns/fasttree/otusn.tree'"
   ]
  },
  {
   "cell_type": "markdown",
   "metadata": {},
   "source": [
    "# Init"
   ]
  },
  {
   "cell_type": "code",
   "execution_count": 2,
   "metadata": {
    "collapsed": false
   },
   "outputs": [],
   "source": [
    "%load_ext rpy2.ipython"
   ]
  },
  {
   "cell_type": "code",
   "execution_count": 3,
   "metadata": {
    "collapsed": true
   },
   "outputs": [
    {
     "name": "stderr",
     "output_type": "stream",
     "text": [
      "/opt/anaconda/lib/python2.7/site-packages/rpy2/robjects/functions.py:106: UserWarning: \n",
      "Attaching package: ‘dplyr’\n",
      "\n",
      "\n",
      "  res = super(Function, self).__call__(*new_args, **new_kwargs)\n",
      "/opt/anaconda/lib/python2.7/site-packages/rpy2/robjects/functions.py:106: UserWarning: The following objects are masked from ‘package:plyr’:\n",
      "\n",
      "    arrange, count, desc, failwith, id, mutate, rename, summarise,\n",
      "    summarize\n",
      "\n",
      "\n",
      "  res = super(Function, self).__call__(*new_args, **new_kwargs)\n",
      "/opt/anaconda/lib/python2.7/site-packages/rpy2/robjects/functions.py:106: UserWarning: The following objects are masked from ‘package:stats’:\n",
      "\n",
      "    filter, lag\n",
      "\n",
      "\n",
      "  res = super(Function, self).__call__(*new_args, **new_kwargs)\n",
      "/opt/anaconda/lib/python2.7/site-packages/rpy2/robjects/functions.py:106: UserWarning: The following objects are masked from ‘package:base’:\n",
      "\n",
      "    intersect, setdiff, setequal, union\n",
      "\n",
      "\n",
      "  res = super(Function, self).__call__(*new_args, **new_kwargs)\n",
      "/opt/anaconda/lib/python2.7/site-packages/rpy2/robjects/functions.py:106: UserWarning: \n",
      "Attaching package: ‘gridExtra’\n",
      "\n",
      "\n",
      "  res = super(Function, self).__call__(*new_args, **new_kwargs)\n",
      "/opt/anaconda/lib/python2.7/site-packages/rpy2/robjects/functions.py:106: UserWarning: The following object is masked from ‘package:dplyr’:\n",
      "\n",
      "    combine\n",
      "\n",
      "\n",
      "  res = super(Function, self).__call__(*new_args, **new_kwargs)\n",
      "/opt/anaconda/lib/python2.7/site-packages/rpy2/robjects/functions.py:106: UserWarning: Loading required package: Biobase\n",
      "\n",
      "  res = super(Function, self).__call__(*new_args, **new_kwargs)\n",
      "/opt/anaconda/lib/python2.7/site-packages/rpy2/robjects/functions.py:106: UserWarning: Loading required package: BiocGenerics\n",
      "\n",
      "  res = super(Function, self).__call__(*new_args, **new_kwargs)\n",
      "/opt/anaconda/lib/python2.7/site-packages/rpy2/robjects/functions.py:106: UserWarning: Loading required package: parallel\n",
      "\n",
      "  res = super(Function, self).__call__(*new_args, **new_kwargs)\n",
      "/opt/anaconda/lib/python2.7/site-packages/rpy2/robjects/functions.py:106: UserWarning: \n",
      "Attaching package: ‘BiocGenerics’\n",
      "\n",
      "\n",
      "  res = super(Function, self).__call__(*new_args, **new_kwargs)\n",
      "/opt/anaconda/lib/python2.7/site-packages/rpy2/robjects/functions.py:106: UserWarning: The following objects are masked from ‘package:parallel’:\n",
      "\n",
      "    clusterApply, clusterApplyLB, clusterCall, clusterEvalQ,\n",
      "    clusterExport, clusterMap, parApply, parCapply, parLapply,\n",
      "    parLapplyLB, parRapply, parSapply, parSapplyLB\n",
      "\n",
      "\n",
      "  res = super(Function, self).__call__(*new_args, **new_kwargs)\n",
      "/opt/anaconda/lib/python2.7/site-packages/rpy2/robjects/functions.py:106: UserWarning: The following object is masked from ‘package:gridExtra’:\n",
      "\n",
      "    combine\n",
      "\n",
      "\n",
      "  res = super(Function, self).__call__(*new_args, **new_kwargs)\n",
      "/opt/anaconda/lib/python2.7/site-packages/rpy2/robjects/functions.py:106: UserWarning: The following objects are masked from ‘package:biom’:\n",
      "\n",
      "    colnames, rownames\n",
      "\n",
      "\n",
      "  res = super(Function, self).__call__(*new_args, **new_kwargs)\n",
      "/opt/anaconda/lib/python2.7/site-packages/rpy2/robjects/functions.py:106: UserWarning: The following objects are masked from ‘package:dplyr’:\n",
      "\n",
      "    combine, intersect, setdiff, union\n",
      "\n",
      "\n",
      "  res = super(Function, self).__call__(*new_args, **new_kwargs)\n",
      "/opt/anaconda/lib/python2.7/site-packages/rpy2/robjects/functions.py:106: UserWarning: The following object is masked from ‘package:stats’:\n",
      "\n",
      "    xtabs\n",
      "\n",
      "\n",
      "  res = super(Function, self).__call__(*new_args, **new_kwargs)\n",
      "/opt/anaconda/lib/python2.7/site-packages/rpy2/robjects/functions.py:106: UserWarning: The following objects are masked from ‘package:base’:\n",
      "\n",
      "    anyDuplicated, append, as.data.frame, as.vector, cbind, colnames,\n",
      "    do.call, duplicated, eval, evalq, Filter, Find, get, intersect,\n",
      "    is.unsorted, lapply, Map, mapply, match, mget, order, paste, pmax,\n",
      "    pmax.int, pmin, pmin.int, Position, rank, rbind, Reduce, rep.int,\n",
      "    rownames, sapply, setdiff, sort, table, tapply, union, unique,\n",
      "    unlist, unsplit\n",
      "\n",
      "\n",
      "  res = super(Function, self).__call__(*new_args, **new_kwargs)\n",
      "/opt/anaconda/lib/python2.7/site-packages/rpy2/robjects/functions.py:106: UserWarning: Welcome to Bioconductor\n",
      "\n",
      "    Vignettes contain introductory material; view with\n",
      "    'browseVignettes()'. To cite Bioconductor, see\n",
      "    'citation(\"Biobase\")', and for packages 'citation(\"pkgname\")'.\n",
      "\n",
      "\n",
      "  res = super(Function, self).__call__(*new_args, **new_kwargs)\n",
      "/opt/anaconda/lib/python2.7/site-packages/rpy2/robjects/functions.py:106: UserWarning: \n",
      "Attaching package: ‘Biobase’\n",
      "\n",
      "\n",
      "  res = super(Function, self).__call__(*new_args, **new_kwargs)\n",
      "/opt/anaconda/lib/python2.7/site-packages/rpy2/robjects/functions.py:106: UserWarning: The following object is masked from ‘package:phyloseq’:\n",
      "\n",
      "    sampleNames\n",
      "\n",
      "\n",
      "  res = super(Function, self).__call__(*new_args, **new_kwargs)\n",
      "/opt/anaconda/lib/python2.7/site-packages/rpy2/robjects/functions.py:106: UserWarning: Loading required package: limma\n",
      "\n",
      "  res = super(Function, self).__call__(*new_args, **new_kwargs)\n",
      "/opt/anaconda/lib/python2.7/site-packages/rpy2/robjects/functions.py:106: UserWarning: \n",
      "Attaching package: ‘limma’\n",
      "\n",
      "\n",
      "  res = super(Function, self).__call__(*new_args, **new_kwargs)\n",
      "/opt/anaconda/lib/python2.7/site-packages/rpy2/robjects/functions.py:106: UserWarning: The following object is masked from ‘package:BiocGenerics’:\n",
      "\n",
      "    plotMA\n",
      "\n",
      "\n",
      "  res = super(Function, self).__call__(*new_args, **new_kwargs)\n",
      "/opt/anaconda/lib/python2.7/site-packages/rpy2/robjects/functions.py:106: UserWarning: Loading required package: glmnet\n",
      "\n",
      "  res = super(Function, self).__call__(*new_args, **new_kwargs)\n",
      "/opt/anaconda/lib/python2.7/site-packages/rpy2/robjects/functions.py:106: UserWarning: Loading required package: Matrix\n",
      "\n",
      "  res = super(Function, self).__call__(*new_args, **new_kwargs)\n",
      "/opt/anaconda/lib/python2.7/site-packages/rpy2/robjects/functions.py:106: UserWarning: \n",
      "Attaching package: ‘Matrix’\n",
      "\n",
      "\n",
      "  res = super(Function, self).__call__(*new_args, **new_kwargs)\n",
      "/opt/anaconda/lib/python2.7/site-packages/rpy2/robjects/functions.py:106: UserWarning: The following object is masked from ‘package:tidyr’:\n",
      "\n",
      "    expand\n",
      "\n",
      "\n",
      "  res = super(Function, self).__call__(*new_args, **new_kwargs)\n",
      "/opt/anaconda/lib/python2.7/site-packages/rpy2/robjects/functions.py:106: UserWarning: Loading required package: foreach\n",
      "\n",
      "  res = super(Function, self).__call__(*new_args, **new_kwargs)\n",
      "/opt/anaconda/lib/python2.7/site-packages/rpy2/robjects/functions.py:106: UserWarning: foreach: simple, scalable parallel programming from Revolution Analytics\n",
      "Use Revolution R for scalability, fault tolerance and more.\n",
      "http://www.revolutionanalytics.com\n",
      "\n",
      "  res = super(Function, self).__call__(*new_args, **new_kwargs)\n",
      "/opt/anaconda/lib/python2.7/site-packages/rpy2/robjects/functions.py:106: UserWarning: Loaded glmnet 2.0-5\n",
      "\n",
      "\n",
      "  res = super(Function, self).__call__(*new_args, **new_kwargs)\n",
      "/opt/anaconda/lib/python2.7/site-packages/rpy2/robjects/functions.py:106: UserWarning: Loading required package: RColorBrewer\n",
      "\n",
      "  res = super(Function, self).__call__(*new_args, **new_kwargs)\n",
      "/opt/anaconda/lib/python2.7/site-packages/rpy2/robjects/functions.py:106: UserWarning: Loading required package: iterators\n",
      "\n",
      "  res = super(Function, self).__call__(*new_args, **new_kwargs)\n"
     ]
    }
   ],
   "source": [
    "%%R\n",
    "library(ggplot2)\n",
    "library(phyloseq)\n",
    "library(tidyr) \n",
    "library(plyr)\n",
    "library(dplyr)\n",
    "library(scales)\n",
    "library(biom)\n",
    "library(gridExtra)\n",
    "library(metagenomeSeq) \n",
    "library(doParallel)\n",
    "\n",
    "\n",
    "\n"
   ]
  },
  {
   "cell_type": "markdown",
   "metadata": {},
   "source": [
    "## Loading MRexperiment object"
   ]
  },
  {
   "cell_type": "code",
   "execution_count": 5,
   "metadata": {
    "collapsed": false,
    "scrolled": false
   },
   "outputs": [
    {
     "data": {
      "text/plain": [
       "phyloseq-class experiment-level object\n",
       "otu_table()   OTU Table:         [ 4982 taxa and 238 samples ]\n",
       "sample_data() Sample Data:       [ 238 samples by 55 sample variables ]\n",
       "tax_table()   Taxonomy Table:    [ 4982 taxa by 8 taxonomic ranks ]\n",
       "phy_tree()    Phylogenetic Tree: [ 4982 tips and 4981 internal nodes ]\n"
      ]
     },
     "metadata": {},
     "output_type": "display_data"
    }
   ],
   "source": [
    "%%R -i physeqFile\n",
    "\n",
    "physeq.Full = readRDS(physeqFile)\n",
    "physeq.Full = physeq.Full %>% filter_taxa(function(x) sum(x) > 0, TRUE)\n",
    "physeq.Full"
   ]
  },
  {
   "cell_type": "code",
   "execution_count": null,
   "metadata": {
    "collapsed": false
   },
   "outputs": [],
   "source": [
    "physeqFile"
   ]
  },
  {
   "cell_type": "code",
   "execution_count": null,
   "metadata": {
    "collapsed": false
   },
   "outputs": [],
   "source": [
    "%%R\n",
    "test = prune_taxa(c(\"OTU.93\", \"OTU.94\"), physeq.Full) \n",
    "phyloseq::plot_bar(test, x = \"Planted\")"
   ]
  },
  {
   "cell_type": "markdown",
   "metadata": {},
   "source": [
    "# Do bare soil samples change with date?"
   ]
  },
  {
   "cell_type": "markdown",
   "metadata": {},
   "source": [
    "## Convert to MRexperiment"
   ]
  },
  {
   "cell_type": "code",
   "execution_count": null,
   "metadata": {
    "collapsed": true
   },
   "outputs": [],
   "source": [
    "%%R\n",
    "sample_data(physeq.Full)$DAP_rel = sample_data(physeq.Full)$DAP - 36"
   ]
  },
  {
   "cell_type": "markdown",
   "metadata": {},
   "source": [
    "### Create dummy ID for rhizosphere samples"
   ]
  },
  {
   "cell_type": "code",
   "execution_count": null,
   "metadata": {
    "collapsed": false
   },
   "outputs": [],
   "source": [
    "%%R\n",
    "sample_data(physeq.Full)$Planted.Rep = as.factor(paste(sample_data(physeq.Full)$Planted, \n",
    "                                                       sample_data(physeq.Full)$Rep, sep = \"_\" ))\n",
    "\n",
    "sample_data(physeq.Full)$Planted.Rep.DAP = as.factor(paste(sample_data(physeq.Full)$Planted.Rep, \n",
    "                                                       sample_data(physeq.Full)$DAP, sep = \"_\" ))\n"
   ]
  },
  {
   "cell_type": "code",
   "execution_count": null,
   "metadata": {
    "collapsed": false
   },
   "outputs": [],
   "source": [
    "%%R\n",
    "#Merge based on Planted.Rep\n",
    "phy.merged = merge_samples(physeq.Full, \"Planted.Rep.DAP\")\n",
    "\n",
    "#Create new variable names\n",
    "sample_data(phy.merged)$Sample = sample_names(phy.merged)\n",
    "\n",
    "#pull Planted and rep status from sample names\n",
    "    sample_data(phy.merged)$Planted.Rep = substr(sample_data(phy.merged)$Sample, 1, 6)\n",
    "    sample_data(phy.merged)$Planted.Rep[33:64] = substr(sample_data(phy.merged)$Sample[33:64], 1, 13)\n",
    "\n",
    "    # convert to factor\n",
    "    sample_data(phy.merged)$Planted.Rep = as.factor(sample_data(phy.merged)$Planted.Rep)\n",
    "\n",
    "#assign planted status\n",
    "    sample_data(phy.merged)$Planted[1:32] = \"BARE\"\n",
    "    sample_data(phy.merged)$Planted[33:64] = \"Rhizosphere\"\n",
    "    sample_data(phy.merged)$Planted = as.factor(sample_data(phy.merged)$Planted)\n",
    "#OTU table is transposed in merge, not sure why, but re-transpose in case it is interfering with downstream commands\n",
    "otu_table(phy.merged) = t(otu_table(phy.merged))"
   ]
  },
  {
   "cell_type": "code",
   "execution_count": null,
   "metadata": {
    "collapsed": false
   },
   "outputs": [],
   "source": [
    "%%R\n",
    "\n",
    "make_metagenomeSeq = function(physeq) {\n",
    "    require(\"metagenomeSeq\")\n",
    "    require(\"phyloseq\")\n",
    "    # Enforce orientation\n",
    "    if (!taxa_are_rows(physeq)) {\n",
    "        physeq <- t(physeq)\n",
    "    }\n",
    "    OTU = as(otu_table(physeq), \"matrix\")\n",
    "    #OTUTill = subset(OTU, rownames(OTU) %in% df.Till.r$OTU)\n",
    "\n",
    "    # Convert sample_data to AnnotatedDataFrame\n",
    "    ADF = AnnotatedDataFrame(data.frame(sample_data(physeq)))\n",
    "    # define dummy 'feature' data for OTUs, using their name Helps with\n",
    "    # extraction and relating to taxonomy later on.\n",
    "    TDF = AnnotatedDataFrame(data.frame(tax_table(physeq)))\n",
    "    #TDFTill = subset(TDF, rownames(TDF) %in% df.Till.r$OTU)\n",
    "    TDF$Rank9 = rownames(TDF)\n",
    "\n",
    "\n",
    "    # Create the metagenomeSeq object\n",
    "    MGS = newMRexperiment(counts = OTU, phenoData = ADF, featureData = TDF)\n",
    "    # Trigger metagenomeSeq to calculate its Cumulative Sum scaling factor.\n",
    "    MGS = cumNorm(MGS)\n",
    "    return(MGS)\n",
    "}\n",
    "\n",
    "MR = make_metagenomeSeq(physeq.Full)"
   ]
  },
  {
   "cell_type": "code",
   "execution_count": null,
   "metadata": {
    "collapsed": false,
    "scrolled": false
   },
   "outputs": [],
   "source": [
    "%%R\n",
    "str(MR)"
   ]
  },
  {
   "cell_type": "code",
   "execution_count": null,
   "metadata": {
    "collapsed": false
   },
   "outputs": [],
   "source": [
    "%%R\n",
    "TimeSeries = function(MR, feature) {  \n",
    "    \n",
    "    res = fitTimeSeries(obj = MR, lvl = 'Rank9', feature = feature, class = \"Planted\",\n",
    "                    id = \"Planted.Rep\", time = \"DAP_rel\", log = TRUE, B = 10)\n",
    "\n",
    "    return(res)\n",
    "}\n",
    "\n",
    "\n"
   ]
  },
  {
   "cell_type": "code",
   "execution_count": null,
   "metadata": {
    "collapsed": false
   },
   "outputs": [],
   "source": [
    "%%R\n",
    "N10 = sort(taxa_sums(physeq.Full),TRUE)[1:100] %>% names\n",
    "physeq.t10 <- prune_taxa(N10, physeq.Full)\n",
    "physeq.t10"
   ]
  },
  {
   "cell_type": "code",
   "execution_count": null,
   "metadata": {
    "collapsed": false
   },
   "outputs": [],
   "source": [
    "%%R\n",
    "tax_table(phy.merged) %>% head"
   ]
  },
  {
   "cell_type": "code",
   "execution_count": null,
   "metadata": {
    "collapsed": false,
    "scrolled": true
   },
   "outputs": [],
   "source": [
    "%%R\n",
    "tax_table(phy.merged) %>% as.matrix %>% as.data.frame %>% filter(rownames(.) == \"OTU.5548\" | rownames(.) == \"OTU.80\")"
   ]
  },
  {
   "cell_type": "code",
   "execution_count": null,
   "metadata": {
    "collapsed": false
   },
   "outputs": [],
   "source": [
    "%%R\n",
    "sample_data(test) %>% head"
   ]
  },
  {
   "cell_type": "code",
   "execution_count": null,
   "metadata": {
    "collapsed": false
   },
   "outputs": [],
   "source": [
    "%%R\n",
    "prune_taxa(c(\"OTU.93\"), physeq.Full) %>% plot_bar(x = \"Planted.Rep.DAP\")\n",
    "\n"
   ]
  },
  {
   "cell_type": "code",
   "execution_count": null,
   "metadata": {
    "collapsed": false
   },
   "outputs": [],
   "source": [
    "%%R\n",
    "prune_taxa(c(\"OTU.94\"), physeq.Full) %>% plot_bar(x = \"Planted.Rep.DAP\")"
   ]
  },
  {
   "cell_type": "code",
   "execution_count": null,
   "metadata": {
    "collapsed": false,
    "scrolled": true
   },
   "outputs": [],
   "source": [
    "%%R\n",
    "subset_taxa(physeq.Full, Rank2 == \"Chloroflexi\") %>% plot_tree()\n"
   ]
  },
  {
   "cell_type": "code",
   "execution_count": null,
   "metadata": {
    "collapsed": false
   },
   "outputs": [],
   "source": [
    "%%R\n",
    "plot_bar(Chlor, x = \"Rep\")"
   ]
  },
  {
   "cell_type": "code",
   "execution_count": null,
   "metadata": {
    "collapsed": false
   },
   "outputs": [],
   "source": [
    "%%R\n",
    "(MRcounts(MR)) %>% as.matrix()  %>% as.data.frame %>% filter(rownames(.) == feature[1] | rownames(.) == feature[5]) "
   ]
  },
  {
   "cell_type": "code",
   "execution_count": null,
   "metadata": {
    "collapsed": false
   },
   "outputs": [],
   "source": [
    "%%R\n",
    "# subset to 200 most abundant\n",
    "# this should be done on relative abundance data as\n",
    "\n",
    "OTU = as(otu_table(physeq.t10), \"matrix\")\n",
    "\n",
    "\n",
    "feature = rownames(OTU)\n",
    "str(feature)"
   ]
  },
  {
   "cell_type": "code",
   "execution_count": null,
   "metadata": {
    "collapsed": false
   },
   "outputs": [],
   "source": [
    "%%R\n"
   ]
  },
  {
   "cell_type": "code",
   "execution_count": null,
   "metadata": {
    "collapsed": false
   },
   "outputs": [],
   "source": [
    "%%R\n",
    "test = prune_taxa(feature[73:74], phy.merged)\n",
    "test %>% otu_table"
   ]
  },
  {
   "cell_type": "code",
   "execution_count": null,
   "metadata": {
    "collapsed": false
   },
   "outputs": [],
   "source": [
    "%%R\n",
    "#OTUs not found across all timepoints?\n",
    "test = OTU %>% apply(1,sum)\n",
    "range(test)"
   ]
  },
  {
   "cell_type": "code",
   "execution_count": null,
   "metadata": {
    "collapsed": false,
    "scrolled": true
   },
   "outputs": [],
   "source": [
    "%%R\n",
    "res1 = fitTimeSeries(obj = MR, lvl = 'Rank9', feature = feature[5], class = \"Planted\",\n",
    "                    id = \"Planted.Rep\", time = \"DAP\", log = TRUE, B = 10)"
   ]
  },
  {
   "cell_type": "code",
   "execution_count": null,
   "metadata": {
    "collapsed": false
   },
   "outputs": [],
   "source": [
    "%%R\n",
    "res2 = fitTimeSeries(obj = MR, lvl = 'Rank9', feature = feature[1], class = \"Planted\",\n",
    "                    id = \"Planted.Rep\", time = \"DAP\", log = TRUE, B = 10)"
   ]
  },
  {
   "cell_type": "code",
   "execution_count": null,
   "metadata": {
    "collapsed": false
   },
   "outputs": [],
   "source": [
    "%%R\n",
    "res1"
   ]
  },
  {
   "cell_type": "code",
   "execution_count": null,
   "metadata": {
    "collapsed": false
   },
   "outputs": [],
   "source": [
    "%%R\n",
    "res"
   ]
  },
  {
   "cell_type": "code",
   "execution_count": null,
   "metadata": {
    "collapsed": false
   },
   "outputs": [],
   "source": [
    "%%R\n",
    "?fitTimeSeries"
   ]
  },
  {
   "cell_type": "code",
   "execution_count": null,
   "metadata": {
    "collapsed": false
   },
   "outputs": [],
   "source": [
    "%%R\n",
    "# apply fit time series across features in row\n",
    "registerDoParallel(20)\n",
    "\n",
    "TS = llply(feature, \n",
    "          TimeSeries, \n",
    "          .parallel = TRUE,\n",
    "          MR = MR \n",
    "         )"
   ]
  },
  {
   "cell_type": "code",
   "execution_count": null,
   "metadata": {
    "collapsed": false
   },
   "outputs": [],
   "source": [
    "%%R\n",
    "names(TS) = feature"
   ]
  },
  {
   "cell_type": "code",
   "execution_count": null,
   "metadata": {
    "collapsed": false
   },
   "outputs": [],
   "source": [
    "%%R\n",
    "timeSeriesFits = sapply(TS,function(i){i[[1]]})[-grep(\"No\",TS)]"
   ]
  },
  {
   "cell_type": "code",
   "execution_count": null,
   "metadata": {
    "collapsed": false
   },
   "outputs": [],
   "source": [
    "%%R\n",
    "str(timeSeriesFits)"
   ]
  },
  {
   "cell_type": "code",
   "execution_count": null,
   "metadata": {
    "collapsed": false
   },
   "outputs": [],
   "source": [
    "%%R\n",
    "for(i in 1:length(timeSeriesFits)){\n",
    "    rownames(timeSeriesFits[[i]]) =\n",
    "    paste(\n",
    "    paste(names(timeSeriesFits)[i],\" interval\",sep=\"\"),\n",
    "    1:nrow(timeSeriesFits[[i]]),sep=\":\"\n",
    ")\n",
    "}"
   ]
  },
  {
   "cell_type": "code",
   "execution_count": null,
   "metadata": {
    "collapsed": false
   },
   "outputs": [],
   "source": [
    "%%R\n",
    "timeSeriesFits = as.data.frame(do.call(rbind, timeSeriesFits))\n",
    "\n",
    "\n",
    "#do.call(rbind,timeSeriesFits)"
   ]
  },
  {
   "cell_type": "code",
   "execution_count": null,
   "metadata": {
    "collapsed": true
   },
   "outputs": [],
   "source": [
    "%%R\n",
    "pvalues = timeSeriesFits[,\"p.value\"]\n",
    "adjPvalues = p.adjust(pvalues,\"bonferroni\")\n",
    "timeSeriesFits = cbind(timeSeriesFits,adjPvalues)\n",
    "head(timeSeriesFits)"
   ]
  },
  {
   "cell_type": "code",
   "execution_count": null,
   "metadata": {
    "collapsed": false
   },
   "outputs": [],
   "source": [
    "%%R\n",
    "write.csv(timeSeriesFits, 'data/timeSeries_OM_ITS.csv')"
   ]
  },
  {
   "cell_type": "code",
   "execution_count": null,
   "metadata": {
    "collapsed": false
   },
   "outputs": [],
   "source": [
    "%%R\n",
    "TSOM = read.csv('data/timeSeries_OM_ITS.csv')"
   ]
  },
  {
   "cell_type": "code",
   "execution_count": null,
   "metadata": {
    "collapsed": true
   },
   "outputs": [],
   "source": []
  },
  {
   "cell_type": "code",
   "execution_count": null,
   "metadata": {
    "collapsed": true
   },
   "outputs": [],
   "source": []
  },
  {
   "cell_type": "code",
   "execution_count": null,
   "metadata": {
    "collapsed": true
   },
   "outputs": [],
   "source": []
  },
  {
   "cell_type": "code",
   "execution_count": null,
   "metadata": {
    "collapsed": true
   },
   "outputs": [],
   "source": []
  },
  {
   "cell_type": "code",
   "execution_count": null,
   "metadata": {
    "collapsed": false
   },
   "outputs": [],
   "source": [
    "%%R\n",
    "# calculate weighted and unweighte uni-frac distances\n",
    "registerDoParallel(cores=28)\n",
    "bare.wunif.dist = distance(physeq.Rb, \n",
    "                      method = \"unifrac\", \n",
    "                      weighted = TRUE,\n",
    "                      fast = TRUE, \n",
    "                      parallel = TRUE, \n",
    "                      normalized = FALSE)\n",
    "\n",
    "bare.unif.dist = distance(physeq.Rb, \n",
    "                      method = \"unifrac\", \n",
    "                      weighted = FALSE,\n",
    "                      fast = TRUE, \n",
    "                      parallel = TRUE, \n",
    "                      normalized = FALSE)"
   ]
  },
  {
   "cell_type": "code",
   "execution_count": null,
   "metadata": {
    "collapsed": true
   },
   "outputs": [],
   "source": [
    "%%R -w 800 -h 350\n",
    "# Generate NMDS for \n",
    "sample_data(physeq.Rb)$DAP = factor(sample_data(physeq.Rb)$DAP)\n",
    "\n",
    "sample_data(physeq.Rb)$Rep = factor(sample_data(physeq.Rb)$Rep)\n",
    "\n",
    "nmds_w = ordinate(physeq.Rb, \n",
    "                method = \"NMDS\", \n",
    "                distance = bare.wunif.dist)\n",
    "\n",
    "nmds_u = ordinate(physeq.Rb, \n",
    "                method = \"NMDS\", \n",
    "                distance = bare.unif.dist)\n"
   ]
  },
  {
   "cell_type": "code",
   "execution_count": null,
   "metadata": {
    "collapsed": false,
    "hide_input": true,
    "scrolled": false
   },
   "outputs": [],
   "source": [
    "%%R -w 500 -h 600\n",
    "p = plot_ordination(physeq.Rb, nmds_w, justDF = TRUE)\n",
    "p_u = plot_ordination(physeq.Rb, nmds_u, justDF = TRUE)\n",
    "\n",
    "## generating plots\n",
    "p1 = ggplot(p, aes(x = NMDS1, y = NMDS2)) +\n",
    "        geom_point(aes(fill=DAP), pch = 21, size = 4) +\n",
    "        ggtitle(\"NMDS of weighted-unifrac distance \\n Bare Soil Samples\")\n",
    "        #scale_size(range=c(2,8))\n",
    "\n",
    "\n",
    "p2 = ggplot(p_u, aes(x = NMDS1, y = NMDS2)) +\n",
    "       geom_point(aes(fill=DAP), pch=21, size = 4) +\n",
    "        ggtitle(\"NMDS of unweighted-unifrac distance \\n Bare Soil Samples\")\n",
    "        #scale_size(range=c(2,8))\n",
    "\n",
    "grid.arrange(p1, p2, ncol=1)"
   ]
  },
  {
   "cell_type": "code",
   "execution_count": null,
   "metadata": {
    "collapsed": false,
    "scrolled": false
   },
   "outputs": [],
   "source": [
    "%%R\n",
    "set.seed(1)\n",
    "\n",
    "df = as(sample_data(physeq.Rb), \"data.frame\")\n",
    "\n",
    "#weighted unifrac\n",
    "d = bare.wunif.dist\n",
    "Bareadonis = adonis(formula = d ~ Library + Treatment + DAP, df, strata = df$Rep, permutations = 999)\n",
    "print(\"PERMANOVA of bare soil samples with w-unifrac\")\n",
    "Bareadonis %>% print\n",
    "\n",
    "#weighted unifrac\n",
    "d = bare.unif.dist\n",
    "Bareadonis = adonis(formula = d ~ Library + Treatment + DAP, df, strata = df$Rep, permutations = 999)\n",
    "print(\"PERMANOVA of bare soil samples with unifrac\")\n",
    "Bareadonis %>% print\n",
    "\n",
    "\n"
   ]
  },
  {
   "cell_type": "markdown",
   "metadata": {},
   "source": [
    "* MCC in bare soil samples change by date in both weighted and un-weighted unifrac estimates\n",
    "* Effect is robust to inclusion of library in permanova"
   ]
  },
  {
   "cell_type": "markdown",
   "metadata": {},
   "source": [
    "## Filter taxa to rhizosphere responders\n"
   ]
  },
  {
   "cell_type": "code",
   "execution_count": null,
   "metadata": {
    "collapsed": false
   },
   "outputs": [],
   "source": [
    "%%R -i respFile\n",
    "Responders = read.table(respFile, header = FALSE, sep = \"\\t\")\n",
    "colnames(Responders) = c(\"OTU\", \"Resp\")\n",
    "Responders = filter(Responders, Resp == 1, TRUE)"
   ]
  },
  {
   "cell_type": "code",
   "execution_count": null,
   "metadata": {
    "collapsed": false
   },
   "outputs": [],
   "source": [
    "%%R\n",
    "Rsel = as.character(Responders[,1])\n",
    "head(Rsel)"
   ]
  },
  {
   "cell_type": "code",
   "execution_count": null,
   "metadata": {
    "collapsed": false
   },
   "outputs": [],
   "source": [
    "%%R\n",
    "\n",
    "#re-order levels \n",
    "sample_data(physeq.Full)$Plant = relevel(sample_data(physeq.Full)$Plant, \"BARE\")\n",
    "\n",
    "#Set DAP as factor\n",
    "sample_data(physeq.Full)$DAP = factor(sample_data(physeq.Full)$DAP) \n",
    "sample_data(physeq.Full)$Rep = factor(sample_data(physeq.Full)$Rep) \n",
    "sample_data(physeq.Full)$DAP %>% levels %>% print\n",
    "\n",
    "#sample_data(physeq.Full)$PlantRep = interaction(sample_data(physeq.Full)$Rep, sample_data(physeq.Full)$Plant)\n"
   ]
  },
  {
   "cell_type": "code",
   "execution_count": null,
   "metadata": {
    "collapsed": false
   },
   "outputs": [],
   "source": [
    "%%R\n",
    "physeq.Resp = prune_taxa(Rsel, physeq.Full)\n",
    "physeq.Resp = subset_samples(physeq.Resp, Library == 1, TRUE)\n",
    "sample_data(physeq.Resp)$DAP %>% levels %>% print\n",
    "sample_data(physeq.Resp)$Plant %>% levels %>% print"
   ]
  },
  {
   "cell_type": "code",
   "execution_count": null,
   "metadata": {
    "collapsed": false
   },
   "outputs": [],
   "source": [
    "%%R\n",
    "## Create phyloseq object on subset of samples\n",
    "physeq.plant = subset_samples(physeq.Resp, Plant != \"BARE\")\n",
    "sample_data(physeq.plant)$PlantRep = interaction(sample_data(physeq.plant)$Rep, sample_data(physeq.plant)$Plant)"
   ]
  },
  {
   "cell_type": "code",
   "execution_count": null,
   "metadata": {
    "collapsed": false
   },
   "outputs": [],
   "source": [
    "%%R\n",
    "physeq.bare = subset_samples(physeq.Resp, Plant == \"BARE\")\n",
    "sample_data(physeq.bare)$DAPRep = interaction(sample_data(physeq.bare)$Rep, sample_data(physeq.bare)$DAP)\n",
    "physeq.bare"
   ]
  },
  {
   "cell_type": "markdown",
   "metadata": {},
   "source": [
    "# still need to try removing library 2"
   ]
  },
  {
   "cell_type": "markdown",
   "metadata": {},
   "source": [
    "# Create DESeq object and view results for Bare and Planted Seperately"
   ]
  },
  {
   "cell_type": "markdown",
   "metadata": {},
   "source": [
    "## Test for log2fold change by date from 72 as benchmark"
   ]
  },
  {
   "cell_type": "code",
   "execution_count": null,
   "metadata": {
    "collapsed": false,
    "scrolled": true
   },
   "outputs": [],
   "source": [
    "%%R\n",
    "dds = phyloseq_to_deseq2(physeq.bare, ~Rep + Treatment + DAP)\n",
    "d_dds = DESeq(dds, parallel = TRUE)\n",
    "#B.88 = results(d_dds, contrast = c(\"DAP\", \"72\", \"88\"))\n",
    "#B.84 = results(d_dds, contrast = c(\"DAP\", \"72\", \"84\"))\n",
    "B.79 = results(d_dds, contrast = c(\"DAP\", \"72\", \"79\"))\n",
    "B.61 = results(d_dds, contrast = c(\"DAP\", \"72\", \"61\"))\n",
    "B.57 = results(d_dds, contrast = c(\"DAP\", \"72\", \"57\"))\n",
    "B.53 = results(d_dds, contrast = c(\"DAP\", \"72\", \"53\"))\n",
    "B.36 = results(d_dds, contrast = c(\"DAP\", \"72\", \"36\"))\n"
   ]
  },
  {
   "cell_type": "code",
   "execution_count": null,
   "metadata": {
    "collapsed": false
   },
   "outputs": [],
   "source": [
    "%%R\n",
    "dds = phyloseq_to_deseq2(physeq.plant, ~Rep + Treatment + DAP)\n",
    "d_dds = DESeq(dds, parallel = TRUE)\n",
    "#R.88 = results(d_dds, contrast = c(\"DAP\", \"72\", \"88\"))\n",
    "#R.84 = results(d_dds, contrast = c(\"DAP\", \"72\", \"84\"))\n",
    "R.79 = results(d_dds, contrast = c(\"DAP\", \"72\", \"79\"))\n",
    "R.61 = results(d_dds, contrast = c(\"DAP\", \"72\", \"61\"))\n",
    "R.57 = results(d_dds, contrast = c(\"DAP\", \"72\", \"57\"))\n",
    "R.53 = results(d_dds, contrast = c(\"DAP\", \"72\", \"53\"))\n",
    "R.36 = results(d_dds, contrast = c(\"DAP\", \"72\", \"36\"))"
   ]
  },
  {
   "cell_type": "markdown",
   "metadata": {},
   "source": [
    "## Join tables and graph"
   ]
  },
  {
   "cell_type": "markdown",
   "metadata": {},
   "source": [
    "### Days"
   ]
  },
  {
   "cell_type": "code",
   "execution_count": null,
   "metadata": {
    "collapsed": false,
    "hide_input": true,
    "scrolled": true
   },
   "outputs": [],
   "source": [
    "%%R\n",
    "#join results tables in a single table\n",
    "R = R.36\n",
    "B = B.36\n",
    "colnames(R) = paste(\"Rhiz_\", colnames(R), sep =\"\")\n",
    "colnames(B) = paste(\"Bare_\", colnames(B), sep =\"\")\n",
    "R = as.data.frame(R[,c(1,2,5,6)])\n",
    "B= as.data.frame(B[,c(1,2,5,6)])\n",
    "R$OTU = row.names(R)\n",
    "B$OTU = row.names(B)\n",
    "Tbl = inner_join(B, R, by = \"OTU\")                                   \n",
    "\n",
    "# Graph\n",
    "Tbl.f = filter(Tbl, Rhiz_baseMean > 30 , TRUE)\n",
    "p.36 = ggplot(Tbl.f, aes(x = Bare_log2FoldChange, y = Rhiz_log2FoldChange)) +\n",
    "    geom_point()+\n",
    "    stat_smooth(method = \"lm\") +\n",
    "ggtitle(\"72 vs 36\")\n",
    "\n"
   ]
  },
  {
   "cell_type": "code",
   "execution_count": null,
   "metadata": {
    "collapsed": false
   },
   "outputs": [],
   "source": [
    "%%R\n",
    "#join results tables in a single table\n",
    "R = R.53\n",
    "B = B.53\n",
    "colnames(R) = paste(\"Rhiz_\", colnames(R), sep =\"\")\n",
    "colnames(B) = paste(\"Bare_\", colnames(B), sep =\"\")\n",
    "R = as.data.frame(R[,c(1,2,5,6)])\n",
    "B= as.data.frame(B[,c(1,2,5,6)])\n",
    "R$OTU = row.names(R)\n",
    "B$OTU = row.names(B)\n",
    "Tbl = inner_join(B, R, by = \"OTU\")                                   \n",
    "\n",
    "# Graph\n",
    "Tbl.f = filter(Tbl, Bare_baseMean > 20 , TRUE)\n",
    "p.53 = ggplot(Tbl.f, aes(x = Bare_log2FoldChange, y = Rhiz_log2FoldChange)) +\n",
    "    geom_point()+\n",
    "    stat_smooth(method = \"lm\") +\n",
    "    ggtitle(\"72 vs 53\")\n"
   ]
  },
  {
   "cell_type": "code",
   "execution_count": null,
   "metadata": {
    "collapsed": false
   },
   "outputs": [],
   "source": [
    "%%R\n",
    "#join results tables in a single table\n",
    "R = R.57\n",
    "B = B.57\n",
    "colnames(R) = paste(\"Rhiz_\", colnames(R), sep =\"\")\n",
    "colnames(B) = paste(\"Bare_\", colnames(B), sep =\"\")\n",
    "R = as.data.frame(R[,c(1,2,5,6)])\n",
    "B= as.data.frame(B[,c(1,2,5,6)])\n",
    "R$OTU = row.names(R)\n",
    "B$OTU = row.names(B)\n",
    "Tbl = inner_join(B, R, by = \"OTU\")                                   \n",
    "\n",
    "# Graph\n",
    "Tbl.f = filter(Tbl, Bare_baseMean > 20 , TRUE)\n",
    "p.57 = ggplot(Tbl.f, aes(x = Bare_log2FoldChange, y = Rhiz_log2FoldChange)) +\n",
    "    geom_point()+\n",
    "    stat_smooth(method = \"lm\") +\n",
    "    ggtitle(\"72 vs 57\")\n"
   ]
  },
  {
   "cell_type": "code",
   "execution_count": null,
   "metadata": {
    "collapsed": false,
    "hide_input": true
   },
   "outputs": [],
   "source": [
    "%%R\n",
    "#join results tables in a single table\n",
    "R = R.61\n",
    "B = B.61\n",
    "colnames(R) = paste(\"Rhiz_\", colnames(R), sep =\"\")\n",
    "colnames(B) = paste(\"Bare_\", colnames(B), sep =\"\")\n",
    "R = as.data.frame(R[,c(1,2,5,6)])\n",
    "B= as.data.frame(B[,c(1,2,5,6)])\n",
    "R$OTU = row.names(R)\n",
    "B$OTU = row.names(B)\n",
    "Tbl = inner_join(B, R, by = \"OTU\")                                   \n",
    "\n",
    "# Graph\n",
    "Tbl.f = filter(Tbl, Bare_baseMean > 20 , TRUE)\n",
    "p.61 = ggplot(Tbl.f, aes(x = Bare_log2FoldChange, y = Rhiz_log2FoldChange)) +\n",
    "    geom_point()+\n",
    "    stat_smooth(method = \"lm\") + \n",
    "    ggtitle(\"Day 72 vs 61\")\n"
   ]
  },
  {
   "cell_type": "code",
   "execution_count": null,
   "metadata": {
    "collapsed": false,
    "scrolled": true
   },
   "outputs": [],
   "source": [
    "%%R\n",
    "#join results tables in a single table\n",
    "R = R.79\n",
    "B = B.79\n",
    "colnames(R) = paste(\"Rhiz_\", colnames(R), sep =\"\")\n",
    "colnames(B) = paste(\"Bare_\", colnames(B), sep =\"\")\n",
    "R = as.data.frame(R[,c(1,2,5,6)])\n",
    "B= as.data.frame(B[,c(1,2,5,6)])\n",
    "R$OTU = row.names(R)\n",
    "B$OTU = row.names(B)\n",
    "Tbl = inner_join(B, R, by = \"OTU\")                                   \n",
    "\n",
    "# Graph\n",
    "Tbl.f = filter(Tbl, Bare_baseMean > 20 , TRUE)\n",
    "p.72 = ggplot(Tbl.f, aes(x = log(Bare_baseMean), y = log(Rhiz_baseMean))) +\n",
    "    geom_point()+\n",
    "    stat_smooth(method = \"lm\") +\n",
    "ggtitle(\"Day 72 vs 72\")\n"
   ]
  },
  {
   "cell_type": "code",
   "execution_count": null,
   "metadata": {
    "collapsed": false
   },
   "outputs": [],
   "source": [
    "%%R\n",
    "#join results tables in a single table\n",
    "R = R.79\n",
    "B = B.79\n",
    "colnames(R) = paste(\"Rhiz_\", colnames(R), sep =\"\")\n",
    "colnames(B) = paste(\"Bare_\", colnames(B), sep =\"\")\n",
    "R = as.data.frame(R[,c(1,2,5,6)])\n",
    "B= as.data.frame(B[,c(1,2,5,6)])\n",
    "R$OTU = row.names(R)\n",
    "B$OTU = row.names(B)\n",
    "Tbl = inner_join(B, R, by = \"OTU\")                                   \n",
    "\n",
    "# Graph\n",
    "Tbl.f = filter(Tbl, Bare_baseMean > 20 , TRUE)\n",
    "p.79 = ggplot(Tbl.f, aes(x = Bare_log2FoldChange, y = Rhiz_log2FoldChange)) +\n",
    "    geom_point()+\n",
    "    stat_smooth(method = \"lm\") +\n",
    "ggtitle(\"Day 72 vs 79\")\n"
   ]
  },
  {
   "cell_type": "code",
   "execution_count": null,
   "metadata": {
    "collapsed": false
   },
   "outputs": [],
   "source": [
    "%%R\n",
    "# #join results tables in a single table\n",
    "# R = R.84\n",
    "# B = B.84\n",
    "# colnames(R) = paste(\"Rhiz_\", colnames(R), sep =\"\")\n",
    "# colnames(B) = paste(\"Bare_\", colnames(B), sep =\"\")\n",
    "# R = as.data.frame(R[,c(1,2,5,6)])\n",
    "# B= as.data.frame(B[,c(1,2,5,6)])\n",
    "# R$OTU = row.names(R)\n",
    "# B$OTU = row.names(B)\n",
    "# Tbl = inner_join(B, R, by = \"OTU\")                                   \n",
    "\n",
    "# # Graph\n",
    "# Tbl.f = filter(Tbl, Bare_baseMean > 2 , TRUE)\n",
    "# p.84 = ggplot(Tbl.f, aes(x = Bare_log2FoldChange, y = Rhiz_log2FoldChange)) +\n",
    "#     geom_point()+\n",
    "#     stat_smooth(method = \"lm\") +\n",
    "#     ggtitle(\"Day 72 vs 84 \\n Warning Different Libraries\")\n"
   ]
  },
  {
   "cell_type": "code",
   "execution_count": null,
   "metadata": {
    "collapsed": false
   },
   "outputs": [],
   "source": [
    "%%R\n",
    "# #join results tables in a single table\n",
    "# R = R.88\n",
    "# B = B.88\n",
    "# colnames(R) = paste(\"Rhiz_\", colnames(R), sep =\"\")\n",
    "# colnames(B) = paste(\"Bare_\", colnames(B), sep =\"\")\n",
    "# R = as.data.frame(R[,c(1,2,5,6)])\n",
    "# B= as.data.frame(B[,c(1,2,5,6)])\n",
    "# R$OTU = row.names(R)\n",
    "# B$OTU = row.names(B)\n",
    "# Tbl = inner_join(B, R, by = \"OTU\")                                   \n",
    "\n",
    "# # Graph\n",
    "# Tbl.f = filter(Tbl, Bare_baseMean > 2 , TRUE)\n",
    "# p.88 = ggplot(Tbl.f, aes(x = Bare_log2FoldChange, y = Rhiz_log2FoldChange)) +\n",
    "#     geom_point()+\n",
    "#     stat_smooth(method = \"lm\") +\n",
    "#     theme(legend.position = \"none\") +\n",
    "#     ggtitle(\"Day 72 vs 88 \\n Warning Different Libraries\")\n"
   ]
  },
  {
   "cell_type": "code",
   "execution_count": null,
   "metadata": {
    "collapsed": false,
    "scrolled": false
   },
   "outputs": [],
   "source": [
    "%%R -w 900 -h 900\n",
    "grid.arrange(p.36, p.53, p.57, p.61, p.72, p.79, ncol = 3)"
   ]
  },
  {
   "cell_type": "markdown",
   "metadata": {},
   "source": [
    "## Use responders to create a heatmap"
   ]
  },
  {
   "cell_type": "code",
   "execution_count": null,
   "metadata": {
    "collapsed": false
   },
   "outputs": [],
   "source": [
    "%%R\n",
    "sample_data(physeq.Resp) %>% colnames"
   ]
  },
  {
   "cell_type": "code",
   "execution_count": null,
   "metadata": {
    "collapsed": false
   },
   "outputs": [],
   "source": [
    "%%R\n",
    "gpt <- prune_taxa(names(sort(taxa_sums(physeq.Resp),TRUE)[1:300]), physeq.Resp)\n",
    "plot_heatmap(gpt, sample.label=\"PlantSample\")\n",
    "plot_heatmap(gpt)"
   ]
  }
 ],
 "metadata": {
  "hide_input": true,
  "kernelspec": {
   "display_name": "Python 2",
   "language": "python",
   "name": "python2"
  },
  "language_info": {
   "codemirror_mode": {
    "name": "ipython",
    "version": 2
   },
   "file_extension": ".py",
   "mimetype": "text/x-python",
   "name": "python",
   "nbconvert_exporter": "python",
   "pygments_lexer": "ipython2",
   "version": "2.7.11"
  }
 },
 "nbformat": 4,
 "nbformat_minor": 0
}
