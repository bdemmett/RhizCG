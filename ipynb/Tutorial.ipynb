{
 "cells": [
  {
   "cell_type": "markdown",
   "metadata": {},
   "source": [
    "# Getting started:\n",
    "\n",
    "To get started with Jupyter & IPython, check out:\n",
    "\n",
    "* http://ipython.org/\n",
    "* http://nbviewer.ipython.org/github/ipython/ipython/blob/master/examples/Index.ipynb\n",
    "* https://github.com/ipython/ipython/wiki/A-gallery-of-interesting-IPython-Notebooks\n",
    "* http://ipython.org/ipython-doc/3/notebook/index.html"
   ]
  },
  {
   "cell_type": "code",
   "execution_count": null,
   "metadata": {
    "collapsed": true
   },
   "outputs": [],
   "source": []
  }
 ],
 "metadata": {
  "kernelspec": {
   "display_name": "Python 2",
   "language": "python",
   "name": "python2"
  },
  "language_info": {
   "codemirror_mode": {
    "name": "ipython",
    "version": 2
   },
   "file_extension": ".py",
   "mimetype": "text/x-python",
   "name": "python",
   "nbconvert_exporter": "python",
   "pygments_lexer": "ipython2",
   "version": "2.7.9"
  }
 },
 "nbformat": 4,
 "nbformat_minor": 0
}
